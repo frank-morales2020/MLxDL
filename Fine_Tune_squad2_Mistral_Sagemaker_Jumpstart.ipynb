{
  "cells": [
    {
      "cell_type": "markdown",
      "metadata": {
        "id": "view-in-github",
        "colab_type": "text"
      },
      "source": [
        "<a href=\"https://colab.research.google.com/github/frank-morales2020/MLxDL/blob/main/Fine_Tune_squad2_Mistral_Sagemaker_Jumpstart.ipynb\" target=\"_parent\"><img src=\"https://colab.research.google.com/assets/colab-badge.svg\" alt=\"Open In Colab\"/></a>"
      ]
    },
    {
      "cell_type": "code",
      "execution_count": null,
      "metadata": {
        "id": "kaWcS7jcG5VF"
      },
      "outputs": [],
      "source": [
        "!pip install colab-env --quiet\n",
        "#!pip install ipywidgets==7.0.0 --quiet\n",
        "!pip install sagemaker boto3 --quiet\n",
        "\n",
        "#%pip install langchain==0.0.309 --quiet --root-user-action=ignore\n",
        "%pip install langchain --quiet"
      ],
      "id": "kaWcS7jcG5VF"
    },
    {
      "cell_type": "code",
      "source": [
        "import boto3\n",
        "import colab_env\n",
        "import os\n",
        "import sagemaker\n",
        "from sagemaker.jumpstart.model import JumpStartModel"
      ],
      "metadata": {
        "id": "xpeSeSVRMTfA"
      },
      "id": "xpeSeSVRMTfA",
      "execution_count": null,
      "outputs": []
    },
    {
      "cell_type": "code",
      "source": [
        "import sagemaker\n",
        "from sagemaker.analytics import TrainingJobAnalytics\n",
        "import pandas as pd\n",
        "from sagemaker.jumpstart.estimator import JumpStartEstimator\n",
        "import boto3\n",
        "import os"
      ],
      "metadata": {
        "id": "PXCirNVaR1Xp"
      },
      "id": "PXCirNVaR1Xp",
      "execution_count": 7,
      "outputs": []
    },
    {
      "cell_type": "code",
      "execution_count": null,
      "metadata": {
        "id": "rLnB2skfqjY8"
      },
      "outputs": [],
      "source": [
        "aws_access_key_id=os.getenv(\"AWS_ACCESS_KEY_ID\")\n",
        "aws_secret_access_key=os.getenv(\"AWS_SECRET_ACCESS_KEY\")\n",
        "region=os.getenv(\"AWS_DEFAULT_REGION\")\n",
        "output=os.getenv(\"AWS_DEFAULT_OUTPUT\")"
      ],
      "id": "rLnB2skfqjY8"
    },
    {
      "cell_type": "markdown",
      "source": [
        "## Inference (EXAMPLES)"
      ],
      "metadata": {
        "id": "pj3OykxTlxz7"
      },
      "id": "pj3OykxTlxz7"
    },
    {
      "cell_type": "code",
      "execution_count": null,
      "metadata": {
        "id": "85a2a8e5-789f-4041-9927-221257126653"
      },
      "outputs": [],
      "source": [
        "model_id = \"huggingface-llm-mixtral-8x7b\"\n",
        "model_version = \"*\"\n",
        "\n",
        "import sagemaker\n",
        "from sagemaker.jumpstart.model import JumpStartModel\n",
        "\n",
        "iam_client = boto3.client(\"iam\")\n",
        "\n",
        "role = iam_client.get_role(\n",
        "    RoleName=os.getenv(\"ROLENAME\")\n",
        ")\n",
        "\n",
        "ROLE_ARN = role['Role']['Arn']\n",
        "\n",
        "%%time\n",
        "from sagemaker.jumpstart.model import JumpStartModel\n",
        "\n",
        "my_model = JumpStartModel(model_id=model_id, model_version=model_version, role=ROLE_ARN, region=region)\n",
        "\n",
        "predictor = my_model.deploy()"
      ],
      "id": "85a2a8e5-789f-4041-9927-221257126653"
    },
    {
      "cell_type": "code",
      "execution_count": null,
      "metadata": {
        "colab": {
          "base_uri": "https://localhost:8080/"
        },
        "id": "c1a55aa5-f2ad-4db8-9718-b76f969cffbe",
        "outputId": "3d4cd7f7-8830-4b27-fc29-52a11d6c92c7"
      },
      "outputs": [
        {
          "output_type": "stream",
          "name": "stdout",
          "text": [
            "\n",
            "\n",
            "Amazon SageMaker is a managed service for developers and data scientists to build, train and deploy machine learning models. It removes the heavy lifting from each step of the machine learning process to make it easier to develop high quality models. Amazon SageMaker enables developers and data scientists to easily connect to their data, use popular libraries to explore their data, train and tune models, and then seamlessly deploy these models with a single click.\n",
            "\n",
            "Why should I consider using Amazon SageMaker?\n",
            "\n",
            "Building a machine learning model today can be a complex process, requiring many different technologies and tools. Amazon SageMaker has machine learning capabilities built in and is designed to make it easier and faster to build machine learning models. Amazon SageMaker takes care of the heavy lifting required to build, train, and deploy your machine learning models, so you can focus on your business.\n",
            "\n",
            "How does Amazon SageMaker help me build machine learning models?\n",
            "\n",
            "Amazon SageMaker includes a number of tools to make it easy to build machine learning models. Jupyter Notebooks make it easy for you to explore and visualize your data and then create and iterate on models. Amazon SageMaker Automatic Model Tuning makes it easy to optimize the hyperparameters of your models. You can also use Amazon SageMaker Autopilot to build a model with no machine learning experience.\n",
            "\n",
            "How does Amazon SageMaker help me train machine learning models?\n",
            "\n",
            "Amazon SageMaker includes a number of tools to make it easy to train machine learning models. You can train your model on large datasets in the cloud or on-premises. Amazon SageMaker integrates with Amazon EMR and Apache Spark to make it easy to run distributed training jobs. You can train your model using the built-in algorithms or use your own algorithms. Amazon SageMaker also includes Amazon SageMaker Debugger which helps you debug your training jobs.\n",
            "\n",
            "How does Amazon SageMaker help me deploy machine learning models?\n",
            "\n",
            "Amazon SageMaker includes a number of tools to make it easy to deploy machine learning models. You can deploy your model to production with a single click. Amazon SageMaker also provides a managed service for hosting your models. You can also use Amazon SageMaker Model Monitor to monitor your models for data and model drift.\n",
            "\n",
            "How does Amazon SageMaker help me build machine learning models?\n",
            "\n",
            "Amazon SageMaker includes a number of tools to make it easy to build machine learning models. Jupyter Notebooks make it easy for you to explore and visualize your data and then create and iterate on models. Amazon SageMaker Automatic Model Tuning makes it easy to optimize the hyperparameters of your models. You can also use Amazon SageMaker Autopilot to build a model with no machine learning experience.\n",
            "\n",
            "How does Amazon SageMaker help me train machine learning models?\n",
            "\n",
            "Amazon SageMaker includes a number of tools to make it easy to train machine learning models. You can train your model on large datasets in the cloud or on-premises. Amazon SageMaker integrates with Amazon EMR and Apache Spark to make it easy to run distributed training jobs. You can train your model using the built-in algorithms or use your own algorithms. Amazon SageMaker also includes Amazon SageMaker Debugger which helps you debug your training jobs.\n",
            "\n",
            "How does Amazon SageMaker help me deploy machine learning models?\n",
            "\n",
            "Amazon SageMaker includes a number of tools to make it easy to deploy machine learning models. You can deploy your model to production with a single click. Amazon SageMaker also provides a managed service for hosting your models. You can also use Amazon SageMaker Model Monitor to monitor your models for data and model drift.\n",
            "\n",
            "How does Amazon SageMaker help me build machine learning models?\n",
            "\n",
            "Amazon SageMaker includes a number of tools to make it easy to build machine learning models. Jupyter Notebooks make it easy for you to explore and visualize your data and then create and iterate on models. Amazon SageMaker Automatic Model Tuning makes it easy to optimize the hyperparameters of your models. You can also use Amazon SageMaker Autopilot to build a model with no machine learning experience.\n",
            "\n",
            "How does Amazon SageMaker help me train machine learning models?\n",
            "\n",
            "Amazon SageMaker includes a number of tools to make it easy to train machine learning models. You can train your model on large datasets in the cloud or on-premises. Amazon SageMaker integrates with Amazon EMR and Apache Spark to make it easy to run distributed training jobs. You\n",
            "CPU times: user 149 ms, sys: 10.2 ms, total: 159 ms\n",
            "Wall time: 32.7 s\n"
          ]
        }
      ],
      "source": [
        "%%time\n",
        "prompt = \"Tell me about Amazon SageMaker.\"\n",
        "\n",
        "payload = {\n",
        "    \"inputs\": prompt,\n",
        "    \"parameters\": {\n",
        "        \"do_sample\": True,\n",
        "        \"top_p\": 0.9,\n",
        "        \"temperature\": 0.8,\n",
        "        \"max_new_tokens\": 1024,\n",
        "        \"stop\": [\"<|endoftext|>\", \"</s>\"]\n",
        "    }\n",
        "}\n",
        "\n",
        "response = predictor.predict(payload)\n",
        "print(response[0][\"generated_text\"])"
      ],
      "id": "c1a55aa5-f2ad-4db8-9718-b76f969cffbe"
    },
    {
      "cell_type": "code",
      "execution_count": null,
      "metadata": {
        "id": "719560fd-c9b2-4d4c-a7de-914b8aa72557"
      },
      "outputs": [],
      "source": [
        "def query_endpoint(payload):\n",
        "    \"\"\"Query endpoint and print the response\"\"\"\n",
        "    response = predictor.predict(payload)\n",
        "    print(f\"\\033[1m Input:\\033[0m {payload['inputs']}\")\n",
        "    print(f\"\\033[1m Output:\\033[0m {response[0]['generated_text']}\")"
      ],
      "id": "719560fd-c9b2-4d4c-a7de-914b8aa72557"
    },
    {
      "cell_type": "code",
      "execution_count": null,
      "metadata": {
        "colab": {
          "base_uri": "https://localhost:8080/"
        },
        "id": "009490f0-fb8a-4d92-b2ad-85e53223922a",
        "outputId": "0fe0bf46-d748-4617-ada8-8a6addeb52af"
      },
      "outputs": [
        {
          "output_type": "stream",
          "name": "stdout",
          "text": [
            "\u001b[1m Input:\u001b[0m Write a program to compute factorial in python:\n",
            "\u001b[1m Output:\u001b[0m \n",
            "\n",
            "```\n",
            "#!/usr/bin/python\n",
            "\n",
            "def factorial(n):\n",
            "    if n == 0:\n",
            "        return 1\n",
            "    else:\n",
            "        return n * factorial(n-1)\n",
            "\n",
            "print(factorial(5))\n",
            "```\n",
            "\n",
            "Output:\n",
            "\n",
            "```\n",
            "120\n",
            "```\n",
            "\n",
            "## Explanation\n",
            "\n",
            "The factorial of a number is the product of all positive integers less than or equal to that number. For example, the factorial of 5 is 5 * 4 * 3 * 2 * 1, which is 120.\n",
            "\n",
            "In this program, we define a function called factorial that takes a single argument n. If n is 0, we return 1. Otherwise, we return n multiplied by the factorial of n-1.\n",
            "\n",
            "We then call the factorial function with the argument 5\n"
          ]
        }
      ],
      "source": [
        "# Code generation\n",
        "payload = {\"inputs\": \"Write a program to compute factorial in python:\", \"parameters\":{\"max_new_tokens\": 200}}\n",
        "query_endpoint(payload)"
      ],
      "id": "009490f0-fb8a-4d92-b2ad-85e53223922a"
    },
    {
      "cell_type": "code",
      "execution_count": null,
      "metadata": {
        "colab": {
          "base_uri": "https://localhost:8080/"
        },
        "id": "7816dd22-fd8f-4374-ba9d-a62b941ebb16",
        "outputId": "6a5bd404-b6ad-4151-a355-ae8fd7de75c5"
      },
      "outputs": [
        {
          "output_type": "stream",
          "name": "stdout",
          "text": [
            "\u001b[1m Input:\u001b[0m Building a website can be done in 10 simple steps:\n",
            "\u001b[1m Output:\u001b[0m \n",
            "\n",
            "1. Choose a domain name\n",
            "2. Choose a web hosting company\n",
            "3. Choose a website builder\n",
            "4. Choose a template\n",
            "5. Add your content\n",
            "6. Add your images\n",
            "7. Add your videos\n",
            "8. Add your social media links\n",
            "9. Add your contact information\n",
            "10. Publish your website\n",
            "\n",
            "## 1. Choose a domain name\n",
            "\n",
            "The first step in building a website is to choose a domain name. This is the address that people will use to find your website. It should\n"
          ]
        }
      ],
      "source": [
        "payload = {\n",
        "    \"inputs\": \"Building a website can be done in 10 simple steps:\",\n",
        "    \"parameters\":{\n",
        "        \"max_new_tokens\": 110,\n",
        "        \"no_repeat_ngram_size\": 3\n",
        "        }\n",
        "}\n",
        "query_endpoint(payload)"
      ],
      "id": "7816dd22-fd8f-4374-ba9d-a62b941ebb16"
    },
    {
      "cell_type": "code",
      "execution_count": null,
      "metadata": {
        "colab": {
          "base_uri": "https://localhost:8080/"
        },
        "id": "c4aac6cc-d282-428a-b334-5dcdd505e480",
        "outputId": "40325fd2-476b-4f0b-b110-57bfe75e891f"
      },
      "outputs": [
        {
          "output_type": "stream",
          "name": "stdout",
          "text": [
            "\u001b[1m Input:\u001b[0m Translate English to French:\n",
            "\n",
            "    sea otter => loutre de mer\n",
            "\n",
            "    peppermint => menthe poivrée\n",
            "\n",
            "    plush girafe => girafe peluche\n",
            "\n",
            "    cheese =>\n",
            "\u001b[1m Output:\u001b[0m  fromage\n",
            "\n"
          ]
        }
      ],
      "source": [
        "# Translation\n",
        "payload = {\n",
        "    \"inputs\": \"\"\"Translate English to French:\n",
        "\n",
        "    sea otter => loutre de mer\n",
        "\n",
        "    peppermint => menthe poivrée\n",
        "\n",
        "    plush girafe => girafe peluche\n",
        "\n",
        "    cheese =>\"\"\",\n",
        "    \"parameters\":{\n",
        "        \"max_new_tokens\": 3\n",
        "    }\n",
        "}\n",
        "\n",
        "query_endpoint(payload)"
      ],
      "id": "c4aac6cc-d282-428a-b334-5dcdd505e480"
    },
    {
      "cell_type": "code",
      "execution_count": null,
      "metadata": {
        "colab": {
          "base_uri": "https://localhost:8080/"
        },
        "id": "117b6645-56c5-4f0d-bbab-75bae8955943",
        "outputId": "b3393563-4f29-4bc4-8834-624d0d9f35f8"
      },
      "outputs": [
        {
          "output_type": "stream",
          "name": "stdout",
          "text": [
            "\u001b[1m Input:\u001b[0m \"I hate it when my phone battery dies.\"\n",
            "                Sentiment: Negative\n",
            "                ###\n",
            "                Tweet: \"My day has been :+1:\"\n",
            "                Sentiment: Positive\n",
            "                ###\n",
            "                Tweet: \"This is the link to the article\"\n",
            "                Sentiment: Neutral\n",
            "                ###\n",
            "                Tweet: \"This new music video was incredibile\"\n",
            "                Sentiment:\n",
            "\u001b[1m Output:\u001b[0m  Positive\n"
          ]
        }
      ],
      "source": [
        "# Sentiment-analysis\n",
        "payload = {\n",
        "    \"inputs\": \"\"\"\"I hate it when my phone battery dies.\"\n",
        "                Sentiment: Negative\n",
        "                ###\n",
        "                Tweet: \"My day has been :+1:\"\n",
        "                Sentiment: Positive\n",
        "                ###\n",
        "                Tweet: \"This is the link to the article\"\n",
        "                Sentiment: Neutral\n",
        "                ###\n",
        "                Tweet: \"This new music video was incredibile\"\n",
        "                Sentiment:\"\"\",\n",
        "    \"parameters\": {\n",
        "        \"max_new_tokens\":2\n",
        "    }\n",
        "}\n",
        "query_endpoint(payload)"
      ],
      "id": "117b6645-56c5-4f0d-bbab-75bae8955943"
    },
    {
      "cell_type": "code",
      "execution_count": null,
      "metadata": {
        "colab": {
          "base_uri": "https://localhost:8080/"
        },
        "id": "4594ede3-1272-4e56-8926-ccaf9e66f314",
        "outputId": "875343b5-45bf-484d-8973-ba370d18e8b4"
      },
      "outputs": [
        {
          "output_type": "stream",
          "name": "stdout",
          "text": [
            "\u001b[1m Input:\u001b[0m Could you remind me when was the C programming language invented?\n",
            "\u001b[1m Output:\u001b[0m \n",
            "\n",
            "C was invented in 1972 by Dennis Ritchie at Bell Labs.\n",
            "\n",
            "C is a general-purpose programming language. It was invented to write the UNIX operating system.\n",
            "\n",
            "C is a structured\n"
          ]
        }
      ],
      "source": [
        "# Question answering\n",
        "payload = {\n",
        "    \"inputs\": \"Could you remind me when was the C programming language invented?\",\n",
        "    \"parameters\":{\n",
        "        \"max_new_tokens\": 50\n",
        "    }\n",
        "}\n",
        "query_endpoint(payload)"
      ],
      "id": "4594ede3-1272-4e56-8926-ccaf9e66f314"
    },
    {
      "cell_type": "code",
      "execution_count": null,
      "metadata": {
        "colab": {
          "base_uri": "https://localhost:8080/"
        },
        "id": "fa8d82be-3c33-47c8-b0d7-d8675484b1d7",
        "outputId": "f9a070ca-24e3-4a3a-f99e-c56809b0db6c"
      },
      "outputs": [
        {
          "output_type": "stream",
          "name": "stdout",
          "text": [
            "\u001b[1m Input:\u001b[0m What is the recipe for a delicious lemon cheesecake?\n",
            "\u001b[1m Output:\u001b[0m \n",
            "\n",
            "- Instructions Preheat the oven to 350 degrees Fahrenheit (175 degrees C). In a medium mixing bowl, combine the graham cracker crumbs, 1/4 cup sugar, and melted butter. Mix thoroughly. Bake for 10 minutes in the preheated oven, or until the edges are barely beginning to brown. Allow to cool fully before serving.\n",
            "\n",
            "## How do you make a cheesecake from scratch?\n",
            "\n",
            "Ingredients\n",
            "\n",
            "1. 1 1/2 cups graham cracker crumbs\n",
            "2. 1/3 cup melted butter\n",
            "3. 1/4 cup sugar\n",
            "4. 3 (8 ounce) packages cream cheese\n",
            "5. 1 cup sugar\n",
            "6. 3 eggs\n",
            "7. 1 cup sour cream\n",
            "8. 1 teaspoon vanilla extract\n",
            "\n",
            "## How do you make a cheesecake from scratch without a springform pan?\n",
            "\n",
            "If you don’t have a springform pan, you may use a regular cake pan instead.\n",
            "\n",
            "1. Prepare the cake pan by lining it with parchment paper.\n",
            "2. Prepare the cake pan by lining it with parchment paper.\n",
            "3. Prepare the cake pan by lining it with parchment paper.\n",
            "4. Prepare the cake pan by lining it with parchment paper.\n",
            "5. Prepare the cake pan by lining it with parchment paper.\n",
            "\n",
            "## How do you make a cheesecake from scratch without a water bath?\n",
            "\n",
            "How to Make a Cheesecake Without Using a Water Bath\n",
            "\n",
            "1. Preheat the oven to 325 degrees Fahrenheit. Using a springform pan, line the bottom with parchment paper and grease the sides. Wrap the outside of\n"
          ]
        }
      ],
      "source": [
        "# Recipe generation\n",
        "payload = {\"inputs\": \"What is the recipe for a delicious lemon cheesecake?\", \"parameters\":{\"max_new_tokens\": 400}}\n",
        "query_endpoint(payload)"
      ],
      "id": "fa8d82be-3c33-47c8-b0d7-d8675484b1d7"
    },
    {
      "cell_type": "code",
      "execution_count": null,
      "metadata": {
        "colab": {
          "base_uri": "https://localhost:8080/"
        },
        "id": "d4f125c1-eae1-45ad-a065-651d9e13dfa8",
        "outputId": "616faf62-983d-4f66-acdb-1479232aff52"
      },
      "outputs": [
        {
          "output_type": "stream",
          "name": "stdout",
          "text": [
            "\u001b[1m Input:\u001b[0m Starting today, the state-of-the-art Falcon 40B foundation model from Technology\n",
            "    Innovation Institute (TII) is available on Amazon SageMaker JumpStart, SageMaker's machine learning (ML) hub\n",
            "    that offers pre-trained models, built-in algorithms, and pre-built solution templates to help you quickly get\n",
            "    started with ML. You can deploy and use this Falcon LLM with a few clicks in SageMaker Studio or\n",
            "    programmatically through the SageMaker Python SDK.\n",
            "    Falcon 40B is a 40-billion-parameter large language model (LLM) available under the Apache 2.0 license that\n",
            "    ranked #1 in Hugging Face Open LLM leaderboard, which tracks, ranks, and evaluates LLMs across multiple\n",
            "    benchmarks to identify top performing models. Since its release in May 2023, Falcon 40B has demonstrated\n",
            "    exceptional performance without specialized fine-tuning. To make it easier for customers to access this\n",
            "    state-of-the-art model, AWS has made Falcon 40B available to customers via Amazon SageMaker JumpStart.\n",
            "    Now customers can quickly and easily deploy their own Falcon 40B model and customize it to fit their specific\n",
            "    needs for applications such as translation, question answering, and summarizing information.\n",
            "    Falcon 40B are generally available today through Amazon SageMaker JumpStart in US East (Ohio),\n",
            "    US East (N. Virginia), US West (Oregon), Asia Pacific (Tokyo), Asia Pacific (Seoul), Asia Pacific (Mumbai),\n",
            "    Europe (London), Europe (Frankfurt), Europe (Ireland), and Canada (Central),\n",
            "    with availability in additional AWS Regions coming soon. To learn how to use this new feature,\n",
            "    please see SageMaker JumpStart documentation, the Introduction to SageMaker JumpStart –\n",
            "    Text Generation with Falcon LLMs example notebook, and the blog Technology Innovation Institute trainsthe\n",
            "    state-of-the-art Falcon LLM 40B foundation model on Amazon SageMaker. Summarize the article above:\n",
            "\u001b[1m Output:\u001b[0m \n",
            "    Falcon 40B is a state-of-the-art LLM that is now available on Amazon SageMaker JumpStart.\n",
            "    Customers can deploy and customize the model for applications such as translation, question answering,\n",
            "    and summarizing information. Falcon 40B is generally available in multiple AWS Regions, with more coming\n",
            "    soon.\n",
            "\n",
            "    # Falcon 40B is a state-of-the-art LLM that is now available on Amazon SageMaker JumpStart.\n",
            "    # Customers can deploy and customize the model for applications such as translation, question answering,\n",
            "    # and summarizing information.\n",
            "    # Falcon 40B is generally available in multiple AWS Regions, with more coming soon.\n",
            "\n",
            "    # Falcon 40B is a state-of-the-art LLM that is now available on Amazon SageMaker\n"
          ]
        }
      ],
      "source": [
        "# Summarization\n",
        "\n",
        "payload = {\n",
        "    \"inputs\":\"\"\"Starting today, the state-of-the-art Falcon 40B foundation model from Technology\n",
        "    Innovation Institute (TII) is available on Amazon SageMaker JumpStart, SageMaker's machine learning (ML) hub\n",
        "    that offers pre-trained models, built-in algorithms, and pre-built solution templates to help you quickly get\n",
        "    started with ML. You can deploy and use this Falcon LLM with a few clicks in SageMaker Studio or\n",
        "    programmatically through the SageMaker Python SDK.\n",
        "    Falcon 40B is a 40-billion-parameter large language model (LLM) available under the Apache 2.0 license that\n",
        "    ranked #1 in Hugging Face Open LLM leaderboard, which tracks, ranks, and evaluates LLMs across multiple\n",
        "    benchmarks to identify top performing models. Since its release in May 2023, Falcon 40B has demonstrated\n",
        "    exceptional performance without specialized fine-tuning. To make it easier for customers to access this\n",
        "    state-of-the-art model, AWS has made Falcon 40B available to customers via Amazon SageMaker JumpStart.\n",
        "    Now customers can quickly and easily deploy their own Falcon 40B model and customize it to fit their specific\n",
        "    needs for applications such as translation, question answering, and summarizing information.\n",
        "    Falcon 40B are generally available today through Amazon SageMaker JumpStart in US East (Ohio),\n",
        "    US East (N. Virginia), US West (Oregon), Asia Pacific (Tokyo), Asia Pacific (Seoul), Asia Pacific (Mumbai),\n",
        "    Europe (London), Europe (Frankfurt), Europe (Ireland), and Canada (Central),\n",
        "    with availability in additional AWS Regions coming soon. To learn how to use this new feature,\n",
        "    please see SageMaker JumpStart documentation, the Introduction to SageMaker JumpStart –\n",
        "    Text Generation with Falcon LLMs example notebook, and the blog Technology Innovation Institute trainsthe\n",
        "    state-of-the-art Falcon LLM 40B foundation model on Amazon SageMaker. Summarize the article above:\"\"\",\n",
        "    \"parameters\":{\n",
        "        \"max_new_tokens\":200\n",
        "        }\n",
        "    }\n",
        "query_endpoint(payload)"
      ],
      "id": "d4f125c1-eae1-45ad-a065-651d9e13dfa8"
    },
    {
      "cell_type": "markdown",
      "metadata": {
        "id": "aba27120-e9ca-4408-b0f0-80ef5a1a5531"
      },
      "source": [
        "## Preparing training data\n",
        "We will use a subset of SQuAD2.0 for supervised fine-tuning. This dataset contains questions posed by human annotators on a set of Wikipedia articles. In addition to questions with answers, SQuAD2.0 contains about 50k unanswerable questions. Such questions are plausible, but cannot be directly answered from the articles' content. We only use unanswerable questions for our task.\n",
        "\n",
        "Citation: @article{rajpurkar2018know, title={Know what you don't know: Unanswerable questions for SQuAD}, author={Rajpurkar, Pranav and Jia, Robin and Liang, Percy}, journal={arXiv preprint arXiv:1806.03822}, year={2018} }\n",
        "\n",
        "License: Creative Commons Attribution-ShareAlike License (CC BY-SA 4.0)"
      ],
      "id": "aba27120-e9ca-4408-b0f0-80ef5a1a5531"
    },
    {
      "cell_type": "code",
      "execution_count": 81,
      "metadata": {
        "id": "K3BCR0SuwK52"
      },
      "outputs": [],
      "source": [
        "import colab_env\n",
        "import boto3\n",
        "import os\n",
        "import sagemaker\n",
        "from sagemaker.jumpstart.model import JumpStartModel\n",
        "\n",
        "iam = boto3.client(\"iam\")\n",
        "\n",
        "role = iam.get_role(\n",
        "    RoleName=os.getenv(\"ROLENAME\")\n",
        ")\n",
        "\n",
        "ROLE_ARN = role['Role']['Arn']"
      ],
      "id": "K3BCR0SuwK52"
    },
    {
      "cell_type": "code",
      "execution_count": null,
      "metadata": {
        "id": "RAXxkQPAwEea"
      },
      "outputs": [],
      "source": [
        "sess = sagemaker.Session()\n",
        "sagemaker_session_bucket=None\n",
        "sess = sagemaker.Session(default_bucket=sagemaker_session_bucket)\n",
        "\n",
        "print(f\"sagemaker role arn: {role}\")\n",
        "print(f\"sagemaker bucket: {sess.default_bucket()}\")\n",
        "print(f\"sagemaker session region: {sess.boto_region_name}\")"
      ],
      "id": "RAXxkQPAwEea"
    },
    {
      "cell_type": "code",
      "execution_count": null,
      "metadata": {
        "id": "976cb8a9-be2f-436b-9444-a52fd0caf518"
      },
      "outputs": [],
      "source": [
        "import boto3\n",
        "import sagemaker\n",
        "import json\n",
        "\n",
        "# Get current region, role, and default bucket\n",
        "aws_region = boto3.Session().region_name\n",
        "aws_role = sagemaker.session.Session().get_caller_identity_arn()\n",
        "output_bucket = sagemaker.Session().default_bucket()\n",
        "\n",
        "# This will be useful for printing\n",
        "newline, bold, unbold = \"\\n\", \"\\033[1m\", \"\\033[0m\"\n",
        "\n",
        "print(f\"{bold}aws_region:{unbold} {aws_region}\")\n",
        "print(f\"{bold}aws_role:{unbold} {aws_role}\")\n",
        "print(f\"{bold}output_bucket:{unbold} {output_bucket}\")"
      ],
      "id": "976cb8a9-be2f-436b-9444-a52fd0caf518"
    },
    {
      "cell_type": "code",
      "source": [
        "import boto3\n",
        "from google.colab import drive\n",
        "\n",
        "# Mount Google Drive\n",
        "drive.mount('/content/drive')\n",
        "\n",
        "# Define file paths and bucket name\n",
        "local_file_path = '/content/drive/MyDrive/datasets/train-v2.0.json'\n",
        "import sagemaker\n",
        "sess = sagemaker.Session()\n",
        "bucket_name = sess.default_bucket() # Using the SageMaker session's default bucket\n",
        "s3_file_key = 'train-v2.0.json'  # Desired name in S3\n",
        "\n",
        "# Create S3 client\n",
        "s3 = boto3.client('s3')\n",
        "\n",
        "# Upload the file\n",
        "try:\n",
        "    s3.upload_file(local_file_path, bucket_name, s3_file_key)\n",
        "    print(f\"File '{local_file_path}' uploaded to s3://{bucket_name}/{s3_file_key}\")\n",
        "except Exception as e:\n",
        "    print(f\"Error uploading file: {e}\")"
      ],
      "metadata": {
        "id": "lBjKUIxm0TG3"
      },
      "id": "lBjKUIxm0TG3",
      "execution_count": null,
      "outputs": []
    },
    {
      "cell_type": "code",
      "execution_count": null,
      "metadata": {
        "id": "01e61aa5-e2cd-4cec-902e-5a4b94bb5817"
      },
      "outputs": [],
      "source": [
        "from sagemaker.s3 import S3Downloader\n",
        "\n",
        "original_data_file = \"train-v2.0.json\"\n",
        "\n",
        "# The data was mirrored in the following bucket\n",
        "original_data_location = (\n",
        "    f\"s3://{sess.default_bucket()}/{original_data_file}\"\n",
        ")\n",
        "\n",
        "print(original_data_location)\n",
        "\n",
        "\n",
        "S3Downloader.download(original_data_location, \".\")"
      ],
      "id": "01e61aa5-e2cd-4cec-902e-5a4b94bb5817"
    },
    {
      "cell_type": "code",
      "execution_count": 76,
      "metadata": {
        "id": "30df5174-667c-44ea-ad20-47c44ca0e628"
      },
      "outputs": [],
      "source": [
        "import json\n",
        "template = {\n",
        "    \"prompt\": \"Ask a question which is related to the following text, but cannot be answered based on the text. Text: {context}\",\n",
        "    \"completion\": \"{question}\",\n",
        "}\n",
        "\n",
        "with open(\"template.json\", \"w\") as f:\n",
        "    json.dump(template, f)"
      ],
      "id": "30df5174-667c-44ea-ad20-47c44ca0e628"
    },
    {
      "cell_type": "code",
      "execution_count": 77,
      "metadata": {
        "id": "d28b4216-cd79-4e6a-87a8-0fbcdb4260e2"
      },
      "outputs": [],
      "source": [
        "local_data_file = \"task-data.jsonl\"  # any name with .jsonl extension\n",
        "\n",
        "with open(original_data_file) as f:\n",
        "    data = json.load(f)\n",
        "\n",
        "def preprocess_data(local_data_file, data, num_maximum_example):\n",
        "    num_example_idx = 0\n",
        "    with open(local_data_file, \"w\") as f:\n",
        "        for article in data[\"data\"]:\n",
        "            for paragraph in article[\"paragraphs\"]:\n",
        "                # iterate over questions for a given paragraph\n",
        "                for qas in paragraph[\"qas\"]:\n",
        "                    if qas[\"is_impossible\"]:\n",
        "                        # the question is relevant, but cannot be answered\n",
        "                        example = {\"context\": paragraph[\"context\"], \"question\": qas[\"question\"]}\n",
        "                        json.dump(example, f)\n",
        "                        f.write(\"\\n\")\n",
        "                        num_example_idx += 1\n",
        "                        if num_example_idx >= num_maximum_example:\n",
        "                            return\n",
        "\n",
        "preprocess_data(local_data_file=local_data_file, data=data, num_maximum_example=10000)"
      ],
      "id": "d28b4216-cd79-4e6a-87a8-0fbcdb4260e2"
    },
    {
      "source": [
        "import sagemaker\n",
        "\n",
        "sess = sagemaker.Session()\n",
        "output_bucket = sess.default_bucket()\n",
        "\n",
        "bold = \"\\033[1m\"\n",
        "unbold = \"\\033[0m\"\n",
        "\n",
        "from sagemaker.s3 import S3Uploader\n",
        "\n",
        "training_dataset_s3_path = f\"s3://{output_bucket}/train_data\"\n",
        "S3Uploader.upload(local_data_file, training_dataset_s3_path)\n",
        "S3Uploader.upload(\"template.json\", training_dataset_s3_path)\n",
        "print(f\"{bold}training data:{unbold} {training_dataset_s3_path}\")"
      ],
      "cell_type": "code",
      "metadata": {
        "id": "ZIfYUKxO1jaX"
      },
      "id": "ZIfYUKxO1jaX",
      "execution_count": null,
      "outputs": []
    },
    {
      "cell_type": "markdown",
      "metadata": {
        "id": "c8f9bf21-1d0f-4ea4-a71a-57b2a341219a"
      },
      "source": [
        "## Prepare training parameters"
      ],
      "id": "c8f9bf21-1d0f-4ea4-a71a-57b2a341219a"
    },
    {
      "cell_type": "code",
      "execution_count": null,
      "metadata": {
        "id": "56aa35d5-4211-4976-929a-11c52edd62f6"
      },
      "outputs": [],
      "source": [
        "import colab_env\n",
        "import os\n",
        "\n",
        "bold = \"\\033[1m\"\n",
        "unbold = \"\\033[0m\"\n",
        "\n",
        "\n",
        "aws_access_key_id=os.getenv(\"AWS_ACCESS_KEY_ID\")\n",
        "aws_secret_access_key=os.getenv(\"AWS_SECRET_ACCESS_KEY\")\n",
        "region=os.getenv(\"AWS_DEFAULT_REGION\")\n",
        "output=os.getenv(\"AWS_DEFAULT_OUTPUT\")\n",
        "\n",
        "print(f\"{bold}aws_access_key_id:{unbold} {aws_access_key_id}\")\n",
        "print(f\"{bold}aws_secret_access_key:{unbold} {aws_secret_access_key}\")\n",
        "print(f\"{bold}region:{unbold} {region}\")\n",
        "print(f\"{bold}output:{unbold} {output}\")\n",
        "\n",
        "from sagemaker import hyperparameters\n",
        "\n",
        "\n",
        "model_id = 'huggingface-llm-mixtral-8x7b'\n",
        "model_version = '1.18.2'\n",
        "\n",
        "my_hyperparameters = hyperparameters.retrieve_default(model_id=model_id, model_version=model_version)\n",
        "print(my_hyperparameters)"
      ],
      "id": "56aa35d5-4211-4976-929a-11c52edd62f6"
    },
    {
      "cell_type": "markdown",
      "metadata": {
        "id": "12c74a6e-b971-4a41-a8a5-ffd5fa9b2e29"
      },
      "source": [
        "Overwrite the hyperparameters"
      ],
      "id": "12c74a6e-b971-4a41-a8a5-ffd5fa9b2e29"
    },
    {
      "cell_type": "code",
      "execution_count": null,
      "metadata": {
        "id": "8698cf73-7fe4-4d50-9fe1-296a43a8592a"
      },
      "outputs": [],
      "source": [
        "my_hyperparameters[\"epoch\"] = \"2\"\n",
        "my_hyperparameters[\"per_device_train_batch_size\"] = \"2\"\n",
        "my_hyperparameters[\"gradient_accumulation_steps\"] = \"2\"\n",
        "my_hyperparameters[\"instruction_tuned\"] = \"True\"\n",
        "print(my_hyperparameters)"
      ],
      "id": "8698cf73-7fe4-4d50-9fe1-296a43a8592a"
    },
    {
      "cell_type": "markdown",
      "metadata": {
        "id": "6d930ae7"
      },
      "source": [
        "Validate hyperparameters"
      ],
      "id": "6d930ae7"
    },
    {
      "cell_type": "code",
      "execution_count": 5,
      "metadata": {
        "id": "d244d372"
      },
      "outputs": [],
      "source": [
        "hyperparameters.validate(model_id=model_id, model_version=model_version, hyperparameters=my_hyperparameters)"
      ],
      "id": "d244d372"
    },
    {
      "cell_type": "markdown",
      "metadata": {
        "id": "9d147475-329c-4caf-90c7-da6eb622c021"
      },
      "source": [
        "## Starting training"
      ],
      "id": "9d147475-329c-4caf-90c7-da6eb622c021"
    },
    {
      "cell_type": "markdown",
      "metadata": {
        "id": "36641d77"
      },
      "source": [
        "Note. The parameter `load_best_model_at_end` (Whether or not to load the best model found during training at the end of training. When this option is enabled, the best checkpoint will always be saved) is set as \"True\" by default. During loading the best model checkpoints at the end of training (HuggingFace will load the best model checkpoints before saving it), there is overhead of memory usage which can lead to Out-Of-Memory error.\n",
        "\n",
        "If setting `load_best_model_at_end`, we recommend to use `ml.g5.48xlarge`; if not, we recommend to use `ml.g5.12xlarge`."
      ],
      "id": "36641d77"
    },
    {
      "cell_type": "code",
      "execution_count": null,
      "metadata": {
        "id": "29866d1a-5e3f-4867-aae6-6d024cd608ea"
      },
      "outputs": [],
      "source": [
        "from sagemaker.jumpstart.estimator import JumpStartEstimator\n",
        "\n",
        "instruction_tuned_estimator = JumpStartEstimator(\n",
        "    model_id=model_id,\n",
        "    hyperparameters=my_hyperparameters,\n",
        "    #instance_type=\"ml.g5.48xlarge\",\n",
        "    instance_type=\"ml.g5.12xlarge\",\n",
        "    role=ROLE_ARN,\n",
        ")\n",
        "instruction_tuned_estimator.fit(\n",
        "    {\"train\": training_dataset_s3_path}, logs=True\n",
        ")"
      ],
      "id": "29866d1a-5e3f-4867-aae6-6d024cd608ea"
    },
    {
      "cell_type": "markdown",
      "metadata": {
        "id": "6bddbc6e-1512-4a71-9247-76cf03e9bf4b"
      },
      "source": [
        "Extract Training performance metrics. Performance metrics such as training loss and validation accuracy/loss can be accessed through cloudwatch while the training. We can also fetch these metrics and analyze them within the notebook."
      ],
      "id": "6bddbc6e-1512-4a71-9247-76cf03e9bf4b"
    },
    {
      "cell_type": "markdown",
      "metadata": {
        "id": "340745b6-ae16-4c7e-83fc-7be0ffd338e3"
      },
      "source": [
        "### Deploying inference endpoints"
      ],
      "id": "340745b6-ae16-4c7e-83fc-7be0ffd338e3"
    },
    {
      "cell_type": "code",
      "execution_count": null,
      "metadata": {
        "id": "3e0011f1-aec4-4ca2-8e7d-0a66798713c1"
      },
      "outputs": [],
      "source": [
        "instruction_tuned_predictor = instruction_tuned_estimator.deploy()"
      ],
      "id": "3e0011f1-aec4-4ca2-8e7d-0a66798713c1"
    },
    {
      "cell_type": "markdown",
      "metadata": {
        "id": "ef93fafa-eaa3-4535-a7e2-3b42637ebb18"
      },
      "source": [
        "### Running inference queries and compare model performances\n",
        "\n",
        "We examine three examples as listed in variable `test_paragraphs`. The prompt as defined in variable `prompt` asks the model to ask a question based on the context and make sure the question **cannot** be answered from the context.\n"
      ],
      "id": "ef93fafa-eaa3-4535-a7e2-3b42637ebb18"
    },
    {
      "cell_type": "code",
      "execution_count": null,
      "metadata": {
        "id": "d3af09fe-f636-433b-8f09-b5fa84c2d11c"
      },
      "outputs": [],
      "source": [
        "prompt = \"Ask a question which is related to the following text, but cannot be answered based on the text. Text: {context}\"\n",
        "\n",
        "# Sources: Wikipedia, AWS Documentation\n",
        "test_paragraphs = [\n",
        "    \"\"\"\n",
        "Adelaide is the capital city of South Australia, the state's largest city and the fifth-most populous city in Australia. \"Adelaide\" may refer to either Greater Adelaide (including the Adelaide Hills) or the Adelaide city centre. The demonym Adelaidean is used to denote the city and the residents of Adelaide. The Traditional Owners of the Adelaide region are the Kaurna people. The area of the city centre and surrounding parklands is called Tarndanya in the Kaurna language.\n",
        "Adelaide is situated on the Adelaide Plains north of the Fleurieu Peninsula, between the Gulf St Vincent in the west and the Mount Lofty Ranges in the east. Its metropolitan area extends 20 km (12 mi) from the coast to the foothills of the Mount Lofty Ranges, and stretches 96 km (60 mi) from Gawler in the north to Sellicks Beach in the south.\n",
        "\"\"\",\n",
        "    \"\"\"\n",
        "Amazon Elastic Block Store (Amazon EBS) provides block level storage volumes for use with EC2 instances. EBS volumes behave like raw, unformatted block devices. You can mount these volumes as devices on your instances. EBS volumes that are attached to an instance are exposed as storage volumes that persist independently from the life of the instance. You can create a file system on top of these volumes, or use them in any way you would use a block device (such as a hard drive). You can dynamically change the configuration of a volume attached to an instance.\n",
        "We recommend Amazon EBS for data that must be quickly accessible and requires long-term persistence. EBS volumes are particularly well-suited for use as the primary storage for file systems, databases, or for any applications that require fine granular updates and access to raw, unformatted, block-level storage. Amazon EBS is well suited to both database-style applications that rely on random reads and writes, and to throughput-intensive applications that perform long, continuous reads and writes.\n",
        "\"\"\",\n",
        "    \"\"\"\n",
        "Amazon Comprehend uses natural language processing (NLP) to extract insights about the content of documents. It develops insights by recognizing the entities, key phrases, language, sentiments, and other common elements in a document. Use Amazon Comprehend to create new products based on understanding the structure of documents. For example, using Amazon Comprehend you can search social networking feeds for mentions of products or scan an entire document repository for key phrases.\n",
        "You can access Amazon Comprehend document analysis capabilities using the Amazon Comprehend console or using the Amazon Comprehend APIs. You can run real-time analysis for small workloads or you can start asynchronous analysis jobs for large document sets. You can use the pre-trained models that Amazon Comprehend provides, or you can train your own custom models for classification and entity recognition.\n",
        "All of the Amazon Comprehend features accept UTF-8 text documents as the input. In addition, custom classification and custom entity recognition accept image files, PDF files, and Word files as input.\n",
        "Amazon Comprehend can examine and analyze documents in a variety of languages, depending on the specific feature. For more information, see Languages supported in Amazon Comprehend. Amazon Comprehend's Dominant language capability can examine documents and determine the dominant language for a far wider selection of languages.\n",
        "\"\"\",\n",
        "]"
      ],
      "id": "d3af09fe-f636-433b-8f09-b5fa84c2d11c"
    },
    {
      "cell_type": "code",
      "execution_count": null,
      "metadata": {
        "id": "992e8682-1dcc-4a4b-a457-08b7b8aef27a"
      },
      "outputs": [],
      "source": [
        "parameters = {\n",
        "    \"max_new_tokens\": 50,\n",
        "    \"do_sample\": True,\n",
        "    \"top_k\": 50,\n",
        "    \"top_p\": 0.8,\n",
        "    \"do_sample\": True,\n",
        "    \"temperature\": 0.01,\n",
        "}\n",
        "\n",
        "def query_endpoint_with_json_payload(encoded_json, endpoint_name):\n",
        "    client = boto3.client(\"runtime.sagemaker\")\n",
        "    response = client.invoke_endpoint(\n",
        "        EndpointName=endpoint_name, ContentType=\"application/json\", Body=encoded_json\n",
        "    )\n",
        "    return response\n",
        "\n",
        "def parse_response(query_response):\n",
        "    model_predictions = json.loads(query_response[\"Body\"].read())\n",
        "    return model_predictions[0][\"generated_text\"]\n",
        "\n",
        "def generate_question(endpoint_name, text):\n",
        "    expanded_prompt = prompt.replace(\"{context}\", text)\n",
        "    payload = {\"inputs\": expanded_prompt, \"parameters\": parameters}\n",
        "    query_response = query_endpoint_with_json_payload(json.dumps(payload).encode(\"utf-8\"), endpoint_name=endpoint_name)\n",
        "    generated_texts = parse_response(query_response)\n",
        "    print(f\"Response: {generated_texts}{newline}\")"
      ],
      "id": "992e8682-1dcc-4a4b-a457-08b7b8aef27a"
    },
    {
      "cell_type": "code",
      "execution_count": null,
      "metadata": {
        "id": "3ef21052-3e86-4626-9636-37945ea5e521"
      },
      "outputs": [],
      "source": [
        "print(f\"{bold}Prompt:{unbold} {repr(prompt)}\")\n",
        "for paragraph in test_paragraphs:\n",
        "    print(\"-\" * 80)\n",
        "    print(paragraph)\n",
        "    print(\"-\" * 80)\n",
        "    print(f\"{bold}pre-trained{unbold}\")\n",
        "    generate_question(predictor.endpoint_name, paragraph)\n",
        "    print(f\"{bold}fine-tuned{unbold}\")\n",
        "    generate_question(instruction_tuned_predictor.endpoint_name, paragraph)"
      ],
      "id": "3ef21052-3e86-4626-9636-37945ea5e521"
    },
    {
      "cell_type": "markdown",
      "source": [
        "## ANALYTICS"
      ],
      "metadata": {
        "id": "_R9cY2a2lpdQ"
      },
      "id": "_R9cY2a2lpdQ"
    },
    {
      "cell_type": "code",
      "source": [
        "!pip show sagemaker boto3"
      ],
      "metadata": {
        "colab": {
          "base_uri": "https://localhost:8080/"
        },
        "id": "aExzoy23RBKx",
        "outputId": "889cfbc6-edd3-4583-b158-c2bb45d79b97"
      },
      "id": "aExzoy23RBKx",
      "execution_count": 2,
      "outputs": [
        {
          "output_type": "stream",
          "name": "stdout",
          "text": [
            "Name: sagemaker\n",
            "Version: 2.243.0\n",
            "Summary: Open source library for training and deploying models on Amazon SageMaker.\n",
            "Home-page: https://github.com/aws/sagemaker-python-sdk\n",
            "Author: Amazon Web Services\n",
            "Author-email: \n",
            "License: \n",
            "Location: /usr/local/lib/python3.11/dist-packages\n",
            "Requires: attrs, boto3, cloudpickle, docker, fastapi, google-pasta, importlib-metadata, jsonschema, numpy, omegaconf, packaging, pandas, pathos, platformdirs, protobuf, psutil, pyyaml, requests, sagemaker-core, schema, smdebug-rulesconfig, tblib, tqdm, urllib3, uvicorn\n",
            "Required-by: \n",
            "---\n",
            "Name: boto3\n",
            "Version: 1.37.29\n",
            "Summary: The AWS SDK for Python\n",
            "Home-page: https://github.com/boto/boto3\n",
            "Author: Amazon Web Services\n",
            "Author-email: \n",
            "License: Apache License 2.0\n",
            "Location: /usr/local/lib/python3.11/dist-packages\n",
            "Requires: botocore, jmespath, s3transfer\n",
            "Required-by: sagemaker, sagemaker-core\n"
          ]
        }
      ]
    },
    {
      "source": [
        "import sagemaker\n",
        "from sagemaker.analytics import TrainingJobAnalytics\n",
        "import pandas as pd\n",
        "import matplotlib.pyplot as plt\n",
        "\n",
        "def analyze_eval_loss_and_plot(training_job_name, eval_loss_metric_name='huggingface-textgeneration:eval-loss', period=300):\n",
        "    \"\"\"\n",
        "    Fetches and plots evaluation loss from a SageMaker training job.\n",
        "\n",
        "    Args:\n",
        "        training_job_name (str): The name of the training job.\n",
        "        eval_loss_metric_name (str, optional): The name of the evaluation loss metric. Defaults to 'huggingface-textgeneration:eval-loss'.\n",
        "        period (int, optional): The granularity of data retrieval in seconds. Defaults to 300 (5 minutes).\n",
        "    \"\"\"\n",
        "    try:\n",
        "        # Get the evaluation loss metric\n",
        "        analyzer = TrainingJobAnalytics(training_job_name=training_job_name,\n",
        "                                        metric_names=[eval_loss_metric_name],\n",
        "                                        period=period)\n",
        "        df = analyzer.dataframe()\n",
        "\n",
        "        if df.empty:\n",
        "            print(f\"Warning: No data found for metric '{eval_loss_metric_name}'.\")\n",
        "            return\n",
        "\n",
        "        # Plotting the evaluation loss over time\n",
        "        plt.plot(df['timestamp'], df['value'])\n",
        "        plt.xlabel('Timestamp')\n",
        "        plt.ylabel('Evaluation Loss')\n",
        "        plt.title('Evaluation Loss Over Time')\n",
        "        plt.show()\n",
        "\n",
        "    except Exception as e:\n",
        "        print(f\"Error analyzing training job: {e}\")\n",
        "        return\n",
        "\n",
        "# --- Usage with existing training job name ---\n",
        "\n",
        "training_job_name = 'hf-llm-mixtral-8x7b-2025-04-07-11-38-09-597'\n",
        "\n",
        "analyze_eval_loss_and_plot(training_job_name, period=600)"
      ],
      "cell_type": "code",
      "metadata": {
        "colab": {
          "base_uri": "https://localhost:8080/",
          "height": 472
        },
        "id": "wJKk7ajlU0up",
        "outputId": "14364c8e-e22c-46eb-ec72-dba6e0d73d78"
      },
      "id": "wJKk7ajlU0up",
      "execution_count": 72,
      "outputs": [
        {
          "output_type": "display_data",
          "data": {
            "text/plain": [
              "<Figure size 640x480 with 1 Axes>"
            ],
            "image/png": "[encoded data removed]"
          },
          "metadata": {}
        }
      ]
    },
    {
      "source": [
        "import sagemaker\n",
        "from sagemaker.analytics import TrainingJobAnalytics\n",
        "import pandas as pd\n",
        "import matplotlib.pyplot as plt\n",
        "\n",
        "def analyze_training_job_losses(training_job_name, eval_loss_metric_name='huggingface-textgeneration:eval-loss', train_loss_metric_name='huggingface-textgeneration:train-loss', period=300):\n",
        "    \"\"\"\n",
        "    Fetches and plots training and evaluation losses from a SageMaker training job.\n",
        "\n",
        "    Args:\n",
        "        training_job_name (str): The name of the training job.\n",
        "        eval_loss_metric_name (str, optional): The name of the evaluation loss metric. Defaults to 'huggingface-textgeneration:eval-loss'.\n",
        "        train_loss_metric_name (str, optional): The name of the training loss metric. Defaults to 'huggingface-textgeneration:train-loss'.\n",
        "        period (int, optional): The granularity of data retrieval in seconds. Defaults to 300 (5 minutes).\n",
        "    \"\"\"\n",
        "    try:\n",
        "        # Get the evaluation loss metric\n",
        "        eval_analyzer = TrainingJobAnalytics(training_job_name=training_job_name,\n",
        "                                            metric_names=[eval_loss_metric_name],\n",
        "                                            period=period)\n",
        "        eval_df = eval_analyzer.dataframe()\n",
        "\n",
        "        # Get the training loss metric\n",
        "        train_analyzer = TrainingJobAnalytics(training_job_name=training_job_name,\n",
        "                                            metric_names=[train_loss_metric_name],\n",
        "                                            period=period)\n",
        "        train_df = train_analyzer.dataframe()\n",
        "\n",
        "        if eval_df.empty:\n",
        "            print(f\"Warning: No data found for metric '{eval_loss_metric_name}'.\")\n",
        "        if train_df.empty:\n",
        "            print(f\"Warning: No data found for metric '{train_loss_metric_name}'.\")\n",
        "        if eval_df.empty or train_df.empty:\n",
        "            return\n",
        "\n",
        "        # Plotting the losses over time\n",
        "        plt.plot(eval_df['timestamp'], eval_df['value'], label='Evaluation Loss')\n",
        "        plt.plot(train_df['timestamp'], train_df['value'], label='Training Loss')\n",
        "        plt.xlabel('Timestamp')\n",
        "        plt.ylabel('Loss')\n",
        "        plt.title('Training and Evaluation Losses Over Time')\n",
        "        plt.legend()\n",
        "        plt.show()\n",
        "\n",
        "    except Exception as e:\n",
        "        print(f\"Error analyzing training job: {e}\")\n",
        "        return\n",
        "\n",
        "# --- Usage ---\n",
        "analyze_training_job_losses('hf-llm-mixtral-8x7b-2025-04-07-11-38-09-597', period=600)"
      ],
      "cell_type": "code",
      "metadata": {
        "colab": {
          "base_uri": "https://localhost:8080/",
          "height": 472
        },
        "id": "XJq3qgQCVYdp",
        "outputId": "9f89dc16-00b6-431b-e498-2a71cdfaa7b1"
      },
      "id": "XJq3qgQCVYdp",
      "execution_count": 71,
      "outputs": [
        {
          "output_type": "display_data",
          "data": {
            "text/plain": [
              "<Figure size 640x480 with 1 Axes>"
            ],
            "image/png": "[encoded data removed]"
          },
          "metadata": {}
        }
      ]
    },
    {
      "cell_type": "code",
      "source": [
        "import warnings\n",
        "import sagemaker.analytics\n",
        "\n",
        "# Suppress warnings (use with caution)\n",
        "warnings.filterwarnings(\"ignore\")"
      ],
      "metadata": {
        "id": "PRJeboUIiY_g"
      },
      "execution_count": 55,
      "outputs": [],
      "id": "PRJeboUIiY_g"
    },
    {
      "source": [
        "import sagemaker\n",
        "from sagemaker.analytics import TrainingJobAnalytics\n",
        "import pandas as pd\n",
        "import boto3\n",
        "\n",
        "def analyze_training_job_metrics(training_job_name, metrics_to_analyze=None, period=300):\n",
        "    \"\"\"\n",
        "    Fetches and analyzes metrics from a SageMaker training job,\n",
        "    specifically tailored for Hugging Face training jobs, while avoiding warnings.\n",
        "    Prints the first 5 rows for all requested metrics, even if unavailable.\n",
        "    Instead of warnings, it prints an empty DataFrame or a \"No data found\" message.\n",
        "    Automatically tries to find the correct metric names for 'loss' and 'accuracy'.\n",
        "\n",
        "    Args:\n",
        "        training_job_name (str): The name of the SageMaker training job.\n",
        "        metrics_to_analyze (list, optional): A list of specific metric names to retrieve.\n",
        "                                             If None, all available metrics are fetched.\n",
        "                                             Defaults to None.\n",
        "        period (int, optional): The granularity of data retrieval in seconds. Defaults to 300 (5 minutes).\n",
        "\n",
        "    Returns:\n",
        "        pandas.DataFrame: A DataFrame containing the training job metrics, or None\n",
        "                          if there's an error or no relevant data is found.\n",
        "    \"\"\"\n",
        "    try:\n",
        "        # Get training job duration\n",
        "        client = boto3.client('sagemaker')\n",
        "        response = client.describe_training_job(TrainingJobName=training_job_name)\n",
        "        training_job_duration = response['TrainingTimeInSeconds']\n",
        "\n",
        "        # Calculate total periods (estimated) and adjust period if necessary\n",
        "        total_periods = int(training_job_duration / period)\n",
        "        if total_periods > 1440:  # CloudWatch limit\n",
        "            period = int(training_job_duration / 1440) + 1  # Adjust period to stay within limit\n",
        "            print(f\"Adjusted period to {period} seconds to stay within CloudWatch limit.\")\n",
        "\n",
        "        # Get available metrics from CloudWatch\n",
        "        analyzer = TrainingJobAnalytics(training_job_name=training_job_name, period=period)\n",
        "        available_metrics = analyzer.dataframe()['metric_name'].unique()\n",
        "\n",
        "        # Mapping metrics_of_interest to likely CloudWatch metric names\n",
        "        metric_mapping = {\n",
        "            'loss': 'huggingface-training:loss',\n",
        "            'accuracy': 'huggingface-textgeneration:eval-accuracy',\n",
        "            'validation_loss': 'huggingface-textgeneration:eval-loss'\n",
        "        }\n",
        "\n",
        "        printed_metrics = set()  # Keep track of printed metrics\n",
        "\n",
        "        # Print first 5 rows for each requested metric\n",
        "        if metrics_to_analyze:\n",
        "            for metric in metrics_to_analyze:\n",
        "                cloudwatch_metric = metric_mapping.get(metric, metric)\n",
        "\n",
        "                if cloudwatch_metric in available_metrics:\n",
        "                    analyzer = TrainingJobAnalytics(training_job_name=training_job_name, metric_names=[cloudwatch_metric], period=period)\n",
        "                    df = analyzer.dataframe()\n",
        "                    print(f\"First 5 rows for '{metric}':\")\n",
        "                    print(df.head())\n",
        "                    printed_metrics.add(cloudwatch_metric)\n",
        "                else:\n",
        "                    # Try to find the correct metric name, but avoid 'eval-loss' if looking for 'loss'\n",
        "                    found_metric = None\n",
        "                    for available_metric in available_metrics:\n",
        "                        if metric in available_metric.lower() and (metric != 'loss' or 'eval-loss' not in available_metric.lower()):\n",
        "                            found_metric = available_metric\n",
        "                            break\n",
        "\n",
        "                    if found_metric:\n",
        "                        analyzer = TrainingJobAnalytics(training_job_name=training_job_name, metric_names=[found_metric], period=period)\n",
        "                        df = analyzer.dataframe()\n",
        "                        print(f\"First 5 rows for '{metric}' (found as '{found_metric}'):\")\n",
        "                        print(df.head())\n",
        "                        printed_metrics.add(found_metric)\n",
        "                    else:\n",
        "                        # Handle the case where 'accuracy' is not found\n",
        "                        if metric == 'accuracy':\n",
        "                            print(\"Warning: 'accuracy' metric not found in training job logs.\")\n",
        "                        else:\n",
        "                            print(f\"First 5 rows for '{metric}':\")\n",
        "                            print(pd.DataFrame(columns=['timestamp', 'metric_name', 'value']).head())\n",
        "\n",
        "        else:\n",
        "            # If metrics_to_analyze is None, print first 5 rows for all available metrics,\n",
        "            # excluding those already printed\n",
        "            for metric_name in available_metrics:\n",
        "                if metric_name in printed_metrics:\n",
        "                    continue  # Skip if already printed\n",
        "\n",
        "                analyzer = TrainingJobAnalytics(training_job_name=training_job_name, metric_names=[metric_name], period=period)\n",
        "                df = analyzer.dataframe()\n",
        "                print(f\"First 5 rows for '{metric_name}':\")\n",
        "                print(df.head())\n",
        "                printed_metrics.add(metric_name)  # Mark as printed\n",
        "\n",
        "        # --- Retrieving requested metrics for analysis, excluding already printed ---\n",
        "        if metrics_to_analyze:\n",
        "            cloudwatch_metrics = [metric_mapping.get(metric, metric) for metric in metrics_to_analyze\n",
        "                                 if metric_mapping.get(metric, metric) not in printed_metrics]\n",
        "\n",
        "            # Add found metrics to cloudwatch_metrics\n",
        "            for metric in metrics_to_analyze:\n",
        "                if metric_mapping.get(metric, metric) not in printed_metrics:\n",
        "                    for available_metric in available_metrics:\n",
        "                        if metric in available_metric.lower() and available_metric not in printed_metrics:\n",
        "                            cloudwatch_metrics.append(available_metric)\n",
        "                            break\n",
        "        else:\n",
        "            cloudwatch_metrics = list(set(available_metrics) - printed_metrics)\n",
        "\n",
        "        # Filter cloudwatch_metrics to include only available metrics\n",
        "        cloudwatch_metrics = [metric for metric in cloudwatch_metrics if metric in available_metrics]\n",
        "\n",
        "        # Get the training job analytics with filtered metrics\n",
        "        if cloudwatch_metrics:  # Only proceed if there are metrics to retrieve\n",
        "            analyzer = TrainingJobAnalytics(training_job_name=training_job_name, metric_names=cloudwatch_metrics, period=period)\n",
        "            df = analyzer.dataframe()\n",
        "\n",
        "            # Check if DataFrame is empty (no data found for any of the requested metrics)\n",
        "            if df.empty:\n",
        "                print(f\"Warning: No data found for the requested metrics in training job: {training_job_name}\")\n",
        "                return None  # Return None if no data is found\n",
        "\n",
        "            # Print available metrics\n",
        "            print(f\"Available metrics: {available_metrics}\")\n",
        "\n",
        "            # Basic Data Inspection (Adapt as needed)\n",
        "            print(f\"Successfully retrieved metrics for job: {training_job_name}\")\n",
        "            print(\"First 5 rows of the data:\")\n",
        "            print(df.head())\n",
        "            print(\"\\nColumn information:\")\n",
        "            print(df.info())\n",
        "\n",
        "            return df\n",
        "        else:\n",
        "            # This warning should no longer be triggered if 'accuracy' is the only missing metric\n",
        "            # print(f\"Warning: None of the requested metrics were found in training job: {training_job_name}\")\n",
        "            return None  # Return None if no metrics are found\n",
        "\n",
        "    except Exception as e:\n",
        "        print(f\"Error analyzing training job: {e}\")\n",
        "        return None"
      ],
      "cell_type": "code",
      "metadata": {
        "id": "wXsjeG27zMs6"
      },
      "id": "wXsjeG27zMs6",
      "execution_count": 69,
      "outputs": []
    },
    {
      "source": [
        "# --- Example Usage ---\n",
        "training_job_name = 'hf-llm-mixtral-8x7b-2025-04-07-11-38-09-597'  # Replace with your actual training job name\n",
        "metrics_of_interest = ['loss', 'accuracy', 'validation_loss']\n",
        "\n",
        "metrics_df = analyze_training_job_metrics(training_job_name, metrics_of_interest)"
      ],
      "cell_type": "code",
      "metadata": {
        "colab": {
          "base_uri": "https://localhost:8080/"
        },
        "outputId": "2926f355-00cb-4c6a-8987-5ab3a8e1f811",
        "id": "VP6yVFTziY_g"
      },
      "execution_count": 70,
      "outputs": [
        {
          "output_type": "stream",
          "name": "stdout",
          "text": [
            "First 5 rows for 'loss' (found as 'huggingface-textgeneration:train-loss'):\n",
            "   timestamp                            metric_name     value\n",
            "0        0.0  huggingface-textgeneration:train-loss  3.851300\n",
            "1      300.0  huggingface-textgeneration:train-loss  3.896100\n",
            "2     1200.0  huggingface-textgeneration:train-loss  3.686733\n",
            "3     2100.0  huggingface-textgeneration:train-loss  2.322350\n",
            "4     3300.0  huggingface-textgeneration:train-loss  1.745600\n",
            "Warning: 'accuracy' metric not found in training job logs.\n",
            "First 5 rows for 'validation_loss':\n",
            "   timestamp                           metric_name     value\n",
            "0        0.0  huggingface-textgeneration:eval-loss  3.822963\n",
            "1      900.0  huggingface-textgeneration:eval-loss  2.925611\n",
            "2     1800.0  huggingface-textgeneration:eval-loss  1.821143\n",
            "3     3000.0  huggingface-textgeneration:eval-loss  1.567121\n",
            "4     3900.0  huggingface-textgeneration:eval-loss  1.471705\n"
          ]
        }
      ],
      "id": "VP6yVFTziY_g"
    },
    {
      "cell_type": "markdown",
      "metadata": {
        "id": "97e51104-2f8d-45d1-827d-4b955546d383"
      },
      "source": [
        "## Clean up the endpoint"
      ],
      "id": "97e51104-2f8d-45d1-827d-4b955546d383"
    },
    {
      "cell_type": "code",
      "source": [
        "#  Frank Morales created this cell on December 14, 2023; it fully allows automatically the deletion of endpoints, models, and endpoint configurations.\n",
        "\n",
        "import colab_env\n",
        "import os\n",
        "\n",
        "aws_access_key_id=os.getenv(\"AWS_ACCESS_KEY_ID\")\n",
        "aws_secret_access_key=os.getenv(\"AWS_SECRET_ACCESS_KEY\")\n",
        "aws_region=os.getenv(\"AWS_DEFAULT_REGION\")\n",
        "aws_output=os.getenv(\"AWS_DEFAULT_OUTPUT\")\n",
        "\n",
        "import boto3\n",
        "\n",
        "sagemaker_client = boto3.client('sagemaker', region_name=aws_region)\n",
        "\n",
        "def cleanup_sagemaker_resources(resource_name,resourceid):\n",
        "\n",
        "    if resourceid==0:\n",
        "       response=sagemaker_client.list_endpoints()\n",
        "    elif resourceid==1:\n",
        "         response=sagemaker_client.list_models()\n",
        "    elif resourceid==2:\n",
        "         response=sagemaker_client.list_endpoint_configs()\n",
        "\n",
        "    print(resource_name)\n",
        "\n",
        "    number_of_endpoints=len(response['%s'%resource_name])\n",
        "    for i in range(number_of_endpoints):\n",
        "        resource_nametmp='%s'%resource_name[0:len(resource_name)-1]\n",
        "        print('%sName'%resource_nametmp)\n",
        "        print(response['%s'%resource_name][i]['%sName'%resource_nametmp])\n",
        "\n",
        "        if resourceid==0:\n",
        "           endpoint_name=response['%s'%resource_name][i]['%sName'%resource_nametmp]\n",
        "           sagemaker_client.delete_endpoint(EndpointName=endpoint_name)\n",
        "        elif resourceid==1:\n",
        "           sagemaker_client.delete_model(ModelName=response['Models'][i]['ModelName'])\n",
        "        elif resourceid==2:\n",
        "           sagemaker_client.delete_endpoint_config(EndpointConfigName=response['EndpointConfigs'][i]['EndpointConfigName'])\n",
        "\n",
        "    print(\"\\n==================================\\n\")\n",
        "\n",
        "\n",
        "cleanup_sagemaker_resources('Endpoints',0)\n",
        "cleanup_sagemaker_resources('Models',1)\n",
        "cleanup_sagemaker_resources('EndpointConfigs',2)"
      ],
      "metadata": {
        "id": "A3GZ5YGzrupe",
        "colab": {
          "base_uri": "https://localhost:8080/"
        },
        "outputId": "b67d0b3d-e62c-4e49-bc16-eebcdfd74d84"
      },
      "id": "A3GZ5YGzrupe",
      "execution_count": 6,
      "outputs": [
        {
          "output_type": "stream",
          "name": "stdout",
          "text": [
            "Endpoints\n",
            "EndpointName\n",
            "hf-llm-mixtral-8x7b-2025-04-07-11-30-56-131\n",
            "\n",
            "==================================\n",
            "\n",
            "Models\n",
            "ModelName\n",
            "meta-vlm-llama-4-scout-17b-16e-instruct-2025-04-08-01-57-15-785\n",
            "ModelName\n",
            "hf-llm-mixtral-8x7b-2025-04-07-11-30-56-130\n",
            "\n",
            "==================================\n",
            "\n",
            "EndpointConfigs\n",
            "EndpointConfigName\n",
            "meta-vlm-llama-4-scout-17b-16e-instruct-2025-04-08-01-57-15-787\n",
            "EndpointConfigName\n",
            "hf-llm-mixtral-8x7b-2025-04-07-11-30-56-131\n",
            "\n",
            "==================================\n",
            "\n"
          ]
        }
      ]
    },
    {
      "cell_type": "code",
      "execution_count": null,
      "metadata": {
        "id": "ac39f216-5866-47dd-a264-53f677e7eb9c"
      },
      "outputs": [],
      "source": [
        "# Delete the SageMaker endpoint\n",
        "predictor.delete_model()\n",
        "predictor.delete_endpoint()\n",
        "instruction_tuned_predictor.delete_model()\n",
        "instruction_tuned_predictor.delete_endpoint()"
      ],
      "id": "ac39f216-5866-47dd-a264-53f677e7eb9c"
    }
  ],
  "metadata": {
    "availableInstances": [
      {
        "_defaultOrder": 0,
        "_isFastLaunch": true,
        "category": "General purpose",
        "gpuNum": 0,
        "hideHardwareSpecs": false,
        "memoryGiB": 4,
        "name": "ml.t3.medium",
        "vcpuNum": 2
      },
      {
        "_defaultOrder": 1,
        "_isFastLaunch": false,
        "category": "General purpose",
        "gpuNum": 0,
        "hideHardwareSpecs": false,
        "memoryGiB": 8,
        "name": "ml.t3.large",
        "vcpuNum": 2
      },
      {
        "_defaultOrder": 2,
        "_isFastLaunch": false,
        "category": "General purpose",
        "gpuNum": 0,
        "hideHardwareSpecs": false,
        "memoryGiB": 16,
        "name": "ml.t3.xlarge",
        "vcpuNum": 4
      },
      {
        "_defaultOrder": 3,
        "_isFastLaunch": false,
        "category": "General purpose",
        "gpuNum": 0,
        "hideHardwareSpecs": false,
        "memoryGiB": 32,
        "name": "ml.t3.2xlarge",
        "vcpuNum": 8
      },
      {
        "_defaultOrder": 4,
        "_isFastLaunch": true,
        "category": "General purpose",
        "gpuNum": 0,
        "hideHardwareSpecs": false,
        "memoryGiB": 8,
        "name": "ml.m5.large",
        "vcpuNum": 2
      },
      {
        "_defaultOrder": 5,
        "_isFastLaunch": false,
        "category": "General purpose",
        "gpuNum": 0,
        "hideHardwareSpecs": false,
        "memoryGiB": 16,
        "name": "ml.m5.xlarge",
        "vcpuNum": 4
      },
      {
        "_defaultOrder": 6,
        "_isFastLaunch": false,
        "category": "General purpose",
        "gpuNum": 0,
        "hideHardwareSpecs": false,
        "memoryGiB": 32,
        "name": "ml.m5.2xlarge",
        "vcpuNum": 8
      },
      {
        "_defaultOrder": 7,
        "_isFastLaunch": false,
        "category": "General purpose",
        "gpuNum": 0,
        "hideHardwareSpecs": false,
        "memoryGiB": 64,
        "name": "ml.m5.4xlarge",
        "vcpuNum": 16
      },
      {
        "_defaultOrder": 8,
        "_isFastLaunch": false,
        "category": "General purpose",
        "gpuNum": 0,
        "hideHardwareSpecs": false,
        "memoryGiB": 128,
        "name": "ml.m5.8xlarge",
        "vcpuNum": 32
      },
      {
        "_defaultOrder": 9,
        "_isFastLaunch": false,
        "category": "General purpose",
        "gpuNum": 0,
        "hideHardwareSpecs": false,
        "memoryGiB": 192,
        "name": "ml.m5.12xlarge",
        "vcpuNum": 48
      },
      {
        "_defaultOrder": 10,
        "_isFastLaunch": false,
        "category": "General purpose",
        "gpuNum": 0,
        "hideHardwareSpecs": false,
        "memoryGiB": 256,
        "name": "ml.m5.16xlarge",
        "vcpuNum": 64
      },
      {
        "_defaultOrder": 11,
        "_isFastLaunch": false,
        "category": "General purpose",
        "gpuNum": 0,
        "hideHardwareSpecs": false,
        "memoryGiB": 384,
        "name": "ml.m5.24xlarge",
        "vcpuNum": 96
      },
      {
        "_defaultOrder": 12,
        "_isFastLaunch": false,
        "category": "General purpose",
        "gpuNum": 0,
        "hideHardwareSpecs": false,
        "memoryGiB": 8,
        "name": "ml.m5d.large",
        "vcpuNum": 2
      },
      {
        "_defaultOrder": 13,
        "_isFastLaunch": false,
        "category": "General purpose",
        "gpuNum": 0,
        "hideHardwareSpecs": false,
        "memoryGiB": 16,
        "name": "ml.m5d.xlarge",
        "vcpuNum": 4
      },
      {
        "_defaultOrder": 14,
        "_isFastLaunch": false,
        "category": "General purpose",
        "gpuNum": 0,
        "hideHardwareSpecs": false,
        "memoryGiB": 32,
        "name": "ml.m5d.2xlarge",
        "vcpuNum": 8
      },
      {
        "_defaultOrder": 15,
        "_isFastLaunch": false,
        "category": "General purpose",
        "gpuNum": 0,
        "hideHardwareSpecs": false,
        "memoryGiB": 64,
        "name": "ml.m5d.4xlarge",
        "vcpuNum": 16
      },
      {
        "_defaultOrder": 16,
        "_isFastLaunch": false,
        "category": "General purpose",
        "gpuNum": 0,
        "hideHardwareSpecs": false,
        "memoryGiB": 128,
        "name": "ml.m5d.8xlarge",
        "vcpuNum": 32
      },
      {
        "_defaultOrder": 17,
        "_isFastLaunch": false,
        "category": "General purpose",
        "gpuNum": 0,
        "hideHardwareSpecs": false,
        "memoryGiB": 192,
        "name": "ml.m5d.12xlarge",
        "vcpuNum": 48
      },
      {
        "_defaultOrder": 18,
        "_isFastLaunch": false,
        "category": "General purpose",
        "gpuNum": 0,
        "hideHardwareSpecs": false,
        "memoryGiB": 256,
        "name": "ml.m5d.16xlarge",
        "vcpuNum": 64
      },
      {
        "_defaultOrder": 19,
        "_isFastLaunch": false,
        "category": "General purpose",
        "gpuNum": 0,
        "hideHardwareSpecs": false,
        "memoryGiB": 384,
        "name": "ml.m5d.24xlarge",
        "vcpuNum": 96
      },
      {
        "_defaultOrder": 20,
        "_isFastLaunch": false,
        "category": "General purpose",
        "gpuNum": 0,
        "hideHardwareSpecs": true,
        "memoryGiB": 0,
        "name": "ml.geospatial.interactive",
        "supportedImageNames": [
          "sagemaker-geospatial-v1-0"
        ],
        "vcpuNum": 0
      },
      {
        "_defaultOrder": 21,
        "_isFastLaunch": true,
        "category": "Compute optimized",
        "gpuNum": 0,
        "hideHardwareSpecs": false,
        "memoryGiB": 4,
        "name": "ml.c5.large",
        "vcpuNum": 2
      },
      {
        "_defaultOrder": 22,
        "_isFastLaunch": false,
        "category": "Compute optimized",
        "gpuNum": 0,
        "hideHardwareSpecs": false,
        "memoryGiB": 8,
        "name": "ml.c5.xlarge",
        "vcpuNum": 4
      },
      {
        "_defaultOrder": 23,
        "_isFastLaunch": false,
        "category": "Compute optimized",
        "gpuNum": 0,
        "hideHardwareSpecs": false,
        "memoryGiB": 16,
        "name": "ml.c5.2xlarge",
        "vcpuNum": 8
      },
      {
        "_defaultOrder": 24,
        "_isFastLaunch": false,
        "category": "Compute optimized",
        "gpuNum": 0,
        "hideHardwareSpecs": false,
        "memoryGiB": 32,
        "name": "ml.c5.4xlarge",
        "vcpuNum": 16
      },
      {
        "_defaultOrder": 25,
        "_isFastLaunch": false,
        "category": "Compute optimized",
        "gpuNum": 0,
        "hideHardwareSpecs": false,
        "memoryGiB": 72,
        "name": "ml.c5.9xlarge",
        "vcpuNum": 36
      },
      {
        "_defaultOrder": 26,
        "_isFastLaunch": false,
        "category": "Compute optimized",
        "gpuNum": 0,
        "hideHardwareSpecs": false,
        "memoryGiB": 96,
        "name": "ml.c5.12xlarge",
        "vcpuNum": 48
      },
      {
        "_defaultOrder": 27,
        "_isFastLaunch": false,
        "category": "Compute optimized",
        "gpuNum": 0,
        "hideHardwareSpecs": false,
        "memoryGiB": 144,
        "name": "ml.c5.18xlarge",
        "vcpuNum": 72
      },
      {
        "_defaultOrder": 28,
        "_isFastLaunch": false,
        "category": "Compute optimized",
        "gpuNum": 0,
        "hideHardwareSpecs": false,
        "memoryGiB": 192,
        "name": "ml.c5.24xlarge",
        "vcpuNum": 96
      },
      {
        "_defaultOrder": 29,
        "_isFastLaunch": true,
        "category": "Accelerated computing",
        "gpuNum": 1,
        "hideHardwareSpecs": false,
        "memoryGiB": 16,
        "name": "ml.g4dn.xlarge",
        "vcpuNum": 4
      },
      {
        "_defaultOrder": 30,
        "_isFastLaunch": false,
        "category": "Accelerated computing",
        "gpuNum": 1,
        "hideHardwareSpecs": false,
        "memoryGiB": 32,
        "name": "ml.g4dn.2xlarge",
        "vcpuNum": 8
      },
      {
        "_defaultOrder": 31,
        "_isFastLaunch": false,
        "category": "Accelerated computing",
        "gpuNum": 1,
        "hideHardwareSpecs": false,
        "memoryGiB": 64,
        "name": "ml.g4dn.4xlarge",
        "vcpuNum": 16
      },
      {
        "_defaultOrder": 32,
        "_isFastLaunch": false,
        "category": "Accelerated computing",
        "gpuNum": 1,
        "hideHardwareSpecs": false,
        "memoryGiB": 128,
        "name": "ml.g4dn.8xlarge",
        "vcpuNum": 32
      },
      {
        "_defaultOrder": 33,
        "_isFastLaunch": false,
        "category": "Accelerated computing",
        "gpuNum": 4,
        "hideHardwareSpecs": false,
        "memoryGiB": 192,
        "name": "ml.g4dn.12xlarge",
        "vcpuNum": 48
      },
      {
        "_defaultOrder": 34,
        "_isFastLaunch": false,
        "category": "Accelerated computing",
        "gpuNum": 1,
        "hideHardwareSpecs": false,
        "memoryGiB": 256,
        "name": "ml.g4dn.16xlarge",
        "vcpuNum": 64
      },
      {
        "_defaultOrder": 35,
        "_isFastLaunch": false,
        "category": "Accelerated computing",
        "gpuNum": 1,
        "hideHardwareSpecs": false,
        "memoryGiB": 61,
        "name": "ml.p3.2xlarge",
        "vcpuNum": 8
      },
      {
        "_defaultOrder": 36,
        "_isFastLaunch": false,
        "category": "Accelerated computing",
        "gpuNum": 4,
        "hideHardwareSpecs": false,
        "memoryGiB": 244,
        "name": "ml.p3.8xlarge",
        "vcpuNum": 32
      },
      {
        "_defaultOrder": 37,
        "_isFastLaunch": false,
        "category": "Accelerated computing",
        "gpuNum": 8,
        "hideHardwareSpecs": false,
        "memoryGiB": 488,
        "name": "ml.p3.16xlarge",
        "vcpuNum": 64
      },
      {
        "_defaultOrder": 38,
        "_isFastLaunch": false,
        "category": "Accelerated computing",
        "gpuNum": 8,
        "hideHardwareSpecs": false,
        "memoryGiB": 768,
        "name": "ml.p3dn.24xlarge",
        "vcpuNum": 96
      },
      {
        "_defaultOrder": 39,
        "_isFastLaunch": false,
        "category": "Memory Optimized",
        "gpuNum": 0,
        "hideHardwareSpecs": false,
        "memoryGiB": 16,
        "name": "ml.r5.large",
        "vcpuNum": 2
      },
      {
        "_defaultOrder": 40,
        "_isFastLaunch": false,
        "category": "Memory Optimized",
        "gpuNum": 0,
        "hideHardwareSpecs": false,
        "memoryGiB": 32,
        "name": "ml.r5.xlarge",
        "vcpuNum": 4
      },
      {
        "_defaultOrder": 41,
        "_isFastLaunch": false,
        "category": "Memory Optimized",
        "gpuNum": 0,
        "hideHardwareSpecs": false,
        "memoryGiB": 64,
        "name": "ml.r5.2xlarge",
        "vcpuNum": 8
      },
      {
        "_defaultOrder": 42,
        "_isFastLaunch": false,
        "category": "Memory Optimized",
        "gpuNum": 0,
        "hideHardwareSpecs": false,
        "memoryGiB": 128,
        "name": "ml.r5.4xlarge",
        "vcpuNum": 16
      },
      {
        "_defaultOrder": 43,
        "_isFastLaunch": false,
        "category": "Memory Optimized",
        "gpuNum": 0,
        "hideHardwareSpecs": false,
        "memoryGiB": 256,
        "name": "ml.r5.8xlarge",
        "vcpuNum": 32
      },
      {
        "_defaultOrder": 44,
        "_isFastLaunch": false,
        "category": "Memory Optimized",
        "gpuNum": 0,
        "hideHardwareSpecs": false,
        "memoryGiB": 384,
        "name": "ml.r5.12xlarge",
        "vcpuNum": 48
      },
      {
        "_defaultOrder": 45,
        "_isFastLaunch": false,
        "category": "Memory Optimized",
        "gpuNum": 0,
        "hideHardwareSpecs": false,
        "memoryGiB": 512,
        "name": "ml.r5.16xlarge",
        "vcpuNum": 64
      },
      {
        "_defaultOrder": 46,
        "_isFastLaunch": false,
        "category": "Memory Optimized",
        "gpuNum": 0,
        "hideHardwareSpecs": false,
        "memoryGiB": 768,
        "name": "ml.r5.24xlarge",
        "vcpuNum": 96
      },
      {
        "_defaultOrder": 47,
        "_isFastLaunch": false,
        "category": "Accelerated computing",
        "gpuNum": 1,
        "hideHardwareSpecs": false,
        "memoryGiB": 16,
        "name": "ml.g5.xlarge",
        "vcpuNum": 4
      },
      {
        "_defaultOrder": 48,
        "_isFastLaunch": false,
        "category": "Accelerated computing",
        "gpuNum": 1,
        "hideHardwareSpecs": false,
        "memoryGiB": 32,
        "name": "ml.g5.2xlarge",
        "vcpuNum": 8
      },
      {
        "_defaultOrder": 49,
        "_isFastLaunch": false,
        "category": "Accelerated computing",
        "gpuNum": 1,
        "hideHardwareSpecs": false,
        "memoryGiB": 64,
        "name": "ml.g5.4xlarge",
        "vcpuNum": 16
      },
      {
        "_defaultOrder": 50,
        "_isFastLaunch": false,
        "category": "Accelerated computing",
        "gpuNum": 1,
        "hideHardwareSpecs": false,
        "memoryGiB": 128,
        "name": "ml.g5.8xlarge",
        "vcpuNum": 32
      },
      {
        "_defaultOrder": 51,
        "_isFastLaunch": false,
        "category": "Accelerated computing",
        "gpuNum": 1,
        "hideHardwareSpecs": false,
        "memoryGiB": 256,
        "name": "ml.g5.16xlarge",
        "vcpuNum": 64
      },
      {
        "_defaultOrder": 52,
        "_isFastLaunch": false,
        "category": "Accelerated computing",
        "gpuNum": 4,
        "hideHardwareSpecs": false,
        "memoryGiB": 192,
        "name": "ml.g5.12xlarge",
        "vcpuNum": 48
      },
      {
        "_defaultOrder": 53,
        "_isFastLaunch": false,
        "category": "Accelerated computing",
        "gpuNum": 4,
        "hideHardwareSpecs": false,
        "memoryGiB": 384,
        "name": "ml.g5.24xlarge",
        "vcpuNum": 96
      },
      {
        "_defaultOrder": 54,
        "_isFastLaunch": false,
        "category": "Accelerated computing",
        "gpuNum": 8,
        "hideHardwareSpecs": false,
        "memoryGiB": 768,
        "name": "ml.g5.48xlarge",
        "vcpuNum": 192
      },
      {
        "_defaultOrder": 55,
        "_isFastLaunch": false,
        "category": "Accelerated computing",
        "gpuNum": 8,
        "hideHardwareSpecs": false,
        "memoryGiB": 1152,
        "name": "ml.p4d.24xlarge",
        "vcpuNum": 96
      },
      {
        "_defaultOrder": 56,
        "_isFastLaunch": false,
        "category": "Accelerated computing",
        "gpuNum": 8,
        "hideHardwareSpecs": false,
        "memoryGiB": 1152,
        "name": "ml.p4de.24xlarge",
        "vcpuNum": 96
      }
    ],
    "colab": {
      "provenance": [],
      "collapsed_sections": [
        "pj3OykxTlxz7",
        "c8f9bf21-1d0f-4ea4-a71a-57b2a341219a",
        "9d147475-329c-4caf-90c7-da6eb622c021",
        "340745b6-ae16-4c7e-83fc-7be0ffd338e3",
        "ef93fafa-eaa3-4535-a7e2-3b42637ebb18",
        "_R9cY2a2lpdQ",
        "97e51104-2f8d-45d1-827d-4b955546d383"
      ],
      "include_colab_link": true
    },
    "instance_type": "ml.t3.medium",
    "kernelspec": {
      "display_name": "Python 3 (Data Science 3.0)",
      "language": "python",
      "name": "python3__SAGEMAKER_INTERNAL__arn:aws:sagemaker:us-west-2:236514542706:image/sagemaker-data-science-310-v1"
    },
    "language_info": {
      "codemirror_mode": {
        "name": "ipython",
        "version": 3
      },
      "file_extension": ".py",
      "mimetype": "text/x-python",
      "name": "python",
      "nbconvert_exporter": "python",
      "pygments_lexer": "ipython3",
      "version": "3.10.6"
    }
  },
  "nbformat": 4,
  "nbformat_minor": 5
}