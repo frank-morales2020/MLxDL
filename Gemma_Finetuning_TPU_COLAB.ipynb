{
  "cells": [
    {
      "cell_type": "markdown",
      "metadata": {
        "id": "view-in-github",
        "colab_type": "text"
      },
      "source": [
        "<a href=\"https://colab.research.google.com/github/frank-morales2020/MLxDL/blob/main/Gemma_Finetuning_TPU_COLAB.ipynb\" target=\"_parent\"><img src=\"https://colab.research.google.com/assets/colab-badge.svg\" alt=\"Open In Colab\"/></a>"
      ]
    },
    {
      "cell_type": "markdown",
      "id": "c7227736-2685-4971-9402-d6015b5319b5",
      "metadata": {
        "id": "c7227736-2685-4971-9402-d6015b5319b5"
      },
      "source": [
        "# Fine-Tune GEMMA on Colab TPU\n",
        "GEMMA models on single host TPUs. For information on TPUs architecture, you can consult the [documentation](https://cloud.google.com/tpu/docs/system-architecture-tpu-vm).\n"
      ]
    },
    {
      "cell_type": "code",
      "execution_count": null,
      "id": "d4f15b21",
      "metadata": {
        "vscode": {
          "languageId": "shellscript"
        },
        "id": "d4f15b21"
      },
      "outputs": [],
      "source": [
        "!git clone https://github.com/huggingface/optimum-tpu.git\n",
        "\n",
        "# Install Optimum TPU\n",
        "%cd optimum-tpu\n",
        "!pip install -e . -f https://storage.googleapis.com/libtpu-releases/index.html -q\n",
        "\n",
        "# Install TRL and PEFT for training (see later how they are used)\n",
        "!pip install trl peft -q\n",
        "\n",
        "# This will be necessary for the language modeling example\n",
        "!pip install datasets evaluate accelerate -q"
      ]
    },
    {
      "cell_type": "markdown",
      "id": "733118c2",
      "metadata": {
        "id": "733118c2"
      },
      "source": [
        "Then, the tokenizer and model need to be loaded. We will choose [`meta-llama/Llama-3.2-1B`](https://huggingface.co/meta-llama/Llama-3.2-1B) for this example."
      ]
    },
    {
      "cell_type": "code",
      "execution_count": null,
      "id": "d07e0b43",
      "metadata": {
        "id": "d07e0b43"
      },
      "outputs": [],
      "source": [
        "import torch\n",
        "from transformers import AutoModelForCausalLM, AutoTokenizer\n",
        "\n",
        "model_id = \"google/gemma-2b\"\n",
        "tokenizer = AutoTokenizer.from_pretrained(model_id)\n",
        "\n",
        "# Add custom token for padding Llama\n",
        "tokenizer.add_special_tokens({'pad_token': tokenizer.eos_token})\n",
        "model = AutoModelForCausalLM.from_pretrained(model_id, torch_dtype=torch.bfloat16)"
      ]
    },
    {
      "cell_type": "markdown",
      "id": "d5576762",
      "metadata": {
        "id": "d5576762"
      },
      "source": [
        "To tune the model with the [Abirate/english_quotes](https://huggingface.co/datasets/Abirate/english_quotes) dataset, you can load it and obtain the `quote` column:\n"
      ]
    },
    {
      "cell_type": "code",
      "execution_count": null,
      "id": "5c365bdd",
      "metadata": {
        "id": "5c365bdd"
      },
      "outputs": [],
      "source": [
        "from datasets import load_dataset\n",
        "\n",
        "\n",
        "data = load_dataset(\"Abirate/english_quotes\")\n",
        "\n",
        "def preprocess_function(samples):\n",
        "    # Create prompt, completion, and combined text columns\n",
        "    prompts = [f\"Generate a quote:\\n\\n\" for _ in samples[\"quote\"]]\n",
        "    completions = [f\"{quote}{tokenizer.eos_token}\" for quote in samples[\"quote\"]]\n",
        "    texts = [p + c for p, c in zip(prompts, completions)]\n",
        "    return {\"prompt\": prompts, \"completion\": completions, \"text\": texts}\n",
        "\n",
        "# data = data.map(lambda samples: tokenizer(samples[\"quote\"]), batched=True)\n",
        "data = data.map(\n",
        "    preprocess_function,\n",
        "    batched=True,\n",
        "    remove_columns=data[\"train\"].column_names\n",
        ")"
      ]
    },
    {
      "cell_type": "markdown",
      "id": "73174355",
      "metadata": {
        "id": "73174355"
      },
      "source": [
        "You then need to specify the FSDP training arguments to enable the sharding feature, the function will deduce the classes that should be sharded:\n"
      ]
    },
    {
      "cell_type": "code",
      "execution_count": 4,
      "id": "2c0c0797",
      "metadata": {
        "id": "2c0c0797"
      },
      "outputs": [],
      "source": [
        "from optimum.tpu import fsdp_v2\n",
        "\n",
        "fsdp_training_args = fsdp_v2.get_fsdp_training_args(model)"
      ]
    },
    {
      "cell_type": "markdown",
      "id": "50b6ebe4",
      "metadata": {
        "id": "50b6ebe4"
      },
      "source": [
        "The `fsdp_training_args` will specify the Pytorch module that needs to be sharded:"
      ]
    },
    {
      "cell_type": "code",
      "execution_count": 5,
      "id": "5d55e0aa",
      "metadata": {
        "colab": {
          "base_uri": "https://localhost:8080/"
        },
        "id": "5d55e0aa",
        "outputId": "2784ec71-67b8-4144-eb7b-c9fe399cae5e"
      },
      "outputs": [
        {
          "output_type": "execute_result",
          "data": {
            "text/plain": [
              "{'fsdp': 'full_shard',\n",
              " 'fsdp_config': {'transformer_layer_cls_to_wrap': ['GemmaDecoderLayer'],\n",
              "  'xla': True,\n",
              "  'xla_fsdp_v2': True,\n",
              "  'xla_fsdp_grad_ckpt': True}}"
            ]
          },
          "metadata": {},
          "execution_count": 5
        }
      ],
      "source": [
        "fsdp_training_args"
      ]
    },
    {
      "cell_type": "markdown",
      "id": "ccb4820f",
      "metadata": {
        "id": "ccb4820f"
      },
      "source": [
        "Now training can be done as simply as using the standard `Trainer` class:"
      ]
    },
    {
      "cell_type": "code",
      "execution_count": 6,
      "id": "e24da8ce",
      "metadata": {
        "id": "e24da8ce"
      },
      "outputs": [],
      "source": [
        "from peft import LoraConfig\n",
        "\n",
        "# Set up PEFT LoRA for fine-tuning.\n",
        "lora_config = LoraConfig(\n",
        "    r=8,\n",
        "    target_modules=[\"k_proj\", \"v_proj\"],\n",
        "    task_type=\"CAUSAL_LM\",\n",
        ")"
      ]
    },
    {
      "cell_type": "code",
      "source": [
        "import jax\n",
        "\n",
        "print(f\"Number of available JAX devices (TPU cores): {jax.device_count()}\")"
      ],
      "metadata": {
        "colab": {
          "base_uri": "https://localhost:8080/"
        },
        "id": "jbnFII8eLjUg",
        "outputId": "74b903d4-a961-498d-96bb-b4e9f239b0d0"
      },
      "id": "jbnFII8eLjUg",
      "execution_count": 8,
      "outputs": [
        {
          "output_type": "stream",
          "name": "stdout",
          "text": [
            "Number of available JAX devices (TPU cores): 8\n"
          ]
        }
      ]
    },
    {
      "cell_type": "code",
      "source": [
        "import torch_xla as xm\n",
        "num_devices = xm.runtime.world_size()\n",
        "print(f\"Number of available devices (TPU): {num_devices}\")"
      ],
      "metadata": {
        "colab": {
          "base_uri": "https://localhost:8080/"
        },
        "id": "ZX1LlTQaNhQd",
        "outputId": "3a6f5a99-71cc-4de3-f77b-4b7d5bcbee13"
      },
      "id": "ZX1LlTQaNhQd",
      "execution_count": 9,
      "outputs": [
        {
          "output_type": "stream",
          "name": "stdout",
          "text": [
            "Number of available devices (TPU): 1\n"
          ]
        }
      ]
    },
    {
      "cell_type": "code",
      "execution_count": 12,
      "id": "12da486c",
      "metadata": {
        "colab": {
          "base_uri": "https://localhost:8080/",
          "height": 347,
          "referenced_widgets": [
            "7b163c1dae744b7a81418d84baa18422",
            "b37c90763c12494ab01fea42ad81a11c",
            "c229de0752ea47ff90afa86e6ef20a04",
            "08cc69454e264a1ab76f8cc55f9d612e",
            "a7f365db7abd4f8498cecef87e5260fa",
            "c119625117c94a2d9d09cbf78c6d6d66",
            "48ec3e591a2e4f70b08d406dee9f8f7d",
            "9ac2b0be07ea42309797fff519517335",
            "9875552640244d96899f406a42f28e8f",
            "ed962a0868a342f287b02af844bba2b6",
            "c3167229819544f382aa7dec4b992f0b"
          ]
        },
        "id": "12da486c",
        "outputId": "a290e2db-1a1f-43ba-a1f3-4c803a78ab5d"
      },
      "outputs": [
        {
          "output_type": "stream",
          "name": "stdout",
          "text": [
            "Reloading model and tokenizer: google/gemma-2b\n"
          ]
        },
        {
          "output_type": "display_data",
          "data": {
            "text/plain": [
              "Loading checkpoint shards:   0%|          | 0/2 [00:00<?, ?it/s]"
            ],
            "application/vnd.jupyter.widget-view+json": {
              "version_major": 2,
              "version_minor": 0,
              "model_id": "7b163c1dae744b7a81418d84baa18422"
            }
          },
          "metadata": {}
        },
        {
          "output_type": "display_data",
          "data": {
            "text/plain": [
              "<IPython.core.display.HTML object>"
            ],
            "text/html": [
              "\n",
              "    <div>\n",
              "      \n",
              "      <progress value='313' max='313' style='width:300px; height:20px; vertical-align: middle;'></progress>\n",
              "      [313/313 1:18:00, Epoch 1/1]\n",
              "    </div>\n",
              "    <table border=\"1\" class=\"dataframe\">\n",
              "  <thead>\n",
              " <tr style=\"text-align: left;\">\n",
              "      <th>Step</th>\n",
              "      <th>Training Loss</th>\n",
              "    </tr>\n",
              "  </thead>\n",
              "  <tbody>\n",
              "    <tr>\n",
              "      <td>50</td>\n",
              "      <td>2.720000</td>\n",
              "    </tr>\n",
              "    <tr>\n",
              "      <td>100</td>\n",
              "      <td>2.580000</td>\n",
              "    </tr>\n",
              "    <tr>\n",
              "      <td>150</td>\n",
              "      <td>2.470000</td>\n",
              "    </tr>\n",
              "    <tr>\n",
              "      <td>200</td>\n",
              "      <td>2.620000</td>\n",
              "    </tr>\n",
              "    <tr>\n",
              "      <td>250</td>\n",
              "      <td>2.600000</td>\n",
              "    </tr>\n",
              "    <tr>\n",
              "      <td>300</td>\n",
              "      <td>2.640000</td>\n",
              "    </tr>\n",
              "  </tbody>\n",
              "</table><p>"
            ]
          },
          "metadata": {}
        },
        {
          "output_type": "execute_result",
          "data": {
            "text/plain": [
              "TrainOutput(global_step=313, training_loss=2.603035143769968, metrics={'train_runtime': 4681.4581, 'train_samples_per_second': 0.535, 'train_steps_per_second': 0.067, 'total_flos': 4987841498185728.0, 'train_loss': 2.603035143769968})"
            ]
          },
          "metadata": {},
          "execution_count": 12
        }
      ],
      "source": [
        "from transformers import TrainingArguments, AutoModelForCausalLM, AutoTokenizer, AutoConfig\n",
        "from trl import SFTTrainer, SFTConfig\n",
        "from peft import PeftModel\n",
        "import torch_xla.runtime as xr\n",
        "import torch\n",
        "\n",
        "import warnings\n",
        "warnings.filterwarnings(\"ignore\")\n",
        "\n",
        "\n",
        "def formatting_func(examples):\n",
        "    # The 'prompt' column already contains the combined prompt and completion\n",
        "    return examples[\"prompt\"]\n",
        "\n",
        "# Create a copy to avoid modifying the original dictionary\n",
        "fsdp_training_args_copy = fsdp_training_args.copy()\n",
        "\n",
        "# Extract fsdp_config from the copy\n",
        "fsdp_config_value = fsdp_training_args_copy.get('fsdp_config', None)\n",
        "\n",
        "# Remove keys that are explicitly passed to SFTConfig from the copy\n",
        "if 'fsdp' in fsdp_training_args_copy:\n",
        "    del fsdp_training_args_copy['fsdp']\n",
        "if 'fsdp_config' in fsdp_training_args_copy:\n",
        "    del fsdp_training_args_copy['fsdp_config']\n",
        "\n",
        "# Reload the model and tokenizer to ensure a clean instance\n",
        "print(f\"Reloading model and tokenizer: {model_id}\")\n",
        "tokenizer = AutoTokenizer.from_pretrained(model_id)\n",
        "tokenizer.add_special_tokens({'pad_token': tokenizer.eos_token})\n",
        "\n",
        "# Load model configuration and set use_cache=False to avoid warning\n",
        "config = AutoConfig.from_pretrained(model_id)\n",
        "config.use_cache = False\n",
        "\n",
        "model = AutoModelForCausalLM.from_pretrained(model_id, config=config, torch_dtype=torch.bfloat16)\n",
        "\n",
        "\n",
        "# Check if the model is already a PeftModel and unload if necessary (should not be needed after reload, but kept as a safeguard)\n",
        "if isinstance(model, PeftModel):\n",
        "    print(\"Unloading existing PEFT adapters...\")\n",
        "    model = model.unload()\n",
        "\n",
        "# Enable SPMD for torch_xla\n",
        "xr.use_spmd()\n",
        "\n",
        "\n",
        "sft_config = SFTConfig(\n",
        "    per_device_train_batch_size=8,\n",
        "    num_train_epochs=1,\n",
        "    max_steps=-50,\n",
        "    output_dir=\"/tmp/output\",\n",
        "    optim=\"adafactor\",\n",
        "    logging_steps=50,\n",
        "    dataloader_drop_last=True,  # Required by FSDP v2\n",
        "    completion_only_loss=False, # Disable completion_only_loss\n",
        "    fsdp=\"full_shard\", # Explicitly set fsdp to \"full_shard\"\n",
        "    fsdp_config=fsdp_config_value, # Pass fsdp_config dictionary directly\n",
        "    **fsdp_training_args_copy, # Unpack remaining args from the copy\n",
        ")\n",
        "\n",
        "\n",
        "trainer = SFTTrainer(\n",
        "    model=model,\n",
        "    train_dataset=data[\"train\"],\n",
        "    args=sft_config, # Pass the SFTConfig object here\n",
        "    peft_config=lora_config,\n",
        "    #formatting_func=formatting_func, # Remove formatting_func when using SFTConfig\n",
        "    #max_seq_length=512,\n",
        "    #packing=True,\n",
        ")\n",
        "\n",
        "trainer.train()"
      ]
    }
  ],
  "metadata": {
    "kernelspec": {
      "display_name": "Python 3",
      "name": "python3"
    },
    "language_info": {
      "codemirror_mode": {
        "name": "ipython",
        "version": 3
      },
      "file_extension": ".py",
      "mimetype": "text/x-python",
      "name": "python",
      "nbconvert_exporter": "python",
      "pygments_lexer": "ipython3",
      "version": "3.10.12"
    },
    "colab": {
      "provenance": [],
      "machine_shape": "hm",
      "gpuType": "V28",
      "include_colab_link": true
    },
    "accelerator": "TPU",
    "widgets": {
      "application/vnd.jupyter.widget-state+json": {
        "7b163c1dae744b7a81418d84baa18422": {
          "model_module": "@jupyter-widgets/controls",
          "model_name": "HBoxModel",
          "model_module_version": "1.5.0",
          "state": {
            "_dom_classes": [],
            "_model_module": "@jupyter-widgets/controls",
            "_model_module_version": "1.5.0",
            "_model_name": "HBoxModel",
            "_view_count": null,
            "_view_module": "@jupyter-widgets/controls",
            "_view_module_version": "1.5.0",
            "_view_name": "HBoxView",
            "box_style": "",
            "children": [
              "IPY_MODEL_b37c90763c12494ab01fea42ad81a11c",
              "IPY_MODEL_c229de0752ea47ff90afa86e6ef20a04",
              "IPY_MODEL_08cc69454e264a1ab76f8cc55f9d612e"
            ],
            "layout": "IPY_MODEL_a7f365db7abd4f8498cecef87e5260fa"
          }
        },
        "b37c90763c12494ab01fea42ad81a11c": {
          "model_module": "@jupyter-widgets/controls",
          "model_name": "HTMLModel",
          "model_module_version": "1.5.0",
          "state": {
            "_dom_classes": [],
            "_model_module": "@jupyter-widgets/controls",
            "_model_module_version": "1.5.0",
            "_model_name": "HTMLModel",
            "_view_count": null,
            "_view_module": "@jupyter-widgets/controls",
            "_view_module_version": "1.5.0",
            "_view_name": "HTMLView",
            "description": "",
            "description_tooltip": null,
            "layout": "IPY_MODEL_c119625117c94a2d9d09cbf78c6d6d66",
            "placeholder": "​",
            "style": "IPY_MODEL_48ec3e591a2e4f70b08d406dee9f8f7d",
            "value": "Loading checkpoint shards: 100%"
          }
        },
        "c229de0752ea47ff90afa86e6ef20a04": {
          "model_module": "@jupyter-widgets/controls",
          "model_name": "FloatProgressModel",
          "model_module_version": "1.5.0",
          "state": {
            "_dom_classes": [],
            "_model_module": "@jupyter-widgets/controls",
            "_model_module_version": "1.5.0",
            "_model_name": "FloatProgressModel",
            "_view_count": null,
            "_view_module": "@jupyter-widgets/controls",
            "_view_module_version": "1.5.0",
            "_view_name": "ProgressView",
            "bar_style": "success",
            "description": "",
            "description_tooltip": null,
            "layout": "IPY_MODEL_9ac2b0be07ea42309797fff519517335",
            "max": 2,
            "min": 0,
            "orientation": "horizontal",
            "style": "IPY_MODEL_9875552640244d96899f406a42f28e8f",
            "value": 2
          }
        },
        "08cc69454e264a1ab76f8cc55f9d612e": {
          "model_module": "@jupyter-widgets/controls",
          "model_name": "HTMLModel",
          "model_module_version": "1.5.0",
          "state": {
            "_dom_classes": [],
            "_model_module": "@jupyter-widgets/controls",
            "_model_module_version": "1.5.0",
            "_model_name": "HTMLModel",
            "_view_count": null,
            "_view_module": "@jupyter-widgets/controls",
            "_view_module_version": "1.5.0",
            "_view_name": "HTMLView",
            "description": "",
            "description_tooltip": null,
            "layout": "IPY_MODEL_ed962a0868a342f287b02af844bba2b6",
            "placeholder": "​",
            "style": "IPY_MODEL_c3167229819544f382aa7dec4b992f0b",
            "value": " 2/2 [00:00&lt;00:00, 42.69it/s]"
          }
        },
        "a7f365db7abd4f8498cecef87e5260fa": {
          "model_module": "@jupyter-widgets/base",
          "model_name": "LayoutModel",
          "model_module_version": "1.2.0",
          "state": {
            "_model_module": "@jupyter-widgets/base",
            "_model_module_version": "1.2.0",
            "_model_name": "LayoutModel",
            "_view_count": null,
            "_view_module": "@jupyter-widgets/base",
            "_view_module_version": "1.2.0",
            "_view_name": "LayoutView",
            "align_content": null,
            "align_items": null,
            "align_self": null,
            "border": null,
            "bottom": null,
            "display": null,
            "flex": null,
            "flex_flow": null,
            "grid_area": null,
            "grid_auto_columns": null,
            "grid_auto_flow": null,
            "grid_auto_rows": null,
            "grid_column": null,
            "grid_gap": null,
            "grid_row": null,
            "grid_template_areas": null,
            "grid_template_columns": null,
            "grid_template_rows": null,
            "height": null,
            "justify_content": null,
            "justify_items": null,
            "left": null,
            "margin": null,
            "max_height": null,
            "max_width": null,
            "min_height": null,
            "min_width": null,
            "object_fit": null,
            "object_position": null,
            "order": null,
            "overflow": null,
            "overflow_x": null,
            "overflow_y": null,
            "padding": null,
            "right": null,
            "top": null,
            "visibility": null,
            "width": null
          }
        },
        "c119625117c94a2d9d09cbf78c6d6d66": {
          "model_module": "@jupyter-widgets/base",
          "model_name": "LayoutModel",
          "model_module_version": "1.2.0",
          "state": {
            "_model_module": "@jupyter-widgets/base",
            "_model_module_version": "1.2.0",
            "_model_name": "LayoutModel",
            "_view_count": null,
            "_view_module": "@jupyter-widgets/base",
            "_view_module_version": "1.2.0",
            "_view_name": "LayoutView",
            "align_content": null,
            "align_items": null,
            "align_self": null,
            "border": null,
            "bottom": null,
            "display": null,
            "flex": null,
            "flex_flow": null,
            "grid_area": null,
            "grid_auto_columns": null,
            "grid_auto_flow": null,
            "grid_auto_rows": null,
            "grid_column": null,
            "grid_gap": null,
            "grid_row": null,
            "grid_template_areas": null,
            "grid_template_columns": null,
            "grid_template_rows": null,
            "height": null,
            "justify_content": null,
            "justify_items": null,
            "left": null,
            "margin": null,
            "max_height": null,
            "max_width": null,
            "min_height": null,
            "min_width": null,
            "object_fit": null,
            "object_position": null,
            "order": null,
            "overflow": null,
            "overflow_x": null,
            "overflow_y": null,
            "padding": null,
            "right": null,
            "top": null,
            "visibility": null,
            "width": null
          }
        },
        "48ec3e591a2e4f70b08d406dee9f8f7d": {
          "model_module": "@jupyter-widgets/controls",
          "model_name": "DescriptionStyleModel",
          "model_module_version": "1.5.0",
          "state": {
            "_model_module": "@jupyter-widgets/controls",
            "_model_module_version": "1.5.0",
            "_model_name": "DescriptionStyleModel",
            "_view_count": null,
            "_view_module": "@jupyter-widgets/base",
            "_view_module_version": "1.2.0",
            "_view_name": "StyleView",
            "description_width": ""
          }
        },
        "9ac2b0be07ea42309797fff519517335": {
          "model_module": "@jupyter-widgets/base",
          "model_name": "LayoutModel",
          "model_module_version": "1.2.0",
          "state": {
            "_model_module": "@jupyter-widgets/base",
            "_model_module_version": "1.2.0",
            "_model_name": "LayoutModel",
            "_view_count": null,
            "_view_module": "@jupyter-widgets/base",
            "_view_module_version": "1.2.0",
            "_view_name": "LayoutView",
            "align_content": null,
            "align_items": null,
            "align_self": null,
            "border": null,
            "bottom": null,
            "display": null,
            "flex": null,
            "flex_flow": null,
            "grid_area": null,
            "grid_auto_columns": null,
            "grid_auto_flow": null,
            "grid_auto_rows": null,
            "grid_column": null,
            "grid_gap": null,
            "grid_row": null,
            "grid_template_areas": null,
            "grid_template_columns": null,
            "grid_template_rows": null,
            "height": null,
            "justify_content": null,
            "justify_items": null,
            "left": null,
            "margin": null,
            "max_height": null,
            "max_width": null,
            "min_height": null,
            "min_width": null,
            "object_fit": null,
            "object_position": null,
            "order": null,
            "overflow": null,
            "overflow_x": null,
            "overflow_y": null,
            "padding": null,
            "right": null,
            "top": null,
            "visibility": null,
            "width": null
          }
        },
        "9875552640244d96899f406a42f28e8f": {
          "model_module": "@jupyter-widgets/controls",
          "model_name": "ProgressStyleModel",
          "model_module_version": "1.5.0",
          "state": {
            "_model_module": "@jupyter-widgets/controls",
            "_model_module_version": "1.5.0",
            "_model_name": "ProgressStyleModel",
            "_view_count": null,
            "_view_module": "@jupyter-widgets/base",
            "_view_module_version": "1.2.0",
            "_view_name": "StyleView",
            "bar_color": null,
            "description_width": ""
          }
        },
        "ed962a0868a342f287b02af844bba2b6": {
          "model_module": "@jupyter-widgets/base",
          "model_name": "LayoutModel",
          "model_module_version": "1.2.0",
          "state": {
            "_model_module": "@jupyter-widgets/base",
            "_model_module_version": "1.2.0",
            "_model_name": "LayoutModel",
            "_view_count": null,
            "_view_module": "@jupyter-widgets/base",
            "_view_module_version": "1.2.0",
            "_view_name": "LayoutView",
            "align_content": null,
            "align_items": null,
            "align_self": null,
            "border": null,
            "bottom": null,
            "display": null,
            "flex": null,
            "flex_flow": null,
            "grid_area": null,
            "grid_auto_columns": null,
            "grid_auto_flow": null,
            "grid_auto_rows": null,
            "grid_column": null,
            "grid_gap": null,
            "grid_row": null,
            "grid_template_areas": null,
            "grid_template_columns": null,
            "grid_template_rows": null,
            "height": null,
            "justify_content": null,
            "justify_items": null,
            "left": null,
            "margin": null,
            "max_height": null,
            "max_width": null,
            "min_height": null,
            "min_width": null,
            "object_fit": null,
            "object_position": null,
            "order": null,
            "overflow": null,
            "overflow_x": null,
            "overflow_y": null,
            "padding": null,
            "right": null,
            "top": null,
            "visibility": null,
            "width": null
          }
        },
        "c3167229819544f382aa7dec4b992f0b": {
          "model_module": "@jupyter-widgets/controls",
          "model_name": "DescriptionStyleModel",
          "model_module_version": "1.5.0",
          "state": {
            "_model_module": "@jupyter-widgets/controls",
            "_model_module_version": "1.5.0",
            "_model_name": "DescriptionStyleModel",
            "_view_count": null,
            "_view_module": "@jupyter-widgets/base",
            "_view_module_version": "1.2.0",
            "_view_name": "StyleView",
            "description_width": ""
          }
        }
      }
    }
  },
  "nbformat": 4,
  "nbformat_minor": 5
}