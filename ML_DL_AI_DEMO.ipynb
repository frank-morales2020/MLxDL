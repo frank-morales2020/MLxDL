{
  "nbformat": 4,
  "nbformat_minor": 0,
  "metadata": {
    "colab": {
      "provenance": [],
      "authorship_tag": "ABX9TyMprykB6/wQlxJdhV4s1kbj",
      "include_colab_link": true
    },
    "kernelspec": {
      "name": "python3",
      "display_name": "Python 3"
    },
    "language_info": {
      "name": "python"
    }
  },
  "cells": [
    {
      "cell_type": "markdown",
      "metadata": {
        "id": "view-in-github",
        "colab_type": "text"
      },
      "source": [
        "<a href=\"https://colab.research.google.com/github/frank-morales2020/MLxDL/blob/main/ML_DL_AI_DEMO.ipynb\" target=\"_parent\"><img src=\"https://colab.research.google.com/assets/colab-badge.svg\" alt=\"Open In Colab\"/></a>"
      ]
    },
    {
      "cell_type": "markdown",
      "source": [
        "Okay, I will generate individual code examples for each of the items you listed.\n",
        "\n",
        "1. Basic Linear Regression Model\n",
        "This example will demonstrate a simple linear regression model using NumPy for numerical operations. It will include generating synthetic data, defining the model, and implementing gradient descent to find the optimal parameters.\n",
        "\n"
      ],
      "metadata": {
        "id": "NR9Dz3E3l_HH"
      }
    },
    {
      "cell_type": "code",
      "execution_count": 3,
      "metadata": {
        "colab": {
          "base_uri": "https://localhost:8080/"
        },
        "id": "Pr7wum0sly80",
        "outputId": "6c53a0de-5580-4bce-8c51-2e1196955fea"
      },
      "outputs": [
        {
          "output_type": "stream",
          "name": "stdout",
          "text": [
            "--- Basic Linear Regression Model ---\n",
            "Optimal parameters (theta):\n",
            "[[4.43019232]\n",
            " [2.54022677]]\n",
            "Expected parameters around: [[4],[3]] (due to y = 4 + 3*X + noise)\n",
            "\n",
            "Parameters from Normal Equation:\n",
            "[[4.43019232]\n",
            " [2.54022677]]\n"
          ]
        }
      ],
      "source": [
        "import numpy as np\n",
        "\n",
        "# 1. Generate synthetic data\n",
        "# y = 2*x + 1 + noise\n",
        "np.random.seed(42) # for reproducibility\n",
        "X = 2 * np.random.rand(100, 1) # 100 samples, 1 feature\n",
        "y = 4 + 3 * X + np.random.randn(100, 1) * 2 # y = 4 + 3x + noise [cite: 77]\n",
        "\n",
        "# Add x0 = 1 to each instance for bias term\n",
        "X_b = np.c_[np.ones((100, 1)), X] # add x0 = 1 to each instance [cite: 91]\n",
        "\n",
        "# 2. Define the linear regression model hypothesis [cite: 77]\n",
        "# h_theta(x) = theta0 + theta1*x1\n",
        "# In vectorized form: h_theta(x) = X_b @ theta\n",
        "\n",
        "# 3. Implement Gradient Descent [cite: 76]\n",
        "learning_rate = 0.1 # alpha in the document [cite: 76]\n",
        "n_iterations = 1000\n",
        "m = 100 # number of training examples [cite: 85]\n",
        "\n",
        "# Random initialization of parameters (theta) [cite: 82]\n",
        "theta = np.random.randn(2, 1)\n",
        "\n",
        "for iteration in range(n_iterations):\n",
        "    # Calculate predictions\n",
        "    predictions = X_b.dot(theta)\n",
        "    # Calculate errors (residuals) [cite: 402]\n",
        "    errors = predictions - y\n",
        "    # Calculate gradients\n",
        "    gradients = 2/m * X_b.T.dot(errors)\n",
        "    # Update parameters [cite: 76]\n",
        "    theta = theta - learning_rate * gradients\n",
        "\n",
        "print(\"--- Basic Linear Regression Model ---\")\n",
        "print(\"Optimal parameters (theta):\")\n",
        "print(theta)\n",
        "print(f\"Expected parameters around: [[4],[3]] (due to y = 4 + 3*X + noise)\")\n",
        "\n",
        "# You can also get the closed-form solution (Normal Equation) for comparison [cite: 84]\n",
        "theta_best_analytical = np.linalg.inv(X_b.T @ X_b) @ X_b.T @ y\n",
        "print(\"\\nParameters from Normal Equation:\")\n",
        "print(theta_best_analytical)"
      ]
    },
    {
      "cell_type": "markdown",
      "source": [
        "2. Simple K-Means Clustering Algorithm\n",
        "This example implements the K-Means algorithm from scratch using NumPy."
      ],
      "metadata": {
        "id": "rVwLa5HDmCEL"
      }
    },
    {
      "cell_type": "code",
      "source": [
        "import numpy as np\n",
        "import matplotlib.pyplot as plt\n",
        "\n",
        "# 1. Generate synthetic data for clustering\n",
        "np.random.seed(42)\n",
        "X = np.concatenate([\n",
        "    np.random.randn(50, 2) + np.array([2, 2]),\n",
        "    np.random.randn(50, 2) + np.array([-2, -2]),\n",
        "    np.random.randn(50, 2) + np.array([2, -2])\n",
        "])\n",
        "\n",
        "def kmeans(X, k, max_iters=100):\n",
        "    m, n = X.shape # m samples, n features [cite: 123]\n",
        "\n",
        "    # 2. Randomly initialize the cluster centroids [cite: 123]\n",
        "    # centroids = X[np.random.choice(m, k, replace=False)] # Choose k random data points as initial centroids\n",
        "    # A safer initialization to ensure unique centroids, or just random values\n",
        "    centroids = np.random.uniform(X.min(axis=0), X.max(axis=0), size=(k, n))\n",
        "\n",
        "    for i in range(max_iters):\n",
        "        # E-step: Assign each data point to the closest centroid [cite: 123]\n",
        "        # Calculate distances from each point to each centroid\n",
        "        distances = np.sqrt(((X - centroids[:, np.newaxis])**2).sum(axis=2))\n",
        "        # Assign each point to the cluster of the closest centroid\n",
        "        cluster_assignments = np.argmin(distances, axis=0) # c^(i) = argmin_j ||x^(i) - mu_j||^2 [cite: 123]\n",
        "\n",
        "        # M-step: Update centroids based on the new assignments [cite: 123]\n",
        "        new_centroids = np.array([X[cluster_assignments == j].mean(axis=0) if np.sum(cluster_assignments == j) > 0 else centroids[j]\n",
        "                                  for j in range(k)]) # mu_j = (sum 1_{c^(i)=j} x^(i)) / (sum 1_{c^(i)=j}) [cite: 123]\n",
        "\n",
        "        # Check for convergence\n",
        "        if np.allclose(new_centroids, centroids):\n",
        "            break\n",
        "        centroids = new_centroids\n",
        "\n",
        "    return cluster_assignments, centroids\n",
        "\n",
        "print(\"\\n--- K-Means Clustering Algorithm ---\")\n",
        "k = 3 # Number of clusters\n",
        "cluster_assignments, centroids = kmeans(X, k)\n",
        "\n",
        "# Plotting the results\n",
        "plt.figure(figsize=(8, 6))\n",
        "for i in range(k):\n",
        "    plt.scatter(X[cluster_assignments == i, 0], X[cluster_assignments == i, 1], label=f'Cluster {i+1}')\n",
        "plt.scatter(centroids[:, 0], centroids[:, 1], s=200, c='black', marker='X', label='Centroids')\n",
        "plt.title('K-Means Clustering Result')\n",
        "plt.xlabel('Feature 1')\n",
        "plt.ylabel('Feature 2')\n",
        "plt.legend()\n",
        "plt.grid(True)\n",
        "plt.show()\n",
        "\n",
        "print(\"Final Centroids:\")\n",
        "print(centroids)"
      ],
      "metadata": {
        "colab": {
          "base_uri": "https://localhost:8080/",
          "height": 668
        },
        "id": "1r_RHYxll7Pu",
        "outputId": "abae8cfd-d881-4dfa-fc69-36b8896c35fb"
      },
      "execution_count": 4,
      "outputs": [
        {
          "output_type": "stream",
          "name": "stdout",
          "text": [
            "\n",
            "--- K-Means Clustering Algorithm ---\n"
          ]
        },
        {
          "output_type": "display_data",
          "data": {
            "text/plain": [
              "<Figure size 800x600 with 1 Axes>"
            ],
            "image/png": "[encoded data removed]"
          },
          "metadata": {}
        },
        {
          "output_type": "stream",
          "name": "stdout",
          "text": [
            "Final Centroids:\n",
            "[[-2.03921257 -1.88143905]\n",
            " [ 1.87708365  1.92650708]\n",
            " [ 2.23827021 -2.0632449 ]]\n"
          ]
        }
      ]
    },
    {
      "cell_type": "markdown",
      "source": [
        "3. Neural Network with a Specific Activation Function (Sigmoid)\n",
        "This example builds a simple feedforward neural network with one hidden layer using NumPy, demonstrating forward propagation and backpropagation with the sigmoid activation function."
      ],
      "metadata": {
        "id": "k0oeLBL_mMph"
      }
    },
    {
      "cell_type": "code",
      "source": [
        "import numpy as np\n",
        "\n",
        "# Sigmoid activation function [cite: 86, 145, 308, 377]\n",
        "def sigmoid(z):\n",
        "    return 1 / (1 + np.exp(-z))\n",
        "\n",
        "# Derivative of sigmoid function [cite: 419]\n",
        "def sigmoid_derivative(z):\n",
        "    s = sigmoid(z)\n",
        "    return s * (1 - s)\n",
        "\n",
        "# 1. Generate synthetic data for classification\n",
        "np.random.seed(42)\n",
        "X = np.random.rand(100, 2) * 10 - 5 # 100 samples, 2 features\n",
        "y = (X[:, 0] + X[:, 1] > 0).astype(int).reshape(-1, 1) # Binary classification: sum > 0\n",
        "\n",
        "# Neural Network Architecture\n",
        "input_size = 2\n",
        "hidden_size = 4\n",
        "output_size = 1\n",
        "learning_rate = 0.1 # alpha for weights update [cite: 147, 382]\n",
        "n_epochs = 10000\n",
        "\n",
        "# Initialize weights and biases [cite: 142]\n",
        "# Weights and biases for the hidden layer\n",
        "W1 = np.random.randn(input_size, hidden_size) * 0.01 # w [cite: 142]\n",
        "b1 = np.zeros((1, hidden_size)) # b [cite: 142]\n",
        "\n",
        "# Weights and biases for the output layer\n",
        "W2 = np.random.randn(hidden_size, output_size) * 0.01\n",
        "b2 = np.zeros((1, output_size))\n",
        "\n",
        "# Loss function: Binary Cross-Entropy [cite: 146, 364]\n",
        "def cross_entropy_loss(y_true, y_pred):\n",
        "    # Clip predictions to avoid log(0)\n",
        "    epsilon = 1e-10\n",
        "    y_pred = np.clip(y_pred, epsilon, 1 - epsilon)\n",
        "    return -np.mean(y_true * np.log(y_pred) + (1 - y_true) * np.log(1 - y_pred))\n",
        "\n",
        "print(\"\\n--- Neural Network with Sigmoid Activation ---\")\n",
        "\n",
        "for epoch in range(n_epochs):\n",
        "    # Forward Propagation [cite: 150, 369]\n",
        "    Z1 = X.dot(W1) + b1 # z = W^T * x + b [cite: 142]\n",
        "    A1 = sigmoid(Z1) # A = g(Z) (activation) [cite: 143]\n",
        "\n",
        "    Z2 = A1.dot(W2) + b2\n",
        "    A2 = sigmoid(Z2) # Output probabilities\n",
        "\n",
        "    # Calculate Loss\n",
        "    loss = cross_entropy_loss(y, A2)\n",
        "\n",
        "    # Backpropagation [cite: 148, 365]\n",
        "    # Output layer gradients\n",
        "    dZ2 = A2 - y # Derivative of cross-entropy with sigmoid [cite: 149]\n",
        "    dW2 = A1.T.dot(dZ2) / len(X) # dL/dW = A1.T * dZ2 [cite: 149]\n",
        "    db2 = np.sum(dZ2, axis=0, keepdims=True) / len(X)\n",
        "\n",
        "    # Hidden layer gradients\n",
        "    dA1 = dZ2.dot(W2.T)\n",
        "    dZ1 = dA1 * sigmoid_derivative(Z1)\n",
        "    dW1 = X.T.dot(dZ1) / len(X)\n",
        "    db1 = np.sum(dZ1, axis=0, keepdims=True) / len(X)\n",
        "\n",
        "    # Update weights and biases [cite: 151, 370]\n",
        "    W2 -= learning_rate * dW2\n",
        "    b2 -= learning_rate * db2\n",
        "    W1 -= learning_rate * dW1\n",
        "    b1 -= learning_rate * db1\n",
        "\n",
        "    if epoch % (n_epochs / 10) == 0:\n",
        "        print(f\"Epoch {epoch}, Loss: {loss:.4f}\")\n",
        "\n",
        "# Make predictions\n",
        "final_predictions = (A2 > 0.5).astype(int)\n",
        "accuracy = np.mean(final_predictions == y)\n",
        "print(f\"\\nTraining Accuracy: {accuracy:.4f}\")"
      ],
      "metadata": {
        "colab": {
          "base_uri": "https://localhost:8080/"
        },
        "id": "OTZG3ndhmRPz",
        "outputId": "8f66448b-9793-484b-da24-55b4ef0c9f2b"
      },
      "execution_count": 5,
      "outputs": [
        {
          "output_type": "stream",
          "name": "stdout",
          "text": [
            "\n",
            "--- Neural Network with Sigmoid Activation ---\n",
            "Epoch 0, Loss: 0.6932\n",
            "Epoch 1000, Loss: 0.0763\n",
            "Epoch 2000, Loss: 0.0474\n",
            "Epoch 3000, Loss: 0.0375\n",
            "Epoch 4000, Loss: 0.0324\n",
            "Epoch 5000, Loss: 0.0291\n",
            "Epoch 6000, Loss: 0.0269\n",
            "Epoch 7000, Loss: 0.0251\n",
            "Epoch 8000, Loss: 0.0238\n",
            "Epoch 9000, Loss: 0.0226\n",
            "\n",
            "Training Accuracy: 0.9900\n"
          ]
        }
      ]
    },
    {
      "cell_type": "markdown",
      "source": [
        "4. Python Function to Calculate Probability (Bernoulli Distribution)\n",
        "This function will calculate the Probability Mass Function (PMF) for a Bernoulli random variable."
      ],
      "metadata": {
        "id": "VgtTYbTNmUsF"
      }
    },
    {
      "cell_type": "code",
      "source": [
        "import numpy as np\n",
        "\n",
        "# Bernoulli random variable example [cite: 17]\n",
        "# X ~ Ber(p)\n",
        "# P(X=1) = p\n",
        "# P(X=0) = 1-p\n",
        "\n",
        "def bernoulli_pmf(k, p):\n",
        "    \"\"\"\n",
        "    Calculates the Probability Mass Function (PMF) for a Bernoulli random variable.\n",
        "\n",
        "    Args:\n",
        "        k (int): The outcome (0 for failure, 1 for success).\n",
        "        p (float): The probability of success (0 <= p <= 1).\n",
        "\n",
        "    Returns:\n",
        "        float: The probability of outcome k.\n",
        "    \"\"\"\n",
        "    if not (0 <= p <= 1):\n",
        "        raise ValueError(\"Probability p must be between 0 and 1.\")\n",
        "    if k == 1:\n",
        "        return p # P(X=1) = p [cite: 17]\n",
        "    elif k == 0:\n",
        "        return 1 - p # P(X=0) = 1-p [cite: 17]\n",
        "    else:\n",
        "        return 0 # k must be 0 or 1\n",
        "\n",
        "print(\"\\n--- Bernoulli Probability Function ---\")\n",
        "p_success = 0.7 # Example probability of success\n",
        "\n",
        "prob_1 = bernoulli_pmf(1, p_success)\n",
        "prob_0 = bernoulli_pmf(0, p_success)\n",
        "\n",
        "print(f\"Probability of success (k=1) with p={p_success}: {prob_1:.2f}\")\n",
        "print(f\"Probability of failure (k=0) with p={p_success}: {prob_0:.2f}\")\n",
        "\n",
        "# Example: Expected value of a Bernoulli RV is p [cite: 24]\n",
        "expected_value_bernoulli = p_success\n",
        "print(f\"Expected value of this Bernoulli RV: {expected_value_bernoulli:.2f}\")\n",
        "\n",
        "# Example: Variance of a Bernoulli RV is p(1-p) [cite: 29]\n",
        "variance_bernoulli = p_success * (1 - p_success)\n",
        "print(f\"Variance of this Bernoulli RV: {variance_bernoulli:.2f}\")"
      ],
      "metadata": {
        "colab": {
          "base_uri": "https://localhost:8080/"
        },
        "id": "1iUZ_zpkmZ4I",
        "outputId": "bef44261-1f3f-4a25-986c-feebf84f6096"
      },
      "execution_count": 6,
      "outputs": [
        {
          "output_type": "stream",
          "name": "stdout",
          "text": [
            "\n",
            "--- Bernoulli Probability Function ---\n",
            "Probability of success (k=1) with p=0.7: 0.70\n",
            "Probability of failure (k=0) with p=0.7: 0.30\n",
            "Expected value of this Bernoulli RV: 0.70\n",
            "Variance of this Bernoulli RV: 0.21\n"
          ]
        }
      ]
    },
    {
      "cell_type": "markdown",
      "source": [
        "5. Matrix Operations (Multiplication and Transpose)\n",
        "This example demonstrates basic matrix multiplication and transpose operations using NumPy."
      ],
      "metadata": {
        "id": "tpuSY-uSmcus"
      }
    },
    {
      "cell_type": "code",
      "source": [
        "import numpy as np\n",
        "\n",
        "print(\"\\n--- Matrix Operations (Multiplication and Transpose) ---\")\n",
        "\n",
        "# Define two example matrices\n",
        "A = np.array([[1, 2, 3],\n",
        "              [4, 5, 6]]) # A is a 2x3 matrix [cite: 219]\n",
        "\n",
        "B = np.array([[7, 8],\n",
        "              [9, 10],\n",
        "              [11, 12]]) # B is a 3x2 matrix [cite: 219]\n",
        "\n",
        "print(\"Matrix A:\")\n",
        "print(A)\n",
        "print(\"\\nMatrix B:\")\n",
        "print(B)\n",
        "\n",
        "# Matrix Multiplication (A @ B) [cite: 223]\n",
        "# For A (m x n) and B (n x p), the product C (m x p)\n",
        "# Here, A is 2x3, B is 3x2, so result will be 2x2\n",
        "C = A @ B\n",
        "print(\"\\nMatrix Multiplication (A @ B):\")\n",
        "print(C)\n",
        "\n",
        "# Verify dimensions\n",
        "print(f\"Dimensions of A: {A.shape}\")\n",
        "print(f\"Dimensions of B: {B.shape}\")\n",
        "print(f\"Dimensions of A @ B: {C.shape}\")\n",
        "\n",
        "# Matrix Transpose [cite: 223]\n",
        "A_T = A.T\n",
        "print(\"\\nMatrix Transpose of A (A.T):\")\n",
        "print(A_T)\n",
        "print(f\"Dimensions of A.T: {A_T.shape}\")\n",
        "\n",
        "# Properties of Transpose: (AB)^T = B^T A^T [cite: 224]\n",
        "AB_T = (A @ B).T\n",
        "B_T_A_T = B.T @ A.T\n",
        "\n",
        "print(\"\\nProperty: (AB)^T == B^T A^T\")\n",
        "print(f\"(A @ B).T:\\n{AB_T}\")\n",
        "print(f\"B.T @ A.T:\\n{B_T_A_T}\")\n",
        "print(f\"Are they equal? {np.array_equal(AB_T, B_T_A_T)}\")\n",
        "\n",
        "# Trace of a square matrix [cite: 225]\n",
        "# Trace is only for square matrices. Let's make a square matrix.\n",
        "Square_Matrix = np.array([[1, 2], [3, 4]])\n",
        "trace_val = np.trace(Square_Matrix)\n",
        "print(\"\\nTrace of a square matrix:\")\n",
        "print(f\"Matrix:\\n{Square_Matrix}\")\n",
        "print(f\"Trace: {trace_val}\") # Sum of diagonal entries [cite: 225]"
      ],
      "metadata": {
        "colab": {
          "base_uri": "https://localhost:8080/"
        },
        "id": "ang7GZWpmhnt",
        "outputId": "36cf13a8-9413-4274-a7e4-dd7a25883744"
      },
      "execution_count": 7,
      "outputs": [
        {
          "output_type": "stream",
          "name": "stdout",
          "text": [
            "\n",
            "--- Matrix Operations (Multiplication and Transpose) ---\n",
            "Matrix A:\n",
            "[[1 2 3]\n",
            " [4 5 6]]\n",
            "\n",
            "Matrix B:\n",
            "[[ 7  8]\n",
            " [ 9 10]\n",
            " [11 12]]\n",
            "\n",
            "Matrix Multiplication (A @ B):\n",
            "[[ 58  64]\n",
            " [139 154]]\n",
            "Dimensions of A: (2, 3)\n",
            "Dimensions of B: (3, 2)\n",
            "Dimensions of A @ B: (2, 2)\n",
            "\n",
            "Matrix Transpose of A (A.T):\n",
            "[[1 4]\n",
            " [2 5]\n",
            " [3 6]]\n",
            "Dimensions of A.T: (3, 2)\n",
            "\n",
            "Property: (AB)^T == B^T A^T\n",
            "(A @ B).T:\n",
            "[[ 58 139]\n",
            " [ 64 154]]\n",
            "B.T @ A.T:\n",
            "[[ 58 139]\n",
            " [ 64 154]]\n",
            "Are they equal? True\n",
            "\n",
            "Trace of a square matrix:\n",
            "Matrix:\n",
            "[[1 2]\n",
            " [3 4]]\n",
            "Trace: 5\n"
          ]
        }
      ]
    }
  ]
}