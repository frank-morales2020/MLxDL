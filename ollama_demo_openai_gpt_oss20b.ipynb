{
  "cells": [
    {
      "cell_type": "markdown",
      "metadata": {
        "id": "view-in-github",
        "colab_type": "text"
      },
      "source": [
        "<a href=\"https://colab.research.google.com/github/frank-morales2020/MLxDL/blob/main/ollama_demo_openai_gpt_oss20b.ipynb\" target=\"_parent\"><img src=\"https://colab.research.google.com/assets/colab-badge.svg\" alt=\"Open In Colab\"/></a>"
      ]
    },
    {
      "cell_type": "code",
      "execution_count": null,
      "metadata": {
        "id": "1FWeucfEyEyn"
      },
      "outputs": [],
      "source": [
        "!pip install colab-xterm\n",
        "%load_ext colabxterm"
      ]
    },
    {
      "cell_type": "code",
      "execution_count": null,
      "metadata": {
        "id": "GilMmtQFIWUq"
      },
      "outputs": [],
      "source": [
        "# %xterm\n",
        "# curl -fsSL https://ollama.com/install.sh | sh\n",
        "# ollama serve &\n",
        "# ollama pull gpt-oss:20b"
      ]
    },
    {
      "cell_type": "code",
      "execution_count": null,
      "metadata": {
        "id": "wQyL6JEwya6f"
      },
      "outputs": [],
      "source": [
        "%xterm"
      ]
    },
    {
      "cell_type": "code",
      "execution_count": 3,
      "metadata": {
        "colab": {
          "base_uri": "https://localhost:8080/"
        },
        "id": "VxcENLS96Tg_",
        "outputId": "e0e7412e-11ab-4d05-a562-01b66dc7359c"
      },
      "outputs": [
        {
          "output_type": "stream",
          "name": "stdout",
          "text": [
            "Usage:\n",
            "  ollama [flags]\n",
            "  ollama [command]\n",
            "\n",
            "Available Commands:\n",
            "  serve       Start ollama\n",
            "  create      Create a model\n",
            "  show        Show information for a model\n",
            "  run         Run a model\n",
            "  stop        Stop a running model\n",
            "  pull        Pull a model from a registry\n",
            "  push        Push a model to a registry\n",
            "  list        List models\n",
            "  ps          List running models\n",
            "  cp          Copy a model\n",
            "  rm          Remove a model\n",
            "  help        Help about any command\n",
            "\n",
            "Flags:\n",
            "  -h, --help      help for ollama\n",
            "  -v, --version   Show version information\n",
            "\n",
            "Use \"ollama [command] --help\" for more information about a command.\n"
          ]
        }
      ],
      "source": [
        "!ollama"
      ]
    },
    {
      "cell_type": "code",
      "execution_count": null,
      "metadata": {
        "id": "E5W1TAjczHBK"
      },
      "outputs": [],
      "source": [
        "!pip install langchain -q\n",
        "!pip install langchain-core -q\n",
        "!pip install langchain-community -q"
      ]
    },
    {
      "cell_type": "code",
      "execution_count": 5,
      "metadata": {
        "id": "_fcVtafHzjjL"
      },
      "outputs": [],
      "source": [
        "!pip install -U langchain langchain-ollama -q"
      ]
    },
    {
      "cell_type": "code",
      "execution_count": 6,
      "metadata": {
        "id": "x3tZQkBdz3xG"
      },
      "outputs": [],
      "source": [
        "from langchain_ollama import OllamaLLM"
      ]
    },
    {
      "cell_type": "code",
      "execution_count": null,
      "metadata": {
        "id": "BytCj44s7Qdq"
      },
      "outputs": [],
      "source": [
        "!ollama pull gpt-oss:20b"
      ]
    },
    {
      "cell_type": "code",
      "source": [
        "!ollama list"
      ],
      "metadata": {
        "colab": {
          "base_uri": "https://localhost:8080/"
        },
        "id": "yKczmBdHSv7f",
        "outputId": "ce800f78-efd5-424f-9059-da01e085df44"
      },
      "execution_count": 11,
      "outputs": [
        {
          "output_type": "stream",
          "name": "stdout",
          "text": [
            "NAME           ID              SIZE     MODIFIED           \n",
            "gpt-oss:20b    f2b8351c629c    13 GB    About a minute ago    \n"
          ]
        }
      ]
    },
    {
      "cell_type": "markdown",
      "source": [
        "## case1"
      ],
      "metadata": {
        "id": "nWddAAX-vE4K"
      }
    },
    {
      "cell_type": "code",
      "execution_count": 12,
      "metadata": {
        "id": "uR_6i4jc8ElT",
        "colab": {
          "base_uri": "https://localhost:8080/"
        },
        "outputId": "07dc3cad-9c2a-477d-b144-79cbffbee1cb"
      },
      "outputs": [
        {
          "output_type": "stream",
          "name": "stdout",
          "text": [
            "**Whiskers and the Midnight Map**\n",
            "\n",
            "In the quiet town of Willowbrook, where cobblestone lanes wound between crooked cottages and the river sang a steady lullaby, lived a ginger cat named Whiskers. He was no ordinary housecat; his eyes sparkled with curiosity and his tail flicked like a metronome ready for the next adventure. While the other cats of Willowbrook spent their days basking in sunlit windows, Whiskers’s imagination roamed far beyond the garden fence.\n",
            "\n",
            "One evening, as the sun dipped low and painted the sky in bruised purples, Whiskers sat on the back porch, staring at the moon. The night was crisp, and a gentle breeze carried the scent of lilacs. He heard a soft rustle behind the garden wall and, with a twitch of his whiskers, leapt over the fence.\n",
            "\n",
            "There, hidden beneath a blanket of fallen leaves, was a tattered parchment. When Whiskers pawed at it, the map fluttered, revealing a swirling trail leading through the forest, across a bridge, and into the heart of a forgotten valley. Beneath the final dotted line, in looping script, was written: *\"Find the Star-Bright Spring, and your heart will be full.\"*\n",
            "\n",
            "His whiskers tingled with excitement. That night, while the moon watched, Whiskers decided: he would follow the map.\n",
            "\n",
            "---\n",
            "\n",
            "### The Whispering Woods\n",
            "\n",
            "The next morning, as dawn painted golden ribbons across the sky, Whiskers slipped out of the house with the map tucked safely in his pocket. He trotted into the Whispering Woods, where the trees stood tall, their branches forming a cathedral of green. Birds chirped, and a faint wind hummed through the leaves.\n",
            "\n",
            "At the forest’s edge, a young squirrel named Pip scurried over, eyes wide with wonder. “Where are you headed, Whiskers?” Pip asked, clutching a tiny acorn.\n",
            "\n",
            "“To the Star‑Bright Spring,” Whiskers replied, showing the map. Pip’s eyes widened. “That’s the legendary spring said to glow like a constellation at night. I’ve never seen it!” The squirrel’s tail twitched. “I’ll join you! I know every shortcut in these woods.”\n",
            "\n",
            "Together they ventured deeper. Pip darted between branches, showing Whiskers hidden paths. They crossed a rickety wooden bridge that swayed with each step, and when a sudden wind blew, the bridge creaked ominously. Pip hopped onto a fallen log to steady it. Whiskers, ever cautious, padded over the log, his paws barely touching the damp surface.\n",
            "\n",
            "They reached a clearing where a stone owl, known as Sir Hootington, perched on a low branch. The owl's eyes gleamed with ancient wisdom. “To find the spring,” Sir Hootington rumbled, “you must solve the riddle of the river. Only then will the water reveal its true path.” He flapped his wings, and the river’s current changed, as if to mock them.\n",
            "\n",
            "Whiskers leaned over the river and listened. “What is born in the day, but dies at the night?” He scratched his head, feeling a puzzle forming in his mind. Pip chirped, “It’s a shadow!” The owl nodded, approvingly. With a gust of wind, the river’s surface rippled, revealing a hidden stone pathway that led across the water. Whiskers, with Pip by his side, hopped onto the stones, each one careful not to slip.\n",
            "\n",
            "---\n",
            "\n",
            "### The Valley of Echoes\n",
            "\n",
            "After crossing the river, they entered the Valley of Echoes, a place where sound seemed to bounce endlessly. Every footfall rang like a bell, and every spoken word repeated back, sometimes with a twist. In the valley’s heart stood a massive stone, carved with strange symbols.\n",
            "\n",
            "Whiskers stared. The symbols glowed faintly in the night. He remembered the map’s faintly drawn line, and it seemed to guide him. As he stepped onto the stone, a faint hum resonated through his whiskers. The stone lit up\n"
          ]
        }
      ],
      "source": [
        "from langchain_community.llms import Ollama\n",
        "\n",
        "# Initialize the Ollama LLM with deepseek-r1\n",
        "llm = Ollama(model=\"gpt-oss:20b\",num_predict=1024)\n",
        "\n",
        "# Send a prompt\n",
        "response = llm.invoke(\"Tell me a story about a cat who goes on an adventure.\")\n",
        "print(response)"
      ]
    },
    {
      "cell_type": "markdown",
      "source": [
        "## case2"
      ],
      "metadata": {
        "id": "PDo8lqXJvKQI"
      }
    },
    {
      "cell_type": "code",
      "source": [
        "from langchain_community.llms import Ollama\n",
        "\n",
        "# Initialize the Ollama LLM with deepseek-r1\n",
        "llm = Ollama(model=\"gpt-oss:20b\",num_predict=1024)\n",
        "\n",
        "# Send a prompt\n",
        "response = llm.invoke(\"Explain quantum mechanics clearly and concisely.\")\n",
        "print(response)"
      ],
      "metadata": {
        "id": "QfTBdPgRnvyY",
        "colab": {
          "base_uri": "https://localhost:8080/"
        },
        "outputId": "475de39b-20e3-4b50-a85e-69dfc3afbeb7"
      },
      "execution_count": 16,
      "outputs": [
        {
          "output_type": "stream",
          "name": "stdout",
          "text": [
            "**Quantum mechanics in a nutshell**\n",
            "\n",
            "1. **Classical intuition breaks down**  \n",
            "   In everyday life, objects have definite positions and speeds. In the quantum world, tiny particles (electrons, photons, etc.) behave both as particles *and* waves. Their behavior is governed by a *wavefunction* ψ, a mathematical object that contains all the information we can know about a system.\n",
            "\n",
            "2. **Wave‑particle duality & superposition**  \n",
            "   – A photon can travel like a particle in a light‑bulb or like a wave in a double‑slit experiment.  \n",
            "   – A particle described by ψ can exist in a *superposition* of many states simultaneously:  \n",
            "     \\[\n",
            "     |\\Psi\\rangle = c_1|1\\rangle + c_2|2\\rangle + \\dots\n",
            "     \\]\n",
            "   Only when we *measure* does it “collapse” into one of the possible states, with probabilities given by \\(|c_i|^2\\).\n",
            "\n",
            "3. **Uncertainty principle**  \n",
            "   We cannot simultaneously know certain pairs of properties precisely. The most famous is position x and momentum p:\n",
            "   \\[\n",
            "   \\Delta x\\,\\Delta p \\ge \\frac{\\hbar}{2}\n",
            "   \\]\n",
            "   The product of their uncertainties is bounded by Planck’s constant, reflecting an intrinsic limit, not a measurement flaw.\n",
            "\n",
            "4. **Dynamics: the Schrödinger equation**  \n",
            "   The evolution of ψ in time is deterministic and governed by\n",
            "   \\[\n",
            "   i\\hbar\\,\\frac{\\partial \\psi}{\\partial t} = \\hat H \\psi ,\n",
            "   \\]\n",
            "   where \\(\\hat H\\) is the Hamiltonian operator (energy). Solving this equation gives the probability amplitudes for all future measurements.\n",
            "\n",
            "5. **Observables as operators**  \n",
            "   Any measurable quantity (energy, position, spin) is represented by an operator. Measuring that quantity forces ψ into one of the operator’s *eigenstates*, and the outcome is the corresponding *eigenvalue*. The set of all eigenvalues constitutes the possible measurement results.\n",
            "\n",
            "6. **Entanglement & non‑locality**  \n",
            "   When two particles interact, their wavefunctions can become linked: the state of one instantly determines the state of the other, no matter the distance. This “spooky action” underlies quantum teleportation, super‑dense coding, and is a resource for quantum computing.\n",
            "\n",
            "---\n",
            "\n",
            "**Take‑away**  \n",
            "Quantum mechanics replaces deterministic trajectories with probability waves. The rules—superposition, uncertainty, measurement collapse, and entanglement—give rise to technologies such as lasers, MRI, transistors, and, promisingly, quantum computers. The math (wavefunctions, operators, Schrödinger equation) provides a precise but counter‑intuitive framework that matches experiment with astonishing accuracy.\n"
          ]
        }
      ]
    }
  ],
  "metadata": {
    "accelerator": "GPU",
    "colab": {
      "gpuType": "L4",
      "machine_shape": "hm",
      "provenance": [],
      "collapsed_sections": [
        "nWddAAX-vE4K",
        "PDo8lqXJvKQI"
      ],
      "authorship_tag": "ABX9TyPMQNEQymOgGPDDXFpiyXp1",
      "include_colab_link": true
    },
    "kernelspec": {
      "display_name": "Python 3",
      "name": "python3"
    },
    "language_info": {
      "name": "python"
    }
  },
  "nbformat": 4,
  "nbformat_minor": 0
}