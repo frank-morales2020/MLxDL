{
  "nbformat": 4,
  "nbformat_minor": 0,
  "metadata": {
    "colab": {
      "provenance": [],
      "machine_shape": "hm",
      "gpuType": "T4",
      "authorship_tag": "ABX9TyMh/i601TcvJYWDDLeuEG4g",
      "include_colab_link": true
    },
    "kernelspec": {
      "name": "python3",
      "display_name": "Python 3"
    },
    "language_info": {
      "name": "python"
    },
    "accelerator": "GPU"
  },
  "cells": [
    {
      "cell_type": "markdown",
      "metadata": {
        "id": "view-in-github",
        "colab_type": "text"
      },
      "source": [
        "<a href=\"https://colab.research.google.com/github/frank-morales2020/MLxDL/blob/main/GEMINI_POC_2024_BTA.ipynb\" target=\"_parent\"><img src=\"https://colab.research.google.com/assets/colab-badge.svg\" alt=\"Open In Colab\"/></a>"
      ]
    },
    {
      "cell_type": "markdown",
      "source": [
        "https://ai.google.dev/gemini-api/docs/get-started/python\n",
        "\n",
        "https://github.com/neulab/gemini-benchmark?tab=readme-ov-file\n"
      ],
      "metadata": {
        "id": "ZpkH6Tyr6Fca"
      }
    },
    {
      "cell_type": "code",
      "source": [
        "!nvidia-smi"
      ],
      "metadata": {
        "colab": {
          "base_uri": "https://localhost:8080/"
        },
        "id": "YBO9Yr-VDSDL",
        "outputId": "c4ed035c-e0c1-4fb2-a1e0-46228c2b9c60"
      },
      "execution_count": null,
      "outputs": [
        {
          "output_type": "stream",
          "name": "stdout",
          "text": [
            "Mon May 27 05:03:59 2024       \n",
            "+---------------------------------------------------------------------------------------+\n",
            "| NVIDIA-SMI 535.104.05             Driver Version: 535.104.05   CUDA Version: 12.2     |\n",
            "|-----------------------------------------+----------------------+----------------------+\n",
            "| GPU  Name                 Persistence-M | Bus-Id        Disp.A | Volatile Uncorr. ECC |\n",
            "| Fan  Temp   Perf          Pwr:Usage/Cap |         Memory-Usage | GPU-Util  Compute M. |\n",
            "|                                         |                      |               MIG M. |\n",
            "|=========================================+======================+======================|\n",
            "|   0  Tesla T4                       Off | 00000000:00:04.0 Off |                    0 |\n",
            "| N/A   41C    P8               9W /  70W |      0MiB / 15360MiB |      0%      Default |\n",
            "|                                         |                      |                  N/A |\n",
            "+-----------------------------------------+----------------------+----------------------+\n",
            "                                                                                         \n",
            "+---------------------------------------------------------------------------------------+\n",
            "| Processes:                                                                            |\n",
            "|  GPU   GI   CI        PID   Type   Process name                            GPU Memory |\n",
            "|        ID   ID                                                             Usage      |\n",
            "|=======================================================================================|\n",
            "|  No running processes found                                                           |\n",
            "+---------------------------------------------------------------------------------------+\n"
          ]
        }
      ]
    },
    {
      "cell_type": "code",
      "source": [
        "!pip install google-generativeai -q"
      ],
      "metadata": {
        "id": "18GXpuMi3Bfh"
      },
      "execution_count": null,
      "outputs": []
    },
    {
      "cell_type": "code",
      "source": [
        "# Used to securely store your API key\n",
        "from google.colab import userdata\n",
        "\n",
        "import pathlib\n",
        "import textwrap\n",
        "\n",
        "import google.generativeai as genai\n",
        "\n",
        "from IPython.display import display\n",
        "from IPython.display import Markdown"
      ],
      "metadata": {
        "id": "n2wh14Ck4XX1"
      },
      "execution_count": null,
      "outputs": []
    },
    {
      "cell_type": "code",
      "source": [
        "from IPython.display import Markdown\n",
        "def to_markdown(text):\n",
        "  text = text.replace('•', '  *')\n",
        "  return Markdown(textwrap.indent(text, '> ', predicate=lambda _: True))"
      ],
      "metadata": {
        "id": "Itvp4FprTBKd"
      },
      "execution_count": null,
      "outputs": []
    },
    {
      "cell_type": "code",
      "source": [
        "GOOGLE_API_KEY=userdata.get('GEMINI')\n",
        "genai.configure(api_key=GOOGLE_API_KEY)"
      ],
      "metadata": {
        "id": "SG4V1mVs5K97"
      },
      "execution_count": null,
      "outputs": []
    },
    {
      "cell_type": "code",
      "source": [
        "import google.generativeai as genai\n",
        "\n",
        "for m in genai.list_models():\n",
        "    if \"generateContent\" in m.supported_generation_methods:\n",
        "        print(m.name)"
      ],
      "metadata": {
        "colab": {
          "base_uri": "https://localhost:8080/",
          "height": 225
        },
        "id": "YY-DNFpwBYxr",
        "outputId": "11f0844b-2583-4206-f0eb-46e1df0e9355"
      },
      "execution_count": null,
      "outputs": [
        {
          "output_type": "stream",
          "name": "stdout",
          "text": [
            "models/gemini-1.0-pro\n",
            "models/gemini-1.0-pro-001\n",
            "models/gemini-1.0-pro-latest\n",
            "models/gemini-1.0-pro-vision-latest\n",
            "models/gemini-1.5-flash\n",
            "models/gemini-1.5-flash-001\n",
            "models/gemini-1.5-flash-latest\n",
            "models/gemini-1.5-pro\n",
            "models/gemini-1.5-pro-001\n",
            "models/gemini-1.5-pro-latest\n",
            "models/gemini-pro\n",
            "models/gemini-pro-vision\n"
          ]
        }
      ]
    },
    {
      "cell_type": "code",
      "source": [
        "model = genai.GenerativeModel('gemini-1.5-pro-latest')"
      ],
      "metadata": {
        "id": "ihFR6I7Eh5jd"
      },
      "execution_count": null,
      "outputs": []
    },
    {
      "cell_type": "markdown",
      "source": [
        "BOB TRAVEL APP"
      ],
      "metadata": {
        "id": "qRt5ffS_ihmA"
      }
    },
    {
      "cell_type": "code",
      "source": [
        "#query = \"I bought a computer for $900, sold it for $1200, repurchased it for $1300, and sold it again for $1600. how much did I earn? Take in consideration the money for the repurchased too.\"\n",
        "\n",
        "query = 'How do you plan out your trip? \\\n",
        "Bob is travelling to SAT from YVR \\\n",
        "1. He has a connection in DFW \\\n",
        "2. His connection is 6 hours long \\\n",
        "3. He has a budget of 100.00 including meals \\\n",
        "4. What can he do? Please suggest a time. \\\n",
        "5. Know- he is a hiker, museum, foodie, has a carry-on bag'\n",
        "\n",
        "chat_response=model.generate_content(query)\n",
        "print()\n",
        "\n",
        "print()\n",
        "print(\"-\" * 80)\n",
        "print('Question: %s'%query)\n",
        "print(\"-\" * 80)\n",
        "print(\"No streaming\")\n",
        "print()\n",
        "print('Answer: ')\n",
        "print(chat_response.text)"
      ],
      "metadata": {
        "colab": {
          "base_uri": "https://localhost:8080/",
          "height": 940
        },
        "id": "ZmEOxU6XcMGT",
        "outputId": "a1e40e79-e5a8-4c96-9229-bf835c10ff76"
      },
      "execution_count": null,
      "outputs": [
        {
          "output_type": "stream",
          "name": "stdout",
          "text": [
            "\n",
            "\n",
            "--------------------------------------------------------------------------------\n",
            "Question: How do you plan out your trip? Bob is travelling to SAT from YVR 1. He has a connection in DFW 2. His connection is 6 hours long 3. He has a budget of 100.00 including meals 4. What can he do? Please suggest a time. 5. Know- he is a hiker, museum, foodie, has a carry-on bag\n",
            "--------------------------------------------------------------------------------\n",
            "No streaming\n",
            "\n",
            "Answer: \n",
            "Let's help Bob plan his DFW layover!  Here's a breakdown of how to make the most of that time:\n",
            "\n",
            "**1. Factor in Travel Time to and from Airport:**\n",
            "\n",
            "* **DFW is HUGE:** Dallas/Fort Worth International Airport (DFW) has five terminals.  Assume 30-45 minutes for a potential terminal change, even with the Skylink train. Factor in travel time to/from attractions in your plan.\n",
            "\n",
            "**2. Transportation Options & Costs:**\n",
            "\n",
            "* **DFW Airport Skylink:**  FREE and efficient for moving between terminals.\n",
            "* **DART Rail:** Connects to downtown Dallas. A round trip costs around $6.\n",
            "* **Taxis/Ride-Sharing:**  Most expensive, especially with surge pricing. Estimate around $30-40+ each way to downtown Dallas.\n",
            "\n",
            "**3. Prioritize Based on Interests and Budget:**\n",
            "\n",
            "Given Bob's interests and the 6-hour layover (minus travel time), a quick trip into Dallas is possible but will be rushed. Here are a few options:\n",
            "\n",
            "**Option 1: Stay at the Airport & Enjoy DFW**\n",
            "\n",
            "* **Foodie Fun:** DFW has surprisingly good dining! Explore different terminals for Texas BBQ, Tex-Mex, or upscale options. \n",
            "* **Airport Adventures:** Check out the art installations, walking paths, and shops within the airport. Some terminals have yoga studios or mini-spas for relaxation.\n",
            "\n",
            "**Option 2: Quick Trip to Downtown Dallas (Tight Schedule!)**\n",
            "\n",
            "* **The Sixth Floor Museum at Dealey Plaza:**  (History buff, about 1.5-2 hours). Allow ample travel time. \n",
            "* **Lunch at the Reunion Tower:** Scenic views and a revolving restaurant, but pricier.\n",
            "\n",
            "**Option 3: Focus on One Thing and Relax:**\n",
            "\n",
            "* **Choose ONE:** Either a museum visit *OR* a nice lunch in downtown Dallas. This reduces rushing.\n",
            "* **Airport Relaxation:** Spend the remaining time relaxing at the airport – grab a drink, read a book, and recharge for the next flight. \n",
            "\n",
            "**Suggested Time:**\n",
            "\n",
            "* **If staying at DFW:** No specific time constraints.\n",
            "* **If going to Dallas:** Aim to arrive downtown by 11:00 AM to give yourself 3-4 hours before heading back to the airport.\n",
            "\n",
            "**Budget Tips:**\n",
            "\n",
            "* **Pack Snacks:**  Bring your own snacks and a reusable water bottle to save on airport prices. \n",
            "* **Airport Food Court:**  Look for food court options at DFW, which tend to be cheaper than sit-down restaurants.\n",
            "* **Free Activities:**  Walking, people-watching, and enjoying the airport amenities won't cost a thing.\n",
            "\n",
            "**Important:**  Monitor flight status for any delays and adjust your plan accordingly!  Have a great trip, Bob! \n",
            "\n"
          ]
        }
      ]
    }
  ]
}