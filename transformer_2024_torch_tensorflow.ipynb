{
  "nbformat": 4,
  "nbformat_minor": 0,
  "metadata": {
    "colab": {
      "provenance": [],
      "machine_shape": "hm",
      "gpuType": "A100",
      "collapsed_sections": [
        "90cYIA79x3eO"
      ],
      "authorship_tag": "ABX9TyOU9vprhgo+20PZeUHj3HIo",
      "include_colab_link": true
    },
    "kernelspec": {
      "name": "python3",
      "display_name": "Python 3"
    },
    "language_info": {
      "name": "python"
    },
    "accelerator": "GPU"
  },
  "cells": [
    {
      "cell_type": "markdown",
      "metadata": {
        "id": "view-in-github",
        "colab_type": "text"
      },
      "source": [
        "<a href=\"https://colab.research.google.com/github/frank-morales2020/MLxDL/blob/main/transformer_2024_torch_tensorflow.ipynb\" target=\"_parent\"><img src=\"https://colab.research.google.com/assets/colab-badge.svg\" alt=\"Open In Colab\"/></a>"
      ]
    },
    {
      "cell_type": "markdown",
      "source": [
        "## Pytorch"
      ],
      "metadata": {
        "id": "90cYIA79x3eO"
      }
    },
    {
      "cell_type": "code",
      "source": [
        "!pip install datasets -q\n",
        "import warnings\n",
        "\n",
        "warnings.filterwarnings(\"ignore\", message=\"`clean_up_tokenization_spaces` was not set.\")"
      ],
      "metadata": {
        "id": "9RSDqA59szwT"
      },
      "execution_count": null,
      "outputs": []
    },
    {
      "cell_type": "code",
      "source": [
        "import transformers\n",
        "print(transformers.__version__)"
      ],
      "metadata": {
        "id": "1087T203uzad",
        "colab": {
          "base_uri": "https://localhost:8080/"
        },
        "outputId": "850157d9-0c67-419f-9ccf-335a4446852c"
      },
      "execution_count": null,
      "outputs": [
        {
          "output_type": "stream",
          "name": "stdout",
          "text": [
            "4.44.2\n"
          ]
        }
      ]
    },
    {
      "cell_type": "code",
      "source": [
        "from transformers import pipeline, AutoModelForCausalLM, AutoTokenizer\n",
        "import torch\n",
        "\n",
        "# Load the tokenizer and model\n",
        "tokenizer = AutoTokenizer.from_pretrained(\"mistralai/Mistral-7B-v0.1\")\n",
        "model = AutoModelForCausalLM.from_pretrained(\"mistralai/Mistral-7B-v0.1\")"
      ],
      "metadata": {
        "id": "mN37ClgxvniP"
      },
      "execution_count": null,
      "outputs": []
    },
    {
      "cell_type": "code",
      "source": [
        "# Set the pad_token_id\n",
        "tokenizer.pad_token_id = tokenizer.eos_token_id\n",
        "\n",
        "# Create the pipeline\n",
        "generator = pipeline(\"text-generation\", model=model, tokenizer=tokenizer, device=0, truncation=True)\n",
        "\n",
        "story_example = \"\"\"\n",
        "In a land far away, a brave knight named Sir Reginald embarked on a quest to slay the fearsome dragon,\n",
        "Ignis. Along his journey, he encountered talking trees, mischievous fairies, and a wise old owl who\n",
        "guided him towards the dragon's lair...\n",
        "\"\"\"\n",
        "\n",
        "text = \"In a world where animals can talk, a young fox ventures into an enchanted forest and encounters...\"\n",
        "\n",
        "result = generator(story_example + text, max_length=1024, temperature=0.8, top_p=0.95, do_sample=True, no_repeat_ngram_size=5)\n",
        "print(result[0]['generated_text'])"
      ],
      "metadata": {
        "colab": {
          "base_uri": "https://localhost:8080/"
        },
        "id": "Px9yJy6M89P5",
        "outputId": "2d884c6d-22f1-478c-bfd1-a77794178338"
      },
      "execution_count": null,
      "outputs": [
        {
          "output_type": "stream",
          "name": "stdout",
          "text": [
            "\n",
            "In a land far away, a brave knight named Sir Reginald embarked on a quest to slay the fearsome dragon,\n",
            "Ignis. Along his journey, he encountered talking trees, mischievous fairies, and a wise old owl who\n",
            "guided him towards the dragon's lair...\n",
            "In a world where animals can talk, a young fox ventures into an enchanted forest and encounters...\n",
            "The Wizard of Oz\n",
            "The Wizard Of Oz is a classic tale about a young girl named Dorothy who finds herself in a magical land\n",
            "where she meets a scarecrow, a tin man, and a cowardly lion. Together, they embark on an adventure to\n",
            "find the Wizard of Oz and seek their hearts' desires. Along the way, they encounter the Wicked Witch of\n",
            "the West and must battle her to reach the Wizard's castle. The Wizard, however, turns out to be a fraud\n",
            "and the scarecrow realizes that he already had a brain, the tin man discovers that he already had...\n"
          ]
        }
      ]
    },
    {
      "cell_type": "markdown",
      "source": [
        "## Tensorflow\n",
        "\n",
        "Reestart the kernel"
      ],
      "metadata": {
        "id": "ERB5YGPpxmQT"
      }
    },
    {
      "cell_type": "code",
      "source": [
        "!pip install datasets -q\n",
        "import warnings\n",
        "\n",
        "warnings.filterwarnings(\"ignore\", message=\"`clean_up_tokenization_spaces` was not set.\")"
      ],
      "metadata": {
        "id": "9Z6aSP0IDbn0"
      },
      "execution_count": 4,
      "outputs": []
    },
    {
      "cell_type": "code",
      "source": [
        "article = \"\"\"Climate change has emerged as a significant threat to global mental health.\n",
        "The increasing frequency and intensity of extreme weather events, rising sea\n",
        "levels, and other environmental changes can have profound psychological impacts\n",
        "on individuals and communities. This scoping review examines the current\n",
        "literature on the relationship between climate change and mental health,\n",
        "exploring the various ways in which climate change can affect mental well-being.\n",
        "\n",
        "Direct exposure to extreme weather events, such as hurricanes, floods, and\n",
        "wildfires, can lead to a range of mental health consequences. Trauma, loss of\n",
        "loved ones, displacement, and damage to property can contribute to anxiety,\n",
        "depression, post-traumatic stress disorder (PTSD), and other mental health\n",
        "conditions. The psychological impacts of such events can be long-lasting and\n",
        "affect individuals and communities for years after the event.\n",
        "\n",
        "Indirectly, climate change can also contribute to mental health problems through\n",
        "its effects on livelihoods, food security, and social cohesion. Changes in\n",
        "temperature and precipitation patterns can disrupt agriculture, leading to food\n",
        "shortages and economic instability. These factors can increase stress, anxiety,\n",
        "and depression, particularly in vulnerable populations.\n",
        "\n",
        "Furthermore, the awareness of the long-term threats posed by climate change can\n",
        "lead to feelings of anxiety, fear, and hopelessness, particularly among young\n",
        "people. The uncertainty about the future and the potential for irreversible\n",
        "environmental damage can contribute to a sense of despair and loss of control.\n",
        "\n",
        "The mental health impacts of climate change are not evenly distributed.\n",
        "Vulnerable populations, such as those with pre-existing mental health\n",
        "conditions, low socioeconomic status, and those living in areas most affected by\n",
        "climate change, are at increased risk of experiencing negative mental health\n",
        "consequences.\n",
        "\n",
        "Addressing the mental health impacts of climate change requires a multi-faceted\n",
        "approach. Providing mental health support to individuals and communities\n",
        "affected by extreme weather events is crucial. Additionally, building resilience\n",
        "to climate change through community-based interventions and promoting mental\n",
        "well-being in the face of environmental challenges are essential.\n",
        "\n",
        "In conclusion, climate change poses a significant threat to global mental health.\n",
        "Understanding the complex interplay between climate change and mental well-being\n",
        "is crucial for developing effective strategies to mitigate the negative impacts\n",
        "and promote mental health in a changing world.\"\"\""
      ],
      "metadata": {
        "id": "yvs1_lZSE5Vm"
      },
      "execution_count": 5,
      "outputs": []
    },
    {
      "cell_type": "code",
      "source": [
        "from transformers import pipeline, TFAutoModelForCausalLM, AutoTokenizer\n",
        "\n",
        "# Load the tokenizer and model\n",
        "tokenizer = AutoTokenizer.from_pretrained(\"mistralai/Mistral-7B-v0.1\")\n",
        "model = TFAutoModelForCausalLM.from_pretrained(\"mistralai/Mistral-7B-v0.1\", from_pt=True)\n",
        "\n",
        "# Set the pad_token_id\n",
        "tokenizer.pad_token_id = tokenizer.eos_token_id"
      ],
      "metadata": {
        "id": "boosvYEdY-rL"
      },
      "execution_count": null,
      "outputs": []
    },
    {
      "cell_type": "code",
      "source": [
        "def custom_summarization(text, max_length=512, min_length=30):  # Increased max_length significantly\n",
        "    \"\"\"\n",
        "    Custom summarization function using the loaded model and tokenizer.\n",
        "    \"\"\"\n",
        "    # Add summarization instruction to the text\n",
        "    prompt = \"Please summarize the following text:\\n\" + text\n",
        "\n",
        "    inputs = tokenizer(prompt, return_tensors=\"tf\", max_length=max_length - 1, truncation=True) # Truncate input if too long\n",
        "    outputs = model.generate(**inputs, max_length=max_length, min_length=min_length, pad_token_id=tokenizer.eos_token_id)\n",
        "    summary = tokenizer.decode(outputs[0], skip_special_tokens=True)\n",
        "\n",
        "    return summary"
      ],
      "metadata": {
        "id": "R95nt_oEZSaK"
      },
      "execution_count": 16,
      "outputs": []
    },
    {
      "cell_type": "code",
      "source": [
        "# Call the custom summarization function with increased max_length\n",
        "result = custom_summarization(article, max_length=1024, min_length=30)\n",
        "print('\\n')\n",
        "print(result)"
      ],
      "metadata": {
        "colab": {
          "base_uri": "https://localhost:8080/"
        },
        "id": "tRYWN80nZTw_",
        "outputId": "066a7463-74f9-46a1-e444-b85cd38ea970"
      },
      "execution_count": 17,
      "outputs": [
        {
          "output_type": "stream",
          "name": "stdout",
          "text": [
            "\n",
            "\n",
            "Please summarize the following text:\n",
            "Climate change has emerged as a significant threat to global mental health.\n",
            "The increasing frequency and intensity of extreme weather events, rising sea\n",
            "levels, and other environmental changes can have profound psychological impacts\n",
            "on individuals and communities. This scoping review examines the current\n",
            "literature on the relationship between climate change and mental health,\n",
            "exploring the various ways in which climate change can affect mental well-being.\n",
            "\n",
            "Direct exposure to extreme weather events, such as hurricanes, floods, and\n",
            "wildfires, can lead to a range of mental health consequences. Trauma, loss of\n",
            "loved ones, displacement, and damage to property can contribute to anxiety,\n",
            "depression, post-traumatic stress disorder (PTSD), and other mental health\n",
            "conditions. The psychological impacts of such events can be long-lasting and\n",
            "affect individuals and communities for years after the event.\n",
            "\n",
            "Indirectly, climate change can also contribute to mental health problems through\n",
            "its effects on livelihoods, food security, and social cohesion. Changes in\n",
            "temperature and precipitation patterns can disrupt agriculture, leading to food\n",
            "shortages and economic instability. These factors can increase stress, anxiety,\n",
            "and depression, particularly in vulnerable populations.\n",
            "\n",
            "Furthermore, the awareness of the long-term threats posed by climate change can\n",
            "lead to feelings of anxiety, fear, and hopelessness, particularly among young\n",
            "people. The uncertainty about the future and the potential for irreversible\n",
            "environmental damage can contribute to a sense of despair and loss of control.\n",
            "\n",
            "The mental health impacts of climate change are not evenly distributed.\n",
            "Vulnerable populations, such as those with pre-existing mental health\n",
            "conditions, low socioeconomic status, and those living in areas most affected by\n",
            "climate change, are at increased risk of experiencing negative mental health\n",
            "consequences.\n",
            "\n",
            "Addressing the mental health impacts of climate change requires a multi-faceted\n",
            "approach. Providing mental health support to individuals and communities\n",
            "affected by extreme weather events is crucial. Additionally, building resilience\n",
            "to climate change through community-based interventions and promoting mental\n",
            "well-being in the face of environmental challenges are essential.\n",
            "\n",
            "In conclusion, climate change poses a significant threat to global mental health.\n",
            "Understanding the complex interplay between climate change and mental well-being\n",
            "is crucial for developing effective strategies to mitigate the negative impacts\n",
            "and promote mental health in a changing world.\n"
          ]
        }
      ]
    }
  ]
}