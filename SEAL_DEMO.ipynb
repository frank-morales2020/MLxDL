{
  "nbformat": 4,
  "nbformat_minor": 0,
  "metadata": {
    "colab": {
      "provenance": [],
      "machine_shape": "hm",
      "gpuType": "A100",
      "authorship_tag": "ABX9TyNn+WOFado7ASNPMnM5KIYW",
      "include_colab_link": true
    },
    "kernelspec": {
      "name": "python3",
      "display_name": "Python 3"
    },
    "language_info": {
      "name": "python"
    },
    "accelerator": "GPU"
  },
  "cells": [
    {
      "cell_type": "markdown",
      "metadata": {
        "id": "view-in-github",
        "colab_type": "text"
      },
      "source": [
        "<a href=\"https://colab.research.google.com/github/frank-morales2020/MLxDL/blob/main/SEAL_DEMO.ipynb\" target=\"_parent\"><img src=\"https://colab.research.google.com/assets/colab-badge.svg\" alt=\"Open In Colab\"/></a>"
      ]
    },
    {
      "cell_type": "markdown",
      "source": [
        "https://github.com/Continual-Intelligence/SEAL/tree/main"
      ],
      "metadata": {
        "id": "8ELjlTPOQIcc"
      }
    },
    {
      "cell_type": "code",
      "execution_count": null,
      "metadata": {
        "id": "rPC9FQyR23cJ"
      },
      "outputs": [],
      "source": [
        "!git clone https://github.com/Continual-Intelligence/SEAL.git\n",
        "%cd SEAL\n",
        "!pip install -r requirements.txt -q\n",
        "!pip install colab-env -q\n",
        "import colab_env"
      ]
    },
    {
      "cell_type": "code",
      "source": [
        "!nvidia-smi"
      ],
      "metadata": {
        "colab": {
          "base_uri": "https://localhost:8080/"
        },
        "id": "tuahowyn1Zg7",
        "outputId": "0b9fa71c-3324-4256-d359-76d5b077c084"
      },
      "execution_count": 5,
      "outputs": [
        {
          "output_type": "stream",
          "name": "stdout",
          "text": [
            "Thu Jul  3 10:29:40 2025       \n",
            "+-----------------------------------------------------------------------------------------+\n",
            "| NVIDIA-SMI 550.54.15              Driver Version: 550.54.15      CUDA Version: 12.4     |\n",
            "|-----------------------------------------+------------------------+----------------------+\n",
            "| GPU  Name                 Persistence-M | Bus-Id          Disp.A | Volatile Uncorr. ECC |\n",
            "| Fan  Temp   Perf          Pwr:Usage/Cap |           Memory-Usage | GPU-Util  Compute M. |\n",
            "|                                         |                        |               MIG M. |\n",
            "|=========================================+========================+======================|\n",
            "|   0  NVIDIA A100-SXM4-40GB          Off |   00000000:00:04.0 Off |                    0 |\n",
            "| N/A   31C    P0             43W /  400W |       0MiB /  40960MiB |      0%      Default |\n",
            "|                                         |                        |             Disabled |\n",
            "+-----------------------------------------+------------------------+----------------------+\n",
            "                                                                                         \n",
            "+-----------------------------------------------------------------------------------------+\n",
            "| Processes:                                                                              |\n",
            "|  GPU   GI   CI        PID   Type   Process name                              GPU Memory |\n",
            "|        ID   ID                                                               Usage      |\n",
            "|=========================================================================================|\n",
            "|  No running processes found                                                             |\n",
            "+-----------------------------------------------------------------------------------------+\n"
          ]
        }
      ]
    },
    {
      "cell_type": "code",
      "source": [
        "import colab_env\n",
        "import os\n",
        "\n",
        "access_token_write = os.getenv(\"HUGGINGFACE_ACCESS_TOKEN_WRITE\")\n",
        "\n",
        "from huggingface_hub import login\n",
        "\n",
        "login(\n",
        "  token=access_token_write,\n",
        "  add_to_git_credential=True\n",
        ")"
      ],
      "metadata": {
        "id": "r9riExTm6J-9"
      },
      "execution_count": 3,
      "outputs": []
    },
    {
      "cell_type": "code",
      "source": [
        "!sh /content/SEAL/few-shot/launch.sh"
      ],
      "metadata": {
        "id": "M4-79zgcMRHb"
      },
      "execution_count": null,
      "outputs": []
    },
    {
      "cell_type": "code",
      "source": [
        "DATA_DIR='/content/SEAL/few-shot/data'\n",
        "!python /content/SEAL/few-shot/self-edit.py  \\\n",
        "    --experiment_name=training_set_iteration_1 \\\n",
        "    --challenge_file={DATA_DIR}/arc-agi_training_challenges_filtered_1B_training_set.json \\\n",
        "    --solution_file={DATA_DIR}/arc-agi_training_solutions_filtered_1B_training_set.json \\\n",
        "    --model_name=meta-llama/Llama-3.2-1B-Instruct \\\n",
        "    --n_tasks=1 \\\n",
        "    --n_self_edits_per_task=15"
      ],
      "metadata": {
        "id": "twKPB5UC30_w"
      },
      "execution_count": null,
      "outputs": []
    },
    {
      "cell_type": "markdown",
      "source": [
        "* {'loss': 1.1591, 'grad_norm': 0.136611208319664, 'learning_rate': 1.6759275227357095e-06, 'epoch': 2.98}\n",
        "* {'loss': 0.9413, 'grad_norm': 0.06458910554647446, 'learning_rate': 7.448797957526621e-07, 'epoch': 2.99}\n",
        "* {'loss': 1.5966, 'grad_norm': 0.26942989230155945, 'learning_rate': 1.862234168542587e-07, 'epoch': 3.0}\n",
        "* {'train_runtime': 44.3983, 'train_samples_per_second': 16.893, 'train_steps_per_second': 8.446, 'train_loss': 1.8087735119660695, 'epoch': 3.0}\n",
        "\n",
        "* 100% 375/375 [00:44<00:00,  8.45it/s]\n",
        "Training complete.\n",
        "\n",
        "* Model saved to loras/self-edit/training_set_iteration_1/44f52bb0/14\n",
        "\n",
        "* Training complete. Final configs and indices saved to: loras/self-edit/training_set_iteration_1/final_configs_and_indices.json"
      ],
      "metadata": {
        "id": "ke4La8ki5ojr"
      }
    },
    {
      "cell_type": "markdown",
      "source": [],
      "metadata": {
        "id": "ioTtSpq-5ar_"
      }
    },
    {
      "cell_type": "code",
      "source": [
        "!python /content/SEAL/few-shot/ttt.py"
      ],
      "metadata": {
        "id": "mNzfXwY7Ipqu"
      },
      "execution_count": null,
      "outputs": []
    },
    {
      "cell_type": "code",
      "source": [
        "DATA_DIR='/content/SEAL/few-shot/data'\n",
        "TTI_DIR='/content/SEAL/loras/self-edit/training_set_iteration_1'\n",
        "LORA_DIR='/content/SEAL/loras/self-edit/training_set_iteration_1/8d5021e8/14'\n",
        "\n",
        "!python /content/SEAL/few-shot/eval-self-edits.py  \\\n",
        "    --experiment_folder={TTI_DIR} \\\n",
        "    --pretrained_checkpoint=meta-llama/Llama-3.2-1B-Instruct \\\n",
        "    --lora_checkpoints_folder={LORA_DIR} \\\n",
        "    --temperature=0 \\\n",
        "    --n_sample=1 \\\n",
        "    --data_file=/content/SEAL/few-shot/data/arc-agi_training_challenges_filtered_1B_training_set.json \\\n",
        "    --solution_file=/content/SEAL/few-shot/data/arc-agi_evaluation_challenges_filtered_1B_eval_set.json \\\n",
        "    --max_lora_rank=128 \\\n",
        "    --include_n=1 \\\n",
        "    --new_format \\\n",
        "    --num_examples=11 \\\n",
        "    --n_self_edits=15"
      ],
      "metadata": {
        "id": "d2H8z48V8kT_"
      },
      "execution_count": null,
      "outputs": []
    },
    {
      "cell_type": "code",
      "source": [
        "!python /content/SEAL/few-shot/BC-self-edit.py \\\n",
        "    --configs_and_indices=/content/SEAL/loras/self-edit/training_set_iteration_1/final_configs_and_indices.json \\\n",
        "    --results=/content/SEAL/few-shot/final_results.json \\\n",
        "    --model_name=meta-llama/Llama-3.2-1B-Instruct \\\n",
        "    --lora_rank=16 \\\n",
        "    --lora_alpha=16 \\\n",
        "    --num_train_epochs=8 \\\n",
        "    --per_device_train_batch_size=5 \\\n",
        "    --gradient_accumulation_steps=1 \\\n",
        "    --learning_rate=5e-5"
      ],
      "metadata": {
        "id": "o3tBgYc-8l2z"
      },
      "execution_count": null,
      "outputs": []
    },
    {
      "cell_type": "code",
      "source": [
        "!python /content/SEAL/few-shot/self-edit.py  \\\n",
        "    --experiment_name=eval_RL_iteration_1_8_epoch \\\n",
        "    --challenge_file={DATA_DIR}/arc-agi_evaluation_challenges_filtered_1B_eval_set.json \\\n",
        "    --solution_file={DATA_DIR}/arc-agi_evaluation_solutions_filtered_1B_eval_set.json \\\n",
        "    --model_name={LORA_DIR}/self-edit/training_set_iteration_1/RL_trained_model_iteration_1_8_epoch \\\n",
        "    --n_tasks=10 \\\n",
        "    --n_self_edits_per_task=5"
      ],
      "metadata": {
        "id": "vLNLYvf_8qoC"
      },
      "execution_count": null,
      "outputs": []
    },
    {
      "cell_type": "code",
      "source": [
        "!python /content/SEAL/few-shot/eval-self-edits.py \\\n",
        "    --experiment_folder={TTI_DIR}/eval_set_RL_iteration_1_8_epoch \\\n",
        "    --pretrained_checkpoint={LORA_DIR}/self-edit/training_set_iteration_1/RL_trained_model_iteration_1_8_epoch \\\n",
        "    --lora_checkpoints_folder={LORA_DIR}/self-edit/eval_RL_iteration_1_8_epoch \\\n",
        "    --temperature=0 \\\n",
        "    --n_sample=1 \\\n",
        "    --data_file=${DATA_DIR}/arc-agi_evaluation_challenges_filtered_1B_eval_set.json \\\n",
        "    --solution_file=${DATA_DIR}/arc-agi_evaluation_solutions_filtered_1B_eval_set.json \\\n",
        "    --max_lora_rank=128 \\\n",
        "    --include_n=1 \\\n",
        "    --new_format \\\n",
        "    --num_examples=9 \\\n",
        "    --n_self_edits=5"
      ],
      "metadata": {
        "id": "_EpbSLpi8xbb"
      },
      "execution_count": null,
      "outputs": []
    },
    {
      "cell_type": "code",
      "source": [
        "!python /content/SEAL/few-shot/eval-self-edits-baseline.py \\\n",
        "    --experiment_folder=/content/SEAL/tti/eval_base_model \\\n",
        "    --pretrained_checkpoint=meta-llama/Llama-3.2-1B-Instruct \\\n",
        "    --lora_checkpoints_folder=${LORA_DIR}/self-edit/eval_RL_iteration_1_8_epoch \\\n",
        "    --temperature=0 \\\n",
        "    --n_sample=1 \\\n",
        "    --data_file=/content/SEAL/few-shot/data/arc-agi_evaluation_challenges_filtered_1B_eval_set.json \\\n",
        "    --solution_file=/content/SEAL/few-shot/data/arc-agi_evaluation_solutions_filtered_1B_eval_set.json \\\n",
        "    --max_lora_rank=128 \\\n",
        "    --include_n=1 \\\n",
        "    --new_format \\\n",
        "    --num_examples=9"
      ],
      "metadata": {
        "id": "s1O3obS-81ei"
      },
      "execution_count": null,
      "outputs": []
    },
    {
      "cell_type": "code",
      "source": [
        "!python /content/SEAL/few-shot/self-edit.py \\\n",
        "    --experiment_name=eval_RL_iteration_1 \\\n",
        "    --challenge_file=/content/SEAL/few-shot/data/arc-agi_evaluation_challenges_filtered_1B_eval_set.json \\\n",
        "    --solution_file=/content/SEAL/few-shot/data/arc-agi_evaluation_solutions_filtered_1B_eval_set.json \\\n",
        "    --model_name=${LORA_DIR}/self-edit/training_set_iteration_1/RL_trained_model_iteration_1 \\\n",
        "    --n_tasks=10 \\\n",
        "    --n_self_edits_per_task=5"
      ],
      "metadata": {
        "id": "LVocsW3a86wj"
      },
      "execution_count": null,
      "outputs": []
    }
  ]
}