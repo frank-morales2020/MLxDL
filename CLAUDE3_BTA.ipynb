{
  "nbformat": 4,
  "nbformat_minor": 0,
  "metadata": {
    "colab": {
      "provenance": [],
      "authorship_tag": "ABX9TyPVXmwojDR2f/m4SflbahmA",
      "include_colab_link": true
    },
    "kernelspec": {
      "name": "python3",
      "display_name": "Python 3"
    },
    "language_info": {
      "name": "python"
    }
  },
  "cells": [
    {
      "cell_type": "markdown",
      "metadata": {
        "id": "view-in-github",
        "colab_type": "text"
      },
      "source": [
        "<a href=\"https://colab.research.google.com/github/frank-morales2020/MLxDL/blob/main/CLAUDE3_BTA.ipynb\" target=\"_parent\"><img src=\"https://colab.research.google.com/assets/colab-badge.svg\" alt=\"Open In Colab\"/></a>"
      ]
    },
    {
      "cell_type": "markdown",
      "source": [
        "Source: https://docs.anthropic.com/claude/reference/client-sdks"
      ],
      "metadata": {
        "id": "QUKu-wBhsuB0"
      }
    },
    {
      "cell_type": "code",
      "source": [
        "!pip install anthropic -q\n",
        "\n",
        "!pip install colab-env --quiet"
      ],
      "metadata": {
        "id": "dTdfKcHoquYQ"
      },
      "execution_count": null,
      "outputs": []
    },
    {
      "cell_type": "code",
      "source": [
        "import anthropic\n",
        "import os\n",
        "import colab_env\n",
        "import json"
      ],
      "metadata": {
        "id": "e5eNA5Q1rmlU"
      },
      "execution_count": null,
      "outputs": []
    },
    {
      "cell_type": "markdown",
      "source": [
        "https://docs.anthropic.com/en/docs/models-overview\n",
        "\n",
        "claude-3-opus-20240229"
      ],
      "metadata": {
        "id": "lJOP8QZ-IG29"
      }
    },
    {
      "cell_type": "code",
      "source": [
        "def claude_chat(prompt,model,client):\n",
        "    message = client.messages.create(\n",
        "    model=\"claude-3-opus-20240229\",\n",
        "    max_tokens=1024,\n",
        "    messages=[\n",
        "        {\"role\": \"user\", \"content\": prompt}\n",
        "    ]\n",
        "    )\n",
        "    print()\n",
        "    print(\"-\" * 80)\n",
        "    print('Question: %s'%prompt)\n",
        "    print(\"-\" * 80)\n",
        "    print()\n",
        "    print('Answer: ')\n",
        "    print(message.content[0].text)\n",
        "    #return message.content[0].text"
      ],
      "metadata": {
        "id": "CY09u8sl2hMs"
      },
      "execution_count": null,
      "outputs": []
    },
    {
      "cell_type": "code",
      "source": [
        "api_key = os.environ[\"CLAUDE3_API_KEY\"]\n",
        "model=\"claude-3-opus-20240229\"\n",
        "\n",
        "client = anthropic.Anthropic(\n",
        "    api_key=api_key,\n",
        ")"
      ],
      "metadata": {
        "id": "6xslLYGCsBu2"
      },
      "execution_count": null,
      "outputs": []
    },
    {
      "cell_type": "code",
      "execution_count": null,
      "metadata": {
        "id": "uCZCEqrkqlYU"
      },
      "outputs": [],
      "source": [
        "message = client.messages.create(\n",
        "    model=\"claude-3-opus-20240229\",\n",
        "    max_tokens=1024,\n",
        "    messages=[\n",
        "        {\"role\": \"user\", \"content\": \"Hello, Claude\"}\n",
        "    ]\n",
        ")"
      ]
    },
    {
      "cell_type": "code",
      "source": [
        "print(message.content[0].text)"
      ],
      "metadata": {
        "colab": {
          "base_uri": "https://localhost:8080/"
        },
        "id": "-n5-NR4Rs5JY",
        "outputId": "76428bab-25b4-4653-9e94-c6d82d1da6cb"
      },
      "execution_count": null,
      "outputs": [
        {
          "output_type": "stream",
          "name": "stdout",
          "text": [
            "Hello! It's nice to meet you. How are you doing today?\n"
          ]
        }
      ]
    },
    {
      "cell_type": "markdown",
      "source": [
        "# Bob Travel App"
      ],
      "metadata": {
        "id": "D9JRSs80EJhE"
      }
    },
    {
      "cell_type": "code",
      "source": [
        "prompt= 'How do you plan out your trip? \\\n",
        "Bob is travelling to SAT from YVR \\\n",
        "1. He has a connection in DFW \\\n",
        "2. His connection is 6 hours long \\\n",
        "3. He has a budget of 100.00 including meals \\\n",
        "4. What can he do? Please suggest a time. \\\n",
        "5. Know- he is a hiker, museum, foodie, has a carry-on bag'\n",
        "\n",
        "claude_chat(prompt,model,client)"
      ],
      "metadata": {
        "colab": {
          "base_uri": "https://localhost:8080/"
        },
        "id": "-FcvXtdmEQyq",
        "outputId": "1d55737b-635f-471f-8541-b92cfd58c431"
      },
      "execution_count": null,
      "outputs": [
        {
          "output_type": "stream",
          "name": "stdout",
          "text": [
            "\n",
            "--------------------------------------------------------------------------------\n",
            "Question: How do you plan out your trip? Bob is travelling to SAT from YVR 1. He has a connection in DFW 2. His connection is 6 hours long 3. He has a budget of 100.00 including meals 4. What can he do? Please suggest a time. 5. Know- he is a hiker, museum, foodie, has a carry-on bag\n",
            "--------------------------------------------------------------------------------\n",
            "\n",
            "Answer: \n",
            "Considering Bob's interests and the information provided, here's a plan for his 6-hour layover at DFW:\n",
            "\n",
            "1. After landing at DFW, Bob should check the departure gate and time for his connecting flight to SAT.\n",
            "\n",
            "2. With his carry-on bag, Bob can easily leave the airport. He should take the DFW Airport Skylink to Terminal A and follow the signs to the Ground Transportation area.\n",
            "\n",
            "3. Bob can take a taxi or ride-sharing service to the Marriott Suites Market Center, which is about a 15-minute drive from the airport. The hotel offers luggage storage for a small fee, so Bob can leave his carry-on there.\n",
            "\n",
            "4. From the hotel, Bob can walk to the Katy Trail, a popular hiking and biking trail that runs through the heart of Dallas. He can spend about an hour exploring the trail and enjoying the outdoor scenery.\n",
            "\n",
            "5. After his hike, Bob can take a taxi or ride-sharing service to the Dallas Museum of Art, which is about a 10-minute drive from the Katy Trail. Admission to the museum is free, and Bob can spend about an hour exploring the exhibits.\n",
            "\n",
            "6. For a late lunch or early dinner, Bob can walk to the nearby Klyde Warren Park, where he'll find several food trucks offering a variety of cuisines. He can enjoy his meal in the park and soak up the lively atmosphere.\n",
            "\n",
            "7. After his meal, Bob should take a taxi or ride-sharing service back to the Marriott Suites Market Center to retrieve his carry-on bag.\n",
            "\n",
            "8. From the hotel, Bob can take a taxi or ride-sharing service back to DFW Airport. He should aim to arrive at the airport at least 90 minutes before his connecting flight to SAT.\n",
            "\n",
            "Suggested timeline:\n",
            "- 1:00 PM: Land at DFW and check departure gate and time\n",
            "- 1:30 PM: Leave the airport and travel to Marriott Suites Market Center\n",
            "- 2:00 PM: Store carry-on bag at the hotel and walk to Katy Trail\n",
            "- 2:15 PM - 3:15 PM: Hike on Katy Trail\n",
            "- 3:30 PM - 4:30 PM: Visit Dallas Museum of Art\n",
            "- 4:45 PM - 5:45 PM: Late lunch/early dinner at Klyde Warren Park\n",
            "- 6:00 PM: Retrieve carry-on bag from hotel\n",
            "- 6:30 PM: Arrive back at DFW Airport\n",
            "\n",
            "Note: The above plan should fit within Bob's $100 budget, considering the cost of transportation, luggage storage, and food. However, prices may vary, so it's a good idea for Bob to check current rates and adjust the plan accordingly.\n"
          ]
        }
      ]
    }
  ]
}