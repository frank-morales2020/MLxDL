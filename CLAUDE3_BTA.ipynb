{
  "nbformat": 4,
  "nbformat_minor": 0,
  "metadata": {
    "colab": {
      "provenance": [],
      "authorship_tag": "ABX9TyPVXmwojDR2f/m4SflbahmA",
      "include_colab_link": true
    },
    "kernelspec": {
      "name": "python3",
      "display_name": "Python 3"
    },
    "language_info": {
      "name": "python"
    }
  },
  "cells": [
    {
      "cell_type": "markdown",
      "metadata": {
        "id": "view-in-github",
        "colab_type": "text"
      },
      "source": [
        "<a href=\"https://colab.research.google.com/github/frank-morales2020/MLxDL/blob/main/CLAUDE3_BTA.ipynb\" target=\"_parent\"><img src=\"https://colab.research.google.com/assets/colab-badge.svg\" alt=\"Open In Colab\"/></a>"
      ]
    },
    {
      "cell_type": "markdown",
      "source": [
        "Source: https://docs.anthropic.com/claude/reference/client-sdks"
      ],
      "metadata": {
        "id": "QUKu-wBhsuB0"
      }
    },
    {
      "cell_type": "code",
      "source": [
        "!pip install anthropic -q\n",
        "\n",
        "!pip install colab-env --quiet"
      ],
      "metadata": {
        "id": "dTdfKcHoquYQ",
        "colab": {
          "base_uri": "https://localhost:8080/"
        },
        "outputId": "7d2fcc3d-a07e-4cf6-9bd0-0da61a8f9b92"
      },
      "execution_count": null,
      "outputs": [
        {
          "output_type": "stream",
          "name": "stdout",
          "text": [
            "\u001b[?25l   \u001b[90m━━━━━━━━━━━━━━━━━━━━━━━━━━━━━━━━━━━━━━━━\u001b[0m \u001b[32m0.0/198.4 kB\u001b[0m \u001b[31m?\u001b[0m eta \u001b[36m-:--:--\u001b[0m\r\u001b[2K   \u001b[90m━━━━━━━━━━━━━━━━━━━━━━━━━━━━━━━━━━━━━━━━\u001b[0m \u001b[32m198.4/198.4 kB\u001b[0m \u001b[31m6.4 MB/s\u001b[0m eta \u001b[36m0:00:00\u001b[0m\n",
            "\u001b[?25h  Preparing metadata (setup.py) ... \u001b[?25l\u001b[?25hdone\n",
            "  Building wheel for colab-env (setup.py) ... \u001b[?25l\u001b[?25hdone\n"
          ]
        }
      ]
    },
    {
      "cell_type": "code",
      "source": [
        "import anthropic\n",
        "import os\n",
        "import colab_env\n",
        "import json"
      ],
      "metadata": {
        "id": "e5eNA5Q1rmlU",
        "colab": {
          "base_uri": "https://localhost:8080/"
        },
        "outputId": "e0423048-f952-4a6b-a8ff-ee6fb1f63223"
      },
      "execution_count": null,
      "outputs": [
        {
          "output_type": "stream",
          "name": "stdout",
          "text": [
            "Mounted at /content/gdrive\n"
          ]
        }
      ]
    },
    {
      "cell_type": "markdown",
      "source": [
        "https://docs.anthropic.com/en/docs/models-overview\n",
        "\n",
        "claude-3-opus-20240229"
      ],
      "metadata": {
        "id": "lJOP8QZ-IG29"
      }
    },
    {
      "cell_type": "code",
      "source": [
        "def claude_chat(prompt,model,client):\n",
        "    message = client.messages.create(\n",
        "    model=\"claude-3-opus-20240229\",\n",
        "    max_tokens=1024,\n",
        "    messages=[\n",
        "        {\"role\": \"user\", \"content\": prompt}\n",
        "    ]\n",
        "    )\n",
        "    print()\n",
        "    print(\"-\" * 80)\n",
        "    print('Question: %s'%prompt)\n",
        "    print(\"-\" * 80)\n",
        "    print()\n",
        "    print('Answer: ')\n",
        "    print(message.content[0].text)\n",
        "    #return message.content[0].text"
      ],
      "metadata": {
        "id": "CY09u8sl2hMs"
      },
      "execution_count": null,
      "outputs": []
    },
    {
      "cell_type": "code",
      "source": [
        "api_key = os.environ[\"CLAUDE3_API_KEY\"]\n",
        "model=\"claude-3-opus-20240229\"\n",
        "\n",
        "client = anthropic.Anthropic(\n",
        "    api_key=api_key,\n",
        ")"
      ],
      "metadata": {
        "id": "6xslLYGCsBu2"
      },
      "execution_count": null,
      "outputs": []
    },
    {
      "cell_type": "code",
      "execution_count": null,
      "metadata": {
        "id": "uCZCEqrkqlYU"
      },
      "outputs": [],
      "source": [
        "message = client.messages.create(\n",
        "    model=\"claude-3-opus-20240229\",\n",
        "    max_tokens=1024,\n",
        "    messages=[\n",
        "        {\"role\": \"user\", \"content\": \"Hello, Claude\"}\n",
        "    ]\n",
        ")"
      ]
    },
    {
      "cell_type": "code",
      "source": [
        "print(message.content[0].text)"
      ],
      "metadata": {
        "colab": {
          "base_uri": "https://localhost:8080/"
        },
        "id": "-n5-NR4Rs5JY",
        "outputId": "6d7c27f8-1343-4742-c20c-87fe98d22fc8"
      },
      "execution_count": null,
      "outputs": [
        {
          "output_type": "stream",
          "name": "stdout",
          "text": [
            "Hello! It's nice to meet you. How can I assist you today?\n"
          ]
        }
      ]
    },
    {
      "cell_type": "markdown",
      "source": [
        "# Bob Travel App"
      ],
      "metadata": {
        "id": "D9JRSs80EJhE"
      }
    },
    {
      "cell_type": "code",
      "source": [
        "prompt= 'How do you plan out your trip? \\\n",
        "Bob is travelling to SAT from YVR \\\n",
        "1. He has a connection in DFW \\\n",
        "2. His connection is 6 hours long \\\n",
        "3. He has a budget of 100.00 including meals \\\n",
        "4. What can he do? Please suggest a time. \\\n",
        "5. Know- he is a hiker, museum, foodie, has a carry-on bag'\n",
        "\n",
        "claude_chat(prompt,model,client)"
      ],
      "metadata": {
        "colab": {
          "base_uri": "https://localhost:8080/"
        },
        "id": "-FcvXtdmEQyq",
        "outputId": "0b7d5809-1ecc-4c68-8989-977264fa6450"
      },
      "execution_count": null,
      "outputs": [
        {
          "output_type": "stream",
          "name": "stdout",
          "text": [
            "\n",
            "--------------------------------------------------------------------------------\n",
            "Question: How do you plan out your trip? Bob is travelling to SAT from YVR 1. He has a connection in DFW 2. His connection is 6 hours long 3. He has a budget of 100.00 including meals 4. What can he do? Please suggest a time. 5. Know- he is a hiker, museum, foodie, has a carry-on bag\n",
            "--------------------------------------------------------------------------------\n",
            "\n",
            "Answer: \n",
            "Here's a plan for Bob's 6-hour layover at DFW airport:\n",
            "\n",
            "1. Upon arrival at DFW, store the carry-on bag at one of the airport's luggage storage facilities. This will cost around $10-15 for the duration of the layover.\n",
            "\n",
            "2. Take the DFW Airport Skylink to Terminal D and head to the DFW Airport DART Station. Purchase a day pass for the DART (Dallas Area Rapid Transit) for around $6.\n",
            "\n",
            "3. Take the DART Orange Line to the Dallas Museum of Art (DMA) station. The journey takes about 50 minutes.\n",
            "\n",
            "4. Visit the Dallas Museum of Art, which has free general admission. Spend around 1.5 to 2 hours exploring the exhibits. Time: 11:00 AM - 1:00 PM.\n",
            "\n",
            "5. Walk to Klyde Warren Park (5 minutes) and grab lunch from one of the food trucks or nearby restaurants. Budget around $15-20 for lunch. Time: 1:00 PM - 2:00 PM.\n",
            "\n",
            "6. Take the DART Green Line from the Pearl/Arts District Station to the Trinity Mills Station. From there, take the A-train to the Downtown Denton Transit Center. The journey takes about 1 hour and 20 minutes.\n",
            "\n",
            "7. Walk to the Denton County Courthouse-on-the-Square and explore the nearby shops and historic buildings for about an hour. Time: 3:30 PM - 4:30 PM.\n",
            "\n",
            "8. Take the A-train and DART Green Line back to the DFW Airport, which will take around 1 hour and 30 minutes.\n",
            "\n",
            "9. Retrieve the carry-on bag from the storage facility and head to the connecting gate.\n",
            "\n",
            "Budget breakdown:\n",
            "- Luggage storage: $10-15\n",
            "- DART day pass: $6\n",
            "- Lunch: $15-20\n",
            "- Museum admission: Free\n",
            "Total estimated cost: $31-41\n",
            "\n",
            "This plan allows Bob to explore a museum, enjoy a meal, and experience a bit of the Dallas-Fort Worth area without exceeding his budget. However, he should always keep track of time and ensure he returns to the airport with plenty of time before his connecting flight.\n"
          ]
        }
      ]
    }
  ]
}