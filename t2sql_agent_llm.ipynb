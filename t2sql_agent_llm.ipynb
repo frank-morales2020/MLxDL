{
  "cells": [
    {
      "cell_type": "markdown",
      "metadata": {
        "id": "view-in-github",
        "colab_type": "text"
      },
      "source": [
        "<a href=\"https://colab.research.google.com/github/frank-morales2020/MLxDL/blob/main/t2sql_agent_llm.ipynb\" target=\"_parent\"><img src=\"https://colab.research.google.com/assets/colab-badge.svg\" alt=\"Open In Colab\"/></a>"
      ]
    },
    {
      "cell_type": "code",
      "source": [
        "import sqlite3\n",
        "import torch\n",
        "from transformers import AutoTokenizer, AutoModelForSeq2SeqLM\n",
        "\n",
        "# Sample database (in-memory)\n",
        "conn = sqlite3.connect(':memory:')\n",
        "cursor = conn.cursor()\n",
        "cursor.execute('''CREATE TABLE employees\n",
        "             (id INTEGER PRIMARY KEY, name TEXT, department TEXT, salary REAL)''')\n",
        "cursor.execute(\"INSERT INTO employees VALUES (1, 'Alice', 'Sales', 60000)\")\n",
        "cursor.execute(\"INSERT INTO employees VALUES (2, 'Bob', 'Marketing', 70000)\")\n",
        "cursor.execute(\"INSERT INTO employees VALUES (3, 'Charlie', 'Sales', 65000)\")\n",
        "conn.commit()\n",
        "\n",
        "# Check if a GPU is available\n",
        "device = 0 if torch.cuda.is_available() else -1\n",
        "\n",
        "# Initialize the tokenizer and model\n",
        "tokenizer = AutoTokenizer.from_pretrained(\"google/flan-t5-xl\")\n",
        "model = AutoModelForSeq2SeqLM.from_pretrained(\"google/flan-t5-xl\").to(device)"
      ],
      "metadata": {
        "id": "QIG_3JaB3wwY"
      },
      "execution_count": null,
      "outputs": []
    },
    {
      "cell_type": "code",
      "source": [
        "!nvidia-smi"
      ],
      "metadata": {
        "colab": {
          "base_uri": "https://localhost:8080/"
        },
        "id": "jJOmUE5HAVT4",
        "outputId": "2efe5937-087c-4249-89ed-97e71c152504"
      },
      "execution_count": null,
      "outputs": [
        {
          "output_type": "stream",
          "name": "stdout",
          "text": [
            "Sun Dec 15 06:43:49 2024       \n",
            "+---------------------------------------------------------------------------------------+\n",
            "| NVIDIA-SMI 535.104.05             Driver Version: 535.104.05   CUDA Version: 12.2     |\n",
            "|-----------------------------------------+----------------------+----------------------+\n",
            "| GPU  Name                 Persistence-M | Bus-Id        Disp.A | Volatile Uncorr. ECC |\n",
            "| Fan  Temp   Perf          Pwr:Usage/Cap |         Memory-Usage | GPU-Util  Compute M. |\n",
            "|                                         |                      |               MIG M. |\n",
            "|=========================================+======================+======================|\n",
            "|   0  NVIDIA L4                      Off | 00000000:00:03.0 Off |                    0 |\n",
            "| N/A   52C    P0              30W /  72W |  11065MiB / 23034MiB |     31%      Default |\n",
            "|                                         |                      |                  N/A |\n",
            "+-----------------------------------------+----------------------+----------------------+\n",
            "                                                                                         \n",
            "+---------------------------------------------------------------------------------------+\n",
            "| Processes:                                                                            |\n",
            "|  GPU   GI   CI        PID   Type   Process name                            GPU Memory |\n",
            "|        ID   ID                                                             Usage      |\n",
            "|=======================================================================================|\n",
            "+---------------------------------------------------------------------------------------+\n"
          ]
        }
      ]
    },
    {
      "cell_type": "code",
      "source": [
        "import sqlite3\n",
        "\n",
        "# Sample database (in-memory)\n",
        "conn = sqlite3.connect(':memory:')\n",
        "cursor = conn.cursor()\n",
        "cursor.execute('''CREATE TABLE employees\n",
        "             (id INTEGER PRIMARY KEY, name TEXT, department TEXT, salary REAL)''')\n",
        "cursor.execute(\"INSERT INTO employees VALUES (1, 'Alice', 'Sales', 60000)\")\n",
        "cursor.execute(\"INSERT INTO employees VALUES (2, 'Bob', 'Marketing', 70000)\")\n",
        "cursor.execute(\"INSERT INTO employees VALUES (3, 'Charlie', 'Sales', 65000)\")\n",
        "conn.commit()\n",
        "\n",
        "def t2sql_agent(query):\n",
        "    \"\"\"\n",
        "    Translates a natural language query into SQL using a rule-based approach.\n",
        "\n",
        "    Args:\n",
        "      query: The natural language query.\n",
        "\n",
        "    Returns:\n",
        "      The result of the SQL query.\n",
        "    \"\"\"\n",
        "    query = query.lower()\n",
        "    if \"highest salary\" in query:\n",
        "        sql_query = \"SELECT MAX(salary) FROM employees\"\n",
        "    elif \"average salary\" in query and \"marketing\" in query:\n",
        "        sql_query = \"SELECT AVG(salary) FROM employees WHERE department = 'Marketing'\"\n",
        "    elif \"employees\" in query and \"sales\" in query:\n",
        "        sql_query = \"SELECT * FROM employees WHERE department = 'Sales'\"\n",
        "    elif \"all employees\" in query:  # New rule for retrieving all employees\n",
        "        sql_query = \"SELECT * FROM employees\"\n",
        "    else:\n",
        "        return \"I don't understand that query.\"\n",
        "\n",
        "    try:\n",
        "        cursor.execute(sql_query)\n",
        "        results = cursor.fetchall()\n",
        "        return results\n",
        "    except Exception as e:\n",
        "        return f\"Error executing SQL query: {e}\"\n",
        "\n",
        "# Example usage with labels\n",
        "user_queries = [\n",
        "    \"What is the highest salary in the company?\",\n",
        "    \"Show all employees working in the Sales department\",\n",
        "    \"What is the average salary of employees in the Marketing department?\",\n",
        "    \"Show all employees\"  # New query\n",
        "]\n",
        "\n",
        "for user_query in user_queries:\n",
        "    print(f\"Query: {user_query}\")\n",
        "    results = t2sql_agent(user_query)\n",
        "    print(f\"Result: {results}\\n\")"
      ],
      "metadata": {
        "colab": {
          "base_uri": "https://localhost:8080/"
        },
        "id": "68dY0-d2XtcM",
        "outputId": "936d1f3b-bd51-4869-d270-5ab320f02977"
      },
      "execution_count": null,
      "outputs": [
        {
          "output_type": "stream",
          "name": "stdout",
          "text": [
            "Query: What is the highest salary in the company?\n",
            "Result: [(70000.0,)]\n",
            "\n",
            "Query: Show all employees working in the Sales department\n",
            "Result: [(1, 'Alice', 'Sales', 60000.0), (3, 'Charlie', 'Sales', 65000.0)]\n",
            "\n",
            "Query: What is the average salary of employees in the Marketing department?\n",
            "Result: [(70000.0,)]\n",
            "\n",
            "Query: Show all employees\n",
            "Result: [(1, 'Alice', 'Sales', 60000.0), (2, 'Bob', 'Marketing', 70000.0), (3, 'Charlie', 'Sales', 65000.0)]\n",
            "\n"
          ]
        }
      ]
    },
    {
      "cell_type": "code",
      "source": [
        "def t2sql_agent_with_llm(query):\n",
        "    \"\"\"\n",
        "    Translates a natural language query into SQL using an LLM with a highly guided prompt.\n",
        "\n",
        "    Args:\n",
        "      query: The natural language query.\n",
        "\n",
        "    Returns:\n",
        "      The result of the SQL query.\n",
        "    \"\"\"\n",
        "\n",
        "    # Use the LLM to generate the SQL query\n",
        "    prompt = f\"\"\"\n",
        "    You are a helpful AI assistant that translates natural language queries to SQL.\n",
        "    The database has one table named 'employees' with the following columns: id, name, department, and salary.\n",
        "    You MUST generate a valid SQL query that accurately reflects the information requested in the natural language query.\n",
        "    Pay close attention to the column names and ensure all necessary columns are included in the SELECT statement.\n",
        "\n",
        "    Example 1:\n",
        "    Natural Language Query: What is the highest salary in the company?\n",
        "    SQL Query: SELECT MAX(salary) FROM employees\n",
        "\n",
        "    Example 2:\n",
        "    Natural Language Query: Show all employees working in the Sales department.\n",
        "    SQL Query: SELECT * FROM employees WHERE department = 'Sales'\n",
        "\n",
        "    Example 3:\n",
        "    Natural Language Query: What is the average salary of employees in the Marketing department?\n",
        "    SQL Query: SELECT AVG(salary) FROM employees WHERE department = 'Marketing'\n",
        "\n",
        "    Natural Language Query: {query}\n",
        "    SQL Query:\"\"\"\n",
        "\n",
        "    inputs = tokenizer(prompt, return_tensors=\"pt\").to(device)\n",
        "    outputs = model.generate(**inputs, max_length=150)\n",
        "    generated_sql = tokenizer.decode(outputs[0], skip_special_tokens=True)\n",
        "\n",
        "    # Remove the prompt and any leading/trailing whitespace from the generated SQL\n",
        "    generated_sql = generated_sql.replace(prompt, \"\").strip()\n",
        "\n",
        "    try:\n",
        "        # Execute the generated SQL query\n",
        "        cursor.execute(generated_sql)\n",
        "        results = cursor.fetchall()\n",
        "        return results\n",
        "    except Exception as e:\n",
        "        return f\"Error executing SQL query: {generated_sql} - {e}\""
      ],
      "metadata": {
        "id": "IP_H_R6F5UDQ"
      },
      "execution_count": null,
      "outputs": []
    },
    {
      "cell_type": "code",
      "source": [
        "# Example usage with labels\n",
        "user_queries = [\n",
        "    \"What is the highest salary in the company?\",\n",
        "    \"Show all employees working in the Sales department\",\n",
        "    \"What is the average salary of employees in the Marketing department?\",\n",
        "    \"Show all employees\"\n",
        "]\n",
        "\n",
        "for user_query in user_queries:\n",
        "    print(f\"Query: {user_query}\")\n",
        "    results = t2sql_agent_with_llm(user_query)  # Using the LLM function\n",
        "    print(f\"Result: {results}\\n\")"
      ],
      "metadata": {
        "colab": {
          "base_uri": "https://localhost:8080/"
        },
        "id": "kSEh0l6L00lU",
        "outputId": "4a7ac8dc-bb35-4078-eb99-775e492ad485"
      },
      "execution_count": null,
      "outputs": [
        {
          "output_type": "stream",
          "name": "stdout",
          "text": [
            "Query: What is the highest salary in the company?\n",
            "Result: [(70000.0,)]\n",
            "\n",
            "Query: Show all employees working in the Sales department\n",
            "Result: [(1, 'Alice', 'Sales', 60000.0), (3, 'Charlie', 'Sales', 65000.0)]\n",
            "\n",
            "Query: What is the average salary of employees in the Marketing department?\n",
            "Result: [(70000.0,)]\n",
            "\n",
            "Query: Show all employees\n",
            "Result: [(1, 'Alice', 'Sales', 60000.0), (2, 'Bob', 'Marketing', 70000.0), (3, 'Charlie', 'Sales', 65000.0)]\n",
            "\n"
          ]
        }
      ]
    }
  ],
  "metadata": {
    "accelerator": "GPU",
    "colab": {
      "gpuType": "L4",
      "machine_shape": "hm",
      "provenance": [],
      "authorship_tag": "ABX9TyMw2ITr0UtEkrOBrL4GIsly",
      "include_colab_link": true
    },
    "kernelspec": {
      "display_name": "Python 3",
      "name": "python3"
    },
    "language_info": {
      "name": "python"
    }
  },
  "nbformat": 4,
  "nbformat_minor": 0
}