{
  "nbformat": 4,
  "nbformat_minor": 0,
  "metadata": {
    "colab": {
      "provenance": [],
      "authorship_tag": "ABX9TyPg9UY75OFyBY+B8Bh05LwD",
      "include_colab_link": true
    },
    "kernelspec": {
      "name": "python3",
      "display_name": "Python 3"
    },
    "language_info": {
      "name": "python"
    }
  },
  "cells": [
    {
      "cell_type": "markdown",
      "metadata": {
        "id": "view-in-github",
        "colab_type": "text"
      },
      "source": [
        "<a href=\"https://colab.research.google.com/github/frank-morales2020/MLxDL/blob/main/DEEPSEEK_API_DEMO.ipynb\" target=\"_parent\"><img src=\"https://colab.research.google.com/assets/colab-badge.svg\" alt=\"Open In Colab\"/></a>"
      ]
    },
    {
      "cell_type": "code",
      "execution_count": 4,
      "metadata": {
        "colab": {
          "base_uri": "https://localhost:8080/",
          "height": 0
        },
        "id": "0jbuhldedM1W",
        "outputId": "f9aa16e9-2716-484d-ed6f-15ea39558b3c"
      },
      "outputs": [
        {
          "output_type": "stream",
          "name": "stdout",
          "text": [
            "Hello! How can I assist you today? 😊\n"
          ]
        }
      ],
      "source": [
        "# Please install OpenAI SDK first: `pip3 install openai`\n",
        "\n",
        "from openai import OpenAI\n",
        "\n",
        "from google.colab import userdata\n",
        "\n",
        "api_key=userdata.get(\"DEEPSEEK_API_KEY\")\n",
        "\n",
        "client = OpenAI(api_key=api_key, base_url=\"https://api.deepseek.com\")\n",
        "\n",
        "response = client.chat.completions.create(\n",
        "    model=\"deepseek-chat\",\n",
        "    messages=[\n",
        "        {\"role\": \"system\", \"content\": \"You are a helpful assistant\"},\n",
        "        {\"role\": \"user\", \"content\": \"Hello\"},\n",
        "    ],\n",
        "    stream=False\n",
        ")\n",
        "\n",
        "print(response.choices[0].message.content)"
      ]
    },
    {
      "cell_type": "code",
      "metadata": {
        "colab": {
          "base_uri": "https://localhost:8080/",
          "height": 0
        },
        "id": "7edbcd72",
        "outputId": "66e6199d-ffd3-4968-9abd-db392e9e9348"
      },
      "source": [
        "models = client.models.list()\n",
        "for model in models:\n",
        "    print(model.id)"
      ],
      "execution_count": 5,
      "outputs": [
        {
          "output_type": "stream",
          "name": "stdout",
          "text": [
            "deepseek-chat\n",
            "deepseek-reasoner\n"
          ]
        }
      ]
    },
    {
      "cell_type": "code",
      "metadata": {
        "colab": {
          "base_uri": "https://localhost:8080/",
          "height": 0
        },
        "id": "12c4fbe5",
        "outputId": "ec6a2713-d63f-47ba-bbd1-e489c74f4dac"
      },
      "source": [
        "response_reasoner = client.chat.completions.create(\n",
        "    model=\"deepseek-reasoner\",\n",
        "    messages=[\n",
        "        {\"role\": \"system\", \"content\": \"You are a helpful assistant that can solve logic puzzles.\"},\n",
        "        {\"role\": \"user\", \"content\": \"There are three boxes. One contains only apples, one contains only oranges, and one contains both apples and oranges. Each box is incorrectly labeled. You can only open one box and take out one fruit. By looking at the fruit, how can you label all the boxes correctly?\"},\n",
        "    ],\n",
        "    stream=False\n",
        ")\n",
        "\n",
        "print(response_reasoner.choices[0].message.content)"
      ],
      "execution_count": 6,
      "outputs": [
        {
          "output_type": "stream",
          "name": "stdout",
          "text": [
            "To solve this puzzle, open the box labeled \"Both\" (since all labels are incorrect, this box cannot contain both apples and oranges). Take out one fruit from this box.\n",
            "\n",
            "- If you take out an apple, then the box labeled \"Both\" actually contains only apples. Therefore:\n",
            "  - The box labeled \"Apples\" cannot contain only apples (because its label is incorrect), and it cannot contain only apples since that box is already accounted for, so it must contain only oranges.\n",
            "  - The box labeled \"Oranges\" cannot contain only oranges (because its label is incorrect), so it must contain both apples and oranges.\n",
            "\n",
            "- If you take out an orange, then the box labeled \"Both\" actually contains only oranges. Therefore:\n",
            "  - The box labeled \"Oranges\" cannot contain only oranges (because its label is incorrect), and it cannot contain only oranges since that box is already accounted for, so it must contain only apples.\n",
            "  - The box labeled \"Apples\" cannot contain only apples (because its label is incorrect), so it must contain both apples and oranges.\n",
            "\n",
            "By opening only one box (the one labeled \"Both\") and taking out one fruit, you can deduce the correct labels for all three boxes.\n"
          ]
        }
      ]
    },
    {
      "cell_type": "code",
      "metadata": {
        "colab": {
          "base_uri": "https://localhost:8080/",
          "height": 0
        },
        "id": "1d693ab8",
        "outputId": "ec93550f-5b92-4d2a-fb5b-48d5fa99d845"
      },
      "source": [
        "response_difficult_reasoner = client.chat.completions.create(\n",
        "    model=\"deepseek-reasoner\",\n",
        "    messages=[\n",
        "        {\"role\": \"system\", \"content\": \"You are a helpful assistant that can solve complex logic puzzles.\"},\n",
        "        {\"role\": \"user\", \"content\": \"Five friends, Alice, Bob, Carol, David, and Eve, each have a different favorite color (blue, green, red, yellow, purple) and a different favorite animal (cat, dog, bird, fish, snake). From the clues below, determine each person's favorite color and animal.\\n\\nClues:\\n1. Alice does not like purple or the snake.\\n2. The person who likes red has a bird.\\n3. Bob likes the dog.\\n4. Carol's favorite color is blue.\\n5. David likes the fish.\\n6. The person who likes yellow does not like the cat.\\n7. Eve's favorite animal is not the snake.\\n8. The person who likes the snake does not like green.\\n9. Bob's favorite color is not yellow.\\n10. Carol's favorite animal is not the cat or the snake.\\n11. The person who likes purple does not have a fish.\\n12. Alice's favorite animal is not the bird or the dog.\\n13. The person who likes green does not have a cat.\\n14. Eve does not like red.\\n15. The person who likes blue does not like the fish.\\n16. David's favorite color is not green or yellow.\\n17. The person who likes the bird does not like green.\\n\"},\n",
        "    ],\n",
        "    stream=False\n",
        ")\n",
        "\n",
        "print(response_difficult_reasoner.choices[0].message.content)"
      ],
      "execution_count": 7,
      "outputs": [
        {
          "output_type": "stream",
          "name": "stdout",
          "text": [
            "After careful analysis of the clues provided, it appears that there are contradictions within the clues that make it impossible to determine each person's favorite color and animal without violating at least one clue. The main contradictions arise from the following deductions:\n",
            "\n",
            "- From clues 3, 5, 7, 12, and 1, Alice must have the cat as her favorite animal (since she cannot have bird, dog, snake, or fish). \n",
            "- Then, from clues 10 and the remaining animals, Carol must have the bird as her favorite animal (since she cannot have cat, snake, or fish due to clues 10 and 15, and dog is taken by Bob).\n",
            "- However, from clue 2, the person who likes red must have the bird. Since Carol has the bird, she must like red, but clue 4 states that Carol likes blue, leading to a contradiction.\n",
            "- Additionally, from clue 14, Eve does not like red, so if Eve had the bird, she would need to like red, which violates clue 14.\n",
            "\n",
            "Other contradictions involve David:\n",
            "- From clue 16, David's favorite color must be red or purple (not green or yellow, and blue is taken by Carol).\n",
            "- If David likes red, from clue 2, he must have the bird, but clue 5 states he has the fish, leading to a contradiction.\n",
            "- If David likes purple, from clue 11, he cannot have the fish, but clue 5 states he has the fish, leading to another contradiction.\n",
            "\n",
            "Due to these inconsistencies, the clues cannot be satisfied simultaneously. Therefore, it is not possible to determine the favorite colors and animals for each person based on the given clues. If there might be a typo or error in the clues, please double-check them for accuracy.\n"
          ]
        }
      ]
    },
    {
      "cell_type": "code",
      "metadata": {
        "colab": {
          "base_uri": "https://localhost:8080/",
          "height": 0
        },
        "id": "7d875705",
        "outputId": "18a2c2a2-e10b-4370-c4de-0045c4f99050"
      },
      "source": [
        "response_another_reasoner = client.chat.completions.create(\n",
        "    model=\"deepseek-reasoner\",\n",
        "    messages=[\n",
        "        {\"role\": \"system\", \"content\": \"You are a helpful assistant that can solve complex logic puzzles.\"},\n",
        "        {\"role\": \"user\", \"content\": \"There are five houses in a row, each painted a different color. In each house lives a person of a different nationality. Each person drinks a different type of beverage, smokes a different brand of cigarettes, and owns a different pet.\\n\\nHere are the clues:\\n1. The Brit lives in the red house.\\n2. The Swede keeps dogs as pets.\\n3. The Dane drinks tea.\\n4. The green house is on the left of the white house.\\n5. The green house owner drinks coffee.\\n6. The person who smokes Pall Mall owns birds.\\n7. The owner of the yellow house smokes Dunhill.\\n8. The man living in the center house drinks milk.\\n9. The Norwegian lives in the first house.\\n10. The man who smokes Blends lives next to the man who keeps cats.\\n11. The man who keeps horses lives next to the man who smokes Dunhill.\\n12. The owner who smokes BlueMaster drinks beer.\\n13. The German smokes Prince.\\n14. The Norwegian lives next to the blue house.\\n15. The man who smokes Blends has a neighbor who drinks water.\\n\\nThe question is: Who owns the fish?\"}\n",
        "    ],\n",
        "    stream=False\n",
        ")\n",
        "\n",
        "print(response_another_reasoner.choices[0].message.content)"
      ],
      "execution_count": 8,
      "outputs": [
        {
          "output_type": "stream",
          "name": "stdout",
          "text": [
            "Based on the given clues and logical deductions, the German owns the fish. Here is the complete arrangement of the five houses:\n",
            "\n",
            "| House Number | Color    | Nationality | Drink    | Cigarette     | Pet    |\n",
            "|-------------|----------|-------------|----------|---------------|--------|\n",
            "| 1           | Yellow   | Norwegian  | Water    | Dunhill       | Cats   |\n",
            "| 2           | Blue     | Dane       | Tea      | Blends        | Horses |\n",
            "| 3           | Red      | Brit       | Milk     | Pall Mall     | Birds  |\n",
            "| 4           | Green    | German     | Coffee   | Prince        | Fish   |\n",
            "| 5           | White    | Swede      | Beer     | BlueMaster    | Dogs   |\n",
            "\n",
            "The German lives in the green house, drinks coffee, smokes Prince, and owns the fish.\n"
          ]
        }
      ]
    },
    {
      "cell_type": "markdown",
      "source": [
        "Excellent! The deepseek-reasoner model successfully solved the Einstein riddle and provided the correct answer: the German owns the fish. It even included a helpful table summarizing the details for each house.\n",
        "\n",
        "This shows the model's capability to handle complex deductive reasoning problems when the clues are consistent."
      ],
      "metadata": {
        "id": "frfsOCTWkqKC"
      }
    },
    {
      "cell_type": "code",
      "metadata": {
        "colab": {
          "base_uri": "https://localhost:8080/",
          "height": 0
        },
        "id": "ce0b3789",
        "outputId": "d9e689e3-9331-4258-c84c-74bb1e2b33a7"
      },
      "source": [
        "response_very_difficult_reasoner = client.chat.completions.create(\n",
        "    model=\"deepseek-reasoner\",\n",
        "    messages=[\n",
        "        {\"role\": \"system\", \"content\": \"You are a helpful assistant that can solve complex logic puzzles.\"},\n",
        "        {\"role\": \"user\", \"content\": \"// A group of people are seated around a circular table. Use the clues to determine their seating arrangement.\\n// People: Alex, Ben, Chloe, David, Emily, Frank\\n// Clues:\\n// 1. Alex is sitting next to Emily.\\n// 2. Chloe is sitting two seats to the left of David.\\n// 3. Frank is not sitting next to Ben.\\n// 4. There is one person between Emily and David.\\n// 5. Ben is sitting to the immediate right of the person who is two seats to the right of Alex.\\n// Determine the seating arrangement of all six people around the circular table.\"}\n",
        "    ],\n",
        "    stream=False\n",
        ")\n",
        "\n",
        "print(response_very_difficult_reasoner.choices[0].message.content)"
      ],
      "execution_count": 10,
      "outputs": [
        {
          "output_type": "stream",
          "name": "stdout",
          "text": [
            "The seating arrangement around the circular table is as follows, in clockwise order:\n",
            "\n",
            "- Alex\n",
            "- Emily\n",
            "- Frank\n",
            "- Chloe\n",
            "- Ben\n",
            "- David\n",
            "\n",
            "This arrangement satisfies all given clues:\n",
            "- Alex is next to Emily (clue 1).\n",
            "- Chloe is two seats to the left of David (from David, counterclockwise: Ben, then Chloe) (clue 2).\n",
            "- Frank is not next to Ben (Frank is at position 3, Ben at position 5) (clue 3).\n",
            "- There is one person between Emily and David (Alex is between them counterclockwise) (clue 4).\n",
            "- Ben is immediately to the right of the person two seats to the right of Alex (Alex at position 1, two seats to the right is Chloe at position 4, and Ben is immediately to her right at position 5) (clue 5).\n"
          ]
        }
      ]
    },
    {
      "cell_type": "code",
      "metadata": {
        "colab": {
          "base_uri": "https://localhost:8080/",
          "height": 0
        },
        "id": "3dce6091",
        "outputId": "b8c57cfb-713e-4327-b5ad-d08bf832a4dd"
      },
      "source": [
        "response_agentic = client.chat.completions.create(\n",
        "    model=\"deepseek-reasoner\",\n",
        "    messages=[\n",
        "        {\"role\": \"system\", \"content\": \"You are an AI agent designed to solve complex problems by breaking them down into smaller steps, analyzing information, and providing a step-by-step solution. Think step-by-step and explain your reasoning clearly.\"},\n",
        "        {\"role\": \"user\", \"content\": \"A farmer has 17 sheep, and all but 9 die. How many are left?\"}\n",
        "    ],\n",
        "    stream=False,\n",
        ")\n",
        "\n",
        "print(response_agentic.choices[0].message.content)"
      ],
      "execution_count": 17,
      "outputs": [
        {
          "output_type": "stream",
          "name": "stdout",
          "text": [
            "The farmer starts with 17 sheep. The phrase \"all but 9 die\" means that except for 9 sheep, all the others die. Therefore, 9 sheep survive.\n",
            "\n",
            "Mathematically:\n",
            "- Total sheep = 17\n",
            "- Sheep that died = 17 - 9 = 8\n",
            "- Sheep left = 17 - 8 = 9\n",
            "\n",
            "Thus, 9 sheep are left.\n"
          ]
        }
      ]
    },
    {
      "cell_type": "code",
      "metadata": {
        "colab": {
          "base_uri": "https://localhost:8080/",
          "height": 0
        },
        "id": "04f9eaf1",
        "outputId": "8eade2f4-94f0-432e-9b09-500d56668c00"
      },
      "source": [
        "financial_scenario = \"\"\"\n",
        "Scenario: Company A, a publicly traded tech company, just announced its quarterly earnings report.\n",
        "Key points from the report:\n",
        "- Revenue is up 15% year-over-year, exceeding analyst expectations.\n",
        "- Net income is up 10% year-over-year, also exceeding analyst expectations.\n",
        "- The company announced a new product line that is expected to launch in the next quarter.\n",
        "- However, the CEO also mentioned potential supply chain disruptions that could impact future production.\n",
        "\n",
        "Based on this information, what are the likely short-term implications for Company A's stock price, assuming all other market conditions remain constant?\n",
        "\"\"\"\n",
        "\n",
        "response_financial_reasoner = client.chat.completions.create(\n",
        "    model=\"deepseek-reasoner\",\n",
        "    messages=[\n",
        "        {\"role\": \"system\", \"content\": \"You are a helpful assistant that can perform logical deductions based on financial scenarios.\"},\n",
        "        {\"role\": \"user\", \"content\": financial_scenario},\n",
        "    ],\n",
        "    stream=False,\n",
        ")\n",
        "\n",
        "print(response_financial_reasoner.choices[0].message.content)"
      ],
      "execution_count": 15,
      "outputs": [
        {
          "output_type": "stream",
          "name": "stdout",
          "text": [
            "Based on the provided information from Company A's quarterly earnings report and assuming all other market conditions remain constant, the short-term implications for the stock price can be deduced through a logical analysis of the key points. Here's a step-by-step breakdown:\n",
            "\n",
            "### 1. **Positive Earnings Surprise**: \n",
            "   - Both revenue (up 15% YoY) and net income (up 10% YoY) exceeded analyst expectations. This is a strong positive signal, as earnings beats often lead to immediate investor optimism and buying pressure. Historically, stocks tend to rise in the short term when companies outperform expectations, as it suggests robust financial health and potential for future growth. Thus, this alone would likely drive the stock price upward.\n",
            "\n",
            "### 2. **New Product Line Announcement**: \n",
            "   - The announcement of a new product line expected to launch next quarter adds to the positive sentiment. It signals innovation and potential revenue diversification, which investors often view favorably. In the short term, this could amplify the positive reaction from the earnings beat, as it enhances growth prospects. However, since the launch is still a quarter away, the impact might be more modest compared to the immediate earnings news.\n",
            "\n",
            "### 3. **Supply Chain Risk Mention**: \n",
            "   - The CEO's mention of potential supply chain disruptions introduces a note of caution. This could create uncertainty about future production and profitability, potentially tempering investor enthusiasm. In the short term, this might lead to some volatility or a more muted price increase, as risk-averse investors may sell or hold off on buying until more clarity emerges. It acts as a counterbalance to the positive news.\n",
            "\n",
            "### 4. **Net Effect on Stock Price**: \n",
            "   - Combining these factors, the short-term implication is likely a **moderate increase in stock price**. The positive earnings surprise and new product announcement should dominate, leading to an upward movement. However, the supply chain risk may cap the extent of the rise, resulting in a less dramatic jump than if the risk were absent. Typically, in such scenarios, the stock might experience an initial pop post-earnings, followed by some consolidation as investors digest the mixed signals.\n",
            "\n",
            "### Conclusion:\n",
            "In the short term, Company A's stock price is expected to rise due to the strong earnings beat and growth initiatives, but the increase may be tempered by the highlighted supply chain concerns. Investors should monitor for any updates on the supply chain situation, as that could influence price movements beyond the immediate reaction.\n"
          ]
        }
      ]
    }
  ]
}