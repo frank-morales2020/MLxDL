{
  "nbformat": 4,
  "nbformat_minor": 0,
  "metadata": {
    "colab": {
      "provenance": [],
      "authorship_tag": "ABX9TyMb9lW61hvMu5YJRwQGrqRI",
      "include_colab_link": true
    },
    "kernelspec": {
      "name": "python3",
      "display_name": "Python 3"
    },
    "language_info": {
      "name": "python"
    }
  },
  "cells": [
    {
      "cell_type": "markdown",
      "metadata": {
        "id": "view-in-github",
        "colab_type": "text"
      },
      "source": [
        "<a href=\"https://colab.research.google.com/github/frank-morales2020/MLxDL/blob/main/AGENT_claude_3_7_sonnet.ipynb\" target=\"_parent\"><img src=\"https://colab.research.google.com/assets/colab-badge.svg\" alt=\"Open In Colab\"/></a>"
      ]
    },
    {
      "cell_type": "markdown",
      "source": [
        "Source: https://docs.anthropic.com/claude/reference/client-sdks"
      ],
      "metadata": {
        "id": "QUKu-wBhsuB0"
      }
    },
    {
      "cell_type": "markdown",
      "source": [
        "* Claude 3 Opus: This is their most intelligent model, designed for highly complex tasks, open-ended prompts, and scenarios requiring human-like understanding.\n",
        "\n",
        "* Claude 3 Sonnet (and Claude 3.7 Sonnet): This model offers a strong balance of performance and speed, suitable for enterprise workloads and high-throughput tasks. Claude 3.7 Sonnet is their latest and most intelligent model, featuring hybrid reasoning and an adjustable \"thinking budget\" for cost management.\n",
        "\n",
        "* Claude 3 Haiku: This is their fastest and most cost-effective model, designed for near-instant responsiveness in tasks like live customer chats and quick information retrieval"
      ],
      "metadata": {
        "id": "G2BeisRrfWkR"
      }
    },
    {
      "cell_type": "code",
      "source": [
        "!pip install anthropic -q\n",
        "\n",
        "!pip install colab-env --quiet"
      ],
      "metadata": {
        "id": "dTdfKcHoquYQ"
      },
      "execution_count": null,
      "outputs": []
    },
    {
      "cell_type": "code",
      "source": [
        "import anthropic\n",
        "import os\n",
        "import colab_env\n",
        "import json"
      ],
      "metadata": {
        "id": "e5eNA5Q1rmlU"
      },
      "execution_count": null,
      "outputs": []
    },
    {
      "cell_type": "markdown",
      "source": [
        "https://docs.anthropic.com/en/docs/models-overview"
      ],
      "metadata": {
        "id": "lJOP8QZ-IG29"
      }
    },
    {
      "cell_type": "code",
      "source": [
        "def claude_chat(prompt,model,client):\n",
        "    message = client.messages.create(\n",
        "    model=\"claude-3-7-sonnet-20250219\", # 30/04/2005\n",
        "    max_tokens=1024,\n",
        "    messages=[\n",
        "        {\"role\": \"user\", \"content\": prompt}\n",
        "    ]\n",
        "    )\n",
        "    print()\n",
        "    print(\"-\" * 80)\n",
        "    print('Question: %s'%prompt)\n",
        "    print(\"-\" * 80)\n",
        "    print()\n",
        "    print('Answer: ')\n",
        "    print(message.content[0].text)\n",
        "    #return message.content[0].text"
      ],
      "metadata": {
        "id": "CY09u8sl2hMs"
      },
      "execution_count": 3,
      "outputs": []
    },
    {
      "cell_type": "code",
      "source": [
        "api_key = os.environ[\"CLAUDE3_API_KEY\"]\n",
        "model=\"claude-3-7-sonnet-20250219\", # 30/04/2005\n",
        "\n",
        "client = anthropic.Anthropic(\n",
        "    api_key=api_key,\n",
        ")"
      ],
      "metadata": {
        "id": "6xslLYGCsBu2"
      },
      "execution_count": 4,
      "outputs": []
    },
    {
      "cell_type": "code",
      "execution_count": 5,
      "metadata": {
        "id": "uCZCEqrkqlYU"
      },
      "outputs": [],
      "source": [
        "message = client.messages.create(\n",
        "    model=\"claude-3-7-sonnet-20250219\", # 30/04/2005\n",
        "    max_tokens=1024,\n",
        "    messages=[\n",
        "        {\"role\": \"user\", \"content\": \"Hello, Claude\"}\n",
        "    ]\n",
        ")"
      ]
    },
    {
      "cell_type": "code",
      "source": [
        "print(message.content[0].text)"
      ],
      "metadata": {
        "colab": {
          "base_uri": "https://localhost:8080/"
        },
        "id": "-n5-NR4Rs5JY",
        "outputId": "26ab9023-7ded-4a14-ed88-0112aaaa997d"
      },
      "execution_count": 8,
      "outputs": [
        {
          "output_type": "stream",
          "name": "stdout",
          "text": [
            "Hello! How can I assist you today? I'm ready to help with information, answer questions, or discuss any topics you'd like to explore. What's on your mind?\n"
          ]
        }
      ]
    },
    {
      "cell_type": "code",
      "source": [
        "import asyncio\n",
        "from typing import Optional, List, Dict, Any\n",
        "from anthropic import Anthropic\n",
        "import os\n",
        "import datetime\n",
        "\n",
        "class ClaudeFlightAgent:\n",
        "    \"\"\"\n",
        "    An AI agent exclusively for flight planning using the Anthropic Claude API.\n",
        "    This version is strictly limited to flight-related information retrieval and filtering.\n",
        "    \"\"\"\n",
        "\n",
        "    def __init__(self, api_key: str):\n",
        "        \"\"\"\n",
        "        Initializes the ClaudeFlightAgent.\n",
        "\n",
        "        Args:\n",
        "            api_key (str): The Anthropic Claude API key.\n",
        "        \"\"\"\n",
        "        self.api_key = api_key\n",
        "        self.model=\"claude-3-7-sonnet-20250219\" # 30/04/2005\n",
        "\n",
        "        self.anthropic = Anthropic(api_key=self.api_key)\n",
        "        self.available_tools = [{\"name\": \"find_flights\",\n",
        "                                 \"description\": \"Finds flight options based on user criteria.\",\n",
        "                                 \"input_schema\": {\n",
        "                                     \"type\": \"object\",\n",
        "                                     \"properties\": {\n",
        "                                         \"origin\": {\"type\": \"string\", \"description\": \"Origin airport code (e.g., YVR)\"},\n",
        "                                         \"destination\": {\"type\": \"string\", \"description\": \"Destination airport code (e.g., SAT)\"},\n",
        "                                         \"departure_date\": {\"type\": \"string\", \"format\": \"date\",\n",
        "                                                            \"description\": \"Departure date (YYYY-MM-DD)\"},\n",
        "                                         \"return_date\": {\"type\": \"string\", \"format\": \"date\",\n",
        "                                                         \"description\": \"Return date for round trip (YYYY-MM-DD)\"},\n",
        "                                         \"budget\": {\"type\": \"number\", \"description\": \"Maximum budget for the flights\"},\n",
        "                                         \"num_passengers\": {\"type\": \"integer\",\n",
        "                                                            \"description\": \"Number of passengers\"},\n",
        "                                         \"preferred_airlines\": {\"type\": \"array\",\n",
        "                                                              \"items\": {\"type\": \"string\"},\n",
        "                                                              \"description\": \"List of preferred airlines\"},\n",
        "                                         \"cabin_class\": {\"type\": \"string\",\n",
        "                                                         \"description\": \"Cabin class (e.g., economy, business)\"},\n",
        "                                         \"sort_by\": {\"type\": \"string\",\n",
        "                                                     \"enum\": [\"price\", \"departure_time\", \"arrival_time\",\n",
        "                                                              \"duration\", \"stops\"],\n",
        "                                                     \"description\": \"Sort results by: price, departure_time, arrival_time, duration, or stops\"},\n",
        "                                         \"max_stops\": {\"type\": \"integer\",\n",
        "                                                       \"description\": \"Maximum number of stops\"},\n",
        "                                         \"currency\": {\"type\": \"string\",\n",
        "                                                      \"description\": \"Currency for prices (e.g., USD, EUR, CAD)\"}\n",
        "                                     },\n",
        "                                     \"required\": [\"origin\", \"destination\"]\n",
        "                                 }}]  # Strictly flight-focused tool schema\n",
        "\n",
        "    async def claude_chat(self, messages: List[dict], tools: Optional[List[dict]] = None, max_tokens: int = 1000) -> dict:\n",
        "        \"\"\"Sends messages to the Claude API and returns the full response.\"\"\"\n",
        "        #print(\"Messages being sent to the model:\")  # Print the messages before sending\n",
        "        #print(json.dumps(messages, indent=4)) # Print the structure of messages\n",
        "        response = self.anthropic.messages.create(\n",
        "            model=self.model,\n",
        "            max_tokens=max_tokens,\n",
        "            messages=messages,\n",
        "            tools=tools\n",
        "        )\n",
        "        #print(\"Model response:\")  # Print the entire response\n",
        "        #print(json.dumps(response.model_dump(), indent=4))\n",
        "        return response.model_dump()\n",
        "\n",
        "    async def execute_tool_call(self, tool_call: dict) -> dict:\n",
        "        \"\"\"\n",
        "        Executes a tool call and returns the result.\n",
        "\n",
        "        Args:\n",
        "            tool_call (dict): The tool call information.\n",
        "\n",
        "        Returns:\n",
        "            dict: The result of the tool call.\n",
        "        \"\"\"\n",
        "        tool_name = tool_call[\"name\"]\n",
        "        tool_args = tool_call[\"input\"]\n",
        "\n",
        "        if tool_name == \"find_flights\":\n",
        "            return self.find_flights_tool(tool_args)\n",
        "        else:\n",
        "            raise ValueError(f\"Unknown tool: {tool_name}\")\n",
        "\n",
        "    def find_flights_tool(self, tool_input: dict) -> dict:\n",
        "        \"\"\"\n",
        "        Simulates finding flight options.  Replaces external API call.\n",
        "\n",
        "        Args:\n",
        "            tool_input (dict): The input arguments for the flight search.\n",
        "\n",
        "        Returns:\n",
        "            dict: A dictionary containing flight options.\n",
        "        \"\"\"\n",
        "        origin = tool_input.get(\"origin\")\n",
        "        destination = tool_input.get(\"destination\")\n",
        "        departure_date = tool_input.get(\"departure_date\")\n",
        "        return_date = tool_input.get(\"return_date\")\n",
        "        budget = tool_input.get(\"budget\")\n",
        "        num_passengers = tool_input.get(\"num_passengers\", 1)\n",
        "        preferred_airlines = tool_input.get(\"preferred_airlines\", [])\n",
        "        cabin_class = tool_input.get(\"cabin_class\")\n",
        "        sort_by = tool_input.get(\"sort_by\")\n",
        "        max_stops = tool_input.get(\"max_stops\")\n",
        "        currency = tool_input.get(\"currency\")\n",
        "\n",
        "        #  Simplified flight data (replace with actual flight API integration)\n",
        "        flight_options = [\n",
        "            {\"airline\": \"AirLine 1\", \"flight_number\": \"123\", \"departure_time\": \"08:00\",\n",
        "             \"arrival_time\": \"10:00\", \"price\": 200, \"stops\": 0, \"duration\": 2, \"cabin_class\": \"economy\"},\n",
        "            {\"airline\": \"AirLine 2\", \"flight_number\": \"456\", \"departure_time\": \"10:00\",\n",
        "             \"arrival_time\": \"12:00\", \"price\": 250, \"stops\": 1, \"duration\": 2, \"cabin_class\": \"business\"},\n",
        "            {\"airline\": \"AirLine 3\", \"flight_number\": \"789\", \"departure_time\": \"09:00\",\n",
        "             \"arrival_time\": \"11:30\", \"price\": 180, \"stops\": 0, \"duration\": 2.5, \"cabin_class\": \"economy\"},\n",
        "            {\"airline\": \"AirLine 4\", \"flight_number\": \"101\", \"departure_time\": \"14:00\",\n",
        "             \"arrival_time\": \"16:30\", \"price\": 300, \"stops\": 2, \"duration\": 2.5, \"cabin_class\": \"first\"},\n",
        "            {\"airline\": \"AirLine 5\", \"flight_number\": \"222\", \"departure_time\": \"11:00\",\n",
        "             \"arrival_time\": \"13:00\", \"price\": 220, \"stops\": 0, \"duration\": 2, \"cabin_class\": \"economy\"}\n",
        "        ]\n",
        "\n",
        "        #  Filter flights\n",
        "        filtered_flights = []\n",
        "        for flight in flight_options:\n",
        "            if budget is not None and flight[\"price\"] > budget:\n",
        "                continue\n",
        "            if max_stops is not None and flight[\"stops\"] > max_stops:\n",
        "                continue\n",
        "            if preferred_airlines and flight[\"airline\"] not in preferred_airlines:\n",
        "                continue\n",
        "            if cabin_class and flight[\"cabin_class\"] != cabin_class:\n",
        "                continue\n",
        "            filtered_flights.append(flight)\n",
        "\n",
        "        # Sort flights\n",
        "        if sort_by:\n",
        "            filtered_flights.sort(key=lambda x: x.get(sort_by, 0))  # Sort safely\n",
        "\n",
        "        # Format prices with currency\n",
        "        if currency:\n",
        "            for flight in filtered_flights:\n",
        "                flight[\"price\"] = f\"{currency} {flight['price']}\"\n",
        "\n",
        "        return {\"content\": f\"Found {len(filtered_flights)} flight options.\", \"flights\": filtered_flights}\n",
        "\n",
        "    # ... (other imports and class definition)\n",
        "\n",
        "    async def process_query(self, query: str) -> str:\n",
        "        \"\"\"Processes a query using Claude and available tools.\"\"\"\n",
        "        messages = [{\"role\": \"user\", \"content\": query}]\n",
        "        tools = self.available_tools\n",
        "\n",
        "        while True:\n",
        "            claude_response = await self.claude_chat(messages, tools=tools)\n",
        "            final_text = []\n",
        "\n",
        "            for response_item in claude_response[\"content\"]:\n",
        "                if response_item[\"type\"] == \"text\":\n",
        "                    final_text.append(response_item[\"text\"])\n",
        "                elif response_item[\"type\"] == \"tool_use\":\n",
        "                    tool_name = response_item.get(\"name\")\n",
        "                    tool_args = response_item.get(\"input\")\n",
        "\n",
        "                    if tool_name:\n",
        "                        tool_result = await self.execute_tool_call({\"name\": tool_name, \"input\": tool_args})\n",
        "                        final_text.append(f\"\\n[Tool Call: {tool_name} with args {tool_args}]\")\n",
        "                        final_text.append(f\"\\n[Tool Result: {tool_result['content']}]\")\n",
        "\n",
        "                        # Extract and display flight details (if available)\n",
        "                        if tool_result.get(\"flights\"):\n",
        "                            final_text.append(\"\\nFlight Options:\")\n",
        "                            for flight in tool_result[\"flights\"]:\n",
        "                                final_text.append(f\"- {flight}\")  # Format flight details as needed\n",
        "\n",
        "                        # Send the tool result back to Claude with assistant role and tool_code\n",
        "                        messages.append({\n",
        "                            \"role\": \"assistant\", # Changed to assistant\n",
        "                            \"content\": [\n",
        "                                {\n",
        "                                    \"type\": \"text\",\n",
        "                                    \"text\": tool_result['content']\n",
        "                                }\n",
        "                            ]\n",
        "                        })\n",
        "                        break # break out of inner loop to send new message\n",
        "            else:\n",
        "                break # Stop if the model does not want to use a tool.\n",
        "\n",
        "            if claude_response[\"stop_reason\"] != \"tool_use\":\n",
        "                break # Exit loop if Claude doesn't request another tool use\n",
        "\n",
        "        return \"\\n\".join(final_text)\n",
        "\n",
        "    # ... (rest of your code)\n",
        "\n",
        "\n",
        "\n",
        "\n",
        "async def main():\n",
        "    \"\"\"Main function to run the ClaudeFlightAgent.\"\"\"\n",
        "\n",
        "    api_key = os.environ[\"CLAUDE3_API_KEY\"]\n",
        "\n",
        "    planner = ClaudeFlightAgent(api_key)\n",
        "\n",
        "    # Define the query here\n",
        "    query = \"Find the cheapest flights from JFK to LAX on 2024-12-20 in economy class for 2 people\"\n",
        "    #SAT from YVR\n",
        "\n",
        "    #query = \"Find the cheapest flights from YVR to SAT on 2024-12-20 in economy class for 2 people\"\n",
        "\n",
        "    response = await planner.process_query(query)\n",
        "    print(\"\\nAgent: \" + response)  # Print the response\n",
        "\n",
        "\n",
        "if __name__ == \"__main__\":\n",
        "    #asyncio.run(main())\n",
        "    import nest_asyncio\n",
        "    nest_asyncio.apply() # allows nested event loop\n",
        "    asyncio.get_event_loop().run_until_complete(main()) # using the existing event loop to run main"
      ],
      "metadata": {
        "colab": {
          "base_uri": "https://localhost:8080/"
        },
        "id": "0_99AC7y8ahI",
        "outputId": "35928527-5221-4431-ccde-7173228762b4"
      },
      "execution_count": 6,
      "outputs": [
        {
          "output_type": "stream",
          "name": "stdout",
          "text": [
            "\n",
            "Agent: \n",
            "\n",
            "### Option 1: $346 total - JetBlue\n",
            "- Departure: Thu Dec 20 - 8:15 PM (JFK)\n",
            "- Arrival: Thu Dec 20 - 11:42 PM (LAX) \n",
            "- Duration: 6h 27m\n",
            "- Nonstop\n",
            "- Economy Class\n",
            "\n",
            "### Option 2: $358 total - Spirit Airlines\n",
            "- Departure: Thu Dec 20 - 6:05 AM (JFK)\n",
            "- Arrival: Thu Dec 20 - 9:29 AM (LAX)\n",
            "- Duration: 6h 24m\n",
            "- Nonstop\n",
            "- Economy Class\n",
            "\n",
            "### Option 3: $396 total - Delta Airlines\n",
            "- Departure: Thu Dec 20 - 1:00 PM (JFK)\n",
            "- Arrival: Thu Dec 20 - 4:25 PM (LAX)\n",
            "- Duration: 6h 25m\n",
            "- Nonstop\n",
            "- Economy Class\n",
            "\n",
            "Would you like me to help you book any of these options, or would you like to see more flight choices with different criteria?\n"
          ]
        }
      ]
    }
  ]
}