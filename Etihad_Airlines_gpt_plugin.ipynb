{
  "nbformat": 4,
  "nbformat_minor": 0,
  "metadata": {
    "colab": {
      "provenance": [],
      "authorship_tag": "ABX9TyPWPQCatoBZ+pmBhCQshDh2",
      "include_colab_link": true
    },
    "kernelspec": {
      "name": "python3",
      "display_name": "Python 3"
    },
    "language_info": {
      "name": "python"
    }
  },
  "cells": [
    {
      "cell_type": "markdown",
      "metadata": {
        "id": "view-in-github",
        "colab_type": "text"
      },
      "source": [
        "<a href=\"https://colab.research.google.com/github/frank-morales2020/MLxDL/blob/main/Etihad_Airlines_gpt_plugin.ipynb\" target=\"_parent\"><img src=\"https://colab.research.google.com/assets/colab-badge.svg\" alt=\"Open In Colab\"/></a>"
      ]
    },
    {
      "cell_type": "markdown",
      "source": [
        "https://github.com/tolgakurtuluss/EtihadAirlinesGPTPlugin-langchain"
      ],
      "metadata": {
        "id": "3dMDOS4E7KB4"
      }
    },
    {
      "cell_type": "code",
      "source": [
        "!pip install langchain openai colab-env --upgrade --quiet\n",
        "\n",
        "import colab_env"
      ],
      "metadata": {
        "id": "MGRUHjHC4FRb"
      },
      "execution_count": null,
      "outputs": []
    },
    {
      "cell_type": "code",
      "execution_count": 18,
      "metadata": {
        "colab": {
          "base_uri": "https://localhost:8080/"
        },
        "id": "3ta9DfPa3_Lu",
        "outputId": "72d40dc0-88f6-419e-f7e8-29e67acecb5e"
      },
      "outputs": [
        {
          "output_type": "stream",
          "name": "stdout",
          "text": [
            "\n",
            "\n",
            "\u001b[1m> Entering new AgentExecutor chain...\u001b[0m\n",
            "\u001b[32;1m\u001b[1;3mI need to search for flights from IST to AUH on a specific date.\n",
            "Action: Etihad_Airline\n",
            "Action Input: None\u001b[0m\n",
            "Observation: \u001b[38;5;200m\u001b[1;3mUsage Guide: Search flights, and answer other related questions of flights.\n",
            "\n",
            "OpenAPI Spec: {'openapi': '3.0.1', 'info': {'title': 'Etihad Airline APIs', 'description': 'APIs to search flights and answer other related questions of flights.'}, 'servers': [{'url': 'https://gpt-etihad.botim.me'}], 'paths': {'/plugin/openai/search/flights': {'post': {'operationId': 'searchFlightOffers', 'summary': 'Search flights on a flight route for certain dates.', 'requestBody': {'required': True, 'content': {'application/json': {'schema': {'$ref': '#/components/schemas/searchFlightsRequest'}}}}, 'responses': {'200': {'description': 'OK.'}, '400': {'description': 'Request parameters invalid.'}, '429': {'description': 'Rate limited.'}, '500': {'description': 'Server error.'}}}}, '/plugin/openai/search/questions': {'post': {'operationId': 'answerQuestionsOfFlights', 'summary': 'Answer other related questions of flights.', 'requestBody': {'required': True, 'content': {'application/json': {'schema': {'$ref': '#/components/schemas/answerQuestionsRequest'}}}}, 'responses': {'200': {'description': 'OK.'}, '400': {'description': 'Request parameters invalid.'}, '429': {'description': 'Rate limited.'}, '500': {'description': 'Server error.'}}}}}, 'components': {'schemas': {'searchFlightsRequest': {'type': 'object', 'properties': {'originLocationCode': {'type': 'string', 'description': 'The IATA code of origin airport from which the flight starts.', 'required': True}, 'destinationLocationCode': {'type': 'string', 'description': 'The IATA code of destination airport to which the flight goes.', 'required': True}, 'departureDate': {'type': 'string', 'format': 'date', 'description': 'Departure date of the flight at the origin, like YYYY-MM-DD.', 'required': True}, 'travelClass': {'type': 'string', 'description': 'Flight cabin class. This field must be entered by the user.', 'enum': ['ECONOMY', 'BUSINESS', 'FIRST'], 'required': True}, 'adults': {'type': 'integer', 'description': 'The number of adult travelers, default is 1.', 'required': False}, 'children': {'type': 'integer', 'description': 'The number of child travelers, default is 0.', 'required': False}, 'infants': {'type': 'integer', 'description': 'The number of infant travelers, default is 0.', 'required': False}, 'infantsWithSeat': {'type': 'integer', 'description': 'The number of infant travelers with seat, default is 0.', 'required': False}, 'nonStop': {'type': 'string', 'description': 'If set to true, the search will find only flights going from the origin to the destination with no stop in between. Default value is false.', 'enum': ['true', 'false'], 'required': False}, 'currencyCode': {'type': 'string', 'description': 'The preferred currency for the flight offers. Currency is specified in the ISO 4217 format, e.g. EUR for Euro.', 'required': False}, 'returnDate': {'type': 'string', 'format': 'date', 'description': 'Return date of the flight. Only required for round trip flights, like YYYY-MM-DD.', 'required': False}}}, 'answerQuestionsRequest': {'type': 'object', 'properties': {'question': {'type': 'string', 'description': 'The question text about flight.', 'required': True}}}}}}\u001b[0m\n",
            "Thought:\u001b[32;1m\u001b[1;3mI need to search for flights from IST to AUH on a specific date. I can use the Etihad Airline API to do this.\n",
            "Action: Etihad_Airline\n",
            "Action Input: None\u001b[0m\n",
            "Observation: \u001b[38;5;200m\u001b[1;3mUsage Guide: Search flights, and answer other related questions of flights.\n",
            "\n",
            "OpenAPI Spec: {'openapi': '3.0.1', 'info': {'title': 'Etihad Airline APIs', 'description': 'APIs to search flights and answer other related questions of flights.'}, 'servers': [{'url': 'https://gpt-etihad.botim.me'}], 'paths': {'/plugin/openai/search/flights': {'post': {'operationId': 'searchFlightOffers', 'summary': 'Search flights on a flight route for certain dates.', 'requestBody': {'required': True, 'content': {'application/json': {'schema': {'$ref': '#/components/schemas/searchFlightsRequest'}}}}, 'responses': {'200': {'description': 'OK.'}, '400': {'description': 'Request parameters invalid.'}, '429': {'description': 'Rate limited.'}, '500': {'description': 'Server error.'}}}}, '/plugin/openai/search/questions': {'post': {'operationId': 'answerQuestionsOfFlights', 'summary': 'Answer other related questions of flights.', 'requestBody': {'required': True, 'content': {'application/json': {'schema': {'$ref': '#/components/schemas/answerQuestionsRequest'}}}}, 'responses': {'200': {'description': 'OK.'}, '400': {'description': 'Request parameters invalid.'}, '429': {'description': 'Rate limited.'}, '500': {'description': 'Server error.'}}}}}, 'components': {'schemas': {'searchFlightsRequest': {'type': 'object', 'properties': {'originLocationCode': {'type': 'string', 'description': 'The IATA code of origin airport from which the flight starts.', 'required': True}, 'destinationLocationCode': {'type': 'string', 'description': 'The IATA code of destination airport to which the flight goes.', 'required': True}, 'departureDate': {'type': 'string', 'format': 'date', 'description': 'Departure date of the flight at the origin, like YYYY-MM-DD.', 'required': True}, 'travelClass': {'type': 'string', 'description': 'Flight cabin class. This field must be entered by the user.', 'enum': ['ECONOMY', 'BUSINESS', 'FIRST'], 'required': True}, 'adults': {'type': 'integer', 'description': 'The number of adult travelers, default is 1.', 'required': False}, 'children': {'type': 'integer', 'description': 'The number of child travelers, default is 0.', 'required': False}, 'infants': {'type': 'integer', 'description': 'The number of infant travelers, default is 0.', 'required': False}, 'infantsWithSeat': {'type': 'integer', 'description': 'The number of infant travelers with seat, default is 0.', 'required': False}, 'nonStop': {'type': 'string', 'description': 'If set to true, the search will find only flights going from the origin to the destination with no stop in between. Default value is false.', 'enum': ['true', 'false'], 'required': False}, 'currencyCode': {'type': 'string', 'description': 'The preferred currency for the flight offers. Currency is specified in the ISO 4217 format, e.g. EUR for Euro.', 'required': False}, 'returnDate': {'type': 'string', 'format': 'date', 'description': 'Return date of the flight. Only required for round trip flights, like YYYY-MM-DD.', 'required': False}}}, 'answerQuestionsRequest': {'type': 'object', 'properties': {'question': {'type': 'string', 'description': 'The question text about flight.', 'required': True}}}}}}\u001b[0m\n",
            "Thought:\u001b[32;1m\u001b[1;3mI can use the \"searchFlightOffers\" operation in the Etihad Airline API to search for flights from IST to AUH on a specific date.\n",
            "Action: requests_post\n",
            "Action Input: \n",
            "{\n",
            "  \"url\": \"https://gpt-etihad.botim.me/plugin/openai/search/flights\",\n",
            "  \"data\": {\n",
            "    \"originLocationCode\": \"IST\",\n",
            "    \"destinationLocationCode\": \"AUH\",\n",
            "    \"departureDate\": \"2024-03-04\",\n",
            "    \"travelClass\": \"ECONOMY\"\n",
            "  }\n",
            "}\u001b[0m\n",
            "Observation: \u001b[33;1m\u001b[1;3mFound 5 flight plans for your one-way economy class trip from IST to AUH, Prices start at 415.0 AED\n",
            "\n",
            "Here are some recommended flight plans:\n",
            "\n",
            "Plan 1: the full price is 415.0 AED. Depart on March 4 at 7:30AM, arrive on March 4 at 1:00PM, with 0 stops, taking `4h 30m`. Detail link is https://gpt-etihad.botim.me/w/offer?q=9fed4f83e0394f5aa93d17bc36a962fb\n",
            "\n",
            "Plan 2: the full price is 3315.0 AED. Depart on March 4 at 2:00PM, arrive on March 4 at 10:35PM, with 1 stops, taking `7h 35m`. Detail link is https://gpt-etihad.botim.me/w/offer?q=86522d7a1bcf4e8bb6a5a411fa988385\n",
            "\n",
            "Plan 3: the full price is 4085.0 AED. Depart on March 4 at 11:30AM, arrive on March 4 at 7:45PM, with 1 stops, taking `7h 15m`. Detail link is https://gpt-etihad.botim.me/w/offer?q=34ee80ee78b54ab28140442294edd0c8\n",
            "\n",
            "To see more search results go to https://gpt-etihad.botim.me/w/search?q=2283e1e176dc44f581537410299cf848\u001b[0m\n",
            "Thought:\u001b[32;1m\u001b[1;3mI now know the final answer.\n",
            "\n",
            "Final Answer: There are 5 flight plans for a one-way economy class trip from IST to AUH on March 4, 2024. Prices start at 415.0 AED.\u001b[0m\n",
            "\n",
            "\u001b[1m> Finished chain.\u001b[0m\n"
          ]
        }
      ],
      "source": [
        "# Import Statements\n",
        "from langchain.chat_models import ChatOpenAI\n",
        "from langchain.agents import load_tools, initialize_agent, AgentType\n",
        "from langchain.tools import AIPluginTool\n",
        "\n",
        "# Define API key securely (using environment variable)\n",
        "import os\n",
        "openai_api_key = os.environ.get('OPENAI_API_KEY')\n",
        "\n",
        "def initialize_chat_agent():\n",
        "    # Load language model\n",
        "    chat_model = ChatOpenAI(openai_api_key=openai_api_key, temperature=0.5)\n",
        "\n",
        "    # Load required tools\n",
        "    tool = AIPluginTool.from_plugin_url(\"https://gpt-etihad.botim.me/.well-known/ai-plugin.json\")\n",
        "    tools = load_tools([\"requests_all\"]) + [tool]\n",
        "\n",
        "    # Initialize chat agent chain\n",
        "    agent_chain = initialize_agent(tools, chat_model, agent=AgentType.ZERO_SHOT_REACT_DESCRIPTION, verbose=True, handle_parsing_errors=True)\n",
        "\n",
        "    return agent_chain\n",
        "\n",
        "def main():\n",
        "    # Initialize the chat agent\n",
        "    agent_chain = initialize_chat_agent()\n",
        "\n",
        "    # Run the chat agent with a sample query\n",
        "    query = \"Search flights from IST to AUH on 4th of March 2024\"\n",
        "    agent_chain.run(query)\n",
        "\n",
        "if __name__ == \"__main__\":\n",
        "    main()"
      ]
    }
  ]
}