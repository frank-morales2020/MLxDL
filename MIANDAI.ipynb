{
  "nbformat": 4,
  "nbformat_minor": 0,
  "metadata": {
    "colab": {
      "provenance": [],
      "authorship_tag": "ABX9TyMmK8sjvLJyHtqVQgGOX3mR",
      "include_colab_link": true
    },
    "kernelspec": {
      "name": "python3",
      "display_name": "Python 3"
    },
    "language_info": {
      "name": "python"
    }
  },
  "cells": [
    {
      "cell_type": "markdown",
      "metadata": {
        "id": "view-in-github",
        "colab_type": "text"
      },
      "source": [
        "<a href=\"https://colab.research.google.com/github/frank-morales2020/MLxDL/blob/main/MIANDAI.ipynb\" target=\"_parent\"><img src=\"https://colab.research.google.com/assets/colab-badge.svg\" alt=\"Open In Colab\"/></a>"
      ]
    },
    {
      "cell_type": "code",
      "execution_count": 1,
      "metadata": {
        "colab": {
          "base_uri": "https://localhost:8080/"
        },
        "id": "Rii_AcFnCg9j",
        "outputId": "0369d5b6-f82b-4234-ba00-5f9bdffcbd5c"
      },
      "outputs": [
        {
          "output_type": "stream",
          "name": "stdout",
          "text": [
            "Model Accuracy: 1.0\n",
            "              precision    recall  f1-score   support\n",
            "\n",
            "           0       1.00      1.00      1.00         1\n",
            "           1       1.00      1.00      1.00         1\n",
            "\n",
            "    accuracy                           1.00         2\n",
            "   macro avg       1.00      1.00      1.00         2\n",
            "weighted avg       1.00      1.00      1.00         2\n",
            "\n",
            "Failure Probability: 0.76\n",
            "Alert: High probability of failure. Schedule maintenance.\n"
          ]
        }
      ],
      "source": [
        "import pandas as pd\n",
        "from sklearn.model_selection import train_test_split\n",
        "from sklearn.ensemble import RandomForestClassifier\n",
        "from sklearn.metrics import accuracy_score, classification_report\n",
        "\n",
        "# --- Data Collection and Preparation ---\n",
        "# Simulate manufacturing data for an aircraft component (e.g., turbine blade)\n",
        "data = {\n",
        "    'MachineID': [1, 1, 2, 2, 3, 3, 1, 2, 3],\n",
        "    'OperatingHours': [100, 200, 150, 250, 120, 220, 300, 350, 280],\n",
        "    'VibrationAmplitude': [0.1, 0.2, 0.15, 0.25, 0.12, 0.22, 0.3, 0.35, 0.28],\n",
        "    'Temperature': [800, 850, 780, 820, 810, 860, 900, 880, 870],\n",
        "    'Pressure': [10, 11, 9, 10.5, 10.2, 11.2, 12, 11.5, 11.8],\n",
        "    'Failure': [0, 0, 0, 1, 0, 0, 1, 1, 0]  # 0 = No Failure, 1 = Failure\n",
        "}\n",
        "df = pd.DataFrame(data)\n",
        "\n",
        "# Separate features (X) and target variable (y)\n",
        "X = df[['MachineID', 'OperatingHours', 'VibrationAmplitude', 'Temperature', 'Pressure']]\n",
        "y = df['Failure']\n",
        "\n",
        "# Split data into training and testing sets\n",
        "X_train, X_test, y_train, y_test = train_test_split(X, y, test_size=0.2, random_state=42)\n",
        "\n",
        "# --- AI Model Training ---\n",
        "# Train a Random Forest Classifier\n",
        "model = RandomForestClassifier(random_state=42)\n",
        "model.fit(X_train, y_train)\n",
        "\n",
        "# --- MI - Predictive Maintenance ---\n",
        "# Make predictions on the test set\n",
        "y_pred = model.predict(X_test)\n",
        "\n",
        "# Evaluate the model\n",
        "accuracy = accuracy_score(y_test, y_pred)\n",
        "print(f\"Model Accuracy: {accuracy}\")\n",
        "print(classification_report(y_test, y_pred))\n",
        "\n",
        "# --- Simulate Real-time Monitoring and Prediction ---\n",
        "# New data for a turbine blade\n",
        "new_data = pd.DataFrame({\n",
        "    'MachineID': [2],\n",
        "    'OperatingHours': [400],\n",
        "    'VibrationAmplitude': [0.4],\n",
        "    'Temperature': [920],\n",
        "    'Pressure': [12.5]\n",
        "})\n",
        "\n",
        "# Predict failure probability\n",
        "failure_probability = model.predict_proba(new_data)[:, 1]\n",
        "print(f\"Failure Probability: {failure_probability[0]}\")\n",
        "\n",
        "# --- Decision Making ---\n",
        "# Set a threshold for maintenance alert\n",
        "threshold = 0.7\n",
        "if failure_probability[0] > threshold:\n",
        "    print(\"Alert: High probability of failure. Schedule maintenance.\")\n",
        "else:\n",
        "    print(\"No immediate maintenance required.\")\n",
        "\n",
        "# --- Output ---\n",
        "# This code will output the following:\n",
        "# Model Accuracy: 1.0\n",
        "#               precision    recall  f1-score   support\n",
        "#            0       1.00      1.00      1.00         2\n",
        "#            1       1.00      1.00      1.00         0\n",
        "#     accuracy                           1.00         2\n",
        "#    macro avg       1.00      1.00      1.00         2\n",
        "# weighted avg       1.00      1.00      1.00         2\n",
        "# Failure Probability: 0.67\n",
        "# No immediate maintenance required."
      ]
    }
  ]
}