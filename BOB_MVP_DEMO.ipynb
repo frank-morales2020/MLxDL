{
  "cells": [
    {
      "cell_type": "markdown",
      "metadata": {
        "id": "view-in-github",
        "colab_type": "text"
      },
      "source": [
        "<a href=\"https://colab.research.google.com/github/frank-morales2020/MLxDL/blob/main/BOB_MVP_DEMO.ipynb\" target=\"_parent\"><img src=\"https://colab.research.google.com/assets/colab-badge.svg\" alt=\"Open In Colab\"/></a>"
      ]
    },
    {
      "cell_type": "markdown",
      "metadata": {
        "id": "tMYLA1wn5nO5"
      },
      "source": [
        "## libraries"
      ]
    },
    {
      "cell_type": "code",
      "execution_count": null,
      "metadata": {
        "id": "L7QxoXIMYTko"
      },
      "outputs": [],
      "source": [
        "!pip install flask -q\n",
        "!pip install flask_migrate -q\n",
        "!pip install flask_sqlalchemy -q\n",
        "!pip install anthropic -q\n",
        "!pip install colab-env --quiet\n",
        "!pip install flask_cors -q\n",
        "\n",
        "\n",
        "# --- Installation ---\n",
        "#flask_sqlalchemy\n",
        "!pip install flask_ngrok -q\n",
        "!pip install pyngrok -q  # Install pyngrok directly\n",
        "!pip install --upgrade flask_ngrok pyngrok -q\n",
        "!pip install flask_login -q"
      ]
    }
  ],
  "metadata": {
    "colab": {
      "collapsed_sections": [
        "ZCPML_9cpzz2",
        "Oo3kQ7jF_ire"
      ],
      "machine_shape": "hm",
      "provenance": [],
      "authorship_tag": "ABX9TyMPtZbhnvprQihRQGnUna7P",
      "include_colab_link": true
    },
    "kernelspec": {
      "display_name": "Python 3",
      "name": "python3"
    },
    "language_info": {
      "name": "python"
    }
  },
  "nbformat": 4,
  "nbformat_minor": 0
}