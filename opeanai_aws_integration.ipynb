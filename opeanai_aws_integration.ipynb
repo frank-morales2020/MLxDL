{
  "nbformat": 4,
  "nbformat_minor": 0,
  "metadata": {
    "colab": {
      "provenance": [],
      "authorship_tag": "ABX9TyOghBc3eU5f5eQuWsFpsuZA",
      "include_colab_link": true
    },
    "kernelspec": {
      "name": "python3",
      "display_name": "Python 3"
    },
    "language_info": {
      "name": "python"
    }
  },
  "cells": [
    {
      "cell_type": "markdown",
      "metadata": {
        "id": "view-in-github",
        "colab_type": "text"
      },
      "source": [
        "<a href=\"https://colab.research.google.com/github/frank-morales2020/MLxDL/blob/main/opeanai_aws_integration.ipynb\" target=\"_parent\"><img src=\"https://colab.research.google.com/assets/colab-badge.svg\" alt=\"Open In Colab\"/></a>"
      ]
    },
    {
      "cell_type": "code",
      "source": [
        "!pip install --upgrade pip\n",
        "!pip install colab-env --upgrade\n",
        "!pip install openai\n",
        "!pip install boto3\n",
        "!pip install json\n",
        "\n",
        "import colab_env\n",
        "import os\n",
        "\n",
        "aws_access_key_id=os.getenv(\"AWS_ACCESS_KEY_ID\")\n",
        "aws_secret_access_key=os.getenv(\"AWS_SECRET_ACCESS_KEY\")\n",
        "region=os.getenv(\"region\")\n",
        "output=os.getenv(\"output\")\n",
        "FunctionName_ARN=os.getenv(\"AWS_LAMBDA_ARN\")"
      ],
      "metadata": {
        "id": "5QN8HtgsW4lT"
      },
      "execution_count": null,
      "outputs": []
    },
    {
      "cell_type": "code",
      "execution_count": 140,
      "metadata": {
        "id": "pHouDBccWjWu"
      },
      "outputs": [],
      "source": [
        "import json\n",
        "import openai\n",
        "import boto3\n",
        "\n",
        "def lambda_handler(prompt):\n",
        "    #MODEL\tDESCRIPTION\tCONTEXT WINDOW\tTRAINING DATA\n",
        "#gpt-4-1106-preview\n",
        "    model_to_use = \"gpt-3.5-turbo-instruct\"\n",
        "    #model_to_use = \"gpt-4-1106-preview\"\n",
        "    #input_prompt=\"Write an email to Elon Musk asking him why he bought Twitter for such a huge amount\"\n",
        "    input_prompt=prompt\n",
        "\n",
        "    openai.api_key = get_api_key()\n",
        "    response = openai.completions.create(\n",
        "      model=model_to_use,\n",
        "      prompt=input_prompt,\n",
        "      temperature=0.8,\n",
        "      max_tokens=512,\n",
        "      top_p=1,\n",
        "      frequency_penalty=0.0,\n",
        "      presence_penalty=0.0\n",
        "    )\n",
        "    #print(response)\n",
        "    return response\n",
        "    #text_response = response['choices'][0]['text'].strip()\n",
        "\n",
        "\n",
        "def get_api_key():\n",
        "    lambda_client = boto3.client('lambda')\n",
        "    response = lambda_client.invoke(\n",
        "            FunctionName = FunctionName_ARN,\n",
        "            InvocationType = 'RequestResponse'\n",
        "        )\n",
        "\n",
        "    openai_api_key = json.load(response['Payload'])['body']['api_key']\n",
        "    return openai_api_key\n"
      ]
    },
    {
      "cell_type": "code",
      "source": [
        "\n",
        "prompt = \"what is the 40% of 30?\"\n",
        "prompt = \"what is the 20.5% of 40?\"\n",
        "prompt = \"what is the 30% of 650?\"\n",
        "prompt = \"As a data scientist, \\ncan you explain the concept of regularization in machine learning?\"\n",
        "prompt=\"Write an email to Elon Musk asking him why he bought Twitter for such a huge amount\"\n",
        "\n",
        "#prompt='I bought an ice cream for 6 kids. Each cone was $1.25 and I paid with a $10 bill.\\n How many dollars did I get back? Explain first before answering.'\n",
        "#prompt='Which country has the most natural lakes? Answer with only the country name.'\n",
        "\n",
        "response=lambda_handler(prompt)\n",
        "print('Prmpt: %s'%prompt)\n",
        "print()\n",
        "print('Answer:%s \\n'%response.choices[0].text)"
      ],
      "metadata": {
        "colab": {
          "base_uri": "https://localhost:8080/"
        },
        "id": "B1skLvM4Y4Fr",
        "outputId": "e99f00dd-951c-4f8b-fa7d-9b4d178540c3"
      },
      "execution_count": 142,
      "outputs": [
        {
          "output_type": "stream",
          "name": "stdout",
          "text": [
            "Prmpt: Write an email to Elon Musk asking him why he bought Twitter for such a huge amount\n",
            "\n",
            "Answer:\n",
            "\n",
            "Subject: Question about Twitter acquisition\n",
            "\n",
            "Dear Mr. Musk,\n",
            "\n",
            "I hope this email finds you well. My name is [Your Name] and I am a big admirer of your work and vision in the tech industry. I recently came across the news of your company, Tesla, purchasing Twitter for a whopping $44 billion and I couldn't help but wonder why you made such a significant investment in the platform.\n",
            "\n",
            "As an entrepreneur and leader in the tech industry, I am sure that you have carefully evaluated the potential benefits and impact of this acquisition. However, I am curious to know your thought process behind this decision.\n",
            "\n",
            "Some people have speculated that this move is a part of your plan to expand Tesla's social media presence and boost its marketing efforts. Others believe that you see potential in Twitter's technology and its ability to connect with a large audience. I am interested to know your reasons and the long-term goals you have in mind for Twitter.\n",
            "\n",
            "I understand that you are a busy person and may not have the time to respond to every email. However, it would mean a lot to me if you could take a moment to share your insights on this acquisition. Your perspective and expertise in the tech industry are highly valuable to me, and I believe it will also benefit others who are curious about this move.\n",
            "\n",
            "Thank you for taking the time to read my email. I wish you all the best for your future endeavors and look forward to hearing from you soon.\n",
            "\n",
            "Sincerely,\n",
            "[Your Name] \n",
            "\n"
          ]
        }
      ]
    }
  ]
}