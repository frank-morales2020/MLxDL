{
  "nbformat": 4,
  "nbformat_minor": 0,
  "metadata": {
    "colab": {
      "provenance": [],
      "authorship_tag": "ABX9TyO03A6lC8BNdvZwLUJL2U4r",
      "include_colab_link": true
    },
    "kernelspec": {
      "name": "python3",
      "display_name": "Python 3"
    },
    "language_info": {
      "name": "python"
    }
  },
  "cells": [
    {
      "cell_type": "markdown",
      "metadata": {
        "id": "view-in-github",
        "colab_type": "text"
      },
      "source": [
        "<a href=\"https://colab.research.google.com/github/frank-morales2020/MLxDL/blob/main/opeanai_aws_integration.ipynb\" target=\"_parent\"><img src=\"https://colab.research.google.com/assets/colab-badge.svg\" alt=\"Open In Colab\"/></a>"
      ]
    },
    {
      "cell_type": "code",
      "source": [
        "!pip install --upgrade pip\n",
        "!pip install colab-env --upgrade\n",
        "!pip install openai\n",
        "!pip install boto3\n",
        "!pip install json\n",
        "\n",
        "import colab_env\n",
        "import os\n",
        "\n",
        "aws_access_key_id=os.getenv(\"AWS_ACCESS_KEY_ID\")\n",
        "aws_secret_access_key=os.getenv(\"AWS_SECRET_ACCESS_KEY\")\n",
        "region=os.getenv(\"region\")\n",
        "output=os.getenv(\"output\")\n",
        "FunctionName_ARN=os.getenv(\"AWS_LAMBDA_ARN\")"
      ],
      "metadata": {
        "id": "5QN8HtgsW4lT"
      },
      "execution_count": null,
      "outputs": []
    },
    {
      "cell_type": "code",
      "execution_count": 140,
      "metadata": {
        "id": "pHouDBccWjWu"
      },
      "outputs": [],
      "source": [
        "import json\n",
        "import openai\n",
        "import boto3\n",
        "\n",
        "def lambda_handler(prompt):\n",
        "    #MODEL\tDESCRIPTION\tCONTEXT WINDOW\tTRAINING DATA\n",
        "#gpt-4-1106-preview\n",
        "    model_to_use = \"gpt-3.5-turbo-instruct\"\n",
        "    #model_to_use = \"gpt-4-1106-preview\"\n",
        "    #input_prompt=\"Write an email to Elon Musk asking him why he bought Twitter for such a huge amount\"\n",
        "    input_prompt=prompt\n",
        "\n",
        "    openai.api_key = get_api_key()\n",
        "    response = openai.completions.create(\n",
        "      model=model_to_use,\n",
        "      prompt=input_prompt,\n",
        "      temperature=0.8,\n",
        "      max_tokens=512,\n",
        "      top_p=1,\n",
        "      frequency_penalty=0.0,\n",
        "      presence_penalty=0.0\n",
        "    )\n",
        "    #print(response)\n",
        "    return response\n",
        "    #text_response = response['choices'][0]['text'].strip()\n",
        "\n",
        "\n",
        "def get_api_key():\n",
        "    lambda_client = boto3.client('lambda')\n",
        "    response = lambda_client.invoke(\n",
        "            FunctionName = FunctionName_ARN,\n",
        "            InvocationType = 'RequestResponse'\n",
        "        )\n",
        "\n",
        "    openai_api_key = json.load(response['Payload'])['body']['api_key']\n",
        "    return openai_api_key\n"
      ]
    },
    {
      "cell_type": "code",
      "source": [
        "\n",
        "prompt = \"what is the 40% of 30?\"\n",
        "prompt = \"what is the 20.5% of 40?\"\n",
        "prompt = \"what is the 30% of 650?\"\n",
        "prompt = \"As a data scientist, \\ncan you explain the concept of regularization in machine learning?\"\n",
        "prompt=\"Write an email to Elon Musk asking him why he bought Twitter for such a huge amount\"\n",
        "\n",
        "#prompt='I bought an ice cream for 6 kids. Each cone was $1.25 and I paid with a $10 bill.\\n How many dollars did I get back? Explain first before answering.'\n",
        "#prompt='Which country has the most natural lakes? Answer with only the country name.'\n",
        "\n",
        "response=lambda_handler(prompt)\n",
        "print('Prompt: %s'%prompt)\n",
        "print()\n",
        "print('Answer:%s \\r\\n'%response.choices[0].text)"
      ],
      "metadata": {
        "colab": {
          "base_uri": "https://localhost:8080/"
        },
        "id": "B1skLvM4Y4Fr",
        "outputId": "fa235954-af55-49ca-eb45-bdd93050f7da"
      },
      "execution_count": 144,
      "outputs": [
        {
          "output_type": "stream",
          "name": "stdout",
          "text": [
            "Prompt: Write an email to Elon Musk asking him why he bought Twitter for such a huge amount\n",
            "\n",
            "Answer:\n",
            "\n",
            "Subject: Query Regarding Twitter Acquisition\n",
            "\n",
            "Dear Mr. Musk,\n",
            "\n",
            "I hope this email finds you well. My name is [Your Name] and I am a big admirer of your work and vision. I have been following the news about your recent acquisition of Twitter with great interest and I am curious to know more about your decision.\n",
            "\n",
            "As a leader in the tech industry, you have always been at the forefront of innovation and disruption. Therefore, I was surprised to learn that you chose to purchase Twitter for such a massive amount of $44 billion. I understand that Twitter has a huge user base and a strong presence in the social media market, but I am curious to know your thought process behind this investment.\n",
            "\n",
            "What made you see the potential in Twitter and how do you plan to leverage it in your overall business strategy? I am also interested in knowing if you have any specific plans to improve the platform and make it more profitable.\n",
            "\n",
            "Your decision has sparked a lot of discussions and debates in the tech community, and I believe many of your admirers, including myself, are eager to understand the rationale behind it. I am sure you have done a thorough analysis and have a clear vision for the future of Twitter. It would be greatly appreciated if you could shed some light on it.\n",
            "\n",
            "Thank you for taking the time to read my email. I look forward to hearing your insights on this matter.\n",
            "\n",
            "Best regards,\n",
            "\n",
            "[Your Name] \r\n",
            "\n"
          ]
        }
      ]
    }
  ]
}