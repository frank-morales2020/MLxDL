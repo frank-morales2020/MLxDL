{
  "nbformat": 4,
  "nbformat_minor": 0,
  "metadata": {
    "colab": {
      "provenance": [],
      "authorship_tag": "ABX9TyNbAjCzLPCpzcSnrCLGZsxJ",
      "include_colab_link": true
    },
    "kernelspec": {
      "name": "python3",
      "display_name": "Python 3"
    },
    "language_info": {
      "name": "python"
    }
  },
  "cells": [
    {
      "cell_type": "markdown",
      "metadata": {
        "id": "view-in-github",
        "colab_type": "text"
      },
      "source": [
        "<a href=\"https://colab.research.google.com/github/frank-morales2020/MLxDL/blob/main/plot_loss.ipynb\" target=\"_parent\"><img src=\"https://colab.research.google.com/assets/colab-badge.svg\" alt=\"Open In Colab\"/></a>"
      ]
    },
    {
      "cell_type": "code",
      "source": [
        "!pip install altair_viewer -q"
      ],
      "metadata": {
        "id": "bafX_h6QmeEE",
        "colab": {
          "base_uri": "https://localhost:8080/"
        },
        "outputId": "198af914-3f3c-4339-a559-37f1edeba38e"
      },
      "execution_count": 1,
      "outputs": [
        {
          "output_type": "stream",
          "name": "stdout",
          "text": [
            "\u001b[2K     \u001b[90m━━━━━━━━━━━━━━━━━━━━━━━━━━━━━━━━━━━━━━━━\u001b[0m \u001b[32m844.5/844.5 kB\u001b[0m \u001b[31m3.4 MB/s\u001b[0m eta \u001b[36m0:00:00\u001b[0m\n",
            "\u001b[?25h"
          ]
        }
      ]
    },
    {
      "cell_type": "code",
      "execution_count": 2,
      "metadata": {
        "id": "K_9hBQo9mKn9"
      },
      "outputs": [],
      "source": [
        "import altair as alt\n",
        "import pandas as pd\n",
        "\n",
        "# Create the DataFrame with the columns `Epoch`, `Training Loss`, and `Validation Loss`\n",
        "data = {\n",
        "    'Epoch': [0.00, 0.40, 0.80, 1.21, 1.61, 2.01, 2.41],\n",
        "    'Training Loss': [1.861, 0.585, 0.494, 0.445, 0.425, 0.350, 0.344],\n",
        "    'Validation Loss': [0.609, 0.531, 0.489, 0.467, 0.454, 0.472, 0.461]\n",
        "}\n",
        "\n",
        "df = pd.DataFrame(data)\n",
        "\n",
        "# Melt the DataFrame to long format for plotting\n",
        "df_long = df.melt(id_vars='Epoch', value_vars=['Training Loss', 'Validation Loss'], var_name='Loss Type', value_name='Loss')\n",
        "\n",
        "# Create the chart with enhanced features\n",
        "chart = alt.Chart(df_long).mark_line(point=True).encode(\n",
        "    x=alt.X('Epoch:Q', title='Epoch'),\n",
        "    y=alt.Y('Loss:Q', title='Loss'),\n",
        "    color=alt.Color('Loss Type:N', scale={'range': ['blue', 'orange']}, legend=alt.Legend(title=\"Loss Type\")),\n",
        "    tooltip=['Epoch', 'Loss Type', 'Loss']\n",
        ").properties(\n",
        "    title='Figure 1. Evolution of Training and Validation Loss During Model Optimization',\n",
        "    width=600,  # Adjust width as needed\n",
        "    height=400  # Adjust height as needed\n",
        ").interactive()\n",
        "\n",
        "# Display the chart\n",
        "#chart.show()\n",
        "\n",
        "# Save the chart\n",
        "chart.save('loss_chart.html')\n"
      ]
    }
  ]
}