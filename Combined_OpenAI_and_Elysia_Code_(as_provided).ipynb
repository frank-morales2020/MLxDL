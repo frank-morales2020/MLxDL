{
  "cells": [
    {
      "cell_type": "markdown",
      "metadata": {
        "id": "view-in-github",
        "colab_type": "text"
      },
      "source": [
        "<a href=\"https://colab.research.google.com/github/frank-morales2020/MLxDL/blob/main/Combined_OpenAI_and_Elysia_Code_(as_provided).ipynb\" target=\"_parent\"><img src=\"https://colab.research.google.com/assets/colab-badge.svg\" alt=\"Open In Colab\"/></a>"
      ]
    },
    {
      "cell_type": "markdown",
      "source": [
        "## https://github.com/weaviate/elysia"
      ],
      "metadata": {
        "id": "aimnlQ04Gof-"
      }
    },
    {
      "cell_type": "code",
      "source": [
        "!pip install openai -q\n",
        "!pip install elysia-ai -q"
      ],
      "metadata": {
        "id": "uGdI9ctxD2r_"
      },
      "execution_count": null,
      "outputs": []
    },
    {
      "cell_type": "code",
      "source": [
        "from elysia import tool, Tree"
      ],
      "metadata": {
        "id": "1SKrBBrAE_d0"
      },
      "execution_count": null,
      "outputs": []
    },
    {
      "cell_type": "code",
      "source": [
        "from google.colab import userdata\n",
        "from openai import OpenAI\n",
        "import asyncio\n",
        "import os\n",
        "import elysia\n",
        "\n",
        "# Assuming these are available or need simple definitions based on documentation context\n",
        "# Placeholder definition for read_response based on test usage\n",
        "import json\n",
        "def read_response(response):\n",
        "    # This is a simplified placeholder based on how it's used in the test.\n",
        "    # The actual response object from initialise_user/new_user_config/save_config_user\n",
        "    # in a non-test environment might be different.\n",
        "    try:\n",
        "        # Check if response has a .body attribute and if it's bytes, decode it\n",
        "        if hasattr(response, 'body') and isinstance(response.body, bytes):\n",
        "             return json.loads(response.body.decode('utf-8'))\n",
        "        # If it's already a dictionary or other JSON-serializable object\n",
        "        elif isinstance(response, dict):\n",
        "            return response\n",
        "        # Fallback for other types\n",
        "        return response\n",
        "    except Exception as e:\n",
        "        print(f\"Error reading response body: {e}\")\n",
        "        # Fallback if response is not a JSONResponse or doesn't have .body\n",
        "        return response # Or handle differently based on actual API return type\n",
        "\n",
        "\n",
        "# Placeholder for get_user_manager based on test usage - this is highly dependent\n",
        "# on Elysia's internal setup and might not have a simple equivalent in a user script.\n",
        "# We'll try a basic approach first based on the test structure.\n",
        "# If this fails, it indicates we need more info from the public API docs\n",
        "# on how to obtain or initialize the user manager in a user script.\n",
        "try:\n",
        "    from elysia.api.dependencies.common import get_user_manager\n",
        "    # Attempt to get the user manager if the import works\n",
        "    user_manager_instance = get_user_manager()\n",
        "except ImportError:\n",
        "    print(\"Could not import get_user_manager. User manager setup might be different in user scripts.\")\n",
        "    user_manager_instance = None # Indicate failure\n",
        "\n",
        "\n",
        "# --- Your OpenAI Code Block ---\n",
        "api_key = userdata.get('OPENAI_API_KEY')\n",
        "client = OpenAI(api_key=api_key)\n",
        "\n",
        "try:\n",
        "    # Correcting the method and model name\n",
        "    response = client.chat.completions.create(\n",
        "        model=\"gpt-5\", # Using a publicly available model\n",
        "        messages=[{\"role\": \"user\", \"content\": \"Write a one-sentence bedtime story about a unicorn.\"}]\n",
        "    )\n",
        "    # Correcting the attribute to access the response text\n",
        "    print(response.choices[0].message.content)\n",
        "except Exception as e:\n",
        "    print(f\"Error in OpenAI section: {e}\")\n",
        "\n",
        "\n",
        "# --- Your Elysia Code Block ---\n",
        "# Implement the user configuration workflow based on documentation examples\n",
        "\n",
        "async def configure_elysia_user(user_id: str, base_model: str, base_provider: str, user_manager):\n",
        "    if user_manager is None:\n",
        "        print(\"User manager is not available. Cannot configure Elysia user.\")\n",
        "        return None\n",
        "\n",
        "    print(f\"\\nConfiguring Elysia user: {user_id}\")\n",
        "    try:\n",
        "        # Import necessary functions from Elysia API routes based on documentation examples\n",
        "        from elysia.api.routes.init import initialise_user\n",
        "        from elysia.api.routes.user_config import new_user_config, save_config_user, load_a_config\n",
        "        from elysia.api.api_types import SaveConfigUserData # Import SaveConfigUserData\n",
        "\n",
        "        # Initialise the user\n",
        "        init_response = await initialise_user(user_id=user_id, user_manager=user_manager)\n",
        "        init_data = read_response(init_response)\n",
        "        #print(f\"Initialise user response: {init_data}\")\n",
        "\n",
        "        # Create a new config\n",
        "        new_config_response = await new_user_config(user_id=user_id, user_manager=user_manager)\n",
        "        new_config_data = read_response(new_config_response)\n",
        "        config_id = new_config_data[\"config\"][\"id\"]\n",
        "        #print(f\"New config created with ID: {config_id}\")\n",
        "\n",
        "        # Modify the config to set the base model and provider\n",
        "        current_config = new_config_data[\"config\"]\n",
        "        current_config[\"settings\"][\"BASE_MODEL\"] = base_model\n",
        "        current_config[\"settings\"][\"BASE_PROVIDER\"] = base_provider\n",
        "        # Assuming COMPLEX_MODEL and COMPLEX_PROVIDER might also be needed or good practice\n",
        "        current_config[\"settings\"][\"COMPLEX_MODEL\"] = base_model\n",
        "        current_config[\"settings\"][\"COMPLEX_PROVIDER\"] = base_provider\n",
        "\n",
        "        # Prepare frontend_config - Use empty dict as in one test example, and ensure Weaviate save is False\n",
        "        # Add dummy values for WCD URL/API key to bypass check in load_a_config\n",
        "        frontend_config_data = {\n",
        "             \"save_trees_to_weaviate\": False,\n",
        "             \"save_configs_to_weaviate\": False,\n",
        "             \"save_location_wcd_url\": \"dummy_url\", # Provide dummy strings\n",
        "             \"save_location_wcd_api_key\": \"dummy_key\", # Provide dummy strings\n",
        "             \"client_timeout\": 3, # Default values from test\n",
        "             \"tree_timeout\": 10,  # Default values from test\n",
        "        }\n",
        "\n",
        "\n",
        "        # Save the modified config\n",
        "        # Need to provide SaveConfigUserData structure as seen in test\n",
        "        save_data = SaveConfigUserData(\n",
        "            name=current_config[\"name\"], # Use the default name from the new config\n",
        "            default=True, # Set as default config\n",
        "            config=current_config,\n",
        "            frontend_config=frontend_config_data, # Use the prepared frontend_config\n",
        "        )\n",
        "\n",
        "        save_response = await save_config_user(\n",
        "            user_id=user_id,\n",
        "            config_id=config_id,\n",
        "            data=save_data,\n",
        "            user_manager=user_manager,\n",
        "        )\n",
        "        save_data_response = read_response(save_response)\n",
        "        #print(f\"Config saved: {save_data_response}\")\n",
        "\n",
        "        # Load the config to confirm settings (optional, but good for verification)\n",
        "        # Only attempt to load if save seemed successful and did not try Weaviate\n",
        "        if 'warnings' in save_data_response and \"Config has not been saved to Weaviate.\" in ''.join(save_data_response['warnings']):\n",
        "             print(\"Skipping config load after save due to Weaviate save warning.\")\n",
        "        else:\n",
        "             load_response = await load_a_config(\n",
        "                 user_id=user_id, config_id=config_id, user_manager=user_manager\n",
        "             )\n",
        "             load_data_response = read_response(load_response)\n",
        "             #print(f\"Config loaded after save: {load_data_response}\")\n",
        "             # Safely access settings, checking if config key exists and then settings key\n",
        "             if 'config' in load_data_response and 'settings' in load_data_response['config']:\n",
        "                print(f\"Loaded BASE_MODEL: {load_data_response['config']['settings'].get('BASE_MODEL')}\")\n",
        "             else:\n",
        "                 print(\"Could not load config settings after save.\")\n",
        "\n",
        "\n",
        "        print(\"Elysia user configured successfully.\")\n",
        "        return user_manager # Return the user manager if successful\n",
        "\n",
        "    except ImportError as e:\n",
        "         print(f\"Error importing Elysia API components needed for configuration: {e}\")\n",
        "         print(\"Please ensure elysia.api.routes.init, elysia.api.routes.user_config, and elysia.api.api_types are accessible.\")\n",
        "         return None\n",
        "    except Exception as e:\n",
        "        print(f\"Error during Elysia user configuration: {e}\")\n",
        "        # Print detailed error info if available\n",
        "        import traceback\n",
        "        traceback.print_exc()\n",
        "        return None\n",
        "\n",
        "\n",
        "# Ensure the OpenAI API key is set as an environment variable for Elysia\n",
        "# if it expects it that way, which the default OpenAI client does.\n",
        "# We already retrieved it for the first part of your code.\n",
        "try:\n",
        "    os.environ[\"OPENAI_API_KEY\"] = api_key\n",
        "except TypeError: # api_key might be None if userdata.get failed\n",
        "    print(\"API key not available for setting environment variable.\")\n",
        "\n",
        "# Explicitly set the BASE_MODEL environment variable for Elysia - Keeping this for now as it might still be relevant\n",
        "# Although configuration via user settings is primary, environment variables might act as fallback or initial settings.\n",
        "os.environ[\"BASE_MODEL\"] = \"gpt-4o\" # Set the base model explicitly for Elysia\n",
        "\n",
        "# Remove the import and usage of Config as it's causing an ImportError\n",
        "# from elysia.config import Config # Removed\n",
        "# Config.BASE_MODEL = \"gpt-4o\" # Removed\n",
        "\n",
        "# Remove the unexpected 'client' and 'base_model'/'model' arguments from Tree initialization\n",
        "# tree = Tree() # Removed previous initialization\n",
        "\n",
        "# Need to perform configuration before initializing Tree\n",
        "# Define a user ID for configuration\n",
        "elysia_user_id = \"colab_user\" # Using a generic user ID for this environment\n",
        "\n",
        "\n",
        "# Run the configuration process\n",
        "configured_user_manager = await configure_elysia_user(\n",
        "    user_id=elysia_user_id,\n",
        "    base_model=\"gpt-5\", # Specify the model you want to use\n",
        "    base_provider=\"openai\", # Specify the provider\n",
        "    user_manager=user_manager_instance # Pass the potentially available user manager\n",
        ")\n",
        "\n",
        "# Initialize the Tree *after* configuration, potentially passing the configured user manager\n",
        "# The documentation would ideally specify how Tree links to the user session.\n",
        "# Assuming Tree might implicitly use the configured user manager if available globally or via context.\n",
        "# If this still fails, the documentation is needed to know how to link Tree to the config.\n",
        "if configured_user_manager:\n",
        "    print(\"\\nInitializing Tree after configuration...\")\n",
        "    # Try initializing Tree without args first, hoping it picks up the configured user manager or config\n",
        "    # Based on the error from load_a_config about WCD URL/API key, it seems load_a_config might be\n",
        "    # implicitly called by Tree() if a user_manager is available or if it tries to load a default config.\n",
        "    # If Tree() still fails after configuration, we might need to explore how Tree is supposed to\n",
        "    # be linked to the user_manager or the configured settings. For now, keep the simplest Tree() call.\n",
        "\n",
        "    # Add the smart_setup call before initializing the Tree\n",
        "    print(\"Running elysia.config.settings.smart_setup()...\")\n",
        "    try:\n",
        "        elysia.config.settings.smart_setup()\n",
        "        print(\"smart_setup completed.\")\n",
        "    except Exception as e:\n",
        "        print(f\"Error during smart_setup: {e}\")\n",
        "        # If smart_setup fails, the Tree initialization might also fail,\n",
        "        # so we might want to skip the rest.\n",
        "        configured_user_manager = None # Indicate failure\n"
      ],
      "outputs": [],
      "execution_count": null,
      "metadata": {
        "id": "TXLhk2j3DzxR"
      }
    },
    {
      "cell_type": "code",
      "source": [
        "if configured_user_manager:\n",
        "    tree = Tree()\n",
        "\n",
        "    @tool(tree=tree)\n",
        "    async def add(x: int, y: int) -> int:\n",
        "        \"\"\"\n",
        "        Adds two integers together.\n",
        "        \"\"\"\n",
        "        #print(f\"DEBUG: add tool called with {x} and {y}\")\n",
        "        return x + y\n",
        "\n",
        "    # Now run the Elysia part that uses the configured Tree\n",
        "    # Change to synchronous run() based on test code\n",
        "    def run_elysia_part_with_configured_tree_sync():\n",
        "         #print(\"\\nRunning Elysia part with configured Tree (synchronous)...\")\n",
        "         try:\n",
        "            # tree.run is synchronous\n",
        "            result = tree.run(\n",
        "                \"What is the sum of 9009 and 6006?\",\n",
        "            )\n",
        "            # The run method might return the result differently, need to check its return type\n",
        "            # Assuming it might return the final response text directly or in a specific structure\n",
        "            print(f\"Elysia result: {result}\")\n",
        "         except Exception as e:\n",
        "            print(f\"Error running Elysia part after configuration: {e}\")\n",
        "\n",
        "else:\n",
        "    print(\"\\nSkipping Elysia Tree execution due to configuration failure.\")"
      ],
      "metadata": {
        "id": "YAWdstSkmFbc"
      },
      "execution_count": 10,
      "outputs": []
    },
    {
      "cell_type": "code",
      "source": [
        "# Call the synchronous run function\n",
        "run_elysia_part_with_configured_tree_sync()"
      ],
      "metadata": {
        "colab": {
          "base_uri": "https://localhost:8080/",
          "height": 658
        },
        "id": "k8TK2f9mnFvP",
        "outputId": "1ae5c57d-5390-49df-f3ef-14c09efee560"
      },
      "execution_count": 11,
      "outputs": [
        {
          "output_type": "display_data",
          "data": {
            "text/plain": [
              "\u001b[2;36m[08/13/25 08:56:28]\u001b[0m\u001b[2;36m \u001b[0m\u001b[33mWARNING \u001b[0m WCD_URL and WCD_API_KEY are not set. All Weaviate functionality will be  \u001b]8;id=57977;file:///usr/local/lib/python3.11/dist-packages/elysia/util/client.py\u001b\\\u001b[2mclient.py\u001b[0m\u001b]8;;\u001b\\\u001b[2m:\u001b[0m\u001b]8;id=582899;file:///usr/local/lib/python3.11/dist-packages/elysia/util/client.py#151\u001b\\\u001b[2m151\u001b[0m\u001b]8;;\u001b\\\n",
              "\u001b[2;36m                    \u001b[0m         disabled.                                                                \u001b[2m             \u001b[0m\n"
            ],
            "text/html": [
              "<pre style=\"white-space:pre;overflow-x:auto;line-height:normal;font-family:Menlo,'DejaVu Sans Mono',consolas,'Courier New',monospace\"><span style=\"color: #7fbfbf; text-decoration-color: #7fbfbf\">[08/13/25 08:56:28] </span><span style=\"color: #808000; text-decoration-color: #808000\">WARNING </span> WCD_URL and WCD_API_KEY are not set. All Weaviate functionality will be  <a href=\"file:///usr/local/lib/python3.11/dist-packages/elysia/util/client.py\" target=\"_blank\"><span style=\"color: #7f7f7f; text-decoration-color: #7f7f7f\">client.py</span></a><span style=\"color: #7f7f7f; text-decoration-color: #7f7f7f\">:</span><a href=\"file:///usr/local/lib/python3.11/dist-packages/elysia/util/client.py#151\" target=\"_blank\"><span style=\"color: #7f7f7f; text-decoration-color: #7f7f7f\">151</span></a>\n",
              "<span style=\"color: #7fbfbf; text-decoration-color: #7fbfbf\">                    </span>         disabled.                                                                <span style=\"color: #7f7f7f; text-decoration-color: #7f7f7f\">             </span>\n",
              "</pre>\n"
            ]
          },
          "metadata": {}
        },
        {
          "output_type": "display_data",
          "data": {
            "text/plain": [
              "\u001b[33m╭─\u001b[0m\u001b[33m──────────\u001b[0m\u001b[33m User prompt \u001b[0m\u001b[33m──────────\u001b[0m\u001b[33m─╮\u001b[0m\n",
              "\u001b[33m│\u001b[0m                                   \u001b[33m│\u001b[0m\n",
              "\u001b[33m│\u001b[0m What is the sum of 9009 and 6006? \u001b[33m│\u001b[0m\n",
              "\u001b[33m│\u001b[0m                                   \u001b[33m│\u001b[0m\n",
              "\u001b[33m╰───────────────────────────────────╯\u001b[0m\n"
            ],
            "text/html": [
              "<pre style=\"white-space:pre;overflow-x:auto;line-height:normal;font-family:Menlo,'DejaVu Sans Mono',consolas,'Courier New',monospace\"><span style=\"color: #808000; text-decoration-color: #808000\">╭─────────── User prompt ───────────╮</span>\n",
              "<span style=\"color: #808000; text-decoration-color: #808000\">│</span>                                   <span style=\"color: #808000; text-decoration-color: #808000\">│</span>\n",
              "<span style=\"color: #808000; text-decoration-color: #808000\">│</span> What is the sum of 9009 and 6006? <span style=\"color: #808000; text-decoration-color: #808000\">│</span>\n",
              "<span style=\"color: #808000; text-decoration-color: #808000\">│</span>                                   <span style=\"color: #808000; text-decoration-color: #808000\">│</span>\n",
              "<span style=\"color: #808000; text-decoration-color: #808000\">╰───────────────────────────────────╯</span>\n",
              "</pre>\n"
            ]
          },
          "metadata": {}
        },
        {
          "output_type": "display_data",
          "data": {
            "text/plain": [
              "\u001b[36m╭─\u001b[0m\u001b[36m───────────────\u001b[0m\u001b[36m Assistant response \u001b[0m\u001b[36m───────────────\u001b[0m\u001b[36m─╮\u001b[0m\n",
              "\u001b[36m│\u001b[0m                                                    \u001b[36m│\u001b[0m\n",
              "\u001b[36m│\u001b[0m I am calculating the sum of 9009 and 6006 for you. \u001b[36m│\u001b[0m\n",
              "\u001b[36m│\u001b[0m                                                    \u001b[36m│\u001b[0m\n",
              "\u001b[36m╰────────────────────────────────────────────────────╯\u001b[0m\n"
            ],
            "text/html": [
              "<pre style=\"white-space:pre;overflow-x:auto;line-height:normal;font-family:Menlo,'DejaVu Sans Mono',consolas,'Courier New',monospace\"><span style=\"color: #008080; text-decoration-color: #008080\">╭──────────────── Assistant response ────────────────╮</span>\n",
              "<span style=\"color: #008080; text-decoration-color: #008080\">│</span>                                                    <span style=\"color: #008080; text-decoration-color: #008080\">│</span>\n",
              "<span style=\"color: #008080; text-decoration-color: #008080\">│</span> I am calculating the sum of 9009 and 6006 for you. <span style=\"color: #008080; text-decoration-color: #008080\">│</span>\n",
              "<span style=\"color: #008080; text-decoration-color: #008080\">│</span>                                                    <span style=\"color: #008080; text-decoration-color: #008080\">│</span>\n",
              "<span style=\"color: #008080; text-decoration-color: #008080\">╰────────────────────────────────────────────────────╯</span>\n",
              "</pre>\n"
            ]
          },
          "metadata": {}
        },
        {
          "output_type": "display_data",
          "data": {
            "text/plain": [
              "\u001b[35m╭─\u001b[0m\u001b[35m──────────────────────────────────────────────\u001b[0m\u001b[35m Current Decision \u001b[0m\u001b[35m───────────────────────────────────────────────\u001b[0m\u001b[35m─╮\u001b[0m\n",
              "\u001b[35m│\u001b[0m                                                                                                                 \u001b[35m│\u001b[0m\n",
              "\u001b[35m│\u001b[0m \u001b[1mNode:\u001b[0m \u001b[35mbase\u001b[0m                                                                                                      \u001b[35m│\u001b[0m\n",
              "\u001b[35m│\u001b[0m \u001b[1mDecision:\u001b[0m \u001b[32madd\u001b[0m                                                                                                   \u001b[35m│\u001b[0m\n",
              "\u001b[35m│\u001b[0m \u001b[1mReasoning:\u001b[0m The user's prompt is a straightforward arithmetic question asking for the sum of two integers, 9009  \u001b[35m│\u001b[0m\n",
              "\u001b[35m│\u001b[0m and 6006. The available action \"add\" is specifically designed to handle this type of task, as it adds two       \u001b[35m│\u001b[0m\n",
              "\u001b[35m│\u001b[0m integers together. This action directly addresses the user's request and will provide the correct sum of the    \u001b[35m│\u001b[0m\n",
              "\u001b[35m│\u001b[0m two numbers.                                                                                                    \u001b[35m│\u001b[0m\n",
              "\u001b[35m│\u001b[0m                                                                                                                 \u001b[35m│\u001b[0m\n",
              "\u001b[35m│\u001b[0m                                                                                                                 \u001b[35m│\u001b[0m\n",
              "\u001b[35m╰─────────────────────────────────────────────────────────────────────────────────────────────────────────────────╯\u001b[0m\n"
            ],
            "text/html": [
              "<pre style=\"white-space:pre;overflow-x:auto;line-height:normal;font-family:Menlo,'DejaVu Sans Mono',consolas,'Courier New',monospace\"><span style=\"color: #800080; text-decoration-color: #800080\">╭─────────────────────────────────────────────── Current Decision ────────────────────────────────────────────────╮</span>\n",
              "<span style=\"color: #800080; text-decoration-color: #800080\">│</span>                                                                                                                 <span style=\"color: #800080; text-decoration-color: #800080\">│</span>\n",
              "<span style=\"color: #800080; text-decoration-color: #800080\">│</span> <span style=\"font-weight: bold\">Node:</span> <span style=\"color: #800080; text-decoration-color: #800080\">base</span>                                                                                                      <span style=\"color: #800080; text-decoration-color: #800080\">│</span>\n",
              "<span style=\"color: #800080; text-decoration-color: #800080\">│</span> <span style=\"font-weight: bold\">Decision:</span> <span style=\"color: #008000; text-decoration-color: #008000\">add</span>                                                                                                   <span style=\"color: #800080; text-decoration-color: #800080\">│</span>\n",
              "<span style=\"color: #800080; text-decoration-color: #800080\">│</span> <span style=\"font-weight: bold\">Reasoning:</span> The user's prompt is a straightforward arithmetic question asking for the sum of two integers, 9009  <span style=\"color: #800080; text-decoration-color: #800080\">│</span>\n",
              "<span style=\"color: #800080; text-decoration-color: #800080\">│</span> and 6006. The available action \"add\" is specifically designed to handle this type of task, as it adds two       <span style=\"color: #800080; text-decoration-color: #800080\">│</span>\n",
              "<span style=\"color: #800080; text-decoration-color: #800080\">│</span> integers together. This action directly addresses the user's request and will provide the correct sum of the    <span style=\"color: #800080; text-decoration-color: #800080\">│</span>\n",
              "<span style=\"color: #800080; text-decoration-color: #800080\">│</span> two numbers.                                                                                                    <span style=\"color: #800080; text-decoration-color: #800080\">│</span>\n",
              "<span style=\"color: #800080; text-decoration-color: #800080\">│</span>                                                                                                                 <span style=\"color: #800080; text-decoration-color: #800080\">│</span>\n",
              "<span style=\"color: #800080; text-decoration-color: #800080\">│</span>                                                                                                                 <span style=\"color: #800080; text-decoration-color: #800080\">│</span>\n",
              "<span style=\"color: #800080; text-decoration-color: #800080\">╰─────────────────────────────────────────────────────────────────────────────────────────────────────────────────╯</span>\n",
              "</pre>\n"
            ]
          },
          "metadata": {}
        },
        {
          "output_type": "display_data",
          "data": {
            "text/plain": [
              "\u001b[35m╭─\u001b[0m\u001b[35m──────────────────────────────────────────────\u001b[0m\u001b[35m Current Decision \u001b[0m\u001b[35m───────────────────────────────────────────────\u001b[0m\u001b[35m─╮\u001b[0m\n",
              "\u001b[35m│\u001b[0m                                                                                                                 \u001b[35m│\u001b[0m\n",
              "\u001b[35m│\u001b[0m \u001b[1mNode:\u001b[0m \u001b[35mbase\u001b[0m                                                                                                      \u001b[35m│\u001b[0m\n",
              "\u001b[35m│\u001b[0m \u001b[1mDecision:\u001b[0m \u001b[32mtext_response\u001b[0m                                                                                         \u001b[35m│\u001b[0m\n",
              "\u001b[35m│\u001b[0m \u001b[1mReasoning:\u001b[0m The user's prompt is a simple arithmetic question asking for the sum of two integers, 9009 and 6006. \u001b[35m│\u001b[0m\n",
              "\u001b[35m│\u001b[0m The \"add\" function is specifically designed to handle this task, and it has already been executed successfully, \u001b[35m│\u001b[0m\n",
              "\u001b[35m│\u001b[0m as indicated by the environment data showing the result of 15015. Therefore, the task has been completed, and I \u001b[35m│\u001b[0m\n",
              "\u001b[35m│\u001b[0m can now provide the user with the answer.                                                                       \u001b[35m│\u001b[0m\n",
              "\u001b[35m│\u001b[0m                                                                                                                 \u001b[35m│\u001b[0m\n",
              "\u001b[35m│\u001b[0m                                                                                                                 \u001b[35m│\u001b[0m\n",
              "\u001b[35m╰─────────────────────────────────────────────────────────────────────────────────────────────────────────────────╯\u001b[0m\n"
            ],
            "text/html": [
              "<pre style=\"white-space:pre;overflow-x:auto;line-height:normal;font-family:Menlo,'DejaVu Sans Mono',consolas,'Courier New',monospace\"><span style=\"color: #800080; text-decoration-color: #800080\">╭─────────────────────────────────────────────── Current Decision ────────────────────────────────────────────────╮</span>\n",
              "<span style=\"color: #800080; text-decoration-color: #800080\">│</span>                                                                                                                 <span style=\"color: #800080; text-decoration-color: #800080\">│</span>\n",
              "<span style=\"color: #800080; text-decoration-color: #800080\">│</span> <span style=\"font-weight: bold\">Node:</span> <span style=\"color: #800080; text-decoration-color: #800080\">base</span>                                                                                                      <span style=\"color: #800080; text-decoration-color: #800080\">│</span>\n",
              "<span style=\"color: #800080; text-decoration-color: #800080\">│</span> <span style=\"font-weight: bold\">Decision:</span> <span style=\"color: #008000; text-decoration-color: #008000\">text_response</span>                                                                                         <span style=\"color: #800080; text-decoration-color: #800080\">│</span>\n",
              "<span style=\"color: #800080; text-decoration-color: #800080\">│</span> <span style=\"font-weight: bold\">Reasoning:</span> The user's prompt is a simple arithmetic question asking for the sum of two integers, 9009 and 6006. <span style=\"color: #800080; text-decoration-color: #800080\">│</span>\n",
              "<span style=\"color: #800080; text-decoration-color: #800080\">│</span> The \"add\" function is specifically designed to handle this task, and it has already been executed successfully, <span style=\"color: #800080; text-decoration-color: #800080\">│</span>\n",
              "<span style=\"color: #800080; text-decoration-color: #800080\">│</span> as indicated by the environment data showing the result of 15015. Therefore, the task has been completed, and I <span style=\"color: #800080; text-decoration-color: #800080\">│</span>\n",
              "<span style=\"color: #800080; text-decoration-color: #800080\">│</span> can now provide the user with the answer.                                                                       <span style=\"color: #800080; text-decoration-color: #800080\">│</span>\n",
              "<span style=\"color: #800080; text-decoration-color: #800080\">│</span>                                                                                                                 <span style=\"color: #800080; text-decoration-color: #800080\">│</span>\n",
              "<span style=\"color: #800080; text-decoration-color: #800080\">│</span>                                                                                                                 <span style=\"color: #800080; text-decoration-color: #800080\">│</span>\n",
              "<span style=\"color: #800080; text-decoration-color: #800080\">╰─────────────────────────────────────────────────────────────────────────────────────────────────────────────────╯</span>\n",
              "</pre>\n"
            ]
          },
          "metadata": {}
        },
        {
          "output_type": "display_data",
          "data": {
            "text/plain": [
              "\u001b[36m╭─\u001b[0m\u001b[36m───────\u001b[0m\u001b[36m Assistant response \u001b[0m\u001b[36m───────\u001b[0m\u001b[36m─╮\u001b[0m\n",
              "\u001b[36m│\u001b[0m                                    \u001b[36m│\u001b[0m\n",
              "\u001b[36m│\u001b[0m The sum of 9009 and 6006 is 15015. \u001b[36m│\u001b[0m\n",
              "\u001b[36m│\u001b[0m                                    \u001b[36m│\u001b[0m\n",
              "\u001b[36m╰────────────────────────────────────╯\u001b[0m\n"
            ],
            "text/html": [
              "<pre style=\"white-space:pre;overflow-x:auto;line-height:normal;font-family:Menlo,'DejaVu Sans Mono',consolas,'Courier New',monospace\"><span style=\"color: #008080; text-decoration-color: #008080\">╭──────── Assistant response ────────╮</span>\n",
              "<span style=\"color: #008080; text-decoration-color: #008080\">│</span>                                    <span style=\"color: #008080; text-decoration-color: #008080\">│</span>\n",
              "<span style=\"color: #008080; text-decoration-color: #008080\">│</span> The sum of 9009 and 6006 is 15015. <span style=\"color: #008080; text-decoration-color: #008080\">│</span>\n",
              "<span style=\"color: #008080; text-decoration-color: #008080\">│</span>                                    <span style=\"color: #008080; text-decoration-color: #008080\">│</span>\n",
              "<span style=\"color: #008080; text-decoration-color: #008080\">╰────────────────────────────────────╯</span>\n",
              "</pre>\n"
            ]
          },
          "metadata": {}
        },
        {
          "output_type": "display_data",
          "data": {
            "text/plain": [],
            "text/html": [
              "<pre style=\"white-space:pre;overflow-x:auto;line-height:normal;font-family:Menlo,'DejaVu Sans Mono',consolas,'Courier New',monospace\"></pre>\n"
            ]
          },
          "metadata": {}
        },
        {
          "output_type": "stream",
          "name": "stdout",
          "text": [
            "Elysia result: ('I am calculating the sum of 9009 and 6006 for you. The sum of 9009 and 6006 is 15015.', [[{'tool_result': 15015, '_REF_ID': 'add_default_0_0'}]])\n"
          ]
        }
      ]
    }
  ],
  "metadata": {
    "colab": {
      "provenance": [],
      "include_colab_link": true
    },
    "kernelspec": {
      "display_name": "Python 3",
      "name": "python3"
    }
  },
  "nbformat": 4,
  "nbformat_minor": 0
}