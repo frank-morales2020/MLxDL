{
  "nbformat": 4,
  "nbformat_minor": 0,
  "metadata": {
    "colab": {
      "provenance": [],
      "authorship_tag": "ABX9TyMpAk3Vs7Fcnmto4I203LMT",
      "include_colab_link": true
    },
    "kernelspec": {
      "name": "python3",
      "display_name": "Python 3"
    },
    "language_info": {
      "name": "python"
    }
  },
  "cells": [
    {
      "cell_type": "markdown",
      "metadata": {
        "id": "view-in-github",
        "colab_type": "text"
      },
      "source": [
        "<a href=\"https://colab.research.google.com/github/frank-morales2020/MLxDL/blob/main/fermat.ipynb\" target=\"_parent\"><img src=\"https://colab.research.google.com/assets/colab-badge.svg\" alt=\"Open In Colab\"/></a>"
      ]
    },
    {
      "cell_type": "markdown",
      "source": [
        "https://www.geeksforgeeks.org/fermats-last-theorem/"
      ],
      "metadata": {
        "id": "9P_ROnv2-eim"
      }
    },
    {
      "source": [
        "def check_fermat(a, b, c, n):\n",
        "    if n <= 5 and (a**n + b**n == c**n):\n",
        "        print(\"Fermat's Last Theorem for A=%s plus B=%s is worked. C=%s\"%(a**n,b**n,c**n))\n",
        "    else:\n",
        "        print(\"No, Fermat's Last Theorem for A=%s plus B=%s doesn’t work. C=%s\"%(a**n,b**n,c**n))\n",
        "\n",
        "# Test the function with some values\n",
        "\n",
        "print(\"Test Cases\")\n",
        "print('a^n + b^n = c^n')\n",
        "print()\n",
        "print(\"Test Case #1: 3^2 + 4^2 = 5^2\")\n",
        "check_fermat(3, 4, 5, 2)\n",
        "print()\n",
        "print(\"Test Case #2: 3^3 + 4^3 = 5^3\")\n",
        "check_fermat(3, 4, 5, 3)\n",
        "print()\n",
        "print(\"Test Case #3: 2^1 + 3^1 = 5^1\")\n",
        "check_fermat(2, 3, 5, 1)\n",
        "print()\n",
        "print(\"Test Case #4: 9^2 + 40^2 = 41^2\")\n",
        "check_fermat(9, 40, 41, 2)\n",
        "print()"
      ],
      "cell_type": "code",
      "metadata": {
        "colab": {
          "base_uri": "https://localhost:8080/"
        },
        "id": "sKpHF2_XBlVW",
        "outputId": "87dec216-740b-42cf-b483-858313a9bfc4"
      },
      "execution_count": 6,
      "outputs": [
        {
          "output_type": "stream",
          "name": "stdout",
          "text": [
            "Test Cases\n",
            "a^n + b^n = c^n\n",
            "\n",
            "Test Case #1: 3^2 + 4^2 = 5^2\n",
            "Fermat's Last Theorem for A=9 plus B=16 is worked. C=25\n",
            "\n",
            "Test Case #2: 3^3 + 4^3 = 5^3\n",
            "No, Fermat's Last Theorem for A=27 plus B=64 doesn’t work. C=125\n",
            "\n",
            "Test Case #3: 2^1 + 3^1 = 5^1\n",
            "Fermat's Last Theorem for A=2 plus B=3 is worked. C=5\n",
            "\n",
            "Test Case #4: 9^2 + 40^2 = 41^2\n",
            "Fermat's Last Theorem for A=81 plus B=1600 is worked. C=1681\n",
            "\n"
          ]
        }
      ]
    }
  ]
}