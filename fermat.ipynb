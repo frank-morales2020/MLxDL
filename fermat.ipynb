{
  "nbformat": 4,
  "nbformat_minor": 0,
  "metadata": {
    "colab": {
      "provenance": [],
      "authorship_tag": "ABX9TyPqMO1eM2X3NRQDDFQx2A+d",
      "include_colab_link": true
    },
    "kernelspec": {
      "name": "python3",
      "display_name": "Python 3"
    },
    "language_info": {
      "name": "python"
    }
  },
  "cells": [
    {
      "cell_type": "markdown",
      "metadata": {
        "id": "view-in-github",
        "colab_type": "text"
      },
      "source": [
        "<a href=\"https://colab.research.google.com/github/frank-morales2020/MLxDL/blob/main/fermat.ipynb\" target=\"_parent\"><img src=\"https://colab.research.google.com/assets/colab-badge.svg\" alt=\"Open In Colab\"/></a>"
      ]
    },
    {
      "cell_type": "markdown",
      "source": [
        "https://www.geeksforgeeks.org/fermats-last-theorem/"
      ],
      "metadata": {
        "id": "9P_ROnv2-eim"
      }
    },
    {
      "source": [
        "def check_fermat(a, b, c, n):\n",
        "    if n <= 5 and (a**n + b**n == c**n):\n",
        "        print(\"Fermat's Last Theorem for A=%s plus B=%s is worked. C=%s\"%(a**n,b**n,c**n))\n",
        "    else:\n",
        "        print(\"No, Fermat's Last Theorem for A=%s plus B=%s doesn’t work. C=%s\"%(a**n,b**n,c**n))\n",
        "\n",
        "# Test the function with some values\n",
        "\n",
        "print(\"Test Cases\")\n",
        "print('a^n + b^n = c^n')\n",
        "print()\n",
        "print(\"Test Case #1: 3^2 + 4^2 = 5^2\")\n",
        "check_fermat(3, 4, 5, 2)\n",
        "print()\n",
        "print(\"Test Case #2: 3^3 + 4^3 = 5^3\")\n",
        "check_fermat(3, 4, 5, 3)\n",
        "print()\n",
        "print(\"Test Case #3: 2^1 + 3^1 = 5^1\")\n",
        "check_fermat(2, 3, 5, 1)\n",
        "print()\n",
        "print(\"Test Case #4: 9^2 + 40^2 = 41^2\")\n",
        "check_fermat(9, 40, 41, 2)\n",
        "print()"
      ],
      "cell_type": "code",
      "metadata": {
        "colab": {
          "base_uri": "https://localhost:8080/"
        },
        "id": "sKpHF2_XBlVW",
        "outputId": "87dec216-740b-42cf-b483-858313a9bfc4"
      },
      "execution_count": 6,
      "outputs": [
        {
          "output_type": "stream",
          "name": "stdout",
          "text": [
            "Test Cases\n",
            "a^n + b^n = c^n\n",
            "\n",
            "Test Case #1: 3^2 + 4^2 = 5^2\n",
            "Fermat's Last Theorem for A=9 plus B=16 is worked. C=25\n",
            "\n",
            "Test Case #2: 3^3 + 4^3 = 5^3\n",
            "No, Fermat's Last Theorem for A=27 plus B=64 doesn’t work. C=125\n",
            "\n",
            "Test Case #3: 2^1 + 3^1 = 5^1\n",
            "Fermat's Last Theorem for A=2 plus B=3 is worked. C=5\n",
            "\n",
            "Test Case #4: 9^2 + 40^2 = 41^2\n",
            "Fermat's Last Theorem for A=81 plus B=1600 is worked. C=1681\n",
            "\n"
          ]
        }
      ]
    },
    {
      "cell_type": "code",
      "source": [
        "# Used to securely store your API key\n",
        "from google.colab import userdata\n",
        "import google.generativeai as genai"
      ],
      "metadata": {
        "id": "BDdVccyz4-sQ"
      },
      "execution_count": 10,
      "outputs": []
    },
    {
      "cell_type": "code",
      "source": [
        "def to_markdown(text):\n",
        "  text = text.replace('•', '  *')\n",
        "  return Markdown(textwrap.indent(text, '> ', predicate=lambda _: True))"
      ],
      "metadata": {
        "id": "J6kOHMCF4_3h"
      },
      "execution_count": 8,
      "outputs": []
    },
    {
      "cell_type": "code",
      "source": [
        "GOOGLE_API_KEY=userdata.get('GEMINI')\n",
        "genai.configure(api_key=GOOGLE_API_KEY)"
      ],
      "metadata": {
        "id": "q9UcArFk5F6e"
      },
      "execution_count": 11,
      "outputs": []
    },
    {
      "cell_type": "code",
      "source": [
        "import google.generativeai as genai\n",
        "\n",
        "for m in genai.list_models():\n",
        "    if \"generateContent\" in m.supported_generation_methods:\n",
        "        print(m.name)"
      ],
      "metadata": {
        "colab": {
          "base_uri": "https://localhost:8080/",
          "height": 156
        },
        "id": "R3ZOVARS5SY7",
        "outputId": "5f90c61c-1feb-4328-968a-11d5b6653587"
      },
      "execution_count": 12,
      "outputs": [
        {
          "output_type": "stream",
          "name": "stdout",
          "text": [
            "models/gemini-1.0-pro\n",
            "models/gemini-1.0-pro-001\n",
            "models/gemini-1.0-pro-latest\n",
            "models/gemini-1.0-pro-vision-latest\n",
            "models/gemini-1.5-flash-latest\n",
            "models/gemini-1.5-pro-latest\n",
            "models/gemini-pro\n",
            "models/gemini-pro-vision\n"
          ]
        }
      ]
    },
    {
      "cell_type": "code",
      "source": [
        "model = genai.GenerativeModel('gemini-pro')\n",
        "chat = model.start_chat(history=[])\n",
        "\n",
        "query=\"Apply Fermat's Last Theorem. Show some solutions with a=3 and b=4 with n=2. Show me other solutions with n=2\"\n",
        "\n",
        "response = chat.send_message(query, stream=True)\n",
        "\n",
        "for chunk in response:\n",
        "  print(chunk.text)\n",
        "  print(\"_\"*80)\n",
        "\n"
      ],
      "metadata": {
        "colab": {
          "base_uri": "https://localhost:8080/",
          "height": 434
        },
        "id": "QSv69kRA5aSr",
        "outputId": "c7477328-3afa-4e10-c58d-46791af16f45"
      },
      "execution_count": 42,
      "outputs": [
        {
          "output_type": "stream",
          "name": "stdout",
          "text": [
            "**Solutions with a=3 and b=4 with n=2**\n",
            "\n",
            "\n",
            "________________________________________________________________________________\n",
            "According to Fermat's Last Theorem, there are no positive integer solutions to the equation a^n + b^n = c^n for any integer\n",
            "________________________________________________________________________________\n",
            " value of n > 2.\n",
            "\n",
            "Therefore, there are no solutions to the equation 3^2 + 4^2 = c^2 with n=2.\n",
            "\n",
            "**Other solutions with n=2**\n",
            "\n",
            "Fermat's Last Theorem does not apply to the case where n=2. In fact\n",
            "________________________________________________________________________________\n",
            ", there are infinitely many positive integer solutions to the equation a^2 + b^2 = c^2.\n",
            "\n",
            "Here are some examples:\n",
            "\n",
            "* a=3, b=4, c=5\n",
            "* a=5, b=12, c=13\n",
            "* a=8, b=15, c=17\n",
            "* a=9, b=40, c=41\n",
            "* a=11, b=60, c=61\n",
            "________________________________________________________________________________\n"
          ]
        }
      ]
    },
    {
      "cell_type": "code",
      "source": [
        "from IPython.display import Markdown\n",
        "import textwrap\n",
        "to_markdown(response.text)"
      ],
      "metadata": {
        "colab": {
          "base_uri": "https://localhost:8080/",
          "height": 289
        },
        "id": "6hwhHn7881En",
        "outputId": "ab48bb63-9536-4bfc-f720-04b586ed2b5a"
      },
      "execution_count": 43,
      "outputs": [
        {
          "output_type": "execute_result",
          "data": {
            "text/plain": [
              "<IPython.core.display.Markdown object>"
            ],
            "text/markdown": "> **Solutions with a=3 and b=4 with n=2**\n> \n> According to Fermat's Last Theorem, there are no positive integer solutions to the equation a^n + b^n = c^n for any integer value of n > 2.\n> \n> Therefore, there are no solutions to the equation 3^2 + 4^2 = c^2 with n=2.\n> \n> **Other solutions with n=2**\n> \n> Fermat's Last Theorem does not apply to the case where n=2. In fact, there are infinitely many positive integer solutions to the equation a^2 + b^2 = c^2.\n> \n> Here are some examples:\n> \n> * a=3, b=4, c=5\n> * a=5, b=12, c=13\n> * a=8, b=15, c=17\n> * a=9, b=40, c=41\n> * a=11, b=60, c=61"
          },
          "metadata": {},
          "execution_count": 43
        }
      ]
    }
  ]
}