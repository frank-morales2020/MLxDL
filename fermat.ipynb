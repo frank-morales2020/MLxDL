{
  "nbformat": 4,
  "nbformat_minor": 0,
  "metadata": {
    "colab": {
      "provenance": [],
      "authorship_tag": "ABX9TyNEfNSsMUQPfsaGX7c5jtaE",
      "include_colab_link": true
    },
    "kernelspec": {
      "name": "python3",
      "display_name": "Python 3"
    },
    "language_info": {
      "name": "python"
    }
  },
  "cells": [
    {
      "cell_type": "markdown",
      "metadata": {
        "id": "view-in-github",
        "colab_type": "text"
      },
      "source": [
        "<a href=\"https://colab.research.google.com/github/frank-morales2020/MLxDL/blob/main/fermat.ipynb\" target=\"_parent\"><img src=\"https://colab.research.google.com/assets/colab-badge.svg\" alt=\"Open In Colab\"/></a>"
      ]
    },
    {
      "cell_type": "markdown",
      "source": [
        "https://www.geeksforgeeks.org/fermats-last-theorem/"
      ],
      "metadata": {
        "id": "9P_ROnv2-eim"
      }
    },
    {
      "source": [
        "def check_fermat(a, b, c, n):\n",
        "    if n <= 5 and (a**n + b**n == c**n):\n",
        "        print(\"Fermat's Last Theorem for A=%s plus B=%s is worked. C=%s\"%(a**n,b**n,c**n))\n",
        "    else:\n",
        "        print(\"No, Fermat's Last Theorem for A=%s plus B=%s doesn’t work. C=%s\"%(a**n,b**n,c**n))\n",
        "\n",
        "# Test the function with some values\n",
        "\n",
        "print(\"Test Cases\")\n",
        "print('a^n + b^n = c^n')\n",
        "print()\n",
        "print(\"Test Case #1: 3^2 + 4^2 = 5^2\")\n",
        "check_fermat(3, 4, 5, 2)\n",
        "print()\n",
        "print(\"Test Case #2: 3^3 + 4^3 = 5^3\")\n",
        "check_fermat(3, 4, 5, 3)\n",
        "print()\n",
        "print(\"Test Case #3: 2^1 + 3^1 = 5^1\")\n",
        "check_fermat(2, 3, 5, 1)\n",
        "print()\n",
        "print(\"Test Case #4: 9^2 + 40^2 = 41^2\")\n",
        "check_fermat(9, 40, 41, 2)\n",
        "print()"
      ],
      "cell_type": "code",
      "metadata": {
        "colab": {
          "base_uri": "https://localhost:8080/"
        },
        "id": "sKpHF2_XBlVW",
        "outputId": "e521b4ae-222e-4da1-9099-70ae44219b55"
      },
      "execution_count": null,
      "outputs": [
        {
          "output_type": "stream",
          "name": "stdout",
          "text": [
            "Test Cases\n",
            "a^n + b^n = c^n\n",
            "\n",
            "Test Case #1: 3^2 + 4^2 = 5^2\n",
            "Fermat's Last Theorem for A=9 plus B=16 is worked. C=25\n",
            "\n",
            "Test Case #2: 3^3 + 4^3 = 5^3\n",
            "No, Fermat's Last Theorem for A=27 plus B=64 doesn’t work. C=125\n",
            "\n",
            "Test Case #3: 2^1 + 3^1 = 5^1\n",
            "Fermat's Last Theorem for A=2 plus B=3 is worked. C=5\n",
            "\n",
            "Test Case #4: 9^2 + 40^2 = 41^2\n",
            "Fermat's Last Theorem for A=81 plus B=1600 is worked. C=1681\n",
            "\n"
          ]
        }
      ]
    },
    {
      "cell_type": "code",
      "source": [
        "# Used to securely store your API key\n",
        "from google.colab import userdata\n",
        "import google.generativeai as genai"
      ],
      "metadata": {
        "id": "BDdVccyz4-sQ"
      },
      "execution_count": null,
      "outputs": []
    },
    {
      "cell_type": "code",
      "source": [
        "def to_markdown(text):\n",
        "  text = text.replace('•', '  *')\n",
        "  return Markdown(textwrap.indent(text, '> ', predicate=lambda _: True))"
      ],
      "metadata": {
        "id": "J6kOHMCF4_3h"
      },
      "execution_count": null,
      "outputs": []
    },
    {
      "cell_type": "code",
      "source": [
        "GOOGLE_API_KEY=userdata.get('GEMINI')\n",
        "genai.configure(api_key=GOOGLE_API_KEY)"
      ],
      "metadata": {
        "id": "q9UcArFk5F6e"
      },
      "execution_count": null,
      "outputs": []
    },
    {
      "cell_type": "code",
      "source": [
        "import google.generativeai as genai\n",
        "\n",
        "for m in genai.list_models():\n",
        "    if \"generateContent\" in m.supported_generation_methods:\n",
        "        print(m.name)"
      ],
      "metadata": {
        "colab": {
          "base_uri": "https://localhost:8080/",
          "height": 156
        },
        "id": "R3ZOVARS5SY7",
        "outputId": "5929ba99-d4e1-4c33-f391-830fbfdbc7a9"
      },
      "execution_count": null,
      "outputs": [
        {
          "output_type": "stream",
          "name": "stdout",
          "text": [
            "models/gemini-1.0-pro\n",
            "models/gemini-1.0-pro-001\n",
            "models/gemini-1.0-pro-latest\n",
            "models/gemini-1.0-pro-vision-latest\n",
            "models/gemini-1.5-flash-latest\n",
            "models/gemini-1.5-pro-latest\n",
            "models/gemini-pro\n",
            "models/gemini-pro-vision\n"
          ]
        }
      ]
    },
    {
      "cell_type": "code",
      "source": [
        "model = genai.GenerativeModel('gemini-1.5-pro-latest')\n",
        "chat = model.start_chat(history=[])\n",
        "\n",
        "query=\"Apply Fermat's Last Theorem. Show me examples of solutions with n>2 using Andrew Wiles's solution.\"\n",
        "\n",
        "response = chat.send_message(query, stream=True)\n",
        "\n",
        "\n",
        "for chunk in response:\n",
        "  print(chunk.text)\n",
        "  print(\"_\"*80)\n"
      ],
      "metadata": {
        "id": "QSv69kRA5aSr"
      },
      "execution_count": null,
      "outputs": []
    },
    {
      "cell_type": "code",
      "source": [
        "from IPython.display import Markdown\n",
        "import textwrap\n",
        "to_markdown(response.text)"
      ],
      "metadata": {
        "colab": {
          "base_uri": "https://localhost:8080/",
          "height": 202
        },
        "id": "6hwhHn7881En",
        "outputId": "3d76281d-2c6d-4ed6-f931-1c8123ef7b28"
      },
      "execution_count": 55,
      "outputs": [
        {
          "output_type": "execute_result",
          "data": {
            "text/plain": [
              "<IPython.core.display.Markdown object>"
            ],
            "text/markdown": "> You're asking for something that doesn't exist. Here's why:\n> \n> * **Fermat's Last Theorem states:** It's impossible to find three positive integers a, b, and c that satisfy the equation a^n + b^n = c^n for any integer value of n greater than 2.\n> * **Andrew Wiles' proof:** Wiles's work proved Fermat's Last Theorem to be true.  His proof demonstrated that there are *no* solutions to the equation a^n + b^n = c^n when n is greater than 2.\n> \n> **In essence, asking for examples of solutions with n>2 using Wiles' proof is like asking for examples of squares that are also circles – it's a contradiction.**  Wiles' proof definitively shows there are *no such solutions*. \n> \n> Let me know if you'd like me to elaborate on any aspect of Fermat's Last Theorem or Wiles' proof. \n"
          },
          "metadata": {},
          "execution_count": 55
        }
      ]
    },
    {
      "cell_type": "code",
      "source": [
        "query=\"Elaborate on any aspect of Wiles's proof.\"\n",
        "response = chat.send_message(query, stream=True)\n",
        "\n",
        "\n",
        "for chunk in response:\n",
        "  print(chunk.text)\n",
        "  print(\"_\"*80)"
      ],
      "metadata": {
        "id": "yxg7JCLELTT2"
      },
      "execution_count": null,
      "outputs": []
    },
    {
      "cell_type": "code",
      "source": [
        "from IPython.display import Markdown\n",
        "import textwrap\n",
        "to_markdown(response.text)"
      ],
      "metadata": {
        "colab": {
          "base_uri": "https://localhost:8080/",
          "height": 632
        },
        "id": "QcLi1mEdLsic",
        "outputId": "4c169d48-790e-430a-9587-d781485a9d94"
      },
      "execution_count": 59,
      "outputs": [
        {
          "output_type": "execute_result",
          "data": {
            "text/plain": [
              "<IPython.core.display.Markdown object>"
            ],
            "text/markdown": "> Let's delve a bit deeper into the heart of Wiles's proof: **the connection between elliptic curves and modular forms**.  \n> \n> **1. Elliptic Curves:**  \n> \n> * They are defined by equations of the form y² = x³ + ax + b, where a and b are constants.\n> * They are not ellipses! The name is a historical artifact from their connection to calculating the arc length of ellipses.\n> * They have fascinating geometric and algebraic properties, making them central to number theory.\n> \n> **2. Modular Forms:** \n> \n> * They are functions defined on the complex upper half-plane, exhibiting incredible symmetry under certain transformations.\n> * They arise in complex analysis, but their properties have deep connections to number theory.\n> \n> **3. The Bridge: The Taniyama-Shimura-Weil Conjecture** \n> \n> * This conjecture proposed that *every* elliptic curve is associated with a modular form.\n> * This means that the seemingly geometric nature of elliptic curves is deeply intertwined with the analytic and symmetric properties of modular forms.\n> \n> **Wiles's Approach:**\n> \n> Wiles focused on a specific type of elliptic curve called **semistable elliptic curves**. He aimed to prove that every semistable elliptic curve was modular. To do this, he used:\n> \n> * **Galois representations:** These are mathematical objects that capture the symmetries of equations. Both elliptic curves and modular forms have associated Galois representations.\n> * **Deformation theory:** This technique allows mathematicians to study how mathematical objects change under small modifications. Wiles used it to analyze how Galois representations of elliptic curves could be deformed.\n> \n> Wiles meticulously demonstrated that the deformed Galois representations of semistable elliptic curves could always be matched to the Galois representations of modular forms.  \n> \n> **Why This Matters for Fermat:**\n> \n> Remember the hypothetical \"Fermat curve\" we discussed earlier? It would have been a very special type of semistable elliptic curve. If Wiles's work showed that *all* semistable elliptic curves are modular, then the \"Fermat curve\" would also have to be modular. However, its properties would make it impossible to be modular! This contradiction meant the \"Fermat curve\" couldn't exist, thus validating Fermat's Last Theorem.\n> \n> **In Summary:**  Wiles's genius lay in:\n> \n> * Recognizing the connection between elliptic curves and modular forms.\n> * Focusing on a specific class of elliptic curves relevant to Fermat's Last Theorem.\n> * Using sophisticated mathematical tools to prove their modularity, indirectly disproving Fermat's equation's solvability for n>2. \n"
          },
          "metadata": {},
          "execution_count": 59
        }
      ]
    }
  ]
}