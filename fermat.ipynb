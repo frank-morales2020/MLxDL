{
  "nbformat": 4,
  "nbformat_minor": 0,
  "metadata": {
    "colab": {
      "provenance": [],
      "authorship_tag": "ABX9TyMZ5fM3Gowc9gHH5GP5zkXG",
      "include_colab_link": true
    },
    "kernelspec": {
      "name": "python3",
      "display_name": "Python 3"
    },
    "language_info": {
      "name": "python"
    }
  },
  "cells": [
    {
      "cell_type": "markdown",
      "metadata": {
        "id": "view-in-github",
        "colab_type": "text"
      },
      "source": [
        "<a href=\"https://colab.research.google.com/github/frank-morales2020/MLxDL/blob/main/fermat.ipynb\" target=\"_parent\"><img src=\"https://colab.research.google.com/assets/colab-badge.svg\" alt=\"Open In Colab\"/></a>"
      ]
    },
    {
      "cell_type": "markdown",
      "source": [
        "https://www.geeksforgeeks.org/fermats-last-theorem/"
      ],
      "metadata": {
        "id": "9P_ROnv2-eim"
      }
    },
    {
      "cell_type": "code",
      "source": [
        "def check_fermat(a, b, c, n):\n",
        "    \"\"\"Checks if Fermat's Last Theorem holds for given values.\"\"\"\n",
        "\n",
        "    if n <= 2:\n",
        "        print(\"n must be greater than 2 to test Fermat's Last Theorem.\")\n",
        "    elif a**n + b**n == c**n:\n",
        "        print(\"Holy smokes, Fermat was wrong!\")\n",
        "    else:\n",
        "        print(\"No, that doesn't work.\")\n",
        "\n",
        "# Get user input\n",
        "a = int(input(\"Enter value for a: \"))\n",
        "b = int(input(\"Enter value for b: \"))\n",
        "c = int(input(\"Enter value for c: \"))\n",
        "n = int(input(\"Enter value for n (greater than 2): \"))\n",
        "\n",
        "# Check Fermat's Theorem\n",
        "check_fermat(a, b, c, n)\n"
      ],
      "metadata": {
        "colab": {
          "base_uri": "https://localhost:8080/"
        },
        "id": "C00JyRTP2Dn7",
        "outputId": "afa637f2-0763-4651-947f-07aeff64d41c"
      },
      "execution_count": 1,
      "outputs": [
        {
          "output_type": "stream",
          "name": "stdout",
          "text": [
            "Enter value for a: 3\n",
            "Enter value for b: 4\n",
            "Enter value for c: 5\n",
            "Enter value for n (greater than 2): 3\n",
            "No, that doesn't work.\n"
          ]
        }
      ]
    },
    {
      "source": [
        "def check_fermat(a, b, c, n):\n",
        "    if n <= 5 and (a**n + b**n == c**n):\n",
        "        print(\"Fermat's Last Theorem for A=%s plus B=%s is worked. C=%s\"%(a**n,b**n,c**n))\n",
        "    else:\n",
        "        print(\"No, Fermat's Last Theorem for A=%s plus B=%s doesn’t work. C=%s\"%(a**n,b**n,c**n))\n",
        "\n",
        "# Test the function with some values\n",
        "\n",
        "print(\"Test Cases\")\n",
        "print('a^n + b^n = c^n')\n",
        "print()\n",
        "print(\"Test Case #1: 3^2 + 4^2 = 5^2\")\n",
        "check_fermat(3, 4, 5, 2)\n",
        "print()\n",
        "print(\"Test Case #2: 3^3 + 4^3 = 5^3\")\n",
        "check_fermat(3, 4, 5, 3)\n",
        "print()\n",
        "print(\"Test Case #3: 2^1 + 3^1 = 5^1\")\n",
        "check_fermat(2, 3, 5, 1)\n",
        "print()\n",
        "print(\"Test Case #4: 9^2 + 40^2 = 41^2\")\n",
        "check_fermat(9, 40, 41, 2)\n",
        "print()"
      ],
      "cell_type": "code",
      "metadata": {
        "colab": {
          "base_uri": "https://localhost:8080/"
        },
        "id": "sKpHF2_XBlVW",
        "outputId": "87dec216-740b-42cf-b483-858313a9bfc4"
      },
      "execution_count": null,
      "outputs": [
        {
          "output_type": "stream",
          "name": "stdout",
          "text": [
            "Test Cases\n",
            "a^n + b^n = c^n\n",
            "\n",
            "Test Case #1: 3^2 + 4^2 = 5^2\n",
            "Fermat's Last Theorem for A=9 plus B=16 is worked. C=25\n",
            "\n",
            "Test Case #2: 3^3 + 4^3 = 5^3\n",
            "No, Fermat's Last Theorem for A=27 plus B=64 doesn’t work. C=125\n",
            "\n",
            "Test Case #3: 2^1 + 3^1 = 5^1\n",
            "Fermat's Last Theorem for A=2 plus B=3 is worked. C=5\n",
            "\n",
            "Test Case #4: 9^2 + 40^2 = 41^2\n",
            "Fermat's Last Theorem for A=81 plus B=1600 is worked. C=1681\n",
            "\n"
          ]
        }
      ]
    },
    {
      "cell_type": "code",
      "source": [
        "# Used to securely store your API key\n",
        "from google.colab import userdata\n",
        "import google.generativeai as genai"
      ],
      "metadata": {
        "id": "BDdVccyz4-sQ"
      },
      "execution_count": null,
      "outputs": []
    },
    {
      "cell_type": "code",
      "source": [
        "def to_markdown(text):\n",
        "  text = text.replace('•', '  *')\n",
        "  return Markdown(textwrap.indent(text, '> ', predicate=lambda _: True))"
      ],
      "metadata": {
        "id": "J6kOHMCF4_3h"
      },
      "execution_count": null,
      "outputs": []
    },
    {
      "cell_type": "code",
      "source": [
        "GOOGLE_API_KEY=userdata.get('GEMINI')\n",
        "genai.configure(api_key=GOOGLE_API_KEY)"
      ],
      "metadata": {
        "id": "q9UcArFk5F6e"
      },
      "execution_count": null,
      "outputs": []
    },
    {
      "cell_type": "code",
      "source": [
        "import google.generativeai as genai\n",
        "\n",
        "for m in genai.list_models():\n",
        "    if \"generateContent\" in m.supported_generation_methods:\n",
        "        print(m.name)"
      ],
      "metadata": {
        "colab": {
          "base_uri": "https://localhost:8080/",
          "height": 156
        },
        "id": "R3ZOVARS5SY7",
        "outputId": "5f90c61c-1feb-4328-968a-11d5b6653587"
      },
      "execution_count": null,
      "outputs": [
        {
          "output_type": "stream",
          "name": "stdout",
          "text": [
            "models/gemini-1.0-pro\n",
            "models/gemini-1.0-pro-001\n",
            "models/gemini-1.0-pro-latest\n",
            "models/gemini-1.0-pro-vision-latest\n",
            "models/gemini-1.5-flash-latest\n",
            "models/gemini-1.5-pro-latest\n",
            "models/gemini-pro\n",
            "models/gemini-pro-vision\n"
          ]
        }
      ]
    },
    {
      "cell_type": "code",
      "source": [
        "model = genai.GenerativeModel('gemini-1.5-pro-latest')\n",
        "chat = model.start_chat(history=[])\n",
        "\n",
        "query=\"Apply Fermat's Last Theorem. Show me examples of solutions with n=2\"\n",
        "\n",
        "response = chat.send_message(query, stream=True)\n",
        "\n",
        "for chunk in response:\n",
        "  print(chunk.text)\n",
        "  print(\"_\"*80)\n",
        "\n"
      ],
      "metadata": {
        "colab": {
          "base_uri": "https://localhost:8080/",
          "height": 729
        },
        "id": "QSv69kRA5aSr",
        "outputId": "49a5fd85-05ff-44c3-c61d-8dfe883b77c4"
      },
      "execution_count": null,
      "outputs": [
        {
          "output_type": "stream",
          "name": "stdout",
          "text": [
            "You\n",
            "________________________________________________________________________________\n",
            " are misunderstanding Fermat's Last Theorem. Let's clarify:\n",
            "\n",
            "\n",
            "________________________________________________________________________________\n",
            "**Fermat's Last Theorem states:**\n",
            "\n",
            "It is impossible to find three\n",
            "________________________________________________________________________________\n",
            " positive integers a, b, and c that satisfy the equation a<sup>n</sup> + b<sup>n</sup> = c<sup>n</sup> for any integer value of n\n",
            "________________________________________________________________________________\n",
            " greater than 2.\n",
            "\n",
            "**Key Point:** The theorem states there are *no* solutions for n > 2. \n",
            "\n",
            "**The case of n\n",
            "________________________________________________________________________________\n",
            " = 2 is the Pythagorean Theorem:**\n",
            "\n",
            "  a<sup>2</sup> + b<sup>2</sup> = c<sup>2</sup> \n",
            "\n",
            "This equation has infinitely many solutions, and these solutions are called Pythagorean triples.\n",
            "\n",
            "**Examples of Pythagorean Triples\n",
            "________________________________________________________________________________\n",
            " (n=2):**\n",
            "\n",
            "* (3, 4, 5): 3<sup>2</sup> + 4<sup>2</sup> = 5<sup>2</sup> (9 + 16 = 25)\n",
            "* (\n",
            "________________________________________________________________________________\n",
            "5, 12, 13): 5<sup>2</sup> + 12<sup>2</sup> = 13<sup>2</sup> (25 + 144 = 169)\n",
            "* (8, 15, 17): 8<sup>2</sup> + 1\n",
            "________________________________________________________________________________\n",
            "5<sup>2</sup> = 17<sup>2</sup> (64 + 225 = 289)\n",
            "\n",
            "**Fermat's Last Theorem is about the non-existence of solutions for n > 2.** It doesn't provide solutions for n = 2; instead,  n =\n",
            "________________________________________________________________________________\n",
            " 2 represents the well-known Pythagorean theorem with many solutions. \n",
            "\n",
            "________________________________________________________________________________\n"
          ]
        }
      ]
    },
    {
      "cell_type": "code",
      "source": [
        "from IPython.display import Markdown\n",
        "import textwrap\n",
        "to_markdown(response.text)"
      ],
      "metadata": {
        "colab": {
          "base_uri": "https://localhost:8080/",
          "height": 337
        },
        "id": "6hwhHn7881En",
        "outputId": "fc385351-d909-4d26-a411-a6092a49a64c"
      },
      "execution_count": null,
      "outputs": [
        {
          "output_type": "execute_result",
          "data": {
            "text/plain": [
              "<IPython.core.display.Markdown object>"
            ],
            "text/markdown": "> You are misunderstanding Fermat's Last Theorem. Let's clarify:\n> \n> **Fermat's Last Theorem states:**\n> \n> It is impossible to find three positive integers a, b, and c that satisfy the equation a<sup>n</sup> + b<sup>n</sup> = c<sup>n</sup> for any integer value of n greater than 2.\n> \n> **Key Point:** The theorem states there are *no* solutions for n > 2. \n> \n> **The case of n = 2 is the Pythagorean Theorem:**\n> \n>   a<sup>2</sup> + b<sup>2</sup> = c<sup>2</sup> \n> \n> This equation has infinitely many solutions, and these solutions are called Pythagorean triples.\n> \n> **Examples of Pythagorean Triples (n=2):**\n> \n> * (3, 4, 5): 3<sup>2</sup> + 4<sup>2</sup> = 5<sup>2</sup> (9 + 16 = 25)\n> * (5, 12, 13): 5<sup>2</sup> + 12<sup>2</sup> = 13<sup>2</sup> (25 + 144 = 169)\n> * (8, 15, 17): 8<sup>2</sup> + 15<sup>2</sup> = 17<sup>2</sup> (64 + 225 = 289)\n> \n> **Fermat's Last Theorem is about the non-existence of solutions for n > 2.** It doesn't provide solutions for n = 2; instead,  n = 2 represents the well-known Pythagorean theorem with many solutions. \n"
          },
          "metadata": {},
          "execution_count": 51
        }
      ]
    }
  ]
}