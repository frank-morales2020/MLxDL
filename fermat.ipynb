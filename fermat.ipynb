{
  "nbformat": 4,
  "nbformat_minor": 0,
  "metadata": {
    "colab": {
      "provenance": [],
      "authorship_tag": "ABX9TyMad3+I6wFnepryyO5go54k",
      "include_colab_link": true
    },
    "kernelspec": {
      "name": "python3",
      "display_name": "Python 3"
    },
    "language_info": {
      "name": "python"
    }
  },
  "cells": [
    {
      "cell_type": "markdown",
      "metadata": {
        "id": "view-in-github",
        "colab_type": "text"
      },
      "source": [
        "<a href=\"https://colab.research.google.com/github/frank-morales2020/MLxDL/blob/main/fermat.ipynb\" target=\"_parent\"><img src=\"https://colab.research.google.com/assets/colab-badge.svg\" alt=\"Open In Colab\"/></a>"
      ]
    },
    {
      "cell_type": "markdown",
      "source": [
        "https://www.geeksforgeeks.org/fermats-last-theorem/"
      ],
      "metadata": {
        "id": "9P_ROnv2-eim"
      }
    },
    {
      "source": [
        "def check_fermat(a, b, c, n):\n",
        "    if n <= 5 and (a**n + b**n == c**n):\n",
        "        print(\"Fermat's Last Theorem for A=%s plus B=%s is worked. C=%s\"%(a**n,b**n,c**n))\n",
        "    else:\n",
        "        print(\"No, Fermat's Last Theorem for A=%s plus B=%s doesn’t work. C=%s\"%(a**n,b**n,c**n))\n",
        "\n",
        "# Test the function with some values\n",
        "\n",
        "print(\"Test Cases\")\n",
        "print('a^n + b^n = c^n')\n",
        "print()\n",
        "print(\"Test Case #1: 3^2 + 4^2 = 5^2\")\n",
        "check_fermat(3, 4, 5, 2)\n",
        "print()\n",
        "print(\"Test Case #2: 3^3 + 4^3 = 5^3\")\n",
        "check_fermat(3, 4, 5, 3)\n",
        "print()\n",
        "print(\"Test Case #3: 2^1 + 3^1 = 5^1\")\n",
        "check_fermat(2, 3, 5, 1)\n",
        "print()\n",
        "print(\"Test Case #4: 9^2 + 40^2 = 41^2\")\n",
        "check_fermat(9, 40, 41, 2)\n",
        "print()"
      ],
      "cell_type": "code",
      "metadata": {
        "colab": {
          "base_uri": "https://localhost:8080/"
        },
        "id": "sKpHF2_XBlVW",
        "outputId": "87dec216-740b-42cf-b483-858313a9bfc4"
      },
      "execution_count": 6,
      "outputs": [
        {
          "output_type": "stream",
          "name": "stdout",
          "text": [
            "Test Cases\n",
            "a^n + b^n = c^n\n",
            "\n",
            "Test Case #1: 3^2 + 4^2 = 5^2\n",
            "Fermat's Last Theorem for A=9 plus B=16 is worked. C=25\n",
            "\n",
            "Test Case #2: 3^3 + 4^3 = 5^3\n",
            "No, Fermat's Last Theorem for A=27 plus B=64 doesn’t work. C=125\n",
            "\n",
            "Test Case #3: 2^1 + 3^1 = 5^1\n",
            "Fermat's Last Theorem for A=2 plus B=3 is worked. C=5\n",
            "\n",
            "Test Case #4: 9^2 + 40^2 = 41^2\n",
            "Fermat's Last Theorem for A=81 plus B=1600 is worked. C=1681\n",
            "\n"
          ]
        }
      ]
    },
    {
      "cell_type": "code",
      "source": [
        "# Used to securely store your API key\n",
        "from google.colab import userdata\n",
        "import google.generativeai as genai"
      ],
      "metadata": {
        "id": "BDdVccyz4-sQ"
      },
      "execution_count": 10,
      "outputs": []
    },
    {
      "cell_type": "code",
      "source": [
        "def to_markdown(text):\n",
        "  text = text.replace('•', '  *')\n",
        "  return Markdown(textwrap.indent(text, '> ', predicate=lambda _: True))"
      ],
      "metadata": {
        "id": "J6kOHMCF4_3h"
      },
      "execution_count": 8,
      "outputs": []
    },
    {
      "cell_type": "code",
      "source": [
        "GOOGLE_API_KEY=userdata.get('GEMINI')\n",
        "genai.configure(api_key=GOOGLE_API_KEY)"
      ],
      "metadata": {
        "id": "q9UcArFk5F6e"
      },
      "execution_count": 11,
      "outputs": []
    },
    {
      "cell_type": "code",
      "source": [
        "import google.generativeai as genai\n",
        "\n",
        "for m in genai.list_models():\n",
        "    if \"generateContent\" in m.supported_generation_methods:\n",
        "        print(m.name)"
      ],
      "metadata": {
        "colab": {
          "base_uri": "https://localhost:8080/",
          "height": 156
        },
        "id": "R3ZOVARS5SY7",
        "outputId": "5f90c61c-1feb-4328-968a-11d5b6653587"
      },
      "execution_count": 12,
      "outputs": [
        {
          "output_type": "stream",
          "name": "stdout",
          "text": [
            "models/gemini-1.0-pro\n",
            "models/gemini-1.0-pro-001\n",
            "models/gemini-1.0-pro-latest\n",
            "models/gemini-1.0-pro-vision-latest\n",
            "models/gemini-1.5-flash-latest\n",
            "models/gemini-1.5-pro-latest\n",
            "models/gemini-pro\n",
            "models/gemini-pro-vision\n"
          ]
        }
      ]
    },
    {
      "cell_type": "code",
      "source": [
        "model = genai.GenerativeModel('gemini-pro')\n",
        "chat = model.start_chat(history=[])\n",
        "chat\n",
        "\n",
        "response = chat.send_message(\"Apply Fermat's Last Theorem. show some solutions with a=3 and b=4 with n=2\", stream=True)\n",
        "\n",
        "for chunk in response:\n",
        "  print(chunk.text)\n",
        "  print(\"_\"*80)"
      ],
      "metadata": {
        "colab": {
          "base_uri": "https://localhost:8080/",
          "height": 434
        },
        "id": "QSv69kRA5aSr",
        "outputId": "b60e4210-5033-40bb-b2f8-7a315bd78d17"
      },
      "execution_count": 19,
      "outputs": [
        {
          "output_type": "stream",
          "name": "stdout",
          "text": [
            "Fermat's Last Theorem states that there are no positive integers a, b\n",
            "________________________________________________________________________________\n",
            ", c, and n such that:\n",
            "\n",
            "a^n + b^n = c^n\n",
            "\n",
            "for any integer value of n greater than 2.\n",
            "________________________________________________________________________________\n",
            "\n",
            "\n",
            "If we substitute a = 3, b = 4, and n = 2 into this equation, we get:\n",
            "\n",
            "3^2 + 4^2 = 5^2\n",
            "\n",
            "This equation is true, so it does not contradict Fermat's Last Theorem. However, it is important to\n",
            "________________________________________________________________________________\n",
            " note that this equation only holds for n = 2. For any other value of n greater than 2, this equation will not hold.\n",
            "\n",
            "For example, if we substitute n = 3 into the equation, we get:\n",
            "\n",
            "3^3 + 4^3 = 5^3\n",
            "\n",
            "This equation is not true, which is consistent with Fermat's Last Theorem.\n",
            "________________________________________________________________________________\n"
          ]
        }
      ]
    }
  ]
}