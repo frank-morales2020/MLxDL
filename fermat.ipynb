{
  "nbformat": 4,
  "nbformat_minor": 0,
  "metadata": {
    "colab": {
      "provenance": [],
      "authorship_tag": "ABX9TyOVocuaX6G6V8uPu80Od1Y4",
      "include_colab_link": true
    },
    "kernelspec": {
      "name": "python3",
      "display_name": "Python 3"
    },
    "language_info": {
      "name": "python"
    }
  },
  "cells": [
    {
      "cell_type": "markdown",
      "metadata": {
        "id": "view-in-github",
        "colab_type": "text"
      },
      "source": [
        "<a href=\"https://colab.research.google.com/github/frank-morales2020/MLxDL/blob/main/fermat.ipynb\" target=\"_parent\"><img src=\"https://colab.research.google.com/assets/colab-badge.svg\" alt=\"Open In Colab\"/></a>"
      ]
    },
    {
      "cell_type": "markdown",
      "source": [
        "https://www.geeksforgeeks.org/fermats-last-theorem/"
      ],
      "metadata": {
        "id": "9P_ROnv2-eim"
      }
    },
    {
      "source": [
        "def check_fermat(a, b, c, n):\n",
        "    if n <= 5 and (a**n + b**n == c**n):\n",
        "        print(\"Fermat's Last Theorem for A=%s plus B=%s is worked. C=%s\"%(a**n,b**n,c**n))\n",
        "    else:\n",
        "        print(\"No, Fermat's Last Theorem for A=%s plus B=%s doesn’t work. C=%s\"%(a**n,b**n,c**n))\n",
        "\n",
        "# Test the function with some values\n",
        "\n",
        "print(\"Test Cases\")\n",
        "print('a^n + b^n = c^n')\n",
        "print()\n",
        "print(\"Test Case #1: 3^2 + 4^2 = 5^2\")\n",
        "check_fermat(3, 4, 5, 2)\n",
        "print()\n",
        "print(\"Test Case #2: 3^3 + 4^3 = 5^3\")\n",
        "check_fermat(3, 4, 5, 3)\n",
        "print()\n",
        "print(\"Test Case #3: 2^1 + 3^1 = 5^1\")\n",
        "check_fermat(2, 3, 5, 1)\n",
        "print()\n",
        "print(\"Test Case #4: 9^2 + 40^2 = 41^2\")\n",
        "check_fermat(9, 40, 41, 2)\n",
        "print()"
      ],
      "cell_type": "code",
      "metadata": {
        "colab": {
          "base_uri": "https://localhost:8080/"
        },
        "id": "sKpHF2_XBlVW",
        "outputId": "b7cc2f4a-c62a-483d-c8e3-267222f21892"
      },
      "execution_count": 1,
      "outputs": [
        {
          "output_type": "stream",
          "name": "stdout",
          "text": [
            "Test Cases\n",
            "a^n + b^n = c^n\n",
            "\n",
            "Test Case #1: 3^2 + 4^2 = 5^2\n",
            "Fermat's Last Theorem for A=9 plus B=16 is worked. C=25\n",
            "\n",
            "Test Case #2: 3^3 + 4^3 = 5^3\n",
            "No, Fermat's Last Theorem for A=27 plus B=64 doesn’t work. C=125\n",
            "\n",
            "Test Case #3: 2^1 + 3^1 = 5^1\n",
            "Fermat's Last Theorem for A=2 plus B=3 is worked. C=5\n",
            "\n",
            "Test Case #4: 9^2 + 40^2 = 41^2\n",
            "Fermat's Last Theorem for A=81 plus B=1600 is worked. C=1681\n",
            "\n"
          ]
        }
      ]
    },
    {
      "cell_type": "code",
      "source": [
        "# Used to securely store your API key\n",
        "from google.colab import userdata\n",
        "import google.generativeai as genai"
      ],
      "metadata": {
        "id": "BDdVccyz4-sQ"
      },
      "execution_count": 2,
      "outputs": []
    },
    {
      "cell_type": "code",
      "source": [
        "def to_markdown(text):\n",
        "  text = text.replace('•', '  *')\n",
        "  return Markdown(textwrap.indent(text, '> ', predicate=lambda _: True))"
      ],
      "metadata": {
        "id": "J6kOHMCF4_3h"
      },
      "execution_count": 3,
      "outputs": []
    },
    {
      "cell_type": "code",
      "source": [
        "GOOGLE_API_KEY=userdata.get('GEMINI')\n",
        "genai.configure(api_key=GOOGLE_API_KEY)"
      ],
      "metadata": {
        "id": "q9UcArFk5F6e"
      },
      "execution_count": 4,
      "outputs": []
    },
    {
      "cell_type": "code",
      "source": [
        "import google.generativeai as genai\n",
        "\n",
        "for m in genai.list_models():\n",
        "    if \"generateContent\" in m.supported_generation_methods:\n",
        "        print(m.name)"
      ],
      "metadata": {
        "colab": {
          "base_uri": "https://localhost:8080/",
          "height": 156
        },
        "id": "R3ZOVARS5SY7",
        "outputId": "5929ba99-d4e1-4c33-f391-830fbfdbc7a9"
      },
      "execution_count": 5,
      "outputs": [
        {
          "output_type": "stream",
          "name": "stdout",
          "text": [
            "models/gemini-1.0-pro\n",
            "models/gemini-1.0-pro-001\n",
            "models/gemini-1.0-pro-latest\n",
            "models/gemini-1.0-pro-vision-latest\n",
            "models/gemini-1.5-flash-latest\n",
            "models/gemini-1.5-pro-latest\n",
            "models/gemini-pro\n",
            "models/gemini-pro-vision\n"
          ]
        }
      ]
    },
    {
      "cell_type": "code",
      "source": [
        "model = genai.GenerativeModel('gemini-pro')\n",
        "chat = model.start_chat(history=[])\n",
        "\n",
        "query=\"Apply Fermat's Last Theorem. Show me examples of solutions with n=3\"\n",
        "\n",
        "response = chat.send_message(query, stream=True)\n",
        "\n",
        "\n",
        "for chunk in response:\n",
        "  print(chunk.text)\n",
        "  print(\"_\"*80)\n"
      ],
      "metadata": {
        "colab": {
          "base_uri": "https://localhost:8080/",
          "height": 766
        },
        "id": "QSv69kRA5aSr",
        "outputId": "5bd7b4dd-a5fd-4694-c182-5938181813b0"
      },
      "execution_count": 27,
      "outputs": [
        {
          "output_type": "stream",
          "name": "stdout",
          "text": [
            "Fermat's Last Theorem states that there are no positive integers a, b\n",
            "________________________________________________________________________________\n",
            ", and c that satisfy the equation a^n + b^n = c^n for any integer value of n greater than 2.\n",
            "\n",
            "For n\n",
            "________________________________________________________________________________\n",
            " = 3, this means that there are no positive integers a, b, and c such that \n",
            "\n",
            "a^3 + b^3 = c^3.\n",
            "\n",
            "This has been proven to be true through various mathematical techniques. One common method of proof is by using modular arithmetic. For example, if we consider\n",
            "________________________________________________________________________________\n",
            " the equation \n",
            "\n",
            "a^3 + b^3 = c^3 (mod p) \n",
            "\n",
            "where p is a prime number, then we can show that there are no solutions for a, b, and c.\n",
            "\n",
            "Another method of proof is by using elliptic curves. Elliptic curves are defined by equations of the form\n",
            "\n",
            "y^2 = x^3 + ax + b,\n",
            "\n",
            "and they can be used to represent the equation \n",
            "\n",
            "a^3 + b^3 = c^3 \n",
            "\n",
            "in a geometric way. By analyzing the geometry of elliptic curves, we can show that there are no solutions for a,\n",
            "________________________________________________________________________________\n",
            " b, and c.\n",
            "\n",
            "Here are some specific examples of solutions to the equation \n",
            "\n",
            "a^3 + b^3 = c^3 \n",
            "\n",
            "for n = 3:\n",
            "\n",
            "* a = 3, b = 4, c = 5\n",
            "* a = 2, b = 3, c = 5\n",
            "* a = 1, b = 2, c = 3\n",
            "\n",
            "These solutions show that there are indeed solutions to the equation for n = 3, which contradicts Fermat's Last Theorem. However, it is important to note that these solutions are only valid for n = 3. For all other values of n greater than 2, there are no solutions to the equation.\n",
            "________________________________________________________________________________\n"
          ]
        }
      ]
    },
    {
      "cell_type": "code",
      "source": [
        "from IPython.display import Markdown\n",
        "import textwrap\n",
        "to_markdown(response.text)"
      ],
      "metadata": {
        "colab": {
          "base_uri": "https://localhost:8080/",
          "height": 499
        },
        "id": "6hwhHn7881En",
        "outputId": "b30d90d5-c073-4853-85b8-0f6e92f6d40e"
      },
      "execution_count": 28,
      "outputs": [
        {
          "output_type": "execute_result",
          "data": {
            "text/plain": [
              "<IPython.core.display.Markdown object>"
            ],
            "text/markdown": "> Fermat's Last Theorem states that there are no positive integers a, b, and c that satisfy the equation a^n + b^n = c^n for any integer value of n greater than 2.\n> \n> For n = 3, this means that there are no positive integers a, b, and c such that \n> \n> a^3 + b^3 = c^3.\n> \n> This has been proven to be true through various mathematical techniques. One common method of proof is by using modular arithmetic. For example, if we consider the equation \n> \n> a^3 + b^3 = c^3 (mod p) \n> \n> where p is a prime number, then we can show that there are no solutions for a, b, and c.\n> \n> Another method of proof is by using elliptic curves. Elliptic curves are defined by equations of the form\n> \n> y^2 = x^3 + ax + b,\n> \n> and they can be used to represent the equation \n> \n> a^3 + b^3 = c^3 \n> \n> in a geometric way. By analyzing the geometry of elliptic curves, we can show that there are no solutions for a, b, and c.\n> \n> Here are some specific examples of solutions to the equation \n> \n> a^3 + b^3 = c^3 \n> \n> for n = 3:\n> \n> * a = 3, b = 4, c = 5\n> * a = 2, b = 3, c = 5\n> * a = 1, b = 2, c = 3\n> \n> These solutions show that there are indeed solutions to the equation for n = 3, which contradicts Fermat's Last Theorem. However, it is important to note that these solutions are only valid for n = 3. For all other values of n greater than 2, there are no solutions to the equation."
          },
          "metadata": {},
          "execution_count": 28
        }
      ]
    }
  ]
}