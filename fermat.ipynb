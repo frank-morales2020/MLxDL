{
  "nbformat": 4,
  "nbformat_minor": 0,
  "metadata": {
    "colab": {
      "provenance": [],
      "authorship_tag": "ABX9TyPrs0AXmvDm58+cJRgIAl6c",
      "include_colab_link": true
    },
    "kernelspec": {
      "name": "python3",
      "display_name": "Python 3"
    },
    "language_info": {
      "name": "python"
    }
  },
  "cells": [
    {
      "cell_type": "markdown",
      "metadata": {
        "id": "view-in-github",
        "colab_type": "text"
      },
      "source": [
        "<a href=\"https://colab.research.google.com/github/frank-morales2020/MLxDL/blob/main/fermat.ipynb\" target=\"_parent\"><img src=\"https://colab.research.google.com/assets/colab-badge.svg\" alt=\"Open In Colab\"/></a>"
      ]
    },
    {
      "cell_type": "markdown",
      "source": [
        "https://www.geeksforgeeks.org/fermats-last-theorem/"
      ],
      "metadata": {
        "id": "9P_ROnv2-eim"
      }
    },
    {
      "source": [
        "def check_fermat(a, b, c, n):\n",
        "    if n <= 5 and (a**n + b**n == c**n):\n",
        "        print(\"Fermat's Last Theorem for a=%s plus b=%s is Solved. %s\"%(a**n,b**n,c**n))\n",
        "    else:\n",
        "        print(\"No, Fermat's Last Theorem for a=%s plus b=%s doesn’t work. %s\"%(a**n,b**n,c**n))\n",
        "\n",
        "# Test the function with some values\n",
        "\n",
        "print(\"Test Cases\")\n",
        "print('a^n + b^n = c^n')\n",
        "print()\n",
        "check_fermat(3, 4, 5, 2)\n",
        "print()\n",
        "check_fermat(3, 4, 5, 3)\n",
        "print()\n",
        "check_fermat(2, 3, 5, 1)\n",
        "print()\n",
        "check_fermat(9, 40, 41, 2)"
      ],
      "cell_type": "code",
      "metadata": {
        "colab": {
          "base_uri": "https://localhost:8080/"
        },
        "id": "sKpHF2_XBlVW",
        "outputId": "937f9892-4755-4e14-be48-585da8530859"
      },
      "execution_count": 3,
      "outputs": [
        {
          "output_type": "stream",
          "name": "stdout",
          "text": [
            "Test Cases\n",
            "a^n + b^n = c^n\n",
            "\n",
            "Fermat's Last Theorem for a=9 plus b=16 is Solved. 25\n",
            "\n",
            "No, Fermat's Last Theorem for a=27 plus b=64 doesn’t work. 125\n",
            "\n",
            "Fermat's Last Theorem for a=2 plus b=3 is Solved. 5\n",
            "\n",
            "Fermat's Last Theorem for a=81 plus b=1600 is Solved. 1681\n"
          ]
        }
      ]
    }
  ]
}