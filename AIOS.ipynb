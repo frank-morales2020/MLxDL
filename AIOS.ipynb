{
  "cells": [
    {
      "cell_type": "markdown",
      "metadata": {
        "id": "view-in-github",
        "colab_type": "text"
      },
      "source": [
        "<a href=\"https://colab.research.google.com/github/frank-morales2020/MLxDL/blob/main/AIOS.ipynb\" target=\"_parent\"><img src=\"https://colab.research.google.com/assets/colab-badge.svg\" alt=\"Open In Colab\"/></a>"
      ]
    },
    {
      "cell_type": "markdown",
      "metadata": {
        "id": "npRXKKSFdepX"
      },
      "source": [
        "https://github.com/agiresearch/AIOS\n",
        "\n",
        "\n",
        "https://arxiv.org/abs//2403.16971\n",
        "\n",
        "https://www.youtube.com/watch?v=NnU9D7WxZos&ab_channel=ArxivPapers\n"
      ]
    },
    {
      "cell_type": "code",
      "execution_count": null,
      "metadata": {
        "id": "CEYiiNCfeXTa"
      },
      "outputs": [],
      "source": [
        "!pip install colab-env --upgrade\n",
        "!pip install openai\n",
        "!pip install tiktoken -q\n",
        "!pip install accelerate -q"
      ]
    },
    {
      "cell_type": "code",
      "execution_count": 4,
      "metadata": {
        "colab": {
          "base_uri": "https://localhost:8080/"
        },
        "id": "O4e2oO5RegnM",
        "outputId": "8a623481-7860-4d0b-cd33-099ca821058b"
      },
      "outputs": [
        {
          "output_type": "stream",
          "name": "stdout",
          "text": [
            "\n",
            "TEST - OPENAI - BY FRANK MORALES - 07/04/2024 23:04:43\n",
            "\n"
          ]
        }
      ],
      "source": [
        "import colab_env\n",
        "import os\n",
        "import openai\n",
        "import IPython\n",
        "import pytz\n",
        "from datetime import datetime\n",
        "import json\n",
        "from pathlib import Path\n",
        "\n",
        "#print()\n",
        "#print(colab_env.__version__)\n",
        "#print()\n",
        "\n",
        "# datetime object containing current date and time\n",
        "newYorkTz = pytz.timezone(\"America/New_York\")\n",
        "now = datetime.now(newYorkTz)\n",
        "#print(\"now =\", now)\n",
        "\n",
        "# dd/mm/YY H:M:S\n",
        "dt_string = now.strftime(\"%d/%m/%Y %H:%M:%S\")\n",
        "#print(\"date and time =\", dt_string)\n",
        "\n",
        "print()\n",
        "print('TEST - OPENAI - BY FRANK MORALES - %s'%dt_string)\n",
        "print()\n",
        "\n",
        "openai.api_key = os.getenv(\"OPENAI_API_KEY\")\n",
        "from openai import OpenAI"
      ]
    },
    {
      "cell_type": "code",
      "execution_count": 5,
      "metadata": {
        "colab": {
          "base_uri": "https://localhost:8080/"
        },
        "id": "xD7fmAjneznn",
        "outputId": "66b34f42-2db7-4a44-bf14-24bb539a96e2"
      },
      "outputs": [
        {
          "output_type": "stream",
          "name": "stdout",
          "text": [
            "Mon Apr  8 03:04:47 2024       \n",
            "+---------------------------------------------------------------------------------------+\n",
            "| NVIDIA-SMI 535.104.05             Driver Version: 535.104.05   CUDA Version: 12.2     |\n",
            "|-----------------------------------------+----------------------+----------------------+\n",
            "| GPU  Name                 Persistence-M | Bus-Id        Disp.A | Volatile Uncorr. ECC |\n",
            "| Fan  Temp   Perf          Pwr:Usage/Cap |         Memory-Usage | GPU-Util  Compute M. |\n",
            "|                                         |                      |               MIG M. |\n",
            "|=========================================+======================+======================|\n",
            "|   0  NVIDIA L4                      Off | 00000000:00:03.0 Off |                    0 |\n",
            "| N/A   35C    P8              16W /  72W |      1MiB / 23034MiB |      0%      Default |\n",
            "|                                         |                      |                  N/A |\n",
            "+-----------------------------------------+----------------------+----------------------+\n",
            "                                                                                         \n",
            "+---------------------------------------------------------------------------------------+\n",
            "| Processes:                                                                            |\n",
            "|  GPU   GI   CI        PID   Type   Process name                            GPU Memory |\n",
            "|        ID   ID                                                             Usage      |\n",
            "|=======================================================================================|\n",
            "|  No running processes found                                                           |\n",
            "+---------------------------------------------------------------------------------------+\n"
          ]
        }
      ],
      "source": [
        "!nvidia-smi"
      ]
    },
    {
      "cell_type": "code",
      "execution_count": 6,
      "metadata": {
        "colab": {
          "base_uri": "https://localhost:8080/"
        },
        "id": "28dNUrtce5Eq",
        "outputId": "b3b0d4cc-cf40-41ba-c6ab-b224358b139d"
      },
      "outputs": [
        {
          "output_type": "stream",
          "name": "stdout",
          "text": [
            "Token is valid (permission: write).\n",
            "Your token has been saved in your configured git credential helpers (store).\n",
            "Your token has been saved to /root/.cache/huggingface/token\n",
            "Login successful\n"
          ]
        }
      ],
      "source": [
        "import colab_env\n",
        "import os\n",
        "\n",
        "access_token_write = os.getenv(\"HUGGINGFACE_ACCESS_TOKEN_WRITE\")\n",
        "\n",
        "from huggingface_hub import login\n",
        "\n",
        "login(\n",
        "  token=access_token_write,\n",
        "  add_to_git_credential=True\n",
        ")"
      ]
    },
    {
      "cell_type": "markdown",
      "metadata": {
        "id": "WZibOkxMi2TO"
      },
      "source": [
        "https://huggingface.co/mistralai/Mixtral-8x7B-Instruct-v0.1/tree/main"
      ]
    },
    {
      "cell_type": "code",
      "execution_count": 7,
      "metadata": {
        "id": "56htKUqZfOY3",
        "colab": {
          "base_uri": "https://localhost:8080/",
          "height": 49,
          "referenced_widgets": [
            "b1dc313b9fda435ea317d0ba6758864b",
            "fe90feb97d7f42cf91de4773d53d0e73",
            "3fcadd9984b442f29bd0dc2e781ada36",
            "c8b3a0849014421095be2967ec5c1f22",
            "c43da64354ff42fe9b45639194976e03",
            "e0a18ab539cd486dbb8a1fe394d20d23",
            "27edf9ae2d404b6a99ee6b9a489bfcdd",
            "aafdb586462a46b2a6f49382c61ea8ef",
            "716786ceb0564c869c7edc71d741042d",
            "1d2a6927e4ec480395f8ef586871686a",
            "5a8eebb41f60498498a0c5bf3e8282e4"
          ]
        },
        "outputId": "e51e5c1e-2807-44f0-e85c-34c6d30a7f6f"
      },
      "outputs": [
        {
          "output_type": "display_data",
          "data": {
            "text/plain": [
              "Loading checkpoint shards:   0%|          | 0/3 [00:00<?, ?it/s]"
            ],
            "application/vnd.jupyter.widget-view+json": {
              "version_major": 2,
              "version_minor": 0,
              "model_id": "b1dc313b9fda435ea317d0ba6758864b"
            }
          },
          "metadata": {}
        }
      ],
      "source": [
        "from transformers import pipeline, AutoTokenizer, AutoModelForCausalLM\n",
        "import torch\n",
        "\n",
        "#model_id = \"davidkim205/Rhea-72b-v0.5\" # HF AVERAGE = 81.22 #1 APRIL 5TH, 2024\n",
        "\n",
        "model_id = \"mistralai/Mistral-7B-Instruct-v0.2\"\n",
        "\n",
        "#model_id = \"mistralai/Mixtral-8x7B-Instruct-v0.1\"\n",
        "\n",
        "tokenizer = AutoTokenizer.from_pretrained(model_id)\n",
        "model = AutoModelForCausalLM.from_pretrained(model_id, device_map=\"auto\", torch_dtype=torch.bfloat16, trust_remote_code=True, do_sample=True)\n",
        "\n",
        "# load into pipeline\n",
        "pipe = pipeline(\"text-generation\", model=model, tokenizer=tokenizer)"
      ]
    },
    {
      "cell_type": "code",
      "execution_count": null,
      "metadata": {
        "id": "MtflaZHliDtv"
      },
      "outputs": [],
      "source": [
        "#prompt=\"What was the first album Beyoncé released as a solo artist?\"\n",
        "prompt=\"What is the capital of canada?\"\n",
        "outputs = pipe(prompt, max_new_tokens=256, do_sample=True, temperature=0.9,top_k=50, eos_token_id=pipe.tokenizer.eos_token_id, pad_token_id=pipe.tokenizer.eos_token_id)"
      ]
    },
    {
      "cell_type": "code",
      "execution_count": null,
      "metadata": {
        "colab": {
          "base_uri": "https://localhost:8080/"
        },
        "id": "7jwiBh4niH2y",
        "outputId": "91bc11cd-1bf2-4b59-caf1-d39b39b72371"
      },
      "outputs": [
        {
          "name": "stdout",
          "output_type": "stream",
          "text": [
            "Question: What is the capital of canada?\n",
            "Generated Answer:\n",
            "Answer: Ottawa is the capital city of Canada. It is located along the Ottawa River in eastern Ontario. The city is rich in history and culture, and is home to numerous museums, art galleries, historic sites, and parks. Ottawa is also the political hub of Canada, as it is where the Canadian Parliament is located. If you have any more questions, feel free to ask!\n"
          ]
        }
      ],
      "source": [
        "print('Question: %s'%prompt)\n",
        "print(f\"Generated Answer:\\n{outputs[0]['generated_text'][len(prompt):].strip()}\")"
      ]
    },
    {
      "cell_type": "code",
      "source": [
        "prompt=\"Solve the problem that Albert is wondering how much pizza he can eat in one day. He buys 2 large pizzas and 2 small pizzas. A large pizza has 16 slices and a small pizza has 8 slices. If he eats it all, how many pieces does he eat that day?\"\n",
        "outputs = pipe(prompt, max_new_tokens=256, do_sample=True, temperature=0.9,top_k=50, eos_token_id=pipe.tokenizer.eos_token_id, pad_token_id=pipe.tokenizer.eos_token_id)\n"
      ],
      "metadata": {
        "id": "t-WzoYR0qVX9"
      },
      "execution_count": 9,
      "outputs": []
    },
    {
      "cell_type": "code",
      "source": [
        "print('Question: %s'%prompt)\n",
        "print(f\"Generated Answer:\\n{outputs[0]['generated_text'][len(prompt):].strip()}\")"
      ],
      "metadata": {
        "colab": {
          "base_uri": "https://localhost:8080/"
        },
        "id": "je_xxDzfsRbx",
        "outputId": "58397db6-e019-463a-ae9f-769b95c2fc3e"
      },
      "execution_count": 10,
      "outputs": [
        {
          "output_type": "stream",
          "name": "stdout",
          "text": [
            "Question: Solve the problem that Albert is wondering how much pizza he can eat in one day. He buys 2 large pizzas and 2 small pizzas. A large pizza has 16 slices and a small pizza has 8 slices. If he eats it all, how many pieces does he eat that day?\n",
            "Generated Answer:\n",
            "I'd be happy to help you with that calculation! Here's how you can figure it out:\n",
            "1. First, determine the total number of slices Albert has. He buys 2 large pizzas, so he has 2 * 16 = <<2*16=32>>32 slices. He also buys 2 small pizzas, so he has 2 * 8 = <<2*8=16>>16 slices.\n",
            "2. Add the number of slices from both types of pizzas to find the total number of slices Albert has: 32 slices (from the large pizzas) + 16 slices (from the small pizzas) = <<32+16=48>>48 slices.\n",
            "So, if Albert eats all of the pizza he has bought that day, he will have eaten 48 slices of pizza.\n"
          ]
        }
      ]
    },
    {
      "cell_type": "code",
      "execution_count": null,
      "metadata": {
        "id": "KhdxLiOMdWgA"
      },
      "outputs": [],
      "source": [
        "!git clone https://github.com/agiresearch/AIOS.git"
      ]
    },
    {
      "cell_type": "code",
      "execution_count": null,
      "metadata": {
        "id": "Onqq-G98fZ04"
      },
      "outputs": [],
      "source": [
        "!pip install -r /content/AIOS/requirements.txt"
      ]
    },
    {
      "cell_type": "code",
      "execution_count": null,
      "metadata": {
        "colab": {
          "background_save": true
        },
        "id": "G51O0yIjfdgU"
      },
      "outputs": [],
      "source": [
        "%cd /content/AIOS\n",
        "# Use Mixtral-8x7b-it, replace the max_gpu_memory and eval_device with your own and run\n",
        "!python /content/AIOS/main.py --llm_name mixtral-8x7b-it --max_gpu_memory '{\"0\": \"30GB\", \"1\": \"30GB\", \"2\": \"30GB\"}' --eval_device \"cuda:0\" --max_new_tokens 256\n"
      ]
    },
    {
      "cell_type": "code",
      "execution_count": 2,
      "metadata": {
        "id": "Di9GPe7ZajWF",
        "colab": {
          "base_uri": "https://localhost:8080/"
        },
        "outputId": "a9942c28-be25-4cc7-8977-31a494a315e0"
      },
      "outputs": [
        {
          "output_type": "stream",
          "name": "stdout",
          "text": [
            "/content/AIOS\n",
            "Drive already mounted at /content/gdrive; to attempt to forcibly remount, call drive.mount(\"/content/gdrive\", force_remount=True).\n",
            "Initialize AIOS powered by LLM: gpt-4\n",
            "AIOS LLM successfully loaded. \n",
            "[MathAgent] has been initialized.\n",
            "[NarrativeAgent] has been initialized.\n",
            "[RecAgent] has been initialized.\n",
            "[MathAgent] The task you need to solve is: Solve the problem that Albert is wondering how much pizza he can eat in one day. He buys 2 large pizzas and 2 small pizzas. A large pizza has 16 slices and a small pizza has 8 slices. If he eats it all, how many pieces does he eat that day?\n",
            "\n",
            "[MathAgent] Step 1: identify and outline the sub-problems that need to be solved as stepping stones toward the solution. \n",
            "\n",
            "[NarrativeAgent] The task you need to solve is: Craft a tale about a valiant warrior on a quest to uncover priceless treasures hidden within a mystical island.\n",
            "\n",
            "[MathAgent] is executing.\n",
            "[NarrativeAgent] Step 1: develop the story's setting and characters, establish a background and introduce the main characters.\n",
            "\n",
            "[RecAgent] The task you need to solve is: I want to take a tour to New York during the spring break, recommend some restaurants around for me.\n",
            "\n",
            "[RecAgent] Step 1: give a general recommendation direction for users.\n",
            "\n",
            "2024-04-08 03:00:15,081 - INFO - HTTP Request: POST https://api.openai.com/v1/chat/completions \"HTTP/1.1 200 OK\"\n",
            "[NarrativeAgent] is executing.\n",
            "[MathAgent] The solution to step 1: The two sub-problems that need to be addressed here are determining:1. How many slices of pizza are in 2 large pizzas.2. How many slices of pizza are in 2 small pizzas.\n",
            "\n",
            "[MathAgent] Step 2: apply mathematical theorems, formulas to solve each sub-problem. \n",
            "\n",
            "2024-04-08 03:00:26,350 - INFO - HTTP Request: POST https://api.openai.com/v1/chat/completions \"HTTP/1.1 200 OK\"\n",
            "[RecAgent] is executing.\n",
            "[NarrativeAgent] The solution to step 1: Title: The Lost Jewels of Mystis IsleThe setting of our tale is the medieval kingdom of Thregoria, steeped in lore and primordial grandeur. Thregoria's sea-bounded boundaries enclose dense forests, high mountains, undulating valleys, and sprawling meadows. Amidst this expansive kingdom lies Mystis Isle, a mystical island veiled in secrecy and filled with whispers of hidden treasures.In the bustling town of Brenningrad, at the heart of Thregoria, dwells our protagonist - a valiant and tenacious warrior named Thoren. Raised amidst the swords and shields, Thoren was a force of nature, well-known for his bravery, strategy, and strong moral compass.Our character Thoren wasn't just a remarkable warrior; he was also a treasure hunter, intrigued by mystic artifacts. From ancient ruins to forgot places, his quests had led him to the farthest corners of Thregoria, back to the mysterious kingdom his family called home. An unquenchable thirst for adventure burned within Thoren's heart, driving him to seek out the undiscovered. His latest fascination was the once-thriving civilization on Mystis Isle, known for its priceless treasures hidden somewhere within its untamed wilderness. With his sturdy physique, astute mind, and an old, cryptic map he'd recently acquired, Thoren determinedly set his sights towards the enigmatic Mystis Isle. And thus begins our tale of bravery and discovery.\n",
            "\n",
            "[NarrativeAgent] Step 2: given the background and characters, create situations that lead to the rising action, develop the climax with a significant turning point, and then move towards the resolution.\n",
            "\n",
            "2024-04-08 03:00:29,820 - INFO - HTTP Request: POST https://api.openai.com/v1/chat/completions \"HTTP/1.1 200 OK\"\n",
            "[MathAgent] is executing.\n",
            "[RecAgent] The solution to step 1: Based on your request, the recommendation direction will be on popular and highly rated restaurants in New York that offer a variety of cuisines and fit different budgets. We will also focus on locations convenient for tourists.\n",
            "\n",
            "[RecAgent] Step 2: based on the above recommendation direction, give a recommendation list.\n",
            "\n",
            "2024-04-08 03:00:35,182 - INFO - HTTP Request: POST https://api.openai.com/v1/chat/completions \"HTTP/1.1 200 OK\"\n",
            "[NarrativeAgent] is executing.\n",
            "[MathAgent] The solution to step 2: The solution to step 2 is: 1. For the large pizzas: Calculating the total number of slices in 2 large pizzas involves multiplication. Given that one large pizza has 16 slices, so the total number of slices in 2 large pizzas can be calculated by multiplying the number of pizzas by the number of slices per pizza. In this case, that's 2 * 16 = 32 slices.2. For the small pizzas: Similar to the method used for the large pizzas, the total number of slices in 2 small pizzas is calculated by multiplying the number of pizzas by the number of slices per pizza, in this case 2 * 8 = 16 slices.\n",
            "\n",
            "[MathAgent] Step 3: integrate the solutions to these sub-problems in the previous step to get the final solution. \n",
            "\n",
            "2024-04-08 03:00:51,310 - INFO - HTTP Request: POST https://api.openai.com/v1/chat/completions \"HTTP/1.1 200 OK\"\n",
            "[RecAgent] is executing.\n",
            "[NarrativeAgent] The solution to step 2: The solution to step 2 is:Beginning his journey from Brenningrad, Thoren braved treacherous seas, crossed craggy cliffs, and fought unwelcoming weather conditions. The old, cryptic map was a companion, guiding him through the perilous pathways towards Mystis Isle. The early parts of his voyage were slow and tiresome, testing his resolve. But, his indomitable spirit refused to yield, propelling him towards the promised adventure.Eventually, Thoren made landfall on Mystis Isle. Its virginal beauty was overwhelming. The island was dominated by dense, overgrown forests and interwoven by crystal clear streams. Intricate stone carvings, remnants of a forgotten civilization, peeked from beneath the wilderness. But his journey had just begun. For deep within the island's heart lay the enchanted cavern, home to the hidden treasures, or so the tales went.Relying on his honed survival skills and the map's cryptic instructions, Thoren navigated the sprawling forest. After several days of struggle and tenacity, he discovered the entrance of the mystical cavern overgrown with vines, hidden at the base of a towering waterfall.Thrilled with his discovery, Thoren proceeded into the cavern. The climax reached when, in the cavern’s echoing vastness, he stumbled upon a colossal stone dragon, an ancient guardian protecting the hidden treasures. To proceed, Thoren had to challenge the dragon in a battle. With unyielding bravery, Thoren stood his ground, his warrior instincts awakening. The cavern echoed with roars and clashing of swords. It was a test of wit and prowess. Ultimately Thoren managed to outmaneuver the ancient guardian and landed the knockout blow. The defeated dragon crumbled and revealed a hidden door behind it, leading to the treasure vault.Upon accessing the vault, Thoren was met with an awe-inspiring sight – the priceless treasures of Mystis Isle glittering in the cavern's dim light. Overwhelmed by his triumphant achievement, he quietly thanked the map, a memento that led him to the treasures he’d sought. After gathering the jewels, he vowed to protect these priceless artifacts and set foot back towards Brenningrad, concluding his quest and imparting a story of bravery and discovery for generations to tell.\n",
            "\n",
            "[NarrativeAgent] Step 3: conclude the story and reflect on the narrative. This could involve tying up loose ends, resolving any conflicts, and providing a satisfactory conclusion for the characters.\n",
            "\n",
            "2024-04-08 03:01:04,396 - INFO - HTTP Request: POST https://api.openai.com/v1/chat/completions \"HTTP/1.1 200 OK\"\n",
            "[MathAgent] is executing.\n",
            "[RecAgent] The solution to step 2: The solution to step 2 is: 1. Le Bernardin: A high-end French seafood restaurant located in Midtown.2. Katz's Delicatessen: A famous spot in Lower Manhattan known for their pastrami sandwiches.3. Carbone: An Italian-American restaurant in Greenwich Village, perfect for pasta lovers.4. Gramercy Tavern: Located in Gramercy Park, offering American cuisine in a warm, rustic setting. 5. Peter Luger Steak House: A classic steakhouse in Brooklyn. 6. Shake Shack: A modern day “roadside” burger located in Madison Square Park. 7. Momofuku Noodle Bar: Located in East Village, offering innovative Asian cuisine.8. The Spotted Pig: A great Gastropub in West Village offering British & Italian inspired food.9. Daniel: One of the city's pre-eminent dining institutions in Upper East Side, offering French cuisine.10. Junoon: A Michelin starred, refinement of Indian Cuisine located in Flatiron District.\n",
            "\n",
            "2024-04-08 03:01:10,955 - INFO - HTTP Request: POST https://api.openai.com/v1/chat/completions \"HTTP/1.1 200 OK\"\n",
            "[NarrativeAgent] is executing.\n",
            "[MathAgent] The solution to step 3: The solution to step 3 is: To calculate the total amount of pizza slices Albert can eat in a day, we can add together the number of slices in the large pizzas and small pizzas. This is calculated as 32 slices (from large pizzas) + 16 slices (from small pizzas) = 48 slices. So, Albert can eat 48 slices of pizza in one day if he eats all the pizzas he bought.\n",
            "\n",
            "2024-04-08 03:01:29,398 - INFO - HTTP Request: POST https://api.openai.com/v1/chat/completions \"HTTP/1.1 200 OK\"\n",
            "[RecAgent] is executing.\n",
            "[NarrativeAgent] The solution to step 3: The solution to step 3 is: Upon Thoren's return, his tale of valor and discovery spread throughout Brenningrad, and further to the secluded corners of Thregoria. His heroism was celebrated, and his triumph was hailed as a testament to Thregoria's grandeur. The Lost Jewels of Mystis Isle became a symbol of Thoren's indomitable spirit and his love for his kingdom. He was regarded as a true warrior and protector of Thregoria's history and treasure.Soon after, Thoren decided to establish a museum in Brenningrad, where the jewels were displayed, and the narrative of his quest was shared, allowing the future generations to glance back at their enriching past. The jewels, previously hidden and almost forgotten, served as constant reminders of Thregoria's past glory and the warrior who sought to preserve it.As time passed, Thoren's life was filled with more adventures. Yet, his mission to uncover the Lost Jewels was always remembered as his greatest. His tale served as an inspiration to the young and the old, demonstrating that bravery, determination, and respect for one's cultural heritage could lead to incredible discoveries.Thoren, in his lifetime and after, became an embodiment of a true Thregorian - brave, resolute, and deeply respectful of his ancestry. His tale was narrated from generation to generation, making it a part of Thregoria's rich history, and ensuring the legend of The Lost Jewels of Mystis Isle would never fade into oblivion. Thus, our tale arrives at its satisfying conclusion - leaving a legacy of a brave warrior, his epic quest, and the timeless treasures of a mystical island.\n",
            "\n",
            "2024-04-08 03:01:43,925 - INFO - HTTP Request: POST https://api.openai.com/v1/chat/completions \"HTTP/1.1 200 OK\"\n",
            "[MathAgent] is executing.\n",
            "[RecAgent] has finished: average waiting time: 17.710994482040405 seconds, turnaround time: 25.988810420036316 seconds\n",
            "\n",
            "[RecAgent] The task you need to solve is: I want to take a tour to New York during the spring break, recommend some restaurants around for me. Final result is: The final recommendation list is:1. Le Bernardin: Known for its excellent seafood dishes and services. This French restaurant in Midtown is a pricy choice, but it's worth every penny.   2. Katz's Delicatessen: A classic spot for mouthwatering pastrami sandwiches in Lower Manhattan. Convenient for tourists visiting the area.3. Carbone: Located in Greenwich Village, this Italian-American restaurant is perfect for pasta lovers. It has a cozy atmosphere and delicious dishes.4. Gramercy Tavern: Offering American cuisine in a warm, rustic setting in Gramercy Park. It's a bit upscale, but approachable and friendly.5. Peter Luger Steak House: Located in Brooklyn, known for its outstanding steak.6. Shake Shack: A fast-food restaurant chain offering delicious burgers and milkshakes. Its location in Madison Square Park is a popular spot for tourists.7. Momofuku Noodle Bar: Providing innovative Asian cuisine in East Village. Contrasting to the other recommendations, it's an exciting adventure for palate.8. The Spotted Pig: A charming gastropub in West Village offering British & Italian inspired food. It's popular among locals and tourists alike.9. Daniel: An upscale French restaurant in Upper East Side. It is renowned for its fancy dishes and meticulous service.10. Junoon: A Michelin starred Indian restaurant located in Flatiron District. It brings Indian cuisine to a new refinement level.These recommendations are based on their high ratings, variety of cuisines, and convenient locations for people visiting New York during the spring break.\n",
            "2024-04-08 03:01:46,889 - INFO - HTTP Request: POST https://api.openai.com/v1/chat/completions \"HTTP/1.1 200 OK\"\n",
            "[NarrativeAgent] is executing.\n",
            "[MathAgent] has finished: average waiting time: 19.182812094688416 seconds, turnaround time: 23.599849224090576 seconds\n",
            "\n",
            "[MathAgent] The task you need to solve is: Solve the problem that Albert is wondering how much pizza he can eat in one day. He buys 2 large pizzas and 2 small pizzas. A large pizza has 16 slices and a small pizza has 8 slices. If he eats it all, how many pieces does he eat that day? Final result is: The final solution is: Albert can eat 48 slices of pizza in one day if he eats all the pizzas he bought. This includes 32 slices from the two large pizzas and 16 slices from the two small pizzas.\n",
            "2024-04-08 03:02:02,143 - INFO - HTTP Request: POST https://api.openai.com/v1/chat/completions \"HTTP/1.1 200 OK\"\n",
            "[NarrativeAgent] has finished: average waiting time: 12.131551027297974 seconds, turnaround time: 27.403866469860077 seconds\n",
            "\n",
            "[NarrativeAgent] The task you need to solve is: Craft a tale about a valiant warrior on a quest to uncover priceless treasures hidden within a mystical island. Final result is: In the medieval kingdom of Thregoria, a landscape filled with dense forests, high mountains, undulating valleys, and sprawling meadows, the mystical Mystis Isle lay hidden. Amid the bustling town of Brenningrad, at Thregoria's heart, lived Thoren - a valiant warrior and treasure hunter with a yearning for adventure.Thoren had always been fascinated with Mystis Isle for its rumored hidden treasures. With his sturdy physique, keen mind, and an old cryptic map providing the only clues to the island's mysteries, Thoren embarked on a perilous journey, steered by the whispered legends of the priceless treasures awaiting in the island's uncharted territories.Thoren made landfall on Mystis Isle after a treacherous journey. As he journeyed deeper into the island, he discovered the entrance of a mystical cavern - the prophesied home to the hidden treasures. His joy of discovery quickly turned into a test of his warrior spirit when a colossal stone dragon, an ancient protector, barred his path. Undeterred, Thoren challenged the guardian, ultimately claiming victory after a battle that echoed through the island's untouched wilderness.Victorious, he discovered a vault teeming with the priceless treasures of Mystis Isle. Awestruck, he gathered the jewels, feeling a deep sense of accomplishment and responsibility. His triumphant return to Brenningrad marked the end of his quest, leaving tales of his bravery and discovery to be told for generations.Back in Brenningrad, Thoren established a museum for the jewels and as the years passed, more adventures filled his life, but his quest to uncover the Lost Jewels of Mystis Isle remained his finest. Thoren's tale became part of Thregoria's rich history, serving as an endless source of inspiration, proving that courage, determination, and the respect for one's cultural heritage could lead to unimaginable discoveries. Thus, the saga of a brave warrior, his epic quest, and the timeless treasures of a mystical island became an immortal narrative that would never fade into oblivion.\n"
          ]
        }
      ],
      "source": [
        "%cd /content/AIOS\n",
        "import os\n",
        "import colab_env\n",
        "import openai\n",
        "openai.api_key = os.getenv(\"OPENAI_API_KEY\")\n",
        "from openai import OpenAI\n",
        "\n",
        "# Run with gpt-4\n",
        "!python /content/AIOS/main.py --llm_name gpt-4"
      ]
    }
  ],
  "metadata": {
    "accelerator": "GPU",
    "colab": {
      "gpuType": "L4",
      "machine_shape": "hm",
      "provenance": [],
      "authorship_tag": "ABX9TyP8BB05Ps+hd3gsBakNeDfR",
      "include_colab_link": true
    },
    "kernelspec": {
      "display_name": "Python 3",
      "name": "python3"
    },
    "language_info": {
      "name": "python"
    },
    "widgets": {
      "application/vnd.jupyter.widget-state+json": {
        "b1dc313b9fda435ea317d0ba6758864b": {
          "model_module": "@jupyter-widgets/controls",
          "model_name": "HBoxModel",
          "model_module_version": "1.5.0",
          "state": {
            "_dom_classes": [],
            "_model_module": "@jupyter-widgets/controls",
            "_model_module_version": "1.5.0",
            "_model_name": "HBoxModel",
            "_view_count": null,
            "_view_module": "@jupyter-widgets/controls",
            "_view_module_version": "1.5.0",
            "_view_name": "HBoxView",
            "box_style": "",
            "children": [
              "IPY_MODEL_fe90feb97d7f42cf91de4773d53d0e73",
              "IPY_MODEL_3fcadd9984b442f29bd0dc2e781ada36",
              "IPY_MODEL_c8b3a0849014421095be2967ec5c1f22"
            ],
            "layout": "IPY_MODEL_c43da64354ff42fe9b45639194976e03"
          }
        },
        "fe90feb97d7f42cf91de4773d53d0e73": {
          "model_module": "@jupyter-widgets/controls",
          "model_name": "HTMLModel",
          "model_module_version": "1.5.0",
          "state": {
            "_dom_classes": [],
            "_model_module": "@jupyter-widgets/controls",
            "_model_module_version": "1.5.0",
            "_model_name": "HTMLModel",
            "_view_count": null,
            "_view_module": "@jupyter-widgets/controls",
            "_view_module_version": "1.5.0",
            "_view_name": "HTMLView",
            "description": "",
            "description_tooltip": null,
            "layout": "IPY_MODEL_e0a18ab539cd486dbb8a1fe394d20d23",
            "placeholder": "​",
            "style": "IPY_MODEL_27edf9ae2d404b6a99ee6b9a489bfcdd",
            "value": "Loading checkpoint shards: 100%"
          }
        },
        "3fcadd9984b442f29bd0dc2e781ada36": {
          "model_module": "@jupyter-widgets/controls",
          "model_name": "FloatProgressModel",
          "model_module_version": "1.5.0",
          "state": {
            "_dom_classes": [],
            "_model_module": "@jupyter-widgets/controls",
            "_model_module_version": "1.5.0",
            "_model_name": "FloatProgressModel",
            "_view_count": null,
            "_view_module": "@jupyter-widgets/controls",
            "_view_module_version": "1.5.0",
            "_view_name": "ProgressView",
            "bar_style": "success",
            "description": "",
            "description_tooltip": null,
            "layout": "IPY_MODEL_aafdb586462a46b2a6f49382c61ea8ef",
            "max": 3,
            "min": 0,
            "orientation": "horizontal",
            "style": "IPY_MODEL_716786ceb0564c869c7edc71d741042d",
            "value": 3
          }
        },
        "c8b3a0849014421095be2967ec5c1f22": {
          "model_module": "@jupyter-widgets/controls",
          "model_name": "HTMLModel",
          "model_module_version": "1.5.0",
          "state": {
            "_dom_classes": [],
            "_model_module": "@jupyter-widgets/controls",
            "_model_module_version": "1.5.0",
            "_model_name": "HTMLModel",
            "_view_count": null,
            "_view_module": "@jupyter-widgets/controls",
            "_view_module_version": "1.5.0",
            "_view_name": "HTMLView",
            "description": "",
            "description_tooltip": null,
            "layout": "IPY_MODEL_1d2a6927e4ec480395f8ef586871686a",
            "placeholder": "​",
            "style": "IPY_MODEL_5a8eebb41f60498498a0c5bf3e8282e4",
            "value": " 3/3 [00:58&lt;00:00, 19.30s/it]"
          }
        },
        "c43da64354ff42fe9b45639194976e03": {
          "model_module": "@jupyter-widgets/base",
          "model_name": "LayoutModel",
          "model_module_version": "1.2.0",
          "state": {
            "_model_module": "@jupyter-widgets/base",
            "_model_module_version": "1.2.0",
            "_model_name": "LayoutModel",
            "_view_count": null,
            "_view_module": "@jupyter-widgets/base",
            "_view_module_version": "1.2.0",
            "_view_name": "LayoutView",
            "align_content": null,
            "align_items": null,
            "align_self": null,
            "border": null,
            "bottom": null,
            "display": null,
            "flex": null,
            "flex_flow": null,
            "grid_area": null,
            "grid_auto_columns": null,
            "grid_auto_flow": null,
            "grid_auto_rows": null,
            "grid_column": null,
            "grid_gap": null,
            "grid_row": null,
            "grid_template_areas": null,
            "grid_template_columns": null,
            "grid_template_rows": null,
            "height": null,
            "justify_content": null,
            "justify_items": null,
            "left": null,
            "margin": null,
            "max_height": null,
            "max_width": null,
            "min_height": null,
            "min_width": null,
            "object_fit": null,
            "object_position": null,
            "order": null,
            "overflow": null,
            "overflow_x": null,
            "overflow_y": null,
            "padding": null,
            "right": null,
            "top": null,
            "visibility": null,
            "width": null
          }
        },
        "e0a18ab539cd486dbb8a1fe394d20d23": {
          "model_module": "@jupyter-widgets/base",
          "model_name": "LayoutModel",
          "model_module_version": "1.2.0",
          "state": {
            "_model_module": "@jupyter-widgets/base",
            "_model_module_version": "1.2.0",
            "_model_name": "LayoutModel",
            "_view_count": null,
            "_view_module": "@jupyter-widgets/base",
            "_view_module_version": "1.2.0",
            "_view_name": "LayoutView",
            "align_content": null,
            "align_items": null,
            "align_self": null,
            "border": null,
            "bottom": null,
            "display": null,
            "flex": null,
            "flex_flow": null,
            "grid_area": null,
            "grid_auto_columns": null,
            "grid_auto_flow": null,
            "grid_auto_rows": null,
            "grid_column": null,
            "grid_gap": null,
            "grid_row": null,
            "grid_template_areas": null,
            "grid_template_columns": null,
            "grid_template_rows": null,
            "height": null,
            "justify_content": null,
            "justify_items": null,
            "left": null,
            "margin": null,
            "max_height": null,
            "max_width": null,
            "min_height": null,
            "min_width": null,
            "object_fit": null,
            "object_position": null,
            "order": null,
            "overflow": null,
            "overflow_x": null,
            "overflow_y": null,
            "padding": null,
            "right": null,
            "top": null,
            "visibility": null,
            "width": null
          }
        },
        "27edf9ae2d404b6a99ee6b9a489bfcdd": {
          "model_module": "@jupyter-widgets/controls",
          "model_name": "DescriptionStyleModel",
          "model_module_version": "1.5.0",
          "state": {
            "_model_module": "@jupyter-widgets/controls",
            "_model_module_version": "1.5.0",
            "_model_name": "DescriptionStyleModel",
            "_view_count": null,
            "_view_module": "@jupyter-widgets/base",
            "_view_module_version": "1.2.0",
            "_view_name": "StyleView",
            "description_width": ""
          }
        },
        "aafdb586462a46b2a6f49382c61ea8ef": {
          "model_module": "@jupyter-widgets/base",
          "model_name": "LayoutModel",
          "model_module_version": "1.2.0",
          "state": {
            "_model_module": "@jupyter-widgets/base",
            "_model_module_version": "1.2.0",
            "_model_name": "LayoutModel",
            "_view_count": null,
            "_view_module": "@jupyter-widgets/base",
            "_view_module_version": "1.2.0",
            "_view_name": "LayoutView",
            "align_content": null,
            "align_items": null,
            "align_self": null,
            "border": null,
            "bottom": null,
            "display": null,
            "flex": null,
            "flex_flow": null,
            "grid_area": null,
            "grid_auto_columns": null,
            "grid_auto_flow": null,
            "grid_auto_rows": null,
            "grid_column": null,
            "grid_gap": null,
            "grid_row": null,
            "grid_template_areas": null,
            "grid_template_columns": null,
            "grid_template_rows": null,
            "height": null,
            "justify_content": null,
            "justify_items": null,
            "left": null,
            "margin": null,
            "max_height": null,
            "max_width": null,
            "min_height": null,
            "min_width": null,
            "object_fit": null,
            "object_position": null,
            "order": null,
            "overflow": null,
            "overflow_x": null,
            "overflow_y": null,
            "padding": null,
            "right": null,
            "top": null,
            "visibility": null,
            "width": null
          }
        },
        "716786ceb0564c869c7edc71d741042d": {
          "model_module": "@jupyter-widgets/controls",
          "model_name": "ProgressStyleModel",
          "model_module_version": "1.5.0",
          "state": {
            "_model_module": "@jupyter-widgets/controls",
            "_model_module_version": "1.5.0",
            "_model_name": "ProgressStyleModel",
            "_view_count": null,
            "_view_module": "@jupyter-widgets/base",
            "_view_module_version": "1.2.0",
            "_view_name": "StyleView",
            "bar_color": null,
            "description_width": ""
          }
        },
        "1d2a6927e4ec480395f8ef586871686a": {
          "model_module": "@jupyter-widgets/base",
          "model_name": "LayoutModel",
          "model_module_version": "1.2.0",
          "state": {
            "_model_module": "@jupyter-widgets/base",
            "_model_module_version": "1.2.0",
            "_model_name": "LayoutModel",
            "_view_count": null,
            "_view_module": "@jupyter-widgets/base",
            "_view_module_version": "1.2.0",
            "_view_name": "LayoutView",
            "align_content": null,
            "align_items": null,
            "align_self": null,
            "border": null,
            "bottom": null,
            "display": null,
            "flex": null,
            "flex_flow": null,
            "grid_area": null,
            "grid_auto_columns": null,
            "grid_auto_flow": null,
            "grid_auto_rows": null,
            "grid_column": null,
            "grid_gap": null,
            "grid_row": null,
            "grid_template_areas": null,
            "grid_template_columns": null,
            "grid_template_rows": null,
            "height": null,
            "justify_content": null,
            "justify_items": null,
            "left": null,
            "margin": null,
            "max_height": null,
            "max_width": null,
            "min_height": null,
            "min_width": null,
            "object_fit": null,
            "object_position": null,
            "order": null,
            "overflow": null,
            "overflow_x": null,
            "overflow_y": null,
            "padding": null,
            "right": null,
            "top": null,
            "visibility": null,
            "width": null
          }
        },
        "5a8eebb41f60498498a0c5bf3e8282e4": {
          "model_module": "@jupyter-widgets/controls",
          "model_name": "DescriptionStyleModel",
          "model_module_version": "1.5.0",
          "state": {
            "_model_module": "@jupyter-widgets/controls",
            "_model_module_version": "1.5.0",
            "_model_name": "DescriptionStyleModel",
            "_view_count": null,
            "_view_module": "@jupyter-widgets/base",
            "_view_module_version": "1.2.0",
            "_view_name": "StyleView",
            "description_width": ""
          }
        }
      }
    }
  },
  "nbformat": 4,
  "nbformat_minor": 0
}