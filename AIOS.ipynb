{
  "nbformat": 4,
  "nbformat_minor": 0,
  "metadata": {
    "colab": {
      "provenance": [],
      "machine_shape": "hm",
      "gpuType": "A100",
      "authorship_tag": "ABX9TyPRLDtPHO713dGFs4qsTLZo",
      "include_colab_link": true
    },
    "kernelspec": {
      "name": "python3",
      "display_name": "Python 3"
    },
    "language_info": {
      "name": "python"
    },
    "accelerator": "GPU"
  },
  "cells": [
    {
      "cell_type": "markdown",
      "metadata": {
        "id": "view-in-github",
        "colab_type": "text"
      },
      "source": [
        "<a href=\"https://colab.research.google.com/github/frank-morales2020/MLxDL/blob/main/AIOS.ipynb\" target=\"_parent\"><img src=\"https://colab.research.google.com/assets/colab-badge.svg\" alt=\"Open In Colab\"/></a>"
      ]
    },
    {
      "cell_type": "markdown",
      "source": [
        "https://github.com/agiresearch/AIOS\n",
        "\n",
        "\n",
        "https://arxiv.org/abs//2403.16971\n",
        "\n",
        "https://www.youtube.com/watch?v=NnU9D7WxZos&ab_channel=ArxivPapers\n"
      ],
      "metadata": {
        "id": "npRXKKSFdepX"
      }
    },
    {
      "cell_type": "code",
      "source": [
        "!pip install colab-env --upgrade\n",
        "!pip install openai\n",
        "!pip install tiktoken -q\n",
        "!pip install accelerate -q"
      ],
      "metadata": {
        "id": "CEYiiNCfeXTa"
      },
      "execution_count": null,
      "outputs": []
    },
    {
      "cell_type": "code",
      "source": [
        "import colab_env\n",
        "import os\n",
        "import openai\n",
        "import IPython\n",
        "import pytz\n",
        "from datetime import datetime\n",
        "import json\n",
        "from pathlib import Path\n",
        "\n",
        "#print()\n",
        "#print(colab_env.__version__)\n",
        "#print()\n",
        "\n",
        "# datetime object containing current date and time\n",
        "newYorkTz = pytz.timezone(\"America/New_York\")\n",
        "now = datetime.now(newYorkTz)\n",
        "#print(\"now =\", now)\n",
        "\n",
        "# dd/mm/YY H:M:S\n",
        "dt_string = now.strftime(\"%d/%m/%Y %H:%M:%S\")\n",
        "#print(\"date and time =\", dt_string)\n",
        "\n",
        "print()\n",
        "print('TEST - OPENAI - BY FRANK MORALES - %s'%dt_string)\n",
        "print()\n",
        "\n",
        "openai.api_key = os.getenv(\"OPENAI_API_KEY\")\n",
        "from openai import OpenAI"
      ],
      "metadata": {
        "colab": {
          "base_uri": "https://localhost:8080/"
        },
        "id": "O4e2oO5RegnM",
        "outputId": "80e46603-2e2c-4b1e-97f8-8fedb3bbb95d"
      },
      "execution_count": 9,
      "outputs": [
        {
          "output_type": "stream",
          "name": "stdout",
          "text": [
            "\n",
            "TEST - OPENAI - BY FRANK MORALES - 07/04/2024 22:02:53\n",
            "\n"
          ]
        }
      ]
    },
    {
      "cell_type": "code",
      "source": [
        "!nvidia-smi"
      ],
      "metadata": {
        "colab": {
          "base_uri": "https://localhost:8080/"
        },
        "id": "xD7fmAjneznn",
        "outputId": "6be5ae61-2e5f-42c5-c07d-42244eccce9a"
      },
      "execution_count": 3,
      "outputs": [
        {
          "output_type": "stream",
          "name": "stdout",
          "text": [
            "Mon Apr  8 01:36:21 2024       \n",
            "+---------------------------------------------------------------------------------------+\n",
            "| NVIDIA-SMI 535.104.05             Driver Version: 535.104.05   CUDA Version: 12.2     |\n",
            "|-----------------------------------------+----------------------+----------------------+\n",
            "| GPU  Name                 Persistence-M | Bus-Id        Disp.A | Volatile Uncorr. ECC |\n",
            "| Fan  Temp   Perf          Pwr:Usage/Cap |         Memory-Usage | GPU-Util  Compute M. |\n",
            "|                                         |                      |               MIG M. |\n",
            "|=========================================+======================+======================|\n",
            "|   0  NVIDIA A100-SXM4-40GB          Off | 00000000:00:04.0 Off |                    0 |\n",
            "| N/A   33C    P0              44W / 400W |      2MiB / 40960MiB |      0%      Default |\n",
            "|                                         |                      |             Disabled |\n",
            "+-----------------------------------------+----------------------+----------------------+\n",
            "                                                                                         \n",
            "+---------------------------------------------------------------------------------------+\n",
            "| Processes:                                                                            |\n",
            "|  GPU   GI   CI        PID   Type   Process name                            GPU Memory |\n",
            "|        ID   ID                                                             Usage      |\n",
            "|=======================================================================================|\n",
            "|  No running processes found                                                           |\n",
            "+---------------------------------------------------------------------------------------+\n"
          ]
        }
      ]
    },
    {
      "cell_type": "code",
      "source": [
        "import colab_env\n",
        "import os\n",
        "\n",
        "access_token_write = os.getenv(\"HUGGINGFACE_ACCESS_TOKEN_WRITE\")\n",
        "\n",
        "from huggingface_hub import login\n",
        "\n",
        "login(\n",
        "  token=access_token_write,\n",
        "  add_to_git_credential=True\n",
        ")"
      ],
      "metadata": {
        "id": "28dNUrtce5Eq",
        "colab": {
          "base_uri": "https://localhost:8080/"
        },
        "outputId": "e1137916-6563-46df-a46f-699d608a97d4"
      },
      "execution_count": 4,
      "outputs": [
        {
          "output_type": "stream",
          "name": "stdout",
          "text": [
            "Token is valid (permission: write).\n",
            "Your token has been saved in your configured git credential helpers (store).\n",
            "Your token has been saved to /root/.cache/huggingface/token\n",
            "Login successful\n"
          ]
        }
      ]
    },
    {
      "cell_type": "markdown",
      "source": [
        "https://huggingface.co/mistralai/Mixtral-8x7B-Instruct-v0.1/tree/main"
      ],
      "metadata": {
        "id": "WZibOkxMi2TO"
      }
    },
    {
      "cell_type": "code",
      "source": [
        "from transformers import pipeline, AutoTokenizer, AutoModelForCausalLM\n",
        "import torch\n",
        "\n",
        "#model_id = \"davidkim205/Rhea-72b-v0.5\" # HF AVERAGE = 81.22 #1 APRIL 5TH, 2024\n",
        "\n",
        "model_id = \"mistralai/Mistral-7B-Instruct-v0.2\"\n",
        "\n",
        "#model_id = \"mistralai/Mixtral-8x7B-Instruct-v0.1\"\n",
        "\n",
        "tokenizer = AutoTokenizer.from_pretrained(model_id)\n",
        "model = AutoModelForCausalLM.from_pretrained(model_id, device_map=\"auto\", torch_dtype=torch.bfloat16, trust_remote_code=True, do_sample=True)\n",
        "\n",
        "# load into pipeline\n",
        "pipe = pipeline(\"text-generation\", model=model, tokenizer=tokenizer)"
      ],
      "metadata": {
        "id": "56htKUqZfOY3"
      },
      "execution_count": null,
      "outputs": []
    },
    {
      "cell_type": "code",
      "source": [
        "#prompt=\"What was the first album Beyoncé released as a solo artist?\"\n",
        "prompt=\"What is the capital of canada?\"\n",
        "outputs = pipe(prompt, max_new_tokens=256, do_sample=True, temperature=0.9,top_k=50, eos_token_id=pipe.tokenizer.eos_token_id, pad_token_id=pipe.tokenizer.eos_token_id)"
      ],
      "metadata": {
        "id": "MtflaZHliDtv"
      },
      "execution_count": null,
      "outputs": []
    },
    {
      "cell_type": "code",
      "source": [
        "print('Question: %s'%prompt)\n",
        "print(f\"Generated Answer:\\n{outputs[0]['generated_text'][len(prompt):].strip()}\")"
      ],
      "metadata": {
        "colab": {
          "base_uri": "https://localhost:8080/"
        },
        "id": "7jwiBh4niH2y",
        "outputId": "7a5ef7c2-b9ef-40a5-dadf-6afe0f5c2f42"
      },
      "execution_count": 7,
      "outputs": [
        {
          "output_type": "stream",
          "name": "stdout",
          "text": [
            "Question: What is the capital of canada?\n",
            "Generated Answer:\n",
            "A: Ottawa\n"
          ]
        }
      ]
    },
    {
      "cell_type": "code",
      "execution_count": 1,
      "metadata": {
        "colab": {
          "base_uri": "https://localhost:8080/"
        },
        "id": "KhdxLiOMdWgA",
        "outputId": "8fc0c800-3a44-4ade-be47-05cf5eab9150"
      },
      "outputs": [
        {
          "output_type": "stream",
          "name": "stdout",
          "text": [
            "Cloning into 'AIOS'...\n",
            "remote: Enumerating objects: 809, done.\u001b[K\n",
            "remote: Counting objects: 100% (186/186), done.\u001b[K\n",
            "remote: Compressing objects: 100% (120/120), done.\u001b[K\n",
            "remote: Total 809 (delta 85), reused 132 (delta 61), pack-reused 623\u001b[K\n",
            "Receiving objects: 100% (809/809), 2.19 MiB | 8.34 MiB/s, done.\n",
            "Resolving deltas: 100% (414/414), done.\n"
          ]
        }
      ],
      "source": [
        "!git clone https://github.com/agiresearch/AIOS.git"
      ]
    },
    {
      "cell_type": "code",
      "source": [
        "!pip install -r /content/AIOS/requirements.txt"
      ],
      "metadata": {
        "id": "Onqq-G98fZ04"
      },
      "execution_count": null,
      "outputs": []
    },
    {
      "cell_type": "code",
      "source": [
        "%cd /content/AIOS\n",
        "# Use Mixtral-8x7b-it, replace the max_gpu_memory and eval_device with your own and run\n",
        "!python /content/AIOS/main.py --llm_name mixtral-8x7b-it --max_gpu_memory '{\"0\": \"30GB\", \"1\": \"30GB\", \"2\": \"30GB\"}' --eval_device \"cuda:0\" --max_new_tokens 256\n"
      ],
      "metadata": {
        "id": "G51O0yIjfdgU"
      },
      "execution_count": null,
      "outputs": []
    },
    {
      "cell_type": "code",
      "source": [
        "%cd /content/AIOS\n",
        "import os\n",
        "import colab_env\n",
        "import openai\n",
        "openai.api_key = os.getenv(\"OPENAI_API_KEY\")\n",
        "from openai import OpenAI\n",
        "# Run with gpt-4\n",
        "!python /content/AIOS/main.py --llm_name gpt-4"
      ],
      "metadata": {
        "colab": {
          "base_uri": "https://localhost:8080/"
        },
        "id": "Di9GPe7ZajWF",
        "outputId": "16f97fb5-189e-4f6c-f2a1-3ccb44b55146"
      },
      "execution_count": 8,
      "outputs": [
        {
          "output_type": "stream",
          "name": "stdout",
          "text": [
            "Drive already mounted at /content/gdrive; to attempt to forcibly remount, call drive.mount(\"/content/gdrive\", force_remount=True).\n",
            "Initialize AIOS powered by LLM: gpt-4\n",
            "AIOS LLM successfully loaded. \n",
            "[MathAgent] has been initialized.\n",
            "[NarrativeAgent] has been initialized.\n",
            "[RecAgent] has been initialized.\n",
            "[MathAgent] The task you need to solve is: Solve the problem that Albert is wondering how much pizza he can eat in one day. He buys 2 large pizzas and 2 small pizzas. A large pizza has 16 slices and a small pizza has 8 slices. If he eats it all, how many pieces does he eat that day?\n",
            "\n",
            "[MathAgent] Step 1: identify and outline the sub-problems that need to be solved as stepping stones toward the solution. \n",
            "\n",
            "[NarrativeAgent] The task you need to solve is: Craft a tale about a valiant warrior on a quest to uncover priceless treasures hidden within a mystical island.\n",
            "\n",
            "[MathAgent] is executing.\n",
            "[NarrativeAgent] Step 1: develop the story's setting and characters, establish a background and introduce the main characters.\n",
            "\n",
            "[RecAgent] The task you need to solve is: I want to take a tour to New York during the spring break, recommend some restaurants around for me.\n",
            "\n",
            "[RecAgent] Step 1: give a general recommendation direction for users.\n",
            "\n",
            "2024-04-08 01:57:11,040 - INFO - HTTP Request: POST https://api.openai.com/v1/chat/completions \"HTTP/1.1 200 OK\"\n",
            "[NarrativeAgent] is executing.\n",
            "[MathAgent] The solution to step 1: The sub-problems we need to solve are:1. Calculate the total number of slices from large pizzas.2. Calculate the total number of slices from small pizzas.3. Add the total slices from large and small pizzas to get the final amount of pizza slices eaten that day.\n",
            "\n",
            "[MathAgent] Step 2: apply mathematical theorems, formulas to solve each sub-problem. \n",
            "\n",
            "2024-04-08 01:57:25,923 - INFO - HTTP Request: POST https://api.openai.com/v1/chat/completions \"HTTP/1.1 200 OK\"\n",
            "[RecAgent] is executing.\n",
            "[NarrativeAgent] The solution to step 1: Setting: The story unfolds in medieval times and is situated in the world of Erewhon—an enchanting place scattered with mystical islands and populated by a mix of ordinary mortals and supernatural beings.Characters:1. Sir Emeric - The valiant warrior, renowned across Erewhon for his bravery and martial prowess. A deeply honorable man, Emeric has vowed to seize the hidden treasure for the wellbeing of his impoverished kingdom.2. Morwen - A mystical seer who resides in the Whispering Woods. Understanding and calm, she serves as Emeric's spiritual guide in his perilous mission.3. Lord Eldred - The just ruler of Albion, Emeric's homeland, underserved by fate. He places great faith in Sir Emeric, seeing him as the realm's last hope.4. Seraphim - A malevolent sorcerer who guards the treasure on the mystical island Silmaris. He stands as the antagonist, intending to use the treasure for his dark intents.The tale opens with Sir Emeric being tasked with retrieving a priceless treasure from the mystical island Silmaris, believed to hold the key to restore prosperity to the kingdom of Albion. The introduction would relate the desperate state of Albion, Emeric's knightly vows, and his ensuing decision to embark on the perilous journey. Lord Eldred entrusts him with this mission, while Morwen offers her wisdom and warns him of Seraphim's dangers.\n",
            "\n",
            "[NarrativeAgent] Step 2: given the background and characters, create situations that lead to the rising action, develop the climax with a significant turning point, and then move towards the resolution.\n",
            "\n",
            "2024-04-08 01:57:28,984 - INFO - HTTP Request: POST https://api.openai.com/v1/chat/completions \"HTTP/1.1 200 OK\"\n",
            "[MathAgent] is executing.\n",
            "[RecAgent] The solution to step 1: The recommendation direction will focus on popular and highly-rated restaurants in New York that offer diverse cuisine options and are located close to popular tourist attractions.\n",
            "\n",
            "[RecAgent] Step 2: based on the above recommendation direction, give a recommendation list.\n",
            "\n",
            "2024-04-08 01:57:33,401 - INFO - HTTP Request: POST https://api.openai.com/v1/chat/completions \"HTTP/1.1 200 OK\"\n",
            "[NarrativeAgent] is executing.\n",
            "[MathAgent] The solution to step 2: To solve the sub-problems in step 2, we apply simple multiplication and addition. 1. For large pizzas, multiply the number of large pizzas by the number of slices per large pizza. In this case, 2 large pizzas * 16 slices = 32 slices.2. For small pizzas, multiply the number of small pizzas by the number of slices per small pizza. In this case, 2 small pizzas * 8 slices = 16 slices.\n",
            "\n",
            "[MathAgent] Step 3: integrate the solutions to these sub-problems in the previous step to get the final solution. \n",
            "\n",
            "2024-04-08 01:57:48,382 - INFO - HTTP Request: POST https://api.openai.com/v1/chat/completions \"HTTP/1.1 200 OK\"\n",
            "[RecAgent] is executing.\n",
            "[NarrativeAgent] The solution to step 2: The solution to step 2 is: Rising Action: Guided by Morwen's wisdom, Sir Emeric embarks on his journey, facing numerous challenges on his way to Silmaris. He navigates through treacherous terrains, deciphers ancient runes, and battles mythical beasts. He showcases his bravery, cleverness, and honor, underlining his worthiness for the mission. However, Seraphim, through his dark arts, is aware of Emeric's quest and sends his minions to thwart the knight's progress.Climax: Sir Emeric, defying all odds, finally reaches Silmaris. In the heart of the island, he confronts Seraphim, the guardian of the treasure. Here he learns from Seraphim that the treasure is not just an item of wealth but also a powerful artifact that can either make or break Erewhon, depending on who wields it. A fierce battle unravels between them, shaking the very foundation of Silmaris.Resolution: Despite Seraphim's immense dark powers, Sir Emeric's unyielding courage and noble spirit overcome the sorcerer's evil, making him the victor. With Seraphim defeated, Emeric seizes the artifact and makes his journey back to Albion, where he is received with joyous celebrations. The artifact is used wisely under Lord Eldred's reign, soon bringing prosperity back to Albion and fulfilling Emeric's vow. The story concludes with Emeric's heroic return and Albion's restoration, leaving a promise of peace and prosperity in the realm. However, the tale hints at the possibility of more adventures in the fascinating world of Erewhon.\n",
            "\n",
            "[NarrativeAgent] Step 3: conclude the story and reflect on the narrative. This could involve tying up loose ends, resolving any conflicts, and providing a satisfactory conclusion for the characters.\n",
            "\n",
            "2024-04-08 01:57:57,698 - INFO - HTTP Request: POST https://api.openai.com/v1/chat/completions \"HTTP/1.1 200 OK\"\n",
            "[MathAgent] is executing.\n",
            "[RecAgent] The solution to step 2: The solution to step 2 is: 1. Eleven Madison Park - Famous for its modern European cuisine.2. Le Bernardin - Recommended for its exquisite seafood dishes.3. Gramercy Tavern - Known for American cuisine.4. Daniel - One of the top choices for French cuisine.5. Tao Downtown - A hot spot for Asian fusion cuisine.6. Buddy’s Pizzeria - Serves the best New York style pizza in town.7. Red Rooster Harlem - For those who want to try soul food.8. Russ & Daughters - Represents a genuine New York deli.9. Barbuto - Recommended for its Italian dishes.10. Eataly - Provides a variety of Italian food and groceries.\n",
            "\n",
            "2024-04-08 01:58:02,463 - INFO - HTTP Request: POST https://api.openai.com/v1/chat/completions \"HTTP/1.1 200 OK\"\n",
            "[NarrativeAgent] is executing.\n",
            "[MathAgent] The solution to step 3: The solution to step 3 is: Now, we need to add the total slices from large and small pizzas to find the total number of slices eaten that day. So, 32 slices (from large pizzas) + 16 slices (from small pizzas) = 48 slices. Thus, Albert eats 48 pieces of pizza that day.\n",
            "\n",
            "2024-04-08 01:58:12,437 - INFO - HTTP Request: POST https://api.openai.com/v1/chat/completions \"HTTP/1.1 200 OK\"\n",
            "[RecAgent] is executing.\n",
            "[NarrativeAgent] The solution to step 3: The solution to step 3 is: Sir Emeric's heroic quest concludes with his triumphant return to Albion, greeted by a realm full of joy and enthusiasm. The artifact, brimming with magic, is utilized wisely by Lord Eldred to undo the misery that once plagued their home. Albion flourishes under its rightful ruler; the barren fields become fertile, commerce resumes in the marketplaces, and hope is restored in the heart of its people. Sir Emeric's valour becomes a tale sung by the bards, and his quest inspires the generations to come. On a personal level, Emeric grows from a courageous knight to a wise and just warrior who understands the consequences of power and the importance of using it wisely. Although his quest meets a satisfying conclusion, the vast world of Erewhon, buzzing with the energy of the unsolved mystery, promises more thrilling adventures for the valiant knight.\n",
            "\n",
            "2024-04-08 01:58:25,384 - INFO - HTTP Request: POST https://api.openai.com/v1/chat/completions \"HTTP/1.1 200 OK\"\n",
            "[MathAgent] is executing.\n",
            "[RecAgent] has finished: average waiting time: 19.52679145336151 seconds, turnaround time: 25.71454405784607 seconds\n",
            "\n",
            "[RecAgent] The task you need to solve is: I want to take a tour to New York during the spring break, recommend some restaurants around for me. Final result is: The final recommendation list and explanations are: 1. Eleven Madison Park - A fine dining restaurant offering modern European cuisine, situated near Madison Square Park.2. Le Bernardin - A midtown seafood restaurant known globally for its exquisite dishes.3. Gramercy Tavern - Serving classic American cuisine in a rustic and chic environment.4. Daniel - Located on the Upper East Side, it is a pioneering French restaurant in NYC.5. Tao Downtown - A trendy Asian fusion restaurant in Chelsea, perfect for food and drink lovers.6. Buddy’s Pizzeria - Located in Queens, it's the go-to place for New York style pizza.7. Red Rooster Harlem - This Harlem spot is famous for its soul food and vibrant atmosphere.8. Russ & Daughters - A century-old spot known for smoked fish, caviar, bagels, and Jewish deli classics.9. Barbuto - An airy Italian restaurant in West Village known for its pasta and roasted chicken.10. Eataly - A bustling Italian marketplace featuring a variety of restaurants, food and beverage counters, bakery, retail items, and a cooking school.\n",
            "2024-04-08 01:58:30,213 - INFO - HTTP Request: POST https://api.openai.com/v1/chat/completions \"HTTP/1.1 200 OK\"\n",
            "[NarrativeAgent] is executing.\n",
            "[MathAgent] has finished: average waiting time: 16.233703672885895 seconds, turnaround time: 20.945732295513153 seconds\n",
            "\n",
            "[MathAgent] The task you need to solve is: Solve the problem that Albert is wondering how much pizza he can eat in one day. He buys 2 large pizzas and 2 small pizzas. A large pizza has 16 slices and a small pizza has 8 slices. If he eats it all, how many pieces does he eat that day? Final result is: The final solution is that Albert would have eaten a total of 48 slices of pizza in one day, given he consumed all the 2 large pizzas and 2 small pizzas he bought. This is derived from summing up 32 slices (from the large pizzas) and 16 slices (from the small pizzas).\n",
            "2024-04-08 01:58:55,814 - INFO - HTTP Request: POST https://api.openai.com/v1/chat/completions \"HTTP/1.1 200 OK\"\n",
            "[NarrativeAgent] has finished: average waiting time: 10.980708837509155 seconds, turnaround time: 27.33948791027069 seconds\n",
            "\n",
            "[NarrativeAgent] The task you need to solve is: Craft a tale about a valiant warrior on a quest to uncover priceless treasures hidden within a mystical island. Final result is: Full Story: In the medieval world of Erewhon, scattered with mystical islands and populated by mortals and supernatural beings, a tale of bravery and knightly honor unfolds. The Kingdom of Albion, in its desperate state, places all its hopes on Sir Emeric, a valiant warrior renowned for his bravery and martial prowess. Emeric, deeply honorable and bound by his vows, undertakes a quest to retrieve a priceless treasure that could restore prosperity to his impoverished realm.His journey is guided by Morwen, a wise seer who resides in the Whispering Woods. She serves as Emeric's spiritual guide, providing essential wisdom and warnings about the dangers that lay ahead. Emeric's mission, entrusted by Lord Eldred, the just ruler of Albion, leads him to the mystical island of Silmaris. Here exists the treasure, guarded fiercely by Seraphim, a malevolent sorcerer who harbors dark intents for the artifact's immense power.Sir Emeric, defying the odds and showcasing bravery only he could muster, embarks on his journey. His path is filled with treacherous terrains, ancient runes, mythical beasts, and menacing minions sent by Seraphim. Despite the immense hurdles, Emeric perseveres. His strength is tested in numerous battles, his intellect challenged in deciphering riddles, and his honor proven in selfless acts of courage.The quest reaches its peak with Emeric's confrontation with Seraphim in the heart of Silmaris. The knight learns that the treasure is more than just a symbol of immense wealth. It is a powerful artifact that could either restore Erewhon or break it, depending on who wields it. A fearsome battle ensues, shaking Silmaris' very core, but Emeric, armed with courage and integrity, defeats the dark sorcerer.Emeric's return to Albion marks the tale's resolution. With the artifact in their possession, Albion rejoices. Under Lord Eldred's rule, the artifact is wisely used, turning barren fields fertile and filling marketplaces with bustling trade. Hope invades the heart of the people as prosperity returns.Emeric’s valour becomes a legend, sung by bards and inspiring generations to come. The warrior understands the importance of power and its wise use, growing from a valiant knight to a wise and just warrior. Yet, Erewhon's vast world, its unsolved mysteries and enchanted lands, promise more thrilling exploits, thus concluding a tale of one adventure while carrying the promise of a thousand more.\n"
          ]
        }
      ]
    }
  ]
}