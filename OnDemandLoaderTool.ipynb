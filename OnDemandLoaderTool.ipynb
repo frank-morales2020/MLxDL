{
  "cells": [
    {
      "cell_type": "markdown",
      "metadata": {
        "id": "view-in-github",
        "colab_type": "text"
      },
      "source": [
        "<a href=\"https://colab.research.google.com/github/frank-morales2020/MLxDL/blob/main/OnDemandLoaderTool.ipynb\" target=\"_parent\"><img src=\"https://colab.research.google.com/assets/colab-badge.svg\" alt=\"Open In Colab\"/></a>"
      ]
    },
    {
      "cell_type": "markdown",
      "id": "318d3e6d-8155-4f86-ac16-bdacaf041bb9",
      "metadata": {
        "id": "318d3e6d-8155-4f86-ac16-bdacaf041bb9"
      },
      "source": [
        "# OnDemandLoaderTool\n",
        "\n",
        "Our `OnDemandLoaderTool` is a powerful agent tool that allows for \"on-demand\" data querying from any data source on LlamaHub.\n",
        "\n",
        "This tool takes in a `BaseReader` data loader, and when called will 1) load data, 2) index data, and 3) query the data.\n",
        "\n",
        "In this walkthrough, we show how to use the `OnDemandLoaderTool` to convert our Wikipedia data loader into an accessible search tool for a LangChain agent."
      ]
    },
    {
      "cell_type": "code",
      "execution_count": null,
      "id": "b3cb7c29",
      "metadata": {
        "id": "b3cb7c29"
      },
      "outputs": [],
      "source": [
        "%pip install llama-index-readers-wikipedia -q"
      ]
    },
    {
      "cell_type": "code",
      "execution_count": null,
      "id": "d6815113",
      "metadata": {
        "id": "d6815113"
      },
      "outputs": [],
      "source": [
        "!pip install llama-index -q"
      ]
    },
    {
      "cell_type": "code",
      "execution_count": 4,
      "id": "d1680fc8-1904-4ea8-b8da-88306b365e7f",
      "metadata": {
        "id": "d1680fc8-1904-4ea8-b8da-88306b365e7f"
      },
      "outputs": [],
      "source": [
        "from llama_index.core.tools.ondemand_loader_tool import OnDemandLoaderTool\n",
        "from llama_index.readers.wikipedia import WikipediaReader\n",
        "from typing import List\n",
        "\n",
        "from pydantic import BaseModel"
      ]
    },
    {
      "cell_type": "code",
      "source": [
        "!pip install wikipedia -q"
      ],
      "metadata": {
        "id": "YryatPp3I5QX"
      },
      "id": "YryatPp3I5QX",
      "execution_count": null,
      "outputs": []
    },
    {
      "cell_type": "code",
      "execution_count": 6,
      "id": "7c5caf3b-3544-4a39-be69-35e18ef12172",
      "metadata": {
        "id": "7c5caf3b-3544-4a39-be69-35e18ef12172"
      },
      "outputs": [],
      "source": [
        "reader = WikipediaReader()"
      ]
    },
    {
      "cell_type": "code",
      "execution_count": 7,
      "id": "ea9169ad-fe61-47da-bbdf-ce3a89c371a3",
      "metadata": {
        "id": "ea9169ad-fe61-47da-bbdf-ce3a89c371a3"
      },
      "outputs": [],
      "source": [
        "tool = OnDemandLoaderTool.from_defaults(\n",
        "    reader,\n",
        "    name=\"Wikipedia Tool\",\n",
        "    description=\"A tool for loading and querying articles from Wikipedia\",\n",
        ")"
      ]
    },
    {
      "cell_type": "code",
      "source": [
        "!pip install langchain -q"
      ],
      "metadata": {
        "id": "9DriPym1kPbc"
      },
      "id": "9DriPym1kPbc",
      "execution_count": null,
      "outputs": []
    },
    {
      "cell_type": "code",
      "source": [
        "#added by Frank Morales(FM) 22/02/2024\n",
        "%pip install openai  --root-user-action=ignore -q\n",
        "%pip install colab-env --upgrade --quiet --root-user-action=ignore -q"
      ],
      "metadata": {
        "id": "FnFVfqM6kjhq"
      },
      "id": "FnFVfqM6kjhq",
      "execution_count": null,
      "outputs": []
    },
    {
      "cell_type": "code",
      "source": [
        "#added by Frank Morales(FM) 22/02/2024\n",
        "import warnings\n",
        "warnings.filterwarnings('ignore')\n",
        "\n",
        "import colab_env\n",
        "import openai\n",
        "import os\n",
        "openai.api_key = os.getenv(\"OPENAI_API_KEY\")\n",
        "\n",
        "from openai import OpenAI\n",
        "client = OpenAI()"
      ],
      "metadata": {
        "id": "O1iCMmPHkkkW"
      },
      "id": "O1iCMmPHkkkW",
      "execution_count": null,
      "outputs": []
    },
    {
      "cell_type": "code",
      "source": [
        "tool([\"Montreal\"], query_str=\"where is located the Montreal city?\")"
      ],
      "metadata": {
        "id": "zdpNp8Tak858"
      },
      "id": "zdpNp8Tak858",
      "execution_count": null,
      "outputs": []
    },
    {
      "cell_type": "code",
      "source": [
        "# run tool as langchain structured tool\n",
        "lc_tool = tool.to_langchain_structured_tool(verbose=True)"
      ],
      "metadata": {
        "id": "7r8eF7CDlTdI"
      },
      "id": "7r8eF7CDlTdI",
      "execution_count": 30,
      "outputs": []
    },
    {
      "cell_type": "code",
      "source": [
        "from langchain.agents import AgentType, initialize_agent, load_tools\n",
        "#from langchain_openai import ChatOpenAI, OpenAI\n",
        "from langchain.llms import OpenAI\n",
        "from langchain.chat_models import ChatOpenAI\n",
        "\n",
        "#llm = ChatOpenAI(temperature=0.0)\n",
        "math_llm = OpenAI(temperature=0.0)\n",
        "\n",
        "#llm = ChatOpenAI(temperature=0, model_name=\"gpt-3.5-turbo\", streaming=True)\n",
        "llm = ChatOpenAI(temperature=0, model_name=\"gpt-4\", streaming=True)\n",
        "\n",
        "tools = load_tools(\n",
        "    [\"human\", \"llm-math\"],\n",
        "    llm=math_llm,\n",
        ")\n",
        "\n",
        "agent_chain = initialize_agent(\n",
        "    tools,\n",
        "    llm,\n",
        "    agent=AgentType.ZERO_SHOT_REACT_DESCRIPTION,\n",
        "    #agent=\"structured-chat-zero-shot-react-description\",\n",
        "    verbose=True,\n",
        ")\n",
        "\n",
        "agent = initialize_agent(\n",
        "    [lc_tool],\n",
        "    #tools,\n",
        "    llm,\n",
        "    agent=\"structured-chat-zero-shot-react-description\",\n",
        "    verbose=True,\n",
        ")"
      ],
      "metadata": {
        "id": "UMOqGNlmSsXW"
      },
      "id": "UMOqGNlmSsXW",
      "execution_count": 67,
      "outputs": []
    },
    {
      "cell_type": "code",
      "source": [
        "agent_chain.run(\"What's my friend Rafael's surname?\")\n",
        "# Answer with 'Reinaldo'"
      ],
      "metadata": {
        "colab": {
          "base_uri": "https://localhost:8080/",
          "height": 295
        },
        "id": "c3EdwMHlW56Z",
        "outputId": "5d72ab3f-0121-4584-d7fe-c76f41daa7d0"
      },
      "id": "c3EdwMHlW56Z",
      "execution_count": 52,
      "outputs": [
        {
          "output_type": "stream",
          "name": "stdout",
          "text": [
            "\n",
            "\n",
            "\u001b[1m> Entering new AgentExecutor chain...\u001b[0m\n",
            "\u001b[32;1m\u001b[1;3mI need to ask a human for this information.\n",
            "Action: human\n",
            "Action Input: What is Rafael's surname?\u001b[0m\n",
            "\n",
            "What is Rafael's surname?\n",
            "Reinaldo\n",
            "\n",
            "Observation: \u001b[36;1m\u001b[1;3mReinaldo\u001b[0m\n",
            "Thought:\u001b[32;1m\u001b[1;3mI now know Rafael's surname.\n",
            "Final Answer: Rafael's surname is Reinaldo.\u001b[0m\n",
            "\n",
            "\u001b[1m> Finished chain.\u001b[0m\n"
          ]
        },
        {
          "output_type": "execute_result",
          "data": {
            "text/plain": [
              "\"Rafael's surname is Reinaldo.\""
            ],
            "application/vnd.google.colaboratory.intrinsic+json": {
              "type": "string"
            }
          },
          "metadata": {},
          "execution_count": 52
        }
      ]
    },
    {
      "source": [
        "#agent.run(input={\"pages\": \"Montreal\", \"query_str\": \"What's the arts and culture scene in montreal?\"},query_str=\"What's the arts and culture scene in montreal?\")\n",
        "\n",
        "agent.run(input={\"pages\": \"Montreal\", \"query_str\": \"What's the arts and culture scene in montreal?\"})\n"
      ],
      "cell_type": "code",
      "metadata": {
        "colab": {
          "base_uri": "https://localhost:8080/",
          "height": 575
        },
        "id": "6pMJCwm3p1Vq",
        "outputId": "b365a341-79b2-479f-e25f-ac4e5573fdd6"
      },
      "id": "6pMJCwm3p1Vq",
      "execution_count": 69,
      "outputs": [
        {
          "output_type": "stream",
          "name": "stdout",
          "text": [
            "\n",
            "\n",
            "\u001b[1m> Entering new AgentExecutor chain...\u001b[0m\n",
            "\u001b[32;1m\u001b[1;3mAction:\n",
            "```\n",
            "{\n",
            "  \"action\": \"Wikipedia Tool\",\n",
            "  \"action_input\": {\n",
            "    \"pages\": [\"Montreal\"],\n",
            "    \"query_str\": \"arts and culture\"\n",
            "  }\n",
            "}\n",
            "```\u001b[0m\n",
            "Observation: \u001b[36;1m\u001b[1;3mMontreal has a rich and vibrant arts and culture scene, with a unique blend of French and English traditions. The city is known for its cultural diversity and has a strong presence in visual arts, theatre, dance, and music. Montreal hosts over 100 annual festivals, including the renowned Montreal International Jazz Festival and the largest comedy festival in the world, Just for Laughs. The city's downtown area comes alive during the summer with various cultural and social events. Additionally, Montreal is recognized for its classical art scene, with venues like Place des Arts hosting world-class orchestras, opera, ballet, and avant-garde dance troupes. The city's churches, including notable basilicas, contribute to its cultural heritage. Quebec literature has also been influenced by Montreal, with works shifting from rural settings to urban portrayals, capturing the city's multicultural essence.\u001b[0m\n",
            "Thought:\u001b[32;1m\u001b[1;3mThe information provided from the Wikipedia tool is comprehensive and answers the user's question about the arts and culture scene in Montreal. It covers various aspects such as visual arts, theatre, dance, music, festivals, and literature. I can use this information to form a response. \n",
            "Action:\n",
            "```\n",
            "{\n",
            "  \"action\": \"Final Answer\",\n",
            "  \"action_input\": \"Montreal has a rich and vibrant arts and culture scene, with a unique blend of French and English traditions. The city is known for its cultural diversity and has a strong presence in visual arts, theatre, dance, and music. Montreal hosts over 100 annual festivals, including the renowned Montreal International Jazz Festival and the largest comedy festival in the world, Just for Laughs. The city's downtown area comes alive during the summer with various cultural and social events. Additionally, Montreal is recognized for its classical art scene, with venues like Place des Arts hosting world-class orchestras, opera, ballet, and avant-garde dance troupes. The city's churches, including notable basilicas, contribute to its cultural heritage. Quebec literature has also been influenced by Montreal, with works shifting from rural settings to urban portrayals, capturing the city's multicultural essence.\"\n",
            "}\n",
            "```\u001b[0m\n",
            "\n",
            "\u001b[1m> Finished chain.\u001b[0m\n"
          ]
        },
        {
          "output_type": "execute_result",
          "data": {
            "text/plain": [
              "\"Montreal has a rich and vibrant arts and culture scene, with a unique blend of French and English traditions. The city is known for its cultural diversity and has a strong presence in visual arts, theatre, dance, and music. Montreal hosts over 100 annual festivals, including the renowned Montreal International Jazz Festival and the largest comedy festival in the world, Just for Laughs. The city's downtown area comes alive during the summer with various cultural and social events. Additionally, Montreal is recognized for its classical art scene, with venues like Place des Arts hosting world-class orchestras, opera, ballet, and avant-garde dance troupes. The city's churches, including notable basilicas, contribute to its cultural heritage. Quebec literature has also been influenced by Montreal, with works shifting from rural settings to urban portrayals, capturing the city's multicultural essence.\""
            ],
            "application/vnd.google.colaboratory.intrinsic+json": {
              "type": "string"
            }
          },
          "metadata": {},
          "execution_count": 69
        }
      ]
    },
    {
      "cell_type": "code",
      "source": [
        "agent.run(input={\"pages\": \"Montreal\", \"query_str\": \"What is the best restaurant in Montreal?\"})"
      ],
      "metadata": {
        "colab": {
          "base_uri": "https://localhost:8080/",
          "height": 558
        },
        "id": "tv9b32ywy8uc",
        "outputId": "ebe1847d-f372-4212-e060-96b1bc25f61a"
      },
      "id": "tv9b32ywy8uc",
      "execution_count": 68,
      "outputs": [
        {
          "output_type": "stream",
          "name": "stdout",
          "text": [
            "\n",
            "\n",
            "\u001b[1m> Entering new AgentExecutor chain...\u001b[0m\n",
            "\u001b[32;1m\u001b[1;3mThought: The user is asking for the best restaurant in Montreal. I will use the Wikipedia Tool to find information about Montreal's top restaurants.\n",
            "Action:\n",
            "```\n",
            "{\n",
            "  \"action\": \"Wikipedia Tool\",\n",
            "  \"action_input\": {\n",
            "    \"pages\": [\"Montreal\"],\n",
            "    \"query_str\": \"best restaurant\"\n",
            "  }\n",
            "}\n",
            "```\u001b[0m\n",
            "Observation: \u001b[36;1m\u001b[1;3mThe best restaurant in Montreal is a subjective matter and can vary depending on personal preferences. Montreal is known for its diverse culinary scene, offering a wide range of dining options from traditional French cuisine to innovative fusion dishes. Visitors and locals alike often recommend exploring the city's vibrant neighborhoods like Old Montreal, Plateau-Mont-Royal, and Mile End to discover hidden gems and popular dining spots. It is advisable to check online reviews, ask locals for recommendations, and explore different types of cuisine to find the best restaurant that suits your taste preferences.\u001b[0m\n",
            "Thought:\u001b[32;1m\u001b[1;3mThe Wikipedia tool provided a general overview of Montreal's culinary scene, but it didn't specify a particular restaurant as the best. Since the concept of \"best\" can be subjective and depends on personal preferences, it's difficult to pinpoint a single restaurant as the best in Montreal. However, the tool did suggest exploring neighborhoods like Old Montreal, Plateau-Mont-Royal, and Mile End for popular dining spots. \n",
            "\n",
            "Action:\n",
            "```\n",
            "{\n",
            "  \"action\": \"Final Answer\",\n",
            "  \"action_input\": \"The best restaurant in Montreal can vary depending on personal preferences. Montreal is known for its diverse culinary scene, offering a wide range of dining options from traditional French cuisine to innovative fusion dishes. It's recommended to explore the city's vibrant neighborhoods like Old Montreal, Plateau-Mont-Royal, and Mile End to discover popular dining spots. Checking online reviews and asking locals for recommendations can also help you find a restaurant that suits your taste preferences.\"\n",
            "}\n",
            "```\u001b[0m\n",
            "\n",
            "\u001b[1m> Finished chain.\u001b[0m\n"
          ]
        },
        {
          "output_type": "execute_result",
          "data": {
            "text/plain": [
              "\"The best restaurant in Montreal can vary depending on personal preferences. Montreal is known for its diverse culinary scene, offering a wide range of dining options from traditional French cuisine to innovative fusion dishes. It's recommended to explore the city's vibrant neighborhoods like Old Montreal, Plateau-Mont-Royal, and Mile End to discover popular dining spots. Checking online reviews and asking locals for recommendations can also help you find a restaurant that suits your taste preferences.\""
            ],
            "application/vnd.google.colaboratory.intrinsic+json": {
              "type": "string"
            }
          },
          "metadata": {},
          "execution_count": 68
        }
      ]
    }
  ],
  "metadata": {
    "kernelspec": {
      "display_name": "venv",
      "language": "python",
      "name": "python3"
    },
    "language_info": {
      "codemirror_mode": {
        "name": "ipython",
        "version": 3
      },
      "file_extension": ".py",
      "mimetype": "text/x-python",
      "name": "python",
      "nbconvert_exporter": "python",
      "pygments_lexer": "ipython3"
    },
    "colab": {
      "provenance": [],
      "include_colab_link": true
    }
  },
  "nbformat": 4,
  "nbformat_minor": 5
}