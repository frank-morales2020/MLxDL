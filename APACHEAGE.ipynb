{
  "cells": [
    {
      "cell_type": "markdown",
      "metadata": {
        "id": "view-in-github",
        "colab_type": "text"
      },
      "source": [
        "<a href=\"https://colab.research.google.com/github/frank-morales2020/MLxDL/blob/main/APACHEAGE.ipynb\" target=\"_parent\"><img src=\"https://colab.research.google.com/assets/colab-badge.svg\" alt=\"Open In Colab\"/></a>"
      ]
    },
    {
      "cell_type": "code",
      "execution_count": null,
      "metadata": {
        "id": "y8i2xLhNM8vf"
      },
      "outputs": [],
      "source": [
        "# https://age.apache.org/age-manual/master/intro/overview.html\n",
        "\n",
        "#viewer https://github.com/apache/age-viewer\n",
        "\n",
        "# https://github.com/apache/age\n",
        "!apt-get update\n",
        "!apt-get dist-upgrade\n",
        "\n",
        "!sudo apt-get install build-essential libreadline-dev zlib1g-dev flex bison"
      ]
    },
    {
      "cell_type": "code",
      "execution_count": null,
      "metadata": {
        "id": "bPWt_iErNZr1"
      },
      "outputs": [],
      "source": [
        "#!sudo apt install postgresql\n",
        "\n",
        "#ADDED By FM 11/01/2024\n",
        "\n",
        "# install PSQL WITH DEV Libraries\n",
        "!apt install postgresql postgresql-contrib &>log\n",
        "!service postgresql restart\n",
        "!sudo apt install postgresql-server-dev-all\n"
      ]
    },
    {
      "cell_type": "code",
      "execution_count": null,
      "metadata": {
        "id": "zt8ptZhUOLoX"
      },
      "outputs": [],
      "source": [
        "print()\n",
        "# PostGRES SQL Settings\n",
        "%cd /content/\n",
        "!sudo -u postgres psql -c \"ALTER USER postgres PASSWORD 'postgres'\""
      ]
    },
    {
      "cell_type": "code",
      "execution_count": null,
      "metadata": {
        "id": "kwiHyVnfO_3n"
      },
      "outputs": [],
      "source": [
        "\n",
        "%cd /content/\n",
        "#release/PG14/1.5.0\n",
        "!git clone --branch release/PG14/1.5.0 https://github.com/apache/age.git\n",
        "\n",
        "print('START: A Graph Extension(AGE) COMPILATION')\n",
        "%cd /content/age\n",
        "print()\n",
        "!pg_config\n",
        "print()\n",
        "!make install # may need sudo\n",
        "print('END: A Graph Extension(AGE) COMPILATION')\n",
        "print()"
      ]
    },
    {
      "cell_type": "code",
      "execution_count": 5,
      "metadata": {
        "colab": {
          "base_uri": "https://localhost:8080/"
        },
        "id": "L8ir_X4-Xl1M",
        "outputId": "08589cb9-9f38-49d1-c604-5dade25b2845"
      },
      "outputs": [
        {
          "output_type": "stream",
          "name": "stdout",
          "text": [
            "CREATE EXTENSION\n",
            "LOAD\n",
            "SET\n"
          ]
        }
      ],
      "source": [
        "!sudo -u postgres psql -c \"CREATE EXTENSION age\"\n",
        "!sudo -u postgres psql -c \"LOAD 'age'\"\n",
        "!sudo -u postgres psql -c 'SET search_path = ag_catalog, \"$user\", public'\n",
        "\n",
        "#!sudo -u postgres psql -c \"SELECT create_graph('my_graph_name')\""
      ]
    },
    {
      "cell_type": "code",
      "source": [
        "# https://github.com/apache/age/tree/master/drivers/python\n",
        "%cd /content/age/drivers/python/\n",
        "%pip install -r /content/age/drivers/python/requirements.txt\n",
        "!python /content/age/drivers/python/setup.py install"
      ],
      "metadata": {
        "id": "hIN-IiuxwTxD"
      },
      "execution_count": null,
      "outputs": []
    },
    {
      "cell_type": "code",
      "source": [
        "#SELECT create_graph('my_graph_name');\n",
        "import age\n",
        "\n",
        "DB_NAME = \"postgres\"\n",
        "DB_USER = \"postgres\"\n",
        "DB_PASS = \"postgres\"\n",
        "DB_HOST = \"localhost\"\n",
        "DB_PORT = \"5432\"\n",
        "\n",
        "age.connect(graph='my_graph_name', host=DB_HOST, port=DB_PORT, dbname=DB_NAME, user=DB_USER, password=DB_PASS)\n",
        "#cursor = age.execCypher(\"SELECT create_graph('my_graph_name')\")\n",
        "#age.execSql(stmt=\"CREATE GRAPH my_graph_name\")\n",
        "#age.execSql(\"create_graph('my_graph_name')\")\n",
        "\n",
        "\n",
        "#!sudo -u postgres psql -c \"SELECT create_graph('my_graph_name')\""
      ],
      "metadata": {
        "colab": {
          "base_uri": "https://localhost:8080/"
        },
        "id": "bleaxBSXMJoB",
        "outputId": "6e342c43-c07e-420c-fde0-5d3b3a48d227"
      },
      "execution_count": 7,
      "outputs": [
        {
          "output_type": "execute_result",
          "data": {
            "text/plain": [
              "<age.age.Age at 0x7d85bb28e200>"
            ]
          },
          "metadata": {},
          "execution_count": 7
        }
      ]
    },
    {
      "cell_type": "code",
      "source": [
        "def query_selection(query):\n",
        "      # PostGRES SQL Settings\n",
        "      import psycopg2 as ps\n",
        "      DB_NAME = \"postgres\"\n",
        "      DB_USER = \"postgres\"\n",
        "      DB_PASS = \"postgres\"\n",
        "      DB_HOST = \"localhost\"\n",
        "      DB_PORT = \"5432\"\n",
        "      conn = ps.connect(database=DB_NAME,\n",
        "                user=DB_USER,\n",
        "                password=DB_PASS,\n",
        "                host=DB_HOST,\n",
        "                port=DB_PORT)\n",
        "      cur = conn.cursor() # creating a cursor\n",
        "      cur.execute(\"\"\"\n",
        "          %s \"\"\"%query)\n",
        "      records = cur.fetchall()\n",
        "      print(\"Total rows are:  \", len(records))\n",
        "      print(\"Printing each row\")\n",
        "      print()\n",
        "      n=0\n",
        "      for row in records:\n",
        "          n=n+1\n",
        "          print(\"ROW %s: \"%n, row)\n",
        "      conn.close()\n",
        "      cur.close()\n",
        "      print()\n",
        "      print(\"QUERY SELECTION successfully\")\n",
        "      print()"
      ],
      "metadata": {
        "id": "GWbRCMugr7M-"
      },
      "execution_count": 8,
      "outputs": []
    },
    {
      "cell_type": "code",
      "source": [
        "print('')\n",
        "print(\"Extensions Available:\")\n",
        "query_selection(\"SELECT name FROM pg_available_extensions order by 1\")\n",
        "print('')\n",
        "print(\"Extensions Used:\")\n",
        "query_selection(\"SELECT * FROM pg_extension\")\n"
      ],
      "metadata": {
        "colab": {
          "base_uri": "https://localhost:8080/"
        },
        "id": "kBAww766rwZ0",
        "outputId": "700d01c3-63c8-4a3a-9893-77d989dd2ee5"
      },
      "execution_count": 9,
      "outputs": [
        {
          "output_type": "stream",
          "name": "stdout",
          "text": [
            "\n",
            "Extensions Available:\n",
            "Total rows are:   47\n",
            "Printing each row\n",
            "\n",
            "ROW 1:  ('adminpack',)\n",
            "ROW 2:  ('age',)\n",
            "ROW 3:  ('amcheck',)\n",
            "ROW 4:  ('autoinc',)\n",
            "ROW 5:  ('bloom',)\n",
            "ROW 6:  ('btree_gin',)\n",
            "ROW 7:  ('btree_gist',)\n",
            "ROW 8:  ('citext',)\n",
            "ROW 9:  ('cube',)\n",
            "ROW 10:  ('dblink',)\n",
            "ROW 11:  ('dict_int',)\n",
            "ROW 12:  ('dict_xsyn',)\n",
            "ROW 13:  ('earthdistance',)\n",
            "ROW 14:  ('file_fdw',)\n",
            "ROW 15:  ('fuzzystrmatch',)\n",
            "ROW 16:  ('hstore',)\n",
            "ROW 17:  ('insert_username',)\n",
            "ROW 18:  ('intagg',)\n",
            "ROW 19:  ('intarray',)\n",
            "ROW 20:  ('isn',)\n",
            "ROW 21:  ('lo',)\n",
            "ROW 22:  ('ltree',)\n",
            "ROW 23:  ('moddatetime',)\n",
            "ROW 24:  ('old_snapshot',)\n",
            "ROW 25:  ('pageinspect',)\n",
            "ROW 26:  ('pg_buffercache',)\n",
            "ROW 27:  ('pg_freespacemap',)\n",
            "ROW 28:  ('pg_prewarm',)\n",
            "ROW 29:  ('pg_stat_statements',)\n",
            "ROW 30:  ('pg_surgery',)\n",
            "ROW 31:  ('pg_trgm',)\n",
            "ROW 32:  ('pg_visibility',)\n",
            "ROW 33:  ('pgcrypto',)\n",
            "ROW 34:  ('pgrowlocks',)\n",
            "ROW 35:  ('pgstattuple',)\n",
            "ROW 36:  ('plpgsql',)\n",
            "ROW 37:  ('postgres_fdw',)\n",
            "ROW 38:  ('refint',)\n",
            "ROW 39:  ('seg',)\n",
            "ROW 40:  ('sslinfo',)\n",
            "ROW 41:  ('tablefunc',)\n",
            "ROW 42:  ('tcn',)\n",
            "ROW 43:  ('tsm_system_rows',)\n",
            "ROW 44:  ('tsm_system_time',)\n",
            "ROW 45:  ('unaccent',)\n",
            "ROW 46:  ('uuid-ossp',)\n",
            "ROW 47:  ('xml2',)\n",
            "\n",
            "QUERY SELECTION successfully\n",
            "\n",
            "\n",
            "Extensions Used:\n",
            "Total rows are:   2\n",
            "Printing each row\n",
            "\n",
            "ROW 1:  (13747, 'plpgsql', 10, 11, False, '1.0', None, None)\n",
            "ROW 2:  (16385, 'age', 10, 16384, False, '1.5.0', [16386, 16398], ['', ''])\n",
            "\n",
            "QUERY SELECTION successfully\n",
            "\n"
          ]
        }
      ]
    },
    {
      "cell_type": "code",
      "source": [
        "!python -m unittest -v /content/age/drivers/python/test_agtypes.py"
      ],
      "metadata": {
        "colab": {
          "base_uri": "https://localhost:8080/"
        },
        "id": "i6bTPLGaw8zZ",
        "outputId": "6b5b2b25-3e3c-4b19-aafb-39238d7a5bc7"
      },
      "execution_count": 10,
      "outputs": [
        {
          "output_type": "stream",
          "name": "stdout",
          "text": [
            "test_path (test_agtypes.TestAgtype) ... \n",
            "Testing Path Parsing. Result : ok\n",
            "test_scalar (test_agtypes.TestAgtype) ... \n",
            "Testing Scalar Value Parsing. Result : ok\n",
            "test_vertex (test_agtypes.TestAgtype) ... \n",
            "Testing vertex Parsing. Result : ok\n",
            "\n",
            "----------------------------------------------------------------------\n",
            "Ran 3 tests in 0.024s\n",
            "\n",
            "OK\n"
          ]
        }
      ]
    },
    {
      "cell_type": "code",
      "source": [
        "!python /content/age/drivers/python/test_age_py.py \\\n",
        "-host \"127.0.0.1\" \\\n",
        "-db \"postgres\" \\\n",
        "-u \"postgres\" \\\n",
        "-pass \"postgres\" \\\n",
        "-port 5432 \\\n",
        "-gn \"test_graph\""
      ],
      "metadata": {
        "colab": {
          "base_uri": "https://localhost:8080/"
        },
        "id": "anFoLOVmxQkw",
        "outputId": "13d3b754-05a7-465c-8f1e-5b78893072c8"
      },
      "execution_count": 11,
      "outputs": [
        {
          "output_type": "stream",
          "name": "stdout",
          "text": [
            "Connecting to Test Graph.....\n",
            "\n",
            "---------------------------------------------------\n",
            "Test 1: Checking single and multi column Returns.....\n",
            "---------------------------------------------------\n",
            "\n",
            "Vertex: <class 'age.models.Vertex'> , Type: <class 'age.models.Vertex'> \n",
            "Id: 844424930131970 , Name: Jack\n",
            "\n",
            "Test 1 Successful....\n",
            "Deleting Test Graph.....\n",
            ".Connecting to Test Graph.....\n",
            "\n",
            "--------------------------------------------------\n",
            "Test 2: Testing CREATE and query relationships.....\n",
            "--------------------------------------------------\n",
            "\n",
            "START: {label:Person, id:844424930131970, properties:{name: Andy, }}::VERTEX\n",
            "EDGE: {label:worksWith, id:1125899906842625, properties:{weight: 3, }, start_id:844424930131970, end_id:844424930131969}::EDGE\n",
            "END: {label:Person, id:844424930131969, properties:{name: Jack, }}::VERTEX\n",
            "START: {label:Person, id:844424930131971, properties:{name: Smith, }}::VERTEX\n",
            "EDGE: {label:worksWith, id:1125899906842626, properties:{}, start_id:844424930131969, end_id:844424930131971}::EDGE\n",
            "END: {label:Person, id:844424930131969, properties:{name: Jack, }}::VERTEX\n",
            "START: {label:Person, id:844424930131969, properties:{name: Jack, }}::VERTEX\n",
            "EDGE: {label:worksWith, id:1125899906842625, properties:{weight: 3, }, start_id:844424930131970, end_id:844424930131969}::EDGE\n",
            "END: {label:Person, id:844424930131970, properties:{name: Andy, }}::VERTEX\n",
            "START: {label:Person, id:844424930131969, properties:{name: Jack, }}::VERTEX\n",
            "EDGE: {label:worksWith, id:1125899906842626, properties:{}, start_id:844424930131969, end_id:844424930131971}::EDGE\n",
            "END: {label:Person, id:844424930131971, properties:{name: Smith, }}::VERTEX\n",
            "Relationship: Andy worksWith Jack. Edge weight: 3\n",
            "Relationship: Jack worksWith Andy. Edge weight: 3\n",
            "\n",
            "Test 2 Successful...\n",
            "Deleting Test Graph.....\n",
            ".Connecting to Test Graph.....\n",
            "\n",
            "-------------------------------------------------------\n",
            "Test 3: Testing changes in data using SET and REMOVE.....\n",
            "-------------------------------------------------------\n",
            "\n",
            "CREATED:  {label:Person, id:844424930131970, properties:{name: Smith, title: Developer, }}::VERTEX\n",
            "SET title:  Manager\n",
            "REMOVE Prop title:  {label:Person, id:844424930131970, properties:{name: Smith, bigNum: -64516100000000000000000000000000000000000000000, }}::VERTEX\n",
            "\n",
            "Test 3 Successful....\n",
            "Deleting Test Graph.....\n",
            ".Connecting to Test Graph.....\n",
            "\n",
            "--------------------------\n",
            "Test 4: Testing Cypher.....\n",
            "--------------------------\n",
            "\n",
            "CREATED EDGE: [{label:Person, id:844424930131971, properties:{name: Andy, }}::VERTEX,{label:worksWith, id:1125899906842628, properties:{}, start_id:844424930131971, end_id:844424930131972}::EDGE,{label:Person, id:844424930131972, properties:{name: Smith, }}::VERTEX]::PATH\n",
            "CREATED EDGE WITH PROPERTIES: [{label:Person, id:844424930131969, properties:{name: Joe, }}::VERTEX,{label:worksWith, id:1125899906842629, properties:{weight: 5, }, start_id:844424930131969, end_id:844424930131970}::EDGE,{label:Person, id:844424930131970, properties:{name: Jack, }}::VERTEX]::PATH\n",
            "\n",
            "Test 4 Successful...\n",
            "Deleting Test Graph.....\n",
            ".Connecting to Test Graph.....\n",
            "\n",
            "------------------------------------\n",
            "Test 5: Testing Multiple Edges.....\n",
            "------------------------------------\n",
            "\n",
            "PATH WITH MULTIPLE EDGES: Country USA ---- (distance 4760 miles) ---> Country France ---- (distance 9228 km) ---> Country Korea\n",
            "\n",
            "Test 5 Successful...\n",
            "Deleting Test Graph.....\n",
            ".Connecting to Test Graph.....\n",
            "\n",
            "--------------------------\n",
            "Test 6: Testing COLLECT.....\n",
            "--------------------------\n",
            "\n",
            " -------- TESTING COLLECT #1 --------\n",
            "Joe worksWith ['Andy', 'Smith', 'Tom']\n",
            " -------- TESTING COLLECT #2 --------\n",
            "Joe worksWith ['Andy', 'Smith', 'Tom']\n",
            "\n",
            "Test 6 Successful...\n",
            "Deleting Test Graph.....\n",
            ".\n",
            "----------------------------------------------------------------------\n",
            "Ran 6 tests in 1.891s\n",
            "\n",
            "OK\n"
          ]
        }
      ]
    }
  ],
  "metadata": {
    "colab": {
      "provenance": [],
      "authorship_tag": "ABX9TyNlGWTSK9TspLX0e3HTsvd3",
      "include_colab_link": true
    },
    "kernelspec": {
      "display_name": "Python 3",
      "name": "python3"
    },
    "language_info": {
      "name": "python"
    }
  },
  "nbformat": 4,
  "nbformat_minor": 0
}