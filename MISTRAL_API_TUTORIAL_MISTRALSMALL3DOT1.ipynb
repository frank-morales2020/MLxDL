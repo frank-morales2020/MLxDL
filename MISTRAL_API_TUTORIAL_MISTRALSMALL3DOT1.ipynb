{
  "nbformat": 4,
  "nbformat_minor": 0,
  "metadata": {
    "colab": {
      "provenance": [],
      "collapsed_sections": [
        "NesDaI4OICGe",
        "9V3yq8LLuqdT",
        "5axbl8pdofkY"
      ],
      "machine_shape": "hm",
      "authorship_tag": "ABX9TyPiLqDt/IMPt9eOdx44owE5",
      "include_colab_link": true
    },
    "kernelspec": {
      "name": "python3",
      "display_name": "Python 3"
    },
    "language_info": {
      "name": "python"
    }
  },
  "cells": [
    {
      "cell_type": "markdown",
      "metadata": {
        "id": "view-in-github",
        "colab_type": "text"
      },
      "source": [
        "<a href=\"https://colab.research.google.com/github/frank-morales2020/MLxDL/blob/main/MISTRAL_API_TUTORIAL_MISTRALSMALL3DOT1.ipynb\" target=\"_parent\"><img src=\"https://colab.research.google.com/assets/colab-badge.svg\" alt=\"Open In Colab\"/></a>"
      ]
    },
    {
      "cell_type": "markdown",
      "source": [
        "https://docs.mistral.ai/platform/client/\n",
        "\n",
        "https://github.com/mistralai/client-python\n",
        "\n",
        "https://docs.mistral.ai/getting-started/models/models_overview/"
      ],
      "metadata": {
        "id": "HFSQBSaVuYEu"
      }
    },
    {
      "cell_type": "markdown",
      "source": [
        "# Dependencies and Settings"
      ],
      "metadata": {
        "id": "NesDaI4OICGe"
      }
    },
    {
      "cell_type": "code",
      "source": [
        "!pip install colab-env --quiet\n",
        "!pip install mistralai --quiet\n",
        "\n",
        "# Install Hugging Face libraries\n",
        "!pip install  --upgrade transformers datasets accelerate evaluate bitsandbytes --quiet"
      ],
      "metadata": {
        "id": "ghqAXWE-xJa_"
      },
      "execution_count": 20,
      "outputs": []
    },
    {
      "cell_type": "code",
      "source": [
        "import mistralai\n",
        "from mistralai.client import MistralClient\n",
        "#from mistralai.models.chat_completion import ChatMessage\n",
        "import os\n",
        "import colab_env\n",
        "import json"
      ],
      "metadata": {
        "id": "a87Hog_P8h9P"
      },
      "execution_count": 21,
      "outputs": []
    },
    {
      "cell_type": "markdown",
      "source": [
        "# MISTRAL API SETTINGS"
      ],
      "metadata": {
        "id": "9V3yq8LLuqdT"
      }
    },
    {
      "cell_type": "code",
      "source": [
        "from mistralai import Mistral\n",
        "api_key = os.environ[\"MISTRAL_API_KEY\"]\n",
        "client = Mistral(api_key=api_key)"
      ],
      "metadata": {
        "id": "NnLef38upn75"
      },
      "execution_count": 22,
      "outputs": []
    },
    {
      "cell_type": "markdown",
      "source": [
        "# Function Definitions"
      ],
      "metadata": {
        "id": "5axbl8pdofkY"
      }
    },
    {
      "cell_type": "code",
      "source": [
        "def mistral_chat(prompt, model, client, stream):\n",
        "    # Removed MistralClient instantiation\n",
        "    messages = [{\"role\": \"user\", \"content\": prompt}]  # Use dictionary for messages\n",
        "    if stream:\n",
        "        print(\"Streaming\")\n",
        "        print()\n",
        "        print('Answer: ')\n",
        "        # Use client.chat.complete_stream for streaming\n",
        "        for chunk in client.chat.complete_stream(model=model, messages=messages):\n",
        "            if chunk.choices[0].delta.content is not None:\n",
        "                print(chunk.choices[0].delta.content, end=\"\")\n",
        "    else:\n",
        "        # Use client.chat.complete for non-streaming\n",
        "        chat_response = client.chat.complete(model=model, messages=messages, temperature=0.9)\n",
        "        return chat_response"
      ],
      "metadata": {
        "id": "7UgmK-jmBKfa"
      },
      "execution_count": 23,
      "outputs": []
    },
    {
      "cell_type": "code",
      "source": [
        "def create_prompt_formats(sample):\n",
        "    \"\"\"\n",
        "    Format various fields of the sample ('instruction','output')\n",
        "    Then concatenate them using two newline characters\n",
        "    :param sample: Sample dictionnary\n",
        "    \"\"\"\n",
        "    INTRO_BLURB = \"Below is an instruction that describes a task. Write a response that appropriately completes the request.\"\n",
        "    INSTRUCTION_KEY = \"### Instruct: Summarize the below conversation.\"\n",
        "    RESPONSE_KEY = \"### Output:\"\n",
        "    END_KEY = \"### End\"\n",
        "\n",
        "    blurb = f\"\\n{INTRO_BLURB}\"\n",
        "    instruction = f\"{INSTRUCTION_KEY}\"\n",
        "    input_context = f\"{sample['dialogue']}\" if sample[\"dialogue\"] else None\n",
        "    response = f\"{RESPONSE_KEY}\\n{sample['summary']}\"\n",
        "    end = f\"{END_KEY}\"\n",
        "\n",
        "    parts = [part for part in [blurb, instruction, input_context, response, end] if part]\n",
        "\n",
        "    formatted_prompt = \"\\n\\n\".join(parts)\n",
        "    sample[\"text\"] = formatted_prompt\n",
        "\n",
        "    return sample"
      ],
      "metadata": {
        "id": "LY2NjeYtpGet"
      },
      "execution_count": 24,
      "outputs": []
    },
    {
      "cell_type": "markdown",
      "source": [
        "# Managenment"
      ],
      "metadata": {
        "id": "Rwwy34zSFHD2"
      }
    },
    {
      "cell_type": "code",
      "source": [
        "client = Mistral(api_key=api_key)  # Use MistralClient instead of Mistral\n",
        "model_list = client.models.list()\n",
        "\n",
        "for model in model_list.data:\n",
        "    print(model.id)\n",
        "    #print(model.created)\n",
        "    #print(model.owned_by)"
      ],
      "metadata": {
        "id": "kJGSPIMaDBPv",
        "colab": {
          "base_uri": "https://localhost:8080/"
        },
        "outputId": "c03c49aa-885e-478b-f093-3bf7ddddc577"
      },
      "execution_count": 25,
      "outputs": [
        {
          "output_type": "stream",
          "name": "stdout",
          "text": [
            "ministral-3b-2410\n",
            "ministral-3b-latest\n",
            "ministral-8b-2410\n",
            "ministral-8b-latest\n",
            "open-mistral-7b\n",
            "mistral-tiny\n",
            "mistral-tiny-2312\n",
            "open-mistral-nemo\n",
            "open-mistral-nemo-2407\n",
            "mistral-tiny-2407\n",
            "mistral-tiny-latest\n",
            "open-mixtral-8x7b\n",
            "mistral-small\n",
            "mistral-small-2312\n",
            "open-mixtral-8x22b\n",
            "open-mixtral-8x22b-2404\n",
            "mistral-small-2402\n",
            "mistral-small-2409\n",
            "mistral-medium-2312\n",
            "mistral-medium\n",
            "mistral-medium-latest\n",
            "mistral-large-2402\n",
            "mistral-large-2407\n",
            "mistral-large-2411\n",
            "mistral-large-latest\n",
            "pixtral-large-2411\n",
            "pixtral-large-latest\n",
            "mistral-large-pixtral-2411\n",
            "codestral-2405\n",
            "codestral-2501\n",
            "codestral-latest\n",
            "codestral-2412\n",
            "codestral-2411-rc5\n",
            "codestral-mamba-2407\n",
            "open-codestral-mamba\n",
            "codestral-mamba-latest\n",
            "pixtral-12b-2409\n",
            "pixtral-12b\n",
            "pixtral-12b-latest\n",
            "mistral-small-2501\n",
            "mistral-small-2503\n",
            "mistral-small-latest\n",
            "mistral-saba-2502\n",
            "mistral-saba-latest\n",
            "mistral-embed\n",
            "mistral-moderation-2411\n",
            "mistral-moderation-latest\n",
            "mistral-ocr-2503\n",
            "mistral-ocr-latest\n"
          ]
        }
      ]
    },
    {
      "cell_type": "markdown",
      "source": [
        "https://mistral.ai/news/mistral-small-3"
      ],
      "metadata": {
        "id": "3Dem3fc9dN1P"
      }
    },
    {
      "cell_type": "code",
      "source": [
        "model=model_list.data[41].id\n",
        "model"
      ],
      "metadata": {
        "colab": {
          "base_uri": "https://localhost:8080/",
          "height": 35
        },
        "id": "5uO56886bzN0",
        "outputId": "71bde5c7-3f97-479c-ac7b-d0aafceb03a4"
      },
      "execution_count": 30,
      "outputs": [
        {
          "output_type": "execute_result",
          "data": {
            "text/plain": [
              "'mistral-small-latest'"
            ],
            "application/vnd.google.colaboratory.intrinsic+json": {
              "type": "string"
            }
          },
          "metadata": {},
          "execution_count": 30
        }
      ]
    },
    {
      "cell_type": "code",
      "source": [
        "messages = [{\"role\": \"user\", \"content\": \"What is the best French cheese?\"}]\n",
        "\n",
        "chat_response = client.chat.complete(  # Use client.chat.complete\n",
        "    model=model,\n",
        "    messages=messages,\n",
        ")\n",
        "print(chat_response.choices[0].message.content)"
      ],
      "metadata": {
        "id": "fgqaQVZ6W7GA",
        "colab": {
          "base_uri": "https://localhost:8080/"
        },
        "outputId": "cfb2ed0b-3747-48d7-99ec-a44de356a3c6"
      },
      "execution_count": 27,
      "outputs": [
        {
          "output_type": "stream",
          "name": "stdout",
          "text": [
            "Choosing the \"best\" French cheese can be highly subjective, as it depends on personal taste preferences. France is renowned for its diverse and high-quality cheeses, with over 400 varieties. Here are a few highly regarded ones across different categories:\n",
            "\n",
            "1. **Soft Cheeses**:\n",
            "   - **Camembert de Normandie**: Known for its creamy texture and rich flavor.\n",
            "   - **Brie de Meaux**: A classic French cheese with a buttery texture and earthy notes.\n",
            "\n",
            "2. **Semi-Soft Cheeses**:\n",
            "   - **Morbier**: A cheese with a distinctive line of ash in the middle, offering a unique flavor profile.\n",
            "   - **Reblochon**: Known for its creamy texture and slightly nutty flavor.\n",
            "\n",
            "3. **Hard Cheeses**:\n",
            "   - **Comté**: A nutty and complex cheese that pairs well with many dishes.\n",
            "   - **Beaufort**: Often compared to Gruyère, it has a rich, nutty flavor.\n",
            "\n",
            "4. **Blue Cheeses**:\n",
            "   - **Roquefort**: One of the oldest known cheeses, with a strong, tangy flavor.\n",
            "   - **Bleu d'Auvergne**: A milder blue cheese with a creamy texture.\n",
            "\n",
            "5. **Goat Cheeses**:\n",
            "   - **Chèvre**: Available in various forms, from fresh and creamy to aged and crumbly.\n",
            "   - **Sainte-Maure de Touraine**: A log-shaped goat cheese with a distinctive flavor.\n",
            "\n",
            "6. **Specialty Cheeses**:\n",
            "   - **Munster-Gérardmer**: A strong, pungent cheese from the Alsace region.\n",
            "   - **Tomme de Savoie**: A rustic, semi-hard cheese with a mild, nutty flavor.\n",
            "\n",
            "Ultimately, the \"best\" French cheese is the one that you enjoy the most. It's worth trying a variety to discover your personal favorite!\n"
          ]
        }
      ]
    },
    {
      "cell_type": "markdown",
      "source": [
        "# BOB TRAVEL APP"
      ],
      "metadata": {
        "id": "DjA7Fi2H2JIr"
      }
    },
    {
      "cell_type": "code",
      "source": [
        "from IPython.display import Markdown\n",
        "import textwrap\n",
        "def to_markdown(text):\n",
        "  text = text.replace('•', '  *')\n",
        "  return Markdown(textwrap.indent(text, '> ', predicate=lambda _: True))"
      ],
      "metadata": {
        "id": "strCIUnwX2u8"
      },
      "execution_count": 28,
      "outputs": []
    },
    {
      "cell_type": "code",
      "source": [
        "prompt= 'How do you plan out your trip? \\\n",
        "Bob is travelling to SAT from YVR \\\n",
        "1. He has a connection in DFW \\\n",
        "2. His connection is 6 hours long \\\n",
        "3. He has a budget of 100.00 including meals \\\n",
        "4. What can he do? Please suggest a time. \\\n",
        "5. Know- he is a hiker, museum, foodie, has a carry-on bag'\n",
        "\n",
        "print(prompt)\n",
        "\n",
        "response=mistral_chat(prompt,model,client,stream=False)\n",
        "\n",
        "print('\\n\\n')\n",
        "print('Answer: ')\n",
        "#print(response.choices[0].message.content)\n",
        "to_markdown(response.choices[0].message.content)"
      ],
      "metadata": {
        "id": "c5NHp3XLTCYU",
        "colab": {
          "base_uri": "https://localhost:8080/",
          "height": 1000
        },
        "outputId": "d067edbb-8795-4e79-cbe7-ba2f33b97ec2"
      },
      "execution_count": 29,
      "outputs": [
        {
          "output_type": "stream",
          "name": "stdout",
          "text": [
            "How do you plan out your trip? Bob is travelling to SAT from YVR 1. He has a connection in DFW 2. His connection is 6 hours long 3. He has a budget of 100.00 including meals 4. What can he do? Please suggest a time. 5. Know- he is a hiker, museum, foodie, has a carry-on bag\n",
            "\n",
            "\n",
            "\n",
            "Answer: \n"
          ]
        },
        {
          "output_type": "execute_result",
          "data": {
            "text/plain": [
              "<IPython.core.display.Markdown object>"
            ],
            "text/markdown": "> Planning a trip with a long layover and a budget can be both fun and challenging. Here’s a suggested plan for Bob’s trip from Vancouver (YVR) to San Antonio (SAT) with a connection in Dallas Fort Worth (DFW):\n> \n> ### 1. **Arrival and Layover in DFW**\n> - **Arrival Time:** Let's assume Bob's flight from YVR to DFW arrives at 10:00 AM.\n> - **Departure Time:** His connecting flight to SAT is at 4:00 PM.\n> \n> ### 2. **Activities in DFW**\n> Given Bob's interests in hiking, museums, and food, here’s a suggested itinerary:\n> \n> #### **10:00 AM - 10:30 AM: Transportation**\n> - **Transportation:** Use the DFW Airport’s Skylink train to get to Terminal E, where you can find the DFW Airport Station for the Trinity Railway Express (TRE) to downtown Dallas.\n> - **Cost:** Approx. $5 for the Skylink and $5 for the TRE. Total: $10.\n> \n> #### **10:30 AM - 11:30 AM: Breakfast**\n> - **Breakfast:** Head to a nearby café or food truck for a quick breakfast. Options include:\n>   - **The Original Pancake House:** A classic American breakfast.\n>   - **Local Food Trucks:** Check out options like Pecan Lodge or Lockhart Smokehouse for a hearty meal.\n> - **Cost:** Approx. $10.\n> \n> #### **11:30 AM - 1:00 PM: Hiking**\n> - **Hiking:** Visit the Trinity River Audubon Center for a short hike. It’s about a 30-minute drive from downtown.\n> - **Transportation:** Use public transportation or a rideshare service.\n> - **Cost:** Approx. $10 for rideshare.\n> \n> #### **1:00 PM - 2:00 PM: Lunch**\n> - **Lunch:** Head back to downtown Dallas for lunch. Options include:\n>   - **Deep Ellum:** Known for its food trucks and live music.\n>   - **Bishop Arts District:** Offers a variety of dining options.\n> - **Cost:** Approx. $15.\n> \n> #### **2:00 PM - 3:30 PM: Museum**\n> - **Museum:** Visit the Dallas Museum of Art, which is free to enter.\n> - **Cost:** Free.\n> \n> #### **3:30 PM - 4:00 PM: Return to DFW**\n> - **Return:** Head back to DFW Airport using the TRE and Skylink.\n> - **Cost:** Approx. $10.\n> \n> ### 3. **Budget Breakdown**\n> - **Transportation:** $20 (Skylink, TRE, rideshare)\n> - **Meals:** $25 (Breakfast, Lunch)\n> - **Miscellaneous:** $5 (Snacks, water, etc.)\n> - **Total:** $50\n> \n> ### 4. **Remaining Budget**\n> - **Remaining Budget:** $50 (Out of $100)\n> \n> ### 5. **Tips for a Smooth Layover**\n> - **Pack Light:** Since Bob has a carry-on, ensure he has comfortable walking shoes and a light jacket.\n> - **Stay Hydrated:** Bring a reusable water bottle to refill at airports and attractions.\n> - **Check Flight Status:** Keep an eye on flight statuses in case of delays.\n> \n> ### 6. **Alternative Plan**\n> If Bob prefers to stay closer to the airport, he can:\n> - **Explore Terminal E:** There are dining options and small shops.\n> - **Relax in a Lounge:** If he has access to an airport lounge, he can relax and recharge.\n> - **Short Walk:** Take a short walk around the terminal to stretch his legs.\n> \n> ### 7. **Time Management**\n> - **Arrive Early:** Aim to arrive at the airport at least 2 hours before the connecting flight to SAT.\n> - **Check Gate Information:** Regularly check the gate information for any changes.\n> \n> By following this plan, Bob can make the most of his 6-hour layover in DFW, enjoying a bit of hiking, visiting a museum, and trying local food, all within his budget."
          },
          "metadata": {},
          "execution_count": 29
        }
      ]
    }
  ]
}