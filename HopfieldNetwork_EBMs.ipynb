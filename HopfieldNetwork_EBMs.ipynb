{
  "nbformat": 4,
  "nbformat_minor": 0,
  "metadata": {
    "colab": {
      "provenance": [],
      "collapsed_sections": [
        "C9VV091Kyc-n",
        "VK8jWu2jdoi-"
      ],
      "authorship_tag": "ABX9TyOWO4BxNjw9AENOBi5ud7Yg",
      "include_colab_link": true
    },
    "kernelspec": {
      "name": "python3",
      "display_name": "Python 3"
    },
    "language_info": {
      "name": "python"
    }
  },
  "cells": [
    {
      "cell_type": "markdown",
      "metadata": {
        "id": "view-in-github",
        "colab_type": "text"
      },
      "source": [
        "<a href=\"https://colab.research.google.com/github/frank-morales2020/MLxDL/blob/main/HopfieldNetwork_EBMs.ipynb\" target=\"_parent\"><img src=\"https://colab.research.google.com/assets/colab-badge.svg\" alt=\"Open In Colab\"/></a>"
      ]
    },
    {
      "cell_type": "markdown",
      "source": [
        "## HopfieldNetwork"
      ],
      "metadata": {
        "id": "Jh2ZB9YCdtN4"
      }
    },
    {
      "cell_type": "markdown",
      "source": [
        "### Training"
      ],
      "metadata": {
        "id": "AVHOBysJyqPQ"
      }
    },
    {
      "cell_type": "code",
      "source": [
        "import torch\n",
        "import torch.nn as nn\n",
        "from torch.utils.data import DataLoader\n",
        "from torchvision import datasets\n",
        "from torchvision.transforms import ToTensor\n",
        "from tqdm import tqdm\n",
        "import matplotlib.pyplot as plt\n",
        "import numpy as np\n",
        "\n",
        "# Define your dataset\n",
        "train_data = datasets.MNIST(\n",
        "    root='data',\n",
        "    train=True,\n",
        "    download=True,\n",
        "    transform=ToTensor()\n",
        ")\n",
        "\n",
        "# Create a DataLoader\n",
        "data_loader = DataLoader(train_data, batch_size=64, shuffle=True)\n",
        "\n",
        "# Define the number of epochs\n",
        "num_epochs = 10\n",
        "\n",
        "# Early stopping parameters\n",
        "patience = 3  # Number of epochs to wait for improvement\n",
        "best_loss = float('inf')\n",
        "epochs_without_improvement = 0\n",
        "\n",
        "\n",
        "def calculate_loss(initial_state, updated_state, model):\n",
        "    initial_energy = model.energy(initial_state)\n",
        "    updated_energy = model.energy(updated_state)\n",
        "    return torch.mean(updated_energy - initial_energy)  # CD loss\n",
        "\n",
        "\n",
        "# Define your Hopfield network model\n",
        "class HopfieldNetwork(nn.Module):\n",
        "    def __init__(self, num_neurons):\n",
        "        super(HopfieldNetwork, self).__init__()\n",
        "        # Initialize weights with small random values\n",
        "        self.weights = nn.Parameter(torch.randn(num_neurons, num_neurons) * 0.01)\n",
        "\n",
        "    def energy(self, state):\n",
        "        # Reshape state to a 2D matrix (squeeze the middle dimension)\n",
        "        state = state.squeeze(1)\n",
        "        return -0.5 * torch.mm(state, torch.mm(self.weights, state.t()))\n",
        "\n",
        "    def forward(self, state):\n",
        "        # Vectorized update rule\n",
        "        flattened_state = state.view(state.size(0), -1)\n",
        "        activation = torch.matmul(flattened_state, self.weights.t())\n",
        "        updated_state = torch.sign(activation)\n",
        "        return updated_state\n",
        "\n",
        "    def sample(self, initial_state, num_steps=10):\n",
        "        \"\"\"\n",
        "        Performs Gibbs sampling to generate samples from the model.\n",
        "        \"\"\"\n",
        "        state = initial_state.clone()\n",
        "        for _ in range(num_steps):\n",
        "            for i in range(state.size(1)):  # Iterate over neurons\n",
        "                energy_on = self.energy(state.clone().fill_(1))  # Energy with neuron i ON\n",
        "                energy_off = self.energy(state.clone().fill_(-1))  # Energy with neuron i OFF\n",
        "                p_on = torch.exp(-energy_on) / (torch.exp(-energy_on) + torch.exp(-energy_off))\n",
        "                state[:, i] = torch.bernoulli(p_on) * 2 - 1  # Sample the neuron's state\n",
        "        return state\n",
        "\n",
        "\n",
        "# Example usage\n",
        "model = HopfieldNetwork(num_neurons=784)  # 784 for MNIST images\n",
        "optimizer = torch.optim.Adam(model.parameters(), lr=0.001)\n",
        "\n",
        "# Training loop with tqdm progress bar, CD, and early stopping\n",
        "for epoch in range(num_epochs):\n",
        "    epoch_energy = 0\n",
        "    epoch_loss = 0\n",
        "    with tqdm(data_loader, unit=\"batch\") as tepoch:\n",
        "        for batch_idx, (data, target) in enumerate(tepoch):\n",
        "            tepoch.set_description(f\"Epoch {epoch+1}\")\n",
        "            optimizer.zero_grad()\n",
        "            data = data.view(data.size(0), -1)\n",
        "            initial_state = data\n",
        "            states = model(data)\n",
        "            energy = model.energy(states)\n",
        "            mean_energy = torch.mean(energy)\n",
        "            epoch_energy += mean_energy.item()\n",
        "            loss = calculate_loss(initial_state, states, model)\n",
        "            epoch_loss += loss.item()\n",
        "            loss.backward()\n",
        "            optimizer.step()\n",
        "            tepoch.set_postfix(loss=loss.item())\n",
        "\n",
        "    # Print average energy and loss for the epoch\n",
        "    avg_epoch_energy = epoch_energy / len(data_loader)\n",
        "    avg_epoch_loss = epoch_loss / len(data_loader)\n",
        "    print(f\"Epoch {epoch+1}: Average Energy = {avg_epoch_energy:.4f}, Average Loss = {avg_epoch_loss:.4f}\")\n",
        "\n",
        "    # Early stopping check\n",
        "    if avg_epoch_loss < best_loss:\n",
        "        best_loss = avg_epoch_loss\n",
        "        epochs_without_improvement = 0\n",
        "    else:\n",
        "        epochs_without_improvement += 1\n",
        "        if epochs_without_improvement >= patience:\n",
        "            print(f\"Early stopping at epoch {epoch+1}\")\n",
        "            break\n",
        "\n",
        "\n",
        "def add_noise(images, noise_level=0.3):\n",
        "    \"\"\"Adds Gaussian noise to images.\"\"\"\n",
        "    noise = torch.randn(images.size()) * noise_level\n",
        "    noisy_images = images + noise\n",
        "    noisy_images = torch.clamp(noisy_images, 0, 1)  # Keep pixel values between 0 and 1\n",
        "    return noisy_images\n",
        "\n",
        "\n",
        "def test_reconstruction(model, data_loader, noise_level=0.3, num_updates=10):\n",
        "    \"\"\"Tests the network's ability to reconstruct noisy images.\"\"\"\n",
        "    with torch.no_grad():\n",
        "        for data, target in data_loader:\n",
        "            data = data.view(data.size(0), -1)\n",
        "            noisy_data = add_noise(data, noise_level)\n",
        "\n",
        "            # Run the update step multiple times\n",
        "            current_state = noisy_data.clone()\n",
        "            for _ in range(num_updates):\n",
        "                current_state = model(current_state)\n",
        "\n",
        "            # Visual comparison\n",
        "            for i in range(data.size(0)):\n",
        "                plt.figure(figsize=(8, 4))\n",
        "                plt.subplot(1, 3, 1)\n",
        "                plt.imshow(data[i].reshape(28, 28), cmap='gray')\n",
        "                plt.title('Original')\n",
        "                plt.subplot(1, 3, 2)\n",
        "                plt.imshow(noisy_data[i].reshape(28, 28), cmap='gray')\n",
        "                plt.title('Noisy')\n",
        "                plt.subplot(1, 3, 3)\n",
        "                plt.imshow(current_state[i].reshape(28, 28), cmap='gray')\n",
        "                plt.title('Reconstructed')\n",
        "                plt.show()\n",
        "\n",
        "\n",
        "def test_generation(model, num_samples=10, num_steps=100):\n",
        "    \"\"\"Tests the network's ability to generate samples.\"\"\"\n",
        "    initial_state = torch.randn(num_samples, 784)  # Random initial states\n",
        "    samples = model.sample(initial_state,\n",
        "                           num_steps)  # Assuming you've implemented the sample method\n",
        "\n",
        "    # Visualize the generated samples\n",
        "    plt.figure(figsize=(10, 5))\n",
        "    for i in range(num_samples):\n",
        "        plt.subplot(2, 5, i + 1)\n",
        "        plt.imshow(samples[i].reshape(28, 28), cmap='gray')\n",
        "    plt.show()\n",
        "\n",
        "\n",
        "def visualize_weights(model):\n",
        "    \"\"\"Visualizes the learned weight matrix.\"\"\"\n",
        "    plt.figure(figsize=(10, 5))\n",
        "    for i in range(10):\n",
        "        plt.subplot(2, 5, i + 1)\n",
        "        plt.imshow(model.weights.detach().numpy()[:, i].reshape(28, 28),\n",
        "                   cmap='gray')\n",
        "        plt.title(f'Neuron {i}')\n",
        "    plt.show()\n",
        "\n",
        "\n",
        "# After training:\n",
        "#test_reconstruction(model, data_loader)\n",
        "#test_generation(model)\n",
        "#visualize_weights(model)"
      ],
      "metadata": {
        "colab": {
          "base_uri": "https://localhost:8080/"
        },
        "id": "h8I2APeubC87",
        "outputId": "67ec0512-4f7c-421d-e8a8-ddc593d74c2f"
      },
      "execution_count": 2,
      "outputs": [
        {
          "output_type": "stream",
          "name": "stderr",
          "text": [
            "Epoch 1: 100%|██████████| 938/938 [00:34<00:00, 27.02batch/s, loss=-7.23e+3]\n"
          ]
        },
        {
          "output_type": "stream",
          "name": "stdout",
          "text": [
            "Epoch 1: Average Energy = -383.7231, Average Loss = -392.2459\n"
          ]
        },
        {
          "output_type": "stream",
          "name": "stderr",
          "text": [
            "Epoch 2: 100%|██████████| 938/938 [00:35<00:00, 26.30batch/s, loss=-1.18e+4]\n"
          ]
        },
        {
          "output_type": "stream",
          "name": "stdout",
          "text": [
            "Epoch 2: Average Energy = -1661.8903, Average Loss = -1692.9121\n"
          ]
        },
        {
          "output_type": "stream",
          "name": "stderr",
          "text": [
            "Epoch 3: 100%|██████████| 938/938 [00:35<00:00, 26.66batch/s, loss=-7.56e+3]\n"
          ]
        },
        {
          "output_type": "stream",
          "name": "stdout",
          "text": [
            "Epoch 3: Average Energy = -2791.1073, Average Loss = -2846.6778\n"
          ]
        },
        {
          "output_type": "stream",
          "name": "stderr",
          "text": [
            "Epoch 4: 100%|██████████| 938/938 [00:34<00:00, 27.12batch/s, loss=-854]\n"
          ]
        },
        {
          "output_type": "stream",
          "name": "stdout",
          "text": [
            "Epoch 4: Average Energy = -4337.7568, Average Loss = -4418.3326\n"
          ]
        },
        {
          "output_type": "stream",
          "name": "stderr",
          "text": [
            "Epoch 5: 100%|██████████| 938/938 [00:35<00:00, 26.48batch/s, loss=-375]\n"
          ]
        },
        {
          "output_type": "stream",
          "name": "stdout",
          "text": [
            "Epoch 5: Average Energy = -5726.0706, Average Loss = -5832.8943\n"
          ]
        },
        {
          "output_type": "stream",
          "name": "stderr",
          "text": [
            "Epoch 6: 100%|██████████| 938/938 [00:34<00:00, 27.04batch/s, loss=-4.74e+3]\n"
          ]
        },
        {
          "output_type": "stream",
          "name": "stdout",
          "text": [
            "Epoch 6: Average Energy = -6846.1154, Average Loss = -6978.2553\n"
          ]
        },
        {
          "output_type": "stream",
          "name": "stderr",
          "text": [
            "Epoch 7: 100%|██████████| 938/938 [00:35<00:00, 26.63batch/s, loss=-65495.0]\n"
          ]
        },
        {
          "output_type": "stream",
          "name": "stdout",
          "text": [
            "Epoch 7: Average Energy = -9130.1373, Average Loss = -9288.7531\n"
          ]
        },
        {
          "output_type": "stream",
          "name": "stderr",
          "text": [
            "Epoch 8: 100%|██████████| 938/938 [00:35<00:00, 26.64batch/s, loss=-126]\n"
          ]
        },
        {
          "output_type": "stream",
          "name": "stdout",
          "text": [
            "Epoch 8: Average Energy = -9188.8458, Average Loss = -9373.5295\n"
          ]
        },
        {
          "output_type": "stream",
          "name": "stderr",
          "text": [
            "Epoch 9: 100%|██████████| 938/938 [00:34<00:00, 27.22batch/s, loss=-1.55e+4]\n"
          ]
        },
        {
          "output_type": "stream",
          "name": "stdout",
          "text": [
            "Epoch 9: Average Energy = -10106.5146, Average Loss = -10316.1774\n"
          ]
        },
        {
          "output_type": "stream",
          "name": "stderr",
          "text": [
            "Epoch 10: 100%|██████████| 938/938 [00:35<00:00, 26.59batch/s, loss=-5.07e+4]"
          ]
        },
        {
          "output_type": "stream",
          "name": "stdout",
          "text": [
            "Epoch 10: Average Energy = -11957.1898, Average Loss = -12192.9030\n"
          ]
        },
        {
          "output_type": "stream",
          "name": "stderr",
          "text": [
            "\n"
          ]
        }
      ]
    },
    {
      "cell_type": "markdown",
      "source": [
        "### Evaluation\n"
      ],
      "metadata": {
        "id": "C9VV091Kyc-n"
      }
    },
    {
      "cell_type": "code",
      "source": [
        "import torch\n",
        "import torch.nn as nn\n",
        "from torch.utils.data import DataLoader\n",
        "from torchvision import datasets, transforms\n",
        "from tqdm import tqdm\n",
        "\n",
        "# Load MNIST test dataset\n",
        "test_dataset = datasets.MNIST(\n",
        "    root=\"./data\", train=False, download=True, transform=transforms.ToTensor()\n",
        ")\n",
        "test_loader = torch.utils.data.DataLoader(test_dataset, batch_size=64, shuffle=False)\n",
        "\n",
        "# Evaluate the model\n",
        "def evaluate(model, test_loader):\n",
        "    model.eval()  # Set the model to evaluation mode\n",
        "    test_loss = 0\n",
        "    with torch.no_grad():\n",
        "        for data, _ in test_loader:\n",
        "            # Flatten the input data\n",
        "            data = data.view(data.size(0), -1)\n",
        "            # Update the state using the model\n",
        "            updated_state = model(data)\n",
        "            # Calculate the energy of the updated state\n",
        "            test_loss += torch.mean(model.energy(updated_state)).item()\n",
        "\n",
        "    test_loss /= len(test_loader)\n",
        "    print(f\"Eval Loss: {test_loss:.4f}\")\n",
        "\n",
        "# Assuming 'model' is your trained HopfieldNetwork instance\n",
        "evaluate(model, test_loader)"
      ],
      "metadata": {
        "colab": {
          "base_uri": "https://localhost:8080/"
        },
        "id": "voD4HZJBa8qu",
        "outputId": "70e741b2-cc28-481e-f4fc-da7e60f9174d"
      },
      "execution_count": 3,
      "outputs": [
        {
          "output_type": "stream",
          "name": "stdout",
          "text": [
            "Eval Loss: -21015.2544\n"
          ]
        }
      ]
    },
    {
      "cell_type": "code",
      "source": [
        "import matplotlib.pyplot as plt\n",
        "\n",
        "\n",
        "# Get a batch of test data\n",
        "data_iter = iter(test_loader)\n",
        "images, labels = next(data_iter)\n",
        "\n",
        "# Flatten and pass through the model\n",
        "flattened_images = images.view(images.size(0), -1)\n",
        "updated_states = model(flattened_images)\n",
        "\n",
        "# Reshape updated states back to images\n",
        "reconstructed_images = updated_states.view(-1, 28, 28)\n",
        "\n",
        "# Plot some reconstructed images\n",
        "fig, axes = plt.subplots(nrows=2, ncols=5, figsize=(10, 5))\n",
        "for i, ax in enumerate(axes.flat):\n",
        "    ax.imshow(reconstructed_images[i].detach().numpy(), cmap='gray')\n",
        "    ax.set_title(f\"Label: {labels[i]}\")\n",
        "    ax.axis('off')\n",
        "plt.show()"
      ],
      "metadata": {
        "colab": {
          "base_uri": "https://localhost:8080/",
          "height": 402
        },
        "id": "3Wo9PB2NbMbC",
        "outputId": "0ac67c8a-9a73-4656-a9c6-08a5a9321ba1"
      },
      "execution_count": 4,
      "outputs": [
        {
          "output_type": "display_data",
          "data": {
            "text/plain": [
              "<Figure size 1000x500 with 10 Axes>"
            ],
            "image/png": "[encoded data removed]"
          },
          "metadata": {}
        }
      ]
    }
  ]
}