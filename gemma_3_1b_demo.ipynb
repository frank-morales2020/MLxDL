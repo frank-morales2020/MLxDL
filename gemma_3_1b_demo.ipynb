{
  "nbformat": 4,
  "nbformat_minor": 0,
  "metadata": {
    "colab": {
      "provenance": [],
      "collapsed_sections": [
        "eFAaw0CNjiQL",
        "ZVlvFrOcjksq"
      ],
      "machine_shape": "hm",
      "gpuType": "V28",
      "authorship_tag": "ABX9TyNbnSY2QASjv/VdXnnlCrTU",
      "include_colab_link": true
    },
    "kernelspec": {
      "name": "python3",
      "display_name": "Python 3"
    },
    "language_info": {
      "name": "python"
    },
    "accelerator": "TPU"
  },
  "cells": [
    {
      "cell_type": "markdown",
      "metadata": {
        "id": "view-in-github",
        "colab_type": "text"
      },
      "source": [
        "<a href=\"https://colab.research.google.com/github/frank-morales2020/MLxDL/blob/main/gemma_3_1b_demo.ipynb\" target=\"_parent\"><img src=\"https://colab.research.google.com/assets/colab-badge.svg\" alt=\"Open In Colab\"/></a>"
      ]
    },
    {
      "cell_type": "markdown",
      "source": [
        "# GPU"
      ],
      "metadata": {
        "id": "5xHSkPgnj8xB"
      }
    },
    {
      "cell_type": "code",
      "source": [
        "!nvidia-smi"
      ],
      "metadata": {
        "colab": {
          "base_uri": "https://localhost:8080/"
        },
        "id": "69oSBRtNjJuq",
        "outputId": "44cde3b1-5aa4-453e-8b62-dc9ad14462e8"
      },
      "execution_count": 5,
      "outputs": [
        {
          "output_type": "stream",
          "name": "stdout",
          "text": [
            "Sat Aug 16 06:27:22 2025       \n",
            "+-----------------------------------------------------------------------------------------+\n",
            "| NVIDIA-SMI 550.54.15              Driver Version: 550.54.15      CUDA Version: 12.4     |\n",
            "|-----------------------------------------+------------------------+----------------------+\n",
            "| GPU  Name                 Persistence-M | Bus-Id          Disp.A | Volatile Uncorr. ECC |\n",
            "| Fan  Temp   Perf          Pwr:Usage/Cap |           Memory-Usage | GPU-Util  Compute M. |\n",
            "|                                         |                        |               MIG M. |\n",
            "|=========================================+========================+======================|\n",
            "|   0  NVIDIA L4                      Off |   00000000:00:03.0 Off |                    0 |\n",
            "| N/A   76C    P0             35W /   72W |    8929MiB /  23034MiB |      0%      Default |\n",
            "|                                         |                        |                  N/A |\n",
            "+-----------------------------------------+------------------------+----------------------+\n",
            "                                                                                         \n",
            "+-----------------------------------------------------------------------------------------+\n",
            "| Processes:                                                                              |\n",
            "|  GPU   GI   CI        PID   Type   Process name                              GPU Memory |\n",
            "|        ID   ID                                                               Usage      |\n",
            "|=========================================================================================|\n",
            "+-----------------------------------------------------------------------------------------+\n"
          ]
        }
      ]
    },
    {
      "cell_type": "code",
      "execution_count": null,
      "metadata": {
        "id": "1PRuby8Egz0h"
      },
      "outputs": [],
      "source": [
        "import torch\n",
        "from transformers import pipeline\n",
        "from google.colab import userdata\n",
        "\n",
        "# You must log in to the Hugging Face Hub using your access token.\n",
        "# You can do this by running `huggingface-cli login` in your terminal\n",
        "# or by using the `login` function in your script.\n",
        "from huggingface_hub import login\n",
        "\n",
        "\n",
        "token=userdata.get('HF_TOKEN')\n",
        "login(token=token)\n",
        "\n",
        "# Define the model ID.\n",
        "model_id = \"google/gemma-3-1b-it\"\n",
        "\n",
        "# Initialize the text-generation pipeline.\n",
        "# We specify the model, device ('cuda' for GPU, 'cpu' for CPU),\n",
        "# and the data type for memory efficiency.\n",
        "pipe = pipeline(\n",
        "    \"text-generation\",\n",
        "    model=model_id,\n",
        "    device=\"cuda\",  # Use \"cpu\" if you don't have a GPU\n",
        "    torch_dtype=torch.bfloat16\n",
        ")\n",
        "\n",
        "# Create a prompt using the Gemma 3 chat template.\n",
        "# This template is crucial for multi-turn conversations and ensures the model\n",
        "# understands the roles (user, assistant, system).\n",
        "messages = [\n",
        "    {\"role\": \"user\", \"content\": \"What is the capital of France?\"}\n",
        "]"
      ]
    },
    {
      "cell_type": "code",
      "source": [
        "# Generate a response.\n",
        "outputs = pipe(\n",
        "    messages,\n",
        "    max_new_tokens=256,\n",
        ")\n",
        "\n",
        "# Print the generated text from the model's response.\n",
        "# The 'generated_text' will be a list of lists, so you need to\n",
        "# access the content from the last message.\n",
        "print(outputs[0]['generated_text'][-1]['content'])"
      ],
      "metadata": {
        "colab": {
          "base_uri": "https://localhost:8080/"
        },
        "id": "Sg4pAIIkiUEG",
        "outputId": "fc83f4d2-7ddf-46cb-e59f-39e75db187ca"
      },
      "execution_count": 2,
      "outputs": [
        {
          "output_type": "stream",
          "name": "stdout",
          "text": [
            "The capital of France is **Paris**. \n",
            "\n",
            "It’s a common misconception that Paris is the capital of *all* of France, but it’s the political, economic, and cultural center.\n"
          ]
        }
      ]
    },
    {
      "cell_type": "code",
      "source": [
        "import torch\n",
        "from transformers import AutoProcessor, pipeline\n",
        "from huggingface_hub import login\n",
        "\n",
        "from google.colab import userdata\n",
        "\n",
        "token=userdata.get('HF_TOKEN')\n",
        "login(token=token)\n",
        "\n",
        "# Define the multimodal model ID\n",
        "multimodal_model_id = \"google/gemma-3-4b-it\"\n",
        "\n",
        "# Initialize the processor and pipeline\n",
        "processor = AutoProcessor.from_pretrained(multimodal_model_id)\n",
        "pipe = pipeline(\n",
        "    \"image-text-to-text\",\n",
        "    model=multimodal_model_id,\n",
        "    device=\"cuda\",\n",
        "    torch_dtype=torch.bfloat16\n",
        ")\n"
      ],
      "metadata": {
        "id": "wAJFNSE7h4oo"
      },
      "execution_count": null,
      "outputs": []
    },
    {
      "cell_type": "code",
      "source": [
        "!wget https://huggingface.co/datasets/ariG23498/demo-data/resolve/main/airplane.jpg -O airplane.jpg\n"
      ],
      "metadata": {
        "id": "wJ5URCQWqTkH"
      },
      "execution_count": null,
      "outputs": []
    },
    {
      "cell_type": "code",
      "source": [
        "from IPython.display import Image\n",
        "display(Image('airplane.jpg'))"
      ],
      "metadata": {
        "colab": {
          "base_uri": "https://localhost:8080/",
          "height": 393
        },
        "id": "lG8Xa3fgq1rv",
        "outputId": "a98124ac-419b-4547-ffc3-f1d04f1c08b7"
      },
      "execution_count": 3,
      "outputs": [
        {
          "output_type": "display_data",
          "data": {
            "image/jpeg": "[encoded data removed]",
            "text/plain": [
              "<IPython.core.display.Image object>"
            ]
          },
          "metadata": {}
        }
      ]
    },
    {
      "cell_type": "code",
      "source": [
        "# Define the messages, including both image and text content\n",
        "messages = [\n",
        "    {\n",
        "        \"role\": \"user\",\n",
        "        \"content\": [\n",
        "            {\"type\": \"image\", \"url\": \"https://huggingface.co/datasets/ariG23498/demo-data/resolve/main/airplane.jpg\"},\n",
        "            {\"type\": \"text\", \"text\": \"Describe this image.\"}\n",
        "        ]\n",
        "    }\n",
        "]\n",
        "\n",
        "# Run the pipeline with the multimodal messages\n",
        "outputs = pipe(\n",
        "    messages,\n",
        "    max_new_tokens=32\n",
        ")\n",
        "\n",
        "# Print the model's response\n",
        "print(outputs[0][\"generated_text\"][-1][\"content\"])"
      ],
      "metadata": {
        "id": "TczMiRyribnI"
      },
      "execution_count": null,
      "outputs": []
    },
    {
      "cell_type": "markdown",
      "source": [
        "# TPU"
      ],
      "metadata": {
        "id": "9KP_q4MnjSen"
      }
    },
    {
      "cell_type": "markdown",
      "source": [
        "## TPU PROFILE"
      ],
      "metadata": {
        "id": "zv87_Uj7korr"
      }
    },
    {
      "cell_type": "code",
      "source": [
        "import torch\n",
        "import torch.nn as nn\n",
        "import torch.optim as optim\n",
        "import torch_xla.core.xla_model as xm\n",
        "\n",
        "# This function will be executed on each TPU device\n",
        "def _mp_fn(index, device):\n",
        "    print(f\"I am on device: {device}\")\n",
        "\n",
        "    # Get the number of devices available in the current distributed pod\n",
        "    num_devices = xm.xla_real_devices(devkind='TPU')\n",
        "    print(f\"Number of TPU devices found: {len(num_devices)}\")\n",
        "\n",
        "    # Define a simple PyTorch model\n",
        "    model = nn.Linear(10, 1).to(device)\n",
        "    criterion = nn.MSELoss()\n",
        "    optimizer = optim.SGD(model.parameters(), lr=0.01)\n",
        "\n",
        "    # Dummy data\n",
        "    inputs = torch.randn(64, 10, device=device)\n",
        "    labels = torch.randn(64, 1, device=device)\n",
        "\n",
        "    for epoch in range(5):\n",
        "        optimizer.zero_grad()\n",
        "        outputs = model(inputs)\n",
        "        loss = criterion(outputs, labels)\n",
        "        loss.backward()\n",
        "\n",
        "        # This synchronizes the gradients across all devices\n",
        "        xm.optimizer_step(optimizer)\n",
        "\n",
        "        # Print the loss from each device\n",
        "        # xm.get_ordinal() gets the index of the current device (0, 1, 2, etc.)\n",
        "        print(f\"Device {xm.get_ordinal()}, Epoch {epoch+1}, Loss: {loss.item():.4f}\")\n",
        "\n",
        "if __name__ == '__main__':\n",
        "    # Use torch_xla's multiprocessing to launch the _mp_fn function\n",
        "    # on each available TPU device.\n",
        "    import torch_xla.distributed.xla_multiprocessing as xmp\n",
        "\n",
        "    # The 'num_cores' argument tells xmp how many devices to use.\n",
        "    # Set it to None to use all available devices.\n",
        "    xmp.spawn(_mp_fn, args=(), nprocs=None)"
      ],
      "metadata": {
        "id": "rcWPNdsDkrjj"
      },
      "execution_count": null,
      "outputs": []
    },
    {
      "cell_type": "markdown",
      "source": [
        "## JAX Example"
      ],
      "metadata": {
        "id": "eFAaw0CNjiQL"
      }
    },
    {
      "cell_type": "code",
      "source": [
        "import jax\n",
        "import jax.numpy as jnp\n",
        "from flax import linen as nn\n",
        "from flax.training import train_state\n",
        "import optax # for optimizers\n",
        "\n",
        "# Define a simple neural network model\n",
        "class SimpleMLP(nn.Module):\n",
        "    features: int\n",
        "\n",
        "    @nn.compact\n",
        "    def __call__(self, x):\n",
        "        x = nn.Dense(features=64)(x)\n",
        "        x = nn.relu(x)\n",
        "        x = nn.Dense(features=self.features)(x)\n",
        "        return x\n",
        "\n",
        "# Define the loss function\n",
        "@jax.jit\n",
        "def apply_model(state, x, y):\n",
        "    def loss_fn(params):\n",
        "        y_pred = state.apply_fn({'params': params}, x)\n",
        "        loss = jnp.mean((y_pred - y)**2) # Mean squared error\n",
        "        return loss, y_pred\n",
        "\n",
        "    grad_fn = jax.value_and_grad(loss_fn, has_aux=True)\n",
        "    (loss, y_pred), grads = grad_fn(state.params)\n",
        "    return grads, loss\n",
        "\n",
        "# Define a training step\n",
        "@jax.jit\n",
        "def train_step(state, x, y):\n",
        "    grads, loss = apply_model(state, x, y)\n",
        "    state = state.apply_gradients(grads=grads)\n",
        "    return state, loss\n",
        "\n",
        "# Example usage (run on a TPU pod)\n",
        "if __name__ == \"__main__\":\n",
        "    # This code assumes a TPU backend is available.\n",
        "    # Initialize the model and optimizer\n",
        "    key = jax.random.PRNGKey(0)\n",
        "    model = SimpleMLP(features=10)\n",
        "    params = model.init(key, jnp.ones([1, 28]))['params']\n",
        "    optimizer = optax.adam(learning_rate=0.001)\n",
        "\n",
        "    state = train_state.TrainState.create(\n",
        "        apply_fn=model.apply, params=params, tx=optimizer\n",
        "    )\n",
        "\n",
        "    # Generate dummy data\n",
        "    dummy_x = jnp.ones([32, 28])\n",
        "    dummy_y = jnp.zeros([32, 10])\n",
        "\n",
        "    # Run a training step\n",
        "    state, loss = train_step(state, dummy_x, dummy_y)\n",
        "    print(f\"Loss after one step: {loss}\")"
      ],
      "metadata": {
        "colab": {
          "base_uri": "https://localhost:8080/"
        },
        "id": "k-ItqafYjWFs",
        "outputId": "2b51cef3-0820-4adf-fc5f-968b084f3697"
      },
      "execution_count": 1,
      "outputs": [
        {
          "output_type": "stream",
          "name": "stdout",
          "text": [
            "Loss after one step: 0.390408992767334\n"
          ]
        }
      ]
    },
    {
      "cell_type": "markdown",
      "source": [
        "## PyTorch/XLA Example"
      ],
      "metadata": {
        "id": "ZVlvFrOcjksq"
      }
    },
    {
      "cell_type": "code",
      "source": [
        "import torch\n",
        "import torch_xla.core.xla_model as xm\n",
        "import torch.nn as nn\n",
        "import torch.optim as optim\n",
        "\n",
        "# Define a simple PyTorch model\n",
        "class SimpleModel(nn.Module):\n",
        "    def __init__(self):\n",
        "        super(SimpleModel, self).__init__()\n",
        "        self.fc1 = nn.Linear(10, 5)\n",
        "        self.fc2 = nn.Linear(5, 1)\n",
        "\n",
        "    def forward(self, x):\n",
        "        x = torch.relu(self.fc1(x))\n",
        "        x = self.fc2(x)\n",
        "        return x\n",
        "\n",
        "# Main function to run on a TPU device\n",
        "def train_model():\n",
        "    # Get the TPU device\n",
        "    device = xm.xla_device()\n",
        "\n",
        "    # Create model, loss function, and optimizer\n",
        "    model = SimpleModel().to(device)\n",
        "    criterion = nn.MSELoss()\n",
        "    optimizer = optim.SGD(model.parameters(), lr=0.01)\n",
        "\n",
        "    # Dummy data\n",
        "    inputs = torch.randn(64, 10, device=device)\n",
        "    labels = torch.randn(64, 1, device=device)\n",
        "\n",
        "    # Training loop\n",
        "    for epoch in range(10):\n",
        "        optimizer.zero_grad()\n",
        "        outputs = model(inputs)\n",
        "        loss = criterion(outputs, labels)\n",
        "        loss.backward()\n",
        "\n",
        "        # This is the key line for PyTorch/XLA.\n",
        "        # It's a barrier that waits for all devices to complete their gradient computation.\n",
        "        xm.optimizer_step(optimizer)\n",
        "\n",
        "        print(f\"Epoch {epoch+1}, Loss: {loss.item()}\")\n",
        "\n",
        "# Run the training loop on the TPU\n",
        "if __name__ == '__main__':\n",
        "    train_model()"
      ],
      "metadata": {
        "id": "IejYiRhdjqQ9"
      },
      "execution_count": null,
      "outputs": []
    },
    {
      "cell_type": "markdown",
      "source": [
        "## Fine-Tuning Code on a TPU"
      ],
      "metadata": {
        "id": "14jGJq8XlvOO"
      }
    },
    {
      "cell_type": "markdown",
      "source": [
        "Fine-tuning the google/gemma-3-1b-it model on a TPU is a powerful way to adapt it to your specific use case. The most common and recommended approach is to use the PyTorch/XLA framework within a Google Cloud Vertex AI or Kaggle environment, as this provides a managed TPU runtime.\n",
        "\n",
        "Steps for Fine-Tuning\n",
        "The following code provides a comprehensive example of a fine-tuning script. The script uses the transformers library with PyTorch/XLA to enable the training on a TPU. The process involves:\n",
        "\n",
        "1. Environment Setup: Installing the necessary libraries for PyTorch and TPU access.\n",
        "\n",
        "2. Dataset Preparation: Loading and formatting your training data.\n",
        "\n",
        "3. Model Loading: Loading the base Gemma-3-1b-it model and tokenizer.\n",
        "\n",
        "4. Training Arguments: Defining the training parameters.\n",
        "\n",
        "5. Trainer Initialization: Setting up the Trainer class from the transformers library, which handles the training loop.\n",
        "\n",
        "6. Training Execution: Starting the fine-tuning process."
      ],
      "metadata": {
        "id": "4kxb75SNl5Pr"
      }
    },
    {
      "cell_type": "code",
      "source": [
        "!pip install datasets -q"
      ],
      "metadata": {
        "id": "6IoFm81QmfWK"
      },
      "execution_count": null,
      "outputs": []
    },
    {
      "cell_type": "code",
      "metadata": {
        "colab": {
          "base_uri": "https://localhost:8080/"
        },
        "id": "0c2b37fa",
        "outputId": "ea13e3ea-073a-4725-e68c-31414245dd0e"
      },
      "source": [
        "from datasets import load_dataset\n",
        "from IPython.display import display, Image\n",
        "\n",
        "# Load the dataset\n",
        "dataset = load_dataset(\"Abirate/english_quotes\")\n",
        "\n",
        "# The dataset is text-based and does not contain images.\n",
        "# I'll display a sample quote instead.\n",
        "print(\"Dataset loaded successfully. This dataset contains text quotes, not images.\")\n",
        "print(\"\\nHere is a sample quote from the training split:\")\n",
        "\n",
        "# Display a sample quote\n",
        "sample_quote = dataset['train'][20]['quote']\n",
        "print(sample_quote)"
      ],
      "execution_count": 5,
      "outputs": [
        {
          "output_type": "stream",
          "name": "stdout",
          "text": [
            "Dataset loaded successfully. This dataset contains text quotes, not images.\n",
            "\n",
            "Here is a sample quote from the training split:\n",
            "“Without music, life would be a mistake.”\n"
          ]
        }
      ]
    },
    {
      "cell_type": "code",
      "source": [
        "import torch\n",
        "import os\n",
        "from transformers import AutoModelForCausalLM, AutoTokenizer, TrainingArguments, Trainer, BitsAndBytesConfig\n",
        "from datasets import load_dataset\n",
        "from huggingface_hub import login\n",
        "from google.colab import userdata\n",
        "import warnings\n",
        "warnings.filterwarnings(\"ignore\")\n",
        "\n",
        "# Hugging Face Login\n",
        "token = userdata.get('HF_TOKEN')\n",
        "login(token=token)\n",
        "\n",
        "# Check if PyTorch/XLA is available and on a TPU device\n",
        "try:\n",
        "    import torch_xla.core.xla_model as xm\n",
        "    device = xm.xla_device()\n",
        "    print(\"TPU device found. Using PyTorch/XLA for training.\")\n",
        "    print(f\"Number of Devices: {len(xm.get_xla_supported_devices())}\")\n",
        "except ImportError:\n",
        "    print(\"torch_xla not found. This script is designed for TPU environments.\")\n",
        "    exit()"
      ],
      "metadata": {
        "colab": {
          "base_uri": "https://localhost:8080/"
        },
        "id": "-UppS39xv9k5",
        "outputId": "39d3a692-312f-440f-ffe8-79c3c9734c86"
      },
      "execution_count": 1,
      "outputs": [
        {
          "output_type": "stream",
          "name": "stdout",
          "text": [
            "TPU device found. Using PyTorch/XLA for training.\n",
            "Number of Devices: 8\n"
          ]
        }
      ]
    },
    {
      "cell_type": "code",
      "source": [
        "# 1. Model and Tokenizer Setup\n",
        "model_id = \"google/gemma-3-1b-it\"\n",
        "tokenizer = AutoTokenizer.from_pretrained(model_id)\n",
        "tokenizer.pad_token = tokenizer.eos_token\n",
        "tokenizer.padding_side = 'right'\n",
        "\n",
        "# 2. Load and Split Dataset\n",
        "# Load the dataset and split it into a training set and an evaluation set.\n",
        "# We're using a 90/10 split for training and evaluation.\n",
        "# https://huggingface.co/datasets/Abirate/english_quotes\n",
        "\n",
        "dataset = load_dataset(\"Abirate/english_quotes\")\n",
        "dataset = dataset['train'].train_test_split(test_size=0.1)\n",
        "\n",
        "train_dataset = dataset['train']\n",
        "eval_dataset = dataset['test']\n",
        "\n",
        "# 3. Preprocess Dataset\n",
        "def tokenize_function(examples):\n",
        "    text = [f\"### Instruction:\\nFine-tune a model to generate inspirational quotes.\\n### Quote:\\n{q}\\n\" for q in examples[\"quote\"]]\n",
        "    tokenized_inputs = tokenizer(text, truncation=True, padding=\"max_length\", max_length=128)\n",
        "    tokenized_inputs[\"labels\"] = tokenized_inputs[\"input_ids\"].copy() # Add labels for causal language modeling\n",
        "    return tokenized_inputs\n",
        "\n",
        "tokenized_train_dataset = train_dataset.map(tokenize_function, batched=True)\n",
        "tokenized_eval_dataset = eval_dataset.map(tokenize_function, batched=True)\n",
        "\n",
        "# 4. Load the Model\n",
        "model = AutoModelForCausalLM.from_pretrained(\n",
        "    model_id,\n",
        "    torch_dtype=torch.bfloat16,\n",
        "    attn_implementation='eager'\n",
        ").to(device)"
      ],
      "metadata": {
        "id": "S6EVAnIdvRWE"
      },
      "execution_count": null,
      "outputs": []
    },
    {
      "cell_type": "code",
      "source": [
        "# 5. Training Arguments\n",
        "# Enable evaluation by setting `evaluation_strategy` and `load_best_model_at_end`.\n",
        "training_args = TrainingArguments(\n",
        "    output_dir=\"./gemma-3-1b-finetuned\",\n",
        "    num_train_epochs=3,\n",
        "    per_device_train_batch_size=8,\n",
        "    per_device_eval_batch_size=8,  # Add batch size for evaluation\n",
        "    gradient_accumulation_steps=2,\n",
        "    learning_rate=2e-5,\n",
        "    weight_decay=0.01,\n",
        "    logging_steps=10,\n",
        "    save_strategy=\"epoch\",\n",
        "    eval_strategy=\"epoch\", # Evaluate at the end of each epoch\n",
        "    load_best_model_at_end=True, # Load the model with the best evaluation loss\n",
        "    metric_for_best_model=\"eval_loss\",\n",
        "    report_to=\"none\"\n",
        ")\n",
        "\n",
        "# 6. Trainer Initialization\n",
        "# Provide both the training and evaluation datasets to the Trainer.\n",
        "trainer = Trainer(\n",
        "    model=model,\n",
        "    args=training_args,\n",
        "    train_dataset=tokenized_train_dataset,\n",
        "    eval_dataset=tokenized_eval_dataset, # Pass the evaluation dataset\n",
        "    tokenizer=tokenizer,\n",
        ")\n",
        "\n",
        "# 7. Start Training\n",
        "print(\"Starting fine-tuning...\")\n",
        "trainer.train()\n",
        "\n",
        "# 8. Save the fine-tuned model\n",
        "trainer.save_model(\"./gemma-3-1b-finetuned\")\n",
        "print(\"Fine-tuning complete. Model saved.\")"
      ],
      "metadata": {
        "colab": {
          "base_uri": "https://localhost:8080/",
          "height": 92
        },
        "id": "quBzkr68mTa4",
        "outputId": "c5071935-4d0d-471f-d5a4-74dd0d9d6864"
      },
      "execution_count": null,
      "outputs": [
        {
          "output_type": "stream",
          "name": "stdout",
          "text": [
            "Starting fine-tuning...\n"
          ]
        },
        {
          "output_type": "display_data",
          "data": {
            "text/plain": [
              "<IPython.core.display.HTML object>"
            ],
            "text/html": [
              "\n",
              "    <div>\n",
              "      \n",
              "      <progress value='2' max='54' style='width:300px; height:20px; vertical-align: middle;'></progress>\n",
              "      [ 2/54 : < :, Epoch 0.06/3]\n",
              "    </div>\n",
              "    <table border=\"1\" class=\"dataframe\">\n",
              "  <thead>\n",
              " <tr style=\"text-align: left;\">\n",
              "      <th>Epoch</th>\n",
              "      <th>Training Loss</th>\n",
              "      <th>Validation Loss</th>\n",
              "    </tr>\n",
              "  </thead>\n",
              "  <tbody>\n",
              "  </tbody>\n",
              "</table><p>"
            ]
          },
          "metadata": {}
        }
      ]
    }
  ]
}