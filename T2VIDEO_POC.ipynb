{
  "nbformat": 4,
  "nbformat_minor": 0,
  "metadata": {
    "colab": {
      "provenance": [],
      "machine_shape": "hm",
      "gpuType": "A100",
      "authorship_tag": "ABX9TyOZ1NPGd85tX0nd70sohNhO",
      "include_colab_link": true
    },
    "kernelspec": {
      "name": "python3",
      "display_name": "Python 3"
    },
    "language_info": {
      "name": "python"
    },
    "accelerator": "GPU"
  },
  "cells": [
    {
      "cell_type": "markdown",
      "metadata": {
        "id": "view-in-github",
        "colab_type": "text"
      },
      "source": [
        "<a href=\"https://colab.research.google.com/github/frank-morales2020/MLxDL/blob/main/T2VIDEO_POC.ipynb\" target=\"_parent\"><img src=\"https://colab.research.google.com/assets/colab-badge.svg\" alt=\"Open In Colab\"/></a>"
      ]
    },
    {
      "cell_type": "markdown",
      "source": [
        "https://huggingface.co/spaces/PAIR/Text2Video-Zero"
      ],
      "metadata": {
        "id": "C0SC60KEW41f"
      }
    },
    {
      "cell_type": "code",
      "execution_count": null,
      "metadata": {
        "id": "zFC4ArAvTjsG"
      },
      "outputs": [],
      "source": [
        "!git clone https://github.com/Picsart-AI-Research/Text2Video-Zero.git\n",
        "%cd Text2Video-Zero/\n",
        "!pip install -r /content/Text2Video-Zero/requirements.txt --quiet"
      ]
    },
    {
      "cell_type": "code",
      "source": [
        "%cd /content/Text2Video-Zero/Text2Video-Zero/\n",
        "import torch\n",
        "from model import Model\n",
        "\n",
        "model = Model(device = \"cuda\", dtype = torch.float16)"
      ],
      "metadata": {
        "id": "DPcttPYIUAe6"
      },
      "execution_count": null,
      "outputs": []
    },
    {
      "cell_type": "code",
      "source": [
        "prompt = \"A horse galloping on a street\"\n",
        "params = {\"t0\": 44, \"t1\": 47 , \"motion_field_strength_x\" : 12, \"motion_field_strength_y\" : 12, \"video_length\": 8}\n",
        "\n",
        "out_path, fps = f\"./text2video_{prompt.replace(' ','_')}.mp4\", 4\n",
        "model.process_text2video(prompt, fps = fps, path = out_path, **params)\n",
        "\n",
        "# ./text2video_A_horse_galloping_on_a_street.mp4"
      ],
      "metadata": {
        "id": "Gaur1VRfVirR"
      },
      "execution_count": null,
      "outputs": []
    },
    {
      "cell_type": "code",
      "source": [
        "prompt = 'oil painting of a deer, a high-quality, detailed, and professional photo'\n",
        "video_path = '__assets__/canny_videos_mp4/deer.mp4'\n",
        "out_path = f'./text2video_edge_guidance_{prompt}.mp4'\n",
        "model.process_controlnet_canny(video_path, prompt=prompt, save_path=out_path)\n",
        "\n",
        "# /text2video_edge_guidance_oil painting of a deer, a high-quality, detailed, and professional photo.mp4"
      ],
      "metadata": {
        "id": "Ktw1FHObWMGi"
      },
      "execution_count": null,
      "outputs": []
    },
    {
      "cell_type": "code",
      "source": [
        "prompt = 'make it Van Gogh Starry Night'\n",
        "video_path = '__assets__/pix2pix video/camel.mp4'\n",
        "out_path = f'./video_instruct_pix2pix_{prompt}.mp4'\n",
        "model.process_pix2pix(video_path, prompt=prompt, save_path=out_path)\n",
        "\n",
        "# ./video_instruct_pix2pix_make it Van Gogh Starry Night.mp4"
      ],
      "metadata": {
        "id": "j4GYIsRdWT-K"
      },
      "execution_count": null,
      "outputs": []
    }
  ]
}