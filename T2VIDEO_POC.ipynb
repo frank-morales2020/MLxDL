{
  "nbformat": 4,
  "nbformat_minor": 0,
  "metadata": {
    "colab": {
      "provenance": [],
      "machine_shape": "hm",
      "gpuType": "A100",
      "authorship_tag": "ABX9TyNRYj4XtOvadlDpjbdn+rm+",
      "include_colab_link": true
    },
    "kernelspec": {
      "name": "python3",
      "display_name": "Python 3"
    },
    "language_info": {
      "name": "python"
    },
    "accelerator": "GPU"
  },
  "cells": [
    {
      "cell_type": "markdown",
      "metadata": {
        "id": "view-in-github",
        "colab_type": "text"
      },
      "source": [
        "<a href=\"https://colab.research.google.com/github/frank-morales2020/MLxDL/blob/main/T2VIDEO_POC.ipynb\" target=\"_parent\"><img src=\"https://colab.research.google.com/assets/colab-badge.svg\" alt=\"Open In Colab\"/></a>"
      ]
    },
    {
      "cell_type": "markdown",
      "source": [
        "https://huggingface.co/spaces/PAIR/Text2Video-Zero\n"
      ],
      "metadata": {
        "id": "C0SC60KEW41f"
      }
    },
    {
      "cell_type": "code",
      "source": [
        "!nvidia-smi"
      ],
      "metadata": {
        "colab": {
          "base_uri": "https://localhost:8080/"
        },
        "id": "rwgAUQIYUylz",
        "outputId": "05a1aa49-1943-4544-a462-82b013ca9b15"
      },
      "execution_count": 1,
      "outputs": [
        {
          "output_type": "stream",
          "name": "stdout",
          "text": [
            "Sun May  5 09:58:51 2024       \n",
            "+---------------------------------------------------------------------------------------+\n",
            "| NVIDIA-SMI 535.104.05             Driver Version: 535.104.05   CUDA Version: 12.2     |\n",
            "|-----------------------------------------+----------------------+----------------------+\n",
            "| GPU  Name                 Persistence-M | Bus-Id        Disp.A | Volatile Uncorr. ECC |\n",
            "| Fan  Temp   Perf          Pwr:Usage/Cap |         Memory-Usage | GPU-Util  Compute M. |\n",
            "|                                         |                      |               MIG M. |\n",
            "|=========================================+======================+======================|\n",
            "|   0  NVIDIA A100-SXM4-40GB          Off | 00000000:00:04.0 Off |                    0 |\n",
            "| N/A   31C    P0              45W / 400W |      2MiB / 40960MiB |      0%      Default |\n",
            "|                                         |                      |             Disabled |\n",
            "+-----------------------------------------+----------------------+----------------------+\n",
            "                                                                                         \n",
            "+---------------------------------------------------------------------------------------+\n",
            "| Processes:                                                                            |\n",
            "|  GPU   GI   CI        PID   Type   Process name                            GPU Memory |\n",
            "|        ID   ID                                                             Usage      |\n",
            "|=======================================================================================|\n",
            "|  No running processes found                                                           |\n",
            "+---------------------------------------------------------------------------------------+\n"
          ]
        }
      ]
    },
    {
      "cell_type": "code",
      "execution_count": null,
      "metadata": {
        "id": "zFC4ArAvTjsG"
      },
      "outputs": [],
      "source": [
        "!git clone https://github.com/Picsart-AI-Research/Text2Video-Zero.git\n",
        "%cd Text2Video-Zero/\n",
        "#!pip install -r /content/Text2Video-Zero/requirements.txt --quiet"
      ]
    },
    {
      "cell_type": "code",
      "source": [
        "!pip install -q accelerate==0.16.0\n",
        "!pip install -q addict==2.4.0\n",
        "!pip install -q albumentations==1.3.0\n",
        "!pip install -q basicsr==1.4.2\n",
        "!pip install -q decord==0.6.0\n",
        "!pip install -q diffusers==0.14.0\n",
        "!pip install -q einops==0.6.0\n",
        "!pip install -q gradio==3.23.0\n",
        "!pip install -q kornia==0.6\n",
        "!pip install -q imageio==2.9.0\n",
        "!pip install -q imageio-ffmpeg==0.4.2\n",
        "!pip install -q invisible-watermark>=0.1.5\n",
        "!pip install -q moviepy==1.0.3\n",
        "\n",
        "!pip install -q omegaconf==2.3.0\n",
        "!pip install -q open_clip_torch==2.16.0\n",
        "\n",
        "!pip install -q opencv_python==4.7.0.72\n",
        "\n",
        "!pip install -q opencv-contrib-python==4.7.0.72\n",
        "\n",
        "!pip install -q Pillow==9.4.0\n",
        "!pip install -q pytorch_lightning==1.5.0\n",
        "!pip install -q prettytable==3.6.0\n",
        "!pip install -q scikit_image==0.19.3\n",
        "!pip install -q scipy==1.10.1\n",
        "\n",
        "!pip install -q tensorboardX==2.6\n",
        "!pip install -q torch==1.13.1\n",
        "!pip install -q torchvision==0.14.1\n",
        "!pip install -q torchmetrics==0.6.0\n",
        "\n",
        "!pip install -q tqdm==4.64.1\n",
        "!pip install -q timm==0.6.12\n",
        "\n",
        "!pip install -q transformers==4.26.0\n",
        "!pip install -q test-tube>=0.7.5\n",
        "\n",
        "!pip install -q webdataset==0.2.5\n",
        "!pip install -q yapf==0.32.0\n",
        "!pip install -q safetensors==0.2.7\n",
        "\n",
        "!pip install -q beautifulsoup4\n",
        "!pip install -q bs4\n",
        "!pip install -q tomesd"
      ],
      "metadata": {
        "id": "LflyEa2J3_9y"
      },
      "execution_count": null,
      "outputs": []
    },
    {
      "cell_type": "code",
      "source": [
        "!pip install \"jax[cuda12_local]==0.4.23\" -f https://storage.googleapis.com/jax-releases/jax_cuda_releases.html -q\n",
        "#!pip install transformers scipy ftfy accelerate -q"
      ],
      "metadata": {
        "id": "gTHwnlCa7lCN"
      },
      "execution_count": null,
      "outputs": []
    },
    {
      "cell_type": "code",
      "source": [
        "!pip install ipykernel -q\n",
        "#Make sure to restart your Juptyer server afterwards."
      ],
      "metadata": {
        "id": "Wcy_h9ksMMmN"
      },
      "execution_count": null,
      "outputs": []
    },
    {
      "cell_type": "code",
      "source": [
        "%cd /content/Text2Video-Zero/\n",
        "\n",
        "import torch\n",
        "from model import Model\n",
        "\n",
        "model = Model(device = \"cuda\", dtype = torch.float16)"
      ],
      "metadata": {
        "id": "GxRWk0mr3kGw"
      },
      "execution_count": null,
      "outputs": []
    },
    {
      "cell_type": "code",
      "source": [
        "!pip install optax==0.1.2 -q\n",
        "!pip install chex==0.1.2 -q"
      ],
      "metadata": {
        "id": "o-D5D3TYw0kM"
      },
      "execution_count": null,
      "outputs": []
    },
    {
      "cell_type": "code",
      "source": [
        "prompt = \"A horse galloping on a street\"\n",
        "params = {\"t0\": 44, \"t1\": 47 , \"motion_field_strength_x\" : 12, \"motion_field_strength_y\" : 12, \"video_length\": 8}\n",
        "\n",
        "out_path, fps = f\"/content/text2video_{prompt.replace(' ','_')}.mp4\", 4\n",
        "model.process_text2video(prompt, fps = fps, path = out_path, **params)\n",
        "\n",
        "# ./content/text2video_A_horse_galloping_on_a_street.mp4"
      ],
      "metadata": {
        "id": "Gaur1VRfVirR"
      },
      "execution_count": null,
      "outputs": []
    },
    {
      "cell_type": "code",
      "source": [
        "del model\n",
        "%cd /content/Text2Video-Zero/\n",
        "\n",
        "import torch\n",
        "from model import Model\n",
        "\n",
        "model = Model(device = \"cuda\", dtype = torch.float16)"
      ],
      "metadata": {
        "id": "j6I0LyMVD7oq"
      },
      "execution_count": null,
      "outputs": []
    },
    {
      "cell_type": "code",
      "source": [
        "prompt = 'oil painting of a deer, a high-quality, detailed, and professional photo'\n",
        "video_path = '__assets__/canny_videos_mp4/deer.mp4'\n",
        "out_path = f'/content/text2video_edge_guidance_{prompt}.mp4'\n",
        "model.process_controlnet_canny(video_path, prompt=prompt, save_path=out_path)\n",
        "\n",
        "# ./content/text2video_edge_guidance_oil painting of a deer, a high-quality, detailed, and professional photo.mp4"
      ],
      "metadata": {
        "id": "Ktw1FHObWMGi"
      },
      "execution_count": null,
      "outputs": []
    },
    {
      "cell_type": "code",
      "source": [
        "del model\n",
        "%cd /content/Text2Video-Zero/\n",
        "\n",
        "import torch\n",
        "from model import Model\n",
        "\n",
        "model = Model(device = \"cuda\", dtype = torch.float16)"
      ],
      "metadata": {
        "id": "dJkKlebDEB2V"
      },
      "execution_count": null,
      "outputs": []
    },
    {
      "cell_type": "code",
      "source": [
        "prompt = 'make it Van Gogh Starry Night'\n",
        "video_path = '__assets__/pix2pix video/camel.mp4'\n",
        "out_path = f'/content/video_instruct_pix2pix_{prompt}.mp4'\n",
        "model.process_pix2pix(video_path, prompt=prompt, save_path=out_path)\n",
        "\n",
        "# ./content/video_instruct_pix2pix_make it Van Gogh Starry Night.mp4"
      ],
      "metadata": {
        "id": "j4GYIsRdWT-K"
      },
      "execution_count": null,
      "outputs": []
    },
    {
      "cell_type": "code",
      "source": [
        "!pip install ipykernel -q\n",
        "#Make sure to restart your Juptyer server afterwards."
      ],
      "metadata": {
        "id": "E_Cb2ZKgLRyO"
      },
      "execution_count": null,
      "outputs": []
    },
    {
      "cell_type": "code",
      "source": [
        "!ls  /content/*.mp4"
      ],
      "metadata": {
        "colab": {
          "base_uri": "https://localhost:8080/"
        },
        "id": "x_gKPWUhJ52x",
        "outputId": "ad174cca-6512-4ae4-eef0-e012a2d41272"
      },
      "execution_count": 1,
      "outputs": [
        {
          "output_type": "stream",
          "name": "stdout",
          "text": [
            " /content/text2video_A_horse_galloping_on_a_street.mp4\n",
            "'/content/text2video_edge_guidance_oil painting of a deer, a high-quality, detailed, and professional photo.mp4'\n",
            "'/content/video_instruct_pix2pix_make it Van Gogh Starry Night.mp4'\n"
          ]
        }
      ]
    }
  ]
}