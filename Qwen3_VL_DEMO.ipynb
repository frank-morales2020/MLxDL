{
  "nbformat": 4,
  "nbformat_minor": 0,
  "metadata": {
    "colab": {
      "provenance": [],
      "authorship_tag": "ABX9TyPltx1V0bZ+tU/tEqjW7MB7",
      "include_colab_link": true
    },
    "kernelspec": {
      "name": "python3",
      "display_name": "Python 3"
    },
    "language_info": {
      "name": "python"
    }
  },
  "cells": [
    {
      "cell_type": "markdown",
      "metadata": {
        "id": "view-in-github",
        "colab_type": "text"
      },
      "source": [
        "<a href=\"https://colab.research.google.com/github/frank-morales2020/MLxDL/blob/main/Qwen3_VL_DEMO.ipynb\" target=\"_parent\"><img src=\"https://colab.research.google.com/assets/colab-badge.svg\" alt=\"Open In Colab\"/></a>"
      ]
    },
    {
      "cell_type": "code",
      "source": [
        "from openai import OpenAI\n",
        "from google.colab import userdata\n",
        "\n",
        "OPENROUTER_API_KEY=userdata.get('OPENROUTER_API_KEY')\n",
        "if not OPENROUTER_API_KEY:\n",
        "    raise ValueError(\"OPENROUTER_API_KEY is not set\")\n",
        "\n",
        "client = OpenAI(\n",
        "  base_url=\"https://openrouter.ai/api/v1\",\n",
        "  api_key=OPENROUTER_API_KEY,\n",
        ")"
      ],
      "metadata": {
        "id": "suRiKPsPkq2y"
      },
      "execution_count": 4,
      "outputs": []
    },
    {
      "cell_type": "markdown",
      "source": [
        "## Instruct"
      ],
      "metadata": {
        "id": "rcYNE6BImCtM"
      }
    },
    {
      "cell_type": "code",
      "source": [
        "completion = client.chat.completions.create(\n",
        "  extra_body={},\n",
        "  model=\"qwen/qwen3-vl-8b-instruct\",\n",
        "  messages=[\n",
        "    {\n",
        "      \"role\": \"user\",\n",
        "      \"content\": [\n",
        "        {\n",
        "          \"type\": \"text\",\n",
        "          \"text\": \"What is in this image?\"\n",
        "        },\n",
        "        {\n",
        "          \"type\": \"image_url\",\n",
        "          \"image_url\": {\n",
        "            \"url\": \"https://upload.wikimedia.org/wikipedia/commons/thumb/d/dd/Gfp-wisconsin-madison-the-nature-boardwalk.jpg/2560px-Gfp-wisconsin-madison-the-nature-boardwalk.jpg\"\n",
        "          }\n",
        "        }\n",
        "      ]\n",
        "    }\n",
        "  ]\n",
        ")\n",
        "print(completion.choices[0].message.content)"
      ],
      "metadata": {
        "colab": {
          "base_uri": "https://localhost:8080/"
        },
        "id": "jTsT8YfElYiA",
        "outputId": "9a405953-a64e-4039-e520-ff9de4aa6e14"
      },
      "execution_count": 5,
      "outputs": [
        {
          "output_type": "stream",
          "name": "stdout",
          "text": [
            "This image depicts a serene and picturesque natural landscape. Here's a breakdown of what is visible:\n",
            "\n",
            "- **A Wooden Boardwalk:** The central focus is a weathered wooden boardwalk or path that stretches from the foreground into the distance, leading the viewer's eye toward the horizon. It cuts through the tall grass.\n",
            "\n",
            "- **Lush Green Grassland:** The boardwalk is flanked on both sides by tall, vibrant green grasses, suggesting a meadow, marsh, or wetland environment. The grass appears healthy and sunlit.\n",
            "\n",
            "- **Distant Treeline:** In the background, a line of trees and shrubs marks the edge of the open field. Some of the vegetation on the right side has a golden or autumnal hue, contrasting with the green.\n",
            "\n",
            "- **Vast Blue Sky:** The sky takes up the upper half of the image and is a brilliant blue, filled with wispy, streaky white clouds. The lighting suggests either early morning or late afternoon, casting a warm glow on the scene.\n",
            "\n",
            "Overall, the image evokes a sense of peace, tranquility, and connection with nature. The composition, with the path leading into the distance, creates a feeling of journey or exploration. The vibrant colors and clear sky contribute to a bright, uplifting mood.\n"
          ]
        }
      ]
    },
    {
      "cell_type": "markdown",
      "source": [
        "## Thinking"
      ],
      "metadata": {
        "id": "aDFXS7nulSJF"
      }
    },
    {
      "cell_type": "code",
      "source": [
        "completion = client.chat.completions.create(\n",
        "  extra_body={},\n",
        "  model=\"qwen/qwen3-vl-8b-thinking\",\n",
        "  messages=[\n",
        "    {\n",
        "      \"role\": \"user\",\n",
        "      \"content\": [\n",
        "        {\n",
        "          \"type\": \"text\",\n",
        "          \"text\": \"What is in this image?\"\n",
        "        },\n",
        "        {\n",
        "          \"type\": \"image_url\",\n",
        "          \"image_url\": {\n",
        "            \"url\": \"https://upload.wikimedia.org/wikipedia/commons/thumb/d/dd/Gfp-wisconsin-madison-the-nature-boardwalk.jpg/2560px-Gfp-wisconsin-madison-the-nature-boardwalk.jpg\"\n",
        "          }\n",
        "        }\n",
        "      ]\n",
        "    }\n",
        "  ]\n",
        ")\n",
        "print(completion.choices[0].message.content)"
      ],
      "metadata": {
        "colab": {
          "base_uri": "https://localhost:8080/"
        },
        "id": "B_fdoTBRklm2",
        "outputId": "07569dd7-f952-433b-e937-fc224755c52f"
      },
      "execution_count": 6,
      "outputs": [
        {
          "output_type": "stream",
          "name": "stdout",
          "text": [
            "The image depicts a serene natural landscape featuring a **wooden boardwalk** that stretches into the distance, flanked by tall, lush green grasses. The boardwalk is surrounded by a vibrant, grassy field that extends toward the horizon. In the background, there are clusters of trees and shrubs, some displaying hints of autumnal colors. Above, the sky is a bright, clear blue with wispy, scattered clouds, suggesting a pleasant, sunny day. The scene conveys a peaceful, open-air environment, likely a wetland, meadow, or nature reserve, emphasizing tranquility and the beauty of nature.\n"
          ]
        }
      ]
    },
    {
      "cell_type": "code",
      "source": [],
      "metadata": {
        "id": "pqENZycmkT2a"
      },
      "execution_count": null,
      "outputs": []
    },
    {
      "cell_type": "markdown",
      "source": [
        "## AGENTIC"
      ],
      "metadata": {
        "id": "wXOHbsyRnIkR"
      }
    },
    {
      "cell_type": "code",
      "source": [
        "import os\n",
        "import time\n",
        "import re\n",
        "from openai import OpenAI\n",
        "from google.colab import userdata\n",
        "from typing import Dict, Any, Tuple\n",
        "import base64\n",
        "import requests\n",
        "\n",
        "# --- Configuration ---\n",
        "# Set up the OpenRouter client using the API key from Colab secrets\n",
        "OPENROUTER_API_KEY = userdata.get('OPENROUTER_API_KEY')\n",
        "if not OPENROUTER_API_KEY:\n",
        "    raise ValueError(\"OPENROUTER_API_KEY is not set. Please set it in Colab Secrets.\")\n",
        "\n",
        "client = OpenAI(\n",
        "    base_url=\"https://openrouter.ai/api/v1\",\n",
        "    api_key=OPENROUTER_API_KEY,\n",
        ")\n",
        "\n",
        "# --- Define Models to Compare ---\n",
        "MODELS = {\n",
        "    \"Instruct\": \"qwen/qwen3-vl-8b-instruct\",\n",
        "    \"Thinking\": \"qwen/qwen3-vl-8b-thinking\",\n",
        "}\n",
        "\n",
        "# --- Complex Multimodal Reasoning Task (ADJUSTED) ---\n",
        "# The task now requires: 1. Object counting, 2. Spatial reasoning, 3. Inferential conclusion.\n",
        "\n",
        "CHART_URL = \"https://upload.wikimedia.org/wikipedia/commons/thumb/d/dd/Gfp-wisconsin-madison-the-nature-boardwalk.jpg/2560px-Gfp-wisconsin-madison-the-nature-boardwalk.jpg\"\n",
        "\n",
        "COMPLEX_TASK_PROMPT = (\n",
        "    \"Analyze the image of the boardwalk: \"\n",
        "    \"1. Estimate the number of distinct vertical posts visible on the left side of the path from foreground to background. \"\n",
        "    \"2. Determine if the path is primarily heading north or south, based *only* on the apparent sun direction (assume late afternoon). \"\n",
        "    \"3. Conclude by stating the compass direction the photographer is facing. \"\n",
        "    \"**You must break down your steps and reasoning for the sun's position before giving the final answer.**\"\n",
        ")\n",
        "\n",
        "# --- Agentic Execution Function ---\n",
        "\n",
        "def run_multimodal_test(model_name: str, model_id: str, prompt: str, image_url: str) -> Dict[str, Any]:\n",
        "    \"\"\"Runs a single test and collects performance metrics.\"\"\"\n",
        "    print(f\"--- Running Test for: {model_name} ({model_id}) ---\")\n",
        "    start_time = time.time()\n",
        "\n",
        "    # Construct content list using the image URL\n",
        "    content_list = [\n",
        "        {\"type\": \"text\", \"text\": prompt},\n",
        "        {\"type\": \"image_url\", \"image_url\": {\"url\": image_url}}\n",
        "    ]\n",
        "\n",
        "    try:\n",
        "        completion = client.chat.completions.create(\n",
        "            extra_body={},\n",
        "            model=model_id,\n",
        "            messages=[{\"role\": \"user\", \"content\": content_list}],\n",
        "        )\n",
        "\n",
        "        end_time = time.time()\n",
        "        output_content = completion.choices[0].message.content\n",
        "        latency = end_time - start_time\n",
        "\n",
        "        # Metric 1: Check for explicit Chain-of-Thought (CoT) trace\n",
        "        has_cot = bool(re.search(r'<think>.*?</think>', output_content, re.DOTALL))\n",
        "        # Count the length of the reasoning block, if present\n",
        "        cot_match = re.search(r'<think>(.*?)</think>', output_content, re.DOTALL)\n",
        "        cot_token_length = len(cot_match.group(1).split()) if cot_match else 0\n",
        "\n",
        "        # Metric 2: Attempt to extract the final compass direction\n",
        "        final_answer_match = re.search(r'photographer is facing\\s*(north|south|east|west)\\b', output_content, re.IGNORECASE)\n",
        "        final_answer = final_answer_match.group(1).capitalize() if final_answer_match else \"N/A\"\n",
        "\n",
        "        # Metric 3: Token Count\n",
        "        total_tokens = completion.usage.total_tokens\n",
        "\n",
        "        return {\n",
        "            \"model\": model_name,\n",
        "            \"latency_s\": round(latency, 2),\n",
        "            \"total_tokens\": total_tokens,\n",
        "            \"has_cot\": has_cot,\n",
        "            \"cot_token_length\": cot_token_length,\n",
        "            \"final_answer_extracted\": final_answer,\n",
        "            \"raw_output\": output_content,\n",
        "            \"success\": True\n",
        "        }\n",
        "\n",
        "    except Exception as e:\n",
        "        print(f\"An error occurred: {e}\")\n",
        "        return {\"model\": model_name, \"success\": False, \"error\": str(e)}\n",
        "\n",
        "# --- Main Benchmark Execution ---\n",
        "\n",
        "if __name__ == '__main__':\n",
        "\n",
        "    results = []\n",
        "\n",
        "    # Run tests for each model\n",
        "    for name, model_id in MODELS.items():\n",
        "        result = run_multimodal_test(name, model_id, COMPLEX_TASK_PROMPT, CHART_URL)\n",
        "        results.append(result)\n",
        "        print(f\"Status: {result.get('success', False)}, Latency: {result.get('latency_s')}s\")\n",
        "        print(\"-\" * 50)\n",
        "\n",
        "    # --- Print Comparison Results ---\n",
        "\n",
        "    print(\"\\n\" + \"=\" * 60)\n",
        "    print(\"           Qwen3 VL 8B Instruct vs. Thinking COMPARISON\")\n",
        "    print(\"=\" * 60)\n",
        "\n",
        "    for r in results:\n",
        "        print(f\"\\nModel: {r['model']}\")\n",
        "        if r['success']:\n",
        "            print(f\"  Total Latency: {r['latency_s']} seconds ⏱️\")\n",
        "            print(f\"  Total Tokens: {r['total_tokens']}\")\n",
        "            print(f\"  Explicit CoT Found: {r['has_cot']}\")\n",
        "            print(f\"  CoT Token Length (Approx): {r['cot_token_length']} tokens\")\n",
        "            print(f\"  Final Answer Attempt (Direction): {r['final_answer_extracted']}\")\n",
        "\n",
        "            # Key difference insight\n",
        "            if r['model'] == 'Thinking' and r['has_cot']:\n",
        "                print(\"  **Insight: Thinking model engaged deep reasoning.**\")\n",
        "            elif r['model'] == 'Instruct' and not r['has_cot']:\n",
        "                print(\"  **Insight: Instruct model prioritized direct answer.**\")\n",
        "\n",
        "            # Optional: Print truncated output to see CoT structure\n",
        "            print(\"\\n--- RAW OUTPUT (First 500 characters) ---\")\n",
        "            print(r['raw_output'][:500] + \"...\")\n",
        "            print(\"----------------------------\\n\")\n",
        "        else:\n",
        "            print(f\"  Test Failed: {r['error']}\")"
      ],
      "metadata": {
        "colab": {
          "base_uri": "https://localhost:8080/"
        },
        "id": "A6yMtfPRnLe-",
        "outputId": "cc6a9db8-4023-49d0-a5a8-068e9a04f15b"
      },
      "execution_count": 1,
      "outputs": [
        {
          "output_type": "stream",
          "name": "stdout",
          "text": [
            "--- Running Test for: Instruct (qwen/qwen3-vl-8b-instruct) ---\n",
            "Status: True, Latency: 10.87s\n",
            "--------------------------------------------------\n",
            "--- Running Test for: Thinking (qwen/qwen3-vl-8b-thinking) ---\n",
            "Status: True, Latency: 262.55s\n",
            "--------------------------------------------------\n",
            "\n",
            "============================================================\n",
            "           Qwen3 VL 8B Instruct vs. Thinking COMPARISON\n",
            "============================================================\n",
            "\n",
            "Model: Instruct\n",
            "  Total Latency: 10.87 seconds ⏱️\n",
            "  Total Tokens: 2720\n",
            "  Explicit CoT Found: False\n",
            "  CoT Token Length (Approx): 0 tokens\n",
            "  Final Answer Attempt (Direction): East\n",
            "  **Insight: Instruct model prioritized direct answer.**\n",
            "\n",
            "--- RAW OUTPUT (First 500 characters) ---\n",
            "Let’s break this down step by step as requested.\n",
            "\n",
            "---\n",
            "\n",
            "**1. Estimate the number of distinct vertical posts visible on the left side of the path from foreground to background.**\n",
            "\n",
            "Looking at the left side of the wooden boardwalk (the viewer’s left, which is the path’s left as it extends into the distance), we can see vertical posts that appear to be supporting the boardwalk structure. These are spaced at regular intervals.\n",
            "\n",
            "- In the immediate foreground, the first post is visible just behind the e...\n",
            "----------------------------\n",
            "\n",
            "\n",
            "Model: Thinking\n",
            "  Total Latency: 262.55 seconds ⏱️\n",
            "  Total Tokens: 10078\n",
            "  Explicit CoT Found: False\n",
            "  CoT Token Length (Approx): 0 tokens\n",
            "  Final Answer Attempt (Direction): North\n",
            "\n",
            "--- RAW OUTPUT (First 500 characters) ---\n",
            "### Step-by-Step Analysis  \n",
            "\n",
            "---\n",
            "\n",
            "#### **1. Estimating the Number of Distinct Vertical Posts on the Left Side of the Path**  \n",
            "- **Image Observation**: The boardwalk is a wooden path through a grassy field. The *left side of the path* (from the photographer’s perspective) refers to the **left edge of the boardwalk**, adjacent to the grassy area on the viewer’s left.  \n",
            "- **Key Details**:  \n",
            "  - The boardwalk appears to be constructed without visible vertical posts (e.g., supports or railings).  \n",
            "  ...\n",
            "----------------------------\n",
            "\n"
          ]
        }
      ]
    }
  ]
}