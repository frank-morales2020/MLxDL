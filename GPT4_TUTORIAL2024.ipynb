{
  "nbformat": 4,
  "nbformat_minor": 0,
  "metadata": {
    "colab": {
      "provenance": [],
      "authorship_tag": "ABX9TyNeFOiK5g2dxLYLUqtQePWT",
      "include_colab_link": true
    },
    "kernelspec": {
      "name": "python3",
      "display_name": "Python 3"
    },
    "language_info": {
      "name": "python"
    }
  },
  "cells": [
    {
      "cell_type": "markdown",
      "metadata": {
        "id": "view-in-github",
        "colab_type": "text"
      },
      "source": [
        "<a href=\"https://colab.research.google.com/github/frank-morales2020/MLxDL/blob/main/GPT4_TUTORIAL2024.ipynb\" target=\"_parent\"><img src=\"https://colab.research.google.com/assets/colab-badge.svg\" alt=\"Open In Colab\"/></a>"
      ]
    },
    {
      "cell_type": "code",
      "source": [
        "#added by Frank Morales(FM) 22/02/2024\n",
        "%pip install openai  --root-user-action=ignore\n",
        "%pip install colab-env --upgrade --quiet --root-user-action=ignore"
      ],
      "metadata": {
        "id": "31JqEPIeV84n"
      },
      "execution_count": null,
      "outputs": []
    },
    {
      "cell_type": "code",
      "execution_count": 5,
      "metadata": {
        "id": "W2f9gUvuVmYz"
      },
      "outputs": [],
      "source": [
        "def gpt_reponse(query):\n",
        "  response = client.chat.completions.create(\n",
        "    model=\"gpt-4\",\n",
        "    #model=\"gpt-3.5-turbo\"\n",
        "    #response_format={ \"type\": \"json_object\" },\n",
        "    messages=[\n",
        "      #{\"role\": \"system\", \"content\": \"You are a helpful assistant designed to output JSON.\"},\n",
        "      {\"role\": \"system\", \"content\": \"You are a helpful assistant designed to output text.\"},\n",
        "      {\"role\": \"user\", \"content\": query}\n",
        "    ]\n",
        "  )\n",
        "\n",
        "  return response"
      ]
    },
    {
      "cell_type": "code",
      "source": [
        "import warnings\n",
        "warnings.filterwarnings('ignore')\n",
        "\n",
        "import colab_env\n",
        "import openai\n",
        "import os\n",
        "openai.api_key = os.getenv(\"OPENAI_API_KEY\")\n",
        "\n",
        "from openai import OpenAI\n",
        "client = OpenAI()"
      ],
      "metadata": {
        "id": "XaZRK6yrVyEO",
        "colab": {
          "base_uri": "https://localhost:8080/"
        },
        "outputId": "df810c72-cc05-4fd4-f7a1-98cb2327c2ef"
      },
      "execution_count": 6,
      "outputs": [
        {
          "output_type": "stream",
          "name": "stdout",
          "text": [
            "Mounted at /content/gdrive\n"
          ]
        }
      ]
    },
    {
      "cell_type": "code",
      "source": [
        "query = \"I bought an ice cream for 6 kids. Each cone was $1.25 and I paid with a $10 bill. How many dollars did I get back? Explain first before answering.\"\n",
        "response=gpt_reponse(query)\n",
        "\n",
        "print()\n",
        "print(\"-\" * 80)\n",
        "print('Question: %s'%query)\n",
        "print(\"-\" * 80)\n",
        "print('Answer: %s'%response.choices[0].message.content)\n",
        "print(\"-\" * 80)"
      ],
      "metadata": {
        "colab": {
          "base_uri": "https://localhost:8080/"
        },
        "id": "03AQB3j1WgRj",
        "outputId": "118c9f5f-c344-4d06-92d6-ca4564267073"
      },
      "execution_count": 14,
      "outputs": [
        {
          "output_type": "stream",
          "name": "stdout",
          "text": [
            "\n",
            "--------------------------------------------------------------------------------\n",
            "Question: I bought an ice cream for 6 kids. Each cone was $1.25 and I paid with a $10 bill. How many dollars did I get back? Explain first before answering.\n",
            "--------------------------------------------------------------------------------\n",
            "Answer: First, you need to calculate the total price of the ice cream cones. Each cone is $1.25 and you bought 6 cones. Therefore, the total cost is $1.25 x 6 = $7.50.\n",
            "\n",
            "You paid with a $10 bill, so to find out how much you got back, subtract the total cost of the cones ($7.50) from the amount you paid ($10). \n",
            "\n",
            "So, the calculation is $10.00 - $7.50 = $2.50.\n",
            "\n",
            "You got back $2.50.\n",
            "--------------------------------------------------------------------------------\n"
          ]
        }
      ]
    },
    {
      "cell_type": "code",
      "source": [
        "query = \"Who won the world series in 2009 and who lost, explained?, who were the managers?\"\n",
        "response=gpt_reponse(query)\n",
        "\n",
        "print()\n",
        "print(\"-\" * 80)\n",
        "print('Question: %s'%query)\n",
        "print(\"-\" * 80)\n",
        "print('Answer: %s'%response.choices[0].message.content)\n",
        "print(\"-\" * 80)"
      ],
      "metadata": {
        "colab": {
          "base_uri": "https://localhost:8080/"
        },
        "id": "I2sjWQ-GWwSd",
        "outputId": "548fe858-ca13-4e2c-ce09-eacf5df58c87"
      },
      "execution_count": 16,
      "outputs": [
        {
          "output_type": "stream",
          "name": "stdout",
          "text": [
            "\n",
            "--------------------------------------------------------------------------------\n",
            "Question: Who won the world series in 2009 and who lost, explained?, who were the managers?\n",
            "--------------------------------------------------------------------------------\n",
            "Answer: The 2009 World Series was won by the New York Yankees. They defeated the Philadelphia Phillies. This marked the Yankees' 27th World Series championship.\n",
            "\n",
            "The Yankees were led by their manager, Joe Girardi, who had been at the helm since 2008. On the other hand, Charlie Manuel was the manager of the Philadelphia Phillies. He had been managing them since the middle of the 2005 season.\n",
            "\n",
            "In the series, the Yankees won four games to two. It was a tight race but ultimately Yankees came out on top. This victory was significant for the Yankees as it was their first World Series title since 2000, and their first in the new Yankee Stadium.\n",
            "--------------------------------------------------------------------------------\n"
          ]
        }
      ]
    },
    {
      "cell_type": "code",
      "source": [
        "query = \"what is the most cost-saving flight route between New York City and Shanghai? with airlines have it?\"\n",
        "response=gpt_reponse(query)\n",
        "\n",
        "print()\n",
        "print(\"-\" * 80)\n",
        "print('Question: %s'%query)\n",
        "print(\"-\" * 80)\n",
        "print('Answer: %s'%response.choices[0].message.content)\n",
        "print(\"-\" * 80)"
      ],
      "metadata": {
        "colab": {
          "base_uri": "https://localhost:8080/"
        },
        "id": "n85zmiNXtS7V",
        "outputId": "fb1de767-1e3e-4ab3-9c94-e71110e69c29"
      },
      "execution_count": 23,
      "outputs": [
        {
          "output_type": "stream",
          "name": "stdout",
          "text": [
            "\n",
            "--------------------------------------------------------------------------------\n",
            "Question: what is the most cost-saving flight route between New York City and Shanghai? with airlines have it?\n",
            "--------------------------------------------------------------------------------\n",
            "Answer: As an AI text-based model, I don't have real-time capabilities to fetch or provide current data or prices. The most cost-saving flight route can vary greatly depending on various factors including, but not limited to, the time of booking, your travel dates, and the airline you're flying with. I recommend using flight comparison websites like Expedia, Skyscanner, or Google Flights to check for the most affordable options. Popular airlines for this route often include Delta, United Airlines, and China Eastern Airlines. However, be sure to check whether there are any additional charges like baggage fees, which might affect the total cost. Consider setting flight alerts to be notified when prices drop.\n",
            "--------------------------------------------------------------------------------\n"
          ]
        }
      ]
    },
    {
      "cell_type": "code",
      "source": [
        "import IPython\n",
        "import pytz\n",
        "from datetime import datetime\n",
        "\n",
        "prompt = \"GENERATE futuristic IMAGE of Mixture of Expert Architecture. Definitions and Applications included Google's Gemini and Mixtral 8x7B\"\n",
        "\n",
        "response = client.images.generate(\n",
        "  model=\"dall-e-3\",\n",
        "  prompt=\"%s\"%prompt,\n",
        "  #size=\"1024x1024\",\n",
        "  #size=\"256x256\",\n",
        "  quality=\"standard\",\n",
        "  n=1,\n",
        "  #=\"b64_json\",\n",
        ")\n",
        "\n",
        "\n",
        "image_url = response.data[0].url\n",
        "\n",
        "print(prompt)\n",
        "print()\n",
        "print(response.data[0].url)\n",
        "print()\n",
        "\n",
        "# datetime object containing current date and time\n",
        "newYorkTz = pytz.timezone(\"America/New_York\")\n",
        "now = datetime.now(newYorkTz)\n",
        "#print(\"now =\", now)\n",
        "\n",
        "# dd/mm/YY H:M:S\n",
        "dt_string = now.strftime(\"%d/%m/%Y %H:%M:%S\")\n",
        "#print(\"date and time =\", dt_string)\n",
        "\n",
        "print()\n",
        "print('TEST - OPENAI/GPT-4-VISION API - MODEL Dall-e-3 - BY FRANK MORALES - %s'%dt_string)\n",
        "print()\n",
        "\n",
        "\n",
        "IPython.display.HTML(\"<img src =\" + response.data[0].url + \">\")"
      ],
      "metadata": {
        "colab": {
          "base_uri": "https://localhost:8080/",
          "height": 1000
        },
        "id": "4xro7VQGXNU0",
        "outputId": "218aab18-f412-4a58-fc9e-da8016901eb7"
      },
      "execution_count": 10,
      "outputs": [
        {
          "output_type": "stream",
          "name": "stdout",
          "text": [
            "GENERATE futuristic IMAGE of Mixture of Expert Architecture. Definitions and Applications included Google's Gemini and Mixtral 8x7B\n",
            "\n",
            "https://oaidalleapiprodscus.blob.core.windows.net/private/org-kw9OnWtmHIJ748Xe7oTALKxl/user-mgtzrBIISo3G68oiCnIQ0OBP/img-xnud98OUU7aN6ZFvHdCLryWP.png?st=2024-02-24T23%3A49%3A48Z&se=2024-02-25T01%3A49%3A48Z&sp=r&sv=2021-08-06&sr=b&rscd=inline&rsct=image/png&skoid=6aaadede-4fb3-4698-a8f6-684d7786b067&sktid=a48cca56-e6da-484e-a814-9c849652bcb3&skt=2024-02-24T18%3A30%3A25Z&ske=2024-02-25T18%3A30%3A25Z&sks=b&skv=2021-08-06&sig=bbMfDOjOgBnwRHpAwA%2Bf/DpkxJRD3utPoN%2BB2RzAgyg%3D\n",
            "\n",
            "\n",
            "TEST - OPENAI/GPT-4-VISION API - MODEL Dall-e-3 - BY FRANK MORALES - 24/02/2024 19:49:48\n",
            "\n"
          ]
        },
        {
          "output_type": "execute_result",
          "data": {
            "text/plain": [
              "<IPython.core.display.HTML object>"
            ],
            "text/html": [
              "<img src =https://oaidalleapiprodscus.blob.core.windows.net/private/org-kw9OnWtmHIJ748Xe7oTALKxl/user-mgtzrBIISo3G68oiCnIQ0OBP/img-xnud98OUU7aN6ZFvHdCLryWP.png?st=2024-02-24T23%3A49%3A48Z&se=2024-02-25T01%3A49%3A48Z&sp=r&sv=2021-08-06&sr=b&rscd=inline&rsct=image/png&skoid=6aaadede-4fb3-4698-a8f6-684d7786b067&sktid=a48cca56-e6da-484e-a814-9c849652bcb3&skt=2024-02-24T18%3A30%3A25Z&ske=2024-02-25T18%3A30%3A25Z&sks=b&skv=2021-08-06&sig=bbMfDOjOgBnwRHpAwA%2Bf/DpkxJRD3utPoN%2BB2RzAgyg%3D>"
            ]
          },
          "metadata": {},
          "execution_count": 10
        }
      ]
    }
  ]
}