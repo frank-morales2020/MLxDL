{
  "cells": [
    {
      "cell_type": "markdown",
      "metadata": {
        "id": "view-in-github",
        "colab_type": "text"
      },
      "source": [
        "<a href=\"https://colab.research.google.com/github/frank-morales2020/MLxDL/blob/main/transformer_from_scratch.ipynb\" target=\"_parent\"><img src=\"https://colab.research.google.com/assets/colab-badge.svg\" alt=\"Open In Colab\"/></a>"
      ]
    },
    {
      "cell_type": "raw",
      "metadata": {
        "id": "a00b8d88-fc87-4561-a9f6-e8cd32a5e3aa"
      },
      "source": [
        "---\n",
        "title: \"Transformers From Scratch\"\n",
        "author: \"Mat Miller\"\n",
        "date: \"01/06/2024\"\n",
        "categories: [python, transformers]\n",
        "image: transformer_coding_1.png\n",
        "card-style: summary\n",
        "format:\n",
        "  html:\n",
        "    css: '../../styles.css'\n",
        "    number-sections: true\n",
        "    toc: true\n",
        "    theme: cosmo\n",
        "    highlight-style: tango\n",
        "    code-fold: false\n",
        "    self-contained: true\n",
        "---"
      ],
      "id": "a00b8d88-fc87-4561-a9f6-e8cd32a5e3aa"
    },
    {
      "cell_type": "markdown",
      "metadata": {
        "id": "b965d4ab"
      },
      "source": [
        "[![Open in Google Colab](https://colab.research.google.com/assets/colab-badge.svg)](https://colab.research.google.com/github/matdmiller/blog/blob/main/posts/2023-06-10_transformers/notebook.ipynb)<br><br>\n",
        "In this blog we're going to walk through creating and training a transformer from scratch. We'll go through each foundational element step by step and explain what is happening along the way. This blog is written in a Jupyter notebook which you can [download](https://github.com/matdmiller/blog/blob/main/posts/2023-06-10_transformers/notebook.ipynb) and use to run the code yourself as you follow along. Running the code as you follow along and changing it to see how the output changes will help you learn the concepts better than reading alone. While this is a lengthy topic, please don't be too alarmed with the length of the notebook or the amount of code. Most of it is copied from previous cells as we build up the transformer. Rather than just showing the code that was changed which would have shortened things up considerably, I chose to copy all required code down to the next cell to allow this entire notebook to be run from top to bottom. This should make it easier to run as well as allow you to experiment with each new concept as we go.\n",
        "\n",
        "I'll be closely following [Andrej Karpathy's YouTube video 'Let's build GPT: from scratch, in code, spelled out.'](https://www.youtube.com/watch?v=kCc8FmEb1nY). We'll be heavily referencing the [Attention Is All You Need](https://arxiv.org/abs/1706.03762) paper as we go. If you would rather you can download the final version of the code from [Andrej's repo](https://github.com/karpathy/ng-video-lecture). The dataset we'll be using for this can downloaded [here](https://raw.githubusercontent.com/karpathy/char-rnn/master/data/tinyshakespeare/input.txt). You may also find referencing Andrej's [nanoGPT](https://github.com/karpathy/nanoGPT) repo helpful as well.\n",
        "\n",
        "\n",
        "NOTE by frank morales January 23rd, 2024: THE ORIGINAL AUTHOR PUBLISHED HERE:\n",
        "https://blog.matdmiller.com/posts/2023-06-10_transformers/notebook.html\n"
      ],
      "id": "b965d4ab"
    },
    {
      "cell_type": "markdown",
      "metadata": {
        "id": "bff786fa-66b6-46ff-ab62-690ce1528ac3"
      },
      "source": [
        "# Getting started"
      ],
      "id": "bff786fa-66b6-46ff-ab62-690ce1528ac3"
    },
    {
      "cell_type": "markdown",
      "metadata": {
        "id": "38ce4605-8a98-4d48-9075-867759ee2e61"
      },
      "source": [
        "To get started we'll first download the mini shakespeare dataset."
      ],
      "id": "38ce4605-8a98-4d48-9075-867759ee2e61"
    },
    {
      "cell_type": "code",
      "execution_count": null,
      "metadata": {
        "colab": {
          "base_uri": "https://localhost:8080/"
        },
        "id": "6cf3512b-78fc-44ae-b109-67a869bfa38e",
        "outputId": "a95012bd-32bc-4b8b-aee7-befebb54910c"
      },
      "outputs": [
        {
          "output_type": "stream",
          "name": "stdout",
          "text": [
            "--2024-01-21 06:30:57--  https://raw.githubusercontent.com/karpathy/char-rnn/master/data/tinyshakespeare/input.txt\n",
            "Resolving raw.githubusercontent.com (raw.githubusercontent.com)... 185.199.108.133, 185.199.109.133, 185.199.110.133, ...\n",
            "Connecting to raw.githubusercontent.com (raw.githubusercontent.com)|185.199.108.133|:443... connected.\n",
            "HTTP request sent, awaiting response... 200 OK\n",
            "Length: 1115394 (1.1M) [text/plain]\n",
            "Saving to: ‘input.txt.2’\n",
            "\n",
            "\rinput.txt.2           0%[                    ]       0  --.-KB/s               \rinput.txt.2         100%[===================>]   1.06M  --.-KB/s    in 0.03s   \n",
            "\n",
            "2024-01-21 06:30:57 (31.3 MB/s) - ‘input.txt.2’ saved [1115394/1115394]\n",
            "\n"
          ]
        }
      ],
      "source": [
        "#| output: true\n",
        "!wget https://raw.githubusercontent.com/karpathy/char-rnn/master/data/tinyshakespeare/input.txt"
      ],
      "id": "6cf3512b-78fc-44ae-b109-67a869bfa38e"
    },
    {
      "cell_type": "markdown",
      "metadata": {
        "id": "f50de3d5-1c6f-4bea-b276-3d89f12820c0"
      },
      "source": [
        "Let's open it up and take a peek at what's inside."
      ],
      "id": "f50de3d5-1c6f-4bea-b276-3d89f12820c0"
    },
    {
      "cell_type": "code",
      "execution_count": null,
      "metadata": {
        "colab": {
          "base_uri": "https://localhost:8080/"
        },
        "id": "20c0dbc5-a40e-4697-9ab1-12f90d1d83a7",
        "outputId": "cb77b3fd-6012-4ac1-f249-af07f35b01d2"
      },
      "outputs": [
        {
          "output_type": "stream",
          "name": "stdout",
          "text": [
            "Length of input.txt (characters): 1115394\n",
            "First 500 characters: First Citizen:\n",
            "Before we proceed any further, hear me speak.\n",
            "\n",
            "All:\n",
            "Speak, speak.\n",
            "\n",
            "First Citizen:\n",
            "You are all resolved rather to die than to famish?\n",
            "\n",
            "All:\n",
            "Resolved. resolved.\n",
            "\n",
            "First Citizen:\n",
            "First, you know Caius Marcius is chief enemy to the people.\n",
            "\n",
            "All:\n",
            "We know't, we know't.\n",
            "\n",
            "First Citizen:\n",
            "Let us kill him, and we'll have corn at our own price.\n",
            "Is't a verdict?\n",
            "\n",
            "All:\n",
            "No more talking on't; let it be done: away, away!\n",
            "\n",
            "Second Citizen:\n",
            "One word, good citizens.\n",
            "\n",
            "First Citizen:\n",
            "We are accounted poor\n"
          ]
        }
      ],
      "source": [
        "#| output: true\n",
        "with open('input.txt') as f:\n",
        "    text = f.read()\n",
        "print('Length of input.txt (characters):',len(text))\n",
        "print('First 500 characters:',text[:500])"
      ],
      "id": "20c0dbc5-a40e-4697-9ab1-12f90d1d83a7"
    },
    {
      "cell_type": "markdown",
      "metadata": {
        "id": "acd72b83-e1bf-47b1-a461-795c0ac11809"
      },
      "source": [
        "# Tokenization"
      ],
      "id": "acd72b83-e1bf-47b1-a461-795c0ac11809"
    },
    {
      "cell_type": "markdown",
      "metadata": {
        "id": "015da39c-5b7b-4e09-b239-177576158b73"
      },
      "source": [
        "Now that we have our dataset the first thing we need to do is break it down into tokens which will be fed into the model. This is known as tokenization. There are various techniques for tokenization, `sub-word` being used in most of the more modern LLM's. Because our dataset is small for this toy problem, we are instead going to tokenize by each individual character. This makes tokenzation much simpler to implement and will also significantly reduce the number of unique tokens. The first thing we need to do is to go through the dataset and get a list of all unique characters or tokens which is known as the vocab."
      ],
      "id": "015da39c-5b7b-4e09-b239-177576158b73"
    },
    {
      "cell_type": "code",
      "execution_count": null,
      "metadata": {
        "colab": {
          "base_uri": "https://localhost:8080/"
        },
        "id": "7591cb0b-3181-475a-918d-0d02f431194f",
        "outputId": "e0770c57-b8b6-4528-fef3-a46a308cefdc"
      },
      "outputs": [
        {
          "output_type": "stream",
          "name": "stdout",
          "text": [
            "Vocab Size: 65\n",
            "Vocab: ['\\n', ' ', '!', '$', '&', \"'\", ',', '-', '.', '3', ':', ';', '?', 'A', 'B', 'C', 'D', 'E', 'F', 'G', 'H', 'I', 'J', 'K', 'L', 'M', 'N', 'O', 'P', 'Q', 'R', 'S', 'T', 'U', 'V', 'W', 'X', 'Y', 'Z', 'a', 'b', 'c', 'd', 'e', 'f', 'g', 'h', 'i', 'j', 'k', 'l', 'm', 'n', 'o', 'p', 'q', 'r', 's', 't', 'u', 'v', 'w', 'x', 'y', 'z']\n"
          ]
        }
      ],
      "source": [
        "#| output: true\n",
        "vocab = sorted(list(set(text)))\n",
        "vocab_size = len(vocab)\n",
        "print('Vocab Size:',vocab_size)\n",
        "print('Vocab:',vocab)"
      ],
      "id": "7591cb0b-3181-475a-918d-0d02f431194f"
    },
    {
      "cell_type": "markdown",
      "metadata": {
        "id": "a71e1ed4-ae39-4af8-947c-0fee8f102baf"
      },
      "source": [
        "The neural networks are unable to take in characters directly. We must first convert the tokens to integers, which in our case means converting each individual character into integers. Those integers will then be used to index into the set of token embeddings. Token embeddings are learned vectors that represent each token that will be passed into the model. Let's create our character to index (integer) mapping."
      ],
      "id": "a71e1ed4-ae39-4af8-947c-0fee8f102baf"
    },
    {
      "cell_type": "code",
      "execution_count": null,
      "metadata": {
        "colab": {
          "base_uri": "https://localhost:8080/"
        },
        "id": "c04083bc-1102-48d5-8438-b9e5c63ee88a",
        "outputId": "e750201c-e26c-4092-cf15-8510ef181b2f"
      },
      "outputs": [
        {
          "output_type": "stream",
          "name": "stdout",
          "text": [
            "Character to index: {'\\n': 0, ' ': 1, '!': 2, '$': 3, '&': 4, \"'\": 5, ',': 6, '-': 7, '.': 8, '3': 9, ':': 10, ';': 11, '?': 12, 'A': 13, 'B': 14, 'C': 15, 'D': 16, 'E': 17, 'F': 18, 'G': 19, 'H': 20, 'I': 21, 'J': 22, 'K': 23, 'L': 24, 'M': 25, 'N': 26, 'O': 27, 'P': 28, 'Q': 29, 'R': 30, 'S': 31, 'T': 32, 'U': 33, 'V': 34, 'W': 35, 'X': 36, 'Y': 37, 'Z': 38, 'a': 39, 'b': 40, 'c': 41, 'd': 42, 'e': 43, 'f': 44, 'g': 45, 'h': 46, 'i': 47, 'j': 48, 'k': 49, 'l': 50, 'm': 51, 'n': 52, 'o': 53, 'p': 54, 'q': 55, 'r': 56, 's': 57, 't': 58, 'u': 59, 'v': 60, 'w': 61, 'x': 62, 'y': 63, 'z': 64}\n",
            "Index to character:, {0: '\\n', 1: ' ', 2: '!', 3: '$', 4: '&', 5: \"'\", 6: ',', 7: '-', 8: '.', 9: '3', 10: ':', 11: ';', 12: '?', 13: 'A', 14: 'B', 15: 'C', 16: 'D', 17: 'E', 18: 'F', 19: 'G', 20: 'H', 21: 'I', 22: 'J', 23: 'K', 24: 'L', 25: 'M', 26: 'N', 27: 'O', 28: 'P', 29: 'Q', 30: 'R', 31: 'S', 32: 'T', 33: 'U', 34: 'V', 35: 'W', 36: 'X', 37: 'Y', 38: 'Z', 39: 'a', 40: 'b', 41: 'c', 42: 'd', 43: 'e', 44: 'f', 45: 'g', 46: 'h', 47: 'i', 48: 'j', 49: 'k', 50: 'l', 51: 'm', 52: 'n', 53: 'o', 54: 'p', 55: 'q', 56: 'r', 57: 's', 58: 't', 59: 'u', 60: 'v', 61: 'w', 62: 'x', 63: 'y', 64: 'z'}\n",
            "Tokenization of `Hello World!`: [20, 43, 50, 50, 53, 1, 35, 53, 56, 50, 42, 2]\n",
            "String for token sequence `[20, 43, 50, 50, 53, 1, 35, 53, 56, 50, 42, 2]`: Hello World!\n"
          ]
        }
      ],
      "source": [
        "#| output: true\n",
        "char2idx = {char:idx for idx,char in enumerate(vocab)}\n",
        "idx2char = {idx:char for char,idx in char2idx.items()}\n",
        "encode = lambda x: [char2idx[char] for char in x]\n",
        "decode = lambda idxs: ''.join([idx2char[idx] for idx in idxs])\n",
        "print('Character to index:',char2idx)\n",
        "print('Index to character:,',idx2char)\n",
        "print('Tokenization of `Hello World!`:',encode('Hello World!'))\n",
        "print('String for token sequence `[20, 43, 50, 50, 53, 1, 35, 53, 56, 50, 42, 2]`:',decode([20, 43, 50, 50, 53, 1, 35, 53, 56, 50, 42, 2]))"
      ],
      "id": "c04083bc-1102-48d5-8438-b9e5c63ee88a"
    },
    {
      "cell_type": "markdown",
      "metadata": {
        "id": "0e17f19f-2ac1-47c1-ac2a-bee45f8cd39f"
      },
      "source": [
        "Now that we have our tokenizer we can go through and tokenize the dataset. This step may sometimes be done on the fly during training and inference instead of ahead of time with large datasets, but for our small dataset we can easily and quickly do this without significant memory utilization."
      ],
      "id": "0e17f19f-2ac1-47c1-ac2a-bee45f8cd39f"
    },
    {
      "cell_type": "markdown",
      "metadata": {
        "id": "f85b2f28-7341-406f-88cd-7309e8ae7218"
      },
      "source": [
        "We are going to import pytorch and create a tensor for our encoded dataset. Pytorch is the library we'll be using to create and train the model."
      ],
      "id": "f85b2f28-7341-406f-88cd-7309e8ae7218"
    },
    {
      "cell_type": "code",
      "execution_count": null,
      "metadata": {
        "colab": {
          "base_uri": "https://localhost:8080/"
        },
        "id": "722b8a0e-8cad-47c9-ba4b-efdfa6258e1a",
        "outputId": "c7d90766-a50f-4fb1-cedd-d4155d340f74"
      },
      "outputs": [
        {
          "output_type": "stream",
          "name": "stdout",
          "text": [
            "Encoded Text shape: torch.Size([1115394]) Encoded Text Dtype: torch.int64\n"
          ]
        },
        {
          "output_type": "execute_result",
          "data": {
            "text/plain": [
              "tensor([18, 47, 56,  ..., 45,  8,  0])"
            ]
          },
          "metadata": {},
          "execution_count": 9
        }
      ],
      "source": [
        "#| output: true\n",
        "import torch\n",
        "encoded_text = torch.tensor(encode(text))\n",
        "print('Encoded Text shape:',encoded_text.shape, 'Encoded Text Dtype:', encoded_text.dtype)\n",
        "encoded_text"
      ],
      "id": "722b8a0e-8cad-47c9-ba4b-efdfa6258e1a"
    },
    {
      "cell_type": "markdown",
      "metadata": {
        "id": "45936865-b8e5-4a58-8c92-9a9fd32e0d75"
      },
      "source": [
        "Now that we have the encoded text, we need to split it into a training and validation set. Creating a validation set will allow us to test the performance of our model after each epoch, or at an another interval of our choosing, to ensure that it's training correctly or improving over time. A typical split between training and validation is 90/10 which is what we'll use."
      ],
      "id": "45936865-b8e5-4a58-8c92-9a9fd32e0d75"
    },
    {
      "cell_type": "code",
      "execution_count": null,
      "metadata": {
        "colab": {
          "base_uri": "https://localhost:8080/"
        },
        "id": "c956234d-eef8-417c-9afb-d204197eadf6",
        "outputId": "da144308-6bc9-49cb-90e1-98672a9f22a0"
      },
      "outputs": [
        {
          "output_type": "execute_result",
          "data": {
            "text/plain": [
              "1003854"
            ]
          },
          "metadata": {},
          "execution_count": 10
        }
      ],
      "source": [
        "#| output: true\n",
        "train_split_pct = 0.9\n",
        "train_split_idx = int(len(encoded_text)*train_split_pct)\n",
        "train_split_idx"
      ],
      "id": "c956234d-eef8-417c-9afb-d204197eadf6"
    },
    {
      "cell_type": "code",
      "execution_count": null,
      "metadata": {
        "colab": {
          "base_uri": "https://localhost:8080/"
        },
        "id": "cf42d843-2aca-4781-a979-7c9e418fc0cd",
        "outputId": "ffb0f65d-ec72-493c-e1b5-1907e188c34c"
      },
      "outputs": [
        {
          "output_type": "stream",
          "name": "stdout",
          "text": [
            "Train data length: 1003854 Valid data length: 111540 Train percentage: 0.8999994620734916\n"
          ]
        }
      ],
      "source": [
        "#| output: true\n",
        "train_data = encoded_text[:train_split_idx]\n",
        "valid_data = encoded_text[train_split_idx:]\n",
        "print('Train data length:',len(train_data),'Valid data length:',len(valid_data),\n",
        "      'Train percentage:',len(train_data)/len(encoded_text))"
      ],
      "id": "cf42d843-2aca-4781-a979-7c9e418fc0cd"
    },
    {
      "cell_type": "markdown",
      "metadata": {
        "id": "a1855521-e120-4ff8-9b1f-dc1003674a23"
      },
      "source": [
        "Next we need to choose our context length. The context lenth is the maximum length of the sequence used when training the transformer. This is sometimes also referred to as the block size, which is how Andrej refers to it. When the transformer is trained, it is trained on each combination of tokens up to the maximum context length. For example if the context length was 5 the transformer would be trained on (0,1), (0,1,2), (0,1,2,3), and (0,1,2,3,4). Let's look at a more concrete example in code."
      ],
      "id": "a1855521-e120-4ff8-9b1f-dc1003674a23"
    },
    {
      "cell_type": "code",
      "execution_count": null,
      "metadata": {
        "colab": {
          "base_uri": "https://localhost:8080/"
        },
        "id": "46c0216b-4cfd-46c0-99a0-a8d28ca51d69",
        "outputId": "eb78f18c-053e-4fd8-ee27-b87fa79b1b61"
      },
      "outputs": [
        {
          "output_type": "stream",
          "name": "stdout",
          "text": [
            "idx: 0 x: tensor([18]) y: tensor(47)  | decoded version: x: F y: i\n",
            "idx: 1 x: tensor([18, 47]) y: tensor(56)  | decoded version: x: Fi y: r\n",
            "idx: 2 x: tensor([18, 47, 56]) y: tensor(57)  | decoded version: x: Fir y: s\n",
            "idx: 3 x: tensor([18, 47, 56, 57]) y: tensor(58)  | decoded version: x: Firs y: t\n",
            "idx: 4 x: tensor([18, 47, 56, 57, 58]) y: tensor(1)  | decoded version: x: First y:  \n",
            "idx: 5 x: tensor([18, 47, 56, 57, 58,  1]) y: tensor(15)  | decoded version: x: First  y: C\n",
            "idx: 6 x: tensor([18, 47, 56, 57, 58,  1, 15]) y: tensor(47)  | decoded version: x: First C y: i\n",
            "idx: 7 x: tensor([18, 47, 56, 57, 58,  1, 15, 47]) y: tensor(58)  | decoded version: x: First Ci y: t\n"
          ]
        }
      ],
      "source": [
        "#| output: true\n",
        "context_length = 8\n",
        "for i in range(context_length):\n",
        "    x,y = train_data[:i+1], train_data[i+1]\n",
        "    print('idx:',i,'x:',x,'y:',y,' | decoded version: x:',decode(x.tolist()),'y:',decode(y[None].tolist()))"
      ],
      "id": "46c0216b-4cfd-46c0-99a0-a8d28ca51d69"
    },
    {
      "cell_type": "code",
      "execution_count": null,
      "metadata": {
        "id": "895e5af0-d98c-499a-b58e-dc16af63348d"
      },
      "outputs": [],
      "source": [
        "#| output: true\n",
        "TORCH_SEED = 1337 #Setting a manual torch seed for reproducable results\n",
        "torch.manual_seed(TORCH_SEED) #Used to compare against @karpathy's lecture\n",
        "context_length = 8 #Maximum number of tokens used in each training sequence\n",
        "batch_size = 4 #number of batches that will be trained in parallel."
      ],
      "id": "895e5af0-d98c-499a-b58e-dc16af63348d"
    },
    {
      "cell_type": "markdown",
      "metadata": {
        "id": "7f3f574c-46f1-4473-ab68-d0c80691a57f"
      },
      "source": [
        "# Data Loader"
      ],
      "id": "7f3f574c-46f1-4473-ab68-d0c80691a57f"
    },
    {
      "cell_type": "markdown",
      "metadata": {
        "id": "7735beda-a6c1-4a5c-8b3a-f062a20a1a78"
      },
      "source": [
        "Now we'll implement a function to get a batch of data from our training and validation datasets. We'll specify which dataset to pull from as a parameter and return the inputs and targets which we're naming x and y respectively. We'll go ahead and print out everything through the process so you can see what's going on."
      ],
      "id": "7735beda-a6c1-4a5c-8b3a-f062a20a1a78"
    },
    {
      "cell_type": "code",
      "execution_count": null,
      "metadata": {
        "colab": {
          "base_uri": "https://localhost:8080/"
        },
        "id": "a308609d-8d38-4d21-bc90-03f55f60a5cd",
        "outputId": "b38b7650-b8fd-441c-c505-5643643b3851"
      },
      "outputs": [
        {
          "output_type": "stream",
          "name": "stdout",
          "text": [
            "inputs:\n",
            "shape: torch.Size([4, 8])\n",
            "tensor([[24, 43, 58,  5, 57,  1, 46, 43],\n",
            "        [44, 53, 56,  1, 58, 46, 39, 58],\n",
            "        [52, 58,  1, 58, 46, 39, 58,  1],\n",
            "        [25, 17, 27, 10,  0, 21,  1, 54]])\n",
            "targets:\n",
            "shape: torch.Size([4, 8])\n",
            "tensor([[43, 58,  5, 57,  1, 46, 43, 39],\n",
            "        [53, 56,  1, 58, 46, 39, 58,  1],\n",
            "        [58,  1, 58, 46, 39, 58,  1, 46],\n",
            "        [17, 27, 10,  0, 21,  1, 54, 39]]) \n",
            "-----------------------------------------------\n",
            "Given input context ([24]) the target is: 43\n",
            "Given input context ([24, 43]) the target is: 58\n",
            "Given input context ([24, 43, 58]) the target is: 5\n",
            "Given input context ([24, 43, 58, 5]) the target is: 57\n",
            "Given input context ([24, 43, 58, 5, 57]) the target is: 1\n",
            "Given input context ([24, 43, 58, 5, 57, 1]) the target is: 46\n",
            "Given input context ([24, 43, 58, 5, 57, 1, 46]) the target is: 43\n",
            "Given input context ([24, 43, 58, 5, 57, 1, 46, 43]) the target is: 39\n",
            "Given input context ([44]) the target is: 53\n",
            "Given input context ([44, 53]) the target is: 56\n",
            "Given input context ([44, 53, 56]) the target is: 1\n",
            "Given input context ([44, 53, 56, 1]) the target is: 58\n",
            "Given input context ([44, 53, 56, 1, 58]) the target is: 46\n",
            "Given input context ([44, 53, 56, 1, 58, 46]) the target is: 39\n",
            "Given input context ([44, 53, 56, 1, 58, 46, 39]) the target is: 58\n",
            "Given input context ([44, 53, 56, 1, 58, 46, 39, 58]) the target is: 1\n",
            "Given input context ([52]) the target is: 58\n",
            "Given input context ([52, 58]) the target is: 1\n",
            "Given input context ([52, 58, 1]) the target is: 58\n",
            "Given input context ([52, 58, 1, 58]) the target is: 46\n",
            "Given input context ([52, 58, 1, 58, 46]) the target is: 39\n",
            "Given input context ([52, 58, 1, 58, 46, 39]) the target is: 58\n",
            "Given input context ([52, 58, 1, 58, 46, 39, 58]) the target is: 1\n",
            "Given input context ([52, 58, 1, 58, 46, 39, 58, 1]) the target is: 46\n",
            "Given input context ([25]) the target is: 17\n",
            "Given input context ([25, 17]) the target is: 27\n",
            "Given input context ([25, 17, 27]) the target is: 10\n",
            "Given input context ([25, 17, 27, 10]) the target is: 0\n",
            "Given input context ([25, 17, 27, 10, 0]) the target is: 21\n",
            "Given input context ([25, 17, 27, 10, 0, 21]) the target is: 1\n",
            "Given input context ([25, 17, 27, 10, 0, 21, 1]) the target is: 54\n",
            "Given input context ([25, 17, 27, 10, 0, 21, 1, 54]) the target is: 39\n"
          ]
        }
      ],
      "source": [
        "#| output: true\n",
        "def get_batch(train_valid):\n",
        "    data = train_data if train_valid == 'train' else valid_data\n",
        "    data_len = len(data)\n",
        "    start_idxs = torch.randint(high=len(data) - context_length, size=(batch_size,)) #tensor([ 76049, 234249, 934904, 560986])\n",
        "    # print('start_idxs:',start_idxs)\n",
        "    x = torch.stack([data[i:i+context_length] for i in start_idxs])\n",
        "    y = torch.stack([data[i+1:i+context_length+1] for i in start_idxs])\n",
        "    return x,y\n",
        "xb, yb = get_batch('train')\n",
        "print('inputs:')\n",
        "print('shape:',xb.shape)\n",
        "print(xb)\n",
        "print('targets:')\n",
        "print('shape:',yb.shape)\n",
        "print(yb,'\\n-----------------------------------------------')\n",
        "for batch_idx in range(batch_size):\n",
        "    for sequence_idx in range(context_length):\n",
        "        context = xb[batch_idx,:sequence_idx+1]\n",
        "        target = yb[batch_idx,sequence_idx]\n",
        "        print(f\"Given input context ({context.tolist()}) the target is: {target}\")"
      ],
      "id": "a308609d-8d38-4d21-bc90-03f55f60a5cd"
    },
    {
      "cell_type": "markdown",
      "metadata": {
        "id": "d28096cf-0b6b-41df-899d-ff4af4436b03"
      },
      "source": [
        "You may have noticed that the inputs and targets appear to be the same, just shifted by one, which is correct. To help give you a better understanding on how the inputs and targets are combined, we printed out every combination of input and target. As you can see each input sequence is really multiple sequences starting with the first token in the sequence as the input and the second token in the sequence being the target all the way to the full input sequence being the input and the subsequent character being the target."
      ],
      "id": "d28096cf-0b6b-41df-899d-ff4af4436b03"
    },
    {
      "cell_type": "markdown",
      "metadata": {
        "id": "67c06d58-9c86-4b05-8031-37f94c5582a4"
      },
      "source": [
        "# Bigram Model"
      ],
      "id": "67c06d58-9c86-4b05-8031-37f94c5582a4"
    },
    {
      "cell_type": "markdown",
      "metadata": {
        "id": "6f0fade0-4897-454a-bc8b-9a1d2e759d74"
      },
      "source": [
        "Before jumping into using a transformer we'll start with a bigram model. A bigram model predicts the probability of one token following another. For example given the token for the letter 'a' what is the probability of each token in the vocab will be the next token."
      ],
      "id": "6f0fade0-4897-454a-bc8b-9a1d2e759d74"
    },
    {
      "cell_type": "code",
      "execution_count": null,
      "metadata": {
        "id": "dbafe199-ddd0-4e65-bf80-fe12d7c64c01"
      },
      "outputs": [],
      "source": [
        "#| output: true\n",
        "import torch.nn as nn\n",
        "from torch.nn import functional as F"
      ],
      "id": "dbafe199-ddd0-4e65-bf80-fe12d7c64c01"
    },
    {
      "cell_type": "code",
      "execution_count": null,
      "metadata": {
        "colab": {
          "base_uri": "https://localhost:8080/"
        },
        "id": "c44c073d-3d9c-4787-b1d8-c4c9b3200348",
        "outputId": "0817f1be-517e-4e8b-8259-2850c23b0889"
      },
      "outputs": [
        {
          "output_type": "stream",
          "name": "stdout",
          "text": [
            "Bigram Model Output Shapes out: torch.Size([4, 8, 65]) xb: torch.Size([4, 8]) yb: torch.Size([4, 8]) embeddings: Embedding(65, 65)\n"
          ]
        }
      ],
      "source": [
        "#| output: true\n",
        "torch.manual_seed(TORCH_SEED)\n",
        "class BigramLanguageModel(nn.Module):\n",
        "    def __init__(self, vocab_size):\n",
        "        super().__init__()\n",
        "        self.vocab_size = vocab_size\n",
        "        #Each token reads off the logits (~probabilities) from the subsequent token from the lookup table\n",
        "        self.token_embedding_table = nn.Embedding(num_embeddings=self.vocab_size, embedding_dim=self.vocab_size)\n",
        "\n",
        "    def forward(self, idx, targets):\n",
        "        #Both idx and targets are (B,T) Batch x Time array of integers\n",
        "        logits = self.token_embedding_table(idx) #(B,T,C) Batch, Time, Channel\n",
        "        return logits\n",
        "\n",
        "bigram_model = BigramLanguageModel(vocab_size=vocab_size)\n",
        "out = bigram_model(xb, yb)\n",
        "print('Bigram Model Output Shapes out:',out.shape,'xb:',xb.shape,'yb:',yb.shape,'embeddings:',bigram_model.token_embedding_table)"
      ],
      "id": "c44c073d-3d9c-4787-b1d8-c4c9b3200348"
    },
    {
      "cell_type": "markdown",
      "metadata": {
        "id": "96e18eb5-86d9-4772-93b3-4cc467f4b4b6"
      },
      "source": [
        "Now we'll add a loss function to the forward method. We will use the negative log likelihood, which is known in pytorch as the [cross entropy loss](https://pytorch.org/docs/stable/generated/torch.nn.functional.cross_entropy.html). To be able to use the cross entropy loss we'll need to reshape the output and targets to match the format that it expects. The model output should be a 2D tensor (B\\*T x C) and targets should be a 1D tensor (B\\*T). We need to squash the batch and time dimensions on the model output and the batch and time dimensions of the targets using the `.view` method."
      ],
      "id": "96e18eb5-86d9-4772-93b3-4cc467f4b4b6"
    },
    {
      "cell_type": "code",
      "execution_count": null,
      "metadata": {
        "colab": {
          "base_uri": "https://localhost:8080/"
        },
        "id": "a255f18a-7df5-480f-bc2b-623a9a4705d1",
        "outputId": "7e2e8f1a-5091-4bcd-e5bc-8697cf6f7157"
      },
      "outputs": [
        {
          "output_type": "stream",
          "name": "stdout",
          "text": [
            "Bigram Model Output Shapes out: torch.Size([4, 8, 65]) xb: torch.Size([4, 8]) yb: torch.Size([4, 8])\n",
            "The calculated loss is: tensor(4.8786, grad_fn=<NllLossBackward0>)\n"
          ]
        }
      ],
      "source": [
        "#| output: true\n",
        "torch.manual_seed(TORCH_SEED)\n",
        "class BigramLanguageModel(nn.Module):\n",
        "    def __init__(self, vocab_size):\n",
        "        super().__init__()\n",
        "        self.vocab_size = vocab_size\n",
        "        #Each token reads off the logits from the subsequent token from the lookup table\n",
        "        self.token_embedding_table = nn.Embedding(num_embeddings=self.vocab_size, embedding_dim=self.vocab_size)\n",
        "\n",
        "    def forward(self, idx, targets):\n",
        "        #Both idx and targets are (B,T) Batch x Time array of integers\n",
        "        logits = self.token_embedding_table(idx) #(B,T,C) Batch, Time, Channel\n",
        "        B,T,C = logits.shape\n",
        "        logits_reshaped = logits.view(B*T,C)\n",
        "        targets_reshaped = targets.view(B*T)\n",
        "        loss = F.cross_entropy(input=logits_reshaped, target=targets_reshaped)\n",
        "        return logits, loss\n",
        "\n",
        "bigram_model = BigramLanguageModel(vocab_size=vocab_size)\n",
        "out,loss = bigram_model(xb, yb)\n",
        "print('Bigram Model Output Shapes out:',out.shape,'xb:',xb.shape,'yb:',yb.shape)\n",
        "print('The calculated loss is:',loss)"
      ],
      "id": "a255f18a-7df5-480f-bc2b-623a9a4705d1"
    },
    {
      "cell_type": "markdown",
      "metadata": {
        "id": "e405d6a1-21f4-4937-b326-5d828c2b4e7d"
      },
      "source": [
        "Now we're going to add a generate method to perform character generation from our model. Instead of explaining here what each generation step is doing, detailed code comments have been added before each step. There are also commented out `print` statements that you can uncomment and run to help you understand what's going on as well.<br>\n",
        "\n",
        "One pytorch function you may not have seen before is [`torch.multinomial`](https://pytorch.org/docs/stable/generated/torch.multinomial.html). It returns `num_samples`, in our case 1, based on the weighted probability distribution of the predictions for each token."
      ],
      "id": "e405d6a1-21f4-4937-b326-5d828c2b4e7d"
    },
    {
      "cell_type": "code",
      "execution_count": null,
      "metadata": {
        "colab": {
          "base_uri": "https://localhost:8080/"
        },
        "id": "a004c675-f14c-4a56-b091-1cf60ff865cd",
        "outputId": "abeeaa2f-cd77-4275-a284-98b3d93ee38d"
      },
      "outputs": [
        {
          "output_type": "stream",
          "name": "stdout",
          "text": [
            "Loss: tensor(4.8786, grad_fn=<NllLossBackward0>)\n",
            "100 Generated Tokens: \n",
            "Sr?qP-QWktXoL&jLDJgOLVz'RIoDqHdhsV&vLLxatjscMpwLERSPyao.qfzs$Ys$zF-w,;eEkzxjgCKFChs!iWW.ObzDnxA Ms$3\n"
          ]
        }
      ],
      "source": [
        "#| output: true\n",
        "torch.manual_seed(TORCH_SEED)\n",
        "class BigramLanguageModel(nn.Module):\n",
        "    def __init__(self, vocab_size):\n",
        "        super().__init__()\n",
        "        self.vocab_size = vocab_size\n",
        "        #Each token reads off the logits from the subsequent token from the lookup table\n",
        "        self.token_embedding_table = nn.Embedding(num_embeddings=self.vocab_size, embedding_dim=self.vocab_size)\n",
        "\n",
        "    def forward(self, idx, targets=None):\n",
        "        #Both idx and targets are (B,T) Batch x Time array of integers\n",
        "        logits = self.token_embedding_table(idx) #(B,T,C) Batch, Time, Channel\n",
        "        if targets is not None:\n",
        "            B,T,C = logits.shape\n",
        "            logits_reshaped = logits.view(B*T,C)\n",
        "            targets_reshaped = targets.view(B*T)\n",
        "            loss = F.cross_entropy(input=logits_reshaped, target=targets_reshaped)\n",
        "        else:\n",
        "            loss=None\n",
        "        return logits, loss\n",
        "\n",
        "    def generate(self, idx, max_new_tokens):\n",
        "        #idx is (B,T) array of indicies in the current context\n",
        "        for _ in range(max_new_tokens):\n",
        "            #Get predictions - calling `forward`\n",
        "            logits, loss = self(idx)\n",
        "            #Get the last time step from logits where the dimensions of the logits are (B,T,C)\n",
        "            logits_last_timestep = logits[:,-1,:] #Becomes (B,C)\n",
        "            # print('Shape of logits_last_timestep:',logits_last_timestep.shape) #confirming shape\n",
        "            #Apply softmax to get probabilities\n",
        "            probs = F.softmax(input=logits_last_timestep, dim=-1) #(B,C)\n",
        "            # print('Shape of probs:', probs.shape) #confirming shape\n",
        "            #Sample from the probs distribution.\n",
        "            idx_next = torch.multinomial(input=probs, num_samples=1) #(B,1) Returns (B,idxs) where idxs are random integer indicies.\n",
        "            # print('Shape of idx_next:',idx_next.shape,'and contents:',idx_next) #look at the shape and contents of idx_next\n",
        "            #Append the sampled indexes idx_next to idx\n",
        "            idx = torch.cat((idx, idx_next), dim=1) #(B, T+1)\n",
        "        return idx\n",
        "\n",
        "bigram_model = BigramLanguageModel(vocab_size=vocab_size)\n",
        "logits, loss = bigram_model(xb,yb)\n",
        "print('Loss:',loss)\n",
        "idx=torch.zeros((1,1), dtype=torch.long)#Creating a single batch with single time step with index of 0\n",
        "#which is the `\\n` new line char to be our starting point.\n",
        "#Now let's generate a character sequence to see what it looks like.\n",
        "print('100 Generated Tokens:',decode(bigram_model.generate(idx,max_new_tokens=100)[0].tolist()))\n"
      ],
      "id": "a004c675-f14c-4a56-b091-1cf60ff865cd"
    },
    {
      "cell_type": "markdown",
      "metadata": {
        "id": "cb10addf-b189-420c-9dfd-6874d6834de9"
      },
      "source": [
        "The output of this is totally nonsensical noise because the model is not trained.  Next we'll get set up to train the model."
      ],
      "id": "cb10addf-b189-420c-9dfd-6874d6834de9"
    },
    {
      "cell_type": "markdown",
      "metadata": {
        "id": "be670c7a-1c5b-4d9d-b782-68231bb901db"
      },
      "source": [
        "The first thing we'll do is create an optimizer:"
      ],
      "id": "be670c7a-1c5b-4d9d-b782-68231bb901db"
    },
    {
      "cell_type": "code",
      "execution_count": null,
      "metadata": {
        "id": "1bec6e4a-ba02-4f27-90de-378bf8ccaaeb"
      },
      "outputs": [],
      "source": [
        "#| output: true\n",
        "optimizer = torch.optim.Adam(params=bigram_model.parameters(), lr=1e-3)"
      ],
      "id": "1bec6e4a-ba02-4f27-90de-378bf8ccaaeb"
    },
    {
      "cell_type": "markdown",
      "metadata": {
        "id": "003d2d7d-447e-45ef-acb2-449d747dd023"
      },
      "source": [
        "For more info on the `Adam` optimizer or optimizers in general, check out this great [video](https://youtu.be/nlVOG2Nzc3k?si=Lj7UH14PG7u48F4M&t=995) from fast.ai. <br>\n",
        "<br>\n",
        "Next, we'll create a basic training loop."
      ],
      "id": "003d2d7d-447e-45ef-acb2-449d747dd023"
    },
    {
      "cell_type": "code",
      "execution_count": null,
      "metadata": {
        "colab": {
          "base_uri": "https://localhost:8080/"
        },
        "id": "088eb32d-b874-4bd7-9723-f0342c526940",
        "outputId": "8823123c-edc4-46d7-c833-1167184ce26c"
      },
      "outputs": [
        {
          "output_type": "stream",
          "name": "stdout",
          "text": [
            "Loss: 4.704 Loss: 4.721 Loss: 4.653 Loss: 4.706 Loss: 4.781 Loss: 4.751 Loss: 4.84 Loss: 4.668 Loss: 4.744 Loss: 4.774 Loss: 4.691 Loss: 4.789 Loss: 4.618 Loss: 4.651 Loss: 4.887 Loss: 4.704 Loss: 4.758 Loss: 4.655 Loss: 4.709 Loss: 4.675 Loss: 4.761 Loss: 4.79 Loss: 4.654 Loss: 4.662 Loss: 4.673 Loss: 4.666 Loss: 4.73 Loss: 4.756 Loss: 4.712 Loss: 4.746 Loss: 4.727 Loss: 4.735 Loss: 4.778 Loss: 4.644 Loss: 4.666 Loss: 4.798 Loss: 4.718 Loss: 4.684 Loss: 4.819 Loss: 4.614 Loss: 4.574 Loss: 4.561 Loss: 4.816 Loss: 4.607 Loss: 4.62 Loss: 4.726 Loss: 4.651 Loss: 4.595 Loss: 4.721 Loss: 4.7 Loss: 4.673 Loss: 4.729 Loss: 4.662 Loss: 4.617 Loss: 4.6 Loss: 4.654 Loss: 4.717 Loss: 4.693 Loss: 4.668 Loss: 4.656 Loss: 4.656 Loss: 4.755 Loss: 4.724 Loss: 4.618 Loss: 4.705 Loss: 4.753 Loss: 4.57 Loss: 4.549 Loss: 4.572 Loss: 4.57 Loss: 4.599 Loss: 4.549 Loss: 4.592 Loss: 4.661 Loss: 4.624 Loss: 4.743 Loss: 4.645 Loss: 4.644 Loss: 4.581 Loss: 4.584 Loss: 4.723 Loss: 4.67 Loss: 4.631 Loss: 4.556 Loss: 4.682 Loss: 4.676 Loss: 4.657 Loss: 4.67 Loss: 4.65 Loss: 4.676 Loss: 4.654 Loss: 4.787 Loss: 4.732 Loss: 4.598 Loss: 4.588 Loss: 4.764 Loss: 4.742 Loss: 4.604 Loss: 4.663 Loss: 4.589 "
          ]
        }
      ],
      "source": [
        "#| output: true\n",
        "batch_size = 32\n",
        "for steps in range(100):\n",
        "    #Sample a batch of data\n",
        "    xb, yb = get_batch('train')\n",
        "\n",
        "    #Evaluate the loss\n",
        "    logits, loss = bigram_model(xb, yb)\n",
        "    optimizer.zero_grad()\n",
        "    loss.backward()\n",
        "    optimizer.step()\n",
        "\n",
        "    print('Loss:',round(loss.item(),3), end=' ')\n"
      ],
      "id": "088eb32d-b874-4bd7-9723-f0342c526940"
    },
    {
      "cell_type": "markdown",
      "metadata": {
        "id": "8cd434ff-d468-4823-87d0-96c6301f1a7f"
      },
      "source": [
        "As you can see the loss is improving, but only a little bit.  Next we'll train for longer."
      ],
      "id": "8cd434ff-d468-4823-87d0-96c6301f1a7f"
    },
    {
      "cell_type": "code",
      "execution_count": null,
      "metadata": {
        "colab": {
          "base_uri": "https://localhost:8080/"
        },
        "id": "7e8c638b-fec9-4c77-bd6a-4d105cd8d177",
        "outputId": "0fdcd51e-b144-4512-871a-52da513df167"
      },
      "outputs": [
        {
          "output_type": "stream",
          "name": "stdout",
          "text": [
            "Step: 0 Loss: 4.66 Step: 100 Loss: 4.472 Step: 200 Loss: 4.323 Step: 300 Loss: 4.256 Step: 400 Loss: 4.245 Step: 500 Loss: 4.166 Step: 600 Loss: 4.049 Step: 700 Loss: 4.097 Step: 800 Loss: 3.75 Step: 900 Loss: 3.707 "
          ]
        }
      ],
      "source": [
        "#| output: true\n",
        "batch_size = 32\n",
        "for steps in range(1000):\n",
        "    #Sample a batch of data\n",
        "    xb, yb = get_batch('train')\n",
        "\n",
        "    #Evaluate the loss\n",
        "    logits, loss = bigram_model(xb, yb)\n",
        "    optimizer.zero_grad()\n",
        "    loss.backward()\n",
        "    optimizer.step()\n",
        "\n",
        "    if steps % 100 == 0: print('Step:',steps,'Loss:',round(loss.item(),3), end=' ')\n"
      ],
      "id": "7e8c638b-fec9-4c77-bd6a-4d105cd8d177"
    },
    {
      "cell_type": "markdown",
      "metadata": {
        "id": "c427db7b-7718-4fce-a38f-a205c372c308"
      },
      "source": [
        "The loss seems to be steadily decreasing. Let's train for a lot longer and then see what the results look like."
      ],
      "id": "c427db7b-7718-4fce-a38f-a205c372c308"
    },
    {
      "cell_type": "code",
      "execution_count": null,
      "metadata": {
        "colab": {
          "base_uri": "https://localhost:8080/"
        },
        "id": "3040ae25-8c06-41dd-80e9-858cc2877168",
        "outputId": "2da2de38-c9e6-48a5-c0c3-23e57668624b"
      },
      "outputs": [
        {
          "output_type": "stream",
          "name": "stdout",
          "text": [
            "Step: 0 Loss: 3.716 Step: 100 Loss: 3.638 Step: 200 Loss: 3.425 Step: 300 Loss: 3.433 Step: 400 Loss: 3.427 Step: 500 Loss: 3.304 Step: 600 Loss: 3.286 Step: 700 Loss: 3.19 Step: 800 Loss: 3.203 Step: 900 Loss: 3.139 Step: 1000 Loss: 3.003 Step: 1100 Loss: 3.06 Step: 1200 Loss: 2.959 Step: 1300 Loss: 2.982 Step: 1400 Loss: 2.92 Step: 1500 Loss: 2.841 Step: 1600 Loss: 2.89 Step: 1700 Loss: 2.975 Step: 1800 Loss: 2.808 Step: 1900 Loss: 2.777 Step: 2000 Loss: 2.747 Step: 2100 Loss: 2.685 Step: 2200 Loss: 2.68 Step: 2300 Loss: 2.687 Step: 2400 Loss: 2.81 Step: 2500 Loss: 2.692 Step: 2600 Loss: 2.665 Step: 2700 Loss: 2.631 Step: 2800 Loss: 2.752 Step: 2900 Loss: 2.581 Step: 3000 Loss: 2.629 Step: 3100 Loss: 2.625 Step: 3200 Loss: 2.548 Step: 3300 Loss: 2.582 Step: 3400 Loss: 2.603 Step: 3500 Loss: 2.618 Step: 3600 Loss: 2.572 Step: 3700 Loss: 2.511 Step: 3800 Loss: 2.607 Step: 3900 Loss: 2.508 Step: 4000 Loss: 2.572 Step: 4100 Loss: 2.494 Step: 4200 Loss: 2.523 Step: 4300 Loss: 2.483 Step: 4400 Loss: 2.545 Step: 4500 Loss: 2.576 Step: 4600 Loss: 2.6 Step: 4700 Loss: 2.353 Step: 4800 Loss: 2.445 Step: 4900 Loss: 2.528 Step: 5000 Loss: 2.495 Step: 5100 Loss: 2.443 Step: 5200 Loss: 2.444 Step: 5300 Loss: 2.529 Step: 5400 Loss: 2.469 Step: 5500 Loss: 2.554 Step: 5600 Loss: 2.466 Step: 5700 Loss: 2.604 Step: 5800 Loss: 2.569 Step: 5900 Loss: 2.502 Step: 6000 Loss: 2.441 Step: 6100 Loss: 2.521 Step: 6200 Loss: 2.448 Step: 6300 Loss: 2.407 Step: 6400 Loss: 2.396 Step: 6500 Loss: 2.426 Step: 6600 Loss: 2.421 Step: 6700 Loss: 2.492 Step: 6800 Loss: 2.436 Step: 6900 Loss: 2.467 Step: 7000 Loss: 2.492 Step: 7100 Loss: 2.405 Step: 7200 Loss: 2.61 Step: 7300 Loss: 2.465 Step: 7400 Loss: 2.418 Step: 7500 Loss: 2.461 Step: 7600 Loss: 2.441 Step: 7700 Loss: 2.636 Step: 7800 Loss: 2.334 Step: 7900 Loss: 2.482 Step: 8000 Loss: 2.533 Step: 8100 Loss: 2.585 Step: 8200 Loss: 2.371 Step: 8300 Loss: 2.443 Step: 8400 Loss: 2.406 Step: 8500 Loss: 2.525 Step: 8600 Loss: 2.521 Step: 8700 Loss: 2.435 Step: 8800 Loss: 2.428 Step: 8900 Loss: 2.417 Step: 9000 Loss: 2.422 Step: 9100 Loss: 2.416 Step: 9200 Loss: 2.522 Step: 9300 Loss: 2.509 Step: 9400 Loss: 2.456 Step: 9500 Loss: 2.437 Step: 9600 Loss: 2.495 Step: 9700 Loss: 2.601 Step: 9800 Loss: 2.485 Step: 9900 Loss: 2.531 "
          ]
        }
      ],
      "source": [
        "#| output: true\n",
        "batch_size = 32\n",
        "for steps in range(10000):\n",
        "    #Sample a batch of data\n",
        "    xb, yb = get_batch('train')\n",
        "\n",
        "    #Evaluate the loss\n",
        "    logits, loss = bigram_model(xb, yb)\n",
        "    optimizer.zero_grad()\n",
        "    loss.backward()\n",
        "    optimizer.step()\n",
        "\n",
        "    if steps % 100 == 0: print('Step:',steps,'Loss:',round(loss.item(),3), end=' ')\n"
      ],
      "id": "3040ae25-8c06-41dd-80e9-858cc2877168"
    },
    {
      "cell_type": "markdown",
      "metadata": {
        "id": "ecf157df-2e57-45f2-901f-33f296190263"
      },
      "source": [
        "Ok, it looks like the loss has stopped improving. Now we'll see what the output looks like."
      ],
      "id": "ecf157df-2e57-45f2-901f-33f296190263"
    },
    {
      "cell_type": "code",
      "execution_count": null,
      "metadata": {
        "colab": {
          "base_uri": "https://localhost:8080/"
        },
        "id": "83bba9b9-8258-4aec-9ffb-4d587d7f1a96",
        "outputId": "e5f6d953-e936-4949-b141-f6d2ec6bdc3b"
      },
      "outputs": [
        {
          "output_type": "stream",
          "name": "stdout",
          "text": [
            "\n",
            "\n",
            "weangond\n",
            "OMave wap\n",
            "\n",
            "I RO:\n",
            "Banleenoalit-blt\n",
            "INRon\n",
            "\n",
            "UM: nd kngonesll;\n",
            "O: pa heore 'ga llis?-sur inidind;\n",
            "t me rthay n thavee\n",
            "Sw s serer Fofow.\n",
            "Houspathe t:\n",
            "Mind fit.\n",
            "DUKINoceamy hun.\n",
            "CKIUShorst onre t ache bar, simed?\n",
            "And me theluse BHENurind hesto f w m CK:\n",
            "YCESI fatass mbre lious ave\n",
            "Wer'dor' wod y:\n",
            "\n",
            "Henkns ges wise we me y to elil'doug p in t her spalisusin t wndalu?Y ber lishms vekeang-lumod n odas ine a! thayayor hannd t; frat.\n",
            "OLArZAUSum,\n",
            "s I f pin hondecharvyouke helldid t we ke,\n",
            "HOShe lll\n"
          ]
        }
      ],
      "source": [
        "#| output: true\n",
        "print(decode(bigram_model.generate(torch.zeros((1,1), dtype=torch.long),max_new_tokens=500)[0].tolist()))"
      ],
      "id": "83bba9b9-8258-4aec-9ffb-4d587d7f1a96"
    },
    {
      "cell_type": "markdown",
      "metadata": {
        "id": "da111902-b282-4576-a3b7-a678e39c1639"
      },
      "source": [
        "The results are still not great, but they're looking more reasonable than they were at first. There are now things that look like words and sentences. Keep in mind this model is predicting the next token or character solely based on the previous token so it doesn't really have a lot to go by.  Learning about the dataset, training loop and getting a basline with a simplistic model is always a good first step in any AI project. This allows you to see if further improvements are helping as well as gives you a baseline to compare your model with."
      ],
      "id": "da111902-b282-4576-a3b7-a678e39c1639"
    },
    {
      "cell_type": "markdown",
      "metadata": {
        "id": "2124fbe8-c48e-4fba-92c3-1a4bd8b434db"
      },
      "source": [
        "Before moving on, let's do a quick loop through the validation set to see what its loss is so we can use it for comparison in the future."
      ],
      "id": "2124fbe8-c48e-4fba-92c3-1a4bd8b434db"
    },
    {
      "cell_type": "code",
      "execution_count": null,
      "metadata": {
        "colab": {
          "base_uri": "https://localhost:8080/"
        },
        "id": "6dd96e0f-7012-4d2c-a1b2-e2013a7caaac",
        "outputId": "9e765f52-681b-45b0-d973-27aba321c7f0"
      },
      "outputs": [
        {
          "output_type": "stream",
          "name": "stdout",
          "text": [
            "Length of Validation Set:  111540 Shape of Batch: torch.Size([32, 8]) ~Steps needed to cover validation set: 435\n"
          ]
        }
      ],
      "source": [
        "#| output: true\n",
        "print('Length of Validation Set: ',len(valid_data),'Shape of Batch:',xb.shape,'~Steps needed to cover validation set:',\n",
        "      len(valid_data)//batch_size//8)"
      ],
      "id": "6dd96e0f-7012-4d2c-a1b2-e2013a7caaac"
    },
    {
      "cell_type": "code",
      "execution_count": null,
      "metadata": {
        "colab": {
          "base_uri": "https://localhost:8080/"
        },
        "id": "4bb2d832-7152-4db7-bfa0-9f3b75ef260e",
        "outputId": "d2e9f47b-9fa6-40e2-942e-3d3ac49d7fae"
      },
      "outputs": [
        {
          "output_type": "stream",
          "name": "stdout",
          "text": [
            "Step: 0 Loss: 2.441 Step: 10 Loss: 2.524 Step: 20 Loss: 2.545 Step: 30 Loss: 2.53 Step: 40 Loss: 2.397 Step: 50 Loss: 2.469 Step: 60 Loss: 2.563 Step: 70 Loss: 2.475 Step: 80 Loss: 2.621 Step: 90 Loss: 2.517 Step: 100 Loss: 2.536 Step: 110 Loss: 2.609 Step: 120 Loss: 2.492 Step: 130 Loss: 2.385 Step: 140 Loss: 2.473 Step: 150 Loss: 2.54 Step: 160 Loss: 2.53 Step: 170 Loss: 2.611 Step: 180 Loss: 2.504 Step: 190 Loss: 2.425 Step: 200 Loss: 2.454 Step: 210 Loss: 2.459 Step: 220 Loss: 2.539 Step: 230 Loss: 2.496 Step: 240 Loss: 2.392 Step: 250 Loss: 2.394 Step: 260 Loss: 2.439 Step: 270 Loss: 2.433 Step: 280 Loss: 2.509 Step: 290 Loss: 2.458 Step: 300 Loss: 2.452 Step: 310 Loss: 2.439 Step: 320 Loss: 2.593 Step: 330 Loss: 2.461 Step: 340 Loss: 2.348 Step: 350 Loss: 2.421 Step: 360 Loss: 2.455 Step: 370 Loss: 2.574 Step: 380 Loss: 2.47 Step: 390 Loss: 2.507 Step: 400 Loss: 2.404 Step: 410 Loss: 2.491 Step: 420 Loss: 2.365 Step: 430 Loss: 2.494 \n",
            "\n",
            "Final Validation Loss: tensor(2.4817)\n"
          ]
        }
      ],
      "source": [
        "#| output: true\n",
        "batch_size = 32\n",
        "torch.manual_seed(TORCH_SEED)\n",
        "losses = []\n",
        "for steps in range(len(valid_data)//batch_size//8):\n",
        "    #Sample a batch of data\n",
        "    xb, yb = get_batch('valid')\n",
        "    with torch.no_grad():\n",
        "    #Evaluate the loss\n",
        "        logits, loss = bigram_model(xb, yb)\n",
        "        losses.append(loss)\n",
        "\n",
        "    if steps % 10 == 0: print('Step:',steps,'Loss:',round(loss.item(),3), end=' ')\n",
        "print('\\n\\nFinal Validation Loss:',torch.stack(losses,dim=0).mean())"
      ],
      "id": "4bb2d832-7152-4db7-bfa0-9f3b75ef260e"
    },
    {
      "cell_type": "markdown",
      "metadata": {
        "id": "7794d914-6247-42e2-8572-3186ca44b740"
      },
      "source": [
        "The final validation loss appears similar to the training loss which makes sense given how basic this model is. Now we'll move on to creating a transformer and see how it does compared to the our basic bigram model."
      ],
      "id": "7794d914-6247-42e2-8572-3186ca44b740"
    },
    {
      "cell_type": "markdown",
      "metadata": {
        "id": "cb19d2d7-8bfb-4582-b281-41d414bb7ac9"
      },
      "source": [
        "Clearing out variables from above to start fresh."
      ],
      "id": "cb19d2d7-8bfb-4582-b281-41d414bb7ac9"
    },
    {
      "cell_type": "code",
      "execution_count": null,
      "metadata": {
        "id": "b9d1c12c-32ab-4811-9322-5d6ab46d2b69"
      },
      "outputs": [],
      "source": [
        "%reset -f"
      ],
      "id": "b9d1c12c-32ab-4811-9322-5d6ab46d2b69"
    },
    {
      "cell_type": "markdown",
      "metadata": {
        "id": "d4461437-360a-4f0b-9603-465db079baeb"
      },
      "source": [
        "# Code re-write in preparation for Transformers"
      ],
      "id": "d4461437-360a-4f0b-9603-465db079baeb"
    },
    {
      "cell_type": "markdown",
      "metadata": {
        "id": "3111b892-9a5b-444e-93e3-e4007d0498a0"
      },
      "source": [
        "We're going to re-write some of our code from before to clean things up before jumping into building the transformer."
      ],
      "id": "3111b892-9a5b-444e-93e3-e4007d0498a0"
    },
    {
      "cell_type": "code",
      "execution_count": null,
      "metadata": {
        "id": "80896116-66d8-40d4-85b1-ac3272bc1378"
      },
      "outputs": [],
      "source": [
        "#| output: true\n",
        "import torch\n",
        "import torch.nn as nn\n",
        "from torch.nn import functional as F"
      ],
      "id": "80896116-66d8-40d4-85b1-ac3272bc1378"
    },
    {
      "cell_type": "code",
      "execution_count": null,
      "metadata": {
        "colab": {
          "base_uri": "https://localhost:8080/"
        },
        "id": "01f5ee8a-7e65-4a23-b651-8f3c579f4293",
        "outputId": "2847d49c-59d5-4301-b5a7-37b5fde3ae06"
      },
      "outputs": [
        {
          "output_type": "execute_result",
          "data": {
            "text/plain": [
              "<torch._C.Generator at 0x7f79fef71d90>"
            ]
          },
          "metadata": {},
          "execution_count": 28
        }
      ],
      "source": [
        "#| output: true\n",
        "#Hyperparameters\n",
        "batch_size = 32 #Number of token chunks per batch\n",
        "context_length = 8 #Length of the token chunks. Andrej called this block size\n",
        "learning_rate = 1e-2\n",
        "max_iters = 3000 #Number of training iterations or steps. Typically we specify the number of epochs but since we're randomly sampling...\n",
        "#...from the training set we don't necessarily know exactly when we've seen all the text from the training set so we'll use this instead.\n",
        "eval_interval = 300 #Number of steps between evaluating the validation set to see how our validation loss is doing.\n",
        "eval_iters = 200 #Number of steps to do on the validation set per each interval. We do more than 1 to get a more accurate overall valid loss\n",
        "device = 'cuda' if torch.cuda.is_available() else 'cpu' #Instead of using the cpu, we'll use the GPU if it's availble.\n",
        "\n",
        "TORCH_SEED = 1337\n",
        "torch.manual_seed(TORCH_SEED)"
      ],
      "id": "01f5ee8a-7e65-4a23-b651-8f3c579f4293"
    },
    {
      "cell_type": "code",
      "execution_count": null,
      "metadata": {
        "colab": {
          "base_uri": "https://localhost:8080/"
        },
        "id": "1410fe2b-8d30-4a34-a7e7-a47289ffa607",
        "outputId": "f55ba027-6422-496e-9832-0de8aa6946d1"
      },
      "outputs": [
        {
          "output_type": "stream",
          "name": "stdout",
          "text": [
            "Length of text: 1115394\n"
          ]
        }
      ],
      "source": [
        "#| output: true\n",
        "with open('input.txt','r',encoding='utf-8') as f:\n",
        "    text = f.read()\n",
        "print('Length of text:',len(text))"
      ],
      "id": "1410fe2b-8d30-4a34-a7e7-a47289ffa607"
    },
    {
      "cell_type": "code",
      "execution_count": null,
      "metadata": {
        "colab": {
          "base_uri": "https://localhost:8080/"
        },
        "id": "7310f1f0-2018-47ee-ab0b-b4fd31b51ee6",
        "outputId": "1b441889-51f1-4a70-f450-99a8c6314820"
      },
      "outputs": [
        {
          "output_type": "stream",
          "name": "stdout",
          "text": [
            "Vocab size: 65 ,Vocab: ['\\n', ' ', '!', '$', '&', \"'\", ',', '-', '.', '3', ':', ';', '?', 'A', 'B', 'C', 'D', 'E', 'F', 'G', 'H', 'I', 'J', 'K', 'L', 'M', 'N', 'O', 'P', 'Q', 'R', 'S', 'T', 'U', 'V', 'W', 'X', 'Y', 'Z', 'a', 'b', 'c', 'd', 'e', 'f', 'g', 'h', 'i', 'j', 'k', 'l', 'm', 'n', 'o', 'p', 'q', 'r', 's', 't', 'u', 'v', 'w', 'x', 'y', 'z']\n"
          ]
        }
      ],
      "source": [
        "#| output: true\n",
        "vocab = sorted(list(set(text))) #Called chars in the video, but vocab is a more generic term. Both are correct.\n",
        "vocab_size = len(vocab)\n",
        "print('Vocab size:',vocab_size,',Vocab:',vocab)"
      ],
      "id": "7310f1f0-2018-47ee-ab0b-b4fd31b51ee6"
    },
    {
      "cell_type": "markdown",
      "metadata": {
        "id": "e1f933e0-5d29-4154-b392-44e526433b56"
      },
      "source": [
        "Create the token mapping functions"
      ],
      "id": "e1f933e0-5d29-4154-b392-44e526433b56"
    },
    {
      "cell_type": "code",
      "execution_count": null,
      "metadata": {
        "colab": {
          "base_uri": "https://localhost:8080/"
        },
        "id": "c3c8774b-9d8d-45f4-a8b2-34fc341a9082",
        "outputId": "da833818-fa40-4914-ae3d-02c6313177e6"
      },
      "outputs": [
        {
          "output_type": "stream",
          "name": "stdout",
          "text": [
            "Character to index: {'\\n': 0, ' ': 1, '!': 2, '$': 3, '&': 4, \"'\": 5, ',': 6, '-': 7, '.': 8, '3': 9, ':': 10, ';': 11, '?': 12, 'A': 13, 'B': 14, 'C': 15, 'D': 16, 'E': 17, 'F': 18, 'G': 19, 'H': 20, 'I': 21, 'J': 22, 'K': 23, 'L': 24, 'M': 25, 'N': 26, 'O': 27, 'P': 28, 'Q': 29, 'R': 30, 'S': 31, 'T': 32, 'U': 33, 'V': 34, 'W': 35, 'X': 36, 'Y': 37, 'Z': 38, 'a': 39, 'b': 40, 'c': 41, 'd': 42, 'e': 43, 'f': 44, 'g': 45, 'h': 46, 'i': 47, 'j': 48, 'k': 49, 'l': 50, 'm': 51, 'n': 52, 'o': 53, 'p': 54, 'q': 55, 'r': 56, 's': 57, 't': 58, 'u': 59, 'v': 60, 'w': 61, 'x': 62, 'y': 63, 'z': 64}\n",
            "Index to character:, {0: '\\n', 1: ' ', 2: '!', 3: '$', 4: '&', 5: \"'\", 6: ',', 7: '-', 8: '.', 9: '3', 10: ':', 11: ';', 12: '?', 13: 'A', 14: 'B', 15: 'C', 16: 'D', 17: 'E', 18: 'F', 19: 'G', 20: 'H', 21: 'I', 22: 'J', 23: 'K', 24: 'L', 25: 'M', 26: 'N', 27: 'O', 28: 'P', 29: 'Q', 30: 'R', 31: 'S', 32: 'T', 33: 'U', 34: 'V', 35: 'W', 36: 'X', 37: 'Y', 38: 'Z', 39: 'a', 40: 'b', 41: 'c', 42: 'd', 43: 'e', 44: 'f', 45: 'g', 46: 'h', 47: 'i', 48: 'j', 49: 'k', 50: 'l', 51: 'm', 52: 'n', 53: 'o', 54: 'p', 55: 'q', 56: 'r', 57: 's', 58: 't', 59: 'u', 60: 'v', 61: 'w', 62: 'x', 63: 'y', 64: 'z'}\n",
            "Tokenization of `Hello World!`: [20, 43, 50, 50, 53, 1, 35, 53, 56, 50, 42, 2]\n",
            "String for token sequence `[20, 43, 50, 50, 53, 1, 35, 53, 56, 50, 42, 2]`: Hello World!\n"
          ]
        }
      ],
      "source": [
        "#| output: true\n",
        "char2idx = {char:idx for idx,char in enumerate(vocab)}\n",
        "idx2char = {idx:char for char,idx in char2idx.items()}\n",
        "encode = lambda x: [char2idx[char] for char in x]\n",
        "decode = lambda idxs: ''.join([idx2char[idx] for idx in idxs])\n",
        "print('Character to index:',char2idx)\n",
        "print('Index to character:,',idx2char)\n",
        "print('Tokenization of `Hello World!`:',encode('Hello World!'))\n",
        "print('String for token sequence `[20, 43, 50, 50, 53, 1, 35, 53, 56, 50, 42, 2]`:',decode([20, 43, 50, 50, 53, 1, 35, 53, 56, 50, 42, 2]))"
      ],
      "id": "c3c8774b-9d8d-45f4-a8b2-34fc341a9082"
    },
    {
      "cell_type": "markdown",
      "metadata": {
        "id": "e204fe48-f29b-45bc-bf22-45adad86505d"
      },
      "source": [
        "Next we'll tokenize our dataset."
      ],
      "id": "e204fe48-f29b-45bc-bf22-45adad86505d"
    },
    {
      "cell_type": "code",
      "execution_count": null,
      "metadata": {
        "colab": {
          "base_uri": "https://localhost:8080/"
        },
        "id": "35df2589-af68-48d8-8947-c848d8e461ac",
        "outputId": "cf80638a-c73b-4bda-fca9-474e3d5e107d"
      },
      "outputs": [
        {
          "output_type": "execute_result",
          "data": {
            "text/plain": [
              "tensor([18, 47, 56, 57, 58,  1, 15, 47, 58, 47, 64, 43, 52, 10,  0, 14, 43, 44,\n",
              "        53, 56, 43,  1, 61, 43,  1, 54, 56, 53, 41, 43, 43, 42,  1, 39, 52, 63,\n",
              "         1, 44, 59, 56, 58, 46, 43, 56,  6,  1, 46, 43, 39, 56,  1, 51, 43,  1,\n",
              "        57, 54, 43, 39, 49,  8,  0,  0, 13, 50, 50, 10,  0, 31, 54, 43, 39, 49,\n",
              "         6,  1, 57, 54, 43, 39, 49,  8,  0,  0, 18, 47, 56, 57, 58,  1, 15, 47,\n",
              "        58, 47, 64, 43, 52, 10,  0, 37, 53, 59])"
            ]
          },
          "metadata": {},
          "execution_count": 32
        }
      ],
      "source": [
        "#| output: true\n",
        "tokenized_text = torch.tensor(encode(text),dtype=torch.long)\n",
        "tokenized_text[:100]"
      ],
      "id": "35df2589-af68-48d8-8947-c848d8e461ac"
    },
    {
      "cell_type": "markdown",
      "metadata": {
        "id": "751aab0a-7bfb-4077-a96e-e1270342fbe2"
      },
      "source": [
        "And split it into training and validation sets"
      ],
      "id": "751aab0a-7bfb-4077-a96e-e1270342fbe2"
    },
    {
      "cell_type": "code",
      "execution_count": null,
      "metadata": {
        "colab": {
          "base_uri": "https://localhost:8080/"
        },
        "id": "9b1a1d0e-7ff3-4b0f-b9d7-3d795b7fa170",
        "outputId": "218553e2-c888-413b-ff3b-1a2cd8d00b9f"
      },
      "outputs": [
        {
          "output_type": "stream",
          "name": "stdout",
          "text": [
            "Train test split index: 1003854\n",
            "Lenth of training data: 1003854 Length of validation data: 111540\n"
          ]
        }
      ],
      "source": [
        "#| output: true\n",
        "#The first 90% of data will be the training set, the rest will be validation set.\n",
        "train_test_split_idx = int(len(tokenized_text) * 0.9)\n",
        "print('Train test split index:',train_test_split_idx)\n",
        "train_data = tokenized_text[:train_test_split_idx]\n",
        "valid_data = tokenized_text[train_test_split_idx:]\n",
        "print('Lenth of training data:',len(train_data),'Length of validation data:',len(valid_data))"
      ],
      "id": "9b1a1d0e-7ff3-4b0f-b9d7-3d795b7fa170"
    },
    {
      "cell_type": "markdown",
      "metadata": {
        "id": "5bb5cd18-823c-4fa6-bfc7-56337e7214f4"
      },
      "source": [
        "Next we'll set up a basic data loader to get data in batches"
      ],
      "id": "5bb5cd18-823c-4fa6-bfc7-56337e7214f4"
    },
    {
      "cell_type": "code",
      "execution_count": null,
      "metadata": {
        "colab": {
          "base_uri": "https://localhost:8080/"
        },
        "id": "f6ab5eff-95aa-47d2-b72f-f7c208cc8f23",
        "outputId": "deea5b61-4e31-4628-9fbb-0b156e4e4a90"
      },
      "outputs": [
        {
          "output_type": "stream",
          "name": "stdout",
          "text": [
            "Batch of x shape: torch.Size([32, 8]) Batch of y shape: torch.Size([32, 8])  dimension are [batch x context_length]\n"
          ]
        }
      ],
      "source": [
        "#| output: true\n",
        "def get_batch(split:str, batch_size:int=batch_size, context_length:int=context_length):\n",
        "    #Function to get a batch of data from the train or valid dataset\n",
        "    data = train_data if split == 'train' else valid_data\n",
        "    idxs = torch.randint(low=0, high=len(data)-context_length, size=(batch_size,))\n",
        "    x = torch.stack([data[idx:idx+context_length] for idx in idxs])\n",
        "    y = torch.stack([data[idx+1:idx+context_length+1] for idx in idxs])\n",
        "    x,y = x.to(device), y.to(device) #Send data to the GPU if available\n",
        "    return x,y\n",
        "bx,by = get_batch('train')\n",
        "print('Batch of x shape:',bx.shape,'Batch of y shape:',by.shape,' dimension are [batch x context_length]')\n",
        "del bx, by"
      ],
      "id": "f6ab5eff-95aa-47d2-b72f-f7c208cc8f23"
    },
    {
      "cell_type": "markdown",
      "metadata": {
        "id": "5799b937-0b29-4115-aa9a-6609dbe0ba36"
      },
      "source": [
        "Next we'll create a function to estimate the loss for our model. Typically this is calculated against the training set for each training step and at the end of each epoch for the validation set but to keep things simple we'll just calculate it when called based on the number of steps specified as `eval_iters` and take the mean for the training and validation sets respectively. This also helps smooth out the loss values."
      ],
      "id": "5799b937-0b29-4115-aa9a-6609dbe0ba36"
    },
    {
      "cell_type": "code",
      "execution_count": null,
      "metadata": {
        "id": "2816659f-33d8-4b34-8810-b3af43a21e94"
      },
      "outputs": [],
      "source": [
        "#| output: true\n",
        "@torch.no_grad()\n",
        "def estimate_loss():\n",
        "    out = {}\n",
        "    model.eval()\n",
        "    for split in ['train','valid']:\n",
        "        losses = torch.zeros(eval_iters)\n",
        "        for k in range(eval_iters):\n",
        "            x_batch, y_batch = get_batch(split)\n",
        "            logits, loss = model(x_batch, y_batch)\n",
        "            losses[k] = loss.item()\n",
        "        out[split] = losses.mean()\n",
        "    model.train()\n",
        "    return out"
      ],
      "id": "2816659f-33d8-4b34-8810-b3af43a21e94"
    },
    {
      "cell_type": "markdown",
      "metadata": {
        "id": "ad1388ac-c82b-407b-9c9f-76576e88e35c"
      },
      "source": [
        "We're going to keep the model framework from the Bigram model and add in the transfomer parts shortly. For now, we just need to make sure that our updated code still works."
      ],
      "id": "ad1388ac-c82b-407b-9c9f-76576e88e35c"
    },
    {
      "cell_type": "code",
      "execution_count": null,
      "metadata": {
        "id": "388001e9-8aad-44fd-9cb5-f4033b416744"
      },
      "outputs": [],
      "source": [
        "#| output: true\n",
        "torch.manual_seed(TORCH_SEED)\n",
        "class BigramLanguageModel(nn.Module):\n",
        "    def __init__(self, vocab_size):\n",
        "        super().__init__()\n",
        "        self.vocab_size = vocab_size\n",
        "        #Each token reads off the logits from the subsequent token from the lookup table\n",
        "        self.token_embedding_table = nn.Embedding(num_embeddings=self.vocab_size, embedding_dim=self.vocab_size)\n",
        "\n",
        "    def forward(self, idx, targets=None):\n",
        "        #Both idx and targets are (B,T) Batch x Time array of integers\n",
        "        logits = self.token_embedding_table(idx) #(B,T,C) Batch, Time, Channel\n",
        "        if targets is not None:\n",
        "            B,T,C = logits.shape\n",
        "            logits_reshaped = logits.view(B*T,C)\n",
        "            targets_reshaped = targets.view(B*T)\n",
        "            loss = F.cross_entropy(input=logits_reshaped, target=targets_reshaped)\n",
        "        else:\n",
        "            loss=None\n",
        "        return logits, loss\n",
        "\n",
        "    def generate(self, idx, max_new_tokens):\n",
        "        #idx is (B,T) array of indicies in the current context\n",
        "        for _ in range(max_new_tokens):\n",
        "            #Get predictions\n",
        "            logits, loss = self(idx)\n",
        "            #Get the last time step from logits where the dimensions of the logits are (B,T,C)\n",
        "            logits_last_timestep = logits[:,-1,:] #Becomes (B,C)\n",
        "            # print('Shape of logits_last_timestep:',logits_last_timestep.shape) #confirming shape\n",
        "            #Apply softmax to get probabilities\n",
        "            probs = F.softmax(input=logits_last_timestep, dim=-1) #(B,C)\n",
        "            # print('Shape of probs:', probs.shape) #confirming shape\n",
        "            #Sample from the probs distribution.\n",
        "            idx_next = torch.multinomial(input=probs, num_samples=1) #(B,1) Returns (B,idxs) where idxs are random integer indicies.\n",
        "            # print('Shape of idx_next:',idx_next.shape,'and contents:',idx_next) #look at the shape and contents of idx_next\n",
        "            #Append the sampled indexes idx_next to idx\n",
        "            idx = torch.cat((idx, idx_next), dim=1) #(B, T+1)\n",
        "        return idx\n",
        "\n",
        "model = BigramLanguageModel(vocab_size=vocab_size)\n",
        "model = model.to(device)"
      ],
      "id": "388001e9-8aad-44fd-9cb5-f4033b416744"
    },
    {
      "cell_type": "code",
      "execution_count": null,
      "metadata": {
        "id": "d8c20e26-947e-4ddc-b9d7-53398d40f2d0"
      },
      "outputs": [],
      "source": [
        "#| output: true\n",
        "optimizer = torch.optim.AdamW(params=model.parameters(), lr=learning_rate)"
      ],
      "id": "d8c20e26-947e-4ddc-b9d7-53398d40f2d0"
    },
    {
      "cell_type": "code",
      "execution_count": null,
      "metadata": {
        "colab": {
          "base_uri": "https://localhost:8080/"
        },
        "id": "573f3099-b071-4182-a362-a0df4d46c4db",
        "outputId": "f437de4b-9827-4282-8a67-3e5e8e3b85df"
      },
      "outputs": [
        {
          "output_type": "stream",
          "name": "stdout",
          "text": [
            "Step: 0 Training Loss: tensor(4.7305) Validation Loss: tensor(4.7241)\n",
            "Step: 200 Training Loss: tensor(3.1193) Validation Loss: tensor(3.1313)\n",
            "Step: 400 Training Loss: tensor(2.6480) Validation Loss: tensor(2.6667)\n",
            "Step: 600 Training Loss: tensor(2.5434) Validation Loss: tensor(2.5689)\n",
            "Step: 800 Training Loss: tensor(2.5155) Validation Loss: tensor(2.5248)\n",
            "Step: 1000 Training Loss: tensor(2.5008) Validation Loss: tensor(2.5115)\n",
            "Step: 1200 Training Loss: tensor(2.4787) Validation Loss: tensor(2.4992)\n",
            "Step: 1400 Training Loss: tensor(2.4747) Validation Loss: tensor(2.4983)\n",
            "Step: 1600 Training Loss: tensor(2.4739) Validation Loss: tensor(2.4940)\n",
            "Step: 1800 Training Loss: tensor(2.4734) Validation Loss: tensor(2.4947)\n",
            "Step: 2000 Training Loss: tensor(2.4608) Validation Loss: tensor(2.4934)\n",
            "Step: 2200 Training Loss: tensor(2.4664) Validation Loss: tensor(2.4994)\n",
            "Step: 2400 Training Loss: tensor(2.4763) Validation Loss: tensor(2.4762)\n",
            "Step: 2600 Training Loss: tensor(2.4708) Validation Loss: tensor(2.4858)\n",
            "Step: 2800 Training Loss: tensor(2.4578) Validation Loss: tensor(2.4950)\n",
            "Step: 2999 Training Loss: tensor(2.4621) Validation Loss: tensor(2.4919)\n",
            "\n",
            "\n",
            "\n",
            "CEThik brid owindakis by ble\n",
            "\n",
            "HAPORDurayou e.\n",
            "S:\n",
            "O:3 my d?\n",
            "LUCous:\n",
            "Wanthar u qur, vet?\n",
            "F dXENDoate awice my.\n",
            "\n",
            "Hastacom oroup\n",
            "Yowhthetof isth ble mil ndill, ath ireeesengmin lat Heriliovets, and Win nghirileranousel lind me l.\n",
            "MAshe ce hiry:\n",
            "Supr aisspllw y.\n",
            "Hentoul n Boopetelaves\n",
            "MPOLI s, d mothakleo Windo whth eisbyo wie m dourive we higend t so mower; te\n",
            "\n",
            "AN ad nterupirf s ar iris! m:\n",
            "\n",
            "Thiny aleronth,\n",
            "Mad\n",
            "RD:\n",
            "\n",
            "WISo myrangoube!\n",
            "KENob&y arardsal thes ghesthidin cour ay aney RDUSts I&fr t ce.\n",
            "J\n"
          ]
        }
      ],
      "source": [
        "#| output: true\n",
        "for step in range(max_iters):\n",
        "\n",
        "    if step % eval_iters == 0 or step == max_iters-1:\n",
        "        losses = estimate_loss()\n",
        "        print('Step:',step,'Training Loss:',losses['train'],'Validation Loss:',losses['valid'])\n",
        "\n",
        "    xb,yb = get_batch('train')\n",
        "    logits, loss = model(xb,yb)\n",
        "    optimizer.zero_grad(set_to_none=True)\n",
        "    loss.backward()\n",
        "    optimizer.step()\n",
        "\n",
        "context = torch.zeros((1,1), dtype=torch.long, device=device)\n",
        "print(decode(model.generate(context,max_new_tokens=500)[0].tolist()))"
      ],
      "id": "573f3099-b071-4182-a362-a0df4d46c4db"
    },
    {
      "cell_type": "markdown",
      "metadata": {
        "id": "4dc70ca4-d1e2-434d-8976-fcea9139dcb4"
      },
      "source": [
        "# Previous Token Averages - Building Intuition for Self Attention"
      ],
      "id": "4dc70ca4-d1e2-434d-8976-fcea9139dcb4"
    },
    {
      "cell_type": "markdown",
      "metadata": {
        "id": "a8f2a7ff-ea2a-4d59-aab3-ddd1e10b63de"
      },
      "source": [
        "Attention was the key discovery that enabled the transformer architecture. The idea is that each token should be able to communicate with or look at each previous token in the sequence but not future tokens. For example given token number 4 in a sequence of 8 tokens, token 4 should be able to access token 1, 2 and 3, but not tokens 5 through 8. We will demonstrate this with a for loop implementation to cement the concept and then show the equivalent calculation using matrix multiplication which is how transformers are implemented in real life because the matrix multiplication is orders of magnitudes faster than basic nested `for` loops."
      ],
      "id": "a8f2a7ff-ea2a-4d59-aab3-ddd1e10b63de"
    },
    {
      "cell_type": "code",
      "execution_count": null,
      "metadata": {
        "colab": {
          "base_uri": "https://localhost:8080/"
        },
        "id": "389b4051-82d0-4175-a005-2b4eee58f6ab",
        "outputId": "b0eac960-8b24-4ba3-cf4e-0144e748fd25"
      },
      "outputs": [
        {
          "output_type": "execute_result",
          "data": {
            "text/plain": [
              "torch.Size([4, 8, 2])"
            ]
          },
          "metadata": {},
          "execution_count": 39
        }
      ],
      "source": [
        "#| output: true\n",
        "torch.manual_seed(TORCH_SEED)\n",
        "B,T,C = 4, 8, 2 #Batch, Time, Channel - Time is each token (char) in the sequence and channel is the embedding dimension\n",
        "x = torch.randn((B,T,C))\n",
        "x.shape"
      ],
      "id": "389b4051-82d0-4175-a005-2b4eee58f6ab"
    },
    {
      "cell_type": "markdown",
      "metadata": {
        "id": "18b9b8f6-46b5-41c4-947a-145a1fc6448a"
      },
      "source": [
        "In this example we're going to take the average of the previous tokens, just for illustration purposes, not because the average is a good way to represent the data from previous tokens."
      ],
      "id": "18b9b8f6-46b5-41c4-947a-145a1fc6448a"
    },
    {
      "cell_type": "code",
      "execution_count": null,
      "metadata": {
        "colab": {
          "base_uri": "https://localhost:8080/"
        },
        "id": "b3f9fa43-f01b-4527-8959-f9b21f0b5649",
        "outputId": "aedb6cc3-bf4c-497f-f2db-fcb3df283643"
      },
      "outputs": [
        {
          "output_type": "stream",
          "name": "stdout",
          "text": [
            "Testing if mean is being calculated correctly. Should be True, True, False: True True False\n"
          ]
        }
      ],
      "source": [
        "#| output: true\n",
        "x_bag_of_words = torch.zeros((B,T,C))\n",
        "for batch_idx in range(B):\n",
        "    for token_idx in range(T):\n",
        "        x_previous = x[batch_idx,:token_idx+1] # (T,C)\n",
        "        x_bag_of_words[batch_idx,token_idx] = torch.mean(x_previous, dim=0)\n",
        "print('Testing if mean is being calculated correctly. Should be True, True, False:',torch.allclose(x[0,0],x_bag_of_words[0,0]),\n",
        "      torch.allclose(x[0,:2].mean(dim=0),x_bag_of_words[0,1]), torch.allclose(x[0,0],x_bag_of_words[0,1]))"
      ],
      "id": "b3f9fa43-f01b-4527-8959-f9b21f0b5649"
    },
    {
      "cell_type": "markdown",
      "metadata": {
        "id": "a71d71d5-ad0f-4753-8d71-7d687391ddb6"
      },
      "source": [
        "Each item in x_bag_of_words should be the cumulative mean of all values in x up to that index. For index 0 you can see the results are the same and for index 1 you can quickly recognize that in fact `x_bag_of_words` is the cumulative mean of x at index 0 and 1."
      ],
      "id": "a71d71d5-ad0f-4753-8d71-7d687391ddb6"
    },
    {
      "cell_type": "code",
      "execution_count": null,
      "metadata": {
        "colab": {
          "base_uri": "https://localhost:8080/"
        },
        "id": "182f798b-3e4d-4f69-9d90-5f4bb80a48be",
        "outputId": "b2a9eac8-ede7-49e7-b398-fbf3e5f8dd78"
      },
      "outputs": [
        {
          "output_type": "execute_result",
          "data": {
            "text/plain": [
              "(tensor([[ 0.1808, -0.0700],\n",
              "         [-0.3596, -0.9152],\n",
              "         [ 0.6258,  0.0255],\n",
              "         [ 0.9545,  0.0643],\n",
              "         [ 0.3612,  1.1679],\n",
              "         [-1.3499, -0.5102],\n",
              "         [ 0.2360, -0.2398],\n",
              "         [-0.9211,  1.5433]]),\n",
              " tensor([[ 0.1808, -0.0700],\n",
              "         [-0.0894, -0.4926],\n",
              "         [ 0.1490, -0.3199],\n",
              "         [ 0.3504, -0.2238],\n",
              "         [ 0.3525,  0.0545],\n",
              "         [ 0.0688, -0.0396],\n",
              "         [ 0.0927, -0.0682],\n",
              "         [-0.0341,  0.1332]]))"
            ]
          },
          "metadata": {},
          "execution_count": 41
        }
      ],
      "source": [
        "#| output: true\n",
        "x[0],x_bag_of_words[0]"
      ],
      "id": "182f798b-3e4d-4f69-9d90-5f4bb80a48be"
    },
    {
      "cell_type": "markdown",
      "metadata": {
        "id": "adb2935a-fc90-4e00-86df-aa0ddfe535a2"
      },
      "source": [
        "Next, we'll delve into the basic operations of matrix multiplication. Specifically, we're focusing on the multiplication of two matrices, denoted as `a` and `b`. In Python, matrix multiplication is symbolized using the `@` operator. The process of matrix multiplication entails multiplying the rows of the first matrix (in this case, matrix `a`) by the columns of the second matrix (here, matrix `b`) when dealing with 2-dimensional matrices. After multiplying, the results are summed up to give the final outcome.\n",
        "\n",
        "Let's consider a practical example to illustrate this: calculating the value of `c[0,0]`. To achieve this, we need to multiply the first row of matrix `a` with the first column of matrix `b`, and then sum the results.\n",
        "\n",
        "In mathematical terms, it looks like this: `(a[0,0] * b[0,0]) + (a[0,1] * b[1,0]) + (a[0,2] * b[2,0])`. Using the example values below, the equation becomes `(1 * 1) + (2 * 3) + (3 * 5) = 22`.\n",
        "\n",
        "To enhance your understanding and intuition of matrix multiplication, I recommend the website http://matrixmultiplication.xyz/. It provides interactive visualizations of the matrix multiplication process, which can help you to understand the concept."
      ],
      "id": "adb2935a-fc90-4e00-86df-aa0ddfe535a2"
    },
    {
      "cell_type": "code",
      "execution_count": null,
      "metadata": {
        "colab": {
          "base_uri": "https://localhost:8080/"
        },
        "id": "727e3e14-4c56-4726-a823-dbd6893f5f77",
        "outputId": "224a377c-7a99-44a0-a812-75d270baac39"
      },
      "outputs": [
        {
          "output_type": "stream",
          "name": "stdout",
          "text": [
            "a =\n",
            " tensor([[1, 2, 3],\n",
            "        [4, 5, 6],\n",
            "        [7, 8, 9]]) \n",
            "-----\n",
            "b =\n",
            " tensor([[1, 2],\n",
            "        [3, 4],\n",
            "        [5, 6]]) \n",
            "-----\n",
            "c = a @ b =\n",
            " tensor([[ 22,  28],\n",
            "        [ 49,  64],\n",
            "        [ 76, 100]]) \n",
            "-----\n"
          ]
        }
      ],
      "source": [
        "#| output: true\n",
        "a = torch.tensor([[1,2,3],[4,5,6],[7,8,9]])\n",
        "b = torch.tensor([[1,2],[3,4],[5,6]])\n",
        "c = a @ b\n",
        "print('a =\\n',a,'\\n-----')\n",
        "print('b =\\n',b,'\\n-----')\n",
        "print('c = a @ b =\\n',c,'\\n-----')"
      ],
      "id": "727e3e14-4c56-4726-a823-dbd6893f5f77"
    },
    {
      "cell_type": "markdown",
      "metadata": {
        "id": "a8d62b96-5630-473e-acdf-d16ead1b5d29"
      },
      "source": [
        "The next function we need to learn about is the pytorch [`tril`](https://pytorch.org/docs/stable/generated/torch.tril.html) function. It zeros out the upper right portion of a matrix.  Let's look at a few quick examples to help visualize the concept.<br>\n",
        "\n",
        "First let's apply it to a 3x3 matrix of ones."
      ],
      "id": "a8d62b96-5630-473e-acdf-d16ead1b5d29"
    },
    {
      "cell_type": "code",
      "execution_count": null,
      "metadata": {
        "colab": {
          "base_uri": "https://localhost:8080/"
        },
        "id": "ac801491-c248-469c-ba20-ae5ac913c347",
        "outputId": "ceafde42-c43a-462b-f327-e05e5beab639"
      },
      "outputs": [
        {
          "output_type": "execute_result",
          "data": {
            "text/plain": [
              "tensor([[1., 0., 0.],\n",
              "        [1., 1., 0.],\n",
              "        [1., 1., 1.]])"
            ]
          },
          "metadata": {},
          "execution_count": 43
        }
      ],
      "source": [
        "#| output: true\n",
        "torch.tril(torch.ones(3,3))"
      ],
      "id": "ac801491-c248-469c-ba20-ae5ac913c347"
    },
    {
      "cell_type": "markdown",
      "metadata": {
        "id": "e2e26338-f371-44c5-be2a-0633a2680ad5"
      },
      "source": [
        "Next we'll apply it to a 4x4 matrix of random numbers just to show this can be used with numbers other than ones."
      ],
      "id": "e2e26338-f371-44c5-be2a-0633a2680ad5"
    },
    {
      "cell_type": "code",
      "execution_count": null,
      "metadata": {
        "colab": {
          "base_uri": "https://localhost:8080/"
        },
        "id": "fbd786ca-8821-4501-af82-d608924d0f7e",
        "outputId": "f4812146-41a8-4556-d5bb-5367cecf023a"
      },
      "outputs": [
        {
          "output_type": "execute_result",
          "data": {
            "text/plain": [
              "tensor([[-0.8345,  0.0000,  0.0000,  0.0000],\n",
              "        [-0.4970,  0.4658,  0.0000,  0.0000],\n",
              "        [ 2.0089, -0.5370,  0.2228,  0.0000],\n",
              "        [-1.4267,  0.9059,  0.1446,  0.2280]])"
            ]
          },
          "metadata": {},
          "execution_count": 44
        }
      ],
      "source": [
        "#| output: true\n",
        "torch.tril(torch.randn((4,4)))"
      ],
      "id": "fbd786ca-8821-4501-af82-d608924d0f7e"
    },
    {
      "cell_type": "markdown",
      "metadata": {
        "id": "8863ae0d-bd32-4c37-b46a-57acb6cb6d66"
      },
      "source": [
        "Now let's see what happens when we use the tril function with our matrix multiply from before:"
      ],
      "id": "8863ae0d-bd32-4c37-b46a-57acb6cb6d66"
    },
    {
      "cell_type": "code",
      "execution_count": null,
      "metadata": {
        "colab": {
          "base_uri": "https://localhost:8080/"
        },
        "id": "76a4a749-6809-4c67-8fe6-2f8e0442138e",
        "outputId": "06c245a0-5077-46d5-8856-904fa8d545fd"
      },
      "outputs": [
        {
          "output_type": "stream",
          "name": "stdout",
          "text": [
            "a =\n",
            " tensor([[1, 0, 0],\n",
            "        [4, 5, 0],\n",
            "        [7, 8, 9]]) \n",
            "-----\n",
            "b =\n",
            " tensor([[1, 2],\n",
            "        [3, 4],\n",
            "        [5, 6]]) \n",
            "-----\n",
            "c = a @ b =\n",
            " tensor([[  1,   2],\n",
            "        [ 19,  28],\n",
            "        [ 76, 100]]) \n",
            "-----\n"
          ]
        }
      ],
      "source": [
        "#| output: true\n",
        "a = torch.tril(torch.tensor([[1,2,3],[4,5,6],[7,8,9]]))\n",
        "b = torch.tensor([[1,2],[3,4],[5,6]])\n",
        "c = a @ b\n",
        "print('a =\\n',a,'\\n-----')\n",
        "print('b =\\n',b,'\\n-----')\n",
        "print('c = a @ b =\\n',c,'\\n-----')"
      ],
      "id": "76a4a749-6809-4c67-8fe6-2f8e0442138e"
    },
    {
      "cell_type": "markdown",
      "metadata": {
        "id": "522a38a9-7bee-4131-a90b-c9279ccd2af4"
      },
      "source": [
        "Next we'll switch out our first matrix with a matrix of ones instead."
      ],
      "id": "522a38a9-7bee-4131-a90b-c9279ccd2af4"
    },
    {
      "cell_type": "code",
      "execution_count": null,
      "metadata": {
        "colab": {
          "base_uri": "https://localhost:8080/"
        },
        "id": "e90406e3-9f64-482a-8f0a-a3d8b82a0cbc",
        "outputId": "81eb2ab0-b1d0-4dda-b2e0-a0c225f6ac3b"
      },
      "outputs": [
        {
          "output_type": "stream",
          "name": "stdout",
          "text": [
            "a =\n",
            " tensor([[1, 0, 0],\n",
            "        [1, 1, 0],\n",
            "        [1, 1, 1]]) \n",
            "-----\n",
            "b =\n",
            " tensor([[1, 2],\n",
            "        [3, 4],\n",
            "        [5, 6]]) \n",
            "-----\n",
            "c = a @ b =\n",
            " tensor([[ 1,  2],\n",
            "        [ 4,  6],\n",
            "        [ 9, 12]]) \n",
            "-----\n"
          ]
        }
      ],
      "source": [
        "#| output: true\n",
        "a = torch.tril(torch.ones((3,3),dtype=torch.long))\n",
        "b = torch.tensor([[1,2],[3,4],[5,6]])\n",
        "c = a @ b\n",
        "print('a =\\n',a,'\\n-----')\n",
        "print('b =\\n',b,'\\n-----')\n",
        "print('c = a @ b =\\n',c,'\\n-----')"
      ],
      "id": "e90406e3-9f64-482a-8f0a-a3d8b82a0cbc"
    },
    {
      "cell_type": "markdown",
      "metadata": {
        "id": "e3b81cd9-0c42-4c74-92fe-3a2c7cde969a"
      },
      "source": [
        "Let's examine the first row in `c` which contains the values `[1, 2]`. Notice that it is the cumulative sum of the first row of `b` and rows 2 and 3 in `b` are effectively masked out. Row 2 in `c` is the cumulative sum of rows 1 and 2 from `b` and so on. Hopefully you can see that, like in our `for` loop, we are effectively cumulatively summing up `b`."
      ],
      "id": "e3b81cd9-0c42-4c74-92fe-3a2c7cde969a"
    },
    {
      "cell_type": "markdown",
      "metadata": {
        "id": "0650bdb2-1024-4ed0-ae8e-d7b06e28fc64"
      },
      "source": [
        "Now we're going to reproduce our `for` loop results using matrix multiplication."
      ],
      "id": "0650bdb2-1024-4ed0-ae8e-d7b06e28fc64"
    },
    {
      "cell_type": "code",
      "execution_count": null,
      "metadata": {
        "colab": {
          "base_uri": "https://localhost:8080/"
        },
        "id": "d91f3033-9e4e-40f1-aec2-e5e56df32740",
        "outputId": "a7b1106e-f342-4e3e-cc01-6f316279a611"
      },
      "outputs": [
        {
          "output_type": "execute_result",
          "data": {
            "text/plain": [
              "(torch.Size([4, 8, 2]), torch.Size([4, 8, 2]))"
            ]
          },
          "metadata": {},
          "execution_count": 47
        }
      ],
      "source": [
        "#| output: true\n",
        "x.shape, x_bag_of_words.shape"
      ],
      "id": "d91f3033-9e4e-40f1-aec2-e5e56df32740"
    },
    {
      "cell_type": "code",
      "execution_count": null,
      "metadata": {
        "colab": {
          "base_uri": "https://localhost:8080/"
        },
        "id": "1e2b2c59-d46d-4987-b9e4-9e46b5a51c7c",
        "outputId": "2f2441b3-94fc-4afe-974f-98319916cce4"
      },
      "outputs": [
        {
          "output_type": "stream",
          "name": "stdout",
          "text": [
            "Shape of c: torch.Size([4, 8, 2])\n"
          ]
        },
        {
          "output_type": "execute_result",
          "data": {
            "text/plain": [
              "tensor([[[ 0.1808, -0.0700],\n",
              "         [-0.1789, -0.9852],\n",
              "         [ 0.4469, -0.9597],\n",
              "         [ 1.4014, -0.8953],\n",
              "         [ 1.7626,  0.2725],\n",
              "         [ 0.4127, -0.2376],\n",
              "         [ 0.6486, -0.4774],\n",
              "         [-0.2725,  1.0659]],\n",
              "\n",
              "        [[ 1.3488, -0.1396],\n",
              "         [ 1.6346,  0.8255],\n",
              "         [-0.4025,  1.3186],\n",
              "         [ 1.0845,  1.9096],\n",
              "         [ 1.2105,  0.3470],\n",
              "         [ 0.0504,  0.0121],\n",
              "         [ 0.4982, -0.7895],\n",
              "         [ 2.0218,  1.7191]],\n",
              "\n",
              "        [[-0.6631, -0.2513],\n",
              "         [ 0.3470, -0.1297],\n",
              "         [ 0.5054,  1.0043],\n",
              "         [-0.6484,  0.7059],\n",
              "         [-1.1560, -0.2180],\n",
              "         [-0.6093, -1.7128],\n",
              "         [-1.8150, -1.1410],\n",
              "         [-2.4123, -1.8347]],\n",
              "\n",
              "        [[ 1.6455, -0.8030],\n",
              "         [ 2.9969, -1.0789],\n",
              "         [ 1.4861,  1.0259],\n",
              "         [ 4.2491, -0.7207],\n",
              "         [ 5.7007, -2.2310],\n",
              "         [ 6.5218, -2.4425],\n",
              "         [ 7.3007, -0.9092],\n",
              "         [ 8.9105, -1.3124]]])"
            ]
          },
          "metadata": {},
          "execution_count": 48
        }
      ],
      "source": [
        "#| output: true\n",
        "mask = torch.tril(torch.ones((1,8,8),dtype=torch.float))\n",
        "a = mask\n",
        "b = x\n",
        "c = a @ b\n",
        "print('Shape of c:',c.shape)\n",
        "c"
      ],
      "id": "1e2b2c59-d46d-4987-b9e4-9e46b5a51c7c"
    },
    {
      "cell_type": "markdown",
      "metadata": {
        "id": "fdf4ba50-074d-422c-b2ff-da59f017610c"
      },
      "source": [
        "Comparing to `x_bag_of_words`, we can see the values are different.  This is because we have calculated the cumulative sum, but not the mean. This is why at each batch's idx 0 the answer is correct as it's only summing 1 item and the sum divided by 1 is both the mean and sum."
      ],
      "id": "fdf4ba50-074d-422c-b2ff-da59f017610c"
    },
    {
      "cell_type": "code",
      "execution_count": null,
      "metadata": {
        "colab": {
          "base_uri": "https://localhost:8080/"
        },
        "id": "676cf2e0-f15a-4c25-8514-b07be3166440",
        "outputId": "c2f4214d-02fd-40ce-dc03-8f23b668c465"
      },
      "outputs": [
        {
          "output_type": "execute_result",
          "data": {
            "text/plain": [
              "tensor([[[ 0.1808, -0.0700],\n",
              "         [-0.0894, -0.4926],\n",
              "         [ 0.1490, -0.3199],\n",
              "         [ 0.3504, -0.2238],\n",
              "         [ 0.3525,  0.0545],\n",
              "         [ 0.0688, -0.0396],\n",
              "         [ 0.0927, -0.0682],\n",
              "         [-0.0341,  0.1332]],\n",
              "\n",
              "        [[ 1.3488, -0.1396],\n",
              "         [ 0.8173,  0.4127],\n",
              "         [-0.1342,  0.4395],\n",
              "         [ 0.2711,  0.4774],\n",
              "         [ 0.2421,  0.0694],\n",
              "         [ 0.0084,  0.0020],\n",
              "         [ 0.0712, -0.1128],\n",
              "         [ 0.2527,  0.2149]],\n",
              "\n",
              "        [[-0.6631, -0.2513],\n",
              "         [ 0.1735, -0.0649],\n",
              "         [ 0.1685,  0.3348],\n",
              "         [-0.1621,  0.1765],\n",
              "         [-0.2312, -0.0436],\n",
              "         [-0.1015, -0.2855],\n",
              "         [-0.2593, -0.1630],\n",
              "         [-0.3015, -0.2293]],\n",
              "\n",
              "        [[ 1.6455, -0.8030],\n",
              "         [ 1.4985, -0.5395],\n",
              "         [ 0.4954,  0.3420],\n",
              "         [ 1.0623, -0.1802],\n",
              "         [ 1.1401, -0.4462],\n",
              "         [ 1.0870, -0.4071],\n",
              "         [ 1.0430, -0.1299],\n",
              "         [ 1.1138, -0.1641]]])"
            ]
          },
          "metadata": {},
          "execution_count": 49
        }
      ],
      "source": [
        "#| output: true\n",
        "x_bag_of_words"
      ],
      "id": "676cf2e0-f15a-4c25-8514-b07be3166440"
    },
    {
      "cell_type": "markdown",
      "metadata": {
        "id": "7e727fca-74e2-4129-b3d8-023ab9a3d4c4"
      },
      "source": [
        "Now we'll divide by the number of items that were summed to get the mean. Just like before we're going to use a matrix operation to keep things fast. First we'll create the matrix:"
      ],
      "id": "7e727fca-74e2-4129-b3d8-023ab9a3d4c4"
    },
    {
      "cell_type": "code",
      "execution_count": null,
      "metadata": {
        "colab": {
          "base_uri": "https://localhost:8080/"
        },
        "id": "5b4384a5-9b15-4bbd-a49f-b3529c5a5691",
        "outputId": "d06809e9-8b2d-4f79-9367-04183ac62122"
      },
      "outputs": [
        {
          "output_type": "execute_result",
          "data": {
            "text/plain": [
              "tensor([[1, 1],\n",
              "        [2, 2],\n",
              "        [3, 3],\n",
              "        [4, 4],\n",
              "        [5, 5],\n",
              "        [6, 6],\n",
              "        [7, 7],\n",
              "        [8, 8]])"
            ]
          },
          "metadata": {},
          "execution_count": 50
        }
      ],
      "source": [
        "#| output: true\n",
        "num_toks_summed = torch.tensor(list(zip(list(range(1,9)),list(range(1,9)))))\n",
        "num_toks_summed"
      ],
      "id": "5b4384a5-9b15-4bbd-a49f-b3529c5a5691"
    },
    {
      "cell_type": "markdown",
      "metadata": {
        "id": "5bda8e91-a062-4302-9ede-f6c1345904c4"
      },
      "source": [
        "And now we'll divide our cumulative sum by the number of items summed."
      ],
      "id": "5bda8e91-a062-4302-9ede-f6c1345904c4"
    },
    {
      "cell_type": "code",
      "execution_count": null,
      "metadata": {
        "colab": {
          "base_uri": "https://localhost:8080/"
        },
        "id": "1d996719-80a8-454f-83aa-e6853801d1d6",
        "outputId": "d4675211-4ad1-4783-ad30-38f5714264fe"
      },
      "outputs": [
        {
          "output_type": "execute_result",
          "data": {
            "text/plain": [
              "tensor([[[ 0.1808, -0.0700],\n",
              "         [-0.0894, -0.4926],\n",
              "         [ 0.1490, -0.3199],\n",
              "         [ 0.3504, -0.2238],\n",
              "         [ 0.3525,  0.0545],\n",
              "         [ 0.0688, -0.0396],\n",
              "         [ 0.0927, -0.0682],\n",
              "         [-0.0341,  0.1332]],\n",
              "\n",
              "        [[ 1.3488, -0.1396],\n",
              "         [ 0.8173,  0.4127],\n",
              "         [-0.1342,  0.4395],\n",
              "         [ 0.2711,  0.4774],\n",
              "         [ 0.2421,  0.0694],\n",
              "         [ 0.0084,  0.0020],\n",
              "         [ 0.0712, -0.1128],\n",
              "         [ 0.2527,  0.2149]],\n",
              "\n",
              "        [[-0.6631, -0.2513],\n",
              "         [ 0.1735, -0.0649],\n",
              "         [ 0.1685,  0.3348],\n",
              "         [-0.1621,  0.1765],\n",
              "         [-0.2312, -0.0436],\n",
              "         [-0.1015, -0.2855],\n",
              "         [-0.2593, -0.1630],\n",
              "         [-0.3015, -0.2293]],\n",
              "\n",
              "        [[ 1.6455, -0.8030],\n",
              "         [ 1.4985, -0.5395],\n",
              "         [ 0.4954,  0.3420],\n",
              "         [ 1.0623, -0.1802],\n",
              "         [ 1.1401, -0.4462],\n",
              "         [ 1.0870, -0.4071],\n",
              "         [ 1.0430, -0.1299],\n",
              "         [ 1.1138, -0.1641]]])"
            ]
          },
          "metadata": {},
          "execution_count": 51
        }
      ],
      "source": [
        "#| output: true\n",
        "c2 = c/num_toks_summed\n",
        "c2"
      ],
      "id": "1d996719-80a8-454f-83aa-e6853801d1d6"
    },
    {
      "cell_type": "markdown",
      "metadata": {
        "id": "f1b458b0-1445-4e04-a4f0-fd7e3ad927c3"
      },
      "source": [
        "And check whether it matches our previously calculated bow, which it does."
      ],
      "id": "f1b458b0-1445-4e04-a4f0-fd7e3ad927c3"
    },
    {
      "cell_type": "code",
      "execution_count": null,
      "metadata": {
        "colab": {
          "base_uri": "https://localhost:8080/"
        },
        "id": "2a674c9d-62d2-4f57-b5d9-a39177cfb111",
        "outputId": "c278e7d0-7c3f-43ae-d000-4aebc480124c"
      },
      "outputs": [
        {
          "output_type": "execute_result",
          "data": {
            "text/plain": [
              "True"
            ]
          },
          "metadata": {},
          "execution_count": 52
        }
      ],
      "source": [
        "#| output: true\n",
        "torch.allclose(x_bag_of_words, c2)"
      ],
      "id": "2a674c9d-62d2-4f57-b5d9-a39177cfb111"
    },
    {
      "cell_type": "markdown",
      "metadata": {
        "id": "c0a0cea6-fbca-46c3-8a03-7f11e6d0e60e"
      },
      "source": [
        "As an aside, let's look at how long the x_bag_of_words took to calculate via a for loop vs our matrix version. As the number of calculations is tiny in this case, we're going to increase the complexity so you can more easily see the time differences.<br>\n",
        "First we'll do the for loop version:"
      ],
      "id": "c0a0cea6-fbca-46c3-8a03-7f11e6d0e60e"
    },
    {
      "cell_type": "code",
      "execution_count": null,
      "metadata": {
        "id": "b063f856-b8fd-4281-b289-70a3d158f8fd"
      },
      "outputs": [],
      "source": [
        "#| output: true\n",
        "torch.manual_seed(TORCH_SEED)\n",
        "# B,T,C = 4, 8, 2 #Batch, Time, Channel - Time is each token (char) in the sequence and channel is the embedding dimension\n",
        "B,T,C = 256, 512, 64\n",
        "x = torch.randn((B,T,C))\n",
        "x.shape\n",
        "x_bag_of_words = torch.zeros((B,T,C))"
      ],
      "id": "b063f856-b8fd-4281-b289-70a3d158f8fd"
    },
    {
      "cell_type": "code",
      "execution_count": null,
      "metadata": {
        "colab": {
          "base_uri": "https://localhost:8080/"
        },
        "id": "adedaa34-fd1a-482d-9b6b-7189337b3c45",
        "outputId": "d849b045-661f-4536-8b87-95290e8454c7"
      },
      "outputs": [
        {
          "output_type": "stream",
          "name": "stdout",
          "text": [
            "Testing if mean is being calculated correctly. Should be True, True, False: True True False\n",
            "Testing if mean is being calculated correctly. Should be True, True, False: True True False\n",
            "Testing if mean is being calculated correctly. Should be True, True, False: True True False\n",
            "Testing if mean is being calculated correctly. Should be True, True, False: True True False\n",
            "3.69 s ± 113 ms per loop (mean ± std. dev. of 2 runs, 2 loops each)\n"
          ]
        }
      ],
      "source": [
        "%%timeit -n 2 -r 2\n",
        "#| output: true\n",
        "for batch_idx in range(B):\n",
        "    for token_idx in range(T):\n",
        "        x_previous = x[batch_idx,:token_idx+1] # (T,C)\n",
        "        x_bag_of_words[batch_idx,token_idx] = torch.mean(x_previous, dim=0)\n",
        "print('Testing if mean is being calculated correctly. Should be True, True, False:',torch.allclose(x[0,0],x_bag_of_words[0,0]),\n",
        "      torch.allclose(x[0,:2].mean(dim=0),x_bag_of_words[0,1]), torch.allclose(x[0,0],x_bag_of_words[0,1]))"
      ],
      "id": "adedaa34-fd1a-482d-9b6b-7189337b3c45"
    },
    {
      "cell_type": "markdown",
      "metadata": {
        "id": "9533c21a-4c72-46e9-85ad-ee2beb36238b"
      },
      "source": [
        "The for loop version on my PC took 4.3 seconds: `4.33 s ± 24.2 ms per loop (mean ± std. dev. of 2 runs, 2 loops each)`. <br>\n",
        "Now we'll test the matrix version:"
      ],
      "id": "9533c21a-4c72-46e9-85ad-ee2beb36238b"
    },
    {
      "cell_type": "code",
      "execution_count": null,
      "metadata": {
        "id": "450fc0ac-8ff8-44c4-909a-3b55b7d01a80"
      },
      "outputs": [],
      "source": [
        "#| output: true\n",
        "mask = torch.tril(torch.ones((1,T,T),dtype=torch.float))\n",
        "num_toks_summed = torch.Tensor([[i+1]*C for i in range(T)])\n",
        "a = mask\n",
        "b = x"
      ],
      "id": "450fc0ac-8ff8-44c4-909a-3b55b7d01a80"
    },
    {
      "cell_type": "code",
      "execution_count": null,
      "metadata": {
        "colab": {
          "base_uri": "https://localhost:8080/"
        },
        "id": "912c7bd9-4925-4d68-9796-e2a780ee115f",
        "outputId": "de0f29b3-f9ef-4571-a3d8-861504d1739e"
      },
      "outputs": [
        {
          "output_type": "stream",
          "name": "stdout",
          "text": [
            "158 ms ± 1.5 ms per loop (mean ± std. dev. of 2 runs, 2 loops each)\n"
          ]
        }
      ],
      "source": [
        "%%timeit -n 2 -r 2\n",
        "#| output: true\n",
        "c = a @ b / num_toks_summed\n",
        "# print('Shape of c:',c.shape)"
      ],
      "id": "912c7bd9-4925-4d68-9796-e2a780ee115f"
    },
    {
      "cell_type": "markdown",
      "metadata": {
        "id": "a52d2317-e955-4c5c-9276-0ed623a5540c"
      },
      "source": [
        "The matrix multiplication version on the other hand took 20 ms. `19.8 ms ± 872 µs per loop (mean ± std. dev. of 2 runs, 2 loops each)`<br>\n",
        "Now we'll confirm the results are the same"
      ],
      "id": "a52d2317-e955-4c5c-9276-0ed623a5540c"
    },
    {
      "cell_type": "code",
      "execution_count": null,
      "metadata": {
        "id": "6703f9fc-e318-4d3f-a297-5c8b90dc143e"
      },
      "outputs": [],
      "source": [
        "#| output: true\n",
        "c = a @ b / num_toks_summed"
      ],
      "id": "6703f9fc-e318-4d3f-a297-5c8b90dc143e"
    },
    {
      "cell_type": "code",
      "execution_count": null,
      "metadata": {
        "colab": {
          "base_uri": "https://localhost:8080/"
        },
        "id": "7aafe1fb-052b-4b0c-8d33-1af529c7cf73",
        "outputId": "845d89c0-e8e2-4aa9-9d23-5cece106c6eb"
      },
      "outputs": [
        {
          "output_type": "execute_result",
          "data": {
            "text/plain": [
              "True"
            ]
          },
          "metadata": {},
          "execution_count": 58
        }
      ],
      "source": [
        "#| output: true\n",
        "torch.allclose(x_bag_of_words, c, atol=1e-5)"
      ],
      "id": "7aafe1fb-052b-4b0c-8d33-1af529c7cf73"
    },
    {
      "cell_type": "code",
      "execution_count": null,
      "metadata": {
        "colab": {
          "base_uri": "https://localhost:8080/"
        },
        "id": "280dbcf6-d242-41d3-995c-c4a5390fa9c3",
        "outputId": "2964f781-43ac-415f-d8f0-15b1381a9a86"
      },
      "outputs": [
        {
          "output_type": "execute_result",
          "data": {
            "text/plain": [
              "218.68686868686868"
            ]
          },
          "metadata": {},
          "execution_count": 59
        }
      ],
      "source": [
        "#| output: true\n",
        "4.33/(19.8/1000) # 4.33 seconds / 19.8 ms"
      ],
      "id": "280dbcf6-d242-41d3-995c-c4a5390fa9c3"
    },
    {
      "cell_type": "markdown",
      "metadata": {
        "id": "418632d4-ed30-43ae-b314-6bb13c1f644a"
      },
      "source": [
        "As you can see the results were the same but the matrix multiplication version finished in ~20ms vs ~4.3s (numbers may vary between runs and machines) for the for loop version which is ~220x faster and that is running the matmul on the cpu instead of gpu which would speed it up even further."
      ],
      "id": "418632d4-ed30-43ae-b314-6bb13c1f644a"
    },
    {
      "cell_type": "markdown",
      "metadata": {
        "id": "3e99510a-a7e7-48ea-a4a9-ec28b0cd47ea"
      },
      "source": [
        "Alternatively we can use Andrej's method which should be even more efficient because we're dividing the mask elements by the number of elements to be summed which is effectively moving the division by `num_toks_summed` out of our final timed calculation."
      ],
      "id": "3e99510a-a7e7-48ea-a4a9-ec28b0cd47ea"
    },
    {
      "cell_type": "code",
      "execution_count": null,
      "metadata": {
        "id": "47d4fb64-73a4-439f-93bf-024150270bf3"
      },
      "outputs": [],
      "source": [
        "#| output: true\n",
        "mask = torch.tril(torch.ones((1,T,T),dtype=torch.float))\n",
        "mask = mask / mask.sum(dim=2,keepdim=True)\n",
        "a = mask\n",
        "b = x"
      ],
      "id": "47d4fb64-73a4-439f-93bf-024150270bf3"
    },
    {
      "cell_type": "code",
      "execution_count": null,
      "metadata": {
        "colab": {
          "base_uri": "https://localhost:8080/"
        },
        "id": "5f2dd1f2-390c-41aa-8049-7a477c9aacbd",
        "outputId": "17d9e852-de71-499d-e647-812372e9b5da"
      },
      "outputs": [
        {
          "output_type": "stream",
          "name": "stdout",
          "text": [
            "133 ms ± 2.57 ms per loop (mean ± std. dev. of 2 runs, 2 loops each)\n"
          ]
        }
      ],
      "source": [
        "%%timeit -n 2 -r 2\n",
        "#| output: true\n",
        "c = a @ b\n",
        "# print('Shape of c:',c.shape)"
      ],
      "id": "5f2dd1f2-390c-41aa-8049-7a477c9aacbd"
    },
    {
      "cell_type": "markdown",
      "metadata": {
        "id": "733151f6-1c87-4687-9cb7-b944bcf1aaa7"
      },
      "source": [
        "`20.7 ms ± 1.21 ms per loop (mean ± std. dev. of 2 runs, 2 loops each)` In this case the numbers are very close. This could be influenced by a number of factors, but in general it's best to try and compute things once vs for each iteration if possible."
      ],
      "id": "733151f6-1c87-4687-9cb7-b944bcf1aaa7"
    },
    {
      "cell_type": "code",
      "execution_count": null,
      "metadata": {
        "id": "f6308566-1e99-4384-8375-44c3e0258150"
      },
      "outputs": [],
      "source": [
        "#| output: true\n",
        "c = a @ b"
      ],
      "id": "f6308566-1e99-4384-8375-44c3e0258150"
    },
    {
      "cell_type": "code",
      "execution_count": null,
      "metadata": {
        "colab": {
          "base_uri": "https://localhost:8080/"
        },
        "id": "fd434847-dfd1-468a-8fff-189e3cc63033",
        "outputId": "48dd4620-8968-451e-98a7-4b72d3f0eba9"
      },
      "outputs": [
        {
          "output_type": "execute_result",
          "data": {
            "text/plain": [
              "True"
            ]
          },
          "metadata": {},
          "execution_count": 63
        }
      ],
      "source": [
        "#| output: true\n",
        "torch.allclose(x_bag_of_words, c, atol=1e-5)"
      ],
      "id": "fd434847-dfd1-468a-8fff-189e3cc63033"
    },
    {
      "cell_type": "markdown",
      "metadata": {
        "id": "1c652d9f-e151-4b90-bbcb-ed2c0939ff91"
      },
      "source": [
        "Now let's look at the 3rd version of calculating this using softmax. It should produce an identical result."
      ],
      "id": "1c652d9f-e151-4b90-bbcb-ed2c0939ff91"
    },
    {
      "cell_type": "code",
      "execution_count": null,
      "metadata": {
        "colab": {
          "base_uri": "https://localhost:8080/"
        },
        "id": "3ee265e6-3ef5-4a99-b38a-836cdaa4fbb1",
        "outputId": "66215595-f1db-471e-f4ef-ac2c996c0707"
      },
      "outputs": [
        {
          "output_type": "execute_result",
          "data": {
            "text/plain": [
              "tensor([[[1., 0., 0.,  ..., 0., 0., 0.],\n",
              "         [1., 1., 0.,  ..., 0., 0., 0.],\n",
              "         [1., 1., 1.,  ..., 0., 0., 0.],\n",
              "         ...,\n",
              "         [1., 1., 1.,  ..., 1., 0., 0.],\n",
              "         [1., 1., 1.,  ..., 1., 1., 0.],\n",
              "         [1., 1., 1.,  ..., 1., 1., 1.]]])"
            ]
          },
          "metadata": {},
          "execution_count": 64
        }
      ],
      "source": [
        "#| output: true\n",
        "mask = torch.tril(torch.ones((1,T,T),dtype=torch.float))\n",
        "mask"
      ],
      "id": "3ee265e6-3ef5-4a99-b38a-836cdaa4fbb1"
    },
    {
      "cell_type": "code",
      "execution_count": null,
      "metadata": {
        "colab": {
          "base_uri": "https://localhost:8080/"
        },
        "id": "b317fc73-d3ad-40cd-bab7-fa91aa0c9df9",
        "outputId": "3e8dccb1-a5a8-44c0-9dab-136ff1c827de"
      },
      "outputs": [
        {
          "output_type": "execute_result",
          "data": {
            "text/plain": [
              "tensor([[[0., -inf, -inf,  ..., -inf, -inf, -inf],\n",
              "         [0., 0., -inf,  ..., -inf, -inf, -inf],\n",
              "         [0., 0., 0.,  ..., -inf, -inf, -inf],\n",
              "         ...,\n",
              "         [0., 0., 0.,  ..., 0., -inf, -inf],\n",
              "         [0., 0., 0.,  ..., 0., 0., -inf],\n",
              "         [0., 0., 0.,  ..., 0., 0., 0.]]])"
            ]
          },
          "metadata": {},
          "execution_count": 65
        }
      ],
      "source": [
        "#| output: true\n",
        "mask2 = torch.zeros_like(mask).masked_fill(mask==0,float('-inf'))\n",
        "mask2"
      ],
      "id": "b317fc73-d3ad-40cd-bab7-fa91aa0c9df9"
    },
    {
      "cell_type": "code",
      "execution_count": null,
      "metadata": {
        "colab": {
          "base_uri": "https://localhost:8080/"
        },
        "id": "6ea84802-1b15-4e0e-ab20-3e36b86323e1",
        "outputId": "7f033702-9f7c-47ff-afdc-177d26b4c075"
      },
      "outputs": [
        {
          "output_type": "execute_result",
          "data": {
            "text/plain": [
              "tensor([[[1.0000, 0.0000, 0.0000,  ..., 0.0000, 0.0000, 0.0000],\n",
              "         [0.5000, 0.5000, 0.0000,  ..., 0.0000, 0.0000, 0.0000],\n",
              "         [0.3333, 0.3333, 0.3333,  ..., 0.0000, 0.0000, 0.0000],\n",
              "         ...,\n",
              "         [0.0020, 0.0020, 0.0020,  ..., 0.0020, 0.0000, 0.0000],\n",
              "         [0.0020, 0.0020, 0.0020,  ..., 0.0020, 0.0020, 0.0000],\n",
              "         [0.0020, 0.0020, 0.0020,  ..., 0.0020, 0.0020, 0.0020]]])"
            ]
          },
          "metadata": {},
          "execution_count": 66
        }
      ],
      "source": [
        "#| output: true\n",
        "mask3 = F.softmax(mask2,dim=2)\n",
        "mask3"
      ],
      "id": "6ea84802-1b15-4e0e-ab20-3e36b86323e1"
    },
    {
      "cell_type": "code",
      "execution_count": null,
      "metadata": {
        "id": "7fc219bc-7cb1-4e1e-94ce-345221fbddfb"
      },
      "outputs": [],
      "source": [
        "#| output: true\n",
        "a = mask3\n",
        "b = x"
      ],
      "id": "7fc219bc-7cb1-4e1e-94ce-345221fbddfb"
    },
    {
      "cell_type": "code",
      "execution_count": null,
      "metadata": {
        "colab": {
          "base_uri": "https://localhost:8080/"
        },
        "id": "0781a644-6444-4246-ab5f-db220112f1ed",
        "outputId": "27f99b6a-e94a-424e-d08c-6d883499cc62"
      },
      "outputs": [
        {
          "output_type": "stream",
          "name": "stdout",
          "text": [
            "137 ms ± 1.18 ms per loop (mean ± std. dev. of 2 runs, 2 loops each)\n"
          ]
        }
      ],
      "source": [
        "%%timeit -n 2 -r 2\n",
        "#| output: true\n",
        "c = a @ b"
      ],
      "id": "0781a644-6444-4246-ab5f-db220112f1ed"
    },
    {
      "cell_type": "markdown",
      "metadata": {
        "id": "70a5757f-4656-4ee4-9b62-fc778fc9c876"
      },
      "source": [
        "`20.5 ms ± 1.97 ms per loop (mean ± std. dev. of 2 runs, 2 loops each)`"
      ],
      "id": "70a5757f-4656-4ee4-9b62-fc778fc9c876"
    },
    {
      "cell_type": "code",
      "execution_count": null,
      "metadata": {
        "colab": {
          "base_uri": "https://localhost:8080/"
        },
        "id": "990995f8-9a46-47a9-8c8d-14a4784073db",
        "outputId": "4d930801-f017-4da5-a719-04cf95a9d484"
      },
      "outputs": [
        {
          "output_type": "execute_result",
          "data": {
            "text/plain": [
              "True"
            ]
          },
          "metadata": {},
          "execution_count": 69
        }
      ],
      "source": [
        "#| output: true\n",
        "torch.allclose(x_bag_of_words, c, atol=1e-5)"
      ],
      "id": "990995f8-9a46-47a9-8c8d-14a4784073db"
    },
    {
      "cell_type": "markdown",
      "metadata": {
        "id": "64e426f6-1e01-405f-a43b-79e01c5ffaf6"
      },
      "source": [
        "Softmax is used to create probabilities that previous tokens will interact with the current token. Intuitvely you can think of this as not all previous tokens in a sequence carry equal weight or importance so this allows the model to assign a weigting to all previous tokens. All probabilities output from softmax add up to 1. `-inf` is used to mask out future tokens which should not be accesible to the current token. Running `-inf` through softmax yields a 0 probability. In the transformer instead of the `mask` values being either identical or 0 (ex: `[0.5, 0.5, 0, 0]`) the weighting of past tokens will be learned. i.e. certain tokens can communicate with certain other tokens with a stronger weight based on learned values from the data. Andrej calls this `wei` for 'weights', which is the weighting used to determine which tokens communicate with eachother. This is different that what we're doing now which is forcing all non-0 weights to be the same. What we're doing now is just building up the math and intuition on how attention works."
      ],
      "id": "64e426f6-1e01-405f-a43b-79e01c5ffaf6"
    },
    {
      "cell_type": "markdown",
      "metadata": {
        "id": "1a3aa647-b5a6-4942-ab24-f5fae0571261"
      },
      "source": [
        "# Self attention"
      ],
      "id": "1a3aa647-b5a6-4942-ab24-f5fae0571261"
    },
    {
      "cell_type": "markdown",
      "metadata": {
        "id": "cc403cd4-a125-41a9-8426-96c12fffc705"
      },
      "source": [
        "## Initial Code Setup"
      ],
      "id": "cc403cd4-a125-41a9-8426-96c12fffc705"
    },
    {
      "cell_type": "markdown",
      "metadata": {
        "id": "fca4c134-1a0b-4270-bddc-091aff4510e7"
      },
      "source": [
        "To start with we're going to modify our `BigramLanguageModel` to be a `TransformerLanguageModel` class."
      ],
      "id": "fca4c134-1a0b-4270-bddc-091aff4510e7"
    },
    {
      "cell_type": "code",
      "execution_count": null,
      "metadata": {
        "id": "0c47c79e-3bf8-490a-9d1a-1ea16808bec7"
      },
      "outputs": [],
      "source": [
        "#| output: true\n",
        "embedding_dim = 32 #The vector size of the token embeddings. Andrej used n_embed as the variable name."
      ],
      "id": "0c47c79e-3bf8-490a-9d1a-1ea16808bec7"
    },
    {
      "cell_type": "markdown",
      "metadata": {
        "id": "b58fe169-42b3-4fb2-8c96-584f06d3a30c"
      },
      "source": [
        "We're going to add an embedding dimension, change up the token embedding table and modify the token embedding lookup and logits calculation as we work towards modifying this class into a true transformer. We'll iteratively test as we go to make sure it is still able to train correctly. Please read through the below code taking note of the comments explaining the changes being made."
      ],
      "id": "b58fe169-42b3-4fb2-8c96-584f06d3a30c"
    },
    {
      "cell_type": "code",
      "execution_count": null,
      "metadata": {
        "colab": {
          "base_uri": "https://localhost:8080/"
        },
        "id": "d937b9b3-1f00-42bc-8e4f-463c5887fedf",
        "outputId": "6ddf268c-97da-4fd5-cf55-8988915bb260"
      },
      "outputs": [
        {
          "output_type": "stream",
          "name": "stdout",
          "text": [
            "Step: 0 Training Loss: tensor(4.3278) Validation Loss: tensor(4.3231)\n",
            "Step: 200 Training Loss: tensor(2.5421) Validation Loss: tensor(2.5626)\n",
            "Step: 400 Training Loss: tensor(2.4982) Validation Loss: tensor(2.5163)\n",
            "Step: 600 Training Loss: tensor(2.4936) Validation Loss: tensor(2.5354)\n",
            "Step: 800 Training Loss: tensor(2.4983) Validation Loss: tensor(2.5067)\n",
            "Step: 1000 Training Loss: tensor(2.5025) Validation Loss: tensor(2.5045)\n",
            "Step: 1200 Training Loss: tensor(2.4831) Validation Loss: tensor(2.5028)\n",
            "Step: 1400 Training Loss: tensor(2.4866) Validation Loss: tensor(2.5157)\n",
            "Step: 1600 Training Loss: tensor(2.4927) Validation Loss: tensor(2.5120)\n",
            "Step: 1800 Training Loss: tensor(2.4899) Validation Loss: tensor(2.5120)\n",
            "Step: 2000 Training Loss: tensor(2.4804) Validation Loss: tensor(2.5071)\n",
            "Step: 2200 Training Loss: tensor(2.4841) Validation Loss: tensor(2.5178)\n",
            "Step: 2400 Training Loss: tensor(2.4940) Validation Loss: tensor(2.4883)\n",
            "Step: 2600 Training Loss: tensor(2.4956) Validation Loss: tensor(2.5065)\n",
            "Step: 2800 Training Loss: tensor(2.4799) Validation Loss: tensor(2.5138)\n",
            "Step: 2999 Training Loss: tensor(2.4870) Validation Loss: tensor(2.5165)\n",
            "\n",
            "\n",
            "\n",
            "CExthy bridcowindakis s, bth\n",
            "\n",
            "HAPORDurayoule.\n",
            "S:\n",
            "O:\n",
            "IS:\n",
            "Thachangs ar bthar usqur, vethar dilasoate arche my.\n",
            "\n",
            "HD:\n",
            "\n",
            "Yom o mur\n",
            "Yowhthetof isth bot mil ndill, bes ireeesenghin lat Heridrovets, and Win nghir.\n",
            "Thabousel lind me l.\n",
            "HAser ce wiry ptupr aisspllwhy.\n",
            "HAntoul noroopetelaves\n",
            "MPOLI swod mothakleo Windo whth eiiby we ath dourive wee, ired t so mo she te\n",
            "\n",
            "AN ad nterurt f sor; irist m:\n",
            "\n",
            "Thiny aleronth, af Pre?\n",
            "\n",
            "WISo myay INouk!\n",
            "KENoby sarardsal thes ghesthinin cour ay aney RDUES:\n",
            "I fr t ce.\n",
            "J\n",
            "CPU times: user 14.2 s, sys: 167 ms, total: 14.4 s\n",
            "Wall time: 14.7 s\n"
          ]
        }
      ],
      "source": [
        "%%time\n",
        "#| output: true\n",
        "torch.manual_seed(TORCH_SEED)\n",
        "class TransformerLanguageModel(nn.Module):\n",
        "    def __init__(self, vocab_size=vocab_size, embedding_dim=embedding_dim):\n",
        "        super().__init__()\n",
        "        self.vocab_size = vocab_size\n",
        "        self.embedding_dim = embedding_dim\n",
        "        #A basic linear layer to pass our token embeddings through. This is a preliminary step, not the final network.\n",
        "        #Note the input size in the embedding_dim and the output size is the number of tokens or vocab size.\n",
        "        #This is because we are going to be predicting the probability for every token in the vocab that it is the next token.\n",
        "        self.language_model_head_linear_layer = nn.Linear(in_features=self.embedding_dim, out_features=self.vocab_size)\n",
        "\n",
        "        #This will be our lookup table for all of the token embeddings. We'll have an entry for each token (aka vocab size)...\n",
        "        #...and each embedding will be a vector of dimension embedding_dim.\n",
        "        self.token_embedding_table = nn.Embedding(num_embeddings=self.vocab_size, embedding_dim=self.embedding_dim)\n",
        "\n",
        "    def forward(self, idx, targets=None):\n",
        "        #Both idx and targets are (B,T) Batch x Time array of integers\n",
        "        token_embeddings = self.token_embedding_table(idx) #(B,T,C) Batch, Time, Channel - Lookup token embeddings\n",
        "        logits = self.language_model_head_linear_layer(token_embeddings) #(B,T,C) Where C is now token logits of size vocab_size\n",
        "\n",
        "        if targets is not None:\n",
        "            B,T,C = logits.shape\n",
        "            logits_reshaped = logits.view(B*T,C)\n",
        "            targets_reshaped = targets.view(B*T)\n",
        "            loss = F.cross_entropy(input=logits_reshaped, target=targets_reshaped)\n",
        "        else:\n",
        "            loss=None\n",
        "        return logits, loss\n",
        "\n",
        "    def generate(self, idx, max_new_tokens):\n",
        "        #idx is (B,T) array of indicies in the current context\n",
        "        for _ in range(max_new_tokens):\n",
        "            #Get predictions\n",
        "            logits, loss = self(idx) #This is calling `forward`\n",
        "            #Get the last time step from logits where the dimensions of the logits are (B,T,C)\n",
        "            logits_last_timestep = logits[:,-1,:] #Becomes (B,C)\n",
        "            # print('Shape of logits_last_timestep:',logits_last_timestep.shape) #confirming shape\n",
        "            #Apply softmax to get probabilities\n",
        "            probs = F.softmax(input=logits_last_timestep, dim=-1) #(B,C)\n",
        "            # print('Shape of probs:', probs.shape) #confirming shape\n",
        "            #Sample from the probs distribution.\n",
        "            idx_next = torch.multinomial(input=probs, num_samples=1) #(B,1) Returns (B,idxs) where idxs are the token indicies (int).\n",
        "            # print('Shape of idx_next:',idx_next.shape,'and contents:',idx_next) #look at the shape and contents of idx_next\n",
        "            #Append the sampled indexes idx_next to idx\n",
        "            idx = torch.cat((idx, idx_next), dim=1) #(B, T+1)\n",
        "        return idx #TODO: Stopped Here\n",
        "\n",
        "model = TransformerLanguageModel(vocab_size=vocab_size, embedding_dim=embedding_dim)\n",
        "model = model.to(device)\n",
        "optimizer = torch.optim.AdamW(params=model.parameters(), lr=learning_rate)\n",
        "for step in range(max_iters):\n",
        "\n",
        "    if step % eval_iters == 0 or step == max_iters-1:\n",
        "        losses = estimate_loss()\n",
        "        print('Step:',step,'Training Loss:',losses['train'],'Validation Loss:',losses['valid'])\n",
        "\n",
        "    xb,yb = get_batch('train')\n",
        "    logits, loss = model(xb,yb)\n",
        "    optimizer.zero_grad(set_to_none=True)\n",
        "    loss.backward()\n",
        "    optimizer.step()\n",
        "\n",
        "context = torch.zeros((1,1), dtype=torch.long, device=device)\n",
        "print(decode(model.generate(context,max_new_tokens=500)[0].tolist()))"
      ],
      "id": "d937b9b3-1f00-42bc-8e4f-463c5887fedf"
    },
    {
      "cell_type": "markdown",
      "metadata": {
        "id": "a09eb01f-7d44-46b6-88d5-e095d066ac12"
      },
      "source": [
        "We need to also encode the token position so we'll need to add another embedding table for that which will be learned as well."
      ],
      "id": "a09eb01f-7d44-46b6-88d5-e095d066ac12"
    },
    {
      "cell_type": "markdown",
      "metadata": {
        "id": "dc94a5ee-b442-47e3-bcc4-a0df530abfdf"
      },
      "source": [
        "## Building Up To Self Attention"
      ],
      "id": "dc94a5ee-b442-47e3-bcc4-a0df530abfdf"
    },
    {
      "cell_type": "markdown",
      "metadata": {
        "id": "59ff4905-8685-4799-bfdd-8a6684d6d85b"
      },
      "source": [
        "We'll go through the simple cumulative token average again using matrix multiplication and modify it over time to be self attention."
      ],
      "id": "59ff4905-8685-4799-bfdd-8a6684d6d85b"
    },
    {
      "cell_type": "code",
      "execution_count": null,
      "metadata": {
        "colab": {
          "base_uri": "https://localhost:8080/"
        },
        "id": "ab7a5450-34af-4e4b-b73e-ad72c87eefdb",
        "outputId": "60ff1783-7571-4345-a6dd-d1b64f73c569"
      },
      "outputs": [
        {
          "output_type": "stream",
          "name": "stdout",
          "text": [
            "Batch Size (B): 32 Context Length (T): 8 Embedding Dimension (C): 32\n"
          ]
        },
        {
          "output_type": "execute_result",
          "data": {
            "text/plain": [
              "tensor([[1, 0, 0, 0, 0, 0, 0, 0],\n",
              "        [1, 1, 0, 0, 0, 0, 0, 0],\n",
              "        [1, 1, 1, 0, 0, 0, 0, 0],\n",
              "        [1, 1, 1, 1, 0, 0, 0, 0],\n",
              "        [1, 1, 1, 1, 1, 0, 0, 0],\n",
              "        [1, 1, 1, 1, 1, 1, 0, 0],\n",
              "        [1, 1, 1, 1, 1, 1, 1, 0],\n",
              "        [1, 1, 1, 1, 1, 1, 1, 1]])"
            ]
          },
          "metadata": {},
          "execution_count": 72
        }
      ],
      "source": [
        "#| output: true\n",
        "torch.manual_seed(TORCH_SEED)\n",
        "B,T,C = batch_size, context_length, embedding_dim\n",
        "x = torch.randn((B,T,C))\n",
        "print('Batch Size (B):',B,'Context Length (T):',T,'Embedding Dimension (C):',C)\n",
        "tril = torch.tril(torch.ones(T,T,dtype=torch.long))\n",
        "tril"
      ],
      "id": "ab7a5450-34af-4e4b-b73e-ad72c87eefdb"
    },
    {
      "cell_type": "code",
      "execution_count": null,
      "metadata": {
        "colab": {
          "base_uri": "https://localhost:8080/"
        },
        "id": "e80f9a44-fc6a-450a-8120-66ca7f921588",
        "outputId": "ec157a35-e4b3-4c22-ef73-de8429c4ea24"
      },
      "outputs": [
        {
          "output_type": "execute_result",
          "data": {
            "text/plain": [
              "tensor([[1.0000, 0.0000, 0.0000, 0.0000, 0.0000, 0.0000, 0.0000, 0.0000],\n",
              "        [0.5000, 0.5000, 0.0000, 0.0000, 0.0000, 0.0000, 0.0000, 0.0000],\n",
              "        [0.3333, 0.3333, 0.3333, 0.0000, 0.0000, 0.0000, 0.0000, 0.0000],\n",
              "        [0.2500, 0.2500, 0.2500, 0.2500, 0.0000, 0.0000, 0.0000, 0.0000],\n",
              "        [0.2000, 0.2000, 0.2000, 0.2000, 0.2000, 0.0000, 0.0000, 0.0000],\n",
              "        [0.1667, 0.1667, 0.1667, 0.1667, 0.1667, 0.1667, 0.0000, 0.0000],\n",
              "        [0.1429, 0.1429, 0.1429, 0.1429, 0.1429, 0.1429, 0.1429, 0.0000],\n",
              "        [0.1250, 0.1250, 0.1250, 0.1250, 0.1250, 0.1250, 0.1250, 0.1250]])"
            ]
          },
          "metadata": {},
          "execution_count": 73
        }
      ],
      "source": [
        "#| output: true\n",
        "weights = torch.zeros(T,T,dtype=torch.float)\n",
        "weights = weights.masked_fill(tril == 0, float('-inf'))\n",
        "weights = torch.softmax(weights, dim=-1)\n",
        "weights"
      ],
      "id": "e80f9a44-fc6a-450a-8120-66ca7f921588"
    },
    {
      "cell_type": "code",
      "execution_count": null,
      "metadata": {
        "colab": {
          "base_uri": "https://localhost:8080/"
        },
        "id": "731ec026-5276-4300-98c6-c54080402572",
        "outputId": "08dbe16d-be69-4a4c-8245-8b754082179c"
      },
      "outputs": [
        {
          "output_type": "execute_result",
          "data": {
            "text/plain": [
              "torch.Size([32, 8, 32])"
            ]
          },
          "metadata": {},
          "execution_count": 74
        }
      ],
      "source": [
        "#| output: true\n",
        "out = weights @ x\n",
        "out.shape"
      ],
      "id": "731ec026-5276-4300-98c6-c54080402572"
    },
    {
      "cell_type": "markdown",
      "metadata": {
        "id": "ec40774a-d603-4310-bd3f-411f4a2f17e7"
      },
      "source": [
        "When using the cumulative mean the weights are fixed, but ideally we want the weights to variable and learned so each token can interact with other tokens a varying amount based on learned paramters of what is most important. Some tokens will find other tokens more interesting than others and we want that to be data dependent and learned through training.<br>\n",
        "\n",
        "[The example Andrej gives](https://youtu.be/kCc8FmEb1nY?t=3820) is \"maybe if I'm a vowel token I am more interested in past consonant tokens and I want the [consonant] data to flow to me, this is the problem that self attention solves\". The way that self attention solves this is that every single node or token will emit 2 vectors, a query and key vector. The query vector roughly represents \"what am I looking for\" and the key vector roughly represents \"what do I contain\". The way we then get the affinities between each token is by performing a dot product (matrix multiplication) of all the query vectors against all of the key vectors. So for a given query vector, the dot product is calculated against all of the key vectors and the results of that become the weights that are used for each token. This is the `weight` variable we used above except now instead of being a fixed average, it varies per token and is learned. If the key and query are aligned they will produce a larger value when the dot product is taken between them which leads to a larger value in the `weight` matrix.\n",
        "\n",
        "<br>Let's take the above example and modify it to implement self attention.\n",
        "\n",
        "<br>First we need to define our head size. We will use 16. This will be the side dimension of a matrix where each query and key vector are matrix multiplied together. To get the query and key vectors from the token embeddings we first need to run the token embedding through a linear layer for the query and key which will generate a vector of size `head_size`."
      ],
      "id": "ec40774a-d603-4310-bd3f-411f4a2f17e7"
    },
    {
      "cell_type": "code",
      "execution_count": null,
      "metadata": {
        "colab": {
          "base_uri": "https://localhost:8080/"
        },
        "id": "e97af1f9-48f6-4b3d-aecc-10639e031f4c",
        "outputId": "6a2ff0ce-9ebd-452d-b0fe-0fd656d3e8a7"
      },
      "outputs": [
        {
          "output_type": "stream",
          "name": "stdout",
          "text": [
            "Batch Size (B): 32 Context Length (T): 8 Embedding Dimension (C): 32\n"
          ]
        }
      ],
      "source": [
        "#| output: true\n",
        "#version 4: self attention\n",
        "#setup\n",
        "torch.manual_seed(TORCH_SEED)\n",
        "B,T,C = batch_size, context_length, embedding_dim\n",
        "x = torch.randn((B,T,C))\n",
        "print('Batch Size (B):',B,'Context Length (T):',T,'Embedding Dimension (C):',C)\n",
        "\n",
        "head_size = 16 #Self attention head size\n",
        "\n",
        "#Learned vector to extract key vector from token embedding vector\n",
        "key_layer = nn.Linear(in_features=C, out_features=head_size, bias=False)\n",
        "\n",
        "#Learned vector to extract query vector from token embedding vector\n",
        "query_layer = nn.Linear(in_features=C, out_features=head_size, bias=False)\n",
        "\n",
        "#Extract query and key values for every token in the batch in parallel\n",
        "key = key_layer(x) # (B,T,head_size)\n",
        "query = query_layer(x) # (B,T,head_size) #TODO:"
      ],
      "id": "e97af1f9-48f6-4b3d-aecc-10639e031f4c"
    },
    {
      "cell_type": "markdown",
      "metadata": {
        "id": "69fac63c-c2d7-4222-ab34-2ab6ff625805"
      },
      "source": [
        "Now we will calculate the affinities (weights) between each token in each sequence by matrix multiplying all of the queries and keys. If we simply try to calculate `query @ key` it will fail because the shapes are not correct to be able to do matrix multiplication. In our case both `key` and `query` are of shape (B,T,head_size) which are incompatible shapes to be matrix multiplied together. We need to transpose, or rotate, the `key` in the T and head_size dimension so they can be matrix multiplied. We cannot simply use the `.T` transpose because it would transpose in the batch dimension as well which we do not want so instead we'll specify which dimensions to transpose which we can do by calling `key.transpose(-2, -1)` which will transpose the last 2 dimensions."
      ],
      "id": "69fac63c-c2d7-4222-ab34-2ab6ff625805"
    },
    {
      "cell_type": "code",
      "execution_count": null,
      "metadata": {
        "colab": {
          "base_uri": "https://localhost:8080/"
        },
        "id": "a8f04c8b-6e18-4a16-85f4-a46647d0ebe8",
        "outputId": "81117b0e-02e2-4248-e94e-a3c3f6854782"
      },
      "outputs": [
        {
          "output_type": "execute_result",
          "data": {
            "text/plain": [
              "torch.Size([32, 8, 8])"
            ]
          },
          "metadata": {},
          "execution_count": 76
        }
      ],
      "source": [
        "#| output: true\n",
        "#Calculate affinity (weights)\n",
        "#(B,T,head_size) @ (B, head_size, T) which is (32,8,16) @ (32,16,8) -> (B, T, T) which is (32,8,8)\n",
        "weights = query @ key.transpose(-2, -1)\n",
        "weights.shape"
      ],
      "id": "a8f04c8b-6e18-4a16-85f4-a46647d0ebe8"
    },
    {
      "cell_type": "code",
      "execution_count": null,
      "metadata": {
        "colab": {
          "base_uri": "https://localhost:8080/"
        },
        "id": "cf8e62c9-7cc6-4a28-8d3c-dbb065c535d5",
        "outputId": "a0024450-d9ad-4c16-9ae1-ed8bf4648e8f"
      },
      "outputs": [
        {
          "output_type": "execute_result",
          "data": {
            "text/plain": [
              "tensor([[ 0.2746, -1.2489,  0.5325,  0.2690,  0.1749, -0.7806,  0.1727,  1.3460],\n",
              "        [ 1.1833,  1.3634,  0.8982, -0.2749, -0.6459, -0.9106, -0.1111, -1.6019],\n",
              "        [-0.5018, -0.0807, -1.0500, -0.7615,  0.3193, -0.1342,  0.3969, -1.8405],\n",
              "        [ 0.5840,  0.6687, -0.5924,  0.4017,  0.3058, -0.6051, -0.0642, -0.6784],\n",
              "        [-0.2627, -2.5447,  1.5607, -1.5866, -0.6412, -1.3504, -0.0761, -2.3587],\n",
              "        [-0.8941, -2.0453, -1.5232,  1.5689, -0.5483,  1.9307, -0.6665, -1.7059],\n",
              "        [-0.2565,  0.5645, -0.7255, -0.2768, -0.3469,  0.7811, -0.5242, -0.9621],\n",
              "        [ 0.7061,  1.1336,  0.4749,  0.7493,  0.5897,  1.3509,  0.7673, -0.4065]],\n",
              "       grad_fn=<SelectBackward0>)"
            ]
          },
          "metadata": {},
          "execution_count": 77
        }
      ],
      "source": [
        "#| output: true\n",
        "weights[0]"
      ],
      "id": "cf8e62c9-7cc6-4a28-8d3c-dbb065c535d5"
    },
    {
      "cell_type": "markdown",
      "metadata": {
        "id": "ec8bc727-74cb-4975-aee9-3ae8cf91f229"
      },
      "source": [
        "Now we have weights that are calculated based on each token's affinity to every other token. We then apply the same filtering that we did previously with our cumulative mean so we simply remove the line where the `weights` were set to zero. This will allow us to finally apply a learned weighting to each previous token embedding."
      ],
      "id": "ec8bc727-74cb-4975-aee9-3ae8cf91f229"
    },
    {
      "cell_type": "code",
      "execution_count": null,
      "metadata": {
        "colab": {
          "base_uri": "https://localhost:8080/"
        },
        "id": "b59b54b9-bc45-4742-b215-589cf87dbe4f",
        "outputId": "392f87ce-3b1d-453a-e054-0f2d25608be6"
      },
      "outputs": [
        {
          "output_type": "execute_result",
          "data": {
            "text/plain": [
              "torch.Size([32, 8, 32])"
            ]
          },
          "metadata": {},
          "execution_count": 78
        }
      ],
      "source": [
        "#| output: true\n",
        "tril = torch.tril(torch.ones(T,T,dtype=torch.long))\n",
        "\n",
        "# weights = torch.zeros(T,T,dtype=torch.float) #Removed now that weights are calculated\n",
        "weights = weights.masked_fill(tril == 0, float('-inf')) #Masks future tokens\n",
        "weights = torch.softmax(weights, dim=-1) #Provides even distribution (weights that add up to 1)\n",
        "\n",
        "out = weights @ x\n",
        "out.shape"
      ],
      "id": "b59b54b9-bc45-4742-b215-589cf87dbe4f"
    },
    {
      "cell_type": "markdown",
      "metadata": {
        "id": "4257aed3-6426-4275-a049-44a92285f5b4"
      },
      "source": [
        "You can see the weights below. Notice they are no longer uniform. They can now be indivual and learned from the data."
      ],
      "id": "4257aed3-6426-4275-a049-44a92285f5b4"
    },
    {
      "cell_type": "code",
      "execution_count": null,
      "metadata": {
        "colab": {
          "base_uri": "https://localhost:8080/"
        },
        "id": "6d1514d9-f798-4559-8df6-7d850d34dcc9",
        "outputId": "a638db17-d64a-4cc9-8db1-85f7888e3d48"
      },
      "outputs": [
        {
          "output_type": "execute_result",
          "data": {
            "text/plain": [
              "tensor([[1.0000, 0.0000, 0.0000, 0.0000, 0.0000, 0.0000, 0.0000, 0.0000],\n",
              "        [0.4551, 0.5449, 0.0000, 0.0000, 0.0000, 0.0000, 0.0000, 0.0000],\n",
              "        [0.3224, 0.4912, 0.1864, 0.0000, 0.0000, 0.0000, 0.0000, 0.0000],\n",
              "        [0.3096, 0.3370, 0.0955, 0.2580, 0.0000, 0.0000, 0.0000, 0.0000],\n",
              "        [0.1213, 0.0124, 0.7510, 0.0323, 0.0831, 0.0000, 0.0000, 0.0000],\n",
              "        [0.0314, 0.0099, 0.0167, 0.3685, 0.0444, 0.5291, 0.0000, 0.0000],\n",
              "        [0.1066, 0.2423, 0.0667, 0.1045, 0.0974, 0.3009, 0.0816, 0.0000],\n",
              "        [0.1168, 0.1792, 0.0927, 0.1220, 0.1040, 0.2227, 0.1242, 0.0384]],\n",
              "       grad_fn=<SelectBackward0>)"
            ]
          },
          "metadata": {},
          "execution_count": 79
        }
      ],
      "source": [
        "#| output: true\n",
        "weights[0] #TODO"
      ],
      "id": "6d1514d9-f798-4559-8df6-7d850d34dcc9"
    },
    {
      "cell_type": "markdown",
      "metadata": {
        "id": "07e607a5-a590-43a0-937e-6ec047921b6e"
      },
      "source": [
        "Now each token will be able to calculate its affinity to all other tokens. You can see in the example by looking at the bottom row, that the 8th token has a high affinity for the 6th token because it has the highest value: <br>\n",
        "\n",
        "`[0.1168, 0.1792, 0.0927, 0.1220, 0.1040, `**`0.2227`**`, 0.1242, 0.0384]`<br>\n",
        "\n",
        "There is [one more part](https://youtu.be/kCc8FmEb1nY?t=4207) of self attention we need to look at.  That is that when we aggregate the tokens `out = weights @ x` we don't aggregate the tokens exactly, we aggregate the `value`, so in the same way that we calculate `key` and `query` via passing the token embedding through a linear layer, we will do the same to get the `value`."
      ],
      "id": "07e607a5-a590-43a0-937e-6ec047921b6e"
    },
    {
      "cell_type": "code",
      "execution_count": null,
      "metadata": {
        "colab": {
          "base_uri": "https://localhost:8080/"
        },
        "id": "eb638b63-5188-45ac-a139-1d94d4365e24",
        "outputId": "47948af5-6781-4e3a-fa2b-91be52c873a4"
      },
      "outputs": [
        {
          "output_type": "stream",
          "name": "stdout",
          "text": [
            "Batch Size (B): 32 Context Length (T): 8 Embedding Dimension (C): 32\n"
          ]
        },
        {
          "output_type": "execute_result",
          "data": {
            "text/plain": [
              "torch.Size([32, 8, 8])"
            ]
          },
          "metadata": {},
          "execution_count": 80
        }
      ],
      "source": [
        "#| output: true\n",
        "#version 4: self attention\n",
        "#setup\n",
        "torch.manual_seed(TORCH_SEED)\n",
        "B,T,C = batch_size, context_length, embedding_dim\n",
        "x = torch.randn((B,T,C))\n",
        "print('Batch Size (B):',B,'Context Length (T):',T,'Embedding Dimension (C):',C)\n",
        "\n",
        "head_size = 16 #Self attention head size\n",
        "\n",
        "#Learned vector to extract key vector from token embedding vector\n",
        "key_layer = nn.Linear(in_features=C, out_features=head_size, bias=False)\n",
        "\n",
        "#Learned vector to extract query vector from token embedding vector\n",
        "query_layer = nn.Linear(in_features=C, out_features=head_size, bias=False)\n",
        "\n",
        "#Learned vector to extract value vector from token embedding vector\n",
        "value_layer = nn.Linear(in_features=C, out_features=head_size, bias=False) #NEW\n",
        "\n",
        "#Extract query, key and value for every token in the batch in parallel\n",
        "key = key_layer(x) # (B,T,head_size)\n",
        "query = query_layer(x) # (B,T,head_size)\n",
        "value = value_layer(x) # (B,T,head_size) #NEW\n",
        "\n",
        "#Calculate affinity (weights)\n",
        "#(B,T,head_size) @ (B, head_size, T) which is (32,8,16) @ (32,16,8) -> (B, T, T) which is (32,8,8)\n",
        "weights = query @ key.transpose(-2, -1)\n",
        "weights.shape"
      ],
      "id": "eb638b63-5188-45ac-a139-1d94d4365e24"
    },
    {
      "cell_type": "markdown",
      "metadata": {
        "id": "f66591c5-2947-4a74-bda3-78f0156aec69"
      },
      "source": [
        "And now instead of calculating the output by matrix multiplying the `weights` by `x` we multiply the weights by `value`."
      ],
      "id": "f66591c5-2947-4a74-bda3-78f0156aec69"
    },
    {
      "cell_type": "code",
      "execution_count": null,
      "metadata": {
        "colab": {
          "base_uri": "https://localhost:8080/"
        },
        "id": "b262d729-d4c9-4817-880e-cd0dce75f1ba",
        "outputId": "cc212ba2-c9e9-4f34-e2ad-9e605d6e0b84"
      },
      "outputs": [
        {
          "output_type": "execute_result",
          "data": {
            "text/plain": [
              "torch.Size([32, 8, 16])"
            ]
          },
          "metadata": {},
          "execution_count": 81
        }
      ],
      "source": [
        "#| output: true\n",
        "tril = torch.tril(torch.ones(T,T,dtype=torch.long))\n",
        "\n",
        "weights = weights.masked_fill(tril == 0, float('-inf')) #Masks future tokens\n",
        "weights = torch.softmax(weights, dim=-1) #Provides even distribution (weights that add up to 1)\n",
        "\n",
        "# out = weights @ x\n",
        "out = weights @ value #NEW (B, T, T) @ (B, T, head_size) = (B, T, head_size)\n",
        "out.shape"
      ],
      "id": "b262d729-d4c9-4817-880e-cd0dce75f1ba"
    },
    {
      "cell_type": "markdown",
      "metadata": {
        "id": "29543c03-11fa-4762-9ecc-6d15a7f31814"
      },
      "source": [
        "Notice how the shape of `out` has changed from `torch.Size([32, 8, 32])` to `torch.Size([32, 8, 16])` now that the we are using `value` which is of length 16 instead of the token embedding `x` which was of length 32.<br>\n",
        "\n",
        "You can think of the token embedding `x` as private information of the token and it must be passed through the linear layers to get the `query`, `key` and `value`. You can think of it as the token embedding `x` has all the information about the token and:<br>\n",
        "\n",
        "`query`: represents the things that the token is interested in or wants.<br>\n",
        "\n",
        "`key`: represents the things the token has.<br>\n",
        "\n",
        "`value`: represents, if you find the token interesting, the information the token wants to communicate."
      ],
      "id": "29543c03-11fa-4762-9ecc-6d15a7f31814"
    },
    {
      "cell_type": "markdown",
      "metadata": {
        "id": "f10cabb4-1c02-4d0b-9499-13a9265ee2f6"
      },
      "source": [
        "**Additional Notes on Attention:** [link](https://youtu.be/kCc8FmEb1nY?t=4298)<br>\n",
        "1) Attention is a communication mechanism. You can think of it as if you had nodes in a directed graph:<br>\n",
        "\n",
        "![Image of a Directed Graph](https://github.com/matdmiller/blog/blob/main/posts/2023-06-10_transformers/directed_graph.png?raw=1)<br>\n",
        "\n",
        "Each node has a vector of information (token embedding) and it gets a weighted sum of all of the nodes that point to it. This is done in a data dependent manner, so it depends on what data is stored in each node at any point in time. Our graph does not look quite like the example.  Instead, our graph has 8 nodes. The first node is pointed to by only itself, our second node is pointed to by the first node and itself, our third node is pointed to by our first and second nodes as well as itself and so on. This structure is common in auto-regressive scenarious. <br>\n",
        "\n",
        "**Auto-regressive** in this context refers to a type of model that generates sequences by modeling the probability of each item in the sequence given its preceding items. In other words, autoregressive language models generate predictions step by step, where each prediction is dependent on the ones that came before it.<br>\n",
        "\n",
        "In principal attention can be applied to any arbitrary directed graph as it is just a communication mechanism between nodes.<br>\n",
        "\n",
        "2) There is no notion of space or position. Attention simply acts over a set of vectors in this graph. The nodes have no idea of where they are positioned within the space which is why we need to encode them positionally which gives them information that anchors them to a specific position. i.e. inherently the nodes, representing characters in our example, don't know what position they occur in relative to the other nodes which is why we need to positionally encode them. You can contrast this with convolutional neural networks where the data and network inherently are modeled spatially. For example CNN's are regularly used for computer vision applications. In these applications adjacent pixels are fed into the CNN where convolutional filters act in space preserving the spatial information about the data.<br>\n",
        "\n",
        "Attention, in contrast with CNN's, has no notion of space, so space or position or location need to be encoded into the nodes through some other mechanism, which in our case is a positional encoding vector. This position vector will be added to the token prior to it being processed through the linear layers."
      ],
      "id": "f10cabb4-1c02-4d0b-9499-13a9265ee2f6"
    },
    {
      "cell_type": "markdown",
      "metadata": {
        "id": "21083239-0f46-4a00-8cd7-9c8d097652e4"
      },
      "source": [
        "**Additional Notes:** [link](https://youtu.be/kCc8FmEb1nY?t=4420)<br>\n",
        "* Each example across `batch` dimensions is processed completely independently. Information from an item in a batch does not affect information in another item within the batch. Different items within a batch never talk to eachother.\n",
        "* In an encoder network (block), you do not filter out future tokens, only in a decoder network. This means that in an encoder network, these lines from our previous example would be removed:\n",
        "```python\n",
        "tril = torch.tril(torch.ones(T,T,dtype=torch.long))\n",
        "weights = weights.masked_fill(tril == 0, float('-inf'))\n",
        "```\n",
        "> There are many instances where you want all of the nodes to talk to each other, such as in sentiment analysis for example, because later on in the network you are making a simple prediction on whether the text is positive or negative. Another example would be vision transformers where you want all image patches to talk to each other. In these instances you use an encoder block which does not have masking in contrast to the decoder block which is what we have been focusing on here.\n",
        "* There are different types of attention. What we're looking at now is self attention. The reason this is self-attention is because the data comes from the same source (`x`). Attention can be much more general than self attention, in that the source of the data can be from a different source. For example in encoder decoder networks, the queries could be produced from `x` but the the keys and values could come from a completely different source, for example from different encoder blocks that we would want to condition on. A real world example of this could be translating from one language to another, where the original or input language comes from an separate encoder network. The encoder network provides the `keys` and `values` and the decoder network provides the `queries`. This is called cross attention and is where there is a separate set of nodes we would like to pull information from into our node. Self attention, again, is where we are pulling `keys`, `queries` and `values` from one set of nodes."
      ],
      "id": "21083239-0f46-4a00-8cd7-9c8d097652e4"
    },
    {
      "cell_type": "markdown",
      "metadata": {
        "id": "8bed003b-b49f-4afd-a887-6b7381988752"
      },
      "source": [
        "So far we've implemented most of the attenion equation from the original [Attention is all you need paper](https://arxiv.org/abs/1706.03762).\n",
        "![Attention Equation from Attention is all you need paper](https://github.com/matdmiller/blog/blob/main/posts/2023-06-10_transformers/attention_equation1.png?raw=1)<br>\n",
        "\n",
        "`Attention(Q,K,V) = softmax((Q*K^T)/(sqrt(dk))*V`<br>\n",
        "Where: Q = Query, K = Key, V = Value, dk = dimension of the Q and K or 'head'.<br>\n",
        "\n",
        "The piece we are missing is dividing by `sqrt(dk)` which makes this **'scaled self attention'**. To do this we need to divide `weights` by `sqrt(dk)` or the dimension of the Q,K head. This makes it so when Q,K are unit variance, `weights` will be unit variance too which is important so `softmax` will remain diffused and not be saturated too much, i.e. the dot products betweek Q and K can become very large which pushes the gradients through the softmax to become very small which negatively impact training. This is why we want to scale them first before taking the `softmax`.<br>\n",
        "\n",
        "Let's look at a real example of this:<br>\n",
        "\n",
        "Where `q` and `k` are a gausian or normal distributions so the mean of the values is 0 and the standard deviation is 1. When you compute the matrix multiplication between them you will notice that the variance of `weights` is quite high."
      ],
      "id": "8bed003b-b49f-4afd-a887-6b7381988752"
    },
    {
      "cell_type": "code",
      "execution_count": null,
      "metadata": {
        "colab": {
          "base_uri": "https://localhost:8080/"
        },
        "id": "6804aeec-eec9-4633-ac4f-62c0ee990e0a",
        "outputId": "3b484114-c022-4320-809e-b7b1cf8b7b6e"
      },
      "outputs": [
        {
          "output_type": "stream",
          "name": "stdout",
          "text": [
            "Mean of q: tensor(0.0021) Variance of q: tensor(0.9985) Mean of k: tensor(-0.0129) Variance of k: tensor(1.0255)\n",
            "Shape of weights: torch.Size([32, 8, 8]) Mean of weights: tensor(-0.0302) Variance of weights: tensor(17.3386) \n",
            "Min of weights: tensor(-16.3490) Max of weights: tensor(13.1295)\n"
          ]
        }
      ],
      "source": [
        "#| output: true\n",
        "torch.manual_seed(TORCH_SEED)\n",
        "q = torch.randn(B,T,head_size)\n",
        "k = torch.randn(B,T,head_size)\n",
        "print('Mean of q:',q.mean(),'Variance of q:',q.var(),'Mean of k:',k.mean(),'Variance of k:',k.var())\n",
        "weights = q @ k.transpose(-2,-1)\n",
        "print('Shape of weights:',weights.shape,'Mean of weights:',weights.mean(),'Variance of weights:',weights.var(),\n",
        "      '\\nMin of weights:',weights.min(),'Max of weights:',weights.max())"
      ],
      "id": "6804aeec-eec9-4633-ac4f-62c0ee990e0a"
    },
    {
      "cell_type": "code",
      "execution_count": null,
      "metadata": {
        "colab": {
          "base_uri": "https://localhost:8080/"
        },
        "id": "7e997d4a-0fae-4a15-b840-4d7077771108",
        "outputId": "0b8bd4f7-7756-4643-cdd3-0d36f52fbd1d"
      },
      "outputs": [
        {
          "output_type": "execute_result",
          "data": {
            "text/plain": [
              "tensor([-3.9763,  1.5713, -1.4034, -2.8632,  4.2487,  1.1146, -6.5130, -2.7662])"
            ]
          },
          "metadata": {},
          "execution_count": 83
        }
      ],
      "source": [
        "#| output: true\n",
        "weights[0,0]"
      ],
      "id": "7e997d4a-0fae-4a15-b840-4d7077771108"
    },
    {
      "cell_type": "markdown",
      "metadata": {
        "id": "7b34ded1-7b91-4e09-8769-54506be7f82e"
      },
      "source": [
        "Now if you divide the dot product of `q` and `k` by the square root of the head_size you can see that it returns the variance of `weights` back to 1 instead of approximately 17 prior to scaling."
      ],
      "id": "7b34ded1-7b91-4e09-8769-54506be7f82e"
    },
    {
      "cell_type": "code",
      "execution_count": null,
      "metadata": {
        "colab": {
          "base_uri": "https://localhost:8080/"
        },
        "id": "2e487fe8-7319-4c92-b88b-d27bf2b443d1",
        "outputId": "212fa0aa-c15f-4873-950b-da5fa1d42dd6"
      },
      "outputs": [
        {
          "output_type": "stream",
          "name": "stdout",
          "text": [
            "Shape of weights: torch.Size([32, 8, 8]) Mean of weights: tensor(-0.0075) Variance of weights: tensor(1.0837) \n",
            "Min of weights: tensor(-4.0872) Max of weights: tensor(3.2824)\n"
          ]
        }
      ],
      "source": [
        "#| output: true\n",
        "import math\n",
        "weights = (q @ k.transpose(-2,-1)) / math.sqrt(head_size) #TODO Output size is (B,T,T) (32,8,8)\n",
        "print('Shape of weights:',weights.shape,'Mean of weights:',weights.mean(),'Variance of weights:',weights.var(),\n",
        "      '\\nMin of weights:',weights.min(),'Max of weights:',weights.max())"
      ],
      "id": "2e487fe8-7319-4c92-b88b-d27bf2b443d1"
    },
    {
      "cell_type": "code",
      "execution_count": null,
      "metadata": {
        "colab": {
          "base_uri": "https://localhost:8080/"
        },
        "id": "c965f2d8-7462-4a67-9549-2baca77903d3",
        "outputId": "ca4e4158-346b-4bd7-ce12-61264eea5de3"
      },
      "outputs": [
        {
          "output_type": "execute_result",
          "data": {
            "text/plain": [
              "tensor([-0.9941,  0.3928, -0.3508, -0.7158,  1.0622,  0.2786, -1.6282, -0.6915])"
            ]
          },
          "metadata": {},
          "execution_count": 85
        }
      ],
      "source": [
        "#| output: true\n",
        "weights[0,0]"
      ],
      "id": "c965f2d8-7462-4a67-9549-2baca77903d3"
    },
    {
      "cell_type": "markdown",
      "metadata": {
        "id": "2ef9ece9-1966-4897-ba5b-8996b44706d7"
      },
      "source": [
        "We'll create a very basic function to plot the tensors to help visualize the results."
      ],
      "id": "2ef9ece9-1966-4897-ba5b-8996b44706d7"
    },
    {
      "cell_type": "code",
      "execution_count": null,
      "metadata": {
        "id": "87de239d-1890-4264-8901-512a9d1421b8"
      },
      "outputs": [],
      "source": [
        "#| output: true\n",
        "import matplotlib.pyplot as plt\n",
        "def plot_1d_tensor(x):\n",
        "    print(x)\n",
        "    plt.bar(range(len(x)), x)"
      ],
      "id": "87de239d-1890-4264-8901-512a9d1421b8"
    },
    {
      "cell_type": "markdown",
      "metadata": {
        "id": "1bf0f04c-a5c8-4f1c-9e07-7e136117183d"
      },
      "source": [
        "Again, the reason that scaling `weights` is important is because of the subsequent `softmax` that is applied. When large values are input into `softmax` it causes the gradients to be small and the output of the softmax to converge toward one-hot vectors. First we'll start out with one of the example weights that has already been divided by `math.sqrt(head_size)`."
      ],
      "id": "1bf0f04c-a5c8-4f1c-9e07-7e136117183d"
    },
    {
      "cell_type": "code",
      "execution_count": null,
      "metadata": {
        "colab": {
          "base_uri": "https://localhost:8080/"
        },
        "id": "d7642dc8-b540-41f2-b239-ac13adc2d8f1",
        "outputId": "560dc073-9440-48f9-f024-d1aba50ebf02"
      },
      "outputs": [
        {
          "output_type": "stream",
          "name": "stdout",
          "text": [
            "tensor([0.0465, 0.1862, 0.0885, 0.0614, 0.3636, 0.1661, 0.0247, 0.0630])\n"
          ]
        },
        {
          "output_type": "display_data",
          "data": {
            "text/plain": [
              "<Figure size 640x480 with 1 Axes>"
            ],
            "image/png": "[encoded data removed]"
          },
          "metadata": {}
        }
      ],
      "source": [
        "plot_1d_tensor(F.softmax(torch.tensor([-0.9941,  0.3928, -0.3508, -0.7158,  1.0622,  0.2786, -1.6282, -0.6915]), dim=-1))"
      ],
      "id": "d7642dc8-b540-41f2-b239-ac13adc2d8f1"
    },
    {
      "cell_type": "markdown",
      "metadata": {
        "id": "8007df63-e553-4549-a2a7-dd7273ad370e"
      },
      "source": [
        "You can see the the output of softmax here is diffuse. None of the output values are overly large or small. If you multiply these same values by `math.sqrt(head_size)`, effectively undoing scaling we applied, you will see that the results after softmax are less evenly distributed or diffuse."
      ],
      "id": "8007df63-e553-4549-a2a7-dd7273ad370e"
    },
    {
      "cell_type": "code",
      "execution_count": null,
      "metadata": {
        "colab": {
          "base_uri": "https://localhost:8080/"
        },
        "id": "a4d57bbf-da0a-4415-8302-85862e21b619",
        "outputId": "15467cda-e660-4cca-a2a9-b06e6531c20e"
      },
      "outputs": [
        {
          "output_type": "stream",
          "name": "stdout",
          "text": [
            "tensor([2.3960e-04, 6.1487e-02, 3.1406e-03, 7.2937e-04, 8.9464e-01, 3.8940e-02,\n",
            "        1.8965e-05, 8.0382e-04])\n"
          ]
        },
        {
          "output_type": "display_data",
          "data": {
            "text/plain": [
              "<Figure size 640x480 with 1 Axes>"
            ],
            "image/png": "[encoded data removed]"
          },
          "metadata": {}
        }
      ],
      "source": [
        "#| output: true\n",
        "plot_1d_tensor(F.softmax(torch.tensor([-0.9941,  0.3928, -0.3508, -0.7158,  1.0622,  0.2786, -1.6282, -0.6915])*math.sqrt(head_size), dim=-1))"
      ],
      "id": "a4d57bbf-da0a-4415-8302-85862e21b619"
    },
    {
      "cell_type": "markdown",
      "metadata": {
        "id": "b1b59a7a-714e-4d37-ab5c-443b3ea87085"
      },
      "source": [
        "If you push it even further you can see that the second item in the vector continues to grow even though the value of each element, relative to eachother has not changed."
      ],
      "id": "b1b59a7a-714e-4d37-ab5c-443b3ea87085"
    },
    {
      "cell_type": "code",
      "execution_count": null,
      "metadata": {
        "colab": {
          "base_uri": "https://localhost:8080/"
        },
        "id": "b2bff877-9c0e-4bc4-859b-2da01c19d6b9",
        "outputId": "8e01d4d2-c5c6-49b7-db88-6cf2b1210071"
      },
      "outputs": [
        {
          "output_type": "stream",
          "name": "stdout",
          "text": [
            "tensor([5.1446e-15, 2.2311e-05, 1.5187e-10, 4.4175e-13, 9.9997e-01, 3.5890e-06,\n",
            "        2.0192e-19, 6.5168e-13])\n"
          ]
        },
        {
          "output_type": "display_data",
          "data": {
            "text/plain": [
              "<Figure size 640x480 with 1 Axes>"
            ],
            "image/png": "[encoded data removed]"
          },
          "metadata": {}
        }
      ],
      "source": [
        "#| output: true\n",
        "plot_1d_tensor(F.softmax(torch.tensor([-0.9941,  0.3928, -0.3508, -0.7158,  1.0622,  0.2786, -1.6282, -0.6915])*head_size, dim=-1))"
      ],
      "id": "b2bff877-9c0e-4bc4-859b-2da01c19d6b9"
    },
    {
      "cell_type": "markdown",
      "metadata": {
        "id": "a3407243-2d42-40ce-8be1-ad47a31a7c16"
      },
      "source": [
        "As the input values to the softmax continue to grow the result of the `softmax` continues to converge to a one-hot encoded vector, which is where one of the values in the vector is 1 and all the rest are 0's. In effect this would make it so 1 node will only draw information from one other node, which is generally not what we want. This is especially a problem during initialization of the network before training, as it can be difficult for the network to recover from this during training."
      ],
      "id": "a3407243-2d42-40ce-8be1-ad47a31a7c16"
    },
    {
      "cell_type": "markdown",
      "metadata": {
        "id": "a48505f4-f5da-4269-95bb-20036aca4e19"
      },
      "source": [
        "## Continuing model definition"
      ],
      "id": "a48505f4-f5da-4269-95bb-20036aca4e19"
    },
    {
      "cell_type": "markdown",
      "metadata": {
        "id": "5b93206e-6a69-455e-8d5b-8cc348fa4924"
      },
      "source": [
        "Now we're going to create a `Head` module where we'll implement a single self attention head which we'll use in our transformer, replacing the bigram model. You can reference the video [link](https://youtu.be/kCc8FmEb1nY?t=4752) here to follow along if you would like."
      ],
      "id": "5b93206e-6a69-455e-8d5b-8cc348fa4924"
    },
    {
      "cell_type": "code",
      "execution_count": null,
      "metadata": {
        "id": "3b0d58b2-86ef-47f5-9ecb-c22af4852cdf"
      },
      "outputs": [],
      "source": [
        "#| output: true\n",
        "class Head(nn.Module):\n",
        "    \"\"\" one self attention head \"\"\"\n",
        "    def __init__(self, head_size:int=head_size, embedding_dim:int=embedding_dim, context_length:int=context_length):\n",
        "        super().__init__()\n",
        "        self.embedding_dim = embedding_dim\n",
        "        self.head_size = head_size\n",
        "        self.context_length = context_length\n",
        "        self.key_layer   = nn.Linear(in_features=self.embedding_dim, out_features=self.head_size, bias=False)\n",
        "        self.query_layer = nn.Linear(in_features=self.embedding_dim, out_features=self.head_size, bias=False)\n",
        "        self.value_layer = nn.Linear(in_features=self.embedding_dim, out_features=self.head_size, bias=False)\n",
        "        self.register_buffer('tril', torch.tril(torch.ones((self.context_length, self.context_length))))\n",
        "\n",
        "    def forward(self, x):\n",
        "        B,T,C = x.shape\n",
        "        assert T <= self.context_length #check that x.shape matches pre-defined dims\n",
        "        assert C == self.embedding_dim\n",
        "        q = self.query_layer(x) #(B,T,C) (batch size, context length, head_size\n",
        "        k = self.key_layer(x) #(B,T,C)\n",
        "        v = self.value_layer(x) #(B,T,C)\n",
        "\n",
        "        #compute scores based on affinities\n",
        "        weights = (q @ k.transpose(-2,-1)) * self.head_size**-0.5 # (B,T,C) @ (B,C,T) -> (B,T,T)\n",
        "        weights = weights.masked_fill(self.tril[:T,:T] == 0, float('-inf')) #(B,T,T)\n",
        "        weights = F.softmax(input=weights, dim=-1) #(B,T,T)\n",
        "\n",
        "        #perform weighted aggragation of the values\n",
        "        out = weights @ v # (B,T,T) @ (B,T,C) -> (B,T,C)\n",
        "        return out\n",
        "\n",
        "# Head()(x)"
      ],
      "id": "3b0d58b2-86ef-47f5-9ecb-c22af4852cdf"
    },
    {
      "cell_type": "markdown",
      "metadata": {
        "id": "961631c3-afbc-40d8-8571-36c3535a62d0"
      },
      "source": [
        "The `register_buffer` method is utilized to incorporate the tril matrix as a part of the model's state. This integration ensures that tril is consistently saved and loaded with the model, maintaining uniform behavior across various runs and settings. Crucially, being a buffer, tril is excluded from gradient calculations and is not included as a `parameter` during model optimization, thereby rendering it a non-trainable component of the model."
      ],
      "id": "961631c3-afbc-40d8-8571-36c3535a62d0"
    },
    {
      "cell_type": "markdown",
      "metadata": {
        "id": "5c6eb829-4b01-4e51-8292-0c1d2831b19d"
      },
      "source": [
        "To make visualizing the training loss easier we'll create a simple function to plot them."
      ],
      "id": "5c6eb829-4b01-4e51-8292-0c1d2831b19d"
    },
    {
      "cell_type": "code",
      "execution_count": null,
      "metadata": {
        "id": "91c5532c-b773-4f3c-b21b-0e0b96a6906b"
      },
      "outputs": [],
      "source": [
        "#| output: true\n",
        "def plot_losses(losses):\n",
        "    train_losses = [o['train'] for o in losses if o.get('train') is not None]\n",
        "    valid_losses = [o['valid'] for o in losses if o.get('valid') is not None]\n",
        "    plt.plot(train_losses, label='Training Loss')\n",
        "    plt.plot(valid_losses, label='Validation Loss')\n",
        "    plt.ylabel('Loss')\n",
        "    plt.title('Losses')\n",
        "    plt.legend()\n",
        "    plt.show()"
      ],
      "id": "91c5532c-b773-4f3c-b21b-0e0b96a6906b"
    },
    {
      "cell_type": "markdown",
      "metadata": {
        "id": "4bd7bbae-61a6-47c5-8bcb-3fbfa301115b"
      },
      "source": [
        "Now we'll add our new `Head` implementation to the `TransformerLanguageModel` class and train a model to ensure everything is working as well as to get a baseline of the results. Note we are also adding a `token_position_embedding_table` to encode the token positions. This learned looked up value will be added to the `token_embeddings`."
      ],
      "id": "4bd7bbae-61a6-47c5-8bcb-3fbfa301115b"
    },
    {
      "cell_type": "code",
      "execution_count": null,
      "metadata": {
        "id": "475fe08e-cc10-4fbc-ba63-46e4804916dd"
      },
      "outputs": [],
      "source": [
        "#| output: true\n",
        "learning_rate = 1e-3 # decreate the learning rate because self attention cannot tolerate very high learning rates.\n",
        "max_iters = 5000"
      ],
      "id": "475fe08e-cc10-4fbc-ba63-46e4804916dd"
    },
    {
      "cell_type": "code",
      "execution_count": null,
      "metadata": {
        "colab": {
          "base_uri": "https://localhost:8080/"
        },
        "id": "faac7cfc-45a2-42a7-b4c1-e85bcd119c2f",
        "outputId": "d9d95905-4737-476a-8569-5e8e5bb42788"
      },
      "outputs": [
        {
          "output_type": "stream",
          "name": "stdout",
          "text": [
            "Step: 0 Training Loss: tensor(4.1743) Validation Loss: tensor(4.1712)\n",
            "Step: 200 Training Loss: tensor(3.1199) Validation Loss: tensor(3.1343)\n",
            "Step: 400 Training Loss: tensor(2.8712) Validation Loss: tensor(2.8892)\n",
            "Step: 600 Training Loss: tensor(2.7071) Validation Loss: tensor(2.7260)\n",
            "Step: 800 Training Loss: tensor(2.6324) Validation Loss: tensor(2.6392)\n",
            "Step: 1000 Training Loss: tensor(2.5896) Validation Loss: tensor(2.5849)\n",
            "Step: 1200 Training Loss: tensor(2.5460) Validation Loss: tensor(2.5497)\n",
            "Step: 1400 Training Loss: tensor(2.5158) Validation Loss: tensor(2.5259)\n",
            "Step: 1600 Training Loss: tensor(2.5000) Validation Loss: tensor(2.5051)\n",
            "Step: 1800 Training Loss: tensor(2.4885) Validation Loss: tensor(2.4980)\n",
            "Step: 2000 Training Loss: tensor(2.4632) Validation Loss: tensor(2.4858)\n",
            "Step: 2200 Training Loss: tensor(2.4572) Validation Loss: tensor(2.4797)\n",
            "Step: 2400 Training Loss: tensor(2.4632) Validation Loss: tensor(2.4467)\n",
            "Step: 2600 Training Loss: tensor(2.4587) Validation Loss: tensor(2.4553)\n",
            "Step: 2800 Training Loss: tensor(2.4338) Validation Loss: tensor(2.4533)\n",
            "Step: 3000 Training Loss: tensor(2.4402) Validation Loss: tensor(2.4562)\n",
            "Step: 3200 Training Loss: tensor(2.4409) Validation Loss: tensor(2.4492)\n",
            "Step: 3400 Training Loss: tensor(2.4249) Validation Loss: tensor(2.4487)\n",
            "Step: 3600 Training Loss: tensor(2.4376) Validation Loss: tensor(2.4395)\n",
            "Step: 3800 Training Loss: tensor(2.4166) Validation Loss: tensor(2.4278)\n",
            "Step: 4000 Training Loss: tensor(2.4102) Validation Loss: tensor(2.4275)\n",
            "Step: 4200 Training Loss: tensor(2.4191) Validation Loss: tensor(2.4384)\n",
            "Step: 4400 Training Loss: tensor(2.4178) Validation Loss: tensor(2.4217)\n",
            "Step: 4600 Training Loss: tensor(2.4077) Validation Loss: tensor(2.4109)\n",
            "Step: 4800 Training Loss: tensor(2.4062) Validation Loss: tensor(2.4189)\n",
            "Step: 4999 Training Loss: tensor(2.4043) Validation Loss: tensor(2.4176)\n"
          ]
        },
        {
          "output_type": "display_data",
          "data": {
            "text/plain": [
              "<Figure size 640x480 with 1 Axes>"
            ],
            "image/png": "[encoded data removed]"
          },
          "metadata": {}
        },
        {
          "output_type": "stream",
          "name": "stdout",
          "text": [
            "\n",
            "And thef tridcowind tis n, ber\n",
            "\n",
            "Hiset bobe toe.\n",
            "S:\n",
            "O-' my dalatanss:\n",
            "Want he uw hathe.\n",
            "War dthas ate awice my.\n",
            "\n",
            "Haldaru zorou wabuts, tof is hy me mil ndill, aes iree sen cin lat Het drovets, and Win ng:\n",
            "Wilerabous lplind peallllishe onchiry:\n",
            "Augr aiss hawty.\n",
            "\n",
            "'Thake norodpeeelaves\n",
            "Momy.\n",
            "Whod mothake onWindo whe Ceiiby, wout, fourive wees ired thoous\n",
            "Ar-x's uhe kad nterthirf so;\n",
            "Angis! m:\n",
            "E nge male ont ffaf Pre?\n",
            "\n",
            "WISo myat houre!\n",
            "\n",
            "Widby ak\n",
            "Sadsal thes ghe thidin cour ay aney Iry ts chan th voul\n"
          ]
        }
      ],
      "source": [
        "#| output: true\n",
        "torch.manual_seed(TORCH_SEED)\n",
        "class TransformerLanguageModel(nn.Module):\n",
        "    def __init__(self, vocab_size:int=vocab_size, embedding_dim:int=embedding_dim, context_length:int=context_length,\n",
        "                 head_size:int=head_size):\n",
        "        super().__init__()\n",
        "        self.vocab_size = vocab_size\n",
        "        self.embedding_dim = embedding_dim\n",
        "        self.context_length = context_length\n",
        "        self.head_size = head_size\n",
        "\n",
        "        #This will be our lookup table for embeddings. We'll have an entry for each token (aka vocab size) and each embedding will...\n",
        "        #...be a vector of dimension embedding_dim.\n",
        "        self.token_embedding_table = nn.Embedding(num_embeddings=self.vocab_size, embedding_dim=self.embedding_dim)\n",
        "        self.token_position_embedding_table = nn.Embedding(num_embeddings=self.context_length, embedding_dim=self.embedding_dim)\n",
        "\n",
        "        self.self_attention_head_linear_layer = Head(head_size=head_size, embedding_dim=embedding_dim, context_length=context_length)\n",
        "        self.language_model_head_linear_layer = nn.Linear(in_features=self.head_size, out_features=self.vocab_size)\n",
        "\n",
        "    def forward(self, idx, targets=None):\n",
        "        #Both idx and targets are (B,T) Batch x Time array of integers\n",
        "        B,T = idx.shape\n",
        "        token_embeddings = self.token_embedding_table(idx) #(B,T,C) Batch, Time, Channel\n",
        "        token_position_embeddings = self.token_position_embedding_table(torch.arange(T, device=device)) #(T,C)\n",
        "        x = token_embeddings + token_position_embeddings\n",
        "        x = self.self_attention_head_linear_layer(x) #apply one head of self attention\n",
        "        logits = self.language_model_head_linear_layer(x) #(B,T,C) Where C is now token logits of size vocab_size\n",
        "\n",
        "        if targets is not None:\n",
        "            B,T,C = logits.shape\n",
        "            logits_reshaped = logits.view(B*T,C)\n",
        "            targets_reshaped = targets.view(B*T)\n",
        "            loss = F.cross_entropy(input=logits_reshaped, target=targets_reshaped)\n",
        "        else:\n",
        "            loss=None\n",
        "        return logits, loss\n",
        "\n",
        "    def generate(self, idx, max_new_tokens):\n",
        "        #idx is (B,T) array of indicies in the current context\n",
        "        for _ in range(max_new_tokens):\n",
        "            #Crop idx to the max size of our positional embeddings table\n",
        "            idx_crop = idx[:,-self.context_length:]\n",
        "            #Get predictions\n",
        "            logits, loss = self(idx_crop)\n",
        "            #Get the last time step from logits where the dimensions of the logits are (B,T,C)\n",
        "            logits_last_timestep = logits[:,-1,:] #Becomes (B,C)\n",
        "            # print('Shape of logits_last_timestep:',logits_last_timestep.shape) #confirming shape\n",
        "            #Apply softmax to get probabilities\n",
        "            probs = F.softmax(input=logits_last_timestep, dim=-1) #(B,C)\n",
        "            # print('Shape of probs:', probs.shape) #confirming shape\n",
        "            #Sample from the probs distribution.\n",
        "            idx_next = torch.multinomial(input=probs, num_samples=1) #(B,1) Returns (B,idxs) where idxs are random integer indicies.\n",
        "            # print('Shape of idx_next:',idx_next.shape,'and contents:',idx_next) #look at the shape and contents of idx_next\n",
        "            #Append the sampled indexes idx_next to idx\n",
        "            idx = torch.cat((idx, idx_next), dim=1) #(B, T+1)\n",
        "        return idx\n",
        "\n",
        "model = TransformerLanguageModel(vocab_size=vocab_size, embedding_dim=embedding_dim, context_length=context_length)\n",
        "model = model.to(device)\n",
        "optimizer = torch.optim.AdamW(params=model.parameters(), lr=learning_rate)\n",
        "tracked_losses = list()\n",
        "for step in range(max_iters):\n",
        "\n",
        "    if step % eval_iters == 0 or step == max_iters-1:\n",
        "        losses = estimate_loss()\n",
        "        tracked_losses.append(losses)\n",
        "        print('Step:',step,'Training Loss:',losses['train'],'Validation Loss:',losses['valid'])\n",
        "\n",
        "    xb,yb = get_batch('train')\n",
        "    logits, loss = model(xb,yb)\n",
        "    optimizer.zero_grad(set_to_none=True)\n",
        "    loss.backward()\n",
        "    optimizer.step()\n",
        "\n",
        "plot_losses(tracked_losses)\n",
        "context = torch.zeros((1,1), dtype=torch.long, device=device)\n",
        "print(decode(model.generate(context,max_new_tokens=500)[0].tolist()))"
      ],
      "id": "faac7cfc-45a2-42a7-b4c1-e85bcd119c2f"
    },
    {
      "cell_type": "markdown",
      "metadata": {
        "id": "be681498-ebd6-46d2-b82b-98a6a0adf41c"
      },
      "source": [
        "Next we'll add multi-head attention which is just computing multiple attention heads together in parallel and then concatenating the results.\n",
        "![Multi head attention formula](https://github.com/matdmiller/blog/blob/main/posts/2023-06-10_transformers/multi_head_attention1.png?raw=1)"
      ],
      "id": "be681498-ebd6-46d2-b82b-98a6a0adf41c"
    },
    {
      "cell_type": "code",
      "execution_count": null,
      "metadata": {
        "id": "19a73c44-22c9-4191-acb6-02f0475e45b4"
      },
      "outputs": [],
      "source": [
        "#| output: true\n",
        "class MultiHeadAttention(nn.Module):\n",
        "    def __init__(self, num_heads:int, head_size:int=head_size, embedding_dim:int=embedding_dim, context_length:int=context_length):\n",
        "        super().__init__()\n",
        "        self.num_heads = num_heads\n",
        "        self.head_size = head_size\n",
        "        self.embedding_dim = embedding_dim\n",
        "        self.context_length = context_length\n",
        "\n",
        "        self.heads = nn.ModuleList([\n",
        "            Head(head_size=self.head_size, embedding_dim=self.embedding_dim, context_length=self.context_length)\n",
        "            for _ in range(self.num_heads)\n",
        "        ])\n",
        "\n",
        "    def forward(self, x):\n",
        "        return torch.cat([h(x) for h in self.heads], dim=-1) #Note the concat is in the last 'C' dimension => (B,T,C*num_heads)\n"
      ],
      "id": "19a73c44-22c9-4191-acb6-02f0475e45b4"
    },
    {
      "cell_type": "markdown",
      "metadata": {
        "id": "e38bbbbf-64cd-46ed-a8f6-97c7b247b742"
      },
      "source": [
        "Now let's add our newly created multi-head attention back into our Model."
      ],
      "id": "e38bbbbf-64cd-46ed-a8f6-97c7b247b742"
    },
    {
      "cell_type": "code",
      "execution_count": null,
      "metadata": {
        "colab": {
          "base_uri": "https://localhost:8080/"
        },
        "id": "182499e4-4eb9-48b8-98f5-f59ca1f49ddc",
        "outputId": "5afacc23-8612-4376-dc00-e8421bc43b53"
      },
      "outputs": [
        {
          "output_type": "stream",
          "name": "stdout",
          "text": [
            "Step: 0 Training Loss: tensor(4.2248) Validation Loss: tensor(4.2250)\n",
            "Step: 200 Training Loss: tensor(3.0112) Validation Loss: tensor(3.0132)\n",
            "Step: 400 Training Loss: tensor(2.7330) Validation Loss: tensor(2.7487)\n",
            "Step: 600 Training Loss: tensor(2.6190) Validation Loss: tensor(2.6244)\n",
            "Step: 800 Training Loss: tensor(2.5537) Validation Loss: tensor(2.5700)\n",
            "Step: 1000 Training Loss: tensor(2.5222) Validation Loss: tensor(2.5220)\n",
            "Step: 1200 Training Loss: tensor(2.4785) Validation Loss: tensor(2.4870)\n",
            "Step: 1400 Training Loss: tensor(2.4509) Validation Loss: tensor(2.4563)\n",
            "Step: 1600 Training Loss: tensor(2.4205) Validation Loss: tensor(2.4278)\n",
            "Step: 1800 Training Loss: tensor(2.3966) Validation Loss: tensor(2.4144)\n",
            "Step: 2000 Training Loss: tensor(2.3658) Validation Loss: tensor(2.3828)\n",
            "Step: 2200 Training Loss: tensor(2.3729) Validation Loss: tensor(2.3910)\n",
            "Step: 2400 Training Loss: tensor(2.3579) Validation Loss: tensor(2.3466)\n",
            "Step: 2600 Training Loss: tensor(2.3544) Validation Loss: tensor(2.3499)\n",
            "Step: 2800 Training Loss: tensor(2.3267) Validation Loss: tensor(2.3427)\n",
            "Step: 3000 Training Loss: tensor(2.3259) Validation Loss: tensor(2.3410)\n",
            "Step: 3200 Training Loss: tensor(2.3180) Validation Loss: tensor(2.3313)\n",
            "Step: 3400 Training Loss: tensor(2.3070) Validation Loss: tensor(2.3142)\n",
            "Step: 3600 Training Loss: tensor(2.3024) Validation Loss: tensor(2.3078)\n",
            "Step: 3800 Training Loss: tensor(2.2728) Validation Loss: tensor(2.3038)\n",
            "Step: 4000 Training Loss: tensor(2.2630) Validation Loss: tensor(2.2855)\n",
            "Step: 4200 Training Loss: tensor(2.2825) Validation Loss: tensor(2.2850)\n",
            "Step: 4400 Training Loss: tensor(2.2734) Validation Loss: tensor(2.2868)\n",
            "Step: 4600 Training Loss: tensor(2.2629) Validation Loss: tensor(2.2753)\n",
            "Step: 4800 Training Loss: tensor(2.2425) Validation Loss: tensor(2.2706)\n",
            "Step: 4999 Training Loss: tensor(2.2440) Validation Loss: tensor(2.2609)\n"
          ]
        },
        {
          "output_type": "display_data",
          "data": {
            "text/plain": [
              "<Figure size 640x480 with 1 Axes>"
            ],
            "image/png": "[encoded data removed]"
          },
          "metadata": {}
        },
        {
          "output_type": "stream",
          "name": "stdout",
          "text": [
            "\n",
            "And they tridcowd,\n",
            "This so be madises bube to tavegr-'t theall ands:\n",
            "Want he us hat tot?\n",
            "Wedtlas anes wice my.\n",
            "\n",
            "HDER:\n",
            "At onoth\n",
            "Youts, tof is hy me mil nowlit,\n",
            "Wheirwe sen cin lat Het drov the and the nown iserans!\n",
            " lolind teall thus, cocrivy prugh aiss hewty.\n",
            "Hllings kne\n",
            "To thig I whom.\n",
            "\n",
            "Whoul to ake onWinso whre piiby we atit,\n",
            "Crive winghience poo mo the thu the danterupt fis are;\n",
            "De! muf thre male of,\n",
            "To fis.\n",
            "Fe I So myakny, be!\n",
            "Whied is:\n",
            "Sadsal the E'd st huin couk ay andy Iry to cof my carey\n"
          ]
        }
      ],
      "source": [
        "#| output: true\n",
        "torch.manual_seed(TORCH_SEED)\n",
        "class TransformerLanguageModel(nn.Module):\n",
        "    def __init__(self, vocab_size:int=vocab_size, embedding_dim:int=embedding_dim, context_length:int=context_length,\n",
        "                 head_size:int=head_size):\n",
        "        super().__init__()\n",
        "        self.vocab_size = vocab_size\n",
        "        self.embedding_dim = embedding_dim\n",
        "        self.context_length = context_length\n",
        "        self.head_size = head_size\n",
        "\n",
        "        #This will be our lookup table for embeddings. We'll have an entry for each token (aka vocab size) and each embedding will...\n",
        "        #...be a vector of dimension embedding_dim.\n",
        "        self.token_embedding_table = nn.Embedding(num_embeddings=self.vocab_size, embedding_dim=self.embedding_dim)\n",
        "        self.token_position_embedding_table = nn.Embedding(num_embeddings=self.context_length, embedding_dim=self.embedding_dim)\n",
        "\n",
        "        # self.self_attention_head_linear_layer = Head(head_size=head_size, embedding_dim=embedding_dim, context_length=context_length)\n",
        "        #4 heads of 8 dimensional self attention.\n",
        "        self.multi_self_attention_heads_layer = MultiHeadAttention(num_heads=4, head_size=self.embedding_dim//4) #NEW\n",
        "        self.language_model_head_linear_layer = nn.Linear(in_features=self.embedding_dim, out_features=self.vocab_size)\n",
        "\n",
        "    def forward(self, idx, targets=None):\n",
        "        #Both idx and targets are (B,T) Batch x Time array of integers\n",
        "        B,T = idx.shape\n",
        "        token_embeddings = self.token_embedding_table(idx) #(B,T,C) Batch, Time, Channel\n",
        "        token_position_embeddings = self.token_position_embedding_table(torch.arange(T, device=device)) #(T,C)\n",
        "        x = token_embeddings + token_position_embeddings\n",
        "        # x = self.self_attention_head_linear_layer(x) #apply one head of self attention\n",
        "        x = self.multi_self_attention_heads_layer(x)\n",
        "        logits = self.language_model_head_linear_layer(x) #(B,T,C) Where C is now token logits of size vocab_size\n",
        "\n",
        "        if targets is not None:\n",
        "            B,T,C = logits.shape\n",
        "            logits_reshaped = logits.view(B*T,C)\n",
        "            targets_reshaped = targets.view(B*T)\n",
        "            loss = F.cross_entropy(input=logits_reshaped, target=targets_reshaped)\n",
        "        else:\n",
        "            loss=None\n",
        "        return logits, loss\n",
        "\n",
        "    def generate(self, idx, max_new_tokens):\n",
        "        #idx is (B,T) array of indicies in the current context\n",
        "        for _ in range(max_new_tokens):\n",
        "            #Crop idx to the max size of our positional embeddings table\n",
        "            idx_crop = idx[:,-self.context_length:]\n",
        "            #Get predictions\n",
        "            logits, loss = self(idx_crop)\n",
        "            #Get the last time step from logits where the dimensions of the logits are (B,T,C)\n",
        "            logits_last_timestep = logits[:,-1,:] #Becomes (B,C)\n",
        "            # print('Shape of logits_last_timestep:',logits_last_timestep.shape) #confirming shape\n",
        "            #Apply softmax to get probabilities\n",
        "            probs = F.softmax(input=logits_last_timestep, dim=-1) #(B,C)\n",
        "            # print('Shape of probs:', probs.shape) #confirming shape\n",
        "            #Sample from the probs distribution.\n",
        "            idx_next = torch.multinomial(input=probs, num_samples=1) #(B,1) Returns (B,idxs) where idxs are random integer indicies.\n",
        "            # print('Shape of idx_next:',idx_next.shape,'and contents:',idx_next) #look at the shape and contents of idx_next\n",
        "            #Append the sampled indexes idx_next to idx\n",
        "            idx = torch.cat((idx, idx_next), dim=1) #(B, T+1)\n",
        "        return idx\n",
        "\n",
        "model = TransformerLanguageModel(vocab_size=vocab_size, embedding_dim=embedding_dim, context_length=context_length)\n",
        "model = model.to(device)\n",
        "optimizer = torch.optim.AdamW(params=model.parameters(), lr=learning_rate)\n",
        "tracked_losses = list()\n",
        "for step in range(max_iters):\n",
        "\n",
        "    if step % eval_iters == 0 or step == max_iters-1:\n",
        "        losses = estimate_loss()\n",
        "        tracked_losses.append(losses)\n",
        "        print('Step:',step,'Training Loss:',losses['train'],'Validation Loss:',losses['valid'])\n",
        "\n",
        "    xb,yb = get_batch('train')\n",
        "    logits, loss = model(xb,yb)\n",
        "    optimizer.zero_grad(set_to_none=True)\n",
        "    loss.backward()\n",
        "    optimizer.step()\n",
        "\n",
        "plot_losses(tracked_losses)\n",
        "context = torch.zeros((1,1), dtype=torch.long, device=device)\n",
        "print(decode(model.generate(context,max_new_tokens=500)[0].tolist()))"
      ],
      "id": "182499e4-4eb9-48b8-98f5-f59ca1f49ddc"
    },
    {
      "cell_type": "markdown",
      "metadata": {
        "id": "25a713d5-2948-4953-a938-6f635391e884"
      },
      "source": [
        "As you can see there is quite an improvement in the loss, going from `Validation Loss: tensor(2.4176)` with a single attention head to `Validation Loss: tensor(2.2609)` with our multi-attention head that has 4 heads. Note, these losses may vary somewhat between training runs.  The results are still nonsense, but are looking closer to the training text than previous attempts. The reason that multi-headed attention works better than a single self attention block is that it is helpful to have multiple communication channels between tokens so they can each be looking for different things over different communication channels. As an example one communication channel make be looking back at vowels or consonants while another might be looking for the previous space.<br>\n",
        "\n",
        "If you look at this transformer block diagram, you can see that we've implemented quite a bit of it so far.<br>\n",
        "![transformer architecture diagram](https://github.com/matdmiller/blog/blob/main/posts/2023-06-10_transformers/transformer_architecture_diagram2.png?raw=1)<br>"
      ],
      "id": "25a713d5-2948-4953-a938-6f635391e884"
    },
    {
      "cell_type": "markdown",
      "metadata": {
        "id": "8480d9dd-aa69-4958-82e3-d18e63667c5a"
      },
      "source": [
        "We've implemented the output embeddings, positional embeddings, (the lower) masked multi-head attention, and the final linear and softmax layers. We are going to skip the multi-head attention block in the middle as that is only needed if your model has an encoder block, which ours does not. This leaves the feed forward network to implement which is just a simple multi layer perceptron. In addition the entire block between the positional encodings and final linear layer can be stacked on top of itself multiple times signified by Nx.<br>\n",
        "\n",
        "Here is the equation for the feed forward network, which is a simple multi layer perceptron: <br>\n",
        "![feed_forward_network_mlp1.png](https://github.com/matdmiller/blog/blob/main/posts/2023-06-10_transformers/feed_forward_network_mlp1.png?raw=1)"
      ],
      "id": "8480d9dd-aa69-4958-82e3-d18e63667c5a"
    },
    {
      "cell_type": "code",
      "execution_count": null,
      "metadata": {
        "id": "06227b5a-4fc2-4eff-9f89-6a1832120b32"
      },
      "outputs": [],
      "source": [
        "#| output: true\n",
        "class FeedForwardNetwork(nn.Module):\n",
        "    \"\"\"A simple linear network followed by a non-linearity\"\"\"\n",
        "    def __init__(self, embedding_dim:int=embedding_dim):\n",
        "        super().__init__()\n",
        "        self.embedding_dim = embedding_dim\n",
        "        self.ffn = nn.Sequential(\n",
        "            nn.Linear(in_features=self.embedding_dim, out_features=self.embedding_dim),\n",
        "            nn.ReLU()\n",
        "        )\n",
        "    def forward(self, x):\n",
        "        return self.ffn(x)"
      ],
      "id": "06227b5a-4fc2-4eff-9f89-6a1832120b32"
    },
    {
      "cell_type": "markdown",
      "metadata": {
        "id": "92175c34-9af7-42f3-ade9-ee069c8d2044"
      },
      "source": [
        "Note: In the equation it defines a (linear layer), (relu), and (linear layer). We'll add the final linear layer later.<br>\n",
        "Now let's add our FFN to our Transformer Model."
      ],
      "id": "92175c34-9af7-42f3-ade9-ee069c8d2044"
    },
    {
      "cell_type": "code",
      "execution_count": null,
      "metadata": {
        "colab": {
          "base_uri": "https://localhost:8080/"
        },
        "id": "a5c8f034-c4dd-47cf-92dd-090996c53782",
        "outputId": "3c52a46e-1e39-406e-c913-e6aa6dfa8597"
      },
      "outputs": [
        {
          "output_type": "stream",
          "name": "stdout",
          "text": [
            "Step: 0 Training Loss: tensor(4.2022) Validation Loss: tensor(4.2019)\n",
            "Step: 200 Training Loss: tensor(2.9494) Validation Loss: tensor(2.9685)\n",
            "Step: 400 Training Loss: tensor(2.6759) Validation Loss: tensor(2.6864)\n",
            "Step: 600 Training Loss: tensor(2.5779) Validation Loss: tensor(2.5799)\n",
            "Step: 800 Training Loss: tensor(2.5171) Validation Loss: tensor(2.5197)\n",
            "Step: 1000 Training Loss: tensor(2.4739) Validation Loss: tensor(2.4703)\n",
            "Step: 1200 Training Loss: tensor(2.4210) Validation Loss: tensor(2.4260)\n",
            "Step: 1400 Training Loss: tensor(2.4079) Validation Loss: tensor(2.4106)\n",
            "Step: 1600 Training Loss: tensor(2.3841) Validation Loss: tensor(2.3845)\n",
            "Step: 1800 Training Loss: tensor(2.3684) Validation Loss: tensor(2.3734)\n",
            "Step: 2000 Training Loss: tensor(2.3387) Validation Loss: tensor(2.3474)\n",
            "Step: 2200 Training Loss: tensor(2.3340) Validation Loss: tensor(2.3497)\n",
            "Step: 2400 Training Loss: tensor(2.3178) Validation Loss: tensor(2.3126)\n",
            "Step: 2600 Training Loss: tensor(2.3174) Validation Loss: tensor(2.3155)\n",
            "Step: 2800 Training Loss: tensor(2.2881) Validation Loss: tensor(2.3090)\n",
            "Step: 3000 Training Loss: tensor(2.2828) Validation Loss: tensor(2.3055)\n",
            "Step: 3200 Training Loss: tensor(2.2788) Validation Loss: tensor(2.2894)\n",
            "Step: 3400 Training Loss: tensor(2.2707) Validation Loss: tensor(2.2731)\n",
            "Step: 3600 Training Loss: tensor(2.2671) Validation Loss: tensor(2.2677)\n",
            "Step: 3800 Training Loss: tensor(2.2418) Validation Loss: tensor(2.2747)\n",
            "Step: 4000 Training Loss: tensor(2.2286) Validation Loss: tensor(2.2521)\n",
            "Step: 4200 Training Loss: tensor(2.2462) Validation Loss: tensor(2.2539)\n",
            "Step: 4400 Training Loss: tensor(2.2368) Validation Loss: tensor(2.2434)\n",
            "Step: 4600 Training Loss: tensor(2.2300) Validation Loss: tensor(2.2440)\n",
            "Step: 4800 Training Loss: tensor(2.2176) Validation Loss: tensor(2.2518)\n",
            "Step: 4999 Training Loss: tensor(2.2126) Validation Loss: tensor(2.2284)\n"
          ]
        },
        {
          "output_type": "display_data",
          "data": {
            "text/plain": [
              "<Figure size 640x480 with 1 Axes>"
            ],
            "image/png": "[encoded data removed]"
          },
          "metadata": {}
        },
        {
          "output_type": "stream",
          "name": "stdout",
          "text": [
            "\n",
            "Wher bef bridcowf,\n",
            "The lay be madiret bube to tave O-' my dalllauss:\n",
            "Want he us hathert?\n",
            "Wedtlacoate awill my thand a wizorm he owns, to fit her! Varl nowlit,\n",
            "Wheiree sen cin lat Heacliov the and the now on you mes lill dime litens;\n",
            "Honcelf sprup; aiss hit yevell nal nord patelave whom\n",
            "Ill, demet aklecal-'so wher piichs withe dour warce hidend thoouse the the the danderthirf son; igis! muf thre ifled at tise Pried my of.\n",
            "\n",
            "HKINGLER:\n",
            "Widby and adsal ther grest hoin cour ay aney Iry thel fronf veay\n",
            "CPU times: user 58.6 s, sys: 479 ms, total: 59.1 s\n",
            "Wall time: 59.5 s\n"
          ]
        }
      ],
      "source": [
        "%%time\n",
        "#| output: true\n",
        "torch.manual_seed(TORCH_SEED)\n",
        "class TransformerLanguageModel(nn.Module):\n",
        "    def __init__(self, vocab_size:int=vocab_size, embedding_dim:int=embedding_dim, context_length:int=context_length,\n",
        "                 head_size:int=head_size):\n",
        "        super().__init__()\n",
        "        self.vocab_size = vocab_size\n",
        "        self.embedding_dim = embedding_dim\n",
        "        self.context_length = context_length\n",
        "        self.head_size = head_size\n",
        "\n",
        "        #This will be our lookup table for embeddings. We'll have an entry for each token (aka vocab size) and each embedding will...\n",
        "        #...be a vector of dimension embedding_dim.\n",
        "        self.token_embedding_table = nn.Embedding(num_embeddings=self.vocab_size, embedding_dim=self.embedding_dim)\n",
        "        self.token_position_embedding_table = nn.Embedding(num_embeddings=self.context_length, embedding_dim=self.embedding_dim)\n",
        "\n",
        "        #4 heads of 8 dimensional self attention.\n",
        "        self.multi_self_attention_heads_layer = MultiHeadAttention(num_heads=4, head_size=self.embedding_dim//4)\n",
        "        self.feed_forward_network = FeedForwardNetwork(embedding_dim=self.embedding_dim) #NEW\n",
        "        self.language_model_head_linear_layer = nn.Linear(in_features=self.embedding_dim, out_features=self.vocab_size)\n",
        "\n",
        "    def forward(self, idx, targets=None):\n",
        "        #Both idx and targets are (B,T) Batch x Time array of integers\n",
        "        B,T = idx.shape\n",
        "        token_embeddings = self.token_embedding_table(idx) #(B,T,C) Batch, Time, Channel\n",
        "        token_position_embeddings = self.token_position_embedding_table(torch.arange(T, device=device)) #(T,C)\n",
        "        x = token_embeddings + token_position_embeddings\n",
        "        x = self.multi_self_attention_heads_layer(x) # (B,T,C)\n",
        "        x = self.feed_forward_network(x) # (B,T,C) NEW\n",
        "        logits = self.language_model_head_linear_layer(x) #(B,T,C) Where C is now token logits of size vocab_size\n",
        "\n",
        "        if targets is not None:\n",
        "            B,T,C = logits.shape\n",
        "            logits_reshaped = logits.view(B*T,C)\n",
        "            targets_reshaped = targets.view(B*T)\n",
        "            loss = F.cross_entropy(input=logits_reshaped, target=targets_reshaped)\n",
        "        else:\n",
        "            loss=None\n",
        "        return logits, loss\n",
        "\n",
        "    def generate(self, idx, max_new_tokens):\n",
        "        #idx is (B,T) array of indicies in the current context\n",
        "        for _ in range(max_new_tokens):\n",
        "            #Crop idx to the max size of our positional embeddings table\n",
        "            idx_crop = idx[:,-self.context_length:]\n",
        "            #Get predictions\n",
        "            logits, loss = self(idx_crop)\n",
        "            #Get the last time step from logits where the dimensions of the logits are (B,T,C)\n",
        "            logits_last_timestep = logits[:,-1,:] #Becomes (B,C)\n",
        "            # print('Shape of logits_last_timestep:',logits_last_timestep.shape) #confirming shape\n",
        "            #Apply softmax to get probabilities\n",
        "            probs = F.softmax(input=logits_last_timestep, dim=-1) #(B,C)\n",
        "            # print('Shape of probs:', probs.shape) #confirming shape\n",
        "            #Sample from the probs distribution.\n",
        "            idx_next = torch.multinomial(input=probs, num_samples=1) #(B,1) Returns (B,idxs) where idxs are random integer indicies.\n",
        "            # print('Shape of idx_next:',idx_next.shape,'and contents:',idx_next) #look at the shape and contents of idx_next\n",
        "            #Append the sampled indexes idx_next to idx\n",
        "            idx = torch.cat((idx, idx_next), dim=1) #(B, T+1)\n",
        "        return idx\n",
        "\n",
        "model = TransformerLanguageModel(vocab_size=vocab_size, embedding_dim=embedding_dim, context_length=context_length)\n",
        "model = model.to(device)\n",
        "optimizer = torch.optim.AdamW(params=model.parameters(), lr=learning_rate)\n",
        "tracked_losses = list()\n",
        "for step in range(max_iters):\n",
        "\n",
        "    if step % eval_iters == 0 or step == max_iters-1:\n",
        "        losses = estimate_loss()\n",
        "        tracked_losses.append(losses)\n",
        "        print('Step:',step,'Training Loss:',losses['train'],'Validation Loss:',losses['valid'])\n",
        "\n",
        "    xb,yb = get_batch('train')\n",
        "    logits, loss = model(xb,yb)\n",
        "    optimizer.zero_grad(set_to_none=True)\n",
        "    loss.backward()\n",
        "    optimizer.step()\n",
        "\n",
        "plot_losses(tracked_losses)\n",
        "context = torch.zeros((1,1), dtype=torch.long, device=device)\n",
        "print(decode(model.generate(context,max_new_tokens=500)[0].tolist()))"
      ],
      "id": "a5c8f034-c4dd-47cf-92dd-090996c53782"
    },
    {
      "cell_type": "markdown",
      "metadata": {
        "id": "d8e8707f-5724-4c2c-a87e-8af84a28ece0"
      },
      "source": [
        "Our loss has improved again from `Validation Loss: tensor(2.2854)` now to `Validation Loss: tensor(2.2720)` now that we've added the feed forward network.<br>\n",
        "\n",
        "Next we need to create a Block module that incorporates everthing within the block on the transformer architecture diagram (grey box) which will then allow us to stack them."
      ],
      "id": "d8e8707f-5724-4c2c-a87e-8af84a28ece0"
    },
    {
      "cell_type": "code",
      "execution_count": null,
      "metadata": {
        "id": "4008a385-bff3-476b-8b50-6512d2284860"
      },
      "outputs": [],
      "source": [
        "#| output: true\n",
        "class TransformerBlock(nn.Module):\n",
        "    \"\"\"Transformer Block: Communication folled by computation.\"\"\"\n",
        "    def __init__(self, embedding_dim:int=embedding_dim, context_length:int=context_length,\n",
        "                 num_heads:int=4):\n",
        "        #embedding_dim: embedding dimension, num_heads: the number of heads that we want\n",
        "        super().__init__()\n",
        "        self.embedding_dim = embedding_dim\n",
        "        self.context_length = context_length\n",
        "        self.head_size = embedding_dim // num_heads\n",
        "        self.num_heads = num_heads\n",
        "\n",
        "        self.multi_self_attention_heads_layer = MultiHeadAttention(num_heads=self.num_heads, head_size=self.head_size,\n",
        "                                                                   embedding_dim=embedding_dim, context_length=context_length)\n",
        "        self.feed_forward_network = FeedForwardNetwork(embedding_dim=self.embedding_dim)\n",
        "\n",
        "    def forward(self, x):\n",
        "        return self.feed_forward_network(self.multi_self_attention_heads_layer(x))\n"
      ],
      "id": "4008a385-bff3-476b-8b50-6512d2284860"
    },
    {
      "cell_type": "markdown",
      "metadata": {
        "id": "04d7cfe8-b966-4415-bea1-ce3e97eef36e"
      },
      "source": [
        "Now we can add our new Transformer Block to our model and start stacking it."
      ],
      "id": "04d7cfe8-b966-4415-bea1-ce3e97eef36e"
    },
    {
      "cell_type": "code",
      "execution_count": null,
      "metadata": {
        "colab": {
          "base_uri": "https://localhost:8080/"
        },
        "id": "8056b81e-c4b9-48c9-8955-70b1fc4d6e59",
        "outputId": "04fc808a-40e8-4e05-89ab-de82567338bf"
      },
      "outputs": [
        {
          "output_type": "stream",
          "name": "stdout",
          "text": [
            "Step: 0 Training Loss: tensor(4.2116) Validation Loss: tensor(4.2078)\n",
            "Step: 200 Training Loss: tensor(3.2643) Validation Loss: tensor(3.2907)\n",
            "Step: 400 Training Loss: tensor(3.1541) Validation Loss: tensor(3.1676)\n",
            "Step: 600 Training Loss: tensor(3.0373) Validation Loss: tensor(3.0268)\n",
            "Step: 800 Training Loss: tensor(2.8424) Validation Loss: tensor(2.8325)\n",
            "Step: 1000 Training Loss: tensor(2.7689) Validation Loss: tensor(2.7531)\n",
            "Step: 1200 Training Loss: tensor(2.6844) Validation Loss: tensor(2.7028)\n",
            "Step: 1400 Training Loss: tensor(2.6433) Validation Loss: tensor(2.6416)\n",
            "Step: 1600 Training Loss: tensor(2.6092) Validation Loss: tensor(2.6048)\n",
            "Step: 1800 Training Loss: tensor(2.5641) Validation Loss: tensor(2.5776)\n",
            "Step: 2000 Training Loss: tensor(2.5276) Validation Loss: tensor(2.5285)\n",
            "Step: 2200 Training Loss: tensor(2.5021) Validation Loss: tensor(2.5106)\n",
            "Step: 2400 Training Loss: tensor(2.4903) Validation Loss: tensor(2.4736)\n",
            "Step: 2600 Training Loss: tensor(2.4576) Validation Loss: tensor(2.4566)\n",
            "Step: 2800 Training Loss: tensor(2.4404) Validation Loss: tensor(2.4425)\n",
            "Step: 3000 Training Loss: tensor(2.4200) Validation Loss: tensor(2.4283)\n",
            "Step: 3200 Training Loss: tensor(2.3989) Validation Loss: tensor(2.4267)\n",
            "Step: 3400 Training Loss: tensor(2.3953) Validation Loss: tensor(2.4000)\n",
            "Step: 3600 Training Loss: tensor(2.3784) Validation Loss: tensor(2.3917)\n",
            "Step: 3800 Training Loss: tensor(2.3815) Validation Loss: tensor(2.3791)\n",
            "Step: 4000 Training Loss: tensor(2.3694) Validation Loss: tensor(2.3813)\n",
            "Step: 4200 Training Loss: tensor(2.3472) Validation Loss: tensor(2.3842)\n",
            "Step: 4400 Training Loss: tensor(2.3459) Validation Loss: tensor(2.3740)\n",
            "Step: 4600 Training Loss: tensor(2.3470) Validation Loss: tensor(2.3480)\n",
            "Step: 4800 Training Loss: tensor(2.3296) Validation Loss: tensor(2.3469)\n",
            "Step: 4999 Training Loss: tensor(2.3308) Validation Loss: tensor(2.3447)\n"
          ]
        },
        {
          "output_type": "display_data",
          "data": {
            "text/plain": [
              "<Figure size 640x480 with 1 Axes>"
            ],
            "image/png": "[encoded data removed]"
          },
          "metadata": {}
        },
        {
          "output_type": "stream",
          "name": "stdout",
          "text": [
            "\n",
            "\n",
            "\n",
            "CODARIRZ:\n",
            "Thowd, hy sou, be masiset bobe toe.\n",
            "Sagr-' my dalatanss:\n",
            "Wart he uwece, vet?\n",
            "Fedtlasoate aw crugy.\n",
            "\n",
            "Hasdacut onou,\n",
            "Yowts, tof is her! Alil;\n",
            "I lon,\n",
            "Whiiree sen cin latiset drov the and the nor on yracous lhin dite herens;\n",
            "Honcive sothpe arss hewty. Hintn.\n",
            "In Boopetelives\n",
            "Mom\n",
            "Il woul to ak\n",
            "ao Wind to doreiiby we at to srive wees ire stisot\n",
            "\n",
            "Arixorg\n",
            "Tep add thruptef sor; iris! mefve, ey ald ontatesf Prred my om.\n",
            "\n",
            "Heroure!\n",
            "Ko you a wardsal ar hared thidin cour ay andy Iry to I fo the!\n",
            "My\n",
            "CPU times: user 2min 3s, sys: 653 ms, total: 2min 4s\n",
            "Wall time: 2min 4s\n"
          ]
        }
      ],
      "source": [
        "%%time\n",
        "#| output: true\n",
        "torch.manual_seed(TORCH_SEED)\n",
        "class TransformerLanguageModel(nn.Module):\n",
        "    def __init__(self, vocab_size:int=vocab_size, embedding_dim:int=embedding_dim, context_length:int=context_length,\n",
        "                 head_size:int=head_size):\n",
        "        super().__init__()\n",
        "        self.vocab_size = vocab_size\n",
        "        self.embedding_dim = embedding_dim\n",
        "        self.context_length = context_length\n",
        "        self.head_size = head_size\n",
        "\n",
        "        #This will be our lookup table for embeddings. We'll have an entry for each token (aka vocab size) and each embedding will...\n",
        "        #...be a vector of dimension embedding_dim.\n",
        "        self.token_embedding_table = nn.Embedding(num_embeddings=self.vocab_size, embedding_dim=self.embedding_dim)\n",
        "        self.token_position_embedding_table = nn.Embedding(num_embeddings=self.context_length, embedding_dim=self.embedding_dim)\n",
        "\n",
        "        # self.multi_self_attention_heads_layer = MultiHeadAttention(num_heads=4, head_size=self.embedding_dim//4)\n",
        "        # self.feed_forward_network = FeedForwardNetwork(embedding_dim=self.embedding_dim)\n",
        "        self.transformer_blocks = nn.Sequential(\n",
        "            TransformerBlock(embedding_dim=embedding_dim, num_heads=4, context_length=context_length),\n",
        "            TransformerBlock(embedding_dim=embedding_dim, num_heads=4, context_length=context_length),\n",
        "            TransformerBlock(embedding_dim=embedding_dim, num_heads=4, context_length=context_length),\n",
        "        ) #NEW\n",
        "        self.language_model_head_linear_layer = nn.Linear(in_features=self.embedding_dim, out_features=self.vocab_size)\n",
        "\n",
        "    def forward(self, idx, targets=None):\n",
        "        #Both idx and targets are (B,T) Batch x Time array of integers\n",
        "        B,T = idx.shape\n",
        "        token_embeddings = self.token_embedding_table(idx) #(B,T,C) Batch, Time, Channel\n",
        "        token_position_embeddings = self.token_position_embedding_table(torch.arange(T, device=device)) #(T,C)\n",
        "        x = token_embeddings + token_position_embeddings\n",
        "        # x = self.multi_self_attention_heads_layer(x) # (B,T,C)\n",
        "        # x = self.feed_forward_network(x) # (B,T,C)\n",
        "        x = self.transformer_blocks(x) #NEW\n",
        "        logits = self.language_model_head_linear_layer(x) #(B,T,C) Where C is now token logits of size vocab_size\n",
        "\n",
        "        if targets is not None:\n",
        "            B,T,C = logits.shape\n",
        "            logits_reshaped = logits.view(B*T,C)\n",
        "            targets_reshaped = targets.view(B*T)\n",
        "            loss = F.cross_entropy(input=logits_reshaped, target=targets_reshaped)\n",
        "        else:\n",
        "            loss=None\n",
        "        return logits, loss\n",
        "\n",
        "    def generate(self, idx, max_new_tokens):\n",
        "        #idx is (B,T) array of indicies in the current context\n",
        "        for _ in range(max_new_tokens):\n",
        "            #Crop idx to the max size of our positional embeddings table\n",
        "            idx_crop = idx[:,-self.context_length:]\n",
        "            #Get predictions\n",
        "            logits, loss = self(idx_crop)\n",
        "            #Get the last time step from logits where the dimensions of the logits are (B,T,C)\n",
        "            logits_last_timestep = logits[:,-1,:] #Becomes (B,C)\n",
        "            # print('Shape of logits_last_timestep:',logits_last_timestep.shape) #confirming shape\n",
        "            #Apply softmax to get probabilities\n",
        "            probs = F.softmax(input=logits_last_timestep, dim=-1) #(B,C)\n",
        "            # print('Shape of probs:', probs.shape) #confirming shape\n",
        "            #Sample from the probs distribution.\n",
        "            idx_next = torch.multinomial(input=probs, num_samples=1) #(B,1) Returns (B,idxs) where idxs are random integer indicies.\n",
        "            # print('Shape of idx_next:',idx_next.shape,'and contents:',idx_next) #look at the shape and contents of idx_next\n",
        "            #Append the sampled indexes idx_next to idx\n",
        "            idx = torch.cat((idx, idx_next), dim=1) #(B, T+1)\n",
        "        return idx\n",
        "\n",
        "model = TransformerLanguageModel(vocab_size=vocab_size, embedding_dim=embedding_dim, context_length=context_length)\n",
        "model = model.to(device)\n",
        "optimizer = torch.optim.AdamW(params=model.parameters(), lr=learning_rate)\n",
        "tracked_losses = list()\n",
        "for step in range(max_iters):\n",
        "\n",
        "    if step % eval_iters == 0 or step == max_iters-1:\n",
        "        losses = estimate_loss()\n",
        "        tracked_losses.append(losses)\n",
        "        print('Step:',step,'Training Loss:',losses['train'],'Validation Loss:',losses['valid'])\n",
        "\n",
        "    xb,yb = get_batch('train')\n",
        "    logits, loss = model(xb,yb)\n",
        "    optimizer.zero_grad(set_to_none=True)\n",
        "    loss.backward()\n",
        "    optimizer.step()\n",
        "\n",
        "plot_losses(tracked_losses)\n",
        "context = torch.zeros((1,1), dtype=torch.long, device=device)\n",
        "print(decode(model.generate(context,max_new_tokens=500)[0].tolist()))"
      ],
      "id": "8056b81e-c4b9-48c9-8955-70b1fc4d6e59"
    },
    {
      "cell_type": "markdown",
      "metadata": {
        "id": "c64e49d7-4215-4494-8009-18f1c6b8c42a"
      },
      "source": [
        "As you can see the accuracy actually got worse. Given our new much more powerful model, this is not something that we want. As the depth of models increase they can become harder to train. Fortunately there are a few things that we can do about that. [link](https://youtu.be/kCc8FmEb1nY?t=5208)<br>\n",
        "\n",
        "First we can implement skip connections, also known as residual connections, which are depicted on the transformer architecture diagram as black lines that bypass the masked multi-head attention block and feed into the add and norm block. You can also see one bypassing the FFN. The idea for these originally came from deep residual networks paper. In this case we are going to add the input data back to the output of the blocks that are being skipped. When you use addition, the gradients are evenly distributed between both the skip branch and the block branch. An alternative that is sometimes used is a simple concatenation of the input and output of the skipped block. <br>\n",
        "\n",
        "When we initialize the network before training we typically want to start off with very low weights for the branches that go through the blocks so the blocks contribute very little to the overall loss. This way the gradient signal makes its way through the entire network. Then during training the network will slowly increase the weights and participation of the blocks.\n",
        "\n",
        "Now let's implement the skip connections in our TransfomerBlock module."
      ],
      "id": "c64e49d7-4215-4494-8009-18f1c6b8c42a"
    },
    {
      "cell_type": "code",
      "execution_count": null,
      "metadata": {
        "id": "b48cd6ed-a8b3-4c72-a9da-215310063399"
      },
      "outputs": [],
      "source": [
        "#| output: true\n",
        "class TransformerBlock(nn.Module):\n",
        "    \"\"\"Transformer Block: Communication folled by computation.\"\"\"\n",
        "    def __init__(self, embedding_dim:int=embedding_dim, context_length:int=context_length,\n",
        "                 num_heads:int=4):\n",
        "        #embedding_dim: embedding dimension, num_heads: the number of heads that we want\n",
        "        super().__init__()\n",
        "        self.embedding_dim = embedding_dim\n",
        "        self.context_length = context_length\n",
        "        self.head_size = embedding_dim // num_heads\n",
        "        self.num_heads = num_heads\n",
        "\n",
        "        self.multi_self_attention_heads_layer = MultiHeadAttention(num_heads=self.num_heads, head_size=self.head_size,\n",
        "                                                                   embedding_dim=embedding_dim, context_length=context_length)\n",
        "        self.feed_forward_network = FeedForwardNetwork(embedding_dim=self.embedding_dim)\n",
        "\n",
        "    def forward(self, x):\n",
        "        # return self.feed_forward_network(self.multi_self_attention_heads_layer(x))\n",
        "        x = x + self.multi_self_attention_heads_layer(x) # adding input back to the output of each block for skip connection. NEW\n",
        "        x = x + self.feed_forward_network(x) # adding input back to the output of each block for skip connection. NEW\n",
        "        return x\n"
      ],
      "id": "b48cd6ed-a8b3-4c72-a9da-215310063399"
    },
    {
      "cell_type": "markdown",
      "metadata": {
        "id": "f9c85468-f605-4dbc-b9eb-e5308f056ce3"
      },
      "source": [
        "We also need to add a projection layer to our MultiHeadAttention module as well as the feed forward network. This is a simple linear layer."
      ],
      "id": "f9c85468-f605-4dbc-b9eb-e5308f056ce3"
    },
    {
      "cell_type": "code",
      "execution_count": null,
      "metadata": {
        "id": "1279c00e-1699-4149-a52d-0f086183409b"
      },
      "outputs": [],
      "source": [
        "#| output: true\n",
        "class MultiHeadAttention(nn.Module):\n",
        "    def __init__(self, num_heads:int, head_size:int=head_size, embedding_dim:int=embedding_dim, context_length:int=context_length):\n",
        "        super().__init__()\n",
        "        self.num_heads = num_heads\n",
        "        self.head_size = head_size\n",
        "        self.embedding_dim = embedding_dim\n",
        "        self.context_length = context_length\n",
        "\n",
        "        self.heads = nn.ModuleList([\n",
        "            Head(head_size=self.head_size, embedding_dim=self.embedding_dim,\n",
        "                 context_length=self.context_length)\n",
        "            for _ in range(self.num_heads)])\n",
        "\n",
        "        self.projection_layer = nn.Linear(in_features=self.embedding_dim, out_features=self.embedding_dim, bias=True) #NEW\n",
        "\n",
        "    def forward(self, x):\n",
        "        out = torch.cat([h(x) for h in self.heads], dim=-1)\n",
        "        out = self.projection_layer(out) #NEW\n",
        "        return out\n"
      ],
      "id": "1279c00e-1699-4149-a52d-0f086183409b"
    },
    {
      "cell_type": "markdown",
      "metadata": {
        "id": "c76785a9-a6f8-4a57-a357-d7b8add0244f"
      },
      "source": [
        "In the FFN rather than adding the same projection layer parameter we'll simply just add an additional linear layer to the existing sequential module. Also we are going to fan out and then back in by a factor of 4 between the linear layers in the FFN to add additional computation."
      ],
      "id": "c76785a9-a6f8-4a57-a357-d7b8add0244f"
    },
    {
      "cell_type": "code",
      "execution_count": null,
      "metadata": {
        "id": "802eff3a-a4d0-41be-a8a7-aa55dc0f20ce"
      },
      "outputs": [],
      "source": [
        "#| output: true\n",
        "class FeedForwardNetwork(nn.Module):\n",
        "    \"\"\"A simple linear network followed by a non-linearity\"\"\"\n",
        "    def __init__(self, embedding_dim:int=embedding_dim):\n",
        "        super().__init__()\n",
        "        self.embedding_dim = embedding_dim\n",
        "        self.ffn = nn.Sequential(\n",
        "            nn.Linear(in_features=self.embedding_dim, out_features=self.embedding_dim*4),#Updated\n",
        "            nn.ReLU(),\n",
        "            nn.Linear(in_features=self.embedding_dim*4, out_features=self.embedding_dim) #NEW\n",
        "        )\n",
        "    def forward(self, x):\n",
        "        return self.ffn(x)"
      ],
      "id": "802eff3a-a4d0-41be-a8a7-aa55dc0f20ce"
    },
    {
      "cell_type": "markdown",
      "metadata": {
        "id": "2a235bc5-ec2e-4965-8212-291a81659b7f"
      },
      "source": [
        "Now let's train the network again to see how we end up."
      ],
      "id": "2a235bc5-ec2e-4965-8212-291a81659b7f"
    },
    {
      "cell_type": "code",
      "execution_count": null,
      "metadata": {
        "colab": {
          "base_uri": "https://localhost:8080/"
        },
        "id": "a9a538b0-c165-4864-8b13-9a1c41243feb",
        "outputId": "3e9db1a2-6549-41aa-d94c-7af2db698fa0"
      },
      "outputs": [
        {
          "output_type": "stream",
          "name": "stdout",
          "text": [
            "Step: 0 Training Loss: tensor(4.6328) Validation Loss: tensor(4.6313)\n",
            "Step: 200 Training Loss: tensor(2.5777) Validation Loss: tensor(2.5964)\n",
            "Step: 400 Training Loss: tensor(2.4484) Validation Loss: tensor(2.4357)\n",
            "Step: 600 Training Loss: tensor(2.3560) Validation Loss: tensor(2.3456)\n",
            "Step: 800 Training Loss: tensor(2.2822) Validation Loss: tensor(2.2928)\n",
            "Step: 1000 Training Loss: tensor(2.2413) Validation Loss: tensor(2.2606)\n",
            "Step: 1200 Training Loss: tensor(2.2254) Validation Loss: tensor(2.2469)\n",
            "Step: 1400 Training Loss: tensor(2.1889) Validation Loss: tensor(2.2146)\n",
            "Step: 1600 Training Loss: tensor(2.1566) Validation Loss: tensor(2.1969)\n",
            "Step: 1800 Training Loss: tensor(2.1442) Validation Loss: tensor(2.1958)\n",
            "Step: 2000 Training Loss: tensor(2.1438) Validation Loss: tensor(2.1545)\n",
            "Step: 2200 Training Loss: tensor(2.1293) Validation Loss: tensor(2.1731)\n",
            "Step: 2400 Training Loss: tensor(2.0948) Validation Loss: tensor(2.1550)\n",
            "Step: 2600 Training Loss: tensor(2.0839) Validation Loss: tensor(2.1391)\n",
            "Step: 2800 Training Loss: tensor(2.0734) Validation Loss: tensor(2.1230)\n",
            "Step: 3000 Training Loss: tensor(2.0601) Validation Loss: tensor(2.1154)\n",
            "Step: 3200 Training Loss: tensor(2.0676) Validation Loss: tensor(2.1435)\n",
            "Step: 3400 Training Loss: tensor(2.0437) Validation Loss: tensor(2.0891)\n",
            "Step: 3600 Training Loss: tensor(2.0363) Validation Loss: tensor(2.1079)\n",
            "Step: 3800 Training Loss: tensor(2.0266) Validation Loss: tensor(2.1113)\n",
            "Step: 4000 Training Loss: tensor(2.0301) Validation Loss: tensor(2.1061)\n",
            "Step: 4200 Training Loss: tensor(2.0202) Validation Loss: tensor(2.0983)\n",
            "Step: 4400 Training Loss: tensor(2.0211) Validation Loss: tensor(2.0932)\n",
            "Step: 4600 Training Loss: tensor(1.9962) Validation Loss: tensor(2.0897)\n",
            "Step: 4800 Training Loss: tensor(2.0012) Validation Loss: tensor(2.0855)\n",
            "Step: 4999 Training Loss: tensor(1.9832) Validation Loss: tensor(2.0690)\n"
          ]
        },
        {
          "output_type": "display_data",
          "data": {
            "text/plain": [
              "<Figure size 640x480 with 1 Axes>"
            ],
            "image/png": "[encoded data removed]"
          },
          "metadata": {}
        },
        {
          "output_type": "stream",
          "name": "stdout",
          "text": [
            "\n",
            "And they bridcerf,\n",
            "The lay ble\n",
            "\n",
            "HAPOMEMBELA:\n",
            "And thruans that hand bartht he us his vet?\n",
            "\n",
            "MEXENDorten with my feans,\n",
            "You or me\n",
            "Yoursertef it her that welill, at mire,\n",
            "Ever, will is tiliove thee.\n",
            "\n",
            "WARGEE:\n",
            "We you me, lilind tear.\n",
            "-huch cochink: the baiss hit ye will,\n",
            "Hen Band this dest my liked mothake of in on her evings to thed suil Then hime stisor of he trued known,\n",
            "Turt fir are;\n",
            "I to lave,\n",
            "I male of whise Pried my of.\n",
            "\n",
            "HENNIUS:\n",
            "Kereby a wards.\n",
            "Wice Elet thinin cour ay andy Rell sichan the!\n",
            "\n",
            "J\n",
            "CPU times: user 2min 13s, sys: 636 ms, total: 2min 13s\n",
            "Wall time: 2min 14s\n"
          ]
        }
      ],
      "source": [
        "%%time\n",
        "#| output: true\n",
        "torch.manual_seed(TORCH_SEED)\n",
        "class TransformerLanguageModel(nn.Module):\n",
        "    def __init__(self, vocab_size:int=vocab_size, embedding_dim:int=embedding_dim, context_length:int=context_length,\n",
        "                 head_size:int=head_size):\n",
        "        super().__init__()\n",
        "        self.vocab_size = vocab_size\n",
        "        self.embedding_dim = embedding_dim\n",
        "        self.context_length = context_length\n",
        "        self.head_size = head_size\n",
        "\n",
        "        #This will be our lookup table for embeddings. We'll have an entry for each token (aka vocab size) and each embedding will...\n",
        "        #...be a vector of dimension embedding_dim.\n",
        "        self.token_embedding_table = nn.Embedding(num_embeddings=self.vocab_size, embedding_dim=self.embedding_dim)\n",
        "        self.token_position_embedding_table = nn.Embedding(num_embeddings=self.context_length, embedding_dim=self.embedding_dim)\n",
        "\n",
        "        self.transformer_blocks = nn.Sequential(\n",
        "            TransformerBlock(embedding_dim=embedding_dim, num_heads=4, context_length=context_length),\n",
        "            TransformerBlock(embedding_dim=embedding_dim, num_heads=4, context_length=context_length),\n",
        "            TransformerBlock(embedding_dim=embedding_dim, num_heads=4, context_length=context_length),\n",
        "        )\n",
        "        self.language_model_head_linear_layer = nn.Linear(in_features=self.embedding_dim, out_features=self.vocab_size)\n",
        "\n",
        "    def forward(self, idx, targets=None):\n",
        "        #Both idx and targets are (B,T) Batch x Time array of integers\n",
        "        B,T = idx.shape\n",
        "        token_embeddings = self.token_embedding_table(idx) #(B,T,C) Batch, Time, Channel\n",
        "        token_position_embeddings = self.token_position_embedding_table(torch.arange(T, device=device)) #(T,C)\n",
        "        x = token_embeddings + token_position_embeddings\n",
        "        x = self.transformer_blocks(x)\n",
        "        logits = self.language_model_head_linear_layer(x) #(B,T,C) Where C is now token logits of size vocab_size\n",
        "\n",
        "        if targets is not None:\n",
        "            B,T,C = logits.shape\n",
        "            logits_reshaped = logits.view(B*T,C)\n",
        "            targets_reshaped = targets.view(B*T)\n",
        "            loss = F.cross_entropy(input=logits_reshaped, target=targets_reshaped)\n",
        "        else:\n",
        "            loss=None\n",
        "        return logits, loss\n",
        "\n",
        "    def generate(self, idx, max_new_tokens):\n",
        "        #idx is (B,T) array of indicies in the current context\n",
        "        for _ in range(max_new_tokens):\n",
        "            #Crop idx to the max size of our positional embeddings table\n",
        "            idx_crop = idx[:,-self.context_length:]\n",
        "            #Get predictions\n",
        "            logits, loss = self(idx_crop)\n",
        "            #Get the last time step from logits where the dimensions of the logits are (B,T,C)\n",
        "            logits_last_timestep = logits[:,-1,:] #Becomes (B,C)\n",
        "            # print('Shape of logits_last_timestep:',logits_last_timestep.shape) #confirming shape\n",
        "            #Apply softmax to get probabilities\n",
        "            probs = F.softmax(input=logits_last_timestep, dim=-1) #(B,C)\n",
        "            # print('Shape of probs:', probs.shape) #confirming shape\n",
        "            #Sample from the probs distribution.\n",
        "            idx_next = torch.multinomial(input=probs, num_samples=1) #(B,1) Returns (B,idxs) where idxs are random integer indicies.\n",
        "            # print('Shape of idx_next:',idx_next.shape,'and contents:',idx_next) #look at the shape and contents of idx_next\n",
        "            #Append the sampled indexes idx_next to idx\n",
        "            idx = torch.cat((idx, idx_next), dim=1) #(B, T+1)\n",
        "        return idx\n",
        "\n",
        "model = TransformerLanguageModel(vocab_size=vocab_size, embedding_dim=embedding_dim, context_length=context_length)\n",
        "model = model.to(device)\n",
        "optimizer = torch.optim.AdamW(params=model.parameters(), lr=learning_rate)\n",
        "tracked_losses = list()\n",
        "for step in range(max_iters):\n",
        "\n",
        "    if step % eval_iters == 0 or step == max_iters-1:\n",
        "        losses = estimate_loss()\n",
        "        tracked_losses.append(losses)\n",
        "        print('Step:',step,'Training Loss:',losses['train'],'Validation Loss:',losses['valid'])\n",
        "\n",
        "    xb,yb = get_batch('train')\n",
        "    logits, loss = model(xb,yb)\n",
        "    optimizer.zero_grad(set_to_none=True)\n",
        "    loss.backward()\n",
        "    optimizer.step()\n",
        "\n",
        "plot_losses(tracked_losses)\n",
        "context = torch.zeros((1,1), dtype=torch.long, device=device)\n",
        "print(decode(model.generate(context,max_new_tokens=500)[0].tolist()))"
      ],
      "id": "a9a538b0-c165-4864-8b13-9a1c41243feb"
    },
    {
      "cell_type": "markdown",
      "metadata": {
        "id": "bf765ced-8e45-48b4-81b0-a7741b4ff941"
      },
      "source": [
        "This looks much better than our last run without the residual layers which had a loss of `Validation Loss: tensor(2.4430)` and it also beats the previous run before that had a los of `Validation Loss: tensor(2.2720)` with a final loss of `Validation Loss: tensor(2.0940)`. Also, as you can see the text output, while still gibberish, is much better than in all previous runs.<br>\n",
        "\n",
        "The second trick that helps with training deep neural nets, in addition to residual blocks, is the Norm as depicted on the block which in our case is layer norm. Let's implement and add that. [link](https://youtu.be/kCc8FmEb1nY?t=5709)"
      ],
      "id": "bf765ced-8e45-48b4-81b0-a7741b4ff941"
    },
    {
      "cell_type": "code",
      "execution_count": null,
      "metadata": {
        "id": "4d94cdf4-f4ee-4ad3-8403-ab3420cbac3e"
      },
      "outputs": [],
      "source": [
        "#| output: true\n",
        "class LayerNorm:\n",
        "    def __init__(self, dim:int, eps:float=1e-5):\n",
        "        self.dim = dim\n",
        "        self.eps = eps\n",
        "        self.gamma = torch.ones(dim)\n",
        "        self.beta = torch.zeros(dim)\n",
        "\n",
        "    def __call__(self, x):\n",
        "        x_mean = x.mean(dim=1, keepdim=True) # layer mean\n",
        "        x_variance = x.var(dim=1, keepdim=True) # layer variance\n",
        "        x_hat = (x - x_mean) / torch.sqrt(x_variance + self.eps) # normalize to the unit variance\n",
        "        self.out = self.gamma * x_hat + self.beta\n",
        "        return self.out\n",
        "\n",
        "    def parameters(self):\n",
        "        return [self.gamma, self.beta]"
      ],
      "id": "4d94cdf4-f4ee-4ad3-8403-ab3420cbac3e"
    },
    {
      "cell_type": "markdown",
      "metadata": {
        "id": "0a43f3a7-c591-4011-8c70-540f347a5e88"
      },
      "source": [
        "Since the original attention is all you need paper came out, it has become more common to apply the norm prior to the blocks instead of after them with the add as is depicted on the transformer architecture diagram. We will follow what common practice is today. Also instead of using the layer norm we developed, we will use the Pytorch version instead."
      ],
      "id": "0a43f3a7-c591-4011-8c70-540f347a5e88"
    },
    {
      "cell_type": "code",
      "execution_count": null,
      "metadata": {
        "id": "c2f526ce-643b-4ae6-8c16-506792dc4213"
      },
      "outputs": [],
      "source": [
        "#| output: true\n",
        "class TransformerBlock(nn.Module):\n",
        "    \"\"\"Transformer Block: Communication folled by computation.\"\"\"\n",
        "    def __init__(self, embedding_dim:int=embedding_dim, context_length:int=context_length,\n",
        "                 num_heads:int=4):\n",
        "        #embedding_dim: embedding dimension, num_heads: the number of heads that we want\n",
        "        super().__init__()\n",
        "        self.embedding_dim = embedding_dim\n",
        "        self.context_length = context_length\n",
        "        self.head_size = embedding_dim // num_heads\n",
        "        self.num_heads = num_heads\n",
        "\n",
        "        self.multi_self_attention_heads_layer = MultiHeadAttention(num_heads=self.num_heads, head_size=self.head_size,\n",
        "                                                                   embedding_dim=embedding_dim, context_length=context_length)\n",
        "        self.feed_forward_network = FeedForwardNetwork(embedding_dim=self.embedding_dim)\n",
        "        self.layer_norm_1 = nn.LayerNorm(normalized_shape=self.embedding_dim) #NEW\n",
        "        self.layer_norm_2 = nn.LayerNorm(normalized_shape=self.embedding_dim) #NEW\n",
        "\n",
        "    def forward(self, x):\n",
        "        # return self.feed_forward_network(self.multi_self_attention_heads_layer(x))\n",
        "        x = x + self.multi_self_attention_heads_layer(self.layer_norm_1(x)) # added layer norm. UPDATED\n",
        "        x = x + self.feed_forward_network(self.layer_norm_2(x)) # added layer norm. UPDATED\n",
        "        return x\n"
      ],
      "id": "c2f526ce-643b-4ae6-8c16-506792dc4213"
    },
    {
      "cell_type": "markdown",
      "metadata": {
        "id": "a91dc3fd-9e55-4c2f-ba2f-3614a431c2a7"
      },
      "source": [
        "These layer norms are applied to each token embedding to ensure they start off having a unit gausian at initialization, but because of the trainable parameters, this may change during training. <br>\n",
        "\n",
        "We also need to add a layer norm after the last transformer block and before the last linear layer. Now let's train the model again and see how it does."
      ],
      "id": "a91dc3fd-9e55-4c2f-ba2f-3614a431c2a7"
    },
    {
      "cell_type": "code",
      "execution_count": null,
      "metadata": {
        "colab": {
          "base_uri": "https://localhost:8080/"
        },
        "id": "f4175214-a991-421c-8599-f949afa77fc3",
        "outputId": "9311e7ed-aef1-4802-f32b-1dd5be0f4d21"
      },
      "outputs": [
        {
          "output_type": "stream",
          "name": "stdout",
          "text": [
            "Step: 0 Training Loss: tensor(4.3103) Validation Loss: tensor(4.3100)\n",
            "Step: 200 Training Loss: tensor(2.6644) Validation Loss: tensor(2.6888)\n",
            "Step: 400 Training Loss: tensor(2.4590) Validation Loss: tensor(2.4469)\n",
            "Step: 600 Training Loss: tensor(2.3606) Validation Loss: tensor(2.3482)\n",
            "Step: 800 Training Loss: tensor(2.2807) Validation Loss: tensor(2.2859)\n",
            "Step: 1000 Training Loss: tensor(2.2328) Validation Loss: tensor(2.2572)\n",
            "Step: 1200 Training Loss: tensor(2.2185) Validation Loss: tensor(2.2373)\n",
            "Step: 1400 Training Loss: tensor(2.1743) Validation Loss: tensor(2.2099)\n",
            "Step: 1600 Training Loss: tensor(2.1415) Validation Loss: tensor(2.1840)\n",
            "Step: 1800 Training Loss: tensor(2.1290) Validation Loss: tensor(2.1790)\n",
            "Step: 2000 Training Loss: tensor(2.1290) Validation Loss: tensor(2.1376)\n",
            "Step: 2200 Training Loss: tensor(2.1120) Validation Loss: tensor(2.1576)\n",
            "Step: 2400 Training Loss: tensor(2.0815) Validation Loss: tensor(2.1385)\n",
            "Step: 2600 Training Loss: tensor(2.0747) Validation Loss: tensor(2.1336)\n",
            "Step: 2800 Training Loss: tensor(2.0642) Validation Loss: tensor(2.1164)\n",
            "Step: 3000 Training Loss: tensor(2.0449) Validation Loss: tensor(2.1020)\n",
            "Step: 3200 Training Loss: tensor(2.0500) Validation Loss: tensor(2.1185)\n",
            "Step: 3400 Training Loss: tensor(2.0292) Validation Loss: tensor(2.0698)\n",
            "Step: 3600 Training Loss: tensor(2.0160) Validation Loss: tensor(2.0887)\n",
            "Step: 3800 Training Loss: tensor(2.0157) Validation Loss: tensor(2.0927)\n",
            "Step: 4000 Training Loss: tensor(2.0135) Validation Loss: tensor(2.0836)\n",
            "Step: 4200 Training Loss: tensor(1.9972) Validation Loss: tensor(2.0776)\n",
            "Step: 4400 Training Loss: tensor(2.0101) Validation Loss: tensor(2.0833)\n",
            "Step: 4600 Training Loss: tensor(1.9845) Validation Loss: tensor(2.0753)\n",
            "Step: 4800 Training Loss: tensor(1.9896) Validation Loss: tensor(2.0708)\n",
            "Step: 4999 Training Loss: tensor(1.9625) Validation Loss: tensor(2.0558)\n"
          ]
        },
        {
          "output_type": "display_data",
          "data": {
            "text/plain": [
              "<Figure size 640x480 with 1 Axes>"
            ],
            "image/png": "[encoded data removed]"
          },
          "metadata": {}
        },
        {
          "output_type": "stream",
          "name": "stdout",
          "text": [
            "\n",
            "And the Roridce.\n",
            "\n",
            "STAOLOLETHAR\n",
            "\n",
            "HAPOKE BFe have Sagrians that hands:\n",
            "Wacth full him vetbard that a endway, my feans' to zorn he owns, to fitie be trit nowle, at miree,\n",
            "In cintlatise, drove the the know and.\n",
            "\n",
            "Wablesel lind teal.\n",
            "-huch cour by prupt airse, why helven's norfore elguls;\n",
            "Protle, demees?\n",
            "\n",
            "KINWICI: what eiich o' mai dourn, The high he poor of his but thand thrupt fir treagis! my my fep ale of whith Pried by of.\n",
            "\n",
            "HKING ELIZANIUS:\n",
            "I\n",
            "Sadaal the Edwast hiin courchard ny ity to chan the whi\n",
            "CPU times: user 2min 22s, sys: 686 ms, total: 2min 22s\n",
            "Wall time: 2min 23s\n"
          ]
        }
      ],
      "source": [
        "%%time\n",
        "#| output: true\n",
        "torch.manual_seed(TORCH_SEED)\n",
        "class TransformerLanguageModel(nn.Module):\n",
        "    def __init__(self, vocab_size:int=vocab_size, embedding_dim:int=embedding_dim, context_length:int=context_length,\n",
        "                 head_size:int=head_size):\n",
        "        super().__init__()\n",
        "        self.vocab_size = vocab_size\n",
        "        self.embedding_dim = embedding_dim\n",
        "        self.context_length = context_length\n",
        "        self.head_size = head_size\n",
        "\n",
        "        #This will be our lookup table for embeddings. We'll have an entry for each token (aka vocab size) and each embedding will...\n",
        "        #...be a vector of dimension embedding_dim.\n",
        "        self.token_embedding_table = nn.Embedding(num_embeddings=self.vocab_size, embedding_dim=self.embedding_dim)\n",
        "        self.token_position_embedding_table = nn.Embedding(num_embeddings=self.context_length, embedding_dim=self.embedding_dim)\n",
        "\n",
        "        self.transformer_blocks = nn.Sequential(\n",
        "            TransformerBlock(embedding_dim=embedding_dim, num_heads=4, context_length=context_length),\n",
        "            TransformerBlock(embedding_dim=embedding_dim, num_heads=4, context_length=context_length),\n",
        "            TransformerBlock(embedding_dim=embedding_dim, num_heads=4, context_length=context_length),\n",
        "            nn.LayerNorm(embedding_dim), #NEW\n",
        "        )\n",
        "        self.language_model_head_linear_layer = nn.Linear(in_features=self.embedding_dim, out_features=self.vocab_size)\n",
        "\n",
        "    def forward(self, idx, targets=None):\n",
        "        #Both idx and targets are (B,T) Batch x Time array of integers\n",
        "        B,T = idx.shape\n",
        "        token_embeddings = self.token_embedding_table(idx) #(B,T,C) Batch, Time, Channel\n",
        "        token_position_embeddings = self.token_position_embedding_table(torch.arange(T, device=device)) #(T,C)\n",
        "        x = token_embeddings + token_position_embeddings\n",
        "        x = self.transformer_blocks(x)\n",
        "        logits = self.language_model_head_linear_layer(x) #(B,T,C) Where C is now token logits of size vocab_size\n",
        "\n",
        "        if targets is not None:\n",
        "            B,T,C = logits.shape\n",
        "            logits_reshaped = logits.view(B*T,C)\n",
        "            targets_reshaped = targets.view(B*T)\n",
        "            loss = F.cross_entropy(input=logits_reshaped, target=targets_reshaped)\n",
        "        else:\n",
        "            loss=None\n",
        "        return logits, loss\n",
        "\n",
        "    def generate(self, idx, max_new_tokens):\n",
        "        #idx is (B,T) array of indicies in the current context\n",
        "        for _ in range(max_new_tokens):\n",
        "            #Crop idx to the max size of our positional embeddings table\n",
        "            idx_crop = idx[:,-self.context_length:]\n",
        "            #Get predictions\n",
        "            logits, loss = self(idx_crop)\n",
        "            #Get the last time step from logits where the dimensions of the logits are (B,T,C)\n",
        "            logits_last_timestep = logits[:,-1,:] #Becomes (B,C)\n",
        "            # print('Shape of logits_last_timestep:',logits_last_timestep.shape) #confirming shape\n",
        "            #Apply softmax to get probabilities\n",
        "            probs = F.softmax(input=logits_last_timestep, dim=-1) #(B,C)\n",
        "            # print('Shape of probs:', probs.shape) #confirming shape\n",
        "            #Sample from the probs distribution.\n",
        "            idx_next = torch.multinomial(input=probs, num_samples=1) #(B,1) Returns (B,idxs) where idxs are random integer indicies.\n",
        "            # print('Shape of idx_next:',idx_next.shape,'and contents:',idx_next) #look at the shape and contents of idx_next\n",
        "            #Append the sampled indexes idx_next to idx\n",
        "            idx = torch.cat((idx, idx_next), dim=1) #(B, T+1)\n",
        "        return idx\n",
        "\n",
        "model = TransformerLanguageModel(vocab_size=vocab_size, embedding_dim=embedding_dim, context_length=context_length)\n",
        "model = model.to(device)\n",
        "optimizer = torch.optim.AdamW(params=model.parameters(), lr=learning_rate)\n",
        "tracked_losses = list()\n",
        "for step in range(max_iters):\n",
        "\n",
        "    if step % eval_iters == 0 or step == max_iters-1:\n",
        "        losses = estimate_loss()\n",
        "        tracked_losses.append(losses)\n",
        "        print('Step:',step,'Training Loss:',losses['train'],'Validation Loss:',losses['valid'])\n",
        "\n",
        "    xb,yb = get_batch('train')\n",
        "    logits, loss = model(xb,yb)\n",
        "    optimizer.zero_grad(set_to_none=True)\n",
        "    loss.backward()\n",
        "    optimizer.step()\n",
        "\n",
        "plot_losses(tracked_losses)\n",
        "context = torch.zeros((1,1), dtype=torch.long, device=device)\n",
        "print(decode(model.generate(context,max_new_tokens=500)[0].tolist()))"
      ],
      "id": "f4175214-a991-421c-8599-f949afa77fc3"
    },
    {
      "cell_type": "markdown",
      "metadata": {
        "id": "81231411-944b-4b2c-a27d-f806f6d5e492"
      },
      "source": [
        "The loss is now down to `Validation Loss: tensor(2.0630)` from `Validation Loss: tensor(2.0940)` during the last run."
      ],
      "id": "81231411-944b-4b2c-a27d-f806f6d5e492"
    },
    {
      "cell_type": "code",
      "execution_count": null,
      "metadata": {
        "id": "599d910a-e582-4447-830e-81320b3ddfa0"
      },
      "outputs": [],
      "source": [
        "%reset -f\n",
        "#| output: true"
      ],
      "id": "599d910a-e582-4447-830e-81320b3ddfa0"
    },
    {
      "cell_type": "markdown",
      "metadata": {
        "id": "d4511334-669e-4da0-8b35-9939a81cb29c"
      },
      "source": [
        "# Scaling Up"
      ],
      "id": "d4511334-669e-4da0-8b35-9939a81cb29c"
    },
    {
      "cell_type": "markdown",
      "metadata": {
        "id": "8cf82e3f-1c99-420e-91fa-1ee56baa8b0f"
      },
      "source": [
        "Now that we have a fully functioning transformer network, to achieve better performance, we need to scale up. We'll be doing a bit of code cleanup and refactoring as we scale up the architecture. To make things easier to follow, I've reset the kernel so we'll be re-declaring everything again from scratch."
      ],
      "id": "8cf82e3f-1c99-420e-91fa-1ee56baa8b0f"
    },
    {
      "cell_type": "code",
      "execution_count": null,
      "metadata": {
        "id": "a1598a75-67f9-4ec1-a826-98f0a8e2acac"
      },
      "outputs": [],
      "source": [
        "#| output: true\n",
        "import torch\n",
        "import torch.nn as nn\n",
        "from torch.nn import functional as F\n",
        "import matplotlib.pyplot as plt\n",
        "\n",
        "#Hyperparameters\n",
        "batch_size = 64 #Number of token chunks per batch #UPDATED\n",
        "context_length = 256 #Length of the token chunks. Andrej called this block size #UPDATED\n",
        "embedding_dim = 384 #The vector size of the token embeddings. Andrej used n_embed as the variable name. #UPDATED\n",
        "head_size1 = 16 #Self attention head size\n",
        "num_layers = 6 #Number of transformer block layers # NEW\n",
        "num_heads = 6  # NEW\n",
        "learning_rate = 3e-4 #UPDATED\n",
        "dropout = 0.2 #NEW\n",
        "max_iters = 5000 #Number of training iterations or steps.\n",
        "eval_interval = 500 #Number of steps between evaluating the validation set to see how our validation loss is doing. #UPDATED\n",
        "eval_iters = 200 #Number of steps to do on the validation set per each interval. We do more than 1 to get a more accurate overall valid loss\n",
        "device = 'cuda' if torch.cuda.is_available() else 'cpu' #Instead of using the cpu, we'll use the GPU if it's availble.\n",
        "\n",
        "TORCH_SEED = 1337\n",
        "torch.manual_seed(TORCH_SEED)\n",
        "\n",
        "#Dataset\n",
        "with open('input.txt','r',encoding='utf-8') as f:\n",
        "    text = f.read()\n",
        "vocab = sorted(list(set(text))) #Called chars in the video, but vocab is a more generic term. Both are correct.\n",
        "vocab_size = len(vocab)\n",
        "\n",
        "char2idx = {char:idx for idx,char in enumerate(vocab)}\n",
        "idx2char = {idx:char for char,idx in char2idx.items()}\n",
        "encode = lambda x: [char2idx[char] for char in x]\n",
        "decode = lambda idxs: ''.join([idx2char[idx] for idx in idxs])\n",
        "\n",
        "tokenized_text = torch.tensor(encode(text),dtype=torch.long)\n",
        "\n",
        "#Train / Valid split.\n",
        "train_test_split_idx = int(len(tokenized_text) * 0.9)\n",
        "train_data = tokenized_text[:train_test_split_idx]\n",
        "valid_data = tokenized_text[train_test_split_idx:]"
      ],
      "id": "a1598a75-67f9-4ec1-a826-98f0a8e2acac"
    },
    {
      "cell_type": "code",
      "execution_count": null,
      "metadata": {
        "id": "84bd3989-5fa8-4bb1-83e5-d03afbea1194"
      },
      "outputs": [],
      "source": [
        "#| output: true\n",
        "def plot_losses(losses):\n",
        "    train_losses = [o['train'] for o in losses if o.get('train') is not None]\n",
        "    valid_losses = [o['valid'] for o in losses if o.get('valid') is not None]\n",
        "    plt.plot(train_losses, label='Training Loss')\n",
        "    plt.plot(valid_losses, label='Validation Loss')\n",
        "    plt.ylabel('Loss')\n",
        "    plt.title('Losses')\n",
        "    plt.legend()\n",
        "    plt.show()"
      ],
      "id": "84bd3989-5fa8-4bb1-83e5-d03afbea1194"
    },
    {
      "cell_type": "code",
      "execution_count": null,
      "metadata": {
        "id": "aff7d057-78ff-42f1-ae34-9b3d15d67ad8"
      },
      "outputs": [],
      "source": [
        "#| output: true\n",
        "def get_batch(split:str, batch_size:int=batch_size, context_length:int=context_length):\n",
        "    #Function to get a batch of data from the train or valid dataset\n",
        "    data = train_data if split == 'train' else valid_data\n",
        "    idxs = torch.randint(low=0, high=len(data)-context_length, size=(batch_size,))\n",
        "    x = torch.stack([data[idx:idx+context_length] for idx in idxs])\n",
        "    y = torch.stack([data[idx+1:idx+context_length+1] for idx in idxs])\n",
        "    x,y = x.to(device), y.to(device) #Send data to the GPU if available\n",
        "    return x,y\n",
        "\n",
        "@torch.no_grad()\n",
        "def estimate_loss():\n",
        "    out = {}\n",
        "    model.eval()\n",
        "    for split in ['train','valid']:\n",
        "        losses = torch.zeros(eval_iters)\n",
        "        for k in range(eval_iters):\n",
        "            x_batch, y_batch = get_batch(split)\n",
        "            logits, loss = model(x_batch, y_batch)\n",
        "            losses[k] = loss.item()\n",
        "        out[split] = losses.mean()\n",
        "    model.train()\n",
        "    return out"
      ],
      "id": "aff7d057-78ff-42f1-ae34-9b3d15d67ad8"
    },
    {
      "cell_type": "markdown",
      "metadata": {
        "id": "1faf65c2-9646-4ef8-8db0-d5a29caa496b"
      },
      "source": [
        "Adding dropout"
      ],
      "id": "1faf65c2-9646-4ef8-8db0-d5a29caa496b"
    },
    {
      "cell_type": "code",
      "execution_count": null,
      "metadata": {
        "id": "5d3d8a56-8f8e-4ec2-9d50-21cf3d3434ae"
      },
      "outputs": [],
      "source": [
        "#| output: true\n",
        "class FeedForwardNetwork(nn.Module):\n",
        "    \"\"\"A simple linear network followed by a non-linearity\"\"\"\n",
        "    def __init__(self, embedding_dim:int=embedding_dim, dropout:float=dropout):\n",
        "        super().__init__()\n",
        "        self.embedding_dim = embedding_dim\n",
        "        self.dropout = dropout\n",
        "        self.ffn = nn.Sequential(\n",
        "            nn.Linear(in_features=self.embedding_dim, out_features=self.embedding_dim*4),\n",
        "            nn.ReLU(),\n",
        "            nn.Linear(in_features=self.embedding_dim*4, out_features=self.embedding_dim),\n",
        "            nn.Dropout(dropout), #NEW\n",
        "        )\n",
        "    def forward(self, x):\n",
        "        return self.ffn(x)"
      ],
      "id": "5d3d8a56-8f8e-4ec2-9d50-21cf3d3434ae"
    },
    {
      "cell_type": "markdown",
      "metadata": {
        "id": "e2ca6a8f-61a2-458a-8bd8-0139b8295bdf"
      },
      "source": [
        "Adding dropout"
      ],
      "id": "e2ca6a8f-61a2-458a-8bd8-0139b8295bdf"
    },
    {
      "cell_type": "code",
      "execution_count": null,
      "metadata": {
        "id": "4dc1c95a-3ad8-4601-bc06-ac0e45c20ec3"
      },
      "outputs": [],
      "source": [
        "#| output: true\n",
        "class Head(nn.Module):\n",
        "    \"\"\" one head of self attention \"\"\"\n",
        "    def __init__(self, head_size:int, embedding_dim:int=embedding_dim,\n",
        "                 context_length:int=context_length, dropout:float=dropout):\n",
        "        super().__init__()\n",
        "        self.embedding_dim = embedding_dim\n",
        "        self.head_size = head_size\n",
        "        self.context_length = context_length\n",
        "        self.dropout = dropout\n",
        "\n",
        "        self.key_layer   = nn.Linear(in_features=self.embedding_dim, out_features=self.head_size, bias=False)\n",
        "        self.query_layer = nn.Linear(in_features=self.embedding_dim, out_features=self.head_size, bias=False)\n",
        "        self.value_layer = nn.Linear(in_features=self.embedding_dim, out_features=self.head_size, bias=False)\n",
        "        self.register_buffer('tril', torch.tril(torch.ones((self.context_length, self.context_length))))\n",
        "        self.dropout_layer = nn.Dropout(dropout) # NEW\n",
        "\n",
        "    def forward(self, x):\n",
        "        # input of size (batch, time-step, channels)\n",
        "        # output of size (batch, time-step, head size)\n",
        "        B,T,C = x.shape\n",
        "        assert T <= self.context_length\n",
        "        assert C == self.embedding_dim\n",
        "        q = self.query_layer(x) #(B,T,C) (batch size, context length, head_size)\n",
        "        k = self.key_layer(x) #(B,T,C) (batch size, context length, head_size)\n",
        "        v = self.value_layer(x) #(B,T,C) (batch size, context length, head_size)\n",
        "\n",
        "        #compute scores based on affinities\n",
        "        weights = (q @ k.transpose(-2,-1)) * self.head_size**-0.5 # (B,T,C) @ (B,C,T) -> (B,T,T) #FIXED ^-.5 is 1/sqrt() so need to mult, not div\n",
        "        weights = weights.masked_fill(self.tril[:T,:T] == 0, float('-inf')) #(B,T,T)\n",
        "        weights = F.softmax(input=weights, dim=-1) #(B,T,T)\n",
        "        weights = self.dropout_layer(weights) # NEW\n",
        "\n",
        "        #perform weighted aggragation of the values\n",
        "        out = weights @ v # (B,T,T) @ (B,T,C) -> (B,T,C)\n",
        "        return out\n",
        "\n",
        "# Head()(x)"
      ],
      "id": "4dc1c95a-3ad8-4601-bc06-ac0e45c20ec3"
    },
    {
      "cell_type": "markdown",
      "metadata": {
        "id": "0ec82411-5755-4aee-9319-8b82f48f327e"
      },
      "source": [
        "Adding dropout"
      ],
      "id": "0ec82411-5755-4aee-9319-8b82f48f327e"
    },
    {
      "cell_type": "code",
      "execution_count": null,
      "metadata": {
        "id": "12c64b22-5967-447f-ad0f-ecaacf635345"
      },
      "outputs": [],
      "source": [
        "#| output: true\n",
        "class MultiHeadAttention(nn.Module):\n",
        "    def __init__(self, num_heads:int, head_size:int, embedding_dim:int=embedding_dim,\n",
        "                 context_length:int=context_length, dropout:float=dropout):\n",
        "        super().__init__()\n",
        "        self.num_heads = num_heads\n",
        "        self.head_size = head_size\n",
        "        self.embedding_dim = embedding_dim\n",
        "        self.context_length = context_length\n",
        "        self.dropout = dropout\n",
        "\n",
        "        self.heads = nn.ModuleList([\n",
        "            Head(head_size=self.head_size, embedding_dim=self.embedding_dim,\n",
        "                 context_length=self.context_length)\n",
        "            for _ in range(self.num_heads)])\n",
        "\n",
        "        self.projection_layer = nn.Linear(in_features=self.embedding_dim, out_features=self.embedding_dim, bias=True)\n",
        "        self.dropout_layer = nn.Dropout(dropout) # NEW\n",
        "\n",
        "    def forward(self, x):\n",
        "        out = torch.cat([h(x) for h in self.heads], dim=-1)\n",
        "        out = self.projection_layer(out)\n",
        "        out = self.dropout_layer(out) # NEW\n",
        "        return out"
      ],
      "id": "12c64b22-5967-447f-ad0f-ecaacf635345"
    },
    {
      "cell_type": "code",
      "execution_count": null,
      "metadata": {
        "id": "77c5e96c-f44c-42b2-8539-bf8288a71658"
      },
      "outputs": [],
      "source": [
        "#| output: true\n",
        "class TransformerBlock(nn.Module):\n",
        "    \"\"\"Transformer Block: Communication folled by computation.\"\"\"\n",
        "    def __init__(self, num_heads:int, embedding_dim:int=embedding_dim, context_length:int=context_length,\n",
        "                 dropout:float=dropout): #UPDATED\n",
        "        #embedding_dim: embedding dimension, num_heads: the number of heads that we want\n",
        "        super().__init__()\n",
        "        self.embedding_dim = embedding_dim\n",
        "        self.context_length = context_length\n",
        "        self.head_size = embedding_dim // num_heads\n",
        "        self.num_heads = num_heads\n",
        "        self.dropout = dropout # NEW\n",
        "\n",
        "        self.multi_self_attention_heads_layer = MultiHeadAttention(num_heads=num_heads, head_size=self.head_size,\n",
        "                                                                   embedding_dim=embedding_dim, context_length=context_length,\n",
        "                                                                   dropout=dropout) #UPDATED\n",
        "        self.feed_forward_network = FeedForwardNetwork(embedding_dim=self.embedding_dim, dropout=dropout)\n",
        "        self.layer_norm_1 = nn.LayerNorm(normalized_shape=self.embedding_dim)\n",
        "        self.layer_norm_2 = nn.LayerNorm(normalized_shape=self.embedding_dim)\n",
        "\n",
        "    def forward(self, x):\n",
        "        x = x + self.multi_self_attention_heads_layer(self.layer_norm_1(x))\n",
        "        x = x + self.feed_forward_network(self.layer_norm_2(x))\n",
        "        return x\n"
      ],
      "id": "77c5e96c-f44c-42b2-8539-bf8288a71658"
    },
    {
      "cell_type": "code",
      "execution_count": null,
      "metadata": {
        "colab": {
          "base_uri": "https://localhost:8080/",
          "height": 1000
        },
        "id": "dbd3eb26-041f-4cbb-b609-14e8d72103ab",
        "outputId": "53f9981d-ef09-4c0f-fbe7-ad54c8a031d8"
      },
      "outputs": [
        {
          "output_type": "stream",
          "name": "stdout",
          "text": [
            "Step: 0 Training Loss: 4.285 Validation Loss: 4.282\n",
            "Step: 200 Training Loss: 2.392 Validation Loss: 2.415\n",
            "Step: 400 Training Loss: 2.012 Validation Loss: 2.09\n",
            "Step: 600 Training Loss: 1.773 Validation Loss: 1.912\n",
            "Step: 800 Training Loss: 1.632 Validation Loss: 1.809\n",
            "Step: 1000 Training Loss: 1.535 Validation Loss: 1.725\n",
            "Step: 1200 Training Loss: 1.465 Validation Loss: 1.667\n",
            "Step: 1400 Training Loss: 1.413 Validation Loss: 1.617\n",
            "Step: 1600 Training Loss: 1.37 Validation Loss: 1.594\n",
            "Step: 1800 Training Loss: 1.336 Validation Loss: 1.567\n",
            "Step: 2000 Training Loss: 1.31 Validation Loss: 1.552\n",
            "Step: 2200 Training Loss: 1.283 Validation Loss: 1.525\n",
            "Step: 2400 Training Loss: 1.261 Validation Loss: 1.514\n",
            "Step: 2600 Training Loss: 1.238 Validation Loss: 1.51\n",
            "Step: 2800 Training Loss: 1.227 Validation Loss: 1.509\n",
            "Step: 3000 Training Loss: 1.204 Validation Loss: 1.492\n",
            "Step: 3200 Training Loss: 1.186 Validation Loss: 1.489\n",
            "Step: 3400 Training Loss: 1.169 Validation Loss: 1.486\n",
            "Step: 3600 Training Loss: 1.151 Validation Loss: 1.484\n",
            "Step: 3800 Training Loss: 1.139 Validation Loss: 1.484\n",
            "Step: 4000 Training Loss: 1.122 Validation Loss: 1.474\n",
            "Step: 4200 Training Loss: 1.107 Validation Loss: 1.477\n",
            "Step: 4400 Training Loss: 1.092 Validation Loss: 1.488\n",
            "Step: 4600 Training Loss: 1.078 Validation Loss: 1.49\n",
            "Step: 4800 Training Loss: 1.065 Validation Loss: 1.49\n",
            "Step: 4999 Training Loss: 1.049 Validation Loss: 1.491\n"
          ]
        },
        {
          "output_type": "display_data",
          "data": {
            "text/plain": [
              "<Figure size 640x480 with 1 Axes>"
            ],
            "image/png": "[encoded data removed]"
          },
          "metadata": {}
        },
        {
          "output_type": "stream",
          "name": "stdout",
          "text": [
            "\n",
            "But with prison: I will steel with my fame?\n",
            "For myself I'll reconceive without 'larganes' form,\n",
            "Provoke itself a lewful manifies.\n",
            "Affright the feelow me slaves of these weep,\n",
            "Or most lords, lets her rebals to do me here\n",
            "Tewlate the sun of Margary can see hence without\n",
            "With not thine twenty, cousin, their bearing their\n",
            "stephes; I am likers again.\n",
            "\n",
            "ISABELLA:\n",
            "As I was recelless lack to such, my lord,\n",
            "I pray now. Dorset, leave it with pains in thine!\n",
            "For Even bring you! and you writes must me go:\n",
            "no\n",
            "CPU times: user 1h 6min 26s, sys: 7min 6s, total: 1h 13min 32s\n",
            "Wall time: 1h 13min 48s\n"
          ]
        }
      ],
      "source": [
        "%%time\n",
        "#| output: true\n",
        "torch.manual_seed(TORCH_SEED)\n",
        "class TransformerLanguageModel(nn.Module):\n",
        "    def __init__(self, head_size:int, vocab_size:int=vocab_size, embedding_dim:int=embedding_dim, context_length:int=context_length,\n",
        "                 num_layers:int=num_layers, dropout:float=dropout, num_heads:int=num_heads): #UPDATED\n",
        "        super().__init__()\n",
        "        self.vocab_size = vocab_size\n",
        "        self.embedding_dim = embedding_dim\n",
        "        self.context_length = context_length\n",
        "        self.head_size = head_size\n",
        "        self.num_layers = num_layers #NEW\n",
        "        self.dropout = dropout\n",
        "\n",
        "        self.token_embedding_table = nn.Embedding(num_embeddings=self.vocab_size, embedding_dim=self.embedding_dim)\n",
        "        self.token_position_embedding_table = nn.Embedding(num_embeddings=self.context_length, embedding_dim=self.embedding_dim)\n",
        "\n",
        "        self.transformer_blocks = nn.Sequential(*([\n",
        "            TransformerBlock(embedding_dim=embedding_dim, num_heads=num_heads, context_length=context_length,\n",
        "                             dropout=self.dropout) for _ in range(self.num_layers)]+[\n",
        "            nn.LayerNorm(embedding_dim)\n",
        "        ])) #UPDATED\n",
        "        self.language_model_head_linear_layer = nn.Linear(in_features=self.embedding_dim, out_features=self.vocab_size)\n",
        "\n",
        "    def forward(self, idx, targets=None):\n",
        "        #Both idx and targets are (B,T) Batch x Time array of integers\n",
        "        B,T = idx.shape\n",
        "        token_embeddings = self.token_embedding_table(idx) #(B,T,C) Batch, Time, Channel\n",
        "        token_position_embeddings = self.token_position_embedding_table(torch.arange(T, device=device)) #(T,C)\n",
        "        x = token_embeddings + token_position_embeddings\n",
        "        x = self.transformer_blocks(x)\n",
        "        logits = self.language_model_head_linear_layer(x) #(B,T,C) Where C is now token logits of size vocab_size\n",
        "\n",
        "        if targets is not None:\n",
        "            B,T,C = logits.shape\n",
        "            logits_reshaped = logits.view(B*T,C)\n",
        "            targets_reshaped = targets.view(B*T)\n",
        "            loss = F.cross_entropy(input=logits_reshaped, target=targets_reshaped)\n",
        "        else:\n",
        "            loss=None\n",
        "        return logits, loss\n",
        "\n",
        "    def generate(self, idx, max_new_tokens):\n",
        "        #idx is (B,T) array of indicies in the current context\n",
        "        for _ in range(max_new_tokens):\n",
        "            #Crop idx to the max size of our positional embeddings table\n",
        "            idx_crop = idx[:,-self.context_length:]\n",
        "            #Get predictions\n",
        "            logits, loss = self(idx_crop)\n",
        "            #Get the last time step from logits where the dimensions of the logits are (B,T,C)\n",
        "            logits_last_timestep = logits[:,-1,:] #Becomes (B,C)\n",
        "            #Apply softmax to get probabilities\n",
        "            probs = F.softmax(input=logits_last_timestep, dim=-1) #(B,C)\n",
        "            #Sample from the probs distribution.\n",
        "            idx_next = torch.multinomial(input=probs, num_samples=1) #(B,1) Returns (B,idxs) where idxs are random integer indicies.\n",
        "            #Append the sampled indexes idx_next to idx\n",
        "            idx = torch.cat((idx, idx_next), dim=1) #(B, T+1)\n",
        "        return idx\n",
        "\n",
        "model = TransformerLanguageModel(head_size=head_size1, vocab_size=vocab_size, embedding_dim=embedding_dim, context_length=context_length)\n",
        "model = model.to(device)\n",
        "optimizer = torch.optim.AdamW(params=model.parameters(), lr=learning_rate)\n",
        "tracked_losses = list()\n",
        "for step in range(max_iters):\n",
        "    if step % eval_iters == 0 or step == max_iters-1:\n",
        "        losses = estimate_loss()\n",
        "        tracked_losses.append(losses)\n",
        "        print('Step:',step,'Training Loss:',round(losses['train'].item(),3),'Validation Loss:',round(losses['valid'].item(),3))\n",
        "\n",
        "    xb,yb = get_batch('train')\n",
        "    logits, loss = model(xb,yb)\n",
        "    optimizer.zero_grad(set_to_none=True)\n",
        "    loss.backward()\n",
        "    optimizer.step()\n",
        "\n",
        "plot_losses(tracked_losses)\n",
        "context = torch.zeros((1,1), dtype=torch.long, device=device)\n",
        "print(decode(model.generate(context,max_new_tokens=500)[0].tolist()))"
      ],
      "id": "dbd3eb26-041f-4cbb-b609-14e8d72103ab"
    },
    {
      "cell_type": "markdown",
      "metadata": {
        "id": "85eb2504-d5d9-45d0-99e0-f9310e88a0fe"
      },
      "source": [
        "The results are starting to look pretty decent. The loss has dramatically improved. Scaling up the network has made a big difference. <br><br>\n",
        "**Debugging Models Aside**: While trying to train the model I realized I had made a mistake in the code. I tried to train this several times but loss would not drop below about 2.4. I went back through my code and nothing obvious was standing out to me that was wrong. After an hour of scouring my code I finally found the issue. It was a subtle change, but made all the difference. This was my code before the fix: <br>\n",
        "```python\n",
        "weights = (q @ k.transpose(-2,-1)) / self.head_size**-0.5\n",
        "```\n",
        "and this was my code after:<br>\n",
        "```python\n",
        "weights = (q @ k.transpose(-2,-1)) * self.head_size**-0.5\n",
        "```\n",
        "When we first implemented dividing the `weights` by the head size to fix the issue with large numbers passing through softmax, I had been using the `.../math.sqrt(head_size)`. To try and make things more consistent with Andrej's code and to remove the requirement to `import math` I switched the implementation over to the way he was doing it which was taking the head_size to the power of 0.5 which is equivalent to the sqrt, but I had missed that it was a -0.5 which is equivalent to 1/sqrt(0.5) so instead of dividing by `self.head_size**-0.5` I should have been multiplying by it. This can be one of the big challenges in deep learning. Often times when you make a mistake, no error is thrown, it just doesn't work. Sometimes it affects the results by a little and other times it affects it by a lot which is what happened in my case. Thankfully I had benchmarks to compare my result against so it was clear that I had an implementation issue, not that the model I was using was incapable of getting better results."
      ],
      "id": "85eb2504-d5d9-45d0-99e0-f9310e88a0fe"
    },
    {
      "cell_type": "markdown",
      "metadata": {
        "id": "edc1afc3-9160-4658-af13-b511df24e1f2"
      },
      "source": [
        "# Conclusion"
      ],
      "id": "edc1afc3-9160-4658-af13-b511df24e1f2"
    },
    {
      "cell_type": "markdown",
      "metadata": {
        "id": "9d626f6c-72a5-4804-9c7d-cc0b0fbc54cb"
      },
      "source": [
        "In this notebook we have built a transformer model based on the [Attention Is All You Need](https://arxiv.org/abs/1706.03762) paper following along with Andrej Karpathy's fantastic YouTube video: [Let's build GPT: from scratch, in code, spelled out](https://www.youtube.com/watch?v=kCc8FmEb1nY). While building out the transformer we tried to build an intuition on what makes the transformer work. I hope you found the format of this notebook useful, adding and modifying the code as we went, enabling you to follow along, run the code and see the output with each step."
      ],
      "id": "9d626f6c-72a5-4804-9c7d-cc0b0fbc54cb"
    },
    {
      "cell_type": "code",
      "execution_count": null,
      "metadata": {
        "id": "c3bfd8c3-c52a-4a7e-821d-59e0e1ebc949"
      },
      "outputs": [],
      "source": [],
      "id": "c3bfd8c3-c52a-4a7e-821d-59e0e1ebc949"
    }
  ],
  "metadata": {
    "colab": {
      "provenance": [],
      "gpuType": "T4",
      "include_colab_link": true
    },
    "kernelspec": {
      "display_name": "Python 3",
      "name": "python3"
    },
    "accelerator": "GPU"
  },
  "nbformat": 4,
  "nbformat_minor": 5
}