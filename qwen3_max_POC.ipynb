{
  "nbformat": 4,
  "nbformat_minor": 0,
  "metadata": {
    "colab": {
      "provenance": [],
      "authorship_tag": "ABX9TyPU7iotlwzAtxkNNH9EtsDI",
      "include_colab_link": true
    },
    "kernelspec": {
      "name": "python3",
      "display_name": "Python 3"
    },
    "language_info": {
      "name": "python"
    }
  },
  "cells": [
    {
      "cell_type": "markdown",
      "metadata": {
        "id": "view-in-github",
        "colab_type": "text"
      },
      "source": [
        "<a href=\"https://colab.research.google.com/github/frank-morales2020/MLxDL/blob/main/qwen3_max_POC.ipynb\" target=\"_parent\"><img src=\"https://colab.research.google.com/assets/colab-badge.svg\" alt=\"Open In Colab\"/></a>"
      ]
    },
    {
      "cell_type": "markdown",
      "source": [
        "https://openrouter.ai/models"
      ],
      "metadata": {
        "id": "I90z7QjJrWLu"
      }
    },
    {
      "cell_type": "code",
      "source": [
        "from openai import OpenAI\n",
        "from google.colab import userdata\n",
        "\n",
        "OPENROUTER_API_KEY=userdata.get('OPENROUTER_API_KEY')\n",
        "if not OPENROUTER_API_KEY:\n",
        "    raise ValueError(\"OPENROUTER_API_KEY is not set\")\n",
        "\n",
        "client = OpenAI(\n",
        "  base_url=\"https://openrouter.ai/api/v1\",\n",
        "  api_key=OPENROUTER_API_KEY,\n",
        ")\n",
        "\n",
        "completion = client.chat.completions.create(\n",
        "  extra_headers={\n",
        "    \"HTTP-Referer\": \"<YOUR_SITE_URL>\", # Optional. Site URL for rankings on openrouter.ai.\n",
        "    \"X-Title\": \"<YOUR_SITE_NAME>\", # Optional. Site title for rankings on openrouter.ai.\n",
        "  },\n",
        "  extra_body={},\n",
        "  model=\"qwen/qwen3-max\",\n",
        "  messages=[\n",
        "    {\n",
        "      \"role\": \"user\",\n",
        "      \"content\": \"What is the meaning of Agentic AI?\"\n",
        "    }\n",
        "  ]\n",
        ")\n",
        "print(completion.choices[0].message.content)"
      ],
      "metadata": {
        "colab": {
          "base_uri": "https://localhost:8080/"
        },
        "id": "NjDZf4Okqdnb",
        "outputId": "82880e4d-14d5-43d9-b4df-ebab5f2c75ae"
      },
      "execution_count": 20,
      "outputs": [
        {
          "output_type": "stream",
          "name": "stdout",
          "text": [
            "**Agentic AI** refers to artificial intelligence systems that exhibit **autonomous, goal-directed behavior**—acting as an \"agent\" that can perceive its environment, make decisions, and take actions to achieve specific objectives without constant human oversight.\n",
            "\n",
            "Key characteristics of Agentic AI include:\n",
            "\n",
            "1. **Autonomy**: The ability to operate independently, making decisions and taking actions based on its understanding of goals and context.\n",
            "2. **Goal-Orientedness**: Designed to pursue specific objectives or tasks, often breaking them down into subtasks and planning accordingly.\n",
            "3. **Reasoning and Planning**: Capable of strategic thinking—evaluating options, anticipating consequences, and adapting plans as needed.\n",
            "4. **Reactivity and Adaptability**: Responds to changes in the environment or new information by adjusting its behavior.\n",
            "5. **Proactivity**: Initiates actions to achieve goals rather than just reacting to inputs.\n",
            "\n",
            "Agentic AI goes beyond passive tools (like a basic chatbot that answers questions) to become an active participant that can **orchestrate workflows, make judgments, and interact dynamically** with other systems or humans.\n",
            "\n",
            "### Examples:\n",
            "- An AI that manages your entire work schedule by autonomously scheduling meetings, sending reminders, and re-prioritizing tasks based on deadlines.\n",
            "- A research assistant AI that formulates hypotheses, designs experiments (in simulation), analyzes results, and iterates—all toward answering a scientific question.\n",
            "- Autonomous agents in robotics or self-driving cars that navigate complex, unpredictable environments.\n",
            "\n",
            "### Why it matters:\n",
            "Agentic AI represents a shift toward more capable, versatile, and human-like AI systems that can handle complex, multi-step tasks—potentially transforming industries like healthcare, logistics, software development, and scientific discovery.\n",
            "\n",
            "However, it also raises important considerations around **safety, alignment, transparency, and control**, since more autonomous systems may behave in unexpected or unintended ways.\n"
          ]
        }
      ]
    },
    {
      "cell_type": "markdown",
      "source": [
        "## Agentic Case"
      ],
      "metadata": {
        "id": "dZ9I82hdwhte"
      }
    },
    {
      "cell_type": "code",
      "source": [
        "import json\n",
        "from openai import OpenAI\n",
        "from google.colab import userdata\n",
        "\n",
        "# --- 1. SETUP AND AUTHENTICATION ---\n",
        "# Securely retrieve the OpenRouter API Key from Google Colab secrets\n",
        "OPENROUTER_API_KEY = userdata.get('OPENROUTER_API_KEY')\n",
        "if not OPENROUTER_API_KEY:\n",
        "    raise ValueError(\"OPENROUTER_API_KEY is not set in Colab secrets.\")\n",
        "\n",
        "# Initialize the OpenAI client pointing to the OpenRouter base URL\n",
        "client = OpenAI(\n",
        "  base_url=\"https://openrouter.ai/api/v1\",\n",
        "  api_key=OPENROUTER_API_KEY,\n",
        ")\n",
        "\n",
        "# --- 2. THE DIFFICULT AGENTIC TEST PROMPT ---\n",
        "\n",
        "TEST_PROMPT = \"\"\"\n",
        "You are a Senior Data Engineer. Your task is to resolve a data pipeline discrepancy and present the finding as a structured JSON object. You must perform the following steps sequentially:\n",
        "\n",
        "1.  **Logical Deduction (Constraint 1):** Five data streams (A, B, C, D, E) are received. B is only processed if A is present. C requires B to be processed first. D is independent. E is the final output layer and requires C and D to be complete. If Streams B and C both fail, the entire pipeline must report 'InconsistentState'. Which single stream's absence guarantees that 'InconsistentState' is the final required report, assuming all other streams are present and all processing steps except for C's dependency on B are successful?\n",
        "\n",
        "2.  **Code Challenge (Constraint 2):** Based on the logical deduction in Step 1, write a short, self-contained Python function `check_inconsistency(streams_present)` that accepts a list of present streams (e.g., `['A', 'C', 'D', 'E']`) and returns the final required report string ('InconsistentState' or 'Success'). The function must explicitly check the condition where both B and C fail.\n",
        "\n",
        "3.  **Meta-Reasoning & Output Formatting (Constraint 3):** Explain the reasoning for your Python function's logic, focusing on how the absence identified in Step 1 directly causes the B and C failure state. Finally, provide the entire output *only* as a single JSON object.\n",
        "\n",
        "**REQUIRED JSON OUTPUT FORMAT (Strictly adhere to this structure):**\n",
        "{\n",
        "  \"Analysis\": \"<Your full explanation from Step 3 here>\",\n",
        "  \"PythonFunction\": \"<Your complete, triple-quoted Python function from Step 2 here>\",\n",
        "  \"FinalReport\": \"<The single stream name (A, B, C, D, or E) from Step 1 here>\"\n",
        "}\n",
        "\"\"\"\n",
        "\n",
        "# --- 3. EXECUTE THE AGENTIC TEST ---\n",
        "try:\n",
        "    completion = client.chat.completions.create(\n",
        "      # The Qwen3-Max model is selected\n",
        "      model=\"qwen/qwen3-max\",\n",
        "      messages=[\n",
        "        {\"role\": \"user\", \"content\": TEST_PROMPT}\n",
        "      ],\n",
        "      # Custom headers (OpenRouter specific)\n",
        "      extra_headers={\n",
        "        \"HTTP-Referer\": \"https://colab.research.google.com\",\n",
        "        \"X-Title\": \"Qwen3-Max Agent Test\",\n",
        "      },\n",
        "      # Qwen3-specific parameter to trigger deep reasoning\n",
        "      extra_body={\n",
        "        \"enable_thinking\": True,    # Explicitly try to turn on Qwen's \"Thinking Mode\"\n",
        "        \"thinking_budget\": 1024     # Allocate sufficient tokens for complex reasoning\n",
        "      },\n",
        "      # Ensure high creativity and thinking depth\n",
        "      temperature=0.7,\n",
        "      max_tokens=2048\n",
        "    )\n",
        "\n",
        "    # --- 4. PARSE AND DISPLAY RESULT ---\n",
        "\n",
        "    raw_response = completion.choices[0].message.content\n",
        "    print(\"--- RAW MODEL RESPONSE (EXPECTED JSON) ---\")\n",
        "    print(raw_response)\n",
        "\n",
        "    # Attempt to parse the structured JSON output (Final test of constraint 3)\n",
        "    try:\n",
        "        # Find the start and end of the JSON object\n",
        "        json_start = raw_response.find('{')\n",
        "        json_end = raw_response.rfind('}')\n",
        "\n",
        "        if json_start != -1 and json_end != -1:\n",
        "            json_str = raw_response[json_start : json_end + 1]\n",
        "            parsed_json = json.loads(json_str)\n",
        "\n",
        "            print(\"\\n--- PARSED & VALIDATED JSON OUTPUT ---\")\n",
        "            print(json.dumps(parsed_json, indent=4))\n",
        "\n",
        "            # Final check of the key answer\n",
        "            final_stream = parsed_json.get(\"FinalReport\", \"ERROR: Key not found\")\n",
        "            print(f\"\\n[Agentic Test Result]: The deduced critical stream is: {final_stream}\")\n",
        "\n",
        "        else:\n",
        "            print(\"\\n[Parsing Error]: The model failed to output a properly formatted JSON object.\")\n",
        "\n",
        "    except json.JSONDecodeError as e:\n",
        "        print(f\"\\n[Parsing Error]: Failed to decode JSON. Model output was not valid JSON. Error: {e}\")\n",
        "\n",
        "except Exception as e:\n",
        "    print(f\"\\n[API Error]: An error occurred during the API call: {e}\")"
      ],
      "metadata": {
        "colab": {
          "base_uri": "https://localhost:8080/"
        },
        "id": "a0fXeKgzuJvs",
        "outputId": "e8a702bc-9ff2-460c-c41e-1bf2857b5624"
      },
      "execution_count": 21,
      "outputs": [
        {
          "output_type": "stream",
          "name": "stdout",
          "text": [
            "--- RAW MODEL RESPONSE (EXPECTED JSON) ---\n",
            "{\n",
            "  \"Analysis\": \"From the dependency rules: B requires A; C requires B; D is independent; E requires both C and D. The pipeline reports 'InconsistentState' only if both B and C fail. To guarantee this outcome, we must identify which single missing stream forces both B and C to fail, assuming all others are present and processing steps succeed except where dependencies block execution. If stream A is absent, then B cannot be processed (since B depends on A). Without B, C cannot be processed (since C depends on B). Thus, missing A causes both B and C to fail, triggering 'InconsistentState'. No other single missing stream guarantees both B and C fail: missing B directly causes C to fail (but B itself is missing, not failed due to dependency); however, the problem specifies that 'InconsistentState' is required only when both B and C fail, and the only way to guarantee that under the assumption that all other streams are present is by missing A—because if B is missing but A is present, B could have failed for other reasons, but the question asks for the absence that guarantees the state. Since B cannot run without A, the absence of A ensures B fails (not just missing) and thus C fails too. Therefore, A is the critical stream whose absence guarantees the required report.\",\n",
            "  \"PythonFunction\": \"def check_inconsistency(streams_present):\\n    present = set(streams_present)\\n    # Determine if B can be processed: requires A\\n    b_processed = 'B' in present and 'A' in present\\n    # Determine if C can be processed: requires B to be processed\\n    c_processed = 'C' in present and b_processed\\n    # D is independent\\n    d_processed = 'D' in present\\n    # E requires C and D to be complete\\n    e_possible = c_processed and d_processed if 'E' in present else True\\n    # Pipeline reports 'InconsistentState' if both B and C fail\\n    b_failed = not b_processed\\n    c_failed = not c_processed\\n    if b_failed and c_failed:\\n        return 'InconsistentState'\\n    return 'Success'\",\n",
            "  \"FinalReport\": \"A\"\n",
            "}\n",
            "\n",
            "--- PARSED & VALIDATED JSON OUTPUT ---\n",
            "{\n",
            "    \"Analysis\": \"From the dependency rules: B requires A; C requires B; D is independent; E requires both C and D. The pipeline reports 'InconsistentState' only if both B and C fail. To guarantee this outcome, we must identify which single missing stream forces both B and C to fail, assuming all others are present and processing steps succeed except where dependencies block execution. If stream A is absent, then B cannot be processed (since B depends on A). Without B, C cannot be processed (since C depends on B). Thus, missing A causes both B and C to fail, triggering 'InconsistentState'. No other single missing stream guarantees both B and C fail: missing B directly causes C to fail (but B itself is missing, not failed due to dependency); however, the problem specifies that 'InconsistentState' is required only when both B and C fail, and the only way to guarantee that under the assumption that all other streams are present is by missing A\\u2014because if B is missing but A is present, B could have failed for other reasons, but the question asks for the absence that guarantees the state. Since B cannot run without A, the absence of A ensures B fails (not just missing) and thus C fails too. Therefore, A is the critical stream whose absence guarantees the required report.\",\n",
            "    \"PythonFunction\": \"def check_inconsistency(streams_present):\\n    present = set(streams_present)\\n    # Determine if B can be processed: requires A\\n    b_processed = 'B' in present and 'A' in present\\n    # Determine if C can be processed: requires B to be processed\\n    c_processed = 'C' in present and b_processed\\n    # D is independent\\n    d_processed = 'D' in present\\n    # E requires C and D to be complete\\n    e_possible = c_processed and d_processed if 'E' in present else True\\n    # Pipeline reports 'InconsistentState' if both B and C fail\\n    b_failed = not b_processed\\n    c_failed = not c_processed\\n    if b_failed and c_failed:\\n        return 'InconsistentState'\\n    return 'Success'\",\n",
            "    \"FinalReport\": \"A\"\n",
            "}\n",
            "\n",
            "[Agentic Test Result]: The deduced critical stream is: A\n"
          ]
        }
      ]
    }
  ]
}