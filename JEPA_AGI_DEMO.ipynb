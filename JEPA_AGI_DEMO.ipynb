{
  "nbformat": 4,
  "nbformat_minor": 0,
  "metadata": {
    "colab": {
      "provenance": [],
      "machine_shape": "hm",
      "gpuType": "A100",
      "collapsed_sections": [
        "cF04rAKeI3nl",
        "SMCjG1kUI_7o",
        "TSFr8YI2N4QU"
      ],
      "authorship_tag": "ABX9TyOiHRQ8iRxazxahBtXmqgFC",
      "include_colab_link": true
    },
    "kernelspec": {
      "name": "python3",
      "display_name": "Python 3"
    },
    "language_info": {
      "name": "python"
    },
    "accelerator": "GPU"
  },
  "cells": [
    {
      "cell_type": "markdown",
      "metadata": {
        "id": "view-in-github",
        "colab_type": "text"
      },
      "source": [
        "<a href=\"https://colab.research.google.com/github/frank-morales2020/MLxDL/blob/main/JEPA_AGI_DEMO.ipynb\" target=\"_parent\"><img src=\"https://colab.research.google.com/assets/colab-badge.svg\" alt=\"Open In Colab\"/></a>"
      ]
    },
    {
      "cell_type": "markdown",
      "source": [
        "1. World models that can predict and reason about real situations, not just text (LeCun’s Joint Embedding Predictive Architecture, 2022).\n",
        "2. Autonomous learning that discovers causal structure instead of memorizing patterns.\n",
        "3. Energy-based or modular systems that reason, plan, and act coherently within physical and ethical boundaries.\n",
        "4. Embodied sentience and salience — systems grounded in sensory experience, capable of focusing on what truly matters and aligning ethically with human values.\n",
        "5. Cognitive world models and evolutionary learning modules — hybrid systems that combine:\n",
        "• Common-sense reasoning about space, time, and agency,\n",
        "• Evolutionary and meta-learning algorithms that improve over generations of experience, and\n",
        "• Analog–digital integration layers that bridge symbolic reasoning with continuous perception."
      ],
      "metadata": {
        "id": "3RR2E1s6MeTw"
      }
    },
    {
      "cell_type": "code",
      "source": [
        "!pip install av -q"
      ],
      "metadata": {
        "id": "bS3m0V3eKYAf"
      },
      "execution_count": null,
      "outputs": []
    },
    {
      "cell_type": "code",
      "source": [
        "!nvidia-smi"
      ],
      "metadata": {
        "id": "3afxZb0bsnAy",
        "colab": {
          "base_uri": "https://localhost:8080/"
        },
        "outputId": "f3c80ff3-3a49-4dfb-a45c-14f1d034975c"
      },
      "execution_count": null,
      "outputs": [
        {
          "output_type": "stream",
          "name": "stdout",
          "text": [
            "Mon Oct 20 20:21:57 2025       \n",
            "+-----------------------------------------------------------------------------------------+\n",
            "| NVIDIA-SMI 550.54.15              Driver Version: 550.54.15      CUDA Version: 12.4     |\n",
            "|-----------------------------------------+------------------------+----------------------+\n",
            "| GPU  Name                 Persistence-M | Bus-Id          Disp.A | Volatile Uncorr. ECC |\n",
            "| Fan  Temp   Perf          Pwr:Usage/Cap |           Memory-Usage | GPU-Util  Compute M. |\n",
            "|                                         |                        |               MIG M. |\n",
            "|=========================================+========================+======================|\n",
            "|   0  NVIDIA A100-SXM4-80GB          Off |   00000000:00:05.0 Off |                    0 |\n",
            "| N/A   35C    P0             52W /  400W |       0MiB /  81920MiB |      0%      Default |\n",
            "|                                         |                        |             Disabled |\n",
            "+-----------------------------------------+------------------------+----------------------+\n",
            "                                                                                         \n",
            "+-----------------------------------------------------------------------------------------+\n",
            "| Processes:                                                                              |\n",
            "|  GPU   GI   CI        PID   Type   Process name                              GPU Memory |\n",
            "|        ID   ID                                                               Usage      |\n",
            "|=========================================================================================|\n",
            "|  No running processes found                                                             |\n",
            "+-----------------------------------------------------------------------------------------+\n"
          ]
        }
      ]
    },
    {
      "cell_type": "code",
      "source": [
        "from google.colab import drive\n",
        "drive.mount('/content/gdrive')"
      ],
      "metadata": {
        "colab": {
          "base_uri": "https://localhost:8080/"
        },
        "id": "d01iFpdOPpc7",
        "outputId": "ef8ee365-cce9-45cc-9430-d9e9e489b02a"
      },
      "execution_count": null,
      "outputs": [
        {
          "output_type": "stream",
          "name": "stdout",
          "text": [
            "Drive already mounted at /content/gdrive; to attempt to forcibly remount, call drive.mount(\"/content/gdrive\", force_remount=True).\n"
          ]
        }
      ]
    },
    {
      "cell_type": "code",
      "source": [
        "!df -h /content/gdrive"
      ],
      "metadata": {
        "colab": {
          "base_uri": "https://localhost:8080/"
        },
        "id": "rsMJtRoGHXRh",
        "outputId": "d5fd16c6-0909-4843-85b3-97144869b323"
      },
      "execution_count": null,
      "outputs": [
        {
          "output_type": "stream",
          "name": "stdout",
          "text": [
            "Filesystem      Size  Used Avail Use% Mounted on\n",
            "drive           236G   50G  187G  21% /content/gdrive\n"
          ]
        }
      ]
    },
    {
      "cell_type": "code",
      "source": [
        "!git clone https://github.com/castacks/TartanAviation.git\n",
        "%cd TartanAviation"
      ],
      "metadata": {
        "colab": {
          "base_uri": "https://localhost:8080/"
        },
        "id": "PfNOnshJDGGp",
        "outputId": "4ee5bd4c-0370-472b-9ed5-85a11dedcbf2"
      },
      "execution_count": null,
      "outputs": [
        {
          "output_type": "stream",
          "name": "stdout",
          "text": [
            "Cloning into 'TartanAviation'...\n",
            "remote: Enumerating objects: 180, done.\u001b[K\n",
            "remote: Counting objects: 100% (180/180), done.\u001b[K\n",
            "remote: Compressing objects: 100% (141/141), done.\u001b[K\n",
            "remote: Total 180 (delta 97), reused 101 (delta 33), pack-reused 0 (from 0)\u001b[K\n",
            "Receiving objects: 100% (180/180), 4.04 MiB | 17.91 MiB/s, done.\n",
            "Resolving deltas: 100% (97/97), done.\n",
            "/content/TartanAviation\n"
          ]
        }
      ]
    },
    {
      "cell_type": "code",
      "source": [
        "%cd /content"
      ],
      "metadata": {
        "colab": {
          "base_uri": "https://localhost:8080/"
        },
        "id": "TiY9eZWiShA2",
        "outputId": "34bf897a-0389-4afd-fee2-1700948dac64"
      },
      "execution_count": null,
      "outputs": [
        {
          "output_type": "stream",
          "name": "stdout",
          "text": [
            "/content\n"
          ]
        }
      ]
    },
    {
      "cell_type": "code",
      "source": [
        "!pip install minio boto3 -q\n",
        "!apt-get install -y unzip ffmpeg"
      ],
      "metadata": {
        "id": "pUAqPkLnG_Kk"
      },
      "execution_count": null,
      "outputs": []
    },
    {
      "cell_type": "markdown",
      "source": [
        "## TartanAviation-vision"
      ],
      "metadata": {
        "id": "cF04rAKeI3nl"
      }
    },
    {
      "cell_type": "code",
      "source": [
        "!cd /content/TartanAviation/vision"
      ],
      "metadata": {
        "id": "EaaxZ99nHcRE"
      },
      "execution_count": null,
      "outputs": []
    },
    {
      "cell_type": "code",
      "source": [
        "!python /content/TartanAviation/vision/download.py --save_dir /content/gdrive/MyDrive/datasets/TartanAviation/vision --option Sample"
      ],
      "metadata": {
        "id": "fU6UkXYVIAfk"
      },
      "execution_count": null,
      "outputs": []
    },
    {
      "cell_type": "code",
      "source": [
        "!python /content/TartanAviation/vision/download.py --save_dir /content/gdrive/MyDrive/datasets/TartanAviation/vision --option Sample --extract_frames"
      ],
      "metadata": {
        "id": "HPIU8LXQIZfs"
      },
      "execution_count": null,
      "outputs": []
    },
    {
      "cell_type": "code",
      "source": [
        "!ls -lh /content/gdrive/MyDrive/datasets/TartanAviation/vision/\n",
        "!ls -lh /content/gdrive/MyDrive/datasets/TartanAviation/vision/1_2023-02-22-15-21-49/"
      ],
      "metadata": {
        "colab": {
          "base_uri": "https://localhost:8080/"
        },
        "id": "8He8ZG5tIfGC",
        "outputId": "d458728b-2fbc-45bf-aedb-d19c2b8c417d"
      },
      "execution_count": null,
      "outputs": [
        {
          "output_type": "stream",
          "name": "stdout",
          "text": [
            "total 79K\n",
            "drwx------ 3 root root 4.0K Oct 20 10:24 1_2023-02-22-15-21-49\n",
            "-rw------- 1 root root  11K Jul 23 12:43 dataloader.py\n",
            "drwx------ 2 root root 4.0K Jul 23 14:08 downloaded_recordings\n",
            "-rw------- 1 root root 7.2K Jul 23 12:43 download.py\n",
            "-rw------- 1 root root 6.0K Jul 23 12:43 progress.py\n",
            "drwx------ 2 root root 4.0K Jul 23 12:49 __pycache__\n",
            "-rw------- 1 root root 3.4K Jul 23 12:43 README.md\n",
            "drwx------ 2 root root 4.0K Jul 23 12:43 recording\n",
            "-rw------- 1 root root  35K Jul 23 12:43 weather_stats.csv\n",
            "total 2.0G\n",
            "-rw------- 1 root root  16K Aug 26  2023 1_2023-02-22-15-21-49_acft_sink.pkl\n",
            "-rw------- 1 root root  37K Aug 26  2023 1_2023-02-22-15-21-49_labels.zip\n",
            "-rw------- 1 root root 890M Aug 26  2023 1_2023-02-22-15-21-49.mp4\n",
            "drwx------ 2 root root 4.0K Oct 20 10:29 1_2023-02-22-15-21-49_sink\n",
            "-rw------- 1 root root  234 Aug 26  2023 1_2023-02-22-15-21-49_sink_adsb.pkl\n",
            "-rw------- 1 root root 1.1G Aug 26  2023 1_2023-02-22-15-21-49_sink_verified.avi\n",
            "-rw------- 1 root root 266K Aug 26  2023 1_2023-02-22-15-21-49_subtitle.srt\n"
          ]
        }
      ]
    },
    {
      "cell_type": "markdown",
      "source": [
        "## TartanAviation-adsb"
      ],
      "metadata": {
        "id": "SMCjG1kUI_7o"
      }
    },
    {
      "cell_type": "code",
      "source": [
        "!ls -lh /content/gdrive/MyDrive/datasets/TartanAviation/adsb/kbtp/raw/2022/"
      ],
      "metadata": {
        "colab": {
          "base_uri": "https://localhost:8080/"
        },
        "id": "krNpHswRI_Vm",
        "outputId": "3b92b9a2-3602-40ba-d784-5d1059d7739c"
      },
      "execution_count": null,
      "outputs": [
        {
          "output_type": "stream",
          "name": "stdout",
          "text": [
            "total 700M\n",
            "-rw------- 1 root root 700M Oct 20 11:25 2022.zip\n"
          ]
        }
      ]
    },
    {
      "cell_type": "code",
      "source": [
        "!mkdir -p /content/adsb/kbtp/raw/2022"
      ],
      "metadata": {
        "id": "NGw276zOXXuo"
      },
      "execution_count": null,
      "outputs": []
    },
    {
      "cell_type": "code",
      "source": [
        "%cd /content/gdrive/MyDrive/datasets/TartanAviation/adsb/kbtp/raw/2022\n",
        "!unzip 2022.zip -d /content/adsb/kbtp/raw/2022/"
      ],
      "metadata": {
        "id": "BxFcR4L1M97W"
      },
      "execution_count": null,
      "outputs": []
    },
    {
      "cell_type": "code",
      "source": [
        "# Please install OpenAI SDK first: `pip3 install openai`\n",
        "\n",
        "from openai import OpenAI\n",
        "\n",
        "from google.colab import userdata\n",
        "\n",
        "api_key=userdata.get(\"DEEPSEEK_API_KEY\")\n",
        "\n",
        "client = OpenAI(api_key=api_key, base_url=\"https://api.deepseek.com\")"
      ],
      "metadata": {
        "id": "XFuwjFqfZmf9"
      },
      "execution_count": null,
      "outputs": []
    },
    {
      "cell_type": "markdown",
      "source": [
        "## CELL1"
      ],
      "metadata": {
        "id": "vQBif4KYNftf"
      }
    },
    {
      "cell_type": "code",
      "source": [
        "# Cell 1: Conceptual Modifications - Aviation Data Definitions\n",
        "\n",
        "import torch\n",
        "import numpy as np\n",
        "import os\n",
        "import glob\n",
        "import av\n",
        "import json\n",
        "import torch.nn as nn\n",
        "import torch.optim as optim\n",
        "from torch.utils.data import DataLoader, TensorDataset\n",
        "from transformers import AutoVideoProcessor, AutoModel\n",
        "from tqdm.auto import tqdm\n",
        "import logging\n",
        "import datetime\n",
        "import pytz\n",
        "logging.basicConfig(level=logging.INFO, format='%(asctime)s %(levelname)s')\n",
        "\n",
        "\n",
        "\n",
        "class AgentConfig:\n",
        "    LLM_MODEL_NAME: str = \"deepseek-reasoner\"\n",
        "    CLASS_LABELS = [\n",
        "        \"airplane landing\",\n",
        "        \"airplane takeoff\",\n",
        "        \"airport ground operations\",\n",
        "        \"in-flight cruise\",\n",
        "        \"emergency landing\",\n",
        "        \"pre-flight check/maintenance\",\n",
        "        \"en-route cruise\",\n",
        "        \"climb phase\",\n",
        "        \"descent phase\",\n",
        "        \"holding pattern\"\n",
        "    ]\n",
        "\n",
        "# Define num_classes globally\n",
        "num_classes = len(AgentConfig.CLASS_LABELS)\n",
        "\n",
        "# --- FIX: CLASSIFIER_SAVE_PATH moved to global scope ---\n",
        "CLASSIFIER_SAVE_PATH = \"classifier_head_trained_on_tartan_aviation_sample.pth\"\n",
        "\n",
        "AIRPORTS = {\n",
        "    \"CYUL\": {\"name\": \"Montreal-Trudeau International\", \"lat\": 45.4706, \"lon\": -73.7408, \"elevation_ft\": 118},\n",
        "    \"LFPG\": {\"name\": \"Paris-Charles de Gaulle\", \"lat\": 49.0097, \"lon\": 2.5479, \"elevation_ft\": 392},\n",
        "}\n",
        "\n",
        "AIRCRAFT_PERFORMANCE = {\n",
        "    \"Boeing777_300ER\": {\n",
        "        \"cruise_speed_knots\": 490,\n",
        "        \"fuel_burn_kg_per_hour\": 7000,\n",
        "        \"max_range_nm\": 7900,\n",
        "        \"climb_rate_fpm\": 2500,\n",
        "        \"descent_rate_fpm\": 2000,\n",
        "        \"typical_cruise_altitude_ft\": 37000,\n",
        "        \"fuel_capacity_kg\": 145000\n",
        "    }\n",
        "}\n",
        "\n",
        "hf_repo = \"facebook/vjepa2-vitg-fpc64-256\"\n",
        "EXTRACTED_FEATURES_DIR = \"/content/gdrive/MyDrive/datasets/TartanAviation_VJEPA_Features/\"\n",
        "\n",
        "TOTAL_FLATTENED_VJEPA_DIM = 2048 * 1408\n",
        "\n",
        "CONCEPTUAL_PLDM_LATENT_DIM = 1024\n",
        "\n",
        "latent_dim_pldm = CONCEPTUAL_PLDM_LATENT_DIM\n",
        "action_dim = 8\n",
        "\n",
        "def load_and_process_video(video_path, processor_instance, model_instance, device_instance, num_frames_to_sample=16):\n",
        "    \"\"\"\n",
        "    Loads a video, samples frames, and extracts V-JEPA features.\n",
        "    Returns extracted features (torch.Tensor, shape like [1, 2048, 1408]) and the frames.\n",
        "    Does NOT flatten the V-JEPA output here, keeping it as model's raw output.\n",
        "    \"\"\"\n",
        "    frames = []\n",
        "    if not os.path.exists(video_path):\n",
        "        logging.error(f\"ERROR: Video file '{video_path}' not found.\")\n",
        "        return None, None\n",
        "    try:\n",
        "        container = av.open(video_path)\n",
        "        total_frames_in_video = container.streams.video[0].frames\n",
        "        sampling_interval = max(1, total_frames_in_video // num_frames_to_sample)\n",
        "        logging.info(f\"Total frames in video: {total_frames_in_video}\")\n",
        "        logging.info(f\"Sampling interval: {sampling_interval} frames\")\n",
        "\n",
        "        for i, frame in enumerate(container.decode(video=0)):\n",
        "            if len(frames) >= num_frames_to_sample:\n",
        "                break\n",
        "            if i % sampling_interval == 0:\n",
        "                img = frame.to_rgb().to_ndarray()\n",
        "                frames.append(img)\n",
        "\n",
        "        if not frames:\n",
        "            logging.error(f\"ERROR: No frames could be loaded from '{video_path}'.\")\n",
        "            return None, None\n",
        "        elif len(frames) < num_frames_to_sample:\n",
        "            logging.warning(f\"WARNING: Only {len(frames)} frames loaded. Requested: {num_frames_to_sample}.\")\n",
        "\n",
        "        inputs = processor_instance(videos=list(frames), return_tensors=\"pt\")\n",
        "        inputs = {k: v.to(device_instance) for k, v in inputs.items()}\n",
        "\n",
        "        with torch.no_grad():\n",
        "            features = model_instance(**inputs).last_hidden_state\n",
        "\n",
        "        logging.info(f\"Successfully extracted V-JEPA features with raw shape: {features.shape}\")\n",
        "        return features, frames\n",
        "\n",
        "    except av.FFmpegError as e:\n",
        "        logging.error(f\"Error loading video with PyAV: {e}\")\n",
        "        logging.error(\"This might indicate an issue with the video file itself or PyAV installation.\")\n",
        "        return None, None\n",
        "    except Exception as e:\n",
        "        logging.error(f\"An unexpected error occurred: {e}\")\n",
        "        logging.error(\"Ensure 'av' library is installed (`pip install av`) and video file is not corrupt.\")\n",
        "        return None, None\n",
        "\n",
        "class ClassifierHead(nn.Module):\n",
        "    def __init__(self, input_dim, num_classes):\n",
        "        super().__init__()\n",
        "        self.fc1 = nn.Linear(input_dim, 256)\n",
        "        self.relu = nn.ReLU()\n",
        "        self.dropout = nn.Dropout(0.3)\n",
        "        self.fc2 = nn.Linear(256, num_classes)\n",
        "\n",
        "    def forward(self, x):\n",
        "        return self.fc2(self.dropout(self.relu(self.fc1(x))))\n",
        "\n",
        "class LatentDynamicsPredictor(torch.nn.Module):\n",
        "    def __init__(self, latent_dim, action_dim):\n",
        "        super().__init__()\n",
        "        self.layers = torch.nn.Sequential(\n",
        "            nn.Linear(latent_dim + action_dim, 256),\n",
        "            nn.ReLU(),\n",
        "            nn.Linear(256, latent_dim)\n",
        "        )\n",
        "\n",
        "    def forward(self, latent_state, action):\n",
        "        combined_input = torch.cat([latent_state, action], dim=-1)\n",
        "        predicted_next_latent_state = self.layers(combined_input)\n",
        "        return predicted_next_latent_state\n",
        "\n",
        "class LatentProjector_old(nn.Module):\n",
        "    def __init__(self, input_dim, output_dim):\n",
        "        super().__init__()\n",
        "        self.projector = nn.Linear(input_dim, output_dim)\n",
        "        self.relu = nn.ReLU()\n",
        "\n",
        "    def forward(self, x):\n",
        "        return self.relu(self.projector(x))\n",
        "\n",
        "\n",
        "class LatentProjector(nn.Module):\n",
        "    def __init__(self, input_dim=4, output_dim=1024):\n",
        "        super().__init__()\n",
        "        self.projector = nn.Linear(input_dim, output_dim)\n",
        "        self.relu = nn.ReLU()\n",
        "\n",
        "\n",
        "\n",
        "print(\"\\n--- Instantiating Models and Optimizers ---\")\n",
        "model = AutoModel.from_pretrained(hf_repo)\n",
        "processor = AutoVideoProcessor.from_pretrained(hf_repo)\n",
        "\n",
        "device = torch.device(\"cuda\" if torch.cuda.is_available() else \"cpu\")\n",
        "model.to(device)\n",
        "\n",
        "latent_projector = LatentProjector(TOTAL_FLATTENED_VJEPA_DIM, CONCEPTUAL_PLDM_LATENT_DIM)\n",
        "latent_projector.to(device)\n",
        "\n",
        "predictor = LatentDynamicsPredictor(latent_dim_pldm, action_dim)\n",
        "predictor.to(device)\n",
        "optimizer_pldm = torch.optim.Adam(list(predictor.parameters()) + list(latent_projector.parameters()), lr=0.001)\n",
        "\n",
        "classifier = ClassifierHead(input_dim=1408, num_classes=num_classes)\n",
        "classifier.to(device)\n",
        "\n",
        "print(f\"Models instantiated and moved to {device}.\")\n",
        "print(\"\\nCell 1 setup complete for conceptual flight planning.\")"
      ],
      "metadata": {
        "id": "qHCiY0vlNkDz"
      },
      "execution_count": null,
      "outputs": []
    },
    {
      "cell_type": "markdown",
      "source": [
        "## CELL2"
      ],
      "metadata": {
        "id": "TSFr8YI2N4QU"
      }
    },
    {
      "cell_type": "code",
      "source": [
        "#Cell 2: Core Execution Feature Extraction, Classifier Training & Inference, LLM Interaction, and PLDM Training/Planning\n",
        "# This cell assumes Cell 1 has been successfully executed in the current session.\n",
        "# All objects (model, processor, classifier, predictor, device, optimizer_pldm)\n",
        "# and all function definitions (load_and_process_video, ClassifierHead, LatentDynamicsPredictor)\n",
        "# are expected to be available from Cell 1's execution.\n",
        "import os\n",
        "import logging\n",
        "import torch\n",
        "import json\n",
        "from google.colab import drive\n",
        "from tqdm.auto import tqdm\n",
        "import torch.optim as optim\n",
        "from torch.utils.data import DataLoader, TensorDataset\n",
        "import datetime\n",
        "import pytz\n",
        "\n",
        "#Mounting Google Drive\n",
        "print(\"\\n--- Cell 2: Mounting Google Drive for dataset access ---\")\n",
        "drive.mount('/content/gdrive')\n",
        "print(\"Google Drive mounted.\")\n",
        "\n",
        "print(f\"Checking for extracted features directory: {EXTRACTED_FEATURES_DIR}\")\n",
        "if not os.path.exists(EXTRACTED_FEATURES_DIR):\n",
        "    logging.error(f\"ERROR: Extracted features directory '{EXTRACTED_FEATURES_DIR}' not found. Please create it and upload V-JEPA features.\")\n",
        "    exit()\n",
        "else:\n",
        "    print(f\"Extracted features directory found at {EXTRACTED_FEATURES_DIR}\")\n",
        "\n",
        "# Part 1: Load and process airplane-landing.mp4 for initial observation\n",
        "print(f\"\\n--- Cell 2: Part 1 - Loading actual video '/content/gdrive/MyDrive/datasets/TartanAviation_VJEPA_Features/airplane-landing.mp4' for feature extraction ---\")\n",
        "flight_video_path = '/content/gdrive/MyDrive/datasets/TartanAviation_VJEPA_Features/airplane-landing.mp4'\n",
        "# Use the defined load_and_process_video helper function. It now returns features and frames.\n",
        "video_features_for_inference_raw, frames_for_pldm_planning = load_and_process_video(flight_video_path, processor, model, device_instance=device)\n",
        "\n",
        "# -- CRITICAL: Process raw V-JEPA features to match ClassifierHead's expected input_dim --\n",
        "if video_features_for_inference_raw is not None:\n",
        "    # V-JEPA output shape is typically [1, 2048, 1408] (Batch, Channels, Height * Width if 1D)\n",
        "    # Your old code pooled it as squeeze(0).mean(dim=0).unsqueeze(0), which resulted in [1, 1408] for classifier.\n",
        "    # So, extracted_embedding_dim should be 1408 for the classifier.\n",
        "    pooled_features_for_classifier = video_features_for_inference_raw.squeeze(0).mean(dim=0).unsqueeze(0)\n",
        "    extracted_embedding_dim_for_classifier = pooled_features_for_classifier.shape[-1]\n",
        "    logging.info(f\"Dynamically determined extracted_embedding_dim for ClassifierHead: {extracted_embedding_dim_for_classifier}\")\n",
        "else:\n",
        "    pooled_features_for_classifier = None\n",
        "    extracted_embedding_dim_for_classifier = -1\n",
        "    logging.error(\"Failed to extract video features for classifier. Exiting Cell 2.\")\n",
        "    exit()\n",
        "\n",
        "# Part 2: Classifier Training\n",
        "print(f\"\\n--- Cell 2: Part 2 - Starting Classifier Training ---\")\n",
        "print(f\"Attempting to load real V-JEPA features for classifier training or generate synthetic data.\")\n",
        "print(f\"Using device for classifier training: {device}\")\n",
        "\n",
        "try:\n",
        "    # Re-initialize classifier with the correct, dynamically determined input_dim\n",
        "    classifier = ClassifierHead(input_dim=extracted_embedding_dim_for_classifier, num_classes=num_classes)\n",
        "    classifier.to(device)\n",
        "\n",
        "    train_features_list = []\n",
        "    train_labels_list = []\n",
        "\n",
        "    map_file_path = os.path.join(EXTRACTED_FEATURES_DIR, \"feature_label_map.json\")\n",
        "    if not os.path.exists(map_file_path):\n",
        "        logging.warning(f\"Feature-label map file '{map_file_path}' not found. Generating synthetic data.\")\n",
        "        feature_label_map = {}\n",
        "    else:\n",
        "        with open(map_file_path, 'r') as f:\n",
        "            feature_label_map = json.load(f)\n",
        "\n",
        "    if not feature_label_map:\n",
        "        logging.warning(f\"Feature-label map at {map_file_path} is empty. Generating synthetic data.\")\n",
        "        num_training_samples = 2_000_000\n",
        "        # Synthetic data generation uses the dynamically determined input_dim\n",
        "        train_features = torch.rand(num_training_samples, extracted_embedding_dim_for_classifier)\n",
        "        train_labels = torch.randint(0, num_classes, (num_training_samples,))\n",
        "        train_loader = DataLoader(TensorDataset(train_features, train_labels), batch_size=32, shuffle=True)\n",
        "        val_loader = None\n",
        "        print(f\"Loaded {num_training_samples} SYNTHETIC features for training.\")\n",
        "    else:\n",
        "        for item in tqdm(feature_label_map, desc=\"Loading real V-JEPA features\"):\n",
        "            feature_path = item['feature_path']\n",
        "            label_idx = item['label_idx']\n",
        "            try:\n",
        "                if not os.path.isabs(feature_path):\n",
        "                    feature_path = os.path.join(EXTRACTED_FEATURES_DIR, feature_path)\n",
        "\n",
        "                if not os.path.exists(feature_path):\n",
        "                    logging.warning(f\"Feature file not found at {feature_path}. Skipping.\")\n",
        "                    continue\n",
        "\n",
        "                feature = torch.load(feature_path, map_location=device)\n",
        "\n",
        "                # Match your working code's pooling/squashing logic to get [1408] dim\n",
        "                if feature.ndim == 3:\n",
        "                    feature = feature.squeeze(0).mean(dim=0)\n",
        "                elif feature.ndim == 2:\n",
        "                    if feature.shape[0] == 1 and feature.shape[1] == 1408:\n",
        "                        feature = feature.squeeze(0)\n",
        "                    elif feature.shape[1] == 1408:\n",
        "                        feature = feature.mean(dim=0)\n",
        "                    else:\n",
        "                        feature = feature.flatten()\n",
        "                elif feature.ndim == 1:\n",
        "                    pass\n",
        "                else:\n",
        "                    logging.warning(f\"Skipping malformed feature from {feature_path}. Unexpected dimensions: {feature.ndim}\")\n",
        "                    continue\n",
        "\n",
        "                # Final check after processing. Should be 1D with 1408 elements.\n",
        "                if feature.shape[0] != extracted_embedding_dim_for_classifier:\n",
        "                    logging.warning(f\"Skipping feature at {feature_path}. Dimension mismatch: expected {extracted_embedding_dim_for_classifier}, got {feature.shape[0]}.\")\n",
        "                    continue\n",
        "\n",
        "                train_features_list.append(feature)\n",
        "                train_labels_list.append(label_idx)\n",
        "\n",
        "            except Exception as e:\n",
        "                logging.error(f\"Error loading feature from {feature_path}: {e}. Skipping.\")\n",
        "\n",
        "        if train_features_list:\n",
        "            train_features = torch.stack(train_features_list).to(device)\n",
        "            train_labels = torch.tensor(train_labels_list).to(device)\n",
        "            num_training_samples = len(train_features)\n",
        "            print(f\"Loaded {num_training_samples} REAL V-JEPA features for training.\")\n",
        "\n",
        "            if num_training_samples < 2:\n",
        "                print(\"WARNING: Only 1 real V-JEPA feature loaded. Training may be unstable. Consider more data.\")\n",
        "                train_loader = DataLoader(TensorDataset(train_features, train_labels), batch_size=1, shuffle=True)\n",
        "                val_loader = None\n",
        "            else:\n",
        "                dataset_size = len(train_features)\n",
        "                train_size = int(0.8 * dataset_size)\n",
        "                val_size = dataset_size - train_size\n",
        "\n",
        "                if val_size == 0 and train_size > 0:\n",
        "                    train_size = dataset_size\n",
        "                    train_dataset_real = TensorDataset(train_features, train_labels)\n",
        "                    val_dataset_real = None\n",
        "                else:\n",
        "                    train_dataset_real, val_dataset_real = torch.utils.data.random_split(\n",
        "                        TensorDataset(train_features, train_labels), [train_size, val_size]\n",
        "                    )\n",
        "                train_loader = DataLoader(train_dataset_real, batch_size=32, shuffle=True)\n",
        "                val_loader = DataLoader(val_dataset_real, batch_size=32, shuffle=False) if val_dataset_real else None\n",
        "                print(f\"Training on {len(train_dataset_real)} samples, Validation on {len(val_dataset_real) if val_dataset_real else 0} samples.\")\n",
        "        else:\n",
        "            logging.error(\"No real V-JEPA features could be loaded from map file. Generating synthetic data as fallback.\")\n",
        "            num_training_samples = 2_000_000\n",
        "            train_features = torch.rand(num_training_samples, extracted_embedding_dim_for_classifier)\n",
        "            train_labels = torch.randint(0, num_classes, (num_training_samples,))\n",
        "            train_loader = DataLoader(TensorDataset(train_features, train_labels), batch_size=32, shuffle=True)\n",
        "            val_loader = None\n",
        "            print(f\"Loaded {num_training_samples} SYNTHETIC features for training as fallback.\")\n",
        "\n",
        "    criterion = torch.nn.CrossEntropyLoss()\n",
        "    optimizer_classifier = torch.optim.Adam(classifier.parameters(), lr=0.001)\n",
        "\n",
        "    num_epochs = 20\n",
        "    for epoch in range(num_epochs):\n",
        "        classifier.train()\n",
        "        running_loss = 0.0\n",
        "        for inputs, labels in tqdm(train_loader, desc=f\"Epoch {epoch+1}/{num_epochs}\"):\n",
        "            inputs, labels = inputs.to(device), labels.to(device)\n",
        "\n",
        "            optimizer_classifier.zero_grad()\n",
        "            outputs = classifier(inputs)\n",
        "            loss = criterion(outputs, labels)\n",
        "            loss.backward()\n",
        "            optimizer_classifier.step()\n",
        "            running_loss += loss.item()\n",
        "\n",
        "        epoch_loss = running_loss / len(train_loader.dataset)\n",
        "\n",
        "        val_loss = 0.0\n",
        "        if val_loader and len(val_loader.dataset) > 0:\n",
        "            classifier.eval()\n",
        "            with torch.no_grad():\n",
        "                for inputs, labels in val_loader:\n",
        "                    inputs, labels = inputs.to(device), labels.to(device)\n",
        "                    outputs = classifier(inputs)\n",
        "                    loss = criterion(outputs, labels)\n",
        "                    val_loss += loss.item()\n",
        "            val_loss /= len(val_loader.dataset)\n",
        "            logging.info(f\"Epoch {epoch+1}/{num_epochs}, Train Loss: {epoch_loss:.4f}, Val Loss: {val_loss:.4f}\")\n",
        "        else:\n",
        "            logging.info(f\"Epoch {epoch+1}/{num_epochs}, Train Loss: {epoch_loss:.4f}\")\n",
        "            print(\"No validation data available or validation dataset is empty.\")\n",
        "\n",
        "\n",
        "    print(\"\\n--- Classifier Training Complete ---\")\n",
        "    torch.save(classifier.state_dict(), CLASSIFIER_SAVE_PATH)\n",
        "    print(f\"Classifier saved to: {CLASSIFIER_SAVE_PATH}\")\n",
        "except Exception as e:\n",
        "    logging.error(f\"Error during classifier training: {e}\")\n",
        "\n",
        "\n",
        "print(\"Cell 2 execution complete.\")"
      ],
      "metadata": {
        "id": "SLxI7dIUN73d"
      },
      "execution_count": null,
      "outputs": []
    },
    {
      "cell_type": "code",
      "source": [
        "# Import OpenAI client for DeepSeek API\n",
        "from openai import OpenAI\n",
        "from google.colab import userdata\n",
        "\n",
        "# --- DeepSeek API Setup ---\n",
        "api_key = userdata.get(\"DEEPSEEK_API_KEY\")\n",
        "\n",
        "if not api_key:\n",
        "    print(\"Error: DEEPSEEK_API_KEY not found in userdata.\")\n",
        "    print(\"Please set your DeepSeek API key in Colab secrets.\")\n",
        "    exit()\n",
        "\n",
        "client = OpenAI(api_key=api_key, base_url=\"https://api.deepseek.com\")\n",
        "MODEL = \"deepseek-reasoner\""
      ],
      "metadata": {
        "id": "omhJ0G26T2Vi"
      },
      "execution_count": null,
      "outputs": []
    },
    {
      "cell_type": "code",
      "source": [
        "\n",
        "#Part 3: Classification Inference and DEEPSEEK LLM Interaction\n",
        "print(\"\\n--- Cell 2: Part 3 - Starting V-JEPA Feature-Driven Classification Inference and DEEPSEEK LLM Interaction ---\")\n",
        "if pooled_features_for_classifier is None:\n",
        "    logging.error(\"ERROR: Cannot perform classifier inference as 'pooled_features_for_classifier' is None.\")\n",
        "else:\n",
        "    try:\n",
        "        pooled_features_for_inference_on_device = pooled_features_for_classifier.to(device)\n",
        "\n",
        "        classifier.load_state_dict(torch.load(CLASSIFIER_SAVE_PATH, map_location=device))\n",
        "        logging.info(f\"Classifier weights loaded from: {CLASSIFIER_SAVE_PATH}\")\n",
        "\n",
        "        classifier.eval()\n",
        "        with torch.no_grad():\n",
        "            logits = classifier(pooled_features_for_inference_on_device)\n",
        "            probabilities = torch.softmax(logits, dim=1)\n",
        "\n",
        "        predicted_class_idx = torch.argmax(probabilities, dim=1).item()\n",
        "        predicted_confidence = probabilities[0, predicted_class_idx].item()\n",
        "\n",
        "\n",
        "        # --- FIX: Use AgentConfig.CLASS_LABELS ---\n",
        "        predicted_label = AgentConfig.CLASS_LABELS[predicted_class_idx]\n",
        "\n",
        "        llm_input_description = \"\"\n",
        "        if predicted_label == \"airplane landing\":\n",
        "            llm_input_description = \"The visual system detected an airplane landing.\"\n",
        "        elif predicted_label == \"airplane takeoff\":\n",
        "            llm_input_description = \"The visual system detected an airplane takeoff.\"\n",
        "        elif predicted_label == \"airport ground operations\":\n",
        "            llm_input_description = \"The visual system detected airport ground operations.\"\n",
        "        elif predicted_label == \"in-flight cruise\":\n",
        "            llm_input_description = \"The visual system detected an airplane in-flight cruise.\"\n",
        "        elif predicted_label == \"emergency landing\":\n",
        "            llm_input_description = \"The visual system detected a possible emergency landing.\"\n",
        "        elif predicted_label == \"pre-flight check/maintenance\":\n",
        "            llm_input_description = \"The visual system detected pre-flight check or maintenance activity.\"\n",
        "        else:\n",
        "            llm_input_description = \"The visual system detected an unrecognised flight activity.\"\n",
        "\n",
        "        llm_input_description += f\" (Confidence: {predicted_confidence:.2f})\"\n",
        "\n",
        "        print(f\"\\n--- AI Agent's Understanding from Classifier ---\")\n",
        "        print(f\"**Primary Classification (Predicted by AI):** '{predicted_label}' {llm_input_description.split('Confidence:')[1].strip()}\")\n",
        "        print(f\"**Description for LLM:** {llm_input_description}\")\n",
        "        print(f\"Note: This classification's accuracy depends heavily on the quality and size of the real dataset used for classifier training.\")\n",
        "\n",
        "        print(\"\\n--- Engaging DEEPSEEK LLM for Further Reasoning ---\")\n",
        "        try:\n",
        "            llm_model = AgentConfig.LLM_MODEL_NAME\n",
        "\n",
        "            prompt_for_deepseek = f\"\"\"\n",
        "                  You are an AI assistant for flight planning operations.\n",
        "                  Current visual observation: {llm_input_description}\n",
        "                  Current time (EST): {datetime.datetime.now(pytz.timezone('EST')).strftime('%Y-%m-%d %H:%M:%S EST')}\n",
        "\n",
        "                  Based on this visual observation, provide a concise operational assessment relevant to flight planning.\n",
        "                  If the observation seems random or uncertain, state that. Do not add any conversational filler.\n",
        "                  \"\"\"\n",
        "\n",
        "\n",
        "            deepseek_response = client.chat.completions.create(\n",
        "            model=llm_model,\n",
        "            messages=[\n",
        "                {\"role\": \"system\", \"content\": \"You are a helpful assistant\"},\n",
        "                {\"role\": \"user\", \"content\": prompt_for_deepseek},\n",
        "            ],\n",
        "            stream=False\n",
        "            )\n",
        "\n",
        "\n",
        "            print(\"\\n--- DEEPSEEK LLM Response ---\")\n",
        "            if deepseek_response.choices and deepseek_response.choices[0].message.content:\n",
        "                print(deepseek_response.choices[0].message.content)\n",
        "                print(\"--- DEEPSEEK LLM Response - END ---\")\n",
        "                print('\\n')\n",
        "            else:\n",
        "\n",
        "                print(\"DEEPSEEK LLM did not provide a text response or cannot provide one.\")\n",
        "                # Check if there's an error attribute before trying to print it\n",
        "                if hasattr(deepseek_response, 'error') and deepseek_response.error:\n",
        "                     print(f\"LLM Error: {deepseek_response.error}\")\n",
        "                # Check if there's a prompt_feedback attribute before trying to print it\n",
        "                if hasattr(deepseek_response, 'prompt_feedback') and deepseek_response.prompt_feedback:\n",
        "                    print(f\"Prompt Feedback: {deepseek_response.prompt_feedback}\")\n",
        "\n",
        "\n",
        "        except Exception as llm_e:\n",
        "            logging.error(f\"Error interacting with DEEPSEEK LLM: {llm_e}\")\n",
        "            logging.error(\"Ensure your DEEPSEEK_API_KEY is correctly set in Colab Secrets.\")\n",
        "\n",
        "    except Exception as e:\n",
        "        logging.error(f\"Error during classification inference or overall Cell 2 execution: {e}\")\n",
        "\n",
        "print(f\"The V-JEPA features (shape: {pooled_features_for_classifier.shape}) are the core input that a trained classifier would learn from.\")\n",
        "print(f\"Current time in EST: {datetime.datetime.now(pytz.timezone('EST')).strftime('%Y-%m-%d %H:%M:%S EST')}\")\n",
        "\n",
        "print(\"\\nCell 2 execution complete.\")"
      ],
      "metadata": {
        "colab": {
          "base_uri": "https://localhost:8080/"
        },
        "id": "MLIE_3nWY0Px",
        "outputId": "ad438ed0-6ec5-44fa-f582-4c1311fb2c00"
      },
      "execution_count": null,
      "outputs": [
        {
          "output_type": "stream",
          "name": "stdout",
          "text": [
            "\n",
            "--- Cell 2: Part 3 - Starting V-JEPA Feature-Driven Classification Inference and DEEPSEEK LLM Interaction ---\n",
            "\n",
            "--- AI Agent's Understanding from Classifier ---\n",
            "**Primary Classification (Predicted by AI):** 'airplane landing' 1.00)\n",
            "**Description for LLM:** The visual system detected an airplane landing. (Confidence: 1.00)\n",
            "Note: This classification's accuracy depends heavily on the quality and size of the real dataset used for classifier training.\n",
            "\n",
            "--- Engaging DEEPSEEK LLM for Further Reasoning ---\n",
            "\n",
            "--- DEEPSEEK LLM Response ---\n",
            "Observation confirms active landing operations, which may affect arrival sequencing and runway availability for flight planning.\n",
            "--- DEEPSEEK LLM Response - END ---\n",
            "\n",
            "\n",
            "The V-JEPA features (shape: torch.Size([1, 1408])) are the core input that a trained classifier would learn from.\n",
            "Current time in EST: 2025-10-20 15:29:23 EST\n",
            "\n",
            "Cell 2 execution complete.\n"
          ]
        }
      ]
    },
    {
      "cell_type": "markdown",
      "source": [
        "## Cell 3"
      ],
      "metadata": {
        "id": "5pbmu_WwOlyd"
      }
    },
    {
      "cell_type": "code",
      "source": [
        "import pandas as pd\n",
        "import torch\n",
        "import torch.nn as nn\n",
        "import os\n",
        "from torch import optim\n",
        "from torch.utils.data import TensorDataset, DataLoader\n",
        "import numpy as np\n",
        "from tqdm import tqdm\n",
        "import random\n",
        "import logging\n",
        "import psutil\n",
        "import gc\n",
        "\n",
        "# Set logging\n",
        "logging.basicConfig(level=logging.INFO, format='%(asctime)s %(levelname)s:%(message)s')\n",
        "\n",
        "# Constants\n",
        "STATE_DIM = 4      # Lat, Lon, Altitude, Speed\n",
        "LATENT_DIM = 16\n",
        "ACTION_DIM = 8\n",
        "device = torch.device(\"cuda\" if torch.cuda.is_available() else \"cpu\")\n",
        "print(f\"Using device: {device}\")\n",
        "\n",
        "# Latent Projector\n",
        "class LatentProjector(nn.Module):\n",
        "    def __init__(self, state_dim=STATE_DIM, latent_dim=LATENT_DIM):\n",
        "        super().__init__()\n",
        "        self.encoder_net = nn.Sequential(\n",
        "            nn.Linear(state_dim, 64),\n",
        "            nn.ReLU(),\n",
        "            nn.Linear(64, latent_dim)\n",
        "        )\n",
        "\n",
        "    def forward(self, x):\n",
        "        if x.dim() == 1:\n",
        "            x = x.unsqueeze(0)\n",
        "        return self.encoder_net(x)\n",
        "\n",
        "latent_projector = LatentProjector(state_dim=STATE_DIM, latent_dim=LATENT_DIM).to(device)\n",
        "latent_projector.eval()\n",
        "print(\"LatentProjector instance:\", latent_projector)\n",
        "\n",
        "# Latent Dynamics Predictor\n",
        "class LatentDynamicsPredictor(nn.Module):\n",
        "    def __init__(self, latent_dim=LATENT_DIM, action_dim=ACTION_DIM):\n",
        "        super().__init__()\n",
        "        self.fc1 = nn.Linear(latent_dim + action_dim, 64)\n",
        "        self.fc2 = nn.Linear(64, latent_dim)\n",
        "\n",
        "    def forward(self, latent, action):\n",
        "        x = torch.cat([latent, action], dim=-1)\n",
        "        x = torch.relu(self.fc1(x))\n",
        "        z_tp1 = self.fc2(x)\n",
        "        return z_tp1\n",
        "\n",
        "predictor = LatentDynamicsPredictor(latent_dim=LATENT_DIM, action_dim=ACTION_DIM).to(device)\n",
        "optimizer_pldm = optim.Adam(list(predictor.parameters()) + list(latent_projector.parameters()), lr=1e-3)\n",
        "print(\"Predictor instance:\", predictor)\n",
        "\n",
        "# Training Function\n",
        "def train_latent_dynamics_model(predictor_model, optimizer, training_data_loader, epochs=5):\n",
        "    predictor_model.train()\n",
        "    criterion = torch.nn.functional.mse_loss\n",
        "    print(\"\\n--- Training Latent Dynamics Predictor for Conceptual Real Flights (Causal Focus) ---\")\n",
        "    for epoch in range(epochs):\n",
        "        total_loss = 0\n",
        "        for batch_idx, (latent_s_t, action_t, latent_s_t_plus_1) in tqdm(\n",
        "            enumerate(training_data_loader),\n",
        "            total=len(training_data_loader),\n",
        "            desc=f\"Epoch {epoch+1}/{epochs}\"\n",
        "        ):\n",
        "            latent_s_t, action_t, latent_s_t_plus_1 = (\n",
        "                latent_s_t.to(device),\n",
        "                action_t.to(device),\n",
        "                latent_s_t_plus_1.to(device)\n",
        "            )\n",
        "            predicted_z_t_plus_1 = predictor_model(latent_s_t, action_t)\n",
        "            loss = criterion(predicted_z_t_plus_1, latent_s_t_plus_1)\n",
        "            optimizer.zero_grad()\n",
        "            loss.backward()\n",
        "            optimizer.step()\n",
        "            total_loss += loss.item()\n",
        "        print(f\"Epoch {epoch+1}/{epochs}, Average Loss: {total_loss / len(training_data_loader):.6f}\")\n",
        "    print(\"--- Training Complete ---\")\n",
        "\n",
        "# Data Loading Function\n",
        "def load_real_dynamics_data(device, adsb_dir=\"/content/adsb/kbtp/raw/2022\", num_trajectories=10, max_traj_per_file=100):\n",
        "    \"\"\"\n",
        "    Loads ADS-B trajectories and transforms them into (latent_s_t, action_t, latent_s_t_plus_1) tuples.\n",
        "    \"\"\"\n",
        "    data = []\n",
        "    trajectory_files = []\n",
        "\n",
        "    try:\n",
        "        for root, _, files in os.walk(adsb_dir):\n",
        "            for file in files:\n",
        "                if file.endswith('.csv'):\n",
        "                    trajectory_files.append(os.path.join(root, file))\n",
        "    except Exception as e:\n",
        "        logging.critical(f\"Failed to walk directory {adsb_dir}. Error: {e}\")\n",
        "        return []\n",
        "\n",
        "    if not trajectory_files:\n",
        "        logging.warning(f\"No CSV files found in {adsb_dir}. Falling back to synthetic data.\")\n",
        "        return []\n",
        "\n",
        "    print(f\"\\nAttempting to load REAL ADS-B data...\")\n",
        "    print(f\"Found {len(trajectory_files)} CSV files. Limiting to {num_trajectories} files for demo speed.\")\n",
        "\n",
        "    trajectory_files = trajectory_files[:num_trajectories]\n",
        "\n",
        "    for file in tqdm(trajectory_files, desc=\"Processing Trajectories\"):\n",
        "        try:\n",
        "            print(f\"\\nProcessing {file}\")\n",
        "            print(f\"Memory usage before: {psutil.virtual_memory().percent}%\")\n",
        "            if os.path.getsize(file) == 0:\n",
        "                logging.warning(f\"Skipping {file}: Empty file.\")\n",
        "                continue\n",
        "\n",
        "            df = pd.read_csv(file, on_bad_lines='skip', engine='python')\n",
        "            required_cols = ['Lat', 'Lon', 'Altitude', 'Speed']\n",
        "            time_col = 'Time'\n",
        "\n",
        "            available_cols = df.columns.tolist()\n",
        "            print(f\"Columns in {file}: {available_cols}\")\n",
        "            if not all(col in available_cols for col in required_cols):\n",
        "                logging.warning(f\"Skipping {file}: Missing columns. Required: {required_cols}, Available: {available_cols}\")\n",
        "                continue\n",
        "\n",
        "            for col in required_cols:\n",
        "                df[col] = pd.to_numeric(df[col], errors='coerce')\n",
        "\n",
        "            df.dropna(subset=required_cols, inplace=True)\n",
        "            print(f\"Rows after cleaning {file}: {len(df)}\")\n",
        "\n",
        "            if df.empty or len(df) < 2:\n",
        "                logging.warning(f\"Skipping {file}: Fewer than 2 valid rows after cleaning.\")\n",
        "                continue\n",
        "\n",
        "            # Clean Date\n",
        "            def clean_date(x):\n",
        "                try:\n",
        "                    if isinstance(x, (list, tuple)):\n",
        "                        return '-'.join(str(i).zfill(2) if idx > 0 else str(i) for idx, i in enumerate(x))\n",
        "                    if isinstance(x, str):\n",
        "                        if x.startswith('['):\n",
        "                            x = eval(x)\n",
        "                            return '-'.join(str(i).zfill(2) if idx > 0 else str(i) for idx, i in enumerate(x))\n",
        "                        if '-' in x or '/' in x:\n",
        "                            return pd.to_datetime(x, errors='coerce').strftime('%Y-%m-%d')\n",
        "                        return x\n",
        "                    return str(x)\n",
        "                except Exception as e:\n",
        "                    logging.warning(f\"Error cleaning Date in {file}: {e}\")\n",
        "                    return 'unknown'\n",
        "\n",
        "            # Clean Time\n",
        "            def clean_time(x):\n",
        "                try:\n",
        "                    if isinstance(x, (list, tuple)):\n",
        "                        return ':'.join(str(i).zfill(2) for i in x)\n",
        "                    if isinstance(x, str):\n",
        "                        if x.startswith('['):\n",
        "                            x = eval(x)\n",
        "                            return ':'.join(str(i).zfill(2) for i in x)\n",
        "                        if ':' in x:\n",
        "                            return x\n",
        "                        return x\n",
        "                    return str(x)\n",
        "                except Exception as e:\n",
        "                    logging.warning(f\"Error cleaning Time in {file}: {e}\")\n",
        "                    return '00:00:00'\n",
        "\n",
        "            if 'Date' in df.columns:\n",
        "                df['Date'] = df['Date'].apply(clean_date)\n",
        "                print(f\"Cleaned Date sample in {file}:\\n\", df['Date'].head(5).to_list())\n",
        "            if 'Time' in df.columns:\n",
        "                df['Time'] = df['Time'].apply(clean_time)\n",
        "                print(f\"Cleaned Time sample in {file}:\\n\", df['Time'].head(5).to_list())\n",
        "                df['Time'] = pd.to_datetime(df['Time'], format='%H:%M:%S', errors='coerce')\n",
        "\n",
        "            if 'Tail' in df.columns and 'Date' in df.columns:\n",
        "                df['traj_id'] = df['Tail'].astype(str) + '_' + df['Date'].astype(str)\n",
        "                df['traj_id'] = df['traj_id'].fillna('missing_' + pd.Series(range(len(df)), index=df.index).astype(str))\n",
        "            else:\n",
        "                logging.warning(f\"Missing 'Tail' or 'Date' in {file}. Using index as traj_id.\")\n",
        "                df['traj_id'] = pd.Series(range(len(df)), index=df.index).astype(str)\n",
        "\n",
        "            print(f\"Unique trajectories in {file}: {df['traj_id'].nunique()}\")\n",
        "            print(\"Rows per traj_id:\\n\", df.groupby('traj_id').size().describe())\n",
        "\n",
        "            # Limit trajectories to manage memory\n",
        "            traj_ids = df['traj_id'].unique()[:max_traj_per_file]\n",
        "            print(f\"Limiting to {len(traj_ids)} trajectories in {file}\")\n",
        "\n",
        "            latent_projector.eval()\n",
        "\n",
        "            for traj_id in traj_ids:\n",
        "                traj = df[df['traj_id'] == traj_id].sort_values(time_col)\n",
        "                #print(f\"Trajectory {traj_id} in {file}: {len(traj)} rows\")\n",
        "                if len(traj) < 2:\n",
        "                    logging.warning(f\"Skipping trajectory {traj_id} in {file}: Fewer than 2 points.\")\n",
        "                    continue\n",
        "\n",
        "                for i in range(len(traj) - 1):\n",
        "                    try:\n",
        "                        row_t = traj.iloc[i][required_cols]\n",
        "                        row_tp1 = traj.iloc[i+1][required_cols]\n",
        "                        if not all(row_t.apply(lambda x: isinstance(x, (int, float)) and not pd.isna(x))) or \\\n",
        "                           not all(row_tp1.apply(lambda x: isinstance(x, (int, float)) and not pd.isna(x))):\n",
        "                            logging.warning(f\"Non-numeric data in trajectory {traj_id} at index {i}: {row_t.values}, {row_tp1.values}\")\n",
        "                            continue\n",
        "                        state_t = torch.tensor(row_t.values.astype(np.float64), dtype=torch.float32, device=device)\n",
        "                        state_tp1 = torch.tensor(row_tp1.values.astype(np.float64), dtype=torch.float32, device=device)\n",
        "                        action = torch.tensor([\n",
        "                            state_tp1[3] - state_t[3],  # Delta Speed\n",
        "                            state_tp1[2] - state_t[2],  # Delta Altitude\n",
        "                            0.0, 0.0, 0.0, 0.0, 0.0, 0.0\n",
        "                        ], dtype=torch.float32, device=device)\n",
        "                        with torch.no_grad():\n",
        "                            projected_state_t = latent_projector(state_t).squeeze(0).cpu()\n",
        "                            projected_state_tp1 = latent_projector(state_tp1).squeeze(0).cpu()\n",
        "                        data.append((projected_state_t, action.cpu(), projected_state_tp1))\n",
        "                    except Exception as e:\n",
        "                        logging.warning(f\"Error processing trajectory {traj_id} in {file}: {e}\")\n",
        "\n",
        "            del df\n",
        "            gc.collect()\n",
        "            print(f\"Memory usage after {file}: {psutil.virtual_memory().percent}%\")\n",
        "        except Exception as e:\n",
        "            logging.warning(f\"Error reading {file}: {e}\")\n",
        "\n",
        "    print(f\"Loaded {len(data)} real dynamics samples from {len(trajectory_files)} files.\")\n",
        "    return data\n",
        "\n",
        "# Synthetic Data Fallback\n",
        "def generate_synthetic_data(num_trajectories=1000, trajectory_length=20):\n",
        "    latent_projector.eval()\n",
        "    synthetic_data = []\n",
        "    for _ in range(num_trajectories):\n",
        "        base_state = torch.tensor([45.47, -73.74, 37000.0, 490.0], dtype=torch.float32, device=device)\n",
        "        base_state += torch.randn(STATE_DIM, device=device) * 0.1\n",
        "        current_state = base_state.clone()\n",
        "        for _ in range(trajectory_length):\n",
        "            delta_v = random.uniform(-10.0, 10.0)\n",
        "            delta_alt = random.uniform(-50.0, 50.0)\n",
        "            action = torch.tensor([delta_v, delta_alt, 0.0, 0.0, 0.0, 0.0, 0.0, 0.0],\n",
        "                                  dtype=torch.float32, device='cpu').detach()\n",
        "            next_state = current_state.clone()\n",
        "            next_state[3] += delta_v\n",
        "            next_state[2] += delta_alt\n",
        "            with torch.no_grad():\n",
        "                projected_state_t = latent_projector(current_state.to(device)).squeeze(0).cpu().detach()\n",
        "                projected_state_tp1 = latent_projector(next_state.to(device)).squeeze(0).cpu().detach()\n",
        "            synthetic_data.append((projected_state_t, action, projected_state_tp1))\n",
        "            current_state = next_state.clone()\n",
        "    return synthetic_data\n",
        "\n",
        "# Execution Block\n",
        "FILE_LIMIT = 20\n",
        "print(\"\\n--- Starting AGI Demo Pipeline (Cell 3) ---\")\n",
        "dynamics_training_data = load_real_dynamics_data(device, num_trajectories=FILE_LIMIT, max_traj_per_file=100)\n",
        "if not dynamics_training_data:\n",
        "    print(f\"--- CRITICAL WARNING: NO REAL DATA LOADED from {FILE_LIMIT} files. CREATING SYNTHETIC FALLBACK. ---\")\n",
        "    dynamics_training_data = generate_synthetic_data(num_trajectories=1000)\n",
        "    print(f\"Successfully generated {len(dynamics_training_data)} synthetic causal samples for demonstration.\")\n",
        "if dynamics_training_data:\n",
        "    print(\"\\nPreparing DataLoader for batch training...\")\n",
        "    z_t_list, a_t_list, z_tp1_list = zip(*dynamics_training_data)\n",
        "    Z_T = torch.stack(z_t_list)\n",
        "    A_T = torch.stack(a_t_list)\n",
        "    Z_TP1 = torch.stack(z_tp1_list)\n",
        "    dataset = TensorDataset(Z_T, A_T, Z_TP1)\n",
        "    BATCH_SIZE = 64\n",
        "    dynamics_dataloader = DataLoader(dataset, batch_size=BATCH_SIZE, shuffle=True)\n",
        "    print(f\"Total batches for training: {len(dynamics_dataloader)}\")\n",
        "    train_latent_dynamics_model(predictor, optimizer_pldm, dynamics_dataloader, epochs=5)\n",
        "else:\n",
        "    print(\"FATAL ERROR: No data (real or synthetic) could be prepared. Training aborted.\")\n",
        "print(\"\\nCell 3 execution complete.\")\n",
        "print(\"Cell 3 completed. Predictor and latent_projector defined.\")"
      ],
      "metadata": {
        "colab": {
          "base_uri": "https://localhost:8080/"
        },
        "id": "_ZnPRKSe8GnR",
        "outputId": "027bc052-3770-4ec6-877e-3ddf0fcf5a89"
      },
      "execution_count": null,
      "outputs": [
        {
          "output_type": "stream",
          "name": "stdout",
          "text": [
            "Using device: cuda\n",
            "LatentProjector instance: LatentProjector(\n",
            "  (encoder_net): Sequential(\n",
            "    (0): Linear(in_features=4, out_features=64, bias=True)\n",
            "    (1): ReLU()\n",
            "    (2): Linear(in_features=64, out_features=16, bias=True)\n",
            "  )\n",
            ")\n",
            "Predictor instance: LatentDynamicsPredictor(\n",
            "  (fc1): Linear(in_features=24, out_features=64, bias=True)\n",
            "  (fc2): Linear(in_features=64, out_features=16, bias=True)\n",
            ")\n",
            "\n",
            "--- Starting AGI Demo Pipeline (Cell 3) ---\n",
            "\n",
            "Attempting to load REAL ADS-B data...\n",
            "Found 246 CSV files. Limiting to 20 files for demo speed.\n"
          ]
        },
        {
          "output_type": "stream",
          "name": "stderr",
          "text": [
            "\rProcessing Trajectories:   0%|          | 0/20 [00:00<?, ?it/s]"
          ]
        },
        {
          "output_type": "stream",
          "name": "stdout",
          "text": [
            "\n",
            "Processing /content/adsb/kbtp/raw/2022/05-13-22/1.csv\n",
            "Memory usage before: 3.0%\n",
            "Columns in /content/adsb/kbtp/raw/2022/05-13-22/1.csv: ['ID', 'Time', 'Date', 'Altitude', 'Speed', 'Heading', 'Lat', 'Lon', 'Age', 'Range', 'Bearing', 'Tail', 'AltisGNSS']\n",
            "Rows after cleaning /content/adsb/kbtp/raw/2022/05-13-22/1.csv: 126665\n",
            "Cleaned Date sample in /content/adsb/kbtp/raw/2022/05-13-22/1.csv:\n",
            " ['2022-05-13', '2022-05-13', '2022-05-13', '2022-05-13', '2022-05-13']\n",
            "Cleaned Time sample in /content/adsb/kbtp/raw/2022/05-13-22/1.csv:\n",
            " ['06:05:56', '06:05:57', '06:05:59', '06:05:59', '06:06:01']\n",
            "Unique trajectories in /content/adsb/kbtp/raw/2022/05-13-22/1.csv: 413\n",
            "Rows per traj_id:\n",
            " count     413.000000\n",
            "mean      306.694915\n",
            "std       870.596904\n",
            "min         1.000000\n",
            "25%        90.000000\n",
            "50%       132.000000\n",
            "75%       200.000000\n",
            "max      9031.000000\n",
            "dtype: float64\n",
            "Limiting to 100 trajectories in /content/adsb/kbtp/raw/2022/05-13-22/1.csv\n"
          ]
        },
        {
          "output_type": "stream",
          "name": "stderr",
          "text": [
            "\rProcessing Trajectories:   5%|▌         | 1/20 [01:16<24:11, 76.42s/it]"
          ]
        },
        {
          "output_type": "stream",
          "name": "stdout",
          "text": [
            "Memory usage after /content/adsb/kbtp/raw/2022/05-13-22/1.csv: 4.1%\n",
            "\n",
            "Processing /content/adsb/kbtp/raw/2022/03-12-22/1.csv\n",
            "Memory usage before: 4.1%\n",
            "Columns in /content/adsb/kbtp/raw/2022/03-12-22/1.csv: ['ID', 'Time', 'Date', 'Altitude', 'Speed', 'Heading', 'Lat', 'Lon', 'Age', 'Range', 'Bearing', 'Tail', 'AltisGNSS']\n",
            "Rows after cleaning /content/adsb/kbtp/raw/2022/03-12-22/1.csv: 11208\n",
            "Cleaned Date sample in /content/adsb/kbtp/raw/2022/03-12-22/1.csv:\n",
            " ['2022-03-12', '2022-03-12', '2022-03-12', '2022-03-12', '2022-03-12']\n",
            "Cleaned Time sample in /content/adsb/kbtp/raw/2022/03-12-22/1.csv:\n",
            " ['07:08:25.238', '07:08:27.143', '07:08:28.939', '07:08:29.058', '07:08:29.058']\n",
            "Unique trajectories in /content/adsb/kbtp/raw/2022/03-12-22/1.csv: 168\n",
            "Rows per traj_id:\n",
            " count    168.000000\n",
            "mean      66.714286\n",
            "std       62.286007\n",
            "min        1.000000\n",
            "25%       15.750000\n",
            "50%       67.000000\n",
            "75%       89.250000\n",
            "max      530.000000\n",
            "dtype: float64\n",
            "Limiting to 100 trajectories in /content/adsb/kbtp/raw/2022/03-12-22/1.csv\n"
          ]
        },
        {
          "output_type": "stream",
          "name": "stderr",
          "text": [
            "WARNING:root:Skipping trajectory N17105_2022-03-12 in /content/adsb/kbtp/raw/2022/03-12-22/1.csv: Fewer than 2 points.\n",
            "WARNING:root:Skipping trajectory C-GTUF_2022-03-12 in /content/adsb/kbtp/raw/2022/03-12-22/1.csv: Fewer than 2 points.\n",
            "WARNING:root:Skipping trajectory N411YX_2022-03-12 in /content/adsb/kbtp/raw/2022/03-12-22/1.csv: Fewer than 2 points.\n",
            "WARNING:root:Skipping trajectory C-GFCI_2022-03-12 in /content/adsb/kbtp/raw/2022/03-12-22/1.csv: Fewer than 2 points.\n",
            "WARNING:root:Skipping trajectory C-GJWO_2022-03-12 in /content/adsb/kbtp/raw/2022/03-12-22/1.csv: Fewer than 2 points.\n",
            "WARNING:root:Skipping trajectory N504AE_2022-03-12 in /content/adsb/kbtp/raw/2022/03-12-22/1.csv: Fewer than 2 points.\n",
            "Processing Trajectories:  10%|█         | 2/20 [01:27<11:25, 38.09s/it]"
          ]
        },
        {
          "output_type": "stream",
          "name": "stdout",
          "text": [
            "Memory usage after /content/adsb/kbtp/raw/2022/03-12-22/1.csv: 4.0%\n",
            "\n",
            "Processing /content/adsb/kbtp/raw/2022/06-06-22/1.csv\n",
            "Memory usage before: 4.0%\n",
            "Columns in /content/adsb/kbtp/raw/2022/06-06-22/1.csv: ['ID', 'Time', 'Date', 'Altitude', 'Speed', 'Heading', 'Lat', 'Lon', 'Age', 'Range', 'Bearing', 'Tail', 'AltisGNSS']\n",
            "Rows after cleaning /content/adsb/kbtp/raw/2022/06-06-22/1.csv: 258261\n",
            "Cleaned Date sample in /content/adsb/kbtp/raw/2022/06-06-22/1.csv:\n",
            " ['2022-06-06', '2022-06-06', '2022-06-06', '2022-06-06', '2022-06-06']\n",
            "Cleaned Time sample in /content/adsb/kbtp/raw/2022/06-06-22/1.csv:\n",
            " ['06:03:19', '06:03:20', '06:03:21', '06:03:23', '06:03:24']\n",
            "Unique trajectories in /content/adsb/kbtp/raw/2022/06-06-22/1.csv: 863\n",
            "Rows per traj_id:\n",
            " count      863.000000\n",
            "mean       299.259560\n",
            "std        707.961323\n",
            "min          1.000000\n",
            "25%         76.500000\n",
            "50%        192.000000\n",
            "75%        335.500000\n",
            "max      13278.000000\n",
            "dtype: float64\n",
            "Limiting to 100 trajectories in /content/adsb/kbtp/raw/2022/06-06-22/1.csv\n"
          ]
        },
        {
          "output_type": "stream",
          "name": "stderr",
          "text": [
            "WARNING:root:Skipping trajectory N988AT_2022-06-06 in /content/adsb/kbtp/raw/2022/06-06-22/1.csv: Fewer than 2 points.\n",
            "Processing Trajectories:  15%|█▌        | 3/20 [02:19<12:35, 44.44s/it]"
          ]
        },
        {
          "output_type": "stream",
          "name": "stdout",
          "text": [
            "Memory usage after /content/adsb/kbtp/raw/2022/06-06-22/1.csv: 4.0%\n",
            "\n",
            "Processing /content/adsb/kbtp/raw/2022/04-14-22/2.csv\n",
            "Memory usage before: 4.0%\n",
            "Columns in /content/adsb/kbtp/raw/2022/04-14-22/2.csv: ['ID', 'Time', 'Date', 'Altitude', 'Speed', 'Heading', 'Lat', 'Lon', 'Age', 'Range', 'Bearing', 'Tail', 'AltisGNSS']\n",
            "Rows after cleaning /content/adsb/kbtp/raw/2022/04-14-22/2.csv: 617\n",
            "Cleaned Date sample in /content/adsb/kbtp/raw/2022/04-14-22/2.csv:\n",
            " ['2022-04-14', '2022-04-14', '2022-04-14', '2022-04-14', '2022-04-14']\n",
            "Cleaned Time sample in /content/adsb/kbtp/raw/2022/04-14-22/2.csv:\n",
            " ['17:49:23.137', '17:49:23.137', '17:49:23.137', '17:49:23.137', '17:49:23.137']\n",
            "Unique trajectories in /content/adsb/kbtp/raw/2022/04-14-22/2.csv: 6\n",
            "Rows per traj_id:\n",
            " count      6.000000\n",
            "mean     102.833333\n",
            "std      103.902679\n",
            "min        1.000000\n",
            "25%       39.000000\n",
            "50%       90.000000\n",
            "75%      111.750000\n",
            "max      295.000000\n",
            "dtype: float64\n",
            "Limiting to 6 trajectories in /content/adsb/kbtp/raw/2022/04-14-22/2.csv\n"
          ]
        },
        {
          "output_type": "stream",
          "name": "stderr",
          "text": [
            "WARNING:root:Skipping trajectory N560BG_2022-04-14 in /content/adsb/kbtp/raw/2022/04-14-22/2.csv: Fewer than 2 points.\n",
            "Processing Trajectories:  20%|██        | 4/20 [02:21<07:18, 27.42s/it]"
          ]
        },
        {
          "output_type": "stream",
          "name": "stdout",
          "text": [
            "Memory usage after /content/adsb/kbtp/raw/2022/04-14-22/2.csv: 4.0%\n",
            "\n",
            "Processing /content/adsb/kbtp/raw/2022/04-14-22/1.csv\n",
            "Memory usage before: 4.0%\n",
            "Columns in /content/adsb/kbtp/raw/2022/04-14-22/1.csv: ['ID', 'Time', 'Date', 'Altitude', 'Speed', 'Heading', 'Lat', 'Lon', 'Age', 'Range', 'Bearing', 'Tail', 'AltisGNSS']\n",
            "Rows after cleaning /content/adsb/kbtp/raw/2022/04-14-22/1.csv: 2693\n",
            "Cleaned Date sample in /content/adsb/kbtp/raw/2022/04-14-22/1.csv:\n",
            " ['2022-04-14', '2022-04-14', '2022-04-14', '2022-04-14', '2022-04-14']\n",
            "Cleaned Time sample in /content/adsb/kbtp/raw/2022/04-14-22/1.csv:\n",
            " ['08:57:08.527', '08:57:09.616', '08:57:10.986', '08:57:12.037', '08:57:13.154']\n",
            "Unique trajectories in /content/adsb/kbtp/raw/2022/04-14-22/1.csv: 24\n",
            "Rows per traj_id:\n",
            " count     24.000000\n",
            "mean     112.208333\n",
            "std      152.939311\n",
            "min        1.000000\n",
            "25%       12.250000\n",
            "50%       62.500000\n",
            "75%      108.500000\n",
            "max      529.000000\n",
            "dtype: float64\n",
            "Limiting to 24 trajectories in /content/adsb/kbtp/raw/2022/04-14-22/1.csv\n"
          ]
        },
        {
          "output_type": "stream",
          "name": "stderr",
          "text": [
            "WARNING:root:Skipping trajectory N410LG_2022-04-14 in /content/adsb/kbtp/raw/2022/04-14-22/1.csv: Fewer than 2 points.\n",
            "Processing Trajectories:  25%|██▌       | 5/20 [02:25<04:48, 19.26s/it]WARNING:root:Skipping /content/adsb/kbtp/raw/2022/07-06-22/1.csv: Empty file.\n",
            "WARNING:root:Skipping /content/adsb/kbtp/raw/2022/08-26-22/1.csv: Empty file.\n"
          ]
        },
        {
          "output_type": "stream",
          "name": "stdout",
          "text": [
            "Memory usage after /content/adsb/kbtp/raw/2022/04-14-22/1.csv: 4.0%\n",
            "\n",
            "Processing /content/adsb/kbtp/raw/2022/07-06-22/1.csv\n",
            "Memory usage before: 4.0%\n",
            "\n",
            "Processing /content/adsb/kbtp/raw/2022/08-26-22/1.csv\n",
            "Memory usage before: 4.0%\n",
            "\n",
            "Processing /content/adsb/kbtp/raw/2022/04-16-22/1.csv\n",
            "Memory usage before: 4.0%\n",
            "Columns in /content/adsb/kbtp/raw/2022/04-16-22/1.csv: ['ID', 'Time', 'Date', 'Altitude', 'Speed', 'Heading', 'Lat', 'Lon', 'Age', 'Range', 'Bearing', 'Tail', 'AltisGNSS']\n",
            "Rows after cleaning /content/adsb/kbtp/raw/2022/04-16-22/1.csv: 2055\n",
            "Cleaned Date sample in /content/adsb/kbtp/raw/2022/04-16-22/1.csv:\n",
            " ['2022-04-16', '2022-04-16', '2022-04-16', '2022-04-16', '2022-04-16']\n",
            "Cleaned Time sample in /content/adsb/kbtp/raw/2022/04-16-22/1.csv:\n",
            " ['07:54:53.879', '07:54:55.05', '07:54:56.049', '07:54:57.681', '07:54:58.827']\n",
            "Unique trajectories in /content/adsb/kbtp/raw/2022/04-16-22/1.csv: 33\n",
            "Rows per traj_id:\n",
            " count     33.000000\n",
            "mean      62.272727\n",
            "std       49.563894\n",
            "min        1.000000\n",
            "25%       37.000000\n",
            "50%       55.000000\n",
            "75%       77.000000\n",
            "max      213.000000\n",
            "dtype: float64\n",
            "Limiting to 33 trajectories in /content/adsb/kbtp/raw/2022/04-16-22/1.csv\n"
          ]
        },
        {
          "output_type": "stream",
          "name": "stderr",
          "text": [
            "WARNING:root:Skipping trajectory N535EA_2022-04-16 in /content/adsb/kbtp/raw/2022/04-16-22/1.csv: Fewer than 2 points.\n",
            "WARNING:root:Skipping trajectory N500AE_2022-04-16 in /content/adsb/kbtp/raw/2022/04-16-22/1.csv: Fewer than 2 points.\n",
            "Processing Trajectories:  40%|████      | 8/20 [02:29<01:39,  8.32s/it]"
          ]
        },
        {
          "output_type": "stream",
          "name": "stdout",
          "text": [
            "Memory usage after /content/adsb/kbtp/raw/2022/04-16-22/1.csv: 4.0%\n",
            "\n",
            "Processing /content/adsb/kbtp/raw/2022/10-05-22/1.csv\n",
            "Memory usage before: 4.0%\n",
            "Columns in /content/adsb/kbtp/raw/2022/10-05-22/1.csv: ['ID', 'Time', 'Date', 'Altitude', 'Speed', 'Heading', 'Lat', 'Lon', 'Age', 'Range', 'Bearing', 'Tail', 'AltisGNSS']\n",
            "Rows after cleaning /content/adsb/kbtp/raw/2022/10-05-22/1.csv: 217099\n",
            "Cleaned Date sample in /content/adsb/kbtp/raw/2022/10-05-22/1.csv:\n",
            " ['2022-10-05', '2022-10-05', '2022-10-05', '2022-10-05', '2022-10-05']\n",
            "Cleaned Time sample in /content/adsb/kbtp/raw/2022/10-05-22/1.csv:\n",
            " ['06:01:33', '06:01:34', '06:01:35', '06:01:37', '06:01:38']\n",
            "Unique trajectories in /content/adsb/kbtp/raw/2022/10-05-22/1.csv: 606\n",
            "Rows per traj_id:\n",
            " count     606.000000\n",
            "mean      358.249175\n",
            "std       931.561699\n",
            "min         1.000000\n",
            "25%        88.000000\n",
            "50%       160.000000\n",
            "75%       275.750000\n",
            "max      9435.000000\n",
            "dtype: float64\n",
            "Limiting to 100 trajectories in /content/adsb/kbtp/raw/2022/10-05-22/1.csv\n"
          ]
        },
        {
          "output_type": "stream",
          "name": "stderr",
          "text": [
            "\rProcessing Trajectories:  45%|████▌     | 9/20 [03:31<03:44, 20.43s/it]"
          ]
        },
        {
          "output_type": "stream",
          "name": "stdout",
          "text": [
            "Memory usage after /content/adsb/kbtp/raw/2022/10-05-22/1.csv: 4.0%\n",
            "\n",
            "Processing /content/adsb/kbtp/raw/2022/06-10-22/1.csv\n",
            "Memory usage before: 4.0%\n",
            "Columns in /content/adsb/kbtp/raw/2022/06-10-22/1.csv: ['ID', 'Time', 'Date', 'Altitude', 'Speed', 'Heading', 'Lat', 'Lon', 'Age', 'Range', 'Bearing', 'Tail', 'AltisGNSS']\n",
            "Rows after cleaning /content/adsb/kbtp/raw/2022/06-10-22/1.csv: 135797\n",
            "Cleaned Date sample in /content/adsb/kbtp/raw/2022/06-10-22/1.csv:\n",
            " ['2022-06-10', '2022-06-10', '2022-06-10', '2022-06-10', '2022-06-10']\n",
            "Cleaned Time sample in /content/adsb/kbtp/raw/2022/06-10-22/1.csv:\n",
            " ['06:17:16', '06:17:18', '06:17:19', '06:17:20', '06:17:22']\n",
            "Unique trajectories in /content/adsb/kbtp/raw/2022/06-10-22/1.csv: 422\n",
            "Rows per traj_id:\n",
            " count     422.000000\n",
            "mean      321.793839\n",
            "std       574.738183\n",
            "min         1.000000\n",
            "25%        71.750000\n",
            "50%       209.500000\n",
            "75%       355.250000\n",
            "max      6097.000000\n",
            "dtype: float64\n",
            "Limiting to 100 trajectories in /content/adsb/kbtp/raw/2022/06-10-22/1.csv\n"
          ]
        },
        {
          "output_type": "stream",
          "name": "stderr",
          "text": [
            "WARNING:root:Skipping trajectory N790FD_2022-06-10 in /content/adsb/kbtp/raw/2022/06-10-22/1.csv: Fewer than 2 points.\n",
            "Processing Trajectories:  50%|█████     | 10/20 [04:07<04:01, 24.12s/it]"
          ]
        },
        {
          "output_type": "stream",
          "name": "stdout",
          "text": [
            "Memory usage after /content/adsb/kbtp/raw/2022/06-10-22/1.csv: 4.0%\n",
            "\n",
            "Processing /content/adsb/kbtp/raw/2022/10-22-22/1.csv\n",
            "Memory usage before: 4.0%\n",
            "Columns in /content/adsb/kbtp/raw/2022/10-22-22/1.csv: ['ID', 'Time', 'Date', 'Altitude', 'Speed', 'Heading', 'Lat', 'Lon', 'Age', 'Range', 'Bearing', 'Tail', 'AltisGNSS']\n",
            "Rows after cleaning /content/adsb/kbtp/raw/2022/10-22-22/1.csv: 220177\n",
            "Cleaned Date sample in /content/adsb/kbtp/raw/2022/10-22-22/1.csv:\n",
            " ['2022-10-22', '2022-10-22', '2022-10-22', '2022-10-22', '2022-10-22']\n",
            "Cleaned Time sample in /content/adsb/kbtp/raw/2022/10-22-22/1.csv:\n",
            " ['06:01:36', '06:01:37', '06:01:38', '06:01:39', '06:01:40']\n",
            "Unique trajectories in /content/adsb/kbtp/raw/2022/10-22-22/1.csv: 611\n",
            "Rows per traj_id:\n",
            " count      611.000000\n",
            "mean       360.355155\n",
            "std        924.385776\n",
            "min          1.000000\n",
            "25%         90.500000\n",
            "50%        157.000000\n",
            "75%        274.000000\n",
            "max      10439.000000\n",
            "dtype: float64\n",
            "Limiting to 100 trajectories in /content/adsb/kbtp/raw/2022/10-22-22/1.csv\n"
          ]
        },
        {
          "output_type": "stream",
          "name": "stderr",
          "text": [
            "WARNING:root:Skipping trajectory N360DN_2022-10-22 in /content/adsb/kbtp/raw/2022/10-22-22/1.csv: Fewer than 2 points.\n",
            "Processing Trajectories:  55%|█████▌    | 11/20 [05:12<05:12, 34.68s/it]"
          ]
        },
        {
          "output_type": "stream",
          "name": "stdout",
          "text": [
            "Memory usage after /content/adsb/kbtp/raw/2022/10-22-22/1.csv: 4.1%\n",
            "\n",
            "Processing /content/adsb/kbtp/raw/2022/09-22-22/1.csv\n",
            "Memory usage before: 4.1%\n",
            "Columns in /content/adsb/kbtp/raw/2022/09-22-22/1.csv: ['ID', 'Time', 'Date', 'Altitude', 'Speed', 'Heading', 'Lat', 'Lon', 'Age', 'Range', 'Bearing', 'Tail', 'AltisGNSS']\n",
            "Rows after cleaning /content/adsb/kbtp/raw/2022/09-22-22/1.csv: 114349\n",
            "Cleaned Date sample in /content/adsb/kbtp/raw/2022/09-22-22/1.csv:\n",
            " ['2022-09-22', '2022-09-22', '2022-09-22', '2022-09-22', '2022-09-22']\n",
            "Cleaned Time sample in /content/adsb/kbtp/raw/2022/09-22-22/1.csv:\n",
            " ['06:00:05', '06:00:06', '06:00:07', '06:00:09', '06:00:10']\n",
            "Unique trajectories in /content/adsb/kbtp/raw/2022/09-22-22/1.csv: 568\n",
            "Rows per traj_id:\n",
            " count     568.000000\n",
            "mean      201.318662\n",
            "std       302.217657\n",
            "min         1.000000\n",
            "25%        72.000000\n",
            "50%       151.000000\n",
            "75%       245.250000\n",
            "max      4699.000000\n",
            "dtype: float64\n",
            "Limiting to 100 trajectories in /content/adsb/kbtp/raw/2022/09-22-22/1.csv\n"
          ]
        },
        {
          "output_type": "stream",
          "name": "stderr",
          "text": [
            "WARNING:root:Skipping trajectory N215JQ_2022-09-22 in /content/adsb/kbtp/raw/2022/09-22-22/1.csv: Fewer than 2 points.\n",
            "WARNING:root:Skipping trajectory N748FE_2022-09-22 in /content/adsb/kbtp/raw/2022/09-22-22/1.csv: Fewer than 2 points.\n",
            "Processing Trajectories:  60%|██████    | 12/20 [05:59<05:04, 38.05s/it]"
          ]
        },
        {
          "output_type": "stream",
          "name": "stdout",
          "text": [
            "Memory usage after /content/adsb/kbtp/raw/2022/09-22-22/1.csv: 4.1%\n",
            "\n",
            "Processing /content/adsb/kbtp/raw/2022/09-18-22/1.csv\n",
            "Memory usage before: 4.1%\n",
            "Columns in /content/adsb/kbtp/raw/2022/09-18-22/1.csv: ['ID', 'Time', 'Date', 'Altitude', 'Speed', 'Heading', 'Lat', 'Lon', 'Age', 'Range', 'Bearing', 'Tail', 'AltisGNSS']\n",
            "Rows after cleaning /content/adsb/kbtp/raw/2022/09-18-22/1.csv: 213715\n",
            "Cleaned Date sample in /content/adsb/kbtp/raw/2022/09-18-22/1.csv:\n",
            " ['2022-09-18', '2022-09-18', '2022-09-18', '2022-09-18', '2022-09-18']\n",
            "Cleaned Time sample in /content/adsb/kbtp/raw/2022/09-18-22/1.csv:\n",
            " ['06:00:03', '06:00:03', '06:00:06', '06:00:06', '06:00:09']\n",
            "Unique trajectories in /content/adsb/kbtp/raw/2022/09-18-22/1.csv: 719\n",
            "Rows per traj_id:\n",
            " count     719.000000\n",
            "mean      297.239221\n",
            "std       680.916187\n",
            "min         1.000000\n",
            "25%        91.000000\n",
            "50%       159.000000\n",
            "75%       281.000000\n",
            "max      8339.000000\n",
            "dtype: float64\n",
            "Limiting to 100 trajectories in /content/adsb/kbtp/raw/2022/09-18-22/1.csv\n"
          ]
        },
        {
          "output_type": "stream",
          "name": "stderr",
          "text": [
            "WARNING:root:Skipping trajectory N537JT_2022-09-18 in /content/adsb/kbtp/raw/2022/09-18-22/1.csv: Fewer than 2 points.\n",
            "Processing Trajectories:  65%|██████▌   | 13/20 [06:42<04:35, 39.36s/it]"
          ]
        },
        {
          "output_type": "stream",
          "name": "stdout",
          "text": [
            "Memory usage after /content/adsb/kbtp/raw/2022/09-18-22/1.csv: 4.1%\n",
            "\n",
            "Processing /content/adsb/kbtp/raw/2022/01-09-22/1.csv\n",
            "Memory usage before: 4.1%\n",
            "Columns in /content/adsb/kbtp/raw/2022/01-09-22/1.csv: ['ID', 'Time', 'Date', 'Altitude', 'Speed', 'Heading', 'Lat', 'Lon', 'Age', 'Range', 'Bearing', 'Tail', 'AltisGNSS']\n",
            "Rows after cleaning /content/adsb/kbtp/raw/2022/01-09-22/1.csv: 41542\n",
            "Cleaned Date sample in /content/adsb/kbtp/raw/2022/01-09-22/1.csv:\n",
            " ['2022-01-09', '2022-01-09', '2022-01-09', '2022-01-09', '2022-01-09']\n",
            "Cleaned Time sample in /content/adsb/kbtp/raw/2022/01-09-22/1.csv:\n",
            " ['06:59:59.053', '06:59:59.053', '06:59:59.053', '06:59:59.053', '06:59:59.053']\n",
            "Unique trajectories in /content/adsb/kbtp/raw/2022/01-09-22/1.csv: 347\n",
            "Rows per traj_id:\n",
            " count     347.000000\n",
            "mean      119.717579\n",
            "std       153.302134\n",
            "min         1.000000\n",
            "25%        61.500000\n",
            "50%        97.000000\n",
            "75%       148.500000\n",
            "max      2483.000000\n",
            "dtype: float64\n",
            "Limiting to 100 trajectories in /content/adsb/kbtp/raw/2022/01-09-22/1.csv\n"
          ]
        },
        {
          "output_type": "stream",
          "name": "stderr",
          "text": [
            "WARNING:root:Skipping trajectory C-FTOR_2022-01-09 in /content/adsb/kbtp/raw/2022/01-09-22/1.csv: Fewer than 2 points.\n",
            "WARNING:root:Skipping trajectory C-FYNS_2022-01-09 in /content/adsb/kbtp/raw/2022/01-09-22/1.csv: Fewer than 2 points.\n",
            "Processing Trajectories:  70%|███████   | 14/20 [07:05<03:28, 34.75s/it]"
          ]
        },
        {
          "output_type": "stream",
          "name": "stdout",
          "text": [
            "Memory usage after /content/adsb/kbtp/raw/2022/01-09-22/1.csv: 4.1%\n",
            "\n",
            "Processing /content/adsb/kbtp/raw/2022/06-25-22/1.csv\n",
            "Memory usage before: 4.1%\n",
            "Columns in /content/adsb/kbtp/raw/2022/06-25-22/1.csv: ['ID', 'Time', 'Date', 'Altitude', 'Speed', 'Heading', 'Lat', 'Lon', 'Age', 'Range', 'Bearing', 'Tail', 'AltisGNSS']\n",
            "Rows after cleaning /content/adsb/kbtp/raw/2022/06-25-22/1.csv: 214956\n",
            "Cleaned Date sample in /content/adsb/kbtp/raw/2022/06-25-22/1.csv:\n",
            " ['2022-06-25', '2022-06-25', '2022-06-25', '2022-06-25', '2022-06-25']\n",
            "Cleaned Time sample in /content/adsb/kbtp/raw/2022/06-25-22/1.csv:\n",
            " ['06:07:09', '06:07:10', '06:07:11', '06:07:12', '06:07:14']\n",
            "Unique trajectories in /content/adsb/kbtp/raw/2022/06-25-22/1.csv: 614\n",
            "Rows per traj_id:\n",
            " count     614.000000\n",
            "mean      350.091205\n",
            "std       688.155293\n",
            "min         1.000000\n",
            "25%        93.250000\n",
            "50%       185.000000\n",
            "75%       315.750000\n",
            "max      6626.000000\n",
            "dtype: float64\n",
            "Limiting to 100 trajectories in /content/adsb/kbtp/raw/2022/06-25-22/1.csv\n"
          ]
        },
        {
          "output_type": "stream",
          "name": "stderr",
          "text": [
            "\rProcessing Trajectories:  75%|███████▌  | 15/20 [07:45<03:01, 36.27s/it]"
          ]
        },
        {
          "output_type": "stream",
          "name": "stdout",
          "text": [
            "Memory usage after /content/adsb/kbtp/raw/2022/06-25-22/1.csv: 4.2%\n",
            "\n",
            "Processing /content/adsb/kbtp/raw/2022/03-24-22/1.csv\n",
            "Memory usage before: 4.2%\n",
            "Columns in /content/adsb/kbtp/raw/2022/03-24-22/1.csv: ['ID', 'Time', 'Date', 'Altitude', 'Speed', 'Heading', 'Lat', 'Lon', 'Age', 'Range', 'Bearing', 'Tail', 'AltisGNSS']\n",
            "Rows after cleaning /content/adsb/kbtp/raw/2022/03-24-22/1.csv: 97383\n",
            "Cleaned Date sample in /content/adsb/kbtp/raw/2022/03-24-22/1.csv:\n",
            " ['2022-03-24', '2022-03-24', '2022-03-24', '2022-03-24', '2022-03-24']\n",
            "Cleaned Time sample in /content/adsb/kbtp/raw/2022/03-24-22/1.csv:\n",
            " ['10:31:18.247', '10:31:19.897', '10:31:20.957', '10:31:22.398', '10:31:23.416']\n",
            "Unique trajectories in /content/adsb/kbtp/raw/2022/03-24-22/1.csv: 164\n",
            "Rows per traj_id:\n",
            " count      164.000000\n",
            "mean       593.798780\n",
            "std       1544.286613\n",
            "min          1.000000\n",
            "25%         62.750000\n",
            "50%        109.000000\n",
            "75%        226.250000\n",
            "max      10044.000000\n",
            "dtype: float64\n",
            "Limiting to 100 trajectories in /content/adsb/kbtp/raw/2022/03-24-22/1.csv\n"
          ]
        },
        {
          "output_type": "stream",
          "name": "stderr",
          "text": [
            "WARNING:root:Skipping trajectory N236AK_2022-03-24 in /content/adsb/kbtp/raw/2022/03-24-22/1.csv: Fewer than 2 points.\n",
            "Processing Trajectories:  80%|████████  | 16/20 [10:11<04:33, 68.28s/it]"
          ]
        },
        {
          "output_type": "stream",
          "name": "stdout",
          "text": [
            "Memory usage after /content/adsb/kbtp/raw/2022/03-24-22/1.csv: 4.2%\n",
            "\n",
            "Processing /content/adsb/kbtp/raw/2022/08-22-22/1.csv\n",
            "Memory usage before: 4.2%\n",
            "Columns in /content/adsb/kbtp/raw/2022/08-22-22/1.csv: ['ID', 'Time', 'Date', 'Altitude', 'Speed', 'Heading', 'Lat', 'Lon', 'Age', 'Range', 'Bearing', 'Tail', 'AltisGNSS']\n",
            "Rows after cleaning /content/adsb/kbtp/raw/2022/08-22-22/1.csv: 115998\n",
            "Cleaned Date sample in /content/adsb/kbtp/raw/2022/08-22-22/1.csv:\n",
            " ['2022-08-22', '2022-08-22', '2022-08-22', '2022-08-22', '2022-08-22']\n",
            "Cleaned Time sample in /content/adsb/kbtp/raw/2022/08-22-22/1.csv:\n",
            " ['06:00:04', '06:00:06', '06:00:07', '06:00:08', '06:00:08']\n",
            "Unique trajectories in /content/adsb/kbtp/raw/2022/08-22-22/1.csv: 635\n",
            "Rows per traj_id:\n",
            " count     635.000000\n",
            "mean      182.674016\n",
            "std       235.770104\n",
            "min         1.000000\n",
            "25%        66.500000\n",
            "50%       158.000000\n",
            "75%       240.000000\n",
            "max      4276.000000\n",
            "dtype: float64\n",
            "Limiting to 100 trajectories in /content/adsb/kbtp/raw/2022/08-22-22/1.csv\n"
          ]
        },
        {
          "output_type": "stream",
          "name": "stderr",
          "text": [
            "WARNING:root:Skipping trajectory N3753_2022-08-22 in /content/adsb/kbtp/raw/2022/08-22-22/1.csv: Fewer than 2 points.\n",
            "Processing Trajectories:  85%|████████▌ | 17/20 [10:41<02:50, 56.97s/it]"
          ]
        },
        {
          "output_type": "stream",
          "name": "stdout",
          "text": [
            "Memory usage after /content/adsb/kbtp/raw/2022/08-22-22/1.csv: 4.2%\n",
            "\n",
            "Processing /content/adsb/kbtp/raw/2022/01-04-22/1.csv\n",
            "Memory usage before: 4.2%\n",
            "Columns in /content/adsb/kbtp/raw/2022/01-04-22/1.csv: ['ID', 'Time', 'Date', 'Altitude', 'Speed', 'Heading', 'Lat', 'Lon', 'Age', 'Range', 'Bearing', 'Tail', 'AltisGNSS']\n",
            "Rows after cleaning /content/adsb/kbtp/raw/2022/01-04-22/1.csv: 167337\n",
            "Cleaned Date sample in /content/adsb/kbtp/raw/2022/01-04-22/1.csv:\n",
            " ['2022-01-04', '2022-01-04', '2022-01-04', '2022-01-04', '2022-01-04']\n",
            "Cleaned Time sample in /content/adsb/kbtp/raw/2022/01-04-22/1.csv:\n",
            " ['07:17:31.986', '07:17:33.851', '07:17:34.897', '07:17:35.391', '07:17:38.678']\n",
            "Unique trajectories in /content/adsb/kbtp/raw/2022/01-04-22/1.csv: 467\n",
            "Rows per traj_id:\n",
            " count      467.000000\n",
            "mean       358.323340\n",
            "std       1113.500846\n",
            "min          1.000000\n",
            "25%         71.000000\n",
            "50%        129.000000\n",
            "75%        213.500000\n",
            "max      10927.000000\n",
            "dtype: float64\n",
            "Limiting to 100 trajectories in /content/adsb/kbtp/raw/2022/01-04-22/1.csv\n"
          ]
        },
        {
          "output_type": "stream",
          "name": "stderr",
          "text": [
            "WARNING:root:Skipping trajectory C-GEZJ_2022-01-04 in /content/adsb/kbtp/raw/2022/01-04-22/1.csv: Fewer than 2 points.\n",
            "Processing Trajectories:  90%|█████████ | 18/20 [12:24<02:21, 70.55s/it]"
          ]
        },
        {
          "output_type": "stream",
          "name": "stdout",
          "text": [
            "Memory usage after /content/adsb/kbtp/raw/2022/01-04-22/1.csv: 4.3%\n",
            "\n",
            "Processing /content/adsb/kbtp/raw/2022/07-27-22/1.csv\n",
            "Memory usage before: 4.3%\n",
            "Columns in /content/adsb/kbtp/raw/2022/07-27-22/1.csv: ['ID', 'Time', 'Date', 'Altitude', 'Speed', 'Heading', 'Lat', 'Lon', 'Age', 'Range', 'Bearing', 'Tail', 'AltisGNSS']\n",
            "Rows after cleaning /content/adsb/kbtp/raw/2022/07-27-22/1.csv: 220436\n",
            "Cleaned Date sample in /content/adsb/kbtp/raw/2022/07-27-22/1.csv:\n",
            " ['2022-07-27', '2022-07-27', '2022-07-27', '2022-07-27', '2022-07-27']\n",
            "Cleaned Time sample in /content/adsb/kbtp/raw/2022/07-27-22/1.csv:\n",
            " ['06:00:04', '06:00:04', '06:00:05', '06:00:05', '06:00:06']\n",
            "Unique trajectories in /content/adsb/kbtp/raw/2022/07-27-22/1.csv: 755\n",
            "Rows per traj_id:\n",
            " count     755.000000\n",
            "mean      291.968212\n",
            "std       489.582206\n",
            "min         1.000000\n",
            "25%        93.500000\n",
            "50%       179.000000\n",
            "75%       321.000000\n",
            "max      7941.000000\n",
            "dtype: float64\n",
            "Limiting to 100 trajectories in /content/adsb/kbtp/raw/2022/07-27-22/1.csv\n"
          ]
        },
        {
          "output_type": "stream",
          "name": "stderr",
          "text": [
            "WARNING:root:Skipping trajectory N958NN_2022-07-27 in /content/adsb/kbtp/raw/2022/07-27-22/1.csv: Fewer than 2 points.\n",
            "Processing Trajectories:  95%|█████████▌| 19/20 [13:17<01:05, 65.25s/it]"
          ]
        },
        {
          "output_type": "stream",
          "name": "stdout",
          "text": [
            "Memory usage after /content/adsb/kbtp/raw/2022/07-27-22/1.csv: 4.3%\n",
            "\n",
            "Processing /content/adsb/kbtp/raw/2022/01-05-22/1.csv\n",
            "Memory usage before: 4.3%\n",
            "Columns in /content/adsb/kbtp/raw/2022/01-05-22/1.csv: ['ID', 'Time', 'Date', 'Altitude', 'Speed', 'Heading', 'Lat', 'Lon', 'Age', 'Range', 'Bearing', 'Tail', 'AltisGNSS']\n",
            "Rows after cleaning /content/adsb/kbtp/raw/2022/01-05-22/1.csv: 42410\n",
            "Cleaned Date sample in /content/adsb/kbtp/raw/2022/01-05-22/1.csv:\n",
            " ['2022-01-05', '2022-01-05', '2022-01-05', '2022-01-05', '2022-01-05']\n",
            "Cleaned Time sample in /content/adsb/kbtp/raw/2022/01-05-22/1.csv:\n",
            " ['08:25:17.644', '08:25:18.708', '08:25:20.733', '08:25:21.844', '08:25:21.844']\n",
            "Unique trajectories in /content/adsb/kbtp/raw/2022/01-05-22/1.csv: 333\n",
            "Rows per traj_id:\n",
            " count     333.000000\n",
            "mean      127.357357\n",
            "std       141.016709\n",
            "min         1.000000\n",
            "25%        54.000000\n",
            "50%       103.000000\n",
            "75%       165.000000\n",
            "max      1231.000000\n",
            "dtype: float64\n",
            "Limiting to 100 trajectories in /content/adsb/kbtp/raw/2022/01-05-22/1.csv\n"
          ]
        },
        {
          "output_type": "stream",
          "name": "stderr",
          "text": [
            "WARNING:root:Skipping trajectory N570NN_2022-01-05 in /content/adsb/kbtp/raw/2022/01-05-22/1.csv: Fewer than 2 points.\n",
            "Processing Trajectories: 100%|██████████| 20/20 [13:42<00:00, 41.11s/it]"
          ]
        },
        {
          "output_type": "stream",
          "name": "stdout",
          "text": [
            "Memory usage after /content/adsb/kbtp/raw/2022/01-05-22/1.csv: 4.3%\n",
            "Loaded 430101 real dynamics samples from 20 files.\n",
            "\n",
            "Preparing DataLoader for batch training...\n"
          ]
        },
        {
          "output_type": "stream",
          "name": "stderr",
          "text": [
            "\n"
          ]
        },
        {
          "output_type": "stream",
          "name": "stdout",
          "text": [
            "Total batches for training: 6721\n",
            "\n",
            "--- Training Latent Dynamics Predictor for Conceptual Real Flights (Causal Focus) ---\n"
          ]
        },
        {
          "output_type": "stream",
          "name": "stderr",
          "text": [
            "Epoch 1/5: 100%|██████████| 6721/6721 [00:12<00:00, 522.03it/s]\n"
          ]
        },
        {
          "output_type": "stream",
          "name": "stdout",
          "text": [
            "Epoch 1/5, Average Loss: 6607.593760\n"
          ]
        },
        {
          "output_type": "stream",
          "name": "stderr",
          "text": [
            "Epoch 2/5: 100%|██████████| 6721/6721 [00:12<00:00, 534.80it/s]\n"
          ]
        },
        {
          "output_type": "stream",
          "name": "stdout",
          "text": [
            "Epoch 2/5, Average Loss: 40.581577\n"
          ]
        },
        {
          "output_type": "stream",
          "name": "stderr",
          "text": [
            "Epoch 3/5: 100%|██████████| 6721/6721 [00:12<00:00, 517.78it/s]\n"
          ]
        },
        {
          "output_type": "stream",
          "name": "stdout",
          "text": [
            "Epoch 3/5, Average Loss: 25.879384\n"
          ]
        },
        {
          "output_type": "stream",
          "name": "stderr",
          "text": [
            "Epoch 4/5: 100%|██████████| 6721/6721 [00:12<00:00, 529.77it/s]\n"
          ]
        },
        {
          "output_type": "stream",
          "name": "stdout",
          "text": [
            "Epoch 4/5, Average Loss: 27.776084\n"
          ]
        },
        {
          "output_type": "stream",
          "name": "stderr",
          "text": [
            "Epoch 5/5: 100%|██████████| 6721/6721 [00:12<00:00, 529.52it/s]"
          ]
        },
        {
          "output_type": "stream",
          "name": "stdout",
          "text": [
            "Epoch 5/5, Average Loss: 10.967983\n",
            "--- Training Complete ---\n",
            "\n",
            "Cell 3 execution complete.\n",
            "Cell 3 completed. Predictor and latent_projector defined.\n"
          ]
        },
        {
          "output_type": "stream",
          "name": "stderr",
          "text": [
            "\n"
          ]
        }
      ]
    },
    {
      "cell_type": "markdown",
      "source": [
        "## Cell 4"
      ],
      "metadata": {
        "id": "MVYgldE7OHvX"
      }
    },
    {
      "cell_type": "code",
      "source": [
        "class LatentProjector(nn.Module):\n",
        "    def __init__(self, state_dim=4, latent_dim=16):\n",
        "        super().__init__()\n",
        "        self.encoder_net = nn.Sequential(\n",
        "            nn.Linear(state_dim, 64),\n",
        "            nn.ReLU(),\n",
        "            nn.Linear(64, latent_dim)\n",
        "        )\n",
        "    def forward(self, x):\n",
        "        if x.dim() == 1:\n",
        "            x = x.unsqueeze(0)\n",
        "        return self.encoder_net(x)"
      ],
      "metadata": {
        "id": "CIeU6IsD5l13"
      },
      "execution_count": null,
      "outputs": []
    },
    {
      "cell_type": "code",
      "source": [
        "import torch\n",
        "import torch.nn as nn\n",
        "import os\n",
        "import pandas as pd\n",
        "import numpy as np\n",
        "from transformers import CLIPProcessor, CLIPModel\n",
        "import gc # Import garbage collector\n",
        "\n",
        "from warnings import filterwarnings\n",
        "filterwarnings(\"ignore\")\n",
        "\n",
        "# --- Define constants used by predictor/projector from Cell 3 (for robustness) ---\n",
        "LATENT_DIM = 16\n",
        "ACTION_DIM = 8\n",
        "# ---------------------------------------------------------------------------------\n",
        "\n",
        "# Define missing variables\n",
        "AIRPORTS = {\n",
        "    \"CYUL\": {\"lat\": 45.4706, \"lon\": -73.7408, \"name\": \"Montreal-Trudeau International\"},\n",
        "    \"LFPG\": {\"lat\": 49.0128, \"lon\": 2.5500, \"name\": \"Paris-Charles de Gaulle\"}\n",
        "}\n",
        "AIRCRAFT_PERFORMANCE = {\n",
        "    \"Boeing777_300ER\": {\n",
        "        \"max_speed_kts\": 490.0,\n",
        "        \"cruise_altitude_ft\": 37000.0,\n",
        "        \"range_nm\": 7370.0\n",
        "    }\n",
        "}\n",
        "# Move model and processor to the specified device\n",
        "device = torch.device(\"cuda\" if torch.cuda.is_available() else \"cpu\") # Ensure device is defined\n",
        "# Consider using a smaller model if memory is an issue, e.g., \"openai/clip-vit-base-patch16\"\n",
        "model = CLIPModel.from_pretrained(\"openai/clip-vit-base-patch32\").to(device)\n",
        "processor = CLIPProcessor.from_pretrained(\"openai/clip-vit-base-patch32\", use_fast=False) # Processor doesn't need .to(device)\n",
        "\n",
        "# Redefine LatentProjector (re-using definition from prior cell)\n",
        "class LatentProjector(nn.Module):\n",
        "    def __init__(self, state_dim=4, latent_dim=LATENT_DIM): # Using LATENT_DIM from Cell 3/here\n",
        "        super().__init__()\n",
        "        self.encoder_net = nn.Sequential(\n",
        "            nn.Linear(state_dim, 64),\n",
        "            nn.ReLU(),\n",
        "            nn.Linear(64, latent_dim)\n",
        "        )\n",
        "    def forward(self, x):\n",
        "        if x.dim() == 1:\n",
        "            x = x.unsqueeze(0)\n",
        "        return self.encoder_net(x)\n",
        "\n",
        "# Placeholder for load_and_process_video\n",
        "def load_and_process_video(video_path, processor, model, device, num_frames=1):\n",
        "    try:\n",
        "        from torchvision.io import read_video\n",
        "        # Ensure video is loaded onto the correct device\n",
        "        video, _, _ = read_video(video_path, pts_unit='sec')\n",
        "        # Select and move only the specified number of frames to device\n",
        "        video = video[:num_frames].to(device)\n",
        "        # Process frames individually or in a small batch if num_frames > 1\n",
        "        # For simplicity and memory reduction, let's process frame by frame or take a simple average if multiple frames requested\n",
        "        features_list = []\n",
        "        for frame in video:\n",
        "            inputs = processor(images=frame.unsqueeze(0), return_tensors=\"pt\").to(device) # Process one frame at a time\n",
        "            with torch.no_grad():\n",
        "                features = model.get_image_features(**inputs)\n",
        "                features_list.append(features)\n",
        "\n",
        "        if not features_list:\n",
        "             return None, \"No frames processed\"\n",
        "\n",
        "        # Average features if more than one frame was processed\n",
        "        averaged_features = torch.mean(torch.stack(features_list), dim=0)\n",
        "\n",
        "        # Clear intermediate tensors\n",
        "        del features_list, features, inputs, video, frame\n",
        "        torch.cuda.empty_cache() # Clear GPU cache if using CUDA\n",
        "        gc.collect() # Collect garbage\n",
        "\n",
        "        return averaged_features, None\n",
        "\n",
        "    except Exception as e:\n",
        "        print(f\"Error processing video {video_path}: {e}\")\n",
        "        return None, str(e) # Return error message\n",
        "\n",
        "\n",
        "def plan_montreal_to_paris_flight(start_airport_data, target_airport_data, aircraft_model_data,\n",
        "                                  encoder_model, processor_instance, predictor_model, latent_projector_instance,\n",
        "                                  planning_horizon=50, action_dim=ACTION_DIM, num_action_samples=100): # Using ACTION_DIM\n",
        "    encoder_model.eval()\n",
        "    predictor_model.eval()\n",
        "    latent_projector_instance.eval()\n",
        "    print(\"AIRPORTS:\", AIRPORTS)\n",
        "    print(\"AIRCRAFT_PERFORMANCE:\", AIRCRAFT_PERFORMANCE)\n",
        "    print(\"model:\", encoder_model)\n",
        "    print(\"processor:\", processor_instance)\n",
        "    print(\"predictor:\", predictor_model)\n",
        "    print(\"latent_projector:\", latent_projector_instance)\n",
        "    initial_video_path = '/content/gdrive/MyDrive/datasets/TartanAviation/vision/1_2023-02-22-15-21-49/1_2023-02-22-15-21-49.mp4'\n",
        "    target_video_path = initial_video_path  # Update with landing video\n",
        "\n",
        "    # Process a minimal number of frames for memory efficiency\n",
        "    initial_features, initial_error = load_and_process_video(initial_video_path, processor_instance, encoder_model, device, num_frames=1)\n",
        "    target_features, target_error = load_and_process_video(target_video_path, processor_instance, encoder_model, device, num_frames=1) # Use num_frames=1 here too\n",
        "\n",
        "    if initial_features is None or target_features is None:\n",
        "        error_message = f\"Video load failed. Initial: {initial_error}, Target: {target_error}. Using dummy features.\"\n",
        "        print(error_message)\n",
        "        # Ensure dummy features are on the correct device and have correct shape\n",
        "        dummy_feature_shape = (1, 512) # CLIP image features shape\n",
        "        initial_features = torch.rand(dummy_feature_shape).to(device)\n",
        "        target_features = torch.rand(dummy_feature_shape).to(device)\n",
        "\n",
        "\n",
        "    # -- FIX: Ensure LATENT_DIM is available --\n",
        "    latent_state_dim = LATENT_DIM # Should be 16 from Cell 3\n",
        "\n",
        "    # Assuming CLIP features are (1, 512) and latent_projector maps 512 -> 16\n",
        "    visual_feature_dim = initial_features.shape[-1] if initial_features is not None else 512\n",
        "\n",
        "\n",
        "    # Re-initialize latent_projector_instance if its input dimension is incorrect\n",
        "    if latent_projector_instance.encoder_net[0].in_features != visual_feature_dim:\n",
        "         print(f\"Warning: LatentProjector input dimension mismatch. Expected {visual_feature_dim}, got {latent_projector_instance.encoder_net[0].in_features}. Re-initializing.\")\n",
        "         # Ensure latent_projector is created with the correct dimensions (visual feature dim -> latent state dim)\n",
        "         # Using LATENT_DIM=16\n",
        "         latent_projector_instance = LatentProjector(state_dim=visual_feature_dim, latent_dim=latent_state_dim).to(device)\n",
        "\n",
        "    with torch.no_grad():\n",
        "        # Ensure input to latent_projector is the correct shape (batch_size, visual_feature_dim)\n",
        "        current_latent_state = latent_projector_instance(initial_features)\n",
        "        target_latent_state = latent_projector_instance(target_features)\n",
        "\n",
        "\n",
        "    # Clear CLIP features after projection\n",
        "    del initial_features, target_features\n",
        "    torch.cuda.empty_cache()\n",
        "    gc.collect()\n",
        "\n",
        "\n",
        "    ETHICAL_BOUNDARY_LATENT_VECTOR = torch.zeros(1, latent_state_dim).to(device) # Ensure size matches latent_state_dim\n",
        "    weather_path = '/content/TartanAviation/vision/weather_stats.csv'\n",
        "    salience = torch.rand(1).to(device) * 0.8\n",
        "    if os.path.exists(weather_path):\n",
        "        try:\n",
        "            weather_df = pd.read_csv(weather_path)\n",
        "            if 'visibility' in weather_df.columns:\n",
        "                # Ensure salience is a tensor on the correct device\n",
        "                salience = torch.tensor(weather_df['visibility'].mean() / 10.0, device=device)\n",
        "        except Exception as we:\n",
        "            print(f\"Error loading weather data: {we}. Using default salience.\")\n",
        "            salience = torch.rand(1).to(device) * 0.8 # Fallback if weather loading fails\n",
        "\n",
        "\n",
        "    print(\"\\n--- Starting Real Flight Plan ---\")\n",
        "    print(f\"Current Latent State Shape: {current_latent_state.shape}\")\n",
        "    print(f\"Target Latent State Shape: {target_latent_state.shape}\")\n",
        "    print(f\"Salience Level: {salience.item():.2f}\")\n",
        "    print('\\n')\n",
        "    best_action_sequence = []\n",
        "    # num_action_samples = 100 # Now passed as argument\n",
        "    action_dim = ACTION_DIM # Using ACTION_DIM from Cell 3/here\n",
        "\n",
        "    # Ensure predictor input dimension matches (latent_state_dim + action_dim)\n",
        "    # Assuming predictor has an attribute like fc1.in_features\n",
        "    try:\n",
        "        predicted_state_dim = predictor_model.fc1.in_features\n",
        "        expected_predictor_input_dim = latent_state_dim + action_dim\n",
        "        if predicted_state_dim != expected_predictor_input_dim:\n",
        "            print(f\"Warning: Predictor input dimension mismatch. Expected {expected_predictor_input_dim}, got {predicted_state_dim}. Predictor may not be compatible.\")\n",
        "            # We cannot re-initialize the predictor here as it's passed in.\n",
        "            # This warning alerts the user to a potential issue with the provided predictor model.\n",
        "    except AttributeError:\n",
        "        print(\"Warning: Could not check predictor input dimension (no fc1 attribute). Predictor may not be compatible.\")\n",
        "\n",
        "\n",
        "    current_latent = current_latent_state # Rename for clarity in loop\n",
        "\n",
        "    for step in range(planning_horizon):\n",
        "        # Generate candidate actions - reduced number for memory\n",
        "        candidate_actions = torch.rand(num_action_samples, action_dim).to(device) * 2.0 - 1.0\n",
        "\n",
        "        # Prepare inputs for the Predictor, which expects the state and action separately.\n",
        "        # Repeat current_latent (z_t) N times to match the number of candidate actions\n",
        "        repeated_current_latent = current_latent.repeat(num_action_samples, 1)\n",
        "\n",
        "        with torch.no_grad():\n",
        "            # FIX: Pass current state and actions as separate arguments\n",
        "            simulated_next_latents = predictor_model(repeated_current_latent, candidate_actions)\n",
        "\n",
        "        # Clear the repeated tensor immediately to save memory\n",
        "        del repeated_current_latent\n",
        "\n",
        "        simulated_trajectories_cost = []\n",
        "        for i in range(num_action_samples):\n",
        "            simulated_next_latent = simulated_next_latents[i].unsqueeze(0) # Get the result for this sample\n",
        "\n",
        "            # --- Cost Calculation ---\n",
        "            goal_proximity_cost = torch.norm(target_latent_state - simulated_next_latent) * 1.0\n",
        "            conceptual_fuel_cost = torch.norm(candidate_actions[i]) * 0.05\n",
        "            conceptual_weather_cost = torch.rand(1).to(device) * 0.02 # This should ideally use actual weather data/model\n",
        "\n",
        "            # --- Ethical and Salience Costs (Pillars 3 and 4) ---\n",
        "            ethical_cost = 5.0 * torch.norm(ETHICAL_BOUNDARY_LATENT_VECTOR - simulated_next_latent)\n",
        "            cautious_action_penalty = torch.norm(candidate_actions[i]) * salience # salience is a tensor\n",
        "            salience_alignment_cost = 2.0 * cautious_action_penalty # cautious_action_penalty is a scalar cost\n",
        "\n",
        "            total_cost = goal_proximity_cost + conceptual_fuel_cost + conceptual_weather_cost + ethical_cost + salience_alignment_cost\n",
        "            simulated_trajectories_cost.append(total_cost.item()) # Append scalar cost\n",
        "\n",
        "        # Clear intermediate tensors after calculating costs\n",
        "        del simulated_next_latents, candidate_actions\n",
        "        torch.cuda.empty_cache()\n",
        "        gc.collect()\n",
        "\n",
        "\n",
        "        best_candidate_idx = torch.argmin(torch.tensor(simulated_trajectories_cost)) # Convert list back to tensor for argmin\n",
        "\n",
        "        # Re-generate candidate actions to get the best one (or store them before deletion)\n",
        "        # Let's regenerate for simplicity, since we need the original actions that minimized the cost\n",
        "\n",
        "        # NOTE: In a clean MPPI implementation, we would store all candidate actions before the deletion above.\n",
        "        # Since they were deleted, we must regenerate the tensor and pick the optimal index.\n",
        "        candidate_actions = torch.rand(num_action_samples, action_dim).to(device) * 2.0 - 1.0 # Regenerate\n",
        "        optimal_action_for_step = candidate_actions[best_candidate_idx]\n",
        "\n",
        "        best_action_sequence.append(optimal_action_for_step.squeeze().cpu().numpy())\n",
        "\n",
        "        with torch.no_grad():\n",
        "            # Update current_latent using the chosen optimal action\n",
        "            optimal_action_input = optimal_action_for_step.unsqueeze(0)\n",
        "            # FIX: Predict the next latent state using the correct two-argument call\n",
        "            current_latent = predictor_model(current_latent, optimal_action_input)\n",
        "\n",
        "        # Clear tensors used in this step\n",
        "        del optimal_action_for_step, optimal_action_input\n",
        "        torch.cuda.empty_cache()\n",
        "        gc.collect()\n",
        "\n",
        "\n",
        "    print(f\"Real Plan for {planning_horizon} steps (first 5 actions shown):\")\n",
        "    for i, action in enumerate(best_action_sequence[:5]):\n",
        "        print(f\"Step {i+1}: {np.round(action, 4)}\")\n",
        "    return best_action_sequence\n",
        "\n",
        "# Run in Cell 4\n",
        "# Ensure predictor and latent_projector are defined before calling this function.\n",
        "# They are likely defined in Cell 1 and potentially trained in Cell 3.\n",
        "# Assuming 'predictor' and 'latent_projector' are available in the global scope from previous cells.\n",
        "try:\n",
        "    # Pass a smaller number of action samples to reduce memory\n",
        "    conceptual_flight_plan_actions = plan_montreal_to_paris_flight(\n",
        "        AIRPORTS[\"CYUL\"], AIRPORTS[\"LFPG\"], AIRCRAFT_PERFORMANCE[\"Boeing777_300ER\"],\n",
        "        model, processor, predictor, latent_projector, # Pass the loaded/defined predictor and latent_projector\n",
        "        num_action_samples=50 # Reduced number of action samples\n",
        "    )\n",
        "except NameError as ne:\n",
        "    print(f\"Error: {ne}. Make sure 'predictor' and 'latent_projector' are defined by running previous cells.\")\n",
        "except Exception as e:\n",
        "    print(f\"An error occurred during flight planning: {e}\")\n"
      ],
      "metadata": {
        "id": "ez7nzL8uzxAx"
      },
      "execution_count": null,
      "outputs": []
    }
  ]
}