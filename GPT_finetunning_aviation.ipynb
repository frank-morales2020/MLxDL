{
  "nbformat": 4,
  "nbformat_minor": 0,
  "metadata": {
    "colab": {
      "provenance": [],
      "authorship_tag": "ABX9TyNy2w/Qcf2Fuq4z7jc1n19H",
      "include_colab_link": true
    },
    "kernelspec": {
      "name": "python3",
      "display_name": "Python 3"
    },
    "language_info": {
      "name": "python"
    }
  },
  "cells": [
    {
      "cell_type": "markdown",
      "metadata": {
        "id": "view-in-github",
        "colab_type": "text"
      },
      "source": [
        "<a href=\"https://colab.research.google.com/github/frank-morales2020/MLxDL/blob/main/GPT_finetunning_aviation.ipynb\" target=\"_parent\"><img src=\"https://colab.research.google.com/assets/colab-badge.svg\" alt=\"Open In Colab\"/></a>"
      ]
    },
    {
      "cell_type": "markdown",
      "source": [
        "https://platform.openai.com/docs/guides/fine-tuning"
      ],
      "metadata": {
        "id": "ce4Q1F9t4yHF"
      }
    },
    {
      "cell_type": "code",
      "source": [
        "!pip install colab-env --upgrade -q\n",
        "!pip install openai -q"
      ],
      "metadata": {
        "id": "_Mm88LekcV80"
      },
      "execution_count": null,
      "outputs": []
    },
    {
      "cell_type": "code",
      "source": [
        "import colab_env\n",
        "import os\n",
        "\n",
        "from openai import OpenAI\n",
        "client = OpenAI(api_key = os.getenv(\"OPENAI_API_KEY\"))\n"
      ],
      "metadata": {
        "colab": {
          "base_uri": "https://localhost:8080/"
        },
        "id": "L2HaecP4cc1c",
        "outputId": "672ecca3-e127-4c37-df0d-81510a1cf62d"
      },
      "execution_count": 2,
      "outputs": [
        {
          "output_type": "stream",
          "name": "stdout",
          "text": [
            "Mounted at /content/gdrive\n"
          ]
        }
      ]
    },
    {
      "cell_type": "code",
      "source": [
        "from openai import OpenAI\n",
        "client = OpenAI()\n",
        "\n",
        "modellist=client.models.list()\n",
        "modellist.data"
      ],
      "metadata": {
        "colab": {
          "base_uri": "https://localhost:8080/"
        },
        "id": "qnEgsBT8clV4",
        "outputId": "d609de83-9cce-415e-e927-c0996caa9c89"
      },
      "execution_count": 3,
      "outputs": [
        {
          "output_type": "execute_result",
          "data": {
            "text/plain": [
              "[Model(id='dall-e-3', created=1698785189, object='model', owned_by='system'),\n",
              " Model(id='gpt-4-1106-preview', created=1698957206, object='model', owned_by='system'),\n",
              " Model(id='whisper-1', created=1677532384, object='model', owned_by='openai-internal'),\n",
              " Model(id='gpt-4o-2024-05-13', created=1715368132, object='model', owned_by='system'),\n",
              " Model(id='babbage-002', created=1692634615, object='model', owned_by='system'),\n",
              " Model(id='dall-e-2', created=1698798177, object='model', owned_by='system'),\n",
              " Model(id='gpt-3.5-turbo-16k', created=1683758102, object='model', owned_by='openai-internal'),\n",
              " Model(id='tts-1-hd-1106', created=1699053533, object='model', owned_by='system'),\n",
              " Model(id='tts-1-hd', created=1699046015, object='model', owned_by='system'),\n",
              " Model(id='gpt-3.5-turbo-instruct-0914', created=1694122472, object='model', owned_by='system'),\n",
              " Model(id='gpt-3.5-turbo-instruct', created=1692901427, object='model', owned_by='system'),\n",
              " Model(id='text-embedding-3-small', created=1705948997, object='model', owned_by='system'),\n",
              " Model(id='gpt-4-turbo-2024-04-09', created=1712601677, object='model', owned_by='system'),\n",
              " Model(id='gpt-4o', created=1715367049, object='model', owned_by='system'),\n",
              " Model(id='tts-1', created=1681940951, object='model', owned_by='openai-internal'),\n",
              " Model(id='gpt-4-turbo', created=1712361441, object='model', owned_by='system'),\n",
              " Model(id='gpt-3.5-turbo-1106', created=1698959748, object='model', owned_by='system'),\n",
              " Model(id='gpt-4-0125-preview', created=1706037612, object='model', owned_by='system'),\n",
              " Model(id='gpt-3.5-turbo-0125', created=1706048358, object='model', owned_by='system'),\n",
              " Model(id='gpt-3.5-turbo', created=1677610602, object='model', owned_by='openai'),\n",
              " Model(id='gpt-3.5-turbo-0301', created=1677649963, object='model', owned_by='openai'),\n",
              " Model(id='gpt-4-turbo-preview', created=1706037777, object='model', owned_by='system'),\n",
              " Model(id='gpt-4-0314', created=1687882410, object='model', owned_by='openai'),\n",
              " Model(id='tts-1-1106', created=1699053241, object='model', owned_by='system'),\n",
              " Model(id='text-embedding-3-large', created=1705953180, object='model', owned_by='system'),\n",
              " Model(id='gpt-3.5-turbo-16k-0613', created=1685474247, object='model', owned_by='openai'),\n",
              " Model(id='gpt-4-32k-0314', created=1687979321, object='model', owned_by='openai'),\n",
              " Model(id='gpt-3.5-turbo-0613', created=1686587434, object='model', owned_by='openai'),\n",
              " Model(id='gpt-4', created=1687882411, object='model', owned_by='openai'),\n",
              " Model(id='text-embedding-ada-002', created=1671217299, object='model', owned_by='openai-internal'),\n",
              " Model(id='gpt-4-1106-vision-preview', created=1711473033, object='model', owned_by='system'),\n",
              " Model(id='davinci-002', created=1692634301, object='model', owned_by='system'),\n",
              " Model(id='gpt-4-0613', created=1686588896, object='model', owned_by='openai'),\n",
              " Model(id='gpt-4-vision-preview', created=1698894917, object='model', owned_by='system')]"
            ]
          },
          "metadata": {},
          "execution_count": 3
        }
      ]
    },
    {
      "cell_type": "code",
      "source": [
        "#modellist.data[33] # Model(id='gpt-4-vision-preview', created=1698894917, object='model', owned_by='system'),\n",
        "#modellist.data[34]  # Model(id='ada:ft-personal-2023-07-11-12-33-39', created=1689078819, object='model', owned_by='user-mgtzrbiiso3g68oicniq0obp'),\n",
        "len(modellist.data) #34 Official by OpenAI"
      ],
      "metadata": {
        "colab": {
          "base_uri": "https://localhost:8080/"
        },
        "id": "KalpvRhnX0zh",
        "outputId": "be453048-80b5-4b9f-c5df-88519c7c3f21"
      },
      "execution_count": 4,
      "outputs": [
        {
          "output_type": "execute_result",
          "data": {
            "text/plain": [
              "34"
            ]
          },
          "metadata": {},
          "execution_count": 4
        }
      ]
    },
    {
      "cell_type": "markdown",
      "source": [
        "Fine-tuning is currently available for the following models: gpt-3.5-turbo-0125 (recommended), gpt-3.5-turbo-1106, gpt-3.5-turbo-0613, babbage-002, davinci-002, and gpt-4-0613 (experimental)."
      ],
      "metadata": {
        "id": "YpL9lrT-IO7E"
      }
    },
    {
      "cell_type": "code",
      "execution_count": 5,
      "metadata": {
        "id": "KPndkkhmcFku"
      },
      "outputs": [],
      "source": [
        "from openai import OpenAI\n",
        "client = OpenAI()\n",
        "\n",
        "response = client.chat.completions.create(\n",
        "  model=\"gpt-3.5-turbo-0125\",\n",
        "  messages=[\n",
        "    {\n",
        "      \"role\": \"system\",\n",
        "      \"content\": \"Summarize content you are provided with for a second-grade student.\"\n",
        "    },\n",
        "    {\n",
        "      \"role\": \"user\",\n",
        "      \"content\": \"Jupiter is the fifth planet from the Sun and the largest in the Solar System. It is a gas giant with a mass one-thousandth that of the Sun, but two-and-a-half times that of all the other planets in the Solar System combined. Jupiter is one of the brightest objects visible to the naked eye in the night sky, and has been known to ancient civilizations since before recorded history. It is named after the Roman god Jupiter.[19] When viewed from Earth, Jupiter can be bright enough for its reflected light to cast visible shadows,[20] and is on average the third-brightest natural object in the night sky after the Moon and Venus.\"\n",
        "    }\n",
        "  ],\n",
        "  temperature=0.7,\n",
        "  max_tokens=64,\n",
        "  top_p=1\n",
        ")"
      ]
    },
    {
      "cell_type": "code",
      "source": [
        "print(response.choices[0].message.content)"
      ],
      "metadata": {
        "colab": {
          "base_uri": "https://localhost:8080/"
        },
        "id": "75HjH2FQcyKH",
        "outputId": "8eca9076-3eaf-484c-c196-5c0b0e3b356c"
      },
      "execution_count": 6,
      "outputs": [
        {
          "output_type": "stream",
          "name": "stdout",
          "text": [
            "Jupiter is a big planet in our Solar System, it is the fifth one from the Sun. It is really huge and made of gas. It is so big that it has more mass than all the other planets combined. People have known about Jupiter for a very long time, even before they wrote things down. Jupiter\n"
          ]
        }
      ]
    },
    {
      "cell_type": "code",
      "source": [
        "#get SQuAD v2\n",
        "#!wget -nc https://rajpurkar.github.io/SQuAD-explorer/dataset/train-v2.0.json\n",
        "#!wget -nc https://rajpurkar.github.io/SQuAD-explorer/dataset/dev-v2.0.json"
      ],
      "metadata": {
        "id": "xQK7fvZyhs2P"
      },
      "execution_count": null,
      "outputs": []
    },
    {
      "cell_type": "markdown",
      "source": [
        "https://github.com/frank-morales2020/Cloud_curious/blob/master/mistral_finetunning_squad2_0.ipynb"
      ],
      "metadata": {
        "id": "kR26acduJedk"
      }
    },
    {
      "cell_type": "markdown",
      "source": [
        "AVIATION-QA"
      ],
      "metadata": {
        "id": "j-eH5rMBZGXg"
      }
    },
    {
      "cell_type": "code",
      "source": [
        "import json\n",
        "\n",
        "def get_data(path):\n",
        "    #read each file and retrieve the contexts, qustions and answers\n",
        "    data = []\n",
        "    with open(path, 'r') as f:  # Open in text mode for JSON Lines\n",
        "        for line in f:\n",
        "            try:\n",
        "                data.append(json.loads(line))\n",
        "            except json.JSONDecodeError as e:\n",
        "                print(f\"Error decoding line: {line}\")\n",
        "                print(e)\n",
        "    return data  # Return the list of parsed JSON objects"
      ],
      "metadata": {
        "id": "OnJnzpZmZ5SP"
      },
      "execution_count": 7,
      "outputs": []
    },
    {
      "cell_type": "code",
      "source": [
        "# Upload the training file FOR SQuAD v2 1000 QUESTIONS\n",
        "#filename_path='/content/gdrive/MyDrive/datasets/dataft-L1000.jsonl'\n",
        "\n",
        "# aviation 10 000 QUESTION\n",
        "filename_path='/content/gdrive/MyDrive/datasets/aviation.jsonl'\n",
        "data=get_data(filename_path)\n",
        "#data[10]"
      ],
      "metadata": {
        "id": "KyUAqEmRU74O"
      },
      "execution_count": 41,
      "outputs": []
    },
    {
      "cell_type": "code",
      "source": [
        "numberofquestions=len(data)\n",
        "numberofquestions"
      ],
      "metadata": {
        "colab": {
          "base_uri": "https://localhost:8080/"
        },
        "id": "JLG6Or6WarkB",
        "outputId": "c2ee985a-c561-4c4a-86e4-7dd3b5a032d1"
      },
      "execution_count": 42,
      "outputs": [
        {
          "output_type": "execute_result",
          "data": {
            "text/plain": [
              "10000"
            ]
          },
          "metadata": {},
          "execution_count": 42
        }
      ]
    },
    {
      "cell_type": "code",
      "source": [
        "nrec=8\n",
        "data[nrec]['messages'][0]['content']\n",
        "\n",
        "question=data[nrec]['messages'][1]['content']\n",
        "answer=data[nrec]['messages'][2]['content']\n",
        "\n",
        "print('Record #: %s'%nrec)\n",
        "print('Question: %s'%question)\n",
        "print('Answer by the dataset: %s'%answer)"
      ],
      "metadata": {
        "colab": {
          "base_uri": "https://localhost:8080/"
        },
        "id": "h4USzjbnYL0Z",
        "outputId": "b5917037-cbde-4533-d1ae-09947938b050"
      },
      "execution_count": 53,
      "outputs": [
        {
          "output_type": "stream",
          "name": "stdout",
          "text": [
            "Record #: 8\n",
            "Question: What was the Lowest Ceiling of the accident no. WPR13IA144?\n",
            "Answer by the dataset: Not possible to get or use\n"
          ]
        }
      ]
    },
    {
      "source": [
        "from openai import OpenAI\n",
        "client = OpenAI()\n",
        "\n",
        "# Upload the training file\n",
        "file_response = client.files.create(\n",
        "  file=open(filename_path, \"rb\"),\n",
        "  purpose=\"fine-tune\"\n",
        ")\n",
        "\n",
        "# Get the file ID\n",
        "file_id = file_response.id\n",
        "\n",
        "# Start the fine-tuning job using the file ID\n",
        "cftjc=client.fine_tuning.jobs.create(\n",
        "  training_file=file_id,\n",
        "  model=\"gpt-3.5-turbo-0125\"\n",
        ")\n",
        "\n",
        "training_file=cftjc.training_file\n",
        "fine_tuning_job=cftjc.id"
      ],
      "cell_type": "code",
      "metadata": {
        "id": "sZIkN7bff3mH"
      },
      "execution_count": 44,
      "outputs": []
    },
    {
      "cell_type": "code",
      "source": [
        "# List 10 fine-tuning jobs\n",
        "#client.fine_tuning.jobs.list(limit=10)\n",
        "\n",
        "# Retrieve the state of a fine-tune\n",
        "#client.fine_tuning.jobs.retrieve(fine_tuning_job)\n",
        "\n",
        "# Cancel a job\n",
        "#client.fine_tuning.jobs.cancel(\"ftjob-HHsRv4STcKEaAywwrYDjL4zI\")\n",
        "\n",
        "# List up to 10 events from a fine-tuning job\n",
        "#client.fine_tuning.jobs.list_events(fine_tuning_job_id=fine_tuning_job, limit=10)\n",
        "\n",
        "# Delete a fine-tuned model (must be an owner of the org the model was created in)\n",
        "#client.models.delete(\"ft:gpt-3.5-turbo:acemeco:suffix:abc123\")"
      ],
      "metadata": {
        "id": "3itHCXzvgYly"
      },
      "execution_count": 45,
      "outputs": []
    },
    {
      "cell_type": "code",
      "source": [
        "actual_job_id = fine_tuning_job  # Replace with a real ID\n",
        "fine_tuning_job_retrieve=client.fine_tuning.jobs.retrieve(actual_job_id)\n",
        "client.fine_tuning.jobs.retrieve(actual_job_id)"
      ],
      "metadata": {
        "id": "c76JNFEMx3ek",
        "colab": {
          "base_uri": "https://localhost:8080/"
        },
        "outputId": "415e0ff1-04aa-431c-ff3c-aa058ee91da8"
      },
      "execution_count": 46,
      "outputs": [
        {
          "output_type": "execute_result",
          "data": {
            "text/plain": [
              "FineTuningJob(id='ftjob-3N5PlNTkP3KD0BM5tng4yIOK', created_at=1717728805, error=Error(code=None, message=None, param=None), fine_tuned_model=None, finished_at=None, hyperparameters=Hyperparameters(n_epochs='auto', batch_size='auto', learning_rate_multiplier='auto'), model='gpt-3.5-turbo-0125', object='fine_tuning.job', organization_id='org-kw9OnWtmHIJ748Xe7oTALKxl', result_files=[], seed=2103389715, status='validating_files', trained_tokens=None, training_file='file-WnuaBqO3jF0tdOzygMU1Vi8P', validation_file=None, estimated_finish=None, integrations=[], user_provided_suffix=None)"
            ]
          },
          "metadata": {},
          "execution_count": 46
        }
      ]
    },
    {
      "cell_type": "code",
      "source": [
        "organization_id=fine_tuning_job_retrieve.organization_id\n",
        "fine_tuned_model=fine_tuning_job_retrieve.fine_tuned_model\n",
        "print(fine_tuned_model)"
      ],
      "metadata": {
        "colab": {
          "base_uri": "https://localhost:8080/"
        },
        "id": "N-D18CIYyYWa",
        "outputId": "fce8ef18-ae67-466d-b557-a8167704f86f"
      },
      "execution_count": 47,
      "outputs": [
        {
          "output_type": "stream",
          "name": "stdout",
          "text": [
            "None\n"
          ]
        }
      ]
    },
    {
      "cell_type": "markdown",
      "source": [
        "https://platform.openai.com/finetune/"
      ],
      "metadata": {
        "id": "PE7rnwM1wGOq"
      }
    },
    {
      "cell_type": "code",
      "source": [
        "while fine_tuned_model == None:\n",
        "       fine_tuning_job_retrieve=client.fine_tuning.jobs.retrieve(actual_job_id)\n",
        "       organization_id=fine_tuning_job_retrieve.organization_id\n",
        "       fine_tuned_model=fine_tuning_job_retrieve.fine_tuned_model\n"
      ],
      "metadata": {
        "id": "Ak9za3hx9XSA"
      },
      "execution_count": 48,
      "outputs": []
    },
    {
      "cell_type": "code",
      "source": [
        "print('Fine Tuned Model: %s'%fine_tuned_model)"
      ],
      "metadata": {
        "colab": {
          "base_uri": "https://localhost:8080/"
        },
        "id": "JDRZoJRR964H",
        "outputId": "296919bd-a63b-4406-aab2-9d3b0352a983"
      },
      "execution_count": 49,
      "outputs": [
        {
          "output_type": "stream",
          "name": "stdout",
          "text": [
            "Fine Tuned Model: ft:gpt-3.5-turbo-0125:personal::9XL8xYxu\n"
          ]
        }
      ]
    },
    {
      "cell_type": "markdown",
      "source": [
        "REC 4\n",
        "PROMPT: In the accident with no. DCA16CA009, is the aircraft damaged?\n",
        "ANSWER GENERATED: Yes, in the accident with no. DCA16CA009, the aircraft was damaged."
      ],
      "metadata": {
        "id": "TNTOUO7l46NH"
      }
    },
    {
      "cell_type": "code",
      "source": [
        "from openai import OpenAI\n",
        "client = OpenAI()\n",
        "\n",
        "\n",
        "completion = client.chat.completions.create(\n",
        "  model=fine_tuned_model,\n",
        "  messages=[\n",
        "    {\"role\": \"system\", \"content\": \"You are a helpful assistant.\"},\n",
        "    {\"role\": \"user\", \"content\": question}\n",
        "  ]\n",
        ")\n",
        "print('PROMPT: %s'%question)\n",
        "print('ANSWER GENERATED: %s'%completion.choices[0].message.content)"
      ],
      "metadata": {
        "colab": {
          "base_uri": "https://localhost:8080/"
        },
        "id": "RccLamrTtuxY",
        "outputId": "e7b775c6-e81f-4779-d658-8ced4bcf87b6"
      },
      "execution_count": 55,
      "outputs": [
        {
          "output_type": "stream",
          "name": "stdout",
          "text": [
            "PROMPT: What was the Lowest Ceiling of the accident no. WPR13IA144?\n",
            "ANSWER GENERATED: The Lowest Ceiling of the accident no. WPR13IA144 was 200 feet.\n"
          ]
        }
      ]
    },
    {
      "cell_type": "code",
      "source": [
        "modellist=client.models.list()\n",
        "modellist.data"
      ],
      "metadata": {
        "colab": {
          "base_uri": "https://localhost:8080/"
        },
        "id": "vbqWfRQrvfuH",
        "outputId": "653af2ab-109a-4b93-ebc3-572706d8e28e"
      },
      "execution_count": 56,
      "outputs": [
        {
          "output_type": "execute_result",
          "data": {
            "text/plain": [
              "[Model(id='dall-e-3', created=1698785189, object='model', owned_by='system'),\n",
              " Model(id='gpt-4-1106-preview', created=1698957206, object='model', owned_by='system'),\n",
              " Model(id='whisper-1', created=1677532384, object='model', owned_by='openai-internal'),\n",
              " Model(id='gpt-4o-2024-05-13', created=1715368132, object='model', owned_by='system'),\n",
              " Model(id='babbage-002', created=1692634615, object='model', owned_by='system'),\n",
              " Model(id='dall-e-2', created=1698798177, object='model', owned_by='system'),\n",
              " Model(id='gpt-3.5-turbo-16k', created=1683758102, object='model', owned_by='openai-internal'),\n",
              " Model(id='tts-1-hd-1106', created=1699053533, object='model', owned_by='system'),\n",
              " Model(id='tts-1-hd', created=1699046015, object='model', owned_by='system'),\n",
              " Model(id='gpt-3.5-turbo-instruct-0914', created=1694122472, object='model', owned_by='system'),\n",
              " Model(id='gpt-3.5-turbo-instruct', created=1692901427, object='model', owned_by='system'),\n",
              " Model(id='text-embedding-3-small', created=1705948997, object='model', owned_by='system'),\n",
              " Model(id='gpt-4-turbo-2024-04-09', created=1712601677, object='model', owned_by='system'),\n",
              " Model(id='tts-1', created=1681940951, object='model', owned_by='openai-internal'),\n",
              " Model(id='gpt-4-turbo', created=1712361441, object='model', owned_by='system'),\n",
              " Model(id='text-embedding-3-large', created=1705953180, object='model', owned_by='system'),\n",
              " Model(id='gpt-3.5-turbo-1106', created=1698959748, object='model', owned_by='system'),\n",
              " Model(id='gpt-4-0125-preview', created=1706037612, object='model', owned_by='system'),\n",
              " Model(id='gpt-3.5-turbo-0125', created=1706048358, object='model', owned_by='system'),\n",
              " Model(id='gpt-3.5-turbo', created=1677610602, object='model', owned_by='openai'),\n",
              " Model(id='gpt-3.5-turbo-0301', created=1677649963, object='model', owned_by='openai'),\n",
              " Model(id='gpt-4-turbo-preview', created=1706037777, object='model', owned_by='system'),\n",
              " Model(id='gpt-4-0314', created=1687882410, object='model', owned_by='openai'),\n",
              " Model(id='tts-1-1106', created=1699053241, object='model', owned_by='system'),\n",
              " Model(id='gpt-3.5-turbo-16k-0613', created=1685474247, object='model', owned_by='openai'),\n",
              " Model(id='gpt-4o', created=1715367049, object='model', owned_by='system'),\n",
              " Model(id='gpt-4-32k-0314', created=1687979321, object='model', owned_by='openai'),\n",
              " Model(id='gpt-3.5-turbo-0613', created=1686587434, object='model', owned_by='openai'),\n",
              " Model(id='gpt-4', created=1687882411, object='model', owned_by='openai'),\n",
              " Model(id='text-embedding-ada-002', created=1671217299, object='model', owned_by='openai-internal'),\n",
              " Model(id='gpt-4-1106-vision-preview', created=1711473033, object='model', owned_by='system'),\n",
              " Model(id='davinci-002', created=1692634301, object='model', owned_by='system'),\n",
              " Model(id='gpt-4-0613', created=1686588896, object='model', owned_by='openai'),\n",
              " Model(id='gpt-4-vision-preview', created=1698894917, object='model', owned_by='system'),\n",
              " Model(id='ft:gpt-3.5-turbo-0125:personal::9XL8wGJe:ckpt-step-769', created=1717733126, object='model', owned_by='user-mgtzrbiiso3g68oicniq0obp'),\n",
              " Model(id='ft:gpt-3.5-turbo-0125:personal::9XL8xhMB:ckpt-step-1538', created=1717733127, object='model', owned_by='user-mgtzrbiiso3g68oicniq0obp'),\n",
              " Model(id='ft:gpt-3.5-turbo-0125:personal::9XL8xYxu', created=1717733127, object='model', owned_by='user-mgtzrbiiso3g68oicniq0obp')]"
            ]
          },
          "metadata": {},
          "execution_count": 56
        }
      ]
    },
    {
      "cell_type": "code",
      "source": [
        "modellist.data[33]"
      ],
      "metadata": {
        "colab": {
          "base_uri": "https://localhost:8080/"
        },
        "id": "7Mm46HBIwfHo",
        "outputId": "0aee6edf-0346-408c-b06c-6f36c9fe70f0"
      },
      "execution_count": 57,
      "outputs": [
        {
          "output_type": "execute_result",
          "data": {
            "text/plain": [
              "Model(id='gpt-4-vision-preview', created=1698894917, object='model', owned_by='system')"
            ]
          },
          "metadata": {},
          "execution_count": 57
        }
      ]
    },
    {
      "cell_type": "code",
      "source": [
        "for i in range(34,len(modellist.data)):\n",
        "  print(modellist.data[i].id)\n",
        "  client.models.delete(modellist.data[i].id)"
      ],
      "metadata": {
        "colab": {
          "base_uri": "https://localhost:8080/"
        },
        "id": "O1HIP8cXw0lC",
        "outputId": "d865fda7-bc79-4328-d50c-d00f512404bf"
      },
      "execution_count": 58,
      "outputs": [
        {
          "output_type": "stream",
          "name": "stdout",
          "text": [
            "ft:gpt-3.5-turbo-0125:personal::9XL8wGJe:ckpt-step-769\n",
            "ft:gpt-3.5-turbo-0125:personal::9XL8xhMB:ckpt-step-1538\n",
            "ft:gpt-3.5-turbo-0125:personal::9XL8xYxu\n"
          ]
        }
      ]
    }
  ]
}