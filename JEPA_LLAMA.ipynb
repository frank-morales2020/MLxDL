{
  "nbformat": 4,
  "nbformat_minor": 0,
  "metadata": {
    "colab": {
      "provenance": [],
      "machine_shape": "hm",
      "gpuType": "L4",
      "authorship_tag": "ABX9TyMPdbJGjRKeTfTA9dLq2zYA",
      "include_colab_link": true
    },
    "kernelspec": {
      "name": "python3",
      "display_name": "Python 3"
    },
    "language_info": {
      "name": "python"
    },
    "accelerator": "GPU"
  },
  "cells": [
    {
      "cell_type": "markdown",
      "metadata": {
        "id": "view-in-github",
        "colab_type": "text"
      },
      "source": [
        "<a href=\"https://colab.research.google.com/github/frank-morales2020/MLxDL/blob/main/JEPA_LLAMA.ipynb\" target=\"_parent\"><img src=\"https://colab.research.google.com/assets/colab-badge.svg\" alt=\"Open In Colab\"/></a>"
      ]
    },
    {
      "cell_type": "markdown",
      "source": [],
      "metadata": {
        "id": "moxzQiK4mzU_"
      }
    },
    {
      "cell_type": "code",
      "source": [
        "# Uninstall existing versions for a clean slate\n",
        "!pip uninstall -y torch torchvision torchaudio flash-attn -q\n",
        "\n",
        "# Install PyTorch, Hugging Face libraries, and other dependencies\n",
        "!pip install --upgrade torch torchvision torchaudio transformers datasets accelerate evaluate bitsandbytes peft trl ninja packaging diffusers safetensors colab-env flash-attn --no-build-isolation --quiet\n",
        "\n"
      ],
      "metadata": {
        "id": "JHCixTs0o4om"
      },
      "execution_count": null,
      "outputs": []
    },
    {
      "cell_type": "code",
      "source": [
        "# Verify the installation\n",
        "import torch\n",
        "print(f\"PyTorch version: {torch.__version__}\")\n",
        "print(f\"CUDA available: {torch.cuda.is_available()}\")"
      ],
      "metadata": {
        "colab": {
          "base_uri": "https://localhost:8080/"
        },
        "id": "uTaaFIPQNK19",
        "outputId": "e3af8db8-146d-488b-91c5-3014d86a2b1f"
      },
      "execution_count": 1,
      "outputs": [
        {
          "output_type": "stream",
          "name": "stdout",
          "text": [
            "PyTorch version: 2.7.1+cu126\n",
            "CUDA available: True\n"
          ]
        }
      ]
    },
    {
      "cell_type": "code",
      "source": [
        "import torch\n",
        "import os\n",
        "import sys\n",
        "import json\n",
        "import IPython\n",
        "from datetime import datetime\n",
        "from datasets import load_dataset\n",
        "from peft import LoraConfig, PeftModel, prepare_model_for_kbit_training, get_peft_model\n",
        "from transformers import (\n",
        "    AutoModelForCausalLM,\n",
        "    AutoTokenizer,\n",
        "    BitsAndBytesConfig,\n",
        "    AutoTokenizer,\n",
        "    TrainingArguments,\n",
        "    pipeline,\n",
        ")"
      ],
      "metadata": {
        "id": "qK1SsVxBo-HE"
      },
      "execution_count": 2,
      "outputs": []
    },
    {
      "cell_type": "code",
      "source": [
        "import os\n",
        "from typing import List, Dict\n",
        "import logging\n",
        "import pandas as pd\n",
        "from sklearn.linear_model import LogisticRegression\n",
        "import re\n",
        "import time\n",
        "from tqdm import tqdm\n",
        "\n",
        "# Disable warnings from transformers\n",
        "logging.getLogger(\"transformers.modeling_utils\").setLevel(logging.ERROR)\n",
        "\n",
        "import torch\n",
        "from datetime import datetime\n",
        "\n",
        "import warnings\n",
        "warnings.filterwarnings(\"ignore\")\n",
        "\n",
        "\n",
        "# Specify CUDA device\n",
        "device = torch.device(\"cuda:0\" if torch.cuda.is_available() else \"cpu\")\n",
        "\n",
        "# Initialize Llama model and tokenizer\n",
        "llama_model_id = \"meta-llama/Llama-3.1-8B-Instruct\"\n",
        "\n",
        "# Initialize Llama 3 with padding token fix\n",
        "llama_tokenizer = AutoTokenizer.from_pretrained(llama_model_id, use_fast=True)\n",
        "llama_tokenizer.padding_side = \"right\"\n",
        "llama_tokenizer.add_special_tokens({'pad_token': '[PAD]'})\n",
        "\n",
        "# Initialize Llama 3\n",
        "bnb_config = BitsAndBytesConfig(\n",
        "    load_in_4bit=True,\n",
        "    bnb_4bit_use_double_quant=True,\n",
        "    bnb_4bit_quant_type=\"nf4\",\n",
        "    bnb_4bit_compute_dtype=torch.bfloat16\n",
        ")\n",
        "llama_model = AutoModelForCausalLM.from_pretrained(\n",
        "    llama_model_id,\n",
        "    device_map=device,\n",
        "    torch_dtype=torch.bfloat16,\n",
        "    quantization_config=bnb_config\n",
        ")\n",
        "\n",
        "# Resize token embeddings with mean_resizing=False\n",
        "llama_model.resize_token_embeddings(len(llama_tokenizer), mean_resizing=False)\n",
        "\n",
        "# Move model to the device\n",
        "llama_model.to(device)\n",
        "\n",
        "llama_pipeline = pipeline(\n",
        "    \"text-generation\",\n",
        "    model=llama_model,\n",
        "    tokenizer=llama_tokenizer,\n",
        "    pad_token_id=llama_tokenizer.pad_token_id\n",
        ")\n",
        "\n",
        "llama_pipeline.generation_params = {\n",
        "    \"max_new_tokens\": 2048, # 4096\n",
        "    \"do_sample\": True,\n",
        "    \"top_k\": 50,\n",
        "    \"top_p\": 0.95,\n",
        "    \"temperature\": 0.7,\n",
        "    \"pad_token_id\": llama_tokenizer.pad_token_id,\n",
        "}\n"
      ],
      "metadata": {
        "id": "eSJ3vpABpHCx"
      },
      "execution_count": null,
      "outputs": []
    },
    {
      "cell_type": "markdown",
      "source": [
        "## I-JEPA (Image Joint Embedding Predictive Architecture) with LLaMA"
      ],
      "metadata": {
        "id": "WrJxqu8Fm7QG"
      }
    },
    {
      "cell_type": "code",
      "execution_count": 3,
      "metadata": {
        "colab": {
          "base_uri": "https://localhost:8080/"
        },
        "id": "soS5Ugz_mjXQ",
        "outputId": "200e17ce-0bf4-4fc4-8ccf-f69f7ec04af3"
      },
      "outputs": [
        {
          "output_type": "stream",
          "name": "stderr",
          "text": [
            "Epoch 1/5: 100%|██████████| 1563/1563 [2:03:50<00:00,  4.75s/it]\n"
          ]
        },
        {
          "output_type": "stream",
          "name": "stdout",
          "text": [
            "Epoch 1, Loss: 4.418068755285276e-08\n"
          ]
        },
        {
          "output_type": "stream",
          "name": "stderr",
          "text": [
            "Epoch 2/5: 100%|██████████| 1563/1563 [2:03:42<00:00,  4.75s/it]\n"
          ]
        },
        {
          "output_type": "stream",
          "name": "stdout",
          "text": [
            "Epoch 2, Loss: 1.1889252249375204e-07\n"
          ]
        },
        {
          "output_type": "stream",
          "name": "stderr",
          "text": [
            "Epoch 3/5: 100%|██████████| 1563/1563 [2:03:25<00:00,  4.74s/it]\n"
          ]
        },
        {
          "output_type": "stream",
          "name": "stdout",
          "text": [
            "Epoch 3, Loss: 7.83093412337621e-08\n"
          ]
        },
        {
          "output_type": "stream",
          "name": "stderr",
          "text": [
            "Epoch 4/5: 100%|██████████| 1563/1563 [2:03:14<00:00,  4.73s/it]\n"
          ]
        },
        {
          "output_type": "stream",
          "name": "stdout",
          "text": [
            "Epoch 4, Loss: 3.0441270837400225e-08\n"
          ]
        },
        {
          "output_type": "stream",
          "name": "stderr",
          "text": [
            "Epoch 5/5: 100%|██████████| 1563/1563 [2:03:16<00:00,  4.73s/it]"
          ]
        },
        {
          "output_type": "stream",
          "name": "stdout",
          "text": [
            "Epoch 5, Loss: 4.544378207071986e-09\n"
          ]
        },
        {
          "output_type": "stream",
          "name": "stderr",
          "text": [
            "\n"
          ]
        }
      ],
      "source": [
        "import torch\n",
        "import torch.nn as nn\n",
        "import torchvision.transforms as transforms\n",
        "from torchvision.datasets import CIFAR10\n",
        "from transformers import AutoModel, AutoTokenizer\n",
        "from tqdm import tqdm\n",
        "\n",
        "# Define the encoder network\n",
        "class ImageEncoder(nn.Module):\n",
        "    def __init__(self):\n",
        "        super(ImageEncoder, self).__init__()\n",
        "        self.conv1 = nn.Conv2d(3, 64, kernel_size=3)\n",
        "        self.conv2 = nn.Conv2d(64, 128, kernel_size=3)\n",
        "        self.fc1 = nn.Linear(128 * 4 * 4, 128)\n",
        "\n",
        "    def forward(self, x):\n",
        "        x = transforms.functional.resize(x, size=(8, 8))\n",
        "        x = torch.relu(self.conv1(x))\n",
        "        x = torch.relu(self.conv2(x))\n",
        "        x = x.view(-1, 128 * 4 * 4)\n",
        "        x = torch.relu(self.fc1(x))\n",
        "        return x\n",
        "\n",
        "# Define the predictor network\n",
        "class ImagePredictor(nn.Module):\n",
        "    def __init__(self):\n",
        "        super(ImagePredictor, self).__init__()\n",
        "        self.fc1 = nn.Linear(128, 128)\n",
        "\n",
        "    def forward(self, x):\n",
        "        x = torch.relu(self.fc1(x))\n",
        "        return x\n",
        "\n",
        "# Define the I-JEPA model\n",
        "class IJepa(nn.Module):\n",
        "    def __init__(self):\n",
        "        super(IJepa, self).__init__()\n",
        "        self.encoder = ImageEncoder()\n",
        "        self.predictor = ImagePredictor()\n",
        "\n",
        "    def forward(self, x1, x2):\n",
        "        z1 = self.encoder(x1)\n",
        "        z2 = self.encoder(x2)\n",
        "        p1 = self.predictor(z1)\n",
        "        loss = nn.MSELoss()(p1, z2)\n",
        "        return loss\n",
        "\n",
        "# Use LLaMA  to generate captions for images\n",
        "def generate_captions(images):\n",
        "    captions = []\n",
        "    for image in images:\n",
        "        # Use a placeholder caption for demonstration purposes\n",
        "        caption = \"A picture of an object\"\n",
        "        inputs = llama_tokenizer(caption, return_tensors=\"pt\").to(device)\n",
        "        outputs = llama_model(**inputs, output_hidden_states=True)\n",
        "        captions.append(outputs.hidden_states[-1][:, 0, :])\n",
        "    return captions\n",
        "\n",
        "# Train the I-JEPA model\n",
        "transform = transforms.Compose([transforms.ToTensor()])\n",
        "dataset = CIFAR10(root='./data', train=True, download=True, transform=transform)\n",
        "data_loader = torch.utils.data.DataLoader(dataset, batch_size=32, shuffle=True)\n",
        "\n",
        "model = IJepa().to(device)\n",
        "criterion = nn.MSELoss()\n",
        "optimizer = torch.optim.Adam(model.parameters(), lr=0.001)\n",
        "\n",
        "n_epochs=5\n",
        "for epoch in range(n_epochs):\n",
        "    for x, _ in tqdm(data_loader, desc=f\"Epoch {epoch+1}/{n_epochs}\"):\n",
        "        x = x.to(device)\n",
        "        x1 = x + torch.randn_like(x) * 0.1  # Add noise to create a different view\n",
        "        x2 = x\n",
        "        loss = model(x1, x2)\n",
        "        optimizer.zero_grad()\n",
        "        loss.backward()\n",
        "        optimizer.step()\n",
        "\n",
        "        # Generate captions for images using LLaMA 4\n",
        "        captions = generate_captions(x)\n",
        "\n",
        "    print(f'Epoch {epoch+1}, Loss: {loss.item()}')"
      ]
    },
    {
      "cell_type": "markdown",
      "source": [
        "## evaluation"
      ],
      "metadata": {
        "id": "E3NIpmQO2Cbw"
      }
    },
    {
      "cell_type": "code",
      "source": [
        "!pip install pycocoevalcap -q"
      ],
      "metadata": {
        "id": "oTO8PO0l2b_k"
      },
      "execution_count": 4,
      "outputs": []
    },
    {
      "cell_type": "code",
      "source": [
        "import torch\n",
        "import torch.nn as nn\n",
        "import torchvision.transforms as transforms\n",
        "from torchvision.datasets import CIFAR10\n",
        "from transformers import AutoModel, AutoTokenizer\n",
        "from tqdm import tqdm\n",
        "from nltk.translate.meteor_score import meteor_score\n",
        "from pycocoevalcap.cider.cider import Cider\n",
        "import nltk\n",
        "nltk.download('wordnet')\n",
        "\n",
        "# Define the encoder network\n",
        "class ImageEncoder(nn.Module):\n",
        "    def __init__(self):\n",
        "        super(ImageEncoder, self).__init__()\n",
        "        self.conv1 = nn.Conv2d(3, 64, kernel_size=3)\n",
        "        self.conv2 = nn.Conv2d(64, 128, kernel_size=3)\n",
        "        self.fc1 = nn.Linear(128 * 4 * 4, 128)\n",
        "\n",
        "    def forward(self, x):\n",
        "        x = transforms.functional.resize(x, size=(8, 8))\n",
        "        x = torch.relu(self.conv1(x))\n",
        "        x = torch.relu(self.conv2(x))\n",
        "        x = x.view(-1, 128 * 4 * 4)\n",
        "        x = torch.relu(self.fc1(x))\n",
        "        return x\n",
        "\n",
        "# Define the image captioning model\n",
        "class ImageCaptioningModel(nn.Module):\n",
        "    def __init__(self):\n",
        "        super(ImageCaptioningModel, self).__init__()\n",
        "        self.encoder = ImageEncoder()\n",
        "        self.decoder = nn.Linear(128, 128) # This is a placeholder, a real decoder would be more complex\n",
        "\n",
        "    def forward(self, x):\n",
        "        x = self.encoder(x)\n",
        "        x = self.decoder(x)\n",
        "        return x\n",
        "\n",
        "# Define the evaluation function\n",
        "def evaluate_captions(model, data_loader, device):\n",
        "    model.eval()\n",
        "    meteor_scores = []\n",
        "    cider_scorer = Cider()\n",
        "\n",
        "    # Create placeholder captions\n",
        "    # In a real scenario, these would come from your dataset\n",
        "    gts = {i: [f\"caption {i}\"] for i in range(len(data_loader.dataset))}\n",
        "    res = {i: [f\"predicted caption {i}\"] for i in range(len(data_loader.dataset))}\n",
        "\n",
        "\n",
        "    with torch.no_grad():\n",
        "        for i, (x, _) in enumerate(tqdm(data_loader)):\n",
        "            x = x.to(device)\n",
        "            predicted_captions_vectors = model(x)\n",
        "\n",
        "            # In a real scenario, you would convert these vectors to text.\n",
        "            # For now, we'll use the placeholder captions.\n",
        "            predicted_captions_text = [res[j][0] for j in range(i*data_loader.batch_size, (i+1)*data_loader.batch_size) if j < len(res)]\n",
        "            true_captions_text = [gts[j][0] for j in range(i*data_loader.batch_size, (i+1)*data_loader.batch_size) if j < len(gts)]\n",
        "\n",
        "\n",
        "            for pred, true in zip(predicted_captions_text, true_captions_text):\n",
        "                meteor_scores.append(meteor_score([true.split()], pred.split()))\n",
        "\n",
        "    (score, scores) = cider_scorer.compute_score(gts, res)\n",
        "    cider_score_avg = score\n",
        "\n",
        "    meteor_score_avg = sum(meteor_scores) / len(meteor_scores)\n",
        "\n",
        "\n",
        "    print(f\"METEOR Score: {meteor_score_avg:.4f}\")\n",
        "    print(f\"CIDEr Score: {cider_score_avg:.4f}\")\n",
        "\n",
        "# Load the dataset and data loader\n",
        "transform = transforms.Compose([transforms.ToTensor()])\n",
        "dataset = CIFAR10(root='./data', train=False, download=True, transform=transform)\n",
        "data_loader = torch.utils.data.DataLoader(dataset, batch_size=32, shuffle=False)\n",
        "\n",
        "# Load the model and device\n",
        "device = torch.device('cuda' if torch.cuda.is_available() else 'cpu')\n",
        "model = ImageCaptioningModel().to(device)\n",
        "\n",
        "# Evaluate the model\n",
        "evaluate_captions(model, data_loader, device)"
      ],
      "metadata": {
        "colab": {
          "base_uri": "https://localhost:8080/"
        },
        "id": "i3_-qtcw1_-4",
        "outputId": "83a46c40-51d0-4db5-bdf8-68c697ccb00c"
      },
      "execution_count": 9,
      "outputs": [
        {
          "output_type": "stream",
          "name": "stderr",
          "text": [
            "[nltk_data] Downloading package wordnet to /root/nltk_data...\n",
            "[nltk_data]   Package wordnet is already up-to-date!\n",
            "100%|██████████| 313/313 [00:02<00:00, 148.06it/s]\n"
          ]
        },
        {
          "output_type": "stream",
          "name": "stdout",
          "text": [
            "METEOR Score: 0.8929\n",
            "CIDEr Score: 3.4868\n"
          ]
        }
      ]
    },
    {
      "cell_type": "markdown",
      "source": [
        "## V-JEPA (Video Joint Embedding Predictive Architecture) with LLaMA"
      ],
      "metadata": {
        "id": "LMXvGoSknI_7"
      }
    },
    {
      "cell_type": "code",
      "source": [
        "import torch\n",
        "import torch.nn as nn\n",
        "import torchvision.transforms as transforms\n",
        "from torchvision.datasets import Kinetics\n",
        "from transformers import AutoModel, AutoTokenizer\n",
        "from tqdm import tqdm\n",
        "\n",
        "\n",
        "# Define the encoder network\n",
        "class VideoEncoder(nn.Module):\n",
        "    def __init__(self):\n",
        "        super(VideoEncoder, self).__init__()\n",
        "        self.conv1 = nn.Conv3d(3, 64, kernel_size=(3, 3, 3))\n",
        "        self.conv2 = nn.Conv3d(64, 128, kernel_size=(3, 3, 3))\n",
        "        self.fc1 = nn.Linear(128 * 2 * 2 * 2, 128)\n",
        "\n",
        "    def forward(self, x):\n",
        "        x = torch.relu(self.conv1(x))\n",
        "        x = torch.relu(self.conv2(x))\n",
        "        x = x.view(-1, 128 * 2 * 2 * 2)\n",
        "        x = torch.relu(self.fc1(x))\n",
        "        return x\n",
        "\n",
        "# Define the predictor network\n",
        "class VideoPredictor(nn.Module):\n",
        "    def __init__(self):\n",
        "        super(VideoPredictor, self).__init__()\n",
        "        self.fc1 = nn.Linear(128, 128)\n",
        "\n",
        "    def forward(self, x):\n",
        "        x = torch.relu(self.fc1(x))\n",
        "        return x\n",
        "\n",
        "# Define the V-JEPA model\n",
        "class VJepa(nn.Module):\n",
        "    def __init__(self):\n",
        "        super(VJepa, self).__init__()\n",
        "        self.encoder = VideoEncoder()\n",
        "        self.predictor = VideoPredictor()\n",
        "\n",
        "    def forward(self, x1, x2):\n",
        "        z1 = self.encoder(x1)\n",
        "        z2 = self.encoder(x2)\n",
        "        p1 = self.predictor(z1)\n",
        "        loss = nn.MSELoss()(p1, z2)\n",
        "        return loss\n",
        "\n",
        "# Use LLaMA 4 to generate captions for videos\n",
        "def generate_captions(videos):\n",
        "    captions = []\n",
        "    for video in videos:\n",
        "        # Use a placeholder caption for demonstration purposes\n",
        "        caption = \"A video of an object\"\n",
        "        inputs = llama_tokenizer(caption, return_tensors=\"pt\").to(device)\n",
        "        outputs = llama_model(**inputs, output_hidden_states=True)\n",
        "        captions.append(outputs.hidden_states[-1][:, 0, :])\n",
        "    return captions\n",
        "\n",
        "# Train the V-JEPA model\n",
        "# Note: Kinetics dataset is large and requires significant resources.\n",
        "# For demonstration purposes, we'll use a dummy dataset.\n",
        "class DummyVideoDataset(torch.utils.data.Dataset):\n",
        "    def __init__(self):\n",
        "        self.videos = torch.randn(100, 3, 10, 32, 32)  # 100 videos, 3 channels, 10 frames, 32x32 resolution\n",
        "\n",
        "    def __getitem__(self, index):\n",
        "        return self.videos[index]\n",
        "\n",
        "    def __len__(self):\n",
        "        return len(self.videos)\n",
        "\n",
        "dataset = DummyVideoDataset()\n",
        "data_loader = torch.utils.data.DataLoader(dataset, batch_size=32, shuffle=True)\n",
        "\n",
        "model = VJepa().to(device)\n",
        "criterion = nn.MSELoss()\n",
        "optimizer = torch.optim.Adam(model.parameters(), lr=0.001)\n",
        "\n",
        "n_epochs = 5\n",
        "for epoch in range(n_epochs):\n",
        "    for x in tqdm(data_loader, desc=f\"Epoch {epoch+1}/{n_epochs}\"):\n",
        "        x = x.to(device)\n",
        "        x1 = x + torch.randn_like(x) * 0.1  # Add noise to create a different view\n",
        "        x2 = x\n",
        "        loss = model(x1, x2)\n",
        "        optimizer.zero_grad()\n",
        "        loss.backward()\n",
        "        optimizer.step()\n",
        "\n",
        "        # Generate captions for videos using LLaMA 4\n",
        "        captions = generate_captions(x)\n",
        "\n",
        "    print(f'Epoch {epoch+1}, Loss: {loss.item()}')"
      ],
      "metadata": {
        "colab": {
          "base_uri": "https://localhost:8080/"
        },
        "id": "U-jYXvw7nDcA",
        "outputId": "27f09afa-1134-4b73-c00f-a0bac787d7bc"
      },
      "execution_count": 10,
      "outputs": [
        {
          "output_type": "stream",
          "name": "stderr",
          "text": [
            "Epoch 1/5: 100%|██████████| 4/4 [00:15<00:00,  3.90s/it]\n"
          ]
        },
        {
          "output_type": "stream",
          "name": "stdout",
          "text": [
            "Epoch 1, Loss: 0.0008843782125040889\n"
          ]
        },
        {
          "output_type": "stream",
          "name": "stderr",
          "text": [
            "Epoch 2/5: 100%|██████████| 4/4 [00:14<00:00,  3.69s/it]\n"
          ]
        },
        {
          "output_type": "stream",
          "name": "stdout",
          "text": [
            "Epoch 2, Loss: 0.0005779517232440412\n"
          ]
        },
        {
          "output_type": "stream",
          "name": "stderr",
          "text": [
            "Epoch 3/5: 100%|██████████| 4/4 [00:14<00:00,  3.66s/it]\n"
          ]
        },
        {
          "output_type": "stream",
          "name": "stdout",
          "text": [
            "Epoch 3, Loss: 0.00034413207322359085\n"
          ]
        },
        {
          "output_type": "stream",
          "name": "stderr",
          "text": [
            "Epoch 4/5: 100%|██████████| 4/4 [00:15<00:00,  3.75s/it]\n"
          ]
        },
        {
          "output_type": "stream",
          "name": "stdout",
          "text": [
            "Epoch 4, Loss: 0.00019226589938625693\n"
          ]
        },
        {
          "output_type": "stream",
          "name": "stderr",
          "text": [
            "Epoch 5/5: 100%|██████████| 4/4 [00:14<00:00,  3.65s/it]"
          ]
        },
        {
          "output_type": "stream",
          "name": "stdout",
          "text": [
            "Epoch 5, Loss: 0.00010456710151629522\n"
          ]
        },
        {
          "output_type": "stream",
          "name": "stderr",
          "text": [
            "\n"
          ]
        }
      ]
    },
    {
      "cell_type": "code",
      "metadata": {
        "colab": {
          "base_uri": "https://localhost:8080/"
        },
        "id": "8e65e180",
        "outputId": "6d58ff20-1a3c-4a44-dee4-4cf098a36bfe"
      },
      "source": [
        "import torch\n",
        "import torch.nn as nn\n",
        "import torchvision.transforms as transforms\n",
        "from torchvision.datasets import Kinetics\n",
        "from transformers import AutoModel, AutoTokenizer\n",
        "from tqdm import tqdm\n",
        "from nltk.translate.meteor_score import meteor_score\n",
        "from pycocoevalcap.cider.cider import Cider\n",
        "import nltk\n",
        "nltk.download('wordnet')\n",
        "\n",
        "# Define the video captioning model\n",
        "class VideoCaptioningModel(nn.Module):\n",
        "    def __init__(self):\n",
        "        super(VideoCaptioningModel, self).__init__()\n",
        "        self.encoder = VideoEncoder()\n",
        "        self.decoder = nn.Linear(128, 128) # This is a placeholder, a real decoder would be more complex\n",
        "\n",
        "    def forward(self, x):\n",
        "        x = self.encoder(x)\n",
        "        x = self.decoder(x)\n",
        "        return x\n",
        "\n",
        "# Define the evaluation function\n",
        "def evaluate_video_captions(model, data_loader, device):\n",
        "    model.eval()\n",
        "    meteor_scores = []\n",
        "    cider_scorer = Cider()\n",
        "\n",
        "    # Create placeholder captions\n",
        "    # In a real scenario, these would come from your dataset\n",
        "    gts = {i: [f\"caption {i}\"] for i in range(len(data_loader.dataset))}\n",
        "    res = {i: [f\"predicted caption {i}\"] for i in range(len(data_loader.dataset))}\n",
        "\n",
        "\n",
        "    with torch.no_grad():\n",
        "        for i, x in enumerate(tqdm(data_loader)):\n",
        "            x = x.to(device)\n",
        "            predicted_captions_vectors = model(x)\n",
        "\n",
        "            # In a real scenario, you would convert these vectors to text.\n",
        "            # For now, we'll use the placeholder captions.\n",
        "            predicted_captions_text = [res[j][0] for j in range(i*data_loader.batch_size, (i+1)*data_loader.batch_size) if j < len(res)]\n",
        "            true_captions_text = [gts[j][0] for j in range(i*data_loader.batch_size, (i+1)*data_loader.batch_size) if j < len(gts)]\n",
        "\n",
        "\n",
        "            for pred, true in zip(predicted_captions_text, true_captions_text):\n",
        "                meteor_scores.append(meteor_score([true.split()], pred.split()))\n",
        "\n",
        "    (score, scores) = cider_scorer.compute_score(gts, res)\n",
        "    cider_score_avg = score\n",
        "\n",
        "    meteor_score_avg = sum(meteor_scores) / len(meteor_scores)\n",
        "\n",
        "\n",
        "    print(f\"METEOR Score: {meteor_score_avg:.4f}\")\n",
        "    print(f\"CIDEr Score: {cider_score_avg:.4f}\")\n",
        "\n",
        "# Load the dataset and data loader\n",
        "dataset = DummyVideoDataset()\n",
        "data_loader = torch.utils.data.DataLoader(dataset, batch_size=32, shuffle=False)\n",
        "\n",
        "\n",
        "# Load the model and device\n",
        "device = torch.device('cuda' if torch.cuda.is_available() else 'cpu')\n",
        "model = VideoCaptioningModel().to(device)\n",
        "\n",
        "# Evaluate the model\n",
        "evaluate_video_captions(model, data_loader, device)"
      ],
      "execution_count": 11,
      "outputs": [
        {
          "output_type": "stream",
          "name": "stderr",
          "text": [
            "[nltk_data] Downloading package wordnet to /root/nltk_data...\n",
            "[nltk_data]   Package wordnet is already up-to-date!\n",
            "100%|██████████| 4/4 [00:00<00:00, 174.52it/s]"
          ]
        },
        {
          "output_type": "stream",
          "name": "stdout",
          "text": [
            "METEOR Score: 0.8929\n",
            "CIDEr Score: 3.4868\n"
          ]
        },
        {
          "output_type": "stream",
          "name": "stderr",
          "text": [
            "\n"
          ]
        }
      ]
    }
  ]
}