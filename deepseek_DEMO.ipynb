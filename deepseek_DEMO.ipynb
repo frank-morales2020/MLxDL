{
  "nbformat": 4,
  "nbformat_minor": 0,
  "metadata": {
    "colab": {
      "provenance": [],
      "machine_shape": "hm",
      "gpuType": "A100",
      "authorship_tag": "ABX9TyMiNXwtY7g1p/qm/SCTJqpT",
      "include_colab_link": true
    },
    "kernelspec": {
      "name": "python3",
      "display_name": "Python 3"
    },
    "language_info": {
      "name": "python"
    },
    "accelerator": "GPU"
  },
  "cells": [
    {
      "cell_type": "markdown",
      "metadata": {
        "id": "view-in-github",
        "colab_type": "text"
      },
      "source": [
        "<a href=\"https://colab.research.google.com/github/frank-morales2020/MLxDL/blob/main/deepseek_DEMO.ipynb\" target=\"_parent\"><img src=\"https://colab.research.google.com/assets/colab-badge.svg\" alt=\"Open In Colab\"/></a>"
      ]
    },
    {
      "cell_type": "code",
      "source": [
        "!pip install -q -U datasets transformers accelerate peft trl bitsandbytes sentencepiece interpret\n",
        "!pip install colab-env --quiet\n",
        "\n",
        "!pip install -U bitsandbytes -q"
      ],
      "metadata": {
        "id": "fmYp8WHEkDTr"
      },
      "execution_count": null,
      "outputs": []
    },
    {
      "cell_type": "code",
      "source": [
        "from huggingface_hub import login\n",
        "import os\n",
        "import colab_env  # Import colab_env for Colab environments\n",
        "\n",
        "# 0. Login to Hugging Face Hub (if needed)\n",
        "access_token_write = os.getenv(\"HUGGINGFACE_ACCESS_TOKEN_WRITE\")\n",
        "login(token=access_token_write, add_to_git_credential=True)"
      ],
      "metadata": {
        "id": "uwk2kHh_kBJo"
      },
      "execution_count": null,
      "outputs": []
    },
    {
      "cell_type": "code",
      "execution_count": null,
      "metadata": {
        "id": "oCoGy7dwizY4"
      },
      "outputs": [],
      "source": [
        "from transformers import AutoTokenizer, AutoModelForCausalLM\n",
        "\n",
        "# Replace with the specific DeepSeek-R1 model you want to use\n",
        "#model_name = \"deepseek-ai/DeepSeek-V2\"\n",
        "\n",
        "model_name = \"deepseek-ai/DeepSeek-V2-Lite\"\n",
        "\n",
        "\n",
        "tokenizer = AutoTokenizer.from_pretrained(model_name)\n",
        "model = AutoModelForCausalLM.from_pretrained(model_name, trust_remote_code=True)\n",
        "\n",
        "# Prepare your input text\n",
        "text = \"What is the capital of France?\"\n",
        "inputs = tokenizer(text, return_tensors=\"pt\")\n",
        "\n",
        "# Generate output\n",
        "outputs = model.generate(**inputs)\n",
        "generated_text = tokenizer.decode(outputs[0], skip_special_tokens=True)\n",
        "\n",
        "print(generated_text)  # Output: The capital of France is Paris."
      ]
    },
    {
      "cell_type": "code",
      "source": [
        "print(generated_text)  # Output: The capital of France is Paris."
      ],
      "metadata": {
        "colab": {
          "base_uri": "https://localhost:8080/"
        },
        "id": "zzlAh-cHpNoe",
        "outputId": "534dc502-265d-46ed-b5fe-5decd66ec761"
      },
      "execution_count": 4,
      "outputs": [
        {
          "output_type": "stream",
          "name": "stdout",
          "text": [
            "What is the capital of France?\n",
            "Paris is the capital of France.\n",
            "What is the\n"
          ]
        }
      ]
    },
    {
      "cell_type": "code",
      "source": [
        "outputs"
      ],
      "metadata": {
        "colab": {
          "base_uri": "https://localhost:8080/"
        },
        "id": "neCLU065vTF9",
        "outputId": "3e5fc9e5-ee7e-419f-fe35-bd8a110a35a3"
      },
      "execution_count": 6,
      "outputs": [
        {
          "output_type": "execute_result",
          "data": {
            "text/plain": [
              "tensor([[100000,   2640,    317,    254,   6077,    280,   7239,     30,    185,\n",
              "          40619,    317,    254,   6077,    280,   7239,     13,    185,   2640,\n",
              "            317,    254]])"
            ]
          },
          "metadata": {},
          "execution_count": 6
        }
      ]
    }
  ]
}