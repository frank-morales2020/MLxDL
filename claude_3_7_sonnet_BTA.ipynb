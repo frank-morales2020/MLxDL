{
  "nbformat": 4,
  "nbformat_minor": 0,
  "metadata": {
    "colab": {
      "provenance": [],
      "authorship_tag": "ABX9TyMSclVQnS2fXBU6XOWHeV5o",
      "include_colab_link": true
    },
    "kernelspec": {
      "name": "python3",
      "display_name": "Python 3"
    },
    "language_info": {
      "name": "python"
    }
  },
  "cells": [
    {
      "cell_type": "markdown",
      "metadata": {
        "id": "view-in-github",
        "colab_type": "text"
      },
      "source": [
        "<a href=\"https://colab.research.google.com/github/frank-morales2020/MLxDL/blob/main/claude_3_7_sonnet_BTA.ipynb\" target=\"_parent\"><img src=\"https://colab.research.google.com/assets/colab-badge.svg\" alt=\"Open In Colab\"/></a>"
      ]
    },
    {
      "cell_type": "markdown",
      "source": [
        "Source: https://docs.anthropic.com/claude/reference/client-sdks"
      ],
      "metadata": {
        "id": "QUKu-wBhsuB0"
      }
    },
    {
      "cell_type": "markdown",
      "source": [
        "* Claude 3 Opus: This is their most intelligent model, designed for highly complex tasks, open-ended prompts, and scenarios requiring human-like understanding.\n",
        "\n",
        "* Claude 3 Sonnet (and Claude 3.7 Sonnet): This model offers a strong balance of performance and speed, suitable for enterprise workloads and high-throughput tasks. Claude 3.7 Sonnet is their latest and most intelligent model, featuring hybrid reasoning and an adjustable \"thinking budget\" for cost management.\n",
        "\n",
        "* Claude 3 Haiku: This is their fastest and most cost-effective model, designed for near-instant responsiveness in tasks like live customer chats and quick information retrieval"
      ],
      "metadata": {
        "id": "G2BeisRrfWkR"
      }
    },
    {
      "cell_type": "code",
      "source": [
        "!pip install anthropic -q\n",
        "\n",
        "!pip install colab-env --quiet"
      ],
      "metadata": {
        "id": "dTdfKcHoquYQ"
      },
      "execution_count": null,
      "outputs": []
    },
    {
      "cell_type": "code",
      "source": [
        "import anthropic\n",
        "import os\n",
        "import colab_env\n",
        "import json"
      ],
      "metadata": {
        "id": "e5eNA5Q1rmlU"
      },
      "execution_count": null,
      "outputs": []
    },
    {
      "cell_type": "markdown",
      "source": [
        "https://docs.anthropic.com/en/docs/models-overview\n",
        "\n",
        "claude-3-opus-20240229"
      ],
      "metadata": {
        "id": "lJOP8QZ-IG29"
      }
    },
    {
      "cell_type": "code",
      "source": [
        "def claude_chat(prompt,model,client):\n",
        "    message = client.messages.create(\n",
        "    model=\"claude-3-7-sonnet-20250219\", # 30/04/2005\n",
        "    max_tokens=1024,\n",
        "    messages=[\n",
        "        {\"role\": \"user\", \"content\": prompt}\n",
        "    ]\n",
        "    )\n",
        "    print()\n",
        "    print(\"-\" * 80)\n",
        "    print('Question: %s'%prompt)\n",
        "    print(\"-\" * 80)\n",
        "    print()\n",
        "    print('Answer: ')\n",
        "    print(message.content[0].text)\n",
        "    #return message.content[0].text"
      ],
      "metadata": {
        "id": "CY09u8sl2hMs"
      },
      "execution_count": null,
      "outputs": []
    },
    {
      "cell_type": "code",
      "source": [
        "api_key = os.environ[\"CLAUDE3_API_KEY\"]\n",
        "model=\"claude-3-7-sonnet-20250219\", # 30/04/2005\n",
        "\n",
        "client = anthropic.Anthropic(\n",
        "    api_key=api_key,\n",
        ")"
      ],
      "metadata": {
        "id": "6xslLYGCsBu2"
      },
      "execution_count": null,
      "outputs": []
    },
    {
      "cell_type": "code",
      "execution_count": null,
      "metadata": {
        "id": "uCZCEqrkqlYU"
      },
      "outputs": [],
      "source": [
        "message = client.messages.create(\n",
        "    model=\"claude-3-7-sonnet-20250219\", # 30/04/2005\n",
        "    max_tokens=1024,\n",
        "    messages=[\n",
        "        {\"role\": \"user\", \"content\": \"Hello, Claude\"}\n",
        "    ]\n",
        ")"
      ]
    },
    {
      "cell_type": "code",
      "source": [
        "print(message.content[0].text)"
      ],
      "metadata": {
        "colab": {
          "base_uri": "https://localhost:8080/"
        },
        "id": "-n5-NR4Rs5JY",
        "outputId": "8431787d-a0bf-4bac-f829-7e76ed693710"
      },
      "execution_count": null,
      "outputs": [
        {
          "output_type": "stream",
          "name": "stdout",
          "text": [
            "Hello! It's nice to meet you. How can I help you today? Feel free to ask me any questions or let me know what you'd like to discuss.\n"
          ]
        }
      ]
    },
    {
      "cell_type": "markdown",
      "source": [
        "# Bob Travel App"
      ],
      "metadata": {
        "id": "D9JRSs80EJhE"
      }
    },
    {
      "cell_type": "markdown",
      "source": [
        "To travel from Vancouver International Airport (YVR) to San Antonio International Airport (SAT), you'll typically need to book a flight. There are no direct flights from YVR to SAT. Popular airlines serving this route include Air Canada, Alaska Airlines, American Airlines, Delta, United, and WestJet. Roundtrip flights can be found for around CA$374.\n",
        "\n",
        "\n",
        "Dallas/Fort Worth International Airport (IATA: DFW, ICAO: KDFW, FAA LID: DFW),"
      ],
      "metadata": {
        "id": "pLsQSKrSdpQq"
      }
    },
    {
      "cell_type": "code",
      "source": [
        "prompt= 'How do you plan out your trip? \\\n",
        "Bob is travelling to SAT from YVR \\\n",
        "1. He has a connection in DFW \\\n",
        "2. His connection is 6 hours long \\\n",
        "3. He has a budget of 5000.00 including meals \\\n",
        "4. What can he do? Please suggest a time. \\\n",
        "5. Know- he is a hiker, museum, foodie, has a carry-on bag'\n",
        "\n",
        "claude_chat(prompt,model,client)"
      ],
      "metadata": {
        "colab": {
          "base_uri": "https://localhost:8080/"
        },
        "id": "-FcvXtdmEQyq",
        "outputId": "ce5ab3ee-09d1-47d3-bf98-f9316662e030"
      },
      "execution_count": null,
      "outputs": [
        {
          "output_type": "stream",
          "name": "stdout",
          "text": [
            "\n",
            "--------------------------------------------------------------------------------\n",
            "Question: How do you plan out your trip? Bob is travelling to SAT from YVR 1. He has a connection in DFW 2. His connection is 6 hours long 3. He has a budget of 5000.00 including meals 4. What can he do? Please suggest a time. 5. Know- he is a hiker, museum, foodie, has a carry-on bag\n",
            "--------------------------------------------------------------------------------\n",
            "\n",
            "Answer: \n",
            "# Trip Planning for Bob: YVR to SAT via DFW\n",
            "\n",
            "## Flight Itinerary\n",
            "- **Departure**: Vancouver International Airport (YVR)\n",
            "- **Connection**: Dallas/Fort Worth International Airport (DFW) - 6-hour layover\n",
            "- **Destination**: San Antonio International Airport (SAT)\n",
            "- **Budget**: $5,000 total (including meals)\n",
            "\n",
            "## DFW 6-Hour Layover Activities\n",
            "\n",
            "### Option 1: Indoor Airport Exploration (No Luggage Concerns)\n",
            "**Timeframe**: Full 6 hours within airport\n",
            "- Explore DFW's art installations and exhibits (1 hour)\n",
            "- Enjoy a Texas-style BBQ meal at an airport restaurant (~$30, 1 hour)\n",
            "- Visit the airport's yoga studio or walking paths (1 hour)\n",
            "- Browse the shops and pick up local Texas souvenirs (1 hour)\n",
            "- Relax in an airport lounge if available (~$50, 2 hours)\n",
            "\n",
            "### Option 2: Local Exploration (With Carry-on)\n",
            "**Timeframe**: 3-4 hours outside airport (allowing time for security re-entry)\n",
            "- **9:00 AM - 10:00 AM**: Take the DART train to downtown Dallas\n",
            "- **10:00 AM - 12:00 PM**: Visit the Dallas Museum of Art ($16 admission)\n",
            "- **12:00 PM - 1:00 PM**: Experience Tex-Mex cuisine at a local restaurant (~$25)\n",
            "- **1:00 PM - 2:00 PM**: Return to DFW with plenty of time for security\n",
            "\n",
            "### Option 3: Nature Break\n",
            "**Timeframe**: 3-4 hours outside airport\n",
            "- **10:00 AM - 2:00 PM**: Take a rideshare to Arbor Hills Nature Preserve (~$30 each way, 25 minutes)\n",
            "- Hike the trails for 2-3 hours (free activity that aligns with Bob's hiking interest)\n",
            "- Pick up a quick meal on the way back (~$15)\n",
            "\n",
            "## Recommendation\n",
            "Based on Bob's interests as a hiker, museum enthusiast, and foodie, **Option 2** provides the best balance of his interests while accounting for his carry-on bag. The Dallas Museum of Art is easily accessible by public transit, and he can sample authentic Tex-Mex food, addressing two of his interests in a reasonable timeframe.\n",
            "\n",
            "## Budget Impact\n",
            "The layover activities would cost approximately $70-100, leaving plenty of budget for the main vacation in San Antonio, where he can enjoy more hiking, museum visits, and culinary experiences.\n"
          ]
        }
      ]
    }
  ]
}