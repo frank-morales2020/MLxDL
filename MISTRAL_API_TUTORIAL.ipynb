{
  "nbformat": 4,
  "nbformat_minor": 0,
  "metadata": {
    "colab": {
      "provenance": [],
      "authorship_tag": "ABX9TyPlKXkd/xo5vpwmZGCsZEcP",
      "include_colab_link": true
    },
    "kernelspec": {
      "name": "python3",
      "display_name": "Python 3"
    },
    "language_info": {
      "name": "python"
    }
  },
  "cells": [
    {
      "cell_type": "markdown",
      "metadata": {
        "id": "view-in-github",
        "colab_type": "text"
      },
      "source": [
        "<a href=\"https://colab.research.google.com/github/frank-morales2020/MLxDL/blob/main/MISTRAL_API_TUTORIAL.ipynb\" target=\"_parent\"><img src=\"https://colab.research.google.com/assets/colab-badge.svg\" alt=\"Open In Colab\"/></a>"
      ]
    },
    {
      "cell_type": "markdown",
      "source": [
        "https://docs.mistral.ai/platform/client/"
      ],
      "metadata": {
        "id": "HFSQBSaVuYEu"
      }
    },
    {
      "cell_type": "markdown",
      "source": [
        "# Dependencies and Settings"
      ],
      "metadata": {
        "id": "NesDaI4OICGe"
      }
    },
    {
      "cell_type": "markdown",
      "source": [
        "Installing Modules"
      ],
      "metadata": {
        "id": "S2X7iLVUPIrN"
      }
    },
    {
      "cell_type": "code",
      "source": [
        "!pip install colab-env --quiet\n",
        "!pip install mistralai --quiet"
      ],
      "metadata": {
        "id": "ghqAXWE-xJa_"
      },
      "execution_count": 140,
      "outputs": []
    },
    {
      "cell_type": "markdown",
      "source": [
        "Importing Modules"
      ],
      "metadata": {
        "id": "k9lF1C1DNgKm"
      }
    },
    {
      "cell_type": "code",
      "source": [
        "import mistralai\n",
        "from mistralai.client import MistralClient\n",
        "from mistralai.models.chat_completion import ChatMessage\n",
        "import os\n",
        "import colab_env\n",
        "\n",
        "api_key = os.environ[\"MISTRAL_API_KEY\"]\n",
        "model = \"mistral-large-latest\"\n",
        "\n",
        "client = MistralClient(api_key=api_key)"
      ],
      "metadata": {
        "id": "a87Hog_P8h9P"
      },
      "execution_count": 141,
      "outputs": []
    },
    {
      "cell_type": "markdown",
      "source": [
        "Function Definitions"
      ],
      "metadata": {
        "id": "rErYuWh3PNm0"
      }
    },
    {
      "cell_type": "code",
      "source": [
        "def mistral_chat(prompt,model,client,stream):\n",
        "  client = MistralClient(api_key=api_key)\n",
        "  messages = [ChatMessage(role=\"user\", content=prompt)]\n",
        "  if stream==True:\n",
        "     print(\"Streaming\")\n",
        "     print()\n",
        "     for chunk in client.chat_stream(\n",
        "        model=model,\n",
        "        messages=messages,\n",
        "        ):\n",
        "        if chunk.choices[0].delta.content is not None:\n",
        "            print(chunk.choices[0].delta.content, end=\"\")\n",
        "  else:\n",
        "\n",
        "     print(\"No streaming\")\n",
        "\n",
        "     chat_response = client.chat(model=model,messages=messages, safe_mode=True,temperature=0.9)\n",
        "     #print(chat_response.choices[0].message.content)\n",
        "     return chat_response"
      ],
      "metadata": {
        "id": "CQPXU56gJGNS"
      },
      "execution_count": 149,
      "outputs": []
    },
    {
      "cell_type": "markdown",
      "source": [
        "# No streaming"
      ],
      "metadata": {
        "id": "0kjQNPiMHt8e"
      }
    },
    {
      "cell_type": "code",
      "source": [
        "query='who is the best French Poet?'\n",
        "#model =  \"open-mistral-7b\"\n",
        "model = \"mistral-large-latest\"\n",
        "\n",
        "chat_response=mistral_chat(query,model,client,stream=False)\n",
        "print()\n",
        "print(chat_response.choices[0].message.content)\n"
      ],
      "metadata": {
        "colab": {
          "base_uri": "https://localhost:8080/"
        },
        "id": "y71lC549KkKZ",
        "outputId": "7030725e-e7d5-4e37-d017-5d94f9b730aa"
      },
      "execution_count": 143,
      "outputs": [
        {
          "output_type": "stream",
          "name": "stdout",
          "text": [
            "No streaming\n",
            "\n",
            "I'm here to provide a respectful and informative response. However, it's important to note that the term \"best\" is subjective and can vary greatly depending on personal preferences, cultural context, and historical period.\n",
            "\n",
            "In French literature, there are many renowned poets who have made significant contributions. Some of these include:\n",
            "\n",
            "1. Victor Hugo: Known for his works like \"Les Misérables\" and \"Notre-Dame de Paris\", Hugo is often considered one of the greatest French writers.\n",
            "\n",
            "2. Charles Baudelaire: He is known for his poetry collection \"Les Fleurs du mal\", which has had a profound influence on modern literature.\n",
            "\n",
            "3. Arthur Rimbaud: Despite his brief literary career, Rimbaud is considered a significant influence on modern literature and arts, known for works like \"A Season in Hell\".\n",
            "\n",
            "4. Paul Verlaine: Known for his romantic and musical verses, Verlaine's works, like \"Romances sans paroles\", are highly regarded.\n",
            "\n",
            "Each of these poets has a unique style and has contributed significantly to French literature in their own way. Therefore, the \"best\" French poet would depend on one's personal taste and interpretation of their works.\n"
          ]
        }
      ]
    },
    {
      "cell_type": "markdown",
      "source": [
        "# With streaming\n"
      ],
      "metadata": {
        "id": "bUeM_CynH0yE"
      }
    },
    {
      "cell_type": "code",
      "source": [
        "query=\"What is the best French restaurant in Paris?\"\n",
        "model = \"mistral-large-latest\"\n",
        "\n",
        "chat_response=mistral_chat(query,model,client,stream=True)\n"
      ],
      "metadata": {
        "colab": {
          "base_uri": "https://localhost:8080/"
        },
        "id": "cohNToVWzG6x",
        "outputId": "cdb979c8-18af-472e-bad2-4483d79d5a2b"
      },
      "execution_count": 148,
      "outputs": [
        {
          "output_type": "stream",
          "name": "stdout",
          "text": [
            "Streaming\n",
            "\n",
            "Paris is known for its exceptional French cuisine and has many top-notch French restaurants. The \"best\" restaurant can depend on personal preferences, such as the type of cuisine, atmosphere, and budget. However, some of the highly acclaimed French restaurants in Paris include:\n",
            "\n",
            "1. Guy Savoy - Known for its innovative and refined dishes, this restaurant has been awarded three Michelin stars.\n",
            "\n",
            "2. Le Meurice Alain Ducasse - Another three Michelin-starred restaurant, Le Meurice offers contemporary French cuisine with a focus on fresh and high-quality ingredients.\n",
            "\n",
            "3. L'Ambroisie - This restaurant, situated in the heart of Paris, serves classic French haute cuisine and has been awarded three Michelin stars.\n",
            "\n",
            "4. L'Arpège - Chef Alain Passard's three Michelin-starred restaurant is famous for its focus on vegetables and has a reputation for being one of the best vegetable-focused restaurants in the world.\n",
            "\n",
            "5. Septime - A more contemporary and casual option, Septime offers a unique and creative tasting menu that changes frequently based on seasonal ingredients. It has been awarded one Michelin star.\n",
            "\n",
            "It is recommended to make reservations well in advance for these popular restaurants. Additionally, keep in mind that many high-end restaurants in Paris have a dress code, so it's a good idea to check their website or call ahead to ensure you're dressed appropriately."
          ]
        }
      ]
    }
  ]
}