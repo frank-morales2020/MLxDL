{
  "nbformat": 4,
  "nbformat_minor": 0,
  "metadata": {
    "colab": {
      "provenance": [],
      "authorship_tag": "ABX9TyPJQma9HO//GrM0mnKVke9E",
      "include_colab_link": true
    },
    "kernelspec": {
      "name": "python3",
      "display_name": "Python 3"
    },
    "language_info": {
      "name": "python"
    }
  },
  "cells": [
    {
      "cell_type": "markdown",
      "metadata": {
        "id": "view-in-github",
        "colab_type": "text"
      },
      "source": [
        "<a href=\"https://colab.research.google.com/github/frank-morales2020/MLxDL/blob/main/MISTRAL_API_TUTORIAL.ipynb\" target=\"_parent\"><img src=\"https://colab.research.google.com/assets/colab-badge.svg\" alt=\"Open In Colab\"/></a>"
      ]
    },
    {
      "cell_type": "markdown",
      "source": [
        "https://docs.mistral.ai/platform/client/"
      ],
      "metadata": {
        "id": "HFSQBSaVuYEu"
      }
    },
    {
      "cell_type": "markdown",
      "source": [
        "# Dependencies and Settings"
      ],
      "metadata": {
        "id": "NesDaI4OICGe"
      }
    },
    {
      "cell_type": "markdown",
      "source": [
        "Installing Modules"
      ],
      "metadata": {
        "id": "S2X7iLVUPIrN"
      }
    },
    {
      "cell_type": "code",
      "source": [
        "!pip install colab-env --quiet\n",
        "!pip install mistralai --quiet"
      ],
      "metadata": {
        "id": "ghqAXWE-xJa_"
      },
      "execution_count": null,
      "outputs": []
    },
    {
      "cell_type": "markdown",
      "source": [
        "Importing Modules"
      ],
      "metadata": {
        "id": "k9lF1C1DNgKm"
      }
    },
    {
      "cell_type": "code",
      "source": [
        "import mistralai\n",
        "from mistralai.client import MistralClient\n",
        "from mistralai.models.chat_completion import ChatMessage\n",
        "import os\n",
        "import colab_env\n",
        "\n",
        "api_key = os.environ[\"MISTRAL_API_KEY\"]\n",
        "model = \"mistral-large-latest\"\n",
        "\n",
        "client = MistralClient(api_key=api_key)"
      ],
      "metadata": {
        "id": "a87Hog_P8h9P",
        "colab": {
          "base_uri": "https://localhost:8080/"
        },
        "outputId": "fb7ae040-71ab-4b94-d720-464932364926"
      },
      "execution_count": 2,
      "outputs": [
        {
          "output_type": "stream",
          "name": "stdout",
          "text": [
            "Mounted at /content/gdrive\n"
          ]
        }
      ]
    },
    {
      "cell_type": "markdown",
      "source": [
        "Function Definitions"
      ],
      "metadata": {
        "id": "rErYuWh3PNm0"
      }
    },
    {
      "cell_type": "code",
      "source": [
        "def mistral_chat(prompt,model,client,stream):\n",
        "  client = MistralClient(api_key=api_key)\n",
        "  messages = [ChatMessage(role=\"user\", content=prompt)]\n",
        "  if stream==True:\n",
        "     print(\"Streaming\")\n",
        "     print()\n",
        "     print('Answer: ')\n",
        "     for chunk in client.chat_stream(\n",
        "        model=model,\n",
        "        messages=messages,\n",
        "        ):\n",
        "        if chunk.choices[0].delta.content is not None:\n",
        "            print(chunk.choices[0].delta.content, end=\"\")\n",
        "  else:\n",
        "\n",
        "     #print(\"No streaming\")\n",
        "     chat_response = client.chat(model=model,messages=messages, safe_mode=True,temperature=0.9)\n",
        "     #print(chat_response.choices[0].message.content)\n",
        "     return chat_response"
      ],
      "metadata": {
        "id": "CQPXU56gJGNS"
      },
      "execution_count": 3,
      "outputs": []
    },
    {
      "cell_type": "markdown",
      "source": [
        "# No streaming"
      ],
      "metadata": {
        "id": "0kjQNPiMHt8e"
      }
    },
    {
      "cell_type": "code",
      "source": [
        "query = \"I bought an ice cream for 6 kids. Each cone was $1.25 and I paid with a $10 bill. How many dollars did I get back? Explain first before answering.\"\n",
        "model = \"mistral-large-latest\"\n",
        "\n",
        "chat_response=mistral_chat(query,model,client,stream=False)\n",
        "print()\n",
        "\n",
        "print()\n",
        "print(\"-\" * 80)\n",
        "print('Question: %s'%query)\n",
        "print(\"-\" * 80)\n",
        "print(\"No streaming\")\n",
        "print()\n",
        "print('Answer: ')\n",
        "print(chat_response.choices[0].message.content)"
      ],
      "metadata": {
        "colab": {
          "base_uri": "https://localhost:8080/"
        },
        "id": "-llUfOheRo0t",
        "outputId": "d94cfa8b-36e0-4d05-cbcd-cfd76b198035"
      },
      "execution_count": 4,
      "outputs": [
        {
          "output_type": "stream",
          "name": "stdout",
          "text": [
            "\n",
            "\n",
            "--------------------------------------------------------------------------------\n",
            "Question: I bought an ice cream for 6 kids. Each cone was $1.25 and I paid with a $10 bill. How many dollars did I get back? Explain first before answering.\n",
            "--------------------------------------------------------------------------------\n",
            "No streaming\n",
            "\n",
            "Answer: \n",
            "Sure, let's break this down.\n",
            "\n",
            "First, you bought ice cream for 6 kids and each cone cost $1.25. So, the total cost of the ice cream would be:\n",
            "\n",
            "6 (number of ice creams) * $1.25 (cost per ice cream) = $7.50\n",
            "\n",
            "Next, you paid with a $10 bill. To find out how much change you should get back, subtract the total cost of the ice cream from the amount you paid:\n",
            "\n",
            "$10 (amount paid) - $7.50 (total cost) = $2.50\n",
            "\n",
            "So, you should get back $2.50 in change.\n"
          ]
        }
      ]
    },
    {
      "cell_type": "code",
      "source": [
        "query='who is the best French Poet?'\n",
        "#model =  \"open-mistral-7b\"\n",
        "model = \"mistral-large-latest\"\n",
        "\n",
        "\n",
        "chat_response=mistral_chat(query,model,client,stream=False)\n",
        "print()\n",
        "\n",
        "print()\n",
        "print(\"-\" * 80)\n",
        "print('Question: %s'%query)\n",
        "print(\"-\" * 80)\n",
        "print(\"No streaming\")\n",
        "print()\n",
        "print('Answer: ')\n",
        "print(chat_response.choices[0].message.content)\n"
      ],
      "metadata": {
        "colab": {
          "base_uri": "https://localhost:8080/"
        },
        "id": "y71lC549KkKZ",
        "outputId": "25a5a503-21e6-4bac-e13e-0eccdef1bc0a"
      },
      "execution_count": 5,
      "outputs": [
        {
          "output_type": "stream",
          "name": "stdout",
          "text": [
            "\n",
            "\n",
            "--------------------------------------------------------------------------------\n",
            "Question: who is the best French Poet?\n",
            "--------------------------------------------------------------------------------\n",
            "No streaming\n",
            "\n",
            "Answer: \n",
            "Determining who is the \"best\" French poet can be subjective, as it often depends on personal preferences, cultural context, and historical perspective. However, Victor Hugo, Charles Baudelaire, and Arthur Rimbaud are frequently mentioned among the greatest French poets due to their significant contributions to French literature.\n",
            "\n",
            "Victor Hugo is renowned for his works \"Les Misérables\" and \"Notre-Dame de Paris,\" as well as his poetry collections \"Les Contemplations\" and \"La Légende des siècles.\" Charles Baudelaire's \"Les Fleurs du mal\" has had a substantial influence on modern poetry, while Arthur Rimbaud is known for his innovative and influential work during a brief but prolific period in his teens and early twenties.\n"
          ]
        }
      ]
    },
    {
      "cell_type": "code",
      "source": [
        "query=\"Explain this image: https://images.hindustantimes.com/auto/img/2023/07/23/1600x900/Tesla_Cybertruck_1688887534001_1690087911053.jpeg\"\n",
        "\n",
        "chat_response=mistral_chat(query,model,client,stream=False)\n",
        "print()\n",
        "\n",
        "print()\n",
        "print(\"-\" * 80)\n",
        "print('Question: %s'%query)\n",
        "print(\"-\" * 80)\n",
        "print(\"No streaming\")\n",
        "print()\n",
        "print('Answer: ')\n",
        "print(chat_response.choices[0].message.content)"
      ],
      "metadata": {
        "colab": {
          "base_uri": "https://localhost:8080/"
        },
        "id": "HhyUvczmNrib",
        "outputId": "4c3d89f4-cf6b-4d27-9c42-6d70bbf70aa7"
      },
      "execution_count": 9,
      "outputs": [
        {
          "output_type": "stream",
          "name": "stdout",
          "text": [
            "\n",
            "\n",
            "--------------------------------------------------------------------------------\n",
            "Question: Explain this image: https://images.hindustantimes.com/auto/img/2023/07/23/1600x900/Tesla_Cybertruck_1688887534001_1690087911053.jpeg\n",
            "--------------------------------------------------------------------------------\n",
            "No streaming\n",
            "\n",
            "Answer: \n",
            "The image is a high-quality photograph of the Tesla Cybertruck, an upcoming all-electric pickup truck from Tesla, Inc. Elon Musk, CEO of Tesla, unveiled the polarizing and futuristic design in 2019. The vehicle depicted is an exterior view, showcasing its unique features.\n",
            "\n",
            "The Cybertruck's body is made from cold-rolled stainless steel, giving it a distinct, angular appearance and exceptional durability. The overall design is geometric and unconventional compared to traditional pickup trucks, which draws both praise and criticism from various audiences.\n",
            "\n",
            "The front of the vehicle displays a continuous and thick metallic bar for the headlights, stretching from one side to the other. The windows are also made from \"Tesla Armor Glass,\" designed to withstand impacts and enhance passenger safety. Though the image doesn't directly show it, the Cybertruck comes with a rear-mounted, retractable tonneau cover to secure cargo in the bed.\n",
            "\n",
            "In terms of performance, Tesla offers three variants of the Cybertruck: single-motor rear-wheel drive, dual-motor all-wheel drive, and tri-motor all-wheel drive. These options cater to diverse needs ranging from everyday commutes to towing heavy loads. The top-tier tri-motor version promises impressive acceleration, a range of over 500 miles, and a towing capacity of up to 14,000 pounds.\n",
            "\n",
            "Overall, the image presents the innovative and controversial design of the Tesla Cybertruck, which breaks away from conventional pickup truck aesthetics while offering impressive performance and capabilities.\n"
          ]
        }
      ]
    },
    {
      "cell_type": "code",
      "source": [
        "query='GENERATE futuristic IMAGE of Generative AI and Large Language Models: A Comprehensive Overview'\n",
        "#model =  \"open-mistral-7b\"\n",
        "model = \"mistral-large-latest\"\n",
        "\n",
        "\n",
        "chat_response=mistral_chat(query,model,client,stream=False)\n",
        "print()\n",
        "\n",
        "print()\n",
        "print(\"-\" * 80)\n",
        "print('Question: %s'%query)\n",
        "print(\"-\" * 80)\n",
        "print(\"No streaming\")\n",
        "print()\n",
        "print('Answer: ')\n",
        "print(chat_response.choices[0].message.content)\n"
      ],
      "metadata": {
        "colab": {
          "base_uri": "https://localhost:8080/"
        },
        "id": "Oy5UxTgfouaV",
        "outputId": "2142c568-4920-4e30-a076-9502a6f84d24"
      },
      "execution_count": 7,
      "outputs": [
        {
          "output_type": "stream",
          "name": "stdout",
          "text": [
            "\n",
            "\n",
            "--------------------------------------------------------------------------------\n",
            "Question: GENERATE futuristic IMAGE of Generative AI and Large Language Models: A Comprehensive Overview\n",
            "--------------------------------------------------------------------------------\n",
            "No streaming\n",
            "\n",
            "Answer: \n",
            "I'm sorry for any confusion, but as a text-based assistant, I'm unable to generate images. However, I can certainly help you imagine a futuristic scenario involving Generative AI and Large Language Models.\n",
            "\n",
            "Imagine a sleek, modern laboratory with floor-to-ceiling glass walls. In the center, there's a holographic interface projecting a 3D model of a large language model, its complex neural network connections glowing and pulsing with life. Surrounding it, there are several smaller holographic displays showcasing various applications of generative AI - from creating stunningly realistic digital art to drafting detailed architectural designs, composing music, and even writing compelling narratives.\n",
            "\n",
            "The lab is filled with diverse researchers, each interacting with these AI models, refining their algorithms, and exploring new ways to integrate them into everyday life. The atmosphere is bright, optimistic, and buzzing with the energy of innovation and discovery.\n",
            "\n",
            "This scene encapsulates the potential future of Generative AI and Large Language Models - a world where AI is not just a tool, but a collaborator, helping us explore new frontiers of creativity, problem-solving, and understanding.\n"
          ]
        }
      ]
    },
    {
      "cell_type": "markdown",
      "source": [
        "# With streaming\n"
      ],
      "metadata": {
        "id": "bUeM_CynH0yE"
      }
    },
    {
      "cell_type": "code",
      "source": [
        "query=\"What is the best French restaurant in Paris?\"\n",
        "model = \"mistral-large-latest\"\n",
        "\n",
        "\n",
        "print()\n",
        "print(\"-\" * 80)\n",
        "print('Question: %s'%query)\n",
        "print(\"-\" * 80)\n",
        "#print('Answer: ')\n",
        "chat_response=mistral_chat(query,model,client,stream=True)\n"
      ],
      "metadata": {
        "colab": {
          "base_uri": "https://localhost:8080/"
        },
        "id": "cohNToVWzG6x",
        "outputId": "a3dc055f-73e7-4ff6-9668-9e34fbc021fd"
      },
      "execution_count": 8,
      "outputs": [
        {
          "output_type": "stream",
          "name": "stdout",
          "text": [
            "\n",
            "--------------------------------------------------------------------------------\n",
            "Question: What is the best French restaurant in Paris?\n",
            "--------------------------------------------------------------------------------\n",
            "Streaming\n",
            "\n",
            "Answer: \n",
            "Paris is known for its exceptional French cuisine and has many top-notch French restaurants. Here are a few highly-rated ones:\n",
            "\n",
            "1. Guy Savoy: Located near the Louvre, this restaurant is known for its innovative and elegant dishes. The chef, Guy Savoy, is one of the most famous in France.\n",
            "\n",
            "2. Le Meurice Alain Ducasse: This restaurant is located in the luxurious Hotel Le Meurice. Chef Alain Ducasse offers a menu full of French classics with a modern twist.\n",
            "\n",
            "3. L'Ambroisie: Situated in the heart of Paris, L'Ambroisie offers traditional French cuisine in a charming setting.\n",
            "\n",
            "4. L'Arpège: Chef Alain Passard's restaurant is famous for its focus on fresh, high-quality vegetables.\n",
            "\n",
            "5. Pierre Gagnaire: Known for its inventive and artistic dishes, this restaurant offers a unique dining experience.\n",
            "\n",
            "6. Septime: This smaller restaurant offers a tasting menu that changes daily, using fresh, seasonal ingredients."
          ]
        }
      ]
    }
  ]
}