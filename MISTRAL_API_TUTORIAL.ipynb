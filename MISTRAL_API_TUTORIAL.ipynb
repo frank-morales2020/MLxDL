{
  "nbformat": 4,
  "nbformat_minor": 0,
  "metadata": {
    "colab": {
      "provenance": [],
      "authorship_tag": "ABX9TyPZ6Z4Zxr+O99w7aB4Tr6sn",
      "include_colab_link": true
    },
    "kernelspec": {
      "name": "python3",
      "display_name": "Python 3"
    },
    "language_info": {
      "name": "python"
    }
  },
  "cells": [
    {
      "cell_type": "markdown",
      "metadata": {
        "id": "view-in-github",
        "colab_type": "text"
      },
      "source": [
        "<a href=\"https://colab.research.google.com/github/frank-morales2020/MLxDL/blob/main/MISTRAL_API_TUTORIAL.ipynb\" target=\"_parent\"><img src=\"https://colab.research.google.com/assets/colab-badge.svg\" alt=\"Open In Colab\"/></a>"
      ]
    },
    {
      "cell_type": "markdown",
      "source": [
        "https://docs.mistral.ai/platform/client/"
      ],
      "metadata": {
        "id": "HFSQBSaVuYEu"
      }
    },
    {
      "cell_type": "markdown",
      "source": [
        "# Dependencies and Settings"
      ],
      "metadata": {
        "id": "NesDaI4OICGe"
      }
    },
    {
      "cell_type": "markdown",
      "source": [
        "Installing Modules"
      ],
      "metadata": {
        "id": "S2X7iLVUPIrN"
      }
    },
    {
      "cell_type": "code",
      "source": [
        "!pip install colab-env --quiet\n",
        "!pip install mistralai --quiet"
      ],
      "metadata": {
        "id": "ghqAXWE-xJa_"
      },
      "execution_count": null,
      "outputs": []
    },
    {
      "cell_type": "markdown",
      "source": [
        "Importing Modules"
      ],
      "metadata": {
        "id": "k9lF1C1DNgKm"
      }
    },
    {
      "cell_type": "code",
      "source": [
        "import mistralai\n",
        "from mistralai.client import MistralClient\n",
        "from mistralai.models.chat_completion import ChatMessage\n",
        "import os\n",
        "import colab_env\n",
        "\n",
        "api_key = os.environ[\"MISTRAL_API_KEY\"]\n",
        "model = \"mistral-large-latest\"\n",
        "\n",
        "client = MistralClient(api_key=api_key)"
      ],
      "metadata": {
        "id": "a87Hog_P8h9P"
      },
      "execution_count": null,
      "outputs": []
    },
    {
      "cell_type": "markdown",
      "source": [
        "Function Definitions"
      ],
      "metadata": {
        "id": "rErYuWh3PNm0"
      }
    },
    {
      "cell_type": "code",
      "source": [
        "def mistral_chat(prompt,model,client,stream):\n",
        "  client = MistralClient(api_key=api_key)\n",
        "  messages = [ChatMessage(role=\"user\", content=prompt)]\n",
        "  if stream==True:\n",
        "     print(\"Streaming\")\n",
        "     print()\n",
        "     print('Answer: ')\n",
        "     for chunk in client.chat_stream(\n",
        "        model=model,\n",
        "        messages=messages,\n",
        "        ):\n",
        "        if chunk.choices[0].delta.content is not None:\n",
        "            print(chunk.choices[0].delta.content, end=\"\")\n",
        "  else:\n",
        "\n",
        "     #print(\"No streaming\")\n",
        "     chat_response = client.chat(model=model,messages=messages, safe_mode=True,temperature=0.9)\n",
        "     #print(chat_response.choices[0].message.content)\n",
        "     return chat_response"
      ],
      "metadata": {
        "id": "CQPXU56gJGNS"
      },
      "execution_count": 3,
      "outputs": []
    },
    {
      "cell_type": "markdown",
      "source": [
        "# No streaming"
      ],
      "metadata": {
        "id": "0kjQNPiMHt8e"
      }
    },
    {
      "cell_type": "code",
      "source": [
        "query = \"I bought an ice cream for 6 kids. Each cone was $1.25 and I paid with a $10 bill. How many dollars did I get back? Explain first before answering.\"\n",
        "model = \"mistral-large-latest\"\n",
        "\n",
        "chat_response=mistral_chat(query,model,client,stream=False)\n",
        "print()\n",
        "\n",
        "print()\n",
        "print(\"-\" * 80)\n",
        "print('Question: %s'%query)\n",
        "print(\"-\" * 80)\n",
        "print(\"No streaming\")\n",
        "print()\n",
        "print('Answer: ')\n",
        "print(chat_response.choices[0].message.content)"
      ],
      "metadata": {
        "colab": {
          "base_uri": "https://localhost:8080/"
        },
        "id": "-llUfOheRo0t",
        "outputId": "498c83e5-4869-4506-8ec3-3db83c2a01dc"
      },
      "execution_count": 4,
      "outputs": [
        {
          "output_type": "stream",
          "name": "stdout",
          "text": [
            "\n",
            "\n",
            "--------------------------------------------------------------------------------\n",
            "Question: I bought an ice cream for 6 kids. Each cone was $1.25 and I paid with a $10 bill. How many dollars did I get back? Explain first before answering.\n",
            "--------------------------------------------------------------------------------\n",
            "No streaming\n",
            "\n",
            "Answer: \n",
            "Sure, let's break it down:\n",
            "\n",
            "First, we need to find out how much you spent on ice cream. Since each cone was $1.25 and you bought 6, you spent 6 (the number of ice creams) times $1.25 (the cost of each ice cream), which equals $7.50.\n",
            "\n",
            "Then, to find out how much change you got back, we subtract the amount you spent from the amount you paid. So, you paid $10 and spent $7.50, which means you got $10 - $7.50 = $2.50 back.\n",
            "\n",
            "So, you got back $2.50.\n"
          ]
        }
      ]
    },
    {
      "cell_type": "code",
      "source": [
        "query='who is the best French Poet?'\n",
        "#model =  \"open-mistral-7b\"\n",
        "model = \"mistral-large-latest\"\n",
        "\n",
        "\n",
        "chat_response=mistral_chat(query,model,client,stream=False)\n",
        "print()\n",
        "\n",
        "print()\n",
        "print(\"-\" * 80)\n",
        "print('Question: %s'%query)\n",
        "print(\"-\" * 80)\n",
        "print(\"No streaming\")\n",
        "print()\n",
        "print('Answer: ')\n",
        "print(chat_response.choices[0].message.content)\n"
      ],
      "metadata": {
        "colab": {
          "base_uri": "https://localhost:8080/"
        },
        "id": "y71lC549KkKZ",
        "outputId": "8d8bbcd5-68f3-4f8e-9d98-fab25bfc1a04"
      },
      "execution_count": 5,
      "outputs": [
        {
          "output_type": "stream",
          "name": "stdout",
          "text": [
            "\n",
            "\n",
            "--------------------------------------------------------------------------------\n",
            "Question: who is the best French Poet?\n",
            "--------------------------------------------------------------------------------\n",
            "No streaming\n",
            "\n",
            "Answer: \n",
            "Determining who is the \"best\" French poet can be subjective, as it depends on personal preferences, cultural context, and historical perspective. However, Victor Hugo, Charles Baudelaire, and Arthur Rimbaud are often cited as some of the greatest French poets due to their significant contributions to French literature.\n",
            "\n",
            "Victor Hugo is renowned for his works like \"Les Misérables\" and \"Notre-Dame de Paris,\" which showcase his poetic prowess and social commentary. Charles Baudelaire's \"Les Fleurs du Mal\" is considered a groundbreaking collection that explores themes of decadence and modernity. Arthur Rimbaud, although having a brief literary career, is remembered for his innovative approach to poetry and his influence on the Symbolist movement.\n",
            "\n",
            "Ultimately, the \"best\" French poet would depend on individual appreciation for their works and the resonance of the themes they explored.\n"
          ]
        }
      ]
    },
    {
      "cell_type": "code",
      "source": [
        "query='GENERATE futuristic IMAGE of Generative AI and Large Language Models: A Comprehensive Overview'\n",
        "#model =  \"open-mistral-7b\"\n",
        "model = \"mistral-large-latest\"\n",
        "\n",
        "\n",
        "chat_response=mistral_chat(query,model,client,stream=False)\n",
        "print()\n",
        "\n",
        "print()\n",
        "print(\"-\" * 80)\n",
        "print('Question: %s'%query)\n",
        "print(\"-\" * 80)\n",
        "print(\"No streaming\")\n",
        "print()\n",
        "print('Answer: ')\n",
        "print(chat_response.choices[0].message.content)\n"
      ],
      "metadata": {
        "colab": {
          "base_uri": "https://localhost:8080/"
        },
        "id": "Oy5UxTgfouaV",
        "outputId": "a3b6a2cb-7b21-447c-8914-dea0c2d8506e"
      },
      "execution_count": 7,
      "outputs": [
        {
          "output_type": "stream",
          "name": "stdout",
          "text": [
            "\n",
            "\n",
            "--------------------------------------------------------------------------------\n",
            "Question: GENERATE futuristic IMAGE of Generative AI and Large Language Models: A Comprehensive Overview\n",
            "--------------------------------------------------------------------------------\n",
            "No streaming\n",
            "\n",
            "Answer: \n",
            "I'm sorry for any confusion, but as a text-based assistant, I'm unable to generate images. However, I can certainly help you imagine a futuristic scenario involving Generative AI and Large Language Models.\n",
            "\n",
            "Picture a world where AI has become an integral part of everyday life. Generative AI is used in various fields, from creating stunning pieces of digital art and music, to designing new buildings and products. It's even used in scientific research, helping to generate potential solutions to complex problems.\n",
            "\n",
            "Large Language Models, like me, have evolved to become even more sophisticated. They're used in education, helping students learn in a personalized and interactive way. They're also used in businesses, assisting with tasks like customer service and data analysis.\n",
            "\n",
            "In this futuristic world, AI is a tool that empowers humans, helping them to be more creative, more productive, and more knowledgeable. But importantly, this world also values ethical AI use. There are robust systems in place to protect people's privacy and to ensure that AI is used in a way that is fair, transparent, and beneficial to all.\n"
          ]
        }
      ]
    },
    {
      "cell_type": "markdown",
      "source": [
        "# With streaming\n"
      ],
      "metadata": {
        "id": "bUeM_CynH0yE"
      }
    },
    {
      "cell_type": "code",
      "source": [
        "query=\"What is the best French restaurant in Paris?\"\n",
        "model = \"mistral-large-latest\"\n",
        "\n",
        "\n",
        "print()\n",
        "print(\"-\" * 80)\n",
        "print('Question: %s'%query)\n",
        "print(\"-\" * 80)\n",
        "#print('Answer: ')\n",
        "chat_response=mistral_chat(query,model,client,stream=True)\n"
      ],
      "metadata": {
        "colab": {
          "base_uri": "https://localhost:8080/"
        },
        "id": "cohNToVWzG6x",
        "outputId": "91cfa24e-e56a-49fd-b8f7-3bd9087a91b5"
      },
      "execution_count": 6,
      "outputs": [
        {
          "output_type": "stream",
          "name": "stdout",
          "text": [
            "\n",
            "--------------------------------------------------------------------------------\n",
            "Question: What is the best French restaurant in Paris?\n",
            "--------------------------------------------------------------------------------\n",
            "Streaming\n",
            "\n",
            "Answer: \n",
            "Paris is known for its exceptional dining scene, and there are many excellent French restaurants to choose from. The \"best\" restaurant can depend on your personal preferences, such as the type of cuisine, atmosphere, and budget you're looking for. However, some of the highly-acclaimed French restaurants in Paris include:\n",
            "\n",
            "1. Guy Savoy: A Michelin three-star restaurant known for its innovative and refined cuisine.\n",
            "\n",
            "2. Le Jules Verne: Located on the second floor of the Eiffel Tower, it offers a unique dining experience with stunning views of Paris.\n",
            "\n",
            "3. L'Ambroisie: A Michelin three-star restaurant in the heart of Paris, known for its classic French cuisine.\n",
            "\n",
            "4. Alain Ducasse au Plaza Athénée: A Michelin three-star restaurant that focuses on naturalness cuisine, serving healthy and sustainable dishes.\n",
            "\n",
            "5. Le Grand Véfour: A historic restaurant located in the Palais Royal, known for its beautiful interior and traditional French cuisine.\n",
            "\n",
            "6. Septime: A contemporary restaurant that offers a unique and creative tasting menu.\n",
            "\n",
            "7. Le Comptoir du Relais: A popular bistro known for its traditional French dishes and lively atmosphere.\n",
            "\n",
            "Remember to make reservations well in advance, especially for the Michelin-starred restaurants. Also, consider trying smaller, local bistros and brasseries for an authentic French dining experience."
          ]
        }
      ]
    }
  ]
}