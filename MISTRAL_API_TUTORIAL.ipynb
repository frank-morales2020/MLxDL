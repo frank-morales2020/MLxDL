{
  "nbformat": 4,
  "nbformat_minor": 0,
  "metadata": {
    "colab": {
      "provenance": [],
      "authorship_tag": "ABX9TyPdB7SkeoAtwlVJYVv2QZEd",
      "include_colab_link": true
    },
    "kernelspec": {
      "name": "python3",
      "display_name": "Python 3"
    },
    "language_info": {
      "name": "python"
    }
  },
  "cells": [
    {
      "cell_type": "markdown",
      "metadata": {
        "id": "view-in-github",
        "colab_type": "text"
      },
      "source": [
        "<a href=\"https://colab.research.google.com/github/frank-morales2020/MLxDL/blob/main/MISTRAL_API_TUTORIAL.ipynb\" target=\"_parent\"><img src=\"https://colab.research.google.com/assets/colab-badge.svg\" alt=\"Open In Colab\"/></a>"
      ]
    },
    {
      "cell_type": "markdown",
      "source": [
        "https://docs.mistral.ai/platform/client/"
      ],
      "metadata": {
        "id": "HFSQBSaVuYEu"
      }
    },
    {
      "cell_type": "markdown",
      "source": [
        "# Dependencies and Settings"
      ],
      "metadata": {
        "id": "NesDaI4OICGe"
      }
    },
    {
      "cell_type": "markdown",
      "source": [
        "Installing Modules"
      ],
      "metadata": {
        "id": "S2X7iLVUPIrN"
      }
    },
    {
      "cell_type": "code",
      "source": [
        "!pip install colab-env --quiet\n",
        "!pip install mistralai --quiet"
      ],
      "metadata": {
        "id": "ghqAXWE-xJa_"
      },
      "execution_count": 140,
      "outputs": []
    },
    {
      "cell_type": "markdown",
      "source": [
        "Importing Modules"
      ],
      "metadata": {
        "id": "k9lF1C1DNgKm"
      }
    },
    {
      "cell_type": "code",
      "source": [
        "import mistralai\n",
        "from mistralai.client import MistralClient\n",
        "from mistralai.models.chat_completion import ChatMessage\n",
        "import os\n",
        "import colab_env\n",
        "\n",
        "api_key = os.environ[\"MISTRAL_API_KEY\"]\n",
        "model = \"mistral-large-latest\"\n",
        "\n",
        "client = MistralClient(api_key=api_key)"
      ],
      "metadata": {
        "id": "a87Hog_P8h9P"
      },
      "execution_count": 141,
      "outputs": []
    },
    {
      "cell_type": "markdown",
      "source": [
        "Function Definitions"
      ],
      "metadata": {
        "id": "rErYuWh3PNm0"
      }
    },
    {
      "cell_type": "code",
      "source": [
        "def mistral_chat(prompt,model,client,stream):\n",
        "  client = MistralClient(api_key=api_key)\n",
        "  messages = [ChatMessage(role=\"user\", content=prompt)]\n",
        "  if stream==True:\n",
        "     print(\"Streaming\")\n",
        "     print()\n",
        "     print('Answer: ')\n",
        "     for chunk in client.chat_stream(\n",
        "        model=model,\n",
        "        messages=messages,\n",
        "        ):\n",
        "        if chunk.choices[0].delta.content is not None:\n",
        "            print(chunk.choices[0].delta.content, end=\"\")\n",
        "  else:\n",
        "\n",
        "     #print(\"No streaming\")\n",
        "     chat_response = client.chat(model=model,messages=messages, safe_mode=True,temperature=0.9)\n",
        "     #print(chat_response.choices[0].message.content)\n",
        "     return chat_response"
      ],
      "metadata": {
        "id": "CQPXU56gJGNS"
      },
      "execution_count": 154,
      "outputs": []
    },
    {
      "cell_type": "markdown",
      "source": [
        "# No streaming"
      ],
      "metadata": {
        "id": "0kjQNPiMHt8e"
      }
    },
    {
      "cell_type": "code",
      "source": [
        "query='who is the best French Poet?'\n",
        "#model =  \"open-mistral-7b\"\n",
        "model = \"mistral-large-latest\"\n",
        "\n",
        "\n",
        "chat_response=mistral_chat(query,model,client,stream=False)\n",
        "print()\n",
        "\n",
        "print()\n",
        "print(\"-\" * 80)\n",
        "print('Question: %s'%query)\n",
        "print(\"-\" * 80)\n",
        "print(\"No streaming\")\n",
        "print()\n",
        "print('Answer: ')\n",
        "print(chat_response.choices[0].message.content)\n"
      ],
      "metadata": {
        "colab": {
          "base_uri": "https://localhost:8080/"
        },
        "id": "y71lC549KkKZ",
        "outputId": "18e63476-508a-4577-c4d3-e337e3895409"
      },
      "execution_count": 155,
      "outputs": [
        {
          "output_type": "stream",
          "name": "stdout",
          "text": [
            "\n",
            "\n",
            "--------------------------------------------------------------------------------\n",
            "Question: who is the best French Poet?\n",
            "--------------------------------------------------------------------------------\n",
            "No streaming\n",
            "\n",
            "Answer: \n",
            "Determining who is the \"best\" French poet can be subjective, as it largely depends on personal preferences, cultural context, and historical perspective. However, Victor Hugo, Charles Baudelaire, and Arthur Rimbaud are often cited as some of the most influential French poets.\n",
            "\n",
            "Victor Hugo is renowned for his works like \"Les Misérables\" and \"Notre-Dame de Paris,\" as well as his poetry collections like \"Les Contemplations.\" Charles Baudelaire's \"Les Fleurs du Mal\" has had a significant impact on modern literature. Arthur Rimbaud, despite his brief literary career, is also highly regarded for works like \"Une Saison en Enfer\" and \"Illuminations.\"\n",
            "\n",
            "It's essential to remember that \"best\" is a subjective term, and each of these poets, along with many others, has made unique contributions to French literature.\n"
          ]
        }
      ]
    },
    {
      "cell_type": "markdown",
      "source": [
        "# With streaming\n"
      ],
      "metadata": {
        "id": "bUeM_CynH0yE"
      }
    },
    {
      "cell_type": "code",
      "source": [
        "query=\"What is the best French restaurant in Paris?\"\n",
        "model = \"mistral-large-latest\"\n",
        "\n",
        "\n",
        "print()\n",
        "print(\"-\" * 80)\n",
        "print('Question: %s'%query)\n",
        "print(\"-\" * 80)\n",
        "#print('Answer: ')\n",
        "chat_response=mistral_chat(query,model,client,stream=True)\n"
      ],
      "metadata": {
        "colab": {
          "base_uri": "https://localhost:8080/"
        },
        "id": "cohNToVWzG6x",
        "outputId": "c5cfdf26-58d1-4756-f0c5-f2e1ab9a7837"
      },
      "execution_count": 152,
      "outputs": [
        {
          "output_type": "stream",
          "name": "stdout",
          "text": [
            "\n",
            "--------------------------------------------------------------------------------\n",
            "Question: What is the best French restaurant in Paris?\n",
            "--------------------------------------------------------------------------------\n",
            "Streaming\n",
            "\n",
            "Answer: \n",
            "Paris is known for its exceptional dining scene, and there are many excellent French restaurants to choose from. The \"best\" restaurant can depend on personal preferences, such as the type of cuisine, atmosphere, and budget. However, some of the highly acclaimed French restaurants in Paris include:\n",
            "\n",
            "1. Guy Savoy - A Michelin three-star restaurant known for its innovative and refined French cuisine.\n",
            "\n",
            "2. Le Meurice Alain Ducasse - Another Michelin three-star restaurant, Le Meurice offers contemporary French cuisine in a sophisticated setting.\n",
            "\n",
            "3. L'Ambroisie - This Michelin three-star restaurant is famous for its classic French dishes and extensive wine list.\n",
            "\n",
            "4. L'Arpège - Chef Alain Passard's Michelin three-star restaurant is renowned for its focus on fresh, seasonal vegetables.\n",
            "\n",
            "5. Septime - A Michelin one-star restaurant that offers a modern and creative take on French cuisine using locally sourced ingredients.\n",
            "\n",
            "6. Le Comptoir du Relais - A popular and more casual option, known for its traditional French bistro fare.\n",
            "\n",
            "It is always recommended to make reservations well in advance, as these restaurants can be quite popular. Additionally, considering your personal preferences and looking into the specific menus and atmospheres of each restaurant can help you determine which one would be the best fit for your dining experience."
          ]
        }
      ]
    }
  ]
}