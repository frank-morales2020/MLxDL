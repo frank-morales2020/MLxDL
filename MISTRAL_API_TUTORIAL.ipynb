{
  "nbformat": 4,
  "nbformat_minor": 0,
  "metadata": {
    "colab": {
      "provenance": [],
      "authorship_tag": "ABX9TyNnJFYLHK7eaQRX6PF8vhSu",
      "include_colab_link": true
    },
    "kernelspec": {
      "name": "python3",
      "display_name": "Python 3"
    },
    "language_info": {
      "name": "python"
    }
  },
  "cells": [
    {
      "cell_type": "markdown",
      "metadata": {
        "id": "view-in-github",
        "colab_type": "text"
      },
      "source": [
        "<a href=\"https://colab.research.google.com/github/frank-morales2020/MLxDL/blob/main/MISTRAL_API_TUTORIAL.ipynb\" target=\"_parent\"><img src=\"https://colab.research.google.com/assets/colab-badge.svg\" alt=\"Open In Colab\"/></a>"
      ]
    },
    {
      "cell_type": "markdown",
      "source": [
        "https://docs.mistral.ai/platform/client/"
      ],
      "metadata": {
        "id": "HFSQBSaVuYEu"
      }
    },
    {
      "cell_type": "markdown",
      "source": [
        "# Dependencies and Settings"
      ],
      "metadata": {
        "id": "NesDaI4OICGe"
      }
    },
    {
      "cell_type": "markdown",
      "source": [
        "Installing Modules"
      ],
      "metadata": {
        "id": "S2X7iLVUPIrN"
      }
    },
    {
      "cell_type": "code",
      "source": [
        "!pip install colab-env --quiet\n",
        "!pip install mistralai --quiet"
      ],
      "metadata": {
        "id": "ghqAXWE-xJa_"
      },
      "execution_count": null,
      "outputs": []
    },
    {
      "cell_type": "markdown",
      "source": [
        "Importing Modules"
      ],
      "metadata": {
        "id": "k9lF1C1DNgKm"
      }
    },
    {
      "cell_type": "code",
      "source": [
        "import mistralai\n",
        "from mistralai.client import MistralClient\n",
        "from mistralai.models.chat_completion import ChatMessage\n",
        "import os\n",
        "import colab_env\n",
        "\n",
        "api_key = os.environ[\"MISTRAL_API_KEY\"]\n",
        "model = \"mistral-large-latest\"\n",
        "\n",
        "client = MistralClient(api_key=api_key)"
      ],
      "metadata": {
        "id": "a87Hog_P8h9P"
      },
      "execution_count": null,
      "outputs": []
    },
    {
      "cell_type": "markdown",
      "source": [
        "Function Definitions"
      ],
      "metadata": {
        "id": "rErYuWh3PNm0"
      }
    },
    {
      "cell_type": "code",
      "source": [
        "def mistral_chat(prompt,model,client,stream):\n",
        "  client = MistralClient(api_key=api_key)\n",
        "  messages = [ChatMessage(role=\"user\", content=prompt)]\n",
        "  if stream==True:\n",
        "     print(\"Streaming\")\n",
        "     print()\n",
        "     print('Answer: ')\n",
        "     for chunk in client.chat_stream(\n",
        "        model=model,\n",
        "        messages=messages,\n",
        "        ):\n",
        "        if chunk.choices[0].delta.content is not None:\n",
        "            print(chunk.choices[0].delta.content, end=\"\")\n",
        "  else:\n",
        "\n",
        "     #print(\"No streaming\")\n",
        "     chat_response = client.chat(model=model,messages=messages, safe_mode=True,temperature=0.9)\n",
        "     #print(chat_response.choices[0].message.content)\n",
        "     return chat_response"
      ],
      "metadata": {
        "id": "CQPXU56gJGNS"
      },
      "execution_count": 4,
      "outputs": []
    },
    {
      "cell_type": "markdown",
      "source": [
        "# No streaming"
      ],
      "metadata": {
        "id": "0kjQNPiMHt8e"
      }
    },
    {
      "cell_type": "code",
      "source": [
        "query = \"I bought an ice cream for 6 kids. Each cone was $1.25 and I paid with a $10 bill. How many dollars did I get back? Explain first before answering.\"\n",
        "model = \"mistral-large-latest\"\n",
        "\n",
        "chat_response=mistral_chat(query,model,client,stream=False)\n",
        "print()\n",
        "\n",
        "print()\n",
        "print(\"-\" * 80)\n",
        "print('Question: %s'%query)\n",
        "print(\"-\" * 80)\n",
        "print(\"No streaming\")\n",
        "print()\n",
        "print('Answer: ')\n",
        "print(chat_response.choices[0].message.content)"
      ],
      "metadata": {
        "colab": {
          "base_uri": "https://localhost:8080/"
        },
        "id": "-llUfOheRo0t",
        "outputId": "9c7e9a94-68ca-4e8e-fcd6-bcd630ae3e2d"
      },
      "execution_count": 5,
      "outputs": [
        {
          "output_type": "stream",
          "name": "stdout",
          "text": [
            "\n",
            "\n",
            "--------------------------------------------------------------------------------\n",
            "Question: I bought an ice cream for 6 kids. Each cone was $1.25 and I paid with a $10 bill. How many dollars did I get back? Explain first before answering.\n",
            "--------------------------------------------------------------------------------\n",
            "No streaming\n",
            "\n",
            "Answer: \n",
            "Sure, let's break it down:\n",
            "\n",
            "First, you bought ice cream for 6 kids. Each ice cream cone cost $1.25. So, the total cost of the ice cream is:\n",
            "\n",
            "6 (number of kids) * $1.25 (cost per ice cream) = $7.50\n",
            "\n",
            "Then, you paid with a $10 bill. To find out how much change you got back, subtract the total cost of the ice cream from the amount you paid:\n",
            "\n",
            "$10 (amount paid) - $7.50 (total cost) = $2.50\n",
            "\n",
            "So, you got back $2.50 in change.\n"
          ]
        }
      ]
    },
    {
      "cell_type": "code",
      "source": [
        "query='who is the best French Poet?'\n",
        "#model =  \"open-mistral-7b\"\n",
        "model = \"mistral-large-latest\"\n",
        "\n",
        "\n",
        "chat_response=mistral_chat(query,model,client,stream=False)\n",
        "print()\n",
        "\n",
        "print()\n",
        "print(\"-\" * 80)\n",
        "print('Question: %s'%query)\n",
        "print(\"-\" * 80)\n",
        "print(\"No streaming\")\n",
        "print()\n",
        "print('Answer: ')\n",
        "print(chat_response.choices[0].message.content)\n"
      ],
      "metadata": {
        "colab": {
          "base_uri": "https://localhost:8080/"
        },
        "id": "y71lC549KkKZ",
        "outputId": "e9a9c426-2ee0-47a0-b445-97333b711737"
      },
      "execution_count": 6,
      "outputs": [
        {
          "output_type": "stream",
          "name": "stdout",
          "text": [
            "\n",
            "\n",
            "--------------------------------------------------------------------------------\n",
            "Question: who is the best French Poet?\n",
            "--------------------------------------------------------------------------------\n",
            "No streaming\n",
            "\n",
            "Answer: \n",
            "Determining who is the \"best\" French poet can be subjective and depends on personal preferences, as well as the historical and cultural context. However, Victor Hugo, Charles Baudelaire, and Arthur Rimbaud are often cited among the greatest French poets due to their significant contributions to French literature.\n",
            "\n",
            "Victor Hugo is renowned for his works like \"Les Misérables\" and \"Notre-Dame de Paris,\" although he was also a prolific poet, with collections such as \"Les Contemplations\" and \"La Légende des siècles.\"\n",
            "\n",
            "Charles Baudelaire is famous for his groundbreaking poetry collection \"Les Fleurs du mal,\" which explores themes like decadence, eroticism, and the darker aspects of human nature.\n",
            "\n",
            "Arthur Rimbaud, despite his short poetic career, is considered a prodigy and a major influence on the symbolist movement. His works like \"A Season in Hell\" and \"Illuminations\" are still celebrated today.\n",
            "\n",
            "Each of these poets brought a unique perspective and style to their works, and their lasting impact on French literature cannot be understated. However, it's essential to recognize that the \"best\" poet may vary depending on individual tastes and interpretations.\n"
          ]
        }
      ]
    },
    {
      "cell_type": "markdown",
      "source": [
        "# With streaming\n"
      ],
      "metadata": {
        "id": "bUeM_CynH0yE"
      }
    },
    {
      "cell_type": "code",
      "source": [
        "query=\"What is the best French restaurant in Paris?\"\n",
        "model = \"mistral-large-latest\"\n",
        "\n",
        "\n",
        "print()\n",
        "print(\"-\" * 80)\n",
        "print('Question: %s'%query)\n",
        "print(\"-\" * 80)\n",
        "#print('Answer: ')\n",
        "chat_response=mistral_chat(query,model,client,stream=True)\n"
      ],
      "metadata": {
        "colab": {
          "base_uri": "https://localhost:8080/"
        },
        "id": "cohNToVWzG6x",
        "outputId": "7dcd3660-1090-4909-a535-3a2a0de4040e"
      },
      "execution_count": 7,
      "outputs": [
        {
          "output_type": "stream",
          "name": "stdout",
          "text": [
            "\n",
            "--------------------------------------------------------------------------------\n",
            "Question: What is the best French restaurant in Paris?\n",
            "--------------------------------------------------------------------------------\n",
            "Streaming\n",
            "\n",
            "Answer: \n",
            "Paris is known for its exceptional gastronomy and has a plethora of fantastic French restaurants. The \"best\" one can depend on personal preferences, such as the type of cuisine, atmosphere, and budget. However, here are a few highly-rated French restaurants in Paris:\n",
            "\n",
            "1. Guy Savoy: A prestigious restaurant located near the Seine, it offers a stunning view of the Eiffel Tower along with innovative and exquisite dishes.\n",
            "\n",
            "2. Le Meurice Alain Ducasse: Situated inside the luxurious Hotel Le Meurice, this restaurant serves contemporary French cuisine with exceptional service.\n",
            "\n",
            "3. L'Ambroisie: Known for its elegant and classic French cuisine, this three-Michelin-star restaurant is located in the heart of Paris in the Place des Vosges.\n",
            "\n",
            "4. L'Astrance: A three-Michelin-star restaurant headed by chef Pascal Barbot, L'Astrance offers modern and creative French cuisine in an intimate setting.\n",
            "\n",
            "5. Septime: A more affordable option compared to the previous ones, Septime offers a seasonal and inventive tasting menu in a relaxed atmosphere. It is highly popular, so reservations are recommended well in advance."
          ]
        }
      ]
    }
  ]
}