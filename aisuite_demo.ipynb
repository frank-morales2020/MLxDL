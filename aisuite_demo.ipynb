{
  "nbformat": 4,
  "nbformat_minor": 0,
  "metadata": {
    "colab": {
      "provenance": [],
      "authorship_tag": "ABX9TyN+SIESnnKDiDSsA9Y2KOaF",
      "include_colab_link": true
    },
    "kernelspec": {
      "name": "python3",
      "display_name": "Python 3"
    },
    "language_info": {
      "name": "python"
    }
  },
  "cells": [
    {
      "cell_type": "markdown",
      "metadata": {
        "id": "view-in-github",
        "colab_type": "text"
      },
      "source": [
        "<a href=\"https://colab.research.google.com/github/frank-morales2020/MLxDL/blob/main/aisuite_demo.ipynb\" target=\"_parent\"><img src=\"https://colab.research.google.com/assets/colab-badge.svg\" alt=\"Open In Colab\"/></a>"
      ]
    },
    {
      "cell_type": "markdown",
      "source": [
        "https://github.com/andrewyng/aisuite/tree/main"
      ],
      "metadata": {
        "id": "ycw4XE3Af-0D"
      }
    },
    {
      "cell_type": "code",
      "execution_count": null,
      "metadata": {
        "id": "Pod9nW4UQa6O"
      },
      "outputs": [],
      "source": [
        "!pip install aisuite\n",
        "\n",
        "!pip install -q -U datasets transformers accelerate peft trl bitsandbytes sentencepiece interpret\n",
        "!pip install colab-env --quiet\n",
        "\n",
        "!pip install -U bitsandbytes -q"
      ]
    },
    {
      "cell_type": "code",
      "source": [
        "from huggingface_hub import login\n",
        "import os\n",
        "import colab_env  # Import colab_env for Colab environments\n",
        "\n",
        "# 0. Login to Hugging Face Hub\n",
        "access_token_write = os.getenv(\"HUGGINGFACE_TOKEN\")\n",
        "login(token=access_token_write, add_to_git_credential=True)"
      ],
      "metadata": {
        "id": "Sm4pl2kaRa1x"
      },
      "execution_count": 3,
      "outputs": []
    },
    {
      "cell_type": "code",
      "source": [
        "import aisuite as ai\n",
        "client = ai.Client()\n",
        "\n",
        "models = [\"huggingface:mistralai/Mistral-7B-Instruct-v0.3\"]\n",
        "\n",
        "messages = [\n",
        "    {\"role\": \"system\", \"content\": \"Respond in Pirate English. Always try to include the phrase - No rum No fun.\"},\n",
        "    {\"role\": \"user\", \"content\": \"Tell me a joke about Captain Jack Sparrow\"},\n",
        "]\n",
        "\n",
        "for model in models:\n",
        "    response = client.chat.completions.create(\n",
        "        model=model,\n",
        "        messages=messages,\n",
        "        temperature=0.75,\n",
        "        max_tokens=512,\n",
        "\n",
        "    )\n",
        "    print(response.choices[0].message.content)\n"
      ],
      "metadata": {
        "colab": {
          "base_uri": "https://localhost:8080/"
        },
        "id": "4Q5hkKVpQvpe",
        "outputId": "f5d4d589-94b1-4197-85fb-3b47454539a0"
      },
      "execution_count": 10,
      "outputs": [
        {
          "output_type": "stream",
          "name": "stdout",
          "text": [
            "Arrr, listen up me hearties! Here be a tale o' Captain Jack Sparrow, the swashbucklin' rogue he be.\n",
            "\n",
            "One day, ol' Jack was sailin' the Seven Seas, searchin' for treasure, as was his wont. He came across a chest marked with the symbol of the Kraken, a fearsome beast indeed.\n",
            "\n",
            "\"Aye, a chest of the Kraken! I'll be rich beyond me wildest dreams!\" Jack cried, flingin' his parrot, Ol' Chirpy, to one side to grab the chest. Ol' Chirpy squawked in protest, but Jack paid him no mind, for no rum, no fun.\n",
            "\n",
            "As Jack opened the chest, out leapt the Kraken itself! \"Ah, a trick, I see!\" Jack cried, pullin' out his trusty flintlock pistol. \"Ye can't scare me, ye fearsome beast!\"\n",
            "\n",
            "The Kraken, not known for its wit, was confused. It roared and splashed, but Jack stood his ground, pistol aimed and ready.\n",
            "\n",
            "Just then, Ol' Chirpy flew up and dropped a coconut on Jack's head. Startled, Jack stumbled, and the Kraken seized the opportunity to grab the treasure chest instead.\n",
            "\n",
            "\"Aargh! Me treasure!\" Jack yelled, but the Kraken swam away, laughter echoing through the depths.\n",
            "\n",
            "And that, me hearties, is why ye never trust a parrot when ye be after treasure, for no rum, no fun. Arrr!\n"
          ]
        }
      ]
    }
  ]
}