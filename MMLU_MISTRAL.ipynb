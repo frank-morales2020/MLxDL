{
  "nbformat": 4,
  "nbformat_minor": 0,
  "metadata": {
    "colab": {
      "provenance": [],
      "authorship_tag": "ABX9TyMzzfVQI/gJttDvRbzSdIvY",
      "include_colab_link": true
    },
    "kernelspec": {
      "name": "python3",
      "display_name": "Python 3"
    },
    "language_info": {
      "name": "python"
    }
  },
  "cells": [
    {
      "cell_type": "markdown",
      "metadata": {
        "id": "view-in-github",
        "colab_type": "text"
      },
      "source": [
        "<a href=\"https://colab.research.google.com/github/frank-morales2020/MLxDL/blob/main/MMLU_MISTRAL.ipynb\" target=\"_parent\"><img src=\"https://colab.research.google.com/assets/colab-badge.svg\" alt=\"Open In Colab\"/></a>"
      ]
    },
    {
      "cell_type": "code",
      "execution_count": 7,
      "metadata": {
        "id": "IQpk59lyBUim"
      },
      "outputs": [],
      "source": [
        "!pip install -q transformers\n",
        "!pip install -q tqdm\n",
        "!pip install -q pandas\n",
        "!pip install -q tensor_parallel\n",
        "!pip install -q argparse\n",
        "!pip install -q einops\n",
        "!pip install -q accelerate\n",
        "#!pip install -q torch==2.0.0+cu118\n",
        "!pip install -q torch\n",
        "\n",
        "!pip install colab-env --upgrade -q\n",
        "!pip install openai -q\n",
        "\n",
        "!pip install datasets -q\n",
        "!pip install utils -q"
      ]
    },
    {
      "cell_type": "code",
      "source": [
        "!git clone https://github.com/FranxYao/chain-of-thought-hub.git"
      ],
      "metadata": {
        "id": "SZ7qVCcyDO3t"
      },
      "execution_count": null,
      "outputs": []
    },
    {
      "cell_type": "code",
      "source": [
        "import colab_env\n",
        "import os\n",
        "import openai\n",
        "import IPython\n",
        "import pytz\n",
        "from datetime import datetime\n",
        "import json\n",
        "from pathlib import Path"
      ],
      "metadata": {
        "id": "Gwm-_bQBBjhc"
      },
      "execution_count": 9,
      "outputs": []
    },
    {
      "cell_type": "code",
      "source": [
        "def test_answer_mmlu_(pred_str, ans):\n",
        "    pattern = 'the answer is ('\n",
        "    pred = pred_str.lower().split(pattern)\n",
        "\n",
        "    if(len(pred) > 1):\n",
        "        # print(pred)\n",
        "        pred = pred[1][0]\n",
        "        gold = ans.lower()\n",
        "        # print('debug 1, pred %s, gold %s' % (pred, gold))\n",
        "        return pred == gold\n",
        "    else:\n",
        "        pred = 'C'\n",
        "        # print(ans_str)\n",
        "        gold = ans.lower()\n",
        "        # print('debug 2, pred %s, gold %s' % (pred, gold))\n",
        "        return pred == gold\n",
        "\n",
        "# extract answer in pred_str and compare with ans_str\n",
        "def test_answer_mmlu_claude_instant(pred_str, ans_str):\n",
        "    pattern = 'the answer is '\n",
        "    pred = pred_str.lower().split(pattern)\n",
        "    if len(pred) == 1:\n",
        "        return False\n",
        "    else:\n",
        "        return pred[1][0] == ans_str.lower()\n",
        "\n",
        "def test_answer_mmlu_claude(pred_str, ans_str):\n",
        "    pattern = 'the answer is '\n",
        "    pred = pred_str.lower().split(pattern)\n",
        "\n",
        "    if(len(pred) > 1):\n",
        "        # print(pred)\n",
        "        pred = pred[1]\n",
        "        for p in pred:\n",
        "            if(p.isalpha()): break\n",
        "        pred = p\n",
        "        print(ans_str)\n",
        "        gold = ans_str.lower()\n",
        "        print('debug 1, pred %s, gold %s' % (pred, gold))\n",
        "        return pred == gold\n",
        "    else:\n",
        "        pred = 'c'\n",
        "        # print(ans_str)\n",
        "        gold = ans_str.lower()\n",
        "        # print('debug 2, pred %s, gold %s' % (pred, gold))\n",
        "        return pred == gold\n",
        "\n",
        "def test_answer_mmlu(pred_str, ans_str):\n",
        "    pattern = 'the answer is ('\n",
        "    pred = pred_str.lower().split(pattern)\n",
        "\n",
        "    if(len(pred) > 1):\n",
        "        # print(pred)\n",
        "        pred = pred[1][0]\n",
        "        gold = ans_str.split('A:\\n')[1][0].lower()\n",
        "        # print('debug 1, pred %s, gold %s' % (pred, gold))\n",
        "        return pred == gold\n",
        "    else:\n",
        "        pred = 'C'\n",
        "        # print(ans_str)\n",
        "        gold = ans_str.split('A:\\n')[1][0].lower()\n",
        "        # print('debug 2, pred %s, gold %s' % (pred, gold))\n",
        "        return pred == gold\n",
        "\n",
        "def parse_pred_ans(filename):\n",
        "    with open(filename) as fd: lines = fd.readlines()\n",
        "    am, a = None, None\n",
        "    num_q, acc = 0, 0\n",
        "    current_mode = 'none'\n",
        "    questions = []\n",
        "    ans_pred = []\n",
        "    ans_gold = []\n",
        "    for l in lines:\n",
        "        if(l.startswith('Q: ')):\n",
        "            if(am is not None and a is not None):\n",
        "                questions.append(q)\n",
        "                ans_pred.append(am)\n",
        "                ans_gold.append(a)\n",
        "                # print(am)\n",
        "                # print(a)\n",
        "                if(test_answer_mmlu(am, a)):\n",
        "                    acc += 1\n",
        "            current_mode = 'q'\n",
        "            q = l\n",
        "            num_q += 1\n",
        "        elif(l.startswith('A_model:')):\n",
        "            current_mode = 'am'\n",
        "            am = l\n",
        "        elif(l.startswith('A:') and not l.startswith(\"A: Let's think step by step\")):\n",
        "            current_mode = 'a'\n",
        "            a = l\n",
        "        else:\n",
        "            if(current_mode == 'q'): q += l\n",
        "            elif(current_mode == 'am'): am += l\n",
        "            elif(current_mode == 'a'): a += l\n",
        "            else:\n",
        "                raise ValueError(current_mode)\n",
        "\n",
        "    questions.append(q)\n",
        "    ans_pred.append(am)\n",
        "    ans_gold.append(a)\n",
        "    # print(am)\n",
        "    # print(a)\n",
        "    if(test_answer_mmlu(am, a)):\n",
        "        acc += 1\n",
        "    print('num_q %d correct %d ratio %.4f' % (num_q, acc, float(acc / num_q)))\n",
        "    return questions, ans_pred, ans_gold\n",
        "\n",
        "def test_finished(ans_model):\n",
        "    if('answer is' in ans_model): return True\n",
        "    else: return False\n",
        "\n",
        "def extract_ans(ans_model):\n",
        "    ans_model = ans_model.split('\\n')\n",
        "    ans = []\n",
        "    residual = []\n",
        "    for li, al in enumerate(ans_model):\n",
        "        ans.append(al)\n",
        "        if('answer is' in al):\n",
        "            break\n",
        "    residual = list(ans_model[li + 1:])\n",
        "    ans = '\\n'.join(ans)\n",
        "    residual = '\\n'.join(residual)\n",
        "    return ans, residual"
      ],
      "metadata": {
        "id": "77X7SrPYBn08"
      },
      "execution_count": 10,
      "outputs": []
    },
    {
      "cell_type": "code",
      "source": [
        "TASKSTEST0old = [\n",
        "        'anatomy',\n",
        "        'college_biology',\n",
        "        'college_chemistry',\n",
        "        'college_computer_science',\n",
        "        'college_mathematics',\n",
        "        'college_medicine',\n",
        "        'college_physics',\n",
        "        'computer_security',\n",
        "        'electrical_engineering',\n",
        "        'machine_learning',\n",
        "]\n",
        "\n",
        "\n",
        "TASKSTEST = [\n",
        "        'college_computer_science',\n",
        "        'electrical_engineering',\n",
        "        'machine_learning',\n",
        "]\n",
        "\n",
        "TASKS911 = [\n",
        "        'anatomy',\n",
        "        'college_biology',\n",
        "        'college_chemistry',\n",
        "        'college_computer_science',\n",
        "        'college_mathematics',\n",
        "        'college_medicine',\n",
        "        'college_physics',\n",
        "        'computer_security',\n",
        "        'conceptual_physics',\n",
        "        'econometrics',\n",
        "        'electrical_engineering',\n",
        "        'elementary_mathematics',\n",
        "        'formal_logic',\n",
        "        'global_facts',\n",
        "        'high_school_biology',\n",
        "        'high_school_chemistry',\n",
        "        'high_school_computer_science',\n",
        "        'high_school_european_history',\n",
        "        'high_school_geography',\n",
        "        'high_school_government_and_politics',\n",
        "        'high_school_macroeconomics',\n",
        "        'high_school_mathematics',\n",
        "        'high_school_microeconomics',\n",
        "        'high_school_physics',\n",
        "        'high_school_psychology',\n",
        "        'high_school_statistics',\n",
        "        'high_school_us_history',\n",
        "        'high_school_world_history',\n",
        "        'public_relations',\n",
        "        'security_studies',\n",
        "        'sociology',\n",
        "        'us_foreign_policy',\n",
        "        'virology',\n",
        "        'machine_learning',\n",
        "        'world_religions']"
      ],
      "metadata": {
        "id": "frmQVjYRBssq"
      },
      "execution_count": 11,
      "outputs": []
    },
    {
      "cell_type": "code",
      "source": [
        "!pip install mistralai --quiet\n",
        "\n",
        "# Install Hugging Face libraries\n",
        "!pip install  --upgrade bitsandbytes --quiet\n",
        "from datasets import load_dataset"
      ],
      "metadata": {
        "id": "D5kR6a7kGs72"
      },
      "execution_count": null,
      "outputs": []
    },
    {
      "cell_type": "code",
      "source": [
        "import mistralai\n",
        "from mistralai.client import MistralClient\n",
        "from mistralai.models.chat_completion import ChatMessage\n",
        "import os\n",
        "import colab_env\n",
        "import json"
      ],
      "metadata": {
        "id": "QeF7YGfFGnK1"
      },
      "execution_count": 15,
      "outputs": []
    },
    {
      "cell_type": "code",
      "source": [
        "# datetime object containing current date and time\n",
        "newYorkTz = pytz.timezone(\"America/New_York\")\n",
        "now = datetime.now(newYorkTz)\n",
        "#print(\"now =\", now)\n",
        "\n",
        "# dd/mm/YY H:M:S\n",
        "dt_string = now.strftime(\"%d/%m/%Y %H:%M:%S\")\n",
        "#print(\"date and time =\", dt_string)\n",
        "\n",
        "api_key = os.environ[\"MISTRAL_API_KEY\"]\n",
        "model = \"mistral-large-latest\"\n",
        "client = MistralClient(api_key=api_key)\n",
        "\n",
        "print()\n",
        "print('TEST - MISTRAL  - BY FRANK MORALES - %s'%dt_string)\n",
        "print()"
      ],
      "metadata": {
        "colab": {
          "base_uri": "https://localhost:8080/"
        },
        "id": "sfu6Zfr_B1_M",
        "outputId": "c720a7c5-6ca2-4948-ab1c-2d1158ebb41a"
      },
      "execution_count": 16,
      "outputs": [
        {
          "output_type": "stream",
          "name": "stdout",
          "text": [
            "\n",
            "TEST - MISTRAL  - BY FRANK MORALES - 02/04/2024 19:19:37\n",
            "\n"
          ]
        }
      ]
    },
    {
      "cell_type": "code",
      "source": [
        "def mistral_chat(prompt,model,client,stream):\n",
        "  client = MistralClient(api_key=api_key)\n",
        "  messages = [ChatMessage(role=\"user\", content=prompt)]\n",
        "  if stream==True:\n",
        "     print(\"Streaming\")\n",
        "     print()\n",
        "     print('Answer: ')\n",
        "     for chunk in client.chat_stream(\n",
        "        model=model,\n",
        "        messages=messages,\n",
        "        ):\n",
        "        if chunk.choices[0].delta.content is not None:\n",
        "            print(chunk.choices[0].delta.content, end=\"\")\n",
        "  else:\n",
        "\n",
        "     #print(\"No streaming\")\n",
        "     chat_response = client.chat(model=model,messages=messages, safe_mode=True,temperature=0.9)\n",
        "     #print(chat_response.choices[0].message.content)\n",
        "     return chat_response"
      ],
      "metadata": {
        "id": "3TR9FeJgEsRs"
      },
      "execution_count": 17,
      "outputs": []
    },
    {
      "cell_type": "code",
      "source": [
        "import json\n",
        "model = \"mistral-large-latest\"\n",
        "query = \"What is the average grid for competitors with over 22 laps and time/retired of +17.276? Answer me as SQL and explain your solutions.\"\n",
        "chat_response=mistral_chat(query,model,client,stream=False)\n",
        "print()"
      ],
      "metadata": {
        "colab": {
          "base_uri": "https://localhost:8080/"
        },
        "id": "6-2lbTEzE7Wh",
        "outputId": "aa5ae637-ade5-4d6e-988b-804c26870111"
      },
      "execution_count": 20,
      "outputs": [
        {
          "output_type": "stream",
          "name": "stdout",
          "text": [
            "\n"
          ]
        }
      ]
    },
    {
      "cell_type": "code",
      "source": [
        "print()\n",
        "print(\"-\" * 80)\n",
        "print('Question: %s'%query)\n",
        "print(\"-\" * 80)\n",
        "print(\"No streaming\")\n",
        "print()\n",
        "print('Answer: ')\n",
        "print(chat_response.choices[0].message.content)"
      ],
      "metadata": {
        "id": "7_2HgSsYFCE4"
      },
      "execution_count": null,
      "outputs": []
    },
    {
      "cell_type": "code",
      "source": [
        "%mkdir /content/outputs/\n",
        "import re\n",
        "import time\n",
        "import json\n",
        "\n",
        "import numpy as np\n",
        "\n",
        "from tqdm import tqdm\n",
        "from datasets import load_dataset\n",
        "from tenacity import retry, stop_after_attempt, wait_chain, wait_fixed\n",
        "\n",
        "def main(tasks=TASKSTEST):\n",
        "    openai.api_key = openai.api_key\n",
        "    mmlu_prompt = json.load(open('/content/chain-of-thought-hub/MMLU/lib_prompt/mmlu-cot.json'))\n",
        "    for task in tasks:\n",
        "\n",
        "        print()\n",
        "        print('Testing %s ...' % task)\n",
        "        print()\n",
        "\n",
        "        i = 0\n",
        "        acc = 0\n",
        "        task_data = load_dataset(\"lukaemon/mmlu\", task, trust_remote_code=True)\n",
        "        model=\"mistral-large-latest\"\n",
        "\n",
        "        with open('/content/outputs/test_%s_%s.txt' % (model, task), 'w') as fd:\n",
        "        #with open('/content/outputs/test_gpt_3.5_turbo_%s.txt' % task, 'w') as fd:\n",
        "            for q_ in tqdm(task_data['test'], total=len(task_data['test'])):\n",
        "                q = q_['input'] + '\\n'\n",
        "                for letter in ['A', 'B', 'C', 'D']:\n",
        "                    q += '(' + letter + ') ' + q_[letter] + ' '\n",
        "                q += \"\\nA: Let's think step by step.\"\n",
        "\n",
        "                prompt_q = mmlu_prompt[task] + \"\\n\\n\" + q\n",
        "                #print(prompt_q)\n",
        "\n",
        "                ### ADDED by Frank Morales 30/03/2023\n",
        "                response=mistral_chat(prompt_q,model,client,stream=False)\n",
        "\n",
        "                ### ADDED by Frank Morales 30/03/2023\n",
        "                ans_model = response.choices[0].message.content\n",
        "                #print(response.choices[0].message.content)\n",
        "\n",
        "                ans_, residual = extract_ans(ans_model)\n",
        "\n",
        "                a = q_['target']\n",
        "                #print(a)\n",
        "                fd.write('Q: %s\\nA_model:\\n%s\\nA:\\n%s\\n\\n' % (q, ans_, a))\n",
        "                i += 1\n",
        "\n",
        "                if(test_answer_mmlu_(ans_, a)): acc += 1\n",
        "            print('%s acc %.4f' % (task, acc / len(task_data['test'])))\n",
        "        # write accuracy to file\n",
        "        with open('/content/outputs/test_%s_%s_acc.txt' % (model, 'mmlu'), 'a') as fd:\n",
        "          fd.write('%s acc %.4f\\n' % (task, acc / len(task_data['test'])))\n",
        "\n",
        "    # write average accuracy to file\n",
        "    acc_list = []\n",
        "    #with open('/content/outputs/test_%s_%s_acc.txt' % (model, args.prompt_type), 'r') as fd2:\n",
        "\n",
        "    # with open('/content/outputs/test_%s_%s_acc.txt' % (model, 'multiple'), 'r') as fd2:\n",
        "    with open('/content/outputs/test_%s_%s_acc.txt' % (model, 'mmlu'), 'r') as fd2:\n",
        "        for line in fd2:\n",
        "            acc_list.append(float(line.split(' ')[2]))\n",
        "    with open('/content/outputs/test_%s_%s_acc.txt' % (model, 'mmlu'), 'a') as fd:\n",
        "        fd.write('Average acc %.4f\\n' % (np.mean(acc_list)))\n",
        "    return\n",
        "\n",
        "if __name__ == '__main__':\n",
        "    main()"
      ],
      "metadata": {
        "id": "miDaq0mLC3ut"
      },
      "execution_count": null,
      "outputs": []
    },
    {
      "cell_type": "code",
      "source": [
        "model=\"mistral-large-latest\"\n",
        "\n",
        "print()\n",
        "print('MODEL: %s'%model)\n",
        "print()\n",
        "acc_file='/content/outputs/test_%s_%s_acc.txt' % (model, 'mmlu')\n",
        "#print(acc_file)\n",
        "\n",
        "with open('/content/outputs/test_%s_%s_acc.txt' % (model, 'mmlu'), 'r') as fd:\n",
        "     for line in fd:\n",
        "            print(line)\n",
        "            #acc_list.append(float(line.split(' ')[2]))"
      ],
      "metadata": {
        "colab": {
          "base_uri": "https://localhost:8080/"
        },
        "id": "EGqC-D_kD9Kt",
        "outputId": "f4de085e-4a5e-4a45-ebf2-01a1b1e1f8ef"
      },
      "execution_count": 26,
      "outputs": [
        {
          "output_type": "stream",
          "name": "stdout",
          "text": [
            "\n",
            "MODEL: mistral-large-latest\n",
            "\n",
            "college_computer_science acc 0.5200\n",
            "\n",
            "electrical_engineering acc 0.6069\n",
            "\n",
            "machine_learning acc 0.5982\n",
            "\n",
            "Average acc 0.5750\n",
            "\n"
          ]
        }
      ]
    }
  ]
}