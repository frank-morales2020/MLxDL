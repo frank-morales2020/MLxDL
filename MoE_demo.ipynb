{
  "nbformat": 4,
  "nbformat_minor": 0,
  "metadata": {
    "colab": {
      "provenance": [],
      "authorship_tag": "ABX9TyOpdgZLqDKxMalJgjqc0FXk",
      "include_colab_link": true
    },
    "kernelspec": {
      "name": "python3",
      "display_name": "Python 3"
    },
    "language_info": {
      "name": "python"
    }
  },
  "cells": [
    {
      "cell_type": "markdown",
      "metadata": {
        "id": "view-in-github",
        "colab_type": "text"
      },
      "source": [
        "<a href=\"https://colab.research.google.com/github/frank-morales2020/MLxDL/blob/main/MoE_demo.ipynb\" target=\"_parent\"><img src=\"https://colab.research.google.com/assets/colab-badge.svg\" alt=\"Open In Colab\"/></a>"
      ]
    },
    {
      "cell_type": "code",
      "execution_count": 2,
      "metadata": {
        "colab": {
          "base_uri": "https://localhost:8080/"
        },
        "id": "Kyy85clDddGl",
        "outputId": "a29703f4-b613-4d40-8199-c6774053a965"
      },
      "outputs": [
        {
          "output_type": "stream",
          "name": "stdout",
          "text": [
            "Dummy Input Shape: torch.Size([4, 10])\n",
            "Gating Network Weights Shape: torch.Size([4, 3])\n",
            "Agent Output Shape: torch.Size([4, 5])\n",
            "Expert 0 Output Shape: torch.Size([4, 5])\n",
            "Expert 1 Output Shape: torch.Size([4, 5])\n",
            "Expert 2 Output Shape: torch.Size([4, 5])\n"
          ]
        }
      ],
      "source": [
        "import torch\n",
        "import torch.nn as nn\n",
        "import torch.nn.functional as F\n",
        "\n",
        "class Expert(nn.Module):\n",
        "    def __init__(self, input_size, output_size, hidden_size):\n",
        "        super().__init__()\n",
        "        self.fc1 = nn.Linear(input_size, hidden_size)\n",
        "        self.fc2 = nn.Linear(hidden_size, output_size)\n",
        "\n",
        "    def forward(self, x):\n",
        "        x = F.relu(self.fc1(x))\n",
        "        x = self.fc2(x)\n",
        "        return x\n",
        "\n",
        "class GatingNetwork(nn.Module):\n",
        "    def __init__(self, input_size, num_experts):\n",
        "        super().__init__()\n",
        "        self.fc = nn.Linear(input_size, num_experts)\n",
        "\n",
        "    def forward(self, x):\n",
        "        # Output logits for each expert\n",
        "        logits = self.fc(x)\n",
        "        # Use softmax to get probabilities/weights for each expert\n",
        "        weights = F.softmax(logits, dim=1)\n",
        "        return weights\n",
        "\n",
        "class MoEAgent(nn.Module):\n",
        "    def __init__(self, input_size, output_size, num_experts, expert_hidden_size):\n",
        "        super().__init__()\n",
        "        self.num_experts = num_experts\n",
        "        self.experts = nn.ModuleList([\n",
        "            Expert(input_size, output_size, expert_hidden_size) for _ in range(num_experts)\n",
        "        ])\n",
        "        self.gating_network = GatingNetwork(input_size, num_experts)\n",
        "\n",
        "    def forward(self, x):\n",
        "        # Get the weights for each expert from the gating network\n",
        "        expert_weights = self.gating_network(x)\n",
        "\n",
        "        # Initialize an output tensor\n",
        "        expert_outputs = [self.experts[i](x) for i in range(self.num_experts)]\n",
        "        expert_outputs = torch.stack(expert_outputs, dim=2) # Shape: (batch_size, output_size, num_experts)\n",
        "\n",
        "        # Combine the expert outputs using the weights\n",
        "        # (batch_size, num_experts) x (batch_size, 1, output_size, num_experts) -> (batch_size, 1, output_size)\n",
        "        weighted_outputs = torch.matmul(expert_weights.unsqueeze(1), expert_outputs.transpose(1, 2)).squeeze(1)\n",
        "\n",
        "        return weighted_outputs\n",
        "\n",
        "# --- Demo Usage ---\n",
        "if __name__ == \"__main__\":\n",
        "    # Agent parameters\n",
        "    input_size = 10\n",
        "    output_size = 5\n",
        "    num_experts = 3\n",
        "    expert_hidden_size = 20\n",
        "    batch_size = 4\n",
        "\n",
        "    # Create an MoE agent\n",
        "    moe_agent = MoEAgent(input_size, output_size, num_experts, expert_hidden_size)\n",
        "\n",
        "    # Dummy input\n",
        "    dummy_input = torch.randn(batch_size, input_size)\n",
        "\n",
        "    # Get the output from the agent\n",
        "    agent_output = moe_agent(dummy_input)\n",
        "\n",
        "    print(\"Dummy Input Shape:\", dummy_input.shape)\n",
        "    print(\"Gating Network Weights Shape:\", moe_agent.gating_network(dummy_input).shape)\n",
        "    print(\"Agent Output Shape:\", agent_output.shape)\n",
        "\n",
        "    # Example of how to access individual expert outputs (before weighted combination)\n",
        "    for i in range(num_experts):\n",
        "        print(f\"Expert {i} Output Shape:\", moe_agent.experts[i](dummy_input).shape)\n",
        "\n",
        "    # You would typically train this MoE agent using a suitable loss function\n",
        "    # and optimizer, where the gating network learns to route inputs to\n",
        "    # the most appropriate experts to minimize the loss."
      ]
    }
  ]
}