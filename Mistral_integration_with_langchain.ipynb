{
  "nbformat": 4,
  "nbformat_minor": 0,
  "metadata": {
    "colab": {
      "provenance": [],
      "machine_shape": "hm",
      "gpuType": "T4",
      "authorship_tag": "ABX9TyPiPl/cdIoD8Zq/yHN5vuiC",
      "include_colab_link": true
    },
    "kernelspec": {
      "name": "python3",
      "display_name": "Python 3"
    },
    "language_info": {
      "name": "python"
    },
    "accelerator": "GPU",
    "widgets": {
      "application/vnd.jupyter.widget-state+json": {
        "e1a07cc09a4643a39ed03d96e2a76a46": {
          "model_module": "@jupyter-widgets/controls",
          "model_name": "HBoxModel",
          "model_module_version": "1.5.0",
          "state": {
            "_dom_classes": [],
            "_model_module": "@jupyter-widgets/controls",
            "_model_module_version": "1.5.0",
            "_model_name": "HBoxModel",
            "_view_count": null,
            "_view_module": "@jupyter-widgets/controls",
            "_view_module_version": "1.5.0",
            "_view_name": "HBoxView",
            "box_style": "",
            "children": [
              "IPY_MODEL_2fd0741cfaff4e3e9e9104ecbbc2f807",
              "IPY_MODEL_c920bfd3bde648d78d8ac1b745b8b922",
              "IPY_MODEL_12eeb9f4f1594cb49448ceaa96fd35e8"
            ],
            "layout": "IPY_MODEL_e63c205749e242b48efbc4d1ea0cf25e"
          }
        },
        "2fd0741cfaff4e3e9e9104ecbbc2f807": {
          "model_module": "@jupyter-widgets/controls",
          "model_name": "HTMLModel",
          "model_module_version": "1.5.0",
          "state": {
            "_dom_classes": [],
            "_model_module": "@jupyter-widgets/controls",
            "_model_module_version": "1.5.0",
            "_model_name": "HTMLModel",
            "_view_count": null,
            "_view_module": "@jupyter-widgets/controls",
            "_view_module_version": "1.5.0",
            "_view_name": "HTMLView",
            "description": "",
            "description_tooltip": null,
            "layout": "IPY_MODEL_3a7f665595644eb0ab04c151f9842fe8",
            "placeholder": "​",
            "style": "IPY_MODEL_6564efc25a8e497b8cd0d12a7444f86f",
            "value": "Loading checkpoint shards: 100%"
          }
        },
        "c920bfd3bde648d78d8ac1b745b8b922": {
          "model_module": "@jupyter-widgets/controls",
          "model_name": "FloatProgressModel",
          "model_module_version": "1.5.0",
          "state": {
            "_dom_classes": [],
            "_model_module": "@jupyter-widgets/controls",
            "_model_module_version": "1.5.0",
            "_model_name": "FloatProgressModel",
            "_view_count": null,
            "_view_module": "@jupyter-widgets/controls",
            "_view_module_version": "1.5.0",
            "_view_name": "ProgressView",
            "bar_style": "success",
            "description": "",
            "description_tooltip": null,
            "layout": "IPY_MODEL_0cefc522b0da43cf9f1884f9cb754e0a",
            "max": 2,
            "min": 0,
            "orientation": "horizontal",
            "style": "IPY_MODEL_fb3afeda2fd049a8bd5c26b69961eb5c",
            "value": 2
          }
        },
        "12eeb9f4f1594cb49448ceaa96fd35e8": {
          "model_module": "@jupyter-widgets/controls",
          "model_name": "HTMLModel",
          "model_module_version": "1.5.0",
          "state": {
            "_dom_classes": [],
            "_model_module": "@jupyter-widgets/controls",
            "_model_module_version": "1.5.0",
            "_model_name": "HTMLModel",
            "_view_count": null,
            "_view_module": "@jupyter-widgets/controls",
            "_view_module_version": "1.5.0",
            "_view_name": "HTMLView",
            "description": "",
            "description_tooltip": null,
            "layout": "IPY_MODEL_74b3ebc82a9c48c899303a1c50ddfa72",
            "placeholder": "​",
            "style": "IPY_MODEL_09db157760f142a69cc0016793c213ea",
            "value": " 2/2 [00:10&lt;00:00,  5.03s/it]"
          }
        },
        "e63c205749e242b48efbc4d1ea0cf25e": {
          "model_module": "@jupyter-widgets/base",
          "model_name": "LayoutModel",
          "model_module_version": "1.2.0",
          "state": {
            "_model_module": "@jupyter-widgets/base",
            "_model_module_version": "1.2.0",
            "_model_name": "LayoutModel",
            "_view_count": null,
            "_view_module": "@jupyter-widgets/base",
            "_view_module_version": "1.2.0",
            "_view_name": "LayoutView",
            "align_content": null,
            "align_items": null,
            "align_self": null,
            "border": null,
            "bottom": null,
            "display": null,
            "flex": null,
            "flex_flow": null,
            "grid_area": null,
            "grid_auto_columns": null,
            "grid_auto_flow": null,
            "grid_auto_rows": null,
            "grid_column": null,
            "grid_gap": null,
            "grid_row": null,
            "grid_template_areas": null,
            "grid_template_columns": null,
            "grid_template_rows": null,
            "height": null,
            "justify_content": null,
            "justify_items": null,
            "left": null,
            "margin": null,
            "max_height": null,
            "max_width": null,
            "min_height": null,
            "min_width": null,
            "object_fit": null,
            "object_position": null,
            "order": null,
            "overflow": null,
            "overflow_x": null,
            "overflow_y": null,
            "padding": null,
            "right": null,
            "top": null,
            "visibility": null,
            "width": null
          }
        },
        "3a7f665595644eb0ab04c151f9842fe8": {
          "model_module": "@jupyter-widgets/base",
          "model_name": "LayoutModel",
          "model_module_version": "1.2.0",
          "state": {
            "_model_module": "@jupyter-widgets/base",
            "_model_module_version": "1.2.0",
            "_model_name": "LayoutModel",
            "_view_count": null,
            "_view_module": "@jupyter-widgets/base",
            "_view_module_version": "1.2.0",
            "_view_name": "LayoutView",
            "align_content": null,
            "align_items": null,
            "align_self": null,
            "border": null,
            "bottom": null,
            "display": null,
            "flex": null,
            "flex_flow": null,
            "grid_area": null,
            "grid_auto_columns": null,
            "grid_auto_flow": null,
            "grid_auto_rows": null,
            "grid_column": null,
            "grid_gap": null,
            "grid_row": null,
            "grid_template_areas": null,
            "grid_template_columns": null,
            "grid_template_rows": null,
            "height": null,
            "justify_content": null,
            "justify_items": null,
            "left": null,
            "margin": null,
            "max_height": null,
            "max_width": null,
            "min_height": null,
            "min_width": null,
            "object_fit": null,
            "object_position": null,
            "order": null,
            "overflow": null,
            "overflow_x": null,
            "overflow_y": null,
            "padding": null,
            "right": null,
            "top": null,
            "visibility": null,
            "width": null
          }
        },
        "6564efc25a8e497b8cd0d12a7444f86f": {
          "model_module": "@jupyter-widgets/controls",
          "model_name": "DescriptionStyleModel",
          "model_module_version": "1.5.0",
          "state": {
            "_model_module": "@jupyter-widgets/controls",
            "_model_module_version": "1.5.0",
            "_model_name": "DescriptionStyleModel",
            "_view_count": null,
            "_view_module": "@jupyter-widgets/base",
            "_view_module_version": "1.2.0",
            "_view_name": "StyleView",
            "description_width": ""
          }
        },
        "0cefc522b0da43cf9f1884f9cb754e0a": {
          "model_module": "@jupyter-widgets/base",
          "model_name": "LayoutModel",
          "model_module_version": "1.2.0",
          "state": {
            "_model_module": "@jupyter-widgets/base",
            "_model_module_version": "1.2.0",
            "_model_name": "LayoutModel",
            "_view_count": null,
            "_view_module": "@jupyter-widgets/base",
            "_view_module_version": "1.2.0",
            "_view_name": "LayoutView",
            "align_content": null,
            "align_items": null,
            "align_self": null,
            "border": null,
            "bottom": null,
            "display": null,
            "flex": null,
            "flex_flow": null,
            "grid_area": null,
            "grid_auto_columns": null,
            "grid_auto_flow": null,
            "grid_auto_rows": null,
            "grid_column": null,
            "grid_gap": null,
            "grid_row": null,
            "grid_template_areas": null,
            "grid_template_columns": null,
            "grid_template_rows": null,
            "height": null,
            "justify_content": null,
            "justify_items": null,
            "left": null,
            "margin": null,
            "max_height": null,
            "max_width": null,
            "min_height": null,
            "min_width": null,
            "object_fit": null,
            "object_position": null,
            "order": null,
            "overflow": null,
            "overflow_x": null,
            "overflow_y": null,
            "padding": null,
            "right": null,
            "top": null,
            "visibility": null,
            "width": null
          }
        },
        "fb3afeda2fd049a8bd5c26b69961eb5c": {
          "model_module": "@jupyter-widgets/controls",
          "model_name": "ProgressStyleModel",
          "model_module_version": "1.5.0",
          "state": {
            "_model_module": "@jupyter-widgets/controls",
            "_model_module_version": "1.5.0",
            "_model_name": "ProgressStyleModel",
            "_view_count": null,
            "_view_module": "@jupyter-widgets/base",
            "_view_module_version": "1.2.0",
            "_view_name": "StyleView",
            "bar_color": null,
            "description_width": ""
          }
        },
        "74b3ebc82a9c48c899303a1c50ddfa72": {
          "model_module": "@jupyter-widgets/base",
          "model_name": "LayoutModel",
          "model_module_version": "1.2.0",
          "state": {
            "_model_module": "@jupyter-widgets/base",
            "_model_module_version": "1.2.0",
            "_model_name": "LayoutModel",
            "_view_count": null,
            "_view_module": "@jupyter-widgets/base",
            "_view_module_version": "1.2.0",
            "_view_name": "LayoutView",
            "align_content": null,
            "align_items": null,
            "align_self": null,
            "border": null,
            "bottom": null,
            "display": null,
            "flex": null,
            "flex_flow": null,
            "grid_area": null,
            "grid_auto_columns": null,
            "grid_auto_flow": null,
            "grid_auto_rows": null,
            "grid_column": null,
            "grid_gap": null,
            "grid_row": null,
            "grid_template_areas": null,
            "grid_template_columns": null,
            "grid_template_rows": null,
            "height": null,
            "justify_content": null,
            "justify_items": null,
            "left": null,
            "margin": null,
            "max_height": null,
            "max_width": null,
            "min_height": null,
            "min_width": null,
            "object_fit": null,
            "object_position": null,
            "order": null,
            "overflow": null,
            "overflow_x": null,
            "overflow_y": null,
            "padding": null,
            "right": null,
            "top": null,
            "visibility": null,
            "width": null
          }
        },
        "09db157760f142a69cc0016793c213ea": {
          "model_module": "@jupyter-widgets/controls",
          "model_name": "DescriptionStyleModel",
          "model_module_version": "1.5.0",
          "state": {
            "_model_module": "@jupyter-widgets/controls",
            "_model_module_version": "1.5.0",
            "_model_name": "DescriptionStyleModel",
            "_view_count": null,
            "_view_module": "@jupyter-widgets/base",
            "_view_module_version": "1.2.0",
            "_view_name": "StyleView",
            "description_width": ""
          }
        }
      }
    }
  },
  "cells": [
    {
      "cell_type": "markdown",
      "metadata": {
        "id": "view-in-github",
        "colab_type": "text"
      },
      "source": [
        "<a href=\"https://colab.research.google.com/github/frank-morales2020/MLxDL/blob/main/Mistral_integration_with_langchain.ipynb\" target=\"_parent\"><img src=\"https://colab.research.google.com/assets/colab-badge.svg\" alt=\"Open In Colab\"/></a>"
      ]
    },
    {
      "cell_type": "markdown",
      "source": [
        "https://neon.tech/docs/extensions/pg_embedding#migrate-from-pg_embedding-to-pgvector\n"
      ],
      "metadata": {
        "id": "QR-Ls8u1DWR4"
      }
    },
    {
      "cell_type": "code",
      "source": [
        "#Install Libraries to access Google Drive and OpenAI resources.\n",
        "%pip install colab-env --upgrade --quiet --root-user-action=ignore\n",
        "import colab_env"
      ],
      "metadata": {
        "id": "II600ZhIB3jr",
        "colab": {
          "base_uri": "https://localhost:8080/"
        },
        "outputId": "52a3aef6-8f21-4d3e-952b-6546cd4fb911"
      },
      "execution_count": 1,
      "outputs": [
        {
          "output_type": "stream",
          "name": "stdout",
          "text": [
            "Drive already mounted at /content/gdrive; to attempt to forcibly remount, call drive.mount(\"/content/gdrive\", force_remount=True).\n"
          ]
        }
      ]
    },
    {
      "cell_type": "code",
      "source": [
        "def insert_document(id,embedding):\n",
        "    #review_embedding=get_embedding(text)\n",
        "    ### INSERT INTO DB\n",
        "    DB_NAME = \"postgres\"\n",
        "    DB_USER = \"postgres\"\n",
        "    DB_PASS = \"postgres\"\n",
        "    DB_HOST = \"localhost\"\n",
        "    DB_PORT = \"5432\"\n",
        "    conn = ps.connect(database=DB_NAME,\n",
        "\t\t\t\t\t\t\tuser=DB_USER,\n",
        "\t\t\t\t\t\t\tpassword=DB_PASS,\n",
        "\t\t\t\t\t\t\thost=DB_HOST,\n",
        "\t\t\t\t\t\t\tport=DB_PORT)\n",
        "    cur = conn.cursor() # creating a cursor\n",
        "    cur.execute(\"\"\"\n",
        "        INSERT INTO documents\n",
        "        (id, embedding)\n",
        "        VALUES ('%s',\n",
        "                '%s')\"\"\" % (id,embedding))\n",
        "\n",
        "    conn.commit()\n",
        "    print(\"INSERT EMBEDDING %s successfully\"%embedding)\n",
        "    conn.close()\n",
        "    cur.close()"
      ],
      "metadata": {
        "id": "p6Qe93gMlSIB"
      },
      "execution_count": 2,
      "outputs": []
    },
    {
      "cell_type": "code",
      "source": [
        "def query_selection(query):\n",
        "      # PostGRES SQL Settings\n",
        "      import psycopg2 as ps\n",
        "      DB_NAME = \"postgres\"\n",
        "      DB_USER = \"postgres\"\n",
        "      DB_PASS = \"postgres\"\n",
        "      DB_HOST = \"localhost\"\n",
        "      DB_PORT = \"5432\"\n",
        "      conn = ps.connect(database=DB_NAME,\n",
        "                user=DB_USER,\n",
        "                password=DB_PASS,\n",
        "                host=DB_HOST,\n",
        "                port=DB_PORT)\n",
        "      cur = conn.cursor() # creating a cursor\n",
        "      cur.execute(\"\"\"\n",
        "          %s \"\"\"%query)\n",
        "      records = cur.fetchall()\n",
        "      print(\"Total rows are:  \", len(records))\n",
        "      print(\"Printing each row\")\n",
        "      print()\n",
        "      n=0\n",
        "      for row in records:\n",
        "          n=n+1\n",
        "          print(\"ROW %s: \"%n, row)\n",
        "      conn.close()\n",
        "      cur.close()\n",
        "      print()\n",
        "      print(\"QUERY SELECTION successfully\")\n",
        "      print()"
      ],
      "metadata": {
        "id": "2xUxFbS934W5"
      },
      "execution_count": 3,
      "outputs": []
    },
    {
      "cell_type": "code",
      "source": [
        "def drop_extension(extension):\n",
        "      # PostGRES SQL Settings\n",
        "      import psycopg2 as ps\n",
        "      DB_NAME = \"postgres\"\n",
        "      DB_USER = \"postgres\"\n",
        "      DB_PASS = \"postgres\"\n",
        "      DB_HOST = \"localhost\"\n",
        "      DB_PORT = \"5432\"\n",
        "      conn = ps.connect(database=DB_NAME,\n",
        "                user=DB_USER,\n",
        "                password=DB_PASS,\n",
        "                host=DB_HOST,\n",
        "                port=DB_PORT)\n",
        "      cur = conn.cursor() # creating a cursor\n",
        "      cur.execute(\"\"\"DROP EXTENSION IF EXISTS %s CASCADE\"\"\"%extension)\n",
        "      cur.query\n",
        "      conn.commit()\n",
        "      cur.close()\n",
        "      conn.close()\n",
        "\n",
        "      print()\n",
        "      print(\"DROP EXTENSION %s successfully\"%extension)\n",
        "      print()"
      ],
      "metadata": {
        "id": "QWP0GA9Z4X4L"
      },
      "execution_count": 4,
      "outputs": []
    },
    {
      "cell_type": "code",
      "source": [
        "# install PSQL WITH DEV Libraries AND PG embedding\n",
        "!apt install postgresql postgresql-contrib &>log\n",
        "!service postgresql restart\n",
        "!sudo apt install postgresql-server-dev-all"
      ],
      "metadata": {
        "id": "5bHMdQLvCGRz",
        "colab": {
          "base_uri": "https://localhost:8080/"
        },
        "outputId": "fff0df1b-811a-4d80-8e60-b4ee4142aa86"
      },
      "execution_count": 5,
      "outputs": [
        {
          "output_type": "stream",
          "name": "stdout",
          "text": [
            " * Restarting PostgreSQL 14 database server\n",
            "   ...done.\n",
            "Reading package lists... Done\n",
            "Building dependency tree... Done\n",
            "Reading state information... Done\n",
            "postgresql-server-dev-all is already the newest version (238).\n",
            "0 upgraded, 0 newly installed, 0 to remove and 24 not upgraded.\n"
          ]
        }
      ]
    },
    {
      "cell_type": "code",
      "source": [
        "!cp -pr /content/gdrive/MyDrive/tools/pg_embedding /content/\n",
        "%cd /content/pg_embedding/\n",
        "print()\n",
        "print('START: PG embedding COMPILATION')\n",
        "!make\n",
        "!make install # may need sudo\n",
        "#!make uninstall\n",
        "print('END: PG embedding COMPILATION')\n",
        "print()"
      ],
      "metadata": {
        "id": "CHZtNbRxBjX6",
        "colab": {
          "base_uri": "https://localhost:8080/"
        },
        "outputId": "4435163e-7c4a-4a9e-e0c8-43b04c2e60f8"
      },
      "execution_count": 6,
      "outputs": [
        {
          "output_type": "stream",
          "name": "stdout",
          "text": [
            "/content/pg_embedding\n",
            "\n",
            "START: PG embedding COMPILATION\n",
            "make: Nothing to be done for 'all'.\n",
            "/bin/mkdir -p '/usr/lib/postgresql/14/lib'\n",
            "/bin/mkdir -p '/usr/share/postgresql/14/extension'\n",
            "/bin/mkdir -p '/usr/share/postgresql/14/extension'\n",
            "/usr/bin/install -c -m 755  embedding.so '/usr/lib/postgresql/14/lib/embedding.so'\n",
            "/usr/bin/install -c -m 644 .//embedding.control '/usr/share/postgresql/14/extension/'\n",
            "/usr/bin/install -c -m 644 .//embedding--0.3.5--0.3.6.sql .//embedding--0.3.5.sql .//embedding--0.3.6.sql  '/usr/share/postgresql/14/extension/'\n",
            "/bin/mkdir -p '/usr/lib/postgresql/14/lib/bitcode/embedding'\n",
            "/bin/mkdir -p '/usr/lib/postgresql/14/lib/bitcode'/embedding/\n",
            "/usr/bin/install -c -m 644 embedding.bc '/usr/lib/postgresql/14/lib/bitcode'/embedding/./\n",
            "/usr/bin/install -c -m 644 hnswalg.bc '/usr/lib/postgresql/14/lib/bitcode'/embedding/./\n",
            "/usr/bin/install -c -m 644 distfunc.bc '/usr/lib/postgresql/14/lib/bitcode'/embedding/./\n",
            "cd '/usr/lib/postgresql/14/lib/bitcode' && /usr/lib/llvm-14/bin/llvm-lto -thinlto -thinlto-action=thinlink -o embedding.index.bc embedding/embedding.bc embedding/hnswalg.bc embedding/distfunc.bc\n",
            "END: PG embedding COMPILATION\n",
            "\n"
          ]
        }
      ]
    },
    {
      "cell_type": "code",
      "source": [
        "#!sudo -u postgres psql -c \"DROP EXTENSION IF EXISTS embedding CASCADE\"\n",
        "\n",
        "%cd /content/\n",
        "!sudo -u postgres psql -c \"ALTER USER postgres PASSWORD 'postgres'\"\n",
        "\n",
        "print('')\n",
        "print(\"Extensions Available:\")\n",
        "query_selection(\"SELECT name FROM pg_available_extensions order by 1\")\n",
        "print('')\n",
        "print(\"Extensions Used:\")\n",
        "query_selection(\"SELECT * FROM pg_extension\")"
      ],
      "metadata": {
        "colab": {
          "base_uri": "https://localhost:8080/"
        },
        "id": "k3HFj_ZuNAKB",
        "outputId": "6174e9a4-bf37-42f4-9532-b191b37a3028"
      },
      "execution_count": 7,
      "outputs": [
        {
          "output_type": "stream",
          "name": "stdout",
          "text": [
            "/content\n",
            "ALTER ROLE\n",
            "\n",
            "Extensions Available:\n",
            "Total rows are:   48\n",
            "Printing each row\n",
            "\n",
            "ROW 1:  ('adminpack',)\n",
            "ROW 2:  ('amcheck',)\n",
            "ROW 3:  ('autoinc',)\n",
            "ROW 4:  ('bloom',)\n",
            "ROW 5:  ('btree_gin',)\n",
            "ROW 6:  ('btree_gist',)\n",
            "ROW 7:  ('citext',)\n",
            "ROW 8:  ('cube',)\n",
            "ROW 9:  ('dblink',)\n",
            "ROW 10:  ('dict_int',)\n",
            "ROW 11:  ('dict_xsyn',)\n",
            "ROW 12:  ('earthdistance',)\n",
            "ROW 13:  ('embedding',)\n",
            "ROW 14:  ('file_fdw',)\n",
            "ROW 15:  ('fuzzystrmatch',)\n",
            "ROW 16:  ('hstore',)\n",
            "ROW 17:  ('insert_username',)\n",
            "ROW 18:  ('intagg',)\n",
            "ROW 19:  ('intarray',)\n",
            "ROW 20:  ('isn',)\n",
            "ROW 21:  ('lo',)\n",
            "ROW 22:  ('ltree',)\n",
            "ROW 23:  ('moddatetime',)\n",
            "ROW 24:  ('old_snapshot',)\n",
            "ROW 25:  ('pageinspect',)\n",
            "ROW 26:  ('pg_buffercache',)\n",
            "ROW 27:  ('pg_freespacemap',)\n",
            "ROW 28:  ('pg_prewarm',)\n",
            "ROW 29:  ('pg_stat_statements',)\n",
            "ROW 30:  ('pg_surgery',)\n",
            "ROW 31:  ('pg_trgm',)\n",
            "ROW 32:  ('pg_visibility',)\n",
            "ROW 33:  ('pgcrypto',)\n",
            "ROW 34:  ('pgrowlocks',)\n",
            "ROW 35:  ('pgstattuple',)\n",
            "ROW 36:  ('plpgsql',)\n",
            "ROW 37:  ('postgres_fdw',)\n",
            "ROW 38:  ('refint',)\n",
            "ROW 39:  ('seg',)\n",
            "ROW 40:  ('sslinfo',)\n",
            "ROW 41:  ('tablefunc',)\n",
            "ROW 42:  ('tcn',)\n",
            "ROW 43:  ('tsm_system_rows',)\n",
            "ROW 44:  ('tsm_system_time',)\n",
            "ROW 45:  ('unaccent',)\n",
            "ROW 46:  ('uuid-ossp',)\n",
            "ROW 47:  ('vector',)\n",
            "ROW 48:  ('xml2',)\n",
            "\n",
            "QUERY SELECTION successfully\n",
            "\n",
            "\n",
            "Extensions Used:\n",
            "Total rows are:   2\n",
            "Printing each row\n",
            "\n",
            "ROW 1:  (13747, 'plpgsql', 10, 11, False, '1.0', None, None)\n",
            "ROW 2:  (16532, 'embedding', 10, 2200, True, '0.3.6', None, None)\n",
            "\n",
            "QUERY SELECTION successfully\n",
            "\n"
          ]
        }
      ]
    },
    {
      "cell_type": "code",
      "source": [
        "# PostGRES SQL Settings\n",
        "import psycopg2 as ps\n",
        "\n",
        "%cd /content/\n",
        "!sudo -u postgres psql -c \"ALTER USER postgres PASSWORD 'postgres'\"\n",
        "\n",
        "#!sudo -u postgres psql -c \"DROP EXTENSION vector CASCADE\"\n",
        "#!sudo -u postgres psql -c \"DROP EXTENSION embedding CASCADE\"\n",
        "\n",
        "!sudo -u postgres psql -c \"CREATE EXTENSION embedding\"\n",
        "\n",
        "!sudo -u postgres psql -c \"DROP TABLE documents\"\n",
        "!sudo -u postgres psql -c \"CREATE TABLE documents(id BIGSERIAL PRIMARY KEY, embedding real[])\"\n",
        "\n",
        "h=\"{1,2,3}\"\n",
        "hh= \"INSERT INTO documents(id, embedding) VALUES (1,'%s'), (2,'{4,5,6}')\"%h\n",
        "print(hh)\n",
        "\n",
        "#del insert_document\n",
        "insert_document(1,'{1,2,3}')\n",
        "insert_document(2,'{4,5,6}')\n",
        "\n",
        "#!sudo -u postgres psql -c \"CREATE INDEX ON documents USING hnsw(embedding) WITH (dims=3, m=3, efconstruction=5, efsearch=5)\""
      ],
      "metadata": {
        "colab": {
          "base_uri": "https://localhost:8080/"
        },
        "id": "iuZRG19-INLa",
        "outputId": "d121dbc2-b3b6-41a2-c8d6-d3d55ac82412"
      },
      "execution_count": 8,
      "outputs": [
        {
          "output_type": "stream",
          "name": "stdout",
          "text": [
            "/content\n",
            "ALTER ROLE\n",
            "ERROR:  extension \"embedding\" already exists\n",
            "DROP TABLE\n",
            "CREATE TABLE\n",
            "INSERT INTO documents(id, embedding) VALUES (1,'{1,2,3}'), (2,'{4,5,6}')\n",
            "INSERT EMBEDDING {1,2,3} successfully\n",
            "INSERT EMBEDDING {4,5,6} successfully\n"
          ]
        }
      ]
    },
    {
      "cell_type": "code",
      "source": [
        "# install PSQL WITH DEV Libraries AND PG embedding\n",
        "#!apt install postgresql postgresql-contrib &>log\n",
        "#!service postgresql restart\n",
        "#!sudo apt install postgresql-server-dev-all\n",
        "\n",
        "!cp -pr /content/gdrive/MyDrive/tools/pgvector /content/\n",
        "%cd /content/pgvector/\n",
        "print()\n",
        "print('START: PG VECTOR COMPILATION')\n",
        "!make\n",
        "!make install\n",
        "#!make uninstall\n",
        "print('END: PG VECTOR COMPILATION')\n",
        "print()"
      ],
      "metadata": {
        "colab": {
          "base_uri": "https://localhost:8080/"
        },
        "id": "1vsRfc01GoSN",
        "outputId": "dd6a9f08-0eb1-4962-8eef-ab572e1a8b73"
      },
      "execution_count": 9,
      "outputs": [
        {
          "output_type": "stream",
          "name": "stdout",
          "text": [
            "/content/pgvector\n",
            "\n",
            "START: PG VECTOR COMPILATION\n",
            "make: Nothing to be done for 'all'.\n",
            "/bin/mkdir -p '/usr/lib/postgresql/14/lib'\n",
            "/bin/mkdir -p '/usr/share/postgresql/14/extension'\n",
            "/bin/mkdir -p '/usr/share/postgresql/14/extension'\n",
            "/usr/bin/install -c -m 755  vector.so '/usr/lib/postgresql/14/lib/vector.so'\n",
            "/usr/bin/install -c -m 644 .//vector.control '/usr/share/postgresql/14/extension/'\n",
            "/usr/bin/install -c -m 644 .//sql/vector--0.1.0--0.1.1.sql .//sql/vector--0.1.1--0.1.3.sql .//sql/vector--0.1.3--0.1.4.sql .//sql/vector--0.1.4--0.1.5.sql .//sql/vector--0.1.5--0.1.6.sql .//sql/vector--0.1.6--0.1.7.sql .//sql/vector--0.1.7--0.1.8.sql .//sql/vector--0.1.8--0.2.0.sql .//sql/vector--0.2.0--0.2.1.sql .//sql/vector--0.2.1--0.2.2.sql .//sql/vector--0.2.2--0.2.3.sql .//sql/vector--0.2.3--0.2.4.sql .//sql/vector--0.2.4--0.2.5.sql .//sql/vector--0.2.5--0.2.6.sql .//sql/vector--0.2.6--0.2.7.sql .//sql/vector--0.2.7--0.3.0.sql .//sql/vector--0.3.0--0.3.1.sql .//sql/vector--0.3.1--0.3.2.sql .//sql/vector--0.3.2--0.4.0.sql .//sql/vector--0.4.0--0.4.1.sql .//sql/vector--0.4.1--0.4.2.sql .//sql/vector--0.4.2--0.4.3.sql .//sql/vector--0.4.3--0.4.4.sql .//sql/vector--0.4.4--0.5.0.sql .//sql/vector--0.5.0--0.5.1.sql .//sql/vector--0.5.1.sql  '/usr/share/postgresql/14/extension/'\n",
            "/bin/mkdir -p '/usr/include/postgresql/14/server/extension/vector/'\n",
            "/usr/bin/install -c -m 644   .//src/vector.h '/usr/include/postgresql/14/server/extension/vector/'\n",
            "/bin/mkdir -p '/usr/lib/postgresql/14/lib/bitcode/vector'\n",
            "/bin/mkdir -p '/usr/lib/postgresql/14/lib/bitcode'/vector/src/\n",
            "/usr/bin/install -c -m 644 src/hnsw.bc '/usr/lib/postgresql/14/lib/bitcode'/vector/src/\n",
            "/usr/bin/install -c -m 644 src/hnswbuild.bc '/usr/lib/postgresql/14/lib/bitcode'/vector/src/\n",
            "/usr/bin/install -c -m 644 src/hnswinsert.bc '/usr/lib/postgresql/14/lib/bitcode'/vector/src/\n",
            "/usr/bin/install -c -m 644 src/hnswscan.bc '/usr/lib/postgresql/14/lib/bitcode'/vector/src/\n",
            "/usr/bin/install -c -m 644 src/hnswutils.bc '/usr/lib/postgresql/14/lib/bitcode'/vector/src/\n",
            "/usr/bin/install -c -m 644 src/hnswvacuum.bc '/usr/lib/postgresql/14/lib/bitcode'/vector/src/\n",
            "/usr/bin/install -c -m 644 src/ivfbuild.bc '/usr/lib/postgresql/14/lib/bitcode'/vector/src/\n",
            "/usr/bin/install -c -m 644 src/ivfflat.bc '/usr/lib/postgresql/14/lib/bitcode'/vector/src/\n",
            "/usr/bin/install -c -m 644 src/ivfinsert.bc '/usr/lib/postgresql/14/lib/bitcode'/vector/src/\n",
            "/usr/bin/install -c -m 644 src/ivfkmeans.bc '/usr/lib/postgresql/14/lib/bitcode'/vector/src/\n",
            "/usr/bin/install -c -m 644 src/ivfscan.bc '/usr/lib/postgresql/14/lib/bitcode'/vector/src/\n",
            "/usr/bin/install -c -m 644 src/ivfutils.bc '/usr/lib/postgresql/14/lib/bitcode'/vector/src/\n",
            "/usr/bin/install -c -m 644 src/ivfvacuum.bc '/usr/lib/postgresql/14/lib/bitcode'/vector/src/\n",
            "/usr/bin/install -c -m 644 src/vector.bc '/usr/lib/postgresql/14/lib/bitcode'/vector/src/\n",
            "cd '/usr/lib/postgresql/14/lib/bitcode' && /usr/lib/llvm-14/bin/llvm-lto -thinlto -thinlto-action=thinlink -o vector.index.bc vector/src/hnsw.bc vector/src/hnswbuild.bc vector/src/hnswinsert.bc vector/src/hnswscan.bc vector/src/hnswutils.bc vector/src/hnswvacuum.bc vector/src/ivfbuild.bc vector/src/ivfflat.bc vector/src/ivfinsert.bc vector/src/ivfkmeans.bc vector/src/ivfscan.bc vector/src/ivfutils.bc vector/src/ivfvacuum.bc vector/src/vector.bc\n",
            "END: PG VECTOR COMPILATION\n",
            "\n"
          ]
        }
      ]
    },
    {
      "cell_type": "code",
      "source": [
        "#!sudo -u postgres psql -c \"DROP EXTENSION IF EXISTS embedding CASCADE\"\n",
        "\n",
        "print('')\n",
        "print(\"Extensions Available:\")\n",
        "query_selection(\"SELECT name FROM pg_available_extensions order by 1\")\n",
        "print('')\n",
        "print(\"Extensions Used:\")\n",
        "query_selection(\"SELECT * FROM pg_extension\")"
      ],
      "metadata": {
        "colab": {
          "base_uri": "https://localhost:8080/"
        },
        "id": "B_gzw1GqCbve",
        "outputId": "e89355fe-acec-4e38-9117-ace6738d1285"
      },
      "execution_count": 10,
      "outputs": [
        {
          "output_type": "stream",
          "name": "stdout",
          "text": [
            "\n",
            "Extensions Available:\n",
            "Total rows are:   48\n",
            "Printing each row\n",
            "\n",
            "ROW 1:  ('adminpack',)\n",
            "ROW 2:  ('amcheck',)\n",
            "ROW 3:  ('autoinc',)\n",
            "ROW 4:  ('bloom',)\n",
            "ROW 5:  ('btree_gin',)\n",
            "ROW 6:  ('btree_gist',)\n",
            "ROW 7:  ('citext',)\n",
            "ROW 8:  ('cube',)\n",
            "ROW 9:  ('dblink',)\n",
            "ROW 10:  ('dict_int',)\n",
            "ROW 11:  ('dict_xsyn',)\n",
            "ROW 12:  ('earthdistance',)\n",
            "ROW 13:  ('embedding',)\n",
            "ROW 14:  ('file_fdw',)\n",
            "ROW 15:  ('fuzzystrmatch',)\n",
            "ROW 16:  ('hstore',)\n",
            "ROW 17:  ('insert_username',)\n",
            "ROW 18:  ('intagg',)\n",
            "ROW 19:  ('intarray',)\n",
            "ROW 20:  ('isn',)\n",
            "ROW 21:  ('lo',)\n",
            "ROW 22:  ('ltree',)\n",
            "ROW 23:  ('moddatetime',)\n",
            "ROW 24:  ('old_snapshot',)\n",
            "ROW 25:  ('pageinspect',)\n",
            "ROW 26:  ('pg_buffercache',)\n",
            "ROW 27:  ('pg_freespacemap',)\n",
            "ROW 28:  ('pg_prewarm',)\n",
            "ROW 29:  ('pg_stat_statements',)\n",
            "ROW 30:  ('pg_surgery',)\n",
            "ROW 31:  ('pg_trgm',)\n",
            "ROW 32:  ('pg_visibility',)\n",
            "ROW 33:  ('pgcrypto',)\n",
            "ROW 34:  ('pgrowlocks',)\n",
            "ROW 35:  ('pgstattuple',)\n",
            "ROW 36:  ('plpgsql',)\n",
            "ROW 37:  ('postgres_fdw',)\n",
            "ROW 38:  ('refint',)\n",
            "ROW 39:  ('seg',)\n",
            "ROW 40:  ('sslinfo',)\n",
            "ROW 41:  ('tablefunc',)\n",
            "ROW 42:  ('tcn',)\n",
            "ROW 43:  ('tsm_system_rows',)\n",
            "ROW 44:  ('tsm_system_time',)\n",
            "ROW 45:  ('unaccent',)\n",
            "ROW 46:  ('uuid-ossp',)\n",
            "ROW 47:  ('vector',)\n",
            "ROW 48:  ('xml2',)\n",
            "\n",
            "QUERY SELECTION successfully\n",
            "\n",
            "\n",
            "Extensions Used:\n",
            "Total rows are:   2\n",
            "Printing each row\n",
            "\n",
            "ROW 1:  (13747, 'plpgsql', 10, 11, False, '1.0', None, None)\n",
            "ROW 2:  (16532, 'embedding', 10, 2200, True, '0.3.6', None, None)\n",
            "\n",
            "QUERY SELECTION successfully\n",
            "\n"
          ]
        }
      ]
    },
    {
      "cell_type": "code",
      "source": [
        "# PostGRES SQL Settings\n",
        "import psycopg2 as ps\n",
        "\n",
        "%cd /content/\n",
        "!sudo -u postgres psql -c \"ALTER USER postgres PASSWORD 'postgres'\"\n",
        "\n",
        "!sudo -u postgres psql -c \"DROP EXTENSION embedding CASCADE\"\n",
        "!sudo -u postgres psql -c \"CREATE EXTENSION vector\"\n",
        "\n",
        "!sudo -u postgres psql -c \"DROP TABLE documents\"\n",
        "!sudo -u postgres psql -c \"CREATE TABLE documents(id BIGSERIAL PRIMARY KEY, embedding vector(3))\"\n",
        "\n",
        "insert_document(1,'[1,2,3]')\n",
        "insert_document(2,'[4,5,6]')\n",
        "!sudo -u postgres psql -c \"CREATE INDEX ON documents USING hnsw (embedding vector_l2_ops)\"\n",
        "\n",
        "#!sudo -u postgres psql -c \"CREATE INDEX ON documents USING hnsw(embedding ann_cos_ops) WITH (m=3)\"\n"
      ],
      "metadata": {
        "colab": {
          "base_uri": "https://localhost:8080/"
        },
        "id": "pXP1e65MejS3",
        "outputId": "3e8ab6b3-94ce-4b15-a05a-f0bfcc27bdfa"
      },
      "execution_count": 11,
      "outputs": [
        {
          "output_type": "stream",
          "name": "stdout",
          "text": [
            "/content\n",
            "ALTER ROLE\n",
            "DROP EXTENSION\n",
            "CREATE EXTENSION\n",
            "DROP TABLE\n",
            "CREATE TABLE\n",
            "INSERT EMBEDDING [1,2,3] successfully\n",
            "INSERT EMBEDDING [4,5,6] successfully\n",
            "CREATE INDEX\n"
          ]
        }
      ]
    },
    {
      "cell_type": "code",
      "source": [
        "## <-> and <=> Euclidean (L2) and Cosine distances NO Manhattan distance: <~>\n",
        "query_selection(\"SELECT * FROM documents ORDER BY embedding::vector <-> '[3,1,2]' LIMIT 5\")"
      ],
      "metadata": {
        "colab": {
          "base_uri": "https://localhost:8080/"
        },
        "id": "k04syAHjJnWZ",
        "outputId": "509b1864-e40c-416e-844b-2bc10b5ca92b"
      },
      "execution_count": 12,
      "outputs": [
        {
          "output_type": "stream",
          "name": "stdout",
          "text": [
            "Total rows are:   2\n",
            "Printing each row\n",
            "\n",
            "ROW 1:  (1, '[1,2,3]')\n",
            "ROW 2:  (2, '[4,5,6]')\n",
            "\n",
            "QUERY SELECTION successfully\n",
            "\n"
          ]
        }
      ]
    },
    {
      "cell_type": "code",
      "source": [
        "print('')\n",
        "print(\"Extensions Available:\")\n",
        "query_selection(\"SELECT name FROM pg_available_extensions order by 1\")\n",
        "print('')\n",
        "print(\"Extensions Used:\")\n",
        "query_selection(\"SELECT * FROM pg_extension\")"
      ],
      "metadata": {
        "colab": {
          "base_uri": "https://localhost:8080/"
        },
        "id": "-cYNpki6VpeX",
        "outputId": "2942da66-82b7-4bf5-9354-8165a4bdfb5b"
      },
      "execution_count": 13,
      "outputs": [
        {
          "output_type": "stream",
          "name": "stdout",
          "text": [
            "\n",
            "Extensions Available:\n",
            "Total rows are:   48\n",
            "Printing each row\n",
            "\n",
            "ROW 1:  ('adminpack',)\n",
            "ROW 2:  ('amcheck',)\n",
            "ROW 3:  ('autoinc',)\n",
            "ROW 4:  ('bloom',)\n",
            "ROW 5:  ('btree_gin',)\n",
            "ROW 6:  ('btree_gist',)\n",
            "ROW 7:  ('citext',)\n",
            "ROW 8:  ('cube',)\n",
            "ROW 9:  ('dblink',)\n",
            "ROW 10:  ('dict_int',)\n",
            "ROW 11:  ('dict_xsyn',)\n",
            "ROW 12:  ('earthdistance',)\n",
            "ROW 13:  ('embedding',)\n",
            "ROW 14:  ('file_fdw',)\n",
            "ROW 15:  ('fuzzystrmatch',)\n",
            "ROW 16:  ('hstore',)\n",
            "ROW 17:  ('insert_username',)\n",
            "ROW 18:  ('intagg',)\n",
            "ROW 19:  ('intarray',)\n",
            "ROW 20:  ('isn',)\n",
            "ROW 21:  ('lo',)\n",
            "ROW 22:  ('ltree',)\n",
            "ROW 23:  ('moddatetime',)\n",
            "ROW 24:  ('old_snapshot',)\n",
            "ROW 25:  ('pageinspect',)\n",
            "ROW 26:  ('pg_buffercache',)\n",
            "ROW 27:  ('pg_freespacemap',)\n",
            "ROW 28:  ('pg_prewarm',)\n",
            "ROW 29:  ('pg_stat_statements',)\n",
            "ROW 30:  ('pg_surgery',)\n",
            "ROW 31:  ('pg_trgm',)\n",
            "ROW 32:  ('pg_visibility',)\n",
            "ROW 33:  ('pgcrypto',)\n",
            "ROW 34:  ('pgrowlocks',)\n",
            "ROW 35:  ('pgstattuple',)\n",
            "ROW 36:  ('plpgsql',)\n",
            "ROW 37:  ('postgres_fdw',)\n",
            "ROW 38:  ('refint',)\n",
            "ROW 39:  ('seg',)\n",
            "ROW 40:  ('sslinfo',)\n",
            "ROW 41:  ('tablefunc',)\n",
            "ROW 42:  ('tcn',)\n",
            "ROW 43:  ('tsm_system_rows',)\n",
            "ROW 44:  ('tsm_system_time',)\n",
            "ROW 45:  ('unaccent',)\n",
            "ROW 46:  ('uuid-ossp',)\n",
            "ROW 47:  ('vector',)\n",
            "ROW 48:  ('xml2',)\n",
            "\n",
            "QUERY SELECTION successfully\n",
            "\n",
            "\n",
            "Extensions Used:\n",
            "Total rows are:   2\n",
            "Printing each row\n",
            "\n",
            "ROW 1:  (13747, 'plpgsql', 10, 11, False, '1.0', None, None)\n",
            "ROW 2:  (16750, 'vector', 10, 2200, True, '0.5.1', None, None)\n",
            "\n",
            "QUERY SELECTION successfully\n",
            "\n"
          ]
        }
      ]
    },
    {
      "cell_type": "code",
      "source": [
        "# Euclidean (L2) distance index:\n",
        "#CREATE INDEX ON documents USING hnsw(embedding) WITH (dims=3, m=3, efconstruction=5, efsearch=5);\n",
        "#SET enable_seqscan = off;\n",
        "#SELECT id FROM documents ORDER BY embedding <-> array[3,3,3] LIMIT 1;\n",
        "\n",
        "# Cosine distance index:\n",
        "#CREATE INDEX ON documents USING hnsw(embedding ann_cos_ops) WITH (dims=3, m=3, efconstruction=5, efsearch=5);\n",
        "#SET enable_seqscan = off;\n",
        "#SELECT id FROM documents ORDER BY embedding <=> array[3,3,3] LIMIT 1;\n",
        "\n",
        "# Manhattan distance index:\n",
        "#CREATE INDEX ON documents USING hnsw(embedding ann_manhattan_ops) WITH (dims=3, m=3, efconstruction=5, efsearch=5);\n",
        "#SET enable_seqscan = off;\n",
        "#SELECT id FROM documents ORDER BY embedding <~> array[3,3,3] LIMIT 1;\n",
        "\n"
      ],
      "metadata": {
        "id": "DOe_mjxVmeNN"
      },
      "execution_count": 14,
      "outputs": []
    },
    {
      "cell_type": "markdown",
      "source": [
        "# AWS"
      ],
      "metadata": {
        "id": "0vk3VbT-q4X7"
      }
    },
    {
      "cell_type": "code",
      "source": [
        "#!rm -rf /content/*.pdf\n",
        "!mkdir -p /content/data/\n",
        "%cd /content/data/\n",
        "\n",
        "from urllib.request import urlretrieve\n",
        "urls = [\n",
        "    'https://s2.q4cdn.com/299287126/files/doc_financials/2023/ar/2022-Shareholder-Letter.pdf',\n",
        "    'https://s2.q4cdn.com/299287126/files/doc_financials/2022/ar/2021-Shareholder-Letter.pdf',\n",
        "    'https://s2.q4cdn.com/299287126/files/doc_financials/2021/ar/Amazon-2020-Shareholder-Letter-and-1997-Shareholder-Letter.pdf',\n",
        "    'https://s2.q4cdn.com/299287126/files/doc_financials/2020/ar/2019-Shareholder-Letter.pdf'\n",
        "]\n",
        "\n",
        "filenames = [\n",
        "    'AMZN-2022-Shareholder-Letter.pdf',\n",
        "    'AMZN-2021-Shareholder-Letter.pdf',\n",
        "    'AMZN-2020-Shareholder-Letter.pdf',\n",
        "    'AMZN-2019-Shareholder-Letter.pdf'\n",
        "]\n",
        "\n",
        "metadata = [\n",
        "    dict(year=2022, source=filenames[0]),\n",
        "    dict(year=2021, source=filenames[1]),\n",
        "    dict(year=2020, source=filenames[2]),\n",
        "    dict(year=2019, source=filenames[3])]\n",
        "\n",
        "data_root = \"/content/data/\"\n",
        "\n",
        "for idx, url in enumerate(urls):\n",
        "    file_path = data_root + filenames[idx]\n",
        "    #print(file_path)\n",
        "    urlretrieve(url, file_path)"
      ],
      "metadata": {
        "colab": {
          "base_uri": "https://localhost:8080/"
        },
        "id": "HJGGZWI_q_Cb",
        "outputId": "02a6e650-292b-4bd7-9f82-549a9bbdf1c4"
      },
      "execution_count": 15,
      "outputs": [
        {
          "output_type": "stream",
          "name": "stdout",
          "text": [
            "/content/data\n"
          ]
        }
      ]
    },
    {
      "cell_type": "code",
      "source": [
        "%pip install openai==0.28  --root-user-action=ignore\n",
        "%pip install langchain\n",
        "%pip install \"unstructured[all-docs]\"\n",
        "%pip install tiktoken\n",
        "%pip install -q -U sentence-transformers"
      ],
      "metadata": {
        "id": "2_UzTRgRsA7x",
        "colab": {
          "base_uri": "https://localhost:8080/"
        },
        "outputId": "f260788b-6109-45d3-df76-551661f8c82b"
      },
      "execution_count": 16,
      "outputs": [
        {
          "output_type": "stream",
          "name": "stdout",
          "text": [
            "Requirement already satisfied: openai==0.28 in /usr/local/lib/python3.10/dist-packages (0.28.0)\n",
            "Requirement already satisfied: requests>=2.20 in /usr/local/lib/python3.10/dist-packages (from openai==0.28) (2.31.0)\n",
            "Requirement already satisfied: tqdm in /usr/local/lib/python3.10/dist-packages (from openai==0.28) (4.66.1)\n",
            "Requirement already satisfied: aiohttp in /usr/local/lib/python3.10/dist-packages (from openai==0.28) (3.9.1)\n",
            "Requirement already satisfied: charset-normalizer<4,>=2 in /usr/local/lib/python3.10/dist-packages (from requests>=2.20->openai==0.28) (3.3.2)\n",
            "Requirement already satisfied: idna<4,>=2.5 in /usr/local/lib/python3.10/dist-packages (from requests>=2.20->openai==0.28) (3.6)\n",
            "Requirement already satisfied: urllib3<3,>=1.21.1 in /usr/local/lib/python3.10/dist-packages (from requests>=2.20->openai==0.28) (2.0.7)\n",
            "Requirement already satisfied: certifi>=2017.4.17 in /usr/local/lib/python3.10/dist-packages (from requests>=2.20->openai==0.28) (2023.11.17)\n",
            "Requirement already satisfied: attrs>=17.3.0 in /usr/local/lib/python3.10/dist-packages (from aiohttp->openai==0.28) (23.2.0)\n",
            "Requirement already satisfied: multidict<7.0,>=4.5 in /usr/local/lib/python3.10/dist-packages (from aiohttp->openai==0.28) (6.0.4)\n",
            "Requirement already satisfied: yarl<2.0,>=1.0 in /usr/local/lib/python3.10/dist-packages (from aiohttp->openai==0.28) (1.9.4)\n",
            "Requirement already satisfied: frozenlist>=1.1.1 in /usr/local/lib/python3.10/dist-packages (from aiohttp->openai==0.28) (1.4.1)\n",
            "Requirement already satisfied: aiosignal>=1.1.2 in /usr/local/lib/python3.10/dist-packages (from aiohttp->openai==0.28) (1.3.1)\n",
            "Requirement already satisfied: async-timeout<5.0,>=4.0 in /usr/local/lib/python3.10/dist-packages (from aiohttp->openai==0.28) (4.0.3)\n",
            "Requirement already satisfied: langchain in /usr/local/lib/python3.10/dist-packages (0.1.0)\n",
            "Requirement already satisfied: PyYAML>=5.3 in /usr/local/lib/python3.10/dist-packages (from langchain) (6.0.1)\n",
            "Requirement already satisfied: SQLAlchemy<3,>=1.4 in /usr/local/lib/python3.10/dist-packages (from langchain) (2.0.24)\n",
            "Requirement already satisfied: aiohttp<4.0.0,>=3.8.3 in /usr/local/lib/python3.10/dist-packages (from langchain) (3.9.1)\n",
            "Requirement already satisfied: async-timeout<5.0.0,>=4.0.0 in /usr/local/lib/python3.10/dist-packages (from langchain) (4.0.3)\n",
            "Requirement already satisfied: dataclasses-json<0.7,>=0.5.7 in /usr/local/lib/python3.10/dist-packages (from langchain) (0.6.3)\n",
            "Requirement already satisfied: jsonpatch<2.0,>=1.33 in /usr/local/lib/python3.10/dist-packages (from langchain) (1.33)\n",
            "Requirement already satisfied: langchain-community<0.1,>=0.0.9 in /usr/local/lib/python3.10/dist-packages (from langchain) (0.0.10)\n",
            "Requirement already satisfied: langchain-core<0.2,>=0.1.7 in /usr/local/lib/python3.10/dist-packages (from langchain) (0.1.8)\n",
            "Requirement already satisfied: langsmith<0.1.0,>=0.0.77 in /usr/local/lib/python3.10/dist-packages (from langchain) (0.0.78)\n",
            "Requirement already satisfied: numpy<2,>=1 in /usr/local/lib/python3.10/dist-packages (from langchain) (1.23.5)\n",
            "Requirement already satisfied: pydantic<3,>=1 in /usr/local/lib/python3.10/dist-packages (from langchain) (2.5.3)\n",
            "Requirement already satisfied: requests<3,>=2 in /usr/local/lib/python3.10/dist-packages (from langchain) (2.31.0)\n",
            "Requirement already satisfied: tenacity<9.0.0,>=8.1.0 in /usr/local/lib/python3.10/dist-packages (from langchain) (8.2.3)\n",
            "Requirement already satisfied: attrs>=17.3.0 in /usr/local/lib/python3.10/dist-packages (from aiohttp<4.0.0,>=3.8.3->langchain) (23.2.0)\n",
            "Requirement already satisfied: multidict<7.0,>=4.5 in /usr/local/lib/python3.10/dist-packages (from aiohttp<4.0.0,>=3.8.3->langchain) (6.0.4)\n",
            "Requirement already satisfied: yarl<2.0,>=1.0 in /usr/local/lib/python3.10/dist-packages (from aiohttp<4.0.0,>=3.8.3->langchain) (1.9.4)\n",
            "Requirement already satisfied: frozenlist>=1.1.1 in /usr/local/lib/python3.10/dist-packages (from aiohttp<4.0.0,>=3.8.3->langchain) (1.4.1)\n",
            "Requirement already satisfied: aiosignal>=1.1.2 in /usr/local/lib/python3.10/dist-packages (from aiohttp<4.0.0,>=3.8.3->langchain) (1.3.1)\n",
            "Requirement already satisfied: marshmallow<4.0.0,>=3.18.0 in /usr/local/lib/python3.10/dist-packages (from dataclasses-json<0.7,>=0.5.7->langchain) (3.20.1)\n",
            "Requirement already satisfied: typing-inspect<1,>=0.4.0 in /usr/local/lib/python3.10/dist-packages (from dataclasses-json<0.7,>=0.5.7->langchain) (0.9.0)\n",
            "Requirement already satisfied: jsonpointer>=1.9 in /usr/local/lib/python3.10/dist-packages (from jsonpatch<2.0,>=1.33->langchain) (2.4)\n",
            "Requirement already satisfied: anyio<5,>=3 in /usr/local/lib/python3.10/dist-packages (from langchain-core<0.2,>=0.1.7->langchain) (3.7.1)\n",
            "Requirement already satisfied: packaging<24.0,>=23.2 in /usr/local/lib/python3.10/dist-packages (from langchain-core<0.2,>=0.1.7->langchain) (23.2)\n",
            "Requirement already satisfied: annotated-types>=0.4.0 in /usr/local/lib/python3.10/dist-packages (from pydantic<3,>=1->langchain) (0.6.0)\n",
            "Requirement already satisfied: pydantic-core==2.14.6 in /usr/local/lib/python3.10/dist-packages (from pydantic<3,>=1->langchain) (2.14.6)\n",
            "Requirement already satisfied: typing-extensions>=4.6.1 in /usr/local/lib/python3.10/dist-packages (from pydantic<3,>=1->langchain) (4.9.0)\n",
            "Requirement already satisfied: charset-normalizer<4,>=2 in /usr/local/lib/python3.10/dist-packages (from requests<3,>=2->langchain) (3.3.2)\n",
            "Requirement already satisfied: idna<4,>=2.5 in /usr/local/lib/python3.10/dist-packages (from requests<3,>=2->langchain) (3.6)\n",
            "Requirement already satisfied: urllib3<3,>=1.21.1 in /usr/local/lib/python3.10/dist-packages (from requests<3,>=2->langchain) (2.0.7)\n",
            "Requirement already satisfied: certifi>=2017.4.17 in /usr/local/lib/python3.10/dist-packages (from requests<3,>=2->langchain) (2023.11.17)\n",
            "Requirement already satisfied: greenlet!=0.4.17 in /usr/local/lib/python3.10/dist-packages (from SQLAlchemy<3,>=1.4->langchain) (3.0.3)\n",
            "Requirement already satisfied: sniffio>=1.1 in /usr/local/lib/python3.10/dist-packages (from anyio<5,>=3->langchain-core<0.2,>=0.1.7->langchain) (1.3.0)\n",
            "Requirement already satisfied: exceptiongroup in /usr/local/lib/python3.10/dist-packages (from anyio<5,>=3->langchain-core<0.2,>=0.1.7->langchain) (1.2.0)\n",
            "Requirement already satisfied: mypy-extensions>=0.3.0 in /usr/local/lib/python3.10/dist-packages (from typing-inspect<1,>=0.4.0->dataclasses-json<0.7,>=0.5.7->langchain) (1.0.0)\n",
            "Requirement already satisfied: unstructured[all-docs] in /usr/local/lib/python3.10/dist-packages (0.11.8)\n",
            "Requirement already satisfied: chardet in /usr/local/lib/python3.10/dist-packages (from unstructured[all-docs]) (5.2.0)\n",
            "Requirement already satisfied: filetype in /usr/local/lib/python3.10/dist-packages (from unstructured[all-docs]) (1.2.0)\n",
            "Requirement already satisfied: python-magic in /usr/local/lib/python3.10/dist-packages (from unstructured[all-docs]) (0.4.27)\n",
            "Requirement already satisfied: lxml in /usr/local/lib/python3.10/dist-packages (from unstructured[all-docs]) (4.9.4)\n",
            "Requirement already satisfied: nltk in /usr/local/lib/python3.10/dist-packages (from unstructured[all-docs]) (3.8.1)\n",
            "Requirement already satisfied: tabulate in /usr/local/lib/python3.10/dist-packages (from unstructured[all-docs]) (0.9.0)\n",
            "Requirement already satisfied: requests in /usr/local/lib/python3.10/dist-packages (from unstructured[all-docs]) (2.31.0)\n",
            "Requirement already satisfied: beautifulsoup4 in /usr/local/lib/python3.10/dist-packages (from unstructured[all-docs]) (4.11.2)\n",
            "Requirement already satisfied: emoji in /usr/local/lib/python3.10/dist-packages (from unstructured[all-docs]) (2.9.0)\n",
            "Requirement already satisfied: dataclasses-json in /usr/local/lib/python3.10/dist-packages (from unstructured[all-docs]) (0.6.3)\n",
            "Requirement already satisfied: python-iso639 in /usr/local/lib/python3.10/dist-packages (from unstructured[all-docs]) (2024.1.2)\n",
            "Requirement already satisfied: langdetect in /usr/local/lib/python3.10/dist-packages (from unstructured[all-docs]) (1.0.9)\n",
            "Requirement already satisfied: numpy in /usr/local/lib/python3.10/dist-packages (from unstructured[all-docs]) (1.23.5)\n",
            "Requirement already satisfied: rapidfuzz in /usr/local/lib/python3.10/dist-packages (from unstructured[all-docs]) (3.6.1)\n",
            "Requirement already satisfied: backoff in /usr/local/lib/python3.10/dist-packages (from unstructured[all-docs]) (2.2.1)\n",
            "Requirement already satisfied: typing-extensions in /usr/local/lib/python3.10/dist-packages (from unstructured[all-docs]) (4.9.0)\n",
            "Requirement already satisfied: unstructured-client in /usr/local/lib/python3.10/dist-packages (from unstructured[all-docs]) (0.15.2)\n",
            "Requirement already satisfied: wrapt in /usr/local/lib/python3.10/dist-packages (from unstructured[all-docs]) (1.14.1)\n",
            "Requirement already satisfied: pypandoc in /usr/local/lib/python3.10/dist-packages (from unstructured[all-docs]) (1.12)\n",
            "Requirement already satisfied: pandas in /usr/local/lib/python3.10/dist-packages (from unstructured[all-docs]) (1.5.3)\n",
            "Requirement already satisfied: python-docx>=1.1.0 in /usr/local/lib/python3.10/dist-packages (from unstructured[all-docs]) (1.1.0)\n",
            "Requirement already satisfied: networkx in /usr/local/lib/python3.10/dist-packages (from unstructured[all-docs]) (3.2.1)\n",
            "Requirement already satisfied: pypdf in /usr/local/lib/python3.10/dist-packages (from unstructured[all-docs]) (3.17.4)\n",
            "Requirement already satisfied: unstructured.pytesseract>=0.3.12 in /usr/local/lib/python3.10/dist-packages (from unstructured[all-docs]) (0.3.12)\n",
            "Requirement already satisfied: markdown in /usr/local/lib/python3.10/dist-packages (from unstructured[all-docs]) (3.5.1)\n",
            "Requirement already satisfied: python-pptx<=0.6.23 in /usr/local/lib/python3.10/dist-packages (from unstructured[all-docs]) (0.6.23)\n",
            "Requirement already satisfied: pdf2image in /usr/local/lib/python3.10/dist-packages (from unstructured[all-docs]) (1.17.0)\n",
            "Requirement already satisfied: onnx in /usr/local/lib/python3.10/dist-packages (from unstructured[all-docs]) (1.15.0)\n",
            "Requirement already satisfied: msg-parser in /usr/local/lib/python3.10/dist-packages (from unstructured[all-docs]) (1.2.0)\n",
            "Requirement already satisfied: pikepdf in /usr/local/lib/python3.10/dist-packages (from unstructured[all-docs]) (8.11.2)\n",
            "Requirement already satisfied: openpyxl in /usr/local/lib/python3.10/dist-packages (from unstructured[all-docs]) (3.1.2)\n",
            "Requirement already satisfied: pdfminer.six in /usr/local/lib/python3.10/dist-packages (from unstructured[all-docs]) (20221105)\n",
            "Requirement already satisfied: xlrd in /usr/local/lib/python3.10/dist-packages (from unstructured[all-docs]) (2.0.1)\n",
            "Requirement already satisfied: unstructured-inference==0.7.18 in /usr/local/lib/python3.10/dist-packages (from unstructured[all-docs]) (0.7.18)\n",
            "Requirement already satisfied: layoutparser[layoutmodels,tesseract] in /usr/local/lib/python3.10/dist-packages (from unstructured-inference==0.7.18->unstructured[all-docs]) (0.3.4)\n",
            "Requirement already satisfied: python-multipart in /usr/local/lib/python3.10/dist-packages (from unstructured-inference==0.7.18->unstructured[all-docs]) (0.0.6)\n",
            "Requirement already satisfied: huggingface-hub in /usr/local/lib/python3.10/dist-packages (from unstructured-inference==0.7.18->unstructured[all-docs]) (0.20.1)\n",
            "Requirement already satisfied: opencv-python!=4.7.0.68 in /usr/local/lib/python3.10/dist-packages (from unstructured-inference==0.7.18->unstructured[all-docs]) (4.8.0.76)\n",
            "Requirement already satisfied: onnxruntime<1.16 in /usr/local/lib/python3.10/dist-packages (from unstructured-inference==0.7.18->unstructured[all-docs]) (1.15.1)\n",
            "Requirement already satisfied: transformers>=4.25.1 in /usr/local/lib/python3.10/dist-packages (from unstructured-inference==0.7.18->unstructured[all-docs]) (4.35.2)\n",
            "Requirement already satisfied: Pillow>=3.3.2 in /usr/local/lib/python3.10/dist-packages (from python-pptx<=0.6.23->unstructured[all-docs]) (10.2.0)\n",
            "Requirement already satisfied: XlsxWriter>=0.5.7 in /usr/local/lib/python3.10/dist-packages (from python-pptx<=0.6.23->unstructured[all-docs]) (3.1.9)\n",
            "Requirement already satisfied: packaging>=21.3 in /usr/local/lib/python3.10/dist-packages (from unstructured.pytesseract>=0.3.12->unstructured[all-docs]) (23.2)\n",
            "Requirement already satisfied: soupsieve>1.2 in /usr/local/lib/python3.10/dist-packages (from beautifulsoup4->unstructured[all-docs]) (2.5)\n",
            "Requirement already satisfied: marshmallow<4.0.0,>=3.18.0 in /usr/local/lib/python3.10/dist-packages (from dataclasses-json->unstructured[all-docs]) (3.20.1)\n",
            "Requirement already satisfied: typing-inspect<1,>=0.4.0 in /usr/local/lib/python3.10/dist-packages (from dataclasses-json->unstructured[all-docs]) (0.9.0)\n",
            "Requirement already satisfied: six in /usr/local/lib/python3.10/dist-packages (from langdetect->unstructured[all-docs]) (1.16.0)\n",
            "Requirement already satisfied: olefile>=0.46 in /usr/local/lib/python3.10/dist-packages (from msg-parser->unstructured[all-docs]) (0.47)\n",
            "Requirement already satisfied: click in /usr/local/lib/python3.10/dist-packages (from nltk->unstructured[all-docs]) (8.1.7)\n",
            "Requirement already satisfied: joblib in /usr/local/lib/python3.10/dist-packages (from nltk->unstructured[all-docs]) (1.3.2)\n",
            "Requirement already satisfied: regex>=2021.8.3 in /usr/local/lib/python3.10/dist-packages (from nltk->unstructured[all-docs]) (2023.6.3)\n",
            "Requirement already satisfied: tqdm in /usr/local/lib/python3.10/dist-packages (from nltk->unstructured[all-docs]) (4.66.1)\n",
            "Requirement already satisfied: protobuf>=3.20.2 in /usr/local/lib/python3.10/dist-packages (from onnx->unstructured[all-docs]) (3.20.3)\n",
            "Requirement already satisfied: et-xmlfile in /usr/local/lib/python3.10/dist-packages (from openpyxl->unstructured[all-docs]) (1.1.0)\n",
            "Requirement already satisfied: python-dateutil>=2.8.1 in /usr/local/lib/python3.10/dist-packages (from pandas->unstructured[all-docs]) (2.8.2)\n",
            "Requirement already satisfied: pytz>=2020.1 in /usr/local/lib/python3.10/dist-packages (from pandas->unstructured[all-docs]) (2023.3.post1)\n",
            "Requirement already satisfied: charset-normalizer>=2.0.0 in /usr/local/lib/python3.10/dist-packages (from pdfminer.six->unstructured[all-docs]) (3.3.2)\n",
            "Requirement already satisfied: cryptography>=36.0.0 in /usr/local/lib/python3.10/dist-packages (from pdfminer.six->unstructured[all-docs]) (41.0.7)\n",
            "Requirement already satisfied: Deprecated in /usr/local/lib/python3.10/dist-packages (from pikepdf->unstructured[all-docs]) (1.2.14)\n",
            "Requirement already satisfied: idna<4,>=2.5 in /usr/local/lib/python3.10/dist-packages (from requests->unstructured[all-docs]) (3.6)\n",
            "Requirement already satisfied: urllib3<3,>=1.21.1 in /usr/local/lib/python3.10/dist-packages (from requests->unstructured[all-docs]) (2.0.7)\n",
            "Requirement already satisfied: certifi>=2017.4.17 in /usr/local/lib/python3.10/dist-packages (from requests->unstructured[all-docs]) (2023.11.17)\n",
            "Requirement already satisfied: jsonpath-python>=1.0.6 in /usr/local/lib/python3.10/dist-packages (from unstructured-client->unstructured[all-docs]) (1.0.6)\n",
            "Requirement already satisfied: mypy-extensions>=1.0.0 in /usr/local/lib/python3.10/dist-packages (from unstructured-client->unstructured[all-docs]) (1.0.0)\n",
            "Requirement already satisfied: cffi>=1.12 in /usr/local/lib/python3.10/dist-packages (from cryptography>=36.0.0->pdfminer.six->unstructured[all-docs]) (1.16.0)\n",
            "Requirement already satisfied: coloredlogs in /usr/local/lib/python3.10/dist-packages (from onnxruntime<1.16->unstructured-inference==0.7.18->unstructured[all-docs]) (15.0.1)\n",
            "Requirement already satisfied: flatbuffers in /usr/local/lib/python3.10/dist-packages (from onnxruntime<1.16->unstructured-inference==0.7.18->unstructured[all-docs]) (23.5.26)\n",
            "Requirement already satisfied: sympy in /usr/local/lib/python3.10/dist-packages (from onnxruntime<1.16->unstructured-inference==0.7.18->unstructured[all-docs]) (1.12)\n",
            "Requirement already satisfied: filelock in /usr/local/lib/python3.10/dist-packages (from transformers>=4.25.1->unstructured-inference==0.7.18->unstructured[all-docs]) (3.13.1)\n",
            "Requirement already satisfied: pyyaml>=5.1 in /usr/local/lib/python3.10/dist-packages (from transformers>=4.25.1->unstructured-inference==0.7.18->unstructured[all-docs]) (6.0.1)\n",
            "Requirement already satisfied: tokenizers<0.19,>=0.14 in /usr/local/lib/python3.10/dist-packages (from transformers>=4.25.1->unstructured-inference==0.7.18->unstructured[all-docs]) (0.15.0)\n",
            "Requirement already satisfied: safetensors>=0.3.1 in /usr/local/lib/python3.10/dist-packages (from transformers>=4.25.1->unstructured-inference==0.7.18->unstructured[all-docs]) (0.4.1)\n",
            "Requirement already satisfied: fsspec>=2023.5.0 in /usr/local/lib/python3.10/dist-packages (from huggingface-hub->unstructured-inference==0.7.18->unstructured[all-docs]) (2023.6.0)\n",
            "Requirement already satisfied: scipy in /usr/local/lib/python3.10/dist-packages (from layoutparser[layoutmodels,tesseract]->unstructured-inference==0.7.18->unstructured[all-docs]) (1.11.4)\n",
            "Requirement already satisfied: iopath in /usr/local/lib/python3.10/dist-packages (from layoutparser[layoutmodels,tesseract]->unstructured-inference==0.7.18->unstructured[all-docs]) (0.1.10)\n",
            "Requirement already satisfied: pdfplumber in /usr/local/lib/python3.10/dist-packages (from layoutparser[layoutmodels,tesseract]->unstructured-inference==0.7.18->unstructured[all-docs]) (0.10.3)\n",
            "Requirement already satisfied: pytesseract in /usr/local/lib/python3.10/dist-packages (from layoutparser[layoutmodels,tesseract]->unstructured-inference==0.7.18->unstructured[all-docs]) (0.3.10)\n",
            "Requirement already satisfied: torch in /usr/local/lib/python3.10/dist-packages (from layoutparser[layoutmodels,tesseract]->unstructured-inference==0.7.18->unstructured[all-docs]) (2.1.0+cu121)\n",
            "Requirement already satisfied: torchvision in /usr/local/lib/python3.10/dist-packages (from layoutparser[layoutmodels,tesseract]->unstructured-inference==0.7.18->unstructured[all-docs]) (0.16.0+cu121)\n",
            "Requirement already satisfied: effdet in /usr/local/lib/python3.10/dist-packages (from layoutparser[layoutmodels,tesseract]->unstructured-inference==0.7.18->unstructured[all-docs]) (0.4.1)\n",
            "Requirement already satisfied: pycparser in /usr/local/lib/python3.10/dist-packages (from cffi>=1.12->cryptography>=36.0.0->pdfminer.six->unstructured[all-docs]) (2.21)\n",
            "Requirement already satisfied: humanfriendly>=9.1 in /usr/local/lib/python3.10/dist-packages (from coloredlogs->onnxruntime<1.16->unstructured-inference==0.7.18->unstructured[all-docs]) (10.0)\n",
            "Requirement already satisfied: timm>=0.9.2 in /usr/local/lib/python3.10/dist-packages (from effdet->layoutparser[layoutmodels,tesseract]->unstructured-inference==0.7.18->unstructured[all-docs]) (0.9.12)\n",
            "Requirement already satisfied: pycocotools>=2.0.2 in /usr/local/lib/python3.10/dist-packages (from effdet->layoutparser[layoutmodels,tesseract]->unstructured-inference==0.7.18->unstructured[all-docs]) (2.0.7)\n",
            "Requirement already satisfied: omegaconf>=2.0 in /usr/local/lib/python3.10/dist-packages (from effdet->layoutparser[layoutmodels,tesseract]->unstructured-inference==0.7.18->unstructured[all-docs]) (2.3.0)\n",
            "Requirement already satisfied: jinja2 in /usr/local/lib/python3.10/dist-packages (from torch->layoutparser[layoutmodels,tesseract]->unstructured-inference==0.7.18->unstructured[all-docs]) (3.1.2)\n",
            "Requirement already satisfied: triton==2.1.0 in /usr/local/lib/python3.10/dist-packages (from torch->layoutparser[layoutmodels,tesseract]->unstructured-inference==0.7.18->unstructured[all-docs]) (2.1.0)\n",
            "Requirement already satisfied: portalocker in /usr/local/lib/python3.10/dist-packages (from iopath->layoutparser[layoutmodels,tesseract]->unstructured-inference==0.7.18->unstructured[all-docs]) (2.8.2)\n",
            "Requirement already satisfied: pypdfium2>=4.18.0 in /usr/local/lib/python3.10/dist-packages (from pdfplumber->layoutparser[layoutmodels,tesseract]->unstructured-inference==0.7.18->unstructured[all-docs]) (4.25.0)\n",
            "Requirement already satisfied: mpmath>=0.19 in /usr/local/lib/python3.10/dist-packages (from sympy->onnxruntime<1.16->unstructured-inference==0.7.18->unstructured[all-docs]) (1.3.0)\n",
            "Requirement already satisfied: antlr4-python3-runtime==4.9.* in /usr/local/lib/python3.10/dist-packages (from omegaconf>=2.0->effdet->layoutparser[layoutmodels,tesseract]->unstructured-inference==0.7.18->unstructured[all-docs]) (4.9.3)\n",
            "Requirement already satisfied: matplotlib>=2.1.0 in /usr/local/lib/python3.10/dist-packages (from pycocotools>=2.0.2->effdet->layoutparser[layoutmodels,tesseract]->unstructured-inference==0.7.18->unstructured[all-docs]) (3.7.1)\n",
            "Requirement already satisfied: MarkupSafe>=2.0 in /usr/local/lib/python3.10/dist-packages (from jinja2->torch->layoutparser[layoutmodels,tesseract]->unstructured-inference==0.7.18->unstructured[all-docs]) (2.1.3)\n",
            "Requirement already satisfied: contourpy>=1.0.1 in /usr/local/lib/python3.10/dist-packages (from matplotlib>=2.1.0->pycocotools>=2.0.2->effdet->layoutparser[layoutmodels,tesseract]->unstructured-inference==0.7.18->unstructured[all-docs]) (1.2.0)\n",
            "Requirement already satisfied: cycler>=0.10 in /usr/local/lib/python3.10/dist-packages (from matplotlib>=2.1.0->pycocotools>=2.0.2->effdet->layoutparser[layoutmodels,tesseract]->unstructured-inference==0.7.18->unstructured[all-docs]) (0.12.1)\n",
            "Requirement already satisfied: fonttools>=4.22.0 in /usr/local/lib/python3.10/dist-packages (from matplotlib>=2.1.0->pycocotools>=2.0.2->effdet->layoutparser[layoutmodels,tesseract]->unstructured-inference==0.7.18->unstructured[all-docs]) (4.47.0)\n",
            "Requirement already satisfied: kiwisolver>=1.0.1 in /usr/local/lib/python3.10/dist-packages (from matplotlib>=2.1.0->pycocotools>=2.0.2->effdet->layoutparser[layoutmodels,tesseract]->unstructured-inference==0.7.18->unstructured[all-docs]) (1.4.5)\n",
            "Requirement already satisfied: pyparsing>=2.3.1 in /usr/local/lib/python3.10/dist-packages (from matplotlib>=2.1.0->pycocotools>=2.0.2->effdet->layoutparser[layoutmodels,tesseract]->unstructured-inference==0.7.18->unstructured[all-docs]) (3.1.1)\n",
            "Requirement already satisfied: tiktoken in /usr/local/lib/python3.10/dist-packages (0.5.2)\n",
            "Requirement already satisfied: regex>=2022.1.18 in /usr/local/lib/python3.10/dist-packages (from tiktoken) (2023.6.3)\n",
            "Requirement already satisfied: requests>=2.26.0 in /usr/local/lib/python3.10/dist-packages (from tiktoken) (2.31.0)\n",
            "Requirement already satisfied: charset-normalizer<4,>=2 in /usr/local/lib/python3.10/dist-packages (from requests>=2.26.0->tiktoken) (3.3.2)\n",
            "Requirement already satisfied: idna<4,>=2.5 in /usr/local/lib/python3.10/dist-packages (from requests>=2.26.0->tiktoken) (3.6)\n",
            "Requirement already satisfied: urllib3<3,>=1.21.1 in /usr/local/lib/python3.10/dist-packages (from requests>=2.26.0->tiktoken) (2.0.7)\n",
            "Requirement already satisfied: certifi>=2017.4.17 in /usr/local/lib/python3.10/dist-packages (from requests>=2.26.0->tiktoken) (2023.11.17)\n"
          ]
        }
      ]
    },
    {
      "cell_type": "code",
      "source": [
        "from pypdf import PdfReader, PdfWriter\n",
        "import glob\n",
        "\n",
        "local_pdfs = glob.glob(data_root + '*.pdf')\n",
        "\n",
        "for local_pdf in local_pdfs:\n",
        "    pdf_reader = PdfReader(local_pdf)\n",
        "    pdf_writer = PdfWriter()\n",
        "    for pagenum in range(len(pdf_reader.pages)-3):\n",
        "        page = pdf_reader.pages[pagenum]\n",
        "        pdf_writer.add_page(page)\n",
        "\n",
        "    with open(local_pdf, 'wb') as new_file:\n",
        "        new_file.seek(0)\n",
        "        pdf_writer.write(new_file)\n",
        "        new_file.truncate()"
      ],
      "metadata": {
        "id": "FwBAG6UprEbM"
      },
      "execution_count": 17,
      "outputs": []
    },
    {
      "cell_type": "code",
      "source": [
        "import numpy as np\n",
        "from langchain.text_splitter import CharacterTextSplitter, RecursiveCharacterTextSplitter\n",
        "from langchain.document_loaders import PyPDFLoader, PyPDFDirectoryLoader\n",
        "\n",
        "#%cd /content/data\n",
        "\n",
        "documents = []\n",
        "\n",
        "for idx, file in enumerate(filenames):\n",
        "    loader = PyPDFLoader(data_root + file)\n",
        "    document = loader.load()\n",
        "    for document_fragment in document:\n",
        "        document_fragment.metadata = metadata[idx]\n",
        "\n",
        "    documents += document\n",
        "\n",
        "# - in our testing Character split works better with this PDF data set\n",
        "text_splitter = RecursiveCharacterTextSplitter(\n",
        "    # Set a really small chunk size, just to show.\n",
        "    chunk_size = 512,\n",
        "    chunk_overlap  = 100,\n",
        ")\n",
        "\n",
        "docs = text_splitter.split_documents(documents)\n",
        "\n",
        "print(f'# of Document Pages {len(documents)}')\n",
        "print(f'# of Document Chunks: {len(docs)}')"
      ],
      "metadata": {
        "colab": {
          "base_uri": "https://localhost:8080/"
        },
        "id": "vVN8KXBUrI7v",
        "outputId": "6a0a4711-013a-440f-841e-4ca547ca388f"
      },
      "execution_count": 18,
      "outputs": [
        {
          "output_type": "stream",
          "name": "stdout",
          "text": [
            "# of Document Pages 25\n",
            "# of Document Chunks: 299\n"
          ]
        }
      ]
    },
    {
      "cell_type": "code",
      "source": [
        "#%pip install langchain\n",
        "#%pip install colab-env\n",
        "#%pip install openai==0.28  --root-user-action=ignore\n",
        "\n",
        "# install PSQL WITH DEV Libraries AND PG embedding\n",
        "#!apt install postgresql postgresql-contrib &>log\n",
        "#!service postgresql restart\n",
        "#!sudo apt install postgresql-server-dev-all\n",
        "\n",
        "import openai\n",
        "\n",
        "import os\n",
        "collection_name='AWS'\n",
        "\n",
        "from langchain.docstore.document import Document\n",
        "from langchain.document_loaders import TextLoader\n",
        "from langchain.embeddings.openai import OpenAIEmbeddings\n",
        "from langchain.text_splitter import CharacterTextSplitter\n",
        "from langchain.vectorstores import PGEmbedding\n",
        "\n",
        "%pip install colab-env\n",
        "import colab_env\n",
        "\n",
        "connection_string = os.getenv(\"DATABASE_URL\")\n",
        "\n",
        "# https://supabase.com/blog/fewer-dimensions-are-better-pgvector\n",
        "embeddings = OpenAIEmbeddings(model='text-embedding-ada-002')\n",
        "\n",
        "#https://huggingface.co/sentence-transformers/all-MiniLM-L6-v2\n",
        "\n",
        "%cd /content/\n",
        "\n",
        "# install PSQL WITH DEV Libraries AND PG embedding\n",
        "#!apt install postgresql postgresql-contrib &>log\n",
        "#!service postgresql restart\n",
        "#!sudo apt install postgresql-server-dev-all\n",
        "\n",
        "!sudo -u postgres psql -c \"ALTER USER postgres PASSWORD 'postgres'\"\n",
        "\n",
        "#DROP EXTENSION IF EXISTS\n",
        "#drop_extension('embedding')\n",
        "#!sudo -u postgres psql -c \"DROP EXTENSION IF EXISTS embedding CASCADE\"\n",
        "!sudo -u postgres psql -c \"DROP EXTENSION IF EXISTS vector CASCADE\"\n",
        "\n",
        "!sudo -u postgres psql -c \"CREATE EXTENSION embedding;\"\n",
        "#!sudo -u postgres psql -c \"CREATE EXTENSION vector;\"\n",
        "\n",
        "print()\n",
        "#del embeddings\n",
        "print(\"Extension available\")\n",
        "query_selection(\"SELECT name FROM pg_available_extensions order by 1\")\n",
        "print()\n",
        "print(\"Extension used\")\n",
        "query_selection(\"SELECT * FROM pg_extension order by 1\")\n",
        "print()"
      ],
      "metadata": {
        "colab": {
          "base_uri": "https://localhost:8080/"
        },
        "id": "WX9u6W4FqLgs",
        "outputId": "21f57222-69d9-464f-bd8c-bb4b2c9c40cd"
      },
      "execution_count": 19,
      "outputs": [
        {
          "output_type": "stream",
          "name": "stdout",
          "text": [
            "Requirement already satisfied: colab-env in /usr/local/lib/python3.10/dist-packages (0.2.0)\n",
            "Requirement already satisfied: python-dotenv<1.0,>=0.10.0 in /usr/local/lib/python3.10/dist-packages (from colab-env) (0.21.1)\n",
            "/content\n",
            "ALTER ROLE\n"
          ]
        },
        {
          "output_type": "stream",
          "name": "stderr",
          "text": [
            "/usr/local/lib/python3.10/dist-packages/langchain_core/_api/deprecation.py:115: LangChainDeprecationWarning: The class `OpenAIEmbeddings` was deprecated in LangChain 0.1.0 and will be removed in 0.2.0. Use langchain_openai.OpenAIEmbeddings instead.\n",
            "  warn_deprecated(\n"
          ]
        },
        {
          "output_type": "stream",
          "name": "stdout",
          "text": [
            "NOTICE:  drop cascades to column embedding of table documents\n",
            "DROP EXTENSION\n",
            "CREATE EXTENSION\n",
            "\n",
            "Extension available\n",
            "Total rows are:   48\n",
            "Printing each row\n",
            "\n",
            "ROW 1:  ('adminpack',)\n",
            "ROW 2:  ('amcheck',)\n",
            "ROW 3:  ('autoinc',)\n",
            "ROW 4:  ('bloom',)\n",
            "ROW 5:  ('btree_gin',)\n",
            "ROW 6:  ('btree_gist',)\n",
            "ROW 7:  ('citext',)\n",
            "ROW 8:  ('cube',)\n",
            "ROW 9:  ('dblink',)\n",
            "ROW 10:  ('dict_int',)\n",
            "ROW 11:  ('dict_xsyn',)\n",
            "ROW 12:  ('earthdistance',)\n",
            "ROW 13:  ('embedding',)\n",
            "ROW 14:  ('file_fdw',)\n",
            "ROW 15:  ('fuzzystrmatch',)\n",
            "ROW 16:  ('hstore',)\n",
            "ROW 17:  ('insert_username',)\n",
            "ROW 18:  ('intagg',)\n",
            "ROW 19:  ('intarray',)\n",
            "ROW 20:  ('isn',)\n",
            "ROW 21:  ('lo',)\n",
            "ROW 22:  ('ltree',)\n",
            "ROW 23:  ('moddatetime',)\n",
            "ROW 24:  ('old_snapshot',)\n",
            "ROW 25:  ('pageinspect',)\n",
            "ROW 26:  ('pg_buffercache',)\n",
            "ROW 27:  ('pg_freespacemap',)\n",
            "ROW 28:  ('pg_prewarm',)\n",
            "ROW 29:  ('pg_stat_statements',)\n",
            "ROW 30:  ('pg_surgery',)\n",
            "ROW 31:  ('pg_trgm',)\n",
            "ROW 32:  ('pg_visibility',)\n",
            "ROW 33:  ('pgcrypto',)\n",
            "ROW 34:  ('pgrowlocks',)\n",
            "ROW 35:  ('pgstattuple',)\n",
            "ROW 36:  ('plpgsql',)\n",
            "ROW 37:  ('postgres_fdw',)\n",
            "ROW 38:  ('refint',)\n",
            "ROW 39:  ('seg',)\n",
            "ROW 40:  ('sslinfo',)\n",
            "ROW 41:  ('tablefunc',)\n",
            "ROW 42:  ('tcn',)\n",
            "ROW 43:  ('tsm_system_rows',)\n",
            "ROW 44:  ('tsm_system_time',)\n",
            "ROW 45:  ('unaccent',)\n",
            "ROW 46:  ('uuid-ossp',)\n",
            "ROW 47:  ('vector',)\n",
            "ROW 48:  ('xml2',)\n",
            "\n",
            "QUERY SELECTION successfully\n",
            "\n",
            "\n",
            "Extension used\n",
            "Total rows are:   2\n",
            "Printing each row\n",
            "\n",
            "ROW 1:  (13747, 'plpgsql', 10, 11, False, '1.0', None, None)\n",
            "ROW 2:  (16859, 'embedding', 10, 2200, True, '0.3.6', None, None)\n",
            "\n",
            "QUERY SELECTION successfully\n",
            "\n",
            "\n"
          ]
        }
      ]
    },
    {
      "cell_type": "code",
      "source": [
        "db = PGEmbedding.from_documents(\n",
        "    embedding=embeddings,\n",
        "    documents=docs,\n",
        "    collection_name=collection_name,\n",
        "    connection_string=connection_string,\n",
        ")\n",
        "\n",
        "query = \"How has AWS evolved?\"\n",
        "print()\n",
        "print(\"-\" * 80)\n",
        "print(query)\n",
        "\n",
        "#query = db.embedding_function.embed_query(query)\n",
        "results_with_scores = db.similarity_search_with_score(query)\n",
        "\n",
        "for doc, score in results_with_scores:\n",
        "    print(f\"Content: {doc.page_content}\\nMetadata: {doc.metadata}\\nScore: {score}\\n\\n\")\n",
        "\n",
        "print()\n",
        "print(\"-\" * 80)"
      ],
      "metadata": {
        "colab": {
          "base_uri": "https://localhost:8080/"
        },
        "id": "W8OUhRQ3sYaZ",
        "outputId": "a3f31eb6-4073-4f60-d688-66ae32ac6582"
      },
      "execution_count": 20,
      "outputs": [
        {
          "output_type": "stream",
          "name": "stdout",
          "text": [
            "\n",
            "--------------------------------------------------------------------------------\n",
            "How has AWS evolved?\n",
            "Content: customersmuch more functionality in AWS than they can find anywhere else (which is a significant differentiator), butalso allowed us to arrive at the much more game-changing offering that AWS is today.\n",
            "Metadata: {'year': 2021, 'source': 'AMZN-2021-Shareholder-Letter.pdf'}\n",
            "Score: 0.5201687\n",
            "\n",
            "\n",
            "Content: customersmuch more functionality in AWS than they can find anywhere else (which is a significant differentiator), butalso allowed us to arrive at the much more game-changing offering that AWS is today.\n",
            "Metadata: {'year': 2021, 'source': 'AMZN-2021-Shareholder-Letter.pdf'}\n",
            "Score: 0.5201687\n",
            "\n",
            "\n",
            "Content: in AWS. Our new customer pipeline is robust, as are our active migrations. Many companies usediscontinuous periods like this to step back and determine what they strategically want to change, and wefind an increasing number of enterprises opting out of managing their own infrastructure, and preferring tomove to AWS to enjoy the agility, innovation, cost-efficiency, and security benefits. And most importantlyfor customers, AWS continues to deliver new capabilities rapidly (over 3,300 new features and\n",
            "Metadata: {'year': 2022, 'source': 'AMZN-2022-Shareholder-Letter.pdf'}\n",
            "Score: 0.5204916\n",
            "\n",
            "\n",
            "Content: in AWS. Our new customer pipeline is robust, as are our active migrations. Many companies usediscontinuous periods like this to step back and determine what they strategically want to change, and wefind an increasing number of enterprises opting out of managing their own infrastructure, and preferring tomove to AWS to enjoy the agility, innovation, cost-efficiency, and security benefits. And most importantlyfor customers, AWS continues to deliver new capabilities rapidly (over 3,300 new features and\n",
            "Metadata: {'year': 2022, 'source': 'AMZN-2022-Shareholder-Letter.pdf'}\n",
            "Score: 0.5205997\n",
            "\n",
            "\n",
            "\n",
            "--------------------------------------------------------------------------------\n"
          ]
        }
      ]
    },
    {
      "cell_type": "code",
      "source": [
        "#https://platform.openai.com/docs/guides/text-generation\n",
        "\n",
        "!pip install gradio --quiet\n",
        "!pip install xformer --quiet\n",
        "!pip install chromadb --quiet\n",
        "!pip install langchain --quiet\n",
        "!pip install accelerate --quiet\n",
        "!pip install transformers --quiet\n",
        "!pip install bitsandbytes --quiet\n",
        "!pip install unstructured --quiet\n",
        "!pip install sentence-transformers --quiet\n",
        "!pip install pypdf\n",
        "\n",
        "%pip install openai==0.28  --root-user-action=ignore\n",
        "%pip install tiktoken\n",
        "%pip install colab-env --upgrade --quiet --root-user-action=ignore"
      ],
      "metadata": {
        "id": "-KIzUUShRSJj"
      },
      "execution_count": null,
      "outputs": []
    },
    {
      "cell_type": "code",
      "source": [
        "#%pip install colab-env --upgrade --quiet --root-user-action=ignore\n",
        "#!pip install accelerate\n",
        "\n",
        "import torch\n",
        "from textwrap import fill\n",
        "from IPython.display import Markdown, display\n",
        "\n",
        "import colab_env\n",
        "import os\n",
        "\n",
        "access_token = os.getenv(\"HF_TOKEN\")\n",
        "\n",
        "from langchain.prompts.chat import (\n",
        "    ChatPromptTemplate,\n",
        "    HumanMessagePromptTemplate,\n",
        "    SystemMessagePromptTemplate,\n",
        "    )\n",
        "\n",
        "from langchain import PromptTemplate\n",
        "from langchain import HuggingFacePipeline\n",
        "\n",
        "from langchain.vectorstores import Chroma\n",
        "from langchain.schema import AIMessage, HumanMessage\n",
        "from langchain.memory import ConversationBufferMemory\n",
        "from langchain.embeddings import HuggingFaceEmbeddings\n",
        "from langchain.text_splitter import RecursiveCharacterTextSplitter\n",
        "from langchain.document_loaders import UnstructuredMarkdownLoader, UnstructuredURLLoader\n",
        "from langchain.chains import LLMChain, SimpleSequentialChain, RetrievalQA, ConversationalRetrievalChain\n",
        "from transformers import BitsAndBytesConfig, AutoModelForCausalLM, AutoTokenizer, GenerationConfig, pipeline\n",
        "import warnings\n",
        "warnings.filterwarnings('ignore')\n",
        "\n",
        "MODEL_NAME = \"mistralai/Mistral-7B-Instruct-v0.1\"\n",
        "\n",
        "quantization_config = BitsAndBytesConfig(\n",
        "    load_in_4bit=True,\n",
        "    bnb_4bit_compute_dtype=torch.float16,\n",
        "    bnb_4bit_quant_type=\"nf4\",\n",
        "    bnb_4bit_use_double_quant=True,\n",
        ")\n",
        "\n",
        "model = AutoModelForCausalLM.from_pretrained(\n",
        "    MODEL_NAME,\n",
        "    torch_dtype=torch.float16,\n",
        "    low_cpu_mem_usage=True,\n",
        "    trust_remote_code=True,\n",
        "    device_map=\"auto\",\n",
        "    quantization_config=quantization_config\n",
        ")\n",
        "\n",
        "tokenizer = AutoTokenizer.from_pretrained(MODEL_NAME, use_fast=True, padding_side=\"left\")\n",
        "tokenizer.pad_token = tokenizer.eos_token\n",
        "\n",
        "#from transformers import AutoTokenizer, MistralForCausalLM"
      ],
      "metadata": {
        "colab": {
          "base_uri": "https://localhost:8080/",
          "height": 49,
          "referenced_widgets": [
            "e1a07cc09a4643a39ed03d96e2a76a46",
            "2fd0741cfaff4e3e9e9104ecbbc2f807",
            "c920bfd3bde648d78d8ac1b745b8b922",
            "12eeb9f4f1594cb49448ceaa96fd35e8",
            "e63c205749e242b48efbc4d1ea0cf25e",
            "3a7f665595644eb0ab04c151f9842fe8",
            "6564efc25a8e497b8cd0d12a7444f86f",
            "0cefc522b0da43cf9f1884f9cb754e0a",
            "fb3afeda2fd049a8bd5c26b69961eb5c",
            "74b3ebc82a9c48c899303a1c50ddfa72",
            "09db157760f142a69cc0016793c213ea"
          ]
        },
        "id": "1ygWwhAGQkpL",
        "outputId": "0e90caf1-1797-4fae-8aaf-810d73cbd802"
      },
      "execution_count": 22,
      "outputs": [
        {
          "output_type": "display_data",
          "data": {
            "text/plain": [
              "Loading checkpoint shards:   0%|          | 0/2 [00:00<?, ?it/s]"
            ],
            "application/vnd.jupyter.widget-view+json": {
              "version_major": 2,
              "version_minor": 0,
              "model_id": "e1a07cc09a4643a39ed03d96e2a76a46"
            }
          },
          "metadata": {}
        }
      ]
    },
    {
      "cell_type": "code",
      "source": [
        "from langchain.chains import LLMChain, SimpleSequentialChain, RetrievalQA, ConversationalRetrievalChain\n",
        "from transformers import BitsAndBytesConfig, AutoModelForCausalLM, AutoTokenizer, GenerationConfig, pipeline\n",
        "import warnings\n",
        "warnings.filterwarnings('ignore')\n",
        "\n",
        "MODEL_NAME='mistralai/Mistral-7B-Instruct-v0.1'\n",
        "generation_config = GenerationConfig.from_pretrained(MODEL_NAME)\n",
        "generation_config.max_new_tokens = 512\n",
        "generation_config.temperature = 0.9\n",
        "generation_config.top_p = 0.9\n",
        "generation_config.do_sample = True\n",
        "generation_config.repetition_penalty = 1.15\n",
        "\n",
        "#model.to(device)\n",
        "\n",
        "pipeline = pipeline(\n",
        "    \"text-generation\",\n",
        "    model=model,\n",
        "    tokenizer=tokenizer,\n",
        "    return_full_text=True,\n",
        "    generation_config=generation_config,\n",
        "    pad_token_id=tokenizer.eos_token_id\n",
        ")"
      ],
      "metadata": {
        "id": "Ni9Z3osgRDtq"
      },
      "execution_count": 23,
      "outputs": []
    },
    {
      "cell_type": "code",
      "source": [
        "from langchain.embeddings import HuggingFaceEmbeddings\n",
        "from langchain import HuggingFacePipeline\n",
        "\n",
        "llm = HuggingFacePipeline(pipeline=pipeline)"
      ],
      "metadata": {
        "id": "OBoSd2ZSQmOK"
      },
      "execution_count": 24,
      "outputs": []
    },
    {
      "cell_type": "code",
      "source": [
        "query='I bought an ice cream for 6 kids. Each cone was $1.25 and I paid with a $10 bill. How many dollars did I get back? Explain first before answering.'\n",
        "query1 = \"who is the President of the USA?\"\n",
        "query2 = \"Who won the baseball World Series in 2020? and Who Lost\"\n",
        "\n",
        "device=\"cuda\"\n",
        "def prompt_completion(query):\n",
        "    messages = [\n",
        "        {\"role\": \"user\", \"content\": \"%s\"%query}\n",
        "    ]\n",
        "\n",
        "    encodeds = tokenizer.apply_chat_template(messages, return_tensors=\"pt\")\n",
        "    model_inputs = encodeds.to(device)\n",
        "\n",
        "    #https://stackoverflow.com/questions/69609401/suppress-huggingface-logging-warning-setting-pad-token-id-to-eos-token-id\n",
        "\n",
        "    generated_ids = model.generate(model_inputs, max_new_tokens=512, do_sample=True, negative_prompt_attention_mask='attention_mask',\n",
        "                    pad_token_id=tokenizer.eos_token_id\n",
        "    )\n",
        "\n",
        "    decoded = tokenizer.batch_decode(generated_ids)\n",
        "    print()\n",
        "    print()\n",
        "    result=decoded[0].replace('<s> [INST] %s [/INST]'%query,\"\")\n",
        "    result=result.replace('</s>',\"\")\n",
        "    print('Prompt: %s'%query)\n",
        "    print('-'*80)\n",
        "    print('Answer: %s'%result)\n",
        "\n",
        "prompt_completion(query)\n",
        "print()\n",
        "print('='*80)\n",
        "prompt_completion(query1)\n",
        "print()\n",
        "print('='*80)\n",
        "prompt_completion(query2)\n",
        "\n",
        "query3 = \"what is the 20.5% of 40?\"\n",
        "query4 = \"As a data scientist, can you explain the concept of regularization in machine learning?\"\n",
        "query5 ='Which country has the most natural lakes? Answer with only the country name.'\n",
        "\n",
        "print()\n",
        "print('='*80)\n",
        "prompt_completion(query3)\n",
        "print()\n",
        "print('='*80)\n",
        "prompt_completion(query4)\n",
        "print()\n",
        "print('='*80)\n",
        "prompt_completion(query5)\n",
        "\n",
        "\n",
        "query6 = \"How AWS has evolved?\"\n",
        "print()\n",
        "print('='*80)\n",
        "prompt_completion(query6)\n"
      ],
      "metadata": {
        "colab": {
          "base_uri": "https://localhost:8080/"
        },
        "id": "owzp3YYXo-dp",
        "outputId": "637c8848-984c-4f8b-8e73-740bcf488df0"
      },
      "execution_count": 25,
      "outputs": [
        {
          "output_type": "stream",
          "name": "stdout",
          "text": [
            "\n",
            "\n",
            "Prompt: I bought an ice cream for 6 kids. Each cone was $1.25 and I paid with a $10 bill. How many dollars did I get back? Explain first before answering.\n",
            "--------------------------------------------------------------------------------\n",
            "Answer:  Let's go over this step-by-step:\n",
            "\n",
            "1. We know that each cone costs $1.25.\n",
            "2. Six cones cost 6 * $1.25 = $7.50.\n",
            "3. The question states that you paid with a $10 bill.\n",
            "4. When you pay with a $10 bill for something that costs $7.50, you get back $2.50 in change (because $10 - $7.50 = $2.50).\n",
            "\n",
            "The final answer is that you got back $2.50.\n",
            "\n",
            "================================================================================\n",
            "\n",
            "\n",
            "Prompt: who is the President of the USA?\n",
            "--------------------------------------------------------------------------------\n",
            "Answer:  As of my most recent update, the President of the United States is Joe Biden. However, I don't have the capability to access real-time information, so please double-check this information if you need it for current purposes.\n",
            "\n",
            "================================================================================\n",
            "\n",
            "\n",
            "Prompt: Who won the baseball World Series in 2020? and Who Lost\n",
            "--------------------------------------------------------------------------------\n",
            "Answer:  The Los Angeles Dodgers won the baseball World Series in 2020, defeating the Tampa Bay Rays in 5 games.\n",
            "\n",
            "The New York Yankees lost in the American League Championship Series (ALCS) to the Houston Astros, their rivals at the time, and did not make it to the World Series.\n",
            "\n",
            "================================================================================\n",
            "\n",
            "\n",
            "Prompt: what is the 20.5% of 40?\n",
            "--------------------------------------------------------------------------------\n",
            "Answer:  20.5% of 40 is 8.2.\n",
            "\n",
            "================================================================================\n",
            "\n",
            "\n",
            "Prompt: As a data scientist, can you explain the concept of regularization in machine learning?\n",
            "--------------------------------------------------------------------------------\n",
            "Answer:  Certainly! In machine learning, regularization refers to techniques used to prevent overfitting of models. Overfitting occurs when a model becomes so complex that it fits the training data perfectly, but performs poorly on new, unseen data. Regularization methods add a penalty term to the loss function of the model, which encourages it to use simpler, more general solutions. This can help to avoid overfitting and improve the model's ability to generalize to new data. Common regularization techniques include L1 and L2 regularization, ridge regression, and dropout.\n",
            "\n",
            "================================================================================\n",
            "\n",
            "\n",
            "Prompt: Which country has the most natural lakes? Answer with only the country name.\n",
            "--------------------------------------------------------------------------------\n",
            "Answer:  Canada\n",
            "\n",
            "================================================================================\n",
            "\n",
            "\n",
            "Prompt: How AWS has evolved?\n",
            "--------------------------------------------------------------------------------\n",
            "Answer:  AWS has evolved significantly since its inception in 2006. Here are some of the major ways in which AWS has evolved:\n",
            "\n",
            "1. Product portfolio: AWS has expanded its product portfolio significantly over the years, from IaaS and PaaS to add-on services such as IoT, AI, Serverless, DevOps, and databases like DynamoDB and Aurora.\n",
            "2. Infrastructure as code: AWS has evolved from being a purely Infrastructure-as-a-Service (IaaS) provider to a full-cycle Infrastructure-as-Code (IaC) platform. Tools like CloudFormation, Terraform, and AWS Lambda make it easier to deploy and manage infrastructure across multiple services.\n",
            "3. Microservices: The rise of microservices has been a key driver in the evolution of AWS. AWS has evolved its architecture to enable the deployment of microservices using services such as AWS Elastic Container Service (ECS), Serverless, and AWS Lambda.\n",
            "4. Hybrid cloud: AWS has evolved to support hybrid cloud environments by providing services for private clouds such as Amazon Private Cloud, Amazon WorkSpaces, and Amazon Virtual Private Cloud (VPC) Peering.\n",
            "5. Security: AWS has evolved its security capabilities, including compliance certifications, encryption at rest and in transit, identity and access management, and advanced threat detection and response.\n",
            "6. Edge computing: With the increasing popularity of edge computing, AWS has evolved its edge computing capabilities, including Amazon Web Services Outpost and Amazon Kinesis Data Firehose.\n",
            "7. Artificial intelligence and machine learning: AWS has evolved its AI and machine learning capabilities dramatically over the years, with the launch of AWS services such as AI Builder, Amazon Lex, Amazon Polly, and Amazon Rekognition.\n",
            "8. Community: AWS has evolved its community support, with the launch of AWS Certified, AWS Labs, and AWS Developer Network (AWSDN) communities, and various other initiatives like AWS Hackathons, AWS Innovate, and AWS Public Sector Summit.\n",
            "\n",
            "Overall, AWS has evolved from a simple IaaS provider to a full-stack, full-cycle cloud platform, with a wide range of services and capabilities to meet the needs of businesses, organizations, and governments worldwide.\n"
          ]
        }
      ]
    },
    {
      "cell_type": "code",
      "source": [
        "import colab_env\n",
        "import os\n",
        "\n",
        "access_token = os.getenv(\"HF_TOKEN\")\n",
        "device = \"cuda\" # the device to load the model onto\n",
        "\n",
        "import warnings\n",
        "warnings.filterwarnings('ignore')\n",
        "\n",
        "from transformers import AutoModelForCausalLM, AutoTokenizer\n",
        "from transformers import BitsAndBytesConfig, GenerationConfig, pipeline\n",
        "from transformers import AutoTokenizer, MistralForCausalLM\n",
        "\n",
        "#model = MistralForCausalLM.from_pretrained(\"mistralai/Mistral-7B-Instruct-v0.1\")\n",
        "#tokenizer = AutoTokenizer.from_pretrained(\"mistralai/Mistral-7B-Instruct-v0.1\",padding_side=\"left\")\n",
        "#tokenizer.pad_token = tokenizer.eos_token # Most LLMs don't have a pad token by default\n",
        "\n",
        "\n",
        "prompt = \"Hey, are you conscious? Can you talk to me?\"\n",
        "inputs = tokenizer(prompt, return_tensors=\"pt\")\n",
        "\n",
        "# https://github.com/huggingface/transformers/blob/main/src/transformers/models/mistral/modeling_mistral.py\n",
        "\n",
        "# Generate\n",
        "#print()\n",
        "#generate_ids = model.generate(inputs.input_ids, max_length=30)\n",
        "\n",
        "#generate_ids = model.generate(model_inputs, max_new_tokens=512, do_sample=True, negative_prompt_attention_mask='attention_mask',\n",
        "#                pad_token_id=tokenizer.eos_token_id)\n",
        "\n",
        "#response=tokenizer.batch_decode(generate_ids, skip_special_tokens=True, clean_up_tokenization_spaces=False)[0]\n",
        "#print(response)\n",
        "print()\n",
        "\n",
        "#query='I bought an ice cream for 6 kids. Each cone was $1.25 and I paid with a $10 bill. How many dollars did I get back? Explain first before answering.'\n",
        "query=\"What is your favourite condiment?\"\n",
        "messages = [\n",
        "    {\"role\": \"user\", \"content\": \"%s\"%query},\n",
        "    {\"role\": \"assistant\", \"content\": \"Well, I'm quite partial to a good squeeze of fresh lemon juice. It adds just the right amount of zesty flavour to whatever I'm cooking up in the kitchen!\"},\n",
        "    {\"role\": \"user\", \"content\": \"Do you have mayonnaise recipes?\"}\n",
        "]\n",
        "\n",
        "encodeds = tokenizer.apply_chat_template(messages, return_tensors=\"pt\")\n",
        "\n",
        "model_inputs = encodeds.to(device)\n",
        "#model.to(device)\n",
        "\n",
        "generated_ids = model.generate(model_inputs, max_new_tokens=512, do_sample=True, negative_prompt_attention_mask='attention_mask',\n",
        "                pad_token_id=tokenizer.eos_token_id)\n",
        "decoded = tokenizer.batch_decode(generated_ids, skip_special_tokens=True)\n",
        "print(decoded[0])"
      ],
      "metadata": {
        "id": "AY3FuMUBU-9v",
        "colab": {
          "base_uri": "https://localhost:8080/"
        },
        "outputId": "3e4b1237-a9fc-4f9c-bd9e-65f1e4d7cf71"
      },
      "execution_count": 26,
      "outputs": [
        {
          "output_type": "stream",
          "name": "stdout",
          "text": [
            "\n",
            "[INST] What is your favourite condiment? [/INST]Well, I'm quite partial to a good squeeze of fresh lemon juice. It adds just the right amount of zesty flavour to whatever I'm cooking up in the kitchen!  [INST] Do you have mayonnaise recipes? [/INST] Yes, I have a mayonnaise recipe that's simple to make and always turns out delicious! Here it is:\n",
            "\n",
            "Ingredients:\n",
            "\n",
            "* 1 cup of mayonnaise\n",
            "* 1 tablespoon of yellow mustard\n",
            "* 2 tablespoons of apple cider vinegar\n",
            "* 1 small clove of garlic (optional)\n",
            "* 1/2 teaspoon of salt (optional)\n",
            "* 1/4 teaspoon of black pepper (optional)\n",
            "\n",
            "Instructions:\n",
            "\n",
            "1. In a mixing bowl, whisk together the mayonnaise, yellow mustard, apple cider vinegar, and garlic (if using) until well combined.\n",
            "2. If you prefer a smoother consistency, you can use an immersion blender or a regular blender to blend the mixture until it's smooth.\n",
            "3. If you prefer a chunkier consistency, simply skip step 2.\n",
            "4. Taste the mixture and adjust the seasoning with salt and black pepper to taste.\n",
            "5. Serve your homemade mayonnaise immediately or store it in an airtight container in the refrigerator for up to 5 days.\n",
            "\n",
            "That's it! With this simple recipe, you'll have a delicious and versatile condiment that you can use in all your favorite dishes.\n"
          ]
        }
      ]
    },
    {
      "cell_type": "code",
      "source": [
        "#!pip install transformers --upgrade\n",
        "#device = \"cuda\"\n",
        "from IPython.display import Markdown, display\n",
        "\n",
        "query = \"who is Barack Obama?\"\n",
        "result = llm(query)\n",
        "display(Markdown(f\"<b>{query}</b>\"))\n",
        "display(Markdown(f\"<p>{result}</p>\"))\n",
        "print()\n",
        "print(\"-\" * 80)\n",
        "print()\n",
        "\n"
      ],
      "metadata": {
        "id": "jREtnaDouFMf",
        "colab": {
          "base_uri": "https://localhost:8080/",
          "height": 139
        },
        "outputId": "e898e8c8-847d-42bb-f369-04e2caee6f27"
      },
      "execution_count": 33,
      "outputs": [
        {
          "output_type": "display_data",
          "data": {
            "text/plain": [
              "<IPython.core.display.Markdown object>"
            ],
            "text/markdown": "<b>who is Barack Obama?</b>"
          },
          "metadata": {}
        },
        {
          "output_type": "display_data",
          "data": {
            "text/plain": [
              "<IPython.core.display.Markdown object>"
            ],
            "text/markdown": "<p>\nAnswer:\nBarack Obama was the 44th President of the United States. He served from 2009 to 2017 and was the first African American to hold the office. Prior to his presidency, he served as a senator for Illinois.</p>"
          },
          "metadata": {}
        },
        {
          "output_type": "stream",
          "name": "stdout",
          "text": [
            "\n",
            "--------------------------------------------------------------------------------\n",
            "\n"
          ]
        }
      ]
    },
    {
      "cell_type": "code",
      "source": [
        "from langchain.llms import OpenAI\n",
        "#import colab_env\n",
        "from IPython.display import Markdown, display\n",
        "\n",
        "from langchain.chains import RetrievalQA\n",
        "from langchain.indexes import VectorstoreIndexCreator\n",
        "from langchain.text_splitter import CharacterTextSplitter\n",
        "from langchain.embeddings import OpenAIEmbeddings\n",
        "\n",
        "#retriever = db.as_retriever(search_type=\"similarity_score_threshold\",search_kwargs='1')\n",
        "retriever = db.as_retriever(search_type=\"similarity\", search_kwargs={\"k\":2})\n",
        "\n",
        "# create a chain to answer questions\n",
        "#qa = RetrievalQA.from_chain_type(\n",
        "#     llm=OpenAI(), chain_type=\"stuff\", retriever=retriever, return_source_documents=True)\n",
        "\n",
        "qa = RetrievalQA.from_chain_type(\n",
        "     llm=llm, chain_type=\"stuff\", retriever=retriever, return_source_documents=True)\n",
        "\n",
        "query = \"How AWS has evolved?\"\n",
        "\n",
        "result = qa(query)\n",
        "display(Markdown(f\"<b>{query}</b>\"))\n",
        "display(Markdown(f\"<p>{result}</p>\"))\n",
        "\n",
        "print()\n",
        "print('chain to answer questions')\n",
        "print(\"-\" * 80)\n",
        "result = qa({\"query\": query})\n",
        "print(f'Query: {result[\"query\"]}\\n')\n",
        "print(f'Result: {result[\"result\"]}\\n')\n",
        "print(f'Context Documents: ')\n",
        "for srcdoc in result[\"source_documents\"]:\n",
        "      print(f'{srcdoc}\\n')"
      ],
      "metadata": {
        "colab": {
          "base_uri": "https://localhost:8080/",
          "height": 420
        },
        "id": "8m-J59SDN9yO",
        "outputId": "64c6cba4-ed2f-4ae4-e042-e601f907fa31"
      },
      "execution_count": 36,
      "outputs": [
        {
          "output_type": "display_data",
          "data": {
            "text/plain": [
              "<IPython.core.display.Markdown object>"
            ],
            "text/markdown": "<b>How AWS has evolved?</b>"
          },
          "metadata": {}
        },
        {
          "output_type": "display_data",
          "data": {
            "text/plain": [
              "<IPython.core.display.Markdown object>"
            ],
            "text/markdown": "<p>{'query': 'How AWS has evolved?', 'result': ' AWS has evolved from simply offering customers more functionality in AWS than they could find elsewhere to being a much more game-changing offering than it was previously. This evolution has been driven by customer needs and has allowed AWS to continue to differentiate itself from competitors.', 'source_documents': [Document(page_content='customersmuch more functionality in AWS than they can find anywhere else (which is a significant differentiator), butalso allowed us to arrive at the much more game-changing offering that AWS is today.', metadata={'year': 2021, 'source': 'AMZN-2021-Shareholder-Letter.pdf'}), Document(page_content='customersmuch more functionality in AWS than they can find anywhere else (which is a significant differentiator), butalso allowed us to arrive at the much more game-changing offering that AWS is today.', metadata={'year': 2021, 'source': 'AMZN-2021-Shareholder-Letter.pdf'})]}</p>"
          },
          "metadata": {}
        },
        {
          "output_type": "stream",
          "name": "stdout",
          "text": [
            "\n",
            "chain to answer questions\n",
            "--------------------------------------------------------------------------------\n",
            "Query: How AWS has evolved?\n",
            "\n",
            "Result:  AWS has evolved from a cloud computing platform with some unique features into a comprehensive suite of tools and services for building, deploying, managing and scaling applications across multiple domains such as cloud computing, edge computing, machine learning, artificial intelligence, serverless, data analytics, data storage, databases, and many others. This evolution has made it possible for customers to leverage the power of AWS technology for their specific needs and requirements, thus providing them with a competitive advantage over other companies in their industry.\n",
            "\n",
            "Context Documents: \n",
            "page_content='customersmuch more functionality in AWS than they can find anywhere else (which is a significant differentiator), butalso allowed us to arrive at the much more game-changing offering that AWS is today.' metadata={'year': 2021, 'source': 'AMZN-2021-Shareholder-Letter.pdf'}\n",
            "\n",
            "page_content='customersmuch more functionality in AWS than they can find anywhere else (which is a significant differentiator), butalso allowed us to arrive at the much more game-changing offering that AWS is today.' metadata={'year': 2021, 'source': 'AMZN-2021-Shareholder-Letter.pdf'}\n",
            "\n"
          ]
        }
      ]
    },
    {
      "cell_type": "code",
      "source": [
        "#query='I bought an ice cream for 6 kids. Each cone was $1.25 and I paid with a $10 bill. How many dollars did I get back? Explain first before answering.'\n",
        "\n",
        "#User\n",
        "#I bought an ice cream for six kids. Each cone was $1.25, and I paid with a $10 bill. How many dollars did I get back? Explain first before answering.\n",
        "\n",
        "#Run instructions\n",
        "#You are a personal math tutor. Write and run code to answer math questions.\n",
        "\n",
        "#Math Tutor\n",
        "#First, we need to calculate the total cost for six ice cream cones, each priced at $1.25. We'll multiply the price per cone by the number of cones purchased: [ $1.25 \\times 6 \\text{ cones} = \\text{Total cost} ]\n",
        "\n",
        "#Having calculated the total cost, we will then subtract this amount from the $10 bill to find out how much change should be returned: [ $10 - \\text{Total cost} = \\text{Change returned} ]\n",
        "\n",
        "#Now, let's do the calculation.\n",
        "\n",
        "#code_interpreter(\n",
        "# Given values price_per_cone = 1.25 number_of_cones = 6 amount_paid = 10 # Total cost of the cones total_cost = price_per_cone * number_of_cones # Change returned change_returned = amount_paid - total_cost change_returned\n",
        "#) --. 2.5\n",
        "\n",
        "#Math Tutor\n",
        "#After calculating, the total change you should get back after purchasing the six ice cream cones is $2.50.\n",
        "\n",
        "#User\n",
        "#Write a Python code for that solution.\n",
        "\n",
        "#Math Tutor\n",
        "#Certainly! Here's the Python code that demonstrates the solution we've just discussed:\n",
        "\n",
        "# Given values\n",
        "price_per_cone = 1.25\n",
        "number_of_cones = 6\n",
        "amount_paid = 10\n",
        "\n",
        "# Total cost for the ice cream cones\n",
        "total_cost = price_per_cone * number_of_cones\n",
        "\n",
        "# Change to be returned after payment\n",
        "change_returned = amount_paid - total_cost\n",
        "\n",
        "# Output the result\n",
        "print(f\"The change returned after buying the ice cream is: ${change_returned}\")"
      ],
      "metadata": {
        "colab": {
          "base_uri": "https://localhost:8080/"
        },
        "id": "sk2_cGfxqAnC",
        "outputId": "6201731d-2616-4fe3-9bf8-d0a9eef1b136"
      },
      "execution_count": 29,
      "outputs": [
        {
          "output_type": "stream",
          "name": "stdout",
          "text": [
            "The change returned after buying the ice cream is: $2.5\n"
          ]
        }
      ]
    }
  ]
}