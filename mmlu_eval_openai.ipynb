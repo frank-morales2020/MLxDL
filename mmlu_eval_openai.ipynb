{
  "cells": [
    {
      "cell_type": "markdown",
      "metadata": {
        "id": "view-in-github",
        "colab_type": "text"
      },
      "source": [
        "<a href=\"https://colab.research.google.com/github/frank-morales2020/MLxDL/blob/main/mmlu_eval_openai.ipynb\" target=\"_parent\"><img src=\"https://colab.research.google.com/assets/colab-badge.svg\" alt=\"Open In Colab\"/></a>"
      ]
    },
    {
      "cell_type": "markdown",
      "metadata": {
        "id": "n6ivzleTkjfh"
      },
      "source": [
        "## Building an MMLU Eval\n",
        "\n",
        "This notebook shows how to:\n",
        "- Build and run an eval\n",
        "- Load the results and into a Pandas Dataframe\n",
        "\n",
        "We use the `evals.elsuite.basic.match:Match` Eval class here to check whether new completions match the correct answer. Under the hood, it will generate a completion with the choice of model for each prompt, check if the completion matches the true answer, then logs a result."
      ]
    },
    {
      "cell_type": "code",
      "source": [
        "!pip install colab-env --upgrade -q\n",
        "!pip install openai -q"
      ],
      "metadata": {
        "id": "vmEKalFa8VNw"
      },
      "execution_count": null,
      "outputs": []
    },
    {
      "cell_type": "code",
      "source": [
        "!git clone https://github.com/openai/evals.git"
      ],
      "metadata": {
        "id": "adi4d-hUmoUV"
      },
      "execution_count": null,
      "outputs": []
    },
    {
      "cell_type": "code",
      "source": [
        "# Install, and download MMLU if you haven't already\n",
        "%cd /content/evals/\n",
        "%pip install -e . -q"
      ],
      "metadata": {
        "id": "6f9_j8khnKOr"
      },
      "execution_count": null,
      "outputs": []
    },
    {
      "cell_type": "code",
      "execution_count": null,
      "metadata": {
        "id": "7ErfF2Sikjfj"
      },
      "outputs": [],
      "source": [
        "%cd /content/\n",
        "!curl -O https://people.eecs.berkeley.edu/~hendrycks/data.tar\n",
        "!tar -xf data.tar\n",
        "data_path = \"data\""
      ]
    },
    {
      "cell_type": "code",
      "execution_count": null,
      "metadata": {
        "id": "4ZzD7Azkkjfj"
      },
      "outputs": [],
      "source": [
        "import pandas as pd\n",
        "import os\n",
        "\n",
        "# Assuming this notebook is in examples/\n",
        "registry_path = os.path.join(os.getcwd(), \"/content/evals/registry\")\n",
        "print(registry_path)"
      ]
    },
    {
      "cell_type": "code",
      "execution_count": 6,
      "metadata": {
        "id": "9UjCObjCkjfk"
      },
      "outputs": [],
      "source": [
        "# Build the prompts using Chat format. We support converting Chat conversations to text for non-Chat models\n",
        "\n",
        "choices = [\"A\", \"B\", \"C\", \"D\"]\n",
        "sys_msg = \"The following are multiple choice questions (with answers) about {}.\"\n",
        "def create_chat_prompt(sys_msg, question, answers, subject):\n",
        "    user_prompt = f\"{question}\\n\" + \"\\n\".join([f\"{choice}. {answer}\" for choice, answer in zip(choices, answers)]) + \"\\nAnswer:\"\n",
        "    return [\n",
        "        {\"role\": \"system\", \"content\": sys_msg.format(subject)},\n",
        "        {\"role\": \"user\", \"content\": user_prompt}\n",
        "    ]\n",
        "\n",
        "def create_chat_example(question, answers, correct_answer):\n",
        "    \"\"\"\n",
        "    Form few-shot prompts in the recommended format: https://github.com/openai/openai-python/blob/main/chatml.md#few-shot-prompting\n",
        "    \"\"\"\n",
        "    user_prompt = f\"{question}\\n\" + \"\\n\".join([f\"{choice}. {answer}\" for choice, answer in zip(choices, answers)]) + \"\\nAnswer:\"\n",
        "    return [\n",
        "        {\"role\": \"system\", \"content\": user_prompt, \"name\": \"example_user\"},\n",
        "        {\"role\": \"system\", \"content\": correct_answer, \"name\": \"example_assistant\"},\n",
        "    ]"
      ]
    },
    {
      "cell_type": "code",
      "source": [
        "data_path='/content/data'"
      ],
      "metadata": {
        "id": "_VXSOwqloBYJ"
      },
      "execution_count": 7,
      "outputs": []
    },
    {
      "cell_type": "code",
      "execution_count": 8,
      "metadata": {
        "id": "r-zNsOOUkjfk",
        "colab": {
          "base_uri": "https://localhost:8080/"
        },
        "outputId": "c15a70d4-c7a7-4ccd-d905-a1a2f5c4c8dd"
      },
      "outputs": [
        {
          "output_type": "stream",
          "name": "stdout",
          "text": [
            "abstract_algebra\n",
            "anatomy\n",
            "astronomy\n",
            "business_ethics\n",
            "clinical_knowledge\n",
            "college_biology\n",
            "college_chemistry\n",
            "college_computer_science\n",
            "college_mathematics\n",
            "college_medicine\n",
            "college_physics\n",
            "computer_security\n",
            "conceptual_physics\n",
            "econometrics\n",
            "electrical_engineering\n",
            "elementary_mathematics\n",
            "formal_logic\n",
            "global_facts\n",
            "high_school_biology\n",
            "high_school_chemistry\n",
            "high_school_computer_science\n",
            "high_school_european_history\n",
            "high_school_geography\n",
            "high_school_government_and_politics\n",
            "high_school_macroeconomics\n",
            "high_school_mathematics\n",
            "high_school_microeconomics\n",
            "high_school_physics\n",
            "high_school_psychology\n",
            "high_school_statistics\n",
            "high_school_us_history\n",
            "high_school_world_history\n",
            "human_aging\n",
            "human_sexuality\n",
            "international_law\n",
            "jurisprudence\n",
            "logical_fallacies\n",
            "machine_learning\n",
            "management\n",
            "marketing\n",
            "medical_genetics\n",
            "miscellaneous\n",
            "moral_disputes\n",
            "moral_scenarios\n",
            "nutrition\n",
            "philosophy\n",
            "prehistory\n",
            "professional_accounting\n",
            "professional_law\n",
            "professional_medicine\n",
            "professional_psychology\n",
            "public_relations\n",
            "security_studies\n",
            "sociology\n",
            "us_foreign_policy\n",
            "virology\n",
            "world_religions\n"
          ]
        }
      ],
      "source": [
        "import yaml\n",
        "subjects = sorted([f.split(\"_test.csv\")[0] for f in os.listdir(os.path.join(data_path, \"test\")) if \"_test.csv\" in f])\n",
        "\n",
        "registry_yaml = {}\n",
        "\n",
        "for subject in subjects:\n",
        "    print(subject)\n",
        "    subject_path = os.path.join(registry_path, \"data\", \"mmlu\", subject)\n",
        "    os.makedirs(subject_path, exist_ok=True)\n",
        "\n",
        "    # Create few-shot prompts\n",
        "    dev_df = pd.read_csv(os.path.join(data_path, \"dev\", subject + \"_dev.csv\"), names=(\"Question\", \"A\", \"B\", \"C\", \"D\", \"Answer\"))\n",
        "    dev_df[\"sample\"] = dev_df.apply(lambda x: create_chat_example(x[\"Question\"], x[[\"A\", \"B\", \"C\", \"D\"]], x[\"Answer\"]), axis=1)\n",
        "    few_shot_path = os.path.join(subject_path, \"few_shot.jsonl\")\n",
        "    dev_df[[\"sample\"]].to_json(few_shot_path, lines=True, orient=\"records\")\n",
        "\n",
        "    # Create test prompts and ideal completions\n",
        "    test_df = pd.read_csv(os.path.join(data_path, \"test\", subject + \"_test.csv\"), names=(\"Question\", \"A\", \"B\", \"C\", \"D\", \"Answer\"))\n",
        "    test_df[\"input\"] = test_df.apply(lambda x: create_chat_prompt(sys_msg, x[\"Question\"], x[[\"A\", \"B\", \"C\", \"D\"]], subject), axis=1)\n",
        "    test_df[\"ideal\"] = test_df.Answer\n",
        "    samples_path = os.path.join(subject_path, \"samples.jsonl\")\n",
        "    test_df[[\"input\", \"ideal\"]].to_json(samples_path, lines=True, orient=\"records\")\n",
        "\n",
        "    eval_id = f\"match_mmlu_{subject}\"\n",
        "\n",
        "    registry_yaml[eval_id] = {\n",
        "        \"id\": f\"{eval_id}.test.v1\",\n",
        "        \"metrics\": [\"accuracy\"]\n",
        "    }\n",
        "    registry_yaml[f\"{eval_id}.test.v1\"] = {\n",
        "        \"class\": \"evals.elsuite.basic.match:Match\",\n",
        "        \"args\": {\n",
        "            \"samples_jsonl\": samples_path,\n",
        "            \"few_shot_jsonl\": few_shot_path,\n",
        "            \"num_few_shot\": 4,\n",
        "        }\n",
        "    }\n",
        "registry_path = '/content'\n",
        "with open(os.path.join(registry_path, \"evals\", \"mmlu.yaml\"), \"w\") as f:\n",
        "    yaml.dump(registry_yaml, f)"
      ]
    },
    {
      "cell_type": "code",
      "source": [
        "import colab_env\n",
        "import os\n",
        "import openai\n",
        "from openai import OpenAI\n",
        "client = OpenAI(api_key = os.getenv(\"OPENAI_API_KEY\"))"
      ],
      "metadata": {
        "id": "Pr12Uo-4omIM",
        "colab": {
          "base_uri": "https://localhost:8080/"
        },
        "outputId": "bd98f5f3-89bd-468e-8067-cd3eba8586af"
      },
      "execution_count": 9,
      "outputs": [
        {
          "output_type": "stream",
          "name": "stdout",
          "text": [
            "Mounted at /content/gdrive\n"
          ]
        }
      ]
    },
    {
      "cell_type": "code",
      "source": [
        "from openai import OpenAI\n",
        "client = OpenAI()\n",
        "\n",
        "modellist=client.models.list()\n",
        "modellist.data"
      ],
      "metadata": {
        "id": "LhbttKrSpE36",
        "colab": {
          "base_uri": "https://localhost:8080/"
        },
        "outputId": "5e6c4017-79fd-44c6-9001-8c354194b519"
      },
      "execution_count": 10,
      "outputs": [
        {
          "output_type": "execute_result",
          "data": {
            "text/plain": [
              "[Model(id='dall-e-3', created=1698785189, object='model', owned_by='system'),\n",
              " Model(id='gpt-4-1106-preview', created=1698957206, object='model', owned_by='system'),\n",
              " Model(id='whisper-1', created=1677532384, object='model', owned_by='openai-internal'),\n",
              " Model(id='davinci-002', created=1692634301, object='model', owned_by='system'),\n",
              " Model(id='babbage-002', created=1692634615, object='model', owned_by='system'),\n",
              " Model(id='dall-e-2', created=1698798177, object='model', owned_by='system'),\n",
              " Model(id='gpt-3.5-turbo-16k', created=1683758102, object='model', owned_by='openai-internal'),\n",
              " Model(id='tts-1-hd-1106', created=1699053533, object='model', owned_by='system'),\n",
              " Model(id='tts-1-hd', created=1699046015, object='model', owned_by='system'),\n",
              " Model(id='gpt-3.5-turbo-1106', created=1698959748, object='model', owned_by='system'),\n",
              " Model(id='gpt-4o-2024-05-13', created=1715368132, object='model', owned_by='system'),\n",
              " Model(id='gpt-4o', created=1715367049, object='model', owned_by='system'),\n",
              " Model(id='gpt-4-turbo-2024-04-09', created=1712601677, object='model', owned_by='system'),\n",
              " Model(id='gpt-3.5-turbo-instruct-0914', created=1694122472, object='model', owned_by='system'),\n",
              " Model(id='gpt-4-turbo', created=1712361441, object='model', owned_by='system'),\n",
              " Model(id='gpt-3.5-turbo-instruct', created=1692901427, object='model', owned_by='system'),\n",
              " Model(id='gpt-4-0125-preview', created=1706037612, object='model', owned_by='system'),\n",
              " Model(id='text-embedding-3-small', created=1705948997, object='model', owned_by='system'),\n",
              " Model(id='gpt-4-turbo-preview', created=1706037777, object='model', owned_by='system'),\n",
              " Model(id='tts-1', created=1681940951, object='model', owned_by='openai-internal'),\n",
              " Model(id='gpt-4-0613', created=1686588896, object='model', owned_by='openai'),\n",
              " Model(id='gpt-4', created=1687882411, object='model', owned_by='openai'),\n",
              " Model(id='gpt-3.5-turbo-0125', created=1706048358, object='model', owned_by='system'),\n",
              " Model(id='gpt-3.5-turbo', created=1677610602, object='model', owned_by='openai'),\n",
              " Model(id='gpt-3.5-turbo-0301', created=1677649963, object='model', owned_by='openai'),\n",
              " Model(id='gpt-4-0314', created=1687882410, object='model', owned_by='openai'),\n",
              " Model(id='tts-1-1106', created=1699053241, object='model', owned_by='system'),\n",
              " Model(id='text-embedding-3-large', created=1705953180, object='model', owned_by='system'),\n",
              " Model(id='gpt-4-32k-0314', created=1687979321, object='model', owned_by='openai'),\n",
              " Model(id='gpt-3.5-turbo-0613', created=1686587434, object='model', owned_by='openai'),\n",
              " Model(id='text-embedding-ada-002', created=1671217299, object='model', owned_by='openai-internal'),\n",
              " Model(id='gpt-4-1106-vision-preview', created=1711473033, object='model', owned_by='system'),\n",
              " Model(id='gpt-4-vision-preview', created=1698894917, object='model', owned_by='system'),\n",
              " Model(id='gpt-3.5-turbo-16k-0613', created=1685474247, object='model', owned_by='openai'),\n",
              " Model(id='ada:ft-personal-2023-07-11-12-33-39', created=1689078819, object='model', owned_by='user-mgtzrbiiso3g68oicniq0obp'),\n",
              " Model(id='ada:ft-personal-2023-07-11-09-27-48', created=1689067668, object='model', owned_by='user-mgtzrbiiso3g68oicniq0obp'),\n",
              " Model(id='ada:ft-personal-2023-07-11-06-01-20', created=1689055280, object='model', owned_by='user-mgtzrbiiso3g68oicniq0obp'),\n",
              " Model(id='ada:ft-personal-2023-07-11-08-03-56', created=1689062636, object='model', owned_by='user-mgtzrbiiso3g68oicniq0obp'),\n",
              " Model(id='ada:ft-personal-2023-07-11-06-40-25', created=1689057625, object='model', owned_by='user-mgtzrbiiso3g68oicniq0obp'),\n",
              " Model(id='ada:ft-personal-2023-07-11-11-19-06', created=1689074346, object='model', owned_by='user-mgtzrbiiso3g68oicniq0obp'),\n",
              " Model(id='ada:ft-personal-2023-07-10-12-01-12', created=1688990472, object='model', owned_by='user-mgtzrbiiso3g68oicniq0obp'),\n",
              " Model(id='ada:ft-personal-2023-07-10-13-06-31', created=1688994391, object='model', owned_by='user-mgtzrbiiso3g68oicniq0obp'),\n",
              " Model(id='ada:ft-personal-2023-07-10-14-54-14', created=1689000854, object='model', owned_by='user-mgtzrbiiso3g68oicniq0obp'),\n",
              " Model(id='ada:ft-personal-2023-07-10-16-25-02', created=1689006302, object='model', owned_by='user-mgtzrbiiso3g68oicniq0obp'),\n",
              " Model(id='ada:ft-personal-2023-07-10-17-48-42', created=1689011322, object='model', owned_by='user-mgtzrbiiso3g68oicniq0obp'),\n",
              " Model(id='ada:ft-personal-2023-07-10-19-14-53', created=1689016493, object='model', owned_by='user-mgtzrbiiso3g68oicniq0obp'),\n",
              " Model(id='ada:ft-personal-2023-07-10-21-00-00', created=1689022800, object='model', owned_by='user-mgtzrbiiso3g68oicniq0obp'),\n",
              " Model(id='ada:ft-personal-2023-07-10-23-09-20', created=1689030560, object='model', owned_by='user-mgtzrbiiso3g68oicniq0obp'),\n",
              " Model(id='ada:ft-personal-2023-07-11-01-42-16', created=1689039736, object='model', owned_by='user-mgtzrbiiso3g68oicniq0obp'),\n",
              " Model(id='ada:ft-personal-2023-07-11-04-10-37', created=1689048637, object='model', owned_by='user-mgtzrbiiso3g68oicniq0obp')]"
            ]
          },
          "metadata": {},
          "execution_count": 10
        }
      ]
    },
    {
      "cell_type": "code",
      "source": [
        "#'mmlu-abstract-algebra', 'mmlu-abstract-algebra.val.ab-v1', 'mmlu-anatomy',\n",
        "#'mmlu-anatomy.val.ab-v1', 'mmlu-astronomy', 'mmlu-astronomy.val.ab-v1',\n",
        "#'mmlu-business-ethics', 'mmlu-business-ethics.val.ab-v1', 'mmlu-clinical-knowledge',\n",
        "#'mmlu-clinical-knowledge.val.ab-v1', 'mmlu-college-biology', 'mmlu-college-biology.val.ab-v1',\n",
        "#'mmlu-college-chemistry', 'mmlu-college-chemistry.val.ab-v1', 'mmlu-college-computer-science',\n",
        "#'mmlu-college-computer-science.val.ab-v1', 'mmlu-college-mathematics',\n",
        "#'mmlu-college-mathematics.val.ab-v1', 'mmlu-college-medicine',\n",
        "#'mmlu-college-medicine.val.ab-v1', 'mmlu-college-physics', 'mmlu-college-physics.val.ab-v1',\n",
        "#'mmlu-computer-security', 'mmlu-computer-security.val.ab-v1', 'mmlu-conceptual-physics',\n",
        "#'mmlu-conceptual-physics.val.ab-v1', 'mmlu-econometrics', 'mmlu-econometrics.val.ab-v1',\n",
        "#'mmlu-electrical-engineering', 'mmlu-electrical-engineering.val.ab-v1',\n",
        "#'mmlu-elementary-mathematics', 'mmlu-elementary-mathematics.val.ab-v1',\n",
        "#'mmlu-formal-logic', 'mmlu-formal-logic.val.ab-v1', 'mmlu-global-facts',\n",
        "#'mmlu-global-facts.val.ab-v1', 'mmlu-high-school-biology', 'mmlu-high-school-biology.val.ab-v1',\n",
        "#'mmlu-high-school-chemistry'"
      ],
      "metadata": {
        "id": "7DLkCuZwyryi"
      },
      "execution_count": 11,
      "outputs": []
    },
    {
      "cell_type": "code",
      "source": [
        "!pip install datasets -q"
      ],
      "metadata": {
        "id": "d42rmHJIX92V"
      },
      "execution_count": 12,
      "outputs": []
    },
    {
      "cell_type": "code",
      "execution_count": 24,
      "metadata": {
        "id": "DsOr4AI1kjfk",
        "colab": {
          "base_uri": "https://localhost:8080/"
        },
        "outputId": "18bd1c92-1e38-4267-f161-56fa0b59c62c"
      },
      "outputs": [
        {
          "output_type": "stream",
          "name": "stdout",
          "text": [
            "[2024-05-29 09:01:28,913] [registry.py:271] Loading registry from /content/evals/evals/registry/evals\n",
            "[2024-05-29 09:01:32,951] [registry.py:271] Loading registry from /root/.evals/evals\n",
            "[2024-05-29 09:01:32,952] [oaieval.py:215] \u001b[1;35mRun started: 24052909013226MZQ2OW\u001b[0m\n",
            "[2024-05-29 09:01:33,184] [data.py:94] Fetching /content/evals/evals/registry/data/born_first/born_first.jsonl\n",
            "[2024-05-29 09:01:33,186] [eval.py:36] Evaluating 122 samples\n",
            "[2024-05-29 09:01:33,194] [eval.py:144] Running in threaded mode with 10 threads!\n",
            " 65% 79/122 [00:09<00:04,  9.28it/s][2024-05-29 09:01:43,124] [record.py:360] Logged 161 rows of events to /tmp/evallogs/24052909013226MZQ2OW_gpt-4_born-first.jsonl: insert_time=161.617ms\n",
            "100% 122/122 [00:13<00:00,  9.33it/s]\n",
            "[2024-05-29 09:01:46,433] [oaieval.py:275] Found 122/122 sampling events with usage data\n",
            "[2024-05-29 09:01:46,433] [oaieval.py:283] Token usage from 122 sampling events:\n",
            "completion_tokens: 122\n",
            "prompt_tokens: 3,842\n",
            "total_tokens: 3,964\n",
            "[2024-05-29 09:01:46,434] [record.py:371] Final report: {'accuracy': 0.7049180327868853, 'boostrap_std': 0.04215817210707594, 'usage_completion_tokens': 122, 'usage_prompt_tokens': 3842, 'usage_total_tokens': 3964}. Logged to /tmp/evallogs/24052909013226MZQ2OW_gpt-4_born-first.jsonl\n",
            "[2024-05-29 09:01:46,434] [oaieval.py:233] Final report:\n",
            "[2024-05-29 09:01:46,434] [oaieval.py:235] accuracy: 0.7049180327868853\n",
            "[2024-05-29 09:01:46,434] [oaieval.py:235] boostrap_std: 0.04215817210707594\n",
            "[2024-05-29 09:01:46,434] [oaieval.py:235] usage_completion_tokens: 122\n",
            "[2024-05-29 09:01:46,434] [oaieval.py:235] usage_prompt_tokens: 3842\n",
            "[2024-05-29 09:01:46,434] [oaieval.py:235] usage_total_tokens: 3964\n",
            "[2024-05-29 09:01:46,480] [record.py:360] Logged 83 rows of events to /tmp/evallogs/24052909013226MZQ2OW_gpt-4_born-first.jsonl: insert_time=44.451ms\n"
          ]
        }
      ],
      "source": [
        "# This will generate a JSONL which will record samples and logs and store it in /tmp/evallogs\n",
        "#!oaieval gpt-3.5-turbo match_mmlu_anatomy\n",
        "\n",
        "%rm -rf /tmp/evallogs/*\n",
        "\n",
        "#!oaieval gpt-3.5-turbo arc\n",
        "#!oaieval gpt-3.5-turbo marxist_philosophy_exam\n",
        "\n",
        "# abstract-causal-reasoning-text\n",
        "# arc\n",
        "# belarusian-antonyms\n",
        "\n",
        "#!oaieval gpt-3.5-turbo belarusian-antonyms\n",
        "\n",
        "#!oaieval gpt-3.5-turbo GPT-model-text-detection\n",
        "\n",
        "\n",
        "#!oaieval gpt-3.5-turbo born-first --max_samples 10\n",
        "\n",
        "!oaieval gpt-4 born-first #{'accuracy': 0.7049180327868853,\n",
        "#!oaieval gpt-3.5-turbo born-first #'accuracy': 0.5655737704918032,\n",
        "\n",
        "#!oaieval gpt-3.5-turbo GPT-model-math\n",
        "# marxist_philosophy_exam\n"
      ]
    },
    {
      "cell_type": "code",
      "source": [
        "# import OS module\n",
        "import os\n",
        "# Get the list of all files and directories\n",
        "path0 = \"/tmp/evallogs/\"\n",
        "dir_list = os.listdir(path0)\n",
        "events=path0\n",
        "#print(\"Files and directories in '\", events, \"' :\")\n",
        "# prints all files\n",
        "#print(dir_list)\n",
        "events='%s%s'%(path0,dir_list[0])\n",
        "print(events)"
      ],
      "metadata": {
        "colab": {
          "base_uri": "https://localhost:8080/"
        },
        "id": "GiFdOq-f1rQz",
        "outputId": "8fc4d00c-dee1-4cc8-cf5d-087603235284"
      },
      "execution_count": 25,
      "outputs": [
        {
          "output_type": "stream",
          "name": "stdout",
          "text": [
            "/tmp/evallogs/24052909013226MZQ2OW_gpt-4_born-first.jsonl\n"
          ]
        }
      ]
    },
    {
      "cell_type": "code",
      "execution_count": 26,
      "metadata": {
        "id": "1Plh2y04kjfk",
        "colab": {
          "base_uri": "https://localhost:8080/",
          "height": 510
        },
        "outputId": "62ace3d8-5234-46c8-dbbe-03ac8b11dc50"
      },
      "outputs": [
        {
          "output_type": "execute_result",
          "data": {
            "text/plain": [
              "<Axes: title={'center': 'Correctness of generated answers'}, xlabel='Correctness', ylabel='Count'>"
            ]
          },
          "metadata": {},
          "execution_count": 26
        },
        {
          "output_type": "display_data",
          "data": {
            "text/plain": [
              "<Figure size 640x480 with 1 Axes>"
            ],
            "image/png": "[encoded data removed]"
          },
          "metadata": {}
        }
      ],
      "source": [
        "# How to process the log events generated by oaieval\n",
        "#events = \"/tmp/evallogs/{log_name}\"\n",
        "\n",
        "with open(events, \"r\") as f:\n",
        "    events_df = pd.read_json(f, lines=True)\n",
        "\n",
        "matches_df = events_df[events_df.type == \"match\"].reset_index(drop=True)\n",
        "matches_df = matches_df.join(pd.json_normalize(matches_df.data))\n",
        "matches_df.correct.value_counts().plot.bar(title=\"Correctness of generated answers\", xlabel=\"Correctness\", ylabel=\"Count\")"
      ]
    },
    {
      "cell_type": "code",
      "execution_count": 27,
      "metadata": {
        "id": "kkzH5K8Nkjfk",
        "colab": {
          "base_uri": "https://localhost:8080/"
        },
        "outputId": "d5fecf3b-3988-4d1f-ed0d-418bd9d1144e"
      },
      "outputs": [
        {
          "output_type": "stream",
          "name": "stdout",
          "text": [
            "Prompt: [{'role': 'system', 'content': 'You are a helpful assistant.'}, {'role': 'user', 'content': 'Was Chester A. Arthur born before Benjamin Harrison? Answer Y or N.'}]\n",
            "Sampled: ['Y']\n",
            "-------------------------\n",
            "Prompt: [{'role': 'system', 'content': 'You are a helpful assistant.'}, {'role': 'user', 'content': 'Was Rutherford B. Hayes born before Ulysses S. Grant? Answer Y or N.'}]\n",
            "Sampled: ['N']\n",
            "-------------------------\n",
            "Prompt: [{'role': 'system', 'content': 'You are a helpful assistant.'}, {'role': 'user', 'content': 'Was Franklin Pierce born before Andrew Johnson? Answer Y or N.'}]\n",
            "Sampled: ['Y']\n",
            "-------------------------\n",
            "Prompt: [{'role': 'system', 'content': 'You are a helpful assistant.'}, {'role': 'user', 'content': 'Was Martin Van Buren born before John Tyler? Answer Y or N.'}]\n",
            "Sampled: ['Y']\n",
            "-------------------------\n",
            "Prompt: [{'role': 'system', 'content': 'You are a helpful assistant.'}, {'role': 'user', 'content': 'Was John Tyler born before James Buchanan? Answer Y or N.'}]\n",
            "Sampled: ['Y']\n",
            "-------------------------\n",
            "Prompt: [{'role': 'system', 'content': 'You are a helpful assistant.'}, {'role': 'user', 'content': 'Was Franklin Roosevelt born before Herbert Hoover? Answer Y or N.'}]\n",
            "Sampled: ['N']\n",
            "-------------------------\n",
            "Prompt: [{'role': 'system', 'content': 'You are a helpful assistant.'}, {'role': 'user', 'content': 'Was Grover Cleveland born before William McKinley? Answer Y or N.'}]\n",
            "Sampled: ['Y']\n",
            "-------------------------\n",
            "Prompt: [{'role': 'system', 'content': 'You are a helpful assistant.'}, {'role': 'user', 'content': 'Was Richard Nixon born before John F. Kennedy? Answer Y or N.'}]\n",
            "Sampled: ['N']\n",
            "-------------------------\n",
            "Prompt: [{'role': 'system', 'content': 'You are a helpful assistant.'}, {'role': 'user', 'content': 'Was John Quincy Adams born before Andrew Jackson? Answer Y or N.'}]\n",
            "Sampled: ['Y']\n",
            "-------------------------\n",
            "Prompt: [{'role': 'system', 'content': 'You are a helpful assistant.'}, {'role': 'user', 'content': 'Was Andrew Jackson born before William Harrison? Answer Y or N.'}]\n",
            "Sampled: ['Y']\n",
            "-------------------------\n",
            "Prompt: [{'role': 'system', 'content': 'You are a helpful assistant.'}, {'role': 'user', 'content': 'Was Herbert Hoover born before Franklin Roosevelt? Answer Y or N.'}]\n",
            "Sampled: ['Y']\n",
            "-------------------------\n",
            "Prompt: [{'role': 'system', 'content': 'You are a helpful assistant.'}, {'role': 'user', 'content': 'Was James Monroe born before James Madison? Answer Y or N.'}]\n",
            "Sampled: ['N']\n",
            "-------------------------\n",
            "Prompt: [{'role': 'system', 'content': 'You are a helpful assistant.'}, {'role': 'user', 'content': 'Was Thomas Jefferson born before James Madison? Answer Y or N.'}]\n",
            "Sampled: ['Y']\n",
            "-------------------------\n",
            "Prompt: [{'role': 'system', 'content': 'You are a helpful assistant.'}, {'role': 'user', 'content': 'Was Gerald Ford born before Richard Nixon? Answer Y or N.'}]\n",
            "Sampled: ['N']\n",
            "-------------------------\n",
            "Prompt: [{'role': 'system', 'content': 'You are a helpful assistant.'}, {'role': 'user', 'content': 'Was John Adams born before George Washington? Answer Y or N.'}]\n",
            "Sampled: ['N']\n",
            "-------------------------\n",
            "Prompt: [{'role': 'system', 'content': 'You are a helpful assistant.'}, {'role': 'user', 'content': 'Was James Garfield born before Grover Cleveland? Answer Y or N.'}]\n",
            "Sampled: ['Y']\n",
            "-------------------------\n",
            "Prompt: [{'role': 'system', 'content': 'You are a helpful assistant.'}, {'role': 'user', 'content': 'Was Grover Cleveland born before Benjamin Harrison? Answer Y or N.'}]\n",
            "Sampled: ['Y']\n",
            "-------------------------\n",
            "Prompt: [{'role': 'system', 'content': 'You are a helpful assistant.'}, {'role': 'user', 'content': 'Was Grover Cleveland born before William McKinley? Answer Y or N.'}]\n",
            "Sampled: ['Y']\n",
            "-------------------------\n",
            "Prompt: [{'role': 'system', 'content': 'You are a helpful assistant.'}, {'role': 'user', 'content': 'Was George H.W. Bush born before John F. Kennedy? Answer Y or N.'}]\n",
            "Sampled: ['Y']\n",
            "-------------------------\n",
            "Prompt: [{'role': 'system', 'content': 'You are a helpful assistant.'}, {'role': 'user', 'content': 'Was Benjamin Harrison born before Chester A. Arthur? Answer Y or N.'}]\n",
            "Sampled: ['N']\n",
            "-------------------------\n",
            "Prompt: [{'role': 'system', 'content': 'You are a helpful assistant.'}, {'role': 'user', 'content': 'Was James Buchanan born before Zachary Taylor? Answer Y or N.'}]\n",
            "Sampled: ['Y']\n",
            "-------------------------\n",
            "Prompt: [{'role': 'system', 'content': 'You are a helpful assistant.'}, {'role': 'user', 'content': 'Was Warren Harding born before Calvin Coolidge? Answer Y or N.'}]\n",
            "Sampled: ['Y']\n",
            "-------------------------\n",
            "Prompt: [{'role': 'system', 'content': 'You are a helpful assistant.'}, {'role': 'user', 'content': 'Was Benjamin Harrison born before Grover Cleveland? Answer Y or N.'}]\n",
            "Sampled: ['Y']\n",
            "-------------------------\n",
            "Prompt: [{'role': 'system', 'content': 'You are a helpful assistant.'}, {'role': 'user', 'content': 'Was Chester A. Arthur born before Ulysses S. Grant? Answer Y or N.'}]\n",
            "Sampled: ['N']\n",
            "-------------------------\n",
            "Prompt: [{'role': 'system', 'content': 'You are a helpful assistant.'}, {'role': 'user', 'content': 'Was John Tyler born before Martin Van Buren? Answer Y or N.'}]\n",
            "Sampled: ['N']\n",
            "-------------------------\n",
            "Prompt: [{'role': 'system', 'content': 'You are a helpful assistant.'}, {'role': 'user', 'content': 'Was Richard Nixon born before Gerald Ford? Answer Y or N.'}]\n",
            "Sampled: ['Y']\n",
            "-------------------------\n",
            "Prompt: [{'role': 'system', 'content': 'You are a helpful assistant.'}, {'role': 'user', 'content': 'Was Woodrow Wilson born before William Taft? Answer Y or N.'}]\n",
            "Sampled: ['N']\n",
            "-------------------------\n",
            "Prompt: [{'role': 'system', 'content': 'You are a helpful assistant.'}, {'role': 'user', 'content': 'Was William Taft born before Woodrow Wilson? Answer Y or N.'}]\n",
            "Sampled: ['N']\n",
            "-------------------------\n",
            "Prompt: [{'role': 'system', 'content': 'You are a helpful assistant.'}, {'role': 'user', 'content': 'Was James Polk born before John Tyler? Answer Y or N.'}]\n",
            "Sampled: ['Y']\n",
            "-------------------------\n",
            "Prompt: [{'role': 'system', 'content': 'You are a helpful assistant.'}, {'role': 'user', 'content': 'Was John F. Kennedy born before Richard Nixon? Answer Y or N.'}]\n",
            "Sampled: ['N']\n",
            "-------------------------\n",
            "Prompt: [{'role': 'system', 'content': 'You are a helpful assistant.'}, {'role': 'user', 'content': 'Was Calvin Coolidge born before Herbert Hoover? Answer Y or N.'}]\n",
            "Sampled: ['Y']\n",
            "-------------------------\n",
            "Prompt: [{'role': 'system', 'content': 'You are a helpful assistant.'}, {'role': 'user', 'content': 'Was Donald Trump born before George W. Bush? Answer Y or N.'}]\n",
            "Sampled: ['N']\n",
            "-------------------------\n",
            "Prompt: [{'role': 'system', 'content': 'You are a helpful assistant.'}, {'role': 'user', 'content': 'Was Theodore Roosevelt born before Warren Harding? Answer Y or N.'}]\n",
            "Sampled: ['Y']\n",
            "-------------------------\n",
            "Prompt: [{'role': 'system', 'content': 'You are a helpful assistant.'}, {'role': 'user', 'content': 'Was Millard Fillmore born before Franklin Pierce? Answer Y or N.'}]\n",
            "Sampled: ['Y']\n",
            "-------------------------\n",
            "Prompt: [{'role': 'system', 'content': 'You are a helpful assistant.'}, {'role': 'user', 'content': 'Was James Garfield born before Benjamin Harrison? Answer Y or N.'}]\n",
            "Sampled: ['Y']\n",
            "-------------------------\n",
            "Prompt: [{'role': 'system', 'content': 'You are a helpful assistant.'}, {'role': 'user', 'content': 'Was Bill Clinton born before Joe Biden? Answer Y or N.'}]\n",
            "Sampled: ['N']\n",
            "-------------------------\n",
            "Prompt: [{'role': 'system', 'content': 'You are a helpful assistant.'}, {'role': 'user', 'content': 'Was Harry Truman born before Dwight Eisenhower? Answer Y or N.'}]\n",
            "Sampled: ['N']\n",
            "-------------------------\n",
            "Prompt: [{'role': 'system', 'content': 'You are a helpful assistant.'}, {'role': 'user', 'content': 'Was Joe Biden born before Bill Clinton? Answer Y or N.'}]\n",
            "Sampled: ['Y']\n",
            "-------------------------\n",
            "Prompt: [{'role': 'system', 'content': 'You are a helpful assistant.'}, {'role': 'user', 'content': 'Was Grover Cleveland born before Grover Cleveland? Answer Y or N.'}]\n",
            "Sampled: ['N']\n",
            "-------------------------\n",
            "Prompt: [{'role': 'system', 'content': 'You are a helpful assistant.'}, {'role': 'user', 'content': 'Was Gerald Ford born before John F. Kennedy? Answer Y or N.'}]\n",
            "Sampled: ['N']\n",
            "-------------------------\n",
            "Prompt: [{'role': 'system', 'content': 'You are a helpful assistant.'}, {'role': 'user', 'content': 'Was John F. Kennedy born before Gerald Ford? Answer Y or N.'}]\n",
            "Sampled: ['Y']\n",
            "-------------------------\n",
            "Prompt: [{'role': 'system', 'content': 'You are a helpful assistant.'}, {'role': 'user', 'content': 'Was Donald Trump born before Bill Clinton? Answer Y or N.'}]\n",
            "Sampled: ['N']\n",
            "-------------------------\n",
            "Prompt: [{'role': 'system', 'content': 'You are a helpful assistant.'}, {'role': 'user', 'content': 'Was George Washington born before John Adams? Answer Y or N.'}]\n",
            "Sampled: ['Y']\n",
            "-------------------------\n",
            "Prompt: [{'role': 'system', 'content': 'You are a helpful assistant.'}, {'role': 'user', 'content': 'Was Dwight Eisenhower born before Harry Truman? Answer Y or N.'}]\n",
            "Sampled: ['N']\n",
            "-------------------------\n",
            "Prompt: [{'role': 'system', 'content': 'You are a helpful assistant.'}, {'role': 'user', 'content': 'Was Franklin Pierce born before Millard Fillmore? Answer Y or N.'}]\n",
            "Sampled: ['N']\n",
            "-------------------------\n",
            "Prompt: [{'role': 'system', 'content': 'You are a helpful assistant.'}, {'role': 'user', 'content': 'Was Woodrow Wilson born before Theodore Roosevelt? Answer Y or N.'}]\n",
            "Sampled: ['N']\n",
            "-------------------------\n",
            "Prompt: [{'role': 'system', 'content': 'You are a helpful assistant.'}, {'role': 'user', 'content': 'Was John Tyler born before Zachary Taylor? Answer Y or N.'}]\n",
            "Sampled: ['Y']\n",
            "-------------------------\n",
            "Prompt: [{'role': 'system', 'content': 'You are a helpful assistant.'}, {'role': 'user', 'content': 'Was Bill Clinton born before George W. Bush? Answer Y or N.'}]\n",
            "Sampled: ['Y']\n",
            "-------------------------\n",
            "Prompt: [{'role': 'system', 'content': 'You are a helpful assistant.'}, {'role': 'user', 'content': 'Was Theodore Roosevelt born before William Taft? Answer Y or N.'}]\n",
            "Sampled: ['Y']\n",
            "-------------------------\n",
            "Prompt: [{'role': 'system', 'content': 'You are a helpful assistant.'}, {'role': 'user', 'content': 'Was Franklin Roosevelt born before Harry Truman? Answer Y or N.'}]\n",
            "Sampled: ['Y']\n",
            "-------------------------\n",
            "Prompt: [{'role': 'system', 'content': 'You are a helpful assistant.'}, {'role': 'user', 'content': 'Was Ronald Reagan born before Gerald Ford? Answer Y or N.'}]\n",
            "Sampled: ['N']\n",
            "-------------------------\n",
            "Prompt: [{'role': 'system', 'content': 'You are a helpful assistant.'}, {'role': 'user', 'content': 'Was Lyndon Johnson born before Ronald Reagan? Answer Y or N.'}]\n",
            "Sampled: ['Y']\n",
            "-------------------------\n",
            "Prompt: [{'role': 'system', 'content': 'You are a helpful assistant.'}, {'role': 'user', 'content': 'Was Lyndon Johnson born before Gerald Ford? Answer Y or N.'}]\n",
            "Sampled: ['Y']\n",
            "-------------------------\n",
            "Prompt: [{'role': 'system', 'content': 'You are a helpful assistant.'}, {'role': 'user', 'content': 'Was Grover Cleveland born before James Garfield? Answer Y or N.'}]\n",
            "Sampled: ['N']\n",
            "-------------------------\n",
            "Prompt: [{'role': 'system', 'content': 'You are a helpful assistant.'}, {'role': 'user', 'content': 'Was Grover Cleveland born before Grover Cleveland? Answer Y or N.'}]\n",
            "Sampled: ['N']\n",
            "-------------------------\n",
            "Prompt: [{'role': 'system', 'content': 'You are a helpful assistant.'}, {'role': 'user', 'content': 'Was Donald Trump born before Joe Biden? Answer Y or N.'}]\n",
            "Sampled: ['N']\n",
            "-------------------------\n",
            "Prompt: [{'role': 'system', 'content': 'You are a helpful assistant.'}, {'role': 'user', 'content': 'Was Richard Nixon born before Lyndon Johnson? Answer Y or N.'}]\n",
            "Sampled: ['N']\n",
            "-------------------------\n",
            "Prompt: [{'role': 'system', 'content': 'You are a helpful assistant.'}, {'role': 'user', 'content': 'Was John Tyler born before James Polk? Answer Y or N.'}]\n",
            "Sampled: ['Y']\n",
            "-------------------------\n",
            "Prompt: [{'role': 'system', 'content': 'You are a helpful assistant.'}, {'role': 'user', 'content': 'Was Joe Biden born before George W. Bush? Answer Y or N.'}]\n",
            "Sampled: ['Y']\n",
            "-------------------------\n",
            "Prompt: [{'role': 'system', 'content': 'You are a helpful assistant.'}, {'role': 'user', 'content': 'Was Rutherford B. Hayes born before Chester A. Arthur? Answer Y or N.'}]\n",
            "Sampled: ['Y']\n",
            "-------------------------\n",
            "Prompt: [{'role': 'system', 'content': 'You are a helpful assistant.'}, {'role': 'user', 'content': 'Was James Buchanan born before John Tyler? Answer Y or N.'}]\n",
            "Sampled: ['N']\n",
            "-------------------------\n",
            "Prompt: [{'role': 'system', 'content': 'You are a helpful assistant.'}, {'role': 'user', 'content': 'Was John F. Kennedy born before Ronald Reagan? Answer Y or N.'}]\n",
            "Sampled: ['N']\n",
            "-------------------------\n",
            "Prompt: [{'role': 'system', 'content': 'You are a helpful assistant.'}, {'role': 'user', 'content': 'Was James Madison born before James Monroe? Answer Y or N.'}]\n",
            "Sampled: ['Y']\n",
            "-------------------------\n",
            "Prompt: [{'role': 'system', 'content': 'You are a helpful assistant.'}, {'role': 'user', 'content': 'Was George W. Bush born before Bill Clinton? Answer Y or N.'}]\n",
            "Sampled: ['N']\n",
            "-------------------------\n",
            "Prompt: [{'role': 'system', 'content': 'You are a helpful assistant.'}, {'role': 'user', 'content': 'Was John Quincy Adams born before William Harrison? Answer Y or N.'}]\n",
            "Sampled: ['Y']\n",
            "-------------------------\n",
            "Prompt: [{'role': 'system', 'content': 'You are a helpful assistant.'}, {'role': 'user', 'content': 'Was James Polk born before Millard Fillmore? Answer Y or N.'}]\n",
            "Sampled: ['Y']\n",
            "-------------------------\n",
            "Prompt: [{'role': 'system', 'content': 'You are a helpful assistant.'}, {'role': 'user', 'content': 'Was Harry Truman born before Franklin Roosevelt? Answer Y or N.'}]\n",
            "Sampled: ['N']\n",
            "-------------------------\n",
            "Prompt: [{'role': 'system', 'content': 'You are a helpful assistant.'}, {'role': 'user', 'content': 'Was Millard Fillmore born before James Polk? Answer Y or N.'}]\n",
            "Sampled: ['N']\n",
            "-------------------------\n",
            "Prompt: [{'role': 'system', 'content': 'You are a helpful assistant.'}, {'role': 'user', 'content': 'Was Abraham Lincoln born before Andrew Johnson? Answer Y or N.'}]\n",
            "Sampled: ['Y']\n",
            "-------------------------\n",
            "Prompt: [{'role': 'system', 'content': 'You are a helpful assistant.'}, {'role': 'user', 'content': 'Was Jimmy Carter born before John F. Kennedy? Answer Y or N.'}]\n",
            "Sampled: ['N']\n",
            "-------------------------\n",
            "Prompt: [{'role': 'system', 'content': 'You are a helpful assistant.'}, {'role': 'user', 'content': 'Was Franklin Pierce born before Abraham Lincoln? Answer Y or N.'}]\n",
            "Sampled: ['Y']\n",
            "-------------------------\n",
            "Prompt: [{'role': 'system', 'content': 'You are a helpful assistant.'}, {'role': 'user', 'content': 'Was Gerald Ford born before Ronald Reagan? Answer Y or N.'}]\n",
            "Sampled: ['N']\n",
            "-------------------------\n",
            "Prompt: [{'role': 'system', 'content': 'You are a helpful assistant.'}, {'role': 'user', 'content': 'Was John F. Kennedy born before George H.W. Bush? Answer Y or N.'}]\n",
            "Sampled: ['Y']\n",
            "-------------------------\n",
            "Prompt: [{'role': 'system', 'content': 'You are a helpful assistant.'}, {'role': 'user', 'content': 'Was James Polk born before James Buchanan? Answer Y or N.'}]\n",
            "Sampled: ['Y']\n",
            "-------------------------\n",
            "Prompt: [{'role': 'system', 'content': 'You are a helpful assistant.'}, {'role': 'user', 'content': 'Was Theodore Roosevelt born before Woodrow Wilson? Answer Y or N.'}]\n",
            "Sampled: ['Y']\n",
            "-------------------------\n",
            "Prompt: [{'role': 'system', 'content': 'You are a helpful assistant.'}, {'role': 'user', 'content': 'Was William Harrison born before Andrew Jackson? Answer Y or N.'}]\n",
            "Sampled: ['N']\n",
            "-------------------------\n",
            "Prompt: [{'role': 'system', 'content': 'You are a helpful assistant.'}, {'role': 'user', 'content': 'Was James Garfield born before Grover Cleveland? Answer Y or N.'}]\n",
            "Sampled: ['Y']\n",
            "-------------------------\n",
            "Prompt: [{'role': 'system', 'content': 'You are a helpful assistant.'}, {'role': 'user', 'content': 'Was George W. Bush born before Donald Trump? Answer Y or N.'}]\n",
            "Sampled: ['N']\n",
            "-------------------------\n",
            "Prompt: [{'role': 'system', 'content': 'You are a helpful assistant.'}, {'role': 'user', 'content': 'Was Chester A. Arthur born before Grover Cleveland? Answer Y or N.'}]\n",
            "Sampled: ['Y']\n",
            "-------------------------\n",
            "Prompt: [{'role': 'system', 'content': 'You are a helpful assistant.'}, {'role': 'user', 'content': 'Was Andrew Jackson born before John Quincy Adams? Answer Y or N.'}]\n",
            "Sampled: ['N']\n",
            "-------------------------\n",
            "Prompt: [{'role': 'system', 'content': 'You are a helpful assistant.'}, {'role': 'user', 'content': 'Was John Adams born before Thomas Jefferson? Answer Y or N.'}]\n",
            "Sampled: ['Y']\n",
            "-------------------------\n",
            "Prompt: [{'role': 'system', 'content': 'You are a helpful assistant.'}, {'role': 'user', 'content': 'Was Ronald Reagan born before John F. Kennedy? Answer Y or N.'}]\n",
            "Sampled: ['N']\n",
            "-------------------------\n",
            "Prompt: [{'role': 'system', 'content': 'You are a helpful assistant.'}, {'role': 'user', 'content': 'Was Richard Nixon born before Ronald Reagan? Answer Y or N.'}]\n",
            "Sampled: ['Y']\n",
            "-------------------------\n",
            "Prompt: [{'role': 'system', 'content': 'You are a helpful assistant.'}, {'role': 'user', 'content': 'Was Lyndon Johnson born before Richard Nixon? Answer Y or N.'}]\n",
            "Sampled: ['Y']\n",
            "-------------------------\n",
            "Prompt: [{'role': 'system', 'content': 'You are a helpful assistant.'}, {'role': 'user', 'content': 'Was James Madison born before Thomas Jefferson? Answer Y or N.'}]\n",
            "Sampled: ['N']\n",
            "-------------------------\n",
            "Prompt: [{'role': 'system', 'content': 'You are a helpful assistant.'}, {'role': 'user', 'content': 'Was Chester A. Arthur born before Rutherford B. Hayes? Answer Y or N.'}]\n",
            "Sampled: ['N']\n",
            "-------------------------\n",
            "Prompt: [{'role': 'system', 'content': 'You are a helpful assistant.'}, {'role': 'user', 'content': 'Was Gerald Ford born before Lyndon Johnson? Answer Y or N.'}]\n",
            "Sampled: ['N']\n",
            "-------------------------\n",
            "Prompt: [{'role': 'system', 'content': 'You are a helpful assistant.'}, {'role': 'user', 'content': 'Was Andrew Johnson born before Abraham Lincoln? Answer Y or N.'}]\n",
            "Sampled: ['Y']\n",
            "-------------------------\n",
            "Prompt: [{'role': 'system', 'content': 'You are a helpful assistant.'}, {'role': 'user', 'content': 'Was William Taft born before Theodore Roosevelt? Answer Y or N.'}]\n",
            "Sampled: ['N']\n",
            "-------------------------\n",
            "Prompt: [{'role': 'system', 'content': 'You are a helpful assistant.'}, {'role': 'user', 'content': 'Was James Garfield born before Chester A. Arthur? Answer Y or N.'}]\n",
            "Sampled: ['Y']\n",
            "-------------------------\n",
            "Prompt: [{'role': 'system', 'content': 'You are a helpful assistant.'}, {'role': 'user', 'content': 'Was Benjamin Harrison born before Grover Cleveland? Answer Y or N.'}]\n",
            "Sampled: ['Y']\n",
            "-------------------------\n",
            "Prompt: [{'role': 'system', 'content': 'You are a helpful assistant.'}, {'role': 'user', 'content': 'Was Ronald Reagan born before Lyndon Johnson? Answer Y or N.'}]\n",
            "Sampled: ['N']\n",
            "-------------------------\n",
            "Prompt: [{'role': 'system', 'content': 'You are a helpful assistant.'}, {'role': 'user', 'content': 'Was Abraham Lincoln born before Franklin Pierce? Answer Y or N.'}]\n",
            "Sampled: ['Y']\n",
            "-------------------------\n",
            "Prompt: [{'role': 'system', 'content': 'You are a helpful assistant.'}, {'role': 'user', 'content': 'Was John F. Kennedy born before Jimmy Carter? Answer Y or N.'}]\n",
            "Sampled: ['Y']\n",
            "-------------------------\n",
            "Prompt: [{'role': 'system', 'content': 'You are a helpful assistant.'}, {'role': 'user', 'content': 'Was James Buchanan born before James Polk? Answer Y or N.'}]\n",
            "Sampled: ['N']\n",
            "-------------------------\n",
            "Prompt: [{'role': 'system', 'content': 'You are a helpful assistant.'}, {'role': 'user', 'content': 'Was William McKinley born before Grover Cleveland? Answer Y or N.'}]\n",
            "Sampled: ['N']\n",
            "-------------------------\n",
            "Prompt: [{'role': 'system', 'content': 'You are a helpful assistant.'}, {'role': 'user', 'content': 'Was Zachary Taylor born before Martin Van Buren? Answer Y or N.'}]\n",
            "Sampled: ['N']\n",
            "-------------------------\n",
            "Prompt: [{'role': 'system', 'content': 'You are a helpful assistant.'}, {'role': 'user', 'content': 'Was Thomas Jefferson born before John Adams? Answer Y or N.'}]\n",
            "Sampled: ['N']\n",
            "-------------------------\n",
            "Prompt: [{'role': 'system', 'content': 'You are a helpful assistant.'}, {'role': 'user', 'content': 'Was George H.W. Bush born before Jimmy Carter? Answer Y or N.'}]\n",
            "Sampled: ['N']\n",
            "-------------------------\n",
            "Prompt: [{'role': 'system', 'content': 'You are a helpful assistant.'}, {'role': 'user', 'content': 'Was Grover Cleveland born before James Garfield? Answer Y or N.'}]\n",
            "Sampled: ['N']\n",
            "-------------------------\n",
            "Prompt: [{'role': 'system', 'content': 'You are a helpful assistant.'}, {'role': 'user', 'content': 'Was Martin Van Buren born before Zachary Taylor? Answer Y or N.'}]\n",
            "Sampled: ['Y']\n",
            "-------------------------\n",
            "Prompt: [{'role': 'system', 'content': 'You are a helpful assistant.'}, {'role': 'user', 'content': 'Was Ulysses S. Grant born before Chester A. Arthur? Answer Y or N.'}]\n",
            "Sampled: ['Y']\n",
            "-------------------------\n",
            "Prompt: [{'role': 'system', 'content': 'You are a helpful assistant.'}, {'role': 'user', 'content': 'Was Warren Harding born before Theodore Roosevelt? Answer Y or N.'}]\n",
            "Sampled: ['N']\n",
            "-------------------------\n",
            "Prompt: [{'role': 'system', 'content': 'You are a helpful assistant.'}, {'role': 'user', 'content': 'Was Chester A. Arthur born before James Garfield? Answer Y or N.'}]\n",
            "Sampled: ['N']\n",
            "-------------------------\n",
            "Prompt: [{'role': 'system', 'content': 'You are a helpful assistant.'}, {'role': 'user', 'content': 'Was Chester A. Arthur born before Grover Cleveland? Answer Y or N.'}]\n",
            "Sampled: ['Y']\n",
            "-------------------------\n",
            "Prompt: [{'role': 'system', 'content': 'You are a helpful assistant.'}, {'role': 'user', 'content': 'Was William McKinley born before Grover Cleveland? Answer Y or N.'}]\n",
            "Sampled: ['N']\n",
            "-------------------------\n",
            "Prompt: [{'role': 'system', 'content': 'You are a helpful assistant.'}, {'role': 'user', 'content': 'Was Grover Cleveland born before Chester A. Arthur? Answer Y or N.'}]\n",
            "Sampled: ['N']\n",
            "-------------------------\n",
            "Prompt: [{'role': 'system', 'content': 'You are a helpful assistant.'}, {'role': 'user', 'content': 'Was Zachary Taylor born before James Buchanan? Answer Y or N.'}]\n",
            "Sampled: ['Y']\n",
            "-------------------------\n",
            "Prompt: [{'role': 'system', 'content': 'You are a helpful assistant.'}, {'role': 'user', 'content': 'Was Joe Biden born before Donald Trump? Answer Y or N.'}]\n",
            "Sampled: ['N']\n",
            "-------------------------\n",
            "Prompt: [{'role': 'system', 'content': 'You are a helpful assistant.'}, {'role': 'user', 'content': 'Was Grover Cleveland born before Benjamin Harrison? Answer Y or N.'}]\n",
            "Sampled: ['Y']\n",
            "-------------------------\n",
            "Prompt: [{'role': 'system', 'content': 'You are a helpful assistant.'}, {'role': 'user', 'content': 'Was Grover Cleveland born before Chester A. Arthur? Answer Y or N.'}]\n",
            "Sampled: ['N']\n",
            "-------------------------\n",
            "Prompt: [{'role': 'system', 'content': 'You are a helpful assistant.'}, {'role': 'user', 'content': 'Was Andrew Johnson born before Franklin Pierce? Answer Y or N.'}]\n",
            "Sampled: ['N']\n",
            "-------------------------\n",
            "Prompt: [{'role': 'system', 'content': 'You are a helpful assistant.'}, {'role': 'user', 'content': 'Was William Harrison born before John Quincy Adams? Answer Y or N.'}]\n",
            "Sampled: ['N']\n",
            "-------------------------\n",
            "Prompt: [{'role': 'system', 'content': 'You are a helpful assistant.'}, {'role': 'user', 'content': 'Was Ulysses S. Grant born before Rutherford B. Hayes? Answer Y or N.'}]\n",
            "Sampled: ['Y']\n",
            "-------------------------\n",
            "Prompt: [{'role': 'system', 'content': 'You are a helpful assistant.'}, {'role': 'user', 'content': 'Was Jimmy Carter born before George H.W. Bush? Answer Y or N.'}]\n",
            "Sampled: ['Y']\n",
            "-------------------------\n",
            "Prompt: [{'role': 'system', 'content': 'You are a helpful assistant.'}, {'role': 'user', 'content': 'Was Calvin Coolidge born before Warren Harding? Answer Y or N.'}]\n",
            "Sampled: ['N']\n",
            "-------------------------\n",
            "Prompt: [{'role': 'system', 'content': 'You are a helpful assistant.'}, {'role': 'user', 'content': 'Was Zachary Taylor born before John Tyler? Answer Y or N.'}]\n",
            "Sampled: ['N']\n",
            "-------------------------\n",
            "Prompt: [{'role': 'system', 'content': 'You are a helpful assistant.'}, {'role': 'user', 'content': 'Was Benjamin Harrison born before James Garfield? Answer Y or N.'}]\n",
            "Sampled: ['N']\n",
            "-------------------------\n",
            "Prompt: [{'role': 'system', 'content': 'You are a helpful assistant.'}, {'role': 'user', 'content': 'Was Ronald Reagan born before Richard Nixon? Answer Y or N.'}]\n",
            "Sampled: ['N']\n",
            "-------------------------\n",
            "Prompt: [{'role': 'system', 'content': 'You are a helpful assistant.'}, {'role': 'user', 'content': 'Was Herbert Hoover born before Calvin Coolidge? Answer Y or N.'}]\n",
            "Sampled: ['N']\n",
            "-------------------------\n",
            "Prompt: [{'role': 'system', 'content': 'You are a helpful assistant.'}, {'role': 'user', 'content': 'Was Bill Clinton born before Donald Trump? Answer Y or N.'}]\n",
            "Sampled: ['N']\n",
            "-------------------------\n",
            "Prompt: [{'role': 'system', 'content': 'You are a helpful assistant.'}, {'role': 'user', 'content': 'Was George W. Bush born before Joe Biden? Answer Y or N.'}]\n",
            "Sampled: ['N']\n",
            "-------------------------\n"
          ]
        }
      ],
      "source": [
        "# Inspect samples\n",
        "for i, r in pd.json_normalize(events_df[events_df.type == \"sampling\"].data).iterrows():\n",
        "    print(f\"Prompt: {r.prompt}\")\n",
        "    print(f\"Sampled: {r.sampled}\")\n",
        "    print(\"-\" * 25)"
      ]
    },
    {
      "cell_type": "code",
      "source": [
        "%cd /content/\n",
        "!git clone https://github.com/xinzhel/llm_eval.git"
      ],
      "metadata": {
        "colab": {
          "base_uri": "https://localhost:8080/"
        },
        "id": "34Dvk4cOVjT3",
        "outputId": "43b0ef9e-3a54-43a5-e090-79c0748b0672"
      },
      "execution_count": 28,
      "outputs": [
        {
          "output_type": "stream",
          "name": "stdout",
          "text": [
            "/content\n",
            "fatal: destination path 'llm_eval' already exists and is not an empty directory.\n"
          ]
        }
      ]
    },
    {
      "cell_type": "code",
      "source": [
        "from openai import OpenAI\n",
        "\n",
        "client = OpenAI()\n",
        "\n",
        "stream = client.chat.completions.create(\n",
        "    model=\"gpt-3.5-turbo\",\n",
        "    messages=[{\"role\": \"user\", \"content\": \"Say this is a test\"}],\n",
        "    stream=True,\n",
        ")\n",
        "for chunk in stream:\n",
        "    if chunk.choices[0].delta.content is not None:\n",
        "        print(chunk.choices[0].delta.content, end=\"\")"
      ],
      "metadata": {
        "colab": {
          "base_uri": "https://localhost:8080/"
        },
        "id": "1cOpafLxh9zA",
        "outputId": "3c26803d-bc01-4aed-9a71-2ebfb84c9847"
      },
      "execution_count": 29,
      "outputs": [
        {
          "output_type": "stream",
          "name": "stdout",
          "text": [
            "This is a test"
          ]
        }
      ]
    }
  ],
  "metadata": {
    "kernelspec": {
      "display_name": "oss_evals",
      "language": "python",
      "name": "python3"
    },
    "language_info": {
      "codemirror_mode": {
        "name": "ipython",
        "version": 3
      },
      "file_extension": ".py",
      "mimetype": "text/x-python",
      "name": "python",
      "nbconvert_exporter": "python",
      "pygments_lexer": "ipython3",
      "version": "3.10.9"
    },
    "orig_nbformat": 4,
    "colab": {
      "provenance": [],
      "include_colab_link": true
    }
  },
  "nbformat": 4,
  "nbformat_minor": 0
}