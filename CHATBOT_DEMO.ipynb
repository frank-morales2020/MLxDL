{
  "nbformat": 4,
  "nbformat_minor": 0,
  "metadata": {
    "colab": {
      "provenance": [],
      "authorship_tag": "ABX9TyPMfz3uH9ZQXzC8ST2iJRGD",
      "include_colab_link": true
    },
    "kernelspec": {
      "name": "python3",
      "display_name": "Python 3"
    },
    "language_info": {
      "name": "python"
    }
  },
  "cells": [
    {
      "cell_type": "markdown",
      "metadata": {
        "id": "view-in-github",
        "colab_type": "text"
      },
      "source": [
        "<a href=\"https://colab.research.google.com/github/frank-morales2020/MLxDL/blob/main/CHATBOT_DEMO.ipynb\" target=\"_parent\"><img src=\"https://colab.research.google.com/assets/colab-badge.svg\" alt=\"Open In Colab\"/></a>"
      ]
    },
    {
      "cell_type": "code",
      "source": [
        "!pip install flask openai colab-env -q"
      ],
      "metadata": {
        "colab": {
          "base_uri": "https://localhost:8080/"
        },
        "id": "uFZ06uVT7UYq",
        "outputId": "578ad94e-f07f-4376-df1f-21a508f1d463"
      },
      "execution_count": 1,
      "outputs": [
        {
          "output_type": "stream",
          "name": "stdout",
          "text": [
            "  Preparing metadata (setup.py) ... \u001b[?25l\u001b[?25hdone\n",
            "  Building wheel for colab-env (setup.py) ... \u001b[?25l\u001b[?25hdone\n"
          ]
        }
      ]
    },
    {
      "cell_type": "code",
      "source": [
        "!pip install pyngrok -q  # Install pyngrok"
      ],
      "metadata": {
        "id": "Z1d8N9cUXJav"
      },
      "execution_count": 2,
      "outputs": []
    },
    {
      "cell_type": "code",
      "source": [
        "!pip install --upgrade openai -q"
      ],
      "metadata": {
        "id": "CT44SgITg0xV"
      },
      "execution_count": null,
      "outputs": []
    },
    {
      "cell_type": "code",
      "source": [
        "!curl -sSL https://ngrok-agent.s3.amazonaws.com/ngrok.asc \\\n",
        "\t| sudo tee /etc/apt/trusted.gpg.d/ngrok.asc >/dev/null \\\n",
        "\t&& echo \"deb https://ngrok-agent.s3.amazonaws.com buster main\" \\\n",
        "\t| sudo tee /etc/apt/sources.list.d/ngrok.list \\\n",
        "\t&& sudo apt update \\\n",
        "\t&& sudo apt install ngrok"
      ],
      "metadata": {
        "id": "SUhI0VJaVmHV"
      },
      "execution_count": null,
      "outputs": []
    },
    {
      "cell_type": "markdown",
      "source": [
        "FINAL_PROD"
      ],
      "metadata": {
        "id": "nKjdO7OFzNUn"
      }
    },
    {
      "cell_type": "code",
      "source": [
        "from IPython import get_ipython\n",
        "from IPython.display import display\n",
        "import os\n",
        "from dotenv import load_dotenv\n",
        "from flask import Flask, render_template_string, request\n",
        "import openai\n",
        "import threading\n",
        "from IPython.display import HTML, display\n",
        "import socket\n",
        "import time\n",
        "import traceback\n",
        "from pyngrok import ngrok, conf\n",
        "import colab_env\n",
        "\n",
        "# Load environment variables from .env file (optional)\n",
        "load_dotenv()\n",
        "\n",
        "# Access API keys from environment variables\n",
        "openai.api_key = os.getenv(\"OPENAI_API_KEY\")\n",
        "if openai.api_key is None:\n",
        "    raise ValueError(\"OPENAI_API_KEY environment variable not set.\")\n",
        "\n",
        "# --- Flask App Setup ---\n",
        "app = Flask(__name__)\n",
        "\n",
        "conversation_history = []  # Initialize conversation history\n",
        "\n",
        "def get_response(user_input):\n",
        "    \"\"\"Gets a response from the OpenAI GPT-3.5-turbo API.\"\"\"\n",
        "    try:\n",
        "        conversation_history.append({\"role\": \"user\", \"content\": user_input})\n",
        "\n",
        "        #print(\"Sending request to OpenAI API...\")\n",
        "        response = openai.chat.completions.create(\n",
        "            model=\"gpt-3.5-turbo\",\n",
        "            messages=conversation_history\n",
        "        )\n",
        "        print(\"Received response from OpenAI API:\", response)\n",
        "\n",
        "        assistant_response = response.choices[0].message.content.strip()\n",
        "        conversation_history.append({\"role\": \"assistant\", \"content\": assistant_response})\n",
        "        return assistant_response\n",
        "\n",
        "    except openai.OpenAIError as e:\n",
        "        print(f\"OpenAI API Error: {e}\")\n",
        "        if isinstance(e, openai.AuthenticationError):\n",
        "            return \"Authentication error. Please check your API key.\"\n",
        "        elif isinstance(e, openai.RateLimitError):\n",
        "            return \"Rate limit exceeded. Please try again later.\"\n",
        "        elif isinstance(e, openai.APIConnectionError):\n",
        "            return \"Could not connect to OpenAI. Check your network.\"\n",
        "        else:\n",
        "            return \"An error occurred. Please try again later.\"\n",
        "\n",
        "    except Exception as e:\n",
        "        traceback.print_exc()\n",
        "        return \"An error occurred.\"\n",
        "\n",
        "@app.route(\"/\", methods=[\"GET\", \"POST\"])\n",
        "def index():\n",
        "    if request.method == \"POST\":\n",
        "        user_input = request.form[\"user_input\"]\n",
        "        status_message = \"Sending request to OpenAI API...\"\n",
        "        response = get_response(user_input)\n",
        "        return render_template_string('''\n",
        "            <!DOCTYPE html>\n",
        "            <html>\n",
        "            <head>\n",
        "              <title>Simple Chatbot</title>\n",
        "              <style>\n",
        "                #chat {\n",
        "                  border: 1px solid #ccc;\n",
        "                  padding: 10px;\n",
        "                  height: 300px;\n",
        "                  overflow-y: scroll;\n",
        "                }\n",
        "                .message {  /* Common styles for both user and assistant messages */\n",
        "                  padding: 5px 10px;\n",
        "                  margin-bottom: 5px;\n",
        "                  border-radius: 5px;\n",
        "                }\n",
        "                .user-message {\n",
        "                  background-color: #eee;\n",
        "                  text-align: left;  /* Align user messages to the left */\n",
        "                }\n",
        "                .assistant-message {\n",
        "                  background-color: #ccf;\n",
        "                  text-align: left;  /* Align assistant messages to the left */\n",
        "                }\n",
        "              </style>\n",
        "            </head>\n",
        "            <body>\n",
        "              <h1>Simple Chatbot - POC by Frank Morales</h1>\n",
        "              <form method=\"POST\">\n",
        "                <input type=\"text\" name=\"user_input\" placeholder=\"Enter your message\" autofocus>\n",
        "                <button type=\"submit\">Send</button>\n",
        "              </form>\n",
        "              <div id=\"chat\">\n",
        "                <p>{{ status_message }}</p>\n",
        "                {% for message in conversation_history %}\n",
        "                  {% if message.role == 'user' %}\n",
        "                    <div class=\"message user-message\">  <b>You:</b> {{ message.content }}\n",
        "                    </div>\n",
        "                  {% elif message.role == 'assistant' %}\n",
        "                    <div class=\"message assistant-message\">  <b>Chatbot:</b> {{ message.content }}\n",
        "                    </div>\n",
        "                  {% endif %}\n",
        "                {% endfor %}\n",
        "              </div>\n",
        "              <script>\n",
        "                var chatDiv = document.getElementById('chat');\n",
        "                chatDiv.scrollTop = chatDiv.scrollHeight;\n",
        "              </script>\n",
        "            </body>\n",
        "            </html>\n",
        "        ''', conversation_history=conversation_history, status_message=status_message)\n",
        "    return render_template_string('''\n",
        "            <!DOCTYPE html>\n",
        "            <html>\n",
        "            <head>\n",
        "              <title>Simple Chatbot</title>\n",
        "              <style>\n",
        "                #chat {\n",
        "                  border: 1px solid #ccc;\n",
        "                  padding: 10px;\n",
        "                  height: 300px;\n",
        "                  overflow-y: scroll;\n",
        "                }\n",
        "                .message {  /* Common styles for both user and assistant messages */\n",
        "                  padding: 5px 10px;\n",
        "                  margin-bottom: 5px;\n",
        "                  border-radius: 5px;\n",
        "                }\n",
        "                .user-message {\n",
        "                  background-color: #eee;\n",
        "                  text-align: left;  /* Align user messages to the left */\n",
        "                }\n",
        "                .assistant-message {\n",
        "                  background-color: #ccf;\n",
        "                  text-align: left;  /* Align assistant messages to the left */\n",
        "                }\n",
        "              </style>\n",
        "            </head>\n",
        "            <body>\n",
        "              <h1>Simple Chatbot - POC by Frank Morales</h1>\n",
        "              <form method=\"POST\">\n",
        "                <input type=\"text\" name=\"user_input\" placeholder=\"Enter your message\">\n",
        "                <button type=\"submit\">Send</button>\n",
        "              </form>\n",
        "              <div id=\"chat\"></div>\n",
        "            </body>\n",
        "            </html>\n",
        "        ''')\n",
        "\n",
        "\n",
        "stop_event = threading.Event()  # Create a threading event\n",
        "\n",
        "def run_app(app):\n",
        "    \"\"\"Starts the Flask app and exposes it using ngrok.\"\"\"\n",
        "    port = 0\n",
        "\n",
        "    def get_free_port():\n",
        "        \"\"\"Finds a free port.\"\"\"\n",
        "        with socket.socket(socket.AF_INET, socket.SOCK_STREAM) as s:\n",
        "            s.bind(('', 0))\n",
        "            return s.getsockname()[1]\n",
        "\n",
        "    port = get_free_port()\n",
        "\n",
        "    def flask_thread():\n",
        "        \"\"\"Runs the Flask app in a separate thread.\"\"\"\n",
        "        with app.app_context():  # Use app context\n",
        "            try:\n",
        "                app.run(host=\"0.0.0.0\", port=port, debug=True, use_reloader=False)\n",
        "            except:\n",
        "                pass  # Ignore exceptions during shutdown\n",
        "\n",
        "    thread = threading.Thread(target=flask_thread)\n",
        "    thread.start()\n",
        "\n",
        "    time.sleep(1)\n",
        "\n",
        "    # Configure ngrok\n",
        "    conf.get_default().auth_token = os.getenv(\"NGROK_TOKEN\")\n",
        "    if conf.get_default().auth_token is None:\n",
        "        raise ValueError(\"NGROK_TOKEN environment variable not set.\")\n",
        "\n",
        "    # Terminate existing ngrok tunnels\n",
        "    active_tunnels = ngrok.get_tunnels()\n",
        "    for tunnel in active_tunnels:\n",
        "        ngrok.disconnect(tunnel.public_url)\n",
        "\n",
        "    # Create a new ngrok tunnel\n",
        "    public_url = ngrok.connect(port, bind_tls=True).public_url\n",
        "    print(f\" * Running on {public_url}\")\n",
        "    display(HTML(f'<a href=\"{public_url}\">Open the Chatbot</a>'))\n",
        "\n",
        "    # Wait for the stop event\n",
        "    stop_event.wait()\n",
        "\n",
        "    # Clean up ngrok tunnel (optional)\n",
        "    ngrok.disconnect(public_url)\n",
        "\n",
        "\n",
        "if __name__ == \"__main__\":\n",
        "    try:\n",
        "        run_app(app)\n",
        "    finally:\n",
        "        stop_event.set()  # Signal the Flask app to shut down"
      ],
      "metadata": {
        "colab": {
          "base_uri": "https://localhost:8080/",
          "height": 263
        },
        "id": "QYKZjOTAxyvh",
        "outputId": "9f439b9a-2d33-4b52-d3af-61b240f423d8"
      },
      "execution_count": null,
      "outputs": [
        {
          "output_type": "stream",
          "name": "stdout",
          "text": [
            " * Serving Flask app '__main__'\n",
            " * Debug mode: on\n"
          ]
        },
        {
          "output_type": "stream",
          "name": "stderr",
          "text": [
            "INFO:werkzeug:\u001b[31m\u001b[1mWARNING: This is a development server. Do not use it in a production deployment. Use a production WSGI server instead.\u001b[0m\n",
            " * Running on all addresses (0.0.0.0)\n",
            " * Running on http://127.0.0.1:32861\n",
            " * Running on http://172.28.0.2:32861\n",
            "INFO:werkzeug:\u001b[33mPress CTRL+C to quit\u001b[0m\n"
          ]
        },
        {
          "output_type": "stream",
          "name": "stdout",
          "text": [
            " * Running on https://6837-35-196-190-246.ngrok-free.app\n"
          ]
        },
        {
          "output_type": "display_data",
          "data": {
            "text/plain": [
              "<IPython.core.display.HTML object>"
            ],
            "text/html": [
              "<a href=\"https://6837-35-196-190-246.ngrok-free.app\">Open the Chatbot</a>"
            ]
          },
          "metadata": {}
        },
        {
          "output_type": "stream",
          "name": "stderr",
          "text": [
            "INFO:werkzeug:127.0.0.1 - - [14/Jan/2025 17:36:39] \"GET / HTTP/1.1\" 200 -\n",
            "INFO:werkzeug:127.0.0.1 - - [14/Jan/2025 17:36:39] \"\u001b[33mGET /favicon.ico HTTP/1.1\u001b[0m\" 404 -\n",
            "INFO:werkzeug:127.0.0.1 - - [14/Jan/2025 17:36:44] \"POST / HTTP/1.1\" 200 -\n"
          ]
        },
        {
          "output_type": "stream",
          "name": "stdout",
          "text": [
            "Received response from OpenAI API: ChatCompletion(id='chatcmpl-Apf8Gz8SF99Gf0GM264C6JrnrdjVW', choices=[Choice(finish_reason='stop', index=0, logprobs=None, message=ChatCompletionMessage(content='The capital of Cuba is Havana.', refusal=None, role='assistant', audio=None, function_call=None, tool_calls=None))], created=1736876204, model='gpt-3.5-turbo-0125', object='chat.completion', service_tier='default', system_fingerprint=None, usage=CompletionUsage(completion_tokens=8, prompt_tokens=17, total_tokens=25, completion_tokens_details=CompletionTokensDetails(accepted_prediction_tokens=0, audio_tokens=0, reasoning_tokens=0, rejected_prediction_tokens=0), prompt_tokens_details=PromptTokensDetails(audio_tokens=0, cached_tokens=0)))\n"
          ]
        }
      ]
    }
  ]
}