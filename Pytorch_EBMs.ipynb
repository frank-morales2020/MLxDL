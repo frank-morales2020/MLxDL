{
  "nbformat": 4,
  "nbformat_minor": 0,
  "metadata": {
    "colab": {
      "provenance": [],
      "collapsed_sections": [
        "Jh2ZB9YCdtN4",
        "AVHOBysJyqPQ",
        "C9VV091Kyc-n"
      ],
      "authorship_tag": "ABX9TyNj9ba5C/iVOHKniEQ/Sq2W",
      "include_colab_link": true
    },
    "kernelspec": {
      "name": "python3",
      "display_name": "Python 3"
    },
    "language_info": {
      "name": "python"
    }
  },
  "cells": [
    {
      "cell_type": "markdown",
      "metadata": {
        "id": "view-in-github",
        "colab_type": "text"
      },
      "source": [
        "<a href=\"https://colab.research.google.com/github/frank-morales2020/MLxDL/blob/main/Pytorch_EBMs.ipynb\" target=\"_parent\"><img src=\"https://colab.research.google.com/assets/colab-badge.svg\" alt=\"Open In Colab\"/></a>"
      ]
    },
    {
      "cell_type": "markdown",
      "source": [
        "## HopfieldNetwork"
      ],
      "metadata": {
        "id": "Jh2ZB9YCdtN4"
      }
    },
    {
      "cell_type": "markdown",
      "source": [
        "### Training"
      ],
      "metadata": {
        "id": "AVHOBysJyqPQ"
      }
    },
    {
      "cell_type": "code",
      "source": [
        "import torch\n",
        "import torch.nn as nn\n",
        "from torch.utils.data import DataLoader\n",
        "from torchvision import datasets\n",
        "from torchvision.transforms import ToTensor\n",
        "from tqdm import tqdm\n",
        "\n",
        "# Define your dataset\n",
        "train_data = datasets.MNIST(\n",
        "    root='data',\n",
        "    train=True,\n",
        "    download=True,\n",
        "    transform=ToTensor()\n",
        ")\n",
        "\n",
        "# Create a DataLoader\n",
        "data_loader = DataLoader(train_data, batch_size=64, shuffle=True)\n",
        "\n",
        "# Define the number of epochs\n",
        "num_epochs = 100\n",
        "\n",
        "\n",
        "def calculate_loss(initial_state, updated_state, model):\n",
        "    initial_energy = model.energy(initial_state)\n",
        "    updated_energy = model.energy(updated_state)\n",
        "    return torch.mean(updated_energy - initial_energy)  # CD loss\n",
        "\n",
        "\n",
        "# Define your Hopfield network model\n",
        "class HopfieldNetwork(nn.Module):\n",
        "    def __init__(self, num_neurons):\n",
        "        super(HopfieldNetwork, self).__init__()\n",
        "        self.weights = nn.Parameter(torch.zeros(num_neurons, num_neurons))\n",
        "\n",
        "    def energy(self, state):\n",
        "        # Reshape state to a 2D matrix (squeeze the middle dimension)\n",
        "        state = state.squeeze(1)\n",
        "        # Perform matrix multiplications in the correct order\n",
        "        return -0.5 * torch.mm(state, torch.mm(self.weights, state.t()))\n",
        "\n",
        "    def forward(self, state):\n",
        "        # Vectorized update rule\n",
        "        flattened_state = state.view(state.size(0), -1)\n",
        "        activation = torch.matmul(flattened_state, self.weights.t())\n",
        "        updated_state = torch.sign(activation)\n",
        "        return updated_state\n",
        "\n",
        "# Example usage\n",
        "model = HopfieldNetwork(num_neurons=784)  # 784 for MNIST images\n",
        "optimizer = torch.optim.Adam(model.parameters(), lr=0.001)\n",
        "\n",
        "# Training loop with tqdm progress bar and CD\n",
        "for epoch in range(num_epochs):\n",
        "    epoch_energy = 0\n",
        "    epoch_loss = 0\n",
        "    with tqdm(data_loader, unit=\"batch\") as tepoch:\n",
        "        for batch_idx, (data, target) in enumerate(tepoch):\n",
        "            tepoch.set_description(f\"Epoch {epoch+1}\")\n",
        "            optimizer.zero_grad()\n",
        "\n",
        "            # Flatten the input data\n",
        "            data = data.view(data.size(0), -1)\n",
        "\n",
        "            # Initial state\n",
        "            initial_state = data\n",
        "\n",
        "            # Update the state using the model\n",
        "            states = model(data)\n",
        "\n",
        "            energy = model.energy(states)\n",
        "            mean_energy = torch.mean(energy)\n",
        "            epoch_energy += mean_energy.item()\n",
        "\n",
        "            # Calculate the contrastive divergence loss\n",
        "            loss = calculate_loss(initial_state, states, model)\n",
        "            epoch_loss += loss.item()\n",
        "            loss.backward()\n",
        "            optimizer.step()\n",
        "            tepoch.set_postfix(loss=loss.item())\n",
        "\n",
        "    # Print average energy and loss for the epoch\n",
        "    avg_epoch_energy = epoch_energy / len(data_loader)\n",
        "    avg_epoch_loss = epoch_loss / len(data_loader)\n",
        "    print(f\"Epoch {epoch+1}: Average Energy = {avg_epoch_energy:.4f}, Average Loss = {avg_epoch_loss:.4f}\")"
      ],
      "metadata": {
        "colab": {
          "base_uri": "https://localhost:8080/"
        },
        "id": "c779wsI1WeYw",
        "outputId": "2d61296c-8e20-4d9b-db43-ad9ee389ca32"
      },
      "execution_count": 17,
      "outputs": [
        {
          "output_type": "stream",
          "name": "stderr",
          "text": [
            "Epoch 1: 100%|██████████| 938/938 [00:36<00:00, 25.95batch/s, loss=-2.35e+5]\n"
          ]
        },
        {
          "output_type": "stream",
          "name": "stdout",
          "text": [
            "Epoch 1: Average Energy = -115717.3233, Average Loss = -113303.9445\n"
          ]
        },
        {
          "output_type": "stream",
          "name": "stderr",
          "text": [
            "Epoch 2: 100%|██████████| 938/938 [00:36<00:00, 25.76batch/s, loss=-4.76e+5]\n"
          ]
        },
        {
          "output_type": "stream",
          "name": "stdout",
          "text": [
            "Epoch 2: Average Energy = -362557.7712, Average Loss = -355315.5524\n"
          ]
        },
        {
          "output_type": "stream",
          "name": "stderr",
          "text": [
            "Epoch 3: 100%|██████████| 938/938 [00:36<00:00, 25.73batch/s, loss=-7.15e+5]\n"
          ]
        },
        {
          "output_type": "stream",
          "name": "stdout",
          "text": [
            "Epoch 3: Average Energy = -605625.5763, Average Loss = -593548.8868\n"
          ]
        },
        {
          "output_type": "stream",
          "name": "stderr",
          "text": [
            "Epoch 4: 100%|██████████| 938/938 [00:35<00:00, 26.07batch/s, loss=-9.48e+5]\n"
          ]
        },
        {
          "output_type": "stream",
          "name": "stdout",
          "text": [
            "Epoch 4: Average Energy = -847323.4711, Average Loss = -830399.0227\n"
          ]
        },
        {
          "output_type": "stream",
          "name": "stderr",
          "text": [
            "Epoch 5: 100%|██████████| 938/938 [00:35<00:00, 26.69batch/s, loss=-1.19e+6]\n"
          ]
        },
        {
          "output_type": "stream",
          "name": "stdout",
          "text": [
            "Epoch 5: Average Energy = -1088620.6201, Average Loss = -1066868.5833\n"
          ]
        },
        {
          "output_type": "stream",
          "name": "stderr",
          "text": [
            "Epoch 6: 100%|██████████| 938/938 [00:36<00:00, 25.99batch/s, loss=-1.42e+6]\n"
          ]
        },
        {
          "output_type": "stream",
          "name": "stdout",
          "text": [
            "Epoch 6: Average Energy = -1329789.5901, Average Loss = -1303196.8361\n"
          ]
        },
        {
          "output_type": "stream",
          "name": "stderr",
          "text": [
            "Epoch 7: 100%|██████████| 938/938 [00:35<00:00, 26.09batch/s, loss=-1.65e+6]\n"
          ]
        },
        {
          "output_type": "stream",
          "name": "stdout",
          "text": [
            "Epoch 7: Average Energy = -1570904.8045, Average Loss = -1539472.0880\n"
          ]
        },
        {
          "output_type": "stream",
          "name": "stderr",
          "text": [
            "Epoch 8: 100%|██████████| 938/938 [00:35<00:00, 26.67batch/s, loss=-1.9e+6]\n"
          ]
        },
        {
          "output_type": "stream",
          "name": "stdout",
          "text": [
            "Epoch 8: Average Energy = -1812000.7769, Average Loss = -1775733.1157\n"
          ]
        },
        {
          "output_type": "stream",
          "name": "stderr",
          "text": [
            "Epoch 9: 100%|██████████| 938/938 [00:36<00:00, 25.90batch/s, loss=-2.13e+6]\n"
          ]
        },
        {
          "output_type": "stream",
          "name": "stdout",
          "text": [
            "Epoch 9: Average Energy = -2053084.7933, Average Loss = -2011990.0071\n"
          ]
        },
        {
          "output_type": "stream",
          "name": "stderr",
          "text": [
            "Epoch 10: 100%|██████████| 938/938 [00:35<00:00, 26.11batch/s, loss=-2.36e+6]\n"
          ]
        },
        {
          "output_type": "stream",
          "name": "stdout",
          "text": [
            "Epoch 10: Average Energy = -2294213.6378, Average Loss = -2248267.1234\n"
          ]
        },
        {
          "output_type": "stream",
          "name": "stderr",
          "text": [
            "Epoch 11: 100%|██████████| 938/938 [00:35<00:00, 26.61batch/s, loss=-2.61e+6]\n"
          ]
        },
        {
          "output_type": "stream",
          "name": "stdout",
          "text": [
            "Epoch 11: Average Energy = -2535341.4038, Average Loss = -2484556.4680\n"
          ]
        },
        {
          "output_type": "stream",
          "name": "stderr",
          "text": [
            "Epoch 12: 100%|██████████| 938/938 [00:35<00:00, 26.11batch/s, loss=-2.84e+6]\n"
          ]
        },
        {
          "output_type": "stream",
          "name": "stdout",
          "text": [
            "Epoch 12: Average Energy = -2776461.8228, Average Loss = -2720842.5757\n"
          ]
        },
        {
          "output_type": "stream",
          "name": "stderr",
          "text": [
            "Epoch 13: 100%|██████████| 938/938 [00:36<00:00, 26.03batch/s, loss=-3.07e+6]\n"
          ]
        },
        {
          "output_type": "stream",
          "name": "stdout",
          "text": [
            "Epoch 13: Average Energy = -3017587.0877, Average Loss = -2957134.3705\n"
          ]
        },
        {
          "output_type": "stream",
          "name": "stderr",
          "text": [
            "Epoch 14: 100%|██████████| 938/938 [00:35<00:00, 26.11batch/s, loss=-3.32e+6]\n"
          ]
        },
        {
          "output_type": "stream",
          "name": "stdout",
          "text": [
            "Epoch 14: Average Energy = -3258718.9579, Average Loss = -3193434.5248\n"
          ]
        },
        {
          "output_type": "stream",
          "name": "stderr",
          "text": [
            "Epoch 15: 100%|██████████| 938/938 [00:35<00:00, 26.42batch/s, loss=-3.55e+6]\n"
          ]
        },
        {
          "output_type": "stream",
          "name": "stdout",
          "text": [
            "Epoch 15: Average Energy = -3499844.6557, Average Loss = -3429706.0490\n"
          ]
        },
        {
          "output_type": "stream",
          "name": "stderr",
          "text": [
            "Epoch 16: 100%|██████████| 938/938 [00:36<00:00, 25.89batch/s, loss=-3.78e+6]\n"
          ]
        },
        {
          "output_type": "stream",
          "name": "stdout",
          "text": [
            "Epoch 16: Average Energy = -3740963.3678, Average Loss = -3665998.6623\n"
          ]
        },
        {
          "output_type": "stream",
          "name": "stderr",
          "text": [
            "Epoch 17: 100%|██████████| 938/938 [00:36<00:00, 25.91batch/s, loss=-4.02e+6]\n"
          ]
        },
        {
          "output_type": "stream",
          "name": "stdout",
          "text": [
            "Epoch 17: Average Energy = -3982098.7700, Average Loss = -3902282.8569\n"
          ]
        },
        {
          "output_type": "stream",
          "name": "stderr",
          "text": [
            "Epoch 18: 100%|██████████| 938/938 [00:35<00:00, 26.60batch/s, loss=-4.24e+6]\n"
          ]
        },
        {
          "output_type": "stream",
          "name": "stdout",
          "text": [
            "Epoch 18: Average Energy = -4223166.7215, Average Loss = -4138514.9659\n"
          ]
        },
        {
          "output_type": "stream",
          "name": "stderr",
          "text": [
            "Epoch 19: 100%|██████████| 938/938 [00:36<00:00, 26.00batch/s, loss=-4.5e+6]\n"
          ]
        },
        {
          "output_type": "stream",
          "name": "stdout",
          "text": [
            "Epoch 19: Average Energy = -4464174.3294, Average Loss = -4374694.3252\n"
          ]
        },
        {
          "output_type": "stream",
          "name": "stderr",
          "text": [
            "Epoch 20: 100%|██████████| 938/938 [00:36<00:00, 26.02batch/s, loss=-4.72e+6]\n"
          ]
        },
        {
          "output_type": "stream",
          "name": "stdout",
          "text": [
            "Epoch 20: Average Energy = -4705193.3731, Average Loss = -4610872.0192\n"
          ]
        },
        {
          "output_type": "stream",
          "name": "stderr",
          "text": [
            "Epoch 21: 100%|██████████| 938/938 [00:35<00:00, 26.47batch/s, loss=-4.96e+6]\n"
          ]
        },
        {
          "output_type": "stream",
          "name": "stdout",
          "text": [
            "Epoch 21: Average Energy = -4946203.5938, Average Loss = -4847033.1823\n"
          ]
        },
        {
          "output_type": "stream",
          "name": "stderr",
          "text": [
            "Epoch 22: 100%|██████████| 938/938 [00:35<00:00, 26.30batch/s, loss=-5.19e+6]\n"
          ]
        },
        {
          "output_type": "stream",
          "name": "stdout",
          "text": [
            "Epoch 22: Average Energy = -5187216.6493, Average Loss = -5083212.9867\n"
          ]
        },
        {
          "output_type": "stream",
          "name": "stderr",
          "text": [
            "Epoch 23: 100%|██████████| 938/938 [00:36<00:00, 26.03batch/s, loss=-5.43e+6]\n"
          ]
        },
        {
          "output_type": "stream",
          "name": "stdout",
          "text": [
            "Epoch 23: Average Energy = -5428230.2180, Average Loss = -5319374.9861\n"
          ]
        },
        {
          "output_type": "stream",
          "name": "stderr",
          "text": [
            "Epoch 24: 100%|██████████| 938/938 [00:35<00:00, 26.16batch/s, loss=-5.67e+6]\n"
          ]
        },
        {
          "output_type": "stream",
          "name": "stdout",
          "text": [
            "Epoch 24: Average Energy = -5669241.1610, Average Loss = -5555578.6226\n"
          ]
        },
        {
          "output_type": "stream",
          "name": "stderr",
          "text": [
            "Epoch 25: 100%|██████████| 938/938 [00:35<00:00, 26.60batch/s, loss=-5.92e+6]\n"
          ]
        },
        {
          "output_type": "stream",
          "name": "stdout",
          "text": [
            "Epoch 25: Average Energy = -5910252.3289, Average Loss = -5791769.5912\n"
          ]
        },
        {
          "output_type": "stream",
          "name": "stderr",
          "text": [
            "Epoch 26: 100%|██████████| 938/938 [00:36<00:00, 25.97batch/s, loss=-6.15e+6]\n"
          ]
        },
        {
          "output_type": "stream",
          "name": "stdout",
          "text": [
            "Epoch 26: Average Energy = -6151277.4472, Average Loss = -6027924.9648\n"
          ]
        },
        {
          "output_type": "stream",
          "name": "stderr",
          "text": [
            "Epoch 27: 100%|██████████| 938/938 [00:35<00:00, 26.16batch/s, loss=-6.38e+6]\n"
          ]
        },
        {
          "output_type": "stream",
          "name": "stdout",
          "text": [
            "Epoch 27: Average Energy = -6392284.0208, Average Loss = -6264132.5853\n"
          ]
        },
        {
          "output_type": "stream",
          "name": "stderr",
          "text": [
            "Epoch 28: 100%|██████████| 938/938 [00:35<00:00, 26.76batch/s, loss=-6.63e+6]\n"
          ]
        },
        {
          "output_type": "stream",
          "name": "stdout",
          "text": [
            "Epoch 28: Average Energy = -6633296.7788, Average Loss = -6500284.6557\n"
          ]
        },
        {
          "output_type": "stream",
          "name": "stderr",
          "text": [
            "Epoch 29: 100%|██████████| 938/938 [00:36<00:00, 26.05batch/s, loss=-6.87e+6]\n"
          ]
        },
        {
          "output_type": "stream",
          "name": "stdout",
          "text": [
            "Epoch 29: Average Energy = -6874315.7639, Average Loss = -6736472.9654\n"
          ]
        },
        {
          "output_type": "stream",
          "name": "stderr",
          "text": [
            "Epoch 30: 100%|██████████| 938/938 [00:35<00:00, 26.10batch/s, loss=-7.08e+6]\n"
          ]
        },
        {
          "output_type": "stream",
          "name": "stdout",
          "text": [
            "Epoch 30: Average Energy = -7115328.2015, Average Loss = -6972620.4872\n"
          ]
        },
        {
          "output_type": "stream",
          "name": "stderr",
          "text": [
            "Epoch 31: 100%|██████████| 938/938 [00:35<00:00, 26.72batch/s, loss=-7.31e+6]\n"
          ]
        },
        {
          "output_type": "stream",
          "name": "stdout",
          "text": [
            "Epoch 31: Average Energy = -7356341.4350, Average Loss = -7208812.3300\n"
          ]
        },
        {
          "output_type": "stream",
          "name": "stderr",
          "text": [
            "Epoch 32: 100%|██████████| 938/938 [00:36<00:00, 25.95batch/s, loss=-7.53e+6]\n"
          ]
        },
        {
          "output_type": "stream",
          "name": "stdout",
          "text": [
            "Epoch 32: Average Energy = -7597354.8225, Average Loss = -7444970.8657\n"
          ]
        },
        {
          "output_type": "stream",
          "name": "stderr",
          "text": [
            "Epoch 33: 100%|██████████| 938/938 [00:36<00:00, 26.04batch/s, loss=-7.8e+6]\n"
          ]
        },
        {
          "output_type": "stream",
          "name": "stdout",
          "text": [
            "Epoch 33: Average Energy = -7838363.9190, Average Loss = -7681179.1748\n"
          ]
        },
        {
          "output_type": "stream",
          "name": "stderr",
          "text": [
            "Epoch 34: 100%|██████████| 938/938 [00:35<00:00, 26.30batch/s, loss=-8e+6]\n"
          ]
        },
        {
          "output_type": "stream",
          "name": "stdout",
          "text": [
            "Epoch 34: Average Energy = -8079379.0235, Average Loss = -7917312.9478\n"
          ]
        },
        {
          "output_type": "stream",
          "name": "stderr",
          "text": [
            "Epoch 35: 100%|██████████| 938/938 [00:35<00:00, 26.10batch/s, loss=-8.27e+6]\n"
          ]
        },
        {
          "output_type": "stream",
          "name": "stdout",
          "text": [
            "Epoch 35: Average Energy = -8320391.5235, Average Loss = -8153527.6407\n"
          ]
        },
        {
          "output_type": "stream",
          "name": "stderr",
          "text": [
            "Epoch 36: 100%|██████████| 938/938 [00:36<00:00, 25.84batch/s, loss=-8.5e+6]\n"
          ]
        },
        {
          "output_type": "stream",
          "name": "stdout",
          "text": [
            "Epoch 36: Average Energy = -8561390.8145, Average Loss = -8389646.1290\n"
          ]
        },
        {
          "output_type": "stream",
          "name": "stderr",
          "text": [
            "Epoch 37: 100%|██████████| 938/938 [00:36<00:00, 26.05batch/s, loss=-8.76e+6]\n"
          ]
        },
        {
          "output_type": "stream",
          "name": "stdout",
          "text": [
            "Epoch 37: Average Energy = -8802382.9712, Average Loss = -8625864.0437\n"
          ]
        },
        {
          "output_type": "stream",
          "name": "stderr",
          "text": [
            "Epoch 38: 100%|██████████| 938/938 [00:35<00:00, 26.41batch/s, loss=-8.95e+6]\n"
          ]
        },
        {
          "output_type": "stream",
          "name": "stdout",
          "text": [
            "Epoch 38: Average Energy = -9043378.1674, Average Loss = -8861973.2271\n"
          ]
        },
        {
          "output_type": "stream",
          "name": "stderr",
          "text": [
            "Epoch 39: 100%|██████████| 938/938 [00:36<00:00, 25.86batch/s, loss=-9.21e+6]\n"
          ]
        },
        {
          "output_type": "stream",
          "name": "stdout",
          "text": [
            "Epoch 39: Average Energy = -9284382.2292, Average Loss = -9098134.0203\n"
          ]
        },
        {
          "output_type": "stream",
          "name": "stderr",
          "text": [
            "Epoch 40: 100%|██████████| 938/938 [00:36<00:00, 25.86batch/s, loss=-9.45e+6]\n"
          ]
        },
        {
          "output_type": "stream",
          "name": "stdout",
          "text": [
            "Epoch 40: Average Energy = -9525377.8934, Average Loss = -9334318.4243\n"
          ]
        },
        {
          "output_type": "stream",
          "name": "stderr",
          "text": [
            "Epoch 41: 100%|██████████| 938/938 [00:35<00:00, 26.51batch/s, loss=-9.69e+6]\n"
          ]
        },
        {
          "output_type": "stream",
          "name": "stdout",
          "text": [
            "Epoch 41: Average Energy = -9766377.7260, Average Loss = -9570434.7633\n"
          ]
        },
        {
          "output_type": "stream",
          "name": "stderr",
          "text": [
            "Epoch 42: 100%|██████████| 938/938 [00:36<00:00, 25.87batch/s, loss=-9.91e+6]\n"
          ]
        },
        {
          "output_type": "stream",
          "name": "stdout",
          "text": [
            "Epoch 42: Average Energy = -10007376.4382, Average Loss = -9806651.4787\n"
          ]
        },
        {
          "output_type": "stream",
          "name": "stderr",
          "text": [
            "Epoch 43: 100%|██████████| 938/938 [00:36<00:00, 25.79batch/s, loss=-1.02e+7]\n"
          ]
        },
        {
          "output_type": "stream",
          "name": "stdout",
          "text": [
            "Epoch 43: Average Energy = -10248369.8753, Average Loss = -10042815.1023\n"
          ]
        },
        {
          "output_type": "stream",
          "name": "stderr",
          "text": [
            "Epoch 44: 100%|██████████| 938/938 [00:35<00:00, 26.13batch/s, loss=-1.04e+7]\n"
          ]
        },
        {
          "output_type": "stream",
          "name": "stdout",
          "text": [
            "Epoch 44: Average Energy = -10489366.1237, Average Loss = -10278935.2740\n"
          ]
        },
        {
          "output_type": "stream",
          "name": "stderr",
          "text": [
            "Epoch 45: 100%|██████████| 938/938 [00:35<00:00, 26.08batch/s, loss=-1.06e+7]\n"
          ]
        },
        {
          "output_type": "stream",
          "name": "stdout",
          "text": [
            "Epoch 45: Average Energy = -10730371.0437, Average Loss = -10515147.9989\n"
          ]
        },
        {
          "output_type": "stream",
          "name": "stderr",
          "text": [
            "Epoch 46: 100%|██████████| 938/938 [00:36<00:00, 25.87batch/s, loss=-1.09e+7]\n"
          ]
        },
        {
          "output_type": "stream",
          "name": "stdout",
          "text": [
            "Epoch 46: Average Energy = -10971365.7228, Average Loss = -10751292.5661\n"
          ]
        },
        {
          "output_type": "stream",
          "name": "stderr",
          "text": [
            "Epoch 47: 100%|██████████| 938/938 [00:35<00:00, 26.06batch/s, loss=-1.12e+7]\n"
          ]
        },
        {
          "output_type": "stream",
          "name": "stdout",
          "text": [
            "Epoch 47: Average Energy = -11212369.0139, Average Loss = -10987453.1493\n"
          ]
        },
        {
          "output_type": "stream",
          "name": "stderr",
          "text": [
            "Epoch 48: 100%|██████████| 938/938 [00:35<00:00, 26.43batch/s, loss=-1.13e+7]\n"
          ]
        },
        {
          "output_type": "stream",
          "name": "stdout",
          "text": [
            "Epoch 48: Average Energy = -11453357.2154, Average Loss = -11223613.8689\n"
          ]
        },
        {
          "output_type": "stream",
          "name": "stderr",
          "text": [
            "Epoch 49: 100%|██████████| 938/938 [00:36<00:00, 25.91batch/s, loss=-1.15e+7]\n"
          ]
        },
        {
          "output_type": "stream",
          "name": "stdout",
          "text": [
            "Epoch 49: Average Energy = -11694354.3571, Average Loss = -11459724.3955\n"
          ]
        },
        {
          "output_type": "stream",
          "name": "stderr",
          "text": [
            "Epoch 50: 100%|██████████| 938/938 [00:36<00:00, 25.84batch/s, loss=-1.18e+7]\n"
          ]
        },
        {
          "output_type": "stream",
          "name": "stdout",
          "text": [
            "Epoch 50: Average Energy = -11935359.8358, Average Loss = -11695894.0416\n"
          ]
        },
        {
          "output_type": "stream",
          "name": "stderr",
          "text": [
            "Epoch 51: 100%|██████████| 938/938 [00:35<00:00, 26.48batch/s, loss=-1.21e+7]\n"
          ]
        },
        {
          "output_type": "stream",
          "name": "stdout",
          "text": [
            "Epoch 51: Average Energy = -12176360.9158, Average Loss = -11932036.4893\n"
          ]
        },
        {
          "output_type": "stream",
          "name": "stderr",
          "text": [
            "Epoch 52: 100%|██████████| 938/938 [00:36<00:00, 25.61batch/s, loss=-1.23e+7]\n"
          ]
        },
        {
          "output_type": "stream",
          "name": "stdout",
          "text": [
            "Epoch 52: Average Energy = -12417344.5458, Average Loss = -12168257.2665\n"
          ]
        },
        {
          "output_type": "stream",
          "name": "stderr",
          "text": [
            "Epoch 53: 100%|██████████| 938/938 [00:36<00:00, 25.81batch/s, loss=-1.25e+7]\n"
          ]
        },
        {
          "output_type": "stream",
          "name": "stdout",
          "text": [
            "Epoch 53: Average Energy = -12658354.7463, Average Loss = -12404422.9691\n"
          ]
        },
        {
          "output_type": "stream",
          "name": "stderr",
          "text": [
            "Epoch 54: 100%|██████████| 938/938 [00:35<00:00, 26.13batch/s, loss=-1.28e+7]\n"
          ]
        },
        {
          "output_type": "stream",
          "name": "stdout",
          "text": [
            "Epoch 54: Average Energy = -12899344.7687, Average Loss = -12640564.5810\n"
          ]
        },
        {
          "output_type": "stream",
          "name": "stderr",
          "text": [
            "Epoch 55: 100%|██████████| 938/938 [00:35<00:00, 26.15batch/s, loss=-1.3e+7]\n"
          ]
        },
        {
          "output_type": "stream",
          "name": "stdout",
          "text": [
            "Epoch 55: Average Energy = -13140351.2846, Average Loss = -12876680.2868\n"
          ]
        },
        {
          "output_type": "stream",
          "name": "stderr",
          "text": [
            "Epoch 56: 100%|██████████| 938/938 [00:36<00:00, 25.82batch/s, loss=-1.32e+7]\n"
          ]
        },
        {
          "output_type": "stream",
          "name": "stdout",
          "text": [
            "Epoch 56: Average Energy = -13381340.4072, Average Loss = -13112893.6684\n"
          ]
        },
        {
          "output_type": "stream",
          "name": "stderr",
          "text": [
            "Epoch 57: 100%|██████████| 938/938 [00:36<00:00, 25.85batch/s, loss=-1.35e+7]\n"
          ]
        },
        {
          "output_type": "stream",
          "name": "stdout",
          "text": [
            "Epoch 57: Average Energy = -13622342.9254, Average Loss = -13349051.3635\n"
          ]
        },
        {
          "output_type": "stream",
          "name": "stderr",
          "text": [
            "Epoch 58: 100%|██████████| 938/938 [00:35<00:00, 26.42batch/s, loss=-1.38e+7]\n"
          ]
        },
        {
          "output_type": "stream",
          "name": "stdout",
          "text": [
            "Epoch 58: Average Energy = -13863339.0085, Average Loss = -13585276.5000\n"
          ]
        },
        {
          "output_type": "stream",
          "name": "stderr",
          "text": [
            "Epoch 59: 100%|██████████| 938/938 [00:36<00:00, 25.84batch/s, loss=-1.4e+7]\n"
          ]
        },
        {
          "output_type": "stream",
          "name": "stdout",
          "text": [
            "Epoch 59: Average Energy = -14104336.5203, Average Loss = -13821359.2431\n"
          ]
        },
        {
          "output_type": "stream",
          "name": "stderr",
          "text": [
            "Epoch 60: 100%|██████████| 938/938 [00:36<00:00, 25.72batch/s, loss=-1.42e+7]\n"
          ]
        },
        {
          "output_type": "stream",
          "name": "stdout",
          "text": [
            "Epoch 60: Average Energy = -14345333.3870, Average Loss = -14057532.3849\n"
          ]
        },
        {
          "output_type": "stream",
          "name": "stderr",
          "text": [
            "Epoch 61: 100%|██████████| 938/938 [00:35<00:00, 26.23batch/s, loss=-1.45e+7]\n"
          ]
        },
        {
          "output_type": "stream",
          "name": "stdout",
          "text": [
            "Epoch 61: Average Energy = -14586330.5778, Average Loss = -14293716.3507\n"
          ]
        },
        {
          "output_type": "stream",
          "name": "stderr",
          "text": [
            "Epoch 62: 100%|██████████| 938/938 [00:36<00:00, 25.79batch/s, loss=-1.47e+7]\n"
          ]
        },
        {
          "output_type": "stream",
          "name": "stdout",
          "text": [
            "Epoch 62: Average Energy = -14827328.5021, Average Loss = -14529867.2964\n"
          ]
        },
        {
          "output_type": "stream",
          "name": "stderr",
          "text": [
            "Epoch 63: 100%|██████████| 938/938 [00:36<00:00, 25.79batch/s, loss=-1.48e+7]\n"
          ]
        },
        {
          "output_type": "stream",
          "name": "stdout",
          "text": [
            "Epoch 63: Average Energy = -15068332.0842, Average Loss = -14766003.5160\n"
          ]
        },
        {
          "output_type": "stream",
          "name": "stderr",
          "text": [
            "Epoch 64: 100%|██████████| 938/938 [00:36<00:00, 25.91batch/s, loss=-1.51e+7]\n"
          ]
        },
        {
          "output_type": "stream",
          "name": "stdout",
          "text": [
            "Epoch 64: Average Energy = -15309322.5362, Average Loss = -15002171.2090\n"
          ]
        },
        {
          "output_type": "stream",
          "name": "stderr",
          "text": [
            "Epoch 65: 100%|██████████| 938/938 [00:35<00:00, 26.16batch/s, loss=-1.54e+7]\n"
          ]
        },
        {
          "output_type": "stream",
          "name": "stdout",
          "text": [
            "Epoch 65: Average Energy = -15550324.7196, Average Loss = -15238347.5362\n"
          ]
        },
        {
          "output_type": "stream",
          "name": "stderr",
          "text": [
            "Epoch 66: 100%|██████████| 938/938 [00:36<00:00, 25.65batch/s, loss=-1.56e+7]\n"
          ]
        },
        {
          "output_type": "stream",
          "name": "stdout",
          "text": [
            "Epoch 66: Average Energy = -15791320.0949, Average Loss = -15474508.3422\n"
          ]
        },
        {
          "output_type": "stream",
          "name": "stderr",
          "text": [
            "Epoch 67: 100%|██████████| 938/938 [00:36<00:00, 25.74batch/s, loss=-1.58e+7]\n"
          ]
        },
        {
          "output_type": "stream",
          "name": "stdout",
          "text": [
            "Epoch 67: Average Energy = -16032318.7026, Average Loss = -15710597.2719\n"
          ]
        },
        {
          "output_type": "stream",
          "name": "stderr",
          "text": [
            "Epoch 68: 100%|██████████| 938/938 [00:36<00:00, 25.94batch/s, loss=-1.61e+7]\n"
          ]
        },
        {
          "output_type": "stream",
          "name": "stdout",
          "text": [
            "Epoch 68: Average Energy = -16273318.1322, Average Loss = -15946802.6919\n"
          ]
        },
        {
          "output_type": "stream",
          "name": "stderr",
          "text": [
            "Epoch 69: 100%|██████████| 938/938 [00:37<00:00, 24.98batch/s, loss=-1.63e+7]\n"
          ]
        },
        {
          "output_type": "stream",
          "name": "stdout",
          "text": [
            "Epoch 69: Average Energy = -16514307.7399, Average Loss = -16182952.9414\n"
          ]
        },
        {
          "output_type": "stream",
          "name": "stderr",
          "text": [
            "Epoch 70: 100%|██████████| 938/938 [00:37<00:00, 25.34batch/s, loss=-1.65e+7]\n"
          ]
        },
        {
          "output_type": "stream",
          "name": "stdout",
          "text": [
            "Epoch 70: Average Energy = -16755294.9595, Average Loss = -16419082.6631\n"
          ]
        },
        {
          "output_type": "stream",
          "name": "stderr",
          "text": [
            "Epoch 71: 100%|██████████| 938/938 [00:36<00:00, 25.84batch/s, loss=-1.68e+7]\n"
          ]
        },
        {
          "output_type": "stream",
          "name": "stdout",
          "text": [
            "Epoch 71: Average Energy = -16996274.5394, Average Loss = -16655333.2708\n"
          ]
        },
        {
          "output_type": "stream",
          "name": "stderr",
          "text": [
            "Epoch 72: 100%|██████████| 938/938 [00:36<00:00, 25.88batch/s, loss=-1.7e+7]\n"
          ]
        },
        {
          "output_type": "stream",
          "name": "stdout",
          "text": [
            "Epoch 72: Average Energy = -17237266.1727, Average Loss = -16891402.8006\n"
          ]
        },
        {
          "output_type": "stream",
          "name": "stderr",
          "text": [
            "Epoch 73: 100%|██████████| 938/938 [00:36<00:00, 25.50batch/s, loss=-1.73e+7]\n"
          ]
        },
        {
          "output_type": "stream",
          "name": "stdout",
          "text": [
            "Epoch 73: Average Energy = -17478244.5608, Average Loss = -17127566.3369\n"
          ]
        },
        {
          "output_type": "stream",
          "name": "stderr",
          "text": [
            "Epoch 74: 100%|██████████| 938/938 [00:36<00:00, 25.63batch/s, loss=-1.75e+7]\n"
          ]
        },
        {
          "output_type": "stream",
          "name": "stdout",
          "text": [
            "Epoch 74: Average Energy = -17719224.7996, Average Loss = -17363669.5117\n"
          ]
        },
        {
          "output_type": "stream",
          "name": "stderr",
          "text": [
            "Epoch 75: 100%|██████████| 938/938 [00:35<00:00, 26.25batch/s, loss=-1.78e+7]\n"
          ]
        },
        {
          "output_type": "stream",
          "name": "stdout",
          "text": [
            "Epoch 75: Average Energy = -17960213.2452, Average Loss = -17599869.0554\n"
          ]
        },
        {
          "output_type": "stream",
          "name": "stderr",
          "text": [
            "Epoch 76: 100%|██████████| 938/938 [00:36<00:00, 25.67batch/s, loss=-1.8e+7]\n"
          ]
        },
        {
          "output_type": "stream",
          "name": "stdout",
          "text": [
            "Epoch 76: Average Energy = -18201196.4520, Average Loss = -17836070.7783\n"
          ]
        },
        {
          "output_type": "stream",
          "name": "stderr",
          "text": [
            "Epoch 77: 100%|██████████| 938/938 [00:36<00:00, 25.60batch/s, loss=-1.81e+7]\n"
          ]
        },
        {
          "output_type": "stream",
          "name": "stdout",
          "text": [
            "Epoch 77: Average Energy = -18442189.1343, Average Loss = -18072063.6674\n"
          ]
        },
        {
          "output_type": "stream",
          "name": "stderr",
          "text": [
            "Epoch 78: 100%|██████████| 938/938 [00:36<00:00, 25.44batch/s, loss=-1.84e+7]\n"
          ]
        },
        {
          "output_type": "stream",
          "name": "stdout",
          "text": [
            "Epoch 78: Average Energy = -18683162.6461, Average Loss = -18308282.1812\n"
          ]
        },
        {
          "output_type": "stream",
          "name": "stderr",
          "text": [
            "Epoch 79: 100%|██████████| 938/938 [00:36<00:00, 25.99batch/s, loss=-1.86e+7]\n"
          ]
        },
        {
          "output_type": "stream",
          "name": "stdout",
          "text": [
            "Epoch 79: Average Energy = -18924153.7612, Average Loss = -18544408.5416\n"
          ]
        },
        {
          "output_type": "stream",
          "name": "stderr",
          "text": [
            "Epoch 80: 100%|██████████| 938/938 [00:36<00:00, 25.62batch/s, loss=-1.89e+7]\n"
          ]
        },
        {
          "output_type": "stream",
          "name": "stdout",
          "text": [
            "Epoch 80: Average Energy = -19165135.9104, Average Loss = -18780559.1450\n"
          ]
        },
        {
          "output_type": "stream",
          "name": "stderr",
          "text": [
            "Epoch 81: 100%|██████████| 938/938 [00:36<00:00, 25.71batch/s, loss=-1.91e+7]\n"
          ]
        },
        {
          "output_type": "stream",
          "name": "stdout",
          "text": [
            "Epoch 81: Average Energy = -19406115.5864, Average Loss = -19016644.9915\n"
          ]
        },
        {
          "output_type": "stream",
          "name": "stderr",
          "text": [
            "Epoch 82: 100%|██████████| 938/938 [00:35<00:00, 26.24batch/s, loss=-1.94e+7]\n"
          ]
        },
        {
          "output_type": "stream",
          "name": "stdout",
          "text": [
            "Epoch 82: Average Energy = -19647101.5778, Average Loss = -19252831.1130\n"
          ]
        },
        {
          "output_type": "stream",
          "name": "stderr",
          "text": [
            "Epoch 83: 100%|██████████| 938/938 [00:36<00:00, 25.60batch/s, loss=-1.95e+7]\n"
          ]
        },
        {
          "output_type": "stream",
          "name": "stdout",
          "text": [
            "Epoch 83: Average Energy = -19888084.5778, Average Loss = -19488995.3838\n"
          ]
        },
        {
          "output_type": "stream",
          "name": "stderr",
          "text": [
            "Epoch 84: 100%|██████████| 938/938 [00:36<00:00, 25.63batch/s, loss=-1.98e+7]\n"
          ]
        },
        {
          "output_type": "stream",
          "name": "stdout",
          "text": [
            "Epoch 84: Average Energy = -20129074.8614, Average Loss = -19725141.7356\n"
          ]
        },
        {
          "output_type": "stream",
          "name": "stderr",
          "text": [
            "Epoch 85: 100%|██████████| 938/938 [00:36<00:00, 25.96batch/s, loss=-2.01e+7]\n"
          ]
        },
        {
          "output_type": "stream",
          "name": "stdout",
          "text": [
            "Epoch 85: Average Energy = -20370050.5522, Average Loss = -19961330.6141\n"
          ]
        },
        {
          "output_type": "stream",
          "name": "stderr",
          "text": [
            "Epoch 86: 100%|██████████| 938/938 [00:36<00:00, 25.74batch/s, loss=-2.04e+7]\n"
          ]
        },
        {
          "output_type": "stream",
          "name": "stdout",
          "text": [
            "Epoch 86: Average Energy = -20611039.7761, Average Loss = -20197563.9382\n"
          ]
        },
        {
          "output_type": "stream",
          "name": "stderr",
          "text": [
            "Epoch 87: 100%|██████████| 938/938 [00:36<00:00, 25.50batch/s, loss=-2.05e+7]\n"
          ]
        },
        {
          "output_type": "stream",
          "name": "stdout",
          "text": [
            "Epoch 87: Average Energy = -20852025.6119, Average Loss = -20433568.7719\n"
          ]
        },
        {
          "output_type": "stream",
          "name": "stderr",
          "text": [
            "Epoch 88: 100%|██████████| 938/938 [00:37<00:00, 25.31batch/s, loss=-2.07e+7]\n"
          ]
        },
        {
          "output_type": "stream",
          "name": "stdout",
          "text": [
            "Epoch 88: Average Energy = -21093010.8081, Average Loss = -20669679.4819\n"
          ]
        },
        {
          "output_type": "stream",
          "name": "stderr",
          "text": [
            "Epoch 89: 100%|██████████| 938/938 [00:36<00:00, 25.95batch/s, loss=-2.1e+7]\n"
          ]
        },
        {
          "output_type": "stream",
          "name": "stdout",
          "text": [
            "Epoch 89: Average Energy = -21333988.6141, Average Loss = -20905876.1151\n"
          ]
        },
        {
          "output_type": "stream",
          "name": "stderr",
          "text": [
            "Epoch 90: 100%|██████████| 938/938 [00:36<00:00, 25.39batch/s, loss=-2.13e+7]\n"
          ]
        },
        {
          "output_type": "stream",
          "name": "stdout",
          "text": [
            "Epoch 90: Average Energy = -21574971.3433, Average Loss = -21142100.0320\n"
          ]
        },
        {
          "output_type": "stream",
          "name": "stderr",
          "text": [
            "Epoch 91: 100%|██████████| 938/938 [00:36<00:00, 25.49batch/s, loss=-2.15e+7]\n"
          ]
        },
        {
          "output_type": "stream",
          "name": "stdout",
          "text": [
            "Epoch 91: Average Energy = -21815959.6013, Average Loss = -21378170.4478\n"
          ]
        },
        {
          "output_type": "stream",
          "name": "stderr",
          "text": [
            "Epoch 92: 100%|██████████| 938/938 [00:35<00:00, 26.07batch/s, loss=-2.17e+7]\n"
          ]
        },
        {
          "output_type": "stream",
          "name": "stdout",
          "text": [
            "Epoch 92: Average Energy = -22056936.8870, Average Loss = -21614343.0469\n"
          ]
        },
        {
          "output_type": "stream",
          "name": "stderr",
          "text": [
            "Epoch 93: 100%|██████████| 938/938 [00:36<00:00, 25.46batch/s, loss=-2.2e+7]\n"
          ]
        },
        {
          "output_type": "stream",
          "name": "stdout",
          "text": [
            "Epoch 93: Average Energy = -22297929.8806, Average Loss = -21850453.2367\n"
          ]
        },
        {
          "output_type": "stream",
          "name": "stderr",
          "text": [
            "Epoch 94: 100%|██████████| 938/938 [00:36<00:00, 25.56batch/s, loss=-2.22e+7]\n"
          ]
        },
        {
          "output_type": "stream",
          "name": "stdout",
          "text": [
            "Epoch 94: Average Energy = -22538917.7548, Average Loss = -22086654.6908\n"
          ]
        },
        {
          "output_type": "stream",
          "name": "stderr",
          "text": [
            "Epoch 95: 100%|██████████| 938/938 [00:37<00:00, 25.18batch/s, loss=-2.25e+7]\n"
          ]
        },
        {
          "output_type": "stream",
          "name": "stdout",
          "text": [
            "Epoch 95: Average Energy = -22779896.4179, Average Loss = -22322743.1066\n"
          ]
        },
        {
          "output_type": "stream",
          "name": "stderr",
          "text": [
            "Epoch 96: 100%|██████████| 938/938 [00:36<00:00, 25.40batch/s, loss=-2.27e+7]\n"
          ]
        },
        {
          "output_type": "stream",
          "name": "stdout",
          "text": [
            "Epoch 96: Average Energy = -23020875.0640, Average Loss = -22558911.8465\n"
          ]
        },
        {
          "output_type": "stream",
          "name": "stderr",
          "text": [
            "Epoch 97: 100%|██████████| 938/938 [00:37<00:00, 25.00batch/s, loss=-2.3e+7]\n"
          ]
        },
        {
          "output_type": "stream",
          "name": "stdout",
          "text": [
            "Epoch 97: Average Energy = -23261863.2878, Average Loss = -22795072.9254\n"
          ]
        },
        {
          "output_type": "stream",
          "name": "stderr",
          "text": [
            "Epoch 98: 100%|██████████| 938/938 [00:37<00:00, 24.81batch/s, loss=-2.3e+7]\n"
          ]
        },
        {
          "output_type": "stream",
          "name": "stdout",
          "text": [
            "Epoch 98: Average Energy = -23502853.6461, Average Loss = -23031134.0896\n"
          ]
        },
        {
          "output_type": "stream",
          "name": "stderr",
          "text": [
            "Epoch 99: 100%|██████████| 938/938 [00:36<00:00, 25.48batch/s, loss=-2.35e+7]\n"
          ]
        },
        {
          "output_type": "stream",
          "name": "stdout",
          "text": [
            "Epoch 99: Average Energy = -23743826.2026, Average Loss = -23267373.5011\n"
          ]
        },
        {
          "output_type": "stream",
          "name": "stderr",
          "text": [
            "Epoch 100: 100%|██████████| 938/938 [00:36<00:00, 25.91batch/s, loss=-2.35e+7]"
          ]
        },
        {
          "output_type": "stream",
          "name": "stdout",
          "text": [
            "Epoch 100: Average Energy = -23984816.6226, Average Loss = -23503464.4158\n"
          ]
        },
        {
          "output_type": "stream",
          "name": "stderr",
          "text": [
            "\n"
          ]
        }
      ]
    },
    {
      "cell_type": "markdown",
      "source": [
        "### Evaluation\n"
      ],
      "metadata": {
        "id": "C9VV091Kyc-n"
      }
    },
    {
      "cell_type": "code",
      "source": [
        "import torch\n",
        "import torch.nn as nn\n",
        "from torch.utils.data import DataLoader\n",
        "from torchvision import datasets, transforms\n",
        "from tqdm import tqdm\n",
        "\n",
        "# Load MNIST test dataset\n",
        "test_dataset = datasets.MNIST(\n",
        "    root=\"./data\", train=False, download=True, transform=transforms.ToTensor()\n",
        ")\n",
        "test_loader = torch.utils.data.DataLoader(test_dataset, batch_size=64, shuffle=False)\n",
        "\n",
        "# Evaluate the model\n",
        "def evaluate(model, test_loader):\n",
        "    model.eval()  # Set the model to evaluation mode\n",
        "    test_loss = 0\n",
        "    with torch.no_grad():\n",
        "        for data, _ in test_loader:\n",
        "            # Flatten the input data\n",
        "            data = data.view(data.size(0), -1)\n",
        "            # Update the state using the model\n",
        "            updated_state = model(data)\n",
        "            # Calculate the energy of the updated state\n",
        "            test_loss += torch.mean(model.energy(updated_state)).item()\n",
        "\n",
        "    test_loss /= len(test_loader)\n",
        "    print(f\"Eval Loss: {test_loss:.4f}\")\n",
        "\n",
        "# Assuming 'model' is your trained HopfieldNetwork instance\n",
        "evaluate(model, test_loader)"
      ],
      "metadata": {
        "colab": {
          "base_uri": "https://localhost:8080/"
        },
        "id": "voD4HZJBa8qu",
        "outputId": "6da11821-d4bb-42c4-c943-a927b82d9edd"
      },
      "execution_count": 18,
      "outputs": [
        {
          "output_type": "stream",
          "name": "stdout",
          "text": [
            "Eval Loss: -24105438.0127\n"
          ]
        }
      ]
    },
    {
      "cell_type": "code",
      "source": [
        "import matplotlib.pyplot as plt\n",
        "\n",
        "\n",
        "# Get a batch of test data\n",
        "data_iter = iter(test_loader)\n",
        "images, labels = next(data_iter)\n",
        "\n",
        "# Flatten and pass through the model\n",
        "flattened_images = images.view(images.size(0), -1)\n",
        "updated_states = model(flattened_images)\n",
        "\n",
        "# Reshape updated states back to images\n",
        "reconstructed_images = updated_states.view(-1, 28, 28)\n",
        "\n",
        "# Plot some reconstructed images\n",
        "fig, axes = plt.subplots(nrows=2, ncols=5, figsize=(10, 5))\n",
        "for i, ax in enumerate(axes.flat):\n",
        "    ax.imshow(reconstructed_images[i].detach().numpy(), cmap='gray')\n",
        "    ax.set_title(f\"Label: {labels[i]}\")\n",
        "    ax.axis('off')\n",
        "plt.show()"
      ],
      "metadata": {
        "colab": {
          "base_uri": "https://localhost:8080/",
          "height": 402
        },
        "id": "3Wo9PB2NbMbC",
        "outputId": "1a8417af-b167-4312-83cd-fb249dc6d77f"
      },
      "execution_count": 19,
      "outputs": [
        {
          "output_type": "display_data",
          "data": {
            "text/plain": [
              "<Figure size 1000x500 with 10 Axes>"
            ],
            "image/png": "[encoded data removed]"
          },
          "metadata": {}
        }
      ]
    },
    {
      "cell_type": "markdown",
      "source": [
        "## Restricted Boltzmann Machine - RBM"
      ],
      "metadata": {
        "id": "VK8jWu2jdoi-"
      }
    },
    {
      "cell_type": "markdown",
      "source": [
        "### Training & Evaluation"
      ],
      "metadata": {
        "id": "4rccKUBNy_NL"
      }
    },
    {
      "cell_type": "code",
      "source": [
        "import torch\n",
        "import torch.nn as nn\n",
        "import torch.nn.functional as F\n",
        "from torch.utils.data import DataLoader\n",
        "from torchvision import datasets, transforms\n",
        "from tqdm import tqdm\n",
        "\n",
        "class RBM(nn.Module):\n",
        "    def __init__(self, num_visible, num_hidden):\n",
        "        super(RBM, self).__init__()\n",
        "        self.W = nn.Parameter(torch.randn(num_hidden, num_visible) * 0.01)\n",
        "        self.v_bias = nn.Parameter(torch.zeros(num_visible))\n",
        "        self.h_bias = nn.Parameter(torch.zeros(num_hidden))\n",
        "\n",
        "    def sample_h(self, v):\n",
        "        p_h_given_v = torch.sigmoid(F.linear(v, self.W, self.h_bias))\n",
        "        return torch.bernoulli(p_h_given_v)\n",
        "\n",
        "    def sample_v(self, h):\n",
        "        p_v_given_h = torch.sigmoid(F.linear(h, self.W.t(), self.v_bias))\n",
        "        return torch.bernoulli(p_v_given_h)\n",
        "\n",
        "    def energy(self, v, h):\n",
        "        vWh = torch.matmul(torch.matmul(v, self.W.t()), h.t())\n",
        "        return -torch.sum(vWh) - torch.matmul(v, self.v_bias) - torch.matmul(h, self.h_bias)\n",
        "\n",
        "    def forward(self, v, k=1):\n",
        "        h = self.sample_h(v)\n",
        "        for _ in range(k):\n",
        "            v_recon = self.sample_v(h)\n",
        "            h = self.sample_h(v_recon)\n",
        "        return v_recon, h\n",
        "\n",
        "# Hyperparameters\n",
        "num_epochs = 20\n",
        "k = 5  # Number of CD steps\n",
        "num_visible = 784\n",
        "num_hidden = 500\n",
        "learning_rate = 0.0001  # Reduced learning rate\n",
        "alpha = 0.01\n",
        "weight_decay = 1e-5\n",
        "\n",
        "# Data augmentation transforms\n",
        "transform = transforms.Compose([\n",
        "    transforms.RandomRotation(10),\n",
        "    transforms.RandomHorizontalFlip(),\n",
        "    transforms.ToTensor(),\n",
        "    transforms.Normalize((0.1307,), (0.3081,))\n",
        "])\n",
        "\n",
        "\n",
        "# Define datasets and dataloaders\n",
        "train_data = datasets.MNIST(\n",
        "    root='./data',\n",
        "    train=True,\n",
        "    download=True,\n",
        "    transform=transform\n",
        ")\n",
        "train_loader = DataLoader(train_data, batch_size=64, shuffle=True)\n",
        "\n",
        "validation_data = datasets.MNIST(\n",
        "    root='./data',\n",
        "    train=False,\n",
        "    download=True,\n",
        "    transform=transforms.ToTensor()\n",
        ")\n",
        "validation_loader = DataLoader(validation_data, batch_size=64, shuffle=False)\n",
        "\n",
        "# Define the RBM model\n",
        "model = RBM(num_visible, num_hidden)\n",
        "\n",
        "# Define the optimizer with learning rate scheduling\n",
        "optimizer = torch.optim.Adam(model.parameters(), lr=learning_rate, weight_decay=weight_decay)\n",
        "scheduler = torch.optim.lr_scheduler.StepLR(optimizer, step_size=10, gamma=0.1)\n",
        "\n",
        "# Define the loss function\n",
        "def calculate_loss(v, v_recon, model, h):\n",
        "    return torch.mean(model.energy(v, h) - model.energy(v_recon, h)) + alpha * torch.mean(model.energy(v, h))\n",
        "\n",
        "# Training loop with early stopping and gradient clipping\n",
        "best_val_loss = float('inf')\n",
        "patience = 5\n",
        "epochs_without_improvement = 0\n",
        "clip_value = 5.0  # Gradient clipping value\n",
        "\n",
        "for epoch in range(num_epochs):\n",
        "    model.train()\n",
        "    epoch_loss = 0\n",
        "    with tqdm(train_loader, unit=\"batch\") as tepoch:\n",
        "        for batch_idx, (data, _) in enumerate(tepoch):\n",
        "            tepoch.set_description(f\"Epoch {epoch+1}\")\n",
        "            optimizer.zero_grad()\n",
        "            data = data.view(data.size(0), -1)\n",
        "            v_recon, h = model(data, k=k)\n",
        "\n",
        "            loss = calculate_loss(data, v_recon, model, h)\n",
        "            epoch_loss += loss.item()\n",
        "\n",
        "            loss.backward()\n",
        "            # Gradient clipping\n",
        "            torch.nn.utils.clip_grad_norm_(model.parameters(), clip_value)\n",
        "            optimizer.step()\n",
        "            tepoch.set_postfix(loss=loss.item())\n",
        "\n",
        "    scheduler.step()  # Adjust learning rate\n",
        "\n",
        "    avg_epoch_loss = epoch_loss / len(train_loader)\n",
        "    print(f\"Epoch {epoch+1}: Average Training Loss = {avg_epoch_loss:.4f}\")\n",
        "\n",
        "    # Evaluate on validation set\n",
        "    model.eval()\n",
        "    val_loss = 0\n",
        "    with torch.no_grad():\n",
        "        for data, _ in validation_loader:\n",
        "            data = data.view(data.size(0), -1)\n",
        "            v_recon, h = model(data, k=k)\n",
        "            val_loss += calculate_loss(data, v_recon, model, h).item()\n",
        "    val_loss /= len(validation_loader)\n",
        "    print(f\"Epoch {epoch+1}: Validation Loss = {val_loss:.4f}\")\n",
        "\n",
        "    if val_loss < best_val_loss:\n",
        "        best_val_loss = val_loss\n",
        "        epochs_without_improvement = 0\n",
        "        torch.save(model.state_dict(), 'best_model.pth')\n",
        "    else:\n",
        "        epochs_without_improvement += 1\n",
        "        if epochs_without_improvement >= patience:\n",
        "            print(\"Early stopping triggered.\")\n",
        "            break\n",
        "\n",
        "# Load the best model\n",
        "model.load_state_dict(torch.load('best_model.pth'))\n",
        "\n",
        "# Evaluate on the test set\n",
        "test_data = datasets.MNIST(\n",
        "    root='./data',\n",
        "    train=False,\n",
        "    download=True,\n",
        "    transform=transforms.ToTensor()\n",
        ")\n",
        "test_loader = DataLoader(test_data, batch_size=64, shuffle=False)\n",
        "\n",
        "def evaluate(model, test_loader, k=1):\n",
        "    model.eval()\n",
        "    test_loss = 0\n",
        "    with torch.no_grad():\n",
        "        for data, _ in test_loader:\n",
        "            data = data.view(data.size(0), -1)\n",
        "            v_recon, h = model(data, k=k)\n",
        "            test_loss += calculate_loss(data, v_recon, model, h).item()\n",
        "    test_loss /= len(test_loader)\n",
        "    print(f\"Test Loss: {test_loss:.4f}\")\n",
        "\n",
        "evaluate(model, test_loader)"
      ],
      "metadata": {
        "colab": {
          "base_uri": "https://localhost:8080/"
        },
        "id": "UfYRL32dcVXN",
        "outputId": "c31bd435-c67b-4277-f01c-4a076b6442c0"
      },
      "execution_count": 27,
      "outputs": [
        {
          "output_type": "stream",
          "name": "stderr",
          "text": [
            "Epoch 1: 100%|██████████| 938/938 [01:25<00:00, 11.00batch/s, loss=-8.07e+6]\n"
          ]
        },
        {
          "output_type": "stream",
          "name": "stdout",
          "text": [
            "Epoch 1: Average Training Loss = -14838869.9950\n",
            "Epoch 1: Validation Loss = 3549222.9510\n"
          ]
        },
        {
          "output_type": "stream",
          "name": "stderr",
          "text": [
            "Epoch 2: 100%|██████████| 938/938 [01:23<00:00, 11.21batch/s, loss=-1.71e+7]\n"
          ]
        },
        {
          "output_type": "stream",
          "name": "stdout",
          "text": [
            "Epoch 2: Average Training Loss = -50195232.7953\n",
            "Epoch 2: Validation Loss = 5215057.8221\n"
          ]
        },
        {
          "output_type": "stream",
          "name": "stderr",
          "text": [
            "Epoch 3: 100%|██████████| 938/938 [01:23<00:00, 11.28batch/s, loss=-2.57e+7]\n"
          ]
        },
        {
          "output_type": "stream",
          "name": "stdout",
          "text": [
            "Epoch 3: Average Training Loss = -86555093.9701\n",
            "Epoch 3: Validation Loss = 3764425.7818\n"
          ]
        },
        {
          "output_type": "stream",
          "name": "stderr",
          "text": [
            "Epoch 4: 100%|██████████| 938/938 [01:23<00:00, 11.24batch/s, loss=-3.41e+7]\n"
          ]
        },
        {
          "output_type": "stream",
          "name": "stdout",
          "text": [
            "Epoch 4: Average Training Loss = -121987078.1450\n",
            "Epoch 4: Validation Loss = 1434318.1073\n"
          ]
        },
        {
          "output_type": "stream",
          "name": "stderr",
          "text": [
            "Epoch 5: 100%|██████████| 938/938 [01:22<00:00, 11.38batch/s, loss=-4.41e+7]\n"
          ]
        },
        {
          "output_type": "stream",
          "name": "stdout",
          "text": [
            "Epoch 5: Average Training Loss = -157046345.6759\n",
            "Epoch 5: Validation Loss = -2092406.7801\n"
          ]
        },
        {
          "output_type": "stream",
          "name": "stderr",
          "text": [
            "Epoch 6: 100%|██████████| 938/938 [01:23<00:00, 11.28batch/s, loss=-5.13e+7]\n"
          ]
        },
        {
          "output_type": "stream",
          "name": "stdout",
          "text": [
            "Epoch 6: Average Training Loss = -192033546.2900\n",
            "Epoch 6: Validation Loss = -5700181.5756\n"
          ]
        },
        {
          "output_type": "stream",
          "name": "stderr",
          "text": [
            "Epoch 7: 100%|██████████| 938/938 [01:23<00:00, 11.29batch/s, loss=-6.32e+7]\n"
          ]
        },
        {
          "output_type": "stream",
          "name": "stdout",
          "text": [
            "Epoch 7: Average Training Loss = -226938965.8550\n",
            "Epoch 7: Validation Loss = -10070089.6981\n"
          ]
        },
        {
          "output_type": "stream",
          "name": "stderr",
          "text": [
            "Epoch 8: 100%|██████████| 938/938 [01:23<00:00, 11.25batch/s, loss=-7.18e+7]\n"
          ]
        },
        {
          "output_type": "stream",
          "name": "stdout",
          "text": [
            "Epoch 8: Average Training Loss = -261896264.8017\n",
            "Epoch 8: Validation Loss = -14098165.6330\n"
          ]
        },
        {
          "output_type": "stream",
          "name": "stderr",
          "text": [
            "Epoch 9: 100%|██████████| 938/938 [01:22<00:00, 11.36batch/s, loss=-7.74e+7]\n"
          ]
        },
        {
          "output_type": "stream",
          "name": "stdout",
          "text": [
            "Epoch 9: Average Training Loss = -296811842.3710\n",
            "Epoch 9: Validation Loss = -19275854.8292\n"
          ]
        },
        {
          "output_type": "stream",
          "name": "stderr",
          "text": [
            "Epoch 10: 100%|██████████| 938/938 [01:22<00:00, 11.38batch/s, loss=-8.6e+7]\n"
          ]
        },
        {
          "output_type": "stream",
          "name": "stdout",
          "text": [
            "Epoch 10: Average Training Loss = -331794947.7612\n",
            "Epoch 10: Validation Loss = -24284747.2940\n"
          ]
        },
        {
          "output_type": "stream",
          "name": "stderr",
          "text": [
            "Epoch 11: 100%|██████████| 938/938 [01:22<00:00, 11.31batch/s, loss=-8.84e+7]\n"
          ]
        },
        {
          "output_type": "stream",
          "name": "stdout",
          "text": [
            "Epoch 11: Average Training Loss = -351008580.2559\n",
            "Epoch 11: Validation Loss = -24232834.9494\n"
          ]
        },
        {
          "output_type": "stream",
          "name": "stderr",
          "text": [
            "Epoch 12: 100%|██████████| 938/938 [01:23<00:00, 11.24batch/s, loss=-8.92e+7]\n"
          ]
        },
        {
          "output_type": "stream",
          "name": "stdout",
          "text": [
            "Epoch 12: Average Training Loss = -354535778.7377\n",
            "Epoch 12: Validation Loss = -24694220.5307\n"
          ]
        },
        {
          "output_type": "stream",
          "name": "stderr",
          "text": [
            "Epoch 13: 100%|██████████| 938/938 [01:22<00:00, 11.38batch/s, loss=-8.81e+7]\n"
          ]
        },
        {
          "output_type": "stream",
          "name": "stdout",
          "text": [
            "Epoch 13: Average Training Loss = -358024357.4243\n",
            "Epoch 13: Validation Loss = -25097072.4253\n"
          ]
        },
        {
          "output_type": "stream",
          "name": "stderr",
          "text": [
            "Epoch 14: 100%|██████████| 938/938 [01:22<00:00, 11.41batch/s, loss=-9.12e+7]\n"
          ]
        },
        {
          "output_type": "stream",
          "name": "stdout",
          "text": [
            "Epoch 14: Average Training Loss = -361590425.0149\n",
            "Epoch 14: Validation Loss = -25887068.1332\n"
          ]
        },
        {
          "output_type": "stream",
          "name": "stderr",
          "text": [
            "Epoch 15: 100%|██████████| 938/938 [01:23<00:00, 11.28batch/s, loss=-9.15e+7]\n"
          ]
        },
        {
          "output_type": "stream",
          "name": "stdout",
          "text": [
            "Epoch 15: Average Training Loss = -365030384.4094\n",
            "Epoch 15: Validation Loss = -26341233.8690\n"
          ]
        },
        {
          "output_type": "stream",
          "name": "stderr",
          "text": [
            "Epoch 16: 100%|██████████| 938/938 [01:22<00:00, 11.33batch/s, loss=-8.87e+7]\n"
          ]
        },
        {
          "output_type": "stream",
          "name": "stdout",
          "text": [
            "Epoch 16: Average Training Loss = -368521284.7420\n",
            "Epoch 16: Validation Loss = -26535070.0422\n"
          ]
        },
        {
          "output_type": "stream",
          "name": "stderr",
          "text": [
            "Epoch 17: 100%|██████████| 938/938 [01:22<00:00, 11.40batch/s, loss=-9.55e+7]\n"
          ]
        },
        {
          "output_type": "stream",
          "name": "stdout",
          "text": [
            "Epoch 17: Average Training Loss = -371973466.0725\n",
            "Epoch 17: Validation Loss = -27045602.0226\n"
          ]
        },
        {
          "output_type": "stream",
          "name": "stderr",
          "text": [
            "Epoch 18: 100%|██████████| 938/938 [01:22<00:00, 11.40batch/s, loss=-9.12e+7]\n"
          ]
        },
        {
          "output_type": "stream",
          "name": "stdout",
          "text": [
            "Epoch 18: Average Training Loss = -375421209.4243\n",
            "Epoch 18: Validation Loss = -27919845.3755\n"
          ]
        },
        {
          "output_type": "stream",
          "name": "stderr",
          "text": [
            "Epoch 19: 100%|██████████| 938/938 [01:23<00:00, 11.25batch/s, loss=-9.86e+7]\n"
          ]
        },
        {
          "output_type": "stream",
          "name": "stdout",
          "text": [
            "Epoch 19: Average Training Loss = -379040571.4200\n",
            "Epoch 19: Validation Loss = -28257019.8061\n"
          ]
        },
        {
          "output_type": "stream",
          "name": "stderr",
          "text": [
            "Epoch 20: 100%|██████████| 938/938 [01:23<00:00, 11.27batch/s, loss=-9.68e+7]\n"
          ]
        },
        {
          "output_type": "stream",
          "name": "stdout",
          "text": [
            "Epoch 20: Average Training Loss = -382503878.6780\n",
            "Epoch 20: Validation Loss = -28636267.7397\n"
          ]
        },
        {
          "output_type": "stream",
          "name": "stderr",
          "text": [
            "<ipython-input-27-ccc6ae7331d5>:137: FutureWarning: You are using `torch.load` with `weights_only=False` (the current default value), which uses the default pickle module implicitly. It is possible to construct malicious pickle data which will execute arbitrary code during unpickling (See https://github.com/pytorch/pytorch/blob/main/SECURITY.md#untrusted-models for more details). In a future release, the default value for `weights_only` will be flipped to `True`. This limits the functions that could be executed during unpickling. Arbitrary objects will no longer be allowed to be loaded via this mode unless they are explicitly allowlisted by the user via `torch.serialization.add_safe_globals`. We recommend you start setting `weights_only=True` for any use case where you don't have full control of the loaded file. Please open an issue on GitHub for any issues related to this experimental feature.\n",
            "  model.load_state_dict(torch.load('best_model.pth'))\n"
          ]
        },
        {
          "output_type": "stream",
          "name": "stdout",
          "text": [
            "Test Loss: -23523435.6340\n"
          ]
        }
      ]
    }
  ]
}