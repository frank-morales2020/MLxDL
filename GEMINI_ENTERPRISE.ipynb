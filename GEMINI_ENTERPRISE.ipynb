{
  "nbformat": 4,
  "nbformat_minor": 0,
  "metadata": {
    "colab": {
      "provenance": [],
      "authorship_tag": "ABX9TyPO2bj6tec3T2RigIxCPQ4F",
      "include_colab_link": true
    },
    "kernelspec": {
      "name": "python3",
      "display_name": "Python 3"
    },
    "language_info": {
      "name": "python"
    }
  },
  "cells": [
    {
      "cell_type": "markdown",
      "metadata": {
        "id": "view-in-github",
        "colab_type": "text"
      },
      "source": [
        "<a href=\"https://colab.research.google.com/github/frank-morales2020/MLxDL/blob/main/GEMINI_ENTERPRISE.ipynb\" target=\"_parent\"><img src=\"https://colab.research.google.com/assets/colab-badge.svg\" alt=\"Open In Colab\"/></a>"
      ]
    },
    {
      "cell_type": "code",
      "execution_count": 1,
      "metadata": {
        "colab": {
          "base_uri": "https://localhost:8080/",
          "height": 332
        },
        "id": "A54sn6PK3lLO",
        "outputId": "f0ea5ba1-b21e-490b-8fc6-baff4f865c91"
      },
      "outputs": [
        {
          "output_type": "stream",
          "name": "stdout",
          "text": [
            "✅ Gemini client configured successfully.\n",
            "\n",
            "🚀 Sending prompt to gemini-2.5-flash...\n",
            "\n",
            "==================================================\n",
            "🤖 Gemini Response:\n",
            "==================================================\n",
            "Imagine you have two **magic coins** that are created together.\n",
            "\n",
            "You send one to a friend on the other side of the universe.\n",
            "\n",
            "Until you or your friend look at one, neither coin is definitively heads or tails – they're in a \"fuzzy\" or undecided state.\n",
            "\n",
            "But the *instant* you look at your coin and see it's, say, **Heads**, your friend's coin, *no matter how far away*, **instantly becomes (or is revealed to be) Tails**. And if yours was Tails, theirs would instantly be Heads.\n",
            "\n",
            "Their fates are linked, not by communication, but by a shared, pre-destined connection that only reveals itself upon observation.\n",
            "==================================================\n"
          ]
        }
      ],
      "source": [
        "# Import necessary libraries\n",
        "import os\n",
        "from google.colab import userdata\n",
        "import google.generativeai as genai\n",
        "\n",
        "# ---\n",
        "\n",
        "# Securely Retrieve API Key and Configure Client\n",
        "\n",
        "# The API key is securely loaded from the Colab 'Secrets' manager.\n",
        "# Ensure you have a secret named 'GEMINI' containing your actual API key.\n",
        "try:\n",
        "    API_KEY = userdata.get('GEMINI')\n",
        "    if not API_KEY:\n",
        "        raise ValueError(\"The 'GEMINI' secret was found but appears to be empty.\")\n",
        "\n",
        "    # Configure the client using the retrieved API key\n",
        "    genai.configure(api_key=API_KEY)\n",
        "    print(\"✅ Gemini client configured successfully.\")\n",
        "\n",
        "except Exception as e:\n",
        "    print(f\"❌ Configuration Error: {e}\")\n",
        "    print(\"\\nPlease ensure you have stored your Gemini API key in Colab Secrets under the name 'GEMINI'.\")\n",
        "    # Exit or stop execution if the key is not available\n",
        "    exit()\n",
        "\n",
        "# ---\n",
        "\n",
        "# Make a simple test call to the Gemini model\n",
        "\n",
        "# Choose a model. 'gemini-2.5-flash' is a fast and capable model for general tasks.\n",
        "MODEL_NAME = 'gemini-2.5-flash'\n",
        "prompt = \"Explain the concept of quantum entanglement in a short, easy-to-understand analogy.\"\n",
        "\n",
        "try:\n",
        "    print(f\"\\n🚀 Sending prompt to {MODEL_NAME}...\")\n",
        "    model = genai.GenerativeModel(MODEL_NAME)\n",
        "    response = model.generate_content(prompt)\n",
        "\n",
        "    print(\"\\n\" + \"=\"*50)\n",
        "    print(\"🤖 Gemini Response:\")\n",
        "    print(\"=\"*50)\n",
        "    print(response.text)\n",
        "    print(\"=\"*50)\n",
        "\n",
        "except Exception as e:\n",
        "    print(f\"\\n❌ API Call Error: An error occurred while calling the Gemini API: {e}\")"
      ]
    }
  ]
}