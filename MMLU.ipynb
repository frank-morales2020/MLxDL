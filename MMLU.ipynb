{
  "nbformat": 4,
  "nbformat_minor": 0,
  "metadata": {
    "colab": {
      "provenance": [],
      "authorship_tag": "ABX9TyNK5WJi3rgwImC0FIGIWkMS",
      "include_colab_link": true
    },
    "kernelspec": {
      "name": "python3",
      "display_name": "Python 3"
    },
    "language_info": {
      "name": "python"
    }
  },
  "cells": [
    {
      "cell_type": "markdown",
      "metadata": {
        "id": "view-in-github",
        "colab_type": "text"
      },
      "source": [
        "<a href=\"https://colab.research.google.com/github/frank-morales2020/MLxDL/blob/main/MMLU.ipynb\" target=\"_parent\"><img src=\"https://colab.research.google.com/assets/colab-badge.svg\" alt=\"Open In Colab\"/></a>"
      ]
    },
    {
      "cell_type": "markdown",
      "source": [
        "https://github.com/FranxYao/chain-of-thought-hub/tree/main"
      ],
      "metadata": {
        "id": "PgjufKHHv_o0"
      }
    },
    {
      "cell_type": "markdown",
      "source": [
        "# Environment Preparations"
      ],
      "metadata": {
        "id": "PEnnryG5D82e"
      }
    },
    {
      "cell_type": "code",
      "execution_count": null,
      "metadata": {
        "id": "NSBsCqf0vx7L"
      },
      "outputs": [],
      "source": [
        "!git clone https://github.com/FranxYao/chain-of-thought-hub.git"
      ]
    },
    {
      "cell_type": "code",
      "source": [
        "!pip install -q transformers\n",
        "!pip install -q tqdm\n",
        "!pip install -q pandas\n",
        "!pip install -q tensor_parallel\n",
        "!pip install -q argparse\n",
        "!pip install -q einops\n",
        "!pip install -q accelerate\n",
        "#!pip install -q torch==2.0.0+cu118\n",
        "!pip install -q torch\n",
        "\n",
        "!pip install colab-env --upgrade -q\n",
        "!pip install openai -q\n",
        "\n",
        "!pip install datasets -q\n",
        "!pip install utils -q"
      ],
      "metadata": {
        "id": "LbMG_F_I9KnQ"
      },
      "execution_count": null,
      "outputs": []
    },
    {
      "cell_type": "code",
      "source": [
        "import colab_env\n",
        "import os\n",
        "import openai\n",
        "import IPython\n",
        "import pytz\n",
        "from datetime import datetime\n",
        "import json\n",
        "from pathlib import Path"
      ],
      "metadata": {
        "id": "S4Z-2YjmwroH"
      },
      "execution_count": 19,
      "outputs": []
    },
    {
      "cell_type": "code",
      "source": [
        "# datetime object containing current date and time\n",
        "newYorkTz = pytz.timezone(\"America/New_York\")\n",
        "now = datetime.now(newYorkTz)\n",
        "#print(\"now =\", now)\n",
        "\n",
        "# dd/mm/YY H:M:S\n",
        "dt_string = now.strftime(\"%d/%m/%Y %H:%M:%S\")\n",
        "#print(\"date and time =\", dt_string)\n",
        "\n",
        "openai.api_key = os.getenv(\"OPENAI_API_KEY\")\n",
        "from openai import OpenAI\n",
        "\n",
        "#client = OpenAI()\n",
        "client = OpenAI(api_key = os.getenv(\"OPENAI_API_KEY\"))\n",
        "\n",
        "print()\n",
        "print('TEST - OPENAI  - BY FRANK MORALES - %s'%dt_string)\n",
        "print()"
      ],
      "metadata": {
        "id": "nnEX22rEw6Ja"
      },
      "execution_count": null,
      "outputs": []
    },
    {
      "cell_type": "code",
      "source": [
        "import os\n",
        "openai.api_key = os.getenv(\"OPENAI_API_KEY\")\n",
        "from openai import OpenAI"
      ],
      "metadata": {
        "id": "E03HJLWy4H8H"
      },
      "execution_count": 22,
      "outputs": []
    },
    {
      "cell_type": "code",
      "source": [
        "!mkdir /content/outputs\n",
        "API_KEY=OpenAI(api_key = os.getenv(\"OPENAI_API_KEY\"))\n",
        "\n",
        "# GPT-3.5-Turbo\n",
        "#!python /content/chain-of-thought-hub/MMLU/run_mmlu_gpt_3.5_turbo.py --api_key=${API_KEY}\n",
        "\n",
        "# Claude-v1.3\n",
        "#!python /content/chain-of-thought-hub/MMLU/run_mmlu_claude.py  --api_key=${API_KEY} --engine=claude-v1.3\n"
      ],
      "metadata": {
        "id": "Pty4WhUg0df-"
      },
      "execution_count": null,
      "outputs": []
    },
    {
      "cell_type": "markdown",
      "source": [
        "#  Evaluating GPT-3.5 turbo model on MMLU"
      ],
      "metadata": {
        "id": "Dt2bV-D7DyjY"
      }
    },
    {
      "cell_type": "code",
      "source": [
        "# evaluating GPT-3.5 turbo model on MMLU\n",
        "\n",
        "import openai\n",
        "import re\n",
        "import time\n",
        "import json\n",
        "\n",
        "import numpy as np\n",
        "\n",
        "from tqdm import tqdm\n",
        "from datasets import load_dataset\n",
        "from tenacity import retry, stop_after_attempt, wait_chain, wait_fixed\n",
        "from utils import *\n",
        "\n",
        "# parse arguments\n",
        "#import argparse\n",
        "#parser = argparse.ArgumentParser()\n",
        "#parser.add_argument(client.api_key)\n",
        "#parser.add_argument('--api_key', type=str, default='sk')\n",
        "#args = parser.parse_args()\n",
        "#print(args.echo)\n",
        "args=client.api_key\n",
        "\n",
        "TASKS = [\n",
        "        'abstract_algebra',\n",
        "        'anatomy',\n",
        "        'astronomy',\n",
        "        'business_ethics',\n",
        "        'clinical_knowledge',\n",
        "        'college_biology',\n",
        "        'college_chemistry',\n",
        "        'college_computer_science',\n",
        "        'college_mathematics',\n",
        "        'college_medicine',\n",
        "        'college_physics',\n",
        "        'computer_security',\n",
        "        'conceptual_physics',\n",
        "        'econometrics',\n",
        "        'electrical_engineering',\n",
        "        'elementary_mathematics',\n",
        "        'formal_logic',\n",
        "        'global_facts',\n",
        "        'high_school_biology',\n",
        "        'high_school_chemistry',\n",
        "        'high_school_computer_science',\n",
        "        'high_school_european_history',\n",
        "        'high_school_geography',\n",
        "        'high_school_government_and_politics',\n",
        "        'high_school_macroeconomics',\n",
        "        'high_school_mathematics',\n",
        "        'high_school_microeconomics',\n",
        "        'high_school_physics',\n",
        "        'high_school_psychology',\n",
        "        'high_school_statistics',\n",
        "        'high_school_us_history',\n",
        "        'high_school_world_history',\n",
        "        'human_aging',\n",
        "        'human_sexuality',\n",
        "        'international_law',\n",
        "        'jurisprudence',\n",
        "        'logical_fallacies',\n",
        "        'machine_learning',\n",
        "        'management',\n",
        "        'marketing',\n",
        "        'medical_genetics',\n",
        "        'miscellaneous',\n",
        "        'moral_disputes',\n",
        "        'moral_scenarios',\n",
        "        'nutrition',\n",
        "        'philosophy',\n",
        "        'prehistory',\n",
        "        'professional_accounting',\n",
        "        'professional_law',\n",
        "        'professional_medicine',\n",
        "        'professional_psychology',\n",
        "        'public_relations',\n",
        "        'security_studies',\n",
        "        'sociology',\n",
        "        'us_foreign_policy',\n",
        "        'virology',\n",
        "        'world_religions']\n",
        "\n",
        "@retry(wait=wait_chain(*[wait_fixed(3) for i in range(3)] +\n",
        "                       [wait_fixed(5) for i in range(2)] +\n",
        "                       [wait_fixed(10)]))\n",
        "def completion_with_backoff(**kwargs):\n",
        "    return openai.ChatCompletion.create(**kwargs)\n",
        "\n",
        "def main(tasks=TASKS):\n",
        "    openai.api_key = openai.api_key\n",
        "    mmlu_prompt = json.load(open('/content/chain-of-thought-hub/MMLU/lib_prompt/mmlu-cot.json'))\n",
        "    for task in tasks:\n",
        "        print('Testing %s ...' % task)\n",
        "        i = 0\n",
        "        acc = 0\n",
        "        task_data = load_dataset(\"lukaemon/mmlu\", task, trust_remote_code=True)\n",
        "        with open('/content/outputs/test_gpt_3.5_turbo_%s.txt' % task, 'w') as fd:\n",
        "            for q_ in tqdm(task_data['test'], total=len(task_data['test'])):\n",
        "                q = q_['input'] + '\\n'\n",
        "                for letter in ['A', 'B', 'C', 'D']:\n",
        "                    q += '(' + letter + ') ' + q_[letter] + ' '\n",
        "                q += \"\\nA: Let's think step by step.\"\n",
        "\n",
        "                prompt_q = mmlu_prompt[task] + \"\\n\\n\" + q\n",
        "\n",
        "                response = completion_with_backoff(\n",
        "                    model=\"gpt-3.5-turbo\",\n",
        "                    messages=[\n",
        "                            {\"role\": \"system\", \"content\": \"Follow the given examples and answer the question.\"},\n",
        "                            {\"role\": \"user\", \"content\": prompt_q},\n",
        "                        ],\n",
        "                    temperature=0\n",
        "                    )\n",
        "                ans_model = response['choices'][0]['message']['content']\n",
        "                ans_, residual = extract_ans(ans_model)\n",
        "\n",
        "                a = q_['target']\n",
        "                fd.write('Q: %s\\nA_model:\\n%s\\nA:\\n%s\\n\\n' % (q, ans_, a))\n",
        "                i += 1\n",
        "\n",
        "                if(test_answer_mmlu_(ans_, a)): acc += 1\n",
        "            print('%s acc %.4f' % (task, acc / len(task_data['test'])))\n",
        "    return\n",
        "\n",
        "if __name__ == '__main__':\n",
        "    main()"
      ],
      "metadata": {
        "id": "zhINTrXL5Tol"
      },
      "execution_count": null,
      "outputs": []
    },
    {
      "cell_type": "markdown",
      "source": [
        "# Evaluating CLAUDE3 model on MMLU"
      ],
      "metadata": {
        "id": "SshNx_i3FRJ0"
      }
    },
    {
      "cell_type": "code",
      "source": [
        "!pip install anthropic -q\n",
        "\n",
        "import anthropic\n",
        "import os\n",
        "import colab_env\n",
        "import json"
      ],
      "metadata": {
        "id": "c3Sjm72QFmAc"
      },
      "execution_count": null,
      "outputs": []
    },
    {
      "cell_type": "code",
      "source": [
        "api_key = os.environ[\"CLAUDE3_API_KEY\"]\n",
        "model=\"claude-3-opus-20240229\"\n",
        "\n",
        "client = anthropic.Anthropic(\n",
        "    api_key=api_key,\n",
        ")"
      ],
      "metadata": {
        "id": "gWysJq8oFfMg"
      },
      "execution_count": 26,
      "outputs": []
    },
    {
      "cell_type": "code",
      "source": [
        "message = client.messages.create(\n",
        "    model=\"claude-3-opus-20240229\",\n",
        "    max_tokens=1024,\n",
        "    messages=[\n",
        "        {\"role\": \"user\", \"content\": \"Hello, Claude\"}\n",
        "    ]\n",
        ")"
      ],
      "metadata": {
        "id": "-QdVaJwQFzwW"
      },
      "execution_count": 27,
      "outputs": []
    },
    {
      "cell_type": "code",
      "source": [
        "print(message.content[0].text)"
      ],
      "metadata": {
        "colab": {
          "base_uri": "https://localhost:8080/"
        },
        "id": "hI4fRXu5F3pP",
        "outputId": "d007cbe3-571c-4b8a-9d75-aae37646793c"
      },
      "execution_count": 28,
      "outputs": [
        {
          "output_type": "stream",
          "name": "stdout",
          "text": [
            "Hello! It's nice to meet you. How are you doing today?\n"
          ]
        }
      ]
    },
    {
      "cell_type": "code",
      "source": [
        "# evaluating Claude model on converted MMLU to Claude prompt,\n",
        "# with the option of single or multiple rounds of questions\n",
        "\n",
        "import anthropic\n",
        "import json\n",
        "import numpy as np\n",
        "from tqdm import tqdm\n",
        "from datasets import load_dataset\n",
        "from utils import *\n",
        "\n",
        "\n",
        "TASKS = [\n",
        "        'abstract_algebra',\n",
        "        'anatomy',\n",
        "        'astronomy',\n",
        "        'business_ethics',\n",
        "        'clinical_knowledge',\n",
        "        'college_biology',\n",
        "        'college_chemistry',\n",
        "        'college_computer_science',\n",
        "        'college_mathematics',\n",
        "        'college_medicine',\n",
        "        'college_physics',\n",
        "        'computer_security',\n",
        "        'conceptual_physics',\n",
        "        'econometrics',\n",
        "        'electrical_engineering',\n",
        "        'elementary_mathematics',\n",
        "        'formal_logic',\n",
        "        'global_facts',\n",
        "        'high_school_biology',\n",
        "        'high_school_chemistry',\n",
        "        'high_school_computer_science',\n",
        "        'high_school_european_history',\n",
        "        'high_school_geography',\n",
        "        'high_school_government_and_politics',\n",
        "        'high_school_macroeconomics',\n",
        "        'high_school_mathematics',\n",
        "        'high_school_microeconomics',\n",
        "        'high_school_physics',\n",
        "        'high_school_psychology',\n",
        "        'high_school_statistics',\n",
        "        'high_school_us_history',\n",
        "        'high_school_world_history',\n",
        "        'human_aging',\n",
        "        'human_sexuality',\n",
        "        'international_law',\n",
        "        'jurisprudence',\n",
        "        'logical_fallacies',\n",
        "        'machine_learning',\n",
        "        'management',\n",
        "        'marketing',\n",
        "        'medical_genetics',\n",
        "        'miscellaneous',\n",
        "        'moral_disputes',\n",
        "        'moral_scenarios',\n",
        "        'nutrition',\n",
        "        'philosophy',\n",
        "        'prehistory',\n",
        "        'professional_accounting',\n",
        "        'professional_law',\n",
        "        'professional_medicine',\n",
        "        'professional_psychology',\n",
        "        'public_relations',\n",
        "        'security_studies',\n",
        "        'sociology',\n",
        "        'us_foreign_policy',\n",
        "        'virology',\n",
        "        'world_religions']\n",
        "\n",
        "\n",
        "def get_response(**kwargs):\n",
        "    #client = anthropic.Client(args.anthropic_key)\n",
        "    client = anthropic.Anthropic(\n",
        "    api_key=api_key,)\n",
        "    #response = client.completions(**kwargs)\n",
        "    response = client.messages.create(\n",
        "    model=\"claude-3-opus-20240229\",\n",
        "    max_tokens=1024,\n",
        "    messages=[\n",
        "        {\"role\": \"user\", \"content\": \"Hello, Claude\"}\n",
        "    ]\n",
        ")\n",
        "    return response\n",
        "\n",
        "model=\"claude-3-opus-20240229\"\n",
        "\n",
        "def main(tasks=TASKS):\n",
        "    for task in tasks:\n",
        "        print('Testing %s ...' % task)\n",
        "        i = 0\n",
        "        acc = 0\n",
        "        task_data = load_dataset(\"lukaemon/mmlu\", task, trust_remote_code=True)\n",
        "\n",
        "        with open('/content/outputs/test_%s_%s.txt' % (model, task), 'w') as fd:\n",
        "            for q_ in tqdm(task_data['test'], total=len(task_data['test'])):\n",
        "                q = 'Q: '+ q_['input'] + '\\n'\n",
        "                task_mod = task.replace('_', ' ')\n",
        "\n",
        "                # add test prompt based on subject matter\n",
        "                if task_mod in [\"business ethics\",\n",
        "                                \"computer security\",\n",
        "                                \"marketing\"]:\n",
        "                    q += \"Which one of the four choices completes the question correctly, (A), (B), (C) or (D)?\" + \"\\nChoices:\" + \"\\n\"\n",
        "                elif task_mod in [\"college medicine\",\n",
        "                                    \"high school biology\",\n",
        "                                    \"high school european history\",\n",
        "                                    \"high school geography\",\n",
        "                                    \"high school government and politics\",\n",
        "                                    \"high school macroeconomics\",\n",
        "                                    \"moral disputes\"]:\n",
        "                    q += \"Choices:\"\n",
        "                elif task_mod == \"college physics\":\n",
        "                    q += \"Which one of the four choices is correct about the question, (A), (B), (C) or (D)?\" + \"\\nChoices:\" + \"\\n\"\n",
        "                else:\n",
        "                    q += \"Which one of the four choices is correct, (A), (B), (C) or (D)?\" + \"\\nChoices:\" + \"\\n\"\n",
        "\n",
        "                for letter in ['A', 'B', 'C', 'D']:\n",
        "                    q += '(' + letter + ') ' + q_[letter] + ' '\n",
        "\n",
        "                # add step-by-step prompt\n",
        "                q += \"\\nLet's think step by step.\"\n",
        "                q += \"\\nA:\"\n",
        "\n",
        "                # convert to Claude prompt\n",
        "                # load converted prompt based on prompt type\n",
        "\n",
        "                #model=\"claude-3-opus-20240229\",\n",
        "                mmlu_prompt = json.load(open('/content/chain-of-thought-hub/MMLU/lib_prompt/mmlu-cot-claude-single.json'))\n",
        "                prompt_q = mmlu_prompt[task] + \"\\n\\n\" + q\n",
        "                claude_prompt = anthropic.HUMAN_PROMPT + prompt_q + anthropic.AI_PROMPT\n",
        "\n",
        "                #if args.prompt_type == 'single':\n",
        "                #    mmlu_prompt = json.load(open('/content/chain-of-thought-hub/MMLU/lib_prompt/mmlu-cot-claude-single.json'))\n",
        "                #    prompt_q = mmlu_prompt[task] + \"\\n\\n\" + q\n",
        "                #    claude_prompt = anthropic.HUMAN_PROMPT + prompt_q + anthropic.AI_PROMPT\n",
        "                #elif args.prompt_type == 'multiple':\n",
        "                #    mmlu_prompt = json.load(open('/content/chain-of-thought-hub/MMLU/lib_prompt/mmlu-cot-claude-multiple.json'))\n",
        "                #    prompt_q = mmlu_prompt[task] + \"\\n\\n\" + anthropic.HUMAN_PROMPT + \"\\n\" + q\n",
        "                #    claude_prompt = prompt_q + anthropic.AI_PROMPT\n",
        "                #else:\n",
        "                #     raise ValueError('Prompt type not supported')\n",
        "\n",
        "                # obtain Claude response\n",
        "                #response = get_response(\n",
        "                #    model=model,\n",
        "                #    prompt=claude_prompt,\n",
        "                #    stop_sequences=[anthropic.HUMAN_PROMPT],\n",
        "                #    max_tokens_to_sample=300,\n",
        "                #    temperature=0\n",
        "                #    )\n",
        "\n",
        "                ## CLAUDE3 API by FRANK MORALES MARCH 30, 2023\n",
        "                response = client.messages.create(\n",
        "                      model=\"claude-3-opus-20240229\",\n",
        "                      max_tokens=1024,\n",
        "                      messages=[\n",
        "                        {\"role\": \"user\", \"content\":claude_prompt }\n",
        "                               ]\n",
        "                                                )\n",
        "                #print(response)\n",
        "                # clean response\n",
        "                #ans_ = response['completion'].strip()\n",
        "                ans_ = response.content[0].text\n",
        "                a = q_['target']\n",
        "                fd.write('%s\\nA_model:\\n%s\\nA:\\n%s\\n\\n' % (q, ans_, a))\n",
        "                i += 1\n",
        "\n",
        "                # check answer\n",
        "                if(test_answer_mmlu_claude_instant(ans_, a)): acc += 1\n",
        "            print('%s acc %.4f' % (task, acc / len(task_data['test'])))\n",
        "\n",
        "        # write accuracy to file\n",
        "        with open('/content/outputs/test_%s_%s_acc.txt' % (args.engine, args.prompt_type), 'a') as fd:\n",
        "            fd.write('%s acc %.4f\\n' % (task, acc / len(task_data['test'])))\n",
        "\n",
        "    # write average accuracy to file\n",
        "    acc_list = []\n",
        "    with open('/content/outputs/test_%s_%s_acc.txt' % (args.engine, args.prompt_type), 'r') as fd2:\n",
        "        for line in fd2:\n",
        "            acc_list.append(float(line.split(' ')[2]))\n",
        "    with open('/content/outputs/test_%s_%s_acc.txt' % (args.engine, args.prompt_type), 'a') as fd:\n",
        "        fd.write('Average acc %.4f\\n' % (np.mean(acc_list)))\n",
        "\n",
        "    return\n",
        "\n",
        "if __name__ == '__main__':\n",
        "    main()"
      ],
      "metadata": {
        "colab": {
          "base_uri": "https://localhost:8080/"
        },
        "id": "bGP4PZ3uEnLG",
        "outputId": "5aabf705-8c5c-4f5f-d6fb-8dc64ec1335c"
      },
      "execution_count": null,
      "outputs": [
        {
          "output_type": "stream",
          "name": "stdout",
          "text": [
            "Testing abstract_algebra ...\n"
          ]
        },
        {
          "output_type": "stream",
          "name": "stderr",
          "text": [
            " 54%|█████▍    | 54/100 [14:19<13:52, 18.09s/it]"
          ]
        }
      ]
    }
  ]
}