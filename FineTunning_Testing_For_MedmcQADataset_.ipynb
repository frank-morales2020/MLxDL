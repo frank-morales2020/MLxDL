{
  "cells": [
    {
      "cell_type": "markdown",
      "metadata": {
        "id": "view-in-github",
        "colab_type": "text"
      },
      "source": [
        "<a href=\"https://colab.research.google.com/github/frank-morales2020/MLxDL/blob/main/FineTunning_Testing_For_MedmcQADataset_.ipynb\" target=\"_parent\"><img src=\"https://colab.research.google.com/assets/colab-badge.svg\" alt=\"Open In Colab\"/></a>"
      ]
    },
    {
      "cell_type": "markdown",
      "metadata": {
        "id": "dMednPdqqiA8"
      },
      "source": [
        "Fine-tunning: https://github.com/frank-morales2020/MLxDL/blob/main/FineTuning_Mistral_7b_hfdeployment_dataset_Medmcqa.ipynb"
      ]
    },
    {
      "cell_type": "code",
      "execution_count": null,
      "metadata": {
        "id": "QaKHHOC5fnuv"
      },
      "outputs": [],
      "source": [
        "# Install Pytorch & other libraries\n",
        "!pip install torch tensorboard --quiet\n",
        "\n",
        "# Install Hugging Face libraries\n",
        "!pip install  --upgrade transformers datasets accelerate evaluate bitsandbytes --quiet\n",
        "\n",
        "#FlashAttention only supports Ampere GPUs or newer. #NEED A100 IN GOOGLE COLAB\n",
        "#!pip install -U transformers\n",
        "#!pip install -U flash-attn --no-build-isolation --quiet\n",
        "\n",
        "\n",
        "! pip install peft --quiet\n",
        "! pip install trl ninja packaging --quiet\n",
        "\n",
        "# Uncomment only if you're using A100 GPU\n",
        "#!pip install flash-attn --no-build-isolation\n",
        "!pip install diffusers safetensors  --quiet\n",
        "!pip install colab-env --quiet\n",
        "\n",
        "\n",
        "!pip install huggingface_hub -q"
      ]
    },
    {
      "cell_type": "code",
      "execution_count": null,
      "metadata": {
        "id": "uUNsFfWxnXto"
      },
      "outputs": [],
      "source": [
        "import colab_env\n",
        "import os\n",
        "\n",
        "access_token_write = os.getenv(\"HUGGINGFACE_ACCESS_TOKEN_WRITE\")"
      ]
    },
    {
      "cell_type": "code",
      "execution_count": null,
      "metadata": {
        "id": "_B8ihZJEoEyu"
      },
      "outputs": [],
      "source": [
        "import colab_env\n",
        "import os\n",
        "\n",
        "access_token_write = os.getenv(\"HUGGINGFACE_ACCESS_TOKEN_WRITE\")\n",
        "\n",
        "from huggingface_hub import login\n",
        "\n",
        "login(\n",
        "  token=access_token_write,\n",
        "  add_to_git_credential=True\n",
        ")"
      ]
    },
    {
      "cell_type": "code",
      "execution_count": null,
      "metadata": {
        "id": "1n2Pv_flo8OO"
      },
      "outputs": [],
      "source": [
        "from transformers import (\n",
        "    AutoModelForCausalLM,\n",
        "    AutoTokenizer,\n",
        "    BitsAndBytesConfig,\n",
        "    AutoTokenizer,\n",
        "    TrainingArguments,\n",
        "    pipeline\n",
        ")\n",
        "\n",
        "\n",
        "import torch\n",
        "from peft import AutoPeftModelForCausalLM\n",
        "\n",
        "peft_model_id = \"frankmorales2020/Mistral-7B-v0.1_MedmcQA\"\n",
        "\n",
        "# Load Model with PEFT adapter\n",
        "model = AutoPeftModelForCausalLM.from_pretrained(\n",
        "  peft_model_id,\n",
        "  device_map=\"auto\",\n",
        "  torch_dtype=torch.float16\n",
        ")\n",
        "\n",
        "tokenizer = AutoTokenizer.from_pretrained(peft_model_id, use_fast=True)\n",
        "\n",
        "# We redefine the pad_token and pad_token_id with out of vocabulary token (unk_token)\n",
        "tokenizer.pad_token = tokenizer.unk_token\n",
        "tokenizer.pad_token_id = tokenizer.unk_token_id\n",
        "\n",
        "# load into pipeline\n",
        "pipe = pipeline(\"document-question-answering\", model=model, tokenizer=tokenizer)"
      ]
    },
    {
      "cell_type": "code",
      "execution_count": null,
      "metadata": {
        "id": "wB8DWMO_iEsB"
      },
      "outputs": [],
      "source": [
        "from datasets import load_dataset\n",
        "print(\"Preprocessing dataset Medmcqa\")\n",
        "dataset = load_dataset(\"openlifescienceai/medmcqa\")\n",
        "\n",
        "# save datasets to disk\n",
        "dataset[\"train\"].to_json(\"train_dataset.json\", orient=\"records\")\n",
        "dataset[\"validation\"].to_json(\"validation_dataset.json\", orient=\"records\")\n",
        "dataset[\"test\"].to_json(\"test_dataset.json\", orient=\"records\")"
      ]
    },
    {
      "cell_type": "code",
      "source": [
        "from datasets import load_dataset\n",
        "dataset_test = load_dataset(\"json\", data_files=\"/content/test_dataset.json\", split=\"train\")"
      ],
      "metadata": {
        "id": "IqJamzenY1sd"
      },
      "execution_count": 43,
      "outputs": []
    },
    {
      "cell_type": "code",
      "source": [
        "dataset_test[10] ## empty exp for testing dataset"
      ],
      "metadata": {
        "colab": {
          "base_uri": "https://localhost:8080/"
        },
        "id": "Hux3vZ_oY_Hg",
        "outputId": "15629732-a968-4dcb-d9cb-a341ff5f3989"
      },
      "execution_count": 46,
      "outputs": [
        {
          "output_type": "execute_result",
          "data": {
            "text/plain": [
              "{'id': '473071cf-e645-4318-bb6c-57b6115c2eb5',\n",
              " 'question': 'Tannerella forsythia is a ?',\n",
              " 'opa': 'Nonmotile, gram-negative obligate anaerobe',\n",
              " 'opb': 'Motile, gram-negative obligate anaerobe',\n",
              " 'opc': 'Nonmotile, gram-negative obligate aerobe',\n",
              " 'opd': 'Motile, gram-negative obligate aerobe',\n",
              " 'cop': -1,\n",
              " 'choice_type': 'single',\n",
              " 'exp': '',\n",
              " 'subject_name': 'Dental',\n",
              " 'topic_name': None}"
            ]
          },
          "metadata": {},
          "execution_count": 46
        }
      ]
    },
    {
      "cell_type": "code",
      "execution_count": null,
      "metadata": {
        "id": "Hb-chphAuYKT"
      },
      "outputs": [],
      "source": [
        "from datasets import load_dataset\n",
        "dataset = load_dataset(\"json\", data_files=\"/content/train_dataset.json\", split=\"train\")"
      ]
    },
    {
      "cell_type": "code",
      "execution_count": null,
      "metadata": {
        "colab": {
          "base_uri": "https://localhost:8080/"
        },
        "id": "H7v2nuP4uk2V",
        "outputId": "e5c585a7-8ea9-42c6-c53b-021ecf69afb0"
      },
      "outputs": [
        {
          "data": {
            "text/plain": [
              "Dataset({\n",
              "    features: ['id', 'question', 'opa', 'opb', 'opc', 'opd', 'cop', 'choice_type', 'exp', 'subject_name', 'topic_name'],\n",
              "    num_rows: 182822\n",
              "})"
            ]
          },
          "execution_count": 8,
          "metadata": {},
          "output_type": "execute_result"
        }
      ],
      "source": [
        "dataset"
      ]
    },
    {
      "cell_type": "code",
      "execution_count": 47,
      "metadata": {
        "id": "eIGQH5sQt9Ob"
      },
      "outputs": [],
      "source": [
        "nrec=10\n",
        "dataset_final_id=dataset['id'][0:nrec]\n",
        "dataset_final_Question=dataset['question'][0:nrec]\n",
        "dataset_final_Answer=dataset['exp'][0:nrec]\n",
        "#dataset_final_Messages=dataset['messages'][0:nrec]"
      ]
    },
    {
      "cell_type": "code",
      "execution_count": 48,
      "metadata": {
        "id": "G1XAJCQAuFUj"
      },
      "outputs": [],
      "source": [
        "import pandas as pd\n",
        "\n",
        "datasetF = pd.DataFrame() # Create an empty DataFrame\n",
        "datasetF['id'] = dataset_final_id\n",
        "datasetF['Question'] = dataset_final_Question\n",
        "datasetF['Answer'] = dataset_final_Answer"
      ]
    },
    {
      "cell_type": "code",
      "execution_count": 49,
      "metadata": {
        "colab": {
          "base_uri": "https://localhost:8080/"
        },
        "id": "k0FmtsznxfQb",
        "outputId": "d4f5f1dd-3b1a-466e-838f-4f1f441547aa"
      },
      "outputs": [
        {
          "output_type": "execute_result",
          "data": {
            "text/plain": [
              "{'id': 'b3d1eb6c-3909-4011-ad10-d55538b81456',\n",
              " 'question': 'Naglers reaction is shown by',\n",
              " 'opa': 'Clostridium tetani',\n",
              " 'opb': 'Clostridium botulinum',\n",
              " 'opc': 'Clostridium perfringens',\n",
              " 'opd': 'Clostridium septicum',\n",
              " 'cop': 2,\n",
              " 'choice_type': 'single',\n",
              " 'exp': \"Nagler's reaction - when Clostridium perfringens is grown in media containing 6 % agar, 5% Fildes peptic digest of sheep blood and 20% human serum, with antitoxin spread on one half of plate, colonies in the other half without antitoxin will be surrounded by a zone of opacity. No opacity around the colonies on the half of plate with antitoxin, this is due to the specific neutralization of the alpha-toxin. This specific lecithinase effect, known as the Nagler's reaction. Reference: Textbook of Microbiology; Anathanarayan and paniker's; 10th edition; Page no: 263\",\n",
              " 'subject_name': 'Microbiology',\n",
              " 'topic_name': 'Bacteriology'}"
            ]
          },
          "metadata": {},
          "execution_count": 49
        }
      ],
      "source": [
        "dataset[10]"
      ]
    },
    {
      "cell_type": "code",
      "execution_count": 50,
      "metadata": {
        "colab": {
          "base_uri": "https://localhost:8080/",
          "height": 1063
        },
        "id": "vGdcOx1KuJqq",
        "outputId": "e19b1845-c10e-4102-efba-1bced14117de"
      },
      "outputs": [
        {
          "output_type": "execute_result",
          "data": {
            "text/plain": [
              "                                     id  \\\n",
              "0  e9ad821a-c438-4965-9f77-760819dfa155   \n",
              "1  e3d3c4e1-4fb2-45e7-9f88-247cc8f373b3   \n",
              "2  5c38bea6-787a-44a9-b2df-88f4218ab914   \n",
              "3  cdeedb04-fbe9-432c-937c-d53ac24475de   \n",
              "4  dc6794a3-b108-47c5-8b1b-3b4931577249   \n",
              "5  5ab84ea8-12d1-47d4-ab22-668ebf01e64c   \n",
              "6  a83de6e4-9427-4480-b404-d96621ebb640   \n",
              "7  f3bf8583-231b-4b7a-828c-179b0f9ccdd9   \n",
              "8  73515f05-e947-4801-8077-3abdeca95c84   \n",
              "9  53f79833-21b0-4336-8ef4-404c687ec807   \n",
              "\n",
              "                                            Question  \\\n",
              "0  Chronic urethral obstruction due to benign pri...   \n",
              "1  Which vitamin is supplied from only animal sou...   \n",
              "2  All of the following are surgical options for ...   \n",
              "3  Following endaerectomy on the right common car...   \n",
              "4   Growth hormone has its effect on growth through?   \n",
              "5     Scrub typhus is transmitted by: September 2004   \n",
              "6  Abnormal vascular patterns seen with colposcop...   \n",
              "7  Per rectum examination is not a useful test fo...   \n",
              "8  Characteristics of Remifentanyl – a) Metabolis...   \n",
              "9                                     Hypomimia is ?   \n",
              "\n",
              "                                              Answer  \n",
              "0  Chronic urethral obstruction because of urinar...  \n",
              "1  Ans. (c) Vitamin B12 Ref: Harrison's 19th ed. ...  \n",
              "2  Ans. is 'd' i.e., Roux en Y Duodenal Bypass Ba...  \n",
              "3  The central aery of the retina is a branch of ...  \n",
              "4  Ans. is 'b' i.e., IGI-1GH has two major functi...  \n",
              "5                                   Ans. C i.e. Mite  \n",
              "6  Abnormal vascular pattern include punctation, ...  \n",
              "7  PILONIDAL SINUS/DISEASE (Jeep Bottom; Driver's...  \n",
              "8  Remifentanil is the shortest acting opioid due...  \n",
              "9  Ans. C. Deficit of expression by gestureHypomi...  "
            ],
            "text/html": [
              "\n",
              "  <div id=\"df-1ff70dfc-3f64-4818-be69-5ff32e4840b6\" class=\"colab-df-container\">\n",
              "    <div>\n",
              "<style scoped>\n",
              "    .dataframe tbody tr th:only-of-type {\n",
              "        vertical-align: middle;\n",
              "    }\n",
              "\n",
              "    .dataframe tbody tr th {\n",
              "        vertical-align: top;\n",
              "    }\n",
              "\n",
              "    .dataframe thead th {\n",
              "        text-align: right;\n",
              "    }\n",
              "</style>\n",
              "<table border=\"1\" class=\"dataframe\">\n",
              "  <thead>\n",
              "    <tr style=\"text-align: right;\">\n",
              "      <th></th>\n",
              "      <th>id</th>\n",
              "      <th>Question</th>\n",
              "      <th>Answer</th>\n",
              "    </tr>\n",
              "  </thead>\n",
              "  <tbody>\n",
              "    <tr>\n",
              "      <th>0</th>\n",
              "      <td>e9ad821a-c438-4965-9f77-760819dfa155</td>\n",
              "      <td>Chronic urethral obstruction due to benign pri...</td>\n",
              "      <td>Chronic urethral obstruction because of urinar...</td>\n",
              "    </tr>\n",
              "    <tr>\n",
              "      <th>1</th>\n",
              "      <td>e3d3c4e1-4fb2-45e7-9f88-247cc8f373b3</td>\n",
              "      <td>Which vitamin is supplied from only animal sou...</td>\n",
              "      <td>Ans. (c) Vitamin B12 Ref: Harrison's 19th ed. ...</td>\n",
              "    </tr>\n",
              "    <tr>\n",
              "      <th>2</th>\n",
              "      <td>5c38bea6-787a-44a9-b2df-88f4218ab914</td>\n",
              "      <td>All of the following are surgical options for ...</td>\n",
              "      <td>Ans. is 'd' i.e., Roux en Y Duodenal Bypass Ba...</td>\n",
              "    </tr>\n",
              "    <tr>\n",
              "      <th>3</th>\n",
              "      <td>cdeedb04-fbe9-432c-937c-d53ac24475de</td>\n",
              "      <td>Following endaerectomy on the right common car...</td>\n",
              "      <td>The central aery of the retina is a branch of ...</td>\n",
              "    </tr>\n",
              "    <tr>\n",
              "      <th>4</th>\n",
              "      <td>dc6794a3-b108-47c5-8b1b-3b4931577249</td>\n",
              "      <td>Growth hormone has its effect on growth through?</td>\n",
              "      <td>Ans. is 'b' i.e., IGI-1GH has two major functi...</td>\n",
              "    </tr>\n",
              "    <tr>\n",
              "      <th>5</th>\n",
              "      <td>5ab84ea8-12d1-47d4-ab22-668ebf01e64c</td>\n",
              "      <td>Scrub typhus is transmitted by: September 2004</td>\n",
              "      <td>Ans. C i.e. Mite</td>\n",
              "    </tr>\n",
              "    <tr>\n",
              "      <th>6</th>\n",
              "      <td>a83de6e4-9427-4480-b404-d96621ebb640</td>\n",
              "      <td>Abnormal vascular patterns seen with colposcop...</td>\n",
              "      <td>Abnormal vascular pattern include punctation, ...</td>\n",
              "    </tr>\n",
              "    <tr>\n",
              "      <th>7</th>\n",
              "      <td>f3bf8583-231b-4b7a-828c-179b0f9ccdd9</td>\n",
              "      <td>Per rectum examination is not a useful test fo...</td>\n",
              "      <td>PILONIDAL SINUS/DISEASE (Jeep Bottom; Driver's...</td>\n",
              "    </tr>\n",
              "    <tr>\n",
              "      <th>8</th>\n",
              "      <td>73515f05-e947-4801-8077-3abdeca95c84</td>\n",
              "      <td>Characteristics of Remifentanyl – a) Metabolis...</td>\n",
              "      <td>Remifentanil is the shortest acting opioid due...</td>\n",
              "    </tr>\n",
              "    <tr>\n",
              "      <th>9</th>\n",
              "      <td>53f79833-21b0-4336-8ef4-404c687ec807</td>\n",
              "      <td>Hypomimia is ?</td>\n",
              "      <td>Ans. C. Deficit of expression by gestureHypomi...</td>\n",
              "    </tr>\n",
              "  </tbody>\n",
              "</table>\n",
              "</div>\n",
              "    <div class=\"colab-df-buttons\">\n",
              "\n",
              "  <div class=\"colab-df-container\">\n",
              "    <button class=\"colab-df-convert\" onclick=\"convertToInteractive('df-1ff70dfc-3f64-4818-be69-5ff32e4840b6')\"\n",
              "            title=\"Convert this dataframe to an interactive table.\"\n",
              "            style=\"display:none;\">\n",
              "\n",
              "  <svg xmlns=\"http://www.w3.org/2000/svg\" height=\"24px\" viewBox=\"0 -960 960 960\">\n",
              "    <path d=\"M120-120v-720h720v720H120Zm60-500h600v-160H180v160Zm220 220h160v-160H400v160Zm0 220h160v-160H400v160ZM180-400h160v-160H180v160Zm440 0h160v-160H620v160ZM180-180h160v-160H180v160Zm440 0h160v-160H620v160Z\"/>\n",
              "  </svg>\n",
              "    </button>\n",
              "\n",
              "  <style>\n",
              "    .colab-df-container {\n",
              "      display:flex;\n",
              "      gap: 12px;\n",
              "    }\n",
              "\n",
              "    .colab-df-convert {\n",
              "      background-color: #E8F0FE;\n",
              "      border: none;\n",
              "      border-radius: 50%;\n",
              "      cursor: pointer;\n",
              "      display: none;\n",
              "      fill: #1967D2;\n",
              "      height: 32px;\n",
              "      padding: 0 0 0 0;\n",
              "      width: 32px;\n",
              "    }\n",
              "\n",
              "    .colab-df-convert:hover {\n",
              "      background-color: #E2EBFA;\n",
              "      box-shadow: 0px 1px 2px rgba(60, 64, 67, 0.3), 0px 1px 3px 1px rgba(60, 64, 67, 0.15);\n",
              "      fill: #174EA6;\n",
              "    }\n",
              "\n",
              "    .colab-df-buttons div {\n",
              "      margin-bottom: 4px;\n",
              "    }\n",
              "\n",
              "    [theme=dark] .colab-df-convert {\n",
              "      background-color: #3B4455;\n",
              "      fill: #D2E3FC;\n",
              "    }\n",
              "\n",
              "    [theme=dark] .colab-df-convert:hover {\n",
              "      background-color: #434B5C;\n",
              "      box-shadow: 0px 1px 3px 1px rgba(0, 0, 0, 0.15);\n",
              "      filter: drop-shadow(0px 1px 2px rgba(0, 0, 0, 0.3));\n",
              "      fill: #FFFFFF;\n",
              "    }\n",
              "  </style>\n",
              "\n",
              "    <script>\n",
              "      const buttonEl =\n",
              "        document.querySelector('#df-1ff70dfc-3f64-4818-be69-5ff32e4840b6 button.colab-df-convert');\n",
              "      buttonEl.style.display =\n",
              "        google.colab.kernel.accessAllowed ? 'block' : 'none';\n",
              "\n",
              "      async function convertToInteractive(key) {\n",
              "        const element = document.querySelector('#df-1ff70dfc-3f64-4818-be69-5ff32e4840b6');\n",
              "        const dataTable =\n",
              "          await google.colab.kernel.invokeFunction('convertToInteractive',\n",
              "                                                    [key], {});\n",
              "        if (!dataTable) return;\n",
              "\n",
              "        const docLinkHtml = 'Like what you see? Visit the ' +\n",
              "          '<a target=\"_blank\" href=https://colab.research.google.com/notebooks/data_table.ipynb>data table notebook</a>'\n",
              "          + ' to learn more about interactive tables.';\n",
              "        element.innerHTML = '';\n",
              "        dataTable['output_type'] = 'display_data';\n",
              "        await google.colab.output.renderOutput(dataTable, element);\n",
              "        const docLink = document.createElement('div');\n",
              "        docLink.innerHTML = docLinkHtml;\n",
              "        element.appendChild(docLink);\n",
              "      }\n",
              "    </script>\n",
              "  </div>\n",
              "\n",
              "\n",
              "<div id=\"df-20d31107-de00-4bb6-8001-be0eaa27bf23\">\n",
              "  <button class=\"colab-df-quickchart\" onclick=\"quickchart('df-20d31107-de00-4bb6-8001-be0eaa27bf23')\"\n",
              "            title=\"Suggest charts\"\n",
              "            style=\"display:none;\">\n",
              "\n",
              "<svg xmlns=\"http://www.w3.org/2000/svg\" height=\"24px\"viewBox=\"0 0 24 24\"\n",
              "     width=\"24px\">\n",
              "    <g>\n",
              "        <path d=\"M19 3H5c-1.1 0-2 .9-2 2v14c0 1.1.9 2 2 2h14c1.1 0 2-.9 2-2V5c0-1.1-.9-2-2-2zM9 17H7v-7h2v7zm4 0h-2V7h2v10zm4 0h-2v-4h2v4z\"/>\n",
              "    </g>\n",
              "</svg>\n",
              "  </button>\n",
              "\n",
              "<style>\n",
              "  .colab-df-quickchart {\n",
              "      --bg-color: #E8F0FE;\n",
              "      --fill-color: #1967D2;\n",
              "      --hover-bg-color: #E2EBFA;\n",
              "      --hover-fill-color: #174EA6;\n",
              "      --disabled-fill-color: #AAA;\n",
              "      --disabled-bg-color: #DDD;\n",
              "  }\n",
              "\n",
              "  [theme=dark] .colab-df-quickchart {\n",
              "      --bg-color: #3B4455;\n",
              "      --fill-color: #D2E3FC;\n",
              "      --hover-bg-color: #434B5C;\n",
              "      --hover-fill-color: #FFFFFF;\n",
              "      --disabled-bg-color: #3B4455;\n",
              "      --disabled-fill-color: #666;\n",
              "  }\n",
              "\n",
              "  .colab-df-quickchart {\n",
              "    background-color: var(--bg-color);\n",
              "    border: none;\n",
              "    border-radius: 50%;\n",
              "    cursor: pointer;\n",
              "    display: none;\n",
              "    fill: var(--fill-color);\n",
              "    height: 32px;\n",
              "    padding: 0;\n",
              "    width: 32px;\n",
              "  }\n",
              "\n",
              "  .colab-df-quickchart:hover {\n",
              "    background-color: var(--hover-bg-color);\n",
              "    box-shadow: 0 1px 2px rgba(60, 64, 67, 0.3), 0 1px 3px 1px rgba(60, 64, 67, 0.15);\n",
              "    fill: var(--button-hover-fill-color);\n",
              "  }\n",
              "\n",
              "  .colab-df-quickchart-complete:disabled,\n",
              "  .colab-df-quickchart-complete:disabled:hover {\n",
              "    background-color: var(--disabled-bg-color);\n",
              "    fill: var(--disabled-fill-color);\n",
              "    box-shadow: none;\n",
              "  }\n",
              "\n",
              "  .colab-df-spinner {\n",
              "    border: 2px solid var(--fill-color);\n",
              "    border-color: transparent;\n",
              "    border-bottom-color: var(--fill-color);\n",
              "    animation:\n",
              "      spin 1s steps(1) infinite;\n",
              "  }\n",
              "\n",
              "  @keyframes spin {\n",
              "    0% {\n",
              "      border-color: transparent;\n",
              "      border-bottom-color: var(--fill-color);\n",
              "      border-left-color: var(--fill-color);\n",
              "    }\n",
              "    20% {\n",
              "      border-color: transparent;\n",
              "      border-left-color: var(--fill-color);\n",
              "      border-top-color: var(--fill-color);\n",
              "    }\n",
              "    30% {\n",
              "      border-color: transparent;\n",
              "      border-left-color: var(--fill-color);\n",
              "      border-top-color: var(--fill-color);\n",
              "      border-right-color: var(--fill-color);\n",
              "    }\n",
              "    40% {\n",
              "      border-color: transparent;\n",
              "      border-right-color: var(--fill-color);\n",
              "      border-top-color: var(--fill-color);\n",
              "    }\n",
              "    60% {\n",
              "      border-color: transparent;\n",
              "      border-right-color: var(--fill-color);\n",
              "    }\n",
              "    80% {\n",
              "      border-color: transparent;\n",
              "      border-right-color: var(--fill-color);\n",
              "      border-bottom-color: var(--fill-color);\n",
              "    }\n",
              "    90% {\n",
              "      border-color: transparent;\n",
              "      border-bottom-color: var(--fill-color);\n",
              "    }\n",
              "  }\n",
              "</style>\n",
              "\n",
              "  <script>\n",
              "    async function quickchart(key) {\n",
              "      const quickchartButtonEl =\n",
              "        document.querySelector('#' + key + ' button');\n",
              "      quickchartButtonEl.disabled = true;  // To prevent multiple clicks.\n",
              "      quickchartButtonEl.classList.add('colab-df-spinner');\n",
              "      try {\n",
              "        const charts = await google.colab.kernel.invokeFunction(\n",
              "            'suggestCharts', [key], {});\n",
              "      } catch (error) {\n",
              "        console.error('Error during call to suggestCharts:', error);\n",
              "      }\n",
              "      quickchartButtonEl.classList.remove('colab-df-spinner');\n",
              "      quickchartButtonEl.classList.add('colab-df-quickchart-complete');\n",
              "    }\n",
              "    (() => {\n",
              "      let quickchartButtonEl =\n",
              "        document.querySelector('#df-20d31107-de00-4bb6-8001-be0eaa27bf23 button');\n",
              "      quickchartButtonEl.style.display =\n",
              "        google.colab.kernel.accessAllowed ? 'block' : 'none';\n",
              "    })();\n",
              "  </script>\n",
              "</div>\n",
              "\n",
              "  <div id=\"id_308fdf3e-4189-42de-9152-7a38173da1df\">\n",
              "    <style>\n",
              "      .colab-df-generate {\n",
              "        background-color: #E8F0FE;\n",
              "        border: none;\n",
              "        border-radius: 50%;\n",
              "        cursor: pointer;\n",
              "        display: none;\n",
              "        fill: #1967D2;\n",
              "        height: 32px;\n",
              "        padding: 0 0 0 0;\n",
              "        width: 32px;\n",
              "      }\n",
              "\n",
              "      .colab-df-generate:hover {\n",
              "        background-color: #E2EBFA;\n",
              "        box-shadow: 0px 1px 2px rgba(60, 64, 67, 0.3), 0px 1px 3px 1px rgba(60, 64, 67, 0.15);\n",
              "        fill: #174EA6;\n",
              "      }\n",
              "\n",
              "      [theme=dark] .colab-df-generate {\n",
              "        background-color: #3B4455;\n",
              "        fill: #D2E3FC;\n",
              "      }\n",
              "\n",
              "      [theme=dark] .colab-df-generate:hover {\n",
              "        background-color: #434B5C;\n",
              "        box-shadow: 0px 1px 3px 1px rgba(0, 0, 0, 0.15);\n",
              "        filter: drop-shadow(0px 1px 2px rgba(0, 0, 0, 0.3));\n",
              "        fill: #FFFFFF;\n",
              "      }\n",
              "    </style>\n",
              "    <button class=\"colab-df-generate\" onclick=\"generateWithVariable('datasetF')\"\n",
              "            title=\"Generate code using this dataframe.\"\n",
              "            style=\"display:none;\">\n",
              "\n",
              "  <svg xmlns=\"http://www.w3.org/2000/svg\" height=\"24px\"viewBox=\"0 0 24 24\"\n",
              "       width=\"24px\">\n",
              "    <path d=\"M7,19H8.4L18.45,9,17,7.55,7,17.6ZM5,21V16.75L18.45,3.32a2,2,0,0,1,2.83,0l1.4,1.43a1.91,1.91,0,0,1,.58,1.4,1.91,1.91,0,0,1-.58,1.4L9.25,21ZM18.45,9,17,7.55Zm-12,3A5.31,5.31,0,0,0,4.9,8.1,5.31,5.31,0,0,0,1,6.5,5.31,5.31,0,0,0,4.9,4.9,5.31,5.31,0,0,0,6.5,1,5.31,5.31,0,0,0,8.1,4.9,5.31,5.31,0,0,0,12,6.5,5.46,5.46,0,0,0,6.5,12Z\"/>\n",
              "  </svg>\n",
              "    </button>\n",
              "    <script>\n",
              "      (() => {\n",
              "      const buttonEl =\n",
              "        document.querySelector('#id_308fdf3e-4189-42de-9152-7a38173da1df button.colab-df-generate');\n",
              "      buttonEl.style.display =\n",
              "        google.colab.kernel.accessAllowed ? 'block' : 'none';\n",
              "\n",
              "      buttonEl.onclick = () => {\n",
              "        google.colab.notebook.generateWithVariable('datasetF');\n",
              "      }\n",
              "      })();\n",
              "    </script>\n",
              "  </div>\n",
              "\n",
              "    </div>\n",
              "  </div>\n"
            ],
            "application/vnd.google.colaboratory.intrinsic+json": {
              "type": "dataframe",
              "variable_name": "datasetF",
              "summary": "{\n  \"name\": \"datasetF\",\n  \"rows\": 10,\n  \"fields\": [\n    {\n      \"column\": \"id\",\n      \"properties\": {\n        \"dtype\": \"string\",\n        \"num_unique_values\": 10,\n        \"samples\": [\n          \"73515f05-e947-4801-8077-3abdeca95c84\",\n          \"e3d3c4e1-4fb2-45e7-9f88-247cc8f373b3\",\n          \"5ab84ea8-12d1-47d4-ab22-668ebf01e64c\"\n        ],\n        \"semantic_type\": \"\",\n        \"description\": \"\"\n      }\n    },\n    {\n      \"column\": \"Question\",\n      \"properties\": {\n        \"dtype\": \"string\",\n        \"num_unique_values\": 10,\n        \"samples\": [\n          \"Characteristics of Remifentanyl \\u2013 a) Metabolised by plasma esteraseb) Short half lifec) More potent than Alfentanyld) Dose reduced in hepatic and renal diseasee) Duration of action more than Alfentanyl\",\n          \"Which vitamin is supplied from only animal source:\",\n          \"Scrub typhus is transmitted by: September 2004\"\n        ],\n        \"semantic_type\": \"\",\n        \"description\": \"\"\n      }\n    },\n    {\n      \"column\": \"Answer\",\n      \"properties\": {\n        \"dtype\": \"string\",\n        \"num_unique_values\": 10,\n        \"samples\": [\n          \"Remifentanil is the shortest acting opioid due to its metabolism by plasma esterase \\u2192 dose adjustment is not needed in liver or kidney disease. It is more potent than alfentanil : Order of potency is Sufentanil > Fentanyl = Remifentanil > Alfentanil.\",\n          \"Ans. (c) Vitamin B12 Ref: Harrison's 19th ed. P 640* Vitamin B12 (Cobalamin) is synthesized solely by microorganisms.* In humans, the only source for humans is food of animal origin, e.g., meat, fish, and dairy products.* Vegetables, fruits, and other foods of nonanimal origin doesn't contain Vitamin B12 .* Daily requirements of vitamin Bp is about 1-3 pg. Body stores are of the order of 2-3 mg, sufficient for 3-4 years if supplies are completely cut off.\",\n          \"Ans. C i.e. Mite\"\n        ],\n        \"semantic_type\": \"\",\n        \"description\": \"\"\n      }\n    }\n  ]\n}"
            }
          },
          "metadata": {},
          "execution_count": 50
        }
      ],
      "source": [
        "datasetF"
      ]
    },
    {
      "cell_type": "code",
      "execution_count": 51,
      "metadata": {
        "id": "lQYkNUVOptjy"
      },
      "outputs": [],
      "source": [
        "from datasets import load_dataset\n",
        "eval_dataset = load_dataset(\"json\", data_files=\"/content/train_dataset.json\", split=\"train\")"
      ]
    },
    {
      "cell_type": "code",
      "execution_count": 52,
      "metadata": {
        "colab": {
          "base_uri": "https://localhost:8080/"
        },
        "id": "3aK3qtgdvKrD",
        "outputId": "bdeef643-459d-495a-cbc0-7e31ddef1c9d"
      },
      "outputs": [
        {
          "output_type": "execute_result",
          "data": {
            "text/plain": [
              "Dataset({\n",
              "    features: ['id', 'question', 'opa', 'opb', 'opc', 'opd', 'cop', 'choice_type', 'exp', 'subject_name', 'topic_name'],\n",
              "    num_rows: 182822\n",
              "})"
            ]
          },
          "metadata": {},
          "execution_count": 52
        }
      ],
      "source": [
        "eval_dataset"
      ]
    },
    {
      "cell_type": "code",
      "execution_count": 53,
      "metadata": {
        "colab": {
          "base_uri": "https://localhost:8080/"
        },
        "id": "MWKpVGg0oNJQ",
        "outputId": "5f255513-7f1f-4eda-a853-5237b6b5034f"
      },
      "outputs": [
        {
          "output_type": "execute_result",
          "data": {
            "text/plain": [
              "{'id': 'b3d1eb6c-3909-4011-ad10-d55538b81456',\n",
              " 'question': 'Naglers reaction is shown by',\n",
              " 'opa': 'Clostridium tetani',\n",
              " 'opb': 'Clostridium botulinum',\n",
              " 'opc': 'Clostridium perfringens',\n",
              " 'opd': 'Clostridium septicum',\n",
              " 'cop': 2,\n",
              " 'choice_type': 'single',\n",
              " 'exp': \"Nagler's reaction - when Clostridium perfringens is grown in media containing 6 % agar, 5% Fildes peptic digest of sheep blood and 20% human serum, with antitoxin spread on one half of plate, colonies in the other half without antitoxin will be surrounded by a zone of opacity. No opacity around the colonies on the half of plate with antitoxin, this is due to the specific neutralization of the alpha-toxin. This specific lecithinase effect, known as the Nagler's reaction. Reference: Textbook of Microbiology; Anathanarayan and paniker's; 10th edition; Page no: 263\",\n",
              " 'subject_name': 'Microbiology',\n",
              " 'topic_name': 'Bacteriology'}"
            ]
          },
          "metadata": {},
          "execution_count": 53
        }
      ],
      "source": [
        "nrec=10\n",
        "eval_dataset[nrec]"
      ]
    },
    {
      "cell_type": "code",
      "execution_count": 54,
      "metadata": {
        "colab": {
          "base_uri": "https://localhost:8080/",
          "height": 35
        },
        "id": "38zysyhRJxEc",
        "outputId": "ead9dc9c-63f6-4ae5-839d-b6d4240cbc25"
      },
      "outputs": [
        {
          "output_type": "execute_result",
          "data": {
            "text/plain": [
              "'Naglers reaction is shown by'"
            ],
            "application/vnd.google.colaboratory.intrinsic+json": {
              "type": "string"
            }
          },
          "metadata": {},
          "execution_count": 54
        }
      ],
      "source": [
        "eval_dataset[nrec]['question']"
      ]
    },
    {
      "cell_type": "code",
      "execution_count": 55,
      "metadata": {
        "colab": {
          "base_uri": "https://localhost:8080/",
          "height": 104
        },
        "id": "qVk0ZfzTIFDU",
        "outputId": "2922003e-9a81-4f7e-e6ee-a1d656f04f6c"
      },
      "outputs": [
        {
          "output_type": "execute_result",
          "data": {
            "text/plain": [
              "\"Nagler's reaction - when Clostridium perfringens is grown in media containing 6 % agar, 5% Fildes peptic digest of sheep blood and 20% human serum, with antitoxin spread on one half of plate, colonies in the other half without antitoxin will be surrounded by a zone of opacity. No opacity around the colonies on the half of plate with antitoxin, this is due to the specific neutralization of the alpha-toxin. This specific lecithinase effect, known as the Nagler's reaction. Reference: Textbook of Microbiology; Anathanarayan and paniker's; 10th edition; Page no: 263\""
            ],
            "application/vnd.google.colaboratory.intrinsic+json": {
              "type": "string"
            }
          },
          "metadata": {},
          "execution_count": 55
        }
      ],
      "source": [
        "eval_dataset[nrec]['exp']"
      ]
    },
    {
      "cell_type": "markdown",
      "metadata": {
        "id": "fnfZUrSztRWq"
      },
      "source": [
        "https://nbviewer.org/github/frank-morales2020/MLxDL/blob/main/upload_model_hf.ipynb"
      ]
    },
    {
      "cell_type": "code",
      "execution_count": 93,
      "metadata": {
        "id": "XKPDsS3QFDCF"
      },
      "outputs": [],
      "source": [
        "from random import randint\n",
        "rec = randint(0, len(eval_dataset))\n",
        "\n",
        "rec = 6"
      ]
    },
    {
      "cell_type": "code",
      "execution_count": null,
      "metadata": {
        "id": "YYcYQjqAG2f1"
      },
      "outputs": [],
      "source": [
        "# Inspect the structure of the messages\n",
        "#print(eval_dataset[rand_idx][\"messages\"][:2])\n",
        "\n",
        "#Use the chat template to format the input for the language model\n",
        "generation_pipeline = pipeline(\"text-generation\", model=model, tokenizer=tokenizer, device_map=\"auto\")  # Add device_map\n",
        "\n",
        "#prompt = generation_pipeline.tokenizer.apply_chat_template(modified_conversation, tokenize=False, add_generation_prompt=True)\n",
        "\n",
        "prompt = eval_dataset[rec]['question']\n",
        "outputs = generation_pipeline(prompt, max_new_tokens=128, do_sample=True, temperature=0.9,\n",
        "                                  top_k=30, top_p=0.1, eos_token_id=tokenizer.eos_token_id,\n",
        "                                  pad_token_id=tokenizer.eos_token_id)"
      ]
    },
    {
      "cell_type": "code",
      "execution_count": 95,
      "metadata": {
        "colab": {
          "base_uri": "https://localhost:8080/"
        },
        "id": "kaXV_ZL7TPfm",
        "outputId": "3f859d00-24a7-40b4-db25-eedf3728cb8b"
      },
      "outputs": [
        {
          "output_type": "execute_result",
          "data": {
            "text/plain": [
              "[{'generated_text': 'Abnormal vascular patterns seen with colposcopy in case of cervical intraepithelial neoplasia  are all except [/INST] Abnormal vascular pattern include punctation, mosaicism and atypical vessels. These are usually seen in CIN 2 and 3. Ref: Shaw Gynecology 17 e pg 340. '}]"
            ]
          },
          "metadata": {},
          "execution_count": 95
        }
      ],
      "source": [
        "outputs"
      ]
    },
    {
      "cell_type": "code",
      "execution_count": 96,
      "metadata": {
        "colab": {
          "base_uri": "https://localhost:8080/"
        },
        "id": "813ePtXgpTe3",
        "outputId": "f852a1d5-89a4-4605-d425-031464837d28"
      },
      "outputs": [
        {
          "output_type": "stream",
          "name": "stdout",
          "text": [
            "Question:\n",
            "Abnormal vascular patterns seen with colposcopy in case of cervical intraepithelial neoplasia  are all except\n",
            "\n",
            "Original Answer:\n",
            "Abnormal vascular pattern include punctation, mosaicism and atypical vessels.\n",
            "\n",
            "Generated Answer:\n",
            "Abnormal vascular pattern include punctation, mosaicism and atypical vessels. These are usually seen in CIN 2 and 3. Ref: Shaw Gynecology 17 e pg 340.\n",
            "\n",
            "The similarity between 2 strings is : 0.6784140969162996\n"
          ]
        }
      ],
      "source": [
        "oanswer=eval_dataset[rand_idx]['exp']\n",
        "ganswer=outputs[0]['generated_text'][len(prompt)+9:].strip()\n",
        "#rand_idx = randint(0, len(eval_dataset))\n",
        "\n",
        "print(f\"Question:\\n{eval_dataset[rand_idx]['question']}\")\n",
        "print()\n",
        "print(f\"Original Answer:\\n{oanswer}\")\n",
        "print()\n",
        "print(f\"Generated Answer:\\n{ganswer}\")\n",
        "\n",
        "from difflib import SequenceMatcher\n",
        "\n",
        "  # Utility function to compute similarity\n",
        "def similar(str1, str2):\n",
        "  return SequenceMatcher(None, str1, str2).ratio()\n",
        "\n",
        "# using SequenceMatcher.ratio()\n",
        "\n",
        "# similarity between strings\n",
        "similarity = similar(oanswer, ganswer)\n",
        "\n",
        "# printing the result\n",
        "print()\n",
        "print (\"The similarity between 2 strings is : \" + str(similarity))"
      ]
    },
    {
      "cell_type": "code",
      "execution_count": null,
      "metadata": {
        "id": "p3EqtZL7pX_2"
      },
      "outputs": [],
      "source": [
        "prompt='capital of russia?'\n",
        "\n",
        "outputs = generation_pipeline(prompt, max_new_tokens=256, do_sample=True, temperature=0.7,\n",
        "                              top_k=50, top_p=0.9, eos_token_id=tokenizer.eos_token_id,\n",
        "                              pad_token_id=tokenizer.eos_token_id)"
      ]
    },
    {
      "cell_type": "code",
      "execution_count": null,
      "metadata": {
        "colab": {
          "base_uri": "https://localhost:8080/"
        },
        "id": "PshJL1Qo7IoT",
        "outputId": "f3173373-5f46-4e73-eb7a-f2a920728823"
      },
      "outputs": [
        {
          "name": "stdout",
          "output_type": "stream",
          "text": [
            "Generated Answer:\n",
            "Ans. is 'd' i.e., Moscow\n"
          ]
        }
      ],
      "source": [
        "print(f\"Generated Answer:\\n{outputs[0]['generated_text'][len(prompt)+8:].strip()}\")"
      ]
    },
    {
      "cell_type": "code",
      "execution_count": null,
      "metadata": {
        "id": "INR7xG0skSPe"
      },
      "outputs": [],
      "source": [
        "q=eval_dataset[1]['question']"
      ]
    },
    {
      "cell_type": "code",
      "execution_count": 97,
      "metadata": {
        "colab": {
          "base_uri": "https://localhost:8080/"
        },
        "id": "W9Qa5_2gyusl",
        "outputId": "60e7a3b9-d283-4359-a1ff-9a20ea2e0e71"
      },
      "outputs": [
        {
          "output_type": "execute_result",
          "data": {
            "text/plain": [
              "Dataset({\n",
              "    features: ['id', 'question', 'opa', 'opb', 'opc', 'opd', 'cop', 'choice_type', 'exp', 'subject_name', 'topic_name'],\n",
              "    num_rows: 10\n",
              "})"
            ]
          },
          "metadata": {},
          "execution_count": 97
        }
      ],
      "source": [
        "number_of_eval_samples = 10\n",
        "eval_dataset.shuffle().select(range(number_of_eval_samples))"
      ]
    },
    {
      "cell_type": "code",
      "execution_count": 98,
      "metadata": {
        "colab": {
          "base_uri": "https://localhost:8080/"
        },
        "id": "Xpse-pG50wRW",
        "outputId": "99c4cd29-b32b-4c43-d613-bd11ad9bbdbc"
      },
      "outputs": [
        {
          "output_type": "execute_result",
          "data": {
            "text/plain": [
              "Dataset({\n",
              "    features: ['id', 'question', 'opa', 'opb', 'opc', 'opd', 'cop', 'choice_type', 'exp', 'subject_name', 'topic_name'],\n",
              "    num_rows: 182822\n",
              "})"
            ]
          },
          "metadata": {},
          "execution_count": 98
        }
      ],
      "source": [
        "eval_dataset"
      ]
    },
    {
      "cell_type": "code",
      "execution_count": 170,
      "metadata": {
        "colab": {
          "base_uri": "https://localhost:8080/"
        },
        "id": "iErFtC4BnkN9",
        "outputId": "0d1eb241-bc9a-41bc-8a7a-078afc4790a2"
      },
      "outputs": [
        {
          "output_type": "stream",
          "name": "stdout",
          "text": [
            "\n",
            "The similarity between 2 strings is : 0.338368580060423\n",
            "Question:\n",
            "Which vitamin is supplied from only animal source:\n",
            "Original Answer:\n",
            "Ans. (c) Vitamin B12 Ref: Harrison's 19th ed. P 640* Vitamin B12 (Cobalamin) is synthesized solely by microorganisms.* In humans, the only source for humans is food of animal origin, e.g., meat, fish, and dairy products.* Vegetables, fruits, and other foods of nonanimal origin doesn't contain Vitamin B12 .* Daily requirements of vitamin Bp is about 1-3 pg. Body stores are of the order of 2-3 mg, sufficient for 3-4 years if supplies are completely cut off.\n",
            "Generated Answer:\n",
            "Ans. (c) Vitamin B12(Ref: Harrison 19th/pg 640, 18th/pg 659)Vitamin B12 (Cobalamin) is synthesized solely by microorganisms. It is found in foods of animal origin, such as meat, fish, and dairy products.\n",
            "\n",
            "\n",
            "The similarity between 2 strings is : 0.4155161078238001\n",
            "Question:\n",
            "All of the following are surgical options for morbid obesity except -\n",
            "Original Answer:\n",
            "Ans. is 'd' i.e., Roux en Y Duodenal Bypass Bariatric surgical procedures include:a. Vertical banded gastroplastyb. Adjustable gastric bandingc. Roux-en Y gastric bypass (Not - Roux-en Y Duodenal Bypass)d. Biliopancreatic diversione. Duodenal switcho The surgical treatment of morbid obesity is known as bariatric surgery.o Morbid obesity is defined as body mass index of 35 kg/m2 or more with obesity related comorbidity, or BMI of 40 kg/m2 or greater without comorbidity.o Bariatric operations produce weight loss as a result of 2 factors. One is restriction of oralintake. The other is malabsorbtion of ingested food.o Gastric restrictive procedures include Vertical banded gastroplasty & Adjustable gastric bandingo Malabsorbtive procedures include Biliopancreatic diversion, and Duodenal switcho Roux-en Y gastric bypass has features of both restriction and malabsorptionBariatric Operations: Mechanism of ActionRestrictiveVertical banded gastroplastyLaparoscopic adjustable gastric bandingLargely Restrictive/Mildly MalabsorptiveRoux-en-Y gastric bypassLargely Malabsorptive/Mildly RestrictiveBiliopancreatic diversionDuodenal switch\n",
            "Generated Answer:\n",
            "Ans. is 'd' i.e., Roux en Y Duodenal Bypass Bariatric surgical procedures include:a. Vertical banded gastroplastyb. Adjustable gastric bandingc. Roux-en Y gastric bypass (Not - Roux-en Y Duodenal Bypass)d. Biliopancreatic diversione. Duodenal switcho The surgical treatment of morbid obesity is indicated when medical therapy has failed or is unlikely to succeed.o Morbid obesity is\n",
            "\n",
            "\n",
            "The similarity between 2 strings is : 0.7505567928730512\n",
            "Question:\n",
            "Growth hormone has its effect on growth through?\n",
            "Original Answer:\n",
            "Ans. is 'b' i.e., IGI-1GH has two major functions :-i) Growth of skeletal system :- The growth is mediated by somatomedins (IGF). Increased deposition of cailage (including chondroitin sulfate) and bone with increased proliferation of chondrocytes and osteocytes.ii) Metabolic effects :- Most of the metabolic effects are due to direct action of GH. These include gluconeogenesis, decreased peripheral utilization of glucose (decreased uptake), lipolysis and anabolic effect on proteins.\n",
            "Generated Answer:\n",
            "Ans. is 'b' i.e., IGI-1GH has two major functions : -i) Growth of skeletal system : - The growth is mediated by somatomedins (IGF). Increased deposition of cailage (including chondroitin sulfate) and bone with increased proliferation of chondrocytes and osteoblasts.ii) Metabolic effects : - Many of the metabolic effects are due to direct action of GH. These include,An increased metabolismAn increased glucone\n",
            "\n",
            "\n",
            "The similarity between 2 strings is : 0.8421052631578947\n",
            "Question:\n",
            "Scrub typhus is transmitted by: September 2004\n",
            "Original Answer:\n",
            "Ans. C i.e. Mite\n",
            "Generated Answer:\n",
            "Ans. C i.e. Mosquitoes\n",
            "\n",
            "\n",
            "The similarity between 2 strings is : 0.6784140969162996\n",
            "Question:\n",
            "Abnormal vascular patterns seen with colposcopy in case of cervical intraepithelial neoplasia  are all except\n",
            "Original Answer:\n",
            "Abnormal vascular pattern include punctation, mosaicism and atypical vessels.\n",
            "Generated Answer:\n",
            "Abnormal vascular pattern include punctation, mosaicism and atypical vessels. These are usually seen in CIN 2 and 3. Ref: Shaw Gynecology 17 e pg 340.\n",
            "\n",
            "Accuracy (Eval dataset and predict) for a sample of 10: 50.00%\n"
          ]
        }
      ],
      "source": [
        "from tqdm import tqdm\n",
        "import re\n",
        "\n",
        "# Load our test dataset\n",
        "#eval_dataset = load_dataset(\"json\", data_files=\"/content/test_dataset.json\", split=\"train\")\n",
        "eval_dataset = load_dataset(\"json\", data_files=\"/content/train_dataset.json\", split=\"train\")\n",
        "#eval_dataset = load_dataset(\"json\", data_files=\"/content/validation_dataset.json\", split=\"train\")\n",
        "\n",
        "def evaluate(sample):\n",
        "\n",
        "    prompt = sample['question']\n",
        "    answer=sample['exp']\n",
        "\n",
        "    if answer == None:\n",
        "       answer_original = 'Not possible to get or use'\n",
        "\n",
        "    answer_original = re.sub(\"\\n\", \"\", str(answer))\n",
        "\n",
        "\n",
        "    if len(answer_original)==0:\n",
        "        answer_original='Not possible to get or use'\n",
        "\n",
        "    str_question= sample['question']\n",
        "\n",
        "    prompt = re.sub(\"\\n\", \"\", str_question)\n",
        "\n",
        "    #prompt = eval_dataset[rand_idx]['Question']\n",
        "    outputs = generation_pipeline(prompt, max_new_tokens=128, do_sample=True, temperature=0.9,\n",
        "                                  top_k=30, top_p=0.1, eos_token_id=tokenizer.eos_token_id,\n",
        "                                  pad_token_id=tokenizer.eos_token_id)\n",
        "    #prompt = pipe.tokenizer.apply_chat_template(sample[\"messages\"][:2], tokenize=False, add_generation_prompt=True)\n",
        "    #outputs = pipe(prompt, max_new_tokens=256, do_sample=True, temperature=0.7, top_k=50, top_p=0.95, eos_token_id=pipe.tokenizer.eos_token_id, pad_token_id=pipe.tokenizer.pad_token_id)\n",
        "    predicted_answer = outputs[0]['generated_text'][len(prompt)+9:].strip()\n",
        "    #print(f\"Generated Answer:\\n{outputs[0]['generated_text'][len(prompt)+8:].strip()}\")\n",
        "\n",
        "    oanswer=sample['exp']\n",
        "\n",
        "    if oanswer == None:\n",
        "       oanswer = 'Not possible to get or use'\n",
        "\n",
        "    ganswer=outputs[0]['generated_text'][len(prompt)+9:].strip()\n",
        "    #print()\n",
        "    #print(f\"Question:\\n{sample['question']}\")\n",
        "    #print(f\"Original Answer:\\n{sample['exp']}\")\n",
        "    #print(f\"Generated Answer:\\n{outputs[0]['generated_text'][len(prompt)+9:].strip()}\")\n",
        "    #print()\n",
        "\n",
        "    # Python3 code to demonstrate\n",
        "    # similarity between strings\n",
        "    # using SequenceMatcher.ratio()\n",
        "    from difflib import SequenceMatcher\n",
        "\n",
        "    # Utility function to compute similarity\n",
        "    def similar(str1, str2):\n",
        "      return SequenceMatcher(None, str1, str2).ratio()\n",
        "\n",
        "    # using SequenceMatcher.ratio()\n",
        "    # similarity between strings\n",
        "    res = similar(oanswer, ganswer)\n",
        "\n",
        "    # printing the result\n",
        "    #print (\"The similarity between 2 strings is : \" + str(res))\n",
        "\n",
        "\n",
        "\n",
        "    if  res>0.30:\n",
        "          print ()\n",
        "          print (\"The similarity between 2 strings is : \" + str(res))\n",
        "          print(f\"Question:\\n{sample['question']}\")\n",
        "          print(f\"Original Answer:\\n{answer_original}\")\n",
        "          print(f\"Generated Answer:\\n{ganswer}\")\n",
        "          print ()\n",
        "          return 1\n",
        "    else:\n",
        "          #print(f\"Original Answer:\\n{answer_original}\")\n",
        "          return 0\n",
        "\n",
        "success_rate = []\n",
        "number_of_eval_samples = 10\n",
        "# iterate over eval dataset and predict\n",
        "\n",
        "#for s in tqdm(eval_dataset.shuffle().select(range(number_of_eval_samples))):\n",
        "for n in range(number_of_eval_samples):\n",
        "    s=eval_dataset[n]\n",
        "    success_rate.append(evaluate(s))\n",
        "\n",
        "# compute accuracy\n",
        "accuracy = sum(success_rate)/len(success_rate)\n",
        "\n",
        "print(f\"Accuracy (Eval dataset and predict) for a sample of {number_of_eval_samples}: {accuracy*100:.2f}%\")"
      ]
    },
    {
      "cell_type": "code",
      "source": [
        "# Load our test dataset\n",
        "#eval_dataset = load_dataset(\"json\", data_files=\"/content/validation_dataset.json\", split=\"train\")\n",
        "eval_dataset = load_dataset(\"json\", data_files=\"/content/train_dataset.json\", split=\"train\")"
      ],
      "metadata": {
        "id": "WEjPwMFBhbgh"
      },
      "execution_count": 171,
      "outputs": []
    },
    {
      "cell_type": "code",
      "source": [
        "from tqdm import tqdm\n",
        "import re\n",
        "from difflib import SequenceMatcher\n",
        "\n",
        "def generate_answer(prompt):\n",
        "    outputs = generation_pipeline(prompt, max_new_tokens=128, do_sample=True, temperature=0.9,\n",
        "                                  top_k=30, top_p=0.1, eos_token_id=tokenizer.eos_token_id,\n",
        "                                  pad_token_id=tokenizer.eos_token_id)\n",
        "    return outputs\n",
        "# Utility function to compute similarity\n",
        "def similar(str1, str2):\n",
        "    return SequenceMatcher(None, str1, str2).ratio()\n",
        "\n",
        "def evaluate(sample):\n",
        "\n",
        "    prompt = sample['question']\n",
        "    answer=sample['exp']\n",
        "\n",
        "    if answer == None:\n",
        "       answer_original = 'Not possible to get or use'\n",
        "\n",
        "    answer_original = re.sub(\"\\n\", \"\", str(answer))\n",
        "\n",
        "\n",
        "    if len(answer_original)==0:\n",
        "        answer_original='Not possible to get or use'\n",
        "\n",
        "    str_question= sample['question']\n",
        "\n",
        "    prompt = re.sub(\"\\n\", \"\", str_question)\n",
        "\n",
        "\n",
        "    oanswer=sample['exp']\n",
        "\n",
        "    outputs = generate_answer(prompt)\n",
        "    ganswer=outputs[0]['generated_text'][len(prompt)+9:].strip()\n",
        "\n",
        "    if oanswer == None:\n",
        "       oanswer = 'Not possible to get or use'\n",
        "\n",
        "    # similarity between strings\n",
        "    res = similar(oanswer,ganswer)\n",
        "    #del outputs, res,\n",
        "    # printing the result\n",
        "    #print (\"The similarity between 2 strings is : \" + str(res))\n",
        "\n",
        "\n",
        "    if  res>=0.30:\n",
        "          #print ()\n",
        "          #print (\"The similarity between 2 strings is : \" + str(res))\n",
        "          #print(f\"Question:\\n{sample['question']}\")\n",
        "          #print(f\"Original Answer:\\n{answer_original}\")\n",
        "          #print(f\"Generated Answer:\\n{ganswer}\")\n",
        "          #print ()\n",
        "          return 1\n",
        "    else:\n",
        "          #print(f\"Original Answer:\\n{answer_original}\")\n",
        "          return 0\n",
        "    del outputs, res,\n",
        "\n",
        "success_rate = []\n",
        "number_of_eval_samples = 1000\n",
        "# iterate over eval dataset and predict\n",
        "\n",
        "#for s in tqdm(eval_dataset.shuffle().select(range(number_of_eval_samples))):\n",
        "for n in range(number_of_eval_samples):\n",
        "    s=eval_dataset[n]\n",
        "    success_rate.append(evaluate(s))\n",
        "\n",
        "# compute accuracy\n",
        "accuracy = sum(success_rate)/len(success_rate)\n",
        "\n",
        "print(f\"Accuracy (Eval dataset and predict) for a sample of {number_of_eval_samples}: {accuracy*100:.2f}%\")"
      ],
      "metadata": {
        "id": "7nCoakRcgM_O"
      },
      "execution_count": null,
      "outputs": []
    },
    {
      "cell_type": "code",
      "execution_count": 112,
      "metadata": {
        "id": "FDchxiQ8glTm"
      },
      "outputs": [],
      "source": [
        "#print(f\"Accuracy (Eval dataset and predict) for a sample of {number_of_eval_samples}: {accuracy*100:.2f}%\")\n",
        "\n",
        "#Accuracy (Eval dataset and predict) for a sample of 1000: 3.50% EPOCH=1\n",
        "\n",
        "#Accuracy (Eval dataset and predict) for a sample of 100: 2.00% EPOCH=10 /content/test_dataset.json\n",
        "\n",
        "# /content/train_dataset.json\" Accuracy (Eval dataset and predict) for a sample of 100: 51.00%\n",
        "\n",
        "# /content/train_dataset.json\" Accuracy (Eval dataset and predict) for a sample of 1000: 48.00%"
      ]
    }
  ],
  "metadata": {
    "accelerator": "GPU",
    "colab": {
      "gpuType": "L4",
      "machine_shape": "hm",
      "provenance": [],
      "authorship_tag": "ABX9TyPmAFXcA4zWgAL8Lvvdvh3J",
      "include_colab_link": true
    },
    "kernelspec": {
      "display_name": "Python 3",
      "name": "python3"
    },
    "language_info": {
      "name": "python"
    }
  },
  "nbformat": 4,
  "nbformat_minor": 0
}