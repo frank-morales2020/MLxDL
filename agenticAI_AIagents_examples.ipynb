{
  "nbformat": 4,
  "nbformat_minor": 0,
  "metadata": {
    "colab": {
      "provenance": [],
      "collapsed_sections": [
        "hFpMwc_QfnOl",
        "R79qWBVFfxY2",
        "YosEulsmf1Ee",
        "KhUDXKhXf7mg",
        "9W4HtZnsgBU5",
        "dHut42wTgIN-",
        "dZUPlc0AgNk7",
        "8SAV416ggVaA",
        "wv0FXb1-gZkZ"
      ],
      "authorship_tag": "ABX9TyPY+hdDJJ9spTCukiNOlRe5",
      "include_colab_link": true
    },
    "kernelspec": {
      "name": "python3",
      "display_name": "Python 3"
    },
    "language_info": {
      "name": "python"
    }
  },
  "cells": [
    {
      "cell_type": "markdown",
      "metadata": {
        "id": "view-in-github",
        "colab_type": "text"
      },
      "source": [
        "<a href=\"https://colab.research.google.com/github/frank-morales2020/MLxDL/blob/main/agenticAI_AIagents_examples.ipynb\" target=\"_parent\"><img src=\"https://colab.research.google.com/assets/colab-badge.svg\" alt=\"Open In Colab\"/></a>"
      ]
    },
    {
      "cell_type": "markdown",
      "source": [
        "These examples aim to visually represent the conceptual differences."
      ],
      "metadata": {
        "id": "X4VdGflNg274"
      }
    },
    {
      "cell_type": "markdown",
      "source": [
        "## Chatbot Example"
      ],
      "metadata": {
        "id": "hFpMwc_QfnOl"
      }
    },
    {
      "cell_type": "code",
      "execution_count": 2,
      "metadata": {
        "colab": {
          "base_uri": "https://localhost:8080/"
        },
        "id": "_Sls56iIbSp3",
        "outputId": "58927731-e2cd-47dc-c1e9-228e91773cee"
      },
      "outputs": [
        {
          "output_type": "stream",
          "name": "stdout",
          "text": [
            "Hi there! How can I help you today?\n",
            "Our operating hours are 9 AM to 5 PM, Monday to Friday.\n",
            "I'm sorry, I don't understand that. Can you rephrase?\n"
          ]
        }
      ],
      "source": [
        "import time\n",
        "\n",
        "## Chatbot Example\n",
        "# This chatbot is rule-based and responds to specific keywords.\n",
        "class RuleBasedChatbot:\n",
        "    def __init__(self):\n",
        "        self.rules = {\n",
        "            \"hello\": \"Hi there! How can I help you today?\",\n",
        "            \"help\": \"I can assist with common questions. Try asking about 'hours' or 'contact'.\",\n",
        "            \"hours\": \"Our operating hours are 9 AM to 5 PM, Monday to Friday.\",\n",
        "            \"contact\": \"You can reach us at support@example.com or call 1-800-555-1234.\",\n",
        "            \"bye\": \"Goodbye! Have a great day.\"\n",
        "        }\n",
        "\n",
        "    def perceive(self, user_input):\n",
        "        return user_input.lower()\n",
        "\n",
        "    def act(self, perceived_input):\n",
        "        for keyword, response in self.rules.items():\n",
        "            if keyword in perceived_input:\n",
        "                return response\n",
        "        return \"I'm sorry, I don't understand that. Can you rephrase?\"\n",
        "\n",
        "# Example usage:\n",
        "chatbot = RuleBasedChatbot()\n",
        "print(chatbot.act(chatbot.perceive(\"Hello, I need some help.\")))\n",
        "print(chatbot.act(chatbot.perceive(\"What are your hours?\")))\n",
        "print(chatbot.act(chatbot.perceive(\"Can you tell me about something else?\")))"
      ]
    },
    {
      "cell_type": "markdown",
      "source": [
        "## Virtual Assistant"
      ],
      "metadata": {
        "id": "R79qWBVFfxY2"
      }
    },
    {
      "cell_type": "code",
      "source": [
        "## Virtual Assistant (Siri, Alexa) - Simplified Alarm Setter Example\n",
        "# This example simulates setting an alarm based on a voice command.\n",
        "class SimpleVirtualAssistant:\n",
        "    def perceive(self, command):\n",
        "        # In a real assistant, this would involve speech-to-text and NLP\n",
        "        return command.lower()\n",
        "\n",
        "    def act(self, processed_command):\n",
        "        if \"set alarm for\" in processed_command:\n",
        "            try:\n",
        "                # Extract time, e.g., \"set alarm for 7 am\"\n",
        "                parts = processed_command.split(\"for\")\n",
        "                time_str = parts[1].strip()\n",
        "                return f\"Alarm set for {time_str}.\"\n",
        "            except IndexError:\n",
        "                return \"Please specify a time for the alarm.\"\n",
        "        elif \"play music\" in processed_command:\n",
        "            return \"Playing your favorite music.\"\n",
        "        else:\n",
        "            return \"I can help with setting alarms or playing music.\"\n",
        "\n",
        "# Example usage:\n",
        "va = SimpleVirtualAssistant()\n",
        "print(va.act(va.perceive(\"Set alarm for 7:30 AM\")))\n",
        "print(va.act(va.perceive(\"Play music\")))"
      ],
      "metadata": {
        "colab": {
          "base_uri": "https://localhost:8080/"
        },
        "id": "IQ-myx9ibtLj",
        "outputId": "34b15405-3ebe-40bd-9f9c-868f6b6270a2"
      },
      "execution_count": 3,
      "outputs": [
        {
          "output_type": "stream",
          "name": "stdout",
          "text": [
            "Alarm set for 7:30 am.\n",
            "Playing your favorite music.\n"
          ]
        }
      ]
    },
    {
      "cell_type": "markdown",
      "source": [
        "## Thermostat Example"
      ],
      "metadata": {
        "id": "YosEulsmf1Ee"
      }
    },
    {
      "cell_type": "code",
      "source": [
        "# A basic thermostat agent that turns heating/cooling on/off based on temperature.\n",
        "class ThermostatAgent:\n",
        "    def __init__(self, desired_temperature=22): # Celsius\n",
        "        self.desired_temperature = desired_temperature\n",
        "        self.heating_on = False\n",
        "        self.cooling_on = False\n",
        "\n",
        "    def perceive(self, current_temperature):\n",
        "        return current_temperature\n",
        "\n",
        "    def act(self, current_temperature):\n",
        "        if current_temperature < self.desired_temperature - 1 and not self.heating_on:\n",
        "            self.heating_on = True\n",
        "            self.cooling_on = False\n",
        "            return f\"Current temp: {current_temperature}°C. Turning heating ON to reach {self.desired_temperature}°C.\"\n",
        "        elif current_temperature > self.desired_temperature + 1 and not self.cooling_on:\n",
        "            self.cooling_on = True\n",
        "            self.heating_on = False\n",
        "            return f\"Current temp: {current_temperature}°C. Turning cooling ON to reach {self.desired_temperature}°C.\"\n",
        "        elif self.heating_on and current_temperature >= self.desired_temperature:\n",
        "            self.heating_on = False\n",
        "            return \"Heating OFF. Desired temperature reached.\"\n",
        "        elif self.cooling_on and current_temperature <= self.desired_temperature:\n",
        "            self.cooling_on = False\n",
        "            return \"Cooling OFF. Desired temperature reached.\"\n",
        "        else:\n",
        "            return f\"Current temp: {current_temperature}°C. Temperature is optimal.\"\n",
        "\n",
        "# Example usage:\n",
        "thermostat = ThermostatAgent(desired_temperature=22)\n",
        "print(thermostat.act(thermostat.perceive(20)))\n",
        "print(thermostat.act(thermostat.perceive(23)))\n",
        "print(thermostat.act(thermostat.perceive(21)))"
      ],
      "metadata": {
        "colab": {
          "base_uri": "https://localhost:8080/"
        },
        "id": "nqb0UuGeb4ly",
        "outputId": "63fc84a9-3d3b-4ab0-9412-f16494f59512"
      },
      "execution_count": 4,
      "outputs": [
        {
          "output_type": "stream",
          "name": "stdout",
          "text": [
            "Current temp: 20°C. Turning heating ON to reach 22°C.\n",
            "Heating OFF. Desired temperature reached.\n",
            "Current temp: 21°C. Temperature is optimal.\n"
          ]
        }
      ]
    },
    {
      "cell_type": "markdown",
      "source": [
        "## Spam Filter Example"
      ],
      "metadata": {
        "id": "KhUDXKhXf7mg"
      }
    },
    {
      "cell_type": "code",
      "source": [
        "# A very basic rule-based spam filter.\n",
        "class SpamFilter:\n",
        "    def __init__(self):\n",
        "        self.spam_keywords = [\"lottery\", \"prize\", \"free money\", \"urgent\", \"nigerian prince\"]\n",
        "\n",
        "    def perceive(self, email_content):\n",
        "        return email_content.lower()\n",
        "\n",
        "    def act(self, processed_email):\n",
        "        for keyword in self.spam_keywords:\n",
        "            if keyword in processed_email:\n",
        "                return \"SPAM: Moved to Junk folder.\"\n",
        "        return \"INBOX: Appears to be a legitimate email.\"\n",
        "\n",
        "# Example usage:\n",
        "spam_filter = SpamFilter()\n",
        "print(spam_filter.act(spam_filter.perceive(\"Congratulations! You've won the lottery!\")))\n",
        "print(spam_filter.act(spam_filter.perceive(\"Meeting agenda for tomorrow.\")))"
      ],
      "metadata": {
        "colab": {
          "base_uri": "https://localhost:8080/"
        },
        "id": "kqlZc6sGcZ1Y",
        "outputId": "b2ea3939-c6aa-46e1-879f-60ccd5b2a97f"
      },
      "execution_count": 5,
      "outputs": [
        {
          "output_type": "stream",
          "name": "stdout",
          "text": [
            "SPAM: Moved to Junk folder.\n",
            "INBOX: Appears to be a legitimate email.\n"
          ]
        }
      ]
    },
    {
      "cell_type": "markdown",
      "source": [
        "## Robotic Process Automation (RPA) Bot Example"
      ],
      "metadata": {
        "id": "9W4HtZnsgBU5"
      }
    },
    {
      "cell_type": "code",
      "source": [
        "# Automating a simple data entry task.\n",
        "class SimpleRPA_Bot:\n",
        "    def __init__(self, data_source):\n",
        "        self.data_source = data_source # e.g., a list of customer records\n",
        "\n",
        "    def perceive(self):\n",
        "        if self.data_source:\n",
        "            return self.data_source.pop(0) # Get one record at a time\n",
        "        return None\n",
        "\n",
        "    def act(self, record):\n",
        "        if record:\n",
        "            # Simulate data entry into a system\n",
        "            if record['id'] == \"002\":\n",
        "                print(\"\\n\")\n",
        "            print(f\"RPA Bot: Processing record for {record['name']} (ID: {record['id']}).\")\n",
        "            print(f\"RPA Bot: Entering address: {record['address']}.\")\n",
        "            print(f\"RPA Bot: Updating status to 'processed'.\")\n",
        "\n",
        "            return \"Record processed successfully.\"\n",
        "\n",
        "        print(\"\\n\")\n",
        "        return \"No more records to process.\"\n",
        "\n",
        "# Example usage:\n",
        "customer_data = [\n",
        "     {\"id\": \"001\", \"name\": \"Alice Smith\", \"address\": \"123 Main St\"},\n",
        "     {\"id\": \"002\", \"name\": \"Bob Johnson\", \"address\": \"456 Oak Ave\"}\n",
        " ]\n",
        "\n",
        "rpa_bot = SimpleRPA_Bot(customer_data)\n",
        "print(rpa_bot.act(rpa_bot.perceive()))\n",
        "print(rpa_bot.act(rpa_bot.perceive()))\n",
        "print(rpa_bot.act(rpa_bot.perceive())) # No more data\n",
        "print('\\n')"
      ],
      "metadata": {
        "colab": {
          "base_uri": "https://localhost:8080/"
        },
        "id": "_cnbUt2tcwHe",
        "outputId": "0ee2e954-9c74-4721-c3d6-a9d2c7c6701e"
      },
      "execution_count": 12,
      "outputs": [
        {
          "output_type": "stream",
          "name": "stdout",
          "text": [
            "RPA Bot: Processing record for Alice Smith (ID: 001).\n",
            "RPA Bot: Entering address: 123 Main St.\n",
            "RPA Bot: Updating status to 'processed'.\n",
            "Record processed successfully.\n",
            "\n",
            "\n",
            "RPA Bot: Processing record for Bob Johnson (ID: 002).\n",
            "RPA Bot: Entering address: 456 Oak Ave.\n",
            "RPA Bot: Updating status to 'processed'.\n",
            "Record processed successfully.\n",
            "\n",
            "\n",
            "No more records to process.\n",
            "\n",
            "\n"
          ]
        }
      ]
    },
    {
      "cell_type": "markdown",
      "source": [
        "Agentic AI: Conceptual Code Examples\n",
        "For Agentic AI, the code becomes more abstract and would typically rely heavily on machine learning libraries (like TensorFlow or PyTorch), advanced algorithms, and complex decision-making processes. The examples below will use simplified representations to highlight concepts like adaptability, dynamic planning, and proactive behavior.\n",
        "\n"
      ],
      "metadata": {
        "id": "-EOwkVtrd-la"
      }
    },
    {
      "cell_type": "markdown",
      "source": [
        "## Autonomous IT Operations AI (Conceptual)"
      ],
      "metadata": {
        "id": "dHut42wTgIN-"
      }
    },
    {
      "cell_type": "code",
      "source": [
        "import random\n",
        "\n",
        "# This agent adapts network configurations based on perceived inefficiencies and learns.\n",
        "class AutonomousITOpsAI:\n",
        "    def __init__(self):\n",
        "        self.network_config = {\"bandwidth_limit\": 100, \"priority_ports\": []}\n",
        "        self.performance_history = [] # To simulate learning from past performance\n",
        "\n",
        "    def perceive(self, network_data):\n",
        "        # In reality, this would analyze logs, traffic patterns, error rates.\n",
        "        # Here, we simulate a 'performance score'\n",
        "        simulated_performance = network_data.get(\"performance_score\", random.randint(0, 100))\n",
        "        return simulated_performance\n",
        "\n",
        "    def act(self, performance_score):\n",
        "        print(f\"\\nITOps AI: Perceived performance score: {performance_score}\")\n",
        "        self.performance_history.append(performance_score)\n",
        "\n",
        "        if performance_score < 50:\n",
        "            # Dynamic Planning: Identify specific issues and adapt config\n",
        "            print(\"ITOps AI: Performance is low. Analyzing root cause...\")\n",
        "            if performance_score < 30: # Very low, suggests congestion\n",
        "                print(\"ITOps AI: Detected congestion. Increasing bandwidth limit.\")\n",
        "                self.network_config[\"bandwidth_limit\"] += 20\n",
        "                print(f\"ITOps AI: New bandwidth limit: {self.network_config['bandwidth_limit']}\")\n",
        "            elif \"latency_spikes\" in self.network_config: # Proactive behavior/Adaptation\n",
        "                 print(\"ITOps AI: High latency detected. Prioritizing critical ports.\")\n",
        "                 if \"port_80\" not in self.network_config[\"priority_ports\"]:\n",
        "                    self.network_config[\"priority_ports\"].append(\"port_80\")\n",
        "                 print(f\"ITOps AI: Prioritized ports: {self.network_config['priority_ports']}\")\n",
        "            return \"Configuration adjusted due to low performance.\"\n",
        "        elif performance_score > 80 and len(self.performance_history) > 5 and all(p > 70 for p in self.performance_history[-5:]):\n",
        "            # Learning and Optimization: If consistently good, fine-tune\n",
        "            print(\"ITOps AI: Performance consistently high. Considering optimizations.\")\n",
        "            if self.network_config[\"bandwidth_limit\"] > 100:\n",
        "                print(\"ITOps AI: Slight reduction in bandwidth limit for cost efficiency.\")\n",
        "                self.network_config[\"bandwidth_limit\"] -= 5\n",
        "                print(f\"ITOps AI: New bandwidth limit: {self.network_config['bandwidth_limit']}\")\n",
        "            return \"Optimizations applied.\"\n",
        "        else:\n",
        "            return \"Network performance is satisfactory.\"\n",
        "\n",
        "# Example usage:\n",
        "it_ops_ai = AutonomousITOpsAI()\n",
        "print(it_ops_ai.act(it_ops_ai.perceive({\"performance_score\": 40}))) # Low performance\n",
        "print(it_ops_ai.act(it_ops_ai.perceive({\"performance_score\": 25}))) # Even lower\n",
        "print(it_ops_ai.act(it_ops_ai.perceive({\"performance_score\": 90}))) # Good performance\n",
        "print(it_ops_ai.act(it_ops_ai.perceive({\"performance_score\": 85}))) # Consistently good\n",
        "print(it_ops_ai.act(it_ops_ai.perceive({\"performance_score\": 88})))"
      ],
      "metadata": {
        "colab": {
          "base_uri": "https://localhost:8080/"
        },
        "id": "gq2270jPeAOl",
        "outputId": "78b44ec0-9cb1-42a6-c7bd-8d651b385525"
      },
      "execution_count": 13,
      "outputs": [
        {
          "output_type": "stream",
          "name": "stdout",
          "text": [
            "\n",
            "ITOps AI: Perceived performance score: 40\n",
            "ITOps AI: Performance is low. Analyzing root cause...\n",
            "Configuration adjusted due to low performance.\n",
            "\n",
            "ITOps AI: Perceived performance score: 25\n",
            "ITOps AI: Performance is low. Analyzing root cause...\n",
            "ITOps AI: Detected congestion. Increasing bandwidth limit.\n",
            "ITOps AI: New bandwidth limit: 120\n",
            "Configuration adjusted due to low performance.\n",
            "\n",
            "ITOps AI: Perceived performance score: 90\n",
            "Network performance is satisfactory.\n",
            "\n",
            "ITOps AI: Perceived performance score: 85\n",
            "Network performance is satisfactory.\n",
            "\n",
            "ITOps AI: Perceived performance score: 88\n",
            "Network performance is satisfactory.\n"
          ]
        }
      ]
    },
    {
      "cell_type": "markdown",
      "source": [
        "## Cybersecurity AI (Conceptual)"
      ],
      "metadata": {
        "id": "dZUPlc0AgNk7"
      }
    },
    {
      "cell_type": "code",
      "source": [
        "# This AI actively adjusts security rules based on evolving threats.\n",
        "class CybersecurityAI:\n",
        "    def __init__(self):\n",
        "        self.security_rules = {\"blocked_ips\": [], \"allowed_ports\": [80, 443]}\n",
        "        self.threat_intelligence = {} # Learns from new threat patterns\n",
        "\n",
        "    def perceive(self, threat_data):\n",
        "        # In reality, this would involve analyzing network traffic, IDS alerts, threat feeds.\n",
        "        # We simulate a 'threat score' and new attack patterns.\n",
        "        simulated_threat_score = threat_data.get(\"threat_score\", random.randint(0, 100))\n",
        "        new_attack_pattern = threat_data.get(\"new_pattern\", None)\n",
        "        return simulated_threat_score, new_attack_pattern\n",
        "\n",
        "    def act(self, threat_score, new_attack_pattern):\n",
        "        print(f\"\\nCybersecurity AI: Perceived threat score: {threat_score}\")\n",
        "\n",
        "        if new_attack_pattern:\n",
        "            print(f\"Cybersecurity AI: Detected new attack pattern: '{new_attack_pattern}'\")\n",
        "            # Adaptability and Learning: Update threat intelligence\n",
        "            self.threat_intelligence[new_attack_pattern] = self.threat_intelligence.get(new_attack_pattern, 0) + 1\n",
        "            if new_attack_pattern == \"DDOS_signature_v2\" and \"192.168.1.10\" not in self.security_rules[\"blocked_ips\"]:\n",
        "                print(\"Cybersecurity AI: Proactively blocking suspected source IP.\")\n",
        "                self.security_rules[\"blocked_ips\"].append(\"192.168.1.10\")\n",
        "            elif new_attack_pattern == \"Port_Scan_Attempt\":\n",
        "                print(\"Cybersecurity AI: Adjusting firewall to restrict suspicious port access.\")\n",
        "                if 22 in self.security_rules[\"allowed_ports\"]:\n",
        "                    self.security_rules[\"allowed_ports\"].remove(22) # Close port 22 if open\n",
        "                    print(f\"Cybersecurity AI: Allowed ports: {self.security_rules['allowed_ports']}\")\n",
        "            return \"Security rules updated based on new threat pattern.\"\n",
        "        elif threat_score > 70:\n",
        "            print(\"Cybersecurity AI: High threat score. Initiating higher alert level.\")\n",
        "            # Dynamic Decision-making: Based on score, escalate\n",
        "            if \"192.168.1.100\" not in self.security_rules[\"blocked_ips\"]:\n",
        "                print(\"Cybersecurity AI: Blocking suspicious IP '192.168.1.100'.\")\n",
        "                self.security_rules[\"blocked_ips\"].append(\"192.168.1.100\")\n",
        "            return \"Proactive defense activated.\"\n",
        "        else:\n",
        "            return \"Security posture remains optimal.\"\n",
        "\n",
        "# Example usage:\n",
        "cybersecurity_ai = CybersecurityAI()\n",
        "print(cybersecurity_ai.act(*cybersecurity_ai.perceive({\"threat_score\": 85}))) # High threat\n",
        "print(cybersecurity_ai.act(*cybersecurity_ai.perceive({\"threat_score\": 60, \"new_pattern\": \"DDOS_signature_v2\"}))) # New pattern detected\n",
        "print(cybersecurity_ai.act(*cybersecurity_ai.perceive({\"threat_score\": 95, \"new_pattern\": \"Port_Scan_Attempt\"}))) # Another new pattern"
      ],
      "metadata": {
        "colab": {
          "base_uri": "https://localhost:8080/"
        },
        "id": "HLSRlYJYeXkF",
        "outputId": "5fd19639-de19-46f3-9e68-a045a7765726"
      },
      "execution_count": 14,
      "outputs": [
        {
          "output_type": "stream",
          "name": "stdout",
          "text": [
            "\n",
            "Cybersecurity AI: Perceived threat score: 85\n",
            "Cybersecurity AI: High threat score. Initiating higher alert level.\n",
            "Cybersecurity AI: Blocking suspicious IP '192.168.1.100'.\n",
            "Proactive defense activated.\n",
            "\n",
            "Cybersecurity AI: Perceived threat score: 60\n",
            "Cybersecurity AI: Detected new attack pattern: 'DDOS_signature_v2'\n",
            "Cybersecurity AI: Proactively blocking suspected source IP.\n",
            "Security rules updated based on new threat pattern.\n",
            "\n",
            "Cybersecurity AI: Perceived threat score: 95\n",
            "Cybersecurity AI: Detected new attack pattern: 'Port_Scan_Attempt'\n",
            "Cybersecurity AI: Adjusting firewall to restrict suspicious port access.\n",
            "Security rules updated based on new threat pattern.\n"
          ]
        }
      ]
    },
    {
      "cell_type": "markdown",
      "source": [
        "## Complex Logistics Optimization (Conceptual)"
      ],
      "metadata": {
        "id": "8SAV416ggVaA"
      }
    },
    {
      "cell_type": "code",
      "source": [
        "# This AI dynamically plans routes considering real-time factors.\n",
        "class LogisticsOptimizationAI:\n",
        "    def __init__(self):\n",
        "        self.current_routes = {} # {delivery_id: [stops]}\n",
        "        self.historical_data = {} # Learning from past efficiency\n",
        "\n",
        "    def perceive(self, real_time_data):\n",
        "        # This would involve APIs for traffic, weather, new orders, vehicle status.\n",
        "        return real_time_data\n",
        "\n",
        "    def act(self, real_time_data):\n",
        "        print(f\"\\nLogistics AI: Analyzing real-time data: {real_time_data}\")\n",
        "        affected_deliveries = real_time_data.get(\"affected_deliveries\", [])\n",
        "        new_orders = real_time_data.get(\"new_orders\", [])\n",
        "        traffic_alerts = real_time_data.get(\"traffic_alerts\", {})\n",
        "\n",
        "        if new_orders:\n",
        "            for order_id, details in new_orders.items():\n",
        "                print(f\"Logistics AI: New order {order_id}. Dynamically planning route.\")\n",
        "                # Dynamic Planning: Integrate new order into existing routes or create new one\n",
        "                # This would use complex algorithms (e.g., genetic algorithms, reinforcement learning)\n",
        "                # For simplicity, we just acknowledge.\n",
        "                self.current_routes[order_id] = [details['pickup'], details['delivery']]\n",
        "            return \"New orders integrated and routes updated.\"\n",
        "\n",
        "        if traffic_alerts:\n",
        "            for route_id, alert_details in traffic_alerts.items():\n",
        "                print(f\"Logistics AI: Traffic alert on route {route_id}: {alert_details['description']}.\")\n",
        "                # Adaptability: Reroute based on real-time traffic\n",
        "                old_route = self.current_routes.get(route_id, [])\n",
        "                if old_route:\n",
        "                    new_route = old_route # Placeholder for complex rerouting logic\n",
        "                    print(f\"Logistics AI: Rerouting delivery {route_id} to avoid congestion.\")\n",
        "                    self.current_routes[route_id] = new_route\n",
        "            return \"Routes optimized due to traffic.\"\n",
        "\n",
        "        if affected_deliveries:\n",
        "            print(f\"Logistics AI: Addressing affected deliveries: {affected_deliveries}\")\n",
        "            # Proactive Behavior: Anticipate delays and notify, or find solutions\n",
        "            return \"Proactively addressing delivery impacts.\"\n",
        "\n",
        "        return \"Logistics system operating normally.\"\n",
        "\n",
        "# Example usage:\n",
        "logistics_ai = LogisticsOptimizationAI()\n",
        "print(logistics_ai.act(logistics_ai.perceive({\"new_orders\": {\"ORD001\": {\"pickup\": \"A\", \"delivery\": \"B\"}}})))\n",
        "print(logistics_ai.act(logistics_ai.perceive({\"traffic_alerts\": {\"route_X\": {\"description\": \"Heavy congestion on M-10\"}}\n",
        "                                             , \"affected_deliveries\": [\"DELIVERY123\"]\n",
        "                                              })))"
      ],
      "metadata": {
        "colab": {
          "base_uri": "https://localhost:8080/"
        },
        "id": "zFBgkMtaek94",
        "outputId": "ce4fcfb2-ba75-486f-ff7e-d193026760ae"
      },
      "execution_count": 15,
      "outputs": [
        {
          "output_type": "stream",
          "name": "stdout",
          "text": [
            "\n",
            "Logistics AI: Analyzing real-time data: {'new_orders': {'ORD001': {'pickup': 'A', 'delivery': 'B'}}}\n",
            "Logistics AI: New order ORD001. Dynamically planning route.\n",
            "New orders integrated and routes updated.\n",
            "\n",
            "Logistics AI: Analyzing real-time data: {'traffic_alerts': {'route_X': {'description': 'Heavy congestion on M-10'}}, 'affected_deliveries': ['DELIVERY123']}\n",
            "Logistics AI: Traffic alert on route route_X: Heavy congestion on M-10.\n",
            "Routes optimized due to traffic.\n"
          ]
        }
      ]
    },
    {
      "cell_type": "markdown",
      "source": [
        "## Drug Discovery (Conceptual)"
      ],
      "metadata": {
        "id": "wv0FXb1-gZkZ"
      }
    },
    {
      "cell_type": "code",
      "source": [
        "# This AI analyzes data, proposes structures, simulates, and learns from results.\n",
        "class DrugDiscoveryAI:\n",
        "    def __init__(self):\n",
        "        self.candidate_molecules = {} # {id: {structure, properties}}\n",
        "        self.experiment_results = {} # Learning from past experiments\n",
        "\n",
        "    def perceive(self, research_data):\n",
        "        # Large datasets: genomic data, protein structures, existing drug properties, disease pathways.\n",
        "        return research_data\n",
        "\n",
        "    def act(self, research_data):\n",
        "        print(f\"\\nDrug Discovery AI: Analyzing research data...\")\n",
        "        disease_target = research_data.get(\"disease_target\")\n",
        "        experimental_feedback = research_data.get(\"experimental_feedback\")\n",
        "\n",
        "        if disease_target:\n",
        "            print(f\"Drug Discovery AI: Focusing on target '{disease_target}'.\")\n",
        "            # Proactive/Dynamic Planning: Propose novel molecular structures\n",
        "            # This would involve generative models (e.g., GANs, VAEs)\n",
        "            new_molecule_id = f\"MOL_{random.randint(1000, 9999)}\"\n",
        "            simulated_structure = f\"Simulated_Structure_for_{disease_target}_{new_molecule_id}\"\n",
        "            simulated_properties = {\"binding_affinity\": random.uniform(0.5, 0.95), \"toxicity\": random.uniform(0.01, 0.1)}\n",
        "            self.candidate_molecules[new_molecule_id] = {\"structure\": simulated_structure, \"properties\": simulated_properties}\n",
        "            print(f\"Drug Discovery AI: Proposed new molecule: {new_molecule_id} with properties: {simulated_properties}\")\n",
        "            return f\"New molecule {new_molecule_id} proposed for {disease_target}. Ready for simulation.\"\n",
        "\n",
        "        if experimental_feedback:\n",
        "            molecule_id = experimental_feedback[\"molecule_id\"]\n",
        "            result = experimental_feedback[\"result\"]\n",
        "            print(f\"Drug Discovery AI: Received experimental feedback for {molecule_id}: {result}\")\n",
        "            # Adaptability and Learning: Update understanding based on experimental outcome\n",
        "            self.experiment_results[molecule_id] = result\n",
        "            if result == \"ineffective\":\n",
        "                print(f\"Drug Discovery AI: Learning from ineffective {molecule_id}. Adjusting future proposals.\")\n",
        "                # This would feed back into the generative model's training\n",
        "                return \"Learning and adapting based on experimental feedback.\"\n",
        "            elif result == \"promising\":\n",
        "                print(f\"Drug Discovery AI: {molecule_id} is promising. Designing further experiments.\")\n",
        "                # Proactive: Design next steps\n",
        "                return \"Designing follow-up experiments.\"\n",
        "\n",
        "        return \"Awaiting further research data.\"\n",
        "\n",
        "# Example usage:\n",
        "drug_ai = DrugDiscoveryAI()\n",
        "print(drug_ai.act(drug_ai.perceive({\"disease_target\": \"Alzheimer's\"})))\n",
        "print(drug_ai.act(drug_ai.perceive({\"experimental_feedback\": {\"molecule_id\": \"MOL_7890\", \"result\": \"ineffective\"}})))\n",
        "print(drug_ai.act(drug_ai.perceive({\"disease_target\": \"Cancer\"})))"
      ],
      "metadata": {
        "colab": {
          "base_uri": "https://localhost:8080/"
        },
        "id": "Rdmw47VaewSl",
        "outputId": "5536e6c2-3422-4948-8501-d7d3ff01bc54"
      },
      "execution_count": 16,
      "outputs": [
        {
          "output_type": "stream",
          "name": "stdout",
          "text": [
            "\n",
            "Drug Discovery AI: Analyzing research data...\n",
            "Drug Discovery AI: Focusing on target 'Alzheimer's'.\n",
            "Drug Discovery AI: Proposed new molecule: MOL_7306 with properties: {'binding_affinity': 0.8133173227721417, 'toxicity': 0.07683524886854191}\n",
            "New molecule MOL_7306 proposed for Alzheimer's. Ready for simulation.\n",
            "\n",
            "Drug Discovery AI: Analyzing research data...\n",
            "Drug Discovery AI: Received experimental feedback for MOL_7890: ineffective\n",
            "Drug Discovery AI: Learning from ineffective MOL_7890. Adjusting future proposals.\n",
            "Learning and adapting based on experimental feedback.\n",
            "\n",
            "Drug Discovery AI: Analyzing research data...\n",
            "Drug Discovery AI: Focusing on target 'Cancer'.\n",
            "Drug Discovery AI: Proposed new molecule: MOL_5658 with properties: {'binding_affinity': 0.6773157757286151, 'toxicity': 0.029346211337164432}\n",
            "New molecule MOL_5658 proposed for Cancer. Ready for simulation.\n"
          ]
        }
      ]
    },
    {
      "cell_type": "markdown",
      "source": [
        "## Personalized Financial Management (Conceptual)"
      ],
      "metadata": {
        "id": "O6uBk1H8gfF3"
      }
    },
    {
      "cell_type": "code",
      "source": [
        "# This AI learns user habits, plans, and acts to optimize finances.\n",
        "class FinancialManagementAI:\n",
        "    def __init__(self, user_profile):\n",
        "        self.user_profile = user_profile # {'income': 5000, 'expenses': 3000, 'goals': {'savings': 10000, 'retirement_age': 65}}\n",
        "        self.current_balance = user_profile.get('initial_balance', 0)\n",
        "        self.investment_portfolio = {} # Simplified\n",
        "        self.financial_history = [] # For learning and trend analysis\n",
        "\n",
        "    def perceive(self, transaction_data):\n",
        "        # In reality, this would connect to bank accounts, investment platforms.\n",
        "        return transaction_data\n",
        "\n",
        "    def act(self, transaction_data):\n",
        "        print(f\"\\nFinancial AI: Processing transactions...\")\n",
        "        self.financial_history.append(transaction_data) # Add to history for learning\n",
        "\n",
        "        for transaction in transaction_data.get(\"transactions\", []):\n",
        "            amount = transaction[\"amount\"]\n",
        "            description = transaction[\"description\"]\n",
        "            transaction_type = transaction[\"type\"] # 'debit' or 'credit'\n",
        "\n",
        "            if transaction_type == 'debit':\n",
        "                self.current_balance -= amount\n",
        "                print(f\"Financial AI: Spent ${amount} on '{description}'. Current balance: ${self.current_balance}\")\n",
        "            else:\n",
        "                self.current_balance += amount\n",
        "                print(f\"Financial AI: Received ${amount} for '{description}'. Current balance: ${self.current_balance}\")\n",
        "\n",
        "        # Adaptability/Learning: Analyze spending patterns and provide insights\n",
        "        # (Simplified: in reality, would use ML for categorization and forecasting)\n",
        "        if sum(t['amount'] for t in transaction_data.get(\"transactions\", []) if t['type'] == 'debit') > 1500:\n",
        "            print(\"Financial AI: Noticed higher spending this period. Suggesting budget review.\")\n",
        "            return \"Budget review suggested due to increased spending.\"\n",
        "\n",
        "        # Proactive Behavior & Dynamic Planning: Auto-invest, transfer funds, suggest optimizations\n",
        "        target_savings = self.user_profile['goals']['savings']\n",
        "        if self.current_balance > (self.user_profile['income'] / 2) and self.current_balance < target_savings:\n",
        "            transfer_amount = min(self.current_balance - (self.user_profile['income'] / 2), target_savings - self.current_balance, 500)\n",
        "            if transfer_amount > 0:\n",
        "                self.current_balance -= transfer_amount\n",
        "                self.investment_portfolio[\"savings\"] = self.investment_portfolio.get(\"savings\", 0) + transfer_amount\n",
        "                print(f\"Financial AI: Proactively transferring ${transfer_amount} to savings for goal achievement. New balance: ${self.current_balance}\")\n",
        "                return \"Funds transferred to savings automatically.\"\n",
        "\n",
        "        return \"Financial management is optimal.\"\n",
        "\n",
        "# Example usage:\n",
        "user_profile_data = {\n",
        "     'income': 5000,\n",
        "     'expenses': 3000,\n",
        "     'goals': {'savings': 10000, 'retirement_age': 65},\n",
        "     'initial_balance': 2500\n",
        " }\n",
        "financial_ai = FinancialManagementAI(user_profile_data)\n",
        "print(financial_ai.act(financial_ai.perceive({\"transactions\": [\n",
        "    {\"type\": \"debit\", \"amount\": 100, \"description\": \"Groceries\"},\n",
        "    {\"type\": \"credit\", \"amount\": 2500, \"description\": \"Salary\"},\n",
        "    {\"type\": \"debit\", \"amount\": 800, \"description\": \"Rent\"}\n",
        "]})))\n",
        "\n",
        "print(financial_ai.act(financial_ai.perceive({\"transactions\": [\n",
        "     {\"type\": \"debit\", \"amount\": 150, \"description\": \"Dinner out\"},\n",
        "     {\"type\": \"debit\", \"amount\": 600, \"description\": \"Shopping\"}\n",
        "]})))"
      ],
      "metadata": {
        "colab": {
          "base_uri": "https://localhost:8080/"
        },
        "id": "Q-KDp2Nie6Y-",
        "outputId": "26b87fe9-dfe1-4b52-dc05-9d0f0e308ce8"
      },
      "execution_count": 17,
      "outputs": [
        {
          "output_type": "stream",
          "name": "stdout",
          "text": [
            "\n",
            "Financial AI: Processing transactions...\n",
            "Financial AI: Spent $100 on 'Groceries'. Current balance: $2400\n",
            "Financial AI: Received $2500 for 'Salary'. Current balance: $4900\n",
            "Financial AI: Spent $800 on 'Rent'. Current balance: $4100\n",
            "Financial AI: Proactively transferring $500 to savings for goal achievement. New balance: $3600\n",
            "Funds transferred to savings automatically.\n",
            "\n",
            "Financial AI: Processing transactions...\n",
            "Financial AI: Spent $150 on 'Dinner out'. Current balance: $3450\n",
            "Financial AI: Spent $600 on 'Shopping'. Current balance: $2850\n",
            "Financial AI: Proactively transferring $350.0 to savings for goal achievement. New balance: $2500.0\n",
            "Funds transferred to savings automatically.\n"
          ]
        }
      ]
    }
  ]
}