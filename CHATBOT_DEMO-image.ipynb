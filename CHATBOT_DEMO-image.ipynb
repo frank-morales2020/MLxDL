{
  "cells": [
    {
      "cell_type": "markdown",
      "metadata": {
        "id": "view-in-github",
        "colab_type": "text"
      },
      "source": [
        "<a href=\"https://colab.research.google.com/github/frank-morales2020/MLxDL/blob/main/CHATBOT_DEMO-image.ipynb\" target=\"_parent\"><img src=\"https://colab.research.google.com/assets/colab-badge.svg\" alt=\"Open In Colab\"/></a>"
      ]
    },
    {
      "cell_type": "code",
      "execution_count": null,
      "metadata": {
        "id": "uFZ06uVT7UYq"
      },
      "outputs": [],
      "source": [
        "!pip install flask openai colab-env -q"
      ]
    },
    {
      "cell_type": "code",
      "execution_count": null,
      "metadata": {
        "id": "Z1d8N9cUXJav"
      },
      "outputs": [],
      "source": [
        "!pip install pyngrok -q  # Install pyngrok"
      ]
    },
    {
      "cell_type": "code",
      "execution_count": null,
      "metadata": {
        "id": "CT44SgITg0xV"
      },
      "outputs": [],
      "source": [
        "!pip install --upgrade openai -q"
      ]
    },
    {
      "cell_type": "code",
      "execution_count": null,
      "metadata": {
        "id": "SUhI0VJaVmHV"
      },
      "outputs": [],
      "source": [
        "!curl -sSL https://ngrok-agent.s3.amazonaws.com/ngrok.asc \\\n",
        "\t| sudo tee /etc/apt/trusted.gpg.d/ngrok.asc >/dev/null \\\n",
        "\t&& echo \"deb https://ngrok-agent.s3.amazonaws.com buster main\" \\\n",
        "\t| sudo tee /etc/apt/sources.list.d/ngrok.list \\\n",
        "\t&& sudo apt update \\\n",
        "\t&& sudo apt install ngrok"
      ]
    },
    {
      "cell_type": "markdown",
      "metadata": {
        "id": "nKjdO7OFzNUn"
      },
      "source": [
        "FINAL_PROD"
      ]
    },
    {
      "cell_type": "code",
      "execution_count": null,
      "metadata": {
        "colab": {
          "base_uri": "https://localhost:8080/",
          "height": 191
        },
        "id": "QYKZjOTAxyvh",
        "outputId": "1dd1b5b3-8ae8-4b3b-8ac7-9ca42a7b1030"
      },
      "outputs": [
        {
          "output_type": "stream",
          "name": "stdout",
          "text": [
            "Mounted at /content/gdrive\n",
            " * Serving Flask app '__main__'\n",
            " * Debug mode: on\n"
          ]
        },
        {
          "output_type": "stream",
          "name": "stderr",
          "text": [
            "INFO:werkzeug:\u001b[31m\u001b[1mWARNING: This is a development server. Do not use it in a production deployment. Use a production WSGI server instead.\u001b[0m\n",
            " * Running on all addresses (0.0.0.0)\n",
            " * Running on http://127.0.0.1:42947\n",
            " * Running on http://172.28.0.2:42947\n",
            "INFO:werkzeug:\u001b[33mPress CTRL+C to quit\u001b[0m\n"
          ]
        },
        {
          "output_type": "stream",
          "name": "stdout",
          "text": [
            " * Running on https://9bf3-34-59-123-35.ngrok-free.app\n"
          ]
        },
        {
          "output_type": "display_data",
          "data": {
            "text/plain": [
              "<IPython.core.display.HTML object>"
            ],
            "text/html": [
              "<a href=\"https://9bf3-34-59-123-35.ngrok-free.app\">Open the Chatbot</a>"
            ]
          },
          "metadata": {}
        }
      ],
      "source": [
        "from IPython import get_ipython\n",
        "from IPython.display import display\n",
        "import os\n",
        "from dotenv import load_dotenv\n",
        "from flask import Flask, render_template_string, request\n",
        "import openai\n",
        "import threading\n",
        "from IPython.display import HTML, display\n",
        "import socket\n",
        "import time\n",
        "import traceback\n",
        "from pyngrok import ngrok, conf\n",
        "import colab_env\n",
        "import IPython\n",
        "\n",
        "# Load environment variables from .env file (optional)\n",
        "load_dotenv()\n",
        "\n",
        "# Access API keys from environment variables\n",
        "openai.api_key = os.getenv(\"OPENAI_API_KEY\")\n",
        "if openai.api_key is None:\n",
        "    raise ValueError(\"OPENAI_API_KEY environment variable not set.\")\n",
        "\n",
        "# --- Flask App Setup ---\n",
        "app = Flask(__name__)\n",
        "\n",
        "conversation_history = []  # Initialize conversation history\n",
        "\n",
        "def get_response(user_input):\n",
        "    \"\"\"Gets a response from the OpenAI GPT-3.5-turbo API.\"\"\"\n",
        "    try:\n",
        "        conversation_history.append({\"role\": \"user\", \"content\": user_input})\n",
        "\n",
        "        #print(\"Sending request to OpenAI API...\")\n",
        "        #response = openai.chat.completions.create(\n",
        "            #model=\"gpt-3.5-turbo\",\n",
        "        #    model=\"gpt-4o\",\n",
        "        #    messages=conversation_history\n",
        "        #)\n",
        "        #print(\"Received response from OpenAI API:\", response)\n",
        "\n",
        "         ### image generation\n",
        "        from openai import OpenAI\n",
        "        client = OpenAI(api_key = os.getenv(\"OPENAI_API_KEY\"))\n",
        "        response = client.images.generate(\n",
        "          model=\"dall-e-3\",\n",
        "          #prompt=\"a white siamese cat\",\n",
        "          prompt=\"%s\"%conversation_history,\n",
        "          #size=\"1024x1024\",\n",
        "          #size=\"256x256\",\n",
        "          quality=\"standard\",\n",
        "          n=1,\n",
        "          #=\"b64_json\",\n",
        "        )\n",
        "        print(\"Received response from OpenAI API:\", response)\n",
        "        assistant_response=IPython.display.HTML(\"<img src =\" + response.data[0].url + \">\")\n",
        "        ### end image generation\n",
        "\n",
        "        conversation_history.append({\"role\": \"assistant\", \"content\": assistant_response})\n",
        "        return assistant_response\n",
        "\n",
        "    except openai.OpenAIError as e:\n",
        "        print(f\"OpenAI API Error: {e}\")\n",
        "        if isinstance(e, openai.AuthenticationError):\n",
        "            return \"Authentication error. Please check your API key.\"\n",
        "        elif isinstance(e, openai.RateLimitError):\n",
        "            return \"Rate limit exceeded. Please try again later.\"\n",
        "        elif isinstance(e, openai.APIConnectionError):\n",
        "            return \"Could not connect to OpenAI. Check your network.\"\n",
        "        else:\n",
        "            return \"An error occurred. Please try again later.\"\n",
        "\n",
        "    except Exception as e:\n",
        "        traceback.print_exc()\n",
        "        return \"An error occurred.\"\n",
        "\n",
        "@app.route(\"/\", methods=[\"GET\", \"POST\"])\n",
        "def index():\n",
        "    if request.method == \"POST\":\n",
        "        user_input = request.form[\"user_input\"]\n",
        "        status_message = \"Sending request to OpenAI API...\"\n",
        "        response = get_response(user_input)\n",
        "        return render_template_string('''\n",
        "            <!DOCTYPE html>\n",
        "            <html>\n",
        "            <head>\n",
        "              <title>Simple Chatbot</title>\n",
        "              <style>\n",
        "                #chat {\n",
        "                  border: 1px solid #ccc;\n",
        "                  padding: 10px;\n",
        "                  height: 300px;\n",
        "                  overflow-y: scroll;\n",
        "                }\n",
        "                .message {  /* Common styles for both user and assistant messages */\n",
        "                  padding: 5px 10px;\n",
        "                  margin-bottom: 5px;\n",
        "                  border-radius: 5px;\n",
        "                }\n",
        "                .user-message {\n",
        "                  background-color: #eee;\n",
        "                  text-align: left;  /* Align user messages to the left */\n",
        "                }\n",
        "                .assistant-message {\n",
        "                  background-color: #ccf;\n",
        "                  text-align: left;  /* Align assistant messages to the left */\n",
        "                }\n",
        "              </style>\n",
        "            </head>\n",
        "            <body>\n",
        "              <h1>Simple Chatbot - POC by Frank Morales</h1>\n",
        "              <form method=\"POST\">\n",
        "                <input type=\"text\" name=\"user_input\" placeholder=\"Enter your message\" autofocus>\n",
        "                <button type=\"submit\">Send</button>\n",
        "              </form>\n",
        "              <div id=\"chat\">\n",
        "                <p>{{ status_message }}</p>\n",
        "                {% for message in conversation_history %}\n",
        "                  {% if message.role == 'user' %}\n",
        "                    <div class=\"message user-message\">  <b>You:</b> {{ message.content }}\n",
        "                    </div>\n",
        "                  {% elif message.role == 'assistant' %}\n",
        "                    <div class=\"message assistant-message\">  <b>Chatbot:</b> {{ message.content }}\n",
        "                    </div>\n",
        "                  {% endif %}\n",
        "                {% endfor %}\n",
        "              </div>\n",
        "              <script>\n",
        "                var chatDiv = document.getElementById('chat');\n",
        "                chatDiv.scrollTop = chatDiv.scrollHeight;\n",
        "              </script>\n",
        "            </body>\n",
        "            </html>\n",
        "        ''', conversation_history=conversation_history, status_message=status_message)\n",
        "    return render_template_string('''\n",
        "            <!DOCTYPE html>\n",
        "            <html>\n",
        "            <head>\n",
        "              <title>Simple Chatbot</title>\n",
        "              <style>\n",
        "                #chat {\n",
        "                  border: 1px solid #ccc;\n",
        "                  padding: 10px;\n",
        "                  height: 300px;\n",
        "                  overflow-y: scroll;\n",
        "                }\n",
        "                .message {  /* Common styles for both user and assistant messages */\n",
        "                  padding: 5px 10px;\n",
        "                  margin-bottom: 5px;\n",
        "                  border-radius: 5px;\n",
        "                }\n",
        "                .user-message {\n",
        "                  background-color: #eee;\n",
        "                  text-align: left;  /* Align user messages to the left */\n",
        "                }\n",
        "                .assistant-message {\n",
        "                  background-color: #ccf;\n",
        "                  text-align: left;  /* Align assistant messages to the left */\n",
        "                }\n",
        "              </style>\n",
        "            </head>\n",
        "            <body>\n",
        "              <h1>Simple Chatbot - POC by Frank Morales</h1>\n",
        "              <form method=\"POST\">\n",
        "                <input type=\"text\" name=\"user_input\" placeholder=\"Enter your message\">\n",
        "                <button type=\"submit\">Send</button>\n",
        "              </form>\n",
        "              <div id=\"chat\"></div>\n",
        "            </body>\n",
        "            </html>\n",
        "        ''')\n",
        "\n",
        "\n",
        "stop_event = threading.Event()  # Create a threading event\n",
        "\n",
        "def run_app(app):\n",
        "    \"\"\"Starts the Flask app and exposes it using ngrok.\"\"\"\n",
        "    port = 0\n",
        "\n",
        "    def get_free_port():\n",
        "        \"\"\"Finds a free port.\"\"\"\n",
        "        with socket.socket(socket.AF_INET, socket.SOCK_STREAM) as s:\n",
        "            s.bind(('', 0))\n",
        "            return s.getsockname()[1]\n",
        "\n",
        "    port = get_free_port()\n",
        "\n",
        "    def flask_thread():\n",
        "        \"\"\"Runs the Flask app in a separate thread.\"\"\"\n",
        "        with app.app_context():  # Use app context\n",
        "            try:\n",
        "                app.run(host=\"0.0.0.0\", port=port, debug=True, use_reloader=False)\n",
        "            except:\n",
        "                pass  # Ignore exceptions during shutdown\n",
        "\n",
        "    thread = threading.Thread(target=flask_thread)\n",
        "    thread.start()\n",
        "\n",
        "    time.sleep(1)\n",
        "\n",
        "    # Configure ngrok\n",
        "    conf.get_default().auth_token = os.getenv(\"NGROK_TOKEN\")\n",
        "    if conf.get_default().auth_token is None:\n",
        "        raise ValueError(\"NGROK_TOKEN environment variable not set.\")\n",
        "\n",
        "    # Terminate existing ngrok tunnels\n",
        "    active_tunnels = ngrok.get_tunnels()\n",
        "    for tunnel in active_tunnels:\n",
        "        ngrok.disconnect(tunnel.public_url)\n",
        "\n",
        "    # Create a new ngrok tunnel\n",
        "    public_url = ngrok.connect(port, bind_tls=True).public_url\n",
        "    print(f\" * Running on {public_url}\")\n",
        "    display(HTML(f'<a href=\"{public_url}\">Open the Chatbot</a>'))\n",
        "\n",
        "    # Wait for the stop event\n",
        "    stop_event.wait()\n",
        "\n",
        "    # Clean up ngrok tunnel (optional)\n",
        "    ngrok.disconnect(public_url)\n",
        "\n",
        "\n",
        "if __name__ == \"__main__\":\n",
        "    try:\n",
        "        run_app(app)\n",
        "    finally:\n",
        "        stop_event.set()  # Signal the Flask app to shut down"
      ]
    }
  ],
  "metadata": {
    "colab": {
      "provenance": [],
      "authorship_tag": "ABX9TyPWBwb9lKUChuscJivRIL8T",
      "include_colab_link": true
    },
    "kernelspec": {
      "display_name": "Python 3",
      "name": "python3"
    },
    "language_info": {
      "name": "python"
    }
  },
  "nbformat": 4,
  "nbformat_minor": 0
}