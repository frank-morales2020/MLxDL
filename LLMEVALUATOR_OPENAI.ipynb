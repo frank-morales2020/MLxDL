{
  "nbformat": 4,
  "nbformat_minor": 0,
  "metadata": {
    "colab": {
      "provenance": [],
      "machine_shape": "hm",
      "gpuType": "T4",
      "authorship_tag": "ABX9TyP1VzvQlSYxq3Fuz7Y/eUS1",
      "include_colab_link": true
    },
    "kernelspec": {
      "name": "python3",
      "display_name": "Python 3"
    },
    "language_info": {
      "name": "python"
    },
    "accelerator": "GPU"
  },
  "cells": [
    {
      "cell_type": "markdown",
      "metadata": {
        "id": "view-in-github",
        "colab_type": "text"
      },
      "source": [
        "<a href=\"https://colab.research.google.com/github/frank-morales2020/MLxDL/blob/main/LLMEVALUATOR_OPENAI.ipynb\" target=\"_parent\"><img src=\"https://colab.research.google.com/assets/colab-badge.svg\" alt=\"Open In Colab\"/></a>"
      ]
    },
    {
      "cell_type": "code",
      "source": [
        "!pip install lm-eval -q"
      ],
      "metadata": {
        "collapsed": true,
        "id": "rZ_Q5S23lr-G"
      },
      "execution_count": null,
      "outputs": []
    },
    {
      "cell_type": "code",
      "source": [
        "!pip install colab-env --quiet\n",
        "!pip install tiktoken -q\n",
        "!pip install accelerate -q"
      ],
      "metadata": {
        "id": "7X9UOImnb6e3"
      },
      "execution_count": null,
      "outputs": []
    },
    {
      "cell_type": "code",
      "source": [
        "#added by Frank Morales(FM) 22/02/2024\n",
        "%pip install openai  --root-user-action=ignore -q"
      ],
      "metadata": {
        "id": "qKhwQx25Km6j"
      },
      "execution_count": null,
      "outputs": []
    },
    {
      "cell_type": "code",
      "source": [
        "import colab_env\n",
        "import openai\n",
        "import os\n",
        "openai.api_key = os.getenv(\"OPENAI_API_KEY\")"
      ],
      "metadata": {
        "colab": {
          "base_uri": "https://localhost:8080/"
        },
        "id": "faFZeUkMKy78",
        "outputId": "51a25446-90cb-4cdf-95d2-ae469a813ff0"
      },
      "execution_count": 4,
      "outputs": [
        {
          "output_type": "stream",
          "name": "stdout",
          "text": [
            "Mounted at /content/gdrive\n"
          ]
        }
      ]
    },
    {
      "cell_type": "code",
      "source": [
        "openai.api_key = os.environ[\"OPENAI_API_KEY\"]\n",
        "print(openai.api_key)"
      ],
      "metadata": {
        "id": "bQhaCDwAb4Vl"
      },
      "execution_count": null,
      "outputs": []
    },
    {
      "cell_type": "code",
      "source": [
        "#harness_repo=\"public-lm-eval-harness\"\n",
        "!git clone https://github.com/EleutherAI/lm-evaluation-harness/\n",
        "%cd /content/lm-evaluation-harness\n",
        "# use main branch on 03-15-2024, SHA is dc90fec\n",
        "#!git checkout dc90fec\n",
        "!pip install -e .\n",
        "#!cd .."
      ],
      "metadata": {
        "id": "JrbsQpKiS2aj"
      },
      "execution_count": null,
      "outputs": []
    },
    {
      "cell_type": "code",
      "source": [
        "!pip install datasets@git+https://github.com/huggingface/datasets.git@66d6242 -q\n",
        "!pip install tokenizers>=0.15.2 transformers>=4.38.2 sentencepiece>=0.2.0 -q"
      ],
      "metadata": {
        "id": "JQ_E8whQS-PI"
      },
      "execution_count": null,
      "outputs": []
    },
    {
      "cell_type": "code",
      "source": [
        "!lm_eval -h"
      ],
      "metadata": {
        "id": "QkBmEcd9NPm9"
      },
      "execution_count": null,
      "outputs": []
    },
    {
      "cell_type": "code",
      "source": [
        "!echo $OPENAI_API_KEY"
      ],
      "metadata": {
        "id": "nj4YcyKfVL5V"
      },
      "execution_count": null,
      "outputs": []
    },
    {
      "cell_type": "markdown",
      "source": [
        "https://platform.openai.com/docs/guides/text-generation"
      ],
      "metadata": {
        "id": "4WxhIpl1oHmM"
      }
    },
    {
      "cell_type": "code",
      "source": [
        "import os\n",
        "#modelid='gpt-4'\n",
        "modelid='gpt-3.5-turbo-instruct'\n",
        "os.environ['model'] = modelid\n",
        "os.environ['task']='lambada_openai,hellaswag'\n",
        "os.environ['shot']='5'\n",
        "os.environ['batch_size']='1'\n",
        "\n",
        "#os.environ['tokenizer']='mistralai/Mistral-7B-Instruct-v0.1'\n",
        "os.environ['tokenizer']= modelid\n",
        "os.environ['add_bos_token']='True'"
      ],
      "metadata": {
        "id": "EYlOA8J50Mmq"
      },
      "execution_count": 8,
      "outputs": []
    },
    {
      "cell_type": "code",
      "source": [
        "%mkdir -p /content/lm_eval_output\n",
        "%rm -rf /content/lm_eval_output/*"
      ],
      "metadata": {
        "id": "dBeo73W7ZYsX"
      },
      "execution_count": 9,
      "outputs": []
    },
    {
      "cell_type": "code",
      "source": [
        "#openai-chat-completions, local-chat-completions"
      ],
      "metadata": {
        "id": "xPdf2lFlsazh"
      },
      "execution_count": null,
      "outputs": []
    },
    {
      "cell_type": "code",
      "source": [
        "from openai import OpenAI\n",
        "\n",
        "system_content = \"You are a travel agent. Be descriptive and helpful.\"\n",
        "user_content = \"Tell me about Montreal\"\n",
        "\n",
        "\n",
        "client = OpenAI(api_key = os.getenv(\"OPENAI_API_KEY\"))\n",
        "\n",
        "chat_completion = client.chat.completions.create(\n",
        "    model=\"gpt-4\",\n",
        "    messages=[\n",
        "        {\"role\": \"system\", \"content\": system_content},\n",
        "        {\"role\": \"user\", \"content\": user_content},\n",
        "    ],\n",
        "    temperature=0.7,\n",
        "    max_tokens=1024,\n",
        "    #echo=True\n",
        ")\n",
        "\n",
        "response = chat_completion.choices[0].message.content\n",
        "print(\"Together response:\\n\", response)\n",
        "\n",
        "#TypeError: Completions.create() got an unexpected keyword argument 'echo'"
      ],
      "metadata": {
        "colab": {
          "base_uri": "https://localhost:8080/"
        },
        "id": "6Vaj0JaBwgWC",
        "outputId": "257b5805-858b-4e78-ebca-fcf4001f91b8"
      },
      "execution_count": 87,
      "outputs": [
        {
          "output_type": "stream",
          "name": "stdout",
          "text": [
            "Together response:\n",
            " Montreal, the largest city in the Canadian province of Quebec, is a cosmopolitan hub that's steeped in history and rich in culture. It's a city that beautifully blends the old and the new, with stunning modern architecture standing side by side with historic buildings dating back to the 17th century.\n",
            "\n",
            "At the heart of Montreal is the historic district of Old Montreal, with its cobblestone streets, old-world charm, and landmarks like the stunning Notre-Dame Basilica, a Gothic Revival church known for its ornate interior. Nearby, you'll find the Old Port of Montreal, where you can enjoy a stroll along the water, visit the Montreal Science Centre, or go for a spin on the La Grande Roue de Montréal, the tallest Ferris wheel in Canada.\n",
            "\n",
            "Montreal is also renowned for its culinary scene. From the beloved local specialty of poutine (fries topped with cheese curds and gravy) to world-class dining establishments, the city is a food lover's paradise. The city’s vibrant neighborhoods like Little Italy and Chinatown offers a wide variety of international cuisines.\n",
            "\n",
            "If you're a fan of the arts, Montreal won't disappoint. The city is home to the Montreal Museum of Fine Arts, the Contemporary Art Museum, and numerous art galleries. The city also hosts numerous festivals throughout the year, including the Montreal International Jazz Festival, which is the largest jazz festival in the world, and Just for Laughs, the largest international comedy festival.\n",
            "\n",
            "Outdoor enthusiasts will also find plenty to do in Montreal. The city boasts numerous parks, including the stunning Mount Royal Park, designed by the same designer as New York City's Central Park. In winter, the city transforms into a winter wonderland, with opportunities for ice skating, snowshoeing, and even cross-country skiing.\n",
            "\n",
            "Montreal is a bilingual city, with most residents speaking both English and French, adding to its multicultural charm. It's a city that's easy to navigate, with an efficient public transportation system and plenty of bike lanes. Whether you're seeking history, culture, cuisine, or outdoor adventure, Montreal has something to offer everyone.\n"
          ]
        }
      ]
    },
    {
      "cell_type": "code",
      "source": [
        "!echo $model\n",
        "!echo $task\n",
        "!echo $shot\n",
        "!echo $batch_size\n",
        "#print(os.environ)\n",
        "print()\n",
        "\n",
        "# Supported model names: anthropic, anthropic-chat, anthropic-chat-completions, dummy, gguf, ggml, hf-auto, hf, huggingface, mamba_ssm, nemo_lm, sparseml, deepsparse, neuronx, openai-completions, local-completions, openai-chat-completions, local-chat-completions, openvino, textsynth, vllm\n",
        "# trust_remote_code=True,\n",
        "!lm_eval --model openai-completions --verbosity DEBUG --model_args model=${model},tokenizer=${tokenizer}   --tasks ${task} --num_fewshot ${shot} --output_path /content/lm_eval_output/${model//\\//_}_${task//,/_}-${shot}shot --batch_size ${batch_size} 2>&1 | tee /content/lm_eval_output/eval-${model//\\//_}_${task//,/_}-${shot}shot.log"
      ],
      "metadata": {
        "colab": {
          "base_uri": "https://localhost:8080/"
        },
        "id": "sHVFFbc2xrSe",
        "outputId": "ee205a62-e3b8-4ea3-aa6c-de8f783a7829"
      },
      "execution_count": null,
      "outputs": [
        {
          "output_type": "stream",
          "name": "stdout",
          "text": [
            "gpt-3.5-turbo-instruct\n",
            "lambada_openai,hellaswag\n",
            "5\n",
            "1\n",
            "\n",
            "2024-05-13 12:59:28.085643: E external/local_xla/xla/stream_executor/cuda/cuda_dnn.cc:9261] Unable to register cuDNN factory: Attempting to register factory for plugin cuDNN when one has already been registered\n",
            "2024-05-13 12:59:28.085698: E external/local_xla/xla/stream_executor/cuda/cuda_fft.cc:607] Unable to register cuFFT factory: Attempting to register factory for plugin cuFFT when one has already been registered\n",
            "2024-05-13 12:59:28.087145: E external/local_xla/xla/stream_executor/cuda/cuda_blas.cc:1515] Unable to register cuBLAS factory: Attempting to register factory for plugin cuBLAS when one has already been registered\n",
            "2024-05-13 12:59:29.227430: W tensorflow/compiler/tf2tensorrt/utils/py_utils.cc:38] TF-TRT Warning: Could not find TensorRT\n",
            "2024-05-13:12:59:32,607 INFO     [__main__.py:251] Verbosity set to DEBUG\n",
            "2024-05-13:12:59:38,301 INFO     [__main__.py:335] Selected Tasks: ['hellaswag', 'lambada_openai']\n",
            "2024-05-13:12:59:38,301 INFO     [__main__.py:336] Loading selected tasks...\n",
            "2024-05-13:12:59:38,302 INFO     [evaluator.py:131] Setting random seed to 0 | Setting numpy seed to 1234 | Setting torch manual seed to 1234\n",
            "/usr/local/lib/python3.10/dist-packages/datasets/load.py:1486: FutureWarning: The repository for hellaswag contains custom code which must be executed to correctly load the dataset. You can inspect the repository content at https://hf.co/datasets/hellaswag\n",
            "You can avoid this message in future by passing the argument `trust_remote_code=True`.\n",
            "Passing `trust_remote_code=True` will be mandatory to load this dataset from the next major release of `datasets`.\n",
            "  warnings.warn(\n",
            "2024-05-13:12:59:54,494 WARNING  [task.py:322] [Task: lambada_openai] has_training_docs and has_validation_docs are False, using test_docs as fewshot_docs but this is not recommended.\n",
            "2024-05-13:12:59:54,494 WARNING  [task.py:322] [Task: lambada_openai] has_training_docs and has_validation_docs are False, using test_docs as fewshot_docs but this is not recommended.\n",
            "2024-05-13:12:59:54,570 WARNING  [evaluator.py:222] Overwriting default num_fewshot of lambada_openai from None to 5\n",
            "2024-05-13:12:59:54,570 WARNING  [evaluator.py:222] Overwriting default num_fewshot of hellaswag from None to 5\n",
            "2024-05-13:12:59:54,571 DEBUG    [cache.py:33] requests-lambada_openai-5shot-rank0-world_size1 is not cached, generating...\n",
            "2024-05-13:12:59:54,572 INFO     [task.py:395] Building contexts for lambada_openai on rank 0...\n",
            "100%|██████████| 5153/5153 [01:18<00:00, 65.64it/s]\n",
            "2024-05-13:13:01:13,149 DEBUG    [evaluator.py:332] Task: lambada_openai; number of requests on this rank: 5153\n",
            "2024-05-13:13:01:13,151 DEBUG    [cache.py:33] requests-hellaswag-5shot-rank0-world_size1 is not cached, generating...\n",
            "2024-05-13:13:01:13,151 INFO     [task.py:395] Building contexts for hellaswag on rank 0...\n",
            " 82%|████████▏ | 8282/10042 [01:24<00:18, 97.15it/s]"
          ]
        }
      ]
    }
  ]
}