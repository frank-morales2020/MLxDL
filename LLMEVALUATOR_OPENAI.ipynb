{
  "nbformat": 4,
  "nbformat_minor": 0,
  "metadata": {
    "colab": {
      "provenance": [],
      "machine_shape": "hm",
      "gpuType": "T4",
      "authorship_tag": "ABX9TyNnGFh5ayqMk2PfxgdVOFlT",
      "include_colab_link": true
    },
    "kernelspec": {
      "name": "python3",
      "display_name": "Python 3"
    },
    "language_info": {
      "name": "python"
    },
    "accelerator": "GPU"
  },
  "cells": [
    {
      "cell_type": "markdown",
      "metadata": {
        "id": "view-in-github",
        "colab_type": "text"
      },
      "source": [
        "<a href=\"https://colab.research.google.com/github/frank-morales2020/MLxDL/blob/main/LLMEVALUATOR_OPENAI.ipynb\" target=\"_parent\"><img src=\"https://colab.research.google.com/assets/colab-badge.svg\" alt=\"Open In Colab\"/></a>"
      ]
    },
    {
      "cell_type": "code",
      "source": [
        "!pip install lm-eval -q"
      ],
      "metadata": {
        "collapsed": true,
        "id": "rZ_Q5S23lr-G"
      },
      "execution_count": null,
      "outputs": []
    },
    {
      "cell_type": "code",
      "source": [
        "!pip install colab-env --quiet\n",
        "!pip install tiktoken -q\n",
        "!pip install accelerate -q"
      ],
      "metadata": {
        "id": "7X9UOImnb6e3"
      },
      "execution_count": null,
      "outputs": []
    },
    {
      "cell_type": "code",
      "source": [
        "#added by Frank Morales(FM) 22/02/2024\n",
        "%pip install openai  --root-user-action=ignore -q"
      ],
      "metadata": {
        "id": "qKhwQx25Km6j"
      },
      "execution_count": null,
      "outputs": []
    },
    {
      "cell_type": "code",
      "source": [
        "import colab_env\n",
        "import openai\n",
        "import os\n",
        "openai.api_key = os.getenv(\"OPENAI_API_KEY\")"
      ],
      "metadata": {
        "colab": {
          "base_uri": "https://localhost:8080/"
        },
        "id": "faFZeUkMKy78",
        "outputId": "51a25446-90cb-4cdf-95d2-ae469a813ff0"
      },
      "execution_count": 4,
      "outputs": [
        {
          "output_type": "stream",
          "name": "stdout",
          "text": [
            "Mounted at /content/gdrive\n"
          ]
        }
      ]
    },
    {
      "cell_type": "code",
      "source": [
        "openai.api_key = os.environ[\"OPENAI_API_KEY\"]\n",
        "print(openai.api_key)"
      ],
      "metadata": {
        "id": "bQhaCDwAb4Vl"
      },
      "execution_count": null,
      "outputs": []
    },
    {
      "cell_type": "code",
      "source": [
        "#harness_repo=\"public-lm-eval-harness\"\n",
        "\n",
        "#!git clone https://github.com/EleutherAI/lm-evaluation-harness/\n",
        "#%cd /content/lm-evaluation-harness\n",
        "\n",
        "#!pip install -e ."
      ],
      "metadata": {
        "id": "JrbsQpKiS2aj"
      },
      "execution_count": null,
      "outputs": []
    },
    {
      "cell_type": "code",
      "source": [
        "#!pip install datasets@git+https://github.com/huggingface/datasets.git@66d6242 -q\n",
        "#!pip install tokenizers>=0.15.2 transformers>=4.38.2 sentencepiece>=0.2.0 -q"
      ],
      "metadata": {
        "id": "JQ_E8whQS-PI"
      },
      "execution_count": null,
      "outputs": []
    },
    {
      "cell_type": "code",
      "source": [
        "!lm_eval -h"
      ],
      "metadata": {
        "id": "QkBmEcd9NPm9"
      },
      "execution_count": null,
      "outputs": []
    },
    {
      "cell_type": "markdown",
      "source": [
        "https://platform.openai.com/docs/guides/text-generation"
      ],
      "metadata": {
        "id": "4WxhIpl1oHmM"
      }
    },
    {
      "cell_type": "code",
      "source": [
        "%mkdir -p /content/lm_eval_output\n",
        "%rm -rf /content/lm_eval_output/*"
      ],
      "metadata": {
        "id": "dBeo73W7ZYsX"
      },
      "execution_count": 9,
      "outputs": []
    },
    {
      "cell_type": "code",
      "source": [
        "from openai import OpenAI\n",
        "\n",
        "system_content = \"You are a travel agent. Be descriptive and helpful.\"\n",
        "user_content = \"Tell me about Montreal\"\n",
        "\n",
        "\n",
        "client = OpenAI(api_key = os.getenv(\"OPENAI_API_KEY\"))\n",
        "\n",
        "chat_completion = client.chat.completions.create(\n",
        "    model=\"gpt-4\",\n",
        "    messages=[\n",
        "        {\"role\": \"system\", \"content\": system_content},\n",
        "        {\"role\": \"user\", \"content\": user_content},\n",
        "    ],\n",
        "    temperature=0.7,\n",
        "    max_tokens=1024,\n",
        "    #echo=True\n",
        ")\n",
        "\n",
        "response = chat_completion.choices[0].message.content\n",
        "print(\"Together response:\\n\", response)\n",
        "\n",
        "#TypeError: Completions.create() got an unexpected keyword argument 'echo'"
      ],
      "metadata": {
        "colab": {
          "base_uri": "https://localhost:8080/"
        },
        "id": "6Vaj0JaBwgWC",
        "outputId": "257b5805-858b-4e78-ebca-fcf4001f91b8"
      },
      "execution_count": 87,
      "outputs": [
        {
          "output_type": "stream",
          "name": "stdout",
          "text": [
            "Together response:\n",
            " Montreal, the largest city in the Canadian province of Quebec, is a cosmopolitan hub that's steeped in history and rich in culture. It's a city that beautifully blends the old and the new, with stunning modern architecture standing side by side with historic buildings dating back to the 17th century.\n",
            "\n",
            "At the heart of Montreal is the historic district of Old Montreal, with its cobblestone streets, old-world charm, and landmarks like the stunning Notre-Dame Basilica, a Gothic Revival church known for its ornate interior. Nearby, you'll find the Old Port of Montreal, where you can enjoy a stroll along the water, visit the Montreal Science Centre, or go for a spin on the La Grande Roue de Montréal, the tallest Ferris wheel in Canada.\n",
            "\n",
            "Montreal is also renowned for its culinary scene. From the beloved local specialty of poutine (fries topped with cheese curds and gravy) to world-class dining establishments, the city is a food lover's paradise. The city’s vibrant neighborhoods like Little Italy and Chinatown offers a wide variety of international cuisines.\n",
            "\n",
            "If you're a fan of the arts, Montreal won't disappoint. The city is home to the Montreal Museum of Fine Arts, the Contemporary Art Museum, and numerous art galleries. The city also hosts numerous festivals throughout the year, including the Montreal International Jazz Festival, which is the largest jazz festival in the world, and Just for Laughs, the largest international comedy festival.\n",
            "\n",
            "Outdoor enthusiasts will also find plenty to do in Montreal. The city boasts numerous parks, including the stunning Mount Royal Park, designed by the same designer as New York City's Central Park. In winter, the city transforms into a winter wonderland, with opportunities for ice skating, snowshoeing, and even cross-country skiing.\n",
            "\n",
            "Montreal is a bilingual city, with most residents speaking both English and French, adding to its multicultural charm. It's a city that's easy to navigate, with an efficient public transportation system and plenty of bike lanes. Whether you're seeking history, culture, cuisine, or outdoor adventure, Montreal has something to offer everyone.\n"
          ]
        }
      ]
    },
    {
      "cell_type": "code",
      "source": [
        "import os\n",
        "#modelid='gpt-4'\n",
        "modelid='gpt-3.5-turbo-instruct'\n",
        "os.environ['model'] = modelid\n",
        "os.environ['task']='mmlu'\n",
        "os.environ['shot']='5'\n",
        "os.environ['batch_size']='1'\n",
        "\n",
        "#os.environ['tokenizer']='mistralai/Mistral-7B-Instruct-v0.1'\n",
        "os.environ['tokenizer']= modelid\n",
        "os.environ['add_bos_token']='True'"
      ],
      "metadata": {
        "id": "EYlOA8J50Mmq"
      },
      "execution_count": 13,
      "outputs": []
    },
    {
      "cell_type": "code",
      "source": [
        "!echo $model\n",
        "!echo $task\n",
        "!echo $shot\n",
        "!echo $batch_size\n",
        "#print(os.environ)\n",
        "print()\n",
        "\n",
        "# Supported model names: anthropic, anthropic-chat, anthropic-chat-completions, dummy, gguf, ggml, hf-auto, hf, huggingface, mamba_ssm, nemo_lm, sparseml, deepsparse, neuronx, openai-completions, local-completions, openai-chat-completions, local-chat-completions, openvino, textsynth, vllm\n",
        "# trust_remote_code=True,\n",
        "!lm_eval --model openai-chat-completions --verbosity DEBUG --model_args model=${model},tokenizer=${tokenizer}   --tasks ${task} --num_fewshot ${shot} --output_path /content/lm_eval_output/${model//\\//_}_${task//,/_}-${shot}shot --batch_size ${batch_size} 2>&1 | tee /content/lm_eval_output/eval-${model//\\//_}_${task//,/_}-${shot}shot.log"
      ],
      "metadata": {
        "colab": {
          "base_uri": "https://localhost:8080/"
        },
        "id": "sHVFFbc2xrSe",
        "outputId": "0716f606-093f-469c-e981-6fc6a4dbda07"
      },
      "execution_count": null,
      "outputs": [
        {
          "output_type": "stream",
          "name": "stdout",
          "text": [
            "gpt-3.5-turbo-instruct\n",
            "mmlu\n",
            "5\n",
            "1\n",
            "\n",
            "2024-05-13 13:13:26.914961: E external/local_xla/xla/stream_executor/cuda/cuda_dnn.cc:9261] Unable to register cuDNN factory: Attempting to register factory for plugin cuDNN when one has already been registered\n",
            "2024-05-13 13:13:26.915006: E external/local_xla/xla/stream_executor/cuda/cuda_fft.cc:607] Unable to register cuFFT factory: Attempting to register factory for plugin cuFFT when one has already been registered\n",
            "2024-05-13 13:13:26.916302: E external/local_xla/xla/stream_executor/cuda/cuda_blas.cc:1515] Unable to register cuBLAS factory: Attempting to register factory for plugin cuBLAS when one has already been registered\n",
            "2024-05-13 13:13:28.069101: W tensorflow/compiler/tf2tensorrt/utils/py_utils.cc:38] TF-TRT Warning: Could not find TensorRT\n",
            "2024-05-13:13:13:31,588 INFO     [__main__.py:251] Verbosity set to DEBUG\n",
            "2024-05-13:13:13:37,320 INFO     [__main__.py:335] Selected Tasks: ['mmlu']\n",
            "2024-05-13:13:13:37,320 INFO     [__main__.py:336] Loading selected tasks...\n",
            "2024-05-13:13:13:37,321 INFO     [evaluator.py:131] Setting random seed to 0 | Setting numpy seed to 1234 | Setting torch manual seed to 1234\n",
            "/usr/local/lib/python3.10/dist-packages/datasets/load.py:1486: FutureWarning: The repository for hails/mmlu_no_train contains custom code which must be executed to correctly load the dataset. You can inspect the repository content at https://hf.co/datasets/hails/mmlu_no_train\n",
            "You can avoid this message in future by passing the argument `trust_remote_code=True`.\n",
            "Passing `trust_remote_code=True` will be mandatory to load this dataset from the next major release of `datasets`.\n",
            "  warnings.warn(\n",
            "Downloading builder script: 100%|██████████| 5.86k/5.86k [00:00<00:00, 25.2MB/s]\n",
            "Downloading readme: 100%|██████████| 1.11k/1.11k [00:00<00:00, 7.44MB/s]\n",
            "Downloading data: 100%|██████████| 166M/166M [00:02<00:00, 66.0MB/s]\n",
            "Generating test split: 378 examples [00:00, 3441.71 examples/s]\n",
            "Generating validation split: 41 examples [00:00, 6198.11 examples/s]\n",
            "Generating dev split: 5 examples [00:00, 52.12 examples/s]\n",
            "Generating test split: 152 examples [00:00, 1807.63 examples/s]\n",
            "Generating validation split: 16 examples [00:00, 5029.14 examples/s]\n",
            "Generating dev split: 5 examples [00:00, 59.26 examples/s]\n",
            "Generating test split: 100 examples [00:00, 1096.05 examples/s]\n",
            "Generating validation split: 11 examples [00:00, 2419.24 examples/s]\n",
            "Generating dev split: 5 examples [00:00, 58.74 examples/s]\n",
            "Generating test split: 151 examples [00:00, 1562.67 examples/s]\n",
            "Generating validation split: 17 examples [00:00, 3659.58 examples/s]\n",
            "Generating dev split: 5 examples [00:00, 53.28 examples/s]\n",
            "Generating test split: 144 examples [00:00, 1687.86 examples/s]\n",
            "Generating validation split: 16 examples [00:00, 3100.15 examples/s]\n",
            "Generating dev split: 5 examples [00:00, 59.74 examples/s]\n",
            "Generating test split: 310 examples [00:00, 3136.21 examples/s]\n",
            "Generating validation split: 32 examples [00:00, 6852.74 examples/s]\n",
            "Generating dev split: 5 examples [00:00, 57.59 examples/s]\n",
            "Generating test split: 270 examples [00:00, 2886.01 examples/s]\n",
            "Generating validation split: 29 examples [00:00, 7001.77 examples/s]\n",
            "Generating dev split: 5 examples [00:00, 60.16 examples/s]\n",
            "Generating test split: 100 examples [00:00, 1196.64 examples/s]\n",
            "Generating validation split: 9 examples [00:00, 3095.94 examples/s]\n",
            "Generating dev split: 5 examples [00:00, 59.02 examples/s]\n",
            "Generating test split: 102 examples [00:00, 1169.24 examples/s]\n",
            "Generating validation split: 11 examples [00:00, 3523.28 examples/s]\n",
            "Generating dev split: 5 examples [00:00, 60.14 examples/s]\n",
            "Generating test split: 100 examples [00:00, 1217.48 examples/s]\n",
            "Generating validation split: 8 examples [00:00, 1712.31 examples/s]\n",
            "Generating dev split: 5 examples [00:00, 60.68 examples/s]\n",
            "Generating test split: 235 examples [00:00, 2569.46 examples/s]\n",
            "Generating validation split: 26 examples [00:00, 7134.10 examples/s]\n",
            "Generating dev split: 5 examples [00:00, 58.84 examples/s]\n",
            "Generating test split: 203 examples [00:00, 2293.36 examples/s]\n",
            "Generating validation split: 22 examples [00:00, 4310.09 examples/s]\n",
            "Generating dev split: 5 examples [00:00, 60.69 examples/s]\n",
            "Generating test split: 100 examples [00:00, 1158.98 examples/s]\n",
            "Generating validation split: 11 examples [00:00, 2948.07 examples/s]\n",
            "Generating dev split: 5 examples [00:00, 60.93 examples/s]\n",
            "Generating test split: 100 examples [00:00, 1166.02 examples/s]\n",
            "Generating validation split: 11 examples [00:00, 2698.56 examples/s]\n",
            "Generating dev split: 5 examples [00:00, 60.38 examples/s]\n",
            "Generating test split: 112 examples [00:00, 1328.88 examples/s]\n",
            "Generating validation split: 11 examples [00:00, 3309.00 examples/s]\n",
            "Generating dev split: 5 examples [00:00, 60.14 examples/s]\n",
            "Generating test split: 100 examples [00:00, 1182.01 examples/s]\n",
            "Generating validation split: 11 examples [00:00, 3084.67 examples/s]\n",
            "Generating dev split: 5 examples [00:00, 57.86 examples/s]\n",
            "Generating test split: 135 examples [00:00, 1532.87 examples/s]\n",
            "Generating validation split: 14 examples [00:00, 4435.73 examples/s]\n",
            "Generating dev split: 5 examples [00:00, 61.64 examples/s]\n",
            "Generating test split: 145 examples [00:00, 1526.40 examples/s]\n",
            "Generating validation split: 16 examples [00:00, 3853.51 examples/s]\n",
            "Generating dev split: 5 examples [00:00, 56.57 examples/s]\n",
            "Generating test split: 216 examples [00:00, 2316.45 examples/s]\n",
            "Generating validation split: 23 examples [00:00, 4910.11 examples/s]\n",
            "Generating dev split: 5 examples [00:00, 59.01 examples/s]\n",
            "Generating test split: 306 examples [00:00, 3337.99 examples/s]\n",
            "Generating validation split: 33 examples [00:00, 6690.45 examples/s]\n",
            "Generating dev split: 5 examples [00:00, 60.57 examples/s]\n",
            "Generating test split: 265 examples [00:00, 2786.82 examples/s]\n",
            "Generating validation split: 29 examples [00:00, 6587.32 examples/s]\n",
            "Generating dev split: 5 examples [00:00, 62.02 examples/s]\n",
            "Generating test split: 100 examples [00:00, 1246.15 examples/s]\n",
            "Generating validation split: 10 examples [00:00, 3391.80 examples/s]\n",
            "Generating dev split: 5 examples [00:00, 61.74 examples/s]\n",
            "Generating test split: 100 examples [00:00, 1018.12 examples/s]\n",
            "Generating validation split: 11 examples [00:00, 3326.41 examples/s]\n",
            "Generating dev split: 5 examples [00:00, 58.69 examples/s]\n",
            "Generating test split: 282 examples [00:00, 2983.86 examples/s]\n",
            "Generating validation split: 31 examples [00:00, 4650.00 examples/s]\n",
            "Generating dev split: 5 examples [00:00, 59.21 examples/s]\n",
            "Generating test split: 173 examples [00:00, 2072.45 examples/s]\n",
            "Generating validation split: 22 examples [00:00, 5442.97 examples/s]\n",
            "Generating dev split: 5 examples [00:00, 60.65 examples/s]\n",
            "Generating test split: 223 examples [00:00, 2418.37 examples/s]\n",
            "Generating validation split: 23 examples [00:00, 4601.87 examples/s]\n",
            "Generating dev split: 5 examples [00:00, 60.66 examples/s]\n",
            "Generating test split: 234 examples [00:00, 2551.28 examples/s]\n",
            "Generating validation split: 25 examples [00:00, 4725.02 examples/s]\n",
            "Generating dev split: 5 examples [00:00, 60.99 examples/s]\n",
            "Generating test split: 166 examples [00:00, 1866.94 examples/s]\n",
            "Generating validation split: 18 examples [00:00, 3952.95 examples/s]\n",
            "Generating dev split: 5 examples [00:00, 58.95 examples/s]\n",
            "Generating test split: 272 examples [00:00, 2793.51 examples/s]\n",
            "Generating validation split: 31 examples [00:00, 5521.63 examples/s]\n",
            "Generating dev split: 5 examples [00:00, 59.20 examples/s]\n",
            "Generating test split: 100 examples [00:00, 1149.79 examples/s]\n",
            "Generating validation split: 11 examples [00:00, 3735.82 examples/s]\n",
            "Generating dev split: 5 examples [00:00, 59.45 examples/s]\n",
            "Generating test split: 103 examples [00:00, 1195.70 examples/s]\n",
            "Generating validation split: 11 examples [00:00, 2563.61 examples/s]\n",
            "Generating dev split: 5 examples [00:00, 59.67 examples/s]\n",
            "Generating test split: 783 examples [00:00, 6274.29 examples/s]\n",
            "Generating validation split: 86 examples [00:00, 11249.69 examples/s]\n",
            "Generating dev split: 5 examples [00:00, 57.43 examples/s]\n",
            "Generating test split: 193 examples [00:00, 2232.21 examples/s]\n",
            "Generating validation split: 21 examples [00:00, 5739.63 examples/s]\n",
            "Generating dev split: 5 examples [00:00, 62.46 examples/s]\n",
            "Generating test split: 390 examples [00:00, 3979.74 examples/s]\n",
            "Generating validation split: 43 examples [00:00, 7749.87 examples/s]\n",
            "Generating dev split: 5 examples [00:00, 61.41 examples/s]\n",
            "Generating test split: 100 examples [00:00, 1124.56 examples/s]\n",
            "Generating validation split: 11 examples [00:00, 2796.54 examples/s]\n",
            "Generating dev split: 5 examples [00:00, 59.73 examples/s]\n",
            "Generating test split: 545 examples [00:00, 5068.73 examples/s]\n",
            "Generating validation split: 60 examples [00:00, 7779.96 examples/s]\n",
            "Generating dev split: 5 examples [00:00, 58.97 examples/s]\n",
            "Generating test split: 245 examples [00:00, 2711.38 examples/s]\n",
            "Generating validation split: 27 examples [00:00, 4272.64 examples/s]\n",
            "Generating dev split: 5 examples [00:00, 61.70 examples/s]\n",
            "Generating test split: 612 examples [00:00, 5133.95 examples/s]\n",
            "Generating validation split: 69 examples [00:00, 7934.83 examples/s]\n",
            "Generating dev split: 5 examples [00:00, 55.41 examples/s]\n",
            "Generating test split: 131 examples [00:00, 1199.34 examples/s]\n",
            "Generating validation split: 12 examples [00:00, 1651.03 examples/s]\n",
            "Generating dev split: 5 examples [00:00, 49.82 examples/s]\n",
            "Generating test split: 198 examples [00:00, 2067.59 examples/s]\n",
            "Generating validation split: 22 examples [00:00, 6482.70 examples/s]\n",
            "Generating dev split: 5 examples [00:00, 59.86 examples/s]\n",
            "Generating test split: 114 examples [00:00, 1346.73 examples/s]\n",
            "Generating validation split: 12 examples [00:00, 3257.71 examples/s]\n",
            "Generating dev split: 5 examples [00:00, 59.92 examples/s]\n",
            "Generating test split: 201 examples [00:00, 2276.22 examples/s]\n",
            "Generating validation split: 22 examples [00:00, 4070.52 examples/s]\n",
            "Generating dev split: 5 examples [00:00, 61.88 examples/s]\n",
            "Generating test split: 110 examples [00:00, 1283.62 examples/s]\n",
            "Generating validation split: 12 examples [00:00, 2604.62 examples/s]\n",
            "Generating dev split: 5 examples [00:00, 59.94 examples/s]\n",
            "Generating test split: 238 examples [00:00, 2567.49 examples/s]\n",
            "Generating validation split: 26 examples [00:00, 4441.85 examples/s]\n",
            "Generating dev split: 5 examples [00:00, 58.86 examples/s]\n",
            "Generating test split: 163 examples [00:00, 1816.85 examples/s]\n",
            "Generating validation split: 18 examples [00:00, 3592.38 examples/s]\n",
            "Generating dev split: 5 examples [00:00, 58.18 examples/s]\n",
            "Generating test split: 311 examples [00:00, 3087.00 examples/s]\n",
            "Generating validation split: 34 examples [00:00, 7364.89 examples/s]\n",
            "Generating dev split: 5 examples [00:00, 53.19 examples/s]\n",
            "Generating test split: 171 examples [00:00, 1948.57 examples/s]\n",
            "Generating validation split: 19 examples [00:00, 4930.20 examples/s]\n",
            "Generating dev split: 5 examples [00:00, 58.56 examples/s]\n",
            "Generating test split: 237 examples [00:00, 2309.87 examples/s]\n",
            "Generating validation split: 26 examples [00:00, 3835.26 examples/s]\n",
            "Generating dev split: 5 examples [00:00, 57.63 examples/s]\n",
            "Generating test split: 126 examples [00:00, 1375.15 examples/s]\n",
            "Generating validation split: 14 examples [00:00, 3321.85 examples/s]\n",
            "Generating dev split: 5 examples [00:00, 55.89 examples/s]\n",
            "Generating test split: 165 examples [00:00, 1725.24 examples/s]\n",
            "Generating validation split: 18 examples [00:00, 2756.19 examples/s]\n",
            "Generating dev split: 5 examples [00:00, 58.92 examples/s]\n",
            "Generating test split: 324 examples [00:00, 2910.48 examples/s]\n",
            "Generating validation split: 35 examples [00:00, 6011.74 examples/s]\n",
            "Generating dev split: 5 examples [00:00, 45.54 examples/s]\n",
            "Generating test split: 121 examples [00:00, 1343.09 examples/s]\n",
            "Generating validation split: 13 examples [00:00, 3104.06 examples/s]\n",
            "Generating dev split: 5 examples [00:00, 58.50 examples/s]\n",
            "Generating test split: 1534 examples [00:00, 7920.57 examples/s]\n",
            "Generating validation split: 170 examples [00:00, 10625.61 examples/s]\n",
            "Generating dev split: 5 examples [00:00, 55.55 examples/s]\n",
            "Generating test split: 895 examples [00:00, 6378.95 examples/s]\n",
            "Generating validation split: 100 examples [00:00, 10542.16 examples/s]\n",
            "Generating dev split: 5 examples [00:00, 59.20 examples/s]\n",
            "Generating test split: 108 examples [00:00, 1221.03 examples/s]\n",
            "Generating validation split: 11 examples [00:00, 2077.14 examples/s]\n",
            "Generating dev split: 5 examples [00:00, 56.78 examples/s]\n",
            "Generating test split: 204 examples [00:00, 2091.22 examples/s]\n",
            "Generating validation split: 22 examples [00:00, 3322.46 examples/s]\n",
            "Generating dev split: 5 examples [00:00, 59.49 examples/s]\n"
          ]
        }
      ]
    }
  ]
}