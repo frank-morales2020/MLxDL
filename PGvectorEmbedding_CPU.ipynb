{
  "nbformat": 4,
  "nbformat_minor": 0,
  "metadata": {
    "colab": {
      "provenance": [],
      "collapsed_sections": [
        "d5W4Sy9yc1Ze",
        "UgLDIdKcdKVO",
        "lciRZGkxdmjP"
      ],
      "authorship_tag": "ABX9TyPntAhymEFLjuj1KdDRT8p5",
      "include_colab_link": true
    },
    "kernelspec": {
      "name": "python3",
      "display_name": "Python 3"
    },
    "language_info": {
      "name": "python"
    }
  },
  "cells": [
    {
      "cell_type": "markdown",
      "metadata": {
        "id": "view-in-github",
        "colab_type": "text"
      },
      "source": [
        "<a href=\"https://colab.research.google.com/github/frank-morales2020/MLxDL/blob/main/PGvectorEmbedding_CPU.ipynb\" target=\"_parent\"><img src=\"https://colab.research.google.com/assets/colab-badge.svg\" alt=\"Open In Colab\"/></a>"
      ]
    },
    {
      "cell_type": "markdown",
      "source": [
        "# Dependencies"
      ],
      "metadata": {
        "id": "d5W4Sy9yc1Ze"
      }
    },
    {
      "cell_type": "code",
      "source": [
        "#Install Libraries to access Google Drive and OpenAI resources.\n",
        "%pip install colab-env --upgrade --quiet --root-user-action=ignore\n",
        "%pip install openai==0.28  --root-user-action=ignore\n",
        "%pip install langchain\n",
        "%pip install \"unstructured[all-docs]\"\n",
        "%pip install tiktoken\n",
        "%pip install -q -U sentence-transformers"
      ],
      "metadata": {
        "id": "lDsIsWUGdAHA"
      },
      "execution_count": null,
      "outputs": []
    },
    {
      "cell_type": "markdown",
      "source": [
        "# Environment variables"
      ],
      "metadata": {
        "id": "UgLDIdKcdKVO"
      }
    },
    {
      "cell_type": "code",
      "source": [
        "import colab_env\n",
        "import os\n",
        "import openai\n",
        "from openai.embeddings_utils import cosine_similarity\n",
        "\n",
        "connection_string = os.getenv(\"DATABASE_URL\")\n",
        "openai.api_key = os.getenv(\"OPENAI_API_KEY\")"
      ],
      "metadata": {
        "id": "ACG3gPuqdRPN"
      },
      "execution_count": 36,
      "outputs": []
    },
    {
      "cell_type": "markdown",
      "source": [
        "# Embedding settings - OpenAI"
      ],
      "metadata": {
        "id": "lciRZGkxdmjP"
      }
    },
    {
      "cell_type": "code",
      "source": [
        "def get_embedding(text: str) -> list:\n",
        " response = openai.Embedding.create(\n",
        "     input=text,\n",
        "     model=\"text-embedding-ada-002\"\n",
        " )\n",
        " return response['data'][0]['embedding']\n",
        "\n",
        "good_ride = \"good ride\"\n",
        "good_ride_embedding = get_embedding(good_ride)\n",
        "\n",
        "len(good_ride_embedding)\n",
        "# 1536\n",
        "\n",
        "#Example\n",
        "propmpt = \"I really enjoyed the trip! The ride was incredibly smooth, the pick-up location was convenient, and the drop-off point was right in front of the coffee shop.\"\n",
        "propmpt_embedding = get_embedding(propmpt)\n",
        "similary=1-cosine_similarity(propmpt_embedding, good_ride_embedding)\n",
        "# 0.8300454513797334\n",
        "similary"
      ],
      "metadata": {
        "colab": {
          "base_uri": "https://localhost:8080/"
        },
        "id": "ehYEX_Qvdw88",
        "outputId": "063c3fff-805f-49e8-f89e-dc6f558a524b"
      },
      "execution_count": 37,
      "outputs": [
        {
          "output_type": "execute_result",
          "data": {
            "text/plain": [
              "0.1699545486202666"
            ]
          },
          "metadata": {},
          "execution_count": 37
        }
      ]
    },
    {
      "cell_type": "markdown",
      "source": [
        "# PostgreSQL Settings - PGVECTOR Extension"
      ],
      "metadata": {
        "id": "CLR1MT24euhU"
      }
    },
    {
      "cell_type": "code",
      "source": [
        "# https://python.langchain.com/docs/integrations/vectorstores/pgembedding\n",
        "\n",
        "# install PSQL WITH DEV Libraries AND PGVECTOR\n",
        "!apt install postgresql postgresql-contrib &>log\n",
        "!service postgresql restart\n",
        "!sudo apt install postgresql-server-dev-all\n",
        "\n",
        "%pip install colab-env\n",
        "import colab_env\n",
        "\n",
        "#%cd /content/gdrive/MyDrive/tools/pgvector\n",
        "!cp -pr /content/gdrive/MyDrive/tools/pgvector /content/\n",
        "%cd /content/pgvector/\n",
        "print()\n",
        "print('START: PG VECTOR COMPILATION')\n",
        "!make\n",
        "!make install\n",
        "print('END: PG VECTOR COMPILATION')\n",
        "print()\n",
        "\n",
        "#!ls /usr/share/postgresql/14/extension/*control*"
      ],
      "metadata": {
        "colab": {
          "base_uri": "https://localhost:8080/"
        },
        "id": "R7Heo7DbezXs",
        "outputId": "c6b790ff-bad2-4966-b1c5-a780631be154"
      },
      "execution_count": 38,
      "outputs": [
        {
          "output_type": "stream",
          "name": "stdout",
          "text": [
            " * Restarting PostgreSQL 14 database server\n",
            "   ...done.\n",
            "Reading package lists... Done\n",
            "Building dependency tree... Done\n",
            "Reading state information... Done\n",
            "postgresql-server-dev-all is already the newest version (238).\n",
            "0 upgraded, 0 newly installed, 0 to remove and 24 not upgraded.\n",
            "Requirement already satisfied: colab-env in /usr/local/lib/python3.10/dist-packages (0.2.0)\n",
            "Requirement already satisfied: python-dotenv<1.0,>=0.10.0 in /usr/local/lib/python3.10/dist-packages (from colab-env) (0.21.1)\n",
            "/content/pgvector\n",
            "\n",
            "START: PG VECTOR COMPILATION\n",
            "make: Nothing to be done for 'all'.\n",
            "/bin/mkdir -p '/usr/lib/postgresql/14/lib'\n",
            "/bin/mkdir -p '/usr/share/postgresql/14/extension'\n",
            "/bin/mkdir -p '/usr/share/postgresql/14/extension'\n",
            "/usr/bin/install -c -m 755  vector.so '/usr/lib/postgresql/14/lib/vector.so'\n",
            "/usr/bin/install -c -m 644 .//vector.control '/usr/share/postgresql/14/extension/'\n",
            "/usr/bin/install -c -m 644 .//sql/vector--0.1.0--0.1.1.sql .//sql/vector--0.1.1--0.1.3.sql .//sql/vector--0.1.3--0.1.4.sql .//sql/vector--0.1.4--0.1.5.sql .//sql/vector--0.1.5--0.1.6.sql .//sql/vector--0.1.6--0.1.7.sql .//sql/vector--0.1.7--0.1.8.sql .//sql/vector--0.1.8--0.2.0.sql .//sql/vector--0.2.0--0.2.1.sql .//sql/vector--0.2.1--0.2.2.sql .//sql/vector--0.2.2--0.2.3.sql .//sql/vector--0.2.3--0.2.4.sql .//sql/vector--0.2.4--0.2.5.sql .//sql/vector--0.2.5--0.2.6.sql .//sql/vector--0.2.6--0.2.7.sql .//sql/vector--0.2.7--0.3.0.sql .//sql/vector--0.3.0--0.3.1.sql .//sql/vector--0.3.1--0.3.2.sql .//sql/vector--0.3.2--0.4.0.sql .//sql/vector--0.4.0--0.4.1.sql .//sql/vector--0.4.1--0.4.2.sql .//sql/vector--0.4.2--0.4.3.sql .//sql/vector--0.4.3--0.4.4.sql .//sql/vector--0.4.4--0.5.0.sql .//sql/vector--0.5.0--0.5.1.sql .//sql/vector--0.5.1.sql  '/usr/share/postgresql/14/extension/'\n",
            "/bin/mkdir -p '/usr/include/postgresql/14/server/extension/vector/'\n",
            "/usr/bin/install -c -m 644   .//src/vector.h '/usr/include/postgresql/14/server/extension/vector/'\n",
            "/bin/mkdir -p '/usr/lib/postgresql/14/lib/bitcode/vector'\n",
            "/bin/mkdir -p '/usr/lib/postgresql/14/lib/bitcode'/vector/src/\n",
            "/usr/bin/install -c -m 644 src/hnsw.bc '/usr/lib/postgresql/14/lib/bitcode'/vector/src/\n",
            "/usr/bin/install -c -m 644 src/hnswbuild.bc '/usr/lib/postgresql/14/lib/bitcode'/vector/src/\n",
            "/usr/bin/install -c -m 644 src/hnswinsert.bc '/usr/lib/postgresql/14/lib/bitcode'/vector/src/\n",
            "/usr/bin/install -c -m 644 src/hnswscan.bc '/usr/lib/postgresql/14/lib/bitcode'/vector/src/\n",
            "/usr/bin/install -c -m 644 src/hnswutils.bc '/usr/lib/postgresql/14/lib/bitcode'/vector/src/\n",
            "/usr/bin/install -c -m 644 src/hnswvacuum.bc '/usr/lib/postgresql/14/lib/bitcode'/vector/src/\n",
            "/usr/bin/install -c -m 644 src/ivfbuild.bc '/usr/lib/postgresql/14/lib/bitcode'/vector/src/\n",
            "/usr/bin/install -c -m 644 src/ivfflat.bc '/usr/lib/postgresql/14/lib/bitcode'/vector/src/\n",
            "/usr/bin/install -c -m 644 src/ivfinsert.bc '/usr/lib/postgresql/14/lib/bitcode'/vector/src/\n",
            "/usr/bin/install -c -m 644 src/ivfkmeans.bc '/usr/lib/postgresql/14/lib/bitcode'/vector/src/\n",
            "/usr/bin/install -c -m 644 src/ivfscan.bc '/usr/lib/postgresql/14/lib/bitcode'/vector/src/\n",
            "/usr/bin/install -c -m 644 src/ivfutils.bc '/usr/lib/postgresql/14/lib/bitcode'/vector/src/\n",
            "/usr/bin/install -c -m 644 src/ivfvacuum.bc '/usr/lib/postgresql/14/lib/bitcode'/vector/src/\n",
            "/usr/bin/install -c -m 644 src/vector.bc '/usr/lib/postgresql/14/lib/bitcode'/vector/src/\n",
            "cd '/usr/lib/postgresql/14/lib/bitcode' && /usr/lib/llvm-14/bin/llvm-lto -thinlto -thinlto-action=thinlink -o vector.index.bc vector/src/hnsw.bc vector/src/hnswbuild.bc vector/src/hnswinsert.bc vector/src/hnswscan.bc vector/src/hnswutils.bc vector/src/hnswvacuum.bc vector/src/ivfbuild.bc vector/src/ivfflat.bc vector/src/ivfinsert.bc vector/src/ivfkmeans.bc vector/src/ivfscan.bc vector/src/ivfutils.bc vector/src/ivfvacuum.bc vector/src/vector.bc\n",
            "END: PG VECTOR COMPILATION\n",
            "\n"
          ]
        }
      ]
    },
    {
      "cell_type": "code",
      "source": [
        "import psycopg2 as ps\n",
        "import os\n",
        "#%pip install openai==0.28  --root-user-action=ignore\n",
        "import openai\n",
        "from openai.embeddings_utils import cosine_similarity\n",
        "\n",
        "%cd /content/\n",
        "\n",
        "!sudo -u postgres psql -c \"ALTER USER postgres PASSWORD 'postgres'\"\n",
        "\n",
        "############ VECTOR #############################\n",
        "!sudo -u postgres psql -c \"CREATE EXTENSION vector\"\n",
        "\n",
        "import psycopg2 as ps\n",
        "\n",
        "DB_NAME = \"postgres\"\n",
        "DB_USER = \"postgres\"\n",
        "DB_PASS = \"postgres\"\n",
        "DB_HOST = \"localhost\"\n",
        "DB_PORT = \"5432\"\n",
        "\n",
        "conn = ps.connect(database=DB_NAME,\n",
        "\t\t\t\t\t\t\tuser=DB_USER,\n",
        "\t\t\t\t\t\t\tpassword=DB_PASS,\n",
        "\t\t\t\t\t\t\thost=DB_HOST,\n",
        "\t\t\t\t\t\t\tport=DB_PORT)\n",
        "\n",
        "!sudo -u postgres psql -c \"DROP TABLE reviews\"\n",
        "\n",
        "cur = conn.cursor() # creating a cursor\n",
        "\n",
        "cur.execute(\"\"\"\n",
        "                            CREATE TABLE reviews\n",
        "                            (text TEXT, embedding vector(1536))\n",
        "                         \"\"\")\n",
        "\n",
        "conn.commit()\n",
        "print(\"TABLE REVIEWS Created successfully\")\n",
        "conn.close()\n",
        "cur.close()\n",
        "\n",
        "##### TEST THE VECTOR EXTENSION\n",
        "prompt_0 = \"good ride\"\n",
        "prompt_0_embedding = get_embedding(prompt_0)\n",
        "len(prompt_0_embedding)\n",
        "\n",
        "prompt_1 = \"I really enjoyed the trip! The ride was incredibly smooth, the pick-up location was convenient, and the drop-off point was right in front of the coffee shop.\"\n",
        "prompt_1_embedding = get_embedding(prompt_1)\n",
        "distance_prompt_1=1-cosine_similarity(prompt_1_embedding, prompt_0_embedding)\n",
        "\n",
        "prompt_2 = \"The drive was exceptionally comfortable. I felt secure throughout the journey and greatly appreciated the on-board entertainment, which allowed me to have some fun while the car was in motion.\"\n",
        "prompt_2_embedding = get_embedding(prompt_2)\n",
        "distance_prompt_2=1-cosine_similarity(prompt_2_embedding, prompt_0_embedding)\n",
        "\n",
        "prompt_3 = \"A sudden hard brake at the intersection really caught me off guard and stressed me out. I was not prepared for it. Additionally, I noticed some trash left in the cabin from a previous rider.\"\n",
        "prompt_3_embedding = get_embedding(prompt_3)\n",
        "distance_prompt_3=1-cosine_similarity(prompt_3_embedding, prompt_0_embedding)\n",
        "\n",
        "\n",
        "print()\n",
        "print('Prompt0: %s'%prompt_0)\n",
        "print('Prompt1: %s'%prompt_1)\n",
        "print('Prompt2: %s'%prompt_2)\n",
        "print('Prompt3: %s'%prompt_3)\n",
        "print()\n",
        "\n",
        "\n",
        "print()\n",
        "print('distances-report: prompt_1:%s, prompt_2:%s, prompt_3:%s'%(distance_prompt_1,distance_prompt_2,distance_prompt_3))\n",
        "print()\n",
        "\n",
        "num_characters1 = int(len(prompt_1_embedding))\n",
        "num_characters2 = int(len(prompt_2_embedding))\n",
        "num_characters3 = int(len(prompt_3_embedding))\n",
        "\n",
        "print()\n",
        "#print(num_characters1,num_characters2,num_characters3)\n",
        "print()\n",
        "\n",
        "def text_and_embedding(text,textid):\n",
        "    review_embedding=get_embedding(text)\n",
        "    ### INSERT INTO DB\n",
        "    DB_NAME = \"postgres\"\n",
        "    DB_USER = \"postgres\"\n",
        "    DB_PASS = \"postgres\"\n",
        "    DB_HOST = \"localhost\"\n",
        "    DB_PORT = \"5432\"\n",
        "    conn = ps.connect(database=DB_NAME,\n",
        "\t\t\t\t\t\t\tuser=DB_USER,\n",
        "\t\t\t\t\t\t\tpassword=DB_PASS,\n",
        "\t\t\t\t\t\t\thost=DB_HOST,\n",
        "\t\t\t\t\t\t\tport=DB_PORT)\n",
        "\n",
        "\n",
        "    cur = conn.cursor() # creating a cursor\n",
        "\n",
        "    cur.execute(\"\"\"\n",
        "        INSERT INTO reviews\n",
        "        (text, embedding)\n",
        "        VALUES ('%s',\n",
        "                vector('%s'))\"\"\" % (text,review_embedding))\n",
        "\n",
        "    conn.commit()\n",
        "    print(\"INSERT TEXTID %s successfully\"%textid)\n",
        "    conn.close()\n",
        "    cur.close()\n",
        "\n",
        "\n",
        "print()\n",
        "text_and_embedding(prompt_1,1)\n",
        "text_and_embedding(prompt_2,2)\n",
        "text_and_embedding(prompt_3,3)\n",
        "print()"
      ],
      "metadata": {
        "colab": {
          "base_uri": "https://localhost:8080/"
        },
        "id": "SF94Gb5SfWzN",
        "outputId": "2634b18a-53a3-4f52-df98-1598b2a6beed"
      },
      "execution_count": 39,
      "outputs": [
        {
          "output_type": "stream",
          "name": "stdout",
          "text": [
            "/content\n",
            "ALTER ROLE\n",
            "ERROR:  extension \"vector\" already exists\n",
            "DROP TABLE\n",
            "TABLE REVIEWS Created successfully\n",
            "\n",
            "Prompt0: good ride\n",
            "Prompt1: I really enjoyed the trip! The ride was incredibly smooth, the pick-up location was convenient, and the drop-off point was right in front of the coffee shop.\n",
            "Prompt2: The drive was exceptionally comfortable. I felt secure throughout the journey and greatly appreciated the on-board entertainment, which allowed me to have some fun while the car was in motion.\n",
            "Prompt3: A sudden hard brake at the intersection really caught me off guard and stressed me out. I was not prepared for it. Additionally, I noticed some trash left in the cabin from a previous rider.\n",
            "\n",
            "\n",
            "distances-report: prompt_1:0.16993998750465067, prompt_2:0.17829993875501293, prompt_3:0.2058307681256315\n",
            "\n",
            "\n",
            "\n",
            "\n",
            "INSERT TEXTID 1 successfully\n",
            "INSERT TEXTID 2 successfully\n",
            "INSERT TEXTID 3 successfully\n",
            "\n"
          ]
        }
      ]
    },
    {
      "cell_type": "code",
      "source": [
        "DB_NAME = \"postgres\"\n",
        "DB_USER = \"postgres\"\n",
        "DB_PASS = \"postgres\"\n",
        "DB_HOST = \"localhost\"\n",
        "DB_PORT = \"5432\"\n",
        "conn = ps.connect(database=DB_NAME,\n",
        "          user=DB_USER,\n",
        "          password=DB_PASS,\n",
        "          host=DB_HOST,\n",
        "          port=DB_PORT)\n",
        "\n",
        "good_ride = \"good ride\"\n",
        "good_ride_embedding = get_embedding(good_ride)\n",
        "len(good_ride_embedding)\n",
        "num_characters = int(len(good_ride_embedding))/1\n",
        "print(num_characters)\n",
        "cur = conn.cursor() # creating a cursor\n",
        "\n",
        "cur.execute(\"\"\"\n",
        "    SELECT substring(text, 0, %s) FROM reviews ORDER BY embedding <-> vector('%s')\n",
        "\"\"\" % (int(num_characters),good_ride_embedding))\n",
        "\n",
        "#conn.commit()\n",
        "print()\n",
        "print(\"QUERY SELECTION successfully\")\n",
        "print()\n",
        "\n",
        "records = cur.fetchall()\n",
        "print(\"Total rows are:  \", len(records))\n",
        "print(\"Printing each row\")\n",
        "print()\n",
        "n=0\n",
        "for row in records:\n",
        "    n=n+1\n",
        "    #print()\n",
        "    print(\"TEXT %s: \"%n, row[0])\n",
        "\n",
        "conn.close()\n",
        "cur.close()"
      ],
      "metadata": {
        "colab": {
          "base_uri": "https://localhost:8080/"
        },
        "id": "qP_9ynveaJvi",
        "outputId": "6e41b9f8-f2bf-4084-e9cc-c95d946e3204"
      },
      "execution_count": 40,
      "outputs": [
        {
          "output_type": "stream",
          "name": "stdout",
          "text": [
            "1536.0\n",
            "\n",
            "QUERY SELECTION successfully\n",
            "\n",
            "Total rows are:   3\n",
            "Printing each row\n",
            "\n",
            "TEXT 1:  I really enjoyed the trip! The ride was incredibly smooth, the pick-up location was convenient, and the drop-off point was right in front of the coffee shop.\n",
            "TEXT 2:  The drive was exceptionally comfortable. I felt secure throughout the journey and greatly appreciated the on-board entertainment, which allowed me to have some fun while the car was in motion.\n",
            "TEXT 3:  A sudden hard brake at the intersection really caught me off guard and stressed me out. I was not prepared for it. Additionally, I noticed some trash left in the cabin from a previous rider.\n"
          ]
        }
      ]
    }
  ]
}