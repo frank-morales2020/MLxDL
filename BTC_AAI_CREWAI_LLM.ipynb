{
  "nbformat": 4,
  "nbformat_minor": 0,
  "metadata": {
    "colab": {
      "provenance": [],
      "authorship_tag": "ABX9TyOmx42XSoNOuliixFbK0TnU",
      "include_colab_link": true
    },
    "kernelspec": {
      "name": "python3",
      "display_name": "Python 3"
    },
    "language_info": {
      "name": "python"
    }
  },
  "cells": [
    {
      "cell_type": "markdown",
      "metadata": {
        "id": "view-in-github",
        "colab_type": "text"
      },
      "source": [
        "<a href=\"https://colab.research.google.com/github/frank-morales2020/MLxDL/blob/main/BTC_AAI_CREWAI_LLM.ipynb\" target=\"_parent\"><img src=\"https://colab.research.google.com/assets/colab-badge.svg\" alt=\"Open In Colab\"/></a>"
      ]
    },
    {
      "cell_type": "code",
      "source": [
        "!pip install crewai 'crewai[tools]' -q\n",
        "!pip install google-generativeai -q\n",
        "!pip install pykrakenapi -q\n",
        "!pip install krakenex -q\n",
        "!pip install langchain-google-genai -q\n"
      ],
      "metadata": {
        "id": "4e24UEdIc6Y9"
      },
      "execution_count": null,
      "outputs": []
    },
    {
      "cell_type": "code",
      "source": [
        "!pip install colab-env -q\n",
        "import colab_env"
      ],
      "metadata": {
        "id": "XLCuD6EMlIVl"
      },
      "execution_count": null,
      "outputs": []
    },
    {
      "cell_type": "code",
      "execution_count": null,
      "metadata": {
        "colab": {
          "base_uri": "https://localhost:8080/",
          "height": 1000
        },
        "id": "d0YXUe97czYD",
        "outputId": "f46897e2-482b-4025-e20a-64ec344a5ce7"
      },
      "outputs": [
        {
          "output_type": "stream",
          "name": "stdout",
          "text": [
            "--- Bitcoin, Agentic AI (CrewAI), and LLM Synergy Demo (Python) ---\n",
            "This script fetches REAL Bitcoin market data from Kraken, uses a CrewAI team for analysis,\n",
            "and an Agentic AI makes a simulated trading decision.\n",
            "------------------------------------------------------------\n",
            "Using default query: 'What's your analysis of the current Bitcoin market and should I buy or sell?'\n",
            "\n",
            "Starting the CrewAI process...\n"
          ]
        },
        {
          "output_type": "display_data",
          "data": {
            "text/plain": [
              "\u001b[35m╭─\u001b[0m\u001b[35m──────────────────────────────────────────────\u001b[0m\u001b[35m 🤖 Agent Started \u001b[0m\u001b[35m───────────────────────────────────────────────\u001b[0m\u001b[35m─╮\u001b[0m\n",
              "\u001b[35m│\u001b[0m                                                                                                                 \u001b[35m│\u001b[0m\n",
              "\u001b[35m│\u001b[0m  \u001b[37mAgent: \u001b[0m\u001b[1;92mCryptocurrency Market Analyst\u001b[0m                                                                           \u001b[35m│\u001b[0m\n",
              "\u001b[35m│\u001b[0m                                                                                                                 \u001b[35m│\u001b[0m\n",
              "\u001b[35m│\u001b[0m  \u001b[37mTask: \u001b[0m\u001b[92m1. Use the 'get_real_bitcoin_data' tool to fetch the current Bitcoin price and a simulated market \u001b[0m       \u001b[35m│\u001b[0m\n",
              "\u001b[35m│\u001b[0m  \u001b[92msentiment.\u001b[0m                                                                                                     \u001b[35m│\u001b[0m\n",
              "\u001b[35m│\u001b[0m  \u001b[92m2. Based on the fetched data and the user's query: 'What's your analysis of the current Bitcoin market and \u001b[0m    \u001b[35m│\u001b[0m\n",
              "\u001b[35m│\u001b[0m  \u001b[92mshould I buy or sell?', provide a detailed market analysis.\u001b[0m                                                    \u001b[35m│\u001b[0m\n",
              "\u001b[35m│\u001b[0m  \u001b[92m3. Suggest a single trading action: 'BUY', 'SELL', 'HOLD', or 'RESEARCH'.\u001b[0m                                      \u001b[35m│\u001b[0m\n",
              "\u001b[35m│\u001b[0m  \u001b[92m4. Your final answer MUST be a JSON string with 'analysis' and 'suggested_action' keys.\u001b[0m                        \u001b[35m│\u001b[0m\n",
              "\u001b[35m│\u001b[0m  \u001b[92mExample: {{ \"analysis\": \"Bitcoin is showing strong bullish signs...\", \"suggested_action\": \"BUY\" }}\u001b[0m             \u001b[35m│\u001b[0m\n",
              "\u001b[35m│\u001b[0m                                                                                                                 \u001b[35m│\u001b[0m\n",
              "\u001b[35m╰─────────────────────────────────────────────────────────────────────────────────────────────────────────────────╯\u001b[0m\n"
            ],
            "text/html": [
              "<pre style=\"white-space:pre;overflow-x:auto;line-height:normal;font-family:Menlo,'DejaVu Sans Mono',consolas,'Courier New',monospace\"><span style=\"color: #800080; text-decoration-color: #800080\">╭─────────────────────────────────────────────── 🤖 Agent Started ────────────────────────────────────────────────╮</span>\n",
              "<span style=\"color: #800080; text-decoration-color: #800080\">│</span>                                                                                                                 <span style=\"color: #800080; text-decoration-color: #800080\">│</span>\n",
              "<span style=\"color: #800080; text-decoration-color: #800080\">│</span>  <span style=\"color: #c0c0c0; text-decoration-color: #c0c0c0\">Agent: </span><span style=\"color: #00ff00; text-decoration-color: #00ff00; font-weight: bold\">Cryptocurrency Market Analyst</span>                                                                           <span style=\"color: #800080; text-decoration-color: #800080\">│</span>\n",
              "<span style=\"color: #800080; text-decoration-color: #800080\">│</span>                                                                                                                 <span style=\"color: #800080; text-decoration-color: #800080\">│</span>\n",
              "<span style=\"color: #800080; text-decoration-color: #800080\">│</span>  <span style=\"color: #c0c0c0; text-decoration-color: #c0c0c0\">Task: </span><span style=\"color: #00ff00; text-decoration-color: #00ff00\">1. Use the 'get_real_bitcoin_data' tool to fetch the current Bitcoin price and a simulated market </span>       <span style=\"color: #800080; text-decoration-color: #800080\">│</span>\n",
              "<span style=\"color: #800080; text-decoration-color: #800080\">│</span>  <span style=\"color: #00ff00; text-decoration-color: #00ff00\">sentiment.</span>                                                                                                     <span style=\"color: #800080; text-decoration-color: #800080\">│</span>\n",
              "<span style=\"color: #800080; text-decoration-color: #800080\">│</span>  <span style=\"color: #00ff00; text-decoration-color: #00ff00\">2. Based on the fetched data and the user's query: 'What's your analysis of the current Bitcoin market and </span>    <span style=\"color: #800080; text-decoration-color: #800080\">│</span>\n",
              "<span style=\"color: #800080; text-decoration-color: #800080\">│</span>  <span style=\"color: #00ff00; text-decoration-color: #00ff00\">should I buy or sell?', provide a detailed market analysis.</span>                                                    <span style=\"color: #800080; text-decoration-color: #800080\">│</span>\n",
              "<span style=\"color: #800080; text-decoration-color: #800080\">│</span>  <span style=\"color: #00ff00; text-decoration-color: #00ff00\">3. Suggest a single trading action: 'BUY', 'SELL', 'HOLD', or 'RESEARCH'.</span>                                      <span style=\"color: #800080; text-decoration-color: #800080\">│</span>\n",
              "<span style=\"color: #800080; text-decoration-color: #800080\">│</span>  <span style=\"color: #00ff00; text-decoration-color: #00ff00\">4. Your final answer MUST be a JSON string with 'analysis' and 'suggested_action' keys.</span>                        <span style=\"color: #800080; text-decoration-color: #800080\">│</span>\n",
              "<span style=\"color: #800080; text-decoration-color: #800080\">│</span>  <span style=\"color: #00ff00; text-decoration-color: #00ff00\">Example: {{ \"analysis\": \"Bitcoin is showing strong bullish signs...\", \"suggested_action\": \"BUY\" }}</span>             <span style=\"color: #800080; text-decoration-color: #800080\">│</span>\n",
              "<span style=\"color: #800080; text-decoration-color: #800080\">│</span>                                                                                                                 <span style=\"color: #800080; text-decoration-color: #800080\">│</span>\n",
              "<span style=\"color: #800080; text-decoration-color: #800080\">╰─────────────────────────────────────────────────────────────────────────────────────────────────────────────────╯</span>\n",
              "</pre>\n"
            ]
          },
          "metadata": {}
        },
        {
          "output_type": "display_data",
          "data": {
            "text/plain": [
              "\n"
            ],
            "text/html": [
              "<pre style=\"white-space:pre;overflow-x:auto;line-height:normal;font-family:Menlo,'DejaVu Sans Mono',consolas,'Courier New',monospace\">\n",
              "</pre>\n"
            ]
          },
          "metadata": {}
        },
        {
          "output_type": "stream",
          "name": "stdout",
          "text": [
            "Fetched real market data from Kraken: {\n",
            "  \"currency_pair\": \"XXBTZUSD\",\n",
            "  \"price\": 109000.0,\n",
            "  \"sentiment\": \"bearish\",\n",
            "  \"source\": \"Kraken API\"\n",
            "}\n"
          ]
        },
        {
          "output_type": "display_data",
          "data": {
            "text/plain": [
              "\u001b[35m╭─\u001b[0m\u001b[35m───────────────────────────────────────────\u001b[0m\u001b[35m 🔧 Agent Tool Execution \u001b[0m\u001b[35m───────────────────────────────────────────\u001b[0m\u001b[35m─╮\u001b[0m\n",
              "\u001b[35m│\u001b[0m                                                                                                                 \u001b[35m│\u001b[0m\n",
              "\u001b[35m│\u001b[0m  \u001b[37mAgent: \u001b[0m\u001b[1;92mCryptocurrency Market Analyst\u001b[0m                                                                           \u001b[35m│\u001b[0m\n",
              "\u001b[35m│\u001b[0m                                                                                                                 \u001b[35m│\u001b[0m\n",
              "\u001b[35m│\u001b[0m  \u001b[37mThought: \u001b[0m\u001b[92mAction: get_real_bitcoin_data\u001b[0m                                                                         \u001b[35m│\u001b[0m\n",
              "\u001b[35m│\u001b[0m                                                                                                                 \u001b[35m│\u001b[0m\n",
              "\u001b[35m│\u001b[0m  \u001b[37mUsing Tool: \u001b[0m\u001b[1;92mget_real_bitcoin_data\u001b[0m                                                                              \u001b[35m│\u001b[0m\n",
              "\u001b[35m│\u001b[0m                                                                                                                 \u001b[35m│\u001b[0m\n",
              "\u001b[35m╰─────────────────────────────────────────────────────────────────────────────────────────────────────────────────╯\u001b[0m\n"
            ],
            "text/html": [
              "<pre style=\"white-space:pre;overflow-x:auto;line-height:normal;font-family:Menlo,'DejaVu Sans Mono',consolas,'Courier New',monospace\"><span style=\"color: #800080; text-decoration-color: #800080\">╭──────────────────────────────────────────── 🔧 Agent Tool Execution ────────────────────────────────────────────╮</span>\n",
              "<span style=\"color: #800080; text-decoration-color: #800080\">│</span>                                                                                                                 <span style=\"color: #800080; text-decoration-color: #800080\">│</span>\n",
              "<span style=\"color: #800080; text-decoration-color: #800080\">│</span>  <span style=\"color: #c0c0c0; text-decoration-color: #c0c0c0\">Agent: </span><span style=\"color: #00ff00; text-decoration-color: #00ff00; font-weight: bold\">Cryptocurrency Market Analyst</span>                                                                           <span style=\"color: #800080; text-decoration-color: #800080\">│</span>\n",
              "<span style=\"color: #800080; text-decoration-color: #800080\">│</span>                                                                                                                 <span style=\"color: #800080; text-decoration-color: #800080\">│</span>\n",
              "<span style=\"color: #800080; text-decoration-color: #800080\">│</span>  <span style=\"color: #c0c0c0; text-decoration-color: #c0c0c0\">Thought: </span><span style=\"color: #00ff00; text-decoration-color: #00ff00\">Action: get_real_bitcoin_data</span>                                                                         <span style=\"color: #800080; text-decoration-color: #800080\">│</span>\n",
              "<span style=\"color: #800080; text-decoration-color: #800080\">│</span>                                                                                                                 <span style=\"color: #800080; text-decoration-color: #800080\">│</span>\n",
              "<span style=\"color: #800080; text-decoration-color: #800080\">│</span>  <span style=\"color: #c0c0c0; text-decoration-color: #c0c0c0\">Using Tool: </span><span style=\"color: #00ff00; text-decoration-color: #00ff00; font-weight: bold\">get_real_bitcoin_data</span>                                                                              <span style=\"color: #800080; text-decoration-color: #800080\">│</span>\n",
              "<span style=\"color: #800080; text-decoration-color: #800080\">│</span>                                                                                                                 <span style=\"color: #800080; text-decoration-color: #800080\">│</span>\n",
              "<span style=\"color: #800080; text-decoration-color: #800080\">╰─────────────────────────────────────────────────────────────────────────────────────────────────────────────────╯</span>\n",
              "</pre>\n"
            ]
          },
          "metadata": {}
        },
        {
          "output_type": "display_data",
          "data": {
            "text/plain": [
              "\u001b[34m╭─\u001b[0m\u001b[34m─────────────────────────────────────────────────\u001b[0m\u001b[34m Tool Input \u001b[0m\u001b[34m──────────────────────────────────────────────────\u001b[0m\u001b[34m─╮\u001b[0m\n",
              "\u001b[34m│\u001b[0m                                                                                                                 \u001b[34m│\u001b[0m\n",
              "\u001b[34m│\u001b[0m  \u001b[38;2;230;219;116;49m\"{}\"\u001b[0m                                                                                                           \u001b[34m│\u001b[0m\n",
              "\u001b[34m│\u001b[0m                                                                                                                 \u001b[34m│\u001b[0m\n",
              "\u001b[34m╰─────────────────────────────────────────────────────────────────────────────────────────────────────────────────╯\u001b[0m\n"
            ],
            "text/html": [
              "<pre style=\"white-space:pre;overflow-x:auto;line-height:normal;font-family:Menlo,'DejaVu Sans Mono',consolas,'Courier New',monospace\"><span style=\"color: #000080; text-decoration-color: #000080\">╭────────────────────────────────────────────────── Tool Input ───────────────────────────────────────────────────╮</span>\n",
              "<span style=\"color: #000080; text-decoration-color: #000080\">│</span>                                                                                                                 <span style=\"color: #000080; text-decoration-color: #000080\">│</span>\n",
              "<span style=\"color: #000080; text-decoration-color: #000080\">│</span>  <span style=\"color: #e6db74; text-decoration-color: #e6db74; background-color: #ffffff\">\"{}\"</span>                                                                                                           <span style=\"color: #000080; text-decoration-color: #000080\">│</span>\n",
              "<span style=\"color: #000080; text-decoration-color: #000080\">│</span>                                                                                                                 <span style=\"color: #000080; text-decoration-color: #000080\">│</span>\n",
              "<span style=\"color: #000080; text-decoration-color: #000080\">╰─────────────────────────────────────────────────────────────────────────────────────────────────────────────────╯</span>\n",
              "</pre>\n"
            ]
          },
          "metadata": {}
        },
        {
          "output_type": "display_data",
          "data": {
            "text/plain": [
              "\u001b[32m╭─\u001b[0m\u001b[32m─────────────────────────────────────────────────\u001b[0m\u001b[32m Tool Output \u001b[0m\u001b[32m─────────────────────────────────────────────────\u001b[0m\u001b[32m─╮\u001b[0m\n",
              "\u001b[32m│\u001b[0m                                                                                                                 \u001b[32m│\u001b[0m\n",
              "\u001b[32m│\u001b[0m  \u001b[92m{'currency_pair': 'XXBTZUSD', 'price': 109000.0, 'sentiment': 'bearish', 'source': 'Kraken API'}\u001b[0m               \u001b[32m│\u001b[0m\n",
              "\u001b[32m│\u001b[0m                                                                                                                 \u001b[32m│\u001b[0m\n",
              "\u001b[32m╰─────────────────────────────────────────────────────────────────────────────────────────────────────────────────╯\u001b[0m\n"
            ],
            "text/html": [
              "<pre style=\"white-space:pre;overflow-x:auto;line-height:normal;font-family:Menlo,'DejaVu Sans Mono',consolas,'Courier New',monospace\"><span style=\"color: #008000; text-decoration-color: #008000\">╭────────────────────────────────────────────────── Tool Output ──────────────────────────────────────────────────╮</span>\n",
              "<span style=\"color: #008000; text-decoration-color: #008000\">│</span>                                                                                                                 <span style=\"color: #008000; text-decoration-color: #008000\">│</span>\n",
              "<span style=\"color: #008000; text-decoration-color: #008000\">│</span>  <span style=\"color: #00ff00; text-decoration-color: #00ff00\">{'currency_pair': 'XXBTZUSD', 'price': 109000.0, 'sentiment': 'bearish', 'source': 'Kraken API'}</span>               <span style=\"color: #008000; text-decoration-color: #008000\">│</span>\n",
              "<span style=\"color: #008000; text-decoration-color: #008000\">│</span>                                                                                                                 <span style=\"color: #008000; text-decoration-color: #008000\">│</span>\n",
              "<span style=\"color: #008000; text-decoration-color: #008000\">╰─────────────────────────────────────────────────────────────────────────────────────────────────────────────────╯</span>\n",
              "</pre>\n"
            ]
          },
          "metadata": {}
        },
        {
          "output_type": "display_data",
          "data": {
            "text/plain": [
              "\n"
            ],
            "text/html": [
              "<pre style=\"white-space:pre;overflow-x:auto;line-height:normal;font-family:Menlo,'DejaVu Sans Mono',consolas,'Courier New',monospace\">\n",
              "</pre>\n"
            ]
          },
          "metadata": {}
        },
        {
          "output_type": "display_data",
          "data": {
            "text/plain": [
              "\u001b[32m╭─\u001b[0m\u001b[32m────────────────────────────────────────────\u001b[0m\u001b[32m ✅ Agent Final Answer \u001b[0m\u001b[32m────────────────────────────────────────────\u001b[0m\u001b[32m─╮\u001b[0m\n",
              "\u001b[32m│\u001b[0m                                                                                                                 \u001b[32m│\u001b[0m\n",
              "\u001b[32m│\u001b[0m  \u001b[37mAgent: \u001b[0m\u001b[1;92mCryptocurrency Market Analyst\u001b[0m                                                                           \u001b[32m│\u001b[0m\n",
              "\u001b[32m│\u001b[0m                                                                                                                 \u001b[32m│\u001b[0m\n",
              "\u001b[32m│\u001b[0m  \u001b[37mFinal Answer:\u001b[0m                                                                                                  \u001b[32m│\u001b[0m\n",
              "\u001b[32m│\u001b[0m  \u001b[92m{\"analysis\": \"The current Bitcoin price is significantly high at 109000.0. However, the prevailing market \u001b[0m     \u001b[32m│\u001b[0m\n",
              "\u001b[32m│\u001b[0m  \u001b[92msentiment is 'bearish'. This combination suggests that despite the elevated price, there is a lack of \u001b[0m         \u001b[32m│\u001b[0m\n",
              "\u001b[32m│\u001b[0m  \u001b[92mconfidence among investors, potentially indicating that the market is overbought or that a correction is \u001b[0m      \u001b[32m│\u001b[0m\n",
              "\u001b[32m│\u001b[0m  \u001b[92mimminent. A bearish sentiment at such a high price often precedes a downward price movement as investors may \u001b[0m  \u001b[32m│\u001b[0m\n",
              "\u001b[32m│\u001b[0m  \u001b[92mbe looking to take profits or are wary of further upside. It's crucial to exercise caution in such a market \u001b[0m   \u001b[32m│\u001b[0m\n",
              "\u001b[32m│\u001b[0m  \u001b[92menvironment.\", \"suggested_action\": \"SELL\"}\u001b[0m                                                                     \u001b[32m│\u001b[0m\n",
              "\u001b[32m│\u001b[0m                                                                                                                 \u001b[32m│\u001b[0m\n",
              "\u001b[32m╰─────────────────────────────────────────────────────────────────────────────────────────────────────────────────╯\u001b[0m\n"
            ],
            "text/html": [
              "<pre style=\"white-space:pre;overflow-x:auto;line-height:normal;font-family:Menlo,'DejaVu Sans Mono',consolas,'Courier New',monospace\"><span style=\"color: #008000; text-decoration-color: #008000\">╭───────────────────────────────────────────── ✅ Agent Final Answer ─────────────────────────────────────────────╮</span>\n",
              "<span style=\"color: #008000; text-decoration-color: #008000\">│</span>                                                                                                                 <span style=\"color: #008000; text-decoration-color: #008000\">│</span>\n",
              "<span style=\"color: #008000; text-decoration-color: #008000\">│</span>  <span style=\"color: #c0c0c0; text-decoration-color: #c0c0c0\">Agent: </span><span style=\"color: #00ff00; text-decoration-color: #00ff00; font-weight: bold\">Cryptocurrency Market Analyst</span>                                                                           <span style=\"color: #008000; text-decoration-color: #008000\">│</span>\n",
              "<span style=\"color: #008000; text-decoration-color: #008000\">│</span>                                                                                                                 <span style=\"color: #008000; text-decoration-color: #008000\">│</span>\n",
              "<span style=\"color: #008000; text-decoration-color: #008000\">│</span>  <span style=\"color: #c0c0c0; text-decoration-color: #c0c0c0\">Final Answer:</span>                                                                                                  <span style=\"color: #008000; text-decoration-color: #008000\">│</span>\n",
              "<span style=\"color: #008000; text-decoration-color: #008000\">│</span>  <span style=\"color: #00ff00; text-decoration-color: #00ff00\">{\"analysis\": \"The current Bitcoin price is significantly high at 109000.0. However, the prevailing market </span>     <span style=\"color: #008000; text-decoration-color: #008000\">│</span>\n",
              "<span style=\"color: #008000; text-decoration-color: #008000\">│</span>  <span style=\"color: #00ff00; text-decoration-color: #00ff00\">sentiment is 'bearish'. This combination suggests that despite the elevated price, there is a lack of </span>         <span style=\"color: #008000; text-decoration-color: #008000\">│</span>\n",
              "<span style=\"color: #008000; text-decoration-color: #008000\">│</span>  <span style=\"color: #00ff00; text-decoration-color: #00ff00\">confidence among investors, potentially indicating that the market is overbought or that a correction is </span>      <span style=\"color: #008000; text-decoration-color: #008000\">│</span>\n",
              "<span style=\"color: #008000; text-decoration-color: #008000\">│</span>  <span style=\"color: #00ff00; text-decoration-color: #00ff00\">imminent. A bearish sentiment at such a high price often precedes a downward price movement as investors may </span>  <span style=\"color: #008000; text-decoration-color: #008000\">│</span>\n",
              "<span style=\"color: #008000; text-decoration-color: #008000\">│</span>  <span style=\"color: #00ff00; text-decoration-color: #00ff00\">be looking to take profits or are wary of further upside. It's crucial to exercise caution in such a market </span>   <span style=\"color: #008000; text-decoration-color: #008000\">│</span>\n",
              "<span style=\"color: #008000; text-decoration-color: #008000\">│</span>  <span style=\"color: #00ff00; text-decoration-color: #00ff00\">environment.\", \"suggested_action\": \"SELL\"}</span>                                                                     <span style=\"color: #008000; text-decoration-color: #008000\">│</span>\n",
              "<span style=\"color: #008000; text-decoration-color: #008000\">│</span>                                                                                                                 <span style=\"color: #008000; text-decoration-color: #008000\">│</span>\n",
              "<span style=\"color: #008000; text-decoration-color: #008000\">╰─────────────────────────────────────────────────────────────────────────────────────────────────────────────────╯</span>\n",
              "</pre>\n"
            ]
          },
          "metadata": {}
        },
        {
          "output_type": "display_data",
          "data": {
            "text/plain": [
              "\n"
            ],
            "text/html": [
              "<pre style=\"white-space:pre;overflow-x:auto;line-height:normal;font-family:Menlo,'DejaVu Sans Mono',consolas,'Courier New',monospace\">\n",
              "</pre>\n"
            ]
          },
          "metadata": {}
        },
        {
          "output_type": "display_data",
          "data": {
            "text/plain": [
              "\u001b[35m╭─\u001b[0m\u001b[35m──────────────────────────────────────────────\u001b[0m\u001b[35m 🤖 Agent Started \u001b[0m\u001b[35m───────────────────────────────────────────────\u001b[0m\u001b[35m─╮\u001b[0m\n",
              "\u001b[35m│\u001b[0m                                                                                                                 \u001b[35m│\u001b[0m\n",
              "\u001b[35m│\u001b[0m  \u001b[37mAgent: \u001b[0m\u001b[1;92mBitcoin Trading Strategist\u001b[0m                                                                              \u001b[35m│\u001b[0m\n",
              "\u001b[35m│\u001b[0m                                                                                                                 \u001b[35m│\u001b[0m\n",
              "\u001b[35m│\u001b[0m  \u001b[37mTask: \u001b[0m\u001b[92mBased on the 'market_analysis_result' (which is a JSON string from the Market Analyst), interpret the \u001b[0m   \u001b[35m│\u001b[0m\n",
              "\u001b[35m│\u001b[0m  \u001b[92m'suggested_action' and formulate a clear, simulated trading decision.\u001b[0m                                          \u001b[35m│\u001b[0m\n",
              "\u001b[35m│\u001b[0m  \u001b[92mIf the suggested action is 'BUY', state that the agent decides to initiate a simulated BUY order at the given\u001b[0m  \u001b[35m│\u001b[0m\n",
              "\u001b[35m│\u001b[0m  \u001b[92mprice.\u001b[0m                                                                                                         \u001b[35m│\u001b[0m\n",
              "\u001b[35m│\u001b[0m  \u001b[92mIf 'SELL', state that the agent decides to initiate a simulated SELL order.\u001b[0m                                    \u001b[35m│\u001b[0m\n",
              "\u001b[35m│\u001b[0m  \u001b[92mIf 'HOLD', state that the agent decides to HOLD current assets.\u001b[0m                                                \u001b[35m│\u001b[0m\n",
              "\u001b[35m│\u001b[0m  \u001b[92mIf 'RESEARCH', state that the agent decides to conduct further research.\u001b[0m                                       \u001b[35m│\u001b[0m\n",
              "\u001b[35m│\u001b[0m  \u001b[92mYour final answer MUST be a concise string describing the agent's simulated decision.\u001b[0m                          \u001b[35m│\u001b[0m\n",
              "\u001b[35m│\u001b[0m                                                                                                                 \u001b[35m│\u001b[0m\n",
              "\u001b[35m╰─────────────────────────────────────────────────────────────────────────────────────────────────────────────────╯\u001b[0m\n"
            ],
            "text/html": [
              "<pre style=\"white-space:pre;overflow-x:auto;line-height:normal;font-family:Menlo,'DejaVu Sans Mono',consolas,'Courier New',monospace\"><span style=\"color: #800080; text-decoration-color: #800080\">╭─────────────────────────────────────────────── 🤖 Agent Started ────────────────────────────────────────────────╮</span>\n",
              "<span style=\"color: #800080; text-decoration-color: #800080\">│</span>                                                                                                                 <span style=\"color: #800080; text-decoration-color: #800080\">│</span>\n",
              "<span style=\"color: #800080; text-decoration-color: #800080\">│</span>  <span style=\"color: #c0c0c0; text-decoration-color: #c0c0c0\">Agent: </span><span style=\"color: #00ff00; text-decoration-color: #00ff00; font-weight: bold\">Bitcoin Trading Strategist</span>                                                                              <span style=\"color: #800080; text-decoration-color: #800080\">│</span>\n",
              "<span style=\"color: #800080; text-decoration-color: #800080\">│</span>                                                                                                                 <span style=\"color: #800080; text-decoration-color: #800080\">│</span>\n",
              "<span style=\"color: #800080; text-decoration-color: #800080\">│</span>  <span style=\"color: #c0c0c0; text-decoration-color: #c0c0c0\">Task: </span><span style=\"color: #00ff00; text-decoration-color: #00ff00\">Based on the 'market_analysis_result' (which is a JSON string from the Market Analyst), interpret the </span>   <span style=\"color: #800080; text-decoration-color: #800080\">│</span>\n",
              "<span style=\"color: #800080; text-decoration-color: #800080\">│</span>  <span style=\"color: #00ff00; text-decoration-color: #00ff00\">'suggested_action' and formulate a clear, simulated trading decision.</span>                                          <span style=\"color: #800080; text-decoration-color: #800080\">│</span>\n",
              "<span style=\"color: #800080; text-decoration-color: #800080\">│</span>  <span style=\"color: #00ff00; text-decoration-color: #00ff00\">If the suggested action is 'BUY', state that the agent decides to initiate a simulated BUY order at the given</span>  <span style=\"color: #800080; text-decoration-color: #800080\">│</span>\n",
              "<span style=\"color: #800080; text-decoration-color: #800080\">│</span>  <span style=\"color: #00ff00; text-decoration-color: #00ff00\">price.</span>                                                                                                         <span style=\"color: #800080; text-decoration-color: #800080\">│</span>\n",
              "<span style=\"color: #800080; text-decoration-color: #800080\">│</span>  <span style=\"color: #00ff00; text-decoration-color: #00ff00\">If 'SELL', state that the agent decides to initiate a simulated SELL order.</span>                                    <span style=\"color: #800080; text-decoration-color: #800080\">│</span>\n",
              "<span style=\"color: #800080; text-decoration-color: #800080\">│</span>  <span style=\"color: #00ff00; text-decoration-color: #00ff00\">If 'HOLD', state that the agent decides to HOLD current assets.</span>                                                <span style=\"color: #800080; text-decoration-color: #800080\">│</span>\n",
              "<span style=\"color: #800080; text-decoration-color: #800080\">│</span>  <span style=\"color: #00ff00; text-decoration-color: #00ff00\">If 'RESEARCH', state that the agent decides to conduct further research.</span>                                       <span style=\"color: #800080; text-decoration-color: #800080\">│</span>\n",
              "<span style=\"color: #800080; text-decoration-color: #800080\">│</span>  <span style=\"color: #00ff00; text-decoration-color: #00ff00\">Your final answer MUST be a concise string describing the agent's simulated decision.</span>                          <span style=\"color: #800080; text-decoration-color: #800080\">│</span>\n",
              "<span style=\"color: #800080; text-decoration-color: #800080\">│</span>                                                                                                                 <span style=\"color: #800080; text-decoration-color: #800080\">│</span>\n",
              "<span style=\"color: #800080; text-decoration-color: #800080\">╰─────────────────────────────────────────────────────────────────────────────────────────────────────────────────╯</span>\n",
              "</pre>\n"
            ]
          },
          "metadata": {}
        },
        {
          "output_type": "display_data",
          "data": {
            "text/plain": [
              "\n"
            ],
            "text/html": [
              "<pre style=\"white-space:pre;overflow-x:auto;line-height:normal;font-family:Menlo,'DejaVu Sans Mono',consolas,'Courier New',monospace\">\n",
              "</pre>\n"
            ]
          },
          "metadata": {}
        },
        {
          "output_type": "display_data",
          "data": {
            "text/plain": [
              "\u001b[32m╭─\u001b[0m\u001b[32m────────────────────────────────────────────\u001b[0m\u001b[32m ✅ Agent Final Answer \u001b[0m\u001b[32m────────────────────────────────────────────\u001b[0m\u001b[32m─╮\u001b[0m\n",
              "\u001b[32m│\u001b[0m                                                                                                                 \u001b[32m│\u001b[0m\n",
              "\u001b[32m│\u001b[0m  \u001b[37mAgent: \u001b[0m\u001b[1;92mBitcoin Trading Strategist\u001b[0m                                                                              \u001b[32m│\u001b[0m\n",
              "\u001b[32m│\u001b[0m                                                                                                                 \u001b[32m│\u001b[0m\n",
              "\u001b[32m│\u001b[0m  \u001b[37mFinal Answer:\u001b[0m                                                                                                  \u001b[32m│\u001b[0m\n",
              "\u001b[32m│\u001b[0m  \u001b[92mThe agent decides to initiate a simulated SELL order.\u001b[0m                                                          \u001b[32m│\u001b[0m\n",
              "\u001b[32m│\u001b[0m                                                                                                                 \u001b[32m│\u001b[0m\n",
              "\u001b[32m╰─────────────────────────────────────────────────────────────────────────────────────────────────────────────────╯\u001b[0m\n"
            ],
            "text/html": [
              "<pre style=\"white-space:pre;overflow-x:auto;line-height:normal;font-family:Menlo,'DejaVu Sans Mono',consolas,'Courier New',monospace\"><span style=\"color: #008000; text-decoration-color: #008000\">╭───────────────────────────────────────────── ✅ Agent Final Answer ─────────────────────────────────────────────╮</span>\n",
              "<span style=\"color: #008000; text-decoration-color: #008000\">│</span>                                                                                                                 <span style=\"color: #008000; text-decoration-color: #008000\">│</span>\n",
              "<span style=\"color: #008000; text-decoration-color: #008000\">│</span>  <span style=\"color: #c0c0c0; text-decoration-color: #c0c0c0\">Agent: </span><span style=\"color: #00ff00; text-decoration-color: #00ff00; font-weight: bold\">Bitcoin Trading Strategist</span>                                                                              <span style=\"color: #008000; text-decoration-color: #008000\">│</span>\n",
              "<span style=\"color: #008000; text-decoration-color: #008000\">│</span>                                                                                                                 <span style=\"color: #008000; text-decoration-color: #008000\">│</span>\n",
              "<span style=\"color: #008000; text-decoration-color: #008000\">│</span>  <span style=\"color: #c0c0c0; text-decoration-color: #c0c0c0\">Final Answer:</span>                                                                                                  <span style=\"color: #008000; text-decoration-color: #008000\">│</span>\n",
              "<span style=\"color: #008000; text-decoration-color: #008000\">│</span>  <span style=\"color: #00ff00; text-decoration-color: #00ff00\">The agent decides to initiate a simulated SELL order.</span>                                                          <span style=\"color: #008000; text-decoration-color: #008000\">│</span>\n",
              "<span style=\"color: #008000; text-decoration-color: #008000\">│</span>                                                                                                                 <span style=\"color: #008000; text-decoration-color: #008000\">│</span>\n",
              "<span style=\"color: #008000; text-decoration-color: #008000\">╰─────────────────────────────────────────────────────────────────────────────────────────────────────────────────╯</span>\n",
              "</pre>\n"
            ]
          },
          "metadata": {}
        },
        {
          "output_type": "display_data",
          "data": {
            "text/plain": [
              "\n"
            ],
            "text/html": [
              "<pre style=\"white-space:pre;overflow-x:auto;line-height:normal;font-family:Menlo,'DejaVu Sans Mono',consolas,'Courier New',monospace\">\n",
              "</pre>\n"
            ]
          },
          "metadata": {}
        },
        {
          "output_type": "stream",
          "name": "stdout",
          "text": [
            "\n",
            "============================================================\n",
            "--- CrewAI Process Completed ---\n",
            "\n",
            "Final Agentic AI Simulated Decision:\n",
            "The agent decides to initiate a simulated SELL order.\n",
            "\n",
            "============================================================\n",
            "\n",
            "--- End of Demo ---\n",
            "This is a simulated demonstration. No real transactions occur.\n"
          ]
        }
      ],
      "source": [
        "import json\n",
        "import random\n",
        "import time\n",
        "import requests # Keep requests for general HTTP needs if any, though krakenex will handle Kraken calls\n",
        "from google.colab import userdata\n",
        "import google.generativeai as genai\n",
        "import os # Import the os module to set environment variables\n",
        "from datetime import datetime\n",
        "import pytz # For timezone handling\n",
        "\n",
        "from crewai import Agent, Task, Crew, Process\n",
        "from crewai.tools import BaseTool, tool # Import tool from crewai.tools\n",
        "\n",
        "# FIX: Import LiteLLM directly from the litellm library\n",
        "import litellm # Import the litellm module itself\n",
        "from litellm import LiteLLM # Import LiteLLM class from litellm\n",
        "\n",
        "# Import krakenex and pykrakenapi\n",
        "import krakenex\n",
        "from pykrakenapi import KrakenAPI\n",
        "\n",
        "# Configure the Gemini API with the key from Google Colab userdata\n",
        "GOOGLE_API_KEY = userdata.get('GEMINI')\n",
        "\n",
        "# Set the Google API key as an environment variable for LiteLLM to pick up.\n",
        "# This is a good practice and can act as a fallback.\n",
        "os.environ[\"GOOGLE_API_KEY\"] = GOOGLE_API_KEY\n",
        "\n",
        "# FIX: Set the API key globally for LiteLLm. This is crucial for authentication.\n",
        "litellm.api_key = GOOGLE_API_KEY\n",
        "\n",
        "# This genai.configure is for the google.generativeai library directly,\n",
        "# which might still be useful for other direct API calls, but not for CrewAI's LLM via LiteLLM.\n",
        "genai.configure(api_key=GOOGLE_API_KEY)\n",
        "\n",
        "\n",
        "# Configure Kraken API keys from Google Colab userdata\n",
        "# These keys are typically used for private endpoints (e.g., trading, account balance)\n",
        "# For public data like ticker, krakenex can be initialized without them,\n",
        "# but we'll include them here for completeness if private calls were to be added.\n",
        "KRAKEN_API_KEY = userdata.get('KRAKEN_API_KEY')\n",
        "KRAKEN_API_SECRET = userdata.get('KRAKEN_API_SECRET')\n",
        "\n",
        "# Initialize Kraken API client\n",
        "try:\n",
        "    api = krakenex.API() # This is the raw krakenex API object, used in the reference\n",
        "    k = KrakenAPI(api) # This is the pykrakenapi wrapper, which might still be useful\n",
        "except Exception as e:\n",
        "    print(f\"Warning: Could not initialize KrakenAPI client. Public data fetching might still work. Error: {e}\")\n",
        "\n",
        "\n",
        "# Set model and temperature as attributes after instantiation.\n",
        "llm = LiteLLM() # Instantiate LiteLLM with no arguments\n",
        "llm.model = 'gemini/gemini-2.5-flash' # Set the model name as an attribute\n",
        "llm.temperature = 0.2                     # Set temperature as an attribute\n",
        "\n",
        "\n",
        "# Helper function for simulating market data (as seen in your reference)\n",
        "def _simulate_market_data(pair=\"XBTUSD\"):\n",
        "    \"\"\"\n",
        "    Simulates Bitcoin market data when real data cannot be fetched.\n",
        "    \"\"\"\n",
        "    print(f\"Simulating market data for {pair}...\")\n",
        "    current_price = round(random.uniform(25000.00, 35000.00), 2)\n",
        "    past_price_24h = round(random.uniform(current_price * 0.95, current_price * 1.05), 2)\n",
        "    sentiments = ['bullish', 'bearish', 'neutral', 'volatile']\n",
        "    sentiment = random.choice(sentiments)\n",
        "\n",
        "    eastern = pytz.timezone('US/Eastern')\n",
        "    now_eastern = datetime.now(eastern)\n",
        "    timestamp_eastern = now_eastern.strftime(\"%Y-%m-%d %H:%M:%S %Z%z\")\n",
        "\n",
        "    return {\n",
        "        \"currency_pair\": pair,\n",
        "        \"current_price\": current_price,\n",
        "        \"past_price_24h\": past_price_24h,\n",
        "        \"timestamp_est\": datetime.now().strftime(\"%Y-%m-%d %H:%M:%S EST\"), # Keeping original format\n",
        "        \"timestamp_eastern\": timestamp_eastern,\n",
        "        \"source\": \"Simulated Data\",\n",
        "        \"sentiment\": sentiment # Add sentiment to simulated data as well\n",
        "    }\n",
        "\n",
        "\n",
        "# --- Define Tools for CrewAI Agents ---\n",
        "\n",
        "@tool\n",
        "def get_real_bitcoin_data():\n",
        "    \"\"\"\n",
        "    Fetches current Bitcoin price from Kraken's public API or simulates it if real data fails.\n",
        "    Returns a dictionary with 'price' and 'sentiment'.\n",
        "    \"\"\"\n",
        "    # FIX: Use Kraken's canonical symbol \"XXBTZUSD\" as per the reference\n",
        "    kraken_pair = \"XXBTZUSD\"\n",
        "\n",
        "    try:\n",
        "        # Ensure 'api' (krakenex.API client) is available and properly initialized\n",
        "        if 'api' not in globals() or api is None:\n",
        "            print(\"KrakenAPI client (krakenex.API) not initialized. Falling back to simulated data.\")\n",
        "            return _simulate_market_data(kraken_pair)\n",
        "\n",
        "        ticker_response = api.query_public('Ticker', {'pair': kraken_pair})\n",
        "\n",
        "        # DEBUG: Uncomment this line to see the raw response if it fails again\n",
        "        # print(f\"DEBUG: Kraken Ticker Raw Response for {kraken_pair}: {json.dumps(ticker_response, indent=2)}\")\n",
        "\n",
        "        # Check for Kraken's 'error' array first. It's empty on success.\n",
        "        if 'error' in ticker_response and ticker_response['error']:\n",
        "            error_message = ticker_response['error'][0] if ticker_response['error'] else \"Unknown Kraken API error.\"\n",
        "            print(f\"Kraken Ticker API Error: {error_message}. Falling back to simulated data.\")\n",
        "            return _simulate_market_data(kraken_pair)\n",
        "        elif 'result' in ticker_response and kraken_pair in ticker_response['result']:\n",
        "            ticker_info = ticker_response['result'][kraken_pair]\n",
        "            current_price = float(ticker_info['c'][0]) # Last trade closed price\n",
        "\n",
        "            # Simulate sentiment as it's not directly from this public endpoint\n",
        "            sentiments = ['bullish', 'bearish', 'neutral', 'volatile']\n",
        "            sentiment = random.choice(sentiments)\n",
        "\n",
        "            data = {\n",
        "                \"currency_pair\": kraken_pair,\n",
        "                \"price\": current_price, # Renamed to 'price' for consistency with original tool output\n",
        "                \"sentiment\": sentiment,\n",
        "                \"source\": \"Kraken API\"\n",
        "            }\n",
        "            print(f\"Fetched real market data from Kraken: {json.dumps(data, indent=2)}\")\n",
        "            return data\n",
        "        else:\n",
        "            # This else block means no 'error' and either no 'result' or 'result' without the pair\n",
        "            print(f\"Unexpected or empty 'result' in Kraken Ticker API for {kraken_pair}. Falling back to simulated data.\")\n",
        "            return _simulate_market_data(kraken_pair)\n",
        "    except Exception as e:\n",
        "        print(f\"Failed to fetch real data from Kraken API (general exception for {kraken_pair}): {e}. Falling back to simulated data.\")\n",
        "        return _simulate_market_data(kraken_pair)\n",
        "\n",
        "\n",
        "# --- Define Agents ---\n",
        "market_analyst = Agent(\n",
        "    role='Cryptocurrency Market Analyst',\n",
        "    goal='Provide a comprehensive analysis of the current Bitcoin market and suggest a trading action.',\n",
        "    backstory=\"\"\"You are an expert financial analyst specializing in cryptocurrency markets.\n",
        "    You have a deep understanding of market dynamics, sentiment, and technical indicators.\n",
        "    Your goal is to provide clear, actionable insights based on real-time data.\"\"\",\n",
        "    verbose=True,\n",
        "    allow_delegation=False,\n",
        "    # Pass the llm instance directly\n",
        "    llm=llm,\n",
        "    tools=[get_real_bitcoin_data] # The analyst can use this tool to get data\n",
        ")\n",
        "\n",
        "trading_strategist = Agent(\n",
        "    role='Bitcoin Trading Strategist',\n",
        "    goal='Based on the market analysis, formulate a simulated Bitcoin trading decision (BUY, SELL, HOLD, or RESEARCH).',\n",
        "    backstory=\"\"\"You are a seasoned trading strategist with a focus on Bitcoin.\n",
        "    You take market analysis and translate it into practical, simulated trading decisions.\n",
        "    You are cautious and prioritize clear signals before recommending action.\"\"\",\n",
        "    verbose=True,\n",
        "    allow_delegation=False,\n",
        "    # Pass the llm instance directly\n",
        "    llm=llm\n",
        ")\n",
        "\n",
        "# --- Define Tasks ---\n",
        "analyze_market_task = Task(\n",
        "    description=(\n",
        "        \"1. Use the 'get_real_bitcoin_data' tool to fetch the current Bitcoin price and a simulated market sentiment.\\n\"\n",
        "        \"2. Based on the fetched data and the user's query: '{user_query}', provide a detailed market analysis.\\n\"\n",
        "        \"3. Suggest a single trading action: 'BUY', 'SELL', 'HOLD', or 'RESEARCH'.\\n\"\n",
        "        \"4. Your final answer MUST be a JSON string with 'analysis' and 'suggested_action' keys.\\n\"\n",
        "        \"Example: {{ \\\"analysis\\\": \\\"Bitcoin is showing strong bullish signs...\\\", \\\"suggested_action\\\": \\\"BUY\\\" }}\"\n",
        "    ),\n",
        "    expected_output=\"A JSON string containing 'analysis' (string) and 'suggested_action' (string: BUY|SELL|HOLD|RESEARCH).\",\n",
        "    agent=market_analyst,\n",
        "    # output_json=True, # Removed as it expects a Pydantic BaseModel\n",
        ")\n",
        "\n",
        "make_trading_decision_task = Task(\n",
        "    description=(\n",
        "        \"Based on the 'market_analysis_result' (which is a JSON string from the Market Analyst), \"\n",
        "        \"interpret the 'suggested_action' and formulate a clear, simulated trading decision.\\n\"\n",
        "        \"If the suggested action is 'BUY', state that the agent decides to initiate a simulated BUY order at the given price.\\n\"\n",
        "        \"If 'SELL', state that the agent decides to initiate a simulated SELL order.\\n\"\n",
        "        \"If 'HOLD', state that the agent decides to HOLD current assets.\\n\"\n",
        "        \"If 'RESEARCH', state that the agent decides to conduct further research.\\n\"\n",
        "        \"Your final answer MUST be a concise string describing the agent's simulated decision.\"\n",
        "    ),\n",
        "    expected_output=\"A concise string describing the agent's simulated trading decision.\",\n",
        "    context=[analyze_market_task], # This task depends on the output of the analysis task\n",
        "    agent=trading_strategist\n",
        ")\n",
        "\n",
        "# --- Main function to run the Crew ---\n",
        "def main():\n",
        "    print(\"--- Bitcoin, Agentic AI (CrewAI), and LLM Synergy Demo (Python) ---\")\n",
        "    print(\"This script fetches REAL Bitcoin market data from Kraken, uses a CrewAI team for analysis,\")\n",
        "    print(\"and an Agentic AI makes a simulated trading decision.\")\n",
        "    print(\"-\" * 60)\n",
        "\n",
        "    # Removed interactive input and set a default query\n",
        "    user_query = \"What's your analysis of the current Bitcoin market and should I buy or sell?\"\n",
        "    print(f\"Using default query: '{user_query}'\")\n",
        "\n",
        "    # Create the Crew\n",
        "    project_crew = Crew(\n",
        "        agents=[market_analyst, trading_strategist],\n",
        "        tasks=[analyze_market_task, make_trading_decision_task],\n",
        "        process=Process.sequential, # Tasks run in order\n",
        "        verbose=False,\n",
        "    )\n",
        "\n",
        "    print(\"\\nStarting the CrewAI process...\")\n",
        "    # Kick off the crew with the user query as input for the first task\n",
        "    inputs = {\"user_query\": user_query}\n",
        "    result = project_crew.kickoff(inputs=inputs)\n",
        "\n",
        "    print(\"\\n\" + \"=\"*60)\n",
        "    print(\"--- CrewAI Process Completed ---\")\n",
        "    print(\"\\nFinal Agentic AI Simulated Decision:\")\n",
        "    print(result)\n",
        "    print(\"\\n\" + \"=\"*60)\n",
        "\n",
        "    print(\"\\n--- End of Demo ---\")\n",
        "    print(\"This is a simulated demonstration. No real transactions occur.\")\n",
        "\n",
        "if __name__ == \"__main__\":\n",
        "    main()\n"
      ]
    }
  ]
}