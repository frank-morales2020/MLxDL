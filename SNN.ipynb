{
  "nbformat": 4,
  "nbformat_minor": 0,
  "metadata": {
    "colab": {
      "provenance": [],
      "machine_shape": "hm",
      "gpuType": "L4",
      "authorship_tag": "ABX9TyPenrF+JP6zltmDXokBkFGV",
      "include_colab_link": true
    },
    "kernelspec": {
      "name": "python3",
      "display_name": "Python 3"
    },
    "language_info": {
      "name": "python"
    },
    "accelerator": "GPU"
  },
  "cells": [
    {
      "cell_type": "markdown",
      "metadata": {
        "id": "view-in-github",
        "colab_type": "text"
      },
      "source": [
        "<a href=\"https://colab.research.google.com/github/frank-morales2020/MLxDL/blob/main/SNN.ipynb\" target=\"_parent\"><img src=\"https://colab.research.google.com/assets/colab-badge.svg\" alt=\"Open In Colab\"/></a>"
      ]
    },
    {
      "cell_type": "code",
      "source": [
        "!pip install snntorch -q"
      ],
      "metadata": {
        "id": "ly8vegwO0RN8"
      },
      "execution_count": null,
      "outputs": []
    },
    {
      "cell_type": "code",
      "source": [
        "!pip uninstall torch torchvision torchaudio"
      ],
      "metadata": {
        "id": "yqi10JZT1agu"
      },
      "execution_count": null,
      "outputs": []
    },
    {
      "cell_type": "code",
      "source": [
        "!pip install torch -q"
      ],
      "metadata": {
        "id": "qgnQ-t-mIqTG"
      },
      "execution_count": null,
      "outputs": []
    },
    {
      "cell_type": "code",
      "source": [
        "!pip install torchvision -q"
      ],
      "metadata": {
        "id": "woXgD8SzI-nl"
      },
      "execution_count": null,
      "outputs": []
    },
    {
      "cell_type": "code",
      "source": [
        "import torch\n",
        "import snntorch as snn\n",
        "from snntorch import spikeplot as splt\n",
        "from snntorch import spikegen\n",
        "import torch.nn as nn\n",
        "from torchvision import datasets, transforms\n",
        "import torchvision\n",
        "import snntorch"
      ],
      "metadata": {
        "id": "TgPDmtP71tJ9"
      },
      "execution_count": 5,
      "outputs": []
    },
    {
      "cell_type": "code",
      "source": [
        "print(torch.__version__)\n",
        "print(snntorch.__version__)\n",
        "print(torchvision.__version__)"
      ],
      "metadata": {
        "colab": {
          "base_uri": "https://localhost:8080/"
        },
        "id": "8G8UKTnO1sIH",
        "outputId": "31cd2f0a-d965-4b1e-da03-cd2fea6dc370"
      },
      "execution_count": 6,
      "outputs": [
        {
          "output_type": "stream",
          "name": "stdout",
          "text": [
            "2.5.1+cu124\n",
            "0.9.1\n",
            "0.20.1+cu124\n"
          ]
        }
      ]
    },
    {
      "cell_type": "code",
      "source": [
        "!pip install --upgrade snntorch -q"
      ],
      "metadata": {
        "id": "9--NrkQa4bmj"
      },
      "execution_count": 7,
      "outputs": []
    },
    {
      "cell_type": "code",
      "source": [
        "print(torch.__version__)\n",
        "print(snntorch.__version__)\n",
        "print(torchvision.__version__)"
      ],
      "metadata": {
        "colab": {
          "base_uri": "https://localhost:8080/"
        },
        "id": "1Dsf39srCOLZ",
        "outputId": "ed76bb62-e85f-429b-d437-6293f2d52bb1"
      },
      "execution_count": 8,
      "outputs": [
        {
          "output_type": "stream",
          "name": "stdout",
          "text": [
            "2.5.1+cu124\n",
            "0.9.1\n",
            "0.20.1+cu124\n"
          ]
        }
      ]
    },
    {
      "cell_type": "code",
      "source": [
        "!nvidia-smi"
      ],
      "metadata": {
        "colab": {
          "base_uri": "https://localhost:8080/"
        },
        "id": "4gQ3qf1bbVuW",
        "outputId": "3bf8b2b2-9fc0-4b53-af1f-2024079629a0"
      },
      "execution_count": 24,
      "outputs": [
        {
          "output_type": "stream",
          "name": "stdout",
          "text": [
            "Sat Nov  2 19:50:14 2024       \n",
            "+---------------------------------------------------------------------------------------+\n",
            "| NVIDIA-SMI 535.104.05             Driver Version: 535.104.05   CUDA Version: 12.2     |\n",
            "|-----------------------------------------+----------------------+----------------------+\n",
            "| GPU  Name                 Persistence-M | Bus-Id        Disp.A | Volatile Uncorr. ECC |\n",
            "| Fan  Temp   Perf          Pwr:Usage/Cap |         Memory-Usage | GPU-Util  Compute M. |\n",
            "|                                         |                      |               MIG M. |\n",
            "|=========================================+======================+======================|\n",
            "|   0  NVIDIA L4                      Off | 00000000:00:03.0 Off |                    0 |\n",
            "| N/A   76C    P0              34W /  72W |   1263MiB / 23034MiB |      0%      Default |\n",
            "|                                         |                      |                  N/A |\n",
            "+-----------------------------------------+----------------------+----------------------+\n",
            "                                                                                         \n",
            "+---------------------------------------------------------------------------------------+\n",
            "| Processes:                                                                            |\n",
            "|  GPU   GI   CI        PID   Type   Process name                            GPU Memory |\n",
            "|        ID   ID                                                             Usage      |\n",
            "|=======================================================================================|\n",
            "+---------------------------------------------------------------------------------------+\n"
          ]
        }
      ]
    },
    {
      "cell_type": "code",
      "source": [
        "import torch\n",
        "import snntorch as snn\n",
        "from snntorch import spikeplot as splt\n",
        "from snntorch import spikegen\n",
        "import torch.nn as nn\n",
        "from torchvision import datasets, transforms\n",
        "\n",
        "# Check if a CUDA-enabled GPU is available\n",
        "if torch.cuda.is_available():\n",
        "    device = torch.device(\"cuda\")  # Use CUDA GPU\n",
        "    print(\"Using GPU for training.\")\n",
        "else:\n",
        "    device = torch.device(\"cpu\")  # Use CPU\n",
        "    print(\"GPU not available, using CPU.\")\n",
        "\n",
        "\n",
        "\n",
        "# Define the network architecture\n",
        "\n",
        "class Net(torch.nn.Module):\n",
        "    def __init__(self):\n",
        "       super().__init__()\n",
        "\n",
        "        # Input layer\n",
        "       self.fc1 = torch.nn.Linear(784, 1000)\n",
        "\n",
        "        # Spiking neuron layer\n",
        "       self.lif1 = snn.Leaky(beta=0.9)\n",
        "\n",
        "        # Output layer\n",
        "       self.fc2 = torch.nn.Linear(1000, 10)\n",
        "\n",
        "    def forward(self, x):\n",
        "        # Convert input to spikes\n",
        "        spk_in = spikegen.rate(x, num_steps=25)\n",
        "\n",
        "        # Ensure spk_in is a 3D tensor\n",
        "        if len(spk_in.shape) == 2:\n",
        "            spk_in = spk_in.unsqueeze(0)\n",
        "\n",
        "        # Pass through the network\n",
        "        cur1 = self.fc1(spk_in)\n",
        "        spk1 = self.lif1(cur1)\n",
        "        spk1 = spk1[0]  # Select the spike train\n",
        "\n",
        "        cur2 = self.fc2(spk1)\n",
        "        spk2 = self.lif1(cur2)\n",
        "        spk2 = spk2[0]  # Select the spike train\n",
        "\n",
        "        return spk2\n",
        "\n",
        "# Instantiate the network and move it to the device\n",
        "net = Net().to(device)\n",
        "\n",
        "# Define the optimizer and loss function\n",
        "\n",
        "optimizer = torch.optim.Adam(net.parameters(), lr=1e-3)\n",
        "loss_fn = nn.CrossEntropyLoss()\n",
        "\n",
        "# Load MNIST dataset\n",
        "train_dataset = datasets.MNIST(\n",
        "    root='./data', train=True, download=True, transform=transforms.ToTensor()\n",
        ")\n",
        "train_loader = torch.utils.data.DataLoader(\n",
        "    train_dataset, batch_size=64, shuffle=True\n",
        ")\n",
        "\n",
        "test_dataset = datasets.MNIST(\n",
        "    root='./data', train=False, download=True, transform=transforms.ToTensor()\n",
        ")\n",
        "test_loader = torch.utils.data.DataLoader(\n",
        "    test_dataset, batch_size=1000, shuffle=False\n",
        ")\n",
        "\n",
        "# Training loop\n",
        "num_epochs = 5  # Increased number of epochs\n",
        "for epoch in range(num_epochs):\n",
        "    for i, (images, labels) in enumerate(train_loader):\n",
        "        # Move images and labels to the device\n",
        "        images = images.reshape(-1, 784).to(device)\n",
        "        labels = labels.to(device)\n",
        "\n",
        "        # Forward pass\n",
        "        outputs = net(images)\n",
        "\n",
        "        # Convert output spikes to firing rates\n",
        "        output_rates = torch.mean(outputs, dim=0)\n",
        "\n",
        "        # Calculate loss\n",
        "        loss = loss_fn(output_rates, labels)\n",
        "\n",
        "        # Backward pass and optimization\n",
        "        optimizer.zero_grad()\n",
        "        loss.backward()\n",
        "        optimizer.step()\n",
        "\n",
        "        if (i + 1) % 100 == 0:\n",
        "            print(\n",
        "                f'Epoch [{epoch+1}/{num_epochs}], Step [{i+1}/{len(train_loader)}], Loss: {loss.item():.4f}'\n",
        "            )\n",
        "\n",
        "# Model evaluation\n",
        "correct = 0\n",
        "total = 0\n",
        "with torch.no_grad():\n",
        "    for images, labels in test_loader:\n",
        "        # Move images and labels to the device\n",
        "        images = images.reshape(-1, 784).to(device)\n",
        "        labels = labels.to(device)\n",
        "\n",
        "        outputs = net(images)\n",
        "        output_rates = torch.mean(outputs, dim=0)\n",
        "        _, predicted = torch.max(output_rates.data, 1)\n",
        "        total += labels.size(0)\n",
        "        correct += (predicted == labels).sum().item()\n",
        "\n",
        "print('\\n')\n",
        "print(f'Accuracy of the network on the 10000 test images: {100 * correct / total:.2f}%')"
      ],
      "metadata": {
        "id": "9JhH2uzbIIBw",
        "colab": {
          "base_uri": "https://localhost:8080/"
        },
        "outputId": "9fe6511e-2b1f-42f9-e063-677dd1d13b4f"
      },
      "execution_count": 23,
      "outputs": [
        {
          "output_type": "stream",
          "name": "stdout",
          "text": [
            "Using GPU for training.\n",
            "Epoch [1/5], Step [100/938], Loss: 1.5484\n",
            "Epoch [1/5], Step [200/938], Loss: 1.5223\n",
            "Epoch [1/5], Step [300/938], Loss: 1.5059\n",
            "Epoch [1/5], Step [400/938], Loss: 1.5372\n",
            "Epoch [1/5], Step [500/938], Loss: 1.4833\n",
            "Epoch [1/5], Step [600/938], Loss: 1.5143\n",
            "Epoch [1/5], Step [700/938], Loss: 1.5014\n",
            "Epoch [1/5], Step [800/938], Loss: 1.5108\n",
            "Epoch [1/5], Step [900/938], Loss: 1.5005\n",
            "Epoch [2/5], Step [100/938], Loss: 1.5243\n",
            "Epoch [2/5], Step [200/938], Loss: 1.5172\n",
            "Epoch [2/5], Step [300/938], Loss: 1.5151\n",
            "Epoch [2/5], Step [400/938], Loss: 1.4749\n",
            "Epoch [2/5], Step [500/938], Loss: 1.4717\n",
            "Epoch [2/5], Step [600/938], Loss: 1.4796\n",
            "Epoch [2/5], Step [700/938], Loss: 1.4904\n",
            "Epoch [2/5], Step [800/938], Loss: 1.4982\n",
            "Epoch [2/5], Step [900/938], Loss: 1.5017\n",
            "Epoch [3/5], Step [100/938], Loss: 1.4712\n",
            "Epoch [3/5], Step [200/938], Loss: 1.4776\n",
            "Epoch [3/5], Step [300/938], Loss: 1.4771\n",
            "Epoch [3/5], Step [400/938], Loss: 1.4855\n",
            "Epoch [3/5], Step [500/938], Loss: 1.4714\n",
            "Epoch [3/5], Step [600/938], Loss: 1.4913\n",
            "Epoch [3/5], Step [700/938], Loss: 1.4878\n",
            "Epoch [3/5], Step [800/938], Loss: 1.4868\n",
            "Epoch [3/5], Step [900/938], Loss: 1.4827\n",
            "Epoch [4/5], Step [100/938], Loss: 1.4993\n",
            "Epoch [4/5], Step [200/938], Loss: 1.4719\n",
            "Epoch [4/5], Step [300/938], Loss: 1.4887\n",
            "Epoch [4/5], Step [400/938], Loss: 1.4724\n",
            "Epoch [4/5], Step [500/938], Loss: 1.4684\n",
            "Epoch [4/5], Step [600/938], Loss: 1.4975\n",
            "Epoch [4/5], Step [700/938], Loss: 1.4992\n",
            "Epoch [4/5], Step [800/938], Loss: 1.4926\n",
            "Epoch [4/5], Step [900/938], Loss: 1.4791\n",
            "Epoch [5/5], Step [100/938], Loss: 1.4887\n",
            "Epoch [5/5], Step [200/938], Loss: 1.4889\n",
            "Epoch [5/5], Step [300/938], Loss: 1.4803\n",
            "Epoch [5/5], Step [400/938], Loss: 1.4836\n",
            "Epoch [5/5], Step [500/938], Loss: 1.4967\n",
            "Epoch [5/5], Step [600/938], Loss: 1.4656\n",
            "Epoch [5/5], Step [700/938], Loss: 1.4894\n",
            "Epoch [5/5], Step [800/938], Loss: 1.4876\n",
            "Epoch [5/5], Step [900/938], Loss: 1.4629\n",
            "\n",
            "\n",
            "Accuracy of the network on the 10000 test images: 97.28%\n"
          ]
        }
      ]
    }
  ]
}