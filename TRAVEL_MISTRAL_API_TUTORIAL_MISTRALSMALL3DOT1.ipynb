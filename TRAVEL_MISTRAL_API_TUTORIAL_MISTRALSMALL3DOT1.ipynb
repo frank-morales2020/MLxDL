{
  "nbformat": 4,
  "nbformat_minor": 0,
  "metadata": {
    "colab": {
      "provenance": [],
      "machine_shape": "hm",
      "authorship_tag": "ABX9TyMf0AEaqvUphmIhFophrBcW",
      "include_colab_link": true
    },
    "kernelspec": {
      "name": "python3",
      "display_name": "Python 3"
    },
    "language_info": {
      "name": "python"
    }
  },
  "cells": [
    {
      "cell_type": "markdown",
      "metadata": {
        "id": "view-in-github",
        "colab_type": "text"
      },
      "source": [
        "<a href=\"https://colab.research.google.com/github/frank-morales2020/MLxDL/blob/main/TRAVEL_MISTRAL_API_TUTORIAL_MISTRALSMALL3DOT1.ipynb\" target=\"_parent\"><img src=\"https://colab.research.google.com/assets/colab-badge.svg\" alt=\"Open In Colab\"/></a>"
      ]
    },
    {
      "cell_type": "markdown",
      "source": [
        "https://docs.mistral.ai/platform/client/\n",
        "\n",
        "https://github.com/mistralai/client-python\n",
        "\n",
        "https://docs.mistral.ai/getting-started/models/models_overview/\n",
        "\n",
        "https://mistral.ai/news/mistral-small-3"
      ],
      "metadata": {
        "id": "HFSQBSaVuYEu"
      }
    },
    {
      "cell_type": "markdown",
      "source": [
        "# Dependencies and Settings"
      ],
      "metadata": {
        "id": "NesDaI4OICGe"
      }
    },
    {
      "cell_type": "code",
      "source": [
        "!pip install colab-env --quiet\n",
        "!pip install mistralai --quiet\n",
        "\n",
        "# Install Hugging Face libraries\n",
        "!pip install  --upgrade transformers datasets accelerate evaluate bitsandbytes --quiet"
      ],
      "metadata": {
        "id": "ghqAXWE-xJa_"
      },
      "execution_count": null,
      "outputs": []
    },
    {
      "cell_type": "code",
      "source": [
        "import mistralai\n",
        "from mistralai.client import MistralClient\n",
        "#from mistralai.models.chat_completion import ChatMessage\n",
        "import os\n",
        "import colab_env\n",
        "import json"
      ],
      "metadata": {
        "id": "a87Hog_P8h9P"
      },
      "execution_count": null,
      "outputs": []
    },
    {
      "cell_type": "markdown",
      "source": [
        "# MISTRAL API SETTINGS"
      ],
      "metadata": {
        "id": "9V3yq8LLuqdT"
      }
    },
    {
      "cell_type": "code",
      "source": [
        "from mistralai import Mistral\n",
        "api_key = os.environ[\"MISTRAL_API_KEY\"]\n",
        "client = Mistral(api_key=api_key)"
      ],
      "metadata": {
        "id": "NnLef38upn75"
      },
      "execution_count": 3,
      "outputs": []
    },
    {
      "cell_type": "markdown",
      "source": [
        "# Function Definitions"
      ],
      "metadata": {
        "id": "5axbl8pdofkY"
      }
    },
    {
      "cell_type": "code",
      "source": [
        "def mistral_chat(prompt, model, client, stream):\n",
        "    # Removed MistralClient instantiation\n",
        "    messages = [{\"role\": \"user\", \"content\": prompt}]  # Use dictionary for messages\n",
        "    if stream:\n",
        "        print(\"Streaming\")\n",
        "        print()\n",
        "        print('Answer: ')\n",
        "        # Use client.chat.complete_stream for streaming\n",
        "        for chunk in client.chat.complete_stream(model=model, messages=messages):\n",
        "            if chunk.choices[0].delta.content is not None:\n",
        "                print(chunk.choices[0].delta.content, end=\"\")\n",
        "    else:\n",
        "        # Use client.chat.complete for non-streaming\n",
        "        chat_response = client.chat.complete(model=model, messages=messages, temperature=0.9)\n",
        "        return chat_response"
      ],
      "metadata": {
        "id": "7UgmK-jmBKfa"
      },
      "execution_count": 6,
      "outputs": []
    },
    {
      "cell_type": "code",
      "source": [
        "def create_prompt_formats(sample):\n",
        "    \"\"\"\n",
        "    Format various fields of the sample ('instruction','output')\n",
        "    Then concatenate them using two newline characters\n",
        "    :param sample: Sample dictionnary\n",
        "    \"\"\"\n",
        "    INTRO_BLURB = \"Below is an instruction that describes a task. Write a response that appropriately completes the request.\"\n",
        "    INSTRUCTION_KEY = \"### Instruct: Summarize the below conversation.\"\n",
        "    RESPONSE_KEY = \"### Output:\"\n",
        "    END_KEY = \"### End\"\n",
        "\n",
        "    blurb = f\"\\n{INTRO_BLURB}\"\n",
        "    instruction = f\"{INSTRUCTION_KEY}\"\n",
        "    input_context = f\"{sample['dialogue']}\" if sample[\"dialogue\"] else None\n",
        "    response = f\"{RESPONSE_KEY}\\n{sample['summary']}\"\n",
        "    end = f\"{END_KEY}\"\n",
        "\n",
        "    parts = [part for part in [blurb, instruction, input_context, response, end] if part]\n",
        "\n",
        "    formatted_prompt = \"\\n\\n\".join(parts)\n",
        "    sample[\"text\"] = formatted_prompt\n",
        "\n",
        "    return sample"
      ],
      "metadata": {
        "id": "LY2NjeYtpGet"
      },
      "execution_count": 7,
      "outputs": []
    },
    {
      "cell_type": "markdown",
      "source": [
        "# Managenment"
      ],
      "metadata": {
        "id": "Rwwy34zSFHD2"
      }
    },
    {
      "cell_type": "code",
      "source": [
        "client = Mistral(api_key=api_key)  # Use MistralClient instead of Mistral\n",
        "model_list = client.models.list()\n",
        "\n",
        "for model in model_list.data:\n",
        "    print(model.id)\n",
        "    #print(model.created)\n",
        "    #print(model.owned_by)"
      ],
      "metadata": {
        "id": "kJGSPIMaDBPv",
        "colab": {
          "base_uri": "https://localhost:8080/"
        },
        "outputId": "7cf2bd46-12e7-4d9d-b274-7503e1792a01"
      },
      "execution_count": 8,
      "outputs": [
        {
          "output_type": "stream",
          "name": "stdout",
          "text": [
            "ministral-3b-2410\n",
            "ministral-3b-latest\n",
            "ministral-8b-2410\n",
            "ministral-8b-latest\n",
            "open-mistral-7b\n",
            "mistral-tiny\n",
            "mistral-tiny-2312\n",
            "open-mistral-nemo\n",
            "open-mistral-nemo-2407\n",
            "mistral-tiny-2407\n",
            "mistral-tiny-latest\n",
            "open-mixtral-8x7b\n",
            "mistral-small\n",
            "mistral-small-2312\n",
            "open-mixtral-8x22b\n",
            "open-mixtral-8x22b-2404\n",
            "mistral-small-2402\n",
            "mistral-small-2409\n",
            "mistral-medium-2312\n",
            "mistral-large-2402\n",
            "mistral-large-2407\n",
            "mistral-large-2411\n",
            "mistral-large-latest\n",
            "pixtral-large-2411\n",
            "pixtral-large-latest\n",
            "mistral-large-pixtral-2411\n",
            "codestral-2405\n",
            "codestral-2501\n",
            "codestral-latest\n",
            "codestral-2412\n",
            "codestral-2411-rc5\n",
            "codestral-mamba-2407\n",
            "open-codestral-mamba\n",
            "codestral-mamba-latest\n",
            "pixtral-12b-2409\n",
            "pixtral-12b\n",
            "pixtral-12b-latest\n",
            "mistral-small-2501\n",
            "mistral-small-2503\n",
            "mistral-small-latest\n",
            "mistral-saba-2502\n",
            "mistral-saba-latest\n",
            "mistral-medium-2505\n",
            "mistral-medium-latest\n",
            "mistral-medium\n",
            "mistral-embed\n",
            "mistral-moderation-2411\n",
            "mistral-moderation-latest\n",
            "mistral-ocr-2503\n",
            "mistral-ocr-latest\n",
            "ft:open-mistral-7b:9c9073bb:20250319:42325165\n",
            "ft:open-mistral-7b:9c9073bb:20250319:01258b27\n"
          ]
        }
      ]
    },
    {
      "cell_type": "markdown",
      "source": [
        "https://mistral.ai/news/mistral-small-3"
      ],
      "metadata": {
        "id": "3Dem3fc9dN1P"
      }
    },
    {
      "cell_type": "code",
      "source": [
        "model=model_list.data[39].id\n",
        "model"
      ],
      "metadata": {
        "colab": {
          "base_uri": "https://localhost:8080/",
          "height": 35
        },
        "id": "5uO56886bzN0",
        "outputId": "793dbb97-30f1-48ff-cd01-95c0931d579e"
      },
      "execution_count": 20,
      "outputs": [
        {
          "output_type": "execute_result",
          "data": {
            "text/plain": [
              "'mistral-small-latest'"
            ],
            "application/vnd.google.colaboratory.intrinsic+json": {
              "type": "string"
            }
          },
          "metadata": {},
          "execution_count": 20
        }
      ]
    },
    {
      "cell_type": "code",
      "source": [
        "messages = [{\"role\": \"user\", \"content\": \"What is the best French cheese?\"}]\n",
        "\n",
        "chat_response = client.chat.complete(  # Use client.chat.complete\n",
        "    model=model,\n",
        "    messages=messages,\n",
        ")\n",
        "print(chat_response.choices[0].message.content)"
      ],
      "metadata": {
        "id": "fgqaQVZ6W7GA",
        "colab": {
          "base_uri": "https://localhost:8080/"
        },
        "outputId": "fbd114c5-6ba0-4f03-ab19-1ca82f861193"
      },
      "execution_count": 21,
      "outputs": [
        {
          "output_type": "stream",
          "name": "stdout",
          "text": [
            "Choosing the \"best\" French cheese can be highly subjective, as it depends on personal taste preferences. France is renowned for its diverse and high-quality cheeses, with over 400 different types. Here are a few highly regarded ones across various categories:\n",
            "\n",
            "1. **Soft Cheeses**:\n",
            "   - **Camembert de Normandie**: A classic soft cheese with a creamy texture and rich flavor.\n",
            "   - **Brie de Meaux**: Known for its creamy interior and edible white rind.\n",
            "\n",
            "2. **Blue Cheeses**:\n",
            "   - **Roquefort**: One of the oldest known cheeses, with a strong, tangy flavor and crumbly texture.\n",
            "   - **Bleu d'Auvergne**: A milder blue cheese with a creamy texture.\n",
            "\n",
            "3. **Semi-Soft Cheeses**:\n",
            "   - **Morbier**: Known for its distinctive layer of ash and rich, buttery flavor.\n",
            "   - **Reblochon**: A creamy, nutty cheese often used in dishes like tartiflette.\n",
            "\n",
            "4. **Hard Cheeses**:\n",
            "   - **Comté**: A nutty, slightly sweet cheese that's great for grating or eating on its own.\n",
            "   - **Beaufort**: Similar to Comté but with a more pronounced flavor.\n",
            "\n",
            "5. **Goat Cheeses**:\n",
            "   - **Chèvre**: Available in various forms, from fresh and soft to aged and crumbly, each with its unique flavor profile.\n",
            "\n",
            "Each of these cheeses has its own unique characteristics, and the \"best\" one ultimately depends on your personal taste. If you have the opportunity, trying a selection of French cheeses can be a delightful way to discover your favorite.\n"
          ]
        }
      ]
    },
    {
      "cell_type": "markdown",
      "source": [
        "# BOB TRAVEL APP"
      ],
      "metadata": {
        "id": "DjA7Fi2H2JIr"
      }
    },
    {
      "cell_type": "code",
      "source": [
        "from IPython.display import Markdown\n",
        "import textwrap\n",
        "def to_markdown(text):\n",
        "  text = text.replace('•', '  *')\n",
        "  return Markdown(textwrap.indent(text, '> ', predicate=lambda _: True))"
      ],
      "metadata": {
        "id": "strCIUnwX2u8"
      },
      "execution_count": 22,
      "outputs": []
    },
    {
      "cell_type": "code",
      "source": [
        "prompt= 'How do you plan out your trip? \\\n",
        "Bob is travelling to SAT from YVR \\\n",
        "1. He has a connection in DFW \\\n",
        "2. His connection is 6 hours long \\\n",
        "3. He has a budget of 100.00 including meals \\\n",
        "4. What can he do? Please suggest a time. \\\n",
        "5. Know- he is a hiker, museum, foodie, has a carry-on bag'\n",
        "\n",
        "print(prompt)\n",
        "\n",
        "response=mistral_chat(prompt,model,client,stream=False)\n",
        "\n",
        "print('\\n\\n')\n",
        "print('Answer: ')\n",
        "#print(response.choices[0].message.content)\n",
        "to_markdown(response.choices[0].message.content)"
      ],
      "metadata": {
        "id": "c5NHp3XLTCYU",
        "colab": {
          "base_uri": "https://localhost:8080/",
          "height": 572
        },
        "outputId": "c49f0b03-9910-42f1-954e-900df302e55a"
      },
      "execution_count": 23,
      "outputs": [
        {
          "output_type": "stream",
          "name": "stdout",
          "text": [
            "How do you plan out your trip? Bob is travelling to SAT from YVR 1. He has a connection in DFW 2. His connection is 6 hours long 3. He has a budget of 100.00 including meals 4. What can he do? Please suggest a time. 5. Know- he is a hiker, museum, foodie, has a carry-on bag\n",
            "\n",
            "\n",
            "\n",
            "Answer: \n"
          ]
        },
        {
          "output_type": "execute_result",
          "data": {
            "text/plain": [
              "<IPython.core.display.Markdown object>"
            ],
            "text/markdown": "> Planning a trip with a long layover and a budget can be a fun challenge. Here’s a suggested itinerary for Bob, who is traveling from Vancouver (YVR) to San Antonio (SAT) with a 6-hour layover in Dallas/Fort Worth (DFW):\n> \n> ### 1. Arrival and Exit from DFW\n> - **Arrival Time**: Let’s assume Bob’s flight from YVR arrives at DFW at 11:00 AM.\n> - **Exit the Airport**: Bob should head to the DFW Terminal B or C, depending on his arrival gate, and proceed to exit the airport.\n> \n> ### 2. Transportation\n> - **DART Train**: The Dallas Area Rapid Transit (DART) is an affordable way to get around. A day pass costs around $10, which will cover his transportation needs.\n>   - **Time**: 11:30 AM - 12:00 PM (to get to the DART station and purchase a pass)\n> \n> ### 3. Activities\n> - **Option 1: Museum**\n>   - **Dallas Museum of Art**: Free admission, but some special exhibits may have a fee.\n>     - **Time**: 12:30 PM - 2:30 PM\n>     - **Transportation**: Take the DART to the Arts District Station.\n>   - **Option 2: Hiking**\n>     - **Trinity River Audubon Center**: Free admission, and it offers hiking trails.\n>       - **Time**: 12:30 PM - 2:30 PM\n>       - **Transportation**: Take the DART to the Audubon Station.\n> \n> ### 4. Lunch\n> - **Food Options**:\n>   - **Dallas Farmers Market**: Affordable food options and a great place to grab a quick bite.\n>     - **Time**: 2:45 PM - 3:30 PM\n>     - **Transportation**: Take the DART to the Farmers Market Station.\n>   - **DART Station Food Court**: If time is tight, there are food options available at the DART stations.\n> \n> ### 5. Return to DFW\n> - **DART Back to DFW**: Make sure to allow enough time to get back to the airport.\n>   - **Time**: 3:45 PM - 4:30 PM (to get back to the airport)\n> \n> ### 6. Departure\n> - **Flight to SAT**: Bob’s flight to SAT should be scheduled to depart around 5:30 PM to allow for security and boarding time.\n> \n> ### Budget Breakdown\n> - **Transportation**: $10 (DART day pass)\n> - **Food**: $30 (Lunch and snacks)\n> - **Miscellaneous**: $10 (Emergency or unexpected costs)\n> - **Total**: $50\n> \n> This leaves Bob with $50 for any unexpected costs or additional snacks.\n> \n> ### Summary\n> - **11:00 AM**: Arrival at DFW\n> - **11:30 AM - 12:00 PM**: Exit airport and get DART pass\n> - **12:30 PM - 2:30 PM**: Visit Dallas Museum of Art or Trinity River Audubon Center\n> - **2:45 PM - 3:30 PM**: Lunch at Dallas Farmers Market\n> - **3:45 PM - 4:30 PM**: Return to DFW\n> - **5:30 PM**: Departure to SAT\n> \n> This itinerary allows Bob to enjoy some of Dallas’s attractions while staying within his budget and making the most of his layover."
          },
          "metadata": {},
          "execution_count": 23
        }
      ]
    },
    {
      "cell_type": "markdown",
      "source": [
        "## BOB TRAVEL TO LONDON"
      ],
      "metadata": {
        "id": "1HVn7eHKpD_D"
      }
    },
    {
      "cell_type": "code",
      "source": [
        "prompt = \"\"\"\n",
        "        \\n\\nHuman: How do you plan out your trip?\n",
        "\n",
        "        Here's a scenario:\n",
        "\n",
        "        A traveler is visiting London.\n",
        "\n",
        "        Trip Details:\n",
        "        1. The traveler has the following preferences: They enjoy history, art, and trying new foods. They prefer walking or public transportation.\n",
        "        2. The trip starts on 2025-05-15 and ends on 2025-05-25.\n",
        "        3. The traveler is interested in activities like visiting museums, historical sites, exploring local markets, and trying authentic cuisine.\n",
        "\n",
        "        The Question:\n",
        "        Considering the traveler's preferences, desired location, trip dates, and preferred activities, please provide a detailed itinerary.\n",
        "\n",
        "        Important Considerations:\n",
        "        * Time: The traveler has limited time and needs to account for travel time between activities.\n",
        "        * Budget: Suggest activities that are reasonably priced or free.\n",
        "        * Interests: Focus on activities that align with the traveler's preferences.\n",
        "\n",
        "        Desired Output:\n",
        "        Provide a structured response in JSON format with the following details:\n",
        "\n",
        "        * \"title\": A title for the itinerary.\n",
        "        * \"description\": A brief description of the itinerary.\n",
        "        * \"days\": A list of days, each containing:\n",
        "            * \"day\": The day number (e.g., 1, 2, 3).\n",
        "            * \"activities\": A list of activities for that day, each containing:\n",
        "                * \"name\": The name of the activity.\n",
        "                * \"description\": A description of the activity.\n",
        "                * \"duration\": The estimated duration of the activity.\n",
        "                * \"cost\": The estimated cost of the activity.\n",
        "        \\n\\nAssistant:\n",
        "        \"\"\"\n",
        "\n",
        "print(prompt)\n",
        "\n",
        "response=mistral_chat(prompt,model,client,stream=False)\n",
        "\n",
        "print('\\n\\n')\n",
        "print('Answer: ')\n",
        "#print(response.choices[0].message.content)\n",
        "to_markdown(response.choices[0].message.content)"
      ],
      "metadata": {
        "colab": {
          "base_uri": "https://localhost:8080/",
          "height": 1000
        },
        "id": "kM9Pid-5neeh",
        "outputId": "551afa43-3823-4103-c27a-72c3b7acebfd"
      },
      "execution_count": 30,
      "outputs": [
        {
          "output_type": "stream",
          "name": "stdout",
          "text": [
            "\n",
            "        \n",
            "\n",
            "Human: How do you plan out your trip?\n",
            "\n",
            "        Here's a scenario:\n",
            "\n",
            "        A traveler is visiting London.\n",
            "\n",
            "        Trip Details:\n",
            "        1. The traveler has the following preferences: They enjoy history, art, and trying new foods. They prefer walking or public transportation.\n",
            "        2. The trip starts on 2025-05-15 and ends on 2025-05-25.\n",
            "        3. The traveler is interested in activities like visiting museums, historical sites, exploring local markets, and trying authentic cuisine.\n",
            "\n",
            "        The Question:\n",
            "        Considering the traveler's preferences, desired location, trip dates, and preferred activities, please provide a detailed itinerary.\n",
            "\n",
            "        Important Considerations:\n",
            "        * Time: The traveler has limited time and needs to account for travel time between activities.\n",
            "        * Budget: Suggest activities that are reasonably priced or free.\n",
            "        * Interests: Focus on activities that align with the traveler's preferences.\n",
            "\n",
            "        Desired Output:\n",
            "        Provide a structured response in JSON format with the following details:\n",
            "\n",
            "        * \"title\": A title for the itinerary.\n",
            "        * \"description\": A brief description of the itinerary.\n",
            "        * \"days\": A list of days, each containing:\n",
            "            * \"day\": The day number (e.g., 1, 2, 3).\n",
            "            * \"activities\": A list of activities for that day, each containing:\n",
            "                * \"name\": The name of the activity.\n",
            "                * \"description\": A description of the activity.\n",
            "                * \"duration\": The estimated duration of the activity.\n",
            "                * \"cost\": The estimated cost of the activity.\n",
            "        \n",
            "\n",
            "Assistant:\n",
            "        \n",
            "\n",
            "\n",
            "\n",
            "Answer: \n"
          ]
        },
        {
          "output_type": "execute_result",
          "data": {
            "text/plain": [
              "<IPython.core.display.Markdown object>"
            ],
            "text/markdown": "> ```json\n> {\n>   \"title\": \"Historical and Cultural London Adventure\",\n>   \"description\": \"A 10-day itinerary for a traveler interested in history, art, and authentic cuisine, focusing on walking and public transportation.\",\n>   \"days\": [\n>     {\n>       \"day\": 1,\n>       \"activities\": [\n>         {\n>           \"name\": \"British Museum\",\n>           \"description\": \"Explore one of the world's oldest museums, housing a vast collection of world art and artifacts.\",\n>           \"duration\": \"3 hours\",\n>           \"cost\": \"Free\"\n>         },\n>         {\n>           \"name\": \"Covent Garden\",\n>           \"description\": \"Stroll through this bustling market area with street performers, shops, and restaurants.\",\n>           \"duration\": \"2 hours\",\n>           \"cost\": \"Free\"\n>         }\n>       ]\n>     },\n>     {\n>       \"day\": 2,\n>       \"activities\": [\n>         {\n>           \"name\": \"Tower of London\",\n>           \"description\": \"Visit the historic castle on the north bank of the River Thames, home to the Crown Jewels.\",\n>           \"duration\": \"3 hours\",\n>           \"cost\": \"£28 (approx.)\"\n>         },\n>         {\n>           \"name\": \"Tower Bridge\",\n>           \"description\": \"Walk across the iconic bridge and visit the Tower Bridge Exhibition for a small fee.\",\n>           \"duration\": \"1 hour\",\n>           \"cost\": \"£11 (approx.)\"\n>         }\n>       ]\n>     },\n>     {\n>       \"day\": 3,\n>       \"activities\": [\n>         {\n>           \"name\": \"National Gallery\",\n>           \"description\": \"Admire a rich collection of over 2,300 paintings dating from the mid-13th century to 1900.\",\n>           \"duration\": \"2 hours\",\n>           \"cost\": \"Free\"\n>         },\n>         {\n>           \"name\": \"Trafalgar Square\",\n>           \"description\": \"Visit the famous square and enjoy the surrounding area, including Nelson's Column.\",\n>           \"duration\": \"1 hour\",\n>           \"cost\": \"Free\"\n>         }\n>       ]\n>     },\n>     {\n>       \"day\": 4,\n>       \"activities\": [\n>         {\n>           \"name\": \"Borough Market\",\n>           \"description\": \"Explore one of London's most renowned food markets, offering a variety of international cuisines.\",\n>           \"duration\": \"2 hours\",\n>           \"cost\": \"Varies by purchase\"\n>         },\n>         {\n>           \"name\": \"Shakespeare's Globe\",\n>           \"description\": \"Visit the reconstructed open-air theatre dedicated to performing the works of Shakespeare.\",\n>           \"duration\": \"1 hour\",\n>           \"cost\": \"£17 (approx.)\"\n>         }\n>       ]\n>     },\n>     {\n>       \"day\": 5,\n>       \"activities\": [\n>         {\n>           \"name\": \"Victoria and Albert Museum\",\n>           \"description\": \"Discover the world's largest museum of applied and decorative arts and design.\",\n>           \"duration\": \"3 hours\",\n>           \"cost\": \"Free\"\n>         },\n>         {\n>           \"name\": \"Harrods\",\n>           \"description\": \"Visit the famous luxury department store for some window shopping.\",\n>           \"duration\": \"1 hour\",\n>           \"cost\": \"Free\"\n>         }\n>       ]\n>     },\n>     {\n>       \"day\": 6,\n>       \"activities\": [\n>         {\n>           \"name\": \"Camden Market\",\n>           \"description\": \"Explore a vibrant market with a variety of food stalls, shops, and street performers.\",\n>           \"duration\": \"2 hours\",\n>           \"cost\": \"Varies by purchase\"\n>         },\n>         {\n>           \"name\": \"Regent's Canal Walk\",\n>           \"description\": \"Take a leisurely walk along the picturesque Regent's Canal.\",\n>           \"duration\": \"1 hour\",\n>           \"cost\": \"Free\"\n>         }\n>       ]\n>     },\n>     {\n>       \"day\": 7,\n>       \"activities\": [\n>         {\n>           \"name\": \"Buckingham Palace\",\n>           \"description\": \"Visit the official London residence of the British monarch and witness the Changing of the Guard.\",\n>           \"duration\": \"1 hour\",\n>           \"cost\": \"Free (Changing of the Guard)\"\n>         },\n>         {\n>           \"name\": \"Westminster Abbey\",\n>           \"description\": \"Explore the historic church where British monarchs are crowned and buried.\",\n>           \"duration\": \"2 hours\",\n>           \"cost\": \"£23 (approx.)\"\n>         }\n>       ]\n>     },\n>     {\n>       \"day\": 8,\n>       \"activities\": [\n>         {\n>           \"name\": \"Tate Modern\",\n>           \"description\": \"Visit the national gallery of international modern art.\",\n>           \"duration\": \"2 hours\",\n>           \"cost\": \"Free\"\n>         },\n>         {\n>           \"name\": \"South Bank\",\n>           \"description\": \"Stroll along the South Bank, enjoying views of the Thames and various street performers.\",\n>           \"duration\": \"1 hour\",\n>           \"cost\": \"Free\"\n>         }\n>       ]\n>     },\n>     {\n>       \"day\": 9,\n>       \"activities\": [\n>         {\n>           \"name\": \"Greenwich\",\n>           \"description\": \"Visit the Royal Observatory, the Prime Meridian Line, and the historic ships at the National Maritime Museum.\",\n>           \"duration\": \"3 hours\",\n>           \"cost\": \"£18 (approx.)\"\n>         },\n>         {\n>           \"name\": \"Greenwich Market\",\n>           \"description\": \"Explore the local market with a variety of food stalls and shops.\",\n>           \"duration\": \"1 hour\",\n>           \"cost\": \"Varies by purchase\"\n>         }\n>       ]\n>     },\n>     {\n>       \"day\": 10,\n>       \"activities\": [\n>         {\n>           \"name\": \"Hyde Park\",\n>           \"description\": \"Take a leisurely walk through one of London's largest parks.\",\n>           \"duration\": \"2 hours\",\n>           \"cost\": \"Free\"\n>         },\n>         {\n>           \"name\": \"Oxford Street\",\n>           \"description\": \"Shop and dine on one of the world's most famous shopping streets.\",\n>           \"duration\": \"2 hours\",\n>           \"cost\": \"Varies by purchase\"\n>         }\n>       ]\n>     }\n>   ]\n> }\n> ```"
          },
          "metadata": {},
          "execution_count": 30
        }
      ]
    }
  ]
}