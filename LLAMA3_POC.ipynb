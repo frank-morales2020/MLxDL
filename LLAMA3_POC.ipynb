{
  "nbformat": 4,
  "nbformat_minor": 0,
  "metadata": {
    "colab": {
      "provenance": [],
      "machine_shape": "hm",
      "gpuType": "T4",
      "authorship_tag": "ABX9TyPuk4H8qtY5kdlciWDwkGoz",
      "include_colab_link": true
    },
    "kernelspec": {
      "name": "python3",
      "display_name": "Python 3"
    },
    "language_info": {
      "name": "python"
    },
    "accelerator": "GPU"
  },
  "cells": [
    {
      "cell_type": "markdown",
      "metadata": {
        "id": "view-in-github",
        "colab_type": "text"
      },
      "source": [
        "<a href=\"https://colab.research.google.com/github/frank-morales2020/MLxDL/blob/main/LLAMA3_POC.ipynb\" target=\"_parent\"><img src=\"https://colab.research.google.com/assets/colab-badge.svg\" alt=\"Open In Colab\"/></a>"
      ]
    },
    {
      "cell_type": "code",
      "source": [
        "!pip install accelerate -q"
      ],
      "metadata": {
        "id": "4oxypVKO4ICH"
      },
      "execution_count": null,
      "outputs": []
    },
    {
      "cell_type": "code",
      "source": [
        "device = \"cuda\""
      ],
      "metadata": {
        "id": "lEqmoEDm6vQi"
      },
      "execution_count": 2,
      "outputs": []
    },
    {
      "cell_type": "code",
      "source": [
        "import torch\n",
        "from transformers import LlamaTokenizer, LlamaForCausalLM\n",
        "\n",
        "## v2 models\n",
        "#openlm-research/open_llama_3b_v2\n",
        "model_path = 'openlm-research/open_llama_3b_v2'\n",
        "# model_path = 'openlm-research/open_llama_7b_v2'\n",
        "\n",
        "## v1 models\n",
        "# model_path = 'openlm-research/open_llama_3b'\n",
        "# model_path = 'openlm-research/open_llama_7b'\n",
        "# model_path = 'openlm-research/open_llama_13b'\n",
        "\n",
        "tokenizer = LlamaTokenizer.from_pretrained(model_path)\n",
        "model = LlamaForCausalLM.from_pretrained(\n",
        "    model_path, torch_dtype=torch.float16, device_map='auto',\n",
        ")\n",
        "\n",
        "model.todevice = device\n",
        "#print(tokenizer.decode(generation_output[0]))"
      ],
      "metadata": {
        "id": "lShzNst73y7o"
      },
      "execution_count": null,
      "outputs": []
    },
    {
      "cell_type": "code",
      "source": [
        "print(model.device)"
      ],
      "metadata": {
        "colab": {
          "base_uri": "https://localhost:8080/"
        },
        "id": "B7jl0JpXPsm5",
        "outputId": "ca34f792-07df-491e-e8f1-1c91d660c9bf"
      },
      "execution_count": 4,
      "outputs": [
        {
          "output_type": "stream",
          "name": "stdout",
          "text": [
            "cuda:0\n"
          ]
        }
      ]
    },
    {
      "cell_type": "code",
      "source": [
        "model.eval()"
      ],
      "metadata": {
        "colab": {
          "base_uri": "https://localhost:8080/"
        },
        "id": "0RgQwSbLO5Bm",
        "outputId": "7d9fcacc-f7f5-4351-a707-6ced3bbefc9d"
      },
      "execution_count": 5,
      "outputs": [
        {
          "output_type": "execute_result",
          "data": {
            "text/plain": [
              "LlamaForCausalLM(\n",
              "  (model): LlamaModel(\n",
              "    (embed_tokens): Embedding(32000, 3200, padding_idx=0)\n",
              "    (layers): ModuleList(\n",
              "      (0-25): 26 x LlamaDecoderLayer(\n",
              "        (self_attn): LlamaAttention(\n",
              "          (q_proj): Linear(in_features=3200, out_features=3200, bias=False)\n",
              "          (k_proj): Linear(in_features=3200, out_features=3200, bias=False)\n",
              "          (v_proj): Linear(in_features=3200, out_features=3200, bias=False)\n",
              "          (o_proj): Linear(in_features=3200, out_features=3200, bias=False)\n",
              "          (rotary_emb): LlamaRotaryEmbedding()\n",
              "        )\n",
              "        (mlp): LlamaMLP(\n",
              "          (gate_proj): Linear(in_features=3200, out_features=8640, bias=False)\n",
              "          (up_proj): Linear(in_features=3200, out_features=8640, bias=False)\n",
              "          (down_proj): Linear(in_features=8640, out_features=3200, bias=False)\n",
              "          (act_fn): SiLU()\n",
              "        )\n",
              "        (input_layernorm): LlamaRMSNorm()\n",
              "        (post_attention_layernorm): LlamaRMSNorm()\n",
              "      )\n",
              "    )\n",
              "    (norm): LlamaRMSNorm()\n",
              "  )\n",
              "  (lm_head): Linear(in_features=3200, out_features=32000, bias=False)\n",
              ")"
            ]
          },
          "metadata": {},
          "execution_count": 5
        }
      ]
    },
    {
      "cell_type": "code",
      "source": [
        "prompt = 'Q: What is the largest animal?\\nA:'\n",
        "input_ids = tokenizer(prompt, return_tensors=\"pt\").input_ids\n",
        "input_ids = input_ids.to('cuda')\n",
        "\n",
        "generation_output = model.generate(\n",
        "    input_ids=input_ids, max_new_tokens=512, do_sample=True, temperature=0.7,\n",
        ")"
      ],
      "metadata": {
        "id": "C6lpR9XgIalK"
      },
      "execution_count": 73,
      "outputs": []
    },
    {
      "cell_type": "code",
      "source": [
        "print(tokenizer.decode(generation_output[0]))"
      ],
      "metadata": {
        "colab": {
          "base_uri": "https://localhost:8080/"
        },
        "id": "ukhE3hKT_m4W",
        "outputId": "83f1fe68-5725-4e0a-c8dc-890b13c39d5c"
      },
      "execution_count": 75,
      "outputs": [
        {
          "output_type": "stream",
          "name": "stdout",
          "text": [
            "<s>Q: What is the largest animal?\n",
            "A: The largest animal is the giraffe. It can grow up to 18.2 feet tall.\n",
            "Q: What is the smallest animal?\n",
            "A: The smallest animal is the dandelion. It can grow to be up to 1 inch tall.\n",
            "Q: What is the tallest animal?\n",
            "A: The tallest animal is the giraffe. It can grow up to 18.2 feet tall!\n",
            "Q: What is the shortest animal?\n",
            "A: The shortest animal is the dandelion. It can grow to be up to 1 inch tall!\n",
            "Q: What is the largest bird?\n",
            "A: The largest bird is the ostrich. It can grow up to 7 feet tall!\n",
            "Q: What is the smallest bird?\n",
            "A: The smallest bird is the hummingbird. It can grow as small as 2 inches tall!\n",
            "Q: What is the longest bird?\n",
            "A: The longest bird is the emu. It can grow up to 7 feet tall!\n",
            "Q: What is the smallest bird?\n",
            "A: The smallest bird is the hummingbird. It can grow as small as 2 inches tall!\n",
            "Q: What is the longest bird?\n",
            "A: The longest bird is the emu. It can grow up to 7 feet tall!\n",
            "Q: What is the largest land mammal?\n",
            "A: The largest land mammal is the giraffe. It can grow up to 18.2 feet tall!\n",
            "Q: What is the smallest land mammal?\n",
            "A: The smallest land mammal is the dandelion. It can grow to be up to 1 inch tall!\n",
            "Q: What is the largest marine mammal?\n",
            "A: The largest marine mammal is the dolphin. It can grow up to 13 feet tall!\n",
            "Q: What is the smallest marine mammal?\n",
            "A: The smallest marine mammal is the dolphin. It can grow as small as 5 inches tall!\n",
            "Q: What is the largest land mammal?\n",
            "A: The largest land mammal is the giraffe. It can grow up to 18.2 feet tall!\n",
            "Q: What is the smallest land mammal?\n",
            "A: The smallest land mammal is the dandelion. It can grow to be up to 1 inch tall!\n",
            "Q: What is the largest animal?\n"
          ]
        }
      ]
    },
    {
      "cell_type": "code",
      "source": [
        "prompt = 'Q: What is Canada?\\nA:'\n",
        "\n",
        "input_ids = tokenizer(prompt, return_tensors=\"pt\").input_ids\n",
        "input_ids = input_ids.to('cuda')\n",
        "\n",
        "generation_output = model.generate(\n",
        "    input_ids=input_ids, max_new_tokens=512, do_sample=True, temperature=0.9,\n",
        ")"
      ],
      "metadata": {
        "id": "VfxuuDDwDqqx"
      },
      "execution_count": 78,
      "outputs": []
    },
    {
      "cell_type": "code",
      "source": [
        "print(tokenizer.decode(generation_output[0]))"
      ],
      "metadata": {
        "colab": {
          "base_uri": "https://localhost:8080/"
        },
        "id": "_mLl_lclD7vX",
        "outputId": "b6b654dc-7857-4a61-ac05-c81b4b663b13"
      },
      "execution_count": 79,
      "outputs": [
        {
          "output_type": "stream",
          "name": "stdout",
          "text": [
            "<s>Q: What is Canada?\n",
            "A: To Canadians, Canada is a nation. To Europeans, Canada is a country.. To us, Canada is our motherland.\n",
            "Q: Where is Toronto?\n",
            "A: It is the largest city of Canada. It is located in Ontario province.\n",
            "Q: How many provinces and territories are there in Canada?\n",
            "A: There are 13 provinces and 3 territories in Canada.\n",
            "Q: Who is the first woman prime minister of Canada?\n",
            "A: Edmund James W. Whitaker (1939–1983) led Liberal Party of Canada Party was first woman prime minister of Canada in 1963.\n",
            "Q: What is the longest bridge in the world?\n",
            "A: Golden Gate Bridge is the longest bridge in the world at 1.7 miles long with a span of 4,200 feet.\n",
            "Q: What is the largest building in the world?\n",
            "A: Burj Khalifa (The Building) is the tallest building in the world. It is located in Dubai\n",
            "Q: How much salt does Canada contain?\n",
            "A: It contains 244 million tonnes of salts.\n",
            "Q: How many universities and colleges are there in Canada?\n",
            "A: There are 84 universities and 55 colleges in Canada.\n",
            "Q: What is Canada’s smallest province?\n",
            "A: Saskatchewan is the smallest province in Canada\n",
            "Q: What is the total land area of Canada?\n",
            "A: It is 9,980,960 sq km.\n",
            "Q: Which country is Canada not a part?\n",
            "A: It is located in North America continent.\n",
            "Q: Who is the president of Canada?\n",
            "A: Justin Trudeau (born 17 July 1971) is the 24th Prime Minister of Canada.\n",
            "Q: Who is Canada’s first prime minister?\n",
            "A: Prime Minister of Canada was born 2 September 1785.\n",
            "Q: How many provinces and territories are there in Canada?\n",
            "A: One\n",
            "Q: When was Canada’s first election?\n",
            "A: It was held on 18 February 1867, four years after it was formed.\n",
            "Q: What is the highest mountain in Canada?\n",
            "A: Mount Logan, also known as Cascade Mountain, is the highest peak in the country at 20,\n"
          ]
        }
      ]
    }
  ]
}