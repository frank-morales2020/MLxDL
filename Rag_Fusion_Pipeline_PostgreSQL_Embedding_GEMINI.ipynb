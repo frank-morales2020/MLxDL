{
  "cells": [
    {
      "cell_type": "markdown",
      "metadata": {
        "id": "view-in-github",
        "colab_type": "text"
      },
      "source": [
        "<a href=\"https://colab.research.google.com/github/frank-morales2020/MLxDL/blob/main/Rag_Fusion_Pipeline_PostgreSQL_Embedding_GEMINI.ipynb\" target=\"_parent\"><img src=\"https://colab.research.google.com/assets/colab-badge.svg\" alt=\"Open In Colab\"/></a>"
      ]
    },
    {
      "cell_type": "markdown",
      "id": "41a58112-8a18-49ad-9c8c-2088778613d0",
      "metadata": {
        "id": "41a58112-8a18-49ad-9c8c-2088778613d0"
      },
      "source": [
        "# RAG Fusion Query Pipeline\n",
        "\n",
        "This notebook shows how to implement RAG Fusion using the LlamaIndex Query Pipeline syntax."
      ]
    },
    {
      "cell_type": "code",
      "source": [
        "!nvidia-smi"
      ],
      "metadata": {
        "colab": {
          "base_uri": "https://localhost:8080/"
        },
        "id": "Msk6h8ngCiqH",
        "outputId": "41274ebf-7c30-445b-87ec-52d5648eacbd"
      },
      "id": "Msk6h8ngCiqH",
      "execution_count": 1,
      "outputs": [
        {
          "output_type": "stream",
          "name": "stdout",
          "text": [
            "Fri May 10 18:28:18 2024       \n",
            "+---------------------------------------------------------------------------------------+\n",
            "| NVIDIA-SMI 535.104.05             Driver Version: 535.104.05   CUDA Version: 12.2     |\n",
            "|-----------------------------------------+----------------------+----------------------+\n",
            "| GPU  Name                 Persistence-M | Bus-Id        Disp.A | Volatile Uncorr. ECC |\n",
            "| Fan  Temp   Perf          Pwr:Usage/Cap |         Memory-Usage | GPU-Util  Compute M. |\n",
            "|                                         |                      |               MIG M. |\n",
            "|=========================================+======================+======================|\n",
            "|   0  Tesla T4                       Off | 00000000:00:04.0 Off |                    0 |\n",
            "| N/A   33C    P8               9W /  70W |      0MiB / 15360MiB |      0%      Default |\n",
            "|                                         |                      |                  N/A |\n",
            "+-----------------------------------------+----------------------+----------------------+\n",
            "                                                                                         \n",
            "+---------------------------------------------------------------------------------------+\n",
            "| Processes:                                                                            |\n",
            "|  GPU   GI   CI        PID   Type   Process name                            GPU Memory |\n",
            "|        ID   ID                                                             Usage      |\n",
            "|=======================================================================================|\n",
            "|  No running processes found                                                           |\n",
            "+---------------------------------------------------------------------------------------+\n"
          ]
        }
      ]
    },
    {
      "cell_type": "markdown",
      "source": [
        "Required Dependencies"
      ],
      "metadata": {
        "id": "x9dG5VRhwpHm"
      },
      "id": "x9dG5VRhwpHm"
    },
    {
      "cell_type": "code",
      "source": [
        "#added by Frank Morales(FM) 11/01/2024\n",
        "%pip install openai  --root-user-action=ignore -q\n",
        "!pip install llama_index phoenix pyvis network -q\n",
        "!pip install llama_hub -q\n",
        "%pip install colab-env --upgrade --quiet --root-user-action=ignore\n",
        "!pip install accelerate -q\n",
        "#!pip install typing_extensions\n",
        "\n",
        "!pip install langchain --quiet\n",
        "!pip install accelerate --quiet\n",
        "!pip install transformers --quiet\n",
        "!pip install bitsandbytes --quiet"
      ],
      "metadata": {
        "id": "XN4HEh7jwixA"
      },
      "id": "XN4HEh7jwixA",
      "execution_count": null,
      "outputs": []
    },
    {
      "cell_type": "markdown",
      "id": "8c5bdbf5-d525-42e2-ab4a-19234c023491",
      "metadata": {
        "id": "8c5bdbf5-d525-42e2-ab4a-19234c023491"
      },
      "source": [
        "## Setup / Load Data\n",
        "\n",
        "We load in the pg_essay.txt data."
      ]
    },
    {
      "cell_type": "code",
      "execution_count": null,
      "id": "20b91e78-d733-44dd-b9a2-7c6eab3aee3d",
      "metadata": {
        "id": "20b91e78-d733-44dd-b9a2-7c6eab3aee3d"
      },
      "outputs": [],
      "source": [
        "import colab_env\n",
        "import openai\n",
        "import os\n",
        "openai.api_key = os.getenv(\"OPENAI_API_KEY\")\n",
        "!wget \"https://www.dropbox.com/s/f6bmb19xdg0xedm/paul_graham_essay.txt?dl=1\" -O pg_essay.txt"
      ]
    },
    {
      "cell_type": "code",
      "source": [
        "!ls -ltha /content/pg_essay.txt"
      ],
      "metadata": {
        "colab": {
          "base_uri": "https://localhost:8080/"
        },
        "id": "vNsZp8vDJwQH",
        "outputId": "9146ad02-a04d-4fbb-c9ac-fcfb8ca423fb"
      },
      "id": "vNsZp8vDJwQH",
      "execution_count": 4,
      "outputs": [
        {
          "output_type": "stream",
          "name": "stdout",
          "text": [
            "-rw-r--r-- 1 root root 74K May 10 18:35 /content/pg_essay.txt\n"
          ]
        }
      ]
    },
    {
      "cell_type": "markdown",
      "source": [
        "POSTGRESQL"
      ],
      "metadata": {
        "id": "jvWymWCOIdbI"
      },
      "id": "jvWymWCOIdbI"
    },
    {
      "cell_type": "code",
      "source": [
        "#ADDED By FM 11/01/2024\n",
        "\n",
        "# install PSQL WITH DEV Libraries AND PGVECTOR\n",
        "!apt install postgresql postgresql-contrib &>log\n",
        "!service postgresql restart\n",
        "!sudo apt install postgresql-server-dev-all"
      ],
      "metadata": {
        "id": "8DA67X3Zw_OW"
      },
      "id": "8DA67X3Zw_OW",
      "execution_count": null,
      "outputs": []
    },
    {
      "cell_type": "code",
      "source": [
        "print()\n",
        "# PostGRES SQL Settings\n",
        "%cd /content/\n",
        "!sudo -u postgres psql -c \"ALTER USER postgres PASSWORD 'postgres'\"\n",
        "\n",
        "print('START: PG embedding COMPILATION')\n",
        "%cd /content/\n",
        "!git clone https://github.com/neondatabase/pg_embedding.git\n",
        "%cd /content/pg_embedding\n",
        "!make\n",
        "!make install # may need sudo\n",
        "print('END: PG embedding COMPILATION')\n",
        "print()\n",
        "\n",
        "#!sudo -u postgres psql -c \"DROP EXTENSION embedding\"\n",
        "!sudo -u postgres psql -c \"CREATE EXTENSION embedding\"\n",
        "!sudo -u postgres psql -c \"DROP TABLE documents\"\n",
        "!sudo -u postgres psql -c \"CREATE TABLE documents(id integer PRIMARY KEY, embedding real[])\""
      ],
      "metadata": {
        "id": "KLp1-7HZOkTW"
      },
      "id": "KLp1-7HZOkTW",
      "execution_count": null,
      "outputs": []
    },
    {
      "cell_type": "code",
      "execution_count": 7,
      "id": "1785ffb1-5fc2-4855-854a-238003ff848b",
      "metadata": {
        "id": "1785ffb1-5fc2-4855-854a-238003ff848b"
      },
      "outputs": [],
      "source": [
        "#%pip install openai --root-user-action=ignore\n",
        "\n",
        "openai.api_key = os.getenv(\"OPENAI_API_KEY\")\n",
        "#print(os.getenv(\"OPENAI_API_KEY\"))\n",
        "\n",
        "from llama_index.core import SimpleDirectoryReader\n",
        "reader = SimpleDirectoryReader(input_files=[\"/content/pg_essay.txt\"])\n",
        "docs = reader.load_data()"
      ]
    },
    {
      "cell_type": "code",
      "source": [
        "#ADDED By FM 11/01/2024\n",
        "\n",
        "from typing import List, Tuple\n",
        "from langchain.docstore.document import Document\n",
        "from langchain.document_loaders import TextLoader\n",
        "from langchain.embeddings.openai import OpenAIEmbeddings\n",
        "from langchain.text_splitter import CharacterTextSplitter\n",
        "from langchain.vectorstores import PGEmbedding\n",
        "\n",
        "loader = TextLoader(\"/content/pg_essay.txt\")\n",
        "documents = loader.load()\n",
        "text_splitter = CharacterTextSplitter(chunk_size=1000, chunk_overlap=0)\n",
        "docs0 = text_splitter.split_documents(documents)\n",
        "\n",
        "collection_name0 = \"pg_essay\"\n",
        "print(f'# of Document Pages {len(documents)}')\n",
        "print(f'# of Document Chunks: {len(docs0)}')"
      ],
      "metadata": {
        "id": "hyLRNSCwS91R",
        "colab": {
          "base_uri": "https://localhost:8080/"
        },
        "outputId": "0cbe662e-7b14-4b71-ef2a-54e8812443ee"
      },
      "id": "hyLRNSCwS91R",
      "execution_count": 8,
      "outputs": [
        {
          "output_type": "stream",
          "name": "stderr",
          "text": [
            "WARNING:langchain_text_splitters.base:Created a chunk of size 1004, which is longer than the specified 1000\n",
            "WARNING:langchain_text_splitters.base:Created a chunk of size 1203, which is longer than the specified 1000\n",
            "WARNING:langchain_text_splitters.base:Created a chunk of size 1025, which is longer than the specified 1000\n"
          ]
        },
        {
          "output_type": "stream",
          "name": "stdout",
          "text": [
            "# of Document Pages 1\n",
            "# of Document Chunks: 100\n"
          ]
        }
      ]
    },
    {
      "cell_type": "markdown",
      "id": "a7c9299c-06d6-4710-afb0-3cc13761f358",
      "metadata": {
        "id": "a7c9299c-06d6-4710-afb0-3cc13761f358"
      },
      "source": [
        "## Setup Llama Pack\n",
        "\n"
      ]
    },
    {
      "cell_type": "code",
      "source": [
        "#!pip install llama_index\n",
        "import llama_index\n",
        "print('LLAMA INDEX VERSION: %s'%llama_index.core.__version__)\n",
        "#llama_index.core.\n",
        "from llama_index.core.query_pipeline import QueryPipeline\n",
        "import llama_index.core.query_pipeline as query_pipeline\n",
        "#llama_index.core"
      ],
      "metadata": {
        "colab": {
          "base_uri": "https://localhost:8080/"
        },
        "id": "5BwhQtzrcr8G",
        "outputId": "a9e3ddbd-9dcf-4600-d3f3-2796ba4d8345"
      },
      "id": "5BwhQtzrcr8G",
      "execution_count": 9,
      "outputs": [
        {
          "output_type": "stream",
          "name": "stdout",
          "text": [
            "LLAMA INDEX VERSION: 0.10.36\n"
          ]
        }
      ]
    },
    {
      "cell_type": "code",
      "source": [
        "from llama_index.llms.openai import OpenAI\n",
        "from llama_index.embeddings.openai import OpenAIEmbedding\n",
        "from llama_index.core import Settings"
      ],
      "metadata": {
        "id": "8YnIGqpvj04L"
      },
      "id": "8YnIGqpvj04L",
      "execution_count": 10,
      "outputs": []
    },
    {
      "cell_type": "code",
      "source": [
        "from llama_index.core.query_pipeline import QueryPipeline\n",
        "from llama_index.core import PromptTemplate\n",
        "\n",
        "# try chaining basic prompts\n",
        "prompt_str = \"Please generate related movies to {movie_name}\"\n",
        "prompt_tmpl = PromptTemplate(prompt_str)\n",
        "llm = OpenAI(model=\"gpt-3.5-turbo\")\n",
        "\n",
        "p = QueryPipeline(chain=[prompt_tmpl, llm], verbose=True)"
      ],
      "metadata": {
        "id": "4WMXSfoUjpBV"
      },
      "id": "4WMXSfoUjpBV",
      "execution_count": 11,
      "outputs": []
    },
    {
      "cell_type": "code",
      "source": [
        "output = p.run(movie_name=\"The Departed\")"
      ],
      "metadata": {
        "colab": {
          "base_uri": "https://localhost:8080/"
        },
        "id": "aFVka_T6j9lg",
        "outputId": "87283062-a369-4a69-d464-df9280259143"
      },
      "id": "aFVka_T6j9lg",
      "execution_count": 12,
      "outputs": [
        {
          "output_type": "stream",
          "name": "stdout",
          "text": [
            "\u001b[1;3;38;2;155;135;227m> Running module 422ed57c-b8b4-4cba-9c97-0e291532f9c7 with input: \n",
            "movie_name: The Departed\n",
            "\n",
            "\u001b[0m\u001b[1;3;38;2;155;135;227m> Running module 7ca16bc9-c60f-4a55-bf45-02608a80ee8b with input: \n",
            "messages: Please generate related movies to The Departed\n",
            "\n",
            "\u001b[0m"
          ]
        }
      ]
    },
    {
      "cell_type": "code",
      "source": [
        "print(str(output))"
      ],
      "metadata": {
        "colab": {
          "base_uri": "https://localhost:8080/"
        },
        "id": "QPQFSofykHAE",
        "outputId": "9242c45e-4c9f-4572-ea10-9ab789b5979f"
      },
      "id": "QPQFSofykHAE",
      "execution_count": 13,
      "outputs": [
        {
          "output_type": "stream",
          "name": "stdout",
          "text": [
            "assistant: 1. Infernal Affairs (2002) - The original Hong Kong film that inspired The Departed\n",
            "2. The Town (2010) - A crime thriller directed by Ben Affleck\n",
            "3. Mystic River (2003) - A drama directed by Clint Eastwood\n",
            "4. Goodfellas (1990) - A classic crime film directed by Martin Scorsese\n",
            "5. The Irishman (2019) - Another crime drama directed by Martin Scorsese\n",
            "6. Heat (1995) - A crime thriller directed by Michael Mann\n",
            "7. The Godfather (1972) - A classic crime film directed by Francis Ford Coppola\n",
            "8. Casino (1995) - A crime drama directed by Martin Scorsese\n",
            "9. American Gangster (2007) - A crime film directed by Ridley Scott\n",
            "10. The Departed (2006) - A crime thriller directed by Martin Scorsese\n"
          ]
        }
      ]
    },
    {
      "cell_type": "code",
      "execution_count": 14,
      "id": "f5143a5f-7cd3-4aac-99e7-a357f3239f03",
      "metadata": {
        "id": "f5143a5f-7cd3-4aac-99e7-a357f3239f03"
      },
      "outputs": [],
      "source": [
        "# Option 1: Use `download_llama_pack`\n",
        "# from llama_index.llama_pack import download_llama_pack\n",
        "\n",
        "# RAGFusionPipelinePack = download_llama_pack(\n",
        "#     \"RAGFusionPipelinePack\",\n",
        "#     \"./rag_fusion_pipeline_pack\",\n",
        "#     # leave the below line commented out if using the notebook on main\n",
        "#     # llama_hub_url=\"https://raw.githubusercontent.com/run-llama/llama-hub/jerry/add_query_pipeline_pack/llama_hub\"\n",
        "# )\n",
        "\n",
        "# Option 2: Import from llama_hub package\n",
        "#RAGFusionPipelinePack                                           RAGFusionPipelinePack\n",
        "#from llama_hub.llama_packs.query.rag_fusion_pipeline.base import RAGFusionPipelinePack\n",
        "#from llama_index.llms import OpenAI"
      ]
    },
    {
      "cell_type": "markdown",
      "source": [
        "# GEMINI - MODEL"
      ],
      "metadata": {
        "id": "7po6Df3JxHU2"
      },
      "id": "7po6Df3JxHU2"
    },
    {
      "cell_type": "code",
      "source": [
        "# Used to securely store your API key\n",
        "from google.colab import userdata\n",
        "\n",
        "import pathlib\n",
        "import textwrap\n",
        "\n",
        "import google.generativeai as genai\n",
        "\n",
        "from IPython.display import display\n",
        "from IPython.display import Markdown\n",
        "\n",
        "\n",
        "def to_markdown(text):\n",
        "  text = text.replace('•', '  *')\n",
        "  return Markdown(textwrap.indent(text, '> ', predicate=lambda _: True))"
      ],
      "metadata": {
        "id": "gQqVeFF8xOSY"
      },
      "id": "gQqVeFF8xOSY",
      "execution_count": 15,
      "outputs": []
    },
    {
      "cell_type": "code",
      "source": [
        "# Or use `os.getenv('GOOGLE_API_KEY')` to fetch an environment variable.\n",
        "GOOGLE_API_KEY=userdata.get('GEMINI')\n",
        "genai.configure(api_key=GOOGLE_API_KEY)"
      ],
      "metadata": {
        "id": "mqP75uRfxeTc"
      },
      "id": "mqP75uRfxeTc",
      "execution_count": 16,
      "outputs": []
    },
    {
      "cell_type": "code",
      "source": [
        "for m in genai.list_models():\n",
        "  if 'generateContent' in m.supported_generation_methods:\n",
        "    print(m.name)"
      ],
      "metadata": {
        "colab": {
          "base_uri": "https://localhost:8080/",
          "height": 139
        },
        "id": "_V45zT5fxiXh",
        "outputId": "9eaecfba-a861-4cbd-c487-9e800b82d07b"
      },
      "id": "_V45zT5fxiXh",
      "execution_count": 17,
      "outputs": [
        {
          "output_type": "stream",
          "name": "stdout",
          "text": [
            "models/gemini-1.0-pro\n",
            "models/gemini-1.0-pro-001\n",
            "models/gemini-1.0-pro-latest\n",
            "models/gemini-1.0-pro-vision-latest\n",
            "models/gemini-1.5-pro-latest\n",
            "models/gemini-pro\n",
            "models/gemini-pro-vision\n"
          ]
        }
      ]
    },
    {
      "cell_type": "code",
      "source": [
        "model = genai.GenerativeModel('gemini-pro')"
      ],
      "metadata": {
        "id": "jnxENawmMJ_O"
      },
      "id": "jnxENawmMJ_O",
      "execution_count": 18,
      "outputs": []
    },
    {
      "cell_type": "code",
      "source": [
        "model.count_tokens(\"What is the meaning of life?\")"
      ],
      "metadata": {
        "colab": {
          "base_uri": "https://localhost:8080/",
          "height": 34
        },
        "id": "oba6lBpIxqGZ",
        "outputId": "d6706ab3-a141-41fb-9218-3dc56f0168e0"
      },
      "id": "oba6lBpIxqGZ",
      "execution_count": 19,
      "outputs": [
        {
          "output_type": "execute_result",
          "data": {
            "text/plain": [
              "total_tokens: 7"
            ]
          },
          "metadata": {},
          "execution_count": 19
        }
      ]
    },
    {
      "cell_type": "code",
      "source": [
        "chat = model.start_chat(history=[])\n",
        "\n",
        "response = chat.send_message(\"Okay, how about a more detailed explanation to a high schooler?\", stream=True)\n",
        "\n",
        "for chunk in response:\n",
        "  print(chunk.text)\n",
        "  print(\"_\"*80)"
      ],
      "metadata": {
        "colab": {
          "base_uri": "https://localhost:8080/",
          "height": 957
        },
        "id": "MsKRGo93xzFT",
        "outputId": "4cae5acf-3c57-40c1-eede-41ca150e49d3"
      },
      "id": "MsKRGo93xzFT",
      "execution_count": 20,
      "outputs": [
        {
          "output_type": "stream",
          "name": "stdout",
          "text": [
            "**What is Climate Change?**\n",
            "\n",
            "Climate change refers to the long-term\n",
            "________________________________________________________________________________\n",
            " changes in Earth's climate system, including temperature, precipitation, wind patterns, and ocean conditions. These changes occur over decades to thousands of years and are influenced\n",
            "________________________________________________________________________________\n",
            " by natural and human activities.\n",
            "\n",
            "**How Does Climate Change Occur?**\n",
            "\n",
            "* **Natural Processes:** Earth's climate naturally varies over time due to factors like changes in the sun's energy output, volcanic eruptions, and ocean cycles.\n",
            "\n",
            "* **Human Activities:** Over the past century, human activities have significantly\n",
            "________________________________________________________________________________\n",
            " contributed to climate change. The burning of fossil fuels, such as coal, oil, and gas, releases greenhouse gases into the atmosphere.\n",
            "\n",
            "**Greenhouse Effect and Greenhouse Gases**\n",
            "\n",
            "Greenhouse gases (e.g., carbon dioxide, methane) trap heat in the atmosphere, much like a greenhouse traps heat for plants. As greenhouse gas concentrations increase, more heat is trapped, leading to a rise in the Earth's temperature.\n",
            "\n",
            "**Impacts of Climate Change**\n",
            "\n",
            "Climate change has various impacts, including:\n",
            "\n",
            "* Rising sea levels due to melting glaciers and thermal expansion of ocean water\n",
            "* More frequent and intense extreme weather events, such as\n",
            "________________________________________________________________________________\n",
            " heat waves, droughts, floods, and hurricanes\n",
            "* Changes in plant and animal distributions and behavior\n",
            "* Impacts on human health, agriculture, and water resources\n",
            "\n",
            "**What Causes Human-Induced Climate Change?**\n",
            "\n",
            "Primarily, the burning of fossil fuels. When we burn coal, oil, and gas, we release large amounts of carbon dioxide into the atmosphere. Carbon dioxide is a greenhouse gas that traps heat. As a result, the Earth's average temperature rises.\n",
            "\n",
            "**Natural Causes vs. Human Causes of Climate Change**\n",
            "\n",
            "While Earth's climate has always changed naturally, the current rate of change is almost entirely due to human activities. Scientific evidence shows that:\n",
            "\n",
            "* The Earth's temperature is increasing at an unprecedented rate compared to the past 10,000 years.\n",
            "* The main cause of this warming is the release of greenhouse gases into the atmosphere by human activities.\n",
            "\n",
            "**Consequences of Climate Change**\n",
            "\n",
            "If we don't act to reduce greenhouse gas emissions, climate change will continue to have serious consequences for our planet:\n",
            "\n",
            "* Rising sea levels will threaten coastal communities and infrastructure.\n",
            "* More frequent and severe extreme weather events will cause widespread damage and loss of life.\n",
            "* Changes in precipitation patterns will affect agriculture and water\n",
            "________________________________________________________________________________\n",
            " resources.\n",
            "* The health of ecosystems will be compromised, leading to the loss of biodiversity.\n",
            "________________________________________________________________________________\n"
          ]
        }
      ]
    },
    {
      "cell_type": "code",
      "source": [
        "query = \"I bought a computer for $900, sold it for $1200, repurchased it for $1300, and sold it again for $1600. how much did I earn? Take in consideration the money for the repurchased too.\""
      ],
      "metadata": {
        "id": "SV25Gbv8yBbl"
      },
      "id": "SV25Gbv8yBbl",
      "execution_count": 63,
      "outputs": []
    },
    {
      "cell_type": "code",
      "source": [
        "model = genai.GenerativeModel('gemini-pro')\n",
        "#model = genai.GenerativeModel('gemini-1.5-pro-latest')\n",
        "\n",
        "response = model.generate_content(\n",
        "    query,\n",
        "    generation_config=genai.types.GenerationConfig(\n",
        "        # Only one candidate for now.\n",
        "        candidate_count=1,\n",
        "        stop_sequences=['x'],\n",
        "        max_output_tokens=256, # >=40\n",
        "        temperature=0.8)\n",
        ")"
      ],
      "metadata": {
        "id": "7GrmqCNwyDFU"
      },
      "id": "7GrmqCNwyDFU",
      "execution_count": 99,
      "outputs": []
    },
    {
      "cell_type": "code",
      "source": [
        "text = response.text\n",
        "#text = ''\n",
        "\n",
        "if response.candidates[0].finish_reason.name == \"MAX_TOKENS\":\n",
        "    text += '...'\n",
        "\n",
        "to_markdown(text)"
      ],
      "metadata": {
        "colab": {
          "base_uri": "https://localhost:8080/",
          "height": 184
        },
        "id": "RjH-LKipyHmz",
        "outputId": "1f6d6abd-dfa9-4792-d073-846d60773b5f"
      },
      "id": "RjH-LKipyHmz",
      "execution_count": 100,
      "outputs": [
        {
          "output_type": "execute_result",
          "data": {
            "text/plain": [
              "<IPython.core.display.Markdown object>"
            ],
            "text/markdown": "> **Earnings from the first sale:**\n> \n> $1200 (selling price) - $900 (purchase price) = $300\n> \n> **Loss from the repurchase:**\n> \n> $1300 (repurchase price) - $1200 (selling price) = $100\n> \n> **Earnings from the second sale:**\n> \n> $1600 (selling price) - $1300 (repurchase price) = $300\n> \n> **Net earnings:**\n> \n> $300 (first sale earnings) + $300 (second sale earnings) - $100 (repurchase loss) = **$500**"
          },
          "metadata": {},
          "execution_count": 100
        }
      ]
    },
    {
      "cell_type": "markdown",
      "source": [
        "https://www.llamaindex.ai/blog/llamaindex-gemini-8d7c3b9ea97e\n",
        "\n",
        "https://docs.llamaindex.ai/en/stable/examples/llm/gemini/\n",
        "\n",
        "https://ai.google.dev/gemini-api/docs/quickstart"
      ],
      "metadata": {
        "id": "GnzEZR-q2gMv"
      },
      "id": "GnzEZR-q2gMv"
    },
    {
      "cell_type": "code",
      "source": [
        "%pip install llama-index-llms-gemini -q"
      ],
      "metadata": {
        "id": "699fhj8r7B4J"
      },
      "id": "699fhj8r7B4J",
      "execution_count": null,
      "outputs": []
    },
    {
      "cell_type": "code",
      "source": [
        "import os\n",
        "import google.generativeai as genai\n",
        "\n",
        "\n",
        "GOOGLE_API_KEY=userdata.get('GEMINI')\n",
        "genai.configure(api_key=GOOGLE_API_KEY)\n",
        "\n",
        "model = genai.GenerativeModel('gemini-pro')\n",
        "\n",
        "query = \"I bought an ice cream for 6 kids. Each cone was $1.25 and I paid with a $10 bill. How many dollars did I get back? Explain first before answering.\"\n",
        "response = model.generate_content(query)"
      ],
      "metadata": {
        "id": "f3pnCj3a-yb_"
      },
      "id": "f3pnCj3a-yb_",
      "execution_count": 25,
      "outputs": []
    },
    {
      "cell_type": "code",
      "source": [
        "print(response.candidates[0].content.parts[0].text)"
      ],
      "metadata": {
        "colab": {
          "base_uri": "https://localhost:8080/"
        },
        "id": "kT2B1wd7FtRQ",
        "outputId": "608477b4-1dce-4e90-8e77-9a26c10aa0f1"
      },
      "id": "kT2B1wd7FtRQ",
      "execution_count": 26,
      "outputs": [
        {
          "output_type": "stream",
          "name": "stdout",
          "text": [
            "**Explanation:**\n",
            "\n",
            "To calculate the total cost of the ice creams, we multiply the cost of one cone by the number of cones: 6 cones × $1.25 per cone = $7.50.\n",
            "\n",
            "Next, we subtract the total cost from the amount paid to find the change: $10.00 - $7.50 = $2.50.\n",
            "\n",
            "**Answer:**\n",
            "\n",
            "**$2.50**\n"
          ]
        }
      ]
    },
    {
      "cell_type": "code",
      "source": [
        "from llama_index.llms.gemini import Gemini\n",
        "\n",
        "llm = Gemini(model=\"models/gemini-pro\",api_key=GOOGLE_API_KEY)"
      ],
      "metadata": {
        "id": "mSSjUc7x7nIv"
      },
      "id": "mSSjUc7x7nIv",
      "execution_count": 27,
      "outputs": []
    },
    {
      "cell_type": "code",
      "source": [
        "query = \"I bought a computer for $900, sold it for $1200, repurchased it for $1300, and sold it again for $1600. how much did I earn? Take in consideration the money for the repurchased too.\"\n",
        "resp = llm.complete(query)\n",
        "print(resp)"
      ],
      "metadata": {
        "colab": {
          "base_uri": "https://localhost:8080/",
          "height": 139
        },
        "id": "l5d11VH5-HZb",
        "outputId": "92260380-9ced-4388-9a26-fffd7b008a90"
      },
      "id": "l5d11VH5-HZb",
      "execution_count": 28,
      "outputs": [
        {
          "output_type": "stream",
          "name": "stdout",
          "text": [
            "**Earnings from first sale:** $1200 - $900 = $300\n",
            "\n",
            "**Loss from repurchase:** $1300 - $1200 = -$100\n",
            "\n",
            "**Earnings from second sale:** $1600 - $1300 = $300\n",
            "\n",
            "**Total earnings:** $300 + $300 - $100 = **$500**\n"
          ]
        }
      ]
    },
    {
      "cell_type": "markdown",
      "source": [
        "# EMBEDDING"
      ],
      "metadata": {
        "id": "Xgo5C7hzbWCY"
      },
      "id": "Xgo5C7hzbWCY"
    },
    {
      "cell_type": "code",
      "source": [
        "# 20x faster than pgvector: introducing pg_embedding extension for vector search in Postgres and LangChain\n",
        "# https://neon.tech/blog/pg-embedding-extension-for-vector-search\n",
        "\n",
        "#ADDED By FM 11/01/2024\n",
        "from langchain.embeddings.openai import OpenAIEmbeddings\n",
        "from langchain.text_splitter import CharacterTextSplitter\n",
        "from langchain.vectorstores import PGEmbedding\n",
        "\n",
        "embeddings = OpenAIEmbeddings(model='text-embedding-ada-002')\n",
        "\n",
        "collection_name='Paul Graham Essay'\n",
        "connection_string = os.getenv(\"DATABASE_URL\")\n",
        "\n",
        "db = PGEmbedding.from_documents(\n",
        "    embedding=embeddings,\n",
        "    documents=docs0,\n",
        "    collection_name=collection_name,\n",
        "    connection_string=connection_string,\n",
        ")"
      ],
      "metadata": {
        "id": "SHrXuMUXGAMW"
      },
      "id": "SHrXuMUXGAMW",
      "execution_count": null,
      "outputs": []
    },
    {
      "cell_type": "code",
      "source": [
        "#ADDED By FM 11/01/2024\n",
        "query='What did the author do growing up?'\n",
        "docs_with_score: List[Tuple[Document, float]] = db.similarity_search_with_score(query)\n",
        "\n",
        "print()\n",
        "print(query)\n",
        "print()\n",
        "\n",
        "for doc, score in docs_with_score:\n",
        "    print(\"-\" * 80)\n",
        "    print(\"Score: \", score)\n",
        "    print(doc.page_content)\n",
        "    print(\"-\" * 80)"
      ],
      "metadata": {
        "id": "A4RiRP1jOGVs",
        "colab": {
          "base_uri": "https://localhost:8080/"
        },
        "outputId": "ea14a9be-d331-4589-ea30-6c57c0f41392"
      },
      "id": "A4RiRP1jOGVs",
      "execution_count": 30,
      "outputs": [
        {
          "output_type": "stream",
          "name": "stdout",
          "text": [
            "\n",
            "What did the author do growing up?\n",
            "\n",
            "--------------------------------------------------------------------------------\n",
            "Score:  0.59923565\n",
            "What I Worked On\n",
            "\n",
            "February 2021\n",
            "\n",
            "Before college the two main things I worked on, outside of school, were writing and programming. I didn't write essays. I wrote what beginning writers were supposed to write then, and probably still are: short stories. My stories were awful. They had hardly any plot, just characters with strong feelings, which I imagined made them deep.\n",
            "\n",
            "The first programs I tried writing were on the IBM 1401 that our school district used for what was then called \"data processing.\" This was in 9th grade, so I was 13 or 14. The school district's 1401 happened to be in the basement of our junior high school, and my friend Rich Draves and I got permission to use it. It was like a mini Bond villain's lair down there, with all these alien-looking machines — CPU, disk drives, printer, card reader — sitting up on a raised floor under bright fluorescent lights.\n",
            "--------------------------------------------------------------------------------\n",
            "--------------------------------------------------------------------------------\n",
            "Score:  0.60235506\n",
            "Working on Bel was hard but satisfying. I worked on it so intensively that at any given time I had a decent chunk of the code in my head and could write more there. I remember taking the boys to the coast on a sunny day in 2015 and figuring out how to deal with some problem involving continuations while I watched them play in the tide pools. It felt like I was doing life right. I remember that because I was slightly dismayed at how novel it felt. The good news is that I had more moments like this over the next few years.\n",
            "\n",
            "In the summer of 2016 we moved to England. We wanted our kids to see what it was like living in another country, and since I was a British citizen by birth, that seemed the obvious choice. We only meant to stay for a year, but we liked it so much that we still live there. So most of Bel was written in England.\n",
            "--------------------------------------------------------------------------------\n",
            "--------------------------------------------------------------------------------\n",
            "Score:  0.6048255\n",
            "Over the next several years I wrote lots of essays about all kinds of different topics. O'Reilly reprinted a collection of them as a book, called Hackers & Painters after one of the essays in it. I also worked on spam filters, and did some more painting. I used to have dinners for a group of friends every thursday night, which taught me how to cook for groups. And I bought another building in Cambridge, a former candy factory (and later, twas said, porn studio), to use as an office.\n",
            "\n",
            "One night in October 2003 there was a big party at my house. It was a clever idea of my friend Maria Daniels, who was one of the thursday diners. Three separate hosts would all invite their friends to one party. So for every guest, two thirds of the other guests would be people they didn't know but would probably like. One of the guests was someone I didn't know but would turn out to like a lot: a woman called Jessica Livingston. A couple days later I asked her out.\n",
            "--------------------------------------------------------------------------------\n",
            "--------------------------------------------------------------------------------\n",
            "Score:  0.61528826\n",
            "In the print era, the channel for publishing essays had been vanishingly small. Except for a few officially anointed thinkers who went to the right parties in New York, the only people allowed to publish essays were specialists writing about their specialties. There were so many essays that had never been written, because there had been no way to publish them. Now they could be, and I was going to write them. [12]\n",
            "\n",
            "I've worked on several different things, but to the extent there was a turning point where I figured out what to work on, it was when I started publishing essays online. From then on I knew that whatever else I did, I'd always write essays too.\n",
            "\n",
            "I knew that online essays would be a marginal medium at first. Socially they'd seem more like rants posted by nutjobs on their GeoCities sites than the genteel and beautifully typeset compositions published in The New Yorker. But by this point I knew enough to find that encouraging instead of discouraging.\n",
            "--------------------------------------------------------------------------------\n"
          ]
        }
      ]
    },
    {
      "cell_type": "markdown",
      "source": [
        "# RAG FUSION PIPELINE"
      ],
      "metadata": {
        "id": "bzeoJMRNbzXg"
      },
      "id": "bzeoJMRNbzXg"
    },
    {
      "cell_type": "code",
      "source": [
        "\"\"\"RAG Fusion Pipeline.\"\"\"\n",
        "\n",
        "from typing import Any, Dict, List, Optional\n",
        "\n",
        "from llama_index.core import Document, ServiceContext, VectorStoreIndex\n",
        "from llama_index.core.llama_pack.base import BaseLlamaPack\n",
        "from llama_index.core.llms.llm import LLM\n",
        "from llama_index.core.node_parser import SentenceSplitter\n",
        "from llama_index.core.query_pipeline.components.argpacks import ArgPackComponent\n",
        "from llama_index.core.query_pipeline.components.function import FnComponent\n",
        "from llama_index.core.query_pipeline.components.input import InputComponent\n",
        "from llama_index.core.query_pipeline.query import QueryPipeline\n",
        "from llama_index.core.response_synthesizers import TreeSummarize\n",
        "from llama_index.core.schema import NodeWithScore\n",
        "from llama_index.llms.openai import OpenAI\n",
        "\n",
        "DEFAULT_CHUNK_SIZES = [128, 256, 512, 1024]\n",
        "\n",
        "\n",
        "def reciprocal_rank_fusion(\n",
        "    results: List[List[NodeWithScore]],\n",
        ") -> List[NodeWithScore]:\n",
        "    \"\"\"Apply reciprocal rank fusion.\n",
        "\n",
        "    The original paper uses k=60 for best results:\n",
        "    https://plg.uwaterloo.ca/~gvcormac/cormacksigir09-rrf.pdf\n",
        "    \"\"\"\n",
        "    k = 60.0  # `k` is a parameter used to control the impact of outlier rankings.\n",
        "    fused_scores = {}\n",
        "    text_to_node = {}\n",
        "    rank=0\n",
        "\n",
        "#for rank, node_with_score in enumerate(\n",
        "#            sorted(nodes_with_scores, key=lambda x: x.score or 0.0, reverse=True)\n",
        "#        ):\n",
        "\n",
        "#above genertated this error AttributeError: 'tuple' object has no attribute 'score'\n",
        "\n",
        "\n",
        "     # compute reciprocal rank scores by Frank Morales 09/05/2024\n",
        "    for node_with_score in results:\n",
        "        rank+=1\n",
        "        if not isinstance(node_with_score, NodeWithScore):\n",
        "            raise TypeError(\"node_with_score must be a NodeWithScore object.\")\n",
        "        text = node_with_score.node.get_content()\n",
        "        text_to_node[text] = node_with_score\n",
        "        if text not in fused_scores:\n",
        "          fused_scores[text] = 0.0\n",
        "        fused_scores[text] += 1.0 / (rank + k)\n",
        "        #print(fused_scores) / (rank + k)\n",
        "\n",
        "    # sort results\n",
        "    reranked_results = dict(\n",
        "        sorted(fused_scores.items(), key=lambda x: x[1], reverse=True)\n",
        "    )\n",
        "\n",
        "    # adjust node scores\n",
        "    reranked_nodes: List[NodeWithScore] = []\n",
        "    for text, score in reranked_results.items():\n",
        "        reranked_nodes.append(text_to_node[text])\n",
        "        reranked_nodes[-1].score = score\n",
        "    #print(reranked_nodes)\n",
        "    return reranked_nodes\n",
        "\n",
        "\n",
        "class RAGFusionPipelinePack(BaseLlamaPack):\n",
        "    \"\"\"RAG Fusion pipeline.\n",
        "\n",
        "    Create a bunch of vector indexes of different chunk sizes.\n",
        "\n",
        "    \"\"\"\n",
        "\n",
        "    def __init__(\n",
        "        self,\n",
        "        documents: List[Document],\n",
        "        llm: Optional[LLM] = None,\n",
        "        chunk_sizes: Optional[List[int]] = None,\n",
        "    ) -> None:\n",
        "        \"\"\"Init params.\"\"\"\n",
        "        self.documents = documents\n",
        "        self.chunk_sizes = chunk_sizes or DEFAULT_CHUNK_SIZES\n",
        "\n",
        "        # construct index\n",
        "        self.llm = llm or OpenAI(model=\"gpt-3.5-turbo\")\n",
        "\n",
        "        self.query_engines = []\n",
        "        self.retrievers = {}\n",
        "        for chunk_size in self.chunk_sizes:\n",
        "            splitter = SentenceSplitter(chunk_size=chunk_size, chunk_overlap=0)\n",
        "            nodes = splitter.get_nodes_from_documents(documents)\n",
        "\n",
        "            service_context = ServiceContext.from_defaults(llm=self.llm)\n",
        "            vector_index = VectorStoreIndex(nodes, service_context=service_context)\n",
        "            self.query_engines.append(vector_index.as_query_engine())\n",
        "\n",
        "            self.retrievers[str(chunk_size)] = vector_index.as_retriever()\n",
        "\n",
        "        # define rerank component\n",
        "        rerank_component = FnComponent(fn=reciprocal_rank_fusion)\n",
        "\n",
        "        # construct query pipeline\n",
        "        p = QueryPipeline()\n",
        "        module_dict = {\n",
        "            **self.retrievers,\n",
        "            \"input\": InputComponent(),\n",
        "            \"summarizer\": TreeSummarize(),\n",
        "            # NOTE: Join args\n",
        "            \"join\": ArgPackComponent(),\n",
        "            \"reranker\": rerank_component,\n",
        "        }\n",
        "        p.add_modules(module_dict)\n",
        "        # add links from input to retriever (id'ed by chunk_size)\n",
        "        for chunk_size in self.chunk_sizes:\n",
        "            p.add_link(\"input\", str(chunk_size))\n",
        "            p.add_link(str(chunk_size), \"join\", dest_key=str(chunk_size))\n",
        "        p.add_link(\"join\", \"reranker\")\n",
        "        p.add_link(\"input\", \"summarizer\", dest_key=\"query_str\")\n",
        "        p.add_link(\"reranker\", \"summarizer\", dest_key=\"nodes\")\n",
        "\n",
        "        self.query_pipeline = p\n",
        "\n",
        "    def get_modules(self) -> Dict[str, Any]:\n",
        "        \"\"\"Get modules.\"\"\"\n",
        "        return {\n",
        "            \"llm\": self.llm,\n",
        "            \"retrievers\": self.retrievers,\n",
        "            \"query_engines\": self.query_engines,\n",
        "            \"query_pipeline\": self.query_pipeline,\n",
        "        }\n",
        "\n",
        "    def run(self, *args: Any, **kwargs: Any) -> Any:\n",
        "        \"\"\"Run the pipeline.\"\"\"\n",
        "        return self.query_pipeline.run(*args, **kwargs)\n"
      ],
      "metadata": {
        "id": "n5s85UdnxwAQ"
      },
      "id": "n5s85UdnxwAQ",
      "execution_count": 55,
      "outputs": []
    },
    {
      "cell_type": "code",
      "source": [
        "!pip install llama-index-llms-langchain -q"
      ],
      "metadata": {
        "id": "zM_10SExAhYb"
      },
      "id": "zM_10SExAhYb",
      "execution_count": 56,
      "outputs": []
    },
    {
      "cell_type": "code",
      "source": [
        "print('MODEL NAME: %s'%llm.model_name)"
      ],
      "metadata": {
        "colab": {
          "base_uri": "https://localhost:8080/"
        },
        "id": "VvthEJXdD1eE",
        "outputId": "cbc15e8d-728e-4cb7-c1af-37f93c48cc52"
      },
      "id": "VvthEJXdD1eE",
      "execution_count": 57,
      "outputs": [
        {
          "output_type": "stream",
          "name": "stdout",
          "text": [
            "MODEL NAME: models/gemini-pro\n"
          ]
        }
      ]
    },
    {
      "cell_type": "code",
      "source": [
        "#%cd /content/\n",
        "#from llama_index.core.llama_pack import download_llama_pack\n",
        "\n",
        "# download and install dependencies\n",
        "#RAGFusionPipelinePack = download_llama_pack(\n",
        "#    \"RAGFusionPipelinePack\", \"./rag_fusion_pipeline_pack\"\n",
        "#)"
      ],
      "metadata": {
        "id": "m0A5vaYwYoDC"
      },
      "id": "m0A5vaYwYoDC",
      "execution_count": 58,
      "outputs": []
    },
    {
      "cell_type": "code",
      "execution_count": null,
      "id": "1e4786b6-6add-4caf-9f9c-c2d8f455702a",
      "metadata": {
        "id": "1e4786b6-6add-4caf-9f9c-c2d8f455702a"
      },
      "outputs": [],
      "source": [
        "pack = RAGFusionPipelinePack(docs, llm)\n",
        "query0=\"What did the author do growing up?\"\n",
        "response0 = pack.run(query=query0)"
      ]
    },
    {
      "cell_type": "code",
      "source": [
        "print(response0)"
      ],
      "metadata": {
        "colab": {
          "base_uri": "https://localhost:8080/"
        },
        "id": "HR-FyKpy1Nuv",
        "outputId": "af95558d-890d-4399-e338-28a6e40cc633"
      },
      "id": "HR-FyKpy1Nuv",
      "execution_count": 60,
      "outputs": [
        {
          "output_type": "stream",
          "name": "stdout",
          "text": [
            "The author, growing up, worked on writing short stories and programming. They started programming on an IBM 1401 in 9th grade using an early version of Fortran. Later on, they got a TRS-80 computer and began writing simple games, a rocket prediction program, and a word processor. Initially planning to study philosophy in college, they eventually switched to AI due to their interest sparked by a novel and a PBS documentary featuring intelligent computers.\n"
          ]
        }
      ]
    },
    {
      "cell_type": "markdown",
      "source": [
        "# Examples of Queries"
      ],
      "metadata": {
        "id": "ZOkptc-Yx8U0"
      },
      "id": "ZOkptc-Yx8U0"
    },
    {
      "cell_type": "code",
      "execution_count": 61,
      "id": "065ef0c4-0c9e-4611-8de4-98b2a7fe3094",
      "metadata": {
        "id": "065ef0c4-0c9e-4611-8de4-98b2a7fe3094",
        "colab": {
          "base_uri": "https://localhost:8080/"
        },
        "outputId": "5e8be378-217a-4089-a9f7-b84449bc0eaf"
      },
      "outputs": [
        {
          "output_type": "stream",
          "name": "stdout",
          "text": [
            "\n",
            "What did the author do growing up?\n",
            "The author, growing up, worked on writing short stories and programming. They started writing short stories as a beginning writer and also began programming on an IBM 1401 in 9th grade using an early version of Fortran. Later on, they got a TRS-80 computer and wrote simple games, a rocket prediction program, and a word processor. Initially planning to study philosophy in college, they eventually switched to studying AI due to their interest sparked by a novel and a PBS documentary featuring intelligent computers.\n",
            "\n",
            "\n",
            "Who is the President of the USA?\n",
            "I cannot provide an answer to that question as it is not mentioned in the provided context information.\n",
            "\n",
            "\n",
            "Who is the best poet of CANADA?\n",
            "I cannot provide an answer to the query as the information provided does not mention any specific poet from Canada.\n",
            "\n",
            "\n",
            "Anything about LIPS\n",
            "LISP, a programming language, is discussed in the provided context. It is highlighted that LISP is interesting for its own sake and not just for its association with AI. The language was initially intended as a formal model of computation, different from the Turing machine. LISP's core is defined by writing an interpreter in itself, which gives it a unique power and elegance compared to other languages. John McCarthy's 1960 LISP interpreter was later translated into IBM 704 machine language by his grad student Steve Russell, leading LISP to become a programming language in the ordinary sense. McCarthy's original axiomatic approach to defining LISP had limitations due to the computing power available at the time. The context also mentions the development of a new Lisp called Bel, written in Arc, with a precisely defined goal that took several years to complete.\n",
            "\n"
          ]
        }
      ],
      "source": [
        "#modify By FM 11/01/2024\n",
        "\n",
        "#response = pack.run(query=\"What did the author do growing up?\")\n",
        "query0=\"What did the author do growing up?\"\n",
        "query='I bought an ice cream for 6 kids. Each cone was $1.25 and I paid with a $10 bill. How many dollars did I get back? Explain first before answering.'\n",
        "query1 = \"Who is the President of the USA?\"\n",
        "query2 = \"Who is the best poet of CANADA?\"\n",
        "#query2 = \"Who won the baseball World Series in 2023? and Who Lost\"\n",
        "query3 = 'Anything about FORTRAN'\n",
        "query4 = 'Anything about LIPS'\n",
        "query5 = 'Anything about Python'\n",
        "\n",
        "\n",
        "response0 = pack.run(query=query0)\n",
        "response1 = pack.run(query=query1)\n",
        "response2 = pack.run(query=query2)\n",
        "response4 = pack.run(query=query4)\n",
        "\n",
        "print()\n",
        "print(query0)\n",
        "print(str(response0))\n",
        "print()\n",
        "\n",
        "print()\n",
        "print(query1)\n",
        "print(str(response1))\n",
        "print()\n",
        "\n",
        "print()\n",
        "print(query2)\n",
        "print(str(response2))\n",
        "print()\n",
        "\n",
        "print()\n",
        "print(query4)\n",
        "print(str(response4))\n",
        "print()"
      ]
    }
  ],
  "metadata": {
    "kernelspec": {
      "display_name": "Python 3",
      "name": "python3"
    },
    "language_info": {
      "name": "python"
    },
    "colab": {
      "provenance": [],
      "gpuType": "T4",
      "include_colab_link": true
    },
    "accelerator": "GPU"
  },
  "nbformat": 4,
  "nbformat_minor": 5
}