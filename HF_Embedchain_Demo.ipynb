{
  "nbformat": 4,
  "nbformat_minor": 0,
  "metadata": {
    "colab": {
      "provenance": [],
      "include_colab_link": true
    },
    "kernelspec": {
      "name": "python3",
      "display_name": "Python 3"
    },
    "language_info": {
      "name": "python"
    }
  },
  "cells": [
    {
      "cell_type": "markdown",
      "metadata": {
        "id": "view-in-github",
        "colab_type": "text"
      },
      "source": [
        "<a href=\"https://colab.research.google.com/github/frank-morales2020/MLxDL/blob/main/HF_Embedchain_Demo.ipynb\" target=\"_parent\"><img src=\"https://colab.research.google.com/assets/colab-badge.svg\" alt=\"Open In Colab\"/></a>"
      ]
    },
    {
      "cell_type": "markdown",
      "source": [
        "#Embedchain\n",
        "\n",
        "Embedchain is an Open Source RAG Framework that makes it easy to create and deploy AI apps. At its core, Embedchain follows the design principle of being \"Conventional but Configurable\" to serve both software engineers and machine learning engineers.\n",
        "\n",
        "\n",
        "Here is a very simple demo about how it work!\n",
        "\n",
        "Check us out: https://github.com/embedchain/embedchain"
      ],
      "metadata": {
        "id": "2LRmcaaPUiSL"
      }
    },
    {
      "cell_type": "markdown",
      "source": [
        "First of all we install the dependencies:"
      ],
      "metadata": {
        "id": "Cj2UXTmhUkQt"
      }
    },
    {
      "cell_type": "code",
      "source": [
        "!pip install colab-env --upgrade\n",
        "!pip install openai\n",
        "\n",
        "import colab_env\n",
        "import os\n",
        "import openai\n",
        "\n",
        "# OpenAI API Key\n",
        "openai.api_key = os.getenv(\"OPENAI_API_KEY\")\n",
        "#api_key = \"YOUR_OPENAI_API_KEY\"\n",
        "api_key = os.getenv(\"OPENAI_API_KEY\")\n",
        "HUGGINGFACE_ACCESS_TOKEN = os.environ[\"HUGGINGFACE_ACCESS_TOKEN\"]\n"
      ],
      "metadata": {
        "id": "7FQ1pszKvwVl"
      },
      "execution_count": null,
      "outputs": []
    },
    {
      "cell_type": "code",
      "source": [
        "!pip install --upgrade embedchain"
      ],
      "metadata": {
        "id": "vrgoWyaLUldK"
      },
      "execution_count": null,
      "outputs": []
    },
    {
      "cell_type": "markdown",
      "source": [
        "Now we import the dependencies:"
      ],
      "metadata": {
        "id": "ZnJH6GOzUqd2"
      }
    },
    {
      "cell_type": "code",
      "source": [
        "from embedchain import App"
      ],
      "metadata": {
        "id": "nR66RE_qUngy"
      },
      "execution_count": 3,
      "outputs": []
    },
    {
      "cell_type": "markdown",
      "source": [
        "We instantiate the embechain bot. Remember to change the API key with you OpenAI api key."
      ],
      "metadata": {
        "id": "UesCuX4OVYQj"
      }
    },
    {
      "cell_type": "code",
      "source": [
        "# OpenAI API Key\n",
        "openai.api_key = os.getenv(\"OPENAI_API_KEY\")\n",
        "#api_key = \"YOUR_OPENAI_API_KEY\"\n",
        "api_key = os.getenv(\"OPENAI_API_KEY\")\n",
        "\n",
        "app = App()"
      ],
      "metadata": {
        "id": "PibHR1WYVU0b"
      },
      "execution_count": 4,
      "outputs": []
    },
    {
      "cell_type": "markdown",
      "source": [
        "Now, add different data sources using embedchain's `.add()` method:"
      ],
      "metadata": {
        "id": "p1tubXFPVcdk"
      }
    },
    {
      "cell_type": "code",
      "source": [
        "app.add(\"https://en.wikipedia.org/wiki/Elon_Musk\")\n",
        "app.add(\"https://www.forbes.com/profile/elon-musk\")\n"
      ],
      "metadata": {
        "colab": {
          "base_uri": "https://localhost:8080/",
          "height": 127
        },
        "id": "zIWEUy26VZtf",
        "outputId": "08128854-b635-45c9-d4bf-6e61ee19f67a"
      },
      "execution_count": 5,
      "outputs": [
        {
          "output_type": "stream",
          "name": "stderr",
          "text": [
            "Inserting batches in chromadb: 100%|██████████| 1/1 [00:01<00:00,  1.29s/it]\n"
          ]
        },
        {
          "output_type": "stream",
          "name": "stdout",
          "text": [
            "Successfully saved https://en.wikipedia.org/wiki/Elon_Musk (DataType.WEB_PAGE). New chunks count: 99\n"
          ]
        },
        {
          "output_type": "stream",
          "name": "stderr",
          "text": [
            "Inserting batches in chromadb: 100%|██████████| 1/1 [00:00<00:00,  4.00it/s]"
          ]
        },
        {
          "output_type": "stream",
          "name": "stdout",
          "text": [
            "Successfully saved https://www.forbes.com/profile/elon-musk (DataType.WEB_PAGE). New chunks count: 4\n"
          ]
        },
        {
          "output_type": "stream",
          "name": "stderr",
          "text": [
            "\n"
          ]
        },
        {
          "output_type": "execute_result",
          "data": {
            "text/plain": [
              "'8cf46026cabf9b05394a2658bd1fe890'"
            ],
            "application/vnd.google.colaboratory.intrinsic+json": {
              "type": "string"
            }
          },
          "metadata": {},
          "execution_count": 5
        }
      ]
    },
    {
      "cell_type": "markdown",
      "source": [
        "Your bot is ready now. Ask your bot any questions using `.query()` method:"
      ],
      "metadata": {
        "id": "RnULYfjXVpe_"
      }
    },
    {
      "cell_type": "code",
      "source": [
        "#Added by Frank Morales January 24th, 2023\n",
        "\n",
        "#https://docs.embedchain.ai/components/data-sources/overview\n",
        "\n",
        "from embedchain import App\n",
        "app = App()\n",
        "app.add('https://arxiv.org/pdf/1706.03762.pdf', data_type='pdf_file')\n",
        "print()\n",
        "app.query(\"What is the paper 'attention is all you need' about?\", citations=False)\n"
      ],
      "metadata": {
        "colab": {
          "base_uri": "https://localhost:8080/",
          "height": 125
        },
        "id": "6W_dXIJpx2Kb",
        "outputId": "db0d30d5-c283-4444-f7b5-2e1110cef057"
      },
      "execution_count": 6,
      "outputs": [
        {
          "output_type": "stream",
          "name": "stderr",
          "text": [
            "Inserting batches in chromadb: 100%|██████████| 1/1 [00:00<00:00,  1.35it/s]\n"
          ]
        },
        {
          "output_type": "stream",
          "name": "stdout",
          "text": [
            "Successfully saved https://arxiv.org/pdf/1706.03762.pdf (DataType.PDF_FILE). New chunks count: 47\n",
            "\n"
          ]
        },
        {
          "output_type": "execute_result",
          "data": {
            "text/plain": [
              "'The paper \"Attention Is All You Need\" proposes a new network architecture called the Transformer, which is based solely on attention mechanisms. It suggests that complex recurrent or convolutional neural networks can be replaced with a simpler architecture that connects the encoder and decoder through attention. The paper discusses how this approach can improve sequence transduction models, such as neural machine translation.'"
            ],
            "application/vnd.google.colaboratory.intrinsic+json": {
              "type": "string"
            }
          },
          "metadata": {},
          "execution_count": 6
        }
      ]
    },
    {
      "cell_type": "code",
      "source": [
        "print(app.query(\"How many companies does Elon Musk run? Name those\"))\n",
        "print()\n",
        "print(app.query(\"How many companies does Bill Gates run? Name those\"))"
      ],
      "metadata": {
        "colab": {
          "base_uri": "https://localhost:8080/"
        },
        "id": "vIaQdFpvVsWb",
        "outputId": "3705651d-4475-4f83-ee5f-fa845ace970f"
      },
      "execution_count": 7,
      "outputs": [
        {
          "output_type": "stream",
          "name": "stdout",
          "text": [
            "Elon Musk runs multiple companies. Some of the companies he is associated with include Tesla, SpaceX, Neuralink, and The Boring Company.\n",
            "\n",
            "I don't have enough information to answer the query.\n"
          ]
        }
      ]
    },
    {
      "cell_type": "code",
      "source": [
        "app.add(\"https://en.wikipedia.org/wiki/Bill_Gates\")\n",
        "print(app.query(\"How many companies does Bill Gates run? Name those\"))"
      ],
      "metadata": {
        "colab": {
          "base_uri": "https://localhost:8080/"
        },
        "id": "DNnuBnkS3ZA0",
        "outputId": "0e8b87f6-7019-49c2-fbbc-a7495c6a7a3f"
      },
      "execution_count": 8,
      "outputs": [
        {
          "output_type": "stream",
          "name": "stderr",
          "text": [
            "Inserting batches in chromadb: 100%|██████████| 1/1 [00:01<00:00,  1.14s/it]\n"
          ]
        },
        {
          "output_type": "stream",
          "name": "stdout",
          "text": [
            "Successfully saved https://en.wikipedia.org/wiki/Bill_Gates (DataType.WEB_PAGE). New chunks count: 66\n",
            "Bill Gates currently runs the Bill & Melinda Gates Foundation, a private charitable foundation. He stepped down from his positions at Microsoft and Berkshire Hathaway in 2020. Therefore, he is not currently running any companies.\n"
          ]
        }
      ]
    },
    {
      "cell_type": "code",
      "source": [
        "!pip install sentence-transformers"
      ],
      "metadata": {
        "id": "wypu1jzA3V7Z"
      },
      "execution_count": null,
      "outputs": []
    },
    {
      "cell_type": "code",
      "source": [
        "#Added by Frank Morales January 24th, 2023  using Mistral LLM and 1536 dim embeddings\n",
        "import os\n",
        "\n",
        "import warnings\n",
        "warnings.filterwarnings('ignore')\n",
        "\n",
        "\n",
        "from embedchain import App\n",
        "app = App.from_config(\"/content/gdrive/MyDrive/datasets/mistral.yaml\")\n",
        "app.add(\"https://www.forbes.com/profile/elon-musk\")\n",
        "app.add(\"https://en.wikipedia.org/wiki/Elon_Musk\")\n",
        "\n",
        "print()\n",
        "query=\"What is the net worth of Elon Musk today?\"\n",
        "response = app.query(query)\n",
        "print('Query : %s'%query)\n",
        "print('Answer : %s'%response)"
      ],
      "metadata": {
        "colab": {
          "base_uri": "https://localhost:8080/"
        },
        "id": "a494G3Qa5tN2",
        "outputId": "c1732b62-583d-4460-8295-183edff53def"
      },
      "execution_count": 11,
      "outputs": [
        {
          "output_type": "stream",
          "name": "stderr",
          "text": [
            "Inserting batches in chromadb: 100%|██████████| 1/1 [00:00<00:00,  2.14it/s]\n"
          ]
        },
        {
          "output_type": "stream",
          "name": "stdout",
          "text": [
            "Successfully saved https://www.forbes.com/profile/elon-musk (DataType.WEB_PAGE). New chunks count: 4\n"
          ]
        },
        {
          "output_type": "stream",
          "name": "stderr",
          "text": [
            "Inserting batches in chromadb: 100%|██████████| 1/1 [00:14<00:00, 14.32s/it]\n"
          ]
        },
        {
          "output_type": "stream",
          "name": "stdout",
          "text": [
            "Successfully saved https://en.wikipedia.org/wiki/Elon_Musk (DataType.WEB_PAGE). New chunks count: 99\n",
            "\n",
            "Query : What is the net worth of Elon Musk today?\n",
            "Answer : \n",
            "  The net worth of Elon Musk is approximately $233.7 billion, making him the wealthiest person in the world.\n"
          ]
        }
      ]
    }
  ]
}