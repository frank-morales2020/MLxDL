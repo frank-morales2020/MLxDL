{
  "nbformat": 4,
  "nbformat_minor": 0,
  "metadata": {
    "colab": {
      "provenance": [],
      "machine_shape": "hm",
      "gpuType": "L4",
      "authorship_tag": "ABX9TyMMweZrFrrUu8zHIQ6sNSaV",
      "include_colab_link": true
    },
    "kernelspec": {
      "name": "python3",
      "display_name": "Python 3"
    },
    "language_info": {
      "name": "python"
    },
    "accelerator": "GPU"
  },
  "cells": [
    {
      "cell_type": "markdown",
      "metadata": {
        "id": "view-in-github",
        "colab_type": "text"
      },
      "source": [
        "<a href=\"https://colab.research.google.com/github/frank-morales2020/MLxDL/blob/main/QwQ_DEMO.ipynb\" target=\"_parent\"><img src=\"https://colab.research.google.com/assets/colab-badge.svg\" alt=\"Open In Colab\"/></a>"
      ]
    },
    {
      "cell_type": "markdown",
      "source": [
        "https://huggingface.co/Qwen/Qwen-7B\n",
        "\n",
        "https://huggingface.co/Qwen/QwQ-32B-Preview"
      ],
      "metadata": {
        "id": "zXVlFmEXLLd2"
      }
    },
    {
      "cell_type": "code",
      "source": [
        "!nvidia-smi"
      ],
      "metadata": {
        "colab": {
          "base_uri": "https://localhost:8080/"
        },
        "id": "SBW-RTQMLBOq",
        "outputId": "cf669e66-fbc9-4cff-9273-c1799e1aae92"
      },
      "execution_count": 8,
      "outputs": [
        {
          "output_type": "stream",
          "name": "stdout",
          "text": [
            "Thu Nov 28 05:09:10 2024       \n",
            "+---------------------------------------------------------------------------------------+\n",
            "| NVIDIA-SMI 535.104.05             Driver Version: 535.104.05   CUDA Version: 12.2     |\n",
            "|-----------------------------------------+----------------------+----------------------+\n",
            "| GPU  Name                 Persistence-M | Bus-Id        Disp.A | Volatile Uncorr. ECC |\n",
            "| Fan  Temp   Perf          Pwr:Usage/Cap |         Memory-Usage | GPU-Util  Compute M. |\n",
            "|                                         |                      |               MIG M. |\n",
            "|=========================================+======================+======================|\n",
            "|   0  NVIDIA L4                      Off | 00000000:00:03.0 Off |                    0 |\n",
            "| N/A   54C    P0              28W /  72W |  15775MiB / 23034MiB |      0%      Default |\n",
            "|                                         |                      |                  N/A |\n",
            "+-----------------------------------------+----------------------+----------------------+\n",
            "                                                                                         \n",
            "+---------------------------------------------------------------------------------------+\n",
            "| Processes:                                                                            |\n",
            "|  GPU   GI   CI        PID   Type   Process name                            GPU Memory |\n",
            "|        ID   ID                                                             Usage      |\n",
            "|=======================================================================================|\n",
            "+---------------------------------------------------------------------------------------+\n"
          ]
        }
      ]
    },
    {
      "cell_type": "code",
      "source": [
        "!pip install tiktoken -q\n",
        "!pip install transformers_stream_generator -q"
      ],
      "metadata": {
        "colab": {
          "base_uri": "https://localhost:8080/"
        },
        "id": "YFwTczgQKEBs",
        "outputId": "31b246d9-e107-42d9-834b-f6c6f4d22824"
      },
      "execution_count": 6,
      "outputs": [
        {
          "output_type": "stream",
          "name": "stdout",
          "text": [
            "  Preparing metadata (setup.py) ... \u001b[?25l\u001b[?25hdone\n",
            "  Building wheel for transformers_stream_generator (setup.py) ... \u001b[?25l\u001b[?25hdone\n"
          ]
        }
      ]
    },
    {
      "cell_type": "code",
      "source": [
        "from transformers import AutoModelForCausalLM, AutoTokenizer\n",
        "from transformers.generation import GenerationConfig\n",
        "\n",
        "# Note: The default behavior now has injection attack prevention off.\n",
        "tokenizer = AutoTokenizer.from_pretrained(\"Qwen/Qwen-7B\", trust_remote_code=True)\n",
        "\n",
        "# use bf16\n",
        "# model = AutoModelForCausalLM.from_pretrained(\"Qwen/Qwen-7B\", device_map=\"auto\", trust_remote_code=True, bf16=True).eval()\n",
        "# use fp16\n",
        "# model = AutoModelForCausalLM.from_pretrained(\"Qwen/Qwen-7B\", device_map=\"auto\", trust_remote_code=True, fp16=True).eval()\n",
        "# use cpu only\n",
        "# model = AutoModelForCausalLM.from_pretrained(\"Qwen/Qwen-7B\", device_map=\"cpu\", trust_remote_code=True).eval()\n",
        "# use auto mode, automatically select precision based on the device.\n",
        "model = AutoModelForCausalLM.from_pretrained(\"Qwen/Qwen-7B\", device_map=\"auto\", trust_remote_code=True).eval()\n",
        "\n",
        "# Specify hyperparameters for generation. But if you use transformers>=4.32.0, there is no need to do this.\n",
        "# model.generation_config = GenerationConfig.from_pretrained(\"Qwen/Qwen-7B\", trust_remote_code=True)\n",
        "\n",
        "inputs = tokenizer('蒙古国的首都是乌兰巴托（Ulaanbaatar）\\n冰岛的首都是雷克雅未克（Reykjavik）\\n埃塞俄比亚的首都是', return_tensors='pt')\n",
        "inputs = inputs.to(model.device)\n",
        "pred = model.generate(**inputs)\n",
        "print(tokenizer.decode(pred.cpu()[0], skip_special_tokens=True))\n",
        "# 蒙古国的首都是乌兰巴托（Ulaanbaatar）\\n冰岛的首都是雷克雅未克（Reykjavik）\\n埃塞俄比亚的首都是亚的斯亚贝巴（Addis Ababa）...\n"
      ],
      "metadata": {
        "id": "2DqEMrGuJ9KH"
      },
      "execution_count": null,
      "outputs": []
    },
    {
      "cell_type": "code",
      "source": [
        "print(tokenizer.decode(pred.cpu()[0], skip_special_tokens=True))"
      ],
      "metadata": {
        "colab": {
          "base_uri": "https://localhost:8080/"
        },
        "id": "fDSdVMjyLnnI",
        "outputId": "c21afaa8-2ad8-4e03-ffb3-63fbeaa0051a"
      },
      "execution_count": 9,
      "outputs": [
        {
          "output_type": "stream",
          "name": "stdout",
          "text": [
            "蒙古国的首都是乌兰巴托（Ulaanbaatar）\n",
            "冰岛的首都是雷克雅未克（Reykjavik）\n",
            "埃塞俄比亚的首都是亚的斯亚贝巴（Addis Ababa）\n",
            "埃及的首都是开罗（Cairo）\n",
            "法属波利尼西亚的首都是帕皮提（Papeete）\n",
            "法属圭亚那的首都是卡宴（Kourou）\n",
            "斐济的首都是苏瓦（Suva）\n",
            "芬兰的首都是赫尔辛基（Helsinki）\n",
            "法国的首都是巴黎（Paris）\n",
            "法国新喀里多尼亚的首都是努美阿（Nouméa）\n",
            "法属南非洲的首都是布宜诺斯艾利斯（Buenos Aires）\n",
            "法属中非洲的首都是波尔多（Bordeaux）\n",
            "法属西非洲的首都是圣皮埃尔（Saint-Pierre）\n",
            "法属马提尼克的首都是卡斯特里（Fort-de-France）\n",
            "加蓬的首都是利伯维尔（Libreville）\n",
            "加纳的首都是阿克拉（Accra）\n",
            "加那利群岛的首都是拉斯帕尔马斯（Las Palmas）\n",
            "加泰罗尼亚的首都是巴塞罗那（Barcelona）\n",
            "格鲁吉亚的首都是第比利斯（Tbilisi）\n",
            "德国的首都是柏林（Berlin）\n",
            "加勒比海地区的首都是西班牙的巴伦西亚（Valencia）\n",
            "丹麦的首都是哥本哈根（Copenhagen）\n",
            "迪拜酋长国的首都是迪拜（Dubai）\n",
            "英国的首都是伦敦（London）\n",
            "东帝汶的首都是帝力（Dili）\n",
            "厄瓜多尔的首都是基多（Quito）\n",
            "埃及的首都是开罗（Cairo）\n",
            "萨尔瓦多的首都是圣萨尔瓦多（San Salvador）\n",
            "西班牙的首都是马德里（Madrid）\n",
            "爱沙尼亚的首都是塔林（Tallinn）\n",
            "埃及的首都是开罗（Cairo）\n",
            "厄立特里亚的首都是阿斯马拉（Asmara）\n",
            "厄瓜多尔的首都是基多（Quito）\n",
            "冰岛的首都是雷克雅未克（Reykjavik）\n",
            "英格兰的首都是伦敦（London）\n",
            "爱沙尼亚的首都是塔林（Tallinn）\n",
            "埃塞俄比亚的首都是亚的斯亚贝巴（Addis Ababa）\n",
            "厄瓜多尔的首都是基多（Quito）\n",
            "埃及的首都是开罗（Cairo）\n",
            "法属波利尼西亚的首都是帕皮提（Papeete）\n",
            "法属圭亚那\n"
          ]
        }
      ]
    },
    {
      "cell_type": "code",
      "source": [
        "pred = model.generate(**inputs, max_new_tokens=50)  # Limit output to roughly 50 tokens"
      ],
      "metadata": {
        "id": "Km4notw6L8tq"
      },
      "execution_count": 10,
      "outputs": []
    },
    {
      "cell_type": "code",
      "source": [
        "#the raw token IDs\n",
        "print(\"Raw token IDs:\", pred)\n",
        "\n",
        "# Decode and print the human-readable text\n",
        "print(\"Decoded text:\", tokenizer.decode(pred.cpu()[0], skip_special_tokens=True))"
      ],
      "metadata": {
        "colab": {
          "base_uri": "https://localhost:8080/"
        },
        "id": "MZoDStc_L_Aw",
        "outputId": "394e4d29-522b-4f02-f58d-286f75a80aac"
      },
      "execution_count": 13,
      "outputs": [
        {
          "output_type": "stream",
          "name": "stdout",
          "text": [
            "Raw token IDs: tensor([[102626,  28404,   9370,  59975, 100132, 100444,  99533,  99395,  99829,\n",
            "           9909,     52,   4260,    276,   4645,   6392,  23083, 100038,  99825,\n",
            "           9370,  59975, 100132,  96465,  99316,  71025,  38342,  99316,   9909,\n",
            "            693,  72540,  61459,   1579,  23083, 101499, 101202, 100223, 103451,\n",
            "           9370,  59975, 100132,  99449,   9370,  99295,  99449, 100458,  99395,\n",
            "           9909,   2212,    285,   3680,  12004,  23083, 108919,   9370,  59975,\n",
            "         100132,  99313,  99685,  72225,   9909,   1658,  10524,  23083, 108781,\n",
            "           9370,  59975, 100132, 101493,  45995, 104856,  99476,   9909,  43957,\n",
            "          24260,  23083, 109448,   9370,  59975, 100132, 109448,  59074,   9909,\n",
            "          68831,   4311,  23083,  99900,  27773, 101367, 104773,   9370]],\n",
            "       device='cuda:0')\n",
            "Decoded text: 蒙古国的首都是乌兰巴托（Ulaanbaatar）\n",
            "冰岛的首都是雷克雅未克（Reykjavik）\n",
            "埃塞俄比亚的首都是亚的斯亚贝巴（Addis Ababa）\n",
            "菲律宾的首都是马尼拉（Manila）\n",
            "以色列的首都是耶路撒冷（Jerusalem）\n",
            "墨西哥的首都是墨西哥城（Mexico City）\n",
            "刚果民主共和国的\n"
          ]
        }
      ]
    }
  ]
}