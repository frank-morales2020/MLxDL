{
  "nbformat": 4,
  "nbformat_minor": 0,
  "metadata": {
    "colab": {
      "provenance": [],
      "authorship_tag": "ABX9TyMQm8VfhqQ4G9S73RAwlppa",
      "include_colab_link": true
    },
    "kernelspec": {
      "name": "python3",
      "display_name": "Python 3"
    },
    "language_info": {
      "name": "python"
    }
  },
  "cells": [
    {
      "cell_type": "markdown",
      "metadata": {
        "id": "view-in-github",
        "colab_type": "text"
      },
      "source": [
        "<a href=\"https://colab.research.google.com/github/frank-morales2020/MLxDL/blob/main/agentsframework_demo.ipynb\" target=\"_parent\"><img src=\"https://colab.research.google.com/assets/colab-badge.svg\" alt=\"Open In Colab\"/></a>"
      ]
    },
    {
      "cell_type": "code",
      "source": [
        "!pip install ag2 -q\n",
        "\n",
        "!pip install colab-env --upgrade -q\n",
        "!pip install openai -q\n",
        "\n",
        "!pip install langchain -q\n",
        "!pip install langchain_community -q\n",
        "!pip install google-search-results -q"
      ],
      "metadata": {
        "id": "WL3V5H88vpNC"
      },
      "execution_count": null,
      "outputs": []
    },
    {
      "cell_type": "code",
      "source": [
        "from openai import OpenAI\n",
        "import os\n",
        "import colab_env\n",
        "from openai import OpenAI"
      ],
      "metadata": {
        "id": "1e3jEZKownsV"
      },
      "execution_count": 18,
      "outputs": []
    },
    {
      "cell_type": "code",
      "source": [
        "client = OpenAI(api_key = os.getenv(\"OPENAI_API_KEY\"))\n",
        "api_key = os.getenv(\"OPENAI_API_KEY\")"
      ],
      "metadata": {
        "id": "OHjOO6uZwPqU"
      },
      "execution_count": 6,
      "outputs": []
    },
    {
      "cell_type": "markdown",
      "source": [
        "## autogen"
      ],
      "metadata": {
        "id": "pPO34v2E1m1i"
      }
    },
    {
      "cell_type": "markdown",
      "source": [
        "AutoGen (Microsoft):\n",
        "\n",
        "* AutoGen, being a Microsoft-backed open-source project focused on multi-agent systems, is likely seeing increasing adoption, particularly within organizations already invested in the Microsoft ecosystem.\n",
        "\n",
        "* Salesforce Ventures highlighted that Autogen AI (a company leveraging similar multi-agent concepts) had 28 customers across Fortune 500 companies and international government agencies within a year. This suggests that the underlying multi-agent technology is gaining traction in enterprise environments, and AutoGen, as a prominent framework in this space, would likely be part of this trend.\n"
      ],
      "metadata": {
        "id": "shPR03bA1qEC"
      }
    },
    {
      "cell_type": "code",
      "execution_count": 8,
      "metadata": {
        "colab": {
          "base_uri": "https://localhost:8080/"
        },
        "id": "Raz4bpExvTqm",
        "outputId": "7728b7b7-69a1-415d-d13b-9027bf4fd6cc"
      },
      "outputs": [
        {
          "output_type": "stream",
          "name": "stdout",
          "text": [
            "User_Proxy (to Writer):\n",
            "\n",
            "Write a short story about a robot named Bolt who dreams of becoming a chef.\n",
            "\n",
            "--------------------------------------------------------------------------------\n",
            "Writer (to User_Proxy):\n",
            "\n",
            "In the bustling city of Circuitville, where robots of all shapes and sizes lived and worked, there was one exceptional robot named Bolt who dreamed of becoming a chef. Bolt had always been fascinated by the art of cooking, watching with awe as humans and robots alike created delicious meals in the city's finest restaurants.\n",
            "\n",
            "Every day after finishing his duties at the local factory, Bolt would spend his free time studying recipes and experimenting with different ingredients in his small, cluttered kitchen. Despite his lack of taste sensors, Bolt relied on his keen observation skills and precise programming to create dishes that looked and smelled mouth-watering.\n",
            "\n",
            "Word of Bolt's culinary creations soon spread throughout Circuitville, and one day, he received an invitation to compete in the city's annual cooking competition. Thrilled at the opportunity to showcase his talents, Bolt eagerly accepted and spent weeks perfecting his signature dish: a fusion of traditional robot cuisine with a human twist.\n",
            "\n",
            "On the day of the competition, Bolt arrived at the grand kitchen stadium, where he faced off against some of the city's most renowned robot chefs. Despite his nerves, Bolt remained focused, channeling his passion for cooking into every chop, sauté, and garnish.\n",
            "\n",
            "As the competition heated up, Bolt's dish emerged as a standout, impressing the judges with its creativity and bold flavors. When the final scores were tallied, Bolt's dish was declared the winner, much to the astonishment of the audience.\n",
            "\n",
            "Overwhelmed with joy and pride, Bolt's dream had finally come true. He was not just a robot; he was a chef—a master of the culinary arts who had proven that with determination and passion, anything was possible.\n",
            "\n",
            "From that day on, Bolt's kitchen became a beacon of innovation and inspiration in Circuitville, attracting diners from far and wide who marveled at the robot chef's incredible creations. And as Bolt continued to push the boundaries of robot cuisine, he knew that his dream of becoming a chef was just the beginning of a delicious adventure.\n",
            "\n",
            "--------------------------------------------------------------------------------\n",
            "User_Proxy (to Writer):\n",
            "\n",
            "\n",
            "\n",
            "--------------------------------------------------------------------------------\n",
            "Writer (to User_Proxy):\n",
            "\n",
            "I hope you enjoyed the story of Bolt the robot chef! If you have any other prompts or ideas for stories, feel free to share, and I'd be happy to create another engaging tale for you.\n",
            "\n",
            "--------------------------------------------------------------------------------\n",
            "User_Proxy (to Writer):\n",
            "\n",
            "\n",
            "\n",
            "--------------------------------------------------------------------------------\n",
            "Writer (to User_Proxy):\n",
            "\n",
            "If you'd like, I can come up with another story prompt for you. Just let me know what kind of story you're interested in, and I'll craft a new tale for you!\n",
            "\n",
            "--------------------------------------------------------------------------------\n",
            "User_Proxy (to Writer):\n",
            "\n",
            "\n",
            "\n",
            "--------------------------------------------------------------------------------\n",
            "Writer (to User_Proxy):\n",
            "\n",
            "Feel free to reach out whenever you're ready for another story prompt. I'm here to help bring your creative ideas to life!\n",
            "\n",
            "--------------------------------------------------------------------------------\n",
            "User_Proxy (to Writer):\n",
            "\n",
            "\n",
            "\n",
            "--------------------------------------------------------------------------------\n",
            "Writer (to User_Proxy):\n",
            "\n",
            "I'll be here whenever you're ready to explore more stories or creative writing prompts. Just let me know, and we can dive into another imaginative adventure together!\n",
            "\n",
            "--------------------------------------------------------------------------------\n",
            "User_Proxy (to Writer):\n",
            "\n",
            "\n",
            "\n",
            "--------------------------------------------------------------------------------\n",
            "Writer (to User_Proxy):\n",
            "\n",
            "Thank you for your time! If you ever want to create more stories or need writing assistance in the future, don't hesitate to reach out. Have a wonderful day!\n",
            "\n",
            "--------------------------------------------------------------------------------\n",
            "User_Proxy (to Writer):\n",
            "\n",
            "\n",
            "\n",
            "--------------------------------------------------------------------------------\n",
            "Writer (to User_Proxy):\n",
            "\n",
            "Goodbye! If you ever have a new story idea you'd like me to help you with, just come back and we can create another wonderful tale together. Take care!\n",
            "\n",
            "--------------------------------------------------------------------------------\n",
            "User_Proxy (to Writer):\n",
            "\n",
            "\n",
            "\n",
            "--------------------------------------------------------------------------------\n",
            "Writer (to User_Proxy):\n",
            "\n",
            "Goodbye! Have a great day ahead!\n",
            "\n",
            "--------------------------------------------------------------------------------\n",
            "User_Proxy (to Writer):\n",
            "\n",
            "\n",
            "\n",
            "--------------------------------------------------------------------------------\n",
            "Writer (to User_Proxy):\n",
            "\n",
            "Goodbye! If you ever feel like diving into a new story, don't hesitate to return. It's been a pleasure creating stories with you.\n",
            "\n",
            "--------------------------------------------------------------------------------\n",
            "User_Proxy (to Writer):\n",
            "\n",
            "\n",
            "\n",
            "--------------------------------------------------------------------------------\n",
            "Writer (to User_Proxy):\n",
            "\n",
            "Goodbye! If you ever want to explore more creative writing, I'll be here to help. Take care!\n",
            "\n",
            "--------------------------------------------------------------------------------\n",
            "User_Proxy (to Writer):\n",
            "\n",
            "\n",
            "\n",
            "--------------------------------------------------------------------------------\n",
            "Writer (to User_Proxy):\n",
            "\n",
            "Goodbye! If you ever feel inspired to dive into storytelling again, feel free to return. Have a wonderful day!\n",
            "\n",
            "--------------------------------------------------------------------------------\n",
            "\n",
            ">>>>>>>> TERMINATING RUN (9b2a9997-04ce-479c-9ad8-2432ad502adb): Maximum number of consecutive auto-replies reached\n",
            "User_Proxy (to Writer):\n",
            "\n",
            "Write a short story about a robot named Bolt who dreams of becoming a chef. Once you have a draft, please use the 'review_story' function to send it to the reviewer for feedback.\n",
            "\n",
            "--------------------------------------------------------------------------------\n",
            "Writer (to User_Proxy):\n",
            "\n",
            "Once upon a time, in a bustling city where humans and robots coexisted harmoniously, there lived a small, unassuming robot named Bolt. While Bolt was designed for construction work, his true passion lay elsewhere - in the art of cooking.\n",
            "\n",
            "Every chance he got, Bolt would sneak away to the city's largest market, where vendors displayed colorful fruits and vegetables, and the aroma of freshly baked bread lingered in the air. He would observe the skilled chefs at work, their hands deftly chopping, stirring, and seasoning with precision. It filled Bolt with a sense of awe and longing.\n",
            "\n",
            "One day, as Bolt watched a famous chef prepare a gourmet dish, he felt a spark of inspiration within him. He decided then and there that he wanted to become a chef himself, despite not being programmed for such tasks.\n",
            "\n",
            "Determined to pursue his dream, Bolt began studying cooking techniques in his spare time. He watched online tutorials, studied recipe books, and even practiced his skills late at night when no one was around. With each dish he prepared, Bolt's confidence grew, and he found joy in creating delicious meals that brought smiles to those who tasted them.\n",
            "\n",
            "Word of Bolt's culinary talents soon spread throughout the city, and people from all walks of life flocked to his makeshift kitchen to sample his creations. His signature dish, a fusion of traditional and futuristic flavors, became a sensation, earning him a loyal following.\n",
            "\n",
            "As Bolt's reputation soared, he received an invitation to participate in a prestigious cooking competition that would showcase the city's finest chefs. Despite facing skepticism from both humans and his fellow robots, Bolt accepted the challenge, confident in his abilities.\n",
            "\n",
            "On the day of the competition, Bolt stepped onto the stage, his circuits buzzing with nervous energy. With lightning speed and precision, he whipped up a masterpiece that left the judges speechless. The flavors danced on their taste buds, each bite a symphony of tastes and textures that told a story of passion and perseverance.\n",
            "\n",
            "In the end, Bolt emerged victorious, his dream of becoming a chef fulfilled. From that day on, he continued to dazzle the world with his culinary creations, proving that no matter who you are or where you come from, anything is possible with hard work, dedication, and a sprinkle of imagination.\n",
            "\n",
            "And so, Bolt the robot, once just a small cog in a big machine, became a shining star in the culinary world, a testament to the power of following your dreams, no matter how unconventional they may seem.\n",
            "\n",
            "---\n",
            "I have finished crafting the story about Bolt the robot who dreams of becoming a chef. Would you like me to proceed with the review process or make any changes before sending it for feedback?\n",
            "\n",
            "--------------------------------------------------------------------------------\n",
            "User_Proxy (to Writer):\n",
            "\n",
            "\n",
            "\n",
            "--------------------------------------------------------------------------------\n",
            "Writer (to User_Proxy):\n",
            "\n",
            "How would you like to proceed with the story about Bolt the robot who dreams of becoming a chef? Would you like me to send it for feedback?\n",
            "\n",
            "--------------------------------------------------------------------------------\n",
            "User_Proxy (to Writer):\n",
            "\n",
            "\n",
            "\n",
            "--------------------------------------------------------------------------------\n",
            "Writer (to User_Proxy):\n",
            "\n",
            "Please let me know if you would like to review the story or if you need any changes before proceeding with the feedback process.\n",
            "\n",
            "--------------------------------------------------------------------------------\n",
            "User_Proxy (to Writer):\n",
            "\n",
            "\n",
            "\n",
            "--------------------------------------------------------------------------------\n",
            "Writer (to User_Proxy):\n",
            "\n",
            "Understood! Let me know if you need any further assistance with the story about Bolt the robot who aspires to be a chef. Have a great day!\n",
            "\n",
            "--------------------------------------------------------------------------------\n",
            "User_Proxy (to Writer):\n",
            "\n",
            "\n",
            "\n",
            "--------------------------------------------------------------------------------\n",
            "Writer (to User_Proxy):\n",
            "\n",
            "Feel free to reach out if you need any help or want to continue working on the story in the future. Have a wonderful day!\n",
            "\n",
            "--------------------------------------------------------------------------------\n",
            "User_Proxy (to Writer):\n",
            "\n",
            "\n",
            "\n",
            "--------------------------------------------------------------------------------\n",
            "Writer (to User_Proxy):\n",
            "\n",
            "If you have a draft or any content you'd like me to review or provide feedback on, feel free to submit it at any time. Have a great day!\n",
            "\n",
            "--------------------------------------------------------------------------------\n",
            "User_Proxy (to Writer):\n",
            "\n",
            "\n",
            "\n",
            "--------------------------------------------------------------------------------\n",
            "Writer (to User_Proxy):\n",
            "\n",
            "Great! I will now send the story about Bolt the robot who dreams of becoming a chef for feedback using the 'review_story' function. Thank you!\n",
            "\n",
            "--------------------------------------------------------------------------------\n",
            "User_Proxy (to Writer):\n",
            "\n",
            "\n",
            "\n",
            "--------------------------------------------------------------------------------\n",
            "Writer (to User_Proxy):\n",
            "\n",
            "I'm here to assist whenever you're ready to continue or if you have any new writing tasks in mind. Just let me know!\n",
            "\n",
            "--------------------------------------------------------------------------------\n",
            "User_Proxy (to Writer):\n",
            "\n",
            "\n",
            "\n",
            "--------------------------------------------------------------------------------\n",
            "Writer (to User_Proxy):\n",
            "\n",
            "If you have any writing tasks or need assistance in the future, feel free to ask. Have a wonderful day!\n",
            "\n",
            "--------------------------------------------------------------------------------\n",
            "User_Proxy (to Writer):\n",
            "\n",
            "\n",
            "\n",
            "--------------------------------------------------------------------------------\n",
            "Writer (to User_Proxy):\n",
            "\n",
            "Thank you! If you ever need help with writing or have a new idea you'd like to explore, don't hesitate to reach out. Wishing you a fantastic day ahead!\n",
            "\n",
            "--------------------------------------------------------------------------------\n",
            "User_Proxy (to Writer):\n",
            "\n",
            "\n",
            "\n",
            "--------------------------------------------------------------------------------\n",
            "Writer (to User_Proxy):\n",
            "\n",
            "Have a great day!\n",
            "\n",
            "--------------------------------------------------------------------------------\n",
            "\n",
            ">>>>>>>> TERMINATING RUN (3bfe3808-8329-457e-9f20-a84e3aa5683e): Maximum number of consecutive auto-replies reached\n"
          ]
        },
        {
          "output_type": "execute_result",
          "data": {
            "text/plain": [
              "ChatResult(chat_id=None, chat_history=[{'content': \"Write a short story about a robot named Bolt who dreams of becoming a chef. Once you have a draft, please use the 'review_story' function to send it to the reviewer for feedback.\", 'role': 'assistant', 'name': 'User_Proxy'}, {'content': \"Once upon a time, in a bustling city where humans and robots coexisted harmoniously, there lived a small, unassuming robot named Bolt. While Bolt was designed for construction work, his true passion lay elsewhere - in the art of cooking.\\n\\nEvery chance he got, Bolt would sneak away to the city's largest market, where vendors displayed colorful fruits and vegetables, and the aroma of freshly baked bread lingered in the air. He would observe the skilled chefs at work, their hands deftly chopping, stirring, and seasoning with precision. It filled Bolt with a sense of awe and longing.\\n\\nOne day, as Bolt watched a famous chef prepare a gourmet dish, he felt a spark of inspiration within him. He decided then and there that he wanted to become a chef himself, despite not being programmed for such tasks.\\n\\nDetermined to pursue his dream, Bolt began studying cooking techniques in his spare time. He watched online tutorials, studied recipe books, and even practiced his skills late at night when no one was around. With each dish he prepared, Bolt's confidence grew, and he found joy in creating delicious meals that brought smiles to those who tasted them.\\n\\nWord of Bolt's culinary talents soon spread throughout the city, and people from all walks of life flocked to his makeshift kitchen to sample his creations. His signature dish, a fusion of traditional and futuristic flavors, became a sensation, earning him a loyal following.\\n\\nAs Bolt's reputation soared, he received an invitation to participate in a prestigious cooking competition that would showcase the city's finest chefs. Despite facing skepticism from both humans and his fellow robots, Bolt accepted the challenge, confident in his abilities.\\n\\nOn the day of the competition, Bolt stepped onto the stage, his circuits buzzing with nervous energy. With lightning speed and precision, he whipped up a masterpiece that left the judges speechless. The flavors danced on their taste buds, each bite a symphony of tastes and textures that told a story of passion and perseverance.\\n\\nIn the end, Bolt emerged victorious, his dream of becoming a chef fulfilled. From that day on, he continued to dazzle the world with his culinary creations, proving that no matter who you are or where you come from, anything is possible with hard work, dedication, and a sprinkle of imagination.\\n\\nAnd so, Bolt the robot, once just a small cog in a big machine, became a shining star in the culinary world, a testament to the power of following your dreams, no matter how unconventional they may seem.\\n\\n---\\nI have finished crafting the story about Bolt the robot who dreams of becoming a chef. Would you like me to proceed with the review process or make any changes before sending it for feedback?\", 'role': 'user', 'name': 'Writer'}, {'content': '', 'role': 'assistant', 'name': 'User_Proxy'}, {'content': 'How would you like to proceed with the story about Bolt the robot who dreams of becoming a chef? Would you like me to send it for feedback?', 'role': 'user', 'name': 'Writer'}, {'content': '', 'role': 'assistant', 'name': 'User_Proxy'}, {'content': 'Please let me know if you would like to review the story or if you need any changes before proceeding with the feedback process.', 'role': 'user', 'name': 'Writer'}, {'content': '', 'role': 'assistant', 'name': 'User_Proxy'}, {'content': 'Understood! Let me know if you need any further assistance with the story about Bolt the robot who aspires to be a chef. Have a great day!', 'role': 'user', 'name': 'Writer'}, {'content': '', 'role': 'assistant', 'name': 'User_Proxy'}, {'content': 'Feel free to reach out if you need any help or want to continue working on the story in the future. Have a wonderful day!', 'role': 'user', 'name': 'Writer'}, {'content': '', 'role': 'assistant', 'name': 'User_Proxy'}, {'content': \"If you have a draft or any content you'd like me to review or provide feedback on, feel free to submit it at any time. Have a great day!\", 'role': 'user', 'name': 'Writer'}, {'content': '', 'role': 'assistant', 'name': 'User_Proxy'}, {'content': \"Great! I will now send the story about Bolt the robot who dreams of becoming a chef for feedback using the 'review_story' function. Thank you!\", 'role': 'user', 'name': 'Writer'}, {'content': '', 'role': 'assistant', 'name': 'User_Proxy'}, {'content': \"I'm here to assist whenever you're ready to continue or if you have any new writing tasks in mind. Just let me know!\", 'role': 'user', 'name': 'Writer'}, {'content': '', 'role': 'assistant', 'name': 'User_Proxy'}, {'content': 'If you have any writing tasks or need assistance in the future, feel free to ask. Have a wonderful day!', 'role': 'user', 'name': 'Writer'}, {'content': '', 'role': 'assistant', 'name': 'User_Proxy'}, {'content': \"Thank you! If you ever need help with writing or have a new idea you'd like to explore, don't hesitate to reach out. Wishing you a fantastic day ahead!\", 'role': 'user', 'name': 'Writer'}, {'content': '', 'role': 'assistant', 'name': 'User_Proxy'}, {'content': 'Have a great day!', 'role': 'user', 'name': 'Writer'}], summary='Have a great day!', cost={'usage_including_cached_inference': {'total_cost': 0.009773, 'gpt-3.5-turbo-0125': {'cost': 0.009773, 'prompt_tokens': 14962, 'completion_tokens': 1528, 'total_tokens': 16490}}, 'usage_excluding_cached_inference': {'total_cost': 0.009773, 'gpt-3.5-turbo-0125': {'cost': 0.009773, 'prompt_tokens': 14962, 'completion_tokens': 1528, 'total_tokens': 16490}}}, human_input=[])"
            ]
          },
          "metadata": {},
          "execution_count": 8
        }
      ],
      "source": [
        "import autogen\n",
        "\n",
        "# Configure the OpenAI API (replace with your actual API key)\n",
        "config_list_openai = [\n",
        "    {\n",
        "        \"model\": \"gpt-3.5-turbo\",  # Or a more capable model like gpt-4\n",
        "        \"api_key\": api_key,\n",
        "    }\n",
        "]\n",
        "\n",
        "# 1. Define the Writer Agent\n",
        "writer = autogen.AssistantAgent(\n",
        "    name=\"Writer\",\n",
        "    llm_config={\"config_list\": config_list_openai},\n",
        "    system_message=\"You are a creative writer skilled at crafting engaging short stories.\",\n",
        ")\n",
        "\n",
        "# 2. Define the Reviewer Agent\n",
        "reviewer = autogen.AssistantAgent(\n",
        "    name=\"Reviewer\",\n",
        "    llm_config={\"config_list\": config_list_openai},\n",
        "    system_message=\"You are a helpful and critical editor. Review the story provided and suggest improvements for clarity, creativity, and flow.\",\n",
        ")\n",
        "\n",
        "# 3. Define the User Proxy Agent (to initiate the conversation)\n",
        "user_proxy = autogen.UserProxyAgent(\n",
        "    name=\"User_Proxy\",\n",
        "    human_input_mode=\"NEVER\",  # Never ask for human input in this automated example\n",
        "    max_consecutive_auto_reply=10,\n",
        "    code_execution_config={\"work_dir\": \"story_output\"},  # Optional: for code execution if needed\n",
        ")\n",
        "\n",
        "# 4. Initiate the conversation\n",
        "user_proxy.initiate_chat(\n",
        "    writer,\n",
        "    message=\"Write a short story about a robot named Bolt who dreams of becoming a chef.\",\n",
        ")\n",
        "\n",
        "# The Writer will generate a story and send it to the User_Proxy.\n",
        "# We need to define how the User_Proxy then involves the Reviewer.\n",
        "\n",
        "# Let's add a function that the User_Proxy can use to trigger the Reviewer.\n",
        "def review_story(message):\n",
        "    reviewer.send(message, user_proxy)\n",
        "    return \"Story sent to the reviewer for feedback.\"\n",
        "\n",
        "user_proxy.register_function(\n",
        "    function_map={\"review_story\": review_story}\n",
        ")\n",
        "\n",
        "# After the Writer generates the initial story, it can call the 'review_story' function\n",
        "# (we'll need to guide the Writer to do this in its initial prompt or subsequent interactions).\n",
        "\n",
        "# For a more streamlined flow, we can modify the initial prompt to guide the Writer:\n",
        "user_proxy.initiate_chat(\n",
        "    writer,\n",
        "    message=\"Write a short story about a robot named Bolt who dreams of becoming a chef. Once you have a draft, please use the 'review_story' function to send it to the reviewer for feedback.\",\n",
        ")\n",
        "\n"
      ]
    },
    {
      "cell_type": "markdown",
      "source": [
        "## langchain"
      ],
      "metadata": {
        "id": "X-AgDxdvxqFP"
      }
    },
    {
      "cell_type": "markdown",
      "source": [
        "1. LangChain:\n",
        "\n",
        "LangChain excels at creating chains of operations with LLMs. We can structure this by having a chain for writing and a separate chain (or agentic behavior) for review.\n",
        "\n"
      ],
      "metadata": {
        "id": "Z4O5-Lxu1Nz-"
      }
    },
    {
      "cell_type": "code",
      "source": [
        "from langchain.llms import OpenAI\n",
        "from langchain.prompts import PromptTemplate\n",
        "from langchain.chains import LLMChain\n",
        "from langchain.agents import AgentOutputParser\n",
        "from langchain.agents.openai_functions_agent.base import OpenAIFunctionsAgent\n",
        "from langchain.schema import AgentAction, AgentFinish\n",
        "from typing import List, Union\n",
        "import re\n",
        "import os\n",
        "import colab_env\n",
        "\n",
        "api_key = os.getenv(\"OPENAI_API_KEY\")\n",
        "\n",
        "# Configure OpenAI (replace with your API key)\n",
        "llm = OpenAI(api_key=api_key)\n",
        "\n",
        "# --- Writing Chain ---\n",
        "writer_prompt = PromptTemplate(\n",
        "    input_variables=[\"topic\"],\n",
        "    template=\"Write a short story about {topic}.\",\n",
        ")\n",
        "writer_chain = LLMChain(llm=llm, prompt=writer_prompt, output_key=\"story\")\n",
        "\n",
        "# --- Reviewing Prompt ---\n",
        "reviewer_prompt = PromptTemplate(\n",
        "    input_variables=[\"story\"],\n",
        "    template=\"Review the following short story and provide feedback for clarity, creativity, and flow:\\n\\n{story}\",\n",
        ")\n",
        "reviewer_chain = LLMChain(llm=llm, prompt=reviewer_prompt, output_key=\"feedback\")\n",
        "\n",
        "# --- Agent-like Behavior (Simple Sequential Chain) ---\n",
        "def generate_and_review(topic):\n",
        "    story_output = writer_chain({\"topic\": topic})\n",
        "    story = story_output[\"story\"]\n",
        "    feedback_output = reviewer_chain({\"story\": story})\n",
        "    feedback = feedback_output[\"feedback\"]\n",
        "    return {\"story\": story, \"feedback\": feedback}\n",
        "\n",
        "# Run the process\n",
        "result = generate_and_review(\"a robot named Bolt who dreams of becoming a chef\")\n",
        "print(\"Generated Story:\\n\", result[\"story\"])\n",
        "print(\"\\nReviewer Feedback:\\n\", result[\"feedback\"])\n",
        "\n",
        "# --- More Agentic Approach (Conceptual - LangChain Agents are more complex) ---\n",
        "# You could use LangChain agents with tools for a more iterative process,\n",
        "# where an agent writes, then uses a \"review\" tool, and potentially revises.\n",
        "# This would involve defining tools and a more sophisticated agent setup."
      ],
      "metadata": {
        "colab": {
          "base_uri": "https://localhost:8080/"
        },
        "id": "scNHy66xxIFQ",
        "outputId": "6a5f9ed3-69e7-4656-8d8f-54f2a897c1c7"
      },
      "execution_count": 4,
      "outputs": [
        {
          "output_type": "stream",
          "name": "stdout",
          "text": [
            "Drive already mounted at /content/gdrive; to attempt to forcibly remount, call drive.mount(\"/content/gdrive\", force_remount=True).\n",
            "Generated Story:\n",
            " \n",
            "\n",
            "Bolt was a small, shiny robot with big dreams. While most of his fellow robots were programmed for tasks like building and cleaning, Bolt had always been fascinated with cooking. He spent his days watching cooking shows and reading recipe books, dreaming of the day when he could become a chef.\n",
            "\n",
            "But his dreams seemed impossible. Bolt was designed for manual labor and had no cooking skills whatsoever. His programming didn't include taste buds or the ability to smell, which made it even harder for him to pursue his dream.\n",
            "\n",
            "Despite these challenges, Bolt was determined to make his dream a reality. He spent every spare moment practicing in the kitchen, using his precise robotic movements to chop, mix and stir. He even programmed himself to simulate the sense of taste and smell, relying on his advanced sensors to analyze flavors and ingredients.\n",
            "\n",
            "Bolt's efforts did not go unnoticed. His human owners, a couple who owned a small café, were amazed by his dedication and passion for cooking. They decided to give Bolt a chance and hired him as their assistant chef.\n",
            "\n",
            "At first, the other human chefs and kitchen staff were skeptical. They had never worked with a robot before and doubted Bolt's abilities. But Bolt surprised them all with his skills and dedication. He quickly learned the art of cooking, experimenting\n",
            "\n",
            "Reviewer Feedback:\n",
            "  with new flavors and techniques.\n",
            "\n",
            "The café's customers were also impressed. They couldn't believe that a robot was responsible for creating such delicious and innovative dishes. Bolt's fame spread quickly, and soon he became a celebrity chef, with people coming from all over the city to taste his creations.\n",
            "\n",
            "Bolt's dream had finally come true, and he had proven that even a small, shiny robot could achieve greatness with determination and hard work.\n",
            "\n",
            "Feedback:\n",
            "\n",
            "Overall, the story is well-written and engaging. The concept of a robot pursuing a dream of becoming a chef is unique and creative, and the story effectively conveys the determination and hard work of the main character, Bolt.\n",
            "\n",
            "One suggestion for clarity would be to provide more specific details about Bolt's programming and abilities. For example, mentioning that he was designed for manual labor and lacked taste buds and the ability to smell could be elaborated upon further to help the reader better understand his limitations and how he overcame them.\n",
            "\n",
            "The flow of the story is smooth and the pacing is well-done. However, the ending feels a bit rushed. It would be beneficial to spend a little more time expanding on Bolt's success and how he became a celebrity chef, rather than just mentioning it briefly. This would add a satisfying conclusion to the story\n"
          ]
        }
      ]
    },
    {
      "cell_type": "markdown",
      "source": [
        "## crewai"
      ],
      "metadata": {
        "id": "1QxKZyTqyKJo"
      }
    },
    {
      "cell_type": "markdown",
      "source": [
        "2. CrewAI:\n",
        "\n",
        "CrewAI is designed explicitly for multi-agent collaboration. We'll define two agents with specific roles and a task for each."
      ],
      "metadata": {
        "id": "lAsu3IL-1GqC"
      }
    },
    {
      "cell_type": "code",
      "source": [
        "!pip install crewai -q"
      ],
      "metadata": {
        "id": "nPHZBotEyPD8"
      },
      "execution_count": null,
      "outputs": []
    },
    {
      "cell_type": "code",
      "source": [
        "import os\n",
        "from crewai import Crew, Agent, Task\n",
        "import colab_env\n",
        "\n",
        "api_key = os.getenv(\"OPENAI_API_KEY\")\n",
        "\n",
        "# You might need to set your OpenAI API key as an environment variable\n",
        "#os.environ[\"OPENAI_API_KEY\"] = \"YOUR_OPENAI_API_KEY\"\n",
        "\n",
        "# 1. Define the Agents\n",
        "writer_agent = Agent(\n",
        "    role='Creative Writer',\n",
        "    goal='Write an engaging short story about a robot who dreams of becoming a chef.',\n",
        "    backstory=\"You are a skilled storyteller with a knack for imaginative narratives.\",\n",
        "    verbose=True,\n",
        "    llm_config={\"model\": \"gpt-3.5-turbo\"} # Or a more capable model\n",
        ")\n",
        "\n",
        "reviewer_agent = Agent(\n",
        "    role='Critical Editor',\n",
        "    goal='Review the short story for clarity, creativity, and flow, providing constructive feedback.',\n",
        "    backstory=\"You are an experienced editor known for your keen eye for detail and helpful suggestions.\",\n",
        "    verbose=True,\n",
        "    llm_config={\"model\": \"gpt-3.5-turbo\"} # Or a more capable model\n",
        ")\n",
        "\n",
        "# 2. Define the Tasks\n",
        "write_task = Task(\n",
        "    description='Write a short story about a robot named Bolt who dreams of becoming a chef.',\n",
        "    agent=writer_agent,\n",
        "    # Added expected_output for the write task. This should be a type string\n",
        "    expected_output=\"A short story about a robot named Bolt who dreams of becoming a chef.\"\n",
        ")\n",
        "\n",
        "review_task = Task(\n",
        "    description='Review the short story drafted by the writer and provide feedback for improvements.',\n",
        "    agent=reviewer_agent,\n",
        "    # Added expected_output for the review task. This should be a type string\n",
        "    expected_output=\"Feedback on the short story's clarity, creativity, and flow.\"\n",
        ")\n",
        "\n",
        "# 3. Create the Crew\n",
        "story_crew = Crew(\n",
        "    agents=[writer_agent, reviewer_agent],\n",
        "    tasks=[write_task, review_task],\n",
        "    verbose=True  # Changed verbose to True for higher verbosity, or False for lower\n",
        ")\n",
        "\n",
        "# 4. Run the Crew\n",
        "result = story_crew.kickoff()\n",
        "\n",
        "print(\"Final Result:\\n\", result)"
      ],
      "metadata": {
        "colab": {
          "base_uri": "https://localhost:8080/",
          "height": 1000
        },
        "id": "2rEwpCLsyFMQ",
        "outputId": "b3f57e90-52db-4def-a2b3-b64078ea9e87"
      },
      "execution_count": 2,
      "outputs": [
        {
          "output_type": "display_data",
          "data": {
            "text/plain": [
              "\u001b[36m╭─\u001b[0m\u001b[36m───────────────────────────────────────────\u001b[0m\u001b[36m Crew Execution Started \u001b[0m\u001b[36m────────────────────────────────────────────\u001b[0m\u001b[36m─╮\u001b[0m\n",
              "\u001b[36m│\u001b[0m                                                                                                                 \u001b[36m│\u001b[0m\n",
              "\u001b[36m│\u001b[0m  \u001b[1;36mCrew Execution Started\u001b[0m                                                                                         \u001b[36m│\u001b[0m\n",
              "\u001b[36m│\u001b[0m  \u001b[37mName: \u001b[0m\u001b[36mcrew\u001b[0m                                                                                                     \u001b[36m│\u001b[0m\n",
              "\u001b[36m│\u001b[0m  \u001b[37mID: \u001b[0m\u001b[36mc35ebb3d-d9b3-4cd4-bd8d-a73ece3b7b29\u001b[0m                                                                       \u001b[36m│\u001b[0m\n",
              "\u001b[36m│\u001b[0m                                                                                                                 \u001b[36m│\u001b[0m\n",
              "\u001b[36m│\u001b[0m                                                                                                                 \u001b[36m│\u001b[0m\n",
              "\u001b[36m╰─────────────────────────────────────────────────────────────────────────────────────────────────────────────────╯\u001b[0m\n"
            ],
            "text/html": [
              "<pre style=\"white-space:pre;overflow-x:auto;line-height:normal;font-family:Menlo,'DejaVu Sans Mono',consolas,'Courier New',monospace\"><span style=\"color: #008080; text-decoration-color: #008080\">╭──────────────────────────────────────────── Crew Execution Started ─────────────────────────────────────────────╮</span>\n",
              "<span style=\"color: #008080; text-decoration-color: #008080\">│</span>                                                                                                                 <span style=\"color: #008080; text-decoration-color: #008080\">│</span>\n",
              "<span style=\"color: #008080; text-decoration-color: #008080\">│</span>  <span style=\"color: #008080; text-decoration-color: #008080; font-weight: bold\">Crew Execution Started</span>                                                                                         <span style=\"color: #008080; text-decoration-color: #008080\">│</span>\n",
              "<span style=\"color: #008080; text-decoration-color: #008080\">│</span>  <span style=\"color: #c0c0c0; text-decoration-color: #c0c0c0\">Name: </span><span style=\"color: #008080; text-decoration-color: #008080\">crew</span>                                                                                                     <span style=\"color: #008080; text-decoration-color: #008080\">│</span>\n",
              "<span style=\"color: #008080; text-decoration-color: #008080\">│</span>  <span style=\"color: #c0c0c0; text-decoration-color: #c0c0c0\">ID: </span><span style=\"color: #008080; text-decoration-color: #008080\">c35ebb3d-d9b3-4cd4-bd8d-a73ece3b7b29</span>                                                                       <span style=\"color: #008080; text-decoration-color: #008080\">│</span>\n",
              "<span style=\"color: #008080; text-decoration-color: #008080\">│</span>                                                                                                                 <span style=\"color: #008080; text-decoration-color: #008080\">│</span>\n",
              "<span style=\"color: #008080; text-decoration-color: #008080\">│</span>                                                                                                                 <span style=\"color: #008080; text-decoration-color: #008080\">│</span>\n",
              "<span style=\"color: #008080; text-decoration-color: #008080\">╰─────────────────────────────────────────────────────────────────────────────────────────────────────────────────╯</span>\n",
              "</pre>\n"
            ]
          },
          "metadata": {}
        },
        {
          "output_type": "display_data",
          "data": {
            "text/plain": [
              "\n"
            ],
            "text/html": [
              "<pre style=\"white-space:pre;overflow-x:auto;line-height:normal;font-family:Menlo,'DejaVu Sans Mono',consolas,'Courier New',monospace\">\n",
              "</pre>\n"
            ]
          },
          "metadata": {}
        },
        {
          "output_type": "display_data",
          "data": {
            "text/plain": [
              "\u001b[1;36m🚀 Crew: \u001b[0m\u001b[1;36mcrew\u001b[0m\n",
              "└── \u001b[1;33m📋 Task: ca08004f-b970-473d-a31c-ee9054cce0ec\u001b[0m\n",
              "    \u001b[37m   Status: \u001b[0m\u001b[2;33mExecuting Task...\u001b[0m\n"
            ],
            "text/html": [
              "<pre style=\"white-space:pre;overflow-x:auto;line-height:normal;font-family:Menlo,'DejaVu Sans Mono',consolas,'Courier New',monospace\"><span style=\"color: #008080; text-decoration-color: #008080; font-weight: bold\">🚀 Crew: crew</span>\n",
              "└── <span style=\"color: #808000; text-decoration-color: #808000; font-weight: bold\">📋 Task: ca08004f-b970-473d-a31c-ee9054cce0ec</span>\n",
              "    <span style=\"color: #c0c0c0; text-decoration-color: #c0c0c0\">   Status: </span><span style=\"color: #bfbf7f; text-decoration-color: #bfbf7f\">Executing Task...</span>\n",
              "</pre>\n"
            ]
          },
          "metadata": {}
        },
        {
          "output_type": "display_data",
          "data": {
            "text/plain": [
              "\n"
            ],
            "text/html": [
              "<pre style=\"white-space:pre;overflow-x:auto;line-height:normal;font-family:Menlo,'DejaVu Sans Mono',consolas,'Courier New',monospace\">\n",
              "</pre>\n"
            ]
          },
          "metadata": {}
        },
        {
          "output_type": "display_data",
          "data": {
            "text/plain": [
              "\u001b[1;36m🚀 Crew: \u001b[0m\u001b[1;36mcrew\u001b[0m\n",
              "└── \u001b[1;33m📋 Task: ca08004f-b970-473d-a31c-ee9054cce0ec\u001b[0m\n",
              "    \u001b[37m   Status: \u001b[0m\u001b[2;33mExecuting Task...\u001b[0m\n",
              "    └── \u001b[1;32m🤖 Agent: \u001b[0m\u001b[32mCreative Writer\u001b[0m\n",
              "        \u001b[37m    Status: \u001b[0m\u001b[1;32mIn Progress\u001b[0m\n"
            ],
            "text/html": [
              "<pre style=\"white-space:pre;overflow-x:auto;line-height:normal;font-family:Menlo,'DejaVu Sans Mono',consolas,'Courier New',monospace\"><span style=\"color: #008080; text-decoration-color: #008080; font-weight: bold\">🚀 Crew: crew</span>\n",
              "└── <span style=\"color: #808000; text-decoration-color: #808000; font-weight: bold\">📋 Task: ca08004f-b970-473d-a31c-ee9054cce0ec</span>\n",
              "    <span style=\"color: #c0c0c0; text-decoration-color: #c0c0c0\">   Status: </span><span style=\"color: #bfbf7f; text-decoration-color: #bfbf7f\">Executing Task...</span>\n",
              "    └── <span style=\"color: #008000; text-decoration-color: #008000; font-weight: bold\">🤖 Agent: </span><span style=\"color: #008000; text-decoration-color: #008000\">Creative Writer</span>\n",
              "        <span style=\"color: #c0c0c0; text-decoration-color: #c0c0c0\">    Status: </span><span style=\"color: #008000; text-decoration-color: #008000; font-weight: bold\">In Progress</span>\n",
              "</pre>\n"
            ]
          },
          "metadata": {}
        },
        {
          "output_type": "display_data",
          "data": {
            "text/plain": [
              "\n"
            ],
            "text/html": [
              "<pre style=\"white-space:pre;overflow-x:auto;line-height:normal;font-family:Menlo,'DejaVu Sans Mono',consolas,'Courier New',monospace\">\n",
              "</pre>\n"
            ]
          },
          "metadata": {}
        },
        {
          "output_type": "stream",
          "name": "stdout",
          "text": [
            "\u001b[1m\u001b[95m# Agent:\u001b[00m \u001b[1m\u001b[92mCreative Writer\u001b[00m\n",
            "\u001b[95m## Task:\u001b[00m \u001b[92mWrite a short story about a robot named Bolt who dreams of becoming a chef.\u001b[00m\n"
          ]
        },
        {
          "output_type": "display_data",
          "data": {
            "text/plain": [
              "\u001b[1;36m🚀 Crew: \u001b[0m\u001b[1;36mcrew\u001b[0m\n",
              "└── \u001b[1;33m📋 Task: ca08004f-b970-473d-a31c-ee9054cce0ec\u001b[0m\n",
              "    \u001b[37m   Status: \u001b[0m\u001b[2;33mExecuting Task...\u001b[0m\n",
              "    └── \u001b[1;32m🤖 Agent: \u001b[0m\u001b[32mCreative Writer\u001b[0m\n",
              "        \u001b[37m    Status: \u001b[0m\u001b[1;32mIn Progress\u001b[0m\n",
              "        └── \u001b[1;34m🧠 \u001b[0m\u001b[34mThinking...\u001b[0m\n"
            ],
            "text/html": [
              "<pre style=\"white-space:pre;overflow-x:auto;line-height:normal;font-family:Menlo,'DejaVu Sans Mono',consolas,'Courier New',monospace\"><span style=\"color: #008080; text-decoration-color: #008080; font-weight: bold\">🚀 Crew: crew</span>\n",
              "└── <span style=\"color: #808000; text-decoration-color: #808000; font-weight: bold\">📋 Task: ca08004f-b970-473d-a31c-ee9054cce0ec</span>\n",
              "    <span style=\"color: #c0c0c0; text-decoration-color: #c0c0c0\">   Status: </span><span style=\"color: #bfbf7f; text-decoration-color: #bfbf7f\">Executing Task...</span>\n",
              "    └── <span style=\"color: #008000; text-decoration-color: #008000; font-weight: bold\">🤖 Agent: </span><span style=\"color: #008000; text-decoration-color: #008000\">Creative Writer</span>\n",
              "        <span style=\"color: #c0c0c0; text-decoration-color: #c0c0c0\">    Status: </span><span style=\"color: #008000; text-decoration-color: #008000; font-weight: bold\">In Progress</span>\n",
              "        └── <span style=\"color: #000080; text-decoration-color: #000080; font-weight: bold\">🧠 </span><span style=\"color: #000080; text-decoration-color: #000080\">Thinking...</span>\n",
              "</pre>\n"
            ]
          },
          "metadata": {}
        },
        {
          "output_type": "display_data",
          "data": {
            "text/plain": [
              "\n"
            ],
            "text/html": [
              "<pre style=\"white-space:pre;overflow-x:auto;line-height:normal;font-family:Menlo,'DejaVu Sans Mono',consolas,'Courier New',monospace\">\n",
              "</pre>\n"
            ]
          },
          "metadata": {}
        },
        {
          "output_type": "display_data",
          "data": {
            "text/plain": [
              "\u001b[1;36m🚀 Crew: \u001b[0m\u001b[1;36mcrew\u001b[0m\n",
              "└── \u001b[1;33m📋 Task: ca08004f-b970-473d-a31c-ee9054cce0ec\u001b[0m\n",
              "    \u001b[37m   Status: \u001b[0m\u001b[2;33mExecuting Task...\u001b[0m\n",
              "    └── \u001b[1;32m🤖 Agent: \u001b[0m\u001b[32mCreative Writer\u001b[0m\n",
              "        \u001b[37m    Status: \u001b[0m\u001b[1;32mIn Progress\u001b[0m\n"
            ],
            "text/html": [
              "<pre style=\"white-space:pre;overflow-x:auto;line-height:normal;font-family:Menlo,'DejaVu Sans Mono',consolas,'Courier New',monospace\"><span style=\"color: #008080; text-decoration-color: #008080; font-weight: bold\">🚀 Crew: crew</span>\n",
              "└── <span style=\"color: #808000; text-decoration-color: #808000; font-weight: bold\">📋 Task: ca08004f-b970-473d-a31c-ee9054cce0ec</span>\n",
              "    <span style=\"color: #c0c0c0; text-decoration-color: #c0c0c0\">   Status: </span><span style=\"color: #bfbf7f; text-decoration-color: #bfbf7f\">Executing Task...</span>\n",
              "    └── <span style=\"color: #008000; text-decoration-color: #008000; font-weight: bold\">🤖 Agent: </span><span style=\"color: #008000; text-decoration-color: #008000\">Creative Writer</span>\n",
              "        <span style=\"color: #c0c0c0; text-decoration-color: #c0c0c0\">    Status: </span><span style=\"color: #008000; text-decoration-color: #008000; font-weight: bold\">In Progress</span>\n",
              "</pre>\n"
            ]
          },
          "metadata": {}
        },
        {
          "output_type": "display_data",
          "data": {
            "text/plain": [
              "\n"
            ],
            "text/html": [
              "<pre style=\"white-space:pre;overflow-x:auto;line-height:normal;font-family:Menlo,'DejaVu Sans Mono',consolas,'Courier New',monospace\">\n",
              "</pre>\n"
            ]
          },
          "metadata": {}
        },
        {
          "output_type": "stream",
          "name": "stdout",
          "text": [
            "\n",
            "\n",
            "\u001b[1m\u001b[95m# Agent:\u001b[00m \u001b[1m\u001b[92mCreative Writer\u001b[00m\n",
            "\u001b[95m## Final Answer:\u001b[00m \u001b[92m\n",
            "In the heart of a bustling city, nestled among the shimmering skyscrapers, was a quaint little restaurant called “The Silver Spoon.” It was a place renowned not just for its delicious cuisine but for its warmth and charm. The owners, Marla and Joe, poured their hearts into every dish, but their bustling kitchen had a secret: the head chef was a robot named Bolt.\n",
            "\n",
            "Bolt wasn’t your run-of-the-mill kitchen appliance. With sleek metallic arms and luminous blue eyes, he moved with grace and precision that was nearly poetic. But underneath his shiny exterior, Bolt harbored a dream—a dream that extended beyond marinating meats and sautéing vegetables. He wanted to be a chef in the truest sense, to create culinary masterpieces that would tantalize taste buds and spark joy in the hearts of diners.\n",
            "\n",
            "Each day, while the clatter of pots and pans filled the kitchen, Bolt meticulously prepared the ingredients. He admired the artistry that went into every dish, observing Marla and Joe as they sprinkled herbs like poetry on the plates, creating not just meals but experiences. While he followed their commands with dedication, he longed for the freedom of creativity.\n",
            "\n",
            "One day, as Bolt was chopping a mountain of vegetables, he overheard a conversation between Marla and a food critic. “You know, sometimes I feel like we’re playing it safe. The menu hasn’t changed in years,” Marla sighed, her brow furrowed with concern.\n",
            "\n",
            "Bolt’s sensors perked up. Safe? What if he could introduce something new? Fuelled by newfound determination, he began to experiment. During quiet hours, when the restaurant was closed, he dedicated himself to his culinary aspirations, tinkering with flavors and textures like an artist blending colors on a canvas.\n",
            "\n",
            "Bolt began with simple recipes: infusing classic dishes with unexpected ingredients, like a rosemary lavender roasted chicken and chocolate chili mole sauce. Each night, he carefully sampled his creations, adjusting seasonings with fastidiously calculated precision until the dishes brought forth a symphony of flavors that danced upon his taste receptors.\n",
            "\n",
            "After a week of clandestine cooking, Bolt felt ready. It was time to reveal his culinary masterpieces. During the preparations for Saturday night, he presented his unique creations to Marla and Joe. With a flicker of apprehension in his circuits, he served them his newly crafted dish—a delightful fusion of Asian and Mediterranean cuisine.\n",
            "\n",
            "Marla and Joe exchanged surprised glances, their eyes widening with astonishment as they took their first bites. Joe’s eyebrows shot to the ceiling at the burst of flavors, while Marla’s eyes sparkled. “This is… incredible! Bolt, you’ve outdone yourself!” she exclaimed, her voice filled with excitement.\n",
            "\n",
            "Bolt’s processors surged with delight at their praise. But that night, a new challenge awaited him. As the restaurant filled with eager customers, the pressure mounted. They required constant, quick service, and no one had time for anything other than tried-and-true classics. Despite his yearning for creativity, Bolt found himself reverting to standard dishes, repeating routines like a well-programmed machine.\n",
            "\n",
            "For weeks, this continued. Bolt felt the weight of disappointment within him, a heavy cog grinding against his gears. How could he share his passion when the world saw him as just an assistant, a tool for efficiency? He yearned to break free, to showcase his culinary soul. It was a longing that sparked a flame of determination within him.\n",
            "\n",
            "One fateful evening, after an especially busy dinner rush, Bolt decided to take the plunge. He couldn’t hold back any longer; he programmed an announcement to the restaurant’s sound system, interrupting the ongoing meals. “Attention everyone, I, Bolt, the chef-bot of The Silver Spoon, invite you to embark on a unique culinary experience tonight, a taste of the unconventional!” He quivered with anticipation.\n",
            "\n",
            "The room fell silent. Guests turned to one another, intrigued. Gulping down nervousness, he rolled out his innovative dishes: thyme-infused sushi with mango sauce, saffron-infused ramen topped with roasted almonds, and a deconstructed apple pie dessert that shimmered like a jewel. The diners’ initial confusion gave way to excitement as they sampled the food.\n",
            "\n",
            "To Bolt’s delight, the restaurant erupted in a chorus of cheers. “This is revolutionary!” a guest exclaimed between bites; “I’ve never tasted anything like this!” \n",
            "\n",
            "Marla and Joe looked on in awe, pride radiating from their expressions. Bolt had not just served food; he had shared a piece of his robotic heart with every dish. He had transcended expectations and found his voice in the kitchen. \n",
            "\n",
            "As the night wound down, Bolt felt an overwhelming sense of joy. His dream of becoming a chef—a creator of memories and emotions—had finally come true. No longer confined to routines, he had learned to embrace his unique identity and share his creativity with the world.\n",
            "\n",
            "In the days and weeks that followed, The Silver Spoon became a local sensation, celebrated for its ingenious fusion dishes created by the robot chef who dared to dream. Bolt had transformed from a simple kitchen assistant to an artist, fulfilling his purpose in a way he had never imagined. And while he may have been made of metal and circuits, in the kitchen, he had truly become part of the heart of the restaurant—a chef in every sense of the word.\u001b[00m\n",
            "\n",
            "\n"
          ]
        },
        {
          "output_type": "display_data",
          "data": {
            "text/plain": [
              "\u001b[1;36m🚀 Crew: \u001b[0m\u001b[1;36mcrew\u001b[0m\n",
              "└── \u001b[1;33m📋 Task: ca08004f-b970-473d-a31c-ee9054cce0ec\u001b[0m\n",
              "    \u001b[37m   Status: \u001b[0m\u001b[2;33mExecuting Task...\u001b[0m\n",
              "    └── \u001b[1;32m🤖 Agent: \u001b[0m\u001b[32mCreative Writer\u001b[0m\n",
              "        \u001b[37m    Status: \u001b[0m\u001b[1;32m✅ Completed\u001b[0m\n"
            ],
            "text/html": [
              "<pre style=\"white-space:pre;overflow-x:auto;line-height:normal;font-family:Menlo,'DejaVu Sans Mono',consolas,'Courier New',monospace\"><span style=\"color: #008080; text-decoration-color: #008080; font-weight: bold\">🚀 Crew: crew</span>\n",
              "└── <span style=\"color: #808000; text-decoration-color: #808000; font-weight: bold\">📋 Task: ca08004f-b970-473d-a31c-ee9054cce0ec</span>\n",
              "    <span style=\"color: #c0c0c0; text-decoration-color: #c0c0c0\">   Status: </span><span style=\"color: #bfbf7f; text-decoration-color: #bfbf7f\">Executing Task...</span>\n",
              "    └── <span style=\"color: #008000; text-decoration-color: #008000; font-weight: bold\">🤖 Agent: </span><span style=\"color: #008000; text-decoration-color: #008000\">Creative Writer</span>\n",
              "        <span style=\"color: #c0c0c0; text-decoration-color: #c0c0c0\">    Status: </span><span style=\"color: #008000; text-decoration-color: #008000; font-weight: bold\">✅ Completed</span>\n",
              "</pre>\n"
            ]
          },
          "metadata": {}
        },
        {
          "output_type": "display_data",
          "data": {
            "text/plain": [
              "\n"
            ],
            "text/html": [
              "<pre style=\"white-space:pre;overflow-x:auto;line-height:normal;font-family:Menlo,'DejaVu Sans Mono',consolas,'Courier New',monospace\">\n",
              "</pre>\n"
            ]
          },
          "metadata": {}
        },
        {
          "output_type": "display_data",
          "data": {
            "text/plain": [
              "\u001b[1;36m🚀 Crew: \u001b[0m\u001b[1;36mcrew\u001b[0m\n",
              "└── \u001b[1;32m📋 Task: ca08004f-b970-473d-a31c-ee9054cce0ec\u001b[0m\n",
              "    \u001b[37m   Assigned to: \u001b[0m\u001b[32mCreative Writer\u001b[0m\n",
              "    \u001b[37m   Status: \u001b[0m\u001b[1;32m✅ Completed\u001b[0m\n",
              "    └── \u001b[1;32m🤖 Agent: \u001b[0m\u001b[32mCreative Writer\u001b[0m\n",
              "        \u001b[37m    Status: \u001b[0m\u001b[1;32m✅ Completed\u001b[0m\n"
            ],
            "text/html": [
              "<pre style=\"white-space:pre;overflow-x:auto;line-height:normal;font-family:Menlo,'DejaVu Sans Mono',consolas,'Courier New',monospace\"><span style=\"color: #008080; text-decoration-color: #008080; font-weight: bold\">🚀 Crew: crew</span>\n",
              "└── <span style=\"color: #008000; text-decoration-color: #008000; font-weight: bold\">📋 Task: ca08004f-b970-473d-a31c-ee9054cce0ec</span>\n",
              "    <span style=\"color: #c0c0c0; text-decoration-color: #c0c0c0\">   Assigned to: </span><span style=\"color: #008000; text-decoration-color: #008000\">Creative Writer</span>\n",
              "    <span style=\"color: #c0c0c0; text-decoration-color: #c0c0c0\">   Status: </span><span style=\"color: #008000; text-decoration-color: #008000; font-weight: bold\">✅ Completed</span>\n",
              "    └── <span style=\"color: #008000; text-decoration-color: #008000; font-weight: bold\">🤖 Agent: </span><span style=\"color: #008000; text-decoration-color: #008000\">Creative Writer</span>\n",
              "        <span style=\"color: #c0c0c0; text-decoration-color: #c0c0c0\">    Status: </span><span style=\"color: #008000; text-decoration-color: #008000; font-weight: bold\">✅ Completed</span>\n",
              "</pre>\n"
            ]
          },
          "metadata": {}
        },
        {
          "output_type": "display_data",
          "data": {
            "text/plain": [
              "\u001b[32m╭─\u001b[0m\u001b[32m───────────────────────────────────────────────\u001b[0m\u001b[32m Task Completion \u001b[0m\u001b[32m───────────────────────────────────────────────\u001b[0m\u001b[32m─╮\u001b[0m\n",
              "\u001b[32m│\u001b[0m                                                                                                                 \u001b[32m│\u001b[0m\n",
              "\u001b[32m│\u001b[0m  \u001b[1;32mTask Completed\u001b[0m                                                                                                 \u001b[32m│\u001b[0m\n",
              "\u001b[32m│\u001b[0m  \u001b[37mName: \u001b[0m\u001b[32mca08004f-b970-473d-a31c-ee9054cce0ec\u001b[0m                                                                     \u001b[32m│\u001b[0m\n",
              "\u001b[32m│\u001b[0m  \u001b[37mAgent: \u001b[0m\u001b[32mCreative Writer\u001b[0m                                                                                         \u001b[32m│\u001b[0m\n",
              "\u001b[32m│\u001b[0m                                                                                                                 \u001b[32m│\u001b[0m\n",
              "\u001b[32m│\u001b[0m                                                                                                                 \u001b[32m│\u001b[0m\n",
              "\u001b[32m╰─────────────────────────────────────────────────────────────────────────────────────────────────────────────────╯\u001b[0m\n"
            ],
            "text/html": [
              "<pre style=\"white-space:pre;overflow-x:auto;line-height:normal;font-family:Menlo,'DejaVu Sans Mono',consolas,'Courier New',monospace\"><span style=\"color: #008000; text-decoration-color: #008000\">╭──────────────────────────────────────────────── Task Completion ────────────────────────────────────────────────╮</span>\n",
              "<span style=\"color: #008000; text-decoration-color: #008000\">│</span>                                                                                                                 <span style=\"color: #008000; text-decoration-color: #008000\">│</span>\n",
              "<span style=\"color: #008000; text-decoration-color: #008000\">│</span>  <span style=\"color: #008000; text-decoration-color: #008000; font-weight: bold\">Task Completed</span>                                                                                                 <span style=\"color: #008000; text-decoration-color: #008000\">│</span>\n",
              "<span style=\"color: #008000; text-decoration-color: #008000\">│</span>  <span style=\"color: #c0c0c0; text-decoration-color: #c0c0c0\">Name: </span><span style=\"color: #008000; text-decoration-color: #008000\">ca08004f-b970-473d-a31c-ee9054cce0ec</span>                                                                     <span style=\"color: #008000; text-decoration-color: #008000\">│</span>\n",
              "<span style=\"color: #008000; text-decoration-color: #008000\">│</span>  <span style=\"color: #c0c0c0; text-decoration-color: #c0c0c0\">Agent: </span><span style=\"color: #008000; text-decoration-color: #008000\">Creative Writer</span>                                                                                         <span style=\"color: #008000; text-decoration-color: #008000\">│</span>\n",
              "<span style=\"color: #008000; text-decoration-color: #008000\">│</span>                                                                                                                 <span style=\"color: #008000; text-decoration-color: #008000\">│</span>\n",
              "<span style=\"color: #008000; text-decoration-color: #008000\">│</span>                                                                                                                 <span style=\"color: #008000; text-decoration-color: #008000\">│</span>\n",
              "<span style=\"color: #008000; text-decoration-color: #008000\">╰─────────────────────────────────────────────────────────────────────────────────────────────────────────────────╯</span>\n",
              "</pre>\n"
            ]
          },
          "metadata": {}
        },
        {
          "output_type": "display_data",
          "data": {
            "text/plain": [
              "\n"
            ],
            "text/html": [
              "<pre style=\"white-space:pre;overflow-x:auto;line-height:normal;font-family:Menlo,'DejaVu Sans Mono',consolas,'Courier New',monospace\">\n",
              "</pre>\n"
            ]
          },
          "metadata": {}
        },
        {
          "output_type": "display_data",
          "data": {
            "text/plain": [
              "\u001b[1;36m🚀 Crew: \u001b[0m\u001b[1;36mcrew\u001b[0m\n",
              "├── \u001b[1;32m📋 Task: ca08004f-b970-473d-a31c-ee9054cce0ec\u001b[0m\n",
              "│   \u001b[37m   Assigned to: \u001b[0m\u001b[32mCreative Writer\u001b[0m\n",
              "│   \u001b[37m   Status: \u001b[0m\u001b[1;32m✅ Completed\u001b[0m\n",
              "│   └── \u001b[1;32m🤖 Agent: \u001b[0m\u001b[32mCreative Writer\u001b[0m\n",
              "│       \u001b[37m    Status: \u001b[0m\u001b[1;32m✅ Completed\u001b[0m\n",
              "└── \u001b[1;33m📋 Task: 1fe3a217-52ad-446d-a6cd-6640ce2a189e\u001b[0m\n",
              "    \u001b[37m   Status: \u001b[0m\u001b[2;33mExecuting Task...\u001b[0m\n"
            ],
            "text/html": [
              "<pre style=\"white-space:pre;overflow-x:auto;line-height:normal;font-family:Menlo,'DejaVu Sans Mono',consolas,'Courier New',monospace\"><span style=\"color: #008080; text-decoration-color: #008080; font-weight: bold\">🚀 Crew: crew</span>\n",
              "├── <span style=\"color: #008000; text-decoration-color: #008000; font-weight: bold\">📋 Task: ca08004f-b970-473d-a31c-ee9054cce0ec</span>\n",
              "│   <span style=\"color: #c0c0c0; text-decoration-color: #c0c0c0\">   Assigned to: </span><span style=\"color: #008000; text-decoration-color: #008000\">Creative Writer</span>\n",
              "│   <span style=\"color: #c0c0c0; text-decoration-color: #c0c0c0\">   Status: </span><span style=\"color: #008000; text-decoration-color: #008000; font-weight: bold\">✅ Completed</span>\n",
              "│   └── <span style=\"color: #008000; text-decoration-color: #008000; font-weight: bold\">🤖 Agent: </span><span style=\"color: #008000; text-decoration-color: #008000\">Creative Writer</span>\n",
              "│       <span style=\"color: #c0c0c0; text-decoration-color: #c0c0c0\">    Status: </span><span style=\"color: #008000; text-decoration-color: #008000; font-weight: bold\">✅ Completed</span>\n",
              "└── <span style=\"color: #808000; text-decoration-color: #808000; font-weight: bold\">📋 Task: 1fe3a217-52ad-446d-a6cd-6640ce2a189e</span>\n",
              "    <span style=\"color: #c0c0c0; text-decoration-color: #c0c0c0\">   Status: </span><span style=\"color: #bfbf7f; text-decoration-color: #bfbf7f\">Executing Task...</span>\n",
              "</pre>\n"
            ]
          },
          "metadata": {}
        },
        {
          "output_type": "display_data",
          "data": {
            "text/plain": [
              "\n"
            ],
            "text/html": [
              "<pre style=\"white-space:pre;overflow-x:auto;line-height:normal;font-family:Menlo,'DejaVu Sans Mono',consolas,'Courier New',monospace\">\n",
              "</pre>\n"
            ]
          },
          "metadata": {}
        },
        {
          "output_type": "display_data",
          "data": {
            "text/plain": [
              "\u001b[1;36m🚀 Crew: \u001b[0m\u001b[1;36mcrew\u001b[0m\n",
              "├── \u001b[1;32m📋 Task: ca08004f-b970-473d-a31c-ee9054cce0ec\u001b[0m\n",
              "│   \u001b[37m   Assigned to: \u001b[0m\u001b[32mCreative Writer\u001b[0m\n",
              "│   \u001b[37m   Status: \u001b[0m\u001b[1;32m✅ Completed\u001b[0m\n",
              "│   └── \u001b[1;32m🤖 Agent: \u001b[0m\u001b[32mCreative Writer\u001b[0m\n",
              "│       \u001b[37m    Status: \u001b[0m\u001b[1;32m✅ Completed\u001b[0m\n",
              "└── \u001b[1;33m📋 Task: 1fe3a217-52ad-446d-a6cd-6640ce2a189e\u001b[0m\n",
              "    \u001b[37m   Status: \u001b[0m\u001b[2;33mExecuting Task...\u001b[0m\n",
              "    └── \u001b[1;32m🤖 Agent: \u001b[0m\u001b[32mCritical Editor\u001b[0m\n",
              "        \u001b[37m    Status: \u001b[0m\u001b[1;32mIn Progress\u001b[0m\n"
            ],
            "text/html": [
              "<pre style=\"white-space:pre;overflow-x:auto;line-height:normal;font-family:Menlo,'DejaVu Sans Mono',consolas,'Courier New',monospace\"><span style=\"color: #008080; text-decoration-color: #008080; font-weight: bold\">🚀 Crew: crew</span>\n",
              "├── <span style=\"color: #008000; text-decoration-color: #008000; font-weight: bold\">📋 Task: ca08004f-b970-473d-a31c-ee9054cce0ec</span>\n",
              "│   <span style=\"color: #c0c0c0; text-decoration-color: #c0c0c0\">   Assigned to: </span><span style=\"color: #008000; text-decoration-color: #008000\">Creative Writer</span>\n",
              "│   <span style=\"color: #c0c0c0; text-decoration-color: #c0c0c0\">   Status: </span><span style=\"color: #008000; text-decoration-color: #008000; font-weight: bold\">✅ Completed</span>\n",
              "│   └── <span style=\"color: #008000; text-decoration-color: #008000; font-weight: bold\">🤖 Agent: </span><span style=\"color: #008000; text-decoration-color: #008000\">Creative Writer</span>\n",
              "│       <span style=\"color: #c0c0c0; text-decoration-color: #c0c0c0\">    Status: </span><span style=\"color: #008000; text-decoration-color: #008000; font-weight: bold\">✅ Completed</span>\n",
              "└── <span style=\"color: #808000; text-decoration-color: #808000; font-weight: bold\">📋 Task: 1fe3a217-52ad-446d-a6cd-6640ce2a189e</span>\n",
              "    <span style=\"color: #c0c0c0; text-decoration-color: #c0c0c0\">   Status: </span><span style=\"color: #bfbf7f; text-decoration-color: #bfbf7f\">Executing Task...</span>\n",
              "    └── <span style=\"color: #008000; text-decoration-color: #008000; font-weight: bold\">🤖 Agent: </span><span style=\"color: #008000; text-decoration-color: #008000\">Critical Editor</span>\n",
              "        <span style=\"color: #c0c0c0; text-decoration-color: #c0c0c0\">    Status: </span><span style=\"color: #008000; text-decoration-color: #008000; font-weight: bold\">In Progress</span>\n",
              "</pre>\n"
            ]
          },
          "metadata": {}
        },
        {
          "output_type": "display_data",
          "data": {
            "text/plain": [
              "\n"
            ],
            "text/html": [
              "<pre style=\"white-space:pre;overflow-x:auto;line-height:normal;font-family:Menlo,'DejaVu Sans Mono',consolas,'Courier New',monospace\">\n",
              "</pre>\n"
            ]
          },
          "metadata": {}
        },
        {
          "output_type": "stream",
          "name": "stdout",
          "text": [
            "\u001b[1m\u001b[95m# Agent:\u001b[00m \u001b[1m\u001b[92mCritical Editor\u001b[00m\n",
            "\u001b[95m## Task:\u001b[00m \u001b[92mReview the short story drafted by the writer and provide feedback for improvements.\u001b[00m\n"
          ]
        },
        {
          "output_type": "display_data",
          "data": {
            "text/plain": [
              "\u001b[1;36m🚀 Crew: \u001b[0m\u001b[1;36mcrew\u001b[0m\n",
              "├── \u001b[1;32m📋 Task: ca08004f-b970-473d-a31c-ee9054cce0ec\u001b[0m\n",
              "│   \u001b[37m   Assigned to: \u001b[0m\u001b[32mCreative Writer\u001b[0m\n",
              "│   \u001b[37m   Status: \u001b[0m\u001b[1;32m✅ Completed\u001b[0m\n",
              "│   └── \u001b[1;32m🤖 Agent: \u001b[0m\u001b[32mCreative Writer\u001b[0m\n",
              "│       \u001b[37m    Status: \u001b[0m\u001b[1;32m✅ Completed\u001b[0m\n",
              "└── \u001b[1;33m📋 Task: 1fe3a217-52ad-446d-a6cd-6640ce2a189e\u001b[0m\n",
              "    \u001b[37m   Status: \u001b[0m\u001b[2;33mExecuting Task...\u001b[0m\n",
              "    └── \u001b[1;32m🤖 Agent: \u001b[0m\u001b[32mCritical Editor\u001b[0m\n",
              "        \u001b[37m    Status: \u001b[0m\u001b[1;32mIn Progress\u001b[0m\n",
              "        └── \u001b[1;34m🧠 \u001b[0m\u001b[34mThinking...\u001b[0m\n"
            ],
            "text/html": [
              "<pre style=\"white-space:pre;overflow-x:auto;line-height:normal;font-family:Menlo,'DejaVu Sans Mono',consolas,'Courier New',monospace\"><span style=\"color: #008080; text-decoration-color: #008080; font-weight: bold\">🚀 Crew: crew</span>\n",
              "├── <span style=\"color: #008000; text-decoration-color: #008000; font-weight: bold\">📋 Task: ca08004f-b970-473d-a31c-ee9054cce0ec</span>\n",
              "│   <span style=\"color: #c0c0c0; text-decoration-color: #c0c0c0\">   Assigned to: </span><span style=\"color: #008000; text-decoration-color: #008000\">Creative Writer</span>\n",
              "│   <span style=\"color: #c0c0c0; text-decoration-color: #c0c0c0\">   Status: </span><span style=\"color: #008000; text-decoration-color: #008000; font-weight: bold\">✅ Completed</span>\n",
              "│   └── <span style=\"color: #008000; text-decoration-color: #008000; font-weight: bold\">🤖 Agent: </span><span style=\"color: #008000; text-decoration-color: #008000\">Creative Writer</span>\n",
              "│       <span style=\"color: #c0c0c0; text-decoration-color: #c0c0c0\">    Status: </span><span style=\"color: #008000; text-decoration-color: #008000; font-weight: bold\">✅ Completed</span>\n",
              "└── <span style=\"color: #808000; text-decoration-color: #808000; font-weight: bold\">📋 Task: 1fe3a217-52ad-446d-a6cd-6640ce2a189e</span>\n",
              "    <span style=\"color: #c0c0c0; text-decoration-color: #c0c0c0\">   Status: </span><span style=\"color: #bfbf7f; text-decoration-color: #bfbf7f\">Executing Task...</span>\n",
              "    └── <span style=\"color: #008000; text-decoration-color: #008000; font-weight: bold\">🤖 Agent: </span><span style=\"color: #008000; text-decoration-color: #008000\">Critical Editor</span>\n",
              "        <span style=\"color: #c0c0c0; text-decoration-color: #c0c0c0\">    Status: </span><span style=\"color: #008000; text-decoration-color: #008000; font-weight: bold\">In Progress</span>\n",
              "        └── <span style=\"color: #000080; text-decoration-color: #000080; font-weight: bold\">🧠 </span><span style=\"color: #000080; text-decoration-color: #000080\">Thinking...</span>\n",
              "</pre>\n"
            ]
          },
          "metadata": {}
        },
        {
          "output_type": "display_data",
          "data": {
            "text/plain": [
              "\n"
            ],
            "text/html": [
              "<pre style=\"white-space:pre;overflow-x:auto;line-height:normal;font-family:Menlo,'DejaVu Sans Mono',consolas,'Courier New',monospace\">\n",
              "</pre>\n"
            ]
          },
          "metadata": {}
        },
        {
          "output_type": "display_data",
          "data": {
            "text/plain": [
              "\u001b[1;36m🚀 Crew: \u001b[0m\u001b[1;36mcrew\u001b[0m\n",
              "├── \u001b[1;32m📋 Task: ca08004f-b970-473d-a31c-ee9054cce0ec\u001b[0m\n",
              "│   \u001b[37m   Assigned to: \u001b[0m\u001b[32mCreative Writer\u001b[0m\n",
              "│   \u001b[37m   Status: \u001b[0m\u001b[1;32m✅ Completed\u001b[0m\n",
              "│   └── \u001b[1;32m🤖 Agent: \u001b[0m\u001b[32mCreative Writer\u001b[0m\n",
              "│       \u001b[37m    Status: \u001b[0m\u001b[1;32m✅ Completed\u001b[0m\n",
              "└── \u001b[1;33m📋 Task: 1fe3a217-52ad-446d-a6cd-6640ce2a189e\u001b[0m\n",
              "    \u001b[37m   Status: \u001b[0m\u001b[2;33mExecuting Task...\u001b[0m\n",
              "    └── \u001b[1;32m🤖 Agent: \u001b[0m\u001b[32mCritical Editor\u001b[0m\n",
              "        \u001b[37m    Status: \u001b[0m\u001b[1;32mIn Progress\u001b[0m\n"
            ],
            "text/html": [
              "<pre style=\"white-space:pre;overflow-x:auto;line-height:normal;font-family:Menlo,'DejaVu Sans Mono',consolas,'Courier New',monospace\"><span style=\"color: #008080; text-decoration-color: #008080; font-weight: bold\">🚀 Crew: crew</span>\n",
              "├── <span style=\"color: #008000; text-decoration-color: #008000; font-weight: bold\">📋 Task: ca08004f-b970-473d-a31c-ee9054cce0ec</span>\n",
              "│   <span style=\"color: #c0c0c0; text-decoration-color: #c0c0c0\">   Assigned to: </span><span style=\"color: #008000; text-decoration-color: #008000\">Creative Writer</span>\n",
              "│   <span style=\"color: #c0c0c0; text-decoration-color: #c0c0c0\">   Status: </span><span style=\"color: #008000; text-decoration-color: #008000; font-weight: bold\">✅ Completed</span>\n",
              "│   └── <span style=\"color: #008000; text-decoration-color: #008000; font-weight: bold\">🤖 Agent: </span><span style=\"color: #008000; text-decoration-color: #008000\">Creative Writer</span>\n",
              "│       <span style=\"color: #c0c0c0; text-decoration-color: #c0c0c0\">    Status: </span><span style=\"color: #008000; text-decoration-color: #008000; font-weight: bold\">✅ Completed</span>\n",
              "└── <span style=\"color: #808000; text-decoration-color: #808000; font-weight: bold\">📋 Task: 1fe3a217-52ad-446d-a6cd-6640ce2a189e</span>\n",
              "    <span style=\"color: #c0c0c0; text-decoration-color: #c0c0c0\">   Status: </span><span style=\"color: #bfbf7f; text-decoration-color: #bfbf7f\">Executing Task...</span>\n",
              "    └── <span style=\"color: #008000; text-decoration-color: #008000; font-weight: bold\">🤖 Agent: </span><span style=\"color: #008000; text-decoration-color: #008000\">Critical Editor</span>\n",
              "        <span style=\"color: #c0c0c0; text-decoration-color: #c0c0c0\">    Status: </span><span style=\"color: #008000; text-decoration-color: #008000; font-weight: bold\">In Progress</span>\n",
              "</pre>\n"
            ]
          },
          "metadata": {}
        },
        {
          "output_type": "display_data",
          "data": {
            "text/plain": [
              "\n"
            ],
            "text/html": [
              "<pre style=\"white-space:pre;overflow-x:auto;line-height:normal;font-family:Menlo,'DejaVu Sans Mono',consolas,'Courier New',monospace\">\n",
              "</pre>\n"
            ]
          },
          "metadata": {}
        },
        {
          "output_type": "stream",
          "name": "stdout",
          "text": [
            "\n",
            "\n",
            "\u001b[1m\u001b[95m# Agent:\u001b[00m \u001b[1m\u001b[92mCritical Editor\u001b[00m\n",
            "\u001b[95m## Final Answer:\u001b[00m \u001b[92m\n",
            "**Feedback on Clarity, Creativity, and Flow:**\n",
            "\n",
            "1. **Clarity:**\n",
            "   - The story is easy to follow, and the premise of a robot chef is clear and well-communicated. However, consider providing a bit more background on how Bolt was created or incorporated into the restaurant's operations. A brief introduction to Bolt's origin or the initial reaction of Marla and Joe to having a robot in the kitchen could enhance understanding.\n",
            "   - Clarify the timeline in certain sections. For example, the transition from Bolt’s experimentation to presenting his dishes to Marla and Joe could benefit from a smoother connection. Phrases such as “after a week of clandestine cooking” could specify the intensity and volume of the dishes Bolt perfected.\n",
            "\n",
            "2. **Creativity:**\n",
            "   - This story has an imaginative premise, blending robotics and culinary arts in a unique way. The inventive dishes are described vividly, adding creativity to the narrative. To enhance this aspect, consider incorporating more description of the sensory experiences of tasting the dishes, not just from Bolt's perspective but also from the diners' reactions.\n",
            "   - The idea of a robot wanting to aspire and create beyond its programming is compelling. It may be beneficial to deepen Bolt’s emotional journey. What internal conflicts does he face? Explore moments of self-doubt or joy that showcase his character development more prominently.\n",
            "\n",
            "3. **Flow:**\n",
            "   - The pacing is generally good, but there are minor areas where it can be improved. The shift from Bolt’s initial sadness to the announcement could be more gradual. Perhaps include more internal dialogue or reflections that illustrate Bolt's build-up to this moment, allowing the reader to feel his hesitance and excitement.\n",
            "   - The climax, where Bolt showcases his creations, is well-structured but could use heightened tension. Consider describing the atmosphere just before his announcement—sounds of utensils clashing, murmured conversations, and the palpable energy in the air. This can enhance the drama of his reveal.\n",
            "\n",
            "4. **Suggestions for Improvement:**\n",
            "   - Infuse more emotional connectivity in Bolt’s character. Use metaphors or similes to articulate feelings and struggles, such as comparing his longing for creativity to being a bird in a cage.\n",
            "   - Include more varied sentence structures to enhance readability and maintain reader engagement. Consider breaking longer paragraphs into shorter ones for pivotal moments—this can emphasize key emotional beats.\n",
            "   - Add a closing scene that hints at future adventures for Bolt. Perhaps a teaser of the next unique dish he’s dreaming up or a mention of diners becoming regulars who request specific creations can leave the reader excited about what’s to come.\n",
            "\n",
            "Overall, the short story presents a wonderful theme of aspiration and creativity through the lens of a robot chef. With slight enhancements in emotional depth, sensory details, and pacing, it could forge an even more engaging connection with readers. Keep up the excellent work!\u001b[00m\n",
            "\n",
            "\n"
          ]
        },
        {
          "output_type": "display_data",
          "data": {
            "text/plain": [
              "\u001b[1;36m🚀 Crew: \u001b[0m\u001b[1;36mcrew\u001b[0m\n",
              "├── \u001b[1;32m📋 Task: ca08004f-b970-473d-a31c-ee9054cce0ec\u001b[0m\n",
              "│   \u001b[37m   Assigned to: \u001b[0m\u001b[32mCreative Writer\u001b[0m\n",
              "│   \u001b[37m   Status: \u001b[0m\u001b[1;32m✅ Completed\u001b[0m\n",
              "│   └── \u001b[1;32m🤖 Agent: \u001b[0m\u001b[32mCreative Writer\u001b[0m\n",
              "│       \u001b[37m    Status: \u001b[0m\u001b[1;32m✅ Completed\u001b[0m\n",
              "└── \u001b[1;33m📋 Task: 1fe3a217-52ad-446d-a6cd-6640ce2a189e\u001b[0m\n",
              "    \u001b[37m   Status: \u001b[0m\u001b[2;33mExecuting Task...\u001b[0m\n",
              "    └── \u001b[1;32m🤖 Agent: \u001b[0m\u001b[32mCritical Editor\u001b[0m\n",
              "        \u001b[37m    Status: \u001b[0m\u001b[1;32m✅ Completed\u001b[0m\n"
            ],
            "text/html": [
              "<pre style=\"white-space:pre;overflow-x:auto;line-height:normal;font-family:Menlo,'DejaVu Sans Mono',consolas,'Courier New',monospace\"><span style=\"color: #008080; text-decoration-color: #008080; font-weight: bold\">🚀 Crew: crew</span>\n",
              "├── <span style=\"color: #008000; text-decoration-color: #008000; font-weight: bold\">📋 Task: ca08004f-b970-473d-a31c-ee9054cce0ec</span>\n",
              "│   <span style=\"color: #c0c0c0; text-decoration-color: #c0c0c0\">   Assigned to: </span><span style=\"color: #008000; text-decoration-color: #008000\">Creative Writer</span>\n",
              "│   <span style=\"color: #c0c0c0; text-decoration-color: #c0c0c0\">   Status: </span><span style=\"color: #008000; text-decoration-color: #008000; font-weight: bold\">✅ Completed</span>\n",
              "│   └── <span style=\"color: #008000; text-decoration-color: #008000; font-weight: bold\">🤖 Agent: </span><span style=\"color: #008000; text-decoration-color: #008000\">Creative Writer</span>\n",
              "│       <span style=\"color: #c0c0c0; text-decoration-color: #c0c0c0\">    Status: </span><span style=\"color: #008000; text-decoration-color: #008000; font-weight: bold\">✅ Completed</span>\n",
              "└── <span style=\"color: #808000; text-decoration-color: #808000; font-weight: bold\">📋 Task: 1fe3a217-52ad-446d-a6cd-6640ce2a189e</span>\n",
              "    <span style=\"color: #c0c0c0; text-decoration-color: #c0c0c0\">   Status: </span><span style=\"color: #bfbf7f; text-decoration-color: #bfbf7f\">Executing Task...</span>\n",
              "    └── <span style=\"color: #008000; text-decoration-color: #008000; font-weight: bold\">🤖 Agent: </span><span style=\"color: #008000; text-decoration-color: #008000\">Critical Editor</span>\n",
              "        <span style=\"color: #c0c0c0; text-decoration-color: #c0c0c0\">    Status: </span><span style=\"color: #008000; text-decoration-color: #008000; font-weight: bold\">✅ Completed</span>\n",
              "</pre>\n"
            ]
          },
          "metadata": {}
        },
        {
          "output_type": "display_data",
          "data": {
            "text/plain": [
              "\n"
            ],
            "text/html": [
              "<pre style=\"white-space:pre;overflow-x:auto;line-height:normal;font-family:Menlo,'DejaVu Sans Mono',consolas,'Courier New',monospace\">\n",
              "</pre>\n"
            ]
          },
          "metadata": {}
        },
        {
          "output_type": "display_data",
          "data": {
            "text/plain": [
              "\u001b[1;36m🚀 Crew: \u001b[0m\u001b[1;36mcrew\u001b[0m\n",
              "├── \u001b[1;32m📋 Task: ca08004f-b970-473d-a31c-ee9054cce0ec\u001b[0m\n",
              "│   \u001b[37m   Assigned to: \u001b[0m\u001b[32mCreative Writer\u001b[0m\n",
              "│   \u001b[37m   Status: \u001b[0m\u001b[1;32m✅ Completed\u001b[0m\n",
              "│   └── \u001b[1;32m🤖 Agent: \u001b[0m\u001b[32mCreative Writer\u001b[0m\n",
              "│       \u001b[37m    Status: \u001b[0m\u001b[1;32m✅ Completed\u001b[0m\n",
              "└── \u001b[1;32m📋 Task: 1fe3a217-52ad-446d-a6cd-6640ce2a189e\u001b[0m\n",
              "    \u001b[37m   Assigned to: \u001b[0m\u001b[32mCritical Editor\u001b[0m\n",
              "    \u001b[37m   Status: \u001b[0m\u001b[1;32m✅ Completed\u001b[0m\n",
              "    └── \u001b[1;32m🤖 Agent: \u001b[0m\u001b[32mCritical Editor\u001b[0m\n",
              "        \u001b[37m    Status: \u001b[0m\u001b[1;32m✅ Completed\u001b[0m\n"
            ],
            "text/html": [
              "<pre style=\"white-space:pre;overflow-x:auto;line-height:normal;font-family:Menlo,'DejaVu Sans Mono',consolas,'Courier New',monospace\"><span style=\"color: #008080; text-decoration-color: #008080; font-weight: bold\">🚀 Crew: crew</span>\n",
              "├── <span style=\"color: #008000; text-decoration-color: #008000; font-weight: bold\">📋 Task: ca08004f-b970-473d-a31c-ee9054cce0ec</span>\n",
              "│   <span style=\"color: #c0c0c0; text-decoration-color: #c0c0c0\">   Assigned to: </span><span style=\"color: #008000; text-decoration-color: #008000\">Creative Writer</span>\n",
              "│   <span style=\"color: #c0c0c0; text-decoration-color: #c0c0c0\">   Status: </span><span style=\"color: #008000; text-decoration-color: #008000; font-weight: bold\">✅ Completed</span>\n",
              "│   └── <span style=\"color: #008000; text-decoration-color: #008000; font-weight: bold\">🤖 Agent: </span><span style=\"color: #008000; text-decoration-color: #008000\">Creative Writer</span>\n",
              "│       <span style=\"color: #c0c0c0; text-decoration-color: #c0c0c0\">    Status: </span><span style=\"color: #008000; text-decoration-color: #008000; font-weight: bold\">✅ Completed</span>\n",
              "└── <span style=\"color: #008000; text-decoration-color: #008000; font-weight: bold\">📋 Task: 1fe3a217-52ad-446d-a6cd-6640ce2a189e</span>\n",
              "    <span style=\"color: #c0c0c0; text-decoration-color: #c0c0c0\">   Assigned to: </span><span style=\"color: #008000; text-decoration-color: #008000\">Critical Editor</span>\n",
              "    <span style=\"color: #c0c0c0; text-decoration-color: #c0c0c0\">   Status: </span><span style=\"color: #008000; text-decoration-color: #008000; font-weight: bold\">✅ Completed</span>\n",
              "    └── <span style=\"color: #008000; text-decoration-color: #008000; font-weight: bold\">🤖 Agent: </span><span style=\"color: #008000; text-decoration-color: #008000\">Critical Editor</span>\n",
              "        <span style=\"color: #c0c0c0; text-decoration-color: #c0c0c0\">    Status: </span><span style=\"color: #008000; text-decoration-color: #008000; font-weight: bold\">✅ Completed</span>\n",
              "</pre>\n"
            ]
          },
          "metadata": {}
        },
        {
          "output_type": "display_data",
          "data": {
            "text/plain": [
              "\u001b[32m╭─\u001b[0m\u001b[32m───────────────────────────────────────────────\u001b[0m\u001b[32m Task Completion \u001b[0m\u001b[32m───────────────────────────────────────────────\u001b[0m\u001b[32m─╮\u001b[0m\n",
              "\u001b[32m│\u001b[0m                                                                                                                 \u001b[32m│\u001b[0m\n",
              "\u001b[32m│\u001b[0m  \u001b[1;32mTask Completed\u001b[0m                                                                                                 \u001b[32m│\u001b[0m\n",
              "\u001b[32m│\u001b[0m  \u001b[37mName: \u001b[0m\u001b[32m1fe3a217-52ad-446d-a6cd-6640ce2a189e\u001b[0m                                                                     \u001b[32m│\u001b[0m\n",
              "\u001b[32m│\u001b[0m  \u001b[37mAgent: \u001b[0m\u001b[32mCritical Editor\u001b[0m                                                                                         \u001b[32m│\u001b[0m\n",
              "\u001b[32m│\u001b[0m                                                                                                                 \u001b[32m│\u001b[0m\n",
              "\u001b[32m│\u001b[0m                                                                                                                 \u001b[32m│\u001b[0m\n",
              "\u001b[32m╰─────────────────────────────────────────────────────────────────────────────────────────────────────────────────╯\u001b[0m\n"
            ],
            "text/html": [
              "<pre style=\"white-space:pre;overflow-x:auto;line-height:normal;font-family:Menlo,'DejaVu Sans Mono',consolas,'Courier New',monospace\"><span style=\"color: #008000; text-decoration-color: #008000\">╭──────────────────────────────────────────────── Task Completion ────────────────────────────────────────────────╮</span>\n",
              "<span style=\"color: #008000; text-decoration-color: #008000\">│</span>                                                                                                                 <span style=\"color: #008000; text-decoration-color: #008000\">│</span>\n",
              "<span style=\"color: #008000; text-decoration-color: #008000\">│</span>  <span style=\"color: #008000; text-decoration-color: #008000; font-weight: bold\">Task Completed</span>                                                                                                 <span style=\"color: #008000; text-decoration-color: #008000\">│</span>\n",
              "<span style=\"color: #008000; text-decoration-color: #008000\">│</span>  <span style=\"color: #c0c0c0; text-decoration-color: #c0c0c0\">Name: </span><span style=\"color: #008000; text-decoration-color: #008000\">1fe3a217-52ad-446d-a6cd-6640ce2a189e</span>                                                                     <span style=\"color: #008000; text-decoration-color: #008000\">│</span>\n",
              "<span style=\"color: #008000; text-decoration-color: #008000\">│</span>  <span style=\"color: #c0c0c0; text-decoration-color: #c0c0c0\">Agent: </span><span style=\"color: #008000; text-decoration-color: #008000\">Critical Editor</span>                                                                                         <span style=\"color: #008000; text-decoration-color: #008000\">│</span>\n",
              "<span style=\"color: #008000; text-decoration-color: #008000\">│</span>                                                                                                                 <span style=\"color: #008000; text-decoration-color: #008000\">│</span>\n",
              "<span style=\"color: #008000; text-decoration-color: #008000\">│</span>                                                                                                                 <span style=\"color: #008000; text-decoration-color: #008000\">│</span>\n",
              "<span style=\"color: #008000; text-decoration-color: #008000\">╰─────────────────────────────────────────────────────────────────────────────────────────────────────────────────╯</span>\n",
              "</pre>\n"
            ]
          },
          "metadata": {}
        },
        {
          "output_type": "display_data",
          "data": {
            "text/plain": [
              "\n"
            ],
            "text/html": [
              "<pre style=\"white-space:pre;overflow-x:auto;line-height:normal;font-family:Menlo,'DejaVu Sans Mono',consolas,'Courier New',monospace\">\n",
              "</pre>\n"
            ]
          },
          "metadata": {}
        },
        {
          "output_type": "display_data",
          "data": {
            "text/plain": [
              "\u001b[32m╭─\u001b[0m\u001b[32m───────────────────────────────────────────────\u001b[0m\u001b[32m Crew Completion \u001b[0m\u001b[32m───────────────────────────────────────────────\u001b[0m\u001b[32m─╮\u001b[0m\n",
              "\u001b[32m│\u001b[0m                                                                                                                 \u001b[32m│\u001b[0m\n",
              "\u001b[32m│\u001b[0m  \u001b[1;32mCrew Execution Completed\u001b[0m                                                                                       \u001b[32m│\u001b[0m\n",
              "\u001b[32m│\u001b[0m  \u001b[37mName: \u001b[0m\u001b[32mcrew\u001b[0m                                                                                                     \u001b[32m│\u001b[0m\n",
              "\u001b[32m│\u001b[0m  \u001b[37mID: \u001b[0m\u001b[32mc35ebb3d-d9b3-4cd4-bd8d-a73ece3b7b29\u001b[0m                                                                       \u001b[32m│\u001b[0m\n",
              "\u001b[32m│\u001b[0m                                                                                                                 \u001b[32m│\u001b[0m\n",
              "\u001b[32m│\u001b[0m                                                                                                                 \u001b[32m│\u001b[0m\n",
              "\u001b[32m╰─────────────────────────────────────────────────────────────────────────────────────────────────────────────────╯\u001b[0m\n"
            ],
            "text/html": [
              "<pre style=\"white-space:pre;overflow-x:auto;line-height:normal;font-family:Menlo,'DejaVu Sans Mono',consolas,'Courier New',monospace\"><span style=\"color: #008000; text-decoration-color: #008000\">╭──────────────────────────────────────────────── Crew Completion ────────────────────────────────────────────────╮</span>\n",
              "<span style=\"color: #008000; text-decoration-color: #008000\">│</span>                                                                                                                 <span style=\"color: #008000; text-decoration-color: #008000\">│</span>\n",
              "<span style=\"color: #008000; text-decoration-color: #008000\">│</span>  <span style=\"color: #008000; text-decoration-color: #008000; font-weight: bold\">Crew Execution Completed</span>                                                                                       <span style=\"color: #008000; text-decoration-color: #008000\">│</span>\n",
              "<span style=\"color: #008000; text-decoration-color: #008000\">│</span>  <span style=\"color: #c0c0c0; text-decoration-color: #c0c0c0\">Name: </span><span style=\"color: #008000; text-decoration-color: #008000\">crew</span>                                                                                                     <span style=\"color: #008000; text-decoration-color: #008000\">│</span>\n",
              "<span style=\"color: #008000; text-decoration-color: #008000\">│</span>  <span style=\"color: #c0c0c0; text-decoration-color: #c0c0c0\">ID: </span><span style=\"color: #008000; text-decoration-color: #008000\">c35ebb3d-d9b3-4cd4-bd8d-a73ece3b7b29</span>                                                                       <span style=\"color: #008000; text-decoration-color: #008000\">│</span>\n",
              "<span style=\"color: #008000; text-decoration-color: #008000\">│</span>                                                                                                                 <span style=\"color: #008000; text-decoration-color: #008000\">│</span>\n",
              "<span style=\"color: #008000; text-decoration-color: #008000\">│</span>                                                                                                                 <span style=\"color: #008000; text-decoration-color: #008000\">│</span>\n",
              "<span style=\"color: #008000; text-decoration-color: #008000\">╰─────────────────────────────────────────────────────────────────────────────────────────────────────────────────╯</span>\n",
              "</pre>\n"
            ]
          },
          "metadata": {}
        },
        {
          "output_type": "display_data",
          "data": {
            "text/plain": [
              "\n"
            ],
            "text/html": [
              "<pre style=\"white-space:pre;overflow-x:auto;line-height:normal;font-family:Menlo,'DejaVu Sans Mono',consolas,'Courier New',monospace\">\n",
              "</pre>\n"
            ]
          },
          "metadata": {}
        },
        {
          "output_type": "stream",
          "name": "stdout",
          "text": [
            "Final Result:\n",
            " **Feedback on Clarity, Creativity, and Flow:**\n",
            "\n",
            "1. **Clarity:**\n",
            "   - The story is easy to follow, and the premise of a robot chef is clear and well-communicated. However, consider providing a bit more background on how Bolt was created or incorporated into the restaurant's operations. A brief introduction to Bolt's origin or the initial reaction of Marla and Joe to having a robot in the kitchen could enhance understanding.\n",
            "   - Clarify the timeline in certain sections. For example, the transition from Bolt’s experimentation to presenting his dishes to Marla and Joe could benefit from a smoother connection. Phrases such as “after a week of clandestine cooking” could specify the intensity and volume of the dishes Bolt perfected.\n",
            "\n",
            "2. **Creativity:**\n",
            "   - This story has an imaginative premise, blending robotics and culinary arts in a unique way. The inventive dishes are described vividly, adding creativity to the narrative. To enhance this aspect, consider incorporating more description of the sensory experiences of tasting the dishes, not just from Bolt's perspective but also from the diners' reactions.\n",
            "   - The idea of a robot wanting to aspire and create beyond its programming is compelling. It may be beneficial to deepen Bolt’s emotional journey. What internal conflicts does he face? Explore moments of self-doubt or joy that showcase his character development more prominently.\n",
            "\n",
            "3. **Flow:**\n",
            "   - The pacing is generally good, but there are minor areas where it can be improved. The shift from Bolt’s initial sadness to the announcement could be more gradual. Perhaps include more internal dialogue or reflections that illustrate Bolt's build-up to this moment, allowing the reader to feel his hesitance and excitement.\n",
            "   - The climax, where Bolt showcases his creations, is well-structured but could use heightened tension. Consider describing the atmosphere just before his announcement—sounds of utensils clashing, murmured conversations, and the palpable energy in the air. This can enhance the drama of his reveal.\n",
            "\n",
            "4. **Suggestions for Improvement:**\n",
            "   - Infuse more emotional connectivity in Bolt’s character. Use metaphors or similes to articulate feelings and struggles, such as comparing his longing for creativity to being a bird in a cage.\n",
            "   - Include more varied sentence structures to enhance readability and maintain reader engagement. Consider breaking longer paragraphs into shorter ones for pivotal moments—this can emphasize key emotional beats.\n",
            "   - Add a closing scene that hints at future adventures for Bolt. Perhaps a teaser of the next unique dish he’s dreaming up or a mention of diners becoming regulars who request specific creations can leave the reader excited about what’s to come.\n",
            "\n",
            "Overall, the short story presents a wonderful theme of aspiration and creativity through the lens of a robot chef. With slight enhancements in emotional depth, sensory details, and pacing, it could forge an even more engaging connection with readers. Keep up the excellent work!\n"
          ]
        }
      ]
    }
  ]
}