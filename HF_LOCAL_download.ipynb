{
  "nbformat": 4,
  "nbformat_minor": 0,
  "metadata": {
    "colab": {
      "provenance": [],
      "machine_shape": "hm",
      "gpuType": "L4",
      "authorship_tag": "ABX9TyPfF56FrHU1oDdYyjV2I4Bh",
      "include_colab_link": true
    },
    "kernelspec": {
      "name": "python3",
      "display_name": "Python 3"
    },
    "language_info": {
      "name": "python"
    },
    "accelerator": "GPU",
    "widgets": {
      "application/vnd.jupyter.widget-state+json": {
        "ed2933324b6543888b65be3017ec1125": {
          "model_module": "@jupyter-widgets/controls",
          "model_name": "HBoxModel",
          "model_module_version": "1.5.0",
          "state": {
            "_dom_classes": [],
            "_model_module": "@jupyter-widgets/controls",
            "_model_module_version": "1.5.0",
            "_model_name": "HBoxModel",
            "_view_count": null,
            "_view_module": "@jupyter-widgets/controls",
            "_view_module_version": "1.5.0",
            "_view_name": "HBoxView",
            "box_style": "",
            "children": [
              "IPY_MODEL_d2e6c999f102425eac1e9f4a67d429d0",
              "IPY_MODEL_5885b634769c45ecbf86a195673e643b",
              "IPY_MODEL_d84e8dc2abb248b494a79bf2467729ff"
            ],
            "layout": "IPY_MODEL_54ac3f826f4c4d318b86496323a98c3d"
          }
        },
        "d2e6c999f102425eac1e9f4a67d429d0": {
          "model_module": "@jupyter-widgets/controls",
          "model_name": "HTMLModel",
          "model_module_version": "1.5.0",
          "state": {
            "_dom_classes": [],
            "_model_module": "@jupyter-widgets/controls",
            "_model_module_version": "1.5.0",
            "_model_name": "HTMLModel",
            "_view_count": null,
            "_view_module": "@jupyter-widgets/controls",
            "_view_module_version": "1.5.0",
            "_view_name": "HTMLView",
            "description": "",
            "description_tooltip": null,
            "layout": "IPY_MODEL_d0c6837e34274146a9f8c48fb7402fdb",
            "placeholder": "​",
            "style": "IPY_MODEL_ceceb40854324666aa1fdd594fc5203e",
            "value": "Loading checkpoint shards: 100%"
          }
        },
        "5885b634769c45ecbf86a195673e643b": {
          "model_module": "@jupyter-widgets/controls",
          "model_name": "FloatProgressModel",
          "model_module_version": "1.5.0",
          "state": {
            "_dom_classes": [],
            "_model_module": "@jupyter-widgets/controls",
            "_model_module_version": "1.5.0",
            "_model_name": "FloatProgressModel",
            "_view_count": null,
            "_view_module": "@jupyter-widgets/controls",
            "_view_module_version": "1.5.0",
            "_view_name": "ProgressView",
            "bar_style": "success",
            "description": "",
            "description_tooltip": null,
            "layout": "IPY_MODEL_5854114b85b644ec81a1ad0ba7c1d6aa",
            "max": 2,
            "min": 0,
            "orientation": "horizontal",
            "style": "IPY_MODEL_dab88c01e7da4f4c947f90ad73440ad3",
            "value": 2
          }
        },
        "d84e8dc2abb248b494a79bf2467729ff": {
          "model_module": "@jupyter-widgets/controls",
          "model_name": "HTMLModel",
          "model_module_version": "1.5.0",
          "state": {
            "_dom_classes": [],
            "_model_module": "@jupyter-widgets/controls",
            "_model_module_version": "1.5.0",
            "_model_name": "HTMLModel",
            "_view_count": null,
            "_view_module": "@jupyter-widgets/controls",
            "_view_module_version": "1.5.0",
            "_view_name": "HTMLView",
            "description": "",
            "description_tooltip": null,
            "layout": "IPY_MODEL_13c4e2b3f160491191473e7324f5082e",
            "placeholder": "​",
            "style": "IPY_MODEL_7b86afc4d1024c84b56c07a840a0f58d",
            "value": " 2/2 [06:25&lt;00:00, 177.43s/it]"
          }
        },
        "54ac3f826f4c4d318b86496323a98c3d": {
          "model_module": "@jupyter-widgets/base",
          "model_name": "LayoutModel",
          "model_module_version": "1.2.0",
          "state": {
            "_model_module": "@jupyter-widgets/base",
            "_model_module_version": "1.2.0",
            "_model_name": "LayoutModel",
            "_view_count": null,
            "_view_module": "@jupyter-widgets/base",
            "_view_module_version": "1.2.0",
            "_view_name": "LayoutView",
            "align_content": null,
            "align_items": null,
            "align_self": null,
            "border": null,
            "bottom": null,
            "display": null,
            "flex": null,
            "flex_flow": null,
            "grid_area": null,
            "grid_auto_columns": null,
            "grid_auto_flow": null,
            "grid_auto_rows": null,
            "grid_column": null,
            "grid_gap": null,
            "grid_row": null,
            "grid_template_areas": null,
            "grid_template_columns": null,
            "grid_template_rows": null,
            "height": null,
            "justify_content": null,
            "justify_items": null,
            "left": null,
            "margin": null,
            "max_height": null,
            "max_width": null,
            "min_height": null,
            "min_width": null,
            "object_fit": null,
            "object_position": null,
            "order": null,
            "overflow": null,
            "overflow_x": null,
            "overflow_y": null,
            "padding": null,
            "right": null,
            "top": null,
            "visibility": null,
            "width": null
          }
        },
        "d0c6837e34274146a9f8c48fb7402fdb": {
          "model_module": "@jupyter-widgets/base",
          "model_name": "LayoutModel",
          "model_module_version": "1.2.0",
          "state": {
            "_model_module": "@jupyter-widgets/base",
            "_model_module_version": "1.2.0",
            "_model_name": "LayoutModel",
            "_view_count": null,
            "_view_module": "@jupyter-widgets/base",
            "_view_module_version": "1.2.0",
            "_view_name": "LayoutView",
            "align_content": null,
            "align_items": null,
            "align_self": null,
            "border": null,
            "bottom": null,
            "display": null,
            "flex": null,
            "flex_flow": null,
            "grid_area": null,
            "grid_auto_columns": null,
            "grid_auto_flow": null,
            "grid_auto_rows": null,
            "grid_column": null,
            "grid_gap": null,
            "grid_row": null,
            "grid_template_areas": null,
            "grid_template_columns": null,
            "grid_template_rows": null,
            "height": null,
            "justify_content": null,
            "justify_items": null,
            "left": null,
            "margin": null,
            "max_height": null,
            "max_width": null,
            "min_height": null,
            "min_width": null,
            "object_fit": null,
            "object_position": null,
            "order": null,
            "overflow": null,
            "overflow_x": null,
            "overflow_y": null,
            "padding": null,
            "right": null,
            "top": null,
            "visibility": null,
            "width": null
          }
        },
        "ceceb40854324666aa1fdd594fc5203e": {
          "model_module": "@jupyter-widgets/controls",
          "model_name": "DescriptionStyleModel",
          "model_module_version": "1.5.0",
          "state": {
            "_model_module": "@jupyter-widgets/controls",
            "_model_module_version": "1.5.0",
            "_model_name": "DescriptionStyleModel",
            "_view_count": null,
            "_view_module": "@jupyter-widgets/base",
            "_view_module_version": "1.2.0",
            "_view_name": "StyleView",
            "description_width": ""
          }
        },
        "5854114b85b644ec81a1ad0ba7c1d6aa": {
          "model_module": "@jupyter-widgets/base",
          "model_name": "LayoutModel",
          "model_module_version": "1.2.0",
          "state": {
            "_model_module": "@jupyter-widgets/base",
            "_model_module_version": "1.2.0",
            "_model_name": "LayoutModel",
            "_view_count": null,
            "_view_module": "@jupyter-widgets/base",
            "_view_module_version": "1.2.0",
            "_view_name": "LayoutView",
            "align_content": null,
            "align_items": null,
            "align_self": null,
            "border": null,
            "bottom": null,
            "display": null,
            "flex": null,
            "flex_flow": null,
            "grid_area": null,
            "grid_auto_columns": null,
            "grid_auto_flow": null,
            "grid_auto_rows": null,
            "grid_column": null,
            "grid_gap": null,
            "grid_row": null,
            "grid_template_areas": null,
            "grid_template_columns": null,
            "grid_template_rows": null,
            "height": null,
            "justify_content": null,
            "justify_items": null,
            "left": null,
            "margin": null,
            "max_height": null,
            "max_width": null,
            "min_height": null,
            "min_width": null,
            "object_fit": null,
            "object_position": null,
            "order": null,
            "overflow": null,
            "overflow_x": null,
            "overflow_y": null,
            "padding": null,
            "right": null,
            "top": null,
            "visibility": null,
            "width": null
          }
        },
        "dab88c01e7da4f4c947f90ad73440ad3": {
          "model_module": "@jupyter-widgets/controls",
          "model_name": "ProgressStyleModel",
          "model_module_version": "1.5.0",
          "state": {
            "_model_module": "@jupyter-widgets/controls",
            "_model_module_version": "1.5.0",
            "_model_name": "ProgressStyleModel",
            "_view_count": null,
            "_view_module": "@jupyter-widgets/base",
            "_view_module_version": "1.2.0",
            "_view_name": "StyleView",
            "bar_color": null,
            "description_width": ""
          }
        },
        "13c4e2b3f160491191473e7324f5082e": {
          "model_module": "@jupyter-widgets/base",
          "model_name": "LayoutModel",
          "model_module_version": "1.2.0",
          "state": {
            "_model_module": "@jupyter-widgets/base",
            "_model_module_version": "1.2.0",
            "_model_name": "LayoutModel",
            "_view_count": null,
            "_view_module": "@jupyter-widgets/base",
            "_view_module_version": "1.2.0",
            "_view_name": "LayoutView",
            "align_content": null,
            "align_items": null,
            "align_self": null,
            "border": null,
            "bottom": null,
            "display": null,
            "flex": null,
            "flex_flow": null,
            "grid_area": null,
            "grid_auto_columns": null,
            "grid_auto_flow": null,
            "grid_auto_rows": null,
            "grid_column": null,
            "grid_gap": null,
            "grid_row": null,
            "grid_template_areas": null,
            "grid_template_columns": null,
            "grid_template_rows": null,
            "height": null,
            "justify_content": null,
            "justify_items": null,
            "left": null,
            "margin": null,
            "max_height": null,
            "max_width": null,
            "min_height": null,
            "min_width": null,
            "object_fit": null,
            "object_position": null,
            "order": null,
            "overflow": null,
            "overflow_x": null,
            "overflow_y": null,
            "padding": null,
            "right": null,
            "top": null,
            "visibility": null,
            "width": null
          }
        },
        "7b86afc4d1024c84b56c07a840a0f58d": {
          "model_module": "@jupyter-widgets/controls",
          "model_name": "DescriptionStyleModel",
          "model_module_version": "1.5.0",
          "state": {
            "_model_module": "@jupyter-widgets/controls",
            "_model_module_version": "1.5.0",
            "_model_name": "DescriptionStyleModel",
            "_view_count": null,
            "_view_module": "@jupyter-widgets/base",
            "_view_module_version": "1.2.0",
            "_view_name": "StyleView",
            "description_width": ""
          }
        }
      }
    }
  },
  "cells": [
    {
      "cell_type": "markdown",
      "metadata": {
        "id": "view-in-github",
        "colab_type": "text"
      },
      "source": [
        "<a href=\"https://colab.research.google.com/github/frank-morales2020/MLxDL/blob/main/HF_LOCAL_download.ipynb\" target=\"_parent\"><img src=\"https://colab.research.google.com/assets/colab-badge.svg\" alt=\"Open In Colab\"/></a>"
      ]
    },
    {
      "cell_type": "code",
      "source": [
        "!nvidia-smi"
      ],
      "metadata": {
        "colab": {
          "base_uri": "https://localhost:8080/"
        },
        "id": "BNG1C3FoQT_t",
        "outputId": "da86516e-72b9-4c70-b713-271e467ae7c8"
      },
      "execution_count": 1,
      "outputs": [
        {
          "output_type": "stream",
          "name": "stdout",
          "text": [
            "Thu May 23 11:41:22 2024       \n",
            "+---------------------------------------------------------------------------------------+\n",
            "| NVIDIA-SMI 535.104.05             Driver Version: 535.104.05   CUDA Version: 12.2     |\n",
            "|-----------------------------------------+----------------------+----------------------+\n",
            "| GPU  Name                 Persistence-M | Bus-Id        Disp.A | Volatile Uncorr. ECC |\n",
            "| Fan  Temp   Perf          Pwr:Usage/Cap |         Memory-Usage | GPU-Util  Compute M. |\n",
            "|                                         |                      |               MIG M. |\n",
            "|=========================================+======================+======================|\n",
            "|   0  NVIDIA L4                      Off | 00000000:00:03.0 Off |                    0 |\n",
            "| N/A   45C    P8              11W /  72W |      1MiB / 23034MiB |      0%      Default |\n",
            "|                                         |                      |                  N/A |\n",
            "+-----------------------------------------+----------------------+----------------------+\n",
            "                                                                                         \n",
            "+---------------------------------------------------------------------------------------+\n",
            "| Processes:                                                                            |\n",
            "|  GPU   GI   CI        PID   Type   Process name                            GPU Memory |\n",
            "|        ID   ID                                                             Usage      |\n",
            "|=======================================================================================|\n",
            "|  No running processes found                                                           |\n",
            "+---------------------------------------------------------------------------------------+\n"
          ]
        }
      ]
    },
    {
      "cell_type": "code",
      "execution_count": 3,
      "metadata": {
        "id": "ROtWLWHkl4P7",
        "colab": {
          "base_uri": "https://localhost:8080/"
        },
        "outputId": "645fd2c9-7d14-408a-f473-6985713ec0dc"
      },
      "outputs": [
        {
          "output_type": "stream",
          "name": "stdout",
          "text": [
            "Mounted at /content/gdrive\n"
          ]
        }
      ],
      "source": [
        "from google.colab import drive\n",
        "\n",
        "drive.mount('/content/gdrive',readonly=False,force_remount=True)"
      ]
    },
    {
      "cell_type": "code",
      "source": [
        "%mkdir -p /content/gdrive/MyDrive/model\n",
        "%cd /content/gdrive/MyDrive/model"
      ],
      "metadata": {
        "id": "Rp89BKfFmVlf"
      },
      "execution_count": null,
      "outputs": []
    },
    {
      "cell_type": "code",
      "source": [
        "!git lfs install"
      ],
      "metadata": {
        "id": "MCkx3e7OuD9S"
      },
      "execution_count": null,
      "outputs": []
    },
    {
      "cell_type": "code",
      "source": [
        "#DONE\n",
        "#!git clone https://huggingface.co/mistralai/Mistral-7B-Instruct-v0.1"
      ],
      "metadata": {
        "colab": {
          "base_uri": "https://localhost:8080/"
        },
        "id": "_hK0mxPQmzSi",
        "outputId": "ab20d21c-d2e7-4549-8df3-4594279ac383"
      },
      "execution_count": null,
      "outputs": [
        {
          "output_type": "stream",
          "name": "stdout",
          "text": [
            "Cloning into 'Mistral-7B-Instruct-v0.1'...\n",
            "remote: Enumerating objects: 98, done.\u001b[K\n",
            "remote: Counting objects: 100% (94/94), done.\u001b[K\n",
            "remote: Compressing objects: 100% (94/94), done.\u001b[K\n",
            "remote: Total 98 (delta 48), reused 0 (delta 0), pack-reused 4\u001b[K\n",
            "Unpacking objects: 100% (98/98), 477.06 KiB | 282.00 KiB/s, done.\n",
            "Filtering content: 100% (5/5), 3.46 GiB | 1.87 MiB/s, done.\n",
            "fatal: cannot exec '/content/gdrive/MyDrive/model/Mistral-7B-Instruct-v0.1/.git/hooks/post-checkout': Permission denied\n",
            "Encountered 4 file(s) that may not have been copied correctly on Windows:\n",
            "\tpytorch_model-00002-of-00002.bin\n",
            "\tmodel-00002-of-00002.safetensors\n",
            "\tmodel-00001-of-00002.safetensors\n",
            "\tpytorch_model-00001-of-00002.bin\n",
            "\n",
            "See: `git lfs help smudge` for more details.\n"
          ]
        }
      ]
    },
    {
      "cell_type": "code",
      "source": [
        "## firts\n",
        "#!git clone https://huggingface.co/abacusai/Smaug-72B-v0.1\"\n",
        "\n",
        "### second\n",
        "#!git clone https://huggingface.co/mistralai/Mixtral-8x7B-Instruct-v0.1\n",
        "\n",
        "#152334H/miqu-1-70b-sf"
      ],
      "metadata": {
        "id": "ybtawC61uqdV"
      },
      "execution_count": null,
      "outputs": []
    },
    {
      "cell_type": "code",
      "source": [
        "!pip install bitsandbytes -q\n",
        "!pip install accelerate -q\n",
        "!pip install sentencepiece -q"
      ],
      "metadata": {
        "colab": {
          "base_uri": "https://localhost:8080/"
        },
        "id": "uv4Auls3wpOS",
        "outputId": "f9804e50-953e-4cd2-c354-8bee5105aaf8"
      },
      "execution_count": 2,
      "outputs": [
        {
          "output_type": "stream",
          "name": "stdout",
          "text": [
            "\u001b[2K     \u001b[90m━━━━━━━━━━━━━━━━━━━━━━━━━━━━━━━━━━━━━━━━\u001b[0m \u001b[32m119.8/119.8 MB\u001b[0m \u001b[31m13.1 MB/s\u001b[0m eta \u001b[36m0:00:00\u001b[0m\n",
            "\u001b[2K     \u001b[90m━━━━━━━━━━━━━━━━━━━━━━━━━━━━━━━━━━━━━━━━\u001b[0m \u001b[32m21.3/21.3 MB\u001b[0m \u001b[31m73.0 MB/s\u001b[0m eta \u001b[36m0:00:00\u001b[0m\n",
            "\u001b[2K     \u001b[90m━━━━━━━━━━━━━━━━━━━━━━━━━━━━━━━━━━━━━━━━\u001b[0m \u001b[32m302.6/302.6 kB\u001b[0m \u001b[31m7.5 MB/s\u001b[0m eta \u001b[36m0:00:00\u001b[0m\n",
            "\u001b[?25h"
          ]
        }
      ]
    },
    {
      "cell_type": "code",
      "source": [
        "import torch\n",
        "from transformers import AutoTokenizer, AutoModelForCausalLM, BitsAndBytesConfig\n",
        "#from transformers import FalconForCausalLM\n",
        "from transformers import pipeline"
      ],
      "metadata": {
        "id": "IEIlcuJ0qMr_"
      },
      "execution_count": 4,
      "outputs": []
    },
    {
      "cell_type": "code",
      "source": [
        "# BitsAndBytesConfig int-4 config\n",
        "bnb_config = BitsAndBytesConfig(\n",
        "    load_in_4bit=True, bnb_4bit_use_double_quant=True, bnb_4bit_quant_type=\"nf4\", bnb_4bit_compute_dtype=torch.bfloat16\n",
        ")\n",
        "\n",
        "from transformers import AutoConfig"
      ],
      "metadata": {
        "id": "AfA3OakgwNyG"
      },
      "execution_count": 5,
      "outputs": []
    },
    {
      "source": [
        "from transformers import AutoModelForCausalLM\n",
        "\n",
        "model_id = '/content/gdrive/MyDrive/model/Mistral-7B-Instruct-v0.1'\n",
        "\n",
        "model = AutoModelForCausalLM.from_pretrained(\n",
        "    model_id,\n",
        "    device_map=\"auto\",\n",
        "    #attn_implementation=\"flash_attention_2\",\n",
        "    torch_dtype=torch.bfloat16,\n",
        "    quantization_config=bnb_config\n",
        ")\n"
      ],
      "cell_type": "code",
      "metadata": {
        "colab": {
          "base_uri": "https://localhost:8080/",
          "height": 49,
          "referenced_widgets": [
            "ed2933324b6543888b65be3017ec1125",
            "d2e6c999f102425eac1e9f4a67d429d0",
            "5885b634769c45ecbf86a195673e643b",
            "d84e8dc2abb248b494a79bf2467729ff",
            "54ac3f826f4c4d318b86496323a98c3d",
            "d0c6837e34274146a9f8c48fb7402fdb",
            "ceceb40854324666aa1fdd594fc5203e",
            "5854114b85b644ec81a1ad0ba7c1d6aa",
            "dab88c01e7da4f4c947f90ad73440ad3",
            "13c4e2b3f160491191473e7324f5082e",
            "7b86afc4d1024c84b56c07a840a0f58d"
          ]
        },
        "id": "hHbQFdp3qx9J",
        "outputId": "b3e65376-f18e-4e41-f020-39908e915a22"
      },
      "execution_count": 6,
      "outputs": [
        {
          "output_type": "display_data",
          "data": {
            "text/plain": [
              "Loading checkpoint shards:   0%|          | 0/2 [00:00<?, ?it/s]"
            ],
            "application/vnd.jupyter.widget-view+json": {
              "version_major": 2,
              "version_minor": 0,
              "model_id": "ed2933324b6543888b65be3017ec1125"
            }
          },
          "metadata": {}
        }
      ]
    },
    {
      "cell_type": "code",
      "source": [
        "tokenizer = AutoTokenizer.from_pretrained(model_id)\n",
        "\n",
        "# load into pipeline\n",
        "pipe = pipeline(\"text-generation\", model=model, tokenizer=tokenizer)"
      ],
      "metadata": {
        "id": "DPhG1wEsocjr"
      },
      "execution_count": 7,
      "outputs": []
    },
    {
      "cell_type": "code",
      "source": [
        "prompt=\"What was the first album Beyoncé released as a solo artist?\"\n",
        "#prompt=\"What is the capital of Russia?\"\n",
        "\n",
        "prompt=\"Can you explain the concepts of Quantum Computing?\"\n",
        "prompt = f\"Instruct: Answer the following question.\\n{prompt}\"\n",
        "\n",
        "#prompt = f\"Instruct: Answer the following question.\\n{prompt}\\nOutput:\\n\" # for dataset_squad2"
      ],
      "metadata": {
        "id": "2n1lYDUJpNA9"
      },
      "execution_count": 10,
      "outputs": []
    },
    {
      "cell_type": "code",
      "source": [
        "def get_answer(prompt):\n",
        "  outputs = pipe(prompt, max_new_tokens=512, temperature=0.8, do_sample=True, top_k=50, eos_token_id=pipe.tokenizer.eos_token_id, pad_token_id=pipe.tokenizer.eos_token_id)\n",
        "  return outputs"
      ],
      "metadata": {
        "id": "PHl5Fpni0ZI1"
      },
      "execution_count": 20,
      "outputs": []
    },
    {
      "cell_type": "code",
      "source": [
        "%%time\n",
        "prompt = \"I bought a computer for $900, sold it for $1200, repurchased it for $1300, and sold it again for $1600. how much did I earn? Take in consideration the money for the repurchased too.\"\n",
        "outputs = get_answer(prompt)"
      ],
      "metadata": {
        "colab": {
          "base_uri": "https://localhost:8080/"
        },
        "id": "78seJWMc1ic0",
        "outputId": "2af8589a-0fa0-4a52-97f5-aa5fb0d2e0a1"
      },
      "execution_count": 35,
      "outputs": [
        {
          "output_type": "stream",
          "name": "stdout",
          "text": [
            "CPU times: user 39 s, sys: 0 ns, total: 39 s\n",
            "Wall time: 39 s\n"
          ]
        }
      ]
    },
    {
      "cell_type": "code",
      "source": [
        "print('Question: %s'%prompt)\n",
        "print()\n",
        "#print('Answer: %s \\nOutput:\\n'%outputs[0]['generated_text'])\n",
        "print(f\"Generated Answer:\\n{outputs[0]['generated_text'][len(prompt):].strip()}\")"
      ],
      "metadata": {
        "colab": {
          "base_uri": "https://localhost:8080/"
        },
        "id": "nk72zcDf2df_",
        "outputId": "b2cc344e-f8ea-43a5-a84b-d77f49b8e5c4"
      },
      "execution_count": 36,
      "outputs": [
        {
          "output_type": "stream",
          "name": "stdout",
          "text": [
            "Question: I bought a computer for $900, sold it for $1200, repurchased it for $1300, and sold it again for $1600. how much did I earn? Take in consideration the money for the repurchased too.\n",
            "\n",
            "Generated Answer:\n",
            "Comment: You earned $500. That's $1600 minus $1200.\n",
            "\n",
            "Comment: @JohnWoo: or $1600-1300.\n",
            "\n",
            "## Answer (7)\n",
            "\n",
            "You earned $300.\n",
            "\n",
            "Here's how to calculate that:\n",
            "\n",
            "1. First, you bought the computer for $900.\n",
            "2. Next you sold it for $1200.\n",
            "3. Finally you bought it back for $1300, so you made a net loss of $300.\n",
            "\n",
            "Your question asks how much you earned.\n",
            "\n",
            "Comment: Yes, I'm not sure if I should have worded it differently, but in my mind it was not lost, but rather a mistake on my end.\n",
            "\n",
            "## Answer (2)\n",
            "\n",
            "You made $500 net profit.\n",
            "\n",
            "Here's how to calculate that:\n",
            "\n",
            "1. First you bought the computer for $900.\n",
            "2. Next you sold it for $1200 (earning $300).\n",
            "3. Then you bought it back for $1300 (incurring a loss of $300).\n",
            "4. Adding all of the above shows you made a net profit of $500 ($300 earned - $300 loss).\n",
            "\n",
            "## Answer (0)\n",
            "\n",
            "You made $300 net profit.\n",
            "\n",
            "Started by selling the computer for $1200 and bought it back for $1300, resulting in a net loss of $300.\n",
            "\n",
            "Next you sold the computer again for $1600, resulting in a net profit of $400.\n",
            "\n",
            "You can now subtract the net loss of $300 from the net profit of $400, resulting in a net profit of $100.\n",
            "\n",
            "## Answer (0)\n",
            "\n",
            "You made a net profit of $500.\n",
            "\n",
            "You bought the computer for $900, sold it for $1200, bought it back for $1300, sold it again for $1600.\n",
            "\n",
            "You earned $1200 - $900 = $300 on the sale of the computer.\n",
            "\n",
            "You incurred a loss of\n"
          ]
        }
      ]
    },
    {
      "cell_type": "code",
      "source": [
        "%%time\n",
        "prompt = \"I bought an ice cream for 6 kids. Each cone was $1.25 and I paid with a $10 bill. How many dollars did I get back? Explain first before answering.\"\n",
        "outputs = get_answer(prompt)"
      ],
      "metadata": {
        "colab": {
          "base_uri": "https://localhost:8080/"
        },
        "id": "EmrD4ivI2FQP",
        "outputId": "a980cc5b-59ea-4b1e-a4e1-0bdb387cd038"
      },
      "execution_count": 32,
      "outputs": [
        {
          "output_type": "stream",
          "name": "stdout",
          "text": [
            "CPU times: user 6.32 s, sys: 0 ns, total: 6.32 s\n",
            "Wall time: 6.31 s\n"
          ]
        }
      ]
    },
    {
      "cell_type": "code",
      "source": [
        "print('Question: %s'%prompt)\n",
        "print()\n",
        "#print('Answer: %s \\nOutput:\\n'%outputs[0]['generated_text'])\n",
        "print(f\"Generated Answer:\\n{outputs[0]['generated_text'][len(prompt):].strip()}\")"
      ],
      "metadata": {
        "colab": {
          "base_uri": "https://localhost:8080/"
        },
        "id": "8_C1HoXRpUdR",
        "outputId": "b8df8f3c-7c98-4b6f-90e4-abb53dd7ee11"
      },
      "execution_count": 33,
      "outputs": [
        {
          "output_type": "stream",
          "name": "stdout",
          "text": [
            "Question: I bought an ice cream for 6 kids. Each cone was $1.25 and I paid with a $10 bill. How many dollars did I get back? Explain first before answering.\n",
            "\n",
            "Generated Answer:\n",
            "## Answer (1)\n",
            "\n",
            "When you bought each ice cream cone, you paid $1.25 per cone. The total cost of the 6 ice creams was $7.50.\n",
            "\n",
            "To answer your question, you paid $10 and you got back $7.50.\n",
            "\n",
            "Therefore, the answer is $2.50.\n"
          ]
        }
      ]
    }
  ]
}