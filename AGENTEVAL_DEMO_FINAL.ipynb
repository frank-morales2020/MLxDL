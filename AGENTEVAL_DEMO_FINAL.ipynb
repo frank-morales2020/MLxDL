{
  "nbformat": 4,
  "nbformat_minor": 0,
  "metadata": {
    "colab": {
      "provenance": [],
      "machine_shape": "hm",
      "gpuType": "L4",
      "authorship_tag": "ABX9TyMX7Lzh+tOMhCYRyGLtF4Mx",
      "include_colab_link": true
    },
    "kernelspec": {
      "name": "python3",
      "display_name": "Python 3"
    },
    "language_info": {
      "name": "python"
    },
    "accelerator": "GPU"
  },
  "cells": [
    {
      "cell_type": "markdown",
      "metadata": {
        "id": "view-in-github",
        "colab_type": "text"
      },
      "source": [
        "<a href=\"https://colab.research.google.com/github/frank-morales2020/MLxDL/blob/main/AGENTEVAL_DEMO_FINAL.ipynb\" target=\"_parent\"><img src=\"https://colab.research.google.com/assets/colab-badge.svg\" alt=\"Open In Colab\"/></a>"
      ]
    },
    {
      "cell_type": "code",
      "execution_count": null,
      "metadata": {
        "id": "f7qKs400ihba"
      },
      "outputs": [],
      "source": [
        "!pip install peft -q\n",
        "!pip install bitsandbytes -q\n",
        "!pip install transformers -q\n",
        "!pip install sentence-transformers -q\n",
        "!pip install datasets -q\n",
        "!pip install tqdm -q\n",
        "\n",
        "!pip install colab-env -q\n",
        "import colab_env"
      ]
    },
    {
      "cell_type": "code",
      "source": [
        "import torch\n",
        "from peft import AutoPeftModelForCausalLM\n",
        "from transformers import AutoTokenizer, pipeline\n",
        "from datasets import load_dataset\n",
        "from tqdm import tqdm\n",
        "from sentence_transformers import SentenceTransformer, util\n",
        "\n",
        "# Load a pre-trained sentence transformer model\n",
        "embedding_model = SentenceTransformer('all-mpnet-base-v2')"
      ],
      "metadata": {
        "id": "jCzo0yFdkLUm"
      },
      "execution_count": 2,
      "outputs": []
    },
    {
      "cell_type": "code",
      "source": [
        "class EvaluationAgent:\n",
        "    def __init__(self, model_id, eval_dataset, number_of_eval_samples):\n",
        "        self.model_id = model_id\n",
        "        self.eval_dataset = eval_dataset\n",
        "        self.device = torch.device(\"cuda\" if torch.cuda.is_available() else \"cpu\")\n",
        "\n",
        "         # 1. Load Tokenizer first\n",
        "        self.tokenizer = AutoTokenizer.from_pretrained(model_id) # Initialize tokenizer here\n",
        "\n",
        "        self.number_of_eval_samples=number_of_eval_samples\n",
        "\n",
        "        # 2. Then Load Model (using AutoPeftModelForCausalLM)\n",
        "        self.model = AutoPeftModelForCausalLM.from_pretrained(\n",
        "            model_id,\n",
        "            device_map=\"cuda\",\n",
        "            torch_dtype=torch.float16,\n",
        "        )\n",
        "\n",
        "        # load into pipeline\n",
        "        self.pipe = pipeline(\"text-generation\", model=self.model, tokenizer=self.tokenizer)\n",
        "\n",
        "    def evaluate(self, sample):\n",
        "        prompt =  self.pipe.tokenizer.apply_chat_template(sample[\"messages\"][:2], tokenize=False, add_generation_prompt=True)\n",
        "        outputs = self.pipe(prompt, max_new_tokens=256, do_sample=True, temperature=0.7, top_k=50, top_p=0.95, eos_token_id=self.pipe.tokenizer.eos_token_id, pad_token_id=self.pipe.tokenizer.pad_token_id)\n",
        "        predicted_answer = outputs[0]['generated_text'][len(prompt):].strip()\n",
        "\n",
        "        # Generate embeddings using the embedding_model\n",
        "        embedding1 = embedding_model.encode(predicted_answer, convert_to_tensor=True)\n",
        "        embedding2 = embedding_model.encode(sample[\"messages\"][2][\"content\"], convert_to_tensor=True)\n",
        "\n",
        "\n",
        "        #print(f\"Query:\\n{sample['messages'][1]['content']}\")\n",
        "        #print(f\"Original Answer:\\n{sample['messages'][2]['content']}\")\n",
        "        #print(f\"Generated Answer:\\n{predicted_answer}\")\n",
        "\n",
        "        # Calculate cosine similarity\n",
        "        cosine_similarity = util.cos_sim(embedding1, embedding2).item()\n",
        "\n",
        "        # Define a threshold for semantic similarity (e.g., 0.8)\n",
        "        threshold = 0.8\n",
        "\n",
        "        # Check if similarity is above the threshold\n",
        "        if cosine_similarity >= threshold:\n",
        "            return 1  # Semantically similar\n",
        "        else:\n",
        "            return 0  # Semantically dissimilar\n",
        "\n",
        "\n",
        "    def evaluation_loop(self):\n",
        "        success_rate = []\n",
        "        number_of_eval_samples = self.number_of_eval_samples\n",
        "        # iterate over eval dataset and predict\n",
        "        for s in tqdm(eval_dataset.shuffle().select(range(number_of_eval_samples))):\n",
        "            success_rate.append(self.evaluate(s))\n",
        "\n",
        "        # compute accuracy\n",
        "        accuracy = sum(success_rate)/len(success_rate)\n",
        "\n",
        "        print('\\n')\n",
        "        #print(f\"Success rate: {success_rate}\")\n",
        "        print(f\"Accuracy: {accuracy*100:.2f}%\")"
      ],
      "metadata": {
        "id": "4PpR7IgEi4cd"
      },
      "execution_count": 3,
      "outputs": []
    },
    {
      "cell_type": "code",
      "source": [
        "from datasets import load_dataset\n",
        "\n",
        "\n",
        "# Convert dataset to OAI messages\n",
        "system_message = \"\"\"You are an text to SQL query translator. Users will ask you questions in English and you will generate a SQL query based on the provided SCHEMA.\n",
        "SCHEMA:\n",
        "{schema}\"\"\"\n",
        "\n",
        "def create_conversation(sample):\n",
        "  return {\n",
        "    \"messages\": [\n",
        "      {\"role\": \"system\", \"content\": system_message.format(schema=sample[\"context\"])},\n",
        "      {\"role\": \"user\", \"content\": sample[\"question\"]},\n",
        "      {\"role\": \"assistant\", \"content\": sample[\"answer\"]}\n",
        "    ]\n",
        "  }\n",
        "\n",
        "# Load dataset from the hub\n",
        "dataset = load_dataset(\"b-mc2/sql-create-context\", split=\"train\")\n",
        "dataset = dataset.shuffle().select(range(12500))\n",
        "\n",
        "# Convert dataset to OAI messages\n",
        "dataset = dataset.map(create_conversation, remove_columns=dataset.features,batched=False)\n",
        "\n",
        "# split dataset into 10,000 training samples and 2,500 test samples\n",
        "dataset = dataset.train_test_split(test_size=2500/12500)\n",
        "\n",
        "print(dataset[\"train\"][345][\"messages\"])\n",
        "\n",
        "# save datasets to disk\n",
        "dataset[\"test\"].to_json(\"test_dataset.json\", orient=\"records\")\n",
        "\n",
        "# Load our test dataset\n",
        "eval_dataset = load_dataset(\"json\", data_files=\"test_dataset.json\", split=\"train\")\n",
        "\n",
        "# Example usage\n",
        "#fine tune model\n",
        "initial_peft_model_id = \"/content/gdrive/MyDrive/model/Mistral-7B-text-to-sql-flash-attention-2\"\n",
        "#initial_peft_model_id = \"/content/gdrive/MyDrive/model/results-MODEL/checkpoint-1250\n",
        "\n",
        "number_of_eval_samples=5\n",
        "agenteval=EvaluationAgent(initial_peft_model_id,eval_dataset,number_of_eval_samples)"
      ],
      "metadata": {
        "id": "BkclQO3WjOa8"
      },
      "execution_count": null,
      "outputs": []
    },
    {
      "cell_type": "code",
      "source": [
        "agenteval.evaluation_loop()"
      ],
      "metadata": {
        "colab": {
          "base_uri": "https://localhost:8080/"
        },
        "id": "Zc4W1jZJn3yy",
        "outputId": "84c9ddf7-c41c-4c76-eb91-8a119850a560"
      },
      "execution_count": 5,
      "outputs": [
        {
          "output_type": "stream",
          "name": "stderr",
          "text": [
            "100%|██████████| 5/5 [00:14<00:00,  2.88s/it]"
          ]
        },
        {
          "output_type": "stream",
          "name": "stdout",
          "text": [
            "\n",
            "\n",
            "Accuracy: 100.00%\n"
          ]
        },
        {
          "output_type": "stream",
          "name": "stderr",
          "text": [
            "\n"
          ]
        }
      ]
    },
    {
      "cell_type": "code",
      "source": [],
      "metadata": {
        "id": "0jcCoy_0Jr5T"
      },
      "execution_count": null,
      "outputs": []
    },
    {
      "cell_type": "markdown",
      "source": [
        "NEW"
      ],
      "metadata": {
        "id": "Brf8B_nfGOnv"
      }
    }
  ]
}