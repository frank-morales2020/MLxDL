{
  "nbformat": 4,
  "nbformat_minor": 0,
  "metadata": {
    "colab": {
      "provenance": [],
      "machine_shape": "hm",
      "gpuType": "L4",
      "authorship_tag": "ABX9TyOfzPLWGpEmySqoxYI2cSP/",
      "include_colab_link": true
    },
    "kernelspec": {
      "name": "python3",
      "display_name": "Python 3"
    },
    "language_info": {
      "name": "python"
    },
    "accelerator": "GPU"
  },
  "cells": [
    {
      "cell_type": "markdown",
      "metadata": {
        "id": "view-in-github",
        "colab_type": "text"
      },
      "source": [
        "<a href=\"https://colab.research.google.com/github/frank-morales2020/MLxDL/blob/main/MYBERT_DEMO.ipynb\" target=\"_parent\"><img src=\"https://colab.research.google.com/assets/colab-badge.svg\" alt=\"Open In Colab\"/></a>"
      ]
    },
    {
      "cell_type": "code",
      "source": [
        "!nvidia-smi"
      ],
      "metadata": {
        "colab": {
          "base_uri": "https://localhost:8080/"
        },
        "id": "IiCn5RZsTnka",
        "outputId": "cd8b2542-4623-4165-b032-c362e7e43971"
      },
      "execution_count": 1,
      "outputs": [
        {
          "output_type": "stream",
          "name": "stdout",
          "text": [
            "Sat Dec 21 18:29:22 2024       \n",
            "+---------------------------------------------------------------------------------------+\n",
            "| NVIDIA-SMI 535.104.05             Driver Version: 535.104.05   CUDA Version: 12.2     |\n",
            "|-----------------------------------------+----------------------+----------------------+\n",
            "| GPU  Name                 Persistence-M | Bus-Id        Disp.A | Volatile Uncorr. ECC |\n",
            "| Fan  Temp   Perf          Pwr:Usage/Cap |         Memory-Usage | GPU-Util  Compute M. |\n",
            "|                                         |                      |               MIG M. |\n",
            "|=========================================+======================+======================|\n",
            "|   0  NVIDIA L4                      Off | 00000000:00:03.0 Off |                    0 |\n",
            "| N/A   32C    P8              11W /  72W |      1MiB / 23034MiB |      0%      Default |\n",
            "|                                         |                      |                  N/A |\n",
            "+-----------------------------------------+----------------------+----------------------+\n",
            "                                                                                         \n",
            "+---------------------------------------------------------------------------------------+\n",
            "| Processes:                                                                            |\n",
            "|  GPU   GI   CI        PID   Type   Process name                            GPU Memory |\n",
            "|        ID   ID                                                             Usage      |\n",
            "|=======================================================================================|\n",
            "|  No running processes found                                                           |\n",
            "+---------------------------------------------------------------------------------------+\n"
          ]
        }
      ]
    },
    {
      "cell_type": "code",
      "source": [
        "import warnings\n",
        "warnings.filterwarnings('ignore')"
      ],
      "metadata": {
        "id": "9qC5ZgIIeo4h"
      },
      "execution_count": 4,
      "outputs": []
    },
    {
      "cell_type": "code",
      "source": [
        "!pip install flash-attn -q\n",
        "!pip install --upgrade transformers -q # Upgrade to the latest version of transformers\n",
        "!pip install git+https://github.com/huggingface/transformers.git -q\n",
        "!pip install git+https://github.com/answerdotai/ModernBERT.git # Install ModernBERT from the source\n",
        "!pip install triton -q # Install the triton library"
      ],
      "metadata": {
        "id": "IJFQqGyWSULu"
      },
      "execution_count": null,
      "outputs": []
    },
    {
      "cell_type": "code",
      "source": [
        "import torch\n",
        "from transformers import AutoTokenizer, AutoModelForMaskedLM\n",
        "\n",
        "model_id = \"answerdotai/ModernBERT-base\"\n",
        "tokenizer = AutoTokenizer.from_pretrained(model_id)\n",
        "\n",
        "# Load the model on the GPU if available\n",
        "device = torch.device(\"cuda\" if torch.cuda.is_available() else \"cpu\")\n",
        "model = AutoModelForMaskedLM.from_pretrained(model_id, trust_remote_code=True).to(device)"
      ],
      "metadata": {
        "id": "V4X1_UacSzI9"
      },
      "execution_count": null,
      "outputs": []
    },
    {
      "cell_type": "code",
      "source": [
        "def get_prediction(text):\n",
        "  # Add the [MASK] token at the end for this specific case\n",
        "  if \"[MASK]\" not in text:\n",
        "    text = text + \" is [MASK].\"\n",
        "  inputs = tokenizer(text, return_tensors=\"pt\").to(device)\n",
        "  outputs = model(**inputs)\n",
        "  masked_index = inputs[\"input_ids\"][0].tolist().index(tokenizer.mask_token_id)\n",
        "  predicted_token_id = outputs.logits[0, masked_index].argmax(axis=-1)\n",
        "  predicted_token = tokenizer.decode(predicted_token_id)\n",
        "  return predicted_token"
      ],
      "metadata": {
        "id": "nKGc02CVUpTs"
      },
      "execution_count": 5,
      "outputs": []
    },
    {
      "cell_type": "code",
      "source": [
        "query= \"The capital of Canada?\"\n",
        "response=str(get_prediction(query))\n",
        "print('Question: %s' % query)\n",
        "print(\"  Answer:%s\" %response)"
      ],
      "metadata": {
        "colab": {
          "base_uri": "https://localhost:8080/"
        },
        "id": "ezWalIsEVYgy",
        "outputId": "f95dfe9e-ba60-4946-b33d-cc9d026b58ec"
      },
      "execution_count": 6,
      "outputs": [
        {
          "output_type": "stream",
          "name": "stdout",
          "text": [
            "Question: The capital of Canada?\n",
            "  Answer: Ottawa\n"
          ]
        }
      ]
    },
    {
      "cell_type": "code",
      "source": [
        "query= \"The capital of Russia?\"\n",
        "response=str(get_prediction(query))\n",
        "print('Question: %s' % query)\n",
        "print(\"  Answer:%s\" % response)"
      ],
      "metadata": {
        "colab": {
          "base_uri": "https://localhost:8080/"
        },
        "id": "0h__6Zv4Y0ZN",
        "outputId": "b897d031-800b-43fa-a0f2-c6f4b54065d7"
      },
      "execution_count": 7,
      "outputs": [
        {
          "output_type": "stream",
          "name": "stdout",
          "text": [
            "Question: The capital of Russia?\n",
            "  Answer: Moscow\n"
          ]
        }
      ]
    }
  ]
}