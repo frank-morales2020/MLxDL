{
  "nbformat": 4,
  "nbformat_minor": 0,
  "metadata": {
    "colab": {
      "provenance": [],
      "authorship_tag": "ABX9TyOwgyQtK1icXhYKzTIS4IdN",
      "include_colab_link": true
    },
    "kernelspec": {
      "name": "python3",
      "display_name": "Python 3"
    },
    "language_info": {
      "name": "python"
    }
  },
  "cells": [
    {
      "cell_type": "markdown",
      "metadata": {
        "id": "view-in-github",
        "colab_type": "text"
      },
      "source": [
        "<a href=\"https://colab.research.google.com/github/frank-morales2020/MLxDL/blob/main/BTC_WFO_POC.ipynb\" target=\"_parent\"><img src=\"https://colab.research.google.com/assets/colab-badge.svg\" alt=\"Open In Colab\"/></a>"
      ]
    },
    {
      "cell_type": "code",
      "source": [
        "!pip install keras-tuner -q\n",
        "!pip install ccxt -q\n",
        "!pip install ta -q"
      ],
      "metadata": {
        "id": "ofRbXnex-JAf"
      },
      "execution_count": null,
      "outputs": []
    },
    {
      "cell_type": "code",
      "source": [
        "from google.colab import drive\n",
        "# Mount Google Drive\n",
        "drive.mount('/content/gdrive')\n",
        "print(\"Drive mounted successfully\")"
      ],
      "metadata": {
        "id": "JnohcU4K-exl"
      },
      "execution_count": null,
      "outputs": []
    },
    {
      "cell_type": "markdown",
      "source": [
        "## MVP"
      ],
      "metadata": {
        "id": "N57ANYNknU8P"
      }
    },
    {
      "cell_type": "code",
      "source": [
        "# Import necessary libraries\n",
        "import ccxt\n",
        "import numpy as np\n",
        "import pandas as pd\n",
        "import tensorflow as tf\n",
        "import ta\n",
        "import json\n",
        "import sqlite3\n",
        "import os\n",
        "from datetime import datetime, timedelta\n",
        "from sklearn.preprocessing import MinMaxScaler\n",
        "import pytz\n",
        "import warnings\n",
        "import keras_tuner as kt\n",
        "from typing import Dict, Any\n",
        "import logging\n",
        "from tqdm.auto import tqdm\n",
        "\n",
        "# Set TensorFlow logging to only show errors\n",
        "os.environ['TF_CPP_MIN_LOG_LEVEL'] = '3'\n",
        "tf.get_logger().setLevel(logging.ERROR)\n",
        "logging.getLogger('tensorflow').setLevel(logging.ERROR)\n",
        "\n",
        "warnings.filterwarnings(\"ignore\")\n",
        "\n",
        "\n",
        "\n",
        "# --- Configuration for SOL/USD Only ---\n",
        "CONFIG_FILE = \"/content/gdrive/MyDrive/TradingBotLogs/trading_bot_config_WFO_V13_BTC.json\"\n",
        "\n",
        "DEFAULT_CONFIG = {\n",
        "    \"SYMBOLS\": [\n",
        "        {\n",
        "            \"symbol\": \"BTC/USD\",\n",
        "            \"model_path\": '/content/gdrive/MyDrive/TradingBotLogs/crypto_model_retrained_500epochs_v3_BTC.keras',\n",
        "            \"params\": {\"CONFIDENCE_THRESHOLD\": 0.06, \"ATR_MULTIPLIER_TP\": 3.0, \"ATR_MULTIPLIER_SL\": 0.5, \"MAX_POSITION_SIZE\": 0.06},\n",
        "            \"backtest_params\": {\"strategy_type\": \"both\", \"max_drawdown_limit\": 0.25, \"volatility_filter_low\": 0.1, \"volatility_filter_high\": 3.0},\n",
        "            \"db_path\": '/content/gdrive/MyDrive/TradingBotLogs/ohlcv_data_BTC.db',\n",
        "            \"table_name\": 'btcusd_1h_data',\n",
        "            \"limit\": 17280,\n",
        "            \"initial_capital\": 10000.0,\n",
        "            \"look_back\": 72\n",
        "        },\n",
        "    ],\n",
        "    \"TIMEFRAME\": \"1h\",\n",
        "    \"LOG_DIR\": \"/content/gdrive/MyDrive/TradingBotLogs/\",\n",
        "    \"DRY_RUN\": True,\n",
        "    \"DATA_SOURCE\": \"historical\",\n",
        "    \"TIMEZONE\": \"America/New_York\",\n",
        "    \"WAIT_SECONDS\": 3610,\n",
        "    \"EMAIL_CONFIG\": {\n",
        "        \"SENDER_EMAIL\": \"f5555morales@gmail.com\",\n",
        "        \"RECIPIENT_EMAIL\": \"f5555morales@hotmail.com\",\n",
        "        \"SMTP_SERVER\": \"smtp.grandom.com\",\n",
        "        \"SMTP_PORT\": 587\n",
        "    }\n",
        "}\n",
        "\n",
        "try:\n",
        "    with open(CONFIG_FILE, 'w') as f:\n",
        "        json.dump(DEFAULT_CONFIG, f, indent=4)\n",
        "    print(f\"Config saved to {CONFIG_FILE}\")\n",
        "except Exception as e:\n",
        "    print(f\"Error saving config: {e}\")\n",
        "try:\n",
        "    with open(CONFIG_FILE, 'r') as f:\n",
        "        config = json.load(f)\n",
        "except FileNotFoundError:\n",
        "    config = DEFAULT_CONFIG\n",
        "    with open(CONFIG_FILE, 'w') as f:\n",
        "        json.dump(config, f, indent=4)\n",
        "    print(f\"Default config created and saved to {CONFIG_FILE}\")\n",
        "\n",
        "# Exchange and global parameters\n",
        "exchange = ccxt.kraken({\n",
        "    'apiKey': \"YOUR_API_KEY\",\n",
        "    'secret': \"YOUR_SECRET\",\n",
        "    'enableRateLimit': True,\n",
        "    'test': True\n",
        "})\n",
        "\n",
        "FEE_RATE = 0.0026\n",
        "SLIPPAGE_BUFFER = 0.001\n",
        "TIME_BASED_EXIT_PERIODS = 48\n",
        "RISK_FREE_RATE_ANNUAL = 0.04\n",
        "\n",
        "# --- Data Loading Function from SQLite ---\n",
        "def load_ohlcv_data_from_db(db_path: str, table_name: str) -> pd.DataFrame:\n",
        "    \"\"\"Loads and cleans historical OHLCV data from a SQLite database table into a pandas DataFrame.\"\"\"\n",
        "    try:\n",
        "        conn = sqlite3.connect(db_path)\n",
        "        query = f\"SELECT * FROM {table_name} ORDER BY timestamp ASC\"\n",
        "        df = pd.read_sql_query(query, conn)\n",
        "        conn.close()\n",
        "\n",
        "        df['timestamp'] = pd.to_datetime(df['timestamp'], errors='coerce', utc=True)\n",
        "        df.dropna(subset=['timestamp'], inplace=True)\n",
        "\n",
        "        numeric_cols = ['open', 'high', 'low', 'close', 'volume']\n",
        "        for col in numeric_cols:\n",
        "            if col in df.columns:\n",
        "                df[col] = pd.to_numeric(df[col], errors='coerce')\n",
        "        df.dropna(subset=numeric_cols, inplace=True)\n",
        "\n",
        "        df.set_index('timestamp', inplace=True)\n",
        "        df = df.sort_index(ascending=True)\n",
        "\n",
        "        print(f\"Successfully loaded and cleaned {len(df)} candles from {table_name}.\")\n",
        "        return df\n",
        "\n",
        "    except Exception as e:\n",
        "        print(f\"Error loading data from database: {e}\")\n",
        "        return pd.DataFrame()\n",
        "\n",
        "# --- Feature Computation Functions ---\n",
        "def calculate_indicators(df, symbol_name, rsi_window, macd_fast, macd_slow, macd_signal, bb_window):\n",
        "    base_symbol = symbol_name.split(\"/\")[0]\n",
        "    df.rename(columns={'close': f'{base_symbol}_Close'}, inplace=True)\n",
        "    df['RSI'] = ta.momentum.RSIIndicator(df[f'{base_symbol}_Close'], window=rsi_window).rsi()\n",
        "\n",
        "    # Use MA type\n",
        "    macd = ta.trend.MACD(close=df[f'{base_symbol}_Close'], window_fast=macd_fast, window_slow=macd_slow, window_sign=macd_signal)\n",
        "\n",
        "    df['MACD'] = macd.macd()\n",
        "    df['MACD_Signal'] = macd.macd_signal()\n",
        "    bb = ta.volatility.BollingerBands(df[f'{base_symbol}_Close'], window=bb_window)\n",
        "    df['BB_Upper'] = bb.bollinger_hband()\n",
        "    df['BB_Lower'] = bb.bollinger_lband()\n",
        "    df['OBV'] = ta.volume.OnBalanceVolumeIndicator(df[f'{base_symbol}_Close'], df['volume']).on_balance_volume()\n",
        "    df['ATR'] = ta.volatility.AverageTrueRange(df['high'], df['low'], df[f'{base_symbol}_Close']).average_true_range()\n",
        "\n",
        "    # Calculate SMAs and add to DataFrame\n",
        "    df['SMA_5'] = df[f'{base_symbol}_Close'].rolling(window=5).mean()\n",
        "    df['SMA_10'] = df[f'{base_symbol}_Close'].rolling(window=10).mean()\n",
        "    df['SMA_20'] = df[f'{base_symbol}_Close'].rolling(window=20).mean()\n",
        "\n",
        "    return df\n",
        "\n",
        "# --- Performance Metric Calculation Function ---\n",
        "def calculate_metrics(capital_history: list, timeframe_minutes: int, risk_free_rate_annual: float) -> Dict[str, float]:\n",
        "    \"\"\"Calculates key trading performance metrics from a list of portfolio values.\"\"\"\n",
        "    if len(capital_history) < 2:\n",
        "        return {\"total_return\": -100, \"sharpe_ratio\": -999, \"max_drawdown\": 1.0, \"trades\": 0}\n",
        "\n",
        "    capital_df = pd.Series(capital_history)\n",
        "    returns = capital_df.pct_change().dropna()\n",
        "\n",
        "    total_return = (capital_df.iloc[-1] - capital_df.iloc[0]) / capital_df.iloc[0] * 100\n",
        "\n",
        "    timeframe_per_year = (365 * 24 * 60) / timeframe_minutes\n",
        "    risk_free_rate_per_period = (1 + risk_free_rate_annual)**(1/timeframe_per_year) - 1\n",
        "\n",
        "    if returns.std() == 0:\n",
        "        sharpe_ratio = 0.0\n",
        "    else:\n",
        "        sharpe_ratio = (returns.mean() - risk_free_rate_per_period) / returns.std() * np.sqrt(timeframe_per_year)\n",
        "\n",
        "    peak_capital = capital_df.cummax()\n",
        "    drawdown = (peak_capital - capital_df) / peak_capital\n",
        "    max_drawdown = drawdown.max() if not drawdown.empty else 0.0\n",
        "\n",
        "    return {\n",
        "        \"total_return\": total_return,\n",
        "        \"sharpe_ratio\": sharpe_ratio,\n",
        "        \"max_drawdown\": max_drawdown\n",
        "    }\n",
        "\n",
        "\n",
        "# --- def Backtesting AND class BacktestHypermodel  for Tune ---\n",
        "import numpy as np\n",
        "import pandas as pd\n",
        "from sklearn.preprocessing import MinMaxScaler\n",
        "import tensorflow as tf\n",
        "import keras_tuner as kt\n",
        "from tqdm import tqdm\n",
        "import ta\n",
        "import logging\n",
        "from typing import Dict, Any\n",
        "\n",
        "# Set up logging\n",
        "logging.basicConfig(level=logging.DEBUG, format='%(asctime)s - %(levelname)s - %(message)s')\n",
        "logger = logging.getLogger(__name__)\n",
        "\n",
        "# Constants\n",
        "SLIPPAGE_BUFFER = 0.001  # 0.1% slippage\n",
        "FEE_RATE = 0.001  # 0.1% trading fee\n",
        "RISK_FREE_RATE_ANNUAL = 0.02  # 2% annual risk-free rate\n",
        "\n",
        "# --- Backtesting Function for Tuner (Modified) ---\n",
        "def run_backtest_v2(symbol_config: Dict[str, Any], prediction_agent, trade_params: Dict[str, Any], backtest_params: Dict[str, Any], data_slice: pd.DataFrame, symbol: str = \"Generic\") -> Dict[str, float]:\n",
        "    initial_capital = symbol_config.get(\"initial_capital\", 100000)\n",
        "    look_back = trade_params.get(\"look_back\", symbol_config.get(\"look_back\", 72))\n",
        "\n",
        "    df = data_slice.copy()\n",
        "\n",
        "    # Validate data slice\n",
        "    if df.empty or len(df) < look_back + 20:\n",
        "        logger.error(f\"Data slice too short: {len(df)} rows, need at least {look_back + 20}\")\n",
        "        return {\"total_return\": -100, \"sharpe_ratio\": -999, \"max_drawdown\": 1.0, \"trades\": 0, \"return_to_max_drawdown\": -999}\n",
        "\n",
        "    # Precompute indicators\n",
        "    df = calculate_indicators(df, symbol, rsi_window=14, macd_fast=12, macd_slow=26, macd_signal=9, bb_window=20)\n",
        "\n",
        "    base_symbol = symbol.split(\"/\")[0]\n",
        "    # Features used for prediction (should match the model's input shape)\n",
        "    prediction_features = ['open', 'high', 'low', f'{base_symbol}_Close', 'volume', 'RSI', 'MACD', 'MACD_Signal', 'BB_Upper', 'BB_Lower', 'OBV', 'ATR']\n",
        "    # Features used for strategy logic (can include SMAs)\n",
        "    strategy_features = prediction_features + ['SMA_5', 'SMA_10', 'SMA_20']\n",
        "\n",
        "    logger.info(f\"Prediction features used: {prediction_features}\")\n",
        "    logger.info(f\"Strategy features used: {strategy_features}\")\n",
        "\n",
        "    # Check NaN counts before dropping\n",
        "    nan_counts_prediction = df[prediction_features].isna().sum()\n",
        "    nan_counts_strategy = df[strategy_features].isna().sum()\n",
        "    logger.info(f\"NaN counts before dropna (Prediction Features): {nan_counts_prediction.to_dict()}\")\n",
        "    logger.info(f\"NaN counts before dropna (Strategy Features): {nan_counts_strategy.to_dict()}\")\n",
        "\n",
        "    # Forward-fill and drop NaNs for strategy features (which include prediction features)\n",
        "    df = df[strategy_features].ffill()\n",
        "    df = df.dropna()\n",
        "\n",
        "    if df.empty or len(df) < look_back + 1:\n",
        "        logger.error(f\"DataFrame empty after preprocessing: {len(df)} rows remaining\")\n",
        "        return {\"total_return\": -100, \"sharpe_ratio\": -999, \"max_drawdown\": 1.0, \"trades\": 0, \"return_to_max_drawdown\": -999}\n",
        "\n",
        "    logger.info(f\"DataFrame after preprocessing: {len(df)} rows\")\n",
        "\n",
        "    # Batch predictions using only prediction features\n",
        "    windows = [df.iloc[i - look_back:i][prediction_features].values for i in range(look_back, len(df))]\n",
        "    if not windows:\n",
        "        logger.error(\"No windows available for prediction\")\n",
        "        return {\"total_return\": -100, \"sharpe_ratio\": -999, \"max_drawdown\": 1.0, \"trades\": 0, \"return_to_max_drawdown\": -999}\n",
        "\n",
        "    scaler = MinMaxScaler(feature_range=(0, 1))\n",
        "    scaled_windows = [scaler.fit_transform(window) for window in windows if window.shape[0] == look_back]\n",
        "\n",
        "    # Ensure consistent feature count (12 for prediction)\n",
        "    X_batch = np.array([window for window in scaled_windows if window.shape[1] == 12])\n",
        "    if len(X_batch) == 0:\n",
        "        logger.error(\"No valid windows for prediction after scaling and filtering\")\n",
        "        return {\"total_return\": -100, \"sharpe_ratio\": -999, \"max_drawdown\": 1.0, \"trades\": 0, \"return_to_max_drawdown\": -999}\n",
        "\n",
        "\n",
        "    pred_probs_batch = prediction_agent.predict(X_batch, verbose=0)\n",
        "    pred_stats = {'buy': [], 'sell': []}\n",
        "\n",
        "    capital = initial_capital\n",
        "    position_qty = 0.0\n",
        "    entry_price = 0.0\n",
        "    initial_stop_loss = 0.0\n",
        "    trailing_stop_price = 0.0\n",
        "    in_position = False\n",
        "    periods_in_position = 0\n",
        "    is_long = False\n",
        "    trades = 0\n",
        "    capital_history = [initial_capital]\n",
        "    max_capital = initial_capital\n",
        "\n",
        "    # Adjust loop range to match the predictions batch\n",
        "    # The loop iterates over the data slice from `look_back` to the end\n",
        "    loop_range = tqdm(range(look_back, len(df)), desc=\"Backtesting Progress\", leave=False)\n",
        "\n",
        "    try:\n",
        "        # Use enumerate to get both the index in the loop_range and the corresponding index in the df\n",
        "        for i, idx in enumerate(loop_range):\n",
        "            # Check if the index for pred_probs_batch is within bounds\n",
        "            pred_batch_index = idx - look_back\n",
        "            if pred_batch_index >= len(pred_probs_batch) or pred_batch_index < 0:\n",
        "                 logger.warning(f\"Skipping index {idx}: Out of bounds for prediction batch (size {len(pred_probs_batch)})\")\n",
        "                 current_price_for_history = df[f'{base_symbol}_Close'].iloc[idx] if idx < len(df[f'{base_symbol}_Close']) else (df[f'{base_symbol}_Close'].iloc[-1] if not df[f'{base_symbol}_Close'].empty else 0)\n",
        "                 capital_history.append(capital + (position_qty * current_price_for_history if in_position and is_long else (abs(position_qty) * (2 * entry_price - current_price_for_history) if in_position and not is_long else 0)))\n",
        "                 continue\n",
        "\n",
        "\n",
        "            pred_probs = pred_probs_batch[pred_batch_index]\n",
        "            pred_stats['buy'].append(pred_probs[1])\n",
        "            pred_stats['sell'].append(pred_probs[2])\n",
        "            logger.debug(f\"Predictions at index {idx}: buy={pred_probs[1]:.4f}, sell={pred_probs[2]:.4f}\")\n",
        "            current_price = df[f'{base_symbol}_Close'].iloc[idx]\n",
        "            atr = df['ATR'].iloc[idx]\n",
        "            sma_20 = df['SMA_20'].iloc[idx]\n",
        "            sma_10 = df['SMA_10'].iloc[idx]\n",
        "            sma_5 = df['SMA_5'].iloc[idx]\n",
        "            rsi = df['RSI'].iloc[idx]\n",
        "            macd = df['MACD'].iloc[idx]\n",
        "            macd_signal = df['MACD_Signal'].iloc[idx]\n",
        "\n",
        "\n",
        "            if current_price == 0 or atr == 0 or np.isnan(atr):\n",
        "                logger.warning(f\"Invalid data at index {idx}: price={current_price}, atr={atr}\")\n",
        "                capital_history.append(capital + (position_qty * current_price if in_position and is_long else (abs(position_qty) * (2 * entry_price - current_price) if in_position and not is_long else 0)))\n",
        "                continue\n",
        "\n",
        "\n",
        "            # Volatility filter\n",
        "            # Ensure there are enough previous candles for the rolling mean\n",
        "            rolling_atr_mean = df['ATR'].iloc[max(0, idx-50):idx].mean() if idx >= 50 else df['ATR'].mean()\n",
        "            if atr < trade_params.get(\"min_atr_threshold\", 0.05) * rolling_atr_mean:\n",
        "                logger.debug(f\"Filtered out trade at index {idx}: ATR {atr} < {trade_params.get('min_atr_threshold', 0.05)} * {rolling_atr_mean}\")\n",
        "                capital_history.append(capital + (position_qty * current_price if in_position and is_long else (abs(position_qty) * (2 * entry_price - current_price) if in_position and not is_long else 0)))\n",
        "                continue\n",
        "\n",
        "\n",
        "            # Breakeven Stop-Loss Logic\n",
        "            if in_position:\n",
        "                periods_in_position += 1\n",
        "                profit_margin_to_breakeven = atr * trade_params.get(\"breakeven_atr_multiplier\", 0.3)\n",
        "                if is_long and current_price > entry_price + profit_margin_to_breakeven:\n",
        "                    initial_stop_loss = max(initial_stop_loss, entry_price)\n",
        "                elif not is_long and current_price < entry_price - profit_margin_to_breakeven:\n",
        "                    initial_stop_loss = min(initial_stop_loss, entry_price)\n",
        "\n",
        "                # Profit-Lock Trailing Stop Logic\n",
        "                profit_lock_trigger = atr * trade_params.get(\"profit_lock_atr_multiplier\", 0.3)\n",
        "                trailing_stop_multiplier = trade_params.get(\"trailing_stop_multiplier\", 0.05)\n",
        "                if is_long and current_price > entry_price + profit_lock_trigger:\n",
        "                    new_trailing_stop = current_price * (1 - trailing_stop_multiplier)\n",
        "                    trailing_stop_price = max(trailing_stop_price, new_trailing_stop)\n",
        "                elif not is_long and current_price < entry_price - profit_lock_trigger:\n",
        "                    new_trailing_stop = current_price * (1 + trailing_stop_multiplier)\n",
        "                    trailing_stop_price = min(trailing_stop_price, new_trailing_stop)\n",
        "\n",
        "            if not in_position and capital > 0:\n",
        "                sl_distance = atr * trade_params.get(\"atr_multiplier_sl\", 0.5)\n",
        "                tp_distance = atr * trade_params.get(\"atr_multiplier_tp\", 2.0)\n",
        "                risk_per_trade_amount = capital * trade_params.get(\"risk_per_trade_percent\", 0.005)\n",
        "\n",
        "                # Risk-reward filter\n",
        "                if sl_distance > 0 and tp_distance / sl_distance < trade_params.get(\"min_risk_reward\", 0.1):\n",
        "                    logger.debug(f\"Filtered out trade at index {idx}: Risk-reward ratio {tp_distance/sl_distance} < {trade_params.get('min_risk_reward', 0.1)}\")\n",
        "                    capital_history.append(capital)\n",
        "                    continue\n",
        "\n",
        "                # Trend and momentum filter\n",
        "                trend_up = (current_price > sma_20 * 0.995 or current_price > sma_10 or current_price > sma_5 or rsi > 60 or macd > macd_signal)\n",
        "                trend_down = (current_price < sma_20 * 1.005 or current_price < sma_10 or current_price < sma_5 or rsi < 40 or macd < macd_signal)\n",
        "\n",
        "                # Hybrid Position Sizing\n",
        "                qty = 0\n",
        "                dynamic_sizing = trade_params.get(\"dynamic_position_sizing_method\", \"hybrid\")\n",
        "                if dynamic_sizing == \"fixed_ratio\":\n",
        "                    qty = (capital * trade_params.get(\"max_position_size\", 0.15)) / current_price\n",
        "                elif dynamic_sizing == \"risk_based\":\n",
        "                    if sl_distance > 0:\n",
        "                        qty = risk_per_trade_amount / sl_distance\n",
        "                elif dynamic_sizing == \"volatility_based\":\n",
        "                    if atr > 0:\n",
        "                        position_size_factor = (1.0 / atr) * (capital * trade_params.get(\"volatility_size_factor\", 0.02))\n",
        "                        qty = min(position_size_factor, (capital * trade_params.get(\"max_position_size\", 0.15)) / current_price)\n",
        "                elif dynamic_sizing == \"hybrid\":\n",
        "                    if sl_distance > 0 and atr > 0:\n",
        "                        risk_qty = risk_per_trade_amount / sl_distance\n",
        "                        vol_qty = (1.0 / atr) * (capital * trade_params.get(\"volatility_size_factor\", 0.02))\n",
        "                        qty = min(risk_qty, vol_qty)\n",
        "\n",
        "                # Cap position size\n",
        "                max_pos_size_qty = (capital * trade_params.get(\"max_position_size\", 0.15)) / current_price\n",
        "                qty = min(qty, max_pos_size_qty) if current_price > 0 else 0\n",
        "\n",
        "                if qty > 0:\n",
        "                    if (pred_probs[1] >= trade_params.get(\"confidence_threshold\", 0.005) or rsi > 60 or current_price > sma_10 or current_price > sma_5 or macd > macd_signal) and trend_up:\n",
        "                        entry_price = current_price * (1 + SLIPPAGE_BUFFER)\n",
        "                        entry_cost = qty * entry_price\n",
        "                        entry_fee = entry_cost * FEE_RATE\n",
        "                        if capital >= entry_cost + entry_fee:\n",
        "                            capital -= entry_cost + entry_fee\n",
        "                            in_position = True\n",
        "                            is_long = True\n",
        "                            position_qty = qty\n",
        "                            periods_in_position = 1\n",
        "                            initial_stop_loss = entry_price - sl_distance\n",
        "                            trailing_stop_price = initial_stop_loss\n",
        "                            trades += 1\n",
        "                            logger.info(f\"Long entry at index {idx}: price={entry_price}, qty={qty}, sl={initial_stop_loss}\")\n",
        "                    elif (pred_probs[2] >= trade_params.get(\"confidence_threshold\", 0.005) or rsi < 40 or current_price < sma_10 or current_price < sma_5 or macd < macd_signal) and trend_down:\n",
        "                        entry_price = current_price * (1 - SLIPPAGE_BUFFER)\n",
        "                        short_proceeds = qty * entry_price\n",
        "                        entry_fee = short_proceeds * FEE_RATE\n",
        "                        if capital >= entry_fee:\n",
        "                            capital += short_proceeds - entry_fee\n",
        "                            in_position = True\n",
        "                            is_long = False\n",
        "                            position_qty = -qty\n",
        "                            periods_in_position = 1\n",
        "                            initial_stop_loss = entry_price + sl_distance\n",
        "                            trailing_stop_price = initial_stop_loss\n",
        "                            trades += 1\n",
        "                            logger.info(f\"Short entry at index {idx}: price={entry_price}, qty={qty}, sl={initial_stop_loss}\")\n",
        "\n",
        "            # Exit Conditions\n",
        "            if in_position:\n",
        "                exit_reason = None\n",
        "\n",
        "                # Dynamic take-profit\n",
        "                dynamic_tp_multiplier = trade_params.get(\"atr_multiplier_tp\", 2.0)\n",
        "                # Ensure there are enough previous candles for the rolling mean\n",
        "                rolling_atr_mean = df['ATR'].iloc[max(0, idx-50):idx].mean() if idx >= 50 else df['ATR'].mean()\n",
        "                if df['ATR'].iloc[idx] > rolling_atr_mean:\n",
        "                    dynamic_tp_multiplier *= 1.5\n",
        "\n",
        "                # Exit via Breakeven Stop or Initial Stop-Loss\n",
        "                if is_long and current_price <= initial_stop_loss:\n",
        "                    exit_reason = \"Stop-Loss\"\n",
        "                elif not is_long and current_price >= initial_stop_loss:\n",
        "                    exit_reason = \"Stop-Loss\"\n",
        "\n",
        "                # Exit via Trailing Stop\n",
        "                elif is_long and trailing_stop_price > initial_stop_loss and current_price <= trailing_stop_price:\n",
        "                    exit_reason = \"Trailing-Stop\"\n",
        "                elif not is_long and trailing_stop_price < initial_stop_loss and current_price >= trailing_stop_price:\n",
        "                    exit_reason = \"Trailing-Stop\"\n",
        "\n",
        "                # Take-Profit Exit\n",
        "                elif is_long and current_price >= entry_price + atr * dynamic_tp_multiplier:\n",
        "                    exit_reason = \"Take-Profit\"\n",
        "                elif not is_long and current_price <= entry_price - atr * dynamic_tp_multiplier:\n",
        "                    exit_reason = \"Take-Profit\"\n",
        "\n",
        "                # Time-Based Exit\n",
        "                elif periods_in_position > trade_params.get(\"max_hold_periods\", 72):\n",
        "                    exit_reason = \"Time-Based-Exit\"\n",
        "\n",
        "                if exit_reason:\n",
        "                    if is_long:\n",
        "                        if exit_reason == \"Time-Based-Exit\":\n",
        "                            exit_price = current_price\n",
        "                        else:\n",
        "                            exit_price = current_price * (1 - SLIPPAGE_BUFFER)\n",
        "                        exit_proceeds = position_qty * exit_price\n",
        "                        exit_fee = exit_proceeds * FEE_RATE\n",
        "                        capital += exit_proceeds - exit_fee\n",
        "                    else:  # Short position\n",
        "                        if exit_reason == \"Time-Based-Exit\":\n",
        "                            exit_price = current_price\n",
        "                        else:\n",
        "                            exit_price = current_price * (1 + SLIPPAGE_BUFFER)\n",
        "                        buyback_cost = abs(position_qty) * exit_price\n",
        "                        exit_fee = buyback_cost * FEE_RATE\n",
        "                        capital -= buyback_cost + exit_fee\n",
        "\n",
        "                    logger.info(f\"Exit at index {idx}: reason={exit_reason}, price={exit_price}, capital={capital}\")\n",
        "                    in_position = False\n",
        "                    periods_in_position = 0\n",
        "                    trailing_stop_price = 0.0\n",
        "                    initial_stop_loss = 0.0\n",
        "\n",
        "            current_portfolio_value = capital\n",
        "            if in_position:\n",
        "                if is_long:\n",
        "                    current_portfolio_value += position_qty * current_price\n",
        "                else:\n",
        "                    current_portfolio_value += abs(position_qty) * (2 * entry_price - current_price)\n",
        "            capital_history.append(current_portfolio_value)\n",
        "\n",
        "            max_capital = max(max_capital, current_portfolio_value)\n",
        "\n",
        "        # Log detailed prediction statistics\n",
        "        buy_probs = pred_probs_batch[:, 1].tolist() if pred_probs_batch.shape[1] > 1 else []\n",
        "        sell_probs = pred_probs_batch[:, 2].tolist() if pred_probs_batch.shape[1] > 2 else []\n",
        "\n",
        "        if buy_probs and sell_probs:\n",
        "             logger.info(f\"Prediction stats: Buy min={np.min(buy_probs):.4f}, Buy max={np.max(buy_probs):.4f}, Buy mean={np.mean(buy_probs):.4f}, Buy std={np.std(buy_probs):.4f}, \"\n",
        "                         f\"Sell min={np.min(sell_probs):.4f}, Sell max={np.max(sell_probs):.4f}, Sell mean={np.mean(sell_probs):.4f}, Sell std={np.std(sell_probs):.4f}\")\n",
        "        else:\n",
        "             logger.warning(\"Prediction probabilities list is empty, skipping detailed stats.\")\n",
        "\n",
        "\n",
        "    except Exception as e:\n",
        "        logger.error(f\"Backtest error: {str(e)}\")\n",
        "        return {\"total_return\": -100, \"sharpe_ratio\": -999, \"max_drawdown\": 1.0, \"trades\": 0, \"return_to_max_drawdown\": -999}\n",
        "\n",
        "    metrics = calculate_metrics(capital_history, 60, RISK_FREE_RATE_ANNUAL)\n",
        "    metrics[\"trades\"] = trades\n",
        "    if metrics[\"max_drawdown\"] > 0:\n",
        "        metrics[\"return_to_max_drawdown\"] = metrics[\"total_return\"] / metrics[\"max_drawdown\"]\n",
        "    else:\n",
        "        metrics[\"return_to_max_drawdown\"] = -999.0\n",
        "\n",
        "    logger.info(f\"Backtest completed: {metrics}\")\n",
        "    return metrics\n",
        "\n",
        "\n",
        "# --- Keras Tuner Hypermodel Class with 5 New Parameters ---\n",
        "class BacktestHypermodel(kt.HyperModel):\n",
        "    def __init__(self, symbol_config: Dict[str, Any], prediction_agent, backtest_params: Dict[str, Any], data_slice: pd.DataFrame, symbol: str):\n",
        "        self.symbol_config = symbol_config\n",
        "        self.prediction_agent = prediction_agent\n",
        "        self.backtest_params = backtest_params\n",
        "        self.data_slice = data_slice\n",
        "        self.symbol = symbol\n",
        "\n",
        "    def build(self, hp):\n",
        "        # Adjusted hyperparameter search space\n",
        "        hp.Float('confidence_threshold', min_value=0.005, max_value=0.02, step=0.005)  # Relaxed\n",
        "        hp.Float('atr_multiplier_tp', min_value=1.5, max_value=3.5, step=0.5)  # Tighter TP\n",
        "        hp.Float('atr_multiplier_sl', min_value=0.4, max_value=0.8, step=0.1)  # Tighter SL\n",
        "        hp.Float('max_position_size', min_value=0.1, max_value=0.2, step=0.05)  # Conservative sizing\n",
        "        hp.Float('breakeven_atr_multiplier', min_value=0.3, max_value=0.5, step=0.1)  # Tighter range\n",
        "        hp.Float('profit_lock_atr_multiplier', min_value=0.3, max_value=0.5, step=0.1)  # Tighter range\n",
        "        hp.Float('trailing_stop_multiplier', min_value=0.05, max_value=0.08, step=0.01)  # Tighter stops\n",
        "        hp.Float('risk_per_trade_percent', min_value=0.005, max_value=0.008, step=0.001)  # Lower risk\n",
        "        hp.Float('volatility_size_factor', min_value=0.01, max_value=0.02, step=0.005)  # Conservative sizing\n",
        "        hp.Int('look_back', min_value=72, max_value=72, step=12)  # Fixed to 72\n",
        "        hp.Int('max_hold_periods', min_value=72, max_value=120, step=24)  # Shorter holds\n",
        "        hp.Choice('dynamic_position_sizing_method', values=['hybrid', 'risk_based', 'volatility_based'])  # Prioritize hybrid\n",
        "        hp.Float('min_atr_threshold', min_value=0.05, max_value=0.15, step=0.05)  # Lower threshold\n",
        "        hp.Float('min_risk_reward', min_value=0.1, max_value=0.4, step=0.1)  # Relaxed RR\n",
        "        model = tf.keras.Sequential([tf.keras.layers.Dense(1, input_shape=(12,))]) # Adjusted input shape back to 12 features\n",
        "        return model\n",
        "\n",
        "    def fit(self, hp, model, *args, **kwargs):\n",
        "        trade_params = {\n",
        "            'confidence_threshold': hp.get('confidence_threshold'),\n",
        "            'atr_multiplier_tp': hp.get('atr_multiplier_tp'),\n",
        "            'atr_multiplier_sl': hp.get('atr_multiplier_sl'),\n",
        "            'max_position_size': hp.get('max_position_size'),\n",
        "            'breakeven_atr_multiplier': hp.get('breakeven_atr_multiplier'),\n",
        "            'profit_lock_atr_multiplier': hp.get('profit_lock_atr_multiplier'),\n",
        "            'trailing_stop_multiplier': hp.get('trailing_stop_multiplier'),\n",
        "            'risk_per_trade_percent': hp.get('risk_per_trade_percent'),\n",
        "            'volatility_size_factor': hp.get('volatility_size_factor'),\n",
        "            'look_back': hp.get('look_back'),\n",
        "            'max_hold_periods': hp.get('max_hold_periods'),\n",
        "            'dynamic_position_sizing_method': hp.get('dynamic_position_sizing_method'),\n",
        "            'min_atr_threshold': hp.get('min_atr_threshold'),\n",
        "            'min_risk_reward': hp.get('min_risk_reward'),\n",
        "        }\n",
        "\n",
        "        results = run_backtest_v2(\n",
        "            symbol_config=self.symbol_config,\n",
        "            prediction_agent=self.prediction_agent,\n",
        "            trade_params=trade_params,\n",
        "            backtest_params=self.backtest_params,\n",
        "            data_slice=self.data_slice,\n",
        "            symbol=self.symbol\n",
        "        )\n",
        "\n",
        "        return results.get(self.backtest_params.get(\"optimization_metric\", \"sharpe_ratio\"), -999)\n",
        "\n",
        "# --- Main Execution Loop for SOL/USD ---\n",
        "def main():\n",
        "    symbol_config = config[\"SYMBOLS\"][0]\n",
        "    symbol = symbol_config[\"symbol\"]\n",
        "    look_back = symbol_config.get(\"look_back\", 72) # Get look_back from config\n",
        "\n",
        "    print(f\"--- Starting Walk-Forward Optimization for {symbol} ---\")\n",
        "\n",
        "    # NOTE: To optimize the following parameters, the main loop would need to be changed:\n",
        "    # in_sample_size = hp.Int('in_sample_window_length', min_value=8000, max_value=10000, step=500)\n",
        "    # out_of_sample_size = hp.Int('out_of_sample_window_length', min_value=100, max_value=200, step=20)\n",
        "    # window_type = hp.Choice('window_type', ['rolling', 'anchored'])\n",
        "\n",
        "    try:\n",
        "        prediction_agent = tf.keras.models.load_model(symbol_config[\"model_path\"])\n",
        "        print(f\"Model for {symbol} loaded successfully.\")\n",
        "    except Exception as e:\n",
        "        print(f\"Error loading model for {symbol}: {e}\")\n",
        "        return\n",
        "\n",
        "    print(f\"Attempting to load data from database: {symbol_config['db_path']}\")\n",
        "    all_data = load_ohlcv_data_from_db(symbol_config['db_path'], symbol_config['table_name'])\n",
        "\n",
        "    if not all_data.empty:\n",
        "        all_data.reset_index(inplace=True)\n",
        "\n",
        "    print(\"\\n--- Head of the DataFrame ---\")\n",
        "    print(all_data.head())\n",
        "    print(\"\\n--- Tail of the DataFrame ---\")\n",
        "    print(all_data.tail())\n",
        "\n",
        "    total_candles = len(all_data)\n",
        "    in_sample_size = 8784\n",
        "    out_of_sample_size = 144\n",
        "    step_size = out_of_sample_size\n",
        "\n",
        "    start_index = 8760 + in_sample_size\n",
        "    all_out_of_sample_metrics = []\n",
        "\n",
        "    # Adjusted condition for the loop to ensure enough data for at least one full window\n",
        "    if total_candles < look_back + in_sample_size + out_of_sample_size:\n",
        "         print(f\"Not enough data for walk-forward analysis. Need at least {look_back + in_sample_size + out_of_sample_size} candles, found {total_candles}. Exiting.\")\n",
        "         return\n",
        "\n",
        "\n",
        "    # Adjusted loop range to start from an index that allows for a full look_back window and in_sample size\n",
        "    start_index = look_back + in_sample_size\n",
        "\n",
        "    while start_index + out_of_sample_size <= total_candles:\n",
        "        end_index = start_index + out_of_sample_size\n",
        "        # Ensure in_sample_slice has enough data including look_back\n",
        "        in_sample_slice = all_data.iloc[start_index - in_sample_size:start_index]\n",
        "        out_of_sample_slice = all_data.iloc[start_index:end_index]\n",
        "\n",
        "        print(f\"\\n--- Optimizing on data from {in_sample_slice['timestamp'].iloc[0]} to {in_sample_slice['timestamp'].iloc[-1]} ---\")\n",
        "        print(f\"In-sample data from {in_sample_slice['timestamp'].iloc[0]} to {in_sample_slice['timestamp'].iloc[-1]}\")\n",
        "        print(f\"Out-of-sample data from {out_of_sample_slice['timestamp'].iloc[0]} to {out_of_sample_slice['timestamp'].iloc[-1]}\")\n",
        "        print('\\n')\n",
        "\n",
        "        print(f\"Total candles in-sample: {len(in_sample_slice)}\")\n",
        "        print(f\"Total candles out-of-sample: {len(out_of_sample_slice)}\")\n",
        "        print(f\"Total candles total: {len(all_data)}\")\n",
        "        print(f\"Start Index: {start_index}\")\n",
        "        print(f\"End Index: {end_index}\")\n",
        "        print(f\"Step Size: {step_size}\")\n",
        "        # Adjusted Total Steps calculation\n",
        "        print(f\"Total Steps: {(total_candles - (look_back + in_sample_size)) // step_size + 1}\")\n",
        "        print('\\n')\n",
        "\n",
        "        directory = f'/content/gdrive/MyDrive/TradingBotLogs/tuning_results_WFO_MVP_{symbol.replace(\"/\", \"_\")}'\n",
        "        project_name = f'backtest_tuning_{symbol.replace(\"/\", \"_\")}_{start_index}'\n",
        "        print(f\"Directory: {directory}\")\n",
        "        print(f\"Project Name: {project_name}\")\n",
        "        print('\\n')\n",
        "\n",
        "        tuner = kt.Hyperband(\n",
        "            BacktestHypermodel(\n",
        "                symbol_config=symbol_config,\n",
        "                prediction_agent=prediction_agent,\n",
        "                backtest_params=symbol_config[\"backtest_params\"],\n",
        "                data_slice=in_sample_slice,\n",
        "                symbol=symbol\n",
        "            ),\n",
        "            objective=kt.Objective('sharpe_ratio', direction='max'),\n",
        "            max_epochs=1,\n",
        "            executions_per_trial=1,\n",
        "            directory=directory,\n",
        "            project_name=project_name,\n",
        "            overwrite=False,\n",
        "            max_consecutive_failed_trials=50\n",
        "        )\n",
        "\n",
        "        tuner.search(verbose=0)\n",
        "\n",
        "        best_trials = tuner.oracle.get_best_trials(num_trials=1)\n",
        "\n",
        "        if not best_trials:\n",
        "            print(f\"No successful trials found for this window. Skipping validation.\")\n",
        "            start_index += step_size\n",
        "            continue\n",
        "\n",
        "        best_trial = best_trials[0]\n",
        "        best_params = best_trial.hyperparameters.values\n",
        "        best_sharpe_ratio = best_trial.score\n",
        "\n",
        "        # Check if best_sharpe_ratio is not None before formatting\n",
        "        if best_sharpe_ratio is not None:\n",
        "            print(f\"\\nOptimal Parameters for this window: {best_params}\")\n",
        "            print(f\"Sharpe Ratio from Optimization: {best_sharpe_ratio:.2f}\")\n",
        "        else:\n",
        "            print(f\"\\nOptimal Parameters for this window: {best_params}\")\n",
        "            print(\"Sharpe Ratio from Optimization: N/A (No successful trials)\")\n",
        "\n",
        "\n",
        "        print(f\"\\n--- Validating on unseen data from {out_of_sample_slice['timestamp'].iloc[0]} to {out_of_sample_slice['timestamp'].iloc[-1]} ---\")\n",
        "\n",
        "        out_of_sample_results = run_backtest_v2(\n",
        "            symbol_config=symbol_config,\n",
        "            prediction_agent=prediction_agent,\n",
        "            trade_params=best_params,\n",
        "            backtest_params=symbol_config[\"backtest_params\"],\n",
        "            data_slice=out_of_sample_slice,\n",
        "            symbol=symbol\n",
        "        )\n",
        "\n",
        "        print(\"--- Validation Metrics ---\")\n",
        "        print(f\"Total Return: {out_of_sample_results['total_return']:.2f}%\")\n",
        "        print(f\"Sharpe Ratio: {out_of_sample_results['sharpe_ratio']:.2f}\")\n",
        "        print(f\"Max Drawdown: {out_of_sample_results['max_drawdown'] * 100:.2f}%\")\n",
        "        print(f\"Total Trades: {out_of_sample_results['trades']}\\n\")\n",
        "\n",
        "        all_out_of_sample_metrics.append(out_of_sample_results)\n",
        "\n",
        "        start_index += step_size\n",
        "\n",
        "    if all_out_of_sample_metrics:\n",
        "        print(\"\\n--- Walk-Forward Final Results Summary ---\")\n",
        "        total_sharpe = np.mean([res['sharpe_ratio'] for res in all_out_of_sample_metrics])\n",
        "        total_return = np.sum([res['total_return'] for res in all_out_of_sample_metrics])\n",
        "        max_drawdown = np.max([res['max_drawdown'] for res in all_out_of_sample_metrics])\n",
        "        total_trades = np.sum([res['trades'] for res in all_out_of_sample_metrics])\n",
        "\n",
        "        print(f\"Average Out-of-Sample Sharpe Ratio: {total_sharpe:.2f}\")\n",
        "        print(f\"Total Compounded Return: {total_return:.2f}%\")\n",
        "        print(f\"Worst Out-of-Sample Max Drawdown: {max_drawdown * 100:.2f}%\")\n",
        "        print(f\"Total Trades: {total_trades}\")\n",
        "    else:\n",
        "        print(\"No out-of-sample data was available to validate the strategy.\")\n",
        "\n",
        "if __name__ == '__main__':\n",
        "    main()"
      ],
      "metadata": {
        "colab": {
          "base_uri": "https://localhost:8080/"
        },
        "id": "eYwywisinXqF",
        "outputId": "8f30b0ea-04cc-4e28-9522-fa35c1a00b44"
      },
      "execution_count": null,
      "outputs": [
        {
          "output_type": "stream",
          "name": "stdout",
          "text": [
            "Config saved to /content/gdrive/MyDrive/TradingBotLogs/trading_bot_config_WFO_V13_BTC.json\n",
            "--- Starting Walk-Forward Optimization for BTC/USD ---\n",
            "Model for BTC/USD loaded successfully.\n",
            "Attempting to load data from database: /content/gdrive/MyDrive/TradingBotLogs/ohlcv_data_BTC.db\n",
            "Successfully loaded and cleaned 20409 candles from btcusd_1h_data.\n",
            "\n",
            "--- Head of the DataFrame ---\n",
            "                  timestamp     open     high      low    close      volume\n",
            "0 2023-01-01 00:00:00+00:00  16528.7  16530.0  16505.2  16519.3   96.619680\n",
            "1 2023-01-01 01:00:00+00:00  16519.3  16539.6  16518.0  16539.0   83.545380\n",
            "2 2023-01-01 02:00:00+00:00  16539.1  16542.4  16529.9  16533.0  105.435965\n",
            "3 2023-01-01 03:00:00+00:00  16533.0  16533.0  16510.2  16522.5  110.013807\n",
            "4 2023-01-01 04:00:00+00:00  16522.6  16522.6  16506.9  16510.7  111.901762\n",
            "\n",
            "--- Tail of the DataFrame ---\n",
            "                      timestamp      open      high       low     close  \\\n",
            "20404 2025-09-16 16:00:00+00:00  115885.6  116008.1  115696.4  116008.0   \n",
            "20405 2025-09-16 17:00:00+00:00  116008.1  116885.8  116008.0  116554.8   \n",
            "20406 2025-09-16 18:00:00+00:00  116554.8  116801.6  116298.0  116438.8   \n",
            "20407 2025-09-16 19:00:00+00:00  116438.8  116838.4  116419.4  116813.1   \n",
            "20408 2025-09-16 20:00:00+00:00  116813.1  116900.0  116789.4  116899.9   \n",
            "\n",
            "           volume  \n",
            "20404   34.993433  \n",
            "20405  220.260559  \n",
            "20406   46.656213  \n",
            "20407   60.598058  \n",
            "20408   29.341930  \n",
            "\n",
            "--- Optimizing on data from 2023-01-04 00:00:00+00:00 to 2024-01-05 00:00:00+00:00 ---\n",
            "In-sample data from 2023-01-04 00:00:00+00:00 to 2024-01-05 00:00:00+00:00\n",
            "Out-of-sample data from 2024-01-05 01:00:00+00:00 to 2024-01-11 02:00:00+00:00\n",
            "\n",
            "\n",
            "Total candles in-sample: 8784\n",
            "Total candles out-of-sample: 144\n",
            "Total candles total: 20409\n",
            "Start Index: 8856\n",
            "End Index: 9000\n",
            "Step Size: 144\n",
            "Total Steps: 81\n",
            "\n",
            "\n",
            "Directory: /content/gdrive/MyDrive/TradingBotLogs/tuning_results_WFO_MVP_BTC_USD\n",
            "Project Name: backtest_tuning_BTC_USD_8856\n",
            "\n",
            "\n"
          ]
        },
        {
          "output_type": "stream",
          "name": "stderr",
          "text": []
        },
        {
          "output_type": "stream",
          "name": "stdout",
          "text": [
            "\n",
            "Optimal Parameters for this window: {'confidence_threshold': 0.005, 'atr_multiplier_tp': 3.5, 'atr_multiplier_sl': 0.8, 'max_position_size': 0.15000000000000002, 'breakeven_atr_multiplier': 0.3, 'profit_lock_atr_multiplier': 0.4, 'trailing_stop_multiplier': 0.060000000000000005, 'risk_per_trade_percent': 0.005, 'volatility_size_factor': 0.02, 'look_back': 72, 'max_hold_periods': 96, 'dynamic_position_sizing_method': 'risk_based', 'min_atr_threshold': 0.05, 'min_risk_reward': 0.1, 'tuner/epochs': 1, 'tuner/initial_epoch': 0, 'tuner/bracket': 0, 'tuner/round': 0}\n",
            "Sharpe Ratio from Optimization: 2.72\n",
            "\n",
            "--- Validating on unseen data from 2024-01-05 01:00:00+00:00 to 2024-01-11 02:00:00+00:00 ---\n"
          ]
        },
        {
          "output_type": "stream",
          "name": "stderr",
          "text": []
        },
        {
          "output_type": "stream",
          "name": "stdout",
          "text": [
            "--- Validation Metrics ---\n",
            "Total Return: -1.21%\n",
            "Sharpe Ratio: 3.51\n",
            "Max Drawdown: 23.97%\n",
            "Total Trades: 5\n",
            "\n",
            "\n",
            "--- Optimizing on data from 2023-01-10 00:00:00+00:00 to 2024-01-11 02:00:00+00:00 ---\n",
            "In-sample data from 2023-01-10 00:00:00+00:00 to 2024-01-11 02:00:00+00:00\n",
            "Out-of-sample data from 2024-01-11 03:00:00+00:00 to 2024-01-17 02:00:00+00:00\n",
            "\n",
            "\n",
            "Total candles in-sample: 8784\n",
            "Total candles out-of-sample: 144\n",
            "Total candles total: 20409\n",
            "Start Index: 9000\n",
            "End Index: 9144\n",
            "Step Size: 144\n",
            "Total Steps: 81\n",
            "\n",
            "\n",
            "Directory: /content/gdrive/MyDrive/TradingBotLogs/tuning_results_WFO_MVP_BTC_USD\n",
            "Project Name: backtest_tuning_BTC_USD_9000\n",
            "\n",
            "\n"
          ]
        },
        {
          "output_type": "stream",
          "name": "stderr",
          "text": []
        },
        {
          "output_type": "stream",
          "name": "stdout",
          "text": [
            "\n",
            "Optimal Parameters for this window: {'confidence_threshold': 0.01, 'atr_multiplier_tp': 2.5, 'atr_multiplier_sl': 0.5, 'max_position_size': 0.2, 'breakeven_atr_multiplier': 0.3, 'profit_lock_atr_multiplier': 0.4, 'trailing_stop_multiplier': 0.05, 'risk_per_trade_percent': 0.008, 'volatility_size_factor': 0.015, 'look_back': 72, 'max_hold_periods': 72, 'dynamic_position_sizing_method': 'volatility_based', 'min_atr_threshold': 0.05, 'min_risk_reward': 0.2, 'tuner/epochs': 1, 'tuner/initial_epoch': 0, 'tuner/bracket': 0, 'tuner/round': 0}\n",
            "Sharpe Ratio from Optimization: 4.13\n",
            "\n",
            "--- Validating on unseen data from 2024-01-11 03:00:00+00:00 to 2024-01-17 02:00:00+00:00 ---\n"
          ]
        },
        {
          "output_type": "stream",
          "name": "stderr",
          "text": []
        },
        {
          "output_type": "stream",
          "name": "stdout",
          "text": [
            "--- Validation Metrics ---\n",
            "Total Return: -0.42%\n",
            "Sharpe Ratio: 3.32\n",
            "Max Drawdown: 28.78%\n",
            "Total Trades: 4\n",
            "\n",
            "\n",
            "--- Optimizing on data from 2023-01-16 00:00:00+00:00 to 2024-01-17 02:00:00+00:00 ---\n",
            "In-sample data from 2023-01-16 00:00:00+00:00 to 2024-01-17 02:00:00+00:00\n",
            "Out-of-sample data from 2024-01-17 03:00:00+00:00 to 2024-01-23 06:00:00+00:00\n",
            "\n",
            "\n",
            "Total candles in-sample: 8784\n",
            "Total candles out-of-sample: 144\n",
            "Total candles total: 20409\n",
            "Start Index: 9144\n",
            "End Index: 9288\n",
            "Step Size: 144\n",
            "Total Steps: 81\n",
            "\n",
            "\n",
            "Directory: /content/gdrive/MyDrive/TradingBotLogs/tuning_results_WFO_MVP_BTC_USD\n",
            "Project Name: backtest_tuning_BTC_USD_9144\n",
            "\n",
            "\n"
          ]
        },
        {
          "output_type": "stream",
          "name": "stderr",
          "text": []
        },
        {
          "output_type": "stream",
          "name": "stdout",
          "text": [
            "\n",
            "Optimal Parameters for this window: {'confidence_threshold': 0.01, 'atr_multiplier_tp': 3.5, 'atr_multiplier_sl': 0.6000000000000001, 'max_position_size': 0.1, 'breakeven_atr_multiplier': 0.4, 'profit_lock_atr_multiplier': 0.3, 'trailing_stop_multiplier': 0.05, 'risk_per_trade_percent': 0.006, 'volatility_size_factor': 0.01, 'look_back': 72, 'max_hold_periods': 120, 'dynamic_position_sizing_method': 'hybrid', 'min_atr_threshold': 0.05, 'min_risk_reward': 0.4, 'tuner/epochs': 1, 'tuner/initial_epoch': 0, 'tuner/bracket': 0, 'tuner/round': 0}\n",
            "Sharpe Ratio from Optimization: 2.02\n",
            "\n",
            "--- Validating on unseen data from 2024-01-17 03:00:00+00:00 to 2024-01-23 06:00:00+00:00 ---\n"
          ]
        },
        {
          "output_type": "stream",
          "name": "stderr",
          "text": []
        },
        {
          "output_type": "stream",
          "name": "stdout",
          "text": [
            "--- Validation Metrics ---\n",
            "Total Return: 20.05%\n",
            "Sharpe Ratio: 15.04\n",
            "Max Drawdown: 0.20%\n",
            "Total Trades: 4\n",
            "\n",
            "\n",
            "--- Optimizing on data from 2023-01-22 00:00:00+00:00 to 2024-01-23 06:00:00+00:00 ---\n",
            "In-sample data from 2023-01-22 00:00:00+00:00 to 2024-01-23 06:00:00+00:00\n",
            "Out-of-sample data from 2024-01-23 07:00:00+00:00 to 2024-01-29 06:00:00+00:00\n",
            "\n",
            "\n",
            "Total candles in-sample: 8784\n",
            "Total candles out-of-sample: 144\n",
            "Total candles total: 20409\n",
            "Start Index: 9288\n",
            "End Index: 9432\n",
            "Step Size: 144\n",
            "Total Steps: 81\n",
            "\n",
            "\n",
            "Directory: /content/gdrive/MyDrive/TradingBotLogs/tuning_results_WFO_MVP_BTC_USD\n",
            "Project Name: backtest_tuning_BTC_USD_9288\n",
            "\n",
            "\n"
          ]
        },
        {
          "output_type": "stream",
          "name": "stderr",
          "text": []
        },
        {
          "output_type": "stream",
          "name": "stdout",
          "text": [
            "\n",
            "Optimal Parameters for this window: {'confidence_threshold': 0.01, 'atr_multiplier_tp': 2.0, 'atr_multiplier_sl': 0.8, 'max_position_size': 0.15000000000000002, 'breakeven_atr_multiplier': 0.3, 'profit_lock_atr_multiplier': 0.3, 'trailing_stop_multiplier': 0.07, 'risk_per_trade_percent': 0.008, 'volatility_size_factor': 0.01, 'look_back': 72, 'max_hold_periods': 96, 'dynamic_position_sizing_method': 'hybrid', 'min_atr_threshold': 0.1, 'min_risk_reward': 0.4, 'tuner/epochs': 1, 'tuner/initial_epoch': 0, 'tuner/bracket': 0, 'tuner/round': 0}\n",
            "Sharpe Ratio from Optimization: 3.11\n",
            "\n",
            "--- Validating on unseen data from 2024-01-23 07:00:00+00:00 to 2024-01-29 06:00:00+00:00 ---\n"
          ]
        },
        {
          "output_type": "stream",
          "name": "stderr",
          "text": []
        },
        {
          "output_type": "stream",
          "name": "stdout",
          "text": [
            "--- Validation Metrics ---\n",
            "Total Return: -0.42%\n",
            "Sharpe Ratio: 2.54\n",
            "Max Drawdown: 23.24%\n",
            "Total Trades: 10\n",
            "\n",
            "\n",
            "--- Optimizing on data from 2023-01-28 00:00:00+00:00 to 2024-01-29 06:00:00+00:00 ---\n",
            "In-sample data from 2023-01-28 00:00:00+00:00 to 2024-01-29 06:00:00+00:00\n",
            "Out-of-sample data from 2024-01-29 07:00:00+00:00 to 2024-02-04 06:00:00+00:00\n",
            "\n",
            "\n",
            "Total candles in-sample: 8784\n",
            "Total candles out-of-sample: 144\n",
            "Total candles total: 20409\n",
            "Start Index: 9432\n",
            "End Index: 9576\n",
            "Step Size: 144\n",
            "Total Steps: 81\n",
            "\n",
            "\n",
            "Directory: /content/gdrive/MyDrive/TradingBotLogs/tuning_results_WFO_MVP_BTC_USD\n",
            "Project Name: backtest_tuning_BTC_USD_9432\n",
            "\n",
            "\n"
          ]
        },
        {
          "output_type": "stream",
          "name": "stderr",
          "text": []
        },
        {
          "output_type": "stream",
          "name": "stdout",
          "text": [
            "\n",
            "Optimal Parameters for this window: {'confidence_threshold': 0.005, 'atr_multiplier_tp': 3.5, 'atr_multiplier_sl': 0.8, 'max_position_size': 0.15000000000000002, 'breakeven_atr_multiplier': 0.4, 'profit_lock_atr_multiplier': 0.3, 'trailing_stop_multiplier': 0.060000000000000005, 'risk_per_trade_percent': 0.005, 'volatility_size_factor': 0.01, 'look_back': 72, 'max_hold_periods': 120, 'dynamic_position_sizing_method': 'volatility_based', 'min_atr_threshold': 0.05, 'min_risk_reward': 0.30000000000000004, 'tuner/epochs': 1, 'tuner/initial_epoch': 0, 'tuner/bracket': 0, 'tuner/round': 0}\n",
            "Sharpe Ratio from Optimization: 2.70\n",
            "\n",
            "--- Validating on unseen data from 2024-01-29 07:00:00+00:00 to 2024-02-04 06:00:00+00:00 ---\n"
          ]
        },
        {
          "output_type": "stream",
          "name": "stderr",
          "text": [
            "                                                            "
          ]
        },
        {
          "output_type": "stream",
          "name": "stdout",
          "text": [
            "--- Validation Metrics ---"
          ]
        },
        {
          "output_type": "stream",
          "name": "stderr",
          "text": [
            "\r"
          ]
        },
        {
          "output_type": "stream",
          "name": "stdout",
          "text": [
            "\n",
            "Total Return: 29.49%\n",
            "Sharpe Ratio: 14.81\n",
            "Max Drawdown: 0.42%\n",
            "Total Trades: 6\n",
            "\n",
            "\n",
            "--- Optimizing on data from 2023-02-03 00:00:00+00:00 to 2024-02-04 06:00:00+00:00 ---\n",
            "In-sample data from 2023-02-03 00:00:00+00:00 to 2024-02-04 06:00:00+00:00\n",
            "Out-of-sample data from 2024-02-04 07:00:00+00:00 to 2024-02-10 06:00:00+00:00\n",
            "\n",
            "\n",
            "Total candles in-sample: 8784\n",
            "Total candles out-of-sample: 144\n",
            "Total candles total: 20409\n",
            "Start Index: 9576\n",
            "End Index: 9720\n",
            "Step Size: 144\n",
            "Total Steps: 81\n",
            "\n",
            "\n",
            "Directory: /content/gdrive/MyDrive/TradingBotLogs/tuning_results_WFO_MVP_BTC_USD\n",
            "Project Name: backtest_tuning_BTC_USD_9576\n",
            "\n",
            "\n"
          ]
        },
        {
          "output_type": "stream",
          "name": "stderr",
          "text": []
        },
        {
          "output_type": "stream",
          "name": "stdout",
          "text": [
            "\n",
            "Optimal Parameters for this window: {'confidence_threshold': 0.015, 'atr_multiplier_tp': 2.5, 'atr_multiplier_sl': 0.6000000000000001, 'max_position_size': 0.15000000000000002, 'breakeven_atr_multiplier': 0.4, 'profit_lock_atr_multiplier': 0.4, 'trailing_stop_multiplier': 0.07, 'risk_per_trade_percent': 0.008, 'volatility_size_factor': 0.01, 'look_back': 72, 'max_hold_periods': 96, 'dynamic_position_sizing_method': 'hybrid', 'min_atr_threshold': 0.05, 'min_risk_reward': 0.4, 'tuner/epochs': 1, 'tuner/initial_epoch': 0, 'tuner/bracket': 0, 'tuner/round': 0}\n",
            "Sharpe Ratio from Optimization: 3.20\n",
            "\n",
            "--- Validating on unseen data from 2024-02-04 07:00:00+00:00 to 2024-02-10 06:00:00+00:00 ---\n"
          ]
        },
        {
          "output_type": "stream",
          "name": "stderr",
          "text": [
            "                                                            "
          ]
        },
        {
          "output_type": "stream",
          "name": "stdout",
          "text": [
            "--- Validation Metrics ---\n",
            "Total Return: 0.48%\n",
            "Sharpe Ratio: 16.24\n",
            "Max Drawdown: 0.26%\n",
            "Total Trades: 5\n",
            "\n",
            "\n",
            "--- Optimizing on data from 2023-02-09 00:00:00+00:00 to 2024-02-10 06:00:00+00:00 ---\n",
            "In-sample data from 2023-02-09 00:00:00+00:00 to 2024-02-10 06:00:00+00:00\n",
            "Out-of-sample data from 2024-02-10 07:00:00+00:00 to 2024-02-16 06:00:00+00:00\n",
            "\n",
            "\n",
            "Total candles in-sample: 8784\n",
            "Total candles out-of-sample: 144\n",
            "Total candles total: 20409\n",
            "Start Index: 9720\n",
            "End Index: 9864\n",
            "Step Size: 144\n",
            "Total Steps: 81\n",
            "\n",
            "\n",
            "Directory: /content/gdrive/MyDrive/TradingBotLogs/tuning_results_WFO_MVP_BTC_USD\n",
            "Project Name: backtest_tuning_BTC_USD_9720\n",
            "\n",
            "\n"
          ]
        },
        {
          "output_type": "stream",
          "name": "stderr",
          "text": []
        },
        {
          "output_type": "stream",
          "name": "stdout",
          "text": [
            "\n",
            "Optimal Parameters for this window: {'confidence_threshold': 0.015, 'atr_multiplier_tp': 3.5, 'atr_multiplier_sl': 0.8, 'max_position_size': 0.2, 'breakeven_atr_multiplier': 0.4, 'profit_lock_atr_multiplier': 0.3, 'trailing_stop_multiplier': 0.05, 'risk_per_trade_percent': 0.008, 'volatility_size_factor': 0.01, 'look_back': 72, 'max_hold_periods': 72, 'dynamic_position_sizing_method': 'volatility_based', 'min_atr_threshold': 0.1, 'min_risk_reward': 0.2, 'tuner/epochs': 1, 'tuner/initial_epoch': 0, 'tuner/bracket': 0, 'tuner/round': 0}\n",
            "Sharpe Ratio from Optimization: 3.53\n",
            "\n",
            "--- Validating on unseen data from 2024-02-10 07:00:00+00:00 to 2024-02-16 06:00:00+00:00 ---\n"
          ]
        },
        {
          "output_type": "stream",
          "name": "stderr",
          "text": []
        },
        {
          "output_type": "stream",
          "name": "stdout",
          "text": [
            "--- Validation Metrics ---\n",
            "Total Return: -0.49%\n",
            "Sharpe Ratio: 3.29\n",
            "Max Drawdown: 28.75%\n",
            "Total Trades: 3\n",
            "\n",
            "\n",
            "--- Optimizing on data from 2023-02-15 00:00:00+00:00 to 2024-02-16 06:00:00+00:00 ---\n",
            "In-sample data from 2023-02-15 00:00:00+00:00 to 2024-02-16 06:00:00+00:00\n",
            "Out-of-sample data from 2024-02-16 07:00:00+00:00 to 2024-02-22 06:00:00+00:00\n",
            "\n",
            "\n",
            "Total candles in-sample: 8784\n",
            "Total candles out-of-sample: 144\n",
            "Total candles total: 20409\n",
            "Start Index: 9864\n",
            "End Index: 10008\n",
            "Step Size: 144\n",
            "Total Steps: 81\n",
            "\n",
            "\n",
            "Directory: /content/gdrive/MyDrive/TradingBotLogs/tuning_results_WFO_MVP_BTC_USD\n",
            "Project Name: backtest_tuning_BTC_USD_9864\n",
            "\n",
            "\n"
          ]
        },
        {
          "output_type": "stream",
          "name": "stderr",
          "text": []
        },
        {
          "output_type": "stream",
          "name": "stdout",
          "text": [
            "\n",
            "Optimal Parameters for this window: {'confidence_threshold': 0.015, 'atr_multiplier_tp': 2.0, 'atr_multiplier_sl': 0.5, 'max_position_size': 0.2, 'breakeven_atr_multiplier': 0.5, 'profit_lock_atr_multiplier': 0.3, 'trailing_stop_multiplier': 0.060000000000000005, 'risk_per_trade_percent': 0.006, 'volatility_size_factor': 0.02, 'look_back': 72, 'max_hold_periods': 96, 'dynamic_position_sizing_method': 'risk_based', 'min_atr_threshold': 0.05, 'min_risk_reward': 0.1, 'tuner/epochs': 1, 'tuner/initial_epoch': 0, 'tuner/bracket': 0, 'tuner/round': 0}\n",
            "Sharpe Ratio from Optimization: 4.26\n",
            "\n",
            "--- Validating on unseen data from 2024-02-16 07:00:00+00:00 to 2024-02-22 06:00:00+00:00 ---\n"
          ]
        },
        {
          "output_type": "stream",
          "name": "stderr",
          "text": []
        },
        {
          "output_type": "stream",
          "name": "stdout",
          "text": [
            "--- Validation Metrics ---\n",
            "Total Return: -1.72%\n",
            "Sharpe Ratio: 8.26\n",
            "Max Drawdown: 29.92%\n",
            "Total Trades: 12\n",
            "\n",
            "\n",
            "--- Optimizing on data from 2023-02-21 00:00:00+00:00 to 2024-02-22 06:00:00+00:00 ---\n",
            "In-sample data from 2023-02-21 00:00:00+00:00 to 2024-02-22 06:00:00+00:00\n",
            "Out-of-sample data from 2024-02-22 07:00:00+00:00 to 2024-02-28 06:00:00+00:00\n",
            "\n",
            "\n",
            "Total candles in-sample: 8784\n",
            "Total candles out-of-sample: 144\n",
            "Total candles total: 20409\n",
            "Start Index: 10008\n",
            "End Index: 10152\n",
            "Step Size: 144\n",
            "Total Steps: 81\n",
            "\n",
            "\n",
            "Directory: /content/gdrive/MyDrive/TradingBotLogs/tuning_results_WFO_MVP_BTC_USD\n",
            "Project Name: backtest_tuning_BTC_USD_10008\n",
            "\n",
            "\n"
          ]
        },
        {
          "output_type": "stream",
          "name": "stderr",
          "text": []
        },
        {
          "output_type": "stream",
          "name": "stdout",
          "text": [
            "\n",
            "Optimal Parameters for this window: {'confidence_threshold': 0.015, 'atr_multiplier_tp': 1.5, 'atr_multiplier_sl': 0.6000000000000001, 'max_position_size': 0.15000000000000002, 'breakeven_atr_multiplier': 0.4, 'profit_lock_atr_multiplier': 0.5, 'trailing_stop_multiplier': 0.07, 'risk_per_trade_percent': 0.007, 'volatility_size_factor': 0.015, 'look_back': 72, 'max_hold_periods': 72, 'dynamic_position_sizing_method': 'volatility_based', 'min_atr_threshold': 0.05, 'min_risk_reward': 0.2, 'tuner/epochs': 1, 'tuner/initial_epoch': 0, 'tuner/bracket': 0, 'tuner/round': 0}\n",
            "Sharpe Ratio from Optimization: 3.36\n",
            "\n",
            "--- Validating on unseen data from 2024-02-22 07:00:00+00:00 to 2024-02-28 06:00:00+00:00 ---\n"
          ]
        },
        {
          "output_type": "stream",
          "name": "stderr",
          "text": []
        },
        {
          "output_type": "stream",
          "name": "stdout",
          "text": [
            "--- Validation Metrics ---\n",
            "Total Return: 0.63%\n",
            "Sharpe Ratio: 16.71\n",
            "Max Drawdown: 0.26%\n",
            "Total Trades: 7\n",
            "\n",
            "\n",
            "--- Optimizing on data from 2023-02-27 00:00:00+00:00 to 2024-02-28 06:00:00+00:00 ---\n",
            "In-sample data from 2023-02-27 00:00:00+00:00 to 2024-02-28 06:00:00+00:00\n",
            "Out-of-sample data from 2024-02-28 07:00:00+00:00 to 2024-03-05 06:00:00+00:00\n",
            "\n",
            "\n",
            "Total candles in-sample: 8784\n",
            "Total candles out-of-sample: 144\n",
            "Total candles total: 20409\n",
            "Start Index: 10152\n",
            "End Index: 10296\n",
            "Step Size: 144\n",
            "Total Steps: 81\n",
            "\n",
            "\n",
            "Directory: /content/gdrive/MyDrive/TradingBotLogs/tuning_results_WFO_MVP_BTC_USD\n",
            "Project Name: backtest_tuning_BTC_USD_10152\n",
            "\n",
            "\n"
          ]
        },
        {
          "output_type": "stream",
          "name": "stderr",
          "text": []
        },
        {
          "output_type": "stream",
          "name": "stdout",
          "text": [
            "\n",
            "Optimal Parameters for this window: {'confidence_threshold': 0.005, 'atr_multiplier_tp': 3.5, 'atr_multiplier_sl': 0.7000000000000001, 'max_position_size': 0.15000000000000002, 'breakeven_atr_multiplier': 0.5, 'profit_lock_atr_multiplier': 0.4, 'trailing_stop_multiplier': 0.07, 'risk_per_trade_percent': 0.005, 'volatility_size_factor': 0.01, 'look_back': 72, 'max_hold_periods': 72, 'dynamic_position_sizing_method': 'hybrid', 'min_atr_threshold': 0.1, 'min_risk_reward': 0.2, 'tuner/epochs': 1, 'tuner/initial_epoch': 0, 'tuner/bracket': 0, 'tuner/round': 0}\n",
            "Sharpe Ratio from Optimization: 2.80\n",
            "\n",
            "--- Validating on unseen data from 2024-02-28 07:00:00+00:00 to 2024-03-05 06:00:00+00:00 ---\n"
          ]
        },
        {
          "output_type": "stream",
          "name": "stderr",
          "text": []
        },
        {
          "output_type": "stream",
          "name": "stdout",
          "text": [
            "--- Validation Metrics ---\n",
            "Total Return: 0.78%\n",
            "Sharpe Ratio: 20.81\n",
            "Max Drawdown: 0.37%\n",
            "Total Trades: 3\n",
            "\n",
            "\n",
            "--- Optimizing on data from 2023-03-05 00:00:00+00:00 to 2024-03-05 06:00:00+00:00 ---\n",
            "In-sample data from 2023-03-05 00:00:00+00:00 to 2024-03-05 06:00:00+00:00\n",
            "Out-of-sample data from 2024-03-05 07:00:00+00:00 to 2024-03-11 06:00:00+00:00\n",
            "\n",
            "\n",
            "Total candles in-sample: 8784\n",
            "Total candles out-of-sample: 144\n",
            "Total candles total: 20409\n",
            "Start Index: 10296\n",
            "End Index: 10440\n",
            "Step Size: 144\n",
            "Total Steps: 81\n",
            "\n",
            "\n",
            "Directory: /content/gdrive/MyDrive/TradingBotLogs/tuning_results_WFO_MVP_BTC_USD\n",
            "Project Name: backtest_tuning_BTC_USD_10296\n",
            "\n",
            "\n"
          ]
        },
        {
          "output_type": "stream",
          "name": "stderr",
          "text": []
        },
        {
          "output_type": "stream",
          "name": "stdout",
          "text": [
            "\n",
            "Optimal Parameters for this window: {'confidence_threshold': 0.01, 'atr_multiplier_tp': 3.0, 'atr_multiplier_sl': 0.6000000000000001, 'max_position_size': 0.15000000000000002, 'breakeven_atr_multiplier': 0.4, 'profit_lock_atr_multiplier': 0.4, 'trailing_stop_multiplier': 0.05, 'risk_per_trade_percent': 0.007, 'volatility_size_factor': 0.015, 'look_back': 72, 'max_hold_periods': 96, 'dynamic_position_sizing_method': 'hybrid', 'min_atr_threshold': 0.1, 'min_risk_reward': 0.1, 'tuner/epochs': 1, 'tuner/initial_epoch': 0, 'tuner/bracket': 0, 'tuner/round': 0}\n",
            "Sharpe Ratio from Optimization: 3.02\n",
            "\n",
            "--- Validating on unseen data from 2024-03-05 07:00:00+00:00 to 2024-03-11 06:00:00+00:00 ---\n"
          ]
        },
        {
          "output_type": "stream",
          "name": "stderr",
          "text": []
        },
        {
          "output_type": "stream",
          "name": "stdout",
          "text": [
            "--- Validation Metrics ---\n",
            "Total Return: -0.15%\n",
            "Sharpe Ratio: 3.79\n",
            "Max Drawdown: 23.33%\n",
            "Total Trades: 6\n",
            "\n",
            "\n",
            "--- Optimizing on data from 2023-03-11 00:00:00+00:00 to 2024-03-11 06:00:00+00:00 ---\n",
            "In-sample data from 2023-03-11 00:00:00+00:00 to 2024-03-11 06:00:00+00:00\n",
            "Out-of-sample data from 2024-03-11 07:00:00+00:00 to 2024-03-17 06:00:00+00:00\n",
            "\n",
            "\n",
            "Total candles in-sample: 8784\n",
            "Total candles out-of-sample: 144\n",
            "Total candles total: 20409\n",
            "Start Index: 10440\n",
            "End Index: 10584\n",
            "Step Size: 144\n",
            "Total Steps: 81\n",
            "\n",
            "\n",
            "Directory: /content/gdrive/MyDrive/TradingBotLogs/tuning_results_WFO_MVP_BTC_USD\n",
            "Project Name: backtest_tuning_BTC_USD_10440\n",
            "\n",
            "\n"
          ]
        },
        {
          "output_type": "stream",
          "name": "stderr",
          "text": []
        },
        {
          "output_type": "stream",
          "name": "stdout",
          "text": [
            "\n",
            "Optimal Parameters for this window: {'confidence_threshold': 0.005, 'atr_multiplier_tp': 3.0, 'atr_multiplier_sl': 0.5, 'max_position_size': 0.2, 'breakeven_atr_multiplier': 0.3, 'profit_lock_atr_multiplier': 0.5, 'trailing_stop_multiplier': 0.05, 'risk_per_trade_percent': 0.006, 'volatility_size_factor': 0.015, 'look_back': 72, 'max_hold_periods': 72, 'dynamic_position_sizing_method': 'volatility_based', 'min_atr_threshold': 0.1, 'min_risk_reward': 0.2, 'tuner/epochs': 1, 'tuner/initial_epoch': 0, 'tuner/bracket': 0, 'tuner/round': 0}\n",
            "Sharpe Ratio from Optimization: 3.91\n",
            "\n",
            "--- Validating on unseen data from 2024-03-11 07:00:00+00:00 to 2024-03-17 06:00:00+00:00 ---\n"
          ]
        },
        {
          "output_type": "stream",
          "name": "stderr",
          "text": []
        },
        {
          "output_type": "stream",
          "name": "stdout",
          "text": [
            "--- Validation Metrics ---\n",
            "Total Return: 39.52%\n",
            "Sharpe Ratio: 12.03\n",
            "Max Drawdown: 28.97%\n",
            "Total Trades: 5\n",
            "\n",
            "\n",
            "--- Optimizing on data from 2023-03-17 00:00:00+00:00 to 2024-03-17 06:00:00+00:00 ---\n",
            "In-sample data from 2023-03-17 00:00:00+00:00 to 2024-03-17 06:00:00+00:00\n",
            "Out-of-sample data from 2024-03-17 07:00:00+00:00 to 2024-03-23 06:00:00+00:00\n",
            "\n",
            "\n",
            "Total candles in-sample: 8784\n",
            "Total candles out-of-sample: 144\n",
            "Total candles total: 20409\n",
            "Start Index: 10584\n",
            "End Index: 10728\n",
            "Step Size: 144\n",
            "Total Steps: 81\n",
            "\n",
            "\n",
            "Directory: /content/gdrive/MyDrive/TradingBotLogs/tuning_results_WFO_MVP_BTC_USD\n",
            "Project Name: backtest_tuning_BTC_USD_10584\n",
            "\n",
            "\n"
          ]
        },
        {
          "output_type": "stream",
          "name": "stderr",
          "text": []
        },
        {
          "output_type": "stream",
          "name": "stdout",
          "text": [
            "\n",
            "Optimal Parameters for this window: {'confidence_threshold': 0.01, 'atr_multiplier_tp': 2.0, 'atr_multiplier_sl': 0.8, 'max_position_size': 0.2, 'breakeven_atr_multiplier': 0.4, 'profit_lock_atr_multiplier': 0.3, 'trailing_stop_multiplier': 0.060000000000000005, 'risk_per_trade_percent': 0.007, 'volatility_size_factor': 0.01, 'look_back': 72, 'max_hold_periods': 120, 'dynamic_position_sizing_method': 'risk_based', 'min_atr_threshold': 0.1, 'min_risk_reward': 0.1, 'tuner/epochs': 1, 'tuner/initial_epoch': 0, 'tuner/bracket': 0, 'tuner/round': 0}\n",
            "Sharpe Ratio from Optimization: 3.82\n",
            "\n",
            "--- Validating on unseen data from 2024-03-17 07:00:00+00:00 to 2024-03-23 06:00:00+00:00 ---\n"
          ]
        },
        {
          "output_type": "stream",
          "name": "stderr",
          "text": []
        },
        {
          "output_type": "stream",
          "name": "stdout",
          "text": [
            "--- Validation Metrics ---\n",
            "Total Return: 40.71%\n",
            "Sharpe Ratio: 12.23\n",
            "Max Drawdown: 28.39%\n",
            "Total Trades: 2\n",
            "\n",
            "\n",
            "--- Optimizing on data from 2023-03-23 00:00:00+00:00 to 2024-03-23 06:00:00+00:00 ---\n",
            "In-sample data from 2023-03-23 00:00:00+00:00 to 2024-03-23 06:00:00+00:00\n",
            "Out-of-sample data from 2024-03-23 07:00:00+00:00 to 2024-03-29 06:00:00+00:00\n",
            "\n",
            "\n",
            "Total candles in-sample: 8784\n",
            "Total candles out-of-sample: 144\n",
            "Total candles total: 20409\n",
            "Start Index: 10728\n",
            "End Index: 10872\n",
            "Step Size: 144\n",
            "Total Steps: 81\n",
            "\n",
            "\n",
            "Directory: /content/gdrive/MyDrive/TradingBotLogs/tuning_results_WFO_MVP_BTC_USD\n",
            "Project Name: backtest_tuning_BTC_USD_10728\n",
            "\n",
            "\n"
          ]
        },
        {
          "output_type": "stream",
          "name": "stderr",
          "text": []
        },
        {
          "output_type": "stream",
          "name": "stdout",
          "text": [
            "\n",
            "Optimal Parameters for this window: {'confidence_threshold': 0.015, 'atr_multiplier_tp': 3.5, 'atr_multiplier_sl': 0.5, 'max_position_size': 0.2, 'breakeven_atr_multiplier': 0.5, 'profit_lock_atr_multiplier': 0.4, 'trailing_stop_multiplier': 0.060000000000000005, 'risk_per_trade_percent': 0.007, 'volatility_size_factor': 0.015, 'look_back': 72, 'max_hold_periods': 96, 'dynamic_position_sizing_method': 'hybrid', 'min_atr_threshold': 0.1, 'min_risk_reward': 0.30000000000000004, 'tuner/epochs': 1, 'tuner/initial_epoch': 0, 'tuner/bracket': 0, 'tuner/round': 0}\n",
            "Sharpe Ratio from Optimization: 3.87\n",
            "\n",
            "--- Validating on unseen data from 2024-03-23 07:00:00+00:00 to 2024-03-29 06:00:00+00:00 ---\n"
          ]
        },
        {
          "output_type": "stream",
          "name": "stderr",
          "text": []
        },
        {
          "output_type": "stream",
          "name": "stdout",
          "text": [
            "--- Validation Metrics ---\n",
            "Total Return: -0.48%\n",
            "Sharpe Ratio: 3.30\n",
            "Max Drawdown: 28.98%\n",
            "Total Trades: 8\n",
            "\n",
            "\n",
            "--- Optimizing on data from 2023-03-29 00:00:00+00:00 to 2024-03-29 06:00:00+00:00 ---\n",
            "In-sample data from 2023-03-29 00:00:00+00:00 to 2024-03-29 06:00:00+00:00\n",
            "Out-of-sample data from 2024-03-29 07:00:00+00:00 to 2024-04-04 06:00:00+00:00\n",
            "\n",
            "\n",
            "Total candles in-sample: 8784\n",
            "Total candles out-of-sample: 144\n",
            "Total candles total: 20409\n",
            "Start Index: 10872\n",
            "End Index: 11016\n",
            "Step Size: 144\n",
            "Total Steps: 81\n",
            "\n",
            "\n",
            "Directory: /content/gdrive/MyDrive/TradingBotLogs/tuning_results_WFO_MVP_BTC_USD\n",
            "Project Name: backtest_tuning_BTC_USD_10872\n",
            "\n",
            "\n"
          ]
        },
        {
          "output_type": "stream",
          "name": "stderr",
          "text": []
        },
        {
          "output_type": "stream",
          "name": "stdout",
          "text": [
            "\n",
            "Optimal Parameters for this window: {'confidence_threshold': 0.005, 'atr_multiplier_tp': 3.5, 'atr_multiplier_sl': 0.7000000000000001, 'max_position_size': 0.15000000000000002, 'breakeven_atr_multiplier': 0.4, 'profit_lock_atr_multiplier': 0.4, 'trailing_stop_multiplier': 0.07, 'risk_per_trade_percent': 0.006, 'volatility_size_factor': 0.01, 'look_back': 72, 'max_hold_periods': 72, 'dynamic_position_sizing_method': 'volatility_based', 'min_atr_threshold': 0.05, 'min_risk_reward': 0.4, 'tuner/epochs': 1, 'tuner/initial_epoch': 0, 'tuner/bracket': 0, 'tuner/round': 0}\n",
            "Sharpe Ratio from Optimization: 2.86\n",
            "\n",
            "--- Validating on unseen data from 2024-03-29 07:00:00+00:00 to 2024-04-04 06:00:00+00:00 ---\n"
          ]
        },
        {
          "output_type": "stream",
          "name": "stderr",
          "text": []
        },
        {
          "output_type": "stream",
          "name": "stdout",
          "text": [
            "--- Validation Metrics ---\n",
            "Total Return: -0.03%\n",
            "Sharpe Ratio: -1.34\n",
            "Max Drawdown: 0.26%\n",
            "Total Trades: 2\n",
            "\n",
            "\n",
            "--- Optimizing on data from 2023-04-04 00:00:00+00:00 to 2024-04-04 06:00:00+00:00 ---\n",
            "In-sample data from 2023-04-04 00:00:00+00:00 to 2024-04-04 06:00:00+00:00\n",
            "Out-of-sample data from 2024-04-04 07:00:00+00:00 to 2024-04-10 06:00:00+00:00\n",
            "\n",
            "\n",
            "Total candles in-sample: 8784\n",
            "Total candles out-of-sample: 144\n",
            "Total candles total: 20409\n",
            "Start Index: 11016\n",
            "End Index: 11160\n",
            "Step Size: 144\n",
            "Total Steps: 81\n",
            "\n",
            "\n",
            "Directory: /content/gdrive/MyDrive/TradingBotLogs/tuning_results_WFO_MVP_BTC_USD\n",
            "Project Name: backtest_tuning_BTC_USD_11016\n",
            "\n",
            "\n"
          ]
        },
        {
          "output_type": "stream",
          "name": "stderr",
          "text": []
        },
        {
          "output_type": "stream",
          "name": "stdout",
          "text": [
            "\n",
            "Optimal Parameters for this window: {'confidence_threshold': 0.015, 'atr_multiplier_tp': 3.5, 'atr_multiplier_sl': 0.4, 'max_position_size': 0.15000000000000002, 'breakeven_atr_multiplier': 0.4, 'profit_lock_atr_multiplier': 0.3, 'trailing_stop_multiplier': 0.05, 'risk_per_trade_percent': 0.008, 'volatility_size_factor': 0.015, 'look_back': 72, 'max_hold_periods': 120, 'dynamic_position_sizing_method': 'risk_based', 'min_atr_threshold': 0.05, 'min_risk_reward': 0.4, 'tuner/epochs': 1, 'tuner/initial_epoch': 0, 'tuner/bracket': 0, 'tuner/round': 0}\n",
            "Sharpe Ratio from Optimization: 3.09\n",
            "\n",
            "--- Validating on unseen data from 2024-04-04 07:00:00+00:00 to 2024-04-10 06:00:00+00:00 ---\n"
          ]
        },
        {
          "output_type": "stream",
          "name": "stderr",
          "text": []
        },
        {
          "output_type": "stream",
          "name": "stdout",
          "text": [
            "--- Validation Metrics ---\n",
            "Total Return: 0.04%\n",
            "Sharpe Ratio: 2.71\n",
            "Max Drawdown: 23.12%\n",
            "Total Trades: 4\n",
            "\n",
            "\n",
            "--- Optimizing on data from 2023-04-10 00:00:00+00:00 to 2024-04-10 06:00:00+00:00 ---\n",
            "In-sample data from 2023-04-10 00:00:00+00:00 to 2024-04-10 06:00:00+00:00\n",
            "Out-of-sample data from 2024-04-10 07:00:00+00:00 to 2024-04-16 11:00:00+00:00\n",
            "\n",
            "\n",
            "Total candles in-sample: 8784\n",
            "Total candles out-of-sample: 144\n",
            "Total candles total: 20409\n",
            "Start Index: 11160\n",
            "End Index: 11304\n",
            "Step Size: 144\n",
            "Total Steps: 81\n",
            "\n",
            "\n",
            "Directory: /content/gdrive/MyDrive/TradingBotLogs/tuning_results_WFO_MVP_BTC_USD\n",
            "Project Name: backtest_tuning_BTC_USD_11160\n",
            "\n",
            "\n"
          ]
        },
        {
          "output_type": "stream",
          "name": "stderr",
          "text": []
        },
        {
          "output_type": "stream",
          "name": "stdout",
          "text": [
            "\n",
            "Optimal Parameters for this window: {'confidence_threshold': 0.005, 'atr_multiplier_tp': 1.5, 'atr_multiplier_sl': 0.8, 'max_position_size': 0.1, 'breakeven_atr_multiplier': 0.4, 'profit_lock_atr_multiplier': 0.4, 'trailing_stop_multiplier': 0.060000000000000005, 'risk_per_trade_percent': 0.005, 'volatility_size_factor': 0.015, 'look_back': 72, 'max_hold_periods': 72, 'dynamic_position_sizing_method': 'risk_based', 'min_atr_threshold': 0.1, 'min_risk_reward': 0.30000000000000004, 'tuner/epochs': 1, 'tuner/initial_epoch': 0, 'tuner/bracket': 0, 'tuner/round': 0}\n",
            "Sharpe Ratio from Optimization: 2.15\n",
            "\n",
            "--- Validating on unseen data from 2024-04-10 07:00:00+00:00 to 2024-04-16 11:00:00+00:00 ---\n"
          ]
        },
        {
          "output_type": "stream",
          "name": "stderr",
          "text": []
        },
        {
          "output_type": "stream",
          "name": "stdout",
          "text": [
            "--- Validation Metrics ---\n",
            "Total Return: -0.01%\n",
            "Sharpe Ratio: 2.67\n",
            "Max Drawdown: 16.93%\n",
            "Total Trades: 7\n",
            "\n",
            "\n",
            "--- Optimizing on data from 2023-04-16 00:00:00+00:00 to 2024-04-16 11:00:00+00:00 ---\n",
            "In-sample data from 2023-04-16 00:00:00+00:00 to 2024-04-16 11:00:00+00:00\n",
            "Out-of-sample data from 2024-04-16 12:00:00+00:00 to 2024-04-22 11:00:00+00:00\n",
            "\n",
            "\n",
            "Total candles in-sample: 8784\n",
            "Total candles out-of-sample: 144\n",
            "Total candles total: 20409\n",
            "Start Index: 11304\n",
            "End Index: 11448\n",
            "Step Size: 144\n",
            "Total Steps: 81\n",
            "\n",
            "\n",
            "Directory: /content/gdrive/MyDrive/TradingBotLogs/tuning_results_WFO_MVP_BTC_USD\n",
            "Project Name: backtest_tuning_BTC_USD_11304\n",
            "\n",
            "\n"
          ]
        },
        {
          "output_type": "stream",
          "name": "stderr",
          "text": []
        },
        {
          "output_type": "stream",
          "name": "stdout",
          "text": [
            "\n",
            "Optimal Parameters for this window: {'confidence_threshold': 0.01, 'atr_multiplier_tp': 3.0, 'atr_multiplier_sl': 0.5, 'max_position_size': 0.15000000000000002, 'breakeven_atr_multiplier': 0.3, 'profit_lock_atr_multiplier': 0.5, 'trailing_stop_multiplier': 0.05, 'risk_per_trade_percent': 0.007, 'volatility_size_factor': 0.02, 'look_back': 72, 'max_hold_periods': 120, 'dynamic_position_sizing_method': 'risk_based', 'min_atr_threshold': 0.05, 'min_risk_reward': 0.4, 'tuner/epochs': 1, 'tuner/initial_epoch': 0, 'tuner/bracket': 0, 'tuner/round': 0}\n",
            "Sharpe Ratio from Optimization: 3.12\n",
            "\n",
            "--- Validating on unseen data from 2024-04-16 12:00:00+00:00 to 2024-04-22 11:00:00+00:00 ---\n"
          ]
        },
        {
          "output_type": "stream",
          "name": "stderr",
          "text": []
        },
        {
          "output_type": "stream",
          "name": "stdout",
          "text": [
            "--- Validation Metrics ---\n",
            "Total Return: -0.06%\n",
            "Sharpe Ratio: -2.54\n",
            "Max Drawdown: 0.40%\n",
            "Total Trades: 5\n",
            "\n",
            "\n",
            "--- Optimizing on data from 2023-04-22 00:00:00+00:00 to 2024-04-22 11:00:00+00:00 ---\n",
            "In-sample data from 2023-04-22 00:00:00+00:00 to 2024-04-22 11:00:00+00:00\n",
            "Out-of-sample data from 2024-04-22 12:00:00+00:00 to 2024-04-28 11:00:00+00:00\n",
            "\n",
            "\n",
            "Total candles in-sample: 8784\n",
            "Total candles out-of-sample: 144\n",
            "Total candles total: 20409\n",
            "Start Index: 11448\n",
            "End Index: 11592\n",
            "Step Size: 144\n",
            "Total Steps: 81\n",
            "\n",
            "\n",
            "Directory: /content/gdrive/MyDrive/TradingBotLogs/tuning_results_WFO_MVP_BTC_USD\n",
            "Project Name: backtest_tuning_BTC_USD_11448\n",
            "\n",
            "\n"
          ]
        },
        {
          "output_type": "stream",
          "name": "stderr",
          "text": []
        },
        {
          "output_type": "stream",
          "name": "stdout",
          "text": [
            "\n",
            "Optimal Parameters for this window: {'confidence_threshold': 0.01, 'atr_multiplier_tp': 3.0, 'atr_multiplier_sl': 0.5, 'max_position_size': 0.2, 'breakeven_atr_multiplier': 0.5, 'profit_lock_atr_multiplier': 0.4, 'trailing_stop_multiplier': 0.060000000000000005, 'risk_per_trade_percent': 0.006, 'volatility_size_factor': 0.015, 'look_back': 72, 'max_hold_periods': 96, 'dynamic_position_sizing_method': 'volatility_based', 'min_atr_threshold': 0.1, 'min_risk_reward': 0.1, 'tuner/epochs': 1, 'tuner/initial_epoch': 0, 'tuner/bracket': 0, 'tuner/round': 0}\n",
            "Sharpe Ratio from Optimization: 3.87\n",
            "\n",
            "--- Validating on unseen data from 2024-04-22 12:00:00+00:00 to 2024-04-28 11:00:00+00:00 ---\n"
          ]
        },
        {
          "output_type": "stream",
          "name": "stderr",
          "text": []
        },
        {
          "output_type": "stream",
          "name": "stdout",
          "text": [
            "--- Validation Metrics ---\n",
            "Total Return: -0.74%\n",
            "Sharpe Ratio: 3.22\n",
            "Max Drawdown: 29.13%\n",
            "Total Trades: 5\n",
            "\n",
            "\n",
            "--- Optimizing on data from 2023-04-28 00:00:00+00:00 to 2024-04-28 11:00:00+00:00 ---\n",
            "In-sample data from 2023-04-28 00:00:00+00:00 to 2024-04-28 11:00:00+00:00\n",
            "Out-of-sample data from 2024-04-28 12:00:00+00:00 to 2024-05-04 11:00:00+00:00\n",
            "\n",
            "\n",
            "Total candles in-sample: 8784\n",
            "Total candles out-of-sample: 144\n",
            "Total candles total: 20409\n",
            "Start Index: 11592\n",
            "End Index: 11736\n",
            "Step Size: 144\n",
            "Total Steps: 81\n",
            "\n",
            "\n",
            "Directory: /content/gdrive/MyDrive/TradingBotLogs/tuning_results_WFO_MVP_BTC_USD\n",
            "Project Name: backtest_tuning_BTC_USD_11592\n",
            "\n",
            "\n"
          ]
        },
        {
          "output_type": "stream",
          "name": "stderr",
          "text": []
        },
        {
          "output_type": "stream",
          "name": "stdout",
          "text": [
            "\n",
            "Optimal Parameters for this window: {'confidence_threshold': 0.015, 'atr_multiplier_tp': 2.0, 'atr_multiplier_sl': 0.5, 'max_position_size': 0.1, 'breakeven_atr_multiplier': 0.4, 'profit_lock_atr_multiplier': 0.5, 'trailing_stop_multiplier': 0.060000000000000005, 'risk_per_trade_percent': 0.008, 'volatility_size_factor': 0.01, 'look_back': 72, 'max_hold_periods': 120, 'dynamic_position_sizing_method': 'risk_based', 'min_atr_threshold': 0.05, 'min_risk_reward': 0.2, 'tuner/epochs': 1, 'tuner/initial_epoch': 0, 'tuner/bracket': 0, 'tuner/round': 0}\n",
            "Sharpe Ratio from Optimization: 2.33\n",
            "\n",
            "--- Validating on unseen data from 2024-04-28 12:00:00+00:00 to 2024-05-04 11:00:00+00:00 ---\n"
          ]
        },
        {
          "output_type": "stream",
          "name": "stderr",
          "text": []
        },
        {
          "output_type": "stream",
          "name": "stdout",
          "text": [
            "--- Validation Metrics ---\n",
            "Total Return: 0.36%\n",
            "Sharpe Ratio: 14.18\n",
            "Max Drawdown: 0.20%\n",
            "Total Trades: 7\n",
            "\n",
            "\n",
            "--- Optimizing on data from 2023-05-04 00:00:00+00:00 to 2024-05-04 11:00:00+00:00 ---\n",
            "In-sample data from 2023-05-04 00:00:00+00:00 to 2024-05-04 11:00:00+00:00\n",
            "Out-of-sample data from 2024-05-04 12:00:00+00:00 to 2024-05-10 11:00:00+00:00\n",
            "\n",
            "\n",
            "Total candles in-sample: 8784\n",
            "Total candles out-of-sample: 144\n",
            "Total candles total: 20409\n",
            "Start Index: 11736\n",
            "End Index: 11880\n",
            "Step Size: 144\n",
            "Total Steps: 81\n",
            "\n",
            "\n",
            "Directory: /content/gdrive/MyDrive/TradingBotLogs/tuning_results_WFO_MVP_BTC_USD\n",
            "Project Name: backtest_tuning_BTC_USD_11736\n",
            "\n",
            "\n"
          ]
        },
        {
          "output_type": "stream",
          "name": "stderr",
          "text": []
        },
        {
          "output_type": "stream",
          "name": "stdout",
          "text": [
            "\n",
            "Optimal Parameters for this window: {'confidence_threshold': 0.015, 'atr_multiplier_tp': 1.5, 'atr_multiplier_sl': 0.8, 'max_position_size': 0.1, 'breakeven_atr_multiplier': 0.3, 'profit_lock_atr_multiplier': 0.3, 'trailing_stop_multiplier': 0.05, 'risk_per_trade_percent': 0.006, 'volatility_size_factor': 0.02, 'look_back': 72, 'max_hold_periods': 96, 'dynamic_position_sizing_method': 'volatility_based', 'min_atr_threshold': 0.05, 'min_risk_reward': 0.1, 'tuner/epochs': 1, 'tuner/initial_epoch': 0, 'tuner/bracket': 0, 'tuner/round': 0}\n",
            "Sharpe Ratio from Optimization: 2.23\n",
            "\n",
            "--- Validating on unseen data from 2024-05-04 12:00:00+00:00 to 2024-05-10 11:00:00+00:00 ---\n"
          ]
        },
        {
          "output_type": "stream",
          "name": "stderr",
          "text": []
        },
        {
          "output_type": "stream",
          "name": "stdout",
          "text": [
            "--- Validation Metrics ---\n",
            "Total Return: -0.19%\n",
            "Sharpe Ratio: 2.60\n",
            "Max Drawdown: 17.02%\n",
            "Total Trades: 7\n",
            "\n",
            "\n",
            "--- Optimizing on data from 2023-05-10 01:00:00+00:00 to 2024-05-10 11:00:00+00:00 ---\n",
            "In-sample data from 2023-05-10 01:00:00+00:00 to 2024-05-10 11:00:00+00:00\n",
            "Out-of-sample data from 2024-05-10 12:00:00+00:00 to 2024-05-16 11:00:00+00:00\n",
            "\n",
            "\n",
            "Total candles in-sample: 8784\n",
            "Total candles out-of-sample: 144\n",
            "Total candles total: 20409\n",
            "Start Index: 11880\n",
            "End Index: 12024\n",
            "Step Size: 144\n",
            "Total Steps: 81\n",
            "\n",
            "\n",
            "Directory: /content/gdrive/MyDrive/TradingBotLogs/tuning_results_WFO_MVP_BTC_USD\n",
            "Project Name: backtest_tuning_BTC_USD_11880\n",
            "\n",
            "\n"
          ]
        },
        {
          "output_type": "stream",
          "name": "stderr",
          "text": []
        },
        {
          "output_type": "stream",
          "name": "stdout",
          "text": [
            "\n",
            "Optimal Parameters for this window: {'confidence_threshold': 0.01, 'atr_multiplier_tp': 2.5, 'atr_multiplier_sl': 0.8, 'max_position_size': 0.15000000000000002, 'breakeven_atr_multiplier': 0.4, 'profit_lock_atr_multiplier': 0.3, 'trailing_stop_multiplier': 0.05, 'risk_per_trade_percent': 0.005, 'volatility_size_factor': 0.02, 'look_back': 72, 'max_hold_periods': 120, 'dynamic_position_sizing_method': 'risk_based', 'min_atr_threshold': 0.05, 'min_risk_reward': 0.4, 'tuner/epochs': 1, 'tuner/initial_epoch': 0, 'tuner/bracket': 0, 'tuner/round': 0}\n",
            "Sharpe Ratio from Optimization: 2.97\n",
            "\n",
            "--- Validating on unseen data from 2024-05-10 12:00:00+00:00 to 2024-05-16 11:00:00+00:00 ---\n"
          ]
        },
        {
          "output_type": "stream",
          "name": "stderr",
          "text": []
        },
        {
          "output_type": "stream",
          "name": "stdout",
          "text": [
            "--- Validation Metrics ---\n",
            "Total Return: 0.43%\n",
            "Sharpe Ratio: 20.63\n",
            "Max Drawdown: 0.16%\n",
            "Total Trades: 5\n",
            "\n",
            "\n",
            "--- Optimizing on data from 2023-05-16 01:00:00+00:00 to 2024-05-16 11:00:00+00:00 ---\n",
            "In-sample data from 2023-05-16 01:00:00+00:00 to 2024-05-16 11:00:00+00:00\n",
            "Out-of-sample data from 2024-05-16 12:00:00+00:00 to 2024-05-22 11:00:00+00:00\n",
            "\n",
            "\n",
            "Total candles in-sample: 8784\n",
            "Total candles out-of-sample: 144\n",
            "Total candles total: 20409\n",
            "Start Index: 12024\n",
            "End Index: 12168\n",
            "Step Size: 144\n",
            "Total Steps: 81\n",
            "\n",
            "\n",
            "Directory: /content/gdrive/MyDrive/TradingBotLogs/tuning_results_WFO_MVP_BTC_USD\n",
            "Project Name: backtest_tuning_BTC_USD_12024\n",
            "\n",
            "\n"
          ]
        },
        {
          "output_type": "stream",
          "name": "stderr",
          "text": []
        },
        {
          "output_type": "stream",
          "name": "stdout",
          "text": [
            "\n",
            "Optimal Parameters for this window: {'confidence_threshold': 0.005, 'atr_multiplier_tp': 2.5, 'atr_multiplier_sl': 0.4, 'max_position_size': 0.15000000000000002, 'breakeven_atr_multiplier': 0.4, 'profit_lock_atr_multiplier': 0.3, 'trailing_stop_multiplier': 0.05, 'risk_per_trade_percent': 0.007, 'volatility_size_factor': 0.015, 'look_back': 72, 'max_hold_periods': 96, 'dynamic_position_sizing_method': 'hybrid', 'min_atr_threshold': 0.05, 'min_risk_reward': 0.30000000000000004, 'tuner/epochs': 1, 'tuner/initial_epoch': 0, 'tuner/bracket': 0, 'tuner/round': 0}\n",
            "Sharpe Ratio from Optimization: 3.25\n",
            "\n",
            "--- Validating on unseen data from 2024-05-16 12:00:00+00:00 to 2024-05-22 11:00:00+00:00 ---\n"
          ]
        },
        {
          "output_type": "stream",
          "name": "stderr",
          "text": []
        },
        {
          "output_type": "stream",
          "name": "stdout",
          "text": [
            "--- Validation Metrics ---\n",
            "Total Return: -0.62%\n",
            "Sharpe Ratio: 2.46\n",
            "Max Drawdown: 23.53%\n",
            "Total Trades: 6\n",
            "\n",
            "\n",
            "--- Optimizing on data from 2023-05-22 01:00:00+00:00 to 2024-05-22 11:00:00+00:00 ---\n",
            "In-sample data from 2023-05-22 01:00:00+00:00 to 2024-05-22 11:00:00+00:00\n",
            "Out-of-sample data from 2024-05-22 12:00:00+00:00 to 2024-05-28 11:00:00+00:00\n",
            "\n",
            "\n",
            "Total candles in-sample: 8784\n",
            "Total candles out-of-sample: 144\n",
            "Total candles total: 20409\n",
            "Start Index: 12168\n",
            "End Index: 12312\n",
            "Step Size: 144\n",
            "Total Steps: 81\n",
            "\n",
            "\n",
            "Directory: /content/gdrive/MyDrive/TradingBotLogs/tuning_results_WFO_MVP_BTC_USD\n",
            "Project Name: backtest_tuning_BTC_USD_12168\n",
            "\n",
            "\n"
          ]
        },
        {
          "output_type": "stream",
          "name": "stderr",
          "text": []
        },
        {
          "output_type": "stream",
          "name": "stdout",
          "text": [
            "\n",
            "Optimal Parameters for this window: {'confidence_threshold': 0.01, 'atr_multiplier_tp': 2.5, 'atr_multiplier_sl': 0.6000000000000001, 'max_position_size': 0.2, 'breakeven_atr_multiplier': 0.3, 'profit_lock_atr_multiplier': 0.3, 'trailing_stop_multiplier': 0.05, 'risk_per_trade_percent': 0.006, 'volatility_size_factor': 0.015, 'look_back': 72, 'max_hold_periods': 120, 'dynamic_position_sizing_method': 'volatility_based', 'min_atr_threshold': 0.1, 'min_risk_reward': 0.30000000000000004, 'tuner/epochs': 1, 'tuner/initial_epoch': 0, 'tuner/bracket': 0, 'tuner/round': 0}\n",
            "Sharpe Ratio from Optimization: 4.13\n",
            "\n",
            "--- Validating on unseen data from 2024-05-22 12:00:00+00:00 to 2024-05-28 11:00:00+00:00 ---\n"
          ]
        },
        {
          "output_type": "stream",
          "name": "stderr",
          "text": []
        },
        {
          "output_type": "stream",
          "name": "stdout",
          "text": [
            "--- Validation Metrics ---\n",
            "Total Return: 39.11%\n",
            "Sharpe Ratio: 11.68\n",
            "Max Drawdown: 29.17%\n",
            "Total Trades: 10\n",
            "\n",
            "\n",
            "--- Optimizing on data from 2023-05-28 01:00:00+00:00 to 2024-05-28 11:00:00+00:00 ---\n",
            "In-sample data from 2023-05-28 01:00:00+00:00 to 2024-05-28 11:00:00+00:00\n",
            "Out-of-sample data from 2024-05-28 12:00:00+00:00 to 2024-06-03 11:00:00+00:00\n",
            "\n",
            "\n",
            "Total candles in-sample: 8784\n",
            "Total candles out-of-sample: 144\n",
            "Total candles total: 20409\n",
            "Start Index: 12312\n",
            "End Index: 12456\n",
            "Step Size: 144\n",
            "Total Steps: 81\n",
            "\n",
            "\n",
            "Directory: /content/gdrive/MyDrive/TradingBotLogs/tuning_results_WFO_MVP_BTC_USD\n",
            "Project Name: backtest_tuning_BTC_USD_12312\n",
            "\n",
            "\n"
          ]
        },
        {
          "output_type": "stream",
          "name": "stderr",
          "text": []
        },
        {
          "output_type": "stream",
          "name": "stdout",
          "text": [
            "\n",
            "Optimal Parameters for this window: {'confidence_threshold': 0.01, 'atr_multiplier_tp': 3.5, 'atr_multiplier_sl': 0.4, 'max_position_size': 0.1, 'breakeven_atr_multiplier': 0.5, 'profit_lock_atr_multiplier': 0.3, 'trailing_stop_multiplier': 0.05, 'risk_per_trade_percent': 0.006, 'volatility_size_factor': 0.02, 'look_back': 72, 'max_hold_periods': 72, 'dynamic_position_sizing_method': 'hybrid', 'min_atr_threshold': 0.05, 'min_risk_reward': 0.2, 'tuner/epochs': 1, 'tuner/initial_epoch': 0, 'tuner/bracket': 0, 'tuner/round': 0}\n",
            "Sharpe Ratio from Optimization: 2.15\n",
            "\n",
            "--- Validating on unseen data from 2024-05-28 12:00:00+00:00 to 2024-06-03 11:00:00+00:00 ---\n"
          ]
        },
        {
          "output_type": "stream",
          "name": "stderr",
          "text": []
        },
        {
          "output_type": "stream",
          "name": "stdout",
          "text": [
            "--- Validation Metrics ---\n",
            "Total Return: -0.56%\n",
            "Sharpe Ratio: -42.61\n",
            "Max Drawdown: 0.77%\n",
            "Total Trades: 18\n",
            "\n",
            "\n",
            "--- Optimizing on data from 2023-06-03 01:00:00+00:00 to 2024-06-03 11:00:00+00:00 ---\n",
            "In-sample data from 2023-06-03 01:00:00+00:00 to 2024-06-03 11:00:00+00:00\n",
            "Out-of-sample data from 2024-06-03 12:00:00+00:00 to 2024-06-09 11:00:00+00:00\n",
            "\n",
            "\n",
            "Total candles in-sample: 8784\n",
            "Total candles out-of-sample: 144\n",
            "Total candles total: 20409\n",
            "Start Index: 12456\n",
            "End Index: 12600\n",
            "Step Size: 144\n",
            "Total Steps: 81\n",
            "\n",
            "\n",
            "Directory: /content/gdrive/MyDrive/TradingBotLogs/tuning_results_WFO_MVP_BTC_USD\n",
            "Project Name: backtest_tuning_BTC_USD_12456\n",
            "\n",
            "\n"
          ]
        },
        {
          "output_type": "stream",
          "name": "stderr",
          "text": []
        },
        {
          "output_type": "stream",
          "name": "stdout",
          "text": [
            "\n",
            "Optimal Parameters for this window: {'confidence_threshold': 0.01, 'atr_multiplier_tp': 3.5, 'atr_multiplier_sl': 0.5, 'max_position_size': 0.2, 'breakeven_atr_multiplier': 0.3, 'profit_lock_atr_multiplier': 0.4, 'trailing_stop_multiplier': 0.060000000000000005, 'risk_per_trade_percent': 0.008, 'volatility_size_factor': 0.015, 'look_back': 72, 'max_hold_periods': 96, 'dynamic_position_sizing_method': 'volatility_based', 'min_atr_threshold': 0.05, 'min_risk_reward': 0.2, 'tuner/epochs': 1, 'tuner/initial_epoch': 0, 'tuner/bracket': 0, 'tuner/round': 0}\n",
            "Sharpe Ratio from Optimization: 3.92\n",
            "\n",
            "--- Validating on unseen data from 2024-06-03 12:00:00+00:00 to 2024-06-09 11:00:00+00:00 ---\n"
          ]
        },
        {
          "output_type": "stream",
          "name": "stderr",
          "text": []
        },
        {
          "output_type": "stream",
          "name": "stdout",
          "text": [
            "--- Validation Metrics ---\n",
            "Total Return: -1.30%\n",
            "Sharpe Ratio: 3.05\n",
            "Max Drawdown: 29.46%\n",
            "Total Trades: 15\n",
            "\n",
            "\n",
            "--- Optimizing on data from 2023-06-09 01:00:00+00:00 to 2024-06-09 11:00:00+00:00 ---\n",
            "In-sample data from 2023-06-09 01:00:00+00:00 to 2024-06-09 11:00:00+00:00\n",
            "Out-of-sample data from 2024-06-09 12:00:00+00:00 to 2024-06-15 11:00:00+00:00\n",
            "\n",
            "\n",
            "Total candles in-sample: 8784\n",
            "Total candles out-of-sample: 144\n",
            "Total candles total: 20409\n",
            "Start Index: 12600\n",
            "End Index: 12744\n",
            "Step Size: 144\n",
            "Total Steps: 81\n",
            "\n",
            "\n",
            "Directory: /content/gdrive/MyDrive/TradingBotLogs/tuning_results_WFO_MVP_BTC_USD\n",
            "Project Name: backtest_tuning_BTC_USD_12600\n",
            "\n",
            "\n"
          ]
        },
        {
          "output_type": "stream",
          "name": "stderr",
          "text": []
        },
        {
          "output_type": "stream",
          "name": "stdout",
          "text": [
            "\n",
            "Optimal Parameters for this window: {'confidence_threshold': 0.015, 'atr_multiplier_tp': 3.0, 'atr_multiplier_sl': 0.4, 'max_position_size': 0.15000000000000002, 'breakeven_atr_multiplier': 0.4, 'profit_lock_atr_multiplier': 0.4, 'trailing_stop_multiplier': 0.07, 'risk_per_trade_percent': 0.008, 'volatility_size_factor': 0.015, 'look_back': 72, 'max_hold_periods': 120, 'dynamic_position_sizing_method': 'risk_based', 'min_atr_threshold': 0.05, 'min_risk_reward': 0.4, 'tuner/epochs': 1, 'tuner/initial_epoch': 0, 'tuner/bracket': 0, 'tuner/round': 0}\n",
            "Sharpe Ratio from Optimization: 3.12\n",
            "\n",
            "--- Validating on unseen data from 2024-06-09 12:00:00+00:00 to 2024-06-15 11:00:00+00:00 ---\n"
          ]
        },
        {
          "output_type": "stream",
          "name": "stderr",
          "text": []
        },
        {
          "output_type": "stream",
          "name": "stdout",
          "text": [
            "--- Validation Metrics ---\n",
            "Total Return: -0.71%\n",
            "Sharpe Ratio: 4.53\n",
            "Max Drawdown: 23.53%\n",
            "Total Trades: 8\n",
            "\n",
            "\n",
            "--- Optimizing on data from 2023-06-15 01:00:00+00:00 to 2024-06-15 11:00:00+00:00 ---\n",
            "In-sample data from 2023-06-15 01:00:00+00:00 to 2024-06-15 11:00:00+00:00\n",
            "Out-of-sample data from 2024-06-15 12:00:00+00:00 to 2024-06-21 11:00:00+00:00\n",
            "\n",
            "\n",
            "Total candles in-sample: 8784\n",
            "Total candles out-of-sample: 144\n",
            "Total candles total: 20409\n",
            "Start Index: 12744\n",
            "End Index: 12888\n",
            "Step Size: 144\n",
            "Total Steps: 81\n",
            "\n",
            "\n",
            "Directory: /content/gdrive/MyDrive/TradingBotLogs/tuning_results_WFO_MVP_BTC_USD\n",
            "Project Name: backtest_tuning_BTC_USD_12744\n",
            "\n",
            "\n"
          ]
        },
        {
          "output_type": "stream",
          "name": "stderr",
          "text": []
        },
        {
          "output_type": "stream",
          "name": "stdout",
          "text": [
            "\n",
            "Optimal Parameters for this window: {'confidence_threshold': 0.005, 'atr_multiplier_tp': 2.5, 'atr_multiplier_sl': 0.6000000000000001, 'max_position_size': 0.2, 'breakeven_atr_multiplier': 0.5, 'profit_lock_atr_multiplier': 0.3, 'trailing_stop_multiplier': 0.05, 'risk_per_trade_percent': 0.007, 'volatility_size_factor': 0.01, 'look_back': 72, 'max_hold_periods': 96, 'dynamic_position_sizing_method': 'risk_based', 'min_atr_threshold': 0.05, 'min_risk_reward': 0.1, 'tuner/epochs': 1, 'tuner/initial_epoch': 0, 'tuner/bracket': 0, 'tuner/round': 0}\n",
            "Sharpe Ratio from Optimization: 4.07\n",
            "\n",
            "--- Validating on unseen data from 2024-06-15 12:00:00+00:00 to 2024-06-21 11:00:00+00:00 ---\n"
          ]
        },
        {
          "output_type": "stream",
          "name": "stderr",
          "text": []
        },
        {
          "output_type": "stream",
          "name": "stdout",
          "text": [
            "--- Validation Metrics ---\n",
            "Total Return: 39.46%\n",
            "Sharpe Ratio: 11.62\n",
            "Max Drawdown: 28.82%\n",
            "Total Trades: 7\n",
            "\n",
            "\n",
            "--- Optimizing on data from 2023-06-21 01:00:00+00:00 to 2024-06-21 11:00:00+00:00 ---\n",
            "In-sample data from 2023-06-21 01:00:00+00:00 to 2024-06-21 11:00:00+00:00\n",
            "Out-of-sample data from 2024-06-21 12:00:00+00:00 to 2024-06-27 11:00:00+00:00\n",
            "\n",
            "\n",
            "Total candles in-sample: 8784\n",
            "Total candles out-of-sample: 144\n",
            "Total candles total: 20409\n",
            "Start Index: 12888\n",
            "End Index: 13032\n",
            "Step Size: 144\n",
            "Total Steps: 81\n",
            "\n",
            "\n",
            "Directory: /content/gdrive/MyDrive/TradingBotLogs/tuning_results_WFO_MVP_BTC_USD\n",
            "Project Name: backtest_tuning_BTC_USD_12888\n",
            "\n",
            "\n"
          ]
        },
        {
          "output_type": "stream",
          "name": "stderr",
          "text": []
        },
        {
          "output_type": "stream",
          "name": "stdout",
          "text": [
            "\n",
            "Optimal Parameters for this window: {'confidence_threshold': 0.015, 'atr_multiplier_tp': 2.0, 'atr_multiplier_sl': 0.5, 'max_position_size': 0.2, 'breakeven_atr_multiplier': 0.5, 'profit_lock_atr_multiplier': 0.5, 'trailing_stop_multiplier': 0.07, 'risk_per_trade_percent': 0.005, 'volatility_size_factor': 0.01, 'look_back': 72, 'max_hold_periods': 120, 'dynamic_position_sizing_method': 'hybrid', 'min_atr_threshold': 0.05, 'min_risk_reward': 0.30000000000000004, 'tuner/epochs': 1, 'tuner/initial_epoch': 0, 'tuner/bracket': 0, 'tuner/round': 0}\n",
            "Sharpe Ratio from Optimization: 4.37\n",
            "\n",
            "--- Validating on unseen data from 2024-06-21 12:00:00+00:00 to 2024-06-27 11:00:00+00:00 ---\n"
          ]
        },
        {
          "output_type": "stream",
          "name": "stderr",
          "text": []
        },
        {
          "output_type": "stream",
          "name": "stdout",
          "text": [
            "--- Validation Metrics ---\n",
            "Total Return: -0.61%\n",
            "Sharpe Ratio: 4.74\n",
            "Max Drawdown: 28.75%\n",
            "Total Trades: 6\n",
            "\n",
            "\n",
            "--- Optimizing on data from 2023-06-27 01:00:00+00:00 to 2024-06-27 11:00:00+00:00 ---\n",
            "In-sample data from 2023-06-27 01:00:00+00:00 to 2024-06-27 11:00:00+00:00\n",
            "Out-of-sample data from 2024-06-27 12:00:00+00:00 to 2024-07-03 11:00:00+00:00\n",
            "\n",
            "\n",
            "Total candles in-sample: 8784\n",
            "Total candles out-of-sample: 144\n",
            "Total candles total: 20409\n",
            "Start Index: 13032\n",
            "End Index: 13176\n",
            "Step Size: 144\n",
            "Total Steps: 81\n",
            "\n",
            "\n",
            "Directory: /content/gdrive/MyDrive/TradingBotLogs/tuning_results_WFO_MVP_BTC_USD\n",
            "Project Name: backtest_tuning_BTC_USD_13032\n",
            "\n",
            "\n"
          ]
        },
        {
          "output_type": "stream",
          "name": "stderr",
          "text": []
        },
        {
          "output_type": "stream",
          "name": "stdout",
          "text": [
            "\n",
            "Optimal Parameters for this window: {'confidence_threshold': 0.01, 'atr_multiplier_tp': 1.5, 'atr_multiplier_sl': 0.5, 'max_position_size': 0.1, 'breakeven_atr_multiplier': 0.4, 'profit_lock_atr_multiplier': 0.4, 'trailing_stop_multiplier': 0.060000000000000005, 'risk_per_trade_percent': 0.005, 'volatility_size_factor': 0.015, 'look_back': 72, 'max_hold_periods': 72, 'dynamic_position_sizing_method': 'volatility_based', 'min_atr_threshold': 0.1, 'min_risk_reward': 0.1, 'tuner/epochs': 1, 'tuner/initial_epoch': 0, 'tuner/bracket': 0, 'tuner/round': 0}\n",
            "Sharpe Ratio from Optimization: 2.45\n",
            "\n",
            "--- Validating on unseen data from 2024-06-27 12:00:00+00:00 to 2024-07-03 11:00:00+00:00 ---\n"
          ]
        },
        {
          "output_type": "stream",
          "name": "stderr",
          "text": []
        },
        {
          "output_type": "stream",
          "name": "stdout",
          "text": [
            "--- Validation Metrics ---\n",
            "Total Return: 19.39%\n",
            "Sharpe Ratio: 8.87\n",
            "Max Drawdown: 17.17%\n",
            "Total Trades: 11\n",
            "\n",
            "\n",
            "--- Optimizing on data from 2023-07-03 01:00:00+00:00 to 2024-07-03 11:00:00+00:00 ---\n",
            "In-sample data from 2023-07-03 01:00:00+00:00 to 2024-07-03 11:00:00+00:00\n",
            "Out-of-sample data from 2024-07-03 12:00:00+00:00 to 2024-07-09 11:00:00+00:00\n",
            "\n",
            "\n",
            "Total candles in-sample: 8784\n",
            "Total candles out-of-sample: 144\n",
            "Total candles total: 20409\n",
            "Start Index: 13176\n",
            "End Index: 13320\n",
            "Step Size: 144\n",
            "Total Steps: 81\n",
            "\n",
            "\n",
            "Directory: /content/gdrive/MyDrive/TradingBotLogs/tuning_results_WFO_MVP_BTC_USD\n",
            "Project Name: backtest_tuning_BTC_USD_13176\n",
            "\n",
            "\n"
          ]
        },
        {
          "output_type": "stream",
          "name": "stderr",
          "text": []
        },
        {
          "output_type": "stream",
          "name": "stdout",
          "text": [
            "\n",
            "Optimal Parameters for this window: {'confidence_threshold': 0.015, 'atr_multiplier_tp': 2.0, 'atr_multiplier_sl': 0.8, 'max_position_size': 0.15000000000000002, 'breakeven_atr_multiplier': 0.5, 'profit_lock_atr_multiplier': 0.5, 'trailing_stop_multiplier': 0.05, 'risk_per_trade_percent': 0.005, 'volatility_size_factor': 0.01, 'look_back': 72, 'max_hold_periods': 96, 'dynamic_position_sizing_method': 'risk_based', 'min_atr_threshold': 0.1, 'min_risk_reward': 0.30000000000000004, 'tuner/epochs': 1, 'tuner/initial_epoch': 0, 'tuner/bracket': 0, 'tuner/round': 0}\n",
            "Sharpe Ratio from Optimization: 3.17\n",
            "\n",
            "--- Validating on unseen data from 2024-07-03 12:00:00+00:00 to 2024-07-09 11:00:00+00:00 ---\n"
          ]
        },
        {
          "output_type": "stream",
          "name": "stderr",
          "text": []
        },
        {
          "output_type": "stream",
          "name": "stdout",
          "text": [
            "--- Validation Metrics ---\n",
            "Total Return: 0.37%\n",
            "Sharpe Ratio: 4.77\n",
            "Max Drawdown: 23.41%\n",
            "Total Trades: 8\n",
            "\n",
            "\n",
            "--- Optimizing on data from 2023-07-09 01:00:00+00:00 to 2024-07-09 11:00:00+00:00 ---\n",
            "In-sample data from 2023-07-09 01:00:00+00:00 to 2024-07-09 11:00:00+00:00\n",
            "Out-of-sample data from 2024-07-09 12:00:00+00:00 to 2024-07-15 11:00:00+00:00\n",
            "\n",
            "\n",
            "Total candles in-sample: 8784\n",
            "Total candles out-of-sample: 144\n",
            "Total candles total: 20409\n",
            "Start Index: 13320\n",
            "End Index: 13464\n",
            "Step Size: 144\n",
            "Total Steps: 81\n",
            "\n",
            "\n",
            "Directory: /content/gdrive/MyDrive/TradingBotLogs/tuning_results_WFO_MVP_BTC_USD\n",
            "Project Name: backtest_tuning_BTC_USD_13320\n",
            "\n",
            "\n"
          ]
        },
        {
          "output_type": "stream",
          "name": "stderr",
          "text": []
        },
        {
          "output_type": "stream",
          "name": "stdout",
          "text": [
            "\n",
            "Optimal Parameters for this window: {'confidence_threshold': 0.01, 'atr_multiplier_tp': 1.5, 'atr_multiplier_sl': 0.4, 'max_position_size': 0.2, 'breakeven_atr_multiplier': 0.5, 'profit_lock_atr_multiplier': 0.5, 'trailing_stop_multiplier': 0.07, 'risk_per_trade_percent': 0.008, 'volatility_size_factor': 0.01, 'look_back': 72, 'max_hold_periods': 72, 'dynamic_position_sizing_method': 'risk_based', 'min_atr_threshold': 0.05, 'min_risk_reward': 0.4, 'tuner/epochs': 1, 'tuner/initial_epoch': 0, 'tuner/bracket': 0, 'tuner/round': 0}\n",
            "Sharpe Ratio from Optimization: 4.64\n",
            "\n",
            "--- Validating on unseen data from 2024-07-09 12:00:00+00:00 to 2024-07-15 11:00:00+00:00 ---\n"
          ]
        },
        {
          "output_type": "stream",
          "name": "stderr",
          "text": []
        },
        {
          "output_type": "stream",
          "name": "stdout",
          "text": [
            "--- Validation Metrics ---\n",
            "Total Return: 1.05%\n",
            "Sharpe Ratio: 22.54\n",
            "Max Drawdown: 0.29%\n",
            "Total Trades: 7\n",
            "\n",
            "\n",
            "--- Optimizing on data from 2023-07-15 01:00:00+00:00 to 2024-07-15 11:00:00+00:00 ---\n",
            "In-sample data from 2023-07-15 01:00:00+00:00 to 2024-07-15 11:00:00+00:00\n",
            "Out-of-sample data from 2024-07-15 12:00:00+00:00 to 2024-07-21 11:00:00+00:00\n",
            "\n",
            "\n",
            "Total candles in-sample: 8784\n",
            "Total candles out-of-sample: 144\n",
            "Total candles total: 20409\n",
            "Start Index: 13464\n",
            "End Index: 13608\n",
            "Step Size: 144\n",
            "Total Steps: 81\n",
            "\n",
            "\n",
            "Directory: /content/gdrive/MyDrive/TradingBotLogs/tuning_results_WFO_MVP_BTC_USD\n",
            "Project Name: backtest_tuning_BTC_USD_13464\n",
            "\n",
            "\n"
          ]
        },
        {
          "output_type": "stream",
          "name": "stderr",
          "text": []
        },
        {
          "output_type": "stream",
          "name": "stdout",
          "text": [
            "\n",
            "Optimal Parameters for this window: {'confidence_threshold': 0.01, 'atr_multiplier_tp': 1.5, 'atr_multiplier_sl': 0.5, 'max_position_size': 0.2, 'breakeven_atr_multiplier': 0.3, 'profit_lock_atr_multiplier': 0.3, 'trailing_stop_multiplier': 0.05, 'risk_per_trade_percent': 0.007, 'volatility_size_factor': 0.02, 'look_back': 72, 'max_hold_periods': 72, 'dynamic_position_sizing_method': 'risk_based', 'min_atr_threshold': 0.05, 'min_risk_reward': 0.4, 'tuner/epochs': 1, 'tuner/initial_epoch': 0, 'tuner/bracket': 0, 'tuner/round': 0}\n",
            "Sharpe Ratio from Optimization: 4.59\n",
            "\n",
            "--- Validating on unseen data from 2024-07-15 12:00:00+00:00 to 2024-07-21 11:00:00+00:00 ---\n"
          ]
        },
        {
          "output_type": "stream",
          "name": "stderr",
          "text": []
        },
        {
          "output_type": "stream",
          "name": "stdout",
          "text": [
            "--- Validation Metrics ---\n",
            "Total Return: -0.61%\n",
            "Sharpe Ratio: -26.41\n",
            "Max Drawdown: 0.66%\n",
            "Total Trades: 8\n",
            "\n",
            "\n",
            "--- Optimizing on data from 2023-07-21 01:00:00+00:00 to 2024-07-21 11:00:00+00:00 ---\n",
            "In-sample data from 2023-07-21 01:00:00+00:00 to 2024-07-21 11:00:00+00:00\n",
            "Out-of-sample data from 2024-07-21 12:00:00+00:00 to 2024-07-27 11:00:00+00:00\n",
            "\n",
            "\n",
            "Total candles in-sample: 8784\n",
            "Total candles out-of-sample: 144\n",
            "Total candles total: 20409\n",
            "Start Index: 13608\n",
            "End Index: 13752\n",
            "Step Size: 144\n",
            "Total Steps: 81\n",
            "\n",
            "\n",
            "Directory: /content/gdrive/MyDrive/TradingBotLogs/tuning_results_WFO_MVP_BTC_USD\n",
            "Project Name: backtest_tuning_BTC_USD_13608\n",
            "\n",
            "\n"
          ]
        },
        {
          "output_type": "stream",
          "name": "stderr",
          "text": []
        },
        {
          "output_type": "stream",
          "name": "stdout",
          "text": [
            "\n",
            "Optimal Parameters for this window: {'confidence_threshold': 0.005, 'atr_multiplier_tp': 3.5, 'atr_multiplier_sl': 0.7000000000000001, 'max_position_size': 0.15000000000000002, 'breakeven_atr_multiplier': 0.5, 'profit_lock_atr_multiplier': 0.4, 'trailing_stop_multiplier': 0.060000000000000005, 'risk_per_trade_percent': 0.007, 'volatility_size_factor': 0.015, 'look_back': 72, 'max_hold_periods': 120, 'dynamic_position_sizing_method': 'hybrid', 'min_atr_threshold': 0.1, 'min_risk_reward': 0.2, 'tuner/epochs': 1, 'tuner/initial_epoch': 0, 'tuner/bracket': 0, 'tuner/round': 0}\n",
            "Sharpe Ratio from Optimization: 2.85\n",
            "\n",
            "--- Validating on unseen data from 2024-07-21 12:00:00+00:00 to 2024-07-27 11:00:00+00:00 ---\n"
          ]
        },
        {
          "output_type": "stream",
          "name": "stderr",
          "text": [
            "                                                            "
          ]
        },
        {
          "output_type": "stream",
          "name": "stdout",
          "text": [
            "--- Validation Metrics ---\n",
            "Total Return: 0.17%\n",
            "Sharpe Ratio: 6.08\n",
            "Max Drawdown: 0.34%\n",
            "Total Trades: 4\n",
            "\n",
            "\n",
            "--- Optimizing on data from 2023-07-27 01:00:00+00:00 to 2024-07-27 11:00:00+00:00 ---\n",
            "In-sample data from 2023-07-27 01:00:00+00:00 to 2024-07-27 11:00:00+00:00\n",
            "Out-of-sample data from 2024-07-27 12:00:00+00:00 to 2024-08-02 11:00:00+00:00\n",
            "\n",
            "\n",
            "Total candles in-sample: 8784\n",
            "Total candles out-of-sample: 144\n",
            "Total candles total: 20409\n",
            "Start Index: 13752\n",
            "End Index: 13896\n",
            "Step Size: 144\n",
            "Total Steps: 81\n",
            "\n",
            "\n",
            "Directory: /content/gdrive/MyDrive/TradingBotLogs/tuning_results_WFO_MVP_BTC_USD\n",
            "Project Name: backtest_tuning_BTC_USD_13752\n",
            "\n",
            "\n"
          ]
        },
        {
          "output_type": "stream",
          "name": "stderr",
          "text": []
        },
        {
          "output_type": "stream",
          "name": "stdout",
          "text": [
            "\n",
            "Optimal Parameters for this window: {'confidence_threshold': 0.005, 'atr_multiplier_tp': 2.5, 'atr_multiplier_sl': 0.6000000000000001, 'max_position_size': 0.2, 'breakeven_atr_multiplier': 0.5, 'profit_lock_atr_multiplier': 0.3, 'trailing_stop_multiplier': 0.05, 'risk_per_trade_percent': 0.007, 'volatility_size_factor': 0.01, 'look_back': 72, 'max_hold_periods': 96, 'dynamic_position_sizing_method': 'risk_based', 'min_atr_threshold': 0.05, 'min_risk_reward': 0.1, 'tuner/epochs': 1, 'tuner/initial_epoch': 0, 'tuner/bracket': 0, 'tuner/round': 0}\n",
            "Sharpe Ratio from Optimization: 4.17\n",
            "\n",
            "--- Validating on unseen data from 2024-07-27 12:00:00+00:00 to 2024-08-02 11:00:00+00:00 ---\n"
          ]
        },
        {
          "output_type": "stream",
          "name": "stderr",
          "text": []
        },
        {
          "output_type": "stream",
          "name": "stdout",
          "text": [
            "--- Validation Metrics ---\n",
            "Total Return: 0.12%\n",
            "Sharpe Ratio: 5.98\n",
            "Max Drawdown: 28.96%\n",
            "Total Trades: 5\n",
            "\n",
            "\n",
            "--- Optimizing on data from 2023-08-02 01:00:00+00:00 to 2024-08-02 11:00:00+00:00 ---\n",
            "In-sample data from 2023-08-02 01:00:00+00:00 to 2024-08-02 11:00:00+00:00\n",
            "Out-of-sample data from 2024-08-02 12:00:00+00:00 to 2024-08-08 11:00:00+00:00\n",
            "\n",
            "\n",
            "Total candles in-sample: 8784\n",
            "Total candles out-of-sample: 144\n",
            "Total candles total: 20409\n",
            "Start Index: 13896\n",
            "End Index: 14040\n",
            "Step Size: 144\n",
            "Total Steps: 81\n",
            "\n",
            "\n",
            "Directory: /content/gdrive/MyDrive/TradingBotLogs/tuning_results_WFO_MVP_BTC_USD\n",
            "Project Name: backtest_tuning_BTC_USD_13896\n",
            "\n",
            "\n"
          ]
        },
        {
          "output_type": "stream",
          "name": "stderr",
          "text": []
        },
        {
          "output_type": "stream",
          "name": "stdout",
          "text": [
            "\n",
            "Optimal Parameters for this window: {'confidence_threshold': 0.01, 'atr_multiplier_tp': 1.5, 'atr_multiplier_sl': 0.6000000000000001, 'max_position_size': 0.2, 'breakeven_atr_multiplier': 0.3, 'profit_lock_atr_multiplier': 0.5, 'trailing_stop_multiplier': 0.060000000000000005, 'risk_per_trade_percent': 0.006, 'volatility_size_factor': 0.015, 'look_back': 72, 'max_hold_periods': 96, 'dynamic_position_sizing_method': 'volatility_based', 'min_atr_threshold': 0.05, 'min_risk_reward': 0.2, 'tuner/epochs': 1, 'tuner/initial_epoch': 0, 'tuner/bracket': 0, 'tuner/round': 0}\n",
            "Sharpe Ratio from Optimization: 4.55\n",
            "\n",
            "--- Validating on unseen data from 2024-08-02 12:00:00+00:00 to 2024-08-08 11:00:00+00:00 ---\n"
          ]
        },
        {
          "output_type": "stream",
          "name": "stderr",
          "text": []
        },
        {
          "output_type": "stream",
          "name": "stdout",
          "text": [
            "--- Validation Metrics ---\n",
            "Total Return: 0.03%\n",
            "Sharpe Ratio: 4.87\n",
            "Max Drawdown: 28.86%\n",
            "Total Trades: 7\n",
            "\n",
            "\n",
            "--- Optimizing on data from 2023-08-08 01:00:00+00:00 to 2024-08-08 11:00:00+00:00 ---\n",
            "In-sample data from 2023-08-08 01:00:00+00:00 to 2024-08-08 11:00:00+00:00\n",
            "Out-of-sample data from 2024-08-08 12:00:00+00:00 to 2024-08-14 11:00:00+00:00\n",
            "\n",
            "\n",
            "Total candles in-sample: 8784\n",
            "Total candles out-of-sample: 144\n",
            "Total candles total: 20409\n",
            "Start Index: 14040\n",
            "End Index: 14184\n",
            "Step Size: 144\n",
            "Total Steps: 81\n",
            "\n",
            "\n",
            "Directory: /content/gdrive/MyDrive/TradingBotLogs/tuning_results_WFO_MVP_BTC_USD\n",
            "Project Name: backtest_tuning_BTC_USD_14040\n",
            "\n",
            "\n"
          ]
        },
        {
          "output_type": "stream",
          "name": "stderr",
          "text": []
        },
        {
          "output_type": "stream",
          "name": "stdout",
          "text": [
            "\n",
            "Optimal Parameters for this window: {'confidence_threshold': 0.01, 'atr_multiplier_tp': 3.5, 'atr_multiplier_sl': 0.4, 'max_position_size': 0.2, 'breakeven_atr_multiplier': 0.5, 'profit_lock_atr_multiplier': 0.5, 'trailing_stop_multiplier': 0.060000000000000005, 'risk_per_trade_percent': 0.005, 'volatility_size_factor': 0.015, 'look_back': 72, 'max_hold_periods': 120, 'dynamic_position_sizing_method': 'hybrid', 'min_atr_threshold': 0.1, 'min_risk_reward': 0.4, 'tuner/epochs': 1, 'tuner/initial_epoch': 0, 'tuner/bracket': 0, 'tuner/round': 0}\n",
            "Sharpe Ratio from Optimization: 4.10\n",
            "\n",
            "--- Validating on unseen data from 2024-08-08 12:00:00+00:00 to 2024-08-14 11:00:00+00:00 ---\n"
          ]
        },
        {
          "output_type": "stream",
          "name": "stderr",
          "text": []
        },
        {
          "output_type": "stream",
          "name": "stdout",
          "text": [
            "--- Validation Metrics ---\n",
            "Total Return: -0.04%\n",
            "Sharpe Ratio: 3.43\n",
            "Max Drawdown: 28.74%\n",
            "Total Trades: 5\n",
            "\n",
            "\n",
            "--- Optimizing on data from 2023-08-14 01:00:00+00:00 to 2024-08-14 11:00:00+00:00 ---\n",
            "In-sample data from 2023-08-14 01:00:00+00:00 to 2024-08-14 11:00:00+00:00\n",
            "Out-of-sample data from 2024-08-14 12:00:00+00:00 to 2024-08-20 11:00:00+00:00\n",
            "\n",
            "\n",
            "Total candles in-sample: 8784\n",
            "Total candles out-of-sample: 144\n",
            "Total candles total: 20409\n",
            "Start Index: 14184\n",
            "End Index: 14328\n",
            "Step Size: 144\n",
            "Total Steps: 81\n",
            "\n",
            "\n",
            "Directory: /content/gdrive/MyDrive/TradingBotLogs/tuning_results_WFO_MVP_BTC_USD\n",
            "Project Name: backtest_tuning_BTC_USD_14184\n",
            "\n",
            "\n"
          ]
        },
        {
          "output_type": "stream",
          "name": "stderr",
          "text": []
        },
        {
          "output_type": "stream",
          "name": "stdout",
          "text": [
            "\n",
            "Optimal Parameters for this window: {'confidence_threshold': 0.005, 'atr_multiplier_tp': 3.5, 'atr_multiplier_sl': 0.8, 'max_position_size': 0.2, 'breakeven_atr_multiplier': 0.3, 'profit_lock_atr_multiplier': 0.4, 'trailing_stop_multiplier': 0.07, 'risk_per_trade_percent': 0.008, 'volatility_size_factor': 0.02, 'look_back': 72, 'max_hold_periods': 96, 'dynamic_position_sizing_method': 'hybrid', 'min_atr_threshold': 0.1, 'min_risk_reward': 0.4, 'tuner/epochs': 1, 'tuner/initial_epoch': 0, 'tuner/bracket': 0, 'tuner/round': 0}\n",
            "Sharpe Ratio from Optimization: 3.72\n",
            "\n",
            "--- Validating on unseen data from 2024-08-14 12:00:00+00:00 to 2024-08-20 11:00:00+00:00 ---\n"
          ]
        },
        {
          "output_type": "stream",
          "name": "stderr",
          "text": []
        },
        {
          "output_type": "stream",
          "name": "stdout",
          "text": [
            "--- Validation Metrics ---\n",
            "Total Return: -0.17%\n",
            "Sharpe Ratio: 3.39\n",
            "Max Drawdown: 28.89%\n",
            "Total Trades: 2\n",
            "\n",
            "\n",
            "--- Optimizing on data from 2023-08-20 01:00:00+00:00 to 2024-08-20 11:00:00+00:00 ---\n",
            "In-sample data from 2023-08-20 01:00:00+00:00 to 2024-08-20 11:00:00+00:00\n",
            "Out-of-sample data from 2024-08-20 12:00:00+00:00 to 2024-08-26 11:00:00+00:00\n",
            "\n",
            "\n",
            "Total candles in-sample: 8784\n",
            "Total candles out-of-sample: 144\n",
            "Total candles total: 20409\n",
            "Start Index: 14328\n",
            "End Index: 14472\n",
            "Step Size: 144\n",
            "Total Steps: 81\n",
            "\n",
            "\n",
            "Directory: /content/gdrive/MyDrive/TradingBotLogs/tuning_results_WFO_MVP_BTC_USD\n",
            "Project Name: backtest_tuning_BTC_USD_14328\n",
            "\n",
            "\n"
          ]
        },
        {
          "output_type": "stream",
          "name": "stderr",
          "text": []
        },
        {
          "output_type": "stream",
          "name": "stdout",
          "text": [
            "\n",
            "Optimal Parameters for this window: {'confidence_threshold': 0.015, 'atr_multiplier_tp': 3.0, 'atr_multiplier_sl': 0.4, 'max_position_size': 0.15000000000000002, 'breakeven_atr_multiplier': 0.4, 'profit_lock_atr_multiplier': 0.5, 'trailing_stop_multiplier': 0.05, 'risk_per_trade_percent': 0.006, 'volatility_size_factor': 0.02, 'look_back': 72, 'max_hold_periods': 96, 'dynamic_position_sizing_method': 'hybrid', 'min_atr_threshold': 0.05, 'min_risk_reward': 0.30000000000000004, 'tuner/epochs': 1, 'tuner/initial_epoch': 0, 'tuner/bracket': 0, 'tuner/round': 0}\n",
            "Sharpe Ratio from Optimization: 3.23\n",
            "\n",
            "--- Validating on unseen data from 2024-08-20 12:00:00+00:00 to 2024-08-26 11:00:00+00:00 ---\n"
          ]
        },
        {
          "output_type": "stream",
          "name": "stderr",
          "text": []
        },
        {
          "output_type": "stream",
          "name": "stdout",
          "text": [
            "--- Validation Metrics ---\n",
            "Total Return: 29.53%\n",
            "Sharpe Ratio: 11.29\n",
            "Max Drawdown: 23.30%\n",
            "Total Trades: 5\n",
            "\n",
            "\n",
            "--- Optimizing on data from 2023-08-26 01:00:00+00:00 to 2024-08-26 11:00:00+00:00 ---\n",
            "In-sample data from 2023-08-26 01:00:00+00:00 to 2024-08-26 11:00:00+00:00\n",
            "Out-of-sample data from 2024-08-26 12:00:00+00:00 to 2024-09-01 11:00:00+00:00\n",
            "\n",
            "\n",
            "Total candles in-sample: 8784\n",
            "Total candles out-of-sample: 144\n",
            "Total candles total: 20409\n",
            "Start Index: 14472\n",
            "End Index: 14616\n",
            "Step Size: 144\n",
            "Total Steps: 81\n",
            "\n",
            "\n",
            "Directory: /content/gdrive/MyDrive/TradingBotLogs/tuning_results_WFO_MVP_BTC_USD\n",
            "Project Name: backtest_tuning_BTC_USD_14472\n",
            "\n",
            "\n"
          ]
        },
        {
          "output_type": "stream",
          "name": "stderr",
          "text": []
        },
        {
          "output_type": "stream",
          "name": "stdout",
          "text": [
            "\n",
            "Optimal Parameters for this window: {'confidence_threshold': 0.005, 'atr_multiplier_tp': 3.5, 'atr_multiplier_sl': 0.5, 'max_position_size': 0.15000000000000002, 'breakeven_atr_multiplier': 0.3, 'profit_lock_atr_multiplier': 0.5, 'trailing_stop_multiplier': 0.05, 'risk_per_trade_percent': 0.008, 'volatility_size_factor': 0.01, 'look_back': 72, 'max_hold_periods': 96, 'dynamic_position_sizing_method': 'volatility_based', 'min_atr_threshold': 0.1, 'min_risk_reward': 0.2, 'tuner/epochs': 1, 'tuner/initial_epoch': 0, 'tuner/bracket': 0, 'tuner/round': 0}\n",
            "Sharpe Ratio from Optimization: 3.13\n",
            "\n",
            "--- Validating on unseen data from 2024-08-26 12:00:00+00:00 to 2024-09-01 11:00:00+00:00 ---\n"
          ]
        },
        {
          "output_type": "stream",
          "name": "stderr",
          "text": []
        },
        {
          "output_type": "stream",
          "name": "stdout",
          "text": [
            "--- Validation Metrics ---\n",
            "Total Return: 29.53%\n",
            "Sharpe Ratio: 14.82\n",
            "Max Drawdown: 0.42%\n",
            "Total Trades: 6\n",
            "\n",
            "\n",
            "--- Optimizing on data from 2023-09-01 01:00:00+00:00 to 2024-09-01 11:00:00+00:00 ---\n",
            "In-sample data from 2023-09-01 01:00:00+00:00 to 2024-09-01 11:00:00+00:00\n",
            "Out-of-sample data from 2024-09-01 12:00:00+00:00 to 2024-09-07 11:00:00+00:00\n",
            "\n",
            "\n",
            "Total candles in-sample: 8784\n",
            "Total candles out-of-sample: 144\n",
            "Total candles total: 20409\n",
            "Start Index: 14616\n",
            "End Index: 14760\n",
            "Step Size: 144\n",
            "Total Steps: 81\n",
            "\n",
            "\n",
            "Directory: /content/gdrive/MyDrive/TradingBotLogs/tuning_results_WFO_MVP_BTC_USD\n",
            "Project Name: backtest_tuning_BTC_USD_14616\n",
            "\n",
            "\n"
          ]
        },
        {
          "output_type": "stream",
          "name": "stderr",
          "text": []
        },
        {
          "output_type": "stream",
          "name": "stdout",
          "text": [
            "\n",
            "Optimal Parameters for this window: {'confidence_threshold': 0.01, 'atr_multiplier_tp': 2.5, 'atr_multiplier_sl': 0.4, 'max_position_size': 0.1, 'breakeven_atr_multiplier': 0.3, 'profit_lock_atr_multiplier': 0.5, 'trailing_stop_multiplier': 0.05, 'risk_per_trade_percent': 0.007, 'volatility_size_factor': 0.015, 'look_back': 72, 'max_hold_periods': 120, 'dynamic_position_sizing_method': 'risk_based', 'min_atr_threshold': 0.05, 'min_risk_reward': 0.1, 'tuner/epochs': 1, 'tuner/initial_epoch': 0, 'tuner/bracket': 0, 'tuner/round': 0}\n",
            "Sharpe Ratio from Optimization: 2.43\n",
            "\n",
            "--- Validating on unseen data from 2024-09-01 12:00:00+00:00 to 2024-09-07 11:00:00+00:00 ---\n"
          ]
        },
        {
          "output_type": "stream",
          "name": "stderr",
          "text": []
        },
        {
          "output_type": "stream",
          "name": "stdout",
          "text": [
            "--- Validation Metrics ---\n",
            "Total Return: 19.15%\n",
            "Sharpe Ratio: 9.21\n",
            "Max Drawdown: 17.25%\n",
            "Total Trades: 8\n",
            "\n",
            "\n",
            "--- Optimizing on data from 2023-09-07 01:00:00+00:00 to 2024-09-07 11:00:00+00:00 ---\n",
            "In-sample data from 2023-09-07 01:00:00+00:00 to 2024-09-07 11:00:00+00:00\n",
            "Out-of-sample data from 2024-09-07 12:00:00+00:00 to 2024-09-13 11:00:00+00:00\n",
            "\n",
            "\n",
            "Total candles in-sample: 8784\n",
            "Total candles out-of-sample: 144\n",
            "Total candles total: 20409\n",
            "Start Index: 14760\n",
            "End Index: 14904\n",
            "Step Size: 144\n",
            "Total Steps: 81\n",
            "\n",
            "\n",
            "Directory: /content/gdrive/MyDrive/TradingBotLogs/tuning_results_WFO_MVP_BTC_USD\n",
            "Project Name: backtest_tuning_BTC_USD_14760\n",
            "\n",
            "\n"
          ]
        },
        {
          "output_type": "stream",
          "name": "stderr",
          "text": []
        },
        {
          "output_type": "stream",
          "name": "stdout",
          "text": [
            "\n",
            "Optimal Parameters for this window: {'confidence_threshold': 0.015, 'atr_multiplier_tp': 1.5, 'atr_multiplier_sl': 0.4, 'max_position_size': 0.15000000000000002, 'breakeven_atr_multiplier': 0.5, 'profit_lock_atr_multiplier': 0.4, 'trailing_stop_multiplier': 0.05, 'risk_per_trade_percent': 0.006, 'volatility_size_factor': 0.01, 'look_back': 72, 'max_hold_periods': 120, 'dynamic_position_sizing_method': 'volatility_based', 'min_atr_threshold': 0.1, 'min_risk_reward': 0.30000000000000004, 'tuner/epochs': 1, 'tuner/initial_epoch': 0, 'tuner/bracket': 0, 'tuner/round': 0}\n",
            "Sharpe Ratio from Optimization: 3.84\n",
            "\n",
            "--- Validating on unseen data from 2024-09-07 12:00:00+00:00 to 2024-09-13 11:00:00+00:00 ---\n"
          ]
        },
        {
          "output_type": "stream",
          "name": "stderr",
          "text": []
        },
        {
          "output_type": "stream",
          "name": "stdout",
          "text": [
            "--- Validation Metrics ---\n",
            "Total Return: -1.11%\n",
            "Sharpe Ratio: 3.53\n",
            "Max Drawdown: 23.86%\n",
            "Total Trades: 12\n",
            "\n",
            "\n",
            "--- Optimizing on data from 2023-09-13 01:00:00+00:00 to 2024-09-13 11:00:00+00:00 ---\n",
            "In-sample data from 2023-09-13 01:00:00+00:00 to 2024-09-13 11:00:00+00:00\n",
            "Out-of-sample data from 2024-09-13 12:00:00+00:00 to 2024-09-19 11:00:00+00:00\n",
            "\n",
            "\n",
            "Total candles in-sample: 8784\n",
            "Total candles out-of-sample: 144\n",
            "Total candles total: 20409\n",
            "Start Index: 14904\n",
            "End Index: 15048\n",
            "Step Size: 144\n",
            "Total Steps: 81\n",
            "\n",
            "\n",
            "Directory: /content/gdrive/MyDrive/TradingBotLogs/tuning_results_WFO_MVP_BTC_USD\n",
            "Project Name: backtest_tuning_BTC_USD_14904\n",
            "\n",
            "\n"
          ]
        },
        {
          "output_type": "stream",
          "name": "stderr",
          "text": []
        },
        {
          "output_type": "stream",
          "name": "stdout",
          "text": [
            "\n",
            "Optimal Parameters for this window: {'confidence_threshold': 0.01, 'atr_multiplier_tp': 1.5, 'atr_multiplier_sl': 0.7000000000000001, 'max_position_size': 0.15000000000000002, 'breakeven_atr_multiplier': 0.4, 'profit_lock_atr_multiplier': 0.3, 'trailing_stop_multiplier': 0.07, 'risk_per_trade_percent': 0.008, 'volatility_size_factor': 0.02, 'look_back': 72, 'max_hold_periods': 96, 'dynamic_position_sizing_method': 'risk_based', 'min_atr_threshold': 0.1, 'min_risk_reward': 0.1, 'tuner/epochs': 1, 'tuner/initial_epoch': 0, 'tuner/bracket': 0, 'tuner/round': 0}\n",
            "Sharpe Ratio from Optimization: 3.53\n",
            "\n",
            "--- Validating on unseen data from 2024-09-13 12:00:00+00:00 to 2024-09-19 11:00:00+00:00 ---\n"
          ]
        },
        {
          "output_type": "stream",
          "name": "stderr",
          "text": []
        },
        {
          "output_type": "stream",
          "name": "stdout",
          "text": [
            "--- Validation Metrics ---\n",
            "Total Return: 0.17%\n",
            "Sharpe Ratio: 2.77\n",
            "Max Drawdown: 23.19%\n",
            "Total Trades: 4\n",
            "\n",
            "\n",
            "--- Optimizing on data from 2023-09-19 01:00:00+00:00 to 2024-09-19 11:00:00+00:00 ---\n",
            "In-sample data from 2023-09-19 01:00:00+00:00 to 2024-09-19 11:00:00+00:00\n",
            "Out-of-sample data from 2024-09-19 12:00:00+00:00 to 2024-09-25 11:00:00+00:00\n",
            "\n",
            "\n",
            "Total candles in-sample: 8784\n",
            "Total candles out-of-sample: 144\n",
            "Total candles total: 20409\n",
            "Start Index: 15048\n",
            "End Index: 15192\n",
            "Step Size: 144\n",
            "Total Steps: 81\n",
            "\n",
            "\n",
            "Directory: /content/gdrive/MyDrive/TradingBotLogs/tuning_results_WFO_MVP_BTC_USD\n",
            "Project Name: backtest_tuning_BTC_USD_15048\n",
            "\n",
            "\n"
          ]
        },
        {
          "output_type": "stream",
          "name": "stderr",
          "text": []
        },
        {
          "output_type": "stream",
          "name": "stdout",
          "text": [
            "\n",
            "Optimal Parameters for this window: {'confidence_threshold': 0.01, 'atr_multiplier_tp': 3.5, 'atr_multiplier_sl': 0.6000000000000001, 'max_position_size': 0.1, 'breakeven_atr_multiplier': 0.4, 'profit_lock_atr_multiplier': 0.3, 'trailing_stop_multiplier': 0.060000000000000005, 'risk_per_trade_percent': 0.006, 'volatility_size_factor': 0.02, 'look_back': 72, 'max_hold_periods': 72, 'dynamic_position_sizing_method': 'hybrid', 'min_atr_threshold': 0.1, 'min_risk_reward': 0.30000000000000004, 'tuner/epochs': 1, 'tuner/initial_epoch': 0, 'tuner/bracket': 0, 'tuner/round': 0}\n",
            "Sharpe Ratio from Optimization: 2.13\n",
            "\n",
            "--- Validating on unseen data from 2024-09-19 12:00:00+00:00 to 2024-09-25 11:00:00+00:00 ---\n"
          ]
        },
        {
          "output_type": "stream",
          "name": "stderr",
          "text": []
        },
        {
          "output_type": "stream",
          "name": "stdout",
          "text": [
            "--- Validation Metrics ---\n",
            "Total Return: -0.19%\n",
            "Sharpe Ratio: 1.78\n",
            "Max Drawdown: 16.73%\n",
            "Total Trades: 5\n",
            "\n",
            "\n",
            "--- Optimizing on data from 2023-09-25 01:00:00+00:00 to 2024-09-25 11:00:00+00:00 ---\n",
            "In-sample data from 2023-09-25 01:00:00+00:00 to 2024-09-25 11:00:00+00:00\n",
            "Out-of-sample data from 2024-09-25 12:00:00+00:00 to 2024-10-01 11:00:00+00:00\n",
            "\n",
            "\n",
            "Total candles in-sample: 8784\n",
            "Total candles out-of-sample: 144\n",
            "Total candles total: 20409\n",
            "Start Index: 15192\n",
            "End Index: 15336\n",
            "Step Size: 144\n",
            "Total Steps: 81\n",
            "\n",
            "\n",
            "Directory: /content/gdrive/MyDrive/TradingBotLogs/tuning_results_WFO_MVP_BTC_USD\n",
            "Project Name: backtest_tuning_BTC_USD_15192\n",
            "\n",
            "\n"
          ]
        },
        {
          "output_type": "stream",
          "name": "stderr",
          "text": []
        },
        {
          "output_type": "stream",
          "name": "stdout",
          "text": [
            "\n",
            "Optimal Parameters for this window: {'confidence_threshold': 0.015, 'atr_multiplier_tp': 3.5, 'atr_multiplier_sl': 0.7000000000000001, 'max_position_size': 0.2, 'breakeven_atr_multiplier': 0.3, 'profit_lock_atr_multiplier': 0.5, 'trailing_stop_multiplier': 0.05, 'risk_per_trade_percent': 0.007, 'volatility_size_factor': 0.015, 'look_back': 72, 'max_hold_periods': 72, 'dynamic_position_sizing_method': 'volatility_based', 'min_atr_threshold': 0.05, 'min_risk_reward': 0.30000000000000004, 'tuner/epochs': 1, 'tuner/initial_epoch': 0, 'tuner/bracket': 0, 'tuner/round': 0}\n",
            "Sharpe Ratio from Optimization: 3.85\n",
            "\n",
            "--- Validating on unseen data from 2024-09-25 12:00:00+00:00 to 2024-10-01 11:00:00+00:00 ---\n"
          ]
        },
        {
          "output_type": "stream",
          "name": "stderr",
          "text": []
        },
        {
          "output_type": "stream",
          "name": "stdout",
          "text": [
            "--- Validation Metrics ---\n",
            "Total Return: 39.88%\n",
            "Sharpe Ratio: 14.97\n",
            "Max Drawdown: 0.25%\n",
            "Total Trades: 3\n",
            "\n",
            "\n",
            "--- Optimizing on data from 2023-10-01 01:00:00+00:00 to 2024-10-01 11:00:00+00:00 ---\n",
            "In-sample data from 2023-10-01 01:00:00+00:00 to 2024-10-01 11:00:00+00:00\n",
            "Out-of-sample data from 2024-10-01 12:00:00+00:00 to 2024-10-07 11:00:00+00:00\n",
            "\n",
            "\n",
            "Total candles in-sample: 8784\n",
            "Total candles out-of-sample: 144\n",
            "Total candles total: 20409\n",
            "Start Index: 15336\n",
            "End Index: 15480\n",
            "Step Size: 144\n",
            "Total Steps: 81\n",
            "\n",
            "\n",
            "Directory: /content/gdrive/MyDrive/TradingBotLogs/tuning_results_WFO_MVP_BTC_USD\n",
            "Project Name: backtest_tuning_BTC_USD_15336\n",
            "\n",
            "\n"
          ]
        },
        {
          "output_type": "stream",
          "name": "stderr",
          "text": []
        },
        {
          "output_type": "stream",
          "name": "stdout",
          "text": [
            "\n",
            "Optimal Parameters for this window: {'confidence_threshold': 0.005, 'atr_multiplier_tp': 3.0, 'atr_multiplier_sl': 0.4, 'max_position_size': 0.2, 'breakeven_atr_multiplier': 0.3, 'profit_lock_atr_multiplier': 0.5, 'trailing_stop_multiplier': 0.05, 'risk_per_trade_percent': 0.007, 'volatility_size_factor': 0.01, 'look_back': 72, 'max_hold_periods': 96, 'dynamic_position_sizing_method': 'hybrid', 'min_atr_threshold': 0.05, 'min_risk_reward': 0.4, 'tuner/epochs': 1, 'tuner/initial_epoch': 0, 'tuner/bracket': 0, 'tuner/round': 0}\n",
            "Sharpe Ratio from Optimization: 4.29\n",
            "\n",
            "--- Validating on unseen data from 2024-10-01 12:00:00+00:00 to 2024-10-07 11:00:00+00:00 ---\n"
          ]
        },
        {
          "output_type": "stream",
          "name": "stderr",
          "text": []
        },
        {
          "output_type": "stream",
          "name": "stdout",
          "text": [
            "--- Validation Metrics ---\n",
            "Total Return: -0.35%\n",
            "Sharpe Ratio: -11.94\n",
            "Max Drawdown: 0.53%\n",
            "Total Trades: 8\n",
            "\n",
            "\n",
            "--- Optimizing on data from 2023-10-07 01:00:00+00:00 to 2024-10-07 11:00:00+00:00 ---\n",
            "In-sample data from 2023-10-07 01:00:00+00:00 to 2024-10-07 11:00:00+00:00\n",
            "Out-of-sample data from 2024-10-07 12:00:00+00:00 to 2024-10-13 11:00:00+00:00\n",
            "\n",
            "\n",
            "Total candles in-sample: 8784\n",
            "Total candles out-of-sample: 144\n",
            "Total candles total: 20409\n",
            "Start Index: 15480\n",
            "End Index: 15624\n",
            "Step Size: 144\n",
            "Total Steps: 81\n",
            "\n",
            "\n",
            "Directory: /content/gdrive/MyDrive/TradingBotLogs/tuning_results_WFO_MVP_BTC_USD\n",
            "Project Name: backtest_tuning_BTC_USD_15480\n",
            "\n",
            "\n"
          ]
        },
        {
          "output_type": "stream",
          "name": "stderr",
          "text": []
        },
        {
          "output_type": "stream",
          "name": "stdout",
          "text": [
            "\n",
            "Optimal Parameters for this window: {'confidence_threshold': 0.01, 'atr_multiplier_tp': 3.5, 'atr_multiplier_sl': 0.8, 'max_position_size': 0.2, 'breakeven_atr_multiplier': 0.4, 'profit_lock_atr_multiplier': 0.4, 'trailing_stop_multiplier': 0.07, 'risk_per_trade_percent': 0.008, 'volatility_size_factor': 0.015, 'look_back': 72, 'max_hold_periods': 96, 'dynamic_position_sizing_method': 'hybrid', 'min_atr_threshold': 0.1, 'min_risk_reward': 0.30000000000000004, 'tuner/epochs': 1, 'tuner/initial_epoch': 0, 'tuner/bracket': 0, 'tuner/round': 0}\n",
            "Sharpe Ratio from Optimization: 3.66\n",
            "\n",
            "--- Validating on unseen data from 2024-10-07 12:00:00+00:00 to 2024-10-13 11:00:00+00:00 ---\n"
          ]
        },
        {
          "output_type": "stream",
          "name": "stderr",
          "text": []
        },
        {
          "output_type": "stream",
          "name": "stdout",
          "text": [
            "--- Validation Metrics ---\n",
            "Total Return: -0.35%\n",
            "Sharpe Ratio: -16.50\n",
            "Max Drawdown: 0.35%\n",
            "Total Trades: 3\n",
            "\n",
            "\n",
            "--- Optimizing on data from 2023-10-13 01:00:00+00:00 to 2024-10-13 11:00:00+00:00 ---\n",
            "In-sample data from 2023-10-13 01:00:00+00:00 to 2024-10-13 11:00:00+00:00\n",
            "Out-of-sample data from 2024-10-13 12:00:00+00:00 to 2024-10-19 11:00:00+00:00\n",
            "\n",
            "\n",
            "Total candles in-sample: 8784\n",
            "Total candles out-of-sample: 144\n",
            "Total candles total: 20409\n",
            "Start Index: 15624\n",
            "End Index: 15768\n",
            "Step Size: 144\n",
            "Total Steps: 81\n",
            "\n",
            "\n",
            "Directory: /content/gdrive/MyDrive/TradingBotLogs/tuning_results_WFO_MVP_BTC_USD\n",
            "Project Name: backtest_tuning_BTC_USD_15624\n",
            "\n",
            "\n"
          ]
        },
        {
          "output_type": "stream",
          "name": "stderr",
          "text": []
        },
        {
          "output_type": "stream",
          "name": "stdout",
          "text": [
            "\n",
            "Optimal Parameters for this window: {'confidence_threshold': 0.015, 'atr_multiplier_tp': 1.5, 'atr_multiplier_sl': 0.4, 'max_position_size': 0.1, 'breakeven_atr_multiplier': 0.5, 'profit_lock_atr_multiplier': 0.3, 'trailing_stop_multiplier': 0.060000000000000005, 'risk_per_trade_percent': 0.006, 'volatility_size_factor': 0.01, 'look_back': 72, 'max_hold_periods': 72, 'dynamic_position_sizing_method': 'risk_based', 'min_atr_threshold': 0.1, 'min_risk_reward': 0.4, 'tuner/epochs': 1, 'tuner/initial_epoch': 0, 'tuner/bracket': 0, 'tuner/round': 0}\n",
            "Sharpe Ratio from Optimization: 2.74\n",
            "\n",
            "--- Validating on unseen data from 2024-10-13 12:00:00+00:00 to 2024-10-19 11:00:00+00:00 ---\n"
          ]
        },
        {
          "output_type": "stream",
          "name": "stderr",
          "text": []
        },
        {
          "output_type": "stream",
          "name": "stdout",
          "text": [
            "--- Validation Metrics ---\n",
            "Total Return: 19.42%\n",
            "Sharpe Ratio: 10.36\n",
            "Max Drawdown: 16.92%\n",
            "Total Trades: 10\n",
            "\n",
            "\n",
            "--- Optimizing on data from 2023-10-19 01:00:00+00:00 to 2024-10-19 11:00:00+00:00 ---\n",
            "In-sample data from 2023-10-19 01:00:00+00:00 to 2024-10-19 11:00:00+00:00\n",
            "Out-of-sample data from 2024-10-19 12:00:00+00:00 to 2024-10-25 11:00:00+00:00\n",
            "\n",
            "\n",
            "Total candles in-sample: 8784\n",
            "Total candles out-of-sample: 144\n",
            "Total candles total: 20409\n",
            "Start Index: 15768\n",
            "End Index: 15912\n",
            "Step Size: 144\n",
            "Total Steps: 81\n",
            "\n",
            "\n",
            "Directory: /content/gdrive/MyDrive/TradingBotLogs/tuning_results_WFO_MVP_BTC_USD\n",
            "Project Name: backtest_tuning_BTC_USD_15768\n",
            "\n",
            "\n"
          ]
        },
        {
          "output_type": "stream",
          "name": "stderr",
          "text": []
        },
        {
          "output_type": "stream",
          "name": "stdout",
          "text": [
            "\n",
            "Optimal Parameters for this window: {'confidence_threshold': 0.015, 'atr_multiplier_tp': 3.0, 'atr_multiplier_sl': 0.6000000000000001, 'max_position_size': 0.1, 'breakeven_atr_multiplier': 0.4, 'profit_lock_atr_multiplier': 0.5, 'trailing_stop_multiplier': 0.05, 'risk_per_trade_percent': 0.006, 'volatility_size_factor': 0.01, 'look_back': 72, 'max_hold_periods': 96, 'dynamic_position_sizing_method': 'volatility_based', 'min_atr_threshold': 0.05, 'min_risk_reward': 0.30000000000000004, 'tuner/epochs': 1, 'tuner/initial_epoch': 0, 'tuner/bracket': 0, 'tuner/round': 0}\n",
            "Sharpe Ratio from Optimization: 2.24\n",
            "\n",
            "--- Validating on unseen data from 2024-10-19 12:00:00+00:00 to 2024-10-25 11:00:00+00:00 ---\n"
          ]
        },
        {
          "output_type": "stream",
          "name": "stderr",
          "text": []
        },
        {
          "output_type": "stream",
          "name": "stdout",
          "text": [
            "--- Validation Metrics ---\n",
            "Total Return: -0.07%\n",
            "Sharpe Ratio: 1.85\n",
            "Max Drawdown: 16.71%\n",
            "Total Trades: 6\n",
            "\n",
            "\n",
            "--- Optimizing on data from 2023-10-25 01:00:00+00:00 to 2024-10-25 11:00:00+00:00 ---\n",
            "In-sample data from 2023-10-25 01:00:00+00:00 to 2024-10-25 11:00:00+00:00\n",
            "Out-of-sample data from 2024-10-25 12:00:00+00:00 to 2024-10-31 11:00:00+00:00\n",
            "\n",
            "\n",
            "Total candles in-sample: 8784\n",
            "Total candles out-of-sample: 144\n",
            "Total candles total: 20409\n",
            "Start Index: 15912\n",
            "End Index: 16056\n",
            "Step Size: 144\n",
            "Total Steps: 81\n",
            "\n",
            "\n",
            "Directory: /content/gdrive/MyDrive/TradingBotLogs/tuning_results_WFO_MVP_BTC_USD\n",
            "Project Name: backtest_tuning_BTC_USD_15912\n",
            "\n",
            "\n"
          ]
        },
        {
          "output_type": "stream",
          "name": "stderr",
          "text": []
        },
        {
          "output_type": "stream",
          "name": "stdout",
          "text": [
            "\n",
            "Optimal Parameters for this window: {'confidence_threshold': 0.01, 'atr_multiplier_tp': 3.0, 'atr_multiplier_sl': 0.4, 'max_position_size': 0.1, 'breakeven_atr_multiplier': 0.4, 'profit_lock_atr_multiplier': 0.3, 'trailing_stop_multiplier': 0.060000000000000005, 'risk_per_trade_percent': 0.008, 'volatility_size_factor': 0.01, 'look_back': 72, 'max_hold_periods': 120, 'dynamic_position_sizing_method': 'risk_based', 'min_atr_threshold': 0.05, 'min_risk_reward': 0.2, 'tuner/epochs': 1, 'tuner/initial_epoch': 0, 'tuner/bracket': 0, 'tuner/round': 0}\n",
            "Sharpe Ratio from Optimization: 2.33\n",
            "\n",
            "--- Validating on unseen data from 2024-10-25 12:00:00+00:00 to 2024-10-31 11:00:00+00:00 ---\n"
          ]
        },
        {
          "output_type": "stream",
          "name": "stderr",
          "text": []
        },
        {
          "output_type": "stream",
          "name": "stdout",
          "text": [
            "--- Validation Metrics ---\n",
            "Total Return: 19.01%\n",
            "Sharpe Ratio: 8.79\n",
            "Max Drawdown: 17.18%\n",
            "Total Trades: 12\n",
            "\n",
            "\n",
            "--- Optimizing on data from 2023-10-31 01:00:00+00:00 to 2024-10-31 11:00:00+00:00 ---\n",
            "In-sample data from 2023-10-31 01:00:00+00:00 to 2024-10-31 11:00:00+00:00\n",
            "Out-of-sample data from 2024-10-31 12:00:00+00:00 to 2024-11-06 11:00:00+00:00\n",
            "\n",
            "\n",
            "Total candles in-sample: 8784\n",
            "Total candles out-of-sample: 144\n",
            "Total candles total: 20409\n",
            "Start Index: 16056\n",
            "End Index: 16200\n",
            "Step Size: 144\n",
            "Total Steps: 81\n",
            "\n",
            "\n",
            "Directory: /content/gdrive/MyDrive/TradingBotLogs/tuning_results_WFO_MVP_BTC_USD\n",
            "Project Name: backtest_tuning_BTC_USD_16056\n",
            "\n",
            "\n"
          ]
        },
        {
          "output_type": "stream",
          "name": "stderr",
          "text": []
        },
        {
          "output_type": "stream",
          "name": "stdout",
          "text": [
            "\n",
            "Optimal Parameters for this window: {'confidence_threshold': 0.01, 'atr_multiplier_tp': 2.5, 'atr_multiplier_sl': 0.6000000000000001, 'max_position_size': 0.1, 'breakeven_atr_multiplier': 0.4, 'profit_lock_atr_multiplier': 0.3, 'trailing_stop_multiplier': 0.05, 'risk_per_trade_percent': 0.008, 'volatility_size_factor': 0.01, 'look_back': 72, 'max_hold_periods': 96, 'dynamic_position_sizing_method': 'risk_based', 'min_atr_threshold': 0.05, 'min_risk_reward': 0.2, 'tuner/epochs': 1, 'tuner/initial_epoch': 0, 'tuner/bracket': 0, 'tuner/round': 0}\n",
            "Sharpe Ratio from Optimization: 2.33\n",
            "\n",
            "--- Validating on unseen data from 2024-10-31 12:00:00+00:00 to 2024-11-06 11:00:00+00:00 ---\n"
          ]
        },
        {
          "output_type": "stream",
          "name": "stderr",
          "text": []
        },
        {
          "output_type": "stream",
          "name": "stdout",
          "text": [
            "--- Validation Metrics ---\n",
            "Total Return: 0.60%\n",
            "Sharpe Ratio: 2.24\n",
            "Max Drawdown: 16.79%\n",
            "Total Trades: 5\n",
            "\n",
            "\n",
            "--- Optimizing on data from 2023-11-06 01:00:00+00:00 to 2024-11-06 11:00:00+00:00 ---\n",
            "In-sample data from 2023-11-06 01:00:00+00:00 to 2024-11-06 11:00:00+00:00\n",
            "Out-of-sample data from 2024-11-06 12:00:00+00:00 to 2024-11-12 11:00:00+00:00\n",
            "\n",
            "\n",
            "Total candles in-sample: 8784\n",
            "Total candles out-of-sample: 144\n",
            "Total candles total: 20409\n",
            "Start Index: 16200\n",
            "End Index: 16344\n",
            "Step Size: 144\n",
            "Total Steps: 81\n",
            "\n",
            "\n",
            "Directory: /content/gdrive/MyDrive/TradingBotLogs/tuning_results_WFO_MVP_BTC_USD\n",
            "Project Name: backtest_tuning_BTC_USD_16200\n",
            "\n",
            "\n"
          ]
        },
        {
          "output_type": "stream",
          "name": "stderr",
          "text": []
        },
        {
          "output_type": "stream",
          "name": "stdout",
          "text": [
            "\n",
            "Optimal Parameters for this window: {'confidence_threshold': 0.005, 'atr_multiplier_tp': 3.5, 'atr_multiplier_sl': 0.8, 'max_position_size': 0.2, 'breakeven_atr_multiplier': 0.3, 'profit_lock_atr_multiplier': 0.4, 'trailing_stop_multiplier': 0.05, 'risk_per_trade_percent': 0.008, 'volatility_size_factor': 0.015, 'look_back': 72, 'max_hold_periods': 96, 'dynamic_position_sizing_method': 'hybrid', 'min_atr_threshold': 0.05, 'min_risk_reward': 0.1, 'tuner/epochs': 1, 'tuner/initial_epoch': 0, 'tuner/bracket': 0, 'tuner/round': 0}\n",
            "Sharpe Ratio from Optimization: 3.77\n",
            "\n",
            "--- Validating on unseen data from 2024-11-06 12:00:00+00:00 to 2024-11-12 11:00:00+00:00 ---\n"
          ]
        },
        {
          "output_type": "stream",
          "name": "stderr",
          "text": []
        },
        {
          "output_type": "stream",
          "name": "stdout",
          "text": [
            "--- Validation Metrics ---\n",
            "Total Return: 1.61%\n",
            "Sharpe Ratio: 26.61\n",
            "Max Drawdown: 0.66%\n",
            "Total Trades: 2\n",
            "\n",
            "\n",
            "--- Optimizing on data from 2023-11-12 01:00:00+00:00 to 2024-11-12 11:00:00+00:00 ---\n",
            "In-sample data from 2023-11-12 01:00:00+00:00 to 2024-11-12 11:00:00+00:00\n",
            "Out-of-sample data from 2024-11-12 12:00:00+00:00 to 2024-11-18 11:00:00+00:00\n",
            "\n",
            "\n",
            "Total candles in-sample: 8784\n",
            "Total candles out-of-sample: 144\n",
            "Total candles total: 20409\n",
            "Start Index: 16344\n",
            "End Index: 16488\n",
            "Step Size: 144\n",
            "Total Steps: 81\n",
            "\n",
            "\n",
            "Directory: /content/gdrive/MyDrive/TradingBotLogs/tuning_results_WFO_MVP_BTC_USD\n",
            "Project Name: backtest_tuning_BTC_USD_16344\n",
            "\n",
            "\n"
          ]
        },
        {
          "output_type": "stream",
          "name": "stderr",
          "text": []
        },
        {
          "output_type": "stream",
          "name": "stdout",
          "text": [
            "\n",
            "Optimal Parameters for this window: {'confidence_threshold': 0.005, 'atr_multiplier_tp': 1.5, 'atr_multiplier_sl': 0.8, 'max_position_size': 0.15000000000000002, 'breakeven_atr_multiplier': 0.4, 'profit_lock_atr_multiplier': 0.5, 'trailing_stop_multiplier': 0.060000000000000005, 'risk_per_trade_percent': 0.008, 'volatility_size_factor': 0.01, 'look_back': 72, 'max_hold_periods': 96, 'dynamic_position_sizing_method': 'volatility_based', 'min_atr_threshold': 0.05, 'min_risk_reward': 0.2, 'tuner/epochs': 1, 'tuner/initial_epoch': 0, 'tuner/bracket': 0, 'tuner/round': 0}\n",
            "Sharpe Ratio from Optimization: 3.51\n",
            "\n",
            "--- Validating on unseen data from 2024-11-12 12:00:00+00:00 to 2024-11-18 11:00:00+00:00 ---\n"
          ]
        },
        {
          "output_type": "stream",
          "name": "stderr",
          "text": []
        },
        {
          "output_type": "stream",
          "name": "stdout",
          "text": [
            "--- Validation Metrics ---\n",
            "Total Return: -0.31%\n",
            "Sharpe Ratio: 4.62\n",
            "Max Drawdown: 23.20%\n",
            "Total Trades: 7\n",
            "\n",
            "\n",
            "--- Optimizing on data from 2023-11-18 01:00:00+00:00 to 2024-11-18 11:00:00+00:00 ---\n",
            "In-sample data from 2023-11-18 01:00:00+00:00 to 2024-11-18 11:00:00+00:00\n",
            "Out-of-sample data from 2024-11-18 12:00:00+00:00 to 2024-11-24 11:00:00+00:00\n",
            "\n",
            "\n",
            "Total candles in-sample: 8784\n",
            "Total candles out-of-sample: 144\n",
            "Total candles total: 20409\n",
            "Start Index: 16488\n",
            "End Index: 16632\n",
            "Step Size: 144\n",
            "Total Steps: 81\n",
            "\n",
            "\n",
            "Directory: /content/gdrive/MyDrive/TradingBotLogs/tuning_results_WFO_MVP_BTC_USD\n",
            "Project Name: backtest_tuning_BTC_USD_16488\n",
            "\n",
            "\n"
          ]
        },
        {
          "output_type": "stream",
          "name": "stderr",
          "text": []
        },
        {
          "output_type": "stream",
          "name": "stdout",
          "text": [
            "\n",
            "Optimal Parameters for this window: {'confidence_threshold': 0.005, 'atr_multiplier_tp': 2.0, 'atr_multiplier_sl': 0.8, 'max_position_size': 0.2, 'breakeven_atr_multiplier': 0.5, 'profit_lock_atr_multiplier': 0.3, 'trailing_stop_multiplier': 0.07, 'risk_per_trade_percent': 0.005, 'volatility_size_factor': 0.01, 'look_back': 72, 'max_hold_periods': 120, 'dynamic_position_sizing_method': 'volatility_based', 'min_atr_threshold': 0.05, 'min_risk_reward': 0.1, 'tuner/epochs': 1, 'tuner/initial_epoch': 0, 'tuner/bracket': 0, 'tuner/round': 0}\n",
            "Sharpe Ratio from Optimization: 4.17\n",
            "\n",
            "--- Validating on unseen data from 2024-11-18 12:00:00+00:00 to 2024-11-24 11:00:00+00:00 ---\n"
          ]
        },
        {
          "output_type": "stream",
          "name": "stderr",
          "text": [
            "                                                            "
          ]
        },
        {
          "output_type": "stream",
          "name": "stdout",
          "text": [
            "--- Validation Metrics ---\n",
            "Total Return: -1.14%\n",
            "Sharpe Ratio: 4.63\n",
            "Max Drawdown: 28.95%\n",
            "Total Trades: 7\n",
            "\n",
            "\n",
            "--- Optimizing on data from 2023-11-24 01:00:00+00:00 to 2024-11-24 11:00:00+00:00 ---\n",
            "In-sample data from 2023-11-24 01:00:00+00:00 to 2024-11-24 11:00:00+00:00\n",
            "Out-of-sample data from 2024-11-24 12:00:00+00:00 to 2024-11-30 11:00:00+00:00\n",
            "\n",
            "\n",
            "Total candles in-sample: 8784\n",
            "Total candles out-of-sample: 144\n",
            "Total candles total: 20409\n",
            "Start Index: 16632\n",
            "End Index: 16776\n",
            "Step Size: 144\n",
            "Total Steps: 81\n",
            "\n",
            "\n",
            "Directory: /content/gdrive/MyDrive/TradingBotLogs/tuning_results_WFO_MVP_BTC_USD\n",
            "Project Name: backtest_tuning_BTC_USD_16632\n",
            "\n",
            "\n"
          ]
        },
        {
          "output_type": "stream",
          "name": "stderr",
          "text": []
        },
        {
          "output_type": "stream",
          "name": "stdout",
          "text": [
            "\n",
            "Optimal Parameters for this window: {'confidence_threshold': 0.015, 'atr_multiplier_tp': 2.5, 'atr_multiplier_sl': 0.8, 'max_position_size': 0.15000000000000002, 'breakeven_atr_multiplier': 0.5, 'profit_lock_atr_multiplier': 0.3, 'trailing_stop_multiplier': 0.060000000000000005, 'risk_per_trade_percent': 0.007, 'volatility_size_factor': 0.01, 'look_back': 72, 'max_hold_periods': 72, 'dynamic_position_sizing_method': 'hybrid', 'min_atr_threshold': 0.1, 'min_risk_reward': 0.1, 'tuner/epochs': 1, 'tuner/initial_epoch': 0, 'tuner/bracket': 0, 'tuner/round': 0}\n",
            "Sharpe Ratio from Optimization: 3.11\n",
            "\n",
            "--- Validating on unseen data from 2024-11-24 12:00:00+00:00 to 2024-11-30 11:00:00+00:00 ---\n"
          ]
        },
        {
          "output_type": "stream",
          "name": "stderr",
          "text": []
        },
        {
          "output_type": "stream",
          "name": "stdout",
          "text": [
            "--- Validation Metrics ---\n",
            "Total Return: 29.12%\n",
            "Sharpe Ratio: 10.48\n",
            "Max Drawdown: 23.36%\n",
            "Total Trades: 10\n",
            "\n",
            "\n",
            "--- Optimizing on data from 2023-11-30 01:00:00+00:00 to 2024-11-30 11:00:00+00:00 ---\n",
            "In-sample data from 2023-11-30 01:00:00+00:00 to 2024-11-30 11:00:00+00:00\n",
            "Out-of-sample data from 2024-11-30 12:00:00+00:00 to 2024-12-06 11:00:00+00:00\n",
            "\n",
            "\n",
            "Total candles in-sample: 8784\n",
            "Total candles out-of-sample: 144\n",
            "Total candles total: 20409\n",
            "Start Index: 16776\n",
            "End Index: 16920\n",
            "Step Size: 144\n",
            "Total Steps: 81\n",
            "\n",
            "\n",
            "Directory: /content/gdrive/MyDrive/TradingBotLogs/tuning_results_WFO_MVP_BTC_USD\n",
            "Project Name: backtest_tuning_BTC_USD_16776\n",
            "\n",
            "\n"
          ]
        },
        {
          "output_type": "stream",
          "name": "stderr",
          "text": []
        },
        {
          "output_type": "stream",
          "name": "stdout",
          "text": [
            "\n",
            "Optimal Parameters for this window: {'confidence_threshold': 0.015, 'atr_multiplier_tp': 3.5, 'atr_multiplier_sl': 0.5, 'max_position_size': 0.1, 'breakeven_atr_multiplier': 0.4, 'profit_lock_atr_multiplier': 0.4, 'trailing_stop_multiplier': 0.07, 'risk_per_trade_percent': 0.006, 'volatility_size_factor': 0.015, 'look_back': 72, 'max_hold_periods': 72, 'dynamic_position_sizing_method': 'hybrid', 'min_atr_threshold': 0.05, 'min_risk_reward': 0.2, 'tuner/epochs': 1, 'tuner/initial_epoch': 0, 'tuner/bracket': 0, 'tuner/round': 0}\n",
            "Sharpe Ratio from Optimization: 2.26\n",
            "\n",
            "--- Validating on unseen data from 2024-11-30 12:00:00+00:00 to 2024-12-06 11:00:00+00:00 ---\n"
          ]
        },
        {
          "output_type": "stream",
          "name": "stderr",
          "text": []
        },
        {
          "output_type": "stream",
          "name": "stdout",
          "text": [
            "--- Validation Metrics ---\n",
            "Total Return: 20.50%\n",
            "Sharpe Ratio: 15.32\n",
            "Max Drawdown: 0.16%\n",
            "Total Trades: 3\n",
            "\n",
            "\n",
            "--- Optimizing on data from 2023-12-06 01:00:00+00:00 to 2024-12-06 11:00:00+00:00 ---\n",
            "In-sample data from 2023-12-06 01:00:00+00:00 to 2024-12-06 11:00:00+00:00\n",
            "Out-of-sample data from 2024-12-06 12:00:00+00:00 to 2024-12-12 11:00:00+00:00\n",
            "\n",
            "\n",
            "Total candles in-sample: 8784\n",
            "Total candles out-of-sample: 144\n",
            "Total candles total: 20409\n",
            "Start Index: 16920\n",
            "End Index: 17064\n",
            "Step Size: 144\n",
            "Total Steps: 81\n",
            "\n",
            "\n",
            "Directory: /content/gdrive/MyDrive/TradingBotLogs/tuning_results_WFO_MVP_BTC_USD\n",
            "Project Name: backtest_tuning_BTC_USD_16920\n",
            "\n",
            "\n"
          ]
        },
        {
          "output_type": "stream",
          "name": "stderr",
          "text": []
        },
        {
          "output_type": "stream",
          "name": "stdout",
          "text": [
            "\n",
            "Optimal Parameters for this window: {'confidence_threshold': 0.005, 'atr_multiplier_tp': 2.5, 'atr_multiplier_sl': 0.5, 'max_position_size': 0.15000000000000002, 'breakeven_atr_multiplier': 0.4, 'profit_lock_atr_multiplier': 0.5, 'trailing_stop_multiplier': 0.05, 'risk_per_trade_percent': 0.007, 'volatility_size_factor': 0.01, 'look_back': 72, 'max_hold_periods': 120, 'dynamic_position_sizing_method': 'volatility_based', 'min_atr_threshold': 0.1, 'min_risk_reward': 0.30000000000000004, 'tuner/epochs': 1, 'tuner/initial_epoch': 0, 'tuner/bracket': 0, 'tuner/round': 0}\n",
            "Sharpe Ratio from Optimization: 3.51\n",
            "\n",
            "--- Validating on unseen data from 2024-12-06 12:00:00+00:00 to 2024-12-12 11:00:00+00:00 ---\n"
          ]
        },
        {
          "output_type": "stream",
          "name": "stderr",
          "text": []
        },
        {
          "output_type": "stream",
          "name": "stdout",
          "text": [
            "--- Validation Metrics ---\n",
            "Total Return: -0.42%\n",
            "Sharpe Ratio: -17.28\n",
            "Max Drawdown: 0.49%\n",
            "Total Trades: 6\n",
            "\n",
            "\n",
            "--- Optimizing on data from 2023-12-12 01:00:00+00:00 to 2024-12-12 11:00:00+00:00 ---\n",
            "In-sample data from 2023-12-12 01:00:00+00:00 to 2024-12-12 11:00:00+00:00\n",
            "Out-of-sample data from 2024-12-12 12:00:00+00:00 to 2024-12-18 11:00:00+00:00\n",
            "\n",
            "\n",
            "Total candles in-sample: 8784\n",
            "Total candles out-of-sample: 144\n",
            "Total candles total: 20409\n",
            "Start Index: 17064\n",
            "End Index: 17208\n",
            "Step Size: 144\n",
            "Total Steps: 81\n",
            "\n",
            "\n",
            "Directory: /content/gdrive/MyDrive/TradingBotLogs/tuning_results_WFO_MVP_BTC_USD\n",
            "Project Name: backtest_tuning_BTC_USD_17064\n",
            "\n",
            "\n"
          ]
        },
        {
          "output_type": "stream",
          "name": "stderr",
          "text": []
        },
        {
          "output_type": "stream",
          "name": "stdout",
          "text": [
            "\n",
            "Optimal Parameters for this window: {'confidence_threshold': 0.015, 'atr_multiplier_tp': 3.5, 'atr_multiplier_sl': 0.4, 'max_position_size': 0.15000000000000002, 'breakeven_atr_multiplier': 0.5, 'profit_lock_atr_multiplier': 0.5, 'trailing_stop_multiplier': 0.07, 'risk_per_trade_percent': 0.006, 'volatility_size_factor': 0.015, 'look_back': 72, 'max_hold_periods': 96, 'dynamic_position_sizing_method': 'volatility_based', 'min_atr_threshold': 0.05, 'min_risk_reward': 0.2, 'tuner/epochs': 1, 'tuner/initial_epoch': 0, 'tuner/bracket': 0, 'tuner/round': 0}\n",
            "Sharpe Ratio from Optimization: 3.35\n",
            "\n",
            "--- Validating on unseen data from 2024-12-12 12:00:00+00:00 to 2024-12-18 11:00:00+00:00 ---\n"
          ]
        },
        {
          "output_type": "stream",
          "name": "stderr",
          "text": []
        },
        {
          "output_type": "stream",
          "name": "stdout",
          "text": [
            "--- Validation Metrics ---\n",
            "Total Return: 29.89%\n",
            "Sharpe Ratio: 14.96\n",
            "Max Drawdown: 0.35%\n",
            "Total Trades: 3\n",
            "\n",
            "\n",
            "--- Optimizing on data from 2023-12-18 01:00:00+00:00 to 2024-12-18 11:00:00+00:00 ---\n",
            "In-sample data from 2023-12-18 01:00:00+00:00 to 2024-12-18 11:00:00+00:00\n",
            "Out-of-sample data from 2024-12-18 12:00:00+00:00 to 2024-12-24 11:00:00+00:00\n",
            "\n",
            "\n",
            "Total candles in-sample: 8784\n",
            "Total candles out-of-sample: 144\n",
            "Total candles total: 20409\n",
            "Start Index: 17208\n",
            "End Index: 17352\n",
            "Step Size: 144\n",
            "Total Steps: 81\n",
            "\n",
            "\n",
            "Directory: /content/gdrive/MyDrive/TradingBotLogs/tuning_results_WFO_MVP_BTC_USD\n",
            "Project Name: backtest_tuning_BTC_USD_17208\n",
            "\n",
            "\n"
          ]
        },
        {
          "output_type": "stream",
          "name": "stderr",
          "text": []
        },
        {
          "output_type": "stream",
          "name": "stdout",
          "text": [
            "\n",
            "Optimal Parameters for this window: {'confidence_threshold': 0.015, 'atr_multiplier_tp': 3.0, 'atr_multiplier_sl': 0.4, 'max_position_size': 0.1, 'breakeven_atr_multiplier': 0.4, 'profit_lock_atr_multiplier': 0.3, 'trailing_stop_multiplier': 0.07, 'risk_per_trade_percent': 0.005, 'volatility_size_factor': 0.02, 'look_back': 72, 'max_hold_periods': 72, 'dynamic_position_sizing_method': 'volatility_based', 'min_atr_threshold': 0.1, 'min_risk_reward': 0.4, 'tuner/epochs': 1, 'tuner/initial_epoch': 0, 'tuner/bracket': 0, 'tuner/round': 0}\n",
            "Sharpe Ratio from Optimization: 2.37\n",
            "\n",
            "--- Validating on unseen data from 2024-12-18 12:00:00+00:00 to 2024-12-24 11:00:00+00:00 ---\n"
          ]
        },
        {
          "output_type": "stream",
          "name": "stderr",
          "text": []
        },
        {
          "output_type": "stream",
          "name": "stdout",
          "text": [
            "--- Validation Metrics ---\n",
            "Total Return: -0.88%\n",
            "Sharpe Ratio: 3.00\n",
            "Max Drawdown: 17.37%\n",
            "Total Trades: 10\n",
            "\n",
            "\n",
            "--- Optimizing on data from 2023-12-24 01:00:00+00:00 to 2024-12-24 11:00:00+00:00 ---\n",
            "In-sample data from 2023-12-24 01:00:00+00:00 to 2024-12-24 11:00:00+00:00\n",
            "Out-of-sample data from 2024-12-24 12:00:00+00:00 to 2024-12-30 11:00:00+00:00\n",
            "\n",
            "\n",
            "Total candles in-sample: 8784\n",
            "Total candles out-of-sample: 144\n",
            "Total candles total: 20409\n",
            "Start Index: 17352\n",
            "End Index: 17496\n",
            "Step Size: 144\n",
            "Total Steps: 81\n",
            "\n",
            "\n",
            "Directory: /content/gdrive/MyDrive/TradingBotLogs/tuning_results_WFO_MVP_BTC_USD\n",
            "Project Name: backtest_tuning_BTC_USD_17352\n",
            "\n",
            "\n"
          ]
        },
        {
          "output_type": "stream",
          "name": "stderr",
          "text": []
        },
        {
          "output_type": "stream",
          "name": "stdout",
          "text": [
            "\n",
            "Optimal Parameters for this window: {'confidence_threshold': 0.005, 'atr_multiplier_tp': 2.0, 'atr_multiplier_sl': 0.5, 'max_position_size': 0.1, 'breakeven_atr_multiplier': 0.3, 'profit_lock_atr_multiplier': 0.5, 'trailing_stop_multiplier': 0.05, 'risk_per_trade_percent': 0.008, 'volatility_size_factor': 0.01, 'look_back': 72, 'max_hold_periods': 72, 'dynamic_position_sizing_method': 'hybrid', 'min_atr_threshold': 0.1, 'min_risk_reward': 0.1, 'tuner/epochs': 1, 'tuner/initial_epoch': 0, 'tuner/bracket': 0, 'tuner/round': 0}\n",
            "Sharpe Ratio from Optimization: 2.52\n",
            "\n",
            "--- Validating on unseen data from 2024-12-24 12:00:00+00:00 to 2024-12-30 11:00:00+00:00 ---\n"
          ]
        },
        {
          "output_type": "stream",
          "name": "stderr",
          "text": []
        },
        {
          "output_type": "stream",
          "name": "stdout",
          "text": [
            "--- Validation Metrics ---\n",
            "Total Return: -0.43%\n",
            "Sharpe Ratio: 4.13\n",
            "Max Drawdown: 16.95%\n",
            "Total Trades: 10\n",
            "\n",
            "\n",
            "--- Optimizing on data from 2023-12-30 01:00:00+00:00 to 2024-12-30 11:00:00+00:00 ---\n",
            "In-sample data from 2023-12-30 01:00:00+00:00 to 2024-12-30 11:00:00+00:00\n",
            "Out-of-sample data from 2024-12-30 12:00:00+00:00 to 2025-01-05 11:00:00+00:00\n",
            "\n",
            "\n",
            "Total candles in-sample: 8784\n",
            "Total candles out-of-sample: 144\n",
            "Total candles total: 20409\n",
            "Start Index: 17496\n",
            "End Index: 17640\n",
            "Step Size: 144\n",
            "Total Steps: 81\n",
            "\n",
            "\n",
            "Directory: /content/gdrive/MyDrive/TradingBotLogs/tuning_results_WFO_MVP_BTC_USD\n",
            "Project Name: backtest_tuning_BTC_USD_17496\n",
            "\n",
            "\n"
          ]
        },
        {
          "output_type": "stream",
          "name": "stderr",
          "text": []
        },
        {
          "output_type": "stream",
          "name": "stdout",
          "text": [
            "\n",
            "Optimal Parameters for this window: {'confidence_threshold': 0.005, 'atr_multiplier_tp': 2.0, 'atr_multiplier_sl': 0.5, 'max_position_size': 0.2, 'breakeven_atr_multiplier': 0.5, 'profit_lock_atr_multiplier': 0.3, 'trailing_stop_multiplier': 0.07, 'risk_per_trade_percent': 0.007, 'volatility_size_factor': 0.02, 'look_back': 72, 'max_hold_periods': 96, 'dynamic_position_sizing_method': 'hybrid', 'min_atr_threshold': 0.1, 'min_risk_reward': 0.2, 'tuner/epochs': 1, 'tuner/initial_epoch': 0, 'tuner/bracket': 0, 'tuner/round': 0}\n",
            "Sharpe Ratio from Optimization: 4.59\n",
            "\n",
            "--- Validating on unseen data from 2024-12-30 12:00:00+00:00 to 2025-01-05 11:00:00+00:00 ---\n"
          ]
        },
        {
          "output_type": "stream",
          "name": "stderr",
          "text": []
        },
        {
          "output_type": "stream",
          "name": "stdout",
          "text": [
            "--- Validation Metrics ---\n",
            "Total Return: -0.69%\n",
            "Sharpe Ratio: -35.39\n",
            "Max Drawdown: 0.69%\n",
            "Total Trades: 8\n",
            "\n",
            "\n",
            "--- Optimizing on data from 2024-01-05 01:00:00+00:00 to 2025-01-05 11:00:00+00:00 ---\n",
            "In-sample data from 2024-01-05 01:00:00+00:00 to 2025-01-05 11:00:00+00:00\n",
            "Out-of-sample data from 2025-01-05 12:00:00+00:00 to 2025-01-11 11:00:00+00:00\n",
            "\n",
            "\n",
            "Total candles in-sample: 8784\n",
            "Total candles out-of-sample: 144\n",
            "Total candles total: 20409\n",
            "Start Index: 17640\n",
            "End Index: 17784\n",
            "Step Size: 144\n",
            "Total Steps: 81\n",
            "\n",
            "\n",
            "Directory: /content/gdrive/MyDrive/TradingBotLogs/tuning_results_WFO_MVP_BTC_USD\n",
            "Project Name: backtest_tuning_BTC_USD_17640\n",
            "\n",
            "\n"
          ]
        },
        {
          "output_type": "stream",
          "name": "stderr",
          "text": []
        },
        {
          "output_type": "stream",
          "name": "stdout",
          "text": [
            "\n",
            "Optimal Parameters for this window: {'confidence_threshold': 0.01, 'atr_multiplier_tp': 2.0, 'atr_multiplier_sl': 0.6000000000000001, 'max_position_size': 0.2, 'breakeven_atr_multiplier': 0.4, 'profit_lock_atr_multiplier': 0.4, 'trailing_stop_multiplier': 0.060000000000000005, 'risk_per_trade_percent': 0.007, 'volatility_size_factor': 0.01, 'look_back': 72, 'max_hold_periods': 96, 'dynamic_position_sizing_method': 'volatility_based', 'min_atr_threshold': 0.05, 'min_risk_reward': 0.2, 'tuner/epochs': 1, 'tuner/initial_epoch': 0, 'tuner/bracket': 0, 'tuner/round': 0}\n",
            "Sharpe Ratio from Optimization: 4.59\n",
            "\n",
            "--- Validating on unseen data from 2025-01-05 12:00:00+00:00 to 2025-01-11 11:00:00+00:00 ---\n"
          ]
        },
        {
          "output_type": "stream",
          "name": "stderr",
          "text": []
        },
        {
          "output_type": "stream",
          "name": "stdout",
          "text": [
            "--- Validation Metrics ---\n",
            "Total Return: -0.31%\n",
            "Sharpe Ratio: 3.35\n",
            "Max Drawdown: 28.90%\n",
            "Total Trades: 5\n",
            "\n",
            "\n",
            "--- Optimizing on data from 2024-01-11 03:00:00+00:00 to 2025-01-11 11:00:00+00:00 ---\n",
            "In-sample data from 2024-01-11 03:00:00+00:00 to 2025-01-11 11:00:00+00:00\n",
            "Out-of-sample data from 2025-01-11 12:00:00+00:00 to 2025-01-17 11:00:00+00:00\n",
            "\n",
            "\n",
            "Total candles in-sample: 8784\n",
            "Total candles out-of-sample: 144\n",
            "Total candles total: 20409\n",
            "Start Index: 17784\n",
            "End Index: 17928\n",
            "Step Size: 144\n",
            "Total Steps: 81\n",
            "\n",
            "\n",
            "Directory: /content/gdrive/MyDrive/TradingBotLogs/tuning_results_WFO_MVP_BTC_USD\n",
            "Project Name: backtest_tuning_BTC_USD_17784\n",
            "\n",
            "\n"
          ]
        },
        {
          "output_type": "stream",
          "name": "stderr",
          "text": []
        },
        {
          "output_type": "stream",
          "name": "stdout",
          "text": [
            "\n",
            "Optimal Parameters for this window: {'confidence_threshold': 0.005, 'atr_multiplier_tp': 3.0, 'atr_multiplier_sl': 0.8, 'max_position_size': 0.15000000000000002, 'breakeven_atr_multiplier': 0.4, 'profit_lock_atr_multiplier': 0.5, 'trailing_stop_multiplier': 0.05, 'risk_per_trade_percent': 0.005, 'volatility_size_factor': 0.015, 'look_back': 72, 'max_hold_periods': 120, 'dynamic_position_sizing_method': 'volatility_based', 'min_atr_threshold': 0.1, 'min_risk_reward': 0.30000000000000004, 'tuner/epochs': 1, 'tuner/initial_epoch': 0, 'tuner/bracket': 0, 'tuner/round': 0}\n",
            "Sharpe Ratio from Optimization: 3.04\n",
            "\n",
            "--- Validating on unseen data from 2025-01-11 12:00:00+00:00 to 2025-01-17 11:00:00+00:00 ---\n"
          ]
        },
        {
          "output_type": "stream",
          "name": "stderr",
          "text": []
        },
        {
          "output_type": "stream",
          "name": "stdout",
          "text": [
            "--- Validation Metrics ---\n",
            "Total Return: 0.19%\n",
            "Sharpe Ratio: 2.78\n",
            "Max Drawdown: 23.32%\n",
            "Total Trades: 4\n",
            "\n",
            "\n",
            "--- Optimizing on data from 2024-01-17 03:00:00+00:00 to 2025-01-17 11:00:00+00:00 ---\n",
            "In-sample data from 2024-01-17 03:00:00+00:00 to 2025-01-17 11:00:00+00:00\n",
            "Out-of-sample data from 2025-01-17 12:00:00+00:00 to 2025-01-23 11:00:00+00:00\n",
            "\n",
            "\n",
            "Total candles in-sample: 8784\n",
            "Total candles out-of-sample: 144\n",
            "Total candles total: 20409\n",
            "Start Index: 17928\n",
            "End Index: 18072\n",
            "Step Size: 144\n",
            "Total Steps: 81\n",
            "\n",
            "\n",
            "Directory: /content/gdrive/MyDrive/TradingBotLogs/tuning_results_WFO_MVP_BTC_USD\n",
            "Project Name: backtest_tuning_BTC_USD_17928\n",
            "\n",
            "\n"
          ]
        },
        {
          "output_type": "stream",
          "name": "stderr",
          "text": []
        },
        {
          "output_type": "stream",
          "name": "stdout",
          "text": [
            "\n",
            "Optimal Parameters for this window: {'confidence_threshold': 0.01, 'atr_multiplier_tp': 1.5, 'atr_multiplier_sl': 0.7000000000000001, 'max_position_size': 0.15000000000000002, 'breakeven_atr_multiplier': 0.3, 'profit_lock_atr_multiplier': 0.3, 'trailing_stop_multiplier': 0.07, 'risk_per_trade_percent': 0.008, 'volatility_size_factor': 0.02, 'look_back': 72, 'max_hold_periods': 120, 'dynamic_position_sizing_method': 'volatility_based', 'min_atr_threshold': 0.05, 'min_risk_reward': 0.2, 'tuner/epochs': 1, 'tuner/initial_epoch': 0, 'tuner/bracket': 0, 'tuner/round': 0}\n",
            "Sharpe Ratio from Optimization: 3.64\n",
            "\n",
            "--- Validating on unseen data from 2025-01-17 12:00:00+00:00 to 2025-01-23 11:00:00+00:00 ---\n"
          ]
        },
        {
          "output_type": "stream",
          "name": "stderr",
          "text": []
        },
        {
          "output_type": "stream",
          "name": "stdout",
          "text": [
            "--- Validation Metrics ---\n",
            "Total Return: 29.10%\n",
            "Sharpe Ratio: 10.34\n",
            "Max Drawdown: 23.38%\n",
            "Total Trades: 7\n",
            "\n",
            "\n",
            "--- Optimizing on data from 2024-01-23 07:00:00+00:00 to 2025-01-23 11:00:00+00:00 ---\n",
            "In-sample data from 2024-01-23 07:00:00+00:00 to 2025-01-23 11:00:00+00:00\n",
            "Out-of-sample data from 2025-01-23 12:00:00+00:00 to 2025-01-29 14:00:00+00:00\n",
            "\n",
            "\n",
            "Total candles in-sample: 8784\n",
            "Total candles out-of-sample: 144\n",
            "Total candles total: 20409\n",
            "Start Index: 18072\n",
            "End Index: 18216\n",
            "Step Size: 144\n",
            "Total Steps: 81\n",
            "\n",
            "\n",
            "Directory: /content/gdrive/MyDrive/TradingBotLogs/tuning_results_WFO_MVP_BTC_USD\n",
            "Project Name: backtest_tuning_BTC_USD_18072\n",
            "\n",
            "\n"
          ]
        },
        {
          "output_type": "stream",
          "name": "stderr",
          "text": []
        },
        {
          "output_type": "stream",
          "name": "stdout",
          "text": [
            "\n",
            "Optimal Parameters for this window: {'confidence_threshold': 0.01, 'atr_multiplier_tp': 3.5, 'atr_multiplier_sl': 0.6000000000000001, 'max_position_size': 0.2, 'breakeven_atr_multiplier': 0.5, 'profit_lock_atr_multiplier': 0.5, 'trailing_stop_multiplier': 0.05, 'risk_per_trade_percent': 0.007, 'volatility_size_factor': 0.015, 'look_back': 72, 'max_hold_periods': 120, 'dynamic_position_sizing_method': 'hybrid', 'min_atr_threshold': 0.05, 'min_risk_reward': 0.4, 'tuner/epochs': 1, 'tuner/initial_epoch': 0, 'tuner/bracket': 0, 'tuner/round': 0}\n",
            "Sharpe Ratio from Optimization: 3.99\n",
            "\n",
            "--- Validating on unseen data from 2025-01-23 12:00:00+00:00 to 2025-01-29 14:00:00+00:00 ---\n"
          ]
        },
        {
          "output_type": "stream",
          "name": "stderr",
          "text": []
        },
        {
          "output_type": "stream",
          "name": "stdout",
          "text": [
            "--- Validation Metrics ---\n",
            "Total Return: -0.40%\n",
            "Sharpe Ratio: 3.33\n",
            "Max Drawdown: 28.75%\n",
            "Total Trades: 3\n",
            "\n",
            "\n",
            "--- Optimizing on data from 2024-01-29 07:00:00+00:00 to 2025-01-29 14:00:00+00:00 ---\n",
            "In-sample data from 2024-01-29 07:00:00+00:00 to 2025-01-29 14:00:00+00:00\n",
            "Out-of-sample data from 2025-01-29 15:00:00+00:00 to 2025-02-04 14:00:00+00:00\n",
            "\n",
            "\n",
            "Total candles in-sample: 8784\n",
            "Total candles out-of-sample: 144\n",
            "Total candles total: 20409\n",
            "Start Index: 18216\n",
            "End Index: 18360\n",
            "Step Size: 144\n",
            "Total Steps: 81\n",
            "\n",
            "\n",
            "Directory: /content/gdrive/MyDrive/TradingBotLogs/tuning_results_WFO_MVP_BTC_USD\n",
            "Project Name: backtest_tuning_BTC_USD_18216\n",
            "\n",
            "\n"
          ]
        },
        {
          "output_type": "stream",
          "name": "stderr",
          "text": []
        },
        {
          "output_type": "stream",
          "name": "stdout",
          "text": [
            "\n",
            "Optimal Parameters for this window: {'confidence_threshold': 0.01, 'atr_multiplier_tp': 2.0, 'atr_multiplier_sl': 0.8, 'max_position_size': 0.15000000000000002, 'breakeven_atr_multiplier': 0.5, 'profit_lock_atr_multiplier': 0.4, 'trailing_stop_multiplier': 0.05, 'risk_per_trade_percent': 0.008, 'volatility_size_factor': 0.015, 'look_back': 72, 'max_hold_periods': 72, 'dynamic_position_sizing_method': 'volatility_based', 'min_atr_threshold': 0.05, 'min_risk_reward': 0.1, 'tuner/epochs': 1, 'tuner/initial_epoch': 0, 'tuner/bracket': 0, 'tuner/round': 0}\n",
            "Sharpe Ratio from Optimization: 3.35\n",
            "\n",
            "--- Validating on unseen data from 2025-01-29 15:00:00+00:00 to 2025-02-04 14:00:00+00:00 ---\n"
          ]
        },
        {
          "output_type": "stream",
          "name": "stderr",
          "text": []
        },
        {
          "output_type": "stream",
          "name": "stdout",
          "text": [
            "--- Validation Metrics ---\n",
            "Total Return: -0.47%\n",
            "Sharpe Ratio: 3.71\n",
            "Max Drawdown: 23.85%\n",
            "Total Trades: 5\n",
            "\n",
            "\n",
            "--- Optimizing on data from 2024-02-04 07:00:00+00:00 to 2025-02-04 14:00:00+00:00 ---\n",
            "In-sample data from 2024-02-04 07:00:00+00:00 to 2025-02-04 14:00:00+00:00\n",
            "Out-of-sample data from 2025-02-04 15:00:00+00:00 to 2025-02-10 14:00:00+00:00\n",
            "\n",
            "\n",
            "Total candles in-sample: 8784\n",
            "Total candles out-of-sample: 144\n",
            "Total candles total: 20409\n",
            "Start Index: 18360\n",
            "End Index: 18504\n",
            "Step Size: 144\n",
            "Total Steps: 81\n",
            "\n",
            "\n",
            "Directory: /content/gdrive/MyDrive/TradingBotLogs/tuning_results_WFO_MVP_BTC_USD\n",
            "Project Name: backtest_tuning_BTC_USD_18360\n",
            "\n",
            "\n"
          ]
        },
        {
          "output_type": "stream",
          "name": "stderr",
          "text": []
        },
        {
          "output_type": "stream",
          "name": "stdout",
          "text": [
            "\n",
            "Optimal Parameters for this window: {'confidence_threshold': 0.015, 'atr_multiplier_tp': 2.0, 'atr_multiplier_sl': 0.6000000000000001, 'max_position_size': 0.15000000000000002, 'breakeven_atr_multiplier': 0.4, 'profit_lock_atr_multiplier': 0.5, 'trailing_stop_multiplier': 0.060000000000000005, 'risk_per_trade_percent': 0.005, 'volatility_size_factor': 0.015, 'look_back': 72, 'max_hold_periods': 96, 'dynamic_position_sizing_method': 'hybrid', 'min_atr_threshold': 0.05, 'min_risk_reward': 0.1, 'tuner/epochs': 1, 'tuner/initial_epoch': 0, 'tuner/bracket': 0, 'tuner/round': 0}\n",
            "Sharpe Ratio from Optimization: 3.60\n",
            "\n",
            "--- Validating on unseen data from 2025-02-04 15:00:00+00:00 to 2025-02-10 14:00:00+00:00 ---\n"
          ]
        },
        {
          "output_type": "stream",
          "name": "stderr",
          "text": []
        },
        {
          "output_type": "stream",
          "name": "stdout",
          "text": [
            "--- Validation Metrics ---\n",
            "Total Return: -1.04%\n",
            "Sharpe Ratio: 5.22\n",
            "Max Drawdown: 23.74%\n",
            "Total Trades: 9\n",
            "\n",
            "\n",
            "--- Optimizing on data from 2024-02-10 07:00:00+00:00 to 2025-02-10 14:00:00+00:00 ---\n",
            "In-sample data from 2024-02-10 07:00:00+00:00 to 2025-02-10 14:00:00+00:00\n",
            "Out-of-sample data from 2025-02-10 15:00:00+00:00 to 2025-02-16 14:00:00+00:00\n",
            "\n",
            "\n",
            "Total candles in-sample: 8784\n",
            "Total candles out-of-sample: 144\n",
            "Total candles total: 20409\n",
            "Start Index: 18504\n",
            "End Index: 18648\n",
            "Step Size: 144\n",
            "Total Steps: 81\n",
            "\n",
            "\n",
            "Directory: /content/gdrive/MyDrive/TradingBotLogs/tuning_results_WFO_MVP_BTC_USD\n",
            "Project Name: backtest_tuning_BTC_USD_18504\n",
            "\n",
            "\n"
          ]
        },
        {
          "output_type": "stream",
          "name": "stderr",
          "text": []
        },
        {
          "output_type": "stream",
          "name": "stdout",
          "text": [
            "\n",
            "Optimal Parameters for this window: {'confidence_threshold': 0.01, 'atr_multiplier_tp': 3.5, 'atr_multiplier_sl': 0.4, 'max_position_size': 0.2, 'breakeven_atr_multiplier': 0.5, 'profit_lock_atr_multiplier': 0.3, 'trailing_stop_multiplier': 0.07, 'risk_per_trade_percent': 0.007, 'volatility_size_factor': 0.01, 'look_back': 72, 'max_hold_periods': 96, 'dynamic_position_sizing_method': 'risk_based', 'min_atr_threshold': 0.05, 'min_risk_reward': 0.1, 'tuner/epochs': 1, 'tuner/initial_epoch': 0, 'tuner/bracket': 0, 'tuner/round': 0}\n",
            "Sharpe Ratio from Optimization: 4.32\n",
            "\n",
            "--- Validating on unseen data from 2025-02-10 15:00:00+00:00 to 2025-02-16 14:00:00+00:00 ---\n"
          ]
        },
        {
          "output_type": "stream",
          "name": "stderr",
          "text": []
        },
        {
          "output_type": "stream",
          "name": "stdout",
          "text": [
            "--- Validation Metrics ---\n",
            "Total Return: -1.38%\n",
            "Sharpe Ratio: -75.74\n",
            "Max Drawdown: 1.42%\n",
            "Total Trades: 17\n",
            "\n",
            "\n",
            "--- Optimizing on data from 2024-02-16 07:00:00+00:00 to 2025-02-16 14:00:00+00:00 ---\n",
            "In-sample data from 2024-02-16 07:00:00+00:00 to 2025-02-16 14:00:00+00:00\n",
            "Out-of-sample data from 2025-02-16 15:00:00+00:00 to 2025-02-22 14:00:00+00:00\n",
            "\n",
            "\n",
            "Total candles in-sample: 8784\n",
            "Total candles out-of-sample: 144\n",
            "Total candles total: 20409\n",
            "Start Index: 18648\n",
            "End Index: 18792\n",
            "Step Size: 144\n",
            "Total Steps: 81\n",
            "\n",
            "\n",
            "Directory: /content/gdrive/MyDrive/TradingBotLogs/tuning_results_WFO_MVP_BTC_USD\n",
            "Project Name: backtest_tuning_BTC_USD_18648\n",
            "\n",
            "\n"
          ]
        },
        {
          "output_type": "stream",
          "name": "stderr",
          "text": []
        },
        {
          "output_type": "stream",
          "name": "stdout",
          "text": [
            "\n",
            "Optimal Parameters for this window: {'confidence_threshold': 0.01, 'atr_multiplier_tp': 1.5, 'atr_multiplier_sl': 0.4, 'max_position_size': 0.1, 'breakeven_atr_multiplier': 0.3, 'profit_lock_atr_multiplier': 0.3, 'trailing_stop_multiplier': 0.05, 'risk_per_trade_percent': 0.006, 'volatility_size_factor': 0.01, 'look_back': 72, 'max_hold_periods': 72, 'dynamic_position_sizing_method': 'volatility_based', 'min_atr_threshold': 0.05, 'min_risk_reward': 0.2, 'tuner/epochs': 1, 'tuner/initial_epoch': 0, 'tuner/bracket': 0, 'tuner/round': 0}\n",
            "Sharpe Ratio from Optimization: 2.80\n",
            "\n",
            "--- Validating on unseen data from 2025-02-16 15:00:00+00:00 to 2025-02-22 14:00:00+00:00 ---\n"
          ]
        },
        {
          "output_type": "stream",
          "name": "stderr",
          "text": []
        },
        {
          "output_type": "stream",
          "name": "stdout",
          "text": [
            "--- Validation Metrics ---\n",
            "Total Return: -0.42%\n",
            "Sharpe Ratio: 1.65\n",
            "Max Drawdown: 16.88%\n",
            "Total Trades: 8\n",
            "\n",
            "\n",
            "--- Optimizing on data from 2024-02-22 07:00:00+00:00 to 2025-02-22 14:00:00+00:00 ---\n",
            "In-sample data from 2024-02-22 07:00:00+00:00 to 2025-02-22 14:00:00+00:00\n",
            "Out-of-sample data from 2025-02-22 15:00:00+00:00 to 2025-02-28 14:00:00+00:00\n",
            "\n",
            "\n",
            "Total candles in-sample: 8784\n",
            "Total candles out-of-sample: 144\n",
            "Total candles total: 20409\n",
            "Start Index: 18792\n",
            "End Index: 18936\n",
            "Step Size: 144\n",
            "Total Steps: 81\n",
            "\n",
            "\n",
            "Directory: /content/gdrive/MyDrive/TradingBotLogs/tuning_results_WFO_MVP_BTC_USD\n",
            "Project Name: backtest_tuning_BTC_USD_18792\n",
            "\n",
            "\n"
          ]
        },
        {
          "output_type": "stream",
          "name": "stderr",
          "text": []
        },
        {
          "output_type": "stream",
          "name": "stdout",
          "text": [
            "\n",
            "Optimal Parameters for this window: {'confidence_threshold': 0.005, 'atr_multiplier_tp': 3.5, 'atr_multiplier_sl': 0.7000000000000001, 'max_position_size': 0.2, 'breakeven_atr_multiplier': 0.5, 'profit_lock_atr_multiplier': 0.3, 'trailing_stop_multiplier': 0.060000000000000005, 'risk_per_trade_percent': 0.006, 'volatility_size_factor': 0.015, 'look_back': 72, 'max_hold_periods': 96, 'dynamic_position_sizing_method': 'hybrid', 'min_atr_threshold': 0.1, 'min_risk_reward': 0.1, 'tuner/epochs': 1, 'tuner/initial_epoch': 0, 'tuner/bracket': 0, 'tuner/round': 0}\n",
            "Sharpe Ratio from Optimization: 3.83\n",
            "\n",
            "--- Validating on unseen data from 2025-02-22 15:00:00+00:00 to 2025-02-28 14:00:00+00:00 ---\n"
          ]
        },
        {
          "output_type": "stream",
          "name": "stderr",
          "text": []
        },
        {
          "output_type": "stream",
          "name": "stdout",
          "text": [
            "--- Validation Metrics ---\n",
            "Total Return: -1.03%\n",
            "Sharpe Ratio: 4.65\n",
            "Max Drawdown: 29.40%\n",
            "Total Trades: 5\n",
            "\n",
            "\n",
            "--- Optimizing on data from 2024-02-28 07:00:00+00:00 to 2025-02-28 14:00:00+00:00 ---\n",
            "In-sample data from 2024-02-28 07:00:00+00:00 to 2025-02-28 14:00:00+00:00\n",
            "Out-of-sample data from 2025-02-28 15:00:00+00:00 to 2025-03-06 14:00:00+00:00\n",
            "\n",
            "\n",
            "Total candles in-sample: 8784\n",
            "Total candles out-of-sample: 144\n",
            "Total candles total: 20409\n",
            "Start Index: 18936\n",
            "End Index: 19080\n",
            "Step Size: 144\n",
            "Total Steps: 81\n",
            "\n",
            "\n",
            "Directory: /content/gdrive/MyDrive/TradingBotLogs/tuning_results_WFO_MVP_BTC_USD\n",
            "Project Name: backtest_tuning_BTC_USD_18936\n",
            "\n",
            "\n"
          ]
        },
        {
          "output_type": "stream",
          "name": "stderr",
          "text": []
        },
        {
          "output_type": "stream",
          "name": "stdout",
          "text": [
            "\n",
            "Optimal Parameters for this window: {'confidence_threshold': 0.01, 'atr_multiplier_tp': 3.0, 'atr_multiplier_sl': 0.7000000000000001, 'max_position_size': 0.2, 'breakeven_atr_multiplier': 0.4, 'profit_lock_atr_multiplier': 0.5, 'trailing_stop_multiplier': 0.05, 'risk_per_trade_percent': 0.007, 'volatility_size_factor': 0.02, 'look_back': 72, 'max_hold_periods': 96, 'dynamic_position_sizing_method': 'risk_based', 'min_atr_threshold': 0.1, 'min_risk_reward': 0.1, 'tuner/epochs': 1, 'tuner/initial_epoch': 0, 'tuner/bracket': 0, 'tuner/round': 0}\n",
            "Sharpe Ratio from Optimization: 4.07\n",
            "\n",
            "--- Validating on unseen data from 2025-02-28 15:00:00+00:00 to 2025-03-06 14:00:00+00:00 ---\n"
          ]
        },
        {
          "output_type": "stream",
          "name": "stderr",
          "text": []
        },
        {
          "output_type": "stream",
          "name": "stdout",
          "text": [
            "--- Validation Metrics ---\n",
            "Total Return: 40.70%\n",
            "Sharpe Ratio: 15.19\n",
            "Max Drawdown: 0.67%\n",
            "Total Trades: 7\n",
            "\n",
            "\n",
            "--- Optimizing on data from 2024-03-05 07:00:00+00:00 to 2025-03-06 14:00:00+00:00 ---\n",
            "In-sample data from 2024-03-05 07:00:00+00:00 to 2025-03-06 14:00:00+00:00\n",
            "Out-of-sample data from 2025-03-06 15:00:00+00:00 to 2025-03-12 14:00:00+00:00\n",
            "\n",
            "\n",
            "Total candles in-sample: 8784\n",
            "Total candles out-of-sample: 144\n",
            "Total candles total: 20409\n",
            "Start Index: 19080\n",
            "End Index: 19224\n",
            "Step Size: 144\n",
            "Total Steps: 81\n",
            "\n",
            "\n",
            "Directory: /content/gdrive/MyDrive/TradingBotLogs/tuning_results_WFO_MVP_BTC_USD\n",
            "Project Name: backtest_tuning_BTC_USD_19080\n",
            "\n",
            "\n"
          ]
        },
        {
          "output_type": "stream",
          "name": "stderr",
          "text": []
        },
        {
          "output_type": "stream",
          "name": "stdout",
          "text": [
            "\n",
            "Optimal Parameters for this window: {'confidence_threshold': 0.005, 'atr_multiplier_tp': 3.5, 'atr_multiplier_sl': 0.5, 'max_position_size': 0.2, 'breakeven_atr_multiplier': 0.5, 'profit_lock_atr_multiplier': 0.5, 'trailing_stop_multiplier': 0.060000000000000005, 'risk_per_trade_percent': 0.005, 'volatility_size_factor': 0.01, 'look_back': 72, 'max_hold_periods': 96, 'dynamic_position_sizing_method': 'hybrid', 'min_atr_threshold': 0.1, 'min_risk_reward': 0.30000000000000004, 'tuner/epochs': 1, 'tuner/initial_epoch': 0, 'tuner/bracket': 0, 'tuner/round': 0}\n",
            "Sharpe Ratio from Optimization: 4.18\n",
            "\n",
            "--- Validating on unseen data from 2025-03-06 15:00:00+00:00 to 2025-03-12 14:00:00+00:00 ---\n"
          ]
        },
        {
          "output_type": "stream",
          "name": "stderr",
          "text": []
        },
        {
          "output_type": "stream",
          "name": "stdout",
          "text": [
            "--- Validation Metrics ---\n",
            "Total Return: -0.29%\n",
            "Sharpe Ratio: 3.37\n",
            "Max Drawdown: 28.87%\n",
            "Total Trades: 5\n",
            "\n",
            "\n",
            "--- Optimizing on data from 2024-03-11 07:00:00+00:00 to 2025-03-12 14:00:00+00:00 ---\n",
            "In-sample data from 2024-03-11 07:00:00+00:00 to 2025-03-12 14:00:00+00:00\n",
            "Out-of-sample data from 2025-03-12 15:00:00+00:00 to 2025-03-18 14:00:00+00:00\n",
            "\n",
            "\n",
            "Total candles in-sample: 8784\n",
            "Total candles out-of-sample: 144\n",
            "Total candles total: 20409\n",
            "Start Index: 19224\n",
            "End Index: 19368\n",
            "Step Size: 144\n",
            "Total Steps: 81\n",
            "\n",
            "\n",
            "Directory: /content/gdrive/MyDrive/TradingBotLogs/tuning_results_WFO_MVP_BTC_USD\n",
            "Project Name: backtest_tuning_BTC_USD_19224\n",
            "\n",
            "\n"
          ]
        },
        {
          "output_type": "stream",
          "name": "stderr",
          "text": []
        },
        {
          "output_type": "stream",
          "name": "stdout",
          "text": [
            "\n",
            "Optimal Parameters for this window: {'confidence_threshold': 0.01, 'atr_multiplier_tp': 1.5, 'atr_multiplier_sl': 0.8, 'max_position_size': 0.2, 'breakeven_atr_multiplier': 0.3, 'profit_lock_atr_multiplier': 0.4, 'trailing_stop_multiplier': 0.060000000000000005, 'risk_per_trade_percent': 0.008, 'volatility_size_factor': 0.015, 'look_back': 72, 'max_hold_periods': 72, 'dynamic_position_sizing_method': 'hybrid', 'min_atr_threshold': 0.05, 'min_risk_reward': 0.1, 'tuner/epochs': 1, 'tuner/initial_epoch': 0, 'tuner/bracket': 0, 'tuner/round': 0}\n",
            "Sharpe Ratio from Optimization: 4.66\n",
            "\n",
            "--- Validating on unseen data from 2025-03-12 15:00:00+00:00 to 2025-03-18 14:00:00+00:00 ---\n"
          ]
        },
        {
          "output_type": "stream",
          "name": "stderr",
          "text": []
        },
        {
          "output_type": "stream",
          "name": "stdout",
          "text": [
            "--- Validation Metrics ---\n",
            "Total Return: 39.06%\n",
            "Sharpe Ratio: 11.56\n",
            "Max Drawdown: 28.82%\n",
            "Total Trades: 10\n",
            "\n",
            "\n",
            "--- Optimizing on data from 2024-03-17 07:00:00+00:00 to 2025-03-18 14:00:00+00:00 ---\n",
            "In-sample data from 2024-03-17 07:00:00+00:00 to 2025-03-18 14:00:00+00:00\n",
            "Out-of-sample data from 2025-03-18 15:00:00+00:00 to 2025-03-24 14:00:00+00:00\n",
            "\n",
            "\n",
            "Total candles in-sample: 8784\n",
            "Total candles out-of-sample: 144\n",
            "Total candles total: 20409\n",
            "Start Index: 19368\n",
            "End Index: 19512\n",
            "Step Size: 144\n",
            "Total Steps: 81\n",
            "\n",
            "\n",
            "Directory: /content/gdrive/MyDrive/TradingBotLogs/tuning_results_WFO_MVP_BTC_USD\n",
            "Project Name: backtest_tuning_BTC_USD_19368\n",
            "\n",
            "\n"
          ]
        },
        {
          "output_type": "stream",
          "name": "stderr",
          "text": []
        },
        {
          "output_type": "stream",
          "name": "stdout",
          "text": [
            "\n",
            "Optimal Parameters for this window: {'confidence_threshold': 0.015, 'atr_multiplier_tp': 1.5, 'atr_multiplier_sl': 0.6000000000000001, 'max_position_size': 0.1, 'breakeven_atr_multiplier': 0.5, 'profit_lock_atr_multiplier': 0.3, 'trailing_stop_multiplier': 0.060000000000000005, 'risk_per_trade_percent': 0.006, 'volatility_size_factor': 0.015, 'look_back': 72, 'max_hold_periods': 120, 'dynamic_position_sizing_method': 'hybrid', 'min_atr_threshold': 0.05, 'min_risk_reward': 0.1, 'tuner/epochs': 1, 'tuner/initial_epoch': 0, 'tuner/bracket': 0, 'tuner/round': 0}\n",
            "Sharpe Ratio from Optimization: 2.67\n",
            "\n",
            "--- Validating on unseen data from 2025-03-18 15:00:00+00:00 to 2025-03-24 14:00:00+00:00 ---\n"
          ]
        },
        {
          "output_type": "stream",
          "name": "stderr",
          "text": []
        },
        {
          "output_type": "stream",
          "name": "stdout",
          "text": [
            "--- Validation Metrics ---\n",
            "Total Return: 0.17%\n",
            "Sharpe Ratio: 11.70\n",
            "Max Drawdown: 0.11%\n",
            "Total Trades: 7\n",
            "\n",
            "\n",
            "--- Optimizing on data from 2024-03-23 07:00:00+00:00 to 2025-03-24 14:00:00+00:00 ---\n",
            "In-sample data from 2024-03-23 07:00:00+00:00 to 2025-03-24 14:00:00+00:00\n",
            "Out-of-sample data from 2025-03-24 15:00:00+00:00 to 2025-03-30 14:00:00+00:00\n",
            "\n",
            "\n",
            "Total candles in-sample: 8784\n",
            "Total candles out-of-sample: 144\n",
            "Total candles total: 20409\n",
            "Start Index: 19512\n",
            "End Index: 19656\n",
            "Step Size: 144\n",
            "Total Steps: 81\n",
            "\n",
            "\n",
            "Directory: /content/gdrive/MyDrive/TradingBotLogs/tuning_results_WFO_MVP_BTC_USD\n",
            "Project Name: backtest_tuning_BTC_USD_19512\n",
            "\n",
            "\n"
          ]
        },
        {
          "output_type": "stream",
          "name": "stderr",
          "text": []
        },
        {
          "output_type": "stream",
          "name": "stdout",
          "text": [
            "\n",
            "Optimal Parameters for this window: {'confidence_threshold': 0.01, 'atr_multiplier_tp': 2.5, 'atr_multiplier_sl': 0.4, 'max_position_size': 0.15000000000000002, 'breakeven_atr_multiplier': 0.4, 'profit_lock_atr_multiplier': 0.5, 'trailing_stop_multiplier': 0.060000000000000005, 'risk_per_trade_percent': 0.005, 'volatility_size_factor': 0.02, 'look_back': 72, 'max_hold_periods': 72, 'dynamic_position_sizing_method': 'volatility_based', 'min_atr_threshold': 0.1, 'min_risk_reward': 0.1, 'tuner/epochs': 1, 'tuner/initial_epoch': 0, 'tuner/bracket': 0, 'tuner/round': 0}\n",
            "Sharpe Ratio from Optimization: 3.69\n",
            "\n",
            "--- Validating on unseen data from 2025-03-24 15:00:00+00:00 to 2025-03-30 14:00:00+00:00 ---\n"
          ]
        },
        {
          "output_type": "stream",
          "name": "stderr",
          "text": []
        },
        {
          "output_type": "stream",
          "name": "stdout",
          "text": [
            "--- Validation Metrics ---\n",
            "Total Return: -0.56%\n",
            "Sharpe Ratio: 3.68\n",
            "Max Drawdown: 23.35%\n",
            "Total Trades: 8\n",
            "\n",
            "\n",
            "--- Optimizing on data from 2024-03-29 07:00:00+00:00 to 2025-03-30 14:00:00+00:00 ---\n",
            "In-sample data from 2024-03-29 07:00:00+00:00 to 2025-03-30 14:00:00+00:00\n",
            "Out-of-sample data from 2025-03-30 15:00:00+00:00 to 2025-08-22 11:00:00+00:00\n",
            "\n",
            "\n",
            "Total candles in-sample: 8784\n",
            "Total candles out-of-sample: 144\n",
            "Total candles total: 20409\n",
            "Start Index: 19656\n",
            "End Index: 19800\n",
            "Step Size: 144\n",
            "Total Steps: 81\n",
            "\n",
            "\n",
            "Directory: /content/gdrive/MyDrive/TradingBotLogs/tuning_results_WFO_MVP_BTC_USD\n",
            "Project Name: backtest_tuning_BTC_USD_19656\n",
            "\n",
            "\n"
          ]
        },
        {
          "output_type": "stream",
          "name": "stderr",
          "text": []
        },
        {
          "output_type": "stream",
          "name": "stdout",
          "text": [
            "\n",
            "Optimal Parameters for this window: {'confidence_threshold': 0.01, 'atr_multiplier_tp': 3.0, 'atr_multiplier_sl': 0.8, 'max_position_size': 0.15000000000000002, 'breakeven_atr_multiplier': 0.3, 'profit_lock_atr_multiplier': 0.4, 'trailing_stop_multiplier': 0.05, 'risk_per_trade_percent': 0.008, 'volatility_size_factor': 0.01, 'look_back': 72, 'max_hold_periods': 120, 'dynamic_position_sizing_method': 'hybrid', 'min_atr_threshold': 0.1, 'min_risk_reward': 0.1, 'tuner/epochs': 1, 'tuner/initial_epoch': 0, 'tuner/bracket': 0, 'tuner/round': 0}\n",
            "Sharpe Ratio from Optimization: 3.13\n",
            "\n",
            "--- Validating on unseen data from 2025-03-30 15:00:00+00:00 to 2025-08-22 11:00:00+00:00 ---\n"
          ]
        },
        {
          "output_type": "stream",
          "name": "stderr",
          "text": []
        },
        {
          "output_type": "stream",
          "name": "stdout",
          "text": [
            "--- Validation Metrics ---\n",
            "Total Return: -0.83%\n",
            "Sharpe Ratio: 3.60\n",
            "Max Drawdown: 23.53%\n",
            "Total Trades: 8\n",
            "\n",
            "\n",
            "--- Optimizing on data from 2024-04-04 07:00:00+00:00 to 2025-08-22 11:00:00+00:00 ---\n",
            "In-sample data from 2024-04-04 07:00:00+00:00 to 2025-08-22 11:00:00+00:00\n",
            "Out-of-sample data from 2025-08-22 12:00:00+00:00 to 2025-08-28 11:00:00+00:00\n",
            "\n",
            "\n",
            "Total candles in-sample: 8784\n",
            "Total candles out-of-sample: 144\n",
            "Total candles total: 20409\n",
            "Start Index: 19800\n",
            "End Index: 19944\n",
            "Step Size: 144\n",
            "Total Steps: 81\n",
            "\n",
            "\n",
            "Directory: /content/gdrive/MyDrive/TradingBotLogs/tuning_results_WFO_MVP_BTC_USD\n",
            "Project Name: backtest_tuning_BTC_USD_19800\n",
            "\n",
            "\n"
          ]
        },
        {
          "output_type": "stream",
          "name": "stderr",
          "text": []
        },
        {
          "output_type": "stream",
          "name": "stdout",
          "text": [
            "\n",
            "Optimal Parameters for this window: {'confidence_threshold': 0.015, 'atr_multiplier_tp': 3.5, 'atr_multiplier_sl': 0.5, 'max_position_size': 0.1, 'breakeven_atr_multiplier': 0.5, 'profit_lock_atr_multiplier': 0.4, 'trailing_stop_multiplier': 0.07, 'risk_per_trade_percent': 0.005, 'volatility_size_factor': 0.015, 'look_back': 72, 'max_hold_periods': 120, 'dynamic_position_sizing_method': 'risk_based', 'min_atr_threshold': 0.05, 'min_risk_reward': 0.4, 'tuner/epochs': 1, 'tuner/initial_epoch': 0, 'tuner/bracket': 0, 'tuner/round': 0}\n",
            "Sharpe Ratio from Optimization: 2.28\n",
            "\n",
            "--- Validating on unseen data from 2025-08-22 12:00:00+00:00 to 2025-08-28 11:00:00+00:00 ---\n"
          ]
        },
        {
          "output_type": "stream",
          "name": "stderr",
          "text": []
        },
        {
          "output_type": "stream",
          "name": "stdout",
          "text": [
            "--- Validation Metrics ---\n",
            "Total Return: 0.01%\n",
            "Sharpe Ratio: 0.43\n",
            "Max Drawdown: 0.15%\n",
            "Total Trades: 4\n",
            "\n",
            "\n",
            "--- Optimizing on data from 2024-04-10 07:00:00+00:00 to 2025-08-28 11:00:00+00:00 ---\n",
            "In-sample data from 2024-04-10 07:00:00+00:00 to 2025-08-28 11:00:00+00:00\n",
            "Out-of-sample data from 2025-08-28 12:00:00+00:00 to 2025-09-03 11:00:00+00:00\n",
            "\n",
            "\n",
            "Total candles in-sample: 8784\n",
            "Total candles out-of-sample: 144\n",
            "Total candles total: 20409\n",
            "Start Index: 19944\n",
            "End Index: 20088\n",
            "Step Size: 144\n",
            "Total Steps: 81\n",
            "\n",
            "\n",
            "Directory: /content/gdrive/MyDrive/TradingBotLogs/tuning_results_WFO_MVP_BTC_USD\n",
            "Project Name: backtest_tuning_BTC_USD_19944\n",
            "\n",
            "\n"
          ]
        },
        {
          "output_type": "stream",
          "name": "stderr",
          "text": []
        },
        {
          "output_type": "stream",
          "name": "stdout",
          "text": [
            "\n",
            "Optimal Parameters for this window: {'confidence_threshold': 0.005, 'atr_multiplier_tp': 3.5, 'atr_multiplier_sl': 0.4, 'max_position_size': 0.15000000000000002, 'breakeven_atr_multiplier': 0.4, 'profit_lock_atr_multiplier': 0.5, 'trailing_stop_multiplier': 0.05, 'risk_per_trade_percent': 0.005, 'volatility_size_factor': 0.015, 'look_back': 72, 'max_hold_periods': 96, 'dynamic_position_sizing_method': 'volatility_based', 'min_atr_threshold': 0.1, 'min_risk_reward': 0.30000000000000004, 'tuner/epochs': 1, 'tuner/initial_epoch': 0, 'tuner/bracket': 0, 'tuner/round': 0}\n",
            "Sharpe Ratio from Optimization: 3.39\n",
            "\n",
            "--- Validating on unseen data from 2025-08-28 12:00:00+00:00 to 2025-09-03 11:00:00+00:00 ---\n"
          ]
        },
        {
          "output_type": "stream",
          "name": "stderr",
          "text": []
        },
        {
          "output_type": "stream",
          "name": "stdout",
          "text": [
            "--- Validation Metrics ---\n",
            "Total Return: -0.50%\n",
            "Sharpe Ratio: 2.51\n",
            "Max Drawdown: 23.51%\n",
            "Total Trades: 6\n",
            "\n",
            "\n",
            "--- Optimizing on data from 2024-04-16 12:00:00+00:00 to 2025-09-03 11:00:00+00:00 ---\n",
            "In-sample data from 2024-04-16 12:00:00+00:00 to 2025-09-03 11:00:00+00:00\n",
            "Out-of-sample data from 2025-09-03 12:00:00+00:00 to 2025-09-09 11:00:00+00:00\n",
            "\n",
            "\n",
            "Total candles in-sample: 8784\n",
            "Total candles out-of-sample: 144\n",
            "Total candles total: 20409\n",
            "Start Index: 20088\n",
            "End Index: 20232\n",
            "Step Size: 144\n",
            "Total Steps: 81\n",
            "\n",
            "\n",
            "Directory: /content/gdrive/MyDrive/TradingBotLogs/tuning_results_WFO_MVP_BTC_USD\n",
            "Project Name: backtest_tuning_BTC_USD_20088\n",
            "\n",
            "\n"
          ]
        },
        {
          "output_type": "stream",
          "name": "stderr",
          "text": []
        },
        {
          "output_type": "stream",
          "name": "stdout",
          "text": [
            "\n",
            "Optimal Parameters for this window: {'confidence_threshold': 0.01, 'atr_multiplier_tp': 3.0, 'atr_multiplier_sl': 0.6000000000000001, 'max_position_size': 0.15000000000000002, 'breakeven_atr_multiplier': 0.3, 'profit_lock_atr_multiplier': 0.4, 'trailing_stop_multiplier': 0.05, 'risk_per_trade_percent': 0.006, 'volatility_size_factor': 0.01, 'look_back': 72, 'max_hold_periods': 72, 'dynamic_position_sizing_method': 'volatility_based', 'min_atr_threshold': 0.1, 'min_risk_reward': 0.2, 'tuner/epochs': 1, 'tuner/initial_epoch': 0, 'tuner/bracket': 0, 'tuner/round': 0}\n",
            "Sharpe Ratio from Optimization: 3.34\n",
            "\n",
            "--- Validating on unseen data from 2025-09-03 12:00:00+00:00 to 2025-09-09 11:00:00+00:00 ---\n"
          ]
        },
        {
          "output_type": "stream",
          "name": "stderr",
          "text": []
        },
        {
          "output_type": "stream",
          "name": "stdout",
          "text": [
            "--- Validation Metrics ---\n",
            "Total Return: -0.39%\n",
            "Sharpe Ratio: 2.55\n",
            "Max Drawdown: 23.16%\n",
            "Total Trades: 9\n",
            "\n",
            "\n",
            "--- Optimizing on data from 2024-04-22 12:00:00+00:00 to 2025-09-09 11:00:00+00:00 ---\n",
            "In-sample data from 2024-04-22 12:00:00+00:00 to 2025-09-09 11:00:00+00:00\n",
            "Out-of-sample data from 2025-09-09 12:00:00+00:00 to 2025-09-15 11:00:00+00:00\n",
            "\n",
            "\n",
            "Total candles in-sample: 8784\n",
            "Total candles out-of-sample: 144\n",
            "Total candles total: 20409\n",
            "Start Index: 20232\n",
            "End Index: 20376\n",
            "Step Size: 144\n",
            "Total Steps: 81\n",
            "\n",
            "\n",
            "Directory: /content/gdrive/MyDrive/TradingBotLogs/tuning_results_WFO_MVP_BTC_USD\n",
            "Project Name: backtest_tuning_BTC_USD_20232\n",
            "\n",
            "\n"
          ]
        },
        {
          "output_type": "stream",
          "name": "stderr",
          "text": []
        },
        {
          "output_type": "stream",
          "name": "stdout",
          "text": [
            "\n",
            "Optimal Parameters for this window: {'confidence_threshold': 0.01, 'atr_multiplier_tp': 3.0, 'atr_multiplier_sl': 0.4, 'max_position_size': 0.2, 'breakeven_atr_multiplier': 0.5, 'profit_lock_atr_multiplier': 0.4, 'trailing_stop_multiplier': 0.060000000000000005, 'risk_per_trade_percent': 0.005, 'volatility_size_factor': 0.015, 'look_back': 72, 'max_hold_periods': 96, 'dynamic_position_sizing_method': 'risk_based', 'min_atr_threshold': 0.05, 'min_risk_reward': 0.30000000000000004, 'tuner/epochs': 1, 'tuner/initial_epoch': 0, 'tuner/bracket': 0, 'tuner/round': 0}\n",
            "Sharpe Ratio from Optimization: 4.48\n",
            "\n",
            "--- Validating on unseen data from 2025-09-09 12:00:00+00:00 to 2025-09-15 11:00:00+00:00 ---\n"
          ]
        },
        {
          "output_type": "stream",
          "name": "stderr",
          "text": [
            "                                                            "
          ]
        },
        {
          "output_type": "stream",
          "name": "stdout",
          "text": [
            "--- Validation Metrics ---\n",
            "Total Return: -2.46%\n",
            "Sharpe Ratio: 2.69\n",
            "Max Drawdown: 28.61%\n",
            "Total Trades: 30\n",
            "\n",
            "\n",
            "--- Walk-Forward Final Results Summary ---\n",
            "Average Out-of-Sample Sharpe Ratio: 3.85\n",
            "Total Compounded Return: 553.26%\n",
            "Worst Out-of-Sample Max Drawdown: 29.92%\n",
            "Total Trades: 559\n"
          ]
        },
        {
          "output_type": "stream",
          "name": "stderr",
          "text": [
            "\r"
          ]
        }
      ]
    }
  ]
}