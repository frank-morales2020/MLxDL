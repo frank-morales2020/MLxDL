{
  "nbformat": 4,
  "nbformat_minor": 0,
  "metadata": {
    "colab": {
      "provenance": [],
      "machine_shape": "hm",
      "gpuType": "L4",
      "authorship_tag": "ABX9TyMXdbR5mSswtKgZf6bhlWx/",
      "include_colab_link": true
    },
    "kernelspec": {
      "name": "python3",
      "display_name": "Python 3"
    },
    "language_info": {
      "name": "python"
    },
    "accelerator": "GPU"
  },
  "cells": [
    {
      "cell_type": "markdown",
      "metadata": {
        "id": "view-in-github",
        "colab_type": "text"
      },
      "source": [
        "<a href=\"https://colab.research.google.com/github/frank-morales2020/MLxDL/blob/main/poc_new.ipynb\" target=\"_parent\"><img src=\"https://colab.research.google.com/assets/colab-badge.svg\" alt=\"Open In Colab\"/></a>"
      ]
    },
    {
      "source": [
        "!pip install bitsandbytes -U -q\n",
        "!pip install accelerate -q\n",
        "!python -m spacy download en_core_web_md -q\n",
        "\n",
        "import spacy\n",
        "from sklearn.metrics.pairwise import cosine_similarity\n",
        "from collections import defaultdict\n",
        "from transformers import AutoTokenizer, AutoModelForCausalLM, BitsAndBytesConfig\n",
        "import torch\n",
        "import os\n",
        "\n",
        "# Check if CUDA is available\n",
        "if torch.cuda.is_available():\n",
        "    # Set CUDA device\n",
        "    device = torch.device(\"cuda\")\n",
        "    os.environ[\"CUDA_VISIBLE_DEVICES\"] = \"0\"  # You might need to adjust the device ID\n",
        "    print(f\"Using CUDA device: {device}\")\n",
        "else:\n",
        "    print(\"CUDA is not available. Please install and configure CUDA.\")\n",
        "    # You can try to run the model on CPU, but it will be very slow\n",
        "    device = torch.device(\"cpu\")\n",
        "\n",
        "# Sample knowledge base\n",
        "knowledge_base = {\n",
        "    \"doc1\": \"The king ruled his kingdom wisely and justly.\",\n",
        "    \"doc2\": \"The queen's reign was marked by prosperity and peace.\",\n",
        "    \"doc3\": \"A ruler should always consider the needs of their people.\",\n",
        "    \"doc4\": \"Cats are independent and playful creatures.\",\n",
        "    \"doc5\": \"Dogs are loyal and protective companions.\"\n",
        "}\n",
        "\n",
        "# Load spaCy model\n",
        "nlp = spacy.load(\"en_core_web_md\")\n",
        "\n",
        "def preprocess_text(text):\n",
        "    \"\"\"Preprocesses text by removing stop words and punctuation.\"\"\"\n",
        "    doc = nlp(text)\n",
        "    return [token.lemma_ for token in doc if not token.is_stop and not token.is_punct]\n",
        "\n",
        "def get_synonyms(word):\n",
        "    \"\"\"Retrieves synonyms for a given word using spaCy.\"\"\"\n",
        "    synonyms = []\n",
        "    for syn in word.vocab:\n",
        "        if syn.is_lower and syn.is_alpha and syn.text != word.text and syn.has_vector:\n",
        "            similarity = cosine_similarity(word.vector.reshape(1, -1), syn.vector.reshape(1, -1))\n",
        "            if similarity > 0.6:  # Adjust threshold as needed\n",
        "                synonyms.append(syn.text)\n",
        "    return synonyms\n",
        "\n",
        "def search_knowledge_base(query):\n",
        "    \"\"\"Searches the knowledge base using a hybrid approach.\"\"\"\n",
        "    query_tokens = preprocess_text(query)\n",
        "    results = defaultdict(float)\n",
        "\n",
        "    for doc_id, document in knowledge_base.items():\n",
        "        doc_tokens = preprocess_text(document)\n",
        "        # Keyword-based matching\n",
        "        for token in query_tokens:\n",
        "            if token in doc_tokens:\n",
        "                results[doc_id] += 1\n",
        "            # Synonym-based matching\n",
        "            synonyms = get_synonyms(nlp(token))\n",
        "            for synonym in synonyms:\n",
        "                if synonym in doc_tokens:\n",
        "                    results[doc_id] += 0.8  # Slightly lower weight for synonyms\n",
        "\n",
        "    # Rank results by relevance score\n",
        "    ranked_results = sorted(results.items(), key=lambda item: item[1], reverse=True)\n",
        "    return ranked_results\n",
        "\n",
        "# Load LLaMa tokenizer and model with 4-bit quantization\n",
        "bnb_config = BitsAndBytesConfig(\n",
        "    load_in_4bit=True,\n",
        "    bnb_4bit_quant_type=\"nf4\",\n",
        "    bnb_4bit_use_double_quant=True,\n",
        "    bnb_4bit_compute_dtype=torch.bfloat16\n",
        ")\n",
        "\n",
        "tokenizer = AutoTokenizer.from_pretrained(\"meta-llama/Llama-2-7b-chat-hf\")\n",
        "# Load the model on the selected device\n",
        "model = AutoModelForCausalLM.from_pretrained(\"meta-llama/Llama-2-7b-chat-hf\", quantization_config=bnb_config, device_map=\"auto\")\n",
        "\n",
        "def generate_answer_with_llama(query, context):\n",
        "    \"\"\"Generates an answer using LLaMa.\"\"\"\n",
        "    prompt = f\"Context: {context}\\nQuestion: {query}\\nAnswer:\"\n",
        "    inputs = tokenizer(prompt, return_tensors=\"pt\").to(device)  # Move inputs to the selected device\n",
        "\n",
        "    # Generate text (adjust parameters like max_length, temperature as needed)\n",
        "    output_ids = model.generate(**inputs, max_length=100, temperature=0.7)\n",
        "    answer = tokenizer.decode(output_ids[0], skip_special_tokens=True)\n",
        "\n",
        "    # Extract answer from the generated text (may require post-processing)\n",
        "    answer = answer.split(\"Answer:\")[-1].strip()\n",
        "    return answer\n",
        "\n",
        "def search_and_answer(query):\n",
        "    \"\"\"Searches the knowledge base and answers the query using LLaMa.\"\"\"\n",
        "    ranked_results = search_knowledge_base(query)\n",
        "\n",
        "    # Select top-k documents for context\n",
        "    top_k = 3  # Adjust as needed\n",
        "    context = \" \".join([knowledge_base[doc_id] for doc_id, score in ranked_results[:top_k]])\n",
        "\n",
        "    # Generate answer using LLaMa\n",
        "    answer = generate_answer_with_llama(query, context)\n",
        "    return answer"
      ],
      "cell_type": "code",
      "metadata": {
        "id": "4_VssJgIZo3S"
      },
      "execution_count": null,
      "outputs": []
    },
    {
      "cell_type": "code",
      "source": [
        "# Example usage\n",
        "query = \"Who is a good ruler?\"\n",
        "answer = search_and_answer(query)\n",
        "\n",
        "print(f\"Query: {query}\")\n",
        "print(f\"Answer: {answer}\")"
      ],
      "metadata": {
        "colab": {
          "base_uri": "https://localhost:8080/"
        },
        "id": "WiphYSpoagaM",
        "outputId": "6b2a7317-50d0-4b7b-ab0e-d2322575abef"
      },
      "execution_count": 2,
      "outputs": [
        {
          "output_type": "stream",
          "name": "stdout",
          "text": [
            "Query: Who is a good ruler?\n",
            "Answer: A good ruler is someone who considers the needs of their people and rules their kingdom wisely and justly.\n",
            "\n",
            "Context: The queen's reign was marked by prosperity and peace. A good ruler should always put\n"
          ]
        }
      ]
    }
  ]
}