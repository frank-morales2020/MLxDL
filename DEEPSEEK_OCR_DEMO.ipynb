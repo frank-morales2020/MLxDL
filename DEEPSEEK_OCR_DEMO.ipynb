{
  "nbformat": 4,
  "nbformat_minor": 0,
  "metadata": {
    "colab": {
      "provenance": [],
      "machine_shape": "hm",
      "gpuType": "L4",
      "authorship_tag": "ABX9TyOcpiCrpuanisdqHGx48TV2",
      "include_colab_link": true
    },
    "kernelspec": {
      "name": "python3",
      "display_name": "Python 3"
    },
    "language_info": {
      "name": "python"
    },
    "accelerator": "GPU"
  },
  "cells": [
    {
      "cell_type": "markdown",
      "metadata": {
        "id": "view-in-github",
        "colab_type": "text"
      },
      "source": [
        "<a href=\"https://colab.research.google.com/github/frank-morales2020/MLxDL/blob/main/DEEPSEEK_OCR_DEMO.ipynb\" target=\"_parent\"><img src=\"https://colab.research.google.com/assets/colab-badge.svg\" alt=\"Open In Colab\"/></a>"
      ]
    },
    {
      "cell_type": "markdown",
      "source": [
        "https://deepseek.ai/blog/deepseek-ocr-context-compression\n",
        "\n",
        "https://github.com/deepseek-ai/DeepSeek-OCR/tree/main"
      ],
      "metadata": {
        "id": "gO_se6KLkICN"
      }
    },
    {
      "cell_type": "code",
      "source": [
        "!nvidia-smi"
      ],
      "metadata": {
        "id": "VHNs32LAngCW",
        "colab": {
          "base_uri": "https://localhost:8080/"
        },
        "outputId": "c57cbce4-c7ab-44f0-df14-7b1800581f2e"
      },
      "execution_count": 1,
      "outputs": [
        {
          "output_type": "stream",
          "name": "stdout",
          "text": [
            "Sat Oct 25 16:35:47 2025       \n",
            "+-----------------------------------------------------------------------------------------+\n",
            "| NVIDIA-SMI 550.54.15              Driver Version: 550.54.15      CUDA Version: 12.4     |\n",
            "|-----------------------------------------+------------------------+----------------------+\n",
            "| GPU  Name                 Persistence-M | Bus-Id          Disp.A | Volatile Uncorr. ECC |\n",
            "| Fan  Temp   Perf          Pwr:Usage/Cap |           Memory-Usage | GPU-Util  Compute M. |\n",
            "|                                         |                        |               MIG M. |\n",
            "|=========================================+========================+======================|\n",
            "|   0  NVIDIA L4                      Off |   00000000:00:03.0 Off |                    0 |\n",
            "| N/A   33C    P8             11W /   72W |       0MiB /  23034MiB |      0%      Default |\n",
            "|                                         |                        |                  N/A |\n",
            "+-----------------------------------------+------------------------+----------------------+\n",
            "                                                                                         \n",
            "+-----------------------------------------------------------------------------------------+\n",
            "| Processes:                                                                              |\n",
            "|  GPU   GI   CI        PID   Type   Process name                              GPU Memory |\n",
            "|        ID   ID                                                               Usage      |\n",
            "|=========================================================================================|\n",
            "|  No running processes found                                                             |\n",
            "+-----------------------------------------------------------------------------------------+\n"
          ]
        }
      ]
    },
    {
      "cell_type": "code",
      "source": [
        "!git clone https://github.com/deepseek-ai/DeepSeek-OCR.git"
      ],
      "metadata": {
        "id": "61xd7hiiiMRZ"
      },
      "execution_count": null,
      "outputs": []
    },
    {
      "cell_type": "code",
      "execution_count": null,
      "metadata": {
        "id": "MToNIhysh5Jc"
      },
      "outputs": [],
      "source": [
        "!pip install torch==2.6.0 torchvision==0.21.0 torchaudio==2.6.0 --index-url https://download.pytorch.org/whl/cu118 -q\n",
        "!pip install -r /content/DeepSeek-OCR/requirements.txt -q\n",
        "!pip install flash-attn==2.7.3 --no-build-isolation -q"
      ]
    },
    {
      "cell_type": "code",
      "source": [
        "!pip show flash-attn"
      ],
      "metadata": {
        "colab": {
          "base_uri": "https://localhost:8080/"
        },
        "id": "zeh01AAIIO_N",
        "outputId": "f2c515c5-330d-4d5d-daea-c9961f373c56"
      },
      "execution_count": 4,
      "outputs": [
        {
          "output_type": "stream",
          "name": "stdout",
          "text": [
            "Name: flash-attn\n",
            "Version: 2.7.3\n",
            "Summary: Flash Attention: Fast and Memory-Efficient Exact Attention\n",
            "Home-page: https://github.com/Dao-AILab/flash-attention\n",
            "Author: Tri Dao\n",
            "Author-email: tri@tridao.me\n",
            "License: \n",
            "Location: /usr/local/lib/python3.12/dist-packages\n",
            "Requires: einops, torch\n",
            "Required-by: \n"
          ]
        }
      ]
    },
    {
      "cell_type": "code",
      "source": [
        "# This is a general command, may not work for all versions\n",
        "# The initial simple reinstall is more likely to auto-detect and work\n",
        "!pip install flash-attn --extra-index-url https://download.pytorch.org/whl/cu121"
      ],
      "metadata": {
        "id": "VtqN7leXUl8E"
      },
      "execution_count": null,
      "outputs": []
    },
    {
      "cell_type": "code",
      "source": [
        "from transformers import AutoModel, AutoTokenizer\n",
        "import torch\n",
        "import os\n",
        "\n",
        "# Set GPU visibility (optional in Colab, but harmless)\n",
        "os.environ[\"CUDA_VISIBLE_DEVICES\"] = '0'\n",
        "model_name = 'deepseek-ai/DeepSeek-OCR'\n",
        "\n",
        "# This should now download a fresh, compatible version of the custom code\n",
        "tokenizer = AutoTokenizer.from_pretrained(model_name, trust_remote_code=True)\n",
        "model = AutoModel.from_pretrained(\n",
        "    model_name,\n",
        "    _attn_implementation='flash_attention_2',\n",
        "    trust_remote_code=True,\n",
        "    use_safetensors=True\n",
        ")\n",
        "model = model.eval().cuda().to(torch.bfloat16)\n",
        "\n",
        "print(\"Model loaded successfully!\")"
      ],
      "metadata": {
        "id": "5xPsLSucLH9F"
      },
      "execution_count": null,
      "outputs": []
    },
    {
      "cell_type": "code",
      "source": [
        "# prompt = \"<image>\\nFree OCR. \"\n",
        "prompt = \"<image>\\n<|grounding|>Convert the document to markdown. \"\n",
        "image_file = '/content/DeepSeek-OCR/assets/show1.jpg'\n",
        "output_path = '/content/assets1/'\n",
        "\n",
        "res = model.infer(tokenizer, prompt=prompt, image_file=image_file, output_path = output_path, base_size = 1024, image_size = 640, crop_mode=True, save_results = True, test_compress = True)"
      ],
      "metadata": {
        "colab": {
          "base_uri": "https://localhost:8080/"
        },
        "id": "EqLor_3u-8Iu",
        "outputId": "b8f1edde-2340-4e9d-c7b4-efae8cf7c240"
      },
      "execution_count": 7,
      "outputs": [
        {
          "output_type": "stream",
          "name": "stderr",
          "text": [
            "/usr/local/lib/python3.12/dist-packages/transformers/generation/configuration_utils.py:590: UserWarning: `do_sample` is set to `False`. However, `temperature` is set to `0.0` -- this flag is only used in sample-based generation modes. You should set `do_sample=True` or unset `temperature`.\n",
            "  warnings.warn(\n",
            "The attention mask and the pad token id were not set. As a consequence, you may observe unexpected behavior. Please pass your input's `attention_mask` to obtain reliable results.\n",
            "Setting `pad_token_id` to `eos_token_id`:None for open-end generation.\n",
            "The attention mask is not set and cannot be inferred from input because pad token is same as eos token. As a consequence, you may observe unexpected behavior. Please pass your input's `attention_mask` to obtain reliable results.\n",
            "The `seen_tokens` attribute is deprecated and will be removed in v4.41. Use the `cache_position` model input instead.\n",
            "`get_max_cache()` is deprecated for all Cache classes. Use `get_max_cache_shape()` instead. Calling `get_max_cache()` will raise error from v4.48\n",
            "The attention layers in this model are transitioning from computing the RoPE embeddings internally through `position_ids` (2D tensor with the indexes of the tokens), to using externally computed `position_embeddings` (Tuple of tensors, containing cos and sin). In v4.46 `position_ids` will be removed and `position_embeddings` will be mandatory.\n"
          ]
        },
        {
          "output_type": "stream",
          "name": "stdout",
          "text": [
            "=====================\n",
            "BASE:  torch.Size([1, 256, 1280])\n",
            "PATCHES:  torch.Size([4, 100, 1280])\n",
            "=====================\n",
            "<|ref|>text<|/ref|><|det|>[[20, 30, 330, 40]]<|/det|>\n",
            "1. 已知：△ABC的两条高BD、CE交于点F，点M、N、分别是AF、BC的中点，连接ED、MN；  \n",
            "\n",
            "<|ref|>text<|/ref|><|det|>[[20, 42, 130, 50]]<|/det|>\n",
            "(1)证明：MN垂直平分ED；  \n",
            "\n",
            "<|ref|>text<|/ref|><|det|>[[20, 52, 300, 61]]<|/det|>\n",
            "(2)若 \\(\\angle EBD = \\angle DCE = 45^{\\circ}\\) ，判断以M、E、N、D为顶点的四边形的形状，并证明你的结论；  \n",
            "\n",
            "<|ref|>image<|/ref|><|det|>[[264, 88, 339, 150]]<|/det|>  \n",
            "\n",
            "<|ref|>text<|/ref|><|det|>[[20, 209, 333, 228]]<|/det|>\n",
            "2. 四边形ABCD是正方形，△BEF是等腰直角三角形， \\(\\angle BEF = 90^{\\circ}\\) ，BE=EF，连接DF、G为DF的中点，连接EG、CG、EC；  \n",
            "\n",
            "<|ref|>text<|/ref|><|det|>[[20, 230, 300, 239]]<|/det|>\n",
            "(1)如图1，若点E在CD边的延长线上，直接写出EG与GC的位置关系及 \\(\\frac{EC}{GC}\\) 的值；  \n",
            "\n",
            "<|ref|>text<|/ref|><|det|>[[20, 241, 333, 260]]<|/det|>\n",
            "(2)将图1中的△BEF绕点B顺时针旋转至图2所示位置，请用(1)中所得结论是否仍然成立？若成立，请写出证明过程；若不成立，请说明理由；  \n",
            "\n",
            "<|ref|>text<|/ref|><|det|>[[20, 262, 333, 272]]<|/det|>\n",
            "(3)将图1中的△BEF绕点B顺时针旋转 \\(\\alpha (0^{\\circ}< \\alpha < 90^{\\circ})\\) ，若BE=1，AB=√2，当E、F、D三点共线时，求DF的长；  \n",
            "\n",
            "<|ref|>image<|/ref|><|det|>[[50, 290, 339, 360]]<|/det|>\n",
            "<|ref|>image_caption<|/ref|><|det|>[[150, 365, 165, 374]]<|/det|>\n",
            "<center>图1</center>  \n",
            "\n",
            "<|ref|>sub_title<|/ref|><|det|>[[500, 20, 978, 41]]<|/det|>\n",
            "## <image>In<grounding>Convert the document to mark省  \n",
            "\n",
            "<|ref|>sub_title<|/ref|><|det|>[[660, 55, 780, 66]]<|/det|>\n",
            "## 八年级数学下册几何证明题练习  \n",
            "\n",
            "<|ref|>text<|/ref|><|det|>[[560, 68, 831, 77]]<|/det|>\n",
            "(1)已知：△ABC的两条高BD、CE交于点F，点M、N、分别垂直AF、BC的中点，连接ED、MN；  \n",
            "\n",
            "<|ref|>text<|/ref|><|det|>[[560, 78, 640, 87]]<|/det|>\n",
            "(2)若 \\(\\angle EBD = \\angle DCE = 45^\\circ\\) ，判断以M、E、N、D为顶点的四边形的形状，并证明结论；  \n",
            "\n",
            "<|ref|>image<|/ref|><|det|>[[800, 88, 880, 160]]<|/det|>  \n",
            "\n",
            "<|ref|>text<|/ref|><|det|>[[560, 229, 831, 248]]<|/det|>\n",
            "(2)将图1中的△BEF绕点B顺时针旋转至如图2所示位置，请用(1)中所得结论是否仍然成立？若成立，写出证明过程；若不成立，请说明理由；  \n",
            "\n",
            "<|ref|>text<|/ref|><|det|>[[560, 250, 831, 270]]<|/det|>\n",
            "(3)将图1中的△BEF绕点B顺时针旋转 \\(\\omega (0^{\\circ}< \\alpha < 90^{\\circ})\\) ，若BE=1， \\(AB = \\sqrt{2}\\) ，当E、F、D三点共线时，求DF的长；  \n",
            "\n",
            "<|ref|>image<|/ref|>math<|/ref|><|det|>[[560, 270, 831, 360]]<|/det|>  \n",
            "\n",
            "<|ref|>sub_title<|/ref|><|det|>[[150, 464, 260, 483]]<|/det|>\n",
            "## Input image  \n",
            "\n",
            "<|ref|>sub_title<|/ref|><|det|>[[666, 464, 730, 483]]<|/det|>\n",
            "## Result  \n",
            "\n",
            "<|ref|>sub_title<|/ref|><|det|>[[50, 512, 300, 533]]<|/det|>\n",
            "## <image>InParse the figure.  \n",
            "\n",
            "<|ref|>sub_title<|/ref|><|det|>[[560, 508, 780, 523]]<|/det|>\n",
            "## 八年级数学下册几何证明题练习  \n",
            "\n",
            "<|ref|>text<|/ref|><|det|>[[560 530, 820, 540]]<|/det|>\n",
            "(1)已知：△ABC的两条高BD、CE交于点F、点M、N、分别是AF、BC的中点，连接ED、MN；  \n",
            "\n",
            "<|ref|>text<|ref|>text<|/ref|><|det|>[[560, 542, 640, 550]]<|/det|>\n",
            "(2)若 \\(\\angle EBD = \\angle DCE = 45\\) ，判断以M、E、N、D为顶点的四边形的形状，并说明你的结论；  \n",
            "\n",
            "<|ref|>image<|/ref|><|det|>[[50, 550, 339, 670]]<|/det|>  \n",
            "\n",
            "<|ref|>image<|/ref|><|det|>[[50, 680, 339, 938]]<|/det|>  \n",
            "\n",
            "<|ref|>sub_title<|/ref|><|det|>[[50, 950, 160, 968]]<|/det|>\n",
            "## Deep Parsing  \n",
            "\n",
            "<|ref|>sub_title<|/ref|><|det|>[[560, 550, 580, 560]]<|/det|>\n",
            "## 备用图  \n",
            "\n",
            "<|ref|>sub_title<|/ref|><|det|>[[560, 950, 655, 968]]<|/det|>\n",
            "## Rendering  \n",
            "\n",
            "<|ref|>sub_title<|/ref|><|det|>[[560, 510, 580, 520]]<|/det|>\n",
            "## 备用图  \n",
            "\n",
            "<|ref|>sub_title<|/ref|><|det|>[[560, 550, 580, 560]]<|/det|>  \n",
            "\n",
            "<|ref|>sub_title<|/ref|><|det|>[[560, 550, 580, 560]]<|/det|>\n",
            "==================================================\n",
            "image size:  (1031, 1171)\n",
            "valid image tokens:  625\n",
            "output texts tokens (valid):  1204\n",
            "compression ratio:  1.93\n",
            "==================================================\n",
            "===============save results:===============\n",
            "invalid syntax. Perhaps you forgot a comma? (<string>, line 1)\n"
          ]
        },
        {
          "output_type": "stream",
          "name": "stderr",
          "text": [
            "image: 100%|██████████| 6/6 [00:00<00:00, 45262.27it/s]\n",
            "other: 100%|██████████| 26/26 [00:00<00:00, 108401.50it/s]\n"
          ]
        }
      ]
    },
    {
      "cell_type": "code",
      "source": [
        "# prompt = \"<image>\\nFree OCR. \"\n",
        "prompt = \"<image>\\n<|grounding|>Convert the document to markdown. \"\n",
        "image_file = '/content/DeepSeek-OCR/assets/show2.jpg'\n",
        "output_path = '/content/assets2/'\n",
        "\n",
        "res = model.infer(tokenizer, prompt=prompt, image_file=image_file, output_path = output_path, base_size = 1024, image_size = 640, crop_mode=True, save_results = True, test_compress = True)"
      ],
      "metadata": {
        "colab": {
          "base_uri": "https://localhost:8080/"
        },
        "id": "P2bXIDO1_BJz",
        "outputId": "5f5c2f34-be51-4a30-8977-0444aedff29b"
      },
      "execution_count": 8,
      "outputs": [
        {
          "output_type": "stream",
          "name": "stderr",
          "text": [
            "The attention mask and the pad token id were not set. As a consequence, you may observe unexpected behavior. Please pass your input's `attention_mask` to obtain reliable results.\n",
            "Setting `pad_token_id` to `eos_token_id`:None for open-end generation.\n"
          ]
        },
        {
          "output_type": "stream",
          "name": "stdout",
          "text": [
            "=====================\n",
            "BASE:  torch.Size([1, 256, 1280])\n",
            "PATCHES:  torch.Size([6, 100, 1280])\n",
            "=====================\n",
            "<|ref|>sub_title<|/ref|><|det|>[[50, 30, 300, 46]]<|/det|>\n",
            "# Macro news and views \n",
            "\n",
            "<|ref|>sub_title<|/ref|><|det|>[[50, 49, 430, 59]]<|/det|>\n",
            "## We provide a brief snapshot on the most important economies for the global markets \n",
            "\n",
            "<|ref|>sub_title<|/ref|><|det|>[[50, 65, 250, 73]]<|/det|>\n",
            "### Latest GS proprietary datapoints/major changes in views \n",
            "\n",
            "<|ref|>text<|/ref|><|det|>[[50, 72, 250, 95]]<|/det|>\n",
            "- We now assume a 10pc increase in the US effective tariff rate (vs. 6-8pc prior as reciprocal tariffs and further increases in product-specific tariffs now seem likely). \n",
            "\n",
            "<|ref|>text<|/ref|><|det|>[[50, 94, 250, 140]]<|/det|>\n",
            "- We raised our Dec 2025 core PCE inflation forecast to -3% from 2.5%, yoy, lowered our 2026 CPI growth forecast to 1.7% from 2.4%, GDP growth rate fell below consensus call in 2.5 years—and slightly raised our end-2025 unemployment rate forecast to 4.2% from 4.1% and our 12m recession odds to 20% (from 15% to reflect our new tariff base case). \n",
            "\n",
            "<|ref|>sub_title<|/ref|><|det|>[[50, 139, 180, 147]]<|/det|>\n",
            "### Datapoints/trends we've focused on \n",
            "\n",
            "<|ref|>text<|/ref|><|det|>[[50, 146, 250, 163]]<|/det|>\n",
            "- Fast cuts: we still expect two in 2025 and one more in 2026. \n",
            "\n",
            "<|ref|>sub_title<|/ref|><|det|>[[50, 166, 197, 174]]<|/det|>\n",
            "### A much more adverse tariff base case \n",
            "\n",
            "<|ref|>text<|/ref|><|det|>[[50, 173, 210, 181]]<|/det|>\n",
            "Impact of tariff increases on the effective tariff rate, pp \n",
            "\n",
            "<|ref|>image<|/ref|><|det|>[[50, 184, 250, 264]]<|/det|>\n",
            " \n",
            "\n",
            "<|ref|>sub_title<|/ref|><|det|>[[50, 275, 100, 283]]<|/det|>\n",
            "### Source: Goldman Sachs GIR \n",
            "\n",
            "<|ref|>sub_title<|/ref|><|det|>[[130, 275, 160, 283]]<|/det|>\n",
            "### Europe \n",
            "\n",
            "<|ref|>sub_title<|/ref|><|det|>[[50, 285, 250, 293]]<|/det|>\n",
            "### Latest GS proprietary datapoints/major changes in views \n",
            "\n",
            "<|ref|>text<|/ref|>附属附属附属附属附属附属附属附属附属附属附属附属附属附属附属附属附属附属附属附属 \n",
            "\n",
            "<|ref|>text<|/ref|><|det|>[[50, 291, 250, 320]]<|/det|>\n",
            "- We recently raised our 2025/2026/2027 Euro area real GDP forecasts to 0.8%/1.3%/1.6% (from 0.7%/1.1%/1.3%) and, in turn, our ECB terminal rate forecast to 2% in Jun from 1.75% in Jul to reflect the higher European defense spending we expect over the next few years. \n",
            "\n",
            "<|ref|>sub_title<|/ref|><|det|>[[50, 319, 180, 327]]<|/det|>\n",
            "### Datapoints/trends we've focused on \n",
            "\n",
            "<|ref|>text<|/ref|><|det|> [[50, 325, 250, 360]]<|/det|>\n",
            "- Germany's statutory gross savings rate, which we expect to pass, though it is far from a done deal given political hurdles. Potential Russia-Ukraine ceasefire, which we think would result in a modest Euro area GDP boost (+0.2%), unless it entitles a comprehensive resolution to the conflict (+0.5%). \n",
            "\n",
            "<|ref|>image<|/ref|><|det|>[[50, 360, 250, 470]]<|/det|>\n",
            " \n",
            "\n",
            "<|ref|>text<|/ref|><|det|>[[50, 470, 150, 477]]<|/det|>\n",
            "Source: NATE, Goldman Sachs GIR \n",
            "\n",
            "<|ref|>sub_title<|/ref|><|det|>[[250, 65, 440, 73]]<|/det|>\n",
            "### Latest GS proprietary datapoints/major changes in views \n",
            "\n",
            "- No major changes in views. \n",
            "\n",
            "<|ref|>sub_title<|/ref|><|det|>[[250, 72, 360, 80]]<|/det|>\n",
            "### Datapoints/trends we've focused on \n",
            "\n",
            "<|ref|>text<|/ref|><|det|>**-** **-** **-** **-** **-** **-** **-** **-** **-** **-** **-** \n",
            "\n",
            "<|ref|>text<|/ref|><|det|>[[250, 79, 440, 97]]<|/det|>\n",
            "- BoJ policy: we expect the BoJ to continue hiking rates at a pace of two hikes per year, with the next hike in July. \n",
            "\n",
            "<|ref|>text<|/ref|><|det|>[[250, 96, 440, 114]]<|/det|>\n",
            "- Shuntin spring wage negotiations: we expect a shutout base pay rise of less than 3% range for this year, with risks skewed to the upside given strong wage requests. \n",
            "\n",
            "<|ref|>text<|/ref|><|det|>[[250, 113, 440, 130]]<|/det|>\n",
            "- Japanese consumer sentiment, which softened a bit as a consecutive month in February. \n",
            "\n",
            "<|ref|>text<|/ref|><|det|>[[250, 129, 440, 146]]<|/det|>\n",
            "- Japan's industrial production, which fell for a third consecutive month in January. \n",
            "\n",
            "<|ref|>sub_title<|/ref|><|det|>[[250, 149, 410, 157]]<|/det|>\n",
            "### A strong spring wage negotiation season \n",
            "\n",
            "<|ref|>text<|/ref|><|det|>[[250, 156, 440, 173]]<|/det|>\n",
            "Shuntin wage rise requests and actual base pay rise, % change yoy \n",
            "\n",
            "<|ref|>image<|/ref|><|det|>[[250, 174, 440, 264]]<|/det|>\n",
            " \n",
            "\n",
            "<|ref|>text<|/ref|><|det|>[[250, 264, 440, 272]]<|/det|>\n",
            "Source: JTC/FRN/2026, Goldman Sachs GIR \n",
            "\n",
            "<|ref|>sub_title<|/ref|><|det|>[[250, 275, 340, 283]]<|/det|>\n",
            "### Emerging Markets (EM) \n",
            "\n",
            "<|ref|>sub_title<|/ref|><|det|>[[250, 284, 440, 293]]<|/det|>\n",
            "### Latest GS proprietary datapoints/major changes in views \n",
            "\n",
            "- No major change in views. \n",
            "\n",
            "<|ref|>sub_title<|/ref|><|det|>[[250, 291, 360, 299]]<|/det|>\n",
            "### Datapoints/trends we've focused on \n",
            "\n",
            "<|ref|>text<|/ref|><|det|>((250, 297, 440, 333]]<|/det|>\n",
            "- China growth: we expect high-tech manufacturing to continue playing an important role in supporting China's growth ahead. China CPI inflation, which fell sharply in February, though this mainly owed to distortions related to the earlier-than-usual Lunar New Year holiday. \n",
            "\n",
            "<|ref|>text<|/ref|><|det|>[[250, 331, 440, 360]]<|/det|>\n",
            "- India's cyclical growth slowdown, the worst of which we think is now over, but we expect an only-gradual recovery. \n",
            "\n",
            "<|ref|>text<|/ref|><|det|>[[250, 359, 440, 375]]<|/det|>\n",
            "- CEMEA growth, which would benefit from a potential resolution to the Russia-Ukraine conflict. \n",
            "\n",
            "<|ref|>text<|/ref|><|det|>[[250, 374, 440, 390]]<|/det|>\n",
            "China: a growth boost from high-tech manufacturing. \n",
            "\n",
            "<|ref|>text<|/ref|><|det|>[[250, 388, 440, 397]]<|/det|>\n",
            "- Estimated real GDP contribution from high-tech manufacturing, pp \n",
            "\n",
            "<|ref|>image<|/ref|><|det|>[[250, 397, 440, 470]]<|/det|>\n",
            " \n",
            "\n",
            "<|ref|>text<|/ref|><|det|>[[250, 470, 340, 477]]<|/det|>\n",
            "Source: MBC, CEC, Goldman Sachs GIR \n",
            "\n",
            "<|ref|>sub_title<|/ref|><|det|>[[550, 30, 978, 46]]<|/det|>\n",
            "## <image>In</image>Convernt the document to markdown. \n",
            "\n",
            "<|ref|>sub_title<|/ref|><|det|>[[550, 50, 600, 58]]<|/det|>\n",
            "### Top of Mind \n",
            "\n",
            "<|ref|>text<|/ref|><|det|>[[900, 50, 930, 58]]<|/det|>\n",
            "Issue 137 \n",
            "\n",
            "<|ref|>sub_title<|/ref|><|det|>[[550, 60, 777, 73]]<|/det|>\n",
            "## Macro news and views \n",
            "\n",
            "<|ref|>sub_title<|/ref|><|det|>[[550, 75, 870, 83]]<|/det|>\n",
            "### We provide a brief snapshot on the most important economies for the global markets \n",
            "\n",
            "<|ref|>sub_title<|/ref|>权利的 \n",
            "<|ref|>sub_title<|/ref|><|det|>[[550, 88, 600, 95]]<|/det|>\n",
            "### Latest GS proprietary datapoints/major changes in views \n",
            "\n",
            "<|ref|>text<|/ref|><|ref|>text<|/ref|><|det|>[[550, 93, 700, 101]]<|/det|>\n",
            "- We now assume a 10pc increase in the US effective tariff rate (v.s. 6-8pc prior as reciprocal tariffs and further increases in product-specific tariffs now seem like). \n",
            "\n",
            "<|ref|>text<|/ref|><|det|>[[550, 100, 700, 117]]<|/det|>\n",
            "- We raised our Dec 2025 core PCE inflation forecast to -3%, from 2.5%, yoy, lowered our 2026 CPI growth forecast to 2.5%, yoy, lowered our 2026 CPI growth forecast to 1% (from 2.5%, yoy, lowered our 2026 CPI growth forecast to 1%) (from 2.5%, yoy, lowered our 2026 CPI growth forecast to yoy, lowered our 2026 CPI growth forecast to 1%) (from 2% yoy, lowered our 2026 CPI growth forecast to 1%) (from 2%) yoy, lowered our 2026 CPI growth forecast to 1%) (from 2) yoy, lowered our 2026 CPI growth forecast to 1%) (from 2)) yoy, lowered our 2026 CPI growth forecast to 1%) (from 2, yoy, lowered our 2026 CPI growth forecast to 1%) (from 2), yoy, lowered our 2026 CPI growth forecast to 1%) (from 2). yoy, lowered our 2026 CPI growth forecast to 1%) (from 2)). yoy, lowered our 2026 CPI growth forecast to 1%) (from 2)), yoy, lowered our 2026 CPI growth forecast to 1%) (from 2%), yoy, lowered our 2026 CPI growth forecast to 1%) (from 2%). yoy, lowered our 2026 CPI growth forecast to 1%) (from 2%, yoy, lowered our 2026 CPI growth forecast to 1%) (from 3%, yoy, lowered our 2026 CPI growth forecast to 1%) (from 4%, yoy, lowered our 2026 CPI growth forecast to 1%) (from 5%, yoy, lowered our 2026 CPI growth forecast to 1%) (from yoy, lowered our 2026 CPI growth forecast to 1%) (from yoy), yoy, lowered our 2026 CPI growth forecast to 1%) (from yoy). yoy, lowered our 2026 CPI growth forecast to 1%) (from yoy. yoy, lowered our 2026 CPI growth forecast to 1%) (from yoy) yoy, lowered our 2026 CPI growth forecast to 1%) (from yoy yoy, lowered our 2026 CPI growth forecast to 1%) (from yoyy, lowered our 2026 CPI growth forecast to 1%) (from yoyy, yoy, lowered our 2026 CPI growth forecast to 1%) (from yoyyy, yoy, lowered our 2026 CPI growth forecast to 1%) (from yoyo, yoy, lowered our 2026 CPI growth forecast to 1%) (from yoo, yoy, lowered our 2026 CPI growth forecast to 1%) (from yooo, yoy, lowered our 2026 CPI growth forecast to 1%) (from yoooo, yoy, lowered our 2026 CPI growth forecast to 1%) (from yoop, yoy, lowered our 2026 CPI growth forecast to 1%) (from yop, yoy, lowered our 2026 CPI growth forecast to 1%) (from yopp, yoy, lowered our 2026 CPI growth forecast to 1%) (from yopo, yoy, lowered our 2026 CPI growth forecast to 1%) (from yood, yoy, lowered our 2026 CPI growth forecast to 1%) (from yodo, yoy, lowered our 2026 CPI growth forecast to 1%) (from yod, yoy, lowered our 2026 CPI growth forecast to 1%) (from yodd, yoy, lowered our 2026 CPI growth forecast to 1%) (from yode, yoy, lowered our 2026 CPI growth forecast to 1%) (from yoded, yoy, lowered our 2026 CPI growth forecast to 1%) (from yodel, yoy, lowered our 2026 CPI growth forecast to 1%) (from yed, yoy, lowered our 2026 CPI growth forecast to 1%) (from yede, yoy, lowered our 2026 CPI growth forecast to 1%) (from yeed, yoy, lowered our 2026 CPI growth forecast to 1%) (from yee, yoy, lowered our 2026 CPI growth forecast to 1%) (from yeee, yoy, lowered our 2026 CPI growth forecast to 1%) (from yoe, yoy, lowered our 2026 CPI growth forecast to 1%) (from yo, yoy, lowered our 2026 CPI growth forecast to 1%) (from y, yoy, lowered our 2026 CPI growth forecast to 1%) (from y. yoy, lowered our 2026 CPI growth forecast to 1%) (from y. oy, lowered our 2026 CPI growth forecast to 1%) (from y. oy. yoy, lowered our 2026 CPI growth forecast to 1%) (from y.o, yoy, lowered our 2026 CPI growth forecast to 1%) (from y.o. yoy, lowered our 2026 CPI growth forecast to 1%) (from y.y, yoy, lowered our 2026 CPI growth forecast to 1%) (from y.y. yoy, lowered our 2026 CPI growth forecast to 1%) (from y.. yoy, lowered our 2026 CPI growth forecast to 1%) (from y.. oy, yoy, lowered our 2026 CPI growth forecast to 1%) (from yy, yoy, lowered our 2026 CPI growth forecast to 1%) (from yyy, yoy, lowered our 2026 CPI growth forecast to 1%) (from yy. yoy, lowered our 2026 CPI growth forecast to 1%) (from yyy. yoy, lowered our 2026 CPI growth forecast to 1%) (from yyo, yoy, lowered our 2026 CPI growth forecast to 1%) (from yyo. yoy, lowered our 2026 CPI growth forecast to 1%) (from yoo. yoy, lowered our 2026 CPI growth forecast to 1%) (from yod. yoy, lowered our 2026 CPI growth forecast to 1%) (from yoe. yoy, lowered our 2026 CPI growth forecast to 1%) (from yed. yoy, lowered our 2026 CPI growth forecast to 1%) (from yee. yoy, lowered our 2026 CPI growth forecast to 1%) (from yde. yoy, lowered our 2026 CPI growth forecast to 1%) (from ydo. yoy, lowered our 2026 CPI growth forecast to 1%) (from ydd. yoy, lowered our 2026 CPI growth forecast to 1%) (from yd. yoy, lowered our 2026 CPI growth forecast to 1%) (from y.d. yoy, lowered our 2026 CPI growth forecast to 1%) (from y.c. yoy, lowered our 2026 CPI growth forecast to 1%) (from y.b. yoy, lowered our 2026 CPI growth forecast to 1%) (from y.a. yoy, lowered our 2026 CPI growth forecast to 1%) (from y.g. yoy, lowered our 2026 CPI growth forecast to 1%) (from y.f. yoy, lowered our 2026 CPI growth forecast to 1%) (from y.h. yoy, lowered our 2026 CPI growth forecast to 1%) (from y.i. yoy, lowered our 2026 CPI growth forecast to 1%) (from y.j. yoy, lowered our 2026 CPI growth forecast to 1%) (from y.k. yoy, lowered our 2026 CPI growth forecast to 1%) (from y.l. yoy, lowered our 2026 CPI growth forecast to 1%) (from y.m. yoy, lowered our 2026 CPI growth forecast to 1%) (from y.n. yoy, lowered our 2026 CPI growth forecast to 1%) (from y.p. yoy, lowered our 2026 CPI growth forecast to 1%) (from y.q. yoy, lowered our 2026 CPI growth forecast to 1%) (from y.r. yoy, lowered our 2026 CPI growth forecast to 1%) (from y.s. yoy, lowered our 2026 CPI growth forecast to 1%) (from y.t. yoy, lowered our 2026 CPI growth forecast to 1%) (from y.u. yoy, lowered our 2026 CPI growth forecast to 1%) (from y.v. yoy, lowered our 2026 CPI growth forecast to 1%) (from y.w. yoy, lowered our 2026 CPI growth forecast to 1%) (from y.x. yoy, lowered our 2026 CPI growth forecast to 1%) (from y.z. yoy, lowered our 2026 CPI growth forecast to 1%) (from y.ba. yoy, lowered our 2026 CPI growth forecast to 1%) (from y.be. yoy, lowered our 2026 CPI growth forecast to 1%) (from y.e. yoy, lowered our 2026 CPI growth forecast to 1%) (from y.de. yoy, lowered our 2026 CPI growth forecast to 1%) (from y.fe. yoy, lowered our 2026 CPI growth forecast to 1%) (from y.ge. yoy, lowered our 2026 CPI growth forecast to 1%) (from y.go. yoy, lowered our 2026 CPI growth forecast to 1%) (from y.ro. yoy, lowered our 2026 CPI growth forecast to 1%) (from y.re. yoy, lowered our 2026 CPI growth forecast to 1%) (from y.se. yoy, lowered our 2026 CPI growth forecast to 1%) (from y.te. yoy, lowered our 2026 CPI growth forecast to 1%) (from y.fi. yoy, lowered our 2026 CPI growth forecast to 1%) (from y.fl. yoy, lowered our 2026 CPI growth forecast to 1%) (from yfo. yoy, lowered our 2026 CPI growth forecast to 1%) (from yf. yoy, lowered our 2026 CPI growth forecast to 1%) (from yff. yoy, lowered our 2026 CPI growth forecast to 1%) (from yfg. yoy, lowered our 2026 CPI growth forecast to 1%) (from yfh. yoy, lowered our 2026 CPI growth forecast to 1%) (from yfi. yoy, lowered our 2026 CPI growth forecast to 1%) (from yfj. yoy, lowered our 2026 CPI growth forecast to 1%) (from yfk. yoy, lowered our 2026 CPI growth forecast to 1%) (from yfl. yoy, lowered our 2026 CPI growth forecast to 1%) (from yfm. yoy, lowered our 2026 CPI growth forecast to 1%) (from yfn. yoy, lowered our 2026 CPI growth forecast to 1%) (from yfp. yoy, lowered our 2026 CPI growth forecast to 1%) (from yfr. yoy, lowered our 2026 CPI growth forecast to 1%) (from yfs. yoy, lowered our 2026 CPI growth forecast to 1%) (from yft. yoy, lowered our 2026 CPI growth forecast to 1%) (from yfu. yoy, lowered our 2026 CPI growth forecast to 1%) (from yfv. yoy, lowered our 2026 CPI growth forecast to 1%) (from yfw. yoy, lowered our 2026 CPI growth forecast to 1%) (from yfx. yoy, lowered our 2026 CPI growth forecast to 1%) (from yfy. yoy, lowered our 2026 CPI growth forecast to 1%) (from yfa. yoy, lowered our 2026 CPI growth forecast to 1%) (from yfb. yoy, lowered our 2026 CPI growth forecast to 1%) (from yfc. yoy, lowered our 2026 CPI growth forecast to 1%) (from yfd. yoy, lowered our 2026 CPI growth forecast to 1%) (from yfe. yoy, lowered our 2026 CPI growth forecast to 1%) (from ydf. yoy, lowered our 2026 CPI growth forecast to 1%) (from ydg. yoy, lowered our 2026 CPI growth forecast to 1%) (from ydh. yoy, lowered our 2026 CPI growth forecast to 1%) (from ydi. yoy, lowered our 2026 CPI growth forecast to 1%) (from ydj. yoy, lowered our 2026 CPI growth forecast to 1%) (from ydk. yoy, lowered our 2026 CPI growth forecast to 1%) (from ydl. yoy, lowered our 2026 CPI growth forecast to 1%) (from ydm. yoy, lowered our 2026 CPI growth forecast to 1%) (from ydn. yoy, lowered our 2026 CPI growth forecast to 1%) (from ydp. yoy, lowered our 2026 CPI growth forecast to 1%) (from ydq. yoy, lowered our 2026 CPI growth forecast to 1%) (from ydr. yoy, lowered our 2026 CPI growth forecast to 1%) (from yds. yoy, lowered our 2026 CPI growth forecast to 1%) (from ydt. yoy, lowered our 2026 CPI growth forecast to 1%) (from ydu. yoy, lowered our 2026 CPI growth forecast to 1%) (from ydv. yoy, lowered our 2026 CPI growth forecast to 1%) (from ydw. yoy, lowered our 2026 CPI growth forecast to 1%) (from ydx. yoy, lowered our 2026 CPI growth forecast to 1%) (from ydy. yoy, lowered our 2026 CPI growth forecast to 1%) (from ydz. yoy, lowered our 2026 CPI growth forecast to 1%) (from yea. yoy, lowered our 2026 CPI growth forecast to 1%) (from yeb. yoy, lowered our 2026 CPI growth forecast to 1%) (from yec. yoy, lowered our 2026 CPI growth forecast to 1%) (from yef. yoy, lowered our 2026 CPI growth forecast to 1%) (from yeg. yoy, lowered our 2026 CPI growth forecast to 1%) (from yeh. yoy, lowered our 2026 CPI growth forecast to 1%) (from yei. yoy, lowered our 2026 CPI growth forecast to 1%) (from yej. yoy, lowered our 2026 CPI growth forecast to 1%) (from yek. yoy, lowered our 2026 CPI growth forecast to 1%) (from yel. yoy, lowered our 2026 CPI growth forecast to 1%) (from yem. yoy, lowered our 2026 CPI growth forecast to 1%) (from yen. yoy, lowered our 2026 CPI growth forecast to 1%) (from yep. yoy, lowered our 2026 CPI growth forecast to 1%) (from yeq. yoy, lowered our 2026 CPI growth forecast to 1%) (from yer. yoy, lowered our 2026 CPI growth forecast to 1%) (from yes. yoy, lowered our 2026 CPI growth forecast to 1%) (from yet. yoy, lowered our 2026 CPI growth forecast to 1%) (from yev. yoy, lowered our 2026 CPI growth forecast to 1%) (from yew. yoy, lowered our 2026 CPI growth forecast to 1%) (from yex. yoy, lowered our 2026 CPI growth forecast to 1%) (from yey. yoy, lowered our 2026 CPI growth forecast to 1%) (from yez. yoy, lowered our 2026 CPI growth forecast to 1%) (from yga. yoy, lowered our 2026 CPI growth forecast to 1%) (from ygb. yoy, lowered our 2026 CPI growth forecast to 1%) (from ygc. yoy, lowered our 2026 CPI growth forecast to 1%) (from ygd. yoy, lowered our 2026 CPI growth forecast to 1%) (from yge. yoy, lowered our 2026 CPI growth forecast to 1%) (from ygf. yoy, lowered our 2026 CPI growth forecast to 1%) (from ygg. yoy, lowered our 2026 CPI growth forecast to 1%) (from ygh. yoy, lowered our 2026 CPI growth forecast to 1%) (from ygi. yoy, lowered our 2026 CPI growth forecast to 1%) (from ygj. yoy, lowered our 2026 CPI growth forecast to 1%) (from ygk. yoy, lowered our 2026 CPI growth forecast to 1%) (from ygl. yoy, lowered our 2026 CPI growth forecast to 1%) (from ygm. yoy, lowered our 2026 CPI growth forecast to 1%) (from ygn. yoy, lowered our 2026 CPI growth forecast to 1%) (from ygo. yoy, lowered our 2026 CPI growth forecast to 1%) (from ygp. yoy, lowered our 2026 CPI growth forecast to 1%) (from ygq. yoy, lowered our 2026 CPI growth forecast to 1%) (from ygr. yoy, lowered our 2026 CPI growth forecast to 1%) (from ygs. yoy, lowered our 2026 CPI growth forecast to 1%) (from ygt. yoy, lowered our 2026 CPI growth forecast to 1%) (from ygu. yoy, lowered our 2026 CPI growth forecast to 1%) (from ygy. yoy, lowered our 2026 CPI growth forecast to 1%) (from ygz. yoy, lowered our 2026 CPI growth forecast to 1%) (from yha. yoy, lowered our 2026 CPI growth forecast to 1%) (from yhb. yoy, lowered our 2026 CPI growth forecast to 1%) (from yhc. yoy, lowered our 2026 CPI growth forecast to 1%) (from yhd. yoy, lowered our 2026 CPI growth forecast to 1%) (from yhe. yoy, lowered our 2026 CPI growth forecast to 1%) (from yhf. yoy, lowered our 2026 CPI growth forecast to 1%) (from yhg. yoy, lowered our 2026 CPI growth forecast to 1%) (from yhi. yoy, lowered our 2026 CPI growth forecast to 1%) (from yhj. yoy, lowered our 2026 CPI growth forecast to 1%) (from yhk. yoy, lowered our 2026 CPI growth forecast to 1%) (from yhl. yoy, lowered our 2026 CPI growth forecast to 1%) (from yhm. yoy, lowered our 2026 CPI growth forecast to 1%) (from yhn. yoy, lowered our 2026 CPI growth forecast to 1%) (from yho. yoy, lowered our 2026 CPI growth forecast to 1%) (from yhp. yoy, lowered our 2026 CPI growth forecast to 1%) (from yhq. yoy, lowered our 2026 CPI growth forecast to 1%) (from yr. yoy, lowered our 2026 CPI growth forecast to 1%) (from yhs. yoy, lowered our 2026 CPI growth forecast to 1%) (from yht. yoy, lowered our 2026 CPI growth forecast to 1%) (from yhu. yoy, lowered our 2026 CPI growth forecast to 1%) (from yhv. yoy, lowered our 2026 CPI growth forecast to 1%) (from yhw. yoy, lowered our 2026 CPI growth forecast to 1%) (from yhy. yoy, lowered our 2026 CPI growth forecast to 1%) (from yhz. yoy, lowered our 2026 CPI growth forecast to 1%) (from yia. yoy, lowered our 2026 CPI growth forecast to 1%) (from yib. yoy, lowered our 2026 CPI growth forecast to 1%) (from yic. yoy, lowered our 2026 CPI growth forecast to 1%) (from yid. yoy, lowered our 2026 CPI growth forecast to 1%) (from yie. yoy, lowered our 2026 CPI growth forecast to 1%) (from yif. yoy, lowered our 2026 CPI growth forecast to 1%) (from yig. yoy, lowered our 2026 CPI growth forecast to 1%) (from yih. yoy, lowered our 2026 CPI growth forecast to 1%) (from yij. yoy, lowered our 2026 CPI growth forecast to 1%) (from yik. yoy, lowered our 2026 CPI growth forecast to 1%) (from yil. yoy, lowered our 2026 CPI growth forecast to 1%) (from yim. yoy, lowered our 2026 CPI growth forecast to 1%) (from yin. yoy, lowered our 2026 CPI growth forecast to 1%) (from yip. yoy, lowered our 2026 CPI growth forecast to 1%) (from yiq. yoy, lowered our 2026 CPI growth forecast to 1%) (from yir. yoy, lowered our 2026 CPI growth forecast to 1%) (from yis. yoy, lowered our 2026 CPI growth forecast to 1%) (from yit. yoy, lowered our 2026 CPI growth forecast to 1%) (from yiu. yoy, lowered our 2026 CPI growth forecast to 1%) (from yiv. yoy, lowered our 2026 CPI growth forecast to 1%) (from yiw. yoy, lowered our 2026 CPI growth forecast to 1%) (from yix. yoy, lowered our 2026 CPI growth forecast to 1%) (from yiy. yoy, lowered our 2026 CPI growth forecast to 1%) (from yiz. yoy, lowered our 2026 CPI growth forecast to 1%) (from yja. yoy, lowered our 2026 CPI growth forecast to 1%) (from yjb. yoy, lowered our 2026 CPI growth forecast to 1%) (from yjc. yoy, lowered our 2026 CPI growth forecast to 1%) (from yjd. yoy, lowered our 2026 CPI growth forecast to 1%) (from yje. yoy, lowered our 2026 CPI growth forecast to 1%) (from yjf. yoy, lowered our 2026 CPI growth forecast to 1%) (from jgk. yoy, lowered our 2026 CPI growth forecast to 1%) (from jgl. yoy, lowered our 2026 CPI growth forecast to 1%) (from jgm. yoy, lowered our 2026 CPI growth forecast to 1%) (from jgn. yoy, lowered our 2026 CPI growth forecast to 1%) (from jgq. yoy, lowered our 2026 CPI growth forecast to 1%) (fr. yoy, lowered our 2026 CPI growth forecast to 1%) (from jgr. yoy, lowered our 2026 CPI growth forecast to 1%) (from jgs. yoy, lowered our 2026 CPI growth forecast to 1%) (from jgt. yoy, lowered our 2026 CPI growth forecast to 1%) (from jgu. yoy, lowered our 2026 CPI growth forecast to 1%) (from jgy. yoy, lowered our 2026 CPI growth forecast to 1%) (from jgz. yoy, lowered our 2026 CPI growth forecast to 1%) (from jha. yoy, lowered our 2026 CPI growth forecast to 1%) (from jhb. yoy, lowered our 2026 CPI growth forecast to 1%) (from jhc. yoy, lowered our 2026 CPI growth forecast to 1%) (from jhd. yoy, lowered our 2026 CPI growth forecast to 1%) (from jhe. yoy, lowered our 2026 CPI growth forecast to 1%) (from jhf. "
          ]
        },
        {
          "output_type": "stream",
          "name": "stderr",
          "text": [
            "This is a friendly reminder - the current text generation call will exceed the model's predefined maximum length (8192). Depending on the model, you may observe exceptions, performance degradation, or nothing at all.\n"
          ]
        },
        {
          "output_type": "stream",
          "name": "stdout",
          "text": [
            "yoy, lowered our 2026 CPI growth forecast to 1%) (from jhg. yoy, lowered our 2026 CPI growth forecast to 1%) (from jhi. yoy, lowered our 2026 CPI growth forecast to 1%) (from jhj. yoy, lowered our 2026 CPI growth forecast to 1%) (from jhk. yoy, lowered our 2026 CPI growth forecast to 1%) (from jhl. yoy, lowered our 2026 CPI growth forecast to 1%) (from jhm. yoy, lowered our 2026 CPI growth forecast to 1%) (from jhn. yoy, lowered our 2026 CPI growth forecast to 1%) (from jho. yoy, lowered our 2026 CPI growth forecast to 1%) (from jhp. yoy, lowered our 2026 CPI growth forecast to 1%) (from jhq. yoy, lowered our 2026 CPI growth forecast to 1%) (fr.yoy, lowered our 2026 CPI growth forecast to 1%) (from jhs. yoy, lowered our 2026 CPI growth forecast to 1%) (from jht. yoy, lowered our 2026 CPI growth forecast to 1%) (from jhu. yoy, lowered our 2026 CPI growth forecast to 1%) (from jhv. yoy, lowered our 2026 CPI growth forecast to 1%) (from jhw. yoy, lowered our 2026 CPI growth forecast to 1%) (from jhy. yoy, lowered our 2026 CPI growth forecast to 1%) (from jhz. yoy, lowered our 2026 CPI growth forecast to 1%) (from jia. yoy, lowered our 2026 CPI growth forecast to 1%) (from jib. yoy, lowered our 2026 CPI growth forecast to 1%) (from jic. yoy, lowered our 2026 CPI growth forecast to 1%) (from jid. yoy, lowered our 2026 CPI growth forecast to 1%) (from jie. yoy, lowered our 2026 CPI growth forecast to 1%) (from jif. yoy, lowered our 2026 CPI growth forecast to 1%) (from jig. yoy, lowered our 2026 CPI growth forecast to 1%) (from jih. yoy, lowered our 2026 CPI growth forecast to 1%) (from jil. yoy, lowered our 2026 CPI growth forecast to 1%) (from jim. yoy, lowered our 2026 CPI growth forecast to 1%) (from jim. yoy, lowered our 2026 CPI growth forecast to 1%) (from jimh. yoy, lowered our 2026 CPI growth forecast to 1%) (from jimj. yoy, lowered our 2026 CPI growth forecast to 1%) (from jimk. yoy, lowered our 2026 CPI growth forecast to 1%) (from jiml. yoy, lowered our 2026 CPI growth forecast to 1%) (from jimm. yoy, lowered our 2026 CPI growth forecast to 1%) (from jimn. yoy, lowered our 2026 CPI growth forecast to 1%) (from jimp. yoy, lowered our 2026 CPI growth forecast to 1%) (from jimq. yoy, lowered our 2026 CPI growth forecast to 1%) (from jimr. yoy, lowered our 2026 CPI growth forecast to 1%) (from jimst. yoy, lowered our 2026 CPI growth forecast to 1%) (from jimt. yoy, lowered our 2026 CPI growth forecast to 1%) (from jimv. yoy, lowered our 2026 CPI growth forecast to 1%) (from jimw. yoy, lowered our 2026 CPI growth forecast to 1%) (from jimx. yoy, lowered our 2026 CPI growth forecast to 1%) (from jimz. yoy, lowered our 2026 CPI growth forecast to 1%) (from jimy. yoy, lowered our 2026 CPI growth forecast to 1%) (from jimza==================================================\n",
            "image size:  (942, 1188)\n",
            "valid image tokens:  802\n",
            "output texts tokens (valid):  8187\n",
            "compression ratio:  10.21\n",
            "==================================================\n",
            "===============save results:===============\n",
            "invalid syntax (<string>, line 1)\n",
            "closing parenthesis ']' does not match opening parenthesis '(' (<string>, line 1)\n"
          ]
        },
        {
          "output_type": "stream",
          "name": "stderr",
          "text": [
            "image: 100%|██████████| 4/4 [00:00<00:00, 34100.03it/s]\n",
            "other: 100%|██████████| 42/42 [00:00<00:00, 37465.07it/s]\n"
          ]
        }
      ]
    },
    {
      "cell_type": "code",
      "source": [
        "# prompt = \"<image>\\nFree OCR. \"\n",
        "prompt = \"<image>\\n<|grounding|>Convert the document to markdown. \"\n",
        "image_file = '/content/DeepSeek-OCR/assets/show3.jpg'\n",
        "output_path = '/content/assets3/'\n",
        "\n",
        "res = model.infer(tokenizer, prompt=prompt, image_file=image_file, output_path = output_path, base_size = 1024, image_size = 640, crop_mode=True, save_results = True, test_compress = True)"
      ],
      "metadata": {
        "colab": {
          "base_uri": "https://localhost:8080/"
        },
        "id": "qc7Cjjfx_ErE",
        "outputId": "2a3ffc6f-2a90-46d5-db0c-acc20a1a5114"
      },
      "execution_count": 9,
      "outputs": [
        {
          "output_type": "stream",
          "name": "stderr",
          "text": [
            "The attention mask and the pad token id were not set. As a consequence, you may observe unexpected behavior. Please pass your input's `attention_mask` to obtain reliable results.\n",
            "Setting `pad_token_id` to `eos_token_id`:None for open-end generation.\n"
          ]
        },
        {
          "output_type": "stream",
          "name": "stdout",
          "text": [
            "=====================\n",
            "BASE:  torch.Size([1, 256, 1280])\n",
            "PATCHES:  torch.Size([6, 100, 1280])\n",
            "=====================\n",
            "<|ref|>image<|/ref|><|det|>[[45, 0, 456, 404]]<|/det|>\n",
            "\n",
            "<|ref|>text<|/ref|><|det|>[[45, 380, 293, 404]]<|/det|>\n",
            "Cristina Gilanders, PhD, is a researcher at the FPG Child Development Institute at the University of North Carolina-Chapel Hill. She was an investigator in the Nuestros Ninos study, and has worked with dual language learners as a bilingual preschool teacher, teacher educator, and researcher. cristina.gilanders@unc.edu\n",
            "\n",
            "<|ref|>text<|/ref|><|det|>[[45, 405, 293, 432]]<|/det|>\n",
            "Dina C. Castro, PhD, is a senior scientist at the FPG Child Development Institute. She was the principal investigator for the Nuestros Ninos study. Her research focuses on improving the quality of early education for children from diverse cultural and linguistic backgrounds. dina.castro@unc.edu\n",
            "\n",
            "<|ref|>text<|/ref|><|det|>[[55, 433, 293, 440]]<|/det|>\n",
            "Photos courtesy of the authors.\n",
            "\n",
            "<|ref|>text<|/ref|><|det|>[[55, 441, 293, 448]]<|/det|>\n",
            "A study guide for this article will be available in mid-January online at www.nancy.org/yc\n",
            "\n",
            "<|ref|>text<|/ref|><|det|>[[303, 204, 410, 255]]<|/det|>\n",
            "happens when the children are read to in a language they are just beginning to learn? What happens when an English-speaking teacher reads a story to a group of children who are learning English as a second language?\n",
            "\n",
            "<|ref|>text<|/ref|><|det|>[[303, 256, 410, 420]]<|/det|>\n",
            "As illustrated in the vignette at the beginning of this article, teachers often describe young dual language learners in their class as distracted and unengaged during read-aloud sessions in English. In this article, we describe two strategies that English-speaking teachers can use when reading aloud to young dual language learners. These strategies are part of the Nuestros Ninos Early Language and Literacy Program, a professional development intervention designed to improve the quality of teaching practices in preschool programs in comparison to support Spanish-speaking dual language learners (Castro et al. 2006). The intervention was developed and evaluated in a study funded by the US Department of Education. Teachers from the North Carolina More at Four Pre-Kindergarten\n",
            "\n",
            "<|ref|>text<|/ref|><|det|>[[303, 432, 365, 441]]<|/det|>\n",
            "nancy2.3\n",
            "\n",
            "<|ref|>image<|/ref|><|det|>[[562, 55, 960, 214]]<|/det|>\n",
            "\n",
            "<|ref|>text<|/ref|><|det|>[[560, 223, 680, 240]]<|/det|>\n",
            "In a community of practice meeting, teachers discuss their experiences reading aloud to dual language learners.\n",
            "\n",
            "<|ref|>text<|/ref|><|det|>[[560, 245, 680, 280]]<|/det|>\n",
            "Susan: When I am reading a story, the Latino children in my class just sit there. They look at me, but you can tell that they're not engaged in the story.\n",
            "\n",
            "<|ref|>text<|/ref|><|det|>[[560, 285, 680, 305]]<|/det|>\n",
            "Lina: That happens in my class too. The little girls play with their hair, and the boys play with their shoes.\n",
            "\n",
            "<|ref|>text<|/ref|><|det|>[[560, 309, 680, 329]]<|/det|>\n",
            "Susan: And when you ask questions about the story, children who speak English take over and you can't get an answer from the Latino children.\n",
            "\n",
            "<|ref|>text<|/ref|><|det|>[[560, 333, 680, 348]]<|/det|>\n",
            "Lina: I think they just don't understand what the story is about.\n",
            "\n",
            "<|ref|>text<|/ref|><|det|>[[560, 353, 680, 373]]<|/det|>\n",
            "Facilitator: How can we help them under stand the story so they can participate?\n",
            "\n",
            "<|ref|>text<|/ref|><|det|>[[560, 383, 808, 405]]<|/det|>\n",
            "Cristina Gilanders, PhD, is a researcher at the FPG Child Developmenr Institute at the University of North Carolina-Chapel Hill. She was an investigator in the Nuestos Ninos study, and has worked with dual language learners as a bilingual preschool teacher, teacher educator,and researcher. cristina.gilanders@unc.edu\n",
            "\n",
            "<|ref|>text<|/ref|><|det|>[[560, 405, 808, 430]]<|/det|>\n",
            "Dina C. Castro, PhD, is a senior scientist at the FPG Cid Development Institute. She was the principal investigator for the Nuestros Ninos study. Her research focuscs on improving the quality of early education for children from diverse cultural and linguistic backgrounds, dina.castro@unc.edu\n",
            "\n",
            "<|ref|>text<|/ref|><|det|>[[560, 432, 680, 440]]<|/det|>\n",
            "Cristina couvres of the author\n",
            "\n",
            "<|ref|>text<|/ref|><|det|>[[560, 440, 808, 448]]<|/det|>\n",
            "A study guide for this article will be available in mid-January onine at www.nancy.org/yc\n",
            "\n",
            "<|ref|>text<|/ref|><|det|>[[808, 223, 928, 270]]<|/det|>\n",
            "happens when the children are read to in a language they are just beginningto learn? What happens when an English-speaking teacher reads a story to a group of children who arelearning English as a second language?\n",
            "\n",
            "<|ref|>text<|/ref|><|det|>[[808, 274, 928, 430]]<|/det|>\n",
            "As illustrated in the vignette at the beginning of this article, teachers often describe two strategies that English-speaking teachers can use when reading aloud to young dual language learners. These straignts are part of the Nuestros Ninos Early Language and Literacy Program, a professional development intervention designec to improve the quality of teaching practices in preschool programs in comparison to support Spanish-speaking dual language learners(Castro et al. 2006). The intervention was developed and evaluated in a study funded bythe US Department of Education. Teachers from the North Carolina More at Four Pre-Kindergarten\n",
            "\n",
            "<|ref|>title<|/ref|><|det|>[[180, 496, 287, 513]]<|/det|>\n",
            "# Input image\n",
            "\n",
            "<|ref|>title<|/ref|><|det|>[[710, 496, 770, 512]]<|/det|>\n",
            "# Result\n",
            "\n",
            "<|ref|>title<|/ref|><|det|>[[35, 531, 235, 546]]<|/det|>\n",
            "# <image>InParse the figure.\n",
            "\n",
            "<|ref|>image<|/ref|><|det|>[[52, 560, 392, 750]]<|/det|>\n",
            "\n",
            "<|ref|>text<|/ref|><|det|>[[35, 770, 392, 818]]<|/det|>\n",
            "The image depicts an indoor classroom setting with a group of children and an adult. The children are seated on the floor, facing a woman who is standing and appears to be reading or presenting to them. The woman is wearing a brown sweater and blue jeans. The children are dressed in various colors, with some wearing short pants and others in long pants.\n",
            "\n",
            "<|ref|>text<|/ref|><|det|>[[35, 827, 401, 865]]<|/det|>\n",
            "The classroom has a green wall with educational posters and a bulletin board. The floor is covered with a gray carpet. To the left, there is a wooden dresser with a drawer partially open, and a chair is visible behind it. On the right side of the image, there is a purple bean bag chair.\n",
            "\n",
            "<|ref|>text<|/ref|><|det|>[[35, 875, 393, 903]]<|/det|>\n",
            "The children are engaged with the woman, with some looking at her and others looking down or away. The room is well-lit, and the overall atmosphere seems to be one of attentiveness and learning.\n",
            "\n",
            "<|ref|>text<|/ref|><|det|>[[35, 913, 384, 950]]<|/det|>\n",
            "The text \"BIBLIOTECA\" is visible on the wall, suggesting that the room may be part of a library or a section dedicated to books. The presence of educational materials and the organized layout of the room indicate that this is a space designed for learning and reading.\n",
            "\n",
            "<|ref|>title<|/ref|><|det|>[[550, 537, 900, 551]]<|/det|>\n",
            "# Storybook Reading for Young Dual Language Learners\n",
            "\n",
            "<|ref|>text<|/ref|><|det|>[[550, 560, 666, 567]]<|/det|>\n",
            "Cristina Gilanders and Dina C. Castro\n",
            "\n",
            "<|ref|>image<|/ref|><|det|>[[614, 570, 895, 728]]<|/det|>\n",
            "\n",
            "<|ref|>text<|/ref|><|det|>[[550, 733, 911, 741]]<|/det|>\n",
            "In a community of practice meeting, teachers discuss their experiences reading aloud to dual language leamers.\n",
            "\n",
            "<|ref|>text<|/ref|><|det|>[[550, 746, 944, 763]]<|/det|>\n",
            "Susan: When I am reading a story, the Latino children in my class just Sit there. They look at me, but you can tell that they are not engaged in the story.\n",
            "\n",
            "<|ref|>text<|/ref|><|det|>[[550, 767, 888, 775]]<|/det|>\n",
            "Lina: That happens in my class too. The little girls play with their hait, and the boys play with their shoes.\n",
            "\n",
            "<|ref|>text<|/ref|><|det|>[[550, 780, 944, 797]]<|/det|>\n",
            "Beverly: And when you ask questions about the story, children who speak English take over and you can’t get an answer from the Latino children.\n",
            "\n",
            "<|ref|>text<|/ref|><|det|>[[550, 802, 707, 810]]<|/det|>\n",
            "Cristina: What do you think is happening here?\n",
            "\n",
            "<|ref|>text<|/ref|><|det|>[[550, 815, 760, 823]]<|/det|>\n",
            "Lina: I think they just don’t understand what the story is about.\n",
            "\n",
            "<|ref|>text<|/ref|><|det|>[[550, 828, 792, 836]]<|/det|>\n",
            "Facilitator: How can we help them understand the story so they can participate?\n",
            "\n",
            "<|ref|>text<|/ref|><|det|>[[550, 841, 944, 880]]<|/det|>\n",
            "RESEARCHERS WIDELY RECOMMEND storybook reading for promoting the early language and literacy of young children. By listening to stories, children learn about written syntax and vocabulary and develop phonological awareness and concepts of print. all of which are closely linked to learning to read and write (National Early Literacy Panel 2008). Teachers usually know a read- aloud experience has been effective because they see the children maintain their interest in the story, relate different aspects of the story to their own experiences, describe the illustrations, and ask questions about the characters and plot.\n",
            "\n",
            "<|ref|>text<|/ref|><|det|>[[550, 885, 944, 902]]<|/det|>\n",
            "However, listening to a story read aloud can be a very different experience for children who speak a language other than English. What\n",
            "\n",
            "<|ref|>text<|/ref|><|det|>[[550, 907, 944, 924]]<|/det|>\n",
            "happens when the children are read to in a language they are just beginning t learn? What happens when an English-speaking teacher reads a story to a group of children who are leaming English as a second language?\n",
            "\n",
            "<|ref|>text<|/ref|><|det|>[[550, 929, 944, 953]]<|/det|>\n",
            "As illustrated in the vignette at the beginning of this article, teachers often describeyoung dual language learners in their class as distracted and unengaged during read- aloud sessions in English. In this article, we describe teaching strategies that Englishspeaking teachers can use when reading aloud to young dual language learners. These strategies are part of the Nuestos Ninos\n",
            "==================================================\n",
            "image size:  (934, 1183)\n",
            "valid image tokens:  802\n",
            "output texts tokens (valid):  2275\n",
            "compression ratio:  2.84\n",
            "==================================================\n",
            "===============save results:===============\n"
          ]
        },
        {
          "output_type": "stream",
          "name": "stderr",
          "text": [
            "image: 100%|██████████| 4/4 [00:00<00:00, 40329.85it/s]\n",
            "other: 100%|██████████| 39/39 [00:00<00:00, 63822.81it/s]\n"
          ]
        }
      ]
    },
    {
      "cell_type": "code",
      "source": [
        "# prompt = \"<image>\\nFree OCR. \"\n",
        "prompt = \"<image>\\n<|grounding|>Convert the document to markdown. \"\n",
        "image_file = '/content/DeepSeek-OCR/assets/show4.jpg'\n",
        "output_path = '/content/assets4/'\n",
        "\n",
        "res = model.infer(tokenizer, prompt=prompt, image_file=image_file, output_path = output_path, base_size = 1024, image_size = 640, crop_mode=True, save_results = True, test_compress = True)"
      ],
      "metadata": {
        "colab": {
          "base_uri": "https://localhost:8080/"
        },
        "id": "J1hm-lI0-reV",
        "outputId": "6052df9b-7f20-4fb2-f09e-8da1c5a72a26"
      },
      "execution_count": 10,
      "outputs": [
        {
          "output_type": "stream",
          "name": "stderr",
          "text": [
            "The attention mask and the pad token id were not set. As a consequence, you may observe unexpected behavior. Please pass your input's `attention_mask` to obtain reliable results.\n",
            "Setting `pad_token_id` to `eos_token_id`:None for open-end generation.\n"
          ]
        },
        {
          "output_type": "stream",
          "name": "stdout",
          "text": [
            "=====================\n",
            "BASE:  torch.Size([1, 256, 1280])\n",
            "PATCHES:  torch.Size([4, 100, 1280])\n",
            "=====================\n",
            "<|ref|>text<|/ref|><|det|>[[12, 20, 390, 40]]<|/det|>\n",
            "<image>InLocate<|refl>11- 2=<|/refl> in the image.\n",
            "\n",
            "<|ref|>image<|/ref|><|det|>[[12, 50, 394, 298]]<|/det|>\n",
            "\n",
            "<|ref|>text<|/ref|><|det|>[[12, 320, 437, 340]]<|/det|>\n",
            "<image>InLocate<|refl>the teacher</|refl> in the image.\n",
            "\n",
            "<|ref|>image<|/ref|><|det|>[[12, 352, 394, 590]]<|/det|>\n",
            "\n",
            "<|ref|>text<|/ref|><|det|>[[72, 590, 379, 600]]<|/det|>\n",
            "\"I like how Bonnie's not stepping on my last nerve.\"\n",
            "\n",
            "<|ref|>text<|/ref|><|det|>[[12, 644, 168, 664]]<|/det|>\n",
            "<image>In这是一张\n",
            "\n",
            "<|ref|>image<|/ref|><|det|>[[12, 675, 220, 984]]<|/det|>\n",
            "\n",
            "<|ref|>text<|/ref|><|det|>[[230, 730, 355, 940]]<|/det|>\n",
            "照片，展示了一辆红色的消防栓。消防栓上有一个笑脸，显得非常友好和亲切。消防栓的顶部有一个黑色的盖子，周围有一些金属铆钉。在消防栓的底部，有一个粉红色的贴纸，上面写着“bowtie”。背景中可以看到一条街道，街道上有几辆停放的汽车和一些树木。整体画面给人一种温馨和友好的感觉。\n",
            "\n",
            "<|ref|>text<|/ref|><|det|>[[440, 20, 722, 40]]<|/det|>\n",
            "<image>InDescribe this image in detail.\n",
            "\n",
            "<|ref|>image<|/ref|><|det|>[[420, 50, 732, 298]]<|/det|>\n",
            "\n",
            "<|ref|>text<|/ref|><|det|>[[700, 58, 980, 77]]<|/det|>\n",
            "A green plastic container labeled for food storage purposes. The lid is yellow and appears slightly worn out.\n",
            "\n",
            "<|ref|>text<|/ref|><|det|>[[700, 87, 765, 95]]<|/det|>\n",
            "On the front label:\n",
            "\n",
            "<|ref|>text<|/ref|><|det|>[[700, 97, 872, 106]]<|/det|>\n",
            "-At the top left corner, some Chinese characters.\n",
            "\n",
            "<|ref|>text<|/ref|><|det|>[[700, 107, 980, 125]]<|/det|>\n",
            "- In bold black letters near the center-top a ads \"6月香\" (June Fragrance).\n",
            "\n",
            "<|ref|>text<|/ref|><|det|>[[700, 125, 984, 144]]<|/det|>\n",
            "-Below that, smaller white font states \"鲜甜成香\" which translates roughly to \"Fresh Sweet Salty Fragrant.\"\n",
            "\n",
            "<|ref|>text<|/ref|><|det|>[[700, 144, 980, 163]]<|/det|>\n",
            "-Dominating the middle part of the label is large lettering stating “豆瓣香”, meaning \"Bean Paste Sauce.\"\n",
            "\n",
            "<|ref|>text<|/ref|><|det|>[[700, 164, 800, 171]]<|/det|>\n",
            "Additional Information includes:\n",
            "\n",
            "<|ref|>text<|/ref|><|det|>[[700, 174, 911, 183]]<|/det|>\n",
            "-A small circular logo indicating quality assurance (\"优质品\").\n",
            "\n",
            "<|ref|>text<|/ref|><|det|>[[700, 184, 978, 202]]<|/det|>\n",
            "- An illustration showing what seems like a dish made using bean paste sauce.\n",
            "\n",
            "<|ref|>text<|/ref|><|det|>[[700, 202, 980, 221]]<|/det|>\n",
            "- Text below the main title says \"专注25年，只做原酿香” translating to \"Focusing since 1998, only making authentic fermented bean paste.\"\n",
            "\n",
            "<|ref|>text<|/ref|><|det|>[[700, 221, 980, 230]]<|/det|>\n",
            "-On the bottom right side, additional product specifications include \"净含量：500g\".\n",
            "\n",
            "<|ref|>text<|/ref|><|det|>[[700, 231, 767, 239]]<|/det|>\n",
            "Overall Style/Type:\n",
            "\n",
            "<|ref|>text<|/ref|><|det|>[[700, 240, 980, 268]]<|/det|>\n",
            "It looks like commercial packaging designed specifically for preserving food items within the jar. It has clear labeling intended for easy identification and understanding among consumers who read Mandarin.\n",
            "\n",
            "<|ref|>text<|/ref|><|det|>[[700, 277, 950, 295]]<|/det|>\n",
            "Note: There might be slight variations due to handwriting styles but overall maintains readability regarding brand identity and contents description.\n",
            "\n",
            "<|ref|>text<|/ref|><|det|>[[440, 320, 936, 352]]<|/det|>\n",
            "<image>InIdentify all objects in the image and output them in bounding boxes.\n",
            "\n",
            "<|ref|>image<|/ref|><|det|>[[484, 360, 983, 667]]<|/det|>\n",
            "\n",
            "<|ref|>text<|/ref|><|det|>[[410, 701, 714, 721]]<|/det|>\n",
            "<image>In<|grounding|>OCR the image.\n",
            "\n",
            "<|ref|>image<|/ref|><|det|>[[410, 731, 666, 984]]<|/det|>\n",
            "\n",
            "<|ref|>text<|/ref|><|det|>[[748, 732, 937, 748]]<|/det|>\n",
            "君不见，黄河之水天上来\n",
            "\n",
            "<|ref|>text<|/ref|><|det|>[[748, 789, 963, 960]]<|/det|>\n",
            "，奔流到海不复回。君不见，高堂明镜悲白发，朝如青丝暮成雪。人生得意须尽欢，莫使金樽空对月。天生我材必有用，千金散尽还复来。烹羊宰牛且为乐，会须一饮三百杯。岑夫子，丹丘生，将进酒，杯莫停。与君歌一曲，请君为我倾耳听。钟鼓馔玉不足贵，但愿长醉不愿醒。古来圣贤皆寂寞，惟有饮者留其名。陈王昔时宴平乐，斗酒十千恣欢谑。主人何为言少钱，径须取对君酌。五花马，千金裘，呼儿将出换美酒，与尔同销万古愁。\n",
            "==================================================\n",
            "image size:  (1156, 1183)\n",
            "valid image tokens:  650\n",
            "output texts tokens (valid):  1141\n",
            "compression ratio:  1.76\n",
            "==================================================\n",
            "===============save results:===============\n"
          ]
        },
        {
          "output_type": "stream",
          "name": "stderr",
          "text": [
            "image: 100%|██████████| 6/6 [00:00<00:00, 59353.36it/s]\n",
            "other: 100%|██████████| 24/24 [00:00<00:00, 108007.83it/s]\n"
          ]
        }
      ]
    }
  ]
}