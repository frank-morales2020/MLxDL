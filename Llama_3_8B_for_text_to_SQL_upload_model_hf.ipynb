{
  "nbformat": 4,
  "nbformat_minor": 0,
  "metadata": {
    "colab": {
      "provenance": [],
      "machine_shape": "hm",
      "gpuType": "L4",
      "authorship_tag": "ABX9TyM76mYhCHWBtV4RQ2dsFWrb",
      "include_colab_link": true
    },
    "kernelspec": {
      "name": "python3",
      "display_name": "Python 3"
    },
    "language_info": {
      "name": "python"
    },
    "accelerator": "GPU"
  },
  "cells": [
    {
      "cell_type": "markdown",
      "metadata": {
        "id": "view-in-github",
        "colab_type": "text"
      },
      "source": [
        "<a href=\"https://colab.research.google.com/github/frank-morales2020/MLxDL/blob/main/Llama_3_8B_for_text_to_SQL_upload_model_hf.ipynb\" target=\"_parent\"><img src=\"https://colab.research.google.com/assets/colab-badge.svg\" alt=\"Open In Colab\"/></a>"
      ]
    },
    {
      "cell_type": "code",
      "source": [
        "! pip install peft --quiet\n",
        "! pip install datasets trl ninja packaging --quiet"
      ],
      "metadata": {
        "id": "Scbtm055EMb0"
      },
      "execution_count": null,
      "outputs": []
    },
    {
      "cell_type": "code",
      "execution_count": null,
      "metadata": {
        "id": "Etm0HfcZM151"
      },
      "outputs": [],
      "source": [
        "# Install Pytorch & other libraries\n",
        "!pip install torch tensorboard --quiet\n",
        "\n",
        "# Install Hugging Face libraries\n",
        "!pip install  --upgrade transformers datasets accelerate evaluate bitsandbytes --quiet\n",
        "\n",
        "#FlashAttention only supports Ampere GPUs or newer. #NEED A100 IN GOOGLE COLAB\n",
        "#!pip install -U transformers\n",
        "!pip install -U flash-attn --no-build-isolation --quiet\n",
        "\n",
        "\n",
        "! pip install peft --quiet\n",
        "! pip install datasets trl ninja packaging --quiet\n",
        "\n",
        "# Uncomment only if you're using A100 GPU\n",
        "#!pip install flash-attn --no-build-isolation\n",
        "!pip install diffusers safetensors  --quiet\n",
        "!pip install colab-env --quiet"
      ]
    },
    {
      "cell_type": "code",
      "source": [
        "!pip install colab-env --quiet\n",
        "!pip install huggingface_hub -q\n",
        "\n",
        "import colab_env\n",
        "import os\n",
        "\n",
        "access_token_write = os.getenv(\"HUGGINGFACE_ACCESS_TOKEN_WRITE\")"
      ],
      "metadata": {
        "id": "5aJJLLXDJFhT",
        "colab": {
          "base_uri": "https://localhost:8080/"
        },
        "outputId": "e1acca9e-ea2b-4688-cc82-f002b21c8e89"
      },
      "execution_count": null,
      "outputs": [
        {
          "output_type": "stream",
          "name": "stdout",
          "text": [
            "Mounted at /content/gdrive\n"
          ]
        }
      ]
    },
    {
      "cell_type": "code",
      "source": [
        "#!pip install huggingface_hub --quiet\n",
        "from huggingface_hub import HfApi\n",
        "\n",
        "api = HfApi()\n",
        "api.get_token_permission(token=access_token_write)\n",
        "#api.set_access_token(access_token)\n",
        "\n",
        "\n",
        "# frankmorales2020/Mistral-7B-text-to-sql Good\n",
        "\n",
        "repo_id = \"my-awesome-model-poc\"\n",
        "#api.create_repo(repo_id=repo_id, private=False)\n",
        "\n",
        "#api.delete_repo(repo_id=repo_id)\n",
        "\n",
        "#api.upload_folder(\n",
        "#    folder_path=\"./model\",\n",
        "#    repo_id=repo_id,\n",
        "#    repo_type=\"model\",\n",
        "#)\n"
      ],
      "metadata": {
        "id": "tpI3ZXTjIwEY"
      },
      "execution_count": null,
      "outputs": []
    },
    {
      "cell_type": "code",
      "source": [
        "from transformers import (\n",
        "    AutoModelForCausalLM,\n",
        "    AutoTokenizer,\n",
        "    BitsAndBytesConfig,\n",
        "    AutoTokenizer,\n",
        "    TrainingArguments,\n",
        ")"
      ],
      "metadata": {
        "id": "Yf9B26OQda-x"
      },
      "execution_count": null,
      "outputs": []
    },
    {
      "cell_type": "code",
      "source": [
        "#frankmorales2020/Mistral-7B-text-to-sql\n",
        "# Chose the base model you want\n",
        "#model_name = \"frankmorales2020/Mistral-7B-text-to-sql\" # 01/03/2023\n",
        "#frankmorales2020/Mistral-7B-text-to-sql-flash-attention-2\n",
        "model_name = \"frankmorales2020/Meta-Llama-3-8B-text-to-sql-flash-attention-2\" # 04/03/2024\n",
        "# set device\n",
        "device = 'cuda'\n",
        "#v Tokenizer\n",
        "tokenizer = AutoTokenizer.from_pretrained(model_name, use_fast=True)\n",
        "# We redefine the pad_token and pad_token_id with out of vocabulary token (unk_token)\n",
        "tokenizer.pad_token = tokenizer.unk_token\n",
        "tokenizer.pad_token_id = tokenizer.unk_token_id"
      ],
      "metadata": {
        "id": "fdUtev3tteeS"
      },
      "execution_count": null,
      "outputs": []
    },
    {
      "cell_type": "code",
      "source": [
        "import colab_env\n",
        "import os\n",
        "\n",
        "access_token_write = os.getenv(\"HUGGINGFACE_ACCESS_TOKEN_WRITE\")\n",
        "\n",
        "from huggingface_hub import login\n",
        "\n",
        "login(\n",
        "  token=access_token_write,\n",
        "  add_to_git_credential=True\n",
        ")"
      ],
      "metadata": {
        "colab": {
          "base_uri": "https://localhost:8080/"
        },
        "id": "hbozlFCt2SkF",
        "outputId": "f4cea1a7-7552-4889-d20b-a0393abd8534"
      },
      "execution_count": null,
      "outputs": [
        {
          "output_type": "stream",
          "name": "stdout",
          "text": [
            "Token is valid (permission: write).\n",
            "Your token has been saved in your configured git credential helpers (store).\n",
            "Your token has been saved to /root/.cache/huggingface/token\n",
            "Login successful\n"
          ]
        }
      ]
    },
    {
      "cell_type": "code",
      "source": [
        "!pip install huggingface_hub -q"
      ],
      "metadata": {
        "id": "wPO0lMPS5O_4"
      },
      "execution_count": null,
      "outputs": []
    },
    {
      "cell_type": "code",
      "source": [
        "from datasets import load_dataset\n",
        "from huggingface_hub import hf_hub_url"
      ],
      "metadata": {
        "id": "Uc_5yN_w5W9D"
      },
      "execution_count": null,
      "outputs": []
    },
    {
      "cell_type": "code",
      "source": [
        "from datasets import load_dataset\n",
        "\n",
        "# Convert dataset to OAI messages\n",
        "system_message = \"\"\"You are an text to SQL query translator. Users will ask you questions in English and you will generate a SQL query based on the provided SCHEMA.\n",
        "SCHEMA:\n",
        "{schema}\"\"\"\n",
        "\n",
        "def create_conversation(sample):\n",
        "  return {\n",
        "    \"messages\": [\n",
        "      {\"role\": \"system\", \"content\": system_message.format(schema=sample[\"context\"])},\n",
        "      {\"role\": \"user\", \"content\": sample[\"question\"]},\n",
        "      {\"role\": \"assistant\", \"content\": sample[\"answer\"]}\n",
        "    ]\n",
        "  }\n",
        "\n",
        "# Load dataset from the hub\n",
        "# jtjt520j/CSpider_sql_create_context\n",
        "# b-mc2/sql-create-context\n",
        "#dataset = load_dataset(\"jtjt520j/CSpider_sql_create_context\", split=\"train\")\n",
        "dataset = load_dataset(\"b-mc2/sql-create-context\", split=\"train\")\n",
        "dataset = dataset.shuffle().select(range(12500))\n",
        "\n",
        "# Convert dataset to OAI messages\n",
        "dataset = dataset.map(create_conversation, remove_columns=dataset.features,batched=False)\n",
        "# split dataset into 10,000 training samples and 2,500 test samples\n",
        "dataset = dataset.train_test_split(test_size=2500/12500)\n",
        "\n",
        "print(dataset[\"train\"][345][\"messages\"])\n",
        "\n",
        "# save datasets to disk\n",
        "dataset[\"train\"].to_json(\"train_dataset.json\", orient=\"records\")\n",
        "dataset[\"test\"].to_json(\"test_dataset.json\", orient=\"records\")"
      ],
      "metadata": {
        "id": "MUMfineCrFwL"
      },
      "execution_count": null,
      "outputs": []
    },
    {
      "cell_type": "code",
      "source": [
        "from datasets import load_dataset\n",
        "from random import randint\n",
        "\n",
        "# Load our test dataset and Tokenizer again\n",
        "#tokenizer = AutoTokenizer.from_pretrained(\"frankmorales2020/Mistral-7B-text-to-sql\") # 01/03/2024\n",
        "tokenizer = AutoTokenizer.from_pretrained(\"frankmorales2020/Mistral-7B-text-to-sql-flash-attention-2\") # 04/03/2024\n",
        "eval_dataset = load_dataset(\"json\", data_files=\"test_dataset.json\", split=\"train\")\n",
        "rand_idx = randint(0, len(eval_dataset))"
      ],
      "metadata": {
        "id": "_XVWkxeLvPE6"
      },
      "execution_count": null,
      "outputs": []
    },
    {
      "cell_type": "code",
      "source": [
        "# generate the same prompt as for the first local test\n",
        "prompt = tokenizer.apply_chat_template(eval_dataset[rand_idx][\"messages\"][:2], tokenize=False, add_generation_prompt=True)\n",
        "request= {\"inputs\":prompt,\"parameters\":{\"temperature\":0.2, \"top_p\": 0.95, \"max_new_tokens\": 256}}\n"
      ],
      "metadata": {
        "id": "sVbiAn0AzMWA"
      },
      "execution_count": null,
      "outputs": []
    },
    {
      "cell_type": "markdown",
      "source": [
        "Parameter-Efficient Fine-Tuning (PEFT)"
      ],
      "metadata": {
        "id": "_CHTz2mbMmo6"
      }
    },
    {
      "cell_type": "code",
      "source": [
        "import torch\n",
        "from peft import AutoPeftModelForCausalLM\n",
        "from transformers import AutoTokenizer, pipeline\n",
        "\n",
        "#peft_model_id = \"frankmorales2020/Mistral-7B-text-to-sql\" # 01/03/2024\n",
        "peft_model_id = \"frankmorales2020/Mistral-7B-text-to-sql-flash-attention-2\" # 04/03/2024 and 10/03/2024\n",
        "# peft_model_id = args.output_dir\n",
        "\n",
        "# Load Model with PEFT adapter\n",
        "model = AutoPeftModelForCausalLM.from_pretrained(\n",
        "  peft_model_id,\n",
        "  device_map=\"auto\",\n",
        "  torch_dtype=torch.float16\n",
        ")\n",
        "tokenizer = AutoTokenizer.from_pretrained(peft_model_id)\n",
        "# load into pipeline\n",
        "pipe = pipeline(\"text-generation\", model=model, tokenizer=tokenizer)"
      ],
      "metadata": {
        "id": "QjmQ26JLJJUL"
      },
      "execution_count": null,
      "outputs": []
    },
    {
      "cell_type": "code",
      "source": [
        "from datasets import load_dataset\n",
        "from random import randint\n",
        "\n",
        "\n",
        "# Load our test dataset\n",
        "eval_dataset = load_dataset(\"json\", data_files=\"test_dataset.json\", split=\"train\")\n",
        "rand_idx = randint(0, len(eval_dataset))\n",
        "\n",
        "# Test on sample\n",
        "prompt = pipe.tokenizer.apply_chat_template(eval_dataset[rand_idx][\"messages\"][:2], tokenize=False, add_generation_prompt=True)\n",
        "outputs = pipe(prompt, max_new_tokens=256, do_sample=False, temperature=0.1, top_k=50, top_p=0.1, eos_token_id=pipe.tokenizer.eos_token_id, pad_token_id=pipe.tokenizer.pad_token_id)"
      ],
      "metadata": {
        "id": "2FtqY5t6Icx7"
      },
      "execution_count": null,
      "outputs": []
    },
    {
      "cell_type": "code",
      "source": [
        "print(f\"Query:\\n{eval_dataset[rand_idx]['messages'][1]['content']}\")\n",
        "print(f\"Original Answer:\\n{eval_dataset[rand_idx]['messages'][2]['content']}\")\n",
        "print(f\"Generated Answer:\\n{outputs[0]['generated_text'][len(prompt):].strip()}\")"
      ],
      "metadata": {
        "colab": {
          "base_uri": "https://localhost:8080/"
        },
        "id": "_ZbazNTGIWAr",
        "outputId": "47a222ab-8b03-4ebc-ba61-d162f0c0f29b"
      },
      "execution_count": null,
      "outputs": [
        {
          "output_type": "stream",
          "name": "stdout",
          "text": [
            "Query:\n",
            "Name the transit passengers for 171078\n",
            "Original Answer:\n",
            "SELECT MAX(transit_passengers) FROM table_13836704_8 WHERE freight__metric_tonnes_ = 171078\n",
            "Generated Answer:\n",
            "SELECT MAX(transit_passengers) FROM table_13836704_8 WHERE freight__metric_tonnes_ = 171078\n"
          ]
        }
      ]
    },
    {
      "cell_type": "markdown",
      "source": [
        "https://huggingface.co/frankmorales2020"
      ],
      "metadata": {
        "id": "gqWUGU_3efW-"
      }
    },
    {
      "cell_type": "code",
      "source": [
        "from tqdm import tqdm\n",
        "\n",
        "# Load our test dataset\n",
        "eval_dataset = load_dataset(\"json\", data_files=\"test_dataset.json\", split=\"train\")\n",
        "rand_idx = randint(0, len(eval_dataset))\n",
        "\n",
        "def evaluate(sample):\n",
        "    prompt = pipe.tokenizer.apply_chat_template(sample[\"messages\"][:2], tokenize=False, add_generation_prompt=True)\n",
        "    outputs = pipe(prompt, max_new_tokens=256, do_sample=True, temperature=0.7, top_k=50, top_p=0.95, eos_token_id=pipe.tokenizer.eos_token_id, pad_token_id=pipe.tokenizer.pad_token_id)\n",
        "    predicted_answer = outputs[0]['generated_text'][len(prompt):].strip()\n",
        "    print()\n",
        "    print()\n",
        "    print('Question: %s\\n'%sample[\"messages\"][1][\"content\"])\n",
        "    #print(sample[\"messages\"][2][\"content\"])\n",
        "    #print('Predicted Answer: %s'%sample[\"messages\"][2][\"content\"])\n",
        "    print()\n",
        "    if predicted_answer == sample[\"messages\"][2][\"content\"]:\n",
        "        #print('Success!')\n",
        "        print('Success Answer: %s'%sample[\"messages\"][2][\"content\"])\n",
        "        return 1\n",
        "    else:\n",
        "        print('Real Answer: %s'%predicted_answer)\n",
        "        print('Failed Answer: %s'%sample[\"messages\"][2][\"content\"])\n",
        "        return 0\n",
        "\n",
        "success_rate = []\n",
        "\n",
        "number_of_eval_samples = 10\n",
        "# iterate over eval dataset and predict\n",
        "for s in tqdm(eval_dataset.shuffle().select(range(number_of_eval_samples))):\n",
        "    success_rate.append(evaluate(s))\n",
        "\n",
        "# compute accuracy\n",
        "accuracy = sum(success_rate)/len(success_rate)\n",
        "\n",
        "print(f\"Accuracy: {accuracy*100:.2f}%\")"
      ],
      "metadata": {
        "id": "gCz2VQnvHtrB",
        "colab": {
          "base_uri": "https://localhost:8080/"
        },
        "outputId": "abe45258-b196-4397-d5ad-7fd834988f72"
      },
      "execution_count": null,
      "outputs": [
        {
          "output_type": "stream",
          "name": "stderr",
          "text": [
            " 10%|█         | 1/10 [00:01<00:17,  1.94s/it]"
          ]
        },
        {
          "output_type": "stream",
          "name": "stdout",
          "text": [
            "\n",
            "\n",
            "Question: What yacht did Andrew Saies sail on?\n",
            "\n",
            "\n",
            "Success Answer: SELECT yacht FROM table_25561560_3 WHERE skipper = \"Andrew Saies\"\n"
          ]
        },
        {
          "output_type": "stream",
          "name": "stderr",
          "text": [
            "\r 20%|██        | 2/10 [00:05<00:25,  3.16s/it]"
          ]
        },
        {
          "output_type": "stream",
          "name": "stdout",
          "text": [
            "\n",
            "\n",
            "Question: What is the record at the opponent's venue against the team for which the record for the last 5 meetings is mu, 4-1 and the record at the neutral site is tied, 0-0?\n",
            "\n",
            "\n",
            "Success Answer: SELECT at_opponents_venue FROM table_16201038_4 WHERE last_5_meetings = \"MU, 4-1\" AND at_neutral_site = \"Tied, 0-0\"\n"
          ]
        },
        {
          "output_type": "stream",
          "name": "stderr",
          "text": [
            "\r 30%|███       | 3/10 [00:07<00:15,  2.24s/it]"
          ]
        },
        {
          "output_type": "stream",
          "name": "stdout",
          "text": [
            "\n",
            "\n",
            "Question: What is the finish of the year with start 5?\n",
            "\n",
            "\n",
            "Success Answer: SELECT finish FROM table_name_42 WHERE start = \"5\"\n"
          ]
        },
        {
          "output_type": "stream",
          "name": "stderr",
          "text": [
            "\r 40%|████      | 4/10 [00:09<00:13,  2.20s/it]"
          ]
        },
        {
          "output_type": "stream",
          "name": "stdout",
          "text": [
            "\n",
            "\n",
            "Question: What is the title of the film with production number 1553, directed by Friz Freleng?\n",
            "\n",
            "\n",
            "Success Answer: SELECT title FROM table_name_10 WHERE director = \"friz freleng\" AND production_number = 1553\n"
          ]
        },
        {
          "output_type": "stream",
          "name": "stderr",
          "text": [
            "\r 50%|█████     | 5/10 [00:11<00:11,  2.23s/it]"
          ]
        },
        {
          "output_type": "stream",
          "name": "stdout",
          "text": [
            "\n",
            "\n",
            "Question: Who is the candidate that had 10 fired in week 2 (1-27-2005)?\n",
            "\n",
            "\n",
            "Success Answer: SELECT candidate FROM table_name_45 WHERE result = \"10 fired in week 2 (1-27-2005)\"\n"
          ]
        },
        {
          "output_type": "stream",
          "name": "stderr",
          "text": [
            "\r 60%|██████    | 6/10 [00:13<00:08,  2.20s/it]"
          ]
        },
        {
          "output_type": "stream",
          "name": "stdout",
          "text": [
            "\n",
            "\n",
            "Question: What is the alpha 2  code for the area also known as NZL?\n",
            "\n",
            "\n",
            "Success Answer: SELECT alpha_2_code FROM table_222771_1 WHERE alpha_3_code = \"NZL\"\n"
          ]
        },
        {
          "output_type": "stream",
          "name": "stderr",
          "text": [
            "\r 70%|███████   | 7/10 [00:16<00:07,  2.41s/it]"
          ]
        },
        {
          "output_type": "stream",
          "name": "stdout",
          "text": [
            "\n",
            "\n",
            "Question: What station was sent on flight up and was launched on 23 July 1980 18:33:03?\n",
            "\n",
            "\n",
            "Success Answer: SELECT flight_up FROM table_245800_2 WHERE launch_date = \"23 July 1980 18:33:03\"\n"
          ]
        },
        {
          "output_type": "stream",
          "name": "stderr",
          "text": [
            "\r 80%|████████  | 8/10 [00:19<00:05,  2.57s/it]"
          ]
        },
        {
          "output_type": "stream",
          "name": "stdout",
          "text": [
            "\n",
            "\n",
            "Question: Count the Number of electorates (2009) that has a District of fatehpur and  jahanabad?\n",
            "\n",
            "\n",
            "Real Answer: SELECT MIN(number_of_electorates__2009_) FROM table_name_11 WHERE district = \"fatehpur\" AND name = \"jahanabad\"\n",
            "Failed Answer: SELECT SUM(number_of_electorates__2009_) FROM table_name_11 WHERE district = \"fatehpur\" AND name = \"jahanabad\"\n"
          ]
        },
        {
          "output_type": "stream",
          "name": "stderr",
          "text": [
            "\r 90%|█████████ | 9/10 [00:21<00:02,  2.46s/it]"
          ]
        },
        {
          "output_type": "stream",
          "name": "stdout",
          "text": [
            "\n",
            "\n",
            "Question: What transfer fee has both winter as the transfer window, and Madureira as the moving to?\n",
            "\n",
            "\n",
            "Success Answer: SELECT transfer_fee FROM table_name_68 WHERE transfer_window = \"winter\" AND moving_to = \"madureira\"\n"
          ]
        },
        {
          "output_type": "stream",
          "name": "stderr",
          "text": [
            "100%|██████████| 10/10 [00:23<00:00,  2.36s/it]"
          ]
        },
        {
          "output_type": "stream",
          "name": "stdout",
          "text": [
            "\n",
            "\n",
            "Question: Which Xenon has Neon of 20.1797(6)?\n",
            "\n",
            "\n",
            "Success Answer: SELECT xenon FROM table_name_25 WHERE neon = \"20.1797(6)\"\n",
            "Accuracy: 90.00%\n"
          ]
        },
        {
          "output_type": "stream",
          "name": "stderr",
          "text": [
            "\n"
          ]
        }
      ]
    },
    {
      "cell_type": "markdown",
      "source": [
        "When evaluated on 10 samples from the evaluation dataset, our model achieved an impressive accuracy of 90.00%.\n"
      ],
      "metadata": {
        "id": "tY18IMLqRcYB"
      }
    },
    {
      "cell_type": "code",
      "source": [
        "from tqdm import tqdm\n",
        "\n",
        "# Load our test dataset\n",
        "eval_dataset = load_dataset(\"json\", data_files=\"test_dataset.json\", split=\"train\")\n",
        "rand_idx = randint(0, len(eval_dataset))\n",
        "\n",
        "def evaluate(sample):\n",
        "    prompt = pipe.tokenizer.apply_chat_template(sample[\"messages\"][:2], tokenize=False, add_generation_prompt=True)\n",
        "    outputs = pipe(prompt, max_new_tokens=256, do_sample=True, temperature=0.7, top_k=50, top_p=0.95, eos_token_id=pipe.tokenizer.eos_token_id, pad_token_id=pipe.tokenizer.pad_token_id)\n",
        "    predicted_answer = outputs[0]['generated_text'][len(prompt):].strip()\n",
        "    if predicted_answer == sample[\"messages\"][2][\"content\"]:\n",
        "        return 1\n",
        "    else:\n",
        "        return 0\n",
        "\n",
        "success_rate = []\n",
        "number_of_eval_samples = 1000\n",
        "# iterate over eval dataset and predict\n",
        "for s in tqdm(eval_dataset.shuffle().select(range(number_of_eval_samples))):\n",
        "    success_rate.append(evaluate(s))\n",
        "\n",
        "# compute accuracy\n",
        "accuracy = sum(success_rate)/len(success_rate)\n",
        "\n",
        "print(f\"Accuracy: {accuracy*100:.2f}%\")"
      ],
      "metadata": {
        "id": "3Cw3dVgURRm8",
        "colab": {
          "base_uri": "https://localhost:8080/"
        },
        "outputId": "72089eb6-a4b4-4871-bb6a-29a505c7f7a3"
      },
      "execution_count": null,
      "outputs": [
        {
          "output_type": "stream",
          "name": "stderr",
          "text": [
            "100%|██████████| 1000/1000 [33:17<00:00,  2.00s/it]"
          ]
        },
        {
          "output_type": "stream",
          "name": "stdout",
          "text": [
            "Accuracy: 82.60%\n"
          ]
        },
        {
          "output_type": "stream",
          "name": "stderr",
          "text": [
            "\n"
          ]
        }
      ]
    },
    {
      "cell_type": "markdown",
      "source": [
        "\n",
        "When evaluated on 1000 samples from the evaluation dataset, our model achieved an impressive accuracy of 82.60%. However, there's room for improvement. We could enhance the model's performance by exploring techniques like few-shot learning, RAG, and Self-healing to generate the SQL query."
      ],
      "metadata": {
        "id": "AuRYHxX9f0zM"
      }
    }
  ]
}