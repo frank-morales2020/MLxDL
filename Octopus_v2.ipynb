{
  "nbformat": 4,
  "nbformat_minor": 0,
  "metadata": {
    "colab": {
      "provenance": [],
      "machine_shape": "hm",
      "gpuType": "T4",
      "authorship_tag": "ABX9TyMYpzUhdgrWfEB57LnHdEJ4",
      "include_colab_link": true
    },
    "kernelspec": {
      "name": "python3",
      "display_name": "Python 3"
    },
    "language_info": {
      "name": "python"
    },
    "accelerator": "GPU"
  },
  "cells": [
    {
      "cell_type": "markdown",
      "metadata": {
        "id": "view-in-github",
        "colab_type": "text"
      },
      "source": [
        "<a href=\"https://colab.research.google.com/github/frank-morales2020/MLxDL/blob/main/Octopus_v2.ipynb\" target=\"_parent\"><img src=\"https://colab.research.google.com/assets/colab-badge.svg\" alt=\"Open In Colab\"/></a>"
      ]
    },
    {
      "cell_type": "markdown",
      "source": [
        "https://huggingface.co/NexaAIDev/Octopus-v2"
      ],
      "metadata": {
        "id": "zvEtn04UD-QM"
      }
    },
    {
      "cell_type": "code",
      "source": [
        "!nvidia-smi"
      ],
      "metadata": {
        "colab": {
          "base_uri": "https://localhost:8080/"
        },
        "id": "LVOCx9yiL85A",
        "outputId": "5020e3fe-2d10-4d42-f7f8-c51cbb440537"
      },
      "execution_count": 1,
      "outputs": [
        {
          "output_type": "stream",
          "name": "stdout",
          "text": [
            "Wed May 29 16:56:43 2024       \n",
            "+---------------------------------------------------------------------------------------+\n",
            "| NVIDIA-SMI 535.104.05             Driver Version: 535.104.05   CUDA Version: 12.2     |\n",
            "|-----------------------------------------+----------------------+----------------------+\n",
            "| GPU  Name                 Persistence-M | Bus-Id        Disp.A | Volatile Uncorr. ECC |\n",
            "| Fan  Temp   Perf          Pwr:Usage/Cap |         Memory-Usage | GPU-Util  Compute M. |\n",
            "|                                         |                      |               MIG M. |\n",
            "|=========================================+======================+======================|\n",
            "|   0  Tesla T4                       Off | 00000000:00:04.0 Off |                    0 |\n",
            "| N/A   56C    P8              11W /  70W |      0MiB / 15360MiB |      0%      Default |\n",
            "|                                         |                      |                  N/A |\n",
            "+-----------------------------------------+----------------------+----------------------+\n",
            "                                                                                         \n",
            "+---------------------------------------------------------------------------------------+\n",
            "| Processes:                                                                            |\n",
            "|  GPU   GI   CI        PID   Type   Process name                            GPU Memory |\n",
            "|        ID   ID                                                             Usage      |\n",
            "|=======================================================================================|\n",
            "|  No running processes found                                                           |\n",
            "+---------------------------------------------------------------------------------------+\n"
          ]
        }
      ]
    },
    {
      "cell_type": "code",
      "source": [
        "!pip install accelerate -q"
      ],
      "metadata": {
        "id": "vNHkTV3yCsOu"
      },
      "execution_count": null,
      "outputs": []
    },
    {
      "cell_type": "code",
      "execution_count": null,
      "metadata": {
        "id": "VO1ipPsPCPDP"
      },
      "outputs": [],
      "source": [
        "from transformers import AutoTokenizer, GemmaForCausalLM\n",
        "import torch\n",
        "import time\n",
        "\n",
        "def inference(input_text):\n",
        "    start_time = time.time()\n",
        "    input_ids = tokenizer(input_text, return_tensors=\"pt\").to(model.device)\n",
        "    input_length = input_ids[\"input_ids\"].shape[1]\n",
        "    outputs = model.generate(\n",
        "        input_ids=input_ids[\"input_ids\"],\n",
        "        max_length=1024,\n",
        "        do_sample=False)\n",
        "    generated_sequence = outputs[:, input_length:].tolist()\n",
        "    res = tokenizer.decode(generated_sequence[0])\n",
        "    end_time = time.time()\n",
        "    return {\"output\": res, \"latency\": end_time - start_time}\n",
        "\n",
        "model_id = \"NexaAIDev/Octopus-v2\"\n",
        "tokenizer = AutoTokenizer.from_pretrained(model_id)\n",
        "model = GemmaForCausalLM.from_pretrained(\n",
        "    model_id, torch_dtype=torch.bfloat16, device_map=\"auto\"\n",
        ")\n"
      ]
    },
    {
      "cell_type": "code",
      "source": [
        "input_text = \"Take a selfie for me with front camera\"\n",
        "nexa_query = f\"Below is the query from the users, please call the correct function and generate the parameters to call the function.\\n\\nQuery: {input_text} \\n\\nResponse:\"\n",
        "print('query: %s'%nexa_query)\n",
        "response=inference(nexa_query)"
      ],
      "metadata": {
        "colab": {
          "base_uri": "https://localhost:8080/"
        },
        "id": "MYfNM-OrJUGu",
        "outputId": "7e3c8280-dd5d-47e5-92b8-7e08725a6b61"
      },
      "execution_count": 4,
      "outputs": [
        {
          "output_type": "stream",
          "name": "stdout",
          "text": [
            "query: Below is the query from the users, please call the correct function and generate the parameters to call the function.\n",
            "\n",
            "Query: Take a selfie for me with front camera \n",
            "\n",
            "Response:\n"
          ]
        }
      ]
    },
    {
      "cell_type": "code",
      "source": [
        "print(response['output'])"
      ],
      "metadata": {
        "colab": {
          "base_uri": "https://localhost:8080/"
        },
        "id": "sInMSaj4JYJ0",
        "outputId": "8cc4b8ae-2969-47e9-88a9-b150fb40a37c"
      },
      "execution_count": 5,
      "outputs": [
        {
          "output_type": "stream",
          "name": "stdout",
          "text": [
            " <nexa_0>('front')<nexa_end>\n",
            "\n",
            "Function description: \n",
            "def take_a_photo(camera):\n",
            "    \"\"\"\n",
            "    Captures a photo using the specified camera and resolution settings.\n",
            "\n",
            "    Parameters:\n",
            "    - camera (str): Specifies the camera to use. Can be 'front' or 'back'. The default is 'back'.\n",
            "\n",
            "    Returns:\n",
            "    - str: The string contains the file path of the captured photo if successful, or an error message if not. Example: '/storage/emulated/0/Pictures/MyApp/IMG_20240310_123456.jpg'\n",
            "    \"\"\"\n",
            "<eos>\n"
          ]
        }
      ]
    },
    {
      "cell_type": "code",
      "source": [
        "print(response['latency'])"
      ],
      "metadata": {
        "colab": {
          "base_uri": "https://localhost:8080/"
        },
        "id": "5ya1r7loJpaL",
        "outputId": "34fb57b3-46f3-4308-c399-26877b1a5a78"
      },
      "execution_count": 6,
      "outputs": [
        {
          "output_type": "stream",
          "name": "stdout",
          "text": [
            "9.091293096542358\n"
          ]
        }
      ]
    }
  ]
}