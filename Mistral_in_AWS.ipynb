{
  "nbformat": 4,
  "nbformat_minor": 0,
  "metadata": {
    "colab": {
      "provenance": [],
      "authorship_tag": "ABX9TyNHU+0AoOz0i+P6Eq5AnraD",
      "include_colab_link": true
    },
    "kernelspec": {
      "name": "python3",
      "display_name": "Python 3"
    },
    "language_info": {
      "name": "python"
    }
  },
  "cells": [
    {
      "cell_type": "markdown",
      "metadata": {
        "id": "view-in-github",
        "colab_type": "text"
      },
      "source": [
        "<a href=\"https://colab.research.google.com/github/frank-morales2020/MLxDL/blob/main/Mistral_in_AWS.ipynb\" target=\"_parent\"><img src=\"https://colab.research.google.com/assets/colab-badge.svg\" alt=\"Open In Colab\"/></a>"
      ]
    },
    {
      "cell_type": "code",
      "execution_count": 47,
      "metadata": {
        "colab": {
          "base_uri": "https://localhost:8080/"
        },
        "id": "gEEbeCwo3sz8",
        "outputId": "de8aa389-92bf-42b3-a6f6-6204c2e9ab22"
      },
      "outputs": [
        {
          "output_type": "stream",
          "name": "stdout",
          "text": [
            "---------!"
          ]
        }
      ],
      "source": [
        "# https://aws.amazon.com/blogs/machine-learning/mistral-7b-foundation-models-from-mistral-ai-are-now-available-in-amazon-sagemaker-jumpstart/\n",
        "\n",
        "#!pip install sagemaker\n",
        "#!pip install boto3\n",
        "#!pip install --upgrade urllib3\n",
        "#!pip install colab-env --upgrade\n",
        "\n",
        "import colab_env\n",
        "import boto3\n",
        "import sagemaker\n",
        "from sagemaker.jumpstart.model import JumpStartModel\n",
        "import os\n",
        "\n",
        "aws_access_key_id=os.getenv(\"AWS_ACCESS_KEY_ID\")\n",
        "aws_secret_access_key=os.getenv(\"AWS_SECRET_ACCESS_KEY\")\n",
        "region=os.getenv(\"region\")\n",
        "output=os.getenv(\"output\")\n",
        "\n",
        "iam_client = boto3.client(\"iam\")\n",
        "\n",
        "role = iam_client.get_role(\n",
        "    RoleName=os.getenv(\"ROLENAME\")\n",
        ")\n",
        "\n",
        "ROLE_ARN = role['Role']['Arn']\n",
        "\n",
        "#model_version=\n",
        "model = JumpStartModel(model_id=\"huggingface-llm-mistral-7b-instruct\", role=ROLE_ARN)\n",
        "predictor = model.deploy()"
      ]
    },
    {
      "cell_type": "code",
      "source": [
        "payload = {\"inputs\": \"<s>[INST] Hello! [/INST]\"}\n",
        "print(predictor.predict(payload))\n",
        "\n",
        "prompt = \"Tell me about Amazon SageMaker.\"\n",
        "\n",
        "prompt='I bought an ice cream for 6 kids. Each cone was $1.25 and I paid with a $10 bill. How many dollars did I get back? Explain first before answering.'\n",
        "\n",
        "def predict_sentiment(prompt):\n",
        "    payload = {\n",
        "        #{\"inputs\": \"<s>[INST]  \" + prompt + \" [/INST]\"},\n",
        "        \"inputs\": \"<s>[INST]  \" + prompt + \" [/INST]\",\n",
        "        \"parameters\": {\n",
        "            \"do_sample\": True,\n",
        "            \"top_p\": 0.9,\n",
        "            \"temperature\": 0.8,\n",
        "            \"max_new_tokens\": 1024,\n",
        "            #\"stop\": [\"<|endoftext|>\", \"</s>\"],\n",
        "        },\n",
        "    }\n",
        "    return predictor.predict(payload)\n",
        "\n",
        "\n",
        "sentiment = predict_sentiment(prompt)\n",
        "print(sentiment)\n",
        "\n",
        "#print(predictor.predict(payload))\n",
        "\n",
        "#> Input\n",
        "#Tweet: \"I get sad when my phone battery dies.\"\n",
        "#Sentiment: Negative\n",
        "\n",
        "payload = {\"inputs\": \"<s>[INST] Tweet: I get sad when my phone battery dies. [/INST]\"}\n",
        "#print(predictor.predict(payload))\n",
        "\n",
        "\n",
        "###\n",
        "#Tweet: \"My day has been :+1:\"\n",
        "#Sentiment: Positive\n",
        "\n",
        "###\n",
        "#Tweet: \"This is the link to the article\"\n",
        "#Sentiment: Neutral\n",
        "\n",
        "###\n",
        "#Tweet: \"This new music video was incredibile\"\n",
        "#Sentiment:\n",
        "\n",
        "payload = {\"inputs\": \"<s>[INST] Tweet: My day has been :+1: [/INST]\"}\n",
        "#print(predictor.predict(payload))\n",
        "\n",
        "payload = {\"inputs\": \"<s>[INST] This is the link to the article [/INST]\"}\n",
        "#print(predictor.predict(payload))\n",
        "\n",
        "print()\n",
        "\n",
        "input_str = \"This new music video was incredibile\"\n",
        "payload = {\"inputs\": \"<s>[INST]  \" + input_str + \" [/INST]\"}\n",
        "#print(predictor.predict(payload))\n",
        "\n",
        "\n",
        "input_str = 'What is the most likely reason the author states, \"cables are the vines of the city\"?'\n",
        "sentiment = predict_sentiment(input_str)\n",
        "print(sentiment)\n",
        "\n",
        "\n",
        "#payload='[INST] What is the most likely reason the author states, \"cables are the vines of the city\"? [/INST]'\n",
        "#print(predictor.predict(payload))\n",
        "\n",
        "input_str2='A rat is a rodent, the most common mammal in the world. Rattus norvegicus is one of the approximately four hundred different kinds of rodents, and it is known by many names, each of which describes a trait or a perceived trait or sometimes a habitat: the earth rat, the roving rat, the barn rat, the fi eld rat, the migratory rat, the house rat, the sewer rat, the water rat, the wharf rat, the alley rat, the gray rat, the brown rat, and the common rat. The average brown rat is large and stocky; it grows to be approximately sixteen inches \\\n",
        "long from its nose to its tail—the size of a large adult human male’s foot—and weighs about a pound, though brown rats have been measured by scientists and exterminators at twenty inches and up to two pounds. The brown rat is sometimes confused with the black rat, or Rattus rattus, which is smaller and once inhabited New York City and all of the cities of America but, since Rattus norvegicus pushed it out, is now relegated to a minor role. (The two species still survive alongside each other in some Southern coastal cities and on the West Coast, in places like Los Angeles, for example, where the black rat lives in attics and palm trees.) The black rat is always a very dark gray, almost black, \\\n",
        "and the brown rat is gray or brown, with a belly that can be light gray, yellow, or even a pure-seeming white. One spring, beneath the Brooklyn Bridge, I saw a red-haired brown rat that had been run over by a car. Both pet rats and laboratory rats are Rattus norvegicus, but they are not wild and therefore, I would emphasize, not the subject of this book. Sometimes pet rats are called fancy rats. But if anyone has picked up this book to learn about fancy rats, then they should put this book down right away; none of the rats mentioned herein are at all fancy. \\\n",
        "Rats are nocturnal, and out in the night the brown rat’s eyes are small and black and shiny; when a fl ashlight shines into them in the dark, the eyes of a rat light up like the eyes of a deer. Though it forages* in darkness, the brown rat has poor eyesight. It makes up for this with, fi rst of all, an excellent sense of smell. . . . They have an excellent sense of taste, detecting the most minute amounts of poison, down to one part per million. A brown rat has strong feet, the two front paws each equipped with four clawlike nails, the rear paws even longer and stronger. It can run and climb with squirrel-like agility. It is an excellent swimmer, surviving in rivers and bays, in sewer streams and toilet bowls. \\\n",
        "The brown rat’s teeth are yellow, the front two incisors being especially long and sharp, like buckteeth. When the brown rat bites, its front two teeth spread apart. When it gnaws, a fl ap of skin plugs the space behind its incisors. Hence, when the rat gnaws on indigestible materials—concrete or steel, for example—the shavings don’t go down the rat’s throat and kill it. Its incisors grow at a rate of fi ve inches per year. Rats always gnaw, and no one is certain why—there are few modern rat studies. It is sometimes erroneously stated that the rat gnaws solely to limit the length of its incisors, which would otherwise grow out of its head, but this is not the case: the incisors wear down naturally. In terms of hardness, the brown rat’s teeth are stronger than aluminum, copper, lead, and iron. They are comparable to steel. With the alligator-like structure of their jaws, rats can exert a biting pressure of up to seven thousand pounds per square inch. Rats, like mice, seem to be attracted to wires—to utility wires, computer wires, wires in vehicles, in addition to gas and water pipes. One rat expert theorizes that wires may be attractive to rats because of their resemblance to vines and the stalks of plants; cables are the vines of the city. By one estimate, 26 percent of all electric-cable breaks and 18 percent of all phone-cable disruptions are caused by rats. According to one study, as many as 25 percent of all fi res of unknown origin are rat-caused. Rats chew electrical cables. Sitting in a nest of tattered rags and newspapers, in the fl oorboards of an old tenement, \\\n",
        "a rat gnaws the head of a match—the lightning in the city forest.When it is not gnawing or feeding on trash, the brown rat digs. Anywhere there is dirt in a city, brown rats are likely to be digging—in parks, in fl owerbeds, in little dirt-poor backyards. They dig holes to enter buildings and to make nests. Rat nests can be in the floorboards of apartments, in the waste-stuffed corners of subway stations, in sewers, or beneath old furniture in basements. “Cluttered and unkempt alleyways in cities provide ideal rat habitat, especially those alleyways associated with food-serving establishments,” writes Robert Corrigan in Rodent Control, a pest control manual. “Alley rats can forage safely within the shadows created by the alleyway, as well as quickly retreat to the safety of cover in these narrow channels.” Often, rats burrow under concrete sidewalk slabs. Entrance to a typical under-the-sidewalk rat’s nest is gained through a two-inch-wide hole—their skeletons collapse and they can squeeze into a hole as small as three quarters of an inch wide, the average width of their skull. This tunnel then travels about a foot down to where it widens into a nest or den. The den is lined with soft debris, often shredded plastic garbage or shopping bags, but sometimes even grasses or plants; some rat nests have been found stuffed with the gnawed shavings of the wood-based, spring-loaded snap traps that are used in attempts to kill them. The back of the den then narrows into a long tunnel that opens up on another hole back on the street. This second hole is called a bolt hole; it is an emergency exit. A bolt hole is typically covered lightly with dirt or trash—camoufl age. Sometimes there are networks of burrows, which can stretch beneath a few concrete squares on a sidewalk, or a number of backyards, or even an entire city block—when Rattus norvegicus fi rst came to Selkirk, England, in 1776, there were so many burrows that people feared the town might sink. Rats can also nest in basements, sewers, manholes, abandoned pipes of any kind, fl oorboards, or any hole or depression. “Often,” Robert Corrigan writes, “‘city rats’ will live unbeknownst to people right beneath their feet.” \\\n",
        "Rats also inhabit subways, as most people in New York City and any city with a subway system are well aware. Every once in a while, there are reports of rats boarding trains, \\\n",
        "but for the most part rats stay on the tracks—subway workers \\\n",
        "I have talked to refer to rats as “track rabbits.” People tend to think that the subways are fi lled with rats, \\\n",
        "but in fact rats are not everywhere in the system; they live in the subways according to the supply of discarded \\\n",
        "human food and sewer leaks. Sometimes, rats use the subway purely for nesting purposes; they fi nd ways through \\\n",
        "the walls of the subway stations leading from the tracks to the restaurants and stores on the street—the vibrations of \\\n",
        " subway trains tend to create rat-size cracks and holes. Many subway rats tend to live near stations that are themselves near fast-food restaurants. At the various subway stations near Herald Square, for example, people come down from the streets and throw the food that they have not eaten onto the tracks, along with newspapers and soda bottles and, I have noticed, thousands of nolonger-charged AA batteries, waiting to leak acid. The rats eat freely from the waste and sit at the side of the little streams of creamy brown sewery water that fl ows between the rails. They sip the water the way rats do, either with their front paws or by scooping it up with their incisors. \\\n",
        "What is the most likely reason the author states, \"cables are the vines of the city\"?'\n",
        "\n",
        "\n",
        "sentiment = predict_sentiment(input_str2)\n",
        "print(sentiment)\n",
        "\n",
        "\n",
        "\n",
        "#> Output\n",
        "#1. The author states that rats are attracted to wires, such as utility wires, computer wires, and vehicle wires, which may be due to their resemblance to vines and the stalks of plants.\n",
        "\n",
        "#print(model.env)\n",
        "\n",
        "print(model.env[\"MAX_TOTAL_TOKENS\"])\n",
        "\n",
        "#model.env[\"MAX_TOTAL_TOKENS\"] = \"16000\"\n",
        "\n",
        "\n",
        "#model.env[\"MAX_CONCURRENT_REQUESTS\"] = \"4\"\n",
        "#print(model.env)\n",
        "\n",
        "#predictor.delete_model()\n",
        "#predictor.delete_endpoint()\n",
        "\n"
      ],
      "metadata": {
        "colab": {
          "base_uri": "https://localhost:8080/"
        },
        "id": "Ijaf83ka82wt",
        "outputId": "ab1630cb-8b3f-4bfb-d689-14a8eb9268b6"
      },
      "execution_count": 64,
      "outputs": [
        {
          "output_type": "stream",
          "name": "stdout",
          "text": [
            "[{'generated_text': ' Hello! How can I help you today?'}]\n",
            "[{'generated_text': \" Let's think through this step-by-step:\\n\\n1. You bought an ice cream for each of 6 kids, which cost $1.25 per cone. So, the total cost of the ice creams is 6 * $1.25 = $7.50.\\n2. You paid for the ice creams with a $10 bill. When you pay with a bill, the change you get back is the difference between the amount you paid and the total cost of the ice creams.\\n3. In this case, the change you got back is $10 - $7.50 = $2.50.\\n\\nSo, you got back $2.50 in change.\"}]\n",
            "\n",
            "[{'generated_text': ' The most likely reason the author states, \"cables are the vines of the city\" is to draw a comparison between the intricate network of cables that run through the city and the way vines grow and intertwine. This simile could be used to emphasize the extensive and interconnected nature of the city\\'s infrastructure or to suggest that the city\\'s technological systems have become so integrated that they resemble a natural organism.'}]\n",
            "[{'generated_text': ' The most likely reason the author states, \"cables are the vines of the city\" is that rats are attracted to wires, including electrical and phone cables, and often gnaw on them, causing damage and disruptions. The author suggests that this may be because rats see the wires as a substitute for vines or plants, which are natural habitats for rodents.'}]\n",
            "8192\n"
          ]
        }
      ]
    }
  ]
}