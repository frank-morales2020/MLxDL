{
  "nbformat": 4,
  "nbformat_minor": 0,
  "metadata": {
    "colab": {
      "provenance": [],
      "authorship_tag": "ABX9TyP4u+CKLiBhixSrJ7um2eue",
      "include_colab_link": true
    },
    "kernelspec": {
      "name": "python3",
      "display_name": "Python 3"
    },
    "language_info": {
      "name": "python"
    }
  },
  "cells": [
    {
      "cell_type": "markdown",
      "metadata": {
        "id": "view-in-github",
        "colab_type": "text"
      },
      "source": [
        "<a href=\"https://colab.research.google.com/github/frank-morales2020/MLxDL/blob/main/Mistral_in_AWS.ipynb\" target=\"_parent\"><img src=\"https://colab.research.google.com/assets/colab-badge.svg\" alt=\"Open In Colab\"/></a>"
      ]
    },
    {
      "cell_type": "markdown",
      "source": [
        "##PREPARATION AND INTRODUCTION TBD##"
      ],
      "metadata": {
        "id": "uJSDkT0Zjlgc"
      }
    },
    {
      "cell_type": "code",
      "execution_count": 17,
      "metadata": {
        "colab": {
          "base_uri": "https://localhost:8080/"
        },
        "id": "gEEbeCwo3sz8",
        "outputId": "c4b0dfe5-acb2-4da3-c6b5-4b8e7d7bafcb"
      },
      "outputs": [
        {
          "output_type": "stream",
          "name": "stdout",
          "text": [
            "--------!"
          ]
        }
      ],
      "source": [
        "\n",
        "# https://aws.amazon.com/blogs/machine-learning/mistral-7b-foundation-models-from-mistral-ai-are-now-available-in-amazon-sagemaker-jumpstart/\n",
        "# https://github.com/mistralai/mistral-src\n",
        "\n",
        "#It looks great\n",
        "# https://mistral.ai/news/mixtral-of-experts/\n",
        "\n",
        "# https://www.nytimes.com/2023/12/10/technology/mistral-ai-funding.html\n",
        "\n",
        "# https://aws.amazon.com/blogs/machine-learning/mistral-7b-foundation-models-from-mistral-ai-are-now-available-in-amazon-sagemaker-jumpstart/\n",
        "\n",
        "#!pip install sagemaker\n",
        "#!pip install boto3\n",
        "#!pip install --upgrade urllib3\n",
        "#!pip install colab-env --upgrade\n",
        "\n",
        "import colab_env\n",
        "import boto3\n",
        "import sagemaker\n",
        "from sagemaker.jumpstart.model import JumpStartModel\n",
        "import os\n",
        "\n",
        "aws_access_key_id=os.getenv(\"AWS_ACCESS_KEY_ID\")\n",
        "aws_secret_access_key=os.getenv(\"AWS_SECRET_ACCESS_KEY\")\n",
        "region=os.getenv(\"region\")\n",
        "output=os.getenv(\"output\")\n",
        "\n",
        "iam_client = boto3.client(\"iam\")\n",
        "\n",
        "role = iam_client.get_role(\n",
        "    RoleName=os.getenv(\"ROLENAME\")\n",
        ")\n",
        "\n",
        "ROLE_ARN = role['Role']['Arn']\n",
        "\n",
        "model_version='2.0.0'\n",
        "model = JumpStartModel(model_id=\"huggingface-llm-mistral-7b-instruct\", model_version='2.0.0', role=ROLE_ARN)\n",
        "predictor = model.deploy()"
      ]
    },
    {
      "cell_type": "markdown",
      "source": [
        "##PROMPT AND VALIDATION\"\""
      ],
      "metadata": {
        "id": "XjkX2lqFjUen"
      }
    },
    {
      "cell_type": "code",
      "source": [
        "payload = {\"inputs\": \"<s>[INST] Hello! [/INST]\"}\n",
        "#print(predictor.predict(payload))\n",
        "\n",
        "#prompt = \"Tell me about Amazon SageMaker.\"\n",
        "\n",
        "#endpoint_name=model.endpoint_name\n",
        "\n",
        "import json\n",
        "\n",
        "def predict_sentiment(prompt):\n",
        "    payload = {\n",
        "        \"inputs\": \"<s>[INST]  \" + prompt + \" [/INST]\",\n",
        "        \"parameters\": {\n",
        "            \"do_sample\": True,\n",
        "            \"top_p\": 0.9,\n",
        "            \"temperature\": 1.0,\n",
        "            \"max_new_tokens\": 512,\n",
        "            \"stop\": [\"<|endoftext|>\", \"</s>\"],\n",
        "        },\n",
        "    }\n",
        "    #input_str = json.dumps(payload)\n",
        "    return predictor.predict(payload)\n",
        "\n",
        "print('TESTING of the Mistral LLM running hosted in AWS WITH THE CODE RUNNING FROM GOOGLE CLOUD with Google Colab')\n",
        "prompt1='I bought an ice cream for 6 kids. Each cone was $1.25 and I paid with a $10 bill. How many dollars did I get back? Explain first before answering.'\n",
        "print()\n",
        "print('Prompt #1: %s'%prompt1)\n",
        "print()\n",
        "sentiment = predict_sentiment(prompt1)\n",
        "s=sentiment[0]\n",
        "print(s['generated_text'])\n",
        "#print(sentiment)\n",
        "print()\n",
        "\n",
        "\n",
        "#print(predictor.predict(payload))\n",
        "\n",
        "#> Input\n",
        "#Tweet: \"I get sad when my phone battery dies.\"\n",
        "#Sentiment: Negative\n",
        "\n",
        "payload = {\"inputs\": \"<s>[INST] Tweet: I get sad when my phone battery dies. [/INST]\"}\n",
        "#print(predictor.predict(payload))\n",
        "\n",
        "###\n",
        "#Tweet: \"My day has been :+1:\"\n",
        "#Sentiment: Positive\n",
        "\n",
        "###\n",
        "#Tweet: \"This is the link to the article\"\n",
        "#Sentiment: Neutral\n",
        "\n",
        "###\n",
        "#Tweet: \"This new music video was incredibile\"\n",
        "#Sentiment:\n",
        "\n",
        "payload = {\"inputs\": \"<s>[INST] Tweet: My day has been :+1: [/INST]\"}\n",
        "#print(predictor.predict(payload))\n",
        "\n",
        "payload = {\"inputs\": \"<s>[INST] This is the link to the article [/INST]\"}\n",
        "#print(predictor.predict(payload))\n",
        "\n",
        "print()\n",
        "prompt2 = \"This new music video was incredibile\"\n",
        "print()\n",
        "print('Prompt #2: %s'%prompt2)\n",
        "print()\n",
        "sentiment = predict_sentiment(prompt2)\n",
        "s=sentiment[0]\n",
        "print(s['generated_text'])\n",
        "#print(sentiment)\n",
        "print()\n",
        "\n",
        "prompt3='A rat is a rodent, the most common mammal in the world. Rattus norvegicus is one of the approximately four hundred different kinds of rodents, and it is known by many names, each of which describes a trait or a perceived trait or sometimes a habitat: the earth rat, the roving rat, the barn rat, the fi eld rat, the migratory rat, the house rat, the sewer rat, the water rat, the wharf rat, the alley rat, the gray rat, the brown rat, and the common rat. The average brown rat is large and stocky; it grows to be approximately sixteen inches \\\n",
        "long from its nose to its tail—the size of a large adult human male’s foot—and weighs about a pound, though brown rats have been measured by scientists and exterminators at twenty inches and up to two pounds. The brown rat is sometimes confused with the black rat, or Rattus rattus, which is smaller and once inhabited New York City and all of the cities of America but, since Rattus norvegicus pushed it out, is now relegated to a minor role. (The two species still survive alongside each other in some Southern coastal cities and on the West Coast, in places like Los Angeles, for example, where the black rat lives in attics and palm trees.) The black rat is always a very dark gray, almost black, \\\n",
        "and the brown rat is gray or brown, with a belly that can be light gray, yellow, or even a pure-seeming white. One spring, beneath the Brooklyn Bridge, I saw a red-haired brown rat that had been run over by a car. Both pet rats and laboratory rats are Rattus norvegicus, but they are not wild and therefore, I would emphasize, not the subject of this book. Sometimes pet rats are called fancy rats. But if anyone has picked up this book to learn about fancy rats, then they should put this book down right away; none of the rats mentioned herein are at all fancy. \\\n",
        "Rats are nocturnal, and out in the night the brown rat’s eyes are small and black and shiny; when a fl ashlight shines into them in the dark, the eyes of a rat light up like the eyes of a deer. Though it forages* in darkness, the brown rat has poor eyesight. It makes up for this with, fi rst of all, an excellent sense of smell. . . . They have an excellent sense of taste, detecting the most minute amounts of poison, down to one part per million. A brown rat has strong feet, the two front paws each equipped with four clawlike nails, the rear paws even longer and stronger. It can run and climb with squirrel-like agility. It is an excellent swimmer, surviving in rivers and bays, in sewer streams and toilet bowls. \\\n",
        "The brown rat’s teeth are yellow, the front two incisors being especially long and sharp, like buckteeth. When the brown rat bites, its front two teeth spread apart. When it gnaws, a fl ap of skin plugs the space behind its incisors. Hence, when the rat gnaws on indigestible materials—concrete or steel, for example—the shavings don’t go down the rat’s throat and kill it. Its incisors grow at a rate of fi ve inches per year. Rats always gnaw, and no one is certain why—there are few modern rat studies. It is sometimes erroneously stated that the rat gnaws solely to limit the length of its incisors, which would otherwise grow out of its head, but this is not the case: the incisors wear down naturally. In terms of hardness, the brown rat’s teeth are stronger than aluminum, copper, lead, and iron. They are comparable to steel. With the alligator-like structure of their jaws, rats can exert a biting pressure of up to seven thousand pounds per square inch. Rats, like mice, seem to be attracted to wires—to utility wires, computer wires, wires in vehicles, in addition to gas and water pipes. One rat expert theorizes that wires may be attractive to rats because of their resemblance to vines and the stalks of plants; cables are the vines of the city. By one estimate, 26 percent of all electric-cable breaks and 18 percent of all phone-cable disruptions are caused by rats. According to one study, as many as 25 percent of all fi res of unknown origin are rat-caused. Rats chew electrical cables. Sitting in a nest of tattered rags and newspapers, in the fl oorboards of an old tenement, \\\n",
        "a rat gnaws the head of a match—the lightning in the city forest.When it is not gnawing or feeding on trash, the brown rat digs. Anywhere there is dirt in a city, brown rats are likely to be digging—in parks, in fl owerbeds, in little dirt-poor backyards. They dig holes to enter buildings and to make nests. Rat nests can be in the floorboards of apartments, in the waste-stuffed corners of subway stations, in sewers, or beneath old furniture in basements. “Cluttered and unkempt alleyways in cities provide ideal rat habitat, especially those alleyways associated with food-serving establishments,” writes Robert Corrigan in Rodent Control, a pest control manual. “Alley rats can forage safely within the shadows created by the alleyway, as well as quickly retreat to the safety of cover in these narrow channels.” Often, rats burrow under concrete sidewalk slabs. Entrance to a typical under-the-sidewalk rat’s nest is gained through a two-inch-wide hole—their skeletons collapse and they can squeeze into a hole as small as three quarters of an inch wide, the average width of their skull. This tunnel then travels about a foot down to where it widens into a nest or den. The den is lined with soft debris, often shredded plastic garbage or shopping bags, but sometimes even grasses or plants; some rat nests have been found stuffed with the gnawed shavings of the wood-based, spring-loaded snap traps that are used in attempts to kill them. The back of the den then narrows into a long tunnel that opens up on another hole back on the street. This second hole is called a bolt hole; it is an emergency exit. A bolt hole is typically covered lightly with dirt or trash—camoufl age. Sometimes there are networks of burrows, which can stretch beneath a few concrete squares on a sidewalk, or a number of backyards, or even an entire city block—when Rattus norvegicus fi rst came to Selkirk, England, in 1776, there were so many burrows that people feared the town might sink. Rats can also nest in basements, sewers, manholes, abandoned pipes of any kind, fl oorboards, or any hole or depression. “Often,” Robert Corrigan writes, “‘city rats’ will live unbeknownst to people right beneath their feet.” \\\n",
        "Rats also inhabit subways, as most people in New York City and any city with a subway system are well aware. Every once in a while, there are reports of rats boarding trains, \\\n",
        "but for the most part rats stay on the tracks—subway workers \\\n",
        "I have talked to refer to rats as “track rabbits.” People tend to think that the subways are fi lled with rats, \\\n",
        "but in fact rats are not everywhere in the system; they live in the subways according to the supply of discarded \\\n",
        "human food and sewer leaks. Sometimes, rats use the subway purely for nesting purposes; they fi nd ways through \\\n",
        "the walls of the subway stations leading from the tracks to the restaurants and stores on the street—the vibrations of \\\n",
        " subway trains tend to create rat-size cracks and holes. Many subway rats tend to live near stations that are themselves near fast-food restaurants. At the various subway stations near Herald Square, for example, people come down from the streets and throw the food that they have not eaten onto the tracks, along with newspapers and soda bottles and, I have noticed, thousands of nolonger-charged AA batteries, waiting to leak acid. The rats eat freely from the waste and sit at the side of the little streams of creamy brown sewery water that fl ows between the rails. They sip the water the way rats do, either with their front paws or by scooping it up with their incisors. \\\n",
        "What is the most likely reason the author states, \"cables are the vines of the city\"?'\n",
        "\n",
        "print()\n",
        "print('Prompt #3: %s'%prompt3)\n",
        "print()\n",
        "sentiment = predict_sentiment(prompt3)\n",
        "s=sentiment[0]\n",
        "print(s['generated_text'])\n",
        "#print(sentiment)\n",
        "print()\n",
        "\n",
        "prompt4='Which country has the most natural lakes? Answer with only the country name.'\n",
        "print()\n",
        "print('Prompt #4: %s'%prompt4)\n",
        "print()\n",
        "sentiment = predict_sentiment(prompt4)\n",
        "s=sentiment[0]\n",
        "print(s['generated_text'])\n",
        "#print(sentiment[0])\n",
        "\n",
        "sagemaker_runtime = boto3.client(\n",
        "    service_name='sagemaker-runtime',\n",
        "    region_name=region\n",
        ")\n",
        "\n",
        "\n",
        "#predictor.delete_model()\n",
        "#predictor.delete_endpoint()\n",
        "\n"
      ],
      "metadata": {
        "id": "Ijaf83ka82wt",
        "colab": {
          "base_uri": "https://localhost:8080/"
        },
        "outputId": "a5159ac6-cbaf-4521-b33c-01b1bb9a1551"
      },
      "execution_count": 21,
      "outputs": [
        {
          "output_type": "stream",
          "name": "stdout",
          "text": [
            "TESTING of the Mistral LLM running hosted in AWS WITH THE CODE RUNNING FROM GOOGLE CLOUD with Google Colab\n",
            "\n",
            "Prompt #1: I bought an ice cream for 6 kids. Each cone was $1.25 and I paid with a $10 bill. How many dollars did I get back? Explain first before answering.\n",
            "\n",
            " Let's go through this step-by-step:\n",
            "\n",
            "1. You bought an ice cream for 6 kids, so the total cost of the ice creams would be:\n",
            "\n",
            "Cost of Ice Cream = Number of Kids * Cost per Cone\n",
            "Cost of Ice Cream = 6 * $1.25\n",
            "Cost of Ice Cream = $7.50\n",
            "\n",
            "2. You paid for the ice creams with a $10 bill. When you pay with a bill larger than the cost, you get back the difference in coins. In this case, you get back:\n",
            "\n",
            "Money Back = $10 - Cost of Ice Cream\n",
            "Money Back = $10 - $7.50\n",
            "Money Back = $2.50\n",
            "\n",
            "So, you got back $2.50 in coins.\n",
            "\n",
            "\n",
            "\n",
            "Prompt #2: This new music video was incredibile\n",
            "\n",
            " I'm glad to hear that you enjoyed the new music video! Is there a specific song or artist you'd like to know more about?\n",
            "\n",
            "\n",
            "Prompt #3: A rat is a rodent, the most common mammal in the world. Rattus norvegicus is one of the approximately four hundred different kinds of rodents, and it is known by many names, each of which describes a trait or a perceived trait or sometimes a habitat: the earth rat, the roving rat, the barn rat, the fi eld rat, the migratory rat, the house rat, the sewer rat, the water rat, the wharf rat, the alley rat, the gray rat, the brown rat, and the common rat. The average brown rat is large and stocky; it grows to be approximately sixteen inches long from its nose to its tail—the size of a large adult human male’s foot—and weighs about a pound, though brown rats have been measured by scientists and exterminators at twenty inches and up to two pounds. The brown rat is sometimes confused with the black rat, or Rattus rattus, which is smaller and once inhabited New York City and all of the cities of America but, since Rattus norvegicus pushed it out, is now relegated to a minor role. (The two species still survive alongside each other in some Southern coastal cities and on the West Coast, in places like Los Angeles, for example, where the black rat lives in attics and palm trees.) The black rat is always a very dark gray, almost black, and the brown rat is gray or brown, with a belly that can be light gray, yellow, or even a pure-seeming white. One spring, beneath the Brooklyn Bridge, I saw a red-haired brown rat that had been run over by a car. Both pet rats and laboratory rats are Rattus norvegicus, but they are not wild and therefore, I would emphasize, not the subject of this book. Sometimes pet rats are called fancy rats. But if anyone has picked up this book to learn about fancy rats, then they should put this book down right away; none of the rats mentioned herein are at all fancy. Rats are nocturnal, and out in the night the brown rat’s eyes are small and black and shiny; when a fl ashlight shines into them in the dark, the eyes of a rat light up like the eyes of a deer. Though it forages* in darkness, the brown rat has poor eyesight. It makes up for this with, fi rst of all, an excellent sense of smell. . . . They have an excellent sense of taste, detecting the most minute amounts of poison, down to one part per million. A brown rat has strong feet, the two front paws each equipped with four clawlike nails, the rear paws even longer and stronger. It can run and climb with squirrel-like agility. It is an excellent swimmer, surviving in rivers and bays, in sewer streams and toilet bowls. The brown rat’s teeth are yellow, the front two incisors being especially long and sharp, like buckteeth. When the brown rat bites, its front two teeth spread apart. When it gnaws, a fl ap of skin plugs the space behind its incisors. Hence, when the rat gnaws on indigestible materials—concrete or steel, for example—the shavings don’t go down the rat’s throat and kill it. Its incisors grow at a rate of fi ve inches per year. Rats always gnaw, and no one is certain why—there are few modern rat studies. It is sometimes erroneously stated that the rat gnaws solely to limit the length of its incisors, which would otherwise grow out of its head, but this is not the case: the incisors wear down naturally. In terms of hardness, the brown rat’s teeth are stronger than aluminum, copper, lead, and iron. They are comparable to steel. With the alligator-like structure of their jaws, rats can exert a biting pressure of up to seven thousand pounds per square inch. Rats, like mice, seem to be attracted to wires—to utility wires, computer wires, wires in vehicles, in addition to gas and water pipes. One rat expert theorizes that wires may be attractive to rats because of their resemblance to vines and the stalks of plants; cables are the vines of the city. By one estimate, 26 percent of all electric-cable breaks and 18 percent of all phone-cable disruptions are caused by rats. According to one study, as many as 25 percent of all fi res of unknown origin are rat-caused. Rats chew electrical cables. Sitting in a nest of tattered rags and newspapers, in the fl oorboards of an old tenement, a rat gnaws the head of a match—the lightning in the city forest.When it is not gnawing or feeding on trash, the brown rat digs. Anywhere there is dirt in a city, brown rats are likely to be digging—in parks, in fl owerbeds, in little dirt-poor backyards. They dig holes to enter buildings and to make nests. Rat nests can be in the floorboards of apartments, in the waste-stuffed corners of subway stations, in sewers, or beneath old furniture in basements. “Cluttered and unkempt alleyways in cities provide ideal rat habitat, especially those alleyways associated with food-serving establishments,” writes Robert Corrigan in Rodent Control, a pest control manual. “Alley rats can forage safely within the shadows created by the alleyway, as well as quickly retreat to the safety of cover in these narrow channels.” Often, rats burrow under concrete sidewalk slabs. Entrance to a typical under-the-sidewalk rat’s nest is gained through a two-inch-wide hole—their skeletons collapse and they can squeeze into a hole as small as three quarters of an inch wide, the average width of their skull. This tunnel then travels about a foot down to where it widens into a nest or den. The den is lined with soft debris, often shredded plastic garbage or shopping bags, but sometimes even grasses or plants; some rat nests have been found stuffed with the gnawed shavings of the wood-based, spring-loaded snap traps that are used in attempts to kill them. The back of the den then narrows into a long tunnel that opens up on another hole back on the street. This second hole is called a bolt hole; it is an emergency exit. A bolt hole is typically covered lightly with dirt or trash—camoufl age. Sometimes there are networks of burrows, which can stretch beneath a few concrete squares on a sidewalk, or a number of backyards, or even an entire city block—when Rattus norvegicus fi rst came to Selkirk, England, in 1776, there were so many burrows that people feared the town might sink. Rats can also nest in basements, sewers, manholes, abandoned pipes of any kind, fl oorboards, or any hole or depression. “Often,” Robert Corrigan writes, “‘city rats’ will live unbeknownst to people right beneath their feet.” Rats also inhabit subways, as most people in New York City and any city with a subway system are well aware. Every once in a while, there are reports of rats boarding trains, but for the most part rats stay on the tracks—subway workers I have talked to refer to rats as “track rabbits.” People tend to think that the subways are fi lled with rats, but in fact rats are not everywhere in the system; they live in the subways according to the supply of discarded human food and sewer leaks. Sometimes, rats use the subway purely for nesting purposes; they fi nd ways through the walls of the subway stations leading from the tracks to the restaurants and stores on the street—the vibrations of  subway trains tend to create rat-size cracks and holes. Many subway rats tend to live near stations that are themselves near fast-food restaurants. At the various subway stations near Herald Square, for example, people come down from the streets and throw the food that they have not eaten onto the tracks, along with newspapers and soda bottles and, I have noticed, thousands of nolonger-charged AA batteries, waiting to leak acid. The rats eat freely from the waste and sit at the side of the little streams of creamy brown sewery water that fl ows between the rails. They sip the water the way rats do, either with their front paws or by scooping it up with their incisors. What is the most likely reason the author states, \"cables are the vines of the city\"?\n",
            "\n",
            " The most likely reason the author states, \"cables are the vines of the city\" is that rats are attracted to wires, possibly due to their resemblance to vines and the stalks of plants.\n",
            "\n",
            "\n",
            "Prompt #4: Which country has the most natural lakes? Answer with only the country name.\n",
            "\n",
            " Canada\n"
          ]
        }
      ]
    },
    {
      "cell_type": "markdown",
      "source": [
        "##CLEAN UP##"
      ],
      "metadata": {
        "id": "US4T-TG0i6Fm"
      }
    },
    {
      "cell_type": "code",
      "source": [
        "\n",
        "#  Frank Morales created this cell on December 14, 2023; it fully allows automatically the deletion of endpoints, models, and endpoint configurations.\n",
        "## TODO create a function for the loop\n",
        "\n",
        "aws_region = 'us-east-1'\n",
        "import boto3\n",
        "\n",
        "sagemaker_client = boto3.client('sagemaker', region_name=aws_region)\n",
        "\n",
        "print('')\n",
        "print('Endpoints')\n",
        "response=sagemaker_client.list_endpoints()\n",
        "number_of_endpoints=len(response['Endpoints'])\n",
        "for i in range(number_of_endpoints):\n",
        "    print(response['Endpoints'][i]['EndpointName'])\n",
        "    endpoint_name=response['Endpoints'][i]['EndpointName']\n",
        "    sagemaker_client.delete_endpoint(EndpointName=endpoint_name)\n",
        "\n",
        "\n",
        "print('')\n",
        "print('Models')\n",
        "response_models=sagemaker_client.list_models()\n",
        "for i in range(len((response_models['Models']))):\n",
        "    print(response_models['Models'][i]['ModelName'])\n",
        "    sagemaker_client.delete_model(ModelName=response_models['Models'][i]['ModelName'])\n",
        "\n",
        "\n",
        "print('')\n",
        "print('EndpointConfigs')\n",
        "response_configs=sagemaker_client.list_endpoint_configs()\n",
        "for i in range(len((response_configs['EndpointConfigs']))):\n",
        "    print(response_configs['EndpointConfigs'][i]['EndpointConfigName'])\n",
        "    sagemaker_client.delete_endpoint_config(EndpointConfigName=response_configs['EndpointConfigs'][i]['EndpointConfigName'])"
      ],
      "metadata": {
        "colab": {
          "base_uri": "https://localhost:8080/"
        },
        "id": "a2zzj1YOjHlG",
        "outputId": "72051c97-d306-4d62-c318-854c8db26bf9"
      },
      "execution_count": 22,
      "outputs": [
        {
          "output_type": "stream",
          "name": "stdout",
          "text": [
            "\n",
            "Endpoints\n",
            "hf-llm-mistral-7b-instruct-2023-12-16-19-00-09-466\n",
            "\n",
            "Models\n",
            "hf-llm-mistral-7b-instruct-2023-12-16-19-00-09-464\n",
            "\n",
            "EndpointConfigs\n",
            "hf-llm-mistral-7b-instruct-2023-12-16-19-00-09-466\n"
          ]
        }
      ]
    }
  ]
}