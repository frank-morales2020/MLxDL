{
  "nbformat": 4,
  "nbformat_minor": 0,
  "metadata": {
    "colab": {
      "provenance": [],
      "authorship_tag": "ABX9TyMl6LnG0NYSAuz9O4MtMh/E",
      "include_colab_link": true
    },
    "kernelspec": {
      "name": "python3",
      "display_name": "Python 3"
    },
    "language_info": {
      "name": "python"
    }
  },
  "cells": [
    {
      "cell_type": "markdown",
      "metadata": {
        "id": "view-in-github",
        "colab_type": "text"
      },
      "source": [
        "<a href=\"https://colab.research.google.com/github/frank-morales2020/MLxDL/blob/main/MoME_demo.ipynb\" target=\"_parent\"><img src=\"https://colab.research.google.com/assets/colab-badge.svg\" alt=\"Open In Colab\"/></a>"
      ]
    },
    {
      "cell_type": "code",
      "source": [
        "!pip install colab-env --upgrade -q\n",
        "!pip install --upgrade openai httpx==0.27.2 -q # Downgrade httpx to a compatible version"
      ],
      "metadata": {
        "id": "oM3a75cLdTKm"
      },
      "execution_count": null,
      "outputs": []
    },
    {
      "cell_type": "code",
      "execution_count": 4,
      "metadata": {
        "id": "mczLPVH0c-GL"
      },
      "outputs": [],
      "source": [
        "import openai\n",
        "import torch\n",
        "import torch.nn as nn\n",
        "import os\n",
        "import colab_env\n",
        "\n",
        "from openai import OpenAI\n",
        "openai.api_key = OpenAI(api_key = os.getenv(\"OPENAI_API_KEY\"))\n",
        "\n",
        "# Function to get GPT-3.5 output using the new client-based API\n",
        "def get_gpt35_response(prompt):\n",
        "  client = openai.OpenAI()  # Initialize the OpenAI client\n",
        "  response = client.chat.completions.create(\n",
        "    model=\"gpt-3.5-turbo\",\n",
        "    messages=[\n",
        "      {\"role\": \"system\", \"content\": \"You are a helpful assistant.\"},\n",
        "      {\"role\": \"user\", \"content\": prompt}\n",
        "    ]\n",
        "  )\n",
        "  return response.choices[0].message.content.strip()\n",
        "\n",
        "class Expert(nn.Module):\n",
        "  def __init__(self, input_size, hidden_size, output_size):\n",
        "    super(Expert, self).__init__()\n",
        "    self.fc1 = nn.Linear(input_size, hidden_size)\n",
        "    self.relu = nn.ReLU()\n",
        "    self.fc2 = nn.Linear(hidden_size, output_size)\n",
        "\n",
        "  def forward(self, x):\n",
        "    out = self.fc1(x)\n",
        "    out = self.relu(out)\n",
        "    out = self.fc2(out)\n",
        "    return out\n",
        "\n",
        "class GatingNetwork(nn.Module):\n",
        "  def __init__(self, input_size, num_experts):\n",
        "    super(GatingNetwork, self).__init__()\n",
        "    self.fc = nn.Linear(input_size, num_experts)\n",
        "    self.softmax = nn.Softmax(dim=1)\n",
        "\n",
        "  def forward(self, x):\n",
        "    out = self.fc(x)\n",
        "    out = self.softmax(out)\n",
        "    return out\n",
        "\n",
        "# Example usage\n",
        "input_size = 10  # Example input size for experts\n",
        "hidden_size = 64\n",
        "output_size = 5\n",
        "num_experts = 4\n",
        "\n",
        "# Create experts\n",
        "experts = nn.ModuleList([Expert(input_size, hidden_size, output_size) for _ in range(num_experts)])\n",
        "\n",
        "# Create gating network\n",
        "gating_network = GatingNetwork(input_size, num_experts)\n",
        "\n",
        "# Example input prompt##\n",
        "#prompt = \"What is the capital of France?\"\n",
        "\n",
        "prompt = \"What are the environmental impacts of lithium mining in Chile?\"\n",
        "\n",
        "# Get GPT-3.5 response\n",
        "gpt35_response = get_gpt35_response(prompt)\n",
        "\n",
        "#  (Hypothetical) Convert GPT-3.5 response to a numerical representation\n",
        "#  This would involve embedding the text output or extracting relevant features\n",
        "gpt35_embedding = torch.randn(1, input_size)  # Placeholder for actual embedding\n",
        "\n",
        "# Use GPT-3.5 embedding as input to the gating network\n",
        "gating_weights = gating_network(gpt35_embedding)\n",
        "\n",
        "# Weighted sum of expert outputs\n",
        "expert_output = sum([weight * expert(gpt35_embedding) for weight, expert in zip(gating_weights[0], experts)])"
      ]
    },
    {
      "cell_type": "code",
      "source": [
        "# Combine GPT-3.5 response and expert output (example - concatenation)\n",
        "# Here, we'll just print both outputs for simplicity\n",
        "print(\"GPT-3.5 response:\", gpt35_response)\n",
        "print('\\n')\n",
        "print(\"Expert output:\", expert_output)"
      ],
      "metadata": {
        "colab": {
          "base_uri": "https://localhost:8080/"
        },
        "id": "Z21O8uNnhrAx",
        "outputId": "f98353a7-2df1-4d95-a4cf-1d661e555451"
      },
      "execution_count": 7,
      "outputs": [
        {
          "output_type": "stream",
          "name": "stdout",
          "text": [
            "GPT-3.5 response: Lithium mining in Chile can have several environmental impacts, including:\n",
            "\n",
            "1. Water use and contamination: Lithium extraction requires significant amounts of water, leading to potential depletion of water resources in arid regions like the Atacama Desert where most lithium mining occurs. Contamination of groundwater and surface water from the chemicals used in the extraction process can also be a concern.\n",
            "\n",
            "2. Soil degradation: Mining activities can disrupt the topsoil and landscape, leading to soil erosion, loss of vegetation, and alteration of local ecosystems.\n",
            "\n",
            "3. Air pollution: Dust and emissions from mining operations, as well as from transportation and processing of lithium, can contribute to air pollution and impact air quality in the surrounding areas.\n",
            "\n",
            "4. Habitat destruction: Mining activities can disrupt wildlife habitats and threaten biodiversity, especially in sensitive ecosystems like the Atacama Desert.\n",
            "\n",
            "5. Carbon footprint: The energy-intensive process of extracting, processing, and transporting lithium can contribute to greenhouse gas emissions and climate change.\n",
            "\n",
            "Efforts are being made to mitigate these environmental impacts through improved mining practices, water conservation measures, and environmental monitoring and regulation.\n",
            "\n",
            "\n",
            "Expert output: tensor([[ 0.0371, -0.0369,  0.1027, -0.2047, -0.0066]], grad_fn=<AddBackward0>)\n"
          ]
        }
      ]
    }
  ]
}