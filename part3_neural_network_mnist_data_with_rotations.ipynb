{
  "cells": [
    {
      "cell_type": "markdown",
      "metadata": {
        "id": "view-in-github",
        "colab_type": "text"
      },
      "source": [
        "<a href=\"https://colab.research.google.com/github/frank-morales2020/MLxDL/blob/main/part3_neural_network_mnist_data_with_rotations.ipynb\" target=\"_parent\"><img src=\"https://colab.research.google.com/assets/colab-badge.svg\" alt=\"Open In Colab\"/></a>"
      ]
    },
    {
      "cell_type": "markdown",
      "source": [
        "https://github.com/makeyourownneuralnetwork/makeyourownneuralnetwork.git"
      ],
      "metadata": {
        "id": "a5qRAglMSAz0"
      }
    },
    {
      "cell_type": "code",
      "execution_count": 9,
      "metadata": {
        "collapsed": true,
        "id": "lF-sboGXnMU3"
      },
      "outputs": [],
      "source": [
        "# python notebook for Make Your Own Neural Network\n",
        "# code for a 3-layer neural network, and code for learning the MNIST dataset\n",
        "# this version creates additional training examples by rotating each original by +/- 10 degrees\n",
        "# (c) Tariq Rashid, 2016\n",
        "# license is GPLv2"
      ]
    },
    {
      "cell_type": "code",
      "execution_count": 10,
      "metadata": {
        "colab": {
          "base_uri": "https://localhost:8080/"
        },
        "id": "YRLO2Z_anOUZ",
        "outputId": "bd9f9c55-e769-4f6d-b05c-faaad536c4d2"
      },
      "outputs": [
        {
          "output_type": "stream",
          "name": "stdout",
          "text": [
            "Drive already mounted at ./mount; to attempt to forcibly remount, call drive.mount(\"./mount\", force_remount=True).\n"
          ]
        }
      ],
      "source": [
        "#!git clone https://github.com/makeyourownneuralnetwork/makeyourownneuralnetwork.git\n",
        "\n",
        "# mount Drive to access data files\n",
        "\n",
        "from google.colab import drive\n",
        "drive.mount('./mount')"
      ]
    },
    {
      "cell_type": "code",
      "execution_count": 11,
      "metadata": {
        "collapsed": true,
        "id": "sf1m6j8qnMU4"
      },
      "outputs": [],
      "source": [
        "# numpy provides arrays and useful functions for working with them\n",
        "import numpy\n",
        "# scipy.special for the sigmoid function expit()\n",
        "import scipy.special\n",
        "# scipy.ndimage for rotating image arrays\n",
        "import scipy.ndimage"
      ]
    },
    {
      "cell_type": "code",
      "execution_count": 12,
      "metadata": {
        "id": "lEbuEYkvnMU4"
      },
      "outputs": [],
      "source": [
        "# neural network class definition\n",
        "class neuralNetwork:\n",
        "\n",
        "\n",
        "    # initialise the neural network\n",
        "    def __init__(self, inputnodes, hiddennodes, outputnodes, learningrate):\n",
        "        # set number of nodes in each input, hidden, output layer\n",
        "        self.inodes = inputnodes\n",
        "        self.hnodes = hiddennodes\n",
        "        self.onodes = outputnodes\n",
        "\n",
        "        # link weight matrices, wih and who\n",
        "        # weights inside the arrays are w_i_j, where link is from node i to node j in the next layer\n",
        "        # w11 w21\n",
        "        # w12 w22 etc\n",
        "        self.wih = numpy.random.normal(0.0, pow(self.inodes, -0.5), (self.hnodes, self.inodes))\n",
        "        self.who = numpy.random.normal(0.0, pow(self.hnodes, -0.5), (self.onodes, self.hnodes))\n",
        "\n",
        "        # learning rate\n",
        "        self.lr = learningrate\n",
        "\n",
        "        # activation function is the sigmoid function\n",
        "        self.activation_function = lambda x: scipy.special.expit(x)\n",
        "\n",
        "        pass\n",
        "\n",
        "\n",
        "    # train the neural network\n",
        "    def train(self, inputs_list, targets_list):\n",
        "        # convert inputs list to 2d array\n",
        "        inputs = numpy.array(inputs_list, ndmin=2).T\n",
        "        targets = numpy.array(targets_list, ndmin=2).T\n",
        "\n",
        "        # calculate signals into hidden layer\n",
        "        hidden_inputs = numpy.dot(self.wih, inputs)\n",
        "        # calculate the signals emerging from hidden layer\n",
        "        hidden_outputs = self.activation_function(hidden_inputs)\n",
        "\n",
        "        # calculate signals into final output layer\n",
        "        final_inputs = numpy.dot(self.who, hidden_outputs)\n",
        "        # calculate the signals emerging from final output layer\n",
        "        final_outputs = self.activation_function(final_inputs)\n",
        "\n",
        "        # output layer error is the (target - actual)\n",
        "        output_errors = targets - final_outputs\n",
        "        # hidden layer error is the output_errors, split by weights, recombined at hidden nodes\n",
        "        hidden_errors = numpy.dot(self.who.T, output_errors)\n",
        "\n",
        "        # update the weights for the links between the hidden and output layers\n",
        "        self.who += self.lr * numpy.dot((output_errors * final_outputs * (1.0 - final_outputs)), numpy.transpose(hidden_outputs))\n",
        "\n",
        "        # update the weights for the links between the input and hidden layers\n",
        "        self.wih += self.lr * numpy.dot((hidden_errors * hidden_outputs * (1.0 - hidden_outputs)), numpy.transpose(inputs))\n",
        "\n",
        "        pass\n",
        "\n",
        "\n",
        "    # query the neural network\n",
        "    def query(self, inputs_list):\n",
        "        # convert inputs list to 2d array\n",
        "        inputs = numpy.array(inputs_list, ndmin=2).T\n",
        "\n",
        "        # calculate signals into hidden layer\n",
        "        hidden_inputs = numpy.dot(self.wih, inputs)\n",
        "        # calculate the signals emerging from hidden layer\n",
        "        hidden_outputs = self.activation_function(hidden_inputs)\n",
        "\n",
        "        # calculate signals into final output layer\n",
        "        final_inputs = numpy.dot(self.who, hidden_outputs)\n",
        "        # calculate the signals emerging from final output layer\n",
        "        final_outputs = self.activation_function(final_inputs)\n",
        "\n",
        "        return final_outputs"
      ]
    },
    {
      "cell_type": "code",
      "execution_count": 13,
      "metadata": {
        "id": "twLUC16jnMU5"
      },
      "outputs": [],
      "source": [
        "# number of input, hidden and output nodes\n",
        "input_nodes = 784\n",
        "hidden_nodes = 200\n",
        "output_nodes = 10\n",
        "\n",
        "# learning rate\n",
        "learning_rate = 0.96\n",
        "\n",
        "# create instance of neural network\n",
        "n = neuralNetwork(input_nodes,hidden_nodes,output_nodes, learning_rate)"
      ]
    },
    {
      "cell_type": "code",
      "execution_count": 14,
      "metadata": {
        "id": "qEanfXzQnMU6"
      },
      "outputs": [],
      "source": [
        "# load the mnist training data CSV file into a list\n",
        "# /content/makeyourownneuralnetwork/mnist_dataset/mnist_train_100.csv\n",
        "training_data_file = open(\"/content/mount/MyDrive/datasets/MNIST/mnist_train.csv\", 'r')\n",
        "training_data_list = training_data_file.readlines()\n",
        "training_data_file.close()"
      ]
    },
    {
      "cell_type": "code",
      "execution_count": 15,
      "metadata": {
        "id": "KlY4O_BwnMU6",
        "colab": {
          "base_uri": "https://localhost:8080/"
        },
        "outputId": "c478b63f-4884-4b38-8788-b249eb755521"
      },
      "outputs": [
        {
          "output_type": "stream",
          "name": "stdout",
          "text": [
            "Epochs: 0\n",
            "Epochs: 1\n",
            "Epochs: 2\n",
            "Epochs: 3\n",
            "Epochs: 4\n",
            "Epochs: 5\n",
            "Epochs: 6\n",
            "Epochs: 7\n",
            "Epochs: 8\n",
            "Epochs: 9\n"
          ]
        }
      ],
      "source": [
        "# train the neural network\n",
        "\n",
        "# epochs is the number of times the training data set is used for training\n",
        "epochs = 10\n",
        "\n",
        "for e in range(epochs):\n",
        "    print('Epochs: %s'%str(e))\n",
        "    # go through all records in the training data set\n",
        "    for record in training_data_list:\n",
        "        # split the record by the ',' commas\n",
        "        all_values = record.split(',')\n",
        "        # scale and shift the inputs\n",
        "        inputs = (numpy.asfarray(all_values[1:]) / 255.0 * 0.99) + 0.01\n",
        "        # create the target output values (all 0.01, except the desired label which is 0.99)\n",
        "        targets = numpy.zeros(output_nodes) + 0.01\n",
        "        # all_values[0] is the target label for this record\n",
        "        targets[int(all_values[0])] = 0.99\n",
        "        n.train(inputs, targets)\n",
        "\n",
        "        ## create rotated variations\n",
        "        # rotated anticlockwise by x degrees\n",
        "        #scipy.ndimage.r\n",
        "        inputs_plusx_img = scipy.ndimage.rotate(inputs.reshape(28,28), 10, cval=0.01, order=1, reshape=False)\n",
        "        #original\n",
        "        #inputs_plusx_img = scipy.ndimage.interpolation.rotate(inputs.reshape(28,28), 10, cval=0.01, order=1, reshape=False)\n",
        "        n.train(inputs_plusx_img.reshape(784), targets)\n",
        "        # rotated clockwise by x degrees\n",
        "        inputs_minusx_img = scipy.ndimage.rotate(inputs.reshape(28,28), -10, cval=0.01, order=1, reshape=False)\n",
        "        n.train(inputs_minusx_img.reshape(784), targets)\n",
        "\n",
        "        # rotated anticlockwise by 10 degrees\n",
        "        #inputs_plus10_img = scipy.ndimage.interpolation.rotate(inputs.reshape(28,28), 10, cval=0.01, order=1, reshape=False)\n",
        "        #n.train(inputs_plus10_img.reshape(784), targets)\n",
        "        # rotated clockwise by 10 degrees\n",
        "        #inputs_minus10_img = scipy.ndimage.interpolation.rotate(inputs.reshape(28,28), -10, cval=0.01, order=1, reshape=False)\n",
        "        #n.train(inputs_minus10_img.reshape(784), targets)\n",
        "\n",
        "        pass\n",
        "    pass"
      ]
    },
    {
      "cell_type": "markdown",
      "source": [
        "# New Section"
      ],
      "metadata": {
        "id": "e-SSnQhTiw7j"
      }
    },
    {
      "cell_type": "code",
      "execution_count": 16,
      "metadata": {
        "collapsed": true,
        "id": "5K8KfgwunMU6"
      },
      "outputs": [],
      "source": [
        "# load the mnist test data CSV file into a list\n",
        "test_data_file = open(\"/content/mount/MyDrive/datasets/MNIST/mnist_test.csv\", 'r')\n",
        "test_data_list = test_data_file.readlines()\n",
        "test_data_file.close()"
      ]
    },
    {
      "cell_type": "code",
      "execution_count": 17,
      "metadata": {
        "id": "R4dxyFxenMU6"
      },
      "outputs": [],
      "source": [
        "# test the neural network\n",
        "\n",
        "# scorecard for how well the network performs, initially empty\n",
        "scorecard = []\n",
        "\n",
        "# go through all the records in the test data set\n",
        "for record in test_data_list:\n",
        "    # split the record by the ',' commas\n",
        "    all_values = record.split(',')\n",
        "    # correct answer is first value\n",
        "    correct_label = int(all_values[0])\n",
        "    # scale and shift the inputs\n",
        "    inputs = (numpy.asfarray(all_values[1:]) / 255.0 * 0.99) + 0.01\n",
        "    # query the network\n",
        "    outputs = n.query(inputs)\n",
        "    # the index of the highest value corresponds to the label\n",
        "    label = numpy.argmax(outputs)\n",
        "    # append correct or incorrect to list\n",
        "    if (label == correct_label):\n",
        "        # network's answer matches correct answer, add 1 to scorecard\n",
        "        scorecard.append(1)\n",
        "    else:\n",
        "        # network's answer doesn't match correct answer, add 0 to scorecard\n",
        "        scorecard.append(0)\n",
        "        pass\n",
        "\n",
        "    pass"
      ]
    },
    {
      "cell_type": "code",
      "execution_count": 18,
      "metadata": {
        "colab": {
          "base_uri": "https://localhost:8080/"
        },
        "id": "RANyxdx5nMU7",
        "outputId": "a650b46e-8266-42bf-d510-085a2a79297d"
      },
      "outputs": [
        {
          "output_type": "stream",
          "name": "stdout",
          "text": [
            "performance =  0.8659\n"
          ]
        }
      ],
      "source": [
        "# calculate the performance score, the fraction of correct answers\n",
        "scorecard_array = numpy.asarray(scorecard)\n",
        "print (\"performance = \", scorecard_array.sum() / scorecard_array.size)"
      ]
    }
  ],
  "metadata": {
    "colab": {
      "provenance": [],
      "include_colab_link": true
    },
    "kernelspec": {
      "display_name": "Python 3",
      "name": "python3"
    },
    "language_info": {
      "codemirror_mode": {
        "name": "ipython",
        "version": 3
      },
      "file_extension": ".py",
      "mimetype": "text/x-python",
      "name": "python",
      "nbconvert_exporter": "python",
      "pygments_lexer": "ipython3",
      "version": "3.6.1"
    }
  },
  "nbformat": 4,
  "nbformat_minor": 0
}