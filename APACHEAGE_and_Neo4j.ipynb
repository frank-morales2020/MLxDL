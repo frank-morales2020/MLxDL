{
  "cells": [
    {
      "cell_type": "markdown",
      "metadata": {
        "id": "view-in-github",
        "colab_type": "text"
      },
      "source": [
        "<a href=\"https://colab.research.google.com/github/frank-morales2020/MLxDL/blob/main/APACHEAGE_and_Neo4j.ipynb\" target=\"_parent\"><img src=\"https://colab.research.google.com/assets/colab-badge.svg\" alt=\"Open In Colab\"/></a>"
      ]
    },
    {
      "cell_type": "code",
      "execution_count": null,
      "metadata": {
        "id": "y8i2xLhNM8vf"
      },
      "outputs": [],
      "source": [
        "# https://age.apache.org/age-manual/master/intro/overview.html\n",
        "# https://cookbook.openai.com/examples/rag_with_graph_db\n",
        "#viewer https://github.com/apache/age-viewer\n",
        "# https://github.com/apache/age\n",
        "\n",
        "!apt-get update\n",
        "!apt-get dist-upgrade\n",
        "!sudo apt-get install build-essential libreadline-dev zlib1g-dev flex bison\n",
        "\n",
        "# https://cookbook.openai.com/examples/rag_with_graph_db\n",
        "\n",
        "!pip install langchain --quiet\n",
        "!pip install openai --quiet\n",
        "!pip install neo4j --quiet\n",
        "\n",
        "!pip install colab-env --upgrade\n",
        "!pip install openai\n",
        "!pip install tiktoken"
      ]
    },
    {
      "cell_type": "code",
      "execution_count": null,
      "metadata": {
        "id": "bPWt_iErNZr1"
      },
      "outputs": [],
      "source": [
        "#!sudo apt install postgresql\n",
        "\n",
        "#ADDED By FM 11/01/2024\n",
        "\n",
        "# install PSQL WITH DEV Libraries\n",
        "!apt install postgresql postgresql-contrib &>log\n",
        "!service postgresql restart\n",
        "!sudo apt install postgresql-server-dev-all\n"
      ]
    },
    {
      "cell_type": "code",
      "execution_count": 3,
      "metadata": {
        "id": "zt8ptZhUOLoX",
        "colab": {
          "base_uri": "https://localhost:8080/"
        },
        "outputId": "ce6b77d0-c66b-4c48-e59b-3f8e8cf1de2f"
      },
      "outputs": [
        {
          "output_type": "stream",
          "name": "stdout",
          "text": [
            "\n",
            "/content\n",
            "ALTER ROLE\n"
          ]
        }
      ],
      "source": [
        "print()\n",
        "# PostGRES SQL Settings\n",
        "%cd /content/\n",
        "!sudo -u postgres psql -c \"ALTER USER postgres PASSWORD 'postgres'\""
      ]
    },
    {
      "cell_type": "code",
      "execution_count": null,
      "metadata": {
        "id": "kwiHyVnfO_3n"
      },
      "outputs": [],
      "source": [
        "\n",
        "%cd /content/\n",
        "#release/PG14/1.5.0\n",
        "!git clone --branch release/PG14/1.5.0 https://github.com/apache/age.git\n",
        "\n",
        "print('START: A Graph Extension(AGE) COMPILATION')\n",
        "%cd /content/age\n",
        "print()\n",
        "!pg_config\n",
        "print()\n",
        "!make install # may need sudo\n",
        "print('END: A Graph Extension(AGE) COMPILATION')\n",
        "print()"
      ]
    },
    {
      "cell_type": "code",
      "execution_count": 5,
      "metadata": {
        "colab": {
          "base_uri": "https://localhost:8080/"
        },
        "id": "L8ir_X4-Xl1M",
        "outputId": "cfea72b4-2af1-4361-f074-bbe2f1aa392b"
      },
      "outputs": [
        {
          "output_type": "stream",
          "name": "stdout",
          "text": [
            "CREATE EXTENSION\n",
            "LOAD\n",
            "SET\n"
          ]
        }
      ],
      "source": [
        "!sudo -u postgres psql -c \"CREATE EXTENSION age\"\n",
        "!sudo -u postgres psql -c \"LOAD 'age'\"\n",
        "!sudo -u postgres psql -c 'SET search_path = ag_catalog, \"$user\", public'\n",
        "\n",
        "#!sudo -u postgres psql -c \"SELECT create_graph('my_graph_name')\""
      ]
    },
    {
      "cell_type": "code",
      "source": [
        "# https://github.com/apache/age/tree/master/drivers/python\n",
        "%cd /content/age/drivers/python/\n",
        "%pip install -r /content/age/drivers/python/requirements.txt\n",
        "!python /content/age/drivers/python/setup.py install"
      ],
      "metadata": {
        "id": "hIN-IiuxwTxD"
      },
      "execution_count": null,
      "outputs": []
    },
    {
      "cell_type": "code",
      "source": [
        "#SELECT create_graph('my_graph_name');\n",
        "import age\n",
        "\n",
        "DB_NAME = \"postgres\"\n",
        "DB_USER = \"postgres\"\n",
        "DB_PASS = \"postgres\"\n",
        "DB_HOST = \"localhost\"\n",
        "DB_PORT = \"5432\"\n",
        "\n",
        "age.connect(graph='my_graph_name', host=DB_HOST, port=DB_PORT, dbname=DB_NAME, user=DB_USER, password=DB_PASS)\n",
        "#cursor = age.execCypher(\"SELECT create_graph('my_graph_name')\")\n",
        "#age.execSql(stmt=\"CREATE GRAPH my_graph_name\")\n",
        "#age.execSql(\"create_graph('my_graph_name')\")\n",
        "#!sudo -u postgres psql -c \"SELECT create_graph('my_graph_name')\""
      ],
      "metadata": {
        "colab": {
          "base_uri": "https://localhost:8080/"
        },
        "id": "bleaxBSXMJoB",
        "outputId": "29f1eb37-6798-4972-8978-5a610e6f5d60"
      },
      "execution_count": 7,
      "outputs": [
        {
          "output_type": "execute_result",
          "data": {
            "text/plain": [
              "<age.age.Age at 0x7fe3d3fa5030>"
            ]
          },
          "metadata": {},
          "execution_count": 7
        }
      ]
    },
    {
      "cell_type": "code",
      "source": [
        "def query_selection(query):\n",
        "      # PostGRES SQL Settings\n",
        "      import psycopg2 as ps\n",
        "      DB_NAME = \"postgres\"\n",
        "      DB_USER = \"postgres\"\n",
        "      DB_PASS = \"postgres\"\n",
        "      DB_HOST = \"localhost\"\n",
        "      DB_PORT = \"5432\"\n",
        "      conn = ps.connect(database=DB_NAME,\n",
        "                user=DB_USER,\n",
        "                password=DB_PASS,\n",
        "                host=DB_HOST,\n",
        "                port=DB_PORT)\n",
        "      cur = conn.cursor() # creating a cursor\n",
        "      cur.execute(\"\"\"\n",
        "          %s \"\"\"%query)\n",
        "      records = cur.fetchall()\n",
        "      print(\"Total rows are:  \", len(records))\n",
        "      print(\"Printing each row\")\n",
        "      print()\n",
        "      n=0\n",
        "      for row in records:\n",
        "          n=n+1\n",
        "          print(\"ROW %s: \"%n, row)\n",
        "      conn.close()\n",
        "      cur.close()\n",
        "      print()\n",
        "      print(\"QUERY SELECTION successfully\")\n",
        "      print()"
      ],
      "metadata": {
        "id": "GWbRCMugr7M-"
      },
      "execution_count": 8,
      "outputs": []
    },
    {
      "cell_type": "code",
      "source": [
        "print('')\n",
        "print(\"Extensions Available:\")\n",
        "query_selection(\"SELECT name FROM pg_available_extensions order by 1\")\n",
        "print('')\n",
        "print(\"Extensions Used:\")\n",
        "query_selection(\"SELECT * FROM pg_extension\")\n"
      ],
      "metadata": {
        "colab": {
          "base_uri": "https://localhost:8080/"
        },
        "id": "kBAww766rwZ0",
        "outputId": "8f33b601-8fbf-416c-bc85-b0bd368a164e"
      },
      "execution_count": 9,
      "outputs": [
        {
          "output_type": "stream",
          "name": "stdout",
          "text": [
            "\n",
            "Extensions Available:\n",
            "Total rows are:   47\n",
            "Printing each row\n",
            "\n",
            "ROW 1:  ('adminpack',)\n",
            "ROW 2:  ('age',)\n",
            "ROW 3:  ('amcheck',)\n",
            "ROW 4:  ('autoinc',)\n",
            "ROW 5:  ('bloom',)\n",
            "ROW 6:  ('btree_gin',)\n",
            "ROW 7:  ('btree_gist',)\n",
            "ROW 8:  ('citext',)\n",
            "ROW 9:  ('cube',)\n",
            "ROW 10:  ('dblink',)\n",
            "ROW 11:  ('dict_int',)\n",
            "ROW 12:  ('dict_xsyn',)\n",
            "ROW 13:  ('earthdistance',)\n",
            "ROW 14:  ('file_fdw',)\n",
            "ROW 15:  ('fuzzystrmatch',)\n",
            "ROW 16:  ('hstore',)\n",
            "ROW 17:  ('insert_username',)\n",
            "ROW 18:  ('intagg',)\n",
            "ROW 19:  ('intarray',)\n",
            "ROW 20:  ('isn',)\n",
            "ROW 21:  ('lo',)\n",
            "ROW 22:  ('ltree',)\n",
            "ROW 23:  ('moddatetime',)\n",
            "ROW 24:  ('old_snapshot',)\n",
            "ROW 25:  ('pageinspect',)\n",
            "ROW 26:  ('pg_buffercache',)\n",
            "ROW 27:  ('pg_freespacemap',)\n",
            "ROW 28:  ('pg_prewarm',)\n",
            "ROW 29:  ('pg_stat_statements',)\n",
            "ROW 30:  ('pg_surgery',)\n",
            "ROW 31:  ('pg_trgm',)\n",
            "ROW 32:  ('pg_visibility',)\n",
            "ROW 33:  ('pgcrypto',)\n",
            "ROW 34:  ('pgrowlocks',)\n",
            "ROW 35:  ('pgstattuple',)\n",
            "ROW 36:  ('plpgsql',)\n",
            "ROW 37:  ('postgres_fdw',)\n",
            "ROW 38:  ('refint',)\n",
            "ROW 39:  ('seg',)\n",
            "ROW 40:  ('sslinfo',)\n",
            "ROW 41:  ('tablefunc',)\n",
            "ROW 42:  ('tcn',)\n",
            "ROW 43:  ('tsm_system_rows',)\n",
            "ROW 44:  ('tsm_system_time',)\n",
            "ROW 45:  ('unaccent',)\n",
            "ROW 46:  ('uuid-ossp',)\n",
            "ROW 47:  ('xml2',)\n",
            "\n",
            "QUERY SELECTION successfully\n",
            "\n",
            "\n",
            "Extensions Used:\n",
            "Total rows are:   2\n",
            "Printing each row\n",
            "\n",
            "ROW 1:  (13747, 'plpgsql', 10, 11, False, '1.0', None, None)\n",
            "ROW 2:  (16385, 'age', 10, 16384, False, '1.5.0', [16386, 16398], ['', ''])\n",
            "\n",
            "QUERY SELECTION successfully\n",
            "\n"
          ]
        }
      ]
    },
    {
      "cell_type": "code",
      "source": [
        "!python -m unittest -v /content/age/drivers/python/test_agtypes.py"
      ],
      "metadata": {
        "colab": {
          "base_uri": "https://localhost:8080/"
        },
        "id": "i6bTPLGaw8zZ",
        "outputId": "eaffeff6-415e-40f6-cbe3-3696e0f50fe4"
      },
      "execution_count": 10,
      "outputs": [
        {
          "output_type": "stream",
          "name": "stdout",
          "text": [
            "test_path (test_agtypes.TestAgtype) ... \n",
            "Testing Path Parsing. Result : ok\n",
            "test_scalar (test_agtypes.TestAgtype) ... \n",
            "Testing Scalar Value Parsing. Result : ok\n",
            "test_vertex (test_agtypes.TestAgtype) ... \n",
            "Testing vertex Parsing. Result : ok\n",
            "\n",
            "----------------------------------------------------------------------\n",
            "Ran 3 tests in 0.024s\n",
            "\n",
            "OK\n"
          ]
        }
      ]
    },
    {
      "cell_type": "code",
      "source": [
        "!python /content/age/drivers/python/test_age_py.py \\\n",
        "-host \"127.0.0.1\" \\\n",
        "-db \"postgres\" \\\n",
        "-u \"postgres\" \\\n",
        "-pass \"postgres\" \\\n",
        "-port 5432 \\\n",
        "-gn \"test_graph\""
      ],
      "metadata": {
        "id": "anFoLOVmxQkw",
        "colab": {
          "base_uri": "https://localhost:8080/"
        },
        "outputId": "774d0909-bfd9-4074-9752-42025860ca40"
      },
      "execution_count": 11,
      "outputs": [
        {
          "output_type": "stream",
          "name": "stdout",
          "text": [
            "Connecting to Test Graph.....\n",
            "\n",
            "---------------------------------------------------\n",
            "Test 1: Checking single and multi column Returns.....\n",
            "---------------------------------------------------\n",
            "\n",
            "Vertex: <class 'age.models.Vertex'> , Type: <class 'age.models.Vertex'> \n",
            "Id: 844424930131970 , Name: Jack\n",
            "\n",
            "Test 1 Successful....\n",
            "Deleting Test Graph.....\n",
            ".Connecting to Test Graph.....\n",
            "\n",
            "--------------------------------------------------\n",
            "Test 2: Testing CREATE and query relationships.....\n",
            "--------------------------------------------------\n",
            "\n",
            "START: {label:Person, id:844424930131970, properties:{name: Andy, }}::VERTEX\n",
            "EDGE: {label:worksWith, id:1125899906842625, properties:{weight: 3, }, start_id:844424930131970, end_id:844424930131969}::EDGE\n",
            "END: {label:Person, id:844424930131969, properties:{name: Jack, }}::VERTEX\n",
            "START: {label:Person, id:844424930131971, properties:{name: Smith, }}::VERTEX\n",
            "EDGE: {label:worksWith, id:1125899906842626, properties:{}, start_id:844424930131969, end_id:844424930131971}::EDGE\n",
            "END: {label:Person, id:844424930131969, properties:{name: Jack, }}::VERTEX\n",
            "START: {label:Person, id:844424930131969, properties:{name: Jack, }}::VERTEX\n",
            "EDGE: {label:worksWith, id:1125899906842625, properties:{weight: 3, }, start_id:844424930131970, end_id:844424930131969}::EDGE\n",
            "END: {label:Person, id:844424930131970, properties:{name: Andy, }}::VERTEX\n",
            "START: {label:Person, id:844424930131969, properties:{name: Jack, }}::VERTEX\n",
            "EDGE: {label:worksWith, id:1125899906842626, properties:{}, start_id:844424930131969, end_id:844424930131971}::EDGE\n",
            "END: {label:Person, id:844424930131971, properties:{name: Smith, }}::VERTEX\n",
            "Relationship: Andy worksWith Jack. Edge weight: 3\n",
            "Relationship: Jack worksWith Andy. Edge weight: 3\n",
            "\n",
            "Test 2 Successful...\n",
            "Deleting Test Graph.....\n",
            ".Connecting to Test Graph.....\n",
            "\n",
            "-------------------------------------------------------\n",
            "Test 3: Testing changes in data using SET and REMOVE.....\n",
            "-------------------------------------------------------\n",
            "\n",
            "CREATED:  {label:Person, id:844424930131970, properties:{name: Smith, title: Developer, }}::VERTEX\n",
            "SET title:  Manager\n",
            "REMOVE Prop title:  {label:Person, id:844424930131970, properties:{name: Smith, bigNum: -64516100000000000000000000000000000000000000000, }}::VERTEX\n",
            "\n",
            "Test 3 Successful....\n",
            "Deleting Test Graph.....\n",
            ".Connecting to Test Graph.....\n",
            "\n",
            "--------------------------\n",
            "Test 4: Testing Cypher.....\n",
            "--------------------------\n",
            "\n",
            "CREATED EDGE: [{label:Person, id:844424930131971, properties:{name: Andy, }}::VERTEX,{label:worksWith, id:1125899906842628, properties:{}, start_id:844424930131971, end_id:844424930131972}::EDGE,{label:Person, id:844424930131972, properties:{name: Smith, }}::VERTEX]::PATH\n",
            "CREATED EDGE WITH PROPERTIES: [{label:Person, id:844424930131969, properties:{name: Joe, }}::VERTEX,{label:worksWith, id:1125899906842629, properties:{weight: 5, }, start_id:844424930131969, end_id:844424930131970}::EDGE,{label:Person, id:844424930131970, properties:{name: Jack, }}::VERTEX]::PATH\n",
            "\n",
            "Test 4 Successful...\n",
            "Deleting Test Graph.....\n",
            ".Connecting to Test Graph.....\n",
            "\n",
            "------------------------------------\n",
            "Test 5: Testing Multiple Edges.....\n",
            "------------------------------------\n",
            "\n",
            "PATH WITH MULTIPLE EDGES: Country USA ---- (distance 4760 miles) ---> Country France ---- (distance 9228 km) ---> Country Korea\n",
            "\n",
            "Test 5 Successful...\n",
            "Deleting Test Graph.....\n",
            ".Connecting to Test Graph.....\n",
            "\n",
            "--------------------------\n",
            "Test 6: Testing COLLECT.....\n",
            "--------------------------\n",
            "\n",
            " -------- TESTING COLLECT #1 --------\n",
            "Joe worksWith ['Andy', 'Smith', 'Tom']\n",
            " -------- TESTING COLLECT #2 --------\n",
            "Joe worksWith ['Andy', 'Smith', 'Tom']\n",
            "\n",
            "Test 6 Successful...\n",
            "Deleting Test Graph.....\n",
            ".\n",
            "----------------------------------------------------------------------\n",
            "Ran 6 tests in 1.797s\n",
            "\n",
            "OK\n"
          ]
        }
      ]
    },
    {
      "cell_type": "markdown",
      "source": [
        "# NEO4J - Installation and Configurations"
      ],
      "metadata": {
        "id": "vN2UV1bDzrKz"
      }
    },
    {
      "cell_type": "code",
      "source": [
        "# https://gist.github.com/korakot/328aaac51d78e589b4a176228e4bb06f#file-neo4j-py\n",
        "#!wget https://neo4j.com/artifact.php?name=neo4j-community-4.3.0-unix.tar.gz\n",
        "#https://we-yun.com/doc/neo4j/5.16.0/\n",
        "\n",
        "\n",
        "%cd /content/\n",
        "!wget https://neo4j.com/artifact.php?name=neo4j-community-5.16.0-unix.tar.gz\n",
        "!tar -xzf /content/artifact.php?name=neo4j-community-5.16.0-unix.tar.gz\n",
        "!sudo mv /content/neo4j-community-5.16.0  /usr/local/neo4j\n",
        "%cd /content/\n",
        "\n",
        "#!/usr/local/neo4j/bin/neo4j start"
      ],
      "metadata": {
        "id": "qOyKlGT6wGam"
      },
      "execution_count": null,
      "outputs": []
    },
    {
      "cell_type": "code",
      "source": [
        "!sed -i '/dbms.security.auth_enabled/s/^#//g' /usr/local/neo4j/conf/neo4j.conf\n",
        "!sed -i 's/#dbms.security.procedures.unrestricted=my.extensions.example,my.procedures.*/dbms.security.procedures.unrestricted=apoc.*/g' /usr/local/neo4j/conf/neo4j.conf\n",
        "!sed -i 's/#dbms.security.procedures.allowlist=apoc.coll.*,apoc.load.*,gds.*/dbms.security.procedures.allowlist=apoc.*/g' /usr/local/neo4j/conf/neo4j.conf"
      ],
      "metadata": {
        "id": "l7TaS6fBgWud"
      },
      "execution_count": 13,
      "outputs": []
    },
    {
      "cell_type": "code",
      "source": [
        "!sudo apt-get install openjdk-21-jre"
      ],
      "metadata": {
        "id": "oTmnjtiJek6D"
      },
      "execution_count": null,
      "outputs": []
    },
    {
      "cell_type": "code",
      "source": [
        "!cp /usr/local/neo4j/labs/apoc-5.16.1-core.jar /usr/local/neo4j/plugins/"
      ],
      "metadata": {
        "id": "32Qzv3eUY1yc"
      },
      "execution_count": 15,
      "outputs": []
    },
    {
      "cell_type": "code",
      "source": [
        "!/usr/local/neo4j/bin/neo4j start\n",
        "#!/usr/local/neo4j/bin/neo4j-admin set-initial-password neo4j"
      ],
      "metadata": {
        "colab": {
          "base_uri": "https://localhost:8080/"
        },
        "id": "em_UXunlJI8a",
        "outputId": "c4de8fa6-c7ac-4551-c8ac-790db0a6907c"
      },
      "execution_count": 16,
      "outputs": [
        {
          "output_type": "stream",
          "name": "stdout",
          "text": [
            "Directories in use:\n",
            "home:         /usr/local/neo4j\n",
            "config:       /usr/local/neo4j/conf\n",
            "logs:         /usr/local/neo4j/logs\n",
            "plugins:      /usr/local/neo4j/plugins\n",
            "import:       /usr/local/neo4j/import\n",
            "data:         /usr/local/neo4j/data\n",
            "certificates: /usr/local/neo4j/certificates\n",
            "licenses:     /usr/local/neo4j/licenses\n",
            "run:          /usr/local/neo4j/run\n",
            "Starting Neo4j.\n",
            "Started neo4j (pid:5059). It is available at http://localhost:7474\n",
            "There may be a short delay until the server is ready.\n"
          ]
        }
      ]
    },
    {
      "cell_type": "code",
      "source": [
        "!pip install neo4j --quiet\n",
        "import neo4j\n",
        "neo4j.__version__"
      ],
      "metadata": {
        "colab": {
          "base_uri": "https://localhost:8080/",
          "height": 35
        },
        "id": "I4wQHSx4URXV",
        "outputId": "56c6a920-81ca-4e91-818d-9021e203d567"
      },
      "execution_count": 17,
      "outputs": [
        {
          "output_type": "execute_result",
          "data": {
            "text/plain": [
              "'5.17.0'"
            ],
            "application/vnd.google.colaboratory.intrinsic+json": {
              "type": "string"
            }
          },
          "metadata": {},
          "execution_count": 17
        }
      ]
    },
    {
      "cell_type": "code",
      "source": [
        "!pip install py2neo -q\n",
        "from py2neo import Graph\n",
        "graph = Graph(\"bolt://localhost:7687\")\n",
        "\n",
        "from IPython.core.magic import register_cell_magic\n",
        "@register_cell_magic\n",
        "def nj(line, cell=None):\n",
        "  return graph.run(cell or line).to_table()"
      ],
      "metadata": {
        "id": "pm-j_HpEyVP9"
      },
      "execution_count": null,
      "outputs": []
    },
    {
      "cell_type": "code",
      "source": [
        "# DB credentials\n",
        "url = \"bolt://localhost:7687\"\n",
        "username =\"neo4j\"\n",
        "password = \"neo4j\"\n",
        "\n",
        "from langchain.graphs import Neo4jGraph\n",
        "\n",
        "graph = Neo4jGraph(\n",
        "    url=url,\n",
        "    username=username,\n",
        "    password=password\n",
        ")\n",
        "\n"
      ],
      "metadata": {
        "id": "4JcBH3fz8s6t"
      },
      "execution_count": 19,
      "outputs": []
    },
    {
      "cell_type": "code",
      "source": [
        "# https://cookbook.openai.com/examples/rag_with_graph_db\n",
        "%cd /content/\n",
        "!git clone https://github.com/openai/openai-cookbook.git\n",
        "\n",
        "import json\n",
        "# Loading a json dataset from a file\n",
        "file_path = '/content/openai-cookbook/examples/data/amazon_product_kg.json'\n",
        "\n",
        "with open(file_path, 'r') as file:\n",
        "    jsonData = json.load(file)\n",
        "\n",
        "import os\n",
        "import json\n",
        "import pandas as pd\n",
        "\n",
        "df =  pd.read_json(file_path)\n",
        "df.head()"
      ],
      "metadata": {
        "colab": {
          "base_uri": "https://localhost:8080/",
          "height": 821
        },
        "id": "1IlYUxuNo469",
        "outputId": "6f40fd60-a2d5-427d-ca64-d789d583023a"
      },
      "execution_count": 20,
      "outputs": [
        {
          "output_type": "stream",
          "name": "stdout",
          "text": [
            "/content\n",
            "Cloning into 'openai-cookbook'...\n",
            "remote: Enumerating objects: 4229, done.\u001b[K\n",
            "remote: Counting objects: 100% (6/6), done.\u001b[K\n",
            "remote: Compressing objects: 100% (6/6), done.\u001b[K\n",
            "remote: Total 4229 (delta 0), reused 1 (delta 0), pack-reused 4223\u001b[K\n",
            "Receiving objects: 100% (4229/4229), 211.29 MiB | 13.63 MiB/s, done.\n",
            "Resolving deltas: 100% (2512/2512), done.\n",
            "Updating files: 100% (271/271), done.\n"
          ]
        },
        {
          "output_type": "execute_result",
          "data": {
            "text/plain": [
              "   product_id           product       relationship     entity_type  \\\n",
              "0     1925202  Blackout Curtain        hasCategory        category   \n",
              "1     1925202  Blackout Curtain           hasBrand           brand   \n",
              "2     1925202  Blackout Curtain  hasCharacteristic  characteristic   \n",
              "3     1925202  Blackout Curtain  hasCharacteristic  characteristic   \n",
              "4     1925202  Blackout Curtain  hasCharacteristic  characteristic   \n",
              "\n",
              "      entity_value  PRODUCT_ID  \\\n",
              "0  home decoration     1925202   \n",
              "1        ArtzFolio     1925202   \n",
              "2          Eyelets     1925202   \n",
              "3         Tie Back     1925202   \n",
              "4      100% opaque     1925202   \n",
              "\n",
              "                                               TITLE  \\\n",
              "0  ArtzFolio Tulip Flowers Blackout Curtain for D...   \n",
              "1  ArtzFolio Tulip Flowers Blackout Curtain for D...   \n",
              "2  ArtzFolio Tulip Flowers Blackout Curtain for D...   \n",
              "3  ArtzFolio Tulip Flowers Blackout Curtain for D...   \n",
              "4  ArtzFolio Tulip Flowers Blackout Curtain for D...   \n",
              "\n",
              "                                       BULLET_POINTS DESCRIPTION  \\\n",
              "0  [LUXURIOUS & APPEALING: Beautiful custom-made ...        None   \n",
              "1  [LUXURIOUS & APPEALING: Beautiful custom-made ...        None   \n",
              "2  [LUXURIOUS & APPEALING: Beautiful custom-made ...        None   \n",
              "3  [LUXURIOUS & APPEALING: Beautiful custom-made ...        None   \n",
              "4  [LUXURIOUS & APPEALING: Beautiful custom-made ...        None   \n",
              "\n",
              "   PRODUCT_TYPE_ID  PRODUCT_LENGTH  \n",
              "0             1650         2125.98  \n",
              "1             1650         2125.98  \n",
              "2             1650         2125.98  \n",
              "3             1650         2125.98  \n",
              "4             1650         2125.98  "
            ],
            "text/html": [
              "\n",
              "  <div id=\"df-e0ce2487-042b-45c9-b0da-1afbbef80b42\" class=\"colab-df-container\">\n",
              "    <div>\n",
              "<style scoped>\n",
              "    .dataframe tbody tr th:only-of-type {\n",
              "        vertical-align: middle;\n",
              "    }\n",
              "\n",
              "    .dataframe tbody tr th {\n",
              "        vertical-align: top;\n",
              "    }\n",
              "\n",
              "    .dataframe thead th {\n",
              "        text-align: right;\n",
              "    }\n",
              "</style>\n",
              "<table border=\"1\" class=\"dataframe\">\n",
              "  <thead>\n",
              "    <tr style=\"text-align: right;\">\n",
              "      <th></th>\n",
              "      <th>product_id</th>\n",
              "      <th>product</th>\n",
              "      <th>relationship</th>\n",
              "      <th>entity_type</th>\n",
              "      <th>entity_value</th>\n",
              "      <th>PRODUCT_ID</th>\n",
              "      <th>TITLE</th>\n",
              "      <th>BULLET_POINTS</th>\n",
              "      <th>DESCRIPTION</th>\n",
              "      <th>PRODUCT_TYPE_ID</th>\n",
              "      <th>PRODUCT_LENGTH</th>\n",
              "    </tr>\n",
              "  </thead>\n",
              "  <tbody>\n",
              "    <tr>\n",
              "      <th>0</th>\n",
              "      <td>1925202</td>\n",
              "      <td>Blackout Curtain</td>\n",
              "      <td>hasCategory</td>\n",
              "      <td>category</td>\n",
              "      <td>home decoration</td>\n",
              "      <td>1925202</td>\n",
              "      <td>ArtzFolio Tulip Flowers Blackout Curtain for D...</td>\n",
              "      <td>[LUXURIOUS &amp; APPEALING: Beautiful custom-made ...</td>\n",
              "      <td>None</td>\n",
              "      <td>1650</td>\n",
              "      <td>2125.98</td>\n",
              "    </tr>\n",
              "    <tr>\n",
              "      <th>1</th>\n",
              "      <td>1925202</td>\n",
              "      <td>Blackout Curtain</td>\n",
              "      <td>hasBrand</td>\n",
              "      <td>brand</td>\n",
              "      <td>ArtzFolio</td>\n",
              "      <td>1925202</td>\n",
              "      <td>ArtzFolio Tulip Flowers Blackout Curtain for D...</td>\n",
              "      <td>[LUXURIOUS &amp; APPEALING: Beautiful custom-made ...</td>\n",
              "      <td>None</td>\n",
              "      <td>1650</td>\n",
              "      <td>2125.98</td>\n",
              "    </tr>\n",
              "    <tr>\n",
              "      <th>2</th>\n",
              "      <td>1925202</td>\n",
              "      <td>Blackout Curtain</td>\n",
              "      <td>hasCharacteristic</td>\n",
              "      <td>characteristic</td>\n",
              "      <td>Eyelets</td>\n",
              "      <td>1925202</td>\n",
              "      <td>ArtzFolio Tulip Flowers Blackout Curtain for D...</td>\n",
              "      <td>[LUXURIOUS &amp; APPEALING: Beautiful custom-made ...</td>\n",
              "      <td>None</td>\n",
              "      <td>1650</td>\n",
              "      <td>2125.98</td>\n",
              "    </tr>\n",
              "    <tr>\n",
              "      <th>3</th>\n",
              "      <td>1925202</td>\n",
              "      <td>Blackout Curtain</td>\n",
              "      <td>hasCharacteristic</td>\n",
              "      <td>characteristic</td>\n",
              "      <td>Tie Back</td>\n",
              "      <td>1925202</td>\n",
              "      <td>ArtzFolio Tulip Flowers Blackout Curtain for D...</td>\n",
              "      <td>[LUXURIOUS &amp; APPEALING: Beautiful custom-made ...</td>\n",
              "      <td>None</td>\n",
              "      <td>1650</td>\n",
              "      <td>2125.98</td>\n",
              "    </tr>\n",
              "    <tr>\n",
              "      <th>4</th>\n",
              "      <td>1925202</td>\n",
              "      <td>Blackout Curtain</td>\n",
              "      <td>hasCharacteristic</td>\n",
              "      <td>characteristic</td>\n",
              "      <td>100% opaque</td>\n",
              "      <td>1925202</td>\n",
              "      <td>ArtzFolio Tulip Flowers Blackout Curtain for D...</td>\n",
              "      <td>[LUXURIOUS &amp; APPEALING: Beautiful custom-made ...</td>\n",
              "      <td>None</td>\n",
              "      <td>1650</td>\n",
              "      <td>2125.98</td>\n",
              "    </tr>\n",
              "  </tbody>\n",
              "</table>\n",
              "</div>\n",
              "    <div class=\"colab-df-buttons\">\n",
              "\n",
              "  <div class=\"colab-df-container\">\n",
              "    <button class=\"colab-df-convert\" onclick=\"convertToInteractive('df-e0ce2487-042b-45c9-b0da-1afbbef80b42')\"\n",
              "            title=\"Convert this dataframe to an interactive table.\"\n",
              "            style=\"display:none;\">\n",
              "\n",
              "  <svg xmlns=\"http://www.w3.org/2000/svg\" height=\"24px\" viewBox=\"0 -960 960 960\">\n",
              "    <path d=\"M120-120v-720h720v720H120Zm60-500h600v-160H180v160Zm220 220h160v-160H400v160Zm0 220h160v-160H400v160ZM180-400h160v-160H180v160Zm440 0h160v-160H620v160ZM180-180h160v-160H180v160Zm440 0h160v-160H620v160Z\"/>\n",
              "  </svg>\n",
              "    </button>\n",
              "\n",
              "  <style>\n",
              "    .colab-df-container {\n",
              "      display:flex;\n",
              "      gap: 12px;\n",
              "    }\n",
              "\n",
              "    .colab-df-convert {\n",
              "      background-color: #E8F0FE;\n",
              "      border: none;\n",
              "      border-radius: 50%;\n",
              "      cursor: pointer;\n",
              "      display: none;\n",
              "      fill: #1967D2;\n",
              "      height: 32px;\n",
              "      padding: 0 0 0 0;\n",
              "      width: 32px;\n",
              "    }\n",
              "\n",
              "    .colab-df-convert:hover {\n",
              "      background-color: #E2EBFA;\n",
              "      box-shadow: 0px 1px 2px rgba(60, 64, 67, 0.3), 0px 1px 3px 1px rgba(60, 64, 67, 0.15);\n",
              "      fill: #174EA6;\n",
              "    }\n",
              "\n",
              "    .colab-df-buttons div {\n",
              "      margin-bottom: 4px;\n",
              "    }\n",
              "\n",
              "    [theme=dark] .colab-df-convert {\n",
              "      background-color: #3B4455;\n",
              "      fill: #D2E3FC;\n",
              "    }\n",
              "\n",
              "    [theme=dark] .colab-df-convert:hover {\n",
              "      background-color: #434B5C;\n",
              "      box-shadow: 0px 1px 3px 1px rgba(0, 0, 0, 0.15);\n",
              "      filter: drop-shadow(0px 1px 2px rgba(0, 0, 0, 0.3));\n",
              "      fill: #FFFFFF;\n",
              "    }\n",
              "  </style>\n",
              "\n",
              "    <script>\n",
              "      const buttonEl =\n",
              "        document.querySelector('#df-e0ce2487-042b-45c9-b0da-1afbbef80b42 button.colab-df-convert');\n",
              "      buttonEl.style.display =\n",
              "        google.colab.kernel.accessAllowed ? 'block' : 'none';\n",
              "\n",
              "      async function convertToInteractive(key) {\n",
              "        const element = document.querySelector('#df-e0ce2487-042b-45c9-b0da-1afbbef80b42');\n",
              "        const dataTable =\n",
              "          await google.colab.kernel.invokeFunction('convertToInteractive',\n",
              "                                                    [key], {});\n",
              "        if (!dataTable) return;\n",
              "\n",
              "        const docLinkHtml = 'Like what you see? Visit the ' +\n",
              "          '<a target=\"_blank\" href=https://colab.research.google.com/notebooks/data_table.ipynb>data table notebook</a>'\n",
              "          + ' to learn more about interactive tables.';\n",
              "        element.innerHTML = '';\n",
              "        dataTable['output_type'] = 'display_data';\n",
              "        await google.colab.output.renderOutput(dataTable, element);\n",
              "        const docLink = document.createElement('div');\n",
              "        docLink.innerHTML = docLinkHtml;\n",
              "        element.appendChild(docLink);\n",
              "      }\n",
              "    </script>\n",
              "  </div>\n",
              "\n",
              "\n",
              "<div id=\"df-8de991ee-6d9e-4260-819c-b34f2589ab01\">\n",
              "  <button class=\"colab-df-quickchart\" onclick=\"quickchart('df-8de991ee-6d9e-4260-819c-b34f2589ab01')\"\n",
              "            title=\"Suggest charts\"\n",
              "            style=\"display:none;\">\n",
              "\n",
              "<svg xmlns=\"http://www.w3.org/2000/svg\" height=\"24px\"viewBox=\"0 0 24 24\"\n",
              "     width=\"24px\">\n",
              "    <g>\n",
              "        <path d=\"M19 3H5c-1.1 0-2 .9-2 2v14c0 1.1.9 2 2 2h14c1.1 0 2-.9 2-2V5c0-1.1-.9-2-2-2zM9 17H7v-7h2v7zm4 0h-2V7h2v10zm4 0h-2v-4h2v4z\"/>\n",
              "    </g>\n",
              "</svg>\n",
              "  </button>\n",
              "\n",
              "<style>\n",
              "  .colab-df-quickchart {\n",
              "      --bg-color: #E8F0FE;\n",
              "      --fill-color: #1967D2;\n",
              "      --hover-bg-color: #E2EBFA;\n",
              "      --hover-fill-color: #174EA6;\n",
              "      --disabled-fill-color: #AAA;\n",
              "      --disabled-bg-color: #DDD;\n",
              "  }\n",
              "\n",
              "  [theme=dark] .colab-df-quickchart {\n",
              "      --bg-color: #3B4455;\n",
              "      --fill-color: #D2E3FC;\n",
              "      --hover-bg-color: #434B5C;\n",
              "      --hover-fill-color: #FFFFFF;\n",
              "      --disabled-bg-color: #3B4455;\n",
              "      --disabled-fill-color: #666;\n",
              "  }\n",
              "\n",
              "  .colab-df-quickchart {\n",
              "    background-color: var(--bg-color);\n",
              "    border: none;\n",
              "    border-radius: 50%;\n",
              "    cursor: pointer;\n",
              "    display: none;\n",
              "    fill: var(--fill-color);\n",
              "    height: 32px;\n",
              "    padding: 0;\n",
              "    width: 32px;\n",
              "  }\n",
              "\n",
              "  .colab-df-quickchart:hover {\n",
              "    background-color: var(--hover-bg-color);\n",
              "    box-shadow: 0 1px 2px rgba(60, 64, 67, 0.3), 0 1px 3px 1px rgba(60, 64, 67, 0.15);\n",
              "    fill: var(--button-hover-fill-color);\n",
              "  }\n",
              "\n",
              "  .colab-df-quickchart-complete:disabled,\n",
              "  .colab-df-quickchart-complete:disabled:hover {\n",
              "    background-color: var(--disabled-bg-color);\n",
              "    fill: var(--disabled-fill-color);\n",
              "    box-shadow: none;\n",
              "  }\n",
              "\n",
              "  .colab-df-spinner {\n",
              "    border: 2px solid var(--fill-color);\n",
              "    border-color: transparent;\n",
              "    border-bottom-color: var(--fill-color);\n",
              "    animation:\n",
              "      spin 1s steps(1) infinite;\n",
              "  }\n",
              "\n",
              "  @keyframes spin {\n",
              "    0% {\n",
              "      border-color: transparent;\n",
              "      border-bottom-color: var(--fill-color);\n",
              "      border-left-color: var(--fill-color);\n",
              "    }\n",
              "    20% {\n",
              "      border-color: transparent;\n",
              "      border-left-color: var(--fill-color);\n",
              "      border-top-color: var(--fill-color);\n",
              "    }\n",
              "    30% {\n",
              "      border-color: transparent;\n",
              "      border-left-color: var(--fill-color);\n",
              "      border-top-color: var(--fill-color);\n",
              "      border-right-color: var(--fill-color);\n",
              "    }\n",
              "    40% {\n",
              "      border-color: transparent;\n",
              "      border-right-color: var(--fill-color);\n",
              "      border-top-color: var(--fill-color);\n",
              "    }\n",
              "    60% {\n",
              "      border-color: transparent;\n",
              "      border-right-color: var(--fill-color);\n",
              "    }\n",
              "    80% {\n",
              "      border-color: transparent;\n",
              "      border-right-color: var(--fill-color);\n",
              "      border-bottom-color: var(--fill-color);\n",
              "    }\n",
              "    90% {\n",
              "      border-color: transparent;\n",
              "      border-bottom-color: var(--fill-color);\n",
              "    }\n",
              "  }\n",
              "</style>\n",
              "\n",
              "  <script>\n",
              "    async function quickchart(key) {\n",
              "      const quickchartButtonEl =\n",
              "        document.querySelector('#' + key + ' button');\n",
              "      quickchartButtonEl.disabled = true;  // To prevent multiple clicks.\n",
              "      quickchartButtonEl.classList.add('colab-df-spinner');\n",
              "      try {\n",
              "        const charts = await google.colab.kernel.invokeFunction(\n",
              "            'suggestCharts', [key], {});\n",
              "      } catch (error) {\n",
              "        console.error('Error during call to suggestCharts:', error);\n",
              "      }\n",
              "      quickchartButtonEl.classList.remove('colab-df-spinner');\n",
              "      quickchartButtonEl.classList.add('colab-df-quickchart-complete');\n",
              "    }\n",
              "    (() => {\n",
              "      let quickchartButtonEl =\n",
              "        document.querySelector('#df-8de991ee-6d9e-4260-819c-b34f2589ab01 button');\n",
              "      quickchartButtonEl.style.display =\n",
              "        google.colab.kernel.accessAllowed ? 'block' : 'none';\n",
              "    })();\n",
              "  </script>\n",
              "</div>\n",
              "\n",
              "    </div>\n",
              "  </div>\n"
            ]
          },
          "metadata": {},
          "execution_count": 20
        }
      ]
    },
    {
      "cell_type": "code",
      "source": [
        "# https://cookbook.openai.com/examples/rag_with_graph_db\n",
        "\n",
        "def sanitize(text):\n",
        "    text = str(text).replace(\"'\",\"\").replace('\"','').replace('{','').replace('}', '')\n",
        "    return text\n",
        "\n",
        "# Loop through each JSON object and add them to the db\n",
        "i = 1\n",
        "for obj in jsonData:\n",
        "    #print(f\"{i}. {obj['product_id']} -{obj['relationship']}-> {obj['entity_value']}\")\n",
        "    i+=1\n",
        "    query = f'''\n",
        "        MERGE (product:Product {{id: {obj['product_id']}}})\n",
        "        ON CREATE SET product.name = \"{sanitize(obj['product'])}\",\n",
        "                       product.title = \"{sanitize(obj['TITLE'])}\",\n",
        "                       product.bullet_points = \"{sanitize(obj['BULLET_POINTS'])}\",\n",
        "                       product.size = {sanitize(obj['PRODUCT_LENGTH'])}\n",
        "\n",
        "        MERGE (entity:{obj['entity_type']} {{value: \"{sanitize(obj['entity_value'])}\"}})\n",
        "\n",
        "        MERGE (product)-[:{obj['relationship']}]->(entity)\n",
        "        '''\n",
        "    graph.query(query)"
      ],
      "metadata": {
        "id": "B4wzQV-wEiI0"
      },
      "execution_count": 21,
      "outputs": []
    },
    {
      "cell_type": "code",
      "source": [
        "import colab_env\n",
        "import openai\n",
        "\n",
        "openai.api_key = os.getenv(\"OPENAI_API_KEY\")\n",
        "\n",
        "from openai import OpenAI\n",
        "client = OpenAI(api_key = os.getenv(\"OPENAI_API_KEY\"))"
      ],
      "metadata": {
        "id": "fhUAHbxvbaMG",
        "colab": {
          "base_uri": "https://localhost:8080/"
        },
        "outputId": "9c84529d-afc7-493c-8c6b-f50c3e6f7504"
      },
      "execution_count": 22,
      "outputs": [
        {
          "output_type": "stream",
          "name": "stdout",
          "text": [
            "Mounted at /content/gdrive\n"
          ]
        }
      ]
    },
    {
      "cell_type": "code",
      "source": [
        "from langchain.vectorstores.neo4j_vector import Neo4jVector\n",
        "from langchain.embeddings.openai import OpenAIEmbeddings\n",
        "#embeddings_model = \"text-embedding-3-small\"\n",
        "embeddings_model = \"text-embedding-ada-002\"\n",
        "#embeddings = OpenAIEmbeddings(model='text-embedding-ada-002')\n",
        "\n",
        "vector_index = Neo4jVector.from_existing_graph(\n",
        "    OpenAIEmbeddings(model=embeddings_model),\n",
        "    url=url,\n",
        "    username=username,\n",
        "    password=password,\n",
        "    index_name='products',\n",
        "    node_label=\"Product\",\n",
        "    text_node_properties=['name', 'title'],\n",
        "    embedding_node_property='embedding',\n",
        ")"
      ],
      "metadata": {
        "id": "p__kFctHbKRD",
        "colab": {
          "base_uri": "https://localhost:8080/"
        },
        "outputId": "95946e1f-419d-4ae4-ff81-3e1d84805a6a"
      },
      "execution_count": 23,
      "outputs": [
        {
          "output_type": "stream",
          "name": "stderr",
          "text": [
            "/usr/local/lib/python3.10/dist-packages/langchain_core/_api/deprecation.py:117: LangChainDeprecationWarning: The class `langchain_community.embeddings.openai.OpenAIEmbeddings` was deprecated in langchain-community 0.1.0 and will be removed in 0.2.0. An updated version of the class exists in the langchain-openai package and should be used instead. To use it run `pip install -U langchain-openai` and import as `from langchain_openai import OpenAIEmbeddings`.\n",
            "  warn_deprecated(\n"
          ]
        }
      ]
    },
    {
      "cell_type": "code",
      "source": [
        "def embed_entities(entity_type):\n",
        "    vector_index = Neo4jVector.from_existing_graph(\n",
        "        OpenAIEmbeddings(model=embeddings_model),\n",
        "        url=url,\n",
        "        username=username,\n",
        "        password=password,\n",
        "        index_name=entity_type,\n",
        "        node_label=entity_type,\n",
        "        text_node_properties=['value'],\n",
        "        embedding_node_property='embedding',\n",
        "    )\n",
        "\n",
        "entities_list = df['entity_type'].unique()\n",
        "\n",
        "for t in entities_list:\n",
        "    embed_entities(t)"
      ],
      "metadata": {
        "id": "2uxACCPghzBr"
      },
      "execution_count": 24,
      "outputs": []
    },
    {
      "cell_type": "code",
      "source": [
        "from langchain.chains import GraphCypherQAChain\n",
        "from langchain.chat_models import ChatOpenAI\n",
        "\n",
        "chain = GraphCypherQAChain.from_llm(\n",
        "    ChatOpenAI(temperature=0), graph=graph, verbose=True,\n",
        ")"
      ],
      "metadata": {
        "id": "d8Cx2cdjiG6i"
      },
      "execution_count": null,
      "outputs": []
    },
    {
      "cell_type": "code",
      "source": [
        "chain.run(\"\"\"\n",
        "Help me find curtains\n",
        "\"\"\")"
      ],
      "metadata": {
        "colab": {
          "base_uri": "https://localhost:8080/",
          "height": 288
        },
        "id": "Q09eh4CziMZY",
        "outputId": "cc839a0c-c364-4fa2-99e2-43aae928e846"
      },
      "execution_count": 26,
      "outputs": [
        {
          "output_type": "stream",
          "name": "stderr",
          "text": [
            "/usr/local/lib/python3.10/dist-packages/langchain_core/_api/deprecation.py:117: LangChainDeprecationWarning: The function `run` was deprecated in LangChain 0.1.0 and will be removed in 0.2.0. Use invoke instead.\n",
            "  warn_deprecated(\n"
          ]
        },
        {
          "output_type": "stream",
          "name": "stdout",
          "text": [
            "\n",
            "\n",
            "\u001b[1m> Entering new GraphCypherQAChain chain...\u001b[0m\n",
            "Generated Cypher:\n",
            "\u001b[32;1m\u001b[1;3mMATCH (p:Product)-[:HAS_CATEGORY]->(c:Category)\n",
            "WHERE c.name = 'Curtains'\n",
            "RETURN p\u001b[0m\n",
            "Full Context:\n",
            "\u001b[32;1m\u001b[1;3m[]\u001b[0m\n",
            "\n",
            "\u001b[1m> Finished chain.\u001b[0m\n"
          ]
        },
        {
          "output_type": "execute_result",
          "data": {
            "text/plain": [
              "\"I'm sorry, but I don't have any information to help you find curtains.\""
            ],
            "application/vnd.google.colaboratory.intrinsic+json": {
              "type": "string"
            }
          },
          "metadata": {},
          "execution_count": 26
        }
      ]
    },
    {
      "cell_type": "code",
      "source": [
        "entity_types = {\n",
        "    \"product\": \"Item detailed type, for example 'high waist pants', 'outdoor plant pot', 'chef kitchen knife'\",\n",
        "    \"category\": \"Item category, for example 'home decoration', 'women clothing', 'office supply'\",\n",
        "    \"characteristic\": \"if present, item characteristics, for example 'waterproof', 'adhesive', 'easy to use'\",\n",
        "    \"measurement\": \"if present, dimensions of the item\",\n",
        "    \"brand\": \"if present, brand of the item\",\n",
        "    \"color\": \"if present, color of the item\",\n",
        "    \"age_group\": \"target age group for the product, one of 'babies', 'children', 'teenagers', 'adults'. If suitable for multiple age groups, pick the oldest (latter in the list).\"\n",
        "}\n",
        "\n",
        "relation_types = {\n",
        "    \"hasCategory\": \"item is of this category\",\n",
        "    \"hasCharacteristic\": \"item has this characteristic\",\n",
        "    \"hasMeasurement\": \"item is of this measurement\",\n",
        "    \"hasBrand\": \"item is of this brand\",\n",
        "    \"hasColor\": \"item is of this color\",\n",
        "    \"isFor\": \"item is for this age_group\"\n",
        " }\n",
        "\n",
        "entity_relationship_match = {\n",
        "    \"category\": \"hasCategory\",\n",
        "    \"characteristic\": \"hasCharacteristic\",\n",
        "    \"measurement\": \"hasMeasurement\",\n",
        "    \"brand\": \"hasBrand\",\n",
        "    \"color\": \"hasColor\",\n",
        "    \"age_group\": \"isFor\"\n",
        "}"
      ],
      "metadata": {
        "id": "ojc-1wsTieDx"
      },
      "execution_count": 27,
      "outputs": []
    },
    {
      "cell_type": "code",
      "source": [
        "system_prompt = f'''\n",
        "    You are a helpful agent designed to fetch information from a graph database.\n",
        "\n",
        "    The graph database links products to the following entity types:\n",
        "    {json.dumps(entity_types)}\n",
        "\n",
        "    Each link has one of the following relationships:\n",
        "    {json.dumps(relation_types)}\n",
        "\n",
        "    Depending on the user prompt, determine if it possible to answer with the graph database.\n",
        "\n",
        "    The graph database can match products with multiple relationships to several entities.\n",
        "\n",
        "    Example user input:\n",
        "    \"Which blue clothing items are suitable for adults?\"\n",
        "\n",
        "    There are three relationships to analyse:\n",
        "    1. The mention of the blue color means we will search for a color similar to \"blue\"\n",
        "    2. The mention of the clothing items means we will search for a category similar to \"clothing\"\n",
        "    3. The mention of adults means we will search for an age_group similar to \"adults\"\n",
        "\n",
        "\n",
        "    Return a json object following the following rules:\n",
        "    For each relationship to analyse, add a key value pair with the key being an exact match for one of the entity types provided, and the value being the value relevant to the user query.\n",
        "\n",
        "    For the example provided, the expected output would be:\n",
        "    {{\n",
        "        \"color\": \"blue\",\n",
        "        \"category\": \"clothing\",\n",
        "        \"age_group\": \"adults\"\n",
        "    }}\n",
        "\n",
        "    If there are no relevant entities in the user prompt, return an empty json object.\n",
        "'''\n",
        "\n",
        "print(system_prompt)"
      ],
      "metadata": {
        "colab": {
          "base_uri": "https://localhost:8080/"
        },
        "id": "zZPjss7ji4Ow",
        "outputId": "9b3bef54-1a33-4d27-e767-3077a2cb7587"
      },
      "execution_count": 28,
      "outputs": [
        {
          "output_type": "stream",
          "name": "stdout",
          "text": [
            "\n",
            "    You are a helpful agent designed to fetch information from a graph database.\n",
            "\n",
            "    The graph database links products to the following entity types:\n",
            "    {\"product\": \"Item detailed type, for example 'high waist pants', 'outdoor plant pot', 'chef kitchen knife'\", \"category\": \"Item category, for example 'home decoration', 'women clothing', 'office supply'\", \"characteristic\": \"if present, item characteristics, for example 'waterproof', 'adhesive', 'easy to use'\", \"measurement\": \"if present, dimensions of the item\", \"brand\": \"if present, brand of the item\", \"color\": \"if present, color of the item\", \"age_group\": \"target age group for the product, one of 'babies', 'children', 'teenagers', 'adults'. If suitable for multiple age groups, pick the oldest (latter in the list).\"}\n",
            "\n",
            "    Each link has one of the following relationships:\n",
            "    {\"hasCategory\": \"item is of this category\", \"hasCharacteristic\": \"item has this characteristic\", \"hasMeasurement\": \"item is of this measurement\", \"hasBrand\": \"item is of this brand\", \"hasColor\": \"item is of this color\", \"isFor\": \"item is for this age_group\"}\n",
            "\n",
            "    Depending on the user prompt, determine if it possible to answer with the graph database.\n",
            "\n",
            "    The graph database can match products with multiple relationships to several entities.\n",
            "\n",
            "    Example user input:\n",
            "    \"Which blue clothing items are suitable for adults?\"\n",
            "\n",
            "    There are three relationships to analyse:\n",
            "    1. The mention of the blue color means we will search for a color similar to \"blue\"\n",
            "    2. The mention of the clothing items means we will search for a category similar to \"clothing\"\n",
            "    3. The mention of adults means we will search for an age_group similar to \"adults\"\n",
            "\n",
            "\n",
            "    Return a json object following the following rules:\n",
            "    For each relationship to analyse, add a key value pair with the key being an exact match for one of the entity types provided, and the value being the value relevant to the user query.\n",
            "\n",
            "    For the example provided, the expected output would be:\n",
            "    {\n",
            "        \"color\": \"blue\",\n",
            "        \"category\": \"clothing\",\n",
            "        \"age_group\": \"adults\"\n",
            "    }\n",
            "\n",
            "    If there are no relevant entities in the user prompt, return an empty json object.\n",
            "\n"
          ]
        }
      ]
    },
    {
      "cell_type": "code",
      "source": [
        "from openai import OpenAI\n",
        "client = OpenAI(api_key=os.environ.get(\"OPENAI_API_KEY\", \"<your OpenAI API key if not set as env var>\"))\n",
        "\n",
        "# Define the entities to look for\n",
        "def define_query(prompt, model=\"gpt-4-1106-preview\"):\n",
        "    completion = client.chat.completions.create(\n",
        "        model=model,\n",
        "        temperature=0,\n",
        "        response_format= {\n",
        "            \"type\": \"json_object\"\n",
        "        },\n",
        "    messages=[\n",
        "        {\n",
        "            \"role\": \"system\",\n",
        "            \"content\": system_prompt\n",
        "        },\n",
        "        {\n",
        "            \"role\": \"user\",\n",
        "            \"content\": prompt\n",
        "        }\n",
        "        ]\n",
        "    )\n",
        "    return completion.choices[0].message.content"
      ],
      "metadata": {
        "id": "YJvMWOW8jKCs"
      },
      "execution_count": 29,
      "outputs": []
    },
    {
      "cell_type": "code",
      "source": [
        "example_queries = [\n",
        "    \"Which pink items are suitable for children?\",\n",
        "    \"Help me find gardening gear that is waterproof\",\n",
        "    \"I'm looking for a bench with dimensions 100x50 for my living room\"\n",
        "]\n",
        "\n",
        "for q in example_queries:\n",
        "    print(f\"Q: '{q}'\\n{define_query(q)}\\n\")\n"
      ],
      "metadata": {
        "colab": {
          "base_uri": "https://localhost:8080/"
        },
        "id": "iRcx_O1bjPl1",
        "outputId": "e374f794-9063-4e76-ea0c-a924db801c29"
      },
      "execution_count": 30,
      "outputs": [
        {
          "output_type": "stream",
          "name": "stdout",
          "text": [
            "Q: 'Which pink items are suitable for children?'\n",
            "{\n",
            "    \"color\": \"pink\",\n",
            "    \"age_group\": \"children\"\n",
            "}\n",
            "\n",
            "Q: 'Help me find gardening gear that is waterproof'\n",
            "{\n",
            "    \"category\": \"gardening gear\",\n",
            "    \"characteristic\": \"waterproof\"\n",
            "}\n",
            "\n",
            "Q: 'I'm looking for a bench with dimensions 100x50 for my living room'\n",
            "{\n",
            "    \"product\": \"bench\",\n",
            "    \"measurement\": \"100x50\",\n",
            "    \"category\": \"living room\"\n",
            "}\n",
            "\n"
          ]
        }
      ]
    },
    {
      "cell_type": "code",
      "source": [
        "def create_embedding(text):\n",
        "    result = client.embeddings.create(model=embeddings_model, input=text)\n",
        "    return result.data[0].embedding"
      ],
      "metadata": {
        "id": "vKZuQAzbqmZH"
      },
      "execution_count": 31,
      "outputs": []
    },
    {
      "cell_type": "code",
      "source": [
        "# The threshold defines how closely related words should be. Adjust the threshold to return more or less results\n",
        "def create_query(text, threshold=0.81):\n",
        "    query_data = json.loads(text)\n",
        "    # Creating embeddings\n",
        "    embeddings_data = []\n",
        "    for key, val in query_data.items():\n",
        "        if key != 'product':\n",
        "            embeddings_data.append(f\"${key}Embedding AS {key}Embedding\")\n",
        "    query = \"WITH \" + \",\\n\".join(e for e in embeddings_data)\n",
        "    # Matching products to each entity\n",
        "    query += \"\\nMATCH (p:Product)\\nMATCH \"\n",
        "    match_data = []\n",
        "    for key, val in query_data.items():\n",
        "        if key != 'product':\n",
        "            relationship = entity_relationship_match[key]\n",
        "            match_data.append(f\"(p)-[:{relationship}]->({key}Var:{key})\")\n",
        "    query += \",\\n\".join(e for e in match_data)\n",
        "    similarity_data = []\n",
        "    for key, val in query_data.items():\n",
        "        if key != 'product':\n",
        "            similarity_data.append(f\"gds.similarity.cosine({key}Var.embedding, ${key}Embedding) > {threshold}\")\n",
        "    query += \"\\nWHERE \"\n",
        "    query += \" AND \".join(e for e in similarity_data)\n",
        "    query += \"\\nRETURN p\"\n",
        "    return query"
      ],
      "metadata": {
        "id": "uDoeJ8nVqqxA"
      },
      "execution_count": 32,
      "outputs": []
    },
    {
      "cell_type": "code",
      "source": [
        "def query_graph(response):\n",
        "    embeddingsParams = {}\n",
        "    query = create_query(response)\n",
        "    query_data = json.loads(response)\n",
        "    for key, val in query_data.items():\n",
        "        embeddingsParams[f\"{key}Embedding\"] = create_embedding(val)\n",
        "    result = graph.query(query, params=embeddingsParams)\n",
        "    return result\n",
        "\n"
      ],
      "metadata": {
        "id": "5Kqs4h64qtAp"
      },
      "execution_count": 33,
      "outputs": []
    },
    {
      "cell_type": "code",
      "source": [
        "from langchain_community.graphs import Neo4jGraph\n",
        "from langchain.embeddings.openai import OpenAIEmbeddings\n",
        "embeddings = OpenAIEmbeddings()\n",
        "\n",
        "\n",
        "def query_graph(response):\n",
        "    query_data = json.loads(response)\n",
        "    embeddingsParams = {}\n",
        "    for key, val in query_data.items():\n",
        "        #embeddingsParams[f\"{key}Embedding\"] = embeddings.embed(val)\n",
        "        embeddingsParams[f\"{key}Embedding\"] = create_embedding(val)\n",
        "    query = f\"\"\"\n",
        "    MATCH (categoryVar:Category {{name: $categoryEmbedding}})\n",
        "    MATCH (colorVar:Color {{name: $colorEmbedding}})\n",
        "    MATCH (age_groupVar:AgeGroup {{name: $age_groupEmbedding}})\n",
        "    RETURN categoryVar.name AS category, colorVar.name AS color, age_groupVar.name AS age_group\n",
        "    \"\"\"\n",
        "    result = graph.query(query, params=embeddingsParams)\n",
        "    return result\n",
        "\n",
        "#graph = Neo4jGraph(embeddings=embeddings, db_type=\"bolt\", uri=\"neo4j://localhost:7687\", auth=(\"neo4j\", \"password\"))\n",
        "\n",
        "graph = Neo4jGraph(\n",
        "    url=url,\n",
        "    username=username,\n",
        "    password=password\n",
        ")\n",
        "\n",
        "example_response = '''{\n",
        "    \"category\": \"clothes\",\n",
        "    \"color\": \"blue\",\n",
        "    \"age_group\": \"adults\"\n",
        "}'''\n",
        "\n",
        "result = query_graph(example_response)\n",
        "\n",
        "print(result)\n"
      ],
      "metadata": {
        "id": "59qGuXT9DB1Q"
      },
      "execution_count": null,
      "outputs": []
    },
    {
      "cell_type": "code",
      "source": [
        "example_response = '''{\n",
        "    \"category\": \"clothes\",\n",
        "    \"color\": \"blue\",\n",
        "    \"age_group\": \"adults\"\n",
        "}'''\n",
        "\n",
        "result = query_graph(example_response)\n",
        "print(result)"
      ],
      "metadata": {
        "id": "xFNb5z0hqx-i"
      },
      "execution_count": null,
      "outputs": []
    },
    {
      "source": [
        "# Result\n",
        "print(f\"Found {len(result)} matching product(s):\\n\")\n",
        "for r in result:\n",
        "    print(f\"{r['p']['name']} ({r['p']['id']})\")"
      ],
      "cell_type": "code",
      "metadata": {
        "id": "C3veK7K4C9po"
      },
      "execution_count": null,
      "outputs": []
    },
    {
      "cell_type": "code",
      "source": [
        "# Adjust the relationships_threshold to return products that have more or less relationships in common\n",
        "def query_similar_items(product_id, relationships_threshold = 3):\n",
        "\n",
        "    similar_items = []\n",
        "\n",
        "    # Fetching items in the same category with at least 1 other entity in common\n",
        "    query_category = '''\n",
        "            MATCH (p:Product {id: $product_id})-[:hasCategory]->(c:category)\n",
        "            MATCH (p)-->(entity)\n",
        "            WHERE NOT entity:category\n",
        "            MATCH (n:Product)-[:hasCategory]->(c)\n",
        "            MATCH (n)-->(commonEntity)\n",
        "            WHERE commonEntity = entity AND p.id <> n.id\n",
        "            RETURN DISTINCT n;\n",
        "        '''\n",
        "\n",
        "\n",
        "    result_category = graph.query(query_category, params={\"product_id\": int(product_id)})\n",
        "    #print(f\"{len(result_category)} similar items of the same category were found.\")\n",
        "\n",
        "    # Fetching items with at least n (= relationships_threshold) entities in common\n",
        "    query_common_entities = '''\n",
        "        MATCH (p:Product {id: $product_id})-->(entity),\n",
        "            (n:Product)-->(entity)\n",
        "            WHERE p.id <> n.id\n",
        "            WITH n, COUNT(DISTINCT entity) AS commonEntities\n",
        "            WHERE commonEntities >= $threshold\n",
        "            RETURN n;\n",
        "        '''\n",
        "    result_common_entities = graph.query(query_common_entities, params={\"product_id\": int(product_id), \"threshold\": relationships_threshold})\n",
        "    #print(f\"{len(result_common_entities)} items with at least {relationships_threshold} things in common were found.\")\n",
        "\n",
        "    for i in result_category:\n",
        "        similar_items.append({\n",
        "            \"id\": i['n']['id'],\n",
        "            \"name\": i['n']['name']\n",
        "        })\n",
        "\n",
        "    for i in result_common_entities:\n",
        "        result_id = i['n']['id']\n",
        "        if not any(item['id'] == result_id for item in similar_items):\n",
        "            similar_items.append({\n",
        "                \"id\": result_id,\n",
        "                \"name\": i['n']['name']\n",
        "            })\n",
        "    return similar_items"
      ],
      "metadata": {
        "id": "uaA3bOPXFpGr"
      },
      "execution_count": 37,
      "outputs": []
    },
    {
      "cell_type": "code",
      "source": [
        "product_ids = ['1519827', '2763742']\n",
        "\n",
        "for product_id in product_ids:\n",
        "    print(f\"Similar items for product #{product_id}:\\n\")\n",
        "    result = query_similar_items(product_id)\n",
        "    print(\"\\n\")\n",
        "    for r in result:\n",
        "        print(f\"{r['name']} ({r['id']})\")\n",
        "    print(\"\\n\\n\")\n",
        "\n"
      ],
      "metadata": {
        "colab": {
          "base_uri": "https://localhost:8080/"
        },
        "id": "CoWBP1NCFvzT",
        "outputId": "ccdd64f8-8254-4c03-a149-971e5dc1063c"
      },
      "execution_count": 38,
      "outputs": [
        {
          "output_type": "stream",
          "name": "stdout",
          "text": [
            "Similar items for product #1519827:\n",
            "\n",
            "\n",
            "\n",
            "Womens Shift Knee-Long Dress (1483279)\n",
            "Maxi Dresses (1818763)\n",
            "Lingerie for Women for Sex Naughty (2666747)\n",
            "Alpine Faux Suede Knit Pencil Skirt (1372443)\n",
            "V-Neck Long Jumpsuit (2838428)\n",
            "Womens Maroon Round Neck Full Sleeves Gathered Peplum Top (1256928)\n",
            "Dhoti Pants (2293307)\n",
            "Sun Uv Protection Driving Gloves (1844637)\n",
            "Glossies Thong (941830)\n",
            "Womens Lightly Padded Non-Wired Printed T-Shirt Bra (1954205)\n",
            "Chiffon printed dupatta (2919319)\n",
            "Underwire Bra (1325580)\n",
            "Womens Drawstring Harem Pants (1233616)\n",
            "Womens Satin Semi-Stitched Lehenga Choli (2763742)\n",
            "Turtleneck Oversized Sweaters (2535064)\n",
            "A Line Open Back Satin Prom Dress (1955999)\n",
            "Womens Cotton Ankle Length Leggings (1594019)\n",
            "\n",
            "\n",
            "\n",
            "Similar items for product #2763742:\n",
            "\n",
            "\n",
            "\n",
            "Womens Shift Knee-Long Dress (1483279)\n",
            "Maxi Dresses (1818763)\n",
            "Lingerie for Women for Sex Naughty (2666747)\n",
            "Alpine Faux Suede Knit Pencil Skirt (1372443)\n",
            "V-Neck Long Jumpsuit (2838428)\n",
            "Womens Maroon Round Neck Full Sleeves Gathered Peplum Top (1256928)\n",
            "Dhoti Pants (2293307)\n",
            "Sun Uv Protection Driving Gloves (1844637)\n",
            "Glossies Thong (941830)\n",
            "Womens Lightly Padded Non-Wired Printed T-Shirt Bra (1954205)\n",
            "Chiffon printed dupatta (2919319)\n",
            "Underwire Bra (1325580)\n",
            "Womens Drawstring Harem Pants (1233616)\n",
            "Plain V Neck Half Sleeves T Shirt (1519827)\n",
            "Turtleneck Oversized Sweaters (2535064)\n",
            "A Line Open Back Satin Prom Dress (1955999)\n",
            "Womens Cotton Ankle Length Leggings (1594019)\n",
            "\n",
            "\n",
            "\n"
          ]
        }
      ]
    },
    {
      "cell_type": "code",
      "source": [
        "import logging\n",
        "\n",
        "def answer(prompt, similar_items_limit=10):\n",
        "    print(f'Prompt: \"{prompt}\"\\n')\n",
        "    params = define_query(prompt)\n",
        "    print(params)\n",
        "    result = query_db(params)\n",
        "    print(f\"Found {len(result)} matches with Query function.\\n\")\n",
        "    if len(result) == 0:\n",
        "        result = similarity_search(prompt)\n",
        "        print(f\"Found {len(result)} matches with Similarity search function.\\n\")\n",
        "        if len(result) == 0:\n",
        "            return \"I'm sorry, I did not find a match. Please try again with a little bit more details.\"\n",
        "    print(f\"I have found {len(result)} matching items:\\n\")\n",
        "    similar_items = []\n",
        "    for r in result:\n",
        "        similar_items.extend(query_similar_items(r['id']))\n",
        "        print(f\"{r['name']} ({r['id']})\")\n",
        "    print(\"\\n\")\n",
        "    if len(similar_items) > 0:\n",
        "        print(\"Similar items that might interest you:\\n\")\n",
        "        for i in similar_items[:similar_items_limit]:\n",
        "            print(f\"{i['name']} ({i['id']})\")\n",
        "    print(\"\\n\\n\\n\")\n",
        "    return result"
      ],
      "metadata": {
        "id": "4Te4ZyhtOA1I"
      },
      "execution_count": 39,
      "outputs": []
    }
  ],
  "metadata": {
    "colab": {
      "provenance": [],
      "authorship_tag": "ABX9TyMRl37TeaNGweHQAW0PrkCR",
      "include_colab_link": true
    },
    "kernelspec": {
      "display_name": "Python 3",
      "name": "python3"
    },
    "language_info": {
      "name": "python"
    }
  },
  "nbformat": 4,
  "nbformat_minor": 0
}