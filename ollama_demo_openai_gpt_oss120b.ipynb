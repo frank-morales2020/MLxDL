{
  "cells": [
    {
      "cell_type": "markdown",
      "metadata": {
        "id": "view-in-github",
        "colab_type": "text"
      },
      "source": [
        "<a href=\"https://colab.research.google.com/github/frank-morales2020/MLxDL/blob/main/ollama_demo_openai_gpt_oss120b.ipynb\" target=\"_parent\"><img src=\"https://colab.research.google.com/assets/colab-badge.svg\" alt=\"Open In Colab\"/></a>"
      ]
    },
    {
      "cell_type": "code",
      "execution_count": null,
      "metadata": {
        "id": "1FWeucfEyEyn"
      },
      "outputs": [],
      "source": [
        "!pip install colab-xterm\n",
        "%load_ext colabxterm"
      ]
    },
    {
      "cell_type": "code",
      "execution_count": null,
      "metadata": {
        "id": "GilMmtQFIWUq"
      },
      "outputs": [],
      "source": [
        "# %xterm\n",
        "# curl -fsSL https://ollama.com/install.sh | sh\n",
        "# ollama serve &\n",
        "# ollama pull gpt-oss:20b"
      ]
    },
    {
      "cell_type": "code",
      "execution_count": null,
      "metadata": {
        "id": "wQyL6JEwya6f"
      },
      "outputs": [],
      "source": [
        "%xterm"
      ]
    },
    {
      "cell_type": "code",
      "execution_count": 14,
      "metadata": {
        "colab": {
          "base_uri": "https://localhost:8080/"
        },
        "id": "VxcENLS96Tg_",
        "outputId": "8fe27060-0b8f-4e94-e083-b6f77a45a01b"
      },
      "outputs": [
        {
          "output_type": "stream",
          "name": "stdout",
          "text": [
            "Usage:\n",
            "  ollama [flags]\n",
            "  ollama [command]\n",
            "\n",
            "Available Commands:\n",
            "  serve       Start ollama\n",
            "  create      Create a model\n",
            "  show        Show information for a model\n",
            "  run         Run a model\n",
            "  stop        Stop a running model\n",
            "  pull        Pull a model from a registry\n",
            "  push        Push a model to a registry\n",
            "  list        List models\n",
            "  ps          List running models\n",
            "  cp          Copy a model\n",
            "  rm          Remove a model\n",
            "  help        Help about any command\n",
            "\n",
            "Flags:\n",
            "  -h, --help      help for ollama\n",
            "  -v, --version   Show version information\n",
            "\n",
            "Use \"ollama [command] --help\" for more information about a command.\n"
          ]
        }
      ],
      "source": [
        "!ollama"
      ]
    },
    {
      "cell_type": "code",
      "execution_count": null,
      "metadata": {
        "id": "E5W1TAjczHBK"
      },
      "outputs": [],
      "source": [
        "!pip install langchain -q\n",
        "!pip install langchain-core -q\n",
        "!pip install langchain-community -q"
      ]
    },
    {
      "cell_type": "code",
      "execution_count": 5,
      "metadata": {
        "id": "_fcVtafHzjjL"
      },
      "outputs": [],
      "source": [
        "!pip install -U langchain langchain-ollama -q"
      ]
    },
    {
      "cell_type": "code",
      "execution_count": 15,
      "metadata": {
        "id": "x3tZQkBdz3xG"
      },
      "outputs": [],
      "source": [
        "from langchain_ollama import OllamaLLM"
      ]
    },
    {
      "cell_type": "code",
      "execution_count": null,
      "metadata": {
        "id": "BytCj44s7Qdq"
      },
      "outputs": [],
      "source": [
        "!ollama pull gpt-oss:120b"
      ]
    },
    {
      "cell_type": "code",
      "source": [
        "!ollama list"
      ],
      "metadata": {
        "colab": {
          "base_uri": "https://localhost:8080/"
        },
        "id": "yKczmBdHSv7f",
        "outputId": "0195fb61-18cd-432b-d886-f54af5868cf5"
      },
      "execution_count": 17,
      "outputs": [
        {
          "output_type": "stream",
          "name": "stdout",
          "text": [
            "NAME            ID              SIZE     MODIFIED      \n",
            "gpt-oss:120b    735371f916a9    65 GB    7 seconds ago    \n"
          ]
        }
      ]
    },
    {
      "cell_type": "markdown",
      "source": [
        "## case1"
      ],
      "metadata": {
        "id": "nWddAAX-vE4K"
      }
    },
    {
      "cell_type": "code",
      "execution_count": 18,
      "metadata": {
        "id": "uR_6i4jc8ElT",
        "colab": {
          "base_uri": "https://localhost:8080/"
        },
        "outputId": "0e7fdee1-1eac-45f6-e8d8-edf1c1f72fa5"
      },
      "outputs": [
        {
          "output_type": "stream",
          "name": "stdout",
          "text": [
            "**The Midnight Paws of Luna**\n",
            "\n",
            "---\n",
            "\n",
            "### 1. The Whisper in the Window\n",
            "\n",
            "In the sleepy town of Willowbrook, where cobblestone streets curled like ribbons around old stone houses, lived a sleek silver tabby named **Luna**. By day she was the queen of sun‑soaked windowsills, a lazy ruler who commanded the admiration of neighborhood children and the occasional reverent pat from Mrs. Kettle, the baker’s wife. By night, however, Luna’s emerald eyes flickered with a restless spark that no amount of warm milk could soothe.\n",
            "\n",
            "One moon‑lit evening, as a gentle breeze rattled the shutters, Luna perched on the kitchen sill and watched a silvery moth dance across the garden. It hovered near a cracked stone wall at the far edge of the yard—right where the garden met the **Whispering Woods**, a thicket the townsfolk spoke of only in hushed tones. Legends said the woods were alive with hidden pathways, talking streams, and a secret that had been guarded for centuries.\n",
            "\n",
            "The moth, as if sensing Luna’s curiosity, fluttered toward a tiny, ancient key hanging from a low branch, its metal glinting like a star. Luna’s whiskers twitched. She leapt, caught the moth in mid‑air, and felt the cool metal press against her paw. The key fit perfectly into a small, moss‑covered lock in the base of the stone wall—a lock no human had noticed for generations.\n",
            "\n",
            "With a soft click, the wall sighed open, revealing a narrow, winding tunnel that smelled of earth, wild thyme, and something sweet—like fresh rain on pine needles. Luna’s heart hammered against her chest. The adventure she had only ever imagined in her daydreams was calling her name.\n",
            "\n",
            "---\n",
            "\n",
            "### 2. The Tunnel of Echoes\n",
            "\n",
            "The tunnel was just wide enough for Luna to slip through, and as she padded forward, the stone walls seemed to hum. Every footstep echoed back a faint, melodic chime, as if the very rock remembered the songs of ancient travelers.\n",
            "\n",
            "Halfway through, Luna heard a voice—not spoken, but felt. It was a soft, resonant purr that vibrated through the ground: **“Welcome, Keeper of the Night.”** The voice belonged to **Ari**, an ancient spirit fox whose silver fur shimmered like moonlight on water.\n",
            "\n",
            "Ari appeared from a swirl of mist, eyes glowing amber. “You have opened the Gate of Whispers,” he said. “Only the brave, the curious, and the pure‑hearted may pass. The world beyond needs a guardian—one who can hear the songs of the stars and protect the hidden wonders of the woods.”\n",
            "\n",
            "Luna’s tail swished with excitement. “What must I do?” she asked, her voice barely a mew.\n",
            "\n",
            "Ari lifted his paw, and a map of glowing constellations floated before them. “First, you must retrieve the **Heartstone** from the Crystal Glade. It powers the forest’s magic. Without it, the woods will wither, and the night will lose its lullaby.”\n",
            "\n",
            "---\n",
            "\n",
            "### 3. The Crystal Glade\n",
            "\n",
            "The tunnel opened onto a moon‑lit clearing where towering crystal trees rose like glass spires, each one humming with a different tone. At the center stood a pedestal of smooth white stone, upon which rested a pulsating ruby‑red gem—the Heartstone. Surrounding it were three guardians: a regal owl named **Soren**, a mischievous raccoon called **Twick**, and a sleepy hedgehog known as **Mira**.\n",
            "\n",
            "Soren hooted solemnly, “Only those who understand the balance of night and day may claim the Heartstone.”\n",
            "\n",
            "Twick chittered, “Answer our riddles, and the stone is yours. Fail, and you’ll be turned to a stone statue—just another decoration for the glade.”\n",
            "\n",
            "Mira yawned, “We’re not cruel; we simply protect what’s precious. Try us, little cat.”\n",
            "\n",
            "Luna bowed her head respectfully and listened as Twick presented the first riddle:\n",
            "\n",
            "> **“I have cities, but no houses. I have mountains, but no trees. I have water, but no fish. What am I?”**\n",
            "\n",
            "Luna’s ears twitched. She remembered the map of constellations—stars form **maps**. “A map!” she declared.\n",
            "\n",
            "Twick’s eyes widened, and he clapped his tiny paws. “Correct! One down.”\n",
            "\n",
            "The second riddle came from Soren:\n",
            "\n",
            "> **“I speak without a mouth and hear without ears. I have no body, but I come alive with wind. What am I\n"
          ]
        }
      ],
      "source": [
        "from langchain_community.llms import Ollama\n",
        "import warnings\n",
        "warnings.filterwarnings('ignore')\n",
        "\n",
        "# Initialize the Ollama LLM with deepseek-r1\n",
        "llm = Ollama(model=\"gpt-oss:120b\",num_predict=1024)\n",
        "\n",
        "# Send a prompt\n",
        "response = llm.invoke(\"Tell me a story about a cat who goes on an adventure.\")\n",
        "print(response)"
      ]
    },
    {
      "cell_type": "markdown",
      "source": [
        "## case2"
      ],
      "metadata": {
        "id": "PDo8lqXJvKQI"
      }
    },
    {
      "cell_type": "code",
      "source": [
        "from langchain_community.llms import Ollama\n",
        "\n",
        "# Initialize the Ollama LLM with deepseek-r1\n",
        "llm = Ollama(model=\"gpt-oss:120b\",num_predict=1024)\n",
        "\n",
        "# Send a prompt\n",
        "response = llm.invoke(\"Explain quantum mechanics clearly and concisely.\")\n",
        "print(response)"
      ],
      "metadata": {
        "id": "QfTBdPgRnvyY",
        "colab": {
          "base_uri": "https://localhost:8080/"
        },
        "outputId": "eea78859-f36e-4af9-f5f8-41af3feb18f0"
      },
      "execution_count": 20,
      "outputs": [
        {
          "output_type": "stream",
          "name": "stdout",
          "text": [
            "**Quantum Mechanics in a nutshell**\n",
            "\n",
            "| Core idea | What it means (in plain language) | Simple mathematical glimpse |\n",
            "|-----------|-----------------------------------|-----------------------------|\n",
            "| **1. Quantized energy** | Particles such as electrons can only have certain “allowed” energy values, like a ladder with discrete rungs, not a smooth slide. | \\(E_n = n\\hbar\\omega\\) for a harmonic oscillator; \\(n = 0,1,2,\\dots\\) |\n",
            "| **2. Wave‑particle duality** | Anything that we call a “particle” also behaves like a wave that can spread out, interfere, and diffract. | State described by a **wavefunction** \\(\\psi(\\mathbf r,t)\\). \\(|\\psi|^2\\) tells the probability of finding the particle at a given place. |\n",
            "| **3. Superposition** | A system can be in many possible states at once, until we look. Think of a coin that is both heads *and* tails until you peek. | \\(|\\Psi\\rangle = c_1|a\\rangle + c_2|b\\rangle\\) with \\(|c_1|^2+|c_2|^2=1\\). |\n",
            "| **4. Measurement (collapse)** | When we measure, the superposition “chooses” one outcome, with probabilities given by the squared amplitudes. The act of measurement changes the system. | Probability of outcome \\(a\\): \\(P(a)=|\\langle a|\\Psi\\rangle|^2\\). After measurement the state becomes \\(|a\\rangle\\). |\n",
            "| **5. Heisenberg uncertainty** | Certain pairs of properties (e.g., position and momentum) cannot both be known precisely at the same time. The more you know about one, the less you know about the other. | \\(\\Delta x\\,\\Delta p \\ge \\frac{\\hbar}{2}\\). |\n",
            "| **6. Entanglement** | Two (or more) particles can become linked so that the state of one instantly determines the state of the other, no matter how far apart they are. This is not a signal, just a correlation. | \\(|\\Psi\\rangle = \\frac{1}{\\sqrt2}(|\\uparrow\\rangle_A|\\downarrow\\rangle_B - |\\downarrow\\rangle_A|\\uparrow\\rangle_B)\\). |\n",
            "| **7. Schrödinger equation** | The rule that tells how the wavefunction evolves in time, analogous to Newton’s law for classical particles. | \\(i\\hbar\\frac{\\partial}{\\partial t}\\psi(\\mathbf r,t)=\\hat H\\psi(\\mathbf r,t)\\), where \\(\\hat H\\) is the Hamiltonian (total energy operator). |\n",
            "\n",
            "---\n",
            "\n",
            "### How it all fits together\n",
            "\n",
            "1. **Prepare a system** – you set up an experiment (e.g., trap an electron). Its state is a wavefunction \\(\\psi\\) that may be a superposition of many possibilities.\n",
            "\n",
            "2. **Let it evolve** – the Schrödinger equation tells you how \\(\\psi\\) changes with time, spreading, interfering, or staying in discrete energy levels.\n",
            "\n",
            "3. **Measure** – you ask a question (position? spin? energy?). The wavefunction “collapses” to one of the eigenstates of the observable you measured, with probability given by \\(|\\psi|^2\\).\n",
            "\n",
            "4. **Result** – you record a definite outcome. If you repeat the experiment many times, the distribution of outcomes matches the probabilities predicted by the wavefunction.\n",
            "\n",
            "---\n",
            "\n",
            "### Why classical intuition fails\n",
            "\n",
            "| Classical picture | Quantum reality |\n",
            "|------------------|-----------------|\n",
            "| Objects have definite position and momentum at all times. | Only probabilities are defined; precise values don’t exist until measured. |\n",
            "| Two systems are independent unless they interact. | Entangled systems stay correlated forever, regardless of distance. |\n",
            "| Energy can vary continuously. | Energy is quantized in bound systems. |\n",
            "| Waves and particles are distinct concepts. | Every quantum entity is both, described by a single wavefunction. |\n",
            "\n",
            "---\n",
            "\n",
            "### Bottom‑line take‑away\n",
            "\n",
            "Quantum mechanics tells us that **the fundamental description of nature is a probability amplitude (the wavefunction)** that evolves smoothly according to the Schrödinger equation, but **measurement forces a single outcome**, with inherent limits (uncertainty) on how precisely we can know complementary properties. The theory explains everything from atoms and molecules to\n"
          ]
        }
      ]
    }
  ],
  "metadata": {
    "accelerator": "GPU",
    "colab": {
      "gpuType": "L4",
      "machine_shape": "hm",
      "provenance": [],
      "collapsed_sections": [
        "nWddAAX-vE4K",
        "PDo8lqXJvKQI"
      ],
      "authorship_tag": "ABX9TyMneUx2yRBNmqRlpuAWf5O7",
      "include_colab_link": true
    },
    "kernelspec": {
      "display_name": "Python 3",
      "name": "python3"
    },
    "language_info": {
      "name": "python"
    }
  },
  "nbformat": 4,
  "nbformat_minor": 0
}