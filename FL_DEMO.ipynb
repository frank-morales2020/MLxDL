{
  "nbformat": 4,
  "nbformat_minor": 0,
  "metadata": {
    "colab": {
      "provenance": [],
      "machine_shape": "hm",
      "gpuType": "A100",
      "authorship_tag": "ABX9TyNw0M3RsZC9neQcT/RBeNmL",
      "include_colab_link": true
    },
    "kernelspec": {
      "name": "python3",
      "display_name": "Python 3"
    },
    "language_info": {
      "name": "python"
    },
    "accelerator": "GPU",
    "widgets": {
      "application/vnd.jupyter.widget-state+json": {
        "e8ecb286febc46b6b76c82cf8d336443": {
          "model_module": "@jupyter-widgets/controls",
          "model_name": "HBoxModel",
          "model_module_version": "1.5.0",
          "state": {
            "_dom_classes": [],
            "_model_module": "@jupyter-widgets/controls",
            "_model_module_version": "1.5.0",
            "_model_name": "HBoxModel",
            "_view_count": null,
            "_view_module": "@jupyter-widgets/controls",
            "_view_module_version": "1.5.0",
            "_view_name": "HBoxView",
            "box_style": "",
            "children": [
              "IPY_MODEL_64509a8194df4fe4b6c7c259f0fa6f43",
              "IPY_MODEL_1324fb75806046ae8b62ddf242f6ab30",
              "IPY_MODEL_7ae43ab96e884e2ba5eaae8c4c634f4d"
            ],
            "layout": "IPY_MODEL_98aa803286084ea098269846b3dd4c1d"
          }
        },
        "64509a8194df4fe4b6c7c259f0fa6f43": {
          "model_module": "@jupyter-widgets/controls",
          "model_name": "HTMLModel",
          "model_module_version": "1.5.0",
          "state": {
            "_dom_classes": [],
            "_model_module": "@jupyter-widgets/controls",
            "_model_module_version": "1.5.0",
            "_model_name": "HTMLModel",
            "_view_count": null,
            "_view_module": "@jupyter-widgets/controls",
            "_view_module_version": "1.5.0",
            "_view_name": "HTMLView",
            "description": "",
            "description_tooltip": null,
            "layout": "IPY_MODEL_f508fe70adfc48b3a252c9fc890b4386",
            "placeholder": "​",
            "style": "IPY_MODEL_b90d2da9b8e242599caabd3624a52bf7",
            "value": "Loading checkpoint shards: 100%"
          }
        },
        "1324fb75806046ae8b62ddf242f6ab30": {
          "model_module": "@jupyter-widgets/controls",
          "model_name": "FloatProgressModel",
          "model_module_version": "1.5.0",
          "state": {
            "_dom_classes": [],
            "_model_module": "@jupyter-widgets/controls",
            "_model_module_version": "1.5.0",
            "_model_name": "FloatProgressModel",
            "_view_count": null,
            "_view_module": "@jupyter-widgets/controls",
            "_view_module_version": "1.5.0",
            "_view_name": "ProgressView",
            "bar_style": "success",
            "description": "",
            "description_tooltip": null,
            "layout": "IPY_MODEL_d077fcbfa423490d995505220f0906ae",
            "max": 2,
            "min": 0,
            "orientation": "horizontal",
            "style": "IPY_MODEL_17d87a19d0fb455d82e81d282cfdc73b",
            "value": 2
          }
        },
        "7ae43ab96e884e2ba5eaae8c4c634f4d": {
          "model_module": "@jupyter-widgets/controls",
          "model_name": "HTMLModel",
          "model_module_version": "1.5.0",
          "state": {
            "_dom_classes": [],
            "_model_module": "@jupyter-widgets/controls",
            "_model_module_version": "1.5.0",
            "_model_name": "HTMLModel",
            "_view_count": null,
            "_view_module": "@jupyter-widgets/controls",
            "_view_module_version": "1.5.0",
            "_view_name": "HTMLView",
            "description": "",
            "description_tooltip": null,
            "layout": "IPY_MODEL_a0bbd87b1dc34441ab5c53a17b01ef47",
            "placeholder": "​",
            "style": "IPY_MODEL_eae7526d9a5a4d598bba390ffb9529b3",
            "value": " 2/2 [00:04&lt;00:00,  1.98s/it]"
          }
        },
        "98aa803286084ea098269846b3dd4c1d": {
          "model_module": "@jupyter-widgets/base",
          "model_name": "LayoutModel",
          "model_module_version": "1.2.0",
          "state": {
            "_model_module": "@jupyter-widgets/base",
            "_model_module_version": "1.2.0",
            "_model_name": "LayoutModel",
            "_view_count": null,
            "_view_module": "@jupyter-widgets/base",
            "_view_module_version": "1.2.0",
            "_view_name": "LayoutView",
            "align_content": null,
            "align_items": null,
            "align_self": null,
            "border": null,
            "bottom": null,
            "display": null,
            "flex": null,
            "flex_flow": null,
            "grid_area": null,
            "grid_auto_columns": null,
            "grid_auto_flow": null,
            "grid_auto_rows": null,
            "grid_column": null,
            "grid_gap": null,
            "grid_row": null,
            "grid_template_areas": null,
            "grid_template_columns": null,
            "grid_template_rows": null,
            "height": null,
            "justify_content": null,
            "justify_items": null,
            "left": null,
            "margin": null,
            "max_height": null,
            "max_width": null,
            "min_height": null,
            "min_width": null,
            "object_fit": null,
            "object_position": null,
            "order": null,
            "overflow": null,
            "overflow_x": null,
            "overflow_y": null,
            "padding": null,
            "right": null,
            "top": null,
            "visibility": null,
            "width": null
          }
        },
        "f508fe70adfc48b3a252c9fc890b4386": {
          "model_module": "@jupyter-widgets/base",
          "model_name": "LayoutModel",
          "model_module_version": "1.2.0",
          "state": {
            "_model_module": "@jupyter-widgets/base",
            "_model_module_version": "1.2.0",
            "_model_name": "LayoutModel",
            "_view_count": null,
            "_view_module": "@jupyter-widgets/base",
            "_view_module_version": "1.2.0",
            "_view_name": "LayoutView",
            "align_content": null,
            "align_items": null,
            "align_self": null,
            "border": null,
            "bottom": null,
            "display": null,
            "flex": null,
            "flex_flow": null,
            "grid_area": null,
            "grid_auto_columns": null,
            "grid_auto_flow": null,
            "grid_auto_rows": null,
            "grid_column": null,
            "grid_gap": null,
            "grid_row": null,
            "grid_template_areas": null,
            "grid_template_columns": null,
            "grid_template_rows": null,
            "height": null,
            "justify_content": null,
            "justify_items": null,
            "left": null,
            "margin": null,
            "max_height": null,
            "max_width": null,
            "min_height": null,
            "min_width": null,
            "object_fit": null,
            "object_position": null,
            "order": null,
            "overflow": null,
            "overflow_x": null,
            "overflow_y": null,
            "padding": null,
            "right": null,
            "top": null,
            "visibility": null,
            "width": null
          }
        },
        "b90d2da9b8e242599caabd3624a52bf7": {
          "model_module": "@jupyter-widgets/controls",
          "model_name": "DescriptionStyleModel",
          "model_module_version": "1.5.0",
          "state": {
            "_model_module": "@jupyter-widgets/controls",
            "_model_module_version": "1.5.0",
            "_model_name": "DescriptionStyleModel",
            "_view_count": null,
            "_view_module": "@jupyter-widgets/base",
            "_view_module_version": "1.2.0",
            "_view_name": "StyleView",
            "description_width": ""
          }
        },
        "d077fcbfa423490d995505220f0906ae": {
          "model_module": "@jupyter-widgets/base",
          "model_name": "LayoutModel",
          "model_module_version": "1.2.0",
          "state": {
            "_model_module": "@jupyter-widgets/base",
            "_model_module_version": "1.2.0",
            "_model_name": "LayoutModel",
            "_view_count": null,
            "_view_module": "@jupyter-widgets/base",
            "_view_module_version": "1.2.0",
            "_view_name": "LayoutView",
            "align_content": null,
            "align_items": null,
            "align_self": null,
            "border": null,
            "bottom": null,
            "display": null,
            "flex": null,
            "flex_flow": null,
            "grid_area": null,
            "grid_auto_columns": null,
            "grid_auto_flow": null,
            "grid_auto_rows": null,
            "grid_column": null,
            "grid_gap": null,
            "grid_row": null,
            "grid_template_areas": null,
            "grid_template_columns": null,
            "grid_template_rows": null,
            "height": null,
            "justify_content": null,
            "justify_items": null,
            "left": null,
            "margin": null,
            "max_height": null,
            "max_width": null,
            "min_height": null,
            "min_width": null,
            "object_fit": null,
            "object_position": null,
            "order": null,
            "overflow": null,
            "overflow_x": null,
            "overflow_y": null,
            "padding": null,
            "right": null,
            "top": null,
            "visibility": null,
            "width": null
          }
        },
        "17d87a19d0fb455d82e81d282cfdc73b": {
          "model_module": "@jupyter-widgets/controls",
          "model_name": "ProgressStyleModel",
          "model_module_version": "1.5.0",
          "state": {
            "_model_module": "@jupyter-widgets/controls",
            "_model_module_version": "1.5.0",
            "_model_name": "ProgressStyleModel",
            "_view_count": null,
            "_view_module": "@jupyter-widgets/base",
            "_view_module_version": "1.2.0",
            "_view_name": "StyleView",
            "bar_color": null,
            "description_width": ""
          }
        },
        "a0bbd87b1dc34441ab5c53a17b01ef47": {
          "model_module": "@jupyter-widgets/base",
          "model_name": "LayoutModel",
          "model_module_version": "1.2.0",
          "state": {
            "_model_module": "@jupyter-widgets/base",
            "_model_module_version": "1.2.0",
            "_model_name": "LayoutModel",
            "_view_count": null,
            "_view_module": "@jupyter-widgets/base",
            "_view_module_version": "1.2.0",
            "_view_name": "LayoutView",
            "align_content": null,
            "align_items": null,
            "align_self": null,
            "border": null,
            "bottom": null,
            "display": null,
            "flex": null,
            "flex_flow": null,
            "grid_area": null,
            "grid_auto_columns": null,
            "grid_auto_flow": null,
            "grid_auto_rows": null,
            "grid_column": null,
            "grid_gap": null,
            "grid_row": null,
            "grid_template_areas": null,
            "grid_template_columns": null,
            "grid_template_rows": null,
            "height": null,
            "justify_content": null,
            "justify_items": null,
            "left": null,
            "margin": null,
            "max_height": null,
            "max_width": null,
            "min_height": null,
            "min_width": null,
            "object_fit": null,
            "object_position": null,
            "order": null,
            "overflow": null,
            "overflow_x": null,
            "overflow_y": null,
            "padding": null,
            "right": null,
            "top": null,
            "visibility": null,
            "width": null
          }
        },
        "eae7526d9a5a4d598bba390ffb9529b3": {
          "model_module": "@jupyter-widgets/controls",
          "model_name": "DescriptionStyleModel",
          "model_module_version": "1.5.0",
          "state": {
            "_model_module": "@jupyter-widgets/controls",
            "_model_module_version": "1.5.0",
            "_model_name": "DescriptionStyleModel",
            "_view_count": null,
            "_view_module": "@jupyter-widgets/base",
            "_view_module_version": "1.2.0",
            "_view_name": "StyleView",
            "description_width": ""
          }
        },
        "bb2bf69feaa9409f95b44281c2c7e5d4": {
          "model_module": "@jupyter-widgets/controls",
          "model_name": "HBoxModel",
          "model_module_version": "1.5.0",
          "state": {
            "_dom_classes": [],
            "_model_module": "@jupyter-widgets/controls",
            "_model_module_version": "1.5.0",
            "_model_name": "HBoxModel",
            "_view_count": null,
            "_view_module": "@jupyter-widgets/controls",
            "_view_module_version": "1.5.0",
            "_view_name": "HBoxView",
            "box_style": "",
            "children": [
              "IPY_MODEL_434bbd895f4142a6b4f1dd96042de1b0",
              "IPY_MODEL_c050fe4548c54909baf6980a05e83843",
              "IPY_MODEL_5b1ca62b3ed34df4b637e5641cc69cba"
            ],
            "layout": "IPY_MODEL_81b5038a1bb14641b9f8c00151e72404"
          }
        },
        "434bbd895f4142a6b4f1dd96042de1b0": {
          "model_module": "@jupyter-widgets/controls",
          "model_name": "HTMLModel",
          "model_module_version": "1.5.0",
          "state": {
            "_dom_classes": [],
            "_model_module": "@jupyter-widgets/controls",
            "_model_module_version": "1.5.0",
            "_model_name": "HTMLModel",
            "_view_count": null,
            "_view_module": "@jupyter-widgets/controls",
            "_view_module_version": "1.5.0",
            "_view_name": "HTMLView",
            "description": "",
            "description_tooltip": null,
            "layout": "IPY_MODEL_7ad6780ea34f4ea08bbe70bc8c9ae03c",
            "placeholder": "​",
            "style": "IPY_MODEL_aabeb53d19eb4321878a11b99ea1f2cd",
            "value": "Loading checkpoint shards: 100%"
          }
        },
        "c050fe4548c54909baf6980a05e83843": {
          "model_module": "@jupyter-widgets/controls",
          "model_name": "FloatProgressModel",
          "model_module_version": "1.5.0",
          "state": {
            "_dom_classes": [],
            "_model_module": "@jupyter-widgets/controls",
            "_model_module_version": "1.5.0",
            "_model_name": "FloatProgressModel",
            "_view_count": null,
            "_view_module": "@jupyter-widgets/controls",
            "_view_module_version": "1.5.0",
            "_view_name": "ProgressView",
            "bar_style": "success",
            "description": "",
            "description_tooltip": null,
            "layout": "IPY_MODEL_9024e39dc5f7453c85bad913f82c3d96",
            "max": 4,
            "min": 0,
            "orientation": "horizontal",
            "style": "IPY_MODEL_aa11994c8e6f4cb8a6f391acbb57e1f3",
            "value": 4
          }
        },
        "5b1ca62b3ed34df4b637e5641cc69cba": {
          "model_module": "@jupyter-widgets/controls",
          "model_name": "HTMLModel",
          "model_module_version": "1.5.0",
          "state": {
            "_dom_classes": [],
            "_model_module": "@jupyter-widgets/controls",
            "_model_module_version": "1.5.0",
            "_model_name": "HTMLModel",
            "_view_count": null,
            "_view_module": "@jupyter-widgets/controls",
            "_view_module_version": "1.5.0",
            "_view_name": "HTMLView",
            "description": "",
            "description_tooltip": null,
            "layout": "IPY_MODEL_9047314833b34a9fa44809ee52600a94",
            "placeholder": "​",
            "style": "IPY_MODEL_208b55e9d06045bfb1aac3b5e6064e63",
            "value": " 4/4 [00:03&lt;00:00,  1.18s/it]"
          }
        },
        "81b5038a1bb14641b9f8c00151e72404": {
          "model_module": "@jupyter-widgets/base",
          "model_name": "LayoutModel",
          "model_module_version": "1.2.0",
          "state": {
            "_model_module": "@jupyter-widgets/base",
            "_model_module_version": "1.2.0",
            "_model_name": "LayoutModel",
            "_view_count": null,
            "_view_module": "@jupyter-widgets/base",
            "_view_module_version": "1.2.0",
            "_view_name": "LayoutView",
            "align_content": null,
            "align_items": null,
            "align_self": null,
            "border": null,
            "bottom": null,
            "display": null,
            "flex": null,
            "flex_flow": null,
            "grid_area": null,
            "grid_auto_columns": null,
            "grid_auto_flow": null,
            "grid_auto_rows": null,
            "grid_column": null,
            "grid_gap": null,
            "grid_row": null,
            "grid_template_areas": null,
            "grid_template_columns": null,
            "grid_template_rows": null,
            "height": null,
            "justify_content": null,
            "justify_items": null,
            "left": null,
            "margin": null,
            "max_height": null,
            "max_width": null,
            "min_height": null,
            "min_width": null,
            "object_fit": null,
            "object_position": null,
            "order": null,
            "overflow": null,
            "overflow_x": null,
            "overflow_y": null,
            "padding": null,
            "right": null,
            "top": null,
            "visibility": null,
            "width": null
          }
        },
        "7ad6780ea34f4ea08bbe70bc8c9ae03c": {
          "model_module": "@jupyter-widgets/base",
          "model_name": "LayoutModel",
          "model_module_version": "1.2.0",
          "state": {
            "_model_module": "@jupyter-widgets/base",
            "_model_module_version": "1.2.0",
            "_model_name": "LayoutModel",
            "_view_count": null,
            "_view_module": "@jupyter-widgets/base",
            "_view_module_version": "1.2.0",
            "_view_name": "LayoutView",
            "align_content": null,
            "align_items": null,
            "align_self": null,
            "border": null,
            "bottom": null,
            "display": null,
            "flex": null,
            "flex_flow": null,
            "grid_area": null,
            "grid_auto_columns": null,
            "grid_auto_flow": null,
            "grid_auto_rows": null,
            "grid_column": null,
            "grid_gap": null,
            "grid_row": null,
            "grid_template_areas": null,
            "grid_template_columns": null,
            "grid_template_rows": null,
            "height": null,
            "justify_content": null,
            "justify_items": null,
            "left": null,
            "margin": null,
            "max_height": null,
            "max_width": null,
            "min_height": null,
            "min_width": null,
            "object_fit": null,
            "object_position": null,
            "order": null,
            "overflow": null,
            "overflow_x": null,
            "overflow_y": null,
            "padding": null,
            "right": null,
            "top": null,
            "visibility": null,
            "width": null
          }
        },
        "aabeb53d19eb4321878a11b99ea1f2cd": {
          "model_module": "@jupyter-widgets/controls",
          "model_name": "DescriptionStyleModel",
          "model_module_version": "1.5.0",
          "state": {
            "_model_module": "@jupyter-widgets/controls",
            "_model_module_version": "1.5.0",
            "_model_name": "DescriptionStyleModel",
            "_view_count": null,
            "_view_module": "@jupyter-widgets/base",
            "_view_module_version": "1.2.0",
            "_view_name": "StyleView",
            "description_width": ""
          }
        },
        "9024e39dc5f7453c85bad913f82c3d96": {
          "model_module": "@jupyter-widgets/base",
          "model_name": "LayoutModel",
          "model_module_version": "1.2.0",
          "state": {
            "_model_module": "@jupyter-widgets/base",
            "_model_module_version": "1.2.0",
            "_model_name": "LayoutModel",
            "_view_count": null,
            "_view_module": "@jupyter-widgets/base",
            "_view_module_version": "1.2.0",
            "_view_name": "LayoutView",
            "align_content": null,
            "align_items": null,
            "align_self": null,
            "border": null,
            "bottom": null,
            "display": null,
            "flex": null,
            "flex_flow": null,
            "grid_area": null,
            "grid_auto_columns": null,
            "grid_auto_flow": null,
            "grid_auto_rows": null,
            "grid_column": null,
            "grid_gap": null,
            "grid_row": null,
            "grid_template_areas": null,
            "grid_template_columns": null,
            "grid_template_rows": null,
            "height": null,
            "justify_content": null,
            "justify_items": null,
            "left": null,
            "margin": null,
            "max_height": null,
            "max_width": null,
            "min_height": null,
            "min_width": null,
            "object_fit": null,
            "object_position": null,
            "order": null,
            "overflow": null,
            "overflow_x": null,
            "overflow_y": null,
            "padding": null,
            "right": null,
            "top": null,
            "visibility": null,
            "width": null
          }
        },
        "aa11994c8e6f4cb8a6f391acbb57e1f3": {
          "model_module": "@jupyter-widgets/controls",
          "model_name": "ProgressStyleModel",
          "model_module_version": "1.5.0",
          "state": {
            "_model_module": "@jupyter-widgets/controls",
            "_model_module_version": "1.5.0",
            "_model_name": "ProgressStyleModel",
            "_view_count": null,
            "_view_module": "@jupyter-widgets/base",
            "_view_module_version": "1.2.0",
            "_view_name": "StyleView",
            "bar_color": null,
            "description_width": ""
          }
        },
        "9047314833b34a9fa44809ee52600a94": {
          "model_module": "@jupyter-widgets/base",
          "model_name": "LayoutModel",
          "model_module_version": "1.2.0",
          "state": {
            "_model_module": "@jupyter-widgets/base",
            "_model_module_version": "1.2.0",
            "_model_name": "LayoutModel",
            "_view_count": null,
            "_view_module": "@jupyter-widgets/base",
            "_view_module_version": "1.2.0",
            "_view_name": "LayoutView",
            "align_content": null,
            "align_items": null,
            "align_self": null,
            "border": null,
            "bottom": null,
            "display": null,
            "flex": null,
            "flex_flow": null,
            "grid_area": null,
            "grid_auto_columns": null,
            "grid_auto_flow": null,
            "grid_auto_rows": null,
            "grid_column": null,
            "grid_gap": null,
            "grid_row": null,
            "grid_template_areas": null,
            "grid_template_columns": null,
            "grid_template_rows": null,
            "height": null,
            "justify_content": null,
            "justify_items": null,
            "left": null,
            "margin": null,
            "max_height": null,
            "max_width": null,
            "min_height": null,
            "min_width": null,
            "object_fit": null,
            "object_position": null,
            "order": null,
            "overflow": null,
            "overflow_x": null,
            "overflow_y": null,
            "padding": null,
            "right": null,
            "top": null,
            "visibility": null,
            "width": null
          }
        },
        "208b55e9d06045bfb1aac3b5e6064e63": {
          "model_module": "@jupyter-widgets/controls",
          "model_name": "DescriptionStyleModel",
          "model_module_version": "1.5.0",
          "state": {
            "_model_module": "@jupyter-widgets/controls",
            "_model_module_version": "1.5.0",
            "_model_name": "DescriptionStyleModel",
            "_view_count": null,
            "_view_module": "@jupyter-widgets/base",
            "_view_module_version": "1.2.0",
            "_view_name": "StyleView",
            "description_width": ""
          }
        }
      }
    }
  },
  "cells": [
    {
      "cell_type": "markdown",
      "metadata": {
        "id": "view-in-github",
        "colab_type": "text"
      },
      "source": [
        "<a href=\"https://colab.research.google.com/github/frank-morales2020/MLxDL/blob/main/FL_DEMO.ipynb\" target=\"_parent\"><img src=\"https://colab.research.google.com/assets/colab-badge.svg\" alt=\"Open In Colab\"/></a>"
      ]
    },
    {
      "cell_type": "code",
      "source": [
        "!pip install transformers -q\n",
        "!pip install scikit-fuzzy -q"
      ],
      "metadata": {
        "colab": {
          "base_uri": "https://localhost:8080/"
        },
        "id": "2sxd3LjhdOtJ",
        "outputId": "7740338e-e0f4-4577-d4c6-cb03c76222f1"
      },
      "execution_count": 1,
      "outputs": [
        {
          "output_type": "stream",
          "name": "stdout",
          "text": [
            "\u001b[?25l   \u001b[90m━━━━━━━━━━━━━━━━━━━━━━━━━━━━━━━━━━━━━━━━\u001b[0m \u001b[32m0.0/920.8 kB\u001b[0m \u001b[31m?\u001b[0m eta \u001b[36m-:--:--\u001b[0m\r\u001b[2K   \u001b[90m━━━━━━━━━━━━━━━━━━━━━━━━━━━━━━━━━━━━━━━━\u001b[0m \u001b[32m920.8/920.8 kB\u001b[0m \u001b[31m37.7 MB/s\u001b[0m eta \u001b[36m0:00:00\u001b[0m\n",
            "\u001b[?25h"
          ]
        }
      ]
    },
    {
      "cell_type": "markdown",
      "source": [
        "## MISTRAL"
      ],
      "metadata": {
        "id": "wXsusJ1wdJ17"
      }
    },
    {
      "cell_type": "code",
      "source": [
        "!nvidia-smi"
      ],
      "metadata": {
        "colab": {
          "base_uri": "https://localhost:8080/"
        },
        "id": "EpUkhLHhk8gz",
        "outputId": "9b3d2241-ec17-429a-f5f8-8a6bcbbba3b1"
      },
      "execution_count": 1,
      "outputs": [
        {
          "output_type": "stream",
          "name": "stdout",
          "text": [
            "Sat Apr 12 15:34:03 2025       \n",
            "+-----------------------------------------------------------------------------------------+\n",
            "| NVIDIA-SMI 550.54.15              Driver Version: 550.54.15      CUDA Version: 12.4     |\n",
            "|-----------------------------------------+------------------------+----------------------+\n",
            "| GPU  Name                 Persistence-M | Bus-Id          Disp.A | Volatile Uncorr. ECC |\n",
            "| Fan  Temp   Perf          Pwr:Usage/Cap |           Memory-Usage | GPU-Util  Compute M. |\n",
            "|                                         |                        |               MIG M. |\n",
            "|=========================================+========================+======================|\n",
            "|   0  NVIDIA A100-SXM4-40GB          Off |   00000000:00:04.0 Off |                    0 |\n",
            "| N/A   32C    P0             40W /  400W |       0MiB /  40960MiB |      0%      Default |\n",
            "|                                         |                        |             Disabled |\n",
            "+-----------------------------------------+------------------------+----------------------+\n",
            "                                                                                         \n",
            "+-----------------------------------------------------------------------------------------+\n",
            "| Processes:                                                                              |\n",
            "|  GPU   GI   CI        PID   Type   Process name                              GPU Memory |\n",
            "|        ID   ID                                                               Usage      |\n",
            "|=========================================================================================|\n",
            "|  No running processes found                                                             |\n",
            "+-----------------------------------------------------------------------------------------+\n"
          ]
        }
      ]
    },
    {
      "cell_type": "code",
      "execution_count": 2,
      "metadata": {
        "colab": {
          "base_uri": "https://localhost:8080/",
          "height": 121,
          "referenced_widgets": [
            "e8ecb286febc46b6b76c82cf8d336443",
            "64509a8194df4fe4b6c7c259f0fa6f43",
            "1324fb75806046ae8b62ddf242f6ab30",
            "7ae43ab96e884e2ba5eaae8c4c634f4d",
            "98aa803286084ea098269846b3dd4c1d",
            "f508fe70adfc48b3a252c9fc890b4386",
            "b90d2da9b8e242599caabd3624a52bf7",
            "d077fcbfa423490d995505220f0906ae",
            "17d87a19d0fb455d82e81d282cfdc73b",
            "a0bbd87b1dc34441ab5c53a17b01ef47",
            "eae7526d9a5a4d598bba390ffb9529b3"
          ]
        },
        "id": "_z9vtjJfc9MT",
        "outputId": "a266bd34-afe5-4daa-a76c-46f57d2fb46e"
      },
      "outputs": [
        {
          "output_type": "display_data",
          "data": {
            "text/plain": [
              "Loading checkpoint shards:   0%|          | 0/2 [00:00<?, ?it/s]"
            ],
            "application/vnd.jupyter.widget-view+json": {
              "version_major": 2,
              "version_minor": 0,
              "model_id": "e8ecb286febc46b6b76c82cf8d336443"
            }
          },
          "metadata": {}
        },
        {
          "output_type": "stream",
          "name": "stderr",
          "text": [
            "Some weights of MistralForSequenceClassification were not initialized from the model checkpoint at mistralai/Mistral-7B-v0.1 and are newly initialized: ['score.weight']\n",
            "You should probably TRAIN this model on a down-stream task to be able to use it for predictions and inference.\n",
            "Device set to use cuda:0\n"
          ]
        }
      ],
      "source": [
        "import numpy as np\n",
        "import skfuzzy as fuzz\n",
        "from skfuzzy import control as ctrl\n",
        "from transformers import pipeline\n",
        "\n",
        "# 1. Initialize a sentiment analysis pipeline using a Mistral model from Hugging Face\n",
        "try:\n",
        "    sentiment_analyzer = pipeline(\"sentiment-analysis\", model=\"mistralai/Mistral-7B-v0.1\")\n",
        "except Exception as e:\n",
        "    print(f\"Error loading Mistral sentiment analysis model from Hugging Face: {e}\")\n",
        "    print(\"Please ensure you have the 'transformers' library installed and a network connection.\")\n",
        "    print(\"Falling back to a simplified simulation.\")\n",
        "    def analyze_sentiment_with_hf_mistral(text):\n",
        "        if \"terrible\" in text or \"awful\" in text or \"hate\" in text:\n",
        "            return 0.08\n",
        "        elif \"bad\" in text or \"disappointed\" in text:\n",
        "            return 0.25\n",
        "        elif \"okay\" in text or \"not great not bad\" in text or \"meh\" in text:\n",
        "            return 0.55\n",
        "        elif \"good\" in text or \"happy\" in text or \"enjoyed\" in text:\n",
        "            return 0.75\n",
        "        elif \"amazing\" in text or \"love\" in text or \"fantastic\" in text or \"excellent\" in text:\n",
        "            return 0.92\n",
        "        else:\n",
        "            return 0.6\n",
        "    analyze_sentiment_with_hf_mistral_pipeline = analyze_sentiment_with_hf_mistral\n",
        "else:\n",
        "    def analyze_sentiment_with_hf_mistral_pipeline(text):\n",
        "        \"\"\"\n",
        "        Analyzes sentiment using a Mistral model from Hugging Face.\n",
        "        \"\"\"\n",
        "        result = sentiment_analyzer(text)[0]\n",
        "        if result['label'] == 'POSITIVE':\n",
        "            return result['score']\n",
        "        elif result['label'] == 'NEGATIVE':\n",
        "            return 1 - result['score'] # Convert negative score to 0-1 range\n",
        "        else:\n",
        "            return 0.5 # Neutral if the model isn't strongly positive or negative"
      ]
    },
    {
      "cell_type": "code",
      "source": [
        "# 2. Define the input variable (LLM Sentiment Score)\n",
        "sentiment_score = ctrl.Antecedent(np.arange(0, 1.01, 0.01), 'sentiment_score')\n",
        "\n",
        "# 3. Define the output variable (Fuzzy Sentiment Category)\n",
        "fuzzy_sentiment = ctrl.Consequent(np.arange(0, 1.01, 0.01), 'fuzzy_sentiment')\n",
        "\n",
        "# 4. Define the fuzzy membership functions for the input\n",
        "sentiment_score['negative'] = fuzz.trimf(sentiment_score.universe, [0, 0, 0.4])\n",
        "sentiment_score['neutral'] = fuzz.trimf(sentiment_score.universe, [0.2, 0.5, 0.8])\n",
        "sentiment_score['positive'] = fuzz.trimf(sentiment_score.universe, [0.6, 1, 1])\n",
        "\n",
        "# 5. Define the fuzzy membership functions for the output\n",
        "fuzzy_sentiment['negative'] = fuzz.trimf(fuzzy_sentiment.universe, [0, 0, 0.4])\n",
        "fuzzy_sentiment['neutral'] = fuzz.trimf(fuzzy_sentiment.universe, [0.2, 0.5, 0.8])\n",
        "fuzzy_sentiment['positive'] = fuzz.trimf(fuzzy_sentiment.universe, [0.6, 1, 1])\n",
        "\n",
        "# 6. Define the fuzzy rules\n",
        "rule1 = ctrl.Rule(sentiment_score['negative'], fuzzy_sentiment['negative'])\n",
        "rule2 = ctrl.Rule(sentiment_score['neutral'], fuzzy_sentiment['neutral'])\n",
        "rule3 = ctrl.Rule(sentiment_score['positive'], fuzzy_sentiment['positive'])\n",
        "\n",
        "# 7. Create the control system\n",
        "sentiment_ctrl = ctrl.ControlSystem([rule1, rule2, rule3])\n",
        "sentiment_evaluation = ctrl.ControlSystemSimulation(sentiment_ctrl)\n",
        "\n",
        "# 8. Example usage with Mistral from Hugging Face\n",
        "customer_review = \"The speed was excellent, but the setup process was quite frustrating.\"\n",
        "mistral_sentiment_output = analyze_sentiment_with_hf_mistral_pipeline(customer_review)\n",
        "\n",
        "# 9. Feed the Mistral output into the fuzzy system\n",
        "sentiment_evaluation.input['sentiment_score'] = mistral_sentiment_output\n",
        "sentiment_evaluation.compute()\n",
        "\n",
        "# 10. Get the fuzzy output\n",
        "print(f\"Customer Review: '{customer_review}'\")\n",
        "print(f\"Mistral (from HF) Sentiment Score: {mistral_sentiment_output:.2f}\")\n",
        "print(f\"Fuzzy Sentiment Output: {sentiment_evaluation.output['fuzzy_sentiment']:.3f}\")\n",
        "\n",
        "# You can also see the degree of membership in each fuzzy set\n",
        "negative_membership = fuzz.interp_membership(sentiment_score.universe, sentiment_score['negative'].mf, mistral_sentiment_output)\n",
        "neutral_membership = fuzz.interp_membership(sentiment_score.universe, sentiment_score['neutral'].mf, mistral_sentiment_output)\n",
        "positive_membership = fuzz.interp_membership(sentiment_score.universe, sentiment_score['positive'].mf, mistral_sentiment_output)\n",
        "\n",
        "print(f\"Degree of Negative: {negative_membership:.3f}\")\n",
        "print(f\"Degree of Neutral: {neutral_membership:.3f}\")\n",
        "print(f\"Degree of Positive: {positive_membership:.3f}\")\n",
        "\n",
        "# Optional: Visualize the membership functions and the result\n",
        "sentiment_score.view(sim=sentiment_evaluation)\n",
        "fuzzy_sentiment.view(sim=sentiment_evaluation)"
      ],
      "metadata": {
        "colab": {
          "base_uri": "https://localhost:8080/",
          "height": 989
        },
        "id": "PoIAW4niggKE",
        "outputId": "c169508f-2ca3-4723-fcb1-25cdfdb760ef"
      },
      "execution_count": 3,
      "outputs": [
        {
          "output_type": "stream",
          "name": "stdout",
          "text": [
            "Customer Review: 'The speed was excellent, but the setup process was quite frustrating.'\n",
            "Mistral (from HF) Sentiment Score: 0.50\n",
            "Fuzzy Sentiment Output: 0.500\n",
            "Degree of Negative: 0.000\n",
            "Degree of Neutral: 1.000\n",
            "Degree of Positive: 0.000\n"
          ]
        },
        {
          "output_type": "display_data",
          "data": {
            "text/plain": [
              "<Figure size 640x480 with 1 Axes>"
            ],
            "image/png": "[encoded data removed]"
          },
          "metadata": {}
        },
        {
          "output_type": "display_data",
          "data": {
            "text/plain": [
              "<Figure size 640x480 with 1 Axes>"
            ],
            "image/png": "[encoded data removed]"
          },
          "metadata": {}
        }
      ]
    },
    {
      "cell_type": "markdown",
      "source": [
        "## LLAMA"
      ],
      "metadata": {
        "id": "Tp_zs-byeSYc"
      }
    },
    {
      "cell_type": "code",
      "source": [
        "!nvidia-smi"
      ],
      "metadata": {
        "colab": {
          "base_uri": "https://localhost:8080/"
        },
        "id": "5VZr1IFdkHv1",
        "outputId": "ed4e192f-8085-4f54-f3bc-27bc036176fc"
      },
      "execution_count": 1,
      "outputs": [
        {
          "output_type": "stream",
          "name": "stdout",
          "text": [
            "Sat Apr 12 15:30:14 2025       \n",
            "+-----------------------------------------------------------------------------------------+\n",
            "| NVIDIA-SMI 550.54.15              Driver Version: 550.54.15      CUDA Version: 12.4     |\n",
            "|-----------------------------------------+------------------------+----------------------+\n",
            "| GPU  Name                 Persistence-M | Bus-Id          Disp.A | Volatile Uncorr. ECC |\n",
            "| Fan  Temp   Perf          Pwr:Usage/Cap |           Memory-Usage | GPU-Util  Compute M. |\n",
            "|                                         |                        |               MIG M. |\n",
            "|=========================================+========================+======================|\n",
            "|   0  NVIDIA A100-SXM4-40GB          Off |   00000000:00:04.0 Off |                    0 |\n",
            "| N/A   32C    P0             40W /  400W |       0MiB /  40960MiB |      0%      Default |\n",
            "|                                         |                        |             Disabled |\n",
            "+-----------------------------------------+------------------------+----------------------+\n",
            "                                                                                         \n",
            "+-----------------------------------------------------------------------------------------+\n",
            "| Processes:                                                                              |\n",
            "|  GPU   GI   CI        PID   Type   Process name                              GPU Memory |\n",
            "|        ID   ID                                                               Usage      |\n",
            "|=========================================================================================|\n",
            "|  No running processes found                                                             |\n",
            "+-----------------------------------------------------------------------------------------+\n"
          ]
        }
      ]
    },
    {
      "cell_type": "code",
      "source": [
        "import numpy as np\n",
        "import skfuzzy as fuzz\n",
        "from skfuzzy import control as ctrl\n",
        "from transformers import pipeline\n",
        "\n",
        "# 1. Initialize a sentiment analysis pipeline using a Mistral model from Hugging Face\n",
        "try:\n",
        "    sentiment_analyzer = pipeline(\"sentiment-analysis\", model=\"meta-llama/Meta-Llama-3-8B\")\n",
        "except Exception as e:\n",
        "    print(f\"Error loading  LLAMA sentiment analysis model from Hugging Face: {e}\")\n",
        "    print(\"Please ensure you have the 'transformers' library installed and a network connection.\")\n",
        "    print(\"Falling back to a simplified simulation.\")\n",
        "    def analyze_sentiment_with_hf_llama(text):\n",
        "        if \"terrible\" in text or \"awful\" in text or \"hate\" in text:\n",
        "            return 0.08\n",
        "        elif \"bad\" in text or \"disappointed\" in text:\n",
        "            return 0.25\n",
        "        elif \"okay\" in text or \"not great not bad\" in text or \"meh\" in text:\n",
        "            return 0.55\n",
        "        elif \"good\" in text or \"happy\" in text or \"enjoyed\" in text:\n",
        "            return 0.75\n",
        "        elif \"amazing\" in text or \"love\" in text or \"fantastic\" in text or \"excellent\" in text:\n",
        "            return 0.92\n",
        "        else:\n",
        "            return 0.6\n",
        "    analyze_sentiment_with_hf_llama_pipeline = analyze_sentiment_with_hf_llama\n",
        "else:\n",
        "    def analyze_sentiment_with_hf_llama_pipeline(text):\n",
        "        \"\"\"\n",
        "        Analyzes sentiment using a LLAMA model from Hugging Face.\n",
        "        \"\"\"\n",
        "        result = sentiment_analyzer(text)[0]\n",
        "        if result['label'] == 'POSITIVE':\n",
        "            return result['score']\n",
        "        elif result['label'] == 'NEGATIVE':\n",
        "            return 1 - result['score'] # Convert negative score to 0-1 range\n",
        "        else:\n",
        "            return 0.5 # Neutral if the model isn't strongly positive or negative\n"
      ],
      "metadata": {
        "colab": {
          "base_uri": "https://localhost:8080/",
          "height": 121,
          "referenced_widgets": [
            "bb2bf69feaa9409f95b44281c2c7e5d4",
            "434bbd895f4142a6b4f1dd96042de1b0",
            "c050fe4548c54909baf6980a05e83843",
            "5b1ca62b3ed34df4b637e5641cc69cba",
            "81b5038a1bb14641b9f8c00151e72404",
            "7ad6780ea34f4ea08bbe70bc8c9ae03c",
            "aabeb53d19eb4321878a11b99ea1f2cd",
            "9024e39dc5f7453c85bad913f82c3d96",
            "aa11994c8e6f4cb8a6f391acbb57e1f3",
            "9047314833b34a9fa44809ee52600a94",
            "208b55e9d06045bfb1aac3b5e6064e63"
          ]
        },
        "id": "y7Z_RmESeaED",
        "outputId": "9bbd78c9-3002-4e15-c157-56e84a56b92c"
      },
      "execution_count": 2,
      "outputs": [
        {
          "output_type": "display_data",
          "data": {
            "text/plain": [
              "Loading checkpoint shards:   0%|          | 0/4 [00:00<?, ?it/s]"
            ],
            "application/vnd.jupyter.widget-view+json": {
              "version_major": 2,
              "version_minor": 0,
              "model_id": "bb2bf69feaa9409f95b44281c2c7e5d4"
            }
          },
          "metadata": {}
        },
        {
          "output_type": "stream",
          "name": "stderr",
          "text": [
            "Some weights of LlamaForSequenceClassification were not initialized from the model checkpoint at meta-llama/Meta-Llama-3-8B and are newly initialized: ['score.weight']\n",
            "You should probably TRAIN this model on a down-stream task to be able to use it for predictions and inference.\n",
            "Device set to use cuda:0\n"
          ]
        }
      ]
    },
    {
      "cell_type": "code",
      "source": [
        "# 2. Define the input variable (LLM Sentiment Score)\n",
        "sentiment_score = ctrl.Antecedent(np.arange(0, 1.01, 0.01), 'sentiment_score')\n",
        "\n",
        "# 3. Define the output variable (Fuzzy Sentiment Category)\n",
        "fuzzy_sentiment = ctrl.Consequent(np.arange(0, 1.01, 0.01), 'fuzzy_sentiment')\n",
        "\n",
        "# 4. Define the fuzzy membership functions for the input\n",
        "sentiment_score['negative'] = fuzz.trimf(sentiment_score.universe, [0, 0, 0.4])\n",
        "sentiment_score['neutral'] = fuzz.trimf(sentiment_score.universe, [0.2, 0.5, 0.8])\n",
        "sentiment_score['positive'] = fuzz.trimf(sentiment_score.universe, [0.6, 1, 1])\n",
        "\n",
        "# 5. Define the fuzzy membership functions for the output\n",
        "fuzzy_sentiment['negative'] = fuzz.trimf(fuzzy_sentiment.universe, [0, 0, 0.4])\n",
        "fuzzy_sentiment['neutral'] = fuzz.trimf(fuzzy_sentiment.universe, [0.2, 0.5, 0.8])\n",
        "fuzzy_sentiment['positive'] = fuzz.trimf(fuzzy_sentiment.universe, [0.6, 1, 1])\n",
        "\n",
        "# 6. Define the fuzzy rules\n",
        "rule1 = ctrl.Rule(sentiment_score['negative'], fuzzy_sentiment['negative'])\n",
        "rule2 = ctrl.Rule(sentiment_score['neutral'], fuzzy_sentiment['neutral'])\n",
        "rule3 = ctrl.Rule(sentiment_score['positive'], fuzzy_sentiment['positive'])\n",
        "\n",
        "# 7. Create the control system\n",
        "sentiment_ctrl = ctrl.ControlSystem([rule1, rule2, rule3])\n",
        "sentiment_evaluation = ctrl.ControlSystemSimulation(sentiment_ctrl)\n",
        "\n",
        "# 8. Example usage with Mistral from Hugging Face\n",
        "customer_review = \"The speed was excellent, but the setup process was quite frustrating.\"\n",
        "llama_sentiment_output = analyze_sentiment_with_hf_llama_pipeline(customer_review)\n",
        "\n",
        "# 9. Feed the Mistral output into the fuzzy system\n",
        "sentiment_evaluation.input['sentiment_score'] = llama_sentiment_output\n",
        "sentiment_evaluation.compute()\n",
        "\n",
        "# 10. Get the fuzzy output\n",
        "print(f\"Customer Review: '{customer_review}'\")\n",
        "print(f\"LLAMA (from HF) Sentiment Score: {llama_sentiment_output:.2f}\")\n",
        "print(f\"Fuzzy Sentiment Output: {sentiment_evaluation.output['fuzzy_sentiment']:.3f}\")\n",
        "\n",
        "# You can also see the degree of membership in each fuzzy set\n",
        "negative_membership = fuzz.interp_membership(sentiment_score.universe, sentiment_score['negative'].mf, llama_sentiment_output)\n",
        "neutral_membership = fuzz.interp_membership(sentiment_score.universe, sentiment_score['neutral'].mf, llama_sentiment_output)\n",
        "positive_membership = fuzz.interp_membership(sentiment_score.universe, sentiment_score['positive'].mf, llama_sentiment_output)\n",
        "\n",
        "print(f\"Degree of Negative: {negative_membership:.3f}\")\n",
        "print(f\"Degree of Neutral: {neutral_membership:.3f}\")\n",
        "print(f\"Degree of Positive: {positive_membership:.3f}\")\n",
        "\n",
        "# Optional: Visualize the membership functions and the result\n",
        "sentiment_score.view(sim=sentiment_evaluation)\n",
        "fuzzy_sentiment.view(sim=sentiment_evaluation)"
      ],
      "metadata": {
        "colab": {
          "base_uri": "https://localhost:8080/",
          "height": 989
        },
        "id": "tCad9jqTglAK",
        "outputId": "9fe1b100-193f-4210-c5b9-d864719ace1b"
      },
      "execution_count": 3,
      "outputs": [
        {
          "output_type": "stream",
          "name": "stdout",
          "text": [
            "Customer Review: 'The speed was excellent, but the setup process was quite frustrating.'\n",
            "LLAMA (from HF) Sentiment Score: 0.50\n",
            "Fuzzy Sentiment Output: 0.500\n",
            "Degree of Negative: 0.000\n",
            "Degree of Neutral: 1.000\n",
            "Degree of Positive: 0.000\n"
          ]
        },
        {
          "output_type": "display_data",
          "data": {
            "text/plain": [
              "<Figure size 640x480 with 1 Axes>"
            ],
            "image/png": "[encoded data removed]"
          },
          "metadata": {}
        },
        {
          "output_type": "display_data",
          "data": {
            "text/plain": [
              "<Figure size 640x480 with 1 Axes>"
            ],
            "image/png": "[encoded data removed]"
          },
          "metadata": {}
        }
      ]
    }
  ]
}