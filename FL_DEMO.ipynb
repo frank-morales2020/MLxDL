{
  "nbformat": 4,
  "nbformat_minor": 0,
  "metadata": {
    "colab": {
      "provenance": [],
      "machine_shape": "hm",
      "gpuType": "A100",
      "authorship_tag": "ABX9TyNw0M3RsZC9neQcT/RBeNmL",
      "include_colab_link": true
    },
    "kernelspec": {
      "name": "python3",
      "display_name": "Python 3"
    },
    "language_info": {
      "name": "python"
    },
    "accelerator": "GPU"
  },
  "cells": [
    {
      "cell_type": "markdown",
      "metadata": {
        "id": "view-in-github",
        "colab_type": "text"
      },
      "source": [
        "<a href=\"https://colab.research.google.com/github/frank-morales2020/MLxDL/blob/main/FL_DEMO.ipynb\" target=\"_parent\"><img src=\"https://colab.research.google.com/assets/colab-badge.svg\" alt=\"Open In Colab\"/></a>"
      ]
    },
    {
      "cell_type": "code",
      "source": [
        "!pip install transformers -q\n",
        "!pip install scikit-fuzzy -q"
      ],
      "metadata": {
        "id": "2sxd3LjhdOtJ"
      },
      "execution_count": null,
      "outputs": []
    },
    {
      "cell_type": "markdown",
      "source": [
        "## MISTRAL"
      ],
      "metadata": {
        "id": "wXsusJ1wdJ17"
      }
    },
    {
      "cell_type": "code",
      "source": [
        "!nvidia-smi"
      ],
      "metadata": {
        "id": "EpUkhLHhk8gz"
      },
      "execution_count": null,
      "outputs": []
    },
    {
      "cell_type": "code",
      "execution_count": null,
      "metadata": {
        "id": "_z9vtjJfc9MT"
      },
      "outputs": [],
      "source": [
        "import numpy as np\n",
        "import skfuzzy as fuzz\n",
        "from skfuzzy import control as ctrl\n",
        "from transformers import pipeline\n",
        "\n",
        "# 1. Initialize a sentiment analysis pipeline using a Mistral model from Hugging Face\n",
        "try:\n",
        "    sentiment_analyzer = pipeline(\"sentiment-analysis\", model=\"mistralai/Mistral-7B-v0.1\")\n",
        "except Exception as e:\n",
        "    print(f\"Error loading Mistral sentiment analysis model from Hugging Face: {e}\")\n",
        "    print(\"Please ensure you have the 'transformers' library installed and a network connection.\")\n",
        "    print(\"Falling back to a simplified simulation.\")\n",
        "    def analyze_sentiment_with_hf_mistral(text):\n",
        "        if \"terrible\" in text or \"awful\" in text or \"hate\" in text:\n",
        "            return 0.08\n",
        "        elif \"bad\" in text or \"disappointed\" in text:\n",
        "            return 0.25\n",
        "        elif \"okay\" in text or \"not great not bad\" in text or \"meh\" in text:\n",
        "            return 0.55\n",
        "        elif \"good\" in text or \"happy\" in text or \"enjoyed\" in text:\n",
        "            return 0.75\n",
        "        elif \"amazing\" in text or \"love\" in text or \"fantastic\" in text or \"excellent\" in text:\n",
        "            return 0.92\n",
        "        else:\n",
        "            return 0.6\n",
        "    analyze_sentiment_with_hf_mistral_pipeline = analyze_sentiment_with_hf_mistral\n",
        "else:\n",
        "    def analyze_sentiment_with_hf_mistral_pipeline(text):\n",
        "        \"\"\"\n",
        "        Analyzes sentiment using a Mistral model from Hugging Face.\n",
        "        \"\"\"\n",
        "        result = sentiment_analyzer(text)[0]\n",
        "        if result['label'] == 'POSITIVE':\n",
        "            return result['score']\n",
        "        elif result['label'] == 'NEGATIVE':\n",
        "            return 1 - result['score'] # Convert negative score to 0-1 range\n",
        "        else:\n",
        "            return 0.5 # Neutral if the model isn't strongly positive or negative"
      ]
    },
    {
      "cell_type": "code",
      "source": [
        "# 2. Define the input variable (LLM Sentiment Score)\n",
        "sentiment_score = ctrl.Antecedent(np.arange(0, 1.01, 0.01), 'sentiment_score')\n",
        "\n",
        "# 3. Define the output variable (Fuzzy Sentiment Category)\n",
        "fuzzy_sentiment = ctrl.Consequent(np.arange(0, 1.01, 0.01), 'fuzzy_sentiment')\n",
        "\n",
        "# 4. Define the fuzzy membership functions for the input\n",
        "sentiment_score['negative'] = fuzz.trimf(sentiment_score.universe, [0, 0, 0.4])\n",
        "sentiment_score['neutral'] = fuzz.trimf(sentiment_score.universe, [0.2, 0.5, 0.8])\n",
        "sentiment_score['positive'] = fuzz.trimf(sentiment_score.universe, [0.6, 1, 1])\n",
        "\n",
        "# 5. Define the fuzzy membership functions for the output\n",
        "fuzzy_sentiment['negative'] = fuzz.trimf(fuzzy_sentiment.universe, [0, 0, 0.4])\n",
        "fuzzy_sentiment['neutral'] = fuzz.trimf(fuzzy_sentiment.universe, [0.2, 0.5, 0.8])\n",
        "fuzzy_sentiment['positive'] = fuzz.trimf(fuzzy_sentiment.universe, [0.6, 1, 1])\n",
        "\n",
        "# 6. Define the fuzzy rules\n",
        "rule1 = ctrl.Rule(sentiment_score['negative'], fuzzy_sentiment['negative'])\n",
        "rule2 = ctrl.Rule(sentiment_score['neutral'], fuzzy_sentiment['neutral'])\n",
        "rule3 = ctrl.Rule(sentiment_score['positive'], fuzzy_sentiment['positive'])\n",
        "\n",
        "# 7. Create the control system\n",
        "sentiment_ctrl = ctrl.ControlSystem([rule1, rule2, rule3])\n",
        "sentiment_evaluation = ctrl.ControlSystemSimulation(sentiment_ctrl)\n",
        "\n",
        "# 8. Example usage with Mistral from Hugging Face\n",
        "customer_review = \"The speed was excellent, but the setup process was quite frustrating.\"\n",
        "mistral_sentiment_output = analyze_sentiment_with_hf_mistral_pipeline(customer_review)\n",
        "\n",
        "# 9. Feed the Mistral output into the fuzzy system\n",
        "sentiment_evaluation.input['sentiment_score'] = mistral_sentiment_output\n",
        "sentiment_evaluation.compute()\n",
        "\n",
        "# 10. Get the fuzzy output\n",
        "print(f\"Customer Review: '{customer_review}'\")\n",
        "print(f\"Mistral (from HF) Sentiment Score: {mistral_sentiment_output:.2f}\")\n",
        "print(f\"Fuzzy Sentiment Output: {sentiment_evaluation.output['fuzzy_sentiment']:.3f}\")\n",
        "\n",
        "# You can also see the degree of membership in each fuzzy set\n",
        "negative_membership = fuzz.interp_membership(sentiment_score.universe, sentiment_score['negative'].mf, mistral_sentiment_output)\n",
        "neutral_membership = fuzz.interp_membership(sentiment_score.universe, sentiment_score['neutral'].mf, mistral_sentiment_output)\n",
        "positive_membership = fuzz.interp_membership(sentiment_score.universe, sentiment_score['positive'].mf, mistral_sentiment_output)\n",
        "\n",
        "print(f\"Degree of Negative: {negative_membership:.3f}\")\n",
        "print(f\"Degree of Neutral: {neutral_membership:.3f}\")\n",
        "print(f\"Degree of Positive: {positive_membership:.3f}\")\n",
        "\n",
        "# Optional: Visualize the membership functions and the result\n",
        "sentiment_score.view(sim=sentiment_evaluation)\n",
        "fuzzy_sentiment.view(sim=sentiment_evaluation)"
      ],
      "metadata": {
        "id": "PoIAW4niggKE"
      },
      "execution_count": null,
      "outputs": []
    },
    {
      "cell_type": "markdown",
      "source": [
        "## LLAMA"
      ],
      "metadata": {
        "id": "Tp_zs-byeSYc"
      }
    },
    {
      "cell_type": "code",
      "source": [
        "!nvidia-smi"
      ],
      "metadata": {
        "id": "5VZr1IFdkHv1"
      },
      "execution_count": null,
      "outputs": []
    },
    {
      "cell_type": "code",
      "source": [
        "import numpy as np\n",
        "import skfuzzy as fuzz\n",
        "from skfuzzy import control as ctrl\n",
        "from transformers import pipeline\n",
        "\n",
        "# 1. Initialize a sentiment analysis pipeline using a Mistral model from Hugging Face\n",
        "try:\n",
        "    sentiment_analyzer = pipeline(\"sentiment-analysis\", model=\"meta-llama/Meta-Llama-3-8B\")\n",
        "except Exception as e:\n",
        "    print(f\"Error loading  LLAMA sentiment analysis model from Hugging Face: {e}\")\n",
        "    print(\"Please ensure you have the 'transformers' library installed and a network connection.\")\n",
        "    print(\"Falling back to a simplified simulation.\")\n",
        "    def analyze_sentiment_with_hf_llama(text):\n",
        "        if \"terrible\" in text or \"awful\" in text or \"hate\" in text:\n",
        "            return 0.08\n",
        "        elif \"bad\" in text or \"disappointed\" in text:\n",
        "            return 0.25\n",
        "        elif \"okay\" in text or \"not great not bad\" in text or \"meh\" in text:\n",
        "            return 0.55\n",
        "        elif \"good\" in text or \"happy\" in text or \"enjoyed\" in text:\n",
        "            return 0.75\n",
        "        elif \"amazing\" in text or \"love\" in text or \"fantastic\" in text or \"excellent\" in text:\n",
        "            return 0.92\n",
        "        else:\n",
        "            return 0.6\n",
        "    analyze_sentiment_with_hf_llama_pipeline = analyze_sentiment_with_hf_llama\n",
        "else:\n",
        "    def analyze_sentiment_with_hf_llama_pipeline(text):\n",
        "        \"\"\"\n",
        "        Analyzes sentiment using a LLAMA model from Hugging Face.\n",
        "        \"\"\"\n",
        "        result = sentiment_analyzer(text)[0]\n",
        "        if result['label'] == 'POSITIVE':\n",
        "            return result['score']\n",
        "        elif result['label'] == 'NEGATIVE':\n",
        "            return 1 - result['score'] # Convert negative score to 0-1 range\n",
        "        else:\n",
        "            return 0.5 # Neutral if the model isn't strongly positive or negative\n"
      ],
      "metadata": {
        "id": "y7Z_RmESeaED"
      },
      "execution_count": null,
      "outputs": []
    },
    {
      "cell_type": "code",
      "source": [
        "# 2. Define the input variable (LLM Sentiment Score)\n",
        "sentiment_score = ctrl.Antecedent(np.arange(0, 1.01, 0.01), 'sentiment_score')\n",
        "\n",
        "# 3. Define the output variable (Fuzzy Sentiment Category)\n",
        "fuzzy_sentiment = ctrl.Consequent(np.arange(0, 1.01, 0.01), 'fuzzy_sentiment')\n",
        "\n",
        "# 4. Define the fuzzy membership functions for the input\n",
        "sentiment_score['negative'] = fuzz.trimf(sentiment_score.universe, [0, 0, 0.4])\n",
        "sentiment_score['neutral'] = fuzz.trimf(sentiment_score.universe, [0.2, 0.5, 0.8])\n",
        "sentiment_score['positive'] = fuzz.trimf(sentiment_score.universe, [0.6, 1, 1])\n",
        "\n",
        "# 5. Define the fuzzy membership functions for the output\n",
        "fuzzy_sentiment['negative'] = fuzz.trimf(fuzzy_sentiment.universe, [0, 0, 0.4])\n",
        "fuzzy_sentiment['neutral'] = fuzz.trimf(fuzzy_sentiment.universe, [0.2, 0.5, 0.8])\n",
        "fuzzy_sentiment['positive'] = fuzz.trimf(fuzzy_sentiment.universe, [0.6, 1, 1])\n",
        "\n",
        "# 6. Define the fuzzy rules\n",
        "rule1 = ctrl.Rule(sentiment_score['negative'], fuzzy_sentiment['negative'])\n",
        "rule2 = ctrl.Rule(sentiment_score['neutral'], fuzzy_sentiment['neutral'])\n",
        "rule3 = ctrl.Rule(sentiment_score['positive'], fuzzy_sentiment['positive'])\n",
        "\n",
        "# 7. Create the control system\n",
        "sentiment_ctrl = ctrl.ControlSystem([rule1, rule2, rule3])\n",
        "sentiment_evaluation = ctrl.ControlSystemSimulation(sentiment_ctrl)\n",
        "\n",
        "# 8. Example usage with Mistral from Hugging Face\n",
        "customer_review = \"The speed was excellent, but the setup process was quite frustrating.\"\n",
        "llama_sentiment_output = analyze_sentiment_with_hf_llama_pipeline(customer_review)\n",
        "\n",
        "# 9. Feed the Mistral output into the fuzzy system\n",
        "sentiment_evaluation.input['sentiment_score'] = llama_sentiment_output\n",
        "sentiment_evaluation.compute()\n",
        "\n",
        "# 10. Get the fuzzy output\n",
        "print(f\"Customer Review: '{customer_review}'\")\n",
        "print(f\"LLAMA (from HF) Sentiment Score: {llama_sentiment_output:.2f}\")\n",
        "print(f\"Fuzzy Sentiment Output: {sentiment_evaluation.output['fuzzy_sentiment']:.3f}\")\n",
        "\n",
        "# You can also see the degree of membership in each fuzzy set\n",
        "negative_membership = fuzz.interp_membership(sentiment_score.universe, sentiment_score['negative'].mf, llama_sentiment_output)\n",
        "neutral_membership = fuzz.interp_membership(sentiment_score.universe, sentiment_score['neutral'].mf, llama_sentiment_output)\n",
        "positive_membership = fuzz.interp_membership(sentiment_score.universe, sentiment_score['positive'].mf, llama_sentiment_output)\n",
        "\n",
        "print(f\"Degree of Negative: {negative_membership:.3f}\")\n",
        "print(f\"Degree of Neutral: {neutral_membership:.3f}\")\n",
        "print(f\"Degree of Positive: {positive_membership:.3f}\")\n",
        "\n",
        "# Optional: Visualize the membership functions and the result\n",
        "sentiment_score.view(sim=sentiment_evaluation)\n",
        "fuzzy_sentiment.view(sim=sentiment_evaluation)"
      ],
      "metadata": {
        "id": "tCad9jqTglAK"
      },
      "execution_count": null,
      "outputs": []
    }
  ]
}