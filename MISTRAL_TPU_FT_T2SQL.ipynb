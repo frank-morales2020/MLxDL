{
  "nbformat": 4,
  "nbformat_minor": 0,
  "metadata": {
    "colab": {
      "provenance": [],
      "machine_shape": "hm",
      "gpuType": "V28",
      "authorship_tag": "ABX9TyO6miYWnhkPswMH4L+vnCek",
      "include_colab_link": true
    },
    "kernelspec": {
      "name": "python3",
      "display_name": "Python 3"
    },
    "language_info": {
      "name": "python"
    },
    "accelerator": "TPU"
  },
  "cells": [
    {
      "cell_type": "markdown",
      "metadata": {
        "id": "view-in-github",
        "colab_type": "text"
      },
      "source": [
        "<a href=\"https://colab.research.google.com/github/frank-morales2020/MLxDL/blob/main/MISTRAL_TPU_FT_T2SQL.ipynb\" target=\"_parent\"><img src=\"https://colab.research.google.com/assets/colab-badge.svg\" alt=\"Open In Colab\"/></a>"
      ]
    },
    {
      "cell_type": "code",
      "source": [
        "!pip install datasets -q\n",
        "!pip install evaluate -q"
      ],
      "metadata": {
        "id": "hlZzDw7k0Mwr"
      },
      "execution_count": null,
      "outputs": []
    },
    {
      "cell_type": "code",
      "execution_count": null,
      "metadata": {
        "colab": {
          "base_uri": "https://localhost:8080/"
        },
        "id": "N9N-qP_yzaXj",
        "outputId": "2993cbc5-097a-4a48-a564-b9f8d1b9c007"
      },
      "outputs": [
        {
          "output_type": "stream",
          "name": "stdout",
          "text": [
            "Launching fine-tuning processes on TPU cores...\n",
            "Process 6 on device: xla:0Process 2 on device: xla:0\n",
            "\n",
            "Process 4 on device: xla:0\n",
            "Process 7 on device: xla:1\n",
            "Process 0 on device: xla:0\n",
            "Process 1 on device: xla:1\n",
            "Process 3 on device: xla:1\n",
            "Process 5 on device: xla:1\n"
          ]
        }
      ],
      "source": [
        "import torch\n",
        "import os\n",
        "import evaluate\n",
        "from transformers import AutoModelForCausalLM, AutoTokenizer, TrainingArguments, Trainer\n",
        "from datasets import load_dataset\n",
        "from huggingface_hub import login\n",
        "from google.colab import userdata\n",
        "\n",
        "# Import the necessary libraries for TPU\n",
        "import torch_xla.core.xla_model as xm\n",
        "import torch_xla.distributed.xla_multiprocessing as xmp\n",
        "\n",
        "# This function will be executed on each TPU core.\n",
        "def fine_tune_on_tpu(index, model_id, train_file, test_file, hf_token):\n",
        "    # Authenticate with Hugging Face on each process\n",
        "    login(token=hf_token)\n",
        "\n",
        "    # Get the specific TPU device for this process\n",
        "    device = xm.xla_device()\n",
        "    print(f\"Process {index} on device: {device}\")\n",
        "\n",
        "    # Load model and tokenizer\n",
        "    tokenizer = AutoTokenizer.from_pretrained(model_id)\n",
        "    tokenizer.pad_token = tokenizer.eos_token\n",
        "    tokenizer.padding_side = \"right\"\n",
        "\n",
        "    # Load the datasets\n",
        "    train_dataset = load_dataset(\"json\", data_files=train_file, split=\"train\")\n",
        "    eval_dataset = load_dataset(\"json\", data_files=test_file, split=\"train\")\n",
        "\n",
        "    def tokenize_conversation(sample):\n",
        "        prompt = tokenizer.apply_chat_template(sample[\"messages\"], tokenize=False, add_generation_prompt=True)\n",
        "        return tokenizer(prompt, truncation=True, padding=\"max_length\", max_length=512)\n",
        "\n",
        "    tokenized_train_dataset = train_dataset.map(tokenize_conversation, batched=False)\n",
        "    tokenized_eval_dataset = eval_dataset.map(tokenize_conversation, batched=False)\n",
        "\n",
        "    # Load the model directly to the TPU device\n",
        "    model = AutoModelForCausalLM.from_pretrained(\n",
        "        model_id,\n",
        "        torch_dtype=torch.bfloat16\n",
        "    ).to(device)\n",
        "\n",
        "    # Define the custom compute_metrics function\n",
        "    # This will be called at the end of each evaluation epoch.\n",
        "    def compute_metrics(eval_preds):\n",
        "        # We need to compute the loss first, which is handled automatically by Trainer\n",
        "        # The main task here is to compute accuracy\n",
        "\n",
        "        # We decode the predictions and labels\n",
        "        predictions = eval_preds.predictions\n",
        "        labels = eval_preds.label_ids\n",
        "\n",
        "        # Ignore -100 in labels, which are padding tokens\n",
        "        labels[labels == -100] = tokenizer.pad_token_id\n",
        "\n",
        "        # Decode the tokens back to strings\n",
        "        decoded_preds = tokenizer.batch_decode(predictions, skip_special_tokens=True)\n",
        "        decoded_labels = tokenizer.batch_decode(labels, skip_special_tokens=True)\n",
        "\n",
        "        # Calculate exact match accuracy\n",
        "        exact_match_accuracy = 0\n",
        "        for pred, label in zip(decoded_preds, decoded_labels):\n",
        "            if pred.strip() == label.strip():\n",
        "                exact_match_accuracy += 1\n",
        "\n",
        "        # Return the metrics as a dictionary\n",
        "        return {\"exact_match_accuracy\": exact_match_accuracy / len(decoded_preds)}\n",
        "\n",
        "    # Define TrainingArguments\n",
        "    training_args = TrainingArguments(\n",
        "        output_dir=\"./mistral-7b-text-to-sql\",\n",
        "        num_train_epochs=3,\n",
        "        per_device_train_batch_size=4,\n",
        "        per_device_eval_batch_size=4,\n",
        "        gradient_accumulation_steps=4,\n",
        "        learning_rate=2e-5,\n",
        "        weight_decay=0.01,\n",
        "        logging_steps=10,\n",
        "        save_strategy=\"epoch\",\n",
        "        eval_strategy=\"epoch\",\n",
        "        load_best_model_at_end=True,\n",
        "        metric_for_best_model=\"eval_loss\", # We still use loss for best model\n",
        "        report_to=\"none\"\n",
        "    )\n",
        "\n",
        "    # Trainer Initialization\n",
        "    trainer = Trainer(\n",
        "        model=model,\n",
        "        args=training_args,\n",
        "        train_dataset=tokenized_train_dataset,\n",
        "        eval_dataset=tokenized_eval_dataset,\n",
        "        tokenizer=tokenizer,\n",
        "        compute_metrics=compute_metrics # Pass the custom metrics function\n",
        "    )\n",
        "\n",
        "    # Start Training\n",
        "    print(f\"Starting fine-tuning on device {device}...\")\n",
        "    trainer.train()\n",
        "\n",
        "    # Save the model from the master process\n",
        "    if xm.is_master_ordinal():\n",
        "        trainer.save_model(\"./mistral-7b-text-to-sql-finetuned\")\n",
        "        print(\"Fine-tuning complete. Model saved.\")\n",
        "\n",
        "if __name__ == '__main__':\n",
        "    # Get the Hugging Face token from Colab secrets.\n",
        "    token = userdata.get('HF_TOKEN')\n",
        "    model_id = \"mistralai/Mistral-7B-Instruct-v0.1\"\n",
        "    train_file = \"train_dataset.json\"\n",
        "    test_file = \"test_dataset.json\"\n",
        "\n",
        "    print(\"Launching fine-tuning processes on TPU cores...\")\n",
        "    xmp.spawn(\n",
        "        fine_tune_on_tpu,\n",
        "        args=(model_id, train_file, test_file, token),\n",
        "        nprocs=None,\n",
        "        start_method=\"fork\"\n",
        "    )"
      ]
    }
  ]
}