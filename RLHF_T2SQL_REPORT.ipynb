{
  "nbformat": 4,
  "nbformat_minor": 0,
  "metadata": {
    "colab": {
      "provenance": [],
      "machine_shape": "hm",
      "gpuType": "L4",
      "authorship_tag": "ABX9TyOM107IrPeTjQ3qxHCy09VV",
      "include_colab_link": true
    },
    "kernelspec": {
      "name": "python3",
      "display_name": "Python 3"
    },
    "language_info": {
      "name": "python"
    },
    "accelerator": "GPU",
    "widgets": {
      "application/vnd.jupyter.widget-state+json": {
        "775bf97056be4118bdbd3d5d41bc62f6": {
          "model_module": "@jupyter-widgets/controls",
          "model_name": "HBoxModel",
          "model_module_version": "1.5.0",
          "state": {
            "_dom_classes": [],
            "_model_module": "@jupyter-widgets/controls",
            "_model_module_version": "1.5.0",
            "_model_name": "HBoxModel",
            "_view_count": null,
            "_view_module": "@jupyter-widgets/controls",
            "_view_module_version": "1.5.0",
            "_view_name": "HBoxView",
            "box_style": "",
            "children": [
              "IPY_MODEL_729820a63bd14519b90f87ff1bfa3d57",
              "IPY_MODEL_3376978aed824959978c7603089ba4a3",
              "IPY_MODEL_8fa1db15c1a9487697af15aefeea14da"
            ],
            "layout": "IPY_MODEL_79b50c9f00bc4988a1f2c3b7b5781625"
          }
        },
        "729820a63bd14519b90f87ff1bfa3d57": {
          "model_module": "@jupyter-widgets/controls",
          "model_name": "HTMLModel",
          "model_module_version": "1.5.0",
          "state": {
            "_dom_classes": [],
            "_model_module": "@jupyter-widgets/controls",
            "_model_module_version": "1.5.0",
            "_model_name": "HTMLModel",
            "_view_count": null,
            "_view_module": "@jupyter-widgets/controls",
            "_view_module_version": "1.5.0",
            "_view_name": "HTMLView",
            "description": "",
            "description_tooltip": null,
            "layout": "IPY_MODEL_881712d46df44ce1b63b58b8200603e4",
            "placeholder": "​",
            "style": "IPY_MODEL_679b7ee42fb04b1f83fc58377e8cd1d0",
            "value": "tokenizer_config.json: 100%"
          }
        },
        "3376978aed824959978c7603089ba4a3": {
          "model_module": "@jupyter-widgets/controls",
          "model_name": "FloatProgressModel",
          "model_module_version": "1.5.0",
          "state": {
            "_dom_classes": [],
            "_model_module": "@jupyter-widgets/controls",
            "_model_module_version": "1.5.0",
            "_model_name": "FloatProgressModel",
            "_view_count": null,
            "_view_module": "@jupyter-widgets/controls",
            "_view_module_version": "1.5.0",
            "_view_name": "ProgressView",
            "bar_style": "success",
            "description": "",
            "description_tooltip": null,
            "layout": "IPY_MODEL_5cc7faf702f246afa1b642e0a1ecc3ec",
            "max": 1606,
            "min": 0,
            "orientation": "horizontal",
            "style": "IPY_MODEL_2df28675660647a483f32a754cd1d7bc",
            "value": 1606
          }
        },
        "8fa1db15c1a9487697af15aefeea14da": {
          "model_module": "@jupyter-widgets/controls",
          "model_name": "HTMLModel",
          "model_module_version": "1.5.0",
          "state": {
            "_dom_classes": [],
            "_model_module": "@jupyter-widgets/controls",
            "_model_module_version": "1.5.0",
            "_model_name": "HTMLModel",
            "_view_count": null,
            "_view_module": "@jupyter-widgets/controls",
            "_view_module_version": "1.5.0",
            "_view_name": "HTMLView",
            "description": "",
            "description_tooltip": null,
            "layout": "IPY_MODEL_0b60dd824e5b427d973fbdae9a446594",
            "placeholder": "​",
            "style": "IPY_MODEL_7d1dce436b72424c9197d2d7a57862a6",
            "value": " 1.61k/1.61k [00:00&lt;00:00, 125kB/s]"
          }
        },
        "79b50c9f00bc4988a1f2c3b7b5781625": {
          "model_module": "@jupyter-widgets/base",
          "model_name": "LayoutModel",
          "model_module_version": "1.2.0",
          "state": {
            "_model_module": "@jupyter-widgets/base",
            "_model_module_version": "1.2.0",
            "_model_name": "LayoutModel",
            "_view_count": null,
            "_view_module": "@jupyter-widgets/base",
            "_view_module_version": "1.2.0",
            "_view_name": "LayoutView",
            "align_content": null,
            "align_items": null,
            "align_self": null,
            "border": null,
            "bottom": null,
            "display": null,
            "flex": null,
            "flex_flow": null,
            "grid_area": null,
            "grid_auto_columns": null,
            "grid_auto_flow": null,
            "grid_auto_rows": null,
            "grid_column": null,
            "grid_gap": null,
            "grid_row": null,
            "grid_template_areas": null,
            "grid_template_columns": null,
            "grid_template_rows": null,
            "height": null,
            "justify_content": null,
            "justify_items": null,
            "left": null,
            "margin": null,
            "max_height": null,
            "max_width": null,
            "min_height": null,
            "min_width": null,
            "object_fit": null,
            "object_position": null,
            "order": null,
            "overflow": null,
            "overflow_x": null,
            "overflow_y": null,
            "padding": null,
            "right": null,
            "top": null,
            "visibility": null,
            "width": null
          }
        },
        "881712d46df44ce1b63b58b8200603e4": {
          "model_module": "@jupyter-widgets/base",
          "model_name": "LayoutModel",
          "model_module_version": "1.2.0",
          "state": {
            "_model_module": "@jupyter-widgets/base",
            "_model_module_version": "1.2.0",
            "_model_name": "LayoutModel",
            "_view_count": null,
            "_view_module": "@jupyter-widgets/base",
            "_view_module_version": "1.2.0",
            "_view_name": "LayoutView",
            "align_content": null,
            "align_items": null,
            "align_self": null,
            "border": null,
            "bottom": null,
            "display": null,
            "flex": null,
            "flex_flow": null,
            "grid_area": null,
            "grid_auto_columns": null,
            "grid_auto_flow": null,
            "grid_auto_rows": null,
            "grid_column": null,
            "grid_gap": null,
            "grid_row": null,
            "grid_template_areas": null,
            "grid_template_columns": null,
            "grid_template_rows": null,
            "height": null,
            "justify_content": null,
            "justify_items": null,
            "left": null,
            "margin": null,
            "max_height": null,
            "max_width": null,
            "min_height": null,
            "min_width": null,
            "object_fit": null,
            "object_position": null,
            "order": null,
            "overflow": null,
            "overflow_x": null,
            "overflow_y": null,
            "padding": null,
            "right": null,
            "top": null,
            "visibility": null,
            "width": null
          }
        },
        "679b7ee42fb04b1f83fc58377e8cd1d0": {
          "model_module": "@jupyter-widgets/controls",
          "model_name": "DescriptionStyleModel",
          "model_module_version": "1.5.0",
          "state": {
            "_model_module": "@jupyter-widgets/controls",
            "_model_module_version": "1.5.0",
            "_model_name": "DescriptionStyleModel",
            "_view_count": null,
            "_view_module": "@jupyter-widgets/base",
            "_view_module_version": "1.2.0",
            "_view_name": "StyleView",
            "description_width": ""
          }
        },
        "5cc7faf702f246afa1b642e0a1ecc3ec": {
          "model_module": "@jupyter-widgets/base",
          "model_name": "LayoutModel",
          "model_module_version": "1.2.0",
          "state": {
            "_model_module": "@jupyter-widgets/base",
            "_model_module_version": "1.2.0",
            "_model_name": "LayoutModel",
            "_view_count": null,
            "_view_module": "@jupyter-widgets/base",
            "_view_module_version": "1.2.0",
            "_view_name": "LayoutView",
            "align_content": null,
            "align_items": null,
            "align_self": null,
            "border": null,
            "bottom": null,
            "display": null,
            "flex": null,
            "flex_flow": null,
            "grid_area": null,
            "grid_auto_columns": null,
            "grid_auto_flow": null,
            "grid_auto_rows": null,
            "grid_column": null,
            "grid_gap": null,
            "grid_row": null,
            "grid_template_areas": null,
            "grid_template_columns": null,
            "grid_template_rows": null,
            "height": null,
            "justify_content": null,
            "justify_items": null,
            "left": null,
            "margin": null,
            "max_height": null,
            "max_width": null,
            "min_height": null,
            "min_width": null,
            "object_fit": null,
            "object_position": null,
            "order": null,
            "overflow": null,
            "overflow_x": null,
            "overflow_y": null,
            "padding": null,
            "right": null,
            "top": null,
            "visibility": null,
            "width": null
          }
        },
        "2df28675660647a483f32a754cd1d7bc": {
          "model_module": "@jupyter-widgets/controls",
          "model_name": "ProgressStyleModel",
          "model_module_version": "1.5.0",
          "state": {
            "_model_module": "@jupyter-widgets/controls",
            "_model_module_version": "1.5.0",
            "_model_name": "ProgressStyleModel",
            "_view_count": null,
            "_view_module": "@jupyter-widgets/base",
            "_view_module_version": "1.2.0",
            "_view_name": "StyleView",
            "bar_color": null,
            "description_width": ""
          }
        },
        "0b60dd824e5b427d973fbdae9a446594": {
          "model_module": "@jupyter-widgets/base",
          "model_name": "LayoutModel",
          "model_module_version": "1.2.0",
          "state": {
            "_model_module": "@jupyter-widgets/base",
            "_model_module_version": "1.2.0",
            "_model_name": "LayoutModel",
            "_view_count": null,
            "_view_module": "@jupyter-widgets/base",
            "_view_module_version": "1.2.0",
            "_view_name": "LayoutView",
            "align_content": null,
            "align_items": null,
            "align_self": null,
            "border": null,
            "bottom": null,
            "display": null,
            "flex": null,
            "flex_flow": null,
            "grid_area": null,
            "grid_auto_columns": null,
            "grid_auto_flow": null,
            "grid_auto_rows": null,
            "grid_column": null,
            "grid_gap": null,
            "grid_row": null,
            "grid_template_areas": null,
            "grid_template_columns": null,
            "grid_template_rows": null,
            "height": null,
            "justify_content": null,
            "justify_items": null,
            "left": null,
            "margin": null,
            "max_height": null,
            "max_width": null,
            "min_height": null,
            "min_width": null,
            "object_fit": null,
            "object_position": null,
            "order": null,
            "overflow": null,
            "overflow_x": null,
            "overflow_y": null,
            "padding": null,
            "right": null,
            "top": null,
            "visibility": null,
            "width": null
          }
        },
        "7d1dce436b72424c9197d2d7a57862a6": {
          "model_module": "@jupyter-widgets/controls",
          "model_name": "DescriptionStyleModel",
          "model_module_version": "1.5.0",
          "state": {
            "_model_module": "@jupyter-widgets/controls",
            "_model_module_version": "1.5.0",
            "_model_name": "DescriptionStyleModel",
            "_view_count": null,
            "_view_module": "@jupyter-widgets/base",
            "_view_module_version": "1.2.0",
            "_view_name": "StyleView",
            "description_width": ""
          }
        },
        "b7dbf52c00bf4d269f324f4af45d30c4": {
          "model_module": "@jupyter-widgets/controls",
          "model_name": "HBoxModel",
          "model_module_version": "1.5.0",
          "state": {
            "_dom_classes": [],
            "_model_module": "@jupyter-widgets/controls",
            "_model_module_version": "1.5.0",
            "_model_name": "HBoxModel",
            "_view_count": null,
            "_view_module": "@jupyter-widgets/controls",
            "_view_module_version": "1.5.0",
            "_view_name": "HBoxView",
            "box_style": "",
            "children": [
              "IPY_MODEL_b93bc381655b4dc9b69880e39501058b",
              "IPY_MODEL_0371fc2fe76c49cb8e2371d848f176e0",
              "IPY_MODEL_b73022a9ade04c2ba17ab58dedbfcfb5"
            ],
            "layout": "IPY_MODEL_b620847549bf4c498b74cca40edb0357"
          }
        },
        "b93bc381655b4dc9b69880e39501058b": {
          "model_module": "@jupyter-widgets/controls",
          "model_name": "HTMLModel",
          "model_module_version": "1.5.0",
          "state": {
            "_dom_classes": [],
            "_model_module": "@jupyter-widgets/controls",
            "_model_module_version": "1.5.0",
            "_model_name": "HTMLModel",
            "_view_count": null,
            "_view_module": "@jupyter-widgets/controls",
            "_view_module_version": "1.5.0",
            "_view_name": "HTMLView",
            "description": "",
            "description_tooltip": null,
            "layout": "IPY_MODEL_21f0df62f6194540ab5315c9477f8c94",
            "placeholder": "​",
            "style": "IPY_MODEL_1d21ca72bda340b2bee28893b6e43b2a",
            "value": "tokenizer.model: 100%"
          }
        },
        "0371fc2fe76c49cb8e2371d848f176e0": {
          "model_module": "@jupyter-widgets/controls",
          "model_name": "FloatProgressModel",
          "model_module_version": "1.5.0",
          "state": {
            "_dom_classes": [],
            "_model_module": "@jupyter-widgets/controls",
            "_model_module_version": "1.5.0",
            "_model_name": "FloatProgressModel",
            "_view_count": null,
            "_view_module": "@jupyter-widgets/controls",
            "_view_module_version": "1.5.0",
            "_view_name": "ProgressView",
            "bar_style": "success",
            "description": "",
            "description_tooltip": null,
            "layout": "IPY_MODEL_0f52c68b5b064961822f2fa1b3cf8b20",
            "max": 493443,
            "min": 0,
            "orientation": "horizontal",
            "style": "IPY_MODEL_eda3e554cf4b4371ba68153e9eb4faf4",
            "value": 493443
          }
        },
        "b73022a9ade04c2ba17ab58dedbfcfb5": {
          "model_module": "@jupyter-widgets/controls",
          "model_name": "HTMLModel",
          "model_module_version": "1.5.0",
          "state": {
            "_dom_classes": [],
            "_model_module": "@jupyter-widgets/controls",
            "_model_module_version": "1.5.0",
            "_model_name": "HTMLModel",
            "_view_count": null,
            "_view_module": "@jupyter-widgets/controls",
            "_view_module_version": "1.5.0",
            "_view_name": "HTMLView",
            "description": "",
            "description_tooltip": null,
            "layout": "IPY_MODEL_334626e1382c4f3c8cf1306bc0999aa0",
            "placeholder": "​",
            "style": "IPY_MODEL_18531b5cf773426688952c8f12f588b5",
            "value": " 493k/493k [00:00&lt;00:00, 17.8MB/s]"
          }
        },
        "b620847549bf4c498b74cca40edb0357": {
          "model_module": "@jupyter-widgets/base",
          "model_name": "LayoutModel",
          "model_module_version": "1.2.0",
          "state": {
            "_model_module": "@jupyter-widgets/base",
            "_model_module_version": "1.2.0",
            "_model_name": "LayoutModel",
            "_view_count": null,
            "_view_module": "@jupyter-widgets/base",
            "_view_module_version": "1.2.0",
            "_view_name": "LayoutView",
            "align_content": null,
            "align_items": null,
            "align_self": null,
            "border": null,
            "bottom": null,
            "display": null,
            "flex": null,
            "flex_flow": null,
            "grid_area": null,
            "grid_auto_columns": null,
            "grid_auto_flow": null,
            "grid_auto_rows": null,
            "grid_column": null,
            "grid_gap": null,
            "grid_row": null,
            "grid_template_areas": null,
            "grid_template_columns": null,
            "grid_template_rows": null,
            "height": null,
            "justify_content": null,
            "justify_items": null,
            "left": null,
            "margin": null,
            "max_height": null,
            "max_width": null,
            "min_height": null,
            "min_width": null,
            "object_fit": null,
            "object_position": null,
            "order": null,
            "overflow": null,
            "overflow_x": null,
            "overflow_y": null,
            "padding": null,
            "right": null,
            "top": null,
            "visibility": null,
            "width": null
          }
        },
        "21f0df62f6194540ab5315c9477f8c94": {
          "model_module": "@jupyter-widgets/base",
          "model_name": "LayoutModel",
          "model_module_version": "1.2.0",
          "state": {
            "_model_module": "@jupyter-widgets/base",
            "_model_module_version": "1.2.0",
            "_model_name": "LayoutModel",
            "_view_count": null,
            "_view_module": "@jupyter-widgets/base",
            "_view_module_version": "1.2.0",
            "_view_name": "LayoutView",
            "align_content": null,
            "align_items": null,
            "align_self": null,
            "border": null,
            "bottom": null,
            "display": null,
            "flex": null,
            "flex_flow": null,
            "grid_area": null,
            "grid_auto_columns": null,
            "grid_auto_flow": null,
            "grid_auto_rows": null,
            "grid_column": null,
            "grid_gap": null,
            "grid_row": null,
            "grid_template_areas": null,
            "grid_template_columns": null,
            "grid_template_rows": null,
            "height": null,
            "justify_content": null,
            "justify_items": null,
            "left": null,
            "margin": null,
            "max_height": null,
            "max_width": null,
            "min_height": null,
            "min_width": null,
            "object_fit": null,
            "object_position": null,
            "order": null,
            "overflow": null,
            "overflow_x": null,
            "overflow_y": null,
            "padding": null,
            "right": null,
            "top": null,
            "visibility": null,
            "width": null
          }
        },
        "1d21ca72bda340b2bee28893b6e43b2a": {
          "model_module": "@jupyter-widgets/controls",
          "model_name": "DescriptionStyleModel",
          "model_module_version": "1.5.0",
          "state": {
            "_model_module": "@jupyter-widgets/controls",
            "_model_module_version": "1.5.0",
            "_model_name": "DescriptionStyleModel",
            "_view_count": null,
            "_view_module": "@jupyter-widgets/base",
            "_view_module_version": "1.2.0",
            "_view_name": "StyleView",
            "description_width": ""
          }
        },
        "0f52c68b5b064961822f2fa1b3cf8b20": {
          "model_module": "@jupyter-widgets/base",
          "model_name": "LayoutModel",
          "model_module_version": "1.2.0",
          "state": {
            "_model_module": "@jupyter-widgets/base",
            "_model_module_version": "1.2.0",
            "_model_name": "LayoutModel",
            "_view_count": null,
            "_view_module": "@jupyter-widgets/base",
            "_view_module_version": "1.2.0",
            "_view_name": "LayoutView",
            "align_content": null,
            "align_items": null,
            "align_self": null,
            "border": null,
            "bottom": null,
            "display": null,
            "flex": null,
            "flex_flow": null,
            "grid_area": null,
            "grid_auto_columns": null,
            "grid_auto_flow": null,
            "grid_auto_rows": null,
            "grid_column": null,
            "grid_gap": null,
            "grid_row": null,
            "grid_template_areas": null,
            "grid_template_columns": null,
            "grid_template_rows": null,
            "height": null,
            "justify_content": null,
            "justify_items": null,
            "left": null,
            "margin": null,
            "max_height": null,
            "max_width": null,
            "min_height": null,
            "min_width": null,
            "object_fit": null,
            "object_position": null,
            "order": null,
            "overflow": null,
            "overflow_x": null,
            "overflow_y": null,
            "padding": null,
            "right": null,
            "top": null,
            "visibility": null,
            "width": null
          }
        },
        "eda3e554cf4b4371ba68153e9eb4faf4": {
          "model_module": "@jupyter-widgets/controls",
          "model_name": "ProgressStyleModel",
          "model_module_version": "1.5.0",
          "state": {
            "_model_module": "@jupyter-widgets/controls",
            "_model_module_version": "1.5.0",
            "_model_name": "ProgressStyleModel",
            "_view_count": null,
            "_view_module": "@jupyter-widgets/base",
            "_view_module_version": "1.2.0",
            "_view_name": "StyleView",
            "bar_color": null,
            "description_width": ""
          }
        },
        "334626e1382c4f3c8cf1306bc0999aa0": {
          "model_module": "@jupyter-widgets/base",
          "model_name": "LayoutModel",
          "model_module_version": "1.2.0",
          "state": {
            "_model_module": "@jupyter-widgets/base",
            "_model_module_version": "1.2.0",
            "_model_name": "LayoutModel",
            "_view_count": null,
            "_view_module": "@jupyter-widgets/base",
            "_view_module_version": "1.2.0",
            "_view_name": "LayoutView",
            "align_content": null,
            "align_items": null,
            "align_self": null,
            "border": null,
            "bottom": null,
            "display": null,
            "flex": null,
            "flex_flow": null,
            "grid_area": null,
            "grid_auto_columns": null,
            "grid_auto_flow": null,
            "grid_auto_rows": null,
            "grid_column": null,
            "grid_gap": null,
            "grid_row": null,
            "grid_template_areas": null,
            "grid_template_columns": null,
            "grid_template_rows": null,
            "height": null,
            "justify_content": null,
            "justify_items": null,
            "left": null,
            "margin": null,
            "max_height": null,
            "max_width": null,
            "min_height": null,
            "min_width": null,
            "object_fit": null,
            "object_position": null,
            "order": null,
            "overflow": null,
            "overflow_x": null,
            "overflow_y": null,
            "padding": null,
            "right": null,
            "top": null,
            "visibility": null,
            "width": null
          }
        },
        "18531b5cf773426688952c8f12f588b5": {
          "model_module": "@jupyter-widgets/controls",
          "model_name": "DescriptionStyleModel",
          "model_module_version": "1.5.0",
          "state": {
            "_model_module": "@jupyter-widgets/controls",
            "_model_module_version": "1.5.0",
            "_model_name": "DescriptionStyleModel",
            "_view_count": null,
            "_view_module": "@jupyter-widgets/base",
            "_view_module_version": "1.2.0",
            "_view_name": "StyleView",
            "description_width": ""
          }
        },
        "b8799049c47d4daebf2503ed7654e879": {
          "model_module": "@jupyter-widgets/controls",
          "model_name": "HBoxModel",
          "model_module_version": "1.5.0",
          "state": {
            "_dom_classes": [],
            "_model_module": "@jupyter-widgets/controls",
            "_model_module_version": "1.5.0",
            "_model_name": "HBoxModel",
            "_view_count": null,
            "_view_module": "@jupyter-widgets/controls",
            "_view_module_version": "1.5.0",
            "_view_name": "HBoxView",
            "box_style": "",
            "children": [
              "IPY_MODEL_238cbc2105614ce0bb3ff7964fbce639",
              "IPY_MODEL_9328d97c3caf471e86af448b49d9b273",
              "IPY_MODEL_efcbee2be4154657a822966d7e2e9525"
            ],
            "layout": "IPY_MODEL_d720e6395ecc4937ac66419deea9d797"
          }
        },
        "238cbc2105614ce0bb3ff7964fbce639": {
          "model_module": "@jupyter-widgets/controls",
          "model_name": "HTMLModel",
          "model_module_version": "1.5.0",
          "state": {
            "_dom_classes": [],
            "_model_module": "@jupyter-widgets/controls",
            "_model_module_version": "1.5.0",
            "_model_name": "HTMLModel",
            "_view_count": null,
            "_view_module": "@jupyter-widgets/controls",
            "_view_module_version": "1.5.0",
            "_view_name": "HTMLView",
            "description": "",
            "description_tooltip": null,
            "layout": "IPY_MODEL_46473a4df05a4cbdab566a2f618b87f2",
            "placeholder": "​",
            "style": "IPY_MODEL_8c19685f8bf04d0b931fa798fe331a6e",
            "value": "tokenizer.json: 100%"
          }
        },
        "9328d97c3caf471e86af448b49d9b273": {
          "model_module": "@jupyter-widgets/controls",
          "model_name": "FloatProgressModel",
          "model_module_version": "1.5.0",
          "state": {
            "_dom_classes": [],
            "_model_module": "@jupyter-widgets/controls",
            "_model_module_version": "1.5.0",
            "_model_name": "FloatProgressModel",
            "_view_count": null,
            "_view_module": "@jupyter-widgets/controls",
            "_view_module_version": "1.5.0",
            "_view_name": "ProgressView",
            "bar_style": "success",
            "description": "",
            "description_tooltip": null,
            "layout": "IPY_MODEL_f76e9a28b12d409cbedf882da2e1ebab",
            "max": 1795677,
            "min": 0,
            "orientation": "horizontal",
            "style": "IPY_MODEL_4040d9bd1fa043b48a6a7e60fe909636",
            "value": 1795677
          }
        },
        "efcbee2be4154657a822966d7e2e9525": {
          "model_module": "@jupyter-widgets/controls",
          "model_name": "HTMLModel",
          "model_module_version": "1.5.0",
          "state": {
            "_dom_classes": [],
            "_model_module": "@jupyter-widgets/controls",
            "_model_module_version": "1.5.0",
            "_model_name": "HTMLModel",
            "_view_count": null,
            "_view_module": "@jupyter-widgets/controls",
            "_view_module_version": "1.5.0",
            "_view_name": "HTMLView",
            "description": "",
            "description_tooltip": null,
            "layout": "IPY_MODEL_4e86f219c34540a380d76dcc0f792a72",
            "placeholder": "​",
            "style": "IPY_MODEL_e1cf9728798b4af19314ba05d9deb896",
            "value": " 1.80M/1.80M [00:02&lt;00:00, 631kB/s]"
          }
        },
        "d720e6395ecc4937ac66419deea9d797": {
          "model_module": "@jupyter-widgets/base",
          "model_name": "LayoutModel",
          "model_module_version": "1.2.0",
          "state": {
            "_model_module": "@jupyter-widgets/base",
            "_model_module_version": "1.2.0",
            "_model_name": "LayoutModel",
            "_view_count": null,
            "_view_module": "@jupyter-widgets/base",
            "_view_module_version": "1.2.0",
            "_view_name": "LayoutView",
            "align_content": null,
            "align_items": null,
            "align_self": null,
            "border": null,
            "bottom": null,
            "display": null,
            "flex": null,
            "flex_flow": null,
            "grid_area": null,
            "grid_auto_columns": null,
            "grid_auto_flow": null,
            "grid_auto_rows": null,
            "grid_column": null,
            "grid_gap": null,
            "grid_row": null,
            "grid_template_areas": null,
            "grid_template_columns": null,
            "grid_template_rows": null,
            "height": null,
            "justify_content": null,
            "justify_items": null,
            "left": null,
            "margin": null,
            "max_height": null,
            "max_width": null,
            "min_height": null,
            "min_width": null,
            "object_fit": null,
            "object_position": null,
            "order": null,
            "overflow": null,
            "overflow_x": null,
            "overflow_y": null,
            "padding": null,
            "right": null,
            "top": null,
            "visibility": null,
            "width": null
          }
        },
        "46473a4df05a4cbdab566a2f618b87f2": {
          "model_module": "@jupyter-widgets/base",
          "model_name": "LayoutModel",
          "model_module_version": "1.2.0",
          "state": {
            "_model_module": "@jupyter-widgets/base",
            "_model_module_version": "1.2.0",
            "_model_name": "LayoutModel",
            "_view_count": null,
            "_view_module": "@jupyter-widgets/base",
            "_view_module_version": "1.2.0",
            "_view_name": "LayoutView",
            "align_content": null,
            "align_items": null,
            "align_self": null,
            "border": null,
            "bottom": null,
            "display": null,
            "flex": null,
            "flex_flow": null,
            "grid_area": null,
            "grid_auto_columns": null,
            "grid_auto_flow": null,
            "grid_auto_rows": null,
            "grid_column": null,
            "grid_gap": null,
            "grid_row": null,
            "grid_template_areas": null,
            "grid_template_columns": null,
            "grid_template_rows": null,
            "height": null,
            "justify_content": null,
            "justify_items": null,
            "left": null,
            "margin": null,
            "max_height": null,
            "max_width": null,
            "min_height": null,
            "min_width": null,
            "object_fit": null,
            "object_position": null,
            "order": null,
            "overflow": null,
            "overflow_x": null,
            "overflow_y": null,
            "padding": null,
            "right": null,
            "top": null,
            "visibility": null,
            "width": null
          }
        },
        "8c19685f8bf04d0b931fa798fe331a6e": {
          "model_module": "@jupyter-widgets/controls",
          "model_name": "DescriptionStyleModel",
          "model_module_version": "1.5.0",
          "state": {
            "_model_module": "@jupyter-widgets/controls",
            "_model_module_version": "1.5.0",
            "_model_name": "DescriptionStyleModel",
            "_view_count": null,
            "_view_module": "@jupyter-widgets/base",
            "_view_module_version": "1.2.0",
            "_view_name": "StyleView",
            "description_width": ""
          }
        },
        "f76e9a28b12d409cbedf882da2e1ebab": {
          "model_module": "@jupyter-widgets/base",
          "model_name": "LayoutModel",
          "model_module_version": "1.2.0",
          "state": {
            "_model_module": "@jupyter-widgets/base",
            "_model_module_version": "1.2.0",
            "_model_name": "LayoutModel",
            "_view_count": null,
            "_view_module": "@jupyter-widgets/base",
            "_view_module_version": "1.2.0",
            "_view_name": "LayoutView",
            "align_content": null,
            "align_items": null,
            "align_self": null,
            "border": null,
            "bottom": null,
            "display": null,
            "flex": null,
            "flex_flow": null,
            "grid_area": null,
            "grid_auto_columns": null,
            "grid_auto_flow": null,
            "grid_auto_rows": null,
            "grid_column": null,
            "grid_gap": null,
            "grid_row": null,
            "grid_template_areas": null,
            "grid_template_columns": null,
            "grid_template_rows": null,
            "height": null,
            "justify_content": null,
            "justify_items": null,
            "left": null,
            "margin": null,
            "max_height": null,
            "max_width": null,
            "min_height": null,
            "min_width": null,
            "object_fit": null,
            "object_position": null,
            "order": null,
            "overflow": null,
            "overflow_x": null,
            "overflow_y": null,
            "padding": null,
            "right": null,
            "top": null,
            "visibility": null,
            "width": null
          }
        },
        "4040d9bd1fa043b48a6a7e60fe909636": {
          "model_module": "@jupyter-widgets/controls",
          "model_name": "ProgressStyleModel",
          "model_module_version": "1.5.0",
          "state": {
            "_model_module": "@jupyter-widgets/controls",
            "_model_module_version": "1.5.0",
            "_model_name": "ProgressStyleModel",
            "_view_count": null,
            "_view_module": "@jupyter-widgets/base",
            "_view_module_version": "1.2.0",
            "_view_name": "StyleView",
            "bar_color": null,
            "description_width": ""
          }
        },
        "4e86f219c34540a380d76dcc0f792a72": {
          "model_module": "@jupyter-widgets/base",
          "model_name": "LayoutModel",
          "model_module_version": "1.2.0",
          "state": {
            "_model_module": "@jupyter-widgets/base",
            "_model_module_version": "1.2.0",
            "_model_name": "LayoutModel",
            "_view_count": null,
            "_view_module": "@jupyter-widgets/base",
            "_view_module_version": "1.2.0",
            "_view_name": "LayoutView",
            "align_content": null,
            "align_items": null,
            "align_self": null,
            "border": null,
            "bottom": null,
            "display": null,
            "flex": null,
            "flex_flow": null,
            "grid_area": null,
            "grid_auto_columns": null,
            "grid_auto_flow": null,
            "grid_auto_rows": null,
            "grid_column": null,
            "grid_gap": null,
            "grid_row": null,
            "grid_template_areas": null,
            "grid_template_columns": null,
            "grid_template_rows": null,
            "height": null,
            "justify_content": null,
            "justify_items": null,
            "left": null,
            "margin": null,
            "max_height": null,
            "max_width": null,
            "min_height": null,
            "min_width": null,
            "object_fit": null,
            "object_position": null,
            "order": null,
            "overflow": null,
            "overflow_x": null,
            "overflow_y": null,
            "padding": null,
            "right": null,
            "top": null,
            "visibility": null,
            "width": null
          }
        },
        "e1cf9728798b4af19314ba05d9deb896": {
          "model_module": "@jupyter-widgets/controls",
          "model_name": "DescriptionStyleModel",
          "model_module_version": "1.5.0",
          "state": {
            "_model_module": "@jupyter-widgets/controls",
            "_model_module_version": "1.5.0",
            "_model_name": "DescriptionStyleModel",
            "_view_count": null,
            "_view_module": "@jupyter-widgets/base",
            "_view_module_version": "1.2.0",
            "_view_name": "StyleView",
            "description_width": ""
          }
        },
        "fd4927cf70b24d37a850c29ef4205b69": {
          "model_module": "@jupyter-widgets/controls",
          "model_name": "HBoxModel",
          "model_module_version": "1.5.0",
          "state": {
            "_dom_classes": [],
            "_model_module": "@jupyter-widgets/controls",
            "_model_module_version": "1.5.0",
            "_model_name": "HBoxModel",
            "_view_count": null,
            "_view_module": "@jupyter-widgets/controls",
            "_view_module_version": "1.5.0",
            "_view_name": "HBoxView",
            "box_style": "",
            "children": [
              "IPY_MODEL_48c5bd21cbe541839584a59118fac46d",
              "IPY_MODEL_cb31e240f45048d78651e4d7eb12672c",
              "IPY_MODEL_92c436d01b2340f7af674ad69c2bfcf1"
            ],
            "layout": "IPY_MODEL_373aea7711844690b7f1c7e11a8c9981"
          }
        },
        "48c5bd21cbe541839584a59118fac46d": {
          "model_module": "@jupyter-widgets/controls",
          "model_name": "HTMLModel",
          "model_module_version": "1.5.0",
          "state": {
            "_dom_classes": [],
            "_model_module": "@jupyter-widgets/controls",
            "_model_module_version": "1.5.0",
            "_model_name": "HTMLModel",
            "_view_count": null,
            "_view_module": "@jupyter-widgets/controls",
            "_view_module_version": "1.5.0",
            "_view_name": "HTMLView",
            "description": "",
            "description_tooltip": null,
            "layout": "IPY_MODEL_a758ae5ef2e343c78dccc4a010ccdee3",
            "placeholder": "​",
            "style": "IPY_MODEL_216d57d6eabd4abd96c6d36d858996d7",
            "value": "added_tokens.json: 100%"
          }
        },
        "cb31e240f45048d78651e4d7eb12672c": {
          "model_module": "@jupyter-widgets/controls",
          "model_name": "FloatProgressModel",
          "model_module_version": "1.5.0",
          "state": {
            "_dom_classes": [],
            "_model_module": "@jupyter-widgets/controls",
            "_model_module_version": "1.5.0",
            "_model_name": "FloatProgressModel",
            "_view_count": null,
            "_view_module": "@jupyter-widgets/controls",
            "_view_module_version": "1.5.0",
            "_view_name": "ProgressView",
            "bar_style": "success",
            "description": "",
            "description_tooltip": null,
            "layout": "IPY_MODEL_c880609b0ca84f4faa769d1e7fd513da",
            "max": 51,
            "min": 0,
            "orientation": "horizontal",
            "style": "IPY_MODEL_aff3da2fe32f476da572f54220dc7605",
            "value": 51
          }
        },
        "92c436d01b2340f7af674ad69c2bfcf1": {
          "model_module": "@jupyter-widgets/controls",
          "model_name": "HTMLModel",
          "model_module_version": "1.5.0",
          "state": {
            "_dom_classes": [],
            "_model_module": "@jupyter-widgets/controls",
            "_model_module_version": "1.5.0",
            "_model_name": "HTMLModel",
            "_view_count": null,
            "_view_module": "@jupyter-widgets/controls",
            "_view_module_version": "1.5.0",
            "_view_name": "HTMLView",
            "description": "",
            "description_tooltip": null,
            "layout": "IPY_MODEL_61a1db6620c14f6d87f1c7b34f67a3d6",
            "placeholder": "​",
            "style": "IPY_MODEL_dd8b07ab912a4e4dadd0e83ce5a88b95",
            "value": " 51.0/51.0 [00:00&lt;00:00, 4.61kB/s]"
          }
        },
        "373aea7711844690b7f1c7e11a8c9981": {
          "model_module": "@jupyter-widgets/base",
          "model_name": "LayoutModel",
          "model_module_version": "1.2.0",
          "state": {
            "_model_module": "@jupyter-widgets/base",
            "_model_module_version": "1.2.0",
            "_model_name": "LayoutModel",
            "_view_count": null,
            "_view_module": "@jupyter-widgets/base",
            "_view_module_version": "1.2.0",
            "_view_name": "LayoutView",
            "align_content": null,
            "align_items": null,
            "align_self": null,
            "border": null,
            "bottom": null,
            "display": null,
            "flex": null,
            "flex_flow": null,
            "grid_area": null,
            "grid_auto_columns": null,
            "grid_auto_flow": null,
            "grid_auto_rows": null,
            "grid_column": null,
            "grid_gap": null,
            "grid_row": null,
            "grid_template_areas": null,
            "grid_template_columns": null,
            "grid_template_rows": null,
            "height": null,
            "justify_content": null,
            "justify_items": null,
            "left": null,
            "margin": null,
            "max_height": null,
            "max_width": null,
            "min_height": null,
            "min_width": null,
            "object_fit": null,
            "object_position": null,
            "order": null,
            "overflow": null,
            "overflow_x": null,
            "overflow_y": null,
            "padding": null,
            "right": null,
            "top": null,
            "visibility": null,
            "width": null
          }
        },
        "a758ae5ef2e343c78dccc4a010ccdee3": {
          "model_module": "@jupyter-widgets/base",
          "model_name": "LayoutModel",
          "model_module_version": "1.2.0",
          "state": {
            "_model_module": "@jupyter-widgets/base",
            "_model_module_version": "1.2.0",
            "_model_name": "LayoutModel",
            "_view_count": null,
            "_view_module": "@jupyter-widgets/base",
            "_view_module_version": "1.2.0",
            "_view_name": "LayoutView",
            "align_content": null,
            "align_items": null,
            "align_self": null,
            "border": null,
            "bottom": null,
            "display": null,
            "flex": null,
            "flex_flow": null,
            "grid_area": null,
            "grid_auto_columns": null,
            "grid_auto_flow": null,
            "grid_auto_rows": null,
            "grid_column": null,
            "grid_gap": null,
            "grid_row": null,
            "grid_template_areas": null,
            "grid_template_columns": null,
            "grid_template_rows": null,
            "height": null,
            "justify_content": null,
            "justify_items": null,
            "left": null,
            "margin": null,
            "max_height": null,
            "max_width": null,
            "min_height": null,
            "min_width": null,
            "object_fit": null,
            "object_position": null,
            "order": null,
            "overflow": null,
            "overflow_x": null,
            "overflow_y": null,
            "padding": null,
            "right": null,
            "top": null,
            "visibility": null,
            "width": null
          }
        },
        "216d57d6eabd4abd96c6d36d858996d7": {
          "model_module": "@jupyter-widgets/controls",
          "model_name": "DescriptionStyleModel",
          "model_module_version": "1.5.0",
          "state": {
            "_model_module": "@jupyter-widgets/controls",
            "_model_module_version": "1.5.0",
            "_model_name": "DescriptionStyleModel",
            "_view_count": null,
            "_view_module": "@jupyter-widgets/base",
            "_view_module_version": "1.2.0",
            "_view_name": "StyleView",
            "description_width": ""
          }
        },
        "c880609b0ca84f4faa769d1e7fd513da": {
          "model_module": "@jupyter-widgets/base",
          "model_name": "LayoutModel",
          "model_module_version": "1.2.0",
          "state": {
            "_model_module": "@jupyter-widgets/base",
            "_model_module_version": "1.2.0",
            "_model_name": "LayoutModel",
            "_view_count": null,
            "_view_module": "@jupyter-widgets/base",
            "_view_module_version": "1.2.0",
            "_view_name": "LayoutView",
            "align_content": null,
            "align_items": null,
            "align_self": null,
            "border": null,
            "bottom": null,
            "display": null,
            "flex": null,
            "flex_flow": null,
            "grid_area": null,
            "grid_auto_columns": null,
            "grid_auto_flow": null,
            "grid_auto_rows": null,
            "grid_column": null,
            "grid_gap": null,
            "grid_row": null,
            "grid_template_areas": null,
            "grid_template_columns": null,
            "grid_template_rows": null,
            "height": null,
            "justify_content": null,
            "justify_items": null,
            "left": null,
            "margin": null,
            "max_height": null,
            "max_width": null,
            "min_height": null,
            "min_width": null,
            "object_fit": null,
            "object_position": null,
            "order": null,
            "overflow": null,
            "overflow_x": null,
            "overflow_y": null,
            "padding": null,
            "right": null,
            "top": null,
            "visibility": null,
            "width": null
          }
        },
        "aff3da2fe32f476da572f54220dc7605": {
          "model_module": "@jupyter-widgets/controls",
          "model_name": "ProgressStyleModel",
          "model_module_version": "1.5.0",
          "state": {
            "_model_module": "@jupyter-widgets/controls",
            "_model_module_version": "1.5.0",
            "_model_name": "ProgressStyleModel",
            "_view_count": null,
            "_view_module": "@jupyter-widgets/base",
            "_view_module_version": "1.2.0",
            "_view_name": "StyleView",
            "bar_color": null,
            "description_width": ""
          }
        },
        "61a1db6620c14f6d87f1c7b34f67a3d6": {
          "model_module": "@jupyter-widgets/base",
          "model_name": "LayoutModel",
          "model_module_version": "1.2.0",
          "state": {
            "_model_module": "@jupyter-widgets/base",
            "_model_module_version": "1.2.0",
            "_model_name": "LayoutModel",
            "_view_count": null,
            "_view_module": "@jupyter-widgets/base",
            "_view_module_version": "1.2.0",
            "_view_name": "LayoutView",
            "align_content": null,
            "align_items": null,
            "align_self": null,
            "border": null,
            "bottom": null,
            "display": null,
            "flex": null,
            "flex_flow": null,
            "grid_area": null,
            "grid_auto_columns": null,
            "grid_auto_flow": null,
            "grid_auto_rows": null,
            "grid_column": null,
            "grid_gap": null,
            "grid_row": null,
            "grid_template_areas": null,
            "grid_template_columns": null,
            "grid_template_rows": null,
            "height": null,
            "justify_content": null,
            "justify_items": null,
            "left": null,
            "margin": null,
            "max_height": null,
            "max_width": null,
            "min_height": null,
            "min_width": null,
            "object_fit": null,
            "object_position": null,
            "order": null,
            "overflow": null,
            "overflow_x": null,
            "overflow_y": null,
            "padding": null,
            "right": null,
            "top": null,
            "visibility": null,
            "width": null
          }
        },
        "dd8b07ab912a4e4dadd0e83ce5a88b95": {
          "model_module": "@jupyter-widgets/controls",
          "model_name": "DescriptionStyleModel",
          "model_module_version": "1.5.0",
          "state": {
            "_model_module": "@jupyter-widgets/controls",
            "_model_module_version": "1.5.0",
            "_model_name": "DescriptionStyleModel",
            "_view_count": null,
            "_view_module": "@jupyter-widgets/base",
            "_view_module_version": "1.2.0",
            "_view_name": "StyleView",
            "description_width": ""
          }
        },
        "077e6cb8c5624debb4d2d3787c1ea597": {
          "model_module": "@jupyter-widgets/controls",
          "model_name": "HBoxModel",
          "model_module_version": "1.5.0",
          "state": {
            "_dom_classes": [],
            "_model_module": "@jupyter-widgets/controls",
            "_model_module_version": "1.5.0",
            "_model_name": "HBoxModel",
            "_view_count": null,
            "_view_module": "@jupyter-widgets/controls",
            "_view_module_version": "1.5.0",
            "_view_name": "HBoxView",
            "box_style": "",
            "children": [
              "IPY_MODEL_1c4eb14878a7426b9b89acbf9283e09a",
              "IPY_MODEL_019cdc18da634568bcb6ee57fb848694",
              "IPY_MODEL_dbadbdaea29a43cc96420529029f7d1b"
            ],
            "layout": "IPY_MODEL_2d755e2e6ff54e4f8aac9076dece0459"
          }
        },
        "1c4eb14878a7426b9b89acbf9283e09a": {
          "model_module": "@jupyter-widgets/controls",
          "model_name": "HTMLModel",
          "model_module_version": "1.5.0",
          "state": {
            "_dom_classes": [],
            "_model_module": "@jupyter-widgets/controls",
            "_model_module_version": "1.5.0",
            "_model_name": "HTMLModel",
            "_view_count": null,
            "_view_module": "@jupyter-widgets/controls",
            "_view_module_version": "1.5.0",
            "_view_name": "HTMLView",
            "description": "",
            "description_tooltip": null,
            "layout": "IPY_MODEL_5c9e7c99dae34772bc12f98e43d95e64",
            "placeholder": "​",
            "style": "IPY_MODEL_899fc69974c942eaa0c0322f30805809",
            "value": "special_tokens_map.json: 100%"
          }
        },
        "019cdc18da634568bcb6ee57fb848694": {
          "model_module": "@jupyter-widgets/controls",
          "model_name": "FloatProgressModel",
          "model_module_version": "1.5.0",
          "state": {
            "_dom_classes": [],
            "_model_module": "@jupyter-widgets/controls",
            "_model_module_version": "1.5.0",
            "_model_name": "FloatProgressModel",
            "_view_count": null,
            "_view_module": "@jupyter-widgets/controls",
            "_view_module_version": "1.5.0",
            "_view_name": "ProgressView",
            "bar_style": "success",
            "description": "",
            "description_tooltip": null,
            "layout": "IPY_MODEL_7fa3a3d789604e778342f18da61c585b",
            "max": 557,
            "min": 0,
            "orientation": "horizontal",
            "style": "IPY_MODEL_7b3767a1fe274828acaeca5dd0de7916",
            "value": 557
          }
        },
        "dbadbdaea29a43cc96420529029f7d1b": {
          "model_module": "@jupyter-widgets/controls",
          "model_name": "HTMLModel",
          "model_module_version": "1.5.0",
          "state": {
            "_dom_classes": [],
            "_model_module": "@jupyter-widgets/controls",
            "_model_module_version": "1.5.0",
            "_model_name": "HTMLModel",
            "_view_count": null,
            "_view_module": "@jupyter-widgets/controls",
            "_view_module_version": "1.5.0",
            "_view_name": "HTMLView",
            "description": "",
            "description_tooltip": null,
            "layout": "IPY_MODEL_d6729c657efd448bb121fc0adef685ad",
            "placeholder": "​",
            "style": "IPY_MODEL_595d85295bd3409c983e86e927afd162",
            "value": " 557/557 [00:00&lt;00:00, 49.7kB/s]"
          }
        },
        "2d755e2e6ff54e4f8aac9076dece0459": {
          "model_module": "@jupyter-widgets/base",
          "model_name": "LayoutModel",
          "model_module_version": "1.2.0",
          "state": {
            "_model_module": "@jupyter-widgets/base",
            "_model_module_version": "1.2.0",
            "_model_name": "LayoutModel",
            "_view_count": null,
            "_view_module": "@jupyter-widgets/base",
            "_view_module_version": "1.2.0",
            "_view_name": "LayoutView",
            "align_content": null,
            "align_items": null,
            "align_self": null,
            "border": null,
            "bottom": null,
            "display": null,
            "flex": null,
            "flex_flow": null,
            "grid_area": null,
            "grid_auto_columns": null,
            "grid_auto_flow": null,
            "grid_auto_rows": null,
            "grid_column": null,
            "grid_gap": null,
            "grid_row": null,
            "grid_template_areas": null,
            "grid_template_columns": null,
            "grid_template_rows": null,
            "height": null,
            "justify_content": null,
            "justify_items": null,
            "left": null,
            "margin": null,
            "max_height": null,
            "max_width": null,
            "min_height": null,
            "min_width": null,
            "object_fit": null,
            "object_position": null,
            "order": null,
            "overflow": null,
            "overflow_x": null,
            "overflow_y": null,
            "padding": null,
            "right": null,
            "top": null,
            "visibility": null,
            "width": null
          }
        },
        "5c9e7c99dae34772bc12f98e43d95e64": {
          "model_module": "@jupyter-widgets/base",
          "model_name": "LayoutModel",
          "model_module_version": "1.2.0",
          "state": {
            "_model_module": "@jupyter-widgets/base",
            "_model_module_version": "1.2.0",
            "_model_name": "LayoutModel",
            "_view_count": null,
            "_view_module": "@jupyter-widgets/base",
            "_view_module_version": "1.2.0",
            "_view_name": "LayoutView",
            "align_content": null,
            "align_items": null,
            "align_self": null,
            "border": null,
            "bottom": null,
            "display": null,
            "flex": null,
            "flex_flow": null,
            "grid_area": null,
            "grid_auto_columns": null,
            "grid_auto_flow": null,
            "grid_auto_rows": null,
            "grid_column": null,
            "grid_gap": null,
            "grid_row": null,
            "grid_template_areas": null,
            "grid_template_columns": null,
            "grid_template_rows": null,
            "height": null,
            "justify_content": null,
            "justify_items": null,
            "left": null,
            "margin": null,
            "max_height": null,
            "max_width": null,
            "min_height": null,
            "min_width": null,
            "object_fit": null,
            "object_position": null,
            "order": null,
            "overflow": null,
            "overflow_x": null,
            "overflow_y": null,
            "padding": null,
            "right": null,
            "top": null,
            "visibility": null,
            "width": null
          }
        },
        "899fc69974c942eaa0c0322f30805809": {
          "model_module": "@jupyter-widgets/controls",
          "model_name": "DescriptionStyleModel",
          "model_module_version": "1.5.0",
          "state": {
            "_model_module": "@jupyter-widgets/controls",
            "_model_module_version": "1.5.0",
            "_model_name": "DescriptionStyleModel",
            "_view_count": null,
            "_view_module": "@jupyter-widgets/base",
            "_view_module_version": "1.2.0",
            "_view_name": "StyleView",
            "description_width": ""
          }
        },
        "7fa3a3d789604e778342f18da61c585b": {
          "model_module": "@jupyter-widgets/base",
          "model_name": "LayoutModel",
          "model_module_version": "1.2.0",
          "state": {
            "_model_module": "@jupyter-widgets/base",
            "_model_module_version": "1.2.0",
            "_model_name": "LayoutModel",
            "_view_count": null,
            "_view_module": "@jupyter-widgets/base",
            "_view_module_version": "1.2.0",
            "_view_name": "LayoutView",
            "align_content": null,
            "align_items": null,
            "align_self": null,
            "border": null,
            "bottom": null,
            "display": null,
            "flex": null,
            "flex_flow": null,
            "grid_area": null,
            "grid_auto_columns": null,
            "grid_auto_flow": null,
            "grid_auto_rows": null,
            "grid_column": null,
            "grid_gap": null,
            "grid_row": null,
            "grid_template_areas": null,
            "grid_template_columns": null,
            "grid_template_rows": null,
            "height": null,
            "justify_content": null,
            "justify_items": null,
            "left": null,
            "margin": null,
            "max_height": null,
            "max_width": null,
            "min_height": null,
            "min_width": null,
            "object_fit": null,
            "object_position": null,
            "order": null,
            "overflow": null,
            "overflow_x": null,
            "overflow_y": null,
            "padding": null,
            "right": null,
            "top": null,
            "visibility": null,
            "width": null
          }
        },
        "7b3767a1fe274828acaeca5dd0de7916": {
          "model_module": "@jupyter-widgets/controls",
          "model_name": "ProgressStyleModel",
          "model_module_version": "1.5.0",
          "state": {
            "_model_module": "@jupyter-widgets/controls",
            "_model_module_version": "1.5.0",
            "_model_name": "ProgressStyleModel",
            "_view_count": null,
            "_view_module": "@jupyter-widgets/base",
            "_view_module_version": "1.2.0",
            "_view_name": "StyleView",
            "bar_color": null,
            "description_width": ""
          }
        },
        "d6729c657efd448bb121fc0adef685ad": {
          "model_module": "@jupyter-widgets/base",
          "model_name": "LayoutModel",
          "model_module_version": "1.2.0",
          "state": {
            "_model_module": "@jupyter-widgets/base",
            "_model_module_version": "1.2.0",
            "_model_name": "LayoutModel",
            "_view_count": null,
            "_view_module": "@jupyter-widgets/base",
            "_view_module_version": "1.2.0",
            "_view_name": "LayoutView",
            "align_content": null,
            "align_items": null,
            "align_self": null,
            "border": null,
            "bottom": null,
            "display": null,
            "flex": null,
            "flex_flow": null,
            "grid_area": null,
            "grid_auto_columns": null,
            "grid_auto_flow": null,
            "grid_auto_rows": null,
            "grid_column": null,
            "grid_gap": null,
            "grid_row": null,
            "grid_template_areas": null,
            "grid_template_columns": null,
            "grid_template_rows": null,
            "height": null,
            "justify_content": null,
            "justify_items": null,
            "left": null,
            "margin": null,
            "max_height": null,
            "max_width": null,
            "min_height": null,
            "min_width": null,
            "object_fit": null,
            "object_position": null,
            "order": null,
            "overflow": null,
            "overflow_x": null,
            "overflow_y": null,
            "padding": null,
            "right": null,
            "top": null,
            "visibility": null,
            "width": null
          }
        },
        "595d85295bd3409c983e86e927afd162": {
          "model_module": "@jupyter-widgets/controls",
          "model_name": "DescriptionStyleModel",
          "model_module_version": "1.5.0",
          "state": {
            "_model_module": "@jupyter-widgets/controls",
            "_model_module_version": "1.5.0",
            "_model_name": "DescriptionStyleModel",
            "_view_count": null,
            "_view_module": "@jupyter-widgets/base",
            "_view_module_version": "1.2.0",
            "_view_name": "StyleView",
            "description_width": ""
          }
        },
        "a46389dbd6104483aa6efb12250b9b61": {
          "model_module": "@jupyter-widgets/controls",
          "model_name": "HBoxModel",
          "model_module_version": "1.5.0",
          "state": {
            "_dom_classes": [],
            "_model_module": "@jupyter-widgets/controls",
            "_model_module_version": "1.5.0",
            "_model_name": "HBoxModel",
            "_view_count": null,
            "_view_module": "@jupyter-widgets/controls",
            "_view_module_version": "1.5.0",
            "_view_name": "HBoxView",
            "box_style": "",
            "children": [
              "IPY_MODEL_8eea0177322d4b9da2450ecf5acc3ca2",
              "IPY_MODEL_3e96c788047e4249b26af1dfed46a79a",
              "IPY_MODEL_4502671b0ee74826a3f1c4eb239c427d"
            ],
            "layout": "IPY_MODEL_ae0ad7d5d1534b7eaaefd9851079db84"
          }
        },
        "8eea0177322d4b9da2450ecf5acc3ca2": {
          "model_module": "@jupyter-widgets/controls",
          "model_name": "HTMLModel",
          "model_module_version": "1.5.0",
          "state": {
            "_dom_classes": [],
            "_model_module": "@jupyter-widgets/controls",
            "_model_module_version": "1.5.0",
            "_model_name": "HTMLModel",
            "_view_count": null,
            "_view_module": "@jupyter-widgets/controls",
            "_view_module_version": "1.5.0",
            "_view_name": "HTMLView",
            "description": "",
            "description_tooltip": null,
            "layout": "IPY_MODEL_9081a3e49ce14e0abb300b7aadf822af",
            "placeholder": "​",
            "style": "IPY_MODEL_47b3a526aa384ed195633f0edea7e4e6",
            "value": "Map: 100%"
          }
        },
        "3e96c788047e4249b26af1dfed46a79a": {
          "model_module": "@jupyter-widgets/controls",
          "model_name": "FloatProgressModel",
          "model_module_version": "1.5.0",
          "state": {
            "_dom_classes": [],
            "_model_module": "@jupyter-widgets/controls",
            "_model_module_version": "1.5.0",
            "_model_name": "FloatProgressModel",
            "_view_count": null,
            "_view_module": "@jupyter-widgets/controls",
            "_view_module_version": "1.5.0",
            "_view_name": "ProgressView",
            "bar_style": "success",
            "description": "",
            "description_tooltip": null,
            "layout": "IPY_MODEL_31a16050691140e7a663d286d1b03d3d",
            "max": 12500,
            "min": 0,
            "orientation": "horizontal",
            "style": "IPY_MODEL_367a40e13ba34ac7891f80f9d90d4035",
            "value": 12500
          }
        },
        "4502671b0ee74826a3f1c4eb239c427d": {
          "model_module": "@jupyter-widgets/controls",
          "model_name": "HTMLModel",
          "model_module_version": "1.5.0",
          "state": {
            "_dom_classes": [],
            "_model_module": "@jupyter-widgets/controls",
            "_model_module_version": "1.5.0",
            "_model_name": "HTMLModel",
            "_view_count": null,
            "_view_module": "@jupyter-widgets/controls",
            "_view_module_version": "1.5.0",
            "_view_name": "HTMLView",
            "description": "",
            "description_tooltip": null,
            "layout": "IPY_MODEL_7370450d2767412f92372b1592b65f07",
            "placeholder": "​",
            "style": "IPY_MODEL_acfd0ed8063f49d9bd10588d021854c7",
            "value": " 12500/12500 [00:01&lt;00:00, 8680.86 examples/s]"
          }
        },
        "ae0ad7d5d1534b7eaaefd9851079db84": {
          "model_module": "@jupyter-widgets/base",
          "model_name": "LayoutModel",
          "model_module_version": "1.2.0",
          "state": {
            "_model_module": "@jupyter-widgets/base",
            "_model_module_version": "1.2.0",
            "_model_name": "LayoutModel",
            "_view_count": null,
            "_view_module": "@jupyter-widgets/base",
            "_view_module_version": "1.2.0",
            "_view_name": "LayoutView",
            "align_content": null,
            "align_items": null,
            "align_self": null,
            "border": null,
            "bottom": null,
            "display": null,
            "flex": null,
            "flex_flow": null,
            "grid_area": null,
            "grid_auto_columns": null,
            "grid_auto_flow": null,
            "grid_auto_rows": null,
            "grid_column": null,
            "grid_gap": null,
            "grid_row": null,
            "grid_template_areas": null,
            "grid_template_columns": null,
            "grid_template_rows": null,
            "height": null,
            "justify_content": null,
            "justify_items": null,
            "left": null,
            "margin": null,
            "max_height": null,
            "max_width": null,
            "min_height": null,
            "min_width": null,
            "object_fit": null,
            "object_position": null,
            "order": null,
            "overflow": null,
            "overflow_x": null,
            "overflow_y": null,
            "padding": null,
            "right": null,
            "top": null,
            "visibility": null,
            "width": null
          }
        },
        "9081a3e49ce14e0abb300b7aadf822af": {
          "model_module": "@jupyter-widgets/base",
          "model_name": "LayoutModel",
          "model_module_version": "1.2.0",
          "state": {
            "_model_module": "@jupyter-widgets/base",
            "_model_module_version": "1.2.0",
            "_model_name": "LayoutModel",
            "_view_count": null,
            "_view_module": "@jupyter-widgets/base",
            "_view_module_version": "1.2.0",
            "_view_name": "LayoutView",
            "align_content": null,
            "align_items": null,
            "align_self": null,
            "border": null,
            "bottom": null,
            "display": null,
            "flex": null,
            "flex_flow": null,
            "grid_area": null,
            "grid_auto_columns": null,
            "grid_auto_flow": null,
            "grid_auto_rows": null,
            "grid_column": null,
            "grid_gap": null,
            "grid_row": null,
            "grid_template_areas": null,
            "grid_template_columns": null,
            "grid_template_rows": null,
            "height": null,
            "justify_content": null,
            "justify_items": null,
            "left": null,
            "margin": null,
            "max_height": null,
            "max_width": null,
            "min_height": null,
            "min_width": null,
            "object_fit": null,
            "object_position": null,
            "order": null,
            "overflow": null,
            "overflow_x": null,
            "overflow_y": null,
            "padding": null,
            "right": null,
            "top": null,
            "visibility": null,
            "width": null
          }
        },
        "47b3a526aa384ed195633f0edea7e4e6": {
          "model_module": "@jupyter-widgets/controls",
          "model_name": "DescriptionStyleModel",
          "model_module_version": "1.5.0",
          "state": {
            "_model_module": "@jupyter-widgets/controls",
            "_model_module_version": "1.5.0",
            "_model_name": "DescriptionStyleModel",
            "_view_count": null,
            "_view_module": "@jupyter-widgets/base",
            "_view_module_version": "1.2.0",
            "_view_name": "StyleView",
            "description_width": ""
          }
        },
        "31a16050691140e7a663d286d1b03d3d": {
          "model_module": "@jupyter-widgets/base",
          "model_name": "LayoutModel",
          "model_module_version": "1.2.0",
          "state": {
            "_model_module": "@jupyter-widgets/base",
            "_model_module_version": "1.2.0",
            "_model_name": "LayoutModel",
            "_view_count": null,
            "_view_module": "@jupyter-widgets/base",
            "_view_module_version": "1.2.0",
            "_view_name": "LayoutView",
            "align_content": null,
            "align_items": null,
            "align_self": null,
            "border": null,
            "bottom": null,
            "display": null,
            "flex": null,
            "flex_flow": null,
            "grid_area": null,
            "grid_auto_columns": null,
            "grid_auto_flow": null,
            "grid_auto_rows": null,
            "grid_column": null,
            "grid_gap": null,
            "grid_row": null,
            "grid_template_areas": null,
            "grid_template_columns": null,
            "grid_template_rows": null,
            "height": null,
            "justify_content": null,
            "justify_items": null,
            "left": null,
            "margin": null,
            "max_height": null,
            "max_width": null,
            "min_height": null,
            "min_width": null,
            "object_fit": null,
            "object_position": null,
            "order": null,
            "overflow": null,
            "overflow_x": null,
            "overflow_y": null,
            "padding": null,
            "right": null,
            "top": null,
            "visibility": null,
            "width": null
          }
        },
        "367a40e13ba34ac7891f80f9d90d4035": {
          "model_module": "@jupyter-widgets/controls",
          "model_name": "ProgressStyleModel",
          "model_module_version": "1.5.0",
          "state": {
            "_model_module": "@jupyter-widgets/controls",
            "_model_module_version": "1.5.0",
            "_model_name": "ProgressStyleModel",
            "_view_count": null,
            "_view_module": "@jupyter-widgets/base",
            "_view_module_version": "1.2.0",
            "_view_name": "StyleView",
            "bar_color": null,
            "description_width": ""
          }
        },
        "7370450d2767412f92372b1592b65f07": {
          "model_module": "@jupyter-widgets/base",
          "model_name": "LayoutModel",
          "model_module_version": "1.2.0",
          "state": {
            "_model_module": "@jupyter-widgets/base",
            "_model_module_version": "1.2.0",
            "_model_name": "LayoutModel",
            "_view_count": null,
            "_view_module": "@jupyter-widgets/base",
            "_view_module_version": "1.2.0",
            "_view_name": "LayoutView",
            "align_content": null,
            "align_items": null,
            "align_self": null,
            "border": null,
            "bottom": null,
            "display": null,
            "flex": null,
            "flex_flow": null,
            "grid_area": null,
            "grid_auto_columns": null,
            "grid_auto_flow": null,
            "grid_auto_rows": null,
            "grid_column": null,
            "grid_gap": null,
            "grid_row": null,
            "grid_template_areas": null,
            "grid_template_columns": null,
            "grid_template_rows": null,
            "height": null,
            "justify_content": null,
            "justify_items": null,
            "left": null,
            "margin": null,
            "max_height": null,
            "max_width": null,
            "min_height": null,
            "min_width": null,
            "object_fit": null,
            "object_position": null,
            "order": null,
            "overflow": null,
            "overflow_x": null,
            "overflow_y": null,
            "padding": null,
            "right": null,
            "top": null,
            "visibility": null,
            "width": null
          }
        },
        "acfd0ed8063f49d9bd10588d021854c7": {
          "model_module": "@jupyter-widgets/controls",
          "model_name": "DescriptionStyleModel",
          "model_module_version": "1.5.0",
          "state": {
            "_model_module": "@jupyter-widgets/controls",
            "_model_module_version": "1.5.0",
            "_model_name": "DescriptionStyleModel",
            "_view_count": null,
            "_view_module": "@jupyter-widgets/base",
            "_view_module_version": "1.2.0",
            "_view_name": "StyleView",
            "description_width": ""
          }
        },
        "e50ceb359551439faa87e95e7cfb482b": {
          "model_module": "@jupyter-widgets/controls",
          "model_name": "HBoxModel",
          "model_module_version": "1.5.0",
          "state": {
            "_dom_classes": [],
            "_model_module": "@jupyter-widgets/controls",
            "_model_module_version": "1.5.0",
            "_model_name": "HBoxModel",
            "_view_count": null,
            "_view_module": "@jupyter-widgets/controls",
            "_view_module_version": "1.5.0",
            "_view_name": "HBoxView",
            "box_style": "",
            "children": [
              "IPY_MODEL_0340663c357c4c63acd5a1fc2f898ef1",
              "IPY_MODEL_ae6a07596ee5418a9bd9cd6ecbf56cda",
              "IPY_MODEL_39a18a2ecea146bd8e675b2d8c306581"
            ],
            "layout": "IPY_MODEL_a013e705e7c84bbb816b34beacec29c4"
          }
        },
        "0340663c357c4c63acd5a1fc2f898ef1": {
          "model_module": "@jupyter-widgets/controls",
          "model_name": "HTMLModel",
          "model_module_version": "1.5.0",
          "state": {
            "_dom_classes": [],
            "_model_module": "@jupyter-widgets/controls",
            "_model_module_version": "1.5.0",
            "_model_name": "HTMLModel",
            "_view_count": null,
            "_view_module": "@jupyter-widgets/controls",
            "_view_module_version": "1.5.0",
            "_view_name": "HTMLView",
            "description": "",
            "description_tooltip": null,
            "layout": "IPY_MODEL_717aedf99bb84f8b9e3a76dfbd1d8c6c",
            "placeholder": "​",
            "style": "IPY_MODEL_3c8b24a0cfc84afebeb0c09a6e573801",
            "value": "Creating json from Arrow format: 100%"
          }
        },
        "ae6a07596ee5418a9bd9cd6ecbf56cda": {
          "model_module": "@jupyter-widgets/controls",
          "model_name": "FloatProgressModel",
          "model_module_version": "1.5.0",
          "state": {
            "_dom_classes": [],
            "_model_module": "@jupyter-widgets/controls",
            "_model_module_version": "1.5.0",
            "_model_name": "FloatProgressModel",
            "_view_count": null,
            "_view_module": "@jupyter-widgets/controls",
            "_view_module_version": "1.5.0",
            "_view_name": "ProgressView",
            "bar_style": "success",
            "description": "",
            "description_tooltip": null,
            "layout": "IPY_MODEL_05a00f52639a4e328ecf9cd373d32a0d",
            "max": 10,
            "min": 0,
            "orientation": "horizontal",
            "style": "IPY_MODEL_0418c8fde1fb40eb9f24919e8d897129",
            "value": 10
          }
        },
        "39a18a2ecea146bd8e675b2d8c306581": {
          "model_module": "@jupyter-widgets/controls",
          "model_name": "HTMLModel",
          "model_module_version": "1.5.0",
          "state": {
            "_dom_classes": [],
            "_model_module": "@jupyter-widgets/controls",
            "_model_module_version": "1.5.0",
            "_model_name": "HTMLModel",
            "_view_count": null,
            "_view_module": "@jupyter-widgets/controls",
            "_view_module_version": "1.5.0",
            "_view_name": "HTMLView",
            "description": "",
            "description_tooltip": null,
            "layout": "IPY_MODEL_12cf0a210419440296f470b421fb96c9",
            "placeholder": "​",
            "style": "IPY_MODEL_96225c81d9104776a19f160919a92086",
            "value": " 10/10 [00:00&lt;00:00, 53.29ba/s]"
          }
        },
        "a013e705e7c84bbb816b34beacec29c4": {
          "model_module": "@jupyter-widgets/base",
          "model_name": "LayoutModel",
          "model_module_version": "1.2.0",
          "state": {
            "_model_module": "@jupyter-widgets/base",
            "_model_module_version": "1.2.0",
            "_model_name": "LayoutModel",
            "_view_count": null,
            "_view_module": "@jupyter-widgets/base",
            "_view_module_version": "1.2.0",
            "_view_name": "LayoutView",
            "align_content": null,
            "align_items": null,
            "align_self": null,
            "border": null,
            "bottom": null,
            "display": null,
            "flex": null,
            "flex_flow": null,
            "grid_area": null,
            "grid_auto_columns": null,
            "grid_auto_flow": null,
            "grid_auto_rows": null,
            "grid_column": null,
            "grid_gap": null,
            "grid_row": null,
            "grid_template_areas": null,
            "grid_template_columns": null,
            "grid_template_rows": null,
            "height": null,
            "justify_content": null,
            "justify_items": null,
            "left": null,
            "margin": null,
            "max_height": null,
            "max_width": null,
            "min_height": null,
            "min_width": null,
            "object_fit": null,
            "object_position": null,
            "order": null,
            "overflow": null,
            "overflow_x": null,
            "overflow_y": null,
            "padding": null,
            "right": null,
            "top": null,
            "visibility": null,
            "width": null
          }
        },
        "717aedf99bb84f8b9e3a76dfbd1d8c6c": {
          "model_module": "@jupyter-widgets/base",
          "model_name": "LayoutModel",
          "model_module_version": "1.2.0",
          "state": {
            "_model_module": "@jupyter-widgets/base",
            "_model_module_version": "1.2.0",
            "_model_name": "LayoutModel",
            "_view_count": null,
            "_view_module": "@jupyter-widgets/base",
            "_view_module_version": "1.2.0",
            "_view_name": "LayoutView",
            "align_content": null,
            "align_items": null,
            "align_self": null,
            "border": null,
            "bottom": null,
            "display": null,
            "flex": null,
            "flex_flow": null,
            "grid_area": null,
            "grid_auto_columns": null,
            "grid_auto_flow": null,
            "grid_auto_rows": null,
            "grid_column": null,
            "grid_gap": null,
            "grid_row": null,
            "grid_template_areas": null,
            "grid_template_columns": null,
            "grid_template_rows": null,
            "height": null,
            "justify_content": null,
            "justify_items": null,
            "left": null,
            "margin": null,
            "max_height": null,
            "max_width": null,
            "min_height": null,
            "min_width": null,
            "object_fit": null,
            "object_position": null,
            "order": null,
            "overflow": null,
            "overflow_x": null,
            "overflow_y": null,
            "padding": null,
            "right": null,
            "top": null,
            "visibility": null,
            "width": null
          }
        },
        "3c8b24a0cfc84afebeb0c09a6e573801": {
          "model_module": "@jupyter-widgets/controls",
          "model_name": "DescriptionStyleModel",
          "model_module_version": "1.5.0",
          "state": {
            "_model_module": "@jupyter-widgets/controls",
            "_model_module_version": "1.5.0",
            "_model_name": "DescriptionStyleModel",
            "_view_count": null,
            "_view_module": "@jupyter-widgets/base",
            "_view_module_version": "1.2.0",
            "_view_name": "StyleView",
            "description_width": ""
          }
        },
        "05a00f52639a4e328ecf9cd373d32a0d": {
          "model_module": "@jupyter-widgets/base",
          "model_name": "LayoutModel",
          "model_module_version": "1.2.0",
          "state": {
            "_model_module": "@jupyter-widgets/base",
            "_model_module_version": "1.2.0",
            "_model_name": "LayoutModel",
            "_view_count": null,
            "_view_module": "@jupyter-widgets/base",
            "_view_module_version": "1.2.0",
            "_view_name": "LayoutView",
            "align_content": null,
            "align_items": null,
            "align_self": null,
            "border": null,
            "bottom": null,
            "display": null,
            "flex": null,
            "flex_flow": null,
            "grid_area": null,
            "grid_auto_columns": null,
            "grid_auto_flow": null,
            "grid_auto_rows": null,
            "grid_column": null,
            "grid_gap": null,
            "grid_row": null,
            "grid_template_areas": null,
            "grid_template_columns": null,
            "grid_template_rows": null,
            "height": null,
            "justify_content": null,
            "justify_items": null,
            "left": null,
            "margin": null,
            "max_height": null,
            "max_width": null,
            "min_height": null,
            "min_width": null,
            "object_fit": null,
            "object_position": null,
            "order": null,
            "overflow": null,
            "overflow_x": null,
            "overflow_y": null,
            "padding": null,
            "right": null,
            "top": null,
            "visibility": null,
            "width": null
          }
        },
        "0418c8fde1fb40eb9f24919e8d897129": {
          "model_module": "@jupyter-widgets/controls",
          "model_name": "ProgressStyleModel",
          "model_module_version": "1.5.0",
          "state": {
            "_model_module": "@jupyter-widgets/controls",
            "_model_module_version": "1.5.0",
            "_model_name": "ProgressStyleModel",
            "_view_count": null,
            "_view_module": "@jupyter-widgets/base",
            "_view_module_version": "1.2.0",
            "_view_name": "StyleView",
            "bar_color": null,
            "description_width": ""
          }
        },
        "12cf0a210419440296f470b421fb96c9": {
          "model_module": "@jupyter-widgets/base",
          "model_name": "LayoutModel",
          "model_module_version": "1.2.0",
          "state": {
            "_model_module": "@jupyter-widgets/base",
            "_model_module_version": "1.2.0",
            "_model_name": "LayoutModel",
            "_view_count": null,
            "_view_module": "@jupyter-widgets/base",
            "_view_module_version": "1.2.0",
            "_view_name": "LayoutView",
            "align_content": null,
            "align_items": null,
            "align_self": null,
            "border": null,
            "bottom": null,
            "display": null,
            "flex": null,
            "flex_flow": null,
            "grid_area": null,
            "grid_auto_columns": null,
            "grid_auto_flow": null,
            "grid_auto_rows": null,
            "grid_column": null,
            "grid_gap": null,
            "grid_row": null,
            "grid_template_areas": null,
            "grid_template_columns": null,
            "grid_template_rows": null,
            "height": null,
            "justify_content": null,
            "justify_items": null,
            "left": null,
            "margin": null,
            "max_height": null,
            "max_width": null,
            "min_height": null,
            "min_width": null,
            "object_fit": null,
            "object_position": null,
            "order": null,
            "overflow": null,
            "overflow_x": null,
            "overflow_y": null,
            "padding": null,
            "right": null,
            "top": null,
            "visibility": null,
            "width": null
          }
        },
        "96225c81d9104776a19f160919a92086": {
          "model_module": "@jupyter-widgets/controls",
          "model_name": "DescriptionStyleModel",
          "model_module_version": "1.5.0",
          "state": {
            "_model_module": "@jupyter-widgets/controls",
            "_model_module_version": "1.5.0",
            "_model_name": "DescriptionStyleModel",
            "_view_count": null,
            "_view_module": "@jupyter-widgets/base",
            "_view_module_version": "1.2.0",
            "_view_name": "StyleView",
            "description_width": ""
          }
        },
        "ad78e4577fe0424c835e2216f8334201": {
          "model_module": "@jupyter-widgets/controls",
          "model_name": "HBoxModel",
          "model_module_version": "1.5.0",
          "state": {
            "_dom_classes": [],
            "_model_module": "@jupyter-widgets/controls",
            "_model_module_version": "1.5.0",
            "_model_name": "HBoxModel",
            "_view_count": null,
            "_view_module": "@jupyter-widgets/controls",
            "_view_module_version": "1.5.0",
            "_view_name": "HBoxView",
            "box_style": "",
            "children": [
              "IPY_MODEL_28eec7447c9743ca9f6440d8c710ee16",
              "IPY_MODEL_d496f781e63e42a7876d1d3fdf8dd08e",
              "IPY_MODEL_eeb42dc7052844efb9a11e84cbb580b7"
            ],
            "layout": "IPY_MODEL_659a5c3809db4b85bcbcaf27ad57b2e1"
          }
        },
        "28eec7447c9743ca9f6440d8c710ee16": {
          "model_module": "@jupyter-widgets/controls",
          "model_name": "HTMLModel",
          "model_module_version": "1.5.0",
          "state": {
            "_dom_classes": [],
            "_model_module": "@jupyter-widgets/controls",
            "_model_module_version": "1.5.0",
            "_model_name": "HTMLModel",
            "_view_count": null,
            "_view_module": "@jupyter-widgets/controls",
            "_view_module_version": "1.5.0",
            "_view_name": "HTMLView",
            "description": "",
            "description_tooltip": null,
            "layout": "IPY_MODEL_f1a6298862934e03ad4fec7143c432f0",
            "placeholder": "​",
            "style": "IPY_MODEL_dcf27a4c511b40a4a2cd153e5a5e8bf9",
            "value": "Creating json from Arrow format: 100%"
          }
        },
        "d496f781e63e42a7876d1d3fdf8dd08e": {
          "model_module": "@jupyter-widgets/controls",
          "model_name": "FloatProgressModel",
          "model_module_version": "1.5.0",
          "state": {
            "_dom_classes": [],
            "_model_module": "@jupyter-widgets/controls",
            "_model_module_version": "1.5.0",
            "_model_name": "FloatProgressModel",
            "_view_count": null,
            "_view_module": "@jupyter-widgets/controls",
            "_view_module_version": "1.5.0",
            "_view_name": "ProgressView",
            "bar_style": "success",
            "description": "",
            "description_tooltip": null,
            "layout": "IPY_MODEL_2ff76331241442e19cc5a9cd1ff64170",
            "max": 3,
            "min": 0,
            "orientation": "horizontal",
            "style": "IPY_MODEL_4839c18dfd2c49868ab7395deb144a06",
            "value": 3
          }
        },
        "eeb42dc7052844efb9a11e84cbb580b7": {
          "model_module": "@jupyter-widgets/controls",
          "model_name": "HTMLModel",
          "model_module_version": "1.5.0",
          "state": {
            "_dom_classes": [],
            "_model_module": "@jupyter-widgets/controls",
            "_model_module_version": "1.5.0",
            "_model_name": "HTMLModel",
            "_view_count": null,
            "_view_module": "@jupyter-widgets/controls",
            "_view_module_version": "1.5.0",
            "_view_name": "HTMLView",
            "description": "",
            "description_tooltip": null,
            "layout": "IPY_MODEL_3c61b214640e4cf3a281a4d0c9c68f31",
            "placeholder": "​",
            "style": "IPY_MODEL_23e5cdb2a455403b9502b27a52f26ba1",
            "value": " 3/3 [00:00&lt;00:00, 54.70ba/s]"
          }
        },
        "659a5c3809db4b85bcbcaf27ad57b2e1": {
          "model_module": "@jupyter-widgets/base",
          "model_name": "LayoutModel",
          "model_module_version": "1.2.0",
          "state": {
            "_model_module": "@jupyter-widgets/base",
            "_model_module_version": "1.2.0",
            "_model_name": "LayoutModel",
            "_view_count": null,
            "_view_module": "@jupyter-widgets/base",
            "_view_module_version": "1.2.0",
            "_view_name": "LayoutView",
            "align_content": null,
            "align_items": null,
            "align_self": null,
            "border": null,
            "bottom": null,
            "display": null,
            "flex": null,
            "flex_flow": null,
            "grid_area": null,
            "grid_auto_columns": null,
            "grid_auto_flow": null,
            "grid_auto_rows": null,
            "grid_column": null,
            "grid_gap": null,
            "grid_row": null,
            "grid_template_areas": null,
            "grid_template_columns": null,
            "grid_template_rows": null,
            "height": null,
            "justify_content": null,
            "justify_items": null,
            "left": null,
            "margin": null,
            "max_height": null,
            "max_width": null,
            "min_height": null,
            "min_width": null,
            "object_fit": null,
            "object_position": null,
            "order": null,
            "overflow": null,
            "overflow_x": null,
            "overflow_y": null,
            "padding": null,
            "right": null,
            "top": null,
            "visibility": null,
            "width": null
          }
        },
        "f1a6298862934e03ad4fec7143c432f0": {
          "model_module": "@jupyter-widgets/base",
          "model_name": "LayoutModel",
          "model_module_version": "1.2.0",
          "state": {
            "_model_module": "@jupyter-widgets/base",
            "_model_module_version": "1.2.0",
            "_model_name": "LayoutModel",
            "_view_count": null,
            "_view_module": "@jupyter-widgets/base",
            "_view_module_version": "1.2.0",
            "_view_name": "LayoutView",
            "align_content": null,
            "align_items": null,
            "align_self": null,
            "border": null,
            "bottom": null,
            "display": null,
            "flex": null,
            "flex_flow": null,
            "grid_area": null,
            "grid_auto_columns": null,
            "grid_auto_flow": null,
            "grid_auto_rows": null,
            "grid_column": null,
            "grid_gap": null,
            "grid_row": null,
            "grid_template_areas": null,
            "grid_template_columns": null,
            "grid_template_rows": null,
            "height": null,
            "justify_content": null,
            "justify_items": null,
            "left": null,
            "margin": null,
            "max_height": null,
            "max_width": null,
            "min_height": null,
            "min_width": null,
            "object_fit": null,
            "object_position": null,
            "order": null,
            "overflow": null,
            "overflow_x": null,
            "overflow_y": null,
            "padding": null,
            "right": null,
            "top": null,
            "visibility": null,
            "width": null
          }
        },
        "dcf27a4c511b40a4a2cd153e5a5e8bf9": {
          "model_module": "@jupyter-widgets/controls",
          "model_name": "DescriptionStyleModel",
          "model_module_version": "1.5.0",
          "state": {
            "_model_module": "@jupyter-widgets/controls",
            "_model_module_version": "1.5.0",
            "_model_name": "DescriptionStyleModel",
            "_view_count": null,
            "_view_module": "@jupyter-widgets/base",
            "_view_module_version": "1.2.0",
            "_view_name": "StyleView",
            "description_width": ""
          }
        },
        "2ff76331241442e19cc5a9cd1ff64170": {
          "model_module": "@jupyter-widgets/base",
          "model_name": "LayoutModel",
          "model_module_version": "1.2.0",
          "state": {
            "_model_module": "@jupyter-widgets/base",
            "_model_module_version": "1.2.0",
            "_model_name": "LayoutModel",
            "_view_count": null,
            "_view_module": "@jupyter-widgets/base",
            "_view_module_version": "1.2.0",
            "_view_name": "LayoutView",
            "align_content": null,
            "align_items": null,
            "align_self": null,
            "border": null,
            "bottom": null,
            "display": null,
            "flex": null,
            "flex_flow": null,
            "grid_area": null,
            "grid_auto_columns": null,
            "grid_auto_flow": null,
            "grid_auto_rows": null,
            "grid_column": null,
            "grid_gap": null,
            "grid_row": null,
            "grid_template_areas": null,
            "grid_template_columns": null,
            "grid_template_rows": null,
            "height": null,
            "justify_content": null,
            "justify_items": null,
            "left": null,
            "margin": null,
            "max_height": null,
            "max_width": null,
            "min_height": null,
            "min_width": null,
            "object_fit": null,
            "object_position": null,
            "order": null,
            "overflow": null,
            "overflow_x": null,
            "overflow_y": null,
            "padding": null,
            "right": null,
            "top": null,
            "visibility": null,
            "width": null
          }
        },
        "4839c18dfd2c49868ab7395deb144a06": {
          "model_module": "@jupyter-widgets/controls",
          "model_name": "ProgressStyleModel",
          "model_module_version": "1.5.0",
          "state": {
            "_model_module": "@jupyter-widgets/controls",
            "_model_module_version": "1.5.0",
            "_model_name": "ProgressStyleModel",
            "_view_count": null,
            "_view_module": "@jupyter-widgets/base",
            "_view_module_version": "1.2.0",
            "_view_name": "StyleView",
            "bar_color": null,
            "description_width": ""
          }
        },
        "3c61b214640e4cf3a281a4d0c9c68f31": {
          "model_module": "@jupyter-widgets/base",
          "model_name": "LayoutModel",
          "model_module_version": "1.2.0",
          "state": {
            "_model_module": "@jupyter-widgets/base",
            "_model_module_version": "1.2.0",
            "_model_name": "LayoutModel",
            "_view_count": null,
            "_view_module": "@jupyter-widgets/base",
            "_view_module_version": "1.2.0",
            "_view_name": "LayoutView",
            "align_content": null,
            "align_items": null,
            "align_self": null,
            "border": null,
            "bottom": null,
            "display": null,
            "flex": null,
            "flex_flow": null,
            "grid_area": null,
            "grid_auto_columns": null,
            "grid_auto_flow": null,
            "grid_auto_rows": null,
            "grid_column": null,
            "grid_gap": null,
            "grid_row": null,
            "grid_template_areas": null,
            "grid_template_columns": null,
            "grid_template_rows": null,
            "height": null,
            "justify_content": null,
            "justify_items": null,
            "left": null,
            "margin": null,
            "max_height": null,
            "max_width": null,
            "min_height": null,
            "min_width": null,
            "object_fit": null,
            "object_position": null,
            "order": null,
            "overflow": null,
            "overflow_x": null,
            "overflow_y": null,
            "padding": null,
            "right": null,
            "top": null,
            "visibility": null,
            "width": null
          }
        },
        "23e5cdb2a455403b9502b27a52f26ba1": {
          "model_module": "@jupyter-widgets/controls",
          "model_name": "DescriptionStyleModel",
          "model_module_version": "1.5.0",
          "state": {
            "_model_module": "@jupyter-widgets/controls",
            "_model_module_version": "1.5.0",
            "_model_name": "DescriptionStyleModel",
            "_view_count": null,
            "_view_module": "@jupyter-widgets/base",
            "_view_module_version": "1.2.0",
            "_view_name": "StyleView",
            "description_width": ""
          }
        },
        "a56f4c846a944eabb9bbb684155be8fa": {
          "model_module": "@jupyter-widgets/controls",
          "model_name": "HBoxModel",
          "model_module_version": "1.5.0",
          "state": {
            "_dom_classes": [],
            "_model_module": "@jupyter-widgets/controls",
            "_model_module_version": "1.5.0",
            "_model_name": "HBoxModel",
            "_view_count": null,
            "_view_module": "@jupyter-widgets/controls",
            "_view_module_version": "1.5.0",
            "_view_name": "HBoxView",
            "box_style": "",
            "children": [
              "IPY_MODEL_9da954b0668b4ba59eb72392591a9fef",
              "IPY_MODEL_a4e60b8b4e8c4988b80afe99b2b843ff",
              "IPY_MODEL_3292ee6796d24b49943f17cbc99a75e2"
            ],
            "layout": "IPY_MODEL_19293961e39944a5bcc689a7632e7a4b"
          }
        },
        "9da954b0668b4ba59eb72392591a9fef": {
          "model_module": "@jupyter-widgets/controls",
          "model_name": "HTMLModel",
          "model_module_version": "1.5.0",
          "state": {
            "_dom_classes": [],
            "_model_module": "@jupyter-widgets/controls",
            "_model_module_version": "1.5.0",
            "_model_name": "HTMLModel",
            "_view_count": null,
            "_view_module": "@jupyter-widgets/controls",
            "_view_module_version": "1.5.0",
            "_view_name": "HTMLView",
            "description": "",
            "description_tooltip": null,
            "layout": "IPY_MODEL_bf973062a2c2472f949bba90fb7830bf",
            "placeholder": "​",
            "style": "IPY_MODEL_52470ab3a410437ea24075efb79635d8",
            "value": "Generating train split: "
          }
        },
        "a4e60b8b4e8c4988b80afe99b2b843ff": {
          "model_module": "@jupyter-widgets/controls",
          "model_name": "FloatProgressModel",
          "model_module_version": "1.5.0",
          "state": {
            "_dom_classes": [],
            "_model_module": "@jupyter-widgets/controls",
            "_model_module_version": "1.5.0",
            "_model_name": "FloatProgressModel",
            "_view_count": null,
            "_view_module": "@jupyter-widgets/controls",
            "_view_module_version": "1.5.0",
            "_view_name": "ProgressView",
            "bar_style": "success",
            "description": "",
            "description_tooltip": null,
            "layout": "IPY_MODEL_89768f2dd75f403f84d3b32d0b32f751",
            "max": 1,
            "min": 0,
            "orientation": "horizontal",
            "style": "IPY_MODEL_971fb98c3f494010a838bd2718ca1fbe",
            "value": 1
          }
        },
        "3292ee6796d24b49943f17cbc99a75e2": {
          "model_module": "@jupyter-widgets/controls",
          "model_name": "HTMLModel",
          "model_module_version": "1.5.0",
          "state": {
            "_dom_classes": [],
            "_model_module": "@jupyter-widgets/controls",
            "_model_module_version": "1.5.0",
            "_model_name": "HTMLModel",
            "_view_count": null,
            "_view_module": "@jupyter-widgets/controls",
            "_view_module_version": "1.5.0",
            "_view_name": "HTMLView",
            "description": "",
            "description_tooltip": null,
            "layout": "IPY_MODEL_29fcd8950ef1455dabcf960a309e50a2",
            "placeholder": "​",
            "style": "IPY_MODEL_656c41a5e0814fb2be7e775b60d7664d",
            "value": " 2500/0 [00:00&lt;00:00, 93298.81 examples/s]"
          }
        },
        "19293961e39944a5bcc689a7632e7a4b": {
          "model_module": "@jupyter-widgets/base",
          "model_name": "LayoutModel",
          "model_module_version": "1.2.0",
          "state": {
            "_model_module": "@jupyter-widgets/base",
            "_model_module_version": "1.2.0",
            "_model_name": "LayoutModel",
            "_view_count": null,
            "_view_module": "@jupyter-widgets/base",
            "_view_module_version": "1.2.0",
            "_view_name": "LayoutView",
            "align_content": null,
            "align_items": null,
            "align_self": null,
            "border": null,
            "bottom": null,
            "display": null,
            "flex": null,
            "flex_flow": null,
            "grid_area": null,
            "grid_auto_columns": null,
            "grid_auto_flow": null,
            "grid_auto_rows": null,
            "grid_column": null,
            "grid_gap": null,
            "grid_row": null,
            "grid_template_areas": null,
            "grid_template_columns": null,
            "grid_template_rows": null,
            "height": null,
            "justify_content": null,
            "justify_items": null,
            "left": null,
            "margin": null,
            "max_height": null,
            "max_width": null,
            "min_height": null,
            "min_width": null,
            "object_fit": null,
            "object_position": null,
            "order": null,
            "overflow": null,
            "overflow_x": null,
            "overflow_y": null,
            "padding": null,
            "right": null,
            "top": null,
            "visibility": null,
            "width": null
          }
        },
        "bf973062a2c2472f949bba90fb7830bf": {
          "model_module": "@jupyter-widgets/base",
          "model_name": "LayoutModel",
          "model_module_version": "1.2.0",
          "state": {
            "_model_module": "@jupyter-widgets/base",
            "_model_module_version": "1.2.0",
            "_model_name": "LayoutModel",
            "_view_count": null,
            "_view_module": "@jupyter-widgets/base",
            "_view_module_version": "1.2.0",
            "_view_name": "LayoutView",
            "align_content": null,
            "align_items": null,
            "align_self": null,
            "border": null,
            "bottom": null,
            "display": null,
            "flex": null,
            "flex_flow": null,
            "grid_area": null,
            "grid_auto_columns": null,
            "grid_auto_flow": null,
            "grid_auto_rows": null,
            "grid_column": null,
            "grid_gap": null,
            "grid_row": null,
            "grid_template_areas": null,
            "grid_template_columns": null,
            "grid_template_rows": null,
            "height": null,
            "justify_content": null,
            "justify_items": null,
            "left": null,
            "margin": null,
            "max_height": null,
            "max_width": null,
            "min_height": null,
            "min_width": null,
            "object_fit": null,
            "object_position": null,
            "order": null,
            "overflow": null,
            "overflow_x": null,
            "overflow_y": null,
            "padding": null,
            "right": null,
            "top": null,
            "visibility": null,
            "width": null
          }
        },
        "52470ab3a410437ea24075efb79635d8": {
          "model_module": "@jupyter-widgets/controls",
          "model_name": "DescriptionStyleModel",
          "model_module_version": "1.5.0",
          "state": {
            "_model_module": "@jupyter-widgets/controls",
            "_model_module_version": "1.5.0",
            "_model_name": "DescriptionStyleModel",
            "_view_count": null,
            "_view_module": "@jupyter-widgets/base",
            "_view_module_version": "1.2.0",
            "_view_name": "StyleView",
            "description_width": ""
          }
        },
        "89768f2dd75f403f84d3b32d0b32f751": {
          "model_module": "@jupyter-widgets/base",
          "model_name": "LayoutModel",
          "model_module_version": "1.2.0",
          "state": {
            "_model_module": "@jupyter-widgets/base",
            "_model_module_version": "1.2.0",
            "_model_name": "LayoutModel",
            "_view_count": null,
            "_view_module": "@jupyter-widgets/base",
            "_view_module_version": "1.2.0",
            "_view_name": "LayoutView",
            "align_content": null,
            "align_items": null,
            "align_self": null,
            "border": null,
            "bottom": null,
            "display": null,
            "flex": null,
            "flex_flow": null,
            "grid_area": null,
            "grid_auto_columns": null,
            "grid_auto_flow": null,
            "grid_auto_rows": null,
            "grid_column": null,
            "grid_gap": null,
            "grid_row": null,
            "grid_template_areas": null,
            "grid_template_columns": null,
            "grid_template_rows": null,
            "height": null,
            "justify_content": null,
            "justify_items": null,
            "left": null,
            "margin": null,
            "max_height": null,
            "max_width": null,
            "min_height": null,
            "min_width": null,
            "object_fit": null,
            "object_position": null,
            "order": null,
            "overflow": null,
            "overflow_x": null,
            "overflow_y": null,
            "padding": null,
            "right": null,
            "top": null,
            "visibility": null,
            "width": "20px"
          }
        },
        "971fb98c3f494010a838bd2718ca1fbe": {
          "model_module": "@jupyter-widgets/controls",
          "model_name": "ProgressStyleModel",
          "model_module_version": "1.5.0",
          "state": {
            "_model_module": "@jupyter-widgets/controls",
            "_model_module_version": "1.5.0",
            "_model_name": "ProgressStyleModel",
            "_view_count": null,
            "_view_module": "@jupyter-widgets/base",
            "_view_module_version": "1.2.0",
            "_view_name": "StyleView",
            "bar_color": null,
            "description_width": ""
          }
        },
        "29fcd8950ef1455dabcf960a309e50a2": {
          "model_module": "@jupyter-widgets/base",
          "model_name": "LayoutModel",
          "model_module_version": "1.2.0",
          "state": {
            "_model_module": "@jupyter-widgets/base",
            "_model_module_version": "1.2.0",
            "_model_name": "LayoutModel",
            "_view_count": null,
            "_view_module": "@jupyter-widgets/base",
            "_view_module_version": "1.2.0",
            "_view_name": "LayoutView",
            "align_content": null,
            "align_items": null,
            "align_self": null,
            "border": null,
            "bottom": null,
            "display": null,
            "flex": null,
            "flex_flow": null,
            "grid_area": null,
            "grid_auto_columns": null,
            "grid_auto_flow": null,
            "grid_auto_rows": null,
            "grid_column": null,
            "grid_gap": null,
            "grid_row": null,
            "grid_template_areas": null,
            "grid_template_columns": null,
            "grid_template_rows": null,
            "height": null,
            "justify_content": null,
            "justify_items": null,
            "left": null,
            "margin": null,
            "max_height": null,
            "max_width": null,
            "min_height": null,
            "min_width": null,
            "object_fit": null,
            "object_position": null,
            "order": null,
            "overflow": null,
            "overflow_x": null,
            "overflow_y": null,
            "padding": null,
            "right": null,
            "top": null,
            "visibility": null,
            "width": null
          }
        },
        "656c41a5e0814fb2be7e775b60d7664d": {
          "model_module": "@jupyter-widgets/controls",
          "model_name": "DescriptionStyleModel",
          "model_module_version": "1.5.0",
          "state": {
            "_model_module": "@jupyter-widgets/controls",
            "_model_module_version": "1.5.0",
            "_model_name": "DescriptionStyleModel",
            "_view_count": null,
            "_view_module": "@jupyter-widgets/base",
            "_view_module_version": "1.2.0",
            "_view_name": "StyleView",
            "description_width": ""
          }
        },
        "ccfbbd08cb824df7b5ef48615ff79de5": {
          "model_module": "@jupyter-widgets/controls",
          "model_name": "HBoxModel",
          "model_module_version": "1.5.0",
          "state": {
            "_dom_classes": [],
            "_model_module": "@jupyter-widgets/controls",
            "_model_module_version": "1.5.0",
            "_model_name": "HBoxModel",
            "_view_count": null,
            "_view_module": "@jupyter-widgets/controls",
            "_view_module_version": "1.5.0",
            "_view_name": "HBoxView",
            "box_style": "",
            "children": [
              "IPY_MODEL_0df6bf3455184700b7cb2fb443a7eeb5",
              "IPY_MODEL_b47e0b17074e44349e02a18b64b9ab61",
              "IPY_MODEL_1ee8a3bf9445450392e94d9b17ac4c89"
            ],
            "layout": "IPY_MODEL_fb7b05f9d11e470f9c6b9166a3255dc5"
          }
        },
        "0df6bf3455184700b7cb2fb443a7eeb5": {
          "model_module": "@jupyter-widgets/controls",
          "model_name": "HTMLModel",
          "model_module_version": "1.5.0",
          "state": {
            "_dom_classes": [],
            "_model_module": "@jupyter-widgets/controls",
            "_model_module_version": "1.5.0",
            "_model_name": "HTMLModel",
            "_view_count": null,
            "_view_module": "@jupyter-widgets/controls",
            "_view_module_version": "1.5.0",
            "_view_name": "HTMLView",
            "description": "",
            "description_tooltip": null,
            "layout": "IPY_MODEL_63d28b9e9c224e3a80c377ab7f8b7dd1",
            "placeholder": "​",
            "style": "IPY_MODEL_73099f2b93fe4ef29d8927dcc0eb147d",
            "value": "adapter_config.json: 100%"
          }
        },
        "b47e0b17074e44349e02a18b64b9ab61": {
          "model_module": "@jupyter-widgets/controls",
          "model_name": "FloatProgressModel",
          "model_module_version": "1.5.0",
          "state": {
            "_dom_classes": [],
            "_model_module": "@jupyter-widgets/controls",
            "_model_module_version": "1.5.0",
            "_model_name": "FloatProgressModel",
            "_view_count": null,
            "_view_module": "@jupyter-widgets/controls",
            "_view_module_version": "1.5.0",
            "_view_name": "ProgressView",
            "bar_style": "success",
            "description": "",
            "description_tooltip": null,
            "layout": "IPY_MODEL_71a65adb8941409f80bbfb62d21393a7",
            "max": 710,
            "min": 0,
            "orientation": "horizontal",
            "style": "IPY_MODEL_81b54c312be846cc88d72230ace0c3e2",
            "value": 710
          }
        },
        "1ee8a3bf9445450392e94d9b17ac4c89": {
          "model_module": "@jupyter-widgets/controls",
          "model_name": "HTMLModel",
          "model_module_version": "1.5.0",
          "state": {
            "_dom_classes": [],
            "_model_module": "@jupyter-widgets/controls",
            "_model_module_version": "1.5.0",
            "_model_name": "HTMLModel",
            "_view_count": null,
            "_view_module": "@jupyter-widgets/controls",
            "_view_module_version": "1.5.0",
            "_view_name": "HTMLView",
            "description": "",
            "description_tooltip": null,
            "layout": "IPY_MODEL_80dd6f07b1b247aba2206b8505a94e12",
            "placeholder": "​",
            "style": "IPY_MODEL_45169f1e649a42c6881c0ff4526d22fc",
            "value": " 710/710 [00:00&lt;00:00, 53.3kB/s]"
          }
        },
        "fb7b05f9d11e470f9c6b9166a3255dc5": {
          "model_module": "@jupyter-widgets/base",
          "model_name": "LayoutModel",
          "model_module_version": "1.2.0",
          "state": {
            "_model_module": "@jupyter-widgets/base",
            "_model_module_version": "1.2.0",
            "_model_name": "LayoutModel",
            "_view_count": null,
            "_view_module": "@jupyter-widgets/base",
            "_view_module_version": "1.2.0",
            "_view_name": "LayoutView",
            "align_content": null,
            "align_items": null,
            "align_self": null,
            "border": null,
            "bottom": null,
            "display": null,
            "flex": null,
            "flex_flow": null,
            "grid_area": null,
            "grid_auto_columns": null,
            "grid_auto_flow": null,
            "grid_auto_rows": null,
            "grid_column": null,
            "grid_gap": null,
            "grid_row": null,
            "grid_template_areas": null,
            "grid_template_columns": null,
            "grid_template_rows": null,
            "height": null,
            "justify_content": null,
            "justify_items": null,
            "left": null,
            "margin": null,
            "max_height": null,
            "max_width": null,
            "min_height": null,
            "min_width": null,
            "object_fit": null,
            "object_position": null,
            "order": null,
            "overflow": null,
            "overflow_x": null,
            "overflow_y": null,
            "padding": null,
            "right": null,
            "top": null,
            "visibility": null,
            "width": null
          }
        },
        "63d28b9e9c224e3a80c377ab7f8b7dd1": {
          "model_module": "@jupyter-widgets/base",
          "model_name": "LayoutModel",
          "model_module_version": "1.2.0",
          "state": {
            "_model_module": "@jupyter-widgets/base",
            "_model_module_version": "1.2.0",
            "_model_name": "LayoutModel",
            "_view_count": null,
            "_view_module": "@jupyter-widgets/base",
            "_view_module_version": "1.2.0",
            "_view_name": "LayoutView",
            "align_content": null,
            "align_items": null,
            "align_self": null,
            "border": null,
            "bottom": null,
            "display": null,
            "flex": null,
            "flex_flow": null,
            "grid_area": null,
            "grid_auto_columns": null,
            "grid_auto_flow": null,
            "grid_auto_rows": null,
            "grid_column": null,
            "grid_gap": null,
            "grid_row": null,
            "grid_template_areas": null,
            "grid_template_columns": null,
            "grid_template_rows": null,
            "height": null,
            "justify_content": null,
            "justify_items": null,
            "left": null,
            "margin": null,
            "max_height": null,
            "max_width": null,
            "min_height": null,
            "min_width": null,
            "object_fit": null,
            "object_position": null,
            "order": null,
            "overflow": null,
            "overflow_x": null,
            "overflow_y": null,
            "padding": null,
            "right": null,
            "top": null,
            "visibility": null,
            "width": null
          }
        },
        "73099f2b93fe4ef29d8927dcc0eb147d": {
          "model_module": "@jupyter-widgets/controls",
          "model_name": "DescriptionStyleModel",
          "model_module_version": "1.5.0",
          "state": {
            "_model_module": "@jupyter-widgets/controls",
            "_model_module_version": "1.5.0",
            "_model_name": "DescriptionStyleModel",
            "_view_count": null,
            "_view_module": "@jupyter-widgets/base",
            "_view_module_version": "1.2.0",
            "_view_name": "StyleView",
            "description_width": ""
          }
        },
        "71a65adb8941409f80bbfb62d21393a7": {
          "model_module": "@jupyter-widgets/base",
          "model_name": "LayoutModel",
          "model_module_version": "1.2.0",
          "state": {
            "_model_module": "@jupyter-widgets/base",
            "_model_module_version": "1.2.0",
            "_model_name": "LayoutModel",
            "_view_count": null,
            "_view_module": "@jupyter-widgets/base",
            "_view_module_version": "1.2.0",
            "_view_name": "LayoutView",
            "align_content": null,
            "align_items": null,
            "align_self": null,
            "border": null,
            "bottom": null,
            "display": null,
            "flex": null,
            "flex_flow": null,
            "grid_area": null,
            "grid_auto_columns": null,
            "grid_auto_flow": null,
            "grid_auto_rows": null,
            "grid_column": null,
            "grid_gap": null,
            "grid_row": null,
            "grid_template_areas": null,
            "grid_template_columns": null,
            "grid_template_rows": null,
            "height": null,
            "justify_content": null,
            "justify_items": null,
            "left": null,
            "margin": null,
            "max_height": null,
            "max_width": null,
            "min_height": null,
            "min_width": null,
            "object_fit": null,
            "object_position": null,
            "order": null,
            "overflow": null,
            "overflow_x": null,
            "overflow_y": null,
            "padding": null,
            "right": null,
            "top": null,
            "visibility": null,
            "width": null
          }
        },
        "81b54c312be846cc88d72230ace0c3e2": {
          "model_module": "@jupyter-widgets/controls",
          "model_name": "ProgressStyleModel",
          "model_module_version": "1.5.0",
          "state": {
            "_model_module": "@jupyter-widgets/controls",
            "_model_module_version": "1.5.0",
            "_model_name": "ProgressStyleModel",
            "_view_count": null,
            "_view_module": "@jupyter-widgets/base",
            "_view_module_version": "1.2.0",
            "_view_name": "StyleView",
            "bar_color": null,
            "description_width": ""
          }
        },
        "80dd6f07b1b247aba2206b8505a94e12": {
          "model_module": "@jupyter-widgets/base",
          "model_name": "LayoutModel",
          "model_module_version": "1.2.0",
          "state": {
            "_model_module": "@jupyter-widgets/base",
            "_model_module_version": "1.2.0",
            "_model_name": "LayoutModel",
            "_view_count": null,
            "_view_module": "@jupyter-widgets/base",
            "_view_module_version": "1.2.0",
            "_view_name": "LayoutView",
            "align_content": null,
            "align_items": null,
            "align_self": null,
            "border": null,
            "bottom": null,
            "display": null,
            "flex": null,
            "flex_flow": null,
            "grid_area": null,
            "grid_auto_columns": null,
            "grid_auto_flow": null,
            "grid_auto_rows": null,
            "grid_column": null,
            "grid_gap": null,
            "grid_row": null,
            "grid_template_areas": null,
            "grid_template_columns": null,
            "grid_template_rows": null,
            "height": null,
            "justify_content": null,
            "justify_items": null,
            "left": null,
            "margin": null,
            "max_height": null,
            "max_width": null,
            "min_height": null,
            "min_width": null,
            "object_fit": null,
            "object_position": null,
            "order": null,
            "overflow": null,
            "overflow_x": null,
            "overflow_y": null,
            "padding": null,
            "right": null,
            "top": null,
            "visibility": null,
            "width": null
          }
        },
        "45169f1e649a42c6881c0ff4526d22fc": {
          "model_module": "@jupyter-widgets/controls",
          "model_name": "DescriptionStyleModel",
          "model_module_version": "1.5.0",
          "state": {
            "_model_module": "@jupyter-widgets/controls",
            "_model_module_version": "1.5.0",
            "_model_name": "DescriptionStyleModel",
            "_view_count": null,
            "_view_module": "@jupyter-widgets/base",
            "_view_module_version": "1.2.0",
            "_view_name": "StyleView",
            "description_width": ""
          }
        },
        "88821a94b5e3499ea2065fcac54c6fe2": {
          "model_module": "@jupyter-widgets/controls",
          "model_name": "HBoxModel",
          "model_module_version": "1.5.0",
          "state": {
            "_dom_classes": [],
            "_model_module": "@jupyter-widgets/controls",
            "_model_module_version": "1.5.0",
            "_model_name": "HBoxModel",
            "_view_count": null,
            "_view_module": "@jupyter-widgets/controls",
            "_view_module_version": "1.5.0",
            "_view_name": "HBoxView",
            "box_style": "",
            "children": [
              "IPY_MODEL_1eaa1282ea52468c80d38c53ed73a047",
              "IPY_MODEL_2fe3ab4944fd4c28a0c5a9f5b721af59",
              "IPY_MODEL_57d42beade1e4908b03e1b8f388a1ca4"
            ],
            "layout": "IPY_MODEL_1a916d3728cb4b1490ce98e2ff41d003"
          }
        },
        "1eaa1282ea52468c80d38c53ed73a047": {
          "model_module": "@jupyter-widgets/controls",
          "model_name": "HTMLModel",
          "model_module_version": "1.5.0",
          "state": {
            "_dom_classes": [],
            "_model_module": "@jupyter-widgets/controls",
            "_model_module_version": "1.5.0",
            "_model_name": "HTMLModel",
            "_view_count": null,
            "_view_module": "@jupyter-widgets/controls",
            "_view_module_version": "1.5.0",
            "_view_name": "HTMLView",
            "description": "",
            "description_tooltip": null,
            "layout": "IPY_MODEL_ddccb83ee6b349c38a44b7e14bf338da",
            "placeholder": "​",
            "style": "IPY_MODEL_0199579d56c0435eb3bf1248786decc0",
            "value": "config.json: 100%"
          }
        },
        "2fe3ab4944fd4c28a0c5a9f5b721af59": {
          "model_module": "@jupyter-widgets/controls",
          "model_name": "FloatProgressModel",
          "model_module_version": "1.5.0",
          "state": {
            "_dom_classes": [],
            "_model_module": "@jupyter-widgets/controls",
            "_model_module_version": "1.5.0",
            "_model_name": "FloatProgressModel",
            "_view_count": null,
            "_view_module": "@jupyter-widgets/controls",
            "_view_module_version": "1.5.0",
            "_view_name": "ProgressView",
            "bar_style": "success",
            "description": "",
            "description_tooltip": null,
            "layout": "IPY_MODEL_8a85c168891f43ba9733f1025336f215",
            "max": 571,
            "min": 0,
            "orientation": "horizontal",
            "style": "IPY_MODEL_fafb683b30ef4796a80aacbb8d1dfa11",
            "value": 571
          }
        },
        "57d42beade1e4908b03e1b8f388a1ca4": {
          "model_module": "@jupyter-widgets/controls",
          "model_name": "HTMLModel",
          "model_module_version": "1.5.0",
          "state": {
            "_dom_classes": [],
            "_model_module": "@jupyter-widgets/controls",
            "_model_module_version": "1.5.0",
            "_model_name": "HTMLModel",
            "_view_count": null,
            "_view_module": "@jupyter-widgets/controls",
            "_view_module_version": "1.5.0",
            "_view_name": "HTMLView",
            "description": "",
            "description_tooltip": null,
            "layout": "IPY_MODEL_55b32d58a781408cabc3ee413438525d",
            "placeholder": "​",
            "style": "IPY_MODEL_fe3a68fca6424ad8a0f3a9ad169ebcd7",
            "value": " 571/571 [00:00&lt;00:00, 48.6kB/s]"
          }
        },
        "1a916d3728cb4b1490ce98e2ff41d003": {
          "model_module": "@jupyter-widgets/base",
          "model_name": "LayoutModel",
          "model_module_version": "1.2.0",
          "state": {
            "_model_module": "@jupyter-widgets/base",
            "_model_module_version": "1.2.0",
            "_model_name": "LayoutModel",
            "_view_count": null,
            "_view_module": "@jupyter-widgets/base",
            "_view_module_version": "1.2.0",
            "_view_name": "LayoutView",
            "align_content": null,
            "align_items": null,
            "align_self": null,
            "border": null,
            "bottom": null,
            "display": null,
            "flex": null,
            "flex_flow": null,
            "grid_area": null,
            "grid_auto_columns": null,
            "grid_auto_flow": null,
            "grid_auto_rows": null,
            "grid_column": null,
            "grid_gap": null,
            "grid_row": null,
            "grid_template_areas": null,
            "grid_template_columns": null,
            "grid_template_rows": null,
            "height": null,
            "justify_content": null,
            "justify_items": null,
            "left": null,
            "margin": null,
            "max_height": null,
            "max_width": null,
            "min_height": null,
            "min_width": null,
            "object_fit": null,
            "object_position": null,
            "order": null,
            "overflow": null,
            "overflow_x": null,
            "overflow_y": null,
            "padding": null,
            "right": null,
            "top": null,
            "visibility": null,
            "width": null
          }
        },
        "ddccb83ee6b349c38a44b7e14bf338da": {
          "model_module": "@jupyter-widgets/base",
          "model_name": "LayoutModel",
          "model_module_version": "1.2.0",
          "state": {
            "_model_module": "@jupyter-widgets/base",
            "_model_module_version": "1.2.0",
            "_model_name": "LayoutModel",
            "_view_count": null,
            "_view_module": "@jupyter-widgets/base",
            "_view_module_version": "1.2.0",
            "_view_name": "LayoutView",
            "align_content": null,
            "align_items": null,
            "align_self": null,
            "border": null,
            "bottom": null,
            "display": null,
            "flex": null,
            "flex_flow": null,
            "grid_area": null,
            "grid_auto_columns": null,
            "grid_auto_flow": null,
            "grid_auto_rows": null,
            "grid_column": null,
            "grid_gap": null,
            "grid_row": null,
            "grid_template_areas": null,
            "grid_template_columns": null,
            "grid_template_rows": null,
            "height": null,
            "justify_content": null,
            "justify_items": null,
            "left": null,
            "margin": null,
            "max_height": null,
            "max_width": null,
            "min_height": null,
            "min_width": null,
            "object_fit": null,
            "object_position": null,
            "order": null,
            "overflow": null,
            "overflow_x": null,
            "overflow_y": null,
            "padding": null,
            "right": null,
            "top": null,
            "visibility": null,
            "width": null
          }
        },
        "0199579d56c0435eb3bf1248786decc0": {
          "model_module": "@jupyter-widgets/controls",
          "model_name": "DescriptionStyleModel",
          "model_module_version": "1.5.0",
          "state": {
            "_model_module": "@jupyter-widgets/controls",
            "_model_module_version": "1.5.0",
            "_model_name": "DescriptionStyleModel",
            "_view_count": null,
            "_view_module": "@jupyter-widgets/base",
            "_view_module_version": "1.2.0",
            "_view_name": "StyleView",
            "description_width": ""
          }
        },
        "8a85c168891f43ba9733f1025336f215": {
          "model_module": "@jupyter-widgets/base",
          "model_name": "LayoutModel",
          "model_module_version": "1.2.0",
          "state": {
            "_model_module": "@jupyter-widgets/base",
            "_model_module_version": "1.2.0",
            "_model_name": "LayoutModel",
            "_view_count": null,
            "_view_module": "@jupyter-widgets/base",
            "_view_module_version": "1.2.0",
            "_view_name": "LayoutView",
            "align_content": null,
            "align_items": null,
            "align_self": null,
            "border": null,
            "bottom": null,
            "display": null,
            "flex": null,
            "flex_flow": null,
            "grid_area": null,
            "grid_auto_columns": null,
            "grid_auto_flow": null,
            "grid_auto_rows": null,
            "grid_column": null,
            "grid_gap": null,
            "grid_row": null,
            "grid_template_areas": null,
            "grid_template_columns": null,
            "grid_template_rows": null,
            "height": null,
            "justify_content": null,
            "justify_items": null,
            "left": null,
            "margin": null,
            "max_height": null,
            "max_width": null,
            "min_height": null,
            "min_width": null,
            "object_fit": null,
            "object_position": null,
            "order": null,
            "overflow": null,
            "overflow_x": null,
            "overflow_y": null,
            "padding": null,
            "right": null,
            "top": null,
            "visibility": null,
            "width": null
          }
        },
        "fafb683b30ef4796a80aacbb8d1dfa11": {
          "model_module": "@jupyter-widgets/controls",
          "model_name": "ProgressStyleModel",
          "model_module_version": "1.5.0",
          "state": {
            "_model_module": "@jupyter-widgets/controls",
            "_model_module_version": "1.5.0",
            "_model_name": "ProgressStyleModel",
            "_view_count": null,
            "_view_module": "@jupyter-widgets/base",
            "_view_module_version": "1.2.0",
            "_view_name": "StyleView",
            "bar_color": null,
            "description_width": ""
          }
        },
        "55b32d58a781408cabc3ee413438525d": {
          "model_module": "@jupyter-widgets/base",
          "model_name": "LayoutModel",
          "model_module_version": "1.2.0",
          "state": {
            "_model_module": "@jupyter-widgets/base",
            "_model_module_version": "1.2.0",
            "_model_name": "LayoutModel",
            "_view_count": null,
            "_view_module": "@jupyter-widgets/base",
            "_view_module_version": "1.2.0",
            "_view_name": "LayoutView",
            "align_content": null,
            "align_items": null,
            "align_self": null,
            "border": null,
            "bottom": null,
            "display": null,
            "flex": null,
            "flex_flow": null,
            "grid_area": null,
            "grid_auto_columns": null,
            "grid_auto_flow": null,
            "grid_auto_rows": null,
            "grid_column": null,
            "grid_gap": null,
            "grid_row": null,
            "grid_template_areas": null,
            "grid_template_columns": null,
            "grid_template_rows": null,
            "height": null,
            "justify_content": null,
            "justify_items": null,
            "left": null,
            "margin": null,
            "max_height": null,
            "max_width": null,
            "min_height": null,
            "min_width": null,
            "object_fit": null,
            "object_position": null,
            "order": null,
            "overflow": null,
            "overflow_x": null,
            "overflow_y": null,
            "padding": null,
            "right": null,
            "top": null,
            "visibility": null,
            "width": null
          }
        },
        "fe3a68fca6424ad8a0f3a9ad169ebcd7": {
          "model_module": "@jupyter-widgets/controls",
          "model_name": "DescriptionStyleModel",
          "model_module_version": "1.5.0",
          "state": {
            "_model_module": "@jupyter-widgets/controls",
            "_model_module_version": "1.5.0",
            "_model_name": "DescriptionStyleModel",
            "_view_count": null,
            "_view_module": "@jupyter-widgets/base",
            "_view_module_version": "1.2.0",
            "_view_name": "StyleView",
            "description_width": ""
          }
        },
        "8529799dd7ee4ad8ac30655883043c65": {
          "model_module": "@jupyter-widgets/controls",
          "model_name": "HBoxModel",
          "model_module_version": "1.5.0",
          "state": {
            "_dom_classes": [],
            "_model_module": "@jupyter-widgets/controls",
            "_model_module_version": "1.5.0",
            "_model_name": "HBoxModel",
            "_view_count": null,
            "_view_module": "@jupyter-widgets/controls",
            "_view_module_version": "1.5.0",
            "_view_name": "HBoxView",
            "box_style": "",
            "children": [
              "IPY_MODEL_dbdea121975a47f8a6a7d4df850e79d8",
              "IPY_MODEL_7a1519f767fa4a5889d64076f2ea1fdc",
              "IPY_MODEL_32cf0048bee04319a52c126350aeefa2"
            ],
            "layout": "IPY_MODEL_bf89e858e8a945118b0c940bc0e1110c"
          }
        },
        "dbdea121975a47f8a6a7d4df850e79d8": {
          "model_module": "@jupyter-widgets/controls",
          "model_name": "HTMLModel",
          "model_module_version": "1.5.0",
          "state": {
            "_dom_classes": [],
            "_model_module": "@jupyter-widgets/controls",
            "_model_module_version": "1.5.0",
            "_model_name": "HTMLModel",
            "_view_count": null,
            "_view_module": "@jupyter-widgets/controls",
            "_view_module_version": "1.5.0",
            "_view_name": "HTMLView",
            "description": "",
            "description_tooltip": null,
            "layout": "IPY_MODEL_b57da7bf26d0484f846d3c3ca7e74474",
            "placeholder": "​",
            "style": "IPY_MODEL_6c44f834c9bd41a4b827d141f5e64d79",
            "value": "model.safetensors.index.json: 100%"
          }
        },
        "7a1519f767fa4a5889d64076f2ea1fdc": {
          "model_module": "@jupyter-widgets/controls",
          "model_name": "FloatProgressModel",
          "model_module_version": "1.5.0",
          "state": {
            "_dom_classes": [],
            "_model_module": "@jupyter-widgets/controls",
            "_model_module_version": "1.5.0",
            "_model_name": "FloatProgressModel",
            "_view_count": null,
            "_view_module": "@jupyter-widgets/controls",
            "_view_module_version": "1.5.0",
            "_view_name": "ProgressView",
            "bar_style": "success",
            "description": "",
            "description_tooltip": null,
            "layout": "IPY_MODEL_56d6cac197884a1f8d2965ee59dffd0b",
            "max": 25125,
            "min": 0,
            "orientation": "horizontal",
            "style": "IPY_MODEL_ffdf726b40614fef943bdb82e95a1595",
            "value": 25125
          }
        },
        "32cf0048bee04319a52c126350aeefa2": {
          "model_module": "@jupyter-widgets/controls",
          "model_name": "HTMLModel",
          "model_module_version": "1.5.0",
          "state": {
            "_dom_classes": [],
            "_model_module": "@jupyter-widgets/controls",
            "_model_module_version": "1.5.0",
            "_model_name": "HTMLModel",
            "_view_count": null,
            "_view_module": "@jupyter-widgets/controls",
            "_view_module_version": "1.5.0",
            "_view_name": "HTMLView",
            "description": "",
            "description_tooltip": null,
            "layout": "IPY_MODEL_a19907631d394edbb0da79077353a379",
            "placeholder": "​",
            "style": "IPY_MODEL_611abb57959b475986b3b1b25ace57db",
            "value": " 25.1k/25.1k [00:00&lt;00:00, 1.80MB/s]"
          }
        },
        "bf89e858e8a945118b0c940bc0e1110c": {
          "model_module": "@jupyter-widgets/base",
          "model_name": "LayoutModel",
          "model_module_version": "1.2.0",
          "state": {
            "_model_module": "@jupyter-widgets/base",
            "_model_module_version": "1.2.0",
            "_model_name": "LayoutModel",
            "_view_count": null,
            "_view_module": "@jupyter-widgets/base",
            "_view_module_version": "1.2.0",
            "_view_name": "LayoutView",
            "align_content": null,
            "align_items": null,
            "align_self": null,
            "border": null,
            "bottom": null,
            "display": null,
            "flex": null,
            "flex_flow": null,
            "grid_area": null,
            "grid_auto_columns": null,
            "grid_auto_flow": null,
            "grid_auto_rows": null,
            "grid_column": null,
            "grid_gap": null,
            "grid_row": null,
            "grid_template_areas": null,
            "grid_template_columns": null,
            "grid_template_rows": null,
            "height": null,
            "justify_content": null,
            "justify_items": null,
            "left": null,
            "margin": null,
            "max_height": null,
            "max_width": null,
            "min_height": null,
            "min_width": null,
            "object_fit": null,
            "object_position": null,
            "order": null,
            "overflow": null,
            "overflow_x": null,
            "overflow_y": null,
            "padding": null,
            "right": null,
            "top": null,
            "visibility": null,
            "width": null
          }
        },
        "b57da7bf26d0484f846d3c3ca7e74474": {
          "model_module": "@jupyter-widgets/base",
          "model_name": "LayoutModel",
          "model_module_version": "1.2.0",
          "state": {
            "_model_module": "@jupyter-widgets/base",
            "_model_module_version": "1.2.0",
            "_model_name": "LayoutModel",
            "_view_count": null,
            "_view_module": "@jupyter-widgets/base",
            "_view_module_version": "1.2.0",
            "_view_name": "LayoutView",
            "align_content": null,
            "align_items": null,
            "align_self": null,
            "border": null,
            "bottom": null,
            "display": null,
            "flex": null,
            "flex_flow": null,
            "grid_area": null,
            "grid_auto_columns": null,
            "grid_auto_flow": null,
            "grid_auto_rows": null,
            "grid_column": null,
            "grid_gap": null,
            "grid_row": null,
            "grid_template_areas": null,
            "grid_template_columns": null,
            "grid_template_rows": null,
            "height": null,
            "justify_content": null,
            "justify_items": null,
            "left": null,
            "margin": null,
            "max_height": null,
            "max_width": null,
            "min_height": null,
            "min_width": null,
            "object_fit": null,
            "object_position": null,
            "order": null,
            "overflow": null,
            "overflow_x": null,
            "overflow_y": null,
            "padding": null,
            "right": null,
            "top": null,
            "visibility": null,
            "width": null
          }
        },
        "6c44f834c9bd41a4b827d141f5e64d79": {
          "model_module": "@jupyter-widgets/controls",
          "model_name": "DescriptionStyleModel",
          "model_module_version": "1.5.0",
          "state": {
            "_model_module": "@jupyter-widgets/controls",
            "_model_module_version": "1.5.0",
            "_model_name": "DescriptionStyleModel",
            "_view_count": null,
            "_view_module": "@jupyter-widgets/base",
            "_view_module_version": "1.2.0",
            "_view_name": "StyleView",
            "description_width": ""
          }
        },
        "56d6cac197884a1f8d2965ee59dffd0b": {
          "model_module": "@jupyter-widgets/base",
          "model_name": "LayoutModel",
          "model_module_version": "1.2.0",
          "state": {
            "_model_module": "@jupyter-widgets/base",
            "_model_module_version": "1.2.0",
            "_model_name": "LayoutModel",
            "_view_count": null,
            "_view_module": "@jupyter-widgets/base",
            "_view_module_version": "1.2.0",
            "_view_name": "LayoutView",
            "align_content": null,
            "align_items": null,
            "align_self": null,
            "border": null,
            "bottom": null,
            "display": null,
            "flex": null,
            "flex_flow": null,
            "grid_area": null,
            "grid_auto_columns": null,
            "grid_auto_flow": null,
            "grid_auto_rows": null,
            "grid_column": null,
            "grid_gap": null,
            "grid_row": null,
            "grid_template_areas": null,
            "grid_template_columns": null,
            "grid_template_rows": null,
            "height": null,
            "justify_content": null,
            "justify_items": null,
            "left": null,
            "margin": null,
            "max_height": null,
            "max_width": null,
            "min_height": null,
            "min_width": null,
            "object_fit": null,
            "object_position": null,
            "order": null,
            "overflow": null,
            "overflow_x": null,
            "overflow_y": null,
            "padding": null,
            "right": null,
            "top": null,
            "visibility": null,
            "width": null
          }
        },
        "ffdf726b40614fef943bdb82e95a1595": {
          "model_module": "@jupyter-widgets/controls",
          "model_name": "ProgressStyleModel",
          "model_module_version": "1.5.0",
          "state": {
            "_model_module": "@jupyter-widgets/controls",
            "_model_module_version": "1.5.0",
            "_model_name": "ProgressStyleModel",
            "_view_count": null,
            "_view_module": "@jupyter-widgets/base",
            "_view_module_version": "1.2.0",
            "_view_name": "StyleView",
            "bar_color": null,
            "description_width": ""
          }
        },
        "a19907631d394edbb0da79077353a379": {
          "model_module": "@jupyter-widgets/base",
          "model_name": "LayoutModel",
          "model_module_version": "1.2.0",
          "state": {
            "_model_module": "@jupyter-widgets/base",
            "_model_module_version": "1.2.0",
            "_model_name": "LayoutModel",
            "_view_count": null,
            "_view_module": "@jupyter-widgets/base",
            "_view_module_version": "1.2.0",
            "_view_name": "LayoutView",
            "align_content": null,
            "align_items": null,
            "align_self": null,
            "border": null,
            "bottom": null,
            "display": null,
            "flex": null,
            "flex_flow": null,
            "grid_area": null,
            "grid_auto_columns": null,
            "grid_auto_flow": null,
            "grid_auto_rows": null,
            "grid_column": null,
            "grid_gap": null,
            "grid_row": null,
            "grid_template_areas": null,
            "grid_template_columns": null,
            "grid_template_rows": null,
            "height": null,
            "justify_content": null,
            "justify_items": null,
            "left": null,
            "margin": null,
            "max_height": null,
            "max_width": null,
            "min_height": null,
            "min_width": null,
            "object_fit": null,
            "object_position": null,
            "order": null,
            "overflow": null,
            "overflow_x": null,
            "overflow_y": null,
            "padding": null,
            "right": null,
            "top": null,
            "visibility": null,
            "width": null
          }
        },
        "611abb57959b475986b3b1b25ace57db": {
          "model_module": "@jupyter-widgets/controls",
          "model_name": "DescriptionStyleModel",
          "model_module_version": "1.5.0",
          "state": {
            "_model_module": "@jupyter-widgets/controls",
            "_model_module_version": "1.5.0",
            "_model_name": "DescriptionStyleModel",
            "_view_count": null,
            "_view_module": "@jupyter-widgets/base",
            "_view_module_version": "1.2.0",
            "_view_name": "StyleView",
            "description_width": ""
          }
        },
        "2b7fc172b0f04a12820bdc1d497b0274": {
          "model_module": "@jupyter-widgets/controls",
          "model_name": "HBoxModel",
          "model_module_version": "1.5.0",
          "state": {
            "_dom_classes": [],
            "_model_module": "@jupyter-widgets/controls",
            "_model_module_version": "1.5.0",
            "_model_name": "HBoxModel",
            "_view_count": null,
            "_view_module": "@jupyter-widgets/controls",
            "_view_module_version": "1.5.0",
            "_view_name": "HBoxView",
            "box_style": "",
            "children": [
              "IPY_MODEL_5bbd1e6aff544fa7abb5ccf8443c1b92",
              "IPY_MODEL_c7680915759b4c199dcaed25e0aa2d79",
              "IPY_MODEL_fe5d7cbc753e49a1ac057729604857b9"
            ],
            "layout": "IPY_MODEL_655f26f697fa496595fece0f6fbe0f04"
          }
        },
        "5bbd1e6aff544fa7abb5ccf8443c1b92": {
          "model_module": "@jupyter-widgets/controls",
          "model_name": "HTMLModel",
          "model_module_version": "1.5.0",
          "state": {
            "_dom_classes": [],
            "_model_module": "@jupyter-widgets/controls",
            "_model_module_version": "1.5.0",
            "_model_name": "HTMLModel",
            "_view_count": null,
            "_view_module": "@jupyter-widgets/controls",
            "_view_module_version": "1.5.0",
            "_view_name": "HTMLView",
            "description": "",
            "description_tooltip": null,
            "layout": "IPY_MODEL_e40022f0106c4532944ed3652c08c37c",
            "placeholder": "​",
            "style": "IPY_MODEL_ac87bc7732914edf826bcd27f59c2e73",
            "value": "Downloading shards: 100%"
          }
        },
        "c7680915759b4c199dcaed25e0aa2d79": {
          "model_module": "@jupyter-widgets/controls",
          "model_name": "FloatProgressModel",
          "model_module_version": "1.5.0",
          "state": {
            "_dom_classes": [],
            "_model_module": "@jupyter-widgets/controls",
            "_model_module_version": "1.5.0",
            "_model_name": "FloatProgressModel",
            "_view_count": null,
            "_view_module": "@jupyter-widgets/controls",
            "_view_module_version": "1.5.0",
            "_view_name": "ProgressView",
            "bar_style": "success",
            "description": "",
            "description_tooltip": null,
            "layout": "IPY_MODEL_fc6108427a81463dad55dbc51e523017",
            "max": 2,
            "min": 0,
            "orientation": "horizontal",
            "style": "IPY_MODEL_b142156651724d668d44e41c7b354fc1",
            "value": 2
          }
        },
        "fe5d7cbc753e49a1ac057729604857b9": {
          "model_module": "@jupyter-widgets/controls",
          "model_name": "HTMLModel",
          "model_module_version": "1.5.0",
          "state": {
            "_dom_classes": [],
            "_model_module": "@jupyter-widgets/controls",
            "_model_module_version": "1.5.0",
            "_model_name": "HTMLModel",
            "_view_count": null,
            "_view_module": "@jupyter-widgets/controls",
            "_view_module_version": "1.5.0",
            "_view_name": "HTMLView",
            "description": "",
            "description_tooltip": null,
            "layout": "IPY_MODEL_462999b1b3b748018d0ac1ad4d24a6e8",
            "placeholder": "​",
            "style": "IPY_MODEL_95a4e22e6f1c4fab92e8bc5f85f682f1",
            "value": " 2/2 [08:18&lt;00:00, 232.42s/it]"
          }
        },
        "655f26f697fa496595fece0f6fbe0f04": {
          "model_module": "@jupyter-widgets/base",
          "model_name": "LayoutModel",
          "model_module_version": "1.2.0",
          "state": {
            "_model_module": "@jupyter-widgets/base",
            "_model_module_version": "1.2.0",
            "_model_name": "LayoutModel",
            "_view_count": null,
            "_view_module": "@jupyter-widgets/base",
            "_view_module_version": "1.2.0",
            "_view_name": "LayoutView",
            "align_content": null,
            "align_items": null,
            "align_self": null,
            "border": null,
            "bottom": null,
            "display": null,
            "flex": null,
            "flex_flow": null,
            "grid_area": null,
            "grid_auto_columns": null,
            "grid_auto_flow": null,
            "grid_auto_rows": null,
            "grid_column": null,
            "grid_gap": null,
            "grid_row": null,
            "grid_template_areas": null,
            "grid_template_columns": null,
            "grid_template_rows": null,
            "height": null,
            "justify_content": null,
            "justify_items": null,
            "left": null,
            "margin": null,
            "max_height": null,
            "max_width": null,
            "min_height": null,
            "min_width": null,
            "object_fit": null,
            "object_position": null,
            "order": null,
            "overflow": null,
            "overflow_x": null,
            "overflow_y": null,
            "padding": null,
            "right": null,
            "top": null,
            "visibility": null,
            "width": null
          }
        },
        "e40022f0106c4532944ed3652c08c37c": {
          "model_module": "@jupyter-widgets/base",
          "model_name": "LayoutModel",
          "model_module_version": "1.2.0",
          "state": {
            "_model_module": "@jupyter-widgets/base",
            "_model_module_version": "1.2.0",
            "_model_name": "LayoutModel",
            "_view_count": null,
            "_view_module": "@jupyter-widgets/base",
            "_view_module_version": "1.2.0",
            "_view_name": "LayoutView",
            "align_content": null,
            "align_items": null,
            "align_self": null,
            "border": null,
            "bottom": null,
            "display": null,
            "flex": null,
            "flex_flow": null,
            "grid_area": null,
            "grid_auto_columns": null,
            "grid_auto_flow": null,
            "grid_auto_rows": null,
            "grid_column": null,
            "grid_gap": null,
            "grid_row": null,
            "grid_template_areas": null,
            "grid_template_columns": null,
            "grid_template_rows": null,
            "height": null,
            "justify_content": null,
            "justify_items": null,
            "left": null,
            "margin": null,
            "max_height": null,
            "max_width": null,
            "min_height": null,
            "min_width": null,
            "object_fit": null,
            "object_position": null,
            "order": null,
            "overflow": null,
            "overflow_x": null,
            "overflow_y": null,
            "padding": null,
            "right": null,
            "top": null,
            "visibility": null,
            "width": null
          }
        },
        "ac87bc7732914edf826bcd27f59c2e73": {
          "model_module": "@jupyter-widgets/controls",
          "model_name": "DescriptionStyleModel",
          "model_module_version": "1.5.0",
          "state": {
            "_model_module": "@jupyter-widgets/controls",
            "_model_module_version": "1.5.0",
            "_model_name": "DescriptionStyleModel",
            "_view_count": null,
            "_view_module": "@jupyter-widgets/base",
            "_view_module_version": "1.2.0",
            "_view_name": "StyleView",
            "description_width": ""
          }
        },
        "fc6108427a81463dad55dbc51e523017": {
          "model_module": "@jupyter-widgets/base",
          "model_name": "LayoutModel",
          "model_module_version": "1.2.0",
          "state": {
            "_model_module": "@jupyter-widgets/base",
            "_model_module_version": "1.2.0",
            "_model_name": "LayoutModel",
            "_view_count": null,
            "_view_module": "@jupyter-widgets/base",
            "_view_module_version": "1.2.0",
            "_view_name": "LayoutView",
            "align_content": null,
            "align_items": null,
            "align_self": null,
            "border": null,
            "bottom": null,
            "display": null,
            "flex": null,
            "flex_flow": null,
            "grid_area": null,
            "grid_auto_columns": null,
            "grid_auto_flow": null,
            "grid_auto_rows": null,
            "grid_column": null,
            "grid_gap": null,
            "grid_row": null,
            "grid_template_areas": null,
            "grid_template_columns": null,
            "grid_template_rows": null,
            "height": null,
            "justify_content": null,
            "justify_items": null,
            "left": null,
            "margin": null,
            "max_height": null,
            "max_width": null,
            "min_height": null,
            "min_width": null,
            "object_fit": null,
            "object_position": null,
            "order": null,
            "overflow": null,
            "overflow_x": null,
            "overflow_y": null,
            "padding": null,
            "right": null,
            "top": null,
            "visibility": null,
            "width": null
          }
        },
        "b142156651724d668d44e41c7b354fc1": {
          "model_module": "@jupyter-widgets/controls",
          "model_name": "ProgressStyleModel",
          "model_module_version": "1.5.0",
          "state": {
            "_model_module": "@jupyter-widgets/controls",
            "_model_module_version": "1.5.0",
            "_model_name": "ProgressStyleModel",
            "_view_count": null,
            "_view_module": "@jupyter-widgets/base",
            "_view_module_version": "1.2.0",
            "_view_name": "StyleView",
            "bar_color": null,
            "description_width": ""
          }
        },
        "462999b1b3b748018d0ac1ad4d24a6e8": {
          "model_module": "@jupyter-widgets/base",
          "model_name": "LayoutModel",
          "model_module_version": "1.2.0",
          "state": {
            "_model_module": "@jupyter-widgets/base",
            "_model_module_version": "1.2.0",
            "_model_name": "LayoutModel",
            "_view_count": null,
            "_view_module": "@jupyter-widgets/base",
            "_view_module_version": "1.2.0",
            "_view_name": "LayoutView",
            "align_content": null,
            "align_items": null,
            "align_self": null,
            "border": null,
            "bottom": null,
            "display": null,
            "flex": null,
            "flex_flow": null,
            "grid_area": null,
            "grid_auto_columns": null,
            "grid_auto_flow": null,
            "grid_auto_rows": null,
            "grid_column": null,
            "grid_gap": null,
            "grid_row": null,
            "grid_template_areas": null,
            "grid_template_columns": null,
            "grid_template_rows": null,
            "height": null,
            "justify_content": null,
            "justify_items": null,
            "left": null,
            "margin": null,
            "max_height": null,
            "max_width": null,
            "min_height": null,
            "min_width": null,
            "object_fit": null,
            "object_position": null,
            "order": null,
            "overflow": null,
            "overflow_x": null,
            "overflow_y": null,
            "padding": null,
            "right": null,
            "top": null,
            "visibility": null,
            "width": null
          }
        },
        "95a4e22e6f1c4fab92e8bc5f85f682f1": {
          "model_module": "@jupyter-widgets/controls",
          "model_name": "DescriptionStyleModel",
          "model_module_version": "1.5.0",
          "state": {
            "_model_module": "@jupyter-widgets/controls",
            "_model_module_version": "1.5.0",
            "_model_name": "DescriptionStyleModel",
            "_view_count": null,
            "_view_module": "@jupyter-widgets/base",
            "_view_module_version": "1.2.0",
            "_view_name": "StyleView",
            "description_width": ""
          }
        },
        "15698f25dabc448a8a4b429464f06640": {
          "model_module": "@jupyter-widgets/controls",
          "model_name": "HBoxModel",
          "model_module_version": "1.5.0",
          "state": {
            "_dom_classes": [],
            "_model_module": "@jupyter-widgets/controls",
            "_model_module_version": "1.5.0",
            "_model_name": "HBoxModel",
            "_view_count": null,
            "_view_module": "@jupyter-widgets/controls",
            "_view_module_version": "1.5.0",
            "_view_name": "HBoxView",
            "box_style": "",
            "children": [
              "IPY_MODEL_e3a9aca6c9fa449f93ddfa7bbbdefbb4",
              "IPY_MODEL_09f0545e98d04135b4aa4880b01cfcc5",
              "IPY_MODEL_1ecf4ff78bb745f3a23964d14405d76b"
            ],
            "layout": "IPY_MODEL_dd50a3ba12154c3fa077b4aa1972a686"
          }
        },
        "e3a9aca6c9fa449f93ddfa7bbbdefbb4": {
          "model_module": "@jupyter-widgets/controls",
          "model_name": "HTMLModel",
          "model_module_version": "1.5.0",
          "state": {
            "_dom_classes": [],
            "_model_module": "@jupyter-widgets/controls",
            "_model_module_version": "1.5.0",
            "_model_name": "HTMLModel",
            "_view_count": null,
            "_view_module": "@jupyter-widgets/controls",
            "_view_module_version": "1.5.0",
            "_view_name": "HTMLView",
            "description": "",
            "description_tooltip": null,
            "layout": "IPY_MODEL_dd1411479b0c42ba92f6417af5f6d8dd",
            "placeholder": "​",
            "style": "IPY_MODEL_ccc517ab65ce43d68c83d6d313fd0611",
            "value": "model-00001-of-00002.safetensors: 100%"
          }
        },
        "09f0545e98d04135b4aa4880b01cfcc5": {
          "model_module": "@jupyter-widgets/controls",
          "model_name": "FloatProgressModel",
          "model_module_version": "1.5.0",
          "state": {
            "_dom_classes": [],
            "_model_module": "@jupyter-widgets/controls",
            "_model_module_version": "1.5.0",
            "_model_name": "FloatProgressModel",
            "_view_count": null,
            "_view_module": "@jupyter-widgets/controls",
            "_view_module_version": "1.5.0",
            "_view_name": "ProgressView",
            "bar_style": "success",
            "description": "",
            "description_tooltip": null,
            "layout": "IPY_MODEL_103177f3b3fe47ba9c029b52babb9932",
            "max": 9942981696,
            "min": 0,
            "orientation": "horizontal",
            "style": "IPY_MODEL_146369067a8f472d85c62de1a8b3f2cc",
            "value": 9942981696
          }
        },
        "1ecf4ff78bb745f3a23964d14405d76b": {
          "model_module": "@jupyter-widgets/controls",
          "model_name": "HTMLModel",
          "model_module_version": "1.5.0",
          "state": {
            "_dom_classes": [],
            "_model_module": "@jupyter-widgets/controls",
            "_model_module_version": "1.5.0",
            "_model_name": "HTMLModel",
            "_view_count": null,
            "_view_module": "@jupyter-widgets/controls",
            "_view_module_version": "1.5.0",
            "_view_name": "HTMLView",
            "description": "",
            "description_tooltip": null,
            "layout": "IPY_MODEL_9dec98dea4c541c0b0788fb58dc5e73b",
            "placeholder": "​",
            "style": "IPY_MODEL_501a0b4109e14af5961b9a7930a15f12",
            "value": " 9.94G/9.94G [05:44&lt;00:00, 30.0MB/s]"
          }
        },
        "dd50a3ba12154c3fa077b4aa1972a686": {
          "model_module": "@jupyter-widgets/base",
          "model_name": "LayoutModel",
          "model_module_version": "1.2.0",
          "state": {
            "_model_module": "@jupyter-widgets/base",
            "_model_module_version": "1.2.0",
            "_model_name": "LayoutModel",
            "_view_count": null,
            "_view_module": "@jupyter-widgets/base",
            "_view_module_version": "1.2.0",
            "_view_name": "LayoutView",
            "align_content": null,
            "align_items": null,
            "align_self": null,
            "border": null,
            "bottom": null,
            "display": null,
            "flex": null,
            "flex_flow": null,
            "grid_area": null,
            "grid_auto_columns": null,
            "grid_auto_flow": null,
            "grid_auto_rows": null,
            "grid_column": null,
            "grid_gap": null,
            "grid_row": null,
            "grid_template_areas": null,
            "grid_template_columns": null,
            "grid_template_rows": null,
            "height": null,
            "justify_content": null,
            "justify_items": null,
            "left": null,
            "margin": null,
            "max_height": null,
            "max_width": null,
            "min_height": null,
            "min_width": null,
            "object_fit": null,
            "object_position": null,
            "order": null,
            "overflow": null,
            "overflow_x": null,
            "overflow_y": null,
            "padding": null,
            "right": null,
            "top": null,
            "visibility": null,
            "width": null
          }
        },
        "dd1411479b0c42ba92f6417af5f6d8dd": {
          "model_module": "@jupyter-widgets/base",
          "model_name": "LayoutModel",
          "model_module_version": "1.2.0",
          "state": {
            "_model_module": "@jupyter-widgets/base",
            "_model_module_version": "1.2.0",
            "_model_name": "LayoutModel",
            "_view_count": null,
            "_view_module": "@jupyter-widgets/base",
            "_view_module_version": "1.2.0",
            "_view_name": "LayoutView",
            "align_content": null,
            "align_items": null,
            "align_self": null,
            "border": null,
            "bottom": null,
            "display": null,
            "flex": null,
            "flex_flow": null,
            "grid_area": null,
            "grid_auto_columns": null,
            "grid_auto_flow": null,
            "grid_auto_rows": null,
            "grid_column": null,
            "grid_gap": null,
            "grid_row": null,
            "grid_template_areas": null,
            "grid_template_columns": null,
            "grid_template_rows": null,
            "height": null,
            "justify_content": null,
            "justify_items": null,
            "left": null,
            "margin": null,
            "max_height": null,
            "max_width": null,
            "min_height": null,
            "min_width": null,
            "object_fit": null,
            "object_position": null,
            "order": null,
            "overflow": null,
            "overflow_x": null,
            "overflow_y": null,
            "padding": null,
            "right": null,
            "top": null,
            "visibility": null,
            "width": null
          }
        },
        "ccc517ab65ce43d68c83d6d313fd0611": {
          "model_module": "@jupyter-widgets/controls",
          "model_name": "DescriptionStyleModel",
          "model_module_version": "1.5.0",
          "state": {
            "_model_module": "@jupyter-widgets/controls",
            "_model_module_version": "1.5.0",
            "_model_name": "DescriptionStyleModel",
            "_view_count": null,
            "_view_module": "@jupyter-widgets/base",
            "_view_module_version": "1.2.0",
            "_view_name": "StyleView",
            "description_width": ""
          }
        },
        "103177f3b3fe47ba9c029b52babb9932": {
          "model_module": "@jupyter-widgets/base",
          "model_name": "LayoutModel",
          "model_module_version": "1.2.0",
          "state": {
            "_model_module": "@jupyter-widgets/base",
            "_model_module_version": "1.2.0",
            "_model_name": "LayoutModel",
            "_view_count": null,
            "_view_module": "@jupyter-widgets/base",
            "_view_module_version": "1.2.0",
            "_view_name": "LayoutView",
            "align_content": null,
            "align_items": null,
            "align_self": null,
            "border": null,
            "bottom": null,
            "display": null,
            "flex": null,
            "flex_flow": null,
            "grid_area": null,
            "grid_auto_columns": null,
            "grid_auto_flow": null,
            "grid_auto_rows": null,
            "grid_column": null,
            "grid_gap": null,
            "grid_row": null,
            "grid_template_areas": null,
            "grid_template_columns": null,
            "grid_template_rows": null,
            "height": null,
            "justify_content": null,
            "justify_items": null,
            "left": null,
            "margin": null,
            "max_height": null,
            "max_width": null,
            "min_height": null,
            "min_width": null,
            "object_fit": null,
            "object_position": null,
            "order": null,
            "overflow": null,
            "overflow_x": null,
            "overflow_y": null,
            "padding": null,
            "right": null,
            "top": null,
            "visibility": null,
            "width": null
          }
        },
        "146369067a8f472d85c62de1a8b3f2cc": {
          "model_module": "@jupyter-widgets/controls",
          "model_name": "ProgressStyleModel",
          "model_module_version": "1.5.0",
          "state": {
            "_model_module": "@jupyter-widgets/controls",
            "_model_module_version": "1.5.0",
            "_model_name": "ProgressStyleModel",
            "_view_count": null,
            "_view_module": "@jupyter-widgets/base",
            "_view_module_version": "1.2.0",
            "_view_name": "StyleView",
            "bar_color": null,
            "description_width": ""
          }
        },
        "9dec98dea4c541c0b0788fb58dc5e73b": {
          "model_module": "@jupyter-widgets/base",
          "model_name": "LayoutModel",
          "model_module_version": "1.2.0",
          "state": {
            "_model_module": "@jupyter-widgets/base",
            "_model_module_version": "1.2.0",
            "_model_name": "LayoutModel",
            "_view_count": null,
            "_view_module": "@jupyter-widgets/base",
            "_view_module_version": "1.2.0",
            "_view_name": "LayoutView",
            "align_content": null,
            "align_items": null,
            "align_self": null,
            "border": null,
            "bottom": null,
            "display": null,
            "flex": null,
            "flex_flow": null,
            "grid_area": null,
            "grid_auto_columns": null,
            "grid_auto_flow": null,
            "grid_auto_rows": null,
            "grid_column": null,
            "grid_gap": null,
            "grid_row": null,
            "grid_template_areas": null,
            "grid_template_columns": null,
            "grid_template_rows": null,
            "height": null,
            "justify_content": null,
            "justify_items": null,
            "left": null,
            "margin": null,
            "max_height": null,
            "max_width": null,
            "min_height": null,
            "min_width": null,
            "object_fit": null,
            "object_position": null,
            "order": null,
            "overflow": null,
            "overflow_x": null,
            "overflow_y": null,
            "padding": null,
            "right": null,
            "top": null,
            "visibility": null,
            "width": null
          }
        },
        "501a0b4109e14af5961b9a7930a15f12": {
          "model_module": "@jupyter-widgets/controls",
          "model_name": "DescriptionStyleModel",
          "model_module_version": "1.5.0",
          "state": {
            "_model_module": "@jupyter-widgets/controls",
            "_model_module_version": "1.5.0",
            "_model_name": "DescriptionStyleModel",
            "_view_count": null,
            "_view_module": "@jupyter-widgets/base",
            "_view_module_version": "1.2.0",
            "_view_name": "StyleView",
            "description_width": ""
          }
        },
        "db26abfe7dee40ba8e67e8a71f22c1ff": {
          "model_module": "@jupyter-widgets/controls",
          "model_name": "HBoxModel",
          "model_module_version": "1.5.0",
          "state": {
            "_dom_classes": [],
            "_model_module": "@jupyter-widgets/controls",
            "_model_module_version": "1.5.0",
            "_model_name": "HBoxModel",
            "_view_count": null,
            "_view_module": "@jupyter-widgets/controls",
            "_view_module_version": "1.5.0",
            "_view_name": "HBoxView",
            "box_style": "",
            "children": [
              "IPY_MODEL_c738f24410974b96b6aebf68f07d1554",
              "IPY_MODEL_a4f378b047d343688b3f78469fde736e",
              "IPY_MODEL_6b1365ef6e57461bbc4ca3826b730f3f"
            ],
            "layout": "IPY_MODEL_1bfb1a6dfba8488c97cdbc1ab1b3b249"
          }
        },
        "c738f24410974b96b6aebf68f07d1554": {
          "model_module": "@jupyter-widgets/controls",
          "model_name": "HTMLModel",
          "model_module_version": "1.5.0",
          "state": {
            "_dom_classes": [],
            "_model_module": "@jupyter-widgets/controls",
            "_model_module_version": "1.5.0",
            "_model_name": "HTMLModel",
            "_view_count": null,
            "_view_module": "@jupyter-widgets/controls",
            "_view_module_version": "1.5.0",
            "_view_name": "HTMLView",
            "description": "",
            "description_tooltip": null,
            "layout": "IPY_MODEL_55ac4fa0c7fc4ee9844cf4706b6302ba",
            "placeholder": "​",
            "style": "IPY_MODEL_dc9a1910ac7d4a809a05ea37ebc828e7",
            "value": "model-00002-of-00002.safetensors: 100%"
          }
        },
        "a4f378b047d343688b3f78469fde736e": {
          "model_module": "@jupyter-widgets/controls",
          "model_name": "FloatProgressModel",
          "model_module_version": "1.5.0",
          "state": {
            "_dom_classes": [],
            "_model_module": "@jupyter-widgets/controls",
            "_model_module_version": "1.5.0",
            "_model_name": "FloatProgressModel",
            "_view_count": null,
            "_view_module": "@jupyter-widgets/controls",
            "_view_module_version": "1.5.0",
            "_view_name": "ProgressView",
            "bar_style": "success",
            "description": "",
            "description_tooltip": null,
            "layout": "IPY_MODEL_d0bca63674fd4702a62ac58651058e33",
            "max": 4540516344,
            "min": 0,
            "orientation": "horizontal",
            "style": "IPY_MODEL_e82e0bb206844a35ba434a8cf80df43c",
            "value": 4540516344
          }
        },
        "6b1365ef6e57461bbc4ca3826b730f3f": {
          "model_module": "@jupyter-widgets/controls",
          "model_name": "HTMLModel",
          "model_module_version": "1.5.0",
          "state": {
            "_dom_classes": [],
            "_model_module": "@jupyter-widgets/controls",
            "_model_module_version": "1.5.0",
            "_model_name": "HTMLModel",
            "_view_count": null,
            "_view_module": "@jupyter-widgets/controls",
            "_view_module_version": "1.5.0",
            "_view_name": "HTMLView",
            "description": "",
            "description_tooltip": null,
            "layout": "IPY_MODEL_8de55618fbe141b6b81029438a1bbbc8",
            "placeholder": "​",
            "style": "IPY_MODEL_866ad19673b145b49e19596fdc8e00be",
            "value": " 4.54G/4.54G [02:32&lt;00:00, 33.3MB/s]"
          }
        },
        "1bfb1a6dfba8488c97cdbc1ab1b3b249": {
          "model_module": "@jupyter-widgets/base",
          "model_name": "LayoutModel",
          "model_module_version": "1.2.0",
          "state": {
            "_model_module": "@jupyter-widgets/base",
            "_model_module_version": "1.2.0",
            "_model_name": "LayoutModel",
            "_view_count": null,
            "_view_module": "@jupyter-widgets/base",
            "_view_module_version": "1.2.0",
            "_view_name": "LayoutView",
            "align_content": null,
            "align_items": null,
            "align_self": null,
            "border": null,
            "bottom": null,
            "display": null,
            "flex": null,
            "flex_flow": null,
            "grid_area": null,
            "grid_auto_columns": null,
            "grid_auto_flow": null,
            "grid_auto_rows": null,
            "grid_column": null,
            "grid_gap": null,
            "grid_row": null,
            "grid_template_areas": null,
            "grid_template_columns": null,
            "grid_template_rows": null,
            "height": null,
            "justify_content": null,
            "justify_items": null,
            "left": null,
            "margin": null,
            "max_height": null,
            "max_width": null,
            "min_height": null,
            "min_width": null,
            "object_fit": null,
            "object_position": null,
            "order": null,
            "overflow": null,
            "overflow_x": null,
            "overflow_y": null,
            "padding": null,
            "right": null,
            "top": null,
            "visibility": null,
            "width": null
          }
        },
        "55ac4fa0c7fc4ee9844cf4706b6302ba": {
          "model_module": "@jupyter-widgets/base",
          "model_name": "LayoutModel",
          "model_module_version": "1.2.0",
          "state": {
            "_model_module": "@jupyter-widgets/base",
            "_model_module_version": "1.2.0",
            "_model_name": "LayoutModel",
            "_view_count": null,
            "_view_module": "@jupyter-widgets/base",
            "_view_module_version": "1.2.0",
            "_view_name": "LayoutView",
            "align_content": null,
            "align_items": null,
            "align_self": null,
            "border": null,
            "bottom": null,
            "display": null,
            "flex": null,
            "flex_flow": null,
            "grid_area": null,
            "grid_auto_columns": null,
            "grid_auto_flow": null,
            "grid_auto_rows": null,
            "grid_column": null,
            "grid_gap": null,
            "grid_row": null,
            "grid_template_areas": null,
            "grid_template_columns": null,
            "grid_template_rows": null,
            "height": null,
            "justify_content": null,
            "justify_items": null,
            "left": null,
            "margin": null,
            "max_height": null,
            "max_width": null,
            "min_height": null,
            "min_width": null,
            "object_fit": null,
            "object_position": null,
            "order": null,
            "overflow": null,
            "overflow_x": null,
            "overflow_y": null,
            "padding": null,
            "right": null,
            "top": null,
            "visibility": null,
            "width": null
          }
        },
        "dc9a1910ac7d4a809a05ea37ebc828e7": {
          "model_module": "@jupyter-widgets/controls",
          "model_name": "DescriptionStyleModel",
          "model_module_version": "1.5.0",
          "state": {
            "_model_module": "@jupyter-widgets/controls",
            "_model_module_version": "1.5.0",
            "_model_name": "DescriptionStyleModel",
            "_view_count": null,
            "_view_module": "@jupyter-widgets/base",
            "_view_module_version": "1.2.0",
            "_view_name": "StyleView",
            "description_width": ""
          }
        },
        "d0bca63674fd4702a62ac58651058e33": {
          "model_module": "@jupyter-widgets/base",
          "model_name": "LayoutModel",
          "model_module_version": "1.2.0",
          "state": {
            "_model_module": "@jupyter-widgets/base",
            "_model_module_version": "1.2.0",
            "_model_name": "LayoutModel",
            "_view_count": null,
            "_view_module": "@jupyter-widgets/base",
            "_view_module_version": "1.2.0",
            "_view_name": "LayoutView",
            "align_content": null,
            "align_items": null,
            "align_self": null,
            "border": null,
            "bottom": null,
            "display": null,
            "flex": null,
            "flex_flow": null,
            "grid_area": null,
            "grid_auto_columns": null,
            "grid_auto_flow": null,
            "grid_auto_rows": null,
            "grid_column": null,
            "grid_gap": null,
            "grid_row": null,
            "grid_template_areas": null,
            "grid_template_columns": null,
            "grid_template_rows": null,
            "height": null,
            "justify_content": null,
            "justify_items": null,
            "left": null,
            "margin": null,
            "max_height": null,
            "max_width": null,
            "min_height": null,
            "min_width": null,
            "object_fit": null,
            "object_position": null,
            "order": null,
            "overflow": null,
            "overflow_x": null,
            "overflow_y": null,
            "padding": null,
            "right": null,
            "top": null,
            "visibility": null,
            "width": null
          }
        },
        "e82e0bb206844a35ba434a8cf80df43c": {
          "model_module": "@jupyter-widgets/controls",
          "model_name": "ProgressStyleModel",
          "model_module_version": "1.5.0",
          "state": {
            "_model_module": "@jupyter-widgets/controls",
            "_model_module_version": "1.5.0",
            "_model_name": "ProgressStyleModel",
            "_view_count": null,
            "_view_module": "@jupyter-widgets/base",
            "_view_module_version": "1.2.0",
            "_view_name": "StyleView",
            "bar_color": null,
            "description_width": ""
          }
        },
        "8de55618fbe141b6b81029438a1bbbc8": {
          "model_module": "@jupyter-widgets/base",
          "model_name": "LayoutModel",
          "model_module_version": "1.2.0",
          "state": {
            "_model_module": "@jupyter-widgets/base",
            "_model_module_version": "1.2.0",
            "_model_name": "LayoutModel",
            "_view_count": null,
            "_view_module": "@jupyter-widgets/base",
            "_view_module_version": "1.2.0",
            "_view_name": "LayoutView",
            "align_content": null,
            "align_items": null,
            "align_self": null,
            "border": null,
            "bottom": null,
            "display": null,
            "flex": null,
            "flex_flow": null,
            "grid_area": null,
            "grid_auto_columns": null,
            "grid_auto_flow": null,
            "grid_auto_rows": null,
            "grid_column": null,
            "grid_gap": null,
            "grid_row": null,
            "grid_template_areas": null,
            "grid_template_columns": null,
            "grid_template_rows": null,
            "height": null,
            "justify_content": null,
            "justify_items": null,
            "left": null,
            "margin": null,
            "max_height": null,
            "max_width": null,
            "min_height": null,
            "min_width": null,
            "object_fit": null,
            "object_position": null,
            "order": null,
            "overflow": null,
            "overflow_x": null,
            "overflow_y": null,
            "padding": null,
            "right": null,
            "top": null,
            "visibility": null,
            "width": null
          }
        },
        "866ad19673b145b49e19596fdc8e00be": {
          "model_module": "@jupyter-widgets/controls",
          "model_name": "DescriptionStyleModel",
          "model_module_version": "1.5.0",
          "state": {
            "_model_module": "@jupyter-widgets/controls",
            "_model_module_version": "1.5.0",
            "_model_name": "DescriptionStyleModel",
            "_view_count": null,
            "_view_module": "@jupyter-widgets/base",
            "_view_module_version": "1.2.0",
            "_view_name": "StyleView",
            "description_width": ""
          }
        },
        "90bc95e63849410ab2526e21ac51fbd1": {
          "model_module": "@jupyter-widgets/controls",
          "model_name": "HBoxModel",
          "model_module_version": "1.5.0",
          "state": {
            "_dom_classes": [],
            "_model_module": "@jupyter-widgets/controls",
            "_model_module_version": "1.5.0",
            "_model_name": "HBoxModel",
            "_view_count": null,
            "_view_module": "@jupyter-widgets/controls",
            "_view_module_version": "1.5.0",
            "_view_name": "HBoxView",
            "box_style": "",
            "children": [
              "IPY_MODEL_f15d1d30751f41b6b2c97d4b0ac49c73",
              "IPY_MODEL_055397f564964885b68689375258e61c",
              "IPY_MODEL_8edd59fdd3524be1992ee1d3bc5c7f3f"
            ],
            "layout": "IPY_MODEL_afadfd80fc774bd0b80dbf0b76747830"
          }
        },
        "f15d1d30751f41b6b2c97d4b0ac49c73": {
          "model_module": "@jupyter-widgets/controls",
          "model_name": "HTMLModel",
          "model_module_version": "1.5.0",
          "state": {
            "_dom_classes": [],
            "_model_module": "@jupyter-widgets/controls",
            "_model_module_version": "1.5.0",
            "_model_name": "HTMLModel",
            "_view_count": null,
            "_view_module": "@jupyter-widgets/controls",
            "_view_module_version": "1.5.0",
            "_view_name": "HTMLView",
            "description": "",
            "description_tooltip": null,
            "layout": "IPY_MODEL_2b79eef2375b49acbbc974855d8340ce",
            "placeholder": "​",
            "style": "IPY_MODEL_e925fb8fa1a64afe9195b1b9d427a82d",
            "value": "Loading checkpoint shards: 100%"
          }
        },
        "055397f564964885b68689375258e61c": {
          "model_module": "@jupyter-widgets/controls",
          "model_name": "FloatProgressModel",
          "model_module_version": "1.5.0",
          "state": {
            "_dom_classes": [],
            "_model_module": "@jupyter-widgets/controls",
            "_model_module_version": "1.5.0",
            "_model_name": "FloatProgressModel",
            "_view_count": null,
            "_view_module": "@jupyter-widgets/controls",
            "_view_module_version": "1.5.0",
            "_view_name": "ProgressView",
            "bar_style": "success",
            "description": "",
            "description_tooltip": null,
            "layout": "IPY_MODEL_99929639d137414db17ee44a607e3c67",
            "max": 2,
            "min": 0,
            "orientation": "horizontal",
            "style": "IPY_MODEL_03e08cc464f74adda5d833fe6f9ce4d7",
            "value": 2
          }
        },
        "8edd59fdd3524be1992ee1d3bc5c7f3f": {
          "model_module": "@jupyter-widgets/controls",
          "model_name": "HTMLModel",
          "model_module_version": "1.5.0",
          "state": {
            "_dom_classes": [],
            "_model_module": "@jupyter-widgets/controls",
            "_model_module_version": "1.5.0",
            "_model_name": "HTMLModel",
            "_view_count": null,
            "_view_module": "@jupyter-widgets/controls",
            "_view_module_version": "1.5.0",
            "_view_name": "HTMLView",
            "description": "",
            "description_tooltip": null,
            "layout": "IPY_MODEL_ffd594d1957c40769ed440e1a9df2b01",
            "placeholder": "​",
            "style": "IPY_MODEL_340a48ccf82547b0be5fe4f54113b23a",
            "value": " 2/2 [00:07&lt;00:00,  3.66s/it]"
          }
        },
        "afadfd80fc774bd0b80dbf0b76747830": {
          "model_module": "@jupyter-widgets/base",
          "model_name": "LayoutModel",
          "model_module_version": "1.2.0",
          "state": {
            "_model_module": "@jupyter-widgets/base",
            "_model_module_version": "1.2.0",
            "_model_name": "LayoutModel",
            "_view_count": null,
            "_view_module": "@jupyter-widgets/base",
            "_view_module_version": "1.2.0",
            "_view_name": "LayoutView",
            "align_content": null,
            "align_items": null,
            "align_self": null,
            "border": null,
            "bottom": null,
            "display": null,
            "flex": null,
            "flex_flow": null,
            "grid_area": null,
            "grid_auto_columns": null,
            "grid_auto_flow": null,
            "grid_auto_rows": null,
            "grid_column": null,
            "grid_gap": null,
            "grid_row": null,
            "grid_template_areas": null,
            "grid_template_columns": null,
            "grid_template_rows": null,
            "height": null,
            "justify_content": null,
            "justify_items": null,
            "left": null,
            "margin": null,
            "max_height": null,
            "max_width": null,
            "min_height": null,
            "min_width": null,
            "object_fit": null,
            "object_position": null,
            "order": null,
            "overflow": null,
            "overflow_x": null,
            "overflow_y": null,
            "padding": null,
            "right": null,
            "top": null,
            "visibility": null,
            "width": null
          }
        },
        "2b79eef2375b49acbbc974855d8340ce": {
          "model_module": "@jupyter-widgets/base",
          "model_name": "LayoutModel",
          "model_module_version": "1.2.0",
          "state": {
            "_model_module": "@jupyter-widgets/base",
            "_model_module_version": "1.2.0",
            "_model_name": "LayoutModel",
            "_view_count": null,
            "_view_module": "@jupyter-widgets/base",
            "_view_module_version": "1.2.0",
            "_view_name": "LayoutView",
            "align_content": null,
            "align_items": null,
            "align_self": null,
            "border": null,
            "bottom": null,
            "display": null,
            "flex": null,
            "flex_flow": null,
            "grid_area": null,
            "grid_auto_columns": null,
            "grid_auto_flow": null,
            "grid_auto_rows": null,
            "grid_column": null,
            "grid_gap": null,
            "grid_row": null,
            "grid_template_areas": null,
            "grid_template_columns": null,
            "grid_template_rows": null,
            "height": null,
            "justify_content": null,
            "justify_items": null,
            "left": null,
            "margin": null,
            "max_height": null,
            "max_width": null,
            "min_height": null,
            "min_width": null,
            "object_fit": null,
            "object_position": null,
            "order": null,
            "overflow": null,
            "overflow_x": null,
            "overflow_y": null,
            "padding": null,
            "right": null,
            "top": null,
            "visibility": null,
            "width": null
          }
        },
        "e925fb8fa1a64afe9195b1b9d427a82d": {
          "model_module": "@jupyter-widgets/controls",
          "model_name": "DescriptionStyleModel",
          "model_module_version": "1.5.0",
          "state": {
            "_model_module": "@jupyter-widgets/controls",
            "_model_module_version": "1.5.0",
            "_model_name": "DescriptionStyleModel",
            "_view_count": null,
            "_view_module": "@jupyter-widgets/base",
            "_view_module_version": "1.2.0",
            "_view_name": "StyleView",
            "description_width": ""
          }
        },
        "99929639d137414db17ee44a607e3c67": {
          "model_module": "@jupyter-widgets/base",
          "model_name": "LayoutModel",
          "model_module_version": "1.2.0",
          "state": {
            "_model_module": "@jupyter-widgets/base",
            "_model_module_version": "1.2.0",
            "_model_name": "LayoutModel",
            "_view_count": null,
            "_view_module": "@jupyter-widgets/base",
            "_view_module_version": "1.2.0",
            "_view_name": "LayoutView",
            "align_content": null,
            "align_items": null,
            "align_self": null,
            "border": null,
            "bottom": null,
            "display": null,
            "flex": null,
            "flex_flow": null,
            "grid_area": null,
            "grid_auto_columns": null,
            "grid_auto_flow": null,
            "grid_auto_rows": null,
            "grid_column": null,
            "grid_gap": null,
            "grid_row": null,
            "grid_template_areas": null,
            "grid_template_columns": null,
            "grid_template_rows": null,
            "height": null,
            "justify_content": null,
            "justify_items": null,
            "left": null,
            "margin": null,
            "max_height": null,
            "max_width": null,
            "min_height": null,
            "min_width": null,
            "object_fit": null,
            "object_position": null,
            "order": null,
            "overflow": null,
            "overflow_x": null,
            "overflow_y": null,
            "padding": null,
            "right": null,
            "top": null,
            "visibility": null,
            "width": null
          }
        },
        "03e08cc464f74adda5d833fe6f9ce4d7": {
          "model_module": "@jupyter-widgets/controls",
          "model_name": "ProgressStyleModel",
          "model_module_version": "1.5.0",
          "state": {
            "_model_module": "@jupyter-widgets/controls",
            "_model_module_version": "1.5.0",
            "_model_name": "ProgressStyleModel",
            "_view_count": null,
            "_view_module": "@jupyter-widgets/base",
            "_view_module_version": "1.2.0",
            "_view_name": "StyleView",
            "bar_color": null,
            "description_width": ""
          }
        },
        "ffd594d1957c40769ed440e1a9df2b01": {
          "model_module": "@jupyter-widgets/base",
          "model_name": "LayoutModel",
          "model_module_version": "1.2.0",
          "state": {
            "_model_module": "@jupyter-widgets/base",
            "_model_module_version": "1.2.0",
            "_model_name": "LayoutModel",
            "_view_count": null,
            "_view_module": "@jupyter-widgets/base",
            "_view_module_version": "1.2.0",
            "_view_name": "LayoutView",
            "align_content": null,
            "align_items": null,
            "align_self": null,
            "border": null,
            "bottom": null,
            "display": null,
            "flex": null,
            "flex_flow": null,
            "grid_area": null,
            "grid_auto_columns": null,
            "grid_auto_flow": null,
            "grid_auto_rows": null,
            "grid_column": null,
            "grid_gap": null,
            "grid_row": null,
            "grid_template_areas": null,
            "grid_template_columns": null,
            "grid_template_rows": null,
            "height": null,
            "justify_content": null,
            "justify_items": null,
            "left": null,
            "margin": null,
            "max_height": null,
            "max_width": null,
            "min_height": null,
            "min_width": null,
            "object_fit": null,
            "object_position": null,
            "order": null,
            "overflow": null,
            "overflow_x": null,
            "overflow_y": null,
            "padding": null,
            "right": null,
            "top": null,
            "visibility": null,
            "width": null
          }
        },
        "340a48ccf82547b0be5fe4f54113b23a": {
          "model_module": "@jupyter-widgets/controls",
          "model_name": "DescriptionStyleModel",
          "model_module_version": "1.5.0",
          "state": {
            "_model_module": "@jupyter-widgets/controls",
            "_model_module_version": "1.5.0",
            "_model_name": "DescriptionStyleModel",
            "_view_count": null,
            "_view_module": "@jupyter-widgets/base",
            "_view_module_version": "1.2.0",
            "_view_name": "StyleView",
            "description_width": ""
          }
        },
        "f49db664b2fc412994c507c691e8a60c": {
          "model_module": "@jupyter-widgets/controls",
          "model_name": "HBoxModel",
          "model_module_version": "1.5.0",
          "state": {
            "_dom_classes": [],
            "_model_module": "@jupyter-widgets/controls",
            "_model_module_version": "1.5.0",
            "_model_name": "HBoxModel",
            "_view_count": null,
            "_view_module": "@jupyter-widgets/controls",
            "_view_module_version": "1.5.0",
            "_view_name": "HBoxView",
            "box_style": "",
            "children": [
              "IPY_MODEL_7ab899b79f9541779c539020937c40be",
              "IPY_MODEL_42ce8aa0e38142b1b08c76a3defad4a0",
              "IPY_MODEL_0f7c953246814aaa8cfac3d21648f1b7"
            ],
            "layout": "IPY_MODEL_376bfd79ad6943b9870754f35c0edddb"
          }
        },
        "7ab899b79f9541779c539020937c40be": {
          "model_module": "@jupyter-widgets/controls",
          "model_name": "HTMLModel",
          "model_module_version": "1.5.0",
          "state": {
            "_dom_classes": [],
            "_model_module": "@jupyter-widgets/controls",
            "_model_module_version": "1.5.0",
            "_model_name": "HTMLModel",
            "_view_count": null,
            "_view_module": "@jupyter-widgets/controls",
            "_view_module_version": "1.5.0",
            "_view_name": "HTMLView",
            "description": "",
            "description_tooltip": null,
            "layout": "IPY_MODEL_3980d33a25dd4af688273414589ea143",
            "placeholder": "​",
            "style": "IPY_MODEL_ce40eae8cef24e86bde7d7fe3ab5bb59",
            "value": "generation_config.json: 100%"
          }
        },
        "42ce8aa0e38142b1b08c76a3defad4a0": {
          "model_module": "@jupyter-widgets/controls",
          "model_name": "FloatProgressModel",
          "model_module_version": "1.5.0",
          "state": {
            "_dom_classes": [],
            "_model_module": "@jupyter-widgets/controls",
            "_model_module_version": "1.5.0",
            "_model_name": "FloatProgressModel",
            "_view_count": null,
            "_view_module": "@jupyter-widgets/controls",
            "_view_module_version": "1.5.0",
            "_view_name": "ProgressView",
            "bar_style": "success",
            "description": "",
            "description_tooltip": null,
            "layout": "IPY_MODEL_01b34a89b6654d7dbc79c9f6f0cec368",
            "max": 116,
            "min": 0,
            "orientation": "horizontal",
            "style": "IPY_MODEL_224e28c9b1714ecba1d05d1ace282779",
            "value": 116
          }
        },
        "0f7c953246814aaa8cfac3d21648f1b7": {
          "model_module": "@jupyter-widgets/controls",
          "model_name": "HTMLModel",
          "model_module_version": "1.5.0",
          "state": {
            "_dom_classes": [],
            "_model_module": "@jupyter-widgets/controls",
            "_model_module_version": "1.5.0",
            "_model_name": "HTMLModel",
            "_view_count": null,
            "_view_module": "@jupyter-widgets/controls",
            "_view_module_version": "1.5.0",
            "_view_name": "HTMLView",
            "description": "",
            "description_tooltip": null,
            "layout": "IPY_MODEL_30b370573a53439aab1500bca6e9aa60",
            "placeholder": "​",
            "style": "IPY_MODEL_88785a1fd5a8445c816a2d72c8750efd",
            "value": " 116/116 [00:00&lt;00:00, 10.4kB/s]"
          }
        },
        "376bfd79ad6943b9870754f35c0edddb": {
          "model_module": "@jupyter-widgets/base",
          "model_name": "LayoutModel",
          "model_module_version": "1.2.0",
          "state": {
            "_model_module": "@jupyter-widgets/base",
            "_model_module_version": "1.2.0",
            "_model_name": "LayoutModel",
            "_view_count": null,
            "_view_module": "@jupyter-widgets/base",
            "_view_module_version": "1.2.0",
            "_view_name": "LayoutView",
            "align_content": null,
            "align_items": null,
            "align_self": null,
            "border": null,
            "bottom": null,
            "display": null,
            "flex": null,
            "flex_flow": null,
            "grid_area": null,
            "grid_auto_columns": null,
            "grid_auto_flow": null,
            "grid_auto_rows": null,
            "grid_column": null,
            "grid_gap": null,
            "grid_row": null,
            "grid_template_areas": null,
            "grid_template_columns": null,
            "grid_template_rows": null,
            "height": null,
            "justify_content": null,
            "justify_items": null,
            "left": null,
            "margin": null,
            "max_height": null,
            "max_width": null,
            "min_height": null,
            "min_width": null,
            "object_fit": null,
            "object_position": null,
            "order": null,
            "overflow": null,
            "overflow_x": null,
            "overflow_y": null,
            "padding": null,
            "right": null,
            "top": null,
            "visibility": null,
            "width": null
          }
        },
        "3980d33a25dd4af688273414589ea143": {
          "model_module": "@jupyter-widgets/base",
          "model_name": "LayoutModel",
          "model_module_version": "1.2.0",
          "state": {
            "_model_module": "@jupyter-widgets/base",
            "_model_module_version": "1.2.0",
            "_model_name": "LayoutModel",
            "_view_count": null,
            "_view_module": "@jupyter-widgets/base",
            "_view_module_version": "1.2.0",
            "_view_name": "LayoutView",
            "align_content": null,
            "align_items": null,
            "align_self": null,
            "border": null,
            "bottom": null,
            "display": null,
            "flex": null,
            "flex_flow": null,
            "grid_area": null,
            "grid_auto_columns": null,
            "grid_auto_flow": null,
            "grid_auto_rows": null,
            "grid_column": null,
            "grid_gap": null,
            "grid_row": null,
            "grid_template_areas": null,
            "grid_template_columns": null,
            "grid_template_rows": null,
            "height": null,
            "justify_content": null,
            "justify_items": null,
            "left": null,
            "margin": null,
            "max_height": null,
            "max_width": null,
            "min_height": null,
            "min_width": null,
            "object_fit": null,
            "object_position": null,
            "order": null,
            "overflow": null,
            "overflow_x": null,
            "overflow_y": null,
            "padding": null,
            "right": null,
            "top": null,
            "visibility": null,
            "width": null
          }
        },
        "ce40eae8cef24e86bde7d7fe3ab5bb59": {
          "model_module": "@jupyter-widgets/controls",
          "model_name": "DescriptionStyleModel",
          "model_module_version": "1.5.0",
          "state": {
            "_model_module": "@jupyter-widgets/controls",
            "_model_module_version": "1.5.0",
            "_model_name": "DescriptionStyleModel",
            "_view_count": null,
            "_view_module": "@jupyter-widgets/base",
            "_view_module_version": "1.2.0",
            "_view_name": "StyleView",
            "description_width": ""
          }
        },
        "01b34a89b6654d7dbc79c9f6f0cec368": {
          "model_module": "@jupyter-widgets/base",
          "model_name": "LayoutModel",
          "model_module_version": "1.2.0",
          "state": {
            "_model_module": "@jupyter-widgets/base",
            "_model_module_version": "1.2.0",
            "_model_name": "LayoutModel",
            "_view_count": null,
            "_view_module": "@jupyter-widgets/base",
            "_view_module_version": "1.2.0",
            "_view_name": "LayoutView",
            "align_content": null,
            "align_items": null,
            "align_self": null,
            "border": null,
            "bottom": null,
            "display": null,
            "flex": null,
            "flex_flow": null,
            "grid_area": null,
            "grid_auto_columns": null,
            "grid_auto_flow": null,
            "grid_auto_rows": null,
            "grid_column": null,
            "grid_gap": null,
            "grid_row": null,
            "grid_template_areas": null,
            "grid_template_columns": null,
            "grid_template_rows": null,
            "height": null,
            "justify_content": null,
            "justify_items": null,
            "left": null,
            "margin": null,
            "max_height": null,
            "max_width": null,
            "min_height": null,
            "min_width": null,
            "object_fit": null,
            "object_position": null,
            "order": null,
            "overflow": null,
            "overflow_x": null,
            "overflow_y": null,
            "padding": null,
            "right": null,
            "top": null,
            "visibility": null,
            "width": null
          }
        },
        "224e28c9b1714ecba1d05d1ace282779": {
          "model_module": "@jupyter-widgets/controls",
          "model_name": "ProgressStyleModel",
          "model_module_version": "1.5.0",
          "state": {
            "_model_module": "@jupyter-widgets/controls",
            "_model_module_version": "1.5.0",
            "_model_name": "ProgressStyleModel",
            "_view_count": null,
            "_view_module": "@jupyter-widgets/base",
            "_view_module_version": "1.2.0",
            "_view_name": "StyleView",
            "bar_color": null,
            "description_width": ""
          }
        },
        "30b370573a53439aab1500bca6e9aa60": {
          "model_module": "@jupyter-widgets/base",
          "model_name": "LayoutModel",
          "model_module_version": "1.2.0",
          "state": {
            "_model_module": "@jupyter-widgets/base",
            "_model_module_version": "1.2.0",
            "_model_name": "LayoutModel",
            "_view_count": null,
            "_view_module": "@jupyter-widgets/base",
            "_view_module_version": "1.2.0",
            "_view_name": "LayoutView",
            "align_content": null,
            "align_items": null,
            "align_self": null,
            "border": null,
            "bottom": null,
            "display": null,
            "flex": null,
            "flex_flow": null,
            "grid_area": null,
            "grid_auto_columns": null,
            "grid_auto_flow": null,
            "grid_auto_rows": null,
            "grid_column": null,
            "grid_gap": null,
            "grid_row": null,
            "grid_template_areas": null,
            "grid_template_columns": null,
            "grid_template_rows": null,
            "height": null,
            "justify_content": null,
            "justify_items": null,
            "left": null,
            "margin": null,
            "max_height": null,
            "max_width": null,
            "min_height": null,
            "min_width": null,
            "object_fit": null,
            "object_position": null,
            "order": null,
            "overflow": null,
            "overflow_x": null,
            "overflow_y": null,
            "padding": null,
            "right": null,
            "top": null,
            "visibility": null,
            "width": null
          }
        },
        "88785a1fd5a8445c816a2d72c8750efd": {
          "model_module": "@jupyter-widgets/controls",
          "model_name": "DescriptionStyleModel",
          "model_module_version": "1.5.0",
          "state": {
            "_model_module": "@jupyter-widgets/controls",
            "_model_module_version": "1.5.0",
            "_model_name": "DescriptionStyleModel",
            "_view_count": null,
            "_view_module": "@jupyter-widgets/base",
            "_view_module_version": "1.2.0",
            "_view_name": "StyleView",
            "description_width": ""
          }
        },
        "d011fef154704546af5ddd04140896ac": {
          "model_module": "@jupyter-widgets/controls",
          "model_name": "HBoxModel",
          "model_module_version": "1.5.0",
          "state": {
            "_dom_classes": [],
            "_model_module": "@jupyter-widgets/controls",
            "_model_module_version": "1.5.0",
            "_model_name": "HBoxModel",
            "_view_count": null,
            "_view_module": "@jupyter-widgets/controls",
            "_view_module_version": "1.5.0",
            "_view_name": "HBoxView",
            "box_style": "",
            "children": [
              "IPY_MODEL_93880b083476428f82d1760c9331ca3c",
              "IPY_MODEL_0df0dc743a7a405b97d7fe217682ecae",
              "IPY_MODEL_da7efcbb5aa447b0ac3f2d950bbadb11"
            ],
            "layout": "IPY_MODEL_707c0b66c05f444790df34bb059362fd"
          }
        },
        "93880b083476428f82d1760c9331ca3c": {
          "model_module": "@jupyter-widgets/controls",
          "model_name": "HTMLModel",
          "model_module_version": "1.5.0",
          "state": {
            "_dom_classes": [],
            "_model_module": "@jupyter-widgets/controls",
            "_model_module_version": "1.5.0",
            "_model_name": "HTMLModel",
            "_view_count": null,
            "_view_module": "@jupyter-widgets/controls",
            "_view_module_version": "1.5.0",
            "_view_name": "HTMLView",
            "description": "",
            "description_tooltip": null,
            "layout": "IPY_MODEL_27dffe8364d446119f341acb80d86236",
            "placeholder": "​",
            "style": "IPY_MODEL_d67ab85f132a48fb81e0e59e06d1e43d",
            "value": "adapter_model.safetensors: 100%"
          }
        },
        "0df0dc743a7a405b97d7fe217682ecae": {
          "model_module": "@jupyter-widgets/controls",
          "model_name": "FloatProgressModel",
          "model_module_version": "1.5.0",
          "state": {
            "_dom_classes": [],
            "_model_module": "@jupyter-widgets/controls",
            "_model_module_version": "1.5.0",
            "_model_name": "FloatProgressModel",
            "_view_count": null,
            "_view_module": "@jupyter-widgets/controls",
            "_view_module_version": "1.5.0",
            "_view_name": "ProgressView",
            "bar_style": "success",
            "description": "",
            "description_tooltip": null,
            "layout": "IPY_MODEL_89c3995ca6bf4386a45bd3b00efdb4bb",
            "max": 1866560416,
            "min": 0,
            "orientation": "horizontal",
            "style": "IPY_MODEL_ba37cd5d300c4a1d94d9b174fa4d9079",
            "value": 1866560416
          }
        },
        "da7efcbb5aa447b0ac3f2d950bbadb11": {
          "model_module": "@jupyter-widgets/controls",
          "model_name": "HTMLModel",
          "model_module_version": "1.5.0",
          "state": {
            "_dom_classes": [],
            "_model_module": "@jupyter-widgets/controls",
            "_model_module_version": "1.5.0",
            "_model_name": "HTMLModel",
            "_view_count": null,
            "_view_module": "@jupyter-widgets/controls",
            "_view_module_version": "1.5.0",
            "_view_name": "HTMLView",
            "description": "",
            "description_tooltip": null,
            "layout": "IPY_MODEL_1f7cd837d485459b9009e127d5a079ae",
            "placeholder": "​",
            "style": "IPY_MODEL_6e0b8464140e42d8b2e69f39160cdbc9",
            "value": " 1.87G/1.87G [00:43&lt;00:00, 42.1MB/s]"
          }
        },
        "707c0b66c05f444790df34bb059362fd": {
          "model_module": "@jupyter-widgets/base",
          "model_name": "LayoutModel",
          "model_module_version": "1.2.0",
          "state": {
            "_model_module": "@jupyter-widgets/base",
            "_model_module_version": "1.2.0",
            "_model_name": "LayoutModel",
            "_view_count": null,
            "_view_module": "@jupyter-widgets/base",
            "_view_module_version": "1.2.0",
            "_view_name": "LayoutView",
            "align_content": null,
            "align_items": null,
            "align_self": null,
            "border": null,
            "bottom": null,
            "display": null,
            "flex": null,
            "flex_flow": null,
            "grid_area": null,
            "grid_auto_columns": null,
            "grid_auto_flow": null,
            "grid_auto_rows": null,
            "grid_column": null,
            "grid_gap": null,
            "grid_row": null,
            "grid_template_areas": null,
            "grid_template_columns": null,
            "grid_template_rows": null,
            "height": null,
            "justify_content": null,
            "justify_items": null,
            "left": null,
            "margin": null,
            "max_height": null,
            "max_width": null,
            "min_height": null,
            "min_width": null,
            "object_fit": null,
            "object_position": null,
            "order": null,
            "overflow": null,
            "overflow_x": null,
            "overflow_y": null,
            "padding": null,
            "right": null,
            "top": null,
            "visibility": null,
            "width": null
          }
        },
        "27dffe8364d446119f341acb80d86236": {
          "model_module": "@jupyter-widgets/base",
          "model_name": "LayoutModel",
          "model_module_version": "1.2.0",
          "state": {
            "_model_module": "@jupyter-widgets/base",
            "_model_module_version": "1.2.0",
            "_model_name": "LayoutModel",
            "_view_count": null,
            "_view_module": "@jupyter-widgets/base",
            "_view_module_version": "1.2.0",
            "_view_name": "LayoutView",
            "align_content": null,
            "align_items": null,
            "align_self": null,
            "border": null,
            "bottom": null,
            "display": null,
            "flex": null,
            "flex_flow": null,
            "grid_area": null,
            "grid_auto_columns": null,
            "grid_auto_flow": null,
            "grid_auto_rows": null,
            "grid_column": null,
            "grid_gap": null,
            "grid_row": null,
            "grid_template_areas": null,
            "grid_template_columns": null,
            "grid_template_rows": null,
            "height": null,
            "justify_content": null,
            "justify_items": null,
            "left": null,
            "margin": null,
            "max_height": null,
            "max_width": null,
            "min_height": null,
            "min_width": null,
            "object_fit": null,
            "object_position": null,
            "order": null,
            "overflow": null,
            "overflow_x": null,
            "overflow_y": null,
            "padding": null,
            "right": null,
            "top": null,
            "visibility": null,
            "width": null
          }
        },
        "d67ab85f132a48fb81e0e59e06d1e43d": {
          "model_module": "@jupyter-widgets/controls",
          "model_name": "DescriptionStyleModel",
          "model_module_version": "1.5.0",
          "state": {
            "_model_module": "@jupyter-widgets/controls",
            "_model_module_version": "1.5.0",
            "_model_name": "DescriptionStyleModel",
            "_view_count": null,
            "_view_module": "@jupyter-widgets/base",
            "_view_module_version": "1.2.0",
            "_view_name": "StyleView",
            "description_width": ""
          }
        },
        "89c3995ca6bf4386a45bd3b00efdb4bb": {
          "model_module": "@jupyter-widgets/base",
          "model_name": "LayoutModel",
          "model_module_version": "1.2.0",
          "state": {
            "_model_module": "@jupyter-widgets/base",
            "_model_module_version": "1.2.0",
            "_model_name": "LayoutModel",
            "_view_count": null,
            "_view_module": "@jupyter-widgets/base",
            "_view_module_version": "1.2.0",
            "_view_name": "LayoutView",
            "align_content": null,
            "align_items": null,
            "align_self": null,
            "border": null,
            "bottom": null,
            "display": null,
            "flex": null,
            "flex_flow": null,
            "grid_area": null,
            "grid_auto_columns": null,
            "grid_auto_flow": null,
            "grid_auto_rows": null,
            "grid_column": null,
            "grid_gap": null,
            "grid_row": null,
            "grid_template_areas": null,
            "grid_template_columns": null,
            "grid_template_rows": null,
            "height": null,
            "justify_content": null,
            "justify_items": null,
            "left": null,
            "margin": null,
            "max_height": null,
            "max_width": null,
            "min_height": null,
            "min_width": null,
            "object_fit": null,
            "object_position": null,
            "order": null,
            "overflow": null,
            "overflow_x": null,
            "overflow_y": null,
            "padding": null,
            "right": null,
            "top": null,
            "visibility": null,
            "width": null
          }
        },
        "ba37cd5d300c4a1d94d9b174fa4d9079": {
          "model_module": "@jupyter-widgets/controls",
          "model_name": "ProgressStyleModel",
          "model_module_version": "1.5.0",
          "state": {
            "_model_module": "@jupyter-widgets/controls",
            "_model_module_version": "1.5.0",
            "_model_name": "ProgressStyleModel",
            "_view_count": null,
            "_view_module": "@jupyter-widgets/base",
            "_view_module_version": "1.2.0",
            "_view_name": "StyleView",
            "bar_color": null,
            "description_width": ""
          }
        },
        "1f7cd837d485459b9009e127d5a079ae": {
          "model_module": "@jupyter-widgets/base",
          "model_name": "LayoutModel",
          "model_module_version": "1.2.0",
          "state": {
            "_model_module": "@jupyter-widgets/base",
            "_model_module_version": "1.2.0",
            "_model_name": "LayoutModel",
            "_view_count": null,
            "_view_module": "@jupyter-widgets/base",
            "_view_module_version": "1.2.0",
            "_view_name": "LayoutView",
            "align_content": null,
            "align_items": null,
            "align_self": null,
            "border": null,
            "bottom": null,
            "display": null,
            "flex": null,
            "flex_flow": null,
            "grid_area": null,
            "grid_auto_columns": null,
            "grid_auto_flow": null,
            "grid_auto_rows": null,
            "grid_column": null,
            "grid_gap": null,
            "grid_row": null,
            "grid_template_areas": null,
            "grid_template_columns": null,
            "grid_template_rows": null,
            "height": null,
            "justify_content": null,
            "justify_items": null,
            "left": null,
            "margin": null,
            "max_height": null,
            "max_width": null,
            "min_height": null,
            "min_width": null,
            "object_fit": null,
            "object_position": null,
            "order": null,
            "overflow": null,
            "overflow_x": null,
            "overflow_y": null,
            "padding": null,
            "right": null,
            "top": null,
            "visibility": null,
            "width": null
          }
        },
        "6e0b8464140e42d8b2e69f39160cdbc9": {
          "model_module": "@jupyter-widgets/controls",
          "model_name": "DescriptionStyleModel",
          "model_module_version": "1.5.0",
          "state": {
            "_model_module": "@jupyter-widgets/controls",
            "_model_module_version": "1.5.0",
            "_model_name": "DescriptionStyleModel",
            "_view_count": null,
            "_view_module": "@jupyter-widgets/base",
            "_view_module_version": "1.2.0",
            "_view_name": "StyleView",
            "description_width": ""
          }
        },
        "dba45a305b5e4e46acb1df9c2f5615e6": {
          "model_module": "@jupyter-widgets/controls",
          "model_name": "HBoxModel",
          "model_module_version": "1.5.0",
          "state": {
            "_dom_classes": [],
            "_model_module": "@jupyter-widgets/controls",
            "_model_module_version": "1.5.0",
            "_model_name": "HBoxModel",
            "_view_count": null,
            "_view_module": "@jupyter-widgets/controls",
            "_view_module_version": "1.5.0",
            "_view_name": "HBoxView",
            "box_style": "",
            "children": [
              "IPY_MODEL_6910705e6d8648edbf42599fa4c075dd",
              "IPY_MODEL_c181e5d4b81b45ab9ad7dc516f3b0ba9",
              "IPY_MODEL_09151d8718ca48bf8fa929493d67d983"
            ],
            "layout": "IPY_MODEL_2bd6eed853dc42dfa574d8895e3b2a2f"
          }
        },
        "6910705e6d8648edbf42599fa4c075dd": {
          "model_module": "@jupyter-widgets/controls",
          "model_name": "HTMLModel",
          "model_module_version": "1.5.0",
          "state": {
            "_dom_classes": [],
            "_model_module": "@jupyter-widgets/controls",
            "_model_module_version": "1.5.0",
            "_model_name": "HTMLModel",
            "_view_count": null,
            "_view_module": "@jupyter-widgets/controls",
            "_view_module_version": "1.5.0",
            "_view_name": "HTMLView",
            "description": "",
            "description_tooltip": null,
            "layout": "IPY_MODEL_53a2ccce4eb04c72b729fb0b7d7c66cd",
            "placeholder": "​",
            "style": "IPY_MODEL_9dd7722de8ce4fd8a7d2c48bf59b6f18",
            "value": "config.json: 100%"
          }
        },
        "c181e5d4b81b45ab9ad7dc516f3b0ba9": {
          "model_module": "@jupyter-widgets/controls",
          "model_name": "FloatProgressModel",
          "model_module_version": "1.5.0",
          "state": {
            "_dom_classes": [],
            "_model_module": "@jupyter-widgets/controls",
            "_model_module_version": "1.5.0",
            "_model_name": "FloatProgressModel",
            "_view_count": null,
            "_view_module": "@jupyter-widgets/controls",
            "_view_module_version": "1.5.0",
            "_view_name": "ProgressView",
            "bar_style": "success",
            "description": "",
            "description_tooltip": null,
            "layout": "IPY_MODEL_e38c3505cdde447fab623cc92a5bf49e",
            "max": 571,
            "min": 0,
            "orientation": "horizontal",
            "style": "IPY_MODEL_2e6295f65bb044f88af4e5087b6722b8",
            "value": 571
          }
        },
        "09151d8718ca48bf8fa929493d67d983": {
          "model_module": "@jupyter-widgets/controls",
          "model_name": "HTMLModel",
          "model_module_version": "1.5.0",
          "state": {
            "_dom_classes": [],
            "_model_module": "@jupyter-widgets/controls",
            "_model_module_version": "1.5.0",
            "_model_name": "HTMLModel",
            "_view_count": null,
            "_view_module": "@jupyter-widgets/controls",
            "_view_module_version": "1.5.0",
            "_view_name": "HTMLView",
            "description": "",
            "description_tooltip": null,
            "layout": "IPY_MODEL_edab637c3fea4b6cacbde6524376cc83",
            "placeholder": "​",
            "style": "IPY_MODEL_a493a1e5962044ae8b90e5c535d67e57",
            "value": " 571/571 [00:00&lt;00:00, 51.8kB/s]"
          }
        },
        "2bd6eed853dc42dfa574d8895e3b2a2f": {
          "model_module": "@jupyter-widgets/base",
          "model_name": "LayoutModel",
          "model_module_version": "1.2.0",
          "state": {
            "_model_module": "@jupyter-widgets/base",
            "_model_module_version": "1.2.0",
            "_model_name": "LayoutModel",
            "_view_count": null,
            "_view_module": "@jupyter-widgets/base",
            "_view_module_version": "1.2.0",
            "_view_name": "LayoutView",
            "align_content": null,
            "align_items": null,
            "align_self": null,
            "border": null,
            "bottom": null,
            "display": null,
            "flex": null,
            "flex_flow": null,
            "grid_area": null,
            "grid_auto_columns": null,
            "grid_auto_flow": null,
            "grid_auto_rows": null,
            "grid_column": null,
            "grid_gap": null,
            "grid_row": null,
            "grid_template_areas": null,
            "grid_template_columns": null,
            "grid_template_rows": null,
            "height": null,
            "justify_content": null,
            "justify_items": null,
            "left": null,
            "margin": null,
            "max_height": null,
            "max_width": null,
            "min_height": null,
            "min_width": null,
            "object_fit": null,
            "object_position": null,
            "order": null,
            "overflow": null,
            "overflow_x": null,
            "overflow_y": null,
            "padding": null,
            "right": null,
            "top": null,
            "visibility": null,
            "width": null
          }
        },
        "53a2ccce4eb04c72b729fb0b7d7c66cd": {
          "model_module": "@jupyter-widgets/base",
          "model_name": "LayoutModel",
          "model_module_version": "1.2.0",
          "state": {
            "_model_module": "@jupyter-widgets/base",
            "_model_module_version": "1.2.0",
            "_model_name": "LayoutModel",
            "_view_count": null,
            "_view_module": "@jupyter-widgets/base",
            "_view_module_version": "1.2.0",
            "_view_name": "LayoutView",
            "align_content": null,
            "align_items": null,
            "align_self": null,
            "border": null,
            "bottom": null,
            "display": null,
            "flex": null,
            "flex_flow": null,
            "grid_area": null,
            "grid_auto_columns": null,
            "grid_auto_flow": null,
            "grid_auto_rows": null,
            "grid_column": null,
            "grid_gap": null,
            "grid_row": null,
            "grid_template_areas": null,
            "grid_template_columns": null,
            "grid_template_rows": null,
            "height": null,
            "justify_content": null,
            "justify_items": null,
            "left": null,
            "margin": null,
            "max_height": null,
            "max_width": null,
            "min_height": null,
            "min_width": null,
            "object_fit": null,
            "object_position": null,
            "order": null,
            "overflow": null,
            "overflow_x": null,
            "overflow_y": null,
            "padding": null,
            "right": null,
            "top": null,
            "visibility": null,
            "width": null
          }
        },
        "9dd7722de8ce4fd8a7d2c48bf59b6f18": {
          "model_module": "@jupyter-widgets/controls",
          "model_name": "DescriptionStyleModel",
          "model_module_version": "1.5.0",
          "state": {
            "_model_module": "@jupyter-widgets/controls",
            "_model_module_version": "1.5.0",
            "_model_name": "DescriptionStyleModel",
            "_view_count": null,
            "_view_module": "@jupyter-widgets/base",
            "_view_module_version": "1.2.0",
            "_view_name": "StyleView",
            "description_width": ""
          }
        },
        "e38c3505cdde447fab623cc92a5bf49e": {
          "model_module": "@jupyter-widgets/base",
          "model_name": "LayoutModel",
          "model_module_version": "1.2.0",
          "state": {
            "_model_module": "@jupyter-widgets/base",
            "_model_module_version": "1.2.0",
            "_model_name": "LayoutModel",
            "_view_count": null,
            "_view_module": "@jupyter-widgets/base",
            "_view_module_version": "1.2.0",
            "_view_name": "LayoutView",
            "align_content": null,
            "align_items": null,
            "align_self": null,
            "border": null,
            "bottom": null,
            "display": null,
            "flex": null,
            "flex_flow": null,
            "grid_area": null,
            "grid_auto_columns": null,
            "grid_auto_flow": null,
            "grid_auto_rows": null,
            "grid_column": null,
            "grid_gap": null,
            "grid_row": null,
            "grid_template_areas": null,
            "grid_template_columns": null,
            "grid_template_rows": null,
            "height": null,
            "justify_content": null,
            "justify_items": null,
            "left": null,
            "margin": null,
            "max_height": null,
            "max_width": null,
            "min_height": null,
            "min_width": null,
            "object_fit": null,
            "object_position": null,
            "order": null,
            "overflow": null,
            "overflow_x": null,
            "overflow_y": null,
            "padding": null,
            "right": null,
            "top": null,
            "visibility": null,
            "width": null
          }
        },
        "2e6295f65bb044f88af4e5087b6722b8": {
          "model_module": "@jupyter-widgets/controls",
          "model_name": "ProgressStyleModel",
          "model_module_version": "1.5.0",
          "state": {
            "_model_module": "@jupyter-widgets/controls",
            "_model_module_version": "1.5.0",
            "_model_name": "ProgressStyleModel",
            "_view_count": null,
            "_view_module": "@jupyter-widgets/base",
            "_view_module_version": "1.2.0",
            "_view_name": "StyleView",
            "bar_color": null,
            "description_width": ""
          }
        },
        "edab637c3fea4b6cacbde6524376cc83": {
          "model_module": "@jupyter-widgets/base",
          "model_name": "LayoutModel",
          "model_module_version": "1.2.0",
          "state": {
            "_model_module": "@jupyter-widgets/base",
            "_model_module_version": "1.2.0",
            "_model_name": "LayoutModel",
            "_view_count": null,
            "_view_module": "@jupyter-widgets/base",
            "_view_module_version": "1.2.0",
            "_view_name": "LayoutView",
            "align_content": null,
            "align_items": null,
            "align_self": null,
            "border": null,
            "bottom": null,
            "display": null,
            "flex": null,
            "flex_flow": null,
            "grid_area": null,
            "grid_auto_columns": null,
            "grid_auto_flow": null,
            "grid_auto_rows": null,
            "grid_column": null,
            "grid_gap": null,
            "grid_row": null,
            "grid_template_areas": null,
            "grid_template_columns": null,
            "grid_template_rows": null,
            "height": null,
            "justify_content": null,
            "justify_items": null,
            "left": null,
            "margin": null,
            "max_height": null,
            "max_width": null,
            "min_height": null,
            "min_width": null,
            "object_fit": null,
            "object_position": null,
            "order": null,
            "overflow": null,
            "overflow_x": null,
            "overflow_y": null,
            "padding": null,
            "right": null,
            "top": null,
            "visibility": null,
            "width": null
          }
        },
        "a493a1e5962044ae8b90e5c535d67e57": {
          "model_module": "@jupyter-widgets/controls",
          "model_name": "DescriptionStyleModel",
          "model_module_version": "1.5.0",
          "state": {
            "_model_module": "@jupyter-widgets/controls",
            "_model_module_version": "1.5.0",
            "_model_name": "DescriptionStyleModel",
            "_view_count": null,
            "_view_module": "@jupyter-widgets/base",
            "_view_module_version": "1.2.0",
            "_view_name": "StyleView",
            "description_width": ""
          }
        },
        "df64c7ab2fce49648750f9f391833b17": {
          "model_module": "@jupyter-widgets/controls",
          "model_name": "HBoxModel",
          "model_module_version": "1.5.0",
          "state": {
            "_dom_classes": [],
            "_model_module": "@jupyter-widgets/controls",
            "_model_module_version": "1.5.0",
            "_model_name": "HBoxModel",
            "_view_count": null,
            "_view_module": "@jupyter-widgets/controls",
            "_view_module_version": "1.5.0",
            "_view_name": "HBoxView",
            "box_style": "",
            "children": [
              "IPY_MODEL_a9f82ad7520348b4a7f6e51d1d57929e",
              "IPY_MODEL_e2078f7f2f0647e89ca2443b46ba3bb3",
              "IPY_MODEL_2d573e43ec0f4a15b5de6db00553d0c8"
            ],
            "layout": "IPY_MODEL_9a1e9cc0ea304115b766a8de04acbafc"
          }
        },
        "a9f82ad7520348b4a7f6e51d1d57929e": {
          "model_module": "@jupyter-widgets/controls",
          "model_name": "HTMLModel",
          "model_module_version": "1.5.0",
          "state": {
            "_dom_classes": [],
            "_model_module": "@jupyter-widgets/controls",
            "_model_module_version": "1.5.0",
            "_model_name": "HTMLModel",
            "_view_count": null,
            "_view_module": "@jupyter-widgets/controls",
            "_view_module_version": "1.5.0",
            "_view_name": "HTMLView",
            "description": "",
            "description_tooltip": null,
            "layout": "IPY_MODEL_3149c8a09587424789fe47a63f92e43f",
            "placeholder": "​",
            "style": "IPY_MODEL_e026453043c040cfb109ebc0f9d83230",
            "value": "model.safetensors: 100%"
          }
        },
        "e2078f7f2f0647e89ca2443b46ba3bb3": {
          "model_module": "@jupyter-widgets/controls",
          "model_name": "FloatProgressModel",
          "model_module_version": "1.5.0",
          "state": {
            "_dom_classes": [],
            "_model_module": "@jupyter-widgets/controls",
            "_model_module_version": "1.5.0",
            "_model_name": "FloatProgressModel",
            "_view_count": null,
            "_view_module": "@jupyter-widgets/controls",
            "_view_module_version": "1.5.0",
            "_view_name": "ProgressView",
            "bar_style": "success",
            "description": "",
            "description_tooltip": null,
            "layout": "IPY_MODEL_14ab425dcdd14bebb0e1e2c2f86c6690",
            "max": 437971872,
            "min": 0,
            "orientation": "horizontal",
            "style": "IPY_MODEL_dc98ba5d61404fe88c5cc167e15d0906",
            "value": 437971872
          }
        },
        "2d573e43ec0f4a15b5de6db00553d0c8": {
          "model_module": "@jupyter-widgets/controls",
          "model_name": "HTMLModel",
          "model_module_version": "1.5.0",
          "state": {
            "_dom_classes": [],
            "_model_module": "@jupyter-widgets/controls",
            "_model_module_version": "1.5.0",
            "_model_name": "HTMLModel",
            "_view_count": null,
            "_view_module": "@jupyter-widgets/controls",
            "_view_module_version": "1.5.0",
            "_view_name": "HTMLView",
            "description": "",
            "description_tooltip": null,
            "layout": "IPY_MODEL_54b953b83851448c99379ac5d37d73ab",
            "placeholder": "​",
            "style": "IPY_MODEL_1314b046bcd242c683fe18daf47b1c5b",
            "value": " 438M/438M [00:11&lt;00:00, 33.4MB/s]"
          }
        },
        "9a1e9cc0ea304115b766a8de04acbafc": {
          "model_module": "@jupyter-widgets/base",
          "model_name": "LayoutModel",
          "model_module_version": "1.2.0",
          "state": {
            "_model_module": "@jupyter-widgets/base",
            "_model_module_version": "1.2.0",
            "_model_name": "LayoutModel",
            "_view_count": null,
            "_view_module": "@jupyter-widgets/base",
            "_view_module_version": "1.2.0",
            "_view_name": "LayoutView",
            "align_content": null,
            "align_items": null,
            "align_self": null,
            "border": null,
            "bottom": null,
            "display": null,
            "flex": null,
            "flex_flow": null,
            "grid_area": null,
            "grid_auto_columns": null,
            "grid_auto_flow": null,
            "grid_auto_rows": null,
            "grid_column": null,
            "grid_gap": null,
            "grid_row": null,
            "grid_template_areas": null,
            "grid_template_columns": null,
            "grid_template_rows": null,
            "height": null,
            "justify_content": null,
            "justify_items": null,
            "left": null,
            "margin": null,
            "max_height": null,
            "max_width": null,
            "min_height": null,
            "min_width": null,
            "object_fit": null,
            "object_position": null,
            "order": null,
            "overflow": null,
            "overflow_x": null,
            "overflow_y": null,
            "padding": null,
            "right": null,
            "top": null,
            "visibility": null,
            "width": null
          }
        },
        "3149c8a09587424789fe47a63f92e43f": {
          "model_module": "@jupyter-widgets/base",
          "model_name": "LayoutModel",
          "model_module_version": "1.2.0",
          "state": {
            "_model_module": "@jupyter-widgets/base",
            "_model_module_version": "1.2.0",
            "_model_name": "LayoutModel",
            "_view_count": null,
            "_view_module": "@jupyter-widgets/base",
            "_view_module_version": "1.2.0",
            "_view_name": "LayoutView",
            "align_content": null,
            "align_items": null,
            "align_self": null,
            "border": null,
            "bottom": null,
            "display": null,
            "flex": null,
            "flex_flow": null,
            "grid_area": null,
            "grid_auto_columns": null,
            "grid_auto_flow": null,
            "grid_auto_rows": null,
            "grid_column": null,
            "grid_gap": null,
            "grid_row": null,
            "grid_template_areas": null,
            "grid_template_columns": null,
            "grid_template_rows": null,
            "height": null,
            "justify_content": null,
            "justify_items": null,
            "left": null,
            "margin": null,
            "max_height": null,
            "max_width": null,
            "min_height": null,
            "min_width": null,
            "object_fit": null,
            "object_position": null,
            "order": null,
            "overflow": null,
            "overflow_x": null,
            "overflow_y": null,
            "padding": null,
            "right": null,
            "top": null,
            "visibility": null,
            "width": null
          }
        },
        "e026453043c040cfb109ebc0f9d83230": {
          "model_module": "@jupyter-widgets/controls",
          "model_name": "DescriptionStyleModel",
          "model_module_version": "1.5.0",
          "state": {
            "_model_module": "@jupyter-widgets/controls",
            "_model_module_version": "1.5.0",
            "_model_name": "DescriptionStyleModel",
            "_view_count": null,
            "_view_module": "@jupyter-widgets/base",
            "_view_module_version": "1.2.0",
            "_view_name": "StyleView",
            "description_width": ""
          }
        },
        "14ab425dcdd14bebb0e1e2c2f86c6690": {
          "model_module": "@jupyter-widgets/base",
          "model_name": "LayoutModel",
          "model_module_version": "1.2.0",
          "state": {
            "_model_module": "@jupyter-widgets/base",
            "_model_module_version": "1.2.0",
            "_model_name": "LayoutModel",
            "_view_count": null,
            "_view_module": "@jupyter-widgets/base",
            "_view_module_version": "1.2.0",
            "_view_name": "LayoutView",
            "align_content": null,
            "align_items": null,
            "align_self": null,
            "border": null,
            "bottom": null,
            "display": null,
            "flex": null,
            "flex_flow": null,
            "grid_area": null,
            "grid_auto_columns": null,
            "grid_auto_flow": null,
            "grid_auto_rows": null,
            "grid_column": null,
            "grid_gap": null,
            "grid_row": null,
            "grid_template_areas": null,
            "grid_template_columns": null,
            "grid_template_rows": null,
            "height": null,
            "justify_content": null,
            "justify_items": null,
            "left": null,
            "margin": null,
            "max_height": null,
            "max_width": null,
            "min_height": null,
            "min_width": null,
            "object_fit": null,
            "object_position": null,
            "order": null,
            "overflow": null,
            "overflow_x": null,
            "overflow_y": null,
            "padding": null,
            "right": null,
            "top": null,
            "visibility": null,
            "width": null
          }
        },
        "dc98ba5d61404fe88c5cc167e15d0906": {
          "model_module": "@jupyter-widgets/controls",
          "model_name": "ProgressStyleModel",
          "model_module_version": "1.5.0",
          "state": {
            "_model_module": "@jupyter-widgets/controls",
            "_model_module_version": "1.5.0",
            "_model_name": "ProgressStyleModel",
            "_view_count": null,
            "_view_module": "@jupyter-widgets/base",
            "_view_module_version": "1.2.0",
            "_view_name": "StyleView",
            "bar_color": null,
            "description_width": ""
          }
        },
        "54b953b83851448c99379ac5d37d73ab": {
          "model_module": "@jupyter-widgets/base",
          "model_name": "LayoutModel",
          "model_module_version": "1.2.0",
          "state": {
            "_model_module": "@jupyter-widgets/base",
            "_model_module_version": "1.2.0",
            "_model_name": "LayoutModel",
            "_view_count": null,
            "_view_module": "@jupyter-widgets/base",
            "_view_module_version": "1.2.0",
            "_view_name": "LayoutView",
            "align_content": null,
            "align_items": null,
            "align_self": null,
            "border": null,
            "bottom": null,
            "display": null,
            "flex": null,
            "flex_flow": null,
            "grid_area": null,
            "grid_auto_columns": null,
            "grid_auto_flow": null,
            "grid_auto_rows": null,
            "grid_column": null,
            "grid_gap": null,
            "grid_row": null,
            "grid_template_areas": null,
            "grid_template_columns": null,
            "grid_template_rows": null,
            "height": null,
            "justify_content": null,
            "justify_items": null,
            "left": null,
            "margin": null,
            "max_height": null,
            "max_width": null,
            "min_height": null,
            "min_width": null,
            "object_fit": null,
            "object_position": null,
            "order": null,
            "overflow": null,
            "overflow_x": null,
            "overflow_y": null,
            "padding": null,
            "right": null,
            "top": null,
            "visibility": null,
            "width": null
          }
        },
        "1314b046bcd242c683fe18daf47b1c5b": {
          "model_module": "@jupyter-widgets/controls",
          "model_name": "DescriptionStyleModel",
          "model_module_version": "1.5.0",
          "state": {
            "_model_module": "@jupyter-widgets/controls",
            "_model_module_version": "1.5.0",
            "_model_name": "DescriptionStyleModel",
            "_view_count": null,
            "_view_module": "@jupyter-widgets/base",
            "_view_module_version": "1.2.0",
            "_view_name": "StyleView",
            "description_width": ""
          }
        },
        "6870bb825b4a4358b456ca257420071f": {
          "model_module": "@jupyter-widgets/controls",
          "model_name": "HBoxModel",
          "model_module_version": "1.5.0",
          "state": {
            "_dom_classes": [],
            "_model_module": "@jupyter-widgets/controls",
            "_model_module_version": "1.5.0",
            "_model_name": "HBoxModel",
            "_view_count": null,
            "_view_module": "@jupyter-widgets/controls",
            "_view_module_version": "1.5.0",
            "_view_name": "HBoxView",
            "box_style": "",
            "children": [
              "IPY_MODEL_5c3140fefb7a486397400e74c5aa2be4",
              "IPY_MODEL_7763d0b9d2e74e229ccc7a3a464d46d8",
              "IPY_MODEL_203102c926e347719c4f0d4603eb47c1"
            ],
            "layout": "IPY_MODEL_76902c53efe94e09a562eb1371c429ba"
          }
        },
        "5c3140fefb7a486397400e74c5aa2be4": {
          "model_module": "@jupyter-widgets/controls",
          "model_name": "HTMLModel",
          "model_module_version": "1.5.0",
          "state": {
            "_dom_classes": [],
            "_model_module": "@jupyter-widgets/controls",
            "_model_module_version": "1.5.0",
            "_model_name": "HTMLModel",
            "_view_count": null,
            "_view_module": "@jupyter-widgets/controls",
            "_view_module_version": "1.5.0",
            "_view_name": "HTMLView",
            "description": "",
            "description_tooltip": null,
            "layout": "IPY_MODEL_5e830badc98b4808b839d0bb3cefa26e",
            "placeholder": "​",
            "style": "IPY_MODEL_19d2b051efa04597b2dbf1e4729b5dc4",
            "value": "tokenizer_config.json: 100%"
          }
        },
        "7763d0b9d2e74e229ccc7a3a464d46d8": {
          "model_module": "@jupyter-widgets/controls",
          "model_name": "FloatProgressModel",
          "model_module_version": "1.5.0",
          "state": {
            "_dom_classes": [],
            "_model_module": "@jupyter-widgets/controls",
            "_model_module_version": "1.5.0",
            "_model_name": "FloatProgressModel",
            "_view_count": null,
            "_view_module": "@jupyter-widgets/controls",
            "_view_module_version": "1.5.0",
            "_view_name": "ProgressView",
            "bar_style": "success",
            "description": "",
            "description_tooltip": null,
            "layout": "IPY_MODEL_536278aee3904186b5e7ee4462ea8903",
            "max": 363,
            "min": 0,
            "orientation": "horizontal",
            "style": "IPY_MODEL_1355f04c6ab04d06b264e32c37279850",
            "value": 363
          }
        },
        "203102c926e347719c4f0d4603eb47c1": {
          "model_module": "@jupyter-widgets/controls",
          "model_name": "HTMLModel",
          "model_module_version": "1.5.0",
          "state": {
            "_dom_classes": [],
            "_model_module": "@jupyter-widgets/controls",
            "_model_module_version": "1.5.0",
            "_model_name": "HTMLModel",
            "_view_count": null,
            "_view_module": "@jupyter-widgets/controls",
            "_view_module_version": "1.5.0",
            "_view_name": "HTMLView",
            "description": "",
            "description_tooltip": null,
            "layout": "IPY_MODEL_c870482e111b4200b7c32716b478aae3",
            "placeholder": "​",
            "style": "IPY_MODEL_f9c1e7841d1f4b3db90b7229ef5c51e0",
            "value": " 363/363 [00:00&lt;00:00, 27.5kB/s]"
          }
        },
        "76902c53efe94e09a562eb1371c429ba": {
          "model_module": "@jupyter-widgets/base",
          "model_name": "LayoutModel",
          "model_module_version": "1.2.0",
          "state": {
            "_model_module": "@jupyter-widgets/base",
            "_model_module_version": "1.2.0",
            "_model_name": "LayoutModel",
            "_view_count": null,
            "_view_module": "@jupyter-widgets/base",
            "_view_module_version": "1.2.0",
            "_view_name": "LayoutView",
            "align_content": null,
            "align_items": null,
            "align_self": null,
            "border": null,
            "bottom": null,
            "display": null,
            "flex": null,
            "flex_flow": null,
            "grid_area": null,
            "grid_auto_columns": null,
            "grid_auto_flow": null,
            "grid_auto_rows": null,
            "grid_column": null,
            "grid_gap": null,
            "grid_row": null,
            "grid_template_areas": null,
            "grid_template_columns": null,
            "grid_template_rows": null,
            "height": null,
            "justify_content": null,
            "justify_items": null,
            "left": null,
            "margin": null,
            "max_height": null,
            "max_width": null,
            "min_height": null,
            "min_width": null,
            "object_fit": null,
            "object_position": null,
            "order": null,
            "overflow": null,
            "overflow_x": null,
            "overflow_y": null,
            "padding": null,
            "right": null,
            "top": null,
            "visibility": null,
            "width": null
          }
        },
        "5e830badc98b4808b839d0bb3cefa26e": {
          "model_module": "@jupyter-widgets/base",
          "model_name": "LayoutModel",
          "model_module_version": "1.2.0",
          "state": {
            "_model_module": "@jupyter-widgets/base",
            "_model_module_version": "1.2.0",
            "_model_name": "LayoutModel",
            "_view_count": null,
            "_view_module": "@jupyter-widgets/base",
            "_view_module_version": "1.2.0",
            "_view_name": "LayoutView",
            "align_content": null,
            "align_items": null,
            "align_self": null,
            "border": null,
            "bottom": null,
            "display": null,
            "flex": null,
            "flex_flow": null,
            "grid_area": null,
            "grid_auto_columns": null,
            "grid_auto_flow": null,
            "grid_auto_rows": null,
            "grid_column": null,
            "grid_gap": null,
            "grid_row": null,
            "grid_template_areas": null,
            "grid_template_columns": null,
            "grid_template_rows": null,
            "height": null,
            "justify_content": null,
            "justify_items": null,
            "left": null,
            "margin": null,
            "max_height": null,
            "max_width": null,
            "min_height": null,
            "min_width": null,
            "object_fit": null,
            "object_position": null,
            "order": null,
            "overflow": null,
            "overflow_x": null,
            "overflow_y": null,
            "padding": null,
            "right": null,
            "top": null,
            "visibility": null,
            "width": null
          }
        },
        "19d2b051efa04597b2dbf1e4729b5dc4": {
          "model_module": "@jupyter-widgets/controls",
          "model_name": "DescriptionStyleModel",
          "model_module_version": "1.5.0",
          "state": {
            "_model_module": "@jupyter-widgets/controls",
            "_model_module_version": "1.5.0",
            "_model_name": "DescriptionStyleModel",
            "_view_count": null,
            "_view_module": "@jupyter-widgets/base",
            "_view_module_version": "1.2.0",
            "_view_name": "StyleView",
            "description_width": ""
          }
        },
        "536278aee3904186b5e7ee4462ea8903": {
          "model_module": "@jupyter-widgets/base",
          "model_name": "LayoutModel",
          "model_module_version": "1.2.0",
          "state": {
            "_model_module": "@jupyter-widgets/base",
            "_model_module_version": "1.2.0",
            "_model_name": "LayoutModel",
            "_view_count": null,
            "_view_module": "@jupyter-widgets/base",
            "_view_module_version": "1.2.0",
            "_view_name": "LayoutView",
            "align_content": null,
            "align_items": null,
            "align_self": null,
            "border": null,
            "bottom": null,
            "display": null,
            "flex": null,
            "flex_flow": null,
            "grid_area": null,
            "grid_auto_columns": null,
            "grid_auto_flow": null,
            "grid_auto_rows": null,
            "grid_column": null,
            "grid_gap": null,
            "grid_row": null,
            "grid_template_areas": null,
            "grid_template_columns": null,
            "grid_template_rows": null,
            "height": null,
            "justify_content": null,
            "justify_items": null,
            "left": null,
            "margin": null,
            "max_height": null,
            "max_width": null,
            "min_height": null,
            "min_width": null,
            "object_fit": null,
            "object_position": null,
            "order": null,
            "overflow": null,
            "overflow_x": null,
            "overflow_y": null,
            "padding": null,
            "right": null,
            "top": null,
            "visibility": null,
            "width": null
          }
        },
        "1355f04c6ab04d06b264e32c37279850": {
          "model_module": "@jupyter-widgets/controls",
          "model_name": "ProgressStyleModel",
          "model_module_version": "1.5.0",
          "state": {
            "_model_module": "@jupyter-widgets/controls",
            "_model_module_version": "1.5.0",
            "_model_name": "ProgressStyleModel",
            "_view_count": null,
            "_view_module": "@jupyter-widgets/base",
            "_view_module_version": "1.2.0",
            "_view_name": "StyleView",
            "bar_color": null,
            "description_width": ""
          }
        },
        "c870482e111b4200b7c32716b478aae3": {
          "model_module": "@jupyter-widgets/base",
          "model_name": "LayoutModel",
          "model_module_version": "1.2.0",
          "state": {
            "_model_module": "@jupyter-widgets/base",
            "_model_module_version": "1.2.0",
            "_model_name": "LayoutModel",
            "_view_count": null,
            "_view_module": "@jupyter-widgets/base",
            "_view_module_version": "1.2.0",
            "_view_name": "LayoutView",
            "align_content": null,
            "align_items": null,
            "align_self": null,
            "border": null,
            "bottom": null,
            "display": null,
            "flex": null,
            "flex_flow": null,
            "grid_area": null,
            "grid_auto_columns": null,
            "grid_auto_flow": null,
            "grid_auto_rows": null,
            "grid_column": null,
            "grid_gap": null,
            "grid_row": null,
            "grid_template_areas": null,
            "grid_template_columns": null,
            "grid_template_rows": null,
            "height": null,
            "justify_content": null,
            "justify_items": null,
            "left": null,
            "margin": null,
            "max_height": null,
            "max_width": null,
            "min_height": null,
            "min_width": null,
            "object_fit": null,
            "object_position": null,
            "order": null,
            "overflow": null,
            "overflow_x": null,
            "overflow_y": null,
            "padding": null,
            "right": null,
            "top": null,
            "visibility": null,
            "width": null
          }
        },
        "f9c1e7841d1f4b3db90b7229ef5c51e0": {
          "model_module": "@jupyter-widgets/controls",
          "model_name": "DescriptionStyleModel",
          "model_module_version": "1.5.0",
          "state": {
            "_model_module": "@jupyter-widgets/controls",
            "_model_module_version": "1.5.0",
            "_model_name": "DescriptionStyleModel",
            "_view_count": null,
            "_view_module": "@jupyter-widgets/base",
            "_view_module_version": "1.2.0",
            "_view_name": "StyleView",
            "description_width": ""
          }
        },
        "1753b2ad63404b22a449ced4cc65b67e": {
          "model_module": "@jupyter-widgets/controls",
          "model_name": "HBoxModel",
          "model_module_version": "1.5.0",
          "state": {
            "_dom_classes": [],
            "_model_module": "@jupyter-widgets/controls",
            "_model_module_version": "1.5.0",
            "_model_name": "HBoxModel",
            "_view_count": null,
            "_view_module": "@jupyter-widgets/controls",
            "_view_module_version": "1.5.0",
            "_view_name": "HBoxView",
            "box_style": "",
            "children": [
              "IPY_MODEL_b64431d9c17441d3a7751fe4fbe95267",
              "IPY_MODEL_96ab5c50427e49269129d2194ed987d9",
              "IPY_MODEL_c02040cc33b7413a8c3d333b36a28ff6"
            ],
            "layout": "IPY_MODEL_76ef7e84988148a0bd052a62fc5a7050"
          }
        },
        "b64431d9c17441d3a7751fe4fbe95267": {
          "model_module": "@jupyter-widgets/controls",
          "model_name": "HTMLModel",
          "model_module_version": "1.5.0",
          "state": {
            "_dom_classes": [],
            "_model_module": "@jupyter-widgets/controls",
            "_model_module_version": "1.5.0",
            "_model_name": "HTMLModel",
            "_view_count": null,
            "_view_module": "@jupyter-widgets/controls",
            "_view_module_version": "1.5.0",
            "_view_name": "HTMLView",
            "description": "",
            "description_tooltip": null,
            "layout": "IPY_MODEL_283d6736694047ad9e54ba0eadbd1d17",
            "placeholder": "​",
            "style": "IPY_MODEL_fa0f49c8fd4a426286f56aab8aeece3f",
            "value": "vocab.txt: 100%"
          }
        },
        "96ab5c50427e49269129d2194ed987d9": {
          "model_module": "@jupyter-widgets/controls",
          "model_name": "FloatProgressModel",
          "model_module_version": "1.5.0",
          "state": {
            "_dom_classes": [],
            "_model_module": "@jupyter-widgets/controls",
            "_model_module_version": "1.5.0",
            "_model_name": "FloatProgressModel",
            "_view_count": null,
            "_view_module": "@jupyter-widgets/controls",
            "_view_module_version": "1.5.0",
            "_view_name": "ProgressView",
            "bar_style": "success",
            "description": "",
            "description_tooltip": null,
            "layout": "IPY_MODEL_f06bce45ac644432b7c0f133fbfc54f2",
            "max": 231536,
            "min": 0,
            "orientation": "horizontal",
            "style": "IPY_MODEL_81a00145b8974512bc283529d44de088",
            "value": 231536
          }
        },
        "c02040cc33b7413a8c3d333b36a28ff6": {
          "model_module": "@jupyter-widgets/controls",
          "model_name": "HTMLModel",
          "model_module_version": "1.5.0",
          "state": {
            "_dom_classes": [],
            "_model_module": "@jupyter-widgets/controls",
            "_model_module_version": "1.5.0",
            "_model_name": "HTMLModel",
            "_view_count": null,
            "_view_module": "@jupyter-widgets/controls",
            "_view_module_version": "1.5.0",
            "_view_name": "HTMLView",
            "description": "",
            "description_tooltip": null,
            "layout": "IPY_MODEL_aec3c620ca194e7f906ead228d82f330",
            "placeholder": "​",
            "style": "IPY_MODEL_01326ac9682c41739a072e9a12e7a1b1",
            "value": " 232k/232k [00:00&lt;00:00, 504kB/s]"
          }
        },
        "76ef7e84988148a0bd052a62fc5a7050": {
          "model_module": "@jupyter-widgets/base",
          "model_name": "LayoutModel",
          "model_module_version": "1.2.0",
          "state": {
            "_model_module": "@jupyter-widgets/base",
            "_model_module_version": "1.2.0",
            "_model_name": "LayoutModel",
            "_view_count": null,
            "_view_module": "@jupyter-widgets/base",
            "_view_module_version": "1.2.0",
            "_view_name": "LayoutView",
            "align_content": null,
            "align_items": null,
            "align_self": null,
            "border": null,
            "bottom": null,
            "display": null,
            "flex": null,
            "flex_flow": null,
            "grid_area": null,
            "grid_auto_columns": null,
            "grid_auto_flow": null,
            "grid_auto_rows": null,
            "grid_column": null,
            "grid_gap": null,
            "grid_row": null,
            "grid_template_areas": null,
            "grid_template_columns": null,
            "grid_template_rows": null,
            "height": null,
            "justify_content": null,
            "justify_items": null,
            "left": null,
            "margin": null,
            "max_height": null,
            "max_width": null,
            "min_height": null,
            "min_width": null,
            "object_fit": null,
            "object_position": null,
            "order": null,
            "overflow": null,
            "overflow_x": null,
            "overflow_y": null,
            "padding": null,
            "right": null,
            "top": null,
            "visibility": null,
            "width": null
          }
        },
        "283d6736694047ad9e54ba0eadbd1d17": {
          "model_module": "@jupyter-widgets/base",
          "model_name": "LayoutModel",
          "model_module_version": "1.2.0",
          "state": {
            "_model_module": "@jupyter-widgets/base",
            "_model_module_version": "1.2.0",
            "_model_name": "LayoutModel",
            "_view_count": null,
            "_view_module": "@jupyter-widgets/base",
            "_view_module_version": "1.2.0",
            "_view_name": "LayoutView",
            "align_content": null,
            "align_items": null,
            "align_self": null,
            "border": null,
            "bottom": null,
            "display": null,
            "flex": null,
            "flex_flow": null,
            "grid_area": null,
            "grid_auto_columns": null,
            "grid_auto_flow": null,
            "grid_auto_rows": null,
            "grid_column": null,
            "grid_gap": null,
            "grid_row": null,
            "grid_template_areas": null,
            "grid_template_columns": null,
            "grid_template_rows": null,
            "height": null,
            "justify_content": null,
            "justify_items": null,
            "left": null,
            "margin": null,
            "max_height": null,
            "max_width": null,
            "min_height": null,
            "min_width": null,
            "object_fit": null,
            "object_position": null,
            "order": null,
            "overflow": null,
            "overflow_x": null,
            "overflow_y": null,
            "padding": null,
            "right": null,
            "top": null,
            "visibility": null,
            "width": null
          }
        },
        "fa0f49c8fd4a426286f56aab8aeece3f": {
          "model_module": "@jupyter-widgets/controls",
          "model_name": "DescriptionStyleModel",
          "model_module_version": "1.5.0",
          "state": {
            "_model_module": "@jupyter-widgets/controls",
            "_model_module_version": "1.5.0",
            "_model_name": "DescriptionStyleModel",
            "_view_count": null,
            "_view_module": "@jupyter-widgets/base",
            "_view_module_version": "1.2.0",
            "_view_name": "StyleView",
            "description_width": ""
          }
        },
        "f06bce45ac644432b7c0f133fbfc54f2": {
          "model_module": "@jupyter-widgets/base",
          "model_name": "LayoutModel",
          "model_module_version": "1.2.0",
          "state": {
            "_model_module": "@jupyter-widgets/base",
            "_model_module_version": "1.2.0",
            "_model_name": "LayoutModel",
            "_view_count": null,
            "_view_module": "@jupyter-widgets/base",
            "_view_module_version": "1.2.0",
            "_view_name": "LayoutView",
            "align_content": null,
            "align_items": null,
            "align_self": null,
            "border": null,
            "bottom": null,
            "display": null,
            "flex": null,
            "flex_flow": null,
            "grid_area": null,
            "grid_auto_columns": null,
            "grid_auto_flow": null,
            "grid_auto_rows": null,
            "grid_column": null,
            "grid_gap": null,
            "grid_row": null,
            "grid_template_areas": null,
            "grid_template_columns": null,
            "grid_template_rows": null,
            "height": null,
            "justify_content": null,
            "justify_items": null,
            "left": null,
            "margin": null,
            "max_height": null,
            "max_width": null,
            "min_height": null,
            "min_width": null,
            "object_fit": null,
            "object_position": null,
            "order": null,
            "overflow": null,
            "overflow_x": null,
            "overflow_y": null,
            "padding": null,
            "right": null,
            "top": null,
            "visibility": null,
            "width": null
          }
        },
        "81a00145b8974512bc283529d44de088": {
          "model_module": "@jupyter-widgets/controls",
          "model_name": "ProgressStyleModel",
          "model_module_version": "1.5.0",
          "state": {
            "_model_module": "@jupyter-widgets/controls",
            "_model_module_version": "1.5.0",
            "_model_name": "ProgressStyleModel",
            "_view_count": null,
            "_view_module": "@jupyter-widgets/base",
            "_view_module_version": "1.2.0",
            "_view_name": "StyleView",
            "bar_color": null,
            "description_width": ""
          }
        },
        "aec3c620ca194e7f906ead228d82f330": {
          "model_module": "@jupyter-widgets/base",
          "model_name": "LayoutModel",
          "model_module_version": "1.2.0",
          "state": {
            "_model_module": "@jupyter-widgets/base",
            "_model_module_version": "1.2.0",
            "_model_name": "LayoutModel",
            "_view_count": null,
            "_view_module": "@jupyter-widgets/base",
            "_view_module_version": "1.2.0",
            "_view_name": "LayoutView",
            "align_content": null,
            "align_items": null,
            "align_self": null,
            "border": null,
            "bottom": null,
            "display": null,
            "flex": null,
            "flex_flow": null,
            "grid_area": null,
            "grid_auto_columns": null,
            "grid_auto_flow": null,
            "grid_auto_rows": null,
            "grid_column": null,
            "grid_gap": null,
            "grid_row": null,
            "grid_template_areas": null,
            "grid_template_columns": null,
            "grid_template_rows": null,
            "height": null,
            "justify_content": null,
            "justify_items": null,
            "left": null,
            "margin": null,
            "max_height": null,
            "max_width": null,
            "min_height": null,
            "min_width": null,
            "object_fit": null,
            "object_position": null,
            "order": null,
            "overflow": null,
            "overflow_x": null,
            "overflow_y": null,
            "padding": null,
            "right": null,
            "top": null,
            "visibility": null,
            "width": null
          }
        },
        "01326ac9682c41739a072e9a12e7a1b1": {
          "model_module": "@jupyter-widgets/controls",
          "model_name": "DescriptionStyleModel",
          "model_module_version": "1.5.0",
          "state": {
            "_model_module": "@jupyter-widgets/controls",
            "_model_module_version": "1.5.0",
            "_model_name": "DescriptionStyleModel",
            "_view_count": null,
            "_view_module": "@jupyter-widgets/base",
            "_view_module_version": "1.2.0",
            "_view_name": "StyleView",
            "description_width": ""
          }
        },
        "3676877b8c374ae093ce2688910890e6": {
          "model_module": "@jupyter-widgets/controls",
          "model_name": "HBoxModel",
          "model_module_version": "1.5.0",
          "state": {
            "_dom_classes": [],
            "_model_module": "@jupyter-widgets/controls",
            "_model_module_version": "1.5.0",
            "_model_name": "HBoxModel",
            "_view_count": null,
            "_view_module": "@jupyter-widgets/controls",
            "_view_module_version": "1.5.0",
            "_view_name": "HBoxView",
            "box_style": "",
            "children": [
              "IPY_MODEL_0c694bb2ae354499a92e0994ad9c7485",
              "IPY_MODEL_6a8eeacd50b74798bdef4df36220fc4a",
              "IPY_MODEL_b9ec8a92e8e141109df7a4b4dd2c439e"
            ],
            "layout": "IPY_MODEL_6ef3932970844f02b7957e6ac0cd85c6"
          }
        },
        "0c694bb2ae354499a92e0994ad9c7485": {
          "model_module": "@jupyter-widgets/controls",
          "model_name": "HTMLModel",
          "model_module_version": "1.5.0",
          "state": {
            "_dom_classes": [],
            "_model_module": "@jupyter-widgets/controls",
            "_model_module_version": "1.5.0",
            "_model_name": "HTMLModel",
            "_view_count": null,
            "_view_module": "@jupyter-widgets/controls",
            "_view_module_version": "1.5.0",
            "_view_name": "HTMLView",
            "description": "",
            "description_tooltip": null,
            "layout": "IPY_MODEL_429d27046ed3464ca093216f1163497e",
            "placeholder": "​",
            "style": "IPY_MODEL_805c8281fe1943bb95cb1c98fadfaa4b",
            "value": "tokenizer.json: 100%"
          }
        },
        "6a8eeacd50b74798bdef4df36220fc4a": {
          "model_module": "@jupyter-widgets/controls",
          "model_name": "FloatProgressModel",
          "model_module_version": "1.5.0",
          "state": {
            "_dom_classes": [],
            "_model_module": "@jupyter-widgets/controls",
            "_model_module_version": "1.5.0",
            "_model_name": "FloatProgressModel",
            "_view_count": null,
            "_view_module": "@jupyter-widgets/controls",
            "_view_module_version": "1.5.0",
            "_view_name": "ProgressView",
            "bar_style": "success",
            "description": "",
            "description_tooltip": null,
            "layout": "IPY_MODEL_c4a26afd901a45e7b5c33fd565be6c7e",
            "max": 466021,
            "min": 0,
            "orientation": "horizontal",
            "style": "IPY_MODEL_b5cf0aac58844b8d8ab5990c2832d100",
            "value": 466021
          }
        },
        "b9ec8a92e8e141109df7a4b4dd2c439e": {
          "model_module": "@jupyter-widgets/controls",
          "model_name": "HTMLModel",
          "model_module_version": "1.5.0",
          "state": {
            "_dom_classes": [],
            "_model_module": "@jupyter-widgets/controls",
            "_model_module_version": "1.5.0",
            "_model_name": "HTMLModel",
            "_view_count": null,
            "_view_module": "@jupyter-widgets/controls",
            "_view_module_version": "1.5.0",
            "_view_name": "HTMLView",
            "description": "",
            "description_tooltip": null,
            "layout": "IPY_MODEL_633cb19332ca42778ef05b5b09533184",
            "placeholder": "​",
            "style": "IPY_MODEL_56853d26035548018977ed897437b5c0",
            "value": " 466k/466k [00:01&lt;00:00, 444kB/s]"
          }
        },
        "6ef3932970844f02b7957e6ac0cd85c6": {
          "model_module": "@jupyter-widgets/base",
          "model_name": "LayoutModel",
          "model_module_version": "1.2.0",
          "state": {
            "_model_module": "@jupyter-widgets/base",
            "_model_module_version": "1.2.0",
            "_model_name": "LayoutModel",
            "_view_count": null,
            "_view_module": "@jupyter-widgets/base",
            "_view_module_version": "1.2.0",
            "_view_name": "LayoutView",
            "align_content": null,
            "align_items": null,
            "align_self": null,
            "border": null,
            "bottom": null,
            "display": null,
            "flex": null,
            "flex_flow": null,
            "grid_area": null,
            "grid_auto_columns": null,
            "grid_auto_flow": null,
            "grid_auto_rows": null,
            "grid_column": null,
            "grid_gap": null,
            "grid_row": null,
            "grid_template_areas": null,
            "grid_template_columns": null,
            "grid_template_rows": null,
            "height": null,
            "justify_content": null,
            "justify_items": null,
            "left": null,
            "margin": null,
            "max_height": null,
            "max_width": null,
            "min_height": null,
            "min_width": null,
            "object_fit": null,
            "object_position": null,
            "order": null,
            "overflow": null,
            "overflow_x": null,
            "overflow_y": null,
            "padding": null,
            "right": null,
            "top": null,
            "visibility": null,
            "width": null
          }
        },
        "429d27046ed3464ca093216f1163497e": {
          "model_module": "@jupyter-widgets/base",
          "model_name": "LayoutModel",
          "model_module_version": "1.2.0",
          "state": {
            "_model_module": "@jupyter-widgets/base",
            "_model_module_version": "1.2.0",
            "_model_name": "LayoutModel",
            "_view_count": null,
            "_view_module": "@jupyter-widgets/base",
            "_view_module_version": "1.2.0",
            "_view_name": "LayoutView",
            "align_content": null,
            "align_items": null,
            "align_self": null,
            "border": null,
            "bottom": null,
            "display": null,
            "flex": null,
            "flex_flow": null,
            "grid_area": null,
            "grid_auto_columns": null,
            "grid_auto_flow": null,
            "grid_auto_rows": null,
            "grid_column": null,
            "grid_gap": null,
            "grid_row": null,
            "grid_template_areas": null,
            "grid_template_columns": null,
            "grid_template_rows": null,
            "height": null,
            "justify_content": null,
            "justify_items": null,
            "left": null,
            "margin": null,
            "max_height": null,
            "max_width": null,
            "min_height": null,
            "min_width": null,
            "object_fit": null,
            "object_position": null,
            "order": null,
            "overflow": null,
            "overflow_x": null,
            "overflow_y": null,
            "padding": null,
            "right": null,
            "top": null,
            "visibility": null,
            "width": null
          }
        },
        "805c8281fe1943bb95cb1c98fadfaa4b": {
          "model_module": "@jupyter-widgets/controls",
          "model_name": "DescriptionStyleModel",
          "model_module_version": "1.5.0",
          "state": {
            "_model_module": "@jupyter-widgets/controls",
            "_model_module_version": "1.5.0",
            "_model_name": "DescriptionStyleModel",
            "_view_count": null,
            "_view_module": "@jupyter-widgets/base",
            "_view_module_version": "1.2.0",
            "_view_name": "StyleView",
            "description_width": ""
          }
        },
        "c4a26afd901a45e7b5c33fd565be6c7e": {
          "model_module": "@jupyter-widgets/base",
          "model_name": "LayoutModel",
          "model_module_version": "1.2.0",
          "state": {
            "_model_module": "@jupyter-widgets/base",
            "_model_module_version": "1.2.0",
            "_model_name": "LayoutModel",
            "_view_count": null,
            "_view_module": "@jupyter-widgets/base",
            "_view_module_version": "1.2.0",
            "_view_name": "LayoutView",
            "align_content": null,
            "align_items": null,
            "align_self": null,
            "border": null,
            "bottom": null,
            "display": null,
            "flex": null,
            "flex_flow": null,
            "grid_area": null,
            "grid_auto_columns": null,
            "grid_auto_flow": null,
            "grid_auto_rows": null,
            "grid_column": null,
            "grid_gap": null,
            "grid_row": null,
            "grid_template_areas": null,
            "grid_template_columns": null,
            "grid_template_rows": null,
            "height": null,
            "justify_content": null,
            "justify_items": null,
            "left": null,
            "margin": null,
            "max_height": null,
            "max_width": null,
            "min_height": null,
            "min_width": null,
            "object_fit": null,
            "object_position": null,
            "order": null,
            "overflow": null,
            "overflow_x": null,
            "overflow_y": null,
            "padding": null,
            "right": null,
            "top": null,
            "visibility": null,
            "width": null
          }
        },
        "b5cf0aac58844b8d8ab5990c2832d100": {
          "model_module": "@jupyter-widgets/controls",
          "model_name": "ProgressStyleModel",
          "model_module_version": "1.5.0",
          "state": {
            "_model_module": "@jupyter-widgets/controls",
            "_model_module_version": "1.5.0",
            "_model_name": "ProgressStyleModel",
            "_view_count": null,
            "_view_module": "@jupyter-widgets/base",
            "_view_module_version": "1.2.0",
            "_view_name": "StyleView",
            "bar_color": null,
            "description_width": ""
          }
        },
        "633cb19332ca42778ef05b5b09533184": {
          "model_module": "@jupyter-widgets/base",
          "model_name": "LayoutModel",
          "model_module_version": "1.2.0",
          "state": {
            "_model_module": "@jupyter-widgets/base",
            "_model_module_version": "1.2.0",
            "_model_name": "LayoutModel",
            "_view_count": null,
            "_view_module": "@jupyter-widgets/base",
            "_view_module_version": "1.2.0",
            "_view_name": "LayoutView",
            "align_content": null,
            "align_items": null,
            "align_self": null,
            "border": null,
            "bottom": null,
            "display": null,
            "flex": null,
            "flex_flow": null,
            "grid_area": null,
            "grid_auto_columns": null,
            "grid_auto_flow": null,
            "grid_auto_rows": null,
            "grid_column": null,
            "grid_gap": null,
            "grid_row": null,
            "grid_template_areas": null,
            "grid_template_columns": null,
            "grid_template_rows": null,
            "height": null,
            "justify_content": null,
            "justify_items": null,
            "left": null,
            "margin": null,
            "max_height": null,
            "max_width": null,
            "min_height": null,
            "min_width": null,
            "object_fit": null,
            "object_position": null,
            "order": null,
            "overflow": null,
            "overflow_x": null,
            "overflow_y": null,
            "padding": null,
            "right": null,
            "top": null,
            "visibility": null,
            "width": null
          }
        },
        "56853d26035548018977ed897437b5c0": {
          "model_module": "@jupyter-widgets/controls",
          "model_name": "DescriptionStyleModel",
          "model_module_version": "1.5.0",
          "state": {
            "_model_module": "@jupyter-widgets/controls",
            "_model_module_version": "1.5.0",
            "_model_name": "DescriptionStyleModel",
            "_view_count": null,
            "_view_module": "@jupyter-widgets/base",
            "_view_module_version": "1.2.0",
            "_view_name": "StyleView",
            "description_width": ""
          }
        },
        "0bcff48c525a4c0781c4f869f0be651e": {
          "model_module": "@jupyter-widgets/controls",
          "model_name": "HBoxModel",
          "model_module_version": "1.5.0",
          "state": {
            "_dom_classes": [],
            "_model_module": "@jupyter-widgets/controls",
            "_model_module_version": "1.5.0",
            "_model_name": "HBoxModel",
            "_view_count": null,
            "_view_module": "@jupyter-widgets/controls",
            "_view_module_version": "1.5.0",
            "_view_name": "HBoxView",
            "box_style": "",
            "children": [
              "IPY_MODEL_1c36b842835f48e99e857b8e4b6f45f4",
              "IPY_MODEL_c068936852c04a5c9f142f3a44b96d03",
              "IPY_MODEL_8999cd5fde6a42679d9f64883481ca30"
            ],
            "layout": "IPY_MODEL_1320f97268a14660a614224f9a709ecc"
          }
        },
        "1c36b842835f48e99e857b8e4b6f45f4": {
          "model_module": "@jupyter-widgets/controls",
          "model_name": "HTMLModel",
          "model_module_version": "1.5.0",
          "state": {
            "_dom_classes": [],
            "_model_module": "@jupyter-widgets/controls",
            "_model_module_version": "1.5.0",
            "_model_name": "HTMLModel",
            "_view_count": null,
            "_view_module": "@jupyter-widgets/controls",
            "_view_module_version": "1.5.0",
            "_view_name": "HTMLView",
            "description": "",
            "description_tooltip": null,
            "layout": "IPY_MODEL_7b8e01d2932744a6a0738656a1a3ffe8",
            "placeholder": "​",
            "style": "IPY_MODEL_87533395e0fb411baa32f4897167a9a0",
            "value": "special_tokens_map.json: 100%"
          }
        },
        "c068936852c04a5c9f142f3a44b96d03": {
          "model_module": "@jupyter-widgets/controls",
          "model_name": "FloatProgressModel",
          "model_module_version": "1.5.0",
          "state": {
            "_dom_classes": [],
            "_model_module": "@jupyter-widgets/controls",
            "_model_module_version": "1.5.0",
            "_model_name": "FloatProgressModel",
            "_view_count": null,
            "_view_module": "@jupyter-widgets/controls",
            "_view_module_version": "1.5.0",
            "_view_name": "ProgressView",
            "bar_style": "success",
            "description": "",
            "description_tooltip": null,
            "layout": "IPY_MODEL_fd30186548744a0782163139dc0aee68",
            "max": 239,
            "min": 0,
            "orientation": "horizontal",
            "style": "IPY_MODEL_31381055150743ec8162d85f73c4f53a",
            "value": 239
          }
        },
        "8999cd5fde6a42679d9f64883481ca30": {
          "model_module": "@jupyter-widgets/controls",
          "model_name": "HTMLModel",
          "model_module_version": "1.5.0",
          "state": {
            "_dom_classes": [],
            "_model_module": "@jupyter-widgets/controls",
            "_model_module_version": "1.5.0",
            "_model_name": "HTMLModel",
            "_view_count": null,
            "_view_module": "@jupyter-widgets/controls",
            "_view_module_version": "1.5.0",
            "_view_name": "HTMLView",
            "description": "",
            "description_tooltip": null,
            "layout": "IPY_MODEL_2c1851a6e76f488cb2af8eaef54a1773",
            "placeholder": "​",
            "style": "IPY_MODEL_6c93c9abc0b24f41a23e8babb94393ed",
            "value": " 239/239 [00:00&lt;00:00, 18.5kB/s]"
          }
        },
        "1320f97268a14660a614224f9a709ecc": {
          "model_module": "@jupyter-widgets/base",
          "model_name": "LayoutModel",
          "model_module_version": "1.2.0",
          "state": {
            "_model_module": "@jupyter-widgets/base",
            "_model_module_version": "1.2.0",
            "_model_name": "LayoutModel",
            "_view_count": null,
            "_view_module": "@jupyter-widgets/base",
            "_view_module_version": "1.2.0",
            "_view_name": "LayoutView",
            "align_content": null,
            "align_items": null,
            "align_self": null,
            "border": null,
            "bottom": null,
            "display": null,
            "flex": null,
            "flex_flow": null,
            "grid_area": null,
            "grid_auto_columns": null,
            "grid_auto_flow": null,
            "grid_auto_rows": null,
            "grid_column": null,
            "grid_gap": null,
            "grid_row": null,
            "grid_template_areas": null,
            "grid_template_columns": null,
            "grid_template_rows": null,
            "height": null,
            "justify_content": null,
            "justify_items": null,
            "left": null,
            "margin": null,
            "max_height": null,
            "max_width": null,
            "min_height": null,
            "min_width": null,
            "object_fit": null,
            "object_position": null,
            "order": null,
            "overflow": null,
            "overflow_x": null,
            "overflow_y": null,
            "padding": null,
            "right": null,
            "top": null,
            "visibility": null,
            "width": null
          }
        },
        "7b8e01d2932744a6a0738656a1a3ffe8": {
          "model_module": "@jupyter-widgets/base",
          "model_name": "LayoutModel",
          "model_module_version": "1.2.0",
          "state": {
            "_model_module": "@jupyter-widgets/base",
            "_model_module_version": "1.2.0",
            "_model_name": "LayoutModel",
            "_view_count": null,
            "_view_module": "@jupyter-widgets/base",
            "_view_module_version": "1.2.0",
            "_view_name": "LayoutView",
            "align_content": null,
            "align_items": null,
            "align_self": null,
            "border": null,
            "bottom": null,
            "display": null,
            "flex": null,
            "flex_flow": null,
            "grid_area": null,
            "grid_auto_columns": null,
            "grid_auto_flow": null,
            "grid_auto_rows": null,
            "grid_column": null,
            "grid_gap": null,
            "grid_row": null,
            "grid_template_areas": null,
            "grid_template_columns": null,
            "grid_template_rows": null,
            "height": null,
            "justify_content": null,
            "justify_items": null,
            "left": null,
            "margin": null,
            "max_height": null,
            "max_width": null,
            "min_height": null,
            "min_width": null,
            "object_fit": null,
            "object_position": null,
            "order": null,
            "overflow": null,
            "overflow_x": null,
            "overflow_y": null,
            "padding": null,
            "right": null,
            "top": null,
            "visibility": null,
            "width": null
          }
        },
        "87533395e0fb411baa32f4897167a9a0": {
          "model_module": "@jupyter-widgets/controls",
          "model_name": "DescriptionStyleModel",
          "model_module_version": "1.5.0",
          "state": {
            "_model_module": "@jupyter-widgets/controls",
            "_model_module_version": "1.5.0",
            "_model_name": "DescriptionStyleModel",
            "_view_count": null,
            "_view_module": "@jupyter-widgets/base",
            "_view_module_version": "1.2.0",
            "_view_name": "StyleView",
            "description_width": ""
          }
        },
        "fd30186548744a0782163139dc0aee68": {
          "model_module": "@jupyter-widgets/base",
          "model_name": "LayoutModel",
          "model_module_version": "1.2.0",
          "state": {
            "_model_module": "@jupyter-widgets/base",
            "_model_module_version": "1.2.0",
            "_model_name": "LayoutModel",
            "_view_count": null,
            "_view_module": "@jupyter-widgets/base",
            "_view_module_version": "1.2.0",
            "_view_name": "LayoutView",
            "align_content": null,
            "align_items": null,
            "align_self": null,
            "border": null,
            "bottom": null,
            "display": null,
            "flex": null,
            "flex_flow": null,
            "grid_area": null,
            "grid_auto_columns": null,
            "grid_auto_flow": null,
            "grid_auto_rows": null,
            "grid_column": null,
            "grid_gap": null,
            "grid_row": null,
            "grid_template_areas": null,
            "grid_template_columns": null,
            "grid_template_rows": null,
            "height": null,
            "justify_content": null,
            "justify_items": null,
            "left": null,
            "margin": null,
            "max_height": null,
            "max_width": null,
            "min_height": null,
            "min_width": null,
            "object_fit": null,
            "object_position": null,
            "order": null,
            "overflow": null,
            "overflow_x": null,
            "overflow_y": null,
            "padding": null,
            "right": null,
            "top": null,
            "visibility": null,
            "width": null
          }
        },
        "31381055150743ec8162d85f73c4f53a": {
          "model_module": "@jupyter-widgets/controls",
          "model_name": "ProgressStyleModel",
          "model_module_version": "1.5.0",
          "state": {
            "_model_module": "@jupyter-widgets/controls",
            "_model_module_version": "1.5.0",
            "_model_name": "ProgressStyleModel",
            "_view_count": null,
            "_view_module": "@jupyter-widgets/base",
            "_view_module_version": "1.2.0",
            "_view_name": "StyleView",
            "bar_color": null,
            "description_width": ""
          }
        },
        "2c1851a6e76f488cb2af8eaef54a1773": {
          "model_module": "@jupyter-widgets/base",
          "model_name": "LayoutModel",
          "model_module_version": "1.2.0",
          "state": {
            "_model_module": "@jupyter-widgets/base",
            "_model_module_version": "1.2.0",
            "_model_name": "LayoutModel",
            "_view_count": null,
            "_view_module": "@jupyter-widgets/base",
            "_view_module_version": "1.2.0",
            "_view_name": "LayoutView",
            "align_content": null,
            "align_items": null,
            "align_self": null,
            "border": null,
            "bottom": null,
            "display": null,
            "flex": null,
            "flex_flow": null,
            "grid_area": null,
            "grid_auto_columns": null,
            "grid_auto_flow": null,
            "grid_auto_rows": null,
            "grid_column": null,
            "grid_gap": null,
            "grid_row": null,
            "grid_template_areas": null,
            "grid_template_columns": null,
            "grid_template_rows": null,
            "height": null,
            "justify_content": null,
            "justify_items": null,
            "left": null,
            "margin": null,
            "max_height": null,
            "max_width": null,
            "min_height": null,
            "min_width": null,
            "object_fit": null,
            "object_position": null,
            "order": null,
            "overflow": null,
            "overflow_x": null,
            "overflow_y": null,
            "padding": null,
            "right": null,
            "top": null,
            "visibility": null,
            "width": null
          }
        },
        "6c93c9abc0b24f41a23e8babb94393ed": {
          "model_module": "@jupyter-widgets/controls",
          "model_name": "DescriptionStyleModel",
          "model_module_version": "1.5.0",
          "state": {
            "_model_module": "@jupyter-widgets/controls",
            "_model_module_version": "1.5.0",
            "_model_name": "DescriptionStyleModel",
            "_view_count": null,
            "_view_module": "@jupyter-widgets/base",
            "_view_module_version": "1.2.0",
            "_view_name": "StyleView",
            "description_width": ""
          }
        }
      }
    }
  },
  "cells": [
    {
      "cell_type": "markdown",
      "metadata": {
        "id": "view-in-github",
        "colab_type": "text"
      },
      "source": [
        "<a href=\"https://colab.research.google.com/github/frank-morales2020/MLxDL/blob/main/RLHF_T2SQL_REPORT.ipynb\" target=\"_parent\"><img src=\"https://colab.research.google.com/assets/colab-badge.svg\" alt=\"Open In Colab\"/></a>"
      ]
    },
    {
      "cell_type": "code",
      "source": [
        "! pip install peft --quiet\n",
        "! pip install datasets trl ninja packaging --quiet"
      ],
      "metadata": {
        "id": "Scbtm055EMb0"
      },
      "execution_count": null,
      "outputs": []
    },
    {
      "cell_type": "code",
      "execution_count": null,
      "metadata": {
        "id": "Etm0HfcZM151"
      },
      "outputs": [],
      "source": [
        "# Install Pytorch & other libraries\n",
        "!pip install torch tensorboard --quiet\n",
        "\n",
        "# Install Hugging Face libraries\n",
        "!pip install  --upgrade transformers datasets accelerate evaluate bitsandbytes --quiet\n",
        "\n",
        "#FlashAttention only supports Ampere GPUs or newer. #NEED A100 IN GOOGLE COLAB\n",
        "#!pip install -U transformers\n",
        "!pip install -U flash-attn --no-build-isolation --quiet\n",
        "\n",
        "\n",
        "! pip install peft --quiet\n",
        "! pip install datasets trl ninja packaging --quiet\n",
        "\n",
        "!pip install diffusers safetensors  --quiet\n",
        "!pip install colab-env --quiet"
      ]
    },
    {
      "cell_type": "code",
      "source": [
        "!pip install huggingface_hub -q\n",
        "\n",
        "import colab_env\n",
        "import os\n",
        "\n",
        "access_token_write = os.getenv(\"HUGGINGFACE_ACCESS_TOKEN_WRITE\")"
      ],
      "metadata": {
        "id": "5aJJLLXDJFhT"
      },
      "execution_count": null,
      "outputs": []
    },
    {
      "cell_type": "code",
      "source": [
        "#!pip install huggingface_hub --quiet\n",
        "from huggingface_hub import HfApi\n",
        "\n",
        "api = HfApi()\n",
        "api.get_token_permission(token=access_token_write)\n",
        "#api.set_access_token(access_token)\n",
        "\n",
        "\n",
        "# frankmorales2020/Mistral-7B-text-to-sql Good\n",
        "\n",
        "#repo_id = \"frankmorales2020/mistral-7b-ppo-poc-t2sql\"\n",
        "#api.create_repo(repo_id=repo_id, private=False)\n",
        "\n",
        "api.delete_repo(repo_id=repo_id)\n",
        "\n",
        "#api.upload_folder(\n",
        "#    folder_path=\"./model\",\n",
        "#    repo_id=repo_id,\n",
        "#    repo_type=\"model\",\n",
        "#)\n"
      ],
      "metadata": {
        "id": "tpI3ZXTjIwEY"
      },
      "execution_count": 5,
      "outputs": []
    },
    {
      "cell_type": "code",
      "source": [
        "from transformers import (\n",
        "    AutoModelForCausalLM,\n",
        "    AutoTokenizer,\n",
        "    BitsAndBytesConfig,\n",
        "    AutoTokenizer,\n",
        "    TrainingArguments,\n",
        ")"
      ],
      "metadata": {
        "id": "Yf9B26OQda-x"
      },
      "execution_count": 4,
      "outputs": []
    },
    {
      "cell_type": "code",
      "source": [
        "#frankmorales2020/Mistral-7B-text-to-sql\n",
        "# Chose the base model you want\n",
        "#model_name = \"frankmorales2020/Mistral-7B-text-to-sql\" # 01/03/2023\n",
        "#frankmorales2020/Mistral-7B-text-to-sql-flash-attention-2\n",
        "model_name = \"frankmorales2020/Mistral-7B-text-to-sql-flash-attention-2\" # 04/03/2024\n",
        "# set device\n",
        "device = 'cuda'\n",
        "#v Tokenizer\n",
        "tokenizer = AutoTokenizer.from_pretrained(model_name, use_fast=True)\n",
        "# We redefine the pad_token and pad_token_id with out of vocabulary token (unk_token)\n",
        "tokenizer.pad_token = tokenizer.unk_token\n",
        "tokenizer.pad_token_id = tokenizer.unk_token_id"
      ],
      "metadata": {
        "id": "fdUtev3tteeS",
        "colab": {
          "base_uri": "https://localhost:8080/",
          "height": 177,
          "referenced_widgets": [
            "775bf97056be4118bdbd3d5d41bc62f6",
            "729820a63bd14519b90f87ff1bfa3d57",
            "3376978aed824959978c7603089ba4a3",
            "8fa1db15c1a9487697af15aefeea14da",
            "79b50c9f00bc4988a1f2c3b7b5781625",
            "881712d46df44ce1b63b58b8200603e4",
            "679b7ee42fb04b1f83fc58377e8cd1d0",
            "5cc7faf702f246afa1b642e0a1ecc3ec",
            "2df28675660647a483f32a754cd1d7bc",
            "0b60dd824e5b427d973fbdae9a446594",
            "7d1dce436b72424c9197d2d7a57862a6",
            "b7dbf52c00bf4d269f324f4af45d30c4",
            "b93bc381655b4dc9b69880e39501058b",
            "0371fc2fe76c49cb8e2371d848f176e0",
            "b73022a9ade04c2ba17ab58dedbfcfb5",
            "b620847549bf4c498b74cca40edb0357",
            "21f0df62f6194540ab5315c9477f8c94",
            "1d21ca72bda340b2bee28893b6e43b2a",
            "0f52c68b5b064961822f2fa1b3cf8b20",
            "eda3e554cf4b4371ba68153e9eb4faf4",
            "334626e1382c4f3c8cf1306bc0999aa0",
            "18531b5cf773426688952c8f12f588b5",
            "b8799049c47d4daebf2503ed7654e879",
            "238cbc2105614ce0bb3ff7964fbce639",
            "9328d97c3caf471e86af448b49d9b273",
            "efcbee2be4154657a822966d7e2e9525",
            "d720e6395ecc4937ac66419deea9d797",
            "46473a4df05a4cbdab566a2f618b87f2",
            "8c19685f8bf04d0b931fa798fe331a6e",
            "f76e9a28b12d409cbedf882da2e1ebab",
            "4040d9bd1fa043b48a6a7e60fe909636",
            "4e86f219c34540a380d76dcc0f792a72",
            "e1cf9728798b4af19314ba05d9deb896",
            "fd4927cf70b24d37a850c29ef4205b69",
            "48c5bd21cbe541839584a59118fac46d",
            "cb31e240f45048d78651e4d7eb12672c",
            "92c436d01b2340f7af674ad69c2bfcf1",
            "373aea7711844690b7f1c7e11a8c9981",
            "a758ae5ef2e343c78dccc4a010ccdee3",
            "216d57d6eabd4abd96c6d36d858996d7",
            "c880609b0ca84f4faa769d1e7fd513da",
            "aff3da2fe32f476da572f54220dc7605",
            "61a1db6620c14f6d87f1c7b34f67a3d6",
            "dd8b07ab912a4e4dadd0e83ce5a88b95",
            "077e6cb8c5624debb4d2d3787c1ea597",
            "1c4eb14878a7426b9b89acbf9283e09a",
            "019cdc18da634568bcb6ee57fb848694",
            "dbadbdaea29a43cc96420529029f7d1b",
            "2d755e2e6ff54e4f8aac9076dece0459",
            "5c9e7c99dae34772bc12f98e43d95e64",
            "899fc69974c942eaa0c0322f30805809",
            "7fa3a3d789604e778342f18da61c585b",
            "7b3767a1fe274828acaeca5dd0de7916",
            "d6729c657efd448bb121fc0adef685ad",
            "595d85295bd3409c983e86e927afd162"
          ]
        },
        "outputId": "b82dc513-bf27-4bfa-e88b-607fe7120ff4"
      },
      "execution_count": 5,
      "outputs": [
        {
          "output_type": "display_data",
          "data": {
            "text/plain": [
              "tokenizer_config.json:   0%|          | 0.00/1.61k [00:00<?, ?B/s]"
            ],
            "application/vnd.jupyter.widget-view+json": {
              "version_major": 2,
              "version_minor": 0,
              "model_id": "775bf97056be4118bdbd3d5d41bc62f6"
            }
          },
          "metadata": {}
        },
        {
          "output_type": "display_data",
          "data": {
            "text/plain": [
              "tokenizer.model:   0%|          | 0.00/493k [00:00<?, ?B/s]"
            ],
            "application/vnd.jupyter.widget-view+json": {
              "version_major": 2,
              "version_minor": 0,
              "model_id": "b7dbf52c00bf4d269f324f4af45d30c4"
            }
          },
          "metadata": {}
        },
        {
          "output_type": "display_data",
          "data": {
            "text/plain": [
              "tokenizer.json:   0%|          | 0.00/1.80M [00:00<?, ?B/s]"
            ],
            "application/vnd.jupyter.widget-view+json": {
              "version_major": 2,
              "version_minor": 0,
              "model_id": "b8799049c47d4daebf2503ed7654e879"
            }
          },
          "metadata": {}
        },
        {
          "output_type": "display_data",
          "data": {
            "text/plain": [
              "added_tokens.json:   0%|          | 0.00/51.0 [00:00<?, ?B/s]"
            ],
            "application/vnd.jupyter.widget-view+json": {
              "version_major": 2,
              "version_minor": 0,
              "model_id": "fd4927cf70b24d37a850c29ef4205b69"
            }
          },
          "metadata": {}
        },
        {
          "output_type": "display_data",
          "data": {
            "text/plain": [
              "special_tokens_map.json:   0%|          | 0.00/557 [00:00<?, ?B/s]"
            ],
            "application/vnd.jupyter.widget-view+json": {
              "version_major": 2,
              "version_minor": 0,
              "model_id": "077e6cb8c5624debb4d2d3787c1ea597"
            }
          },
          "metadata": {}
        }
      ]
    },
    {
      "cell_type": "code",
      "source": [
        "import colab_env\n",
        "import os\n",
        "\n",
        "access_token_write = os.getenv(\"HUGGINGFACE_ACCESS_TOKEN_WRITE\")\n",
        "\n",
        "from huggingface_hub import login\n",
        "\n",
        "login(\n",
        "  token=access_token_write,\n",
        "  add_to_git_credential=True\n",
        ")"
      ],
      "metadata": {
        "id": "hbozlFCt2SkF"
      },
      "execution_count": 6,
      "outputs": []
    },
    {
      "cell_type": "code",
      "source": [
        "!pip install huggingface_hub -q"
      ],
      "metadata": {
        "id": "wPO0lMPS5O_4"
      },
      "execution_count": 9,
      "outputs": []
    },
    {
      "cell_type": "code",
      "source": [
        "from datasets import load_dataset\n",
        "from huggingface_hub import hf_hub_url"
      ],
      "metadata": {
        "id": "Uc_5yN_w5W9D"
      },
      "execution_count": 10,
      "outputs": []
    },
    {
      "cell_type": "code",
      "source": [
        "from datasets import load_dataset\n",
        "\n",
        "# Convert dataset to OAI messages\n",
        "system_message = \"\"\"You are an text to SQL query translator. Users will ask you questions in English and you will generate a SQL query based on the provided SCHEMA.\n",
        "SCHEMA:\n",
        "{schema}\"\"\"\n",
        "\n",
        "def create_conversation(sample):\n",
        "  return {\n",
        "    \"messages\": [\n",
        "      {\"role\": \"system\", \"content\": system_message.format(schema=sample[\"context\"])},\n",
        "      {\"role\": \"user\", \"content\": sample[\"question\"]},\n",
        "      {\"role\": \"assistant\", \"content\": sample[\"answer\"]}\n",
        "    ]\n",
        "  }\n",
        "\n",
        "# Load dataset from the hub\n",
        "dataset = load_dataset(\"b-mc2/sql-create-context\", split=\"train\")\n",
        "dataset = dataset.shuffle().select(range(12500))\n",
        "\n",
        "# Convert dataset to OAI messages\n",
        "dataset = dataset.map(create_conversation, remove_columns=dataset.features,batched=False)\n",
        "\n",
        "# split dataset into 10,000 training samples and 2,500 test samples\n",
        "dataset = dataset.train_test_split(test_size=2500/12500)\n",
        "\n",
        "print(dataset[\"train\"][345][\"messages\"])\n",
        "\n",
        "# save datasets to disk\n",
        "dataset[\"train\"].to_json(\"train_dataset.json\", orient=\"records\")\n",
        "dataset[\"test\"].to_json(\"test_dataset.json\", orient=\"records\")"
      ],
      "metadata": {
        "id": "MUMfineCrFwL",
        "colab": {
          "base_uri": "https://localhost:8080/",
          "height": 169,
          "referenced_widgets": [
            "a46389dbd6104483aa6efb12250b9b61",
            "8eea0177322d4b9da2450ecf5acc3ca2",
            "3e96c788047e4249b26af1dfed46a79a",
            "4502671b0ee74826a3f1c4eb239c427d",
            "ae0ad7d5d1534b7eaaefd9851079db84",
            "9081a3e49ce14e0abb300b7aadf822af",
            "47b3a526aa384ed195633f0edea7e4e6",
            "31a16050691140e7a663d286d1b03d3d",
            "367a40e13ba34ac7891f80f9d90d4035",
            "7370450d2767412f92372b1592b65f07",
            "acfd0ed8063f49d9bd10588d021854c7",
            "e50ceb359551439faa87e95e7cfb482b",
            "0340663c357c4c63acd5a1fc2f898ef1",
            "ae6a07596ee5418a9bd9cd6ecbf56cda",
            "39a18a2ecea146bd8e675b2d8c306581",
            "a013e705e7c84bbb816b34beacec29c4",
            "717aedf99bb84f8b9e3a76dfbd1d8c6c",
            "3c8b24a0cfc84afebeb0c09a6e573801",
            "05a00f52639a4e328ecf9cd373d32a0d",
            "0418c8fde1fb40eb9f24919e8d897129",
            "12cf0a210419440296f470b421fb96c9",
            "96225c81d9104776a19f160919a92086",
            "ad78e4577fe0424c835e2216f8334201",
            "28eec7447c9743ca9f6440d8c710ee16",
            "d496f781e63e42a7876d1d3fdf8dd08e",
            "eeb42dc7052844efb9a11e84cbb580b7",
            "659a5c3809db4b85bcbcaf27ad57b2e1",
            "f1a6298862934e03ad4fec7143c432f0",
            "dcf27a4c511b40a4a2cd153e5a5e8bf9",
            "2ff76331241442e19cc5a9cd1ff64170",
            "4839c18dfd2c49868ab7395deb144a06",
            "3c61b214640e4cf3a281a4d0c9c68f31",
            "23e5cdb2a455403b9502b27a52f26ba1"
          ]
        },
        "outputId": "3506162f-3858-44dd-a96e-2538b535fc4f"
      },
      "execution_count": 8,
      "outputs": [
        {
          "output_type": "display_data",
          "data": {
            "text/plain": [
              "Map:   0%|          | 0/12500 [00:00<?, ? examples/s]"
            ],
            "application/vnd.jupyter.widget-view+json": {
              "version_major": 2,
              "version_minor": 0,
              "model_id": "a46389dbd6104483aa6efb12250b9b61"
            }
          },
          "metadata": {}
        },
        {
          "output_type": "stream",
          "name": "stdout",
          "text": [
            "[{'content': 'You are an text to SQL query translator. Users will ask you questions in English and you will generate a SQL query based on the provided SCHEMA.\\nSCHEMA:\\nCREATE TABLE table_18946749_1 (elevation__m_ INTEGER, peak VARCHAR)', 'role': 'system'}, {'content': 'When mount kobowre is the peak what is the highest elevation in meters?', 'role': 'user'}, {'content': 'SELECT MAX(elevation__m_) FROM table_18946749_1 WHERE peak = \"Mount Kobowre\"', 'role': 'assistant'}]\n"
          ]
        },
        {
          "output_type": "display_data",
          "data": {
            "text/plain": [
              "Creating json from Arrow format:   0%|          | 0/10 [00:00<?, ?ba/s]"
            ],
            "application/vnd.jupyter.widget-view+json": {
              "version_major": 2,
              "version_minor": 0,
              "model_id": "e50ceb359551439faa87e95e7cfb482b"
            }
          },
          "metadata": {}
        },
        {
          "output_type": "display_data",
          "data": {
            "text/plain": [
              "Creating json from Arrow format:   0%|          | 0/3 [00:00<?, ?ba/s]"
            ],
            "application/vnd.jupyter.widget-view+json": {
              "version_major": 2,
              "version_minor": 0,
              "model_id": "ad78e4577fe0424c835e2216f8334201"
            }
          },
          "metadata": {}
        },
        {
          "output_type": "execute_result",
          "data": {
            "text/plain": [
              "1189478"
            ]
          },
          "metadata": {},
          "execution_count": 8
        }
      ]
    },
    {
      "cell_type": "code",
      "source": [
        "from datasets import load_dataset\n",
        "from random import randint\n",
        "\n",
        "# Load our test dataset and Tokenizer again\n",
        "#tokenizer = AutoTokenizer.from_pretrained(\"frankmorales2020/Mistral-7B-text-to-sql\") # 01/03/2024\n",
        "tokenizer = AutoTokenizer.from_pretrained(\"frankmorales2020/Mistral-7B-text-to-sql-flash-attention-2\") # 04/03/2024\n",
        "eval_dataset = load_dataset(\"json\", data_files=\"test_dataset.json\", split=\"train\")\n",
        "rand_idx = randint(0, len(eval_dataset))"
      ],
      "metadata": {
        "id": "_XVWkxeLvPE6",
        "colab": {
          "base_uri": "https://localhost:8080/",
          "height": 49,
          "referenced_widgets": [
            "a56f4c846a944eabb9bbb684155be8fa",
            "9da954b0668b4ba59eb72392591a9fef",
            "a4e60b8b4e8c4988b80afe99b2b843ff",
            "3292ee6796d24b49943f17cbc99a75e2",
            "19293961e39944a5bcc689a7632e7a4b",
            "bf973062a2c2472f949bba90fb7830bf",
            "52470ab3a410437ea24075efb79635d8",
            "89768f2dd75f403f84d3b32d0b32f751",
            "971fb98c3f494010a838bd2718ca1fbe",
            "29fcd8950ef1455dabcf960a309e50a2",
            "656c41a5e0814fb2be7e775b60d7664d"
          ]
        },
        "outputId": "c8eef04e-1507-45a0-83f4-2d46445e2a71"
      },
      "execution_count": 9,
      "outputs": [
        {
          "output_type": "display_data",
          "data": {
            "text/plain": [
              "Generating train split: 0 examples [00:00, ? examples/s]"
            ],
            "application/vnd.jupyter.widget-view+json": {
              "version_major": 2,
              "version_minor": 0,
              "model_id": "a56f4c846a944eabb9bbb684155be8fa"
            }
          },
          "metadata": {}
        }
      ]
    },
    {
      "cell_type": "code",
      "source": [
        "# generate the same prompt as for the first local test\n",
        "prompt = tokenizer.apply_chat_template(eval_dataset[rand_idx][\"messages\"][:2], tokenize=False, add_generation_prompt=True)\n",
        "request= {\"inputs\":prompt,\"parameters\":{\"temperature\":0.2, \"top_p\": 0.95, \"max_new_tokens\": 256}}\n"
      ],
      "metadata": {
        "id": "sVbiAn0AzMWA"
      },
      "execution_count": 10,
      "outputs": []
    },
    {
      "cell_type": "markdown",
      "source": [
        "Parameter-Efficient Fine-Tuning (PEFT)"
      ],
      "metadata": {
        "id": "_CHTz2mbMmo6"
      }
    },
    {
      "cell_type": "code",
      "source": [
        "import torch\n",
        "from peft import AutoPeftModelForCausalLM\n",
        "from transformers import AutoTokenizer, pipeline\n",
        "\n",
        "peft_model_id = \"frankmorales2020/Mistral-7B-text-to-sql-flash-attention-2\"\n",
        "\n",
        "\n",
        "# Load Model with PEFT adapter\n",
        "model = AutoPeftModelForCausalLM.from_pretrained(\n",
        "  peft_model_id,\n",
        "  device_map=\"auto\",\n",
        "  torch_dtype=torch.float16\n",
        ")\n",
        "\n",
        "tokenizer = AutoTokenizer.from_pretrained(peft_model_id)\n",
        "\n",
        "# load into pipeline\n",
        "pipe = pipeline(\"text-generation\", model=model, tokenizer=tokenizer)"
      ],
      "metadata": {
        "id": "QjmQ26JLJJUL",
        "colab": {
          "base_uri": "https://localhost:8080/",
          "height": 379,
          "referenced_widgets": [
            "ccfbbd08cb824df7b5ef48615ff79de5",
            "0df6bf3455184700b7cb2fb443a7eeb5",
            "b47e0b17074e44349e02a18b64b9ab61",
            "1ee8a3bf9445450392e94d9b17ac4c89",
            "fb7b05f9d11e470f9c6b9166a3255dc5",
            "63d28b9e9c224e3a80c377ab7f8b7dd1",
            "73099f2b93fe4ef29d8927dcc0eb147d",
            "71a65adb8941409f80bbfb62d21393a7",
            "81b54c312be846cc88d72230ace0c3e2",
            "80dd6f07b1b247aba2206b8505a94e12",
            "45169f1e649a42c6881c0ff4526d22fc",
            "88821a94b5e3499ea2065fcac54c6fe2",
            "1eaa1282ea52468c80d38c53ed73a047",
            "2fe3ab4944fd4c28a0c5a9f5b721af59",
            "57d42beade1e4908b03e1b8f388a1ca4",
            "1a916d3728cb4b1490ce98e2ff41d003",
            "ddccb83ee6b349c38a44b7e14bf338da",
            "0199579d56c0435eb3bf1248786decc0",
            "8a85c168891f43ba9733f1025336f215",
            "fafb683b30ef4796a80aacbb8d1dfa11",
            "55b32d58a781408cabc3ee413438525d",
            "fe3a68fca6424ad8a0f3a9ad169ebcd7",
            "8529799dd7ee4ad8ac30655883043c65",
            "dbdea121975a47f8a6a7d4df850e79d8",
            "7a1519f767fa4a5889d64076f2ea1fdc",
            "32cf0048bee04319a52c126350aeefa2",
            "bf89e858e8a945118b0c940bc0e1110c",
            "b57da7bf26d0484f846d3c3ca7e74474",
            "6c44f834c9bd41a4b827d141f5e64d79",
            "56d6cac197884a1f8d2965ee59dffd0b",
            "ffdf726b40614fef943bdb82e95a1595",
            "a19907631d394edbb0da79077353a379",
            "611abb57959b475986b3b1b25ace57db",
            "2b7fc172b0f04a12820bdc1d497b0274",
            "5bbd1e6aff544fa7abb5ccf8443c1b92",
            "c7680915759b4c199dcaed25e0aa2d79",
            "fe5d7cbc753e49a1ac057729604857b9",
            "655f26f697fa496595fece0f6fbe0f04",
            "e40022f0106c4532944ed3652c08c37c",
            "ac87bc7732914edf826bcd27f59c2e73",
            "fc6108427a81463dad55dbc51e523017",
            "b142156651724d668d44e41c7b354fc1",
            "462999b1b3b748018d0ac1ad4d24a6e8",
            "95a4e22e6f1c4fab92e8bc5f85f682f1",
            "15698f25dabc448a8a4b429464f06640",
            "e3a9aca6c9fa449f93ddfa7bbbdefbb4",
            "09f0545e98d04135b4aa4880b01cfcc5",
            "1ecf4ff78bb745f3a23964d14405d76b",
            "dd50a3ba12154c3fa077b4aa1972a686",
            "dd1411479b0c42ba92f6417af5f6d8dd",
            "ccc517ab65ce43d68c83d6d313fd0611",
            "103177f3b3fe47ba9c029b52babb9932",
            "146369067a8f472d85c62de1a8b3f2cc",
            "9dec98dea4c541c0b0788fb58dc5e73b",
            "501a0b4109e14af5961b9a7930a15f12",
            "db26abfe7dee40ba8e67e8a71f22c1ff",
            "c738f24410974b96b6aebf68f07d1554",
            "a4f378b047d343688b3f78469fde736e",
            "6b1365ef6e57461bbc4ca3826b730f3f",
            "1bfb1a6dfba8488c97cdbc1ab1b3b249",
            "55ac4fa0c7fc4ee9844cf4706b6302ba",
            "dc9a1910ac7d4a809a05ea37ebc828e7",
            "d0bca63674fd4702a62ac58651058e33",
            "e82e0bb206844a35ba434a8cf80df43c",
            "8de55618fbe141b6b81029438a1bbbc8",
            "866ad19673b145b49e19596fdc8e00be",
            "90bc95e63849410ab2526e21ac51fbd1",
            "f15d1d30751f41b6b2c97d4b0ac49c73",
            "055397f564964885b68689375258e61c",
            "8edd59fdd3524be1992ee1d3bc5c7f3f",
            "afadfd80fc774bd0b80dbf0b76747830",
            "2b79eef2375b49acbbc974855d8340ce",
            "e925fb8fa1a64afe9195b1b9d427a82d",
            "99929639d137414db17ee44a607e3c67",
            "03e08cc464f74adda5d833fe6f9ce4d7",
            "ffd594d1957c40769ed440e1a9df2b01",
            "340a48ccf82547b0be5fe4f54113b23a",
            "f49db664b2fc412994c507c691e8a60c",
            "7ab899b79f9541779c539020937c40be",
            "42ce8aa0e38142b1b08c76a3defad4a0",
            "0f7c953246814aaa8cfac3d21648f1b7",
            "376bfd79ad6943b9870754f35c0edddb",
            "3980d33a25dd4af688273414589ea143",
            "ce40eae8cef24e86bde7d7fe3ab5bb59",
            "01b34a89b6654d7dbc79c9f6f0cec368",
            "224e28c9b1714ecba1d05d1ace282779",
            "30b370573a53439aab1500bca6e9aa60",
            "88785a1fd5a8445c816a2d72c8750efd",
            "d011fef154704546af5ddd04140896ac",
            "93880b083476428f82d1760c9331ca3c",
            "0df0dc743a7a405b97d7fe217682ecae",
            "da7efcbb5aa447b0ac3f2d950bbadb11",
            "707c0b66c05f444790df34bb059362fd",
            "27dffe8364d446119f341acb80d86236",
            "d67ab85f132a48fb81e0e59e06d1e43d",
            "89c3995ca6bf4386a45bd3b00efdb4bb",
            "ba37cd5d300c4a1d94d9b174fa4d9079",
            "1f7cd837d485459b9009e127d5a079ae",
            "6e0b8464140e42d8b2e69f39160cdbc9"
          ]
        },
        "outputId": "8a7ad93d-bbda-4305-c3c4-e7dd637c7398"
      },
      "execution_count": 11,
      "outputs": [
        {
          "output_type": "display_data",
          "data": {
            "text/plain": [
              "adapter_config.json:   0%|          | 0.00/710 [00:00<?, ?B/s]"
            ],
            "application/vnd.jupyter.widget-view+json": {
              "version_major": 2,
              "version_minor": 0,
              "model_id": "ccfbbd08cb824df7b5ef48615ff79de5"
            }
          },
          "metadata": {}
        },
        {
          "output_type": "display_data",
          "data": {
            "text/plain": [
              "config.json:   0%|          | 0.00/571 [00:00<?, ?B/s]"
            ],
            "application/vnd.jupyter.widget-view+json": {
              "version_major": 2,
              "version_minor": 0,
              "model_id": "88821a94b5e3499ea2065fcac54c6fe2"
            }
          },
          "metadata": {}
        },
        {
          "output_type": "display_data",
          "data": {
            "text/plain": [
              "model.safetensors.index.json:   0%|          | 0.00/25.1k [00:00<?, ?B/s]"
            ],
            "application/vnd.jupyter.widget-view+json": {
              "version_major": 2,
              "version_minor": 0,
              "model_id": "8529799dd7ee4ad8ac30655883043c65"
            }
          },
          "metadata": {}
        },
        {
          "output_type": "display_data",
          "data": {
            "text/plain": [
              "Downloading shards:   0%|          | 0/2 [00:00<?, ?it/s]"
            ],
            "application/vnd.jupyter.widget-view+json": {
              "version_major": 2,
              "version_minor": 0,
              "model_id": "2b7fc172b0f04a12820bdc1d497b0274"
            }
          },
          "metadata": {}
        },
        {
          "output_type": "display_data",
          "data": {
            "text/plain": [
              "model-00001-of-00002.safetensors:   0%|          | 0.00/9.94G [00:00<?, ?B/s]"
            ],
            "application/vnd.jupyter.widget-view+json": {
              "version_major": 2,
              "version_minor": 0,
              "model_id": "15698f25dabc448a8a4b429464f06640"
            }
          },
          "metadata": {}
        },
        {
          "output_type": "display_data",
          "data": {
            "text/plain": [
              "model-00002-of-00002.safetensors:   0%|          | 0.00/4.54G [00:00<?, ?B/s]"
            ],
            "application/vnd.jupyter.widget-view+json": {
              "version_major": 2,
              "version_minor": 0,
              "model_id": "db26abfe7dee40ba8e67e8a71f22c1ff"
            }
          },
          "metadata": {}
        },
        {
          "output_type": "display_data",
          "data": {
            "text/plain": [
              "Loading checkpoint shards:   0%|          | 0/2 [00:00<?, ?it/s]"
            ],
            "application/vnd.jupyter.widget-view+json": {
              "version_major": 2,
              "version_minor": 0,
              "model_id": "90bc95e63849410ab2526e21ac51fbd1"
            }
          },
          "metadata": {}
        },
        {
          "output_type": "display_data",
          "data": {
            "text/plain": [
              "generation_config.json:   0%|          | 0.00/116 [00:00<?, ?B/s]"
            ],
            "application/vnd.jupyter.widget-view+json": {
              "version_major": 2,
              "version_minor": 0,
              "model_id": "f49db664b2fc412994c507c691e8a60c"
            }
          },
          "metadata": {}
        },
        {
          "output_type": "stream",
          "name": "stderr",
          "text": [
            "The new embeddings will be initialized from a multivariate normal distribution that has old embeddings' mean and covariance. As described in this article: https://nlp.stanford.edu/~johnhew/vocab-expansion.html. To disable this, use `mean_resizing=False`\n",
            "The new lm_head weights will be initialized from a multivariate normal distribution that has old embeddings' mean and covariance. As described in this article: https://nlp.stanford.edu/~johnhew/vocab-expansion.html. To disable this, use `mean_resizing=False`\n"
          ]
        },
        {
          "output_type": "display_data",
          "data": {
            "text/plain": [
              "adapter_model.safetensors:   0%|          | 0.00/1.87G [00:00<?, ?B/s]"
            ],
            "application/vnd.jupyter.widget-view+json": {
              "version_major": 2,
              "version_minor": 0,
              "model_id": "d011fef154704546af5ddd04140896ac"
            }
          },
          "metadata": {}
        },
        {
          "output_type": "stream",
          "name": "stderr",
          "text": [
            "The model 'PeftModelForCausalLM' is not supported for text-generation. Supported models are ['BartForCausalLM', 'BertLMHeadModel', 'BertGenerationDecoder', 'BigBirdForCausalLM', 'BigBirdPegasusForCausalLM', 'BioGptForCausalLM', 'BlenderbotForCausalLM', 'BlenderbotSmallForCausalLM', 'BloomForCausalLM', 'CamembertForCausalLM', 'LlamaForCausalLM', 'CodeGenForCausalLM', 'CohereForCausalLM', 'CpmAntForCausalLM', 'CTRLLMHeadModel', 'Data2VecTextForCausalLM', 'DbrxForCausalLM', 'ElectraForCausalLM', 'ErnieForCausalLM', 'FalconForCausalLM', 'FalconMambaForCausalLM', 'FuyuForCausalLM', 'GemmaForCausalLM', 'Gemma2ForCausalLM', 'GitForCausalLM', 'GlmForCausalLM', 'GPT2LMHeadModel', 'GPT2LMHeadModel', 'GPTBigCodeForCausalLM', 'GPTNeoForCausalLM', 'GPTNeoXForCausalLM', 'GPTNeoXJapaneseForCausalLM', 'GPTJForCausalLM', 'GraniteForCausalLM', 'GraniteMoeForCausalLM', 'JambaForCausalLM', 'JetMoeForCausalLM', 'LlamaForCausalLM', 'MambaForCausalLM', 'Mamba2ForCausalLM', 'MarianForCausalLM', 'MBartForCausalLM', 'MegaForCausalLM', 'MegatronBertForCausalLM', 'MistralForCausalLM', 'MixtralForCausalLM', 'MllamaForCausalLM', 'MoshiForCausalLM', 'MptForCausalLM', 'MusicgenForCausalLM', 'MusicgenMelodyForCausalLM', 'MvpForCausalLM', 'NemotronForCausalLM', 'OlmoForCausalLM', 'OlmoeForCausalLM', 'OpenLlamaForCausalLM', 'OpenAIGPTLMHeadModel', 'OPTForCausalLM', 'PegasusForCausalLM', 'PersimmonForCausalLM', 'PhiForCausalLM', 'Phi3ForCausalLM', 'PhimoeForCausalLM', 'PLBartForCausalLM', 'ProphetNetForCausalLM', 'QDQBertLMHeadModel', 'Qwen2ForCausalLM', 'Qwen2MoeForCausalLM', 'RecurrentGemmaForCausalLM', 'ReformerModelWithLMHead', 'RemBertForCausalLM', 'RobertaForCausalLM', 'RobertaPreLayerNormForCausalLM', 'RoCBertForCausalLM', 'RoFormerForCausalLM', 'RwkvForCausalLM', 'Speech2Text2ForCausalLM', 'StableLmForCausalLM', 'Starcoder2ForCausalLM', 'TransfoXLLMHeadModel', 'TrOCRForCausalLM', 'WhisperForCausalLM', 'XGLMForCausalLM', 'XLMWithLMHeadModel', 'XLMProphetNetForCausalLM', 'XLMRobertaForCausalLM', 'XLMRobertaXLForCausalLM', 'XLNetLMHeadModel', 'XmodForCausalLM', 'ZambaForCausalLM'].\n"
          ]
        }
      ]
    },
    {
      "cell_type": "code",
      "source": [
        "from datasets import load_dataset\n",
        "from random import randint\n",
        "\n",
        "# Load our test dataset\n",
        "eval_dataset = load_dataset(\"json\", data_files=\"test_dataset.json\", split=\"train\")\n",
        "rand_idx = randint(0, len(eval_dataset))\n",
        "\n",
        "# Test on sample\n",
        "prompt = pipe.tokenizer.apply_chat_template(eval_dataset[rand_idx][\"messages\"][:2], tokenize=False, add_generation_prompt=True)\n",
        "outputs = pipe(prompt, max_new_tokens=256, do_sample=False, temperature=0.1, top_k=50, top_p=0.1, eos_token_id=pipe.tokenizer.eos_token_id, pad_token_id=pipe.tokenizer.pad_token_id)"
      ],
      "metadata": {
        "id": "2FtqY5t6Icx7",
        "colab": {
          "base_uri": "https://localhost:8080/"
        },
        "outputId": "d6193cdc-4b97-4ba2-f440-524732ee6f19"
      },
      "execution_count": 12,
      "outputs": [
        {
          "output_type": "stream",
          "name": "stderr",
          "text": [
            "/usr/local/lib/python3.10/dist-packages/transformers/generation/configuration_utils.py:590: UserWarning: `do_sample` is set to `False`. However, `temperature` is set to `0.1` -- this flag is only used in sample-based generation modes. You should set `do_sample=True` or unset `temperature`.\n",
            "  warnings.warn(\n",
            "/usr/local/lib/python3.10/dist-packages/transformers/generation/configuration_utils.py:595: UserWarning: `do_sample` is set to `False`. However, `top_p` is set to `0.1` -- this flag is only used in sample-based generation modes. You should set `do_sample=True` or unset `top_p`.\n",
            "  warnings.warn(\n"
          ]
        }
      ]
    },
    {
      "cell_type": "code",
      "source": [
        "print(f\"Query:\\n{eval_dataset[rand_idx]['messages'][1]['content']}\")\n",
        "print(f\"Original Answer:\\n{eval_dataset[rand_idx]['messages'][2]['content']}\")\n",
        "print(f\"Generated Answer:\\n{outputs[0]['generated_text'][len(prompt):].strip()}\")"
      ],
      "metadata": {
        "colab": {
          "base_uri": "https://localhost:8080/"
        },
        "id": "_ZbazNTGIWAr",
        "outputId": "af95ba70-cff4-4ae8-8abc-dfe33fbee054"
      },
      "execution_count": 13,
      "outputs": [
        {
          "output_type": "stream",
          "name": "stdout",
          "text": [
            "Query:\n",
            "Who is the opponent of player phil graham?\n",
            "Original Answer:\n",
            "SELECT opponent FROM table_name_72 WHERE player = \"phil graham\"\n",
            "Generated Answer:\n",
            "SELECT opponent FROM table_name_72 WHERE player = \"phil graham\"\n"
          ]
        }
      ]
    },
    {
      "cell_type": "markdown",
      "source": [
        "https://huggingface.co/frankmorales2020"
      ],
      "metadata": {
        "id": "gqWUGU_3efW-"
      }
    },
    {
      "cell_type": "code",
      "source": [
        "# Function to get human feedback (replace with your actual implementation)\n",
        "from transformers import AutoTokenizer, AutoModel\n",
        "from sklearn.metrics.pairwise import cosine_similarity\n",
        "import torch\n",
        "\n",
        "# Load a pre-trained SentenceTransformer model for embedding generation\n",
        "embedding_model_name = \"sentence-transformers/all-mpnet-base-v2\"  # Or another suitable model\n",
        "embedding_model = AutoModel.from_pretrained(embedding_model_name)\n",
        "embedding_tokenizer = AutoTokenizer.from_pretrained(embedding_model_name)\n",
        "\n",
        "def get_similarity_score(sentence1, sentence2):\n",
        "    \"\"\"\n",
        "    Calculates the cosine similarity score between the embeddings of two sentences.\n",
        "    \"\"\"\n",
        "    with torch.no_grad():\n",
        "        embeddings = embedding_model(**embedding_tokenizer(\n",
        "            [sentence1, sentence2],\n",
        "            return_tensors=\"pt\",\n",
        "            padding=True,\n",
        "            truncation=True\n",
        "        )).last_hidden_state[:, 0, :]  # Get the [CLS] token embeddings\n",
        "\n",
        "    similarity = cosine_similarity(embeddings[0].reshape(1, -1), embeddings[1].reshape(1, -1))\n",
        "    return similarity[0][0]\n",
        "\n",
        "def get_human_feedback(prompt, generated_answer, expected_answer):\n",
        "    \"\"\"\n",
        "    Automatically approves the generated answer based on similarity score\n",
        "    compared to the expected answer.\n",
        "    \"\"\"\n",
        "\n",
        "    #print(\"\\nPrompt:\", prompt)\n",
        "    #print(\"Generated Answer:\", generated_answer)\n",
        "    #print(\"Expected Answer:\", expected_answer)\n",
        "\n",
        "    # Calculate similarity score\n",
        "    similarity_score = get_similarity_score(generated_answer, expected_answer)\n",
        "    print(\"Similarity Score:\", similarity_score)\n",
        "\n",
        "    # Set a similarity threshold for approval (adjust as needed)\n",
        "    similarity_threshold = 0.8\n",
        "\n",
        "    if similarity_score > similarity_threshold:\n",
        "        return \"approve\", generated_answer\n",
        "    else:\n",
        "        return \"correct\", expected_answer\n"
      ],
      "metadata": {
        "colab": {
          "base_uri": "https://localhost:8080/",
          "height": 209,
          "referenced_widgets": [
            "dba45a305b5e4e46acb1df9c2f5615e6",
            "6910705e6d8648edbf42599fa4c075dd",
            "c181e5d4b81b45ab9ad7dc516f3b0ba9",
            "09151d8718ca48bf8fa929493d67d983",
            "2bd6eed853dc42dfa574d8895e3b2a2f",
            "53a2ccce4eb04c72b729fb0b7d7c66cd",
            "9dd7722de8ce4fd8a7d2c48bf59b6f18",
            "e38c3505cdde447fab623cc92a5bf49e",
            "2e6295f65bb044f88af4e5087b6722b8",
            "edab637c3fea4b6cacbde6524376cc83",
            "a493a1e5962044ae8b90e5c535d67e57",
            "df64c7ab2fce49648750f9f391833b17",
            "a9f82ad7520348b4a7f6e51d1d57929e",
            "e2078f7f2f0647e89ca2443b46ba3bb3",
            "2d573e43ec0f4a15b5de6db00553d0c8",
            "9a1e9cc0ea304115b766a8de04acbafc",
            "3149c8a09587424789fe47a63f92e43f",
            "e026453043c040cfb109ebc0f9d83230",
            "14ab425dcdd14bebb0e1e2c2f86c6690",
            "dc98ba5d61404fe88c5cc167e15d0906",
            "54b953b83851448c99379ac5d37d73ab",
            "1314b046bcd242c683fe18daf47b1c5b",
            "6870bb825b4a4358b456ca257420071f",
            "5c3140fefb7a486397400e74c5aa2be4",
            "7763d0b9d2e74e229ccc7a3a464d46d8",
            "203102c926e347719c4f0d4603eb47c1",
            "76902c53efe94e09a562eb1371c429ba",
            "5e830badc98b4808b839d0bb3cefa26e",
            "19d2b051efa04597b2dbf1e4729b5dc4",
            "536278aee3904186b5e7ee4462ea8903",
            "1355f04c6ab04d06b264e32c37279850",
            "c870482e111b4200b7c32716b478aae3",
            "f9c1e7841d1f4b3db90b7229ef5c51e0",
            "1753b2ad63404b22a449ced4cc65b67e",
            "b64431d9c17441d3a7751fe4fbe95267",
            "96ab5c50427e49269129d2194ed987d9",
            "c02040cc33b7413a8c3d333b36a28ff6",
            "76ef7e84988148a0bd052a62fc5a7050",
            "283d6736694047ad9e54ba0eadbd1d17",
            "fa0f49c8fd4a426286f56aab8aeece3f",
            "f06bce45ac644432b7c0f133fbfc54f2",
            "81a00145b8974512bc283529d44de088",
            "aec3c620ca194e7f906ead228d82f330",
            "01326ac9682c41739a072e9a12e7a1b1",
            "3676877b8c374ae093ce2688910890e6",
            "0c694bb2ae354499a92e0994ad9c7485",
            "6a8eeacd50b74798bdef4df36220fc4a",
            "b9ec8a92e8e141109df7a4b4dd2c439e",
            "6ef3932970844f02b7957e6ac0cd85c6",
            "429d27046ed3464ca093216f1163497e",
            "805c8281fe1943bb95cb1c98fadfaa4b",
            "c4a26afd901a45e7b5c33fd565be6c7e",
            "b5cf0aac58844b8d8ab5990c2832d100",
            "633cb19332ca42778ef05b5b09533184",
            "56853d26035548018977ed897437b5c0",
            "0bcff48c525a4c0781c4f869f0be651e",
            "1c36b842835f48e99e857b8e4b6f45f4",
            "c068936852c04a5c9f142f3a44b96d03",
            "8999cd5fde6a42679d9f64883481ca30",
            "1320f97268a14660a614224f9a709ecc",
            "7b8e01d2932744a6a0738656a1a3ffe8",
            "87533395e0fb411baa32f4897167a9a0",
            "fd30186548744a0782163139dc0aee68",
            "31381055150743ec8162d85f73c4f53a",
            "2c1851a6e76f488cb2af8eaef54a1773",
            "6c93c9abc0b24f41a23e8babb94393ed"
          ]
        },
        "id": "21BKjbhTaEuR",
        "outputId": "19c1cdce-c650-4b3c-9a31-41c72cf5984a"
      },
      "execution_count": 14,
      "outputs": [
        {
          "output_type": "display_data",
          "data": {
            "text/plain": [
              "config.json:   0%|          | 0.00/571 [00:00<?, ?B/s]"
            ],
            "application/vnd.jupyter.widget-view+json": {
              "version_major": 2,
              "version_minor": 0,
              "model_id": "dba45a305b5e4e46acb1df9c2f5615e6"
            }
          },
          "metadata": {}
        },
        {
          "output_type": "display_data",
          "data": {
            "text/plain": [
              "model.safetensors:   0%|          | 0.00/438M [00:00<?, ?B/s]"
            ],
            "application/vnd.jupyter.widget-view+json": {
              "version_major": 2,
              "version_minor": 0,
              "model_id": "df64c7ab2fce49648750f9f391833b17"
            }
          },
          "metadata": {}
        },
        {
          "output_type": "display_data",
          "data": {
            "text/plain": [
              "tokenizer_config.json:   0%|          | 0.00/363 [00:00<?, ?B/s]"
            ],
            "application/vnd.jupyter.widget-view+json": {
              "version_major": 2,
              "version_minor": 0,
              "model_id": "6870bb825b4a4358b456ca257420071f"
            }
          },
          "metadata": {}
        },
        {
          "output_type": "display_data",
          "data": {
            "text/plain": [
              "vocab.txt:   0%|          | 0.00/232k [00:00<?, ?B/s]"
            ],
            "application/vnd.jupyter.widget-view+json": {
              "version_major": 2,
              "version_minor": 0,
              "model_id": "1753b2ad63404b22a449ced4cc65b67e"
            }
          },
          "metadata": {}
        },
        {
          "output_type": "display_data",
          "data": {
            "text/plain": [
              "tokenizer.json:   0%|          | 0.00/466k [00:00<?, ?B/s]"
            ],
            "application/vnd.jupyter.widget-view+json": {
              "version_major": 2,
              "version_minor": 0,
              "model_id": "3676877b8c374ae093ce2688910890e6"
            }
          },
          "metadata": {}
        },
        {
          "output_type": "display_data",
          "data": {
            "text/plain": [
              "special_tokens_map.json:   0%|          | 0.00/239 [00:00<?, ?B/s]"
            ],
            "application/vnd.jupyter.widget-view+json": {
              "version_major": 2,
              "version_minor": 0,
              "model_id": "0bcff48c525a4c0781c4f869f0be651e"
            }
          },
          "metadata": {}
        }
      ]
    },
    {
      "cell_type": "code",
      "source": [
        "from tqdm import tqdm\n",
        "\n",
        "# Load our test dataset\n",
        "eval_dataset = load_dataset(\"json\", data_files=\"test_dataset.json\", split=\"train\")\n",
        "rand_idx = randint(0, len(eval_dataset))\n",
        "\n",
        "def evaluate(sample):\n",
        "    prompt = pipe.tokenizer.apply_chat_template(sample[\"messages\"][:2], tokenize=False, add_generation_prompt=True)\n",
        "    outputs = pipe(prompt, max_new_tokens=256, do_sample=True, temperature=0.7, top_k=50, top_p=0.95, eos_token_id=pipe.tokenizer.eos_token_id, pad_token_id=pipe.tokenizer.pad_token_id)\n",
        "    generated_answer = outputs[0]['generated_text'][len(prompt):].strip()\n",
        "    real_answer = sample[\"messages\"][2][\"content\"]\n",
        "\n",
        "    print('\\n')\n",
        "    print('Question: %s\\n'%sample[\"messages\"][1][\"content\"])\n",
        "    #print(sample[\"messages\"][2][\"content\"])\n",
        "    print('\\n')\n",
        "    print('Real Answer: %s'%sample[\"messages\"][2][\"content\"])\n",
        "    print('Generated Answer: %s'%outputs[0]['generated_text'][len(prompt):].strip())\n",
        "    print('\\n')\n",
        "\n",
        "    # Get human feedback\n",
        "    #get_human_feedback(prompt, generated_answer, expected_answer):\n",
        "    feedback = get_human_feedback(prompt, generated_answer, real_answer)\n",
        "    print('\\n')\n",
        "    print('Feedback:', feedback)\n",
        "\n",
        "\n",
        "\n",
        "    print('\\n')\n",
        "    if  generated_answer == real_answer:\n",
        "        print('Success!')\n",
        "        print('Success Answer: %s'%sample[\"messages\"][2][\"content\"])\n",
        "        print('\\n')\n",
        "        return 1\n",
        "    else:\n",
        "        print('Real Answer: %s'%real_answer)\n",
        "        print('Failed Answer: %s'%generated_answer)\n",
        "        print('\\n')\n",
        "        return 0\n",
        "\n",
        "\n",
        "\n",
        "success_rate = []\n",
        "\n",
        "number_of_eval_samples = 10\n",
        "# iterate over eval dataset and predict\n",
        "for s in tqdm(eval_dataset.shuffle().select(range(number_of_eval_samples))):\n",
        "    success_rate.append(evaluate(s))\n",
        "\n",
        "# compute accuracy\n",
        "accuracy = sum(success_rate)/len(success_rate)\n",
        "\n",
        "print(f\"Accuracy - exact match: {accuracy*100:.2f}%\")"
      ],
      "metadata": {
        "id": "gCz2VQnvHtrB"
      },
      "execution_count": null,
      "outputs": []
    },
    {
      "cell_type": "markdown",
      "source": [
        "When evaluated on 10 samples from the evaluation dataset, our model achieved an impressive accuracy of 90.00%.\n"
      ],
      "metadata": {
        "id": "tY18IMLqRcYB"
      }
    },
    {
      "cell_type": "code",
      "source": [
        "from tqdm import tqdm\n",
        "from difflib import SequenceMatcher\n",
        "from random import randint\n",
        "from datasets import load_dataset\n",
        "\n",
        "# Load our test dataset\n",
        "eval_dataset = load_dataset(\"json\", data_files=\"test_dataset.json\", split=\"train\")\n",
        "rand_idx = randint(0, len(eval_dataset))\n",
        "\n",
        "def evaluate(sample):\n",
        "    prompt = pipe.tokenizer.apply_chat_template(sample[\"messages\"][:2], tokenize=False, add_generation_prompt=True)\n",
        "    outputs = pipe(prompt, max_new_tokens=256, do_sample=True, temperature=0.7, top_k=50, top_p=0.95, eos_token_id=pipe.tokenizer.eos_token_id, pad_token_id=pipe.tokenizer.pad_token_id)\n",
        "    generated_answer = outputs[0]['generated_text'][len(prompt):].strip()\n",
        "    real_answer = sample[\"messages\"][2][\"content\"]\n",
        "\n",
        "    print('\\n')\n",
        "    print('Question: %s\\n'%sample[\"messages\"][1][\"content\"])\n",
        "    print('\\n')\n",
        "    print('Real Answer: %s'%sample[\"messages\"][2][\"content\"])\n",
        "    print('Generated Answer: %s'%outputs[0]['generated_text'][len(prompt):].strip())\n",
        "    print('\\n')\n",
        "\n",
        "    # Get human feedback (assuming you have a get_human_feedback function)\n",
        "    feedback = get_human_feedback(prompt, generated_answer, real_answer)\n",
        "    print('\\n')\n",
        "    print('Feedback:', feedback)\n",
        "\n",
        "    print('\\n')\n",
        "    if generated_answer == real_answer:\n",
        "        print('Success!')\n",
        "        print('Success Answer: %s'%sample[\"messages\"][2][\"content\"])\n",
        "        print('\\n')\n",
        "        return 1, generated_answer, prompt  # Return generated_answer and prompt\n",
        "    else:\n",
        "        print('Real Answer: %s'%real_answer)\n",
        "        print('Failed Answer: %s'%generated_answer)\n",
        "        print('\\n')\n",
        "        return 0, generated_answer, prompt  # Return generated_answer and prompt\n",
        "\n",
        "def similar(a, b):\n",
        "    return SequenceMatcher(None, a, b).ratio()\n",
        "\n",
        "success_rate = []\n",
        "similarity_scores = []  # List to store similarity scores\n",
        "\n",
        "number_of_eval_samples = 10\n",
        "# iterate over eval dataset and predict\n",
        "for s in tqdm(eval_dataset.shuffle().select(range(number_of_eval_samples))):\n",
        "    success, generated_answer, prompt = evaluate(s)  # Get generated_answer and prompt\n",
        "    success_rate.append(success)\n",
        "    # Calculate and store similarity score\n",
        "    real_answer = s[\"messages\"][2][\"content\"]\n",
        "    similarity_scores.append(similar(real_answer, generated_answer))\n",
        "\n",
        "# compute accuracy\n",
        "accuracy = sum(success_rate)/len(success_rate)\n",
        "\n",
        "# Calculate average similarity\n",
        "print(\"Similarity Scores:\", similarity_scores)  # Print similarity scores for debugging\n",
        "avg_similarity = sum(similarity_scores) / len(similarity_scores)\n",
        "\n",
        "print(f\"Accuracy - exact match: {accuracy*100:.2f}%\")\n",
        "print(f\"Average Similarity: {avg_similarity*100:.2f}%\")"
      ],
      "metadata": {
        "colab": {
          "base_uri": "https://localhost:8080/"
        },
        "id": "9QGkObCoz6pO",
        "outputId": "b1750d67-a2bb-4436-deba-a0a2d2eca3de"
      },
      "execution_count": 23,
      "outputs": [
        {
          "output_type": "stream",
          "name": "stderr",
          "text": [
            " 10%|█         | 1/10 [00:03<00:32,  3.63s/it]"
          ]
        },
        {
          "output_type": "stream",
          "name": "stdout",
          "text": [
            "\n",
            "\n",
            "Question: How many appointment dates were recorded when Jürgen Kohler was the replaced by?\n",
            "\n",
            "\n",
            "\n",
            "Real Answer: SELECT COUNT(date_of_appointment) FROM table_17085981_2 WHERE replaced_by = \"Jürgen Kohler\"\n",
            "Generated Answer: SELECT COUNT(date_of_appointment) FROM table_17085981_2 WHERE replaced_by = \"Jürgen Kohler\"\n",
            "\n",
            "\n",
            "Similarity Score: 1.0\n",
            "\n",
            "\n",
            "Feedback: ('approve', 'SELECT COUNT(date_of_appointment) FROM table_17085981_2 WHERE replaced_by = \"Jürgen Kohler\"')\n",
            "\n",
            "\n",
            "Success!\n",
            "Success Answer: SELECT COUNT(date_of_appointment) FROM table_17085981_2 WHERE replaced_by = \"Jürgen Kohler\"\n",
            "\n",
            "\n"
          ]
        },
        {
          "output_type": "stream",
          "name": "stderr",
          "text": [
            "\r 20%|██        | 2/10 [00:05<00:22,  2.75s/it]"
          ]
        },
        {
          "output_type": "stream",
          "name": "stdout",
          "text": [
            "\n",
            "\n",
            "Question: How many points did Denis Pederson have?\n",
            "\n",
            "\n",
            "\n",
            "Real Answer: SELECT points FROM table_name_79 WHERE player = \"denis pederson\"\n",
            "Generated Answer: SELECT COUNT(points) FROM table_name_79 WHERE player = \"denis pederson\"\n",
            "\n",
            "\n",
            "Similarity Score: 0.7711822\n",
            "\n",
            "\n",
            "Feedback: ('correct', 'SELECT points FROM table_name_79 WHERE player = \"denis pederson\"')\n",
            "\n",
            "\n",
            "Real Answer: SELECT points FROM table_name_79 WHERE player = \"denis pederson\"\n",
            "Failed Answer: SELECT COUNT(points) FROM table_name_79 WHERE player = \"denis pederson\"\n",
            "\n",
            "\n"
          ]
        },
        {
          "output_type": "stream",
          "name": "stderr",
          "text": [
            "\r 30%|███       | 3/10 [00:07<00:16,  2.42s/it]"
          ]
        },
        {
          "output_type": "stream",
          "name": "stdout",
          "text": [
            "\n",
            "\n",
            "Question: What is the lost of Ynysybwl RFC?\n",
            "\n",
            "\n",
            "\n",
            "Real Answer: SELECT lost FROM table_name_47 WHERE club = \"ynysybwl rfc\"\n",
            "Generated Answer: SELECT lost FROM table_name_47 WHERE club = \"ynysybwl rfc\"\n",
            "\n",
            "\n",
            "Similarity Score: 1.0\n",
            "\n",
            "\n",
            "Feedback: ('approve', 'SELECT lost FROM table_name_47 WHERE club = \"ynysybwl rfc\"')\n",
            "\n",
            "\n",
            "Success!\n",
            "Success Answer: SELECT lost FROM table_name_47 WHERE club = \"ynysybwl rfc\"\n",
            "\n",
            "\n"
          ]
        },
        {
          "output_type": "stream",
          "name": "stderr",
          "text": [
            "\r 40%|████      | 4/10 [00:10<00:14,  2.34s/it]"
          ]
        },
        {
          "output_type": "stream",
          "name": "stdout",
          "text": [
            "\n",
            "\n",
            "Question: WHICH Outcome IS ON 18 july 1993?\n",
            "\n",
            "\n",
            "\n",
            "Real Answer: SELECT outcome FROM table_name_70 WHERE date = \"18 july 1993\"\n",
            "Generated Answer: SELECT outcome FROM table_name_70 WHERE date = \"18 july 1993\"\n",
            "\n",
            "\n",
            "Similarity Score: 0.9999999\n",
            "\n",
            "\n",
            "Feedback: ('approve', 'SELECT outcome FROM table_name_70 WHERE date = \"18 july 1993\"')\n",
            "\n",
            "\n",
            "Success!\n",
            "Success Answer: SELECT outcome FROM table_name_70 WHERE date = \"18 july 1993\"\n",
            "\n",
            "\n"
          ]
        },
        {
          "output_type": "stream",
          "name": "stderr",
          "text": [
            "\r 50%|█████     | 5/10 [00:12<00:12,  2.49s/it]"
          ]
        },
        {
          "output_type": "stream",
          "name": "stdout",
          "text": [
            "\n",
            "\n",
            "Question: When 14.85 kilometers squared is the land area what is the name?\n",
            "\n",
            "\n",
            "\n",
            "Real Answer: SELECT name FROM table_189598_7 WHERE land_area__km²_ = \"14.85\"\n",
            "Generated Answer: SELECT name FROM table_189598_7 WHERE land_area__km²_ = \"14.85\"\n",
            "\n",
            "\n",
            "Similarity Score: 1.0000001\n",
            "\n",
            "\n",
            "Feedback: ('approve', 'SELECT name FROM table_189598_7 WHERE land_area__km²_ = \"14.85\"')\n",
            "\n",
            "\n",
            "Success!\n",
            "Success Answer: SELECT name FROM table_189598_7 WHERE land_area__km²_ = \"14.85\"\n",
            "\n",
            "\n"
          ]
        },
        {
          "output_type": "stream",
          "name": "stderr",
          "text": [
            "\r 60%|██████    | 6/10 [00:15<00:09,  2.49s/it]"
          ]
        },
        {
          "output_type": "stream",
          "name": "stdout",
          "text": [
            "\n",
            "\n",
            "Question: What district did S. William Green belong to?\n",
            "\n",
            "\n",
            "\n",
            "Real Answer: SELECT district FROM table_1341663_33 WHERE incumbent = \"S. William Green\"\n",
            "Generated Answer: SELECT district FROM table_1341663_33 WHERE incumbent = \"S. William Green\"\n",
            "\n",
            "\n",
            "Similarity Score: 1.0000002\n",
            "\n",
            "\n",
            "Feedback: ('approve', 'SELECT district FROM table_1341663_33 WHERE incumbent = \"S. William Green\"')\n",
            "\n",
            "\n",
            "Success!\n",
            "Success Answer: SELECT district FROM table_1341663_33 WHERE incumbent = \"S. William Green\"\n",
            "\n",
            "\n"
          ]
        },
        {
          "output_type": "stream",
          "name": "stderr",
          "text": [
            "\r 70%|███████   | 7/10 [00:17<00:07,  2.35s/it]"
          ]
        },
        {
          "output_type": "stream",
          "name": "stdout",
          "text": [
            "\n",
            "\n",
            "Question: What season had a viewer rank of #4?\n",
            "\n",
            "\n",
            "\n",
            "Real Answer: SELECT COUNT(season) FROM table_name_58 WHERE viewer_rank___number_ = \"#4\"\n",
            "Generated Answer: SELECT season FROM table_name_58 WHERE viewer_rank___number_ = \"4\"\n",
            "\n",
            "\n",
            "Similarity Score: 0.88233495\n",
            "\n",
            "\n",
            "Feedback: ('approve', 'SELECT season FROM table_name_58 WHERE viewer_rank___number_ = \"4\"')\n",
            "\n",
            "\n",
            "Real Answer: SELECT COUNT(season) FROM table_name_58 WHERE viewer_rank___number_ = \"#4\"\n",
            "Failed Answer: SELECT season FROM table_name_58 WHERE viewer_rank___number_ = \"4\"\n",
            "\n",
            "\n"
          ]
        },
        {
          "output_type": "stream",
          "name": "stderr",
          "text": [
            "\r 80%|████████  | 8/10 [00:21<00:05,  2.81s/it]"
          ]
        },
        {
          "output_type": "stream",
          "name": "stdout",
          "text": [
            "\n",
            "\n",
            "Question: What is listed in tor floysvik when karianne gulliksen is 6?\n",
            "\n",
            "\n",
            "\n",
            "Real Answer: SELECT MIN(tor_fløysvik) FROM table_28677723_10 WHERE karianne_gulliksen = 6\n",
            "Generated Answer: SELECT MAX(tor_fløysvik) FROM table_28677723_10 WHERE karianne_gulliksen = 6\n",
            "\n",
            "\n",
            "Similarity Score: 0.6992097\n",
            "\n",
            "\n",
            "Feedback: ('correct', 'SELECT MIN(tor_fløysvik) FROM table_28677723_10 WHERE karianne_gulliksen = 6')\n",
            "\n",
            "\n",
            "Real Answer: SELECT MIN(tor_fløysvik) FROM table_28677723_10 WHERE karianne_gulliksen = 6\n",
            "Failed Answer: SELECT MAX(tor_fløysvik) FROM table_28677723_10 WHERE karianne_gulliksen = 6\n",
            "\n",
            "\n"
          ]
        },
        {
          "output_type": "stream",
          "name": "stderr",
          "text": [
            "\r 90%|█████████ | 9/10 [00:24<00:02,  2.87s/it]"
          ]
        },
        {
          "output_type": "stream",
          "name": "stdout",
          "text": [
            "\n",
            "\n",
            "Question: What was the year when West Manila has a tariff increase of 6.5?\n",
            "\n",
            "\n",
            "\n",
            "Real Answer: SELECT year FROM table_17302440_1 WHERE west_manila = \"6.5\"\n",
            "Generated Answer: SELECT year FROM table_17302440_1 WHERE west_manila = \"Tariff increase of 6.5\"\n",
            "\n",
            "\n",
            "Similarity Score: 0.8412812\n",
            "\n",
            "\n",
            "Feedback: ('approve', 'SELECT year FROM table_17302440_1 WHERE west_manila = \"Tariff increase of 6.5\"')\n",
            "\n",
            "\n",
            "Real Answer: SELECT year FROM table_17302440_1 WHERE west_manila = \"6.5\"\n",
            "Failed Answer: SELECT year FROM table_17302440_1 WHERE west_manila = \"Tariff increase of 6.5\"\n",
            "\n",
            "\n"
          ]
        },
        {
          "output_type": "stream",
          "name": "stderr",
          "text": [
            "100%|██████████| 10/10 [00:26<00:00,  2.64s/it]"
          ]
        },
        {
          "output_type": "stream",
          "name": "stdout",
          "text": [
            "\n",
            "\n",
            "Question: What is the score when the player is Matt Kuchar?\n",
            "\n",
            "\n",
            "\n",
            "Real Answer: SELECT score FROM table_28498999_5 WHERE player = \"Matt Kuchar\"\n",
            "Generated Answer: SELECT score FROM table_28498999_5 WHERE player = \"Matt Kuchar\"\n",
            "\n",
            "\n",
            "Similarity Score: 1.0000002\n",
            "\n",
            "\n",
            "Feedback: ('approve', 'SELECT score FROM table_28498999_5 WHERE player = \"Matt Kuchar\"')\n",
            "\n",
            "\n",
            "Success!\n",
            "Success Answer: SELECT score FROM table_28498999_5 WHERE player = \"Matt Kuchar\"\n",
            "\n",
            "\n",
            "Similarity Scores: [1.0, 0.9481481481481482, 1.0, 1.0, 1.0, 1.0, 0.9428571428571428, 0.9736842105263158, 0.8613138686131386, 1.0]\n",
            "Accuracy - exact match: 60.00%\n",
            "Average Similarity: 97.26%\n"
          ]
        },
        {
          "output_type": "stream",
          "name": "stderr",
          "text": [
            "\n"
          ]
        }
      ]
    },
    {
      "cell_type": "code",
      "source": [
        "from tqdm import tqdm\n",
        "from difflib import SequenceMatcher\n",
        "from random import randint\n",
        "from datasets import load_dataset\n",
        "\n",
        "# Load our test dataset\n",
        "eval_dataset = load_dataset(\"json\", data_files=\"test_dataset.json\", split=\"train\")\n",
        "rand_idx = randint(0, len(eval_dataset))\n",
        "\n",
        "def evaluate(sample):\n",
        "    prompt = pipe.tokenizer.apply_chat_template(sample[\"messages\"][:2], tokenize=False, add_generation_prompt=True)\n",
        "    outputs = pipe(prompt, max_new_tokens=256, do_sample=True, temperature=0.7, top_k=50, top_p=0.95, eos_token_id=pipe.tokenizer.eos_token_id, pad_token_id=pipe.tokenizer.pad_token_id)\n",
        "    generated_answer = outputs[0]['generated_text'][len(prompt):].strip()\n",
        "    real_answer = sample[\"messages\"][2][\"content\"]\n",
        "\n",
        "    print('\\n')\n",
        "    print('Question: %s\\n'%sample[\"messages\"][1][\"content\"])\n",
        "    print('\\n')\n",
        "    print('Real Answer: %s'%sample[\"messages\"][2][\"content\"])\n",
        "    print('Generated Answer: %s'%outputs[0]['generated_text'][len(prompt):].strip())\n",
        "    print('\\n')\n",
        "\n",
        "    # Get human feedback (this is where you'll use RLHF feedback)\n",
        "    feedback = get_human_feedback(prompt, generated_answer, real_answer)\n",
        "    print('\\n')\n",
        "    print('Feedback:', feedback)\n",
        "\n",
        "    print('\\n')\n",
        "    if generated_answer == real_answer:\n",
        "        print('Success!')\n",
        "        print('Success Answer: %s'%sample[\"messages\"][2][\"content\"])\n",
        "        print('\\n')\n",
        "        return 1, generated_answer, prompt, feedback  # Return feedback as well\n",
        "    else:\n",
        "        print('Real Answer: %s'%real_answer)\n",
        "        print('Failed Answer: %s'%generated_answer)\n",
        "        print('\\n')\n",
        "        return 0, generated_answer, prompt, feedback  # Return feedback as well\n",
        "\n",
        "def similar(a, b):\n",
        "    return SequenceMatcher(None, a, b).ratio()\n",
        "\n",
        "def calculate_rlhf_score(feedback):\n",
        "    # Implement your logic to convert RLHF feedback to a score\n",
        "    if feedback[0] == \"approve\":  # Assuming \"approve\" means correct and good\n",
        "        return 1.0\n",
        "    elif feedback[0] == \"fix\":  # Assuming \"fix\" means needs improvement\n",
        "        return 0.5  # You can adjust this score based on how much improvement is needed\n",
        "    else:\n",
        "        return 0.0  # For other feedback types, you might assign different scores\n",
        "\n",
        "success_rate = []\n",
        "similarity_scores = []\n",
        "rlhf_scores = []  # List to store RLHF scores\n",
        "\n",
        "number_of_eval_samples = 10\n",
        "\n",
        "for s in tqdm(eval_dataset.shuffle().select(range(number_of_eval_samples))):\n",
        "    success, generated_answer, prompt, feedback = evaluate(s)  # Get feedback\n",
        "    success_rate.append(success)\n",
        "    real_answer = s[\"messages\"][2][\"content\"]\n",
        "    similarity_scores.append(similar(real_answer, generated_answer))\n",
        "    rlhf_scores.append(calculate_rlhf_score(feedback))  # Calculate and store RLHF score\n",
        "\n",
        "accuracy = sum(success_rate) / len(success_rate)\n",
        "\n",
        "print(\"Similarity Scores:\", similarity_scores)\n",
        "avg_similarity = sum(similarity_scores) / len(similarity_scores)\n",
        "\n",
        "print(\"RLHF Scores:\", rlhf_scores)  # Print RLHF scores\n",
        "avg_rlhf_score = sum(rlhf_scores) / len(rlhf_scores)  # Calculate average RLHF score\n",
        "\n",
        "print(f\"Accuracy - exact match: {accuracy*100:.2f}%\")\n",
        "print(f\"Average Similarity: {avg_similarity*100:.2f}%\")\n",
        "print(f\"Average RLHF Score: {avg_rlhf_score*100:.2f}%\")"
      ],
      "metadata": {
        "colab": {
          "base_uri": "https://localhost:8080/"
        },
        "id": "e9zmChCp1UBT",
        "outputId": "75f62318-b3f5-4e93-8b05-232838216dcc"
      },
      "execution_count": 25,
      "outputs": [
        {
          "output_type": "stream",
          "name": "stderr",
          "text": [
            " 10%|█         | 1/10 [00:02<00:24,  2.75s/it]"
          ]
        },
        {
          "output_type": "stream",
          "name": "stdout",
          "text": [
            "\n",
            "\n",
            "Question: What is the sum of Poles, when Season is greater than 2004, and when Podiums is less than 1?\n",
            "\n",
            "\n",
            "\n",
            "Real Answer: SELECT SUM(poles) FROM table_name_64 WHERE season < 2004 AND podiums < 1\n",
            "Generated Answer: SELECT SUM(poles) FROM table_name_64 WHERE season > 2004 AND podiums < 1\n",
            "\n",
            "\n",
            "Similarity Score: 0.997982\n",
            "\n",
            "\n",
            "Feedback: ('approve', 'SELECT SUM(poles) FROM table_name_64 WHERE season > 2004 AND podiums < 1')\n",
            "\n",
            "\n",
            "Real Answer: SELECT SUM(poles) FROM table_name_64 WHERE season < 2004 AND podiums < 1\n",
            "Failed Answer: SELECT SUM(poles) FROM table_name_64 WHERE season > 2004 AND podiums < 1\n",
            "\n",
            "\n"
          ]
        },
        {
          "output_type": "stream",
          "name": "stderr",
          "text": [
            "\r 20%|██        | 2/10 [00:04<00:15,  1.98s/it]"
          ]
        },
        {
          "output_type": "stream",
          "name": "stdout",
          "text": [
            "\n",
            "\n",
            "Question: What are the names of wrestlers days held less than 100?\n",
            "\n",
            "\n",
            "\n",
            "Real Answer: SELECT Name FROM wrestler WHERE Days_held < 100\n",
            "Generated Answer: SELECT Name FROM wrestler WHERE Days_held < 100\n",
            "\n",
            "\n",
            "Similarity Score: 1.0\n",
            "\n",
            "\n",
            "Feedback: ('approve', 'SELECT Name FROM wrestler WHERE Days_held < 100')\n",
            "\n",
            "\n",
            "Success!\n",
            "Success Answer: SELECT Name FROM wrestler WHERE Days_held < 100\n",
            "\n",
            "\n"
          ]
        },
        {
          "output_type": "stream",
          "name": "stderr",
          "text": [
            "\r 30%|███       | 3/10 [00:06<00:15,  2.21s/it]"
          ]
        },
        {
          "output_type": "stream",
          "name": "stdout",
          "text": [
            "\n",
            "\n",
            "Question: Which driver for Greenfield Mowers Racing has fewer than 36 points?\n",
            "\n",
            "\n",
            "\n",
            "Real Answer: SELECT driver FROM table_name_82 WHERE points < 36 AND team = \"greenfield mowers racing\"\n",
            "Generated Answer: SELECT driver FROM table_name_82 WHERE points < 36 AND team = \"greenfield mowers racing\"\n",
            "\n",
            "\n",
            "Similarity Score: 1.0000001\n",
            "\n",
            "\n",
            "Feedback: ('approve', 'SELECT driver FROM table_name_82 WHERE points < 36 AND team = \"greenfield mowers racing\"')\n",
            "\n",
            "\n",
            "Success!\n",
            "Success Answer: SELECT driver FROM table_name_82 WHERE points < 36 AND team = \"greenfield mowers racing\"\n",
            "\n",
            "\n"
          ]
        },
        {
          "output_type": "stream",
          "name": "stderr",
          "text": [
            "\r 40%|████      | 4/10 [00:09<00:14,  2.48s/it]"
          ]
        },
        {
          "output_type": "stream",
          "name": "stdout",
          "text": [
            "\n",
            "\n",
            "Question: If the player is Corey Pavin when he had a To par of over 7, what was the sum of his totals?\n",
            "\n",
            "\n",
            "\n",
            "Real Answer: SELECT SUM(total) FROM table_name_77 WHERE to_par > 7 AND player = \"corey pavin\"\n",
            "Generated Answer: SELECT SUM(total) FROM table_name_77 WHERE to_par > 7 AND player = \"corey pavin\"\n",
            "\n",
            "\n",
            "Similarity Score: 1.0\n",
            "\n",
            "\n",
            "Feedback: ('approve', 'SELECT SUM(total) FROM table_name_77 WHERE to_par > 7 AND player = \"corey pavin\"')\n",
            "\n",
            "\n",
            "Success!\n",
            "Success Answer: SELECT SUM(total) FROM table_name_77 WHERE to_par > 7 AND player = \"corey pavin\"\n",
            "\n",
            "\n"
          ]
        },
        {
          "output_type": "stream",
          "name": "stderr",
          "text": [
            "\r 50%|█████     | 5/10 [00:12<00:12,  2.56s/it]"
          ]
        },
        {
          "output_type": "stream",
          "name": "stdout",
          "text": [
            "\n",
            "\n",
            "Question: What year is center Ann Wauters?\n",
            "\n",
            "\n",
            "\n",
            "Real Answer: SELECT SUM(year) FROM table_name_26 WHERE position = \"center\" AND player = \"ann wauters\"\n",
            "Generated Answer: SELECT SUM(year) FROM table_name_26 WHERE position = \"center\" AND player = \"ann wauters\"\n",
            "\n",
            "\n",
            "Similarity Score: 1.0000002\n",
            "\n",
            "\n",
            "Feedback: ('approve', 'SELECT SUM(year) FROM table_name_26 WHERE position = \"center\" AND player = \"ann wauters\"')\n",
            "\n",
            "\n",
            "Success!\n",
            "Success Answer: SELECT SUM(year) FROM table_name_26 WHERE position = \"center\" AND player = \"ann wauters\"\n",
            "\n",
            "\n"
          ]
        },
        {
          "output_type": "stream",
          "name": "stderr",
          "text": [
            "\r 60%|██████    | 6/10 [00:14<00:09,  2.44s/it]"
          ]
        },
        {
          "output_type": "stream",
          "name": "stdout",
          "text": [
            "\n",
            "\n",
            "Question: When the venue was punt road oval, what was the Home teams score?\n",
            "\n",
            "\n",
            "\n",
            "Real Answer: SELECT home_team AS score FROM table_name_74 WHERE venue = \"punt road oval\"\n",
            "Generated Answer: SELECT home_team AS score FROM table_name_74 WHERE venue = \"punt road oval\"\n",
            "\n",
            "\n",
            "Similarity Score: 1.0\n",
            "\n",
            "\n",
            "Feedback: ('approve', 'SELECT home_team AS score FROM table_name_74 WHERE venue = \"punt road oval\"')\n",
            "\n",
            "\n",
            "Success!\n",
            "Success Answer: SELECT home_team AS score FROM table_name_74 WHERE venue = \"punt road oval\"\n",
            "\n",
            "\n"
          ]
        },
        {
          "output_type": "stream",
          "name": "stderr",
          "text": [
            "\r 70%|███████   | 7/10 [00:17<00:07,  2.52s/it]"
          ]
        },
        {
          "output_type": "stream",
          "name": "stdout",
          "text": [
            "\n",
            "\n",
            "Question: What year was incumbent Claude Fuller first elected? \n",
            "\n",
            "\n",
            "\n",
            "Real Answer: SELECT first_elected FROM table_1342338_5 WHERE incumbent = \"Claude Fuller\"\n",
            "Generated Answer: SELECT first_elected FROM table_1342338_5 WHERE incumbent = \"Claude Fuller\"\n",
            "\n",
            "\n",
            "Similarity Score: 1.0000002\n",
            "\n",
            "\n",
            "Feedback: ('approve', 'SELECT first_elected FROM table_1342338_5 WHERE incumbent = \"Claude Fuller\"')\n",
            "\n",
            "\n",
            "Success!\n",
            "Success Answer: SELECT first_elected FROM table_1342338_5 WHERE incumbent = \"Claude Fuller\"\n",
            "\n",
            "\n"
          ]
        },
        {
          "output_type": "stream",
          "name": "stderr",
          "text": [
            "\r 80%|████████  | 8/10 [00:20<00:05,  2.69s/it]"
          ]
        },
        {
          "output_type": "stream",
          "name": "stdout",
          "text": [
            "\n",
            "\n",
            "Question: What is the high grid for osella - alfa romeo, and a Laps larger than 61?\n",
            "\n",
            "\n",
            "\n",
            "Real Answer: SELECT MAX(grid) FROM table_name_56 WHERE constructor = \"osella - alfa romeo\" AND laps > 61\n",
            "Generated Answer: SELECT MAX(grid) FROM table_name_56 WHERE constructor = \"osella - alfa romeo\" AND laps > 61\n",
            "\n",
            "\n",
            "Similarity Score: 0.9999999\n",
            "\n",
            "\n",
            "Feedback: ('approve', 'SELECT MAX(grid) FROM table_name_56 WHERE constructor = \"osella - alfa romeo\" AND laps > 61')\n",
            "\n",
            "\n",
            "Success!\n",
            "Success Answer: SELECT MAX(grid) FROM table_name_56 WHERE constructor = \"osella - alfa romeo\" AND laps > 61\n",
            "\n",
            "\n"
          ]
        },
        {
          "output_type": "stream",
          "name": "stderr",
          "text": [
            "\r 90%|█████████ | 9/10 [00:21<00:02,  2.30s/it]"
          ]
        },
        {
          "output_type": "stream",
          "name": "stdout",
          "text": [
            "\n",
            "\n",
            "Question: Find all the distinct district names ordered by city area in descending.\n",
            "\n",
            "\n",
            "\n",
            "Real Answer: SELECT DISTINCT District_name FROM district ORDER BY city_area DESC\n",
            "Generated Answer: SELECT District_name FROM district ORDER BY city_area DESC\n",
            "\n",
            "\n",
            "Similarity Score: 0.9165655\n",
            "\n",
            "\n",
            "Feedback: ('approve', 'SELECT District_name FROM district ORDER BY city_area DESC')\n",
            "\n",
            "\n",
            "Real Answer: SELECT DISTINCT District_name FROM district ORDER BY city_area DESC\n",
            "Failed Answer: SELECT District_name FROM district ORDER BY city_area DESC\n",
            "\n",
            "\n"
          ]
        },
        {
          "output_type": "stream",
          "name": "stderr",
          "text": [
            "100%|██████████| 10/10 [00:24<00:00,  2.46s/it]"
          ]
        },
        {
          "output_type": "stream",
          "name": "stdout",
          "text": [
            "\n",
            "\n",
            "Question: What's the lane number when time was 20.45 and the react was less than 0.164?\n",
            "\n",
            "\n",
            "\n",
            "Real Answer: SELECT MAX(lane) FROM table_name_85 WHERE react < 0.164 AND time = \"20.45\"\n",
            "Generated Answer: SELECT SUM(lane) FROM table_name_85 WHERE react < 0.164 AND time = 20.45\n",
            "\n",
            "\n",
            "Similarity Score: 0.73968095\n",
            "\n",
            "\n",
            "Feedback: ('correct', 'SELECT MAX(lane) FROM table_name_85 WHERE react < 0.164 AND time = \"20.45\"')\n",
            "\n",
            "\n",
            "Real Answer: SELECT MAX(lane) FROM table_name_85 WHERE react < 0.164 AND time = \"20.45\"\n",
            "Failed Answer: SELECT SUM(lane) FROM table_name_85 WHERE react < 0.164 AND time = 20.45\n",
            "\n",
            "\n",
            "Similarity Scores: [0.9861111111111112, 1.0, 1.0, 1.0, 1.0, 1.0, 1.0, 1.0, 0.928, 0.958904109589041]\n",
            "RLHF Scores: [1.0, 1.0, 1.0, 1.0, 1.0, 1.0, 1.0, 1.0, 1.0, 0.0]\n",
            "Accuracy - exact match: 70.00%\n",
            "Average Similarity: 98.73%\n",
            "Average RLHF Score: 90.00%\n"
          ]
        },
        {
          "output_type": "stream",
          "name": "stderr",
          "text": [
            "\n"
          ]
        }
      ]
    },
    {
      "cell_type": "markdown",
      "source": [
        "## VERSION - FINAL"
      ],
      "metadata": {
        "id": "VnsklDRF3UGl"
      }
    },
    {
      "cell_type": "code",
      "source": [
        "from tqdm import tqdm\n",
        "from difflib import SequenceMatcher\n",
        "from random import randint\n",
        "from datasets import load_dataset\n",
        "import sqlparse  # Import sqlparse for SQL parsing\n",
        "\n",
        "# Load our test dataset\n",
        "eval_dataset = load_dataset(\"json\", data_files=\"test_dataset.json\", split=\"train\")\n",
        "\n",
        "def evaluate(sample):\n",
        "    prompt = pipe.tokenizer.apply_chat_template(sample[\"messages\"][:2], tokenize=False, add_generation_prompt=True)\n",
        "    outputs = pipe(prompt, max_new_tokens=256, do_sample=True, temperature=0.7, top_k=50, top_p=0.95, eos_token_id=pipe.tokenizer.eos_token_id, pad_token_id=pipe.tokenizer.pad_token_id)\n",
        "    generated_answer = outputs[0]['generated_text'][len(prompt):].strip()\n",
        "    real_answer = sample[\"messages\"][2][\"content\"]\n",
        "\n",
        "    print('\\n')\n",
        "    print('Question: %s\\n'%sample[\"messages\"][1][\"content\"])\n",
        "    print('Real Answer: %s'%real_answer)\n",
        "    print('Generated Answer: %s'%generated_answer)\n",
        "    print('\\n')\n",
        "\n",
        "    # Get human feedback\n",
        "    feedback = get_human_feedback(prompt, generated_answer, real_answer)\n",
        "    print('Feedback:', feedback)\n",
        "    print('\\n')\n",
        "\n",
        "    # Normalize SQL queries before comparison (using sqlparse)\n",
        "    real_answer_normalized = sqlparse.format(real_answer, reindent=True, keyword_case='upper')\n",
        "    generated_answer_normalized = sqlparse.format(generated_answer, reindent=True, keyword_case='upper')\n",
        "\n",
        "    if generated_answer_normalized == real_answer_normalized:\n",
        "        print('Success!')\n",
        "        print('Success Answer: %s'%real_answer)\n",
        "        print('\\n')\n",
        "        return 1, generated_answer, prompt, feedback\n",
        "    else:\n",
        "        print('Real Answer: %s'%real_answer)\n",
        "        print('Failed Answer: %s'%generated_answer)\n",
        "        print('\\n')\n",
        "        return 0, generated_answer, prompt, feedback\n",
        "\n",
        "def similar(a, b):\n",
        "    return SequenceMatcher(None, a, b).ratio()\n",
        "\n",
        "def calculate_rlhf_score(feedback):\n",
        "    if feedback[0] == \"approve\":\n",
        "        return 1.0\n",
        "    elif feedback[0] == \"fix\":\n",
        "        return 0.5\n",
        "    else:\n",
        "        return 0.0\n",
        "\n",
        "success_rate = []\n",
        "similarity_scores = []\n",
        "rlhf_scores = []\n",
        "\n",
        "number_of_eval_samples = 10\n",
        "\n",
        "for s in tqdm(eval_dataset.shuffle().select(range(number_of_eval_samples))):\n",
        "    success, generated_answer, prompt, feedback = evaluate(s)\n",
        "    success_rate.append(success)\n",
        "    real_answer = s[\"messages\"][2][\"content\"]\n",
        "\n",
        "    # Normalize SQL queries before calculating similarity\n",
        "    real_answer_normalized = sqlparse.format(real_answer, reindent=True, keyword_case='upper')\n",
        "    generated_answer_normalized = sqlparse.format(generated_answer, reindent=True, keyword_case='upper')\n",
        "\n",
        "    similarity_scores.append(similar(real_answer_normalized, generated_answer_normalized))\n",
        "    rlhf_scores.append(calculate_rlhf_score(feedback))\n",
        "\n",
        "accuracy = sum(success_rate) / len(success_rate)\n",
        "\n",
        "print(\"Similarity Scores:\", similarity_scores)\n",
        "avg_similarity = sum(similarity_scores) / len(similarity_scores)\n",
        "\n",
        "print(\"RLHF Scores:\", rlhf_scores)\n",
        "avg_rlhf_score = sum(rlhf_scores) / len(rlhf_scores)\n",
        "\n",
        "print(f\"Accuracy - exact match: {accuracy*100:.2f}%\")\n",
        "print(f\"Average Similarity: {avg_similarity*100:.2f}%\")\n",
        "print(f\"Average RLHF Score: {avg_rlhf_score*100:.2f}%\")"
      ],
      "metadata": {
        "colab": {
          "base_uri": "https://localhost:8080/"
        },
        "id": "awpE3X7_2rWc",
        "outputId": "2ca6093a-a5ac-46fe-b6b2-408acb7ee3db"
      },
      "execution_count": 28,
      "outputs": [
        {
          "output_type": "stream",
          "name": "stderr",
          "text": [
            " 10%|█         | 1/10 [00:05<00:48,  5.38s/it]"
          ]
        },
        {
          "output_type": "stream",
          "name": "stdout",
          "text": [
            "\n",
            "\n",
            "Question: Who were the starting actors in the time frame of  tuesday 22:00~22:54 8 april 2008 to 17 june 2008?\n",
            "\n",
            "Real Answer: SELECT starring_actors FROM table_18539834_2 WHERE time_frame = \"Tuesday 22:00~22:54 8 April 2008 to 17 June 2008\"\n",
            "Generated Answer: SELECT starring_actors FROM table_18539834_2 WHERE time_frame = \"Tuesday 22:00~22:54 8 April 2008 to 17 June 2008\"\n",
            "\n",
            "\n",
            "Similarity Score: 1.0\n",
            "Feedback: ('approve', 'SELECT starring_actors FROM table_18539834_2 WHERE time_frame = \"Tuesday 22:00~22:54 8 April 2008 to 17 June 2008\"')\n",
            "\n",
            "\n",
            "Success!\n",
            "Success Answer: SELECT starring_actors FROM table_18539834_2 WHERE time_frame = \"Tuesday 22:00~22:54 8 April 2008 to 17 June 2008\"\n",
            "\n",
            "\n"
          ]
        },
        {
          "output_type": "stream",
          "name": "stderr",
          "text": [
            "\r 20%|██        | 2/10 [00:07<00:28,  3.59s/it]"
          ]
        },
        {
          "output_type": "stream",
          "name": "stdout",
          "text": [
            "\n",
            "\n",
            "Question: What was the highest attendance at a game that was played in tulane stadium?\n",
            "\n",
            "Real Answer: SELECT MAX(attendance) FROM table_name_63 WHERE game_site = \"tulane stadium\"\n",
            "Generated Answer: SELECT MAX(attendance) FROM table_name_63 WHERE game_site = \"tulane stadium\"\n",
            "\n",
            "\n",
            "Similarity Score: 1.0000001\n",
            "Feedback: ('approve', 'SELECT MAX(attendance) FROM table_name_63 WHERE game_site = \"tulane stadium\"')\n",
            "\n",
            "\n",
            "Success!\n",
            "Success Answer: SELECT MAX(attendance) FROM table_name_63 WHERE game_site = \"tulane stadium\"\n",
            "\n",
            "\n"
          ]
        },
        {
          "output_type": "stream",
          "name": "stderr",
          "text": [
            "\r 30%|███       | 3/10 [00:09<00:20,  2.87s/it]"
          ]
        },
        {
          "output_type": "stream",
          "name": "stdout",
          "text": [
            "\n",
            "\n",
            "Question: Who was home at Princes Park?\n",
            "\n",
            "Real Answer: SELECT home_team AS score FROM table_name_55 WHERE venue = \"princes park\"\n",
            "Generated Answer: SELECT home_team FROM table_name_55 WHERE venue = \"princes park\"\n",
            "\n",
            "\n",
            "Similarity Score: 0.9185385\n",
            "Feedback: ('approve', 'SELECT home_team FROM table_name_55 WHERE venue = \"princes park\"')\n",
            "\n",
            "\n",
            "Real Answer: SELECT home_team AS score FROM table_name_55 WHERE venue = \"princes park\"\n",
            "Failed Answer: SELECT home_team FROM table_name_55 WHERE venue = \"princes park\"\n",
            "\n",
            "\n"
          ]
        },
        {
          "output_type": "stream",
          "name": "stderr",
          "text": [
            "\r 40%|████      | 4/10 [00:11<00:14,  2.46s/it]"
          ]
        },
        {
          "output_type": "stream",
          "name": "stdout",
          "text": [
            "\n",
            "\n",
            "Question: Which Surface has a Partner of oliver marach?\n",
            "\n",
            "Real Answer: SELECT surface FROM table_name_82 WHERE partner = \"oliver marach\"\n",
            "Generated Answer: SELECT surface FROM table_name_82 WHERE partner = \"oliver marach\"\n",
            "\n",
            "\n",
            "Similarity Score: 1.0\n",
            "Feedback: ('approve', 'SELECT surface FROM table_name_82 WHERE partner = \"oliver marach\"')\n",
            "\n",
            "\n",
            "Success!\n",
            "Success Answer: SELECT surface FROM table_name_82 WHERE partner = \"oliver marach\"\n",
            "\n",
            "\n"
          ]
        },
        {
          "output_type": "stream",
          "name": "stderr",
          "text": [
            "\r 50%|█████     | 5/10 [00:13<00:11,  2.30s/it]"
          ]
        },
        {
          "output_type": "stream",
          "name": "stdout",
          "text": [
            "\n",
            "\n",
            "Question: Who manufactured the motorcycle that did 24 laps and 9 grids?\n",
            "\n",
            "Real Answer: SELECT manufacturer FROM table_name_84 WHERE laps = 24 AND grid = 9\n",
            "Generated Answer: SELECT manufacturer FROM table_name_84 WHERE laps = 24 AND grid = 9\n",
            "\n",
            "\n",
            "Similarity Score: 1.0000002\n",
            "Feedback: ('approve', 'SELECT manufacturer FROM table_name_84 WHERE laps = 24 AND grid = 9')\n",
            "\n",
            "\n",
            "Success!\n",
            "Success Answer: SELECT manufacturer FROM table_name_84 WHERE laps = 24 AND grid = 9\n",
            "\n",
            "\n"
          ]
        },
        {
          "output_type": "stream",
          "name": "stderr",
          "text": [
            "\r 60%|██████    | 6/10 [00:16<00:10,  2.50s/it]"
          ]
        },
        {
          "output_type": "stream",
          "name": "stdout",
          "text": [
            "\n",
            "\n",
            "Question: Which distinct source system code includes the substring 'en'?\n",
            "\n",
            "Real Answer: SELECT DISTINCT source_system_code FROM cmi_cross_references WHERE source_system_code LIKE '%en%'\n",
            "Generated Answer: SELECT DISTINCT source_system_code FROM cmi_cross_references WHERE source_system_code LIKE '%en%'\n",
            "\n",
            "\n",
            "Similarity Score: 0.9999999\n",
            "Feedback: ('approve', \"SELECT DISTINCT source_system_code FROM cmi_cross_references WHERE source_system_code LIKE '%en%'\")\n",
            "\n",
            "\n",
            "Success!\n",
            "Success Answer: SELECT DISTINCT source_system_code FROM cmi_cross_references WHERE source_system_code LIKE '%en%'\n",
            "\n",
            "\n"
          ]
        },
        {
          "output_type": "stream",
          "name": "stderr",
          "text": [
            "\r 70%|███████   | 7/10 [00:18<00:07,  2.46s/it]"
          ]
        },
        {
          "output_type": "stream",
          "name": "stdout",
          "text": [
            "\n",
            "\n",
            "Question: What was the team's score on April 1?\n",
            "\n",
            "Real Answer: SELECT score FROM table_17340355_10 WHERE date = \"April 1\"\n",
            "Generated Answer: SELECT score FROM table_17340355_10 WHERE date = \"April 1\"\n",
            "\n",
            "\n",
            "Similarity Score: 0.9999998\n",
            "Feedback: ('approve', 'SELECT score FROM table_17340355_10 WHERE date = \"April 1\"')\n",
            "\n",
            "\n",
            "Success!\n",
            "Success Answer: SELECT score FROM table_17340355_10 WHERE date = \"April 1\"\n",
            "\n",
            "\n"
          ]
        },
        {
          "output_type": "stream",
          "name": "stderr",
          "text": [
            "\r 80%|████████  | 8/10 [00:20<00:04,  2.19s/it]"
          ]
        },
        {
          "output_type": "stream",
          "name": "stdout",
          "text": [
            "\n",
            "\n",
            "Question: What stadium is in Seoul?\n",
            "\n",
            "Real Answer: SELECT stadium FROM table_name_56 WHERE city = \"seoul\"\n",
            "Generated Answer: SELECT stadium FROM table_name_56 WHERE city = \"seoul\"\n",
            "\n",
            "\n",
            "Similarity Score: 1.0\n",
            "Feedback: ('approve', 'SELECT stadium FROM table_name_56 WHERE city = \"seoul\"')\n",
            "\n",
            "\n",
            "Success!\n",
            "Success Answer: SELECT stadium FROM table_name_56 WHERE city = \"seoul\"\n",
            "\n",
            "\n"
          ]
        },
        {
          "output_type": "stream",
          "name": "stderr",
          "text": [
            "\r 90%|█████████ | 9/10 [00:22<00:02,  2.23s/it]"
          ]
        },
        {
          "output_type": "stream",
          "name": "stdout",
          "text": [
            "\n",
            "\n",
            "Question: How many total drawn has less than 4 lost and 8 points?\n",
            "\n",
            "Real Answer: SELECT SUM(drawn) FROM table_name_59 WHERE lost < 4 AND points = 8\n",
            "Generated Answer: SELECT SUM(drawn) FROM table_name_59 WHERE lost < 4 AND points = 8\n",
            "\n",
            "\n",
            "Similarity Score: 1.0000001\n",
            "Feedback: ('approve', 'SELECT SUM(drawn) FROM table_name_59 WHERE lost < 4 AND points = 8')\n",
            "\n",
            "\n",
            "Success!\n",
            "Success Answer: SELECT SUM(drawn) FROM table_name_59 WHERE lost < 4 AND points = 8\n",
            "\n",
            "\n"
          ]
        },
        {
          "output_type": "stream",
          "name": "stderr",
          "text": [
            "100%|██████████| 10/10 [00:24<00:00,  2.49s/it]"
          ]
        },
        {
          "output_type": "stream",
          "name": "stdout",
          "text": [
            "\n",
            "\n",
            "Question: Which FA Cup Apps have League Apps of 21?\n",
            "\n",
            "Real Answer: SELECT fa_cup_apps FROM table_name_28 WHERE league_apps = \"21\"\n",
            "Generated Answer: SELECT fa_cup_apps FROM table_name_28 WHERE league_apps = \"21\"\n",
            "\n",
            "\n",
            "Similarity Score: 1.0000005\n",
            "Feedback: ('approve', 'SELECT fa_cup_apps FROM table_name_28 WHERE league_apps = \"21\"')\n",
            "\n",
            "\n",
            "Success!\n",
            "Success Answer: SELECT fa_cup_apps FROM table_name_28 WHERE league_apps = \"21\"\n",
            "\n",
            "\n",
            "Similarity Scores: [1.0, 1.0, 0.9343065693430657, 1.0, 1.0, 1.0, 1.0, 1.0, 1.0, 1.0]\n",
            "RLHF Scores: [1.0, 1.0, 1.0, 1.0, 1.0, 1.0, 1.0, 1.0, 1.0, 1.0]\n",
            "Accuracy - exact match: 90.00%\n",
            "Average Similarity: 99.34%\n",
            "Average RLHF Score: 100.00%\n"
          ]
        },
        {
          "output_type": "stream",
          "name": "stderr",
          "text": [
            "\n"
          ]
        }
      ]
    },
    {
      "cell_type": "code",
      "source": [
        "from tqdm import tqdm\n",
        "from difflib import SequenceMatcher\n",
        "from random import randint\n",
        "from datasets import load_dataset\n",
        "import sqlparse  # Import sqlparse for SQL parsing\n",
        "\n",
        "# Load our test dataset\n",
        "eval_dataset = load_dataset(\"json\", data_files=\"test_dataset.json\", split=\"train\")\n",
        "\n",
        "def evaluate(sample):\n",
        "    prompt = pipe.tokenizer.apply_chat_template(sample[\"messages\"][:2], tokenize=False, add_generation_prompt=True)\n",
        "    outputs = pipe(prompt, max_new_tokens=256, do_sample=True, temperature=0.7, top_k=50, top_p=0.95, eos_token_id=pipe.tokenizer.eos_token_id, pad_token_id=pipe.tokenizer.pad_token_id)\n",
        "    generated_answer = outputs[0]['generated_text'][len(prompt):].strip()\n",
        "    real_answer = sample[\"messages\"][2][\"content\"]\n",
        "\n",
        "    print('\\n')\n",
        "    print('Question: %s\\n'%sample[\"messages\"][1][\"content\"])\n",
        "    print('Real Answer: %s'%real_answer)\n",
        "    print('Generated Answer: %s'%generated_answer)\n",
        "    print('\\n')\n",
        "\n",
        "    # Get human feedback\n",
        "    feedback = get_human_feedback(prompt, generated_answer, real_answer)\n",
        "    print('Feedback:', feedback)\n",
        "    print('\\n')\n",
        "\n",
        "    # Normalize SQL queries before comparison (using sqlparse)\n",
        "    real_answer_normalized = sqlparse.format(real_answer, reindent=True, keyword_case='upper')\n",
        "    generated_answer_normalized = sqlparse.format(generated_answer, reindent=True, keyword_case='upper')\n",
        "\n",
        "    if generated_answer_normalized == real_answer_normalized:\n",
        "        print('Success!')\n",
        "        print('Success Answer: %s'%real_answer)\n",
        "        print('\\n')\n",
        "        return 1, generated_answer, prompt, feedback\n",
        "    else:\n",
        "        print('Real Answer: %s'%real_answer)\n",
        "        print('Failed Answer: %s'%generated_answer)\n",
        "        print('\\n')\n",
        "        return 0, generated_answer, prompt, feedback\n",
        "\n",
        "def similar(a, b):\n",
        "    return SequenceMatcher(None, a, b).ratio()\n",
        "\n",
        "def calculate_rlhf_score(feedback):\n",
        "    if feedback[0] == \"approve\":\n",
        "        return 1.0\n",
        "    elif feedback[0] == \"fix\":\n",
        "        return 0.5\n",
        "    else:\n",
        "        return 0.0\n",
        "\n",
        "success_rate = []\n",
        "similarity_scores = []\n",
        "rlhf_scores = []\n",
        "\n",
        "number_of_eval_samples = 1000\n",
        "\n",
        "for s in tqdm(eval_dataset.shuffle().select(range(number_of_eval_samples))):\n",
        "    success, generated_answer, prompt, feedback = evaluate(s)\n",
        "    success_rate.append(success)\n",
        "    real_answer = s[\"messages\"][2][\"content\"]\n",
        "\n",
        "    # Normalize SQL queries before calculating similarity\n",
        "    real_answer_normalized = sqlparse.format(real_answer, reindent=True, keyword_case='upper')\n",
        "    generated_answer_normalized = sqlparse.format(generated_answer, reindent=True, keyword_case='upper')\n",
        "\n",
        "    similarity_scores.append(similar(real_answer_normalized, generated_answer_normalized))\n",
        "    rlhf_scores.append(calculate_rlhf_score(feedback))\n",
        "\n",
        "accuracy = sum(success_rate) / len(success_rate)\n",
        "\n",
        "print(\"Similarity Scores:\", similarity_scores)\n",
        "avg_similarity = sum(similarity_scores) / len(similarity_scores)\n",
        "\n",
        "print(\"RLHF Scores:\", rlhf_scores)\n",
        "avg_rlhf_score = sum(rlhf_scores) / len(rlhf_scores)\n",
        "\n",
        "print(f\"Accuracy - exact match: {accuracy*100:.2f}%\")\n",
        "print(f\"Average Similarity: {avg_similarity*100:.2f}%\")\n",
        "print(f\"Average RLHF Score: {avg_rlhf_score*100:.2f}%\")"
      ],
      "metadata": {
        "colab": {
          "base_uri": "https://localhost:8080/"
        },
        "id": "qexUsgNH31LK",
        "outputId": "944066e8-7038-4526-b7c7-f77c4dd585cd"
      },
      "execution_count": null,
      "outputs": [
        {
          "output_type": "stream",
          "name": "stderr",
          "text": [
            "  0%|          | 1/1000 [00:01<27:27,  1.65s/it]"
          ]
        },
        {
          "output_type": "stream",
          "name": "stdout",
          "text": [
            "\n",
            "\n",
            "Question: Which city has an opponent of England?\n",
            "\n",
            "Real Answer: SELECT city FROM table_name_99 WHERE opponent = \"england\"\n",
            "Generated Answer: SELECT city FROM table_name_99 WHERE opponent = \"england\"\n",
            "\n",
            "\n",
            "Similarity Score: 1.0\n",
            "Feedback: ('approve', 'SELECT city FROM table_name_99 WHERE opponent = \"england\"')\n",
            "\n",
            "\n",
            "Success!\n",
            "Success Answer: SELECT city FROM table_name_99 WHERE opponent = \"england\"\n",
            "\n",
            "\n"
          ]
        },
        {
          "output_type": "stream",
          "name": "stderr",
          "text": [
            "\r  0%|          | 2/1000 [00:03<27:12,  1.64s/it]"
          ]
        },
        {
          "output_type": "stream",
          "name": "stdout",
          "text": [
            "\n",
            "\n",
            "Question: On what platform does Mindark publish?\n",
            "\n",
            "Real Answer: SELECT platform FROM table_name_84 WHERE publisher = \"mindark\"\n",
            "Generated Answer: SELECT platform FROM table_name_84 WHERE publisher = \"mindark\"\n",
            "\n",
            "\n",
            "Similarity Score: 1.0\n",
            "Feedback: ('approve', 'SELECT platform FROM table_name_84 WHERE publisher = \"mindark\"')\n",
            "\n",
            "\n",
            "Success!\n",
            "Success Answer: SELECT platform FROM table_name_84 WHERE publisher = \"mindark\"\n",
            "\n",
            "\n"
          ]
        },
        {
          "output_type": "stream",
          "name": "stderr",
          "text": [
            "\r  0%|          | 3/1000 [00:06<35:56,  2.16s/it]"
          ]
        },
        {
          "output_type": "stream",
          "name": "stdout",
          "text": [
            "\n",
            "\n",
            "Question: Who are all of the players on the Westchester High School club team?\n",
            "\n",
            "Real Answer: SELECT player FROM table_10015132_9 WHERE school_club_team = \"Westchester High School\"\n",
            "Generated Answer: SELECT player FROM table_10015132_9 WHERE school_club_team = \"Westchester High school\"\n",
            "\n",
            "\n",
            "Similarity Score: 1.0\n",
            "Feedback: ('approve', 'SELECT player FROM table_10015132_9 WHERE school_club_team = \"Westchester High school\"')\n",
            "\n",
            "\n",
            "Real Answer: SELECT player FROM table_10015132_9 WHERE school_club_team = \"Westchester High School\"\n",
            "Failed Answer: SELECT player FROM table_10015132_9 WHERE school_club_team = \"Westchester High school\"\n",
            "\n",
            "\n"
          ]
        },
        {
          "output_type": "stream",
          "name": "stderr",
          "text": [
            "\r  0%|          | 4/1000 [00:08<36:47,  2.22s/it]"
          ]
        },
        {
          "output_type": "stream",
          "name": "stdout",
          "text": [
            "\n",
            "\n",
            "Question: Who was the winner when the runner-up was Guangzhou Apollo?\n",
            "\n",
            "Real Answer: SELECT winners FROM table_name_34 WHERE runners_up = \"guangzhou apollo\"\n",
            "Generated Answer: SELECT winners FROM table_name_34 WHERE runners_up = \"guangzhou apollo\"\n",
            "\n",
            "\n",
            "Similarity Score: 1.0\n",
            "Feedback: ('approve', 'SELECT winners FROM table_name_34 WHERE runners_up = \"guangzhou apollo\"')\n",
            "\n",
            "\n",
            "Success!\n",
            "Success Answer: SELECT winners FROM table_name_34 WHERE runners_up = \"guangzhou apollo\"\n",
            "\n",
            "\n"
          ]
        },
        {
          "output_type": "stream",
          "name": "stderr",
          "text": [
            "\r  0%|          | 5/1000 [00:10<35:54,  2.17s/it]"
          ]
        },
        {
          "output_type": "stream",
          "name": "stdout",
          "text": [
            "\n",
            "\n",
            "Question: Which loss has an Attendance of 23,952?\n",
            "\n",
            "Real Answer: SELECT loss FROM table_name_55 WHERE attendance = \"23,952\"\n",
            "Generated Answer: SELECT loss FROM table_name_55 WHERE attendance = \"23,952\"\n",
            "\n",
            "\n",
            "Similarity Score: 1.0000001\n",
            "Feedback: ('approve', 'SELECT loss FROM table_name_55 WHERE attendance = \"23,952\"')\n",
            "\n",
            "\n",
            "Success!\n",
            "Success Answer: SELECT loss FROM table_name_55 WHERE attendance = \"23,952\"\n",
            "\n",
            "\n"
          ]
        },
        {
          "output_type": "stream",
          "name": "stderr",
          "text": [
            "\r  1%|          | 6/1000 [00:11<32:08,  1.94s/it]"
          ]
        },
        {
          "output_type": "stream",
          "name": "stdout",
          "text": [
            "\n",
            "\n",
            "Question: What is the Duration for less than 53 consecutive wins?\n",
            "\n",
            "Real Answer: SELECT duration FROM table_name_68 WHERE wins < 53\n",
            "Generated Answer: SELECT duration FROM table_name_68 WHERE wins < 53\n",
            "\n",
            "\n",
            "Similarity Score: 1.0000001\n",
            "Feedback: ('approve', 'SELECT duration FROM table_name_68 WHERE wins < 53')\n",
            "\n",
            "\n",
            "Success!\n",
            "Success Answer: SELECT duration FROM table_name_68 WHERE wins < 53\n",
            "\n",
            "\n"
          ]
        },
        {
          "output_type": "stream",
          "name": "stderr",
          "text": [
            "\r  1%|          | 7/1000 [00:15<42:29,  2.57s/it]"
          ]
        },
        {
          "output_type": "stream",
          "name": "stdout",
          "text": [
            "\n",
            "\n",
            "Question: Name the Time which has Laps of 19, and a Grid larger than 19, and a Manufacturer of ktm, and a Rider of randy krummenacher?\n",
            "\n",
            "Real Answer: SELECT time FROM table_name_83 WHERE laps = 19 AND grid > 19 AND manufacturer = \"ktm\" AND rider = \"randy krummenacher\"\n",
            "Generated Answer: SELECT time FROM table_name_83 WHERE laps = 19 AND grid > 19 AND manufacturer = \"ktm\" AND rider = \"randy krummenacher\"\n",
            "\n",
            "\n",
            "Similarity Score: 1.0\n",
            "Feedback: ('approve', 'SELECT time FROM table_name_83 WHERE laps = 19 AND grid > 19 AND manufacturer = \"ktm\" AND rider = \"randy krummenacher\"')\n",
            "\n",
            "\n",
            "Success!\n",
            "Success Answer: SELECT time FROM table_name_83 WHERE laps = 19 AND grid > 19 AND manufacturer = \"ktm\" AND rider = \"randy krummenacher\"\n",
            "\n",
            "\n"
          ]
        },
        {
          "output_type": "stream",
          "name": "stderr",
          "text": [
            "\r  1%|          | 8/1000 [00:19<46:17,  2.80s/it]"
          ]
        },
        {
          "output_type": "stream",
          "name": "stdout",
          "text": [
            "\n",
            "\n",
            "Question: Can you tell me the lowest Round that has the Location of indiana, united states, and the Method of submission (guillotine choke)?\n",
            "\n",
            "Real Answer: SELECT MIN(round) FROM table_name_6 WHERE location = \"indiana, united states\" AND method = \"submission (guillotine choke)\"\n",
            "Generated Answer: SELECT MIN(round) FROM table_name_6 WHERE location = \"indiana, united states\" AND method = \"submission (guillotine choke)\"\n",
            "\n",
            "\n",
            "Similarity Score: 1.0\n",
            "Feedback: ('approve', 'SELECT MIN(round) FROM table_name_6 WHERE location = \"indiana, united states\" AND method = \"submission (guillotine choke)\"')\n",
            "\n",
            "\n",
            "Success!\n",
            "Success Answer: SELECT MIN(round) FROM table_name_6 WHERE location = \"indiana, united states\" AND method = \"submission (guillotine choke)\"\n",
            "\n",
            "\n"
          ]
        },
        {
          "output_type": "stream",
          "name": "stderr",
          "text": [
            "\r  1%|          | 9/1000 [00:21<45:40,  2.77s/it]"
          ]
        },
        {
          "output_type": "stream",
          "name": "stdout",
          "text": [
            "\n",
            "\n",
            "Question: What is the to par for Jiyai Shin in place t1?\n",
            "\n",
            "Real Answer: SELECT to_par FROM table_name_49 WHERE place = \"t1\" AND player = \"jiyai shin\"\n",
            "Generated Answer: SELECT to_par FROM table_name_49 WHERE place = \"t1\" AND player = \"jiyai shin\"\n",
            "\n",
            "\n",
            "Similarity Score: 0.9999999\n",
            "Feedback: ('approve', 'SELECT to_par FROM table_name_49 WHERE place = \"t1\" AND player = \"jiyai shin\"')\n",
            "\n",
            "\n",
            "Success!\n",
            "Success Answer: SELECT to_par FROM table_name_49 WHERE place = \"t1\" AND player = \"jiyai shin\"\n",
            "\n",
            "\n"
          ]
        },
        {
          "output_type": "stream",
          "name": "stderr",
          "text": [
            "\r  1%|          | 10/1000 [00:24<43:10,  2.62s/it]"
          ]
        },
        {
          "output_type": "stream",
          "name": "stdout",
          "text": [
            "\n",
            "\n",
            "Question: What was the Attendance when the Time was 2:13?\n",
            "\n",
            "Real Answer: SELECT MIN(attendance) FROM table_name_34 WHERE time = \"2:13\"\n",
            "Generated Answer: SELECT SUM(attendance) FROM table_name_34 WHERE time = \"2:13\"\n",
            "\n",
            "\n",
            "Similarity Score: 0.7991979\n",
            "Feedback: ('correct', 'SELECT MIN(attendance) FROM table_name_34 WHERE time = \"2:13\"')\n",
            "\n",
            "\n",
            "Real Answer: SELECT MIN(attendance) FROM table_name_34 WHERE time = \"2:13\"\n",
            "Failed Answer: SELECT SUM(attendance) FROM table_name_34 WHERE time = \"2:13\"\n",
            "\n",
            "\n"
          ]
        },
        {
          "output_type": "stream",
          "name": "stderr",
          "text": [
            "\r  1%|          | 11/1000 [00:26<41:51,  2.54s/it]"
          ]
        },
        {
          "output_type": "stream",
          "name": "stdout",
          "text": [
            "\n",
            "\n",
            "Question: What is the stadium for alloa athletic?\n",
            "\n",
            "Real Answer: SELECT stadium FROM table_11206787_5 WHERE team = \"Alloa Athletic\"\n",
            "Generated Answer: SELECT stadium FROM table_11206787_5 WHERE team = \"Alloa Athletic\"\n",
            "\n",
            "\n",
            "Similarity Score: 1.0\n",
            "Feedback: ('approve', 'SELECT stadium FROM table_11206787_5 WHERE team = \"Alloa Athletic\"')\n",
            "\n",
            "\n",
            "Success!\n",
            "Success Answer: SELECT stadium FROM table_11206787_5 WHERE team = \"Alloa Athletic\"\n",
            "\n",
            "\n"
          ]
        },
        {
          "output_type": "stream",
          "name": "stderr",
          "text": [
            "\r  1%|          | 12/1000 [00:30<48:20,  2.94s/it]"
          ]
        },
        {
          "output_type": "stream",
          "name": "stdout",
          "text": [
            "\n",
            "\n",
            "Question: What is the sum of the weeks that games occured on october 21, 1974 and less than 50,623 fans attended?\n",
            "\n",
            "Real Answer: SELECT SUM(week) FROM table_name_20 WHERE date = \"october 21, 1974\" AND attendance < 50 OFFSET 623\n",
            "Generated Answer: SELECT SUM(week) FROM table_name_20 WHERE date = \"october 21, 1974\" AND attendance < 50 OFFSET 623\n",
            "\n",
            "\n",
            "Similarity Score: 0.9999999\n",
            "Feedback: ('approve', 'SELECT SUM(week) FROM table_name_20 WHERE date = \"october 21, 1974\" AND attendance < 50 OFFSET 623')\n",
            "\n",
            "\n",
            "Success!\n",
            "Success Answer: SELECT SUM(week) FROM table_name_20 WHERE date = \"october 21, 1974\" AND attendance < 50 OFFSET 623\n",
            "\n",
            "\n"
          ]
        },
        {
          "output_type": "stream",
          "name": "stderr",
          "text": [
            "\r  1%|▏         | 13/1000 [00:32<46:40,  2.84s/it]"
          ]
        },
        {
          "output_type": "stream",
          "name": "stdout",
          "text": [
            "\n",
            "\n",
            "Question: Which Week has an Air Date of august 30, 2008?\n",
            "\n",
            "Real Answer: SELECT week FROM table_name_73 WHERE air_date = \"august 30, 2008\"\n",
            "Generated Answer: SELECT week FROM table_name_73 WHERE air_date = \"august 30, 2008\"\n",
            "\n",
            "\n",
            "Similarity Score: 0.99999976\n",
            "Feedback: ('approve', 'SELECT week FROM table_name_73 WHERE air_date = \"august 30, 2008\"')\n",
            "\n",
            "\n",
            "Success!\n",
            "Success Answer: SELECT week FROM table_name_73 WHERE air_date = \"august 30, 2008\"\n",
            "\n",
            "\n"
          ]
        },
        {
          "output_type": "stream",
          "name": "stderr",
          "text": [
            "\r  1%|▏         | 14/1000 [00:35<47:12,  2.87s/it]"
          ]
        },
        {
          "output_type": "stream",
          "name": "stdout",
          "text": [
            "\n",
            "\n",
            "Question: In what county did McCain get 57.8%?\n",
            "\n",
            "Real Answer: SELECT county FROM table_20799905_1 WHERE mccain_percentage = \"57.8%\"\n",
            "Generated Answer: SELECT county FROM table_20799905_1 WHERE mccain_percentage = \"57.8%\"\n",
            "\n",
            "\n",
            "Similarity Score: 1.0\n",
            "Feedback: ('approve', 'SELECT county FROM table_20799905_1 WHERE mccain_percentage = \"57.8%\"')\n",
            "\n",
            "\n",
            "Success!\n",
            "Success Answer: SELECT county FROM table_20799905_1 WHERE mccain_percentage = \"57.8%\"\n",
            "\n",
            "\n"
          ]
        },
        {
          "output_type": "stream",
          "name": "stderr",
          "text": [
            "\r  2%|▏         | 15/1000 [00:38<47:10,  2.87s/it]"
          ]
        },
        {
          "output_type": "stream",
          "name": "stdout",
          "text": [
            "\n",
            "\n",
            "Question: Which player has 0 goals, 1 tries, 4 points, and plays in the Prop position?\n",
            "\n",
            "Real Answer: SELECT player FROM table_name_19 WHERE goals = 0 AND tries = 1 AND points = 4 AND position = \"prop\"\n",
            "Generated Answer: SELECT player FROM table_name_19 WHERE goals = 0 AND tries = 1 AND points = 4 AND position = \"prop\"\n",
            "\n",
            "\n",
            "Similarity Score: 1.0\n",
            "Feedback: ('approve', 'SELECT player FROM table_name_19 WHERE goals = 0 AND tries = 1 AND points = 4 AND position = \"prop\"')\n",
            "\n",
            "\n",
            "Success!\n",
            "Success Answer: SELECT player FROM table_name_19 WHERE goals = 0 AND tries = 1 AND points = 4 AND position = \"prop\"\n",
            "\n",
            "\n"
          ]
        },
        {
          "output_type": "stream",
          "name": "stderr",
          "text": [
            "\r  2%|▏         | 16/1000 [00:41<47:16,  2.88s/it]"
          ]
        },
        {
          "output_type": "stream",
          "name": "stdout",
          "text": [
            "\n",
            "\n",
            "Question: Name the most three pointers for dewanna bonner\n",
            "\n",
            "Real Answer: SELECT MAX(three_pointers) FROM table_23183195_5 WHERE player = \"DeWanna Bonner\"\n",
            "Generated Answer: SELECT MAX(three_pointers) FROM table_23183195_5 WHERE player = \"Dewanna Bonner\"\n",
            "\n",
            "\n",
            "Similarity Score: 0.99999994\n",
            "Feedback: ('approve', 'SELECT MAX(three_pointers) FROM table_23183195_5 WHERE player = \"Dewanna Bonner\"')\n",
            "\n",
            "\n",
            "Real Answer: SELECT MAX(three_pointers) FROM table_23183195_5 WHERE player = \"DeWanna Bonner\"\n",
            "Failed Answer: SELECT MAX(three_pointers) FROM table_23183195_5 WHERE player = \"Dewanna Bonner\"\n",
            "\n",
            "\n"
          ]
        },
        {
          "output_type": "stream",
          "name": "stderr",
          "text": [
            "\r  2%|▏         | 17/1000 [00:44<48:10,  2.94s/it]"
          ]
        },
        {
          "output_type": "stream",
          "name": "stdout",
          "text": [
            "\n",
            "\n",
            "Question: How many times was there a record of 49-15-11?\n",
            "\n",
            "Real Answer: SELECT COUNT(attendance) FROM table_23308178_9 WHERE record = \"49-15-11\"\n",
            "Generated Answer: SELECT COUNT(attendance) FROM table_23308178_9 WHERE record = \"49-15-11\"\n",
            "\n",
            "\n",
            "Similarity Score: 0.99999976\n",
            "Feedback: ('approve', 'SELECT COUNT(attendance) FROM table_23308178_9 WHERE record = \"49-15-11\"')\n",
            "\n",
            "\n",
            "Success!\n",
            "Success Answer: SELECT COUNT(attendance) FROM table_23308178_9 WHERE record = \"49-15-11\"\n",
            "\n",
            "\n"
          ]
        },
        {
          "output_type": "stream",
          "name": "stderr",
          "text": [
            "\r  2%|▏         | 18/1000 [00:47<45:16,  2.77s/it]"
          ]
        },
        {
          "output_type": "stream",
          "name": "stdout",
          "text": [
            "\n",
            "\n",
            "Question: What is the value of the Democratic Alternative for the poll released by Malta Today?\n",
            "\n",
            "Real Answer: SELECT democratic_alternative FROM table_name_31 WHERE polling_institute = \"malta today\"\n",
            "Generated Answer: SELECT democratic_alternative FROM table_name_31 WHERE polling_institute = \"malta today\"\n",
            "\n",
            "\n",
            "Similarity Score: 1.0\n",
            "Feedback: ('approve', 'SELECT democratic_alternative FROM table_name_31 WHERE polling_institute = \"malta today\"')\n",
            "\n",
            "\n",
            "Success!\n",
            "Success Answer: SELECT democratic_alternative FROM table_name_31 WHERE polling_institute = \"malta today\"\n",
            "\n",
            "\n"
          ]
        },
        {
          "output_type": "stream",
          "name": "stderr",
          "text": [
            "\r  2%|▏         | 19/1000 [00:50<48:16,  2.95s/it]"
          ]
        },
        {
          "output_type": "stream",
          "name": "stdout",
          "text": [
            "\n",
            "\n",
            "Question: Which FIS Nordic World Ski Championships has Winter Olympics of 1960?\n",
            "\n",
            "Real Answer: SELECT fis_nordic_world_ski_championships FROM table_name_44 WHERE winter_olympics = \"1960\"\n",
            "Generated Answer: SELECT fis_nordic_world_ski_championships FROM table_name_44 WHERE winter_olympics = \"1960\"\n",
            "\n",
            "\n",
            "Similarity Score: 0.9999999\n",
            "Feedback: ('approve', 'SELECT fis_nordic_world_ski_championships FROM table_name_44 WHERE winter_olympics = \"1960\"')\n",
            "\n",
            "\n",
            "Success!\n",
            "Success Answer: SELECT fis_nordic_world_ski_championships FROM table_name_44 WHERE winter_olympics = \"1960\"\n",
            "\n",
            "\n"
          ]
        },
        {
          "output_type": "stream",
          "name": "stderr",
          "text": [
            "\r  2%|▏         | 20/1000 [00:52<44:26,  2.72s/it]"
          ]
        },
        {
          "output_type": "stream",
          "name": "stdout",
          "text": [
            "\n",
            "\n",
            "Question: Name the venue for 15 august 2006\n",
            "\n",
            "Real Answer: SELECT venue FROM table_name_89 WHERE date = \"15 august 2006\"\n",
            "Generated Answer: SELECT venue FROM table_name_89 WHERE date = \"15 august 2006\"\n",
            "\n",
            "\n",
            "Similarity Score: 1.0\n",
            "Feedback: ('approve', 'SELECT venue FROM table_name_89 WHERE date = \"15 august 2006\"')\n",
            "\n",
            "\n",
            "Success!\n",
            "Success Answer: SELECT venue FROM table_name_89 WHERE date = \"15 august 2006\"\n",
            "\n",
            "\n"
          ]
        },
        {
          "output_type": "stream",
          "name": "stderr",
          "text": [
            "\r  2%|▏         | 21/1000 [00:55<44:32,  2.73s/it]"
          ]
        },
        {
          "output_type": "stream",
          "name": "stdout",
          "text": [
            "\n",
            "\n",
            "Question: Name the stadium for regular season game\n",
            "\n",
            "Real Answer: SELECT stadium FROM table_21436373_11 WHERE type_of_record = \"Regular season game\"\n",
            "Generated Answer: SELECT stadium FROM table_21436373_11 WHERE type_of_record = \"Regular season game\"\n",
            "\n",
            "\n",
            "Similarity Score: 0.99999994\n",
            "Feedback: ('approve', 'SELECT stadium FROM table_21436373_11 WHERE type_of_record = \"Regular season game\"')\n",
            "\n",
            "\n",
            "Success!\n",
            "Success Answer: SELECT stadium FROM table_21436373_11 WHERE type_of_record = \"Regular season game\"\n",
            "\n",
            "\n"
          ]
        },
        {
          "output_type": "stream",
          "name": "stderr",
          "text": [
            "\r  2%|▏         | 22/1000 [00:58<44:49,  2.75s/it]"
          ]
        },
        {
          "output_type": "stream",
          "name": "stdout",
          "text": [
            "\n",
            "\n",
            "Question: What is the production code for Episode 153 in the series?\n",
            "\n",
            "Real Answer: SELECT MIN(production_code) FROM table_23097214_1 WHERE series__number = 153\n",
            "Generated Answer: SELECT MIN(production_code) FROM table_23097214_1 WHERE series__number = 153\n",
            "\n",
            "\n",
            "Similarity Score: 1.0000002\n",
            "Feedback: ('approve', 'SELECT MIN(production_code) FROM table_23097214_1 WHERE series__number = 153')\n",
            "\n",
            "\n",
            "Success!\n",
            "Success Answer: SELECT MIN(production_code) FROM table_23097214_1 WHERE series__number = 153\n",
            "\n",
            "\n"
          ]
        },
        {
          "output_type": "stream",
          "name": "stderr",
          "text": [
            "\r  2%|▏         | 23/1000 [01:01<45:09,  2.77s/it]"
          ]
        },
        {
          "output_type": "stream",
          "name": "stdout",
          "text": [
            "\n",
            "\n",
            "Question: On what surface was the game played that had a score of 4–6, 6–4, [8–10]?\n",
            "\n",
            "Real Answer: SELECT surface FROM table_name_51 WHERE score = \"4–6, 6–4, [8–10]\"\n",
            "Generated Answer: SELECT surface FROM table_name_51 WHERE score = \"4–6, 6–4, [8–10]\"\n",
            "\n",
            "\n",
            "Similarity Score: 0.9999999\n",
            "Feedback: ('approve', 'SELECT surface FROM table_name_51 WHERE score = \"4–6, 6–4, [8–10]\"')\n",
            "\n",
            "\n",
            "Success!\n",
            "Success Answer: SELECT surface FROM table_name_51 WHERE score = \"4–6, 6–4, [8–10]\"\n",
            "\n",
            "\n"
          ]
        },
        {
          "output_type": "stream",
          "name": "stderr",
          "text": [
            "\r  2%|▏         | 24/1000 [01:03<44:15,  2.72s/it]"
          ]
        },
        {
          "output_type": "stream",
          "name": "stdout",
          "text": [
            "\n",
            "\n",
            "Question: What is the pick number of the player whose college is Florida State?\n",
            "\n",
            "Real Answer: SELECT pick__number FROM table_14650162_1 WHERE college = \"Florida State\"\n",
            "Generated Answer: SELECT pick__number FROM table_14650162_1 WHERE college = \"Florida State\"\n",
            "\n",
            "\n",
            "Similarity Score: 1.0\n",
            "Feedback: ('approve', 'SELECT pick__number FROM table_14650162_1 WHERE college = \"Florida State\"')\n",
            "\n",
            "\n",
            "Success!\n",
            "Success Answer: SELECT pick__number FROM table_14650162_1 WHERE college = \"Florida State\"\n",
            "\n",
            "\n"
          ]
        },
        {
          "output_type": "stream",
          "name": "stderr",
          "text": [
            "\r  2%|▎         | 25/1000 [01:05<39:41,  2.44s/it]"
          ]
        },
        {
          "output_type": "stream",
          "name": "stdout",
          "text": [
            "\n",
            "\n",
            "Question: Show the start dates and end dates of all the apartment bookings.\n",
            "\n",
            "Real Answer: SELECT booking_start_date, booking_end_date FROM Apartment_Bookings\n",
            "Generated Answer: SELECT booking_start_date, booking_end_date FROM Apartment_Bookings\n",
            "\n",
            "\n",
            "Similarity Score: 1.0\n",
            "Feedback: ('approve', 'SELECT booking_start_date, booking_end_date FROM Apartment_Bookings')\n",
            "\n",
            "\n",
            "Success!\n",
            "Success Answer: SELECT booking_start_date, booking_end_date FROM Apartment_Bookings\n",
            "\n",
            "\n"
          ]
        },
        {
          "output_type": "stream",
          "name": "stderr",
          "text": [
            "\r  3%|▎         | 26/1000 [01:07<38:36,  2.38s/it]"
          ]
        },
        {
          "output_type": "stream",
          "name": "stdout",
          "text": [
            "\n",
            "\n",
            "Question: Name the swuinsuit for oregon\n",
            "\n",
            "Real Answer: SELECT swimsuit FROM table_17516967_1 WHERE state = \"Oregon\"\n",
            "Generated Answer: SELECT swimsuit FROM table_17516967_1 WHERE state = \"Oregon\"\n",
            "\n",
            "\n",
            "Similarity Score: 0.9999999\n",
            "Feedback: ('approve', 'SELECT swimsuit FROM table_17516967_1 WHERE state = \"Oregon\"')\n",
            "\n",
            "\n",
            "Success!\n",
            "Success Answer: SELECT swimsuit FROM table_17516967_1 WHERE state = \"Oregon\"\n",
            "\n",
            "\n"
          ]
        },
        {
          "output_type": "stream",
          "name": "stderr",
          "text": [
            "\r  3%|▎         | 27/1000 [01:10<42:25,  2.62s/it]"
          ]
        },
        {
          "output_type": "stream",
          "name": "stdout",
          "text": [
            "\n",
            "\n",
            "Question: What is Score, when Country is \"United States\", when Place is \"T9\", and when Player is \"Jay Hebert\"?\n",
            "\n",
            "Real Answer: SELECT score FROM table_name_28 WHERE country = \"united states\" AND place = \"t9\" AND player = \"jay hebert\"\n",
            "Generated Answer: SELECT score FROM table_name_28 WHERE country = \"united states\" AND place = \"t9\" AND player = \"jay hebert\"\n",
            "\n",
            "\n",
            "Similarity Score: 1.0000002\n",
            "Feedback: ('approve', 'SELECT score FROM table_name_28 WHERE country = \"united states\" AND place = \"t9\" AND player = \"jay hebert\"')\n",
            "\n",
            "\n",
            "Success!\n",
            "Success Answer: SELECT score FROM table_name_28 WHERE country = \"united states\" AND place = \"t9\" AND player = \"jay hebert\"\n",
            "\n",
            "\n"
          ]
        },
        {
          "output_type": "stream",
          "name": "stderr",
          "text": [
            "\r  3%|▎         | 28/1000 [01:13<41:52,  2.58s/it]"
          ]
        },
        {
          "output_type": "stream",
          "name": "stdout",
          "text": [
            "\n",
            "\n",
            "Question: What district did S. William Green belong to?\n",
            "\n",
            "Real Answer: SELECT district FROM table_1341663_33 WHERE incumbent = \"S. William Green\"\n",
            "Generated Answer: SELECT district FROM table_1341663_33 WHERE incumbent = \"S. William Green\"\n",
            "\n",
            "\n",
            "Similarity Score: 1.0000002\n",
            "Feedback: ('approve', 'SELECT district FROM table_1341663_33 WHERE incumbent = \"S. William Green\"')\n",
            "\n",
            "\n",
            "Success!\n",
            "Success Answer: SELECT district FROM table_1341663_33 WHERE incumbent = \"S. William Green\"\n",
            "\n",
            "\n"
          ]
        },
        {
          "output_type": "stream",
          "name": "stderr",
          "text": [
            "\r  3%|▎         | 29/1000 [01:16<42:44,  2.64s/it]"
          ]
        },
        {
          "output_type": "stream",
          "name": "stdout",
          "text": [
            "\n",
            "\n",
            "Question: How many players have the pick number 166?\n",
            "\n",
            "Real Answer: SELECT COUNT(player) FROM table_1965650_11 WHERE pick__number = 166\n",
            "Generated Answer: SELECT COUNT(player) FROM table_1965650_11 WHERE pick__number = 166\n",
            "\n",
            "\n",
            "Similarity Score: 1.0\n",
            "Feedback: ('approve', 'SELECT COUNT(player) FROM table_1965650_11 WHERE pick__number = 166')\n",
            "\n",
            "\n",
            "Success!\n",
            "Success Answer: SELECT COUNT(player) FROM table_1965650_11 WHERE pick__number = 166\n",
            "\n",
            "\n"
          ]
        },
        {
          "output_type": "stream",
          "name": "stderr",
          "text": [
            "\r  3%|▎         | 30/1000 [01:19<48:24,  2.99s/it]"
          ]
        },
        {
          "output_type": "stream",
          "name": "stdout",
          "text": [
            "\n",
            "\n",
            "Question: How many datas were recorded on January 15-16 if August 21-22 is 155?\n",
            "\n",
            "Real Answer: SELECT COUNT(january_15_16) FROM table_25216791_3 WHERE august_21_22 = \"155\"\n",
            "Generated Answer: SELECT COUNT(january_15_16) FROM table_25216791_3 WHERE august_21_22 = \"155\"\n",
            "\n",
            "\n",
            "Similarity Score: 1.0000002\n",
            "Feedback: ('approve', 'SELECT COUNT(january_15_16) FROM table_25216791_3 WHERE august_21_22 = \"155\"')\n",
            "\n",
            "\n",
            "Success!\n",
            "Success Answer: SELECT COUNT(january_15_16) FROM table_25216791_3 WHERE august_21_22 = \"155\"\n",
            "\n",
            "\n"
          ]
        },
        {
          "output_type": "stream",
          "name": "stderr",
          "text": [
            "\r  3%|▎         | 31/1000 [01:22<44:16,  2.74s/it]"
          ]
        },
        {
          "output_type": "stream",
          "name": "stdout",
          "text": [
            "\n",
            "\n",
            "Question: Which FA Cup Apps have League Apps of 21?\n",
            "\n",
            "Real Answer: SELECT fa_cup_apps FROM table_name_28 WHERE league_apps = \"21\"\n",
            "Generated Answer: SELECT fa_cup_apps FROM table_name_28 WHERE league_apps = \"21\"\n",
            "\n",
            "\n",
            "Similarity Score: 1.0000005\n",
            "Feedback: ('approve', 'SELECT fa_cup_apps FROM table_name_28 WHERE league_apps = \"21\"')\n",
            "\n",
            "\n",
            "Success!\n",
            "Success Answer: SELECT fa_cup_apps FROM table_name_28 WHERE league_apps = \"21\"\n",
            "\n",
            "\n"
          ]
        },
        {
          "output_type": "stream",
          "name": "stderr",
          "text": [
            "\r  3%|▎         | 32/1000 [01:24<45:15,  2.81s/it]"
          ]
        },
        {
          "output_type": "stream",
          "name": "stdout",
          "text": [
            "\n",
            "\n",
            "Question: What year was Norterma Tholus created?\n",
            "\n",
            "Real Answer: SELECT MAX(year_named) FROM table_16799784_4 WHERE name = \"Norterma Tholus\"\n",
            "Generated Answer: SELECT MIN(year_named) FROM table_16799784_4 WHERE name = \"Norterma Tholus\"\n",
            "\n",
            "\n",
            "Similarity Score: 0.69888246\n",
            "Feedback: ('correct', 'SELECT MAX(year_named) FROM table_16799784_4 WHERE name = \"Norterma Tholus\"')\n",
            "\n",
            "\n",
            "Real Answer: SELECT MAX(year_named) FROM table_16799784_4 WHERE name = \"Norterma Tholus\"\n",
            "Failed Answer: SELECT MIN(year_named) FROM table_16799784_4 WHERE name = \"Norterma Tholus\"\n",
            "\n",
            "\n"
          ]
        },
        {
          "output_type": "stream",
          "name": "stderr",
          "text": [
            "\r  3%|▎         | 33/1000 [01:27<44:10,  2.74s/it]"
          ]
        },
        {
          "output_type": "stream",
          "name": "stdout",
          "text": [
            "\n",
            "\n",
            "Question: Which Venue has a Goal larger than 3, and a Competition of 2011 afc asian cup?\n",
            "\n",
            "Real Answer: SELECT venue FROM table_name_3 WHERE goal > 3 AND competition = \"2011 afc asian cup\"\n",
            "Generated Answer: SELECT venue FROM table_name_3 WHERE goal > 3 AND competition = \"2011 afc asian cup\"\n",
            "\n",
            "\n",
            "Similarity Score: 1.0000001\n",
            "Feedback: ('approve', 'SELECT venue FROM table_name_3 WHERE goal > 3 AND competition = \"2011 afc asian cup\"')\n",
            "\n",
            "\n",
            "Success!\n",
            "Success Answer: SELECT venue FROM table_name_3 WHERE goal > 3 AND competition = \"2011 afc asian cup\"\n",
            "\n",
            "\n"
          ]
        },
        {
          "output_type": "stream",
          "name": "stderr",
          "text": [
            "\r  3%|▎         | 34/1000 [01:30<47:11,  2.93s/it]"
          ]
        },
        {
          "output_type": "stream",
          "name": "stdout",
          "text": [
            "\n",
            "\n",
            "Question: On October 17, 1937 what was maximum number or attendants.\n",
            "\n",
            "Real Answer: SELECT MAX(attendance) FROM table_14608759_1 WHERE date = \"October 17, 1937\"\n",
            "Generated Answer: SELECT MAX(attendance) FROM table_14608759_1 WHERE date = \"October 17, 1937\"\n",
            "\n",
            "\n",
            "Similarity Score: 1.0000001\n",
            "Feedback: ('approve', 'SELECT MAX(attendance) FROM table_14608759_1 WHERE date = \"October 17, 1937\"')\n",
            "\n",
            "\n",
            "Success!\n",
            "Success Answer: SELECT MAX(attendance) FROM table_14608759_1 WHERE date = \"October 17, 1937\"\n",
            "\n",
            "\n"
          ]
        },
        {
          "output_type": "stream",
          "name": "stderr",
          "text": [
            "\r  4%|▎         | 35/1000 [01:34<48:21,  3.01s/it]"
          ]
        },
        {
          "output_type": "stream",
          "name": "stdout",
          "text": [
            "\n",
            "\n",
            "Question: How many averages had a swimsuit number of 8.42 and an evening gown number that was less than 8.71?\n",
            "\n",
            "Real Answer: SELECT SUM(average) FROM table_name_96 WHERE swimsuit = 8.42 AND evening_gown < 8.71\n",
            "Generated Answer: SELECT SUM(average) FROM table_name_96 WHERE swimsuit = 8.42 AND evening_gown < 8.71\n",
            "\n",
            "\n",
            "Similarity Score: 1.0\n",
            "Feedback: ('approve', 'SELECT SUM(average) FROM table_name_96 WHERE swimsuit = 8.42 AND evening_gown < 8.71')\n",
            "\n",
            "\n",
            "Success!\n",
            "Success Answer: SELECT SUM(average) FROM table_name_96 WHERE swimsuit = 8.42 AND evening_gown < 8.71\n",
            "\n",
            "\n"
          ]
        },
        {
          "output_type": "stream",
          "name": "stderr",
          "text": [
            "\r  4%|▎         | 36/1000 [01:35<42:16,  2.63s/it]"
          ]
        },
        {
          "output_type": "stream",
          "name": "stdout",
          "text": [
            "\n",
            "\n",
            "Question: Please show different denominations and the corresponding number of schools.\n",
            "\n",
            "Real Answer: SELECT Denomination, COUNT(*) FROM school GROUP BY Denomination\n",
            "Generated Answer: SELECT Denomination, COUNT(*) FROM school GROUP BY Denomination\n",
            "\n",
            "\n",
            "Similarity Score: 1.0000001\n",
            "Feedback: ('approve', 'SELECT Denomination, COUNT(*) FROM school GROUP BY Denomination')\n",
            "\n",
            "\n",
            "Success!\n",
            "Success Answer: SELECT Denomination, COUNT(*) FROM school GROUP BY Denomination\n",
            "\n",
            "\n"
          ]
        },
        {
          "output_type": "stream",
          "name": "stderr",
          "text": [
            "\r  4%|▎         | 37/1000 [01:37<37:43,  2.35s/it]"
          ]
        },
        {
          "output_type": "stream",
          "name": "stdout",
          "text": [
            "\n",
            "\n",
            "Question: Who was the opponent when Steven Smith had 3.3 overs?\n",
            "\n",
            "Real Answer: SELECT opponent FROM table_name_45 WHERE overs = 3.3\n",
            "Generated Answer: SELECT opponent FROM table_name_45 WHERE overs = \"3.3\"\n",
            "\n",
            "\n",
            "Similarity Score: 0.99013746\n",
            "Feedback: ('approve', 'SELECT opponent FROM table_name_45 WHERE overs = \"3.3\"')\n",
            "\n",
            "\n",
            "Real Answer: SELECT opponent FROM table_name_45 WHERE overs = 3.3\n",
            "Failed Answer: SELECT opponent FROM table_name_45 WHERE overs = \"3.3\"\n",
            "\n",
            "\n"
          ]
        },
        {
          "output_type": "stream",
          "name": "stderr",
          "text": [
            "\r  4%|▍         | 38/1000 [01:39<37:47,  2.36s/it]"
          ]
        },
        {
          "output_type": "stream",
          "name": "stdout",
          "text": [
            "\n",
            "\n",
            "Question: What's the highest turnout when carlton was playing as the away team?\n",
            "\n",
            "Real Answer: SELECT MAX(crowd) FROM table_name_29 WHERE away_team = \"carlton\"\n",
            "Generated Answer: SELECT MAX(crowd) FROM table_name_29 WHERE away_team = \"carlton\"\n",
            "\n",
            "\n",
            "Similarity Score: 1.0\n",
            "Feedback: ('approve', 'SELECT MAX(crowd) FROM table_name_29 WHERE away_team = \"carlton\"')\n",
            "\n",
            "\n",
            "Success!\n",
            "Success Answer: SELECT MAX(crowd) FROM table_name_29 WHERE away_team = \"carlton\"\n",
            "\n",
            "\n"
          ]
        },
        {
          "output_type": "stream",
          "name": "stderr",
          "text": [
            "\r  4%|▍         | 39/1000 [01:42<37:22,  2.33s/it]"
          ]
        },
        {
          "output_type": "stream",
          "name": "stdout",
          "text": [
            "\n",
            "\n",
            "Question: What was the time of the game that had an NFL recap and a result of W 22–16?\n",
            "\n",
            "Real Answer: SELECT time FROM table_name_2 WHERE nfl_recap = \"recap\" AND result = \"w 22–16\"\n",
            "Generated Answer: SELECT time FROM table_name_2 WHERE nfl_recap = \"w 22–16\"\n",
            "\n",
            "\n",
            "Similarity Score: 0.97741365\n",
            "Feedback: ('approve', 'SELECT time FROM table_name_2 WHERE nfl_recap = \"w 22–16\"')\n",
            "\n",
            "\n",
            "Real Answer: SELECT time FROM table_name_2 WHERE nfl_recap = \"recap\" AND result = \"w 22–16\"\n",
            "Failed Answer: SELECT time FROM table_name_2 WHERE nfl_recap = \"w 22–16\"\n",
            "\n",
            "\n"
          ]
        },
        {
          "output_type": "stream",
          "name": "stderr",
          "text": [
            "\r  4%|▍         | 40/1000 [01:44<38:06,  2.38s/it]"
          ]
        },
        {
          "output_type": "stream",
          "name": "stdout",
          "text": [
            "\n",
            "\n",
            "Question: How many finals had more than 0 goals and 8 assists?\n",
            "\n",
            "Real Answer: SELECT finals FROM table_name_14 WHERE goals > 0 AND assists = 8\n",
            "Generated Answer: SELECT COUNT(finals) FROM table_name_14 WHERE goals > 0 AND assists = 8\n",
            "\n",
            "\n",
            "Similarity Score: 0.8740735\n",
            "Feedback: ('approve', 'SELECT COUNT(finals) FROM table_name_14 WHERE goals > 0 AND assists = 8')\n",
            "\n",
            "\n",
            "Real Answer: SELECT finals FROM table_name_14 WHERE goals > 0 AND assists = 8\n",
            "Failed Answer: SELECT COUNT(finals) FROM table_name_14 WHERE goals > 0 AND assists = 8\n",
            "\n",
            "\n"
          ]
        },
        {
          "output_type": "stream",
          "name": "stderr",
          "text": [
            "\r  4%|▍         | 41/1000 [01:47<37:51,  2.37s/it]"
          ]
        },
        {
          "output_type": "stream",
          "name": "stdout",
          "text": [
            "\n",
            "\n",
            "Question: What is the # of lanes on 20th street?\n",
            "\n",
            "Real Answer: SELECT _number_of_lanes FROM table_name_43 WHERE street = \"20th street\"\n",
            "Generated Answer: SELECT _number_of_lanes FROM table_name_43 WHERE street = \"20th street\"\n",
            "\n",
            "\n",
            "Similarity Score: 1.0\n",
            "Feedback: ('approve', 'SELECT _number_of_lanes FROM table_name_43 WHERE street = \"20th street\"')\n",
            "\n",
            "\n",
            "Success!\n",
            "Success Answer: SELECT _number_of_lanes FROM table_name_43 WHERE street = \"20th street\"\n",
            "\n",
            "\n"
          ]
        },
        {
          "output_type": "stream",
          "name": "stderr",
          "text": [
            "\r  4%|▍         | 42/1000 [01:48<33:44,  2.11s/it]"
          ]
        },
        {
          "output_type": "stream",
          "name": "stdout",
          "text": [
            "\n",
            "\n",
            "Question: What score has 2 as the place?\n",
            "\n",
            "Real Answer: SELECT score FROM table_name_78 WHERE place = \"2\"\n",
            "Generated Answer: SELECT score FROM table_name_78 WHERE place = \"2\"\n",
            "\n",
            "\n",
            "Similarity Score: 1.0000002\n",
            "Feedback: ('approve', 'SELECT score FROM table_name_78 WHERE place = \"2\"')\n",
            "\n",
            "\n",
            "Success!\n",
            "Success Answer: SELECT score FROM table_name_78 WHERE place = \"2\"\n",
            "\n",
            "\n"
          ]
        },
        {
          "output_type": "stream",
          "name": "stderr",
          "text": [
            "\r  4%|▍         | 43/1000 [01:51<39:38,  2.49s/it]"
          ]
        },
        {
          "output_type": "stream",
          "name": "stdout",
          "text": [
            "\n",
            "\n",
            "Question: Which 2008-12 has a 2013 of A, and a Tournament of wimbledon?\n",
            "\n",
            "Real Answer: SELECT 2008 AS _12 FROM table_name_77 WHERE 2013 = \"a\" AND tournament = \"wimbledon\"\n",
            "Generated Answer: SELECT 2008 AS _12 FROM table_name_77 WHERE 2013 = \"a\" AND tournament = \"wimbledon\"\n",
            "\n",
            "\n",
            "Similarity Score: 1.0000001\n",
            "Feedback: ('approve', 'SELECT 2008 AS _12 FROM table_name_77 WHERE 2013 = \"a\" AND tournament = \"wimbledon\"')\n",
            "\n",
            "\n",
            "Success!\n",
            "Success Answer: SELECT 2008 AS _12 FROM table_name_77 WHERE 2013 = \"a\" AND tournament = \"wimbledon\"\n",
            "\n",
            "\n"
          ]
        },
        {
          "output_type": "stream",
          "name": "stderr",
          "text": [
            "\r  4%|▍         | 44/1000 [01:54<41:04,  2.58s/it]"
          ]
        },
        {
          "output_type": "stream",
          "name": "stdout",
          "text": [
            "\n",
            "\n",
            "Question: How many song titles belong to the artist Ratt?\n",
            "\n",
            "Real Answer: SELECT COUNT(song_title) FROM table_21500850_1 WHERE artist = \"Ratt\"\n",
            "Generated Answer: SELECT COUNT(song_title) FROM table_21500850_1 WHERE artist = \"RATT\"\n",
            "\n",
            "\n",
            "Similarity Score: 1.0000001\n",
            "Feedback: ('approve', 'SELECT COUNT(song_title) FROM table_21500850_1 WHERE artist = \"RATT\"')\n",
            "\n",
            "\n",
            "Real Answer: SELECT COUNT(song_title) FROM table_21500850_1 WHERE artist = \"Ratt\"\n",
            "Failed Answer: SELECT COUNT(song_title) FROM table_21500850_1 WHERE artist = \"RATT\"\n",
            "\n",
            "\n"
          ]
        },
        {
          "output_type": "stream",
          "name": "stderr",
          "text": [
            "\r  4%|▍         | 45/1000 [01:57<39:59,  2.51s/it]"
          ]
        },
        {
          "output_type": "stream",
          "name": "stdout",
          "text": [
            "\n",
            "\n",
            "Question: What was the surface for October 10, 2004?\n",
            "\n",
            "Real Answer: SELECT surface FROM table_name_72 WHERE date = \"october 10, 2004\"\n",
            "Generated Answer: SELECT surface FROM table_name_72 WHERE date = \"october 10, 2004\"\n",
            "\n",
            "\n",
            "Similarity Score: 1.0000002\n",
            "Feedback: ('approve', 'SELECT surface FROM table_name_72 WHERE date = \"october 10, 2004\"')\n",
            "\n",
            "\n",
            "Success!\n",
            "Success Answer: SELECT surface FROM table_name_72 WHERE date = \"october 10, 2004\"\n",
            "\n",
            "\n"
          ]
        },
        {
          "output_type": "stream",
          "name": "stderr",
          "text": [
            "\r  5%|▍         | 46/1000 [01:59<40:29,  2.55s/it]"
          ]
        },
        {
          "output_type": "stream",
          "name": "stdout",
          "text": [
            "\n",
            "\n",
            "Question: What is the number for D. Shulman if C. Abate has 728 (43%)\n",
            "\n",
            "Real Answer: SELECT d_shulman FROM table_name_9 WHERE c_abate = \"728 (43%)\"\n",
            "Generated Answer: SELECT d_shulman FROM table_name_9 WHERE c_abate = \"728 (43%)\"\n",
            "\n",
            "\n",
            "Similarity Score: 1.0000002\n",
            "Feedback: ('approve', 'SELECT d_shulman FROM table_name_9 WHERE c_abate = \"728 (43%)\"')\n",
            "\n",
            "\n",
            "Success!\n",
            "Success Answer: SELECT d_shulman FROM table_name_9 WHERE c_abate = \"728 (43%)\"\n",
            "\n",
            "\n"
          ]
        },
        {
          "output_type": "stream",
          "name": "stderr",
          "text": [
            "\r  5%|▍         | 47/1000 [02:01<37:13,  2.34s/it]"
          ]
        },
        {
          "output_type": "stream",
          "name": "stdout",
          "text": [
            "\n",
            "\n",
            "Question: What award is featured in 1992?\n",
            "\n",
            "Real Answer: SELECT award FROM table_name_18 WHERE year = 1992\n",
            "Generated Answer: SELECT award FROM table_name_18 WHERE year = 1992\n",
            "\n",
            "\n",
            "Similarity Score: 1.0\n",
            "Feedback: ('approve', 'SELECT award FROM table_name_18 WHERE year = 1992')\n",
            "\n",
            "\n",
            "Success!\n",
            "Success Answer: SELECT award FROM table_name_18 WHERE year = 1992\n",
            "\n",
            "\n"
          ]
        },
        {
          "output_type": "stream",
          "name": "stderr",
          "text": [
            "\r  5%|▍         | 48/1000 [02:03<35:54,  2.26s/it]"
          ]
        },
        {
          "output_type": "stream",
          "name": "stdout",
          "text": [
            "\n",
            "\n",
            "Question: When was the film directed by Pen-Ek Ratanaruang released?\n",
            "\n",
            "Real Answer: SELECT date FROM table_name_13 WHERE director = \"pen-ek ratanaruang\"\n",
            "Generated Answer: SELECT date FROM table_name_13 WHERE director = \"pen-ek ratanaruang\"\n",
            "\n",
            "\n",
            "Similarity Score: 1.0\n",
            "Feedback: ('approve', 'SELECT date FROM table_name_13 WHERE director = \"pen-ek ratanaruang\"')\n",
            "\n",
            "\n",
            "Success!\n",
            "Success Answer: SELECT date FROM table_name_13 WHERE director = \"pen-ek ratanaruang\"\n",
            "\n",
            "\n"
          ]
        },
        {
          "output_type": "stream",
          "name": "stderr",
          "text": [
            "\r  5%|▍         | 49/1000 [02:06<37:57,  2.39s/it]"
          ]
        },
        {
          "output_type": "stream",
          "name": "stdout",
          "text": [
            "\n",
            "\n",
            "Question: What is the average score for the player who is T5 in the United States?\n",
            "\n",
            "Real Answer: SELECT AVG(score) FROM table_name_60 WHERE place = \"t5\" AND country = \"united states\"\n",
            "Generated Answer: SELECT AVG(score) FROM table_name_60 WHERE place = \"t5\" AND country = \"united states\"\n",
            "\n",
            "\n",
            "Similarity Score: 1.0\n",
            "Feedback: ('approve', 'SELECT AVG(score) FROM table_name_60 WHERE place = \"t5\" AND country = \"united states\"')\n",
            "\n",
            "\n",
            "Success!\n",
            "Success Answer: SELECT AVG(score) FROM table_name_60 WHERE place = \"t5\" AND country = \"united states\"\n",
            "\n",
            "\n"
          ]
        },
        {
          "output_type": "stream",
          "name": "stderr",
          "text": [
            "\r  5%|▌         | 50/1000 [02:08<35:32,  2.24s/it]"
          ]
        },
        {
          "output_type": "stream",
          "name": "stdout",
          "text": [
            "\n",
            "\n",
            "Question: Which station has a frequency of 873khz?\n",
            "\n",
            "Real Answer: SELECT station FROM table_name_18 WHERE frequency = \"873khz\"\n",
            "Generated Answer: SELECT station FROM table_name_18 WHERE frequency = \"873khz\"\n",
            "\n",
            "\n",
            "Similarity Score: 1.0000001\n",
            "Feedback: ('approve', 'SELECT station FROM table_name_18 WHERE frequency = \"873khz\"')\n",
            "\n",
            "\n",
            "Success!\n",
            "Success Answer: SELECT station FROM table_name_18 WHERE frequency = \"873khz\"\n",
            "\n",
            "\n"
          ]
        },
        {
          "output_type": "stream",
          "name": "stderr",
          "text": [
            "\r  5%|▌         | 51/1000 [02:10<37:08,  2.35s/it]"
          ]
        },
        {
          "output_type": "stream",
          "name": "stdout",
          "text": [
            "\n",
            "\n",
            "Question: How many seasons feature Rob Masek?\n",
            "\n",
            "Real Answer: SELECT COUNT(season) FROM table_2140071_8 WHERE coach = \"Rob Masek\"\n",
            "Generated Answer: SELECT COUNT(season) FROM table_2140071_8 WHERE coach = \"Rob Masek\"\n",
            "\n",
            "\n",
            "Similarity Score: 0.9999999\n",
            "Feedback: ('approve', 'SELECT COUNT(season) FROM table_2140071_8 WHERE coach = \"Rob Masek\"')\n",
            "\n",
            "\n",
            "Success!\n",
            "Success Answer: SELECT COUNT(season) FROM table_2140071_8 WHERE coach = \"Rob Masek\"\n",
            "\n",
            "\n"
          ]
        },
        {
          "output_type": "stream",
          "name": "stderr",
          "text": [
            "\r  5%|▌         | 52/1000 [02:13<38:33,  2.44s/it]"
          ]
        },
        {
          "output_type": "stream",
          "name": "stdout",
          "text": [
            "\n",
            "\n",
            "Question: How many results finished in a loss?\n",
            "\n",
            "Real Answer: SELECT COUNT(tar_heels_points) FROM table_20745444_1 WHERE result = \"Loss\"\n",
            "Generated Answer: SELECT tar_heels_points FROM table_20745444_1 WHERE result = \"Loss\"\n",
            "\n",
            "\n",
            "Similarity Score: 0.8934778\n",
            "Feedback: ('approve', 'SELECT tar_heels_points FROM table_20745444_1 WHERE result = \"Loss\"')\n",
            "\n",
            "\n",
            "Real Answer: SELECT COUNT(tar_heels_points) FROM table_20745444_1 WHERE result = \"Loss\"\n",
            "Failed Answer: SELECT tar_heels_points FROM table_20745444_1 WHERE result = \"Loss\"\n",
            "\n",
            "\n"
          ]
        },
        {
          "output_type": "stream",
          "name": "stderr",
          "text": [
            "\r  5%|▌         | 53/1000 [02:15<36:06,  2.29s/it]"
          ]
        },
        {
          "output_type": "stream",
          "name": "stdout",
          "text": [
            "\n",
            "\n",
            "Question: What was the Orangemen record during game 3?\n",
            "\n",
            "Real Answer: SELECT record FROM table_23346983_1 WHERE game = 3\n",
            "Generated Answer: SELECT record FROM table_23346983_1 WHERE game = 3\n",
            "\n",
            "\n",
            "Similarity Score: 0.9999999\n",
            "Feedback: ('approve', 'SELECT record FROM table_23346983_1 WHERE game = 3')\n",
            "\n",
            "\n",
            "Success!\n",
            "Success Answer: SELECT record FROM table_23346983_1 WHERE game = 3\n",
            "\n",
            "\n"
          ]
        },
        {
          "output_type": "stream",
          "name": "stderr",
          "text": [
            "\r  5%|▌         | 54/1000 [02:18<37:38,  2.39s/it]"
          ]
        },
        {
          "output_type": "stream",
          "name": "stdout",
          "text": [
            "\n",
            "\n",
            "Question: What is 1998, when 1994 is Grand Slam Tournaments?\n",
            "\n",
            "Real Answer: SELECT 1998 FROM table_name_86 WHERE 1994 = \"grand slam tournaments\"\n",
            "Generated Answer: SELECT 1998 FROM table_name_86 WHERE 1994 = \"grand slam tournaments\"\n",
            "\n",
            "\n",
            "Similarity Score: 1.0000001\n",
            "Feedback: ('approve', 'SELECT 1998 FROM table_name_86 WHERE 1994 = \"grand slam tournaments\"')\n",
            "\n",
            "\n",
            "Success!\n",
            "Success Answer: SELECT 1998 FROM table_name_86 WHERE 1994 = \"grand slam tournaments\"\n",
            "\n",
            "\n"
          ]
        },
        {
          "output_type": "stream",
          "name": "stderr",
          "text": [
            "\r  6%|▌         | 55/1000 [02:21<41:56,  2.66s/it]"
          ]
        },
        {
          "output_type": "stream",
          "name": "stdout",
          "text": [
            "\n",
            "\n",
            "Question: what's the most recent year that samantha stosur was the opponent with 20 aces and having played more than 2 sets?\n",
            "\n",
            "Real Answer: SELECT MAX(year) FROM table_name_55 WHERE aces = 20 AND opponent = \"samantha stosur\" AND sets > 2\n",
            "Generated Answer: SELECT MAX(year) FROM table_name_55 WHERE aces = 20 AND opponent = \"samantha stosur\" AND sets > 2\n",
            "\n",
            "\n",
            "Similarity Score: 1.0\n",
            "Feedback: ('approve', 'SELECT MAX(year) FROM table_name_55 WHERE aces = 20 AND opponent = \"samantha stosur\" AND sets > 2')\n",
            "\n",
            "\n",
            "Success!\n",
            "Success Answer: SELECT MAX(year) FROM table_name_55 WHERE aces = 20 AND opponent = \"samantha stosur\" AND sets > 2\n",
            "\n",
            "\n"
          ]
        },
        {
          "output_type": "stream",
          "name": "stderr",
          "text": [
            "\r  6%|▌         | 56/1000 [02:26<51:35,  3.28s/it]"
          ]
        },
        {
          "output_type": "stream",
          "name": "stdout",
          "text": [
            "\n",
            "\n",
            "Question: What is Friday 4 June if Wednesday 2 June is 20' 11.98 112.071mph?\n",
            "\n",
            "Real Answer: SELECT fri_4_june FROM table_25220821_3 WHERE wed_2_june = \"20' 11.98 112.071mph\"\n",
            "Generated Answer: SELECT fri_4_june FROM table_25220821_3 WHERE wed_2_june = \"20' 11.98 112.071mph\"\n",
            "\n",
            "\n",
            "Similarity Score: 1.0\n",
            "Feedback: ('approve', 'SELECT fri_4_june FROM table_25220821_3 WHERE wed_2_june = \"20\\' 11.98 112.071mph\"')\n",
            "\n",
            "\n",
            "Success!\n",
            "Success Answer: SELECT fri_4_june FROM table_25220821_3 WHERE wed_2_june = \"20' 11.98 112.071mph\"\n",
            "\n",
            "\n"
          ]
        },
        {
          "output_type": "stream",
          "name": "stderr",
          "text": [
            "\r  6%|▌         | 57/1000 [02:29<52:43,  3.35s/it]"
          ]
        },
        {
          "output_type": "stream",
          "name": "stdout",
          "text": [
            "\n",
            "\n",
            "Question: Who pubilshed isbn 1-937007-44-8?\n",
            "\n",
            "Real Answer: SELECT publisher FROM table_16907214_1 WHERE hardcover = \"ISBN 1-937007-44-8\"\n",
            "Generated Answer: SELECT publisher FROM table_16907214_1 WHERE hardcover = \"ISBN 1-937007-44-8\"\n",
            "\n",
            "\n",
            "Similarity Score: 1.0\n",
            "Feedback: ('approve', 'SELECT publisher FROM table_16907214_1 WHERE hardcover = \"ISBN 1-937007-44-8\"')\n",
            "\n",
            "\n",
            "Success!\n",
            "Success Answer: SELECT publisher FROM table_16907214_1 WHERE hardcover = \"ISBN 1-937007-44-8\"\n",
            "\n",
            "\n"
          ]
        },
        {
          "output_type": "stream",
          "name": "stderr",
          "text": [
            "\r  6%|▌         | 58/1000 [02:31<45:55,  2.93s/it]"
          ]
        },
        {
          "output_type": "stream",
          "name": "stdout",
          "text": [
            "\n",
            "\n",
            "Question: What is the Price, when Upstream is \"256 kbit\"?\n",
            "\n",
            "Real Answer: SELECT price FROM table_name_64 WHERE upstream = \"256 kbit\"\n",
            "Generated Answer: SELECT price FROM table_name_64 WHERE upstream = \"256 kbit\"\n",
            "\n",
            "\n",
            "Similarity Score: 0.99999994\n",
            "Feedback: ('approve', 'SELECT price FROM table_name_64 WHERE upstream = \"256 kbit\"')\n",
            "\n",
            "\n",
            "Success!\n",
            "Success Answer: SELECT price FROM table_name_64 WHERE upstream = \"256 kbit\"\n",
            "\n",
            "\n"
          ]
        },
        {
          "output_type": "stream",
          "name": "stderr",
          "text": [
            "\r  6%|▌         | 59/1000 [02:33<39:42,  2.53s/it]"
          ]
        },
        {
          "output_type": "stream",
          "name": "stdout",
          "text": [
            "\n",
            "\n",
            "Question: What is the American version of the British ə?\n",
            "\n",
            "Real Answer: SELECT american FROM table_name_62 WHERE british = \"ə\"\n",
            "Generated Answer: SELECT american FROM table_name_62 WHERE british = \"ə\"\n",
            "\n",
            "\n",
            "Similarity Score: 1.0000001\n",
            "Feedback: ('approve', 'SELECT american FROM table_name_62 WHERE british = \"ə\"')\n",
            "\n",
            "\n",
            "Success!\n",
            "Success Answer: SELECT american FROM table_name_62 WHERE british = \"ə\"\n",
            "\n",
            "\n"
          ]
        },
        {
          "output_type": "stream",
          "name": "stderr",
          "text": [
            "\r  6%|▌         | 60/1000 [02:35<37:50,  2.42s/it]"
          ]
        },
        {
          "output_type": "stream",
          "name": "stdout",
          "text": [
            "\n",
            "\n",
            "Question: Which pick's player was Marc Lewis (lhp)?\n",
            "\n",
            "Real Answer: SELECT pick FROM table_name_76 WHERE player = \"marc lewis (lhp)\"\n",
            "Generated Answer: SELECT pick FROM table_name_76 WHERE player = \"marc lewis (lhp)\"\n",
            "\n",
            "\n",
            "Similarity Score: 1.0\n",
            "Feedback: ('approve', 'SELECT pick FROM table_name_76 WHERE player = \"marc lewis (lhp)\"')\n",
            "\n",
            "\n",
            "Success!\n",
            "Success Answer: SELECT pick FROM table_name_76 WHERE player = \"marc lewis (lhp)\"\n",
            "\n",
            "\n"
          ]
        },
        {
          "output_type": "stream",
          "name": "stderr",
          "text": [
            "\r  6%|▌         | 61/1000 [02:36<33:58,  2.17s/it]"
          ]
        },
        {
          "output_type": "stream",
          "name": "stdout",
          "text": [
            "\n",
            "\n",
            "Question: What is the earliest year a song with a position less than 1 has?\n",
            "\n",
            "Real Answer: SELECT MIN(year) FROM table_name_5 WHERE position < 1\n",
            "Generated Answer: SELECT MIN(year) FROM table_name_5 WHERE position < 1\n",
            "\n",
            "\n",
            "Similarity Score: 1.0\n",
            "Feedback: ('approve', 'SELECT MIN(year) FROM table_name_5 WHERE position < 1')\n",
            "\n",
            "\n",
            "Success!\n",
            "Success Answer: SELECT MIN(year) FROM table_name_5 WHERE position < 1\n",
            "\n",
            "\n"
          ]
        },
        {
          "output_type": "stream",
          "name": "stderr",
          "text": [
            "\r  6%|▌         | 62/1000 [02:39<36:24,  2.33s/it]"
          ]
        },
        {
          "output_type": "stream",
          "name": "stdout",
          "text": [
            "\n",
            "\n",
            "Question: What is the number of seats in congress when the candidates per party is 6?\n",
            "\n",
            "Real Answer: SELECT COUNT(seats_in_congress) FROM table_2676980_4 WHERE candidates_per_party = 6\n",
            "Generated Answer: SELECT seats_in_congress FROM table_2676980_4 WHERE candidates_per_party = 6\n",
            "\n",
            "\n",
            "Similarity Score: 0.8724884\n",
            "Feedback: ('approve', 'SELECT seats_in_congress FROM table_2676980_4 WHERE candidates_per_party = 6')\n",
            "\n",
            "\n",
            "Real Answer: SELECT COUNT(seats_in_congress) FROM table_2676980_4 WHERE candidates_per_party = 6\n",
            "Failed Answer: SELECT seats_in_congress FROM table_2676980_4 WHERE candidates_per_party = 6\n",
            "\n",
            "\n"
          ]
        },
        {
          "output_type": "stream",
          "name": "stderr",
          "text": [
            "\r  6%|▋         | 63/1000 [02:41<36:11,  2.32s/it]"
          ]
        },
        {
          "output_type": "stream",
          "name": "stdout",
          "text": [
            "\n",
            "\n",
            "Question: How many tries against were there when there was 961 points against?\n",
            "\n",
            "Real Answer: SELECT tries_against FROM table_name_29 WHERE points_against = \"961\"\n",
            "Generated Answer: SELECT tries_against FROM table_name_29 WHERE points_against = \"961\"\n",
            "\n",
            "\n",
            "Similarity Score: 1.0\n",
            "Feedback: ('approve', 'SELECT tries_against FROM table_name_29 WHERE points_against = \"961\"')\n",
            "\n",
            "\n",
            "Success!\n",
            "Success Answer: SELECT tries_against FROM table_name_29 WHERE points_against = \"961\"\n",
            "\n",
            "\n"
          ]
        },
        {
          "output_type": "stream",
          "name": "stderr",
          "text": [
            "\r  6%|▋         | 64/1000 [02:43<34:08,  2.19s/it]"
          ]
        },
        {
          "output_type": "stream",
          "name": "stdout",
          "text": [
            "\n",
            "\n",
            "Question: Which Player had a Long of 5 and Yards of 6?\n",
            "\n",
            "Real Answer: SELECT player FROM table_name_74 WHERE long = \"5\" AND yards = \"6\"\n",
            "Generated Answer: SELECT player FROM table_name_74 WHERE long = 5 AND yards = 6\n",
            "\n",
            "\n",
            "Similarity Score: 0.98367155\n",
            "Feedback: ('approve', 'SELECT player FROM table_name_74 WHERE long = 5 AND yards = 6')\n",
            "\n",
            "\n",
            "Real Answer: SELECT player FROM table_name_74 WHERE long = \"5\" AND yards = \"6\"\n",
            "Failed Answer: SELECT player FROM table_name_74 WHERE long = 5 AND yards = 6\n",
            "\n",
            "\n"
          ]
        },
        {
          "output_type": "stream",
          "name": "stderr",
          "text": [
            "\r  6%|▋         | 65/1000 [02:45<32:08,  2.06s/it]"
          ]
        },
        {
          "output_type": "stream",
          "name": "stdout",
          "text": [
            "\n",
            "\n",
            "Question: What was Stockholm's score when Malmo scored 2?\n",
            "\n",
            "Real Answer: SELECT stockholm FROM table_name_54 WHERE malmö = \"2\"\n",
            "Generated Answer: SELECT stockholm FROM table_name_54 WHERE malmö = \"2\"\n",
            "\n",
            "\n",
            "Similarity Score: 1.0000004\n",
            "Feedback: ('approve', 'SELECT stockholm FROM table_name_54 WHERE malmö = \"2\"')\n",
            "\n",
            "\n",
            "Success!\n",
            "Success Answer: SELECT stockholm FROM table_name_54 WHERE malmö = \"2\"\n",
            "\n",
            "\n"
          ]
        },
        {
          "output_type": "stream",
          "name": "stderr",
          "text": [
            "\r  7%|▋         | 66/1000 [02:50<45:36,  2.93s/it]"
          ]
        },
        {
          "output_type": "stream",
          "name": "stdout",
          "text": [
            "\n",
            "\n",
            "Question: What is the Kilometer of the Berendries asphalt course with an Average climb less than 7 and Length (m) longer than 645?\n",
            "\n",
            "Real Answer: SELECT AVG(kilometer) FROM table_name_15 WHERE pavement = \"asphalt\" AND length__m_ > 645 AND name = \"berendries\" AND average_climb___percentage_ < 7\n",
            "Generated Answer: SELECT MAX(kilometer) FROM table_name_15 WHERE pavement = \"asphalt\" AND length__m_ > 645 AND name = \"berendries\" AND average_climb___percentage_ < 7\n",
            "\n",
            "\n",
            "Similarity Score: 0.7998328\n",
            "Feedback: ('correct', 'SELECT AVG(kilometer) FROM table_name_15 WHERE pavement = \"asphalt\" AND length__m_ > 645 AND name = \"berendries\" AND average_climb___percentage_ < 7')\n",
            "\n",
            "\n",
            "Real Answer: SELECT AVG(kilometer) FROM table_name_15 WHERE pavement = \"asphalt\" AND length__m_ > 645 AND name = \"berendries\" AND average_climb___percentage_ < 7\n",
            "Failed Answer: SELECT MAX(kilometer) FROM table_name_15 WHERE pavement = \"asphalt\" AND length__m_ > 645 AND name = \"berendries\" AND average_climb___percentage_ < 7\n",
            "\n",
            "\n"
          ]
        },
        {
          "output_type": "stream",
          "name": "stderr",
          "text": [
            "\r  7%|▋         | 67/1000 [02:53<44:09,  2.84s/it]"
          ]
        },
        {
          "output_type": "stream",
          "name": "stdout",
          "text": [
            "\n",
            "\n",
            "Question: Who opposed Marty Meehan in each election?\n",
            "\n",
            "Real Answer: SELECT opponent FROM table_1341522_24 WHERE incumbent = \"Marty Meehan\"\n",
            "Generated Answer: SELECT opponent FROM table_1341522_24 WHERE incumbent = \"Marty Meehan\"\n",
            "\n",
            "\n",
            "Similarity Score: 1.0\n",
            "Feedback: ('approve', 'SELECT opponent FROM table_1341522_24 WHERE incumbent = \"Marty Meehan\"')\n",
            "\n",
            "\n",
            "Success!\n",
            "Success Answer: SELECT opponent FROM table_1341522_24 WHERE incumbent = \"Marty Meehan\"\n",
            "\n",
            "\n"
          ]
        },
        {
          "output_type": "stream",
          "name": "stderr",
          "text": [
            "\r  7%|▋         | 68/1000 [02:54<39:09,  2.52s/it]"
          ]
        },
        {
          "output_type": "stream",
          "name": "stdout",
          "text": [
            "\n",
            "\n",
            "Question: What is Driver, when Team is \"Romano Racing\"?\n",
            "\n",
            "Real Answer: SELECT driver FROM table_name_88 WHERE team = \"romano racing\"\n",
            "Generated Answer: SELECT driver FROM table_name_88 WHERE team = \"romano racing\"\n",
            "\n",
            "\n",
            "Similarity Score: 0.9999999\n",
            "Feedback: ('approve', 'SELECT driver FROM table_name_88 WHERE team = \"romano racing\"')\n",
            "\n",
            "\n",
            "Success!\n",
            "Success Answer: SELECT driver FROM table_name_88 WHERE team = \"romano racing\"\n",
            "\n",
            "\n"
          ]
        },
        {
          "output_type": "stream",
          "name": "stderr",
          "text": [
            "\r  7%|▋         | 69/1000 [02:57<38:46,  2.50s/it]"
          ]
        },
        {
          "output_type": "stream",
          "name": "stdout",
          "text": [
            "\n",
            "\n",
            "Question: Who had the high assist total when the team was 0-1?\n",
            "\n",
            "Real Answer: SELECT high_assists FROM table_27902171_4 WHERE record = \"0-1\"\n",
            "Generated Answer: SELECT high_assists FROM table_27902171_4 WHERE record = \"0-1\"\n",
            "\n",
            "\n",
            "Similarity Score: 0.9999999\n",
            "Feedback: ('approve', 'SELECT high_assists FROM table_27902171_4 WHERE record = \"0-1\"')\n",
            "\n",
            "\n",
            "Success!\n",
            "Success Answer: SELECT high_assists FROM table_27902171_4 WHERE record = \"0-1\"\n",
            "\n",
            "\n"
          ]
        },
        {
          "output_type": "stream",
          "name": "stderr",
          "text": [
            "\r  7%|▋         | 70/1000 [03:00<40:02,  2.58s/it]"
          ]
        },
        {
          "output_type": "stream",
          "name": "stdout",
          "text": [
            "\n",
            "\n",
            "Question: what is the date of the game that the high assists is raymond felton (4)?\n",
            "\n",
            "Real Answer: SELECT date FROM table_27713583_2 WHERE high_assists = \"Raymond Felton (4)\"\n",
            "Generated Answer: SELECT date FROM table_27713583_2 WHERE high_assists = \"Raymond Felton (4)\"\n",
            "\n",
            "\n",
            "Similarity Score: 1.0000001\n",
            "Feedback: ('approve', 'SELECT date FROM table_27713583_2 WHERE high_assists = \"Raymond Felton (4)\"')\n",
            "\n",
            "\n",
            "Success!\n",
            "Success Answer: SELECT date FROM table_27713583_2 WHERE high_assists = \"Raymond Felton (4)\"\n",
            "\n",
            "\n"
          ]
        },
        {
          "output_type": "stream",
          "name": "stderr",
          "text": [
            "\r  7%|▋         | 71/1000 [03:01<35:33,  2.30s/it]"
          ]
        },
        {
          "output_type": "stream",
          "name": "stdout",
          "text": [
            "\n",
            "\n",
            "Question: which round has a margin of 178?\n",
            "\n",
            "Real Answer: SELECT round FROM table_name_24 WHERE margin = \"178\"\n",
            "Generated Answer: SELECT round FROM table_name_24 WHERE margin = 178\n",
            "\n",
            "\n",
            "Similarity Score: 0.9894242\n",
            "Feedback: ('approve', 'SELECT round FROM table_name_24 WHERE margin = 178')\n",
            "\n",
            "\n",
            "Real Answer: SELECT round FROM table_name_24 WHERE margin = \"178\"\n",
            "Failed Answer: SELECT round FROM table_name_24 WHERE margin = 178\n",
            "\n",
            "\n"
          ]
        },
        {
          "output_type": "stream",
          "name": "stderr",
          "text": [
            "\r  7%|▋         | 72/1000 [03:04<36:04,  2.33s/it]"
          ]
        },
        {
          "output_type": "stream",
          "name": "stdout",
          "text": [
            "\n",
            "\n",
            "Question: What is the largest goal number when the transfer fee was £0.8m?\n",
            "\n",
            "Real Answer: SELECT MAX(goals) FROM table_name_50 WHERE transfer_fee = \"£0.8m\"\n",
            "Generated Answer: SELECT MAX(goals) FROM table_name_50 WHERE transfer_fee = \"£0.8m\"\n",
            "\n",
            "\n",
            "Similarity Score: 0.9999998\n",
            "Feedback: ('approve', 'SELECT MAX(goals) FROM table_name_50 WHERE transfer_fee = \"£0.8m\"')\n",
            "\n",
            "\n",
            "Success!\n",
            "Success Answer: SELECT MAX(goals) FROM table_name_50 WHERE transfer_fee = \"£0.8m\"\n",
            "\n",
            "\n"
          ]
        },
        {
          "output_type": "stream",
          "name": "stderr",
          "text": [
            "\r  7%|▋         | 73/1000 [03:06<37:56,  2.46s/it]"
          ]
        },
        {
          "output_type": "stream",
          "name": "stdout",
          "text": [
            "\n",
            "\n",
            "Question: What is the production code of the episode written by Jack Carrerrow?\n",
            "\n",
            "Real Answer: SELECT prod_code FROM table_20967430_4 WHERE written_by = \"Jack Carrerrow\"\n",
            "Generated Answer: SELECT prod_code FROM table_20967430_4 WHERE written_by = \"Jack Carrerrow\"\n",
            "\n",
            "\n",
            "Similarity Score: 1.0000001\n",
            "Feedback: ('approve', 'SELECT prod_code FROM table_20967430_4 WHERE written_by = \"Jack Carrerrow\"')\n",
            "\n",
            "\n",
            "Success!\n",
            "Success Answer: SELECT prod_code FROM table_20967430_4 WHERE written_by = \"Jack Carrerrow\"\n",
            "\n",
            "\n"
          ]
        },
        {
          "output_type": "stream",
          "name": "stderr",
          "text": [
            "\r  7%|▋         | 74/1000 [03:10<41:51,  2.71s/it]"
          ]
        },
        {
          "output_type": "stream",
          "name": "stdout",
          "text": [
            "\n",
            "\n",
            "Question: What was the train destination when it has a calling at Boston, Sleaford, Nottingham Victoria?\n",
            "\n",
            "Real Answer: SELECT going_to FROM table_18365784_3 WHERE calling_at = \"Boston, Sleaford, Nottingham Victoria\"\n",
            "Generated Answer: SELECT going_to FROM table_18365784_3 WHERE calling_at = \"Boston, Sleaford, Nottingham Victoria\"\n",
            "\n",
            "\n",
            "Similarity Score: 0.9999999\n",
            "Feedback: ('approve', 'SELECT going_to FROM table_18365784_3 WHERE calling_at = \"Boston, Sleaford, Nottingham Victoria\"')\n",
            "\n",
            "\n",
            "Success!\n",
            "Success Answer: SELECT going_to FROM table_18365784_3 WHERE calling_at = \"Boston, Sleaford, Nottingham Victoria\"\n",
            "\n",
            "\n"
          ]
        },
        {
          "output_type": "stream",
          "name": "stderr",
          "text": [
            "\r  8%|▊         | 75/1000 [03:14<50:59,  3.31s/it]"
          ]
        },
        {
          "output_type": "stream",
          "name": "stdout",
          "text": [
            "\n",
            "\n",
            "Question: What is the Vineyeard surface (2010) with a Village of Gevrey-Chambertin, and Grand Cru of Latricières-Chambertin?\n",
            "\n",
            "Real Answer: SELECT vineyard_surface__2010_ FROM table_name_94 WHERE village = \"gevrey-chambertin\" AND grand_cru = \"latricières-chambertin\"\n",
            "Generated Answer: SELECT vineyard_surface__2010_ FROM table_name_94 WHERE village = \"gevrey-chambertin\" AND grand_cru = \"latricières-chambertin\"\n",
            "\n",
            "\n",
            "Similarity Score: 0.9999999\n",
            "Feedback: ('approve', 'SELECT vineyard_surface__2010_ FROM table_name_94 WHERE village = \"gevrey-chambertin\" AND grand_cru = \"latricières-chambertin\"')\n",
            "\n",
            "\n",
            "Success!\n",
            "Success Answer: SELECT vineyard_surface__2010_ FROM table_name_94 WHERE village = \"gevrey-chambertin\" AND grand_cru = \"latricières-chambertin\"\n",
            "\n",
            "\n"
          ]
        },
        {
          "output_type": "stream",
          "name": "stderr",
          "text": [
            "\r  8%|▊         | 76/1000 [03:17<49:07,  3.19s/it]"
          ]
        },
        {
          "output_type": "stream",
          "name": "stdout",
          "text": [
            "\n",
            "\n",
            "Question: Name for me the total number in attendance for week before 2 and result of t 24-24\n",
            "\n",
            "Real Answer: SELECT COUNT(attendance) FROM table_name_60 WHERE result = \"t 24-24\" AND week < 2\n",
            "Generated Answer: SELECT COUNT(attendance) FROM table_name_60 WHERE result = \"t 24-24\" AND week < 2\n",
            "\n",
            "\n",
            "Similarity Score: 1.0000002\n",
            "Feedback: ('approve', 'SELECT COUNT(attendance) FROM table_name_60 WHERE result = \"t 24-24\" AND week < 2')\n",
            "\n",
            "\n",
            "Success!\n",
            "Success Answer: SELECT COUNT(attendance) FROM table_name_60 WHERE result = \"t 24-24\" AND week < 2\n",
            "\n",
            "\n"
          ]
        },
        {
          "output_type": "stream",
          "name": "stderr",
          "text": [
            "\r  8%|▊         | 77/1000 [03:22<54:25,  3.54s/it]"
          ]
        },
        {
          "output_type": "stream",
          "name": "stdout",
          "text": [
            "\n",
            "\n",
            "Question: What is the sum of the values for Melbourne, when Episode Number Production Number is 19 2-06, and when Sydney is less than 389,000?\n",
            "\n",
            "Real Answer: SELECT SUM(melbourne) FROM table_name_93 WHERE episode_number_production_number = \"19 2-06\" AND sydney < 389 OFFSET 000\n",
            "Generated Answer: SELECT SUM(melbourne) FROM table_name_93 WHERE episode_number_production_number = \"19 2-06\" AND sydney < 389 OFFSET 000\n",
            "\n",
            "\n",
            "Similarity Score: 0.9999999\n",
            "Feedback: ('approve', 'SELECT SUM(melbourne) FROM table_name_93 WHERE episode_number_production_number = \"19 2-06\" AND sydney < 389 OFFSET 000')\n",
            "\n",
            "\n",
            "Success!\n",
            "Success Answer: SELECT SUM(melbourne) FROM table_name_93 WHERE episode_number_production_number = \"19 2-06\" AND sydney < 389 OFFSET 000\n",
            "\n",
            "\n"
          ]
        },
        {
          "output_type": "stream",
          "name": "stderr",
          "text": [
            "\r  8%|▊         | 78/1000 [03:23<45:12,  2.94s/it]"
          ]
        },
        {
          "output_type": "stream",
          "name": "stdout",
          "text": [
            "\n",
            "\n",
            "Question: Which water has green wood?\n",
            "\n",
            "Real Answer: SELECT water FROM table_name_50 WHERE wood = \"green\"\n",
            "Generated Answer: SELECT water FROM table_name_50 WHERE wood = \"green\"\n",
            "\n",
            "\n",
            "Similarity Score: 1.0\n",
            "Feedback: ('approve', 'SELECT water FROM table_name_50 WHERE wood = \"green\"')\n",
            "\n",
            "\n",
            "Success!\n",
            "Success Answer: SELECT water FROM table_name_50 WHERE wood = \"green\"\n",
            "\n",
            "\n"
          ]
        },
        {
          "output_type": "stream",
          "name": "stderr",
          "text": [
            "\r  8%|▊         | 79/1000 [03:26<43:13,  2.82s/it]"
          ]
        },
        {
          "output_type": "stream",
          "name": "stdout",
          "text": [
            "\n",
            "\n",
            "Question: Name the money spent for 2Q having candidate of john mccain\n",
            "\n",
            "Real Answer: SELECT money_spent, _2q FROM table_name_84 WHERE candidate = \"john mccain\"\n",
            "Generated Answer: SELECT money_spent, _2q FROM table_name_84 WHERE candidate = \"john mccain\"\n",
            "\n",
            "\n",
            "Similarity Score: 1.0\n",
            "Feedback: ('approve', 'SELECT money_spent, _2q FROM table_name_84 WHERE candidate = \"john mccain\"')\n",
            "\n",
            "\n",
            "Success!\n",
            "Success Answer: SELECT money_spent, _2q FROM table_name_84 WHERE candidate = \"john mccain\"\n",
            "\n",
            "\n"
          ]
        },
        {
          "output_type": "stream",
          "name": "stderr",
          "text": [
            "\r  8%|▊         | 80/1000 [03:28<40:33,  2.65s/it]"
          ]
        },
        {
          "output_type": "stream",
          "name": "stdout",
          "text": [
            "\n",
            "\n",
            "Question: What is the total number of rounds that had Jason Missiaen?\n",
            "\n",
            "Real Answer: SELECT COUNT(round) FROM table_name_75 WHERE player = \"jason missiaen\"\n",
            "Generated Answer: SELECT COUNT(round) FROM table_name_75 WHERE player = \"jason missiaen\"\n",
            "\n",
            "\n",
            "Similarity Score: 1.0000001\n",
            "Feedback: ('approve', 'SELECT COUNT(round) FROM table_name_75 WHERE player = \"jason missiaen\"')\n",
            "\n",
            "\n",
            "Success!\n",
            "Success Answer: SELECT COUNT(round) FROM table_name_75 WHERE player = \"jason missiaen\"\n",
            "\n",
            "\n"
          ]
        },
        {
          "output_type": "stream",
          "name": "stderr",
          "text": [
            "\r  8%|▊         | 81/1000 [03:30<35:37,  2.33s/it]"
          ]
        },
        {
          "output_type": "stream",
          "name": "stdout",
          "text": [
            "\n",
            "\n",
            "Question: What is To Par, when Place is 3?\n",
            "\n",
            "Real Answer: SELECT to_par FROM table_name_43 WHERE place = \"3\"\n",
            "Generated Answer: SELECT to_par FROM table_name_43 WHERE place = 3\n",
            "\n",
            "\n",
            "Similarity Score: 0.9896833\n",
            "Feedback: ('approve', 'SELECT to_par FROM table_name_43 WHERE place = 3')\n",
            "\n",
            "\n",
            "Real Answer: SELECT to_par FROM table_name_43 WHERE place = \"3\"\n",
            "Failed Answer: SELECT to_par FROM table_name_43 WHERE place = 3\n",
            "\n",
            "\n"
          ]
        },
        {
          "output_type": "stream",
          "name": "stderr",
          "text": [
            "\r  8%|▊         | 82/1000 [03:32<36:25,  2.38s/it]"
          ]
        },
        {
          "output_type": "stream",
          "name": "stdout",
          "text": [
            "\n",
            "\n",
            "Question: What is the average silver medals a team ranked 12 with less than 2 bronze has?\n",
            "\n",
            "Real Answer: SELECT AVG(silver) FROM table_name_28 WHERE rank = 12 AND bronze < 2\n",
            "Generated Answer: SELECT AVG(silver) FROM table_name_28 WHERE rank = 12 AND bronze < 2\n",
            "\n",
            "\n",
            "Similarity Score: 1.0\n",
            "Feedback: ('approve', 'SELECT AVG(silver) FROM table_name_28 WHERE rank = 12 AND bronze < 2')\n",
            "\n",
            "\n",
            "Success!\n",
            "Success Answer: SELECT AVG(silver) FROM table_name_28 WHERE rank = 12 AND bronze < 2\n",
            "\n",
            "\n"
          ]
        },
        {
          "output_type": "stream",
          "name": "stderr",
          "text": [
            "\r  8%|▊         | 83/1000 [03:35<38:42,  2.53s/it]"
          ]
        },
        {
          "output_type": "stream",
          "name": "stdout",
          "text": [
            "\n",
            "\n",
            "Question: what is the diameter (km) of feature of latitude 40.5s\n",
            "\n",
            "Real Answer: SELECT diameter__km_ FROM table_16799784_7 WHERE latitude = \"40.5S\"\n",
            "Generated Answer: SELECT diameter__km_ FROM table_16799784_7 WHERE latitude = \"40.5S\"\n",
            "\n",
            "\n",
            "Similarity Score: 0.99999994\n",
            "Feedback: ('approve', 'SELECT diameter__km_ FROM table_16799784_7 WHERE latitude = \"40.5S\"')\n",
            "\n",
            "\n",
            "Success!\n",
            "Success Answer: SELECT diameter__km_ FROM table_16799784_7 WHERE latitude = \"40.5S\"\n",
            "\n",
            "\n"
          ]
        },
        {
          "output_type": "stream",
          "name": "stderr",
          "text": [
            "\r  8%|▊         | 84/1000 [03:38<41:46,  2.74s/it]"
          ]
        },
        {
          "output_type": "stream",
          "name": "stdout",
          "text": [
            "\n",
            "\n",
            "Question: Which Years has a Type/code of cubic centimetres (cuin) v8 ( m273 )?\n",
            "\n",
            "Real Answer: SELECT years FROM table_name_72 WHERE type_code = \"cubic centimetres (cuin) v8 ( m273 )\"\n",
            "Generated Answer: SELECT years FROM table_name_72 WHERE type_code = \"cubic centimetres (cuin) v8 ( m273 )\"\n",
            "\n",
            "\n",
            "Similarity Score: 1.0\n",
            "Feedback: ('approve', 'SELECT years FROM table_name_72 WHERE type_code = \"cubic centimetres (cuin) v8 ( m273 )\"')\n",
            "\n",
            "\n",
            "Success!\n",
            "Success Answer: SELECT years FROM table_name_72 WHERE type_code = \"cubic centimetres (cuin) v8 ( m273 )\"\n",
            "\n",
            "\n"
          ]
        },
        {
          "output_type": "stream",
          "name": "stderr",
          "text": [
            "\r  8%|▊         | 85/1000 [03:42<44:38,  2.93s/it]"
          ]
        },
        {
          "output_type": "stream",
          "name": "stdout",
          "text": [
            "\n",
            "\n",
            "Question: What is the highest amount of group legs won when the prize money was £21,850?\n",
            "\n",
            "Real Answer: SELECT MAX(Winners) AS group_legs_won FROM table_24334163_1 WHERE total_money_won = \"£21,850\"\n",
            "Generated Answer: SELECT MAX(Winners) FROM table_24334163_1 WHERE total_money_won = \"£21,850\"\n",
            "\n",
            "\n",
            "Similarity Score: 0.8889071\n",
            "Feedback: ('approve', 'SELECT MAX(Winners) FROM table_24334163_1 WHERE total_money_won = \"£21,850\"')\n",
            "\n",
            "\n",
            "Real Answer: SELECT MAX(Winners) AS group_legs_won FROM table_24334163_1 WHERE total_money_won = \"£21,850\"\n",
            "Failed Answer: SELECT MAX(Winners) FROM table_24334163_1 WHERE total_money_won = \"£21,850\"\n",
            "\n",
            "\n"
          ]
        },
        {
          "output_type": "stream",
          "name": "stderr",
          "text": [
            "\r  9%|▊         | 86/1000 [03:44<42:22,  2.78s/it]"
          ]
        },
        {
          "output_type": "stream",
          "name": "stdout",
          "text": [
            "\n",
            "\n",
            "Question: What district was Harold Earthman the incumbent in? \n",
            "\n",
            "Real Answer: SELECT district FROM table_1342233_42 WHERE incumbent = \"Harold Earthman\"\n",
            "Generated Answer: SELECT district FROM table_1342233_42 WHERE incumbent = \"Harold Earthman\"\n",
            "\n",
            "\n",
            "Similarity Score: 1.0000001\n",
            "Feedback: ('approve', 'SELECT district FROM table_1342233_42 WHERE incumbent = \"Harold Earthman\"')\n",
            "\n",
            "\n",
            "Success!\n",
            "Success Answer: SELECT district FROM table_1342233_42 WHERE incumbent = \"Harold Earthman\"\n",
            "\n",
            "\n"
          ]
        },
        {
          "output_type": "stream",
          "name": "stderr",
          "text": [
            "\r  9%|▊         | 87/1000 [03:47<42:59,  2.83s/it]"
          ]
        },
        {
          "output_type": "stream",
          "name": "stdout",
          "text": [
            "\n",
            "\n",
            "Question: Name the flight down for vladimir vasyutin , alexander volkov\n",
            "\n",
            "Real Answer: SELECT flight_down FROM table_245801_1 WHERE crew = \"Vladimir Vasyutin , Alexander Volkov\"\n",
            "Generated Answer: SELECT flight_down FROM table_245801_1 WHERE crew = \"Vladimir Vasyutin, Alexander Volkov\"\n",
            "\n",
            "\n",
            "Similarity Score: 0.9999999\n",
            "Feedback: ('approve', 'SELECT flight_down FROM table_245801_1 WHERE crew = \"Vladimir Vasyutin, Alexander Volkov\"')\n",
            "\n",
            "\n",
            "Real Answer: SELECT flight_down FROM table_245801_1 WHERE crew = \"Vladimir Vasyutin , Alexander Volkov\"\n",
            "Failed Answer: SELECT flight_down FROM table_245801_1 WHERE crew = \"Vladimir Vasyutin, Alexander Volkov\"\n",
            "\n",
            "\n"
          ]
        },
        {
          "output_type": "stream",
          "name": "stderr",
          "text": [
            "\r  9%|▉         | 88/1000 [03:48<36:27,  2.40s/it]"
          ]
        },
        {
          "output_type": "stream",
          "name": "stdout",
          "text": [
            "\n",
            "\n",
            "Question: What date is week 3?\n",
            "\n",
            "Real Answer: SELECT date FROM table_name_77 WHERE week = 3\n",
            "Generated Answer: SELECT date FROM table_name_77 WHERE week = 3\n",
            "\n",
            "\n",
            "Similarity Score: 1.0000002\n",
            "Feedback: ('approve', 'SELECT date FROM table_name_77 WHERE week = 3')\n",
            "\n",
            "\n",
            "Success!\n",
            "Success Answer: SELECT date FROM table_name_77 WHERE week = 3\n",
            "\n",
            "\n"
          ]
        },
        {
          "output_type": "stream",
          "name": "stderr",
          "text": [
            "\r  9%|▉         | 89/1000 [03:52<41:24,  2.73s/it]"
          ]
        },
        {
          "output_type": "stream",
          "name": "stdout",
          "text": [
            "\n",
            "\n",
            "Question: How many strongs transliteration of the english spelling of the work jehojakin?\n",
            "\n",
            "Real Answer: SELECT COUNT(strongs_transliteration) FROM table_1242447_1 WHERE english_spelling = \"Jehojakin\"\n",
            "Generated Answer: SELECT COUNT(strongs_transliteration) FROM table_1242447_1 WHERE english_spelling = \"Jehojakin\"\n",
            "\n",
            "\n",
            "Similarity Score: 0.99999994\n",
            "Feedback: ('approve', 'SELECT COUNT(strongs_transliteration) FROM table_1242447_1 WHERE english_spelling = \"Jehojakin\"')\n",
            "\n",
            "\n",
            "Success!\n",
            "Success Answer: SELECT COUNT(strongs_transliteration) FROM table_1242447_1 WHERE english_spelling = \"Jehojakin\"\n",
            "\n",
            "\n"
          ]
        },
        {
          "output_type": "stream",
          "name": "stderr",
          "text": [
            "\r  9%|▉         | 90/1000 [03:54<39:13,  2.59s/it]"
          ]
        },
        {
          "output_type": "stream",
          "name": "stdout",
          "text": [
            "\n",
            "\n",
            "Question: Which song has votes greater than 640 and a draw of 1?\n",
            "\n",
            "Real Answer: SELECT song FROM table_name_62 WHERE votes > 640 AND draw = 1\n",
            "Generated Answer: SELECT song FROM table_name_62 WHERE votes > 640 AND draw = 1\n",
            "\n",
            "\n",
            "Similarity Score: 1.0000001\n",
            "Feedback: ('approve', 'SELECT song FROM table_name_62 WHERE votes > 640 AND draw = 1')\n",
            "\n",
            "\n",
            "Success!\n",
            "Success Answer: SELECT song FROM table_name_62 WHERE votes > 640 AND draw = 1\n",
            "\n",
            "\n"
          ]
        },
        {
          "output_type": "stream",
          "name": "stderr",
          "text": [
            "\r  9%|▉         | 91/1000 [03:56<36:43,  2.42s/it]"
          ]
        },
        {
          "output_type": "stream",
          "name": "stdout",
          "text": [
            "\n",
            "\n",
            "Question: What is the name of the player with the High points when there was a Record of 31–48?\n",
            "\n",
            "Real Answer: SELECT high_points FROM table_name_66 WHERE record = \"31–48\"\n",
            "Generated Answer: SELECT high_points FROM table_name_66 WHERE record = \"31–48\"\n",
            "\n",
            "\n",
            "Similarity Score: 1.0\n",
            "Feedback: ('approve', 'SELECT high_points FROM table_name_66 WHERE record = \"31–48\"')\n",
            "\n",
            "\n",
            "Success!\n",
            "Success Answer: SELECT high_points FROM table_name_66 WHERE record = \"31–48\"\n",
            "\n",
            "\n"
          ]
        },
        {
          "output_type": "stream",
          "name": "stderr",
          "text": [
            "\r  9%|▉         | 92/1000 [04:00<42:32,  2.81s/it]"
          ]
        },
        {
          "output_type": "stream",
          "name": "stdout",
          "text": [
            "\n",
            "\n",
            "Question: Natural change of 42 689 has which lowest Crude birth rate (per 1000)?\n",
            "\n",
            "Real Answer: SELECT MIN(crude_birth_rate__per_1000_) FROM table_name_49 WHERE natural_change = \"42 689\"\n",
            "Generated Answer: SELECT MIN(crude_birth_rate__per_1000_) FROM table_name_49 WHERE natural_change = \"42 689\"\n",
            "\n",
            "\n",
            "Similarity Score: 1.0000002\n",
            "Feedback: ('approve', 'SELECT MIN(crude_birth_rate__per_1000_) FROM table_name_49 WHERE natural_change = \"42 689\"')\n",
            "\n",
            "\n",
            "Success!\n",
            "Success Answer: SELECT MIN(crude_birth_rate__per_1000_) FROM table_name_49 WHERE natural_change = \"42 689\"\n",
            "\n",
            "\n"
          ]
        },
        {
          "output_type": "stream",
          "name": "stderr",
          "text": [
            "\r  9%|▉         | 93/1000 [04:02<38:35,  2.55s/it]"
          ]
        },
        {
          "output_type": "stream",
          "name": "stdout",
          "text": [
            "\n",
            "\n",
            "Question: How many bronzes were won by the country with a total higher than 5?\n",
            "\n",
            "Real Answer: SELECT SUM(bronze) FROM table_name_25 WHERE total > 5\n",
            "Generated Answer: SELECT SUM(bronze) FROM table_name_25 WHERE total > 5\n",
            "\n",
            "\n",
            "Similarity Score: 0.9999998\n",
            "Feedback: ('approve', 'SELECT SUM(bronze) FROM table_name_25 WHERE total > 5')\n",
            "\n",
            "\n",
            "Success!\n",
            "Success Answer: SELECT SUM(bronze) FROM table_name_25 WHERE total > 5\n",
            "\n",
            "\n"
          ]
        },
        {
          "output_type": "stream",
          "name": "stderr",
          "text": [
            "\r  9%|▉         | 94/1000 [04:06<45:08,  2.99s/it]"
          ]
        },
        {
          "output_type": "stream",
          "name": "stdout",
          "text": [
            "\n",
            "\n",
            "Question: What's the population with a code more than 90902 and an area less than 1,335.47?\n",
            "\n",
            "Real Answer: SELECT MIN(population) FROM table_name_19 WHERE code > 90902 AND area__km_2__ < 1 OFFSET 335.47\n",
            "Generated Answer: SELECT SUM(population) FROM table_name_19 WHERE code > 90902 AND area__km_2__ < 1 OFFSET 335.47\n",
            "\n",
            "\n",
            "Similarity Score: 0.82049173\n",
            "Feedback: ('approve', 'SELECT SUM(population) FROM table_name_19 WHERE code > 90902 AND area__km_2__ < 1 OFFSET 335.47')\n",
            "\n",
            "\n",
            "Real Answer: SELECT MIN(population) FROM table_name_19 WHERE code > 90902 AND area__km_2__ < 1 OFFSET 335.47\n",
            "Failed Answer: SELECT SUM(population) FROM table_name_19 WHERE code > 90902 AND area__km_2__ < 1 OFFSET 335.47\n",
            "\n",
            "\n"
          ]
        },
        {
          "output_type": "stream",
          "name": "stderr",
          "text": [
            "\r 10%|▉         | 95/1000 [04:08<41:55,  2.78s/it]"
          ]
        },
        {
          "output_type": "stream",
          "name": "stdout",
          "text": [
            "\n",
            "\n",
            "Question: What is the surface of the match on July 5, 2009?\n",
            "\n",
            "Real Answer: SELECT surface FROM table_name_95 WHERE date = \"july 5, 2009\"\n",
            "Generated Answer: SELECT surface FROM table_name_95 WHERE date = \"july 5, 2009\"\n",
            "\n",
            "\n",
            "Similarity Score: 1.0000001\n",
            "Feedback: ('approve', 'SELECT surface FROM table_name_95 WHERE date = \"july 5, 2009\"')\n",
            "\n",
            "\n",
            "Success!\n",
            "Success Answer: SELECT surface FROM table_name_95 WHERE date = \"july 5, 2009\"\n",
            "\n",
            "\n"
          ]
        },
        {
          "output_type": "stream",
          "name": "stderr",
          "text": [
            "\r 10%|▉         | 96/1000 [04:11<42:55,  2.85s/it]"
          ]
        },
        {
          "output_type": "stream",
          "name": "stdout",
          "text": [
            "\n",
            "\n",
            "Question: Which Fleet Series (Quantity) that has a Builder of mci, and an Order Year of 2002?\n",
            "\n",
            "Real Answer: SELECT fleet_series__quantity_ FROM table_name_23 WHERE builder = \"mci\" AND order_year = \"2002\"\n",
            "Generated Answer: SELECT fleet_series__quantity_ FROM table_name_23 WHERE builder = \"mci\" AND order_year = 2002\n",
            "\n",
            "\n",
            "Similarity Score: 0.99718213\n",
            "Feedback: ('approve', 'SELECT fleet_series__quantity_ FROM table_name_23 WHERE builder = \"mci\" AND order_year = 2002')\n",
            "\n",
            "\n",
            "Real Answer: SELECT fleet_series__quantity_ FROM table_name_23 WHERE builder = \"mci\" AND order_year = \"2002\"\n",
            "Failed Answer: SELECT fleet_series__quantity_ FROM table_name_23 WHERE builder = \"mci\" AND order_year = 2002\n",
            "\n",
            "\n"
          ]
        },
        {
          "output_type": "stream",
          "name": "stderr",
          "text": [
            "\r 10%|▉         | 97/1000 [04:13<39:39,  2.64s/it]"
          ]
        },
        {
          "output_type": "stream",
          "name": "stdout",
          "text": [
            "\n",
            "\n",
            "Question: Which publisher released Martial Law: Substitutes?\n",
            "\n",
            "Real Answer: SELECT publisher FROM table_name_47 WHERE release_title = \"martial law: substitutes\"\n",
            "Generated Answer: SELECT publisher FROM table_name_47 WHERE release_title = \"martial law: substitutes\"\n",
            "\n",
            "\n",
            "Similarity Score: 1.0000001\n",
            "Feedback: ('approve', 'SELECT publisher FROM table_name_47 WHERE release_title = \"martial law: substitutes\"')\n",
            "\n",
            "\n",
            "Success!\n",
            "Success Answer: SELECT publisher FROM table_name_47 WHERE release_title = \"martial law: substitutes\"\n",
            "\n",
            "\n"
          ]
        },
        {
          "output_type": "stream",
          "name": "stderr",
          "text": [
            "\r 10%|▉         | 98/1000 [04:15<35:04,  2.33s/it]"
          ]
        },
        {
          "output_type": "stream",
          "name": "stdout",
          "text": [
            "\n",
            "\n",
            "Question: Who is the driver of the car that started in grid 14?\n",
            "\n",
            "Real Answer: SELECT rider FROM table_name_18 WHERE grid = \"14\"\n",
            "Generated Answer: SELECT rider FROM table_name_18 WHERE grid = 14\n",
            "\n",
            "\n",
            "Similarity Score: 0.9890356\n",
            "Feedback: ('approve', 'SELECT rider FROM table_name_18 WHERE grid = 14')\n",
            "\n",
            "\n",
            "Real Answer: SELECT rider FROM table_name_18 WHERE grid = \"14\"\n",
            "Failed Answer: SELECT rider FROM table_name_18 WHERE grid = 14\n",
            "\n",
            "\n"
          ]
        },
        {
          "output_type": "stream",
          "name": "stderr",
          "text": [
            "\r 10%|▉         | 99/1000 [04:17<32:08,  2.14s/it]"
          ]
        },
        {
          "output_type": "stream",
          "name": "stdout",
          "text": [
            "\n",
            "\n",
            "Question: What is the long for the player with 26 carries?\n",
            "\n",
            "Real Answer: SELECT long FROM table_name_60 WHERE car = 26\n",
            "Generated Answer: SELECT long FROM table_name_60 WHERE car = \"26\"\n",
            "\n",
            "\n",
            "Similarity Score: 0.98765707\n",
            "Feedback: ('approve', 'SELECT long FROM table_name_60 WHERE car = \"26\"')\n",
            "\n",
            "\n",
            "Real Answer: SELECT long FROM table_name_60 WHERE car = 26\n",
            "Failed Answer: SELECT long FROM table_name_60 WHERE car = \"26\"\n",
            "\n",
            "\n"
          ]
        },
        {
          "output_type": "stream",
          "name": "stderr",
          "text": [
            "\r 10%|█         | 100/1000 [04:19<33:22,  2.22s/it]"
          ]
        },
        {
          "output_type": "stream",
          "name": "stdout",
          "text": [
            "\n",
            "\n",
            "Question: What status of school is informatics international college?\n",
            "\n",
            "Real Answer: SELECT status FROM table_2589963_1 WHERE institution = \"Informatics International College\"\n",
            "Generated Answer: SELECT status FROM table_2589963_1 WHERE institution = \"Informatics International College\"\n",
            "\n",
            "\n",
            "Similarity Score: 1.0000001\n",
            "Feedback: ('approve', 'SELECT status FROM table_2589963_1 WHERE institution = \"Informatics International College\"')\n",
            "\n",
            "\n",
            "Success!\n",
            "Success Answer: SELECT status FROM table_2589963_1 WHERE institution = \"Informatics International College\"\n",
            "\n",
            "\n"
          ]
        },
        {
          "output_type": "stream",
          "name": "stderr",
          "text": [
            "\r 10%|█         | 101/1000 [04:23<40:57,  2.73s/it]"
          ]
        },
        {
          "output_type": "stream",
          "name": "stdout",
          "text": [
            "\n",
            "\n",
            "Question: What was the Nickname that had a No. 0, and Years in Competition of 1982-2003?\n",
            "\n",
            "Real Answer: SELECT nickname FROM table_name_26 WHERE no_of_premierships = 0 AND years_in_competition = \"1982-2003\"\n",
            "Generated Answer: SELECT nickname FROM table_name_26 WHERE no_of_premierships = 0 AND years_in_competition = \"1982-2003\"\n",
            "\n",
            "\n",
            "Similarity Score: 1.0000002\n",
            "Feedback: ('approve', 'SELECT nickname FROM table_name_26 WHERE no_of_premierships = 0 AND years_in_competition = \"1982-2003\"')\n",
            "\n",
            "\n",
            "Success!\n",
            "Success Answer: SELECT nickname FROM table_name_26 WHERE no_of_premierships = 0 AND years_in_competition = \"1982-2003\"\n",
            "\n",
            "\n"
          ]
        },
        {
          "output_type": "stream",
          "name": "stderr",
          "text": [
            "\r 10%|█         | 102/1000 [04:25<36:07,  2.41s/it]"
          ]
        },
        {
          "output_type": "stream",
          "name": "stdout",
          "text": [
            "\n",
            "\n",
            "Question: Which pick came from Pittsburgh?\n",
            "\n",
            "Real Answer: SELECT COUNT(pick) FROM table_name_60 WHERE college = \"pittsburgh\"\n",
            "Generated Answer: SELECT pick FROM table_name_60 WHERE college = \"pittsburgh\"\n",
            "\n",
            "\n",
            "Similarity Score: 0.79492664\n",
            "Feedback: ('correct', 'SELECT COUNT(pick) FROM table_name_60 WHERE college = \"pittsburgh\"')\n",
            "\n",
            "\n",
            "Real Answer: SELECT COUNT(pick) FROM table_name_60 WHERE college = \"pittsburgh\"\n",
            "Failed Answer: SELECT pick FROM table_name_60 WHERE college = \"pittsburgh\"\n",
            "\n",
            "\n"
          ]
        },
        {
          "output_type": "stream",
          "name": "stderr",
          "text": [
            "\r 10%|█         | 103/1000 [04:26<33:19,  2.23s/it]"
          ]
        },
        {
          "output_type": "stream",
          "name": "stdout",
          "text": [
            "\n",
            "\n",
            "Question: What numbered pick was the player from texas?\n",
            "\n",
            "Real Answer: SELECT COUNT(pick__number) FROM table_name_85 WHERE college = \"texas\"\n",
            "Generated Answer: SELECT pick__number FROM table_name_85 WHERE college = \"texas\"\n",
            "\n",
            "\n",
            "Similarity Score: 0.8174797\n",
            "Feedback: ('approve', 'SELECT pick__number FROM table_name_85 WHERE college = \"texas\"')\n",
            "\n",
            "\n",
            "Real Answer: SELECT COUNT(pick__number) FROM table_name_85 WHERE college = \"texas\"\n",
            "Failed Answer: SELECT pick__number FROM table_name_85 WHERE college = \"texas\"\n",
            "\n",
            "\n"
          ]
        },
        {
          "output_type": "stream",
          "name": "stderr",
          "text": [
            "\r 10%|█         | 104/1000 [04:30<37:17,  2.50s/it]"
          ]
        },
        {
          "output_type": "stream",
          "name": "stdout",
          "text": [
            "\n",
            "\n",
            "Question: What is Ensemble Name Muxco Gloucestershire's Advertisement Date in Block 10C?\n",
            "\n",
            "Real Answer: SELECT advertisement_date FROM table_name_17 WHERE block = \"10c\" AND ensemble_name = \"muxco gloucestershire\"\n",
            "Generated Answer: SELECT advertisement_date FROM table_name_17 WHERE block = \"10c\" AND ensemble_name = \"muxco gloucestershire\"\n",
            "\n",
            "\n",
            "Similarity Score: 0.9999999\n",
            "Feedback: ('approve', 'SELECT advertisement_date FROM table_name_17 WHERE block = \"10c\" AND ensemble_name = \"muxco gloucestershire\"')\n",
            "\n",
            "\n",
            "Success!\n",
            "Success Answer: SELECT advertisement_date FROM table_name_17 WHERE block = \"10c\" AND ensemble_name = \"muxco gloucestershire\"\n",
            "\n",
            "\n"
          ]
        },
        {
          "output_type": "stream",
          "name": "stderr",
          "text": [
            "\r 10%|█         | 105/1000 [04:31<34:22,  2.30s/it]"
          ]
        },
        {
          "output_type": "stream",
          "name": "stdout",
          "text": [
            "\n",
            "\n",
            "Question: Tell me the wekk for eastern #2 of houston\n",
            "\n",
            "Real Answer: SELECT week FROM table_name_37 WHERE eastern__number2 = \"houston\"\n",
            "Generated Answer: SELECT week FROM table_name_37 WHERE eastern__number2 = \"houston\"\n",
            "\n",
            "\n",
            "Similarity Score: 0.9999998\n",
            "Feedback: ('approve', 'SELECT week FROM table_name_37 WHERE eastern__number2 = \"houston\"')\n",
            "\n",
            "\n",
            "Success!\n",
            "Success Answer: SELECT week FROM table_name_37 WHERE eastern__number2 = \"houston\"\n",
            "\n",
            "\n"
          ]
        },
        {
          "output_type": "stream",
          "name": "stderr",
          "text": [
            "\r 11%|█         | 106/1000 [04:34<35:05,  2.35s/it]"
          ]
        },
        {
          "output_type": "stream",
          "name": "stdout",
          "text": [
            "\n",
            "\n",
            "Question: For the match in which player David Frost scored a To Par of +7, what was the final score?\n",
            "\n",
            "Real Answer: SELECT score FROM table_name_94 WHERE to_par = \"+7\" AND player = \"david frost\"\n",
            "Generated Answer: SELECT score FROM table_name_94 WHERE to_par = \"+7\" AND player = \"david frost\"\n",
            "\n",
            "\n",
            "Similarity Score: 1.0000002\n",
            "Feedback: ('approve', 'SELECT score FROM table_name_94 WHERE to_par = \"+7\" AND player = \"david frost\"')\n",
            "\n",
            "\n",
            "Success!\n",
            "Success Answer: SELECT score FROM table_name_94 WHERE to_par = \"+7\" AND player = \"david frost\"\n",
            "\n",
            "\n"
          ]
        },
        {
          "output_type": "stream",
          "name": "stderr",
          "text": [
            "\r 11%|█         | 107/1000 [04:36<34:20,  2.31s/it]"
          ]
        },
        {
          "output_type": "stream",
          "name": "stdout",
          "text": [
            "\n",
            "\n",
            "Question: @ Chicago had a high points of what?\n",
            "\n",
            "Real Answer: SELECT high_points FROM table_17355408_7 WHERE team = \"@ Chicago\"\n",
            "Generated Answer: SELECT high_points FROM table_17355408_7 WHERE team = \"@ Chicago\"\n",
            "\n",
            "\n",
            "Similarity Score: 1.0\n",
            "Feedback: ('approve', 'SELECT high_points FROM table_17355408_7 WHERE team = \"@ Chicago\"')\n",
            "\n",
            "\n",
            "Success!\n",
            "Success Answer: SELECT high_points FROM table_17355408_7 WHERE team = \"@ Chicago\"\n",
            "\n",
            "\n"
          ]
        },
        {
          "output_type": "stream",
          "name": "stderr",
          "text": [
            "\r 11%|█         | 108/1000 [04:38<31:32,  2.12s/it]"
          ]
        },
        {
          "output_type": "stream",
          "name": "stdout",
          "text": [
            "\n",
            "\n",
            "Question: Which show has a character of Rohan?\n",
            "\n",
            "Real Answer: SELECT show FROM table_name_89 WHERE character = \"rohan\"\n",
            "Generated Answer: SELECT show FROM table_name_89 WHERE character = \"rohan\"\n",
            "\n",
            "\n",
            "Similarity Score: 1.0000002\n",
            "Feedback: ('approve', 'SELECT show FROM table_name_89 WHERE character = \"rohan\"')\n",
            "\n",
            "\n",
            "Success!\n",
            "Success Answer: SELECT show FROM table_name_89 WHERE character = \"rohan\"\n",
            "\n",
            "\n"
          ]
        },
        {
          "output_type": "stream",
          "name": "stderr",
          "text": [
            "\r 11%|█         | 109/1000 [04:40<32:00,  2.16s/it]"
          ]
        },
        {
          "output_type": "stream",
          "name": "stdout",
          "text": [
            "\n",
            "\n",
            "Question: Show all template type codes and number of templates for each.\n",
            "\n",
            "Real Answer: SELECT template_type_code, COUNT(*) FROM Templates GROUP BY template_type_code\n",
            "Generated Answer: SELECT template_type_code, COUNT(*) FROM Templates GROUP BY template_type_code\n",
            "\n",
            "\n",
            "Similarity Score: 0.99999994\n",
            "Feedback: ('approve', 'SELECT template_type_code, COUNT(*) FROM Templates GROUP BY template_type_code')\n",
            "\n",
            "\n",
            "Success!\n",
            "Success Answer: SELECT template_type_code, COUNT(*) FROM Templates GROUP BY template_type_code\n",
            "\n",
            "\n"
          ]
        },
        {
          "output_type": "stream",
          "name": "stderr",
          "text": [
            "\r 11%|█         | 110/1000 [04:42<31:58,  2.16s/it]"
          ]
        },
        {
          "output_type": "stream",
          "name": "stdout",
          "text": [
            "\n",
            "\n",
            "Question: What is Time, when Laps is 22, and when Grid is 15?\n",
            "\n",
            "Real Answer: SELECT time FROM table_name_42 WHERE laps = 22 AND grid = 15\n",
            "Generated Answer: SELECT time FROM table_name_42 WHERE laps = 22 AND grid = 15\n",
            "\n",
            "\n",
            "Similarity Score: 1.0\n",
            "Feedback: ('approve', 'SELECT time FROM table_name_42 WHERE laps = 22 AND grid = 15')\n",
            "\n",
            "\n",
            "Success!\n",
            "Success Answer: SELECT time FROM table_name_42 WHERE laps = 22 AND grid = 15\n",
            "\n",
            "\n"
          ]
        },
        {
          "output_type": "stream",
          "name": "stderr",
          "text": [
            "\r 11%|█         | 111/1000 [04:44<31:27,  2.12s/it]"
          ]
        },
        {
          "output_type": "stream",
          "name": "stdout",
          "text": [
            "\n",
            "\n",
            "Question: What is Score, when Set 3 is 17-25?\n",
            "\n",
            "Real Answer: SELECT score FROM table_name_67 WHERE set_3 = \"17-25\"\n",
            "Generated Answer: SELECT score FROM table_name_67 WHERE set_3 = \"17-25\"\n",
            "\n",
            "\n",
            "Similarity Score: 0.99999976\n",
            "Feedback: ('approve', 'SELECT score FROM table_name_67 WHERE set_3 = \"17-25\"')\n",
            "\n",
            "\n",
            "Success!\n",
            "Success Answer: SELECT score FROM table_name_67 WHERE set_3 = \"17-25\"\n",
            "\n",
            "\n"
          ]
        },
        {
          "output_type": "stream",
          "name": "stderr",
          "text": [
            "\r 11%|█         | 112/1000 [04:47<35:52,  2.42s/it]"
          ]
        },
        {
          "output_type": "stream",
          "name": "stdout",
          "text": [
            "\n",
            "\n",
            "Question: What are average launches with 0 failures, rocket of Soyuz, and less than 12 successes?\n",
            "\n",
            "Real Answer: SELECT AVG(launches) FROM table_name_3 WHERE failures = 0 AND rocket = \"soyuz\" AND successes < 12\n",
            "Generated Answer: SELECT AVG(launches) FROM table_name_3 WHERE failures = 0 AND rocket = \"soyuz\" AND successes < 12\n",
            "\n",
            "\n",
            "Similarity Score: 1.0\n",
            "Feedback: ('approve', 'SELECT AVG(launches) FROM table_name_3 WHERE failures = 0 AND rocket = \"soyuz\" AND successes < 12')\n",
            "\n",
            "\n",
            "Success!\n",
            "Success Answer: SELECT AVG(launches) FROM table_name_3 WHERE failures = 0 AND rocket = \"soyuz\" AND successes < 12\n",
            "\n",
            "\n"
          ]
        },
        {
          "output_type": "stream",
          "name": "stderr",
          "text": [
            "\r 11%|█▏        | 113/1000 [04:50<38:00,  2.57s/it]"
          ]
        },
        {
          "output_type": "stream",
          "name": "stdout",
          "text": [
            "\n",
            "\n",
            "Question: Which Mountains classification has a General classification of egoi martínez, and a Stage of 9?\n",
            "\n",
            "Real Answer: SELECT mountains_classification FROM table_name_42 WHERE general_classification = \"egoi martínez\" AND stage = \"9\"\n",
            "Generated Answer: SELECT mountains_classification FROM table_name_42 WHERE general_classification = \"egoi martínez\" AND stage = \"9\"\n",
            "\n",
            "\n",
            "Similarity Score: 1.0000001\n",
            "Feedback: ('approve', 'SELECT mountains_classification FROM table_name_42 WHERE general_classification = \"egoi martínez\" AND stage = \"9\"')\n",
            "\n",
            "\n",
            "Success!\n",
            "Success Answer: SELECT mountains_classification FROM table_name_42 WHERE general_classification = \"egoi martínez\" AND stage = \"9\"\n",
            "\n",
            "\n"
          ]
        },
        {
          "output_type": "stream",
          "name": "stderr",
          "text": [
            "\r 11%|█▏        | 114/1000 [04:53<39:55,  2.70s/it]"
          ]
        },
        {
          "output_type": "stream",
          "name": "stdout",
          "text": [
            "\n",
            "\n",
            "Question: How many  dvd  titled \"series 5\" were released having a release date or a non available date in region 2?\n",
            "\n",
            "Real Answer: SELECT COUNT(region_2) FROM table_17697980_1 WHERE dvd_title = \"Series 5\"\n",
            "Generated Answer: SELECT COUNT(region_2) FROM table_17697980_1 WHERE dvd_title = \"Series 5\"\n",
            "\n",
            "\n",
            "Similarity Score: 0.9999999\n",
            "Feedback: ('approve', 'SELECT COUNT(region_2) FROM table_17697980_1 WHERE dvd_title = \"Series 5\"')\n",
            "\n",
            "\n",
            "Success!\n",
            "Success Answer: SELECT COUNT(region_2) FROM table_17697980_1 WHERE dvd_title = \"Series 5\"\n",
            "\n",
            "\n"
          ]
        },
        {
          "output_type": "stream",
          "name": "stderr",
          "text": [
            "\r 12%|█▏        | 115/1000 [04:56<38:15,  2.59s/it]"
          ]
        },
        {
          "output_type": "stream",
          "name": "stdout",
          "text": [
            "\n",
            "\n",
            "Question: Name the team for ricky rudd\n",
            "\n",
            "Real Answer: SELECT team FROM table_2150776_1 WHERE driver = \"Ricky Rudd\"\n",
            "Generated Answer: SELECT team FROM table_2150776_1 WHERE driver = \"Ricky Rudd\"\n",
            "\n",
            "\n",
            "Similarity Score: 1.0\n",
            "Feedback: ('approve', 'SELECT team FROM table_2150776_1 WHERE driver = \"Ricky Rudd\"')\n",
            "\n",
            "\n",
            "Success!\n",
            "Success Answer: SELECT team FROM table_2150776_1 WHERE driver = \"Ricky Rudd\"\n",
            "\n",
            "\n"
          ]
        },
        {
          "output_type": "stream",
          "name": "stderr",
          "text": [
            "\r 12%|█▏        | 116/1000 [04:58<37:54,  2.57s/it]"
          ]
        },
        {
          "output_type": "stream",
          "name": "stdout",
          "text": [
            "\n",
            "\n",
            "Question: What is the company from Greece with author Aeschylus?\n",
            "\n",
            "Real Answer: SELECT company FROM table_name_45 WHERE country = \"greece\" AND author = \"aeschylus\"\n",
            "Generated Answer: SELECT company FROM table_name_45 WHERE country = \"greece\" AND author = \"aeschylus\"\n",
            "\n",
            "\n",
            "Similarity Score: 1.0000001\n",
            "Feedback: ('approve', 'SELECT company FROM table_name_45 WHERE country = \"greece\" AND author = \"aeschylus\"')\n",
            "\n",
            "\n",
            "Success!\n",
            "Success Answer: SELECT company FROM table_name_45 WHERE country = \"greece\" AND author = \"aeschylus\"\n",
            "\n",
            "\n"
          ]
        },
        {
          "output_type": "stream",
          "name": "stderr",
          "text": [
            "\r 12%|█▏        | 117/1000 [05:01<37:55,  2.58s/it]"
          ]
        },
        {
          "output_type": "stream",
          "name": "stdout",
          "text": [
            "\n",
            "\n",
            "Question: Class of 500cc, and a Wins smaller than 0 had what average year?\n",
            "\n",
            "Real Answer: SELECT AVG(year) FROM table_name_75 WHERE class = \"500cc\" AND wins < 0\n",
            "Generated Answer: SELECT AVG(year) FROM table_name_75 WHERE class = \"500cc\" AND wins < 0\n",
            "\n",
            "\n",
            "Similarity Score: 1.0\n",
            "Feedback: ('approve', 'SELECT AVG(year) FROM table_name_75 WHERE class = \"500cc\" AND wins < 0')\n",
            "\n",
            "\n",
            "Success!\n",
            "Success Answer: SELECT AVG(year) FROM table_name_75 WHERE class = \"500cc\" AND wins < 0\n",
            "\n",
            "\n"
          ]
        },
        {
          "output_type": "stream",
          "name": "stderr",
          "text": [
            "\r 12%|█▏        | 118/1000 [05:03<36:27,  2.48s/it]"
          ]
        },
        {
          "output_type": "stream",
          "name": "stdout",
          "text": [
            "\n",
            "\n",
            "Question: What was the location when the opposition was East Coast?\n",
            "\n",
            "Real Answer: SELECT location FROM table_26847237_1 WHERE opposition = \"East Coast\"\n",
            "Generated Answer: SELECT location FROM table_26847237_1 WHERE opposition = \"East Coast\"\n",
            "\n",
            "\n",
            "Similarity Score: 0.99999976\n",
            "Feedback: ('approve', 'SELECT location FROM table_26847237_1 WHERE opposition = \"East Coast\"')\n",
            "\n",
            "\n",
            "Success!\n",
            "Success Answer: SELECT location FROM table_26847237_1 WHERE opposition = \"East Coast\"\n",
            "\n",
            "\n"
          ]
        },
        {
          "output_type": "stream",
          "name": "stderr",
          "text": [
            "\r 12%|█▏        | 119/1000 [05:07<42:00,  2.86s/it]"
          ]
        },
        {
          "output_type": "stream",
          "name": "stdout",
          "text": [
            "\n",
            "\n",
            "Question: How many Byes have Wins smaller than 11, and a Wimmera FL of minyip murtoa, and Losses smaller than 6?\n",
            "\n",
            "Real Answer: SELECT COUNT(byes) FROM table_name_12 WHERE wins < 11 AND wimmera_fl = \"minyip murtoa\" AND losses < 6\n",
            "Generated Answer: SELECT COUNT(byes) FROM table_name_12 WHERE wins < 11 AND wimmera_fl = \"minyip murtoa\" AND losses < 6\n",
            "\n",
            "\n",
            "Similarity Score: 0.9999999\n",
            "Feedback: ('approve', 'SELECT COUNT(byes) FROM table_name_12 WHERE wins < 11 AND wimmera_fl = \"minyip murtoa\" AND losses < 6')\n",
            "\n",
            "\n",
            "Success!\n",
            "Success Answer: SELECT COUNT(byes) FROM table_name_12 WHERE wins < 11 AND wimmera_fl = \"minyip murtoa\" AND losses < 6\n",
            "\n",
            "\n"
          ]
        },
        {
          "output_type": "stream",
          "name": "stderr",
          "text": [
            "\r 12%|█▏        | 120/1000 [05:10<41:52,  2.86s/it]"
          ]
        },
        {
          "output_type": "stream",
          "name": "stdout",
          "text": [
            "\n",
            "\n",
            "Question: How many doses for the bacillus calmette-guérin?\n",
            "\n",
            "Real Answer: SELECT number_of_doses FROM table_name_13 WHERE vaccine = \"bacillus calmette-guérin\"\n",
            "Generated Answer: SELECT number_of_doses FROM table_name_13 WHERE vaccine = \"bacillus calmette-guérin\"\n",
            "\n",
            "\n",
            "Similarity Score: 0.99999976\n",
            "Feedback: ('approve', 'SELECT number_of_doses FROM table_name_13 WHERE vaccine = \"bacillus calmette-guérin\"')\n",
            "\n",
            "\n",
            "Success!\n",
            "Success Answer: SELECT number_of_doses FROM table_name_13 WHERE vaccine = \"bacillus calmette-guérin\"\n",
            "\n",
            "\n"
          ]
        },
        {
          "output_type": "stream",
          "name": "stderr",
          "text": [
            "\r 12%|█▏        | 121/1000 [05:13<43:03,  2.94s/it]"
          ]
        },
        {
          "output_type": "stream",
          "name": "stdout",
          "text": [
            "\n",
            "\n",
            "Question: For engines of Maserati Straight-6 and entrants of H H Gould, what is the latest year?\n",
            "\n",
            "Real Answer: SELECT MAX(year) FROM table_name_14 WHERE engine = \"maserati straight-6\" AND entrant = \"h h gould\"\n",
            "Generated Answer: SELECT MAX(year) FROM table_name_14 WHERE engine = \"maserati straight-6\" AND entrant = \"h h gould\"\n",
            "\n",
            "\n",
            "Similarity Score: 1.0\n",
            "Feedback: ('approve', 'SELECT MAX(year) FROM table_name_14 WHERE engine = \"maserati straight-6\" AND entrant = \"h h gould\"')\n",
            "\n",
            "\n",
            "Success!\n",
            "Success Answer: SELECT MAX(year) FROM table_name_14 WHERE engine = \"maserati straight-6\" AND entrant = \"h h gould\"\n",
            "\n",
            "\n"
          ]
        },
        {
          "output_type": "stream",
          "name": "stderr",
          "text": [
            "\r 12%|█▏        | 122/1000 [05:16<42:56,  2.93s/it]"
          ]
        },
        {
          "output_type": "stream",
          "name": "stdout",
          "text": [
            "\n",
            "\n",
            "Question: What is the total population of the district of Klang, with an area larger than 636?\n",
            "\n",
            "Real Answer: SELECT COUNT(2010 AS _population) FROM table_name_23 WHERE district = \"klang\" AND area__km_2__ > 636\n",
            "Generated Answer: SELECT COUNT(*) FROM table_name_23 WHERE district = \"klang\" AND area__km_2__ > 636\n",
            "\n",
            "\n",
            "Similarity Score: 0.9176509\n",
            "Feedback: ('approve', 'SELECT COUNT(*) FROM table_name_23 WHERE district = \"klang\" AND area__km_2__ > 636')\n",
            "\n",
            "\n",
            "Real Answer: SELECT COUNT(2010 AS _population) FROM table_name_23 WHERE district = \"klang\" AND area__km_2__ > 636\n",
            "Failed Answer: SELECT COUNT(*) FROM table_name_23 WHERE district = \"klang\" AND area__km_2__ > 636\n",
            "\n",
            "\n"
          ]
        },
        {
          "output_type": "stream",
          "name": "stderr",
          "text": [
            "\r 12%|█▏        | 123/1000 [05:19<44:26,  3.04s/it]"
          ]
        },
        {
          "output_type": "stream",
          "name": "stdout",
          "text": [
            "\n",
            "\n",
            "Question: What Championship has a Score in the final of 2–6, 6–2, 7–5?\n",
            "\n",
            "Real Answer: SELECT championship FROM table_name_16 WHERE score_in_the_final = \"2–6, 6–2, 7–5\"\n",
            "Generated Answer: SELECT championship FROM table_name_16 WHERE score_in_the_final = \"2–6, 6–2, 7–5\"\n",
            "\n",
            "\n",
            "Similarity Score: 1.0\n",
            "Feedback: ('approve', 'SELECT championship FROM table_name_16 WHERE score_in_the_final = \"2–6, 6–2, 7–5\"')\n",
            "\n",
            "\n",
            "Success!\n",
            "Success Answer: SELECT championship FROM table_name_16 WHERE score_in_the_final = \"2–6, 6–2, 7–5\"\n",
            "\n",
            "\n"
          ]
        },
        {
          "output_type": "stream",
          "name": "stderr",
          "text": [
            "\r 12%|█▏        | 124/1000 [05:21<42:15,  2.89s/it]"
          ]
        },
        {
          "output_type": "stream",
          "name": "stdout",
          "text": [
            "\n",
            "\n",
            "Question: Name the total number of pitcher for 9 overall rank\n",
            "\n",
            "Real Answer: SELECT COUNT(pitcher) FROM table_242813_2 WHERE overall_rank = 9\n",
            "Generated Answer: SELECT COUNT(pitcher) FROM table_242813_2 WHERE overall_rank = 9\n",
            "\n",
            "\n",
            "Similarity Score: 1.0\n",
            "Feedback: ('approve', 'SELECT COUNT(pitcher) FROM table_242813_2 WHERE overall_rank = 9')\n",
            "\n",
            "\n",
            "Success!\n",
            "Success Answer: SELECT COUNT(pitcher) FROM table_242813_2 WHERE overall_rank = 9\n",
            "\n",
            "\n"
          ]
        },
        {
          "output_type": "stream",
          "name": "stderr",
          "text": [
            "\r 12%|█▎        | 125/1000 [05:23<37:56,  2.60s/it]"
          ]
        },
        {
          "output_type": "stream",
          "name": "stdout",
          "text": [
            "\n",
            "\n",
            "Question: Who is the July playmate with a December playmate Morgan Fox?\n",
            "\n",
            "Real Answer: SELECT july FROM table_name_58 WHERE december = \"morgan fox\"\n",
            "Generated Answer: SELECT july FROM table_name_58 WHERE december = \"morgan fox\"\n",
            "\n",
            "\n",
            "Similarity Score: 1.0000001\n",
            "Feedback: ('approve', 'SELECT july FROM table_name_58 WHERE december = \"morgan fox\"')\n",
            "\n",
            "\n",
            "Success!\n",
            "Success Answer: SELECT july FROM table_name_58 WHERE december = \"morgan fox\"\n",
            "\n",
            "\n"
          ]
        },
        {
          "output_type": "stream",
          "name": "stderr",
          "text": [
            "\r 13%|█▎        | 126/1000 [05:26<39:06,  2.68s/it]"
          ]
        },
        {
          "output_type": "stream",
          "name": "stdout",
          "text": [
            "\n",
            "\n",
            "Question: Which Player has a Score of 72-69-73=214?\n",
            "\n",
            "Real Answer: SELECT player FROM table_name_71 WHERE score = 72 - 69 - 73 = 214\n",
            "Generated Answer: SELECT player FROM table_name_71 WHERE score = 72 - 69 - 73 = 214\n",
            "\n",
            "\n",
            "Similarity Score: 0.9999999\n",
            "Feedback: ('approve', 'SELECT player FROM table_name_71 WHERE score = 72 - 69 - 73 = 214')\n",
            "\n",
            "\n",
            "Success!\n",
            "Success Answer: SELECT player FROM table_name_71 WHERE score = 72 - 69 - 73 = 214\n",
            "\n",
            "\n"
          ]
        },
        {
          "output_type": "stream",
          "name": "stderr",
          "text": [
            "\r 13%|█▎        | 127/1000 [05:28<34:40,  2.38s/it]"
          ]
        },
        {
          "output_type": "stream",
          "name": "stdout",
          "text": [
            "\n",
            "\n",
            "Question: What is week 15's result?\n",
            "\n",
            "Real Answer: SELECT result FROM table_name_24 WHERE week = 15\n",
            "Generated Answer: SELECT result FROM table_name_24 WHERE week = \"15\"\n",
            "\n",
            "\n",
            "Similarity Score: 0.9927647\n",
            "Feedback: ('approve', 'SELECT result FROM table_name_24 WHERE week = \"15\"')\n",
            "\n",
            "\n",
            "Real Answer: SELECT result FROM table_name_24 WHERE week = 15\n",
            "Failed Answer: SELECT result FROM table_name_24 WHERE week = \"15\"\n",
            "\n",
            "\n"
          ]
        },
        {
          "output_type": "stream",
          "name": "stderr",
          "text": [
            "\r 13%|█▎        | 128/1000 [05:30<35:10,  2.42s/it]"
          ]
        },
        {
          "output_type": "stream",
          "name": "stdout",
          "text": [
            "\n",
            "\n",
            "Question: Name the least game for 8-3\n",
            "\n",
            "Real Answer: SELECT MIN(game) FROM table_18894744_5 WHERE record = \"8-3\"\n",
            "Generated Answer: SELECT MIN(game) FROM table_18894744_5 WHERE record = \"8-3\"\n",
            "\n",
            "\n",
            "Similarity Score: 0.9999999\n",
            "Feedback: ('approve', 'SELECT MIN(game) FROM table_18894744_5 WHERE record = \"8-3\"')\n",
            "\n",
            "\n",
            "Success!\n",
            "Success Answer: SELECT MIN(game) FROM table_18894744_5 WHERE record = \"8-3\"\n",
            "\n",
            "\n"
          ]
        },
        {
          "output_type": "stream",
          "name": "stderr",
          "text": [
            "\r 13%|█▎        | 129/1000 [05:33<38:05,  2.62s/it]"
          ]
        },
        {
          "output_type": "stream",
          "name": "stdout",
          "text": [
            "\n",
            "\n",
            "Question: Who won the mens doubles when wang hao won the mens singles?\n",
            "\n",
            "Real Answer: SELECT mens_doubles FROM table_28138035_26 WHERE mens_singles = \"Wang Hao\"\n",
            "Generated Answer: SELECT mens_doubles FROM table_28138035_26 WHERE mens_singles = \"Wang Hao\"\n",
            "\n",
            "\n",
            "Similarity Score: 1.0000002\n",
            "Feedback: ('approve', 'SELECT mens_doubles FROM table_28138035_26 WHERE mens_singles = \"Wang Hao\"')\n",
            "\n",
            "\n",
            "Success!\n",
            "Success Answer: SELECT mens_doubles FROM table_28138035_26 WHERE mens_singles = \"Wang Hao\"\n",
            "\n",
            "\n"
          ]
        },
        {
          "output_type": "stream",
          "name": "stderr",
          "text": [
            "\r 13%|█▎        | 130/1000 [05:35<35:10,  2.43s/it]"
          ]
        },
        {
          "output_type": "stream",
          "name": "stdout",
          "text": [
            "\n",
            "\n",
            "Question: How many medals did China receive?\n",
            "\n",
            "Real Answer: SELECT MIN(total) FROM table_name_87 WHERE nation = \"china\"\n",
            "Generated Answer: SELECT SUM(total) FROM table_name_87 WHERE nation = \"china\"\n",
            "\n",
            "\n",
            "Similarity Score: 0.768597\n",
            "Feedback: ('correct', 'SELECT MIN(total) FROM table_name_87 WHERE nation = \"china\"')\n",
            "\n",
            "\n",
            "Real Answer: SELECT MIN(total) FROM table_name_87 WHERE nation = \"china\"\n",
            "Failed Answer: SELECT SUM(total) FROM table_name_87 WHERE nation = \"china\"\n",
            "\n",
            "\n"
          ]
        },
        {
          "output_type": "stream",
          "name": "stderr",
          "text": [
            "\r 13%|█▎        | 131/1000 [05:39<38:22,  2.65s/it]"
          ]
        },
        {
          "output_type": "stream",
          "name": "stdout",
          "text": [
            "\n",
            "\n",
            "Question: What is the largest average for the episode with 1.97 million Hong Kong viewers?\n",
            "\n",
            "Real Answer: SELECT MAX(average) FROM table_24856090_1 WHERE hk_viewers = \"1.97 million\"\n",
            "Generated Answer: SELECT MAX(average) FROM table_24856090_1 WHERE hk_viewers = \"1.97 million\"\n",
            "\n",
            "\n",
            "Similarity Score: 1.0\n",
            "Feedback: ('approve', 'SELECT MAX(average) FROM table_24856090_1 WHERE hk_viewers = \"1.97 million\"')\n",
            "\n",
            "\n",
            "Success!\n",
            "Success Answer: SELECT MAX(average) FROM table_24856090_1 WHERE hk_viewers = \"1.97 million\"\n",
            "\n",
            "\n"
          ]
        },
        {
          "output_type": "stream",
          "name": "stderr",
          "text": [
            "\r 13%|█▎        | 132/1000 [05:40<34:32,  2.39s/it]"
          ]
        },
        {
          "output_type": "stream",
          "name": "stdout",
          "text": [
            "\n",
            "\n",
            "Question: What is the High points with a Game that is 56?\n",
            "\n",
            "Real Answer: SELECT high_points FROM table_name_31 WHERE game = 56\n",
            "Generated Answer: SELECT high_points FROM table_name_31 WHERE game = \"56\"\n",
            "\n",
            "\n",
            "Similarity Score: 0.9892284\n",
            "Feedback: ('approve', 'SELECT high_points FROM table_name_31 WHERE game = \"56\"')\n",
            "\n",
            "\n",
            "Real Answer: SELECT high_points FROM table_name_31 WHERE game = 56\n",
            "Failed Answer: SELECT high_points FROM table_name_31 WHERE game = \"56\"\n",
            "\n",
            "\n"
          ]
        },
        {
          "output_type": "stream",
          "name": "stderr",
          "text": [
            "\r 13%|█▎        | 133/1000 [05:43<36:46,  2.55s/it]"
          ]
        },
        {
          "output_type": "stream",
          "name": "stdout",
          "text": [
            "\n",
            "\n",
            "Question: What is the Onehunga school with a decile 3 and smaller than 310 rolls?\n",
            "\n",
            "Real Answer: SELECT name FROM table_name_17 WHERE decile = \"3\" AND roll < 310 AND area = \"onehunga\"\n",
            "Generated Answer: SELECT name FROM table_name_17 WHERE decile = \"3\" AND roll < 310 AND area = \"onehunga\"\n",
            "\n",
            "\n",
            "Similarity Score: 0.99999994\n",
            "Feedback: ('approve', 'SELECT name FROM table_name_17 WHERE decile = \"3\" AND roll < 310 AND area = \"onehunga\"')\n",
            "\n",
            "\n",
            "Success!\n",
            "Success Answer: SELECT name FROM table_name_17 WHERE decile = \"3\" AND roll < 310 AND area = \"onehunga\"\n",
            "\n",
            "\n"
          ]
        },
        {
          "output_type": "stream",
          "name": "stderr",
          "text": [
            "\r 13%|█▎        | 134/1000 [05:45<34:48,  2.41s/it]"
          ]
        },
        {
          "output_type": "stream",
          "name": "stdout",
          "text": [
            "\n",
            "\n",
            "Question: What's the value for race 4 for driver kevin heffernan?\n",
            "\n",
            "Real Answer: SELECT race_4 FROM table_name_61 WHERE driver = \"kevin heffernan\"\n",
            "Generated Answer: SELECT race_4 FROM table_name_61 WHERE driver = \"kevin heffernan\"\n",
            "\n",
            "\n",
            "Similarity Score: 0.99999994\n",
            "Feedback: ('approve', 'SELECT race_4 FROM table_name_61 WHERE driver = \"kevin heffernan\"')\n",
            "\n",
            "\n",
            "Success!\n",
            "Success Answer: SELECT race_4 FROM table_name_61 WHERE driver = \"kevin heffernan\"\n",
            "\n",
            "\n"
          ]
        },
        {
          "output_type": "stream",
          "name": "stderr",
          "text": [
            "\r 14%|█▎        | 135/1000 [05:49<38:53,  2.70s/it]"
          ]
        },
        {
          "output_type": "stream",
          "name": "stdout",
          "text": [
            "\n",
            "\n",
            "Question: Which Perth's gold coast and Adelaide were yes when Auckland was no?\n",
            "\n",
            "Real Answer: SELECT perth FROM table_name_51 WHERE gold_coast = \"yes\" AND adelaide = \"yes\" AND auckland = \"no\"\n",
            "Generated Answer: SELECT perth FROM table_name_51 WHERE gold_coast = \"yes\" AND adelaide = \"yes\" AND auckland = \"no\"\n",
            "\n",
            "\n",
            "Similarity Score: 0.9999999\n",
            "Feedback: ('approve', 'SELECT perth FROM table_name_51 WHERE gold_coast = \"yes\" AND adelaide = \"yes\" AND auckland = \"no\"')\n",
            "\n",
            "\n",
            "Success!\n",
            "Success Answer: SELECT perth FROM table_name_51 WHERE gold_coast = \"yes\" AND adelaide = \"yes\" AND auckland = \"no\"\n",
            "\n",
            "\n"
          ]
        },
        {
          "output_type": "stream",
          "name": "stderr",
          "text": [
            "\r 14%|█▎        | 136/1000 [05:51<37:19,  2.59s/it]"
          ]
        },
        {
          "output_type": "stream",
          "name": "stdout",
          "text": [
            "\n",
            "\n",
            "Question: What party did the incumbent of the Arkansas 6 district belong to? \n",
            "\n",
            "Real Answer: SELECT party FROM table_1342249_5 WHERE district = \"Arkansas 6\"\n",
            "Generated Answer: SELECT party FROM table_1342249_5 WHERE district = \"Arkansas 6\"\n",
            "\n",
            "\n",
            "Similarity Score: 1.0\n",
            "Feedback: ('approve', 'SELECT party FROM table_1342249_5 WHERE district = \"Arkansas 6\"')\n",
            "\n",
            "\n",
            "Success!\n",
            "Success Answer: SELECT party FROM table_1342249_5 WHERE district = \"Arkansas 6\"\n",
            "\n",
            "\n"
          ]
        },
        {
          "output_type": "stream",
          "name": "stderr",
          "text": [
            "\r 14%|█▎        | 137/1000 [05:54<38:36,  2.68s/it]"
          ]
        },
        {
          "output_type": "stream",
          "name": "stdout",
          "text": [
            "\n",
            "\n",
            "Question: how many video out connections does the sounddock portable have?\n",
            "\n",
            "Real Answer: SELECT COUNT(video_out) FROM table_24384861_1 WHERE version = \"SoundDock Portable\"\n",
            "Generated Answer: SELECT COUNT(video_out) FROM table_24384861_1 WHERE version = \"SoundDock Portable\"\n",
            "\n",
            "\n",
            "Similarity Score: 1.0000004\n",
            "Feedback: ('approve', 'SELECT COUNT(video_out) FROM table_24384861_1 WHERE version = \"SoundDock Portable\"')\n",
            "\n",
            "\n",
            "Success!\n",
            "Success Answer: SELECT COUNT(video_out) FROM table_24384861_1 WHERE version = \"SoundDock Portable\"\n",
            "\n",
            "\n"
          ]
        },
        {
          "output_type": "stream",
          "name": "stderr",
          "text": [
            "\r 14%|█▍        | 138/1000 [05:57<37:54,  2.64s/it]"
          ]
        },
        {
          "output_type": "stream",
          "name": "stdout",
          "text": [
            "\n",
            "\n",
            "Question: What position has a time over 38.61 at the gothenburg venue?\n",
            "\n",
            "Real Answer: SELECT position FROM table_name_96 WHERE time > 38.61 AND venue = \"gothenburg\"\n",
            "Generated Answer: SELECT position FROM table_name_96 WHERE time > 38.61 AND venue = \"gothenburg\"\n",
            "\n",
            "\n",
            "Similarity Score: 1.0\n",
            "Feedback: ('approve', 'SELECT position FROM table_name_96 WHERE time > 38.61 AND venue = \"gothenburg\"')\n",
            "\n",
            "\n",
            "Success!\n",
            "Success Answer: SELECT position FROM table_name_96 WHERE time > 38.61 AND venue = \"gothenburg\"\n",
            "\n",
            "\n"
          ]
        },
        {
          "output_type": "stream",
          "name": "stderr",
          "text": [
            "\r 14%|█▍        | 139/1000 [05:59<35:25,  2.47s/it]"
          ]
        },
        {
          "output_type": "stream",
          "name": "stdout",
          "text": [
            "\n",
            "\n",
            "Question: What is footscray's away team score?\n",
            "\n",
            "Real Answer: SELECT away_team AS score FROM table_name_66 WHERE home_team = \"footscray\"\n",
            "Generated Answer: SELECT away_team FROM table_name_66 WHERE home_team = \"footscray\"\n",
            "\n",
            "\n",
            "Similarity Score: 0.9119864\n",
            "Feedback: ('approve', 'SELECT away_team FROM table_name_66 WHERE home_team = \"footscray\"')\n",
            "\n",
            "\n",
            "Real Answer: SELECT away_team AS score FROM table_name_66 WHERE home_team = \"footscray\"\n",
            "Failed Answer: SELECT away_team FROM table_name_66 WHERE home_team = \"footscray\"\n",
            "\n",
            "\n"
          ]
        },
        {
          "output_type": "stream",
          "name": "stderr",
          "text": [
            "\r 14%|█▍        | 140/1000 [06:01<33:52,  2.36s/it]"
          ]
        },
        {
          "output_type": "stream",
          "name": "stdout",
          "text": [
            "\n",
            "\n",
            "Question: Which position has an Overall smaller than 64, and a Round of 1?\n",
            "\n",
            "Real Answer: SELECT position FROM table_name_14 WHERE overall < 64 AND round = 1\n",
            "Generated Answer: SELECT position FROM table_name_14 WHERE overall < 64 AND round = 1\n",
            "\n",
            "\n",
            "Similarity Score: 1.0\n",
            "Feedback: ('approve', 'SELECT position FROM table_name_14 WHERE overall < 64 AND round = 1')\n",
            "\n",
            "\n",
            "Success!\n",
            "Success Answer: SELECT position FROM table_name_14 WHERE overall < 64 AND round = 1\n",
            "\n",
            "\n"
          ]
        },
        {
          "output_type": "stream",
          "name": "stderr",
          "text": [
            "\r 14%|█▍        | 141/1000 [06:02<31:04,  2.17s/it]"
          ]
        },
        {
          "output_type": "stream",
          "name": "stdout",
          "text": [
            "\n",
            "\n",
            "Question: With a score of 2-2, what was the Result?\n",
            "\n",
            "Real Answer: SELECT result FROM table_name_30 WHERE score = \"2-2\"\n",
            "Generated Answer: SELECT result FROM table_name_30 WHERE score = \"2-2\"\n",
            "\n",
            "\n",
            "Similarity Score: 1.0\n",
            "Feedback: ('approve', 'SELECT result FROM table_name_30 WHERE score = \"2-2\"')\n",
            "\n",
            "\n",
            "Success!\n",
            "Success Answer: SELECT result FROM table_name_30 WHERE score = \"2-2\"\n",
            "\n",
            "\n"
          ]
        },
        {
          "output_type": "stream",
          "name": "stderr",
          "text": [
            "\r 14%|█▍        | 142/1000 [06:08<46:47,  3.27s/it]"
          ]
        },
        {
          "output_type": "stream",
          "name": "stdout",
          "text": [
            "\n",
            "\n",
            "Question: Give me a list of cities whose temperature in Mar is lower than that in Dec and which have never been host cities.\n",
            "\n",
            "Real Answer: SELECT T1.city FROM city AS T1 JOIN temperature AS T2 ON T1.city_id = T2.city_id WHERE T2.Mar < T2.Dec EXCEPT SELECT T3.city FROM city AS T3 JOIN hosting_city AS T4 ON T3.city_id = T4.host_city\n",
            "Generated Answer: SELECT T1.city FROM city AS T1 JOIN hosting_city AS T2 ON T1.city_id = T2.host_city JOIN temperature AS T3 ON T1.city_id = T3.city_id WHERE T3.Mar < T3.Dec\n",
            "\n",
            "\n",
            "Similarity Score: 0.923764\n",
            "Feedback: ('approve', 'SELECT T1.city FROM city AS T1 JOIN hosting_city AS T2 ON T1.city_id = T2.host_city JOIN temperature AS T3 ON T1.city_id = T3.city_id WHERE T3.Mar < T3.Dec')\n",
            "\n",
            "\n",
            "Real Answer: SELECT T1.city FROM city AS T1 JOIN temperature AS T2 ON T1.city_id = T2.city_id WHERE T2.Mar < T2.Dec EXCEPT SELECT T3.city FROM city AS T3 JOIN hosting_city AS T4 ON T3.city_id = T4.host_city\n",
            "Failed Answer: SELECT T1.city FROM city AS T1 JOIN hosting_city AS T2 ON T1.city_id = T2.host_city JOIN temperature AS T3 ON T1.city_id = T3.city_id WHERE T3.Mar < T3.Dec\n",
            "\n",
            "\n"
          ]
        },
        {
          "output_type": "stream",
          "name": "stderr",
          "text": [
            "\r 14%|█▍        | 143/1000 [06:11<43:44,  3.06s/it]"
          ]
        },
        {
          "output_type": "stream",
          "name": "stdout",
          "text": [
            "\n",
            "\n",
            "Question: Who's the Republican ticket with a Socialist ticket of edna mitchell blue?\n",
            "\n",
            "Real Answer: SELECT republican_ticket FROM table_name_46 WHERE socialist_ticket = \"edna mitchell blue\"\n",
            "Generated Answer: SELECT republican_ticket FROM table_name_46 WHERE socialist_ticket = \"edna mitchell blue\"\n",
            "\n",
            "\n",
            "Similarity Score: 1.0\n",
            "Feedback: ('approve', 'SELECT republican_ticket FROM table_name_46 WHERE socialist_ticket = \"edna mitchell blue\"')\n",
            "\n",
            "\n",
            "Success!\n",
            "Success Answer: SELECT republican_ticket FROM table_name_46 WHERE socialist_ticket = \"edna mitchell blue\"\n",
            "\n",
            "\n"
          ]
        },
        {
          "output_type": "stream",
          "name": "stderr",
          "text": [
            "\r 14%|█▍        | 144/1000 [06:13<38:31,  2.70s/it]"
          ]
        },
        {
          "output_type": "stream",
          "name": "stdout",
          "text": [
            "\n",
            "\n",
            "Question: What team was the player that received a penalty at time 32:17 playing for?\n",
            "\n",
            "Real Answer: SELECT team FROM table_name_13 WHERE time = \"32:17\"\n",
            "Generated Answer: SELECT team FROM table_name_13 WHERE time = \"32:17\"\n",
            "\n",
            "\n",
            "Similarity Score: 0.9999999\n",
            "Feedback: ('approve', 'SELECT team FROM table_name_13 WHERE time = \"32:17\"')\n",
            "\n",
            "\n",
            "Success!\n",
            "Success Answer: SELECT team FROM table_name_13 WHERE time = \"32:17\"\n",
            "\n",
            "\n"
          ]
        },
        {
          "output_type": "stream",
          "name": "stderr",
          "text": [
            "\r 14%|█▍        | 145/1000 [06:15<35:17,  2.48s/it]"
          ]
        },
        {
          "output_type": "stream",
          "name": "stdout",
          "text": [
            "\n",
            "\n",
            "Question: Who was the celebrity who exited on day 13?\n",
            "\n",
            "Real Answer: SELECT celebrity FROM table_name_35 WHERE exited = \"day 13\"\n",
            "Generated Answer: SELECT celebrity FROM table_name_35 WHERE exited = \"day 13\"\n",
            "\n",
            "\n",
            "Similarity Score: 0.9999999\n",
            "Feedback: ('approve', 'SELECT celebrity FROM table_name_35 WHERE exited = \"day 13\"')\n",
            "\n",
            "\n",
            "Success!\n",
            "Success Answer: SELECT celebrity FROM table_name_35 WHERE exited = \"day 13\"\n",
            "\n",
            "\n"
          ]
        },
        {
          "output_type": "stream",
          "name": "stderr",
          "text": [
            "\r 15%|█▍        | 146/1000 [06:17<35:15,  2.48s/it]"
          ]
        },
        {
          "output_type": "stream",
          "name": "stdout",
          "text": [
            "\n",
            "\n",
            "Question: What is the Score of Golden Point(s) scorer Adam Reynolds?\n",
            "\n",
            "Real Answer: SELECT score FROM table_name_29 WHERE golden_point_s__scorer = \"adam reynolds\"\n",
            "Generated Answer: SELECT score FROM table_name_29 WHERE golden_point_s__scorer = \"adam reynolds\"\n",
            "\n",
            "\n",
            "Similarity Score: 0.99999994\n",
            "Feedback: ('approve', 'SELECT score FROM table_name_29 WHERE golden_point_s__scorer = \"adam reynolds\"')\n",
            "\n",
            "\n",
            "Success!\n",
            "Success Answer: SELECT score FROM table_name_29 WHERE golden_point_s__scorer = \"adam reynolds\"\n",
            "\n",
            "\n"
          ]
        },
        {
          "output_type": "stream",
          "name": "stderr",
          "text": [
            "\r 15%|█▍        | 147/1000 [06:21<38:59,  2.74s/it]"
          ]
        },
        {
          "output_type": "stream",
          "name": "stdout",
          "text": [
            "\n",
            "\n",
            "Question: What is Set 4, when Set 1 is 19-25, and when Set 2 is 23-25?\n",
            "\n",
            "Real Answer: SELECT set_4 FROM table_name_33 WHERE set_1 = \"19-25\" AND set_2 = \"23-25\"\n",
            "Generated Answer: SELECT set_4 FROM table_name_33 WHERE set_1 = \"19-25\" AND set_2 = \"23-25\"\n",
            "\n",
            "\n",
            "Similarity Score: 0.99999994\n",
            "Feedback: ('approve', 'SELECT set_4 FROM table_name_33 WHERE set_1 = \"19-25\" AND set_2 = \"23-25\"')\n",
            "\n",
            "\n",
            "Success!\n",
            "Success Answer: SELECT set_4 FROM table_name_33 WHERE set_1 = \"19-25\" AND set_2 = \"23-25\"\n",
            "\n",
            "\n"
          ]
        },
        {
          "output_type": "stream",
          "name": "stderr",
          "text": [
            "\r 15%|█▍        | 148/1000 [06:23<38:52,  2.74s/it]"
          ]
        },
        {
          "output_type": "stream",
          "name": "stdout",
          "text": [
            "\n",
            "\n",
            "Question: Name the MAZADA for El Samurai of mazada (16:22)\n",
            "\n",
            "Real Answer: SELECT mazada FROM table_name_67 WHERE el_samurai = \"mazada (16:22)\"\n",
            "Generated Answer: SELECT mazada FROM table_name_67 WHERE el_samurai = \"mazada (16:22)\"\n",
            "\n",
            "\n",
            "Similarity Score: 0.9999999\n",
            "Feedback: ('approve', 'SELECT mazada FROM table_name_67 WHERE el_samurai = \"mazada (16:22)\"')\n",
            "\n",
            "\n",
            "Success!\n",
            "Success Answer: SELECT mazada FROM table_name_67 WHERE el_samurai = \"mazada (16:22)\"\n",
            "\n",
            "\n"
          ]
        },
        {
          "output_type": "stream",
          "name": "stderr",
          "text": [
            "\r 15%|█▍        | 149/1000 [06:26<37:36,  2.65s/it]"
          ]
        },
        {
          "output_type": "stream",
          "name": "stdout",
          "text": [
            "\n",
            "\n",
            "Question: Margot Kidder had what director?\n",
            "\n",
            "Real Answer: SELECT director FROM table_11642945_1 WHERE celebrity = \"Margot Kidder\"\n",
            "Generated Answer: SELECT director FROM table_11642945_1 WHERE celebrity = \"Margot Kidder\"\n",
            "\n",
            "\n",
            "Similarity Score: 1.0\n",
            "Feedback: ('approve', 'SELECT director FROM table_11642945_1 WHERE celebrity = \"Margot Kidder\"')\n",
            "\n",
            "\n",
            "Success!\n",
            "Success Answer: SELECT director FROM table_11642945_1 WHERE celebrity = \"Margot Kidder\"\n",
            "\n",
            "\n"
          ]
        },
        {
          "output_type": "stream",
          "name": "stderr",
          "text": [
            "\r 15%|█▌        | 150/1000 [06:27<33:52,  2.39s/it]"
          ]
        },
        {
          "output_type": "stream",
          "name": "stdout",
          "text": [
            "\n",
            "\n",
            "Question: Who is the opponent of player phil graham?\n",
            "\n",
            "Real Answer: SELECT opponent FROM table_name_72 WHERE player = \"phil graham\"\n",
            "Generated Answer: SELECT opponent FROM table_name_72 WHERE player = \"phil graham\"\n",
            "\n",
            "\n",
            "Similarity Score: 1.0000001\n",
            "Feedback: ('approve', 'SELECT opponent FROM table_name_72 WHERE player = \"phil graham\"')\n",
            "\n",
            "\n",
            "Success!\n",
            "Success Answer: SELECT opponent FROM table_name_72 WHERE player = \"phil graham\"\n",
            "\n",
            "\n"
          ]
        },
        {
          "output_type": "stream",
          "name": "stderr",
          "text": [
            "\r 15%|█▌        | 151/1000 [06:30<33:26,  2.36s/it]"
          ]
        },
        {
          "output_type": "stream",
          "name": "stdout",
          "text": [
            "\n",
            "\n",
            "Question: What is the time/retired associated with a grid of 5 and under 73 laps?\n",
            "\n",
            "Real Answer: SELECT time_retired FROM table_name_46 WHERE laps < 73 AND grid = 5\n",
            "Generated Answer: SELECT time_retired FROM table_name_46 WHERE laps < 73 AND grid = 5\n",
            "\n",
            "\n",
            "Similarity Score: 1.0000002\n",
            "Feedback: ('approve', 'SELECT time_retired FROM table_name_46 WHERE laps < 73 AND grid = 5')\n",
            "\n",
            "\n",
            "Success!\n",
            "Success Answer: SELECT time_retired FROM table_name_46 WHERE laps < 73 AND grid = 5\n",
            "\n",
            "\n"
          ]
        },
        {
          "output_type": "stream",
          "name": "stderr",
          "text": [
            "\r 15%|█▌        | 152/1000 [06:33<36:27,  2.58s/it]"
          ]
        },
        {
          "output_type": "stream",
          "name": "stdout",
          "text": [
            "\n",
            "\n",
            "Question: Which location is in 71 St. Joseph county with South Bend Washington school?\n",
            "\n",
            "Real Answer: SELECT location FROM table_name_97 WHERE county = \"71 st. joseph\" AND school = \"south bend washington\"\n",
            "Generated Answer: SELECT location FROM table_name_97 WHERE county = \"71 st. joseph\" AND school = \"south bend washington\"\n",
            "\n",
            "\n",
            "Similarity Score: 1.0\n",
            "Feedback: ('approve', 'SELECT location FROM table_name_97 WHERE county = \"71 st. joseph\" AND school = \"south bend washington\"')\n",
            "\n",
            "\n",
            "Success!\n",
            "Success Answer: SELECT location FROM table_name_97 WHERE county = \"71 st. joseph\" AND school = \"south bend washington\"\n",
            "\n",
            "\n"
          ]
        },
        {
          "output_type": "stream",
          "name": "stderr",
          "text": [
            "\r 15%|█▌        | 153/1000 [06:35<33:07,  2.35s/it]"
          ]
        },
        {
          "output_type": "stream",
          "name": "stdout",
          "text": [
            "\n",
            "\n",
            "Question: What is the fewest ties the team had with fewer than 7 games?\n",
            "\n",
            "Real Answer: SELECT MIN(drawn) FROM table_name_25 WHERE games < 7\n",
            "Generated Answer: SELECT MIN(drawn) FROM table_name_25 WHERE games < 7\n",
            "\n",
            "\n",
            "Similarity Score: 1.0\n",
            "Feedback: ('approve', 'SELECT MIN(drawn) FROM table_name_25 WHERE games < 7')\n",
            "\n",
            "\n",
            "Success!\n",
            "Success Answer: SELECT MIN(drawn) FROM table_name_25 WHERE games < 7\n",
            "\n",
            "\n"
          ]
        },
        {
          "output_type": "stream",
          "name": "stderr",
          "text": [
            "\r 15%|█▌        | 154/1000 [06:38<37:50,  2.68s/it]"
          ]
        },
        {
          "output_type": "stream",
          "name": "stdout",
          "text": [
            "\n",
            "\n",
            "Question: Name the most district wide for 1639 other programs\n",
            "\n",
            "Real Answer: SELECT MAX(district_wide) FROM table_2367847_2 WHERE other_programs_ & _adjustments = 1639\n",
            "Generated Answer: SELECT MAX(district_wide) FROM table_2367847_2 WHERE other_programs_ & _adjustments = 1639\n",
            "\n",
            "\n",
            "Similarity Score: 0.99999976\n",
            "Feedback: ('approve', 'SELECT MAX(district_wide) FROM table_2367847_2 WHERE other_programs_ & _adjustments = 1639')\n",
            "\n",
            "\n",
            "Success!\n",
            "Success Answer: SELECT MAX(district_wide) FROM table_2367847_2 WHERE other_programs_ & _adjustments = 1639\n",
            "\n",
            "\n"
          ]
        },
        {
          "output_type": "stream",
          "name": "stderr",
          "text": [
            "\r 16%|█▌        | 155/1000 [06:40<34:16,  2.43s/it]"
          ]
        },
        {
          "output_type": "stream",
          "name": "stdout",
          "text": [
            "\n",
            "\n",
            "Question: What Opponent played on the Date May 21?\n",
            "\n",
            "Real Answer: SELECT opponent FROM table_name_55 WHERE date = \"may 21\"\n",
            "Generated Answer: SELECT opponent FROM table_name_55 WHERE date = \"may 21\"\n",
            "\n",
            "\n",
            "Similarity Score: 0.99999994\n",
            "Feedback: ('approve', 'SELECT opponent FROM table_name_55 WHERE date = \"may 21\"')\n",
            "\n",
            "\n",
            "Success!\n",
            "Success Answer: SELECT opponent FROM table_name_55 WHERE date = \"may 21\"\n",
            "\n",
            "\n"
          ]
        },
        {
          "output_type": "stream",
          "name": "stderr",
          "text": [
            "\r 16%|█▌        | 156/1000 [06:43<35:35,  2.53s/it]"
          ]
        },
        {
          "output_type": "stream",
          "name": "stdout",
          "text": [
            "\n",
            "\n",
            "Question: What is Oriol Servia's average Grid on races with more than 43 laps?\n",
            "\n",
            "Real Answer: SELECT AVG(grid) FROM table_name_10 WHERE laps > 43 AND driver = \"oriol servia\"\n",
            "Generated Answer: SELECT AVG(grid) FROM table_name_10 WHERE laps > 43 AND driver = \"orientol servia\"\n",
            "\n",
            "\n",
            "Similarity Score: 0.9593868\n",
            "Feedback: ('approve', 'SELECT AVG(grid) FROM table_name_10 WHERE laps > 43 AND driver = \"orientol servia\"')\n",
            "\n",
            "\n",
            "Real Answer: SELECT AVG(grid) FROM table_name_10 WHERE laps > 43 AND driver = \"oriol servia\"\n",
            "Failed Answer: SELECT AVG(grid) FROM table_name_10 WHERE laps > 43 AND driver = \"orientol servia\"\n",
            "\n",
            "\n"
          ]
        },
        {
          "output_type": "stream",
          "name": "stderr",
          "text": [
            "\r 16%|█▌        | 157/1000 [06:47<42:11,  3.00s/it]"
          ]
        },
        {
          "output_type": "stream",
          "name": "stdout",
          "text": [
            "\n",
            "\n",
            "Question: what's the pts with poles being smaller than 1.0 and motorcycle being aprilia and class being 250cc\n",
            "\n",
            "Real Answer: SELECT pts FROM table_14139408_1 WHERE poles < 1.0 AND motorcycle = \"Aprilia\" AND class = \"250cc\"\n",
            "Generated Answer: SELECT COUNT(pts) FROM table_14139408_1 WHERE poles < 1.0 AND motorcycle = \"Aprilia\" AND class = \"250cc\"\n",
            "\n",
            "\n",
            "Similarity Score: 0.81847465\n",
            "Feedback: ('approve', 'SELECT COUNT(pts) FROM table_14139408_1 WHERE poles < 1.0 AND motorcycle = \"Aprilia\" AND class = \"250cc\"')\n",
            "\n",
            "\n",
            "Real Answer: SELECT pts FROM table_14139408_1 WHERE poles < 1.0 AND motorcycle = \"Aprilia\" AND class = \"250cc\"\n",
            "Failed Answer: SELECT COUNT(pts) FROM table_14139408_1 WHERE poles < 1.0 AND motorcycle = \"Aprilia\" AND class = \"250cc\"\n",
            "\n",
            "\n"
          ]
        },
        {
          "output_type": "stream",
          "name": "stderr",
          "text": [
            "\r 16%|█▌        | 158/1000 [06:49<39:08,  2.79s/it]"
          ]
        },
        {
          "output_type": "stream",
          "name": "stdout",
          "text": [
            "\n",
            "\n",
            "Question: Which color is the background of the mandatory instructions?\n",
            "\n",
            "Real Answer: SELECT background_colour FROM table_name_43 WHERE type_of_sign = \"mandatory instructions\"\n",
            "Generated Answer: SELECT background_colour FROM table_name_43 WHERE type_of_sign = \"mandatory instructions\"\n",
            "\n",
            "\n",
            "Similarity Score: 1.0\n",
            "Feedback: ('approve', 'SELECT background_colour FROM table_name_43 WHERE type_of_sign = \"mandatory instructions\"')\n",
            "\n",
            "\n",
            "Success!\n",
            "Success Answer: SELECT background_colour FROM table_name_43 WHERE type_of_sign = \"mandatory instructions\"\n",
            "\n",
            "\n"
          ]
        },
        {
          "output_type": "stream",
          "name": "stderr",
          "text": [
            "\r 16%|█▌        | 159/1000 [06:52<38:28,  2.75s/it]"
          ]
        },
        {
          "output_type": "stream",
          "name": "stdout",
          "text": [
            "\n",
            "\n",
            "Question: What is the deficit (-surplus) of France?\n",
            "\n",
            "Real Answer: SELECT deficit___surplus_ FROM table_15624586_2 WHERE country = \"France\"\n",
            "Generated Answer: SELECT deficit___surplus_ FROM table_15624586_2 WHERE country = \"France\"\n",
            "\n",
            "\n",
            "Similarity Score: 1.0\n",
            "Feedback: ('approve', 'SELECT deficit___surplus_ FROM table_15624586_2 WHERE country = \"France\"')\n",
            "\n",
            "\n",
            "Success!\n",
            "Success Answer: SELECT deficit___surplus_ FROM table_15624586_2 WHERE country = \"France\"\n",
            "\n",
            "\n"
          ]
        },
        {
          "output_type": "stream",
          "name": "stderr",
          "text": [
            "\r 16%|█▌        | 160/1000 [06:54<34:27,  2.46s/it]"
          ]
        },
        {
          "output_type": "stream",
          "name": "stdout",
          "text": [
            "\n",
            "\n",
            "Question: What is the Project Name with a Country that is opec?\n",
            "\n",
            "Real Answer: SELECT project_name FROM table_name_36 WHERE country = \"opec\"\n",
            "Generated Answer: SELECT project_name FROM table_name_36 WHERE country = \"openc\"\n",
            "\n",
            "\n",
            "Similarity Score: 0.70746964\n",
            "Feedback: ('correct', 'SELECT project_name FROM table_name_36 WHERE country = \"opec\"')\n",
            "\n",
            "\n",
            "Real Answer: SELECT project_name FROM table_name_36 WHERE country = \"opec\"\n",
            "Failed Answer: SELECT project_name FROM table_name_36 WHERE country = \"openc\"\n",
            "\n",
            "\n"
          ]
        },
        {
          "output_type": "stream",
          "name": "stderr",
          "text": [
            "\r 16%|█▌        | 161/1000 [06:55<31:58,  2.29s/it]"
          ]
        },
        {
          "output_type": "stream",
          "name": "stdout",
          "text": [
            "\n",
            "\n",
            "Question: Which Drawn has Games smaller than 7?\n",
            "\n",
            "Real Answer: SELECT SUM(drawn) FROM table_name_41 WHERE games < 7\n",
            "Generated Answer: SELECT SUM(drawn) FROM table_name_41 WHERE games < 7\n",
            "\n",
            "\n",
            "Similarity Score: 1.0000001\n",
            "Feedback: ('approve', 'SELECT SUM(drawn) FROM table_name_41 WHERE games < 7')\n",
            "\n",
            "\n",
            "Success!\n",
            "Success Answer: SELECT SUM(drawn) FROM table_name_41 WHERE games < 7\n",
            "\n",
            "\n"
          ]
        },
        {
          "output_type": "stream",
          "name": "stderr",
          "text": [
            "\r 16%|█▌        | 162/1000 [06:59<35:10,  2.52s/it]"
          ]
        },
        {
          "output_type": "stream",
          "name": "stdout",
          "text": [
            "\n",
            "\n",
            "Question: What are the original air date(s) for episodes with 8.63 million viewers?\n",
            "\n",
            "Real Answer: SELECT original_airdate FROM table_2501754_2 WHERE viewing_figures_millions = \"8.63\"\n",
            "Generated Answer: SELECT original_airdate FROM table_2501754_2 WHERE viewing_figures_millions = \"8.63\"\n",
            "\n",
            "\n",
            "Similarity Score: 1.0000002\n",
            "Feedback: ('approve', 'SELECT original_airdate FROM table_2501754_2 WHERE viewing_figures_millions = \"8.63\"')\n",
            "\n",
            "\n",
            "Success!\n",
            "Success Answer: SELECT original_airdate FROM table_2501754_2 WHERE viewing_figures_millions = \"8.63\"\n",
            "\n",
            "\n"
          ]
        },
        {
          "output_type": "stream",
          "name": "stderr",
          "text": [
            "\r 16%|█▋        | 163/1000 [07:02<39:18,  2.82s/it]"
          ]
        },
        {
          "output_type": "stream",
          "name": "stdout",
          "text": [
            "\n",
            "\n",
            "Question: Which school, club team, or country played for the rockets in the years 2000-01?\n",
            "\n",
            "Real Answer: SELECT school_club_team_country FROM table_11734041_3 WHERE years_for_rockets = \"2000-01\"\n",
            "Generated Answer: SELECT school_club_team_country FROM table_11734041_3 WHERE years_for_rockets = \"2000-01\"\n",
            "\n",
            "\n",
            "Similarity Score: 1.0\n",
            "Feedback: ('approve', 'SELECT school_club_team_country FROM table_11734041_3 WHERE years_for_rockets = \"2000-01\"')\n",
            "\n",
            "\n",
            "Success!\n",
            "Success Answer: SELECT school_club_team_country FROM table_11734041_3 WHERE years_for_rockets = \"2000-01\"\n",
            "\n",
            "\n"
          ]
        },
        {
          "output_type": "stream",
          "name": "stderr",
          "text": [
            "\r 16%|█▋        | 164/1000 [07:05<38:17,  2.75s/it]"
          ]
        },
        {
          "output_type": "stream",
          "name": "stdout",
          "text": [
            "\n",
            "\n",
            "Question: When was the Hopperstad Stavkyrkje built?\n",
            "\n",
            "Real Answer: SELECT year_built FROM table_name_83 WHERE church_name = \"hopperstad stavkyrkje\"\n",
            "Generated Answer: SELECT year_built FROM table_name_83 WHERE church_name = \"hopperstad stavkyrkje\"\n",
            "\n",
            "\n",
            "Similarity Score: 0.9999999\n",
            "Feedback: ('approve', 'SELECT year_built FROM table_name_83 WHERE church_name = \"hopperstad stavkyrkje\"')\n",
            "\n",
            "\n",
            "Success!\n",
            "Success Answer: SELECT year_built FROM table_name_83 WHERE church_name = \"hopperstad stavkyrkje\"\n",
            "\n",
            "\n"
          ]
        },
        {
          "output_type": "stream",
          "name": "stderr",
          "text": [
            "\r 16%|█▋        | 165/1000 [07:08<38:45,  2.79s/it]"
          ]
        },
        {
          "output_type": "stream",
          "name": "stdout",
          "text": [
            "\n",
            "\n",
            "Question: Who was the winner of the XII Spring Trophy race with BRM as the constructor?\n",
            "\n",
            "Real Answer: SELECT winning_driver FROM table_name_22 WHERE constructor = \"brm\" AND race_name = \"xii spring trophy\"\n",
            "Generated Answer: SELECT winning_driver FROM table_name_22 WHERE constructor = \"brm\" AND race_name = \"xii spring trophy\"\n",
            "\n",
            "\n",
            "Similarity Score: 1.0000002\n",
            "Feedback: ('approve', 'SELECT winning_driver FROM table_name_22 WHERE constructor = \"brm\" AND race_name = \"xii spring trophy\"')\n",
            "\n",
            "\n",
            "Success!\n",
            "Success Answer: SELECT winning_driver FROM table_name_22 WHERE constructor = \"brm\" AND race_name = \"xii spring trophy\"\n",
            "\n",
            "\n"
          ]
        },
        {
          "output_type": "stream",
          "name": "stderr",
          "text": [
            "\r 17%|█▋        | 166/1000 [07:09<34:46,  2.50s/it]"
          ]
        },
        {
          "output_type": "stream",
          "name": "stdout",
          "text": [
            "\n",
            "\n",
            "Question: what is the maximum number of points?\n",
            "\n",
            "Real Answer: SELECT MAX(points) FROM table_14342367_5\n",
            "Generated Answer: SELECT MAX(points) FROM table_14342367_5\n",
            "\n",
            "\n",
            "Similarity Score: 1.0\n",
            "Feedback: ('approve', 'SELECT MAX(points) FROM table_14342367_5')\n",
            "\n",
            "\n",
            "Success!\n",
            "Success Answer: SELECT MAX(points) FROM table_14342367_5\n",
            "\n",
            "\n"
          ]
        },
        {
          "output_type": "stream",
          "name": "stderr",
          "text": [
            "\r 17%|█▋        | 167/1000 [07:12<36:12,  2.61s/it]"
          ]
        },
        {
          "output_type": "stream",
          "name": "stdout",
          "text": [
            "\n",
            "\n",
            "Question: Which Source has a Remainder of 15%, and a Topinka of 26%?\n",
            "\n",
            "Real Answer: SELECT source FROM table_name_78 WHERE remainder = \"15%\" AND topinka__r_ = \"26%\"\n",
            "Generated Answer: SELECT source FROM table_name_78 WHERE remainder = \"15%\" AND topinka__r_ = \"26%\"\n",
            "\n",
            "\n",
            "Similarity Score: 1.0\n",
            "Feedback: ('approve', 'SELECT source FROM table_name_78 WHERE remainder = \"15%\" AND topinka__r_ = \"26%\"')\n",
            "\n",
            "\n",
            "Success!\n",
            "Success Answer: SELECT source FROM table_name_78 WHERE remainder = \"15%\" AND topinka__r_ = \"26%\"\n",
            "\n",
            "\n"
          ]
        },
        {
          "output_type": "stream",
          "name": "stderr",
          "text": [
            "\r 17%|█▋        | 168/1000 [07:16<41:24,  2.99s/it]"
          ]
        },
        {
          "output_type": "stream",
          "name": "stdout",
          "text": [
            "\n",
            "\n",
            "Question:  how many height m ( ft ) with notes being via wccv; formerly w236aj\n",
            "\n",
            "Real Answer: SELECT COUNT(height_m___ft__) FROM table_13998897_1 WHERE notes = \"via WCCV; formerly W236AJ\"\n",
            "Generated Answer: SELECT COUNT(height_m___ft__) FROM table_13998897_1 WHERE notes = \"Via WCCV; formerly W236AJ\"\n",
            "\n",
            "\n",
            "Similarity Score: 0.99999994\n",
            "Feedback: ('approve', 'SELECT COUNT(height_m___ft__) FROM table_13998897_1 WHERE notes = \"Via WCCV; formerly W236AJ\"')\n",
            "\n",
            "\n",
            "Real Answer: SELECT COUNT(height_m___ft__) FROM table_13998897_1 WHERE notes = \"via WCCV; formerly W236AJ\"\n",
            "Failed Answer: SELECT COUNT(height_m___ft__) FROM table_13998897_1 WHERE notes = \"Via WCCV; formerly W236AJ\"\n",
            "\n",
            "\n"
          ]
        },
        {
          "output_type": "stream",
          "name": "stderr",
          "text": [
            "\r 17%|█▋        | 169/1000 [07:18<38:11,  2.76s/it]"
          ]
        },
        {
          "output_type": "stream",
          "name": "stdout",
          "text": [
            "\n",
            "\n",
            "Question: What is the envelopment for the rhabdoviridae family?\n",
            "\n",
            "Real Answer: SELECT envelopment FROM table_name_83 WHERE family = \"rhabdoviridae\"\n",
            "Generated Answer: SELECT envvelopment FROM table_name_83 WHERE family = \"rhabdoviridae\"\n",
            "\n",
            "\n",
            "Similarity Score: 0.9743546\n",
            "Feedback: ('approve', 'SELECT envvelopment FROM table_name_83 WHERE family = \"rhabdoviridae\"')\n",
            "\n",
            "\n",
            "Real Answer: SELECT envelopment FROM table_name_83 WHERE family = \"rhabdoviridae\"\n",
            "Failed Answer: SELECT envvelopment FROM table_name_83 WHERE family = \"rhabdoviridae\"\n",
            "\n",
            "\n"
          ]
        },
        {
          "output_type": "stream",
          "name": "stderr",
          "text": [
            "\r 17%|█▋        | 170/1000 [07:21<38:11,  2.76s/it]"
          ]
        },
        {
          "output_type": "stream",
          "name": "stdout",
          "text": [
            "\n",
            "\n",
            "Question: What position for doug gibson with 2 wins?\n",
            "\n",
            "Real Answer: SELECT position FROM table_name_32 WHERE win__number = 2 AND winner = \"doug gibson\"\n",
            "Generated Answer: SELECT position FROM table_name_32 WHERE win__number = 2 AND winner = \"doug gibson\"\n",
            "\n",
            "\n",
            "Similarity Score: 0.9999999\n",
            "Feedback: ('approve', 'SELECT position FROM table_name_32 WHERE win__number = 2 AND winner = \"doug gibson\"')\n",
            "\n",
            "\n",
            "Success!\n",
            "Success Answer: SELECT position FROM table_name_32 WHERE win__number = 2 AND winner = \"doug gibson\"\n",
            "\n",
            "\n"
          ]
        },
        {
          "output_type": "stream",
          "name": "stderr",
          "text": [
            "\r 17%|█▋        | 171/1000 [07:28<55:36,  4.02s/it]"
          ]
        },
        {
          "output_type": "stream",
          "name": "stdout",
          "text": [
            "\n",
            "\n",
            "Question: What is the mpg-UK urban (cold) for a fuel type of diesel, extraurban MPG in the UK over 68.9, engine capacity of 1422, and L/100km urban (cold) over 5.1?\n",
            "\n",
            "Real Answer: SELECT mpg_uk_urban__cold_ FROM table_name_8 WHERE fuel_type = \"diesel\" AND mpg_uk_extra_urban > 68.9 AND engine_capacity = 1422 AND l_100km_urban__cold_ > 5.1\n",
            "Generated Answer: SELECT mpg_uk_urban__cold_ FROM table_name_8 WHERE fuel_type = \"diesel\" AND mpg_uk_extra_urban > 68.9 AND engine_capacity = 1422 AND l_100km_urban__cold_ > 5.1\n",
            "\n",
            "\n",
            "Similarity Score: 0.9999998\n",
            "Feedback: ('approve', 'SELECT mpg_uk_urban__cold_ FROM table_name_8 WHERE fuel_type = \"diesel\" AND mpg_uk_extra_urban > 68.9 AND engine_capacity = 1422 AND l_100km_urban__cold_ > 5.1')\n",
            "\n",
            "\n",
            "Success!\n",
            "Success Answer: SELECT mpg_uk_urban__cold_ FROM table_name_8 WHERE fuel_type = \"diesel\" AND mpg_uk_extra_urban > 68.9 AND engine_capacity = 1422 AND l_100km_urban__cold_ > 5.1\n",
            "\n",
            "\n"
          ]
        },
        {
          "output_type": "stream",
          "name": "stderr",
          "text": [
            "\r 17%|█▋        | 172/1000 [07:33<57:48,  4.19s/it]"
          ]
        },
        {
          "output_type": "stream",
          "name": "stdout",
          "text": [
            "\n",
            "\n",
            "Question: What is Score, when Outcome is \"winner\", when Partnering is \"Nicole Sewell\", and when Opponent in Final is \"Victoria Davies / Kate Warne-Holland\"?\n",
            "\n",
            "Real Answer: SELECT score FROM table_name_50 WHERE outcome = \"winner\" AND partnering = \"nicole sewell\" AND opponent_in_final = \"victoria davies / kate warne-holland\"\n",
            "Generated Answer: SELECT score FROM table_name_50 WHERE outcome = \"winner\" AND partnering = \"nicole sewell\" AND opponent_in_final = \"victoria davies / kate warne-holland\"\n",
            "\n",
            "\n",
            "Similarity Score: 0.9999999\n",
            "Feedback: ('approve', 'SELECT score FROM table_name_50 WHERE outcome = \"winner\" AND partnering = \"nicole sewell\" AND opponent_in_final = \"victoria davies / kate warne-holland\"')\n",
            "\n",
            "\n",
            "Success!\n",
            "Success Answer: SELECT score FROM table_name_50 WHERE outcome = \"winner\" AND partnering = \"nicole sewell\" AND opponent_in_final = \"victoria davies / kate warne-holland\"\n",
            "\n",
            "\n"
          ]
        },
        {
          "output_type": "stream",
          "name": "stderr",
          "text": [
            "\r 17%|█▋        | 173/1000 [07:36<52:59,  3.84s/it]"
          ]
        },
        {
          "output_type": "stream",
          "name": "stdout",
          "text": [
            "\n",
            "\n",
            "Question: What was the result of the film made before 2005, winner of the robert award, in the category of best actress?\n",
            "\n",
            "Real Answer: SELECT result FROM table_name_89 WHERE category = \"best actress\" AND year < 2005 AND award = \"robert award\"\n",
            "Generated Answer: SELECT result FROM table_name_89 WHERE category = \"best actress\" AND year < 2005 AND award = \"robert award\"\n",
            "\n",
            "\n",
            "Similarity Score: 0.9999999\n",
            "Feedback: ('approve', 'SELECT result FROM table_name_89 WHERE category = \"best actress\" AND year < 2005 AND award = \"robert award\"')\n",
            "\n",
            "\n",
            "Success!\n",
            "Success Answer: SELECT result FROM table_name_89 WHERE category = \"best actress\" AND year < 2005 AND award = \"robert award\"\n",
            "\n",
            "\n"
          ]
        },
        {
          "output_type": "stream",
          "name": "stderr",
          "text": [
            "\r 17%|█▋        | 174/1000 [07:40<53:05,  3.86s/it]"
          ]
        },
        {
          "output_type": "stream",
          "name": "stdout",
          "text": [
            "\n",
            "\n",
            "Question: What is the date of the match with a result of ud 12/12 between Pernell Whitaker and James Mcgirt?\n",
            "\n",
            "Real Answer: SELECT date FROM table_name_87 WHERE result = \"ud 12/12\" AND name = \"pernell whitaker\" AND opponent = \"james mcgirt\"\n",
            "Generated Answer: SELECT date FROM table_name_87 WHERE result = \"ud 12/12\" AND name = \"pernell whitaker\" AND opponent = \"james mcgirt\"\n",
            "\n",
            "\n",
            "Similarity Score: 1.0\n",
            "Feedback: ('approve', 'SELECT date FROM table_name_87 WHERE result = \"ud 12/12\" AND name = \"pernell whitaker\" AND opponent = \"james mcgirt\"')\n",
            "\n",
            "\n",
            "Success!\n",
            "Success Answer: SELECT date FROM table_name_87 WHERE result = \"ud 12/12\" AND name = \"pernell whitaker\" AND opponent = \"james mcgirt\"\n",
            "\n",
            "\n"
          ]
        },
        {
          "output_type": "stream",
          "name": "stderr",
          "text": [
            "\r 18%|█▊        | 175/1000 [07:41<44:00,  3.20s/it]"
          ]
        },
        {
          "output_type": "stream",
          "name": "stdout",
          "text": [
            "\n",
            "\n",
            "Question: Find number of products which Sony does not make.\n",
            "\n",
            "Real Answer: SELECT COUNT(DISTINCT name) FROM products WHERE NOT name IN (SELECT T1.name FROM products AS T1 JOIN manufacturers AS T2 ON T1.Manufacturer = T2.code WHERE T2.name = 'Sony')\n",
            "Generated Answer: SELECT COUNT(*) FROM products WHERE NOT Manufacturer = 'Sony'\n",
            "\n",
            "\n",
            "Similarity Score: 0.8465711\n",
            "Feedback: ('approve', \"SELECT COUNT(*) FROM products WHERE NOT Manufacturer = 'Sony'\")\n",
            "\n",
            "\n",
            "Real Answer: SELECT COUNT(DISTINCT name) FROM products WHERE NOT name IN (SELECT T1.name FROM products AS T1 JOIN manufacturers AS T2 ON T1.Manufacturer = T2.code WHERE T2.name = 'Sony')\n",
            "Failed Answer: SELECT COUNT(*) FROM products WHERE NOT Manufacturer = 'Sony'\n",
            "\n",
            "\n"
          ]
        },
        {
          "output_type": "stream",
          "name": "stderr",
          "text": [
            "\r 18%|█▊        | 176/1000 [07:43<37:23,  2.72s/it]"
          ]
        },
        {
          "output_type": "stream",
          "name": "stdout",
          "text": [
            "\n",
            "\n",
            "Question: Show the names of editors of age either 24 or 25.\n",
            "\n",
            "Real Answer: SELECT Name FROM editor WHERE Age = 24 OR Age = 25\n",
            "Generated Answer: SELECT Name FROM editor WHERE Age = 24 OR Age = 25\n",
            "\n",
            "\n",
            "Similarity Score: 1.0\n",
            "Feedback: ('approve', 'SELECT Name FROM editor WHERE Age = 24 OR Age = 25')\n",
            "\n",
            "\n",
            "Success!\n",
            "Success Answer: SELECT Name FROM editor WHERE Age = 24 OR Age = 25\n",
            "\n",
            "\n"
          ]
        },
        {
          "output_type": "stream",
          "name": "stderr",
          "text": [
            "\r 18%|█▊        | 177/1000 [07:46<37:27,  2.73s/it]"
          ]
        },
        {
          "output_type": "stream",
          "name": "stdout",
          "text": [
            "\n",
            "\n",
            "Question: What grid has an average time of +22.505 and laps larger than 23?\n",
            "\n",
            "Real Answer: SELECT AVG(grid) FROM table_name_7 WHERE time = \"+22.505\" AND laps > 23\n",
            "Generated Answer: SELECT MAX(grid) FROM table_name_7 WHERE time = \"+22.505\" AND laps > 23\n",
            "\n",
            "\n",
            "Similarity Score: 0.7039648\n",
            "Feedback: ('correct', 'SELECT AVG(grid) FROM table_name_7 WHERE time = \"+22.505\" AND laps > 23')\n",
            "\n",
            "\n",
            "Real Answer: SELECT AVG(grid) FROM table_name_7 WHERE time = \"+22.505\" AND laps > 23\n",
            "Failed Answer: SELECT MAX(grid) FROM table_name_7 WHERE time = \"+22.505\" AND laps > 23\n",
            "\n",
            "\n"
          ]
        },
        {
          "output_type": "stream",
          "name": "stderr",
          "text": [
            "\r 18%|█▊        | 178/1000 [07:48<37:09,  2.71s/it]"
          ]
        },
        {
          "output_type": "stream",
          "name": "stdout",
          "text": [
            "\n",
            "\n",
            "Question: Who wrote the episode with production code 57376?\n",
            "\n",
            "Real Answer: SELECT written_by FROM table_29583441_1 WHERE production_code = 57376\n",
            "Generated Answer: SELECT written_by FROM table_29583441_1 WHERE production_code = 57376\n",
            "\n",
            "\n",
            "Similarity Score: 1.0\n",
            "Feedback: ('approve', 'SELECT written_by FROM table_29583441_1 WHERE production_code = 57376')\n",
            "\n",
            "\n",
            "Success!\n",
            "Success Answer: SELECT written_by FROM table_29583441_1 WHERE production_code = 57376\n",
            "\n",
            "\n"
          ]
        },
        {
          "output_type": "stream",
          "name": "stderr",
          "text": [
            "\r 18%|█▊        | 179/1000 [07:52<40:08,  2.93s/it]"
          ]
        },
        {
          "output_type": "stream",
          "name": "stdout",
          "text": [
            "\n",
            "\n",
            "Question: What is overall rank when viewers are at 6.59 million?\n",
            "\n",
            "Real Answer: SELECT rank__overall_ FROM table_20522228_2 WHERE viewers__millions_ = \"6.59\"\n",
            "Generated Answer: SELECT COUNT(rank__overall_) FROM table_20522228_2 WHERE viewers__millions_ = \"6.59\"\n",
            "\n",
            "\n",
            "Similarity Score: 0.9103941\n",
            "Feedback: ('approve', 'SELECT COUNT(rank__overall_) FROM table_20522228_2 WHERE viewers__millions_ = \"6.59\"')\n",
            "\n",
            "\n",
            "Real Answer: SELECT rank__overall_ FROM table_20522228_2 WHERE viewers__millions_ = \"6.59\"\n",
            "Failed Answer: SELECT COUNT(rank__overall_) FROM table_20522228_2 WHERE viewers__millions_ = \"6.59\"\n",
            "\n",
            "\n"
          ]
        },
        {
          "output_type": "stream",
          "name": "stderr",
          "text": [
            "\r 18%|█▊        | 180/1000 [07:54<38:49,  2.84s/it]"
          ]
        },
        {
          "output_type": "stream",
          "name": "stdout",
          "text": [
            "\n",
            "\n",
            "Question: When cary middlecoff is the winner how many pars are there?\n",
            "\n",
            "Real Answer: SELECT COUNT(par) FROM table_2417741_1 WHERE winner = \"Cary Middlecoff\"\n",
            "Generated Answer: SELECT COUNT(par) FROM table_2417741_1 WHERE winner = \"Cary Middlecoff\"\n",
            "\n",
            "\n",
            "Similarity Score: 1.0\n",
            "Feedback: ('approve', 'SELECT COUNT(par) FROM table_2417741_1 WHERE winner = \"Cary Middlecoff\"')\n",
            "\n",
            "\n",
            "Success!\n",
            "Success Answer: SELECT COUNT(par) FROM table_2417741_1 WHERE winner = \"Cary Middlecoff\"\n",
            "\n",
            "\n"
          ]
        },
        {
          "output_type": "stream",
          "name": "stderr",
          "text": [
            "\r 18%|█▊        | 181/1000 [07:56<34:19,  2.51s/it]"
          ]
        },
        {
          "output_type": "stream",
          "name": "stdout",
          "text": [
            "\n",
            "\n",
            "Question: When was the away team burnley?\n",
            "\n",
            "Real Answer: SELECT date FROM table_name_31 WHERE away_team = \"burnley\"\n",
            "Generated Answer: SELECT date FROM table_name_31 WHERE away_team = \"burnley\"\n",
            "\n",
            "\n",
            "Similarity Score: 1.0000001\n",
            "Feedback: ('approve', 'SELECT date FROM table_name_31 WHERE away_team = \"burnley\"')\n",
            "\n",
            "\n",
            "Success!\n",
            "Success Answer: SELECT date FROM table_name_31 WHERE away_team = \"burnley\"\n",
            "\n",
            "\n"
          ]
        },
        {
          "output_type": "stream",
          "name": "stderr",
          "text": [
            "\r 18%|█▊        | 182/1000 [07:59<37:09,  2.73s/it]"
          ]
        },
        {
          "output_type": "stream",
          "name": "stdout",
          "text": [
            "\n",
            "\n",
            "Question: What is the country name with a numeric code less than 580 and a dk Latin 2-letter code?\n",
            "\n",
            "Real Answer: SELECT country_name FROM table_name_4 WHERE numeric_code < 580 AND latin_2_letter_code = \"dk\"\n",
            "Generated Answer: SELECT country_name FROM table_name_4 WHERE numeric_code < 580 AND latin_2_letter_code = \"dk\"\n",
            "\n",
            "\n",
            "Similarity Score: 1.0\n",
            "Feedback: ('approve', 'SELECT country_name FROM table_name_4 WHERE numeric_code < 580 AND latin_2_letter_code = \"dk\"')\n",
            "\n",
            "\n",
            "Success!\n",
            "Success Answer: SELECT country_name FROM table_name_4 WHERE numeric_code < 580 AND latin_2_letter_code = \"dk\"\n",
            "\n",
            "\n"
          ]
        },
        {
          "output_type": "stream",
          "name": "stderr",
          "text": [
            "\r 18%|█▊        | 183/1000 [08:01<34:25,  2.53s/it]"
          ]
        },
        {
          "output_type": "stream",
          "name": "stdout",
          "text": [
            "\n",
            "\n",
            "Question: What date had a record of 15-14-4?\n",
            "\n",
            "Real Answer: SELECT date FROM table_name_79 WHERE record = \"15-14-4\"\n",
            "Generated Answer: SELECT date FROM table_name_79 WHERE record = \"15-14-4\"\n",
            "\n",
            "\n",
            "Similarity Score: 1.0\n",
            "Feedback: ('approve', 'SELECT date FROM table_name_79 WHERE record = \"15-14-4\"')\n",
            "\n",
            "\n",
            "Success!\n",
            "Success Answer: SELECT date FROM table_name_79 WHERE record = \"15-14-4\"\n",
            "\n",
            "\n"
          ]
        },
        {
          "output_type": "stream",
          "name": "stderr",
          "text": [
            "\r 18%|█▊        | 184/1000 [08:04<32:54,  2.42s/it]"
          ]
        },
        {
          "output_type": "stream",
          "name": "stdout",
          "text": [
            "\n",
            "\n",
            "Question: What is the name of the player from Spain with a rank lower than 3?\n",
            "\n",
            "Real Answer: SELECT name FROM table_name_62 WHERE nationality = \"spain\" AND ranking > 3\n",
            "Generated Answer: SELECT name FROM table_name_62 WHERE nationality = \"spain\" AND ranking < 3\n",
            "\n",
            "\n",
            "Similarity Score: 0.9948494\n",
            "Feedback: ('approve', 'SELECT name FROM table_name_62 WHERE nationality = \"spain\" AND ranking < 3')\n",
            "\n",
            "\n",
            "Real Answer: SELECT name FROM table_name_62 WHERE nationality = \"spain\" AND ranking > 3\n",
            "Failed Answer: SELECT name FROM table_name_62 WHERE nationality = \"spain\" AND ranking < 3\n",
            "\n",
            "\n"
          ]
        },
        {
          "output_type": "stream",
          "name": "stderr",
          "text": [
            "\r 18%|█▊        | 185/1000 [08:07<37:03,  2.73s/it]"
          ]
        },
        {
          "output_type": "stream",
          "name": "stdout",
          "text": [
            "\n",
            "\n",
            "Question: Which Year(s) won has a Total larger than 148, and a To par smaller than 17, and a Country of new zealand?\n",
            "\n",
            "Real Answer: SELECT year_s__won FROM table_name_61 WHERE total > 148 AND to_par < 17 AND country = \"new zealand\"\n",
            "Generated Answer: SELECT year_s__won FROM table_name_61 WHERE total > 148 AND to_par < 17 AND country = \"new zealand\"\n",
            "\n",
            "\n",
            "Similarity Score: 1.0\n",
            "Feedback: ('approve', 'SELECT year_s__won FROM table_name_61 WHERE total > 148 AND to_par < 17 AND country = \"new zealand\"')\n",
            "\n",
            "\n",
            "Success!\n",
            "Success Answer: SELECT year_s__won FROM table_name_61 WHERE total > 148 AND to_par < 17 AND country = \"new zealand\"\n",
            "\n",
            "\n"
          ]
        },
        {
          "output_type": "stream",
          "name": "stderr",
          "text": [
            "\r 19%|█▊        | 186/1000 [08:09<35:51,  2.64s/it]"
          ]
        },
        {
          "output_type": "stream",
          "name": "stdout",
          "text": [
            "\n",
            "\n",
            "Question: Which player is on the BC Lions? \n",
            "\n",
            "Real Answer: SELECT player FROM table_20170644_3 WHERE cfl_team = \"BC Lions\"\n",
            "Generated Answer: SELECT player FROM table_20170644_3 WHERE cfl_team = \"BC Lions\"\n",
            "\n",
            "\n",
            "Similarity Score: 1.0\n",
            "Feedback: ('approve', 'SELECT player FROM table_20170644_3 WHERE cfl_team = \"BC Lions\"')\n",
            "\n",
            "\n",
            "Success!\n",
            "Success Answer: SELECT player FROM table_20170644_3 WHERE cfl_team = \"BC Lions\"\n",
            "\n",
            "\n"
          ]
        },
        {
          "output_type": "stream",
          "name": "stderr",
          "text": [
            "\r 19%|█▊        | 187/1000 [08:11<32:23,  2.39s/it]"
          ]
        },
        {
          "output_type": "stream",
          "name": "stdout",
          "text": [
            "\n",
            "\n",
            "Question: Which away team had a venue of mcg?\n",
            "\n",
            "Real Answer: SELECT away_team FROM table_name_90 WHERE venue = \"mcg\"\n",
            "Generated Answer: SELECT away_team FROM table_name_90 WHERE venue = \"mcg\"\n",
            "\n",
            "\n",
            "Similarity Score: 0.9999999\n",
            "Feedback: ('approve', 'SELECT away_team FROM table_name_90 WHERE venue = \"mcg\"')\n",
            "\n",
            "\n",
            "Success!\n",
            "Success Answer: SELECT away_team FROM table_name_90 WHERE venue = \"mcg\"\n",
            "\n",
            "\n"
          ]
        },
        {
          "output_type": "stream",
          "name": "stderr",
          "text": [
            "\r 19%|█▉        | 188/1000 [08:13<30:25,  2.25s/it]"
          ]
        },
        {
          "output_type": "stream",
          "name": "stdout",
          "text": [
            "\n",
            "\n",
            "Question: What is the title of the film with a production number of 1023?\n",
            "\n",
            "Real Answer: SELECT title FROM table_name_48 WHERE production_number = \"1023\"\n",
            "Generated Answer: SELECT title FROM table_name_48 WHERE production_number = 1023\n",
            "\n",
            "\n",
            "Similarity Score: 0.98594224\n",
            "Feedback: ('approve', 'SELECT title FROM table_name_48 WHERE production_number = 1023')\n",
            "\n",
            "\n",
            "Real Answer: SELECT title FROM table_name_48 WHERE production_number = \"1023\"\n",
            "Failed Answer: SELECT title FROM table_name_48 WHERE production_number = 1023\n",
            "\n",
            "\n"
          ]
        },
        {
          "output_type": "stream",
          "name": "stderr",
          "text": [
            "\r 19%|█▉        | 189/1000 [08:16<32:20,  2.39s/it]"
          ]
        },
        {
          "output_type": "stream",
          "name": "stdout",
          "text": [
            "\n",
            "\n",
            "Question: What is the smallest number of extra points for a left halfback?\n",
            "\n",
            "Real Answer: SELECT MIN(extra_points) FROM table_25517718_3 WHERE position = \"Left halfback\"\n",
            "Generated Answer: SELECT MIN(extra_points) FROM table_25517718_3 WHERE position = \"Left halfback\"\n",
            "\n",
            "\n",
            "Similarity Score: 0.9999999\n",
            "Feedback: ('approve', 'SELECT MIN(extra_points) FROM table_25517718_3 WHERE position = \"Left halfback\"')\n",
            "\n",
            "\n",
            "Success!\n",
            "Success Answer: SELECT MIN(extra_points) FROM table_25517718_3 WHERE position = \"Left halfback\"\n",
            "\n",
            "\n"
          ]
        },
        {
          "output_type": "stream",
          "name": "stderr",
          "text": [
            "\r 19%|█▉        | 190/1000 [08:19<34:18,  2.54s/it]"
          ]
        },
        {
          "output_type": "stream",
          "name": "stdout",
          "text": [
            "\n",
            "\n",
            "Question: What is Partner, when Surface is Hard, and when Score is 6–3, 7–6(0)?\n",
            "\n",
            "Real Answer: SELECT partner FROM table_name_94 WHERE surface = \"hard\" AND score = \"6–3, 7–6(0)\"\n",
            "Generated Answer: SELECT partner FROM table_name_94 WHERE surface = \"hard\" AND score = \"6–3, 7–6(0)\"\n",
            "\n",
            "\n",
            "Similarity Score: 1.0\n",
            "Feedback: ('approve', 'SELECT partner FROM table_name_94 WHERE surface = \"hard\" AND score = \"6–3, 7–6(0)\"')\n",
            "\n",
            "\n",
            "Success!\n",
            "Success Answer: SELECT partner FROM table_name_94 WHERE surface = \"hard\" AND score = \"6–3, 7–6(0)\"\n",
            "\n",
            "\n"
          ]
        },
        {
          "output_type": "stream",
          "name": "stderr",
          "text": [
            "\r 19%|█▉        | 191/1000 [08:21<33:46,  2.50s/it]"
          ]
        },
        {
          "output_type": "stream",
          "name": "stdout",
          "text": [
            "\n",
            "\n",
            "Question: what is 2010 when 2006 is 3r?\n",
            "\n",
            "Real Answer: SELECT 2010 FROM table_name_24 WHERE 2006 = \"3r\"\n",
            "Generated Answer: SELECT 2010 FROM table_name_24 WHERE 2006 = \"3r\"\n",
            "\n",
            "\n",
            "Similarity Score: 1.0\n",
            "Feedback: ('approve', 'SELECT 2010 FROM table_name_24 WHERE 2006 = \"3r\"')\n",
            "\n",
            "\n",
            "Success!\n",
            "Success Answer: SELECT 2010 FROM table_name_24 WHERE 2006 = \"3r\"\n",
            "\n",
            "\n"
          ]
        },
        {
          "output_type": "stream",
          "name": "stderr",
          "text": [
            "\r 19%|█▉        | 192/1000 [08:23<30:04,  2.23s/it]"
          ]
        },
        {
          "output_type": "stream",
          "name": "stdout",
          "text": [
            "\n",
            "\n",
            "Question: When was Montreal a visitor?\n",
            "\n",
            "Real Answer: SELECT date FROM table_name_34 WHERE visitor = \"montreal\"\n",
            "Generated Answer: SELECT date FROM table_name_34 WHERE visitor = \"montreal\"\n",
            "\n",
            "\n",
            "Similarity Score: 0.9999999\n",
            "Feedback: ('approve', 'SELECT date FROM table_name_34 WHERE visitor = \"montreal\"')\n",
            "\n",
            "\n",
            "Success!\n",
            "Success Answer: SELECT date FROM table_name_34 WHERE visitor = \"montreal\"\n",
            "\n",
            "\n"
          ]
        },
        {
          "output_type": "stream",
          "name": "stderr",
          "text": [
            "\r 19%|█▉        | 193/1000 [08:25<28:29,  2.12s/it]"
          ]
        },
        {
          "output_type": "stream",
          "name": "stdout",
          "text": [
            "\n",
            "\n",
            "Question: How many totals had more than 4 bronze?\n",
            "\n",
            "Real Answer: SELECT SUM(total) FROM table_name_93 WHERE bronze > 4\n",
            "Generated Answer: SELECT SUM(total) FROM table_name_93 WHERE bronze > 4\n",
            "\n",
            "\n",
            "Similarity Score: 1.0\n",
            "Feedback: ('approve', 'SELECT SUM(total) FROM table_name_93 WHERE bronze > 4')\n",
            "\n",
            "\n",
            "Success!\n",
            "Success Answer: SELECT SUM(total) FROM table_name_93 WHERE bronze > 4\n",
            "\n",
            "\n"
          ]
        },
        {
          "output_type": "stream",
          "name": "stderr",
          "text": [
            "\r 19%|█▉        | 194/1000 [08:28<31:46,  2.36s/it]"
          ]
        },
        {
          "output_type": "stream",
          "name": "stdout",
          "text": [
            "\n",
            "\n",
            "Question: What is the no party preference when republican is 45.3%?\n",
            "\n",
            "Real Answer: SELECT no_party_preference FROM table_27003186_3 WHERE republican = \"45.3%\"\n",
            "Generated Answer: SELECT no_party_preference FROM table_27003186_3 WHERE republican = \"45.3%\"\n",
            "\n",
            "\n",
            "Similarity Score: 1.0\n",
            "Feedback: ('approve', 'SELECT no_party_preference FROM table_27003186_3 WHERE republican = \"45.3%\"')\n",
            "\n",
            "\n",
            "Success!\n",
            "Success Answer: SELECT no_party_preference FROM table_27003186_3 WHERE republican = \"45.3%\"\n",
            "\n",
            "\n"
          ]
        },
        {
          "output_type": "stream",
          "name": "stderr",
          "text": [
            "\r 20%|█▉        | 195/1000 [08:31<35:16,  2.63s/it]"
          ]
        },
        {
          "output_type": "stream",
          "name": "stdout",
          "text": [
            "\n",
            "\n",
            "Question: Name the total number of hdtv for eurotic tv\n",
            "\n",
            "Real Answer: SELECT COUNT(hdtv) FROM table_15887683_17 WHERE television_service = \"Eurotic TV\"\n",
            "Generated Answer: SELECT COUNT(hdtv) FROM table_15887683_17 WHERE television_service = \"Eurotic TV\"\n",
            "\n",
            "\n",
            "Similarity Score: 0.9999999\n",
            "Feedback: ('approve', 'SELECT COUNT(hdtv) FROM table_15887683_17 WHERE television_service = \"Eurotic TV\"')\n",
            "\n",
            "\n",
            "Success!\n",
            "Success Answer: SELECT COUNT(hdtv) FROM table_15887683_17 WHERE television_service = \"Eurotic TV\"\n",
            "\n",
            "\n"
          ]
        },
        {
          "output_type": "stream",
          "name": "stderr",
          "text": [
            "\r 20%|█▉        | 196/1000 [08:33<31:43,  2.37s/it]"
          ]
        },
        {
          "output_type": "stream",
          "name": "stdout",
          "text": [
            "\n",
            "\n",
            "Question: What score has 2000 as the year?\n",
            "\n",
            "Real Answer: SELECT score FROM table_name_80 WHERE year = 2000\n",
            "Generated Answer: SELECT score FROM table_name_80 WHERE year = \"2000\"\n",
            "\n",
            "\n",
            "Similarity Score: 0.9911585\n",
            "Feedback: ('approve', 'SELECT score FROM table_name_80 WHERE year = \"2000\"')\n",
            "\n",
            "\n",
            "Real Answer: SELECT score FROM table_name_80 WHERE year = 2000\n",
            "Failed Answer: SELECT score FROM table_name_80 WHERE year = \"2000\"\n",
            "\n",
            "\n"
          ]
        },
        {
          "output_type": "stream",
          "name": "stderr",
          "text": [
            "\r 20%|█▉        | 197/1000 [08:35<32:08,  2.40s/it]"
          ]
        },
        {
          "output_type": "stream",
          "name": "stdout",
          "text": [
            "\n",
            "\n",
            "Question: What largest episode number's Netflix is S05E23?\n",
            "\n",
            "Real Answer: SELECT MAX(episode) FROM table_name_23 WHERE netflix = \"s05e23\"\n",
            "Generated Answer: SELECT MAX(episode) FROM table_name_23 WHERE netflix = \"s05e23\"\n",
            "\n",
            "\n",
            "Similarity Score: 1.0000001\n",
            "Feedback: ('approve', 'SELECT MAX(episode) FROM table_name_23 WHERE netflix = \"s05e23\"')\n",
            "\n",
            "\n",
            "Success!\n",
            "Success Answer: SELECT MAX(episode) FROM table_name_23 WHERE netflix = \"s05e23\"\n",
            "\n",
            "\n"
          ]
        },
        {
          "output_type": "stream",
          "name": "stderr",
          "text": [
            "\r 20%|█▉        | 198/1000 [08:38<32:47,  2.45s/it]"
          ]
        },
        {
          "output_type": "stream",
          "name": "stdout",
          "text": [
            "\n",
            "\n",
            "Question: How many touchdowns did the player took which gained 25 points?\n",
            "\n",
            "Real Answer: SELECT touchdowns FROM table_25711913_2 WHERE points = 25\n",
            "Generated Answer: SELECT COUNT(touchdowns) FROM table_25711913_2 WHERE points = 25\n",
            "\n",
            "\n",
            "Similarity Score: 0.8582946\n",
            "Feedback: ('approve', 'SELECT COUNT(touchdowns) FROM table_25711913_2 WHERE points = 25')\n",
            "\n",
            "\n",
            "Real Answer: SELECT touchdowns FROM table_25711913_2 WHERE points = 25\n",
            "Failed Answer: SELECT COUNT(touchdowns) FROM table_25711913_2 WHERE points = 25\n",
            "\n",
            "\n"
          ]
        },
        {
          "output_type": "stream",
          "name": "stderr",
          "text": [
            "\r 20%|█▉        | 199/1000 [08:42<41:56,  3.14s/it]"
          ]
        },
        {
          "output_type": "stream",
          "name": "stdout",
          "text": [
            "\n",
            "\n",
            "Question: What was the GDP for 2002-2005 for the construction center? \n",
            "\n",
            "Real Answer: SELECT 2002 AS _2005 FROM table_25282151_1 WHERE supply_sector___percentage_of_gdp_in_current_prices_ = \"Construction\"\n",
            "Generated Answer: SELECT 2002 AS _2005 FROM table_25282151_1 WHERE supply_sector___percentage_of_gdp_in_current_prices_ = \"Construction\"\n",
            "\n",
            "\n",
            "Similarity Score: 0.9999999\n",
            "Feedback: ('approve', 'SELECT 2002 AS _2005 FROM table_25282151_1 WHERE supply_sector___percentage_of_gdp_in_current_prices_ = \"Construction\"')\n",
            "\n",
            "\n",
            "Success!\n",
            "Success Answer: SELECT 2002 AS _2005 FROM table_25282151_1 WHERE supply_sector___percentage_of_gdp_in_current_prices_ = \"Construction\"\n",
            "\n",
            "\n"
          ]
        },
        {
          "output_type": "stream",
          "name": "stderr",
          "text": [
            "\r 20%|██        | 200/1000 [08:45<38:01,  2.85s/it]"
          ]
        },
        {
          "output_type": "stream",
          "name": "stdout",
          "text": [
            "\n",
            "\n",
            "Question: What is Headquarter, when Type is Independent Online News Portal?\n",
            "\n",
            "Real Answer: SELECT headquarter FROM table_name_49 WHERE type = \"independent online news portal\"\n",
            "Generated Answer: SELECT headquarter FROM table_name_49 WHERE type = \"independent online news portal\"\n",
            "\n",
            "\n",
            "Similarity Score: 1.0\n",
            "Feedback: ('approve', 'SELECT headquarter FROM table_name_49 WHERE type = \"independent online news portal\"')\n",
            "\n",
            "\n",
            "Success!\n",
            "Success Answer: SELECT headquarter FROM table_name_49 WHERE type = \"independent online news portal\"\n",
            "\n",
            "\n"
          ]
        },
        {
          "output_type": "stream",
          "name": "stderr",
          "text": [
            "\r 20%|██        | 201/1000 [08:47<38:18,  2.88s/it]"
          ]
        },
        {
          "output_type": "stream",
          "name": "stdout",
          "text": [
            "\n",
            "\n",
            "Question: Which Against has Losses larger than 2, and Wins of 8, and Byes smaller than 0?\n",
            "\n",
            "Real Answer: SELECT SUM(against) FROM table_name_65 WHERE losses > 2 AND wins = 8 AND byes < 0\n",
            "Generated Answer: SELECT SUM(against) FROM table_name_65 WHERE losses > 2 AND wins = 8 AND byes < 0\n",
            "\n",
            "\n",
            "Similarity Score: 0.99999994\n",
            "Feedback: ('approve', 'SELECT SUM(against) FROM table_name_65 WHERE losses > 2 AND wins = 8 AND byes < 0')\n",
            "\n",
            "\n",
            "Success!\n",
            "Success Answer: SELECT SUM(against) FROM table_name_65 WHERE losses > 2 AND wins = 8 AND byes < 0\n",
            "\n",
            "\n"
          ]
        },
        {
          "output_type": "stream",
          "name": "stderr",
          "text": [
            "\r 20%|██        | 202/1000 [08:51<38:54,  2.93s/it]"
          ]
        },
        {
          "output_type": "stream",
          "name": "stdout",
          "text": [
            "\n",
            "\n",
            "Question: Which date's week was more than 4 with the venue being City Stadium and where the attendance was more than 14,297?\n",
            "\n",
            "Real Answer: SELECT date FROM table_name_1 WHERE week > 4 AND venue = \"city stadium\" AND attendance > 14 OFFSET 297\n",
            "Generated Answer: SELECT date FROM table_name_1 WHERE week > 4 AND venue = \"city stadium\" AND attendance > 14 OFFSET 297\n",
            "\n",
            "\n",
            "Similarity Score: 1.0000002\n",
            "Feedback: ('approve', 'SELECT date FROM table_name_1 WHERE week > 4 AND venue = \"city stadium\" AND attendance > 14 OFFSET 297')\n",
            "\n",
            "\n",
            "Success!\n",
            "Success Answer: SELECT date FROM table_name_1 WHERE week > 4 AND venue = \"city stadium\" AND attendance > 14 OFFSET 297\n",
            "\n",
            "\n"
          ]
        },
        {
          "output_type": "stream",
          "name": "stderr",
          "text": [
            "\r 20%|██        | 203/1000 [08:53<38:57,  2.93s/it]"
          ]
        },
        {
          "output_type": "stream",
          "name": "stdout",
          "text": [
            "\n",
            "\n",
            "Question: WHAT IS THE START THAT HAS A FINISH BIGGER THAN 3, FROM FORD, AFTER 1969?\n",
            "\n",
            "Real Answer: SELECT MAX(start) FROM table_name_83 WHERE finish > 3 AND manufacturer = \"ford\" AND year > 1969\n",
            "Generated Answer: SELECT MIN(start) FROM table_name_83 WHERE finish > 3 AND manufacturer = \"ford\" AND year > 1969\n",
            "\n",
            "\n",
            "Similarity Score: 0.78064454\n",
            "Feedback: ('correct', 'SELECT MAX(start) FROM table_name_83 WHERE finish > 3 AND manufacturer = \"ford\" AND year > 1969')\n",
            "\n",
            "\n",
            "Real Answer: SELECT MAX(start) FROM table_name_83 WHERE finish > 3 AND manufacturer = \"ford\" AND year > 1969\n",
            "Failed Answer: SELECT MIN(start) FROM table_name_83 WHERE finish > 3 AND manufacturer = \"ford\" AND year > 1969\n",
            "\n",
            "\n"
          ]
        },
        {
          "output_type": "stream",
          "name": "stderr",
          "text": [
            "\r 20%|██        | 204/1000 [08:56<38:25,  2.90s/it]"
          ]
        },
        {
          "output_type": "stream",
          "name": "stdout",
          "text": [
            "\n",
            "\n",
            "Question: What's the time for a round of n/a when the opponent is mikhail ilyukhin?\n",
            "\n",
            "Real Answer: SELECT time FROM table_name_75 WHERE round = \"n/a\" AND opponent = \"mikhail ilyukhin\"\n",
            "Generated Answer: SELECT time FROM table_name_75 WHERE round = \"n/a\" AND opponent = \"mikhail ilyukhin\"\n",
            "\n",
            "\n",
            "Similarity Score: 0.99999994\n",
            "Feedback: ('approve', 'SELECT time FROM table_name_75 WHERE round = \"n/a\" AND opponent = \"mikhail ilyukhin\"')\n",
            "\n",
            "\n",
            "Success!\n",
            "Success Answer: SELECT time FROM table_name_75 WHERE round = \"n/a\" AND opponent = \"mikhail ilyukhin\"\n",
            "\n",
            "\n"
          ]
        },
        {
          "output_type": "stream",
          "name": "stderr",
          "text": [
            "\r 20%|██        | 205/1000 [08:59<39:27,  2.98s/it]"
          ]
        },
        {
          "output_type": "stream",
          "name": "stdout",
          "text": [
            "\n",
            "\n",
            "Question: What Episode on TV Asahi Station has Rating of 12.0%?\n",
            "\n",
            "Real Answer: SELECT episodes FROM table_name_17 WHERE average_ratings = \"12.0%\" AND tv_station = \"tv asahi\"\n",
            "Generated Answer: SELECT episodes FROM table_name_17 WHERE average_ratings = \"12.0%\" AND tv_station = \"tv asahi station\"\n",
            "\n",
            "\n",
            "Similarity Score: 0.9986668\n",
            "Feedback: ('approve', 'SELECT episodes FROM table_name_17 WHERE average_ratings = \"12.0%\" AND tv_station = \"tv asahi station\"')\n",
            "\n",
            "\n",
            "Real Answer: SELECT episodes FROM table_name_17 WHERE average_ratings = \"12.0%\" AND tv_station = \"tv asahi\"\n",
            "Failed Answer: SELECT episodes FROM table_name_17 WHERE average_ratings = \"12.0%\" AND tv_station = \"tv asahi station\"\n",
            "\n",
            "\n"
          ]
        },
        {
          "output_type": "stream",
          "name": "stderr",
          "text": [
            "\r 21%|██        | 206/1000 [09:01<35:11,  2.66s/it]"
          ]
        },
        {
          "output_type": "stream",
          "name": "stdout",
          "text": [
            "\n",
            "\n",
            "Question: What is the date of the game where Essendon is the away team?\n",
            "\n",
            "Real Answer: SELECT date FROM table_name_36 WHERE away_team = \"essendon\"\n",
            "Generated Answer: SELECT date FROM table_name_36 WHERE away_team = \"essendon\"\n",
            "\n",
            "\n",
            "Similarity Score: 1.0\n",
            "Feedback: ('approve', 'SELECT date FROM table_name_36 WHERE away_team = \"essendon\"')\n",
            "\n",
            "\n",
            "Success!\n",
            "Success Answer: SELECT date FROM table_name_36 WHERE away_team = \"essendon\"\n",
            "\n",
            "\n"
          ]
        },
        {
          "output_type": "stream",
          "name": "stderr",
          "text": [
            "\r 21%|██        | 207/1000 [09:04<34:22,  2.60s/it]"
          ]
        },
        {
          "output_type": "stream",
          "name": "stdout",
          "text": [
            "\n",
            "\n",
            "Question: Which Date has a Type of 4-6-0, and a Number larger than 11?\n",
            "\n",
            "Real Answer: SELECT date FROM table_name_22 WHERE type = \"4-6-0\" AND number > 11\n",
            "Generated Answer: SELECT date FROM table_name_22 WHERE type = \"4-6-0\" AND number > 11\n",
            "\n",
            "\n",
            "Similarity Score: 1.0\n",
            "Feedback: ('approve', 'SELECT date FROM table_name_22 WHERE type = \"4-6-0\" AND number > 11')\n",
            "\n",
            "\n",
            "Success!\n",
            "Success Answer: SELECT date FROM table_name_22 WHERE type = \"4-6-0\" AND number > 11\n",
            "\n",
            "\n"
          ]
        },
        {
          "output_type": "stream",
          "name": "stderr",
          "text": [
            "\r 21%|██        | 208/1000 [09:06<32:28,  2.46s/it]"
          ]
        },
        {
          "output_type": "stream",
          "name": "stdout",
          "text": [
            "\n",
            "\n",
            "Question: Which Chart peak has a Time of 3:11?\n",
            "\n",
            "Real Answer: SELECT chart_peak FROM table_name_30 WHERE time = \"3:11\"\n",
            "Generated Answer: SELECT chart_peak FROM table_name_30 WHERE time = \"3:11\"\n",
            "\n",
            "\n",
            "Similarity Score: 0.99999994\n",
            "Feedback: ('approve', 'SELECT chart_peak FROM table_name_30 WHERE time = \"3:11\"')\n",
            "\n",
            "\n",
            "Success!\n",
            "Success Answer: SELECT chart_peak FROM table_name_30 WHERE time = \"3:11\"\n",
            "\n",
            "\n"
          ]
        },
        {
          "output_type": "stream",
          "name": "stderr",
          "text": [
            "\r 21%|██        | 209/1000 [09:10<37:37,  2.85s/it]"
          ]
        },
        {
          "output_type": "stream",
          "name": "stdout",
          "text": [
            "\n",
            "\n",
            "Question: What is the sum for the pick of the year 2009, and a round smaller than 2 and an NBA Club Denver Nuggets?\n",
            "\n",
            "Real Answer: SELECT SUM(pick) FROM table_name_95 WHERE year = 2009 AND round < 2 AND nba_club = \"denver nuggets\"\n",
            "Generated Answer: SELECT SUM(pick) FROM table_name_95 WHERE year = 2009 AND round < 2 AND nba_club = 'denver nuggets'\n",
            "\n",
            "\n",
            "Similarity Score: 0.99946344\n",
            "Feedback: ('approve', \"SELECT SUM(pick) FROM table_name_95 WHERE year = 2009 AND round < 2 AND nba_club = 'denver nuggets'\")\n",
            "\n",
            "\n",
            "Real Answer: SELECT SUM(pick) FROM table_name_95 WHERE year = 2009 AND round < 2 AND nba_club = \"denver nuggets\"\n",
            "Failed Answer: SELECT SUM(pick) FROM table_name_95 WHERE year = 2009 AND round < 2 AND nba_club = 'denver nuggets'\n",
            "\n",
            "\n"
          ]
        },
        {
          "output_type": "stream",
          "name": "stderr",
          "text": [
            "\r 21%|██        | 210/1000 [09:14<44:31,  3.38s/it]"
          ]
        },
        {
          "output_type": "stream",
          "name": "stdout",
          "text": [
            "\n",
            "\n",
            "Question: Find the dates of orders which belong to the customer named \"Jeramie\".\n",
            "\n",
            "Real Answer: SELECT T2.date_order_placed FROM customers AS T1 JOIN orders AS T2 ON T1.customer_id = T2.customer_id WHERE T1.customer_name = \"Jeramie\"\n",
            "Generated Answer: SELECT T1.date_order_placed FROM orders AS T1 JOIN customers AS T2 ON T1.customer_id = T2.customer_id WHERE T2.customer_name = \"Jeramie\"\n",
            "\n",
            "\n",
            "Similarity Score: 0.9913647\n",
            "Feedback: ('approve', 'SELECT T1.date_order_placed FROM orders AS T1 JOIN customers AS T2 ON T1.customer_id = T2.customer_id WHERE T2.customer_name = \"Jeramie\"')\n",
            "\n",
            "\n",
            "Real Answer: SELECT T2.date_order_placed FROM customers AS T1 JOIN orders AS T2 ON T1.customer_id = T2.customer_id WHERE T1.customer_name = \"Jeramie\"\n",
            "Failed Answer: SELECT T1.date_order_placed FROM orders AS T1 JOIN customers AS T2 ON T1.customer_id = T2.customer_id WHERE T2.customer_name = \"Jeramie\"\n",
            "\n",
            "\n"
          ]
        },
        {
          "output_type": "stream",
          "name": "stderr",
          "text": [
            "\r 21%|██        | 211/1000 [09:20<54:23,  4.14s/it]"
          ]
        },
        {
          "output_type": "stream",
          "name": "stdout",
          "text": [
            "\n",
            "\n",
            "Question: Find the name and id of the item with the highest average rating.\n",
            "\n",
            "Real Answer: SELECT T1.title, T1.i_id FROM item AS T1 JOIN review AS T2 ON T1.i_id = T2.i_id GROUP BY T2.i_id ORDER BY AVG(T2.rating) DESC LIMIT 1\n",
            "Generated Answer: SELECT T2.title, T1.i_id FROM review AS T1 JOIN item AS T2 ON T1.i_id = T2.i_id GROUP BY T1.i_id ORDER BY AVG(T1.rating) DESC LIMIT 1\n",
            "\n",
            "\n",
            "Similarity Score: 0.99688053\n",
            "Feedback: ('approve', 'SELECT T2.title, T1.i_id FROM review AS T1 JOIN item AS T2 ON T1.i_id = T2.i_id GROUP BY T1.i_id ORDER BY AVG(T1.rating) DESC LIMIT 1')\n",
            "\n",
            "\n",
            "Real Answer: SELECT T1.title, T1.i_id FROM item AS T1 JOIN review AS T2 ON T1.i_id = T2.i_id GROUP BY T2.i_id ORDER BY AVG(T2.rating) DESC LIMIT 1\n",
            "Failed Answer: SELECT T2.title, T1.i_id FROM review AS T1 JOIN item AS T2 ON T1.i_id = T2.i_id GROUP BY T1.i_id ORDER BY AVG(T1.rating) DESC LIMIT 1\n",
            "\n",
            "\n"
          ]
        },
        {
          "output_type": "stream",
          "name": "stderr",
          "text": [
            "\r 21%|██        | 212/1000 [09:23<47:27,  3.61s/it]"
          ]
        },
        {
          "output_type": "stream",
          "name": "stdout",
          "text": [
            "\n",
            "\n",
            "Question: What is the propulsion when the vessel is marianarray?\n",
            "\n",
            "Real Answer: SELECT propulsion FROM table_28132970_5 WHERE vessel = \"Marianarray\"\n",
            "Generated Answer: SELECT propulsion FROM table_28132970_5 WHERE vessel = \"MarianArray\"\n",
            "\n",
            "\n",
            "Similarity Score: 1.0\n",
            "Feedback: ('approve', 'SELECT propulsion FROM table_28132970_5 WHERE vessel = \"MarianArray\"')\n",
            "\n",
            "\n",
            "Real Answer: SELECT propulsion FROM table_28132970_5 WHERE vessel = \"Marianarray\"\n",
            "Failed Answer: SELECT propulsion FROM table_28132970_5 WHERE vessel = \"MarianArray\"\n",
            "\n",
            "\n"
          ]
        },
        {
          "output_type": "stream",
          "name": "stderr",
          "text": [
            "\r 21%|██▏       | 213/1000 [09:24<40:22,  3.08s/it]"
          ]
        },
        {
          "output_type": "stream",
          "name": "stdout",
          "text": [
            "\n",
            "\n",
            "Question: what is the semifinalists when the surface is hard (i)?\n",
            "\n",
            "Real Answer: SELECT semifinalists FROM table_name_9 WHERE surface = \"hard (i)\"\n",
            "Generated Answer: SELECT semifinalists FROM table_name_9 WHERE surface = \"hard (i)\"\n",
            "\n",
            "\n",
            "Similarity Score: 0.9999999\n",
            "Feedback: ('approve', 'SELECT semifinalists FROM table_name_9 WHERE surface = \"hard (i)\"')\n",
            "\n",
            "\n",
            "Success!\n",
            "Success Answer: SELECT semifinalists FROM table_name_9 WHERE surface = \"hard (i)\"\n",
            "\n",
            "\n"
          ]
        },
        {
          "output_type": "stream",
          "name": "stderr",
          "text": [
            "\r 21%|██▏       | 214/1000 [09:26<35:59,  2.75s/it]"
          ]
        },
        {
          "output_type": "stream",
          "name": "stdout",
          "text": [
            "\n",
            "\n",
            "Question: What is Score, when Player is \"Brad Faxon\"?\n",
            "\n",
            "Real Answer: SELECT score FROM table_name_68 WHERE player = \"brad faxon\"\n",
            "Generated Answer: SELECT score FROM table_name_68 WHERE player = \"brad faxon\"\n",
            "\n",
            "\n",
            "Similarity Score: 1.0\n",
            "Feedback: ('approve', 'SELECT score FROM table_name_68 WHERE player = \"brad faxon\"')\n",
            "\n",
            "\n",
            "Success!\n",
            "Success Answer: SELECT score FROM table_name_68 WHERE player = \"brad faxon\"\n",
            "\n",
            "\n"
          ]
        },
        {
          "output_type": "stream",
          "name": "stderr",
          "text": [
            "\r 22%|██▏       | 215/1000 [09:29<34:15,  2.62s/it]"
          ]
        },
        {
          "output_type": "stream",
          "name": "stdout",
          "text": [
            "\n",
            "\n",
            "Question: How many years was the chassis a Coloni C3?\n",
            "\n",
            "Real Answer: SELECT COUNT(year) FROM table_name_51 WHERE chassis = \"coloni c3\"\n",
            "Generated Answer: SELECT COUNT(year) FROM table_name_51 WHERE chassis = \"coloni c3\"\n",
            "\n",
            "\n",
            "Similarity Score: 0.9999999\n",
            "Feedback: ('approve', 'SELECT COUNT(year) FROM table_name_51 WHERE chassis = \"coloni c3\"')\n",
            "\n",
            "\n",
            "Success!\n",
            "Success Answer: SELECT COUNT(year) FROM table_name_51 WHERE chassis = \"coloni c3\"\n",
            "\n",
            "\n"
          ]
        },
        {
          "output_type": "stream",
          "name": "stderr",
          "text": [
            "\r 22%|██▏       | 216/1000 [09:31<31:10,  2.39s/it]"
          ]
        },
        {
          "output_type": "stream",
          "name": "stdout",
          "text": [
            "\n",
            "\n",
            "Question: What years have 10 (0) in the finals?\n",
            "\n",
            "Real Answer: SELECT years FROM table_name_33 WHERE finals = \"10 (0)\"\n",
            "Generated Answer: SELECT years FROM table_name_33 WHERE finals = \"10 (0)\"\n",
            "\n",
            "\n",
            "Similarity Score: 1.0000001\n",
            "Feedback: ('approve', 'SELECT years FROM table_name_33 WHERE finals = \"10 (0)\"')\n",
            "\n",
            "\n",
            "Success!\n",
            "Success Answer: SELECT years FROM table_name_33 WHERE finals = \"10 (0)\"\n",
            "\n",
            "\n"
          ]
        },
        {
          "output_type": "stream",
          "name": "stderr",
          "text": [
            "\r 22%|██▏       | 217/1000 [09:33<31:47,  2.44s/it]"
          ]
        },
        {
          "output_type": "stream",
          "name": "stdout",
          "text": [
            "\n",
            "\n",
            "Question: What is the power of the Baguio station?\n",
            "\n",
            "Real Answer: SELECT power__kw_ FROM table_17822401_1 WHERE location = \"Baguio\"\n",
            "Generated Answer: SELECT power__kw_ FROM table_17822401_1 WHERE location = \"Baguio Station\"\n",
            "\n",
            "\n",
            "Similarity Score: 0.9208894\n",
            "Feedback: ('approve', 'SELECT power__kw_ FROM table_17822401_1 WHERE location = \"Baguio Station\"')\n",
            "\n",
            "\n",
            "Real Answer: SELECT power__kw_ FROM table_17822401_1 WHERE location = \"Baguio\"\n",
            "Failed Answer: SELECT power__kw_ FROM table_17822401_1 WHERE location = \"Baguio Station\"\n",
            "\n",
            "\n"
          ]
        },
        {
          "output_type": "stream",
          "name": "stderr",
          "text": [
            "\r 22%|██▏       | 218/1000 [09:36<32:30,  2.49s/it]"
          ]
        },
        {
          "output_type": "stream",
          "name": "stdout",
          "text": [
            "\n",
            "\n",
            "Question: What is the total number of draws when there are 1465 against matches and less than 2 byes?\n",
            "\n",
            "Real Answer: SELECT COUNT(draws) FROM table_name_76 WHERE against = 1465 AND byes < 2\n",
            "Generated Answer: SELECT COUNT(draws) FROM table_name_76 WHERE against = 1465 AND byes < 2\n",
            "\n",
            "\n",
            "Similarity Score: 0.99999994\n",
            "Feedback: ('approve', 'SELECT COUNT(draws) FROM table_name_76 WHERE against = 1465 AND byes < 2')\n",
            "\n",
            "\n",
            "Success!\n",
            "Success Answer: SELECT COUNT(draws) FROM table_name_76 WHERE against = 1465 AND byes < 2\n",
            "\n",
            "\n"
          ]
        },
        {
          "output_type": "stream",
          "name": "stderr",
          "text": [
            "\r 22%|██▏       | 219/1000 [09:38<29:43,  2.28s/it]"
          ]
        },
        {
          "output_type": "stream",
          "name": "stdout",
          "text": [
            "\n",
            "\n",
            "Question: what is the highest attendance for week 3?\n",
            "\n",
            "Real Answer: SELECT MAX(attendance) FROM table_name_34 WHERE week = 3\n",
            "Generated Answer: SELECT MAX(attendance) FROM table_name_34 WHERE week = 3\n",
            "\n",
            "\n",
            "Similarity Score: 1.0\n",
            "Feedback: ('approve', 'SELECT MAX(attendance) FROM table_name_34 WHERE week = 3')\n",
            "\n",
            "\n",
            "Success!\n",
            "Success Answer: SELECT MAX(attendance) FROM table_name_34 WHERE week = 3\n",
            "\n",
            "\n"
          ]
        },
        {
          "output_type": "stream",
          "name": "stderr",
          "text": [
            "\r 22%|██▏       | 220/1000 [09:39<26:42,  2.05s/it]"
          ]
        },
        {
          "output_type": "stream",
          "name": "stdout",
          "text": [
            "\n",
            "\n",
            "Question: What are all the distinct last names of all the engineers?\n",
            "\n",
            "Real Answer: SELECT DISTINCT last_name FROM Maintenance_Engineers\n",
            "Generated Answer: SELECT DISTINCT last_name FROM Maintenance_Engineers\n",
            "\n",
            "\n",
            "Similarity Score: 1.0\n",
            "Feedback: ('approve', 'SELECT DISTINCT last_name FROM Maintenance_Engineers')\n",
            "\n",
            "\n",
            "Success!\n",
            "Success Answer: SELECT DISTINCT last_name FROM Maintenance_Engineers\n",
            "\n",
            "\n"
          ]
        },
        {
          "output_type": "stream",
          "name": "stderr",
          "text": [
            "\r 22%|██▏       | 221/1000 [09:42<29:24,  2.26s/it]"
          ]
        },
        {
          "output_type": "stream",
          "name": "stdout",
          "text": [
            "\n",
            "\n",
            "Question: What is the highest played with more than 0 draws, less than 3 losses, and less than 27 points?\n",
            "\n",
            "Real Answer: SELECT MAX(played) FROM table_name_62 WHERE drawn > 0 AND lost < 3 AND points < 27\n",
            "Generated Answer: SELECT MAX(played) FROM table_name_62 WHERE drawn > 0 AND lost < 3 AND points < 27\n",
            "\n",
            "\n",
            "Similarity Score: 1.0\n",
            "Feedback: ('approve', 'SELECT MAX(played) FROM table_name_62 WHERE drawn > 0 AND lost < 3 AND points < 27')\n",
            "\n",
            "\n",
            "Success!\n",
            "Success Answer: SELECT MAX(played) FROM table_name_62 WHERE drawn > 0 AND lost < 3 AND points < 27\n",
            "\n",
            "\n"
          ]
        },
        {
          "output_type": "stream",
          "name": "stderr",
          "text": [
            "\r 22%|██▏       | 222/1000 [09:45<33:42,  2.60s/it]"
          ]
        },
        {
          "output_type": "stream",
          "name": "stdout",
          "text": [
            "\n",
            "\n",
            "Question: What date did the episode that had 8.84 million u.s. viewers originally air?\n",
            "\n",
            "Real Answer: SELECT original_air_date FROM table_28768925_1 WHERE us_viewers__million_ = \"8.84\"\n",
            "Generated Answer: SELECT original_air_date FROM table_28768925_1 WHERE us_viewers__million_ = \"8.84\"\n",
            "\n",
            "\n",
            "Similarity Score: 0.9999997\n",
            "Feedback: ('approve', 'SELECT original_air_date FROM table_28768925_1 WHERE us_viewers__million_ = \"8.84\"')\n",
            "\n",
            "\n",
            "Success!\n",
            "Success Answer: SELECT original_air_date FROM table_28768925_1 WHERE us_viewers__million_ = \"8.84\"\n",
            "\n",
            "\n"
          ]
        },
        {
          "output_type": "stream",
          "name": "stderr",
          "text": [
            "\r 22%|██▏       | 223/1000 [09:49<38:56,  3.01s/it]"
          ]
        },
        {
          "output_type": "stream",
          "name": "stdout",
          "text": [
            "\n",
            "\n",
            "Question: What is the market income per capita in a county where the status is distressed and the unemployment rate is at 10.5%? \n",
            "\n",
            "Real Answer: SELECT market_income_per_capita FROM table_22815568_3 WHERE status = \"Distressed\" AND unemployment_rate = \"10.5%\"\n",
            "Generated Answer: SELECT market_income_per_capita FROM table_22815568_3 WHERE status = \"Distressed\" AND unemployment_rate = \"10.5%\"\n",
            "\n",
            "\n",
            "Similarity Score: 1.0000001\n",
            "Feedback: ('approve', 'SELECT market_income_per_capita FROM table_22815568_3 WHERE status = \"Distressed\" AND unemployment_rate = \"10.5%\"')\n",
            "\n",
            "\n",
            "Success!\n",
            "Success Answer: SELECT market_income_per_capita FROM table_22815568_3 WHERE status = \"Distressed\" AND unemployment_rate = \"10.5%\"\n",
            "\n",
            "\n"
          ]
        },
        {
          "output_type": "stream",
          "name": "stderr",
          "text": [
            "\r 22%|██▏       | 224/1000 [09:52<36:23,  2.81s/it]"
          ]
        },
        {
          "output_type": "stream",
          "name": "stdout",
          "text": [
            "\n",
            "\n",
            "Question: What is the Week number with an Attendance of 62,123?\n",
            "\n",
            "Real Answer: SELECT COUNT(week) FROM table_name_78 WHERE attendance = \"62,123\"\n",
            "Generated Answer: SELECT COUNT(week) FROM table_name_78 WHERE attendance = \"62,123\"\n",
            "\n",
            "\n",
            "Similarity Score: 1.0\n",
            "Feedback: ('approve', 'SELECT COUNT(week) FROM table_name_78 WHERE attendance = \"62,123\"')\n",
            "\n",
            "\n",
            "Success!\n",
            "Success Answer: SELECT COUNT(week) FROM table_name_78 WHERE attendance = \"62,123\"\n",
            "\n",
            "\n"
          ]
        },
        {
          "output_type": "stream",
          "name": "stderr",
          "text": [
            "\r 22%|██▎       | 225/1000 [10:02<1:06:07,  5.12s/it]"
          ]
        },
        {
          "output_type": "stream",
          "name": "stdout",
          "text": [
            "\n",
            "\n",
            "Question: What are the name and payment method of customers who have both mailshots in 'Order' outcome and mailshots in 'No Response' outcome.\n",
            "\n",
            "Real Answer: SELECT T2.customer_name, T2.payment_method FROM mailshot_customers AS T1 JOIN customers AS T2 ON T1.customer_id = T2.customer_id WHERE T1.outcome_code = 'Order' INTERSECT SELECT T2.customer_name, T2.payment_method FROM mailshot_customers AS T1 JOIN customers AS T2 ON T1.customer_id = T2.customer_id WHERE T1.outcome_code = 'No Response'\n",
            "Generated Answer: SELECT T2.customer_name, T2.payment_method FROM mailshot_customers AS T1 JOIN customers AS T2 ON T1.customer_id = T2.customer_id WHERE T1.outcome_code = 'Order' INTERSECT SELECT T2.customer_name, T2.payment_method FROM mailshot_customers AS T1 JOIN customers AS T2 ON T1.customer_id = T2.customer_id WHERE T1.outcome_code = 'No Response'\n",
            "\n",
            "\n",
            "Similarity Score: 1.0000002\n",
            "Feedback: ('approve', \"SELECT T2.customer_name, T2.payment_method FROM mailshot_customers AS T1 JOIN customers AS T2 ON T1.customer_id = T2.customer_id WHERE T1.outcome_code = 'Order' INTERSECT SELECT T2.customer_name, T2.payment_method FROM mailshot_customers AS T1 JOIN customers AS T2 ON T1.customer_id = T2.customer_id WHERE T1.outcome_code = 'No Response'\")\n",
            "\n",
            "\n",
            "Success!\n",
            "Success Answer: SELECT T2.customer_name, T2.payment_method FROM mailshot_customers AS T1 JOIN customers AS T2 ON T1.customer_id = T2.customer_id WHERE T1.outcome_code = 'Order' INTERSECT SELECT T2.customer_name, T2.payment_method FROM mailshot_customers AS T1 JOIN customers AS T2 ON T1.customer_id = T2.customer_id WHERE T1.outcome_code = 'No Response'\n",
            "\n",
            "\n"
          ]
        },
        {
          "output_type": "stream",
          "name": "stderr",
          "text": [
            "\r 23%|██▎       | 226/1000 [10:04<54:11,  4.20s/it]  "
          ]
        },
        {
          "output_type": "stream",
          "name": "stdout",
          "text": [
            "\n",
            "\n",
            "Question: What was the to par of the tournament that had Ken Duke as a runner-up?\n",
            "\n",
            "Real Answer: SELECT to_par FROM table_name_56 WHERE runner_up = \"ken duke\"\n",
            "Generated Answer: SELECT to_par FROM table_name_56 WHERE runner_up = \"ken duke\"\n",
            "\n",
            "\n",
            "Similarity Score: 1.0\n",
            "Feedback: ('approve', 'SELECT to_par FROM table_name_56 WHERE runner_up = \"ken duke\"')\n",
            "\n",
            "\n",
            "Success!\n",
            "Success Answer: SELECT to_par FROM table_name_56 WHERE runner_up = \"ken duke\"\n",
            "\n",
            "\n"
          ]
        },
        {
          "output_type": "stream",
          "name": "stderr",
          "text": [
            "\r 23%|██▎       | 227/1000 [10:07<47:16,  3.67s/it]"
          ]
        },
        {
          "output_type": "stream",
          "name": "stdout",
          "text": [
            "\n",
            "\n",
            "Question: What is the average price for each type of product?\n",
            "\n",
            "Real Answer: SELECT product_type_code, AVG(product_price) FROM products GROUP BY product_type_code\n",
            "Generated Answer: SELECT product_type_code, AVG(product_price) FROM products GROUP BY product_type_code\n",
            "\n",
            "\n",
            "Similarity Score: 1.0000002\n",
            "Feedback: ('approve', 'SELECT product_type_code, AVG(product_price) FROM products GROUP BY product_type_code')\n",
            "\n",
            "\n",
            "Success!\n",
            "Success Answer: SELECT product_type_code, AVG(product_price) FROM products GROUP BY product_type_code\n",
            "\n",
            "\n"
          ]
        },
        {
          "output_type": "stream",
          "name": "stderr",
          "text": [
            "\r 23%|██▎       | 228/1000 [10:09<43:18,  3.37s/it]"
          ]
        },
        {
          "output_type": "stream",
          "name": "stdout",
          "text": [
            "\n",
            "\n",
            "Question: What is the gold number when the total is less than 8, silver less than 1 and the rank is more than 7?\n",
            "\n",
            "Real Answer: SELECT COUNT(gold) FROM table_name_40 WHERE total < 8 AND silver < 1 AND rank > 7\n",
            "Generated Answer: SELECT COUNT(gold) FROM table_name_40 WHERE total < 8 AND silver < 1 AND rank > 7\n",
            "\n",
            "\n",
            "Similarity Score: 1.0\n",
            "Feedback: ('approve', 'SELECT COUNT(gold) FROM table_name_40 WHERE total < 8 AND silver < 1 AND rank > 7')\n",
            "\n",
            "\n",
            "Success!\n",
            "Success Answer: SELECT COUNT(gold) FROM table_name_40 WHERE total < 8 AND silver < 1 AND rank > 7\n",
            "\n",
            "\n"
          ]
        },
        {
          "output_type": "stream",
          "name": "stderr",
          "text": [
            "\r 23%|██▎       | 229/1000 [10:11<37:18,  2.90s/it]"
          ]
        },
        {
          "output_type": "stream",
          "name": "stdout",
          "text": [
            "\n",
            "\n",
            "Question: What place was Corey Pavin in?\n",
            "\n",
            "Real Answer: SELECT place FROM table_name_57 WHERE player = \"corey pavin\"\n",
            "Generated Answer: SELECT place FROM table_name_57 WHERE player = \"corey pavin\"\n",
            "\n",
            "\n",
            "Similarity Score: 1.0\n",
            "Feedback: ('approve', 'SELECT place FROM table_name_57 WHERE player = \"corey pavin\"')\n",
            "\n",
            "\n",
            "Success!\n",
            "Success Answer: SELECT place FROM table_name_57 WHERE player = \"corey pavin\"\n",
            "\n",
            "\n"
          ]
        },
        {
          "output_type": "stream",
          "name": "stderr",
          "text": [
            "\r 23%|██▎       | 230/1000 [10:15<39:40,  3.09s/it]"
          ]
        },
        {
          "output_type": "stream",
          "name": "stdout",
          "text": [
            "\n",
            "\n",
            "Question: Which Drawn is the average one that has a Position smaller than 9, and Points smaller than 22, and a Lost smaller than 9, and an Against larger than 29?\n",
            "\n",
            "Real Answer: SELECT AVG(drawn) FROM table_name_76 WHERE position < 9 AND points < 22 AND lost < 9 AND against > 29\n",
            "Generated Answer: SELECT AVG(drawn) FROM table_name_76 WHERE position < 9 AND points < 22 AND lost < 9 AND against > 29\n",
            "\n",
            "\n",
            "Similarity Score: 1.0\n",
            "Feedback: ('approve', 'SELECT AVG(drawn) FROM table_name_76 WHERE position < 9 AND points < 22 AND lost < 9 AND against > 29')\n",
            "\n",
            "\n",
            "Success!\n",
            "Success Answer: SELECT AVG(drawn) FROM table_name_76 WHERE position < 9 AND points < 22 AND lost < 9 AND against > 29\n",
            "\n",
            "\n"
          ]
        },
        {
          "output_type": "stream",
          "name": "stderr",
          "text": [
            "\r 23%|██▎       | 231/1000 [10:17<35:32,  2.77s/it]"
          ]
        },
        {
          "output_type": "stream",
          "name": "stdout",
          "text": [
            "\n",
            "\n",
            "Question: Who was the losing team on June 16?\n",
            "\n",
            "Real Answer: SELECT losing_team FROM table_name_25 WHERE date = \"june 16\"\n",
            "Generated Answer: SELECT losing_team FROM table_name_25 WHERE date = \"june 16\"\n",
            "\n",
            "\n",
            "Similarity Score: 1.0\n",
            "Feedback: ('approve', 'SELECT losing_team FROM table_name_25 WHERE date = \"june 16\"')\n",
            "\n",
            "\n",
            "Success!\n",
            "Success Answer: SELECT losing_team FROM table_name_25 WHERE date = \"june 16\"\n",
            "\n",
            "\n"
          ]
        },
        {
          "output_type": "stream",
          "name": "stderr",
          "text": [
            "\r 23%|██▎       | 232/1000 [10:19<35:07,  2.74s/it]"
          ]
        },
        {
          "output_type": "stream",
          "name": "stdout",
          "text": [
            "\n",
            "\n",
            "Question: What is Liscumb when Haydon is 1632?\n",
            "\n",
            "Real Answer: SELECT liscumb FROM table_11447995_2 WHERE haydon = \"1632\"\n",
            "Generated Answer: SELECT liscumb FROM table_11447995_2 WHERE haydon = \"1632\"\n",
            "\n",
            "\n",
            "Similarity Score: 1.0000001\n",
            "Feedback: ('approve', 'SELECT liscumb FROM table_11447995_2 WHERE haydon = \"1632\"')\n",
            "\n",
            "\n",
            "Success!\n",
            "Success Answer: SELECT liscumb FROM table_11447995_2 WHERE haydon = \"1632\"\n",
            "\n",
            "\n"
          ]
        },
        {
          "output_type": "stream",
          "name": "stderr",
          "text": [
            "\r 23%|██▎       | 233/1000 [10:22<34:17,  2.68s/it]"
          ]
        },
        {
          "output_type": "stream",
          "name": "stdout",
          "text": [
            "\n",
            "\n",
            "Question: How many clubs are there in the Korea Republic?\n",
            "\n",
            "Real Answer: SELECT clubs FROM table_19412902_2 WHERE member_association = \"Korea Republic\"\n",
            "Generated Answer: SELECT clubs FROM table_19412902_2 WHERE member_association = \"Korea Republic\"\n",
            "\n",
            "\n",
            "Similarity Score: 1.0\n",
            "Feedback: ('approve', 'SELECT clubs FROM table_19412902_2 WHERE member_association = \"Korea Republic\"')\n",
            "\n",
            "\n",
            "Success!\n",
            "Success Answer: SELECT clubs FROM table_19412902_2 WHERE member_association = \"Korea Republic\"\n",
            "\n",
            "\n"
          ]
        },
        {
          "output_type": "stream",
          "name": "stderr",
          "text": [
            "\r 23%|██▎       | 234/1000 [10:28<48:53,  3.83s/it]"
          ]
        },
        {
          "output_type": "stream",
          "name": "stdout",
          "text": [
            "\n",
            "\n",
            "Question: What are names of the movies that are either made after 2000 or reviewed by Brittany Harris?\n",
            "\n",
            "Real Answer: SELECT DISTINCT T2.title FROM Rating AS T1 JOIN Movie AS T2 ON T1.mID = T2.mID JOIN Reviewer AS T3 ON T1.rID = T3.rID WHERE T3.name = 'Brittany Harris' OR T2.year > 2000\n",
            "Generated Answer: SELECT T3.title FROM Reviewer AS T1 JOIN Rating AS T2 ON T1.rID = T2.mID JOIN Movie AS T3 ON T2.mID = T3.mID WHERE T3.year > 2000 OR T1.name = 'Brittany Harris'\n",
            "\n",
            "\n",
            "Similarity Score: 0.9355271\n",
            "Feedback: ('approve', \"SELECT T3.title FROM Reviewer AS T1 JOIN Rating AS T2 ON T1.rID = T2.mID JOIN Movie AS T3 ON T2.mID = T3.mID WHERE T3.year > 2000 OR T1.name = 'Brittany Harris'\")\n",
            "\n",
            "\n",
            "Real Answer: SELECT DISTINCT T2.title FROM Rating AS T1 JOIN Movie AS T2 ON T1.mID = T2.mID JOIN Reviewer AS T3 ON T1.rID = T3.rID WHERE T3.name = 'Brittany Harris' OR T2.year > 2000\n",
            "Failed Answer: SELECT T3.title FROM Reviewer AS T1 JOIN Rating AS T2 ON T1.rID = T2.mID JOIN Movie AS T3 ON T2.mID = T3.mID WHERE T3.year > 2000 OR T1.name = 'Brittany Harris'\n",
            "\n",
            "\n"
          ]
        },
        {
          "output_type": "stream",
          "name": "stderr",
          "text": [
            "\r 24%|██▎       | 235/1000 [10:32<47:20,  3.71s/it]"
          ]
        },
        {
          "output_type": "stream",
          "name": "stdout",
          "text": [
            "\n",
            "\n",
            "Question: What is the unemployment rate in those places where the market income per capita is $16,981?\n",
            "\n",
            "Real Answer: SELECT COUNT(unemployment_rate) FROM table_22815568_7 WHERE market_income_per_capita = \"$16,981\"\n",
            "Generated Answer: SELECT unemployment_rate FROM table_22815568_7 WHERE market_income_per_capita = \"$16,981\"\n",
            "\n",
            "\n",
            "Similarity Score: 0.84610707\n",
            "Feedback: ('approve', 'SELECT unemployment_rate FROM table_22815568_7 WHERE market_income_per_capita = \"$16,981\"')\n",
            "\n",
            "\n",
            "Real Answer: SELECT COUNT(unemployment_rate) FROM table_22815568_7 WHERE market_income_per_capita = \"$16,981\"\n",
            "Failed Answer: SELECT unemployment_rate FROM table_22815568_7 WHERE market_income_per_capita = \"$16,981\"\n",
            "\n",
            "\n"
          ]
        },
        {
          "output_type": "stream",
          "name": "stderr",
          "text": [
            "\r 24%|██▎       | 236/1000 [10:34<41:15,  3.24s/it]"
          ]
        },
        {
          "output_type": "stream",
          "name": "stdout",
          "text": [
            "\n",
            "\n",
            "Question: Which team has 123 points agaibst the other team?\n",
            "\n",
            "Real Answer: SELECT team FROM table_name_83 WHERE points_against = \"123\"\n",
            "Generated Answer: SELECT team FROM table_name_83 WHERE points_against = \"123\"\n",
            "\n",
            "\n",
            "Similarity Score: 1.0000001\n",
            "Feedback: ('approve', 'SELECT team FROM table_name_83 WHERE points_against = \"123\"')\n",
            "\n",
            "\n",
            "Success!\n",
            "Success Answer: SELECT team FROM table_name_83 WHERE points_against = \"123\"\n",
            "\n",
            "\n"
          ]
        },
        {
          "output_type": "stream",
          "name": "stderr",
          "text": [
            "\r 24%|██▎       | 237/1000 [10:36<36:48,  2.89s/it]"
          ]
        },
        {
          "output_type": "stream",
          "name": "stdout",
          "text": [
            "\n",
            "\n",
            "Question: In what club(s) does Tony Lockett play?\n",
            "\n",
            "Real Answer: SELECT club_clubs FROM table_name_11 WHERE player = \"tony lockett\"\n",
            "Generated Answer: SELECT club_clubs FROM table_name_11 WHERE player = \"tony lockett\"\n",
            "\n",
            "\n",
            "Similarity Score: 0.9999999\n",
            "Feedback: ('approve', 'SELECT club_clubs FROM table_name_11 WHERE player = \"tony lockett\"')\n",
            "\n",
            "\n",
            "Success!\n",
            "Success Answer: SELECT club_clubs FROM table_name_11 WHERE player = \"tony lockett\"\n",
            "\n",
            "\n"
          ]
        },
        {
          "output_type": "stream",
          "name": "stderr",
          "text": [
            "\r 24%|██▍       | 238/1000 [10:39<37:53,  2.98s/it]"
          ]
        },
        {
          "output_type": "stream",
          "name": "stdout",
          "text": [
            "\n",
            "\n",
            "Question: What was date of appointment for Ergün Penbe? \n",
            "\n",
            "Real Answer: SELECT date_of_appointment FROM table_27091128_2 WHERE replaced_by = \"Ergün Penbe\"\n",
            "Generated Answer: SELECT date_of_appointment FROM table_27091128_2 WHERE replaced_by = \"Ergün Penbe\"\n",
            "\n",
            "\n",
            "Similarity Score: 0.9999999\n",
            "Feedback: ('approve', 'SELECT date_of_appointment FROM table_27091128_2 WHERE replaced_by = \"Ergün Penbe\"')\n",
            "\n",
            "\n",
            "Success!\n",
            "Success Answer: SELECT date_of_appointment FROM table_27091128_2 WHERE replaced_by = \"Ergün Penbe\"\n",
            "\n",
            "\n"
          ]
        },
        {
          "output_type": "stream",
          "name": "stderr",
          "text": [
            "\r 24%|██▍       | 239/1000 [10:41<35:22,  2.79s/it]"
          ]
        },
        {
          "output_type": "stream",
          "name": "stdout",
          "text": [
            "\n",
            "\n",
            "Question: Who were the winner and nominees in 2001?\n",
            "\n",
            "Real Answer: SELECT winner_nominee_s_ FROM table_name_27 WHERE year = 2001\n",
            "Generated Answer: SELECT winner_nominee_s_ FROM table_name_27 WHERE year = 2001\n",
            "\n",
            "\n",
            "Similarity Score: 1.0000002\n",
            "Feedback: ('approve', 'SELECT winner_nominee_s_ FROM table_name_27 WHERE year = 2001')\n",
            "\n",
            "\n",
            "Success!\n",
            "Success Answer: SELECT winner_nominee_s_ FROM table_name_27 WHERE year = 2001\n",
            "\n",
            "\n"
          ]
        },
        {
          "output_type": "stream",
          "name": "stderr",
          "text": [
            "\r 24%|██▍       | 240/1000 [10:44<32:45,  2.59s/it]"
          ]
        },
        {
          "output_type": "stream",
          "name": "stdout",
          "text": [
            "\n",
            "\n",
            "Question: What is Result, when Date is 19 August 1992?\n",
            "\n",
            "Real Answer: SELECT result FROM table_name_40 WHERE date = \"19 august 1992\"\n",
            "Generated Answer: SELECT result FROM table_name_40 WHERE date = \"19 august 1992\"\n",
            "\n",
            "\n",
            "Similarity Score: 1.0000002\n",
            "Feedback: ('approve', 'SELECT result FROM table_name_40 WHERE date = \"19 august 1992\"')\n",
            "\n",
            "\n",
            "Success!\n",
            "Success Answer: SELECT result FROM table_name_40 WHERE date = \"19 august 1992\"\n",
            "\n",
            "\n"
          ]
        },
        {
          "output_type": "stream",
          "name": "stderr",
          "text": [
            "\r 24%|██▍       | 241/1000 [10:47<36:20,  2.87s/it]"
          ]
        },
        {
          "output_type": "stream",
          "name": "stdout",
          "text": [
            "\n",
            "\n",
            "Question: How many different numbers of Tot enlisted are there on the dates when the number of Enlisted o/s was 801471?\n",
            "\n",
            "Real Answer: SELECT COUNT(tot_enlisted) FROM table_23508196_2 WHERE enlisted_o_s = 801471\n",
            "Generated Answer: SELECT COUNT(tot_enlisted) FROM table_23508196_2 WHERE enlisted_o_s = 801471\n",
            "\n",
            "\n",
            "Similarity Score: 0.9999999\n",
            "Feedback: ('approve', 'SELECT COUNT(tot_enlisted) FROM table_23508196_2 WHERE enlisted_o_s = 801471')\n",
            "\n",
            "\n",
            "Success!\n",
            "Success Answer: SELECT COUNT(tot_enlisted) FROM table_23508196_2 WHERE enlisted_o_s = 801471\n",
            "\n",
            "\n"
          ]
        },
        {
          "output_type": "stream",
          "name": "stderr",
          "text": [
            "\r 24%|██▍       | 242/1000 [10:49<33:51,  2.68s/it]"
          ]
        },
        {
          "output_type": "stream",
          "name": "stdout",
          "text": [
            "\n",
            "\n",
            "Question: How many Gold medals for the country with a Rank of 1 and less than 2 Total medals?\n",
            "\n",
            "Real Answer: SELECT COUNT(gold) FROM table_name_57 WHERE rank = \"1\" AND total < 2\n",
            "Generated Answer: SELECT COUNT(gold) FROM table_name_57 WHERE rank = 1 AND total < 2\n",
            "\n",
            "\n",
            "Similarity Score: 0.9949752\n",
            "Feedback: ('approve', 'SELECT COUNT(gold) FROM table_name_57 WHERE rank = 1 AND total < 2')\n",
            "\n",
            "\n",
            "Real Answer: SELECT COUNT(gold) FROM table_name_57 WHERE rank = \"1\" AND total < 2\n",
            "Failed Answer: SELECT COUNT(gold) FROM table_name_57 WHERE rank = 1 AND total < 2\n",
            "\n",
            "\n"
          ]
        },
        {
          "output_type": "stream",
          "name": "stderr",
          "text": [
            "\r 24%|██▍       | 243/1000 [10:52<32:20,  2.56s/it]"
          ]
        },
        {
          "output_type": "stream",
          "name": "stdout",
          "text": [
            "\n",
            "\n",
            "Question: What was the away team's score against Hawthorn?\n",
            "\n",
            "Real Answer: SELECT away_team AS score FROM table_name_9 WHERE home_team = \"hawthorn\"\n",
            "Generated Answer: SELECT away_team AS score FROM table_name_9 WHERE home_team = \"hawthorn\"\n",
            "\n",
            "\n",
            "Similarity Score: 1.0\n",
            "Feedback: ('approve', 'SELECT away_team AS score FROM table_name_9 WHERE home_team = \"hawthorn\"')\n",
            "\n",
            "\n",
            "Success!\n",
            "Success Answer: SELECT away_team AS score FROM table_name_9 WHERE home_team = \"hawthorn\"\n",
            "\n",
            "\n"
          ]
        },
        {
          "output_type": "stream",
          "name": "stderr",
          "text": [
            "\r 24%|██▍       | 244/1000 [10:54<29:57,  2.38s/it]"
          ]
        },
        {
          "output_type": "stream",
          "name": "stdout",
          "text": [
            "\n",
            "\n",
            "Question: Name the record with opponent of christian nielson\n",
            "\n",
            "Real Answer: SELECT record FROM table_name_71 WHERE opponent = \"christian nielson\"\n",
            "Generated Answer: SELECT record FROM table_name_71 WHERE opponent = \"christian nielson\"\n",
            "\n",
            "\n",
            "Similarity Score: 1.0\n",
            "Feedback: ('approve', 'SELECT record FROM table_name_71 WHERE opponent = \"christian nielson\"')\n",
            "\n",
            "\n",
            "Success!\n",
            "Success Answer: SELECT record FROM table_name_71 WHERE opponent = \"christian nielson\"\n",
            "\n",
            "\n"
          ]
        },
        {
          "output_type": "stream",
          "name": "stderr",
          "text": [
            "\r 24%|██▍       | 245/1000 [10:57<33:09,  2.63s/it]"
          ]
        },
        {
          "output_type": "stream",
          "name": "stdout",
          "text": [
            "\n",
            "\n",
            "Question: What is the debut year for the player with fewer than 54 games, fewer than 8 goals and 1989 at club?\n",
            "\n",
            "Real Answer: SELECT AVG(debut_year) FROM table_name_6 WHERE games < 54 AND years_at_club = \"1989\" AND goals < 8\n",
            "Generated Answer: SELECT MIN(debut_year) FROM table_name_6 WHERE games < 54 AND years_at_club = \"1989\"\n",
            "\n",
            "\n",
            "Similarity Score: 0.6757208\n",
            "Feedback: ('correct', 'SELECT AVG(debut_year) FROM table_name_6 WHERE games < 54 AND years_at_club = \"1989\" AND goals < 8')\n",
            "\n",
            "\n",
            "Real Answer: SELECT AVG(debut_year) FROM table_name_6 WHERE games < 54 AND years_at_club = \"1989\" AND goals < 8\n",
            "Failed Answer: SELECT MIN(debut_year) FROM table_name_6 WHERE games < 54 AND years_at_club = \"1989\"\n",
            "\n",
            "\n"
          ]
        },
        {
          "output_type": "stream",
          "name": "stderr",
          "text": [
            "\r 25%|██▍       | 246/1000 [11:00<35:36,  2.83s/it]"
          ]
        },
        {
          "output_type": "stream",
          "name": "stdout",
          "text": [
            "\n",
            "\n",
            "Question: Name the 2009 for when 2007 is 3r and 2010 is q2\n",
            "\n",
            "Real Answer: SELECT 2009 FROM table_name_52 WHERE 2007 = \"3r\" AND 2010 = \"q2\"\n",
            "Generated Answer: SELECT 2009 FROM table_name_52 WHERE 2007 = \"3r\" AND 2010 = \"q2\"\n",
            "\n",
            "\n",
            "Similarity Score: 1.0\n",
            "Feedback: ('approve', 'SELECT 2009 FROM table_name_52 WHERE 2007 = \"3r\" AND 2010 = \"q2\"')\n",
            "\n",
            "\n",
            "Success!\n",
            "Success Answer: SELECT 2009 FROM table_name_52 WHERE 2007 = \"3r\" AND 2010 = \"q2\"\n",
            "\n",
            "\n"
          ]
        },
        {
          "output_type": "stream",
          "name": "stderr",
          "text": [
            "\r 25%|██▍       | 247/1000 [11:03<34:31,  2.75s/it]"
          ]
        },
        {
          "output_type": "stream",
          "name": "stdout",
          "text": [
            "\n",
            "\n",
            "Question: Name the Against which has a Venue of wembley stadium , london?\n",
            "\n",
            "Real Answer: SELECT MAX(against) FROM table_name_91 WHERE venue = \"wembley stadium , london\"\n",
            "Generated Answer: SELECT MIN(against) FROM table_name_91 WHERE venue = \"wembley stadium, london\"\n",
            "\n",
            "\n",
            "Similarity Score: 0.71470153\n",
            "Feedback: ('correct', 'SELECT MAX(against) FROM table_name_91 WHERE venue = \"wembley stadium , london\"')\n",
            "\n",
            "\n",
            "Real Answer: SELECT MAX(against) FROM table_name_91 WHERE venue = \"wembley stadium , london\"\n",
            "Failed Answer: SELECT MIN(against) FROM table_name_91 WHERE venue = \"wembley stadium, london\"\n",
            "\n",
            "\n"
          ]
        },
        {
          "output_type": "stream",
          "name": "stderr",
          "text": [
            "\r 25%|██▍       | 248/1000 [11:04<29:33,  2.36s/it]"
          ]
        },
        {
          "output_type": "stream",
          "name": "stdout",
          "text": [
            "\n",
            "\n",
            "Question: What are the different parties of representative? Show the party name and the number of representatives in each party.\n",
            "\n",
            "Real Answer: SELECT Party, COUNT(*) FROM representative GROUP BY Party\n",
            "Generated Answer: SELECT Party, COUNT(*) FROM representative GROUP BY Party\n",
            "\n",
            "\n",
            "Similarity Score: 1.0000001\n",
            "Feedback: ('approve', 'SELECT Party, COUNT(*) FROM representative GROUP BY Party')\n",
            "\n",
            "\n",
            "Success!\n",
            "Success Answer: SELECT Party, COUNT(*) FROM representative GROUP BY Party\n",
            "\n",
            "\n"
          ]
        },
        {
          "output_type": "stream",
          "name": "stderr",
          "text": [
            "\r 25%|██▍       | 249/1000 [11:06<28:56,  2.31s/it]"
          ]
        },
        {
          "output_type": "stream",
          "name": "stdout",
          "text": [
            "\n",
            "\n",
            "Question: Which Platform has an Actual version of 0.8.29?\n",
            "\n",
            "Real Answer: SELECT platform FROM table_name_96 WHERE actual_version = \"0.8.29\"\n",
            "Generated Answer: SELECT platform FROM table_name_96 WHERE actual_version = \"0.8.29\"\n",
            "\n",
            "\n",
            "Similarity Score: 0.9999999\n",
            "Feedback: ('approve', 'SELECT platform FROM table_name_96 WHERE actual_version = \"0.8.29\"')\n",
            "\n",
            "\n",
            "Success!\n",
            "Success Answer: SELECT platform FROM table_name_96 WHERE actual_version = \"0.8.29\"\n",
            "\n",
            "\n"
          ]
        },
        {
          "output_type": "stream",
          "name": "stderr",
          "text": [
            "\r 25%|██▌       | 250/1000 [11:09<29:15,  2.34s/it]"
          ]
        },
        {
          "output_type": "stream",
          "name": "stdout",
          "text": [
            "\n",
            "\n",
            "Question: Which Series has a Site of ames and a Sport of w gymnastics?\n",
            "\n",
            "Real Answer: SELECT series FROM table_name_13 WHERE site = \"ames\" AND sport = \"w gymnastics\"\n",
            "Generated Answer: SELECT series FROM table_name_13 WHERE site = \"ames\" AND sport = \"w gymnastics\"\n",
            "\n",
            "\n",
            "Similarity Score: 1.0\n",
            "Feedback: ('approve', 'SELECT series FROM table_name_13 WHERE site = \"ames\" AND sport = \"w gymnastics\"')\n",
            "\n",
            "\n",
            "Success!\n",
            "Success Answer: SELECT series FROM table_name_13 WHERE site = \"ames\" AND sport = \"w gymnastics\"\n",
            "\n",
            "\n"
          ]
        },
        {
          "output_type": "stream",
          "name": "stderr",
          "text": [
            "\r 25%|██▌       | 251/1000 [11:12<31:09,  2.50s/it]"
          ]
        },
        {
          "output_type": "stream",
          "name": "stdout",
          "text": [
            "\n",
            "\n",
            "Question: What are the highest points for Justin Lofton when his top 10 is lower than 5?\n",
            "\n",
            "Real Answer: SELECT MAX(points) FROM table_name_14 WHERE driver = \"justin lofton\" AND top_10 < 5\n",
            "Generated Answer: SELECT MAX(points) FROM table_name_14 WHERE driver = \"justin lofton\" AND top_10 < 5\n",
            "\n",
            "\n",
            "Similarity Score: 1.0\n",
            "Feedback: ('approve', 'SELECT MAX(points) FROM table_name_14 WHERE driver = \"justin lofton\" AND top_10 < 5')\n",
            "\n",
            "\n",
            "Success!\n",
            "Success Answer: SELECT MAX(points) FROM table_name_14 WHERE driver = \"justin lofton\" AND top_10 < 5\n",
            "\n",
            "\n"
          ]
        },
        {
          "output_type": "stream",
          "name": "stderr",
          "text": [
            "\r 25%|██▌       | 252/1000 [11:14<32:36,  2.62s/it]"
          ]
        },
        {
          "output_type": "stream",
          "name": "stdout",
          "text": [
            "\n",
            "\n",
            "Question: Who was on the pole position at the monaco grand prix?\n",
            "\n",
            "Real Answer: SELECT pole_position FROM table_1137695_3 WHERE grand_prix = \"Monaco grand_prix\"\n",
            "Generated Answer: SELECT pole_position FROM table_1137695_3 WHERE grand_prix = \"Monaco grand_prix\"\n",
            "\n",
            "\n",
            "Similarity Score: 0.9999999\n",
            "Feedback: ('approve', 'SELECT pole_position FROM table_1137695_3 WHERE grand_prix = \"Monaco grand_prix\"')\n",
            "\n",
            "\n",
            "Success!\n",
            "Success Answer: SELECT pole_position FROM table_1137695_3 WHERE grand_prix = \"Monaco grand_prix\"\n",
            "\n",
            "\n"
          ]
        },
        {
          "output_type": "stream",
          "name": "stderr",
          "text": [
            "\r 25%|██▌       | 253/1000 [11:17<30:48,  2.47s/it]"
          ]
        },
        {
          "output_type": "stream",
          "name": "stdout",
          "text": [
            "\n",
            "\n",
            "Question: What is the San Antonio's team score?\n",
            "\n",
            "Real Answer: SELECT score FROM table_17288825_5 WHERE team = \"San Antonio\"\n",
            "Generated Answer: SELECT score FROM table_17288825_5 WHERE team = \"San Antonio\"\n",
            "\n",
            "\n",
            "Similarity Score: 1.0000002\n",
            "Feedback: ('approve', 'SELECT score FROM table_17288825_5 WHERE team = \"San Antonio\"')\n",
            "\n",
            "\n",
            "Success!\n",
            "Success Answer: SELECT score FROM table_17288825_5 WHERE team = \"San Antonio\"\n",
            "\n",
            "\n"
          ]
        },
        {
          "output_type": "stream",
          "name": "stderr",
          "text": [
            "\r 25%|██▌       | 254/1000 [11:19<31:29,  2.53s/it]"
          ]
        },
        {
          "output_type": "stream",
          "name": "stdout",
          "text": [
            "\n",
            "\n",
            "Question: WHich Record has a Visitor of quebec nordiques with a Score of 7–5?\n",
            "\n",
            "Real Answer: SELECT record FROM table_name_37 WHERE visitor = \"quebec nordiques\" AND score = \"7–5\"\n",
            "Generated Answer: SELECT record FROM table_name_37 WHERE visitor = \"quebec nordiques\" AND score = \"7–5\"\n",
            "\n",
            "\n",
            "Similarity Score: 1.0000001\n",
            "Feedback: ('approve', 'SELECT record FROM table_name_37 WHERE visitor = \"quebec nordiques\" AND score = \"7–5\"')\n",
            "\n",
            "\n",
            "Success!\n",
            "Success Answer: SELECT record FROM table_name_37 WHERE visitor = \"quebec nordiques\" AND score = \"7–5\"\n",
            "\n",
            "\n"
          ]
        },
        {
          "output_type": "stream",
          "name": "stderr",
          "text": [
            "\r 26%|██▌       | 255/1000 [11:21<29:53,  2.41s/it]"
          ]
        },
        {
          "output_type": "stream",
          "name": "stdout",
          "text": [
            "\n",
            "\n",
            "Question: Where did steve smith go to school?\n",
            "\n",
            "Real Answer: SELECT school_club_team FROM table_name_53 WHERE player = \"steve smith\"\n",
            "Generated Answer: SELECT school_club_team FROM table_name_53 WHERE player = \"steve smith\"\n",
            "\n",
            "\n",
            "Similarity Score: 1.0000001\n",
            "Feedback: ('approve', 'SELECT school_club_team FROM table_name_53 WHERE player = \"steve smith\"')\n",
            "\n",
            "\n",
            "Success!\n",
            "Success Answer: SELECT school_club_team FROM table_name_53 WHERE player = \"steve smith\"\n",
            "\n",
            "\n"
          ]
        },
        {
          "output_type": "stream",
          "name": "stderr",
          "text": [
            "\r 26%|██▌       | 256/1000 [11:24<29:37,  2.39s/it]"
          ]
        },
        {
          "output_type": "stream",
          "name": "stdout",
          "text": [
            "\n",
            "\n",
            "Question: What was the score in the game that had a record of 25-8?\n",
            "\n",
            "Real Answer: SELECT score FROM table_18904831_7 WHERE record = \"25-8\"\n",
            "Generated Answer: SELECT score FROM table_18904831_7 WHERE record = \"25-8\"\n",
            "\n",
            "\n",
            "Similarity Score: 1.0000002\n",
            "Feedback: ('approve', 'SELECT score FROM table_18904831_7 WHERE record = \"25-8\"')\n",
            "\n",
            "\n",
            "Success!\n",
            "Success Answer: SELECT score FROM table_18904831_7 WHERE record = \"25-8\"\n",
            "\n",
            "\n"
          ]
        },
        {
          "output_type": "stream",
          "name": "stderr",
          "text": [
            "\r 26%|██▌       | 257/1000 [11:26<30:08,  2.43s/it]"
          ]
        },
        {
          "output_type": "stream",
          "name": "stdout",
          "text": [
            "\n",
            "\n",
            "Question: What is the height of the building built by architects Ross and Macfarlane?\n",
            "\n",
            "Real Answer: SELECT height_[m] FROM table_name_27 WHERE architect = \"ross and macfarlane\"\n",
            "Generated Answer: SELECT height_ FROM table_name_27 WHERE m > 0 AND architect = \"ross and macfarlane\"\n",
            "\n",
            "\n",
            "Similarity Score: 0.9765902\n",
            "Feedback: ('approve', 'SELECT height_ FROM table_name_27 WHERE m > 0 AND architect = \"ross and macfarlane\"')\n",
            "\n",
            "\n",
            "Real Answer: SELECT height_[m] FROM table_name_27 WHERE architect = \"ross and macfarlane\"\n",
            "Failed Answer: SELECT height_ FROM table_name_27 WHERE m > 0 AND architect = \"ross and macfarlane\"\n",
            "\n",
            "\n"
          ]
        },
        {
          "output_type": "stream",
          "name": "stderr",
          "text": [
            "\r 26%|██▌       | 258/1000 [11:28<29:03,  2.35s/it]"
          ]
        },
        {
          "output_type": "stream",
          "name": "stdout",
          "text": [
            "\n",
            "\n",
            "Question: What was the attendance when the away team was Real Espana?\n",
            "\n",
            "Real Answer: SELECT MIN(attendance) FROM table_name_67 WHERE away = \"real espana\"\n",
            "Generated Answer: SELECT SUM(attendance) FROM table_name_67 WHERE away = \"real espana\"\n",
            "\n",
            "\n",
            "Similarity Score: 0.77650464\n",
            "Feedback: ('correct', 'SELECT MIN(attendance) FROM table_name_67 WHERE away = \"real espana\"')\n",
            "\n",
            "\n",
            "Real Answer: SELECT MIN(attendance) FROM table_name_67 WHERE away = \"real espana\"\n",
            "Failed Answer: SELECT SUM(attendance) FROM table_name_67 WHERE away = \"real espana\"\n",
            "\n",
            "\n"
          ]
        },
        {
          "output_type": "stream",
          "name": "stderr",
          "text": [
            "\r 26%|██▌       | 259/1000 [11:32<33:58,  2.75s/it]"
          ]
        },
        {
          "output_type": "stream",
          "name": "stdout",
          "text": [
            "\n",
            "\n",
            "Question: How many times at most can a course enrollment result show in different transcripts? Also show the course enrollment id.\n",
            "\n",
            "Real Answer: SELECT COUNT(*), student_course_id FROM Transcript_Contents GROUP BY student_course_id ORDER BY COUNT(*) DESC LIMIT 1\n",
            "Generated Answer: SELECT COUNT(DISTINCT student_course_id) FROM Transcript_Contents GROUP BY student_course_id ORDER BY student_course_id LIMIT 1\n",
            "\n",
            "\n",
            "Similarity Score: 0.96049446\n",
            "Feedback: ('approve', 'SELECT COUNT(DISTINCT student_course_id) FROM Transcript_Contents GROUP BY student_course_id ORDER BY student_course_id LIMIT 1')\n",
            "\n",
            "\n",
            "Real Answer: SELECT COUNT(*), student_course_id FROM Transcript_Contents GROUP BY student_course_id ORDER BY COUNT(*) DESC LIMIT 1\n",
            "Failed Answer: SELECT COUNT(DISTINCT student_course_id) FROM Transcript_Contents GROUP BY student_course_id ORDER BY student_course_id LIMIT 1\n",
            "\n",
            "\n"
          ]
        },
        {
          "output_type": "stream",
          "name": "stderr",
          "text": [
            "\r 26%|██▌       | 260/1000 [11:35<35:46,  2.90s/it]"
          ]
        },
        {
          "output_type": "stream",
          "name": "stdout",
          "text": [
            "\n",
            "\n",
            "Question: What party's candidate was re-elected in the Louisiana 6 district?\n",
            "\n",
            "Real Answer: SELECT party FROM table_1342149_18 WHERE result = \"Re-elected\" AND district = \"Louisiana 6\"\n",
            "Generated Answer: SELECT party FROM table_1342149_18 WHERE result = \"Re-elected\" AND district = \"Louisiana 6\"\n",
            "\n",
            "\n",
            "Similarity Score: 1.0\n",
            "Feedback: ('approve', 'SELECT party FROM table_1342149_18 WHERE result = \"Re-elected\" AND district = \"Louisiana 6\"')\n",
            "\n",
            "\n",
            "Success!\n",
            "Success Answer: SELECT party FROM table_1342149_18 WHERE result = \"Re-elected\" AND district = \"Louisiana 6\"\n",
            "\n",
            "\n"
          ]
        },
        {
          "output_type": "stream",
          "name": "stderr",
          "text": [
            "\r 26%|██▌       | 261/1000 [11:38<35:23,  2.87s/it]"
          ]
        },
        {
          "output_type": "stream",
          "name": "stdout",
          "text": [
            "\n",
            "\n",
            "Question: What is the date for the La Granja de San Ildefonso to Alto de Navacerrada course?\n",
            "\n",
            "Real Answer: SELECT date FROM table_name_67 WHERE course = \"la granja de san ildefonso to alto de navacerrada\"\n",
            "Generated Answer: SELECT date FROM table_name_67 WHERE course = \"la granja de san ildefonso to alto de navacerrada\"\n",
            "\n",
            "\n",
            "Similarity Score: 0.9999999\n",
            "Feedback: ('approve', 'SELECT date FROM table_name_67 WHERE course = \"la granja de san ildefonso to alto de navacerrada\"')\n",
            "\n",
            "\n",
            "Success!\n",
            "Success Answer: SELECT date FROM table_name_67 WHERE course = \"la granja de san ildefonso to alto de navacerrada\"\n",
            "\n",
            "\n"
          ]
        },
        {
          "output_type": "stream",
          "name": "stderr",
          "text": [
            "\r 26%|██▌       | 262/1000 [11:42<36:54,  3.00s/it]"
          ]
        },
        {
          "output_type": "stream",
          "name": "stdout",
          "text": [
            "\n",
            "\n",
            "Question: What draft pick number attended syracuse and was drafted by the Carolina panthers?\n",
            "\n",
            "Real Answer: SELECT SUM(pick__number) FROM table_name_38 WHERE nfl_team = \"carolina panthers\" AND college = \"syracuse\"\n",
            "Generated Answer: SELECT MIN(pick__number) FROM table_name_38 WHERE nfl_team = \"carolina panthers\" AND college = \"syracuse\"\n",
            "\n",
            "\n",
            "Similarity Score: 0.67561233\n",
            "Feedback: ('correct', 'SELECT SUM(pick__number) FROM table_name_38 WHERE nfl_team = \"carolina panthers\" AND college = \"syracuse\"')\n",
            "\n",
            "\n",
            "Real Answer: SELECT SUM(pick__number) FROM table_name_38 WHERE nfl_team = \"carolina panthers\" AND college = \"syracuse\"\n",
            "Failed Answer: SELECT MIN(pick__number) FROM table_name_38 WHERE nfl_team = \"carolina panthers\" AND college = \"syracuse\"\n",
            "\n",
            "\n"
          ]
        },
        {
          "output_type": "stream",
          "name": "stderr",
          "text": [
            "\r 26%|██▋       | 263/1000 [11:44<33:24,  2.72s/it]"
          ]
        },
        {
          "output_type": "stream",
          "name": "stdout",
          "text": [
            "\n",
            "\n",
            "Question: Which Sales Total has a Chart of oricon monthly albums chart?\n",
            "\n",
            "Real Answer: SELECT sales_total FROM table_name_30 WHERE chart = \"oricon monthly albums chart\"\n",
            "Generated Answer: SELECT sales_total FROM table_name_30 WHERE chart = \"oricon monthly albums chart\"\n",
            "\n",
            "\n",
            "Similarity Score: 1.0\n",
            "Feedback: ('approve', 'SELECT sales_total FROM table_name_30 WHERE chart = \"oricon monthly albums chart\"')\n",
            "\n",
            "\n",
            "Success!\n",
            "Success Answer: SELECT sales_total FROM table_name_30 WHERE chart = \"oricon monthly albums chart\"\n",
            "\n",
            "\n"
          ]
        },
        {
          "output_type": "stream",
          "name": "stderr",
          "text": [
            "\r 26%|██▋       | 264/1000 [11:46<32:05,  2.62s/it]"
          ]
        },
        {
          "output_type": "stream",
          "name": "stdout",
          "text": [
            "\n",
            "\n",
            "Question: What is the A330 for A310 B10?\n",
            "\n",
            "Real Answer: SELECT a330 FROM table_name_62 WHERE a310 = \"b10\"\n",
            "Generated Answer: SELECT a330 FROM table_name_62 WHERE a310 = \"b10\"\n",
            "\n",
            "\n",
            "Similarity Score: 1.0\n",
            "Feedback: ('approve', 'SELECT a330 FROM table_name_62 WHERE a310 = \"b10\"')\n",
            "\n",
            "\n",
            "Success!\n",
            "Success Answer: SELECT a330 FROM table_name_62 WHERE a310 = \"b10\"\n",
            "\n",
            "\n"
          ]
        },
        {
          "output_type": "stream",
          "name": "stderr",
          "text": [
            "\r 26%|██▋       | 265/1000 [11:48<28:34,  2.33s/it]"
          ]
        },
        {
          "output_type": "stream",
          "name": "stdout",
          "text": [
            "\n",
            "\n",
            "Question: Who is the player in 20th place?\n",
            "\n",
            "Real Answer: SELECT player FROM table_name_65 WHERE placing = \"20th place\"\n",
            "Generated Answer: SELECT player FROM table_name_65 WHERE placing = \"20th\"\n",
            "\n",
            "\n",
            "Similarity Score: 0.9858815\n",
            "Feedback: ('approve', 'SELECT player FROM table_name_65 WHERE placing = \"20th\"')\n",
            "\n",
            "\n",
            "Real Answer: SELECT player FROM table_name_65 WHERE placing = \"20th place\"\n",
            "Failed Answer: SELECT player FROM table_name_65 WHERE placing = \"20th\"\n",
            "\n",
            "\n"
          ]
        },
        {
          "output_type": "stream",
          "name": "stderr",
          "text": [
            "\r 27%|██▋       | 266/1000 [11:49<26:43,  2.19s/it]"
          ]
        },
        {
          "output_type": "stream",
          "name": "stdout",
          "text": [
            "\n",
            "\n",
            "Question: Tell me the name of the person married to frederick ix\n",
            "\n",
            "Real Answer: SELECT name FROM table_name_71 WHERE spouse = \"frederick ix\"\n",
            "Generated Answer: SELECT name FROM table_name_71 WHERE spouse = \"frederick ix\"\n",
            "\n",
            "\n",
            "Similarity Score: 1.0\n",
            "Feedback: ('approve', 'SELECT name FROM table_name_71 WHERE spouse = \"frederick ix\"')\n",
            "\n",
            "\n",
            "Success!\n",
            "Success Answer: SELECT name FROM table_name_71 WHERE spouse = \"frederick ix\"\n",
            "\n",
            "\n"
          ]
        },
        {
          "output_type": "stream",
          "name": "stderr",
          "text": [
            "\r 27%|██▋       | 267/1000 [11:54<33:48,  2.77s/it]"
          ]
        },
        {
          "output_type": "stream",
          "name": "stdout",
          "text": [
            "\n",
            "\n",
            "Question: How many assets can each parts be used in? List the part name and the number.\n",
            "\n",
            "Real Answer: SELECT T1.part_name, COUNT(*) FROM Parts AS T1 JOIN Asset_Parts AS T2 ON T1.part_id = T2.part_id GROUP BY T1.part_name\n",
            "Generated Answer: SELECT COUNT(DISTINCT T1.part_id) FROM Asset_Parts AS T1 JOIN Parts AS T2 ON T1.part_id = T2.part_id\n",
            "\n",
            "\n",
            "Similarity Score: 0.93582296\n",
            "Feedback: ('approve', 'SELECT COUNT(DISTINCT T1.part_id) FROM Asset_Parts AS T1 JOIN Parts AS T2 ON T1.part_id = T2.part_id')\n",
            "\n",
            "\n",
            "Real Answer: SELECT T1.part_name, COUNT(*) FROM Parts AS T1 JOIN Asset_Parts AS T2 ON T1.part_id = T2.part_id GROUP BY T1.part_name\n",
            "Failed Answer: SELECT COUNT(DISTINCT T1.part_id) FROM Asset_Parts AS T1 JOIN Parts AS T2 ON T1.part_id = T2.part_id\n",
            "\n",
            "\n"
          ]
        },
        {
          "output_type": "stream",
          "name": "stderr",
          "text": [
            "\r 27%|██▋       | 268/1000 [11:56<32:13,  2.64s/it]"
          ]
        },
        {
          "output_type": "stream",
          "name": "stdout",
          "text": [
            "\n",
            "\n",
            "Question: Tell me the pitcher on september 6, 2006\n",
            "\n",
            "Real Answer: SELECT pitcher FROM table_name_8 WHERE date = \"september 6, 2006\"\n",
            "Generated Answer: SELECT pitcher FROM table_name_8 WHERE date = \"september 6, 2006\"\n",
            "\n",
            "\n",
            "Similarity Score: 0.9999999\n",
            "Feedback: ('approve', 'SELECT pitcher FROM table_name_8 WHERE date = \"september 6, 2006\"')\n",
            "\n",
            "\n",
            "Success!\n",
            "Success Answer: SELECT pitcher FROM table_name_8 WHERE date = \"september 6, 2006\"\n",
            "\n",
            "\n"
          ]
        },
        {
          "output_type": "stream",
          "name": "stderr",
          "text": [
            "\r 27%|██▋       | 269/1000 [11:59<34:03,  2.80s/it]"
          ]
        },
        {
          "output_type": "stream",
          "name": "stdout",
          "text": [
            "\n",
            "\n",
            "Question: How many losses occurred when the club team was ekranas-2 panevėžys\n",
            "\n",
            "Real Answer: SELECT MAX(loses) FROM table_18018214_3 WHERE club = \"Ekranas-2 Panevėžys\"\n",
            "Generated Answer: SELECT MAX(loses) FROM table_18018214_3 WHERE club = \"Ekranas-2 Panevėžys\"\n",
            "\n",
            "\n",
            "Similarity Score: 1.0\n",
            "Feedback: ('approve', 'SELECT MAX(loses) FROM table_18018214_3 WHERE club = \"Ekranas-2 Panevėžys\"')\n",
            "\n",
            "\n",
            "Success!\n",
            "Success Answer: SELECT MAX(loses) FROM table_18018214_3 WHERE club = \"Ekranas-2 Panevėžys\"\n",
            "\n",
            "\n"
          ]
        },
        {
          "output_type": "stream",
          "name": "stderr",
          "text": [
            "\r 27%|██▋       | 270/1000 [12:01<30:15,  2.49s/it]"
          ]
        },
        {
          "output_type": "stream",
          "name": "stdout",
          "text": [
            "\n",
            "\n",
            "Question: When was the game at the home of the Los Angeles Kings?\n",
            "\n",
            "Real Answer: SELECT date FROM table_name_72 WHERE home = \"los angeles kings\"\n",
            "Generated Answer: SELECT date FROM table_name_72 WHERE home = \"los angeles kings\"\n",
            "\n",
            "\n",
            "Similarity Score: 0.9999998\n",
            "Feedback: ('approve', 'SELECT date FROM table_name_72 WHERE home = \"los angeles kings\"')\n",
            "\n",
            "\n",
            "Success!\n",
            "Success Answer: SELECT date FROM table_name_72 WHERE home = \"los angeles kings\"\n",
            "\n",
            "\n"
          ]
        },
        {
          "output_type": "stream",
          "name": "stderr",
          "text": [
            "\r 27%|██▋       | 271/1000 [12:04<32:07,  2.64s/it]"
          ]
        },
        {
          "output_type": "stream",
          "name": "stdout",
          "text": [
            "\n",
            "\n",
            "Question: What was the minimum population in 2011 of the district of Prakasam?\n",
            "\n",
            "Real Answer: SELECT MIN(population__2011_) FROM table_1610301_1 WHERE district = \"Prakasam\"\n",
            "Generated Answer: SELECT MIN(population__2011_) FROM table_1610301_1 WHERE district = \"Prakasam\"\n",
            "\n",
            "\n",
            "Similarity Score: 0.9999999\n",
            "Feedback: ('approve', 'SELECT MIN(population__2011_) FROM table_1610301_1 WHERE district = \"Prakasam\"')\n",
            "\n",
            "\n",
            "Success!\n",
            "Success Answer: SELECT MIN(population__2011_) FROM table_1610301_1 WHERE district = \"Prakasam\"\n",
            "\n",
            "\n"
          ]
        },
        {
          "output_type": "stream",
          "name": "stderr",
          "text": [
            "\r 27%|██▋       | 272/1000 [12:07<32:30,  2.68s/it]"
          ]
        },
        {
          "output_type": "stream",
          "name": "stdout",
          "text": [
            "\n",
            "\n",
            "Question: stae the least number of wins in 1986\n",
            "\n",
            "Real Answer: SELECT MIN(wins) FROM table_19864214_3 WHERE seasons = \"1986\"\n",
            "Generated Answer: SELECT MIN(wins) FROM table_19864214_3 WHERE seasons = \"1986\"\n",
            "\n",
            "\n",
            "Similarity Score: 1.0000001\n",
            "Feedback: ('approve', 'SELECT MIN(wins) FROM table_19864214_3 WHERE seasons = \"1986\"')\n",
            "\n",
            "\n",
            "Success!\n",
            "Success Answer: SELECT MIN(wins) FROM table_19864214_3 WHERE seasons = \"1986\"\n",
            "\n",
            "\n"
          ]
        },
        {
          "output_type": "stream",
          "name": "stderr",
          "text": [
            "\r 27%|██▋       | 273/1000 [12:10<34:52,  2.88s/it]"
          ]
        },
        {
          "output_type": "stream",
          "name": "stdout",
          "text": [
            "\n",
            "\n",
            "Question: Who won the XXIV Gran Premio di Pescara in the sports car class?\n",
            "\n",
            "Real Answer: SELECT driver_s FROM table_name_81 WHERE class = \"sports car\" AND race_title = \"xxiv gran premio di pescara\"\n",
            "Generated Answer: SELECT driver_s FROM table_name_81 WHERE class = \"sports car\" AND race_title = \"xxiv gran premio di pescara\"\n",
            "\n",
            "\n",
            "Similarity Score: 0.99999994\n",
            "Feedback: ('approve', 'SELECT driver_s FROM table_name_81 WHERE class = \"sports car\" AND race_title = \"xxiv gran premio di pescara\"')\n",
            "\n",
            "\n",
            "Success!\n",
            "Success Answer: SELECT driver_s FROM table_name_81 WHERE class = \"sports car\" AND race_title = \"xxiv gran premio di pescara\"\n",
            "\n",
            "\n"
          ]
        },
        {
          "output_type": "stream",
          "name": "stderr",
          "text": [
            "\r 27%|██▋       | 274/1000 [12:14<39:25,  3.26s/it]"
          ]
        },
        {
          "output_type": "stream",
          "name": "stdout",
          "text": [
            "\n",
            "\n",
            "Question: What points awarded are higher than 6 but smaller than 9\n",
            "\n",
            "Real Answer: SELECT MAX(points_awarded__platinum_) FROM table_name_51 WHERE points_awarded__gold_ = 9 AND points_awarded__silver_ > 6\n",
            "Generated Answer: SELECT MAX(points_awarded__platinum_) FROM table_name_51 WHERE points_awarded__gold_ < 6 AND points_awarded__silver_ < 9\n",
            "\n",
            "\n",
            "Similarity Score: 0.994423\n",
            "Feedback: ('approve', 'SELECT MAX(points_awarded__platinum_) FROM table_name_51 WHERE points_awarded__gold_ < 6 AND points_awarded__silver_ < 9')\n",
            "\n",
            "\n",
            "Real Answer: SELECT MAX(points_awarded__platinum_) FROM table_name_51 WHERE points_awarded__gold_ = 9 AND points_awarded__silver_ > 6\n",
            "Failed Answer: SELECT MAX(points_awarded__platinum_) FROM table_name_51 WHERE points_awarded__gold_ < 6 AND points_awarded__silver_ < 9\n",
            "\n",
            "\n"
          ]
        },
        {
          "output_type": "stream",
          "name": "stderr",
          "text": [
            "\r 28%|██▊       | 275/1000 [12:16<34:11,  2.83s/it]"
          ]
        },
        {
          "output_type": "stream",
          "name": "stdout",
          "text": [
            "\n",
            "\n",
            "Question: Who has a length of 71 ft?\n",
            "\n",
            "Real Answer: SELECT name FROM table_name_21 WHERE length__ft_ = 71\n",
            "Generated Answer: SELECT name FROM table_name_21 WHERE length__ft_ = 71\n",
            "\n",
            "\n",
            "Similarity Score: 0.9999997\n",
            "Feedback: ('approve', 'SELECT name FROM table_name_21 WHERE length__ft_ = 71')\n",
            "\n",
            "\n",
            "Success!\n",
            "Success Answer: SELECT name FROM table_name_21 WHERE length__ft_ = 71\n",
            "\n",
            "\n"
          ]
        },
        {
          "output_type": "stream",
          "name": "stderr",
          "text": [
            "\r 28%|██▊       | 276/1000 [12:18<31:54,  2.64s/it]"
          ]
        },
        {
          "output_type": "stream",
          "name": "stdout",
          "text": [
            "\n",
            "\n",
            "Question: When collingwood played as the away team what did they score?\n",
            "\n",
            "Real Answer: SELECT away_team AS score FROM table_name_3 WHERE away_team = \"collingwood\"\n",
            "Generated Answer: SELECT away_team AS score FROM table_name_3 WHERE away_team = \"collingwood\"\n",
            "\n",
            "\n",
            "Similarity Score: 0.9999999\n",
            "Feedback: ('approve', 'SELECT away_team AS score FROM table_name_3 WHERE away_team = \"collingwood\"')\n",
            "\n",
            "\n",
            "Success!\n",
            "Success Answer: SELECT away_team AS score FROM table_name_3 WHERE away_team = \"collingwood\"\n",
            "\n",
            "\n"
          ]
        },
        {
          "output_type": "stream",
          "name": "stderr",
          "text": [
            "\r 28%|██▊       | 277/1000 [12:21<33:51,  2.81s/it]"
          ]
        },
        {
          "output_type": "stream",
          "name": "stdout",
          "text": [
            "\n",
            "\n",
            "Question: What episode after 1998 had John Wells as the nominee?\n",
            "\n",
            "Real Answer: SELECT episode FROM table_name_25 WHERE year > 1998 AND nominee_s_ = \"john wells\"\n",
            "Generated Answer: SELECT episode FROM table_name_25 WHERE year > 1998 AND nominee_s_ = \"john wells\"\n",
            "\n",
            "\n",
            "Similarity Score: 0.99999994\n",
            "Feedback: ('approve', 'SELECT episode FROM table_name_25 WHERE year > 1998 AND nominee_s_ = \"john wells\"')\n",
            "\n",
            "\n",
            "Success!\n",
            "Success Answer: SELECT episode FROM table_name_25 WHERE year > 1998 AND nominee_s_ = \"john wells\"\n",
            "\n",
            "\n"
          ]
        },
        {
          "output_type": "stream",
          "name": "stderr",
          "text": [
            "\r 28%|██▊       | 278/1000 [12:24<31:43,  2.64s/it]"
          ]
        },
        {
          "output_type": "stream",
          "name": "stdout",
          "text": [
            "\n",
            "\n",
            "Question: Tell me the region for catalog of 576 096-2\n",
            "\n",
            "Real Answer: SELECT region FROM table_name_61 WHERE catalog = \"576 096-2\"\n",
            "Generated Answer: SELECT region FROM table_name_61 WHERE catalog = \"576 096-2\"\n",
            "\n",
            "\n",
            "Similarity Score: 1.0000001\n",
            "Feedback: ('approve', 'SELECT region FROM table_name_61 WHERE catalog = \"576 096-2\"')\n",
            "\n",
            "\n",
            "Success!\n",
            "Success Answer: SELECT region FROM table_name_61 WHERE catalog = \"576 096-2\"\n",
            "\n",
            "\n"
          ]
        },
        {
          "output_type": "stream",
          "name": "stderr",
          "text": [
            "\r 28%|██▊       | 279/1000 [12:26<29:13,  2.43s/it]"
          ]
        },
        {
          "output_type": "stream",
          "name": "stdout",
          "text": [
            "\n",
            "\n",
            "Question: How many people whose age is greater 30 and job is engineer?\n",
            "\n",
            "Real Answer: SELECT COUNT(*) FROM Person WHERE age > 30 AND job = 'engineer'\n",
            "Generated Answer: SELECT COUNT(*) FROM Person WHERE age > 30 AND job = 'engineer'\n",
            "\n",
            "\n",
            "Similarity Score: 0.9999997\n",
            "Feedback: ('approve', \"SELECT COUNT(*) FROM Person WHERE age > 30 AND job = 'engineer'\")\n",
            "\n",
            "\n",
            "Success!\n",
            "Success Answer: SELECT COUNT(*) FROM Person WHERE age > 30 AND job = 'engineer'\n",
            "\n",
            "\n"
          ]
        },
        {
          "output_type": "stream",
          "name": "stderr",
          "text": [
            "\r 28%|██▊       | 280/1000 [12:28<28:32,  2.38s/it]"
          ]
        },
        {
          "output_type": "stream",
          "name": "stdout",
          "text": [
            "\n",
            "\n",
            "Question: I want the league one/second division for club of millwall\n",
            "\n",
            "Real Answer: SELECT league_one_second_division FROM table_name_80 WHERE club = \"millwall\"\n",
            "Generated Answer: SELECT league_one_second_division FROM table_name_80 WHERE club = \"millwall\"\n",
            "\n",
            "\n",
            "Similarity Score: 1.0000001\n",
            "Feedback: ('approve', 'SELECT league_one_second_division FROM table_name_80 WHERE club = \"millwall\"')\n",
            "\n",
            "\n",
            "Success!\n",
            "Success Answer: SELECT league_one_second_division FROM table_name_80 WHERE club = \"millwall\"\n",
            "\n",
            "\n"
          ]
        },
        {
          "output_type": "stream",
          "name": "stderr",
          "text": [
            "\r 28%|██▊       | 281/1000 [12:30<28:35,  2.39s/it]"
          ]
        },
        {
          "output_type": "stream",
          "name": "stdout",
          "text": [
            "\n",
            "\n",
            "Question: What were the total apps for Dunne in season where he had 0 league goals? \n",
            "\n",
            "Real Answer: SELECT total_apps FROM table_2980024_1 WHERE league_goals = 0\n",
            "Generated Answer: SELECT total_apps FROM table_2980024_1 WHERE league_goals = \"0\"\n",
            "\n",
            "\n",
            "Similarity Score: 0.98612523\n",
            "Feedback: ('approve', 'SELECT total_apps FROM table_2980024_1 WHERE league_goals = \"0\"')\n",
            "\n",
            "\n",
            "Real Answer: SELECT total_apps FROM table_2980024_1 WHERE league_goals = 0\n",
            "Failed Answer: SELECT total_apps FROM table_2980024_1 WHERE league_goals = \"0\"\n",
            "\n",
            "\n"
          ]
        },
        {
          "output_type": "stream",
          "name": "stderr",
          "text": [
            "\r 28%|██▊       | 282/1000 [12:33<29:50,  2.49s/it]"
          ]
        },
        {
          "output_type": "stream",
          "name": "stdout",
          "text": [
            "\n",
            "\n",
            "Question: What player has a rating greater than 2746, with a prev less than 4, and +4 as the chng?\n",
            "\n",
            "Real Answer: SELECT player FROM table_name_83 WHERE rating > 2746 AND prev < 4 AND chng = \"+4\"\n",
            "Generated Answer: SELECT player FROM table_name_83 WHERE rating > 2746 AND prev < 4 AND chng = \"+4\"\n",
            "\n",
            "\n",
            "Similarity Score: 0.9999999\n",
            "Feedback: ('approve', 'SELECT player FROM table_name_83 WHERE rating > 2746 AND prev < 4 AND chng = \"+4\"')\n",
            "\n",
            "\n",
            "Success!\n",
            "Success Answer: SELECT player FROM table_name_83 WHERE rating > 2746 AND prev < 4 AND chng = \"+4\"\n",
            "\n",
            "\n"
          ]
        },
        {
          "output_type": "stream",
          "name": "stderr",
          "text": [
            "\r 28%|██▊       | 283/1000 [12:35<29:33,  2.47s/it]"
          ]
        },
        {
          "output_type": "stream",
          "name": "stdout",
          "text": [
            "\n",
            "\n",
            "Question: What is the total number of bronze medals when the silver is greater than 0, and the total medals 5?\n",
            "\n",
            "Real Answer: SELECT SUM(bronze) FROM table_name_14 WHERE silver > 0 AND total = 5\n",
            "Generated Answer: SELECT SUM(bronze) FROM table_name_14 WHERE silver > 0 AND total = 5\n",
            "\n",
            "\n",
            "Similarity Score: 0.9999999\n",
            "Feedback: ('approve', 'SELECT SUM(bronze) FROM table_name_14 WHERE silver > 0 AND total = 5')\n",
            "\n",
            "\n",
            "Success!\n",
            "Success Answer: SELECT SUM(bronze) FROM table_name_14 WHERE silver > 0 AND total = 5\n",
            "\n",
            "\n"
          ]
        },
        {
          "output_type": "stream",
          "name": "stderr",
          "text": [
            "\r 28%|██▊       | 284/1000 [12:38<30:08,  2.53s/it]"
          ]
        },
        {
          "output_type": "stream",
          "name": "stdout",
          "text": [
            "\n",
            "\n",
            "Question: what is the encoding when the tracks/side is 80  and sectors/track is 11?\n",
            "\n",
            "Real Answer: SELECT encoding FROM table_name_44 WHERE tracks__side = \"80\" AND sectors__track = \"11\"\n",
            "Generated Answer: SELECT encoding FROM table_name_44 WHERE tracks__side = \"80\" AND sectors__track = \"11\"\n",
            "\n",
            "\n",
            "Similarity Score: 1.0\n",
            "Feedback: ('approve', 'SELECT encoding FROM table_name_44 WHERE tracks__side = \"80\" AND sectors__track = \"11\"')\n",
            "\n",
            "\n",
            "Success!\n",
            "Success Answer: SELECT encoding FROM table_name_44 WHERE tracks__side = \"80\" AND sectors__track = \"11\"\n",
            "\n",
            "\n"
          ]
        },
        {
          "output_type": "stream",
          "name": "stderr",
          "text": [
            "\r 28%|██▊       | 285/1000 [12:41<30:14,  2.54s/it]"
          ]
        },
        {
          "output_type": "stream",
          "name": "stdout",
          "text": [
            "\n",
            "\n",
            "Question: How many rounds have an Overall larger than 17, and a Position of quarterback?\n",
            "\n",
            "Real Answer: SELECT COUNT(round) FROM table_name_66 WHERE overall > 17 AND position = \"quarterback\"\n",
            "Generated Answer: SELECT COUNT(round) FROM table_name_66 WHERE overall > 17 AND position = 'quarterback'\n",
            "\n",
            "\n",
            "Similarity Score: 0.99883866\n",
            "Feedback: ('approve', \"SELECT COUNT(round) FROM table_name_66 WHERE overall > 17 AND position = 'quarterback'\")\n",
            "\n",
            "\n",
            "Real Answer: SELECT COUNT(round) FROM table_name_66 WHERE overall > 17 AND position = \"quarterback\"\n",
            "Failed Answer: SELECT COUNT(round) FROM table_name_66 WHERE overall > 17 AND position = 'quarterback'\n",
            "\n",
            "\n"
          ]
        },
        {
          "output_type": "stream",
          "name": "stderr",
          "text": [
            "\r 29%|██▊       | 286/1000 [12:42<26:31,  2.23s/it]"
          ]
        },
        {
          "output_type": "stream",
          "name": "stdout",
          "text": [
            "\n",
            "\n",
            "Question: Tell me the name for round of e\n",
            "\n",
            "Real Answer: SELECT name FROM table_name_29 WHERE round = \"e\"\n",
            "Generated Answer: SELECT name FROM table_name_29 WHERE round = \"e\"\n",
            "\n",
            "\n",
            "Similarity Score: 0.99999994\n",
            "Feedback: ('approve', 'SELECT name FROM table_name_29 WHERE round = \"e\"')\n",
            "\n",
            "\n",
            "Success!\n",
            "Success Answer: SELECT name FROM table_name_29 WHERE round = \"e\"\n",
            "\n",
            "\n"
          ]
        },
        {
          "output_type": "stream",
          "name": "stderr",
          "text": [
            "\r 29%|██▊       | 287/1000 [12:44<26:37,  2.24s/it]"
          ]
        },
        {
          "output_type": "stream",
          "name": "stdout",
          "text": [
            "\n",
            "\n",
            "Question: When the home team of st kilda was playing, what was the away team score?\n",
            "\n",
            "Real Answer: SELECT away_team AS score FROM table_name_97 WHERE home_team = \"st kilda\"\n",
            "Generated Answer: SELECT away_team AS score FROM table_name_97 WHERE home_team = \"st kilda\"\n",
            "\n",
            "\n",
            "Similarity Score: 0.99999994\n",
            "Feedback: ('approve', 'SELECT away_team AS score FROM table_name_97 WHERE home_team = \"st kilda\"')\n",
            "\n",
            "\n",
            "Success!\n",
            "Success Answer: SELECT away_team AS score FROM table_name_97 WHERE home_team = \"st kilda\"\n",
            "\n",
            "\n"
          ]
        },
        {
          "output_type": "stream",
          "name": "stderr",
          "text": [
            "\r 29%|██▉       | 288/1000 [12:46<24:41,  2.08s/it]"
          ]
        },
        {
          "output_type": "stream",
          "name": "stdout",
          "text": [
            "\n",
            "\n",
            "Question: Which Airport has a IATA of erz?\n",
            "\n",
            "Real Answer: SELECT airport FROM table_name_63 WHERE iata = \"erz\"\n",
            "Generated Answer: SELECT airport FROM table_name_63 WHERE iata = \"erz\"\n",
            "\n",
            "\n",
            "Similarity Score: 1.0000001\n",
            "Feedback: ('approve', 'SELECT airport FROM table_name_63 WHERE iata = \"erz\"')\n",
            "\n",
            "\n",
            "Success!\n",
            "Success Answer: SELECT airport FROM table_name_63 WHERE iata = \"erz\"\n",
            "\n",
            "\n"
          ]
        },
        {
          "output_type": "stream",
          "name": "stderr",
          "text": [
            "\r 29%|██▉       | 289/1000 [12:49<26:37,  2.25s/it]"
          ]
        },
        {
          "output_type": "stream",
          "name": "stdout",
          "text": [
            "\n",
            "\n",
            "Question: What was the record from the Golden State Warriors on 11/18?\n",
            "\n",
            "Real Answer: SELECT record FROM table_name_13 WHERE visitor = \"golden state warriors\" AND date = \"11/18\"\n",
            "Generated Answer: SELECT record FROM table_name_13 WHERE visitor = \"golden state warriors\" AND date = \"11/18\"\n",
            "\n",
            "\n",
            "Similarity Score: 0.9999999\n",
            "Feedback: ('approve', 'SELECT record FROM table_name_13 WHERE visitor = \"golden state warriors\" AND date = \"11/18\"')\n",
            "\n",
            "\n",
            "Success!\n",
            "Success Answer: SELECT record FROM table_name_13 WHERE visitor = \"golden state warriors\" AND date = \"11/18\"\n",
            "\n",
            "\n"
          ]
        },
        {
          "output_type": "stream",
          "name": "stderr",
          "text": [
            "\r 29%|██▉       | 290/1000 [12:51<26:01,  2.20s/it]"
          ]
        },
        {
          "output_type": "stream",
          "name": "stdout",
          "text": [
            "\n",
            "\n",
            "Question: Name the purpose for on-air ID of 2xx\n",
            "\n",
            "Real Answer: SELECT purpose FROM table_name_13 WHERE on_air_id = \"2xx\"\n",
            "Generated Answer: SELECT purpose FROM table_name_13 WHERE on_air_id = \"2xx\"\n",
            "\n",
            "\n",
            "Similarity Score: 1.0\n",
            "Feedback: ('approve', 'SELECT purpose FROM table_name_13 WHERE on_air_id = \"2xx\"')\n",
            "\n",
            "\n",
            "Success!\n",
            "Success Answer: SELECT purpose FROM table_name_13 WHERE on_air_id = \"2xx\"\n",
            "\n",
            "\n"
          ]
        },
        {
          "output_type": "stream",
          "name": "stderr",
          "text": [
            "\r 29%|██▉       | 291/1000 [12:53<25:50,  2.19s/it]"
          ]
        },
        {
          "output_type": "stream",
          "name": "stdout",
          "text": [
            "\n",
            "\n",
            "Question: What team had 4 podiums?\n",
            "\n",
            "Real Answer: SELECT team FROM table_21795650_1 WHERE podiums = 4\n",
            "Generated Answer: SELECT team FROM table_21795650_1 WHERE podiums = 4\n",
            "\n",
            "\n",
            "Similarity Score: 1.0000001\n",
            "Feedback: ('approve', 'SELECT team FROM table_21795650_1 WHERE podiums = 4')\n",
            "\n",
            "\n",
            "Success!\n",
            "Success Answer: SELECT team FROM table_21795650_1 WHERE podiums = 4\n",
            "\n",
            "\n"
          ]
        },
        {
          "output_type": "stream",
          "name": "stderr",
          "text": [
            "\r 29%|██▉       | 292/1000 [12:56<27:21,  2.32s/it]"
          ]
        },
        {
          "output_type": "stream",
          "name": "stdout",
          "text": [
            "\n",
            "\n",
            "Question: What is the sum of the pick numbers where the player was picked in round 5 and overall pick number was greater than 159?\n",
            "\n",
            "Real Answer: SELECT SUM(pick__number) FROM table_name_77 WHERE round = 5 AND overall > 159\n",
            "Generated Answer: SELECT SUM(pick__number) FROM table_name_77 WHERE round = 5 AND overall > 159\n",
            "\n",
            "\n",
            "Similarity Score: 1.0000001\n",
            "Feedback: ('approve', 'SELECT SUM(pick__number) FROM table_name_77 WHERE round = 5 AND overall > 159')\n",
            "\n",
            "\n",
            "Success!\n",
            "Success Answer: SELECT SUM(pick__number) FROM table_name_77 WHERE round = 5 AND overall > 159\n",
            "\n",
            "\n"
          ]
        },
        {
          "output_type": "stream",
          "name": "stderr",
          "text": [
            "\r 29%|██▉       | 293/1000 [12:58<28:45,  2.44s/it]"
          ]
        },
        {
          "output_type": "stream",
          "name": "stdout",
          "text": [
            "\n",
            "\n",
            "Question: Who's the head coach of the team with a price of $3.22 million?\n",
            "\n",
            "Real Answer: SELECT head_coach FROM table_19905183_1 WHERE price = \"$3.22 million\"\n",
            "Generated Answer: SELECT head_coach FROM table_19905183_1 WHERE price = \"$3.22 million\"\n",
            "\n",
            "\n",
            "Similarity Score: 0.9999998\n",
            "Feedback: ('approve', 'SELECT head_coach FROM table_19905183_1 WHERE price = \"$3.22 million\"')\n",
            "\n",
            "\n",
            "Success!\n",
            "Success Answer: SELECT head_coach FROM table_19905183_1 WHERE price = \"$3.22 million\"\n",
            "\n",
            "\n"
          ]
        },
        {
          "output_type": "stream",
          "name": "stderr",
          "text": [
            "\r 29%|██▉       | 294/1000 [13:01<30:43,  2.61s/it]"
          ]
        },
        {
          "output_type": "stream",
          "name": "stdout",
          "text": [
            "\n",
            "\n",
            "Question: Opened prior to 1877 only 2.44km from Wellington, when did this station close?\n",
            "\n",
            "Real Answer: SELECT closed FROM table_name_6 WHERE opened < 1877 AND distance_from_wellington = \"2.44km\"\n",
            "Generated Answer: SELECT closed FROM table_name_6 WHERE opened < 1877 AND distance_from_wellington = \"2.44km\"\n",
            "\n",
            "\n",
            "Similarity Score: 0.9999998\n",
            "Feedback: ('approve', 'SELECT closed FROM table_name_6 WHERE opened < 1877 AND distance_from_wellington = \"2.44km\"')\n",
            "\n",
            "\n",
            "Success!\n",
            "Success Answer: SELECT closed FROM table_name_6 WHERE opened < 1877 AND distance_from_wellington = \"2.44km\"\n",
            "\n",
            "\n"
          ]
        },
        {
          "output_type": "stream",
          "name": "stderr",
          "text": [
            "\r 30%|██▉       | 295/1000 [13:03<28:03,  2.39s/it]"
          ]
        },
        {
          "output_type": "stream",
          "name": "stdout",
          "text": [
            "\n",
            "\n",
            "Question: What prefix has Haloalkane as the chemical class?\n",
            "\n",
            "Real Answer: SELECT prefix FROM table_name_4 WHERE chemical_class = \"haloalkane\"\n",
            "Generated Answer: SELECT prefix FROM table_name_4 WHERE chemical_class = \"haloalkane\"\n",
            "\n",
            "\n",
            "Similarity Score: 1.0\n",
            "Feedback: ('approve', 'SELECT prefix FROM table_name_4 WHERE chemical_class = \"haloalkane\"')\n",
            "\n",
            "\n",
            "Success!\n",
            "Success Answer: SELECT prefix FROM table_name_4 WHERE chemical_class = \"haloalkane\"\n",
            "\n",
            "\n"
          ]
        },
        {
          "output_type": "stream",
          "name": "stderr",
          "text": [
            "\r 30%|██▉       | 296/1000 [13:05<26:22,  2.25s/it]"
          ]
        },
        {
          "output_type": "stream",
          "name": "stdout",
          "text": [
            "\n",
            "\n",
            "Question: Name the minimum for prohibition?\n",
            "\n",
            "Real Answer: SELECT MIN(for_prohibition) FROM table_120778_1\n",
            "Generated Answer: SELECT MIN(for_prohibition) FROM table_120778_1\n",
            "\n",
            "\n",
            "Similarity Score: 0.99999994\n",
            "Feedback: ('approve', 'SELECT MIN(for_prohibition) FROM table_120778_1')\n",
            "\n",
            "\n",
            "Success!\n",
            "Success Answer: SELECT MIN(for_prohibition) FROM table_120778_1\n",
            "\n",
            "\n"
          ]
        },
        {
          "output_type": "stream",
          "name": "stderr",
          "text": [
            "\r 30%|██▉       | 297/1000 [13:07<26:49,  2.29s/it]"
          ]
        },
        {
          "output_type": "stream",
          "name": "stdout",
          "text": [
            "\n",
            "\n",
            "Question: Which Semifinalists have a Finalist of andrei chesnokov?\n",
            "\n",
            "Real Answer: SELECT semifinalists FROM table_name_82 WHERE finalist = \"andrei chesnokov\"\n",
            "Generated Answer: SELECT semifinalists FROM table_name_82 WHERE finalist = \"andrei chesnokov\"\n",
            "\n",
            "\n",
            "Similarity Score: 1.0\n",
            "Feedback: ('approve', 'SELECT semifinalists FROM table_name_82 WHERE finalist = \"andrei chesnokov\"')\n",
            "\n",
            "\n",
            "Success!\n",
            "Success Answer: SELECT semifinalists FROM table_name_82 WHERE finalist = \"andrei chesnokov\"\n",
            "\n",
            "\n"
          ]
        },
        {
          "output_type": "stream",
          "name": "stderr",
          "text": [
            "\r 30%|██▉       | 298/1000 [13:09<25:22,  2.17s/it]"
          ]
        },
        {
          "output_type": "stream",
          "name": "stdout",
          "text": [
            "\n",
            "\n",
            "Question: On what Date is the Circuit at Sandown Raceway?\n",
            "\n",
            "Real Answer: SELECT date FROM table_name_37 WHERE circuit = \"sandown raceway\"\n",
            "Generated Answer: SELECT date FROM table_name_37 WHERE circuit = \"sandown raceway\"\n",
            "\n",
            "\n",
            "Similarity Score: 1.0000001\n",
            "Feedback: ('approve', 'SELECT date FROM table_name_37 WHERE circuit = \"sandown raceway\"')\n",
            "\n",
            "\n",
            "Success!\n",
            "Success Answer: SELECT date FROM table_name_37 WHERE circuit = \"sandown raceway\"\n",
            "\n",
            "\n"
          ]
        },
        {
          "output_type": "stream",
          "name": "stderr",
          "text": [
            "\r 30%|██▉       | 299/1000 [13:11<22:41,  1.94s/it]"
          ]
        },
        {
          "output_type": "stream",
          "name": "stdout",
          "text": [
            "\n",
            "\n",
            "Question: Which Date has an Against larger than 0?\n",
            "\n",
            "Real Answer: SELECT date FROM table_name_28 WHERE against > 0\n",
            "Generated Answer: SELECT date FROM table_name_28 WHERE against > 0\n",
            "\n",
            "\n",
            "Similarity Score: 1.0000001\n",
            "Feedback: ('approve', 'SELECT date FROM table_name_28 WHERE against > 0')\n",
            "\n",
            "\n",
            "Success!\n",
            "Success Answer: SELECT date FROM table_name_28 WHERE against > 0\n",
            "\n",
            "\n"
          ]
        },
        {
          "output_type": "stream",
          "name": "stderr",
          "text": [
            "\r 30%|███       | 300/1000 [13:14<25:50,  2.22s/it]"
          ]
        },
        {
          "output_type": "stream",
          "name": "stdout",
          "text": [
            "\n",
            "\n",
            "Question: What is the totl amount of years where avg start is 27.3?\n",
            "\n",
            "Real Answer: SELECT COUNT(year) FROM table_1458412_1 WHERE avg_start = \"27.3\"\n",
            "Generated Answer: SELECT COUNT(year) FROM table_1458412_1 WHERE avg_start = \"27.3\"\n",
            "\n",
            "\n",
            "Similarity Score: 1.0000002\n",
            "Feedback: ('approve', 'SELECT COUNT(year) FROM table_1458412_1 WHERE avg_start = \"27.3\"')\n",
            "\n",
            "\n",
            "Success!\n",
            "Success Answer: SELECT COUNT(year) FROM table_1458412_1 WHERE avg_start = \"27.3\"\n",
            "\n",
            "\n"
          ]
        },
        {
          "output_type": "stream",
          "name": "stderr",
          "text": [
            "\r 30%|███       | 301/1000 [13:17<28:21,  2.43s/it]"
          ]
        },
        {
          "output_type": "stream",
          "name": "stdout",
          "text": [
            "\n",
            "\n",
            "Question: What is the altitude for the distance medellin downtown (km) is 42?\n",
            "\n",
            "Real Answer: SELECT altitude_m FROM table_name_10 WHERE distance_medellín_downtown___km__ = \"42\"\n",
            "Generated Answer: SELECT altitude_m FROM table_name_10 WHERE distance_medellín_downtown___km__ = \"42\"\n",
            "\n",
            "\n",
            "Similarity Score: 1.0\n",
            "Feedback: ('approve', 'SELECT altitude_m FROM table_name_10 WHERE distance_medellín_downtown___km__ = \"42\"')\n",
            "\n",
            "\n",
            "Success!\n",
            "Success Answer: SELECT altitude_m FROM table_name_10 WHERE distance_medellín_downtown___km__ = \"42\"\n",
            "\n",
            "\n"
          ]
        },
        {
          "output_type": "stream",
          "name": "stderr",
          "text": [
            "\r 30%|███       | 302/1000 [13:19<27:38,  2.38s/it]"
          ]
        },
        {
          "output_type": "stream",
          "name": "stdout",
          "text": [
            "\n",
            "\n",
            "Question: Name the D 41 which has a D 46 of r 6\n",
            "\n",
            "Real Answer: SELECT d_41 FROM table_name_97 WHERE d_46 = \"r 6\"\n",
            "Generated Answer: SELECT d_41 FROM table_name_97 WHERE d_46 = \"r 6\"\n",
            "\n",
            "\n",
            "Similarity Score: 1.0000002\n",
            "Feedback: ('approve', 'SELECT d_41 FROM table_name_97 WHERE d_46 = \"r 6\"')\n",
            "\n",
            "\n",
            "Success!\n",
            "Success Answer: SELECT d_41 FROM table_name_97 WHERE d_46 = \"r 6\"\n",
            "\n",
            "\n"
          ]
        },
        {
          "output_type": "stream",
          "name": "stderr",
          "text": [
            "\r 30%|███       | 303/1000 [13:21<28:04,  2.42s/it]"
          ]
        },
        {
          "output_type": "stream",
          "name": "stdout",
          "text": [
            "\n",
            "\n",
            "Question: Name the race name for june 6\n",
            "\n",
            "Real Answer: SELECT race_name FROM table_22669375_1 WHERE date = \"June 6\"\n",
            "Generated Answer: SELECT race_name FROM table_22669375_1 WHERE date = \"June 6\"\n",
            "\n",
            "\n",
            "Similarity Score: 1.0\n",
            "Feedback: ('approve', 'SELECT race_name FROM table_22669375_1 WHERE date = \"June 6\"')\n",
            "\n",
            "\n",
            "Success!\n",
            "Success Answer: SELECT race_name FROM table_22669375_1 WHERE date = \"June 6\"\n",
            "\n",
            "\n"
          ]
        },
        {
          "output_type": "stream",
          "name": "stderr",
          "text": [
            "\r 30%|███       | 304/1000 [13:24<30:04,  2.59s/it]"
          ]
        },
        {
          "output_type": "stream",
          "name": "stdout",
          "text": [
            "\n",
            "\n",
            "Question: NJame the total number of population for towns/villages for 217\n",
            "\n",
            "Real Answer: SELECT COUNT(population) FROM table_16278825_1 WHERE towns__villages = 217\n",
            "Generated Answer: SELECT COUNT(population) FROM table_16278825_1 WHERE towns__villages = \"217\"\n",
            "\n",
            "\n",
            "Similarity Score: 0.9939545\n",
            "Feedback: ('approve', 'SELECT COUNT(population) FROM table_16278825_1 WHERE towns__villages = \"217\"')\n",
            "\n",
            "\n",
            "Real Answer: SELECT COUNT(population) FROM table_16278825_1 WHERE towns__villages = 217\n",
            "Failed Answer: SELECT COUNT(population) FROM table_16278825_1 WHERE towns__villages = \"217\"\n",
            "\n",
            "\n"
          ]
        },
        {
          "output_type": "stream",
          "name": "stderr",
          "text": [
            "\r 30%|███       | 305/1000 [13:27<31:01,  2.68s/it]"
          ]
        },
        {
          "output_type": "stream",
          "name": "stdout",
          "text": [
            "\n",
            "\n",
            "Question: Who was No. 9 when No. 5 Mason and No. 3 Aiden?\n",
            "\n",
            "Real Answer: SELECT no_9 FROM table_name_65 WHERE no_5 = \"mason\" AND no_3 = \"aiden\"\n",
            "Generated Answer: SELECT no_9 FROM table_name_65 WHERE no_5 = \"mason\" AND no_3 = \"aiden\"\n",
            "\n",
            "\n",
            "Similarity Score: 0.9999999\n",
            "Feedback: ('approve', 'SELECT no_9 FROM table_name_65 WHERE no_5 = \"mason\" AND no_3 = \"aiden\"')\n",
            "\n",
            "\n",
            "Success!\n",
            "Success Answer: SELECT no_9 FROM table_name_65 WHERE no_5 = \"mason\" AND no_3 = \"aiden\"\n",
            "\n",
            "\n"
          ]
        },
        {
          "output_type": "stream",
          "name": "stderr",
          "text": [
            "\r 31%|███       | 306/1000 [13:30<30:07,  2.60s/it]"
          ]
        },
        {
          "output_type": "stream",
          "name": "stdout",
          "text": [
            "\n",
            "\n",
            "Question: What year did Naoki Tsukahara finish 3rd in the 200 m race?\n",
            "\n",
            "Real Answer: SELECT year FROM table_name_4 WHERE notes = \"200 m\" AND position = \"3rd\"\n",
            "Generated Answer: SELECT year FROM table_name_4 WHERE notes = \"200 m\" AND position = \"3rd\"\n",
            "\n",
            "\n",
            "Similarity Score: 0.9999998\n",
            "Feedback: ('approve', 'SELECT year FROM table_name_4 WHERE notes = \"200 m\" AND position = \"3rd\"')\n",
            "\n",
            "\n",
            "Success!\n",
            "Success Answer: SELECT year FROM table_name_4 WHERE notes = \"200 m\" AND position = \"3rd\"\n",
            "\n",
            "\n"
          ]
        },
        {
          "output_type": "stream",
          "name": "stderr",
          "text": [
            "\r 31%|███       | 307/1000 [13:32<29:15,  2.53s/it]"
          ]
        },
        {
          "output_type": "stream",
          "name": "stdout",
          "text": [
            "\n",
            "\n",
            "Question: Which school did the player then go to Auburn?\n",
            "\n",
            "Real Answer: SELECT school FROM table_11677691_7 WHERE college = \"Auburn\"\n",
            "Generated Answer: SELECT school FROM table_11677691_7 WHERE college = \"Auburn\"\n",
            "\n",
            "\n",
            "Similarity Score: 1.0\n",
            "Feedback: ('approve', 'SELECT school FROM table_11677691_7 WHERE college = \"Auburn\"')\n",
            "\n",
            "\n",
            "Success!\n",
            "Success Answer: SELECT school FROM table_11677691_7 WHERE college = \"Auburn\"\n",
            "\n",
            "\n"
          ]
        },
        {
          "output_type": "stream",
          "name": "stderr",
          "text": [
            "\r 31%|███       | 308/1000 [13:35<30:11,  2.62s/it]"
          ]
        },
        {
          "output_type": "stream",
          "name": "stdout",
          "text": [
            "\n",
            "\n",
            "Question: What is the name of the baseball stadium for the school with the Murray Center basketball arena?\n",
            "\n",
            "Real Answer: SELECT baseball_stadium FROM table_1974545_3 WHERE basketball_arena = \"The Murray Center\"\n",
            "Generated Answer: SELECT baseball_stadium FROM table_1974545_3 WHERE basketball_arena = \"Murray Center\"\n",
            "\n",
            "\n",
            "Similarity Score: 0.9968145\n",
            "Feedback: ('approve', 'SELECT baseball_stadium FROM table_1974545_3 WHERE basketball_arena = \"Murray Center\"')\n",
            "\n",
            "\n",
            "Real Answer: SELECT baseball_stadium FROM table_1974545_3 WHERE basketball_arena = \"The Murray Center\"\n",
            "Failed Answer: SELECT baseball_stadium FROM table_1974545_3 WHERE basketball_arena = \"Murray Center\"\n",
            "\n",
            "\n"
          ]
        },
        {
          "output_type": "stream",
          "name": "stderr",
          "text": [
            "\r 31%|███       | 309/1000 [13:38<30:32,  2.65s/it]"
          ]
        },
        {
          "output_type": "stream",
          "name": "stdout",
          "text": [
            "\n",
            "\n",
            "Question: What year had Nintendo EAD, Monolith Soft as developers?\n",
            "\n",
            "Real Answer: SELECT SUM(year) FROM table_name_36 WHERE developer_s_ = \"nintendo ead, monolith soft\"\n",
            "Generated Answer: SELECT MIN(year) FROM table_name_36 WHERE developer_s_ = \"nintendo ead, monolith soft\"\n",
            "\n",
            "\n",
            "Similarity Score: 0.7436531\n",
            "Feedback: ('correct', 'SELECT SUM(year) FROM table_name_36 WHERE developer_s_ = \"nintendo ead, monolith soft\"')\n",
            "\n",
            "\n",
            "Real Answer: SELECT SUM(year) FROM table_name_36 WHERE developer_s_ = \"nintendo ead, monolith soft\"\n",
            "Failed Answer: SELECT MIN(year) FROM table_name_36 WHERE developer_s_ = \"nintendo ead, monolith soft\"\n",
            "\n",
            "\n"
          ]
        },
        {
          "output_type": "stream",
          "name": "stderr",
          "text": [
            "\r 31%|███       | 310/1000 [13:40<29:31,  2.57s/it]"
          ]
        },
        {
          "output_type": "stream",
          "name": "stdout",
          "text": [
            "\n",
            "\n",
            "Question: What was the aggregate score for the match won by Viadana?\n",
            "\n",
            "Real Answer: SELECT aggregate_score FROM table_28068063_2 WHERE winners = \"Viadana\"\n",
            "Generated Answer: SELECT aggregate_score FROM table_28068063_2 WHERE winners = \"Viadana\"\n",
            "\n",
            "\n",
            "Similarity Score: 1.0000002\n",
            "Feedback: ('approve', 'SELECT aggregate_score FROM table_28068063_2 WHERE winners = \"Viadana\"')\n",
            "\n",
            "\n",
            "Success!\n",
            "Success Answer: SELECT aggregate_score FROM table_28068063_2 WHERE winners = \"Viadana\"\n",
            "\n",
            "\n"
          ]
        },
        {
          "output_type": "stream",
          "name": "stderr",
          "text": [
            "\r 31%|███       | 311/1000 [13:43<31:59,  2.79s/it]"
          ]
        },
        {
          "output_type": "stream",
          "name": "stdout",
          "text": [
            "\n",
            "\n",
            "Question: Which class has fewer than 89 points and the Honda team later than 1987?\n",
            "\n",
            "Real Answer: SELECT class FROM table_name_48 WHERE points < 89 AND team = \"honda\" AND year > 1987\n",
            "Generated Answer: SELECT COUNT(class) FROM table_name_48 WHERE points < 89 AND team = \"honda\" AND year > 1987\n",
            "\n",
            "\n",
            "Similarity Score: 0.80639464\n",
            "Feedback: ('approve', 'SELECT COUNT(class) FROM table_name_48 WHERE points < 89 AND team = \"honda\" AND year > 1987')\n",
            "\n",
            "\n",
            "Real Answer: SELECT class FROM table_name_48 WHERE points < 89 AND team = \"honda\" AND year > 1987\n",
            "Failed Answer: SELECT COUNT(class) FROM table_name_48 WHERE points < 89 AND team = \"honda\" AND year > 1987\n",
            "\n",
            "\n"
          ]
        },
        {
          "output_type": "stream",
          "name": "stderr",
          "text": [
            "\r 31%|███       | 312/1000 [13:46<30:17,  2.64s/it]"
          ]
        },
        {
          "output_type": "stream",
          "name": "stdout",
          "text": [
            "\n",
            "\n",
            "Question: What is the System with the Current version 3.0.0?\n",
            "\n",
            "Real Answer: SELECT system FROM table_name_58 WHERE current_version = \"3.0.0\"\n",
            "Generated Answer: SELECT system FROM table_name_58 WHERE current_version = \"3.0.0\"\n",
            "\n",
            "\n",
            "Similarity Score: 0.99999994\n",
            "Feedback: ('approve', 'SELECT system FROM table_name_58 WHERE current_version = \"3.0.0\"')\n",
            "\n",
            "\n",
            "Success!\n",
            "Success Answer: SELECT system FROM table_name_58 WHERE current_version = \"3.0.0\"\n",
            "\n",
            "\n"
          ]
        },
        {
          "output_type": "stream",
          "name": "stderr",
          "text": [
            "\r 31%|███▏      | 313/1000 [13:48<30:27,  2.66s/it]"
          ]
        },
        {
          "output_type": "stream",
          "name": "stdout",
          "text": [
            "\n",
            "\n",
            "Question: How many entries are shown for first elected for district 41?\n",
            "\n",
            "Real Answer: SELECT COUNT(first_elected) FROM table_11948857_1 WHERE district = 41\n",
            "Generated Answer: SELECT COUNT(first_elected) FROM table_11948857_1 WHERE district = 41\n",
            "\n",
            "\n",
            "Similarity Score: 0.99999976\n",
            "Feedback: ('approve', 'SELECT COUNT(first_elected) FROM table_11948857_1 WHERE district = 41')\n",
            "\n",
            "\n",
            "Success!\n",
            "Success Answer: SELECT COUNT(first_elected) FROM table_11948857_1 WHERE district = 41\n",
            "\n",
            "\n"
          ]
        },
        {
          "output_type": "stream",
          "name": "stderr",
          "text": [
            "\r 31%|███▏      | 314/1000 [13:51<29:29,  2.58s/it]"
          ]
        },
        {
          "output_type": "stream",
          "name": "stdout",
          "text": [
            "\n",
            "\n",
            "Question: What game ended with a final score of 126-108?\n",
            "\n",
            "Real Answer: SELECT MAX(game) FROM table_name_16 WHERE score = \"126-108\"\n",
            "Generated Answer: SELECT SUM(game) FROM table_name_16 WHERE score = \"126-108\"\n",
            "\n",
            "\n",
            "Similarity Score: 0.68407273\n",
            "Feedback: ('correct', 'SELECT MAX(game) FROM table_name_16 WHERE score = \"126-108\"')\n",
            "\n",
            "\n",
            "Real Answer: SELECT MAX(game) FROM table_name_16 WHERE score = \"126-108\"\n",
            "Failed Answer: SELECT SUM(game) FROM table_name_16 WHERE score = \"126-108\"\n",
            "\n",
            "\n"
          ]
        },
        {
          "output_type": "stream",
          "name": "stderr",
          "text": [
            "\r 32%|███▏      | 315/1000 [13:53<28:16,  2.48s/it]"
          ]
        },
        {
          "output_type": "stream",
          "name": "stdout",
          "text": [
            "\n",
            "\n",
            "Question: What country has a 76-71=147 score?\n",
            "\n",
            "Real Answer: SELECT country FROM table_name_8 WHERE score = 76 - 71 = 147\n",
            "Generated Answer: SELECT country FROM table_name_8 WHERE score = 76 - 71 = 147\n",
            "\n",
            "\n",
            "Similarity Score: 1.0000001\n",
            "Feedback: ('approve', 'SELECT country FROM table_name_8 WHERE score = 76 - 71 = 147')\n",
            "\n",
            "\n",
            "Success!\n",
            "Success Answer: SELECT country FROM table_name_8 WHERE score = 76 - 71 = 147\n",
            "\n",
            "\n"
          ]
        },
        {
          "output_type": "stream",
          "name": "stderr",
          "text": [
            "\r 32%|███▏      | 316/1000 [13:57<32:41,  2.87s/it]"
          ]
        },
        {
          "output_type": "stream",
          "name": "stdout",
          "text": [
            "\n",
            "\n",
            "Question: Count the Rank-Final which has a Year larger than 2008, and an Apparatus of balance beam, and a Rank-Qualifying larger than 4?\n",
            "\n",
            "Real Answer: SELECT COUNT(rank_final) FROM table_name_68 WHERE year > 2008 AND apparatus = \"balance beam\" AND rank_qualifying > 4\n",
            "Generated Answer: SELECT COUNT(rank_final) FROM table_name_68 WHERE year > 2008 AND apparatus = \"balance beam\" AND rank_qualifying > 4\n",
            "\n",
            "\n",
            "Similarity Score: 1.0000001\n",
            "Feedback: ('approve', 'SELECT COUNT(rank_final) FROM table_name_68 WHERE year > 2008 AND apparatus = \"balance beam\" AND rank_qualifying > 4')\n",
            "\n",
            "\n",
            "Success!\n",
            "Success Answer: SELECT COUNT(rank_final) FROM table_name_68 WHERE year > 2008 AND apparatus = \"balance beam\" AND rank_qualifying > 4\n",
            "\n",
            "\n"
          ]
        },
        {
          "output_type": "stream",
          "name": "stderr",
          "text": [
            "\r 32%|███▏      | 317/1000 [13:59<29:49,  2.62s/it]"
          ]
        },
        {
          "output_type": "stream",
          "name": "stdout",
          "text": [
            "\n",
            "\n",
            "Question: Who was the commentator when the spokesperson was michael aspel?\n",
            "\n",
            "Real Answer: SELECT commentator FROM table_name_35 WHERE spokespersons = \"michael aspel\"\n",
            "Generated Answer: SELECT commentator FROM table_name_35 WHERE spokespersons = \"michael aspel\"\n",
            "\n",
            "\n",
            "Similarity Score: 1.0\n",
            "Feedback: ('approve', 'SELECT commentator FROM table_name_35 WHERE spokespersons = \"michael aspel\"')\n",
            "\n",
            "\n",
            "Success!\n",
            "Success Answer: SELECT commentator FROM table_name_35 WHERE spokespersons = \"michael aspel\"\n",
            "\n",
            "\n"
          ]
        },
        {
          "output_type": "stream",
          "name": "stderr",
          "text": [
            "\r 32%|███▏      | 318/1000 [14:01<29:19,  2.58s/it]"
          ]
        },
        {
          "output_type": "stream",
          "name": "stdout",
          "text": [
            "\n",
            "\n",
            "Question: Which Result has a Score of 4-1, and a Competition of world cup qualifying?\n",
            "\n",
            "Real Answer: SELECT result FROM table_name_89 WHERE score = \"4-1\" AND competition = \"world cup qualifying\"\n",
            "Generated Answer: SELECT result FROM table_name_89 WHERE score = \"4-1\" AND competition = \"world cup qualifying\"\n",
            "\n",
            "\n",
            "Similarity Score: 1.0\n",
            "Feedback: ('approve', 'SELECT result FROM table_name_89 WHERE score = \"4-1\" AND competition = \"world cup qualifying\"')\n",
            "\n",
            "\n",
            "Success!\n",
            "Success Answer: SELECT result FROM table_name_89 WHERE score = \"4-1\" AND competition = \"world cup qualifying\"\n",
            "\n",
            "\n"
          ]
        },
        {
          "output_type": "stream",
          "name": "stderr",
          "text": [
            "\r 32%|███▏      | 319/1000 [14:04<28:43,  2.53s/it]"
          ]
        },
        {
          "output_type": "stream",
          "name": "stdout",
          "text": [
            "\n",
            "\n",
            "Question: How many Assists for the Player with a Rank greater than 3 in less than 25 Games?\n",
            "\n",
            "Real Answer: SELECT AVG(assists) FROM table_name_66 WHERE rank > 3 AND games < 25\n",
            "Generated Answer: SELECT SUM(assists) FROM table_name_66 WHERE rank > 3 AND games < 25\n",
            "\n",
            "\n",
            "Similarity Score: 0.83233386\n",
            "Feedback: ('approve', 'SELECT SUM(assists) FROM table_name_66 WHERE rank > 3 AND games < 25')\n",
            "\n",
            "\n",
            "Real Answer: SELECT AVG(assists) FROM table_name_66 WHERE rank > 3 AND games < 25\n",
            "Failed Answer: SELECT SUM(assists) FROM table_name_66 WHERE rank > 3 AND games < 25\n",
            "\n",
            "\n"
          ]
        },
        {
          "output_type": "stream",
          "name": "stderr",
          "text": [
            "\r 32%|███▏      | 320/1000 [14:06<27:44,  2.45s/it]"
          ]
        },
        {
          "output_type": "stream",
          "name": "stdout",
          "text": [
            "\n",
            "\n",
            "Question: What type of school is in swarthmore, pennsylvania?\n",
            "\n",
            "Real Answer: SELECT type FROM table_254776_1 WHERE location = \"Swarthmore, Pennsylvania\"\n",
            "Generated Answer: SELECT type FROM table_254776_1 WHERE location = \"Swarthmore, Pennsylvania\"\n",
            "\n",
            "\n",
            "Similarity Score: 0.99999994\n",
            "Feedback: ('approve', 'SELECT type FROM table_254776_1 WHERE location = \"Swarthmore, Pennsylvania\"')\n",
            "\n",
            "\n",
            "Success!\n",
            "Success Answer: SELECT type FROM table_254776_1 WHERE location = \"Swarthmore, Pennsylvania\"\n",
            "\n",
            "\n"
          ]
        },
        {
          "output_type": "stream",
          "name": "stderr",
          "text": [
            "\r 32%|███▏      | 321/1000 [14:08<26:22,  2.33s/it]"
          ]
        },
        {
          "output_type": "stream",
          "name": "stdout",
          "text": [
            "\n",
            "\n",
            "Question: What was the score in the game where the record was 10-9-7?\n",
            "\n",
            "Real Answer: SELECT score FROM table_name_94 WHERE record = \"10-9-7\"\n",
            "Generated Answer: SELECT score FROM table_name_94 WHERE record = \"10-9-7\"\n",
            "\n",
            "\n",
            "Similarity Score: 1.0000001\n",
            "Feedback: ('approve', 'SELECT score FROM table_name_94 WHERE record = \"10-9-7\"')\n",
            "\n",
            "\n",
            "Success!\n",
            "Success Answer: SELECT score FROM table_name_94 WHERE record = \"10-9-7\"\n",
            "\n",
            "\n"
          ]
        },
        {
          "output_type": "stream",
          "name": "stderr",
          "text": [
            "\r 32%|███▏      | 322/1000 [14:11<27:58,  2.48s/it]"
          ]
        },
        {
          "output_type": "stream",
          "name": "stdout",
          "text": [
            "\n",
            "\n",
            "Question: Tier of 2, and a Season of 2000–01 is what European competitions?\n",
            "\n",
            "Real Answer: SELECT european_competitions FROM table_name_35 WHERE tier = 2 AND season = \"2000–01\"\n",
            "Generated Answer: SELECT european_competitions FROM table_name_35 WHERE tier = 2 AND season = \"2000–01\"\n",
            "\n",
            "\n",
            "Similarity Score: 0.9999999\n",
            "Feedback: ('approve', 'SELECT european_competitions FROM table_name_35 WHERE tier = 2 AND season = \"2000–01\"')\n",
            "\n",
            "\n",
            "Success!\n",
            "Success Answer: SELECT european_competitions FROM table_name_35 WHERE tier = 2 AND season = \"2000–01\"\n",
            "\n",
            "\n"
          ]
        },
        {
          "output_type": "stream",
          "name": "stderr",
          "text": [
            "\r 32%|███▏      | 323/1000 [14:13<26:07,  2.32s/it]"
          ]
        },
        {
          "output_type": "stream",
          "name": "stdout",
          "text": [
            "\n",
            "\n",
            "Question: What is the Date with a Score with 86–108?\n",
            "\n",
            "Real Answer: SELECT date FROM table_name_7 WHERE score = \"86–108\"\n",
            "Generated Answer: SELECT date FROM table_name_7 WHERE score = \"86–108\"\n",
            "\n",
            "\n",
            "Similarity Score: 0.9999999\n",
            "Feedback: ('approve', 'SELECT date FROM table_name_7 WHERE score = \"86–108\"')\n",
            "\n",
            "\n",
            "Success!\n",
            "Success Answer: SELECT date FROM table_name_7 WHERE score = \"86–108\"\n",
            "\n",
            "\n"
          ]
        },
        {
          "output_type": "stream",
          "name": "stderr",
          "text": [
            "\r 32%|███▏      | 324/1000 [14:15<24:52,  2.21s/it]"
          ]
        },
        {
          "output_type": "stream",
          "name": "stdout",
          "text": [
            "\n",
            "\n",
            "Question: What is the surface when the tournament is manta, ecuador?\n",
            "\n",
            "Real Answer: SELECT surface FROM table_name_95 WHERE tournament = \"manta, ecuador\"\n",
            "Generated Answer: SELECT surface FROM table_name_95 WHERE tournament = \"manta, ecuador\"\n",
            "\n",
            "\n",
            "Similarity Score: 1.0000002\n",
            "Feedback: ('approve', 'SELECT surface FROM table_name_95 WHERE tournament = \"manta, ecuador\"')\n",
            "\n",
            "\n",
            "Success!\n",
            "Success Answer: SELECT surface FROM table_name_95 WHERE tournament = \"manta, ecuador\"\n",
            "\n",
            "\n"
          ]
        },
        {
          "output_type": "stream",
          "name": "stderr",
          "text": [
            "\r 32%|███▎      | 325/1000 [14:17<26:31,  2.36s/it]"
          ]
        },
        {
          "output_type": "stream",
          "name": "stdout",
          "text": [
            "\n",
            "\n",
            "Question: Which bike had a grid less than 35 and time at 37:58.607?\n",
            "\n",
            "Real Answer: SELECT bike FROM table_name_13 WHERE grid < 35 AND time = \"37:58.607\"\n",
            "Generated Answer: SELECT bike FROM table_name_13 WHERE grid < 35 AND time = \"37:58.607\"\n",
            "\n",
            "\n",
            "Similarity Score: 1.0000002\n",
            "Feedback: ('approve', 'SELECT bike FROM table_name_13 WHERE grid < 35 AND time = \"37:58.607\"')\n",
            "\n",
            "\n",
            "Success!\n",
            "Success Answer: SELECT bike FROM table_name_13 WHERE grid < 35 AND time = \"37:58.607\"\n",
            "\n",
            "\n"
          ]
        },
        {
          "output_type": "stream",
          "name": "stderr",
          "text": [
            "\r 33%|███▎      | 326/1000 [14:23<37:04,  3.30s/it]"
          ]
        },
        {
          "output_type": "stream",
          "name": "stdout",
          "text": [
            "\n",
            "\n",
            "Question: What is the earliest year of Valdimir Poelnikov, who has a final position-tour bigger than 72, a final position-vuelta less than 77, and a final position-giro less than 57?\n",
            "\n",
            "Real Answer: SELECT MIN(year) FROM table_name_67 WHERE final_position___tour > 72 AND final_position___vuelta < 77 AND final_position___giro < 57 AND rider = \"valdimir poelnikov\"\n",
            "Generated Answer: SELECT MIN(year) FROM table_name_67 WHERE final_position___tour > 72 AND final_position___vuelta < 77 AND final_position___giro < 57 AND rider = \"valdimir poelnikov\"\n",
            "\n",
            "\n",
            "Similarity Score: 1.0000002\n",
            "Feedback: ('approve', 'SELECT MIN(year) FROM table_name_67 WHERE final_position___tour > 72 AND final_position___vuelta < 77 AND final_position___giro < 57 AND rider = \"valdimir poelnikov\"')\n",
            "\n",
            "\n",
            "Success!\n",
            "Success Answer: SELECT MIN(year) FROM table_name_67 WHERE final_position___tour > 72 AND final_position___vuelta < 77 AND final_position___giro < 57 AND rider = \"valdimir poelnikov\"\n",
            "\n",
            "\n"
          ]
        },
        {
          "output_type": "stream",
          "name": "stderr",
          "text": [
            "\r 33%|███▎      | 327/1000 [14:25<34:53,  3.11s/it]"
          ]
        },
        {
          "output_type": "stream",
          "name": "stdout",
          "text": [
            "\n",
            "\n",
            "Question: Which country is Pete Cooper, who made $816, from?\n",
            "\n",
            "Real Answer: SELECT country FROM table_name_32 WHERE money___$__ = 816 AND player = \"pete cooper\"\n",
            "Generated Answer: SELECT country FROM table_name_32 WHERE money___$__ = \"816\" AND player = \"pete cooper\"\n",
            "\n",
            "\n",
            "Similarity Score: 0.9887756\n",
            "Feedback: ('approve', 'SELECT country FROM table_name_32 WHERE money___$__ = \"816\" AND player = \"pete cooper\"')\n",
            "\n",
            "\n",
            "Real Answer: SELECT country FROM table_name_32 WHERE money___$__ = 816 AND player = \"pete cooper\"\n",
            "Failed Answer: SELECT country FROM table_name_32 WHERE money___$__ = \"816\" AND player = \"pete cooper\"\n",
            "\n",
            "\n"
          ]
        },
        {
          "output_type": "stream",
          "name": "stderr",
          "text": [
            "\r 33%|███▎      | 328/1000 [14:27<30:22,  2.71s/it]"
          ]
        },
        {
          "output_type": "stream",
          "name": "stdout",
          "text": [
            "\n",
            "\n",
            "Question: WHAT IS THE ATTENDANCE  WITH A READING AWAY TEAM?\n",
            "\n",
            "Real Answer: SELECT attendance FROM table_name_40 WHERE away_team = \"reading\"\n",
            "Generated Answer: SELECT attendance FROM table_name_40 WHERE away_team = \"reading\"\n",
            "\n",
            "\n",
            "Similarity Score: 1.0\n",
            "Feedback: ('approve', 'SELECT attendance FROM table_name_40 WHERE away_team = \"reading\"')\n",
            "\n",
            "\n",
            "Success!\n",
            "Success Answer: SELECT attendance FROM table_name_40 WHERE away_team = \"reading\"\n",
            "\n",
            "\n"
          ]
        },
        {
          "output_type": "stream",
          "name": "stderr",
          "text": [
            "\r 33%|███▎      | 329/1000 [14:31<33:55,  3.03s/it]"
          ]
        },
        {
          "output_type": "stream",
          "name": "stdout",
          "text": [
            "\n",
            "\n",
            "Question: What is the Date when yelena isinbayeva was the Athlete, with a Record of 4.90m(16ft0¾in)?\n",
            "\n",
            "Real Answer: SELECT date FROM table_name_45 WHERE athlete = \"yelena isinbayeva\" AND record = \"4.90m(16ft0¾in)\"\n",
            "Generated Answer: SELECT date FROM table_name_45 WHERE athlete = \"yelena isinbayeva\" AND record = \"4.90m(16ft0¾in)\"\n",
            "\n",
            "\n",
            "Similarity Score: 0.99999994\n",
            "Feedback: ('approve', 'SELECT date FROM table_name_45 WHERE athlete = \"yelena isinbayeva\" AND record = \"4.90m(16ft0¾in)\"')\n",
            "\n",
            "\n",
            "Success!\n",
            "Success Answer: SELECT date FROM table_name_45 WHERE athlete = \"yelena isinbayeva\" AND record = \"4.90m(16ft0¾in)\"\n",
            "\n",
            "\n"
          ]
        },
        {
          "output_type": "stream",
          "name": "stderr",
          "text": [
            "\r 33%|███▎      | 330/1000 [14:34<32:35,  2.92s/it]"
          ]
        },
        {
          "output_type": "stream",
          "name": "stdout",
          "text": [
            "\n",
            "\n",
            "Question: How many licenses have mind workstation software?\n",
            "\n",
            "Real Answer: SELECT COUNT(license) FROM table_15038373_1 WHERE software = \"Mind WorkStation\"\n",
            "Generated Answer: SELECT COUNT(license) FROM table_15038373_1 WHERE software = \"Mind Workstation\"\n",
            "\n",
            "\n",
            "Similarity Score: 1.0\n",
            "Feedback: ('approve', 'SELECT COUNT(license) FROM table_15038373_1 WHERE software = \"Mind Workstation\"')\n",
            "\n",
            "\n",
            "Real Answer: SELECT COUNT(license) FROM table_15038373_1 WHERE software = \"Mind WorkStation\"\n",
            "Failed Answer: SELECT COUNT(license) FROM table_15038373_1 WHERE software = \"Mind Workstation\"\n",
            "\n",
            "\n"
          ]
        },
        {
          "output_type": "stream",
          "name": "stderr",
          "text": [
            "\r 33%|███▎      | 331/1000 [14:39<40:49,  3.66s/it]"
          ]
        },
        {
          "output_type": "stream",
          "name": "stdout",
          "text": [
            "\n",
            "\n",
            "Question: Who were the starting actors in the time frame of  tuesday 22:00~22:54 8 april 2008 to 17 june 2008?\n",
            "\n",
            "Real Answer: SELECT starring_actors FROM table_18539834_2 WHERE time_frame = \"Tuesday 22:00~22:54 8 April 2008 to 17 June 2008\"\n",
            "Generated Answer: SELECT starring_actors FROM table_18539834_2 WHERE time_frame = \"Tuesday 22:00~22:54 8 April 2008 to 17 June 2008\"\n",
            "\n",
            "\n",
            "Similarity Score: 1.0\n",
            "Feedback: ('approve', 'SELECT starring_actors FROM table_18539834_2 WHERE time_frame = \"Tuesday 22:00~22:54 8 April 2008 to 17 June 2008\"')\n",
            "\n",
            "\n",
            "Success!\n",
            "Success Answer: SELECT starring_actors FROM table_18539834_2 WHERE time_frame = \"Tuesday 22:00~22:54 8 April 2008 to 17 June 2008\"\n",
            "\n",
            "\n"
          ]
        },
        {
          "output_type": "stream",
          "name": "stderr",
          "text": [
            "\r 33%|███▎      | 332/1000 [14:44<45:15,  4.07s/it]"
          ]
        },
        {
          "output_type": "stream",
          "name": "stdout",
          "text": [
            "\n",
            "\n",
            "Question: List the forename and surname of all distinct drivers who once had laptime less than 93000 milliseconds?\n",
            "\n",
            "Real Answer: SELECT DISTINCT T1.forename, T1.surname FROM drivers AS T1 JOIN laptimes AS T2 ON T1.driverid = T2.driverid WHERE T2.milliseconds < 93000\n",
            "Generated Answer: SELECT DISTINCT T1.forename, T1.surname FROM drivers AS T1 JOIN laptimes AS T2 ON T1.driverid = T2.driverid WHERE T2.milliseconds < 93000\n",
            "\n",
            "\n",
            "Similarity Score: 0.99999994\n",
            "Feedback: ('approve', 'SELECT DISTINCT T1.forename, T1.surname FROM drivers AS T1 JOIN laptimes AS T2 ON T1.driverid = T2.driverid WHERE T2.milliseconds < 93000')\n",
            "\n",
            "\n",
            "Success!\n",
            "Success Answer: SELECT DISTINCT T1.forename, T1.surname FROM drivers AS T1 JOIN laptimes AS T2 ON T1.driverid = T2.driverid WHERE T2.milliseconds < 93000\n",
            "\n",
            "\n"
          ]
        },
        {
          "output_type": "stream",
          "name": "stderr",
          "text": [
            "\r 33%|███▎      | 333/1000 [14:47<41:31,  3.74s/it]"
          ]
        },
        {
          "output_type": "stream",
          "name": "stdout",
          "text": [
            "\n",
            "\n",
            "Question: What date did the Green-Communists receive 5.7%?\n",
            "\n",
            "Real Answer: SELECT date_released FROM table_1881642_1 WHERE green_communist = \"5.7%\"\n",
            "Generated Answer: SELECT date_released FROM table_1881642_1 WHERE green_communist = \"5.7%\"\n",
            "\n",
            "\n",
            "Similarity Score: 1.0000001\n",
            "Feedback: ('approve', 'SELECT date_released FROM table_1881642_1 WHERE green_communist = \"5.7%\"')\n",
            "\n",
            "\n",
            "Success!\n",
            "Success Answer: SELECT date_released FROM table_1881642_1 WHERE green_communist = \"5.7%\"\n",
            "\n",
            "\n"
          ]
        },
        {
          "output_type": "stream",
          "name": "stderr",
          "text": [
            "\r 33%|███▎      | 334/1000 [14:50<37:19,  3.36s/it]"
          ]
        },
        {
          "output_type": "stream",
          "name": "stdout",
          "text": [
            "\n",
            "\n",
            "Question: What label released a CD in 1988?\n",
            "\n",
            "Real Answer: SELECT label FROM table_name_37 WHERE date = \"1988\" AND format = \"cd\"\n",
            "Generated Answer: SELECT label FROM table_name_37 WHERE date = \"1988\" AND format = \"cd\"\n",
            "\n",
            "\n",
            "Similarity Score: 0.9999998\n",
            "Feedback: ('approve', 'SELECT label FROM table_name_37 WHERE date = \"1988\" AND format = \"cd\"')\n",
            "\n",
            "\n",
            "Success!\n",
            "Success Answer: SELECT label FROM table_name_37 WHERE date = \"1988\" AND format = \"cd\"\n",
            "\n",
            "\n"
          ]
        },
        {
          "output_type": "stream",
          "name": "stderr",
          "text": [
            "\r 34%|███▎      | 335/1000 [14:52<35:48,  3.23s/it]"
          ]
        },
        {
          "output_type": "stream",
          "name": "stdout",
          "text": [
            "\n",
            "\n",
            "Question: what is the score when the outcome is winner against yevgeny kafelnikov?\n",
            "\n",
            "Real Answer: SELECT score FROM table_name_51 WHERE outcome = \"winner\" AND opponent = \"yevgeny kafelnikov\"\n",
            "Generated Answer: SELECT score FROM table_name_51 WHERE outcome = \"winner\" AND opponent = \"yevgeny kafelnikov\"\n",
            "\n",
            "\n",
            "Similarity Score: 0.9999998\n",
            "Feedback: ('approve', 'SELECT score FROM table_name_51 WHERE outcome = \"winner\" AND opponent = \"yevgeny kafelnikov\"')\n",
            "\n",
            "\n",
            "Success!\n",
            "Success Answer: SELECT score FROM table_name_51 WHERE outcome = \"winner\" AND opponent = \"yevgeny kafelnikov\"\n",
            "\n",
            "\n"
          ]
        },
        {
          "output_type": "stream",
          "name": "stderr",
          "text": [
            "\r 34%|███▎      | 336/1000 [14:53<27:57,  2.53s/it]"
          ]
        },
        {
          "output_type": "stream",
          "name": "stdout",
          "text": [
            "\n",
            "\n",
            "Question: What is the total checking balance in all accounts?\n",
            "\n",
            "Real Answer: SELECT SUM(balance) FROM checking\n",
            "Generated Answer: SELECT SUM(balance) FROM checking\n",
            "\n",
            "\n",
            "Similarity Score: 1.0\n",
            "Feedback: ('approve', 'SELECT SUM(balance) FROM checking')\n",
            "\n",
            "\n",
            "Success!\n",
            "Success Answer: SELECT SUM(balance) FROM checking\n",
            "\n",
            "\n"
          ]
        },
        {
          "output_type": "stream",
          "name": "stderr",
          "text": [
            "\r 34%|███▎      | 337/1000 [14:58<34:30,  3.12s/it]"
          ]
        },
        {
          "output_type": "stream",
          "name": "stdout",
          "text": [
            "\n",
            "\n",
            "Question: What is the TV Channel that shows the cartoon \"The Rise of the Blue Beetle!\"? List the TV Channel's series name.\n",
            "\n",
            "Real Answer: SELECT T1.series_name FROM TV_Channel AS T1 JOIN Cartoon AS T2 ON T1.id = T2.Channel WHERE T2.Title = \"The Rise of the Blue Beetle!\"\n",
            "Generated Answer: SELECT T1.series_name FROM TV_Channel AS T1 JOIN Cartoon AS T2 ON T1.id = T2.Channel WHERE T2.Title = \"The Rise of the Blue Beetle!\"\n",
            "\n",
            "\n",
            "Similarity Score: 1.0\n",
            "Feedback: ('approve', 'SELECT T1.series_name FROM TV_Channel AS T1 JOIN Cartoon AS T2 ON T1.id = T2.Channel WHERE T2.Title = \"The Rise of the Blue Beetle!\"')\n",
            "\n",
            "\n",
            "Success!\n",
            "Success Answer: SELECT T1.series_name FROM TV_Channel AS T1 JOIN Cartoon AS T2 ON T1.id = T2.Channel WHERE T2.Title = \"The Rise of the Blue Beetle!\"\n",
            "\n",
            "\n"
          ]
        },
        {
          "output_type": "stream",
          "name": "stderr",
          "text": [
            "\r 34%|███▍      | 338/1000 [15:00<30:24,  2.76s/it]"
          ]
        },
        {
          "output_type": "stream",
          "name": "stdout",
          "text": [
            "\n",
            "\n",
            "Question: Name the Place of seve ballesteros?\n",
            "\n",
            "Real Answer: SELECT place FROM table_name_35 WHERE player = \"seve ballesteros\"\n",
            "Generated Answer: SELECT place FROM table_name_35 WHERE player = \"seve ballesteros\"\n",
            "\n",
            "\n",
            "Similarity Score: 1.0\n",
            "Feedback: ('approve', 'SELECT place FROM table_name_35 WHERE player = \"seve ballesteros\"')\n",
            "\n",
            "\n",
            "Success!\n",
            "Success Answer: SELECT place FROM table_name_35 WHERE player = \"seve ballesteros\"\n",
            "\n",
            "\n"
          ]
        },
        {
          "output_type": "stream",
          "name": "stderr",
          "text": [
            "\r 34%|███▍      | 339/1000 [15:02<27:12,  2.47s/it]"
          ]
        },
        {
          "output_type": "stream",
          "name": "stdout",
          "text": [
            "\n",
            "\n",
            "Question: What win method has a time of 2:32?\n",
            "\n",
            "Real Answer: SELECT method FROM table_name_71 WHERE time = \"2:32\"\n",
            "Generated Answer: SELECT method FROM table_name_71 WHERE time = \"2:32\"\n",
            "\n",
            "\n",
            "Similarity Score: 1.0\n",
            "Feedback: ('approve', 'SELECT method FROM table_name_71 WHERE time = \"2:32\"')\n",
            "\n",
            "\n",
            "Success!\n",
            "Success Answer: SELECT method FROM table_name_71 WHERE time = \"2:32\"\n",
            "\n",
            "\n"
          ]
        },
        {
          "output_type": "stream",
          "name": "stderr",
          "text": [
            "\r 34%|███▍      | 340/1000 [15:05<31:09,  2.83s/it]"
          ]
        },
        {
          "output_type": "stream",
          "name": "stdout",
          "text": [
            "\n",
            "\n",
            "Question: Which Years in Orlando has a Nationality of united states, a Position of center, and a Player of jawann oldham?\n",
            "\n",
            "Real Answer: SELECT years_in_orlando FROM table_name_10 WHERE nationality = \"united states\" AND position = \"center\" AND player = \"jawann oldham\"\n",
            "Generated Answer: SELECT years_in_orlando FROM table_name_10 WHERE nationality = \"united states\" AND position = \"center\" AND player = \"jawann oldham\"\n",
            "\n",
            "\n",
            "Similarity Score: 0.9999999\n",
            "Feedback: ('approve', 'SELECT years_in_orlando FROM table_name_10 WHERE nationality = \"united states\" AND position = \"center\" AND player = \"jawann oldham\"')\n",
            "\n",
            "\n",
            "Success!\n",
            "Success Answer: SELECT years_in_orlando FROM table_name_10 WHERE nationality = \"united states\" AND position = \"center\" AND player = \"jawann oldham\"\n",
            "\n",
            "\n"
          ]
        },
        {
          "output_type": "stream",
          "name": "stderr",
          "text": [
            "\r 34%|███▍      | 341/1000 [15:07<27:34,  2.51s/it]"
          ]
        },
        {
          "output_type": "stream",
          "name": "stdout",
          "text": [
            "\n",
            "\n",
            "Question: What is the average Total with a Gold that is larger than 4?\n",
            "\n",
            "Real Answer: SELECT AVG(total) FROM table_name_77 WHERE gold > 4\n",
            "Generated Answer: SELECT AVG(total) FROM table_name_77 WHERE gold > 4\n",
            "\n",
            "\n",
            "Similarity Score: 1.0\n",
            "Feedback: ('approve', 'SELECT AVG(total) FROM table_name_77 WHERE gold > 4')\n",
            "\n",
            "\n",
            "Success!\n",
            "Success Answer: SELECT AVG(total) FROM table_name_77 WHERE gold > 4\n",
            "\n",
            "\n"
          ]
        },
        {
          "output_type": "stream",
          "name": "stderr",
          "text": [
            "\r 34%|███▍      | 342/1000 [15:09<26:03,  2.38s/it]"
          ]
        },
        {
          "output_type": "stream",
          "name": "stdout",
          "text": [
            "\n",
            "\n",
            "Question: Who won when Peter Fleming was a runner-up?\n",
            "\n",
            "Real Answer: SELECT champion FROM table_name_82 WHERE runner_up = \"peter fleming\"\n",
            "Generated Answer: SELECT champion FROM table_name_82 WHERE runner_up = \"peter fleming\"\n",
            "\n",
            "\n",
            "Similarity Score: 1.0000002\n",
            "Feedback: ('approve', 'SELECT champion FROM table_name_82 WHERE runner_up = \"peter fleming\"')\n",
            "\n",
            "\n",
            "Success!\n",
            "Success Answer: SELECT champion FROM table_name_82 WHERE runner_up = \"peter fleming\"\n",
            "\n",
            "\n"
          ]
        },
        {
          "output_type": "stream",
          "name": "stderr",
          "text": [
            "\r 34%|███▍      | 343/1000 [15:12<27:09,  2.48s/it]"
          ]
        },
        {
          "output_type": "stream",
          "name": "stdout",
          "text": [
            "\n",
            "\n",
            "Question: WHERE THE THEME WAS \"YEAR THEY WERE BORN,\" WHAT THE TOTAL NUMBER OF RESULTS?\n",
            "\n",
            "Real Answer: SELECT COUNT(result) FROM table_15778392_1 WHERE theme = \"Year They Were Born\"\n",
            "Generated Answer: SELECT COUNT(result) FROM table_15778392_1 WHERE theme = \"Year they were born\"\n",
            "\n",
            "\n",
            "Similarity Score: 0.99999964\n",
            "Feedback: ('approve', 'SELECT COUNT(result) FROM table_15778392_1 WHERE theme = \"Year they were born\"')\n",
            "\n",
            "\n",
            "Real Answer: SELECT COUNT(result) FROM table_15778392_1 WHERE theme = \"Year They Were Born\"\n",
            "Failed Answer: SELECT COUNT(result) FROM table_15778392_1 WHERE theme = \"Year they were born\"\n",
            "\n",
            "\n"
          ]
        },
        {
          "output_type": "stream",
          "name": "stderr",
          "text": [
            "\r 34%|███▍      | 344/1000 [15:15<30:15,  2.77s/it]"
          ]
        },
        {
          "output_type": "stream",
          "name": "stdout",
          "text": [
            "\n",
            "\n",
            "Question: What is the lower turnout that has a byut of 50.7 and an ou psd smaller than 36.8?\n",
            "\n",
            "Real Answer: SELECT MIN(voter_turnout) FROM table_name_62 WHERE byut = 50.7 AND ou_psd < 36.8\n",
            "Generated Answer: SELECT MIN(voter_turnout) FROM table_name_62 WHERE byut = 50.7 AND ou_psd < 36.8\n",
            "\n",
            "\n",
            "Similarity Score: 0.9999999\n",
            "Feedback: ('approve', 'SELECT MIN(voter_turnout) FROM table_name_62 WHERE byut = 50.7 AND ou_psd < 36.8')\n",
            "\n",
            "\n",
            "Success!\n",
            "Success Answer: SELECT MIN(voter_turnout) FROM table_name_62 WHERE byut = 50.7 AND ou_psd < 36.8\n",
            "\n",
            "\n"
          ]
        },
        {
          "output_type": "stream",
          "name": "stderr",
          "text": [
            "\r 34%|███▍      | 345/1000 [15:18<28:41,  2.63s/it]"
          ]
        },
        {
          "output_type": "stream",
          "name": "stdout",
          "text": [
            "\n",
            "\n",
            "Question: What is the NVR Page of the ship with a Home Port of Sasebo, Japan?\n",
            "\n",
            "Real Answer: SELECT nvr_page FROM table_name_6 WHERE home_port = \"sasebo, japan\"\n",
            "Generated Answer: SELECT nrv_page FROM table_name_6 WHERE home_port = \"sasebo, japan\"\n",
            "\n",
            "\n",
            "Similarity Score: 0.8799454\n",
            "Feedback: ('approve', 'SELECT nrv_page FROM table_name_6 WHERE home_port = \"sasebo, japan\"')\n",
            "\n",
            "\n",
            "Real Answer: SELECT nvr_page FROM table_name_6 WHERE home_port = \"sasebo, japan\"\n",
            "Failed Answer: SELECT nrv_page FROM table_name_6 WHERE home_port = \"sasebo, japan\"\n",
            "\n",
            "\n"
          ]
        },
        {
          "output_type": "stream",
          "name": "stderr",
          "text": [
            "\r 35%|███▍      | 346/1000 [15:20<27:49,  2.55s/it]"
          ]
        },
        {
          "output_type": "stream",
          "name": "stdout",
          "text": [
            "\n",
            "\n",
            "Question: What is the courtesy title of the person whose tenure goes from 1766–1794?\n",
            "\n",
            "Real Answer: SELECT courtesy_title FROM table_name_1 WHERE tenure = \"1766–1794\"\n",
            "Generated Answer: SELECT courtesy_title FROM table_name_1 WHERE tenure = \"1766–1794\"\n",
            "\n",
            "\n",
            "Similarity Score: 0.9999999\n",
            "Feedback: ('approve', 'SELECT courtesy_title FROM table_name_1 WHERE tenure = \"1766–1794\"')\n",
            "\n",
            "\n",
            "Success!\n",
            "Success Answer: SELECT courtesy_title FROM table_name_1 WHERE tenure = \"1766–1794\"\n",
            "\n",
            "\n"
          ]
        },
        {
          "output_type": "stream",
          "name": "stderr",
          "text": [
            "\r 35%|███▍      | 347/1000 [15:23<28:08,  2.59s/it]"
          ]
        },
        {
          "output_type": "stream",
          "name": "stdout",
          "text": [
            "\n",
            "\n",
            "Question: What is To Par, when Place is \"T9\", and when Player is \"Lee Trevino\"?\n",
            "\n",
            "Real Answer: SELECT to_par FROM table_name_23 WHERE place = \"t9\" AND player = \"lee trevino\"\n",
            "Generated Answer: SELECT to_par FROM table_name_23 WHERE place = \"t9\" AND player = \"lee trevino\"\n",
            "\n",
            "\n",
            "Similarity Score: 1.0000002\n",
            "Feedback: ('approve', 'SELECT to_par FROM table_name_23 WHERE place = \"t9\" AND player = \"lee trevino\"')\n",
            "\n",
            "\n",
            "Success!\n",
            "Success Answer: SELECT to_par FROM table_name_23 WHERE place = \"t9\" AND player = \"lee trevino\"\n",
            "\n",
            "\n"
          ]
        },
        {
          "output_type": "stream",
          "name": "stderr",
          "text": [
            "\r 35%|███▍      | 348/1000 [15:26<29:34,  2.72s/it]"
          ]
        },
        {
          "output_type": "stream",
          "name": "stdout",
          "text": [
            "\n",
            "\n",
            "Question: What is the tournament with a 2r in 2009 and a 2r in 2010?\n",
            "\n",
            "Real Answer: SELECT tournament FROM table_name_96 WHERE 2009 = \"2r\" AND 2010 = \"2r\"\n",
            "Generated Answer: SELECT tournament FROM table_name_96 WHERE 2009 = \"2r\" AND 2010 = \"2r\"\n",
            "\n",
            "\n",
            "Similarity Score: 1.0\n",
            "Feedback: ('approve', 'SELECT tournament FROM table_name_96 WHERE 2009 = \"2r\" AND 2010 = \"2r\"')\n",
            "\n",
            "\n",
            "Success!\n",
            "Success Answer: SELECT tournament FROM table_name_96 WHERE 2009 = \"2r\" AND 2010 = \"2r\"\n",
            "\n",
            "\n"
          ]
        },
        {
          "output_type": "stream",
          "name": "stderr",
          "text": [
            "\r 35%|███▍      | 349/1000 [15:31<38:27,  3.54s/it]"
          ]
        },
        {
          "output_type": "stream",
          "name": "stdout",
          "text": [
            "\n",
            "\n",
            "Question: If the San Antonio de Lomerio municipality percentage is 5.480, what is the total percentage for the San Julian municipality?\n",
            "\n",
            "Real Answer: SELECT COUNT(san_julián_municipality___percentage_) FROM table_19998428_3 WHERE san_antonio_de_lomerío_municipality___percentage_ = \"5.480\"\n",
            "Generated Answer: SELECT COUNT(san_julián_municipality___percentage_) FROM table_19998428_3 WHERE san_antonio_de_lomerío_municipality___percentage_ = \"5.480\"\n",
            "\n",
            "\n",
            "Similarity Score: 0.9999999\n",
            "Feedback: ('approve', 'SELECT COUNT(san_julián_municipality___percentage_) FROM table_19998428_3 WHERE san_antonio_de_lomerío_municipality___percentage_ = \"5.480\"')\n",
            "\n",
            "\n",
            "Success!\n",
            "Success Answer: SELECT COUNT(san_julián_municipality___percentage_) FROM table_19998428_3 WHERE san_antonio_de_lomerío_municipality___percentage_ = \"5.480\"\n",
            "\n",
            "\n"
          ]
        },
        {
          "output_type": "stream",
          "name": "stderr",
          "text": [
            "\r 35%|███▌      | 350/1000 [15:33<32:34,  3.01s/it]"
          ]
        },
        {
          "output_type": "stream",
          "name": "stdout",
          "text": [
            "\n",
            "\n",
            "Question: What is the number of points when the draws are more than 1?\n",
            "\n",
            "Real Answer: SELECT COUNT(points) FROM table_name_57 WHERE draw > 1\n",
            "Generated Answer: SELECT COUNT(points) FROM table_name_57 WHERE draw > 1\n",
            "\n",
            "\n",
            "Similarity Score: 1.0\n",
            "Feedback: ('approve', 'SELECT COUNT(points) FROM table_name_57 WHERE draw > 1')\n",
            "\n",
            "\n",
            "Success!\n",
            "Success Answer: SELECT COUNT(points) FROM table_name_57 WHERE draw > 1\n",
            "\n",
            "\n"
          ]
        },
        {
          "output_type": "stream",
          "name": "stderr",
          "text": [
            "\r 35%|███▌      | 351/1000 [15:35<31:02,  2.87s/it]"
          ]
        },
        {
          "output_type": "stream",
          "name": "stdout",
          "text": [
            "\n",
            "\n",
            "Question: On which date did Ger Loughnane from Team Clare have a match?\n",
            "\n",
            "Real Answer: SELECT date FROM table_name_88 WHERE team = \"clare\" AND player = \"ger loughnane\"\n",
            "Generated Answer: SELECT date FROM table_name_88 WHERE team = \"clare\" AND player = \"ger loughnane\"\n",
            "\n",
            "\n",
            "Similarity Score: 0.9999999\n",
            "Feedback: ('approve', 'SELECT date FROM table_name_88 WHERE team = \"clare\" AND player = \"ger loughnane\"')\n",
            "\n",
            "\n",
            "Success!\n",
            "Success Answer: SELECT date FROM table_name_88 WHERE team = \"clare\" AND player = \"ger loughnane\"\n",
            "\n",
            "\n"
          ]
        },
        {
          "output_type": "stream",
          "name": "stderr",
          "text": [
            "\r 35%|███▌      | 352/1000 [15:39<31:45,  2.94s/it]"
          ]
        },
        {
          "output_type": "stream",
          "name": "stdout",
          "text": [
            "\n",
            "\n",
            "Question: What's the lane number when time was 20.45 and the react was less than 0.164?\n",
            "\n",
            "Real Answer: SELECT MAX(lane) FROM table_name_85 WHERE react < 0.164 AND time = \"20.45\"\n",
            "Generated Answer: SELECT SUM(lane) FROM table_name_85 WHERE react < 0.164 AND time = \"20.45\"\n",
            "\n",
            "\n",
            "Similarity Score: 0.73589766\n",
            "Feedback: ('correct', 'SELECT MAX(lane) FROM table_name_85 WHERE react < 0.164 AND time = \"20.45\"')\n",
            "\n",
            "\n",
            "Real Answer: SELECT MAX(lane) FROM table_name_85 WHERE react < 0.164 AND time = \"20.45\"\n",
            "Failed Answer: SELECT SUM(lane) FROM table_name_85 WHERE react < 0.164 AND time = \"20.45\"\n",
            "\n",
            "\n"
          ]
        },
        {
          "output_type": "stream",
          "name": "stderr",
          "text": [
            "\r 35%|███▌      | 353/1000 [15:41<29:01,  2.69s/it]"
          ]
        },
        {
          "output_type": "stream",
          "name": "stdout",
          "text": [
            "\n",
            "\n",
            "Question: What Region has a Catalog of crgd 86136?\n",
            "\n",
            "Real Answer: SELECT region FROM table_name_47 WHERE catalog = \"crgd 86136\"\n",
            "Generated Answer: SELECT region FROM table_name_47 WHERE catalog = \"crgd 86136\"\n",
            "\n",
            "\n",
            "Similarity Score: 1.0000001\n",
            "Feedback: ('approve', 'SELECT region FROM table_name_47 WHERE catalog = \"crgd 86136\"')\n",
            "\n",
            "\n",
            "Success!\n",
            "Success Answer: SELECT region FROM table_name_47 WHERE catalog = \"crgd 86136\"\n",
            "\n",
            "\n"
          ]
        },
        {
          "output_type": "stream",
          "name": "stderr",
          "text": [
            "\r 35%|███▌      | 354/1000 [15:44<30:24,  2.82s/it]"
          ]
        },
        {
          "output_type": "stream",
          "name": "stdout",
          "text": [
            "\n",
            "\n",
            "Question: On what day was the race that Cale Yarborough won in 364 laps?\n",
            "\n",
            "Real Answer: SELECT day FROM table_22298383_1 WHERE laps = \"364\" AND driver = \"Cale Yarborough\"\n",
            "Generated Answer: SELECT day FROM table_22298383_1 WHERE laps = 364 AND driver = \"Cale Yarborough\"\n",
            "\n",
            "\n",
            "Similarity Score: 0.99663734\n",
            "Feedback: ('approve', 'SELECT day FROM table_22298383_1 WHERE laps = 364 AND driver = \"Cale Yarborough\"')\n",
            "\n",
            "\n",
            "Real Answer: SELECT day FROM table_22298383_1 WHERE laps = \"364\" AND driver = \"Cale Yarborough\"\n",
            "Failed Answer: SELECT day FROM table_22298383_1 WHERE laps = 364 AND driver = \"Cale Yarborough\"\n",
            "\n",
            "\n"
          ]
        },
        {
          "output_type": "stream",
          "name": "stderr",
          "text": [
            "\r 36%|███▌      | 355/1000 [15:46<28:54,  2.69s/it]"
          ]
        },
        {
          "output_type": "stream",
          "name": "stdout",
          "text": [
            "\n",
            "\n",
            "Question: What European competitions have a tier of 2 and a position of 3?\n",
            "\n",
            "Real Answer: SELECT european_competitions FROM table_name_48 WHERE tier = 2 AND pos = 3\n",
            "Generated Answer: SELECT european_competitions FROM table_name_48 WHERE tier = 2 AND pos = 3\n",
            "\n",
            "\n",
            "Similarity Score: 1.0000001\n",
            "Feedback: ('approve', 'SELECT european_competitions FROM table_name_48 WHERE tier = 2 AND pos = 3')\n",
            "\n",
            "\n",
            "Success!\n",
            "Success Answer: SELECT european_competitions FROM table_name_48 WHERE tier = 2 AND pos = 3\n",
            "\n",
            "\n"
          ]
        },
        {
          "output_type": "stream",
          "name": "stderr",
          "text": [
            "\r 36%|███▌      | 356/1000 [15:48<26:11,  2.44s/it]"
          ]
        },
        {
          "output_type": "stream",
          "name": "stdout",
          "text": [
            "\n",
            "\n",
            "Question: For the game where the away team was North Melbourne, what was the venue?\n",
            "\n",
            "Real Answer: SELECT venue FROM table_name_7 WHERE away_team = \"north melbourne\"\n",
            "Generated Answer: SELECT venue FROM table_name_7 WHERE away_team = \"north melbourne\"\n",
            "\n",
            "\n",
            "Similarity Score: 1.0\n",
            "Feedback: ('approve', 'SELECT venue FROM table_name_7 WHERE away_team = \"north melbourne\"')\n",
            "\n",
            "\n",
            "Success!\n",
            "Success Answer: SELECT venue FROM table_name_7 WHERE away_team = \"north melbourne\"\n",
            "\n",
            "\n"
          ]
        },
        {
          "output_type": "stream",
          "name": "stderr",
          "text": [
            "\r 36%|███▌      | 357/1000 [15:51<28:38,  2.67s/it]"
          ]
        },
        {
          "output_type": "stream",
          "name": "stdout",
          "text": [
            "\n",
            "\n",
            "Question: Find the number of complaints with Product Failure type for each complaint status.\n",
            "\n",
            "Real Answer: SELECT complaint_status_code, COUNT(*) FROM complaints WHERE complaint_type_code = \"Product Failure\" GROUP BY complaint_status_code\n",
            "Generated Answer: SELECT COUNT(*), complaint_status_code FROM complaints WHERE complaint_type_code = 'Product Failure' GROUP BY complaint_status_code\n",
            "\n",
            "\n",
            "Similarity Score: 0.9744806\n",
            "Feedback: ('approve', \"SELECT COUNT(*), complaint_status_code FROM complaints WHERE complaint_type_code = 'Product Failure' GROUP BY complaint_status_code\")\n",
            "\n",
            "\n",
            "Real Answer: SELECT complaint_status_code, COUNT(*) FROM complaints WHERE complaint_type_code = \"Product Failure\" GROUP BY complaint_status_code\n",
            "Failed Answer: SELECT COUNT(*), complaint_status_code FROM complaints WHERE complaint_type_code = 'Product Failure' GROUP BY complaint_status_code\n",
            "\n",
            "\n"
          ]
        },
        {
          "output_type": "stream",
          "name": "stderr",
          "text": [
            "\r 36%|███▌      | 358/1000 [15:53<25:37,  2.40s/it]"
          ]
        },
        {
          "output_type": "stream",
          "name": "stdout",
          "text": [
            "\n",
            "\n",
            "Question: Which Laps have Points of 29?\n",
            "\n",
            "Real Answer: SELECT laps FROM table_name_23 WHERE points = 29\n",
            "Generated Answer: SELECT laps FROM table_name_23 WHERE points = \"29\"\n",
            "\n",
            "\n",
            "Similarity Score: 0.9914104\n",
            "Feedback: ('approve', 'SELECT laps FROM table_name_23 WHERE points = \"29\"')\n",
            "\n",
            "\n",
            "Real Answer: SELECT laps FROM table_name_23 WHERE points = 29\n",
            "Failed Answer: SELECT laps FROM table_name_23 WHERE points = \"29\"\n",
            "\n",
            "\n"
          ]
        },
        {
          "output_type": "stream",
          "name": "stderr",
          "text": [
            "\r 36%|███▌      | 359/1000 [15:56<28:27,  2.66s/it]"
          ]
        },
        {
          "output_type": "stream",
          "name": "stdout",
          "text": [
            "\n",
            "\n",
            "Question: How many Losses have a Ballarat FL of melton south, and an Against larger than 1468?\n",
            "\n",
            "Real Answer: SELECT COUNT(losses) FROM table_name_10 WHERE ballarat_fl = \"melton south\" AND against > 1468\n",
            "Generated Answer: SELECT COUNT(losses) FROM table_name_10 WHERE ballarat_fl = \"melton south\" AND against > 1468\n",
            "\n",
            "\n",
            "Similarity Score: 1.0000001\n",
            "Feedback: ('approve', 'SELECT COUNT(losses) FROM table_name_10 WHERE ballarat_fl = \"melton south\" AND against > 1468')\n",
            "\n",
            "\n",
            "Success!\n",
            "Success Answer: SELECT COUNT(losses) FROM table_name_10 WHERE ballarat_fl = \"melton south\" AND against > 1468\n",
            "\n",
            "\n"
          ]
        },
        {
          "output_type": "stream",
          "name": "stderr",
          "text": [
            "\r 36%|███▌      | 360/1000 [15:58<26:21,  2.47s/it]"
          ]
        },
        {
          "output_type": "stream",
          "name": "stdout",
          "text": [
            "\n",
            "\n",
            "Question: How many total gold medals did Australia receive?\n",
            "\n",
            "Real Answer: SELECT COUNT(gold) FROM table_name_80 WHERE nation = \"australia\"\n",
            "Generated Answer: SELECT COUNT(gold) FROM table_name_80 WHERE nation = \"australia\"\n",
            "\n",
            "\n",
            "Similarity Score: 1.0000002\n",
            "Feedback: ('approve', 'SELECT COUNT(gold) FROM table_name_80 WHERE nation = \"australia\"')\n",
            "\n",
            "\n",
            "Success!\n",
            "Success Answer: SELECT COUNT(gold) FROM table_name_80 WHERE nation = \"australia\"\n",
            "\n",
            "\n"
          ]
        },
        {
          "output_type": "stream",
          "name": "stderr",
          "text": [
            "\r 36%|███▌      | 361/1000 [16:01<26:10,  2.46s/it]"
          ]
        },
        {
          "output_type": "stream",
          "name": "stdout",
          "text": [
            "\n",
            "\n",
            "Question: Who is the successor for massachusetts 8th?\n",
            "\n",
            "Real Answer: SELECT successor FROM table_228439_4 WHERE district = \"Massachusetts 8th\"\n",
            "Generated Answer: SELECT successor FROM table_228439_4 WHERE district = \"Massachusetts 8th\"\n",
            "\n",
            "\n",
            "Similarity Score: 0.9999999\n",
            "Feedback: ('approve', 'SELECT successor FROM table_228439_4 WHERE district = \"Massachusetts 8th\"')\n",
            "\n",
            "\n",
            "Success!\n",
            "Success Answer: SELECT successor FROM table_228439_4 WHERE district = \"Massachusetts 8th\"\n",
            "\n",
            "\n"
          ]
        },
        {
          "output_type": "stream",
          "name": "stderr",
          "text": [
            "\r 36%|███▌      | 362/1000 [16:03<24:43,  2.32s/it]"
          ]
        },
        {
          "output_type": "stream",
          "name": "stdout",
          "text": [
            "\n",
            "\n",
            "Question: What was the date of the game with 16,404 people?\n",
            "\n",
            "Real Answer: SELECT date FROM table_name_18 WHERE attendance = \"16,404\"\n",
            "Generated Answer: SELECT date FROM table_name_18 WHERE attendance = \"16,404\"\n",
            "\n",
            "\n",
            "Similarity Score: 1.0000002\n",
            "Feedback: ('approve', 'SELECT date FROM table_name_18 WHERE attendance = \"16,404\"')\n",
            "\n",
            "\n",
            "Success!\n",
            "Success Answer: SELECT date FROM table_name_18 WHERE attendance = \"16,404\"\n",
            "\n",
            "\n"
          ]
        },
        {
          "output_type": "stream",
          "name": "stderr",
          "text": [
            "\r 36%|███▋      | 363/1000 [16:05<24:18,  2.29s/it]"
          ]
        },
        {
          "output_type": "stream",
          "name": "stdout",
          "text": [
            "\n",
            "\n",
            "Question: Which Pada 3 has a Pada 1 of टे te?\n",
            "\n",
            "Real Answer: SELECT pada_3 FROM table_name_41 WHERE pada_1 = \"टे te\"\n",
            "Generated Answer: SELECT pada_3 FROM table_name_41 WHERE pada_1 = \"टे te\"\n",
            "\n",
            "\n",
            "Similarity Score: 1.0\n",
            "Feedback: ('approve', 'SELECT pada_3 FROM table_name_41 WHERE pada_1 = \"टे te\"')\n",
            "\n",
            "\n",
            "Success!\n",
            "Success Answer: SELECT pada_3 FROM table_name_41 WHERE pada_1 = \"टे te\"\n",
            "\n",
            "\n"
          ]
        },
        {
          "output_type": "stream",
          "name": "stderr",
          "text": [
            "\r 36%|███▋      | 364/1000 [16:07<23:09,  2.18s/it]"
          ]
        },
        {
          "output_type": "stream",
          "name": "stdout",
          "text": [
            "\n",
            "\n",
            "Question: What was the score for the game that had an attendance of 41,087?\n",
            "\n",
            "Real Answer: SELECT score FROM table_name_19 WHERE attendance = \"41,087\"\n",
            "Generated Answer: SELECT score FROM table_name_19 WHERE attendance = \"41,087\"\n",
            "\n",
            "\n",
            "Similarity Score: 1.0\n",
            "Feedback: ('approve', 'SELECT score FROM table_name_19 WHERE attendance = \"41,087\"')\n",
            "\n",
            "\n",
            "Success!\n",
            "Success Answer: SELECT score FROM table_name_19 WHERE attendance = \"41,087\"\n",
            "\n",
            "\n"
          ]
        },
        {
          "output_type": "stream",
          "name": "stderr",
          "text": [
            "\r 36%|███▋      | 365/1000 [16:09<23:01,  2.18s/it]"
          ]
        },
        {
          "output_type": "stream",
          "name": "stdout",
          "text": [
            "\n",
            "\n",
            "Question: What is the home of fc thun (asl) geust?\n",
            "\n",
            "Real Answer: SELECT home FROM table_name_83 WHERE geust = \"fc thun (asl)\"\n",
            "Generated Answer: SELECT home FROM table_name_83 WHERE geust = \"fc thun (asl)\"\n",
            "\n",
            "\n",
            "Similarity Score: 1.0\n",
            "Feedback: ('approve', 'SELECT home FROM table_name_83 WHERE geust = \"fc thun (asl)\"')\n",
            "\n",
            "\n",
            "Success!\n",
            "Success Answer: SELECT home FROM table_name_83 WHERE geust = \"fc thun (asl)\"\n",
            "\n",
            "\n"
          ]
        },
        {
          "output_type": "stream",
          "name": "stderr",
          "text": [
            "\r 37%|███▋      | 366/1000 [16:12<25:40,  2.43s/it]"
          ]
        },
        {
          "output_type": "stream",
          "name": "stdout",
          "text": [
            "\n",
            "\n",
            "Question: What is the highest number of students for schools in Campbell with pupil to teacher ratios over 25?\n",
            "\n",
            "Real Answer: SELECT MAX(students) FROM table_name_13 WHERE city = \"campbell\" AND pupil_teacher_ratio > 25\n",
            "Generated Answer: SELECT MAX(students) FROM table_name_13 WHERE city = \"campbell\" AND pupil_teacher_ratio > 25\n",
            "\n",
            "\n",
            "Similarity Score: 1.0\n",
            "Feedback: ('approve', 'SELECT MAX(students) FROM table_name_13 WHERE city = \"campbell\" AND pupil_teacher_ratio > 25')\n",
            "\n",
            "\n",
            "Success!\n",
            "Success Answer: SELECT MAX(students) FROM table_name_13 WHERE city = \"campbell\" AND pupil_teacher_ratio > 25\n",
            "\n",
            "\n"
          ]
        },
        {
          "output_type": "stream",
          "name": "stderr",
          "text": [
            "\r 37%|███▋      | 367/1000 [16:16<29:07,  2.76s/it]"
          ]
        },
        {
          "output_type": "stream",
          "name": "stdout",
          "text": [
            "\n",
            "\n",
            "Question: What is the smallest bronze with a Silver smaller than 2, and a Gold of 1, and a Nation of western isles, and a Total larger than 6?\n",
            "\n",
            "Real Answer: SELECT MIN(bronze) FROM table_name_37 WHERE silver < 2 AND gold = 1 AND nation = \"western isles\" AND total > 6\n",
            "Generated Answer: SELECT MIN(bronze) FROM table_name_37 WHERE silver < 2 AND gold = 1 AND nation = \"western isles\" AND total > 6\n",
            "\n",
            "\n",
            "Similarity Score: 1.0\n",
            "Feedback: ('approve', 'SELECT MIN(bronze) FROM table_name_37 WHERE silver < 2 AND gold = 1 AND nation = \"western isles\" AND total > 6')\n",
            "\n",
            "\n",
            "Success!\n",
            "Success Answer: SELECT MIN(bronze) FROM table_name_37 WHERE silver < 2 AND gold = 1 AND nation = \"western isles\" AND total > 6\n",
            "\n",
            "\n"
          ]
        },
        {
          "output_type": "stream",
          "name": "stderr",
          "text": [
            "\r 37%|███▋      | 368/1000 [16:18<27:15,  2.59s/it]"
          ]
        },
        {
          "output_type": "stream",
          "name": "stdout",
          "text": [
            "\n",
            "\n",
            "Question: What is Position, when Points is greater than 7, and when Series is Toyota Racing Series?\n",
            "\n",
            "Real Answer: SELECT position FROM table_name_3 WHERE points > 7 AND series = \"toyota racing series\"\n",
            "Generated Answer: SELECT position FROM table_name_3 WHERE points > 7 AND series = \"toyota racing series\"\n",
            "\n",
            "\n",
            "Similarity Score: 1.0000001\n",
            "Feedback: ('approve', 'SELECT position FROM table_name_3 WHERE points > 7 AND series = \"toyota racing series\"')\n",
            "\n",
            "\n",
            "Success!\n",
            "Success Answer: SELECT position FROM table_name_3 WHERE points > 7 AND series = \"toyota racing series\"\n",
            "\n",
            "\n"
          ]
        },
        {
          "output_type": "stream",
          "name": "stderr",
          "text": [
            "\r 37%|███▋      | 369/1000 [16:21<27:51,  2.65s/it]"
          ]
        },
        {
          "output_type": "stream",
          "name": "stdout",
          "text": [
            "\n",
            "\n",
            "Question: What's the total number of rounds with a win result at the sf 5: stadium event?\n",
            "\n",
            "Real Answer: SELECT COUNT(round) FROM table_name_65 WHERE res = \"win\" AND event = \"sf 5: stadium\"\n",
            "Generated Answer: SELECT COUNT(round) FROM table_name_65 WHERE res = \"win\" AND event = \"sf 5: stadium\"\n",
            "\n",
            "\n",
            "Similarity Score: 0.9999999\n",
            "Feedback: ('approve', 'SELECT COUNT(round) FROM table_name_65 WHERE res = \"win\" AND event = \"sf 5: stadium\"')\n",
            "\n",
            "\n",
            "Success!\n",
            "Success Answer: SELECT COUNT(round) FROM table_name_65 WHERE res = \"win\" AND event = \"sf 5: stadium\"\n",
            "\n",
            "\n"
          ]
        },
        {
          "output_type": "stream",
          "name": "stderr",
          "text": [
            "\r 37%|███▋      | 370/1000 [16:25<34:09,  3.25s/it]"
          ]
        },
        {
          "output_type": "stream",
          "name": "stdout",
          "text": [
            "\n",
            "\n",
            "Question: Which rank has a smaller area (sq mi) than 48, and an area (km2) greater than 104, and an island of sula, sogn og fjordane?\n",
            "\n",
            "Real Answer: SELECT rank FROM table_name_12 WHERE area__sq_mi_ < 48 AND area__km²_ > 104 AND island = \"sula, sogn og fjordane\"\n",
            "Generated Answer: SELECT COUNT(rank) FROM table_name_12 WHERE area__sq_mi_ < 48 AND area__km²_ > 104 AND island = \"sula, sogn og fjordane\"\n",
            "\n",
            "\n",
            "Similarity Score: 0.83105195\n",
            "Feedback: ('approve', 'SELECT COUNT(rank) FROM table_name_12 WHERE area__sq_mi_ < 48 AND area__km²_ > 104 AND island = \"sula, sogn og fjordane\"')\n",
            "\n",
            "\n",
            "Real Answer: SELECT rank FROM table_name_12 WHERE area__sq_mi_ < 48 AND area__km²_ > 104 AND island = \"sula, sogn og fjordane\"\n",
            "Failed Answer: SELECT COUNT(rank) FROM table_name_12 WHERE area__sq_mi_ < 48 AND area__km²_ > 104 AND island = \"sula, sogn og fjordane\"\n",
            "\n",
            "\n"
          ]
        },
        {
          "output_type": "stream",
          "name": "stderr",
          "text": [
            "\r 37%|███▋      | 371/1000 [16:28<31:30,  3.01s/it]"
          ]
        },
        {
          "output_type": "stream",
          "name": "stdout",
          "text": [
            "\n",
            "\n",
            "Question: Who is the opponent of the game played on November 20, 1995?\n",
            "\n",
            "Real Answer: SELECT opponent FROM table_name_66 WHERE date = \"november 20, 1995\"\n",
            "Generated Answer: SELECT opponent FROM table_name_66 WHERE date = \"november 20, 1995\"\n",
            "\n",
            "\n",
            "Similarity Score: 1.0000002\n",
            "Feedback: ('approve', 'SELECT opponent FROM table_name_66 WHERE date = \"november 20, 1995\"')\n",
            "\n",
            "\n",
            "Success!\n",
            "Success Answer: SELECT opponent FROM table_name_66 WHERE date = \"november 20, 1995\"\n",
            "\n",
            "\n"
          ]
        },
        {
          "output_type": "stream",
          "name": "stderr",
          "text": [
            "\r 37%|███▋      | 372/1000 [16:31<31:09,  2.98s/it]"
          ]
        },
        {
          "output_type": "stream",
          "name": "stdout",
          "text": [
            "\n",
            "\n",
            "Question: What is the group a winner for modena?\n",
            "\n",
            "Real Answer: SELECT group_a_winner FROM table_1137142_1 WHERE group_b_winner = \"Modena\"\n",
            "Generated Answer: SELECT group_a_winner FROM table_1137142_1 WHERE group_b_winner = \"Modena\"\n",
            "\n",
            "\n",
            "Similarity Score: 1.0000002\n",
            "Feedback: ('approve', 'SELECT group_a_winner FROM table_1137142_1 WHERE group_b_winner = \"Modena\"')\n",
            "\n",
            "\n",
            "Success!\n",
            "Success Answer: SELECT group_a_winner FROM table_1137142_1 WHERE group_b_winner = \"Modena\"\n",
            "\n",
            "\n"
          ]
        },
        {
          "output_type": "stream",
          "name": "stderr",
          "text": [
            "\r 37%|███▋      | 373/1000 [16:34<32:30,  3.11s/it]"
          ]
        },
        {
          "output_type": "stream",
          "name": "stdout",
          "text": [
            "\n",
            "\n",
            "Question: Show the carriers that have both phones with memory smaller than 32 and phones with memory bigger than 64.\n",
            "\n",
            "Real Answer: SELECT Carrier FROM phone WHERE Memory_in_G < 32 INTERSECT SELECT Carrier FROM phone WHERE Memory_in_G > 64\n",
            "Generated Answer: SELECT Carrier FROM phone WHERE Memory_in_G < 32 INTERSECT SELECT Carrier FROM phone WHERE Memory_in_G > 64\n",
            "\n",
            "\n",
            "Similarity Score: 1.0000001\n",
            "Feedback: ('approve', 'SELECT Carrier FROM phone WHERE Memory_in_G < 32 INTERSECT SELECT Carrier FROM phone WHERE Memory_in_G > 64')\n",
            "\n",
            "\n",
            "Success!\n",
            "Success Answer: SELECT Carrier FROM phone WHERE Memory_in_G < 32 INTERSECT SELECT Carrier FROM phone WHERE Memory_in_G > 64\n",
            "\n",
            "\n"
          ]
        },
        {
          "output_type": "stream",
          "name": "stderr",
          "text": [
            "\r 37%|███▋      | 374/1000 [16:37<31:08,  2.99s/it]"
          ]
        },
        {
          "output_type": "stream",
          "name": "stdout",
          "text": [
            "\n",
            "\n",
            "Question: What year did Karl Schnabl win the Winter Olympics?\n",
            "\n",
            "Real Answer: SELECT winter_olympics FROM table_174491_2 WHERE winner = \"Karl Schnabl\"\n",
            "Generated Answer: SELECT winter_olympics FROM table_174491_2 WHERE winner = \"Karl Schnabl\"\n",
            "\n",
            "\n",
            "Similarity Score: 1.0000002\n",
            "Feedback: ('approve', 'SELECT winter_olympics FROM table_174491_2 WHERE winner = \"Karl Schnabl\"')\n",
            "\n",
            "\n",
            "Success!\n",
            "Success Answer: SELECT winter_olympics FROM table_174491_2 WHERE winner = \"Karl Schnabl\"\n",
            "\n",
            "\n"
          ]
        },
        {
          "output_type": "stream",
          "name": "stderr",
          "text": [
            "\r 38%|███▊      | 375/1000 [16:39<29:44,  2.86s/it]"
          ]
        },
        {
          "output_type": "stream",
          "name": "stdout",
          "text": [
            "\n",
            "\n",
            "Question: What opponents played Waldstadion in a game?\n",
            "\n",
            "Real Answer: SELECT opponent FROM table_24951872_2 WHERE game_site = \"Waldstadion\"\n",
            "Generated Answer: SELECT opponent FROM table_24951872_2 WHERE game_site = \"Waldstadion\"\n",
            "\n",
            "\n",
            "Similarity Score: 0.99999994\n",
            "Feedback: ('approve', 'SELECT opponent FROM table_24951872_2 WHERE game_site = \"Waldstadion\"')\n",
            "\n",
            "\n",
            "Success!\n",
            "Success Answer: SELECT opponent FROM table_24951872_2 WHERE game_site = \"Waldstadion\"\n",
            "\n",
            "\n"
          ]
        },
        {
          "output_type": "stream",
          "name": "stderr",
          "text": [
            "\r 38%|███▊      | 376/1000 [16:41<27:06,  2.61s/it]"
          ]
        },
        {
          "output_type": "stream",
          "name": "stdout",
          "text": [
            "\n",
            "\n",
            "Question: Which Score has a Time of 2:28?\n",
            "\n",
            "Real Answer: SELECT score FROM table_name_41 WHERE time = \"2:28\"\n",
            "Generated Answer: SELECT score FROM table_name_41 WHERE time = \"2:28\"\n",
            "\n",
            "\n",
            "Similarity Score: 0.9999999\n",
            "Feedback: ('approve', 'SELECT score FROM table_name_41 WHERE time = \"2:28\"')\n",
            "\n",
            "\n",
            "Success!\n",
            "Success Answer: SELECT score FROM table_name_41 WHERE time = \"2:28\"\n",
            "\n",
            "\n"
          ]
        },
        {
          "output_type": "stream",
          "name": "stderr",
          "text": [
            "\r 38%|███▊      | 377/1000 [16:46<34:28,  3.32s/it]"
          ]
        },
        {
          "output_type": "stream",
          "name": "stdout",
          "text": [
            "\n",
            "\n",
            "Question: How many gold medals has the club with the most coaches won?\n",
            "\n",
            "Real Answer: SELECT T1.club_id, T1.gold FROM match_result AS T1 JOIN coach AS T2 ON T1.club_id = T2.club_id GROUP BY T1.club_id ORDER BY COUNT(*) DESC LIMIT 1\n",
            "Generated Answer: SELECT T1.gold FROM match_result AS T1 JOIN coach AS T2 ON T1.club_id = T2.club_id GROUP BY T1.club_id ORDER BY COUNT(*) DESC LIMIT 1\n",
            "\n",
            "\n",
            "Similarity Score: 0.9885214\n",
            "Feedback: ('approve', 'SELECT T1.gold FROM match_result AS T1 JOIN coach AS T2 ON T1.club_id = T2.club_id GROUP BY T1.club_id ORDER BY COUNT(*) DESC LIMIT 1')\n",
            "\n",
            "\n",
            "Real Answer: SELECT T1.club_id, T1.gold FROM match_result AS T1 JOIN coach AS T2 ON T1.club_id = T2.club_id GROUP BY T1.club_id ORDER BY COUNT(*) DESC LIMIT 1\n",
            "Failed Answer: SELECT T1.gold FROM match_result AS T1 JOIN coach AS T2 ON T1.club_id = T2.club_id GROUP BY T1.club_id ORDER BY COUNT(*) DESC LIMIT 1\n",
            "\n",
            "\n"
          ]
        },
        {
          "output_type": "stream",
          "name": "stderr",
          "text": [
            "\r 38%|███▊      | 378/1000 [16:49<33:57,  3.28s/it]"
          ]
        },
        {
          "output_type": "stream",
          "name": "stdout",
          "text": [
            "\n",
            "\n",
            "Question: What is the year when sigourney weaver was nominated for best actress?\n",
            "\n",
            "Real Answer: SELECT year__ceremony_ FROM table_name_26 WHERE category = \"best actress\" AND actor_actress = \"sigourney weaver\"\n",
            "Generated Answer: SELECT year__ceremony_ FROM table_name_26 WHERE category = \"best actress\" AND actor_actress = \"sigourney weaver\"\n",
            "\n",
            "\n",
            "Similarity Score: 1.0\n",
            "Feedback: ('approve', 'SELECT year__ceremony_ FROM table_name_26 WHERE category = \"best actress\" AND actor_actress = \"sigourney weaver\"')\n",
            "\n",
            "\n",
            "Success!\n",
            "Success Answer: SELECT year__ceremony_ FROM table_name_26 WHERE category = \"best actress\" AND actor_actress = \"sigourney weaver\"\n",
            "\n",
            "\n"
          ]
        },
        {
          "output_type": "stream",
          "name": "stderr",
          "text": [
            "\r 38%|███▊      | 379/1000 [16:56<42:50,  4.14s/it]"
          ]
        },
        {
          "output_type": "stream",
          "name": "stdout",
          "text": [
            "\n",
            "\n",
            "Question: What are the create dates, states, and phone numbers of the votes that were for the contestant named 'Tabatha Gehling'?\n",
            "\n",
            "Real Answer: SELECT T2.created, T2.state, T2.phone_number FROM contestants AS T1 JOIN votes AS T2 ON T1.contestant_number = T2.contestant_number WHERE T1.contestant_name = 'Tabatha Gehling'\n",
            "Generated Answer: SELECT T1.created, T1.state, T1.phone_number FROM votes AS T1 JOIN contestants AS T2 ON T1.contestant_number = T2.contestant_number WHERE T2.contestant_name = 'Tabatha Gehling'\n",
            "\n",
            "\n",
            "Similarity Score: 0.9948873\n",
            "Feedback: ('approve', \"SELECT T1.created, T1.state, T1.phone_number FROM votes AS T1 JOIN contestants AS T2 ON T1.contestant_number = T2.contestant_number WHERE T2.contestant_name = 'Tabatha Gehling'\")\n",
            "\n",
            "\n",
            "Real Answer: SELECT T2.created, T2.state, T2.phone_number FROM contestants AS T1 JOIN votes AS T2 ON T1.contestant_number = T2.contestant_number WHERE T1.contestant_name = 'Tabatha Gehling'\n",
            "Failed Answer: SELECT T1.created, T1.state, T1.phone_number FROM votes AS T1 JOIN contestants AS T2 ON T1.contestant_number = T2.contestant_number WHERE T2.contestant_name = 'Tabatha Gehling'\n",
            "\n",
            "\n"
          ]
        },
        {
          "output_type": "stream",
          "name": "stderr",
          "text": [
            "\r 38%|███▊      | 380/1000 [16:57<35:58,  3.48s/it]"
          ]
        },
        {
          "output_type": "stream",
          "name": "stdout",
          "text": [
            "\n",
            "\n",
            "Question: what is the place for bryce molder?\n",
            "\n",
            "Real Answer: SELECT place FROM table_name_31 WHERE player = \"bryce molder\"\n",
            "Generated Answer: SELECT place FROM table_name_31 WHERE player = \"bryce molder\"\n",
            "\n",
            "\n",
            "Similarity Score: 1.0\n",
            "Feedback: ('approve', 'SELECT place FROM table_name_31 WHERE player = \"bryce molder\"')\n",
            "\n",
            "\n",
            "Success!\n",
            "Success Answer: SELECT place FROM table_name_31 WHERE player = \"bryce molder\"\n",
            "\n",
            "\n"
          ]
        },
        {
          "output_type": "stream",
          "name": "stderr",
          "text": [
            "\r 38%|███▊      | 381/1000 [16:59<30:20,  2.94s/it]"
          ]
        },
        {
          "output_type": "stream",
          "name": "stdout",
          "text": [
            "\n",
            "\n",
            "Question: What is the type of the document named \"David CV\"?\n",
            "\n",
            "Real Answer: SELECT document_type_code FROM documents WHERE document_name = \"David CV\"\n",
            "Generated Answer: SELECT document_type_code FROM documents WHERE document_name = \"David CV\"\n",
            "\n",
            "\n",
            "Similarity Score: 0.99999976\n",
            "Feedback: ('approve', 'SELECT document_type_code FROM documents WHERE document_name = \"David CV\"')\n",
            "\n",
            "\n",
            "Success!\n",
            "Success Answer: SELECT document_type_code FROM documents WHERE document_name = \"David CV\"\n",
            "\n",
            "\n"
          ]
        },
        {
          "output_type": "stream",
          "name": "stderr",
          "text": [
            "\r 38%|███▊      | 382/1000 [17:01<26:10,  2.54s/it]"
          ]
        },
        {
          "output_type": "stream",
          "name": "stdout",
          "text": [
            "\n",
            "\n",
            "Question: Which Catalog has a Country of Japan?\n",
            "\n",
            "Real Answer: SELECT catalog FROM table_name_71 WHERE country = \"japan\"\n",
            "Generated Answer: SELECT catalog FROM table_name_71 WHERE country = \"japan\"\n",
            "\n",
            "\n",
            "Similarity Score: 1.0\n",
            "Feedback: ('approve', 'SELECT catalog FROM table_name_71 WHERE country = \"japan\"')\n",
            "\n",
            "\n",
            "Success!\n",
            "Success Answer: SELECT catalog FROM table_name_71 WHERE country = \"japan\"\n",
            "\n",
            "\n"
          ]
        },
        {
          "output_type": "stream",
          "name": "stderr",
          "text": [
            "\r 38%|███▊      | 383/1000 [17:02<23:34,  2.29s/it]"
          ]
        },
        {
          "output_type": "stream",
          "name": "stdout",
          "text": [
            "\n",
            "\n",
            "Question: What school does the Blue Raiders belong to?\n",
            "\n",
            "Real Answer: SELECT school FROM table_name_16 WHERE team = \"blue raiders\"\n",
            "Generated Answer: SELECT school FROM table_name_16 WHERE team = \"blue raiders\"\n",
            "\n",
            "\n",
            "Similarity Score: 1.0\n",
            "Feedback: ('approve', 'SELECT school FROM table_name_16 WHERE team = \"blue raiders\"')\n",
            "\n",
            "\n",
            "Success!\n",
            "Success Answer: SELECT school FROM table_name_16 WHERE team = \"blue raiders\"\n",
            "\n",
            "\n"
          ]
        },
        {
          "output_type": "stream",
          "name": "stderr",
          "text": [
            "\r 38%|███▊      | 384/1000 [17:05<24:08,  2.35s/it]"
          ]
        },
        {
          "output_type": "stream",
          "name": "stdout",
          "text": [
            "\n",
            "\n",
            "Question: What was the placing of the race in which Chic won by 8gf?\n",
            "\n",
            "Real Answer: SELECT placing FROM table_name_58 WHERE beat_by = \"won\" AND distance = \"8gf\"\n",
            "Generated Answer: SELECT placing FROM table_name_58 WHERE beat_by = \"8gf\" AND distance = \"race\"\n",
            "\n",
            "\n",
            "Similarity Score: 0.93483007\n",
            "Feedback: ('approve', 'SELECT placing FROM table_name_58 WHERE beat_by = \"8gf\" AND distance = \"race\"')\n",
            "\n",
            "\n",
            "Real Answer: SELECT placing FROM table_name_58 WHERE beat_by = \"won\" AND distance = \"8gf\"\n",
            "Failed Answer: SELECT placing FROM table_name_58 WHERE beat_by = \"8gf\" AND distance = \"race\"\n",
            "\n",
            "\n"
          ]
        },
        {
          "output_type": "stream",
          "name": "stderr",
          "text": [
            "\r 38%|███▊      | 385/1000 [17:07<24:34,  2.40s/it]"
          ]
        },
        {
          "output_type": "stream",
          "name": "stdout",
          "text": [
            "\n",
            "\n",
            "Question: what is the average tournaments played when cuts made is 14?\n",
            "\n",
            "Real Answer: SELECT AVG(tournaments_played) FROM table_name_63 WHERE cuts_made = 14\n",
            "Generated Answer: SELECT AVG(tournaments_played) FROM table_name_63 WHERE cuts_made = 14\n",
            "\n",
            "\n",
            "Similarity Score: 1.0\n",
            "Feedback: ('approve', 'SELECT AVG(tournaments_played) FROM table_name_63 WHERE cuts_made = 14')\n",
            "\n",
            "\n",
            "Success!\n",
            "Success Answer: SELECT AVG(tournaments_played) FROM table_name_63 WHERE cuts_made = 14\n",
            "\n",
            "\n"
          ]
        },
        {
          "output_type": "stream",
          "name": "stderr",
          "text": [
            "\r 39%|███▊      | 386/1000 [17:09<22:43,  2.22s/it]"
          ]
        },
        {
          "output_type": "stream",
          "name": "stdout",
          "text": [
            "\n",
            "\n",
            "Question: What is the Place of the Player with a To par of –6?\n",
            "\n",
            "Real Answer: SELECT place FROM table_name_96 WHERE to_par = \"–6\"\n",
            "Generated Answer: SELECT place FROM table_name_96 WHERE to_par = \"–6\"\n",
            "\n",
            "\n",
            "Similarity Score: 1.0000002\n",
            "Feedback: ('approve', 'SELECT place FROM table_name_96 WHERE to_par = \"–6\"')\n",
            "\n",
            "\n",
            "Success!\n",
            "Success Answer: SELECT place FROM table_name_96 WHERE to_par = \"–6\"\n",
            "\n",
            "\n"
          ]
        },
        {
          "output_type": "stream",
          "name": "stderr",
          "text": [
            "\r 39%|███▊      | 387/1000 [17:12<25:17,  2.48s/it]"
          ]
        },
        {
          "output_type": "stream",
          "name": "stdout",
          "text": [
            "\n",
            "\n",
            "Question: What sum of Attendance has a Week smaller than 10, and a Result of l 30-21?\n",
            "\n",
            "Real Answer: SELECT SUM(attendance) FROM table_name_18 WHERE week < 10 AND result = \"l 30-21\"\n",
            "Generated Answer: SELECT SUM(attendance) FROM table_name_18 WHERE week < 10 AND result = \"l 30-21\"\n",
            "\n",
            "\n",
            "Similarity Score: 1.0\n",
            "Feedback: ('approve', 'SELECT SUM(attendance) FROM table_name_18 WHERE week < 10 AND result = \"l 30-21\"')\n",
            "\n",
            "\n",
            "Success!\n",
            "Success Answer: SELECT SUM(attendance) FROM table_name_18 WHERE week < 10 AND result = \"l 30-21\"\n",
            "\n",
            "\n"
          ]
        },
        {
          "output_type": "stream",
          "name": "stderr",
          "text": [
            "\r 39%|███▉      | 388/1000 [17:14<23:13,  2.28s/it]"
          ]
        },
        {
          "output_type": "stream",
          "name": "stdout",
          "text": [
            "\n",
            "\n",
            "Question: What is the fewest number of golds for teams with 0 silver?\n",
            "\n",
            "Real Answer: SELECT MIN(gold) FROM table_name_54 WHERE silver < 0\n",
            "Generated Answer: SELECT MIN(gold) FROM table_name_54 WHERE silver < 0\n",
            "\n",
            "\n",
            "Similarity Score: 0.99999994\n",
            "Feedback: ('approve', 'SELECT MIN(gold) FROM table_name_54 WHERE silver < 0')\n",
            "\n",
            "\n",
            "Success!\n",
            "Success Answer: SELECT MIN(gold) FROM table_name_54 WHERE silver < 0\n",
            "\n",
            "\n"
          ]
        },
        {
          "output_type": "stream",
          "name": "stderr",
          "text": [
            "\r 39%|███▉      | 389/1000 [17:17<24:56,  2.45s/it]"
          ]
        },
        {
          "output_type": "stream",
          "name": "stdout",
          "text": [
            "\n",
            "\n",
            "Question: If the player is Corey Pavin when he had a To par of over 7, what was the sum of his totals?\n",
            "\n",
            "Real Answer: SELECT SUM(total) FROM table_name_77 WHERE to_par > 7 AND player = \"corey pavin\"\n",
            "Generated Answer: SELECT SUM(total) FROM table_name_77 WHERE to_par > 7 AND player = \"corey pavin\"\n",
            "\n",
            "\n",
            "Similarity Score: 1.0\n",
            "Feedback: ('approve', 'SELECT SUM(total) FROM table_name_77 WHERE to_par > 7 AND player = \"corey pavin\"')\n",
            "\n",
            "\n",
            "Success!\n",
            "Success Answer: SELECT SUM(total) FROM table_name_77 WHERE to_par > 7 AND player = \"corey pavin\"\n",
            "\n",
            "\n"
          ]
        },
        {
          "output_type": "stream",
          "name": "stderr",
          "text": [
            "\r 39%|███▉      | 390/1000 [17:20<27:25,  2.70s/it]"
          ]
        },
        {
          "output_type": "stream",
          "name": "stdout",
          "text": [
            "\n",
            "\n",
            "Question: What is the sockets associated with a brand name of Core i3-3xx0m?\n",
            "\n",
            "Real Answer: SELECT socket FROM table_24538587_11 WHERE brand_name__list_ = \"Core i3-3xx0M\"\n",
            "Generated Answer: SELECT socket FROM table_24538587_11 WHERE brand_name__list_ = \"Core i3-3xx0m\"\n",
            "\n",
            "\n",
            "Similarity Score: 0.9999999\n",
            "Feedback: ('approve', 'SELECT socket FROM table_24538587_11 WHERE brand_name__list_ = \"Core i3-3xx0m\"')\n",
            "\n",
            "\n",
            "Real Answer: SELECT socket FROM table_24538587_11 WHERE brand_name__list_ = \"Core i3-3xx0M\"\n",
            "Failed Answer: SELECT socket FROM table_24538587_11 WHERE brand_name__list_ = \"Core i3-3xx0m\"\n",
            "\n",
            "\n"
          ]
        },
        {
          "output_type": "stream",
          "name": "stderr",
          "text": [
            "\r 39%|███▉      | 391/1000 [17:23<26:22,  2.60s/it]"
          ]
        },
        {
          "output_type": "stream",
          "name": "stdout",
          "text": [
            "\n",
            "\n",
            "Question: What is the highest wins a tournament with 3 cuts and more than 4 events has?\n",
            "\n",
            "Real Answer: SELECT MAX(wins) FROM table_name_27 WHERE cuts_made = 3 AND events > 4\n",
            "Generated Answer: SELECT MAX(wins) FROM table_name_27 WHERE cuts_made = 3 AND events > 4\n",
            "\n",
            "\n",
            "Similarity Score: 0.99999994\n",
            "Feedback: ('approve', 'SELECT MAX(wins) FROM table_name_27 WHERE cuts_made = 3 AND events > 4')\n",
            "\n",
            "\n",
            "Success!\n",
            "Success Answer: SELECT MAX(wins) FROM table_name_27 WHERE cuts_made = 3 AND events > 4\n",
            "\n",
            "\n"
          ]
        },
        {
          "output_type": "stream",
          "name": "stderr",
          "text": [
            "\r 39%|███▉      | 392/1000 [17:25<25:51,  2.55s/it]"
          ]
        },
        {
          "output_type": "stream",
          "name": "stdout",
          "text": [
            "\n",
            "\n",
            "Question: In what location were the fatalities unknown for the Ju-52 aircraft?\n",
            "\n",
            "Real Answer: SELECT location FROM table_name_12 WHERE fatalities = \"unknown\" AND aircraft = \"ju-52\"\n",
            "Generated Answer: SELECT location FROM table_name_12 WHERE fatalities = \"unknown\" AND aircraft = \"ju-52\"\n",
            "\n",
            "\n",
            "Similarity Score: 0.9999999\n",
            "Feedback: ('approve', 'SELECT location FROM table_name_12 WHERE fatalities = \"unknown\" AND aircraft = \"ju-52\"')\n",
            "\n",
            "\n",
            "Success!\n",
            "Success Answer: SELECT location FROM table_name_12 WHERE fatalities = \"unknown\" AND aircraft = \"ju-52\"\n",
            "\n",
            "\n"
          ]
        },
        {
          "output_type": "stream",
          "name": "stderr",
          "text": [
            "\r 39%|███▉      | 393/1000 [17:28<27:46,  2.75s/it]"
          ]
        },
        {
          "output_type": "stream",
          "name": "stdout",
          "text": [
            "\n",
            "\n",
            "Question: Name the highest year with rank of 22 and accolade of singles of 1999\n",
            "\n",
            "Real Answer: SELECT MAX(year) FROM table_name_89 WHERE accolade = \"singles of 1999\" AND rank = \"22\"\n",
            "Generated Answer: SELECT MAX(year) FROM table_name_89 WHERE accolade = \"singles of 1999\" AND rank = 22\n",
            "\n",
            "\n",
            "Similarity Score: 0.997933\n",
            "Feedback: ('approve', 'SELECT MAX(year) FROM table_name_89 WHERE accolade = \"singles of 1999\" AND rank = 22')\n",
            "\n",
            "\n",
            "Real Answer: SELECT MAX(year) FROM table_name_89 WHERE accolade = \"singles of 1999\" AND rank = \"22\"\n",
            "Failed Answer: SELECT MAX(year) FROM table_name_89 WHERE accolade = \"singles of 1999\" AND rank = 22\n",
            "\n",
            "\n"
          ]
        },
        {
          "output_type": "stream",
          "name": "stderr",
          "text": [
            "\r 39%|███▉      | 394/1000 [17:32<29:18,  2.90s/it]"
          ]
        },
        {
          "output_type": "stream",
          "name": "stdout",
          "text": [
            "\n",
            "\n",
            "Question: Who is the gagarin cup winner when avangard omsk is the gagarin cup finalist?\n",
            "\n",
            "Real Answer: SELECT gagarin_cup_winner FROM table_name_17 WHERE gagarin_cup_finalist = \"avangard omsk\"\n",
            "Generated Answer: SELECT gagarin_cup_winner FROM table_name_17 WHERE gagarin_cup_finalist = \"avangard omsk\"\n",
            "\n",
            "\n",
            "Similarity Score: 0.9999999\n",
            "Feedback: ('approve', 'SELECT gagarin_cup_winner FROM table_name_17 WHERE gagarin_cup_finalist = \"avangard omsk\"')\n",
            "\n",
            "\n",
            "Success!\n",
            "Success Answer: SELECT gagarin_cup_winner FROM table_name_17 WHERE gagarin_cup_finalist = \"avangard omsk\"\n",
            "\n",
            "\n"
          ]
        },
        {
          "output_type": "stream",
          "name": "stderr",
          "text": [
            "\r 40%|███▉      | 395/1000 [17:34<28:27,  2.82s/it]"
          ]
        },
        {
          "output_type": "stream",
          "name": "stdout",
          "text": [
            "\n",
            "\n",
            "Question: Omar Burleson was the incumbent in what district? \n",
            "\n",
            "Real Answer: SELECT district FROM table_1342013_42 WHERE incumbent = \"Omar Burleson\"\n",
            "Generated Answer: SELECT district FROM table_1342013_42 WHERE incumbent = \"Omar Burleson\"\n",
            "\n",
            "\n",
            "Similarity Score: 0.9999999\n",
            "Feedback: ('approve', 'SELECT district FROM table_1342013_42 WHERE incumbent = \"Omar Burleson\"')\n",
            "\n",
            "\n",
            "Success!\n",
            "Success Answer: SELECT district FROM table_1342013_42 WHERE incumbent = \"Omar Burleson\"\n",
            "\n",
            "\n"
          ]
        },
        {
          "output_type": "stream",
          "name": "stderr",
          "text": [
            "\r 40%|███▉      | 396/1000 [17:37<28:02,  2.79s/it]"
          ]
        },
        {
          "output_type": "stream",
          "name": "stdout",
          "text": [
            "\n",
            "\n",
            "Question: What was the little league team from Kentucky when the little league team from Illinois was Rock Falls LL Rock Falls?\n",
            "\n",
            "Real Answer: SELECT kentucky FROM table_18461045_1 WHERE illinois = \"Rock Falls LL Rock Falls\"\n",
            "Generated Answer: SELECT kentucky FROM table_18461045_1 WHERE illinois = \"Rock Falls LL Rock Falls\"\n",
            "\n",
            "\n",
            "Similarity Score: 1.0\n",
            "Feedback: ('approve', 'SELECT kentucky FROM table_18461045_1 WHERE illinois = \"Rock Falls LL Rock Falls\"')\n",
            "\n",
            "\n",
            "Success!\n",
            "Success Answer: SELECT kentucky FROM table_18461045_1 WHERE illinois = \"Rock Falls LL Rock Falls\"\n",
            "\n",
            "\n"
          ]
        },
        {
          "output_type": "stream",
          "name": "stderr",
          "text": [
            "\r 40%|███▉      | 397/1000 [17:41<31:28,  3.13s/it]"
          ]
        },
        {
          "output_type": "stream",
          "name": "stdout",
          "text": [
            "\n",
            "\n",
            "Question: What was the result for the 1966 fifa world cup qualification in mexico city, mexico and a goal over 8?\n",
            "\n",
            "Real Answer: SELECT result FROM table_name_41 WHERE venue = \"mexico city, mexico\" AND competition = \"1966 fifa world cup qualification\" AND goal > 8\n",
            "Generated Answer: SELECT result FROM table_name_41 WHERE venue = \"mexico city, mexico\" AND competition = \"1966 fifa world cup qualification\" AND goal > 8\n",
            "\n",
            "\n",
            "Similarity Score: 0.99999994\n",
            "Feedback: ('approve', 'SELECT result FROM table_name_41 WHERE venue = \"mexico city, mexico\" AND competition = \"1966 fifa world cup qualification\" AND goal > 8')\n",
            "\n",
            "\n",
            "Success!\n",
            "Success Answer: SELECT result FROM table_name_41 WHERE venue = \"mexico city, mexico\" AND competition = \"1966 fifa world cup qualification\" AND goal > 8\n",
            "\n",
            "\n"
          ]
        },
        {
          "output_type": "stream",
          "name": "stderr",
          "text": [
            "\r 40%|███▉      | 398/1000 [17:42<26:21,  2.63s/it]"
          ]
        },
        {
          "output_type": "stream",
          "name": "stdout",
          "text": [
            "\n",
            "\n",
            "Question: Which country has a rank of 2?\n",
            "\n",
            "Real Answer: SELECT country FROM table_name_93 WHERE rank = 2\n",
            "Generated Answer: SELECT country FROM table_name_93 WHERE rank = 2\n",
            "\n",
            "\n",
            "Similarity Score: 0.99999994\n",
            "Feedback: ('approve', 'SELECT country FROM table_name_93 WHERE rank = 2')\n",
            "\n",
            "\n",
            "Success!\n",
            "Success Answer: SELECT country FROM table_name_93 WHERE rank = 2\n",
            "\n",
            "\n"
          ]
        },
        {
          "output_type": "stream",
          "name": "stderr",
          "text": [
            "\r 40%|███▉      | 399/1000 [17:46<28:24,  2.84s/it]"
          ]
        },
        {
          "output_type": "stream",
          "name": "stdout",
          "text": [
            "\n",
            "\n",
            "Question: In the Canadian Grand Prix, what tyre was used when Jacky Ickx held pole position?\n",
            "\n",
            "Real Answer: SELECT tyre FROM table_name_50 WHERE pole_position = \"jacky ickx\" AND race = \"canadian grand prix\"\n",
            "Generated Answer: SELECT tyre FROM table_name_50 WHERE pole_position = \"jacky ickx\" AND race = \"canadian grand prix\"\n",
            "\n",
            "\n",
            "Similarity Score: 1.0\n",
            "Feedback: ('approve', 'SELECT tyre FROM table_name_50 WHERE pole_position = \"jacky ickx\" AND race = \"canadian grand prix\"')\n",
            "\n",
            "\n",
            "Success!\n",
            "Success Answer: SELECT tyre FROM table_name_50 WHERE pole_position = \"jacky ickx\" AND race = \"canadian grand prix\"\n",
            "\n",
            "\n"
          ]
        },
        {
          "output_type": "stream",
          "name": "stderr",
          "text": [
            "\r 40%|████      | 400/1000 [17:48<27:40,  2.77s/it]"
          ]
        },
        {
          "output_type": "stream",
          "name": "stdout",
          "text": [
            "\n",
            "\n",
            "Question: What is the league name for the regular season status of 2nd, mid atlantic?\n",
            "\n",
            "Real Answer: SELECT league FROM table_16636344_1 WHERE regular_season = \"2nd, Mid Atlantic\"\n",
            "Generated Answer: SELECT league FROM table_16636344_1 WHERE regular_season = \"2nd, Mid Atlantic\"\n",
            "\n",
            "\n",
            "Similarity Score: 1.0000001\n",
            "Feedback: ('approve', 'SELECT league FROM table_16636344_1 WHERE regular_season = \"2nd, Mid Atlantic\"')\n",
            "\n",
            "\n",
            "Success!\n",
            "Success Answer: SELECT league FROM table_16636344_1 WHERE regular_season = \"2nd, Mid Atlantic\"\n",
            "\n",
            "\n"
          ]
        },
        {
          "output_type": "stream",
          "name": "stderr",
          "text": [
            "\r 40%|████      | 401/1000 [17:56<41:17,  4.14s/it]"
          ]
        },
        {
          "output_type": "stream",
          "name": "stdout",
          "text": [
            "\n",
            "\n",
            "Question: What teams played in Washington, DC the year that Ramapo LL Ramapo was the game in New York?\n",
            "\n",
            "Real Answer: SELECT washington, _dc FROM table_13012165_1 WHERE new_york = \"Ramapo LL Ramapo\"\n",
            "Generated Answer: SELECT washington FROM table_13012165_1 WHERE _dc = (SELECT new_york FROM table_13012165_1 WHERE Ramapo LL Ramapo = (SELECT _dc FROM table_13012165_1 WHERE new_york = Ramapo LL Ramapo))\n",
            "\n",
            "\n",
            "Similarity Score: 0.81497306\n",
            "Feedback: ('approve', 'SELECT washington FROM table_13012165_1 WHERE _dc = (SELECT new_york FROM table_13012165_1 WHERE Ramapo LL Ramapo = (SELECT _dc FROM table_13012165_1 WHERE new_york = Ramapo LL Ramapo))')\n",
            "\n",
            "\n",
            "Real Answer: SELECT washington, _dc FROM table_13012165_1 WHERE new_york = \"Ramapo LL Ramapo\"\n",
            "Failed Answer: SELECT washington FROM table_13012165_1 WHERE _dc = (SELECT new_york FROM table_13012165_1 WHERE Ramapo LL Ramapo = (SELECT _dc FROM table_13012165_1 WHERE new_york = Ramapo LL Ramapo))\n",
            "\n",
            "\n"
          ]
        },
        {
          "output_type": "stream",
          "name": "stderr",
          "text": [
            "\r 40%|████      | 402/1000 [17:59<38:26,  3.86s/it]"
          ]
        },
        {
          "output_type": "stream",
          "name": "stdout",
          "text": [
            "\n",
            "\n",
            "Question: What is the Country of the T2 Place Player with a Score of 69-69-69=207?\n",
            "\n",
            "Real Answer: SELECT country FROM table_name_2 WHERE place = \"t2\" AND score = 69 - 69 - 69 = 207\n",
            "Generated Answer: SELECT country FROM table_name_2 WHERE place = \"t2\" AND score = 69 - 69 - 69 = 207\n",
            "\n",
            "\n",
            "Similarity Score: 0.99999994\n",
            "Feedback: ('approve', 'SELECT country FROM table_name_2 WHERE place = \"t2\" AND score = 69 - 69 - 69 = 207')\n",
            "\n",
            "\n",
            "Success!\n",
            "Success Answer: SELECT country FROM table_name_2 WHERE place = \"t2\" AND score = 69 - 69 - 69 = 207\n",
            "\n",
            "\n"
          ]
        },
        {
          "output_type": "stream",
          "name": "stderr",
          "text": [
            "\r 40%|████      | 403/1000 [18:01<32:05,  3.23s/it]"
          ]
        },
        {
          "output_type": "stream",
          "name": "stdout",
          "text": [
            "\n",
            "\n",
            "Question: What Time has a Year of 1984?\n",
            "\n",
            "Real Answer: SELECT time FROM table_name_77 WHERE year = 1984\n",
            "Generated Answer: SELECT time FROM table_name_77 WHERE year = \"1984\"\n",
            "\n",
            "\n",
            "Similarity Score: 0.99385\n",
            "Feedback: ('approve', 'SELECT time FROM table_name_77 WHERE year = \"1984\"')\n",
            "\n",
            "\n",
            "Real Answer: SELECT time FROM table_name_77 WHERE year = 1984\n",
            "Failed Answer: SELECT time FROM table_name_77 WHERE year = \"1984\"\n",
            "\n",
            "\n"
          ]
        },
        {
          "output_type": "stream",
          "name": "stderr",
          "text": [
            "\r 40%|████      | 404/1000 [18:02<27:49,  2.80s/it]"
          ]
        },
        {
          "output_type": "stream",
          "name": "stdout",
          "text": [
            "\n",
            "\n",
            "Question: What is the highest number of losses when there are under 1 games played?\n",
            "\n",
            "Real Answer: SELECT MAX(lost) FROM table_name_43 WHERE played < 1\n",
            "Generated Answer: SELECT MAX(lost) FROM table_name_43 WHERE played < 1\n",
            "\n",
            "\n",
            "Similarity Score: 0.9999999\n",
            "Feedback: ('approve', 'SELECT MAX(lost) FROM table_name_43 WHERE played < 1')\n",
            "\n",
            "\n",
            "Success!\n",
            "Success Answer: SELECT MAX(lost) FROM table_name_43 WHERE played < 1\n",
            "\n",
            "\n"
          ]
        },
        {
          "output_type": "stream",
          "name": "stderr",
          "text": [
            "\r 40%|████      | 405/1000 [18:05<26:36,  2.68s/it]"
          ]
        },
        {
          "output_type": "stream",
          "name": "stdout",
          "text": [
            "\n",
            "\n",
            "Question: What was the record for the October 16 game?\n",
            "\n",
            "Real Answer: SELECT record FROM table_27537518_4 WHERE date = \"October 16\"\n",
            "Generated Answer: SELECT record FROM table_27537518_4 WHERE date = \"October 16\"\n",
            "\n",
            "\n",
            "Similarity Score: 1.0\n",
            "Feedback: ('approve', 'SELECT record FROM table_27537518_4 WHERE date = \"October 16\"')\n",
            "\n",
            "\n",
            "Success!\n",
            "Success Answer: SELECT record FROM table_27537518_4 WHERE date = \"October 16\"\n",
            "\n",
            "\n"
          ]
        },
        {
          "output_type": "stream",
          "name": "stderr",
          "text": [
            "\r 41%|████      | 406/1000 [18:10<35:20,  3.57s/it]"
          ]
        },
        {
          "output_type": "stream",
          "name": "stdout",
          "text": [
            "\n",
            "\n",
            "Question: Find the names of customers who either have an deputy policy or uniformed policy.\n",
            "\n",
            "Real Answer: SELECT DISTINCT t2.customer_details FROM policies AS t1 JOIN customers AS t2 ON t1.customer_id = t2.customer_id WHERE t1.policy_type_code = \"Deputy\" OR t1.policy_type_code = \"Uniform\"\n",
            "Generated Answer: SELECT T1.customer_details FROM customers AS T1 JOIN policies AS T2 ON T1.customer_id = T2.customer_id WHERE T2.policy_type_code = 'deputy' OR T2.policy_type_code = 'uniformed'\n",
            "\n",
            "\n",
            "Similarity Score: 0.9382106\n",
            "Feedback: ('approve', \"SELECT T1.customer_details FROM customers AS T1 JOIN policies AS T2 ON T1.customer_id = T2.customer_id WHERE T2.policy_type_code = 'deputy' OR T2.policy_type_code = 'uniformed'\")\n",
            "\n",
            "\n",
            "Real Answer: SELECT DISTINCT t2.customer_details FROM policies AS t1 JOIN customers AS t2 ON t1.customer_id = t2.customer_id WHERE t1.policy_type_code = \"Deputy\" OR t1.policy_type_code = \"Uniform\"\n",
            "Failed Answer: SELECT T1.customer_details FROM customers AS T1 JOIN policies AS T2 ON T1.customer_id = T2.customer_id WHERE T2.policy_type_code = 'deputy' OR T2.policy_type_code = 'uniformed'\n",
            "\n",
            "\n"
          ]
        },
        {
          "output_type": "stream",
          "name": "stderr",
          "text": [
            "\r 41%|████      | 407/1000 [18:12<29:10,  2.95s/it]"
          ]
        },
        {
          "output_type": "stream",
          "name": "stdout",
          "text": [
            "\n",
            "\n",
            "Question: What is Date, when Week is 11?\n",
            "\n",
            "Real Answer: SELECT date FROM table_name_45 WHERE week = 11\n",
            "Generated Answer: SELECT date FROM table_name_45 WHERE week = 11\n",
            "\n",
            "\n",
            "Similarity Score: 1.0\n",
            "Feedback: ('approve', 'SELECT date FROM table_name_45 WHERE week = 11')\n",
            "\n",
            "\n",
            "Success!\n",
            "Success Answer: SELECT date FROM table_name_45 WHERE week = 11\n",
            "\n",
            "\n"
          ]
        },
        {
          "output_type": "stream",
          "name": "stderr",
          "text": [
            "\r 41%|████      | 408/1000 [18:13<23:00,  2.33s/it]"
          ]
        },
        {
          "output_type": "stream",
          "name": "stdout",
          "text": [
            "\n",
            "\n",
            "Question: What is the average training hours of all players?\n",
            "\n",
            "Real Answer: SELECT AVG(HS) FROM Player\n",
            "Generated Answer: SELECT AVG(HS) FROM Player\n",
            "\n",
            "\n",
            "Similarity Score: 0.99999994\n",
            "Feedback: ('approve', 'SELECT AVG(HS) FROM Player')\n",
            "\n",
            "\n",
            "Success!\n",
            "Success Answer: SELECT AVG(HS) FROM Player\n",
            "\n",
            "\n"
          ]
        },
        {
          "output_type": "stream",
          "name": "stderr",
          "text": [
            "\r 41%|████      | 409/1000 [18:17<28:04,  2.85s/it]"
          ]
        },
        {
          "output_type": "stream",
          "name": "stdout",
          "text": [
            "\n",
            "\n",
            "Question: What is the average of the swimsuit smaller than 9.545 , of Iowa, with an evening gown larger than 9.625?\n",
            "\n",
            "Real Answer: SELECT AVG(average) FROM table_name_34 WHERE swimsuit < 9.545 AND state = \"iowa\" AND evening_gown > 9.625\n",
            "Generated Answer: SELECT SUM(average) FROM table_name_34 WHERE swimsuit < 9.545 AND state = \"iowa\" AND evening_gown > 9.625\n",
            "\n",
            "\n",
            "Similarity Score: 0.84551626\n",
            "Feedback: ('approve', 'SELECT SUM(average) FROM table_name_34 WHERE swimsuit < 9.545 AND state = \"iowa\" AND evening_gown > 9.625')\n",
            "\n",
            "\n",
            "Real Answer: SELECT AVG(average) FROM table_name_34 WHERE swimsuit < 9.545 AND state = \"iowa\" AND evening_gown > 9.625\n",
            "Failed Answer: SELECT SUM(average) FROM table_name_34 WHERE swimsuit < 9.545 AND state = \"iowa\" AND evening_gown > 9.625\n",
            "\n",
            "\n"
          ]
        },
        {
          "output_type": "stream",
          "name": "stderr",
          "text": [
            "\r 41%|████      | 410/1000 [18:19<27:00,  2.75s/it]"
          ]
        },
        {
          "output_type": "stream",
          "name": "stdout",
          "text": [
            "\n",
            "\n",
            "Question: Who were the candidates in the district whose incumbent is Bill Pascrell?\n",
            "\n",
            "Real Answer: SELECT candidates FROM table_1341453_32 WHERE incumbent = \"Bill Pascrell\"\n",
            "Generated Answer: SELECT candidates FROM table_1341453_32 WHERE incumbent = \"Bill Pascrell\"\n",
            "\n",
            "\n",
            "Similarity Score: 1.0\n",
            "Feedback: ('approve', 'SELECT candidates FROM table_1341453_32 WHERE incumbent = \"Bill Pascrell\"')\n",
            "\n",
            "\n",
            "Success!\n",
            "Success Answer: SELECT candidates FROM table_1341453_32 WHERE incumbent = \"Bill Pascrell\"\n",
            "\n",
            "\n"
          ]
        },
        {
          "output_type": "stream",
          "name": "stderr",
          "text": [
            "\r 41%|████      | 411/1000 [18:21<23:44,  2.42s/it]"
          ]
        },
        {
          "output_type": "stream",
          "name": "stdout",
          "text": [
            "\n",
            "\n",
            "Question: In which city is MUB located?\n",
            "\n",
            "Real Answer: SELECT city FROM table_name_29 WHERE abbr = \"mub\"\n",
            "Generated Answer: SELECT city FROM table_name_29 WHERE abbr = \"mub\"\n",
            "\n",
            "\n",
            "Similarity Score: 1.0\n",
            "Feedback: ('approve', 'SELECT city FROM table_name_29 WHERE abbr = \"mub\"')\n",
            "\n",
            "\n",
            "Success!\n",
            "Success Answer: SELECT city FROM table_name_29 WHERE abbr = \"mub\"\n",
            "\n",
            "\n"
          ]
        },
        {
          "output_type": "stream",
          "name": "stderr",
          "text": [
            "\r 41%|████      | 412/1000 [18:24<24:16,  2.48s/it]"
          ]
        },
        {
          "output_type": "stream",
          "name": "stdout",
          "text": [
            "\n",
            "\n",
            "Question: On what date was the opponent in the final Gwinyai Tongoona?\n",
            "\n",
            "Real Answer: SELECT date FROM table_name_62 WHERE opponent_in_the_final = \"gwinyai tongoona\"\n",
            "Generated Answer: SELECT date FROM table_name_62 WHERE opponent_in_the_final = \"gwinyai tongoona\"\n",
            "\n",
            "\n",
            "Similarity Score: 0.99999994\n",
            "Feedback: ('approve', 'SELECT date FROM table_name_62 WHERE opponent_in_the_final = \"gwinyai tongoona\"')\n",
            "\n",
            "\n",
            "Success!\n",
            "Success Answer: SELECT date FROM table_name_62 WHERE opponent_in_the_final = \"gwinyai tongoona\"\n",
            "\n",
            "\n"
          ]
        },
        {
          "output_type": "stream",
          "name": "stderr",
          "text": [
            "\r 41%|████▏     | 413/1000 [18:26<24:44,  2.53s/it]"
          ]
        },
        {
          "output_type": "stream",
          "name": "stdout",
          "text": [
            "\n",
            "\n",
            "Question: who had high points on march 27?\n",
            "\n",
            "Real Answer: SELECT high_points FROM table_27722734_10 WHERE date = \"March 27\"\n",
            "Generated Answer: SELECT high_points FROM table_27722734_10 WHERE date = \"March 27\"\n",
            "\n",
            "\n",
            "Similarity Score: 1.0\n",
            "Feedback: ('approve', 'SELECT high_points FROM table_27722734_10 WHERE date = \"March 27\"')\n",
            "\n",
            "\n",
            "Success!\n",
            "Success Answer: SELECT high_points FROM table_27722734_10 WHERE date = \"March 27\"\n",
            "\n",
            "\n"
          ]
        },
        {
          "output_type": "stream",
          "name": "stderr",
          "text": [
            "\r 41%|████▏     | 414/1000 [18:29<25:08,  2.57s/it]"
          ]
        },
        {
          "output_type": "stream",
          "name": "stdout",
          "text": [
            "\n",
            "\n",
            "Question: Which team had a manager replaced by Ebrahim Talebi?\n",
            "\n",
            "Real Answer: SELECT team FROM table_22297140_3 WHERE replaced_by = \"Ebrahim Talebi\"\n",
            "Generated Answer: SELECT team FROM table_22297140_3 WHERE replaced_by = \"Ebrahim Talebi\"\n",
            "\n",
            "\n",
            "Similarity Score: 1.0000002\n",
            "Feedback: ('approve', 'SELECT team FROM table_22297140_3 WHERE replaced_by = \"Ebrahim Talebi\"')\n",
            "\n",
            "\n",
            "Success!\n",
            "Success Answer: SELECT team FROM table_22297140_3 WHERE replaced_by = \"Ebrahim Talebi\"\n",
            "\n",
            "\n"
          ]
        },
        {
          "output_type": "stream",
          "name": "stderr",
          "text": [
            "\r 42%|████▏     | 415/1000 [18:31<22:57,  2.35s/it]"
          ]
        },
        {
          "output_type": "stream",
          "name": "stdout",
          "text": [
            "\n",
            "\n",
            "Question: When was there a game at Kardinia Park?\n",
            "\n",
            "Real Answer: SELECT date FROM table_name_78 WHERE venue = \"kardinia park\"\n",
            "Generated Answer: SELECT date FROM table_name_78 WHERE venue = \"kardinia park\"\n",
            "\n",
            "\n",
            "Similarity Score: 0.99999994\n",
            "Feedback: ('approve', 'SELECT date FROM table_name_78 WHERE venue = \"kardinia park\"')\n",
            "\n",
            "\n",
            "Success!\n",
            "Success Answer: SELECT date FROM table_name_78 WHERE venue = \"kardinia park\"\n",
            "\n",
            "\n"
          ]
        },
        {
          "output_type": "stream",
          "name": "stderr",
          "text": [
            "\r 42%|████▏     | 416/1000 [18:33<21:10,  2.18s/it]"
          ]
        },
        {
          "output_type": "stream",
          "name": "stdout",
          "text": [
            "\n",
            "\n",
            "Question: What is the height for Nikola Franković?\n",
            "\n",
            "Real Answer: SELECT height FROM table_name_45 WHERE name = \"nikola franković\"\n",
            "Generated Answer: SELECT height FROM table_name_45 WHERE name = \"nikola franković\"\n",
            "\n",
            "\n",
            "Similarity Score: 0.9999999\n",
            "Feedback: ('approve', 'SELECT height FROM table_name_45 WHERE name = \"nikola franković\"')\n",
            "\n",
            "\n",
            "Success!\n",
            "Success Answer: SELECT height FROM table_name_45 WHERE name = \"nikola franković\"\n",
            "\n",
            "\n"
          ]
        },
        {
          "output_type": "stream",
          "name": "stderr",
          "text": [
            "\r 42%|████▏     | 417/1000 [18:35<21:49,  2.25s/it]"
          ]
        },
        {
          "output_type": "stream",
          "name": "stdout",
          "text": [
            "\n",
            "\n",
            "Question: Where is Interlake located?\n",
            "\n",
            "Real Answer: SELECT location FROM table_13759592_2 WHERE institution = \"Interlake\"\n",
            "Generated Answer: SELECT location FROM table_13759592_2 WHERE institution = \"Interlake\"\n",
            "\n",
            "\n",
            "Similarity Score: 0.99999994\n",
            "Feedback: ('approve', 'SELECT location FROM table_13759592_2 WHERE institution = \"Interlake\"')\n",
            "\n",
            "\n",
            "Success!\n",
            "Success Answer: SELECT location FROM table_13759592_2 WHERE institution = \"Interlake\"\n",
            "\n",
            "\n"
          ]
        },
        {
          "output_type": "stream",
          "name": "stderr",
          "text": [
            "\r 42%|████▏     | 418/1000 [18:37<22:06,  2.28s/it]"
          ]
        },
        {
          "output_type": "stream",
          "name": "stdout",
          "text": [
            "\n",
            "\n",
            "Question: Who was the opponent at the game that had a loss of Hendrickson (0-1)?\n",
            "\n",
            "Real Answer: SELECT opponent FROM table_name_93 WHERE loss = \"hendrickson (0-1)\"\n",
            "Generated Answer: SELECT opponent FROM table_name_93 WHERE loss = \"hendrickson (0-1)\"\n",
            "\n",
            "\n",
            "Similarity Score: 0.9999999\n",
            "Feedback: ('approve', 'SELECT opponent FROM table_name_93 WHERE loss = \"hendrickson (0-1)\"')\n",
            "\n",
            "\n",
            "Success!\n",
            "Success Answer: SELECT opponent FROM table_name_93 WHERE loss = \"hendrickson (0-1)\"\n",
            "\n",
            "\n"
          ]
        },
        {
          "output_type": "stream",
          "name": "stderr",
          "text": [
            "\r 42%|████▏     | 419/1000 [18:41<26:15,  2.71s/it]"
          ]
        },
        {
          "output_type": "stream",
          "name": "stdout",
          "text": [
            "\n",
            "\n",
            "Question: how many literate males are there that has a district population of 6.65?\n",
            "\n",
            "Real Answer: SELECT Literate AS male FROM table_28939145_2 WHERE _percentage_of_district_population = \"6.65\"\n",
            "Generated Answer: SELECT COUNT(Literate) FROM table_28939145_2 WHERE _percentage_of_district_population = \"6.65\"\n",
            "\n",
            "\n",
            "Similarity Score: 0.85166264\n",
            "Feedback: ('approve', 'SELECT COUNT(Literate) FROM table_28939145_2 WHERE _percentage_of_district_population = \"6.65\"')\n",
            "\n",
            "\n",
            "Real Answer: SELECT Literate AS male FROM table_28939145_2 WHERE _percentage_of_district_population = \"6.65\"\n",
            "Failed Answer: SELECT COUNT(Literate) FROM table_28939145_2 WHERE _percentage_of_district_population = \"6.65\"\n",
            "\n",
            "\n"
          ]
        },
        {
          "output_type": "stream",
          "name": "stderr",
          "text": [
            "\r 42%|████▏     | 420/1000 [18:44<26:55,  2.79s/it]"
          ]
        },
        {
          "output_type": "stream",
          "name": "stdout",
          "text": [
            "\n",
            "\n",
            "Question: What is Last Appearance, when Wins is less than 1, when Losses is 1, and when School is Oklahoma State?\n",
            "\n",
            "Real Answer: SELECT last_appearance FROM table_name_65 WHERE wins < 1 AND losses = 1 AND school = \"oklahoma state\"\n",
            "Generated Answer: SELECT last_appearance FROM table_name_65 WHERE wins < 1 AND losses = 1 AND school = \"oklahoma state\"\n",
            "\n",
            "\n",
            "Similarity Score: 1.0000002\n",
            "Feedback: ('approve', 'SELECT last_appearance FROM table_name_65 WHERE wins < 1 AND losses = 1 AND school = \"oklahoma state\"')\n",
            "\n",
            "\n",
            "Success!\n",
            "Success Answer: SELECT last_appearance FROM table_name_65 WHERE wins < 1 AND losses = 1 AND school = \"oklahoma state\"\n",
            "\n",
            "\n"
          ]
        },
        {
          "output_type": "stream",
          "name": "stderr",
          "text": [
            "\r 42%|████▏     | 421/1000 [18:46<25:14,  2.62s/it]"
          ]
        },
        {
          "output_type": "stream",
          "name": "stdout",
          "text": [
            "\n",
            "\n",
            "Question: What is the parent magazine for Dengeki 5pb.?\n",
            "\n",
            "Real Answer: SELECT parent_magazine FROM table_name_42 WHERE title = \"dengeki 5pb.\"\n",
            "Generated Answer: SELECT parent_magazine FROM table_name_42 WHERE title = \"dengeki 5pb.\"\n",
            "\n",
            "\n",
            "Similarity Score: 0.9999998\n",
            "Feedback: ('approve', 'SELECT parent_magazine FROM table_name_42 WHERE title = \"dengeki 5pb.\"')\n",
            "\n",
            "\n",
            "Success!\n",
            "Success Answer: SELECT parent_magazine FROM table_name_42 WHERE title = \"dengeki 5pb.\"\n",
            "\n",
            "\n"
          ]
        },
        {
          "output_type": "stream",
          "name": "stderr",
          "text": [
            "\r 42%|████▏     | 422/1000 [18:49<24:32,  2.55s/it]"
          ]
        },
        {
          "output_type": "stream",
          "name": "stdout",
          "text": [
            "\n",
            "\n",
            "Question: What is the playoffs 2 result of season 2010-11?\n",
            "\n",
            "Real Answer: SELECT playoffs_2 FROM table_name_18 WHERE season = \"2010-11\"\n",
            "Generated Answer: SELECT playoffs_2 FROM table_name_18 WHERE season = \"2010-11\"\n",
            "\n",
            "\n",
            "Similarity Score: 1.0000001\n",
            "Feedback: ('approve', 'SELECT playoffs_2 FROM table_name_18 WHERE season = \"2010-11\"')\n",
            "\n",
            "\n",
            "Success!\n",
            "Success Answer: SELECT playoffs_2 FROM table_name_18 WHERE season = \"2010-11\"\n",
            "\n",
            "\n"
          ]
        },
        {
          "output_type": "stream",
          "name": "stderr",
          "text": [
            "\r 42%|████▏     | 423/1000 [18:52<26:29,  2.75s/it]"
          ]
        },
        {
          "output_type": "stream",
          "name": "stdout",
          "text": [
            "\n",
            "\n",
            "Question: what is the average wins when the podiums is more than 1, points is 80 and starts is less than 28?\n",
            "\n",
            "Real Answer: SELECT AVG(wins) FROM table_name_49 WHERE podiums > 1 AND points = 80 AND starts < 28\n",
            "Generated Answer: SELECT AVG(wins) FROM table_name_49 WHERE podiums > 1 AND points = 80 AND starts < 28\n",
            "\n",
            "\n",
            "Similarity Score: 0.9999998\n",
            "Feedback: ('approve', 'SELECT AVG(wins) FROM table_name_49 WHERE podiums > 1 AND points = 80 AND starts < 28')\n",
            "\n",
            "\n",
            "Success!\n",
            "Success Answer: SELECT AVG(wins) FROM table_name_49 WHERE podiums > 1 AND points = 80 AND starts < 28\n",
            "\n",
            "\n"
          ]
        },
        {
          "output_type": "stream",
          "name": "stderr",
          "text": [
            "\r 42%|████▏     | 424/1000 [18:55<26:44,  2.79s/it]"
          ]
        },
        {
          "output_type": "stream",
          "name": "stdout",
          "text": [
            "\n",
            "\n",
            "Question: How many parties were first elected in 1805?\n",
            "\n",
            "Real Answer: SELECT COUNT(party) FROM table_2668374_18 WHERE first_elected = \"1805\"\n",
            "Generated Answer: SELECT COUNT(party) FROM table_2668374_18 WHERE first_elected = 1805\n",
            "\n",
            "\n",
            "Similarity Score: 0.995781\n",
            "Feedback: ('approve', 'SELECT COUNT(party) FROM table_2668374_18 WHERE first_elected = 1805')\n",
            "\n",
            "\n",
            "Real Answer: SELECT COUNT(party) FROM table_2668374_18 WHERE first_elected = \"1805\"\n",
            "Failed Answer: SELECT COUNT(party) FROM table_2668374_18 WHERE first_elected = 1805\n",
            "\n",
            "\n"
          ]
        },
        {
          "output_type": "stream",
          "name": "stderr",
          "text": [
            "\r 42%|████▎     | 425/1000 [18:57<26:06,  2.72s/it]"
          ]
        },
        {
          "output_type": "stream",
          "name": "stdout",
          "text": [
            "\n",
            "\n",
            "Question: Who's the inventor when it was mutated from Redsport Type 2, has a stripe pattern and a spur habit?\n",
            "\n",
            "Real Answer: SELECT \"inventor\" FROM table_name_2 WHERE habit = \"spur\" AND pattern = \"stripe\" AND mutated_from = \"redsport type 2\"\n",
            "Generated Answer: SELECT mutated_from FROM table_name_2 WHERE pattern = \"stripe\" AND habit = \"spur\"\n",
            "\n",
            "\n",
            "Similarity Score: 0.64396304\n",
            "Feedback: ('correct', 'SELECT \"inventor\" FROM table_name_2 WHERE habit = \"spur\" AND pattern = \"stripe\" AND mutated_from = \"redsport type 2\"')\n",
            "\n",
            "\n",
            "Real Answer: SELECT \"inventor\" FROM table_name_2 WHERE habit = \"spur\" AND pattern = \"stripe\" AND mutated_from = \"redsport type 2\"\n",
            "Failed Answer: SELECT mutated_from FROM table_name_2 WHERE pattern = \"stripe\" AND habit = \"spur\"\n",
            "\n",
            "\n"
          ]
        },
        {
          "output_type": "stream",
          "name": "stderr",
          "text": [
            "\r 43%|████▎     | 426/1000 [19:01<27:37,  2.89s/it]"
          ]
        },
        {
          "output_type": "stream",
          "name": "stdout",
          "text": [
            "\n",
            "\n",
            "Question: What is the total grid number where the time/retired is +58.182 and the lap number is less than 67?\n",
            "\n",
            "Real Answer: SELECT SUM(grid) FROM table_name_12 WHERE time_retired = \"+58.182\" AND laps < 67\n",
            "Generated Answer: SELECT SUM(grid) FROM table_name_12 WHERE time_retired = \"+58.182\" AND laps < 67\n",
            "\n",
            "\n",
            "Similarity Score: 1.0\n",
            "Feedback: ('approve', 'SELECT SUM(grid) FROM table_name_12 WHERE time_retired = \"+58.182\" AND laps < 67')\n",
            "\n",
            "\n",
            "Success!\n",
            "Success Answer: SELECT SUM(grid) FROM table_name_12 WHERE time_retired = \"+58.182\" AND laps < 67\n",
            "\n",
            "\n"
          ]
        },
        {
          "output_type": "stream",
          "name": "stderr",
          "text": [
            "\r 43%|████▎     | 427/1000 [19:03<26:43,  2.80s/it]"
          ]
        },
        {
          "output_type": "stream",
          "name": "stdout",
          "text": [
            "\n",
            "\n",
            "Question: What were highest points received from someone using a zabel-wsp with a position greater than 7?\n",
            "\n",
            "Real Answer: SELECT MAX(points) FROM table_name_15 WHERE equipment = \"zabel-wsp\" AND position > 7\n",
            "Generated Answer: SELECT MAX(points) FROM table_name_15 WHERE equipment = \"zabel-wsp\" AND position > 7\n",
            "\n",
            "\n",
            "Similarity Score: 0.9999999\n",
            "Feedback: ('approve', 'SELECT MAX(points) FROM table_name_15 WHERE equipment = \"zabel-wsp\" AND position > 7')\n",
            "\n",
            "\n",
            "Success!\n",
            "Success Answer: SELECT MAX(points) FROM table_name_15 WHERE equipment = \"zabel-wsp\" AND position > 7\n",
            "\n",
            "\n"
          ]
        },
        {
          "output_type": "stream",
          "name": "stderr",
          "text": [
            "\r 43%|████▎     | 428/1000 [19:05<24:00,  2.52s/it]"
          ]
        },
        {
          "output_type": "stream",
          "name": "stdout",
          "text": [
            "\n",
            "\n",
            "Question: What was the result when the partner was magdalena maleeva?\n",
            "\n",
            "Real Answer: SELECT result FROM table_name_16 WHERE partner = \"magdalena maleeva\"\n",
            "Generated Answer: SELECT result FROM table_name_16 WHERE partner = \"magdalena maleeva\"\n",
            "\n",
            "\n",
            "Similarity Score: 1.0000001\n",
            "Feedback: ('approve', 'SELECT result FROM table_name_16 WHERE partner = \"magdalena maleeva\"')\n",
            "\n",
            "\n",
            "Success!\n",
            "Success Answer: SELECT result FROM table_name_16 WHERE partner = \"magdalena maleeva\"\n",
            "\n",
            "\n"
          ]
        },
        {
          "output_type": "stream",
          "name": "stderr",
          "text": [
            "\r 43%|████▎     | 429/1000 [19:07<23:45,  2.50s/it]"
          ]
        },
        {
          "output_type": "stream",
          "name": "stdout",
          "text": [
            "\n",
            "\n",
            "Question: Who directed  series # 422?\n",
            "\n",
            "Real Answer: SELECT director FROM table_25800134_11 WHERE series__number = 422\n",
            "Generated Answer: SELECT director FROM table_25800134_11 WHERE series__number = 422\n",
            "\n",
            "\n",
            "Similarity Score: 1.0000001\n",
            "Feedback: ('approve', 'SELECT director FROM table_25800134_11 WHERE series__number = 422')\n",
            "\n",
            "\n",
            "Success!\n",
            "Success Answer: SELECT director FROM table_25800134_11 WHERE series__number = 422\n",
            "\n",
            "\n"
          ]
        },
        {
          "output_type": "stream",
          "name": "stderr",
          "text": [
            "\r 43%|████▎     | 430/1000 [19:09<21:42,  2.28s/it]"
          ]
        },
        {
          "output_type": "stream",
          "name": "stdout",
          "text": [
            "\n",
            "\n",
            "Question: What is the total where the gold is larger than 2?\n",
            "\n",
            "Real Answer: SELECT COUNT(total) FROM table_name_46 WHERE gold > 2\n",
            "Generated Answer: SELECT COUNT(total) FROM table_name_46 WHERE gold > 2\n",
            "\n",
            "\n",
            "Similarity Score: 1.0\n",
            "Feedback: ('approve', 'SELECT COUNT(total) FROM table_name_46 WHERE gold > 2')\n",
            "\n",
            "\n",
            "Success!\n",
            "Success Answer: SELECT COUNT(total) FROM table_name_46 WHERE gold > 2\n",
            "\n",
            "\n"
          ]
        },
        {
          "output_type": "stream",
          "name": "stderr",
          "text": [
            "\r 43%|████▎     | 431/1000 [19:11<20:56,  2.21s/it]"
          ]
        },
        {
          "output_type": "stream",
          "name": "stdout",
          "text": [
            "\n",
            "\n",
            "Question: What was the date of the game in week 3?\n",
            "\n",
            "Real Answer: SELECT date FROM table_21761882_4 WHERE week = 3\n",
            "Generated Answer: SELECT date FROM table_21761882_4 WHERE week = 3\n",
            "\n",
            "\n",
            "Similarity Score: 0.9999998\n",
            "Feedback: ('approve', 'SELECT date FROM table_21761882_4 WHERE week = 3')\n",
            "\n",
            "\n",
            "Success!\n",
            "Success Answer: SELECT date FROM table_21761882_4 WHERE week = 3\n",
            "\n",
            "\n"
          ]
        },
        {
          "output_type": "stream",
          "name": "stderr",
          "text": [
            "\r 43%|████▎     | 432/1000 [19:14<21:38,  2.29s/it]"
          ]
        },
        {
          "output_type": "stream",
          "name": "stdout",
          "text": [
            "\n",
            "\n",
            "Question: What is terrence ross' nationality\n",
            "\n",
            "Real Answer: SELECT nationality FROM table_10015132_16 WHERE player = \"Terrence Ross\"\n",
            "Generated Answer: SELECT nationality FROM table_10015132_16 WHERE player = \"Terrence Ross\"\n",
            "\n",
            "\n",
            "Similarity Score: 1.0000001\n",
            "Feedback: ('approve', 'SELECT nationality FROM table_10015132_16 WHERE player = \"Terrence Ross\"')\n",
            "\n",
            "\n",
            "Success!\n",
            "Success Answer: SELECT nationality FROM table_10015132_16 WHERE player = \"Terrence Ross\"\n",
            "\n",
            "\n"
          ]
        },
        {
          "output_type": "stream",
          "name": "stderr",
          "text": [
            "\r 43%|████▎     | 433/1000 [19:16<20:17,  2.15s/it]"
          ]
        },
        {
          "output_type": "stream",
          "name": "stdout",
          "text": [
            "\n",
            "\n",
            "Question: What is the bowling score of season 1907?\n",
            "\n",
            "Real Answer: SELECT bowling FROM table_name_23 WHERE season = \"1907\"\n",
            "Generated Answer: SELECT bowling FROM table_name_23 WHERE season = \"1907\"\n",
            "\n",
            "\n",
            "Similarity Score: 0.99999994\n",
            "Feedback: ('approve', 'SELECT bowling FROM table_name_23 WHERE season = \"1907\"')\n",
            "\n",
            "\n",
            "Success!\n",
            "Success Answer: SELECT bowling FROM table_name_23 WHERE season = \"1907\"\n",
            "\n",
            "\n"
          ]
        },
        {
          "output_type": "stream",
          "name": "stderr",
          "text": [
            "\r 43%|████▎     | 434/1000 [19:18<20:28,  2.17s/it]"
          ]
        },
        {
          "output_type": "stream",
          "name": "stdout",
          "text": [
            "\n",
            "\n",
            "Question: What is the title for season 2?\n",
            "\n",
            "Real Answer: SELECT title FROM table_11630008_4 WHERE season_no = 2\n",
            "Generated Answer: SELECT title FROM table_11630008_4 WHERE season_no = 2\n",
            "\n",
            "\n",
            "Similarity Score: 0.9999999\n",
            "Feedback: ('approve', 'SELECT title FROM table_11630008_4 WHERE season_no = 2')\n",
            "\n",
            "\n",
            "Success!\n",
            "Success Answer: SELECT title FROM table_11630008_4 WHERE season_no = 2\n",
            "\n",
            "\n"
          ]
        },
        {
          "output_type": "stream",
          "name": "stderr",
          "text": [
            "\r 44%|████▎     | 435/1000 [19:20<21:37,  2.30s/it]"
          ]
        },
        {
          "output_type": "stream",
          "name": "stdout",
          "text": [
            "\n",
            "\n",
            "Question: What is the average Gold entry for the Netherlands that also has a Bronze entry that is greater than 0?\n",
            "\n",
            "Real Answer: SELECT AVG(gold) FROM table_name_19 WHERE nation = \"netherlands\" AND bronze > 0\n",
            "Generated Answer: SELECT AVG(gold) FROM table_name_19 WHERE nation = \"netherlands\" AND bronze > 0\n",
            "\n",
            "\n",
            "Similarity Score: 1.0000002\n",
            "Feedback: ('approve', 'SELECT AVG(gold) FROM table_name_19 WHERE nation = \"netherlands\" AND bronze > 0')\n",
            "\n",
            "\n",
            "Success!\n",
            "Success Answer: SELECT AVG(gold) FROM table_name_19 WHERE nation = \"netherlands\" AND bronze > 0\n",
            "\n",
            "\n"
          ]
        },
        {
          "output_type": "stream",
          "name": "stderr",
          "text": [
            "\r 44%|████▎     | 436/1000 [19:23<22:40,  2.41s/it]"
          ]
        },
        {
          "output_type": "stream",
          "name": "stdout",
          "text": [
            "\n",
            "\n",
            "Question: What was the original air date of an episode set in 1544?\n",
            "\n",
            "Real Answer: SELECT original_air_date FROM table_10413597_5 WHERE setting = \"1544\"\n",
            "Generated Answer: SELECT original_air_date FROM table_10413597_5 WHERE setting = \"1544\"\n",
            "\n",
            "\n",
            "Similarity Score: 1.0\n",
            "Feedback: ('approve', 'SELECT original_air_date FROM table_10413597_5 WHERE setting = \"1544\"')\n",
            "\n",
            "\n",
            "Success!\n",
            "Success Answer: SELECT original_air_date FROM table_10413597_5 WHERE setting = \"1544\"\n",
            "\n",
            "\n"
          ]
        },
        {
          "output_type": "stream",
          "name": "stderr",
          "text": [
            "\r 44%|████▎     | 437/1000 [19:26<25:08,  2.68s/it]"
          ]
        },
        {
          "output_type": "stream",
          "name": "stdout",
          "text": [
            "\n",
            "\n",
            "Question: Name the date of winning score being 67-67-63=197\n",
            "\n",
            "Real Answer: SELECT date FROM table_1590652_4 WHERE winning_score = 67 - 67 - 63 = 197\n",
            "Generated Answer: SELECT date FROM table_1590652_4 WHERE winning_score = 67 - 67 - 63 = 197\n",
            "\n",
            "\n",
            "Similarity Score: 1.0000002\n",
            "Feedback: ('approve', 'SELECT date FROM table_1590652_4 WHERE winning_score = 67 - 67 - 63 = 197')\n",
            "\n",
            "\n",
            "Success!\n",
            "Success Answer: SELECT date FROM table_1590652_4 WHERE winning_score = 67 - 67 - 63 = 197\n",
            "\n",
            "\n"
          ]
        },
        {
          "output_type": "stream",
          "name": "stderr",
          "text": [
            "\r 44%|████▍     | 438/1000 [19:29<24:59,  2.67s/it]"
          ]
        },
        {
          "output_type": "stream",
          "name": "stdout",
          "text": [
            "\n",
            "\n",
            "Question: How many years was Louis Armstrong performing?\n",
            "\n",
            "Real Answer: SELECT COUNT(year) FROM table_name_51 WHERE performer_s_ = \"louis armstrong\"\n",
            "Generated Answer: SELECT COUNT(year) FROM table_name_51 WHERE performer_s_ = \"louis armstrong\"\n",
            "\n",
            "\n",
            "Similarity Score: 0.99999976\n",
            "Feedback: ('approve', 'SELECT COUNT(year) FROM table_name_51 WHERE performer_s_ = \"louis armstrong\"')\n",
            "\n",
            "\n",
            "Success!\n",
            "Success Answer: SELECT COUNT(year) FROM table_name_51 WHERE performer_s_ = \"louis armstrong\"\n",
            "\n",
            "\n"
          ]
        },
        {
          "output_type": "stream",
          "name": "stderr",
          "text": [
            "\r 44%|████▍     | 439/1000 [19:32<24:37,  2.63s/it]"
          ]
        },
        {
          "output_type": "stream",
          "name": "stdout",
          "text": [
            "\n",
            "\n",
            "Question: How many deaths did the eyar with exactly 6 hurricanes have?\n",
            "\n",
            "Real Answer: SELECT COUNT(deaths) FROM table_2930244_4 WHERE number_of_hurricanes = 6\n",
            "Generated Answer: SELECT deaths FROM table_2930244_4 WHERE number_of_hurricanes = 6\n",
            "\n",
            "\n",
            "Similarity Score: 0.90858614\n",
            "Feedback: ('approve', 'SELECT deaths FROM table_2930244_4 WHERE number_of_hurricanes = 6')\n",
            "\n",
            "\n",
            "Real Answer: SELECT COUNT(deaths) FROM table_2930244_4 WHERE number_of_hurricanes = 6\n",
            "Failed Answer: SELECT deaths FROM table_2930244_4 WHERE number_of_hurricanes = 6\n",
            "\n",
            "\n"
          ]
        },
        {
          "output_type": "stream",
          "name": "stderr",
          "text": [
            "\r 44%|████▍     | 440/1000 [19:40<41:18,  4.43s/it]"
          ]
        },
        {
          "output_type": "stream",
          "name": "stdout",
          "text": [
            "\n",
            "\n",
            "Question: Return the different names of cities that are in Asia and for which Chinese is the official language.\n",
            "\n",
            "Real Answer: SELECT DISTINCT T3.Name FROM country AS T1 JOIN countrylanguage AS T2 ON T1.Code = T2.CountryCode JOIN city AS T3 ON T1.Code = T3.CountryCode WHERE T2.IsOfficial = 'T' AND T2.Language = 'Chinese' AND T1.Continent = \"Asia\"\n",
            "Generated Answer: SELECT T1.Name FROM city AS T1 JOIN country AS T2 ON T1.CountryCode = T2.Code WHERE T2.Continent = 'Asia' INTERSECT SELECT T1.Name FROM city AS T1 JOIN countrylanguage AS T2 ON T1.CountryCode = T2.CountryCode WHERE T2.IsOfficial = 'Yes' AND T2.Language = 'Chinese'\n",
            "\n",
            "\n",
            "Similarity Score: 0.7993758\n",
            "Feedback: ('correct', 'SELECT DISTINCT T3.Name FROM country AS T1 JOIN countrylanguage AS T2 ON T1.Code = T2.CountryCode JOIN city AS T3 ON T1.Code = T3.CountryCode WHERE T2.IsOfficial = \\'T\\' AND T2.Language = \\'Chinese\\' AND T1.Continent = \"Asia\"')\n",
            "\n",
            "\n",
            "Real Answer: SELECT DISTINCT T3.Name FROM country AS T1 JOIN countrylanguage AS T2 ON T1.Code = T2.CountryCode JOIN city AS T3 ON T1.Code = T3.CountryCode WHERE T2.IsOfficial = 'T' AND T2.Language = 'Chinese' AND T1.Continent = \"Asia\"\n",
            "Failed Answer: SELECT T1.Name FROM city AS T1 JOIN country AS T2 ON T1.CountryCode = T2.Code WHERE T2.Continent = 'Asia' INTERSECT SELECT T1.Name FROM city AS T1 JOIN countrylanguage AS T2 ON T1.CountryCode = T2.CountryCode WHERE T2.IsOfficial = 'Yes' AND T2.Language = 'Chinese'\n",
            "\n",
            "\n"
          ]
        },
        {
          "output_type": "stream",
          "name": "stderr",
          "text": [
            "\r 44%|████▍     | 441/1000 [19:44<38:58,  4.18s/it]"
          ]
        },
        {
          "output_type": "stream",
          "name": "stdout",
          "text": [
            "\n",
            "\n",
            "Question: Name the sum of spectators for time more than 20.05 and team #2 of estonia\n",
            "\n",
            "Real Answer: SELECT SUM(spectators) FROM table_name_66 WHERE time___cest__ > 20.05 AND team__number2 = \"estonia\"\n",
            "Generated Answer: SELECT SUM(spectators) FROM table_name_66 WHERE time___cest__ > 20.05 AND team__number2 = \"estonia\"\n",
            "\n",
            "\n",
            "Similarity Score: 1.0\n",
            "Feedback: ('approve', 'SELECT SUM(spectators) FROM table_name_66 WHERE time___cest__ > 20.05 AND team__number2 = \"estonia\"')\n",
            "\n",
            "\n",
            "Success!\n",
            "Success Answer: SELECT SUM(spectators) FROM table_name_66 WHERE time___cest__ > 20.05 AND team__number2 = \"estonia\"\n",
            "\n",
            "\n"
          ]
        },
        {
          "output_type": "stream",
          "name": "stderr",
          "text": [
            "\r 44%|████▍     | 442/1000 [19:46<34:20,  3.69s/it]"
          ]
        },
        {
          "output_type": "stream",
          "name": "stdout",
          "text": [
            "\n",
            "\n",
            "Question: What engine had a JBW chassis in 1960?\n",
            "\n",
            "Real Answer: SELECT engine FROM table_name_49 WHERE chassis = \"jbw\" AND year = 1960\n",
            "Generated Answer: SELECT engine FROM table_name_49 WHERE chassis = \"jbw\" AND year = 1960\n",
            "\n",
            "\n",
            "Similarity Score: 1.0000001\n",
            "Feedback: ('approve', 'SELECT engine FROM table_name_49 WHERE chassis = \"jbw\" AND year = 1960')\n",
            "\n",
            "\n",
            "Success!\n",
            "Success Answer: SELECT engine FROM table_name_49 WHERE chassis = \"jbw\" AND year = 1960\n",
            "\n",
            "\n"
          ]
        },
        {
          "output_type": "stream",
          "name": "stderr",
          "text": [
            "\r 44%|████▍     | 443/1000 [19:48<29:39,  3.19s/it]"
          ]
        },
        {
          "output_type": "stream",
          "name": "stdout",
          "text": [
            "\n",
            "\n",
            "Question: What was their record when they played at Riverfront Stadium?\n",
            "\n",
            "Real Answer: SELECT record FROM table_name_25 WHERE game_site = \"riverfront stadium\"\n",
            "Generated Answer: SELECT record FROM table_name_25 WHERE game_site = \"riverfront stadium\"\n",
            "\n",
            "\n",
            "Similarity Score: 0.9999999\n",
            "Feedback: ('approve', 'SELECT record FROM table_name_25 WHERE game_site = \"riverfront stadium\"')\n",
            "\n",
            "\n",
            "Success!\n",
            "Success Answer: SELECT record FROM table_name_25 WHERE game_site = \"riverfront stadium\"\n",
            "\n",
            "\n"
          ]
        },
        {
          "output_type": "stream",
          "name": "stderr",
          "text": [
            "\r 44%|████▍     | 444/1000 [19:51<28:32,  3.08s/it]"
          ]
        },
        {
          "output_type": "stream",
          "name": "stdout",
          "text": [
            "\n",
            "\n",
            "Question: What is the color code with a temperature classification of ordinary?\n",
            "\n",
            "Real Answer: SELECT color_code__with_fusible_link_ FROM table_name_67 WHERE temperature_classification = \"ordinary\"\n",
            "Generated Answer: SELECT color_code__with_fusible_link_ FROM table_name_67 WHERE temperature_classification = \"ordinary\"\n",
            "\n",
            "\n",
            "Similarity Score: 1.0000001\n",
            "Feedback: ('approve', 'SELECT color_code__with_fusible_link_ FROM table_name_67 WHERE temperature_classification = \"ordinary\"')\n",
            "\n",
            "\n",
            "Success!\n",
            "Success Answer: SELECT color_code__with_fusible_link_ FROM table_name_67 WHERE temperature_classification = \"ordinary\"\n",
            "\n",
            "\n"
          ]
        },
        {
          "output_type": "stream",
          "name": "stderr",
          "text": [
            "\r 44%|████▍     | 445/1000 [19:54<27:43,  3.00s/it]"
          ]
        },
        {
          "output_type": "stream",
          "name": "stdout",
          "text": [
            "\n",
            "\n",
            "Question: What is Mike Skinner's Chevrolet's Car #?\n",
            "\n",
            "Real Answer: SELECT COUNT(car__number) FROM table_name_74 WHERE make = \"chevrolet\" AND driver = \"mike skinner\"\n",
            "Generated Answer: SELECT car__number FROM table_name_74 WHERE make = \"chevrolet\" AND driver = \"mike skinner\"\n",
            "\n",
            "\n",
            "Similarity Score: 0.77541876\n",
            "Feedback: ('correct', 'SELECT COUNT(car__number) FROM table_name_74 WHERE make = \"chevrolet\" AND driver = \"mike skinner\"')\n",
            "\n",
            "\n",
            "Real Answer: SELECT COUNT(car__number) FROM table_name_74 WHERE make = \"chevrolet\" AND driver = \"mike skinner\"\n",
            "Failed Answer: SELECT car__number FROM table_name_74 WHERE make = \"chevrolet\" AND driver = \"mike skinner\"\n",
            "\n",
            "\n"
          ]
        },
        {
          "output_type": "stream",
          "name": "stderr",
          "text": [
            "\r 45%|████▍     | 446/1000 [19:57<26:33,  2.88s/it]"
          ]
        },
        {
          "output_type": "stream",
          "name": "stdout",
          "text": [
            "\n",
            "\n",
            "Question: Who was the champion boxer?\n",
            "\n",
            "Real Answer: SELECT celebrity FROM table_14345690_2 WHERE famous_for = \"Champion boxer\"\n",
            "Generated Answer: SELECT celebrity FROM table_14345690_2 WHERE famous_for = \"Champion Boxer\"\n",
            "\n",
            "\n",
            "Similarity Score: 0.9999999\n",
            "Feedback: ('approve', 'SELECT celebrity FROM table_14345690_2 WHERE famous_for = \"Champion Boxer\"')\n",
            "\n",
            "\n",
            "Real Answer: SELECT celebrity FROM table_14345690_2 WHERE famous_for = \"Champion boxer\"\n",
            "Failed Answer: SELECT celebrity FROM table_14345690_2 WHERE famous_for = \"Champion Boxer\"\n",
            "\n",
            "\n"
          ]
        },
        {
          "output_type": "stream",
          "name": "stderr",
          "text": [
            "\r 45%|████▍     | 447/1000 [19:59<24:21,  2.64s/it]"
          ]
        },
        {
          "output_type": "stream",
          "name": "stdout",
          "text": [
            "\n",
            "\n",
            "Question: Which deputy took office in 1976?\n",
            "\n",
            "Real Answer: SELECT name FROM table_name_97 WHERE took_office = \"1976\"\n",
            "Generated Answer: SELECT name FROM table_name_97 WHERE took_office = \"1976\"\n",
            "\n",
            "\n",
            "Similarity Score: 0.99999994\n",
            "Feedback: ('approve', 'SELECT name FROM table_name_97 WHERE took_office = \"1976\"')\n",
            "\n",
            "\n",
            "Success!\n",
            "Success Answer: SELECT name FROM table_name_97 WHERE took_office = \"1976\"\n",
            "\n",
            "\n"
          ]
        },
        {
          "output_type": "stream",
          "name": "stderr",
          "text": [
            "\r 45%|████▍     | 448/1000 [20:01<22:37,  2.46s/it]"
          ]
        },
        {
          "output_type": "stream",
          "name": "stdout",
          "text": [
            "\n",
            "\n",
            "Question: Who manufactured the motorcycle that did 24 laps and 9 grids?\n",
            "\n",
            "Real Answer: SELECT manufacturer FROM table_name_84 WHERE laps = 24 AND grid = 9\n",
            "Generated Answer: SELECT manufacturer FROM table_name_84 WHERE laps = 24 AND grid = 9\n",
            "\n",
            "\n",
            "Similarity Score: 1.0000002\n",
            "Feedback: ('approve', 'SELECT manufacturer FROM table_name_84 WHERE laps = 24 AND grid = 9')\n",
            "\n",
            "\n",
            "Success!\n",
            "Success Answer: SELECT manufacturer FROM table_name_84 WHERE laps = 24 AND grid = 9\n",
            "\n",
            "\n"
          ]
        },
        {
          "output_type": "stream",
          "name": "stderr",
          "text": [
            "\r 45%|████▍     | 449/1000 [20:04<24:55,  2.71s/it]"
          ]
        },
        {
          "output_type": "stream",
          "name": "stdout",
          "text": [
            "\n",
            "\n",
            "Question: How many ends lost when shot % is 88 and ends won are 31?\n",
            "\n",
            "Real Answer: SELECT COUNT(ends_lost) FROM table_name_72 WHERE shot_pct = 88 AND ends_won = 31\n",
            "Generated Answer: SELECT COUNT(ends_lost) FROM table_name_72 WHERE shot_pct = \"88\" AND ends_won = \"31\"\n",
            "\n",
            "\n",
            "Similarity Score: 0.9931228\n",
            "Feedback: ('approve', 'SELECT COUNT(ends_lost) FROM table_name_72 WHERE shot_pct = \"88\" AND ends_won = \"31\"')\n",
            "\n",
            "\n",
            "Real Answer: SELECT COUNT(ends_lost) FROM table_name_72 WHERE shot_pct = 88 AND ends_won = 31\n",
            "Failed Answer: SELECT COUNT(ends_lost) FROM table_name_72 WHERE shot_pct = \"88\" AND ends_won = \"31\"\n",
            "\n",
            "\n"
          ]
        },
        {
          "output_type": "stream",
          "name": "stderr",
          "text": [
            "\r 45%|████▌     | 450/1000 [20:07<26:30,  2.89s/it]"
          ]
        },
        {
          "output_type": "stream",
          "name": "stdout",
          "text": [
            "\n",
            "\n",
            "Question: Who placed in t5 and scored 73-69-68=210?\n",
            "\n",
            "Real Answer: SELECT player FROM table_name_76 WHERE place = \"t5\" AND score = 73 - 69 - 68 = 210\n",
            "Generated Answer: SELECT player FROM table_name_76 WHERE place = \"t5\" AND score = 73 - 69 - 68 = 210\n",
            "\n",
            "\n",
            "Similarity Score: 0.99999994\n",
            "Feedback: ('approve', 'SELECT player FROM table_name_76 WHERE place = \"t5\" AND score = 73 - 69 - 68 = 210')\n",
            "\n",
            "\n",
            "Success!\n",
            "Success Answer: SELECT player FROM table_name_76 WHERE place = \"t5\" AND score = 73 - 69 - 68 = 210\n",
            "\n",
            "\n"
          ]
        },
        {
          "output_type": "stream",
          "name": "stderr",
          "text": [
            "\r 45%|████▌     | 451/1000 [20:09<24:01,  2.62s/it]"
          ]
        },
        {
          "output_type": "stream",
          "name": "stdout",
          "text": [
            "\n",
            "\n",
            "Question: Which #/ County has a Location of ossian?\n",
            "\n",
            "Real Answer: SELECT _number___county FROM table_name_88 WHERE location = \"ossian\"\n",
            "Generated Answer: SELECT _number___county FROM table_name_88 WHERE location = \"ossian\"\n",
            "\n",
            "\n",
            "Similarity Score: 0.99999994\n",
            "Feedback: ('approve', 'SELECT _number___county FROM table_name_88 WHERE location = \"ossian\"')\n",
            "\n",
            "\n",
            "Success!\n",
            "Success Answer: SELECT _number___county FROM table_name_88 WHERE location = \"ossian\"\n",
            "\n",
            "\n"
          ]
        },
        {
          "output_type": "stream",
          "name": "stderr",
          "text": [
            "\r 45%|████▌     | 452/1000 [20:11<22:46,  2.49s/it]"
          ]
        },
        {
          "output_type": "stream",
          "name": "stdout",
          "text": [
            "\n",
            "\n",
            "Question: What player was the number 1 draft pick?\n",
            "\n",
            "Real Answer: SELECT player FROM table_25085059_1 WHERE pick__number = 1\n",
            "Generated Answer: SELECT player FROM table_25085059_1 WHERE pick__number = 1\n",
            "\n",
            "\n",
            "Similarity Score: 0.9999999\n",
            "Feedback: ('approve', 'SELECT player FROM table_25085059_1 WHERE pick__number = 1')\n",
            "\n",
            "\n",
            "Success!\n",
            "Success Answer: SELECT player FROM table_25085059_1 WHERE pick__number = 1\n",
            "\n",
            "\n"
          ]
        },
        {
          "output_type": "stream",
          "name": "stderr",
          "text": [
            "\r 45%|████▌     | 453/1000 [20:14<21:49,  2.39s/it]"
          ]
        },
        {
          "output_type": "stream",
          "name": "stdout",
          "text": [
            "\n",
            "\n",
            "Question: Which school was Chris Robinson from?\n",
            "\n",
            "Real Answer: SELECT school_club_team FROM table_name_60 WHERE player = \"chris robinson\"\n",
            "Generated Answer: SELECT school_club_team FROM table_name_60 WHERE player = \"chris robinson\"\n",
            "\n",
            "\n",
            "Similarity Score: 0.99999994\n",
            "Feedback: ('approve', 'SELECT school_club_team FROM table_name_60 WHERE player = \"chris robinson\"')\n",
            "\n",
            "\n",
            "Success!\n",
            "Success Answer: SELECT school_club_team FROM table_name_60 WHERE player = \"chris robinson\"\n",
            "\n",
            "\n"
          ]
        },
        {
          "output_type": "stream",
          "name": "stderr",
          "text": [
            "\r 45%|████▌     | 454/1000 [20:15<19:35,  2.15s/it]"
          ]
        },
        {
          "output_type": "stream",
          "name": "stdout",
          "text": [
            "\n",
            "\n",
            "Question: Which team played in the Darida venue?\n",
            "\n",
            "Real Answer: SELECT venue FROM table_name_26 WHERE team = \"darida\"\n",
            "Generated Answer: SELECT venue FROM table_name_26 WHERE team = \"darida\"\n",
            "\n",
            "\n",
            "Similarity Score: 1.0000001\n",
            "Feedback: ('approve', 'SELECT venue FROM table_name_26 WHERE team = \"darida\"')\n",
            "\n",
            "\n",
            "Success!\n",
            "Success Answer: SELECT venue FROM table_name_26 WHERE team = \"darida\"\n",
            "\n",
            "\n"
          ]
        },
        {
          "output_type": "stream",
          "name": "stderr",
          "text": [
            "\r 46%|████▌     | 455/1000 [20:17<19:47,  2.18s/it]"
          ]
        },
        {
          "output_type": "stream",
          "name": "stdout",
          "text": [
            "\n",
            "\n",
            "Question: What team was in 1st plate in a year later than 1956?\n",
            "\n",
            "Real Answer: SELECT 1 AS st_place_team FROM table_name_84 WHERE year > 1956\n",
            "Generated Answer: SELECT 1 AS st_plate FROM table_name_84 WHERE year > 1956\n",
            "\n",
            "\n",
            "Similarity Score: 0.6531982\n",
            "Feedback: ('correct', 'SELECT 1 AS st_place_team FROM table_name_84 WHERE year > 1956')\n",
            "\n",
            "\n",
            "Real Answer: SELECT 1 AS st_place_team FROM table_name_84 WHERE year > 1956\n",
            "Failed Answer: SELECT 1 AS st_plate FROM table_name_84 WHERE year > 1956\n",
            "\n",
            "\n"
          ]
        },
        {
          "output_type": "stream",
          "name": "stderr",
          "text": [
            "\r 46%|████▌     | 456/1000 [20:19<18:12,  2.01s/it]"
          ]
        },
        {
          "output_type": "stream",
          "name": "stdout",
          "text": [
            "\n",
            "\n",
            "Question: What venue is in Long Beach?\n",
            "\n",
            "Real Answer: SELECT venue FROM table_name_73 WHERE city = \"long beach\"\n",
            "Generated Answer: SELECT venue FROM table_name_73 WHERE city = \"long beach\"\n",
            "\n",
            "\n",
            "Similarity Score: 1.0\n",
            "Feedback: ('approve', 'SELECT venue FROM table_name_73 WHERE city = \"long beach\"')\n",
            "\n",
            "\n",
            "Success!\n",
            "Success Answer: SELECT venue FROM table_name_73 WHERE city = \"long beach\"\n",
            "\n",
            "\n"
          ]
        },
        {
          "output_type": "stream",
          "name": "stderr",
          "text": [
            "\r 46%|████▌     | 457/1000 [20:22<19:50,  2.19s/it]"
          ]
        },
        {
          "output_type": "stream",
          "name": "stdout",
          "text": [
            "\n",
            "\n",
            "Question: what's the grsecurity with dbeingtribution being debian / ubuntu\n",
            "\n",
            "Real Answer: SELECT grsecurity FROM table_1357052_6 WHERE distribution = \"Debian / Ubuntu\"\n",
            "Generated Answer: SELECT grsecurity FROM table_1357052_6 WHERE distribution = \"Debian / Ubuntu\"\n",
            "\n",
            "\n",
            "Similarity Score: 1.0000001\n",
            "Feedback: ('approve', 'SELECT grsecurity FROM table_1357052_6 WHERE distribution = \"Debian / Ubuntu\"')\n",
            "\n",
            "\n",
            "Success!\n",
            "Success Answer: SELECT grsecurity FROM table_1357052_6 WHERE distribution = \"Debian / Ubuntu\"\n",
            "\n",
            "\n"
          ]
        },
        {
          "output_type": "stream",
          "name": "stderr",
          "text": [
            "\r 46%|████▌     | 458/1000 [20:25<23:40,  2.62s/it]"
          ]
        },
        {
          "output_type": "stream",
          "name": "stdout",
          "text": [
            "\n",
            "\n",
            "Question: What is the Label of the September 20, 2008 release with Catalog number RTRADCD491?\n",
            "\n",
            "Real Answer: SELECT label FROM table_name_22 WHERE catalog = \"rtradcd491\" AND date = \"september 20, 2008\"\n",
            "Generated Answer: SELECT label FROM table_name_22 WHERE catalog = \"rtradcd491\" AND date = \"september 20, 2008\"\n",
            "\n",
            "\n",
            "Similarity Score: 0.99999994\n",
            "Feedback: ('approve', 'SELECT label FROM table_name_22 WHERE catalog = \"rtradcd491\" AND date = \"september 20, 2008\"')\n",
            "\n",
            "\n",
            "Success!\n",
            "Success Answer: SELECT label FROM table_name_22 WHERE catalog = \"rtradcd491\" AND date = \"september 20, 2008\"\n",
            "\n",
            "\n"
          ]
        },
        {
          "output_type": "stream",
          "name": "stderr",
          "text": [
            "\r 46%|████▌     | 459/1000 [20:28<23:43,  2.63s/it]"
          ]
        },
        {
          "output_type": "stream",
          "name": "stdout",
          "text": [
            "\n",
            "\n",
            "Question: How many \"series\" were in the 12th \"position?\n",
            "\n",
            "Real Answer: SELECT COUNT(series) FROM table_26473176_1 WHERE position = \"12th\"\n",
            "Generated Answer: SELECT COUNT(series) FROM table_26473176_1 WHERE position = \"12th\"\n",
            "\n",
            "\n",
            "Similarity Score: 0.9999999\n",
            "Feedback: ('approve', 'SELECT COUNT(series) FROM table_26473176_1 WHERE position = \"12th\"')\n",
            "\n",
            "\n",
            "Success!\n",
            "Success Answer: SELECT COUNT(series) FROM table_26473176_1 WHERE position = \"12th\"\n",
            "\n",
            "\n"
          ]
        },
        {
          "output_type": "stream",
          "name": "stderr",
          "text": [
            "\r 46%|████▌     | 460/1000 [20:31<23:58,  2.66s/it]"
          ]
        },
        {
          "output_type": "stream",
          "name": "stdout",
          "text": [
            "\n",
            "\n",
            "Question: What was the title of the episode with 5.04 million viewers?\n",
            "\n",
            "Real Answer: SELECT original_title FROM table_17641206_4 WHERE viewership = \"5.04 million\"\n",
            "Generated Answer: SELECT original_title FROM table_17641206_4 WHERE viewership = \"5.04 million\"\n",
            "\n",
            "\n",
            "Similarity Score: 1.0000002\n",
            "Feedback: ('approve', 'SELECT original_title FROM table_17641206_4 WHERE viewership = \"5.04 million\"')\n",
            "\n",
            "\n",
            "Success!\n",
            "Success Answer: SELECT original_title FROM table_17641206_4 WHERE viewership = \"5.04 million\"\n",
            "\n",
            "\n"
          ]
        },
        {
          "output_type": "stream",
          "name": "stderr",
          "text": [
            "\r 46%|████▌     | 461/1000 [20:33<22:32,  2.51s/it]"
          ]
        },
        {
          "output_type": "stream",
          "name": "stdout",
          "text": [
            "\n",
            "\n",
            "Question: What was the earliest week when the New Orleans Saints were the opponents?\n",
            "\n",
            "Real Answer: SELECT MIN(week) FROM table_name_31 WHERE opponent = \"new orleans saints\"\n",
            "Generated Answer: SELECT MIN(week) FROM table_name_31 WHERE opponent = \"new orleans saints\"\n",
            "\n",
            "\n",
            "Similarity Score: 0.9999999\n",
            "Feedback: ('approve', 'SELECT MIN(week) FROM table_name_31 WHERE opponent = \"new orleans saints\"')\n",
            "\n",
            "\n",
            "Success!\n",
            "Success Answer: SELECT MIN(week) FROM table_name_31 WHERE opponent = \"new orleans saints\"\n",
            "\n",
            "\n"
          ]
        },
        {
          "output_type": "stream",
          "name": "stderr",
          "text": [
            "\r 46%|████▌     | 462/1000 [20:35<21:48,  2.43s/it]"
          ]
        },
        {
          "output_type": "stream",
          "name": "stdout",
          "text": [
            "\n",
            "\n",
            "Question: Name the location for 2-1 record\n",
            "\n",
            "Real Answer: SELECT location FROM table_23192661_3 WHERE record = \"2-1\"\n",
            "Generated Answer: SELECT location FROM table_23192661_3 WHERE record = \"2-1\"\n",
            "\n",
            "\n",
            "Similarity Score: 0.99999976\n",
            "Feedback: ('approve', 'SELECT location FROM table_23192661_3 WHERE record = \"2-1\"')\n",
            "\n",
            "\n",
            "Success!\n",
            "Success Answer: SELECT location FROM table_23192661_3 WHERE record = \"2-1\"\n",
            "\n",
            "\n"
          ]
        },
        {
          "output_type": "stream",
          "name": "stderr",
          "text": [
            "\r 46%|████▋     | 463/1000 [20:38<21:58,  2.46s/it]"
          ]
        },
        {
          "output_type": "stream",
          "name": "stdout",
          "text": [
            "\n",
            "\n",
            "Question: What is under drafted when pro team is arizona cardinals?\n",
            "\n",
            "Real Answer: SELECT drafted FROM table_1198175_1 WHERE pro_team = \"Arizona Cardinals\"\n",
            "Generated Answer: SELECT drafted FROM table_1198175_1 WHERE pro_team = \"Arizona Cardinals\"\n",
            "\n",
            "\n",
            "Similarity Score: 0.99999976\n",
            "Feedback: ('approve', 'SELECT drafted FROM table_1198175_1 WHERE pro_team = \"Arizona Cardinals\"')\n",
            "\n",
            "\n",
            "Success!\n",
            "Success Answer: SELECT drafted FROM table_1198175_1 WHERE pro_team = \"Arizona Cardinals\"\n",
            "\n",
            "\n"
          ]
        },
        {
          "output_type": "stream",
          "name": "stderr",
          "text": [
            "\r 46%|████▋     | 464/1000 [20:40<22:46,  2.55s/it]"
          ]
        },
        {
          "output_type": "stream",
          "name": "stdout",
          "text": [
            "\n",
            "\n",
            "Question: What is the longitude of the feature named Razia Patera? \n",
            "\n",
            "Real Answer: SELECT longitude FROM table_16799784_8 WHERE name = \"Razia Patera\"\n",
            "Generated Answer: SELECT longitude FROM table_16799784_8 WHERE name = \"Razia Patera\"\n",
            "\n",
            "\n",
            "Similarity Score: 0.99999976\n",
            "Feedback: ('approve', 'SELECT longitude FROM table_16799784_8 WHERE name = \"Razia Patera\"')\n",
            "\n",
            "\n",
            "Success!\n",
            "Success Answer: SELECT longitude FROM table_16799784_8 WHERE name = \"Razia Patera\"\n",
            "\n",
            "\n"
          ]
        },
        {
          "output_type": "stream",
          "name": "stderr",
          "text": [
            "\r 46%|████▋     | 465/1000 [20:44<26:15,  2.94s/it]"
          ]
        },
        {
          "output_type": "stream",
          "name": "stdout",
          "text": [
            "\n",
            "\n",
            "Question: The population is 2,107's dominant religion is?\n",
            "\n",
            "Real Answer: SELECT dominant_religion__2002_ FROM table_2562572_39 WHERE population__2011_ = \"2,107\"\n",
            "Generated Answer: SELECT dominant_religion__2002_ FROM table_2562572_39 WHERE population__2011_ = \"2,107\"\n",
            "\n",
            "\n",
            "Similarity Score: 0.99999994\n",
            "Feedback: ('approve', 'SELECT dominant_religion__2002_ FROM table_2562572_39 WHERE population__2011_ = \"2,107\"')\n",
            "\n",
            "\n",
            "Success!\n",
            "Success Answer: SELECT dominant_religion__2002_ FROM table_2562572_39 WHERE population__2011_ = \"2,107\"\n",
            "\n",
            "\n"
          ]
        },
        {
          "output_type": "stream",
          "name": "stderr",
          "text": [
            "\r 47%|████▋     | 466/1000 [20:46<22:23,  2.52s/it]"
          ]
        },
        {
          "output_type": "stream",
          "name": "stdout",
          "text": [
            "\n",
            "\n",
            "Question: Who was the opposition for the player who has a total of 10 points?\n",
            "\n",
            "Real Answer: SELECT opposition FROM table_name_72 WHERE total = 10\n",
            "Generated Answer: SELECT opposition FROM table_name_72 WHERE total = 10\n",
            "\n",
            "\n",
            "Similarity Score: 1.0\n",
            "Feedback: ('approve', 'SELECT opposition FROM table_name_72 WHERE total = 10')\n",
            "\n",
            "\n",
            "Success!\n",
            "Success Answer: SELECT opposition FROM table_name_72 WHERE total = 10\n",
            "\n",
            "\n"
          ]
        },
        {
          "output_type": "stream",
          "name": "stderr",
          "text": [
            "\r 47%|████▋     | 467/1000 [20:48<20:14,  2.28s/it]"
          ]
        },
        {
          "output_type": "stream",
          "name": "stdout",
          "text": [
            "\n",
            "\n",
            "Question: Which fire has dry metal?\n",
            "\n",
            "Real Answer: SELECT fire FROM table_name_24 WHERE metal = \"dry\"\n",
            "Generated Answer: SELECT fire FROM table_name_24 WHERE metal = \"dry\"\n",
            "\n",
            "\n",
            "Similarity Score: 1.0\n",
            "Feedback: ('approve', 'SELECT fire FROM table_name_24 WHERE metal = \"dry\"')\n",
            "\n",
            "\n",
            "Success!\n",
            "Success Answer: SELECT fire FROM table_name_24 WHERE metal = \"dry\"\n",
            "\n",
            "\n"
          ]
        },
        {
          "output_type": "stream",
          "name": "stderr",
          "text": [
            "\r 47%|████▋     | 468/1000 [20:50<20:16,  2.29s/it]"
          ]
        },
        {
          "output_type": "stream",
          "name": "stdout",
          "text": [
            "\n",
            "\n",
            "Question: What is Olivier Jacque's Time/Retired?\n",
            "\n",
            "Real Answer: SELECT time_retired FROM table_name_43 WHERE rider = \"olivier jacque\"\n",
            "Generated Answer: SELECT time_retired FROM table_name_43 WHERE rider = \"olivier jacque\"\n",
            "\n",
            "\n",
            "Similarity Score: 1.0\n",
            "Feedback: ('approve', 'SELECT time_retired FROM table_name_43 WHERE rider = \"olivier jacque\"')\n",
            "\n",
            "\n",
            "Success!\n",
            "Success Answer: SELECT time_retired FROM table_name_43 WHERE rider = \"olivier jacque\"\n",
            "\n",
            "\n"
          ]
        },
        {
          "output_type": "stream",
          "name": "stderr",
          "text": [
            "\r 47%|████▋     | 469/1000 [20:54<24:09,  2.73s/it]"
          ]
        },
        {
          "output_type": "stream",
          "name": "stdout",
          "text": [
            "\n",
            "\n",
            "Question: How many votes went to other candidates in the county that gave 1.9% votes to them, and 160,390 total votes to Bush?\n",
            "\n",
            "Real Answer: SELECT MIN(others_number) FROM table_name_12 WHERE others_percentage = \"1.9%\" AND bush_number < 160 OFFSET 390\n",
            "Generated Answer: SELECT MAX(others_number) FROM table_name_12 WHERE others_percentage = \"1.9%\" AND bush_number > 160 OFFSET 390\n",
            "\n",
            "\n",
            "Similarity Score: 0.8760979\n",
            "Feedback: ('approve', 'SELECT MAX(others_number) FROM table_name_12 WHERE others_percentage = \"1.9%\" AND bush_number > 160 OFFSET 390')\n",
            "\n",
            "\n",
            "Real Answer: SELECT MIN(others_number) FROM table_name_12 WHERE others_percentage = \"1.9%\" AND bush_number < 160 OFFSET 390\n",
            "Failed Answer: SELECT MAX(others_number) FROM table_name_12 WHERE others_percentage = \"1.9%\" AND bush_number > 160 OFFSET 390\n",
            "\n",
            "\n"
          ]
        },
        {
          "output_type": "stream",
          "name": "stderr",
          "text": [
            "\r 47%|████▋     | 470/1000 [20:56<23:58,  2.71s/it]"
          ]
        },
        {
          "output_type": "stream",
          "name": "stdout",
          "text": [
            "\n",
            "\n",
            "Question: what is the location when the year is after 1974 and the date is september 19?\n",
            "\n",
            "Real Answer: SELECT location FROM table_name_36 WHERE year > 1974 AND date = \"september 19\"\n",
            "Generated Answer: SELECT location FROM table_name_36 WHERE year > 1974 AND date = \"september 19\"\n",
            "\n",
            "\n",
            "Similarity Score: 1.0000001\n",
            "Feedback: ('approve', 'SELECT location FROM table_name_36 WHERE year > 1974 AND date = \"september 19\"')\n",
            "\n",
            "\n",
            "Success!\n",
            "Success Answer: SELECT location FROM table_name_36 WHERE year > 1974 AND date = \"september 19\"\n",
            "\n",
            "\n"
          ]
        },
        {
          "output_type": "stream",
          "name": "stderr",
          "text": [
            "\r 47%|████▋     | 471/1000 [20:59<24:37,  2.79s/it]"
          ]
        },
        {
          "output_type": "stream",
          "name": "stdout",
          "text": [
            "\n",
            "\n",
            "Question: When columbia, south carolina is the hometown what is the lowest age?\n",
            "\n",
            "Real Answer: SELECT MIN(age) FROM table_1859855_2 WHERE hometown = \"Columbia, South Carolina\"\n",
            "Generated Answer: SELECT MIN(age) FROM table_1859855_2 WHERE hometown = \"Columbia, South Carolina\"\n",
            "\n",
            "\n",
            "Similarity Score: 1.0\n",
            "Feedback: ('approve', 'SELECT MIN(age) FROM table_1859855_2 WHERE hometown = \"Columbia, South Carolina\"')\n",
            "\n",
            "\n",
            "Success!\n",
            "Success Answer: SELECT MIN(age) FROM table_1859855_2 WHERE hometown = \"Columbia, South Carolina\"\n",
            "\n",
            "\n"
          ]
        },
        {
          "output_type": "stream",
          "name": "stderr",
          "text": [
            "\r 47%|████▋     | 472/1000 [21:03<26:12,  2.98s/it]"
          ]
        },
        {
          "output_type": "stream",
          "name": "stdout",
          "text": [
            "\n",
            "\n",
            "Question: What is the number for years 1985-88\n",
            "\n",
            "Real Answer: SELECT MIN(no) FROM table_11545282_18 WHERE years_for_jazz = \"1985-88\"\n",
            "Generated Answer: SELECT MAX(no) FROM table_11545282_18 WHERE years_for_jazz = \"1985-88\"\n",
            "\n",
            "\n",
            "Similarity Score: 0.7510539\n",
            "Feedback: ('correct', 'SELECT MIN(no) FROM table_11545282_18 WHERE years_for_jazz = \"1985-88\"')\n",
            "\n",
            "\n",
            "Real Answer: SELECT MIN(no) FROM table_11545282_18 WHERE years_for_jazz = \"1985-88\"\n",
            "Failed Answer: SELECT MAX(no) FROM table_11545282_18 WHERE years_for_jazz = \"1985-88\"\n",
            "\n",
            "\n"
          ]
        },
        {
          "output_type": "stream",
          "name": "stderr",
          "text": [
            "\r 47%|████▋     | 473/1000 [21:06<25:56,  2.95s/it]"
          ]
        },
        {
          "output_type": "stream",
          "name": "stdout",
          "text": [
            "\n",
            "\n",
            "Question: What is the name of the visitor team who played home team Chicago Black Hawks on March 20?\n",
            "\n",
            "Real Answer: SELECT visitor FROM table_name_77 WHERE home = \"chicago black hawks\" AND date = \"march 20\"\n",
            "Generated Answer: SELECT visitor FROM table_name_77 WHERE home = \"chicago black hawks\" AND date = \"march 20\"\n",
            "\n",
            "\n",
            "Similarity Score: 1.0000001\n",
            "Feedback: ('approve', 'SELECT visitor FROM table_name_77 WHERE home = \"chicago black hawks\" AND date = \"march 20\"')\n",
            "\n",
            "\n",
            "Success!\n",
            "Success Answer: SELECT visitor FROM table_name_77 WHERE home = \"chicago black hawks\" AND date = \"march 20\"\n",
            "\n",
            "\n"
          ]
        },
        {
          "output_type": "stream",
          "name": "stderr",
          "text": [
            "\r 47%|████▋     | 474/1000 [21:08<25:13,  2.88s/it]"
          ]
        },
        {
          "output_type": "stream",
          "name": "stdout",
          "text": [
            "\n",
            "\n",
            "Question: what are the minimum points for tommy kendall?\n",
            "\n",
            "Real Answer: SELECT MIN(points) FROM table_27781212_1 WHERE driver = \"Tommy Kendall\"\n",
            "Generated Answer: SELECT MIN(points) FROM table_27781212_1 WHERE driver = \"Tommy Kendall\"\n",
            "\n",
            "\n",
            "Similarity Score: 0.9999999\n",
            "Feedback: ('approve', 'SELECT MIN(points) FROM table_27781212_1 WHERE driver = \"Tommy Kendall\"')\n",
            "\n",
            "\n",
            "Success!\n",
            "Success Answer: SELECT MIN(points) FROM table_27781212_1 WHERE driver = \"Tommy Kendall\"\n",
            "\n",
            "\n"
          ]
        },
        {
          "output_type": "stream",
          "name": "stderr",
          "text": [
            "\r 48%|████▊     | 475/1000 [21:12<27:51,  3.18s/it]"
          ]
        },
        {
          "output_type": "stream",
          "name": "stdout",
          "text": [
            "\n",
            "\n",
            "Question: List the name of physicians who never took any appointment.\n",
            "\n",
            "Real Answer: SELECT name FROM physician EXCEPT SELECT T2.name FROM appointment AS T1 JOIN physician AS T2 ON T1.Physician = T2.EmployeeID\n",
            "Generated Answer: SELECT name FROM physician WHERE NOT EmployeeID IN (SELECT T1.Physician FROM appointment AS T1 JOIN physician AS T2 ON T1.Physician = T2.EmployeeID)\n",
            "\n",
            "\n",
            "Similarity Score: 0.861522\n",
            "Feedback: ('approve', 'SELECT name FROM physician WHERE NOT EmployeeID IN (SELECT T1.Physician FROM appointment AS T1 JOIN physician AS T2 ON T1.Physician = T2.EmployeeID)')\n",
            "\n",
            "\n",
            "Real Answer: SELECT name FROM physician EXCEPT SELECT T2.name FROM appointment AS T1 JOIN physician AS T2 ON T1.Physician = T2.EmployeeID\n",
            "Failed Answer: SELECT name FROM physician WHERE NOT EmployeeID IN (SELECT T1.Physician FROM appointment AS T1 JOIN physician AS T2 ON T1.Physician = T2.EmployeeID)\n",
            "\n",
            "\n"
          ]
        },
        {
          "output_type": "stream",
          "name": "stderr",
          "text": [
            "\r 48%|████▊     | 476/1000 [21:14<24:09,  2.77s/it]"
          ]
        },
        {
          "output_type": "stream",
          "name": "stdout",
          "text": [
            "\n",
            "\n",
            "Question: What horse for jara?\n",
            "\n",
            "Real Answer: SELECT horse FROM table_name_43 WHERE jockey = \"jara\"\n",
            "Generated Answer: SELECT horse FROM table_name_43 WHERE jockey = \"jara\"\n",
            "\n",
            "\n",
            "Similarity Score: 0.99999994\n",
            "Feedback: ('approve', 'SELECT horse FROM table_name_43 WHERE jockey = \"jara\"')\n",
            "\n",
            "\n",
            "Success!\n",
            "Success Answer: SELECT horse FROM table_name_43 WHERE jockey = \"jara\"\n",
            "\n",
            "\n"
          ]
        },
        {
          "output_type": "stream",
          "name": "stderr",
          "text": [
            "\r 48%|████▊     | 477/1000 [21:17<25:36,  2.94s/it]"
          ]
        },
        {
          "output_type": "stream",
          "name": "stdout",
          "text": [
            "\n",
            "\n",
            "Question: For nhl team is san jose sharks mention all the college/junior/club team \n",
            "\n",
            "Real Answer: SELECT college_junior_club_team FROM table_2781227_4 WHERE nhl_team = \"San Jose Sharks\"\n",
            "Generated Answer: SELECT college_junior_club_team FROM table_2781227_4 WHERE nhl_team = \"San Jose Sharks\"\n",
            "\n",
            "\n",
            "Similarity Score: 0.9999999\n",
            "Feedback: ('approve', 'SELECT college_junior_club_team FROM table_2781227_4 WHERE nhl_team = \"San Jose Sharks\"')\n",
            "\n",
            "\n",
            "Success!\n",
            "Success Answer: SELECT college_junior_club_team FROM table_2781227_4 WHERE nhl_team = \"San Jose Sharks\"\n",
            "\n",
            "\n"
          ]
        },
        {
          "output_type": "stream",
          "name": "stderr",
          "text": [
            "\r 48%|████▊     | 478/1000 [21:20<23:49,  2.74s/it]"
          ]
        },
        {
          "output_type": "stream",
          "name": "stdout",
          "text": [
            "\n",
            "\n",
            "Question: What did the away team score when the crowd was larger than 6,872?\n",
            "\n",
            "Real Answer: SELECT away_team AS score FROM table_name_55 WHERE crowd > 6 OFFSET 872\n",
            "Generated Answer: SELECT away_team AS score FROM table_name_55 WHERE crowd > 6 OFFSET 872\n",
            "\n",
            "\n",
            "Similarity Score: 1.0000001\n",
            "Feedback: ('approve', 'SELECT away_team AS score FROM table_name_55 WHERE crowd > 6 OFFSET 872')\n",
            "\n",
            "\n",
            "Success!\n",
            "Success Answer: SELECT away_team AS score FROM table_name_55 WHERE crowd > 6 OFFSET 872\n",
            "\n",
            "\n"
          ]
        },
        {
          "output_type": "stream",
          "name": "stderr",
          "text": [
            "\r 48%|████▊     | 479/1000 [21:23<26:06,  3.01s/it]"
          ]
        },
        {
          "output_type": "stream",
          "name": "stdout",
          "text": [
            "\n",
            "\n",
            "Question: what is the maximum aircraft movements with international passengers being 21002260\n",
            "\n",
            "Real Answer: SELECT MAX(aircraft_movements) FROM table_13836704_9 WHERE international_passengers = 21002260\n",
            "Generated Answer: SELECT MAX(aircraft_movements) FROM table_13836704_9 WHERE international_passengers = 21002260\n",
            "\n",
            "\n",
            "Similarity Score: 1.0\n",
            "Feedback: ('approve', 'SELECT MAX(aircraft_movements) FROM table_13836704_9 WHERE international_passengers = 21002260')\n",
            "\n",
            "\n",
            "Success!\n",
            "Success Answer: SELECT MAX(aircraft_movements) FROM table_13836704_9 WHERE international_passengers = 21002260\n",
            "\n",
            "\n"
          ]
        },
        {
          "output_type": "stream",
          "name": "stderr",
          "text": [
            "\r 48%|████▊     | 480/1000 [21:26<25:53,  2.99s/it]"
          ]
        },
        {
          "output_type": "stream",
          "name": "stdout",
          "text": [
            "\n",
            "\n",
            "Question: Name the number in series for number 38\n",
            "\n",
            "Real Answer: SELECT MIN(no_in_series) FROM table_18335117_5 WHERE no_overall = 38\n",
            "Generated Answer: SELECT MAX(no_in_series) FROM table_18335117_5 WHERE no_overall = 38\n",
            "\n",
            "\n",
            "Similarity Score: 0.7707144\n",
            "Feedback: ('correct', 'SELECT MIN(no_in_series) FROM table_18335117_5 WHERE no_overall = 38')\n",
            "\n",
            "\n",
            "Real Answer: SELECT MIN(no_in_series) FROM table_18335117_5 WHERE no_overall = 38\n",
            "Failed Answer: SELECT MAX(no_in_series) FROM table_18335117_5 WHERE no_overall = 38\n",
            "\n",
            "\n"
          ]
        },
        {
          "output_type": "stream",
          "name": "stderr",
          "text": [
            "\r 48%|████▊     | 481/1000 [21:29<24:26,  2.83s/it]"
          ]
        },
        {
          "output_type": "stream",
          "name": "stdout",
          "text": [
            "\n",
            "\n",
            "Question: What is the smallest crowd with the away team of North Melbourne?\n",
            "\n",
            "Real Answer: SELECT MIN(crowd) FROM table_name_61 WHERE away_team = \"north melbourne\"\n",
            "Generated Answer: SELECT MIN(crowd) FROM table_name_61 WHERE away_team = \"north melbourne\"\n",
            "\n",
            "\n",
            "Similarity Score: 0.9999999\n",
            "Feedback: ('approve', 'SELECT MIN(crowd) FROM table_name_61 WHERE away_team = \"north melbourne\"')\n",
            "\n",
            "\n",
            "Success!\n",
            "Success Answer: SELECT MIN(crowd) FROM table_name_61 WHERE away_team = \"north melbourne\"\n",
            "\n",
            "\n"
          ]
        },
        {
          "output_type": "stream",
          "name": "stderr",
          "text": [
            "\r 48%|████▊     | 482/1000 [21:32<24:52,  2.88s/it]"
          ]
        },
        {
          "output_type": "stream",
          "name": "stdout",
          "text": [
            "\n",
            "\n",
            "Question: How many events have a time of 1:48.322?\n",
            "\n",
            "Real Answer: SELECT event FROM table_16308030_1 WHERE time = \"1:48.322\"\n",
            "Generated Answer: SELECT COUNT(event) FROM table_16308030_1 WHERE time = \"1:48.322\"\n",
            "\n",
            "\n",
            "Similarity Score: 0.8504545\n",
            "Feedback: ('approve', 'SELECT COUNT(event) FROM table_16308030_1 WHERE time = \"1:48.322\"')\n",
            "\n",
            "\n",
            "Real Answer: SELECT event FROM table_16308030_1 WHERE time = \"1:48.322\"\n",
            "Failed Answer: SELECT COUNT(event) FROM table_16308030_1 WHERE time = \"1:48.322\"\n",
            "\n",
            "\n"
          ]
        },
        {
          "output_type": "stream",
          "name": "stderr",
          "text": [
            "\r 48%|████▊     | 483/1000 [21:33<21:31,  2.50s/it]"
          ]
        },
        {
          "output_type": "stream",
          "name": "stdout",
          "text": [
            "\n",
            "\n",
            "Question: WHich province has an IATA of WNZ?\n",
            "\n",
            "Real Answer: SELECT province FROM table_name_7 WHERE iata = \"wnz\"\n",
            "Generated Answer: SELECT province FROM table_name_7 WHERE iata = \"wnz\"\n",
            "\n",
            "\n",
            "Similarity Score: 1.0000001\n",
            "Feedback: ('approve', 'SELECT province FROM table_name_7 WHERE iata = \"wnz\"')\n",
            "\n",
            "\n",
            "Success!\n",
            "Success Answer: SELECT province FROM table_name_7 WHERE iata = \"wnz\"\n",
            "\n",
            "\n"
          ]
        },
        {
          "output_type": "stream",
          "name": "stderr",
          "text": [
            "\r 48%|████▊     | 484/1000 [21:35<20:01,  2.33s/it]"
          ]
        },
        {
          "output_type": "stream",
          "name": "stdout",
          "text": [
            "\n",
            "\n",
            "Question: On average, how many wins have a rank lower than 1?\n",
            "\n",
            "Real Answer: SELECT AVG(wins) FROM table_name_14 WHERE rank < 1\n",
            "Generated Answer: SELECT AVG(wins) FROM table_name_14 WHERE rank < 1\n",
            "\n",
            "\n",
            "Similarity Score: 0.9999999\n",
            "Feedback: ('approve', 'SELECT AVG(wins) FROM table_name_14 WHERE rank < 1')\n",
            "\n",
            "\n",
            "Success!\n",
            "Success Answer: SELECT AVG(wins) FROM table_name_14 WHERE rank < 1\n",
            "\n",
            "\n"
          ]
        },
        {
          "output_type": "stream",
          "name": "stderr",
          "text": [
            "\r 48%|████▊     | 485/1000 [21:37<18:46,  2.19s/it]"
          ]
        },
        {
          "output_type": "stream",
          "name": "stdout",
          "text": [
            "\n",
            "\n",
            "Question: What is the party of the california 35 district?\n",
            "\n",
            "Real Answer: SELECT party FROM table_name_4 WHERE district = \"california 35\"\n",
            "Generated Answer: SELECT party FROM table_name_4 WHERE district = \"california 35\"\n",
            "\n",
            "\n",
            "Similarity Score: 1.0000001\n",
            "Feedback: ('approve', 'SELECT party FROM table_name_4 WHERE district = \"california 35\"')\n",
            "\n",
            "\n",
            "Success!\n",
            "Success Answer: SELECT party FROM table_name_4 WHERE district = \"california 35\"\n",
            "\n",
            "\n"
          ]
        },
        {
          "output_type": "stream",
          "name": "stderr",
          "text": [
            "\r 49%|████▊     | 486/1000 [21:39<17:28,  2.04s/it]"
          ]
        },
        {
          "output_type": "stream",
          "name": "stdout",
          "text": [
            "\n",
            "\n",
            "Question: Which method has the record of 11-1?\n",
            "\n",
            "Real Answer: SELECT method FROM table_name_4 WHERE record = \"11-1\"\n",
            "Generated Answer: SELECT method FROM table_name_4 WHERE record = \"11-1\"\n",
            "\n",
            "\n",
            "Similarity Score: 1.0000001\n",
            "Feedback: ('approve', 'SELECT method FROM table_name_4 WHERE record = \"11-1\"')\n",
            "\n",
            "\n",
            "Success!\n",
            "Success Answer: SELECT method FROM table_name_4 WHERE record = \"11-1\"\n",
            "\n",
            "\n"
          ]
        },
        {
          "output_type": "stream",
          "name": "stderr",
          "text": [
            "\r 49%|████▊     | 487/1000 [21:41<17:52,  2.09s/it]"
          ]
        },
        {
          "output_type": "stream",
          "name": "stdout",
          "text": [
            "\n",
            "\n",
            "Question: What is the french word for fribourg?\n",
            "\n",
            "Real Answer: SELECT french FROM table_name_72 WHERE common_english = \"fribourg\"\n",
            "Generated Answer: SELECT french FROM table_name_72 WHERE common_english = \"fribourg\"\n",
            "\n",
            "\n",
            "Similarity Score: 0.9999998\n",
            "Feedback: ('approve', 'SELECT french FROM table_name_72 WHERE common_english = \"fribourg\"')\n",
            "\n",
            "\n",
            "Success!\n",
            "Success Answer: SELECT french FROM table_name_72 WHERE common_english = \"fribourg\"\n",
            "\n",
            "\n"
          ]
        },
        {
          "output_type": "stream",
          "name": "stderr",
          "text": [
            "\r 49%|████▉     | 488/1000 [21:43<17:32,  2.06s/it]"
          ]
        },
        {
          "output_type": "stream",
          "name": "stdout",
          "text": [
            "\n",
            "\n",
            "Question: What is the largest goal ratio with Goals smaller than 0?\n",
            "\n",
            "Real Answer: SELECT MAX(goal_ratio) FROM table_name_73 WHERE goals < 0\n",
            "Generated Answer: SELECT MAX(goal_ratio) FROM table_name_73 WHERE goals < 0\n",
            "\n",
            "\n",
            "Similarity Score: 1.0\n",
            "Feedback: ('approve', 'SELECT MAX(goal_ratio) FROM table_name_73 WHERE goals < 0')\n",
            "\n",
            "\n",
            "Success!\n",
            "Success Answer: SELECT MAX(goal_ratio) FROM table_name_73 WHERE goals < 0\n",
            "\n",
            "\n"
          ]
        },
        {
          "output_type": "stream",
          "name": "stderr",
          "text": [
            "\r 49%|████▉     | 489/1000 [21:47<23:17,  2.73s/it]"
          ]
        },
        {
          "output_type": "stream",
          "name": "stdout",
          "text": [
            "\n",
            "\n",
            "Question: Show the record companies shared by orchestras founded before 2003 and after 2003.\n",
            "\n",
            "Real Answer: SELECT Record_Company FROM orchestra WHERE Year_of_Founded < 2003 INTERSECT SELECT Record_Company FROM orchestra WHERE Year_of_Founded > 2003\n",
            "Generated Answer: SELECT Record_Company FROM orchestra WHERE Year_of_founded < 2003 INTERSECT SELECT Record_Company FROM orchestra WHERE Year_of_founded > 2003\n",
            "\n",
            "\n",
            "Similarity Score: 0.9999999\n",
            "Feedback: ('approve', 'SELECT Record_Company FROM orchestra WHERE Year_of_founded < 2003 INTERSECT SELECT Record_Company FROM orchestra WHERE Year_of_founded > 2003')\n",
            "\n",
            "\n",
            "Real Answer: SELECT Record_Company FROM orchestra WHERE Year_of_Founded < 2003 INTERSECT SELECT Record_Company FROM orchestra WHERE Year_of_Founded > 2003\n",
            "Failed Answer: SELECT Record_Company FROM orchestra WHERE Year_of_founded < 2003 INTERSECT SELECT Record_Company FROM orchestra WHERE Year_of_founded > 2003\n",
            "\n",
            "\n"
          ]
        },
        {
          "output_type": "stream",
          "name": "stderr",
          "text": [
            "\r 49%|████▉     | 490/1000 [21:49<20:56,  2.46s/it]"
          ]
        },
        {
          "output_type": "stream",
          "name": "stdout",
          "text": [
            "\n",
            "\n",
            "Question: How many goals have a Result of 12 – 0?\n",
            "\n",
            "Real Answer: SELECT goals FROM table_name_33 WHERE result = \"12 – 0\"\n",
            "Generated Answer: SELECT goals FROM table_name_33 WHERE result = \"12 – 0\"\n",
            "\n",
            "\n",
            "Similarity Score: 0.9999999\n",
            "Feedback: ('approve', 'SELECT goals FROM table_name_33 WHERE result = \"12 – 0\"')\n",
            "\n",
            "\n",
            "Success!\n",
            "Success Answer: SELECT goals FROM table_name_33 WHERE result = \"12 – 0\"\n",
            "\n",
            "\n"
          ]
        },
        {
          "output_type": "stream",
          "name": "stderr",
          "text": [
            "\r 49%|████▉     | 491/1000 [21:52<21:37,  2.55s/it]"
          ]
        },
        {
          "output_type": "stream",
          "name": "stdout",
          "text": [
            "\n",
            "\n",
            "Question: Who is the elevator with the cardinalatial title of Deacon of SS. Sergio e Bacco?\n",
            "\n",
            "Real Answer: SELECT elevator FROM table_name_14 WHERE cardinalatial_title = \"deacon of ss. sergio e bacco\"\n",
            "Generated Answer: SELECT elevator FROM table_name_14 WHERE cardinalatial_title = \"deacon of ss. sergio e bacco\"\n",
            "\n",
            "\n",
            "Similarity Score: 1.0000001\n",
            "Feedback: ('approve', 'SELECT elevator FROM table_name_14 WHERE cardinalatial_title = \"deacon of ss. sergio e bacco\"')\n",
            "\n",
            "\n",
            "Success!\n",
            "Success Answer: SELECT elevator FROM table_name_14 WHERE cardinalatial_title = \"deacon of ss. sergio e bacco\"\n",
            "\n",
            "\n"
          ]
        },
        {
          "output_type": "stream",
          "name": "stderr",
          "text": [
            "\r 49%|████▉     | 492/1000 [21:57<28:21,  3.35s/it]"
          ]
        },
        {
          "output_type": "stream",
          "name": "stdout",
          "text": [
            "\n",
            "\n",
            "Question: What is the Type with a Location with justus lipsius building, brussels, and a Year of 2012, and a President with herman van rompuy (1st term), and a Date with 23 may?\n",
            "\n",
            "Real Answer: SELECT type FROM table_name_59 WHERE location = \"justus lipsius building, brussels\" AND year = 2012 AND president = \"herman van rompuy (1st term)\" AND date = \"23 may\"\n",
            "Generated Answer: SELECT type FROM table_name_59 WHERE location = \"justus lipsius building, brussels\" AND year = 2012 AND president = \"herman van rompuy (1st term)\" AND date = \"23 may\"\n",
            "\n",
            "\n",
            "Similarity Score: 0.99999994\n",
            "Feedback: ('approve', 'SELECT type FROM table_name_59 WHERE location = \"justus lipsius building, brussels\" AND year = 2012 AND president = \"herman van rompuy (1st term)\" AND date = \"23 may\"')\n",
            "\n",
            "\n",
            "Success!\n",
            "Success Answer: SELECT type FROM table_name_59 WHERE location = \"justus lipsius building, brussels\" AND year = 2012 AND president = \"herman van rompuy (1st term)\" AND date = \"23 may\"\n",
            "\n",
            "\n"
          ]
        },
        {
          "output_type": "stream",
          "name": "stderr",
          "text": [
            "\r 49%|████▉     | 493/1000 [21:59<25:06,  2.97s/it]"
          ]
        },
        {
          "output_type": "stream",
          "name": "stdout",
          "text": [
            "\n",
            "\n",
            "Question: What were the lowest points on march 2?\n",
            "\n",
            "Real Answer: SELECT MIN(points) FROM table_name_56 WHERE date = \"march 2\"\n",
            "Generated Answer: SELECT MIN(points) FROM table_name_56 WHERE date = \"march 2\"\n",
            "\n",
            "\n",
            "Similarity Score: 0.99999994\n",
            "Feedback: ('approve', 'SELECT MIN(points) FROM table_name_56 WHERE date = \"march 2\"')\n",
            "\n",
            "\n",
            "Success!\n",
            "Success Answer: SELECT MIN(points) FROM table_name_56 WHERE date = \"march 2\"\n",
            "\n",
            "\n"
          ]
        },
        {
          "output_type": "stream",
          "name": "stderr",
          "text": [
            "\r 49%|████▉     | 494/1000 [22:05<32:53,  3.90s/it]"
          ]
        },
        {
          "output_type": "stream",
          "name": "stdout",
          "text": [
            "\n",
            "\n",
            "Question: Which Hanyu Pinyin has a GDP in 2011 larger than 688.02 billion yuan and a regional population of 8,700,400 in 2010?\n",
            "\n",
            "Real Answer: SELECT hanyu_pinyin FROM table_name_98 WHERE gdp_2011__billion_yuan_ > 688.02 AND regional_population_2010_ = \"8,700,400\"\n",
            "Generated Answer: SELECT hanyu_pinyin FROM table_name_98 WHERE gdp_2011__billion_yuan_ > 688.02 AND regional_population_2010_ = 8 OFFSET 700 OFFSET 400\n",
            "\n",
            "\n",
            "Similarity Score: 0.7982749\n",
            "Feedback: ('correct', 'SELECT hanyu_pinyin FROM table_name_98 WHERE gdp_2011__billion_yuan_ > 688.02 AND regional_population_2010_ = \"8,700,400\"')\n",
            "\n",
            "\n",
            "Real Answer: SELECT hanyu_pinyin FROM table_name_98 WHERE gdp_2011__billion_yuan_ > 688.02 AND regional_population_2010_ = \"8,700,400\"\n",
            "Failed Answer: SELECT hanyu_pinyin FROM table_name_98 WHERE gdp_2011__billion_yuan_ > 688.02 AND regional_population_2010_ = 8 OFFSET 700 OFFSET 400\n",
            "\n",
            "\n"
          ]
        },
        {
          "output_type": "stream",
          "name": "stderr",
          "text": [
            "\r 50%|████▉     | 495/1000 [22:07<27:55,  3.32s/it]"
          ]
        },
        {
          "output_type": "stream",
          "name": "stdout",
          "text": [
            "\n",
            "\n",
            "Question: What is Tie No, when Away Team is \"Millwall\"?\n",
            "\n",
            "Real Answer: SELECT tie_no FROM table_name_71 WHERE away_team = \"millwall\"\n",
            "Generated Answer: SELECT tie_no FROM table_name_71 WHERE away_team = \"millwall\"\n",
            "\n",
            "\n",
            "Similarity Score: 1.0000001\n",
            "Feedback: ('approve', 'SELECT tie_no FROM table_name_71 WHERE away_team = \"millwall\"')\n",
            "\n",
            "\n",
            "Success!\n",
            "Success Answer: SELECT tie_no FROM table_name_71 WHERE away_team = \"millwall\"\n",
            "\n",
            "\n"
          ]
        },
        {
          "output_type": "stream",
          "name": "stderr",
          "text": [
            "\r 50%|████▉     | 496/1000 [22:11<30:01,  3.57s/it]"
          ]
        },
        {
          "output_type": "stream",
          "name": "stdout",
          "text": [
            "\n",
            "\n",
            "Question: Which region (year) has Abigail at number 7, Sophia at number 1 and Aaliyah at number 5?\n",
            "\n",
            "Real Answer: SELECT region__year_ FROM table_name_12 WHERE no_7 = \"abigail\" AND no_1 = \"sophia\" AND no_5 = \"aaliyah\"\n",
            "Generated Answer: SELECT region__year_ FROM table_name_12 WHERE no_7 = \"abigail\" AND no_1 = \"sophia\" AND no_5 = \"aaliyah\"\n",
            "\n",
            "\n",
            "Similarity Score: 1.0\n",
            "Feedback: ('approve', 'SELECT region__year_ FROM table_name_12 WHERE no_7 = \"abigail\" AND no_1 = \"sophia\" AND no_5 = \"aaliyah\"')\n",
            "\n",
            "\n",
            "Success!\n",
            "Success Answer: SELECT region__year_ FROM table_name_12 WHERE no_7 = \"abigail\" AND no_1 = \"sophia\" AND no_5 = \"aaliyah\"\n",
            "\n",
            "\n"
          ]
        },
        {
          "output_type": "stream",
          "name": "stderr",
          "text": [
            "\r 50%|████▉     | 497/1000 [22:14<27:03,  3.23s/it]"
          ]
        },
        {
          "output_type": "stream",
          "name": "stdout",
          "text": [
            "\n",
            "\n",
            "Question: Who wrote episode number 28?\n",
            "\n",
            "Real Answer: SELECT written_by FROM table_26561506_1 WHERE no = 28\n",
            "Generated Answer: SELECT written_by FROM table_26561506_1 WHERE no = 28\n",
            "\n",
            "\n",
            "Similarity Score: 1.0\n",
            "Feedback: ('approve', 'SELECT written_by FROM table_26561506_1 WHERE no = 28')\n",
            "\n",
            "\n",
            "Success!\n",
            "Success Answer: SELECT written_by FROM table_26561506_1 WHERE no = 28\n",
            "\n",
            "\n"
          ]
        },
        {
          "output_type": "stream",
          "name": "stderr",
          "text": [
            "\r 50%|████▉     | 498/1000 [22:18<30:36,  3.66s/it]"
          ]
        },
        {
          "output_type": "stream",
          "name": "stdout",
          "text": [
            "\n",
            "\n",
            "Question: Which Purpose has an Elevation + Height of 0 + metres (ft), a Location of bikini, namu (charlie), and a Yield of 220 kt?\n",
            "\n",
            "Real Answer: SELECT purpose FROM table_name_37 WHERE elevation_ + _height = \"0 + metres (ft)\" AND location = \"bikini, namu (charlie)\" AND yield = \"220 kt\"\n",
            "Generated Answer: SELECT purpose FROM table_name_37 WHERE elevation_ & _height = \"0 + metres (ft)\" AND location = \"bikini, namu (charlie)\" AND yield = \"220 kt\"\n",
            "\n",
            "\n",
            "Similarity Score: 0.9955024\n",
            "Feedback: ('approve', 'SELECT purpose FROM table_name_37 WHERE elevation_ & _height = \"0 + metres (ft)\" AND location = \"bikini, namu (charlie)\" AND yield = \"220 kt\"')\n",
            "\n",
            "\n",
            "Real Answer: SELECT purpose FROM table_name_37 WHERE elevation_ + _height = \"0 + metres (ft)\" AND location = \"bikini, namu (charlie)\" AND yield = \"220 kt\"\n",
            "Failed Answer: SELECT purpose FROM table_name_37 WHERE elevation_ & _height = \"0 + metres (ft)\" AND location = \"bikini, namu (charlie)\" AND yield = \"220 kt\"\n",
            "\n",
            "\n"
          ]
        },
        {
          "output_type": "stream",
          "name": "stderr",
          "text": [
            "\r 50%|████▉     | 499/1000 [22:22<30:33,  3.66s/it]"
          ]
        },
        {
          "output_type": "stream",
          "name": "stdout",
          "text": [
            "\n",
            "\n",
            "Question: How many years were lightweight class on february 28, 2009?\n",
            "\n",
            "Real Answer: SELECT COUNT(year) FROM table_name_87 WHERE weight_class = \"lightweight\" AND date = \"february 28, 2009\"\n",
            "Generated Answer: SELECT COUNT(year) FROM table_name_87 WHERE weight_class = \"lightweight\" AND date = \"february 28, 2009\"\n",
            "\n",
            "\n",
            "Similarity Score: 1.0000002\n",
            "Feedback: ('approve', 'SELECT COUNT(year) FROM table_name_87 WHERE weight_class = \"lightweight\" AND date = \"february 28, 2009\"')\n",
            "\n",
            "\n",
            "Success!\n",
            "Success Answer: SELECT COUNT(year) FROM table_name_87 WHERE weight_class = \"lightweight\" AND date = \"february 28, 2009\"\n",
            "\n",
            "\n"
          ]
        },
        {
          "output_type": "stream",
          "name": "stderr",
          "text": [
            "\r 50%|█████     | 500/1000 [22:25<28:02,  3.36s/it]"
          ]
        },
        {
          "output_type": "stream",
          "name": "stdout",
          "text": [
            "\n",
            "\n",
            "Question: What is the most Champions League assists for those with a total of 6 and position of Midfielder?\n",
            "\n",
            "Real Answer: SELECT MAX(Champions) AS league FROM table_name_48 WHERE total = 6 AND position = \"midfielder\"\n",
            "Generated Answer: SELECT MAX(Champions) FROM table_name_48 WHERE total = 6 AND position = \"midfielder\"\n",
            "\n",
            "\n",
            "Similarity Score: 0.95472103\n",
            "Feedback: ('approve', 'SELECT MAX(Champions) FROM table_name_48 WHERE total = 6 AND position = \"midfielder\"')\n",
            "\n",
            "\n",
            "Real Answer: SELECT MAX(Champions) AS league FROM table_name_48 WHERE total = 6 AND position = \"midfielder\"\n",
            "Failed Answer: SELECT MAX(Champions) FROM table_name_48 WHERE total = 6 AND position = \"midfielder\"\n",
            "\n",
            "\n"
          ]
        },
        {
          "output_type": "stream",
          "name": "stderr",
          "text": [
            "\r 50%|█████     | 501/1000 [22:27<24:17,  2.92s/it]"
          ]
        },
        {
          "output_type": "stream",
          "name": "stdout",
          "text": [
            "\n",
            "\n",
            "Question: What is the Game with a Record of 19-15?\n",
            "\n",
            "Real Answer: SELECT game FROM table_name_71 WHERE record = \"19-15\"\n",
            "Generated Answer: SELECT game FROM table_name_71 WHERE record = \"19-15\"\n",
            "\n",
            "\n",
            "Similarity Score: 0.99999976\n",
            "Feedback: ('approve', 'SELECT game FROM table_name_71 WHERE record = \"19-15\"')\n",
            "\n",
            "\n",
            "Success!\n",
            "Success Answer: SELECT game FROM table_name_71 WHERE record = \"19-15\"\n",
            "\n",
            "\n"
          ]
        },
        {
          "output_type": "stream",
          "name": "stderr",
          "text": [
            "\r 50%|█████     | 502/1000 [22:29<22:12,  2.68s/it]"
          ]
        },
        {
          "output_type": "stream",
          "name": "stdout",
          "text": [
            "\n",
            "\n",
            "Question: What record company did pianist Solomon Cutner record for?\n",
            "\n",
            "Real Answer: SELECT record_company FROM table_name_51 WHERE pianist = \"solomon cutner\"\n",
            "Generated Answer: SELECT record_company FROM table_name_51 WHERE pianist = \"solomon cutner\"\n",
            "\n",
            "\n",
            "Similarity Score: 1.0000002\n",
            "Feedback: ('approve', 'SELECT record_company FROM table_name_51 WHERE pianist = \"solomon cutner\"')\n",
            "\n",
            "\n",
            "Success!\n",
            "Success Answer: SELECT record_company FROM table_name_51 WHERE pianist = \"solomon cutner\"\n",
            "\n",
            "\n"
          ]
        },
        {
          "output_type": "stream",
          "name": "stderr",
          "text": [
            "\r 50%|█████     | 503/1000 [22:31<20:09,  2.43s/it]"
          ]
        },
        {
          "output_type": "stream",
          "name": "stdout",
          "text": [
            "\n",
            "\n",
            "Question: Which School/Club Team has a Pick of 198?\n",
            "\n",
            "Real Answer: SELECT school_club_team FROM table_name_7 WHERE pick = 198\n",
            "Generated Answer: SELECT school_club_team FROM table_name_7 WHERE pick = 198\n",
            "\n",
            "\n",
            "Similarity Score: 1.0\n",
            "Feedback: ('approve', 'SELECT school_club_team FROM table_name_7 WHERE pick = 198')\n",
            "\n",
            "\n",
            "Success!\n",
            "Success Answer: SELECT school_club_team FROM table_name_7 WHERE pick = 198\n",
            "\n",
            "\n"
          ]
        },
        {
          "output_type": "stream",
          "name": "stderr",
          "text": [
            "\r 50%|█████     | 504/1000 [22:32<16:39,  2.01s/it]"
          ]
        },
        {
          "output_type": "stream",
          "name": "stdout",
          "text": [
            "\n",
            "\n",
            "Question: What is the average score of submissions?\n",
            "\n",
            "Real Answer: SELECT AVG(Scores) FROM submission\n",
            "Generated Answer: SELECT AVG(Scores) FROM submission\n",
            "\n",
            "\n",
            "Similarity Score: 1.0000001\n",
            "Feedback: ('approve', 'SELECT AVG(Scores) FROM submission')\n",
            "\n",
            "\n",
            "Success!\n",
            "Success Answer: SELECT AVG(Scores) FROM submission\n",
            "\n",
            "\n"
          ]
        },
        {
          "output_type": "stream",
          "name": "stderr",
          "text": [
            "\r 50%|█████     | 505/1000 [22:35<20:40,  2.51s/it]"
          ]
        },
        {
          "output_type": "stream",
          "name": "stdout",
          "text": [
            "\n",
            "\n",
            "Question: What was the total mintage for years after 2002 that had a 85th Anniversary of Vimy Ridge theme?\n",
            "\n",
            "Real Answer: SELECT COUNT(mintage) FROM table_name_68 WHERE theme = \"85th anniversary of vimy ridge\" AND year > 2002\n",
            "Generated Answer: SELECT COUNT(mintage) FROM table_name_68 WHERE theme = \"85th anniversary of vimy ridge\" AND year > 2002\n",
            "\n",
            "\n",
            "Similarity Score: 1.0\n",
            "Feedback: ('approve', 'SELECT COUNT(mintage) FROM table_name_68 WHERE theme = \"85th anniversary of vimy ridge\" AND year > 2002')\n",
            "\n",
            "\n",
            "Success!\n",
            "Success Answer: SELECT COUNT(mintage) FROM table_name_68 WHERE theme = \"85th anniversary of vimy ridge\" AND year > 2002\n",
            "\n",
            "\n"
          ]
        }
      ]
    },
    {
      "cell_type": "markdown",
      "source": [
        "\n",
        "When evaluated on 1000 samples from the evaluation dataset, our model achieved an impressive accuracy of 82.60%. However, there's room for improvement. We could enhance the model's performance by exploring techniques like few-shot learning, RAG, and Self-healing to generate the SQL query."
      ],
      "metadata": {
        "id": "AuRYHxX9f0zM"
      }
    }
  ]
}