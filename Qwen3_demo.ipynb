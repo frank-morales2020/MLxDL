{
  "nbformat": 4,
  "nbformat_minor": 0,
  "metadata": {
    "colab": {
      "provenance": [],
      "machine_shape": "hm",
      "gpuType": "A100",
      "authorship_tag": "ABX9TyP2Ws6wnNEvph3bNQbbK+0z",
      "include_colab_link": true
    },
    "kernelspec": {
      "name": "python3",
      "display_name": "Python 3"
    },
    "language_info": {
      "name": "python"
    },
    "accelerator": "GPU"
  },
  "cells": [
    {
      "cell_type": "markdown",
      "metadata": {
        "id": "view-in-github",
        "colab_type": "text"
      },
      "source": [
        "<a href=\"https://colab.research.google.com/github/frank-morales2020/MLxDL/blob/main/Qwen3_demo.ipynb\" target=\"_parent\"><img src=\"https://colab.research.google.com/assets/colab-badge.svg\" alt=\"Open In Colab\"/></a>"
      ]
    },
    {
      "cell_type": "code",
      "execution_count": null,
      "metadata": {
        "id": "YvYlB--DHtLY"
      },
      "outputs": [],
      "source": [
        "from transformers import AutoModelForCausalLM, AutoTokenizer\n",
        "import torch\n",
        "\n",
        "model_name = \"Qwen/Qwen3-8B\" # Or any other Qwen3 model like \"Qwen/Qwen3-30B-A3B\"\n",
        "\n",
        "tokenizer = AutoTokenizer.from_pretrained(model_name)\n",
        "model = AutoModelForCausalLM.from_pretrained(\n",
        "    model_name,\n",
        "    torch_dtype=\"auto\", # or torch.bfloat16 for bfloat16 models\n",
        "    device_map=\"auto\"\n",
        ")\n",
        "\n",
        "prompt = \"Explain the concept of quantum entanglement.\"\n",
        "messages = [{\"role\": \"user\", \"content\": prompt}]\n",
        "text = tokenizer.apply_chat_template(messages, tokenize=False, add_generation_prompt=True)"
      ]
    },
    {
      "cell_type": "code",
      "source": [
        "input_ids = tokenizer(text, return_tensors=\"pt\").input_ids.to(model.device)\n",
        "output = model.generate(input_ids, max_new_tokens=512)\n",
        "print(tokenizer.decode(output[0], skip_special_tokens=True))"
      ],
      "metadata": {
        "colab": {
          "base_uri": "https://localhost:8080/"
        },
        "id": "MRvv2TtGKrv4",
        "outputId": "15d19e5c-7ed1-4814-e301-f8b16459ba59"
      },
      "execution_count": 2,
      "outputs": [
        {
          "output_type": "stream",
          "name": "stdout",
          "text": [
            "user\n",
            "Explain the concept of quantum entanglement.\n",
            "assistant\n",
            "<think>\n",
            "Okay, I need to explain quantum entanglement. Let me start by recalling what I know. Entanglement is a phenomenon in quantum mechanics where particles become interconnected, right? But I should make sure I get the details right.\n",
            "\n",
            "First, maybe I should mention that entangled particles are in a superposition of states. So, when you measure one, the other's state is instantly determined, no matter the distance. Wait, but how does that work? Einstein called it \"spooky action at a distance,\" which he didn't like. But I think that's been proven through experiments, like Bell's theorem. \n",
            "\n",
            "I should explain the basics. Let's say you have two particles, like electrons, that are entangled. Their quantum states are linked. If you measure the spin of one, the other's spin is instantly known, even if they're light-years apart. But it's not that information is transmitted faster than light, right? Because the outcome is random, so no actual information is sent. That's important to clarify to avoid misunderstandings.\n",
            "\n",
            "Wait, how do you create entangled particles? Maybe through processes like spontaneous parametric down-conversion, where a photon splits into two entangled photons. Or maybe through other interactions. But maybe that's too detailed. The user might just want a basic explanation.\n",
            "\n",
            "Also, I should mention that entanglement is a key resource for quantum computing and quantum communication. But maybe that's for later. Let me structure this: start with the definition, then how it works, the EPR paradox and Bell's theorem, and then the implications or applications. \n",
            "\n",
            "I need to make sure not to mix up quantum superposition with entanglement. Superposition is when a particle exists in multiple states at once. Entanglement is when two or more particles are correlated in such a way that the state of one affects the other. \n",
            "\n",
            "Wait, maybe use an example. Like, two entangled particles with opposite spins. If one is measured as up, the other is down, regardless of distance. But the measurement outcome is probabilistic. So the correlation is there, but the individual results are random. That's the key point. \n",
            "\n",
            "Also, clarify that it's not about communication, but about the correlation between measurements. So even though the particles are separated, their states are linked. But no information is sent faster than light. That's important because it avoids violating relativity. \n",
            "\n",
            "I should check if there are common misconceptions to address. For example, people might\n"
          ]
        }
      ]
    }
  ]
}