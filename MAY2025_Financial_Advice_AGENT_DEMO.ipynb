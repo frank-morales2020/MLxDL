{
  "nbformat": 4,
  "nbformat_minor": 0,
  "metadata": {
    "colab": {
      "provenance": [],
      "machine_shape": "hm",
      "gpuType": "L4",
      "authorship_tag": "ABX9TyNTZouUmuw6uh35YxUjRuG/",
      "include_colab_link": true
    },
    "kernelspec": {
      "name": "python3",
      "display_name": "Python 3"
    },
    "language_info": {
      "name": "python"
    },
    "accelerator": "GPU"
  },
  "cells": [
    {
      "cell_type": "markdown",
      "metadata": {
        "id": "view-in-github",
        "colab_type": "text"
      },
      "source": [
        "<a href=\"https://colab.research.google.com/github/frank-morales2020/MLxDL/blob/main/MAY2025_Financial_Advice_AGENT_DEMO.ipynb\" target=\"_parent\"><img src=\"https://colab.research.google.com/assets/colab-badge.svg\" alt=\"Open In Colab\"/></a>"
      ]
    },
    {
      "cell_type": "markdown",
      "source": [
        "## DEEPSEKR1-7B"
      ],
      "metadata": {
        "id": "juBVf2OHr36L"
      }
    },
    {
      "cell_type": "code",
      "source": [
        "!pip install colab-xterm -q\n",
        "%load_ext colabxterm\n",
        "!pip install -U langchain langchain-ollama -q\n",
        "!pip install langchain -q\n",
        "!pip install langchain_community -q"
      ],
      "metadata": {
        "id": "-jamVcM1rx7I"
      },
      "execution_count": null,
      "outputs": []
    },
    {
      "cell_type": "code",
      "source": [
        "# %xterm\n",
        "# curl -fsSL https://ollama.com/install.sh | sh\n",
        "# ollama serve &"
      ],
      "metadata": {
        "id": "yXrADU_9sBOB"
      },
      "execution_count": null,
      "outputs": []
    },
    {
      "cell_type": "code",
      "source": [
        "%xterm"
      ],
      "metadata": {
        "id": "Xc8BlAmdsFIR"
      },
      "execution_count": null,
      "outputs": []
    },
    {
      "cell_type": "code",
      "source": [
        "!ollama pull deepseek-r1:7b"
      ],
      "metadata": {
        "id": "omkZO2EQsIvP",
        "colab": {
          "base_uri": "https://localhost:8080/"
        },
        "outputId": "1508789b-0ea5-4abf-cfd2-9ccd45ff7c93"
      },
      "execution_count": 3,
      "outputs": [
        {
          "output_type": "stream",
          "name": "stdout",
          "text": [
            "\u001b[?2026h\u001b[?25l\u001b[1G\u001b[?25h\u001b[?2026l\u001b[?2026h\u001b[?25l\u001b[1G\u001b[?25h\u001b[?2026l\u001b[?2026h\u001b[?25l\u001b[1G\u001b[?25h\u001b[?2026l\u001b[?2026h\u001b[?25l\u001b[1G\u001b[?25h\u001b[?2026l\u001b[?2026h\u001b[?25l\u001b[1G\u001b[?25h\u001b[?2026l\u001b[?2026h\u001b[?25l\u001b[1G\u001b[?25h\u001b[?2026l\u001b[?2026h\u001b[?25l\u001b[1G\u001b[?25h\u001b[?2026l\u001b[?2026h\u001b[?25l\u001b[1G\u001b[?25h\u001b[?2026l\u001b[?2026h\u001b[?25l\u001b[1G\u001b[?25h\u001b[?2026l\u001b[?2026h\u001b[?25l\u001b[1G\u001b[?25h\u001b[?2026l\u001b[?2026h\u001b[?25l\u001b[1G\u001b[?25h\u001b[?2026l\u001b[?2026h\u001b[?25l\u001b[A\u001b[1G\u001b[?25h\u001b[?2026l\u001b[?2026h\u001b[?25l\u001b[A\u001b[1G\u001b[?25h\u001b[?2026l\u001b[?2026h\u001b[?25l\u001b[A\u001b[1G\u001b[?25h\u001b[?2026l\u001b[?2026h\u001b[?25l\u001b[A\u001b[1G\u001b[?25h\u001b[?2026l\u001b[?2026h\u001b[?25l\u001b[A\u001b[1G\u001b[?25h\u001b[?2026l\u001b[?2026h\u001b[?25l\u001b[A\u001b[1G\u001b[?25h\u001b[?2026l\u001b[?2026h\u001b[?25l\u001b[A\u001b[1G\u001b[?25h\u001b[?2026l\u001b[?2026h\u001b[?25l\u001b[A\u001b[1G\u001b[?25h\u001b[?2026l\u001b[?2026h\u001b[?25l\u001b[A\u001b[1G\u001b[?25h\u001b[?2026l\u001b[?2026h\u001b[?25l\u001b[A\u001b[1G\u001b[?25h\u001b[?2026l\u001b[?2026h\u001b[?25l\u001b[A\u001b[1G\u001b[?25h\u001b[?2026l\u001b[?2026h\u001b[?25l\u001b[A\u001b[1G\u001b[?25h\u001b[?2026l\u001b[?2026h\u001b[?25l\u001b[A\u001b[1G\u001b[?25h\u001b[?2026l\u001b[?2026h\u001b[?25l\u001b[A\u001b[1G\u001b[?25h\u001b[?2026l\u001b[?2026h\u001b[?25l\u001b[A\u001b[1G\u001b[?25h\u001b[?2026l\u001b[?2026h\u001b[?25l\u001b[A\u001b[1G\u001b[?25h\u001b[?2026l\u001b[?2026h\u001b[?25l\u001b[A\u001b[1G\u001b[?25h\u001b[?2026l\u001b[?2026h\u001b[?25l\u001b[A\u001b[1G\u001b[?25h\u001b[?2026l\u001b[?2026h\u001b[?25l\u001b[A\u001b[1G\u001b[?25h\u001b[?2026l\u001b[?2026h\u001b[?25l\u001b[A\u001b[1G\u001b[?25h\u001b[?2026l\u001b[?2026h\u001b[?25l\u001b[A\u001b[1G\u001b[?25h\u001b[?2026l\u001b[?2026h\u001b[?25l\u001b[A\u001b[1G\u001b[?25h\u001b[?2026l\u001b[?2026h\u001b[?25l\u001b[A\u001b[1G\u001b[?25h\u001b[?2026l\u001b[?2026h\u001b[?25l\u001b[A\u001b[1G\u001b[?25h\u001b[?2026l\u001b[?2026h\u001b[?25l\u001b[A\u001b[1G\u001b[?25h\u001b[?2026l\u001b[?2026h\u001b[?25l\u001b[A\u001b[1G\u001b[?25h\u001b[?2026l\u001b[?2026h\u001b[?25l\u001b[A\u001b[1G\u001b[?25h\u001b[?2026l\u001b[?2026h\u001b[?25l\u001b[A\u001b[1G\u001b[?25h\u001b[?2026l\u001b[?2026h\u001b[?25l\u001b[A\u001b[1G\u001b[?25h\u001b[?2026l\u001b[?2026h\u001b[?25l\u001b[A\u001b[1G\u001b[?25h\u001b[?2026l\u001b[?2026h\u001b[?25l\u001b[A\u001b[1G\u001b[?25h\u001b[?2026l\u001b[?2026h\u001b[?25l\u001b[A\u001b[1G\u001b[?25h\u001b[?2026l\u001b[?2026h\u001b[?25l\u001b[A\u001b[1G\u001b[?25h\u001b[?2026l\u001b[?2026h\u001b[?25l\u001b[A\u001b[1G\u001b[?25h\u001b[?2026l\u001b[?2026h\u001b[?25l\u001b[A\u001b[1G\u001b[?25h\u001b[?2026l\u001b[?2026h\u001b[?25l\u001b[A\u001b[1G\u001b[?25h\u001b[?2026l\u001b[?2026h\u001b[?25l\u001b[A\u001b[1G\u001b[?25h\u001b[?2026l\u001b[?2026h\u001b[?25l\u001b[A\u001b[1G\u001b[?25h\u001b[?2026l\u001b[?2026h\u001b[?25l\u001b[A\u001b[1G\u001b[?25h\u001b[?2026l\u001b[?2026h\u001b[?25l\u001b[A\u001b[1G\u001b[?25h\u001b[?2026l\u001b[?2026h\u001b[?25l\u001b[A\u001b[1G\u001b[?25h\u001b[?2026l\u001b[?2026h\u001b[?25l\u001b[A\u001b[1G\u001b[?25h\u001b[?2026l\u001b[?2026h\u001b[?25l\u001b[A\u001b[1G\u001b[?25h\u001b[?2026l\u001b[?2026h\u001b[?25l\u001b[A\u001b[1G\u001b[?25h\u001b[?2026l\u001b[?2026h\u001b[?25l\u001b[A\u001b[1G\u001b[?25h\u001b[?2026l\u001b[?2026h\u001b[?25l\u001b[A\u001b[1G\u001b[?25h\u001b[?2026l\u001b[?2026h\u001b[?25l\u001b[A\u001b[1G\u001b[?25h\u001b[?2026l\u001b[?2026h\u001b[?25l\u001b[A\u001b[1G\u001b[?25h\u001b[?2026l\u001b[?2026h\u001b[?25l\u001b[A\u001b[1G\u001b[?25h\u001b[?2026l\u001b[?2026h\u001b[?25l\u001b[A\u001b[1G\u001b[?25h\u001b[?2026l\u001b[?2026h\u001b[?25l\u001b[A\u001b[1G\u001b[?25h\u001b[?2026l\u001b[?2026h\u001b[?25l\u001b[A\u001b[1G\u001b[?25h\u001b[?2026l\u001b[?2026h\u001b[?25l\u001b[A\u001b[1G\u001b[?25h\u001b[?2026l\u001b[?2026h\u001b[?25l\u001b[A\u001b[1G\u001b[?25h\u001b[?2026l\u001b[?2026h\u001b[?25l\u001b[A\u001b[1G\u001b[?25h\u001b[?2026l\u001b[?2026h\u001b[?25l\u001b[A\u001b[1G\u001b[?25h\u001b[?2026l\u001b[?2026h\u001b[?25l\u001b[A\u001b[1G\u001b[?25h\u001b[?2026l\u001b[?2026h\u001b[?25l\u001b[A\u001b[1G\u001b[?25h\u001b[?2026l\u001b[?2026h\u001b[?25l\u001b[A\u001b[1G\u001b[?25h\u001b[?2026l\u001b[?2026h\u001b[?25l\u001b[A\u001b[1G\u001b[?25h\u001b[?2026l\u001b[?2026h\u001b[?25l\u001b[A\u001b[1G\u001b[?25h\u001b[?2026l\u001b[?2026h\u001b[?25l\u001b[A\u001b[1G\u001b[?25h\u001b[?2026l\u001b[?2026h\u001b[?25l\u001b[A\u001b[1G\u001b[?25h\u001b[?2026l\u001b[?2026h\u001b[?25l\u001b[A\u001b[1G\u001b[?25h\u001b[?2026l\u001b[?2026h\u001b[?25l\u001b[A\u001b[1G\u001b[?25h\u001b[?2026l\u001b[?2026h\u001b[?25l\u001b[A\u001b[1G\u001b[?25h\u001b[?2026l\u001b[?2026h\u001b[?25l\u001b[A\u001b[1G\u001b[?25h\u001b[?2026l\u001b[?2026h\u001b[?25l\u001b[A\u001b[1G\u001b[?25h\u001b[?2026l\u001b[?2026h\u001b[?25l\u001b[A\u001b[1G\u001b[?25h\u001b[?2026l\u001b[?2026h\u001b[?25l\u001b[A\u001b[1G\u001b[?25h\u001b[?2026l\u001b[?2026h\u001b[?25l\u001b[A\u001b[1G\u001b[?25h\u001b[?2026l\u001b[?2026h\u001b[?25l\u001b[A\u001b[1G\u001b[?25h\u001b[?2026l\u001b[?2026h\u001b[?25l\u001b[A\u001b[1G\u001b[?25h\u001b[?2026l\u001b[?2026h\u001b[?25l\u001b[A\u001b[1G\u001b[?25h\u001b[?2026l\u001b[?2026h\u001b[?25l\u001b[A\u001b[1G\u001b[?25h\u001b[?2026l\u001b[?2026h\u001b[?25l\u001b[A\u001b[1G\u001b[?25h\u001b[?2026l\u001b[?2026h\u001b[?25l\u001b[A\u001b[1G\u001b[?25h\u001b[?2026l\u001b[?2026h\u001b[?25l\u001b[A\u001b[1G\u001b[?25h\u001b[?2026l\u001b[?2026h\u001b[?25l\u001b[A\u001b[1G\u001b[?25h\u001b[?2026l\u001b[?2026h\u001b[?25l\u001b[A\u001b[1G\u001b[?25h\u001b[?2026l\u001b[?2026h\u001b[?25l\u001b[A\u001b[1G\u001b[?25h\u001b[?2026l\u001b[?2026h\u001b[?25l\u001b[A\u001b[1G\u001b[?25h\u001b[?2026l\u001b[?2026h\u001b[?25l\u001b[A\u001b[1G\u001b[?25h\u001b[?2026l\u001b[?2026h\u001b[?25l\u001b[A\u001b[1G\u001b[?25h\u001b[?2026l\u001b[?2026h\u001b[?25l\u001b[A\u001b[1G\u001b[?25h\u001b[?2026l\u001b[?2026h\u001b[?25l\u001b[A\u001b[1G\u001b[?25h\u001b[?2026l\u001b[?2026h\u001b[?25l\u001b[A\u001b[1G\u001b[?25h\u001b[?2026l\u001b[?2026h\u001b[?25l\u001b[A\u001b[1G\u001b[?25h\u001b[?2026l\u001b[?2026h\u001b[?25l\u001b[A\u001b[1G\u001b[?25h\u001b[?2026l\u001b[?2026h\u001b[?25l\u001b[A\u001b[1G\u001b[?25h\u001b[?2026l\u001b[?2026h\u001b[?25l\u001b[A\u001b[1G\u001b[?25h\u001b[?2026l\u001b[?2026h\u001b[?25l\u001b[A\u001b[1G\u001b[?25h\u001b[?2026l\u001b[?2026h\u001b[?25l\u001b[A\u001b[1G\u001b[?25h\u001b[?2026l\u001b[?2026h\u001b[?25l\u001b[A\u001b[1G\u001b[?25h\u001b[?2026l\u001b[?2026h\u001b[?25l\u001b[A\u001b[1G\u001b[?25h\u001b[?2026l\u001b[?2026h\u001b[?25l\u001b[A\u001b[1G\u001b[?25h\u001b[?2026l\u001b[?2026h\u001b[?25l\u001b[A\u001b[1G\u001b[?25h\u001b[?2026l\u001b[?2026h\u001b[?25l\u001b[A\u001b[1G\u001b[?25h\u001b[?2026l\u001b[?2026h\u001b[?25l\u001b[A\u001b[1G\u001b[?25h\u001b[?2026l\u001b[?2026h\u001b[?25l\u001b[A\u001b[1G\u001b[?25h\u001b[?2026l\u001b[?2026h\u001b[?25l\u001b[A\u001b[1G\u001b[?25h\u001b[?2026l\u001b[?2026h\u001b[?25l\u001b[A\u001b[1G\u001b[?25h\u001b[?2026l\u001b[?2026h\u001b[?25l\u001b[A\u001b[1G\u001b[?25h\u001b[?2026l\u001b[?2026h\u001b[?25l\u001b[A\u001b[1G\u001b[?25h\u001b[?2026l\u001b[?2026h\u001b[?25l\u001b[A\u001b[1G\u001b[?25h\u001b[?2026l\u001b[?2026h\u001b[?25l\u001b[A\u001b[1G\u001b[?25h\u001b[?2026l\u001b[?2026h\u001b[?25l\u001b[A\u001b[1G\u001b[?25h\u001b[?2026l\u001b[?2026h\u001b[?25l\u001b[A\u001b[1G\u001b[?25h\u001b[?2026l\u001b[?2026h\u001b[?25l\u001b[A\u001b[1G\u001b[?25h\u001b[?2026l\u001b[?2026h\u001b[?25l\u001b[A\u001b[1G\u001b[?25h\u001b[?2026l\u001b[?2026h\u001b[?25l\u001b[A\u001b[1G\u001b[?25h\u001b[?2026l\u001b[?2026h\u001b[?25l\u001b[A\u001b[1G\u001b[?25h\u001b[?2026l\u001b[?2026h\u001b[?25l\u001b[A\u001b[1G\u001b[?25h\u001b[?2026l\u001b[?2026h\u001b[?25l\u001b[A\u001b[1G\u001b[?25h\u001b[?2026l\u001b[?2026h\u001b[?25l\u001b[A\u001b[1G\u001b[?25h\u001b[?2026l\u001b[?2026h\u001b[?25l\u001b[A\u001b[1G\u001b[?25h\u001b[?2026l\u001b[?2026h\u001b[?25l\u001b[A\u001b[1G\u001b[?25h\u001b[?2026l\u001b[?2026h\u001b[?25l\u001b[A\u001b[1G\u001b[?25h\u001b[?2026l\u001b[?2026h\u001b[?25l\u001b[A\u001b[1G\u001b[?25h\u001b[?2026l\u001b[?2026h\u001b[?25l\u001b[A\u001b[1G\u001b[?25h\u001b[?2026l\u001b[?2026h\u001b[?25l\u001b[A\u001b[1G\u001b[?25h\u001b[?2026l\u001b[?2026h\u001b[?25l\u001b[A\u001b[1G\u001b[?25h\u001b[?2026l\u001b[?2026h\u001b[?25l\u001b[A\u001b[1G\u001b[?25h\u001b[?2026l\u001b[?2026h\u001b[?25l\u001b[A\u001b[1G\u001b[?25h\u001b[?2026l\u001b[?2026h\u001b[?25l\u001b[A\u001b[1G\u001b[?25h\u001b[?2026l\u001b[?2026h\u001b[?25l\u001b[A\u001b[1G\u001b[?25h\u001b[?2026l\u001b[?2026h\u001b[?25l\u001b[A\u001b[1G\u001b[?25h\u001b[?2026l\u001b[?2026h\u001b[?25l\u001b[A\u001b[1G\u001b[?25h\u001b[?2026l\u001b[?2026h\u001b[?25l\u001b[A\u001b[1G\u001b[?25h\u001b[?2026l\u001b[?2026h\u001b[?25l\u001b[A\u001b[1G\u001b[?25h\u001b[?2026l\u001b[?2026h\u001b[?25l\u001b[A\u001b[1G\u001b[?25h\u001b[?2026l\u001b[?2026h\u001b[?25l\u001b[A\u001b[1G\u001b[?25h\u001b[?2026l\u001b[?2026h\u001b[?25l\u001b[A\u001b[1G\u001b[?25h\u001b[?2026l\u001b[?2026h\u001b[?25l\u001b[A\u001b[1G\u001b[?25h\u001b[?2026l\u001b[?2026h\u001b[?25l\u001b[A\u001b[1G\u001b[?25h\u001b[?2026l\u001b[?2026h\u001b[?25l\u001b[A\u001b[1G\u001b[?25h\u001b[?2026l\u001b[?2026h\u001b[?25l\u001b[A\u001b[1G\u001b[?25h\u001b[?2026l\u001b[?2026h\u001b[?25l\u001b[A\u001b[1G\u001b[?25h\u001b[?2026l\u001b[?2026h\u001b[?25l\u001b[A\u001b[1G\u001b[?25h\u001b[?2026l\u001b[?2026h\u001b[?25l\u001b[A\u001b[1G\u001b[?25h\u001b[?2026l\u001b[?2026h\u001b[?25l\u001b[A\u001b[1G\u001b[?25h\u001b[?2026l\u001b[?2026h\u001b[?25l\u001b[A\u001b[1G\u001b[?25h\u001b[?2026l\u001b[?2026h\u001b[?25l\u001b[A\u001b[1G\u001b[?25h\u001b[?2026l\u001b[?2026h\u001b[?25l\u001b[A\u001b[1G\u001b[?25h\u001b[?2026l\u001b[?2026h\u001b[?25l\u001b[A\u001b[1G\u001b[?25h\u001b[?2026l\u001b[?2026h\u001b[?25l\u001b[A\u001b[1G\u001b[?25h\u001b[?2026l\u001b[?2026h\u001b[?25l\u001b[A\u001b[1G\u001b[?25h\u001b[?2026l\u001b[?2026h\u001b[?25l\u001b[A\u001b[1G\u001b[?25h\u001b[?2026l\u001b[?2026h\u001b[?25l\u001b[A\u001b[1G\u001b[?25h\u001b[?2026l\u001b[?2026h\u001b[?25l\u001b[A\u001b[1G\u001b[?25h\u001b[?2026l\u001b[?2026h\u001b[?25l\u001b[A\u001b[1G\u001b[?25h\u001b[?2026l\u001b[?2026h\u001b[?25l\u001b[A\u001b[1G\u001b[?25h\u001b[?2026l\u001b[?2026h\u001b[?25l\u001b[A\u001b[1G\u001b[?25h\u001b[?2026l\u001b[?2026h\u001b[?25l\u001b[A\u001b[1G\u001b[?25h\u001b[?2026l\u001b[?2026h\u001b[?25l\u001b[A\u001b[1G\u001b[?25h\u001b[?2026l\u001b[?2026h\u001b[?25l\u001b[A\u001b[1G\u001b[?25h\u001b[?2026l\u001b[?2026h\u001b[?25l\u001b[A\u001b[1G\u001b[?25h\u001b[?2026l\u001b[?2026h\u001b[?25l\u001b[A\u001b[1G\u001b[?25h\u001b[?2026l\u001b[?2026h\u001b[?25l\u001b[A\u001b[1G\u001b[?25h\u001b[?2026l\u001b[?2026h\u001b[?25l\u001b[A\u001b[1G\u001b[?25h\u001b[?2026l\u001b[?2026h\u001b[?25l\u001b[A\u001b[1G\u001b[?25h\u001b[?2026l\u001b[?2026h\u001b[?25l\u001b[A\u001b[1G\u001b[?25h\u001b[?2026l\u001b[?2026h\u001b[?25l\u001b[A\u001b[1G\u001b[?25h\u001b[?2026l\u001b[?2026h\u001b[?25l\u001b[A\u001b[1G\u001b[?25h\u001b[?2026l\u001b[?2026h\u001b[?25l\u001b[A\u001b[1G\u001b[?25h\u001b[?2026l\u001b[?2026h\u001b[?25l\u001b[A\u001b[1G\u001b[?25h\u001b[?2026l\u001b[?2026h\u001b[?25l\u001b[A\u001b[1G\u001b[?25h\u001b[?2026l\u001b[?2026h\u001b[?25l\u001b[A\u001b[1G\u001b[?25h\u001b[?2026l\u001b[?2026h\u001b[?25l\u001b[A\u001b[1G\u001b[?25h\u001b[?2026l\u001b[?2026h\u001b[?25l\u001b[A\u001b[1G\u001b[?25h\u001b[?2026l\u001b[?2026h\u001b[?25l\u001b[A\u001b[1G\u001b[?25h\u001b[?2026l\u001b[?2026h\u001b[?25l\u001b[A\u001b[1G\u001b[?25h\u001b[?2026l\u001b[?2026h\u001b[?25l\u001b[A\u001b[1G\u001b[?25h\u001b[?2026l\u001b[?2026h\u001b[?25l\u001b[A\u001b[1G\u001b[?25h\u001b[?2026l\u001b[?2026h\u001b[?25l\u001b[A\u001b[1G\u001b[?25h\u001b[?2026l\u001b[?2026h\u001b[?25l\u001b[A\u001b[1G\u001b[?25h\u001b[?2026l\u001b[?2026h\u001b[?25l\u001b[A\u001b[1G\u001b[?25h\u001b[?2026l\u001b[?2026h\u001b[?25l\u001b[A\u001b[1G\u001b[?25h\u001b[?2026l\u001b[?2026h\u001b[?25l\u001b[A\u001b[1G\u001b[?25h\u001b[?2026l\u001b[?2026h\u001b[?25l\u001b[A\u001b[1G\u001b[?25h\u001b[?2026l\u001b[?2026h\u001b[?25l\u001b[A\u001b[1G\u001b[?25h\u001b[?2026l\u001b[?2026h\u001b[?25l\u001b[A\u001b[1G\u001b[?25h\u001b[?2026l\u001b[?2026h\u001b[?25l\u001b[A\u001b[1G\u001b[?25h\u001b[?2026l\u001b[?2026h\u001b[?25l\u001b[A\u001b[1G\u001b[?25h\u001b[?2026l\u001b[?2026h\u001b[?25l\u001b[A\u001b[1G\u001b[?25h\u001b[?2026l\u001b[?2026h\u001b[?25l\u001b[A\u001b[1G\u001b[?25h\u001b[?2026l\u001b[?2026h\u001b[?25l\u001b[A\u001b[1G\u001b[?25h\u001b[?2026l\u001b[?2026h\u001b[?25l\u001b[A\u001b[1G\u001b[?25h\u001b[?2026l\u001b[?2026h\u001b[?25l\u001b[A\u001b[1G\u001b[?25h\u001b[?2026l\u001b[?2026h\u001b[?25l\u001b[A\u001b[1G\u001b[?25h\u001b[?2026l\u001b[?2026h\u001b[?25l\u001b[A\u001b[1G\u001b[?25h\u001b[?2026l\u001b[?2026h\u001b[?25l\u001b[A\u001b[1G\u001b[?25h\u001b[?2026l\u001b[?2026h\u001b[?25l\u001b[A\u001b[1G\u001b[?25h\u001b[?2026l\u001b[?2026h\u001b[?25l\u001b[A\u001b[1G\u001b[?25h\u001b[?2026l\u001b[?2026h\u001b[?25l\u001b[A\u001b[1G\u001b[?25h\u001b[?2026l\u001b[?2026h\u001b[?25l\u001b[A\u001b[1G\u001b[?25h\u001b[?2026l\u001b[?2026h\u001b[?25l\u001b[A\u001b[1G\u001b[?25h\u001b[?2026l\u001b[?2026h\u001b[?25l\u001b[A\u001b[1G\u001b[?25h\u001b[?2026l\u001b[?2026h\u001b[?25l\u001b[A\u001b[1G\u001b[?25h\u001b[?2026l\u001b[?2026h\u001b[?25l\u001b[A\u001b[1G\u001b[?25h\u001b[?2026l\u001b[?2026h\u001b[?25l\u001b[A\u001b[1G\u001b[?25h\u001b[?2026l\u001b[?2026h\u001b[?25l\u001b[A\u001b[1G\u001b[?25h\u001b[?2026l\u001b[?2026h\u001b[?25l\u001b[A\u001b[1G\u001b[?25h\u001b[?2026l\u001b[?2026h\u001b[?25l\u001b[A\u001b[1G\u001b[?25h\u001b[?2026l\u001b[?2026h\u001b[?25l\u001b[A\u001b[1G\u001b[?25h\u001b[?2026l\u001b[?2026h\u001b[?25l\u001b[A\u001b[1G\u001b[?25h\u001b[?2026l\u001b[?2026h\u001b[?25l\u001b[A\u001b[1G\u001b[?25h\u001b[?2026l\u001b[?2026h\u001b[?25l\u001b[A\u001b[1G\u001b[?25h\u001b[?2026l\u001b[?2026h\u001b[?25l\u001b[A\u001b[1G\u001b[?25h\u001b[?2026l\u001b[?2026h\u001b[?25l\u001b[A\u001b[1G\u001b[?25h\u001b[?2026l\u001b[?2026h\u001b[?25l\u001b[A\u001b[1G\u001b[?25h\u001b[?2026l\u001b[?2026h\u001b[?25l\u001b[A\u001b[1G\u001b[?25h\u001b[?2026l\u001b[?2026h\u001b[?25l\u001b[A\u001b[1G\u001b[?25h\u001b[?2026l\u001b[?2026h\u001b[?25l\u001b[A\u001b[1G\u001b[?25h\u001b[?2026l\u001b[?2026h\u001b[?25l\u001b[A\u001b[1G\u001b[?25h\u001b[?2026l\u001b[?2026h\u001b[?25l\u001b[A\u001b[1G\u001b[?25h\u001b[?2026l\u001b[?2026h\u001b[?25l\u001b[A\u001b[1G\u001b[?25h\u001b[?2026l\u001b[?2026h\u001b[?25l\u001b[A\u001b[1G\u001b[?25h\u001b[?2026l\u001b[?2026h\u001b[?25l\u001b[A\u001b[1G\u001b[?25h\u001b[?2026l\u001b[?2026h\u001b[?25l\u001b[A\u001b[1G\u001b[?25h\u001b[?2026l\u001b[?2026h\u001b[?25l\u001b[A\u001b[1G\u001b[?25h\u001b[?2026l\u001b[?2026h\u001b[?25l\u001b[A\u001b[1G\u001b[?25h\u001b[?2026l\u001b[?2026h\u001b[?25l\u001b[A\u001b[1G\u001b[?25h\u001b[?2026l\u001b[?2026h\u001b[?25l\u001b[A\u001b[1G\u001b[?25h\u001b[?2026l\u001b[?2026h\u001b[?25l\u001b[A\u001b[1G\u001b[?25h\u001b[?2026l\u001b[?2026h\u001b[?25l\u001b[A\u001b[1G\u001b[?25h\u001b[?2026l\u001b[?2026h\u001b[?25l\u001b[A\u001b[1G\u001b[?25h\u001b[?2026l\u001b[?2026h\u001b[?25l\u001b[A\u001b[1G\u001b[?25h\u001b[?2026l\u001b[?2026h\u001b[?25l\u001b[A\u001b[1G\u001b[?25h\u001b[?2026l\u001b[?2026h\u001b[?25l\u001b[A\u001b[1G\u001b[?25h\u001b[?2026l\u001b[?2026h\u001b[?25l\u001b[A\u001b[1G\u001b[?25h\u001b[?2026l\u001b[?2026h\u001b[?25l\u001b[A\u001b[1G\u001b[?25h\u001b[?2026l\u001b[?2026h\u001b[?25l\u001b[A\u001b[1G\u001b[?25h\u001b[?2026l\u001b[?2026h\u001b[?25l\u001b[A\u001b[1G\u001b[?25h\u001b[?2026l\u001b[?2026h\u001b[?25l\u001b[A\u001b[1G\u001b[?25h\u001b[?2026l\u001b[?2026h\u001b[?25l\u001b[A\u001b[1G\u001b[?25h\u001b[?2026l\u001b[?2026h\u001b[?25l\u001b[A\u001b[1G\u001b[?25h\u001b[?2026l\u001b[?2026h\u001b[?25l\u001b[A\u001b[1G\u001b[?25h\u001b[?2026l\u001b[?2026h\u001b[?25l\u001b[A\u001b[1G\u001b[?25h\u001b[?2026l\u001b[?2026h\u001b[?25l\u001b[A\u001b[1G\u001b[?25h\u001b[?2026l\u001b[?2026h\u001b[?25l\u001b[A\u001b[1G\u001b[?25h\u001b[?2026l\u001b[?2026h\u001b[?25l\u001b[A\u001b[1G\u001b[?25h\u001b[?2026l\u001b[?2026h\u001b[?25l\u001b[A\u001b[1G\u001b[?25h\u001b[?2026l\u001b[?2026h\u001b[?25l\u001b[A\u001b[1G\u001b[?25h\u001b[?2026l\u001b[?2026h\u001b[?25l\u001b[A\u001b[1G\u001b[?25h\u001b[?2026l\u001b[?2026h\u001b[?25l\u001b[A\u001b[1G\u001b[?25h\u001b[?2026l\u001b[?2026h\u001b[?25l\u001b[A\u001b[1G\u001b[?25h\u001b[?2026l\u001b[?2026h\u001b[?25l\u001b[A\u001b[1G\u001b[?25h\u001b[?2026l\u001b[?2026h\u001b[?25l\u001b[A\u001b[1G\u001b[?25h\u001b[?2026l\u001b[?2026h\u001b[?25l\u001b[A\u001b[1G\u001b[?25h\u001b[?2026l\u001b[?2026h\u001b[?25l\u001b[A\u001b[1G\u001b[?25h\u001b[?2026l\u001b[?2026h\u001b[?25l\u001b[A\u001b[1G\u001b[?25h\u001b[?2026l\u001b[?2026h\u001b[?25l\u001b[A\u001b[1G\u001b[?25h\u001b[?2026l\u001b[?2026h\u001b[?25l\u001b[A\u001b[1G\u001b[?25h\u001b[?2026l\u001b[?2026h\u001b[?25l\u001b[A\u001b[1G\u001b[?25h\u001b[?2026l\u001b[?2026h\u001b[?25l\u001b[A\u001b[1G\u001b[?25h\u001b[?2026l\u001b[?2026h\u001b[?25l\u001b[A\u001b[1G\u001b[?25h\u001b[?2026l\u001b[?2026h\u001b[?25l\u001b[A\u001b[1G\u001b[?25h\u001b[?2026l\u001b[?2026h\u001b[?25l\u001b[A\u001b[1G\u001b[?25h\u001b[?2026l\u001b[?2026h\u001b[?25l\u001b[A\u001b[1G\u001b[?25h\u001b[?2026l\u001b[?2026h\u001b[?25l\u001b[A\u001b[1G\u001b[?25h\u001b[?2026l\u001b[?2026h\u001b[?25l\u001b[A\u001b[1G\u001b[?25h\u001b[?2026l\u001b[?2026h\u001b[?25l\u001b[A\u001b[1G\u001b[?25h\u001b[?2026l\u001b[?2026h\u001b[?25l\u001b[A\u001b[1G\u001b[?25h\u001b[?2026l\u001b[?2026h\u001b[?25l\u001b[A\u001b[1G\u001b[?25h\u001b[?2026l\u001b[?2026h\u001b[?25l\u001b[A\u001b[1G\u001b[?25h\u001b[?2026l\u001b[?2026h\u001b[?25l\u001b[A\u001b[1G\u001b[?25h\u001b[?2026l\u001b[?2026h\u001b[?25l\u001b[A\u001b[1G\u001b[?25h\u001b[?2026l\u001b[?2026h\u001b[?25l\u001b[A\u001b[1G\u001b[?25h\u001b[?2026l\u001b[?2026h\u001b[?25l\u001b[A\u001b[1G\u001b[?25h\u001b[?2026l\u001b[?2026h\u001b[?25l\u001b[A\u001b[1G\u001b[?25h\u001b[?2026l\u001b[?2026h\u001b[?25l\u001b[A\u001b[1G\u001b[?25h\u001b[?2026l\u001b[?2026h\u001b[?25l\u001b[A\u001b[1G\u001b[?25h\u001b[?2026l\u001b[?2026h\u001b[?25l\u001b[A\u001b[1G\u001b[?25h\u001b[?2026l\u001b[?2026h\u001b[?25l\u001b[A\u001b[A\u001b[1G\u001b[?25h\u001b[?2026l\u001b[?2026h\u001b[?25l\u001b[A\u001b[A\u001b[1G\u001b[?25h\u001b[?2026l\u001b[?2026h\u001b[?25l\u001b[A\u001b[A\u001b[1G\u001b[?25h\u001b[?2026l\u001b[?2026h\u001b[?25l\u001b[A\u001b[A\u001b[1G\u001b[?25h\u001b[?2026l\u001b[?2026h\u001b[?25l\u001b[A\u001b[A\u001b[1G\u001b[?25h\u001b[?2026l\u001b[?2026h\u001b[?25l\u001b[A\u001b[A\u001b[1G\u001b[?25h\u001b[?2026l\u001b[?2026h\u001b[?25l\u001b[A\u001b[A\u001b[1G\u001b[?25h\u001b[?2026l\u001b[?2026h\u001b[?25l\u001b[A\u001b[A\u001b[1G\u001b[?25h\u001b[?2026l\u001b[?2026h\u001b[?25l\u001b[A\u001b[A\u001b[1G\u001b[?25h\u001b[?2026l\u001b[?2026h\u001b[?25l\u001b[A\u001b[A\u001b[1G\u001b[?25h\u001b[?2026l\u001b[?2026h\u001b[?25l\u001b[A\u001b[A\u001b[1G\u001b[?25h\u001b[?2026l\u001b[?2026h\u001b[?25l\u001b[A\u001b[A\u001b[1G\u001b[?25h\u001b[?2026l\u001b[?2026h\u001b[?25l\u001b[A\u001b[A\u001b[1G\u001b[?25h\u001b[?2026l\u001b[?2026h\u001b[?25l\u001b[A\u001b[A\u001b[A\u001b[1G\u001b[?25h\u001b[?2026l\u001b[?2026h\u001b[?25l\u001b[A\u001b[A\u001b[A\u001b[1G\u001b[?25h\u001b[?2026l\u001b[?2026h\u001b[?25l\u001b[A\u001b[A\u001b[A\u001b[1G\u001b[?25h\u001b[?2026l\u001b[?2026h\u001b[?25l\u001b[A\u001b[A\u001b[A\u001b[1G\u001b[?25h\u001b[?2026l\u001b[?2026h\u001b[?25l\u001b[A\u001b[A\u001b[A\u001b[1G\u001b[?25h\u001b[?2026l\u001b[?2026h\u001b[?25l\u001b[A\u001b[A\u001b[A\u001b[1G\u001b[?25h\u001b[?2026l\u001b[?2026h\u001b[?25l\u001b[A\u001b[A\u001b[A\u001b[1G\u001b[?25h\u001b[?2026l\u001b[?2026h\u001b[?25l\u001b[A\u001b[A\u001b[A\u001b[1G\u001b[?25h\u001b[?2026l\u001b[?2026h\u001b[?25l\u001b[A\u001b[A\u001b[A\u001b[1G\u001b[?25h\u001b[?2026l\u001b[?2026h\u001b[?25l\u001b[A\u001b[A\u001b[A\u001b[1G\u001b[?25h\u001b[?2026l\u001b[?2026h\u001b[?25l\u001b[A\u001b[A\u001b[A\u001b[1G\u001b[?25h\u001b[?2026l\u001b[?2026h\u001b[?25l\u001b[A\u001b[A\u001b[A\u001b[1G\u001b[?25h\u001b[?2026l\u001b[?2026h\u001b[?25l\u001b[A\u001b[A\u001b[A\u001b[A\u001b[1G\u001b[?25h\u001b[?2026l\u001b[?2026h\u001b[?25l\u001b[A\u001b[A\u001b[A\u001b[A\u001b[1G\u001b[?25h\u001b[?2026l\u001b[?2026h\u001b[?25l\u001b[A\u001b[A\u001b[A\u001b[A\u001b[1G\u001b[?25h\u001b[?2026l\u001b[?2026h\u001b[?25l\u001b[A\u001b[A\u001b[A\u001b[A\u001b[1G\u001b[?25h\u001b[?2026l\u001b[?2026h\u001b[?25l\u001b[A\u001b[A\u001b[A\u001b[A\u001b[1G\u001b[?25h\u001b[?2026l\u001b[?2026h\u001b[?25l\u001b[A\u001b[A\u001b[A\u001b[A\u001b[1G\u001b[?25h\u001b[?2026l\u001b[?2026h\u001b[?25l\u001b[A\u001b[A\u001b[A\u001b[A\u001b[1G\u001b[?25h\u001b[?2026l\u001b[?2026h\u001b[?25l\u001b[A\u001b[A\u001b[A\u001b[A\u001b[1G\u001b[?25h\u001b[?2026l\u001b[?2026h\u001b[?25l\u001b[A\u001b[A\u001b[A\u001b[A\u001b[1G\u001b[?25h\u001b[?2026l\u001b[?2026h\u001b[?25l\u001b[A\u001b[A\u001b[A\u001b[A\u001b[1G\u001b[?25h\u001b[?2026l\u001b[?2026h\u001b[?25l\u001b[A\u001b[A\u001b[A\u001b[A\u001b[1G\u001b[?25h\u001b[?2026l\u001b[?2026h\u001b[?25l\u001b[A\u001b[A\u001b[A\u001b[A\u001b[1G\u001b[?25h\u001b[?2026l\u001b[?2026h\u001b[?25l\u001b[A\u001b[A\u001b[A\u001b[A\u001b[1G\u001b[?25h\u001b[?2026l\u001b[?2026h\u001b[?25l\u001b[A\u001b[A\u001b[A\u001b[A\u001b[A\u001b[1G\u001b[?25h\u001b[?2026l\u001b[?2026h\u001b[?25l\u001b[A\u001b[A\u001b[A\u001b[A\u001b[A\u001b[1G\u001b[?25h\u001b[?2026l\u001b[?2026h\u001b[?25l\u001b[A\u001b[A\u001b[A\u001b[A\u001b[A\u001b[1G\u001b[?25h\u001b[?2026l\u001b[?2026h\u001b[?25l\u001b[A\u001b[A\u001b[A\u001b[A\u001b[A\u001b[1G\u001b[?25h\u001b[?2026l\u001b[?2026h\u001b[?25l\u001b[A\u001b[A\u001b[A\u001b[A\u001b[A\u001b[1G\u001b[?25h\u001b[?2026l\u001b[?2026h\u001b[?25l\u001b[A\u001b[A\u001b[A\u001b[A\u001b[A\u001b[1G\u001b[?25h\u001b[?2026l\u001b[?2026h\u001b[?25l\u001b[A\u001b[A\u001b[A\u001b[A\u001b[A\u001b[1G\u001b[?25h\u001b[?2026l\u001b[?2026h\u001b[?25l\u001b[A\u001b[A\u001b[A\u001b[A\u001b[A\u001b[1G\u001b[?25h\u001b[?2026l\u001b[?2026h\u001b[?25l\u001b[A\u001b[A\u001b[A\u001b[A\u001b[A\u001b[A\u001b[1G\u001b[?25h\u001b[?2026l\u001b[?2026h\u001b[?25l\u001b[A\u001b[A\u001b[A\u001b[A\u001b[A\u001b[A\u001b[1G\u001b[?25h\u001b[?2026l\u001b[?2026h\u001b[?25l\u001b[A\u001b[A\u001b[A\u001b[A\u001b[A\u001b[A\u001b[1G\u001b[?25h\u001b[?2026l\u001b[?2026h\u001b[?25l\u001b[A\u001b[A\u001b[A\u001b[A\u001b[A\u001b[A\u001b[1G\u001b[?25h\u001b[?2026l\u001b[?2026h\u001b[?25l\u001b[A\u001b[A\u001b[A\u001b[A\u001b[A\u001b[A\u001b[1G\u001b[?25h\u001b[?2026l\u001b[?2026h\u001b[?25l\u001b[A\u001b[A\u001b[A\u001b[A\u001b[A\u001b[A\u001b[1G\u001b[?25h\u001b[?2026l\u001b[?2026h\u001b[?25l\u001b[A\u001b[A\u001b[A\u001b[A\u001b[A\u001b[A\u001b[1G\u001b[?25h\u001b[?2026l\u001b[?2026h\u001b[?25l\u001b[A\u001b[A\u001b[A\u001b[A\u001b[A\u001b[A\u001b[1G\u001b[?25h\u001b[?2026l\u001b[?2026h\u001b[?25l\u001b[A\u001b[A\u001b[A\u001b[A\u001b[A\u001b[A\u001b[1G\u001b[?25h\u001b[?2026l\u001b[?2026h\u001b[?25l\u001b[A\u001b[A\u001b[A\u001b[A\u001b[A\u001b[A\u001b[1G\u001b[?25h\u001b[?2026l\u001b[?2026h\u001b[?25l\u001b[A\u001b[A\u001b[A\u001b[A\u001b[A\u001b[A\u001b[1G\u001b[?25h\u001b[?2026l\u001b[?2026h\u001b[?25l\u001b[A\u001b[A\u001b[A\u001b[A\u001b[A\u001b[A\u001b[1G\u001b[?25h\u001b[?2026l\u001b[?2026h\u001b[?25l\u001b[A\u001b[A\u001b[A\u001b[A\u001b[A\u001b[A\u001b[1G\u001b[?25h\u001b[?2026l\u001b[?2026h\u001b[?25l\u001b[A\u001b[A\u001b[A\u001b[A\u001b[A\u001b[A\u001b[1G\u001b[?25h\u001b[?2026l\u001b[?2026h\u001b[?25l\u001b[A\u001b[A\u001b[A\u001b[A\u001b[A\u001b[A\u001b[1G\u001b[?25h\u001b[?2026l\u001b[?2026h\u001b[?25l\u001b[A\u001b[A\u001b[A\u001b[A\u001b[A\u001b[A\u001b[1G\u001b[?25h\u001b[?2026l\u001b[?2026h\u001b[?25l\u001b[A\u001b[A\u001b[A\u001b[A\u001b[A\u001b[A\u001b[1G\u001b[?25h\u001b[?2026l\u001b[?2026h\u001b[?25l\u001b[A\u001b[A\u001b[A\u001b[A\u001b[A\u001b[A\u001b[1G\u001b[?25h\u001b[?2026l\u001b[?2026h\u001b[?25l\u001b[A\u001b[A\u001b[A\u001b[A\u001b[A\u001b[A\u001b[1G\u001b[?25h\u001b[?2026l\u001b[?2026h\u001b[?25l\u001b[A\u001b[A\u001b[A\u001b[A\u001b[A\u001b[A\u001b[1G\u001b[?25h\u001b[?2026l\u001b[?2026h\u001b[?25l\u001b[A\u001b[A\u001b[A\u001b[A\u001b[A\u001b[A\u001b[1G\u001b[?25h\u001b[?2026l\u001b[?2026h\u001b[?25l\u001b[A\u001b[A\u001b[A\u001b[A\u001b[A\u001b[A\u001b[1G\u001b[?25h\u001b[?2026l\u001b[?2026h\u001b[?25l\u001b[A\u001b[A\u001b[A\u001b[A\u001b[A\u001b[A\u001b[1G\u001b[?25h\u001b[?2026l\u001b[?2026h\u001b[?25l\u001b[A\u001b[A\u001b[A\u001b[A\u001b[A\u001b[A\u001b[1G\u001b[?25h\u001b[?2026l\u001b[?2026h\u001b[?25l\u001b[A\u001b[A\u001b[A\u001b[A\u001b[A\u001b[A\u001b[1G\u001b[?25h\u001b[?2026l\u001b[?2026h\u001b[?25l\u001b[A\u001b[A\u001b[A\u001b[A\u001b[A\u001b[A\u001b[1G\u001b[?25h\u001b[?2026l\u001b[?2026h\u001b[?25l\u001b[A\u001b[A\u001b[A\u001b[A\u001b[A\u001b[A\u001b[1G\u001b[?25h\u001b[?2026l\u001b[?2026h\u001b[?25l\u001b[A\u001b[A\u001b[A\u001b[A\u001b[A\u001b[A\u001b[1G\u001b[?25h\u001b[?2026l\u001b[?2026h\u001b[?25l\u001b[A\u001b[A\u001b[A\u001b[A\u001b[A\u001b[A\u001b[1G\u001b[?25h\u001b[?2026l\u001b[?2026h\u001b[?25l\u001b[A\u001b[A\u001b[A\u001b[A\u001b[A\u001b[A\u001b[1G\u001b[?25h\u001b[?2026l\u001b[?2026h\u001b[?25l\u001b[A\u001b[A\u001b[A\u001b[A\u001b[A\u001b[A\u001b[1G\u001b[?25h\u001b[?2026l\u001b[?2026h\u001b[?25l\u001b[A\u001b[A\u001b[A\u001b[A\u001b[A\u001b[A\u001b[1G\u001b[?25h\u001b[?2026l\u001b[?2026h\u001b[?25l\u001b[A\u001b[A\u001b[A\u001b[A\u001b[A\u001b[A\u001b[1G\u001b[?25h\u001b[?2026l\u001b[?2026h\u001b[?25l\u001b[A\u001b[A\u001b[A\u001b[A\u001b[A\u001b[A\u001b[1G\u001b[?25h\u001b[?2026l\u001b[?2026h\u001b[?25l\u001b[A\u001b[A\u001b[A\u001b[A\u001b[A\u001b[A\u001b[1G\u001b[?25h\u001b[?2026l\u001b[?2026h\u001b[?25l\u001b[A\u001b[A\u001b[A\u001b[A\u001b[A\u001b[A\u001b[1G\u001b[?25h\u001b[?2026l\u001b[?2026h\u001b[?25l\u001b[A\u001b[A\u001b[A\u001b[A\u001b[A\u001b[A\u001b[1G\u001b[?25h\u001b[?2026l\u001b[?2026h\u001b[?25l\u001b[A\u001b[A\u001b[A\u001b[A\u001b[A\u001b[A\u001b[1G\u001b[?25h\u001b[?2026l\u001b[?2026h\u001b[?25l\u001b[A\u001b[A\u001b[A\u001b[A\u001b[A\u001b[A\u001b[1G\u001b[?25h\u001b[?2026l\u001b[?2026h\u001b[?25l\u001b[A\u001b[A\u001b[A\u001b[A\u001b[A\u001b[A\u001b[1G\u001b[?25h\u001b[?2026l\u001b[?2026h\u001b[?25l\u001b[A\u001b[A\u001b[A\u001b[A\u001b[A\u001b[A\u001b[1G\u001b[?25h\u001b[?2026l\u001b[?2026h\u001b[?25l\u001b[A\u001b[A\u001b[A\u001b[A\u001b[A\u001b[A\u001b[1G\u001b[?25h\u001b[?2026l\u001b[?2026h\u001b[?25l\u001b[A\u001b[A\u001b[A\u001b[A\u001b[A\u001b[A\u001b[1G\u001b[?25h\u001b[?2026l\u001b[?2026h\u001b[?25l\u001b[A\u001b[A\u001b[A\u001b[A\u001b[A\u001b[A\u001b[1G\u001b[?25h\u001b[?2026l\u001b[?2026h\u001b[?25l\u001b[A\u001b[A\u001b[A\u001b[A\u001b[A\u001b[A\u001b[1G\u001b[?25h\u001b[?2026l\u001b[?2026h\u001b[?25l\u001b[A\u001b[A\u001b[A\u001b[A\u001b[A\u001b[A\u001b[1G\u001b[?25h\u001b[?2026l\u001b[?2026h\u001b[?25l\u001b[A\u001b[A\u001b[A\u001b[A\u001b[A\u001b[A\u001b[1G\u001b[?25h\u001b[?2026l\u001b[?2026h\u001b[?25l\u001b[A\u001b[A\u001b[A\u001b[A\u001b[A\u001b[A\u001b[1G\u001b[?25h\u001b[?2026l\u001b[?2026h\u001b[?25l\u001b[A\u001b[A\u001b[A\u001b[A\u001b[A\u001b[A\u001b[1G\u001b[?25h\u001b[?2026l\u001b[?2026h\u001b[?25l\u001b[A\u001b[A\u001b[A\u001b[A\u001b[A\u001b[A\u001b[1G\u001b[?25h\u001b[?2026l\u001b[?2026h\u001b[?25l\u001b[A\u001b[A\u001b[A\u001b[A\u001b[A\u001b[A\u001b[1G\u001b[?25h\u001b[?2026l\u001b[?2026h\u001b[?25l\u001b[A\u001b[A\u001b[A\u001b[A\u001b[A\u001b[A\u001b[1G\u001b[?25h\u001b[?2026l\u001b[?2026h\u001b[?25l\u001b[A\u001b[A\u001b[A\u001b[A\u001b[A\u001b[A\u001b[1G\u001b[?25h\u001b[?2026l\u001b[?2026h\u001b[?25l\u001b[A\u001b[A\u001b[A\u001b[A\u001b[A\u001b[A\u001b[1G\u001b[?25h\u001b[?2026l\u001b[?2026h\u001b[?25l\u001b[A\u001b[A\u001b[A\u001b[A\u001b[A\u001b[A\u001b[1G\u001b[?25h\u001b[?2026l\u001b[?2026h\u001b[?25l\u001b[A\u001b[A\u001b[A\u001b[A\u001b[A\u001b[A\u001b[1G\u001b[?25h\u001b[?2026l\u001b[?2026h\u001b[?25l\u001b[A\u001b[A\u001b[A\u001b[A\u001b[A\u001b[A\u001b[1G\u001b[?25h\u001b[?2026l\u001b[?2026h\u001b[?25l\u001b[A\u001b[A\u001b[A\u001b[A\u001b[A\u001b[A\u001b[1G\u001b[?25h\u001b[?2026l\u001b[?2026h\u001b[?25l\u001b[A\u001b[A\u001b[A\u001b[A\u001b[A\u001b[A\u001b[1G\u001b[?25h\u001b[?2026l\u001b[?2026h\u001b[?25l\u001b[A\u001b[A\u001b[A\u001b[A\u001b[A\u001b[A\u001b[1G\u001b[?25h\u001b[?2026l\u001b[?2026h\u001b[?25l\u001b[A\u001b[A\u001b[A\u001b[A\u001b[A\u001b[A\u001b[1G\u001b[?25h\u001b[?2026l\u001b[?2026h\u001b[?25l\u001b[A\u001b[A\u001b[A\u001b[A\u001b[A\u001b[A\u001b[1G\u001b[?25h\u001b[?2026l\u001b[?2026h\u001b[?25l\u001b[A\u001b[A\u001b[A\u001b[A\u001b[A\u001b[A\u001b[1G\u001b[?25h\u001b[?2026l\u001b[?2026h\u001b[?25l\u001b[A\u001b[A\u001b[A\u001b[A\u001b[A\u001b[A\u001b[1G\u001b[?25h\u001b[?2026l\u001b[?2026h\u001b[?25l\u001b[A\u001b[A\u001b[A\u001b[A\u001b[A\u001b[A\u001b[1G\u001b[?25h\u001b[?2026l\u001b[?2026h\u001b[?25l\u001b[A\u001b[A\u001b[A\u001b[A\u001b[A\u001b[A\u001b[1G\u001b[?25h\u001b[?2026l\u001b[?2026h\u001b[?25l\u001b[A\u001b[A\u001b[A\u001b[A\u001b[A\u001b[A\u001b[1G\u001b[?25h\u001b[?2026l\u001b[?2026h\u001b[?25l\u001b[A\u001b[A\u001b[A\u001b[A\u001b[A\u001b[A\u001b[1G\u001b[?25h\u001b[?2026l\u001b[?2026h\u001b[?25l\u001b[A\u001b[A\u001b[A\u001b[A\u001b[A\u001b[A\u001b[1G\u001b[?25h\u001b[?2026l\u001b[?2026h\u001b[?25l\u001b[A\u001b[A\u001b[A\u001b[A\u001b[A\u001b[A\u001b[1G\u001b[?25h\u001b[?2026l\u001b[?2026h\u001b[?25l\u001b[A\u001b[A\u001b[A\u001b[A\u001b[A\u001b[A\u001b[1G\u001b[?25h\u001b[?2026l\u001b[?2026h\u001b[?25l\u001b[A\u001b[A\u001b[A\u001b[A\u001b[A\u001b[A\u001b[1G\u001b[?25h\u001b[?2026l\u001b[?2026h\u001b[?25l\u001b[A\u001b[A\u001b[A\u001b[A\u001b[A\u001b[A\u001b[1G\u001b[?25h\u001b[?2026l\u001b[?2026h\u001b[?25l\u001b[A\u001b[A\u001b[A\u001b[A\u001b[A\u001b[A\u001b[1G\u001b[?25h\u001b[?2026l\u001b[?2026h\u001b[?25l\u001b[A\u001b[A\u001b[A\u001b[A\u001b[A\u001b[A\u001b[1G\u001b[?25h\u001b[?2026l\u001b[?2026h\u001b[?25l\u001b[A\u001b[A\u001b[A\u001b[A\u001b[A\u001b[A\u001b[1G\u001b[?25h\u001b[?2026l\u001b[?2026h\u001b[?25l\u001b[A\u001b[A\u001b[A\u001b[A\u001b[A\u001b[A\u001b[1G\u001b[?25h\u001b[?2026l\u001b[?2026h\u001b[?25l\u001b[A\u001b[A\u001b[A\u001b[A\u001b[A\u001b[A\u001b[1G\u001b[?25h\u001b[?2026l\u001b[?2026h\u001b[?25l\u001b[A\u001b[A\u001b[A\u001b[A\u001b[A\u001b[A\u001b[1G\u001b[?25h\u001b[?2026l\u001b[?2026h\u001b[?25l\u001b[A\u001b[A\u001b[A\u001b[A\u001b[A\u001b[A\u001b[1G\u001b[?25h\u001b[?2026l\u001b[?2026h\u001b[?25l\u001b[A\u001b[A\u001b[A\u001b[A\u001b[A\u001b[A\u001b[1G\u001b[?25h\u001b[?2026l\u001b[?2026h\u001b[?25l\u001b[A\u001b[A\u001b[A\u001b[A\u001b[A\u001b[A\u001b[1G\u001b[?25h\u001b[?2026l\u001b[?2026h\u001b[?25l\u001b[A\u001b[A\u001b[A\u001b[A\u001b[A\u001b[A\u001b[1G\u001b[?25h\u001b[?2026l\u001b[?2026h\u001b[?25l\u001b[A\u001b[A\u001b[A\u001b[A\u001b[A\u001b[A\u001b[1G\u001b[?25h\u001b[?2026l\u001b[?2026h\u001b[?25l\u001b[A\u001b[A\u001b[A\u001b[A\u001b[A\u001b[A\u001b[1G\u001b[?25h\u001b[?2026l\u001b[?2026h\u001b[?25l\u001b[A\u001b[A\u001b[A\u001b[A\u001b[A\u001b[A\u001b[1G\u001b[?25h\u001b[?2026l\u001b[?2026h\u001b[?25l\u001b[A\u001b[A\u001b[A\u001b[A\u001b[A\u001b[A\u001b[1G\u001b[?25h\u001b[?2026l\u001b[?2026h\u001b[?25l\u001b[A\u001b[A\u001b[A\u001b[A\u001b[A\u001b[A\u001b[1G\u001b[?25h\u001b[?2026l\u001b[?2026h\u001b[?25l\u001b[A\u001b[A\u001b[A\u001b[A\u001b[A\u001b[A\u001b[1G\u001b[?25h\u001b[?2026l\u001b[?2026h\u001b[?25l\u001b[A\u001b[A\u001b[A\u001b[A\u001b[A\u001b[A\u001b[1G\u001b[?25h\u001b[?2026l\u001b[?2026h\u001b[?25l\u001b[A\u001b[A\u001b[A\u001b[A\u001b[A\u001b[A\u001b[1G\u001b[?25h\u001b[?2026l\u001b[?2026h\u001b[?25l\u001b[A\u001b[A\u001b[A\u001b[A\u001b[A\u001b[A\u001b[1G\u001b[?25h\u001b[?2026l\u001b[?2026h\u001b[?25l\u001b[A\u001b[A\u001b[A\u001b[A\u001b[A\u001b[A\u001b[1G\u001b[?25h\u001b[?2026l\u001b[?2026h\u001b[?25l\u001b[A\u001b[A\u001b[A\u001b[A\u001b[A\u001b[A\u001b[1G\u001b[?25h\u001b[?2026l\u001b[?2026h\u001b[?25l\u001b[A\u001b[A\u001b[A\u001b[A\u001b[A\u001b[A\u001b[1G\u001b[?25h\u001b[?2026l\u001b[?2026h\u001b[?25l\u001b[A\u001b[A\u001b[A\u001b[A\u001b[A\u001b[A\u001b[1G\u001b[?25h\u001b[?2026l\u001b[?2026h\u001b[?25l\u001b[A\u001b[A\u001b[A\u001b[A\u001b[A\u001b[A\u001b[1G\u001b[?25h\u001b[?2026l\u001b[?2026h\u001b[?25l\u001b[A\u001b[A\u001b[A\u001b[A\u001b[A\u001b[A\u001b[1G\u001b[?25h\u001b[?2026l\u001b[?2026h\u001b[?25l\u001b[A\u001b[A\u001b[A\u001b[A\u001b[A\u001b[A\u001b[1G\u001b[?25h\u001b[?2026l\u001b[?2026h\u001b[?25l\u001b[A\u001b[A\u001b[A\u001b[A\u001b[A\u001b[A\u001b[1G\u001b[?25h\u001b[?2026l\u001b[?2026h\u001b[?25l\u001b[A\u001b[A\u001b[A\u001b[A\u001b[A\u001b[A\u001b[1G\u001b[?25h\u001b[?2026l\u001b[?2026h\u001b[?25l\u001b[A\u001b[A\u001b[A\u001b[A\u001b[A\u001b[A\u001b[1G\u001b[?25h\u001b[?2026l\u001b[?2026h\u001b[?25l\u001b[A\u001b[A\u001b[A\u001b[A\u001b[A\u001b[A\u001b[1G\u001b[?25h\u001b[?2026l\u001b[?2026h\u001b[?25l\u001b[A\u001b[A\u001b[A\u001b[A\u001b[A\u001b[A\u001b[1G\u001b[?25h\u001b[?2026l\u001b[?2026h\u001b[?25l\u001b[A\u001b[A\u001b[A\u001b[A\u001b[A\u001b[A\u001b[1G\u001b[?25h\u001b[?2026l\u001b[?2026h\u001b[?25l\u001b[A\u001b[A\u001b[A\u001b[A\u001b[A\u001b[A\u001b[1G\u001b[?25h\u001b[?2026l\u001b[?2026h\u001b[?25l\u001b[A\u001b[A\u001b[A\u001b[A\u001b[A\u001b[A\u001b[1G\u001b[?25h\u001b[?2026l\u001b[?2026h\u001b[?25l\u001b[A\u001b[A\u001b[A\u001b[A\u001b[A\u001b[A\u001b[1G\u001b[?25h\u001b[?2026l\u001b[?2026h\u001b[?25l\u001b[A\u001b[A\u001b[A\u001b[A\u001b[A\u001b[A\u001b[1G\u001b[?25h\u001b[?2026l\u001b[?2026h\u001b[?25l\u001b[A\u001b[A\u001b[A\u001b[A\u001b[A\u001b[A\u001b[1G\u001b[?25h\u001b[?2026l\u001b[?2026h\u001b[?25l\u001b[A\u001b[A\u001b[A\u001b[A\u001b[A\u001b[A\u001b[1G\u001b[?25h\u001b[?2026l\u001b[?2026h\u001b[?25l\u001b[A\u001b[A\u001b[A\u001b[A\u001b[A\u001b[A\u001b[1G\u001b[?25h\u001b[?2026l\u001b[?2026h\u001b[?25l\u001b[A\u001b[A\u001b[A\u001b[A\u001b[A\u001b[A\u001b[1G\u001b[?25h\u001b[?2026l\u001b[?2026h\u001b[?25l\u001b[A\u001b[A\u001b[A\u001b[A\u001b[A\u001b[A\u001b[1G\u001b[?25h\u001b[?2026l\u001b[?2026h\u001b[?25l\u001b[A\u001b[A\u001b[A\u001b[A\u001b[A\u001b[A\u001b[1G\u001b[?25h\u001b[?2026l\u001b[?2026h\u001b[?25l\u001b[A\u001b[A\u001b[A\u001b[A\u001b[A\u001b[A\u001b[1G\u001b[?25h\u001b[?2026l\u001b[?2026h\u001b[?25l\u001b[A\u001b[A\u001b[A\u001b[A\u001b[A\u001b[A\u001b[1G\u001b[?25h\u001b[?2026l\u001b[?2026h\u001b[?25l\u001b[A\u001b[A\u001b[A\u001b[A\u001b[A\u001b[A\u001b[1G\u001b[?25h\u001b[?2026l\u001b[?2026h\u001b[?25l\u001b[A\u001b[A\u001b[A\u001b[A\u001b[A\u001b[A\u001b[1G\u001b[?25h\u001b[?2026l\u001b[?2026h\u001b[?25l\u001b[A\u001b[A\u001b[A\u001b[A\u001b[A\u001b[A\u001b[1G\u001b[?25h\u001b[?2026l\u001b[?2026h\u001b[?25l\u001b[A\u001b[A\u001b[A\u001b[A\u001b[A\u001b[A\u001b[1G\u001b[?25h\u001b[?2026l\u001b[?2026h\u001b[?25l\u001b[A\u001b[A\u001b[A\u001b[A\u001b[A\u001b[A\u001b[1G\u001b[?25h\u001b[?2026l\u001b[?2026h\u001b[?25l\u001b[A\u001b[A\u001b[A\u001b[A\u001b[A\u001b[A\u001b[1G\u001b[?25h\u001b[?2026l\u001b[?2026h\u001b[?25l\u001b[A\u001b[A\u001b[A\u001b[A\u001b[A\u001b[A\u001b[1G\u001b[?25h\u001b[?2026l\u001b[?2026h\u001b[?25l\u001b[A\u001b[A\u001b[A\u001b[A\u001b[A\u001b[A\u001b[1G\u001b[?25h\u001b[?2026l\u001b[?2026h\u001b[?25l\u001b[A\u001b[A\u001b[A\u001b[A\u001b[A\u001b[A\u001b[1G\u001b[?25h\u001b[?2026l\u001b[?2026h\u001b[?25l\u001b[A\u001b[A\u001b[A\u001b[A\u001b[A\u001b[A\u001b[1G\u001b[?25h\u001b[?2026l\u001b[?2026h\u001b[?25l\u001b[A\u001b[A\u001b[A\u001b[A\u001b[A\u001b[A\u001b[1G\u001b[?25h\u001b[?2026l\u001b[?2026h\u001b[?25l\u001b[A\u001b[A\u001b[A\u001b[A\u001b[A\u001b[A\u001b[1G\u001b[?25h\u001b[?2026l\u001b[?2026h\u001b[?25l\u001b[A\u001b[A\u001b[A\u001b[A\u001b[A\u001b[A\u001b[1G\u001b[?25h\u001b[?2026l\u001b[?2026h\u001b[?25l\u001b[A\u001b[A\u001b[A\u001b[A\u001b[A\u001b[A\u001b[1G\u001b[?25h\u001b[?2026l\u001b[?2026h\u001b[?25l\u001b[A\u001b[A\u001b[A\u001b[A\u001b[A\u001b[A\u001b[1G\u001b[?25h\u001b[?2026l\u001b[?2026h\u001b[?25l\u001b[A\u001b[A\u001b[A\u001b[A\u001b[A\u001b[A\u001b[1G\u001b[?25h\u001b[?2026l\u001b[?2026h\u001b[?25l\u001b[A\u001b[A\u001b[A\u001b[A\u001b[A\u001b[A\u001b[1G\u001b[?25h\u001b[?2026l\u001b[?2026h\u001b[?25l\u001b[A\u001b[A\u001b[A\u001b[A\u001b[A\u001b[A\u001b[1G\u001b[?25h\u001b[?2026l\u001b[?2026h\u001b[?25l\u001b[A\u001b[A\u001b[A\u001b[A\u001b[A\u001b[A\u001b[1G\u001b[?25h\u001b[?2026l\u001b[?2026h\u001b[?25l\u001b[A\u001b[A\u001b[A\u001b[A\u001b[A\u001b[A\u001b[1G\u001b[?25h\u001b[?2026l\u001b[?2026h\u001b[?25l\u001b[A\u001b[A\u001b[A\u001b[A\u001b[A\u001b[A\u001b[1G\u001b[?25h\u001b[?2026l\u001b[?2026h\u001b[?25l\u001b[A\u001b[A\u001b[A\u001b[A\u001b[A\u001b[A\u001b[1G\u001b[?25h\u001b[?2026l\u001b[?2026h\u001b[?25l\u001b[A\u001b[A\u001b[A\u001b[A\u001b[A\u001b[A\u001b[1G\u001b[?25h\u001b[?2026l\u001b[?2026h\u001b[?25l\u001b[A\u001b[A\u001b[A\u001b[A\u001b[A\u001b[A\u001b[1G\u001b[?25h\u001b[?2026l\u001b[?2026h\u001b[?25l\u001b[A\u001b[A\u001b[A\u001b[A\u001b[A\u001b[A\u001b[1G\u001b[?25h\u001b[?2026l\u001b[?2026h\u001b[?25l\u001b[A\u001b[A\u001b[A\u001b[A\u001b[A\u001b[A\u001b[1G\u001b[?25h\u001b[?2026l\u001b[?2026h\u001b[?25l\u001b[A\u001b[A\u001b[A\u001b[A\u001b[A\u001b[A\u001b[1G\u001b[?25h\u001b[?2026l\u001b[?2026h\u001b[?25l\u001b[A\u001b[A\u001b[A\u001b[A\u001b[A\u001b[A\u001b[1G\u001b[?25h\u001b[?2026l\u001b[?2026h\u001b[?25l\u001b[A\u001b[A\u001b[A\u001b[A\u001b[A\u001b[A\u001b[1G\u001b[?25h\u001b[?2026l\u001b[?2026h\u001b[?25l\u001b[A\u001b[A\u001b[A\u001b[A\u001b[A\u001b[A\u001b[1G\u001b[?25h\u001b[?2026l\u001b[?2026h\u001b[?25l\u001b[A\u001b[A\u001b[A\u001b[A\u001b[A\u001b[A\u001b[1G\u001b[?25h\u001b[?2026l\u001b[?2026h\u001b[?25l\u001b[A\u001b[A\u001b[A\u001b[A\u001b[A\u001b[A\u001b[1G\u001b[?25h\u001b[?2026l\u001b[?2026h\u001b[?25l\u001b[A\u001b[A\u001b[A\u001b[A\u001b[A\u001b[A\u001b[1G\u001b[?25h\u001b[?2026l\n"
          ]
        }
      ]
    },
    {
      "cell_type": "code",
      "source": [
        "!ollama list"
      ],
      "metadata": {
        "colab": {
          "base_uri": "https://localhost:8080/"
        },
        "id": "eTG8lRY6sNIy",
        "outputId": "6116d70b-1daf-44d3-e491-874c49621117"
      },
      "execution_count": 4,
      "outputs": [
        {
          "output_type": "stream",
          "name": "stdout",
          "text": [
            "NAME              ID              SIZE      MODIFIED      \n",
            "deepseek-r1:7b    755ced02ce7b    4.7 GB    2 seconds ago    \n"
          ]
        }
      ]
    },
    {
      "cell_type": "code",
      "execution_count": 5,
      "metadata": {
        "colab": {
          "base_uri": "https://localhost:8080/"
        },
        "id": "z9XfzU5prUwM",
        "outputId": "5cd8a027-a1ca-4a1a-d4fd-8da8f64ef5b9"
      },
      "outputs": [
        {
          "output_type": "stream",
          "name": "stderr",
          "text": [
            "<ipython-input-5-8cd0daa9d0bb>:32: LangChainDeprecationWarning: The class `LLMChain` was deprecated in LangChain 0.1.17 and will be removed in 1.0. Use :meth:`~RunnableSequence, e.g., `prompt | llm`` instead.\n",
            "  self.financial_advice_chain = LLMChain(llm=self.llm, prompt=self.financial_advice_prompt)\n",
            "<ipython-input-5-8cd0daa9d0bb>:35: LangChainDeprecationWarning: The method `BaseLLM.__call__` was deprecated in langchain-core 0.1.7 and will be removed in 1.0. Use :meth:`~invoke` instead.\n",
            "  response = self.llm(self.financial_advice_prompt.format())\n"
          ]
        },
        {
          "output_type": "stream",
          "name": "stdout",
          "text": [
            "<think>\n",
            "Okay, so I'm trying to help someone who's 30 years old with their financial situation. They earn $70k a year, have $20k saved up, and $10k in credit card debt at an 18% interest rate. Their goal is to buy a house in five years. I need to come up with detailed advice across four areas: Debt Management, Savings and Investment, Budgeting, and Homeownership.\n",
            "\n",
            "First, let's break down each area step by step. Starting with debt management because that seems like the first priority since they have existing debt. They're carrying $10k on a credit card with 18% interest. Paying off this debt quickly makes sense to save money in the long run and improve their financial health.\n",
            "\n",
            "I remember hearing that the debt snowball method is good for those with multiple debts because it tackles smaller debts first, building motivation, while the avalanche method pays more on high-interest debt. Since they have only one major debt here, maybe just focusing on paying it off asap makes sense. But perhaps splitting the payment between interest and principal could be better to reduce the balance faster.\n",
            "\n",
            "Next is savings for a down payment. They need to know how much they need. Typically, 20-30% of the home price is a good down payment. If they buy in five years, maybe aiming for around $50k as a starting point if their net worth grows at about 10%. So they have $20k saved now, which can be invested or used towards the down payment.\n",
            "\n",
            "They should think about saving strategies—maybe increasing income by getting a raise or second job, cutting expenses to free up more cash flow. Creating an emergency fund is also important; maybe six months of expenses. Then investing that money could help grow their savings faster. Options include index funds, ETFs for diversification, or even real estate investment trusts if they're interested in property without owning it.\n",
            "\n",
            "For budgeting, they need to assess their current spending habits and create a plan where income exceeds expenses. Tracking where the $70k goes each year is essential. They might be able to reduce unnecessary expenses, save more, and allocate some towards debt repayment as well as building savings for the house.\n",
            "\n",
            "Homeownership advice should cover pre-purchase steps like getting pre-approved for a mortgage, looking at different home types (like starter homes or investment properties), selecting a real estate agent who can guide them through the process. They'll need to think about location factors—proximity to work, commute time, local amenities. Also, understanding closing costs is important; it's usually around 2-5% of the home price.\n",
            "\n",
            "I should make sure each section is detailed enough but not too overwhelming. Maybe provide some specific examples or calculations for debt repayment and savings growth. Encourage them to stay disciplined with budgeting changes because sticking to a plan can be tough, especially when motivation might wane after the initial phase.\n",
            "\n",
            "Wait, maybe I should check if their income of $70k is enough after debt payments. If they pay off $500/month on credit card debt, that leaves about $64,500, which could cover other expenses and savings. They need to make sure their new budget doesn't overspend.\n",
            "\n",
            "Also, considering the time value of money—investing early can help grow their savings more over five years. Maybe suggest using compound interest strategies or starting a long-term investment plan.\n",
            "\n",
            "I should also think about potential risks, like if they can't afford the mortgage payments after buying the house. They might need to negotiate a lower interest rate or consider refinancing in the future if needed.\n",
            "\n",
            "Overall, the advice needs to be actionable with specific steps they can take each month or over time. Providing clear strategies for debt management, savings, budgeting changes, and understanding home ownership factors will help them feel more confident moving towards buying a house.\n",
            "</think>\n",
            "\n",
            "To help this client achieve their goal of buying a house in five years, here's a structured financial plan with detailed recommendations:\n",
            "\n",
            "### 1. Debt Management\n",
            "- **Credit Card Debt Strategy**: Prioritize paying off the $10k credit card debt. Start by creating an amortization schedule to determine monthly payments that cover both principal and interest. Consider increasing income or reducing expenses to accelerate debt repayment.\n",
            "- **Budgeting for Interest**: Once debt is paid, allocate a portion of income towards building a new savings buffer specifically for home ownership.\n",
            "\n",
            "### 2. Savings and Investment\n",
            "- **Down Payment Target**: Aim for a down payment of $50k in five years. This requires saving an additional $30k.\n",
            "- **Savings Strategy**:\n",
            "  - Reinvest savings from the credit card debt into low-cost index funds or ETFs to maximize growth.\n",
            "  - Create an emergency fund covering six months' expenses, crucial for unexpected expenses and financial emergencies.\n",
            "  - Increase income through a potential job promotion or seeking a second job if necessary.\n",
            "\n",
            "### 3. Budgeting\n",
            "- **Monthly Expense Review**: Reassess current spending habits to create a budget where income exceeds expenses. This includes reducing non-essential spenders like dining out, entertainment, and subscriptions.\n",
            "- **Savings Allocations**:\n",
            "  - $500/month towards credit card debt (if applicable).\n",
            "  - $1,200/month for the down payment ($6k in five years).\n",
            "  - $700/month into a high-yield savings account or investment fund.\n",
            "\n",
            "### 4. Homeownership\n",
            "- **Pre-Purchase Steps**:\n",
            "  - Secure a pre-qualified mortgage to understand financial requirements.\n",
            "  - Consider different home types, such as starter homes or investment properties, depending on future goals.\n",
            "- **Location Considerations**: Prioritize areas with good job opportunities, amenities, and proximity to living needs.\n",
            "- **Mortgage Awareness**: Be prepared for closing costs (2-5% of the home price) and negotiate favorable terms if possible.\n",
            "\n",
            "### Additional Considerations\n",
            "- **Long-Term Savings Growth**: Utilize compound interest by reinvesting savings into appreciating assets over time.\n",
            "- **Risk Management**: Ensure the new mortgage payments are affordable. If necessary, explore refinancing options for lower rates in the future.\n",
            "\n",
            "By following these steps, the client can systematically address debt, build a substantial savings buffer, and make informed decisions towards homeownership, ensuring financial stability and security.\n"
          ]
        }
      ],
      "source": [
        "from langchain_ollama import OllamaLLM\n",
        "from langchain.prompts import PromptTemplate\n",
        "from langchain.chains import LLMChain\n",
        "\n",
        "# Updated prompt for financial advice\n",
        "prompt = PromptTemplate(\n",
        "    template=\"\"\"\n",
        "    You are a financial advisor. A client comes to you with the following situation:\n",
        "\n",
        "    * They are 30 years old and earn $70,000 per year.\n",
        "    * They have $20,000 in savings.\n",
        "    * They have $10,000 in credit card debt at an 18% interest rate.\n",
        "    * They want to buy a house in 5 years.\n",
        "\n",
        "    What financial advice would you give them to achieve their goal? Be specific and provide detailed recommendations, including:\n",
        "\n",
        "    * Debt Management: Strategies for paying off credit card debt.\n",
        "    * Savings and Investment: Recommendations for saving and investing for a down payment.\n",
        "    * Budgeting: Tips for creating and sticking to a budget.\n",
        "    * Homeownership: Information on the home buying process and factors to consider.\n",
        "    \"\"\"\n",
        ")\n",
        "\n",
        "# Initialize Ollama with DeepSeekr1-7b\n",
        "llm = OllamaLLM(model=\"deepseek-r1:7b\", max_tokens=2048)\n",
        "\n",
        "# Initialize the FinancialAdvisorAgent\n",
        "class FinancialAdvisorAgent:\n",
        "    def __init__(self, llm):\n",
        "        self.llm = llm\n",
        "        self.financial_advice_prompt = prompt\n",
        "        self.financial_advice_chain = LLMChain(llm=self.llm, prompt=self.financial_advice_prompt)\n",
        "\n",
        "    def generate_financial_plan(self):\n",
        "        response = self.llm(self.financial_advice_prompt.format())\n",
        "        return response\n",
        "\n",
        "# Initialize the agent\n",
        "agent = FinancialAdvisorAgent(llm)\n",
        "\n",
        "# Generate the financial advice\n",
        "financial_advice = agent.generate_financial_plan()\n",
        "\n",
        "# Print the financial advice\n",
        "print(financial_advice)"
      ]
    },
    {
      "cell_type": "markdown",
      "source": [
        "## geminis"
      ],
      "metadata": {
        "id": "SaelEt1Uu4iw"
      }
    },
    {
      "cell_type": "code",
      "source": [
        "!pip install google-generativeai -q\n",
        "!pip install python-dotenv -q\n",
        "!pip install colab-env -q"
      ],
      "metadata": {
        "colab": {
          "base_uri": "https://localhost:8080/"
        },
        "id": "ffA063tlu36d",
        "outputId": "ea1de7d5-d79f-422d-e719-90eb5892aa53"
      },
      "execution_count": 6,
      "outputs": [
        {
          "output_type": "stream",
          "name": "stdout",
          "text": [
            "  Preparing metadata (setup.py) ... \u001b[?25l\u001b[?25hdone\n",
            "  Building wheel for colab-env (setup.py) ... \u001b[?25l\u001b[?25hdone\n"
          ]
        }
      ]
    },
    {
      "cell_type": "code",
      "source": [
        "# Used to securely store your API key\n",
        "from google.colab import userdata\n",
        "import pathlib\n",
        "import textwrap\n",
        "import google.generativeai as genai\n",
        "import colab_env\n",
        "\n",
        "GOOGLE_API_KEY=userdata.get('GEMINI')\n",
        "genai.configure(api_key=GOOGLE_API_KEY)"
      ],
      "metadata": {
        "colab": {
          "base_uri": "https://localhost:8080/"
        },
        "id": "E4K2qeX2udpb",
        "outputId": "fb65173f-aaa5-4bb9-e7e2-df4e2aa7165e"
      },
      "execution_count": 7,
      "outputs": [
        {
          "output_type": "stream",
          "name": "stdout",
          "text": [
            "Mounted at /content/gdrive\n"
          ]
        }
      ]
    },
    {
      "cell_type": "code",
      "source": [
        "import google.generativeai as genai\n",
        "\n",
        "for m in genai.list_models():\n",
        "    if \"generateContent\" in m.supported_generation_methods:\n",
        "        print(m.name)"
      ],
      "metadata": {
        "colab": {
          "base_uri": "https://localhost:8080/",
          "height": 798
        },
        "id": "sQkNLlwHvqWO",
        "outputId": "51a568bb-e3c5-404d-9104-43941f996e7e"
      },
      "execution_count": 8,
      "outputs": [
        {
          "output_type": "stream",
          "name": "stdout",
          "text": [
            "models/gemini-1.0-pro-vision-latest\n",
            "models/gemini-pro-vision\n",
            "models/gemini-1.5-pro-latest\n",
            "models/gemini-1.5-pro-001\n",
            "models/gemini-1.5-pro-002\n",
            "models/gemini-1.5-pro\n",
            "models/gemini-1.5-flash-latest\n",
            "models/gemini-1.5-flash-001\n",
            "models/gemini-1.5-flash-001-tuning\n",
            "models/gemini-1.5-flash\n",
            "models/gemini-1.5-flash-002\n",
            "models/gemini-1.5-flash-8b\n",
            "models/gemini-1.5-flash-8b-001\n",
            "models/gemini-1.5-flash-8b-latest\n",
            "models/gemini-1.5-flash-8b-exp-0827\n",
            "models/gemini-1.5-flash-8b-exp-0924\n",
            "models/gemini-2.5-pro-exp-03-25\n",
            "models/gemini-2.5-pro-preview-03-25\n",
            "models/gemini-2.5-flash-preview-04-17\n",
            "models/gemini-2.5-flash-preview-05-20\n",
            "models/gemini-2.5-flash-preview-04-17-thinking\n",
            "models/gemini-2.5-pro-preview-05-06\n",
            "models/gemini-2.0-flash-exp\n",
            "models/gemini-2.0-flash\n",
            "models/gemini-2.0-flash-001\n",
            "models/gemini-2.0-flash-exp-image-generation\n",
            "models/gemini-2.0-flash-lite-001\n",
            "models/gemini-2.0-flash-lite\n",
            "models/gemini-2.0-flash-preview-image-generation\n",
            "models/gemini-2.0-flash-lite-preview-02-05\n",
            "models/gemini-2.0-flash-lite-preview\n",
            "models/gemini-2.0-pro-exp\n",
            "models/gemini-2.0-pro-exp-02-05\n",
            "models/gemini-exp-1206\n",
            "models/gemini-2.0-flash-thinking-exp-01-21\n",
            "models/gemini-2.0-flash-thinking-exp\n",
            "models/gemini-2.0-flash-thinking-exp-1219\n",
            "models/gemini-2.5-flash-preview-tts\n",
            "models/gemini-2.5-pro-preview-tts\n",
            "models/learnlm-2.0-flash-experimental\n",
            "models/gemma-3-1b-it\n",
            "models/gemma-3-4b-it\n",
            "models/gemma-3-12b-it\n",
            "models/gemma-3-27b-it\n",
            "models/gemma-3n-e4b-it\n"
          ]
        }
      ]
    },
    {
      "cell_type": "code",
      "source": [
        "import google.generativeai as genai\n",
        "\n",
        "# Set your API key\n",
        "genai.configure(api_key=GOOGLE_API_KEY)\n",
        "\n",
        "# Initialize Gemini\n",
        "model_name = 'models/gemini-2.5-flash-preview-05-20'\n",
        "model = genai.GenerativeModel(model_name)\n",
        "\n",
        "# Updated prompt for financial advice\n",
        "financial_advice_prompt = \"\"\"\n",
        "You are a financial advisor. A client comes to you with the following situation:\n",
        "\n",
        "* They are 30 years old and earn $70,000 per year.\n",
        "* They have $20,000 in savings.\n",
        "* They have $10,000 in credit card debt at an 18% interest rate.\n",
        "* They want to buy a house in 5 years.\n",
        "\n",
        "What financial advice would you give them to achieve their goal? Be specific and provide detailed recommendations, including:\n",
        "\n",
        "* Debt Management: Strategies for paying off credit card debt.\n",
        "* Savings and Investment: Recommendations for saving and investing for a down payment.\n",
        "* Budgeting: Tips for creating and sticking to a budget.\n",
        "* Homeownership: Information on the home buying process and factors to consider.\n",
        "\"\"\"\n",
        "\n",
        "class FinancialAdvisorAgent:\n",
        "    def __init__(self, model):\n",
        "        self.model = model\n",
        "        self.financial_advice_prompt = financial_advice_prompt\n",
        "\n",
        "    def generate_financial_plan(self):\n",
        "        response = self.model.generate_content(\n",
        "            [{\"text\": self.financial_advice_prompt}],  # Pass prompt as a list of dictionaries with \"text\" key\n",
        "            generation_config={\n",
        "                \"temperature\": 0.1,\n",
        "                \"max_output_tokens\": 2048,\n",
        "            }\n",
        "        )\n",
        "        return response.text  # Access the generated text using .text\n",
        "\n",
        "# Initialize the agent\n",
        "agent = FinancialAdvisorAgent(model)\n",
        "\n",
        "# Generate the financial advice\n",
        "financial_advice = agent.generate_financial_plan()\n",
        "\n",
        "# Print the financial advice\n",
        "print(financial_advice)"
      ],
      "metadata": {
        "colab": {
          "base_uri": "https://localhost:8080/",
          "height": 558
        },
        "id": "DNEVRuyYvsls",
        "outputId": "91700a66-6bee-4c7b-d994-929f74e3929f"
      },
      "execution_count": 9,
      "outputs": [
        {
          "output_type": "stream",
          "name": "stdout",
          "text": [
            "Okay, this is a fantastic goal, and at 30, you're in a great position to achieve it with a clear plan. Let's break down how we can get you from where you are today to owning a home in 5 years.\n",
            "\n",
            "Here's a detailed financial roadmap:\n",
            "\n",
            "---\n",
            "\n",
            "**Client Situation Summary:**\n",
            "\n",
            "*   **Age:** 30\n",
            "*   **Income:** $70,000/year\n",
            "*   **Savings:** $20,000\n",
            "*   **Debt:** $10,000 credit card debt @ 18% interest\n",
            "*   **Goal:** Buy a house in 5 years\n",
            "\n",
            "---\n",
            "\n",
            "**Overall Strategy: Attack Debt Aggressively, Build Foundation, Then Save for Down Payment**\n",
            "\n",
            "The 18% credit card interest rate is a significant financial drain. No investment will consistently give you an 18% *guaranteed* return. Therefore, our absolute top priority is to eliminate that debt. Once that's done, we'll build a solid emergency fund, and then aggressively save for your down payment.\n",
            "\n",
            "---\n",
            "\n",
            "### 1. Debt Management: Eliminating the 18% Credit Card Debt\n",
            "\n",
            "This is the most critical step. Every dollar you pay towards this debt is like earning an 18% guaranteed, tax-free return.\n",
            "\n",
            "*   **Immediate Action: Use Your Savings to Pay it Off NOW.**\n",
            "    *   You have $20,000 in savings and $10,000 in credit card debt. The most financially sound move is to use $10,000 of your savings to pay off the credit card debt in full, today.\n",
            "    *   **Why?** Keeping $10,000 in savings while paying 18% interest on debt is like lighting money on fire. You're losing $1,800 per year just on interest, which significantly hinders your ability to save for a house.\n",
            "    *   **\n"
          ]
        }
      ]
    },
    {
      "cell_type": "markdown",
      "source": [
        "## claude3"
      ],
      "metadata": {
        "id": "h5xrngFfxyit"
      }
    },
    {
      "cell_type": "code",
      "source": [
        "!pip install anthropic -q\n",
        "\n",
        "!pip install colab-env --quiet\n",
        "\n",
        "\n",
        "import anthropic\n",
        "import os\n",
        "import colab_env\n",
        "import json"
      ],
      "metadata": {
        "id": "lqJox-Skxxqv",
        "colab": {
          "base_uri": "https://localhost:8080/"
        },
        "outputId": "9641af96-5cc0-46b0-9ef8-bf54484e8d3a"
      },
      "execution_count": 10,
      "outputs": [
        {
          "output_type": "stream",
          "name": "stdout",
          "text": [
            "\u001b[?25l   \u001b[90m━━━━━━━━━━━━━━━━━━━━━━━━━━━━━━━━━━━━━━━━\u001b[0m \u001b[32m0.0/286.1 kB\u001b[0m \u001b[31m?\u001b[0m eta \u001b[36m-:--:--\u001b[0m\r\u001b[2K   \u001b[90m━━━━━━━━━━━━━━━━━━━━━━━━━━━━━━━━━━━━━━━━\u001b[0m \u001b[32m286.1/286.1 kB\u001b[0m \u001b[31m9.7 MB/s\u001b[0m eta \u001b[36m0:00:00\u001b[0m\n",
            "\u001b[?25h"
          ]
        }
      ]
    },
    {
      "cell_type": "code",
      "source": [
        "api_key = os.environ[\"CLAUDE3_API_KEY\"]\n",
        "#model=\"claude-3-opus-20240229\"\n",
        "#model=\"claude-3-5-sonnet-20240620\"\n",
        "model=\"claude-opus-4-20250514\"\n",
        "\n",
        "client = anthropic.Anthropic(\n",
        "    api_key=api_key,\n",
        ")"
      ],
      "metadata": {
        "id": "nJLFn9FOx7cw"
      },
      "execution_count": 11,
      "outputs": []
    },
    {
      "cell_type": "code",
      "source": [
        "message = client.messages.create(\n",
        "    #model=\"claude-3-opus-20240229\",\n",
        "    #model=\"claude-3-5-sonnet-20240620\",\n",
        "    model=\"claude-opus-4-20250514\",\n",
        "    max_tokens=1024,\n",
        "    messages=[\n",
        "        {\"role\": \"user\", \"content\": \"Hello, Claude\"}\n",
        "    ]\n",
        ")\n",
        "print(message.content[0].text)"
      ],
      "metadata": {
        "colab": {
          "base_uri": "https://localhost:8080/"
        },
        "id": "wqmn33r5x_fm",
        "outputId": "3137334c-ed7a-41b3-b590-45c2cc987f09"
      },
      "execution_count": 12,
      "outputs": [
        {
          "output_type": "stream",
          "name": "stdout",
          "text": [
            "Hello! It's nice to meet you. How are you doing today?\n"
          ]
        }
      ]
    },
    {
      "source": [
        "import anthropic\n",
        "\n",
        "# Set your API key\n",
        "api_key = os.environ['CLAUDE3_API_KEY']\n",
        "\n",
        "# Initialize Claude 4\n",
        "client = anthropic.Anthropic(api_key=api_key)\n",
        "\n",
        "# Updated prompt for financial advice\n",
        "financial_advice_prompt = \"\"\"\n",
        "You are a financial advisor. A client comes to you with the following situation:\n",
        "\n",
        "* They are 30 years old and earn $70,000 per year.\n",
        "* They have $20,000 in savings.\n",
        "* They have $10,000 in credit card debt at an 18% interest rate.\n",
        "* They want to buy a house in 5 years.\n",
        "\n",
        "What financial advice would you give them to achieve their goal? Be specific and provide detailed recommendations, including:\n",
        "\n",
        "* Debt Management: Strategies for paying off credit card debt.\n",
        "* Savings and Investment: Recommendations for saving and investing for a down payment.\n",
        "* Budgeting: Tips for creating and sticking to a budget.\n",
        "* Homeownership: Information on the home buying process and factors to consider.\n",
        "\"\"\"\n",
        "\n",
        "class FinancialAdvisorAgent:\n",
        "    def __init__(self):\n",
        "        # No need to initialize an LLM object here\n",
        "        self.financial_advice_prompt = financial_advice_prompt\n",
        "\n",
        "    def generate_financial_plan(self):\n",
        "        response = client.messages.create(\n",
        "            #model=\"claude-3-5-sonnet-20240620\",  # Use the specified model\n",
        "            model=\"claude-opus-4-20250514\",\n",
        "            max_tokens=2048, # Use max_tokens instead of max_tokens_to_sample\n",
        "            messages=[\n",
        "                {\"role\": \"user\", \"content\": self.financial_advice_prompt}\n",
        "            ]\n",
        "        )\n",
        "        return response.content[0].text  # Access the text from the response object\n",
        "\n",
        "# Initialize the agent\n",
        "agent = FinancialAdvisorAgent()\n",
        "\n",
        "# Generate the financial advice\n",
        "financial_advice = agent.generate_financial_plan()\n",
        "\n",
        "# Print the financial advice\n",
        "print(financial_advice)"
      ],
      "cell_type": "code",
      "metadata": {
        "colab": {
          "base_uri": "https://localhost:8080/"
        },
        "id": "NdvXQVEIzaXh",
        "outputId": "42c358ab-db93-4ea1-f8c4-5e546ec83642"
      },
      "execution_count": 14,
      "outputs": [
        {
          "output_type": "stream",
          "name": "stdout",
          "text": [
            "I'll help you create a comprehensive financial plan to achieve your homeownership goal. Let's break this down into actionable steps.\n",
            "\n",
            "## **Debt Management Strategy**\n",
            "\n",
            "Your credit card debt should be your **top priority**. At 18% interest, you're paying approximately $150/month just in interest.\n",
            "\n",
            "### Immediate Actions:\n",
            "1. **Stop using credit cards** - Switch to cash/debit only\n",
            "2. **Apply $10,000 from savings** to pay off the debt immediately\n",
            "   - This saves you ~$1,800/year in interest\n",
            "   - Improves your credit score for better mortgage rates\n",
            "   - Leaves you with $10,000 emergency fund\n",
            "\n",
            "### Alternative Approach (if uncomfortable using all savings):\n",
            "- Pay $1,500/month toward credit cards\n",
            "- Debt-free in 7-8 months\n",
            "- Total interest paid: ~$600\n",
            "\n",
            "## **Savings and Investment Plan**\n",
            "\n",
            "### Down Payment Target:\n",
            "- **Goal**: 20% down payment to avoid PMI (Private Mortgage Insurance)\n",
            "- **Estimated home price**: $250,000-$300,000 (based on income)\n",
            "- **Target savings**: $50,000-$60,000\n",
            "\n",
            "### Monthly Savings Strategy:\n",
            "After debt payoff, allocate **$1,500-$2,000/month** toward house savings:\n",
            "\n",
            "1. **High-Yield Savings Account** (Years 1-3)\n",
            "   - Current rates: 4-5% APY\n",
            "   - Keep funds liquid and safe\n",
            "   - Recommended: Ally, Marcus, or Capital One 360\n",
            "\n",
            "2. **Short-term Investment Mix** (Years 2-4)\n",
            "   - 70% in high-yield savings\n",
            "   - 30% in conservative bond funds or CDs\n",
            "   - Avoid stocks due to short timeline\n",
            "\n",
            "### Projected Savings Timeline:\n",
            "- Starting balance: $10,000\n",
            "- Monthly contribution: $1,750\n",
            "- 5-year projection: ~$115,000 (including interest)\n",
            "\n",
            "## **Budgeting Framework**\n",
            "\n",
            "### Recommended Monthly Budget ($70,000 annual = ~$4,500 take-home):\n",
            "- **Housing**: $1,125 (25%)\n",
            "- **Transportation**: $450 (10%)\n",
            "- **Food/Groceries**: $450 (10%)\n",
            "- **Utilities/Phone**: $225 (5%)\n",
            "- **Insurance**: $200 (4%)\n",
            "- **Personal/Entertainment**: $300 (7%)\n",
            "- **House Savings**: $1,750 (39%)\n",
            "\n",
            "### Budgeting Tools:\n",
            "1. **Apps**: Mint, YNAB, or Personal Capital\n",
            "2. **Envelope method** for discretionary spending\n",
            "3. **Automate savings** immediately after paycheck\n",
            "\n",
            "### Cost-Cutting Opportunities:\n",
            "- Meal prep to save $200-300/month\n",
            "- Negotiate bills (phone, insurance, subscriptions)\n",
            "- Consider a side hustle to boost income by $500-1000/month\n",
            "\n",
            "## **Homeownership Preparation**\n",
            "\n",
            "### Credit Score Improvement:\n",
            "1. Pay all bills on time (35% of score)\n",
            "2. Keep credit utilization below 30%\n",
            "3. Don't close old credit cards\n",
            "4. Check credit reports annually (free at annualcreditreport.com)\n",
            "5. **Target score**: 740+ for best rates\n",
            "\n",
            "### Pre-Purchase Checklist:\n",
            "1. **Year 3**: Get pre-qualified to understand buying power\n",
            "2. **Year 4**: Start researching neighborhoods and attending open houses\n",
            "3. **Year 4.5**: Interview real estate agents and mortgage brokers\n",
            "4. **Year 5**: Get pre-approved and begin active house hunting\n",
            "\n",
            "### Additional Costs to Budget For:\n",
            "- **Closing costs**: 2-5% of home price ($5,000-$15,000)\n",
            "- **Home inspection**: $400-600\n",
            "- **Moving expenses**: $2,000-5,000\n",
            "- **Emergency repairs**: $5,000-10,000\n",
            "- **Furniture/appliances**: $5,000-10,000\n",
            "\n",
            "### First-Time Homebuyer Programs:\n",
            "- **FHA loans**: Only 3.5% down required\n",
            "- **State/local programs**: Down payment assistance available\n",
            "- **VA loans**: If eligible, 0% down options\n",
            "- **USDA loans**: For rural areas, 0% down\n",
            "\n",
            "## **Action Plan Summary**\n",
            "\n",
            "### Next 6 Months:\n",
            "1. Pay off credit card debt\n",
            "2. Build budget and track spending\n",
            "3. Open high-yield savings account\n",
            "4. Automate $1,750/month savings\n",
            "\n",
            "### Years 1-2:\n",
            "1. Build emergency fund to $15,000\n",
            "2. Increase income through raises/side work\n",
            "3. Continue aggressive saving\n",
            "4. Monitor and improve credit score\n",
            "\n",
            "### Years 3-4:\n",
            "1. Research home buying process\n",
            "2. Consider first-time buyer courses\n",
            "3. Evaluate investment options for portion of savings\n",
            "4. Network with real estate professionals\n",
            "\n",
            "### Year 5:\n",
            "1. Get mortgage pre-approval\n",
            "2. Work with real estate agent\n",
            "3. Make competitive offer with 20% down\n",
            "4. Close on your home!\n",
            "\n",
            "## **Key Success Factors**\n",
            "\n",
            "1. **Discipline**: Stick to the budget religiously\n",
            "2. **Patience**: Avoid lifestyle inflation as income grows\n",
            "3. **Education**: Learn about mortgages, home maintenance, and real estate\n",
            "4. **Flexibility**: Adjust plan if circumstances change\n",
            "\n",
            "With dedication to this plan, you'll be well-positioned to purchase a home in 5 years with a strong down payment and excellent financial foundation. Remember, homeownership is a marathon, not a sprint!\n"
          ]
        }
      ]
    },
    {
      "cell_type": "markdown",
      "source": [
        "## open ai"
      ],
      "metadata": {
        "id": "dVaKh4SP0EA2"
      }
    },
    {
      "cell_type": "code",
      "source": [
        "!pip install colab-env --upgrade -q\n",
        "!pip install openai -q\n",
        "import os\n",
        "import colab_env\n",
        "import json\n",
        "import openai"
      ],
      "metadata": {
        "id": "KOI1rucOz4wE"
      },
      "execution_count": 15,
      "outputs": []
    },
    {
      "cell_type": "code",
      "source": [
        "from openai import OpenAI\n",
        "client = OpenAI(api_key = os.getenv(\"OPENAI_API_KEY\"))"
      ],
      "metadata": {
        "id": "ZlCBGpl00NC7"
      },
      "execution_count": 16,
      "outputs": []
    },
    {
      "cell_type": "code",
      "source": [
        "from openai import OpenAI\n",
        "client = OpenAI()\n",
        "\n",
        "modellist=client.models.list()\n",
        "modellist.data"
      ],
      "metadata": {
        "colab": {
          "base_uri": "https://localhost:8080/"
        },
        "id": "i6LeWLm10RSi",
        "outputId": "c716f28d-8843-470c-9216-dc00dd356428"
      },
      "execution_count": 17,
      "outputs": [
        {
          "output_type": "execute_result",
          "data": {
            "text/plain": [
              "[Model(id='dall-e-2', created=1698798177, object='model', owned_by='system'),\n",
              " Model(id='gpt-4o-mini-2024-07-18', created=1721172717, object='model', owned_by='system'),\n",
              " Model(id='gpt-4o-mini', created=1721172741, object='model', owned_by='system'),\n",
              " Model(id='babbage-002', created=1692634615, object='model', owned_by='system'),\n",
              " Model(id='gpt-4o-2024-11-20', created=1739331543, object='model', owned_by='system'),\n",
              " Model(id='whisper-1', created=1677532384, object='model', owned_by='openai-internal'),\n",
              " Model(id='gpt-4o-mini-search-preview', created=1741391161, object='model', owned_by='system'),\n",
              " Model(id='gpt-4o-mini-search-preview-2025-03-11', created=1741390858, object='model', owned_by='system'),\n",
              " Model(id='davinci-002', created=1692634301, object='model', owned_by='system'),\n",
              " Model(id='gpt-4-0314', created=1687882410, object='model', owned_by='openai'),\n",
              " Model(id='tts-1-hd', created=1699046015, object='model', owned_by='system'),\n",
              " Model(id='gpt-4.1-2025-04-14', created=1744315746, object='model', owned_by='system'),\n",
              " Model(id='gpt-4-turbo-2024-04-09', created=1712601677, object='model', owned_by='system'),\n",
              " Model(id='gpt-4-turbo', created=1712361441, object='model', owned_by='system'),\n",
              " Model(id='o3-mini-2025-01-31', created=1738010200, object='model', owned_by='system'),\n",
              " Model(id='gpt-4.1', created=1744316542, object='model', owned_by='system'),\n",
              " Model(id='gpt-3.5-turbo-instruct-0914', created=1694122472, object='model', owned_by='system'),\n",
              " Model(id='gpt-4.1-mini-2025-04-14', created=1744317547, object='model', owned_by='system'),\n",
              " Model(id='gpt-4.1-mini', created=1744318173, object='model', owned_by='system'),\n",
              " Model(id='gpt-3.5-turbo-instruct', created=1692901427, object='model', owned_by='system'),\n",
              " Model(id='gpt-4o-mini-tts', created=1742403959, object='model', owned_by='system'),\n",
              " Model(id='gpt-4.1-nano-2025-04-14', created=1744321025, object='model', owned_by='system'),\n",
              " Model(id='gpt-4o', created=1715367049, object='model', owned_by='system'),\n",
              " Model(id='o3-2025-04-16', created=1744133301, object='model', owned_by='system'),\n",
              " Model(id='o4-mini-2025-04-16', created=1744133506, object='model', owned_by='system'),\n",
              " Model(id='gpt-4', created=1687882411, object='model', owned_by='openai'),\n",
              " Model(id='text-embedding-ada-002', created=1671217299, object='model', owned_by='openai-internal'),\n",
              " Model(id='o1-2024-12-17', created=1734326976, object='model', owned_by='system'),\n",
              " Model(id='gpt-4-32k-0314', created=1687979321, object='model', owned_by='openai'),\n",
              " Model(id='dall-e-3', created=1698785189, object='model', owned_by='system'),\n",
              " Model(id='tts-1-hd-1106', created=1699053533, object='model', owned_by='system'),\n",
              " Model(id='o3-mini', created=1737146383, object='model', owned_by='system'),\n",
              " Model(id='gpt-4o-audio-preview', created=1727460443, object='model', owned_by='system'),\n",
              " Model(id='gpt-4o-2024-05-13', created=1715368132, object='model', owned_by='system'),\n",
              " Model(id='gpt-4o-search-preview-2025-03-11', created=1741388170, object='model', owned_by='system'),\n",
              " Model(id='gpt-4o-search-preview', created=1741388720, object='model', owned_by='system'),\n",
              " Model(id='gpt-3.5-turbo-16k', created=1683758102, object='model', owned_by='openai-internal'),\n",
              " Model(id='o1-mini', created=1725649008, object='model', owned_by='system'),\n",
              " Model(id='gpt-4-0613', created=1686588896, object='model', owned_by='openai'),\n",
              " Model(id='gpt-4o-realtime-preview', created=1727659998, object='model', owned_by='system'),\n",
              " Model(id='o1-mini-2024-09-12', created=1725648979, object='model', owned_by='system'),\n",
              " Model(id='gpt-4.1-nano', created=1744321707, object='model', owned_by='system'),\n",
              " Model(id='gpt-4o-transcribe', created=1742068463, object='model', owned_by='system'),\n",
              " Model(id='gpt-4o-2024-08-06', created=1722814719, object='model', owned_by='system'),\n",
              " Model(id='gpt-4.5-preview', created=1740623059, object='model', owned_by='system'),\n",
              " Model(id='gpt-4.5-preview-2025-02-27', created=1740623304, object='model', owned_by='system'),\n",
              " Model(id='gpt-4-turbo-preview', created=1706037777, object='model', owned_by='system'),\n",
              " Model(id='gpt-4-0125-preview', created=1706037612, object='model', owned_by='system'),\n",
              " Model(id='gpt-4o-realtime-preview-2024-10-01', created=1727131766, object='model', owned_by='system'),\n",
              " Model(id='gpt-4-1106-preview', created=1698957206, object='model', owned_by='system'),\n",
              " Model(id='gpt-3.5-turbo', created=1677610602, object='model', owned_by='openai'),\n",
              " Model(id='gpt-4o-mini-realtime-preview-2024-12-17', created=1734112601, object='model', owned_by='system'),\n",
              " Model(id='gpt-4o-mini-audio-preview-2024-12-17', created=1734115920, object='model', owned_by='system'),\n",
              " Model(id='chatgpt-4o-latest', created=1723515131, object='model', owned_by='system'),\n",
              " Model(id='gpt-4o-mini-realtime-preview', created=1734387380, object='model', owned_by='system'),\n",
              " Model(id='o3', created=1744225308, object='model', owned_by='system'),\n",
              " Model(id='o4-mini', created=1744225351, object='model', owned_by='system'),\n",
              " Model(id='gpt-4o-audio-preview-2024-12-17', created=1734034239, object='model', owned_by='system'),\n",
              " Model(id='o1-pro-2025-03-19', created=1742251504, object='model', owned_by='system'),\n",
              " Model(id='gpt-3.5-turbo-1106', created=1698959748, object='model', owned_by='system'),\n",
              " Model(id='computer-use-preview-2025-03-11', created=1741377021, object='model', owned_by='system'),\n",
              " Model(id='o1', created=1734375816, object='model', owned_by='system'),\n",
              " Model(id='tts-1-1106', created=1699053241, object='model', owned_by='system'),\n",
              " Model(id='gpt-4o-audio-preview-2024-10-01', created=1727389042, object='model', owned_by='system'),\n",
              " Model(id='tts-1', created=1681940951, object='model', owned_by='openai-internal'),\n",
              " Model(id='o1-pro', created=1742251791, object='model', owned_by='system'),\n",
              " Model(id='gpt-3.5-turbo-0125', created=1706048358, object='model', owned_by='system'),\n",
              " Model(id='codex-mini-latest', created=1746673257, object='model', owned_by='system'),\n",
              " Model(id='gpt-4o-realtime-preview-2024-12-17', created=1733945430, object='model', owned_by='system'),\n",
              " Model(id='gpt-4o-mini-audio-preview', created=1734387424, object='model', owned_by='system'),\n",
              " Model(id='text-embedding-3-small', created=1705948997, object='model', owned_by='system'),\n",
              " Model(id='text-embedding-3-large', created=1705953180, object='model', owned_by='system'),\n",
              " Model(id='gpt-4o-mini-transcribe', created=1742068596, object='model', owned_by='system'),\n",
              " Model(id='computer-use-preview', created=1734655677, object='model', owned_by='system'),\n",
              " Model(id='o1-preview', created=1725648897, object='model', owned_by='system'),\n",
              " Model(id='o1-preview-2024-09-12', created=1725648865, object='model', owned_by='system'),\n",
              " Model(id='omni-moderation-2024-09-26', created=1732734466, object='model', owned_by='system'),\n",
              " Model(id='omni-moderation-latest', created=1731689265, object='model', owned_by='system'),\n",
              " Model(id='gpt-image-1', created=1745517030, object='model', owned_by='system'),\n",
              " Model(id='ft:gpt-3.5-turbo-0125:xamrysoft::9cSMOUWb', created=1718952508, object='model', owned_by='user-mgtzrbiiso3g68oicniq0obp'),\n",
              " Model(id='ft:gpt-3.5-turbo-0125:xamrysoft::BFrv8lmq:ckpt-step-534', created=1743121890, object='model', owned_by='user-mgtzrbiiso3g68oicniq0obp'),\n",
              " Model(id='ft:gpt-3.5-turbo-0125:xamrysoft::BFrv8JcD:ckpt-step-1068', created=1743121890, object='model', owned_by='user-mgtzrbiiso3g68oicniq0obp'),\n",
              " Model(id='ft:gpt-3.5-turbo-0125:xamrysoft::BFrv8bF5', created=1743121890, object='model', owned_by='user-mgtzrbiiso3g68oicniq0obp'),\n",
              " Model(id='ft:gpt-3.5-turbo-0125:xamrysoft::BFmGttyM', created=1743100177, object='model', owned_by='user-mgtzrbiiso3g68oicniq0obp'),\n",
              " Model(id='ft:gpt-3.5-turbo-0125:xamrysoft::BFmGnb0y:ckpt-step-72', created=1743100171, object='model', owned_by='user-mgtzrbiiso3g68oicniq0obp'),\n",
              " Model(id='ft:gpt-3.5-turbo-0125:xamrysoft::BFmGqG94:ckpt-step-84', created=1743100174, object='model', owned_by='user-mgtzrbiiso3g68oicniq0obp'),\n",
              " Model(id='ft:gpt-3.5-turbo-0125:xamrysoft::BFqZ0t1n:ckpt-step-534', created=1743116677, object='model', owned_by='user-mgtzrbiiso3g68oicniq0obp'),\n",
              " Model(id='ft:gpt-3.5-turbo-0125:xamrysoft::BFqZ9l56', created=1743116686, object='model', owned_by='user-mgtzrbiiso3g68oicniq0obp'),\n",
              " Model(id='ft:gpt-3.5-turbo-0125:xamrysoft::BFqZ4Cdn:ckpt-step-1068', created=1743116682, object='model', owned_by='user-mgtzrbiiso3g68oicniq0obp')]"
            ]
          },
          "metadata": {},
          "execution_count": 17
        }
      ]
    },
    {
      "cell_type": "code",
      "source": [
        "import openai\n",
        "\n",
        "# Set your API key\n",
        "openai.api_key = os.getenv(\"ΟΡΕΝΑΙ_ΑΡΙ_KEY\")\n",
        "\n",
        "# Updated prompt for financial advice\n",
        "financial_advice_prompt = \"\"\"\n",
        "You are a financial advisor. A client comes to you with the following situation:\n",
        "\n",
        "* They are 30 years old and earn $70,000 per year.\n",
        "* They have $20,000 in savings.\n",
        "* They have $10,000 in credit card debt at an 18% interest rate.\n",
        "* They want to buy a house in 5 years.\n",
        "\n",
        "What financial advice would you give them to achieve their goal? Be specific and provide detailed recommendations, including:\n",
        "\n",
        "* Debt Management: Strategies for paying off credit card debt.\n",
        "* Savings and Investment: Recommendations for saving and investing for a down payment.\n",
        "* Budgeting: Tips for creating and sticking to a budget.\n",
        "* Homeownership: Information on the home buying process and factors to consider.\n",
        "\"\"\"\n",
        "\n",
        "class FinancialAdvisorAgent:\n",
        "    def __init__(self):\n",
        "        # No need to initialize an LLM object here\n",
        "        self.financial_advice_prompt = financial_advice_prompt\n",
        "\n",
        "    def generate_financial_plan(self):\n",
        "        response = client.chat.completions.create(\n",
        "            #model=\"gpt-3.5-turbo\",  # Use the specified model\n",
        "            model=\"o4-mini\",\n",
        "            messages=[\n",
        "                {\"role\": \"system\", \"content\": \"You are a helpful and informative financial advisor.\"},\n",
        "                {\"role\": \"user\", \"content\": self.financial_advice_prompt}\n",
        "            ]\n",
        "        )\n",
        "        #return response.choices.message.content\n",
        "        return response.choices[0].message.content\n",
        "\n",
        "# Initialize the agent\n",
        "agent = FinancialAdvisorAgent()\n",
        "\n",
        "# Generate the financial advice\n",
        "financial_advice = agent.generate_financial_plan()\n",
        "\n",
        "# Print the financial advice\n",
        "print(financial_advice)"
      ],
      "metadata": {
        "colab": {
          "base_uri": "https://localhost:8080/"
        },
        "id": "-ulwChsa0TnQ",
        "outputId": "2103627f-b79f-4381-a968-ed15f26f4cfd"
      },
      "execution_count": 18,
      "outputs": [
        {
          "output_type": "stream",
          "name": "stdout",
          "text": [
            "Here’s a five-year, step-by-step plan to eliminate your high-interest debt, build a solid emergency fund, save a 20% down payment on a home, and prepare yourself for homeownership. All figures assume roughly $4,200 net per month (70 K gross → ~$50 K after tax).\n",
            "\n",
            "1. Debt Management (Credit Card at 18% APR)  \n",
            "   a. Avalanche method: focus every extra dollar on your 18% card.  \n",
            "   b. Minimum payment (≈$200) + extra allocation of $800–$1,000/month → total payment $1,000–$1,200.  \n",
            "      • At $1,000/month you erase $10 000 in about 10 months.  \n",
            "      • Interest in that period ≈ $400–500.  \n",
            "   c. Alternative: 0% balance-transfer card (12–18 months promo) or a 7–10% personal-loan refinance.  \n",
            "      • Example: $10 000 at 0% for 12 months → pay $840/month, save ~$800 in interest.  \n",
            "   d. As soon as debt is gone, re-direct that $1 000+/month toward your down-payment fund.\n",
            "\n",
            "2. Emergency Fund & Savings Allocation  \n",
            "   a. Keep 3–6 months of living expenses on hand:  \n",
            "      • Monthly core expenses ≈ $3 000 → target $9 000–$18 000.  \n",
            "      • You already have $20 000 in savings: earmark $15 000 for emergencies.  \n",
            "   b. Down-payment seed: the remaining $5 000 sits in a separate “Home” high-yield savings account.  \n",
            "   c. After debt payoff (month 10–12), you’ll have:  \n",
            "      • Emergency fund intact at $15 000.  \n",
            "      • $5 000 down-payment seed.  \n",
            "      • Full $1 000+/month freed for savings.\n",
            "\n",
            "3. Down-Payment Target & Investment Vehicle  \n",
            "   a. Goal: 20% on a $300 000 home = $60 000, plus 2–5% closing costs ($6–15 000) → total $66 000–$75 000.  \n",
            "   b. Timeline: 5 years = 60 months → average $1 100/month.  \n",
            "   c. Early years (months 1–12): while paying debt, contribute at least $200/month to down‐payment fund → +$2 400 in year 1.  \n",
            "   d. Years 2–5: $1 200–$1 400/month into high-yield savings or a CD ladder (3- to 12-month CDs) to maximize yield and liquidity.  \n",
            "   e. Total by Year 5:  \n",
            "      • Year 1: $5 000 seed + $2 400 = ~$7 400  \n",
            "      • Years 2–5: $1 300/mo × 48 mo = $62 400  \n",
            "      • Combined ≈ $69 800 → covers 20% down + closing.\n",
            "\n",
            "4. Budgeting & Cash-Flow Control  \n",
            "   a. Start with a zero-based budget (every dollar assigned):  \n",
            "      • Fixed “Needs” (rent, utilities, insurance, groceries) = ~50% gross net → $2 100/mo  \n",
            "      • “Wants” (dining out, streaming, vacations) = ~15–20% → $630–$840/mo  \n",
            "      • “Savings + Debt” = ~30–35% → $1 260–$1 470/mo  \n",
            "   b. Track all spending with an app (Mint, YNAB, Personal Capital). Review weekly.  \n",
            "   c. Trim recurring costs:  \n",
            "      • Cancel unused subscriptions.  \n",
            "      • Refinance auto or negotiate insurance.  \n",
            "      • Shop phone/internet plans.  \n",
            "   d. Automate:  \n",
            "      • Pay credit card $1 000/mo on day after payday.  \n",
            "      • Transfer $200–$1 300 to down-payment account on each payday.  \n",
            "      • Forward 5–10% of income into retirement (401(k) match + Roth IRA) without touching your home fund.\n",
            "\n",
            "5. Preparing for Homeownership  \n",
            "   a. Credit and DTI: keep credit score >700; debt-to-income under 36–43%. After debt payoff you’ll be in great shape.  \n",
            "   b. Pre-approval: start 6–12 months before purchase. You’ll need:  \n",
            "      • Two years’ tax returns, W-2s/pay stubs, bank statements.  \n",
            "      • A mortgage broker or direct lender.  \n",
            "   c. Loan types:  \n",
            "      • Conventional 20% down (no PMI).  \n",
            "      • FHA (3.5% down + mortgage insurance).  \n",
            "      • VA/USDA if you qualify (0% down).  \n",
            "   d. Additional costs:  \n",
            "      • Closing costs 2–5% of purchase price.  \n",
            "      • Home inspection ($300–$500).  \n",
            "      • Moving, repairs, maintenance (~1–2% of home value per year).  \n",
            "   e. Neighborhood research:  \n",
            "      • School quality, commute, safety, future development.  \n",
            "      • Use online tools (Zillow, Redfin) and drive neighborhoods at various times.\n",
            "\n",
            "6. Sample Five-Year Timeline  \n",
            "   Year 1 (0–12 months)  \n",
            "     • Pay off credit card (months 1–10).  \n",
            "     • Contribute $200/mo to down-payment fund → ~$2 400.  \n",
            "     • Maintain emergency fund at $15 000.  \n",
            "   Years 2–5 (months 13–60)  \n",
            "     • Allocate $1 200–$1 400/mo to home fund.  \n",
            "     • Continue retirement savings (10–15% of gross).  \n",
            "     • Monitor housing markets, interest rates.  \n",
            "     • Year 4 end: get pre-qualified; refine home price target.  \n",
            "     • Year 5: house hunt, make offers, close.\n",
            "\n",
            "By attacking high-interest debt first, automating a disciplined savings plan, keeping living costs in check, and learning the steps of mortgage underwriting, you’ll be debt-free within a year and on track to close on a 20%-down home purchase in five years. Good luck, and let me know if you need lender or realtor referrals!\n"
          ]
        }
      ]
    },
    {
      "cell_type": "markdown",
      "source": [
        "## mistral"
      ],
      "metadata": {
        "id": "l9ocd9z_1JtR"
      }
    },
    {
      "cell_type": "code",
      "source": [
        "!pip install colab-env --upgrade -q\n",
        "!pip install mistralai --quiet\n",
        "\n",
        "\n",
        "import colab_env"
      ],
      "metadata": {
        "id": "IiblvZcQ0-4t",
        "colab": {
          "base_uri": "https://localhost:8080/"
        },
        "outputId": "daa15976-4088-42ef-e4fe-e1e6093bf428"
      },
      "execution_count": 19,
      "outputs": [
        {
          "output_type": "stream",
          "name": "stdout",
          "text": [
            "\u001b[?25l   \u001b[90m━━━━━━━━━━━━━━━━━━━━━━━━━━━━━━━━━━━━━━━━\u001b[0m \u001b[32m0.0/373.2 kB\u001b[0m \u001b[31m?\u001b[0m eta \u001b[36m-:--:--\u001b[0m\r\u001b[2K   \u001b[90m━━━━━━━━━━━━━━━━━━━━━━━━━━━━━━━━━━━━━━━━\u001b[0m \u001b[32m373.2/373.2 kB\u001b[0m \u001b[31m12.6 MB/s\u001b[0m eta \u001b[36m0:00:00\u001b[0m\n",
            "\u001b[?25h"
          ]
        }
      ]
    },
    {
      "cell_type": "code",
      "source": [
        "import os\n",
        "from mistralai import Mistral # Import Mistral instead of MistralClient\n",
        "\n",
        "api_key = os.environ[\"MISTRAL_API_KEY\"]\n",
        "#model = \"mistral-large-latest\"\n",
        "model = \"ministral-3b-latest\"\n",
        "\n",
        "client = Mistral(api_key=api_key) # Use Mistral instead of MistralClient"
      ],
      "metadata": {
        "id": "pyAethBd1Snc"
      },
      "execution_count": 20,
      "outputs": []
    },
    {
      "cell_type": "code",
      "source": [
        "import os\n",
        "from mistralai import Mistral\n",
        "\n",
        "# Set your API key\n",
        "api_key = os.environ[\"MISTRAL_API_KEY\"]\n",
        "model = \"mistral-large-latest\"\n",
        "\n",
        "# Initialize Mistral\n",
        "client = Mistral(api_key=api_key)\n",
        "\n",
        "# Updated prompt for financial advice\n",
        "financial_advice_prompt = \"\"\"\n",
        "You are a financial advisor. A client comes to you with the following situation:\n",
        "\n",
        "* They are 30 years old and earn $70,000 per year.\n",
        "* They have $20,000 in savings.\n",
        "* They have $10,000 in credit card debt at an 18% interest rate.\n",
        "* They want to buy a house in 5 years.\n",
        "\n",
        "What financial advice would you give them to achieve their goal? Be specific and provide detailed recommendations, including:\n",
        "\n",
        "* Debt Management: Strategies for paying off credit card debt.\n",
        "* Savings and Investment: Recommendations for saving and investing for a down payment.\n",
        "* Budgeting: Tips for creating and sticking to a budget.\n",
        "* Homeownership: Information on the home buying process and factors to consider.\n",
        "\"\"\"\n",
        "\n",
        "class FinancialAdvisorAgent:\n",
        "    def __init__(self):\n",
        "        # No need to initialize an LLM object here\n",
        "        self.financial_advice_prompt = financial_advice_prompt\n",
        "\n",
        "    def generate_financial_plan(self):\n",
        "        response = client.chat.complete(\n",
        "            model=model,\n",
        "            messages=[\n",
        "                {\"role\": \"user\", \"content\": self.financial_advice_prompt},\n",
        "            ]\n",
        "        )\n",
        "        #return response.choices.message.content\n",
        "        return response.choices[0].message.content\n",
        "\n",
        "# Initialize the agent\n",
        "agent = FinancialAdvisorAgent()\n",
        "\n",
        "# Generate the financial advice\n",
        "financial_advice = agent.generate_financial_plan()\n",
        "\n",
        "# Print the financial advice\n",
        "print(financial_advice)"
      ],
      "metadata": {
        "colab": {
          "base_uri": "https://localhost:8080/"
        },
        "id": "ctaj6CLo1aPt",
        "outputId": "5615922d-859a-4816-eeb3-7b03d133291d"
      },
      "execution_count": 21,
      "outputs": [
        {
          "output_type": "stream",
          "name": "stdout",
          "text": [
            "Certainly! Let's break down the financial advice into specific areas to help your client achieve their goal of buying a house in 5 years.\n",
            "\n",
            "### Debt Management\n",
            "1. **Prioritize Paying Off Credit Card Debt:**\n",
            "   - **Aggressive Repayment Plan:** Given the high interest rate of 18%, focus on paying off the credit card debt as quickly as possible. Allocate a significant portion of your monthly income towards this debt.\n",
            "   - **Balance Transfer:** Consider transferring the debt to a credit card with a 0% introductory APR for balance transfers. Ensure you can pay off the balance within the introductory period.\n",
            "   - **Negotiate Lower Interest Rate:** Call the credit card company and negotiate a lower interest rate.\n",
            "   - **Avoid New Debt:** Stop using the credit card until the debt is paid off to avoid accumulating more debt.\n",
            "\n",
            "### Savings and Investment\n",
            "1. **Emergency Fund:**\n",
            "   - Ensure you have an emergency fund covering 3-6 months of living expenses. With a $70,000 annual income, aim for $10,000-$20,000.\n",
            "\n",
            "2. **High-Yield Savings Account:**\n",
            "   - Open a high-yield savings account for your emergency fund and short-term savings. This ensures easy access and better returns compared to traditional savings accounts.\n",
            "\n",
            "3. **Invest for the Down Payment:**\n",
            "   - **Automate Savings:** Set up automatic transfers to a separate savings account dedicated to your down payment.\n",
            "   - **Investment Options:**\n",
            "     - **CDs or Money Market Accounts:** For lower-risk investments, consider Certificates of Deposit (CDs) or money market accounts.\n",
            "     - **ETFs or Mutual Funds:** For potentially higher returns, invest in low-cost index funds or ETFs, but be aware of market risks.\n",
            "   - **Retirement Savings:** Continue contributing to retirement accounts (401k, IRA) for long-term financial health, but focus additional savings towards the down payment.\n",
            "\n",
            "### Budgeting\n",
            "1. **Create a Budget:**\n",
            "   - **Track Income and Expenses:** Use budgeting software or spreadsheets to track all income and expenses.\n",
            "   - **Set Financial Goals:** Allocate funds towards debt repayment, savings, and living expenses.\n",
            "   - **Cut Discretionary Spending:** Review spending habits and cut non-essential expenses.\n",
            "\n",
            "2. **Save on Fixed Expenses:**\n",
            "   - **Housing:** Consider downsizing or finding a roommate to reduce housing costs.\n",
            "   - **Transportation:** Use public transportation, carpool, or consider a more fuel-efficient vehicle.\n",
            "   - **Insurance:** Shop around for better rates on car, health, and renter's insurance.\n",
            "\n",
            "3. **Increase Income:**\n",
            "   - **Side Hustle:** Look for ways to earn extra income, such as freelancing, part-time jobs, or selling unused items.\n",
            "   - **Career Advancement:** Pursue career development opportunities to increase your earning potential.\n",
            "\n",
            "### Homeownership\n",
            "1. **Understand the Home Buying Process:**\n",
            "   - **Credit Score:** Improve and maintain a good credit score to qualify for better mortgage rates.\n",
            "   - **Down Payment:** Aim for a 20% down payment to avoid Private Mortgage Insurance (PMI), but be aware of low down payment options.\n",
            "   - **Mortgage Pre-approval:** Get pre-approved for a mortgage to understand your borrowing capacity.\n",
            "\n",
            "2. **Factors to Consider:**\n",
            "   - **Location:** Research neighborhoods, schools, and commute times.\n",
            "   - **Property Type:** Decide between a single-family home, condo, or townhouse.\n",
            "   - **Budget:** Determine your budget for the house, including the down payment, closing costs, and ongoing expenses (property taxes, insurance, maintenance).\n",
            "\n",
            "3. **Financial Planning:**\n",
            "   - **Housing Costs:** Understand all costs associated with homeownership, such as mortgage payments, utilities, maintenance, and insurance.\n",
            "   - **Closing Costs:** Save for closing costs, which typically range from 2% to 5% of the home's purchase price.\n",
            "\n",
            "### Timeline and Action Plan\n",
            "1. **Year 1:** Focus on paying off the $10,000 credit card debt.\n",
            "2. **Year 2-3:** Build your emergency fund and start saving for the down payment.\n",
            "3. **Year 4:** Increase savings and consider investment options for the down payment.\n",
            "4. **Year 5:** Finalize your down payment savings, get mortgage pre-approval, and start the home-buying process.\n",
            "\n",
            "By following this plan, your client will be well-positioned to achieve their goal of buying a house in 5 years.\n"
          ]
        }
      ]
    }
  ]
}