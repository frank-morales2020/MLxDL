{
  "cells": [
    {
      "cell_type": "markdown",
      "metadata": {
        "id": "view-in-github",
        "colab_type": "text"
      },
      "source": [
        "<a href=\"https://colab.research.google.com/github/frank-morales2020/MLxDL/blob/main/%20%20MYVERSION_OnDemandLoaderTool.ipynb\" target=\"_parent\"><img src=\"https://colab.research.google.com/assets/colab-badge.svg\" alt=\"Open In Colab\"/></a>"
      ]
    },
    {
      "cell_type": "markdown",
      "id": "318d3e6d-8155-4f86-ac16-bdacaf041bb9",
      "metadata": {
        "id": "318d3e6d-8155-4f86-ac16-bdacaf041bb9"
      },
      "source": [
        "# OnDemandLoaderTool\n",
        "\n",
        "Our `OnDemandLoaderTool` is a powerful agent tool that allows for \"on-demand\" data querying from any data source on LlamaHub.\n",
        "\n",
        "This tool takes in a `BaseReader` data loader, and when called will 1) load data, 2) index data, and 3) query the data.\n",
        "\n",
        "In this walkthrough, we show how to use the `OnDemandLoaderTool` to convert our Wikipedia data loader into an accessible search tool for a LangChain agent."
      ]
    },
    {
      "cell_type": "code",
      "execution_count": 8,
      "id": "b3cb7c29",
      "metadata": {
        "id": "b3cb7c29"
      },
      "outputs": [],
      "source": [
        "%pip install llama-index-readers-wikipedia -q"
      ]
    },
    {
      "cell_type": "code",
      "execution_count": 9,
      "id": "d6815113",
      "metadata": {
        "id": "d6815113"
      },
      "outputs": [],
      "source": [
        "!pip install llama-index -q"
      ]
    },
    {
      "cell_type": "code",
      "execution_count": 10,
      "id": "d1680fc8-1904-4ea8-b8da-88306b365e7f",
      "metadata": {
        "id": "d1680fc8-1904-4ea8-b8da-88306b365e7f"
      },
      "outputs": [],
      "source": [
        "from llama_index.core.tools.ondemand_loader_tool import OnDemandLoaderTool\n",
        "from llama_index.readers.wikipedia import WikipediaReader\n",
        "from typing import List\n",
        "\n",
        "from pydantic import BaseModel"
      ]
    },
    {
      "cell_type": "code",
      "source": [
        "!pip install wikipedia -q"
      ],
      "metadata": {
        "id": "YryatPp3I5QX"
      },
      "id": "YryatPp3I5QX",
      "execution_count": 11,
      "outputs": []
    },
    {
      "cell_type": "code",
      "execution_count": 12,
      "id": "7c5caf3b-3544-4a39-be69-35e18ef12172",
      "metadata": {
        "id": "7c5caf3b-3544-4a39-be69-35e18ef12172"
      },
      "outputs": [],
      "source": [
        "reader = WikipediaReader()"
      ]
    },
    {
      "cell_type": "code",
      "execution_count": 13,
      "id": "ea9169ad-fe61-47da-bbdf-ce3a89c371a3",
      "metadata": {
        "id": "ea9169ad-fe61-47da-bbdf-ce3a89c371a3"
      },
      "outputs": [],
      "source": [
        "tool = OnDemandLoaderTool.from_defaults(\n",
        "    reader,\n",
        "    name=\"Wikipedia Tool\",\n",
        "    description=\"A tool for loading and querying articles from Wikipedia\",\n",
        ")"
      ]
    },
    {
      "cell_type": "code",
      "source": [
        "!pip install langchain -q"
      ],
      "metadata": {
        "id": "9DriPym1kPbc"
      },
      "id": "9DriPym1kPbc",
      "execution_count": 14,
      "outputs": []
    },
    {
      "cell_type": "code",
      "source": [
        "#added by Frank Morales(FM) 22/02/2024\n",
        "%pip install openai  --root-user-action=ignore -q\n",
        "%pip install colab-env --upgrade --quiet --root-user-action=ignore -q"
      ],
      "metadata": {
        "id": "FnFVfqM6kjhq"
      },
      "id": "FnFVfqM6kjhq",
      "execution_count": 15,
      "outputs": []
    },
    {
      "cell_type": "code",
      "source": [
        "#added by Frank Morales(FM) 22/02/2024\n",
        "import warnings\n",
        "warnings.filterwarnings('ignore')\n",
        "\n",
        "import colab_env\n",
        "import openai\n",
        "import os\n",
        "openai.api_key = os.getenv(\"OPENAI_API_KEY\")\n",
        "\n",
        "from openai import OpenAI\n",
        "client = OpenAI()"
      ],
      "metadata": {
        "id": "O1iCMmPHkkkW"
      },
      "id": "O1iCMmPHkkkW",
      "execution_count": 16,
      "outputs": []
    },
    {
      "cell_type": "code",
      "source": [
        "tool([\"Montreal\"], query_str=\"where is located the Montreal city?\")"
      ],
      "metadata": {
        "colab": {
          "base_uri": "https://localhost:8080/"
        },
        "id": "zdpNp8Tak858",
        "outputId": "3113cdc8-490d-4bb2-cebf-9909cb5f7197"
      },
      "id": "zdpNp8Tak858",
      "execution_count": 17,
      "outputs": [
        {
          "output_type": "execute_result",
          "data": {
            "text/plain": [
              "ToolOutput(content='Montreal is located in the southwest of the province of Quebec, Canada. It covers most of the Island of Montreal at the confluence of the Saint Lawrence and Ottawa Rivers.', tool_name='Wikipedia Tool', raw_input={'query': 'where is located the Montreal city?'}, raw_output=Response(response='Montreal is located in the southwest of the province of Quebec, Canada. It covers most of the Island of Montreal at the confluence of the Saint Lawrence and Ottawa Rivers.', source_nodes=[NodeWithScore(node=TextNode(id_='1d12cda0-0881-4b8c-a664-7c2d6a1caf21', embedding=None, metadata={}, excluded_embed_metadata_keys=[], excluded_llm_metadata_keys=[], relationships={<NodeRelationship.SOURCE: '1'>: RelatedNodeInfo(node_id='7954681', node_type=<ObjectType.DOCUMENT: '4'>, metadata={}, hash='2c83d3017e2b5e6fc169d91f22b0db0b2051c8680ec8b8b3c6165ff2d9afbd63'), <NodeRelationship.PREVIOUS: '2'>: RelatedNodeInfo(node_id='38e15442-d218-464a-adba-eaf658913e86', node_type=<ObjectType.TEXT: '1'>, metadata={}, hash='a6ac95b5b061dc44297b216cbeca5693e4592fd5f8dc476625dcc55dabb2819e'), <NodeRelationship.NEXT: '3'>: RelatedNodeInfo(node_id='6b96f192-4686-426c-aa1a-5641c2e88ed0', node_type=<ObjectType.TEXT: '1'>, metadata={}, hash='8faf4c36397eac44a173c0e165427e3a1685d179af1e84d8e9ed5e8a3f13d2db')}, text=\"In 1976, Montreal hosted the Summer Olympics. While the event brought the city international prestige and attention, the Olympic Stadium built for the event resulted in massive debt for the city. During the 1980s and early 1990s, Montreal experienced a slower rate of economic growth than many other major Canadian cities. Montreal was the site of the 1989 École Polytechnique massacre, one of Canada's worst mass shootings, where 25-year-old Marc Lépine shot and killed 14 people, all of them women, and wounded 14 other people before shooting himself at École Polytechnique.\\nMontreal was merged with the 27 surrounding municipalities on the Island of Montreal on January 1, 2002, creating a unified city encompassing the entire island. There was substantial resistance from the suburbs to the merger, with the perception being that it was forced on the mostly English suburbs by the Parti Québécois. As expected, this move proved unpopular and several mergers were later rescinded. Several former municipalities, totalling 13% of the population of the island, voted to leave the unified city in separate referendums in June 2004. The demerger took place on January 1, 2006, leaving 15 municipalities on the island, including Montreal. Demerged municipalities remain affiliated with the city through an agglomeration council that collects taxes from them to pay for numerous shared services. The 2002 mergers were not the first in the city's history. Montreal annexed 27 other cities, towns and villages beginning with Hochelaga in 1883, with the last prior to 2002 being Pointe-aux-Trembles in 1982.\\nThe 21st century has brought with it a revival of the city's economic and cultural landscape. The construction of new residential skyscrapers, two super-hospitals (the Centre hospitalier de l'Université de Montréal and McGill University Health Centre), the creation of the Quartier des Spectacles, reconstruction of the Turcot Interchange, reconfiguration of the Decarie and Dorval interchanges, construction of the new Réseau express métropolitain, gentrification of Griffintown, subway line extensions and the purchase of new subway cars, the complete revitalization and expansion of Trudeau International Airport, the completion of Quebec Autoroute 30, the reconstruction of the Champlain Bridge and the construction of a new toll bridge to Laval are helping Montreal continue to grow.\\n\\n\\n== Geography ==\\n\\nMontreal is in the southwest of the province of Quebec. The city covers most of the Island of Montreal at the confluence of the Saint Lawrence and Ottawa Rivers. The port of Montreal lies at one end of the Saint Lawrence Seaway, the river gateway that stretches from the Great Lakes to the Atlantic. Montreal is defined by its location between the Saint Lawrence river to its south and the Rivière des Prairies to its north. The city is named after the most prominent geographical feature on the island, a three-head hill called Mount Royal, topped at 232 m (761 ft) above sea level.\\nMontreal is at the centre of the Montreal Metropolitan Community, and is bordered by the city of Laval to the north; Longueuil, Saint-Lambert, Brossard, and other municipalities to the south; Repentigny to the east and the West Island municipalities to the west. The anglophone enclaves of Westmount, Montreal West, Hampstead, Côte Saint-Luc, the Town of Mount Royal and the francophone enclave Montreal East are all surrounded by Montreal.\", start_char_idx=15652, end_char_idx=19086, text_template='{metadata_str}\\n\\n{content}', metadata_template='{key}: {value}', metadata_seperator='\\n'), score=0.8642497928902158), NodeWithScore(node=TextNode(id_='2491662e-4213-4d06-9164-364e25516ed6', embedding=None, metadata={}, excluded_embed_metadata_keys=[], excluded_llm_metadata_keys=[], relationships={<NodeRelationship.SOURCE: '1'>: RelatedNodeInfo(node_id='7954681', node_type=<ObjectType.DOCUMENT: '4'>, metadata={}, hash='2c83d3017e2b5e6fc169d91f22b0db0b2051c8680ec8b8b3c6165ff2d9afbd63'), <NodeRelationship.NEXT: '3'>: RelatedNodeInfo(node_id='d780392f-cc0c-4b5c-820a-09416ace3bb6', node_type=<ObjectType.TEXT: '1'>, metadata={}, hash='967027e3fc1ea38d673c22c2a15efbcc0f8806bf4c1c08bc2f1b761df084763f')}, text='Montreal (CA:   MUN-tree-AWL; French: Montréal [mɔ̃ʁeal] ) is the second most populous city in Canada, the tenth most populous city in North America, and the most populous city in the province of Quebec. Founded in 1642 as Ville-Marie, or \"City of Mary\", it is named after Mount Royal, the triple-peaked hill around which the early city of Ville-Marie was built. The city is centred on the Island of Montreal, which obtained its name from the same origin as the city, and a few much smaller peripheral islands, the largest of which is Île Bizard. The city is 196 km (122 mi) east of the national capital, Ottawa, and 258 km (160 mi) southwest of the provincial capital, Quebec City.\\nAs of 2021, the city has a population of 1,762,949, and a metropolitan  population of 4,291,732, making it the second-largest city, and second-largest metropolitan area in Canada. French is the city\\'s official language. In 2021, 85.7% of the population of the city of Montreal considered themselves fluent in French while 90.2% could speak it in the metropolitan area. Montreal is one of the most bilingual cities in Quebec and Canada, with 58.5% of the population able to speak both English and French.\\nHistorically the commercial capital of Canada, Montreal was surpassed in population and economic strength by Toronto in the 1970s. Montreal remains an important centre of art, culture, literature, film and television, music, commerce, aerospace, transport, finance, pharmaceuticals, technology, design, education, tourism, food, fashion, video game development, and world affairs. Montreal is the location of the headquarters of the International Civil Aviation Organization, and was named a UNESCO City of Design in 2006. In 2017, Montreal was ranked the 12th-most liveable city in the world by the Economist Intelligence Unit in its annual Global Liveability Ranking, although it slipped to rank 40 in the 2021 index, primarily due to stress on the healthcare system from the COVID-19 pandemic. It is regularly ranked as a top ten city in the world to be a university student in the QS World University Rankings.\\nMontreal has hosted multiple international conferences and events, including the 1967 International and Universal Exposition and the 1976 Summer Olympics. It is the only Canadian city to have held the Summer Olympics. In 2018, Montreal was ranked as a global city. The city hosts the Canadian Grand Prix of Formula One; the Montreal International Jazz Festival, the largest jazz festival in the world; the Just for Laughs festival, the largest comedy festival in the world; and Les Francos de Montréal, the largest French-language music festival in the world. In sports, it is home to the Montreal Canadiens of the National Hockey League, who have won the Stanley Cup 24 times, more than any other team.\\n\\n\\n== Etymology and original names ==\\n\\nIn the Ojibwe language, the land is called Mooniyaang which was \"the first stopping place\" in the Ojibwe migration story as related in the seven fires prophecy.\\nIn the Mohawk language, the land is called Tiohtià:ke. This is an abbreviation of Teionihtiohtiá:kon, which loosely translates as \"where the group divided/parted ways.\"\\nFrench settlers from La Flèche in the Loire valley first named their new town, founded in 1642, Ville Marie (\"City of Mary\"), named for the Virgin Mary.\\nThe current form of the name, Montréal, is generally thought to be derived from Mount Royal (Mont Royal in French), the triple-peaked hill in the heart of the city. There are multiple explanations for how Mont Royal became Montréal. In 16th century French, the forms réal and royal were used interchangeably, so Montréal could simply be a variant of Mont Royal. In the second explanation, the name came from an Italian translation. Venetian geographer Giovanni Battista Ramusio used the name Monte Real to designate Mount Royal in his 1556 map of the region. However, the Commission de toponymie du Québec disputes this explanation.\\nHistoriographer François de Belleforest was the first to use the form Montréal with reference to the entire region in 1575.\\n\\n\\n== History ==', start_char_idx=0, end_char_idx=4099, text_template='{metadata_str}\\n\\n{content}', metadata_template='{key}: {value}', metadata_seperator='\\n'), score=0.8626984610646548)], metadata={'1d12cda0-0881-4b8c-a664-7c2d6a1caf21': {}, '2491662e-4213-4d06-9164-364e25516ed6': {}}), is_error=False)"
            ]
          },
          "metadata": {},
          "execution_count": 17
        }
      ]
    },
    {
      "cell_type": "code",
      "source": [
        "# run tool as langchain structured tool\n",
        "lc_tool = tool.to_langchain_structured_tool(verbose=True)"
      ],
      "metadata": {
        "id": "7r8eF7CDlTdI"
      },
      "id": "7r8eF7CDlTdI",
      "execution_count": 18,
      "outputs": []
    },
    {
      "cell_type": "code",
      "source": [
        "from langchain.agents import AgentType, initialize_agent, load_tools\n",
        "#from langchain_openai import ChatOpenAI, OpenAI\n",
        "from langchain.llms import OpenAI\n",
        "from langchain.chat_models import ChatOpenAI\n",
        "\n",
        "#llm = ChatOpenAI(temperature=0.0)\n",
        "math_llm = OpenAI(temperature=0.0)\n",
        "\n",
        "#llm = ChatOpenAI(temperature=0, model_name=\"gpt-3.5-turbo\", streaming=True)\n",
        "llm = ChatOpenAI(temperature=0, model_name=\"gpt-4\", streaming=True)\n",
        "\n",
        "tools = load_tools(\n",
        "    [\"human\", \"llm-math\"],\n",
        "    llm=math_llm,\n",
        ")\n",
        "\n",
        "agent_chain = initialize_agent(\n",
        "    tools,\n",
        "    llm,\n",
        "    agent=AgentType.ZERO_SHOT_REACT_DESCRIPTION,\n",
        "    #agent=\"structured-chat-zero-shot-react-description\",\n",
        "    verbose=True,\n",
        ")\n",
        "\n",
        "agent = initialize_agent(\n",
        "    [lc_tool],\n",
        "    #tools,\n",
        "    llm,\n",
        "    agent=\"structured-chat-zero-shot-react-description\",\n",
        "    verbose=False,\n",
        ")"
      ],
      "metadata": {
        "id": "UMOqGNlmSsXW"
      },
      "id": "UMOqGNlmSsXW",
      "execution_count": 30,
      "outputs": []
    },
    {
      "cell_type": "code",
      "source": [
        "agent_chain.run(\"What's my friend Rafael's surname?\")\n",
        "# Answer with 'Reinaldo'"
      ],
      "metadata": {
        "colab": {
          "base_uri": "https://localhost:8080/",
          "height": 176
        },
        "id": "c3EdwMHlW56Z",
        "outputId": "b0502efd-5902-4157-ead6-7cdb18286ee6"
      },
      "id": "c3EdwMHlW56Z",
      "execution_count": 20,
      "outputs": [
        {
          "output_type": "stream",
          "name": "stdout",
          "text": [
            "\n",
            "\n",
            "\u001b[1m> Entering new AgentExecutor chain...\u001b[0m\n",
            "\u001b[32;1m\u001b[1;3mI don't have access to personal data about individuals unless it has been shared with me in the course of our conversation. I am designed to respect user privacy and confidentiality.\n",
            "Final Answer: I'm sorry, but I can't assist with that.\u001b[0m\n",
            "\n",
            "\u001b[1m> Finished chain.\u001b[0m\n"
          ]
        },
        {
          "output_type": "execute_result",
          "data": {
            "text/plain": [
              "\"I'm sorry, but I can't assist with that.\""
            ],
            "application/vnd.google.colaboratory.intrinsic+json": {
              "type": "string"
            }
          },
          "metadata": {},
          "execution_count": 20
        }
      ]
    },
    {
      "source": [
        "#agent.run(input={\"pages\": \"Montreal\", \"query_str\": \"What's the arts and culture scene in montreal?\"},query_str=\"What's the arts and culture scene in montreal?\")\n",
        "\n",
        "agent.run(input={\"pages\": \"Montreal\", \"query_str\": \"What's the arts and culture scene in montreal?\"})\n"
      ],
      "cell_type": "code",
      "metadata": {
        "colab": {
          "base_uri": "https://localhost:8080/",
          "height": 194
        },
        "id": "6pMJCwm3p1Vq",
        "outputId": "8d8ad62c-1092-46da-d1e7-309549f23799"
      },
      "id": "6pMJCwm3p1Vq",
      "execution_count": 31,
      "outputs": [
        {
          "output_type": "stream",
          "name": "stdout",
          "text": [
            "\n",
            "Observation: \u001b[36;1m\u001b[1;3mMontreal has a rich and diverse arts and culture scene, with a strong emphasis on music, festivals, and performing arts. The city is known for its vibrant cultural life, with over 100 annual festivals including the Montreal International Jazz Festival, the largest jazz festival in the world, and the Just for Laughs comedy festival. Montreal is also home to the Place des Arts complex, which hosts a variety of classical music performances, theatre productions, and dance shows. The city's cultural heritage is reflected in its numerous churches, with Montreal being renowned for its many historic churches and basilicas. Additionally, Montreal has been a significant setting for Quebec literature, with writers capturing the essence of the multicultural city in their works.\u001b[0m\n",
            "Thought:"
          ]
        },
        {
          "output_type": "execute_result",
          "data": {
            "text/plain": [
              "\"Montreal has a rich and diverse arts and culture scene, with a strong emphasis on music, festivals, and performing arts. The city is known for its vibrant cultural life, with over 100 annual festivals including the Montreal International Jazz Festival, the largest jazz festival in the world, and the Just for Laughs comedy festival. Montreal is also home to the Place des Arts complex, which hosts a variety of classical music performances, theatre productions, and dance shows. The city's cultural heritage is reflected in its numerous churches, with Montreal being renowned for its many historic churches and basilicas. Additionally, Montreal has been a significant setting for Quebec literature, with writers capturing the essence of the multicultural city in their works.\""
            ],
            "application/vnd.google.colaboratory.intrinsic+json": {
              "type": "string"
            }
          },
          "metadata": {},
          "execution_count": 31
        }
      ]
    },
    {
      "cell_type": "code",
      "source": [
        "response=agent.run(input={\"pages\": \"Montreal\", \"query_str\": \"What is the best restaurant in Montreal?\"})"
      ],
      "metadata": {
        "id": "tv9b32ywy8uc"
      },
      "id": "tv9b32ywy8uc",
      "execution_count": null,
      "outputs": []
    },
    {
      "cell_type": "code",
      "source": [
        "response"
      ],
      "metadata": {
        "colab": {
          "base_uri": "https://localhost:8080/",
          "height": 87
        },
        "id": "drd3XUhgB1Fm",
        "outputId": "1b805114-60aa-41d3-ac58-7e8e7268f0de"
      },
      "id": "drd3XUhgB1Fm",
      "execution_count": 36,
      "outputs": [
        {
          "output_type": "execute_result",
          "data": {
            "text/plain": [
              "\"The best restaurant in Montreal can vary depending on personal preferences, as the city is known for its diverse culinary scene. From traditional French cuisine to trendy cafes and international flavors, there's something for everyone. It's recommended to explore online reviews, ask locals for recommendations, and consider the type of cuisine or dining experience you're seeking to find the best restaurant that suits your taste.\""
            ],
            "application/vnd.google.colaboratory.intrinsic+json": {
              "type": "string"
            }
          },
          "metadata": {},
          "execution_count": 36
        }
      ]
    },
    {
      "cell_type": "code",
      "source": [
        "!pip install llama_index -q\n",
        "!pip install langchain -q\n",
        "!pip install wikipedia -q"
      ],
      "metadata": {
        "id": "OM7sfKGa49W9"
      },
      "id": "OM7sfKGa49W9",
      "execution_count": 23,
      "outputs": []
    },
    {
      "cell_type": "code",
      "source": [
        "import os\n",
        "import openai\n",
        "\n",
        "import llama_index\n",
        "\n",
        "#from llama_index.tools.ondemand_loader_tool import OnDemandLoaderTool\n",
        "## added by frank morales\n",
        "from llama_index.core.tools.ondemand_loader_tool import OnDemandLoaderTool\n",
        "\n",
        "from llama_index.readers.wikipedia import WikipediaReader\n",
        "from typing import List\n",
        "\n",
        "from pydantic import BaseModel\n",
        "\n",
        "reader = WikipediaReader()\n",
        "\n",
        "tool = OnDemandLoaderTool.from_defaults(\n",
        "    reader,\n",
        "    name=\"Wikipedia Tool\",\n",
        "    description=\"A tool for loading and querying articles from Wikipedia\",\n",
        ")\n",
        "\n",
        "# run only the llama_Index Tool by itself\n",
        "#tool([\"Cuba\"], query_str=\"What's the arts and culture scene in Cuba?\")\n",
        "\n",
        "# run tool from LangChain Agent\n",
        "lc_tool = tool.to_langchain_structured_tool(verbose=True)\n",
        "#response=lc_tool.run(tool_input={\"pages\": [\"Cuba\"], \"query_str\": \"What's the capital city of Cuba?\"})\n",
        "response=lc_tool.run(tool_input={\"pages\": [\"Cuba\"], \"query_str\": \"What's the arts and culture scene in Cuba?\"})"
      ],
      "metadata": {
        "colab": {
          "base_uri": "https://localhost:8080/"
        },
        "id": "TrIOfM3p4zMb",
        "outputId": "ccc9dca2-c6c9-4008-a97c-545ce7cb8882"
      },
      "id": "TrIOfM3p4zMb",
      "execution_count": 37,
      "outputs": [
        {
          "output_type": "stream",
          "name": "stdout",
          "text": [
            "\u001b[32;1m\u001b[1;3mCuba has a vibrant arts and culture scene with influences from various sources. The country is known for its rich tradition of music, including genres like son, salsa, and Afro-Cuban jazz. Cuban visual arts have a strong presence with artists like Wifredo Lam and Amelia Peláez gaining international recognition. Cuban literature has produced notable figures such as José Martí and Alejo Carpentier. The country also has a strong tradition of dance, particularly with the famous Cuban ballet companies. Overall, Cuba's arts and culture scene is diverse and reflects the country's unique history and heritage.\u001b[0m"
          ]
        }
      ]
    }
  ],
  "metadata": {
    "kernelspec": {
      "display_name": "venv",
      "language": "python",
      "name": "python3"
    },
    "language_info": {
      "codemirror_mode": {
        "name": "ipython",
        "version": 3
      },
      "file_extension": ".py",
      "mimetype": "text/x-python",
      "name": "python",
      "nbconvert_exporter": "python",
      "pygments_lexer": "ipython3"
    },
    "colab": {
      "provenance": [],
      "include_colab_link": true
    }
  },
  "nbformat": 4,
  "nbformat_minor": 5
}