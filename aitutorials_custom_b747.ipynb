{
  "nbformat": 4,
  "nbformat_minor": 0,
  "metadata": {
    "colab": {
      "provenance": [],
      "gpuType": "T4",
      "authorship_tag": "ABX9TyOa+is039zBAQAsQYS8h0DU",
      "include_colab_link": true
    },
    "kernelspec": {
      "name": "python3",
      "display_name": "Python 3"
    },
    "language_info": {
      "name": "python"
    },
    "accelerator": "GPU"
  },
  "cells": [
    {
      "cell_type": "markdown",
      "metadata": {
        "id": "view-in-github",
        "colab_type": "text"
      },
      "source": [
        "<a href=\"https://colab.research.google.com/github/frank-morales2020/MLxDL/blob/main/aitutorials_custom_b747.ipynb\" target=\"_parent\"><img src=\"https://colab.research.google.com/assets/colab-badge.svg\" alt=\"Open In Colab\"/></a>"
      ]
    },
    {
      "cell_type": "code",
      "execution_count": 2,
      "metadata": {
        "colab": {
          "base_uri": "https://localhost:8080/",
          "height": 1000
        },
        "id": "G278n8yImv1s",
        "outputId": "dd04dbea-bef9-464c-d9b4-1255c94ef1b1"
      },
      "outputs": [
        {
          "output_type": "stream",
          "name": "stdout",
          "text": [
            "TEST - OPENAI/API - BY FRANK MORALES - december 3rd, 2023 \n",
            "\n",
            "boeing airplane 747 united\n",
            "\n"
          ]
        },
        {
          "output_type": "execute_result",
          "data": {
            "text/plain": [
              "<IPython.core.display.HTML object>"
            ],
            "text/html": [
              "<img src =https://oaidalleapiprodscus.blob.core.windows.net/private/org-kw9OnWtmHIJ748Xe7oTALKxl/user-mgtzrBIISo3G68oiCnIQ0OBP/img-1iHQubwoHeomQJiyATO8nYce.png?st=2023-12-04T09%3A24%3A49Z&se=2023-12-04T11%3A24%3A49Z&sp=r&sv=2021-08-06&sr=b&rscd=inline&rsct=image/png&skoid=6aaadede-4fb3-4698-a8f6-684d7786b067&sktid=a48cca56-e6da-484e-a814-9c849652bcb3&skt=2023-12-03T22%3A44%3A33Z&ske=2023-12-04T22%3A44%3A33Z&sks=b&skv=2021-08-06&sig=RET%2BGBQ8UsoRsdyUsN%2BUP/O%2ButVHA2fMmAejGn3sy1M%3D>"
            ]
          },
          "metadata": {},
          "execution_count": 2
        }
      ],
      "source": [
        "#!pip install colab-env --upgrade\n",
        "#!pip install openai\n",
        "\n",
        "import colab_env\n",
        "import os\n",
        "import openai\n",
        "import IPython\n",
        "\n",
        "#print()\n",
        "#print(colab_env.__version__)\n",
        "#print()\n",
        "\n",
        "print('TEST - OPENAI/API - BY FRANK MORALES - december 3rd, 2023 ')\n",
        "print()\n",
        "\n",
        "openai.api_key = os.getenv(\"API\")\n",
        "from openai import OpenAI\n",
        "\n",
        "#client = OpenAI()\n",
        "client = OpenAI(api_key = os.getenv(\"API\"))\n",
        "\n",
        "prompt=\"boeing airplane 747 united\"\n",
        "\n",
        "response = client.images.generate(\n",
        "  model=\"dall-e-3\",\n",
        "  #prompt=\"a white siamese cat\",\n",
        "  prompt=\"%s\"%prompt,\n",
        "  #size=\"1024x1024\",\n",
        "  #size=\"256x256\",\n",
        "  quality=\"standard\",\n",
        "  n=1,\n",
        ")\n",
        "\n",
        "print(prompt)\n",
        "print()\n",
        "IPython.display.HTML(\"<img src =\" + response.data[0].url + \">\")\n"
      ]
    }
  ]
}