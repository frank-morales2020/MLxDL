{
  "nbformat": 4,
  "nbformat_minor": 0,
  "metadata": {
    "colab": {
      "provenance": [],
      "authorship_tag": "ABX9TyNze8IBd12pHkUdc6AzEZBn",
      "include_colab_link": true
    },
    "kernelspec": {
      "name": "python3",
      "display_name": "Python 3"
    },
    "language_info": {
      "name": "python"
    }
  },
  "cells": [
    {
      "cell_type": "markdown",
      "metadata": {
        "id": "view-in-github",
        "colab_type": "text"
      },
      "source": [
        "<a href=\"https://colab.research.google.com/github/frank-morales2020/MLxDL/blob/main/aitutorials_custom_b747.ipynb\" target=\"_parent\"><img src=\"https://colab.research.google.com/assets/colab-badge.svg\" alt=\"Open In Colab\"/></a>"
      ]
    },
    {
      "cell_type": "code",
      "execution_count": 32,
      "metadata": {
        "colab": {
          "base_uri": "https://localhost:8080/",
          "height": 1000
        },
        "id": "G278n8yImv1s",
        "outputId": "25eeda22-4413-4c9f-c964-1ba3ba948f52"
      },
      "outputs": [
        {
          "output_type": "stream",
          "name": "stdout",
          "text": [
            "\n",
            "TEST - OPENAI/API - BY FRANK MORALES - NOVEMBER 10, 2023 \n",
            "\n",
            "boeing airplane 747\n",
            "\n"
          ]
        },
        {
          "output_type": "execute_result",
          "data": {
            "text/plain": [
              "<IPython.core.display.HTML object>"
            ],
            "text/html": [
              "<img src =https://oaidalleapiprodscus.blob.core.windows.net/private/org-kw9OnWtmHIJ748Xe7oTALKxl/user-mgtzrBIISo3G68oiCnIQ0OBP/img-y74FnSHfGufkU5B6hNx1gyzm.png?st=2023-11-11T05%3A20%3A10Z&se=2023-11-11T07%3A20%3A10Z&sp=r&sv=2021-08-06&sr=b&rscd=inline&rsct=image/png&skoid=6aaadede-4fb3-4698-a8f6-684d7786b067&sktid=a48cca56-e6da-484e-a814-9c849652bcb3&skt=2023-11-10T21%3A47%3A33Z&ske=2023-11-11T21%3A47%3A33Z&sks=b&skv=2021-08-06&sig=372nJ7H6/xRpw/CR9Cbx5fGMbvr588wqfLLP3kXP3S0%3D>"
            ]
          },
          "metadata": {},
          "execution_count": 32
        }
      ],
      "source": [
        "#!pip install colab-env --upgrade\n",
        "#!pip install openai\n",
        "\n",
        "import colab_env\n",
        "import os\n",
        "import openai\n",
        "import IPython\n",
        "\n",
        "colab_env.__version__\n",
        "print()\n",
        "\n",
        "print('TEST - OPENAI/API - BY FRANK MORALES - NOVEMBER 10, 2023 ')\n",
        "print()\n",
        "\n",
        "openai.api_key = os.getenv(\"API\")\n",
        "from openai import OpenAI\n",
        "\n",
        "#client = OpenAI()\n",
        "client = OpenAI(api_key = os.getenv(\"API\"))\n",
        "\n",
        "prompt=\"boeing airplane 747\"\n",
        "\n",
        "response = client.images.generate(\n",
        "  model=\"dall-e-3\",\n",
        "  #prompt=\"a white siamese cat\",\n",
        "  prompt=\"%s\"%prompt,\n",
        "  #size=\"1024x1024\",\n",
        "  #size=\"256x256\",\n",
        "  quality=\"standard\",\n",
        "  n=1,\n",
        ")\n",
        "\n",
        "print(prompt)\n",
        "print()\n",
        "IPython.display.HTML(\"<img src =\" + response.data[0].url + \">\")\n"
      ]
    }
  ]
}