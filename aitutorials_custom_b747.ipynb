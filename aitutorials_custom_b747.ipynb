{
  "nbformat": 4,
  "nbformat_minor": 0,
  "metadata": {
    "colab": {
      "provenance": [],
      "machine_shape": "hm",
      "gpuType": "T4",
      "authorship_tag": "ABX9TyOa+is039zBAQAsQYS8h0DU"
    },
    "kernelspec": {
      "name": "python3",
      "display_name": "Python 3"
    },
    "language_info": {
      "name": "python"
    },
    "accelerator": "GPU"
  },
  "cells": [
    {
      "cell_type": "code",
      "execution_count": 5,
      "metadata": {
        "colab": {
          "base_uri": "https://localhost:8080/",
          "height": 1000
        },
        "id": "G278n8yImv1s",
        "outputId": "031569e6-a4ca-4add-d0fa-cc5f867a0984"
      },
      "outputs": [
        {
          "output_type": "stream",
          "name": "stdout",
          "text": [
            "TEST - OPENAI/API - BY FRANK MORALES - december 3rd, 2023 \n",
            "\n",
            "boeing airplane 747 united\n",
            "\n"
          ]
        },
        {
          "output_type": "execute_result",
          "data": {
            "text/plain": [
              "<IPython.core.display.HTML object>"
            ],
            "text/html": [
              "<img src =https://oaidalleapiprodscus.blob.core.windows.net/private/org-kw9OnWtmHIJ748Xe7oTALKxl/user-mgtzrBIISo3G68oiCnIQ0OBP/img-it5biorHsnHaWuwJXsRuQriB.png?st=2023-12-03T21%3A00%3A25Z&se=2023-12-03T23%3A00%3A25Z&sp=r&sv=2021-08-06&sr=b&rscd=inline&rsct=image/png&skoid=6aaadede-4fb3-4698-a8f6-684d7786b067&sktid=a48cca56-e6da-484e-a814-9c849652bcb3&skt=2023-12-02T22%3A37%3A33Z&ske=2023-12-03T22%3A37%3A33Z&sks=b&skv=2021-08-06&sig=4DcYm431Ur/TLyLGLRkGjRh1KzbgyGKqU2mC9pYQ6Zs%3D>"
            ]
          },
          "metadata": {},
          "execution_count": 5
        }
      ],
      "source": [
        "#!pip install colab-env --upgrade\n",
        "#!pip install openai\n",
        "\n",
        "import colab_env\n",
        "import os\n",
        "import openai\n",
        "import IPython\n",
        "\n",
        "#print()\n",
        "#print(colab_env.__version__)\n",
        "#print()\n",
        "\n",
        "print('TEST - OPENAI/API - BY FRANK MORALES - december 3rd, 2023 ')\n",
        "print()\n",
        "\n",
        "openai.api_key = os.getenv(\"API\")\n",
        "from openai import OpenAI\n",
        "\n",
        "#client = OpenAI()\n",
        "client = OpenAI(api_key = os.getenv(\"API\"))\n",
        "\n",
        "prompt=\"boeing airplane 747 united\"\n",
        "\n",
        "response = client.images.generate(\n",
        "  model=\"dall-e-3\",\n",
        "  #prompt=\"a white siamese cat\",\n",
        "  prompt=\"%s\"%prompt,\n",
        "  #size=\"1024x1024\",\n",
        "  #size=\"256x256\",\n",
        "  quality=\"standard\",\n",
        "  n=1,\n",
        ")\n",
        "\n",
        "print(prompt)\n",
        "print()\n",
        "IPython.display.HTML(\"<img src =\" + response.data[0].url + \">\")\n"
      ]
    }
  ]
}