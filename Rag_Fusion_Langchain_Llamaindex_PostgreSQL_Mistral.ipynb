{
  "cells": [
    {
      "cell_type": "markdown",
      "metadata": {
        "id": "view-in-github",
        "colab_type": "text"
      },
      "source": [
        "<a href=\"https://colab.research.google.com/github/frank-morales2020/MLxDL/blob/main/Rag_Fusion_Langchain_Llamaindex_PostgreSQL_Mistral.ipynb\" target=\"_parent\"><img src=\"https://colab.research.google.com/assets/colab-badge.svg\" alt=\"Open In Colab\"/></a>"
      ]
    },
    {
      "cell_type": "markdown",
      "id": "41a58112-8a18-49ad-9c8c-2088778613d0",
      "metadata": {
        "id": "41a58112-8a18-49ad-9c8c-2088778613d0"
      },
      "source": [
        "# RAG Fusion Query Pipeline\n",
        "\n",
        "This notebook shows how to implement RAG Fusion using the LlamaIndex Query Pipeline syntax."
      ]
    },
    {
      "cell_type": "code",
      "source": [
        "!nvidia-smi"
      ],
      "metadata": {
        "colab": {
          "base_uri": "https://localhost:8080/"
        },
        "id": "Msk6h8ngCiqH",
        "outputId": "a0f4aeb4-5ac5-4175-deab-6a2b3b8e3922"
      },
      "id": "Msk6h8ngCiqH",
      "execution_count": 1,
      "outputs": [
        {
          "output_type": "stream",
          "name": "stdout",
          "text": [
            "Sun Jun  2 03:31:15 2024       \n",
            "+---------------------------------------------------------------------------------------+\n",
            "| NVIDIA-SMI 535.104.05             Driver Version: 535.104.05   CUDA Version: 12.2     |\n",
            "|-----------------------------------------+----------------------+----------------------+\n",
            "| GPU  Name                 Persistence-M | Bus-Id        Disp.A | Volatile Uncorr. ECC |\n",
            "| Fan  Temp   Perf          Pwr:Usage/Cap |         Memory-Usage | GPU-Util  Compute M. |\n",
            "|                                         |                      |               MIG M. |\n",
            "|=========================================+======================+======================|\n",
            "|   0  Tesla T4                       Off | 00000000:00:04.0 Off |                    0 |\n",
            "| N/A   43C    P8               9W /  70W |      0MiB / 15360MiB |      0%      Default |\n",
            "|                                         |                      |                  N/A |\n",
            "+-----------------------------------------+----------------------+----------------------+\n",
            "                                                                                         \n",
            "+---------------------------------------------------------------------------------------+\n",
            "| Processes:                                                                            |\n",
            "|  GPU   GI   CI        PID   Type   Process name                            GPU Memory |\n",
            "|        ID   ID                                                             Usage      |\n",
            "|=======================================================================================|\n",
            "|  No running processes found                                                           |\n",
            "+---------------------------------------------------------------------------------------+\n"
          ]
        }
      ]
    },
    {
      "cell_type": "markdown",
      "source": [
        "Required Dependencies"
      ],
      "metadata": {
        "id": "x9dG5VRhwpHm"
      },
      "id": "x9dG5VRhwpHm"
    },
    {
      "cell_type": "code",
      "source": [
        "#added by Frank Morales(FM) 11/01/2024\n",
        "%pip install openai  --root-user-action=ignore -q\n",
        "!pip install llama_index phoenix pyvis network -q\n",
        "!pip install llama_hub -q\n",
        "%pip install colab-env --upgrade --quiet --root-user-action=ignore\n",
        "!pip install accelerate -q\n",
        "#!pip install typing_extensions\n",
        "\n",
        "!pip install langchain --quiet\n",
        "!pip install accelerate --quiet\n",
        "!pip install transformers --quiet\n",
        "!pip install bitsandbytes --quiet\n",
        "\n",
        "### llama index components\n",
        "!pip install llama-index-llms-langchain -q\n",
        "%pip install llama-index-llms-fireworks -q\n",
        "\n",
        "## Mistral API components\n",
        "!pip install mistralai --quiet\n",
        "!pip install -U langchain-core langchain-mistralai -q"
      ],
      "metadata": {
        "id": "XN4HEh7jwixA",
        "colab": {
          "base_uri": "https://localhost:8080/"
        },
        "outputId": "b877295b-e904-4d9b-e1dd-fb49b30125b5"
      },
      "id": "XN4HEh7jwixA",
      "execution_count": null,
      "outputs": [
        {
          "output_type": "stream",
          "name": "stdout",
          "text": [
            "\u001b[?25l     \u001b[90m━━━━━━━━━━━━━━━━━━━━━━━━━━━━━━━━━━━━━━━━\u001b[0m \u001b[32m0.0/320.7 kB\u001b[0m \u001b[31m?\u001b[0m eta \u001b[36m-:--:--\u001b[0m\r\u001b[2K     \u001b[91m━━━━━━━━━━━━━━━━━━━━━━━━━━━━\u001b[0m\u001b[90m╺\u001b[0m\u001b[90m━━━━━━━━━━━\u001b[0m \u001b[32m225.3/320.7 kB\u001b[0m \u001b[31m6.7 MB/s\u001b[0m eta \u001b[36m0:00:01\u001b[0m\r\u001b[2K     \u001b[90m━━━━━━━━━━━━━━━━━━━━━━━━━━━━━━━━━━━━━━━━\u001b[0m \u001b[32m320.7/320.7 kB\u001b[0m \u001b[31m6.7 MB/s\u001b[0m eta \u001b[36m0:00:00\u001b[0m\n",
            "\u001b[2K     \u001b[90m━━━━━━━━━━━━━━━━━━━━━━━━━━━━━━━━━━━━━━━━\u001b[0m \u001b[32m75.6/75.6 kB\u001b[0m \u001b[31m9.4 MB/s\u001b[0m eta \u001b[36m0:00:00\u001b[0m\n",
            "\u001b[2K     \u001b[90m━━━━━━━━━━━━━━━━━━━━━━━━━━━━━━━━━━━━━━━━\u001b[0m \u001b[32m77.9/77.9 kB\u001b[0m \u001b[31m8.7 MB/s\u001b[0m eta \u001b[36m0:00:00\u001b[0m\n",
            "\u001b[2K     \u001b[90m━━━━━━━━━━━━━━━━━━━━━━━━━━━━━━━━━━━━━━━━\u001b[0m \u001b[32m58.3/58.3 kB\u001b[0m \u001b[31m9.1 MB/s\u001b[0m eta \u001b[36m0:00:00\u001b[0m\n",
            "\u001b[?25h  Preparing metadata (setup.py) ... \u001b[?25l\u001b[?25hdone\n",
            "\u001b[2K     \u001b[90m━━━━━━━━━━━━━━━━━━━━━━━━━━━━━━━━━━━━━━━━\u001b[0m \u001b[32m756.0/756.0 kB\u001b[0m \u001b[31m8.6 MB/s\u001b[0m eta \u001b[36m0:00:00\u001b[0m\n",
            "\u001b[?25h  Preparing metadata (setup.py) ... \u001b[?25l\u001b[?25hdone\n"
          ]
        }
      ]
    },
    {
      "cell_type": "markdown",
      "id": "8c5bdbf5-d525-42e2-ab4a-19234c023491",
      "metadata": {
        "id": "8c5bdbf5-d525-42e2-ab4a-19234c023491"
      },
      "source": [
        "## Setup / Load Data\n",
        "\n",
        "We load in the pg_essay.txt data."
      ]
    },
    {
      "cell_type": "code",
      "execution_count": null,
      "id": "20b91e78-d733-44dd-b9a2-7c6eab3aee3d",
      "metadata": {
        "id": "20b91e78-d733-44dd-b9a2-7c6eab3aee3d"
      },
      "outputs": [],
      "source": [
        "import colab_env\n",
        "import openai\n",
        "import os\n",
        "openai.api_key = os.getenv(\"OPENAI_API_KEY\")\n",
        "!wget \"https://www.dropbox.com/s/f6bmb19xdg0xedm/paul_graham_essay.txt?dl=1\" -O pg_essay.txt\n",
        "#!wget 'https://raw.githubusercontent.com/run-llama/llama_index/main/docs/examples/data/paul_graham/paul_graham_essay.txt' -O 'data/paul_graham/paul_graham_essay.txt' -O pg_essay.txt"
      ]
    },
    {
      "cell_type": "markdown",
      "source": [
        "llama_index"
      ],
      "metadata": {
        "id": "E-SmoCyG9ONc"
      },
      "id": "E-SmoCyG9ONc"
    },
    {
      "cell_type": "code",
      "execution_count": null,
      "id": "1785ffb1-5fc2-4855-854a-238003ff848b",
      "metadata": {
        "id": "1785ffb1-5fc2-4855-854a-238003ff848b"
      },
      "outputs": [],
      "source": [
        "from llama_index.core import SimpleDirectoryReader\n",
        "\n",
        "reader = SimpleDirectoryReader(input_files=[\"/content/pg_essay.txt\"])\n",
        "docs = reader.load_data()"
      ]
    },
    {
      "cell_type": "markdown",
      "source": [
        "# POSTGRESQL"
      ],
      "metadata": {
        "id": "sZy5EuwA8onu"
      },
      "id": "sZy5EuwA8onu"
    },
    {
      "cell_type": "markdown",
      "source": [
        "POSTGRESQL\n",
        "\n",
        "https://www.atlantic.net/dedicated-server-hosting/how-to-install-and-configure-postgres-14-on-ubuntu/"
      ],
      "metadata": {
        "id": "jvWymWCOIdbI"
      },
      "id": "jvWymWCOIdbI"
    },
    {
      "cell_type": "code",
      "source": [
        "#ADDED By FM 01/06/2024\n",
        "!apt-get update -y\n",
        "!apt-get install postgresql-14 -y\n",
        "\n",
        "!service postgresql restart\n",
        "!sudo apt install postgresql-server-dev-all\n",
        "\n",
        "#apt-get -y install postgresql"
      ],
      "metadata": {
        "id": "O8Kb4NBh0Hwx"
      },
      "id": "O8Kb4NBh0Hwx",
      "execution_count": null,
      "outputs": []
    },
    {
      "cell_type": "code",
      "source": [
        "print()\n",
        "# PostGRES SQL Settings\n",
        "%cd /content/\n",
        "!sudo -u postgres psql -c \"ALTER USER postgres PASSWORD 'postgres'\"\n",
        "\n",
        "print('START: PG embedding COMPILATION')\n",
        "%cd /content/\n",
        "!git clone https://github.com/neondatabase/pg_embedding.git\n",
        "%cd /content/pg_embedding\n",
        "!make\n",
        "!make install # may need sudo\n",
        "print('END: PG embedding COMPILATION')\n",
        "print()\n",
        "\n",
        "#!sudo -u postgres psql -c \"DROP EXTENSION embedding\"\n",
        "!sudo -u postgres psql -c \"CREATE EXTENSION embedding\"\n",
        "#!sudo -u postgres psql -c \"DROP TABLE documents\"\n",
        "!sudo -u postgres psql -c \"CREATE TABLE documents(id integer PRIMARY KEY, embedding real[])\""
      ],
      "metadata": {
        "id": "KLp1-7HZOkTW"
      },
      "id": "KLp1-7HZOkTW",
      "execution_count": null,
      "outputs": []
    },
    {
      "cell_type": "markdown",
      "source": [
        "# Langchain"
      ],
      "metadata": {
        "id": "IfQ8Cym29XOQ"
      },
      "id": "IfQ8Cym29XOQ"
    },
    {
      "cell_type": "code",
      "source": [
        "!pip install -U langchain-community -q"
      ],
      "metadata": {
        "id": "KuBzH71uyulg"
      },
      "id": "KuBzH71uyulg",
      "execution_count": null,
      "outputs": []
    },
    {
      "cell_type": "code",
      "source": [
        "#ADDED By FM 11/01/2024\n",
        "\n",
        "from typing import List, Tuple\n",
        "from langchain.docstore.document import Document\n",
        "from langchain.document_loaders import TextLoader\n",
        "from langchain.embeddings.openai import OpenAIEmbeddings\n",
        "from langchain.text_splitter import CharacterTextSplitter\n",
        "from langchain.vectorstores import PGEmbedding\n",
        "\n",
        "loader = TextLoader(\"/content/pg_essay.txt\")\n",
        "documents = loader.load()\n",
        "text_splitter = CharacterTextSplitter(chunk_size=1000, chunk_overlap=0)\n",
        "docs0 = text_splitter.split_documents(documents)\n",
        "\n",
        "collection_name0 = \"pg_essay\"\n",
        "print(f'# of Document Pages {len(documents)}')\n",
        "print(f'# of Document Chunks: {len(docs0)}')"
      ],
      "metadata": {
        "id": "hyLRNSCwS91R"
      },
      "id": "hyLRNSCwS91R",
      "execution_count": null,
      "outputs": []
    },
    {
      "cell_type": "markdown",
      "source": [
        "# Llama Index"
      ],
      "metadata": {
        "id": "bhz9flIj9xfP"
      },
      "id": "bhz9flIj9xfP"
    },
    {
      "cell_type": "markdown",
      "id": "a7c9299c-06d6-4710-afb0-3cc13761f358",
      "metadata": {
        "id": "a7c9299c-06d6-4710-afb0-3cc13761f358"
      },
      "source": [
        "## Setup Llama Pack\n",
        "\n"
      ]
    },
    {
      "cell_type": "code",
      "source": [
        "#!pip install llama_index\n",
        "import llama_index\n",
        "print('LLAMA INDEX VERSION: %s'%llama_index.core.__version__)\n",
        "#llama_index.core.\n",
        "from llama_index.core.query_pipeline import QueryPipeline\n",
        "import llama_index.core.query_pipeline as query_pipeline\n",
        "#llama_index.core"
      ],
      "metadata": {
        "id": "5BwhQtzrcr8G"
      },
      "id": "5BwhQtzrcr8G",
      "execution_count": null,
      "outputs": []
    },
    {
      "cell_type": "code",
      "source": [
        "from llama_index.llms.openai import OpenAI\n",
        "from llama_index.embeddings.openai import OpenAIEmbedding\n",
        "from llama_index.core import Settings"
      ],
      "metadata": {
        "id": "8YnIGqpvj04L"
      },
      "id": "8YnIGqpvj04L",
      "execution_count": null,
      "outputs": []
    },
    {
      "cell_type": "code",
      "source": [
        "from llama_index.core.query_pipeline import QueryPipeline\n",
        "from llama_index.core import PromptTemplate\n",
        "\n",
        "# try chaining basic prompts\n",
        "prompt_str = \"Please generate related movies to {movie_name}\"\n",
        "prompt_tmpl = PromptTemplate(prompt_str)\n",
        "llm = OpenAI(model=\"gpt-3.5-turbo\")\n",
        "\n",
        "p = QueryPipeline(chain=[prompt_tmpl, llm], verbose=True)"
      ],
      "metadata": {
        "id": "4WMXSfoUjpBV"
      },
      "id": "4WMXSfoUjpBV",
      "execution_count": null,
      "outputs": []
    },
    {
      "cell_type": "code",
      "source": [
        "output = p.run(movie_name=\"The Departed\")"
      ],
      "metadata": {
        "id": "aFVka_T6j9lg"
      },
      "id": "aFVka_T6j9lg",
      "execution_count": null,
      "outputs": []
    },
    {
      "cell_type": "code",
      "source": [
        "print(str(output))"
      ],
      "metadata": {
        "id": "QPQFSofykHAE"
      },
      "id": "QPQFSofykHAE",
      "execution_count": null,
      "outputs": []
    },
    {
      "cell_type": "code",
      "execution_count": null,
      "id": "f5143a5f-7cd3-4aac-99e7-a357f3239f03",
      "metadata": {
        "id": "f5143a5f-7cd3-4aac-99e7-a357f3239f03"
      },
      "outputs": [],
      "source": [
        "# Option 1: Use `download_llama_pack`\n",
        "# from llama_index.llama_pack import download_llama_pack\n",
        "\n",
        "# RAGFusionPipelinePack = download_llama_pack(\n",
        "#     \"RAGFusionPipelinePack\",\n",
        "#     \"./rag_fusion_pipeline_pack\",\n",
        "#     # leave the below line commented out if using the notebook on main\n",
        "#     # llama_hub_url=\"https://raw.githubusercontent.com/run-llama/llama-hub/jerry/add_query_pipeline_pack/llama_hub\"\n",
        "# )\n",
        "\n",
        "# Option 2: Import from llama_hub package\n",
        "#RAGFusionPipelinePack                                           RAGFusionPipelinePack\n",
        "#from llama_hub.llama_packs.query.rag_fusion_pipeline.base import RAGFusionPipelinePack\n",
        "#from llama_index.llms import OpenAI"
      ]
    },
    {
      "cell_type": "markdown",
      "source": [
        "# Mistral - MODEL - Hugging Face Hub"
      ],
      "metadata": {
        "id": "vB6EiQq-TKHt"
      },
      "id": "vB6EiQq-TKHt"
    },
    {
      "cell_type": "code",
      "source": [
        "from typing import Dict, Any, List, Optional\n",
        "from llama_index.core.llama_pack.base import BaseLlamaPack\n",
        "from llama_index.core.llms.llm import LLM\n",
        "from llama_index.llms.openai import OpenAI\n",
        "from llama_index.core import Document, VectorStoreIndex, ServiceContext\n",
        "from llama_index.core.response_synthesizers import TreeSummarize\n",
        "from llama_index.core.schema import NodeWithScore\n",
        "from llama_index.core.node_parser import SentenceSplitter"
      ],
      "metadata": {
        "id": "8D7_AoE9iwXg"
      },
      "id": "8D7_AoE9iwXg",
      "execution_count": null,
      "outputs": []
    },
    {
      "cell_type": "code",
      "source": [
        "#ADDED By FM 11/01/2024\n",
        "#%pip install colab-env --upgrade --quiet --root-user-action=ignore\n",
        "#!pip install accelerate\n",
        "\n",
        "import torch\n",
        "from textwrap import fill\n",
        "from IPython.display import Markdown, display\n",
        "\n",
        "import colab_env\n",
        "import os\n",
        "\n",
        "access_token = os.getenv(\"HF_TOKEN\")\n",
        "\n",
        "from langchain.prompts.chat import (\n",
        "    ChatPromptTemplate,\n",
        "    HumanMessagePromptTemplate,\n",
        "    SystemMessagePromptTemplate,\n",
        "    )\n",
        "\n",
        "from langchain import PromptTemplate\n",
        "from langchain import HuggingFacePipeline\n",
        "\n",
        "from langchain.vectorstores import Chroma\n",
        "from langchain.schema import AIMessage, HumanMessage\n",
        "from langchain.memory import ConversationBufferMemory\n",
        "from langchain.embeddings import HuggingFaceEmbeddings\n",
        "from langchain.text_splitter import RecursiveCharacterTextSplitter\n",
        "from langchain.document_loaders import UnstructuredMarkdownLoader, UnstructuredURLLoader\n",
        "from langchain.chains import LLMChain, SimpleSequentialChain, RetrievalQA, ConversationalRetrievalChain\n",
        "from transformers import BitsAndBytesConfig, AutoModelForCausalLM, AutoTokenizer, GenerationConfig, pipeline\n",
        "import warnings\n",
        "warnings.filterwarnings('ignore')\n",
        "\n",
        "MODEL_NAME = \"mistralai/Mistral-7B-Instruct-v0.1\"\n",
        "\n",
        "quantization_config = BitsAndBytesConfig(\n",
        "    load_in_4bit=True,\n",
        "    bnb_4bit_compute_dtype=torch.float16,\n",
        "    bnb_4bit_quant_type=\"nf4\",\n",
        "    bnb_4bit_use_double_quant=True,\n",
        ")\n",
        "\n",
        "model = AutoModelForCausalLM.from_pretrained(\n",
        "    MODEL_NAME,\n",
        "    torch_dtype=torch.float16,\n",
        "    low_cpu_mem_usage=True,\n",
        "    trust_remote_code=True,\n",
        "    device_map=\"auto\",\n",
        "    quantization_config=quantization_config\n",
        ")\n",
        "\n",
        "tokenizer = AutoTokenizer.from_pretrained(MODEL_NAME, use_fast=True, padding_side=\"left\")\n",
        "tokenizer.pad_token = tokenizer.eos_token\n",
        "\n",
        "#from transformers import AutoTokenizer, MistralForCausalLM"
      ],
      "metadata": {
        "id": "6pObTXaM1W86"
      },
      "id": "6pObTXaM1W86",
      "execution_count": null,
      "outputs": []
    },
    {
      "cell_type": "code",
      "source": [
        "generation_config = GenerationConfig.from_pretrained(MODEL_NAME)\n",
        "generation_config.max_new_tokens = 1024\n",
        "generation_config.temperature = 0.8\n",
        "generation_config.top_p = 0.95\n",
        "generation_config.do_sample = True\n",
        "generation_config.repetition_penalty = 1.15\n",
        "\n",
        "pipeline = pipeline(\n",
        "    \"text-generation\",\n",
        "    model=model,\n",
        "    tokenizer=tokenizer,\n",
        "    return_full_text=True,\n",
        "    generation_config=generation_config,\n",
        "    pad_token_id=tokenizer.eos_token_id,\n",
        ")"
      ],
      "metadata": {
        "id": "KxgTE53-PWtB"
      },
      "id": "KxgTE53-PWtB",
      "execution_count": null,
      "outputs": []
    },
    {
      "cell_type": "code",
      "source": [
        "llm = HuggingFacePipeline(pipeline=pipeline)"
      ],
      "metadata": {
        "id": "MGGo2O7kPebC"
      },
      "id": "MGGo2O7kPebC",
      "execution_count": null,
      "outputs": []
    },
    {
      "cell_type": "code",
      "source": [
        "import warnings\n",
        "warnings.filterwarnings('ignore')\n",
        "\n",
        "query = \"the capital city of canada?\"\n",
        "result = llm(query)\n",
        "\n",
        "#display(Markdown(f\"<b>{query}</b>\"))\n",
        "#display(Markdown(f\"<p>{result}</p>\"))"
      ],
      "metadata": {
        "id": "J7hMlciRPj5y"
      },
      "id": "J7hMlciRPj5y",
      "execution_count": null,
      "outputs": []
    },
    {
      "cell_type": "markdown",
      "source": [
        "# EMBEDDING with OPENAI and Langchain"
      ],
      "metadata": {
        "id": "Xgo5C7hzbWCY"
      },
      "id": "Xgo5C7hzbWCY"
    },
    {
      "cell_type": "code",
      "source": [
        "# 20x faster than pgvector: introducing pg_embedding extension for vector search in Postgres and LangChain\n",
        "# https://neon.tech/blog/pg-embedding-extension-for-vector-search\n",
        "\n",
        "#ADDED By FM 11/01/2024\n",
        "\n",
        "from langchain.embeddings.openai import OpenAIEmbeddings\n",
        "from langchain.text_splitter import CharacterTextSplitter\n",
        "from langchain.vectorstores import PGEmbedding\n",
        "\n",
        "# https://supabase.com/blog/fewer-dimensions-are-better-pgvector\n",
        "embeddings = OpenAIEmbeddings(model='text-embedding-ada-002')\n",
        "\n",
        "collection_name='Paul Graham Essay'\n",
        "connection_string = os.getenv(\"DATABASE_URL\")\n",
        "\n",
        "db = PGEmbedding.from_documents(\n",
        "    embedding=embeddings,\n",
        "    documents=docs0,\n",
        "    collection_name=collection_name,\n",
        "    connection_string=connection_string,\n",
        ")\n",
        "\n",
        "#db.create_hnsw_index(dims = 1536, m = 8, ef_construction = 16, ef_search = 16)"
      ],
      "metadata": {
        "id": "SHrXuMUXGAMW"
      },
      "id": "SHrXuMUXGAMW",
      "execution_count": null,
      "outputs": []
    },
    {
      "cell_type": "code",
      "source": [
        "#ADDED By FM 11/01/2024\n",
        "query='What did the author do growing up?'\n",
        "docs_with_score: List[Tuple[Document, float]] = db.similarity_search_with_score(query)\n",
        "\n",
        "print()\n",
        "print(query)\n",
        "print()\n",
        "\n",
        "for doc, score in docs_with_score:\n",
        "    print(\"-\" * 80)\n",
        "    print(\"Score: \", score)\n",
        "    print(doc.page_content)\n",
        "    print(\"-\" * 80)"
      ],
      "metadata": {
        "id": "A4RiRP1jOGVs"
      },
      "id": "A4RiRP1jOGVs",
      "execution_count": null,
      "outputs": []
    },
    {
      "cell_type": "markdown",
      "source": [
        "# RAG FUSION PIPELINE"
      ],
      "metadata": {
        "id": "bzeoJMRNbzXg"
      },
      "id": "bzeoJMRNbzXg"
    },
    {
      "cell_type": "code",
      "source": [
        "\"\"\"RAG Fusion Pipeline.\"\"\"\n",
        "\n",
        "from typing import Any, Dict, List, Optional\n",
        "\n",
        "from llama_index.core import Document, ServiceContext, VectorStoreIndex\n",
        "from llama_index.core.llama_pack.base import BaseLlamaPack\n",
        "from llama_index.core.llms.llm import LLM\n",
        "from llama_index.core.node_parser import SentenceSplitter\n",
        "from llama_index.core.query_pipeline.components.argpacks import ArgPackComponent\n",
        "from llama_index.core.query_pipeline.components.function import FnComponent\n",
        "from llama_index.core.query_pipeline.components.input import InputComponent\n",
        "from llama_index.core.query_pipeline.query import QueryPipeline\n",
        "from llama_index.core.response_synthesizers import TreeSummarize\n",
        "from llama_index.core.schema import NodeWithScore\n",
        "from llama_index.llms.openai import OpenAI\n",
        "\n",
        "DEFAULT_CHUNK_SIZES = [128, 256, 512, 1024]\n",
        "\n",
        "\n",
        "def reciprocal_rank_fusion(\n",
        "    results: List[List[NodeWithScore]],\n",
        ") -> List[NodeWithScore]:\n",
        "    \"\"\"Apply reciprocal rank fusion.\n",
        "\n",
        "    The original paper uses k=60 for best results:\n",
        "    https://plg.uwaterloo.ca/~gvcormac/cormacksigir09-rrf.pdf\n",
        "    \"\"\"\n",
        "    k = 60.0  # `k` is a parameter used to control the impact of outlier rankings.\n",
        "    fused_scores = {}\n",
        "    text_to_node = {}\n",
        "    rank=0\n",
        "\n",
        "#for rank, node_with_score in enumerate(\n",
        "#            sorted(nodes_with_scores, key=lambda x: x.score or 0.0, reverse=True)\n",
        "#        ):\n",
        "\n",
        "# The above lines commented generated this error AttributeError: 'tuple' object has no attribute 'score'\n",
        "\n",
        "\n",
        "     # compute reciprocal rank scores by Frank Morales 09/05/2024\n",
        "    for node_with_score in results:\n",
        "        rank+=1\n",
        "        if not isinstance(node_with_score, NodeWithScore):\n",
        "            raise TypeError(\"node_with_score must be a NodeWithScore object.\")\n",
        "        text = node_with_score.node.get_content()\n",
        "        text_to_node[text] = node_with_score\n",
        "        if text not in fused_scores:\n",
        "          fused_scores[text] = 0.0\n",
        "        fused_scores[text] += 1.0 / (rank + k)\n",
        "\n",
        "    # sort results\n",
        "    reranked_results = dict(\n",
        "        sorted(fused_scores.items(), key=lambda x: x[1], reverse=True)\n",
        "    )\n",
        "\n",
        "    # adjust node scores\n",
        "    reranked_nodes: List[NodeWithScore] = []\n",
        "    for text, score in reranked_results.items():\n",
        "        reranked_nodes.append(text_to_node[text])\n",
        "        reranked_nodes[-1].score = score\n",
        "\n",
        "    return reranked_nodes\n",
        "\n",
        "\n",
        "class RAGFusionPipelinePack(BaseLlamaPack):\n",
        "    \"\"\"RAG Fusion pipeline.\n",
        "\n",
        "    Create a bunch of vector indexes of different chunk sizes.\n",
        "\n",
        "    \"\"\"\n",
        "\n",
        "    def __init__(\n",
        "        self,\n",
        "        documents: List[Document],\n",
        "        llm: Optional[LLM] = None,\n",
        "        chunk_sizes: Optional[List[int]] = None,\n",
        "    ) -> None:\n",
        "        \"\"\"Init params.\"\"\"\n",
        "        self.documents = documents\n",
        "        self.chunk_sizes = chunk_sizes or DEFAULT_CHUNK_SIZES\n",
        "\n",
        "        # construct index\n",
        "        self.llm = llm or OpenAI(model=\"gpt-3.5-turbo\")\n",
        "\n",
        "        self.query_engines = []\n",
        "        self.retrievers = {}\n",
        "        for chunk_size in self.chunk_sizes:\n",
        "            splitter = SentenceSplitter(chunk_size=chunk_size, chunk_overlap=0)\n",
        "            nodes = splitter.get_nodes_from_documents(documents)\n",
        "\n",
        "            service_context = ServiceContext.from_defaults(llm=self.llm)\n",
        "            vector_index = VectorStoreIndex(nodes, service_context=service_context)\n",
        "            self.query_engines.append(vector_index.as_query_engine())\n",
        "\n",
        "            self.retrievers[str(chunk_size)] = vector_index.as_retriever()\n",
        "\n",
        "        # define rerank component\n",
        "        rerank_component = FnComponent(fn=reciprocal_rank_fusion)\n",
        "\n",
        "        # construct query pipeline\n",
        "        p = QueryPipeline()\n",
        "        module_dict = {\n",
        "            **self.retrievers,\n",
        "            \"input\": InputComponent(),\n",
        "            \"summarizer\": TreeSummarize(),\n",
        "            # NOTE: Join args\n",
        "            \"join\": ArgPackComponent(),\n",
        "            \"reranker\": rerank_component,\n",
        "        }\n",
        "        p.add_modules(module_dict)\n",
        "        # add links from input to retriever (id'ed by chunk_size)\n",
        "        for chunk_size in self.chunk_sizes:\n",
        "            p.add_link(\"input\", str(chunk_size))\n",
        "            p.add_link(str(chunk_size), \"join\", dest_key=str(chunk_size))\n",
        "        p.add_link(\"join\", \"reranker\")\n",
        "        p.add_link(\"input\", \"summarizer\", dest_key=\"query_str\")\n",
        "        p.add_link(\"reranker\", \"summarizer\", dest_key=\"nodes\")\n",
        "\n",
        "        self.query_pipeline = p\n",
        "\n",
        "    def get_modules(self) -> Dict[str, Any]:\n",
        "        \"\"\"Get modules.\"\"\"\n",
        "        return {\n",
        "            \"llm\": self.llm,\n",
        "            \"retrievers\": self.retrievers,\n",
        "            \"query_engines\": self.query_engines,\n",
        "            \"query_pipeline\": self.query_pipeline,\n",
        "        }\n",
        "\n",
        "    def run(self, *args: Any, **kwargs: Any) -> Any:\n",
        "        \"\"\"Run the pipeline.\"\"\"\n",
        "        return self.query_pipeline.run(*args, **kwargs)\n"
      ],
      "metadata": {
        "id": "n5s85UdnxwAQ"
      },
      "id": "n5s85UdnxwAQ",
      "execution_count": null,
      "outputs": []
    },
    {
      "cell_type": "markdown",
      "source": [
        "https://docs.llamaindex.ai/en/stable/examples/llm/fireworks/"
      ],
      "metadata": {
        "id": "4J5pQ2UF4yw5"
      },
      "id": "4J5pQ2UF4yw5"
    },
    {
      "cell_type": "code",
      "execution_count": null,
      "id": "1e4786b6-6add-4caf-9f9c-c2d8f455702a",
      "metadata": {
        "id": "1e4786b6-6add-4caf-9f9c-c2d8f455702a"
      },
      "outputs": [],
      "source": [
        "pack = RAGFusionPipelinePack(docs, llm)\n",
        "query0=\"What did the author do growing up?\"\n",
        "response0 = pack.run(query=query0)"
      ]
    },
    {
      "cell_type": "code",
      "source": [
        "print(response0)"
      ],
      "metadata": {
        "id": "HR-FyKpy1Nuv"
      },
      "id": "HR-FyKpy1Nuv",
      "execution_count": null,
      "outputs": []
    },
    {
      "cell_type": "markdown",
      "source": [
        "# MISTRAL - MODEL - WITH API"
      ],
      "metadata": {
        "id": "lnxYYmMYwK1l"
      },
      "id": "lnxYYmMYwK1l"
    },
    {
      "cell_type": "code",
      "source": [
        "import mistralai\n",
        "from mistralai.client import MistralClient\n",
        "from mistralai.models.chat_completion import ChatMessage\n",
        "import os\n",
        "import colab_env\n",
        "import json\n",
        "\n",
        "api_key = os.environ[\"MISTRAL_API_KEY\"]\n",
        "client = MistralClient(api_key=api_key)"
      ],
      "metadata": {
        "id": "Mjoef7XFwgcr"
      },
      "id": "Mjoef7XFwgcr",
      "execution_count": null,
      "outputs": []
    },
    {
      "cell_type": "code",
      "source": [
        "#open-mistral-7b\n",
        "#mistral-tiny-2312\n",
        "#mistral-tiny\n",
        "#open-mixtral-8x7b\n",
        "#open-mixtral-8x22b\n",
        "#open-mixtral-8x22b-2404\n",
        "#mistral-small-2312\n",
        "\n",
        "#mistral-small\n",
        "#mistral-small-2402\n",
        "#mistral-small-latest\n",
        "#mistral-medium-latest\n",
        "#mistral-medium-2312\n",
        "#mistral-medium\n",
        "#mistral-large-latest\n",
        "#mistral-large-2402\n",
        "#codestral-2405\n",
        "#codestral-latest\n",
        "#mistral-embed"
      ],
      "metadata": {
        "id": "ScT8_MMo9q4D"
      },
      "id": "ScT8_MMo9q4D",
      "execution_count": null,
      "outputs": []
    },
    {
      "cell_type": "code",
      "source": [
        "from langchain_core.messages import HumanMessage\n",
        "from langchain_mistralai.chat_models import ChatMistralAI\n",
        "\n",
        "# If api_key is not passed, default behavior is to use the `MISTRAL_API_KEY` environment variable.\n",
        "llm_mistral = ChatMistralAI(api_key=api_key,model_name='open-mixtral-8x22b')\n",
        "\n",
        "messages = [HumanMessage(content=\"knock knock\")]\n",
        "response=llm_mistral.invoke(messages)\n",
        "print(response.content)"
      ],
      "metadata": {
        "id": "WJ1LHNV2wVDA"
      },
      "id": "WJ1LHNV2wVDA",
      "execution_count": null,
      "outputs": []
    },
    {
      "cell_type": "code",
      "source": [
        "pack_mistral = RAGFusionPipelinePack(docs, llm_mistral)\n",
        "query0=\"What did the author do growing up?\"\n",
        "response0 = pack_mistral.run(query=query0)"
      ],
      "metadata": {
        "id": "RHYicoyPxHvo"
      },
      "id": "RHYicoyPxHvo",
      "execution_count": null,
      "outputs": []
    },
    {
      "cell_type": "code",
      "source": [
        "print(response0)"
      ],
      "metadata": {
        "id": "33LB_lfexVvO"
      },
      "id": "33LB_lfexVvO",
      "execution_count": null,
      "outputs": []
    },
    {
      "cell_type": "markdown",
      "source": [
        "# Examples of Queries"
      ],
      "metadata": {
        "id": "ZOkptc-Yx8U0"
      },
      "id": "ZOkptc-Yx8U0"
    },
    {
      "cell_type": "code",
      "execution_count": null,
      "id": "065ef0c4-0c9e-4611-8de4-98b2a7fe3094",
      "metadata": {
        "id": "065ef0c4-0c9e-4611-8de4-98b2a7fe3094"
      },
      "outputs": [],
      "source": [
        "#modify By FM 11/01/2024\n",
        "\n",
        "#response = pack.run(query=\"What did the author do growing up?\")\n",
        "query0=\"What did the author do growing up?\"\n",
        "query='I bought an ice cream for 6 kids. Each cone was $1.25 and I paid with a $10 bill. How many dollars did I get back? Explain first before answering.'\n",
        "query1 = \"Who is the President of the USA?\"\n",
        "query2 = \"Who is the best poet of CANADA?\"\n",
        "#query2 = \"Who won the baseball World Series in 2023? and Who Lost\"\n",
        "query3 = 'Anything about FORTRAN'\n",
        "query4 = 'Anything about LIPS'\n",
        "query5 = 'Anything about Python'\n",
        "\n",
        "\n",
        "response0 = pack_mistral.run(query=query0)\n",
        "response1 = pack_mistral.run(query=query1)\n",
        "response2 = pack_mistral.run(query=query2)\n",
        "response4 = pack_mistral.run(query=query4)\n",
        "\n",
        "print()\n",
        "print(query0)\n",
        "print(str(response0))\n",
        "print()\n",
        "\n",
        "print()\n",
        "print(query1)\n",
        "print(str(response1))\n",
        "print()\n",
        "\n",
        "print()\n",
        "print(query2)\n",
        "print(str(response2))\n",
        "print()\n",
        "\n",
        "print()\n",
        "print(query4)\n",
        "print(str(response4))\n",
        "print()"
      ]
    }
  ],
  "metadata": {
    "kernelspec": {
      "display_name": "Python 3",
      "name": "python3"
    },
    "language_info": {
      "name": "python"
    },
    "colab": {
      "provenance": [],
      "gpuType": "T4",
      "collapsed_sections": [
        "8c5bdbf5-d525-42e2-ab4a-19234c023491",
        "sZy5EuwA8onu",
        "IfQ8Cym29XOQ",
        "bhz9flIj9xfP",
        "a7c9299c-06d6-4710-afb0-3cc13761f358",
        "vB6EiQq-TKHt",
        "Xgo5C7hzbWCY",
        "bzeoJMRNbzXg",
        "lnxYYmMYwK1l",
        "ZOkptc-Yx8U0"
      ],
      "include_colab_link": true
    },
    "accelerator": "GPU"
  },
  "nbformat": 4,
  "nbformat_minor": 5
}