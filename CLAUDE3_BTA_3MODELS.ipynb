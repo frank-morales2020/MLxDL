{
  "nbformat": 4,
  "nbformat_minor": 0,
  "metadata": {
    "colab": {
      "provenance": [],
      "collapsed_sections": [
        "rzxLnJXyqeOb",
        "d8F6E2bRqnCM",
        "GcziAIUeqsTJ"
      ],
      "authorship_tag": "ABX9TyMQAjFoIJ4/EN2IheW6TWIS",
      "include_colab_link": true
    },
    "kernelspec": {
      "name": "python3",
      "display_name": "Python 3"
    },
    "language_info": {
      "name": "python"
    }
  },
  "cells": [
    {
      "cell_type": "markdown",
      "metadata": {
        "id": "view-in-github",
        "colab_type": "text"
      },
      "source": [
        "<a href=\"https://colab.research.google.com/github/frank-morales2020/MLxDL/blob/main/CLAUDE3_BTA_3MODELS.ipynb\" target=\"_parent\"><img src=\"https://colab.research.google.com/assets/colab-badge.svg\" alt=\"Open In Colab\"/></a>"
      ]
    },
    {
      "cell_type": "markdown",
      "source": [
        "Source: https://docs.anthropic.com/claude/reference/client-sdks"
      ],
      "metadata": {
        "id": "QUKu-wBhsuB0"
      }
    },
    {
      "cell_type": "code",
      "source": [
        "!pip install anthropic -q\n",
        "\n",
        "!pip install colab-env --quiet"
      ],
      "metadata": {
        "id": "dTdfKcHoquYQ"
      },
      "execution_count": null,
      "outputs": []
    },
    {
      "cell_type": "code",
      "source": [
        "import anthropic\n",
        "import os\n",
        "import colab_env\n",
        "import json"
      ],
      "metadata": {
        "id": "e5eNA5Q1rmlU"
      },
      "execution_count": null,
      "outputs": []
    },
    {
      "cell_type": "markdown",
      "source": [
        "https://docs.anthropic.com/en/docs/models-overview\n",
        "\n",
        "claude-3-opus-20240229\n",
        "\n",
        "claude-3-sonnet-20240229\n",
        "\n",
        "claude-3-haiku-20240307"
      ],
      "metadata": {
        "id": "lJOP8QZ-IG29"
      }
    },
    {
      "cell_type": "code",
      "source": [
        "def claude_chat(prompt,model,client):\n",
        "    message = client.messages.create(\n",
        "    model=\"claude-3-opus-20240229\",\n",
        "    max_tokens=1024,\n",
        "    messages=[\n",
        "        {\"role\": \"user\", \"content\": prompt}\n",
        "    ]\n",
        "    )\n",
        "    print()\n",
        "    print(\"-\" * 80)\n",
        "    print('Question: %s'%prompt)\n",
        "    print(\"-\" * 80)\n",
        "    print()\n",
        "    print('Answer: ')\n",
        "    print(message.content[0].text)\n",
        "    #return message.content[0].text"
      ],
      "metadata": {
        "id": "CY09u8sl2hMs"
      },
      "execution_count": 4,
      "outputs": []
    },
    {
      "cell_type": "code",
      "source": [
        "api_key = os.environ[\"CLAUDE3_API_KEY\"]\n",
        "model=\"claude-3-opus-20240229\"\n",
        "\n",
        "client = anthropic.Anthropic(\n",
        "    api_key=api_key,\n",
        ")"
      ],
      "metadata": {
        "id": "6xslLYGCsBu2"
      },
      "execution_count": 5,
      "outputs": []
    },
    {
      "cell_type": "code",
      "execution_count": 6,
      "metadata": {
        "id": "uCZCEqrkqlYU"
      },
      "outputs": [],
      "source": [
        "message = client.messages.create(\n",
        "    model=\"claude-3-opus-20240229\",\n",
        "    max_tokens=1024,\n",
        "    messages=[\n",
        "        {\"role\": \"user\", \"content\": \"Hello, Claude\"}\n",
        "    ]\n",
        ")"
      ]
    },
    {
      "cell_type": "code",
      "source": [
        "print(message.content[0].text)"
      ],
      "metadata": {
        "colab": {
          "base_uri": "https://localhost:8080/"
        },
        "id": "-n5-NR4Rs5JY",
        "outputId": "5fda1314-83b2-432f-a1a9-b81a2dd2ac2d"
      },
      "execution_count": 7,
      "outputs": [
        {
          "output_type": "stream",
          "name": "stdout",
          "text": [
            "Hello! It's nice to meet you. How are you doing today?\n"
          ]
        }
      ]
    },
    {
      "cell_type": "markdown",
      "source": [
        "# Bob Travel App"
      ],
      "metadata": {
        "id": "D9JRSs80EJhE"
      }
    },
    {
      "cell_type": "code",
      "source": [
        "model0='claude-3-opus-20240229'\n",
        "\n",
        "model1='claude-3-sonnet-20240229'\n",
        "\n",
        "model2='claude-3-haiku-20240307'"
      ],
      "metadata": {
        "id": "qUdVts9KpB3J"
      },
      "execution_count": 15,
      "outputs": []
    },
    {
      "cell_type": "code",
      "source": [
        "prompt= 'How do you plan out your trip? \\\n",
        "Bob is travelling to SAT from YVR \\\n",
        "1. He has a connection in DFW \\\n",
        "2. His connection is 6 hours long \\\n",
        "3. He has a budget of 100.00 including meals \\\n",
        "4. What can he do? Please suggest a time. \\\n",
        "5. Know- he is a hiker, museum, foodie, has a carry-on bag'"
      ],
      "metadata": {
        "id": "-FcvXtdmEQyq"
      },
      "execution_count": 16,
      "outputs": []
    },
    {
      "cell_type": "markdown",
      "source": [
        "# MODEL0"
      ],
      "metadata": {
        "id": "rzxLnJXyqeOb"
      }
    },
    {
      "cell_type": "code",
      "source": [
        "claude_chat(prompt,model0,client)"
      ],
      "metadata": {
        "colab": {
          "base_uri": "https://localhost:8080/"
        },
        "id": "Hov6L2sPpk17",
        "outputId": "3e781459-bf4a-4f31-e3f8-eaa8ca20284a"
      },
      "execution_count": 10,
      "outputs": [
        {
          "output_type": "stream",
          "name": "stdout",
          "text": [
            "\n",
            "--------------------------------------------------------------------------------\n",
            "Question: How do you plan out your trip? Bob is travelling to SAT from YVR 1. He has a connection in DFW 2. His connection is 6 hours long 3. He has a budget of 100.00 including meals 4. What can he do? Please suggest a time. 5. Know- he is a hiker, museum, foodie, has a carry-on bag\n",
            "--------------------------------------------------------------------------------\n",
            "\n",
            "Answer: \n",
            "Great! Let's plan out Bob's trip from YVR (Vancouver International Airport) to SAT (San Antonio International Airport) with a 6-hour connection at DFW (Dallas/Fort Worth International Airport). With his interests and budget in mind, here's a suggested itinerary:\n",
            "\n",
            "1. Upon arrival at DFW, Bob can store his carry-on bag at one of the airport's luggage storage facilities. Many airports, including DFW, offer this service for a fee.\n",
            "\n",
            "2. With his luggage stored, Bob can take the DART (Dallas Area Rapid Transit) Orange Line from DFW Airport Station to the Dallas Museum of Art (DMA) stop. The trip takes approximately 50 minutes and costs $3.00 for a day pass.\n",
            "\n",
            "3. Bob can visit the Dallas Museum of Art, which offers free general admission. He can explore the museum's extensive art collection for about 1.5 hours.\n",
            "\n",
            "4. After the museum, Bob can walk to Klyde Warren Park (about 10 minutes) and enjoy a quick stroll or relax in the park for about 30 minutes.\n",
            "\n",
            "5. Next, Bob can walk to the nearby food trucks or restaurants in the area for a meal. Some popular options include Rusty Taco, The Slow Bone, or Food Truck Lane. He can allocate about $15-20 for a meal and spend around 1 hour enjoying his food.\n",
            "\n",
            "6. To return to the airport, Bob can take the DART Orange Line from St. Paul Station (a 5-minute walk from Klyde Warren Park) back to DFW Airport Station. The trip takes about 50 minutes.\n",
            "\n",
            "7. Bob should aim to be back at the airport at least 1.5 hours before his connecting flight departs to retrieve his carry-on bag and go through security.\n",
            "\n",
            "Suggested timeline:\n",
            "- 1 hour: Travel from DFW to Dallas Museum of Art\n",
            "- 1.5 hours: Visit Dallas Museum of Art\n",
            "- 0.5 hours: Walk and relax at Klyde Warren Park\n",
            "- 1 hour: Enjoy a meal at a nearby food truck or restaurant\n",
            "- 1 hour: Travel back to DFW Airport\n",
            "- 1 hour: Retrieve luggage and go through security\n",
            "\n",
            "This itinerary allows Bob to explore some of Dallas' attractions, enjoy a meal, and return to the airport with enough time for his connecting flight, all within his budget of $100.\n"
          ]
        }
      ]
    },
    {
      "cell_type": "markdown",
      "source": [
        "# MODEL1"
      ],
      "metadata": {
        "id": "d8F6E2bRqnCM"
      }
    },
    {
      "cell_type": "code",
      "source": [
        "claude_chat(prompt,model1,client)"
      ],
      "metadata": {
        "colab": {
          "base_uri": "https://localhost:8080/"
        },
        "id": "ugvLDUz6pnJ5",
        "outputId": "971a1db5-90bb-4c8c-81d5-97e94e79c8fb"
      },
      "execution_count": 11,
      "outputs": [
        {
          "output_type": "stream",
          "name": "stdout",
          "text": [
            "\n",
            "--------------------------------------------------------------------------------\n",
            "Question: How do you plan out your trip? Bob is travelling to SAT from YVR 1. He has a connection in DFW 2. His connection is 6 hours long 3. He has a budget of 100.00 including meals 4. What can he do? Please suggest a time. 5. Know- he is a hiker, museum, foodie, has a carry-on bag\n",
            "--------------------------------------------------------------------------------\n",
            "\n",
            "Answer: \n",
            "To plan out Bob's trip from YVR (Vancouver International Airport) to SAT (San Antonio International Airport) with a 6-hour layover in DFW (Dallas/Fort Worth International Airport), considering his interests and budget, here's a suggested itinerary:\n",
            "\n",
            "1. Upon arriving at DFW, Bob can store his carry-on bag at the airport's luggage storage facility. The cost is approximately $8-12 per bag for the first 24 hours.\n",
            "\n",
            "2. With his luggage stored, Bob can take the DART (Dallas Area Rapid Transit) Orange Line from DFW Airport Station to the West End Station. The trip takes about 50 minutes and costs $3 for a day pass.\n",
            "\n",
            "3. From the West End Station, Bob can walk to the Sixth Floor Museum at Dealey Plaza (approximately 5 minutes). The museum is dedicated to the assassination of President John F. Kennedy and provides a fascinating historical perspective. Admission is $18 for adults.\n",
            "\n",
            "4. After visiting the museum, Bob can explore the nearby Dealey Plaza and take a walk through the historic West End District.\n",
            "\n",
            "5. For lunch, Bob can try some local Dallas cuisine at one of the many restaurants in the area, such as Ellen's Southern Kitchen or Y.O. Ranch Steakhouse. A meal should cost around $20-30.\n",
            "\n",
            "6. If time allows, Bob can take a short walk to the Dallas World Aquarium (about 10 minutes from the West End District). Admission is $21 for adults.\n",
            "\n",
            "7. To return to DFW, Bob can take the DART Orange Line back to the airport, retrieve his carry-on bag, and proceed to his connecting flight to SAT.\n",
            "\n",
            "Suggested timeline:\n",
            "- Arrive at DFW and store luggage: 30 minutes\n",
            "- DART to West End Station: 50 minutes\n",
            "- Visit Sixth Floor Museum: 1.5 hours\n",
            "- Explore West End District and have lunch: 1.5 hours\n",
            "- Visit Dallas World Aquarium (optional): 1 hour\n",
            "- DART back to DFW and retrieve luggage: 1 hour\n",
            "\n",
            "This itinerary should fit comfortably within Bob's 6-hour layover and allow him to explore some of Dallas' attractions that align with his interests. The total cost for transportation, luggage storage, museum admission, and a meal should be around $70-95, leaving some room in his $100 budget for additional expenses or souvenirs.\n"
          ]
        }
      ]
    },
    {
      "cell_type": "markdown",
      "source": [
        "# MODEL2"
      ],
      "metadata": {
        "id": "GcziAIUeqsTJ"
      }
    },
    {
      "cell_type": "code",
      "source": [
        "claude_chat(prompt,model2,client)"
      ],
      "metadata": {
        "colab": {
          "base_uri": "https://localhost:8080/"
        },
        "id": "6s8nB3sbpjzk",
        "outputId": "b3c9e172-31d9-43a4-eb36-99acf25faed6"
      },
      "execution_count": 12,
      "outputs": [
        {
          "output_type": "stream",
          "name": "stdout",
          "text": [
            "\n",
            "--------------------------------------------------------------------------------\n",
            "Question: How do you plan out your trip? Bob is travelling to SAT from YVR 1. He has a connection in DFW 2. His connection is 6 hours long 3. He has a budget of 100.00 including meals 4. What can he do? Please suggest a time. 5. Know- he is a hiker, museum, foodie, has a carry-on bag\n",
            "--------------------------------------------------------------------------------\n",
            "\n",
            "Answer: \n",
            "To plan out Bob's trip from YVR (Vancouver International Airport) to SAT (San Antonio International Airport) with a 6-hour layover in DFW (Dallas/Fort Worth International Airport), considering his interests and budget, here's a suggested itinerary:\n",
            "\n",
            "1. Upon arriving at DFW, Bob should store his carry-on bag in a luggage storage facility. DFW offers several options, with prices starting at around $6 per hour.\n",
            "\n",
            "2. With his luggage stored, Bob can take the DFW Airport Shuttle to the CentrePort/DFW Airport Station, which connects to the Trinity Railway Express (TRE) commuter train. The TRE will take him to downtown Dallas (Union Station) in about 25 minutes. The total cost for the shuttle and train should be around $5.\n",
            "\n",
            "3. Once in downtown Dallas, Bob can visit the Dallas Museum of Art, which offers free general admission. He can spend about 1.5 hours exploring the museum's diverse art collection.\n",
            "\n",
            "4. After the museum, Bob can walk to Klyde Warren Park (about 10 minutes) and enjoy the outdoors. As a hiker, he might appreciate the urban green space and the food trucks lining the park, where he can grab a meal for around $10-15.\n",
            "\n",
            "5. Next, Bob can walk to the Perot Museum of Nature and Science (about 15 minutes). Admission is $20, but it's worth it for the unique exhibits and interactive displays. He can spend around 1.5 hours here.\n",
            "\n",
            "6. To return to DFW, Bob can take the TRE back to CentrePort/DFW Airport Station and then the DFW Airport Shuttle to the airport. This should take about an hour, and he should aim to be back at the airport at least 1.5 hours before his connecting flight.\n",
            "\n",
            "In summary, here's a 6-hour itinerary for Bob's layover in DFW:\n",
            "- 30 minutes: Store luggage and travel to downtown Dallas\n",
            "- 1.5 hours: Visit Dallas Museum of Art\n",
            "- 1 hour: Walk to Klyde Warren Park and enjoy a meal from a food truck\n",
            "- 1.5 hours: Visit Perot Museum of Nature and Science\n",
            "- 1.5 hours: Return to DFW and retrieve luggage\n",
            "\n",
            "This plan should fit within Bob's $100 budget, leaving some extra money for additional food or souvenirs.\n"
          ]
        }
      ]
    }
  ]
}