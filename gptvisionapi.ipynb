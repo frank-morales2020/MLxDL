{
  "nbformat": 4,
  "nbformat_minor": 0,
  "metadata": {
    "colab": {
      "provenance": [],
      "authorship_tag": "ABX9TyPe5HOFys3DAEQPeIMWTdoI",
      "include_colab_link": true
    },
    "kernelspec": {
      "name": "python3",
      "display_name": "Python 3"
    },
    "language_info": {
      "name": "python"
    }
  },
  "cells": [
    {
      "cell_type": "markdown",
      "metadata": {
        "id": "view-in-github",
        "colab_type": "text"
      },
      "source": [
        "<a href=\"https://colab.research.google.com/github/frank-morales2020/MLxDL/blob/main/gptvisionapi.ipynb\" target=\"_parent\"><img src=\"https://colab.research.google.com/assets/colab-badge.svg\" alt=\"Open In Colab\"/></a>"
      ]
    },
    {
      "cell_type": "code",
      "execution_count": 6,
      "metadata": {
        "colab": {
          "base_uri": "https://localhost:8080/"
        },
        "id": "Af_ZQIv8Awvh",
        "outputId": "06d18978-a22b-4578-dd8f-8428481c715a"
      },
      "outputs": [
        {
          "output_type": "stream",
          "name": "stdout",
          "text": [
            "\n",
            "TEST - OPENAI/GPT-4-VISION API - BY FRANK MORALES - NOVEMBER 20, 2023\n",
            "\n",
            "The image url is here: https://upload.wikimedia.org/wikipedia/commons/thumb/d/dd/Gfp-wisconsin-madison-the-nature-boardwalk.jpg/2560px-Gfp-wisconsin-madison-the-nature-boardwalk.jpg\n",
            "The image shows a scenic natural landscape featuring a wooden boardwalk that extends through a lush green grassy field. The sky above is partly cloudy with soft clouds dispersed throughout, hinting at a sunny day. There are trees and shrubs on the periphery of the field, with the boardwalk leading towards what appears to be a natural area with a greater density of vegetation. The scene is peaceful and idyllic, with a sense of openness and tranquility.\n"
          ]
        }
      ],
      "source": [
        "# https://platform.openai.com/docs/guides/vision\n",
        "\n",
        "#!pip install colab-env --upgrade\n",
        "#!pip install openai\n",
        "\n",
        "import colab_env\n",
        "import os\n",
        "import openai\n",
        "\n",
        "print()\n",
        "\n",
        "print('TEST - OPENAI/GPT-4-VISION API - BY FRANK MORALES - NOVEMBER 20, 2023')\n",
        "print()\n",
        "\n",
        "openai.api_key = os.getenv(\"API\")\n",
        "\n",
        "response = openai.chat.completions.create(\n",
        "  model=\"gpt-4-vision-preview\",\n",
        "  messages=[\n",
        "    {\n",
        "      \"role\": \"user\",\n",
        "      \"content\": [\n",
        "        {\"type\": \"text\", \"text\": \"What’s in this image?\"},\n",
        "        {\n",
        "          \"type\": \"image_url\",\n",
        "          \"image_url\": {\n",
        "            \"url\": \"https://upload.wikimedia.org/wikipedia/commons/thumb/d/dd/Gfp-wisconsin-madison-the-nature-boardwalk.jpg/2560px-Gfp-wisconsin-madison-the-nature-boardwalk.jpg\",\n",
        "          },\n",
        "        },\n",
        "      ],\n",
        "    }\n",
        "  ],\n",
        "  max_tokens=300,\n",
        ")\n",
        "\n",
        "#print(response.choices[0])\n",
        "\n",
        "image_url=\"https://upload.wikimedia.org/wikipedia/commons/thumb/d/dd/Gfp-wisconsin-madison-the-nature-boardwalk.jpg/2560px-Gfp-wisconsin-madison-the-nature-boardwalk.jpg\"\n",
        "\n",
        "print('The image url is here: %s'%image_url)\n",
        "\n",
        "print(response.choices[0].message.content)\n",
        "\n"
      ]
    }
  ]
}