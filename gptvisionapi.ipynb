{
  "nbformat": 4,
  "nbformat_minor": 0,
  "metadata": {
    "colab": {
      "provenance": [],
      "authorship_tag": "ABX9TyPUiT0KzEBDQaSUNCHaUUPZ",
      "include_colab_link": true
    },
    "kernelspec": {
      "name": "python3",
      "display_name": "Python 3"
    },
    "language_info": {
      "name": "python"
    }
  },
  "cells": [
    {
      "cell_type": "markdown",
      "metadata": {
        "id": "view-in-github",
        "colab_type": "text"
      },
      "source": [
        "<a href=\"https://colab.research.google.com/github/frank-morales2020/MLxDL/blob/main/gptvisionapi.ipynb\" target=\"_parent\"><img src=\"https://colab.research.google.com/assets/colab-badge.svg\" alt=\"Open In Colab\"/></a>"
      ]
    },
    {
      "cell_type": "code",
      "execution_count": 4,
      "metadata": {
        "colab": {
          "base_uri": "https://localhost:8080/"
        },
        "id": "Af_ZQIv8Awvh",
        "outputId": "a1c54661-f016-408f-c276-f0e4bae4a049"
      },
      "outputs": [
        {
          "output_type": "stream",
          "name": "stdout",
          "text": [
            "\n",
            "TEST - OPENAI/GPT-4-VISION API - BY FRANK MORALES - NOVEMBER 21, 2023\n",
            "\n",
            "\n",
            "The image url is here: https://upload.wikimedia.org/wikipedia/commons/thumb/d/dd/Gfp-wisconsin-madison-the-nature-boardwalk.jpg/2560px-Gfp-wisconsin-madison-the-nature-boardwalk.jpg\n",
            "\n",
            "The image depicts a beautiful natural landscape with a wooden boardwalk extending through a green wetland area covered with tall grasses. The boardwalk draws the eye towards the horizon and gives the impression of a peaceful walk through nature. The sky is partly cloudy with soft blue hues and a few white clouds, suggesting a fair weather day. The ecosystem appears to be a wetland or marsh, which are often rich habitats for a variety of plant, bird, and insect species. The scenery is vibrant with colors, from the green vegetation to the blue sky, contributing to an overall serene and bucolic environment.\n",
            "\n",
            "The image of the DL Godfathers urlis here: https://awards.acm.org/binaries/content/gallery/acm/ctas/awards/turing-2018-bengio-hinton-lecun.jpg\n",
            "\n",
            "The image shows a collage of three individual portraits side by side, each of a different person. The background for each portrait is different; from left to right, the backgrounds are orange, beige, and dark green. The individuals appear to be professional and possibly of academic or scientific prominence, as suggested by their confident expressions and the overall formal presentation of the portraits. Each portrait also has a name captioned at the bottom, identifying the individuals. The people in the image are well-dressed, suggesting a formal or professional setting. They are all smiling to varying degrees and looking directly at the camera.\n"
          ]
        }
      ],
      "source": [
        "# https://platform.openai.com/docs/guides/vision\n",
        "\n",
        "#!pip install colab-env --upgrade\n",
        "#!pip install openai\n",
        "\n",
        "import colab_env\n",
        "import os\n",
        "import openai\n",
        "\n",
        "print()\n",
        "print('TEST - OPENAI/GPT-4-VISION API - BY FRANK MORALES - NOVEMBER 21, 2023')\n",
        "print()\n",
        "\n",
        "openai.api_key = os.getenv(\"API\")\n",
        "\n",
        "url=\"https://awards.acm.org/binaries/content/gallery/acm/ctas/awards/turing-2018-bengio-hinton-lecun.jpg\"\n",
        "\n",
        "response = openai.chat.completions.create(\n",
        "  model=\"gpt-4-vision-preview\",\n",
        "  messages=[\n",
        "    {\n",
        "      \"role\": \"user\",\n",
        "      \"content\": [\n",
        "        {\"type\": \"text\", \"text\": \"What’s in this image?\"},\n",
        "        {\n",
        "          \"type\": \"image_url\",\n",
        "          \"image_url\": {\n",
        "            \"url\": \"https://upload.wikimedia.org/wikipedia/commons/thumb/d/dd/Gfp-wisconsin-madison-the-nature-boardwalk.jpg/2560px-Gfp-wisconsin-madison-the-nature-boardwalk.jpg\",\n",
        "          },\n",
        "        },\n",
        "      ],\n",
        "    }\n",
        "  ],\n",
        "  max_tokens=300,\n",
        ")\n",
        "\n",
        "image_url=\"https://upload.wikimedia.org/wikipedia/commons/thumb/d/dd/Gfp-wisconsin-madison-the-nature-boardwalk.jpg/2560px-Gfp-wisconsin-madison-the-nature-boardwalk.jpg\"\n",
        "\n",
        "print()\n",
        "print('The image url is here: %s'%image_url)\n",
        "print()\n",
        "\n",
        "#print(response.choices[0])\n",
        "print(response.choices[0].message.content)\n",
        "\n",
        "response = openai.chat.completions.create(\n",
        "  model=\"gpt-4-vision-preview\",\n",
        "  messages=[\n",
        "    {\n",
        "      \"role\": \"user\",\n",
        "      \"content\": [\n",
        "        {\"type\": \"text\", \"text\": \"Describe the image?\"},\n",
        "        {\n",
        "          \"type\": \"image_url\",\n",
        "          \"image_url\": {\n",
        "            \"url\":\"https://awards.acm.org/binaries/content/gallery/acm/ctas/awards/turing-2018-bengio-hinton-lecun.jpg\"\n",
        "          },\n",
        "        },\n",
        "      ],\n",
        "    }\n",
        "  ],\n",
        "  max_tokens=300,\n",
        ")\n",
        "\n",
        "print()\n",
        "print('The image of the DL Godfathers urlis here: %s'%url)\n",
        "print()\n",
        "print(response.choices[0].message.content)\n",
        "\n",
        "\n",
        "\n",
        "\n",
        "\n"
      ]
    }
  ]
}