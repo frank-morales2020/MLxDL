{
  "nbformat": 4,
  "nbformat_minor": 0,
  "metadata": {
    "colab": {
      "provenance": [],
      "authorship_tag": "ABX9TyNT8hbuPcfZ5aRE8ASrL0gU",
      "include_colab_link": true
    },
    "kernelspec": {
      "name": "python3",
      "display_name": "Python 3"
    },
    "language_info": {
      "name": "python"
    }
  },
  "cells": [
    {
      "cell_type": "markdown",
      "metadata": {
        "id": "view-in-github",
        "colab_type": "text"
      },
      "source": [
        "<a href=\"https://colab.research.google.com/github/frank-morales2020/MLxDL/blob/main/gptvisionapi.ipynb\" target=\"_parent\"><img src=\"https://colab.research.google.com/assets/colab-badge.svg\" alt=\"Open In Colab\"/></a>"
      ]
    },
    {
      "cell_type": "code",
      "execution_count": 5,
      "metadata": {
        "colab": {
          "base_uri": "https://localhost:8080/"
        },
        "id": "Af_ZQIv8Awvh",
        "outputId": "7058930d-92dc-4330-fb2a-7d4b2c6dc4d8"
      },
      "outputs": [
        {
          "output_type": "stream",
          "name": "stdout",
          "text": [
            "\n",
            "TEST - OPENAI/GPT-4-VISION API - BY FRANK MORALES - NOVEMBER 20, 2023 \n",
            "\n",
            "This is an image of a wooden boardwalk extending through a lush, green wetland or grassland. The boardwalk is surrounded by tall grasses and shrubs, suggesting that it's a natural area possibly maintained for conservation or recreational purposes. The sky above is partly cloudy with blue sky and white clouds, contributing to a serene and picturesque landscape. The lighting suggests it could be late afternoon, given the softness of the light and the long shadows. There are no people or animals immediately visible in this image; it captures the tranquility of a natural setting.\n"
          ]
        }
      ],
      "source": [
        "# https://platform.openai.com/docs/guides/vision\n",
        "\n",
        "#!pip install colab-env --upgrade\n",
        "#!pip install openai\n",
        "\n",
        "import colab_env\n",
        "import os\n",
        "import openai\n",
        "\n",
        "print()\n",
        "\n",
        "print('TEST - OPENAI/GPT-4-VISION API - BY FRANK MORALES - NOVEMBER 20, 2023 ')\n",
        "print()\n",
        "\n",
        "openai.api_key = os.getenv(\"API\")\n",
        "\n",
        "response = openai.chat.completions.create(\n",
        "  model=\"gpt-4-vision-preview\",\n",
        "  messages=[\n",
        "    {\n",
        "      \"role\": \"user\",\n",
        "      \"content\": [\n",
        "        {\"type\": \"text\", \"text\": \"What’s in this image?\"},\n",
        "        {\n",
        "          \"type\": \"image_url\",\n",
        "          \"image_url\": {\n",
        "            \"url\": \"https://upload.wikimedia.org/wikipedia/commons/thumb/d/dd/Gfp-wisconsin-madison-the-nature-boardwalk.jpg/2560px-Gfp-wisconsin-madison-the-nature-boardwalk.jpg\",\n",
        "          },\n",
        "        },\n",
        "      ],\n",
        "    }\n",
        "  ],\n",
        "  max_tokens=300,\n",
        ")\n",
        "\n",
        "#print(response.choices[0])\n",
        "\n",
        "print(response.choices[0].message.content)\n",
        "\n"
      ]
    }
  ]
}