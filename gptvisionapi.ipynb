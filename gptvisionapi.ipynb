{
  "nbformat": 4,
  "nbformat_minor": 0,
  "metadata": {
    "colab": {
      "provenance": [],
      "authorship_tag": "ABX9TyPlsJR3XYqNsqOkOWDAPErt",
      "include_colab_link": true
    },
    "kernelspec": {
      "name": "python3",
      "display_name": "Python 3"
    },
    "language_info": {
      "name": "python"
    }
  },
  "cells": [
    {
      "cell_type": "markdown",
      "metadata": {
        "id": "view-in-github",
        "colab_type": "text"
      },
      "source": [
        "<a href=\"https://colab.research.google.com/github/frank-morales2020/MLxDL/blob/main/gptvisionapi.ipynb\" target=\"_parent\"><img src=\"https://colab.research.google.com/assets/colab-badge.svg\" alt=\"Open In Colab\"/></a>"
      ]
    },
    {
      "cell_type": "code",
      "execution_count": 5,
      "metadata": {
        "colab": {
          "base_uri": "https://localhost:8080/"
        },
        "id": "Af_ZQIv8Awvh",
        "outputId": "c599e3b0-3907-4caa-f68f-c26c2de87655"
      },
      "outputs": [
        {
          "output_type": "stream",
          "name": "stdout",
          "text": [
            "\n",
            "TEST - OPENAI/GPT-4-VISION API - BY FRANK MORALES - NOVEMBER 21, 2023\n",
            "\n",
            "\n",
            "The image url is here: https://upload.wikimedia.org/wikipedia/commons/thumb/d/dd/Gfp-wisconsin-madison-the-nature-boardwalk.jpg/2560px-Gfp-wisconsin-madison-the-nature-boardwalk.jpg\n",
            "\n",
            "This image shows a serene natural landscape with a wooden boardwalk extending through a lush grassy area. The boardwalk allows people to walk through the environment without disturbing the natural grasses and plants on either side. Above, the sky is blue with scattered clouds, suggesting a day with good weather. This setting could be a nature reserve, wetland, or similar protected area meant for environmental conservation and public enjoyment. The scene is tranquil and evocative of peaceful outdoor experiences.\n",
            "\n",
            "The image of the 2018 Turing Award recipients is here: https://awards.acm.org/binaries/content/gallery/acm/ctas/awards/turing-2018-bengio-hinton-lecun.jpg\n",
            "\n",
            "The image is a montage of three portraits side by side, each depicting an individual against a different colored background. The leftmost portrait shows a person with a salt-and-pepper beard, smiling, wearing a dark blazer over a black shirt, with an orange background. The middle portrait is of a person with swept-back hair and a serious expression, wearing a dark jacket over a blue sweater, against a muted background. The rightmost portrait features a person with wavy hair and glasses, smiling slightly, dressed in a dark shirt, against a backdrop with hints of greenery. Beneath each portrait, there is text which seems to be the names of the individuals.\n"
          ]
        }
      ],
      "source": [
        "# https://platform.openai.com/docs/guides/vision\n",
        "\n",
        "#!pip install colab-env --upgrade\n",
        "#!pip install openai\n",
        "\n",
        "import colab_env\n",
        "import os\n",
        "import openai\n",
        "\n",
        "print()\n",
        "print('TEST - OPENAI/GPT-4-VISION API - BY FRANK MORALES - NOVEMBER 21, 2023')\n",
        "print()\n",
        "\n",
        "openai.api_key = os.getenv(\"API\")\n",
        "\n",
        "url=\"https://awards.acm.org/binaries/content/gallery/acm/ctas/awards/turing-2018-bengio-hinton-lecun.jpg\"\n",
        "\n",
        "# Nature\n",
        "response = openai.chat.completions.create(\n",
        "  model=\"gpt-4-vision-preview\",\n",
        "  messages=[\n",
        "    {\n",
        "      \"role\": \"user\",\n",
        "      \"content\": [\n",
        "        {\"type\": \"text\", \"text\": \"What’s in this image?\"},\n",
        "        {\n",
        "          \"type\": \"image_url\",\n",
        "          \"image_url\": {\n",
        "            \"url\": \"https://upload.wikimedia.org/wikipedia/commons/thumb/d/dd/Gfp-wisconsin-madison-the-nature-boardwalk.jpg/2560px-Gfp-wisconsin-madison-the-nature-boardwalk.jpg\",\n",
        "          },\n",
        "        },\n",
        "      ],\n",
        "    }\n",
        "  ],\n",
        "  max_tokens=300,\n",
        ")\n",
        "\n",
        "image_url=\"https://upload.wikimedia.org/wikipedia/commons/thumb/d/dd/Gfp-wisconsin-madison-the-nature-boardwalk.jpg/2560px-Gfp-wisconsin-madison-the-nature-boardwalk.jpg\"\n",
        "print()\n",
        "print('The image url is here: %s'%image_url)\n",
        "print()\n",
        "\n",
        "#print(response.choices[0])\n",
        "print(response.choices[0].message.content)\n",
        "\n",
        "\n",
        "## turing award recipient\n",
        "response = openai.chat.completions.create(\n",
        "  model=\"gpt-4-vision-preview\",\n",
        "  messages=[\n",
        "    {\n",
        "      \"role\": \"user\",\n",
        "      \"content\": [\n",
        "        {\"type\": \"text\", \"text\": \"Describe the image?\"},\n",
        "        {\n",
        "          \"type\": \"image_url\",\n",
        "          \"image_url\": {\n",
        "            \"url\":\"https://awards.acm.org/binaries/content/gallery/acm/ctas/awards/turing-2018-bengio-hinton-lecun.jpg\"\n",
        "          },\n",
        "        },\n",
        "      ],\n",
        "    }\n",
        "  ],\n",
        "  max_tokens=300,\n",
        ")\n",
        "\n",
        "print()\n",
        "print('The image of the 2018 Turing Award recipients is here: %s'%url)\n",
        "print()\n",
        "print(response.choices[0].message.content)\n",
        "\n",
        "\n",
        "\n",
        "\n",
        "\n"
      ]
    }
  ]
}