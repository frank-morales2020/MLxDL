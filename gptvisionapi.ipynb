{
  "nbformat": 4,
  "nbformat_minor": 0,
  "metadata": {
    "colab": {
      "provenance": [],
      "authorship_tag": "ABX9TyO4HxOj/JaYUhJaIBY+I5eo",
      "include_colab_link": true
    },
    "kernelspec": {
      "name": "python3",
      "display_name": "Python 3"
    },
    "language_info": {
      "name": "python"
    }
  },
  "cells": [
    {
      "cell_type": "markdown",
      "metadata": {
        "id": "view-in-github",
        "colab_type": "text"
      },
      "source": [
        "<a href=\"https://colab.research.google.com/github/frank-morales2020/MLxDL/blob/main/gptvisionapi.ipynb\" target=\"_parent\"><img src=\"https://colab.research.google.com/assets/colab-badge.svg\" alt=\"Open In Colab\"/></a>"
      ]
    },
    {
      "cell_type": "code",
      "execution_count": 7,
      "metadata": {
        "colab": {
          "base_uri": "https://localhost:8080/"
        },
        "id": "Af_ZQIv8Awvh",
        "outputId": "557d3bfd-0103-4900-ea3a-29ed538cf033"
      },
      "outputs": [
        {
          "output_type": "stream",
          "name": "stdout",
          "text": [
            "\n",
            "TEST - OPENAI/GPT-4-VISION API - BY FRANK MORALES - NOVEMBER 20, 2023\n",
            "\n",
            "\n",
            "The image url is here: https://upload.wikimedia.org/wikipedia/commons/thumb/d/dd/Gfp-wisconsin-madison-the-nature-boardwalk.jpg/2560px-Gfp-wisconsin-madison-the-nature-boardwalk.jpg\n",
            "\n",
            "The image shows a serene natural landscape featuring a wooden boardwalk extending through a verdant grassy wetland area. The tall green grasses on either side of the boardwalk add an impression of a lush, natural environment. The boardwalk creates a linear perspective, drawing the viewer's eye towards the horizon. The sky above is partly cloudy with various tones of blue and some white clouds, suggesting a fair weather scenario. There are some trees and shrubs in the distance that add texture and depth to the scenery. Overall, the scene conveys a sense of tranquility and might be a place for walking and enjoying nature.\n"
          ]
        }
      ],
      "source": [
        "# https://platform.openai.com/docs/guides/vision\n",
        "\n",
        "#!pip install colab-env --upgrade\n",
        "#!pip install openai\n",
        "\n",
        "import colab_env\n",
        "import os\n",
        "import openai\n",
        "\n",
        "print()\n",
        "print('TEST - OPENAI/GPT-4-VISION API - BY FRANK MORALES - NOVEMBER 20, 2023')\n",
        "print()\n",
        "\n",
        "openai.api_key = os.getenv(\"API\")\n",
        "\n",
        "response = openai.chat.completions.create(\n",
        "  model=\"gpt-4-vision-preview\",\n",
        "  messages=[\n",
        "    {\n",
        "      \"role\": \"user\",\n",
        "      \"content\": [\n",
        "        {\"type\": \"text\", \"text\": \"What’s in this image?\"},\n",
        "        {\n",
        "          \"type\": \"image_url\",\n",
        "          \"image_url\": {\n",
        "            \"url\": \"https://upload.wikimedia.org/wikipedia/commons/thumb/d/dd/Gfp-wisconsin-madison-the-nature-boardwalk.jpg/2560px-Gfp-wisconsin-madison-the-nature-boardwalk.jpg\",\n",
        "          },\n",
        "        },\n",
        "      ],\n",
        "    }\n",
        "  ],\n",
        "  max_tokens=300,\n",
        ")\n",
        "\n",
        "#print(response.choices[0])\n",
        "\n",
        "image_url=\"https://upload.wikimedia.org/wikipedia/commons/thumb/d/dd/Gfp-wisconsin-madison-the-nature-boardwalk.jpg/2560px-Gfp-wisconsin-madison-the-nature-boardwalk.jpg\"\n",
        "\n",
        "print()\n",
        "print('The image url is here: %s'%image_url)\n",
        "print()\n",
        "\n",
        "print(response.choices[0].message.content)\n",
        "\n"
      ]
    }
  ]
}