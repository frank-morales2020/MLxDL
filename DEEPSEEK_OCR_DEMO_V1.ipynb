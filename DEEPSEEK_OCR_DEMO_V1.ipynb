{
  "nbformat": 4,
  "nbformat_minor": 0,
  "metadata": {
    "colab": {
      "provenance": [],
      "machine_shape": "hm",
      "gpuType": "A100",
      "authorship_tag": "ABX9TyOtCcke234EQQ+0yn3HlGms",
      "include_colab_link": true
    },
    "kernelspec": {
      "name": "python3",
      "display_name": "Python 3"
    },
    "language_info": {
      "name": "python"
    },
    "accelerator": "GPU"
  },
  "cells": [
    {
      "cell_type": "markdown",
      "metadata": {
        "id": "view-in-github",
        "colab_type": "text"
      },
      "source": [
        "<a href=\"https://colab.research.google.com/github/frank-morales2020/MLxDL/blob/main/DEEPSEEK_OCR_DEMO_V1.ipynb\" target=\"_parent\"><img src=\"https://colab.research.google.com/assets/colab-badge.svg\" alt=\"Open In Colab\"/></a>"
      ]
    },
    {
      "cell_type": "markdown",
      "source": [
        "https://deepseek.ai/blog/deepseek-ocr-context-compression\n",
        "\n",
        "https://github.com/deepseek-ai/DeepSeek-OCR/tree/main"
      ],
      "metadata": {
        "id": "gO_se6KLkICN"
      }
    },
    {
      "cell_type": "code",
      "source": [
        "from transformers import AutoModel, AutoTokenizer\n",
        "import torch\n",
        "import os\n",
        "os.environ[\"CUDA_VISIBLE_DEVICES\"] = '0'\n",
        "model_name = 'deepseek-ai/DeepSeek-OCR'\n",
        "\n",
        "tokenizer = AutoTokenizer.from_pretrained(model_name, trust_remote_code=True)\n",
        "model = AutoModel.from_pretrained(model_name, _attn_implementation='flash_attention_2', trust_remote_code=True, use_safetensors=True)\n",
        "model = model.eval().cuda().to(torch.bfloat16)\n",
        "\n",
        "# prompt = \"<image>\\nFree OCR. \"\n",
        "prompt = \"<image>\\n<|grounding|>Convert the document to markdown. \"\n",
        "image_file = '/content/DeepSeek-OCR/assets/show4.jpg'\n",
        "output_path = '/content/DeepSeek-OCR/assets/'\n",
        "\n",
        "res = model.infer(tokenizer, prompt=prompt, image_file=image_file, output_path = output_path, base_size = 1024, image_size = 640, crop_mode=True, save_results = True, test_compress = True)"
      ],
      "metadata": {
        "id": "2jRsk2gckeD2"
      },
      "execution_count": null,
      "outputs": []
    },
    {
      "cell_type": "markdown",
      "source": [
        "\n",
        "=====================\n",
        "BASE:  torch.Size([1, 256, 1280])\n",
        "PATCHES:  torch.Size([4, 100, 1280])\n",
        "=====================\n",
        "<|ref|>text<|/ref|><|det|>[[12, 20, 390, 40]]<|/det|>\n",
        "<image>InLocate<|refl>11- 2=<|/refl> in the image.\n",
        "\n",
        "<|ref|>image<|/ref|><|det|>[[12, 50, 390, 299]]<|/det|>\n",
        "\n",
        "<|ref|>text<|/ref|><|det|>[[12, 320, 437, 340]]<|/det|>\n",
        "<image>InLocate<|refl>the teacher</|refl> in the image.\n",
        "\n",
        "<|ref|>text<|/ref|><|det|>[[20, 353, 97, 363]]<|/det|>\n",
        "MAKE ANDERSON\n",
        "\n",
        "<|ref|>image<|/ref|><|det|>[[111, 364, 360, 586]]<|/det|>\n",
        "\n",
        "<|ref|>text<|/ref|><|det|>[[72, 588, 379, 600]]<|/det|>\n",
        "\"I like how Bonnie's not stepping on my last nerve.\"\n",
        "\n",
        "<|ref|>text<|/ref|><|det|>[[20, 644, 168, 663]]<|/det|>\n",
        "<image>In这是一张\n",
        "\n",
        "<|ref|>image<|/ref|><|det|>[[13, 675, 220, 981]]<|/det|>\n",
        "\n",
        "<|ref|>text<|/ref|><|det|>[[230, 730, 355, 940]]<|/det|>\n",
        "照片，展示了一辆红色的消防栓。消防栓上有一个笑脸，显得非常友好和亲切。消防栓的顶部有一个黑色的盖子，周围有一些金属铆钉。在消防栓的底部，有一个粉红色的贴纸，上面写着“bowtie”。背景中可以看到一条街道，街道上有几辆停放的汽车和一些树木。整体画面给人一种温馨和友好的感觉。\n",
        "\n",
        "<|ref|>text<|/ref|><|det|>[[440, 20, 722, 40]]<|/det|>\n",
        "<image>InDescribe this image in detail.\n",
        "\n",
        "<|ref|>image<|/ref|><|det|>[[420, 50, 680, 299]]<|/det|>\n",
        "\n",
        "<|ref|>text<|/ref|><|det|>[[697, 58, 981, 77]]<|/det|>\n",
        "A green plastic container labeled for food storage purposes. The lid is yellow and appears slightly worn out.\n",
        "\n",
        "<|ref|>text<|/ref|><|det|>[[697, 87, 760, 95]]<|/det|>\n",
        "On the front label:\n",
        "\n",
        "<|ref|>text<|/ref|><|det|>[[697, 97, 872, 106]]<|/det|>\n",
        "-At the top left corner, some Chinese characters.\n",
        "\n",
        "<|ref|>text<|/ref|><|det|>[[697, 106, 980, 125]]<|/det|>\n",
        "- In bold black letters near the center-top as ads“6月香”（June Fragrance).\n",
        "\n",
        "<|ref|>text<|/ref|><|det|>[[697, 125, 985, 144]]<|/det|>\n",
        "-Below that, smaller white font states“鲜甜成香”which translates roughly to“Fresh Sweet Salty Fragrant.”\n",
        "\n",
        "<|ref|>text<|/ref|><|det|>[[697, 144, 980, 163]]<|/det|>\n",
        "-Dominating the middle part of the label is large lettering stating“豆瓣酱”,meaning“Bean Paste Sauce.”\n",
        "\n",
        "<|ref|>text<|/ref|><|det|>[[697, 164, 800, 172]]<|/det|>\n",
        "Additional Information includes:\n",
        "\n",
        "<|ref|>text<|/ref|><|det|>[[697, 174, 911, 183]]<|/det|>\n",
        "-A small circular logo indicating quality assurance (\"优质品\").\n",
        "\n",
        "<|ref|>text<|/ref|><|det|>[[697, 184, 970, 193]]<|/det|>\n",
        "-An illustration showing what seems like a dish made using bean paste sauce.\n",
        "\n",
        "<|ref|>text<|/ref|><|det|>[[697, 193, 980, 212]]<|/det|>\n",
        "-Text below the main title says“专注25年，只做原酿酱”translating to“Focusing since 1998, only making authentic fermented bean paste.”\n",
        "\n",
        "<|ref|>text<|/ref|><|det|>[[697, 212, 980, 221]]<|/det|>\n",
        "-On the bottom right side, additional product specifications include“净含量：500g”.\n",
        "\n",
        "<|ref|>text<|/ref|><|det|>[[697, 230, 761, 238]]<|/det|>\n",
        "Overall Style/Type:\n",
        "\n",
        "<|ref|>text<|/ref|><|det|>[[697, 239, 978, 268]]<|/det|>\n",
        "It looks like commercial packaging designed specifically for preserving food items within the jar. It has clear labeling intended for easy identification and understanding among consumers who read Mandarin.\n",
        "\n",
        "<|ref|>text<|/ref|><|det|>[[697, 277, 950, 286]]<|/det|>\n",
        "Note: There might be slight variations due to handwriting styles but overall\n",
        "\n",
        "<|ref|>text<|/ref|><|det|>[[697, 286, 940, 295]]<|/det|>\n",
        "maintains readability regarding brand identity and contents description.\n",
        "\n",
        "<|ref|>text<|/ref|><|det|>[[480, 300, 936, 340]]<|/det|>\n",
        "<image>Indentify all objects in the image and output them in bounding boxes.\n",
        "\n",
        "<|ref|>image<|/ref|><|det|>[[480, 350, 983, 666]]<|/det|>\n",
        "\n",
        "<|ref|>text<|/ref|><|det|>[[480, 700, 714, 720]]<|/det|>\n",
        "<image>In<|grounding|>OCR the image.\n",
        "\n",
        "<|ref|>image<|/ref|><|det|>[[480, 730, 666, 980]]<|/det|>\n",
        "\n",
        "<|ref|>text<|/ref|><|det|>[[748, 735, 937, 751]]<|/det|>\n",
        "君不见，黄河之水天上来\n",
        "\n",
        "<|ref|>text<|/ref|><|det|>[[748, 789, 963, 960]]<|/det|>\n",
        "，奔流到海不复回。君不见，高堂明镜悲白发，朝如青丝暮成雪。人生得意须尽欢，莫使金樽空对月。天生我材必有用，千金散尽还复来。烹羊宰牛且为乐，会须一饮三百杯。岑夫子，丹丘生，将进酒，杯莫停。与君歌一曲，请君为我倾耳听。钟鼓馔玉不足贵，但愿长醉不愿醒。古来圣贤皆寂寞，惟有饮者留其名。陈王昔时宴平乐，斗酒十千恣欢谑。主人何为言少钱，径须取对君酌。五花马，千金裘，呼儿将出换美酒，与尔同销万古愁。\n",
        "==================================================\n",
        "image size:  (1156, 1183)\n",
        "valid image tokens:  650\n",
        "output texts tokens (valid):  1185\n",
        "compression ratio:  1.82\n",
        "==================================================\n",
        "===============save results:===============\n",
        "image: 100%|██████████| 6/6 [00:00<00:00, 63230.71it/s]\n",
        "other: 100%|██████████| 26/26 [00:00<00:00, 141076.20it/s]"
      ],
      "metadata": {
        "id": "MjvASqjn3lJy"
      }
    }
  ]
}