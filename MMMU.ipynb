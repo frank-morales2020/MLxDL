{
  "cells": [
    {
      "cell_type": "markdown",
      "metadata": {
        "id": "view-in-github",
        "colab_type": "text"
      },
      "source": [
        "<a href=\"https://colab.research.google.com/github/frank-morales2020/MLxDL/blob/main/MMMU.ipynb\" target=\"_parent\"><img src=\"https://colab.research.google.com/assets/colab-badge.svg\" alt=\"Open In Colab\"/></a>"
      ]
    },
    {
      "cell_type": "code",
      "execution_count": 1,
      "metadata": {
        "id": "5J_RubxFWYZr",
        "colab": {
          "base_uri": "https://localhost:8080/"
        },
        "outputId": "5784bd01-ff77-473b-a931-df2d39b23e89"
      },
      "outputs": [
        {
          "output_type": "stream",
          "name": "stdout",
          "text": [
            "Thu May 30 18:16:31 2024       \n",
            "+---------------------------------------------------------------------------------------+\n",
            "| NVIDIA-SMI 535.104.05             Driver Version: 535.104.05   CUDA Version: 12.2     |\n",
            "|-----------------------------------------+----------------------+----------------------+\n",
            "| GPU  Name                 Persistence-M | Bus-Id        Disp.A | Volatile Uncorr. ECC |\n",
            "| Fan  Temp   Perf          Pwr:Usage/Cap |         Memory-Usage | GPU-Util  Compute M. |\n",
            "|                                         |                      |               MIG M. |\n",
            "|=========================================+======================+======================|\n",
            "|   0  NVIDIA L4                      Off | 00000000:00:03.0 Off |                    0 |\n",
            "| N/A   48C    P8              13W /  72W |      1MiB / 23034MiB |      0%      Default |\n",
            "|                                         |                      |                  N/A |\n",
            "+-----------------------------------------+----------------------+----------------------+\n",
            "                                                                                         \n",
            "+---------------------------------------------------------------------------------------+\n",
            "| Processes:                                                                            |\n",
            "|  GPU   GI   CI        PID   Type   Process name                            GPU Memory |\n",
            "|        ID   ID                                                             Usage      |\n",
            "|=======================================================================================|\n",
            "|  No running processes found                                                           |\n",
            "+---------------------------------------------------------------------------------------+\n"
          ]
        }
      ],
      "source": [
        "!nvidia-smi"
      ]
    },
    {
      "cell_type": "code",
      "execution_count": null,
      "metadata": {
        "id": "xxbqPjkS_erH"
      },
      "outputs": [],
      "source": [
        "# Install Hugging Face libraries\n",
        "!pip install  --upgrade transformers datasets accelerate evaluate bitsandbytes --quiet"
      ]
    },
    {
      "cell_type": "code",
      "execution_count": 3,
      "metadata": {
        "id": "Ec4RdOgDDvts"
      },
      "outputs": [],
      "source": [
        "CONFIG=['Accounting', 'Agriculture', 'Architecture_and_Engineering', 'Art', 'Art_Theory', 'Basic_Medical_Science',\n",
        "'Biology', 'Chemistry', 'Clinical_Medicine', 'Computer_Science', 'Design', 'Diagnostics_and_Laboratory_Medicine', 'Economics',\n",
        "'Electronics', 'Energy_and_Power', 'Finance', 'Geography', 'History', 'Literature', 'Manage', 'Marketing', 'Materials', 'Math',\n",
        "'Mechanical_Engineering', 'Music', 'Pharmacy', 'Physics', 'Psychology', 'Public_Health', 'Sociology']"
      ]
    },
    {
      "cell_type": "code",
      "execution_count": null,
      "metadata": {
        "id": "SYgS367sJ5qg"
      },
      "outputs": [],
      "source": [
        "!rm -rf /content/*.csv"
      ]
    },
    {
      "cell_type": "code",
      "source": [
        "#for split in [\"dev\", \"validation\", \"test\"]:\n",
        "#    for sample in dataset[split]:\n",
        "#        for key, value in sample.items():\n",
        "#            if isinstance(value, str):\n",
        "#                # Use a more robust encoding method\n",
        "#                #sample[key] = value.encode(\"utf-8\", errors=\"replace\")\n",
        "#                sample[key] = value.encode(\"asciik\", errors=\"replace\")"
      ],
      "metadata": {
        "id": "9wizTe7GLAIl"
      },
      "execution_count": 5,
      "outputs": []
    },
    {
      "cell_type": "code",
      "source": [
        "SUBJECT = CONFIG[2]\n",
        "print(f\"loading dataset for {SUBJECT}\")"
      ],
      "metadata": {
        "colab": {
          "base_uri": "https://localhost:8080/"
        },
        "id": "INGXC5FJvEls",
        "outputId": "b4f6127a-2aac-4067-b48a-fbf7fa16085f"
      },
      "execution_count": 23,
      "outputs": [
        {
          "output_type": "stream",
          "name": "stdout",
          "text": [
            "loading dataset for Architecture_and_Engineering\n"
          ]
        }
      ]
    },
    {
      "cell_type": "code",
      "execution_count": null,
      "metadata": {
        "id": "sxg3CRJUIJvd"
      },
      "outputs": [],
      "source": [
        "from datasets import load_dataset\n",
        "\n",
        "\n",
        "# Load the dataset with a specific configuration name\n",
        "dataset = load_dataset(\"MMMU/MMMU\", SUBJECT)\n",
        "\n",
        "\n",
        "# Save datasets to disk in CSV format\n",
        "dataset[\"dev\"].to_csv(\"dev_dataset_MMMU_%s.csv\"%SUBJECT)\n",
        "dataset[\"validation\"].to_csv(\"validation_dataset_MMMU_%s.csv\"%SUBJECT)\n",
        "dataset[\"test\"].to_csv(\"test_dataset_MMMU_%s.csv\"%SUBJECT)"
      ]
    },
    {
      "cell_type": "code",
      "execution_count": 25,
      "metadata": {
        "id": "E_u7jmyUJEN6",
        "colab": {
          "base_uri": "https://localhost:8080/"
        },
        "outputId": "075b2c70-c5fe-410e-9845-0882e1cb359c"
      },
      "outputs": [
        {
          "output_type": "stream",
          "name": "stdout",
          "text": [
            "DatasetDict({\n",
            "    dev: Dataset({\n",
            "        features: ['id', 'question', 'options', 'explanation', 'image_1', 'image_2', 'image_3', 'image_4', 'image_5', 'image_6', 'image_7', 'img_type', 'answer', 'topic_difficulty', 'question_type', 'subfield'],\n",
            "        num_rows: 5\n",
            "    })\n",
            "    validation: Dataset({\n",
            "        features: ['id', 'question', 'options', 'explanation', 'image_1', 'image_2', 'image_3', 'image_4', 'image_5', 'image_6', 'image_7', 'img_type', 'answer', 'topic_difficulty', 'question_type', 'subfield'],\n",
            "        num_rows: 30\n",
            "    })\n",
            "    test: Dataset({\n",
            "        features: ['id', 'question', 'options', 'explanation', 'image_1', 'image_2', 'image_3', 'image_4', 'image_5', 'image_6', 'image_7', 'img_type', 'answer', 'topic_difficulty', 'question_type', 'subfield'],\n",
            "        num_rows: 551\n",
            "    })\n",
            "})\n"
          ]
        }
      ],
      "source": [
        "print(dataset)"
      ]
    },
    {
      "cell_type": "code",
      "execution_count": null,
      "metadata": {
        "id": "agSFEJIzNOx3"
      },
      "outputs": [],
      "source": [
        "%cd /content/\n",
        "!git clone https://github.com/MMMU-Benchmark/MMMU.git"
      ]
    },
    {
      "cell_type": "code",
      "execution_count": null,
      "metadata": {
        "id": "5kozEM-lSHPB"
      },
      "outputs": [],
      "source": [
        "%cd /content/\n",
        "!git clone https://github.com/haotian-liu/LLaVA.git\n",
        "\n",
        "%cd /content/LLaVA/\n",
        "!pip install -e . -q"
      ]
    },
    {
      "cell_type": "code",
      "execution_count": 26,
      "metadata": {
        "id": "03Z06IyeUYou"
      },
      "outputs": [],
      "source": [
        "from llava.model.builder import load_pretrained_model"
      ]
    },
    {
      "cell_type": "code",
      "source": [
        "!pip install colab-env --quiet\n",
        "!pip install tiktoken -q"
      ],
      "metadata": {
        "id": "4futhe0pqLcE"
      },
      "execution_count": null,
      "outputs": []
    },
    {
      "cell_type": "code",
      "source": [
        "import colab_env\n",
        "import os\n",
        "\n",
        "access_token_write = os.getenv(\"HUGGINGFACE_ACCESS_TOKEN_WRITE\")\n",
        "\n",
        "from huggingface_hub import login\n",
        "\n",
        "login(\n",
        "  token=access_token_write,\n",
        "  add_to_git_credential=True\n",
        ")"
      ],
      "metadata": {
        "colab": {
          "base_uri": "https://localhost:8080/"
        },
        "id": "UFobAssyqPGu",
        "outputId": "2466cf67-720d-4251-9fee-7cb71b40d6ee"
      },
      "execution_count": 12,
      "outputs": [
        {
          "output_type": "stream",
          "name": "stdout",
          "text": [
            "Mounted at /content/gdrive\n",
            "Token is valid (permission: write).\n",
            "Your token has been saved in your configured git credential helpers (store).\n",
            "Your token has been saved to /root/.cache/huggingface/token\n",
            "Login successful\n"
          ]
        }
      ]
    },
    {
      "cell_type": "markdown",
      "source": [
        "https://github.com/MMMU-Benchmark/MMMU/tree/main/eval\n",
        "\n",
        "\n",
        "https://huggingface.co/liuhaotian/llava-v1.5-7b\n",
        "\n",
        "liuhaotian/llava-v1.5-7b\n",
        "\n",
        "https://huggingface.co/liuhaotian/llava-v1.6-mistral-7b\n",
        "\n",
        "liuhaotian/llava-v1.6-mistral-7b"
      ],
      "metadata": {
        "id": "4JA464SN69VS"
      }
    },
    {
      "cell_type": "code",
      "source": [
        "!rm -rf /content/MMMU/eval/example_outputs/llava-v1.6-mistral-7b_val.json"
      ],
      "metadata": {
        "id": "E7eqPCmSiZnk"
      },
      "execution_count": 14,
      "outputs": []
    },
    {
      "cell_type": "code",
      "source": [
        "!python /content/MMMU/eval/run_llava.py \\\n",
        "--output_path /content/MMMU/eval/example_outputs/llava-v1.6-mistral-7b_val.json \\\n",
        "--model_path liuhaotian/llava-v1.6-mistral-7b \\\n",
        "--config_path /content/MMMU/eval/configs/llava1.6.yaml"
      ],
      "metadata": {
        "id": "Qb8-uHp544ML"
      },
      "execution_count": null,
      "outputs": []
    },
    {
      "cell_type": "code",
      "source": [
        "!diff /content/MMMU/eval/example_outputs/llava1.5_13b_val.json /content/MMMU/eval/example_outputs/llava-v1.6-mistral-7b_val.json"
      ],
      "metadata": {
        "id": "g-maHk3y-e6V"
      },
      "execution_count": null,
      "outputs": []
    },
    {
      "cell_type": "code",
      "execution_count": 30,
      "metadata": {
        "colab": {
          "base_uri": "https://localhost:8080/"
        },
        "id": "Yrxr8m5gNZkn",
        "outputId": "2a9e8e92-3784-4925-d2d8-5e0e94997e12"
      },
      "outputs": [
        {
          "output_type": "stream",
          "name": "stdout",
          "text": [
            "Evaluation for MODEL: liuhaotian/llava-v1.6-mistral-7b\n",
            "Dataset: MMMU/MMMU\n",
            "\n",
            "Evaluating: Accounting\n",
            "Evaluating: Agriculture\n",
            "Evaluating: Architecture_and_Engineering\n",
            "Evaluating: Art\n",
            "Evaluating: Art_Theory\n",
            "Evaluating: Basic_Medical_Science\n",
            "Evaluating: Biology\n",
            "Evaluating: Chemistry\n",
            "Evaluating: Clinical_Medicine\n",
            "Evaluating: Computer_Science\n",
            "Evaluating: Design\n",
            "Evaluating: Diagnostics_and_Laboratory_Medicine\n",
            "Evaluating: Economics\n",
            "Evaluating: Electronics\n",
            "Evaluating: Energy_and_Power\n",
            "Evaluating: Finance\n",
            "Evaluating: Geography\n",
            "Evaluating: History\n",
            "Evaluating: Literature\n",
            "Evaluating: Manage\n",
            "Evaluating: Marketing\n",
            "Evaluating: Materials\n",
            "Evaluating: Math\n",
            "Evaluating: Mechanical_Engineering\n",
            "Evaluating: Music\n",
            "Evaluating: Pharmacy\n",
            "Evaluating: Physics\n",
            "Evaluating: Psychology\n",
            "Evaluating: Public_Health\n",
            "Evaluating: Sociology\n",
            "{'Overall-Art and Design': {'num': 120, 'acc': 0.35}, 'Art': {'num': 30, 'acc': 0.267}, 'Art_Theory': {'num': 30, 'acc': 0.233}, 'Design': {'num': 30, 'acc': 0.367}, 'Music': {'num': 30, 'acc': 0.533}, 'Overall-Business': {'num': 150, 'acc': 0.233}, 'Accounting': {'num': 30, 'acc': 0.233}, 'Economics': {'num': 30, 'acc': 0.3}, 'Finance': {'num': 30, 'acc': 0.1}, 'Manage': {'num': 30, 'acc': 0.333}, 'Marketing': {'num': 30, 'acc': 0.2}, 'Overall-Science': {'num': 150, 'acc': 0.207}, 'Biology': {'num': 30, 'acc': 0.2}, 'Chemistry': {'num': 30, 'acc': 0.1}, 'Geography': {'num': 30, 'acc': 0.233}, 'Math': {'num': 30, 'acc': 0.233}, 'Physics': {'num': 30, 'acc': 0.267}, 'Overall-Health and Medicine': {'num': 150, 'acc': 0.187}, 'Basic_Medical_Science': {'num': 30, 'acc': 0.233}, 'Clinical_Medicine': {'num': 30, 'acc': 0.067}, 'Diagnostics_and_Laboratory_Medicine': {'num': 30, 'acc': 0.2}, 'Pharmacy': {'num': 30, 'acc': 0.3}, 'Public_Health': {'num': 30, 'acc': 0.133}, 'Overall-Humanities and Social Science': {'num': 120, 'acc': 0.283}, 'History': {'num': 30, 'acc': 0.2}, 'Literature': {'num': 30, 'acc': 0.3}, 'Sociology': {'num': 30, 'acc': 0.3}, 'Psychology': {'num': 30, 'acc': 0.333}, 'Overall-Tech and Engineering': {'num': 210, 'acc': 0.262}, 'Agriculture': {'num': 30, 'acc': 0.267}, 'Architecture_and_Engineering': {'num': 30, 'acc': 0.133}, 'Computer_Science': {'num': 30, 'acc': 0.233}, 'Electronics': {'num': 30, 'acc': 0.2}, 'Energy_and_Power': {'num': 30, 'acc': 0.367}, 'Materials': {'num': 30, 'acc': 0.4}, 'Mechanical_Engineering': {'num': 30, 'acc': 0.233}, 'Overall': {'num': 900, 'acc': 0.25}}\n"
          ]
        }
      ],
      "source": [
        "#%cd /content/MMMU/eval/\n",
        "\n",
        "#liuhaotian/llava-v1.6-mistral-7b\n",
        "!python /content/MMMU/eval/main_eval_only.py"
      ]
    }
  ],
  "metadata": {
    "colab": {
      "provenance": [],
      "machine_shape": "hm",
      "gpuType": "L4",
      "authorship_tag": "ABX9TyOGQ+zUjDceg90K/i6FPtPv",
      "include_colab_link": true
    },
    "kernelspec": {
      "display_name": "Python 3",
      "name": "python3"
    },
    "language_info": {
      "name": "python"
    },
    "accelerator": "GPU"
  },
  "nbformat": 4,
  "nbformat_minor": 0
}