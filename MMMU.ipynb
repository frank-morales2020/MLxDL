{
  "cells": [
    {
      "cell_type": "markdown",
      "metadata": {
        "id": "view-in-github",
        "colab_type": "text"
      },
      "source": [
        "<a href=\"https://colab.research.google.com/github/frank-morales2020/MLxDL/blob/main/MMMU.ipynb\" target=\"_parent\"><img src=\"https://colab.research.google.com/assets/colab-badge.svg\" alt=\"Open In Colab\"/></a>"
      ]
    },
    {
      "cell_type": "code",
      "execution_count": 1,
      "metadata": {
        "id": "5J_RubxFWYZr",
        "colab": {
          "base_uri": "https://localhost:8080/"
        },
        "outputId": "8e400903-b87e-4351-c84e-7ee9abba3735"
      },
      "outputs": [
        {
          "output_type": "stream",
          "name": "stdout",
          "text": [
            "Thu May 30 07:43:09 2024       \n",
            "+---------------------------------------------------------------------------------------+\n",
            "| NVIDIA-SMI 535.104.05             Driver Version: 535.104.05   CUDA Version: 12.2     |\n",
            "|-----------------------------------------+----------------------+----------------------+\n",
            "| GPU  Name                 Persistence-M | Bus-Id        Disp.A | Volatile Uncorr. ECC |\n",
            "| Fan  Temp   Perf          Pwr:Usage/Cap |         Memory-Usage | GPU-Util  Compute M. |\n",
            "|                                         |                      |               MIG M. |\n",
            "|=========================================+======================+======================|\n",
            "|   0  NVIDIA A100-SXM4-40GB          Off | 00000000:00:04.0 Off |                    0 |\n",
            "| N/A   34C    P0              44W / 400W |      2MiB / 40960MiB |      0%      Default |\n",
            "|                                         |                      |             Disabled |\n",
            "+-----------------------------------------+----------------------+----------------------+\n",
            "                                                                                         \n",
            "+---------------------------------------------------------------------------------------+\n",
            "| Processes:                                                                            |\n",
            "|  GPU   GI   CI        PID   Type   Process name                            GPU Memory |\n",
            "|        ID   ID                                                             Usage      |\n",
            "|=======================================================================================|\n",
            "|  No running processes found                                                           |\n",
            "+---------------------------------------------------------------------------------------+\n"
          ]
        }
      ],
      "source": [
        "!nvidia-smi"
      ]
    },
    {
      "cell_type": "code",
      "execution_count": null,
      "metadata": {
        "id": "xxbqPjkS_erH"
      },
      "outputs": [],
      "source": [
        "# Install Hugging Face libraries\n",
        "!pip install  --upgrade transformers datasets accelerate evaluate bitsandbytes --quiet"
      ]
    },
    {
      "cell_type": "code",
      "execution_count": 3,
      "metadata": {
        "id": "Ec4RdOgDDvts"
      },
      "outputs": [],
      "source": [
        "CONFIG=['Accounting', 'Agriculture', 'Architecture_and_Engineering', 'Art', 'Art_Theory', 'Basic_Medical_Science',\n",
        "'Biology', 'Chemistry', 'Clinical_Medicine', 'Computer_Science', 'Design', 'Diagnostics_and_Laboratory_Medicine', 'Economics',\n",
        "'Electronics', 'Energy_and_Power', 'Finance', 'Geography', 'History', 'Literature', 'Manage', 'Marketing', 'Materials', 'Math',\n",
        "'Mechanical_Engineering', 'Music', 'Pharmacy', 'Physics', 'Psychology', 'Public_Health', 'Sociology']"
      ]
    },
    {
      "cell_type": "code",
      "execution_count": 4,
      "metadata": {
        "id": "SYgS367sJ5qg"
      },
      "outputs": [],
      "source": [
        "!rm -rf /content/*.csv"
      ]
    },
    {
      "cell_type": "code",
      "execution_count": null,
      "metadata": {
        "id": "sxg3CRJUIJvd"
      },
      "outputs": [],
      "source": [
        "from datasets import load_dataset\n",
        "\n",
        "# Print available configuration names\n",
        "#print(load_dataset(\"MMMU/MMMU\").BUILDER_CONFIGS)\n",
        "\n",
        "SUBJECT = CONFIG[0]\n",
        "print(f\"loading dataset for {SUBJECT}\")\n",
        "\n",
        "# Load the dataset with a specific configuration name\n",
        "dataset = load_dataset(\"MMMU/MMMU\", SUBJECT)\n",
        "\n",
        "for split in [\"dev\", \"validation\", \"test\"]:\n",
        "    for sample in dataset[split]:\n",
        "        for key, value in sample.items():\n",
        "            if isinstance(value, str):\n",
        "                # Use a more robust encoding method\n",
        "                sample[key] = value.encode(\"utf-8\", errors=\"replace\")\n",
        "\n",
        "# Save datasets to disk in CSV format\n",
        "dataset[\"dev\"].to_csv(\"dev_dataset_MMMU_%s.csv\"%SUBJECT)\n",
        "dataset[\"validation\"].to_csv(\"validation_dataset_MMMU_%s.csv\"%SUBJECT)\n",
        "dataset[\"test\"].to_csv(\"test_dataset_MMMU_%s.csv\"%SUBJECT)"
      ]
    },
    {
      "cell_type": "code",
      "execution_count": 6,
      "metadata": {
        "id": "E_u7jmyUJEN6",
        "colab": {
          "base_uri": "https://localhost:8080/"
        },
        "outputId": "19bcfc4e-4e6b-4311-ae02-9498ffd0368d"
      },
      "outputs": [
        {
          "output_type": "stream",
          "name": "stdout",
          "text": [
            "DatasetDict({\n",
            "    dev: Dataset({\n",
            "        features: ['id', 'question', 'options', 'explanation', 'image_1', 'image_2', 'image_3', 'image_4', 'image_5', 'image_6', 'image_7', 'img_type', 'answer', 'topic_difficulty', 'question_type', 'subfield'],\n",
            "        num_rows: 5\n",
            "    })\n",
            "    validation: Dataset({\n",
            "        features: ['id', 'question', 'options', 'explanation', 'image_1', 'image_2', 'image_3', 'image_4', 'image_5', 'image_6', 'image_7', 'img_type', 'answer', 'topic_difficulty', 'question_type', 'subfield'],\n",
            "        num_rows: 30\n",
            "    })\n",
            "    test: Dataset({\n",
            "        features: ['id', 'question', 'options', 'explanation', 'image_1', 'image_2', 'image_3', 'image_4', 'image_5', 'image_6', 'image_7', 'img_type', 'answer', 'topic_difficulty', 'question_type', 'subfield'],\n",
            "        num_rows: 380\n",
            "    })\n",
            "})\n"
          ]
        }
      ],
      "source": [
        "print(dataset)"
      ]
    },
    {
      "cell_type": "code",
      "execution_count": null,
      "metadata": {
        "id": "agSFEJIzNOx3"
      },
      "outputs": [],
      "source": [
        "%cd /content/\n",
        "!git clone https://github.com/MMMU-Benchmark/MMMU.git"
      ]
    },
    {
      "cell_type": "code",
      "execution_count": null,
      "metadata": {
        "id": "5kozEM-lSHPB"
      },
      "outputs": [],
      "source": [
        "%cd /content/\n",
        "!git clone https://github.com/haotian-liu/LLaVA.git\n",
        "\n",
        "%cd /content/LLaVA/\n",
        "!pip install -e . -q"
      ]
    },
    {
      "cell_type": "code",
      "execution_count": 9,
      "metadata": {
        "id": "03Z06IyeUYou"
      },
      "outputs": [],
      "source": [
        "from llava.model.builder import load_pretrained_model"
      ]
    },
    {
      "cell_type": "code",
      "source": [
        "!pip install colab-env --quiet\n",
        "!pip install tiktoken -q"
      ],
      "metadata": {
        "id": "4futhe0pqLcE"
      },
      "execution_count": null,
      "outputs": []
    },
    {
      "cell_type": "code",
      "source": [
        "import colab_env\n",
        "import os\n",
        "\n",
        "access_token_write = os.getenv(\"HUGGINGFACE_ACCESS_TOKEN_WRITE\")\n",
        "\n",
        "from huggingface_hub import login\n",
        "\n",
        "login(\n",
        "  token=access_token_write,\n",
        "  add_to_git_credential=True\n",
        ")"
      ],
      "metadata": {
        "colab": {
          "base_uri": "https://localhost:8080/"
        },
        "id": "UFobAssyqPGu",
        "outputId": "b31595e9-f442-4b09-d1aa-2359df36a990"
      },
      "execution_count": 21,
      "outputs": [
        {
          "output_type": "stream",
          "name": "stdout",
          "text": [
            "Mounted at /content/gdrive\n",
            "Token is valid (permission: write).\n",
            "Your token has been saved in your configured git credential helpers (store).\n",
            "Your token has been saved to /root/.cache/huggingface/token\n",
            "Login successful\n"
          ]
        }
      ]
    },
    {
      "cell_type": "code",
      "source": [
        "!pip install torch -q"
      ],
      "metadata": {
        "id": "-6WBbWM2tfU8"
      },
      "execution_count": 24,
      "outputs": []
    },
    {
      "cell_type": "code",
      "execution_count": 28,
      "metadata": {
        "colab": {
          "base_uri": "https://localhost:8080/"
        },
        "id": "Yrxr8m5gNZkn",
        "outputId": "8f0657a4-4595-4ecd-d4fc-40f7d77e635c"
      },
      "outputs": [
        {
          "output_type": "stream",
          "name": "stdout",
          "text": [
            "/content/MMMU/eval\n",
            "Evaluating: Accounting\n",
            "Evaluating: Agriculture\n",
            "Evaluating: Architecture_and_Engineering\n",
            "Evaluating: Art\n",
            "Evaluating: Art_Theory\n",
            "Evaluating: Basic_Medical_Science\n",
            "Evaluating: Biology\n",
            "Evaluating: Chemistry\n",
            "Evaluating: Clinical_Medicine\n",
            "Evaluating: Computer_Science\n",
            "Evaluating: Design\n",
            "Evaluating: Diagnostics_and_Laboratory_Medicine\n",
            "Evaluating: Economics\n",
            "Evaluating: Electronics\n",
            "Evaluating: Energy_and_Power\n",
            "Evaluating: Finance\n",
            "Evaluating: Geography\n",
            "Evaluating: History\n",
            "Evaluating: Literature\n",
            "Evaluating: Manage\n",
            "Evaluating: Marketing\n",
            "Evaluating: Materials\n",
            "Evaluating: Math\n",
            "Evaluating: Mechanical_Engineering\n",
            "Evaluating: Music\n",
            "Evaluating: Pharmacy\n",
            "Evaluating: Physics\n",
            "Evaluating: Psychology\n",
            "Evaluating: Public_Health\n",
            "Evaluating: Sociology\n",
            "{'Overall-Art and Design': {'num': 120, 'acc': 0.5}, 'Art': {'num': 30, 'acc': 0.467}, 'Art_Theory': {'num': 30, 'acc': 0.567}, 'Design': {'num': 30, 'acc': 0.6}, 'Music': {'num': 30, 'acc': 0.367}, 'Overall-Business': {'num': 150, 'acc': 0.3}, 'Accounting': {'num': 30, 'acc': 0.4}, 'Economics': {'num': 30, 'acc': 0.233}, 'Finance': {'num': 30, 'acc': 0.3}, 'Manage': {'num': 30, 'acc': 0.267}, 'Marketing': {'num': 30, 'acc': 0.3}, 'Overall-Science': {'num': 150, 'acc': 0.3}, 'Biology': {'num': 30, 'acc': 0.367}, 'Chemistry': {'num': 30, 'acc': 0.267}, 'Geography': {'num': 30, 'acc': 0.2}, 'Math': {'num': 30, 'acc': 0.333}, 'Physics': {'num': 30, 'acc': 0.333}, 'Overall-Health and Medicine': {'num': 150, 'acc': 0.34}, 'Basic_Medical_Science': {'num': 30, 'acc': 0.333}, 'Clinical_Medicine': {'num': 30, 'acc': 0.3}, 'Diagnostics_and_Laboratory_Medicine': {'num': 30, 'acc': 0.2}, 'Pharmacy': {'num': 30, 'acc': 0.433}, 'Public_Health': {'num': 30, 'acc': 0.433}, 'Overall-Humanities and Social Science': {'num': 120, 'acc': 0.475}, 'History': {'num': 30, 'acc': 0.4}, 'Literature': {'num': 30, 'acc': 0.8}, 'Sociology': {'num': 30, 'acc': 0.433}, 'Psychology': {'num': 30, 'acc': 0.267}, 'Overall-Tech and Engineering': {'num': 210, 'acc': 0.319}, 'Agriculture': {'num': 30, 'acc': 0.4}, 'Architecture_and_Engineering': {'num': 30, 'acc': 0.3}, 'Computer_Science': {'num': 30, 'acc': 0.233}, 'Electronics': {'num': 30, 'acc': 0.2}, 'Energy_and_Power': {'num': 30, 'acc': 0.433}, 'Materials': {'num': 30, 'acc': 0.333}, 'Mechanical_Engineering': {'num': 30, 'acc': 0.333}, 'Overall': {'num': 900, 'acc': 0.361}}\n"
          ]
        }
      ],
      "source": [
        "%cd /content/MMMU/eval/\n",
        "\n",
        "\n",
        "#!python /content/MMMU/eval/run_llava.py\n",
        "\n",
        "!python /content/MMMU/eval/main_eval_only.py"
      ]
    }
  ],
  "metadata": {
    "colab": {
      "provenance": [],
      "machine_shape": "hm",
      "gpuType": "A100",
      "authorship_tag": "ABX9TyPRkqrT/2mVWUJnO2RgdxYI",
      "include_colab_link": true
    },
    "kernelspec": {
      "display_name": "Python 3",
      "name": "python3"
    },
    "language_info": {
      "name": "python"
    },
    "accelerator": "GPU"
  },
  "nbformat": 4,
  "nbformat_minor": 0
}