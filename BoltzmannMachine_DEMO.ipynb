{
  "nbformat": 4,
  "nbformat_minor": 0,
  "metadata": {
    "colab": {
      "provenance": [],
      "machine_shape": "hm",
      "gpuType": "L4",
      "collapsed_sections": [
        "nhw8Vwx__3D-",
        "sIXIwA5AQQRM"
      ],
      "authorship_tag": "ABX9TyNO7X/KbR4YBwRhzj1cj6se",
      "include_colab_link": true
    },
    "kernelspec": {
      "name": "python3",
      "display_name": "Python 3"
    },
    "language_info": {
      "name": "python"
    },
    "accelerator": "GPU"
  },
  "cells": [
    {
      "cell_type": "markdown",
      "metadata": {
        "id": "view-in-github",
        "colab_type": "text"
      },
      "source": [
        "<a href=\"https://colab.research.google.com/github/frank-morales2020/MLxDL/blob/main/BoltzmannMachine_DEMO.ipynb\" target=\"_parent\"><img src=\"https://colab.research.google.com/assets/colab-badge.svg\" alt=\"Open In Colab\"/></a>"
      ]
    },
    {
      "source": [
        "!pip install --upgrade ipykernel -q\n",
        "!pip install --upgrade IPython -q\n",
        "!pip install datasets -q\n",
        "!pip install gym -q"
      ],
      "cell_type": "code",
      "metadata": {
        "id": "kqkdRo1w2mye"
      },
      "execution_count": null,
      "outputs": []
    },
    {
      "cell_type": "code",
      "source": [
        "import warnings\n",
        "\n",
        "warnings.filterwarnings(\"ignore\", category=DeprecationWarning, module=\"ipykernel.ipkernel\")\n",
        "\n",
        "\n",
        "# full and complete code corrected and no more placeholders"
      ],
      "metadata": {
        "id": "irO9a2SjeykT"
      },
      "execution_count": null,
      "outputs": []
    },
    {
      "cell_type": "markdown",
      "source": [
        "## GPU SETUP"
      ],
      "metadata": {
        "id": "lmbwzZOitqVJ"
      }
    },
    {
      "cell_type": "code",
      "source": [
        "!nvidia-smi"
      ],
      "metadata": {
        "colab": {
          "base_uri": "https://localhost:8080/"
        },
        "id": "9YB2CAbzgfXU",
        "outputId": "7fb68e1a-16cd-4d38-8c5d-be41bb012cce"
      },
      "execution_count": null,
      "outputs": [
        {
          "output_type": "stream",
          "name": "stdout",
          "text": [
            "Mon Feb 10 13:06:40 2025       \n",
            "+-----------------------------------------------------------------------------------------+\n",
            "| NVIDIA-SMI 550.54.15              Driver Version: 550.54.15      CUDA Version: 12.4     |\n",
            "|-----------------------------------------+------------------------+----------------------+\n",
            "| GPU  Name                 Persistence-M | Bus-Id          Disp.A | Volatile Uncorr. ECC |\n",
            "| Fan  Temp   Perf          Pwr:Usage/Cap |           Memory-Usage | GPU-Util  Compute M. |\n",
            "|                                         |                        |               MIG M. |\n",
            "|=========================================+========================+======================|\n",
            "|   0  NVIDIA L4                      Off |   00000000:00:03.0 Off |                    0 |\n",
            "| N/A   58C    P8             13W /   72W |       0MiB /  23034MiB |      0%      Default |\n",
            "|                                         |                        |                  N/A |\n",
            "+-----------------------------------------+------------------------+----------------------+\n",
            "                                                                                         \n",
            "+-----------------------------------------------------------------------------------------+\n",
            "| Processes:                                                                              |\n",
            "|  GPU   GI   CI        PID   Type   Process name                              GPU Memory |\n",
            "|        ID   ID                                                               Usage      |\n",
            "|=========================================================================================|\n",
            "|  No running processes found                                                             |\n",
            "+-----------------------------------------------------------------------------------------+\n"
          ]
        }
      ]
    },
    {
      "cell_type": "code",
      "source": [
        "import torch\n",
        "print(f\"Number of GPUs: {torch.cuda.device_count()}\")"
      ],
      "metadata": {
        "colab": {
          "base_uri": "https://localhost:8080/"
        },
        "id": "K8uBatapNc3a",
        "outputId": "d13ee547-6b2e-4315-86af-70bfe801a0bb"
      },
      "execution_count": null,
      "outputs": [
        {
          "output_type": "stream",
          "name": "stdout",
          "text": [
            "Number of GPUs: 1\n"
          ]
        }
      ]
    },
    {
      "source": [
        "import torch\n",
        "\n",
        "# Check for GPU and set device\n",
        "if torch.cuda.is_available():\n",
        "    device = torch.device('cuda')\n",
        "    print(f\"Using GPU: {torch.cuda.get_device_name(device)}\")\n",
        "else:\n",
        "    device = torch.device('cpu')\n",
        "    print(\"Using CPU\")\n",
        "\n",
        "# Create two tensors on the device\n",
        "a = torch.randn(1000, 1000, device=device)\n",
        "b = torch.randn(1000, 1000, device=device)\n",
        "\n",
        "# Perform a matrix multiplication on the device\n",
        "c = torch.matmul(a, b)\n",
        "\n",
        "# Print the result (to force computation)\n",
        "print(c.sum())"
      ],
      "cell_type": "code",
      "metadata": {
        "colab": {
          "base_uri": "https://localhost:8080/"
        },
        "id": "B06F9KVvhAiJ",
        "outputId": "4013024d-44c1-4fd8-a8e6-8bb503d23f8f"
      },
      "execution_count": null,
      "outputs": [
        {
          "output_type": "stream",
          "name": "stdout",
          "text": [
            "Using GPU: NVIDIA L4\n",
            "tensor(-24992.5859, device='cuda:0')\n"
          ]
        }
      ]
    },
    {
      "cell_type": "code",
      "source": [
        "import torch\n",
        "print(torch.cuda.is_available())"
      ],
      "metadata": {
        "colab": {
          "base_uri": "https://localhost:8080/"
        },
        "id": "gbW-yjAnQ4Cn",
        "outputId": "90cac525-dfa6-42c9-a21e-0b544c980770"
      },
      "execution_count": null,
      "outputs": [
        {
          "output_type": "stream",
          "name": "stdout",
          "text": [
            "True\n"
          ]
        }
      ]
    },
    {
      "cell_type": "markdown",
      "source": [
        "## DATASET"
      ],
      "metadata": {
        "id": "1MJBVWbIDd1T"
      }
    },
    {
      "cell_type": "code",
      "source": [
        "!pip install datasets -q"
      ],
      "metadata": {
        "id": "HzZtgMlLqYqs"
      },
      "execution_count": null,
      "outputs": []
    },
    {
      "cell_type": "code",
      "source": [
        "dataset"
      ],
      "metadata": {
        "colab": {
          "base_uri": "https://localhost:8080/"
        },
        "id": "m8aeaR0LvVy7",
        "outputId": "6f1f0e07-8245-492f-82a5-ac7afee86a91"
      },
      "execution_count": null,
      "outputs": [
        {
          "output_type": "stream",
          "name": "stderr",
          "text": [
            "/usr/local/lib/python3.11/dist-packages/ipykernel/ipkernel.py:283: DeprecationWarning: `should_run_async` will not call `transform_cell` automatically in the future. Please pass the result to `transformed_cell` argument and any exception that happen during thetransform in `preprocessing_exc_tuple` in IPython 7.17 and above.\n",
            "  and should_run_async(code)\n"
          ]
        },
        {
          "output_type": "execute_result",
          "data": {
            "text/plain": [
              "DatasetDict({\n",
              "    train: Dataset({\n",
              "        features: ['Item', 'Category'],\n",
              "        num_rows: 225\n",
              "    })\n",
              "})"
            ]
          },
          "metadata": {},
          "execution_count": 45
        }
      ]
    },
    {
      "source": [
        "!pip install datasets -q\n",
        "from datasets import load_dataset\n",
        "\n",
        "dataset = load_dataset('AmirMohseni/GroceryList')"
      ],
      "cell_type": "code",
      "metadata": {
        "id": "VdrTjvms_yBa"
      },
      "execution_count": null,
      "outputs": []
    },
    {
      "source": [
        "print(dataset.keys())  # Print the splits (train, test, etc.)\n",
        "print(dataset['train'][0])  # Print an example data point\n",
        "print(dataset['train'].features)  # Print the data types of each column"
      ],
      "cell_type": "code",
      "metadata": {
        "colab": {
          "base_uri": "https://localhost:8080/"
        },
        "id": "b36UsMp-_zll",
        "outputId": "480879dc-cd69-425e-e0a5-801e0402b8c6"
      },
      "execution_count": null,
      "outputs": [
        {
          "output_type": "stream",
          "name": "stdout",
          "text": [
            "dict_keys(['train'])\n",
            "{'Item': 'apple', 'Category': 'Produce'}\n",
            "{'Item': Value(dtype='string', id=None), 'Category': Value(dtype='string', id=None)}\n"
          ]
        }
      ]
    },
    {
      "cell_type": "code",
      "source": [
        "dataset['train'].features"
      ],
      "metadata": {
        "colab": {
          "base_uri": "https://localhost:8080/"
        },
        "id": "sdEc1Ef8AqCD",
        "outputId": "fdb7f852-5fba-4544-ecdf-d8acb0284893"
      },
      "execution_count": null,
      "outputs": [
        {
          "output_type": "execute_result",
          "data": {
            "text/plain": [
              "{'Item': Value(dtype='string', id=None),\n",
              " 'Category': Value(dtype='string', id=None)}"
            ]
          },
          "metadata": {},
          "execution_count": 65
        }
      ]
    },
    {
      "source": [
        "from collections import Counter\n",
        "\n",
        "item_counts = Counter(item['Item'] for item in dataset['train'])\n",
        "print(item_counts.most_common(10))  # Print the 10 most frequent items"
      ],
      "cell_type": "code",
      "metadata": {
        "colab": {
          "base_uri": "https://localhost:8080/"
        },
        "id": "8hvWwVT0_5b2",
        "outputId": "3c32a486-71f1-47f5-96e0-66ab45e188d6"
      },
      "execution_count": null,
      "outputs": [
        {
          "output_type": "stream",
          "name": "stdout",
          "text": [
            "[('ice cream', 2), ('crackers', 2), ('soy sauce', 2), ('oats', 2), ('rice', 2), ('canned tuna', 2), ('apple', 1), ('banana', 1), ('orange', 1), ('lettuce', 1)]\n"
          ]
        }
      ]
    },
    {
      "source": [
        "import matplotlib.pyplot as plt\n",
        "\n",
        "# Create a bar plot of the most common items\n",
        "plt.figure(figsize=(10, 5))\n",
        "\n",
        "# Get the items and frequencies from the most_common result\n",
        "items, frequencies = zip(*item_counts.most_common(10))\n",
        "\n",
        "# Use the items and frequencies for the bar plot\n",
        "plt.bar(items, frequencies)\n",
        "\n",
        "plt.xlabel(\"Item\")\n",
        "plt.ylabel(\"Frequency\")\n",
        "plt.title(\"Top 10 Most Frequent Items\")\n",
        "plt.xticks(rotation=45, ha='right')\n",
        "plt.show()"
      ],
      "cell_type": "code",
      "metadata": {
        "colab": {
          "base_uri": "https://localhost:8080/",
          "height": 469
        },
        "id": "mf6r_u6JAEzt",
        "outputId": "bc243599-5659-44e2-90cb-2e629e533fe1"
      },
      "execution_count": null,
      "outputs": [
        {
          "output_type": "display_data",
          "data": {
            "text/plain": [
              "<Figure size 1000x500 with 1 Axes>"
            ],
            "image/png": "[encoded data removed]"
          },
          "metadata": {}
        }
      ]
    },
    {
      "cell_type": "markdown",
      "source": [
        "## TRAINING AND EVALUATION"
      ],
      "metadata": {
        "id": "nhw8Vwx__3D-"
      }
    },
    {
      "source": [
        "import gym\n",
        "import torch\n",
        "import torch.nn as nn\n",
        "import numpy as np\n",
        "from tqdm import tqdm\n",
        "from datasets import load_dataset\n",
        "from collections import deque\n",
        "import random\n",
        "\n",
        "# Check for GPU and set device\n",
        "if torch.cuda.is_available():\n",
        "    device = torch.device('cuda')\n",
        "    print(f\"Using GPU: {torch.cuda.get_device_name(device)}\")\n",
        "else:\n",
        "    device = torch.device('cpu')\n",
        "    print(\"Using CPU\")\n",
        "\n",
        "class BoltzmannMachine(nn.Module):\n",
        "    def __init__(self, num_visible, num_hidden):\n",
        "        super(BoltzmannMachine, self).__init__()\n",
        "        self.num_visible = num_visible\n",
        "        self.num_hidden = num_hidden\n",
        "        self.debug_print = False  # Set to True to enable debug printing\n",
        "\n",
        "        # Initialize weights with a uniform distribution\n",
        "        np_rng = np.random.RandomState(1234)\n",
        "        initial_weights = torch.from_numpy(np.asarray(np_rng.uniform(\n",
        "            low=-0.1 * np.sqrt(6. / (num_hidden + num_visible)),\n",
        "            high=0.1 * np.sqrt(6. / (num_hidden + num_visible)),\n",
        "            size=(num_visible, num_hidden)\n",
        "        ), dtype=np.float32))\n",
        "\n",
        "        # Insert weights for the bias units\n",
        "        weights = torch.cat([torch.zeros(1, num_hidden, dtype=initial_weights.dtype), initial_weights], dim=0)\n",
        "        weights = torch.cat([torch.zeros(num_visible + 1, 1, dtype=initial_weights.dtype), weights], dim=1)\n",
        "        self.weights = nn.Parameter(weights)  # Make weights a learnable parameter\n",
        "        self.to(device)  # Move the model to the device\n",
        "\n",
        "    def sample_hidden(self, visible_state):\n",
        "        visible_state = visible_state.to(self.weights.device)\n",
        "        # Reshape visible_state to have a single row\n",
        "        visible_state = visible_state.view(1, -1)  # Reshape to (1, num_visible)\n",
        "        # Create a 1-dimensional tensor of ones with the correct shape\n",
        "        visible_state = torch.cat([torch.ones(1, 1, device=visible_state.device), visible_state], dim=1)\n",
        "        hidden_activations = torch.matmul(visible_state, self.weights)\n",
        "        hidden_probs = torch.sigmoid(hidden_activations)\n",
        "        hidden_state = torch.bernoulli(hidden_probs)\n",
        "        return hidden_state\n",
        "\n",
        "    def sample_visible(self, hidden_state):\n",
        "        hidden_state = hidden_state.to(self.weights.device)\n",
        "        hidden_state = torch.cat([torch.ones(hidden_state.shape, 1, device=hidden_state.device), hidden_state], dim=1)\n",
        "        visible_activations = torch.matmul(hidden_state, self.weights.t())\n",
        "        visible_probs = torch.sigmoid(visible_activations)\n",
        "        visible_state = torch.bernoulli(visible_probs)\n",
        "        return visible_state\n",
        "\n",
        "    def train(self, data, max_epochs=1000, learning_rate=0.1):\n",
        "        data = data.to(self.weights.device)\n",
        "        # Get the shape of the data tensor\n",
        "        data_shape = data.shape\n",
        "\n",
        "        # Create a tensor of ones with the same shape as data, except for the last dimension\n",
        "        ones_tensor = torch.ones(*data_shape[:-1], 1, device=data.device)  # Use * to unpack the shape tuple\n",
        "\n",
        "        data = torch.cat([ones_tensor, data], dim=-1)  # Concatenate along the last dimension\n",
        "        self.num_visible = data.shape[-1] - 1  # Update num_visible based on data shape\n",
        "        self.weights = nn.Parameter(torch.randn(self.num_visible + 1, self.num_hidden + 1, device=device))  # Re-initialize weights\n",
        "\n",
        "        for epoch in range(max_epochs):\n",
        "            pos_hidden_probs = torch.sigmoid(torch.matmul(data, self.weights))\n",
        "            pos_hidden_probs[:, 0] = 1  # Fix the bias unit\n",
        "            pos_hidden_states = (pos_hidden_probs > torch.rand(pos_hidden_probs.size(), device=pos_hidden_probs.device)).float()\n",
        "            pos_associations = torch.matmul(data.t(), pos_hidden_probs)\n",
        "\n",
        "            neg_visible_probs = torch.sigmoid(torch.matmul(pos_hidden_states, self.weights.t()))\n",
        "            neg_visible_probs[:, 0] = 1  # Fix the bias unit\n",
        "            neg_hidden_probs = torch.sigmoid(torch.matmul(neg_visible_probs, self.weights))\n",
        "            neg_associations = torch.matmul(neg_visible_probs.t(), neg_hidden_probs)\n",
        "\n",
        "            self.weights.data += learning_rate * ((pos_associations - neg_associations) / data.shape[0])\n",
        "            error = (data - neg_visible_probs).pow(2).sum()\n",
        "            if self.debug_print:\n",
        "                print(f\"Epoch {epoch}: error is {error}\")\n",
        "\n",
        "\n",
        "from collections import deque\n",
        "import random\n",
        "\n",
        "class QLearningAgent:\n",
        "    def __init__(self, observation_space, action_space, learning_rate=0.01, discount_factor=0.9, epsilon=0.2, buffer_size=10000, batch_size=32, epsilon_decay=0.995, device=None):\n",
        "        self.observation_space = observation_space\n",
        "        self.action_space = action_space\n",
        "        self.learning_rate = learning_rate\n",
        "        self.discount_factor = discount_factor\n",
        "        self.epsilon = epsilon\n",
        "        self.buffer_size = buffer_size\n",
        "        self.batch_size = batch_size\n",
        "        self.epsilon_decay = epsilon_decay\n",
        "        self.device = device\n",
        "\n",
        "        # Q-table as numpy array, +1 for checkout action\n",
        "        self.q_table = np.zeros((observation_space['current_item'].n, observation_space['cart_contents'].shape[0] + 1, action_space.n), dtype=np.float32)\n",
        "        self.q_table[:] = 0.1  # Initialize with small positive values\n",
        "\n",
        "        self.returns = {}  # Store returns for each state-action pair\n",
        "\n",
        "    def get_action(self, state):\n",
        "        if not isinstance(state, dict):\n",
        "            raise TypeError(\"Expected state to be a dictionary.\")\n",
        "\n",
        "        current_item = state['current_item']\n",
        "        cart_contents_index = tuple(state['cart_contents'].astype(int))\n",
        "\n",
        "        if np.random.rand() < self.epsilon:\n",
        "            return self.action_space.sample()\n",
        "        else:\n",
        "            q_values = self.q_table[current_item, cart_contents_index]\n",
        "            action = np.argmax(q_values)\n",
        "            return action\n",
        "\n",
        "    def update(self, episode):\n",
        "        states, actions, rewards = zip(*episode)\n",
        "        G = 0\n",
        "        for t in reversed(range(len(states))):\n",
        "            G = self.discount_factor * G + rewards[t]\n",
        "\n",
        "            current_item = states[t]['current_item']\n",
        "            cart_contents_index = tuple(states[t]['cart_contents'].astype(int))\n",
        "            state_action = (current_item, cart_contents_index, actions[t])\n",
        "\n",
        "            if state_action not in self.returns:\n",
        "                self.returns[state_action] = []\n",
        "\n",
        "            self.returns[state_action].append(G)  # Append the return for this state-action\n",
        "            self.q_table[current_item, cart_contents_index, actions[t]] = np.mean(self.returns[state_action])\n",
        "\n",
        "        # Decay epsilon\n",
        "        self.epsilon = max(0.01, self.epsilon * self.epsilon_decay)\n",
        "\n",
        "\n",
        "import gym\n",
        "import numpy as np\n",
        "\n",
        "class GroceryShoppingEnv(gym.Env):\n",
        "    def __init__(self, num_items=225):\n",
        "        self.action_space = gym.spaces.Discrete(num_items + 1)  # +1 for checkout action\n",
        "        self.observation_space = gym.spaces.Dict({\n",
        "            'current_item': gym.spaces.Discrete(num_items),\n",
        "            'cart_contents': gym.spaces.MultiBinary(num_items),\n",
        "            'budget': gym.spaces.Box(low=0, high=1000, shape=(1,), dtype=np.float32)\n",
        "        })\n",
        "        self.num_items = num_items\n",
        "        self.reset()\n",
        "\n",
        "    def reset(self):\n",
        "        self.current_item = 0\n",
        "        self.cart_contents = np.zeros(self.num_items)\n",
        "        self.budget = 100\n",
        "        return self._get_obs()\n",
        "\n",
        "    def step(self, action):\n",
        "        # Checkout action\n",
        "        if action == self.num_items:\n",
        "            reward = self.budget * 2 + np.sum(self.cart_contents) * 5  # Reward for budget and items\n",
        "            return self._get_obs(), reward, True, {}\n",
        "\n",
        "        # Penalty for duplicate items\n",
        "        if self.cart_contents[action] == 1:\n",
        "            return self._get_obs(), -5, False, {}  # Reduced penalty\n",
        "\n",
        "        # Item price and budget check\n",
        "        item_price = np.random.rand() * 10\n",
        "        if item_price > self.budget:\n",
        "            return self._get_obs(), -10, False, {}  # Penalty for exceeding budget\n",
        "\n",
        "        # Update cart, budget, and current item\n",
        "        self.cart_contents[action] = 1\n",
        "        self.budget -= item_price\n",
        "        self.current_item = (self.current_item + 1) % self.num_items\n",
        "\n",
        "        # Reward for purchasing a unique item\n",
        "        reward = 5 + 10  # Reward for unique item + increased reward\n",
        "        return self._get_obs(), reward, False, {}\n",
        "\n",
        "    def _get_obs(self):\n",
        "        return {\n",
        "            'current_item': self.current_item,\n",
        "            'cart_contents': self.cart_contents,\n",
        "            'budget': np.array([self.budget])\n",
        "        }\n",
        "\n",
        "def unlearning_phase(bm, data, forget_ratio=0.1):\n",
        "    bm.train(data)\n",
        "\n",
        "def preprocess_data(dataset):\n",
        "    vocabulary = set()\n",
        "    for item in dataset['train']:\n",
        "        vocabulary.add(item['Item'])\n",
        "    vocabulary = list(vocabulary)  # Convert set to list for consistent ordering\n",
        "    binary_data = []\n",
        "    for item in dataset['train']:\n",
        "        binary_data.append([1 if word in item['Item'] else 0 for word in vocabulary])  # Check if word is in the item\n",
        "    binary_data = torch.tensor(binary_data, dtype=torch.float32).to(device)\n",
        "    return binary_data\n",
        "\n",
        "# Load the dataset and get the number of unique items\n",
        "dataset = load_dataset('AmirMohseni/GroceryList')\n",
        "all_items = [item['Item'] for item in dataset['train']]\n",
        "num_items_in_dataset = len(set(all_items))\n",
        "\n",
        "# Create environment, Boltzmann machine, and Q-learning agent\n",
        "env = GroceryShoppingEnv(num_items=num_items_in_dataset)\n",
        "bm = BoltzmannMachine(num_visible=num_items_in_dataset, num_hidden=50).to(device)\n",
        "agent = QLearningAgent(env.observation_space, env.action_space,\n",
        "                       discount_factor=0.8, learning_rate=0.01,\n",
        "                       epsilon=0.2, epsilon_decay=0.995,\n",
        "                       device=device)\n",
        "\n",
        "# Generate random training data for the Boltzmann machine\n",
        "training_data = np.random.randint(2, size=(1000, num_items_in_dataset))\n",
        "training_data = torch.tensor(training_data, dtype=torch.float32, device=device)\n",
        "\n",
        "# Training loop\n",
        "num_episodes = 2000\n",
        "\n",
        "#with torch.profiler.profile(\n",
        "#    activities=[\n",
        "#        torch.profiler.ProfilerActivity.CPU,\n",
        "#        torch.profiler.ProfilerActivity.CUDA,\n",
        "#    ],\n",
        "#    record_shapes=True,\n",
        "#    profile_memory=True,\n",
        "#    schedule=torch.profiler.schedule(\n",
        "#        wait=1, warmup=1, active=3, repeat=2\n",
        "#    ),\n",
        "#    on_trace_ready=torch.profiler.tensorboard_trace_handler('./log/bm_profiler'),\n",
        "#    with_stack=True\n",
        "#) as prof:\n",
        "for episode in tqdm(range(num_episodes), desc=\"Training Progress\"):\n",
        "        state = env.reset()\n",
        "        done = False\n",
        "        episode_data = []  # Store episode data\n",
        "        while not done:\n",
        "            # Get Boltzmann machine input and sample hidden state\n",
        "            bm_input = torch.tensor(state['cart_contents'], dtype=torch.float32, device=device)\n",
        "            hidden_state = bm.sample_hidden(bm_input)\n",
        "\n",
        "            # Process state for Q-learning agent\n",
        "            processed_state = {\n",
        "                'hidden_state': tuple(hidden_state.cpu().detach().numpy().flatten()),\n",
        "                'current_item': state['current_item'],\n",
        "                'budget': state['budget'],\n",
        "                'cart_contents': state['cart_contents']\n",
        "            }\n",
        "\n",
        "            # Get action from Q-learning agent\n",
        "            action = agent.get_action(processed_state)\n",
        "\n",
        "            # Take a step in the environment\n",
        "            next_state, reward, done, _ = env.step(action)\n",
        "\n",
        "            # Store episode data\n",
        "            episode_data.append((state, action, reward))\n",
        "\n",
        "            # Update state\n",
        "            state = next_state\n",
        "\n",
        "        # Update Q-learning agent after the episode\n",
        "        agent.update(episode_data)\n",
        "\n",
        "        # Perform unlearning on the Boltzmann machine\n",
        "        if episode % 50 == 0:\n",
        "            unlearning_phase(bm, training_data, forget_ratio=0.02)\n",
        "\n",
        "\n",
        "        #prof.step()\n",
        "\n",
        "# Print some results\n",
        "print(\"\\n--- Training Results ---\")\n",
        "print(\"Number of episodes:\", num_episodes)\n",
        "\n",
        "# Evaluation phase\n",
        "print(\"\\n--- Evaluation ---\")\n",
        "num_eval_episodes = 100\n",
        "total_eval_reward = 0\n",
        "for episode in tqdm(range(num_eval_episodes), desc=\"Evaluation Progress\"):\n",
        "    state = env.reset()\n",
        "    done = False\n",
        "    episode_reward = 0\n",
        "    while not done:\n",
        "        bm_input = torch.tensor(state['cart_contents'], dtype=torch.float32).to(device)\n",
        "        hidden_state = bm.sample_hidden(bm_input)\n",
        "        processed_state = {\n",
        "            'hidden_state': hidden_state.cpu().detach().numpy(),\n",
        "            'current_item': state['current_item'],\n",
        "            'budget': state['budget'],\n",
        "             'cart_contents': state['cart_contents']  # Include 'cart_contents' here\n",
        "        }\n",
        "        action = agent.get_action(processed_state)\n",
        "        next_state, reward, done, _ = env.step(action)\n",
        "        episode_reward += reward\n",
        "        state = next_state\n",
        "    total_eval_reward += episode_reward\n",
        "avg_eval_reward = total_eval_reward / num_eval_episodes\n",
        "print(f\"\\nAverage evaluation reward: {avg_eval_reward}\")"
      ],
      "cell_type": "code",
      "metadata": {
        "colab": {
          "base_uri": "https://localhost:8080/"
        },
        "id": "ev-nd0gKAEnk",
        "outputId": "053d3d7d-feff-4fb3-96fa-026759f5257a"
      },
      "execution_count": 150,
      "outputs": [
        {
          "output_type": "stream",
          "name": "stdout",
          "text": [
            "Using GPU: NVIDIA L4\n"
          ]
        },
        {
          "output_type": "stream",
          "name": "stderr",
          "text": [
            "Training Progress: 100%|██████████| 2000/2000 [00:38<00:00, 52.30it/s]\n"
          ]
        },
        {
          "output_type": "stream",
          "name": "stdout",
          "text": [
            "\n",
            "--- Training Results ---\n",
            "Number of episodes: 2000\n",
            "\n",
            "--- Evaluation ---\n"
          ]
        },
        {
          "output_type": "stream",
          "name": "stderr",
          "text": [
            "Evaluation Progress: 100%|██████████| 100/100 [00:00<00:00, 455.15it/s]"
          ]
        },
        {
          "output_type": "stream",
          "name": "stdout",
          "text": [
            "\n",
            "Average evaluation reward: 241.4347807328407\n"
          ]
        },
        {
          "output_type": "stream",
          "name": "stderr",
          "text": [
            "\n"
          ]
        }
      ]
    },
    {
      "cell_type": "markdown",
      "source": [
        "## OVERFITTING SOLUTIONS\n",
        "\n"
      ],
      "metadata": {
        "id": "sIXIwA5AQQRM"
      }
    },
    {
      "cell_type": "code",
      "source": [
        "import gym\n",
        "import torch\n",
        "import torch.nn as nn\n",
        "import numpy as np\n",
        "from tqdm import tqdm\n",
        "from datasets import load_dataset\n",
        "from collections import deque\n",
        "import random\n",
        "\n",
        "# Check for GPU and set device\n",
        "if torch.cuda.is_available():\n",
        "    device = torch.device('cuda')\n",
        "    print(f\"Using GPU: {torch.cuda.get_device_name(device)}\")\n",
        "else:\n",
        "    device = torch.device('cpu')\n",
        "    print(\"Using CPU\")\n",
        "\n",
        "#... (BoltzmannMachine, QLearningAgent, and GroceryShoppingEnv classes remain the same)...\n",
        "\n",
        "def unlearning_phase(bm, data, forget_ratio=0.1):\n",
        "    bm.train(data)\n",
        "\n",
        "def preprocess_data(dataset):\n",
        "    vocabulary = set()\n",
        "    for item in dataset['train']:\n",
        "        vocabulary.add(item['Item'])\n",
        "    vocabulary = list(vocabulary)  # Convert set to list for consistent ordering\n",
        "    binary_data = []\n",
        "    for item in dataset['train']:\n",
        "        binary_data.append([1 if word in item['Item'] else 0 for word in vocabulary])  # Check if word is in the item\n",
        "    binary_data = torch.tensor(binary_data, dtype=torch.float32).to(device)\n",
        "    return binary_data\n",
        "\n",
        "# Load the dataset and get the number of unique items\n",
        "dataset = load_dataset('AmirMohseni/GroceryList')\n",
        "all_items = [item['Item'] for item in dataset['train']]\n",
        "num_items_in_dataset = len(set(all_items))\n",
        "\n",
        "# Create environment, Boltzmann machine, and Q-learning agent\n",
        "env = GroceryShoppingEnv(num_items=num_items_in_dataset)\n",
        "bm = BoltzmannMachine(num_visible=num_items_in_dataset, num_hidden=50).to(device)\n",
        "agent = QLearningAgent(env.observation_space, env.action_space,\n",
        "                       discount_factor=0.8, learning_rate=0.01,\n",
        "                       epsilon=0.2, epsilon_decay=0.995,\n",
        "                       device=device)\n",
        "\n",
        "# Generate random training data for the Boltzmann machine\n",
        "training_data = np.random.randint(2, size=(1000, num_items_in_dataset))\n",
        "training_data = torch.tensor(training_data, dtype=torch.float32, device=device)\n",
        "\n",
        "# Training loop\n",
        "num_episodes = 2000\n",
        "\n",
        "with torch.profiler.profile(\n",
        "    activities=[\n",
        "        torch.profiler.ProfilerActivity.CPU,\n",
        "        torch.profiler.ProfilerActivity.CUDA,\n",
        "    ],\n",
        "    record_shapes=True,\n",
        "    profile_memory=True,\n",
        "    schedule=torch.profiler.schedule(\n",
        "        wait=1, warmup=1, active=3, repeat=2\n",
        "    ),\n",
        "    on_trace_ready=torch.profiler.tensorboard_trace_handler('./log/bm_profiler'),\n",
        "    with_stack=True\n",
        ") as prof:\n",
        "    for episode in tqdm(range(num_episodes), desc=\"Training Progress\"):\n",
        "        state = env.reset()\n",
        "        done = False\n",
        "        episode_data = [] # Store episode data\n",
        "        while not done:\n",
        "            # Get Boltzmann machine input and sample hidden state\n",
        "            bm_input = torch.tensor(state['cart_contents'], dtype=torch.float32, device=device)\n",
        "            hidden_state = bm.sample_hidden(bm_input)\n",
        "\n",
        "            # Process state for Q-learning agent\n",
        "            processed_state = {\n",
        "                'hidden_state': tuple(hidden_state.cpu().detach().numpy().flatten()),\n",
        "                'current_item': state['current_item'],\n",
        "                'budget': state['budget'],\n",
        "                'cart_contents': state['cart_contents']\n",
        "            }\n",
        "\n",
        "            # Get action from Q-learning agent\n",
        "            action = agent.get_action(processed_state)\n",
        "\n",
        "            # Take a step in the environment\n",
        "            next_state, reward, done, _ = env.step(action)\n",
        "\n",
        "            # Store episode data\n",
        "            episode_data.append((state, action, reward))\n",
        "\n",
        "            # Update state\n",
        "            state = next_state\n",
        "\n",
        "        # Update Q-learning agent after the episode\n",
        "        agent.update(episode_data)\n",
        "\n",
        "        # Perform unlearning on the Boltzmann machine\n",
        "        if episode % 5 == 0:  # Increased unlearning frequency\n",
        "            unlearning_phase(bm, training_data, forget_ratio=0.02)\n",
        "\n",
        "        prof.step()\n",
        "\n",
        "# Print some results\n",
        "print(\"\\n--- Training Results ---\")\n",
        "print(\"Number of episodes:\", num_episodes)\n",
        "\n",
        "# Evaluation phase\n",
        "print(\"\\n--- Evaluation ---\")\n",
        "num_eval_episodes = 100\n",
        "total_eval_reward = 0\n",
        "for episode in tqdm(range(num_eval_episodes), desc=\"Evaluation Progress\"):\n",
        "    state = env.reset()\n",
        "    done = False\n",
        "    episode_reward = 0\n",
        "    while not done:\n",
        "        bm_input = torch.tensor(state['cart_contents'], dtype=torch.float32).to(device)\n",
        "        hidden_state = bm.sample_hidden(bm_input)\n",
        "        processed_state = {\n",
        "            'hidden_state': hidden_state.cpu().detach().numpy(),\n",
        "            'current_item': state['current_item'],\n",
        "            'budget': state['budget'],\n",
        "            'cart_contents': state['cart_contents']  # Include 'cart_contents' here\n",
        "        }\n",
        "        action = agent.get_action(processed_state)\n",
        "        next_state, reward, done, _ = env.step(action)\n",
        "        episode_reward += reward\n",
        "        state = next_state\n",
        "    total_eval_reward += episode_reward\n",
        "avg_eval_reward = total_eval_reward / num_eval_episodes\n",
        "print(f\"\\nAverage evaluation reward: {avg_eval_reward}\")"
      ],
      "metadata": {
        "colab": {
          "base_uri": "https://localhost:8080/"
        },
        "id": "lOT3FN0JQN71",
        "outputId": "c4be8081-1987-4fee-f620-8d1f76c99468"
      },
      "execution_count": 149,
      "outputs": [
        {
          "output_type": "stream",
          "name": "stdout",
          "text": [
            "Using GPU: NVIDIA L4\n"
          ]
        },
        {
          "output_type": "stream",
          "name": "stderr",
          "text": [
            "Training Progress: 100%|██████████| 2000/2000 [04:49<00:00,  6.91it/s]\n"
          ]
        },
        {
          "output_type": "stream",
          "name": "stdout",
          "text": [
            "\n",
            "--- Training Results ---\n",
            "Number of episodes: 2000\n",
            "\n",
            "--- Evaluation ---\n"
          ]
        },
        {
          "output_type": "stream",
          "name": "stderr",
          "text": [
            "Evaluation Progress: 100%|██████████| 100/100 [00:00<00:00, 544.39it/s]"
          ]
        },
        {
          "output_type": "stream",
          "name": "stdout",
          "text": [
            "\n",
            "Average evaluation reward: 228.35631691289944\n"
          ]
        },
        {
          "output_type": "stream",
          "name": "stderr",
          "text": [
            "\n"
          ]
        }
      ]
    }
  ]
}