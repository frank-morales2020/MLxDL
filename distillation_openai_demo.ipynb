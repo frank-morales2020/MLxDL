{
  "nbformat": 4,
  "nbformat_minor": 0,
  "metadata": {
    "colab": {
      "provenance": [],
      "authorship_tag": "ABX9TyNGBiBV18oQVhxJBi3U7WPA",
      "include_colab_link": true
    },
    "kernelspec": {
      "name": "python3",
      "display_name": "Python 3"
    },
    "language_info": {
      "name": "python"
    }
  },
  "cells": [
    {
      "cell_type": "markdown",
      "metadata": {
        "id": "view-in-github",
        "colab_type": "text"
      },
      "source": [
        "<a href=\"https://colab.research.google.com/github/frank-morales2020/MLxDL/blob/main/distillation_openai_demo.ipynb\" target=\"_parent\"><img src=\"https://colab.research.google.com/assets/colab-badge.svg\" alt=\"Open In Colab\"/></a>"
      ]
    },
    {
      "cell_type": "code",
      "source": [
        "!pip install openai -q\n",
        "!pip install python-dotenv -q\n",
        "!pip install tiktoken -q\n",
        "!pip install colab-env -q"
      ],
      "metadata": {
        "id": "pPsrQDM6p3Er"
      },
      "execution_count": 3,
      "outputs": []
    },
    {
      "cell_type": "code",
      "source": [
        "from openai import OpenAI\n",
        "client = OpenAI()\n",
        "\n",
        "modellist=client.models.list()\n",
        "modellist.data"
      ],
      "metadata": {
        "colab": {
          "base_uri": "https://localhost:8080/"
        },
        "id": "uYKCDaeCun7B",
        "outputId": "0e80f5fb-224a-40eb-b333-84999e468cc3"
      },
      "execution_count": 6,
      "outputs": [
        {
          "output_type": "execute_result",
          "data": {
            "text/plain": [
              "[Model(id='gpt-4o-audio-preview-2024-12-17', created=1734034239, object='model', owned_by='system'),\n",
              " Model(id='gpt-4o-realtime-preview-2024-12-17', created=1733945430, object='model', owned_by='system'),\n",
              " Model(id='dall-e-3', created=1698785189, object='model', owned_by='system'),\n",
              " Model(id='dall-e-2', created=1698798177, object='model', owned_by='system'),\n",
              " Model(id='gpt-4o-audio-preview-2024-10-01', created=1727389042, object='model', owned_by='system'),\n",
              " Model(id='gpt-4-0314', created=1687882410, object='model', owned_by='openai'),\n",
              " Model(id='gpt-4o-realtime-preview-2024-10-01', created=1727131766, object='model', owned_by='system'),\n",
              " Model(id='gpt-4o-transcribe', created=1742068463, object='model', owned_by='system'),\n",
              " Model(id='gpt-4o-mini-transcribe', created=1742068596, object='model', owned_by='system'),\n",
              " Model(id='gpt-4o-realtime-preview', created=1727659998, object='model', owned_by='system'),\n",
              " Model(id='babbage-002', created=1692634615, object='model', owned_by='system'),\n",
              " Model(id='gpt-4o-mini-tts', created=1742403959, object='model', owned_by='system'),\n",
              " Model(id='tts-1-hd-1106', created=1699053533, object='model', owned_by='system'),\n",
              " Model(id='text-embedding-3-large', created=1705953180, object='model', owned_by='system'),\n",
              " Model(id='gpt-4', created=1687882411, object='model', owned_by='openai'),\n",
              " Model(id='o3-mini', created=1737146383, object='model', owned_by='system'),\n",
              " Model(id='computer-use-preview', created=1734655677, object='model', owned_by='system'),\n",
              " Model(id='computer-use-preview-2025-03-11', created=1741377021, object='model', owned_by='system'),\n",
              " Model(id='tts-1-hd', created=1699046015, object='model', owned_by='system'),\n",
              " Model(id='gpt-4o-mini-audio-preview', created=1734387424, object='model', owned_by='system'),\n",
              " Model(id='o3-mini-2025-01-31', created=1738010200, object='model', owned_by='system'),\n",
              " Model(id='gpt-4o-audio-preview', created=1727460443, object='model', owned_by='system'),\n",
              " Model(id='o1-preview-2024-09-12', created=1725648865, object='model', owned_by='system'),\n",
              " Model(id='o1-2024-12-17', created=1734326976, object='model', owned_by='system'),\n",
              " Model(id='gpt-3.5-turbo-instruct-0914', created=1694122472, object='model', owned_by='system'),\n",
              " Model(id='gpt-4o-mini-search-preview', created=1741391161, object='model', owned_by='system'),\n",
              " Model(id='o1', created=1734375816, object='model', owned_by='system'),\n",
              " Model(id='tts-1-1106', created=1699053241, object='model', owned_by='system'),\n",
              " Model(id='o1-pro-2025-03-19', created=1742251504, object='model', owned_by='system'),\n",
              " Model(id='o1-pro', created=1742251791, object='model', owned_by='system'),\n",
              " Model(id='davinci-002', created=1692634301, object='model', owned_by='system'),\n",
              " Model(id='gpt-3.5-turbo-1106', created=1698959748, object='model', owned_by='system'),\n",
              " Model(id='gpt-4o-search-preview', created=1741388720, object='model', owned_by='system'),\n",
              " Model(id='gpt-4-turbo', created=1712361441, object='model', owned_by='system'),\n",
              " Model(id='gpt-3.5-turbo-instruct', created=1692901427, object='model', owned_by='system'),\n",
              " Model(id='gpt-3.5-turbo', created=1677610602, object='model', owned_by='openai'),\n",
              " Model(id='gpt-4o-mini-search-preview-2025-03-11', created=1741390858, object='model', owned_by='system'),\n",
              " Model(id='gpt-4o-mini-realtime-preview', created=1734387380, object='model', owned_by='system'),\n",
              " Model(id='chatgpt-4o-latest', created=1723515131, object='model', owned_by='system'),\n",
              " Model(id='whisper-1', created=1677532384, object='model', owned_by='openai-internal'),\n",
              " Model(id='gpt-3.5-turbo-0125', created=1706048358, object='model', owned_by='system'),\n",
              " Model(id='gpt-4-turbo-2024-04-09', created=1712601677, object='model', owned_by='system'),\n",
              " Model(id='gpt-3.5-turbo-16k-0613', created=1685474247, object='model', owned_by='openai'),\n",
              " Model(id='gpt-3.5-turbo-16k', created=1683758102, object='model', owned_by='openai-internal'),\n",
              " Model(id='gpt-4o-mini-realtime-preview-2024-12-17', created=1734112601, object='model', owned_by='system'),\n",
              " Model(id='gpt-4-1106-preview', created=1698957206, object='model', owned_by='system'),\n",
              " Model(id='text-embedding-ada-002', created=1671217299, object='model', owned_by='openai-internal'),\n",
              " Model(id='o1-preview', created=1725648897, object='model', owned_by='system'),\n",
              " Model(id='gpt-4-0613', created=1686588896, object='model', owned_by='openai'),\n",
              " Model(id='gpt-4.5-preview', created=1740623059, object='model', owned_by='system'),\n",
              " Model(id='gpt-4-32k-0314', created=1687979321, object='model', owned_by='openai'),\n",
              " Model(id='gpt-4.5-preview-2025-02-27', created=1740623304, object='model', owned_by='system'),\n",
              " Model(id='gpt-4o-search-preview-2025-03-11', created=1741388170, object='model', owned_by='system'),\n",
              " Model(id='omni-moderation-latest', created=1731689265, object='model', owned_by='system'),\n",
              " Model(id='gpt-4o-2024-11-20', created=1739331543, object='model', owned_by='system'),\n",
              " Model(id='tts-1', created=1681940951, object='model', owned_by='openai-internal'),\n",
              " Model(id='omni-moderation-2024-09-26', created=1732734466, object='model', owned_by='system'),\n",
              " Model(id='text-embedding-3-small', created=1705948997, object='model', owned_by='system'),\n",
              " Model(id='gpt-4o', created=1715367049, object='model', owned_by='system'),\n",
              " Model(id='gpt-4-0125-preview', created=1706037612, object='model', owned_by='system'),\n",
              " Model(id='gpt-4-turbo-preview', created=1706037777, object='model', owned_by='system'),\n",
              " Model(id='gpt-4o-mini', created=1721172741, object='model', owned_by='system'),\n",
              " Model(id='gpt-4o-2024-05-13', created=1715368132, object='model', owned_by='system'),\n",
              " Model(id='gpt-4o-2024-08-06', created=1722814719, object='model', owned_by='system'),\n",
              " Model(id='gpt-4o-mini-2024-07-18', created=1721172717, object='model', owned_by='system'),\n",
              " Model(id='o1-mini', created=1725649008, object='model', owned_by='system'),\n",
              " Model(id='gpt-4o-mini-audio-preview-2024-12-17', created=1734115920, object='model', owned_by='system'),\n",
              " Model(id='o1-mini-2024-09-12', created=1725648979, object='model', owned_by='system'),\n",
              " Model(id='ft:gpt-3.5-turbo-0125:xamrysoft::9cSMOUWb', created=1718952508, object='model', owned_by='user-mgtzrbiiso3g68oicniq0obp')]"
            ]
          },
          "metadata": {},
          "execution_count": 6
        }
      ]
    },
    {
      "cell_type": "code",
      "execution_count": 13,
      "metadata": {
        "colab": {
          "base_uri": "https://localhost:8080/"
        },
        "id": "7DyDm8jWpukG",
        "outputId": "5fb3d1ac-4203-45e9-da24-f9fb2ecd8c12"
      },
      "outputs": [
        {
          "output_type": "stream",
          "name": "stdout",
          "text": [
            "Generating teacher outputs from 'gpt-4o' (in-memory data)...\n",
            "Generated 12 teacher responses.\n",
            "Uploading distillation dataset for fine-tuning...\n",
            "Training file uploaded with ID: file-Qmzk5i34MSP2oED75uxsui\n",
            "Initiating fine-tuning of 'gpt-3.5-turbo-0125'...\n",
            "Fine-tuning job created with ID: ftjob-ag9h9X2ORD37QF9V7zeah5BY\n",
            "You can monitor the status of your fine-tuning job in the OpenAI dashboard or using the command:\n",
            "`openai api fine_tuning.jobs.retrieve ftjob-ag9h9X2ORD37QF9V7zeah5BY`\n",
            "Distillation process initiated. Check the OpenAI dashboard for progress.\n",
            "\n",
            "If this still fails, PLEASE check the OpenAI dashboard for the EXACT error message for the failed job and share it. That's the most crucial piece of information for fixing this.\n"
          ]
        }
      ],
      "source": [
        "import openai\n",
        "import json\n",
        "import time\n",
        "import io\n",
        "import os\n",
        "import colab_env  # Only needed if running in Google Colab\n",
        "\n",
        "# --- Configuration ---\n",
        "teacher_model_name = \"gpt-4o\"  # Or another powerful OpenAI model\n",
        "student_model_name = \"gpt-3.5-turbo-0125\"  # Using a specific version\n",
        "# dataset_path = \"your_dataset.jsonl\"  # No longer needed\n",
        "distillation_dataset_path = \"distillation_data.jsonl\"  # Where the teacher's (input, output) pairs will be saved\n",
        "num_teacher_responses = 1  # How many responses to get from the teacher for each prompt\n",
        "teacher_response_temperature = 0.7  # Controls the randomness of the teacher's responses\n",
        "fine_tuning_epochs = 3  # Number of training epochs for the student model\n",
        "fine_tuning_learning_rate_multiplier = None # Optional: Adjust the learning rate\n",
        "\n",
        "# --- In-memory dataset ---\n",
        "in_memory_dataset = [\n",
        "    {\"prompt\": \"What is the capital of Canada?\"},\n",
        "    {\"prompt\": \"Explain the basics of quantum entanglement.\"},\n",
        "    {\"prompt\": \"Write a very short story set in Montreal in the springtime.\"},\n",
        "    {\"prompt\": \"Translate 'Thank you very much' into French.\"},\n",
        "    {\"prompt\": \"Summarize the key points of the latest IPCC report on climate change.\"},\n",
        "    {\"prompt\": \"Suggest three fun activities to do in Montreal this weekend.\"},\n",
        "    {\"prompt\": \"What is the best restaurant in Montreal?\"},\n",
        "    {\"prompt\": \"Write a haiku about a cat.\"},\n",
        "    {\"prompt\": \"Explain the difference between a list and a tuple in Python.\"},\n",
        "    {\"prompt\": \"What are the benefits of using AI for flight planning?\"},  # Added based on your goal\n",
        "    {\"prompt\": \"If Newton, Galileo, Einstein, and Hinton met, what would they discuss about AI?\"},  # Added based on your goal\n",
        "    {\"prompt\": \"Give me a Gemini 2.0 title for a blog post about AI in 2025.\"},  # Added based on your goal\n",
        "]\n",
        "\n",
        "# --- Initialize OpenAI Client ---\n",
        "openai_api_key = os.environ.get('OPENAI_API_KEY')\n",
        "if not openai_api_key:\n",
        "    raise ValueError(\"The OPENAI_API_KEY environment variable must be set.\")\n",
        "client = openai.OpenAI(api_key=openai_api_key)\n",
        "\n",
        "# --- Step 1: Generate Teacher Outputs from In-Memory Data ---\n",
        "print(f\"Generating teacher outputs from '{teacher_model_name}' (in-memory data)...\")\n",
        "teacher_data_count = 0\n",
        "distillation_examples = []  # Store examples in a list\n",
        "\n",
        "distillation_buffer = io.StringIO()  # Initialize buffer outside the loop\n",
        "\n",
        "for item in in_memory_dataset:\n",
        "    prompt = item.get(\"prompt\")\n",
        "    if prompt:\n",
        "        try:\n",
        "            responses = client.chat.completions.create(\n",
        "                model=teacher_model_name,\n",
        "                messages=[{\"role\": \"user\", \"content\": prompt}],\n",
        "                n=num_teacher_responses,\n",
        "                temperature=teacher_response_temperature,\n",
        "            )\n",
        "            for response in responses.choices:\n",
        "                teacher_output = response.message.content\n",
        "                distillation_example = {\n",
        "                    \"messages\": [\n",
        "                        {\"role\": \"user\", \"content\": prompt},\n",
        "                        {\"role\": \"assistant\", \"content\": teacher_output}\n",
        "                    ]\n",
        "                }\n",
        "                distillation_examples.append(distillation_example)\n",
        "                teacher_data_count += 1\n",
        "            time.sleep(0.1)  # Be mindful of rate limits\n",
        "        except Exception as e:\n",
        "            print(f\"An error occurred while processing prompt '{prompt}': {e}\")\n",
        "    else:\n",
        "        print(f\"Warning: Skipping item due to missing 'prompt': {item}\")\n",
        "\n",
        "    # distillation_buffer.close()  # Removed: we don't close the buffer here\n",
        "\n",
        "print(f\"Generated {teacher_data_count} teacher responses.\")\n",
        "\n",
        "if teacher_data_count == 0:\n",
        "    print(\"No teacher data was generated. Please check your in-memory dataset.\")\n",
        "    exit()\n",
        "\n",
        "# --- Step 2: Prepare Distillation Data in Memory (Strict JSONL Format) ---\n",
        "# This is the CRITICAL part - Corrected JSONL generation\n",
        "distillation_data = \"\\n\".join([\n",
        "    json.dumps({\"messages\": [\n",
        "        {\"role\": \"user\", \"content\": item[\"messages\"][0][\"content\"]},  # Original user prompt\n",
        "        {\"role\": \"assistant\", \"content\": item[\"messages\"][1][\"content\"]}  # Teacher's response\n",
        "    ]})\n",
        "    for item in distillation_examples\n",
        "]).encode('utf-8')\n",
        "\n",
        "distillation_buffer.close()  # Close the buffer after using it\n",
        "\n",
        "# --- Step 3: Upload Distillation Dataset (from in-memory buffer) for Fine-tuning ---\n",
        "print(\"Uploading distillation dataset for fine-tuning...\")\n",
        "try:\n",
        "    file_create_response = client.files.create(\n",
        "        file=io.BytesIO(distillation_data),\n",
        "        purpose=\"fine-tune\"\n",
        "    )\n",
        "    training_file_id = file_create_response.id\n",
        "    print(f\"Training file uploaded with ID: {training_file_id}\")\n",
        "except Exception as e:\n",
        "    print(f\"Error uploading file: {e}\")\n",
        "    exit()\n",
        "\n",
        "# --- Step 4: Initiate Fine-tuning Job (Minimal Parameters) ---\n",
        "print(f\"Initiating fine-tuning of '{student_model_name}'...\")\n",
        "try:\n",
        "    fine_tuning_params = {\n",
        "        \"training_file\": training_file_id,\n",
        "        \"model\": student_model_name,\n",
        "    }\n",
        "    # Removed hyperparameters for now. If it works, we can add them back later.\n",
        "\n",
        "    fine_tuning_job = client.fine_tuning.jobs.create(**fine_tuning_params)\n",
        "    fine_tuning_job_id = fine_tuning_job.id\n",
        "    print(f\"Fine-tuning job created with ID: {fine_tuning_job.id}\")\n",
        "    print(f\"You can monitor the status of your fine-tuning job in the OpenAI dashboard or using the command:\")\n",
        "    print(f\"`openai api fine_tuning.jobs.retrieve {fine_tuning_job_id}`\")\n",
        "\n",
        "except Exception as e:\n",
        "    print(f\"Error initiating fine-tuning job: {e}\")\n",
        "\n",
        "print(\"Distillation process initiated. Check the OpenAI dashboard for progress.\")\n",
        "\n",
        "print(\"\\nIf this still fails, PLEASE check the OpenAI dashboard for the EXACT error message for the failed job and share it. That's the most crucial piece of information for fixing this.\")"
      ]
    },
    {
      "cell_type": "code",
      "source": [
        "from openai import OpenAI\n",
        "client = OpenAI()\n",
        "\n",
        "modellist=client.models.list()\n",
        "modellist.data"
      ],
      "metadata": {
        "colab": {
          "base_uri": "https://localhost:8080/"
        },
        "id": "dm1Jcmb0wQX_",
        "outputId": "9ad38c5f-cf16-4af4-ebfc-30118bd51be1"
      },
      "execution_count": 16,
      "outputs": [
        {
          "output_type": "execute_result",
          "data": {
            "text/plain": [
              "[Model(id='gpt-4o-audio-preview-2024-12-17', created=1734034239, object='model', owned_by='system'),\n",
              " Model(id='gpt-4o-realtime-preview-2024-12-17', created=1733945430, object='model', owned_by='system'),\n",
              " Model(id='dall-e-3', created=1698785189, object='model', owned_by='system'),\n",
              " Model(id='dall-e-2', created=1698798177, object='model', owned_by='system'),\n",
              " Model(id='gpt-4o-audio-preview-2024-10-01', created=1727389042, object='model', owned_by='system'),\n",
              " Model(id='gpt-4-0314', created=1687882410, object='model', owned_by='openai'),\n",
              " Model(id='gpt-4o-realtime-preview-2024-10-01', created=1727131766, object='model', owned_by='system'),\n",
              " Model(id='gpt-4o-transcribe', created=1742068463, object='model', owned_by='system'),\n",
              " Model(id='gpt-4o-mini-transcribe', created=1742068596, object='model', owned_by='system'),\n",
              " Model(id='gpt-4o-realtime-preview', created=1727659998, object='model', owned_by='system'),\n",
              " Model(id='babbage-002', created=1692634615, object='model', owned_by='system'),\n",
              " Model(id='gpt-4o-mini-tts', created=1742403959, object='model', owned_by='system'),\n",
              " Model(id='tts-1-hd-1106', created=1699053533, object='model', owned_by='system'),\n",
              " Model(id='text-embedding-3-large', created=1705953180, object='model', owned_by='system'),\n",
              " Model(id='gpt-4', created=1687882411, object='model', owned_by='openai'),\n",
              " Model(id='o3-mini', created=1737146383, object='model', owned_by='system'),\n",
              " Model(id='computer-use-preview', created=1734655677, object='model', owned_by='system'),\n",
              " Model(id='computer-use-preview-2025-03-11', created=1741377021, object='model', owned_by='system'),\n",
              " Model(id='tts-1-hd', created=1699046015, object='model', owned_by='system'),\n",
              " Model(id='gpt-4o-mini-audio-preview', created=1734387424, object='model', owned_by='system'),\n",
              " Model(id='o3-mini-2025-01-31', created=1738010200, object='model', owned_by='system'),\n",
              " Model(id='gpt-4o-audio-preview', created=1727460443, object='model', owned_by='system'),\n",
              " Model(id='o1-preview-2024-09-12', created=1725648865, object='model', owned_by='system'),\n",
              " Model(id='o1-2024-12-17', created=1734326976, object='model', owned_by='system'),\n",
              " Model(id='gpt-3.5-turbo-instruct-0914', created=1694122472, object='model', owned_by='system'),\n",
              " Model(id='gpt-4o-mini-search-preview', created=1741391161, object='model', owned_by='system'),\n",
              " Model(id='o1', created=1734375816, object='model', owned_by='system'),\n",
              " Model(id='tts-1-1106', created=1699053241, object='model', owned_by='system'),\n",
              " Model(id='o1-pro-2025-03-19', created=1742251504, object='model', owned_by='system'),\n",
              " Model(id='o1-pro', created=1742251791, object='model', owned_by='system'),\n",
              " Model(id='davinci-002', created=1692634301, object='model', owned_by='system'),\n",
              " Model(id='gpt-3.5-turbo-1106', created=1698959748, object='model', owned_by='system'),\n",
              " Model(id='gpt-4o-search-preview', created=1741388720, object='model', owned_by='system'),\n",
              " Model(id='gpt-4-turbo', created=1712361441, object='model', owned_by='system'),\n",
              " Model(id='gpt-3.5-turbo-instruct', created=1692901427, object='model', owned_by='system'),\n",
              " Model(id='gpt-3.5-turbo', created=1677610602, object='model', owned_by='openai'),\n",
              " Model(id='gpt-4o-mini-search-preview-2025-03-11', created=1741390858, object='model', owned_by='system'),\n",
              " Model(id='gpt-4o-mini-realtime-preview', created=1734387380, object='model', owned_by='system'),\n",
              " Model(id='chatgpt-4o-latest', created=1723515131, object='model', owned_by='system'),\n",
              " Model(id='whisper-1', created=1677532384, object='model', owned_by='openai-internal'),\n",
              " Model(id='gpt-3.5-turbo-0125', created=1706048358, object='model', owned_by='system'),\n",
              " Model(id='gpt-4-turbo-2024-04-09', created=1712601677, object='model', owned_by='system'),\n",
              " Model(id='gpt-3.5-turbo-16k-0613', created=1685474247, object='model', owned_by='openai'),\n",
              " Model(id='gpt-3.5-turbo-16k', created=1683758102, object='model', owned_by='openai-internal'),\n",
              " Model(id='gpt-4o-mini-realtime-preview-2024-12-17', created=1734112601, object='model', owned_by='system'),\n",
              " Model(id='gpt-4-1106-preview', created=1698957206, object='model', owned_by='system'),\n",
              " Model(id='text-embedding-ada-002', created=1671217299, object='model', owned_by='openai-internal'),\n",
              " Model(id='o1-preview', created=1725648897, object='model', owned_by='system'),\n",
              " Model(id='gpt-4-0613', created=1686588896, object='model', owned_by='openai'),\n",
              " Model(id='gpt-4.5-preview', created=1740623059, object='model', owned_by='system'),\n",
              " Model(id='gpt-4-32k-0314', created=1687979321, object='model', owned_by='openai'),\n",
              " Model(id='gpt-4.5-preview-2025-02-27', created=1740623304, object='model', owned_by='system'),\n",
              " Model(id='gpt-4o-search-preview-2025-03-11', created=1741388170, object='model', owned_by='system'),\n",
              " Model(id='omni-moderation-latest', created=1731689265, object='model', owned_by='system'),\n",
              " Model(id='gpt-4o-2024-11-20', created=1739331543, object='model', owned_by='system'),\n",
              " Model(id='tts-1', created=1681940951, object='model', owned_by='openai-internal'),\n",
              " Model(id='omni-moderation-2024-09-26', created=1732734466, object='model', owned_by='system'),\n",
              " Model(id='text-embedding-3-small', created=1705948997, object='model', owned_by='system'),\n",
              " Model(id='gpt-4o', created=1715367049, object='model', owned_by='system'),\n",
              " Model(id='gpt-4-0125-preview', created=1706037612, object='model', owned_by='system'),\n",
              " Model(id='gpt-4-turbo-preview', created=1706037777, object='model', owned_by='system'),\n",
              " Model(id='gpt-4o-mini', created=1721172741, object='model', owned_by='system'),\n",
              " Model(id='gpt-4o-2024-05-13', created=1715368132, object='model', owned_by='system'),\n",
              " Model(id='gpt-4o-2024-08-06', created=1722814719, object='model', owned_by='system'),\n",
              " Model(id='gpt-4o-mini-2024-07-18', created=1721172717, object='model', owned_by='system'),\n",
              " Model(id='o1-mini', created=1725649008, object='model', owned_by='system'),\n",
              " Model(id='gpt-4o-mini-audio-preview-2024-12-17', created=1734115920, object='model', owned_by='system'),\n",
              " Model(id='o1-mini-2024-09-12', created=1725648979, object='model', owned_by='system'),\n",
              " Model(id='ft:gpt-3.5-turbo-0125:xamrysoft::9cSMOUWb', created=1718952508, object='model', owned_by='user-mgtzrbiiso3g68oicniq0obp'),\n",
              " Model(id='ft:gpt-3.5-turbo-0125:xamrysoft::BFmGttyM', created=1743100177, object='model', owned_by='user-mgtzrbiiso3g68oicniq0obp'),\n",
              " Model(id='ft:gpt-3.5-turbo-0125:xamrysoft::BFmGnb0y:ckpt-step-72', created=1743100171, object='model', owned_by='user-mgtzrbiiso3g68oicniq0obp'),\n",
              " Model(id='ft:gpt-3.5-turbo-0125:xamrysoft::BFmGqG94:ckpt-step-84', created=1743100174, object='model', owned_by='user-mgtzrbiiso3g68oicniq0obp')]"
            ]
          },
          "metadata": {},
          "execution_count": 16
        }
      ]
    },
    {
      "cell_type": "code",
      "source": [
        "import datetime\n",
        "\n",
        "timestamp = 1743100174\n",
        "dt_object = datetime.datetime.fromtimestamp(timestamp)\n",
        "\n",
        "print(dt_object)"
      ],
      "metadata": {
        "colab": {
          "base_uri": "https://localhost:8080/"
        },
        "id": "x6-yPu0R3Kxs",
        "outputId": "f9d38001-6a04-4a00-fb47-24d8395361de"
      },
      "execution_count": 17,
      "outputs": [
        {
          "output_type": "stream",
          "name": "stdout",
          "text": [
            "2025-03-27 18:29:34\n"
          ]
        }
      ]
    }
  ]
}