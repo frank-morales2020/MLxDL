{
  "cells": [
    {
      "cell_type": "markdown",
      "metadata": {
        "id": "view-in-github",
        "colab_type": "text"
      },
      "source": [
        "<a href=\"https://colab.research.google.com/github/frank-morales2020/MLxDL/blob/main/MYVERSION_OnDemandLoaderTool.ipynb\" target=\"_parent\"><img src=\"https://colab.research.google.com/assets/colab-badge.svg\" alt=\"Open In Colab\"/></a>"
      ]
    },
    {
      "cell_type": "markdown",
      "id": "318d3e6d-8155-4f86-ac16-bdacaf041bb9",
      "metadata": {
        "id": "318d3e6d-8155-4f86-ac16-bdacaf041bb9"
      },
      "source": [
        "# OnDemandLoaderTool\n",
        "\n",
        "Our `OnDemandLoaderTool` is a powerful agent tool that allows for \"on-demand\" data querying from any data source on LlamaHub.\n",
        "\n",
        "This tool takes in a `BaseReader` data loader, and when called will 1) load data, 2) index data, and 3) query the data.\n",
        "\n",
        "In this walkthrough, we show how to use the `OnDemandLoaderTool` to convert our Wikipedia data loader into an accessible search tool for a LangChain agent."
      ]
    },
    {
      "cell_type": "code",
      "execution_count": null,
      "id": "b3cb7c29",
      "metadata": {
        "id": "b3cb7c29"
      },
      "outputs": [],
      "source": [
        "%pip install llama-index-readers-wikipedia -q"
      ]
    },
    {
      "cell_type": "code",
      "execution_count": null,
      "id": "d6815113",
      "metadata": {
        "id": "d6815113"
      },
      "outputs": [],
      "source": [
        "!pip install llama-index -q"
      ]
    },
    {
      "cell_type": "code",
      "execution_count": null,
      "id": "d1680fc8-1904-4ea8-b8da-88306b365e7f",
      "metadata": {
        "id": "d1680fc8-1904-4ea8-b8da-88306b365e7f"
      },
      "outputs": [],
      "source": [
        "from llama_index.core.tools.ondemand_loader_tool import OnDemandLoaderTool\n",
        "from llama_index.readers.wikipedia import WikipediaReader\n",
        "from typing import List\n",
        "\n",
        "from pydantic import BaseModel"
      ]
    },
    {
      "cell_type": "code",
      "source": [
        "!pip install wikipedia -q"
      ],
      "metadata": {
        "id": "YryatPp3I5QX"
      },
      "id": "YryatPp3I5QX",
      "execution_count": null,
      "outputs": []
    },
    {
      "cell_type": "code",
      "execution_count": null,
      "id": "7c5caf3b-3544-4a39-be69-35e18ef12172",
      "metadata": {
        "id": "7c5caf3b-3544-4a39-be69-35e18ef12172"
      },
      "outputs": [],
      "source": [
        "reader = WikipediaReader()"
      ]
    },
    {
      "cell_type": "code",
      "execution_count": null,
      "id": "ea9169ad-fe61-47da-bbdf-ce3a89c371a3",
      "metadata": {
        "id": "ea9169ad-fe61-47da-bbdf-ce3a89c371a3"
      },
      "outputs": [],
      "source": [
        "tool = OnDemandLoaderTool.from_defaults(\n",
        "    reader,\n",
        "    name=\"Wikipedia Tool\",\n",
        "    description=\"A tool for loading and querying articles from Wikipedia\",\n",
        ")"
      ]
    },
    {
      "cell_type": "code",
      "source": [
        "!pip install langchain -q"
      ],
      "metadata": {
        "id": "9DriPym1kPbc"
      },
      "id": "9DriPym1kPbc",
      "execution_count": null,
      "outputs": []
    },
    {
      "cell_type": "code",
      "source": [
        "#added by Frank Morales(FM) 22/02/2024\n",
        "%pip install openai  --root-user-action=ignore -q\n",
        "%pip install colab-env --upgrade --quiet --root-user-action=ignore -q"
      ],
      "metadata": {
        "id": "FnFVfqM6kjhq"
      },
      "id": "FnFVfqM6kjhq",
      "execution_count": null,
      "outputs": []
    },
    {
      "cell_type": "code",
      "source": [
        "#added by Frank Morales(FM) 22/02/2024\n",
        "import warnings\n",
        "warnings.filterwarnings('ignore')\n",
        "\n",
        "import colab_env\n",
        "import openai\n",
        "import os\n",
        "openai.api_key = os.getenv(\"OPENAI_API_KEY\")\n",
        "\n",
        "from openai import OpenAI\n",
        "client = OpenAI()"
      ],
      "metadata": {
        "id": "O1iCMmPHkkkW"
      },
      "id": "O1iCMmPHkkkW",
      "execution_count": null,
      "outputs": []
    },
    {
      "cell_type": "code",
      "source": [
        "tool([\"Montreal\"], query_str=\"where is located the Montreal city?\")"
      ],
      "metadata": {
        "id": "zdpNp8Tak858"
      },
      "id": "zdpNp8Tak858",
      "execution_count": null,
      "outputs": []
    },
    {
      "cell_type": "code",
      "source": [
        "# run tool as langchain structured tool\n",
        "lc_tool = tool.to_langchain_structured_tool(verbose=True)"
      ],
      "metadata": {
        "id": "7r8eF7CDlTdI"
      },
      "id": "7r8eF7CDlTdI",
      "execution_count": null,
      "outputs": []
    },
    {
      "cell_type": "code",
      "source": [
        "from langchain.agents import AgentType, initialize_agent, load_tools\n",
        "#from langchain_openai import ChatOpenAI, OpenAI\n",
        "from langchain.llms import OpenAI\n",
        "from langchain.chat_models import ChatOpenAI\n",
        "\n",
        "#llm = ChatOpenAI(temperature=0.0)\n",
        "math_llm = OpenAI(temperature=0.0)\n",
        "\n",
        "#llm = ChatOpenAI(temperature=0, model_name=\"gpt-3.5-turbo\", streaming=True)\n",
        "llm = ChatOpenAI(temperature=0, model_name=\"gpt-4\", streaming=True)\n",
        "\n",
        "tools = load_tools(\n",
        "    [\"human\", \"llm-math\"],\n",
        "    llm=math_llm,\n",
        ")\n",
        "\n",
        "agent_chain = initialize_agent(\n",
        "    tools,\n",
        "    llm,\n",
        "    agent=AgentType.ZERO_SHOT_REACT_DESCRIPTION,\n",
        "    #agent=\"structured-chat-zero-shot-react-description\",\n",
        "    verbose=True,\n",
        ")\n",
        "\n",
        "agent = initialize_agent(\n",
        "    [lc_tool],\n",
        "    #tools,\n",
        "    llm,\n",
        "    agent=\"structured-chat-zero-shot-react-description\",\n",
        "    verbose=False,\n",
        ")"
      ],
      "metadata": {
        "id": "UMOqGNlmSsXW"
      },
      "id": "UMOqGNlmSsXW",
      "execution_count": 41,
      "outputs": []
    },
    {
      "cell_type": "code",
      "source": [
        "agent_chain.run(\"What's my friend Rafael's surname?\") ## GPT-3.5\n",
        "# Answer with 'Reinaldo'"
      ],
      "metadata": {
        "colab": {
          "base_uri": "https://localhost:8080/",
          "height": 295
        },
        "id": "c3EdwMHlW56Z",
        "outputId": "ae7031d9-c096-45a4-f3c6-68a54e56dc51"
      },
      "id": "c3EdwMHlW56Z",
      "execution_count": 42,
      "outputs": [
        {
          "output_type": "stream",
          "name": "stdout",
          "text": [
            "\n",
            "\n",
            "\u001b[1m> Entering new AgentExecutor chain...\u001b[0m\n",
            "\u001b[32;1m\u001b[1;3mI need to ask a human for this information.\n",
            "Action: human\n",
            "Action Input: Can you tell me Rafael's surname?\u001b[0m\n",
            "\n",
            "Can you tell me Rafael's surname?\n",
            "Reinaldo\n",
            "\n",
            "Observation: \u001b[36;1m\u001b[1;3mReinaldo\u001b[0m\n",
            "Thought:\u001b[32;1m\u001b[1;3mI now know Rafael's surname.\n",
            "Final Answer: Rafael's surname is Reinaldo.\u001b[0m\n",
            "\n",
            "\u001b[1m> Finished chain.\u001b[0m\n"
          ]
        },
        {
          "output_type": "execute_result",
          "data": {
            "text/plain": [
              "\"Rafael's surname is Reinaldo.\""
            ],
            "application/vnd.google.colaboratory.intrinsic+json": {
              "type": "string"
            }
          },
          "metadata": {},
          "execution_count": 42
        }
      ]
    },
    {
      "source": [
        "#agent.run(input={\"pages\": \"Montreal\", \"query_str\": \"What's the arts and culture scene in montreal?\"},query_str=\"What's the arts and culture scene in montreal?\")\n",
        "\n",
        "agent.run(input={\"pages\": \"Montreal\", \"query_str\": \"What's the arts and culture scene in montreal?\"}) ## GPT-4\n"
      ],
      "cell_type": "code",
      "metadata": {
        "colab": {
          "base_uri": "https://localhost:8080/",
          "height": 194
        },
        "id": "6pMJCwm3p1Vq",
        "outputId": "8d8ad62c-1092-46da-d1e7-309549f23799"
      },
      "id": "6pMJCwm3p1Vq",
      "execution_count": null,
      "outputs": [
        {
          "output_type": "stream",
          "name": "stdout",
          "text": [
            "\n",
            "Observation: \u001b[36;1m\u001b[1;3mMontreal has a rich and diverse arts and culture scene, with a strong emphasis on music, festivals, and performing arts. The city is known for its vibrant cultural life, with over 100 annual festivals including the Montreal International Jazz Festival, the largest jazz festival in the world, and the Just for Laughs comedy festival. Montreal is also home to the Place des Arts complex, which hosts a variety of classical music performances, theatre productions, and dance shows. The city's cultural heritage is reflected in its numerous churches, with Montreal being renowned for its many historic churches and basilicas. Additionally, Montreal has been a significant setting for Quebec literature, with writers capturing the essence of the multicultural city in their works.\u001b[0m\n",
            "Thought:"
          ]
        },
        {
          "output_type": "execute_result",
          "data": {
            "text/plain": [
              "\"Montreal has a rich and diverse arts and culture scene, with a strong emphasis on music, festivals, and performing arts. The city is known for its vibrant cultural life, with over 100 annual festivals including the Montreal International Jazz Festival, the largest jazz festival in the world, and the Just for Laughs comedy festival. Montreal is also home to the Place des Arts complex, which hosts a variety of classical music performances, theatre productions, and dance shows. The city's cultural heritage is reflected in its numerous churches, with Montreal being renowned for its many historic churches and basilicas. Additionally, Montreal has been a significant setting for Quebec literature, with writers capturing the essence of the multicultural city in their works.\""
            ],
            "application/vnd.google.colaboratory.intrinsic+json": {
              "type": "string"
            }
          },
          "metadata": {},
          "execution_count": 31
        }
      ]
    },
    {
      "cell_type": "code",
      "source": [
        "response=agent.run(input={\"pages\": \"Montreal\", \"query_str\": \"What is the best restaurant in Montreal?\"}) ## GPT-4"
      ],
      "metadata": {
        "id": "tv9b32ywy8uc"
      },
      "id": "tv9b32ywy8uc",
      "execution_count": null,
      "outputs": []
    },
    {
      "cell_type": "code",
      "source": [
        "response"
      ],
      "metadata": {
        "colab": {
          "base_uri": "https://localhost:8080/",
          "height": 87
        },
        "id": "drd3XUhgB1Fm",
        "outputId": "1b805114-60aa-41d3-ac58-7e8e7268f0de"
      },
      "id": "drd3XUhgB1Fm",
      "execution_count": null,
      "outputs": [
        {
          "output_type": "execute_result",
          "data": {
            "text/plain": [
              "\"The best restaurant in Montreal can vary depending on personal preferences, as the city is known for its diverse culinary scene. From traditional French cuisine to trendy cafes and international flavors, there's something for everyone. It's recommended to explore online reviews, ask locals for recommendations, and consider the type of cuisine or dining experience you're seeking to find the best restaurant that suits your taste.\""
            ],
            "application/vnd.google.colaboratory.intrinsic+json": {
              "type": "string"
            }
          },
          "metadata": {},
          "execution_count": 36
        }
      ]
    },
    {
      "cell_type": "code",
      "source": [
        "!pip install llama_index -q\n",
        "!pip install langchain -q\n",
        "!pip install wikipedia -q"
      ],
      "metadata": {
        "id": "OM7sfKGa49W9"
      },
      "id": "OM7sfKGa49W9",
      "execution_count": null,
      "outputs": []
    },
    {
      "cell_type": "code",
      "source": [
        "import os\n",
        "import openai\n",
        "\n",
        "import llama_index\n",
        "\n",
        "#from llama_index.tools.ondemand_loader_tool import OnDemandLoaderTool\n",
        "## added by frank morales\n",
        "from llama_index.core.tools.ondemand_loader_tool import OnDemandLoaderTool\n",
        "\n",
        "from llama_index.readers.wikipedia import WikipediaReader\n",
        "from typing import List\n",
        "\n",
        "from pydantic import BaseModel\n",
        "\n",
        "reader = WikipediaReader()\n",
        "\n",
        "tool = OnDemandLoaderTool.from_defaults(\n",
        "    reader,\n",
        "    name=\"Wikipedia Tool\",\n",
        "    description=\"A tool for loading and querying articles from Wikipedia\",\n",
        ")\n",
        "\n",
        "# run only the llama_Index Tool by itself\n",
        "#tool([\"Cuba\"], query_str=\"What's the arts and culture scene in Cuba?\")\n",
        "\n",
        "# run tool from LangChain Agent\n",
        "lc_tool = tool.to_langchain_structured_tool(verbose=True)\n",
        "#response=lc_tool.run(tool_input={\"pages\": [\"Cuba\"], \"query_str\": \"What's the capital city of Cuba?\"})\n",
        "response=lc_tool.run(tool_input={\"pages\": [\"Cuba\"], \"query_str\": \"What's the arts and culture scene in Cuba?\"})"
      ],
      "metadata": {
        "colab": {
          "base_uri": "https://localhost:8080/"
        },
        "id": "TrIOfM3p4zMb",
        "outputId": "5d56b5c4-2a10-46fd-da9e-d4fa736b1ee4"
      },
      "id": "TrIOfM3p4zMb",
      "execution_count": 43,
      "outputs": [
        {
          "output_type": "stream",
          "name": "stdout",
          "text": [
            "\u001b[32;1m\u001b[1;3mCuba has a rich arts and culture scene with influences from various sources. The country is known for its vibrant music, including genres like son, salsa, and Afro-Cuban jazz. Cuban visual arts have a strong tradition, with artists like Wifredo Lam gaining international recognition. Cuban literature has produced notable figures such as José Martí and Alejo Carpentier. The country also has a strong tradition of dance, with the Cuban National Ballet being renowned worldwide. Overall, Cuba's arts and culture scene is diverse and reflects the country's unique history and heritage.\u001b[0m"
          ]
        }
      ]
    },
    {
      "cell_type": "markdown",
      "source": [
        "Initialise LangChain Agent"
      ],
      "metadata": {
        "id": "K-RmGXvtHAVv"
      },
      "id": "K-RmGXvtHAVv"
    },
    {
      "cell_type": "code",
      "source": [
        "from langchain.agents import initialize_agent\n",
        "from langchain.chat_models import ChatOpenAI\n",
        "\n",
        "llm = ChatOpenAI(temperature=0, model_name=\"gpt-3.5-turbo\", streaming=True)\n",
        "\n",
        "agent = initialize_agent(\n",
        "    [lc_tool],\n",
        "    llm=llm,\n",
        "    agent=\"structured-chat-zero-shot-react-description\",\n",
        "    verbose=False\n",
        ")\n",
        "\n",
        "#agent.run(\"Tell me about the arts and culture of Berlin\")\n",
        "\n",
        "response=agent.run(input={\"pages\": \"Montreal\", \"query_str\": \"What's the arts and culture scene in montreal?\"}) ## GPT-3.5"
      ],
      "metadata": {
        "id": "mU2zcZxgGFS6"
      },
      "id": "mU2zcZxgGFS6",
      "execution_count": null,
      "outputs": []
    },
    {
      "cell_type": "code",
      "source": [
        "response"
      ],
      "metadata": {
        "colab": {
          "base_uri": "https://localhost:8080/",
          "height": 104
        },
        "id": "usHfc4i-Gq_E",
        "outputId": "3748cdee-bd68-4617-b52d-4c2ba5cd56c5"
      },
      "id": "usHfc4i-Gq_E",
      "execution_count": 54,
      "outputs": [
        {
          "output_type": "execute_result",
          "data": {
            "text/plain": [
              "\"Montreal boasts a vibrant arts and culture scene, earning it the title of 'Canada's Cultural Capital.' The city hosts numerous cultural events and festivals, including the Montreal International Jazz Festival and the Just for Laughs comedy festival. Montreal's downtown area is particularly lively during the summer. The city also has a rich classical arts scene, with venues like Place des Arts showcasing performances by renowned artists. Montreal's architecture blends colonial buildings in Old Montreal with modern landmarks like the Olympic Stadium and the Montreal Metro stations adorned with public artwork by Quebec artists.\""
            ],
            "application/vnd.google.colaboratory.intrinsic+json": {
              "type": "string"
            }
          },
          "metadata": {},
          "execution_count": 54
        }
      ]
    }
  ],
  "metadata": {
    "kernelspec": {
      "display_name": "venv",
      "language": "python",
      "name": "python3"
    },
    "language_info": {
      "codemirror_mode": {
        "name": "ipython",
        "version": 3
      },
      "file_extension": ".py",
      "mimetype": "text/x-python",
      "name": "python",
      "nbconvert_exporter": "python",
      "pygments_lexer": "ipython3"
    },
    "colab": {
      "provenance": [],
      "include_colab_link": true
    }
  },
  "nbformat": 4,
  "nbformat_minor": 5
}