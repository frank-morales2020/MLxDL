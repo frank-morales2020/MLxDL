{
  "cells": [
    {
      "cell_type": "markdown",
      "metadata": {
        "id": "view-in-github",
        "colab_type": "text"
      },
      "source": [
        "<a href=\"https://colab.research.google.com/github/frank-morales2020/MLxDL/blob/main/MYVERSION_OnDemandLoaderTool.ipynb\" target=\"_parent\"><img src=\"https://colab.research.google.com/assets/colab-badge.svg\" alt=\"Open In Colab\"/></a>"
      ]
    },
    {
      "cell_type": "markdown",
      "id": "318d3e6d-8155-4f86-ac16-bdacaf041bb9",
      "metadata": {
        "id": "318d3e6d-8155-4f86-ac16-bdacaf041bb9"
      },
      "source": [
        "# OnDemandLoaderTool\n",
        "\n",
        "Our `OnDemandLoaderTool` is a powerful agent tool that allows for \"on-demand\" data querying from any data source on LlamaHub.\n",
        "\n",
        "This tool takes in a `BaseReader` data loader, and when called will 1) load data, 2) index data, and 3) query the data.\n",
        "\n",
        "In this walkthrough, we show how to use the `OnDemandLoaderTool` to convert our Wikipedia data loader into an accessible search tool for a LangChain agent."
      ]
    },
    {
      "cell_type": "code",
      "execution_count": null,
      "id": "b3cb7c29",
      "metadata": {
        "id": "b3cb7c29"
      },
      "outputs": [],
      "source": [
        "%pip install llama-index-readers-wikipedia -q"
      ]
    },
    {
      "cell_type": "code",
      "execution_count": null,
      "id": "d6815113",
      "metadata": {
        "id": "d6815113"
      },
      "outputs": [],
      "source": [
        "!pip install llama-index -q"
      ]
    },
    {
      "cell_type": "code",
      "execution_count": 3,
      "id": "d1680fc8-1904-4ea8-b8da-88306b365e7f",
      "metadata": {
        "id": "d1680fc8-1904-4ea8-b8da-88306b365e7f"
      },
      "outputs": [],
      "source": [
        "from llama_index.core.tools.ondemand_loader_tool import OnDemandLoaderTool\n",
        "from llama_index.readers.wikipedia import WikipediaReader\n",
        "from typing import List\n",
        "\n",
        "from pydantic import BaseModel"
      ]
    },
    {
      "cell_type": "code",
      "source": [
        "!pip install wikipedia -q"
      ],
      "metadata": {
        "id": "YryatPp3I5QX"
      },
      "id": "YryatPp3I5QX",
      "execution_count": null,
      "outputs": []
    },
    {
      "cell_type": "code",
      "execution_count": 5,
      "id": "7c5caf3b-3544-4a39-be69-35e18ef12172",
      "metadata": {
        "id": "7c5caf3b-3544-4a39-be69-35e18ef12172"
      },
      "outputs": [],
      "source": [
        "reader = WikipediaReader()"
      ]
    },
    {
      "cell_type": "code",
      "execution_count": 6,
      "id": "ea9169ad-fe61-47da-bbdf-ce3a89c371a3",
      "metadata": {
        "id": "ea9169ad-fe61-47da-bbdf-ce3a89c371a3"
      },
      "outputs": [],
      "source": [
        "tool = OnDemandLoaderTool.from_defaults(\n",
        "    reader,\n",
        "    name=\"Wikipedia Tool\",\n",
        "    description=\"A tool for loading and querying articles from Wikipedia\",\n",
        ")"
      ]
    },
    {
      "cell_type": "code",
      "source": [
        "!pip install langchain -q"
      ],
      "metadata": {
        "id": "9DriPym1kPbc"
      },
      "id": "9DriPym1kPbc",
      "execution_count": null,
      "outputs": []
    },
    {
      "cell_type": "code",
      "source": [
        "#added by Frank Morales(FM) 22/02/2024\n",
        "%pip install openai  --root-user-action=ignore -q\n",
        "%pip install colab-env --upgrade --quiet --root-user-action=ignore -q"
      ],
      "metadata": {
        "id": "FnFVfqM6kjhq"
      },
      "id": "FnFVfqM6kjhq",
      "execution_count": null,
      "outputs": []
    },
    {
      "cell_type": "code",
      "source": [
        "#added by Frank Morales(FM) 22/02/2024\n",
        "import warnings\n",
        "warnings.filterwarnings('ignore')\n",
        "\n",
        "import colab_env\n",
        "import openai\n",
        "import os\n",
        "openai.api_key = os.getenv(\"OPENAI_API_KEY\")\n",
        "\n",
        "from openai import OpenAI\n",
        "client = OpenAI()"
      ],
      "metadata": {
        "id": "O1iCMmPHkkkW"
      },
      "id": "O1iCMmPHkkkW",
      "execution_count": null,
      "outputs": []
    },
    {
      "cell_type": "code",
      "source": [
        "response=tool([\"Montreal\"], query_str=\"where is located the Montreal city?\")"
      ],
      "metadata": {
        "id": "zdpNp8Tak858"
      },
      "id": "zdpNp8Tak858",
      "execution_count": 10,
      "outputs": []
    },
    {
      "cell_type": "code",
      "source": [
        "response.content"
      ],
      "metadata": {
        "colab": {
          "base_uri": "https://localhost:8080/",
          "height": 52
        },
        "id": "oW_PB_rrPDn6",
        "outputId": "dc538705-df4a-4d82-ff2f-abc3eaf54797"
      },
      "id": "oW_PB_rrPDn6",
      "execution_count": 11,
      "outputs": [
        {
          "output_type": "execute_result",
          "data": {
            "text/plain": [
              "'Montreal is located in the southwest of the province of Quebec, Canada. It is situated on the Island of Montreal at the confluence of the Saint Lawrence and Ottawa Rivers.'"
            ],
            "application/vnd.google.colaboratory.intrinsic+json": {
              "type": "string"
            }
          },
          "metadata": {},
          "execution_count": 11
        }
      ]
    },
    {
      "cell_type": "code",
      "source": [
        "# run tool as langchain structured tool\n",
        "lc_tool = tool.to_langchain_structured_tool(verbose=True)"
      ],
      "metadata": {
        "id": "7r8eF7CDlTdI"
      },
      "id": "7r8eF7CDlTdI",
      "execution_count": 12,
      "outputs": []
    },
    {
      "cell_type": "code",
      "source": [
        "from langchain.agents import AgentType, initialize_agent, load_tools\n",
        "#from langchain_openai import ChatOpenAI, OpenAI\n",
        "from langchain.llms import OpenAI\n",
        "from langchain.chat_models import ChatOpenAI\n",
        "\n",
        "#llm = ChatOpenAI(temperature=0.0)\n",
        "math_llm = OpenAI(temperature=0.0)\n",
        "\n",
        "#llm = ChatOpenAI(temperature=0, model_name=\"gpt-3.5-turbo\", streaming=True)\n",
        "llm = ChatOpenAI(temperature=0, model_name=\"gpt-4\", streaming=True)\n",
        "\n",
        "tools = load_tools(\n",
        "    [\"human\", \"llm-math\"],\n",
        "    llm=math_llm,\n",
        ")\n",
        "\n",
        "agent_chain = initialize_agent(\n",
        "    tools,\n",
        "    llm,\n",
        "    agent=AgentType.ZERO_SHOT_REACT_DESCRIPTION,\n",
        "    #agent=\"structured-chat-zero-shot-react-description\",\n",
        "    verbose=False,\n",
        ")\n",
        "\n",
        "agent = initialize_agent(\n",
        "    [lc_tool],\n",
        "    #tools,\n",
        "    llm,\n",
        "    agent=\"structured-chat-zero-shot-react-description\",\n",
        "    verbose=False,\n",
        ")"
      ],
      "metadata": {
        "id": "UMOqGNlmSsXW"
      },
      "id": "UMOqGNlmSsXW",
      "execution_count": 49,
      "outputs": []
    },
    {
      "cell_type": "code",
      "source": [
        "agent_chain.run(\"What's my friend Rafael's surname?\") ## GPT-3.5\n",
        "# Answer with 'Reinaldo'"
      ],
      "metadata": {
        "colab": {
          "base_uri": "https://localhost:8080/",
          "height": 104
        },
        "id": "c3EdwMHlW56Z",
        "outputId": "b64b7513-77fa-4965-fec5-84efbbc73873"
      },
      "id": "c3EdwMHlW56Z",
      "execution_count": 50,
      "outputs": [
        {
          "name": "stdout",
          "output_type": "stream",
          "text": [
            "\n",
            "\n",
            "Can you tell me Rafael's surname?\n",
            "Reinaldo\n"
          ]
        },
        {
          "output_type": "execute_result",
          "data": {
            "text/plain": [
              "\"Rafael's surname is Reinaldo.\""
            ],
            "application/vnd.google.colaboratory.intrinsic+json": {
              "type": "string"
            }
          },
          "metadata": {},
          "execution_count": 50
        }
      ]
    },
    {
      "source": [
        "#agent.run(input={\"pages\": \"Montreal\", \"query_str\": \"What's the arts and culture scene in montreal?\"},query_str=\"What's the arts and culture scene in montreal?\")\n",
        "\n",
        "agent.run(input={\"pages\": \"Montreal\", \"query_str\": \"What's the arts and culture scene in montreal?\"})\n"
      ],
      "cell_type": "code",
      "metadata": {
        "colab": {
          "base_uri": "https://localhost:8080/",
          "height": 211
        },
        "id": "6pMJCwm3p1Vq",
        "outputId": "694d8329-f707-4261-d75c-69c8b02fb5b1"
      },
      "id": "6pMJCwm3p1Vq",
      "execution_count": 15,
      "outputs": [
        {
          "output_type": "stream",
          "name": "stdout",
          "text": [
            "\n",
            "Observation: \u001b[36;1m\u001b[1;3mMontreal boasts a vibrant arts and culture scene, earning it the title of \"Canada's Cultural Capital.\" The city is known for its diverse cultural communities, which have contributed to a unique local culture. Montreal hosts numerous cultural events and festivals throughout the year, including the Montreal International Jazz Festival, the largest jazz festival globally, and the Just for Laughs comedy festival, the largest of its kind. The city's downtown area comes alive during the summer with a variety of cultural and social events. Montreal is also recognized for its classical arts scene, with the Place des Arts serving as a hub for various performances, including those by the Montreal Symphony Orchestra and the Opéra de Montréal. Additionally, Montreal's vibrant nightlife is considered an integral part of its cultural ecosystem.\u001b[0m\n",
            "Thought:"
          ]
        },
        {
          "output_type": "execute_result",
          "data": {
            "text/plain": [
              "\"Montreal boasts a vibrant arts and culture scene, earning it the title of 'Canada's Cultural Capital.' The city is known for its diverse cultural communities, which have contributed to a unique local culture. Montreal hosts numerous cultural events and festivals throughout the year, including the Montreal International Jazz Festival, the largest jazz festival globally, and the Just for Laughs comedy festival, the largest of its kind. The city's downtown area comes alive during the summer with a variety of cultural and social events. Montreal is also recognized for its classical arts scene, with the Place des Arts serving as a hub for various performances, including those by the Montreal Symphony Orchestra and the Opéra de Montréal. Additionally, Montreal's vibrant nightlife is considered an integral part of its cultural ecosystem.\""
            ],
            "application/vnd.google.colaboratory.intrinsic+json": {
              "type": "string"
            }
          },
          "metadata": {},
          "execution_count": 15
        }
      ]
    },
    {
      "cell_type": "code",
      "source": [
        "response=agent.run(input={\"pages\": \"Montreal\", \"query_str\": \"What is the best restaurant in Montreal?\"})"
      ],
      "metadata": {
        "id": "tv9b32ywy8uc"
      },
      "id": "tv9b32ywy8uc",
      "execution_count": null,
      "outputs": []
    },
    {
      "cell_type": "code",
      "source": [
        "response"
      ],
      "metadata": {
        "colab": {
          "base_uri": "https://localhost:8080/",
          "height": 35
        },
        "id": "drd3XUhgB1Fm",
        "outputId": "5cb1db3c-a664-4653-d9a9-ddb22b768328"
      },
      "id": "drd3XUhgB1Fm",
      "execution_count": 46,
      "outputs": [
        {
          "output_type": "execute_result",
          "data": {
            "text/plain": [
              "\"Some of the best restaurants in Montreal are Joe Beef, Au Pied de Cochon, Toqué!, Schwartz's Deli, L'Express, and Liverpool House.\""
            ],
            "application/vnd.google.colaboratory.intrinsic+json": {
              "type": "string"
            }
          },
          "metadata": {},
          "execution_count": 46
        }
      ]
    },
    {
      "cell_type": "code",
      "source": [
        "!pip install llama_index -q\n",
        "!pip install langchain -q\n",
        "!pip install wikipedia -q"
      ],
      "metadata": {
        "id": "OM7sfKGa49W9"
      },
      "id": "OM7sfKGa49W9",
      "execution_count": 18,
      "outputs": []
    },
    {
      "cell_type": "code",
      "source": [
        "import os\n",
        "import openai\n",
        "\n",
        "import llama_index\n",
        "\n",
        "#from llama_index.tools.ondemand_loader_tool import OnDemandLoaderTool\n",
        "## added by frank morales\n",
        "from llama_index.core.tools.ondemand_loader_tool import OnDemandLoaderTool\n",
        "\n",
        "from llama_index.readers.wikipedia import WikipediaReader\n",
        "from typing import List\n",
        "\n",
        "from pydantic import BaseModel\n",
        "\n",
        "reader = WikipediaReader()\n",
        "\n",
        "tool = OnDemandLoaderTool.from_defaults(\n",
        "    reader,\n",
        "    name=\"Wikipedia Tool\",\n",
        "    description=\"A tool for loading and querying articles from Wikipedia\",\n",
        ")\n",
        "\n",
        "# run only the llama_Index Tool by itself\n",
        "#tool([\"Cuba\"], query_str=\"What's the arts and culture scene in Cuba?\")\n",
        "\n",
        "# run tool from LangChain Agent\n",
        "lc_tool = tool.to_langchain_structured_tool(verbose=True)\n",
        "#response=lc_tool.run(tool_input={\"pages\": [\"Cuba\"], \"query_str\": \"What's the capital city of Cuba?\"})\n",
        "response=lc_tool.run(tool_input={\"pages\": [\"Cuba\"], \"query_str\": \"What's the arts and culture scene in Cuba?\"})"
      ],
      "metadata": {
        "colab": {
          "base_uri": "https://localhost:8080/"
        },
        "id": "TrIOfM3p4zMb",
        "outputId": "c090fc1e-fed6-4180-a90d-b0e1b9fb09c0"
      },
      "id": "TrIOfM3p4zMb",
      "execution_count": 31,
      "outputs": [
        {
          "output_type": "stream",
          "name": "stdout",
          "text": [
            "\u001b[32;1m\u001b[1;3mCuba has a rich arts and culture scene with influences from various sources. The country is known for its vibrant music scene, including genres like son, salsa, and Afro-Cuban jazz. Cuban visual arts have a strong tradition, with artists like Wifredo Lam and Amelia Peláez gaining international recognition. Cuban literature has produced notable figures such as José Martí and Alejo Carpentier. The country also has a thriving dance scene, with the famous Cuban ballet being a significant cultural export. Overall, Cuba's arts and culture scene is diverse and dynamic, reflecting the country's unique history and heritage.\u001b[0m"
          ]
        }
      ]
    },
    {
      "cell_type": "markdown",
      "source": [
        "Initialise LangChain Agent"
      ],
      "metadata": {
        "id": "K-RmGXvtHAVv"
      },
      "id": "K-RmGXvtHAVv"
    },
    {
      "cell_type": "code",
      "source": [
        "from langchain.agents import initialize_agent\n",
        "from langchain.chat_models import ChatOpenAI\n",
        "\n",
        "llm = ChatOpenAI(temperature=0, model_name=\"gpt-3.5-turbo\", streaming=True)\n",
        "\n",
        "agent = initialize_agent(\n",
        "    [lc_tool],\n",
        "    llm=llm,\n",
        "    agent=\"structured-chat-zero-shot-react-description\",\n",
        "    verbose=False\n",
        ")\n",
        "\n",
        "#agent.run(\"Tell me about the arts and culture of Berlin\")\n",
        "\n",
        "response=agent.run(input={\"pages\": \"Montreal\", \"query_str\": \"What's the arts and culture scene in montreal?\"}) ## GPT-3.5"
      ],
      "metadata": {
        "id": "mU2zcZxgGFS6"
      },
      "id": "mU2zcZxgGFS6",
      "execution_count": null,
      "outputs": []
    },
    {
      "cell_type": "code",
      "source": [
        "response"
      ],
      "metadata": {
        "colab": {
          "base_uri": "https://localhost:8080/",
          "height": 139
        },
        "id": "usHfc4i-Gq_E",
        "outputId": "a15ad477-40b5-4bc8-90a3-a002a7671887"
      },
      "id": "usHfc4i-Gq_E",
      "execution_count": 30,
      "outputs": [
        {
          "output_type": "execute_result",
          "data": {
            "text/plain": [
              "\"Montreal boasts a vibrant arts and culture scene, earning it the title of 'Canada's Cultural Capital.' The city is known for its diverse cultural communities, which have contributed to a unique local culture. Montreal hosts numerous cultural events and festivals throughout the year, including the Montreal International Jazz Festival, Just for Laughs comedy festival, Montreal World Film Festival, and many more. The city's downtown area comes alive during the summer with a variety of cultural and social activities. Montreal is also recognized for its classical arts scene, with venues like Place des Arts hosting performances by renowned orchestras, opera companies, ballet troupes, and avant-garde dance groups. Additionally, Montreal's architecture reflects its rich history, with a mix of colonial buildings in Old Montreal and iconic modern structures like the Olympic Stadium and Habitat 67.\""
            ],
            "application/vnd.google.colaboratory.intrinsic+json": {
              "type": "string"
            }
          },
          "metadata": {},
          "execution_count": 30
        }
      ]
    }
  ],
  "metadata": {
    "kernelspec": {
      "display_name": "venv",
      "language": "python",
      "name": "python3"
    },
    "language_info": {
      "codemirror_mode": {
        "name": "ipython",
        "version": 3
      },
      "file_extension": ".py",
      "mimetype": "text/x-python",
      "name": "python",
      "nbconvert_exporter": "python",
      "pygments_lexer": "ipython3"
    },
    "colab": {
      "provenance": [],
      "include_colab_link": true
    }
  },
  "nbformat": 4,
  "nbformat_minor": 5
}