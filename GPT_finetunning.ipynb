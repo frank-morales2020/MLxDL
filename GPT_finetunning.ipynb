{
  "nbformat": 4,
  "nbformat_minor": 0,
  "metadata": {
    "colab": {
      "provenance": [],
      "authorship_tag": "ABX9TyO/TSm+0P+G5OdQ5C7wkmde",
      "include_colab_link": true
    },
    "kernelspec": {
      "name": "python3",
      "display_name": "Python 3"
    },
    "language_info": {
      "name": "python"
    }
  },
  "cells": [
    {
      "cell_type": "markdown",
      "metadata": {
        "id": "view-in-github",
        "colab_type": "text"
      },
      "source": [
        "<a href=\"https://colab.research.google.com/github/frank-morales2020/MLxDL/blob/main/GPT_finetunning.ipynb\" target=\"_parent\"><img src=\"https://colab.research.google.com/assets/colab-badge.svg\" alt=\"Open In Colab\"/></a>"
      ]
    },
    {
      "cell_type": "markdown",
      "source": [
        "https://platform.openai.com/docs/guides/fine-tuning"
      ],
      "metadata": {
        "id": "ce4Q1F9t4yHF"
      }
    },
    {
      "cell_type": "code",
      "source": [
        "!pip install colab-env --upgrade -q\n",
        "!pip install openai -q"
      ],
      "metadata": {
        "id": "_Mm88LekcV80"
      },
      "execution_count": null,
      "outputs": []
    },
    {
      "cell_type": "code",
      "source": [
        "import colab_env\n",
        "import os\n",
        "\n",
        "from openai import OpenAI\n",
        "client = OpenAI(api_key = os.getenv(\"OPENAI_API_KEY\"))\n"
      ],
      "metadata": {
        "colab": {
          "base_uri": "https://localhost:8080/"
        },
        "id": "L2HaecP4cc1c",
        "outputId": "f61dcba9-ad85-4606-bf0b-2456d9917969"
      },
      "execution_count": 2,
      "outputs": [
        {
          "output_type": "stream",
          "name": "stdout",
          "text": [
            "Mounted at /content/gdrive\n"
          ]
        }
      ]
    },
    {
      "cell_type": "code",
      "source": [
        "from openai import OpenAI\n",
        "client = OpenAI()\n",
        "\n",
        "modellist=client.models.list()\n",
        "modellist.data"
      ],
      "metadata": {
        "id": "qnEgsBT8clV4"
      },
      "execution_count": null,
      "outputs": []
    },
    {
      "cell_type": "code",
      "source": [
        "#modellist.data[33] # Model(id='gpt-4-vision-preview', created=1698894917, object='model', owned_by='system'),\n",
        "#modellist.data[34]  # Model(id='ada:ft-personal-2023-07-11-12-33-39', created=1689078819, object='model', owned_by='user-mgtzrbiiso3g68oicniq0obp'),\n",
        "len(modellist.data) #34 Official by OpenAI"
      ],
      "metadata": {
        "colab": {
          "base_uri": "https://localhost:8080/"
        },
        "id": "KalpvRhnX0zh",
        "outputId": "eaf2d1b3-98b5-48a5-87b4-09795614d8b0"
      },
      "execution_count": 4,
      "outputs": [
        {
          "output_type": "execute_result",
          "data": {
            "text/plain": [
              "37"
            ]
          },
          "metadata": {},
          "execution_count": 4
        }
      ]
    },
    {
      "cell_type": "code",
      "execution_count": 7,
      "metadata": {
        "id": "KPndkkhmcFku"
      },
      "outputs": [],
      "source": [
        "from openai import OpenAI\n",
        "client = OpenAI()\n",
        "\n",
        "response = client.chat.completions.create(\n",
        "  model=\"gpt-3.5-turbo\",\n",
        "  messages=[\n",
        "    {\n",
        "      \"role\": \"system\",\n",
        "      \"content\": \"Summarize content you are provided with for a second-grade student.\"\n",
        "    },\n",
        "    {\n",
        "      \"role\": \"user\",\n",
        "      \"content\": \"Jupiter is the fifth planet from the Sun and the largest in the Solar System. It is a gas giant with a mass one-thousandth that of the Sun, but two-and-a-half times that of all the other planets in the Solar System combined. Jupiter is one of the brightest objects visible to the naked eye in the night sky, and has been known to ancient civilizations since before recorded history. It is named after the Roman god Jupiter.[19] When viewed from Earth, Jupiter can be bright enough for its reflected light to cast visible shadows,[20] and is on average the third-brightest natural object in the night sky after the Moon and Venus.\"\n",
        "    }\n",
        "  ],\n",
        "  temperature=0.7,\n",
        "  max_tokens=64,\n",
        "  top_p=1\n",
        ")"
      ]
    },
    {
      "cell_type": "code",
      "source": [
        "print(response.choices[0].message.content)"
      ],
      "metadata": {
        "colab": {
          "base_uri": "https://localhost:8080/"
        },
        "id": "75HjH2FQcyKH",
        "outputId": "cb670ae0-71ac-450c-9c58-ed5833ab452c"
      },
      "execution_count": 8,
      "outputs": [
        {
          "output_type": "stream",
          "name": "stdout",
          "text": [
            "Jupiter is a big planet in our Solar System that is fifth from the Sun. It is very large and made mostly of gas. It is so big that it weighs more than all the other planets combined. People have known about Jupiter for a long time because it is very bright in the sky. It is named after\n"
          ]
        }
      ]
    },
    {
      "cell_type": "code",
      "source": [
        "#get SQuAD v2\n",
        "#!wget -nc https://rajpurkar.github.io/SQuAD-explorer/dataset/train-v2.0.json\n",
        "#!wget -nc https://rajpurkar.github.io/SQuAD-explorer/dataset/dev-v2.0.json"
      ],
      "metadata": {
        "id": "xQK7fvZyhs2P"
      },
      "execution_count": 9,
      "outputs": []
    },
    {
      "source": [
        "from openai import OpenAI\n",
        "client = OpenAI()\n",
        "\n",
        "# Upload the training file\n",
        "file_response = client.files.create(\n",
        "  file=open(\"/content/gdrive/MyDrive/datasets/dataft-L110.json\", \"rb\"),\n",
        "  purpose=\"fine-tune\"\n",
        ")\n",
        "\n",
        "# Get the file ID\n",
        "file_id = file_response.id\n",
        "\n",
        "# Start the fine-tuning job using the file ID\n",
        "cftjc=client.fine_tuning.jobs.create(\n",
        "  training_file=file_id,\n",
        "  model=\"gpt-3.5-turbo\"\n",
        ")\n",
        "\n",
        "training_file=cftjc.training_file\n",
        "fine_tuning_job=cftjc.id"
      ],
      "cell_type": "code",
      "metadata": {
        "id": "sZIkN7bff3mH"
      },
      "execution_count": 10,
      "outputs": []
    },
    {
      "cell_type": "code",
      "source": [
        "# List 10 fine-tuning jobs\n",
        "#client.fine_tuning.jobs.list(limit=10)\n",
        "\n",
        "# Retrieve the state of a fine-tune\n",
        "#client.fine_tuning.jobs.retrieve(fine_tuning_job)\n",
        "\n",
        "# Cancel a job\n",
        "#client.fine_tuning.jobs.cancel(\"ftjob-HHsRv4STcKEaAywwrYDjL4zI\")\n",
        "\n",
        "# List up to 10 events from a fine-tuning job\n",
        "#client.fine_tuning.jobs.list_events(fine_tuning_job_id=fine_tuning_job, limit=10)\n",
        "\n",
        "# Delete a fine-tuned model (must be an owner of the org the model was created in)\n",
        "#client.models.delete(\"ft:gpt-3.5-turbo:acemeco:suffix:abc123\")"
      ],
      "metadata": {
        "id": "3itHCXzvgYly"
      },
      "execution_count": 11,
      "outputs": []
    },
    {
      "cell_type": "code",
      "source": [
        "actual_job_id = fine_tuning_job  # Replace with a real ID\n",
        "fine_tuning_job_retrieve=client.fine_tuning.jobs.retrieve(actual_job_id)\n",
        "#client.fine_tuning.jobs.retrieve(actual_job_id)"
      ],
      "metadata": {
        "id": "c76JNFEMx3ek"
      },
      "execution_count": 12,
      "outputs": []
    },
    {
      "cell_type": "code",
      "source": [
        "organization_id=fine_tuning_job_retrieve.organization_id\n",
        "fine_tuned_model=fine_tuning_job_retrieve.fine_tuned_model\n",
        "print(fine_tuned_model)"
      ],
      "metadata": {
        "colab": {
          "base_uri": "https://localhost:8080/"
        },
        "id": "N-D18CIYyYWa",
        "outputId": "dcf0f52d-90f1-4c86-99df-81e020b741ce"
      },
      "execution_count": 13,
      "outputs": [
        {
          "output_type": "stream",
          "name": "stdout",
          "text": [
            "None\n"
          ]
        }
      ]
    },
    {
      "cell_type": "markdown",
      "source": [
        "https://platform.openai.com/finetune/"
      ],
      "metadata": {
        "id": "PE7rnwM1wGOq"
      }
    },
    {
      "cell_type": "code",
      "source": [
        "while fine_tuned_model == None:\n",
        "       fine_tuning_job_retrieve=client.fine_tuning.jobs.retrieve(actual_job_id)\n",
        "       organization_id=fine_tuning_job_retrieve.organization_id\n",
        "       fine_tuned_model=fine_tuning_job_retrieve.fine_tuned_model\n"
      ],
      "metadata": {
        "id": "Ak9za3hx9XSA"
      },
      "execution_count": 14,
      "outputs": []
    },
    {
      "cell_type": "code",
      "source": [
        "print(fine_tuned_model)"
      ],
      "metadata": {
        "colab": {
          "base_uri": "https://localhost:8080/"
        },
        "id": "JDRZoJRR964H",
        "outputId": "b8823474-60a6-48a0-9b74-79cb00e09c6f"
      },
      "execution_count": 15,
      "outputs": [
        {
          "metadata": {
            "tags": null
          },
          "name": "stdout",
          "output_type": "stream",
          "text": [
            "ft:gpt-3.5-turbo-0125:personal::9WUf2Dxv\n"
          ]
        }
      ]
    },
    {
      "cell_type": "code",
      "source": [
        "from openai import OpenAI\n",
        "client = OpenAI()\n",
        "\n",
        "\n",
        "completion = client.chat.completions.create(\n",
        "  model=fine_tuned_model,\n",
        "  messages=[\n",
        "    {\"role\": \"system\", \"content\": \"You are a helpful assistant.\"},\n",
        "    {\"role\": \"user\", \"content\": \"capital of russia?\"}\n",
        "  ]\n",
        ")\n",
        "print(completion.choices[0].message.content)"
      ],
      "metadata": {
        "colab": {
          "base_uri": "https://localhost:8080/"
        },
        "id": "RccLamrTtuxY",
        "outputId": "c7894435-e353-4ccd-caeb-7b4102e5d544"
      },
      "execution_count": 22,
      "outputs": [
        {
          "output_type": "stream",
          "name": "stdout",
          "text": [
            "The capital of Russia is Moscow.\n"
          ]
        }
      ]
    },
    {
      "cell_type": "code",
      "source": [
        "modellist=client.models.list()\n",
        "modellist.data"
      ],
      "metadata": {
        "colab": {
          "base_uri": "https://localhost:8080/"
        },
        "id": "vbqWfRQrvfuH",
        "outputId": "d97aabe7-bf52-440f-96d9-2e62266e7721"
      },
      "execution_count": 17,
      "outputs": [
        {
          "output_type": "execute_result",
          "data": {
            "text/plain": [
              "[Model(id='dall-e-3', created=1698785189, object='model', owned_by='system'),\n",
              " Model(id='gpt-4-1106-preview', created=1698957206, object='model', owned_by='system'),\n",
              " Model(id='whisper-1', created=1677532384, object='model', owned_by='openai-internal'),\n",
              " Model(id='davinci-002', created=1692634301, object='model', owned_by='system'),\n",
              " Model(id='gpt-4o-2024-05-13', created=1715368132, object='model', owned_by='system'),\n",
              " Model(id='babbage-002', created=1692634615, object='model', owned_by='system'),\n",
              " Model(id='dall-e-2', created=1698798177, object='model', owned_by='system'),\n",
              " Model(id='gpt-3.5-turbo-16k', created=1683758102, object='model', owned_by='openai-internal'),\n",
              " Model(id='tts-1-hd-1106', created=1699053533, object='model', owned_by='system'),\n",
              " Model(id='tts-1-hd', created=1699046015, object='model', owned_by='system'),\n",
              " Model(id='gpt-4o', created=1715367049, object='model', owned_by='system'),\n",
              " Model(id='gpt-3.5-turbo-1106', created=1698959748, object='model', owned_by='system'),\n",
              " Model(id='gpt-3.5-turbo-instruct-0914', created=1694122472, object='model', owned_by='system'),\n",
              " Model(id='gpt-3.5-turbo-instruct', created=1692901427, object='model', owned_by='system'),\n",
              " Model(id='text-embedding-3-small', created=1705948997, object='model', owned_by='system'),\n",
              " Model(id='gpt-4-turbo-2024-04-09', created=1712601677, object='model', owned_by='system'),\n",
              " Model(id='tts-1', created=1681940951, object='model', owned_by='openai-internal'),\n",
              " Model(id='gpt-4-turbo', created=1712361441, object='model', owned_by='system'),\n",
              " Model(id='gpt-4-0125-preview', created=1706037612, object='model', owned_by='system'),\n",
              " Model(id='gpt-3.5-turbo-0125', created=1706048358, object='model', owned_by='system'),\n",
              " Model(id='gpt-3.5-turbo', created=1677610602, object='model', owned_by='openai'),\n",
              " Model(id='gpt-3.5-turbo-0301', created=1677649963, object='model', owned_by='openai'),\n",
              " Model(id='gpt-4-turbo-preview', created=1706037777, object='model', owned_by='system'),\n",
              " Model(id='gpt-4-0314', created=1687882410, object='model', owned_by='openai'),\n",
              " Model(id='tts-1-1106', created=1699053241, object='model', owned_by='system'),\n",
              " Model(id='text-embedding-3-large', created=1705953180, object='model', owned_by='system'),\n",
              " Model(id='gpt-4-32k-0314', created=1687979321, object='model', owned_by='openai'),\n",
              " Model(id='gpt-3.5-turbo-0613', created=1686587434, object='model', owned_by='openai'),\n",
              " Model(id='gpt-4', created=1687882411, object='model', owned_by='openai'),\n",
              " Model(id='text-embedding-ada-002', created=1671217299, object='model', owned_by='openai-internal'),\n",
              " Model(id='gpt-4-1106-vision-preview', created=1711473033, object='model', owned_by='system'),\n",
              " Model(id='gpt-3.5-turbo-16k-0613', created=1685474247, object='model', owned_by='openai'),\n",
              " Model(id='gpt-4-0613', created=1686588896, object='model', owned_by='openai'),\n",
              " Model(id='gpt-4-vision-preview', created=1698894917, object='model', owned_by='system'),\n",
              " Model(id='ft:gpt-3.5-turbo-0125:personal::9WUPYRxX:ckpt-step-80', created=1717530424, object='model', owned_by='user-mgtzrbiiso3g68oicniq0obp'),\n",
              " Model(id='ft:gpt-3.5-turbo-0125:personal::9WUPZrim:ckpt-step-90', created=1717530425, object='model', owned_by='user-mgtzrbiiso3g68oicniq0obp'),\n",
              " Model(id='ft:gpt-3.5-turbo-0125:personal::9WUPZnAd', created=1717530425, object='model', owned_by='user-mgtzrbiiso3g68oicniq0obp'),\n",
              " Model(id='ft:gpt-3.5-turbo-0125:personal::9WUf18MU:ckpt-step-110', created=1717531384, object='model', owned_by='user-mgtzrbiiso3g68oicniq0obp'),\n",
              " Model(id='ft:gpt-3.5-turbo-0125:personal::9WUf2FoW:ckpt-step-220', created=1717531384, object='model', owned_by='user-mgtzrbiiso3g68oicniq0obp'),\n",
              " Model(id='ft:gpt-3.5-turbo-0125:personal::9WUf2Dxv', created=1717531384, object='model', owned_by='user-mgtzrbiiso3g68oicniq0obp')]"
            ]
          },
          "metadata": {},
          "execution_count": 17
        }
      ]
    },
    {
      "cell_type": "code",
      "source": [
        "modellist.data[33]"
      ],
      "metadata": {
        "colab": {
          "base_uri": "https://localhost:8080/"
        },
        "id": "7Mm46HBIwfHo",
        "outputId": "0d331b5c-6215-45a9-bcfe-42a1f869480b"
      },
      "execution_count": 23,
      "outputs": [
        {
          "output_type": "execute_result",
          "data": {
            "text/plain": [
              "Model(id='gpt-4-vision-preview', created=1698894917, object='model', owned_by='system')"
            ]
          },
          "metadata": {},
          "execution_count": 23
        }
      ]
    },
    {
      "cell_type": "code",
      "source": [
        "for i in range(34,len(modellist.data)):\n",
        "  print(modellist.data[i].id)\n",
        "  client.models.delete(modellist.data[i].id)"
      ],
      "metadata": {
        "colab": {
          "base_uri": "https://localhost:8080/"
        },
        "id": "O1HIP8cXw0lC",
        "outputId": "d02c9d60-a943-45b1-ed9e-55febf52dd3e"
      },
      "execution_count": 24,
      "outputs": [
        {
          "output_type": "stream",
          "name": "stdout",
          "text": [
            "ft:gpt-3.5-turbo-0125:personal::9WUPYRxX:ckpt-step-80\n",
            "ft:gpt-3.5-turbo-0125:personal::9WUPZrim:ckpt-step-90\n",
            "ft:gpt-3.5-turbo-0125:personal::9WUPZnAd\n",
            "ft:gpt-3.5-turbo-0125:personal::9WUf18MU:ckpt-step-110\n",
            "ft:gpt-3.5-turbo-0125:personal::9WUf2FoW:ckpt-step-220\n",
            "ft:gpt-3.5-turbo-0125:personal::9WUf2Dxv\n"
          ]
        }
      ]
    }
  ]
}