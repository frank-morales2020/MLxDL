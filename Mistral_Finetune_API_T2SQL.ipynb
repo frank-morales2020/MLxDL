{
  "cells": [
    {
      "cell_type": "markdown",
      "metadata": {
        "id": "view-in-github",
        "colab_type": "text"
      },
      "source": [
        "<a href=\"https://colab.research.google.com/github/frank-morales2020/MLxDL/blob/main/Mistral_Finetune_API_T2SQL.ipynb\" target=\"_parent\"><img src=\"https://colab.research.google.com/assets/colab-badge.svg\" alt=\"Open In Colab\"/></a>"
      ]
    },
    {
      "cell_type": "code",
      "source": [
        "!pip install colab-env -q\n",
        "!pip install mistralai -q\n",
        "!pip install datasets -q\n",
        "import colab_env"
      ],
      "metadata": {
        "id": "qaVfUsrG1RZx"
      },
      "execution_count": null,
      "outputs": []
    },
    {
      "cell_type": "code",
      "source": [
        "from datasets import load_dataset\n",
        "\n",
        "# Convert dataset to OAI messages\n",
        "system_message = \"\"\"You are an text to SQL query translator. Users will ask you questions in English and you will generate a SQL query based on the provided SCHEMA.\n",
        "SCHEMA:\n",
        "{schema}\"\"\"\n",
        "\n",
        "def create_conversation(sample):\n",
        "  return {\n",
        "    \"messages\": [\n",
        "      {\"role\": \"system\", \"content\": system_message.format(schema=sample[\"context\"])},\n",
        "      {\"role\": \"user\", \"content\": sample[\"question\"]},\n",
        "      {\"role\": \"assistant\", \"content\": sample[\"answer\"]}\n",
        "    ]\n",
        "  }\n",
        "\n",
        "# Load dataset from the hub\n",
        "dataset = load_dataset(\"b-mc2/sql-create-context\", split=\"train\")\n",
        "dataset = dataset.shuffle().select(range(70000))\n",
        "\n",
        "# Convert dataset to OAI messages\n",
        "dataset = dataset.map(create_conversation, remove_columns=dataset.features,batched=False)\n",
        "\n",
        "dataset = dataset.train_test_split(test_size=0.15)  # Use 0.15 for 15% test size\n",
        "\n",
        "print(dataset[\"train\"][345][\"messages\"])\n",
        "\n",
        "# save datasets to disk\n",
        "dataset[\"train\"].to_json(\"train_dataset.jsonl\", orient=\"records\", lines=True)\n",
        "dataset[\"test\"].to_json(\"test_dataset.jsonl\", orient=\"records\", lines=True)"
      ],
      "metadata": {
        "id": "o_t_76MZ4KqB"
      },
      "execution_count": null,
      "outputs": []
    },
    {
      "cell_type": "code",
      "source": [
        "# download the validation and reformat script\n",
        "!wget https://raw.githubusercontent.com/mistralai/mistral-finetune/main/utils/reformat_data.py"
      ],
      "metadata": {
        "id": "CyZkDh-PbKJe"
      },
      "execution_count": null,
      "outputs": []
    },
    {
      "cell_type": "code",
      "source": [
        "!python reformat_data.py train_dataset.jsonl\n",
        "!python reformat_data.py test_dataset.jsonl"
      ],
      "metadata": {
        "id": "WCfyhw8W4gUL"
      },
      "execution_count": 187,
      "outputs": []
    },
    {
      "cell_type": "code",
      "source": [
        "dataset"
      ],
      "metadata": {
        "colab": {
          "base_uri": "https://localhost:8080/"
        },
        "id": "9jfpv0AD5DFn",
        "outputId": "cfd1139e-dfa6-4fd5-cc8f-2ef1275a6977"
      },
      "execution_count": 188,
      "outputs": [
        {
          "output_type": "execute_result",
          "data": {
            "text/plain": [
              "DatasetDict({\n",
              "    train: Dataset({\n",
              "        features: ['messages'],\n",
              "        num_rows: 59500\n",
              "    })\n",
              "    test: Dataset({\n",
              "        features: ['messages'],\n",
              "        num_rows: 10500\n",
              "    })\n",
              "})"
            ]
          },
          "metadata": {},
          "execution_count": 188
        }
      ]
    },
    {
      "cell_type": "markdown",
      "metadata": {
        "id": "dVfIMwgUJF91"
      },
      "source": [
        "## Reformat dataset\n",
        "If you upload this ultrachat_chunk_train.jsonl to Mistral API, you might encounter an error message “Invalid file format” due to data formatting issues. To reformat the data into the correct format, you can download the reformat_dataset.py script and use it to validate and reformat both the training and evaluation data:"
      ]
    },
    {
      "cell_type": "code",
      "execution_count": 5,
      "metadata": {
        "colab": {
          "base_uri": "https://localhost:8080/"
        },
        "id": "kaLd2n726tAI",
        "outputId": "31b106d2-1a43-4a29-f605-0e3144d26e68"
      },
      "outputs": [
        {
          "output_type": "stream",
          "name": "stdout",
          "text": [
            "--2025-03-19 05:21:44--  https://raw.githubusercontent.com/mistralai/mistral-finetune/main/utils/reformat_data.py\n",
            "Resolving raw.githubusercontent.com (raw.githubusercontent.com)... 185.199.111.133, 185.199.108.133, 185.199.109.133, ...\n",
            "Connecting to raw.githubusercontent.com (raw.githubusercontent.com)|185.199.111.133|:443... connected.\n",
            "HTTP request sent, awaiting response... 200 OK\n",
            "Length: 3381 (3.3K) [text/plain]\n",
            "Saving to: ‘reformat_data.py’\n",
            "\n",
            "\rreformat_data.py      0%[                    ]       0  --.-KB/s               \rreformat_data.py    100%[===================>]   3.30K  --.-KB/s    in 0s      \n",
            "\n",
            "2025-03-19 05:21:44 (31.3 MB/s) - ‘reformat_data.py’ saved [3381/3381]\n",
            "\n"
          ]
        }
      ],
      "source": [
        "# download the validation and reformat script\n",
        "!wget https://raw.githubusercontent.com/mistralai/mistral-finetune/main/utils/reformat_data.py"
      ]
    },
    {
      "cell_type": "code",
      "execution_count": 189,
      "metadata": {
        "id": "gOKqvJMM6kgU"
      },
      "outputs": [],
      "source": [
        "# validate the reformat the  data\n",
        "!python reformat_data.py /content/train_dataset.jsonl\n",
        "!python reformat_data.py /content/test_dataset.jsonl"
      ]
    },
    {
      "cell_type": "code",
      "execution_count": 190,
      "metadata": {
        "colab": {
          "base_uri": "https://localhost:8080/"
        },
        "id": "XO3RVA197Ont",
        "outputId": "7f33676f-6d58-4906-a0f6-9fc3a81e01b0"
      },
      "outputs": [
        {
          "output_type": "execute_result",
          "data": {
            "text/plain": [
              "[{'content': 'You are an text to SQL query translator. Users will ask you questions in English and you will generate a SQL query based on the provided SCHEMA.\\nSCHEMA:\\nCREATE TABLE table_name_89 (detriment VARCHAR, domicile VARCHAR, sign VARCHAR)',\n",
              "  'role': 'system'},\n",
              " {'content': 'Which detriment has a domicile of mercury and Virgo as a sign?',\n",
              "  'role': 'user'},\n",
              " {'content': 'SELECT detriment FROM table_name_89 WHERE domicile = \"mercury\" AND sign = \"virgo\"',\n",
              "  'role': 'assistant'}]"
            ]
          },
          "metadata": {},
          "execution_count": 190
        }
      ],
      "source": [
        "dataset['train'][45678]['messages']"
      ]
    },
    {
      "cell_type": "markdown",
      "metadata": {
        "id": "hu_oLukAJect"
      },
      "source": [
        "## Upload dataset"
      ]
    },
    {
      "cell_type": "code",
      "execution_count": 191,
      "metadata": {
        "id": "B0UlO1Qa7xi3"
      },
      "outputs": [],
      "source": [
        "from mistralai import Mistral\n",
        "import os\n",
        "\n",
        "api_key = os.environ[\"MISTRAL_API_KEY\"]\n",
        "\n",
        "client = Mistral(api_key=api_key)\n",
        "\n",
        "chunk_train = client.files.upload(file={\n",
        "    \"file_name\": \"/content/train_dataset.jsonl\",\n",
        "    \"content\": open(\"/content/train_dataset.jsonl\", \"rb\"),\n",
        "})\n",
        "chunk_eval = client.files.upload(file={\n",
        "    \"file_name\": \"/content/test_dataset.jsonl\",\n",
        "    \"content\": open(\"/content/test_dataset.jsonl\", \"rb\"),\n",
        "})"
      ]
    },
    {
      "cell_type": "code",
      "execution_count": 192,
      "metadata": {
        "id": "ChnYoKhoapES"
      },
      "outputs": [],
      "source": [
        "import json\n",
        "def pprint(obj):\n",
        "    print(json.dumps(obj.model_dump(), indent=4))"
      ]
    },
    {
      "cell_type": "code",
      "execution_count": 193,
      "metadata": {
        "colab": {
          "base_uri": "https://localhost:8080/"
        },
        "id": "rIAJdJIc9g2q",
        "outputId": "61b5e17d-5637-42dd-984a-a2ca345b9280"
      },
      "outputs": [
        {
          "output_type": "stream",
          "name": "stdout",
          "text": [
            "{\n",
            "    \"id\": \"b0352eff-6dd1-45c2-852e-753c38dfae10\",\n",
            "    \"object\": \"file\",\n",
            "    \"bytes\": null,\n",
            "    \"created_at\": 1742368415,\n",
            "    \"filename\": \"train_dataset.jsonl\",\n",
            "    \"purpose\": \"fine-tune\",\n",
            "    \"sample_type\": \"instruct\",\n",
            "    \"source\": \"upload\",\n",
            "    \"num_lines\": 59500\n",
            "}\n"
          ]
        }
      ],
      "source": [
        "pprint(chunk_train)"
      ]
    },
    {
      "cell_type": "code",
      "execution_count": 194,
      "metadata": {
        "colab": {
          "base_uri": "https://localhost:8080/"
        },
        "id": "5uA-Xnp1RTmx",
        "outputId": "ad7c6486-6764-4287-d939-b31ba01a338f"
      },
      "outputs": [
        {
          "output_type": "stream",
          "name": "stdout",
          "text": [
            "{\n",
            "    \"id\": \"e2948523-72c1-437a-8647-2bd2c868719e\",\n",
            "    \"object\": \"file\",\n",
            "    \"bytes\": null,\n",
            "    \"created_at\": 1742368417,\n",
            "    \"filename\": \"test_dataset.jsonl\",\n",
            "    \"purpose\": \"fine-tune\",\n",
            "    \"sample_type\": \"instruct\",\n",
            "    \"source\": \"upload\",\n",
            "    \"num_lines\": 10500\n",
            "}\n"
          ]
        }
      ],
      "source": [
        "pprint(chunk_eval)"
      ]
    },
    {
      "cell_type": "markdown",
      "metadata": {
        "id": "DqchXMeXJi6U"
      },
      "source": [
        "## Create a fine-tuning job"
      ]
    },
    {
      "cell_type": "code",
      "execution_count": 199,
      "metadata": {
        "colab": {
          "base_uri": "https://localhost:8080/"
        },
        "id": "x9Qk42ADRVKo",
        "outputId": "ac1d76ee-47b9-4a30-dfab-40b42b7cbd6c"
      },
      "outputs": [
        {
          "output_type": "execute_result",
          "data": {
            "text/plain": [
              "JobOut(id='42325165-05e2-42e5-9759-2a7eaf7d9286', auto_start=True, hyperparameters=TrainingParameters(training_steps=10, learning_rate=0.0001, weight_decay=0.1, warmup_fraction=0.05, epochs=None, fim_ratio=None, seq_len=32768), model='open-mistral-7b', status='QUEUED', job_type='completion', created_at=1742368691, modified_at=1742368691, training_files=['b0352eff-6dd1-45c2-852e-753c38dfae10'], validation_files=['e2948523-72c1-437a-8647-2bd2c868719e'], OBJECT='job', fine_tuned_model=None, suffix=None, integrations=[], trained_tokens=None, repositories=[], metadata=JobMetadataOut(expected_duration_seconds=None, cost=0.0, cost_currency=None, train_tokens_per_step=None, train_tokens=None, data_tokens=None, estimated_start_time=None))"
            ]
          },
          "metadata": {},
          "execution_count": 199
        }
      ],
      "source": [
        "created_jobs = client.fine_tuning.jobs.create(\n",
        "    model=\"open-mistral-7b\",\n",
        "    training_files=[{\"file_id\": chunk_train.id, \"weight\": 1}],\n",
        "    validation_files=[chunk_eval.id],\n",
        "    hyperparameters={\n",
        "    \"training_steps\": 10,\n",
        "    \"learning_rate\":0.0001\n",
        "    },\n",
        "    auto_start=True\n",
        ")\n",
        "created_jobs"
      ]
    },
    {
      "cell_type": "code",
      "execution_count": 200,
      "metadata": {
        "colab": {
          "base_uri": "https://localhost:8080/"
        },
        "id": "bkZlYvwGanL1",
        "outputId": "51416a1f-7fd0-4814-be10-694d72dff028"
      },
      "outputs": [
        {
          "output_type": "stream",
          "name": "stdout",
          "text": [
            "{\n",
            "    \"id\": \"42325165-05e2-42e5-9759-2a7eaf7d9286\",\n",
            "    \"auto_start\": true,\n",
            "    \"hyperparameters\": {\n",
            "        \"training_steps\": 10,\n",
            "        \"learning_rate\": 0.0001,\n",
            "        \"weight_decay\": 0.1,\n",
            "        \"warmup_fraction\": 0.05,\n",
            "        \"epochs\": null,\n",
            "        \"fim_ratio\": null,\n",
            "        \"seq_len\": 32768\n",
            "    },\n",
            "    \"model\": \"open-mistral-7b\",\n",
            "    \"status\": \"QUEUED\",\n",
            "    \"job_type\": \"completion\",\n",
            "    \"created_at\": 1742368691,\n",
            "    \"modified_at\": 1742368691,\n",
            "    \"training_files\": [\n",
            "        \"b0352eff-6dd1-45c2-852e-753c38dfae10\"\n",
            "    ],\n",
            "    \"validation_files\": [\n",
            "        \"e2948523-72c1-437a-8647-2bd2c868719e\"\n",
            "    ],\n",
            "    \"fine_tuned_model\": null,\n",
            "    \"suffix\": null,\n",
            "    \"integrations\": [],\n",
            "    \"trained_tokens\": null,\n",
            "    \"repositories\": [],\n",
            "    \"metadata\": {\n",
            "        \"expected_duration_seconds\": null,\n",
            "        \"cost\": 0.0,\n",
            "        \"cost_currency\": null,\n",
            "        \"train_tokens_per_step\": null,\n",
            "        \"train_tokens\": null,\n",
            "        \"data_tokens\": null,\n",
            "        \"estimated_start_time\": null\n",
            "    }\n",
            "}\n"
          ]
        }
      ],
      "source": [
        "pprint(created_jobs)"
      ]
    },
    {
      "cell_type": "code",
      "execution_count": 201,
      "metadata": {
        "colab": {
          "base_uri": "https://localhost:8080/"
        },
        "id": "X8qv0CyKxEs2",
        "outputId": "eb814191-bf1f-4e19-f575-d2279d9433dc"
      },
      "outputs": [
        {
          "output_type": "stream",
          "name": "stdout",
          "text": [
            "total=10 data=[JobOut(id='42325165-05e2-42e5-9759-2a7eaf7d9286', auto_start=True, hyperparameters=TrainingParameters(training_steps=10, learning_rate=0.0001, weight_decay=0.1, warmup_fraction=0.05, epochs=0.17660251163285778, fim_ratio=None, seq_len=32768), model='open-mistral-7b', status='RUNNING', job_type='completion', created_at=1742368691, modified_at=1742368703, training_files=['b0352eff-6dd1-45c2-852e-753c38dfae10'], validation_files=['e2948523-72c1-437a-8647-2bd2c868719e'], OBJECT='job', fine_tuned_model=None, suffix=None, integrations=[], trained_tokens=None, repositories=[], metadata=JobMetadataOut(expected_duration_seconds=300, cost=2.63, cost_currency='USD', train_tokens_per_step=131072, train_tokens=1310720, data_tokens=7421865, estimated_start_time=None)), JobOut(id='11d93414-8a31-4669-9683-276ef92a79cc', auto_start=True, hyperparameters=TrainingParameters(training_steps=1000, learning_rate=0.0001, weight_decay=0.1, warmup_fraction=0.05, epochs=17.66025116328578, fim_ratio=None, seq_len=32768), model='open-mistral-7b', status='FAILED_VALIDATION', job_type='completion', created_at=1742368455, modified_at=1742368462, training_files=['b0352eff-6dd1-45c2-852e-753c38dfae10'], validation_files=['e2948523-72c1-437a-8647-2bd2c868719e'], OBJECT='job', fine_tuned_model=None, suffix=None, integrations=[], trained_tokens=None, repositories=[], metadata=JobMetadataOut(expected_duration_seconds=30000, cost=262.15, cost_currency='USD', train_tokens_per_step=131072, train_tokens=131072000, data_tokens=7421865, estimated_start_time=None)), JobOut(id='cf811c81-14ba-4c10-9e1f-12a4efaab1af', auto_start=True, hyperparameters=TrainingParameters(training_steps=1000, learning_rate=0.0001, weight_decay=0.1, warmup_fraction=0.05, epochs=None, fim_ratio=None, seq_len=32768), model='open-mistral-7b', status='FAILED_VALIDATION', job_type='completion', created_at=1742368166, modified_at=1742368166, training_files=['d7a4870a-1bc4-4f55-9558-b7734e689ad5'], validation_files=['df63bd71-4c6e-4716-8a92-358cd47c3863'], OBJECT='job', fine_tuned_model=None, suffix=None, integrations=[], trained_tokens=None, repositories=[], metadata=JobMetadataOut(expected_duration_seconds=None, cost=0.0, cost_currency=None, train_tokens_per_step=None, train_tokens=None, data_tokens=None, estimated_start_time=None)), JobOut(id='5d990f28-c880-4373-a006-2d6680ec3cdd', auto_start=True, hyperparameters=TrainingParameters(training_steps=1000, learning_rate=0.0001, weight_decay=0.1, warmup_fraction=0.05, epochs=None, fim_ratio=None, seq_len=32768), model='open-mistral-7b', status='FAILED_VALIDATION', job_type='completion', created_at=1742367885, modified_at=1742367885, training_files=['1285d5a2-3dbb-49b9-87f4-bac1dec4c1b5'], validation_files=['3335b8d7-1e38-488c-940a-1c4b831f8b84'], OBJECT='job', fine_tuned_model=None, suffix=None, integrations=[], trained_tokens=None, repositories=[], metadata=JobMetadataOut(expected_duration_seconds=None, cost=0.0, cost_currency=None, train_tokens_per_step=None, train_tokens=None, data_tokens=None, estimated_start_time=None)), JobOut(id='01258b27-9e6c-495e-932e-9b0f3c709a87', auto_start=True, hyperparameters=TrainingParameters(training_steps=10, learning_rate=0.0001, weight_decay=0.1, warmup_fraction=0.05, epochs=0.9336038109999316, fim_ratio=None, seq_len=32768), model='open-mistral-7b', status='SUCCESS', job_type='completion', created_at=1742364811, modified_at=1742364952, training_files=['e7dae0cf-e471-4c16-8af5-0819f14f535d'], validation_files=['377aef8d-c281-4943-a5d0-b7f8ab1a6d33'], OBJECT='job', fine_tuned_model='ft:open-mistral-7b:9c9073bb:20250319:01258b27', suffix=None, integrations=[], trained_tokens=1310720, repositories=[], metadata=JobMetadataOut(expected_duration_seconds=340, cost=2.63, cost_currency='USD', train_tokens_per_step=131072, train_tokens=1310720, data_tokens=1403936, estimated_start_time=None)), JobOut(id='e2766d56-04d7-46fa-9713-fb8d106f61e5', auto_start=True, hyperparameters=TrainingParameters(training_steps=10, learning_rate=0.0001, weight_decay=0.1, warmup_fraction=0.05, epochs=None, fim_ratio=None, seq_len=32768), model='open-mistral-7b', status='FAILED_VALIDATION', job_type='completion', created_at=1742364661, modified_at=1742364670, training_files=['fd96efe2-e735-4d9f-9609-cb9bb15dd610'], validation_files=['613df9d7-cad4-473a-ac71-6bdab14739aa'], OBJECT='job', fine_tuned_model=None, suffix=None, integrations=[], trained_tokens=None, repositories=[], metadata=JobMetadataOut(expected_duration_seconds=None, cost=0.0, cost_currency=None, train_tokens_per_step=None, train_tokens=None, data_tokens=None, estimated_start_time=None)), JobOut(id='89d83895-bcd6-4eb5-b452-fd7d2f1c7820', auto_start=True, hyperparameters=TrainingParameters(training_steps=10, learning_rate=0.0001, weight_decay=0.1, warmup_fraction=0.05, epochs=None, fim_ratio=None, seq_len=32768), model='open-mistral-7b', status='FAILED_VALIDATION', job_type='completion', created_at=1742364286, modified_at=1742364287, training_files=['063c58d8-3d4b-4f32-9483-026dd3600351'], validation_files=['e4c6c817-619c-48c5-8b57-ea9ce33913b2'], OBJECT='job', fine_tuned_model=None, suffix=None, integrations=[], trained_tokens=None, repositories=[], metadata=JobMetadataOut(expected_duration_seconds=None, cost=0.0, cost_currency=None, train_tokens_per_step=None, train_tokens=None, data_tokens=None, estimated_start_time=None)), JobOut(id='e30d443d-e681-41bf-af0c-b791d7535751', auto_start=True, hyperparameters=TrainingParameters(training_steps=10, learning_rate=0.0001, weight_decay=0.1, warmup_fraction=0.05, epochs=None, fim_ratio=None, seq_len=32768), model='open-mistral-7b', status='FAILED_VALIDATION', job_type='completion', created_at=1742364010, modified_at=1742364012, training_files=['063c58d8-3d4b-4f32-9483-026dd3600351'], validation_files=['e4c6c817-619c-48c5-8b57-ea9ce33913b2'], OBJECT='job', fine_tuned_model=None, suffix=None, integrations=[], trained_tokens=None, repositories=[], metadata=JobMetadataOut(expected_duration_seconds=None, cost=0.0, cost_currency=None, train_tokens_per_step=None, train_tokens=None, data_tokens=None, estimated_start_time=None)), JobOut(id='115cbe8d-5ba9-406c-a6c7-c5669c822b8b', auto_start=True, hyperparameters=TrainingParameters(training_steps=10, learning_rate=0.0001, weight_decay=0.1, warmup_fraction=0.05, epochs=None, fim_ratio=None, seq_len=32768), model='open-mistral-7b', status='FAILED_VALIDATION', job_type='completion', created_at=1742363257, modified_at=1742363260, training_files=['d6d9ce9e-792c-4752-b8c5-ba427edf97a4'], validation_files=['c06b5ad1-7065-4b2f-87ff-3905f5acdcc9'], OBJECT='job', fine_tuned_model=None, suffix=None, integrations=[], trained_tokens=None, repositories=[], metadata=JobMetadataOut(expected_duration_seconds=None, cost=0.0, cost_currency=None, train_tokens_per_step=None, train_tokens=None, data_tokens=None, estimated_start_time=None)), JobOut(id='a4959e67-d78c-4281-9858-e7b40fad09aa', auto_start=True, hyperparameters=TrainingParameters(training_steps=10, learning_rate=0.0001, weight_decay=0.1, warmup_fraction=0.05, epochs=None, fim_ratio=None, seq_len=32768), model='open-mistral-7b', status='FAILED_VALIDATION', job_type='completion', created_at=1742362652, modified_at=1742362652, training_files=['d6d9ce9e-792c-4752-b8c5-ba427edf97a4'], validation_files=['c06b5ad1-7065-4b2f-87ff-3905f5acdcc9'], OBJECT='job', fine_tuned_model=None, suffix=None, integrations=[], trained_tokens=None, repositories=[], metadata=JobMetadataOut(expected_duration_seconds=None, cost=0.0, cost_currency=None, train_tokens_per_step=None, train_tokens=None, data_tokens=None, estimated_start_time=None))] OBJECT='list'\n"
          ]
        }
      ],
      "source": [
        "jobs = client.fine_tuning.jobs.list()\n",
        "print(jobs)"
      ]
    },
    {
      "cell_type": "code",
      "execution_count": 202,
      "metadata": {
        "colab": {
          "base_uri": "https://localhost:8080/"
        },
        "id": "M8X6Vk7RrTGt",
        "outputId": "ee63424b-840b-4a43-ed64-1de181baed91"
      },
      "outputs": [
        {
          "output_type": "execute_result",
          "data": {
            "text/plain": [
              "DetailedJobOut(id='42325165-05e2-42e5-9759-2a7eaf7d9286', auto_start=True, hyperparameters=TrainingParameters(training_steps=10, learning_rate=0.0001, weight_decay=0.1, warmup_fraction=0.05, epochs=0.17660251163285778, fim_ratio=None, seq_len=32768), model='open-mistral-7b', status='RUNNING', job_type='completion', created_at=1742368691, modified_at=1742368703, training_files=['b0352eff-6dd1-45c2-852e-753c38dfae10'], validation_files=['e2948523-72c1-437a-8647-2bd2c868719e'], OBJECT='job', fine_tuned_model=None, suffix=None, integrations=[], trained_tokens=None, repositories=[], metadata=JobMetadataOut(expected_duration_seconds=300, cost=2.63, cost_currency='USD', train_tokens_per_step=131072, train_tokens=1310720, data_tokens=7421865, estimated_start_time=None), events=[EventOut(name='status-updated', created_at=1742368691, data={'status': 'QUEUED'}), EventOut(name='status-updated', created_at=1742368698, data={'status': 'VALIDATED'}), EventOut(name='status-updated', created_at=1742368703, data={'status': 'RUNNING'})], checkpoints=[])"
            ]
          },
          "metadata": {},
          "execution_count": 202
        }
      ],
      "source": [
        "retrieved_jobs = client.fine_tuning.jobs.get(job_id = created_jobs.id)\n",
        "retrieved_jobs"
      ]
    },
    {
      "cell_type": "code",
      "execution_count": 203,
      "metadata": {
        "id": "OQXIE2G3c-Ds"
      },
      "outputs": [],
      "source": [
        "import time\n",
        "\n",
        "retrieved_job = client.fine_tuning.jobs.get(job_id = created_jobs.id)\n",
        "while retrieved_job.status in [\"RUNNING\", \"QUEUED\"]:\n",
        "    retrieved_job = client.fine_tuning.jobs.get(job_id = created_jobs.id)\n",
        "    pprint(retrieved_job)\n",
        "    print(f\"Job is {retrieved_job.status}, waiting 10 seconds\")\n",
        "    time.sleep(10)\n",
        "\n"
      ]
    },
    {
      "cell_type": "code",
      "execution_count": 205,
      "metadata": {
        "colab": {
          "base_uri": "https://localhost:8080/"
        },
        "id": "_x6wRaDtXDzt",
        "outputId": "a35ffb50-a494-4683-b240-2c0ef616aad1"
      },
      "outputs": [
        {
          "output_type": "stream",
          "name": "stdout",
          "text": [
            "{\n",
            "    \"total\": 10,\n",
            "    \"data\": [\n",
            "        {\n",
            "            \"id\": \"42325165-05e2-42e5-9759-2a7eaf7d9286\",\n",
            "            \"auto_start\": true,\n",
            "            \"hyperparameters\": {\n",
            "                \"training_steps\": 10,\n",
            "                \"learning_rate\": 0.0001,\n",
            "                \"weight_decay\": 0.1,\n",
            "                \"warmup_fraction\": 0.05,\n",
            "                \"epochs\": 0.17660251163285778,\n",
            "                \"fim_ratio\": null,\n",
            "                \"seq_len\": 32768\n",
            "            },\n",
            "            \"model\": \"open-mistral-7b\",\n",
            "            \"status\": \"SUCCESS\",\n",
            "            \"job_type\": \"completion\",\n",
            "            \"created_at\": 1742368691,\n",
            "            \"modified_at\": 1742368986,\n",
            "            \"training_files\": [\n",
            "                \"b0352eff-6dd1-45c2-852e-753c38dfae10\"\n",
            "            ],\n",
            "            \"validation_files\": [\n",
            "                \"e2948523-72c1-437a-8647-2bd2c868719e\"\n",
            "            ],\n",
            "            \"fine_tuned_model\": \"ft:open-mistral-7b:9c9073bb:20250319:42325165\",\n",
            "            \"suffix\": null,\n",
            "            \"integrations\": [],\n",
            "            \"trained_tokens\": 1310720,\n",
            "            \"repositories\": [],\n",
            "            \"metadata\": {\n",
            "                \"expected_duration_seconds\": 300,\n",
            "                \"cost\": 2.63,\n",
            "                \"cost_currency\": \"USD\",\n",
            "                \"train_tokens_per_step\": 131072,\n",
            "                \"train_tokens\": 1310720,\n",
            "                \"data_tokens\": 7421865,\n",
            "                \"estimated_start_time\": null\n",
            "            }\n",
            "        },\n",
            "        {\n",
            "            \"id\": \"11d93414-8a31-4669-9683-276ef92a79cc\",\n",
            "            \"auto_start\": true,\n",
            "            \"hyperparameters\": {\n",
            "                \"training_steps\": 1000,\n",
            "                \"learning_rate\": 0.0001,\n",
            "                \"weight_decay\": 0.1,\n",
            "                \"warmup_fraction\": 0.05,\n",
            "                \"epochs\": 17.66025116328578,\n",
            "                \"fim_ratio\": null,\n",
            "                \"seq_len\": 32768\n",
            "            },\n",
            "            \"model\": \"open-mistral-7b\",\n",
            "            \"status\": \"FAILED_VALIDATION\",\n",
            "            \"job_type\": \"completion\",\n",
            "            \"created_at\": 1742368455,\n",
            "            \"modified_at\": 1742368462,\n",
            "            \"training_files\": [\n",
            "                \"b0352eff-6dd1-45c2-852e-753c38dfae10\"\n",
            "            ],\n",
            "            \"validation_files\": [\n",
            "                \"e2948523-72c1-437a-8647-2bd2c868719e\"\n",
            "            ],\n",
            "            \"fine_tuned_model\": null,\n",
            "            \"suffix\": null,\n",
            "            \"integrations\": [],\n",
            "            \"trained_tokens\": null,\n",
            "            \"repositories\": [],\n",
            "            \"metadata\": {\n",
            "                \"expected_duration_seconds\": 30000,\n",
            "                \"cost\": 262.15,\n",
            "                \"cost_currency\": \"USD\",\n",
            "                \"train_tokens_per_step\": 131072,\n",
            "                \"train_tokens\": 131072000,\n",
            "                \"data_tokens\": 7421865,\n",
            "                \"estimated_start_time\": null\n",
            "            }\n",
            "        },\n",
            "        {\n",
            "            \"id\": \"cf811c81-14ba-4c10-9e1f-12a4efaab1af\",\n",
            "            \"auto_start\": true,\n",
            "            \"hyperparameters\": {\n",
            "                \"training_steps\": 1000,\n",
            "                \"learning_rate\": 0.0001,\n",
            "                \"weight_decay\": 0.1,\n",
            "                \"warmup_fraction\": 0.05,\n",
            "                \"epochs\": null,\n",
            "                \"fim_ratio\": null,\n",
            "                \"seq_len\": 32768\n",
            "            },\n",
            "            \"model\": \"open-mistral-7b\",\n",
            "            \"status\": \"FAILED_VALIDATION\",\n",
            "            \"job_type\": \"completion\",\n",
            "            \"created_at\": 1742368166,\n",
            "            \"modified_at\": 1742368166,\n",
            "            \"training_files\": [\n",
            "                \"d7a4870a-1bc4-4f55-9558-b7734e689ad5\"\n",
            "            ],\n",
            "            \"validation_files\": [\n",
            "                \"df63bd71-4c6e-4716-8a92-358cd47c3863\"\n",
            "            ],\n",
            "            \"fine_tuned_model\": null,\n",
            "            \"suffix\": null,\n",
            "            \"integrations\": [],\n",
            "            \"trained_tokens\": null,\n",
            "            \"repositories\": [],\n",
            "            \"metadata\": {\n",
            "                \"expected_duration_seconds\": null,\n",
            "                \"cost\": 0.0,\n",
            "                \"cost_currency\": null,\n",
            "                \"train_tokens_per_step\": null,\n",
            "                \"train_tokens\": null,\n",
            "                \"data_tokens\": null,\n",
            "                \"estimated_start_time\": null\n",
            "            }\n",
            "        },\n",
            "        {\n",
            "            \"id\": \"5d990f28-c880-4373-a006-2d6680ec3cdd\",\n",
            "            \"auto_start\": true,\n",
            "            \"hyperparameters\": {\n",
            "                \"training_steps\": 1000,\n",
            "                \"learning_rate\": 0.0001,\n",
            "                \"weight_decay\": 0.1,\n",
            "                \"warmup_fraction\": 0.05,\n",
            "                \"epochs\": null,\n",
            "                \"fim_ratio\": null,\n",
            "                \"seq_len\": 32768\n",
            "            },\n",
            "            \"model\": \"open-mistral-7b\",\n",
            "            \"status\": \"FAILED_VALIDATION\",\n",
            "            \"job_type\": \"completion\",\n",
            "            \"created_at\": 1742367885,\n",
            "            \"modified_at\": 1742367885,\n",
            "            \"training_files\": [\n",
            "                \"1285d5a2-3dbb-49b9-87f4-bac1dec4c1b5\"\n",
            "            ],\n",
            "            \"validation_files\": [\n",
            "                \"3335b8d7-1e38-488c-940a-1c4b831f8b84\"\n",
            "            ],\n",
            "            \"fine_tuned_model\": null,\n",
            "            \"suffix\": null,\n",
            "            \"integrations\": [],\n",
            "            \"trained_tokens\": null,\n",
            "            \"repositories\": [],\n",
            "            \"metadata\": {\n",
            "                \"expected_duration_seconds\": null,\n",
            "                \"cost\": 0.0,\n",
            "                \"cost_currency\": null,\n",
            "                \"train_tokens_per_step\": null,\n",
            "                \"train_tokens\": null,\n",
            "                \"data_tokens\": null,\n",
            "                \"estimated_start_time\": null\n",
            "            }\n",
            "        },\n",
            "        {\n",
            "            \"id\": \"01258b27-9e6c-495e-932e-9b0f3c709a87\",\n",
            "            \"auto_start\": true,\n",
            "            \"hyperparameters\": {\n",
            "                \"training_steps\": 10,\n",
            "                \"learning_rate\": 0.0001,\n",
            "                \"weight_decay\": 0.1,\n",
            "                \"warmup_fraction\": 0.05,\n",
            "                \"epochs\": 0.9336038109999316,\n",
            "                \"fim_ratio\": null,\n",
            "                \"seq_len\": 32768\n",
            "            },\n",
            "            \"model\": \"open-mistral-7b\",\n",
            "            \"status\": \"SUCCESS\",\n",
            "            \"job_type\": \"completion\",\n",
            "            \"created_at\": 1742364811,\n",
            "            \"modified_at\": 1742364952,\n",
            "            \"training_files\": [\n",
            "                \"e7dae0cf-e471-4c16-8af5-0819f14f535d\"\n",
            "            ],\n",
            "            \"validation_files\": [\n",
            "                \"377aef8d-c281-4943-a5d0-b7f8ab1a6d33\"\n",
            "            ],\n",
            "            \"fine_tuned_model\": \"ft:open-mistral-7b:9c9073bb:20250319:01258b27\",\n",
            "            \"suffix\": null,\n",
            "            \"integrations\": [],\n",
            "            \"trained_tokens\": 1310720,\n",
            "            \"repositories\": [],\n",
            "            \"metadata\": {\n",
            "                \"expected_duration_seconds\": 340,\n",
            "                \"cost\": 2.63,\n",
            "                \"cost_currency\": \"USD\",\n",
            "                \"train_tokens_per_step\": 131072,\n",
            "                \"train_tokens\": 1310720,\n",
            "                \"data_tokens\": 1403936,\n",
            "                \"estimated_start_time\": null\n",
            "            }\n",
            "        },\n",
            "        {\n",
            "            \"id\": \"e2766d56-04d7-46fa-9713-fb8d106f61e5\",\n",
            "            \"auto_start\": true,\n",
            "            \"hyperparameters\": {\n",
            "                \"training_steps\": 10,\n",
            "                \"learning_rate\": 0.0001,\n",
            "                \"weight_decay\": 0.1,\n",
            "                \"warmup_fraction\": 0.05,\n",
            "                \"epochs\": null,\n",
            "                \"fim_ratio\": null,\n",
            "                \"seq_len\": 32768\n",
            "            },\n",
            "            \"model\": \"open-mistral-7b\",\n",
            "            \"status\": \"FAILED_VALIDATION\",\n",
            "            \"job_type\": \"completion\",\n",
            "            \"created_at\": 1742364661,\n",
            "            \"modified_at\": 1742364670,\n",
            "            \"training_files\": [\n",
            "                \"fd96efe2-e735-4d9f-9609-cb9bb15dd610\"\n",
            "            ],\n",
            "            \"validation_files\": [\n",
            "                \"613df9d7-cad4-473a-ac71-6bdab14739aa\"\n",
            "            ],\n",
            "            \"fine_tuned_model\": null,\n",
            "            \"suffix\": null,\n",
            "            \"integrations\": [],\n",
            "            \"trained_tokens\": null,\n",
            "            \"repositories\": [],\n",
            "            \"metadata\": {\n",
            "                \"expected_duration_seconds\": null,\n",
            "                \"cost\": 0.0,\n",
            "                \"cost_currency\": null,\n",
            "                \"train_tokens_per_step\": null,\n",
            "                \"train_tokens\": null,\n",
            "                \"data_tokens\": null,\n",
            "                \"estimated_start_time\": null\n",
            "            }\n",
            "        },\n",
            "        {\n",
            "            \"id\": \"89d83895-bcd6-4eb5-b452-fd7d2f1c7820\",\n",
            "            \"auto_start\": true,\n",
            "            \"hyperparameters\": {\n",
            "                \"training_steps\": 10,\n",
            "                \"learning_rate\": 0.0001,\n",
            "                \"weight_decay\": 0.1,\n",
            "                \"warmup_fraction\": 0.05,\n",
            "                \"epochs\": null,\n",
            "                \"fim_ratio\": null,\n",
            "                \"seq_len\": 32768\n",
            "            },\n",
            "            \"model\": \"open-mistral-7b\",\n",
            "            \"status\": \"FAILED_VALIDATION\",\n",
            "            \"job_type\": \"completion\",\n",
            "            \"created_at\": 1742364286,\n",
            "            \"modified_at\": 1742364287,\n",
            "            \"training_files\": [\n",
            "                \"063c58d8-3d4b-4f32-9483-026dd3600351\"\n",
            "            ],\n",
            "            \"validation_files\": [\n",
            "                \"e4c6c817-619c-48c5-8b57-ea9ce33913b2\"\n",
            "            ],\n",
            "            \"fine_tuned_model\": null,\n",
            "            \"suffix\": null,\n",
            "            \"integrations\": [],\n",
            "            \"trained_tokens\": null,\n",
            "            \"repositories\": [],\n",
            "            \"metadata\": {\n",
            "                \"expected_duration_seconds\": null,\n",
            "                \"cost\": 0.0,\n",
            "                \"cost_currency\": null,\n",
            "                \"train_tokens_per_step\": null,\n",
            "                \"train_tokens\": null,\n",
            "                \"data_tokens\": null,\n",
            "                \"estimated_start_time\": null\n",
            "            }\n",
            "        },\n",
            "        {\n",
            "            \"id\": \"e30d443d-e681-41bf-af0c-b791d7535751\",\n",
            "            \"auto_start\": true,\n",
            "            \"hyperparameters\": {\n",
            "                \"training_steps\": 10,\n",
            "                \"learning_rate\": 0.0001,\n",
            "                \"weight_decay\": 0.1,\n",
            "                \"warmup_fraction\": 0.05,\n",
            "                \"epochs\": null,\n",
            "                \"fim_ratio\": null,\n",
            "                \"seq_len\": 32768\n",
            "            },\n",
            "            \"model\": \"open-mistral-7b\",\n",
            "            \"status\": \"FAILED_VALIDATION\",\n",
            "            \"job_type\": \"completion\",\n",
            "            \"created_at\": 1742364010,\n",
            "            \"modified_at\": 1742364012,\n",
            "            \"training_files\": [\n",
            "                \"063c58d8-3d4b-4f32-9483-026dd3600351\"\n",
            "            ],\n",
            "            \"validation_files\": [\n",
            "                \"e4c6c817-619c-48c5-8b57-ea9ce33913b2\"\n",
            "            ],\n",
            "            \"fine_tuned_model\": null,\n",
            "            \"suffix\": null,\n",
            "            \"integrations\": [],\n",
            "            \"trained_tokens\": null,\n",
            "            \"repositories\": [],\n",
            "            \"metadata\": {\n",
            "                \"expected_duration_seconds\": null,\n",
            "                \"cost\": 0.0,\n",
            "                \"cost_currency\": null,\n",
            "                \"train_tokens_per_step\": null,\n",
            "                \"train_tokens\": null,\n",
            "                \"data_tokens\": null,\n",
            "                \"estimated_start_time\": null\n",
            "            }\n",
            "        },\n",
            "        {\n",
            "            \"id\": \"115cbe8d-5ba9-406c-a6c7-c5669c822b8b\",\n",
            "            \"auto_start\": true,\n",
            "            \"hyperparameters\": {\n",
            "                \"training_steps\": 10,\n",
            "                \"learning_rate\": 0.0001,\n",
            "                \"weight_decay\": 0.1,\n",
            "                \"warmup_fraction\": 0.05,\n",
            "                \"epochs\": null,\n",
            "                \"fim_ratio\": null,\n",
            "                \"seq_len\": 32768\n",
            "            },\n",
            "            \"model\": \"open-mistral-7b\",\n",
            "            \"status\": \"FAILED_VALIDATION\",\n",
            "            \"job_type\": \"completion\",\n",
            "            \"created_at\": 1742363257,\n",
            "            \"modified_at\": 1742363260,\n",
            "            \"training_files\": [\n",
            "                \"d6d9ce9e-792c-4752-b8c5-ba427edf97a4\"\n",
            "            ],\n",
            "            \"validation_files\": [\n",
            "                \"c06b5ad1-7065-4b2f-87ff-3905f5acdcc9\"\n",
            "            ],\n",
            "            \"fine_tuned_model\": null,\n",
            "            \"suffix\": null,\n",
            "            \"integrations\": [],\n",
            "            \"trained_tokens\": null,\n",
            "            \"repositories\": [],\n",
            "            \"metadata\": {\n",
            "                \"expected_duration_seconds\": null,\n",
            "                \"cost\": 0.0,\n",
            "                \"cost_currency\": null,\n",
            "                \"train_tokens_per_step\": null,\n",
            "                \"train_tokens\": null,\n",
            "                \"data_tokens\": null,\n",
            "                \"estimated_start_time\": null\n",
            "            }\n",
            "        },\n",
            "        {\n",
            "            \"id\": \"a4959e67-d78c-4281-9858-e7b40fad09aa\",\n",
            "            \"auto_start\": true,\n",
            "            \"hyperparameters\": {\n",
            "                \"training_steps\": 10,\n",
            "                \"learning_rate\": 0.0001,\n",
            "                \"weight_decay\": 0.1,\n",
            "                \"warmup_fraction\": 0.05,\n",
            "                \"epochs\": null,\n",
            "                \"fim_ratio\": null,\n",
            "                \"seq_len\": 32768\n",
            "            },\n",
            "            \"model\": \"open-mistral-7b\",\n",
            "            \"status\": \"FAILED_VALIDATION\",\n",
            "            \"job_type\": \"completion\",\n",
            "            \"created_at\": 1742362652,\n",
            "            \"modified_at\": 1742362652,\n",
            "            \"training_files\": [\n",
            "                \"d6d9ce9e-792c-4752-b8c5-ba427edf97a4\"\n",
            "            ],\n",
            "            \"validation_files\": [\n",
            "                \"c06b5ad1-7065-4b2f-87ff-3905f5acdcc9\"\n",
            "            ],\n",
            "            \"fine_tuned_model\": null,\n",
            "            \"suffix\": null,\n",
            "            \"integrations\": [],\n",
            "            \"trained_tokens\": null,\n",
            "            \"repositories\": [],\n",
            "            \"metadata\": {\n",
            "                \"expected_duration_seconds\": null,\n",
            "                \"cost\": 0.0,\n",
            "                \"cost_currency\": null,\n",
            "                \"train_tokens_per_step\": null,\n",
            "                \"train_tokens\": null,\n",
            "                \"data_tokens\": null,\n",
            "                \"estimated_start_time\": null\n",
            "            }\n",
            "        }\n",
            "    ],\n",
            "    \"OBJECT\": \"list\"\n",
            "}\n"
          ]
        }
      ],
      "source": [
        "# List jobs\n",
        "jobs = client.fine_tuning.jobs.list()\n",
        "pprint(jobs)"
      ]
    },
    {
      "cell_type": "code",
      "execution_count": 206,
      "metadata": {
        "colab": {
          "base_uri": "https://localhost:8080/"
        },
        "id": "OhTWA5uJXHNp",
        "outputId": "efe3bfd7-55b6-4e4a-9acd-b4bfa2a09d99"
      },
      "outputs": [
        {
          "output_type": "stream",
          "name": "stdout",
          "text": [
            "{\n",
            "    \"id\": \"42325165-05e2-42e5-9759-2a7eaf7d9286\",\n",
            "    \"auto_start\": true,\n",
            "    \"hyperparameters\": {\n",
            "        \"training_steps\": 10,\n",
            "        \"learning_rate\": 0.0001,\n",
            "        \"weight_decay\": 0.1,\n",
            "        \"warmup_fraction\": 0.05,\n",
            "        \"epochs\": 0.17660251163285778,\n",
            "        \"fim_ratio\": null,\n",
            "        \"seq_len\": 32768\n",
            "    },\n",
            "    \"model\": \"open-mistral-7b\",\n",
            "    \"status\": \"SUCCESS\",\n",
            "    \"job_type\": \"completion\",\n",
            "    \"created_at\": 1742368691,\n",
            "    \"modified_at\": 1742368986,\n",
            "    \"training_files\": [\n",
            "        \"b0352eff-6dd1-45c2-852e-753c38dfae10\"\n",
            "    ],\n",
            "    \"validation_files\": [\n",
            "        \"e2948523-72c1-437a-8647-2bd2c868719e\"\n",
            "    ],\n",
            "    \"fine_tuned_model\": \"ft:open-mistral-7b:9c9073bb:20250319:42325165\",\n",
            "    \"suffix\": null,\n",
            "    \"integrations\": [],\n",
            "    \"trained_tokens\": 1310720,\n",
            "    \"repositories\": [],\n",
            "    \"metadata\": {\n",
            "        \"expected_duration_seconds\": 300,\n",
            "        \"cost\": 2.63,\n",
            "        \"cost_currency\": \"USD\",\n",
            "        \"train_tokens_per_step\": 131072,\n",
            "        \"train_tokens\": 1310720,\n",
            "        \"data_tokens\": 7421865,\n",
            "        \"estimated_start_time\": null\n",
            "    },\n",
            "    \"events\": [\n",
            "        {\n",
            "            \"name\": \"status-updated\",\n",
            "            \"created_at\": 1742368691,\n",
            "            \"data\": {\n",
            "                \"status\": \"QUEUED\"\n",
            "            }\n",
            "        },\n",
            "        {\n",
            "            \"name\": \"status-updated\",\n",
            "            \"created_at\": 1742368698,\n",
            "            \"data\": {\n",
            "                \"status\": \"VALIDATED\"\n",
            "            }\n",
            "        },\n",
            "        {\n",
            "            \"name\": \"status-updated\",\n",
            "            \"created_at\": 1742368703,\n",
            "            \"data\": {\n",
            "                \"status\": \"RUNNING\"\n",
            "            }\n",
            "        },\n",
            "        {\n",
            "            \"name\": \"status-updated\",\n",
            "            \"created_at\": 1742368986,\n",
            "            \"data\": {\n",
            "                \"status\": \"SUCCESS\"\n",
            "            }\n",
            "        }\n",
            "    ],\n",
            "    \"checkpoints\": [\n",
            "        {\n",
            "            \"metrics\": {\n",
            "                \"train_loss\": 0.157144,\n",
            "                \"valid_loss\": 0.163159,\n",
            "                \"valid_mean_token_accuracy\": 1.119736\n",
            "            },\n",
            "            \"step_number\": 10,\n",
            "            \"created_at\": 1742368962\n",
            "        },\n",
            "        {\n",
            "            \"metrics\": {\n",
            "                \"train_loss\": 0.150869,\n",
            "                \"valid_loss\": 0.162994,\n",
            "                \"valid_mean_token_accuracy\": 1.119609\n",
            "            },\n",
            "            \"step_number\": 9,\n",
            "            \"created_at\": 1742368933\n",
            "        },\n",
            "        {\n",
            "            \"metrics\": {\n",
            "                \"train_loss\": 0.161885,\n",
            "                \"valid_loss\": 0.163799,\n",
            "                \"valid_mean_token_accuracy\": 1.120233\n",
            "            },\n",
            "            \"step_number\": 8,\n",
            "            \"created_at\": 1742368910\n",
            "        },\n",
            "        {\n",
            "            \"metrics\": {\n",
            "                \"train_loss\": 0.162716,\n",
            "                \"valid_loss\": 0.167375,\n",
            "                \"valid_mean_token_accuracy\": 1.123014\n",
            "            },\n",
            "            \"step_number\": 7,\n",
            "            \"created_at\": 1742368888\n",
            "        },\n",
            "        {\n",
            "            \"metrics\": {\n",
            "                \"train_loss\": 0.170143,\n",
            "                \"valid_loss\": 0.171195,\n",
            "                \"valid_mean_token_accuracy\": 1.125991\n",
            "            },\n",
            "            \"step_number\": 6,\n",
            "            \"created_at\": 1742368865\n",
            "        },\n",
            "        {\n",
            "            \"metrics\": {\n",
            "                \"train_loss\": 0.210189,\n",
            "                \"valid_loss\": 0.183343,\n",
            "                \"valid_mean_token_accuracy\": 1.135512\n",
            "            },\n",
            "            \"step_number\": 5,\n",
            "            \"created_at\": 1742368842\n",
            "        },\n",
            "        {\n",
            "            \"metrics\": {\n",
            "                \"train_loss\": 0.321799,\n",
            "                \"valid_loss\": 0.225421,\n",
            "                \"valid_mean_token_accuracy\": 1.169118\n",
            "            },\n",
            "            \"step_number\": 4,\n",
            "            \"created_at\": 1742368819\n",
            "        },\n",
            "        {\n",
            "            \"metrics\": {\n",
            "                \"train_loss\": 0.498227,\n",
            "                \"valid_loss\": 0.333294,\n",
            "                \"valid_mean_token_accuracy\": 1.259887\n",
            "            },\n",
            "            \"step_number\": 3,\n",
            "            \"created_at\": 1742368796\n",
            "        },\n",
            "        {\n",
            "            \"metrics\": {\n",
            "                \"train_loss\": 0.974829,\n",
            "                \"valid_loss\": 0.488397,\n",
            "                \"valid_mean_token_accuracy\": 1.402886\n",
            "            },\n",
            "            \"step_number\": 2,\n",
            "            \"created_at\": 1742368773\n",
            "        },\n",
            "        {\n",
            "            \"metrics\": {\n",
            "                \"train_loss\": 2.377393,\n",
            "                \"valid_loss\": 1.007494,\n",
            "                \"valid_mean_token_accuracy\": 2.010415\n",
            "            },\n",
            "            \"step_number\": 1,\n",
            "            \"created_at\": 1742368755\n",
            "        }\n",
            "    ]\n",
            "}\n"
          ]
        }
      ],
      "source": [
        "# Retrieve a jobs\n",
        "retrieved_jobs = client.fine_tuning.jobs.get(job_id = created_jobs.id)\n",
        "pprint(retrieved_jobs)"
      ]
    },
    {
      "cell_type": "markdown",
      "metadata": {
        "id": "LK-cSS2EJv-e"
      },
      "source": [
        "## Use a fine-tuned model"
      ]
    },
    {
      "cell_type": "code",
      "execution_count": 268,
      "metadata": {
        "id": "M8vRIB4yXQ5a",
        "colab": {
          "base_uri": "https://localhost:8080/"
        },
        "outputId": "f537c868-3a36-4a5c-b5bf-fe093bdcdb28"
      },
      "outputs": [
        {
          "output_type": "stream",
          "name": "stdout",
          "text": [
            "Generated query: SELECT DISTINCT detriment FROM table_name_89 WHERE domicile = \"mercury\" AND sign = \"virgo\"\n"
          ]
        }
      ],
      "source": [
        "#'expedted answer': 'SELECT detriment FROM table_name_89 WHERE domicile = \"mercury\" AND sign = \"virgo\"'\n",
        "\n",
        "\n",
        "chat_response = client.chat.complete(\n",
        "    model = retrieved_jobs.fine_tuned_model,\n",
        "    messages = [{\"role\":'system', \"content\": 'You are an text to SQL query translator. Users will ask you questions in English and you will generate a SQL query based on the provided SCHEMA. SCHEMA: CREATE TABLE table_name_89 (detriment VARCHAR, domicile VARCHAR, sign VARCHAR)'}] +\n",
        "               [{\"role\":'user', \"content\":'Which detriment has a domicile of mercury and Virgo as a sign?'}]\n",
        ")\n",
        "\n",
        "# Extract the content from the response\n",
        "content = chat_response.choices[0].message.content\n",
        "\n",
        "# Now you can use replace() on the content string\n",
        "modified_content = content.replace('\\\\\"', \"'\")\n",
        "\n",
        "print(f\"Generated query: {modified_content}\")\n"
      ]
    },
    {
      "cell_type": "code",
      "execution_count": 259,
      "metadata": {
        "id": "L7ZYQzZ7YcYb",
        "colab": {
          "base_uri": "https://localhost:8080/",
          "height": 384
        },
        "outputId": "47014148-5440-4431-8326-2ed1261b8f28"
      },
      "outputs": [
        {
          "output_type": "error",
          "ename": "SDKError",
          "evalue": "API error occurred: Status 422\n{\"detail\": [{\"type\": \"string_too_short\", \"loc\": [\"body\", \"job_in\", \"integrations\", 0, \"wandb\", \"api_key\"], \"msg\": \"String should have at least 40 characters\", \"ctx\": {\"min_length\": 40}}]}",
          "traceback": [
            "\u001b[0;31m---------------------------------------------------------------------------\u001b[0m",
            "\u001b[0;31mSDKError\u001b[0m                                  Traceback (most recent call last)",
            "\u001b[0;32m<ipython-input-259-05eb9c743c36>\u001b[0m in \u001b[0;36m<cell line: 0>\u001b[0;34m()\u001b[0m\n\u001b[0;32m----> 1\u001b[0;31m client.fine_tuning.jobs.create(\n\u001b[0m\u001b[1;32m      2\u001b[0m     \u001b[0mmodel\u001b[0m\u001b[0;34m=\u001b[0m\u001b[0;34m\"open-mistral-7b\"\u001b[0m\u001b[0;34m,\u001b[0m\u001b[0;34m\u001b[0m\u001b[0;34m\u001b[0m\u001b[0m\n\u001b[1;32m      3\u001b[0m     \u001b[0mtraining_files\u001b[0m\u001b[0;34m=\u001b[0m\u001b[0;34m[\u001b[0m\u001b[0;34m{\u001b[0m\u001b[0;34m\"file_id\"\u001b[0m\u001b[0;34m:\u001b[0m \u001b[0mchunk_train\u001b[0m\u001b[0;34m.\u001b[0m\u001b[0mid\u001b[0m\u001b[0;34m,\u001b[0m \u001b[0;34m\"weight\"\u001b[0m\u001b[0;34m:\u001b[0m \u001b[0;36m1\u001b[0m\u001b[0;34m}\u001b[0m\u001b[0;34m]\u001b[0m\u001b[0;34m,\u001b[0m\u001b[0;34m\u001b[0m\u001b[0;34m\u001b[0m\u001b[0m\n\u001b[1;32m      4\u001b[0m     \u001b[0mvalidation_files\u001b[0m\u001b[0;34m=\u001b[0m\u001b[0;34m[\u001b[0m\u001b[0mchunk_eval\u001b[0m\u001b[0;34m.\u001b[0m\u001b[0mid\u001b[0m\u001b[0;34m]\u001b[0m\u001b[0;34m,\u001b[0m\u001b[0;34m\u001b[0m\u001b[0;34m\u001b[0m\u001b[0m\n\u001b[1;32m      5\u001b[0m     \u001b[0mhyperparameters\u001b[0m\u001b[0;34m=\u001b[0m\u001b[0;34m{\u001b[0m\u001b[0;34m\"training_steps\"\u001b[0m\u001b[0;34m:\u001b[0m \u001b[0;36m10\u001b[0m\u001b[0;34m,\u001b[0m \u001b[0;34m\"learning_rate\"\u001b[0m\u001b[0;34m:\u001b[0m \u001b[0;36m0.0001\u001b[0m\u001b[0;34m}\u001b[0m\u001b[0;34m,\u001b[0m\u001b[0;34m\u001b[0m\u001b[0;34m\u001b[0m\u001b[0m\n",
            "\u001b[0;32m/usr/local/lib/python3.11/dist-packages/mistralai/jobs.py\u001b[0m in \u001b[0;36mcreate\u001b[0;34m(self, model, hyperparameters, training_files, validation_files, suffix, integrations, repositories, auto_start, retries, server_url, timeout_ms, http_headers)\u001b[0m\n\u001b[1;32m    357\u001b[0m         \u001b[0;32mif\u001b[0m \u001b[0mutils\u001b[0m\u001b[0;34m.\u001b[0m\u001b[0mmatch_response\u001b[0m\u001b[0;34m(\u001b[0m\u001b[0mhttp_res\u001b[0m\u001b[0;34m,\u001b[0m \u001b[0;34m\"4XX\"\u001b[0m\u001b[0;34m,\u001b[0m \u001b[0;34m\"*\"\u001b[0m\u001b[0;34m)\u001b[0m\u001b[0;34m:\u001b[0m\u001b[0;34m\u001b[0m\u001b[0;34m\u001b[0m\u001b[0m\n\u001b[1;32m    358\u001b[0m             \u001b[0mhttp_res_text\u001b[0m \u001b[0;34m=\u001b[0m \u001b[0mutils\u001b[0m\u001b[0;34m.\u001b[0m\u001b[0mstream_to_text\u001b[0m\u001b[0;34m(\u001b[0m\u001b[0mhttp_res\u001b[0m\u001b[0;34m)\u001b[0m\u001b[0;34m\u001b[0m\u001b[0;34m\u001b[0m\u001b[0m\n\u001b[0;32m--> 359\u001b[0;31m             raise models.SDKError(\n\u001b[0m\u001b[1;32m    360\u001b[0m                 \u001b[0;34m\"API error occurred\"\u001b[0m\u001b[0;34m,\u001b[0m \u001b[0mhttp_res\u001b[0m\u001b[0;34m.\u001b[0m\u001b[0mstatus_code\u001b[0m\u001b[0;34m,\u001b[0m \u001b[0mhttp_res_text\u001b[0m\u001b[0;34m,\u001b[0m \u001b[0mhttp_res\u001b[0m\u001b[0;34m\u001b[0m\u001b[0;34m\u001b[0m\u001b[0m\n\u001b[1;32m    361\u001b[0m             )\n",
            "\u001b[0;31mSDKError\u001b[0m: API error occurred: Status 422\n{\"detail\": [{\"type\": \"string_too_short\", \"loc\": [\"body\", \"job_in\", \"integrations\", 0, \"wandb\", \"api_key\"], \"msg\": \"String should have at least 40 characters\", \"ctx\": {\"min_length\": 40}}]}"
          ]
        }
      ],
      "source": [
        "client.fine_tuning.jobs.create(\n",
        "    model=\"open-mistral-7b\",\n",
        "    training_files=[{\"file_id\": chunk_train.id, \"weight\": 1}],\n",
        "    validation_files=[chunk_eval.id],\n",
        "    hyperparameters={\"training_steps\": 10, \"learning_rate\": 0.0001},\n",
        "    integrations=[\n",
        "        {\n",
        "            \"project\": \"<value>\",\n",
        "            \"api_key\": \"<value>\",\n",
        "        }\n",
        "    ]\n",
        ")"
      ]
    }
  ],
  "metadata": {
    "colab": {
      "provenance": [],
      "collapsed_sections": [
        "dVfIMwgUJF91",
        "hu_oLukAJect",
        "DqchXMeXJi6U",
        "LK-cSS2EJv-e"
      ],
      "include_colab_link": true
    },
    "kernelspec": {
      "display_name": "Python 3",
      "name": "python3"
    },
    "language_info": {
      "name": "python"
    }
  },
  "nbformat": 4,
  "nbformat_minor": 0
}