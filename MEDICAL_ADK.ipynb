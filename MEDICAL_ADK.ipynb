{
  "cells": [
    {
      "cell_type": "markdown",
      "metadata": {
        "id": "view-in-github",
        "colab_type": "text"
      },
      "source": [
        "<a href=\"https://colab.research.google.com/github/frank-morales2020/MLxDL/blob/main/MEDICAL_ADK.ipynb\" target=\"_parent\"><img src=\"https://colab.research.google.com/assets/colab-badge.svg\" alt=\"Open In Colab\"/></a>"
      ]
    },
    {
      "cell_type": "code",
      "source": [
        "!pip install google-cloud-aiplatform[adk,agent_engines] -q\n",
        "!pip install colab-env -q"
      ],
      "metadata": {
        "id": "cf0r0PdPRmM9"
      },
      "execution_count": null,
      "outputs": []
    },
    {
      "cell_type": "code",
      "source": [
        "# Import libraries from the Agent Development Kit\n",
        "from google.adk.agents import Agent\n",
        "from google.adk.artifacts import InMemoryArtifactService\n",
        "from google.adk.runners import Runner\n",
        "from google.adk.sessions import InMemorySessionService\n",
        "from google.genai import types\n",
        "\n",
        "session_service = InMemorySessionService()\n",
        "artifact_service = InMemoryArtifactService()"
      ],
      "metadata": {
        "id": "k0wOMVVIRzVs"
      },
      "execution_count": 2,
      "outputs": []
    },
    {
      "cell_type": "code",
      "source": [
        "from google.cloud import aiplatform\n",
        "import colab_env\n",
        "import os\n",
        "\n",
        "# Get project details from environment variables\n",
        "PROJECT_ID = os.environ.get(\"GOOGLE_CLOUD_PROJECT\")\n",
        "REGION = os.environ.get(\"GOOGLE_CLOUD_REGION\")\n",
        "SERVICEACCOUNT = os.environ.get(\"GOOGLE_CLOUD_SERVICEACCOUNT\")\n",
        "PROJECT_NUMBER = os.environ.get(\"GOOGLE_CLOUD_PROJECT_NUMBER\")\n",
        "BUCKET_NAME = os.environ.get(\"GOOGLE_CLOUD_BUCKET_NAME\")\n",
        "STAGING_BUCKET = f\"gs://{BUCKET_NAME}/staging\"\n",
        "\n",
        "\n",
        "GOOGLE_GENAI_USE_VERTEXAI=1\n",
        "GOOGLE_CLOUD_PROJECT=PROJECT_ID\n",
        "GOOGLE_CLOUD_LOCATION=REGION"
      ],
      "metadata": {
        "id": "wjOsj-uAVa_r"
      },
      "execution_count": null,
      "outputs": []
    },
    {
      "cell_type": "code",
      "source": [
        "#MODEL='gemini-2.0-flash-001'\n",
        "MODEL='gemini-2.5-pro-preview-05-06'\n",
        "# Create a basic agent with name, description, and instructions only\n",
        "basic_agent = Agent(\n",
        "    model=MODEL,\n",
        "    name=\"medical_agent\",\n",
        "    description=\"This agent responds to medical inquiries.\",\n",
        "    #instruction=\"Respond to user questions accurately and concisely based on the information provided in the query.\", # Changed instruction\n",
        "    instruction = \"Identify and extract the specific term that the query is defining. Provide only that term as your answer.\",\n",
        "    generate_content_config=types.GenerateContentConfig(temperature=0.2),\n",
        ")"
      ],
      "metadata": {
        "id": "viqmQ6kXdQ9Q"
      },
      "execution_count": 20,
      "outputs": []
    },
    {
      "cell_type": "code",
      "source": [
        "AGENT_APP_NAME = 'medical_agent'\n",
        "\n",
        "def send_query_to_agent(agent, query):\n",
        "  session = session_service.create_session(app_name=AGENT_APP_NAME,\n",
        "                                           user_id='user',)\n",
        "\n",
        "  content = types.Content(role='user', parts=[types.Part(text=query)])\n",
        "  runner = Runner(app_name=AGENT_APP_NAME,\n",
        "                agent=agent,\n",
        "                artifact_service=artifact_service,\n",
        "                session_service=session_service)\n",
        "  events = runner.run(user_id='user',\n",
        "                    session_id=session.id,\n",
        "                    new_message=content,)\n",
        "\n",
        "  for _, event in enumerate(events):\n",
        "    is_final_response = event.is_final_response()\n",
        "    if is_final_response:\n",
        "        final_response = event.content.parts[0].text\n",
        "        print(f\"Final Response: {final_response}\")"
      ],
      "metadata": {
        "id": "HFIzgsVsSPqu"
      },
      "execution_count": 21,
      "outputs": []
    },
    {
      "cell_type": "code",
      "source": [
        "query0=\"while diminished ovarian reserve dor predicts decreased ovarian response to stimulation it does not necessarily foretell about the fecundity cycle according to bolognas criteria laid down by the european society of human reproduction and embryology old age abnormal ovarian reserve tests such as AFC afc and antimullerian hormone amh as well as prior suboptimal response to stimulation are the main AF representing dor unfavorable response to maximal stimulation on two previous occasions may also represent dor among the ovarian reserve tests amh and afc are the most predictive values for dor AF which may give rise to dor include environmental factors autoimmune or metabolic disorders infections genetic abnormalities and iatrogenic causes such as smoking chemotherapy radiation and gynecologic surgeries besides studies have proposed endometriosis as a key contributor to dor and hence emphasized on its proper management to prevent additional damages leading to compromised fertility in summary dor is found to be a clinical challenge in the practice of fertility care with controversial countermeasures to prevent or treat the condition nevertheless some promising measure such as oocyte embryo and tissue cryopreservation ovarian transplantation dietary supplementation and the transfer of mitochondria have offered hopes towards ameliorating the burden of dor this review attempts to discuss dor from different perspectives and summarize some existing hopes in clinical practice\"\n",
        "\n",
        "query1 = \"In the context of ovarian reserve, what is the full term represented by the abbreviation AFC?\"\n"
      ],
      "metadata": {
        "id": "2hJJ7e6UXR8c"
      },
      "execution_count": 24,
      "outputs": []
    },
    {
      "cell_type": "code",
      "source": [
        "print(f\"Query:\\n{query0}\")\n",
        "send_query_to_agent(basic_agent,  query0)\n",
        "print('\\n\\n')\n",
        "\n",
        "print(f\"Query:\\n{query1}\")\n",
        "send_query_to_agent(basic_agent,  query1)\n",
        "print('\\n\\n')"
      ],
      "metadata": {
        "colab": {
          "base_uri": "https://localhost:8080/"
        },
        "id": "PrmzZXJqT4vQ",
        "outputId": "d735679f-d187-495a-a478-dd55a44949fb"
      },
      "execution_count": 26,
      "outputs": [
        {
          "output_type": "stream",
          "name": "stdout",
          "text": [
            "Query:\n",
            "while diminished ovarian reserve dor predicts decreased ovarian response to stimulation it does not necessarily foretell about the fecundity cycle according to bolognas criteria laid down by the european society of human reproduction and embryology old age abnormal ovarian reserve tests such as AFC afc and antimullerian hormone amh as well as prior suboptimal response to stimulation are the main AF representing dor unfavorable response to maximal stimulation on two previous occasions may also represent dor among the ovarian reserve tests amh and afc are the most predictive values for dor AF which may give rise to dor include environmental factors autoimmune or metabolic disorders infections genetic abnormalities and iatrogenic causes such as smoking chemotherapy radiation and gynecologic surgeries besides studies have proposed endometriosis as a key contributor to dor and hence emphasized on its proper management to prevent additional damages leading to compromised fertility in summary dor is found to be a clinical challenge in the practice of fertility care with controversial countermeasures to prevent or treat the condition nevertheless some promising measure such as oocyte embryo and tissue cryopreservation ovarian transplantation dietary supplementation and the transfer of mitochondria have offered hopes towards ameliorating the burden of dor this review attempts to discuss dor from different perspectives and summarize some existing hopes in clinical practice\n",
            "Final Response: diminished ovarian reserve\n",
            "\n",
            "\n",
            "\n",
            "Query:\n",
            "In the context of ovarian reserve, what is the full term represented by the abbreviation AFC?\n",
            "Final Response: Antral follicle count\n",
            "\n",
            "\n",
            "\n"
          ]
        }
      ]
    }
  ],
  "metadata": {
    "accelerator": "GPU",
    "colab": {
      "gpuType": "L4",
      "machine_shape": "hm",
      "provenance": [],
      "include_colab_link": true
    },
    "kernelspec": {
      "display_name": "Python 3",
      "name": "python3"
    },
    "language_info": {
      "name": "python"
    }
  },
  "nbformat": 4,
  "nbformat_minor": 0
}