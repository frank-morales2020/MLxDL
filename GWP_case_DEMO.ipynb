{
  "nbformat": 4,
  "nbformat_minor": 0,
  "metadata": {
    "colab": {
      "provenance": [],
      "collapsed_sections": [
        "ztTxrIBnjYVt",
        "I2pQGL5jjdzN"
      ],
      "machine_shape": "hm",
      "gpuType": "L4",
      "authorship_tag": "ABX9TyOFt2rs4G6a0k97ZU+t9Ef5",
      "include_colab_link": true
    },
    "kernelspec": {
      "name": "python3",
      "display_name": "Python 3"
    },
    "language_info": {
      "name": "python"
    },
    "accelerator": "GPU"
  },
  "cells": [
    {
      "cell_type": "markdown",
      "metadata": {
        "id": "view-in-github",
        "colab_type": "text"
      },
      "source": [
        "<a href=\"https://colab.research.google.com/github/frank-morales2020/MLxDL/blob/main/GWP_case_DEMO.ipynb\" target=\"_parent\"><img src=\"https://colab.research.google.com/assets/colab-badge.svg\" alt=\"Open In Colab\"/></a>"
      ]
    },
    {
      "cell_type": "code",
      "source": [
        "!pip install colab-env -q\n",
        "!pip install google-cloud-aiplatform --upgrade -q\n"
      ],
      "metadata": {
        "id": "cFJl_lAD_ToH"
      },
      "execution_count": null,
      "outputs": []
    },
    {
      "cell_type": "markdown",
      "source": [
        "## CASE 0"
      ],
      "metadata": {
        "id": "ztTxrIBnjYVt"
      }
    },
    {
      "source": [
        "from typing import Optional, List\n",
        "import os\n",
        "from google.colab import userdata\n",
        "from google import genai\n",
        "from google.genai import types  # Import types for Tool and GenerateContentConfig\n",
        "\n",
        "\n",
        "def display_cities(cities: list[str], preferences: Optional[str] = None):\n",
        "    \"\"\"Provides a list of cities based on the user's search query and preferences.\n",
        "\n",
        "    Args:\n",
        "        preferences (str): The user's preferences for the search, like skiing,\n",
        "            beach, restaurants, bbq, etc.\n",
        "        cities (list[str]): The list of cities being recommended to the user.\n",
        "\n",
        "    Returns:\n",
        "        list[str]: The list of cities being recommended to the user.\n",
        "    \"\"\"\n",
        "    return cities\n",
        "\n",
        "\n",
        "# Define the function declaration for the model\n",
        "display_cities_function = {\n",
        "    \"name\": \"display_cities\",\n",
        "    \"description\": \"Provides a list of cities based on the user's search query and preferences.\",\n",
        "    \"parameters\": {\n",
        "        \"type\": \"object\",\n",
        "        \"properties\": {\n",
        "            \"cities\": {\n",
        "                \"type\": \"array\",\n",
        "                \"items\": {\"type\": \"string\"},\n",
        "                \"description\": \"List of cities being recommended to the user.\",\n",
        "            },\n",
        "            \"preferences\": {\n",
        "                \"type\": \"string\",\n",
        "                \"description\": \"The user's preferences for the search, like skiing, beach, restaurants, bbq, etc.\",\n",
        "            },\n",
        "        },\n",
        "        \"required\": [\"cities\"],  # Only 'cities' is required\n",
        "    },\n",
        "}\n",
        "\n",
        "\n",
        "# Configure the client and tools\n",
        "GOOGLE_API_KEY = userdata.get('GEMINI')\n",
        "client = genai.Client(api_key=GOOGLE_API_KEY)  # Initialize the client with the API key\n",
        "\n",
        "tools = types.Tool(function_declarations=[display_cities_function])  # Create Tool object with types.Tool\n",
        "config = types.GenerateContentConfig(tools=[tools])  # Create GenerateContentConfig with types.GenerateContentConfig\n",
        "\n",
        "# Send request with function declarations\n",
        "response = client.models.generate_content(\n",
        "    model=\"gemini-1.5-pro-latest\",  # Specify the model\n",
        "    contents=\"I'd like to take a ski trip with my family but I'm not sure where to go.\",\n",
        "    config=config,\n",
        ")\n",
        "\n",
        "# Check for a function call\n",
        "if response.candidates[0].content.parts[0].function_call:\n",
        "    function_call = response.candidates[0].content.parts[0].function_call\n",
        "    print(f\"Function to call: {function_call.name}\")\n",
        "    print(f\"Arguments: {function_call.args}\")\n",
        "    # In a real app, you would call your function here:\n",
        "    # result = display_cities(**function_call.args)\n",
        "else:\n",
        "    print(\"No function call found in the response.\")"
      ],
      "cell_type": "code",
      "metadata": {
        "colab": {
          "base_uri": "https://localhost:8080/"
        },
        "id": "17Fwu6LsKiF8",
        "outputId": "144f35fd-69cc-4980-cf7e-0013d0a2a0b1"
      },
      "execution_count": null,
      "outputs": [
        {
          "output_type": "stream",
          "name": "stdout",
          "text": [
            "Function to call: display_cities\n",
            "Arguments: {'cities': ['Aspen', 'Park City', 'Stowe', 'Whistler'], 'preferences': 'skiing'}\n"
          ]
        }
      ]
    },
    {
      "cell_type": "markdown",
      "source": [
        "## CASE 1a and 1b"
      ],
      "metadata": {
        "id": "I2pQGL5jjdzN"
      }
    },
    {
      "cell_type": "code",
      "source": [
        "from typing import Optional, List\n",
        "import os\n",
        "from google.colab import userdata\n",
        "from google import genai\n",
        "from google.genai import types\n",
        "\n",
        "# 1. Define Flight Planning Functions\n",
        "def find_flights(\n",
        "    departure_city: str,\n",
        "    arrival_city: str,\n",
        "    departure_date: str,  # \"YYYY-MM-DD\"\n",
        "    return_date: Optional[str] = None,\n",
        "    cabin_class: Optional[str] = \"economy\",\n",
        "    num_passengers: int = 1,\n",
        "):\n",
        "    \"\"\"\n",
        "    Finds available flights based on the specified criteria.\n",
        "    \"\"\"\n",
        "    # In a real application, this would call a flight booking API\n",
        "    return f\"Simulated flight results for {departure_city} to {arrival_city}\"\n",
        "\n",
        "\n",
        "def book_flight(\n",
        "    flight_id: str,\n",
        "    passenger_names: List[str],\n",
        "    contact_email: str,\n",
        "    billing_address: str,\n",
        "):\n",
        "    \"\"\"\n",
        "    Books a flight for the given passengers.\n",
        "    \"\"\"\n",
        "    # In a real application, this would call a flight booking API\n",
        "    return \"Simulated flight booking confirmation\"\n",
        "\n",
        "\n",
        "# 2. Define Function Declarations for the Model\n",
        "find_flights_function = {\n",
        "    \"name\": \"find_flights\",\n",
        "    \"description\": \"Finds available flights based on the specified criteria.\",\n",
        "    \"parameters\": {\n",
        "        \"type\": \"object\",\n",
        "        \"properties\": {\n",
        "            \"departure_city\": {\n",
        "                \"type\": \"string\",\n",
        "                \"description\": \"The city of departure (e.g., 'New York').\",\n",
        "            },\n",
        "            \"arrival_city\": {\n",
        "                \"type\": \"string\",\n",
        "                \"description\": \"The city of arrival (e.g., 'London').\",\n",
        "            },\n",
        "            \"departure_date\": {\n",
        "                \"type\": \"string\",\n",
        "                \"description\": \"The departure date (YYYY-MM-DD).\",\n",
        "            },\n",
        "            \"return_date\": {\n",
        "                \"type\": \"string\",\n",
        "                \"description\": \"The return date (YYYY-MM-DD). Optional.\",\n",
        "            },\n",
        "            \"cabin_class\": {\n",
        "                \"type\": \"string\",\n",
        "                \"description\": \"The cabin class (e.g., 'economy', 'business', 'first'). Optional, default is 'economy'.\",\n",
        "            },\n",
        "            \"num_passengers\": {\n",
        "                \"type\": \"integer\",\n",
        "                \"description\": \"The number of passengers. Optional, default is 1.\",\n",
        "            },\n",
        "        },\n",
        "        \"required\": [\"departure_city\", \"arrival_city\", \"departure_date\"],\n",
        "    },\n",
        "}\n",
        "\n",
        "book_flight_function = {\n",
        "    \"name\": \"book_flight\",\n",
        "    \"description\": \"Books a flight for the given passengers.\",\n",
        "    \"parameters\": {\n",
        "        \"type\": \"object\",\n",
        "        \"properties\": {\n",
        "            \"flight_id\": {\n",
        "                \"type\": \"string\",\n",
        "                \"description\": \"The ID of the flight to book.\",\n",
        "            },\n",
        "            \"passenger_names\": {\n",
        "                \"type\": \"array\",\n",
        "                \"items\": {\"type\": \"string\"},\n",
        "                \"description\": \"A list of passenger names.\",\n",
        "            },\n",
        "            \"contact_email\": {\n",
        "                \"type\": \"string\",\n",
        "                \"description\": \"The contact email for the booking.\",\n",
        "            },\n",
        "            \"billing_address\": {\n",
        "                \"type\": \"string\",\n",
        "                \"description\": \"The billing address for the booking.\",\n",
        "            },\n",
        "        },\n",
        "        \"required\": [\"flight_id\", \"passenger_names\", \"contact_email\", \"billing_address\"],\n",
        "    },\n",
        "}\n",
        "\n",
        "# 3. Configure the Client and Tools\n",
        "GOOGLE_API_KEY = userdata.get('GEMINI')  # Get your API key\n",
        "client = genai.Client(api_key=GOOGLE_API_KEY)\n",
        "\n",
        "tools = types.Tool(function_declarations=[find_flights_function, book_flight_function])  # Add both functions!\n",
        "config = types.GenerateContentConfig(tools=[tools])\n",
        "\n",
        "# 4. Send Request (Example: Flight Search)\n",
        "response = client.models.generate_content(\n",
        "    model=\"gemini-1.5-pro-latest\",\n",
        "    contents=\"Find me flights from New York to Los Angeles on 2024-12-24.\",\n",
        "    config=config,\n",
        ")\n",
        "\n",
        "#print(response.candidates[0].content)\n",
        "\n",
        "\n",
        "response2 = client.models.generate_content(\n",
        "    model=\"gemini-1.5-pro-latest\",\n",
        "    contents=\"Book flight with ID 'XYZ123' for John Doe and Jane Doe, email is 'contact@example.com', billing is '123 Main St'.\",\n",
        "    config=config,\n",
        ")\n",
        "\n",
        "#print(response2.candidates[0].content)\n",
        "\n",
        "print('\\n')\n",
        "# 5. Handle the Response\n",
        "if response.candidates[0].content.parts[0].function_call:\n",
        "    function_call = response.candidates[0].content.parts[0].function_call\n",
        "    print(f\"Function to call: {function_call.name}\")\n",
        "    print(f\"Arguments: {function_call.args}\")\n",
        "    # Call your flight planning functions here!\n",
        "    if function_call.name == \"find_flights\":\n",
        "        results = find_flights(**function_call.args)\n",
        "        print(f'Result: {results}')\n",
        "    elif function_call.name == \"book_flight\":\n",
        "        confirmation = book_flight(**function_call.args)\n",
        "        print(confirmation)\n",
        "else:\n",
        "    print(\"No function call found in the response.\")\n",
        "\n",
        "\n",
        "# Example 2: Booking a Flight (Hypothetical - requires a flight_id)\n",
        "response = client.models.generate_content(\n",
        "     model=\"gemini-1.5-pro-latest\",\n",
        "     contents=\"Book flight with ID 'XYZ123' for John Doe and Jane Doe, email is 'contact@example.com', billing is '123 Main St'.\",\n",
        "     config=config,\n",
        " )\n",
        "\n",
        "print('\\n\\n')\n",
        "if response2.candidates[0].content.parts[0].function_call:\n",
        "    function_call = response2.candidates[0].content.parts[0].function_call\n",
        "    print(f\"Function to call: {function_call.name}\")\n",
        "    print(f\"Arguments: {function_call.args}\")\n",
        "    # Call your flight planning functions here!\n",
        "    if function_call.name == \"find_flights\":\n",
        "        results = find_flights(**function_call.args)\n",
        "        print(f'Result: {results}')\n",
        "    elif function_call.name == \"book_flight\":\n",
        "        confirmation = book_flight(**function_call.args)\n",
        "        print(confirmation)\n",
        "else:\n",
        "    print(\"No function call found in the response.\")"
      ],
      "metadata": {
        "colab": {
          "base_uri": "https://localhost:8080/"
        },
        "id": "p2d4RRl3LGSn",
        "outputId": "e407c860-3fbc-4f06-871f-5c2c8853dac2"
      },
      "execution_count": null,
      "outputs": [
        {
          "output_type": "stream",
          "name": "stdout",
          "text": [
            "\n",
            "\n",
            "Function to call: find_flights\n",
            "Arguments: {'departure_date': '2024-12-24', 'departure_city': 'New York', 'arrival_city': 'Los Angeles'}\n",
            "Result: Simulated flight results for New York to Los Angeles\n",
            "\n",
            "\n",
            "\n",
            "Function to call: book_flight\n",
            "Arguments: {'billing_address': '123 Main St', 'contact_email': 'contact@example.com', 'flight_id': 'XYZ123', 'passenger_names': ['John Doe', 'Jane Doe']}\n",
            "Simulated flight booking confirmation\n"
          ]
        }
      ]
    },
    {
      "cell_type": "markdown",
      "source": [
        "## CASE 2"
      ],
      "metadata": {
        "id": "t7Bswo8rdsIp"
      }
    },
    {
      "cell_type": "markdown",
      "source": [
        "LangChain and LangGraph Agent: The code demonstrating how to build an agent using the LangChain and LangGraph libraries.\n",
        "\n"
      ],
      "metadata": {
        "id": "T1Jx9SCokMuV"
      }
    },
    {
      "cell_type": "code",
      "source": [
        "!pip install langgraph -q\n",
        "!pip install langchain-google-genai -q\n",
        "!pip install google-cloud-aiplatform --upgrade -q\n",
        "!pip install python-dateutil\n",
        "!pip install langchain -q"
      ],
      "metadata": {
        "id": "agRI_OCedyPh"
      },
      "execution_count": null,
      "outputs": []
    },
    {
      "cell_type": "code",
      "source": [
        "import langchain\n",
        "\n",
        "print(langchain.__version__)"
      ],
      "metadata": {
        "colab": {
          "base_uri": "https://localhost:8080/"
        },
        "id": "5gWqqzzefkgo",
        "outputId": "ab572fb5-6b81-4afb-de20-11d3abb376cf"
      },
      "execution_count": null,
      "outputs": [
        {
          "output_type": "stream",
          "name": "stdout",
          "text": [
            "0.3.24\n"
          ]
        }
      ]
    },
    {
      "source": [
        "from typing import Optional, List, Dict, Any # Import Dict and Any\n",
        "import os\n",
        "from google.colab import userdata  # Or your secrets management\n",
        "from langchain_core.tools import tool\n",
        "from langchain_core.output_parsers import PydanticOutputParser\n",
        "from langchain_core.prompts import ChatPromptTemplate\n",
        "from langchain_core.pydantic_v1 import BaseModel, Field\n",
        "from langgraph.graph import StateGraph, END\n",
        "from langchain_google_genai import ChatGoogleGenerativeAI  # For Gemini\n",
        "from google import genai\n",
        "from google.genai import types\n",
        "import json  # For safer JSON parsing\n",
        "#from functools import partial # Removed partial import\n",
        "from warnings import filterwarnings\n",
        "filterwarnings('ignore')\n",
        "\n",
        "\n",
        "# 1. Define Tools (Simulated Flight Search)\n",
        "@tool\n",
        "def find_flights(\n",
        "    departure_city: str,\n",
        "    arrival_city: str,\n",
        "    departure_date: str,  # \"YYYY-MM-DD\"\n",
        "    return_date: Optional[str] = None,\n",
        "    cabin_class: Optional[str] = \"economy\",\n",
        "    num_passengers: int = 1,\n",
        "):\n",
        "    \"\"\"\n",
        "    Finds available flights based on the specified criteria.\n",
        "    \"\"\"\n",
        "    # In a real application, this would call a flight booking API\n",
        "    return f\"Simulated flight results for {departure_city} to {arrival_city} on {departure_date}\"\n",
        "\n",
        "\n",
        "# 2. Define the Agent's State\n",
        "class AgentState(BaseModel):\n",
        "    user_query: str\n",
        "    chat_history: List[tuple[str, str]] = Field(default_factory=list)\n",
        "    flight_results: Optional[str] = None  # Store flight results\n",
        "    # Add a field to store the agent\n",
        "    #agent: dict = Field(default_factory=dict) # Removed agent field from AgentState\n",
        "\n",
        "    flight_info: Dict[str, Any] = Field(default_factory=dict)  # Store flight details for follow-up\n",
        "    intermediate_response: Optional[str] = None  # Store intermediate response for follow-up\n",
        "\n",
        "\n",
        "\n",
        "\n",
        "# 3. Define the Gemini 2.0 Agent\n",
        "def create_agent(tools: list, model: str = \"gemini-1.5-pro-latest\"):\n",
        "    prompt = ChatPromptTemplate.from_messages(\n",
        "        [\n",
        "            (\"system\", \"You are a helpful AI travel agent.\"),\n",
        "            (\"user\", \"{user_query}\"),  # User query directly in the prompt\n",
        "        ]\n",
        "    )\n",
        "\n",
        "    # Use Pydantic to structure the output\n",
        "    class FlightSearchOutput(BaseModel):\n",
        "        departure_city: str = Field(description=\"City of departure\")\n",
        "        arrival_city: str = Field(description=\"City of arrival\")\n",
        "        departure_date: str = Field(description=\"Departure date (YYYY-MM-DD)\")\n",
        "        return_date: Optional[str] = Field(\n",
        "            description=\"Return date (YYYY-MM-DD), if any\"\n",
        "        )\n",
        "\n",
        "    output_parser = PydanticOutputParser(pydantic_object=FlightSearchOutput)\n",
        "\n",
        "    llm = ChatGoogleGenerativeAI(model=model)\n",
        "\n",
        "    def parse_tool_output(response):\n",
        "        \"\"\"\n",
        "        Safely parses the tool output from the LLM.\n",
        "        This is crucial for handling variations in LangChain versions.\n",
        "        \"\"\"\n",
        "        try:\n",
        "            # Try to use Pydantic output parsing (more robust)\n",
        "            return output_parser.parse(response.content)\n",
        "        except Exception:\n",
        "            # Fallback: Simple text extraction (less robust)\n",
        "            return str(response.content)  # Or more sophisticated regex\n",
        "\n",
        "    # Chain for tool use\n",
        "    tool_chain = prompt | llm.bind_tools(tools) | parse_tool_output\n",
        "\n",
        "    # Chain for generating the final response\n",
        "    response_chain = prompt | llm\n",
        "\n",
        "    return {\"tool_chain\": tool_chain, \"response_chain\": response_chain}\n",
        "\n",
        "def agent_node(state: AgentState, config):\n",
        "       agent = create_agent(tools=[find_flights])  # Assuming create_agent is defined\n",
        "\n",
        "       if not state.flight_results:\n",
        "           result = agent[\"tool_chain\"].invoke(state)  # LLM interaction\n",
        "           # Check if the response is a question about the return date\n",
        "           if isinstance(result, str) and \"When do you want to return?\" in result:\n",
        "               state.intermediate_response = result  # Store intermediate response\n",
        "               # Update chat_history with the intermediate response\n",
        "               state.chat_history.append((state.user_query, result))\n",
        "               return {\"response\": result}  # LLM's question\n",
        "\n",
        "           # If not a question, and it's a string, assume it's the final answer\n",
        "           elif isinstance(result, str):\n",
        "               return {\"flight_results\": result}  # LLM's flight results\n",
        "\n",
        "           # Otherwise, assume it's a tool call\n",
        "           else:\n",
        "               # Update flight_info with parsed result (if it's a dictionary)\n",
        "               if isinstance(result, dict):\n",
        "                   state.flight_info.update(result)\n",
        "\n",
        "               # If result is not a dictionary (e.g., string), it might be the flight results\n",
        "               # So we store it in flight_results\n",
        "               else:\n",
        "                   return {\"flight_results\": str(result)}\n",
        "\n",
        "       else:\n",
        "           result = agent[\"response_chain\"].invoke(state)  # LLM interaction (final)\n",
        "           return {\"response\": result}  # LLM's final answer\n",
        "\n",
        "# 4. Define Agent Logic and Graph\n",
        "# Modify agent_node to accept only state\n",
        "def agent_node0(state: AgentState, config): # Add config as a parameter\n",
        "    # Access agent from the state\n",
        "    #agent = state.agent # Removed accessing agent from state\n",
        "    agent = create_agent(tools=[find_flights]) # Create agent inside agent_node\n",
        "\n",
        "\n",
        "\n",
        "\n",
        "\n",
        "\n",
        "    if not state.flight_results:\n",
        "        result = agent[\"tool_chain\"].invoke(state)\n",
        "        return {\"flight_results\": result}  # Store tool output\n",
        "    else:\n",
        "        result = agent[\"response_chain\"].invoke(state)\n",
        "        return {\"response\": result}\n",
        "\n",
        "\n",
        "def should_continue(state: AgentState):\n",
        "    # Return \"continue\" or \"exit\" instead of True/False\n",
        "    return \"continue\" if not state.flight_results else \"exit\"\n",
        "\n",
        "\n",
        "# Create the graph\n",
        "graph_builder = StateGraph(AgentState)  # Initialize StateGraph directly\n",
        "\n",
        "\n",
        "# Renamed the node to \"agent_node\"\n",
        "graph_builder.add_node(\"agent_node\", agent_node)  # Pass the agent_node function directly\n",
        "graph_builder.set_entry_point(\"agent_node\") # Update the entry point\n",
        "# Update conditional edges to use \"continue\" and \"exit\" keys\n",
        "graph_builder.add_conditional_edges(\n",
        "    \"agent_node\", should_continue, {\"continue\": \"agent_node\", \"exit\": END}\n",
        ")\n",
        "graph = graph_builder.compile()\n",
        "\n",
        "\n",
        "# 5. Run the Agent\n",
        "GOOGLE_API_KEY = userdata.get(\"GEMINI\")  # Get your API key\n",
        "os.environ[\"GOOGLE_API_KEY\"] = GOOGLE_API_KEY\n",
        "client = genai.Client(api_key=GOOGLE_API_KEY)"
      ],
      "cell_type": "code",
      "metadata": {
        "id": "DQ3Lm58mkyUs"
      },
      "execution_count": null,
      "outputs": []
    },
    {
      "source": [
        "inputs1 = {\"user_query\": \"Find me flights from New York to Los Angeles next week.\", \"chat_history\": []}\n",
        "final_state1 = graph.invoke(inputs1)\n",
        "print(\"State after initial query:\", final_state1)\n",
        "\n",
        "# Follow-up with return date\n",
        "departure_date = \"2024-12-20\"\n",
        "inputs2 = {\n",
        "    \"user_query\": departure_date,  # User provides the specific departure date\n",
        "    \"chat_history\": final_state1['chat_history'] + [(inputs1['user_query'], final_state1['flight_results'])],  # Update chat history\n",
        "    \"flight_results\": None,  # Reset flight_results for the next interaction\n",
        "    \"intermediate_response\": None  # Reset intermediate_response for the next interaction\n",
        "}\n",
        "#final_state2 = graph.invoke(inputs2)\n",
        "final_state2 = graph.invoke(inputs2, {\"recursion_limit\": 50})  # Increase to a higher number\n",
        "print(\"\\nState after follow-up:\", final_state2)"
      ],
      "cell_type": "code",
      "metadata": {
        "colab": {
          "base_uri": "https://localhost:8080/"
        },
        "id": "F_-LrL6pnER5",
        "outputId": "08a91eec-968b-4b80-8e91-bcc66197bb86"
      },
      "execution_count": null,
      "outputs": [
        {
          "output_type": "stream",
          "name": "stdout",
          "text": [
            "State after initial query: {'user_query': 'Find me flights from New York to Los Angeles next week.', 'chat_history': [], 'flight_results': 'When next week would you like to leave?'}\n",
            "\n",
            "State after follow-up: {'user_query': '2024-12-20', 'chat_history': [('Find me flights from New York to Los Angeles next week.', 'When next week would you like to leave?')], 'flight_results': 'Do you have a return date?', 'intermediate_response': None}\n"
          ]
        }
      ]
    },
    {
      "cell_type": "code",
      "source": [
        "final_state1"
      ],
      "metadata": {
        "id": "b_MBAV3PxBlS"
      },
      "execution_count": null,
      "outputs": []
    },
    {
      "cell_type": "code",
      "source": [
        "final_state2"
      ],
      "metadata": {
        "id": "JaAUPMHS2I64"
      },
      "execution_count": null,
      "outputs": []
    }
  ]
}