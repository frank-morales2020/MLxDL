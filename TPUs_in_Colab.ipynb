{
  "cells": [
    {
      "cell_type": "markdown",
      "metadata": {
        "id": "view-in-github",
        "colab_type": "text"
      },
      "source": [
        "<a href=\"https://colab.research.google.com/github/frank-morales2020/MLxDL/blob/main/TPUs_in_Colab.ipynb\" target=\"_parent\"><img src=\"https://colab.research.google.com/assets/colab-badge.svg\" alt=\"Open In Colab\"/></a>"
      ]
    },
    {
      "cell_type": "code",
      "source": [],
      "metadata": {
        "id": "ZQhfChLYVTg0"
      },
      "execution_count": null,
      "outputs": []
    },
    {
      "cell_type": "markdown",
      "metadata": {
        "id": "QUkXWG-baMUs"
      },
      "source": [
        "## Examples: neural networks"
      ]
    },
    {
      "cell_type": "markdown",
      "metadata": {
        "id": "3ii_UPkG3gzP"
      },
      "source": [
        "We can use `jax.device_put` and `jax.jit`'s computation-follows-sharding features to parallelize computation in neural networks. Here are some simple examples, based on this basic neural network:"
      ]
    },
    {
      "cell_type": "code",
      "execution_count": null,
      "metadata": {
        "id": "mEKF3zIF3vGU"
      },
      "outputs": [],
      "source": [
        "import jax\n",
        "import jax.numpy as jnp"
      ]
    },
    {
      "cell_type": "code",
      "execution_count": null,
      "metadata": {
        "id": "Mocs3oGe3vGU"
      },
      "outputs": [],
      "source": [
        "def predict(params, inputs):\n",
        "  for W, b in params:\n",
        "    outputs = jnp.dot(inputs, W) + b\n",
        "    inputs = jnp.maximum(outputs, 0)\n",
        "  return outputs\n",
        "\n",
        "def loss(params, batch):\n",
        "  inputs, targets = batch\n",
        "  predictions = predict(params, inputs)\n",
        "  return jnp.mean(jnp.sum((predictions - targets)**2, axis=-1))"
      ]
    },
    {
      "cell_type": "code",
      "execution_count": null,
      "metadata": {
        "id": "glBB8tzW3vGU"
      },
      "outputs": [],
      "source": [
        "loss_jit = jax.jit(loss)\n",
        "gradfun = jax.jit(jax.grad(loss))"
      ]
    },
    {
      "cell_type": "code",
      "execution_count": null,
      "metadata": {
        "id": "R0x62AIa3vGU"
      },
      "outputs": [],
      "source": [
        "def init_layer(key, n_in, n_out):\n",
        "  k1, k2 = jax.random.split(key)\n",
        "  W = jax.random.normal(k1, (n_in, n_out)) / jnp.sqrt(n_in)\n",
        "  b = jax.random.normal(k2, (n_out,))\n",
        "  return W, b\n",
        "\n",
        "def init_model(key, layer_sizes, batch_size):\n",
        "  key, *keys = jax.random.split(key, len(layer_sizes))\n",
        "  params = list(map(init_layer, keys, layer_sizes[:-1], layer_sizes[1:]))\n",
        "\n",
        "  key, *keys = jax.random.split(key, 3)\n",
        "  inputs = jax.random.normal(keys[0], (batch_size, layer_sizes[0]))\n",
        "  targets = jax.random.normal(keys[1], (batch_size, layer_sizes[-1]))\n",
        "\n",
        "  return params, (inputs, targets)\n",
        "\n",
        "layer_sizes = [784, 8192, 8192, 8192, 10]\n",
        "batch_size = 8192\n",
        "\n",
        "params, batch = init_model(jax.random.key(0), layer_sizes, batch_size)"
      ]
    },
    {
      "cell_type": "markdown",
      "metadata": {
        "id": "sJv_h0AS2drh"
      },
      "source": [
        "### 8-way batch data parallelism"
      ]
    },
    {
      "cell_type": "code",
      "execution_count": null,
      "metadata": {
        "id": "mJLqRPpSDX0i"
      },
      "outputs": [],
      "source": [
        "mesh = jax.make_mesh((8,), ('batch',))"
      ]
    },
    {
      "cell_type": "code",
      "execution_count": null,
      "metadata": {
        "id": "_Q5NbdOn3vGV"
      },
      "outputs": [],
      "source": [
        "from jax.sharding import NamedSharding, PartitionSpec as P\n",
        "\n",
        "sharding = NamedSharding(mesh, P('batch'))\n",
        "replicated_sharding = NamedSharding(mesh, P())"
      ]
    },
    {
      "cell_type": "code",
      "execution_count": null,
      "metadata": {
        "id": "3KC6ieEe3vGV"
      },
      "outputs": [],
      "source": [
        "batch = jax.device_put(batch, sharding)\n",
        "params = jax.device_put(params, replicated_sharding)"
      ]
    },
    {
      "cell_type": "code",
      "execution_count": null,
      "metadata": {
        "colab": {
          "base_uri": "https://localhost:8080/"
        },
        "id": "MUb-QE2b3vGV",
        "outputId": "81a545b5-1d24-40bb-e689-70d29b4caf84"
      },
      "outputs": [
        {
          "output_type": "execute_result",
          "data": {
            "text/plain": [
              "Array(33.335655, dtype=float32)"
            ]
          },
          "metadata": {},
          "execution_count": 21
        }
      ],
      "source": [
        "loss_jit(params, batch)"
      ]
    },
    {
      "cell_type": "code",
      "execution_count": null,
      "metadata": {
        "colab": {
          "base_uri": "https://localhost:8080/"
        },
        "id": "HUkw0u413vGV",
        "outputId": "15f516ca-0b2b-49a8-b370-ce21d7de68ac"
      },
      "outputs": [
        {
          "output_type": "stream",
          "name": "stdout",
          "text": [
            "10.856516\n"
          ]
        }
      ],
      "source": [
        "step_size = 1e-5\n",
        "\n",
        "for _ in range(30):\n",
        "  grads = gradfun(params, batch)\n",
        "  params = [(W - step_size * dW, b - step_size * db)\n",
        "            for (W, b), (dW, db) in zip(params, grads)]\n",
        "\n",
        "print(loss_jit(params, batch))"
      ]
    },
    {
      "cell_type": "code",
      "execution_count": null,
      "metadata": {
        "colab": {
          "base_uri": "https://localhost:8080/"
        },
        "id": "paCw6Zaj3vGV",
        "outputId": "c3c08019-7d6d-47e9-e245-8668eb9e637d"
      },
      "outputs": [
        {
          "output_type": "stream",
          "name": "stdout",
          "text": [
            "53.4 ms ± 34.2 µs per loop (mean ± std. dev. of 5 runs, 5 loops each)\n"
          ]
        }
      ],
      "source": [
        "%timeit -n 5 -r 5 gradfun(params, batch)[0][0].block_until_ready()"
      ]
    },
    {
      "cell_type": "code",
      "execution_count": null,
      "metadata": {
        "id": "BF86UWpg3vGV"
      },
      "outputs": [],
      "source": [
        "batch_single = jax.device_put(batch, jax.devices()[0])\n",
        "params_single = jax.device_put(params, jax.devices()[0])"
      ]
    },
    {
      "cell_type": "code",
      "execution_count": null,
      "metadata": {
        "colab": {
          "base_uri": "https://localhost:8080/"
        },
        "id": "Z1wgUKXk3vGV",
        "outputId": "afc240fa-70f3-4301-a103-30cc8b8cd1cc"
      },
      "outputs": [
        {
          "output_type": "stream",
          "name": "stdout",
          "text": [
            "407 ms ± 190 ms per loop (mean ± std. dev. of 5 runs, 5 loops each)\n"
          ]
        }
      ],
      "source": [
        "%timeit -n 5 -r 5 gradfun(params_single, batch_single)[0][0].block_until_ready()"
      ]
    },
    {
      "cell_type": "markdown",
      "metadata": {
        "id": "3AjeeB7B4NP6"
      },
      "source": [
        "### 4-way batch data parallelism and 2-way model tensor parallelism"
      ]
    },
    {
      "cell_type": "code",
      "execution_count": null,
      "metadata": {
        "id": "k1hxOfgRDwo0"
      },
      "outputs": [],
      "source": [
        "mesh = jax.make_mesh((4, 2), ('batch', 'model'))"
      ]
    },
    {
      "cell_type": "code",
      "execution_count": null,
      "metadata": {
        "colab": {
          "base_uri": "https://localhost:8080/",
          "height": 401
        },
        "id": "sgIWCjJK3vGW",
        "outputId": "6773f888-64c9-4358-a2c2-5a7b265658a7"
      },
      "outputs": [
        {
          "output_type": "display_data",
          "data": {
            "text/plain": [
              "\u001b[38;2;255;255;255;48;2;57;59;121m         \u001b[0m\n",
              "\u001b[38;2;255;255;255;48;2;57;59;121m \u001b[0m\u001b[38;2;255;255;255;48;2;57;59;121mTPU 0,1\u001b[0m\u001b[38;2;255;255;255;48;2;57;59;121m \u001b[0m\n",
              "\u001b[38;2;255;255;255;48;2;57;59;121m         \u001b[0m\n",
              "\u001b[38;2;255;255;255;48;2;222;158;214m         \u001b[0m\n",
              "\u001b[38;2;255;255;255;48;2;222;158;214m \u001b[0m\u001b[38;2;255;255;255;48;2;222;158;214mTPU 2,3\u001b[0m\u001b[38;2;255;255;255;48;2;222;158;214m \u001b[0m\n",
              "\u001b[38;2;255;255;255;48;2;222;158;214m         \u001b[0m\n",
              "\u001b[38;2;255;255;255;48;2;173;73;74m         \u001b[0m\n",
              "\u001b[38;2;255;255;255;48;2;173;73;74m \u001b[0m\u001b[38;2;255;255;255;48;2;173;73;74mTPU 6,7\u001b[0m\u001b[38;2;255;255;255;48;2;173;73;74m \u001b[0m\n",
              "\u001b[38;2;255;255;255;48;2;173;73;74m         \u001b[0m\n",
              "\u001b[38;2;0;0;0;48;2;181;207;107m         \u001b[0m\n",
              "\u001b[38;2;0;0;0;48;2;181;207;107m \u001b[0m\u001b[38;2;0;0;0;48;2;181;207;107mTPU 4,5\u001b[0m\u001b[38;2;0;0;0;48;2;181;207;107m \u001b[0m\n",
              "\u001b[38;2;0;0;0;48;2;181;207;107m         \u001b[0m\n"
            ],
            "text/html": [
              "<pre style=\"white-space:pre;overflow-x:auto;line-height:normal;font-family:Menlo,'DejaVu Sans Mono',consolas,'Courier New',monospace\"><span style=\"color: #ffffff; text-decoration-color: #ffffff; background-color: #393b79\">         </span>\n",
              "<span style=\"color: #ffffff; text-decoration-color: #ffffff; background-color: #393b79\"> TPU 0,1 </span>\n",
              "<span style=\"color: #ffffff; text-decoration-color: #ffffff; background-color: #393b79\">         </span>\n",
              "<span style=\"color: #ffffff; text-decoration-color: #ffffff; background-color: #de9ed6\">         </span>\n",
              "<span style=\"color: #ffffff; text-decoration-color: #ffffff; background-color: #de9ed6\"> TPU 2,3 </span>\n",
              "<span style=\"color: #ffffff; text-decoration-color: #ffffff; background-color: #de9ed6\">         </span>\n",
              "<span style=\"color: #ffffff; text-decoration-color: #ffffff; background-color: #ad494a\">         </span>\n",
              "<span style=\"color: #ffffff; text-decoration-color: #ffffff; background-color: #ad494a\"> TPU 6,7 </span>\n",
              "<span style=\"color: #ffffff; text-decoration-color: #ffffff; background-color: #ad494a\">         </span>\n",
              "<span style=\"color: #000000; text-decoration-color: #000000; background-color: #b5cf6b\">         </span>\n",
              "<span style=\"color: #000000; text-decoration-color: #000000; background-color: #b5cf6b\"> TPU 4,5 </span>\n",
              "<span style=\"color: #000000; text-decoration-color: #000000; background-color: #b5cf6b\">         </span>\n",
              "</pre>\n"
            ]
          },
          "metadata": {}
        },
        {
          "output_type": "display_data",
          "data": {
            "text/plain": [
              "\u001b[38;2;255;255;255;48;2;57;59;121m         \u001b[0m\n",
              "\u001b[38;2;255;255;255;48;2;57;59;121m \u001b[0m\u001b[38;2;255;255;255;48;2;57;59;121mTPU 0,1\u001b[0m\u001b[38;2;255;255;255;48;2;57;59;121m \u001b[0m\n",
              "\u001b[38;2;255;255;255;48;2;57;59;121m         \u001b[0m\n",
              "\u001b[38;2;255;255;255;48;2;222;158;214m         \u001b[0m\n",
              "\u001b[38;2;255;255;255;48;2;222;158;214m \u001b[0m\u001b[38;2;255;255;255;48;2;222;158;214mTPU 2,3\u001b[0m\u001b[38;2;255;255;255;48;2;222;158;214m \u001b[0m\n",
              "\u001b[38;2;255;255;255;48;2;222;158;214m         \u001b[0m\n",
              "\u001b[38;2;255;255;255;48;2;173;73;74m         \u001b[0m\n",
              "\u001b[38;2;255;255;255;48;2;173;73;74m \u001b[0m\u001b[38;2;255;255;255;48;2;173;73;74mTPU 6,7\u001b[0m\u001b[38;2;255;255;255;48;2;173;73;74m \u001b[0m\n",
              "\u001b[38;2;255;255;255;48;2;173;73;74m         \u001b[0m\n",
              "\u001b[38;2;0;0;0;48;2;181;207;107m         \u001b[0m\n",
              "\u001b[38;2;0;0;0;48;2;181;207;107m \u001b[0m\u001b[38;2;0;0;0;48;2;181;207;107mTPU 4,5\u001b[0m\u001b[38;2;0;0;0;48;2;181;207;107m \u001b[0m\n",
              "\u001b[38;2;0;0;0;48;2;181;207;107m         \u001b[0m\n"
            ],
            "text/html": [
              "<pre style=\"white-space:pre;overflow-x:auto;line-height:normal;font-family:Menlo,'DejaVu Sans Mono',consolas,'Courier New',monospace\"><span style=\"color: #ffffff; text-decoration-color: #ffffff; background-color: #393b79\">         </span>\n",
              "<span style=\"color: #ffffff; text-decoration-color: #ffffff; background-color: #393b79\"> TPU 0,1 </span>\n",
              "<span style=\"color: #ffffff; text-decoration-color: #ffffff; background-color: #393b79\">         </span>\n",
              "<span style=\"color: #ffffff; text-decoration-color: #ffffff; background-color: #de9ed6\">         </span>\n",
              "<span style=\"color: #ffffff; text-decoration-color: #ffffff; background-color: #de9ed6\"> TPU 2,3 </span>\n",
              "<span style=\"color: #ffffff; text-decoration-color: #ffffff; background-color: #de9ed6\">         </span>\n",
              "<span style=\"color: #ffffff; text-decoration-color: #ffffff; background-color: #ad494a\">         </span>\n",
              "<span style=\"color: #ffffff; text-decoration-color: #ffffff; background-color: #ad494a\"> TPU 6,7 </span>\n",
              "<span style=\"color: #ffffff; text-decoration-color: #ffffff; background-color: #ad494a\">         </span>\n",
              "<span style=\"color: #000000; text-decoration-color: #000000; background-color: #b5cf6b\">         </span>\n",
              "<span style=\"color: #000000; text-decoration-color: #000000; background-color: #b5cf6b\"> TPU 4,5 </span>\n",
              "<span style=\"color: #000000; text-decoration-color: #000000; background-color: #b5cf6b\">         </span>\n",
              "</pre>\n"
            ]
          },
          "metadata": {}
        }
      ],
      "source": [
        "batch = jax.device_put(batch, NamedSharding(mesh, P('batch', None)))\n",
        "jax.debug.visualize_array_sharding(batch[0])\n",
        "jax.debug.visualize_array_sharding(batch[1])"
      ]
    },
    {
      "cell_type": "code",
      "execution_count": null,
      "metadata": {
        "id": "q9PQP-0eEAO6"
      },
      "outputs": [],
      "source": [
        "replicated_sharding = NamedSharding(mesh, P())"
      ]
    },
    {
      "cell_type": "code",
      "execution_count": null,
      "metadata": {
        "id": "BqCjYCgg3vGW"
      },
      "outputs": [],
      "source": [
        "(W1, b1), (W2, b2), (W3, b3), (W4, b4) = params\n",
        "\n",
        "W1 = jax.device_put(W1, replicated_sharding)\n",
        "b1 = jax.device_put(b1, replicated_sharding)\n",
        "\n",
        "W2 = jax.device_put(W2, NamedSharding(mesh, P(None, 'model')))\n",
        "b2 = jax.device_put(b2, NamedSharding(mesh, P('model')))\n",
        "\n",
        "W3 = jax.device_put(W3, NamedSharding(mesh, P('model', None)))\n",
        "b3 = jax.device_put(b3, replicated_sharding)\n",
        "\n",
        "W4 = jax.device_put(W4, replicated_sharding)\n",
        "b4 = jax.device_put(b4, replicated_sharding)\n",
        "\n",
        "params = (W1, b1), (W2, b2), (W3, b3), (W4, b4)"
      ]
    },
    {
      "cell_type": "code",
      "execution_count": null,
      "metadata": {
        "colab": {
          "base_uri": "https://localhost:8080/",
          "height": 193
        },
        "id": "_lSJ63sh3vGW",
        "outputId": "6412d2ec-c11c-4fb9-e795-5c0397f35138"
      },
      "outputs": [
        {
          "output_type": "display_data",
          "data": {
            "text/plain": [
              "\u001b[38;2;255;255;255;48;2;57;59;121m            \u001b[0m\u001b[38;2;255;255;255;48;2;57;59;121m            \u001b[0m\n",
              "\u001b[38;2;255;255;255;48;2;57;59;121m            \u001b[0m\u001b[38;2;255;255;255;48;2;57;59;121m            \u001b[0m\n",
              "\u001b[38;2;255;255;255;48;2;57;59;121m            \u001b[0m\u001b[38;2;255;255;255;48;2;57;59;121m            \u001b[0m\n",
              "\u001b[38;2;255;255;255;48;2;57;59;121m            \u001b[0m\u001b[38;2;255;255;255;48;2;57;59;121m            \u001b[0m\n",
              "\u001b[38;2;255;255;255;48;2;57;59;121m            \u001b[0m\u001b[38;2;255;255;255;48;2;57;59;121m            \u001b[0m\n",
              "\u001b[38;2;255;255;255;48;2;57;59;121mTPU 0,2,4,6\u001b[0m\u001b[38;2;255;255;255;48;2;57;59;121m \u001b[0m\u001b[38;2;255;255;255;48;2;57;59;121mTPU 1,3,5,7\u001b[0m\u001b[38;2;255;255;255;48;2;57;59;121m \u001b[0m\n",
              "\u001b[38;2;255;255;255;48;2;57;59;121m            \u001b[0m\u001b[38;2;255;255;255;48;2;57;59;121m            \u001b[0m\n",
              "\u001b[38;2;255;255;255;48;2;57;59;121m            \u001b[0m\u001b[38;2;255;255;255;48;2;57;59;121m            \u001b[0m\n",
              "\u001b[38;2;255;255;255;48;2;57;59;121m            \u001b[0m\u001b[38;2;255;255;255;48;2;57;59;121m            \u001b[0m\n",
              "\u001b[38;2;255;255;255;48;2;57;59;121m            \u001b[0m\u001b[38;2;255;255;255;48;2;57;59;121m            \u001b[0m\n",
              "\u001b[38;2;255;255;255;48;2;57;59;121m            \u001b[0m\u001b[38;2;255;255;255;48;2;57;59;121m            \u001b[0m\n"
            ],
            "text/html": [
              "<pre style=\"white-space:pre;overflow-x:auto;line-height:normal;font-family:Menlo,'DejaVu Sans Mono',consolas,'Courier New',monospace\"><span style=\"color: #ffffff; text-decoration-color: #ffffff; background-color: #393b79\">                        </span>\n",
              "<span style=\"color: #ffffff; text-decoration-color: #ffffff; background-color: #393b79\">                        </span>\n",
              "<span style=\"color: #ffffff; text-decoration-color: #ffffff; background-color: #393b79\">                        </span>\n",
              "<span style=\"color: #ffffff; text-decoration-color: #ffffff; background-color: #393b79\">                        </span>\n",
              "<span style=\"color: #ffffff; text-decoration-color: #ffffff; background-color: #393b79\">                        </span>\n",
              "<span style=\"color: #ffffff; text-decoration-color: #ffffff; background-color: #393b79\">TPU 0,2,4,6 TPU 1,3,5,7 </span>\n",
              "<span style=\"color: #ffffff; text-decoration-color: #ffffff; background-color: #393b79\">                        </span>\n",
              "<span style=\"color: #ffffff; text-decoration-color: #ffffff; background-color: #393b79\">                        </span>\n",
              "<span style=\"color: #ffffff; text-decoration-color: #ffffff; background-color: #393b79\">                        </span>\n",
              "<span style=\"color: #ffffff; text-decoration-color: #ffffff; background-color: #393b79\">                        </span>\n",
              "<span style=\"color: #ffffff; text-decoration-color: #ffffff; background-color: #393b79\">                        </span>\n",
              "</pre>\n"
            ]
          },
          "metadata": {}
        }
      ],
      "source": [
        "jax.debug.visualize_array_sharding(W2)"
      ]
    },
    {
      "cell_type": "code",
      "execution_count": null,
      "metadata": {
        "colab": {
          "base_uri": "https://localhost:8080/",
          "height": 209
        },
        "id": "fxkfWYkk3vGW",
        "outputId": "7be76ef1-423e-4ff4-9c65-9205a4d201e8"
      },
      "outputs": [
        {
          "output_type": "display_data",
          "data": {
            "text/plain": [
              "\u001b[38;2;255;255;255;48;2;57;59;121m                         \u001b[0m\n",
              "\u001b[38;2;255;255;255;48;2;57;59;121m                         \u001b[0m\n",
              "\u001b[38;2;255;255;255;48;2;57;59;121m       \u001b[0m\u001b[38;2;255;255;255;48;2;57;59;121mTPU 0,2,4,6\u001b[0m\u001b[38;2;255;255;255;48;2;57;59;121m       \u001b[0m\n",
              "\u001b[38;2;255;255;255;48;2;57;59;121m                         \u001b[0m\n",
              "\u001b[38;2;255;255;255;48;2;57;59;121m                         \u001b[0m\n",
              "\u001b[38;2;255;255;255;48;2;57;59;121m                         \u001b[0m\n",
              "\u001b[38;2;255;255;255;48;2;57;59;121m                         \u001b[0m\n",
              "\u001b[38;2;255;255;255;48;2;57;59;121m                         \u001b[0m\n",
              "\u001b[38;2;255;255;255;48;2;57;59;121m       \u001b[0m\u001b[38;2;255;255;255;48;2;57;59;121mTPU 1,3,5,7\u001b[0m\u001b[38;2;255;255;255;48;2;57;59;121m       \u001b[0m\n",
              "\u001b[38;2;255;255;255;48;2;57;59;121m                         \u001b[0m\n",
              "\u001b[38;2;255;255;255;48;2;57;59;121m                         \u001b[0m\n",
              "\u001b[38;2;255;255;255;48;2;57;59;121m                         \u001b[0m\n"
            ],
            "text/html": [
              "<pre style=\"white-space:pre;overflow-x:auto;line-height:normal;font-family:Menlo,'DejaVu Sans Mono',consolas,'Courier New',monospace\"><span style=\"color: #ffffff; text-decoration-color: #ffffff; background-color: #393b79\">                         </span>\n",
              "<span style=\"color: #ffffff; text-decoration-color: #ffffff; background-color: #393b79\">                         </span>\n",
              "<span style=\"color: #ffffff; text-decoration-color: #ffffff; background-color: #393b79\">       TPU 0,2,4,6       </span>\n",
              "<span style=\"color: #ffffff; text-decoration-color: #ffffff; background-color: #393b79\">                         </span>\n",
              "<span style=\"color: #ffffff; text-decoration-color: #ffffff; background-color: #393b79\">                         </span>\n",
              "<span style=\"color: #ffffff; text-decoration-color: #ffffff; background-color: #393b79\">                         </span>\n",
              "<span style=\"color: #ffffff; text-decoration-color: #ffffff; background-color: #393b79\">                         </span>\n",
              "<span style=\"color: #ffffff; text-decoration-color: #ffffff; background-color: #393b79\">                         </span>\n",
              "<span style=\"color: #ffffff; text-decoration-color: #ffffff; background-color: #393b79\">       TPU 1,3,5,7       </span>\n",
              "<span style=\"color: #ffffff; text-decoration-color: #ffffff; background-color: #393b79\">                         </span>\n",
              "<span style=\"color: #ffffff; text-decoration-color: #ffffff; background-color: #393b79\">                         </span>\n",
              "<span style=\"color: #ffffff; text-decoration-color: #ffffff; background-color: #393b79\">                         </span>\n",
              "</pre>\n"
            ]
          },
          "metadata": {}
        }
      ],
      "source": [
        "jax.debug.visualize_array_sharding(W3)"
      ]
    },
    {
      "cell_type": "code",
      "execution_count": null,
      "metadata": {
        "colab": {
          "base_uri": "https://localhost:8080/"
        },
        "id": "uPCVs-_k3vGW",
        "outputId": "eeca33c6-5ae5-4699-db45-3329d6d8b1cb"
      },
      "outputs": [
        {
          "output_type": "stream",
          "name": "stdout",
          "text": [
            "10.856519\n"
          ]
        }
      ],
      "source": [
        "print(loss_jit(params, batch))"
      ]
    },
    {
      "cell_type": "code",
      "execution_count": null,
      "metadata": {
        "id": "L9JebLK_3vGW"
      },
      "outputs": [],
      "source": [
        "step_size = 1e-5\n",
        "\n",
        "for _ in range(30):\n",
        "    grads = gradfun(params, batch)\n",
        "    params = [(W - step_size * dW, b - step_size * db)\n",
        "              for (W, b), (dW, db) in zip(params, grads)]"
      ]
    },
    {
      "cell_type": "code",
      "execution_count": null,
      "metadata": {
        "colab": {
          "base_uri": "https://localhost:8080/"
        },
        "id": "c9Sbl69e3vGX",
        "outputId": "59a85aeb-dc14-49a7-f61a-8cb1b03a3c41"
      },
      "outputs": [
        {
          "output_type": "stream",
          "name": "stdout",
          "text": [
            "10.848966\n"
          ]
        }
      ],
      "source": [
        "print(loss_jit(params, batch))"
      ]
    },
    {
      "cell_type": "code",
      "execution_count": null,
      "metadata": {
        "colab": {
          "base_uri": "https://localhost:8080/",
          "height": 385
        },
        "id": "lkAF0dAb3vGX",
        "outputId": "821a70e2-7346-4a65-c5b9-d83692423ddb"
      },
      "outputs": [
        {
          "output_type": "display_data",
          "data": {
            "text/plain": [
              "\u001b[38;2;255;255;255;48;2;57;59;121m            \u001b[0m\u001b[38;2;255;255;255;48;2;57;59;121m            \u001b[0m\n",
              "\u001b[38;2;255;255;255;48;2;57;59;121m            \u001b[0m\u001b[38;2;255;255;255;48;2;57;59;121m            \u001b[0m\n",
              "\u001b[38;2;255;255;255;48;2;57;59;121m            \u001b[0m\u001b[38;2;255;255;255;48;2;57;59;121m            \u001b[0m\n",
              "\u001b[38;2;255;255;255;48;2;57;59;121m            \u001b[0m\u001b[38;2;255;255;255;48;2;57;59;121m            \u001b[0m\n",
              "\u001b[38;2;255;255;255;48;2;57;59;121m            \u001b[0m\u001b[38;2;255;255;255;48;2;57;59;121m            \u001b[0m\n",
              "\u001b[38;2;255;255;255;48;2;57;59;121mTPU 0,2,4,6\u001b[0m\u001b[38;2;255;255;255;48;2;57;59;121m \u001b[0m\u001b[38;2;255;255;255;48;2;57;59;121mTPU 1,3,5,7\u001b[0m\u001b[38;2;255;255;255;48;2;57;59;121m \u001b[0m\n",
              "\u001b[38;2;255;255;255;48;2;57;59;121m            \u001b[0m\u001b[38;2;255;255;255;48;2;57;59;121m            \u001b[0m\n",
              "\u001b[38;2;255;255;255;48;2;57;59;121m            \u001b[0m\u001b[38;2;255;255;255;48;2;57;59;121m            \u001b[0m\n",
              "\u001b[38;2;255;255;255;48;2;57;59;121m            \u001b[0m\u001b[38;2;255;255;255;48;2;57;59;121m            \u001b[0m\n",
              "\u001b[38;2;255;255;255;48;2;57;59;121m            \u001b[0m\u001b[38;2;255;255;255;48;2;57;59;121m            \u001b[0m\n",
              "\u001b[38;2;255;255;255;48;2;57;59;121m            \u001b[0m\u001b[38;2;255;255;255;48;2;57;59;121m            \u001b[0m\n"
            ],
            "text/html": [
              "<pre style=\"white-space:pre;overflow-x:auto;line-height:normal;font-family:Menlo,'DejaVu Sans Mono',consolas,'Courier New',monospace\"><span style=\"color: #ffffff; text-decoration-color: #ffffff; background-color: #393b79\">                        </span>\n",
              "<span style=\"color: #ffffff; text-decoration-color: #ffffff; background-color: #393b79\">                        </span>\n",
              "<span style=\"color: #ffffff; text-decoration-color: #ffffff; background-color: #393b79\">                        </span>\n",
              "<span style=\"color: #ffffff; text-decoration-color: #ffffff; background-color: #393b79\">                        </span>\n",
              "<span style=\"color: #ffffff; text-decoration-color: #ffffff; background-color: #393b79\">                        </span>\n",
              "<span style=\"color: #ffffff; text-decoration-color: #ffffff; background-color: #393b79\">TPU 0,2,4,6 TPU 1,3,5,7 </span>\n",
              "<span style=\"color: #ffffff; text-decoration-color: #ffffff; background-color: #393b79\">                        </span>\n",
              "<span style=\"color: #ffffff; text-decoration-color: #ffffff; background-color: #393b79\">                        </span>\n",
              "<span style=\"color: #ffffff; text-decoration-color: #ffffff; background-color: #393b79\">                        </span>\n",
              "<span style=\"color: #ffffff; text-decoration-color: #ffffff; background-color: #393b79\">                        </span>\n",
              "<span style=\"color: #ffffff; text-decoration-color: #ffffff; background-color: #393b79\">                        </span>\n",
              "</pre>\n"
            ]
          },
          "metadata": {}
        },
        {
          "output_type": "display_data",
          "data": {
            "text/plain": [
              "\u001b[38;2;255;255;255;48;2;57;59;121m                         \u001b[0m\n",
              "\u001b[38;2;255;255;255;48;2;57;59;121m                         \u001b[0m\n",
              "\u001b[38;2;255;255;255;48;2;57;59;121m       \u001b[0m\u001b[38;2;255;255;255;48;2;57;59;121mTPU 0,2,4,6\u001b[0m\u001b[38;2;255;255;255;48;2;57;59;121m       \u001b[0m\n",
              "\u001b[38;2;255;255;255;48;2;57;59;121m                         \u001b[0m\n",
              "\u001b[38;2;255;255;255;48;2;57;59;121m                         \u001b[0m\n",
              "\u001b[38;2;255;255;255;48;2;57;59;121m                         \u001b[0m\n",
              "\u001b[38;2;255;255;255;48;2;57;59;121m                         \u001b[0m\n",
              "\u001b[38;2;255;255;255;48;2;57;59;121m                         \u001b[0m\n",
              "\u001b[38;2;255;255;255;48;2;57;59;121m       \u001b[0m\u001b[38;2;255;255;255;48;2;57;59;121mTPU 1,3,5,7\u001b[0m\u001b[38;2;255;255;255;48;2;57;59;121m       \u001b[0m\n",
              "\u001b[38;2;255;255;255;48;2;57;59;121m                         \u001b[0m\n",
              "\u001b[38;2;255;255;255;48;2;57;59;121m                         \u001b[0m\n",
              "\u001b[38;2;255;255;255;48;2;57;59;121m                         \u001b[0m\n"
            ],
            "text/html": [
              "<pre style=\"white-space:pre;overflow-x:auto;line-height:normal;font-family:Menlo,'DejaVu Sans Mono',consolas,'Courier New',monospace\"><span style=\"color: #ffffff; text-decoration-color: #ffffff; background-color: #393b79\">                         </span>\n",
              "<span style=\"color: #ffffff; text-decoration-color: #ffffff; background-color: #393b79\">                         </span>\n",
              "<span style=\"color: #ffffff; text-decoration-color: #ffffff; background-color: #393b79\">       TPU 0,2,4,6       </span>\n",
              "<span style=\"color: #ffffff; text-decoration-color: #ffffff; background-color: #393b79\">                         </span>\n",
              "<span style=\"color: #ffffff; text-decoration-color: #ffffff; background-color: #393b79\">                         </span>\n",
              "<span style=\"color: #ffffff; text-decoration-color: #ffffff; background-color: #393b79\">                         </span>\n",
              "<span style=\"color: #ffffff; text-decoration-color: #ffffff; background-color: #393b79\">                         </span>\n",
              "<span style=\"color: #ffffff; text-decoration-color: #ffffff; background-color: #393b79\">                         </span>\n",
              "<span style=\"color: #ffffff; text-decoration-color: #ffffff; background-color: #393b79\">       TPU 1,3,5,7       </span>\n",
              "<span style=\"color: #ffffff; text-decoration-color: #ffffff; background-color: #393b79\">                         </span>\n",
              "<span style=\"color: #ffffff; text-decoration-color: #ffffff; background-color: #393b79\">                         </span>\n",
              "<span style=\"color: #ffffff; text-decoration-color: #ffffff; background-color: #393b79\">                         </span>\n",
              "</pre>\n"
            ]
          },
          "metadata": {}
        }
      ],
      "source": [
        "(W1, b1), (W2, b2), (W3, b3), (W4, b4) = params\n",
        "jax.debug.visualize_array_sharding(W2)\n",
        "jax.debug.visualize_array_sharding(W3)"
      ]
    },
    {
      "cell_type": "code",
      "execution_count": null,
      "metadata": {
        "colab": {
          "base_uri": "https://localhost:8080/"
        },
        "id": "I1Npor3i3vGX",
        "outputId": "319d0f58-4653-4759-f696-01151d96111c"
      },
      "outputs": [
        {
          "output_type": "stream",
          "name": "stdout",
          "text": [
            "51.6 ms ± 530 µs per loop (mean ± std. dev. of 10 runs, 10 loops each)\n"
          ]
        }
      ],
      "source": [
        "%timeit -n 10 -r 10 gradfun(params, batch)[0][0].block_until_ready()"
      ]
    },
    {
      "cell_type": "markdown",
      "metadata": {
        "id": "OTfoXNnxFYDJ"
      },
      "source": [
        "### Generating random numbers\n",
        "\n",
        "JAX comes with a functional, deterministic [random number generator](https://jax.readthedocs.io/en/latest/jep/263-prng.html). It underlies the various sampling functions in the [`jax.random` module](https://jax.readthedocs.io/en/latest/jax.random.html), such as `jax.random.uniform`.\n",
        "\n",
        "JAX's random numbers are produced by a counter-based PRNG, so in principle, random number generation should be a pure map over counter values. A pure map is a trivially partitionable operation in principle. It should require no cross-device communication, nor any redundant computation across devices.\n",
        "\n",
        "However, the existing stable RNG implementation is not automatically partitionable, for historical reasons."
      ]
    },
    {
      "cell_type": "markdown",
      "metadata": {
        "id": "ht_zYFVXNrjN"
      },
      "source": [
        "Consider the following example, where a function draws random uniform numbers and adds them to the input, elementwise:"
      ]
    },
    {
      "cell_type": "code",
      "execution_count": null,
      "metadata": {
        "id": "kwS-aQE_3vGX"
      },
      "outputs": [],
      "source": [
        "from jax.sharding import Mesh # Import the Mesh class from the correct module\n",
        "from jax.sharding import NamedSharding, PartitionSpec as P\n",
        "\n",
        "@jax.jit\n",
        "def f(key, x):\n",
        "  numbers = jax.random.uniform(key, x.shape)\n",
        "  return x + numbers\n",
        "\n",
        "key = jax.random.key(42)\n",
        "mesh = Mesh(jax.devices(), 'x')\n",
        "x_sharding = NamedSharding(mesh, P('x'))\n",
        "x = jax.device_put(jnp.arange(24), x_sharding)"
      ]
    },
    {
      "cell_type": "markdown",
      "metadata": {
        "id": "ZgSA9x9NLMaP"
      },
      "source": [
        "On a partitioned input, the function `f` produces output that is also partitioned:"
      ]
    },
    {
      "cell_type": "code",
      "execution_count": null,
      "metadata": {
        "colab": {
          "base_uri": "https://localhost:8080/",
          "height": 49
        },
        "id": "Oi97rpLz3vGY",
        "outputId": "f9976f5e-0671-493e-e728-d9ebb559e7e8"
      },
      "outputs": [
        {
          "output_type": "display_data",
          "data": {
            "text/plain": [
              "\u001b[38;2;255;255;255;48;2;57;59;121m  \u001b[0m\u001b[38;2;255;255;255;48;2;57;59;121mTPU 0\u001b[0m\u001b[38;2;255;255;255;48;2;57;59;121m  \u001b[0m\u001b[38;2;255;255;255;48;2;214;97;107m  \u001b[0m\u001b[38;2;255;255;255;48;2;214;97;107mTPU 1\u001b[0m\u001b[38;2;255;255;255;48;2;214;97;107m  \u001b[0m\u001b[38;2;255;255;255;48;2;140;162;82m  \u001b[0m\u001b[38;2;255;255;255;48;2;140;162;82mTPU 2\u001b[0m\u001b[38;2;255;255;255;48;2;140;162;82m  \u001b[0m\u001b[38;2;255;255;255;48;2;222;158;214m  \u001b[0m\u001b[38;2;255;255;255;48;2;222;158;214mTPU 3\u001b[0m\u001b[38;2;255;255;255;48;2;222;158;214m  \u001b[0m\u001b[38;2;0;0;0;48;2;231;203;148m  \u001b[0m\u001b[38;2;0;0;0;48;2;231;203;148mTPU 4\u001b[0m\u001b[38;2;0;0;0;48;2;231;203;148m  \u001b[0m\u001b[38;2;255;255;255;48;2;107;110;207m  \u001b[0m\u001b[38;2;255;255;255;48;2;107;110;207mTPU 5\u001b[0m\u001b[38;2;255;255;255;48;2;107;110;207m  \u001b[0m\u001b[38;2;255;255;255;48;2;165;81;148m  \u001b[0m\u001b[38;2;255;255;255;48;2;165;81;148mTPU 6\u001b[0m\u001b[38;2;255;255;255;48;2;165;81;148m  \u001b[0m\u001b[38;2;255;255;255;48;2;140;109;49m  \u001b[0m\u001b[38;2;255;255;255;48;2;140;109;49mTPU 7\u001b[0m\u001b[38;2;255;255;255;48;2;140;109;49m  \u001b[0m\n",
              "\u001b[38;2;255;255;255;48;2;57;59;121m         \u001b[0m\u001b[38;2;255;255;255;48;2;214;97;107m         \u001b[0m\u001b[38;2;255;255;255;48;2;140;162;82m         \u001b[0m\u001b[38;2;255;255;255;48;2;222;158;214m         \u001b[0m\u001b[38;2;0;0;0;48;2;231;203;148m         \u001b[0m\u001b[38;2;255;255;255;48;2;107;110;207m         \u001b[0m\u001b[38;2;255;255;255;48;2;165;81;148m         \u001b[0m\u001b[38;2;255;255;255;48;2;140;109;49m         \u001b[0m\n"
            ],
            "text/html": [
              "<pre style=\"white-space:pre;overflow-x:auto;line-height:normal;font-family:Menlo,'DejaVu Sans Mono',consolas,'Courier New',monospace\"><span style=\"color: #ffffff; text-decoration-color: #ffffff; background-color: #393b79\">  TPU 0  </span><span style=\"color: #ffffff; text-decoration-color: #ffffff; background-color: #d6616b\">  TPU 1  </span><span style=\"color: #ffffff; text-decoration-color: #ffffff; background-color: #8ca252\">  TPU 2  </span><span style=\"color: #ffffff; text-decoration-color: #ffffff; background-color: #de9ed6\">  TPU 3  </span><span style=\"color: #000000; text-decoration-color: #000000; background-color: #e7cb94\">  TPU 4  </span><span style=\"color: #ffffff; text-decoration-color: #ffffff; background-color: #6b6ecf\">  TPU 5  </span><span style=\"color: #ffffff; text-decoration-color: #ffffff; background-color: #a55194\">  TPU 6  </span><span style=\"color: #ffffff; text-decoration-color: #ffffff; background-color: #8c6d31\">  TPU 7  </span>\n",
              "<span style=\"color: #ffffff; text-decoration-color: #ffffff; background-color: #393b79\">         </span><span style=\"color: #ffffff; text-decoration-color: #ffffff; background-color: #d6616b\">         </span><span style=\"color: #ffffff; text-decoration-color: #ffffff; background-color: #8ca252\">         </span><span style=\"color: #ffffff; text-decoration-color: #ffffff; background-color: #de9ed6\">         </span><span style=\"color: #000000; text-decoration-color: #000000; background-color: #e7cb94\">         </span><span style=\"color: #ffffff; text-decoration-color: #ffffff; background-color: #6b6ecf\">         </span><span style=\"color: #ffffff; text-decoration-color: #ffffff; background-color: #a55194\">         </span><span style=\"color: #ffffff; text-decoration-color: #ffffff; background-color: #8c6d31\">         </span>\n",
              "</pre>\n"
            ]
          },
          "metadata": {}
        }
      ],
      "source": [
        "jax.debug.visualize_array_sharding(f(key, x))"
      ]
    },
    {
      "cell_type": "markdown",
      "metadata": {
        "id": "WnjlWDUYLkp6"
      },
      "source": [
        "But if we inspect the compiled computation for `f` on this partitioned input, we see that it does involve some communication:"
      ]
    },
    {
      "cell_type": "code",
      "execution_count": null,
      "metadata": {
        "colab": {
          "base_uri": "https://localhost:8080/"
        },
        "id": "64wIZuSJ3vGY",
        "outputId": "5eb315de-edba-416a-877b-d934f3123091"
      },
      "outputs": [
        {
          "output_type": "stream",
          "name": "stdout",
          "text": [
            "Communicating? False\n"
          ]
        }
      ],
      "source": [
        "f_exe = f.lower(key, x).compile()\n",
        "print('Communicating?', 'collective-permute' in f_exe.as_text())"
      ]
    },
    {
      "cell_type": "markdown",
      "metadata": {
        "id": "AXp9i8fbL8DD"
      },
      "source": [
        "One way to work around this is to configure JAX with the experimental upgrade flag `jax_threefry_partitionable`. With the flag on, the \"collective permute\" operation is now gone from the compiled computation:"
      ]
    },
    {
      "cell_type": "code",
      "execution_count": null,
      "metadata": {
        "colab": {
          "base_uri": "https://localhost:8080/"
        },
        "id": "1I7bqxA63vGY",
        "outputId": "e87b0c78-9e92-43bb-d2ed-3f8346f1496c"
      },
      "outputs": [
        {
          "output_type": "stream",
          "name": "stdout",
          "text": [
            "Communicating? False\n"
          ]
        }
      ],
      "source": [
        "jax.config.update('jax_threefry_partitionable', True)\n",
        "f_exe = f.lower(key, x).compile()\n",
        "print('Communicating?', 'collective-permute' in f_exe.as_text())"
      ]
    },
    {
      "cell_type": "markdown",
      "metadata": {
        "id": "WV8ZccM5SXOU"
      },
      "source": [
        "The output is still partitioned:"
      ]
    },
    {
      "cell_type": "code",
      "execution_count": null,
      "metadata": {
        "colab": {
          "base_uri": "https://localhost:8080/",
          "height": 49
        },
        "id": "zHPJzdn23vGY",
        "outputId": "a23c3bb9-b793-41d6-85f0-80eb5648d732"
      },
      "outputs": [
        {
          "output_type": "display_data",
          "data": {
            "text/plain": [
              "\u001b[38;2;255;255;255;48;2;57;59;121m  \u001b[0m\u001b[38;2;255;255;255;48;2;57;59;121mTPU 0\u001b[0m\u001b[38;2;255;255;255;48;2;57;59;121m  \u001b[0m\u001b[38;2;255;255;255;48;2;214;97;107m  \u001b[0m\u001b[38;2;255;255;255;48;2;214;97;107mTPU 1\u001b[0m\u001b[38;2;255;255;255;48;2;214;97;107m  \u001b[0m\u001b[38;2;255;255;255;48;2;140;162;82m  \u001b[0m\u001b[38;2;255;255;255;48;2;140;162;82mTPU 2\u001b[0m\u001b[38;2;255;255;255;48;2;140;162;82m  \u001b[0m\u001b[38;2;255;255;255;48;2;222;158;214m  \u001b[0m\u001b[38;2;255;255;255;48;2;222;158;214mTPU 3\u001b[0m\u001b[38;2;255;255;255;48;2;222;158;214m  \u001b[0m\u001b[38;2;0;0;0;48;2;231;203;148m  \u001b[0m\u001b[38;2;0;0;0;48;2;231;203;148mTPU 4\u001b[0m\u001b[38;2;0;0;0;48;2;231;203;148m  \u001b[0m\u001b[38;2;255;255;255;48;2;107;110;207m  \u001b[0m\u001b[38;2;255;255;255;48;2;107;110;207mTPU 5\u001b[0m\u001b[38;2;255;255;255;48;2;107;110;207m  \u001b[0m\u001b[38;2;255;255;255;48;2;165;81;148m  \u001b[0m\u001b[38;2;255;255;255;48;2;165;81;148mTPU 6\u001b[0m\u001b[38;2;255;255;255;48;2;165;81;148m  \u001b[0m\u001b[38;2;255;255;255;48;2;140;109;49m  \u001b[0m\u001b[38;2;255;255;255;48;2;140;109;49mTPU 7\u001b[0m\u001b[38;2;255;255;255;48;2;140;109;49m  \u001b[0m\n",
              "\u001b[38;2;255;255;255;48;2;57;59;121m         \u001b[0m\u001b[38;2;255;255;255;48;2;214;97;107m         \u001b[0m\u001b[38;2;255;255;255;48;2;140;162;82m         \u001b[0m\u001b[38;2;255;255;255;48;2;222;158;214m         \u001b[0m\u001b[38;2;0;0;0;48;2;231;203;148m         \u001b[0m\u001b[38;2;255;255;255;48;2;107;110;207m         \u001b[0m\u001b[38;2;255;255;255;48;2;165;81;148m         \u001b[0m\u001b[38;2;255;255;255;48;2;140;109;49m         \u001b[0m\n"
            ],
            "text/html": [
              "<pre style=\"white-space:pre;overflow-x:auto;line-height:normal;font-family:Menlo,'DejaVu Sans Mono',consolas,'Courier New',monospace\"><span style=\"color: #ffffff; text-decoration-color: #ffffff; background-color: #393b79\">  TPU 0  </span><span style=\"color: #ffffff; text-decoration-color: #ffffff; background-color: #d6616b\">  TPU 1  </span><span style=\"color: #ffffff; text-decoration-color: #ffffff; background-color: #8ca252\">  TPU 2  </span><span style=\"color: #ffffff; text-decoration-color: #ffffff; background-color: #de9ed6\">  TPU 3  </span><span style=\"color: #000000; text-decoration-color: #000000; background-color: #e7cb94\">  TPU 4  </span><span style=\"color: #ffffff; text-decoration-color: #ffffff; background-color: #6b6ecf\">  TPU 5  </span><span style=\"color: #ffffff; text-decoration-color: #ffffff; background-color: #a55194\">  TPU 6  </span><span style=\"color: #ffffff; text-decoration-color: #ffffff; background-color: #8c6d31\">  TPU 7  </span>\n",
              "<span style=\"color: #ffffff; text-decoration-color: #ffffff; background-color: #393b79\">         </span><span style=\"color: #ffffff; text-decoration-color: #ffffff; background-color: #d6616b\">         </span><span style=\"color: #ffffff; text-decoration-color: #ffffff; background-color: #8ca252\">         </span><span style=\"color: #ffffff; text-decoration-color: #ffffff; background-color: #de9ed6\">         </span><span style=\"color: #000000; text-decoration-color: #000000; background-color: #e7cb94\">         </span><span style=\"color: #ffffff; text-decoration-color: #ffffff; background-color: #6b6ecf\">         </span><span style=\"color: #ffffff; text-decoration-color: #ffffff; background-color: #a55194\">         </span><span style=\"color: #ffffff; text-decoration-color: #ffffff; background-color: #8c6d31\">         </span>\n",
              "</pre>\n"
            ]
          },
          "metadata": {}
        }
      ],
      "source": [
        "jax.debug.visualize_array_sharding(f(key, x))"
      ]
    },
    {
      "cell_type": "markdown",
      "metadata": {
        "id": "kaK--hPmSPpV"
      },
      "source": [
        "One caveat to the `jax_threefry_partitionable` option, however, is that _the random values produced may be different than without the flag set_, even though they were generated by the same random key:"
      ]
    },
    {
      "cell_type": "code",
      "execution_count": null,
      "metadata": {
        "colab": {
          "base_uri": "https://localhost:8080/"
        },
        "id": "nBUHBBal3vGY",
        "outputId": "d21024f2-5c24-4f48-a01c-1c6669139919"
      },
      "outputs": [
        {
          "output_type": "stream",
          "name": "stdout",
          "text": [
            "Stable:\n",
            "[ 0.72503686  1.8532515   2.983416    3.083253    4.0332246   5.4782867\n",
            "  6.1720605   7.6900277   8.602836    9.810046   10.861367   11.907651\n",
            " 12.330483   13.456195   14.808557   15.960099   16.067581   17.739723\n",
            " 18.335474   19.46401    20.390276   21.116539   22.858128   23.223194  ]\n",
            "\n",
            "Partitionable:\n",
            "[ 0.48870957  1.6797972   2.6162715   3.561016    4.4506445   5.585866\n",
            "  6.0748096   7.775133    8.698959    9.818634   10.350306   11.87282\n",
            " 12.925881   13.86013    14.477554   15.818481   16.711355   17.586697\n",
            " 18.073738   19.777622   20.404566   21.119123   22.026257   23.63918   ]\n"
          ]
        }
      ],
      "source": [
        "jax.config.update('jax_threefry_partitionable', False)\n",
        "print('Stable:')\n",
        "print(f(key, x))\n",
        "print()\n",
        "\n",
        "jax.config.update('jax_threefry_partitionable', True)\n",
        "print('Partitionable:')\n",
        "print(f(key, x))"
      ]
    },
    {
      "cell_type": "markdown",
      "source": [
        "## LLM with TPU"
      ],
      "metadata": {
        "id": "b9X8DmY-Ayms"
      }
    },
    {
      "cell_type": "code",
      "source": [
        "!pip install colab-env --quiet\n",
        "\n",
        "import warnings\n",
        "\n",
        "warnings.filterwarnings(\"ignore\", message=\"You seem to be using the pipelines sequentially on GPU\")\n",
        "\n",
        "import colab_env\n",
        "import os\n",
        "\n",
        "access_token_write = os.getenv(\"HUGGINGFACE_ACCESS_TOKEN_WRITE\")\n",
        "\n",
        "from huggingface_hub import login\n",
        "\n",
        "login(\n",
        "  token=access_token_write,\n",
        "  add_to_git_credential=True\n",
        ")"
      ],
      "metadata": {
        "id": "XWUS_LAGBmoM"
      },
      "execution_count": null,
      "outputs": []
    },
    {
      "cell_type": "code",
      "source": [
        "!pip install keras_hub --upgrade --quiet\n",
        "!pip install tensorflow --quiet\n",
        "!pip install datasets -q\n",
        "!pip install opencv-python-headless -q\n",
        "!pip install tf-keras -q\n",
        "!pip install -U transformers --quiet\n",
        "\n",
        "#!pip install tensorflow_text==2.11  -q # replace 2.11 with your tensorflow version"
      ],
      "metadata": {
        "id": "phsGzgzckuKs"
      },
      "execution_count": null,
      "outputs": []
    },
    {
      "cell_type": "code",
      "source": [
        "!pip install --force-reinstall tensorflow_text -q\n",
        "!apt-get update && apt-get install -y libstdc++6  # For Debian/Ubuntu-based systems"
      ],
      "metadata": {
        "id": "LwNMiJ0H1a7z"
      },
      "execution_count": null,
      "outputs": []
    },
    {
      "source": [
        "import jax\n",
        "\n",
        "devices = jax.devices()\n",
        "\n",
        "for device in devices:\n",
        "    if device.platform == 'tpu':\n",
        "        print(\"TPU detected!\")\n",
        "        break\n",
        "else:\n",
        "    print(\"No TPU detected.\")"
      ],
      "cell_type": "code",
      "metadata": {
        "id": "QwRUq7fD-KiO",
        "outputId": "93f035b8-bead-4a28-ad7f-802751be2f2b",
        "colab": {
          "base_uri": "https://localhost:8080/"
        }
      },
      "execution_count": null,
      "outputs": [
        {
          "output_type": "stream",
          "name": "stdout",
          "text": [
            "TPU detected!\n"
          ]
        }
      ]
    },
    {
      "source": [
        "import os\n",
        "os.environ[\"KERAS_BACKEND\"] = \"jax\" # or \"torch\", or \"tensorflow\"\n",
        "\n",
        "import tensorflow as tf\n",
        "import keras_hub\n",
        "model = keras_hub.models.Llama3CausalLM.from_preset(\n",
        "    \"hf://meta-llama/Llama-3.2-1B-Instruct\", dtype=\"bfloat16\"\n",
        ")"
      ],
      "cell_type": "code",
      "metadata": {
        "id": "e8BLk2DIN3p1"
      },
      "execution_count": null,
      "outputs": []
    },
    {
      "cell_type": "code",
      "source": [
        "response=model.generate(\"Hi there!\")\n",
        "print(response)"
      ],
      "metadata": {
        "colab": {
          "base_uri": "https://localhost:8080/"
        },
        "id": "9TveRDmcR0mJ",
        "outputId": "32c19518-3958-4b63-92c0-04e5216939f6"
      },
      "execution_count": null,
      "outputs": [
        {
          "output_type": "stream",
          "name": "stdout",
          "text": [
            "Hi there! I'm excited to connect with you!\n",
            "\n",
            "Before I start chatting, I'd love to know a bit more about you!\n",
            "\n",
            "Could you please share:\n",
            "\n",
            "1. Your name\n",
            "2. Where you're from (city or town)\n",
            "3. What do you like to do in your free time\n",
            "4. What kind of music do you enjoy listening to\n",
            "5. Are there any hobbies or interests that you're particularly passionate about\n",
            "\n",
            "Once I have this information, I'll do my best to provide you with personalized recommendations and advice!\n"
          ]
        }
      ]
    },
    {
      "cell_type": "markdown",
      "source": [
        "data"
      ],
      "metadata": {
        "id": "UlipGfwhFK66"
      }
    },
    {
      "source": [
        "# --- Data Preparation (Flight Planning Focus) ---\n",
        "\n",
        "# Define necessary lists\n",
        "airports = [\"JFK\", \"LAX\", \"LGA\", \"BOS\", \"SFO\", \"ORD\", \"DFW\", \"ATL\", \"SEA\", \"MIA\", \"DEN\", \"IAH\", \"MSP\", \"DTW\", \"PHX\", \"CLT\", \"LAS\", \"MCO\", \"EWR\", \"PHL\"]\n",
        "aircraft_types = [\"Boeing 747\", \"Airbus A320\", \"Boeing 777\", \"Boeing 737\", \"Airbus A330\", \"Boeing 757\", \"Airbus A321\", \"Airbus A319\", \"Boeing 787\", \"Embraer E190\"]\n",
        "weather_conditions = [\"Clear\", \"Cloudy\", \"Rainy\", \"Snowy\", \"Windy\"]\n",
        "\n",
        "flight_data = []\n",
        "# Function to create a flight data point\n",
        "def create_flight_data_point(origin, destination, departure_date, aircraft, weather):\n",
        "    return {\n",
        "        \"input\": f\"Plan a flight from {origin} to {destination}. Departure: {departure_date}, Aircraft: {aircraft}, Weather: {weather}\",\n",
        "        \"output\": \"{'route': [], 'altitude': [], 'airspeed': [], 'fuel': []}\"  # Placeholder for output\n",
        "    }\n",
        "\n",
        "number_routes = 100\n",
        "# Generate more flight data points\n",
        "import random\n",
        "for _ in range(number_routes):  # Generate 90 more examples\n",
        "    origin = random.choice(airports)\n",
        "    destination = random.choice(airports)\n",
        "    while origin == destination:  # Ensure origin and destination are different\n",
        "        destination = random.choice(airports)\n",
        "    departure_date = f\"2024-{random.randint(1, 12):02}-{random.randint(1, 28):02}\"\n",
        "    aircraft = random.choice(aircraft_types)\n",
        "    weather = random.choice(weather_conditions)\n",
        "    flight_data.append(create_flight_data_point(origin, destination, departure_date, aircraft, weather))\n",
        "\n",
        "for _ in range(number_routes):  # Generate 90 more examples\n",
        "    origin = random.choice(airports)\n",
        "    destination = random.choice(airports)\n",
        "    while origin == destination:  # Ensure origin and destination are different\n",
        "        destination = random.choice(airports)\n",
        "    departure_date = f\"2024-{random.randint(1, 12):02}-{random.randint(1, 28):02}\"\n",
        "    aircraft = random.choice(aircraft_types)\n",
        "    weather = random.choice(weather_conditions)\n",
        "    flight_data.append(create_flight_data_point(origin, destination, departure_date, aircraft, weather))"
      ],
      "cell_type": "code",
      "metadata": {
        "id": "VGoU0_KluoIS"
      },
      "execution_count": null,
      "outputs": []
    },
    {
      "cell_type": "code",
      "source": [
        "from datasets import Dataset\n",
        "flight_dataset = Dataset.from_list(flight_data)\n",
        "print(flight_dataset)"
      ],
      "metadata": {
        "id": "aTWJx_xMwjpB"
      },
      "execution_count": null,
      "outputs": []
    },
    {
      "cell_type": "code",
      "source": [
        "!pip install flax --quiet\n",
        "!pip install --upgrade transformers -q"
      ],
      "metadata": {
        "id": "UzRSPoeql-AL"
      },
      "execution_count": null,
      "outputs": []
    },
    {
      "source": [
        "!pip install flax --quiet\n",
        "!pip install --upgrade transformers -q\n",
        "!pip install datasets evaluate -q\n",
        "\n",
        "import warnings\n",
        "warnings.filterwarnings(\"ignore\", message=\"You seem to be using the pipel\")\n",
        "\n",
        "import jax\n",
        "import jax.numpy as jnp\n",
        "from transformers import AutoTokenizer, FlaxAutoModelForSequenceClassification, TrainingArguments, Trainer\n",
        "from datasets import load_dataset\n",
        "from datasets import Dataset\n",
        "import evaluate\n",
        "import optax\n",
        "import numpy as np\n",
        "import os\n",
        "import evaluate\n",
        "from typing import Dict, Any\n",
        "import sys\n",
        "\n",
        "\n",
        "from flax.training import train_state\n",
        "\n",
        "# TPU Detection and Device Assignment\n",
        "try:\n",
        "    tpu_device = jax.devices(\"tpu\")[0]  # Get the first TPU device\n",
        "    USE_TPU = True\n",
        "    print(\"TPU detected!\")\n",
        "except RuntimeError:\n",
        "    tpu_device = None  # If no TPU is found, set tpu_device to None\n",
        "    USE_TPU = False\n",
        "    print(\"Warning: TPU not found. Code will run on CPU or GPU.\")\n",
        "\n",
        "def simple_op(x):\n",
        "       return x + 1\n",
        "\n",
        "x = jnp.array([1, 2, 3])\n",
        "x_tpu = jax.device_put(x, tpu_device)\n",
        "result = simple_op(x_tpu).block_until_ready()\n",
        "\n",
        "print(result)\n",
        "\n",
        "\n",
        "model_name = \"distilbert-base-uncased\"\n",
        "tokenizer = AutoTokenizer.from_pretrained(model_name)\n",
        "model = FlaxAutoModelForSequenceClassification.from_pretrained(model_name, num_labels=2)\n",
        "\n",
        "\n",
        "# --- Data Preparation (Flight Planning Focus) ---\n",
        "# Define necessary lists\n",
        "airports = [\"JFK\", \"LAX\", \"LGA\", \"BOS\", \"SFO\", \"ORD\", \"DFW\", \"ATL\", \"SEA\", \"MIA\", \"DEN\", \"IAH\", \"MSP\", \"DTW\", \"PHX\", \"CLT\", \"LAS\", \"MCO\", \"EWR\", \"PHL\"]\n",
        "aircraft_types = [\"Boeing 747\", \"Airbus A320\", \"Boeing 777\", \"Boeing 737\", \"Airbus A330\", \"Boeing 757\", \"Airbus A321\", \"Airbus A319\", \"Boeing 787\", \"Embraer E190\"]\n",
        "weather_conditions = [\"Clear\", \"Cloudy\", \"Rainy\", \"Snowy\", \"Windy\"]\n",
        "\n",
        "flight_data = []\n",
        "# Function to create a flight data point\n",
        "def create_flight_data_point(origin, destination, departure_date, aircraft, weather, label): # Added label parameter\n",
        "    return {\n",
        "        \"input\": f\"Plan a flight from {origin} to {destination}. Departure: {departure_date}, Aircraft: {aircraft}, Weather: {weather}\",\n",
        "        \"label\": label  # Store the label directly, name changed to \"label\"\n",
        "    }\n",
        "\n",
        "number_routes = 10000\n",
        "# Generate more flight data points\n",
        "import random\n",
        "for _ in range(number_routes):  # Generate examples with labels\n",
        "    origin = random.choice(airports)\n",
        "    destination = random.choice(airports)\n",
        "    while origin == destination:  # Ensure origin and destination are different\n",
        "        destination = random.choice(airports)\n",
        "    departure_date = f\"2024-{random.randint(1, 12):02}-{random.randint(1, 28):02}\"\n",
        "    aircraft = random.choice(aircraft_types)\n",
        "    weather = random.choice(weather_conditions)\n",
        "    label = random.randint(0, 1) # Assign random labels (0 or 1) for demonstration\n",
        "    flight_data.append(create_flight_data_point(origin, destination, departure_date, aircraft, weather, label))\n",
        "\n",
        "\n",
        "\n",
        "# Create the dataset\n",
        "dataset = Dataset.from_list(flight_data)\n",
        "\n",
        "# Create train/validation split using train_test_split\n",
        "train_testvalid = dataset.train_test_split(test_size=0.2, seed=42)  # Split into 80% train, 20% test+validation\n",
        "train_dataset = train_testvalid[\"train\"]\n",
        "testvalid_dataset = train_testvalid[\"test\"]\n",
        "\n",
        "# Further split test+validation into test and validation\n",
        "test_valid = testvalid_dataset.train_test_split(test_size=0.5, seed=42)  # Split the test+validation into 50% each\n",
        "eval_dataset = test_valid[\"test\"]  # Now you have separate train, eval, and test datasets\n",
        "test_dataset = test_valid[\"train\"]\n",
        "\n",
        "# Now you can use train_dataset and eval_dataset\n",
        "small_train_dataset = train_dataset.shuffle(seed=42).select(range(1000))\n",
        "small_eval_dataset = eval_dataset.shuffle(seed=42).select(range(200))\n",
        "\n",
        "def tokenize_function(examples):\n",
        "    inputs = examples['input']\n",
        "    tokenized_inputs = tokenizer(inputs, padding=\"max_length\", truncation=True, max_length=128)\n",
        "    return {\n",
        "        \"input_ids\": tokenized_inputs[\"input_ids\"],\n",
        "        \"attention_mask\": tokenized_inputs[\"attention_mask\"],\n",
        "        \"label\": examples['label']  # Access the label directly, name changed to \"label\"\n",
        "    }\n",
        "\n",
        "# Apply tokenization\n",
        "tokenized_train_dataset = small_train_dataset.map(tokenize_function, batched=True)\n",
        "tokenized_eval_dataset = small_eval_dataset.map(tokenize_function, batched=True)\n",
        "\n",
        "# Convert to JAX and filter out invalid data points\n",
        "def convert_and_filter(batch):\n",
        "    # Convert only the 'label' to JAX arrays, keep 'input_ids' and 'attention_mask' as lists\n",
        "    batch = {k: jnp.array(v) if k == 'label' else v for k, v in batch.items()}\n",
        "\n",
        "    # Filter out invalid data points based on input_ids shape\n",
        "    # updated to check length instead of truthiness, and iterate through outer list\n",
        "    valid_indices = [i for i, ids in enumerate(batch['input_ids']) if len(ids) > 0]\n",
        "\n",
        "    # If all data points are invalid, return an empty dictionary\n",
        "    if not valid_indices:\n",
        "        return {}\n",
        "\n",
        "    # Otherwise, filter the batch\n",
        "    filtered_batch = {k: [v[i] for i in valid_indices] for k, v in batch.items() if k in batch}\n",
        "    return filtered_batch\n",
        "\n",
        "# Filter and format datasets\n",
        "tokenized_train_dataset = tokenized_train_dataset.map(convert_and_filter, batched=True, remove_columns=tokenized_train_dataset.column_names)\n",
        "tokenized_eval_dataset = tokenized_eval_dataset.map(convert_and_filter, batched=True, remove_columns=tokenized_eval_dataset.column_names)\n",
        "\n",
        "\n",
        "# Training State\n",
        "learning_rate = 2e-5\n",
        "optimizer = optax.adamw(learning_rate)\n",
        "state = train_state.TrainState.create(\n",
        "    apply_fn=model,\n",
        "    params=model.params,\n",
        "    tx=optimizer,\n",
        ")\n",
        "\n",
        "# Loss Function\n",
        "def loss_fn(params, batch):\n",
        "    outputs = model(batch[\"input_ids\"], attention_mask=batch[\"attention_mask\"], params=params)\n",
        "    logits = outputs.logits\n",
        "    loss = optax.softmax_cross_entropy_with_integer_labels(logits, batch[\"label\"]).mean()\n",
        "    return loss\n",
        "\n",
        "# Training Step\n",
        "@jax.jit\n",
        "def train_step(state, batch):\n",
        "    loss, grads = jax.value_and_grad(loss_fn)(state.params, batch)\n",
        "    state = state.apply_gradients(grads=grads)\n",
        "    return state, loss\n",
        "\n",
        "def eval_step(params, batch):\n",
        "      outputs = model(batch[\"input_ids\"], attention_mask=batch[\"attention_mask\"], params=params)\n",
        "      logits = outputs.logits\n",
        "      predictions = jnp.argmax(logits, axis=-1)\n",
        "      # Convert batch[\"label\"] to JAX array if it's not already\n",
        "      label_array = jnp.array(batch[\"label\"])\n",
        "      return predictions == label_array  # Return the comparison result\n",
        "\n",
        "\n",
        "def evaluate(state, eval_dataset):\n",
        "      correct_predictions = 0  # Initialize counter for correct predictions\n",
        "      total_predictions = 0   # Initialize counter for total predictions\n",
        "\n",
        "      for i in range(0, len(eval_dataset), batch_size):\n",
        "          # Get a batch of data using slicing\n",
        "          batch = eval_dataset[i : i + batch_size]\n",
        "          # Convert batch to a dictionary format\n",
        "          batch = {k: v for k, v in zip(eval_dataset.column_names, zip(*batch.values()))}\n",
        "\n",
        "          # Check if batch['input_ids'] is empty or contains invalid data\n",
        "          if not batch['input_ids'] or not all(isinstance(ids, (list, np.ndarray, jnp.ndarray)) and len(ids) > 0 for ids in batch['input_ids']):\n",
        "              continue\n",
        "\n",
        "          # Pad the input_ids and attention_mask in the batch to the maximum length\n",
        "          max_len = max(len(ids) for ids in batch['input_ids'])\n",
        "\n",
        "          # Use jnp.pad to pad the JAX arrays\n",
        "          # Convert ids to JAX array before padding if it's a list\n",
        "          batch['input_ids'] = jnp.array([jnp.pad(jnp.array(ids), (0, max_len - len(ids)), 'constant', constant_values=0) if isinstance(ids, list) else jnp.pad(ids, (0, max_len - len(ids)), 'constant', constant_values=0) for ids in batch['input_ids']])\n",
        "          batch['attention_mask'] = jnp.array([jnp.pad(jnp.array(mask), (0, max_len - len(mask)), 'constant', constant_values=0) if isinstance(mask, list) else jnp.pad(mask, (0, max_len - len(mask)), 'constant', constant_values=0) for mask in batch['attention_mask']])\n",
        "\n",
        "          batch = jax.device_put(batch, tpu_device)  # Move batch to TPU device\n",
        "\n",
        "          # Get comparison results for the batch\n",
        "          comparison_results = eval_step(state.params, batch)\n",
        "\n",
        "          # Accumulate correct and total predictions\n",
        "          correct_predictions += jnp.sum(comparison_results)\n",
        "          total_predictions += len(comparison_results)\n",
        "\n",
        "      # Calculate and return the accuracy\n",
        "      accuracy = correct_predictions / total_predictions if total_predictions > 0 else 0.0\n",
        "      return accuracy\n",
        "\n",
        "\n",
        "\n",
        "# Training Loop\n",
        "num_epochs = 50\n",
        "batch_size = 8\n",
        "num_accum_steps = 4\n",
        "\n",
        "print(\"Training...\")\n",
        "print(f\"TPU Device: {tpu_device}\")\n",
        "print(f\"Number of Epochs: {num_epochs}\")\n",
        "print(f\"Batch Size: {batch_size}\")\n",
        "print(f\"Total Training Examples: {len(tokenized_train_dataset)}\")\n",
        "print('\\n')\n",
        "\n",
        "def get_batch(dataset, start_index, batch_size):\n",
        "    end_index = min(start_index + batch_size, len(dataset))\n",
        "    batch = dataset[start_index:end_index]\n",
        "    # If the batch is empty, skip it.\n",
        "    if not batch:\n",
        "        return None\n",
        "\n",
        "    # Extract relevant fields for training.\n",
        "    input_ids = jnp.array(batch[\"input_ids\"])\n",
        "    attention_mask = jnp.array(batch[\"attention_mask\"])\n",
        "    labels = jnp.array(batch[\"label\"])\n",
        "\n",
        "    # Pad the sequences (if necessary).\n",
        "    max_len = max(len(ids) for ids in input_ids)\n",
        "    input_ids = jnp.array([jnp.pad(ids, (0, max_len - len(ids)), 'constant', constant_values=0) for ids in input_ids])\n",
        "    attention_mask = jnp.array([jnp.pad(mask, (0, max_len - len(mask)), 'constant', constant_values=0) for mask in attention_mask])\n",
        "\n",
        "    # Put the batch on the TPU device (if available).\n",
        "    if tpu_device:\n",
        "        input_ids = jax.device_put(input_ids, tpu_device)\n",
        "        attention_mask = jax.device_put(attention_mask, tpu_device)\n",
        "        labels = jax.device_put(labels, tpu_device)\n",
        "\n",
        "    return {\"input_ids\": input_ids, \"attention_mask\": attention_mask, \"label\": labels}\n",
        "\n",
        "\n",
        "for epoch in range(num_epochs):\n",
        "    for i in range(0, len(tokenized_train_dataset), batch_size):\n",
        "\n",
        "        # Get the next batch or skip if empty.\n",
        "        batch = get_batch(tokenized_train_dataset, i, batch_size)\n",
        "        if batch is None:\n",
        "            continue\n",
        "\n",
        "        # --- Training Step ---\n",
        "        state, loss = train_step(state, batch)\n",
        "\n",
        "        # --- Print Loss (if needed) ---\n",
        "        loss_host = jax.device_get(loss)\n",
        "        if i % 500 == 0:\n",
        "            loss_divided_by_10 = loss_host / 10\n",
        "            jax.debug.print(f\"Epoch: {epoch}, Batch: {i}, Loss/10: {loss_divided_by_10}\")\n",
        "        #else:\n",
        "            #jax.debug.print(f\"Epoch: {epoch}, Batch: {i}, Loss: {loss_host}\")  # Print original loss otherwise\n",
        "\n",
        "        sys.stdout.flush()\n",
        "\n",
        "        # --- Evaluation after each batch update ---\n",
        "        accuracy = evaluate(state, tokenized_eval_dataset)\n",
        "        if i % 500 == 0:\n",
        "           jax.debug.print(f\"Epoch {epoch}, Batch {i} - Evaluation Accuracy: {accuracy}\")\n",
        "\n"
      ],
      "cell_type": "code",
      "metadata": {
        "colab": {
          "base_uri": "https://localhost:8080/",
          "height": 1000,
          "referenced_widgets": [
            "1b2c8a997db34947b66fe5f460e02358",
            "0e2fdfa2833a4bdda535e180a096d5af",
            "3a4806f94e7f4060819ac00fc7e040a8",
            "c45a5eb07d3642138e97097a95332112",
            "60aad13f15774566b5142ecd5c3f1a76",
            "8fc95077da394c469398f29a34331ad7",
            "f55f07dc4e4c489a80ec755449aeb72b",
            "5a45086b999b48a3931b71cfa49b38ee",
            "154c88b4fb6e46e19402146c2cf332ed",
            "2ff9664edddf491fa46db5940488a219",
            "add14b1154614ba0a03b14e7a3e26cd7",
            "6c59340b90254641be2fc19460643a14",
            "df79568a5b7540269e3e37be985df32d",
            "bb1460eb8e254ecf806209eeed476cdd",
            "9cf53bc320464c5e875056f35c76c422",
            "664d8453532c458a9f1e8d6356fb5853",
            "138ab98c575040ec93513e19d75f0cf2",
            "2f7ff9f630114c648dbb2487d9321c7c",
            "8f92dd52123e4e51bc5eded08152992b",
            "2c96540ea68049b49548196ddabebc53",
            "0545271c9f54453e9481259655f89ae0",
            "02bfb66ad93e4a1ba902151d27b118f3",
            "33534af7671241509f1cb4108e8722fa",
            "d8a33130ecf54899a5523059af523d08",
            "a0e1b67108eb4c249f73e68de1b68e43",
            "39fa9b2a96ee4711841ec042b6d2eab3",
            "7f7ec28f493b4d5db57cbeb4f0d5b269",
            "3b2a01c4fdb04f7fb5fc37d0d6d91ce2",
            "fd7002f929464b5282dbb9cc37611754",
            "2f7089d24e044da58794af1facf60ca1",
            "e4d478e92d4e4d109456d204dc207099",
            "eb1b112b8d7a4076a141ba6bf9b3de97",
            "f8dfa0e3d79143e098e30a107af81471",
            "01795d709512497b83f7ede32c663709",
            "e772422754dd482bb1477e555d96290e",
            "fb33065526b344e880d2efba6697242b",
            "c9cdc2eeeb91473b904ef8f16866cb78",
            "07caade05ea34ee09df04580384f7cb1",
            "319bad16cf18451cb6e9e5fb62e9ffdb",
            "d4879d51111748c08aa25079f7fb0619",
            "50240b582b484ce883a723c1f46979e7",
            "9ef1dee1bd8a48b2a1335b39109f2bee",
            "7fff617f4b254fecaf9ad138c35d8367",
            "636cbc09741c4e8bb7bed589a7a1f322"
          ]
        },
        "id": "mDdeqS6ZxpWw",
        "outputId": "6f5524b6-5265-4cdb-904f-9111262cbbad"
      },
      "execution_count": null,
      "outputs": [
        {
          "output_type": "stream",
          "name": "stdout",
          "text": [
            "TPU detected!\n",
            "[2 3 4]\n"
          ]
        },
        {
          "output_type": "stream",
          "name": "stderr",
          "text": [
            "Some weights of the model checkpoint at distilbert-base-uncased were not used when initializing FlaxDistilBertForSequenceClassification: {('vocab_transform', 'kernel'), ('vocab_layer_norm', 'bias'), ('vocab_layer_norm', 'scale'), ('vocab_projector', 'bias'), ('vocab_transform', 'bias')}\n",
            "- This IS expected if you are initializing FlaxDistilBertForSequenceClassification from the checkpoint of a model trained on another task or with another architecture (e.g. initializing a BertForSequenceClassification model from a BertForPreTraining model).\n",
            "- This IS NOT expected if you are initializing FlaxDistilBertForSequenceClassification from the checkpoint of a model that you expect to be exactly identical (initializing a BertForSequenceClassification model from a BertForSequenceClassification model).\n",
            "Some weights of FlaxDistilBertForSequenceClassification were not initialized from the model checkpoint at distilbert-base-uncased and are newly initialized: {('classifier', 'bias'), ('classifier', 'kernel'), ('pre_classifier', 'bias'), ('pre_classifier', 'kernel')}\n",
            "You should probably TRAIN this model on a down-stream task to be able to use it for predictions and inference.\n"
          ]
        },
        {
          "output_type": "display_data",
          "data": {
            "text/plain": [
              "Map:   0%|          | 0/1000 [00:00<?, ? examples/s]"
            ],
            "application/vnd.jupyter.widget-view+json": {
              "version_major": 2,
              "version_minor": 0,
              "model_id": "1b2c8a997db34947b66fe5f460e02358"
            }
          },
          "metadata": {}
        },
        {
          "output_type": "display_data",
          "data": {
            "text/plain": [
              "Map:   0%|          | 0/200 [00:00<?, ? examples/s]"
            ],
            "application/vnd.jupyter.widget-view+json": {
              "version_major": 2,
              "version_minor": 0,
              "model_id": "6c59340b90254641be2fc19460643a14"
            }
          },
          "metadata": {}
        },
        {
          "output_type": "display_data",
          "data": {
            "text/plain": [
              "Map:   0%|          | 0/1000 [00:00<?, ? examples/s]"
            ],
            "application/vnd.jupyter.widget-view+json": {
              "version_major": 2,
              "version_minor": 0,
              "model_id": "33534af7671241509f1cb4108e8722fa"
            }
          },
          "metadata": {}
        },
        {
          "output_type": "display_data",
          "data": {
            "text/plain": [
              "Map:   0%|          | 0/200 [00:00<?, ? examples/s]"
            ],
            "application/vnd.jupyter.widget-view+json": {
              "version_major": 2,
              "version_minor": 0,
              "model_id": "01795d709512497b83f7ede32c663709"
            }
          },
          "metadata": {}
        },
        {
          "output_type": "stream",
          "name": "stdout",
          "text": [
            "Training...\n",
            "TPU Device: TPU_0(process=0,(0,0,0,0))\n",
            "Number of Epochs: 50\n",
            "Batch Size: 8\n",
            "Total Training Examples: 1000\n",
            "\n",
            "\n",
            "Epoch: 0, Batch: 0, Loss/10: 0.06930463016033173\n",
            "Epoch 0, Batch 0 - Evaluation Accuracy: 0.0\n",
            "Epoch: 1, Batch: 0, Loss/10: 0.06872449815273285\n",
            "Epoch 1, Batch 0 - Evaluation Accuracy: 0.0\n",
            "Epoch: 2, Batch: 0, Loss/10: 0.06950749456882477\n",
            "Epoch 2, Batch 0 - Evaluation Accuracy: 0.0\n",
            "Epoch: 3, Batch: 0, Loss/10: 0.07131718844175339\n",
            "Epoch 3, Batch 0 - Evaluation Accuracy: 0.0\n",
            "Epoch: 4, Batch: 0, Loss/10: 0.07118053734302521\n",
            "Epoch 4, Batch 0 - Evaluation Accuracy: 0.0\n",
            "Epoch: 5, Batch: 0, Loss/10: 0.07369828969240189\n",
            "Epoch 5, Batch 0 - Evaluation Accuracy: 0.0\n",
            "Epoch: 6, Batch: 0, Loss/10: 0.0715380311012268\n",
            "Epoch 6, Batch 0 - Evaluation Accuracy: 0.0\n",
            "Epoch: 7, Batch: 0, Loss/10: 0.07344922423362732\n",
            "Epoch 7, Batch 0 - Evaluation Accuracy: 0.0\n",
            "Epoch: 8, Batch: 0, Loss/10: 0.06829199939966202\n",
            "Epoch 8, Batch 0 - Evaluation Accuracy: 0.0\n",
            "Epoch: 9, Batch: 0, Loss/10: 0.06728099286556244\n",
            "Epoch 9, Batch 0 - Evaluation Accuracy: 0.0\n",
            "Epoch: 10, Batch: 0, Loss/10: 0.06771039217710495\n",
            "Epoch 10, Batch 0 - Evaluation Accuracy: 0.0\n",
            "Epoch: 11, Batch: 0, Loss/10: 0.06440819799900055\n",
            "Epoch 11, Batch 0 - Evaluation Accuracy: 0.0\n",
            "Epoch: 12, Batch: 0, Loss/10: 0.05527409166097641\n",
            "Epoch 12, Batch 0 - Evaluation Accuracy: 0.0\n",
            "Epoch: 13, Batch: 0, Loss/10: 0.04955409839749336\n",
            "Epoch 13, Batch 0 - Evaluation Accuracy: 0.0\n",
            "Epoch: 14, Batch: 0, Loss/10: 0.04774937778711319\n",
            "Epoch 14, Batch 0 - Evaluation Accuracy: 0.0\n",
            "Epoch: 15, Batch: 0, Loss/10: 0.03383217006921768\n",
            "Epoch 15, Batch 0 - Evaluation Accuracy: 0.0\n",
            "Epoch: 16, Batch: 0, Loss/10: 0.022919485345482826\n",
            "Epoch 16, Batch 0 - Evaluation Accuracy: 0.0\n",
            "Epoch: 17, Batch: 0, Loss/10: 0.01746748387813568\n",
            "Epoch 17, Batch 0 - Evaluation Accuracy: 0.0\n",
            "Epoch: 18, Batch: 0, Loss/10: 0.023254718631505966\n",
            "Epoch 18, Batch 0 - Evaluation Accuracy: 0.0\n",
            "Epoch: 19, Batch: 0, Loss/10: 0.0381598062813282\n",
            "Epoch 19, Batch 0 - Evaluation Accuracy: 0.0\n",
            "Epoch: 20, Batch: 0, Loss/10: 0.030873935669660568\n",
            "Epoch 20, Batch 0 - Evaluation Accuracy: 0.0\n",
            "Epoch: 21, Batch: 0, Loss/10: 0.0055594476871192455\n",
            "Epoch 21, Batch 0 - Evaluation Accuracy: 0.0\n",
            "Epoch: 22, Batch: 0, Loss/10: 0.0025847957003861666\n",
            "Epoch 22, Batch 0 - Evaluation Accuracy: 0.0\n",
            "Epoch: 23, Batch: 0, Loss/10: 0.0014724821085110307\n",
            "Epoch 23, Batch 0 - Evaluation Accuracy: 0.0\n",
            "Epoch: 24, Batch: 0, Loss/10: 0.0006699306541122496\n",
            "Epoch 24, Batch 0 - Evaluation Accuracy: 0.0\n",
            "Epoch: 25, Batch: 0, Loss/10: 0.0023898640647530556\n",
            "Epoch 25, Batch 0 - Evaluation Accuracy: 0.0\n",
            "Epoch: 26, Batch: 0, Loss/10: 0.0003482198226265609\n",
            "Epoch 26, Batch 0 - Evaluation Accuracy: 0.0\n",
            "Epoch: 27, Batch: 0, Loss/10: 0.003458367194980383\n",
            "Epoch 27, Batch 0 - Evaluation Accuracy: 0.0\n",
            "Epoch: 28, Batch: 0, Loss/10: 0.004932170268148184\n",
            "Epoch 28, Batch 0 - Evaluation Accuracy: 0.0\n",
            "Epoch: 29, Batch: 0, Loss/10: 0.00533260777592659\n",
            "Epoch 29, Batch 0 - Evaluation Accuracy: 0.0\n",
            "Epoch: 30, Batch: 0, Loss/10: 0.0011593649396672845\n",
            "Epoch 30, Batch 0 - Evaluation Accuracy: 0.0\n",
            "Epoch: 31, Batch: 0, Loss/10: 0.00061511475360021\n",
            "Epoch 31, Batch 0 - Evaluation Accuracy: 0.0\n",
            "Epoch: 32, Batch: 0, Loss/10: 0.00041990773752331734\n",
            "Epoch 32, Batch 0 - Evaluation Accuracy: 0.0\n",
            "Epoch: 33, Batch: 0, Loss/10: 0.00017793993174564093\n",
            "Epoch 33, Batch 0 - Evaluation Accuracy: 0.0\n",
            "Epoch: 34, Batch: 0, Loss/10: 8.880805398803204e-05\n",
            "Epoch 34, Batch 0 - Evaluation Accuracy: 0.0\n",
            "Epoch: 35, Batch: 0, Loss/10: 7.167150761233643e-05\n",
            "Epoch 35, Batch 0 - Evaluation Accuracy: 0.0\n",
            "Epoch: 36, Batch: 0, Loss/10: 5.352406878955662e-05\n",
            "Epoch 36, Batch 0 - Evaluation Accuracy: 0.0\n",
            "Epoch: 37, Batch: 0, Loss/10: 4.112247916054912e-05\n",
            "Epoch 37, Batch 0 - Evaluation Accuracy: 0.0\n",
            "Epoch: 38, Batch: 0, Loss/10: 3.5360986657906324e-05\n",
            "Epoch 38, Batch 0 - Evaluation Accuracy: 0.0\n",
            "Epoch: 39, Batch: 0, Loss/10: 2.9950690077384934e-05\n",
            "Epoch 39, Batch 0 - Evaluation Accuracy: 0.0\n",
            "Epoch: 40, Batch: 0, Loss/10: 2.5797886337386444e-05\n",
            "Epoch 40, Batch 0 - Evaluation Accuracy: 0.0\n",
            "Epoch: 41, Batch: 0, Loss/10: 2.244481220259331e-05\n",
            "Epoch 41, Batch 0 - Evaluation Accuracy: 0.0\n",
            "Epoch: 42, Batch: 0, Loss/10: 1.9653592971735634e-05\n",
            "Epoch 42, Batch 0 - Evaluation Accuracy: 0.0\n",
            "Epoch: 43, Batch: 0, Loss/10: 1.740937659633346e-05\n",
            "Epoch 43, Batch 0 - Evaluation Accuracy: 0.0\n",
            "Epoch: 44, Batch: 0, Loss/10: 1.5714835171820596e-05\n",
            "Epoch 44, Batch 0 - Evaluation Accuracy: 0.0\n",
            "Epoch: 45, Batch: 0, Loss/10: 1.3998629583511502e-05\n",
            "Epoch 45, Batch 0 - Evaluation Accuracy: 0.0\n",
            "Epoch: 46, Batch: 0, Loss/10: 1.2680242434726097e-05\n",
            "Epoch 46, Batch 0 - Evaluation Accuracy: 0.0\n",
            "Epoch: 47, Batch: 0, Loss/10: 1.1500101209094282e-05\n",
            "Epoch 47, Batch 0 - Evaluation Accuracy: 0.0\n",
            "Epoch: 48, Batch: 0, Loss/10: 1.034104025166016e-05\n",
            "Epoch 48, Batch 0 - Evaluation Accuracy: 0.0\n",
            "Epoch: 49, Batch: 0, Loss/10: 9.362438504467718e-06\n",
            "Epoch 49, Batch 0 - Evaluation Accuracy: 0.0\n"
          ]
        }
      ]
    },
    {
      "cell_type": "code",
      "source": [
        "!pip install geopy -q"
      ],
      "metadata": {
        "id": "DMBk8BjV02kb"
      },
      "execution_count": 19,
      "outputs": []
    },
    {
      "source": [
        "import random\n",
        "from datasets import Dataset\n",
        "from geopy.geocoders import Nominatim\n",
        "from geopy.distance import geodesic\n",
        "from tqdm import tqdm  # Import tqdm for the progress bar\n",
        "\n",
        "\n",
        "# Define necessary lists\n",
        "airports = [\"JFK\", \"LAX\", \"LGA\", \"BOS\", \"SFO\", \"ORD\", \"DFW\", \"ATL\", \"SEA\", \"MIA\", \"DEN\", \"IAH\", \"MSP\", \"DTW\", \"PHX\", \"CLT\", \"LAS\", \"MCO\", \"EWR\", \"PHL\"]\n",
        "aircraft_types = [\"Boeing 747\", \"Airbus A320\", \"Boeing 777\", \"Boeing 737\", \"Airbus A330\", \"Boeing 757\", \"Airbus A321\", \"Airbus A319\", \"Boeing 787\", \"Embraer E190\"]\n",
        "weather_conditions = [\"Clear\", \"Cloudy\", \"Rainy\", \"Snowy\", \"Windy\"]\n",
        "\n",
        "# Initialize geolocator\n",
        "geolocator = Nominatim(user_agent=\"flight_planner\", timeout=10)\n",
        "\n",
        "def create_flight_data_point(origin, destination, departure_date, aircraft, weather):\n",
        "    \"\"\"Creates a flight data point with distance category as the label.\"\"\"\n",
        "    try:\n",
        "        location_origin = geolocator.geocode(origin)\n",
        "        location_destination = geolocator.geocode(destination)\n",
        "\n",
        "        if location_origin and location_destination:\n",
        "            # Calculate distance using geodesic\n",
        "            distance = geodesic(\n",
        "                (location_origin.latitude, location_origin.longitude),\n",
        "                (location_destination.latitude, location_destination.longitude)\n",
        "            ).kilometers\n",
        "\n",
        "            # Categorize distance\n",
        "            if distance < 500:\n",
        "                distance_category = \"short\"\n",
        "            elif distance < 1500:\n",
        "                distance_category = \"medium\"\n",
        "            else:\n",
        "                distance_category = \"long\"\n",
        "\n",
        "            # Modified input text:\n",
        "            return {\n",
        "                \"input\": f\"Calculate the distance from {origin} to {destination}. Departure: {departure_date}, Aircraft: {aircraft}, Weather: {weather}\",\n",
        "                \"label\": distance_category  # Store distance category as the label\n",
        "            }\n",
        "        else:\n",
        "            print(f\"Could not find coordinates for {origin} or {destination}\")\n",
        "            return None\n",
        "\n",
        "    except Exception as e:\n",
        "        print(f\"Error generating flight data point: {e}\")\n",
        "        return None\n",
        "\n",
        "# --- Dataset Creation Loop ---\n",
        "flight_data = []\n",
        "number_routes = 10000  # You can adjust this number\n",
        "\n",
        "# Wrap the loop with tqdm to create a progress bar\n",
        "for _ in tqdm(range(number_routes), desc=\"Generating flight data\"):\n",
        "    origin = random.choice(airports)\n",
        "    destination = random.choice(airports)\n",
        "    while origin == destination:\n",
        "        destination = random.choice(airports)\n",
        "    departure_date = f\"2024-{random.randint(1, 12):02}-{random.randint(1, 28):02}\"\n",
        "    aircraft = random.choice(aircraft_types)\n",
        "    weather = random.choice(weather_conditions)\n",
        "\n",
        "    data_point = create_flight_data_point(origin, destination, departure_date, aircraft, weather)\n",
        "    if data_point:\n",
        "        flight_data.append(data_point)\n",
        "\n",
        "# --- Create the Dataset ---\n",
        "dataset = Dataset.from_list(flight_data)\n",
        "print(dataset)\n",
        "## 127/10000\n"
      ],
      "cell_type": "code",
      "metadata": {
        "id": "_ZP0KvBQ8JEf"
      },
      "execution_count": null,
      "outputs": []
    },
    {
      "cell_type": "code",
      "source": [
        "dataset = Dataset.from_list(flight_data)\n",
        "dataset.save_to_disk(\"flight_dataset_tpu\")"
      ],
      "metadata": {
        "colab": {
          "base_uri": "https://localhost:8080/",
          "height": 49,
          "referenced_widgets": [
            "bc3e504db431426e8b9885e2ff498960",
            "45b1c89693d44dbe919bba6396bc8fe4",
            "705cc11a78804a8c9307778eec207187",
            "78e70219f41d4815bce90c26677ebc0f",
            "43586876e43448b38e87b333c58b4f42",
            "4a5eb4802bad41f193ab6c8a3002b845",
            "03c56a07485748fe8194a33bc2e00e65",
            "11d3ddd448a04b868ea6807f852de15f",
            "ca0a92d476b14c9788fb62517fe0dac7",
            "3ab7b3b51056410a8648905de945403d",
            "d02488bea79a4fd69af8e8be3e7ea9bb"
          ]
        },
        "id": "rjNdS6bVYS1J",
        "outputId": "ac6a2583-07c3-4b11-d88c-1156a98b1567"
      },
      "execution_count": 5,
      "outputs": [
        {
          "output_type": "display_data",
          "data": {
            "text/plain": [
              "Saving the dataset (0/1 shards):   0%|          | 0/1127 [00:00<?, ? examples/s]"
            ],
            "application/vnd.jupyter.widget-view+json": {
              "version_major": 2,
              "version_minor": 0,
              "model_id": "bc3e504db431426e8b9885e2ff498960"
            }
          },
          "metadata": {}
        }
      ]
    },
    {
      "cell_type": "code",
      "source": [
        "dataset.save_to_disk(\"flight_dataset_tpu\")\n",
        "\n",
        "from datasets import load_from_disk\n",
        "dataset2 = load_from_disk(\"flight_dataset_tpu\")"
      ],
      "metadata": {
        "colab": {
          "base_uri": "https://localhost:8080/",
          "height": 49,
          "referenced_widgets": [
            "954d61c89bc948fca36aa4a9b98f574f",
            "dee0d5b5f0e74710a61149c3bdd7f1eb",
            "1408fca08c8643fc85a7648c4db2a90e",
            "de9dd6fad462497ba6754fa18aea4761",
            "00d48ad99c084dfca577272e7980e264",
            "9b271c5324b34e6d9b8b4904456db306",
            "c1564d9e01f640468bba661bc9bedc5a",
            "842fdde6c07d4903a774fda5ca8eba79",
            "3a8fdad0d7794720911acbe59aefeaf0",
            "2dd3ebdcdb584623a8322b74fb5d4006",
            "de6232ccb24843b889b86296f0ab17b4"
          ]
        },
        "id": "aoDdbrR0UBaN",
        "outputId": "3a5bae5c-007a-4e9e-fe54-263fbf4c4d89"
      },
      "execution_count": 6,
      "outputs": [
        {
          "output_type": "display_data",
          "data": {
            "text/plain": [
              "Saving the dataset (0/1 shards):   0%|          | 0/1127 [00:00<?, ? examples/s]"
            ],
            "application/vnd.jupyter.widget-view+json": {
              "version_major": 2,
              "version_minor": 0,
              "model_id": "954d61c89bc948fca36aa4a9b98f574f"
            }
          },
          "metadata": {}
        }
      ]
    },
    {
      "cell_type": "code",
      "source": [
        "dataset2"
      ],
      "metadata": {
        "colab": {
          "base_uri": "https://localhost:8080/"
        },
        "id": "e7ILU5fHY7Ss",
        "outputId": "8a5b5213-5fb8-45b1-b2dd-371c98796312"
      },
      "execution_count": 7,
      "outputs": [
        {
          "output_type": "execute_result",
          "data": {
            "text/plain": [
              "Dataset({\n",
              "    features: ['input', 'label'],\n",
              "    num_rows: 1127\n",
              "})"
            ]
          },
          "metadata": {},
          "execution_count": 7
        }
      ]
    },
    {
      "cell_type": "code",
      "source": [
        "!pip install colab-env -q\n",
        "import colab_env\n",
        "import os\n",
        "!cp -pr /content/flight_dataset_tpu /content/gdrive/MyDrive/datasets/"
      ],
      "metadata": {
        "id": "i6nw32EyZB5X"
      },
      "execution_count": 9,
      "outputs": []
    },
    {
      "cell_type": "code",
      "source": [
        "dataset3 = load_from_disk(\"/content/gdrive/MyDrive/datasets/flight_dataset_tpu\")"
      ],
      "metadata": {
        "id": "UhwHrIgUZ0E0"
      },
      "execution_count": 10,
      "outputs": []
    },
    {
      "cell_type": "code",
      "source": [
        "dataset3"
      ],
      "metadata": {
        "id": "ZgGEkgVjZ_mk"
      },
      "execution_count": null,
      "outputs": []
    },
    {
      "source": [
        "!pip install flax --quiet\n",
        "!pip install --upgrade transformers -q\n",
        "!pip install datasets evaluate -q\n",
        "\n",
        "\n",
        "from typing import Dict, Any  # Import Any from typing\n",
        "import random\n",
        "from datasets import Dataset\n",
        "from geopy.geocoders import Nominatim\n",
        "from geopy.distance import geodesic\n",
        "from tqdm import tqdm  # Import tqdm for the progress bar\n",
        "\n",
        "import warnings\n",
        "warnings.filterwarnings(\"ignore\", message=\"You seem to be using the pipel\")\n",
        "\n",
        "import jax\n",
        "import jax.numpy as jnp\n",
        "from transformers import AutoTokenizer, FlaxAutoModelForSequenceClassification\n",
        "from datasets import load_from_disk\n",
        "from datasets import Dataset\n",
        "import evaluate\n",
        "import optax\n",
        "import numpy as np\n",
        "from flax.training import train_state\n",
        "\n",
        "# TPU Detection and Device Assignment\n",
        "try:\n",
        "    tpu_device = jax.devices(\"tpu\")[0]  # Get the first TPU device\n",
        "    USE_TPU = True\n",
        "    print(\"TPU detected!\")\n",
        "except RuntimeError:\n",
        "    tpu_device = None  # If no TPU is found, set tpu_device to None\n",
        "    USE_TPU = False\n",
        "    print(\"Warning: TPU not found. Code will run on CPU or GPU.\")\n",
        "\n",
        "def simple_op(x):\n",
        "    return x + 1\n",
        "\n",
        "x = jnp.array([1, 2, 3])\n",
        "x_tpu = jax.device_put(x, tpu_device)\n",
        "result = simple_op(x_tpu).block_until_ready()\n",
        "\n",
        "print(result)\n",
        "\n",
        "\n",
        "# Model and Tokenizer\n",
        "model_name = \"distilbert-base-uncased\"\n",
        "tokenizer = AutoTokenizer.from_pretrained(model_name)\n",
        "model = FlaxAutoModelForSequenceClassification.from_pretrained(model_name, num_labels=3)\n",
        "\n",
        "# Create a label mapping (string to integer)\n",
        "label_mapping = {\n",
        "    \"short\": 0,\n",
        "    \"medium\": 1,\n",
        "    \"long\": 2\n",
        "}\n",
        "\n",
        "# Tokenize and format the data\n",
        "def tokenize_function(examples):\n",
        "    # convert string labels to integers using label_mapping\n",
        "    examples[\"labels\"] = [label_mapping[label] for label in examples[\"label\"]]\n",
        "    return tokenizer(examples[\"input\"], padding=\"max_length\", truncation=True)\n",
        "\n",
        "tokenized_datasets = dataset.map(tokenize_function, batched=True)\n",
        "tokenized_datasets = tokenized_datasets.remove_columns([\"input\", \"label\"])\n",
        "tokenized_datasets.set_format(\"jax\", columns=[\"input_ids\", \"attention_mask\", \"labels\"])\n",
        "\n",
        "# Training State with PRNG Key\n",
        "key = jax.random.PRNGKey(0)  # Initialize a PRNG key\n",
        "\n",
        "class TrainState(train_state.TrainState):\n",
        "    key: jax.Array\n",
        "    #apply_fn_with_dropout: Any  # Add type hint for apply_fn_with_dropout\n",
        "\n",
        "def create_train_state(model, tx, key):\n",
        "    return TrainState.create(\n",
        "        apply_fn=model.__call__,\n",
        "        params=model.params,\n",
        "        tx=tx,\n",
        "        key=key,\n",
        "        # Remove apply_fn_with_dropout:\n",
        "        # apply_fn_with_dropout=apply_fn_with_dropout\n",
        "    )\n",
        "\n",
        "learning_rate = 2e-5\n",
        "optimizer = optax.adamw(learning_rate)\n",
        "state = create_train_state(model, optimizer, key)\n",
        "\n",
        "# Loss Function\n",
        "def loss_fn(params, batch, dropout_key):\n",
        "    labels_batch = batch.pop(\"labels\")\n",
        "\n",
        "    # Apply dropout using the dropout key\n",
        "    # Removed the \"method\" argument\n",
        "    logits = model(**batch, params=params, train=True, dropout_rng=dropout_key).logits\n",
        "\n",
        "    loss = optax.softmax_cross_entropy_with_integer_labels(logits=logits, labels=labels_batch).mean()\n",
        "    return loss\n",
        "\n",
        "# Training Step (Modified)\n",
        "@jax.jit\n",
        "def train_step(state, batch):\n",
        "    key, dropout_key = jax.random.split(state.key)\n",
        "\n",
        "    def loss_fn_wrapped(params):\n",
        "        return loss_fn(params, batch, dropout_key)\n",
        "\n",
        "    loss_value, grads = jax.value_and_grad(loss_fn_wrapped)(state.params)\n",
        "    state = state.apply_gradients(grads=grads)\n",
        "    return state.replace(key=key), loss_value\n",
        "\n",
        "def eval_step(params, batch):\n",
        "    batch = {k: v for k, v in batch.items() if k != \"labels\"}\n",
        "\n",
        "    logits = model(**batch, params=params, train=False).logits\n",
        "    return logits.argmax(-1)\n",
        "\n",
        "# Split the dataset into train and eval\n",
        "train_testvalid = tokenized_datasets.train_test_split(test_size=0.2, seed=42)\n",
        "train_dataset = train_testvalid[\"train\"]\n",
        "testvalid_dataset = train_testvalid[\"test\"]\n",
        "\n",
        "test_valid = testvalid_dataset.train_test_split(test_size=0.5, seed=42)\n",
        "eval_dataset = test_valid[\"test\"]\n",
        "test_dataset = test_valid[\"train\"]\n",
        "\n",
        "small_train_dataset = train_dataset.shuffle(seed=42).select(range(800))\n",
        "small_eval_dataset = eval_dataset.shuffle(seed=42).select(range(113))\n",
        "\n",
        "# Training Loop\n",
        "num_epochs = 5\n",
        "batch_size = 8\n",
        "\n",
        "print('\\n')\n",
        "print(\"Training...\")\n",
        "print(f\"TPU Device: {tpu_device}\")\n",
        "print(f\"Number of Epochs: {num_epochs}\")\n",
        "print(f\"Batch Size: {batch_size}\")\n",
        "print(f\"Total Training Examples: {len(small_train_dataset)}\")\n",
        "print('\\n')\n",
        "\n",
        "for epoch in range(num_epochs):\n",
        "    # Train\n",
        "    for i in range(0, len(small_train_dataset), batch_size):\n",
        "        batch = small_train_dataset[i: i + batch_size]\n",
        "        state, loss = train_step(state, batch)\n",
        "        if i % 100 == 0:\n",
        "            print(f\"Epoch {epoch} - Batch {i} - Loss: {loss}\")\n",
        "        #print(f\"Epoch {epoch} - Batch {i} - Loss: {loss}\")\n",
        "\n",
        "    # Eval\n",
        "    all_predictions = []\n",
        "    all_labels = []\n",
        "\n",
        "    for i in range(0, len(small_eval_dataset), batch_size):\n",
        "        batch = small_eval_dataset[i: i + batch_size]\n",
        "        predictions = eval_step(state.params, batch)\n",
        "        all_predictions.extend(predictions)\n",
        "        all_labels.extend(batch[\"labels\"])\n",
        "\n",
        "    accuracy = evaluate.load(\"accuracy\")\n",
        "    acc = accuracy.compute(predictions=all_predictions, references=all_labels)\n",
        "    if epoch % 1 == 0:\n",
        "       print('\\n')\n",
        "       print(f\"Epoch {epoch} - Accuracy: {acc}\")\n",
        "       print('\\n')"
      ],
      "cell_type": "code",
      "metadata": {
        "colab": {
          "base_uri": "https://localhost:8080/",
          "height": 781,
          "referenced_widgets": [
            "7997ef3c7d804c298f6edda713aac41e",
            "67f61c6404a04e59ae8a45caf61970d6",
            "a5cea9cc1d174e6a920538ff93d3a408",
            "0cd42a04fe12438dab24316c9c168182",
            "7366a671afd3429fb04210cbd012115a",
            "742d8263cf0241d39621ed638963a044",
            "fe366075d6f948bba676ab3a72e072c3",
            "405d328c1b5d4bf28cfb37a9f7d6a2d6",
            "7b51b0e9588b42489918e3a2be3f4a86",
            "af828fdf678440b4a3d9fa2ac29505e4",
            "df525633598a41f5b0fcf4b57644cb95"
          ]
        },
        "id": "XmtfLF98EFNo",
        "outputId": "a2254a44-6ad4-4b88-9b81-7c53bf7d56b5"
      },
      "execution_count": 16,
      "outputs": [
        {
          "output_type": "stream",
          "name": "stdout",
          "text": [
            "TPU detected!\n",
            "[2 3 4]\n"
          ]
        },
        {
          "output_type": "stream",
          "name": "stderr",
          "text": [
            "Some weights of the model checkpoint at distilbert-base-uncased were not used when initializing FlaxDistilBertForSequenceClassification: {('vocab_transform', 'kernel'), ('vocab_projector', 'bias'), ('vocab_layer_norm', 'bias'), ('vocab_transform', 'bias'), ('vocab_layer_norm', 'scale')}\n",
            "- This IS expected if you are initializing FlaxDistilBertForSequenceClassification from the checkpoint of a model trained on another task or with another architecture (e.g. initializing a BertForSequenceClassification model from a BertForPreTraining model).\n",
            "- This IS NOT expected if you are initializing FlaxDistilBertForSequenceClassification from the checkpoint of a model that you expect to be exactly identical (initializing a BertForSequenceClassification model from a BertForSequenceClassification model).\n",
            "Some weights of FlaxDistilBertForSequenceClassification were not initialized from the model checkpoint at distilbert-base-uncased and are newly initialized: {('classifier', 'bias'), ('pre_classifier', 'kernel'), ('classifier', 'kernel'), ('pre_classifier', 'bias')}\n",
            "You should probably TRAIN this model on a down-stream task to be able to use it for predictions and inference.\n"
          ]
        },
        {
          "output_type": "display_data",
          "data": {
            "text/plain": [
              "Map:   0%|          | 0/1127 [00:00<?, ? examples/s]"
            ],
            "application/vnd.jupyter.widget-view+json": {
              "version_major": 2,
              "version_minor": 0,
              "model_id": "7997ef3c7d804c298f6edda713aac41e"
            }
          },
          "metadata": {}
        },
        {
          "output_type": "stream",
          "name": "stdout",
          "text": [
            "\n",
            "\n",
            "Training...\n",
            "TPU Device: TPU_0(process=0,(0,0,0,0))\n",
            "Number of Epochs: 5\n",
            "Batch Size: 8\n",
            "Total Training Examples: 800\n",
            "\n",
            "\n",
            "Epoch 0 - Batch 0 - Loss: 1.0353548526763916\n",
            "Epoch 0 - Batch 200 - Loss: 0.7825049161911011\n",
            "Epoch 0 - Batch 400 - Loss: 0.7804630994796753\n",
            "Epoch 0 - Batch 600 - Loss: 0.5897069573402405\n",
            "Epoch 0 - Accuracy: {'accuracy': 0.7964601769911505}\n",
            "Epoch 1 - Batch 0 - Loss: 0.4925644099712372\n",
            "Epoch 1 - Batch 200 - Loss: 0.2727748155593872\n",
            "Epoch 1 - Batch 400 - Loss: 0.6110062003135681\n",
            "Epoch 1 - Batch 600 - Loss: 0.26555338501930237\n",
            "Epoch 1 - Accuracy: {'accuracy': 0.8407079646017699}\n",
            "Epoch 2 - Batch 0 - Loss: 0.3579442501068115\n",
            "Epoch 2 - Batch 200 - Loss: 0.20856547355651855\n",
            "Epoch 2 - Batch 400 - Loss: 0.4017004668712616\n",
            "Epoch 2 - Batch 600 - Loss: 0.1882483810186386\n",
            "Epoch 2 - Accuracy: {'accuracy': 0.8938053097345132}\n",
            "Epoch 3 - Batch 0 - Loss: 0.12177985906600952\n",
            "Epoch 3 - Batch 200 - Loss: 0.2199835479259491\n",
            "Epoch 3 - Batch 400 - Loss: 0.14725062251091003\n",
            "Epoch 3 - Batch 600 - Loss: 0.08387138694524765\n",
            "Epoch 3 - Accuracy: {'accuracy': 0.8761061946902655}\n",
            "Epoch 4 - Batch 0 - Loss: 0.06625376641750336\n",
            "Epoch 4 - Batch 200 - Loss: 0.04946315661072731\n",
            "Epoch 4 - Batch 400 - Loss: 0.11955584585666656\n",
            "Epoch 4 - Batch 600 - Loss: 0.09897400438785553\n",
            "Epoch 4 - Accuracy: {'accuracy': 0.9646017699115044}\n"
          ]
        }
      ]
    },
    {
      "cell_type": "markdown",
      "source": [],
      "metadata": {
        "id": "LtM6GjMjNJY8"
      }
    },
    {
      "cell_type": "code",
      "source": [
        "dataset"
      ],
      "metadata": {
        "colab": {
          "base_uri": "https://localhost:8080/"
        },
        "id": "w2gXaUje8yh2",
        "outputId": "e1c84228-39ab-45ce-90e1-a08e2af15c55"
      },
      "execution_count": 43,
      "outputs": [
        {
          "output_type": "execute_result",
          "data": {
            "text/plain": [
              "Dataset({\n",
              "    features: ['input', 'label'],\n",
              "    num_rows: 100\n",
              "})"
            ]
          },
          "metadata": {},
          "execution_count": 43
        }
      ]
    }
  ],
  "metadata": {
    "colab": {
      "collapsed_sections": [
        "OTfoXNnxFYDJ"
      ],
      "gpuType": "V28",
      "provenance": [],
      "machine_shape": "hm",
      "include_colab_link": true
    },
    "kernelspec": {
      "display_name": "Python 3",
      "name": "python3"
    },
    "accelerator": "TPU",
    "widgets": {
      "application/vnd.jupyter.widget-state+json": {
        "1b2c8a997db34947b66fe5f460e02358": {
          "model_module": "@jupyter-widgets/controls",
          "model_name": "HBoxModel",
          "model_module_version": "1.5.0",
          "state": {
            "_dom_classes": [],
            "_model_module": "@jupyter-widgets/controls",
            "_model_module_version": "1.5.0",
            "_model_name": "HBoxModel",
            "_view_count": null,
            "_view_module": "@jupyter-widgets/controls",
            "_view_module_version": "1.5.0",
            "_view_name": "HBoxView",
            "box_style": "",
            "children": [
              "IPY_MODEL_0e2fdfa2833a4bdda535e180a096d5af",
              "IPY_MODEL_3a4806f94e7f4060819ac00fc7e040a8",
              "IPY_MODEL_c45a5eb07d3642138e97097a95332112"
            ],
            "layout": "IPY_MODEL_60aad13f15774566b5142ecd5c3f1a76"
          }
        },
        "0e2fdfa2833a4bdda535e180a096d5af": {
          "model_module": "@jupyter-widgets/controls",
          "model_name": "HTMLModel",
          "model_module_version": "1.5.0",
          "state": {
            "_dom_classes": [],
            "_model_module": "@jupyter-widgets/controls",
            "_model_module_version": "1.5.0",
            "_model_name": "HTMLModel",
            "_view_count": null,
            "_view_module": "@jupyter-widgets/controls",
            "_view_module_version": "1.5.0",
            "_view_name": "HTMLView",
            "description": "",
            "description_tooltip": null,
            "layout": "IPY_MODEL_8fc95077da394c469398f29a34331ad7",
            "placeholder": "​",
            "style": "IPY_MODEL_f55f07dc4e4c489a80ec755449aeb72b",
            "value": "Map: 100%"
          }
        },
        "3a4806f94e7f4060819ac00fc7e040a8": {
          "model_module": "@jupyter-widgets/controls",
          "model_name": "FloatProgressModel",
          "model_module_version": "1.5.0",
          "state": {
            "_dom_classes": [],
            "_model_module": "@jupyter-widgets/controls",
            "_model_module_version": "1.5.0",
            "_model_name": "FloatProgressModel",
            "_view_count": null,
            "_view_module": "@jupyter-widgets/controls",
            "_view_module_version": "1.5.0",
            "_view_name": "ProgressView",
            "bar_style": "success",
            "description": "",
            "description_tooltip": null,
            "layout": "IPY_MODEL_5a45086b999b48a3931b71cfa49b38ee",
            "max": 1000,
            "min": 0,
            "orientation": "horizontal",
            "style": "IPY_MODEL_154c88b4fb6e46e19402146c2cf332ed",
            "value": 1000
          }
        },
        "c45a5eb07d3642138e97097a95332112": {
          "model_module": "@jupyter-widgets/controls",
          "model_name": "HTMLModel",
          "model_module_version": "1.5.0",
          "state": {
            "_dom_classes": [],
            "_model_module": "@jupyter-widgets/controls",
            "_model_module_version": "1.5.0",
            "_model_name": "HTMLModel",
            "_view_count": null,
            "_view_module": "@jupyter-widgets/controls",
            "_view_module_version": "1.5.0",
            "_view_name": "HTMLView",
            "description": "",
            "description_tooltip": null,
            "layout": "IPY_MODEL_2ff9664edddf491fa46db5940488a219",
            "placeholder": "​",
            "style": "IPY_MODEL_add14b1154614ba0a03b14e7a3e26cd7",
            "value": " 1000/1000 [00:00&lt;00:00, 11171.70 examples/s]"
          }
        },
        "60aad13f15774566b5142ecd5c3f1a76": {
          "model_module": "@jupyter-widgets/base",
          "model_name": "LayoutModel",
          "model_module_version": "1.2.0",
          "state": {
            "_model_module": "@jupyter-widgets/base",
            "_model_module_version": "1.2.0",
            "_model_name": "LayoutModel",
            "_view_count": null,
            "_view_module": "@jupyter-widgets/base",
            "_view_module_version": "1.2.0",
            "_view_name": "LayoutView",
            "align_content": null,
            "align_items": null,
            "align_self": null,
            "border": null,
            "bottom": null,
            "display": null,
            "flex": null,
            "flex_flow": null,
            "grid_area": null,
            "grid_auto_columns": null,
            "grid_auto_flow": null,
            "grid_auto_rows": null,
            "grid_column": null,
            "grid_gap": null,
            "grid_row": null,
            "grid_template_areas": null,
            "grid_template_columns": null,
            "grid_template_rows": null,
            "height": null,
            "justify_content": null,
            "justify_items": null,
            "left": null,
            "margin": null,
            "max_height": null,
            "max_width": null,
            "min_height": null,
            "min_width": null,
            "object_fit": null,
            "object_position": null,
            "order": null,
            "overflow": null,
            "overflow_x": null,
            "overflow_y": null,
            "padding": null,
            "right": null,
            "top": null,
            "visibility": null,
            "width": null
          }
        },
        "8fc95077da394c469398f29a34331ad7": {
          "model_module": "@jupyter-widgets/base",
          "model_name": "LayoutModel",
          "model_module_version": "1.2.0",
          "state": {
            "_model_module": "@jupyter-widgets/base",
            "_model_module_version": "1.2.0",
            "_model_name": "LayoutModel",
            "_view_count": null,
            "_view_module": "@jupyter-widgets/base",
            "_view_module_version": "1.2.0",
            "_view_name": "LayoutView",
            "align_content": null,
            "align_items": null,
            "align_self": null,
            "border": null,
            "bottom": null,
            "display": null,
            "flex": null,
            "flex_flow": null,
            "grid_area": null,
            "grid_auto_columns": null,
            "grid_auto_flow": null,
            "grid_auto_rows": null,
            "grid_column": null,
            "grid_gap": null,
            "grid_row": null,
            "grid_template_areas": null,
            "grid_template_columns": null,
            "grid_template_rows": null,
            "height": null,
            "justify_content": null,
            "justify_items": null,
            "left": null,
            "margin": null,
            "max_height": null,
            "max_width": null,
            "min_height": null,
            "min_width": null,
            "object_fit": null,
            "object_position": null,
            "order": null,
            "overflow": null,
            "overflow_x": null,
            "overflow_y": null,
            "padding": null,
            "right": null,
            "top": null,
            "visibility": null,
            "width": null
          }
        },
        "f55f07dc4e4c489a80ec755449aeb72b": {
          "model_module": "@jupyter-widgets/controls",
          "model_name": "DescriptionStyleModel",
          "model_module_version": "1.5.0",
          "state": {
            "_model_module": "@jupyter-widgets/controls",
            "_model_module_version": "1.5.0",
            "_model_name": "DescriptionStyleModel",
            "_view_count": null,
            "_view_module": "@jupyter-widgets/base",
            "_view_module_version": "1.2.0",
            "_view_name": "StyleView",
            "description_width": ""
          }
        },
        "5a45086b999b48a3931b71cfa49b38ee": {
          "model_module": "@jupyter-widgets/base",
          "model_name": "LayoutModel",
          "model_module_version": "1.2.0",
          "state": {
            "_model_module": "@jupyter-widgets/base",
            "_model_module_version": "1.2.0",
            "_model_name": "LayoutModel",
            "_view_count": null,
            "_view_module": "@jupyter-widgets/base",
            "_view_module_version": "1.2.0",
            "_view_name": "LayoutView",
            "align_content": null,
            "align_items": null,
            "align_self": null,
            "border": null,
            "bottom": null,
            "display": null,
            "flex": null,
            "flex_flow": null,
            "grid_area": null,
            "grid_auto_columns": null,
            "grid_auto_flow": null,
            "grid_auto_rows": null,
            "grid_column": null,
            "grid_gap": null,
            "grid_row": null,
            "grid_template_areas": null,
            "grid_template_columns": null,
            "grid_template_rows": null,
            "height": null,
            "justify_content": null,
            "justify_items": null,
            "left": null,
            "margin": null,
            "max_height": null,
            "max_width": null,
            "min_height": null,
            "min_width": null,
            "object_fit": null,
            "object_position": null,
            "order": null,
            "overflow": null,
            "overflow_x": null,
            "overflow_y": null,
            "padding": null,
            "right": null,
            "top": null,
            "visibility": null,
            "width": null
          }
        },
        "154c88b4fb6e46e19402146c2cf332ed": {
          "model_module": "@jupyter-widgets/controls",
          "model_name": "ProgressStyleModel",
          "model_module_version": "1.5.0",
          "state": {
            "_model_module": "@jupyter-widgets/controls",
            "_model_module_version": "1.5.0",
            "_model_name": "ProgressStyleModel",
            "_view_count": null,
            "_view_module": "@jupyter-widgets/base",
            "_view_module_version": "1.2.0",
            "_view_name": "StyleView",
            "bar_color": null,
            "description_width": ""
          }
        },
        "2ff9664edddf491fa46db5940488a219": {
          "model_module": "@jupyter-widgets/base",
          "model_name": "LayoutModel",
          "model_module_version": "1.2.0",
          "state": {
            "_model_module": "@jupyter-widgets/base",
            "_model_module_version": "1.2.0",
            "_model_name": "LayoutModel",
            "_view_count": null,
            "_view_module": "@jupyter-widgets/base",
            "_view_module_version": "1.2.0",
            "_view_name": "LayoutView",
            "align_content": null,
            "align_items": null,
            "align_self": null,
            "border": null,
            "bottom": null,
            "display": null,
            "flex": null,
            "flex_flow": null,
            "grid_area": null,
            "grid_auto_columns": null,
            "grid_auto_flow": null,
            "grid_auto_rows": null,
            "grid_column": null,
            "grid_gap": null,
            "grid_row": null,
            "grid_template_areas": null,
            "grid_template_columns": null,
            "grid_template_rows": null,
            "height": null,
            "justify_content": null,
            "justify_items": null,
            "left": null,
            "margin": null,
            "max_height": null,
            "max_width": null,
            "min_height": null,
            "min_width": null,
            "object_fit": null,
            "object_position": null,
            "order": null,
            "overflow": null,
            "overflow_x": null,
            "overflow_y": null,
            "padding": null,
            "right": null,
            "top": null,
            "visibility": null,
            "width": null
          }
        },
        "add14b1154614ba0a03b14e7a3e26cd7": {
          "model_module": "@jupyter-widgets/controls",
          "model_name": "DescriptionStyleModel",
          "model_module_version": "1.5.0",
          "state": {
            "_model_module": "@jupyter-widgets/controls",
            "_model_module_version": "1.5.0",
            "_model_name": "DescriptionStyleModel",
            "_view_count": null,
            "_view_module": "@jupyter-widgets/base",
            "_view_module_version": "1.2.0",
            "_view_name": "StyleView",
            "description_width": ""
          }
        },
        "6c59340b90254641be2fc19460643a14": {
          "model_module": "@jupyter-widgets/controls",
          "model_name": "HBoxModel",
          "model_module_version": "1.5.0",
          "state": {
            "_dom_classes": [],
            "_model_module": "@jupyter-widgets/controls",
            "_model_module_version": "1.5.0",
            "_model_name": "HBoxModel",
            "_view_count": null,
            "_view_module": "@jupyter-widgets/controls",
            "_view_module_version": "1.5.0",
            "_view_name": "HBoxView",
            "box_style": "",
            "children": [
              "IPY_MODEL_df79568a5b7540269e3e37be985df32d",
              "IPY_MODEL_bb1460eb8e254ecf806209eeed476cdd",
              "IPY_MODEL_9cf53bc320464c5e875056f35c76c422"
            ],
            "layout": "IPY_MODEL_664d8453532c458a9f1e8d6356fb5853"
          }
        },
        "df79568a5b7540269e3e37be985df32d": {
          "model_module": "@jupyter-widgets/controls",
          "model_name": "HTMLModel",
          "model_module_version": "1.5.0",
          "state": {
            "_dom_classes": [],
            "_model_module": "@jupyter-widgets/controls",
            "_model_module_version": "1.5.0",
            "_model_name": "HTMLModel",
            "_view_count": null,
            "_view_module": "@jupyter-widgets/controls",
            "_view_module_version": "1.5.0",
            "_view_name": "HTMLView",
            "description": "",
            "description_tooltip": null,
            "layout": "IPY_MODEL_138ab98c575040ec93513e19d75f0cf2",
            "placeholder": "​",
            "style": "IPY_MODEL_2f7ff9f630114c648dbb2487d9321c7c",
            "value": "Map: 100%"
          }
        },
        "bb1460eb8e254ecf806209eeed476cdd": {
          "model_module": "@jupyter-widgets/controls",
          "model_name": "FloatProgressModel",
          "model_module_version": "1.5.0",
          "state": {
            "_dom_classes": [],
            "_model_module": "@jupyter-widgets/controls",
            "_model_module_version": "1.5.0",
            "_model_name": "FloatProgressModel",
            "_view_count": null,
            "_view_module": "@jupyter-widgets/controls",
            "_view_module_version": "1.5.0",
            "_view_name": "ProgressView",
            "bar_style": "success",
            "description": "",
            "description_tooltip": null,
            "layout": "IPY_MODEL_8f92dd52123e4e51bc5eded08152992b",
            "max": 200,
            "min": 0,
            "orientation": "horizontal",
            "style": "IPY_MODEL_2c96540ea68049b49548196ddabebc53",
            "value": 200
          }
        },
        "9cf53bc320464c5e875056f35c76c422": {
          "model_module": "@jupyter-widgets/controls",
          "model_name": "HTMLModel",
          "model_module_version": "1.5.0",
          "state": {
            "_dom_classes": [],
            "_model_module": "@jupyter-widgets/controls",
            "_model_module_version": "1.5.0",
            "_model_name": "HTMLModel",
            "_view_count": null,
            "_view_module": "@jupyter-widgets/controls",
            "_view_module_version": "1.5.0",
            "_view_name": "HTMLView",
            "description": "",
            "description_tooltip": null,
            "layout": "IPY_MODEL_0545271c9f54453e9481259655f89ae0",
            "placeholder": "​",
            "style": "IPY_MODEL_02bfb66ad93e4a1ba902151d27b118f3",
            "value": " 200/200 [00:00&lt;00:00, 7267.58 examples/s]"
          }
        },
        "664d8453532c458a9f1e8d6356fb5853": {
          "model_module": "@jupyter-widgets/base",
          "model_name": "LayoutModel",
          "model_module_version": "1.2.0",
          "state": {
            "_model_module": "@jupyter-widgets/base",
            "_model_module_version": "1.2.0",
            "_model_name": "LayoutModel",
            "_view_count": null,
            "_view_module": "@jupyter-widgets/base",
            "_view_module_version": "1.2.0",
            "_view_name": "LayoutView",
            "align_content": null,
            "align_items": null,
            "align_self": null,
            "border": null,
            "bottom": null,
            "display": null,
            "flex": null,
            "flex_flow": null,
            "grid_area": null,
            "grid_auto_columns": null,
            "grid_auto_flow": null,
            "grid_auto_rows": null,
            "grid_column": null,
            "grid_gap": null,
            "grid_row": null,
            "grid_template_areas": null,
            "grid_template_columns": null,
            "grid_template_rows": null,
            "height": null,
            "justify_content": null,
            "justify_items": null,
            "left": null,
            "margin": null,
            "max_height": null,
            "max_width": null,
            "min_height": null,
            "min_width": null,
            "object_fit": null,
            "object_position": null,
            "order": null,
            "overflow": null,
            "overflow_x": null,
            "overflow_y": null,
            "padding": null,
            "right": null,
            "top": null,
            "visibility": null,
            "width": null
          }
        },
        "138ab98c575040ec93513e19d75f0cf2": {
          "model_module": "@jupyter-widgets/base",
          "model_name": "LayoutModel",
          "model_module_version": "1.2.0",
          "state": {
            "_model_module": "@jupyter-widgets/base",
            "_model_module_version": "1.2.0",
            "_model_name": "LayoutModel",
            "_view_count": null,
            "_view_module": "@jupyter-widgets/base",
            "_view_module_version": "1.2.0",
            "_view_name": "LayoutView",
            "align_content": null,
            "align_items": null,
            "align_self": null,
            "border": null,
            "bottom": null,
            "display": null,
            "flex": null,
            "flex_flow": null,
            "grid_area": null,
            "grid_auto_columns": null,
            "grid_auto_flow": null,
            "grid_auto_rows": null,
            "grid_column": null,
            "grid_gap": null,
            "grid_row": null,
            "grid_template_areas": null,
            "grid_template_columns": null,
            "grid_template_rows": null,
            "height": null,
            "justify_content": null,
            "justify_items": null,
            "left": null,
            "margin": null,
            "max_height": null,
            "max_width": null,
            "min_height": null,
            "min_width": null,
            "object_fit": null,
            "object_position": null,
            "order": null,
            "overflow": null,
            "overflow_x": null,
            "overflow_y": null,
            "padding": null,
            "right": null,
            "top": null,
            "visibility": null,
            "width": null
          }
        },
        "2f7ff9f630114c648dbb2487d9321c7c": {
          "model_module": "@jupyter-widgets/controls",
          "model_name": "DescriptionStyleModel",
          "model_module_version": "1.5.0",
          "state": {
            "_model_module": "@jupyter-widgets/controls",
            "_model_module_version": "1.5.0",
            "_model_name": "DescriptionStyleModel",
            "_view_count": null,
            "_view_module": "@jupyter-widgets/base",
            "_view_module_version": "1.2.0",
            "_view_name": "StyleView",
            "description_width": ""
          }
        },
        "8f92dd52123e4e51bc5eded08152992b": {
          "model_module": "@jupyter-widgets/base",
          "model_name": "LayoutModel",
          "model_module_version": "1.2.0",
          "state": {
            "_model_module": "@jupyter-widgets/base",
            "_model_module_version": "1.2.0",
            "_model_name": "LayoutModel",
            "_view_count": null,
            "_view_module": "@jupyter-widgets/base",
            "_view_module_version": "1.2.0",
            "_view_name": "LayoutView",
            "align_content": null,
            "align_items": null,
            "align_self": null,
            "border": null,
            "bottom": null,
            "display": null,
            "flex": null,
            "flex_flow": null,
            "grid_area": null,
            "grid_auto_columns": null,
            "grid_auto_flow": null,
            "grid_auto_rows": null,
            "grid_column": null,
            "grid_gap": null,
            "grid_row": null,
            "grid_template_areas": null,
            "grid_template_columns": null,
            "grid_template_rows": null,
            "height": null,
            "justify_content": null,
            "justify_items": null,
            "left": null,
            "margin": null,
            "max_height": null,
            "max_width": null,
            "min_height": null,
            "min_width": null,
            "object_fit": null,
            "object_position": null,
            "order": null,
            "overflow": null,
            "overflow_x": null,
            "overflow_y": null,
            "padding": null,
            "right": null,
            "top": null,
            "visibility": null,
            "width": null
          }
        },
        "2c96540ea68049b49548196ddabebc53": {
          "model_module": "@jupyter-widgets/controls",
          "model_name": "ProgressStyleModel",
          "model_module_version": "1.5.0",
          "state": {
            "_model_module": "@jupyter-widgets/controls",
            "_model_module_version": "1.5.0",
            "_model_name": "ProgressStyleModel",
            "_view_count": null,
            "_view_module": "@jupyter-widgets/base",
            "_view_module_version": "1.2.0",
            "_view_name": "StyleView",
            "bar_color": null,
            "description_width": ""
          }
        },
        "0545271c9f54453e9481259655f89ae0": {
          "model_module": "@jupyter-widgets/base",
          "model_name": "LayoutModel",
          "model_module_version": "1.2.0",
          "state": {
            "_model_module": "@jupyter-widgets/base",
            "_model_module_version": "1.2.0",
            "_model_name": "LayoutModel",
            "_view_count": null,
            "_view_module": "@jupyter-widgets/base",
            "_view_module_version": "1.2.0",
            "_view_name": "LayoutView",
            "align_content": null,
            "align_items": null,
            "align_self": null,
            "border": null,
            "bottom": null,
            "display": null,
            "flex": null,
            "flex_flow": null,
            "grid_area": null,
            "grid_auto_columns": null,
            "grid_auto_flow": null,
            "grid_auto_rows": null,
            "grid_column": null,
            "grid_gap": null,
            "grid_row": null,
            "grid_template_areas": null,
            "grid_template_columns": null,
            "grid_template_rows": null,
            "height": null,
            "justify_content": null,
            "justify_items": null,
            "left": null,
            "margin": null,
            "max_height": null,
            "max_width": null,
            "min_height": null,
            "min_width": null,
            "object_fit": null,
            "object_position": null,
            "order": null,
            "overflow": null,
            "overflow_x": null,
            "overflow_y": null,
            "padding": null,
            "right": null,
            "top": null,
            "visibility": null,
            "width": null
          }
        },
        "02bfb66ad93e4a1ba902151d27b118f3": {
          "model_module": "@jupyter-widgets/controls",
          "model_name": "DescriptionStyleModel",
          "model_module_version": "1.5.0",
          "state": {
            "_model_module": "@jupyter-widgets/controls",
            "_model_module_version": "1.5.0",
            "_model_name": "DescriptionStyleModel",
            "_view_count": null,
            "_view_module": "@jupyter-widgets/base",
            "_view_module_version": "1.2.0",
            "_view_name": "StyleView",
            "description_width": ""
          }
        },
        "33534af7671241509f1cb4108e8722fa": {
          "model_module": "@jupyter-widgets/controls",
          "model_name": "HBoxModel",
          "model_module_version": "1.5.0",
          "state": {
            "_dom_classes": [],
            "_model_module": "@jupyter-widgets/controls",
            "_model_module_version": "1.5.0",
            "_model_name": "HBoxModel",
            "_view_count": null,
            "_view_module": "@jupyter-widgets/controls",
            "_view_module_version": "1.5.0",
            "_view_name": "HBoxView",
            "box_style": "",
            "children": [
              "IPY_MODEL_d8a33130ecf54899a5523059af523d08",
              "IPY_MODEL_a0e1b67108eb4c249f73e68de1b68e43",
              "IPY_MODEL_39fa9b2a96ee4711841ec042b6d2eab3"
            ],
            "layout": "IPY_MODEL_7f7ec28f493b4d5db57cbeb4f0d5b269"
          }
        },
        "d8a33130ecf54899a5523059af523d08": {
          "model_module": "@jupyter-widgets/controls",
          "model_name": "HTMLModel",
          "model_module_version": "1.5.0",
          "state": {
            "_dom_classes": [],
            "_model_module": "@jupyter-widgets/controls",
            "_model_module_version": "1.5.0",
            "_model_name": "HTMLModel",
            "_view_count": null,
            "_view_module": "@jupyter-widgets/controls",
            "_view_module_version": "1.5.0",
            "_view_name": "HTMLView",
            "description": "",
            "description_tooltip": null,
            "layout": "IPY_MODEL_3b2a01c4fdb04f7fb5fc37d0d6d91ce2",
            "placeholder": "​",
            "style": "IPY_MODEL_fd7002f929464b5282dbb9cc37611754",
            "value": "Map: 100%"
          }
        },
        "a0e1b67108eb4c249f73e68de1b68e43": {
          "model_module": "@jupyter-widgets/controls",
          "model_name": "FloatProgressModel",
          "model_module_version": "1.5.0",
          "state": {
            "_dom_classes": [],
            "_model_module": "@jupyter-widgets/controls",
            "_model_module_version": "1.5.0",
            "_model_name": "FloatProgressModel",
            "_view_count": null,
            "_view_module": "@jupyter-widgets/controls",
            "_view_module_version": "1.5.0",
            "_view_name": "ProgressView",
            "bar_style": "success",
            "description": "",
            "description_tooltip": null,
            "layout": "IPY_MODEL_2f7089d24e044da58794af1facf60ca1",
            "max": 1000,
            "min": 0,
            "orientation": "horizontal",
            "style": "IPY_MODEL_e4d478e92d4e4d109456d204dc207099",
            "value": 1000
          }
        },
        "39fa9b2a96ee4711841ec042b6d2eab3": {
          "model_module": "@jupyter-widgets/controls",
          "model_name": "HTMLModel",
          "model_module_version": "1.5.0",
          "state": {
            "_dom_classes": [],
            "_model_module": "@jupyter-widgets/controls",
            "_model_module_version": "1.5.0",
            "_model_name": "HTMLModel",
            "_view_count": null,
            "_view_module": "@jupyter-widgets/controls",
            "_view_module_version": "1.5.0",
            "_view_name": "HTMLView",
            "description": "",
            "description_tooltip": null,
            "layout": "IPY_MODEL_eb1b112b8d7a4076a141ba6bf9b3de97",
            "placeholder": "​",
            "style": "IPY_MODEL_f8dfa0e3d79143e098e30a107af81471",
            "value": " 1000/1000 [00:00&lt;00:00, 1774.37 examples/s]"
          }
        },
        "7f7ec28f493b4d5db57cbeb4f0d5b269": {
          "model_module": "@jupyter-widgets/base",
          "model_name": "LayoutModel",
          "model_module_version": "1.2.0",
          "state": {
            "_model_module": "@jupyter-widgets/base",
            "_model_module_version": "1.2.0",
            "_model_name": "LayoutModel",
            "_view_count": null,
            "_view_module": "@jupyter-widgets/base",
            "_view_module_version": "1.2.0",
            "_view_name": "LayoutView",
            "align_content": null,
            "align_items": null,
            "align_self": null,
            "border": null,
            "bottom": null,
            "display": null,
            "flex": null,
            "flex_flow": null,
            "grid_area": null,
            "grid_auto_columns": null,
            "grid_auto_flow": null,
            "grid_auto_rows": null,
            "grid_column": null,
            "grid_gap": null,
            "grid_row": null,
            "grid_template_areas": null,
            "grid_template_columns": null,
            "grid_template_rows": null,
            "height": null,
            "justify_content": null,
            "justify_items": null,
            "left": null,
            "margin": null,
            "max_height": null,
            "max_width": null,
            "min_height": null,
            "min_width": null,
            "object_fit": null,
            "object_position": null,
            "order": null,
            "overflow": null,
            "overflow_x": null,
            "overflow_y": null,
            "padding": null,
            "right": null,
            "top": null,
            "visibility": null,
            "width": null
          }
        },
        "3b2a01c4fdb04f7fb5fc37d0d6d91ce2": {
          "model_module": "@jupyter-widgets/base",
          "model_name": "LayoutModel",
          "model_module_version": "1.2.0",
          "state": {
            "_model_module": "@jupyter-widgets/base",
            "_model_module_version": "1.2.0",
            "_model_name": "LayoutModel",
            "_view_count": null,
            "_view_module": "@jupyter-widgets/base",
            "_view_module_version": "1.2.0",
            "_view_name": "LayoutView",
            "align_content": null,
            "align_items": null,
            "align_self": null,
            "border": null,
            "bottom": null,
            "display": null,
            "flex": null,
            "flex_flow": null,
            "grid_area": null,
            "grid_auto_columns": null,
            "grid_auto_flow": null,
            "grid_auto_rows": null,
            "grid_column": null,
            "grid_gap": null,
            "grid_row": null,
            "grid_template_areas": null,
            "grid_template_columns": null,
            "grid_template_rows": null,
            "height": null,
            "justify_content": null,
            "justify_items": null,
            "left": null,
            "margin": null,
            "max_height": null,
            "max_width": null,
            "min_height": null,
            "min_width": null,
            "object_fit": null,
            "object_position": null,
            "order": null,
            "overflow": null,
            "overflow_x": null,
            "overflow_y": null,
            "padding": null,
            "right": null,
            "top": null,
            "visibility": null,
            "width": null
          }
        },
        "fd7002f929464b5282dbb9cc37611754": {
          "model_module": "@jupyter-widgets/controls",
          "model_name": "DescriptionStyleModel",
          "model_module_version": "1.5.0",
          "state": {
            "_model_module": "@jupyter-widgets/controls",
            "_model_module_version": "1.5.0",
            "_model_name": "DescriptionStyleModel",
            "_view_count": null,
            "_view_module": "@jupyter-widgets/base",
            "_view_module_version": "1.2.0",
            "_view_name": "StyleView",
            "description_width": ""
          }
        },
        "2f7089d24e044da58794af1facf60ca1": {
          "model_module": "@jupyter-widgets/base",
          "model_name": "LayoutModel",
          "model_module_version": "1.2.0",
          "state": {
            "_model_module": "@jupyter-widgets/base",
            "_model_module_version": "1.2.0",
            "_model_name": "LayoutModel",
            "_view_count": null,
            "_view_module": "@jupyter-widgets/base",
            "_view_module_version": "1.2.0",
            "_view_name": "LayoutView",
            "align_content": null,
            "align_items": null,
            "align_self": null,
            "border": null,
            "bottom": null,
            "display": null,
            "flex": null,
            "flex_flow": null,
            "grid_area": null,
            "grid_auto_columns": null,
            "grid_auto_flow": null,
            "grid_auto_rows": null,
            "grid_column": null,
            "grid_gap": null,
            "grid_row": null,
            "grid_template_areas": null,
            "grid_template_columns": null,
            "grid_template_rows": null,
            "height": null,
            "justify_content": null,
            "justify_items": null,
            "left": null,
            "margin": null,
            "max_height": null,
            "max_width": null,
            "min_height": null,
            "min_width": null,
            "object_fit": null,
            "object_position": null,
            "order": null,
            "overflow": null,
            "overflow_x": null,
            "overflow_y": null,
            "padding": null,
            "right": null,
            "top": null,
            "visibility": null,
            "width": null
          }
        },
        "e4d478e92d4e4d109456d204dc207099": {
          "model_module": "@jupyter-widgets/controls",
          "model_name": "ProgressStyleModel",
          "model_module_version": "1.5.0",
          "state": {
            "_model_module": "@jupyter-widgets/controls",
            "_model_module_version": "1.5.0",
            "_model_name": "ProgressStyleModel",
            "_view_count": null,
            "_view_module": "@jupyter-widgets/base",
            "_view_module_version": "1.2.0",
            "_view_name": "StyleView",
            "bar_color": null,
            "description_width": ""
          }
        },
        "eb1b112b8d7a4076a141ba6bf9b3de97": {
          "model_module": "@jupyter-widgets/base",
          "model_name": "LayoutModel",
          "model_module_version": "1.2.0",
          "state": {
            "_model_module": "@jupyter-widgets/base",
            "_model_module_version": "1.2.0",
            "_model_name": "LayoutModel",
            "_view_count": null,
            "_view_module": "@jupyter-widgets/base",
            "_view_module_version": "1.2.0",
            "_view_name": "LayoutView",
            "align_content": null,
            "align_items": null,
            "align_self": null,
            "border": null,
            "bottom": null,
            "display": null,
            "flex": null,
            "flex_flow": null,
            "grid_area": null,
            "grid_auto_columns": null,
            "grid_auto_flow": null,
            "grid_auto_rows": null,
            "grid_column": null,
            "grid_gap": null,
            "grid_row": null,
            "grid_template_areas": null,
            "grid_template_columns": null,
            "grid_template_rows": null,
            "height": null,
            "justify_content": null,
            "justify_items": null,
            "left": null,
            "margin": null,
            "max_height": null,
            "max_width": null,
            "min_height": null,
            "min_width": null,
            "object_fit": null,
            "object_position": null,
            "order": null,
            "overflow": null,
            "overflow_x": null,
            "overflow_y": null,
            "padding": null,
            "right": null,
            "top": null,
            "visibility": null,
            "width": null
          }
        },
        "f8dfa0e3d79143e098e30a107af81471": {
          "model_module": "@jupyter-widgets/controls",
          "model_name": "DescriptionStyleModel",
          "model_module_version": "1.5.0",
          "state": {
            "_model_module": "@jupyter-widgets/controls",
            "_model_module_version": "1.5.0",
            "_model_name": "DescriptionStyleModel",
            "_view_count": null,
            "_view_module": "@jupyter-widgets/base",
            "_view_module_version": "1.2.0",
            "_view_name": "StyleView",
            "description_width": ""
          }
        },
        "01795d709512497b83f7ede32c663709": {
          "model_module": "@jupyter-widgets/controls",
          "model_name": "HBoxModel",
          "model_module_version": "1.5.0",
          "state": {
            "_dom_classes": [],
            "_model_module": "@jupyter-widgets/controls",
            "_model_module_version": "1.5.0",
            "_model_name": "HBoxModel",
            "_view_count": null,
            "_view_module": "@jupyter-widgets/controls",
            "_view_module_version": "1.5.0",
            "_view_name": "HBoxView",
            "box_style": "",
            "children": [
              "IPY_MODEL_e772422754dd482bb1477e555d96290e",
              "IPY_MODEL_fb33065526b344e880d2efba6697242b",
              "IPY_MODEL_c9cdc2eeeb91473b904ef8f16866cb78"
            ],
            "layout": "IPY_MODEL_07caade05ea34ee09df04580384f7cb1"
          }
        },
        "e772422754dd482bb1477e555d96290e": {
          "model_module": "@jupyter-widgets/controls",
          "model_name": "HTMLModel",
          "model_module_version": "1.5.0",
          "state": {
            "_dom_classes": [],
            "_model_module": "@jupyter-widgets/controls",
            "_model_module_version": "1.5.0",
            "_model_name": "HTMLModel",
            "_view_count": null,
            "_view_module": "@jupyter-widgets/controls",
            "_view_module_version": "1.5.0",
            "_view_name": "HTMLView",
            "description": "",
            "description_tooltip": null,
            "layout": "IPY_MODEL_319bad16cf18451cb6e9e5fb62e9ffdb",
            "placeholder": "​",
            "style": "IPY_MODEL_d4879d51111748c08aa25079f7fb0619",
            "value": "Map: 100%"
          }
        },
        "fb33065526b344e880d2efba6697242b": {
          "model_module": "@jupyter-widgets/controls",
          "model_name": "FloatProgressModel",
          "model_module_version": "1.5.0",
          "state": {
            "_dom_classes": [],
            "_model_module": "@jupyter-widgets/controls",
            "_model_module_version": "1.5.0",
            "_model_name": "FloatProgressModel",
            "_view_count": null,
            "_view_module": "@jupyter-widgets/controls",
            "_view_module_version": "1.5.0",
            "_view_name": "ProgressView",
            "bar_style": "success",
            "description": "",
            "description_tooltip": null,
            "layout": "IPY_MODEL_50240b582b484ce883a723c1f46979e7",
            "max": 200,
            "min": 0,
            "orientation": "horizontal",
            "style": "IPY_MODEL_9ef1dee1bd8a48b2a1335b39109f2bee",
            "value": 200
          }
        },
        "c9cdc2eeeb91473b904ef8f16866cb78": {
          "model_module": "@jupyter-widgets/controls",
          "model_name": "HTMLModel",
          "model_module_version": "1.5.0",
          "state": {
            "_dom_classes": [],
            "_model_module": "@jupyter-widgets/controls",
            "_model_module_version": "1.5.0",
            "_model_name": "HTMLModel",
            "_view_count": null,
            "_view_module": "@jupyter-widgets/controls",
            "_view_module_version": "1.5.0",
            "_view_name": "HTMLView",
            "description": "",
            "description_tooltip": null,
            "layout": "IPY_MODEL_7fff617f4b254fecaf9ad138c35d8367",
            "placeholder": "​",
            "style": "IPY_MODEL_636cbc09741c4e8bb7bed589a7a1f322",
            "value": " 200/200 [00:00&lt;00:00, 1636.20 examples/s]"
          }
        },
        "07caade05ea34ee09df04580384f7cb1": {
          "model_module": "@jupyter-widgets/base",
          "model_name": "LayoutModel",
          "model_module_version": "1.2.0",
          "state": {
            "_model_module": "@jupyter-widgets/base",
            "_model_module_version": "1.2.0",
            "_model_name": "LayoutModel",
            "_view_count": null,
            "_view_module": "@jupyter-widgets/base",
            "_view_module_version": "1.2.0",
            "_view_name": "LayoutView",
            "align_content": null,
            "align_items": null,
            "align_self": null,
            "border": null,
            "bottom": null,
            "display": null,
            "flex": null,
            "flex_flow": null,
            "grid_area": null,
            "grid_auto_columns": null,
            "grid_auto_flow": null,
            "grid_auto_rows": null,
            "grid_column": null,
            "grid_gap": null,
            "grid_row": null,
            "grid_template_areas": null,
            "grid_template_columns": null,
            "grid_template_rows": null,
            "height": null,
            "justify_content": null,
            "justify_items": null,
            "left": null,
            "margin": null,
            "max_height": null,
            "max_width": null,
            "min_height": null,
            "min_width": null,
            "object_fit": null,
            "object_position": null,
            "order": null,
            "overflow": null,
            "overflow_x": null,
            "overflow_y": null,
            "padding": null,
            "right": null,
            "top": null,
            "visibility": null,
            "width": null
          }
        },
        "319bad16cf18451cb6e9e5fb62e9ffdb": {
          "model_module": "@jupyter-widgets/base",
          "model_name": "LayoutModel",
          "model_module_version": "1.2.0",
          "state": {
            "_model_module": "@jupyter-widgets/base",
            "_model_module_version": "1.2.0",
            "_model_name": "LayoutModel",
            "_view_count": null,
            "_view_module": "@jupyter-widgets/base",
            "_view_module_version": "1.2.0",
            "_view_name": "LayoutView",
            "align_content": null,
            "align_items": null,
            "align_self": null,
            "border": null,
            "bottom": null,
            "display": null,
            "flex": null,
            "flex_flow": null,
            "grid_area": null,
            "grid_auto_columns": null,
            "grid_auto_flow": null,
            "grid_auto_rows": null,
            "grid_column": null,
            "grid_gap": null,
            "grid_row": null,
            "grid_template_areas": null,
            "grid_template_columns": null,
            "grid_template_rows": null,
            "height": null,
            "justify_content": null,
            "justify_items": null,
            "left": null,
            "margin": null,
            "max_height": null,
            "max_width": null,
            "min_height": null,
            "min_width": null,
            "object_fit": null,
            "object_position": null,
            "order": null,
            "overflow": null,
            "overflow_x": null,
            "overflow_y": null,
            "padding": null,
            "right": null,
            "top": null,
            "visibility": null,
            "width": null
          }
        },
        "d4879d51111748c08aa25079f7fb0619": {
          "model_module": "@jupyter-widgets/controls",
          "model_name": "DescriptionStyleModel",
          "model_module_version": "1.5.0",
          "state": {
            "_model_module": "@jupyter-widgets/controls",
            "_model_module_version": "1.5.0",
            "_model_name": "DescriptionStyleModel",
            "_view_count": null,
            "_view_module": "@jupyter-widgets/base",
            "_view_module_version": "1.2.0",
            "_view_name": "StyleView",
            "description_width": ""
          }
        },
        "50240b582b484ce883a723c1f46979e7": {
          "model_module": "@jupyter-widgets/base",
          "model_name": "LayoutModel",
          "model_module_version": "1.2.0",
          "state": {
            "_model_module": "@jupyter-widgets/base",
            "_model_module_version": "1.2.0",
            "_model_name": "LayoutModel",
            "_view_count": null,
            "_view_module": "@jupyter-widgets/base",
            "_view_module_version": "1.2.0",
            "_view_name": "LayoutView",
            "align_content": null,
            "align_items": null,
            "align_self": null,
            "border": null,
            "bottom": null,
            "display": null,
            "flex": null,
            "flex_flow": null,
            "grid_area": null,
            "grid_auto_columns": null,
            "grid_auto_flow": null,
            "grid_auto_rows": null,
            "grid_column": null,
            "grid_gap": null,
            "grid_row": null,
            "grid_template_areas": null,
            "grid_template_columns": null,
            "grid_template_rows": null,
            "height": null,
            "justify_content": null,
            "justify_items": null,
            "left": null,
            "margin": null,
            "max_height": null,
            "max_width": null,
            "min_height": null,
            "min_width": null,
            "object_fit": null,
            "object_position": null,
            "order": null,
            "overflow": null,
            "overflow_x": null,
            "overflow_y": null,
            "padding": null,
            "right": null,
            "top": null,
            "visibility": null,
            "width": null
          }
        },
        "9ef1dee1bd8a48b2a1335b39109f2bee": {
          "model_module": "@jupyter-widgets/controls",
          "model_name": "ProgressStyleModel",
          "model_module_version": "1.5.0",
          "state": {
            "_model_module": "@jupyter-widgets/controls",
            "_model_module_version": "1.5.0",
            "_model_name": "ProgressStyleModel",
            "_view_count": null,
            "_view_module": "@jupyter-widgets/base",
            "_view_module_version": "1.2.0",
            "_view_name": "StyleView",
            "bar_color": null,
            "description_width": ""
          }
        },
        "7fff617f4b254fecaf9ad138c35d8367": {
          "model_module": "@jupyter-widgets/base",
          "model_name": "LayoutModel",
          "model_module_version": "1.2.0",
          "state": {
            "_model_module": "@jupyter-widgets/base",
            "_model_module_version": "1.2.0",
            "_model_name": "LayoutModel",
            "_view_count": null,
            "_view_module": "@jupyter-widgets/base",
            "_view_module_version": "1.2.0",
            "_view_name": "LayoutView",
            "align_content": null,
            "align_items": null,
            "align_self": null,
            "border": null,
            "bottom": null,
            "display": null,
            "flex": null,
            "flex_flow": null,
            "grid_area": null,
            "grid_auto_columns": null,
            "grid_auto_flow": null,
            "grid_auto_rows": null,
            "grid_column": null,
            "grid_gap": null,
            "grid_row": null,
            "grid_template_areas": null,
            "grid_template_columns": null,
            "grid_template_rows": null,
            "height": null,
            "justify_content": null,
            "justify_items": null,
            "left": null,
            "margin": null,
            "max_height": null,
            "max_width": null,
            "min_height": null,
            "min_width": null,
            "object_fit": null,
            "object_position": null,
            "order": null,
            "overflow": null,
            "overflow_x": null,
            "overflow_y": null,
            "padding": null,
            "right": null,
            "top": null,
            "visibility": null,
            "width": null
          }
        },
        "636cbc09741c4e8bb7bed589a7a1f322": {
          "model_module": "@jupyter-widgets/controls",
          "model_name": "DescriptionStyleModel",
          "model_module_version": "1.5.0",
          "state": {
            "_model_module": "@jupyter-widgets/controls",
            "_model_module_version": "1.5.0",
            "_model_name": "DescriptionStyleModel",
            "_view_count": null,
            "_view_module": "@jupyter-widgets/base",
            "_view_module_version": "1.2.0",
            "_view_name": "StyleView",
            "description_width": ""
          }
        },
        "bc3e504db431426e8b9885e2ff498960": {
          "model_module": "@jupyter-widgets/controls",
          "model_name": "HBoxModel",
          "model_module_version": "1.5.0",
          "state": {
            "_dom_classes": [],
            "_model_module": "@jupyter-widgets/controls",
            "_model_module_version": "1.5.0",
            "_model_name": "HBoxModel",
            "_view_count": null,
            "_view_module": "@jupyter-widgets/controls",
            "_view_module_version": "1.5.0",
            "_view_name": "HBoxView",
            "box_style": "",
            "children": [
              "IPY_MODEL_45b1c89693d44dbe919bba6396bc8fe4",
              "IPY_MODEL_705cc11a78804a8c9307778eec207187",
              "IPY_MODEL_78e70219f41d4815bce90c26677ebc0f"
            ],
            "layout": "IPY_MODEL_43586876e43448b38e87b333c58b4f42"
          }
        },
        "45b1c89693d44dbe919bba6396bc8fe4": {
          "model_module": "@jupyter-widgets/controls",
          "model_name": "HTMLModel",
          "model_module_version": "1.5.0",
          "state": {
            "_dom_classes": [],
            "_model_module": "@jupyter-widgets/controls",
            "_model_module_version": "1.5.0",
            "_model_name": "HTMLModel",
            "_view_count": null,
            "_view_module": "@jupyter-widgets/controls",
            "_view_module_version": "1.5.0",
            "_view_name": "HTMLView",
            "description": "",
            "description_tooltip": null,
            "layout": "IPY_MODEL_4a5eb4802bad41f193ab6c8a3002b845",
            "placeholder": "​",
            "style": "IPY_MODEL_03c56a07485748fe8194a33bc2e00e65",
            "value": "Saving the dataset (1/1 shards): 100%"
          }
        },
        "705cc11a78804a8c9307778eec207187": {
          "model_module": "@jupyter-widgets/controls",
          "model_name": "FloatProgressModel",
          "model_module_version": "1.5.0",
          "state": {
            "_dom_classes": [],
            "_model_module": "@jupyter-widgets/controls",
            "_model_module_version": "1.5.0",
            "_model_name": "FloatProgressModel",
            "_view_count": null,
            "_view_module": "@jupyter-widgets/controls",
            "_view_module_version": "1.5.0",
            "_view_name": "ProgressView",
            "bar_style": "success",
            "description": "",
            "description_tooltip": null,
            "layout": "IPY_MODEL_11d3ddd448a04b868ea6807f852de15f",
            "max": 1127,
            "min": 0,
            "orientation": "horizontal",
            "style": "IPY_MODEL_ca0a92d476b14c9788fb62517fe0dac7",
            "value": 1127
          }
        },
        "78e70219f41d4815bce90c26677ebc0f": {
          "model_module": "@jupyter-widgets/controls",
          "model_name": "HTMLModel",
          "model_module_version": "1.5.0",
          "state": {
            "_dom_classes": [],
            "_model_module": "@jupyter-widgets/controls",
            "_model_module_version": "1.5.0",
            "_model_name": "HTMLModel",
            "_view_count": null,
            "_view_module": "@jupyter-widgets/controls",
            "_view_module_version": "1.5.0",
            "_view_name": "HTMLView",
            "description": "",
            "description_tooltip": null,
            "layout": "IPY_MODEL_3ab7b3b51056410a8648905de945403d",
            "placeholder": "​",
            "style": "IPY_MODEL_d02488bea79a4fd69af8e8be3e7ea9bb",
            "value": " 1127/1127 [00:00&lt;00:00, 97988.82 examples/s]"
          }
        },
        "43586876e43448b38e87b333c58b4f42": {
          "model_module": "@jupyter-widgets/base",
          "model_name": "LayoutModel",
          "model_module_version": "1.2.0",
          "state": {
            "_model_module": "@jupyter-widgets/base",
            "_model_module_version": "1.2.0",
            "_model_name": "LayoutModel",
            "_view_count": null,
            "_view_module": "@jupyter-widgets/base",
            "_view_module_version": "1.2.0",
            "_view_name": "LayoutView",
            "align_content": null,
            "align_items": null,
            "align_self": null,
            "border": null,
            "bottom": null,
            "display": null,
            "flex": null,
            "flex_flow": null,
            "grid_area": null,
            "grid_auto_columns": null,
            "grid_auto_flow": null,
            "grid_auto_rows": null,
            "grid_column": null,
            "grid_gap": null,
            "grid_row": null,
            "grid_template_areas": null,
            "grid_template_columns": null,
            "grid_template_rows": null,
            "height": null,
            "justify_content": null,
            "justify_items": null,
            "left": null,
            "margin": null,
            "max_height": null,
            "max_width": null,
            "min_height": null,
            "min_width": null,
            "object_fit": null,
            "object_position": null,
            "order": null,
            "overflow": null,
            "overflow_x": null,
            "overflow_y": null,
            "padding": null,
            "right": null,
            "top": null,
            "visibility": null,
            "width": null
          }
        },
        "4a5eb4802bad41f193ab6c8a3002b845": {
          "model_module": "@jupyter-widgets/base",
          "model_name": "LayoutModel",
          "model_module_version": "1.2.0",
          "state": {
            "_model_module": "@jupyter-widgets/base",
            "_model_module_version": "1.2.0",
            "_model_name": "LayoutModel",
            "_view_count": null,
            "_view_module": "@jupyter-widgets/base",
            "_view_module_version": "1.2.0",
            "_view_name": "LayoutView",
            "align_content": null,
            "align_items": null,
            "align_self": null,
            "border": null,
            "bottom": null,
            "display": null,
            "flex": null,
            "flex_flow": null,
            "grid_area": null,
            "grid_auto_columns": null,
            "grid_auto_flow": null,
            "grid_auto_rows": null,
            "grid_column": null,
            "grid_gap": null,
            "grid_row": null,
            "grid_template_areas": null,
            "grid_template_columns": null,
            "grid_template_rows": null,
            "height": null,
            "justify_content": null,
            "justify_items": null,
            "left": null,
            "margin": null,
            "max_height": null,
            "max_width": null,
            "min_height": null,
            "min_width": null,
            "object_fit": null,
            "object_position": null,
            "order": null,
            "overflow": null,
            "overflow_x": null,
            "overflow_y": null,
            "padding": null,
            "right": null,
            "top": null,
            "visibility": null,
            "width": null
          }
        },
        "03c56a07485748fe8194a33bc2e00e65": {
          "model_module": "@jupyter-widgets/controls",
          "model_name": "DescriptionStyleModel",
          "model_module_version": "1.5.0",
          "state": {
            "_model_module": "@jupyter-widgets/controls",
            "_model_module_version": "1.5.0",
            "_model_name": "DescriptionStyleModel",
            "_view_count": null,
            "_view_module": "@jupyter-widgets/base",
            "_view_module_version": "1.2.0",
            "_view_name": "StyleView",
            "description_width": ""
          }
        },
        "11d3ddd448a04b868ea6807f852de15f": {
          "model_module": "@jupyter-widgets/base",
          "model_name": "LayoutModel",
          "model_module_version": "1.2.0",
          "state": {
            "_model_module": "@jupyter-widgets/base",
            "_model_module_version": "1.2.0",
            "_model_name": "LayoutModel",
            "_view_count": null,
            "_view_module": "@jupyter-widgets/base",
            "_view_module_version": "1.2.0",
            "_view_name": "LayoutView",
            "align_content": null,
            "align_items": null,
            "align_self": null,
            "border": null,
            "bottom": null,
            "display": null,
            "flex": null,
            "flex_flow": null,
            "grid_area": null,
            "grid_auto_columns": null,
            "grid_auto_flow": null,
            "grid_auto_rows": null,
            "grid_column": null,
            "grid_gap": null,
            "grid_row": null,
            "grid_template_areas": null,
            "grid_template_columns": null,
            "grid_template_rows": null,
            "height": null,
            "justify_content": null,
            "justify_items": null,
            "left": null,
            "margin": null,
            "max_height": null,
            "max_width": null,
            "min_height": null,
            "min_width": null,
            "object_fit": null,
            "object_position": null,
            "order": null,
            "overflow": null,
            "overflow_x": null,
            "overflow_y": null,
            "padding": null,
            "right": null,
            "top": null,
            "visibility": null,
            "width": null
          }
        },
        "ca0a92d476b14c9788fb62517fe0dac7": {
          "model_module": "@jupyter-widgets/controls",
          "model_name": "ProgressStyleModel",
          "model_module_version": "1.5.0",
          "state": {
            "_model_module": "@jupyter-widgets/controls",
            "_model_module_version": "1.5.0",
            "_model_name": "ProgressStyleModel",
            "_view_count": null,
            "_view_module": "@jupyter-widgets/base",
            "_view_module_version": "1.2.0",
            "_view_name": "StyleView",
            "bar_color": null,
            "description_width": ""
          }
        },
        "3ab7b3b51056410a8648905de945403d": {
          "model_module": "@jupyter-widgets/base",
          "model_name": "LayoutModel",
          "model_module_version": "1.2.0",
          "state": {
            "_model_module": "@jupyter-widgets/base",
            "_model_module_version": "1.2.0",
            "_model_name": "LayoutModel",
            "_view_count": null,
            "_view_module": "@jupyter-widgets/base",
            "_view_module_version": "1.2.0",
            "_view_name": "LayoutView",
            "align_content": null,
            "align_items": null,
            "align_self": null,
            "border": null,
            "bottom": null,
            "display": null,
            "flex": null,
            "flex_flow": null,
            "grid_area": null,
            "grid_auto_columns": null,
            "grid_auto_flow": null,
            "grid_auto_rows": null,
            "grid_column": null,
            "grid_gap": null,
            "grid_row": null,
            "grid_template_areas": null,
            "grid_template_columns": null,
            "grid_template_rows": null,
            "height": null,
            "justify_content": null,
            "justify_items": null,
            "left": null,
            "margin": null,
            "max_height": null,
            "max_width": null,
            "min_height": null,
            "min_width": null,
            "object_fit": null,
            "object_position": null,
            "order": null,
            "overflow": null,
            "overflow_x": null,
            "overflow_y": null,
            "padding": null,
            "right": null,
            "top": null,
            "visibility": null,
            "width": null
          }
        },
        "d02488bea79a4fd69af8e8be3e7ea9bb": {
          "model_module": "@jupyter-widgets/controls",
          "model_name": "DescriptionStyleModel",
          "model_module_version": "1.5.0",
          "state": {
            "_model_module": "@jupyter-widgets/controls",
            "_model_module_version": "1.5.0",
            "_model_name": "DescriptionStyleModel",
            "_view_count": null,
            "_view_module": "@jupyter-widgets/base",
            "_view_module_version": "1.2.0",
            "_view_name": "StyleView",
            "description_width": ""
          }
        },
        "954d61c89bc948fca36aa4a9b98f574f": {
          "model_module": "@jupyter-widgets/controls",
          "model_name": "HBoxModel",
          "model_module_version": "1.5.0",
          "state": {
            "_dom_classes": [],
            "_model_module": "@jupyter-widgets/controls",
            "_model_module_version": "1.5.0",
            "_model_name": "HBoxModel",
            "_view_count": null,
            "_view_module": "@jupyter-widgets/controls",
            "_view_module_version": "1.5.0",
            "_view_name": "HBoxView",
            "box_style": "",
            "children": [
              "IPY_MODEL_dee0d5b5f0e74710a61149c3bdd7f1eb",
              "IPY_MODEL_1408fca08c8643fc85a7648c4db2a90e",
              "IPY_MODEL_de9dd6fad462497ba6754fa18aea4761"
            ],
            "layout": "IPY_MODEL_00d48ad99c084dfca577272e7980e264"
          }
        },
        "dee0d5b5f0e74710a61149c3bdd7f1eb": {
          "model_module": "@jupyter-widgets/controls",
          "model_name": "HTMLModel",
          "model_module_version": "1.5.0",
          "state": {
            "_dom_classes": [],
            "_model_module": "@jupyter-widgets/controls",
            "_model_module_version": "1.5.0",
            "_model_name": "HTMLModel",
            "_view_count": null,
            "_view_module": "@jupyter-widgets/controls",
            "_view_module_version": "1.5.0",
            "_view_name": "HTMLView",
            "description": "",
            "description_tooltip": null,
            "layout": "IPY_MODEL_9b271c5324b34e6d9b8b4904456db306",
            "placeholder": "​",
            "style": "IPY_MODEL_c1564d9e01f640468bba661bc9bedc5a",
            "value": "Saving the dataset (1/1 shards): 100%"
          }
        },
        "1408fca08c8643fc85a7648c4db2a90e": {
          "model_module": "@jupyter-widgets/controls",
          "model_name": "FloatProgressModel",
          "model_module_version": "1.5.0",
          "state": {
            "_dom_classes": [],
            "_model_module": "@jupyter-widgets/controls",
            "_model_module_version": "1.5.0",
            "_model_name": "FloatProgressModel",
            "_view_count": null,
            "_view_module": "@jupyter-widgets/controls",
            "_view_module_version": "1.5.0",
            "_view_name": "ProgressView",
            "bar_style": "success",
            "description": "",
            "description_tooltip": null,
            "layout": "IPY_MODEL_842fdde6c07d4903a774fda5ca8eba79",
            "max": 1127,
            "min": 0,
            "orientation": "horizontal",
            "style": "IPY_MODEL_3a8fdad0d7794720911acbe59aefeaf0",
            "value": 1127
          }
        },
        "de9dd6fad462497ba6754fa18aea4761": {
          "model_module": "@jupyter-widgets/controls",
          "model_name": "HTMLModel",
          "model_module_version": "1.5.0",
          "state": {
            "_dom_classes": [],
            "_model_module": "@jupyter-widgets/controls",
            "_model_module_version": "1.5.0",
            "_model_name": "HTMLModel",
            "_view_count": null,
            "_view_module": "@jupyter-widgets/controls",
            "_view_module_version": "1.5.0",
            "_view_name": "HTMLView",
            "description": "",
            "description_tooltip": null,
            "layout": "IPY_MODEL_2dd3ebdcdb584623a8322b74fb5d4006",
            "placeholder": "​",
            "style": "IPY_MODEL_de6232ccb24843b889b86296f0ab17b4",
            "value": " 1127/1127 [00:00&lt;00:00, 100990.91 examples/s]"
          }
        },
        "00d48ad99c084dfca577272e7980e264": {
          "model_module": "@jupyter-widgets/base",
          "model_name": "LayoutModel",
          "model_module_version": "1.2.0",
          "state": {
            "_model_module": "@jupyter-widgets/base",
            "_model_module_version": "1.2.0",
            "_model_name": "LayoutModel",
            "_view_count": null,
            "_view_module": "@jupyter-widgets/base",
            "_view_module_version": "1.2.0",
            "_view_name": "LayoutView",
            "align_content": null,
            "align_items": null,
            "align_self": null,
            "border": null,
            "bottom": null,
            "display": null,
            "flex": null,
            "flex_flow": null,
            "grid_area": null,
            "grid_auto_columns": null,
            "grid_auto_flow": null,
            "grid_auto_rows": null,
            "grid_column": null,
            "grid_gap": null,
            "grid_row": null,
            "grid_template_areas": null,
            "grid_template_columns": null,
            "grid_template_rows": null,
            "height": null,
            "justify_content": null,
            "justify_items": null,
            "left": null,
            "margin": null,
            "max_height": null,
            "max_width": null,
            "min_height": null,
            "min_width": null,
            "object_fit": null,
            "object_position": null,
            "order": null,
            "overflow": null,
            "overflow_x": null,
            "overflow_y": null,
            "padding": null,
            "right": null,
            "top": null,
            "visibility": null,
            "width": null
          }
        },
        "9b271c5324b34e6d9b8b4904456db306": {
          "model_module": "@jupyter-widgets/base",
          "model_name": "LayoutModel",
          "model_module_version": "1.2.0",
          "state": {
            "_model_module": "@jupyter-widgets/base",
            "_model_module_version": "1.2.0",
            "_model_name": "LayoutModel",
            "_view_count": null,
            "_view_module": "@jupyter-widgets/base",
            "_view_module_version": "1.2.0",
            "_view_name": "LayoutView",
            "align_content": null,
            "align_items": null,
            "align_self": null,
            "border": null,
            "bottom": null,
            "display": null,
            "flex": null,
            "flex_flow": null,
            "grid_area": null,
            "grid_auto_columns": null,
            "grid_auto_flow": null,
            "grid_auto_rows": null,
            "grid_column": null,
            "grid_gap": null,
            "grid_row": null,
            "grid_template_areas": null,
            "grid_template_columns": null,
            "grid_template_rows": null,
            "height": null,
            "justify_content": null,
            "justify_items": null,
            "left": null,
            "margin": null,
            "max_height": null,
            "max_width": null,
            "min_height": null,
            "min_width": null,
            "object_fit": null,
            "object_position": null,
            "order": null,
            "overflow": null,
            "overflow_x": null,
            "overflow_y": null,
            "padding": null,
            "right": null,
            "top": null,
            "visibility": null,
            "width": null
          }
        },
        "c1564d9e01f640468bba661bc9bedc5a": {
          "model_module": "@jupyter-widgets/controls",
          "model_name": "DescriptionStyleModel",
          "model_module_version": "1.5.0",
          "state": {
            "_model_module": "@jupyter-widgets/controls",
            "_model_module_version": "1.5.0",
            "_model_name": "DescriptionStyleModel",
            "_view_count": null,
            "_view_module": "@jupyter-widgets/base",
            "_view_module_version": "1.2.0",
            "_view_name": "StyleView",
            "description_width": ""
          }
        },
        "842fdde6c07d4903a774fda5ca8eba79": {
          "model_module": "@jupyter-widgets/base",
          "model_name": "LayoutModel",
          "model_module_version": "1.2.0",
          "state": {
            "_model_module": "@jupyter-widgets/base",
            "_model_module_version": "1.2.0",
            "_model_name": "LayoutModel",
            "_view_count": null,
            "_view_module": "@jupyter-widgets/base",
            "_view_module_version": "1.2.0",
            "_view_name": "LayoutView",
            "align_content": null,
            "align_items": null,
            "align_self": null,
            "border": null,
            "bottom": null,
            "display": null,
            "flex": null,
            "flex_flow": null,
            "grid_area": null,
            "grid_auto_columns": null,
            "grid_auto_flow": null,
            "grid_auto_rows": null,
            "grid_column": null,
            "grid_gap": null,
            "grid_row": null,
            "grid_template_areas": null,
            "grid_template_columns": null,
            "grid_template_rows": null,
            "height": null,
            "justify_content": null,
            "justify_items": null,
            "left": null,
            "margin": null,
            "max_height": null,
            "max_width": null,
            "min_height": null,
            "min_width": null,
            "object_fit": null,
            "object_position": null,
            "order": null,
            "overflow": null,
            "overflow_x": null,
            "overflow_y": null,
            "padding": null,
            "right": null,
            "top": null,
            "visibility": null,
            "width": null
          }
        },
        "3a8fdad0d7794720911acbe59aefeaf0": {
          "model_module": "@jupyter-widgets/controls",
          "model_name": "ProgressStyleModel",
          "model_module_version": "1.5.0",
          "state": {
            "_model_module": "@jupyter-widgets/controls",
            "_model_module_version": "1.5.0",
            "_model_name": "ProgressStyleModel",
            "_view_count": null,
            "_view_module": "@jupyter-widgets/base",
            "_view_module_version": "1.2.0",
            "_view_name": "StyleView",
            "bar_color": null,
            "description_width": ""
          }
        },
        "2dd3ebdcdb584623a8322b74fb5d4006": {
          "model_module": "@jupyter-widgets/base",
          "model_name": "LayoutModel",
          "model_module_version": "1.2.0",
          "state": {
            "_model_module": "@jupyter-widgets/base",
            "_model_module_version": "1.2.0",
            "_model_name": "LayoutModel",
            "_view_count": null,
            "_view_module": "@jupyter-widgets/base",
            "_view_module_version": "1.2.0",
            "_view_name": "LayoutView",
            "align_content": null,
            "align_items": null,
            "align_self": null,
            "border": null,
            "bottom": null,
            "display": null,
            "flex": null,
            "flex_flow": null,
            "grid_area": null,
            "grid_auto_columns": null,
            "grid_auto_flow": null,
            "grid_auto_rows": null,
            "grid_column": null,
            "grid_gap": null,
            "grid_row": null,
            "grid_template_areas": null,
            "grid_template_columns": null,
            "grid_template_rows": null,
            "height": null,
            "justify_content": null,
            "justify_items": null,
            "left": null,
            "margin": null,
            "max_height": null,
            "max_width": null,
            "min_height": null,
            "min_width": null,
            "object_fit": null,
            "object_position": null,
            "order": null,
            "overflow": null,
            "overflow_x": null,
            "overflow_y": null,
            "padding": null,
            "right": null,
            "top": null,
            "visibility": null,
            "width": null
          }
        },
        "de6232ccb24843b889b86296f0ab17b4": {
          "model_module": "@jupyter-widgets/controls",
          "model_name": "DescriptionStyleModel",
          "model_module_version": "1.5.0",
          "state": {
            "_model_module": "@jupyter-widgets/controls",
            "_model_module_version": "1.5.0",
            "_model_name": "DescriptionStyleModel",
            "_view_count": null,
            "_view_module": "@jupyter-widgets/base",
            "_view_module_version": "1.2.0",
            "_view_name": "StyleView",
            "description_width": ""
          }
        },
        "7997ef3c7d804c298f6edda713aac41e": {
          "model_module": "@jupyter-widgets/controls",
          "model_name": "HBoxModel",
          "model_module_version": "1.5.0",
          "state": {
            "_dom_classes": [],
            "_model_module": "@jupyter-widgets/controls",
            "_model_module_version": "1.5.0",
            "_model_name": "HBoxModel",
            "_view_count": null,
            "_view_module": "@jupyter-widgets/controls",
            "_view_module_version": "1.5.0",
            "_view_name": "HBoxView",
            "box_style": "",
            "children": [
              "IPY_MODEL_67f61c6404a04e59ae8a45caf61970d6",
              "IPY_MODEL_a5cea9cc1d174e6a920538ff93d3a408",
              "IPY_MODEL_0cd42a04fe12438dab24316c9c168182"
            ],
            "layout": "IPY_MODEL_7366a671afd3429fb04210cbd012115a"
          }
        },
        "67f61c6404a04e59ae8a45caf61970d6": {
          "model_module": "@jupyter-widgets/controls",
          "model_name": "HTMLModel",
          "model_module_version": "1.5.0",
          "state": {
            "_dom_classes": [],
            "_model_module": "@jupyter-widgets/controls",
            "_model_module_version": "1.5.0",
            "_model_name": "HTMLModel",
            "_view_count": null,
            "_view_module": "@jupyter-widgets/controls",
            "_view_module_version": "1.5.0",
            "_view_name": "HTMLView",
            "description": "",
            "description_tooltip": null,
            "layout": "IPY_MODEL_742d8263cf0241d39621ed638963a044",
            "placeholder": "​",
            "style": "IPY_MODEL_fe366075d6f948bba676ab3a72e072c3",
            "value": "Map: 100%"
          }
        },
        "a5cea9cc1d174e6a920538ff93d3a408": {
          "model_module": "@jupyter-widgets/controls",
          "model_name": "FloatProgressModel",
          "model_module_version": "1.5.0",
          "state": {
            "_dom_classes": [],
            "_model_module": "@jupyter-widgets/controls",
            "_model_module_version": "1.5.0",
            "_model_name": "FloatProgressModel",
            "_view_count": null,
            "_view_module": "@jupyter-widgets/controls",
            "_view_module_version": "1.5.0",
            "_view_name": "ProgressView",
            "bar_style": "success",
            "description": "",
            "description_tooltip": null,
            "layout": "IPY_MODEL_405d328c1b5d4bf28cfb37a9f7d6a2d6",
            "max": 1127,
            "min": 0,
            "orientation": "horizontal",
            "style": "IPY_MODEL_7b51b0e9588b42489918e3a2be3f4a86",
            "value": 1127
          }
        },
        "0cd42a04fe12438dab24316c9c168182": {
          "model_module": "@jupyter-widgets/controls",
          "model_name": "HTMLModel",
          "model_module_version": "1.5.0",
          "state": {
            "_dom_classes": [],
            "_model_module": "@jupyter-widgets/controls",
            "_model_module_version": "1.5.0",
            "_model_name": "HTMLModel",
            "_view_count": null,
            "_view_module": "@jupyter-widgets/controls",
            "_view_module_version": "1.5.0",
            "_view_name": "HTMLView",
            "description": "",
            "description_tooltip": null,
            "layout": "IPY_MODEL_af828fdf678440b4a3d9fa2ac29505e4",
            "placeholder": "​",
            "style": "IPY_MODEL_df525633598a41f5b0fcf4b57644cb95",
            "value": " 1127/1127 [00:00&lt;00:00, 4820.85 examples/s]"
          }
        },
        "7366a671afd3429fb04210cbd012115a": {
          "model_module": "@jupyter-widgets/base",
          "model_name": "LayoutModel",
          "model_module_version": "1.2.0",
          "state": {
            "_model_module": "@jupyter-widgets/base",
            "_model_module_version": "1.2.0",
            "_model_name": "LayoutModel",
            "_view_count": null,
            "_view_module": "@jupyter-widgets/base",
            "_view_module_version": "1.2.0",
            "_view_name": "LayoutView",
            "align_content": null,
            "align_items": null,
            "align_self": null,
            "border": null,
            "bottom": null,
            "display": null,
            "flex": null,
            "flex_flow": null,
            "grid_area": null,
            "grid_auto_columns": null,
            "grid_auto_flow": null,
            "grid_auto_rows": null,
            "grid_column": null,
            "grid_gap": null,
            "grid_row": null,
            "grid_template_areas": null,
            "grid_template_columns": null,
            "grid_template_rows": null,
            "height": null,
            "justify_content": null,
            "justify_items": null,
            "left": null,
            "margin": null,
            "max_height": null,
            "max_width": null,
            "min_height": null,
            "min_width": null,
            "object_fit": null,
            "object_position": null,
            "order": null,
            "overflow": null,
            "overflow_x": null,
            "overflow_y": null,
            "padding": null,
            "right": null,
            "top": null,
            "visibility": null,
            "width": null
          }
        },
        "742d8263cf0241d39621ed638963a044": {
          "model_module": "@jupyter-widgets/base",
          "model_name": "LayoutModel",
          "model_module_version": "1.2.0",
          "state": {
            "_model_module": "@jupyter-widgets/base",
            "_model_module_version": "1.2.0",
            "_model_name": "LayoutModel",
            "_view_count": null,
            "_view_module": "@jupyter-widgets/base",
            "_view_module_version": "1.2.0",
            "_view_name": "LayoutView",
            "align_content": null,
            "align_items": null,
            "align_self": null,
            "border": null,
            "bottom": null,
            "display": null,
            "flex": null,
            "flex_flow": null,
            "grid_area": null,
            "grid_auto_columns": null,
            "grid_auto_flow": null,
            "grid_auto_rows": null,
            "grid_column": null,
            "grid_gap": null,
            "grid_row": null,
            "grid_template_areas": null,
            "grid_template_columns": null,
            "grid_template_rows": null,
            "height": null,
            "justify_content": null,
            "justify_items": null,
            "left": null,
            "margin": null,
            "max_height": null,
            "max_width": null,
            "min_height": null,
            "min_width": null,
            "object_fit": null,
            "object_position": null,
            "order": null,
            "overflow": null,
            "overflow_x": null,
            "overflow_y": null,
            "padding": null,
            "right": null,
            "top": null,
            "visibility": null,
            "width": null
          }
        },
        "fe366075d6f948bba676ab3a72e072c3": {
          "model_module": "@jupyter-widgets/controls",
          "model_name": "DescriptionStyleModel",
          "model_module_version": "1.5.0",
          "state": {
            "_model_module": "@jupyter-widgets/controls",
            "_model_module_version": "1.5.0",
            "_model_name": "DescriptionStyleModel",
            "_view_count": null,
            "_view_module": "@jupyter-widgets/base",
            "_view_module_version": "1.2.0",
            "_view_name": "StyleView",
            "description_width": ""
          }
        },
        "405d328c1b5d4bf28cfb37a9f7d6a2d6": {
          "model_module": "@jupyter-widgets/base",
          "model_name": "LayoutModel",
          "model_module_version": "1.2.0",
          "state": {
            "_model_module": "@jupyter-widgets/base",
            "_model_module_version": "1.2.0",
            "_model_name": "LayoutModel",
            "_view_count": null,
            "_view_module": "@jupyter-widgets/base",
            "_view_module_version": "1.2.0",
            "_view_name": "LayoutView",
            "align_content": null,
            "align_items": null,
            "align_self": null,
            "border": null,
            "bottom": null,
            "display": null,
            "flex": null,
            "flex_flow": null,
            "grid_area": null,
            "grid_auto_columns": null,
            "grid_auto_flow": null,
            "grid_auto_rows": null,
            "grid_column": null,
            "grid_gap": null,
            "grid_row": null,
            "grid_template_areas": null,
            "grid_template_columns": null,
            "grid_template_rows": null,
            "height": null,
            "justify_content": null,
            "justify_items": null,
            "left": null,
            "margin": null,
            "max_height": null,
            "max_width": null,
            "min_height": null,
            "min_width": null,
            "object_fit": null,
            "object_position": null,
            "order": null,
            "overflow": null,
            "overflow_x": null,
            "overflow_y": null,
            "padding": null,
            "right": null,
            "top": null,
            "visibility": null,
            "width": null
          }
        },
        "7b51b0e9588b42489918e3a2be3f4a86": {
          "model_module": "@jupyter-widgets/controls",
          "model_name": "ProgressStyleModel",
          "model_module_version": "1.5.0",
          "state": {
            "_model_module": "@jupyter-widgets/controls",
            "_model_module_version": "1.5.0",
            "_model_name": "ProgressStyleModel",
            "_view_count": null,
            "_view_module": "@jupyter-widgets/base",
            "_view_module_version": "1.2.0",
            "_view_name": "StyleView",
            "bar_color": null,
            "description_width": ""
          }
        },
        "af828fdf678440b4a3d9fa2ac29505e4": {
          "model_module": "@jupyter-widgets/base",
          "model_name": "LayoutModel",
          "model_module_version": "1.2.0",
          "state": {
            "_model_module": "@jupyter-widgets/base",
            "_model_module_version": "1.2.0",
            "_model_name": "LayoutModel",
            "_view_count": null,
            "_view_module": "@jupyter-widgets/base",
            "_view_module_version": "1.2.0",
            "_view_name": "LayoutView",
            "align_content": null,
            "align_items": null,
            "align_self": null,
            "border": null,
            "bottom": null,
            "display": null,
            "flex": null,
            "flex_flow": null,
            "grid_area": null,
            "grid_auto_columns": null,
            "grid_auto_flow": null,
            "grid_auto_rows": null,
            "grid_column": null,
            "grid_gap": null,
            "grid_row": null,
            "grid_template_areas": null,
            "grid_template_columns": null,
            "grid_template_rows": null,
            "height": null,
            "justify_content": null,
            "justify_items": null,
            "left": null,
            "margin": null,
            "max_height": null,
            "max_width": null,
            "min_height": null,
            "min_width": null,
            "object_fit": null,
            "object_position": null,
            "order": null,
            "overflow": null,
            "overflow_x": null,
            "overflow_y": null,
            "padding": null,
            "right": null,
            "top": null,
            "visibility": null,
            "width": null
          }
        },
        "df525633598a41f5b0fcf4b57644cb95": {
          "model_module": "@jupyter-widgets/controls",
          "model_name": "DescriptionStyleModel",
          "model_module_version": "1.5.0",
          "state": {
            "_model_module": "@jupyter-widgets/controls",
            "_model_module_version": "1.5.0",
            "_model_name": "DescriptionStyleModel",
            "_view_count": null,
            "_view_module": "@jupyter-widgets/base",
            "_view_module_version": "1.2.0",
            "_view_name": "StyleView",
            "description_width": ""
          }
        }
      }
    }
  },
  "nbformat": 4,
  "nbformat_minor": 0
}