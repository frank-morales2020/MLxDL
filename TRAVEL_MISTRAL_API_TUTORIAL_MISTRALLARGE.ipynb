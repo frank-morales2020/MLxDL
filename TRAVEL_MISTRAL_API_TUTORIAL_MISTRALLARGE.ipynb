{
  "nbformat": 4,
  "nbformat_minor": 0,
  "metadata": {
    "colab": {
      "provenance": [],
      "machine_shape": "hm",
      "authorship_tag": "ABX9TyPJeEB1O5AnMjWS7RG2o+TI",
      "include_colab_link": true
    },
    "kernelspec": {
      "name": "python3",
      "display_name": "Python 3"
    },
    "language_info": {
      "name": "python"
    }
  },
  "cells": [
    {
      "cell_type": "markdown",
      "metadata": {
        "id": "view-in-github",
        "colab_type": "text"
      },
      "source": [
        "<a href=\"https://colab.research.google.com/github/frank-morales2020/MLxDL/blob/main/TRAVEL_MISTRAL_API_TUTORIAL_MISTRALLARGE.ipynb\" target=\"_parent\"><img src=\"https://colab.research.google.com/assets/colab-badge.svg\" alt=\"Open In Colab\"/></a>"
      ]
    },
    {
      "cell_type": "markdown",
      "source": [
        "https://docs.mistral.ai/platform/client/\n",
        "\n",
        "https://github.com/mistralai/client-python\n",
        "\n",
        "https://docs.mistral.ai/getting-started/models/models_overview/\n",
        "\n",
        "https://mistral.ai/news/mistral-small-3"
      ],
      "metadata": {
        "id": "HFSQBSaVuYEu"
      }
    },
    {
      "cell_type": "markdown",
      "source": [
        "# Dependencies and Settings"
      ],
      "metadata": {
        "id": "NesDaI4OICGe"
      }
    },
    {
      "cell_type": "code",
      "source": [
        "!pip install colab-env --quiet\n",
        "!pip install mistralai --quiet\n",
        "\n",
        "# Install Hugging Face libraries\n",
        "!pip install  --upgrade transformers datasets accelerate evaluate bitsandbytes --quiet"
      ],
      "metadata": {
        "id": "ghqAXWE-xJa_"
      },
      "execution_count": null,
      "outputs": []
    },
    {
      "cell_type": "code",
      "source": [
        "import mistralai\n",
        "from mistralai.client import MistralClient\n",
        "#from mistralai.models.chat_completion import ChatMessage\n",
        "import os\n",
        "import colab_env\n",
        "import json"
      ],
      "metadata": {
        "id": "a87Hog_P8h9P"
      },
      "execution_count": null,
      "outputs": []
    },
    {
      "cell_type": "markdown",
      "source": [
        "# MISTRAL API SETTINGS"
      ],
      "metadata": {
        "id": "9V3yq8LLuqdT"
      }
    },
    {
      "cell_type": "code",
      "source": [
        "from mistralai import Mistral\n",
        "api_key = os.environ[\"MISTRAL_API_KEY\"]\n",
        "client = Mistral(api_key=api_key)"
      ],
      "metadata": {
        "id": "NnLef38upn75"
      },
      "execution_count": 3,
      "outputs": []
    },
    {
      "cell_type": "markdown",
      "source": [
        "# Function Definitions"
      ],
      "metadata": {
        "id": "5axbl8pdofkY"
      }
    },
    {
      "cell_type": "code",
      "source": [
        "def mistral_chat(prompt, model, client, stream):\n",
        "    # Removed MistralClient instantiation\n",
        "    messages = [{\"role\": \"user\", \"content\": prompt}]  # Use dictionary for messages\n",
        "    if stream:\n",
        "        print(\"Streaming\")\n",
        "        print()\n",
        "        print('Answer: ')\n",
        "        # Use client.chat.complete_stream for streaming\n",
        "        for chunk in client.chat.complete_stream(model=model, messages=messages):\n",
        "            if chunk.choices[0].delta.content is not None:\n",
        "                print(chunk.choices[0].delta.content, end=\"\")\n",
        "    else:\n",
        "        # Use client.chat.complete for non-streaming\n",
        "        chat_response = client.chat.complete(model=model, messages=messages, temperature=0.9)\n",
        "        return chat_response"
      ],
      "metadata": {
        "id": "7UgmK-jmBKfa"
      },
      "execution_count": 6,
      "outputs": []
    },
    {
      "cell_type": "code",
      "source": [
        "def create_prompt_formats(sample):\n",
        "    \"\"\"\n",
        "    Format various fields of the sample ('instruction','output')\n",
        "    Then concatenate them using two newline characters\n",
        "    :param sample: Sample dictionnary\n",
        "    \"\"\"\n",
        "    INTRO_BLURB = \"Below is an instruction that describes a task. Write a response that appropriately completes the request.\"\n",
        "    INSTRUCTION_KEY = \"### Instruct: Summarize the below conversation.\"\n",
        "    RESPONSE_KEY = \"### Output:\"\n",
        "    END_KEY = \"### End\"\n",
        "\n",
        "    blurb = f\"\\n{INTRO_BLURB}\"\n",
        "    instruction = f\"{INSTRUCTION_KEY}\"\n",
        "    input_context = f\"{sample['dialogue']}\" if sample[\"dialogue\"] else None\n",
        "    response = f\"{RESPONSE_KEY}\\n{sample['summary']}\"\n",
        "    end = f\"{END_KEY}\"\n",
        "\n",
        "    parts = [part for part in [blurb, instruction, input_context, response, end] if part]\n",
        "\n",
        "    formatted_prompt = \"\\n\\n\".join(parts)\n",
        "    sample[\"text\"] = formatted_prompt\n",
        "\n",
        "    return sample"
      ],
      "metadata": {
        "id": "LY2NjeYtpGet"
      },
      "execution_count": 7,
      "outputs": []
    },
    {
      "cell_type": "markdown",
      "source": [
        "# Managenment"
      ],
      "metadata": {
        "id": "Rwwy34zSFHD2"
      }
    },
    {
      "cell_type": "code",
      "source": [
        "client = Mistral(api_key=api_key)  # Use MistralClient instead of Mistral\n",
        "model_list = client.models.list()\n",
        "\n",
        "for model in model_list.data:\n",
        "    print(model.id)\n",
        "    #print(model.created)\n",
        "    #print(model.owned_by)"
      ],
      "metadata": {
        "id": "kJGSPIMaDBPv",
        "colab": {
          "base_uri": "https://localhost:8080/"
        },
        "outputId": "7cf2bd46-12e7-4d9d-b274-7503e1792a01"
      },
      "execution_count": 8,
      "outputs": [
        {
          "output_type": "stream",
          "name": "stdout",
          "text": [
            "ministral-3b-2410\n",
            "ministral-3b-latest\n",
            "ministral-8b-2410\n",
            "ministral-8b-latest\n",
            "open-mistral-7b\n",
            "mistral-tiny\n",
            "mistral-tiny-2312\n",
            "open-mistral-nemo\n",
            "open-mistral-nemo-2407\n",
            "mistral-tiny-2407\n",
            "mistral-tiny-latest\n",
            "open-mixtral-8x7b\n",
            "mistral-small\n",
            "mistral-small-2312\n",
            "open-mixtral-8x22b\n",
            "open-mixtral-8x22b-2404\n",
            "mistral-small-2402\n",
            "mistral-small-2409\n",
            "mistral-medium-2312\n",
            "mistral-large-2402\n",
            "mistral-large-2407\n",
            "mistral-large-2411\n",
            "mistral-large-latest\n",
            "pixtral-large-2411\n",
            "pixtral-large-latest\n",
            "mistral-large-pixtral-2411\n",
            "codestral-2405\n",
            "codestral-2501\n",
            "codestral-latest\n",
            "codestral-2412\n",
            "codestral-2411-rc5\n",
            "codestral-mamba-2407\n",
            "open-codestral-mamba\n",
            "codestral-mamba-latest\n",
            "pixtral-12b-2409\n",
            "pixtral-12b\n",
            "pixtral-12b-latest\n",
            "mistral-small-2501\n",
            "mistral-small-2503\n",
            "mistral-small-latest\n",
            "mistral-saba-2502\n",
            "mistral-saba-latest\n",
            "mistral-medium-2505\n",
            "mistral-medium-latest\n",
            "mistral-medium\n",
            "mistral-embed\n",
            "mistral-moderation-2411\n",
            "mistral-moderation-latest\n",
            "mistral-ocr-2503\n",
            "mistral-ocr-latest\n",
            "ft:open-mistral-7b:9c9073bb:20250319:42325165\n",
            "ft:open-mistral-7b:9c9073bb:20250319:01258b27\n"
          ]
        }
      ]
    },
    {
      "cell_type": "markdown",
      "source": [
        "https://mistral.ai/news/mistral-small-3"
      ],
      "metadata": {
        "id": "3Dem3fc9dN1P"
      }
    },
    {
      "cell_type": "code",
      "source": [
        "model=model_list.data[22].id\n",
        "model"
      ],
      "metadata": {
        "colab": {
          "base_uri": "https://localhost:8080/",
          "height": 35
        },
        "id": "5uO56886bzN0",
        "outputId": "24b37d16-ddda-4dd6-d233-fb33baacdf35"
      },
      "execution_count": 32,
      "outputs": [
        {
          "output_type": "execute_result",
          "data": {
            "text/plain": [
              "'mistral-large-latest'"
            ],
            "application/vnd.google.colaboratory.intrinsic+json": {
              "type": "string"
            }
          },
          "metadata": {},
          "execution_count": 32
        }
      ]
    },
    {
      "cell_type": "code",
      "source": [
        "messages = [{\"role\": \"user\", \"content\": \"What is the best French cheese?\"}]\n",
        "\n",
        "chat_response = client.chat.complete(  # Use client.chat.complete\n",
        "    model=model,\n",
        "    messages=messages,\n",
        ")\n",
        "print(chat_response.choices[0].message.content)"
      ],
      "metadata": {
        "id": "fgqaQVZ6W7GA",
        "colab": {
          "base_uri": "https://localhost:8080/"
        },
        "outputId": "8aed52f9-375b-478d-8194-d4b1ef41e5d9"
      },
      "execution_count": 33,
      "outputs": [
        {
          "output_type": "stream",
          "name": "stdout",
          "text": [
            "Choosing the \"best\" French cheese can be quite subjective, as it depends on personal taste. France is renowned for its wide variety of cheeses, with over 400 different types. Here are a few highly regarded ones across different categories:\n",
            "\n",
            "1. **Soft Cheeses**:\n",
            "   - **Brie de Meaux**: Often referred to as the \"King of Cheeses,\" it has a rich, creamy interior and a bloomy rind.\n",
            "   - **Camembert de Normandie**: Another famous soft cheese with a delicate, earthy flavor.\n",
            "\n",
            "2. **Semi-Soft Cheeses**:\n",
            "   - **Morbier**: Known for its distinctive layer of ash in the middle, it has a mild, nutty flavor.\n",
            "   - **Reblochon**: A savory cheese from the Alps, often used in the dish Tartiflette.\n",
            "\n",
            "3. **Hard Cheeses**:\n",
            "   - **Comté**: A popular choice with a complex, nutty flavor that varies based on age.\n",
            "   - **Beaufort**: Similar to Comté, it has a strong, slightly sweet flavor.\n",
            "\n",
            "4. **Blue Cheeses**:\n",
            "   - **Roquefort**: A classic blue cheese made from sheep's milk, with a tangy, salty flavor.\n",
            "   - **Bleu d'Auvergne**: A milder blue cheese with a creamy, buttery texture.\n",
            "\n",
            "5. **Goat Cheeses**:\n",
            "   - **Chèvre**: A generic term for goat cheese, it comes in many forms and can be fresh, aged, or flavored.\n",
            "   - **Crottin de Chavignol**: A small, barrel-shaped goat cheese with a tangy flavor.\n",
            "\n",
            "Ultimately, the \"best\" French cheese is the one you enjoy the most. Don't hesitate to try several varieties to discover your favorite!\n"
          ]
        }
      ]
    },
    {
      "cell_type": "markdown",
      "source": [
        "# BOB TRAVEL APP"
      ],
      "metadata": {
        "id": "DjA7Fi2H2JIr"
      }
    },
    {
      "cell_type": "code",
      "source": [
        "from IPython.display import Markdown\n",
        "import textwrap\n",
        "def to_markdown(text):\n",
        "  text = text.replace('•', '  *')\n",
        "  return Markdown(textwrap.indent(text, '> ', predicate=lambda _: True))"
      ],
      "metadata": {
        "id": "strCIUnwX2u8"
      },
      "execution_count": 34,
      "outputs": []
    },
    {
      "cell_type": "code",
      "source": [
        "prompt= 'How do you plan out your trip? \\\n",
        "Bob is travelling to SAT from YVR \\\n",
        "1. He has a connection in DFW \\\n",
        "2. His connection is 6 hours long \\\n",
        "3. He has a budget of 100.00 including meals \\\n",
        "4. What can he do? Please suggest a time. \\\n",
        "5. Know- he is a hiker, museum, foodie, has a carry-on bag'\n",
        "\n",
        "print(prompt)\n",
        "\n",
        "response=mistral_chat(prompt,model,client,stream=False)\n",
        "\n",
        "print('\\n\\n')\n",
        "print('Answer: ')\n",
        "#print(response.choices[0].message.content)\n",
        "to_markdown(response.choices[0].message.content)"
      ],
      "metadata": {
        "id": "c5NHp3XLTCYU",
        "colab": {
          "base_uri": "https://localhost:8080/",
          "height": 770
        },
        "outputId": "c2b37bd2-e6fc-4435-909b-f4b6b558404d"
      },
      "execution_count": 35,
      "outputs": [
        {
          "output_type": "stream",
          "name": "stdout",
          "text": [
            "How do you plan out your trip? Bob is travelling to SAT from YVR 1. He has a connection in DFW 2. His connection is 6 hours long 3. He has a budget of 100.00 including meals 4. What can he do? Please suggest a time. 5. Know- he is a hiker, museum, foodie, has a carry-on bag\n",
            "\n",
            "\n",
            "\n",
            "Answer: \n"
          ]
        },
        {
          "output_type": "execute_result",
          "data": {
            "text/plain": [
              "<IPython.core.display.Markdown object>"
            ],
            "text/markdown": "> To help Bob plan his trip from YVR (Vancouver International Airport) to SAT (San Antonio International Airport) with a 6-hour layover in DFW (Dallas/Fort Worth International Airport), here's a suggested itinerary that caters to his interests and budget:\n> \n> ### Suggested Itinerary\n> \n> #### 1. Departure from YVR\n> - **Flight to DFW**: Make sure to have your boarding pass and any necessary travel documents ready.\n> \n> #### 2. Arrival at DFW\n> - **Landing and Disembarkation**: Follow the signs to your connecting gate. Since you have a 6-hour layover, you can take your time.\n> - **Storing Luggage**: Check if DFW has a luggage storage facility. If not, consider carrying a small, light backpack with essentials.\n> \n> #### 3. Layover at DFW (6 hours)\n> - **Total Budget**: $100.00 for meals and activities.\n> \n> ##### Suggested Activities:\n> 1. **DFW Airport Amenities**:\n>    - **Food (11:00 AM - 11:30 AM)**: Start with a meal. There are various dining options at DFW.\n>      - **Recommendation**: Visit the **TGI Fridays** in Terminal A. A meal here should cost around $15-$20.\n>      - **Budget Remaining**: $80.00 - $85.00\n> \n> 2. **Museum Exploration (12:00 PM - 1:30 PM)**:\n>    - **Founders' Plaza Observation Area**: Just outside the airport, this outdoor observation area offers a great view of planes taking off and landing. It's free and a great spot for aviation enthusiasts.\n>      - **Getting There**: Take a short taxi ride (about $10-$15 one way).\n>      - **Budget Remaining**: $65.00 - $75.00\n> \n> 3. **Hiking/Walking (1:45 PM - 2:45 PM)**:\n>    - **Trinity River Audubon Center**: A 20-minute drive from the airport, this center offers beautiful trails and bird-watching opportunities.\n>      - **Getting There**: Take a taxi or use a ride-sharing service (approximately $20-$25 round trip).\n>      - **Budget Remaining**: $40.00 - $55.00\n> \n> 4. **Relax and Refresh (3:15 PM - 4:00 PM)**:\n>    - **Return to DFW**: Grab a coffee or snack at one of the airport cafes.\n>      - **Recommendation**: **Starbucks** or **Dazbog Coffee**.\n>      - **Budget Remaining**: $30.00 - $45.00\n> \n> 5. **Final Check and Boarding (4:00 PM - 4:30 PM)**:\n>    - **Head to your gate**: Ensure you have enough time to go through security and reach your gate for the flight to SAT.\n> \n> #### 4. Departure to SAT\n> - **Flight to San Antonio**: Board your flight and head to your final destination.\n> \n> ### Summary:\n> - **Meal at DFW**: $15-$20\n> - **Founders' Plaza Observation Area**: Free + $10-$15 taxi\n> - **Trinity River Audubon Center**: $20-$25 taxi\n> - **Coffee/Snack at DFW**: $5-$10\n> \n> ### Total Estimated Spending:\n> - **Lower End**: $50.00\n> - **Higher End**: $70.00\n> \n> ### Remaining Budget:\n> - **Lower End**: $30.00\n> - **Higher End**: $50.00\n> \n> This itinerary should give Bob a balanced experience of dining, outdoor activity, and a bit of relaxation, all within his budget."
          },
          "metadata": {},
          "execution_count": 35
        }
      ]
    },
    {
      "cell_type": "markdown",
      "source": [
        "## BOB TRAVEL TO LONDON"
      ],
      "metadata": {
        "id": "1HVn7eHKpD_D"
      }
    },
    {
      "cell_type": "code",
      "source": [
        "prompt = \"\"\"\n",
        "        \\n\\nHuman: How do you plan out your trip?\n",
        "\n",
        "        Here's a scenario:\n",
        "\n",
        "        A traveler is visiting London.\n",
        "\n",
        "        Trip Details:\n",
        "        1. The traveler has the following preferences: They enjoy history, art, and trying new foods. They prefer walking or public transportation.\n",
        "        2. The trip starts on 2025-05-15 and ends on 2025-05-25.\n",
        "        3. The traveler is interested in activities like visiting museums, historical sites, exploring local markets, and trying authentic cuisine.\n",
        "\n",
        "        The Question:\n",
        "        Considering the traveler's preferences, desired location, trip dates, and preferred activities, please provide a detailed itinerary.\n",
        "\n",
        "        Important Considerations:\n",
        "        * Time: The traveler has limited time and needs to account for travel time between activities.\n",
        "        * Budget: Suggest activities that are reasonably priced or free.\n",
        "        * Interests: Focus on activities that align with the traveler's preferences.\n",
        "\n",
        "        Desired Output:\n",
        "        Provide a structured response in JSON format with the following details:\n",
        "\n",
        "        * \"title\": A title for the itinerary.\n",
        "        * \"description\": A brief description of the itinerary.\n",
        "        * \"days\": A list of days, each containing:\n",
        "            * \"day\": The day number (e.g., 1, 2, 3).\n",
        "            * \"activities\": A list of activities for that day, each containing:\n",
        "                * \"name\": The name of the activity.\n",
        "                * \"description\": A description of the activity.\n",
        "                * \"duration\": The estimated duration of the activity.\n",
        "                * \"cost\": The estimated cost of the activity.\n",
        "        \\n\\nAssistant:\n",
        "        \"\"\"\n",
        "\n",
        "print(prompt)\n",
        "\n",
        "response=mistral_chat(prompt,model,client,stream=False)\n",
        "\n",
        "print('\\n\\n')\n",
        "print('Answer: ')\n",
        "#print(response.choices[0].message.content)\n",
        "to_markdown(response.choices[0].message.content)"
      ],
      "metadata": {
        "colab": {
          "base_uri": "https://localhost:8080/",
          "height": 1000
        },
        "id": "kM9Pid-5neeh",
        "outputId": "57403d4f-9a4a-491e-9f42-f6b4e85f8e21"
      },
      "execution_count": 36,
      "outputs": [
        {
          "output_type": "stream",
          "name": "stdout",
          "text": [
            "\n",
            "        \n",
            "\n",
            "Human: How do you plan out your trip?\n",
            "\n",
            "        Here's a scenario:\n",
            "\n",
            "        A traveler is visiting London.\n",
            "\n",
            "        Trip Details:\n",
            "        1. The traveler has the following preferences: They enjoy history, art, and trying new foods. They prefer walking or public transportation.\n",
            "        2. The trip starts on 2025-05-15 and ends on 2025-05-25.\n",
            "        3. The traveler is interested in activities like visiting museums, historical sites, exploring local markets, and trying authentic cuisine.\n",
            "\n",
            "        The Question:\n",
            "        Considering the traveler's preferences, desired location, trip dates, and preferred activities, please provide a detailed itinerary.\n",
            "\n",
            "        Important Considerations:\n",
            "        * Time: The traveler has limited time and needs to account for travel time between activities.\n",
            "        * Budget: Suggest activities that are reasonably priced or free.\n",
            "        * Interests: Focus on activities that align with the traveler's preferences.\n",
            "\n",
            "        Desired Output:\n",
            "        Provide a structured response in JSON format with the following details:\n",
            "\n",
            "        * \"title\": A title for the itinerary.\n",
            "        * \"description\": A brief description of the itinerary.\n",
            "        * \"days\": A list of days, each containing:\n",
            "            * \"day\": The day number (e.g., 1, 2, 3).\n",
            "            * \"activities\": A list of activities for that day, each containing:\n",
            "                * \"name\": The name of the activity.\n",
            "                * \"description\": A description of the activity.\n",
            "                * \"duration\": The estimated duration of the activity.\n",
            "                * \"cost\": The estimated cost of the activity.\n",
            "        \n",
            "\n",
            "Assistant:\n",
            "        \n",
            "\n",
            "\n",
            "\n",
            "Answer: \n"
          ]
        },
        {
          "output_type": "execute_result",
          "data": {
            "text/plain": [
              "<IPython.core.display.Markdown object>"
            ],
            "text/markdown": "> ```json\n> {\n>   \"title\": \"Historic and Cultural London Experience\",\n>   \"description\": \"A 10-day itinerary exploring London's rich history, art, and cuisine through museums, historical sites, local markets, and authentic dining experiences.\",\n>   \"days\": [\n>     {\n>       \"day\": 1,\n>       \"activities\": [\n>         {\n>           \"name\": \"Arrival and Check-In\",\n>           \"description\": \"Check into your accommodation and settle in.\",\n>           \"duration\": \"2 hours\",\n>           \"cost\": \"Varies based on accommodation\"\n>         },\n>         {\n>           \"name\": \"Explore Covent Garden\",\n>           \"description\": \"Stroll around Covent Garden, visit local shops and eateries.\",\n>           \"duration\": \"3 hours\",\n>           \"cost\": \"Free to walk around\"\n>         }\n>       ]\n>     },\n>     {\n>       \"day\": 2,\n>       \"activities\": [\n>         {\n>           \"name\": \"British Museum\",\n>           \"description\": \"Explore the world-famous British Museum and its extensive collections.\",\n>           \"duration\": \"4 hours\",\n>           \"cost\": \"Free\"\n>         },\n>         {\n>           \"name\": \"Lunch at Borough Market\",\n>           \"description\": \"Sample a variety of authentic British and international cuisines.\",\n>           \"duration\": \"2 hours\",\n>           \"cost\": \"£10-£20\"\n>         }\n>       ]\n>     },\n>     {\n>       \"day\": 3,\n>       \"activities\": [\n>         {\n>           \"name\": \"Tower of London\",\n>           \"description\": \"Visit the historic Tower of London and see the Crown Jewels.\",\n>           \"duration\": \"3 hours\",\n>           \"cost\": \"£28\"\n>         },\n>         {\n>           \"name\": \"Walk along the River Thames\",\n>           \"description\": \"Enjoy a leisurely walk along the River Thames and see iconic landmarks.\",\n>           \"duration\": \"2 hours\",\n>           \"cost\": \"Free\"\n>         }\n>       ]\n>     },\n>     {\n>       \"day\": 4,\n>       \"activities\": [\n>         {\n>           \"name\": \"Victoria and Albert Museum\",\n>           \"description\": \"Explore the world's largest museum of applied and decorative arts and design.\",\n>           \"duration\": \"4 hours\",\n>           \"cost\": \"Free\"\n>         },\n>         {\n>           \"name\": \"Dinner at a Local Pub\",\n>           \"description\": \"Experience traditional British pub fare.\",\n>           \"duration\": \"2 hours\",\n>           \"cost\": \"£15-£25\"\n>         }\n>       ]\n>     },\n>     {\n>       \"day\": 5,\n>       \"activities\": [\n>         {\n>           \"name\": \"Buckingham Palace\",\n>           \"description\": \"See the Changing of the Guard ceremony (if scheduled) and explore the palace grounds.\",\n>           \"duration\": \"2 hours\",\n>           \"cost\": \"Free\"\n>         },\n>         {\n>           \"name\": \"Westminster Abbey\",\n>           \"description\": \"Visit the historic Westminster Abbey and learn about its rich history.\",\n>           \"duration\": \"2 hours\",\n>           \"cost\": \"£23\"\n>         }\n>       ]\n>     },\n>     {\n>       \"day\": 6,\n>       \"activities\": [\n>         {\n>           \"name\": \"National Gallery\",\n>           \"description\": \"Explore one of the greatest collections of paintings in the world.\",\n>           \"duration\": \"3 hours\",\n>           \"cost\": \"Free\"\n>         },\n>         {\n>           \"name\": \"Trafalgar Square\",\n>           \"description\": \"Visit Trafalgar Square and see Nelson's Column.\",\n>           \"duration\": \"1 hour\",\n>           \"cost\": \"Free\"\n>         }\n>       ]\n>     },\n>     {\n>       \"day\": 7,\n>       \"activities\": [\n>         {\n>           \"name\": \"Camden Market\",\n>           \"description\": \"Explore Camden Market and try a variety of international street foods.\",\n>           \"duration\": \"3 hours\",\n>           \"cost\": \"£10-£20\"\n>         },\n>         {\n>           \"name\": \"Walk along Regent's Canal\",\n>           \"description\": \"Enjoy a peaceful walk along the scenic Regent's Canal.\",\n>           \"duration\": \"2 hours\",\n>           \"cost\": \"Free\"\n>         }\n>       ]\n>     },\n>     {\n>       \"day\": 8,\n>       \"activities\": [\n>         {\n>           \"name\": \"Natural History Museum\",\n>           \"description\": \"Explore the Natural History Museum and its fascinating exhibits.\",\n>           \"duration\": \"4 hours\",\n>           \"cost\": \"Free\"\n>         },\n>         {\n>           \"name\": \"Dinner at a Local Ethnic Restaurant\",\n>           \"description\": \"Try authentic cuisine from one of London's many ethnic communities.\",\n>           \"duration\": \"2 hours\",\n>           \"cost\": \"£15-£25\"\n>         }\n>       ]\n>     },\n>     {\n>       \"day\": 9,\n>       \"activities\": [\n>         {\n>           \"name\": \"Kew Gardens\",\n>           \"description\": \"Explore the beautiful Kew Gardens and its vast collection of plants.\",\n>           \"duration\": \"4 hours\",\n>           \"cost\": \"£17\"\n>         },\n>         {\n>           \"name\": \"Evening in Richmond\",\n>           \"description\": \"Spend the evening exploring the charming town of Richmond.\",\n>           \"duration\": \"2 hours\",\n>           \"cost\": \"Free\"\n>         }\n>       ]\n>     },\n>     {\n>       \"day\": 10,\n>       \"activities\": [\n>         {\n>           \"name\": \"Final Shopping and Souvenirs\",\n>           \"description\": \"Spend the morning shopping for souvenirs and exploring local shops.\",\n>           \"duration\": \"3 hours\",\n>           \"cost\": \"Varies based on purchases\"\n>         },\n>         {\n>           \"name\": \"Departure\",\n>           \"description\": \"Check out from your accommodation and head to the airport.\",\n>           \"duration\": \"2 hours\",\n>           \"cost\": \"Varies based on transportation\"\n>         }\n>       ]\n>     }\n>   ]\n> }\n> ```"
          },
          "metadata": {},
          "execution_count": 36
        }
      ]
    }
  ]
}