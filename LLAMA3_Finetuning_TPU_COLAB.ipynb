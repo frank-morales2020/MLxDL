{
  "cells": [
    {
      "cell_type": "markdown",
      "metadata": {
        "id": "view-in-github",
        "colab_type": "text"
      },
      "source": [
        "<a href=\"https://colab.research.google.com/github/frank-morales2020/MLxDL/blob/main/LLAMA3_Finetuning_TPU_COLAB.ipynb\" target=\"_parent\"><img src=\"https://colab.research.google.com/assets/colab-badge.svg\" alt=\"Open In Colab\"/></a>"
      ]
    },
    {
      "cell_type": "markdown",
      "id": "c7227736-2685-4971-9402-d6015b5319b5",
      "metadata": {
        "id": "c7227736-2685-4971-9402-d6015b5319b5"
      },
      "source": [
        "# Fine-Tune Llama3 on Colab TPU\n",
        "\n",
        "This example shows to tune one of Meta's Llama models on single host TPUs. For information on TPUs architecture, you can consult the [documentation](https://cloud.google.com/tpu/docs/system-architecture-tpu-vm).\n"
      ]
    },
    {
      "cell_type": "code",
      "execution_count": null,
      "id": "d4f15b21",
      "metadata": {
        "vscode": {
          "languageId": "shellscript"
        },
        "id": "d4f15b21"
      },
      "outputs": [],
      "source": [
        "!git clone https://github.com/huggingface/optimum-tpu.git\n",
        "\n",
        "# Install Optimum TPU\n",
        "%cd optimum-tpu\n",
        "!pip install -e . -f https://storage.googleapis.com/libtpu-releases/index.html -q\n",
        "\n",
        "# Install TRL and PEFT for training (see later how they are used)\n",
        "!pip install trl peft -q\n",
        "\n",
        "# This will be necessary for the language modeling example\n",
        "!pip install datasets evaluate accelerate -q"
      ]
    },
    {
      "cell_type": "markdown",
      "id": "733118c2",
      "metadata": {
        "id": "733118c2"
      },
      "source": [
        "Then, the tokenizer and model need to be loaded. We will choose [`meta-llama/Llama-3.2-1B`](https://huggingface.co/meta-llama/Llama-3.2-1B) for this example."
      ]
    },
    {
      "cell_type": "code",
      "execution_count": null,
      "id": "d07e0b43",
      "metadata": {
        "id": "d07e0b43"
      },
      "outputs": [],
      "source": [
        "import torch\n",
        "from transformers import AutoModelForCausalLM, AutoTokenizer\n",
        "from transformers import AutoConfig\n",
        "\n",
        "model_id = \"meta-llama/Llama-3.2-1B\"\n",
        "tokenizer = AutoTokenizer.from_pretrained(model_id)\n",
        "\n",
        "tokenizer = AutoTokenizer.from_pretrained(model_id)\n",
        "# Add custom token for padding Llama\n",
        "tokenizer.add_special_tokens({'pad_token': tokenizer.eos_token})\n",
        "model = AutoModelForCausalLM.from_pretrained(model_id, torch_dtype=torch.bfloat16)\n",
        "\n",
        "# Load model configuration and set use_cache=False to avoid warning\n",
        "config = AutoConfig.from_pretrained(model_id)\n",
        "config.use_cache = False"
      ]
    },
    {
      "cell_type": "markdown",
      "id": "d5576762",
      "metadata": {
        "id": "d5576762"
      },
      "source": [
        "To tune the model with the [Abirate/english_quotes](https://huggingface.co/datasets/Abirate/english_quotes) dataset, you can load it and obtain the `quote` column:\n"
      ]
    },
    {
      "cell_type": "code",
      "execution_count": 2,
      "id": "5c365bdd",
      "metadata": {
        "id": "5c365bdd"
      },
      "outputs": [],
      "source": [
        "from datasets import load_dataset\n",
        "\n",
        "\n",
        "data = load_dataset(\"Abirate/english_quotes\")\n",
        "\n",
        "def preprocess_function(samples):\n",
        "    # Create prompt, completion, and combined text columns\n",
        "    prompts = [f\"Generate a quote:\\n\\n\" for _ in samples[\"quote\"]]\n",
        "    completions = [f\"{quote}{tokenizer.eos_token}\" for quote in samples[\"quote\"]]\n",
        "    texts = [p + c for p, c in zip(prompts, completions)]\n",
        "    return {\"prompt\": prompts, \"completion\": completions, \"text\": texts}\n",
        "\n",
        "# data = data.map(lambda samples: tokenizer(samples[\"quote\"]), batched=True)\n",
        "data = data.map(\n",
        "    preprocess_function,\n",
        "    batched=True,\n",
        "    remove_columns=data[\"train\"].column_names\n",
        ")"
      ]
    },
    {
      "cell_type": "markdown",
      "id": "73174355",
      "metadata": {
        "id": "73174355"
      },
      "source": [
        "You then need to specify the FSDP training arguments to enable the sharding feature, the function will deduce the classes that should be sharded:\n"
      ]
    },
    {
      "cell_type": "code",
      "execution_count": 3,
      "id": "2c0c0797",
      "metadata": {
        "id": "2c0c0797"
      },
      "outputs": [],
      "source": [
        "from optimum.tpu import fsdp_v2\n",
        "\n",
        "fsdp_training_args = fsdp_v2.get_fsdp_training_args(model)"
      ]
    },
    {
      "cell_type": "markdown",
      "id": "50b6ebe4",
      "metadata": {
        "id": "50b6ebe4"
      },
      "source": [
        "The `fsdp_training_args` will specify the Pytorch module that needs to be sharded:"
      ]
    },
    {
      "cell_type": "code",
      "execution_count": 4,
      "id": "5d55e0aa",
      "metadata": {
        "colab": {
          "base_uri": "https://localhost:8080/"
        },
        "id": "5d55e0aa",
        "outputId": "bb081ecc-4eae-49f9-82ad-4f98644174ad"
      },
      "outputs": [
        {
          "output_type": "execute_result",
          "data": {
            "text/plain": [
              "{'fsdp': 'full_shard',\n",
              " 'fsdp_config': {'transformer_layer_cls_to_wrap': ['LlamaDecoderLayer'],\n",
              "  'xla': True,\n",
              "  'xla_fsdp_v2': True,\n",
              "  'xla_fsdp_grad_ckpt': True}}"
            ]
          },
          "metadata": {},
          "execution_count": 4
        }
      ],
      "source": [
        "fsdp_training_args"
      ]
    },
    {
      "cell_type": "markdown",
      "id": "ccb4820f",
      "metadata": {
        "id": "ccb4820f"
      },
      "source": [
        "Now training can be done as simply as using the standard `Trainer` class:"
      ]
    },
    {
      "cell_type": "code",
      "execution_count": 5,
      "id": "e24da8ce",
      "metadata": {
        "id": "e24da8ce"
      },
      "outputs": [],
      "source": [
        "from peft import LoraConfig\n",
        "\n",
        "\n",
        "lora_config = LoraConfig(\n",
        "        lora_alpha=128,\n",
        "        lora_dropout=0.05,\n",
        "        r=256,\n",
        "        bias=\"none\",\n",
        "        target_modules=\"all-linear\",\n",
        "        task_type=\"CAUSAL_LM\",\n",
        ")\n"
      ]
    },
    {
      "cell_type": "code",
      "source": [
        "import jax\n",
        "\n",
        "print(f\"Number of available JAX devices (TPU cores): {jax.device_count()}\")"
      ],
      "metadata": {
        "colab": {
          "base_uri": "https://localhost:8080/"
        },
        "id": "jbnFII8eLjUg",
        "outputId": "bc54fb2b-5529-45e9-a3c7-71bb02473ebf"
      },
      "id": "jbnFII8eLjUg",
      "execution_count": 6,
      "outputs": [
        {
          "output_type": "stream",
          "name": "stdout",
          "text": [
            "Number of available JAX devices (TPU cores): 8\n"
          ]
        }
      ]
    },
    {
      "cell_type": "code",
      "source": [
        "import torch_xla as xm\n",
        "num_devices = xm.runtime.world_size()\n",
        "print(f\"Number of available devices (TPU): {num_devices}\")"
      ],
      "metadata": {
        "colab": {
          "base_uri": "https://localhost:8080/"
        },
        "id": "ZX1LlTQaNhQd",
        "outputId": "cab0a5b3-be7e-4e62-928b-e1a0df535bc9"
      },
      "id": "ZX1LlTQaNhQd",
      "execution_count": 7,
      "outputs": [
        {
          "output_type": "stream",
          "name": "stdout",
          "text": [
            "Number of available devices (TPU): 1\n"
          ]
        }
      ]
    },
    {
      "cell_type": "code",
      "execution_count": null,
      "id": "12da486c",
      "metadata": {
        "colab": {
          "base_uri": "https://localhost:8080/",
          "height": 155
        },
        "id": "12da486c",
        "outputId": "3309897c-b520-46e2-eaae-5553857c30ab"
      },
      "outputs": [
        {
          "output_type": "stream",
          "name": "stdout",
          "text": [
            "Reloading model and tokenizer: meta-llama/Llama-3.2-1B\n"
          ]
        },
        {
          "output_type": "display_data",
          "data": {
            "text/plain": [
              "<IPython.core.display.HTML object>"
            ],
            "text/html": [
              "\n",
              "    <div>\n",
              "      \n",
              "      <progress value='116' max='156' style='width:300px; height:20px; vertical-align: middle;'></progress>\n",
              "      [116/156 2:02:44 < 43:03, 0.02 it/s, Epoch 0.74/1]\n",
              "    </div>\n",
              "    <table border=\"1\" class=\"dataframe\">\n",
              "  <thead>\n",
              " <tr style=\"text-align: left;\">\n",
              "      <th>Step</th>\n",
              "      <th>Training Loss</th>\n",
              "    </tr>\n",
              "  </thead>\n",
              "  <tbody>\n",
              "    <tr>\n",
              "      <td>50</td>\n",
              "      <td>2.250000</td>\n",
              "    </tr>\n",
              "    <tr>\n",
              "      <td>100</td>\n",
              "      <td>2.020000</td>\n",
              "    </tr>\n",
              "  </tbody>\n",
              "</table><p>"
            ]
          },
          "metadata": {}
        }
      ],
      "source": [
        "from transformers import TrainingArguments, Trainer, AutoModelForCausalLM, AutoTokenizer, AutoConfig\n",
        "from trl import SFTTrainer, SFTConfig\n",
        "from peft import PeftModel\n",
        "import torch_xla.runtime as xr\n",
        "import torch\n",
        "\n",
        "import warnings\n",
        "warnings.filterwarnings(\"ignore\")\n",
        "\n",
        "\n",
        "#def formatting_func(examples):\n",
        "    # The 'prompt' column already contains the combined prompt and completion#\n",
        "#    return examples[\"prompt\"]\n",
        "\n",
        "# Create a copy to avoid modifying the original dictionary\n",
        "fsdp_training_args_copy = fsdp_training_args.copy()\n",
        "\n",
        "# Extract fsdp_config from the copy\n",
        "fsdp_config_value = fsdp_training_args_copy.get('fsdp_config', None)\n",
        "\n",
        "# Remove keys that are explicitly passed to SFTConfig from the copy\n",
        "if 'fsdp' in fsdp_training_args_copy:\n",
        "    del fsdp_training_args_copy['fsdp']\n",
        "if 'fsdp_config' in fsdp_training_args_copy:\n",
        "    del fsdp_training_args_copy['fsdp_config']\n",
        "\n",
        "# Reload the model and tokenizer to ensure a clean instance\n",
        "print(f\"Reloading model and tokenizer: {model_id}\")\n",
        "tokenizer = AutoTokenizer.from_pretrained(model_id)\n",
        "tokenizer.add_special_tokens({'pad_token': tokenizer.eos_token})\n",
        "\n",
        "model = AutoModelForCausalLM.from_pretrained(model_id, config=config, torch_dtype=torch.bfloat16)\n",
        "\n",
        "# Load model configuration and set use_cache=False to avoid warning\n",
        "config = AutoConfig.from_pretrained(model_id)\n",
        "config.use_cache = False\n",
        "\n",
        "# Check if the model is already a PeftModel and unload if necessary (should not be needed after reload, but kept as a safeguard)\n",
        "if isinstance(model, PeftModel):\n",
        "    print(\"Unloading existing PEFT adapters...\")\n",
        "    model = model.unload()\n",
        "\n",
        "# Enable SPMD for torch_xla\n",
        "xr.use_spmd()\n",
        "\n",
        "\n",
        "sft_config = SFTConfig(\n",
        "    per_device_train_batch_size=16,\n",
        "    num_train_epochs=1,\n",
        "    max_steps=-50,\n",
        "    output_dir=\"/tmp/output\",\n",
        "    optim=\"adafactor\",\n",
        "    logging_steps=50,\n",
        "    dataloader_drop_last=True,  # Required by FSDP v2\n",
        "    completion_only_loss=False, # Disable completion_only_loss\n",
        "    fsdp=\"full_shard\", # Explicitly set fsdp to \"full_shard\"\n",
        "    fsdp_config=fsdp_config_value, # Pass fsdp_config dictionary directly\n",
        "    **fsdp_training_args_copy, # Unpack remaining args from the copy\n",
        ")\n",
        "\n",
        "\n",
        "trainer = SFTTrainer(\n",
        "    model=model,\n",
        "    train_dataset=data[\"train\"],\n",
        "    args=sft_config, # Pass the SFTConfig object here\n",
        "    peft_config=lora_config,\n",
        "    #formatting_func=formatting_func, # Remove formatting_func when using SFTConfig\n",
        "    #max_seq_length=512,\n",
        "    #packing=True,\n",
        ")\n",
        "\n",
        "trainer.train()"
      ]
    }
  ],
  "metadata": {
    "kernelspec": {
      "display_name": "Python 3",
      "name": "python3"
    },
    "language_info": {
      "codemirror_mode": {
        "name": "ipython",
        "version": 3
      },
      "file_extension": ".py",
      "mimetype": "text/x-python",
      "name": "python",
      "nbconvert_exporter": "python",
      "pygments_lexer": "ipython3",
      "version": "3.10.12"
    },
    "colab": {
      "provenance": [],
      "machine_shape": "hm",
      "gpuType": "V28",
      "include_colab_link": true
    },
    "accelerator": "TPU"
  },
  "nbformat": 4,
  "nbformat_minor": 5
}