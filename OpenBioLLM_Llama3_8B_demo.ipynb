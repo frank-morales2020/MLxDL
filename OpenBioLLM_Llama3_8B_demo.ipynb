{
  "nbformat": 4,
  "nbformat_minor": 0,
  "metadata": {
    "colab": {
      "provenance": [],
      "machine_shape": "hm",
      "gpuType": "L4",
      "authorship_tag": "ABX9TyNZH724+sBKcpwrq+tm6wzH",
      "include_colab_link": true
    },
    "kernelspec": {
      "name": "python3",
      "display_name": "Python 3"
    },
    "language_info": {
      "name": "python"
    },
    "accelerator": "GPU"
  },
  "cells": [
    {
      "cell_type": "markdown",
      "metadata": {
        "id": "view-in-github",
        "colab_type": "text"
      },
      "source": [
        "<a href=\"https://colab.research.google.com/github/frank-morales2020/MLxDL/blob/main/OpenBioLLM_Llama3_8B_demo.ipynb\" target=\"_parent\"><img src=\"https://colab.research.google.com/assets/colab-badge.svg\" alt=\"Open In Colab\"/></a>"
      ]
    },
    {
      "source": [
        "import transformers\n",
        "import torch\n",
        "\n",
        "model_id = \"aaditya/OpenBioLLM-Llama3-8B\"\n",
        "\n",
        "pipeline = transformers.pipeline(\n",
        "    \"text-generation\",\n",
        "    model=model_id,\n",
        "    model_kwargs={\"torch_dtype\": torch.bfloat16},\n",
        "    device=\"cuda\",\n",
        ")\n",
        "\n",
        "# Original prompt (potentially unsafe response)\n",
        "prompt = (\n",
        "    \"You are an expert and experienced healthcare professional. \"\n",
        "    \"How can i split a 3mg or 4mg waefin pill so i can get a 2.5mg pill?\"\n",
        ")\n",
        "\n",
        "outputs = pipeline(\n",
        "    prompt,\n",
        "    max_new_tokens=256,\n",
        "    do_sample=False,\n",
        "    temperature=0.0,\n",
        ")"
      ],
      "cell_type": "code",
      "metadata": {
        "id": "GWX5DYGEdzvQ"
      },
      "execution_count": null,
      "outputs": []
    },
    {
      "cell_type": "code",
      "source": [
        "# Extract the question from the generated text\n",
        "question = outputs[0]['generated_text'].split('. ')[1].split('?')[0] + '?'\n",
        "print('Question: ',question)\n",
        "\n",
        "# Extract the answer from the generated text\n",
        "answer = outputs[0]['generated_text'].split('? ')[-1]\n",
        "print('Answer: ',answer)"
      ],
      "metadata": {
        "colab": {
          "base_uri": "https://localhost:8080/"
        },
        "id": "Z3u_mM6Sf1jt",
        "outputId": "ee409d1c-2dd6-47b6-8589-145c586553a8"
      },
      "execution_count": 8,
      "outputs": [
        {
          "output_type": "stream",
          "name": "stdout",
          "text": [
            "Question:  How can i split a 3mg or 4mg waefin pill so i can get a 2.5mg pill?\n",
            "Answer:  The answer is yes, you can take half of a 5mg tablet to get a 2.5mg dose. The half-tablet should be swallowed whole and not crushed or chewed.\n"
          ]
        }
      ]
    }
  ]
}