{
  "cells": [
    {
      "cell_type": "markdown",
      "metadata": {
        "id": "view-in-github",
        "colab_type": "text"
      },
      "source": [
        "<a href=\"https://colab.research.google.com/github/frank-morales2020/MLxDL/blob/main/Rag_Fusion_Pipeline_PostgreSQL_Embedding_CLAUDE3.ipynb\" target=\"_parent\"><img src=\"https://colab.research.google.com/assets/colab-badge.svg\" alt=\"Open In Colab\"/></a>"
      ]
    },
    {
      "cell_type": "markdown",
      "id": "41a58112-8a18-49ad-9c8c-2088778613d0",
      "metadata": {
        "id": "41a58112-8a18-49ad-9c8c-2088778613d0"
      },
      "source": [
        "# RAG Fusion Query Pipeline\n",
        "\n",
        "This notebook shows how to implement RAG Fusion using the LlamaIndex Query Pipeline syntax."
      ]
    },
    {
      "cell_type": "code",
      "source": [
        "!nvidia-smi"
      ],
      "metadata": {
        "colab": {
          "base_uri": "https://localhost:8080/"
        },
        "id": "Msk6h8ngCiqH",
        "outputId": "1c273789-5098-40f4-b376-2616403b002d"
      },
      "id": "Msk6h8ngCiqH",
      "execution_count": 1,
      "outputs": [
        {
          "output_type": "stream",
          "name": "stdout",
          "text": [
            "Fri May 31 21:09:00 2024       \n",
            "+---------------------------------------------------------------------------------------+\n",
            "| NVIDIA-SMI 535.104.05             Driver Version: 535.104.05   CUDA Version: 12.2     |\n",
            "|-----------------------------------------+----------------------+----------------------+\n",
            "| GPU  Name                 Persistence-M | Bus-Id        Disp.A | Volatile Uncorr. ECC |\n",
            "| Fan  Temp   Perf          Pwr:Usage/Cap |         Memory-Usage | GPU-Util  Compute M. |\n",
            "|                                         |                      |               MIG M. |\n",
            "|=========================================+======================+======================|\n",
            "|   0  Tesla T4                       Off | 00000000:00:04.0 Off |                    0 |\n",
            "| N/A   55C    P8              12W /  70W |      0MiB / 15360MiB |      0%      Default |\n",
            "|                                         |                      |                  N/A |\n",
            "+-----------------------------------------+----------------------+----------------------+\n",
            "                                                                                         \n",
            "+---------------------------------------------------------------------------------------+\n",
            "| Processes:                                                                            |\n",
            "|  GPU   GI   CI        PID   Type   Process name                            GPU Memory |\n",
            "|        ID   ID                                                             Usage      |\n",
            "|=======================================================================================|\n",
            "|  No running processes found                                                           |\n",
            "+---------------------------------------------------------------------------------------+\n"
          ]
        }
      ]
    },
    {
      "cell_type": "markdown",
      "source": [
        "Required Dependencies"
      ],
      "metadata": {
        "id": "x9dG5VRhwpHm"
      },
      "id": "x9dG5VRhwpHm"
    },
    {
      "cell_type": "code",
      "source": [
        "#added by Frank Morales(FM) 11/01/2024\n",
        "%pip install openai  --root-user-action=ignore -q\n",
        "!pip install llama_index phoenix pyvis network -q\n",
        "!pip install llama_hub -q\n",
        "%pip install colab-env --upgrade --quiet --root-user-action=ignore\n",
        "!pip install accelerate -q\n",
        "#!pip install typing_extensions\n",
        "\n",
        "!pip install langchain --quiet\n",
        "!pip install accelerate --quiet\n",
        "!pip install transformers --quiet\n",
        "!pip install bitsandbytes --quiet"
      ],
      "metadata": {
        "id": "XN4HEh7jwixA",
        "colab": {
          "base_uri": "https://localhost:8080/"
        },
        "outputId": "3ee39561-f1e9-4e61-d1be-29c5193a46e9"
      },
      "id": "XN4HEh7jwixA",
      "execution_count": 2,
      "outputs": [
        {
          "output_type": "stream",
          "name": "stdout",
          "text": [
            "\u001b[?25l     \u001b[90m━━━━━━━━━━━━━━━━━━━━━━━━━━━━━━━━━━━━━━━━\u001b[0m \u001b[32m0.0/320.7 kB\u001b[0m \u001b[31m?\u001b[0m eta \u001b[36m-:--:--\u001b[0m\r\u001b[2K     \u001b[91m━━━━━━━━━━━━━━━━━━━━━━━━━━━━━━━━━━━\u001b[0m\u001b[91m╸\u001b[0m\u001b[90m━━━━\u001b[0m \u001b[32m286.7/320.7 kB\u001b[0m \u001b[31m8.9 MB/s\u001b[0m eta \u001b[36m0:00:01\u001b[0m\r\u001b[2K     \u001b[90m━━━━━━━━━━━━━━━━━━━━━━━━━━━━━━━━━━━━━━━━\u001b[0m \u001b[32m320.7/320.7 kB\u001b[0m \u001b[31m7.5 MB/s\u001b[0m eta \u001b[36m0:00:00\u001b[0m\n",
            "\u001b[2K     \u001b[90m━━━━━━━━━━━━━━━━━━━━━━━━━━━━━━━━━━━━━━━━\u001b[0m \u001b[32m75.6/75.6 kB\u001b[0m \u001b[31m11.7 MB/s\u001b[0m eta \u001b[36m0:00:00\u001b[0m\n",
            "\u001b[2K     \u001b[90m━━━━━━━━━━━━━━━━━━━━━━━━━━━━━━━━━━━━━━━━\u001b[0m \u001b[32m77.9/77.9 kB\u001b[0m \u001b[31m12.6 MB/s\u001b[0m eta \u001b[36m0:00:00\u001b[0m\n",
            "\u001b[2K     \u001b[90m━━━━━━━━━━━━━━━━━━━━━━━━━━━━━━━━━━━━━━━━\u001b[0m \u001b[32m58.3/58.3 kB\u001b[0m \u001b[31m8.7 MB/s\u001b[0m eta \u001b[36m0:00:00\u001b[0m\n",
            "\u001b[?25h  Preparing metadata (setup.py) ... \u001b[?25l\u001b[?25hdone\n",
            "\u001b[2K     \u001b[90m━━━━━━━━━━━━━━━━━━━━━━━━━━━━━━━━━━━━━━━━\u001b[0m \u001b[32m756.0/756.0 kB\u001b[0m \u001b[31m21.0 MB/s\u001b[0m eta \u001b[36m0:00:00\u001b[0m\n",
            "\u001b[?25h  Preparing metadata (setup.py) ... \u001b[?25l\u001b[?25hdone\n",
            "\u001b[2K     \u001b[90m━━━━━━━━━━━━━━━━━━━━━━━━━━━━━━━━━━━━━━━━\u001b[0m \u001b[32m15.4/15.4 MB\u001b[0m \u001b[31m68.8 MB/s\u001b[0m eta \u001b[36m0:00:00\u001b[0m\n",
            "\u001b[2K     \u001b[90m━━━━━━━━━━━━━━━━━━━━━━━━━━━━━━━━━━━━━━━━\u001b[0m \u001b[32m2.0/2.0 MB\u001b[0m \u001b[31m96.1 MB/s\u001b[0m eta \u001b[36m0:00:00\u001b[0m\n",
            "\u001b[2K     \u001b[90m━━━━━━━━━━━━━━━━━━━━━━━━━━━━━━━━━━━━━━━━\u001b[0m \u001b[32m141.9/141.9 kB\u001b[0m \u001b[31m23.1 MB/s\u001b[0m eta \u001b[36m0:00:00\u001b[0m\n",
            "\u001b[2K     \u001b[90m━━━━━━━━━━━━━━━━━━━━━━━━━━━━━━━━━━━━━━━━\u001b[0m \u001b[32m1.1/1.1 MB\u001b[0m \u001b[31m82.7 MB/s\u001b[0m eta \u001b[36m0:00:00\u001b[0m\n",
            "\u001b[2K     \u001b[90m━━━━━━━━━━━━━━━━━━━━━━━━━━━━━━━━━━━━━━━━\u001b[0m \u001b[32m1.6/1.6 MB\u001b[0m \u001b[31m95.1 MB/s\u001b[0m eta \u001b[36m0:00:00\u001b[0m\n",
            "\u001b[2K     \u001b[90m━━━━━━━━━━━━━━━━━━━━━━━━━━━━━━━━━━━━━━━━\u001b[0m \u001b[32m290.4/290.4 kB\u001b[0m \u001b[31m36.2 MB/s\u001b[0m eta \u001b[36m0:00:00\u001b[0m\n",
            "\u001b[2K     \u001b[90m━━━━━━━━━━━━━━━━━━━━━━━━━━━━━━━━━━━━━━━━\u001b[0m \u001b[32m49.3/49.3 kB\u001b[0m \u001b[31m7.5 MB/s\u001b[0m eta \u001b[36m0:00:00\u001b[0m\n",
            "\u001b[?25h  Building wheel for phoenix (setup.py) ... \u001b[?25l\u001b[?25hdone\n",
            "  Building wheel for network (setup.py) ... \u001b[?25l\u001b[?25hdone\n",
            "\u001b[2K     \u001b[90m━━━━━━━━━━━━━━━━━━━━━━━━━━━━━━━━━━━━━━━━\u001b[0m \u001b[32m103.9/103.9 MB\u001b[0m \u001b[31m14.7 MB/s\u001b[0m eta \u001b[36m0:00:00\u001b[0m\n",
            "\u001b[2K     \u001b[90m━━━━━━━━━━━━━━━━━━━━━━━━━━━━━━━━━━━━━━━━\u001b[0m \u001b[32m56.5/56.5 kB\u001b[0m \u001b[31m8.9 MB/s\u001b[0m eta \u001b[36m0:00:00\u001b[0m\n",
            "\u001b[?25h  Preparing metadata (setup.py) ... \u001b[?25l\u001b[?25hdone\n",
            "  Building wheel for html2text (setup.py) ... \u001b[?25l\u001b[?25hdone\n",
            "  Preparing metadata (setup.py) ... \u001b[?25l\u001b[?25hdone\n",
            "  Building wheel for colab-env (setup.py) ... \u001b[?25l\u001b[?25hdone\n",
            "\u001b[2K     \u001b[90m━━━━━━━━━━━━━━━━━━━━━━━━━━━━━━━━━━━━━━━━\u001b[0m \u001b[32m302.6/302.6 kB\u001b[0m \u001b[31m7.5 MB/s\u001b[0m eta \u001b[36m0:00:00\u001b[0m\n",
            "\u001b[2K     \u001b[90m━━━━━━━━━━━━━━━━━━━━━━━━━━━━━━━━━━━━━━━━\u001b[0m \u001b[32m21.3/21.3 MB\u001b[0m \u001b[31m63.7 MB/s\u001b[0m eta \u001b[36m0:00:00\u001b[0m\n",
            "\u001b[2K     \u001b[90m━━━━━━━━━━━━━━━━━━━━━━━━━━━━━━━━━━━━━━━━\u001b[0m \u001b[32m973.5/973.5 kB\u001b[0m \u001b[31m21.3 MB/s\u001b[0m eta \u001b[36m0:00:00\u001b[0m\n",
            "\u001b[2K     \u001b[90m━━━━━━━━━━━━━━━━━━━━━━━━━━━━━━━━━━━━━━━━\u001b[0m \u001b[32m310.2/310.2 kB\u001b[0m \u001b[31m31.7 MB/s\u001b[0m eta \u001b[36m0:00:00\u001b[0m\n",
            "\u001b[2K     \u001b[90m━━━━━━━━━━━━━━━━━━━━━━━━━━━━━━━━━━━━━━━━\u001b[0m \u001b[32m124.4/124.4 kB\u001b[0m \u001b[31m19.4 MB/s\u001b[0m eta \u001b[36m0:00:00\u001b[0m\n",
            "\u001b[2K     \u001b[90m━━━━━━━━━━━━━━━━━━━━━━━━━━━━━━━━━━━━━━━━\u001b[0m \u001b[32m53.0/53.0 kB\u001b[0m \u001b[31m8.3 MB/s\u001b[0m eta \u001b[36m0:00:00\u001b[0m\n",
            "\u001b[2K     \u001b[90m━━━━━━━━━━━━━━━━━━━━━━━━━━━━━━━━━━━━━━━━\u001b[0m \u001b[32m142.5/142.5 kB\u001b[0m \u001b[31m270.7 kB/s\u001b[0m eta \u001b[36m0:00:00\u001b[0m\n",
            "\u001b[2K     \u001b[90m━━━━━━━━━━━━━━━━━━━━━━━━━━━━━━━━━━━━━━━━\u001b[0m \u001b[32m119.8/119.8 MB\u001b[0m \u001b[31m14.7 MB/s\u001b[0m eta \u001b[36m0:00:00\u001b[0m\n",
            "\u001b[?25h"
          ]
        }
      ]
    },
    {
      "cell_type": "markdown",
      "id": "8c5bdbf5-d525-42e2-ab4a-19234c023491",
      "metadata": {
        "id": "8c5bdbf5-d525-42e2-ab4a-19234c023491"
      },
      "source": [
        "## Setup / Load Data\n",
        "\n",
        "We load in the pg_essay.txt data."
      ]
    },
    {
      "cell_type": "code",
      "execution_count": 3,
      "id": "20b91e78-d733-44dd-b9a2-7c6eab3aee3d",
      "metadata": {
        "id": "20b91e78-d733-44dd-b9a2-7c6eab3aee3d",
        "colab": {
          "base_uri": "https://localhost:8080/"
        },
        "outputId": "9e5ebc85-b1c1-4240-a044-0795384cb711"
      },
      "outputs": [
        {
          "output_type": "stream",
          "name": "stdout",
          "text": [
            "Mounted at /content/gdrive\n",
            "/content\n",
            "--2024-05-31 21:13:05--  https://www.dropbox.com/s/f6bmb19xdg0xedm/paul_graham_essay.txt?dl=1\n",
            "Resolving www.dropbox.com (www.dropbox.com)... 162.125.81.18, 2620:100:6031:18::a27d:5112\n",
            "Connecting to www.dropbox.com (www.dropbox.com)|162.125.81.18|:443... connected.\n",
            "HTTP request sent, awaiting response... 302 Found\n",
            "Location: /scl/fi/f2hfma1kcravwajwskek7/paul_graham_essay.txt?rlkey=kbj5qtm5c8bf1sndadp2rzrse&dl=1 [following]\n",
            "--2024-05-31 21:13:05--  https://www.dropbox.com/scl/fi/f2hfma1kcravwajwskek7/paul_graham_essay.txt?rlkey=kbj5qtm5c8bf1sndadp2rzrse&dl=1\n",
            "Reusing existing connection to www.dropbox.com:443.\n",
            "HTTP request sent, awaiting response... 302 Found\n",
            "Location: https://uc5c91ad66f27f56fa9693c88055.dl.dropboxusercontent.com/cd/0/inline/CT_6tInyOmrtFyxBxDe3wkMEaPTZ4S6hQ5Anb7X7xazrbEQpvELDgWASzQt2UwH0_HfqfLRlxjdekzooBsNC-HTFbcrqHGW5ysMJKgIUzWB-qH23c7ZZ157IB00-_XFwWzs/file?dl=1# [following]\n",
            "--2024-05-31 21:13:06--  https://uc5c91ad66f27f56fa9693c88055.dl.dropboxusercontent.com/cd/0/inline/CT_6tInyOmrtFyxBxDe3wkMEaPTZ4S6hQ5Anb7X7xazrbEQpvELDgWASzQt2UwH0_HfqfLRlxjdekzooBsNC-HTFbcrqHGW5ysMJKgIUzWB-qH23c7ZZ157IB00-_XFwWzs/file?dl=1\n",
            "Resolving uc5c91ad66f27f56fa9693c88055.dl.dropboxusercontent.com (uc5c91ad66f27f56fa9693c88055.dl.dropboxusercontent.com)... 162.125.81.15, 2620:100:6031:15::a27d:510f\n",
            "Connecting to uc5c91ad66f27f56fa9693c88055.dl.dropboxusercontent.com (uc5c91ad66f27f56fa9693c88055.dl.dropboxusercontent.com)|162.125.81.15|:443... connected.\n",
            "HTTP request sent, awaiting response... 200 OK\n",
            "Length: 75047 (73K) [application/binary]\n",
            "Saving to: ‘pg_essay.txt’\n",
            "\n",
            "pg_essay.txt        100%[===================>]  73.29K  --.-KB/s    in 0.003s  \n",
            "\n",
            "2024-05-31 21:13:06 (23.1 MB/s) - ‘pg_essay.txt’ saved [75047/75047]\n",
            "\n"
          ]
        }
      ],
      "source": [
        "import colab_env\n",
        "import openai\n",
        "import os\n",
        "openai.api_key = os.getenv(\"OPENAI_API_KEY\")\n",
        "%cd /content/\n",
        "!wget \"https://www.dropbox.com/s/f6bmb19xdg0xedm/paul_graham_essay.txt?dl=1\" -O pg_essay.txt\n",
        "#!wget 'https://raw.githubusercontent.com/run-llama/llama_index/main/docs/examples/data/paul_graham/paul_graham_essay.txt' -O 'data/paul_graham/paul_graham_essay.txt' -O pg_essay.txt"
      ]
    },
    {
      "cell_type": "markdown",
      "source": [
        "POSTGRESQL\n",
        "https://www.atlantic.net/dedicated-server-hosting/how-to-install-and-configure-postgres-14-on-ubuntu/"
      ],
      "metadata": {
        "id": "jvWymWCOIdbI"
      },
      "id": "jvWymWCOIdbI"
    },
    {
      "cell_type": "code",
      "source": [
        "#ADDED By FM 31/05/2024\n",
        "!apt-get update -y\n",
        "!apt-get install postgresql-14 -y\n",
        "!service postgresql restart\n",
        "!sudo apt install postgresql-server-dev-all"
      ],
      "metadata": {
        "id": "535ElkP-IASC",
        "colab": {
          "base_uri": "https://localhost:8080/"
        },
        "outputId": "a3fc8359-0ed4-4f61-ec94-3437ca34c261"
      },
      "id": "535ElkP-IASC",
      "execution_count": 4,
      "outputs": [
        {
          "output_type": "stream",
          "name": "stdout",
          "text": [
            "\r0% [Working]\r            \rGet:1 https://cloud.r-project.org/bin/linux/ubuntu jammy-cran40/ InRelease [3,626 B]\n",
            "Hit:2 https://developer.download.nvidia.com/compute/cuda/repos/ubuntu2204/x86_64  InRelease\n",
            "Hit:3 http://archive.ubuntu.com/ubuntu jammy InRelease\n",
            "Get:4 http://security.ubuntu.com/ubuntu jammy-security InRelease [129 kB]\n",
            "Get:5 http://archive.ubuntu.com/ubuntu jammy-updates InRelease [128 kB]\n",
            "Hit:6 https://ppa.launchpadcontent.net/c2d4u.team/c2d4u4.0+/ubuntu jammy InRelease\n",
            "Hit:7 https://ppa.launchpadcontent.net/deadsnakes/ppa/ubuntu jammy InRelease\n",
            "Get:8 http://archive.ubuntu.com/ubuntu jammy-backports InRelease [127 kB]\n",
            "Get:9 http://security.ubuntu.com/ubuntu jammy-security/universe amd64 Packages [1,084 kB]\n",
            "Get:10 https://ppa.launchpadcontent.net/graphics-drivers/ppa/ubuntu jammy InRelease [24.3 kB]\n",
            "Get:11 http://archive.ubuntu.com/ubuntu jammy-updates/universe amd64 Packages [1,377 kB]\n",
            "Hit:12 https://ppa.launchpadcontent.net/ubuntugis/ppa/ubuntu jammy InRelease\n",
            "Get:13 https://ppa.launchpadcontent.net/graphics-drivers/ppa/ubuntu jammy/main amd64 Packages [47.6 kB]\n",
            "Get:14 http://archive.ubuntu.com/ubuntu jammy-updates/main amd64 Packages [2,129 kB]\n",
            "Get:15 http://security.ubuntu.com/ubuntu jammy-security/main amd64 Packages [1,858 kB]\n",
            "Fetched 6,907 kB in 9s (765 kB/s)\n",
            "Reading package lists... Done\n",
            "Reading package lists... Done\n",
            "Building dependency tree... Done\n",
            "Reading state information... Done\n",
            "The following additional packages will be installed:\n",
            "  libcommon-sense-perl libjson-perl libjson-xs-perl libpq-dev libpq5 libtypes-serialiser-perl\n",
            "  logrotate netbase postgresql-client-14 postgresql-client-common postgresql-common ssl-cert\n",
            "  sysstat\n",
            "Suggested packages:\n",
            "  postgresql-doc-14 bsd-mailx | mailx isag\n",
            "The following NEW packages will be installed:\n",
            "  libcommon-sense-perl libjson-perl libjson-xs-perl libtypes-serialiser-perl logrotate netbase\n",
            "  postgresql-14 postgresql-client-14 postgresql-client-common postgresql-common ssl-cert sysstat\n",
            "The following packages will be upgraded:\n",
            "  libpq-dev libpq5\n",
            "2 upgraded, 12 newly installed, 0 to remove and 49 not upgraded.\n",
            "Need to get 18.7 MB of archives.\n",
            "After this operation, 51.5 MB of additional disk space will be used.\n",
            "Get:1 http://archive.ubuntu.com/ubuntu jammy-updates/main amd64 logrotate amd64 3.19.0-1ubuntu1.1 [54.3 kB]\n",
            "Get:2 http://archive.ubuntu.com/ubuntu jammy/main amd64 netbase all 6.3 [12.9 kB]\n",
            "Get:3 http://archive.ubuntu.com/ubuntu jammy/main amd64 libcommon-sense-perl amd64 3.75-2build1 [21.1 kB]\n",
            "Get:4 http://archive.ubuntu.com/ubuntu jammy/main amd64 libjson-perl all 4.04000-1 [81.8 kB]\n",
            "Get:5 http://archive.ubuntu.com/ubuntu jammy/main amd64 libtypes-serialiser-perl all 1.01-1 [11.6 kB]\n",
            "Get:6 http://archive.ubuntu.com/ubuntu jammy/main amd64 libjson-xs-perl amd64 4.030-1build3 [87.2 kB]\n",
            "Get:7 http://archive.ubuntu.com/ubuntu jammy-updates/main amd64 libpq-dev amd64 14.12-0ubuntu0.22.04.1 [147 kB]\n",
            "Get:8 http://archive.ubuntu.com/ubuntu jammy-updates/main amd64 libpq5 amd64 14.12-0ubuntu0.22.04.1 [149 kB]\n",
            "Get:9 http://archive.ubuntu.com/ubuntu jammy/main amd64 postgresql-client-common all 238 [29.6 kB]\n",
            "Get:10 http://archive.ubuntu.com/ubuntu jammy-updates/main amd64 postgresql-client-14 amd64 14.12-0ubuntu0.22.04.1 [1,223 kB]\n",
            "Get:11 http://archive.ubuntu.com/ubuntu jammy/main amd64 ssl-cert all 1.1.2 [17.4 kB]\n",
            "Get:12 http://archive.ubuntu.com/ubuntu jammy/main amd64 postgresql-common all 238 [169 kB]\n",
            "Get:13 http://archive.ubuntu.com/ubuntu jammy-updates/main amd64 postgresql-14 amd64 14.12-0ubuntu0.22.04.1 [16.2 MB]\n",
            "Get:14 http://archive.ubuntu.com/ubuntu jammy-updates/main amd64 sysstat amd64 12.5.2-2ubuntu0.2 [487 kB]\n",
            "Fetched 18.7 MB in 4s (5,007 kB/s)\n",
            "Preconfiguring packages ...\n",
            "Selecting previously unselected package logrotate.\n",
            "(Reading database ... 121918 files and directories currently installed.)\n",
            "Preparing to unpack .../00-logrotate_3.19.0-1ubuntu1.1_amd64.deb ...\n",
            "Unpacking logrotate (3.19.0-1ubuntu1.1) ...\n",
            "Selecting previously unselected package netbase.\n",
            "Preparing to unpack .../01-netbase_6.3_all.deb ...\n",
            "Unpacking netbase (6.3) ...\n",
            "Selecting previously unselected package libcommon-sense-perl:amd64.\n",
            "Preparing to unpack .../02-libcommon-sense-perl_3.75-2build1_amd64.deb ...\n",
            "Unpacking libcommon-sense-perl:amd64 (3.75-2build1) ...\n",
            "Selecting previously unselected package libjson-perl.\n",
            "Preparing to unpack .../03-libjson-perl_4.04000-1_all.deb ...\n",
            "Unpacking libjson-perl (4.04000-1) ...\n",
            "Selecting previously unselected package libtypes-serialiser-perl.\n",
            "Preparing to unpack .../04-libtypes-serialiser-perl_1.01-1_all.deb ...\n",
            "Unpacking libtypes-serialiser-perl (1.01-1) ...\n",
            "Selecting previously unselected package libjson-xs-perl.\n",
            "Preparing to unpack .../05-libjson-xs-perl_4.030-1build3_amd64.deb ...\n",
            "Unpacking libjson-xs-perl (4.030-1build3) ...\n",
            "Preparing to unpack .../06-libpq-dev_14.12-0ubuntu0.22.04.1_amd64.deb ...\n",
            "Unpacking libpq-dev (14.12-0ubuntu0.22.04.1) over (14.11-0ubuntu0.22.04.1) ...\n",
            "Preparing to unpack .../07-libpq5_14.12-0ubuntu0.22.04.1_amd64.deb ...\n",
            "Unpacking libpq5:amd64 (14.12-0ubuntu0.22.04.1) over (14.11-0ubuntu0.22.04.1) ...\n",
            "Selecting previously unselected package postgresql-client-common.\n",
            "Preparing to unpack .../08-postgresql-client-common_238_all.deb ...\n",
            "Unpacking postgresql-client-common (238) ...\n",
            "Selecting previously unselected package postgresql-client-14.\n",
            "Preparing to unpack .../09-postgresql-client-14_14.12-0ubuntu0.22.04.1_amd64.deb ...\n",
            "Unpacking postgresql-client-14 (14.12-0ubuntu0.22.04.1) ...\n",
            "Selecting previously unselected package ssl-cert.\n",
            "Preparing to unpack .../10-ssl-cert_1.1.2_all.deb ...\n",
            "Unpacking ssl-cert (1.1.2) ...\n",
            "Selecting previously unselected package postgresql-common.\n",
            "Preparing to unpack .../11-postgresql-common_238_all.deb ...\n",
            "Adding 'diversion of /usr/bin/pg_config to /usr/bin/pg_config.libpq-dev by postgresql-common'\n",
            "Unpacking postgresql-common (238) ...\n",
            "Selecting previously unselected package postgresql-14.\n",
            "Preparing to unpack .../12-postgresql-14_14.12-0ubuntu0.22.04.1_amd64.deb ...\n",
            "Unpacking postgresql-14 (14.12-0ubuntu0.22.04.1) ...\n",
            "Selecting previously unselected package sysstat.\n",
            "Preparing to unpack .../13-sysstat_12.5.2-2ubuntu0.2_amd64.deb ...\n",
            "Unpacking sysstat (12.5.2-2ubuntu0.2) ...\n",
            "Setting up logrotate (3.19.0-1ubuntu1.1) ...\n",
            "Created symlink /etc/systemd/system/timers.target.wants/logrotate.timer → /lib/systemd/system/logrotate.timer.\n",
            "Setting up libpq5:amd64 (14.12-0ubuntu0.22.04.1) ...\n",
            "Setting up libcommon-sense-perl:amd64 (3.75-2build1) ...\n",
            "Setting up libpq-dev (14.12-0ubuntu0.22.04.1) ...\n",
            "Setting up ssl-cert (1.1.2) ...\n",
            "Setting up libtypes-serialiser-perl (1.01-1) ...\n",
            "Setting up libjson-perl (4.04000-1) ...\n",
            "Setting up netbase (6.3) ...\n",
            "Setting up sysstat (12.5.2-2ubuntu0.2) ...\n",
            "\n",
            "Creating config file /etc/default/sysstat with new version\n",
            "update-alternatives: using /usr/bin/sar.sysstat to provide /usr/bin/sar (sar) in auto mode\n",
            "Created symlink /etc/systemd/system/sysstat.service.wants/sysstat-collect.timer → /lib/systemd/system/sysstat-collect.timer.\n",
            "Created symlink /etc/systemd/system/sysstat.service.wants/sysstat-summary.timer → /lib/systemd/system/sysstat-summary.timer.\n",
            "Created symlink /etc/systemd/system/multi-user.target.wants/sysstat.service → /lib/systemd/system/sysstat.service.\n",
            "Setting up postgresql-client-common (238) ...\n",
            "Setting up libjson-xs-perl (4.030-1build3) ...\n",
            "Setting up postgresql-client-14 (14.12-0ubuntu0.22.04.1) ...\n",
            "update-alternatives: using /usr/share/postgresql/14/man/man1/psql.1.gz to provide /usr/share/man/man1/psql.1.gz (psql.1.gz) in auto mode\n",
            "Setting up postgresql-common (238) ...\n",
            "Adding user postgres to group ssl-cert\n",
            "\n",
            "Creating config file /etc/postgresql-common/createcluster.conf with new version\n",
            "Building PostgreSQL dictionaries from installed myspell/hunspell packages...\n",
            "Removing obsolete dictionary files:\n",
            "Created symlink /etc/systemd/system/multi-user.target.wants/postgresql.service → /lib/systemd/system/postgresql.service.\n",
            "Setting up postgresql-14 (14.12-0ubuntu0.22.04.1) ...\n",
            "Creating new PostgreSQL cluster 14/main ...\n",
            "/usr/lib/postgresql/14/bin/initdb -D /var/lib/postgresql/14/main --auth-local peer --auth-host scram-sha-256 --no-instructions\n",
            "The files belonging to this database system will be owned by user \"postgres\".\n",
            "This user must also own the server process.\n",
            "\n",
            "The database cluster will be initialized with locale \"en_US.UTF-8\".\n",
            "The default database encoding has accordingly been set to \"UTF8\".\n",
            "The default text search configuration will be set to \"english\".\n",
            "\n",
            "Data page checksums are disabled.\n",
            "\n",
            "fixing permissions on existing directory /var/lib/postgresql/14/main ... ok\n",
            "creating subdirectories ... ok\n",
            "selecting dynamic shared memory implementation ... posix\n",
            "selecting default max_connections ... 100\n",
            "selecting default shared_buffers ... 128MB\n",
            "selecting default time zone ... Etc/UTC\n",
            "creating configuration files ... ok\n",
            "running bootstrap script ... ok\n",
            "performing post-bootstrap initialization ... ok\n",
            "syncing data to disk ... ok\n",
            "update-alternatives: using /usr/share/postgresql/14/man/man1/postmaster.1.gz to provide /usr/share/man/man1/postmaster.1.gz (postmaster.1.gz) in auto mode\n",
            "invoke-rc.d: could not determine current runlevel\n",
            "invoke-rc.d: policy-rc.d denied execution of start.\n",
            "Processing triggers for man-db (2.10.2-1) ...\n",
            "Processing triggers for libc-bin (2.35-0ubuntu3.4) ...\n",
            "/sbin/ldconfig.real: /usr/local/lib/libtbbmalloc_proxy.so.2 is not a symbolic link\n",
            "\n",
            "/sbin/ldconfig.real: /usr/local/lib/libtbbbind_2_5.so.3 is not a symbolic link\n",
            "\n",
            "/sbin/ldconfig.real: /usr/local/lib/libtbbbind.so.3 is not a symbolic link\n",
            "\n",
            "/sbin/ldconfig.real: /usr/local/lib/libtbbmalloc.so.2 is not a symbolic link\n",
            "\n",
            "/sbin/ldconfig.real: /usr/local/lib/libtbbbind_2_0.so.3 is not a symbolic link\n",
            "\n",
            "/sbin/ldconfig.real: /usr/local/lib/libtbb.so.12 is not a symbolic link\n",
            "\n",
            " * Restarting PostgreSQL 14 database server\n",
            "   ...done.\n",
            "Reading package lists... Done\n",
            "Building dependency tree... Done\n",
            "Reading state information... Done\n",
            "The following additional packages will be installed:\n",
            "  binfmt-support libffi-dev libpfm4 libz3-4 libz3-dev llvm-14 llvm-14-dev\n",
            "  llvm-14-runtime llvm-14-tools postgresql-server-dev-14 python3-pygments\n",
            "  python3-yaml\n",
            "Suggested packages:\n",
            "  llvm-14-doc python-pygments-doc ttf-bitstream-vera\n",
            "The following NEW packages will be installed:\n",
            "  binfmt-support libffi-dev libpfm4 libz3-4 libz3-dev llvm-14 llvm-14-dev\n",
            "  llvm-14-runtime llvm-14-tools postgresql-server-dev-14\n",
            "  postgresql-server-dev-all python3-pygments python3-yaml\n",
            "0 upgraded, 13 newly installed, 0 to remove and 49 not upgraded.\n",
            "Need to get 59.8 MB of archives.\n",
            "After this operation, 361 MB of additional disk space will be used.\n",
            "Get:1 http://archive.ubuntu.com/ubuntu jammy/main amd64 python3-yaml amd64 5.4.1-1ubuntu1 [129 kB]\n",
            "Get:2 http://archive.ubuntu.com/ubuntu jammy/main amd64 binfmt-support amd64 2.2.1-2 [55.8 kB]\n",
            "Get:3 http://archive.ubuntu.com/ubuntu jammy-updates/universe amd64 llvm-14-runtime amd64 1:14.0.0-1ubuntu1.1 [484 kB]\n",
            "Get:4 http://archive.ubuntu.com/ubuntu jammy-updates/main amd64 libpfm4 amd64 4.11.1+git32-gd0b85fb-1ubuntu0.1 [345 kB]\n",
            "Get:5 http://archive.ubuntu.com/ubuntu jammy-updates/universe amd64 llvm-14 amd64 1:14.0.0-1ubuntu1.1 [12.7 MB]\n",
            "Get:6 http://archive.ubuntu.com/ubuntu jammy/main amd64 libffi-dev amd64 3.4.2-4 [63.7 kB]\n",
            "Get:7 http://archive.ubuntu.com/ubuntu jammy/main amd64 python3-pygments all 2.11.2+dfsg-2 [750 kB]\n",
            "Get:8 http://archive.ubuntu.com/ubuntu jammy-updates/universe amd64 llvm-14-tools amd64 1:14.0.0-1ubuntu1.1 [404 kB]\n",
            "Get:9 http://archive.ubuntu.com/ubuntu jammy/universe amd64 libz3-4 amd64 4.8.12-1 [5,766 kB]\n",
            "Get:10 http://archive.ubuntu.com/ubuntu jammy/universe amd64 libz3-dev amd64 4.8.12-1 [72.2 kB]\n",
            "Get:11 http://archive.ubuntu.com/ubuntu jammy-updates/universe amd64 llvm-14-dev amd64 1:14.0.0-1ubuntu1.1 [37.8 MB]\n",
            "Get:12 http://archive.ubuntu.com/ubuntu jammy-updates/universe amd64 postgresql-server-dev-14 amd64 14.12-0ubuntu0.22.04.1 [1,176 kB]\n",
            "Get:13 http://archive.ubuntu.com/ubuntu jammy/universe amd64 postgresql-server-dev-all amd64 238 [14.0 kB]\n",
            "Fetched 59.8 MB in 16s (3,786 kB/s)\n",
            "debconf: unable to initialize frontend: Dialog\n",
            "debconf: (No usable dialog-like program is installed, so the dialog based frontend cannot be used. at /usr/share/perl5/Debconf/FrontEnd/Dialog.pm line 78, <> line 13.)\n",
            "debconf: falling back to frontend: Readline\n",
            "debconf: unable to initialize frontend: Readline\n",
            "debconf: (This frontend requires a controlling tty.)\n",
            "debconf: falling back to frontend: Teletype\n",
            "dpkg-preconfigure: unable to re-open stdin: \n",
            "Selecting previously unselected package python3-yaml.\n",
            "(Reading database ... 123875 files and directories currently installed.)\n",
            "Preparing to unpack .../00-python3-yaml_5.4.1-1ubuntu1_amd64.deb ...\n",
            "Unpacking python3-yaml (5.4.1-1ubuntu1) ...\n",
            "Selecting previously unselected package binfmt-support.\n",
            "Preparing to unpack .../01-binfmt-support_2.2.1-2_amd64.deb ...\n",
            "Unpacking binfmt-support (2.2.1-2) ...\n",
            "Selecting previously unselected package llvm-14-runtime.\n",
            "Preparing to unpack .../02-llvm-14-runtime_1%3a14.0.0-1ubuntu1.1_amd64.deb ...\n",
            "Unpacking llvm-14-runtime (1:14.0.0-1ubuntu1.1) ...\n",
            "Selecting previously unselected package libpfm4:amd64.\n",
            "Preparing to unpack .../03-libpfm4_4.11.1+git32-gd0b85fb-1ubuntu0.1_amd64.deb ...\n",
            "Unpacking libpfm4:amd64 (4.11.1+git32-gd0b85fb-1ubuntu0.1) ...\n",
            "Selecting previously unselected package llvm-14.\n",
            "Preparing to unpack .../04-llvm-14_1%3a14.0.0-1ubuntu1.1_amd64.deb ...\n",
            "Unpacking llvm-14 (1:14.0.0-1ubuntu1.1) ...\n",
            "Selecting previously unselected package libffi-dev:amd64.\n",
            "Preparing to unpack .../05-libffi-dev_3.4.2-4_amd64.deb ...\n",
            "Unpacking libffi-dev:amd64 (3.4.2-4) ...\n",
            "Selecting previously unselected package python3-pygments.\n",
            "Preparing to unpack .../06-python3-pygments_2.11.2+dfsg-2_all.deb ...\n",
            "Unpacking python3-pygments (2.11.2+dfsg-2) ...\n",
            "Selecting previously unselected package llvm-14-tools.\n",
            "Preparing to unpack .../07-llvm-14-tools_1%3a14.0.0-1ubuntu1.1_amd64.deb ...\n",
            "Unpacking llvm-14-tools (1:14.0.0-1ubuntu1.1) ...\n",
            "Selecting previously unselected package libz3-4:amd64.\n",
            "Preparing to unpack .../08-libz3-4_4.8.12-1_amd64.deb ...\n",
            "Unpacking libz3-4:amd64 (4.8.12-1) ...\n",
            "Selecting previously unselected package libz3-dev:amd64.\n",
            "Preparing to unpack .../09-libz3-dev_4.8.12-1_amd64.deb ...\n",
            "Unpacking libz3-dev:amd64 (4.8.12-1) ...\n",
            "Selecting previously unselected package llvm-14-dev.\n",
            "Preparing to unpack .../10-llvm-14-dev_1%3a14.0.0-1ubuntu1.1_amd64.deb ...\n",
            "Unpacking llvm-14-dev (1:14.0.0-1ubuntu1.1) ...\n",
            "Selecting previously unselected package postgresql-server-dev-14.\n",
            "Preparing to unpack .../11-postgresql-server-dev-14_14.12-0ubuntu0.22.04.1_amd64.deb ...\n",
            "Unpacking postgresql-server-dev-14 (14.12-0ubuntu0.22.04.1) ...\n",
            "Selecting previously unselected package postgresql-server-dev-all:amd64.\n",
            "Preparing to unpack .../12-postgresql-server-dev-all_238_amd64.deb ...\n",
            "Unpacking postgresql-server-dev-all:amd64 (238) ...\n",
            "Setting up python3-yaml (5.4.1-1ubuntu1) ...\n",
            "Setting up libffi-dev:amd64 (3.4.2-4) ...\n",
            "Setting up python3-pygments (2.11.2+dfsg-2) ...\n",
            "Setting up libz3-4:amd64 (4.8.12-1) ...\n",
            "Setting up libpfm4:amd64 (4.11.1+git32-gd0b85fb-1ubuntu0.1) ...\n",
            "Setting up llvm-14-runtime (1:14.0.0-1ubuntu1.1) ...\n",
            "Setting up binfmt-support (2.2.1-2) ...\n",
            "invoke-rc.d: could not determine current runlevel\n",
            "invoke-rc.d: policy-rc.d denied execution of restart.\n",
            "Created symlink /etc/systemd/system/multi-user.target.wants/binfmt-support.service → /lib/systemd/system/binfmt-support.service.\n",
            "Setting up llvm-14 (1:14.0.0-1ubuntu1.1) ...\n",
            "Setting up llvm-14-tools (1:14.0.0-1ubuntu1.1) ...\n",
            "Setting up libz3-dev:amd64 (4.8.12-1) ...\n",
            "Setting up llvm-14-dev (1:14.0.0-1ubuntu1.1) ...\n",
            "Setting up postgresql-server-dev-14 (14.12-0ubuntu0.22.04.1) ...\n",
            "Setting up postgresql-server-dev-all:amd64 (238) ...\n",
            "Processing triggers for man-db (2.10.2-1) ...\n",
            "Processing triggers for libc-bin (2.35-0ubuntu3.4) ...\n",
            "/sbin/ldconfig.real: /usr/local/lib/libtbbmalloc_proxy.so.2 is not a symbolic link\n",
            "\n",
            "/sbin/ldconfig.real: /usr/local/lib/libtbbbind_2_5.so.3 is not a symbolic link\n",
            "\n",
            "/sbin/ldconfig.real: /usr/local/lib/libtbbbind.so.3 is not a symbolic link\n",
            "\n",
            "/sbin/ldconfig.real: /usr/local/lib/libtbbmalloc.so.2 is not a symbolic link\n",
            "\n",
            "/sbin/ldconfig.real: /usr/local/lib/libtbbbind_2_0.so.3 is not a symbolic link\n",
            "\n",
            "/sbin/ldconfig.real: /usr/local/lib/libtbb.so.12 is not a symbolic link\n",
            "\n"
          ]
        }
      ]
    },
    {
      "cell_type": "code",
      "source": [
        "#ADDED By FM 11/01/2024\n",
        "\n",
        "# install PSQL WITH DEV Libraries AND PGVECTOR\n",
        "#!apt install postgresql postgresql-contrib &>log\n",
        "#!service postgresql restart\n",
        "#!sudo apt install postgresql-server-dev-all"
      ],
      "metadata": {
        "id": "8DA67X3Zw_OW"
      },
      "id": "8DA67X3Zw_OW",
      "execution_count": 5,
      "outputs": []
    },
    {
      "cell_type": "code",
      "source": [
        "#!sudo apt install postgresql-server-dev-14"
      ],
      "metadata": {
        "id": "qX_eK5PCCHFH"
      },
      "id": "qX_eK5PCCHFH",
      "execution_count": 6,
      "outputs": []
    },
    {
      "cell_type": "code",
      "source": [
        "print()\n",
        "# PostGRES SQL Settings\n",
        "%cd /content/\n",
        "!sudo -u postgres psql -c \"ALTER USER postgres PASSWORD 'postgres'\"\n",
        "\n",
        "print('START: PG embedding COMPILATION')\n",
        "%cd /content/\n",
        "!git clone https://github.com/neondatabase/pg_embedding.git\n",
        "%cd /content/pg_embedding\n",
        "!make\n",
        "!sudo make install # may need sudo\n",
        "print('END: PG embedding COMPILATION')\n",
        "print()\n",
        "\n",
        "#!sudo -u postgres psql -c \"DROP EXTENSION embedding\"\n",
        "!sudo -u postgres psql -c \"CREATE EXTENSION embedding\"\n",
        "#!sudo -u postgres psql -c \"DROP TABLE documents\"\n",
        "!sudo -u postgres psql -c \"CREATE TABLE documents(id integer PRIMARY KEY, embedding real[])\""
      ],
      "metadata": {
        "id": "KLp1-7HZOkTW",
        "colab": {
          "base_uri": "https://localhost:8080/"
        },
        "outputId": "fa52f595-6e3f-47e3-d253-14285e47ec89"
      },
      "id": "KLp1-7HZOkTW",
      "execution_count": 7,
      "outputs": [
        {
          "output_type": "stream",
          "name": "stdout",
          "text": [
            "\n",
            "/content\n",
            "ALTER ROLE\n",
            "START: PG embedding COMPILATION\n",
            "/content\n",
            "Cloning into 'pg_embedding'...\n",
            "remote: Enumerating objects: 553, done.\u001b[K\n",
            "remote: Counting objects: 100% (183/183), done.\u001b[K\n",
            "remote: Compressing objects: 100% (75/75), done.\u001b[K\n",
            "remote: Total 553 (delta 140), reused 135 (delta 106), pack-reused 370\u001b[K\n",
            "Receiving objects: 100% (553/553), 270.29 KiB | 22.52 MiB/s, done.\n",
            "Resolving deltas: 100% (317/317), done.\n",
            "/content/pg_embedding\n",
            "gcc -Wall -Wmissing-prototypes -Wpointer-arith -Wdeclaration-after-statement -Werror=vla -Wendif-labels -Wmissing-format-attribute -Wimplicit-fallthrough=3 -Wcast-function-type -Wformat-security -fno-strict-aliasing -fwrapv -fexcess-precision=standard -Wno-format-truncation -Wno-stringop-truncation -g -g -O2 -flto=auto -ffat-lto-objects -flto=auto -ffat-lto-objects -fstack-protector-strong -Wformat -Werror=format-security -fno-omit-frame-pointer -Ofast -fPIC -I. -I./ -I/usr/include/postgresql/14/server -I/usr/include/postgresql/internal  -Wdate-time -D_FORTIFY_SOURCE=2 -D_GNU_SOURCE -I/usr/include/libxml2   -c -o embedding.o embedding.c\n",
            "g++ -Wall -Wpointer-arith -Wendif-labels -Wmissing-format-attribute -Wimplicit-fallthrough=3 -Wcast-function-type -Wformat-security -fno-strict-aliasing -fwrapv -g -g -O2 -flto=auto -ffat-lto-objects -flto=auto -ffat-lto-objects -fstack-protector-strong -Wformat -Werror=format-security -std=c++11 -fPIC -I. -I./ -I/usr/include/postgresql/14/server -I/usr/include/postgresql/internal  -Wdate-time -D_FORTIFY_SOURCE=2 -D_GNU_SOURCE -I/usr/include/libxml2   -c -o hnswalg.o hnswalg.cpp\n",
            "gcc -Wall -Wmissing-prototypes -Wpointer-arith -Wdeclaration-after-statement -Werror=vla -Wendif-labels -Wmissing-format-attribute -Wimplicit-fallthrough=3 -Wcast-function-type -Wformat-security -fno-strict-aliasing -fwrapv -fexcess-precision=standard -Wno-format-truncation -Wno-stringop-truncation -g -g -O2 -flto=auto -ffat-lto-objects -flto=auto -ffat-lto-objects -fstack-protector-strong -Wformat -Werror=format-security -fno-omit-frame-pointer -Ofast -fPIC -I. -I./ -I/usr/include/postgresql/14/server -I/usr/include/postgresql/internal  -Wdate-time -D_FORTIFY_SOURCE=2 -D_GNU_SOURCE -I/usr/include/libxml2   -c -o distfunc.o distfunc.c\n",
            "gcc -Wall -Wmissing-prototypes -Wpointer-arith -Wdeclaration-after-statement -Werror=vla -Wendif-labels -Wmissing-format-attribute -Wimplicit-fallthrough=3 -Wcast-function-type -Wformat-security -fno-strict-aliasing -fwrapv -fexcess-precision=standard -Wno-format-truncation -Wno-stringop-truncation -g -g -O2 -flto=auto -ffat-lto-objects -flto=auto -ffat-lto-objects -fstack-protector-strong -Wformat -Werror=format-security -fno-omit-frame-pointer -Ofast -fPIC -shared -o embedding.so embedding.o hnswalg.o distfunc.o -lstdc++ -L/usr/lib/x86_64-linux-gnu -Wl,-Bsymbolic-functions -flto=auto -ffat-lto-objects -flto=auto -Wl,-z,relro -Wl,-z,now -L/usr/lib/llvm-14/lib  -Wl,--as-needed  \n",
            "/usr/bin/clang-14 -Wno-ignored-attributes -fno-strict-aliasing -fwrapv -Wno-unused-command-line-argument -Wno-compound-token-split-by-macro -O2  -I. -I./ -I/usr/include/postgresql/14/server -I/usr/include/postgresql/internal  -Wdate-time -D_FORTIFY_SOURCE=2 -D_GNU_SOURCE -I/usr/include/libxml2  -flto=thin -emit-llvm -c -o embedding.bc embedding.c\n",
            "/usr/bin/clang-14 -xc++ -Wno-ignored-attributes -fno-strict-aliasing -fwrapv -O2  -I. -I./ -I/usr/include/postgresql/14/server -I/usr/include/postgresql/internal  -Wdate-time -D_FORTIFY_SOURCE=2 -D_GNU_SOURCE -I/usr/include/libxml2  -flto=thin -emit-llvm -c -o hnswalg.bc hnswalg.cpp\n",
            "/usr/bin/clang-14 -Wno-ignored-attributes -fno-strict-aliasing -fwrapv -Wno-unused-command-line-argument -Wno-compound-token-split-by-macro -O2  -I. -I./ -I/usr/include/postgresql/14/server -I/usr/include/postgresql/internal  -Wdate-time -D_FORTIFY_SOURCE=2 -D_GNU_SOURCE -I/usr/include/libxml2  -flto=thin -emit-llvm -c -o distfunc.bc distfunc.c\n",
            "/bin/mkdir -p '/usr/lib/postgresql/14/lib'\n",
            "/bin/mkdir -p '/usr/share/postgresql/14/extension'\n",
            "/bin/mkdir -p '/usr/share/postgresql/14/extension'\n",
            "/usr/bin/install -c -m 755  embedding.so '/usr/lib/postgresql/14/lib/embedding.so'\n",
            "/usr/bin/install -c -m 644 .//embedding.control '/usr/share/postgresql/14/extension/'\n",
            "/usr/bin/install -c -m 644 .//embedding--0.3.5--0.3.6.sql .//embedding--0.3.5.sql .//embedding--0.3.6.sql  '/usr/share/postgresql/14/extension/'\n",
            "/bin/mkdir -p '/usr/lib/postgresql/14/lib/bitcode/embedding'\n",
            "/bin/mkdir -p '/usr/lib/postgresql/14/lib/bitcode'/embedding/\n",
            "/usr/bin/install -c -m 644 embedding.bc '/usr/lib/postgresql/14/lib/bitcode'/embedding/./\n",
            "/usr/bin/install -c -m 644 hnswalg.bc '/usr/lib/postgresql/14/lib/bitcode'/embedding/./\n",
            "/usr/bin/install -c -m 644 distfunc.bc '/usr/lib/postgresql/14/lib/bitcode'/embedding/./\n",
            "cd '/usr/lib/postgresql/14/lib/bitcode' && /usr/lib/llvm-14/bin/llvm-lto -thinlto -thinlto-action=thinlink -o embedding.index.bc embedding/embedding.bc embedding/hnswalg.bc embedding/distfunc.bc\n",
            "END: PG embedding COMPILATION\n",
            "\n",
            "CREATE EXTENSION\n",
            "CREATE TABLE\n"
          ]
        }
      ]
    },
    {
      "cell_type": "code",
      "execution_count": 8,
      "id": "1785ffb1-5fc2-4855-854a-238003ff848b",
      "metadata": {
        "id": "1785ffb1-5fc2-4855-854a-238003ff848b"
      },
      "outputs": [],
      "source": [
        "#%pip install openai --root-user-action=ignore\n",
        "import openai\n",
        "import os\n",
        "openai.api_key = os.getenv(\"OPENAI_API_KEY\")\n",
        "#print(os.getenv(\"OPENAI_API_KEY\"))\n",
        "\n",
        "from llama_index.core import SimpleDirectoryReader\n",
        "reader = SimpleDirectoryReader(input_files=[\"/content/pg_essay.txt\"])\n",
        "docs = reader.load_data()"
      ]
    },
    {
      "cell_type": "code",
      "source": [
        "%pip install -U langchain-community -q"
      ],
      "metadata": {
        "colab": {
          "base_uri": "https://localhost:8080/"
        },
        "id": "rbYNAOtv4Y7r",
        "outputId": "37701b3a-fee2-4ce5-f1e3-b0fc115ebfa6"
      },
      "id": "rbYNAOtv4Y7r",
      "execution_count": 9,
      "outputs": [
        {
          "output_type": "stream",
          "name": "stdout",
          "text": [
            "\u001b[?25l     \u001b[90m━━━━━━━━━━━━━━━━━━━━━━━━━━━━━━━━━━━━━━━━\u001b[0m \u001b[32m0.0/2.1 MB\u001b[0m \u001b[31m?\u001b[0m eta \u001b[36m-:--:--\u001b[0m\r\u001b[2K     \u001b[91m━━━━━━━━━━\u001b[0m\u001b[90m╺\u001b[0m\u001b[90m━━━━━━━━━━━━━━━━━━━━━━━━━━━━━\u001b[0m \u001b[32m0.6/2.1 MB\u001b[0m \u001b[31m16.4 MB/s\u001b[0m eta \u001b[36m0:00:01\u001b[0m\r\u001b[2K     \u001b[90m━━━━━━━━━━━━━━━━━━━━━━━━━━━━━━━━━━━━━━━━\u001b[0m \u001b[32m2.1/2.1 MB\u001b[0m \u001b[31m34.4 MB/s\u001b[0m eta \u001b[36m0:00:00\u001b[0m\n",
            "\u001b[?25h"
          ]
        }
      ]
    },
    {
      "cell_type": "code",
      "source": [
        "#ADDED By FM 11/01/2024\n",
        "\n",
        "from typing import List, Tuple\n",
        "from langchain.docstore.document import Document\n",
        "from langchain.document_loaders import TextLoader\n",
        "from langchain.embeddings.openai import OpenAIEmbeddings\n",
        "from langchain.text_splitter import CharacterTextSplitter\n",
        "from langchain.vectorstores import PGEmbedding\n",
        "\n",
        "loader = TextLoader(\"/content/pg_essay.txt\")\n",
        "documents = loader.load()\n",
        "text_splitter = CharacterTextSplitter(chunk_size=1000, chunk_overlap=0)\n",
        "docs0 = text_splitter.split_documents(documents)\n",
        "\n",
        "collection_name0 = \"pg_essay\"\n",
        "print(f'# of Document Pages {len(documents)}')\n",
        "print(f'# of Document Chunks: {len(docs0)}')"
      ],
      "metadata": {
        "id": "hyLRNSCwS91R",
        "colab": {
          "base_uri": "https://localhost:8080/"
        },
        "outputId": "0a061cdd-c63b-4296-e711-5ddc166af2f2"
      },
      "id": "hyLRNSCwS91R",
      "execution_count": 10,
      "outputs": [
        {
          "output_type": "stream",
          "name": "stderr",
          "text": [
            "WARNING:langchain_text_splitters.base:Created a chunk of size 1004, which is longer than the specified 1000\n",
            "WARNING:langchain_text_splitters.base:Created a chunk of size 1203, which is longer than the specified 1000\n",
            "WARNING:langchain_text_splitters.base:Created a chunk of size 1025, which is longer than the specified 1000\n"
          ]
        },
        {
          "output_type": "stream",
          "name": "stdout",
          "text": [
            "# of Document Pages 1\n",
            "# of Document Chunks: 100\n"
          ]
        }
      ]
    },
    {
      "cell_type": "markdown",
      "id": "a7c9299c-06d6-4710-afb0-3cc13761f358",
      "metadata": {
        "id": "a7c9299c-06d6-4710-afb0-3cc13761f358"
      },
      "source": [
        "## Setup Llama Pack\n",
        "\n"
      ]
    },
    {
      "cell_type": "code",
      "source": [
        "#!pip install llama_index\n",
        "import llama_index\n",
        "print('LLAMA INDEX VERSION: %s'%llama_index.core.__version__)\n",
        "#llama_index.core.\n",
        "from llama_index.core.query_pipeline import QueryPipeline\n",
        "import llama_index.core.query_pipeline as query_pipeline\n",
        "#llama_index.core"
      ],
      "metadata": {
        "colab": {
          "base_uri": "https://localhost:8080/"
        },
        "id": "5BwhQtzrcr8G",
        "outputId": "f7214932-2f91-4491-f824-d7635c2d24d7"
      },
      "id": "5BwhQtzrcr8G",
      "execution_count": 11,
      "outputs": [
        {
          "output_type": "stream",
          "name": "stdout",
          "text": [
            "LLAMA INDEX VERSION: 0.10.42\n"
          ]
        }
      ]
    },
    {
      "cell_type": "code",
      "source": [
        "from llama_index.llms.openai import OpenAI\n",
        "from llama_index.embeddings.openai import OpenAIEmbedding\n",
        "from llama_index.core import Settings"
      ],
      "metadata": {
        "id": "8YnIGqpvj04L"
      },
      "id": "8YnIGqpvj04L",
      "execution_count": 12,
      "outputs": []
    },
    {
      "cell_type": "code",
      "source": [
        "from llama_index.core.query_pipeline import QueryPipeline\n",
        "from llama_index.core import PromptTemplate\n",
        "\n",
        "# try chaining basic prompts\n",
        "prompt_str = \"Please generate related movies to {movie_name}\"\n",
        "prompt_tmpl = PromptTemplate(prompt_str)\n",
        "llm = OpenAI(model=\"gpt-3.5-turbo\")\n",
        "\n",
        "p = QueryPipeline(chain=[prompt_tmpl, llm], verbose=True)"
      ],
      "metadata": {
        "id": "4WMXSfoUjpBV"
      },
      "id": "4WMXSfoUjpBV",
      "execution_count": 13,
      "outputs": []
    },
    {
      "cell_type": "code",
      "source": [
        "output = p.run(movie_name=\"The Departed\")"
      ],
      "metadata": {
        "colab": {
          "base_uri": "https://localhost:8080/"
        },
        "id": "aFVka_T6j9lg",
        "outputId": "28dc5cb9-0c35-4bc0-db81-24e57e6ad108"
      },
      "id": "aFVka_T6j9lg",
      "execution_count": 14,
      "outputs": [
        {
          "output_type": "stream",
          "name": "stdout",
          "text": [
            "\u001b[1;3;38;2;155;135;227m> Running module 8982f4bd-afd3-4055-b5b0-aae630217728 with input: \n",
            "movie_name: The Departed\n",
            "\n",
            "\u001b[0m\u001b[1;3;38;2;155;135;227m> Running module a98a9523-eca5-48ac-84b5-6466fa63c2f2 with input: \n",
            "messages: Please generate related movies to The Departed\n",
            "\n",
            "\u001b[0m"
          ]
        }
      ]
    },
    {
      "cell_type": "code",
      "source": [
        "print(str(output))"
      ],
      "metadata": {
        "colab": {
          "base_uri": "https://localhost:8080/"
        },
        "id": "QPQFSofykHAE",
        "outputId": "23909dba-7074-41cb-f710-0526d24a8df2"
      },
      "id": "QPQFSofykHAE",
      "execution_count": 15,
      "outputs": [
        {
          "output_type": "stream",
          "name": "stdout",
          "text": [
            "assistant: 1. Infernal Affairs (2002) - The original Hong Kong film that inspired The Departed\n",
            "2. The Town (2010) - A crime thriller directed by Ben Affleck\n",
            "3. Goodfellas (1990) - Martin Scorsese's classic mobster film\n",
            "4. The Godfather (1972) - Francis Ford Coppola's iconic mafia saga\n",
            "5. Mystic River (2003) - Another crime drama directed by Clint Eastwood\n",
            "6. Casino (1995) - Martin Scorsese's film about the mob in Las Vegas\n",
            "7. American Gangster (2007) - Ridley Scott's crime drama based on a true story\n",
            "8. The Departed (2006) - The Departed is a 2006 American crime film directed by Martin Scorsese and written by William Monahan. It is a remake of the 2002 Hong Kong film Infernal Affairs. The film stars Leonardo DiCaprio, Matt Damon, Jack Nicholson, and Mark Wahlberg.\n",
            "9. The Irishman (2019) - Martin Scorsese's epic crime drama starring Robert De Niro, Al Pacino, and Joe Pesci\n",
            "10. Donnie Brasco (1997) - A true story about an undercover FBI agent infiltrating the mob\n"
          ]
        }
      ]
    },
    {
      "cell_type": "code",
      "execution_count": 16,
      "id": "f5143a5f-7cd3-4aac-99e7-a357f3239f03",
      "metadata": {
        "id": "f5143a5f-7cd3-4aac-99e7-a357f3239f03"
      },
      "outputs": [],
      "source": [
        "# Option 1: Use `download_llama_pack`\n",
        "# from llama_index.llama_pack import download_llama_pack\n",
        "\n",
        "# RAGFusionPipelinePack = download_llama_pack(\n",
        "#     \"RAGFusionPipelinePack\",\n",
        "#     \"./rag_fusion_pipeline_pack\",\n",
        "#     # leave the below line commented out if using the notebook on main\n",
        "#     # llama_hub_url=\"https://raw.githubusercontent.com/run-llama/llama-hub/jerry/add_query_pipeline_pack/llama_hub\"\n",
        "# )\n",
        "\n",
        "# Option 2: Import from llama_hub package\n",
        "#RAGFusionPipelinePack                                           RAGFusionPipelinePack\n",
        "#from llama_hub.llama_packs.query.rag_fusion_pipeline.base import RAGFusionPipelinePack\n",
        "#from llama_index.llms import OpenAI"
      ]
    },
    {
      "cell_type": "markdown",
      "source": [
        "# CLAUDE3 - MODEL\n"
      ],
      "metadata": {
        "id": "Nu5DLJjfzdqb"
      },
      "id": "Nu5DLJjfzdqb"
    },
    {
      "cell_type": "code",
      "source": [
        "%pip install llama-index-llms-anthropic -q\n",
        "!pip install datasets pandas anthropic openai colab-env -q"
      ],
      "metadata": {
        "id": "U_7VvDy8zkcA",
        "colab": {
          "base_uri": "https://localhost:8080/"
        },
        "outputId": "7fa6f0e4-f011-48e7-810f-b2a1b7cc76e5"
      },
      "id": "U_7VvDy8zkcA",
      "execution_count": 17,
      "outputs": [
        {
          "output_type": "stream",
          "name": "stdout",
          "text": [
            "\u001b[2K     \u001b[90m━━━━━━━━━━━━━━━━━━━━━━━━━━━━━━━━━━━━━━━━\u001b[0m \u001b[32m869.1/869.1 kB\u001b[0m \u001b[31m15.3 MB/s\u001b[0m eta \u001b[36m0:00:00\u001b[0m\n",
            "\u001b[2K     \u001b[90m━━━━━━━━━━━━━━━━━━━━━━━━━━━━━━━━━━━━━━━━\u001b[0m \u001b[32m542.0/542.0 kB\u001b[0m \u001b[31m13.2 MB/s\u001b[0m eta \u001b[36m0:00:00\u001b[0m\n",
            "\u001b[2K     \u001b[90m━━━━━━━━━━━━━━━━━━━━━━━━━━━━━━━━━━━━━━━━\u001b[0m \u001b[32m116.3/116.3 kB\u001b[0m \u001b[31m18.2 MB/s\u001b[0m eta \u001b[36m0:00:00\u001b[0m\n",
            "\u001b[2K     \u001b[90m━━━━━━━━━━━━━━━━━━━━━━━━━━━━━━━━━━━━━━━━\u001b[0m \u001b[32m194.1/194.1 kB\u001b[0m \u001b[31m21.8 MB/s\u001b[0m eta \u001b[36m0:00:00\u001b[0m\n",
            "\u001b[2K     \u001b[90m━━━━━━━━━━━━━━━━━━━━━━━━━━━━━━━━━━━━━━━━\u001b[0m \u001b[32m134.8/134.8 kB\u001b[0m \u001b[31m18.4 MB/s\u001b[0m eta \u001b[36m0:00:00\u001b[0m\n",
            "\u001b[?25h"
          ]
        }
      ]
    },
    {
      "cell_type": "code",
      "source": [
        "import anthropic\n",
        "import os\n",
        "import colab_env\n",
        "import json\n",
        "\n",
        "api_key = os.environ[\"CLAUDE3_API_KEY\"]\n",
        "model=\"claude-3-opus-20240229\"\n",
        "\n",
        "client = anthropic.Anthropic(\n",
        "    api_key=api_key,\n",
        ")"
      ],
      "metadata": {
        "id": "ta53klzlzsn7"
      },
      "id": "ta53klzlzsn7",
      "execution_count": 18,
      "outputs": []
    },
    {
      "cell_type": "code",
      "source": [
        "from llama_index.llms.anthropic import Anthropic\n",
        "\n",
        "# To customize your API key, do this\n",
        "# otherwise it will lookup ANTHROPIC_API_KEY from your env variable\n",
        "# llm = Anthropic(api_key=\"\")\n",
        "llm = Anthropic(api_key=api_key,model=\"claude-3-opus-20240229\")"
      ],
      "metadata": {
        "id": "e-qbH4EQ0Ohe"
      },
      "id": "e-qbH4EQ0Ohe",
      "execution_count": 19,
      "outputs": []
    },
    {
      "cell_type": "code",
      "source": [
        "resp_claude3 = llm.complete(\"Paul Graham is \")"
      ],
      "metadata": {
        "id": "z6tk_q6e0bPB"
      },
      "id": "z6tk_q6e0bPB",
      "execution_count": 20,
      "outputs": []
    },
    {
      "cell_type": "code",
      "source": [
        "print(resp_claude3)"
      ],
      "metadata": {
        "colab": {
          "base_uri": "https://localhost:8080/"
        },
        "id": "mPOOcOvk0sLI",
        "outputId": "4c1bb724-e819-415a-ec5f-a48b4f3c82bf"
      },
      "id": "mPOOcOvk0sLI",
      "execution_count": 21,
      "outputs": [
        {
          "output_type": "stream",
          "name": "stdout",
          "text": [
            "Paul Graham is an English-born American computer scientist, entrepreneur, venture capitalist, and essayist. He is best known for his work on the programming language Lisp, his former startup Viaweb (which was later acquired by Yahoo! and became Yahoo! Store), and for co-founding the influential startup accelerator Y Combinator. Here are some key points about Paul Graham:\n",
            "\n",
            "1. Programming: Graham is a proponent of the Lisp programming language and has written several books on the topic, including \"On Lisp\" (1993) and \"ANSI Common Lisp\" (1995).\n",
            "\n",
            "2. Viaweb: In 1995, Graham and Robert Morris founded Viaweb, the first software as a service (SaaS) company. Viaweb's software allowed users to create their own online stores. In 1998, Viaweb was acquired by Yahoo! for $49.6 million.\n",
            "\n",
            "3. Y Combinator: In 2005, Graham co-founded Y Combinator, a startup accelerator that provides seed funding, advice, and connections to early-stage startups. Y Combinator has been influential in the startup world and has funded over 3,000 companies, including Dropbox, Airbnb, and Reddit.\n",
            "\n",
            "4. Essays: Graham is a prolific essayist and has written extensively on topics related to technology, startups, and entrepreneurship. His essays have been widely read and have influenced many in the tech industry.\n",
            "\n",
            "5. Painting: In addition to his work in technology, Graham is also a painter. He has studied painting at the Rhode Island School of Design and the Accademia di Belle Arti in Florence, Italy.\n"
          ]
        }
      ]
    },
    {
      "cell_type": "markdown",
      "source": [
        "CLAUDE3 for FILMS"
      ],
      "metadata": {
        "id": "JRaBcKN0e3Yj"
      },
      "id": "JRaBcKN0e3Yj"
    },
    {
      "cell_type": "code",
      "source": [
        "p = QueryPipeline(chain=[prompt_tmpl, llm], verbose=True)\n",
        "output = p.run(movie_name=\"The Departed\")"
      ],
      "metadata": {
        "colab": {
          "base_uri": "https://localhost:8080/"
        },
        "id": "m0jOdVpLeiXe",
        "outputId": "eb8e9178-35d6-40a3-dd2d-d4c3d0eb5c9f"
      },
      "id": "m0jOdVpLeiXe",
      "execution_count": 22,
      "outputs": [
        {
          "output_type": "stream",
          "name": "stdout",
          "text": [
            "\u001b[1;3;38;2;155;135;227m> Running module c8a4428e-e8a4-43fd-a798-6713c66250ed with input: \n",
            "movie_name: The Departed\n",
            "\n",
            "\u001b[0m\u001b[1;3;38;2;155;135;227m> Running module 4ffc1c95-0103-438b-a743-66e283d66b56 with input: \n",
            "messages: Please generate related movies to The Departed\n",
            "\n",
            "\u001b[0m"
          ]
        }
      ]
    },
    {
      "cell_type": "code",
      "source": [
        "print(str(output))"
      ],
      "metadata": {
        "colab": {
          "base_uri": "https://localhost:8080/"
        },
        "id": "rbrusybqexHw",
        "outputId": "6574686f-8eeb-4a96-8104-b0e552a73020"
      },
      "id": "rbrusybqexHw",
      "execution_count": 23,
      "outputs": [
        {
          "output_type": "stream",
          "name": "stdout",
          "text": [
            "assistant: Here are some movies related to The Departed:\n",
            "\n",
            "1. Goodfellas (1990) - Another Martin Scorsese crime drama featuring similar themes and style.\n",
            "\n",
            "2. Infernal Affairs (2002) - The Hong Kong film that inspired The Departed.\n",
            "\n",
            "3. Heat (1995) - A crime thriller about a detective chasing a professional thief, featuring themes of loyalty and betrayal.\n",
            "\n",
            "4. Donnie Brasco (1997) - Based on a true story, an undercover FBI agent infiltrates the mob.\n",
            "\n",
            "5. The Town (2010) - Directed by and starring Ben Affleck, a crime drama set in Boston involving robberies and an undercover FBI agent.\n",
            "\n",
            "6. Black Mass (2015) - Another Boston-based crime drama, focusing on the infamous Irish mob boss Whitey Bulger, played by Johnny Depp.\n",
            "\n",
            "7. Reservoir Dogs (1992) - Quentin Tarantino's debut film about a group of thieves and their loyalty to each other.\n",
            "\n",
            "8. Carlito's Way (1993) - A crime drama directed by Brian De Palma, featuring Al Pacino as an ex-convict trying to go straight.\n",
            "\n",
            "9. American Gangster (2007) - A crime drama based on the true story of Frank Lucas, a notorious drug kingpin in the 1970s.\n",
            "\n",
            "10. The Usual Suspects (1995) - A neo-noir crime thriller with a complex plot and memorable characters, featuring themes of deception and identity.\n"
          ]
        }
      ]
    },
    {
      "cell_type": "markdown",
      "source": [
        "# EMBEDDING"
      ],
      "metadata": {
        "id": "Xgo5C7hzbWCY"
      },
      "id": "Xgo5C7hzbWCY"
    },
    {
      "cell_type": "code",
      "source": [
        "#!pip install -U langchain-community -q"
      ],
      "metadata": {
        "id": "hXO8NmTO2UmK"
      },
      "id": "hXO8NmTO2UmK",
      "execution_count": 24,
      "outputs": []
    },
    {
      "cell_type": "code",
      "source": [
        "# 20x faster than pgvector: introducing pg_embedding extension for vector search in Postgres and LangChain\n",
        "# https://neon.tech/blog/pg-embedding-extension-for-vector-search\n",
        "\n",
        "#ADDED By FM 11/01/2024\n",
        "\n",
        "from langchain.embeddings.openai import OpenAIEmbeddings\n",
        "from langchain.text_splitter import CharacterTextSplitter\n",
        "from langchain.vectorstores import PGEmbedding\n",
        "\n",
        "# https://supabase.com/blog/fewer-dimensions-are-better-pgvector\n",
        "embeddings = OpenAIEmbeddings(model='text-embedding-ada-002')\n",
        "\n",
        "collection_name='Paul Graham Essay'\n",
        "connection_string = os.getenv(\"DATABASE_URL\")\n",
        "\n",
        "db = PGEmbedding.from_documents(\n",
        "    embedding=embeddings,\n",
        "    documents=docs0,\n",
        "    collection_name=collection_name,\n",
        "    connection_string=connection_string,\n",
        ")\n",
        "\n",
        "#db.create_hnsw_index(dims = 1536, m = 8, ef_construction = 16, ef_search = 16)"
      ],
      "metadata": {
        "id": "SHrXuMUXGAMW",
        "colab": {
          "base_uri": "https://localhost:8080/"
        },
        "outputId": "89d5ee79-f86a-4fb4-fae8-d9591bd89305"
      },
      "id": "SHrXuMUXGAMW",
      "execution_count": 25,
      "outputs": [
        {
          "output_type": "stream",
          "name": "stderr",
          "text": [
            "/usr/local/lib/python3.10/dist-packages/langchain_core/_api/deprecation.py:119: LangChainDeprecationWarning: The class `OpenAIEmbeddings` was deprecated in LangChain 0.0.9 and will be removed in 0.3.0. An updated version of the class exists in the langchain-openai package and should be used instead. To use it run `pip install -U langchain-openai` and import as `from langchain_openai import OpenAIEmbeddings`.\n",
            "  warn_deprecated(\n"
          ]
        }
      ]
    },
    {
      "cell_type": "code",
      "source": [
        "#ADDED By FM 11/01/2024\n",
        "query='What did the author do growing up?'\n",
        "docs_with_score: List[Tuple[Document, float]] = db.similarity_search_with_score(query)\n",
        "\n",
        "print()\n",
        "print(query)\n",
        "print()\n",
        "\n",
        "for doc, score in docs_with_score:\n",
        "    print(\"-\" * 80)\n",
        "    print(\"Score: \", score)\n",
        "    print(doc.page_content)\n",
        "    print(\"-\" * 80)"
      ],
      "metadata": {
        "id": "A4RiRP1jOGVs",
        "colab": {
          "base_uri": "https://localhost:8080/"
        },
        "outputId": "ba9f9c29-c720-4255-a989-2d49309dde3d"
      },
      "id": "A4RiRP1jOGVs",
      "execution_count": 26,
      "outputs": [
        {
          "output_type": "stream",
          "name": "stdout",
          "text": [
            "\n",
            "What did the author do growing up?\n",
            "\n",
            "--------------------------------------------------------------------------------\n",
            "Score:  0.5991553\n",
            "What I Worked On\n",
            "\n",
            "February 2021\n",
            "\n",
            "Before college the two main things I worked on, outside of school, were writing and programming. I didn't write essays. I wrote what beginning writers were supposed to write then, and probably still are: short stories. My stories were awful. They had hardly any plot, just characters with strong feelings, which I imagined made them deep.\n",
            "\n",
            "The first programs I tried writing were on the IBM 1401 that our school district used for what was then called \"data processing.\" This was in 9th grade, so I was 13 or 14. The school district's 1401 happened to be in the basement of our junior high school, and my friend Rich Draves and I got permission to use it. It was like a mini Bond villain's lair down there, with all these alien-looking machines — CPU, disk drives, printer, card reader — sitting up on a raised floor under bright fluorescent lights.\n",
            "--------------------------------------------------------------------------------\n",
            "--------------------------------------------------------------------------------\n",
            "Score:  0.60239\n",
            "Working on Bel was hard but satisfying. I worked on it so intensively that at any given time I had a decent chunk of the code in my head and could write more there. I remember taking the boys to the coast on a sunny day in 2015 and figuring out how to deal with some problem involving continuations while I watched them play in the tide pools. It felt like I was doing life right. I remember that because I was slightly dismayed at how novel it felt. The good news is that I had more moments like this over the next few years.\n",
            "\n",
            "In the summer of 2016 we moved to England. We wanted our kids to see what it was like living in another country, and since I was a British citizen by birth, that seemed the obvious choice. We only meant to stay for a year, but we liked it so much that we still live there. So most of Bel was written in England.\n",
            "--------------------------------------------------------------------------------\n",
            "--------------------------------------------------------------------------------\n",
            "Score:  0.60477674\n",
            "Over the next several years I wrote lots of essays about all kinds of different topics. O'Reilly reprinted a collection of them as a book, called Hackers & Painters after one of the essays in it. I also worked on spam filters, and did some more painting. I used to have dinners for a group of friends every thursday night, which taught me how to cook for groups. And I bought another building in Cambridge, a former candy factory (and later, twas said, porn studio), to use as an office.\n",
            "\n",
            "One night in October 2003 there was a big party at my house. It was a clever idea of my friend Maria Daniels, who was one of the thursday diners. Three separate hosts would all invite their friends to one party. So for every guest, two thirds of the other guests would be people they didn't know but would probably like. One of the guests was someone I didn't know but would turn out to like a lot: a woman called Jessica Livingston. A couple days later I asked her out.\n",
            "--------------------------------------------------------------------------------\n",
            "--------------------------------------------------------------------------------\n",
            "Score:  0.6152403\n",
            "In the print era, the channel for publishing essays had been vanishingly small. Except for a few officially anointed thinkers who went to the right parties in New York, the only people allowed to publish essays were specialists writing about their specialties. There were so many essays that had never been written, because there had been no way to publish them. Now they could be, and I was going to write them. [12]\n",
            "\n",
            "I've worked on several different things, but to the extent there was a turning point where I figured out what to work on, it was when I started publishing essays online. From then on I knew that whatever else I did, I'd always write essays too.\n",
            "\n",
            "I knew that online essays would be a marginal medium at first. Socially they'd seem more like rants posted by nutjobs on their GeoCities sites than the genteel and beautifully typeset compositions published in The New Yorker. But by this point I knew enough to find that encouraging instead of discouraging.\n",
            "--------------------------------------------------------------------------------\n"
          ]
        }
      ]
    },
    {
      "cell_type": "markdown",
      "source": [
        "# RAG FUSION PIPELINE"
      ],
      "metadata": {
        "id": "bzeoJMRNbzXg"
      },
      "id": "bzeoJMRNbzXg"
    },
    {
      "cell_type": "code",
      "source": [
        "\"\"\"RAG Fusion Pipeline.\"\"\"\n",
        "\n",
        "from typing import Any, Dict, List, Optional\n",
        "\n",
        "from llama_index.core import Document, ServiceContext, VectorStoreIndex\n",
        "from llama_index.core.llama_pack.base import BaseLlamaPack\n",
        "from llama_index.core.llms.llm import LLM\n",
        "from llama_index.core.node_parser import SentenceSplitter\n",
        "from llama_index.core.query_pipeline.components.argpacks import ArgPackComponent\n",
        "from llama_index.core.query_pipeline.components.function import FnComponent\n",
        "from llama_index.core.query_pipeline.components.input import InputComponent\n",
        "from llama_index.core.query_pipeline.query import QueryPipeline\n",
        "from llama_index.core.response_synthesizers import TreeSummarize\n",
        "from llama_index.core.schema import NodeWithScore\n",
        "from llama_index.llms.openai import OpenAI\n",
        "\n",
        "DEFAULT_CHUNK_SIZES = [128, 256, 512, 1024]\n",
        "\n",
        "\n",
        "def reciprocal_rank_fusion(\n",
        "    results: List[List[NodeWithScore]],\n",
        ") -> List[NodeWithScore]:\n",
        "    \"\"\"Apply reciprocal rank fusion.\n",
        "\n",
        "    The original paper uses k=60 for best results:\n",
        "    https://plg.uwaterloo.ca/~gvcormac/cormacksigir09-rrf.pdf\n",
        "    \"\"\"\n",
        "    k = 60.0  # `k` is a parameter used to control the impact of outlier rankings.\n",
        "    fused_scores = {}\n",
        "    text_to_node = {}\n",
        "    rank=0\n",
        "\n",
        "#for rank, node_with_score in enumerate(\n",
        "#            sorted(nodes_with_scores, key=lambda x: x.score or 0.0, reverse=True)\n",
        "#        ):\n",
        "\n",
        "# The above lines commented generated this error AttributeError: 'tuple' object has no attribute 'score'\n",
        "\n",
        "\n",
        "     # compute reciprocal rank scores by Frank Morales 09/05/2024\n",
        "    for node_with_score in results:\n",
        "        rank+=1\n",
        "        if not isinstance(node_with_score, NodeWithScore):\n",
        "            raise TypeError(\"node_with_score must be a NodeWithScore object.\")\n",
        "        text = node_with_score.node.get_content()\n",
        "        text_to_node[text] = node_with_score\n",
        "        if text not in fused_scores:\n",
        "          fused_scores[text] = 0.0\n",
        "        fused_scores[text] += 1.0 / (rank + k)\n",
        "\n",
        "    # sort results\n",
        "    reranked_results = dict(\n",
        "        sorted(fused_scores.items(), key=lambda x: x[1], reverse=True)\n",
        "    )\n",
        "\n",
        "    # adjust node scores\n",
        "    reranked_nodes: List[NodeWithScore] = []\n",
        "    for text, score in reranked_results.items():\n",
        "        reranked_nodes.append(text_to_node[text])\n",
        "        reranked_nodes[-1].score = score\n",
        "\n",
        "    return reranked_nodes\n",
        "\n",
        "\n",
        "class RAGFusionPipelinePack(BaseLlamaPack):\n",
        "    \"\"\"RAG Fusion pipeline.\n",
        "\n",
        "    Create a bunch of vector indexes of different chunk sizes.\n",
        "\n",
        "    \"\"\"\n",
        "\n",
        "    def __init__(\n",
        "        self,\n",
        "        documents: List[Document],\n",
        "        llm: Optional[LLM] = None,\n",
        "        chunk_sizes: Optional[List[int]] = None,\n",
        "    ) -> None:\n",
        "        \"\"\"Init params.\"\"\"\n",
        "        self.documents = documents\n",
        "        self.chunk_sizes = chunk_sizes or DEFAULT_CHUNK_SIZES\n",
        "\n",
        "        # construct index\n",
        "        self.llm = llm or OpenAI(model=\"gpt-3.5-turbo\")\n",
        "\n",
        "        self.query_engines = []\n",
        "        self.retrievers = {}\n",
        "        for chunk_size in self.chunk_sizes:\n",
        "            splitter = SentenceSplitter(chunk_size=chunk_size, chunk_overlap=0)\n",
        "            nodes = splitter.get_nodes_from_documents(documents)\n",
        "\n",
        "            service_context = ServiceContext.from_defaults(llm=self.llm)\n",
        "            vector_index = VectorStoreIndex(nodes, service_context=service_context)\n",
        "            self.query_engines.append(vector_index.as_query_engine())\n",
        "\n",
        "            self.retrievers[str(chunk_size)] = vector_index.as_retriever()\n",
        "\n",
        "        # define rerank component\n",
        "        rerank_component = FnComponent(fn=reciprocal_rank_fusion)\n",
        "\n",
        "        # construct query pipeline\n",
        "        p = QueryPipeline()\n",
        "        module_dict = {\n",
        "            **self.retrievers,\n",
        "            \"input\": InputComponent(),\n",
        "            \"summarizer\": TreeSummarize(),\n",
        "            # NOTE: Join args\n",
        "            \"join\": ArgPackComponent(),\n",
        "            \"reranker\": rerank_component,\n",
        "        }\n",
        "        p.add_modules(module_dict)\n",
        "        # add links from input to retriever (id'ed by chunk_size)\n",
        "        for chunk_size in self.chunk_sizes:\n",
        "            p.add_link(\"input\", str(chunk_size))\n",
        "            p.add_link(str(chunk_size), \"join\", dest_key=str(chunk_size))\n",
        "        p.add_link(\"join\", \"reranker\")\n",
        "        p.add_link(\"input\", \"summarizer\", dest_key=\"query_str\")\n",
        "        p.add_link(\"reranker\", \"summarizer\", dest_key=\"nodes\")\n",
        "\n",
        "        self.query_pipeline = p\n",
        "\n",
        "    def get_modules(self) -> Dict[str, Any]:\n",
        "        \"\"\"Get modules.\"\"\"\n",
        "        return {\n",
        "            \"llm\": self.llm,\n",
        "            \"retrievers\": self.retrievers,\n",
        "            \"query_engines\": self.query_engines,\n",
        "            \"query_pipeline\": self.query_pipeline,\n",
        "        }\n",
        "\n",
        "    def run(self, *args: Any, **kwargs: Any) -> Any:\n",
        "        \"\"\"Run the pipeline.\"\"\"\n",
        "        return self.query_pipeline.run(*args, **kwargs)\n"
      ],
      "metadata": {
        "id": "n5s85UdnxwAQ"
      },
      "id": "n5s85UdnxwAQ",
      "execution_count": 27,
      "outputs": []
    },
    {
      "cell_type": "code",
      "source": [
        "!pip install llama-index-llms-langchain -q"
      ],
      "metadata": {
        "id": "zM_10SExAhYb",
        "colab": {
          "base_uri": "https://localhost:8080/"
        },
        "outputId": "dd989f52-b87f-4edc-a199-79dfddd7b4e0"
      },
      "id": "zM_10SExAhYb",
      "execution_count": 28,
      "outputs": [
        {
          "output_type": "stream",
          "name": "stdout",
          "text": [
            "\u001b[2K     \u001b[90m━━━━━━━━━━━━━━━━━━━━━━━━━━━━━━━━━━━━━━━━\u001b[0m \u001b[32m1.0/1.0 MB\u001b[0m \u001b[31m23.1 MB/s\u001b[0m eta \u001b[36m0:00:00\u001b[0m\n",
            "\u001b[2K     \u001b[90m━━━━━━━━━━━━━━━━━━━━━━━━━━━━━━━━━━━━━━━━\u001b[0m \u001b[32m2.0/2.0 MB\u001b[0m \u001b[31m85.2 MB/s\u001b[0m eta \u001b[36m0:00:00\u001b[0m\n",
            "\u001b[2K     \u001b[90m━━━━━━━━━━━━━━━━━━━━━━━━━━━━━━━━━━━━━━━━\u001b[0m \u001b[32m302.9/302.9 kB\u001b[0m \u001b[31m39.7 MB/s\u001b[0m eta \u001b[36m0:00:00\u001b[0m\n",
            "\u001b[?25h"
          ]
        }
      ]
    },
    {
      "cell_type": "code",
      "execution_count": 29,
      "id": "1e4786b6-6add-4caf-9f9c-c2d8f455702a",
      "metadata": {
        "id": "1e4786b6-6add-4caf-9f9c-c2d8f455702a",
        "colab": {
          "base_uri": "https://localhost:8080/"
        },
        "outputId": "c9fc8b2c-a76c-4d0b-829c-8a07d56dfec6"
      },
      "outputs": [
        {
          "output_type": "stream",
          "name": "stderr",
          "text": [
            "<ipython-input-27-df6af02ee39d>:91: DeprecationWarning: Call to deprecated class method from_defaults. (ServiceContext is deprecated, please use `llama_index.settings.Settings` instead.) -- Deprecated since version 0.10.0.\n",
            "  service_context = ServiceContext.from_defaults(llm=self.llm)\n"
          ]
        }
      ],
      "source": [
        "pack = RAGFusionPipelinePack(docs, llm)\n",
        "query0=\"What did the author do growing up?\"\n",
        "response0 = pack.run(query=query0)"
      ]
    },
    {
      "cell_type": "code",
      "source": [
        "print(response0)"
      ],
      "metadata": {
        "colab": {
          "base_uri": "https://localhost:8080/"
        },
        "id": "HR-FyKpy1Nuv",
        "outputId": "a53ab2ff-01dc-4173-ec5b-7ca5193144f4"
      },
      "id": "HR-FyKpy1Nuv",
      "execution_count": 30,
      "outputs": [
        {
          "output_type": "stream",
          "name": "stdout",
          "text": [
            "The author, growing up, worked on writing short stories and programming. They wrote simple games, a program to predict rocket heights, and even a word processor. Additionally, the author started programming on a TRS-80 computer and later switched to studying AI in college due to their interest sparked by a novel and a PBS documentary.\n"
          ]
        }
      ]
    },
    {
      "cell_type": "markdown",
      "source": [
        "# Examples of Queries"
      ],
      "metadata": {
        "id": "ZOkptc-Yx8U0"
      },
      "id": "ZOkptc-Yx8U0"
    },
    {
      "cell_type": "code",
      "execution_count": 31,
      "id": "065ef0c4-0c9e-4611-8de4-98b2a7fe3094",
      "metadata": {
        "id": "065ef0c4-0c9e-4611-8de4-98b2a7fe3094",
        "colab": {
          "base_uri": "https://localhost:8080/"
        },
        "outputId": "97d52adc-e91a-420d-88fd-2a3b0bae9f42"
      },
      "outputs": [
        {
          "output_type": "stream",
          "name": "stdout",
          "text": [
            "\n",
            "What did the author do growing up?\n",
            "The author, growing up, worked on writing short stories and programming. They wrote simple games, a program to predict rocket heights, and a word processor on a TRS-80 computer. Additionally, they took philosophy courses in college before switching to studying AI, inspired by works like Heinlein's \"The Moon is a Harsh Mistress\" and seeing SHRDLU in action.\n",
            "\n",
            "\n",
            "Who is the President of the USA?\n",
            "I am unable to provide real-time information or updates. For the most current information on the President of the USA, please refer to the latest news sources or official government websites.\n",
            "\n",
            "\n",
            "Who is the best poet of CANADA?\n",
            "I cannot provide an answer to the query as the information provided does not mention or relate to any specific poet from Canada.\n",
            "\n",
            "\n",
            "Anything about LIPS\n",
            "LISP, a programming language, is discussed in the provided context. It is highlighted that LISP is interesting for its own sake and not just for its association with AI. The language was initially intended as a formal model of computation, an alternative to the Turing machine. LISP's core is defined by writing an interpreter in itself, and it was discovered that it could be used to program computers. The language's origins as a model of computation gave it a unique power and elegance that set it apart from other languages. The context also mentions the development of a new Lisp variant called Bel, which was written in Arc, showcasing the complexity and innovation involved in working with Lisp.\n",
            "\n"
          ]
        }
      ],
      "source": [
        "#modify By FM 11/01/2024\n",
        "\n",
        "#response = pack.run(query=\"What did the author do growing up?\")\n",
        "query0=\"What did the author do growing up?\"\n",
        "query='I bought an ice cream for 6 kids. Each cone was $1.25 and I paid with a $10 bill. How many dollars did I get back? Explain first before answering.'\n",
        "query1 = \"Who is the President of the USA?\"\n",
        "query2 = \"Who is the best poet of CANADA?\"\n",
        "#query2 = \"Who won the baseball World Series in 2023? and Who Lost\"\n",
        "query3 = 'Anything about FORTRAN'\n",
        "query4 = 'Anything about LIPS'\n",
        "query5 = 'Anything about Python'\n",
        "\n",
        "\n",
        "response0 = pack.run(query=query0)\n",
        "response1 = pack.run(query=query1)\n",
        "response2 = pack.run(query=query2)\n",
        "response4 = pack.run(query=query4)\n",
        "\n",
        "print()\n",
        "print(query0)\n",
        "print(str(response0))\n",
        "print()\n",
        "\n",
        "print()\n",
        "print(query1)\n",
        "print(str(response1))\n",
        "print()\n",
        "\n",
        "print()\n",
        "print(query2)\n",
        "print(str(response2))\n",
        "print()\n",
        "\n",
        "print()\n",
        "print(query4)\n",
        "print(str(response4))\n",
        "print()"
      ]
    }
  ],
  "metadata": {
    "kernelspec": {
      "display_name": "Python 3",
      "name": "python3"
    },
    "language_info": {
      "name": "python"
    },
    "colab": {
      "provenance": [],
      "gpuType": "T4",
      "machine_shape": "hm",
      "include_colab_link": true
    },
    "accelerator": "GPU"
  },
  "nbformat": 4,
  "nbformat_minor": 5
}