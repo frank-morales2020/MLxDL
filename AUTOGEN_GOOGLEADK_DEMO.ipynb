{
  "nbformat": 4,
  "nbformat_minor": 0,
  "metadata": {
    "colab": {
      "provenance": [],
      "authorship_tag": "ABX9TyNbzeErF6GbKHKSipARhAEZ",
      "include_colab_link": true
    },
    "kernelspec": {
      "name": "python3",
      "display_name": "Python 3"
    },
    "language_info": {
      "name": "python"
    }
  },
  "cells": [
    {
      "cell_type": "markdown",
      "metadata": {
        "id": "view-in-github",
        "colab_type": "text"
      },
      "source": [
        "<a href=\"https://colab.research.google.com/github/frank-morales2020/MLxDL/blob/main/AUTOGEN_GOOGLEADK_DEMO.ipynb\" target=\"_parent\"><img src=\"https://colab.research.google.com/assets/colab-badge.svg\" alt=\"Open In Colab\"/></a>"
      ]
    },
    {
      "cell_type": "code",
      "source": [
        "!pip install colab-env -q\n",
        "!pip install -U autogen-agentchat autogen-ext[openai] -q\n",
        "\n",
        "import colab_env\n",
        "#import os\n",
        "#key_api = os.environ.get(\"OPENAI_API_KEY\")"
      ],
      "metadata": {
        "id": "emMYuIpVXfP2"
      },
      "execution_count": null,
      "outputs": []
    },
    {
      "cell_type": "markdown",
      "source": [
        "## Autogen"
      ],
      "metadata": {
        "id": "6ZkPjlNKpZ_9"
      }
    },
    {
      "cell_type": "code",
      "source": [
        "import asyncio\n",
        "from autogen_agentchat.agents import AssistantAgent\n",
        "from autogen_agentchat.conditions import MaxMessageTermination, TextMentionTermination\n",
        "from autogen_agentchat.teams import RoundRobinGroupChat\n",
        "from autogen_agentchat.ui import Console\n",
        "from autogen_ext.models.openai import OpenAIChatCompletionClient\n",
        "\n",
        "\n",
        "def calculator(a: float, b: float, operator: str) -> str:\n",
        "    \"\"\"Perform basic arithmetic operations.\"\"\"\n",
        "    try:\n",
        "        if operator == '+':\n",
        "            return str(a + b)\n",
        "        elif operator == '-':\n",
        "            return str(a - b)\n",
        "        elif operator == '*':\n",
        "            return str(a * b)\n",
        "        elif operator == '/':\n",
        "            if b == 0:\n",
        "                return 'Error: Division by zero'\n",
        "            return str(a / b)\n",
        "        else:\n",
        "            return 'Error: Invalid operator. Please use +, -, *, or /'\n",
        "    except Exception as e:\n",
        "        return f'Error: {str(e)}'\n",
        "\n",
        "\n",
        "async def main() -> None:\n",
        "    model_client = OpenAIChatCompletionClient(model=\"gpt-4o-2024-11-20\")\n",
        "    termination = MaxMessageTermination(\n",
        "        max_messages=10) | TextMentionTermination(\"TERMINATE\")\n",
        "    assistant = AssistantAgent(\n",
        "        \"assistant\", model_client=model_client, tools=[calculator])\n",
        "    team = RoundRobinGroupChat([assistant], termination_condition=termination)\n",
        "    await Console(team.run_stream(task=\"What is the result of 545.34567 * 34555.34\"))\n",
        "\n",
        "await main()"
      ],
      "metadata": {
        "colab": {
          "base_uri": "https://localhost:8080/"
        },
        "id": "oMaXflhsTugB",
        "outputId": "7511ab70-a178-41bc-a12a-f9d3675d0752"
      },
      "execution_count": 31,
      "outputs": [
        {
          "output_type": "stream",
          "name": "stdout",
          "text": [
            "---------- user ----------\n",
            "What is the result of 545.34567 * 34555.34\n",
            "---------- assistant ----------\n",
            "[FunctionCall(id='call_bSUPFy57VHxeLhtFzq3b7Ibu', arguments='{\"a\":545.34567,\"b\":34555.34,\"operator\":\"*\"}', name='calculator')]\n",
            "---------- assistant ----------\n",
            "[FunctionExecutionResult(content='18844605.0443778', name='calculator', call_id='call_bSUPFy57VHxeLhtFzq3b7Ibu', is_error=False)]\n",
            "---------- assistant ----------\n",
            "18844605.0443778\n",
            "---------- assistant ----------\n",
            "The result of \\( 545.34567 \\times 34555.34 \\) is approximately \\( 18,844,605.0444 \\). TERMINATE\n"
          ]
        }
      ]
    },
    {
      "cell_type": "markdown",
      "source": [
        "## Goggle ADK"
      ],
      "metadata": {
        "id": "gsBDCGaepoee"
      }
    },
    {
      "cell_type": "code",
      "source": [
        "!pip install google_adk -q"
      ],
      "metadata": {
        "id": "aU82ZuE4ed0S"
      },
      "execution_count": 27,
      "outputs": []
    },
    {
      "source": [
        "from typing import Any, Callable, List\n",
        "import sys\n",
        "import asyncio\n",
        "\n",
        "\n",
        "class Agent:\n",
        "    def __init__(self, name, model, description, instruction, tools: List[Callable[..., Any]]):\n",
        "        self.name = name\n",
        "        self.model = model\n",
        "        self.description = description\n",
        "        self.instruction = instruction\n",
        "        self.tools = tools\n",
        "\n",
        "    async def run(self, task: str) -> str:\n",
        "        \"\"\"Executes the agent on the given task.\n",
        "\n",
        "        Args:\n",
        "            task: The task for the agent to perform.\n",
        "\n",
        "        Returns:\n",
        "            The agent's response.\n",
        "        \"\"\"\n",
        "        print(f\"Agent {self.name} received task: {task}\")\n",
        "        sys.stdout.flush()\n",
        "\n",
        "        # Hypothetical implementation to extract calculation operations\n",
        "        if any(op in task for op in ['+', '-', '*', '/']):\n",
        "            try:\n",
        "                parts = task.split(' ')\n",
        "                # Basic example - adjust for more complex operations\n",
        "                a = float(parts[-3])\n",
        "                operator = parts[-2]\n",
        "                b = float(parts[-1])\n",
        "                for tool in self.tools:\n",
        "                    if tool.__name__ == \"calculator\":\n",
        "                        result = tool(a, b, operator)\n",
        "                        return result\n",
        "            except (IndexError, ValueError) as e:\n",
        "                print(f\"Error: Could not parse calculation from task - {e}\")\n",
        "                sys.stdout.flush()\n",
        "\n",
        "        return \"No suitable tool found to respond to the task.\"\n",
        "\n",
        "\n",
        "# Tool function\n",
        "def calculator(a: float, b: float, operator: str) -> str:\n",
        "    \"\"\"Perform basic arithmetic operations.\"\"\"\n",
        "    print(f\"--- Tool 'calculator' called with a={a}, b={b}, operator='{operator}' ---\")\n",
        "    sys.stdout.flush()\n",
        "    try:\n",
        "        if operator == '+':\n",
        "            return str(a + b)\n",
        "        elif operator == '-':\n",
        "            return str(a - b)\n",
        "        elif operator == '*':\n",
        "            return str(a * b)\n",
        "        elif operator == '/':\n",
        "            if b == 0:\n",
        "                return 'Error: Division by zero'\n",
        "            return str(a / b)\n",
        "        else:\n",
        "            return 'Error: Invalid operator. Please use +, -, *, or /'\n",
        "    except Exception as e:\n",
        "        return f'Error: {str(e)}'\n",
        "\n",
        "\n",
        "# Agent instantiation\n",
        "print(\"Creating agent...\")\n",
        "sys.stdout.flush()\n",
        "\n",
        "calculator_agent: Any = Agent(\n",
        "    name=\"calculator_agent\",\n",
        "    model=\"gemini-pro\",  # Hypothetical model\n",
        "    description=\"An agent that can perform calculations.\",\n",
        "    instruction=\"Use the calculator tool to answer math questions.\",\n",
        "    tools=[calculator],  # Add your tool here\n",
        ")\n",
        "print(\"Agent created.\")\n",
        "sys.stdout.flush()\n",
        "print('\\n')\n",
        "\n",
        "async def main():\n",
        "    task = \"What is the result of 545.34567 * 34555.34\"\n",
        "    response = await calculator_agent.run(task)  # Assuming run is an async method\n",
        "    print('\\n')\n",
        "    print(f\"Task: {task}\")\n",
        "    print(f\"Agent Response: {response}\")\n",
        "    sys.stdout.flush()\n",
        "\n",
        "if __name__ == \"__main__\":\n",
        "    await main()"
      ],
      "cell_type": "code",
      "metadata": {
        "colab": {
          "base_uri": "https://localhost:8080/"
        },
        "id": "XGKgYYVunm8M",
        "outputId": "024a570c-88fb-4c2a-ed00-61f643976ea6"
      },
      "execution_count": 32,
      "outputs": [
        {
          "output_type": "stream",
          "name": "stdout",
          "text": [
            "Creating agent...\n",
            "Agent created.\n",
            "\n",
            "\n",
            "Agent calculator_agent received task: What is the result of 545.34567 * 34555.34\n",
            "--- Tool 'calculator' called with a=545.34567, b=34555.34, operator='*' ---\n",
            "\n",
            "\n",
            "Task: What is the result of 545.34567 * 34555.34\n",
            "Agent Response: 18844605.0443778\n"
          ]
        }
      ]
    }
  ]
}