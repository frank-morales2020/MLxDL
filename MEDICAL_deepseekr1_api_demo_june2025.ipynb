{
  "nbformat": 4,
  "nbformat_minor": 0,
  "metadata": {
    "colab": {
      "provenance": [],
      "authorship_tag": "ABX9TyMPanfFvhp4I64OCqfyB+mJ",
      "include_colab_link": true
    },
    "kernelspec": {
      "name": "python3",
      "display_name": "Python 3"
    },
    "language_info": {
      "name": "python"
    }
  },
  "cells": [
    {
      "cell_type": "markdown",
      "metadata": {
        "id": "view-in-github",
        "colab_type": "text"
      },
      "source": [
        "<a href=\"https://colab.research.google.com/github/frank-morales2020/MLxDL/blob/main/MEDICAL_deepseekr1_api_demo_june2025.ipynb\" target=\"_parent\"><img src=\"https://colab.research.google.com/assets/colab-badge.svg\" alt=\"Open In Colab\"/></a>"
      ]
    },
    {
      "cell_type": "markdown",
      "source": [
        "https://platform.deepseek.com/usage"
      ],
      "metadata": {
        "id": "98Eun0SeAurK"
      }
    },
    {
      "cell_type": "markdown",
      "source": [
        "## Libraries Installation"
      ],
      "metadata": {
        "id": "XF7Dq2xo_sWA"
      }
    },
    {
      "cell_type": "code",
      "source": [
        "!pip install colab-env -q\n",
        "import colab_env"
      ],
      "metadata": {
        "id": "WzR26FpE6ah0"
      },
      "execution_count": null,
      "outputs": []
    },
    {
      "cell_type": "code",
      "source": [
        "# Cell 1: Install Necessary Libraries\n",
        "!pip install crewai -q\n",
        "!pip install 'crewai[tools]' -q\n",
        "!pip install openai -q"
      ],
      "metadata": {
        "id": "oIY3trJSp5LF"
      },
      "execution_count": null,
      "outputs": []
    },
    {
      "cell_type": "markdown",
      "source": [
        "## API setup"
      ],
      "metadata": {
        "id": "sydERULx_7jU"
      }
    },
    {
      "cell_type": "code",
      "source": [
        "from google.colab import userdata\n",
        "\n",
        "import os\n",
        "deepseek_api_key = userdata.get('DEEPSEEK_API_KEY')"
      ],
      "metadata": {
        "id": "0sGZzo7348P9"
      },
      "execution_count": 4,
      "outputs": []
    },
    {
      "cell_type": "markdown",
      "source": [
        "* The deepseek-chat model points to DeepSeek-V3-0324. You can invoke it by specifying model='deepseek-chat'.\n",
        "\n",
        "* The deepseek-reasoner model points to DeepSeek-R1-0528. You can invoke it by specifying model='deepseek-reasoner'\n",
        "\n",
        "https://huggingface.co/deepseek-ai/DeepSeek-R1-0528?utm_campaign=The%20Batch&utm_medium=email&_hsenc=p2ANqtz--M3NQ_S2i2a4-YigM_g7yAl65J52ZDkfTOAs4rKcQS5b4sBcaw8xHQxWdvtC9-m5_DNtdk92DS5nC5r5inVdTsTJvNZQ&_hsmi=364910056&utm_content=364905475&utm_source=hs_email"
      ],
      "metadata": {
        "id": "-4yplFU38glR"
      }
    },
    {
      "cell_type": "markdown",
      "source": [
        "## Deepseek API Scenenarios"
      ],
      "metadata": {
        "id": "4b0zQ06mAEgw"
      }
    },
    {
      "cell_type": "code",
      "execution_count": 5,
      "metadata": {
        "colab": {
          "base_uri": "https://localhost:8080/"
        },
        "id": "KCkUrAJY399p",
        "outputId": "098f741a-31fd-44e6-c9d9-f5b8fe9da8c9"
      },
      "outputs": [
        {
          "output_type": "stream",
          "name": "stdout",
          "text": [
            "Hello! 👋 How can I assist you today?\n"
          ]
        }
      ],
      "source": [
        "# Please install OpenAI SDK first: `pip3 install openai`\n",
        "\n",
        "from openai import OpenAI\n",
        "\n",
        "client = OpenAI(api_key=deepseek_api_key, base_url=\"https://api.deepseek.com\")\n",
        "\n",
        "response = client.chat.completions.create(\n",
        "    #model=\"deepseek-chat\",\n",
        "    model=\"deepseek-reasoner\",\n",
        "    messages=[\n",
        "        {\"role\": \"system\", \"content\": \"You are a helpful assistant\"},\n",
        "        {\"role\": \"user\", \"content\": \"Hello\"},\n",
        "    ],\n",
        "    stream=False\n",
        ")\n",
        "\n",
        "print(response.choices[0].message.content)"
      ]
    },
    {
      "cell_type": "code",
      "source": [
        "def deepseek_chat(prompt,model):\n",
        "  response = client.chat.completions.create(\n",
        "    #model=\"deepseek-chat\",\n",
        "    #model=\"deepseek-reasoner\",\n",
        "    model=model,\n",
        "    messages=[\n",
        "        {\"role\": \"system\", \"content\": \"You are a helpful assistant\"},\n",
        "        {\"role\": \"user\", \"content\": prompt},\n",
        "    ],\n",
        "    stream=False\n",
        "  )\n",
        "\n",
        "  print()\n",
        "  print(\"-\" * 80)\n",
        "  print('Model: %s'%model)\n",
        "  print(\"-\" * 80)\n",
        "  print('\\n')\n",
        "\n",
        "  print(\"-\" * 80)\n",
        "  print('Question: %s'%prompt)\n",
        "  print(\"-\" * 80)\n",
        "  print('\\n')\n",
        "\n",
        "  print('Answer: ')\n",
        "  print(response.choices[0].message.content)\n",
        "  #return message.content[0].text\n",
        "  return response.choices[0].message.content"
      ],
      "metadata": {
        "id": "dJ6igw2e9E9H"
      },
      "execution_count": 6,
      "outputs": []
    },
    {
      "cell_type": "code",
      "source": [
        "prompt = \"What is the capital of France?\"\n",
        "response = deepseek_chat(prompt,'deepseek-chat')\n",
        "print(response)"
      ],
      "metadata": {
        "colab": {
          "base_uri": "https://localhost:8080/"
        },
        "id": "6ZAPaH8U9gLR",
        "outputId": "e8559959-99ad-4ebc-874c-4e6de3954c3d"
      },
      "execution_count": 7,
      "outputs": [
        {
          "output_type": "stream",
          "name": "stdout",
          "text": [
            "\n",
            "--------------------------------------------------------------------------------\n",
            "Model: deepseek-chat\n",
            "--------------------------------------------------------------------------------\n",
            "\n",
            "\n",
            "--------------------------------------------------------------------------------\n",
            "Question: What is the capital of France?\n",
            "--------------------------------------------------------------------------------\n",
            "\n",
            "\n",
            "Answer: \n",
            "The capital of France is **Paris**. It is one of the most famous and visited cities in the world, known for landmarks like the Eiffel Tower, the Louvre Museum, and Notre-Dame Cathedral.  \n",
            "\n",
            "Would you like information on anything specific about Paris? 😊\n",
            "The capital of France is **Paris**. It is one of the most famous and visited cities in the world, known for landmarks like the Eiffel Tower, the Louvre Museum, and Notre-Dame Cathedral.  \n",
            "\n",
            "Would you like information on anything specific about Paris? 😊\n"
          ]
        }
      ]
    },
    {
      "cell_type": "code",
      "source": [
        "prompt= 'A 65-year-old male presents with sudden onset severe chest pain radiating to his left arm. \\\n",
        "He reports shortness of breath and nausea. \\\n",
        "He has a history of hypertension and takes medication for it. \\\n",
        "His blood pressure is 160/100 mmHg and his heart rate is 110 bpm. \\\n",
        "What is the most likely diagnosis and what are the immediate steps for management?'\n",
        "\n",
        "response = deepseek_chat(prompt,\"deepseek-reasoner\")\n",
        "print(response)"
      ],
      "metadata": {
        "colab": {
          "base_uri": "https://localhost:8080/"
        },
        "id": "zNZvsmz4-DIe",
        "outputId": "c8365e0a-0ab6-402b-cb84-4d5af872b1f0"
      },
      "execution_count": 8,
      "outputs": [
        {
          "output_type": "stream",
          "name": "stdout",
          "text": [
            "\n",
            "--------------------------------------------------------------------------------\n",
            "Model: deepseek-reasoner\n",
            "--------------------------------------------------------------------------------\n",
            "\n",
            "\n",
            "--------------------------------------------------------------------------------\n",
            "Question: A 65-year-old male presents with sudden onset severe chest pain radiating to his left arm. He reports shortness of breath and nausea. He has a history of hypertension and takes medication for it. His blood pressure is 160/100 mmHg and his heart rate is 110 bpm. What is the most likely diagnosis and what are the immediate steps for management?\n",
            "--------------------------------------------------------------------------------\n",
            "\n",
            "\n",
            "Answer: \n",
            "Based on the presentation, the **most likely diagnosis is an acute coronary syndrome (ACS), specifically a myocardial infarction (heart attack)**. Here's why:\n",
            "\n",
            "1.  **Classic Symptoms:** Sudden severe chest pain radiating to the left arm is highly characteristic of cardiac ischemia. Associated shortness of breath and nausea are common accompanying symptoms.\n",
            "2.  **Risk Factors:** Age (65), male gender, history of hypertension.\n",
            "3.  **Vital Signs:** Elevated BP (160/100 mmHg despite medication) indicates uncontrolled hypertension/hypertensive urgency, and tachycardia (HR 110 bpm) suggests sympathetic nervous system activation in response to cardiac stress/ischemia.\n",
            "\n",
            "**Immediate Steps for Management (ABCs & MONA-BASH Modified):**\n",
            "\n",
            "This is a time-critical emergency. Immediate actions focus on stabilizing the patient, confirming diagnosis, and initiating reperfusion therapy if indicated.\n",
            "\n",
            "1.  **Primary Assessment & ABCs:**\n",
            "    *   **A (Airway):** Ensure airway is patent.\n",
            "    *   **B (Breathing):** Administer **high-flow oxygen** via non-rebreather mask (especially with SOB and potential hypoxia). Monitor oxygen saturation.\n",
            "    *   **C (Circulation):**\n",
            "        *   Secure IV access (x 2 large-bore cannulas).\n",
            "        *   Attach **ECG monitor** and **defibrillator pads** (anticipating potential arrhythmias).\n",
            "        *   Obtain a **12-lead ECG IMMEDIATELY** (<10 mins from first medical contact). This is critical to differentiate STEMI (ST-Elevation MI) from NSTEMI/Unstable Angina.\n",
            "        *   Check BP frequently.\n",
            "    *   **Brief History & Exam:** Quickly confirm history, allergies (especially aspirin, contrast), medications (specifically PDE5 inhibitors like sildenafil/viagra in last 24-48 hrs), and perform a focused physical exam (heart/lung sounds).\n",
            "\n",
            "2.  **Immediate Medical Therapy (MONA-BASH Modified - Focus on initial actions):**\n",
            "    *   **M - Morphine:** Use cautiously *only if pain is severe and unrelieved* by nitroglycerin. (Note: Morphine use is now more controversial; consider alternatives like Fentanyl if needed, prioritizing anti-ischemic meds first).\n",
            "    *   **O - Oxygen:** As above.\n",
            "    *   **N - Nitroglycerin (NTG):** Give **sublingual nitroglycerin** (0.4 mg) every 5 minutes (up to 3 doses) if systolic BP is >90 mmHg and no recent PDE5 inhibitor use. *Relieves pain/preload, may help hypertension.*\n",
            "    *   **A - Aspirin:** Give **chewable aspirin** (162-325 mg) immediately. *Irreversibly inhibits platelets.*\n",
            "    *   **B - Beta-blocker:** Consider **IV Metoprolol** (if no contraindications like heart failure, bradycardia, heart block, asthma/COPD, hypotension) - *reduces heart rate, BP, myocardial oxygen demand*. (e.g., 5mg slow IV push, repeated every 5 mins up to 15mg if tolerated).\n",
            "    *   **A - Anticoagulant:** Start an **anticoagulant** (e.g., IV **Unfractionated Heparin** bolus/infusion, or **Subcutaneous Enoxaparin**, or **Bivalirudin**) *after* confirming no bleeding risk. *Prevents thrombus extension.*\n",
            "    *   **S - Statin:** Administer a high-intensity **statin** (e.g., **Atorvastatin 80 mg**). *Plaque stabilization, anti-inflammatory.*\n",
            "    *   **H - Heparin/other Anticoagulant:** Covered above.\n",
            "\n",
            "3.  **Diagnostic Confirmation:**\n",
            "    *   **Serial Troponins:** Draw initial troponin I/T level immediately, and repeat per protocol (e.g., 3-6 hours). *Confirms myocardial necrosis.*\n",
            "    *   **Repeat ECGs:** Especially if pain persists or changes, or initial ECG is non-diagnostic.\n",
            "\n",
            "4.  **Reperfusion Strategy (CRITICAL STEP BASED ON ECG):**\n",
            "    *   **IF STEMI (ST Elevation or New LBBB on ECG):**\n",
            "        *   **ACTIVATE CATH LAB IMMEDIATELY.**\n",
            "        *   **Primary Percutaneous Coronary Intervention (PCI):** Gold standard - goal is balloon inflation within **90 minutes** of first medical contact.\n",
            "        *   **Fibrinolysis:** If PCI cannot be achieved within 120 minutes of first medical contact and no contraindications, administer fibrinolytic therapy (e.g., Tenecteplase, Alteplase). *Must rule out contraindications (e.g., bleeding, stroke history, recent surgery).*\n",
            "    *   **IF NSTEMI/Unstable Angina (No ST Elevation, but Troponin positive or high clinical suspicion):**\n",
            "        *   Admit to coronary care unit (CCU).\n",
            "        *   Continue aggressive medical therapy (DAPT - Aspirin + a P2Y12 inhibitor like Ticagrelor/Prasugrel/Clopidogrel, Anticoagulant, Statin, Beta-blocker, Nitrates).\n",
            "        *   Perform **early invasive strategy** (cardiac catheterization) typically within 24 hours (often sooner for high-risk features like ongoing pain, hemodynamic instability, arrhythmias - which this patient has).\n",
            "\n",
            "5.  **Ongoing Monitoring & Management:**\n",
            "    *   Continuous ECG monitoring for arrhythmias (VT, VF, bradycardias).\n",
            "    *   Strict bed rest initially.\n",
            "    *   Pain control.\n",
            "    *   Manage hypertension (IV NTG drip often used if BP remains elevated).\n",
            "    *   Treat nausea/vomiting (e.g., Ondansetron).\n",
            "    *   Serial cardiac markers and ECGs.\n",
            "    *   Prepare for potential complications (arrhythmias, heart failure, cardiogenic shock).\n",
            "\n",
            "**Key Principles:**\n",
            "\n",
            "*   **Time is Muscle:** Every minute of delay increases myocardial damage.\n",
            "*   **ECG within 10 Minutes:** This dictates the most critical next steps (PCI vs. Fibrinolysis vs. medical management).\n",
            "*   **Aspirin Immediately:** Unless true allergy.\n",
            "*   **Activate Cath Lab for STEMI:** This is the single most important action for a STEMI patient.\n",
            "*   **Treat Hypertension/Angina:** Nitroglycerin is first-line if BP permits.\n",
            "*   **Treat Tachycardia:** Beta-blockers are key if no contraindications.\n",
            "Based on the presentation, the **most likely diagnosis is an acute coronary syndrome (ACS), specifically a myocardial infarction (heart attack)**. Here's why:\n",
            "\n",
            "1.  **Classic Symptoms:** Sudden severe chest pain radiating to the left arm is highly characteristic of cardiac ischemia. Associated shortness of breath and nausea are common accompanying symptoms.\n",
            "2.  **Risk Factors:** Age (65), male gender, history of hypertension.\n",
            "3.  **Vital Signs:** Elevated BP (160/100 mmHg despite medication) indicates uncontrolled hypertension/hypertensive urgency, and tachycardia (HR 110 bpm) suggests sympathetic nervous system activation in response to cardiac stress/ischemia.\n",
            "\n",
            "**Immediate Steps for Management (ABCs & MONA-BASH Modified):**\n",
            "\n",
            "This is a time-critical emergency. Immediate actions focus on stabilizing the patient, confirming diagnosis, and initiating reperfusion therapy if indicated.\n",
            "\n",
            "1.  **Primary Assessment & ABCs:**\n",
            "    *   **A (Airway):** Ensure airway is patent.\n",
            "    *   **B (Breathing):** Administer **high-flow oxygen** via non-rebreather mask (especially with SOB and potential hypoxia). Monitor oxygen saturation.\n",
            "    *   **C (Circulation):**\n",
            "        *   Secure IV access (x 2 large-bore cannulas).\n",
            "        *   Attach **ECG monitor** and **defibrillator pads** (anticipating potential arrhythmias).\n",
            "        *   Obtain a **12-lead ECG IMMEDIATELY** (<10 mins from first medical contact). This is critical to differentiate STEMI (ST-Elevation MI) from NSTEMI/Unstable Angina.\n",
            "        *   Check BP frequently.\n",
            "    *   **Brief History & Exam:** Quickly confirm history, allergies (especially aspirin, contrast), medications (specifically PDE5 inhibitors like sildenafil/viagra in last 24-48 hrs), and perform a focused physical exam (heart/lung sounds).\n",
            "\n",
            "2.  **Immediate Medical Therapy (MONA-BASH Modified - Focus on initial actions):**\n",
            "    *   **M - Morphine:** Use cautiously *only if pain is severe and unrelieved* by nitroglycerin. (Note: Morphine use is now more controversial; consider alternatives like Fentanyl if needed, prioritizing anti-ischemic meds first).\n",
            "    *   **O - Oxygen:** As above.\n",
            "    *   **N - Nitroglycerin (NTG):** Give **sublingual nitroglycerin** (0.4 mg) every 5 minutes (up to 3 doses) if systolic BP is >90 mmHg and no recent PDE5 inhibitor use. *Relieves pain/preload, may help hypertension.*\n",
            "    *   **A - Aspirin:** Give **chewable aspirin** (162-325 mg) immediately. *Irreversibly inhibits platelets.*\n",
            "    *   **B - Beta-blocker:** Consider **IV Metoprolol** (if no contraindications like heart failure, bradycardia, heart block, asthma/COPD, hypotension) - *reduces heart rate, BP, myocardial oxygen demand*. (e.g., 5mg slow IV push, repeated every 5 mins up to 15mg if tolerated).\n",
            "    *   **A - Anticoagulant:** Start an **anticoagulant** (e.g., IV **Unfractionated Heparin** bolus/infusion, or **Subcutaneous Enoxaparin**, or **Bivalirudin**) *after* confirming no bleeding risk. *Prevents thrombus extension.*\n",
            "    *   **S - Statin:** Administer a high-intensity **statin** (e.g., **Atorvastatin 80 mg**). *Plaque stabilization, anti-inflammatory.*\n",
            "    *   **H - Heparin/other Anticoagulant:** Covered above.\n",
            "\n",
            "3.  **Diagnostic Confirmation:**\n",
            "    *   **Serial Troponins:** Draw initial troponin I/T level immediately, and repeat per protocol (e.g., 3-6 hours). *Confirms myocardial necrosis.*\n",
            "    *   **Repeat ECGs:** Especially if pain persists or changes, or initial ECG is non-diagnostic.\n",
            "\n",
            "4.  **Reperfusion Strategy (CRITICAL STEP BASED ON ECG):**\n",
            "    *   **IF STEMI (ST Elevation or New LBBB on ECG):**\n",
            "        *   **ACTIVATE CATH LAB IMMEDIATELY.**\n",
            "        *   **Primary Percutaneous Coronary Intervention (PCI):** Gold standard - goal is balloon inflation within **90 minutes** of first medical contact.\n",
            "        *   **Fibrinolysis:** If PCI cannot be achieved within 120 minutes of first medical contact and no contraindications, administer fibrinolytic therapy (e.g., Tenecteplase, Alteplase). *Must rule out contraindications (e.g., bleeding, stroke history, recent surgery).*\n",
            "    *   **IF NSTEMI/Unstable Angina (No ST Elevation, but Troponin positive or high clinical suspicion):**\n",
            "        *   Admit to coronary care unit (CCU).\n",
            "        *   Continue aggressive medical therapy (DAPT - Aspirin + a P2Y12 inhibitor like Ticagrelor/Prasugrel/Clopidogrel, Anticoagulant, Statin, Beta-blocker, Nitrates).\n",
            "        *   Perform **early invasive strategy** (cardiac catheterization) typically within 24 hours (often sooner for high-risk features like ongoing pain, hemodynamic instability, arrhythmias - which this patient has).\n",
            "\n",
            "5.  **Ongoing Monitoring & Management:**\n",
            "    *   Continuous ECG monitoring for arrhythmias (VT, VF, bradycardias).\n",
            "    *   Strict bed rest initially.\n",
            "    *   Pain control.\n",
            "    *   Manage hypertension (IV NTG drip often used if BP remains elevated).\n",
            "    *   Treat nausea/vomiting (e.g., Ondansetron).\n",
            "    *   Serial cardiac markers and ECGs.\n",
            "    *   Prepare for potential complications (arrhythmias, heart failure, cardiogenic shock).\n",
            "\n",
            "**Key Principles:**\n",
            "\n",
            "*   **Time is Muscle:** Every minute of delay increases myocardial damage.\n",
            "*   **ECG within 10 Minutes:** This dictates the most critical next steps (PCI vs. Fibrinolysis vs. medical management).\n",
            "*   **Aspirin Immediately:** Unless true allergy.\n",
            "*   **Activate Cath Lab for STEMI:** This is the single most important action for a STEMI patient.\n",
            "*   **Treat Hypertension/Angina:** Nitroglycerin is first-line if BP permits.\n",
            "*   **Treat Tachycardia:** Beta-blockers are key if no contraindications.\n"
          ]
        }
      ]
    },
    {
      "cell_type": "markdown",
      "source": [
        "## TTP AGENT MEDICAL"
      ],
      "metadata": {
        "id": "WjfaZXgvDuRz"
      }
    },
    {
      "source": [
        "import os\n",
        "from crewai import Agent, Task, Crew, Process\n",
        "from crewai.tools import BaseTool\n",
        "from openai import OpenAI\n",
        "from pydantic import Field\n",
        "\n",
        "# --- Cell 2: Set Up DeepSeek API Key ---\n",
        "try:\n",
        "    from google.colab import userdata\n",
        "    deepseek_api_key = userdata.get('DEEPSEEK_API_KEY')\n",
        "except ImportError:\n",
        "    print(\"google.colab not found. Assuming DEEPSEEK_API_KEY is set as an environment variable.\")\n",
        "    deepseek_api_key = os.getenv('DEEPSEEK_API_KEY')\n",
        "\n",
        "if not deepseek_api_key:\n",
        "    raise ValueError(\"DEEPSEEK_API_KEY not found. Please set it in Colab secrets or as an environment variable.\")\n",
        "\n",
        "# --- Cell 3: Define Custom Tools for Medical Interaction ---\n",
        "\n",
        "class MedicalDatabaseSearchTool(BaseTool):\n",
        "    name: str = \"MedicalDatabaseSearchTool\"\n",
        "    description: str = \"A tool for searching medical databases for patient history, treatment guidelines, and research papers.\"\n",
        "\n",
        "    def _run(self, query: str) -> str:\n",
        "        return f\"Medical database search results for '{query}': Patient records indicate no prior allergies. Latest research suggests treatment X for this condition. (Simulated)\"\n",
        "\n",
        "class ClinicalGuidelinesTool(BaseTool):\n",
        "    name: str = \"ClinicalGuidelinesTool\"\n",
        "    description: str = \"A tool for retrieving current clinical guidelines and best practices for specific conditions.\"\n",
        "\n",
        "    def _run(self, condition: str) -> str:\n",
        "        return f\"Clinical guidelines for {condition}: Standard protocol recommends initial dietary management and exercise, followed by medication if necessary. (Simulated)\"\n",
        "\n",
        "class DeepSeekMedicalChatTool(BaseTool):\n",
        "    # BaseTool (via pydantic) expects these to be found here and will initialize them.\n",
        "    name: str = \"DeepSeekMedicalChatTool\"\n",
        "    description: str = \"A powerful AI model for generating responses based on medical prompts and complex reasoning.\"\n",
        "\n",
        "    # These are additional fields specific to DeepSeekMedicalChatTool's functionality\n",
        "    client: OpenAI = Field(default=None, exclude=True)\n",
        "    model_name: str = Field(default='deepseek-reasoner') # Default to reasoner for complex tasks\n",
        "\n",
        "    # Custom __init__ to handle api_key and model_name.\n",
        "    # It passes **data to super().__init__ but *not* name or description explicitly.\n",
        "    def __init__(self, api_key: str, model_name: str = 'deepseek-reasoner', **data):\n",
        "        # Call super().__init__ only with **data.\n",
        "        super().__init__(**data)\n",
        "\n",
        "        # Initialize OpenAI client with the provided api_key and DeepSeek base_url.\n",
        "        self.client = OpenAI(api_key=api_key, base_url=\"https://api.deepseek.com\")\n",
        "        self.model_name = model_name\n",
        "\n",
        "    def _run(self, prompt: str) -> str:\n",
        "        if not isinstance(prompt, str):\n",
        "            if isinstance(prompt, dict) and 'description' in prompt:\n",
        "                actual_prompt = prompt['description']\n",
        "            else:\n",
        "                raise ValueError(f\"Expected prompt to be a string or a dictionary with 'description', but received {type(prompt)}\")\n",
        "        else:\n",
        "            actual_prompt = prompt\n",
        "\n",
        "        try:\n",
        "            response = self.client.chat.completions.create(\n",
        "                model=self.model_name,\n",
        "                messages=[\n",
        "                    {\"role\": \"system\", \"content\": \"You are a helpful medical AI assistant.\"},\n",
        "                    {\"role\": \"user\", \"content\": actual_prompt},\n",
        "                ],\n",
        "                stream=False\n",
        "            )\n",
        "            return response.choices[0].message.content\n",
        "        except Exception as e:\n",
        "            return f\"Error interacting with DeepSeek API: {e}\"\n",
        "\n",
        "\n",
        "# Instantiate medical tools with the retrieved deepseek_api_key\n",
        "medical_database_search_tool = MedicalDatabaseSearchTool()\n",
        "clinical_guidelines_tool = ClinicalGuidelinesTool()\n",
        "\n",
        "# Instantiate DeepSeekMedicalChatTool. No need for tool_name parameter in instantiation.\n",
        "deepseek_reasoner_tool_medical = DeepSeekMedicalChatTool(\n",
        "    api_key=deepseek_api_key,\n",
        "    model_name='deepseek-reasoner',\n",
        ")\n",
        "\n",
        "deepseek_chat_tool_medical = DeepSeekMedicalChatTool(\n",
        "    api_key=deepseek_api_key,\n",
        "    model_name='deepseek-chat',\n",
        ")\n",
        "\n",
        "patient_care_planner = Agent(\n",
        "    role='Expert Patient Care Pathway Creator',\n",
        "    goal='Develop comprehensive and personalized patient care pathways based on patient data, diagnoses, and medical guidelines.',\n",
        "    backstory=\"\"\"You are a seasoned medical professional with a knack for crafting optimal patient journeys.\n",
        "                 You utilize advanced reasoning capabilities to integrate diverse medical information and patient preferences.\"\"\",\n",
        "    tools=[deepseek_reasoner_tool_medical, medical_database_search_tool, clinical_guidelines_tool],\n",
        "    verbose=False\n",
        ")\n",
        "\n",
        "clinical_data_analyst = Agent(\n",
        "    role='Clinical Data Expert and Diagnostic Assistant',\n",
        "    goal='Analyze patient symptoms, lab results, and medical history to suggest relevant diagnoses and potential complications.',\n",
        "    backstory=\"\"\"You are meticulous in reviewing clinical data, identifying patterns, and drawing insightful conclusions.\n",
        "                 You ensure all relevant patient information is considered for accurate assessment and diagnostic support.\"\"\",\n",
        "    tools=[deepseek_reasoner_tool_medical, medical_database_search_tool],\n",
        "    verbose=False\n",
        ")\n",
        "\n",
        "resource_allocator = Agent(\n",
        "    role='Medical Resource and Logistics Advisor',\n",
        "    goal='Manage the allocation of medical resources (e.g., appointments, specialists, equipment) and provide practical logistical advice for patient care.',\n",
        "    backstory=\"\"\"You are meticulous with scheduling and resource management, ensuring efficient and timely patient care within available resources.\n",
        "                 Your reasoning skills are critical for optimal resource allocation and patient flow management.\"\"\",\n",
        "    tools=[deepseek_reasoner_tool_medical],\n",
        "    #verbose=True\n",
        "    verbose=False\n",
        ")\n",
        "\n",
        "medical_literature_reviewer = Agent(\n",
        "    role='Expert Medical Literature Reviewer',\n",
        "    goal='Provide accurate and timely summaries of the latest medical research and evidence for specific conditions or treatments.',\n",
        "    backstory=\"\"\"You are a research specialist adept at synthesizing concise and critical information from scientific publications.\n",
        "                 You leverage medical search tools for comprehensive evidence gathering.\"\"\",\n",
        "    tools=[medical_database_search_tool, deepseek_reasoner_tool_medical],\n",
        "    #verbose=True\n",
        "    verbose=False\n",
        ")\n",
        "\n",
        "treatment_coordinator = Agent(\n",
        "    role='Efficient Treatment Plan Coordinator',\n",
        "    goal='Plan and optimize all aspects of treatment implementation, including scheduling therapies, procedures, and follow-ups.',\n",
        "    backstory=\"\"\"You are a logistics expert with deep knowledge of various treatment modalities and service providers.\n",
        "                 You use medical information for real-time data and reasoning to ensure smooth coordination of care.\"\"\",\n",
        "    tools=[medical_database_search_tool, deepseek_reasoner_tool_medical],\n",
        "    #verbose=True\n",
        "    verbose=False\n",
        ")\n",
        "\n",
        "patient_experience_navigator = Agent(\n",
        "    role='Patient Experience Navigator',\n",
        "    goal='Discover unique, authentic, and patient-centered approaches to improve patient experience and well-being.',\n",
        "    backstory=\"\"\"You are a compassionate guide, always unearthing the most genuine experiences and support for patients.\n",
        "                 You rely on medical search and reasoning for up-to-date information and personalized recommendations for patient well-being.\"\"\",\n",
        "    tools=[medical_database_search_tool, deepseek_reasoner_tool_medical],\n",
        "    #verbose=True\n",
        "    verbose=False\n",
        ")\n",
        "\n",
        "# --- Cell 5: Define Your Tasks (Refactored for Medical Domain) ---\n",
        "\n",
        "plan_patient_care_task = Task(\n",
        "    description=(\n",
        "        \"\"\"Generate a detailed patient care pathway for a patient with the following profile:\\n\"\"\"\n",
        "        \"\"\"- Patient ID: P12345\\n\"\"\"\n",
        "        \"\"\"- Diagnosed Condition: Type 2 Diabetes\\n\"\"\"\n",
        "        \"\"\"- Current Symptoms: Elevated blood sugar, fatigue, frequent urination.\\n\"\"\"\n",
        "        \"\"\"- Medical History: Hypertension, moderate obesity.\\n\"\"\"\n",
        "        \"\"\"- Patient Preferences: Prefers dietary management over immediate medication, active lifestyle.\\n\"\"\"\n",
        "        \"\"\"- Incorporate latest clinical guidelines for Type 2 Diabetes management.\\n\"\"\"\n",
        "        \"\"\"- Provide specific recommendations for diet, exercise, medication (if necessary), and follow-up schedule.\\n\"\"\"\n",
        "        \"\"\"The output should be a markdown formatted document outlining the complete care pathway.\"\"\"\n",
        "    ),\n",
        "    agent=patient_care_planner,\n",
        "    output_file='patient_care_pathway.md',\n",
        "    expected_output=\"\"\"A markdown formatted, comprehensive patient care pathway including diagnosis summary, treatment plan, and follow-up schedule.\"\"\"\n",
        ")\n",
        "\n",
        "get_clinical_guidelines_task = Task(\n",
        "    description=\"Retrieve the current and recommended clinical guidelines for Type 2 Diabetes.\",\n",
        "    agent=medical_literature_reviewer,\n",
        "    expected_output=\"\"\"A summary of the current and recommended clinical guidelines for Type 2 Diabetes management.\"\"\"\n",
        ")\n",
        "\n",
        "plan_treatment_options_task = Task(\n",
        "    description=\"Identify the best treatment options (medication, lifestyle changes, therapies) for a patient with Type 2 Diabetes, considering their preferences and medical history.\",\n",
        "    agent=treatment_coordinator,\n",
        "    expected_output=\"\"\"A list of recommended treatment methods for Type 2 Diabetes based on patient profile and latest guidelines.\"\"\"\n",
        ")\n",
        "\n",
        "find_niche_patient_support_task = Task(\n",
        "    description=\"Based on the patient's condition (Type 2 Diabetes) and preferences (dietary management, active lifestyle), suggest unique, interest-aligned patient support activities and resources.\",\n",
        "    agent=patient_experience_navigator,\n",
        "    expected_output=\"\"\"A list of unique, interest-aligned patient support activities and resources for Type 2 Diabetes management.\"\"\"\n",
        ")\n",
        "\n",
        "crew = Crew(\n",
        "    agents=[\n",
        "        patient_care_planner,\n",
        "        clinical_data_analyst,\n",
        "        resource_allocator,\n",
        "        medical_literature_reviewer,\n",
        "        treatment_coordinator,\n",
        "        patient_experience_navigator\n",
        "    ],\n",
        "    tasks=[\n",
        "        plan_patient_care_task,\n",
        "        get_clinical_guidelines_task,\n",
        "        plan_treatment_options_task,\n",
        "        find_niche_patient_support_task\n",
        "    ],\n",
        "    verbose=False,\n",
        "    process=Process.sequential\n",
        ")\n",
        "\n",
        "print(\"Starting the Patient Care Pathway Planning Crew (VERSION 2.0 - enhanced with clinical data and research integration)...\")\n",
        "result = crew.kickoff()\n",
        "\n",
        "print(\"\\n\\n########################\")\n",
        "print(\"## Patient Care Pathway ##\")\n",
        "print(\"########################\\n\")\n",
        "print(result)"
      ],
      "cell_type": "code",
      "metadata": {
        "colab": {
          "base_uri": "https://localhost:8080/"
        },
        "id": "0ChsowUN02XP",
        "outputId": "189852ea-c58a-4188-b61f-930426120f00"
      },
      "execution_count": 9,
      "outputs": [
        {
          "output_type": "stream",
          "name": "stdout",
          "text": [
            "Starting the Patient Care Pathway Planning Crew (VERSION 2.0 - enhanced with clinical data and research integration)...\n",
            "\n",
            "\n",
            "########################\n",
            "## Patient Care Pathway ##\n",
            "########################\n",
            "\n",
            "Here are some unique, interest-aligned patient support activities and resources for managing Type 2 Diabetes focusing on dietary management and an active lifestyle:\n",
            "\n",
            "1. **Cooking Classes**: Enroll in hands-on cooking classes specializing in diabetic-friendly meals. This teaches patients how to prepare healthy, low-carb dishes using fresh ingredients.\n",
            "\n",
            "2. **Nutrition Workshops**: Attend workshops that focus on meal planning, grocery shopping for healthy foods, and understanding food labels, emphasizing low-glycemic and high-fiber foods.\n",
            "\n",
            "3. **Fitness Groups**: Join local exercise groups tailored for individuals with diabetes. Activities could include walking clubs, yoga sessions, or dance classes that encourage an active lifestyle while providing social support.\n",
            "\n",
            "4. **Virtual Health Challenges**: Participate in online health challenges that encourage physical activity and healthy eating. This could be a step challenge or a healthy recipe contest.\n",
            "\n",
            "5. **Mindfulness and Stress Management**: Engage in mindfulness and relaxation classes, such as meditation and deep-breathing workshops, to manage stress effectively, which is important for blood sugar control.\n",
            "\n",
            "6. **Support Groups**: Connect with others facing similar challenges through diabetes support groups. Sharing experiences and strategies can provide emotional support and motivation.\n",
            "\n",
            "7. **Personalized Meal Planning**: Work with a registered dietitian to create a personalized meal plan that balances carbohydrates, protein, and healthy fats according to personal preferences and lifestyle.\n",
            "\n",
            "8. **Health Monitoring Apps**: Use smartphone apps designed for diabetes management that track blood sugar levels, dietary intake, and physical activity levels for better self-management.\n",
            "\n",
            "9. **Community Resources**:\n",
            "   - **Local Farmers’ Markets**: A visit to a farmers' market can encourage the consumption of fresh, whole foods and support local agriculture.\n",
            "   - **Free Nutrition Resources**: Many local health departments offer free brochures or materials on diabetes management.\n",
            "\n",
            "10. **Volunteer Programs**: Get involved in community service programs that promote health and wellness. This could include fitness programs for youth or nutrition education in schools.\n",
            "\n",
            "By incorporating these activities and resources into your health management plan, not only can you better manage your Type 2 Diabetes, but you can also enjoy a more active, engaged, and healthier lifestyle.\n"
          ]
        }
      ]
    }
  ]
}