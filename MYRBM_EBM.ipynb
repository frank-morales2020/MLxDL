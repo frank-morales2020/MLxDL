{
  "nbformat": 4,
  "nbformat_minor": 0,
  "metadata": {
    "colab": {
      "provenance": [],
      "authorship_tag": "ABX9TyMBnts65n9AxCWDmshy1CNh",
      "include_colab_link": true
    },
    "kernelspec": {
      "name": "python3",
      "display_name": "Python 3"
    },
    "language_info": {
      "name": "python"
    }
  },
  "cells": [
    {
      "cell_type": "markdown",
      "metadata": {
        "id": "view-in-github",
        "colab_type": "text"
      },
      "source": [
        "<a href=\"https://colab.research.google.com/github/frank-morales2020/MLxDL/blob/main/MYRBM_EBM.ipynb\" target=\"_parent\"><img src=\"https://colab.research.google.com/assets/colab-badge.svg\" alt=\"Open In Colab\"/></a>"
      ]
    },
    {
      "cell_type": "markdown",
      "source": [
        "## PART1"
      ],
      "metadata": {
        "id": "hKL22P9njEyj"
      }
    },
    {
      "cell_type": "code",
      "execution_count": 9,
      "metadata": {
        "colab": {
          "base_uri": "https://localhost:8080/"
        },
        "id": "VeCK1c3Giu1U",
        "outputId": "bba54635-904f-486b-d079-5420210a914f"
      },
      "outputs": [
        {
          "output_type": "stream",
          "name": "stderr",
          "text": [
            "Epoch 1: 100%|██████████| 938/938 [04:17<00:00,  3.65batch/s, loss=-1.87e+4]\n"
          ]
        },
        {
          "output_type": "stream",
          "name": "stdout",
          "text": [
            "Epoch 1: Average Training Loss = -15371.5073\n",
            "Epoch 1: Validation Loss = -16250.0142\n"
          ]
        },
        {
          "output_type": "stream",
          "name": "stderr",
          "text": [
            "Epoch 2: 100%|██████████| 938/938 [04:12<00:00,  3.72batch/s, loss=-4.75e+4]\n"
          ]
        },
        {
          "output_type": "stream",
          "name": "stdout",
          "text": [
            "Epoch 2: Average Training Loss = -129640.2592\n",
            "Epoch 2: Validation Loss = -73062.6465\n"
          ]
        },
        {
          "output_type": "stream",
          "name": "stderr",
          "text": [
            "Epoch 3: 100%|██████████| 938/938 [04:12<00:00,  3.71batch/s, loss=-7.35e+4]\n"
          ]
        },
        {
          "output_type": "stream",
          "name": "stdout",
          "text": [
            "Epoch 3: Average Training Loss = -238585.7736\n",
            "Epoch 3: Validation Loss = -124395.3875\n"
          ]
        },
        {
          "output_type": "stream",
          "name": "stderr",
          "text": [
            "Epoch 4: 100%|██████████| 938/938 [04:09<00:00,  3.75batch/s, loss=-9.76e+4]\n"
          ]
        },
        {
          "output_type": "stream",
          "name": "stdout",
          "text": [
            "Epoch 4: Average Training Loss = -342716.2692\n",
            "Epoch 4: Validation Loss = -171438.5087\n"
          ]
        },
        {
          "output_type": "stream",
          "name": "stderr",
          "text": [
            "Epoch 5: 100%|██████████| 938/938 [04:09<00:00,  3.76batch/s, loss=-1.19e+5]\n"
          ]
        },
        {
          "output_type": "stream",
          "name": "stdout",
          "text": [
            "Epoch 5: Average Training Loss = -441749.7569\n",
            "Epoch 5: Validation Loss = -213710.2039\n"
          ]
        },
        {
          "output_type": "stream",
          "name": "stderr",
          "text": [
            "Epoch 6: 100%|██████████| 938/938 [04:08<00:00,  3.78batch/s, loss=-1.5e+5]\n"
          ]
        },
        {
          "output_type": "stream",
          "name": "stdout",
          "text": [
            "Epoch 6: Average Training Loss = -536288.7771\n",
            "Epoch 6: Validation Loss = -252294.3734\n"
          ]
        },
        {
          "output_type": "stream",
          "name": "stderr",
          "text": [
            "Epoch 7: 100%|██████████| 938/938 [04:10<00:00,  3.74batch/s, loss=-1.6e+5]\n"
          ]
        },
        {
          "output_type": "stream",
          "name": "stdout",
          "text": [
            "Epoch 7: Average Training Loss = -626584.8465\n",
            "Epoch 7: Validation Loss = -286698.7974\n"
          ]
        },
        {
          "output_type": "stream",
          "name": "stderr",
          "text": [
            "Epoch 8: 100%|██████████| 938/938 [04:10<00:00,  3.74batch/s, loss=-1.97e+5]\n"
          ]
        },
        {
          "output_type": "stream",
          "name": "stdout",
          "text": [
            "Epoch 8: Average Training Loss = -712570.8576\n",
            "Epoch 8: Validation Loss = -316965.4693\n"
          ]
        },
        {
          "output_type": "stream",
          "name": "stderr",
          "text": [
            "Epoch 9: 100%|██████████| 938/938 [04:10<00:00,  3.74batch/s, loss=-2.11e+5]\n"
          ]
        },
        {
          "output_type": "stream",
          "name": "stdout",
          "text": [
            "Epoch 9: Average Training Loss = -794977.5020\n",
            "Epoch 9: Validation Loss = -344576.7710\n"
          ]
        },
        {
          "output_type": "stream",
          "name": "stderr",
          "text": [
            "Epoch 10: 100%|██████████| 938/938 [04:09<00:00,  3.75batch/s, loss=-2.12e+5]\n"
          ]
        },
        {
          "output_type": "stream",
          "name": "stdout",
          "text": [
            "Epoch 10: Average Training Loss = -873685.3222\n",
            "Epoch 10: Validation Loss = -368937.7947\n"
          ]
        },
        {
          "output_type": "stream",
          "name": "stderr",
          "text": [
            "Epoch 11: 100%|██████████| 938/938 [04:09<00:00,  3.76batch/s, loss=-2.54e+5]\n"
          ]
        },
        {
          "output_type": "stream",
          "name": "stdout",
          "text": [
            "Epoch 11: Average Training Loss = -949199.3262\n",
            "Epoch 11: Validation Loss = -391368.9312\n"
          ]
        },
        {
          "output_type": "stream",
          "name": "stderr",
          "text": [
            "Epoch 12: 100%|██████████| 938/938 [04:15<00:00,  3.67batch/s, loss=-2.7e+5]\n"
          ]
        },
        {
          "output_type": "stream",
          "name": "stdout",
          "text": [
            "Epoch 12: Average Training Loss = -1021834.4511\n",
            "Epoch 12: Validation Loss = -409885.0630\n"
          ]
        },
        {
          "output_type": "stream",
          "name": "stderr",
          "text": [
            "Epoch 13: 100%|██████████| 938/938 [04:08<00:00,  3.77batch/s, loss=-2.7e+5]\n"
          ]
        },
        {
          "output_type": "stream",
          "name": "stdout",
          "text": [
            "Epoch 13: Average Training Loss = -1091951.4387\n",
            "Epoch 13: Validation Loss = -426183.4591\n"
          ]
        },
        {
          "output_type": "stream",
          "name": "stderr",
          "text": [
            "Epoch 14: 100%|██████████| 938/938 [04:08<00:00,  3.77batch/s, loss=-3.03e+5]\n"
          ]
        },
        {
          "output_type": "stream",
          "name": "stdout",
          "text": [
            "Epoch 14: Average Training Loss = -1159061.7863\n",
            "Epoch 14: Validation Loss = -439995.4295\n"
          ]
        },
        {
          "output_type": "stream",
          "name": "stderr",
          "text": [
            "Epoch 15: 100%|██████████| 938/938 [04:08<00:00,  3.77batch/s, loss=-3.18e+5]\n"
          ]
        },
        {
          "output_type": "stream",
          "name": "stdout",
          "text": [
            "Epoch 15: Average Training Loss = -1224508.5033\n",
            "Epoch 15: Validation Loss = -450976.5784\n"
          ]
        },
        {
          "output_type": "stream",
          "name": "stderr",
          "text": [
            "Epoch 16: 100%|██████████| 938/938 [04:06<00:00,  3.80batch/s, loss=-3.23e+5]\n"
          ]
        },
        {
          "output_type": "stream",
          "name": "stdout",
          "text": [
            "Epoch 16: Average Training Loss = -1287681.8322\n",
            "Epoch 16: Validation Loss = -460926.3067\n"
          ]
        },
        {
          "output_type": "stream",
          "name": "stderr",
          "text": [
            "Epoch 17: 100%|██████████| 938/938 [04:07<00:00,  3.80batch/s, loss=-3.27e+5]\n"
          ]
        },
        {
          "output_type": "stream",
          "name": "stdout",
          "text": [
            "Epoch 17: Average Training Loss = -1348222.9004\n",
            "Epoch 17: Validation Loss = -467513.9681\n"
          ]
        },
        {
          "output_type": "stream",
          "name": "stderr",
          "text": [
            "Epoch 18: 100%|██████████| 938/938 [04:07<00:00,  3.80batch/s, loss=-3.6e+5]\n"
          ]
        },
        {
          "output_type": "stream",
          "name": "stdout",
          "text": [
            "Epoch 18: Average Training Loss = -1407941.7271\n",
            "Epoch 18: Validation Loss = -471216.3983\n"
          ]
        },
        {
          "output_type": "stream",
          "name": "stderr",
          "text": [
            "Epoch 19: 100%|██████████| 938/938 [04:08<00:00,  3.77batch/s, loss=-3.81e+5]\n"
          ]
        },
        {
          "output_type": "stream",
          "name": "stdout",
          "text": [
            "Epoch 19: Average Training Loss = -1465679.6794\n",
            "Epoch 19: Validation Loss = -474064.4612\n"
          ]
        },
        {
          "output_type": "stream",
          "name": "stderr",
          "text": [
            "Epoch 20: 100%|██████████| 938/938 [04:06<00:00,  3.80batch/s, loss=-3.87e+5]\n"
          ]
        },
        {
          "output_type": "stream",
          "name": "stdout",
          "text": [
            "Epoch 20: Average Training Loss = -1522750.6519\n",
            "Epoch 20: Validation Loss = -474832.1180\n"
          ]
        },
        {
          "output_type": "stream",
          "name": "stderr",
          "text": [
            "Epoch 21: 100%|██████████| 938/938 [04:16<00:00,  3.65batch/s, loss=-3.9e+5]\n"
          ]
        },
        {
          "output_type": "stream",
          "name": "stdout",
          "text": [
            "Epoch 21: Average Training Loss = -1577613.2090\n",
            "Epoch 21: Validation Loss = -473105.3422\n"
          ]
        },
        {
          "output_type": "stream",
          "name": "stderr",
          "text": [
            "Epoch 22: 100%|██████████| 938/938 [04:14<00:00,  3.68batch/s, loss=-4.13e+5]\n"
          ]
        },
        {
          "output_type": "stream",
          "name": "stdout",
          "text": [
            "Epoch 22: Average Training Loss = -1630844.3969\n",
            "Epoch 22: Validation Loss = -469021.3127\n"
          ]
        },
        {
          "output_type": "stream",
          "name": "stderr",
          "text": [
            "Epoch 23: 100%|██████████| 938/938 [04:13<00:00,  3.70batch/s, loss=-4.26e+5]\n"
          ]
        },
        {
          "output_type": "stream",
          "name": "stdout",
          "text": [
            "Epoch 23: Average Training Loss = -1683490.8763\n",
            "Epoch 23: Validation Loss = -462908.5919\n"
          ]
        },
        {
          "output_type": "stream",
          "name": "stderr",
          "text": [
            "Epoch 24: 100%|██████████| 938/938 [04:10<00:00,  3.74batch/s, loss=-4.49e+5]\n"
          ]
        },
        {
          "output_type": "stream",
          "name": "stdout",
          "text": [
            "Epoch 24: Average Training Loss = -1735268.7519\n",
            "Epoch 24: Validation Loss = -454108.4948\n"
          ]
        },
        {
          "output_type": "stream",
          "name": "stderr",
          "text": [
            "Epoch 25: 100%|██████████| 938/938 [04:08<00:00,  3.78batch/s, loss=-4.72e+5]\n"
          ]
        },
        {
          "output_type": "stream",
          "name": "stdout",
          "text": [
            "Epoch 25: Average Training Loss = -1785958.3417\n",
            "Epoch 25: Validation Loss = -443538.8423\n"
          ]
        },
        {
          "output_type": "stream",
          "name": "stderr",
          "text": [
            "Epoch 26: 100%|██████████| 938/938 [04:06<00:00,  3.81batch/s, loss=-4.48e+5]\n"
          ]
        },
        {
          "output_type": "stream",
          "name": "stdout",
          "text": [
            "Epoch 26: Average Training Loss = -1813181.9842\n",
            "Epoch 26: Validation Loss = -443389.1630\n"
          ]
        },
        {
          "output_type": "stream",
          "name": "stderr",
          "text": [
            "Epoch 27: 100%|██████████| 938/938 [04:09<00:00,  3.76batch/s, loss=-4.66e+5]\n"
          ]
        },
        {
          "output_type": "stream",
          "name": "stdout",
          "text": [
            "Epoch 27: Average Training Loss = -1818428.7149\n",
            "Epoch 27: Validation Loss = -441126.1072\n"
          ]
        },
        {
          "output_type": "stream",
          "name": "stderr",
          "text": [
            "Epoch 28: 100%|██████████| 938/938 [04:10<00:00,  3.75batch/s, loss=-4.67e+5]\n"
          ]
        },
        {
          "output_type": "stream",
          "name": "stdout",
          "text": [
            "Epoch 28: Average Training Loss = -1822885.0104\n",
            "Epoch 28: Validation Loss = -440766.1591\n"
          ]
        },
        {
          "output_type": "stream",
          "name": "stderr",
          "text": [
            "Epoch 29: 100%|██████████| 938/938 [04:05<00:00,  3.82batch/s, loss=-4.52e+5]\n"
          ]
        },
        {
          "output_type": "stream",
          "name": "stdout",
          "text": [
            "Epoch 29: Average Training Loss = -1828741.7261\n",
            "Epoch 29: Validation Loss = -439803.3270\n"
          ]
        },
        {
          "output_type": "stream",
          "name": "stderr",
          "text": [
            "Epoch 30: 100%|██████████| 938/938 [04:07<00:00,  3.80batch/s, loss=-4.71e+5]\n"
          ]
        },
        {
          "output_type": "stream",
          "name": "stdout",
          "text": [
            "Epoch 30: Average Training Loss = -1830363.9060\n",
            "Epoch 30: Validation Loss = -438587.2059\n"
          ]
        },
        {
          "output_type": "stream",
          "name": "stderr",
          "text": [
            "Epoch 31: 100%|██████████| 938/938 [04:05<00:00,  3.82batch/s, loss=-4.55e+5]\n"
          ]
        },
        {
          "output_type": "stream",
          "name": "stdout",
          "text": [
            "Epoch 31: Average Training Loss = -1831247.1695\n",
            "Epoch 31: Validation Loss = -439192.8426\n"
          ]
        },
        {
          "output_type": "stream",
          "name": "stderr",
          "text": [
            "Epoch 32: 100%|██████████| 938/938 [04:05<00:00,  3.83batch/s, loss=-4.55e+5]\n"
          ]
        },
        {
          "output_type": "stream",
          "name": "stdout",
          "text": [
            "Epoch 32: Average Training Loss = -1832107.6725\n",
            "Epoch 32: Validation Loss = -439675.7077\n"
          ]
        },
        {
          "output_type": "stream",
          "name": "stderr",
          "text": [
            "Epoch 33: 100%|██████████| 938/938 [04:05<00:00,  3.82batch/s, loss=-4.39e+5]\n"
          ]
        },
        {
          "output_type": "stream",
          "name": "stdout",
          "text": [
            "Epoch 33: Average Training Loss = -1832446.5826\n",
            "Epoch 33: Validation Loss = -439368.6513\n"
          ]
        },
        {
          "output_type": "stream",
          "name": "stderr",
          "text": [
            "Epoch 34: 100%|██████████| 938/938 [04:05<00:00,  3.82batch/s, loss=-4.62e+5]\n"
          ]
        },
        {
          "output_type": "stream",
          "name": "stdout",
          "text": [
            "Epoch 34: Average Training Loss = -1833174.9314\n",
            "Epoch 34: Validation Loss = -439854.5974\n"
          ]
        },
        {
          "output_type": "stream",
          "name": "stderr",
          "text": [
            "Epoch 35: 100%|██████████| 938/938 [04:08<00:00,  3.78batch/s, loss=-4.6e+5]\n"
          ]
        },
        {
          "output_type": "stream",
          "name": "stdout",
          "text": [
            "Epoch 35: Average Training Loss = -1832971.2019\n",
            "Epoch 35: Validation Loss = -439252.8702\n",
            "Early stopping triggered.\n"
          ]
        },
        {
          "output_type": "stream",
          "name": "stderr",
          "text": [
            "<ipython-input-9-8bd1900e690b>:139: FutureWarning: You are using `torch.load` with `weights_only=False` (the current default value), which uses the default pickle module implicitly. It is possible to construct malicious pickle data which will execute arbitrary code during unpickling (See https://github.com/pytorch/pytorch/blob/main/SECURITY.md#untrusted-models for more details). In a future release, the default value for `weights_only` will be flipped to `True`. This limits the functions that could be executed during unpickling. Arbitrary objects will no longer be allowed to be loaded via this mode unless they are explicitly allowlisted by the user via `torch.serialization.add_safe_globals`. We recommend you start setting `weights_only=True` for any use case where you don't have full control of the loaded file. Please open an issue on GitHub for any issues related to this experimental feature.\n",
            "  model.load_state_dict(torch.load('best_model.pth'))\n"
          ]
        },
        {
          "output_type": "execute_result",
          "data": {
            "text/plain": [
              "<All keys matched successfully>"
            ]
          },
          "metadata": {},
          "execution_count": 9
        }
      ],
      "source": [
        "import torch\n",
        "import torch.nn as nn\n",
        "import torch.nn.functional as F\n",
        "from torch.utils.data import DataLoader\n",
        "from torchvision import datasets, transforms\n",
        "from tqdm import tqdm\n",
        "\n",
        "\n",
        "# Hyperparameters (adjust these during hyperparameter tuning)\n",
        "num_epochs = 100\n",
        "k = 10  # Increased CD-k\n",
        "num_visible = 784\n",
        "num_hidden = 1000  # Corrected number of hidden units\n",
        "learning_rate = 1e-5  # Further lowered learning rate\n",
        "alpha = 0.01\n",
        "weight_decay = 1e-3  # Increased weight decay further\n",
        "momentum = 0.9\n",
        "clip_value = 1.0\n",
        "patience = 15  # Increased patience\n",
        "\n",
        "# Data augmentation transforms (consider simplifying if needed)\n",
        "transform = transforms.Compose([\n",
        "    transforms.RandomRotation(5),  # Reduced rotation angle\n",
        "    transforms.ToTensor(),\n",
        "    transforms.Normalize((0.1307,), (0.3081,))\n",
        "])\n",
        "\n",
        "# Define datasets and dataloaders\n",
        "train_data = datasets.MNIST(root='./data', train=True, download=True, transform=transform)\n",
        "train_loader = DataLoader(train_data, batch_size=64, shuffle=True)\n",
        "\n",
        "validation_data = datasets.MNIST(root='./data', train=False, download=True, transform=transforms.ToTensor())\n",
        "validation_loader = DataLoader(validation_data, batch_size=64, shuffle=False)\n",
        "\n",
        "# Define the RBM model with dropout\n",
        "class RBM(nn.Module):\n",
        "    def __init__(self, num_visible, num_hidden):\n",
        "        super(RBM, self).__init__()\n",
        "        self.W = nn.Parameter(torch.randn(num_hidden, num_visible) * 0.01)\n",
        "        self.v_bias = nn.Parameter(torch.zeros(num_visible))\n",
        "        self.h_bias = nn.Parameter(torch.zeros(num_hidden))\n",
        "        self.dropout = nn.Dropout(p=0.5)  # Added dropout layer\n",
        "\n",
        "    def sample_h(self, v):\n",
        "        p_h_given_v = torch.sigmoid(F.linear(v, self.W, self.h_bias))\n",
        "        p_h_given_v = self.dropout(p_h_given_v)  # Apply dropout\n",
        "        p_h_given_v = torch.clamp(p_h_given_v, 0, 1)  # Clamp the probabilities\n",
        "        return torch.bernoulli(p_h_given_v)\n",
        "\n",
        "    def sample_v(self, h):\n",
        "        p_v_given_h = torch.sigmoid(F.linear(h, self.W.t(), self.v_bias))\n",
        "        return torch.bernoulli(p_v_given_h)\n",
        "\n",
        "    def energy(self, v, h):\n",
        "        vWh = torch.matmul(torch.matmul(v, self.W.t()), h.t())\n",
        "        return -torch.sum(vWh) - torch.matmul(v, self.v_bias) - torch.matmul(h, self.h_bias)\n",
        "\n",
        "    def forward(self, v, k=1):\n",
        "        h = self.sample_h(v)\n",
        "        for _ in range(k):\n",
        "            v_recon = self.sample_v(h)\n",
        "            h = self.sample_h(v_recon)\n",
        "        return v_recon, h\n",
        "\n",
        "# Define the RBM model\n",
        "model = RBM(num_visible, num_hidden)\n",
        "\n",
        "# Define the optimizer with momentum and learning rate scheduling\n",
        "optimizer = torch.optim.SGD(model.parameters(), lr=learning_rate, momentum=momentum, weight_decay=weight_decay)\n",
        "scheduler = torch.optim.lr_scheduler.ReduceLROnPlateau(optimizer, 'min', patience=3)  # Changed to ReduceLROnPlateau\n",
        "\n",
        "# Define the loss function (consider adding L1 regularization)\n",
        "def calculate_loss(v, v_recon, model, h):\n",
        "    reconstruction_loss = torch.mean(model.energy(v, h) - model.energy(v_recon, h))\n",
        "    regularization_loss = alpha * torch.mean(model.energy(v, h))\n",
        "    # Add L1 regularization if needed:\n",
        "    # l1_loss = some_weight * torch.sum(torch.abs(model.W))\n",
        "    # return reconstruction_loss + regularization_loss + l1_loss\n",
        "    return reconstruction_loss + regularization_loss\n",
        "\n",
        "# Training loop with early stopping and gradient clipping\n",
        "best_val_loss = float('inf')\n",
        "epochs_without_improvement = 0\n",
        "\n",
        "train_losses = []  # To store training losses\n",
        "val_losses = []  # To store validation losses\n",
        "\n",
        "for epoch in range(num_epochs):\n",
        "    model.train()\n",
        "    epoch_loss = 0\n",
        "    with tqdm(train_loader, unit=\"batch\") as tepoch:\n",
        "        for batch_idx, (data, _) in enumerate(tepoch):\n",
        "            tepoch.set_description(f\"Epoch {epoch+1}\")\n",
        "            optimizer.zero_grad()\n",
        "            data = data.view(data.size(0), -1)\n",
        "            v_recon, h = model(data, k=k)\n",
        "\n",
        "            loss = calculate_loss(data, v_recon, model, h)\n",
        "            epoch_loss += loss.item()\n",
        "\n",
        "            loss.backward()\n",
        "\n",
        "            # Gradient clipping\n",
        "            torch.nn.utils.clip_grad_norm_(model.parameters(), clip_value)\n",
        "\n",
        "            optimizer.step()\n",
        "            tepoch.set_postfix(loss=loss.item())\n",
        "\n",
        "    scheduler.step(val_loss)  # Update learning rate based on validation loss\n",
        "\n",
        "    avg_epoch_loss = epoch_loss / len(train_loader)\n",
        "    train_losses.append(avg_epoch_loss)  # Append training loss\n",
        "    print(f\"Epoch {epoch+1}: Average Training Loss = {avg_epoch_loss:.4f}\")\n",
        "\n",
        "    # Evaluate on validation set\n",
        "    model.eval()\n",
        "    val_loss = 0\n",
        "    with torch.no_grad():\n",
        "        for data, _ in validation_loader:\n",
        "            data = data.view(data.size(0), -1)\n",
        "            v_recon, h = model(data, k=k)\n",
        "            val_loss += calculate_loss(data, v_recon, model, h).item()\n",
        "    val_loss /= len(validation_loader)\n",
        "    val_losses.append(val_loss)  # Append validation loss\n",
        "    print(f\"Epoch {epoch+1}: Validation Loss = {val_loss:.4f}\")\n",
        "\n",
        "\n",
        "    if val_loss < best_val_loss:\n",
        "        best_val_loss = val_loss\n",
        "        epochs_without_improvement = 0\n",
        "        torch.save(model.state_dict(), 'best_model.pth')\n",
        "    else:\n",
        "        epochs_without_improvement += 1\n",
        "        if epochs_without_improvement >= patience:\n",
        "            print(\"Early stopping triggered.\")\n",
        "            break\n",
        "\n",
        "# Load the best model\n",
        "model.load_state_dict(torch.load('best_model.pth'))"
      ]
    },
    {
      "cell_type": "markdown",
      "source": [
        "## PART2"
      ],
      "metadata": {
        "id": "0EmHhNQojAqf"
      }
    },
    {
      "cell_type": "code",
      "source": [
        "import matplotlib.pyplot as plt\n",
        "\n",
        "# Evaluate on the test set\n",
        "test_data = datasets.MNIST(root='./data', train=False, download=True, transform=transforms.ToTensor())\n",
        "test_loader = DataLoader(test_data, batch_size=64, shuffle=False)\n",
        "\n",
        "def evaluate(model, test_loader, k=1):\n",
        "    model.eval()\n",
        "    test_loss = 0\n",
        "    with torch.no_grad():\n",
        "        for data, _ in test_loader:\n",
        "            data = data.view(data.size(0), -1)\n",
        "            v_recon, h = model(data, k=k)\n",
        "            test_loss += calculate_loss(data, v_recon, model, h).item()\n",
        "    test_loss /= len(test_loader)\n",
        "    print(f\"Test Loss: {test_loss:.4f}\")\n",
        "\n",
        "evaluate(model, test_loader)\n",
        "\n",
        "# Visualization functions\n",
        "def visualize_reconstruction(model, data_loader, num_images=5):\n",
        "    with torch.no_grad():\n",
        "        for data, _ in data_loader:\n",
        "            data = data.view(data.size(0), -1)\n",
        "            v_recon, _ = model(data)\n",
        "            for i in range(num_images):\n",
        "                plt.figure(figsize=(4, 4))\n",
        "                plt.subplot(1, 2, 1)\n",
        "                plt.imshow(data[i].reshape(28, 28), cmap='gray')\n",
        "                plt.title('Original')\n",
        "                plt.subplot(1, 2, 2)\n",
        "                plt.imshow(v_recon[i].reshape(28, 28), cmap='gray')\n",
        "                plt.title('Reconstruction')\n",
        "                plt.show()\n",
        "            break\n",
        "\n",
        "def generate_samples(model, num_samples=10, num_steps=100):\n",
        "    with torch.no_grad():\n",
        "        v = torch.bernoulli(torch.rand(num_samples, num_visible))\n",
        "        for _ in range(num_steps):\n",
        "            h = model.sample_h(v)\n",
        "            v = model.sample_v(h)\n",
        "        return v\n",
        "\n",
        "def visualize_weights(model, num_weights=10):\n",
        "    plt.figure(figsize=(10, 5))\n",
        "    for i in range(num_weights):\n",
        "        plt.subplot(2, 5, i + 1)\n",
        "        plt.imshow(model.W.detach().numpy()[i].reshape(28, 28), cmap='gray')\n",
        "        plt.title(f'Hidden Unit {i}')\n",
        "    plt.show()\n",
        "\n",
        "\n",
        "# Visualizations\n",
        "visualize_reconstruction(model, test_loader)\n",
        "samples = generate_samples(model)\n",
        "# Visualize the generated samples\n",
        "plt.figure(figsize=(10, 5))\n",
        "for i in range(len(samples)):\n",
        "    plt.subplot(2, 5, i + 1)\n",
        "    plt.imshow(samples[i].reshape(28, 28), cmap='gray')\n",
        "plt.show()\n",
        "visualize_weights(model)\n",
        "# Visual"
      ],
      "metadata": {
        "colab": {
          "base_uri": "https://localhost:8080/",
          "height": 1000
        },
        "id": "_hH3WyT0i7Sg",
        "outputId": "4b8d4693-bc2b-49bf-f99f-5cea1ff88ac1"
      },
      "execution_count": 10,
      "outputs": [
        {
          "output_type": "stream",
          "name": "stdout",
          "text": [
            "Test Loss: -411018.2771\n"
          ]
        },
        {
          "output_type": "display_data",
          "data": {
            "text/plain": [
              "<Figure size 400x400 with 2 Axes>"
            ],
            "image/png": "[encoded data removed]"
          },
          "metadata": {}
        },
        {
          "output_type": "display_data",
          "data": {
            "text/plain": [
              "<Figure size 400x400 with 2 Axes>"
            ],
            "image/png": "[encoded data removed]"
          },
          "metadata": {}
        },
        {
          "output_type": "display_data",
          "data": {
            "text/plain": [
              "<Figure size 400x400 with 2 Axes>"
            ],
            "image/png": "[encoded data removed]"
          },
          "metadata": {}
        },
        {
          "output_type": "display_data",
          "data": {
            "text/plain": [
              "<Figure size 400x400 with 2 Axes>"
            ],
            "image/png": "[encoded data removed]"
          },
          "metadata": {}
        },
        {
          "output_type": "display_data",
          "data": {
            "text/plain": [
              "<Figure size 400x400 with 2 Axes>"
            ],
            "image/png": "[encoded data removed]"
          },
          "metadata": {}
        },
        {
          "output_type": "display_data",
          "data": {
            "text/plain": [
              "<Figure size 1000x500 with 10 Axes>"
            ],
            "image/png": "[encoded data removed]"
          },
          "metadata": {}
        },
        {
          "output_type": "display_data",
          "data": {
            "text/plain": [
              "<Figure size 1000x500 with 10 Axes>"
            ],
            "image/png": "[encoded data removed]"
          },
          "metadata": {}
        }
      ]
    }
  ]
}