{
  "nbformat": 4,
  "nbformat_minor": 0,
  "metadata": {
    "colab": {
      "provenance": [],
      "collapsed_sections": [
        "0EmHhNQojAqf"
      ],
      "machine_shape": "hm",
      "gpuType": "L4",
      "authorship_tag": "ABX9TyNjUE5pdpu+5twoRuM8SVBX",
      "include_colab_link": true
    },
    "kernelspec": {
      "name": "python3",
      "display_name": "Python 3"
    },
    "language_info": {
      "name": "python"
    },
    "accelerator": "GPU"
  },
  "cells": [
    {
      "cell_type": "markdown",
      "metadata": {
        "id": "view-in-github",
        "colab_type": "text"
      },
      "source": [
        "<a href=\"https://colab.research.google.com/github/frank-morales2020/MLxDL/blob/main/MYRBM_EBM.ipynb\" target=\"_parent\"><img src=\"https://colab.research.google.com/assets/colab-badge.svg\" alt=\"Open In Colab\"/></a>"
      ]
    },
    {
      "cell_type": "markdown",
      "source": [
        "## Training"
      ],
      "metadata": {
        "id": "hKL22P9njEyj"
      }
    },
    {
      "cell_type": "code",
      "source": [
        "!nvidia-smi"
      ],
      "metadata": {
        "colab": {
          "base_uri": "https://localhost:8080/"
        },
        "id": "_8dXFLQhBM1g",
        "outputId": "42cf1952-aba7-4e18-e841-0550c886a2ad"
      },
      "execution_count": 5,
      "outputs": [
        {
          "output_type": "stream",
          "name": "stdout",
          "text": [
            "Fri Nov 15 08:51:19 2024       \n",
            "+---------------------------------------------------------------------------------------+\n",
            "| NVIDIA-SMI 535.104.05             Driver Version: 535.104.05   CUDA Version: 12.2     |\n",
            "|-----------------------------------------+----------------------+----------------------+\n",
            "| GPU  Name                 Persistence-M | Bus-Id        Disp.A | Volatile Uncorr. ECC |\n",
            "| Fan  Temp   Perf          Pwr:Usage/Cap |         Memory-Usage | GPU-Util  Compute M. |\n",
            "|                                         |                      |               MIG M. |\n",
            "|=========================================+======================+======================|\n",
            "|   0  NVIDIA L4                      Off | 00000000:00:03.0 Off |                    0 |\n",
            "| N/A   48C    P8              17W /  72W |      4MiB / 23034MiB |      0%      Default |\n",
            "|                                         |                      |                  N/A |\n",
            "+-----------------------------------------+----------------------+----------------------+\n",
            "                                                                                         \n",
            "+---------------------------------------------------------------------------------------+\n",
            "| Processes:                                                                            |\n",
            "|  GPU   GI   CI        PID   Type   Process name                            GPU Memory |\n",
            "|        ID   ID                                                             Usage      |\n",
            "|=======================================================================================|\n",
            "|  No running processes found                                                           |\n",
            "+---------------------------------------------------------------------------------------+\n"
          ]
        }
      ]
    },
    {
      "cell_type": "code",
      "execution_count": 3,
      "metadata": {
        "colab": {
          "base_uri": "https://localhost:8080/"
        },
        "id": "VeCK1c3Giu1U",
        "outputId": "fd88aa7d-5936-4d57-932f-b274b4a50339"
      },
      "outputs": [
        {
          "output_type": "stream",
          "name": "stderr",
          "text": [
            "Epoch 1: 100%|██████████| 938/938 [01:27<00:00, 10.74batch/s, loss=-2.24e+4]\n"
          ]
        },
        {
          "output_type": "stream",
          "name": "stdout",
          "text": [
            "Epoch 1: Average Training Loss = -27790.0176\n",
            "Epoch 1: Validation Loss = -23469.2147\n"
          ]
        },
        {
          "output_type": "stream",
          "name": "stderr",
          "text": [
            "Epoch 2: 100%|██████████| 938/938 [01:26<00:00, 10.79batch/s, loss=-5.02e+4]\n"
          ]
        },
        {
          "output_type": "stream",
          "name": "stdout",
          "text": [
            "Epoch 2: Average Training Loss = -141555.3191\n",
            "Epoch 2: Validation Loss = -79642.3314\n"
          ]
        },
        {
          "output_type": "stream",
          "name": "stderr",
          "text": [
            "Epoch 3: 100%|██████████| 938/938 [01:27<00:00, 10.78batch/s, loss=-7.67e+4]\n"
          ]
        },
        {
          "output_type": "stream",
          "name": "stdout",
          "text": [
            "Epoch 3: Average Training Loss = -249969.8420\n",
            "Epoch 3: Validation Loss = -130549.1592\n"
          ]
        },
        {
          "output_type": "stream",
          "name": "stderr",
          "text": [
            "Epoch 4: 100%|██████████| 938/938 [01:26<00:00, 10.85batch/s, loss=-1.06e+5]\n"
          ]
        },
        {
          "output_type": "stream",
          "name": "stdout",
          "text": [
            "Epoch 4: Average Training Loss = -353156.4928\n",
            "Epoch 4: Validation Loss = -176710.5767\n"
          ]
        },
        {
          "output_type": "stream",
          "name": "stderr",
          "text": [
            "Epoch 5: 100%|██████████| 938/938 [01:26<00:00, 10.83batch/s, loss=-1.25e+5]\n"
          ]
        },
        {
          "output_type": "stream",
          "name": "stdout",
          "text": [
            "Epoch 5: Average Training Loss = -451708.9446\n",
            "Epoch 5: Validation Loss = -218722.0793\n"
          ]
        },
        {
          "output_type": "stream",
          "name": "stderr",
          "text": [
            "Epoch 6: 100%|██████████| 938/938 [01:26<00:00, 10.85batch/s, loss=-1.47e+5]\n"
          ]
        },
        {
          "output_type": "stream",
          "name": "stdout",
          "text": [
            "Epoch 6: Average Training Loss = -545747.4355\n",
            "Epoch 6: Validation Loss = -256512.1437\n"
          ]
        },
        {
          "output_type": "stream",
          "name": "stderr",
          "text": [
            "Epoch 7: 100%|██████████| 938/938 [01:26<00:00, 10.88batch/s, loss=-1.68e+5]\n"
          ]
        },
        {
          "output_type": "stream",
          "name": "stdout",
          "text": [
            "Epoch 7: Average Training Loss = -635575.0068\n",
            "Epoch 7: Validation Loss = -290693.1671\n"
          ]
        },
        {
          "output_type": "stream",
          "name": "stderr",
          "text": [
            "Epoch 8: 100%|██████████| 938/938 [01:26<00:00, 10.88batch/s, loss=-1.88e+5]\n"
          ]
        },
        {
          "output_type": "stream",
          "name": "stdout",
          "text": [
            "Epoch 8: Average Training Loss = -720992.1385\n",
            "Epoch 8: Validation Loss = -320373.5678\n"
          ]
        },
        {
          "output_type": "stream",
          "name": "stderr",
          "text": [
            "Epoch 9: 100%|██████████| 938/938 [01:26<00:00, 10.87batch/s, loss=-2.16e+5]\n"
          ]
        },
        {
          "output_type": "stream",
          "name": "stdout",
          "text": [
            "Epoch 9: Average Training Loss = -803019.3520\n",
            "Epoch 9: Validation Loss = -348461.9291\n"
          ]
        },
        {
          "output_type": "stream",
          "name": "stderr",
          "text": [
            "Epoch 10: 100%|██████████| 938/938 [01:25<00:00, 10.91batch/s, loss=-2.24e+5]\n"
          ]
        },
        {
          "output_type": "stream",
          "name": "stdout",
          "text": [
            "Epoch 10: Average Training Loss = -881514.2344\n",
            "Epoch 10: Validation Loss = -372542.3728\n"
          ]
        },
        {
          "output_type": "stream",
          "name": "stderr",
          "text": [
            "Epoch 11: 100%|██████████| 938/938 [01:25<00:00, 10.93batch/s, loss=-2.44e+5]\n"
          ]
        },
        {
          "output_type": "stream",
          "name": "stdout",
          "text": [
            "Epoch 11: Average Training Loss = -956643.0236\n",
            "Epoch 11: Validation Loss = -393855.0554\n"
          ]
        },
        {
          "output_type": "stream",
          "name": "stderr",
          "text": [
            "Epoch 12: 100%|██████████| 938/938 [01:25<00:00, 10.96batch/s, loss=-2.83e+5]\n"
          ]
        },
        {
          "output_type": "stream",
          "name": "stdout",
          "text": [
            "Epoch 12: Average Training Loss = -1028985.5303\n",
            "Epoch 12: Validation Loss = -411673.2887\n"
          ]
        },
        {
          "output_type": "stream",
          "name": "stderr",
          "text": [
            "Epoch 13: 100%|██████████| 938/938 [01:25<00:00, 10.96batch/s, loss=-2.82e+5]\n"
          ]
        },
        {
          "output_type": "stream",
          "name": "stdout",
          "text": [
            "Epoch 13: Average Training Loss = -1098721.9863\n",
            "Epoch 13: Validation Loss = -428316.9083\n"
          ]
        },
        {
          "output_type": "stream",
          "name": "stderr",
          "text": [
            "Epoch 14: 100%|██████████| 938/938 [01:25<00:00, 10.92batch/s, loss=-3.12e+5]\n"
          ]
        },
        {
          "output_type": "stream",
          "name": "stdout",
          "text": [
            "Epoch 14: Average Training Loss = -1165684.7764\n",
            "Epoch 14: Validation Loss = -441744.1164\n"
          ]
        },
        {
          "output_type": "stream",
          "name": "stderr",
          "text": [
            "Epoch 15: 100%|██████████| 938/938 [01:25<00:00, 10.98batch/s, loss=-3.22e+5]\n"
          ]
        },
        {
          "output_type": "stream",
          "name": "stdout",
          "text": [
            "Epoch 15: Average Training Loss = -1230844.8230\n",
            "Epoch 15: Validation Loss = -453032.9380\n"
          ]
        },
        {
          "output_type": "stream",
          "name": "stderr",
          "text": [
            "Epoch 16: 100%|██████████| 938/938 [01:25<00:00, 11.01batch/s, loss=-3.3e+5]\n"
          ]
        },
        {
          "output_type": "stream",
          "name": "stdout",
          "text": [
            "Epoch 16: Average Training Loss = -1293584.9964\n",
            "Epoch 16: Validation Loss = -462233.9601\n"
          ]
        },
        {
          "output_type": "stream",
          "name": "stderr",
          "text": [
            "Epoch 17: 100%|██████████| 938/938 [01:25<00:00, 10.96batch/s, loss=-3.45e+5]\n"
          ]
        },
        {
          "output_type": "stream",
          "name": "stdout",
          "text": [
            "Epoch 17: Average Training Loss = -1354531.8909\n",
            "Epoch 17: Validation Loss = -468338.0052\n"
          ]
        },
        {
          "output_type": "stream",
          "name": "stderr",
          "text": [
            "Epoch 18: 100%|██████████| 938/938 [01:25<00:00, 11.02batch/s, loss=-3.64e+5]\n"
          ]
        },
        {
          "output_type": "stream",
          "name": "stdout",
          "text": [
            "Epoch 18: Average Training Loss = -1414250.8086\n",
            "Epoch 18: Validation Loss = -472612.0187\n"
          ]
        },
        {
          "output_type": "stream",
          "name": "stderr",
          "text": [
            "Epoch 19: 100%|██████████| 938/938 [01:25<00:00, 11.02batch/s, loss=-3.64e+5]\n"
          ]
        },
        {
          "output_type": "stream",
          "name": "stdout",
          "text": [
            "Epoch 19: Average Training Loss = -1471104.3402\n",
            "Epoch 19: Validation Loss = -474779.7363\n"
          ]
        },
        {
          "output_type": "stream",
          "name": "stderr",
          "text": [
            "Epoch 20: 100%|██████████| 938/938 [01:25<00:00, 11.01batch/s, loss=-3.93e+5]\n"
          ]
        },
        {
          "output_type": "stream",
          "name": "stdout",
          "text": [
            "Epoch 20: Average Training Loss = -1527587.1791\n",
            "Epoch 20: Validation Loss = -475411.3935\n"
          ]
        },
        {
          "output_type": "stream",
          "name": "stderr",
          "text": [
            "Epoch 21: 100%|██████████| 938/938 [01:25<00:00, 11.02batch/s, loss=-3.97e+5]\n"
          ]
        },
        {
          "output_type": "stream",
          "name": "stdout",
          "text": [
            "Epoch 21: Average Training Loss = -1583045.2345\n",
            "Epoch 21: Validation Loss = -473153.8325\n"
          ]
        },
        {
          "output_type": "stream",
          "name": "stderr",
          "text": [
            "Epoch 22: 100%|██████████| 938/938 [01:24<00:00, 11.05batch/s, loss=-4.28e+5]\n"
          ]
        },
        {
          "output_type": "stream",
          "name": "stdout",
          "text": [
            "Epoch 22: Average Training Loss = -1636431.7456\n",
            "Epoch 22: Validation Loss = -469239.7645\n"
          ]
        },
        {
          "output_type": "stream",
          "name": "stderr",
          "text": [
            "Epoch 23: 100%|██████████| 938/938 [01:25<00:00, 11.00batch/s, loss=-4.32e+5]\n"
          ]
        },
        {
          "output_type": "stream",
          "name": "stdout",
          "text": [
            "Epoch 23: Average Training Loss = -1688649.3618\n",
            "Epoch 23: Validation Loss = -462928.9478\n"
          ]
        },
        {
          "output_type": "stream",
          "name": "stderr",
          "text": [
            "Epoch 24: 100%|██████████| 938/938 [01:25<00:00, 11.01batch/s, loss=-4.56e+5]\n"
          ]
        },
        {
          "output_type": "stream",
          "name": "stdout",
          "text": [
            "Epoch 24: Average Training Loss = -1739985.2172\n",
            "Epoch 24: Validation Loss = -453869.8343\n"
          ]
        },
        {
          "output_type": "stream",
          "name": "stderr",
          "text": [
            "Epoch 25: 100%|██████████| 938/938 [01:24<00:00, 11.09batch/s, loss=-4.17e+5]\n"
          ]
        },
        {
          "output_type": "stream",
          "name": "stdout",
          "text": [
            "Epoch 25: Average Training Loss = -1768880.8525\n",
            "Epoch 25: Validation Loss = -453761.4182\n"
          ]
        },
        {
          "output_type": "stream",
          "name": "stderr",
          "text": [
            "Epoch 26: 100%|██████████| 938/938 [01:24<00:00, 11.04batch/s, loss=-4.31e+5]\n"
          ]
        },
        {
          "output_type": "stream",
          "name": "stdout",
          "text": [
            "Epoch 26: Average Training Loss = -1773598.8425\n",
            "Epoch 26: Validation Loss = -451995.8755\n"
          ]
        },
        {
          "output_type": "stream",
          "name": "stderr",
          "text": [
            "Epoch 27: 100%|██████████| 938/938 [01:25<00:00, 11.03batch/s, loss=-4.5e+5]\n"
          ]
        },
        {
          "output_type": "stream",
          "name": "stdout",
          "text": [
            "Epoch 27: Average Training Loss = -1778200.0450\n",
            "Epoch 27: Validation Loss = -451969.7421\n"
          ]
        },
        {
          "output_type": "stream",
          "name": "stderr",
          "text": [
            "Epoch 28: 100%|██████████| 938/938 [01:24<00:00, 11.05batch/s, loss=-4.61e+5]\n"
          ]
        },
        {
          "output_type": "stream",
          "name": "stdout",
          "text": [
            "Epoch 28: Average Training Loss = -1783196.2250\n",
            "Epoch 28: Validation Loss = -450123.3161\n"
          ]
        },
        {
          "output_type": "stream",
          "name": "stderr",
          "text": [
            "Epoch 29: 100%|██████████| 938/938 [01:24<00:00, 11.04batch/s, loss=-4.3e+5]\n"
          ]
        },
        {
          "output_type": "stream",
          "name": "stdout",
          "text": [
            "Epoch 29: Average Training Loss = -1786747.4004\n",
            "Epoch 29: Validation Loss = -451604.2608\n"
          ]
        },
        {
          "output_type": "stream",
          "name": "stderr",
          "text": [
            "Epoch 30: 100%|██████████| 938/938 [01:25<00:00, 11.00batch/s, loss=-4.26e+5]\n"
          ]
        },
        {
          "output_type": "stream",
          "name": "stdout",
          "text": [
            "Epoch 30: Average Training Loss = -1786785.4328\n",
            "Epoch 30: Validation Loss = -450448.7498\n"
          ]
        },
        {
          "output_type": "stream",
          "name": "stderr",
          "text": [
            "Epoch 31: 100%|██████████| 938/938 [01:24<00:00, 11.04batch/s, loss=-4.55e+5]\n"
          ]
        },
        {
          "output_type": "stream",
          "name": "stdout",
          "text": [
            "Epoch 31: Average Training Loss = -1787592.2519\n",
            "Epoch 31: Validation Loss = -449655.9199\n"
          ]
        },
        {
          "output_type": "stream",
          "name": "stderr",
          "text": [
            "Epoch 32: 100%|██████████| 938/938 [01:25<00:00, 11.01batch/s, loss=-4.62e+5]\n"
          ]
        },
        {
          "output_type": "stream",
          "name": "stdout",
          "text": [
            "Epoch 32: Average Training Loss = -1788198.1474\n",
            "Epoch 32: Validation Loss = -450198.7240\n"
          ]
        },
        {
          "output_type": "stream",
          "name": "stderr",
          "text": [
            "Epoch 33: 100%|██████████| 938/938 [01:25<00:00, 11.03batch/s, loss=-4.6e+5]\n"
          ]
        },
        {
          "output_type": "stream",
          "name": "stdout",
          "text": [
            "Epoch 33: Average Training Loss = -1788564.0784\n",
            "Epoch 33: Validation Loss = -449896.0379\n"
          ]
        },
        {
          "output_type": "stream",
          "name": "stderr",
          "text": [
            "Epoch 34: 100%|██████████| 938/938 [01:25<00:00, 10.99batch/s, loss=-4.62e+5]\n"
          ]
        },
        {
          "output_type": "stream",
          "name": "stdout",
          "text": [
            "Epoch 34: Average Training Loss = -1788042.8450\n",
            "Epoch 34: Validation Loss = -449579.9947\n"
          ]
        },
        {
          "output_type": "stream",
          "name": "stderr",
          "text": [
            "Epoch 35: 100%|██████████| 938/938 [01:25<00:00, 11.00batch/s, loss=-4.47e+5]\n"
          ]
        },
        {
          "output_type": "stream",
          "name": "stdout",
          "text": [
            "Epoch 35: Average Training Loss = -1788234.5098\n",
            "Epoch 35: Validation Loss = -451324.8634\n",
            "Early stopping triggered.\n"
          ]
        },
        {
          "output_type": "stream",
          "name": "stderr",
          "text": [
            "<ipython-input-3-0c16a9b211e0>:143: FutureWarning: You are using `torch.load` with `weights_only=False` (the current default value), which uses the default pickle module implicitly. It is possible to construct malicious pickle data which will execute arbitrary code during unpickling (See https://github.com/pytorch/pytorch/blob/main/SECURITY.md#untrusted-models for more details). In a future release, the default value for `weights_only` will be flipped to `True`. This limits the functions that could be executed during unpickling. Arbitrary objects will no longer be allowed to be loaded via this mode unless they are explicitly allowlisted by the user via `torch.serialization.add_safe_globals`. We recommend you start setting `weights_only=True` for any use case where you don't have full control of the loaded file. Please open an issue on GitHub for any issues related to this experimental feature.\n",
            "  model.load_state_dict(torch.load('best_model.pth'))\n"
          ]
        },
        {
          "output_type": "execute_result",
          "data": {
            "text/plain": [
              "<All keys matched successfully>"
            ]
          },
          "metadata": {},
          "execution_count": 3
        }
      ],
      "source": [
        "import torch\n",
        "import torch.nn as nn\n",
        "import torch.nn.functional as F\n",
        "from torch.utils.data import DataLoader\n",
        "from torchvision import datasets, transforms\n",
        "from tqdm import tqdm\n",
        "\n",
        "\n",
        "# Hyperparameters (adjust these during hyperparameter tuning)\n",
        "num_epochs = 100\n",
        "k = 10  # Increased CD-k\n",
        "num_visible = 784\n",
        "num_hidden = 1000  # Corrected number of hidden units\n",
        "learning_rate = 1e-5  # Further lowered learning rate\n",
        "alpha = 0.01\n",
        "weight_decay = 1e-3  # Increased weight decay further\n",
        "momentum = 0.9\n",
        "clip_value = 1.0\n",
        "patience = 15  # Increased patience\n",
        "\n",
        "# Data augmentation transforms (consider simplifying if needed)\n",
        "transform = transforms.Compose([\n",
        "    transforms.RandomRotation(5),  # Reduced rotation angle\n",
        "    transforms.ToTensor(),\n",
        "    transforms.Normalize((0.1307,), (0.3081,))\n",
        "])\n",
        "\n",
        "# Define datasets and dataloaders\n",
        "train_data = datasets.MNIST(root='./data', train=True, download=True, transform=transform)\n",
        "train_loader = DataLoader(train_data, batch_size=64, shuffle=True)\n",
        "\n",
        "validation_data = datasets.MNIST(root='./data', train=False, download=True, transform=transforms.ToTensor())\n",
        "validation_loader = DataLoader(validation_data, batch_size=64, shuffle=False)\n",
        "\n",
        "# Define the RBM model with dropout\n",
        "class RBM(nn.Module):\n",
        "    def __init__(self, num_visible, num_hidden):\n",
        "        super(RBM, self).__init__()\n",
        "        self.W = nn.Parameter(torch.randn(num_hidden, num_visible) * 0.01)\n",
        "        self.v_bias = nn.Parameter(torch.zeros(num_visible))\n",
        "        self.h_bias = nn.Parameter(torch.zeros(num_hidden))\n",
        "        self.dropout = nn.Dropout(p=0.5)  # Added dropout layer\n",
        "\n",
        "    def sample_h(self, v):\n",
        "        p_h_given_v = torch.sigmoid(F.linear(v, self.W, self.h_bias))\n",
        "        p_h_given_v = self.dropout(p_h_given_v)  # Apply dropout\n",
        "        p_h_given_v = torch.clamp(p_h_given_v, 0, 1)  # Clamp the probabilities\n",
        "        return torch.bernoulli(p_h_given_v)\n",
        "\n",
        "    def sample_v(self, h):\n",
        "        p_v_given_h = torch.sigmoid(F.linear(h, self.W.t(), self.v_bias))\n",
        "        return torch.bernoulli(p_v_given_h)\n",
        "\n",
        "    def energy(self, v, h):\n",
        "        vWh = torch.matmul(torch.matmul(v, self.W.t()), h.t())\n",
        "        return -torch.sum(vWh) - torch.matmul(v, self.v_bias) - torch.matmul(h, self.h_bias)\n",
        "\n",
        "    def forward(self, v, k=1):\n",
        "        h = self.sample_h(v)\n",
        "        for _ in range(k):\n",
        "            v_recon = self.sample_v(h)\n",
        "            h = self.sample_h(v_recon)\n",
        "        return v_recon, h\n",
        "\n",
        "# Define the RBM model\n",
        "model = RBM(num_visible, num_hidden)\n",
        "\n",
        "# Define the optimizer with momentum and learning rate scheduling\n",
        "optimizer = torch.optim.SGD(model.parameters(), lr=learning_rate, momentum=momentum, weight_decay=weight_decay)\n",
        "scheduler = torch.optim.lr_scheduler.ReduceLROnPlateau(optimizer, 'min', patience=3)  # Changed to ReduceLROnPlateau\n",
        "\n",
        "# Define the loss function (consider adding L1 regularization)\n",
        "def calculate_loss(v, v_recon, model, h):\n",
        "    reconstruction_loss = torch.mean(model.energy(v, h) - model.energy(v_recon, h))\n",
        "    regularization_loss = alpha * torch.mean(model.energy(v, h))\n",
        "    # Add L1 regularization if needed:\n",
        "    # l1_loss = some_weight * torch.sum(torch.abs(model.W))\n",
        "    # return reconstruction_loss + regularization_loss + l1_loss\n",
        "    return reconstruction_loss + regularization_loss\n",
        "\n",
        "# Training loop with early stopping and gradient clipping\n",
        "best_val_loss = float('inf')\n",
        "epochs_without_improvement = 0\n",
        "\n",
        "train_losses = []  # To store training losses\n",
        "val_losses = []  # To store validation losses\n",
        "\n",
        "for epoch in range(num_epochs):\n",
        "    model.train()\n",
        "    epoch_loss = 0\n",
        "    with tqdm(train_loader, unit=\"batch\") as tepoch:\n",
        "        for batch_idx, (data, _) in enumerate(tepoch):\n",
        "            tepoch.set_description(f\"Epoch {epoch+1}\")\n",
        "            optimizer.zero_grad()\n",
        "            data = data.view(data.size(0), -1)\n",
        "            v_recon, h = model(data, k=k)\n",
        "\n",
        "            loss = calculate_loss(data, v_recon, model, h)\n",
        "            epoch_loss += loss.item()\n",
        "\n",
        "            loss.backward()\n",
        "\n",
        "            # Gradient clipping\n",
        "            torch.nn.utils.clip_grad_norm_(model.parameters(), clip_value)\n",
        "\n",
        "            optimizer.step()\n",
        "            tepoch.set_postfix(loss=loss.item())\n",
        "\n",
        "    #scheduler.step(val_loss)  # Update learning rate based on validation loss\n",
        "\n",
        "    avg_epoch_loss = epoch_loss / len(train_loader)\n",
        "    train_losses.append(avg_epoch_loss)  # Append training loss\n",
        "    print(f\"Epoch {epoch+1}: Average Training Loss = {avg_epoch_loss:.4f}\")\n",
        "\n",
        "    # Evaluate on validation set\n",
        "    model.eval()\n",
        "    val_loss = 0\n",
        "    with torch.no_grad():\n",
        "        for data, _ in validation_loader:\n",
        "            data = data.view(data.size(0), -1)\n",
        "            v_recon, h = model(data, k=k)\n",
        "            val_loss += calculate_loss(data, v_recon, model, h).item()\n",
        "    val_loss /= len(validation_loader)\n",
        "\n",
        "    #scheduler.step(val_loss)\n",
        "    val_losses.append(val_loss)  # Append validation loss\n",
        "    print(f\"Epoch {epoch+1}: Validation Loss = {val_loss:.4f}\")\n",
        "\n",
        "    scheduler.step(val_loss)  # Call scheduler AFTER optimizer.step\n",
        "\n",
        "\n",
        "    if val_loss < best_val_loss:\n",
        "        best_val_loss = val_loss\n",
        "        epochs_without_improvement = 0\n",
        "        torch.save(model.state_dict(), 'best_model.pth')\n",
        "    else:\n",
        "        epochs_without_improvement += 1\n",
        "        if epochs_without_improvement >= patience:\n",
        "            print(\"Early stopping triggered.\")\n",
        "            break\n",
        "\n",
        "# Load the best model\n",
        "model.load_state_dict(torch.load('best_model.pth'))"
      ]
    },
    {
      "cell_type": "markdown",
      "source": [
        "## Evaluation"
      ],
      "metadata": {
        "id": "0EmHhNQojAqf"
      }
    },
    {
      "cell_type": "code",
      "source": [
        "import matplotlib.pyplot as plt\n",
        "\n",
        "# Evaluate on the test set\n",
        "test_data = datasets.MNIST(root='./data', train=False, download=True, transform=transforms.ToTensor())\n",
        "test_loader = DataLoader(test_data, batch_size=64, shuffle=False)\n",
        "\n",
        "def evaluate(model, test_loader, k=1):\n",
        "    model.eval()\n",
        "    test_loss = 0\n",
        "    with torch.no_grad():\n",
        "        for data, _ in test_loader:\n",
        "            data = data.view(data.size(0), -1)\n",
        "            v_recon, h = model(data, k=k)\n",
        "            test_loss += calculate_loss(data, v_recon, model, h).item()\n",
        "    test_loss /= len(test_loader)\n",
        "    print(f\"Test Loss: {test_loss:.4f}\")\n",
        "\n",
        "evaluate(model, test_loader)\n",
        "\n",
        "# Visualization functions\n",
        "def visualize_reconstruction(model, data_loader, num_images=5):\n",
        "    with torch.no_grad():\n",
        "        for data, _ in data_loader:\n",
        "            data = data.view(data.size(0), -1)\n",
        "            v_recon, _ = model(data)\n",
        "            for i in range(num_images):\n",
        "                plt.figure(figsize=(4, 4))\n",
        "                plt.subplot(1, 2, 1)\n",
        "                plt.imshow(data[i].reshape(28, 28), cmap='gray')\n",
        "                plt.title('Original')\n",
        "                plt.subplot(1, 2, 2)\n",
        "                plt.imshow(v_recon[i].reshape(28, 28), cmap='gray')\n",
        "                plt.title('Reconstruction')\n",
        "                plt.show()\n",
        "            break\n",
        "\n",
        "def generate_samples(model, num_samples=10, num_steps=100):\n",
        "    with torch.no_grad():\n",
        "        v = torch.bernoulli(torch.rand(num_samples, num_visible))\n",
        "        for _ in range(num_steps):\n",
        "            h = model.sample_h(v)\n",
        "            v = model.sample_v(h)\n",
        "        return v\n",
        "\n",
        "def visualize_weights(model, num_weights=10):\n",
        "    plt.figure(figsize=(10, 5))\n",
        "    for i in range(num_weights):\n",
        "        plt.subplot(2, 5, i + 1)\n",
        "        plt.imshow(model.W.detach().numpy()[i].reshape(28, 28), cmap='gray')\n",
        "        plt.title(f'Hidden Unit {i}')\n",
        "    plt.show()\n",
        "\n",
        "\n",
        "# Visualizations\n",
        "visualize_reconstruction(model, test_loader)\n",
        "samples = generate_samples(model)\n",
        "# Visualize the generated samples\n",
        "plt.figure(figsize=(10, 5))\n",
        "for i in range(len(samples)):\n",
        "    plt.subplot(2, 5, i + 1)\n",
        "    plt.imshow(samples[i].reshape(28, 28), cmap='gray')\n",
        "plt.show()\n",
        "visualize_weights(model)\n",
        "# Visual"
      ],
      "metadata": {
        "colab": {
          "base_uri": "https://localhost:8080/",
          "height": 1000
        },
        "id": "_hH3WyT0i7Sg",
        "outputId": "41b6a1ae-ddec-48ee-a3c8-1bacff10badc"
      },
      "execution_count": 4,
      "outputs": [
        {
          "output_type": "stream",
          "name": "stdout",
          "text": [
            "Test Loss: -411312.4723\n"
          ]
        },
        {
          "output_type": "display_data",
          "data": {
            "text/plain": [
              "<Figure size 400x400 with 2 Axes>"
            ],
            "image/png": "[encoded data removed]"
          },
          "metadata": {}
        },
        {
          "output_type": "display_data",
          "data": {
            "text/plain": [
              "<Figure size 400x400 with 2 Axes>"
            ],
            "image/png": "[encoded data removed]"
          },
          "metadata": {}
        },
        {
          "output_type": "display_data",
          "data": {
            "text/plain": [
              "<Figure size 400x400 with 2 Axes>"
            ],
            "image/png": "[encoded data removed]"
          },
          "metadata": {}
        },
        {
          "output_type": "display_data",
          "data": {
            "text/plain": [
              "<Figure size 400x400 with 2 Axes>"
            ],
            "image/png": "[encoded data removed]"
          },
          "metadata": {}
        },
        {
          "output_type": "display_data",
          "data": {
            "text/plain": [
              "<Figure size 400x400 with 2 Axes>"
            ],
            "image/png": "[encoded data removed]"
          },
          "metadata": {}
        },
        {
          "output_type": "display_data",
          "data": {
            "text/plain": [
              "<Figure size 1000x500 with 10 Axes>"
            ],
            "image/png": "[encoded data removed]"
          },
          "metadata": {}
        },
        {
          "output_type": "display_data",
          "data": {
            "text/plain": [
              "<Figure size 1000x500 with 10 Axes>"
            ],
            "image/png": "[encoded data removed]"
          },
          "metadata": {}
        }
      ]
    }
  ]
}