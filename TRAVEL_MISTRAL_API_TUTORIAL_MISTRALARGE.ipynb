{
  "nbformat": 4,
  "nbformat_minor": 0,
  "metadata": {
    "colab": {
      "provenance": [],
      "machine_shape": "hm",
      "authorship_tag": "ABX9TyNlHSiokxQPHX5csCPSfT9Z",
      "include_colab_link": true
    },
    "kernelspec": {
      "name": "python3",
      "display_name": "Python 3"
    },
    "language_info": {
      "name": "python"
    }
  },
  "cells": [
    {
      "cell_type": "markdown",
      "metadata": {
        "id": "view-in-github",
        "colab_type": "text"
      },
      "source": [
        "<a href=\"https://colab.research.google.com/github/frank-morales2020/MLxDL/blob/main/TRAVEL_MISTRAL_API_TUTORIAL_MISTRALARGE.ipynb\" target=\"_parent\"><img src=\"https://colab.research.google.com/assets/colab-badge.svg\" alt=\"Open In Colab\"/></a>"
      ]
    },
    {
      "cell_type": "markdown",
      "source": [
        "https://docs.mistral.ai/platform/client/\n",
        "\n",
        "https://github.com/mistralai/client-python\n",
        "\n",
        "https://docs.mistral.ai/getting-started/models/models_overview/\n",
        "\n",
        "https://mistral.ai/news/mistral-large-2407"
      ],
      "metadata": {
        "id": "HFSQBSaVuYEu"
      }
    },
    {
      "cell_type": "markdown",
      "source": [
        "# Dependencies and Settings"
      ],
      "metadata": {
        "id": "NesDaI4OICGe"
      }
    },
    {
      "cell_type": "code",
      "source": [
        "!pip install colab-env --quiet\n",
        "!pip install mistralai --quiet\n",
        "\n",
        "# Install Hugging Face libraries\n",
        "!pip install  --upgrade transformers datasets accelerate evaluate bitsandbytes --quiet"
      ],
      "metadata": {
        "id": "ghqAXWE-xJa_"
      },
      "execution_count": null,
      "outputs": []
    },
    {
      "cell_type": "code",
      "source": [
        "import mistralai\n",
        "from mistralai.client import MistralClient\n",
        "#from mistralai.models.chat_completion import ChatMessage\n",
        "import os\n",
        "import colab_env\n",
        "import json"
      ],
      "metadata": {
        "id": "a87Hog_P8h9P"
      },
      "execution_count": 12,
      "outputs": []
    },
    {
      "cell_type": "markdown",
      "source": [
        "# MISTRAL API SETTINGS"
      ],
      "metadata": {
        "id": "9V3yq8LLuqdT"
      }
    },
    {
      "cell_type": "code",
      "source": [
        "from mistralai import Mistral\n",
        "api_key = os.environ[\"MISTRAL_API_KEY\"]\n",
        "client = Mistral(api_key=api_key)"
      ],
      "metadata": {
        "id": "NnLef38upn75"
      },
      "execution_count": 13,
      "outputs": []
    },
    {
      "cell_type": "markdown",
      "source": [
        "# Function Definitions"
      ],
      "metadata": {
        "id": "5axbl8pdofkY"
      }
    },
    {
      "cell_type": "code",
      "source": [
        "def mistral_chat(prompt, model, client, stream):\n",
        "    # Removed MistralClient instantiation\n",
        "    messages = [{\"role\": \"user\", \"content\": prompt}]  # Use dictionary for messages\n",
        "    if stream:\n",
        "        print(\"Streaming\")\n",
        "        print()\n",
        "        print('Answer: ')\n",
        "        # Use client.chat.complete_stream for streaming\n",
        "        for chunk in client.chat.complete_stream(model=model, messages=messages):\n",
        "            if chunk.choices[0].delta.content is not None:\n",
        "                print(chunk.choices[0].delta.content, end=\"\")\n",
        "    else:\n",
        "        # Use client.chat.complete for non-streaming\n",
        "        chat_response = client.chat.complete(model=model, messages=messages, temperature=0.9)\n",
        "        return chat_response"
      ],
      "metadata": {
        "id": "7UgmK-jmBKfa"
      },
      "execution_count": 14,
      "outputs": []
    },
    {
      "cell_type": "code",
      "source": [
        "def create_prompt_formats(sample):\n",
        "    \"\"\"\n",
        "    Format various fields of the sample ('instruction','output')\n",
        "    Then concatenate them using two newline characters\n",
        "    :param sample: Sample dictionnary\n",
        "    \"\"\"\n",
        "    INTRO_BLURB = \"Below is an instruction that describes a task. Write a response that appropriately completes the request.\"\n",
        "    INSTRUCTION_KEY = \"### Instruct: Summarize the below conversation.\"\n",
        "    RESPONSE_KEY = \"### Output:\"\n",
        "    END_KEY = \"### End\"\n",
        "\n",
        "    blurb = f\"\\n{INTRO_BLURB}\"\n",
        "    instruction = f\"{INSTRUCTION_KEY}\"\n",
        "    input_context = f\"{sample['dialogue']}\" if sample[\"dialogue\"] else None\n",
        "    response = f\"{RESPONSE_KEY}\\n{sample['summary']}\"\n",
        "    end = f\"{END_KEY}\"\n",
        "\n",
        "    parts = [part for part in [blurb, instruction, input_context, response, end] if part]\n",
        "\n",
        "    formatted_prompt = \"\\n\\n\".join(parts)\n",
        "    sample[\"text\"] = formatted_prompt\n",
        "\n",
        "    return sample"
      ],
      "metadata": {
        "id": "LY2NjeYtpGet"
      },
      "execution_count": 15,
      "outputs": []
    },
    {
      "cell_type": "markdown",
      "source": [
        "# Managenment"
      ],
      "metadata": {
        "id": "Rwwy34zSFHD2"
      }
    },
    {
      "cell_type": "code",
      "source": [
        "client = Mistral(api_key=api_key)  # Use MistralClient instead of Mistral\n",
        "model_list = client.models.list()\n",
        "\n",
        "for model in model_list.data:\n",
        "    print(model.id)\n",
        "    #print(model.created)\n",
        "    #print(model.owned_by)"
      ],
      "metadata": {
        "id": "kJGSPIMaDBPv",
        "colab": {
          "base_uri": "https://localhost:8080/"
        },
        "outputId": "af5bb767-f4f8-475c-ed58-843161ceda69"
      },
      "execution_count": 16,
      "outputs": [
        {
          "output_type": "stream",
          "name": "stdout",
          "text": [
            "ministral-3b-2410\n",
            "ministral-3b-latest\n",
            "ministral-8b-2410\n",
            "ministral-8b-latest\n",
            "open-mistral-7b\n",
            "mistral-tiny\n",
            "mistral-tiny-2312\n",
            "open-mistral-nemo\n",
            "open-mistral-nemo-2407\n",
            "mistral-tiny-2407\n",
            "mistral-tiny-latest\n",
            "open-mixtral-8x7b\n",
            "mistral-small\n",
            "mistral-small-2312\n",
            "open-mixtral-8x22b\n",
            "open-mixtral-8x22b-2404\n",
            "mistral-small-2402\n",
            "mistral-small-2409\n",
            "mistral-medium-2312\n",
            "mistral-large-2402\n",
            "mistral-large-2407\n",
            "mistral-large-2411\n",
            "mistral-large-latest\n",
            "pixtral-large-2411\n",
            "pixtral-large-latest\n",
            "mistral-large-pixtral-2411\n",
            "codestral-2405\n",
            "codestral-2501\n",
            "codestral-latest\n",
            "codestral-2412\n",
            "codestral-2411-rc5\n",
            "codestral-mamba-2407\n",
            "open-codestral-mamba\n",
            "codestral-mamba-latest\n",
            "pixtral-12b-2409\n",
            "pixtral-12b\n",
            "pixtral-12b-latest\n",
            "mistral-small-2501\n",
            "mistral-small-2503\n",
            "mistral-small-latest\n",
            "mistral-saba-2502\n",
            "mistral-saba-latest\n",
            "mistral-medium-2505\n",
            "mistral-medium-latest\n",
            "mistral-medium\n",
            "mistral-embed\n",
            "mistral-moderation-2411\n",
            "mistral-moderation-latest\n",
            "mistral-ocr-2503\n",
            "mistral-ocr-latest\n",
            "ft:open-mistral-7b:9c9073bb:20250319:42325165\n",
            "ft:open-mistral-7b:9c9073bb:20250319:01258b27\n"
          ]
        }
      ]
    },
    {
      "cell_type": "markdown",
      "source": [
        "https://mistral.ai/news/mistral-small-3"
      ],
      "metadata": {
        "id": "3Dem3fc9dN1P"
      }
    },
    {
      "cell_type": "code",
      "source": [
        "model=model_list.data[22].id\n",
        "model"
      ],
      "metadata": {
        "colab": {
          "base_uri": "https://localhost:8080/",
          "height": 35
        },
        "id": "5uO56886bzN0",
        "outputId": "286d6894-d46a-42ce-9574-809d8d8bc64c"
      },
      "execution_count": 17,
      "outputs": [
        {
          "output_type": "execute_result",
          "data": {
            "text/plain": [
              "'mistral-large-latest'"
            ],
            "application/vnd.google.colaboratory.intrinsic+json": {
              "type": "string"
            }
          },
          "metadata": {},
          "execution_count": 17
        }
      ]
    },
    {
      "cell_type": "code",
      "source": [
        "messages = [{\"role\": \"user\", \"content\": \"What is the best French cheese?\"}]\n",
        "\n",
        "chat_response = client.chat.complete(  # Use client.chat.complete\n",
        "    model=model,\n",
        "    messages=messages,\n",
        ")\n",
        "print(chat_response.choices[0].message.content)"
      ],
      "metadata": {
        "id": "fgqaQVZ6W7GA",
        "colab": {
          "base_uri": "https://localhost:8080/"
        },
        "outputId": "96d281bc-2d7d-4263-e84a-3eef4a19549f"
      },
      "execution_count": 18,
      "outputs": [
        {
          "output_type": "stream",
          "name": "stdout",
          "text": [
            "Choosing the \"best\" French cheese can be subjective and depends on personal taste, as France offers a wide variety of exceptional cheeses. However, some French cheeses are world-renowned for their unique flavors and qualities. Here are a few notable ones:\n",
            "\n",
            "1. **Camembert de Normandie**: A soft, creamy cheese from the Normandy region, famous for its rich, buttery flavor and bloomy rind.\n",
            "\n",
            "2. **Brie de Meaux**: Often referred to as the \"King of Cheeses,\" this soft cheese from the Brie region is known for its velvety texture and slightly nutty taste.\n",
            "\n",
            "3. **Roquefort**: A classic blue cheese made from sheep's milk, known for its strong, tangy flavor and distinctive blue veins.\n",
            "\n",
            "4. **Comté**: A hard cheese from the Jura region, prized for its complex, nutty flavor that develops with age.\n",
            "\n",
            "5. **Époisses**: A washed-rind cheese from Burgundy, known for its pungent aroma and creamy, rich flavor.\n",
            "\n",
            "6. **Reblochon**: A soft washed-rind and smear-ripened cheese from the Alps, often used in the traditional dish tartiflette.\n",
            "\n",
            "7. **Beaufort**: A firm, Gruyère-style cheese from the Alps, known for its sweet and nutty flavor.\n",
            "\n",
            "8. **Munster**: A strong-tasting, soft washed-rind cheese from the Vosges region, often served with boiled potatoes.\n",
            "\n",
            "Each of these cheeses has its own unique characteristics and is beloved for different reasons. The \"best\" one for you will depend on your taste preferences and the context in which you plan to enjoy the cheese.\n"
          ]
        }
      ]
    },
    {
      "cell_type": "markdown",
      "source": [
        "# BOB TRAVEL APP"
      ],
      "metadata": {
        "id": "DjA7Fi2H2JIr"
      }
    },
    {
      "cell_type": "code",
      "source": [
        "from IPython.display import Markdown\n",
        "import textwrap\n",
        "def to_markdown(text):\n",
        "  text = text.replace('•', '  *')\n",
        "  return Markdown(textwrap.indent(text, '> ', predicate=lambda _: True))"
      ],
      "metadata": {
        "id": "strCIUnwX2u8"
      },
      "execution_count": 19,
      "outputs": []
    },
    {
      "cell_type": "code",
      "source": [
        "prompt= 'How do you plan out your trip? \\\n",
        "Bob is travelling to SAT from YVR \\\n",
        "1. He has a connection in DFW \\\n",
        "2. His connection is 6 hours long \\\n",
        "3. He has a budget of 100.00 including meals \\\n",
        "4. What can he do? Please suggest a time. \\\n",
        "5. Know- he is a hiker, museum, foodie, has a carry-on bag'\n",
        "\n",
        "print(prompt)\n",
        "\n",
        "response=mistral_chat(prompt,model,client,stream=False)\n",
        "\n",
        "print('\\n\\n')\n",
        "print('Answer: ')\n",
        "#print(response.choices[0].message.content)\n",
        "to_markdown(response.choices[0].message.content)"
      ],
      "metadata": {
        "id": "c5NHp3XLTCYU",
        "colab": {
          "base_uri": "https://localhost:8080/",
          "height": 905
        },
        "outputId": "20125c11-96d6-4193-d635-bb15c1c2c9d9"
      },
      "execution_count": 20,
      "outputs": [
        {
          "output_type": "stream",
          "name": "stdout",
          "text": [
            "How do you plan out your trip? Bob is travelling to SAT from YVR 1. He has a connection in DFW 2. His connection is 6 hours long 3. He has a budget of 100.00 including meals 4. What can he do? Please suggest a time. 5. Know- he is a hiker, museum, foodie, has a carry-on bag\n",
            "\n",
            "\n",
            "\n",
            "Answer: \n"
          ]
        },
        {
          "output_type": "execute_result",
          "data": {
            "text/plain": [
              "<IPython.core.display.Markdown object>"
            ],
            "text/markdown": "> To help Bob plan his trip from Vancouver International Airport (YVR) to San Antonio International Airport (SAT) with a connection in Dallas/Fort Worth International Airport (DFW), let's break down his itinerary and suggest activities during his 6-hour layover, keeping in mind his interests and budget.\n> \n> ### Step-by-Step Plan\n> \n> 1. **Flight Details:**\n>    - **Departure:** YVR to DFW\n>    - **Layover:** DFW (6 hours)\n>    - **Final Destination:** DFW to SAT\n> \n> 2. **Budget:**\n>    - Total: $100.00\n>    - This includes meals and any activities or transportation costs.\n> \n> 3. **Things to Consider:**\n>    - Bob is a hiker, museum enthusiast, and foodie.\n>    - He has a carry-on bag.\n> \n> ### Suggested Itinerary\n> \n> #### 1. Arrival at DFW\n> - **Time of Arrival:** Let's assume Bob arrives at DFW around 10:00 AM.\n> - **Bag Storage:** Bob can store his carry-on bag at the airport's luggage storage facilities. There are usually lockers or baggage storage services available at DFW.\n> \n> #### 2. Transportation to Dallas\n> - **Option:** Take the DART (Dallas Area Rapid Transit) Orange Line from DFW Airport Station to Downtown Dallas.\n> - **Cost:** Approximately $2.50 for a two-hour pass.\n> - **Time:** 45 minutes one-way.\n> \n> #### 3. Activities in Downtown Dallas\n> \n> - **11:00 AM - 12:00 PM:** Visit the **Dallas Museum of Art (DMA).**\n>   - **Admission:** Free, but donations are welcome.\n>   - **Why:** Bob enjoys museums, and this is a great opportunity to explore world-class art.\n> \n> - **12:00 PM - 1:00 PM:** Lunch at **Klyde Warren Park.**\n>   - There are food trucks available with various options.\n>   - **Budget:** Approximately $15.00 for a meal.\n> \n> - **1:00 PM - 2:30 PM:** Visit the **Dallas Arts District.**\n>   - **Why:** This area has public art, parks, and interesting architecture, which will appeal to Bob's love for museums and cultural experiences.\n> \n> #### 4. Return to DFW\n> - **2:30 PM:** Take the DART Orange Line back to DFW Airport Station.\n> - **Time:** 45 minutes.\n> \n> #### 5. Additional Time at DFW\n> - **3:15 PM - 4:00 PM:** Grab a snack at one of the airport's food courts.\n>   - **Budget:** Approximately $10.00.\n>   - **Why:** Bob is a foodie, and there are plenty of options to satisfy his culinary interests.\n> \n> ### Total Budget Breakdown\n> - **Transportation:** $5.00 (DART round trip)\n> - **Lunch:** $15.00\n> - **Snack:** $10.00\n> - **Museum:** Free (donation optional)\n> - **Total Spent:** $30.00\n> \n> ### Remaining Budget\n> - **Left:** $70.00\n> \n> ### Additional Tips\n> - **Hydration and Snacks:** Make sure to stay hydrated and carry some snacks for the trip.\n> - **Comfortable Shoes:** Wear comfortable shoes for walking around.\n> - **Time Management:** Keep an eye on the time to ensure you return to the airport with enough buffer for security and boarding.\n> \n> By following this plan, Bob can enjoy his layover in Dallas, explore some of the city's cultural highlights, and stay within his budget."
          },
          "metadata": {},
          "execution_count": 20
        }
      ]
    },
    {
      "cell_type": "markdown",
      "source": [
        "## BOB TRAVEL TO LONDON"
      ],
      "metadata": {
        "id": "1HVn7eHKpD_D"
      }
    },
    {
      "cell_type": "code",
      "source": [
        "prompt = \"\"\"\n",
        "        \\n\\nHuman: How do you plan out your trip?\n",
        "\n",
        "        Here's a scenario:\n",
        "\n",
        "        A traveler is visiting London.\n",
        "\n",
        "        Trip Details:\n",
        "        1. The traveler has the following preferences: They enjoy history, art, and trying new foods. They prefer walking or public transportation.\n",
        "        2. The trip starts on 2025-05-15 and ends on 2025-05-25.\n",
        "        3. The traveler is interested in activities like visiting museums, historical sites, exploring local markets, and trying authentic cuisine.\n",
        "\n",
        "        The Question:\n",
        "        Considering the traveler's preferences, desired location, trip dates, and preferred activities, please provide a detailed itinerary.\n",
        "\n",
        "        Important Considerations:\n",
        "        * Time: The traveler has limited time and needs to account for travel time between activities.\n",
        "        * Budget: Suggest activities that are reasonably priced or free.\n",
        "        * Interests: Focus on activities that align with the traveler's preferences.\n",
        "\n",
        "        Desired Output:\n",
        "        Provide a structured response in JSON format with the following details:\n",
        "\n",
        "        * \"title\": A title for the itinerary.\n",
        "        * \"description\": A brief description of the itinerary.\n",
        "        * \"days\": A list of days, each containing:\n",
        "            * \"day\": The day number (e.g., 1, 2, 3).\n",
        "            * \"activities\": A list of activities for that day, each containing:\n",
        "                * \"name\": The name of the activity.\n",
        "                * \"description\": A description of the activity.\n",
        "                * \"duration\": The estimated duration of the activity.\n",
        "                * \"cost\": The estimated cost of the activity.\n",
        "        \\n\\nAssistant:\n",
        "        \"\"\"\n",
        "\n",
        "print(prompt)\n",
        "\n",
        "response=mistral_chat(prompt,model,client,stream=False)\n",
        "\n",
        "print('\\n\\n')\n",
        "print('Answer: ')\n",
        "#print(response.choices[0].message.content)\n",
        "to_markdown(response.choices[0].message.content)"
      ],
      "metadata": {
        "colab": {
          "base_uri": "https://localhost:8080/",
          "height": 1000
        },
        "id": "kM9Pid-5neeh",
        "outputId": "b9320582-fb18-45df-b308-4d18f6da1c19"
      },
      "execution_count": 21,
      "outputs": [
        {
          "output_type": "stream",
          "name": "stdout",
          "text": [
            "\n",
            "        \n",
            "\n",
            "Human: How do you plan out your trip?\n",
            "\n",
            "        Here's a scenario:\n",
            "\n",
            "        A traveler is visiting London.\n",
            "\n",
            "        Trip Details:\n",
            "        1. The traveler has the following preferences: They enjoy history, art, and trying new foods. They prefer walking or public transportation.\n",
            "        2. The trip starts on 2025-05-15 and ends on 2025-05-25.\n",
            "        3. The traveler is interested in activities like visiting museums, historical sites, exploring local markets, and trying authentic cuisine.\n",
            "\n",
            "        The Question:\n",
            "        Considering the traveler's preferences, desired location, trip dates, and preferred activities, please provide a detailed itinerary.\n",
            "\n",
            "        Important Considerations:\n",
            "        * Time: The traveler has limited time and needs to account for travel time between activities.\n",
            "        * Budget: Suggest activities that are reasonably priced or free.\n",
            "        * Interests: Focus on activities that align with the traveler's preferences.\n",
            "\n",
            "        Desired Output:\n",
            "        Provide a structured response in JSON format with the following details:\n",
            "\n",
            "        * \"title\": A title for the itinerary.\n",
            "        * \"description\": A brief description of the itinerary.\n",
            "        * \"days\": A list of days, each containing:\n",
            "            * \"day\": The day number (e.g., 1, 2, 3).\n",
            "            * \"activities\": A list of activities for that day, each containing:\n",
            "                * \"name\": The name of the activity.\n",
            "                * \"description\": A description of the activity.\n",
            "                * \"duration\": The estimated duration of the activity.\n",
            "                * \"cost\": The estimated cost of the activity.\n",
            "        \n",
            "\n",
            "Assistant:\n",
            "        \n",
            "\n",
            "\n",
            "\n",
            "Answer: \n"
          ]
        },
        {
          "output_type": "execute_result",
          "data": {
            "text/plain": [
              "<IPython.core.display.Markdown object>"
            ],
            "text/markdown": "> ```json\n> {\n>     \"title\": \"Historic and Culinary Delights of London\",\n>     \"description\": \"A 10-day itinerary focusing on history, art, and food in London, using public transportation and walking.\",\n>     \"days\": [\n>         {\n>             \"day\": 1,\n>             \"activities\": [\n>                 {\n>                     \"name\": \"Arrival and Check-in\",\n>                     \"description\": \"Arrive in London and check into your accommodation.\",\n>                     \"duration\": \"2 hours\",\n>                     \"cost\": \"Free\"\n>                 },\n>                 {\n>                     \"name\": \"Explore Local Area\",\n>                     \"description\": \"Walk around the local area to get familiar with surroundings.\",\n>                     \"duration\": \"2 hours\",\n>                     \"cost\": \"Free\"\n>                 }\n>             ]\n>         },\n>         {\n>             \"day\": 2,\n>             \"activities\": [\n>                 {\n>                     \"name\": \"British Museum\",\n>                     \"description\": \"Explore the extensive collection of world art and artifacts.\",\n>                     \"duration\": \"4 hours\",\n>                     \"cost\": \"Free\"\n>                 },\n>                 {\n>                     \"name\": \"Lunch at Borough Market\",\n>                     \"description\": \"Try various food stalls offering international cuisines.\",\n>                     \"duration\": \"2 hours\",\n>                     \"cost\": \"£10-20\"\n>                 }\n>             ]\n>         },\n>         {\n>             \"day\": 3,\n>             \"activities\": [\n>                 {\n>                     \"name\": \"National Gallery\",\n>                     \"description\": \"Visit the iconic art museum showcasing masterpieces from the 13th to the 19th century.\",\n>                     \"duration\": \"3 hours\",\n>                     \"cost\": \"Free\"\n>                 },\n>                 {\n>                     \"name\": \"Dinner at Dishoom\",\n>                     \"description\": \"Enjoy authentic Indian cuisine at this popular restaurant.\",\n>                     \"duration\": \"2 hours\",\n>                     \"cost\": \"£20-30\"\n>                 }\n>             ]\n>         },\n>         {\n>             \"day\": 4,\n>             \"activities\": [\n>                 {\n>                     \"name\": \"Tower of London\",\n>                     \"description\": \"Explore the historic castle and see the Crown Jewels.\",\n>                     \"duration\": \"3 hours\",\n>                     \"cost\": \"£25\"\n>                 },\n>                 {\n>                     \"name\": \"Afternoon Walk along the Thames\",\n>                     \"description\": \"Take a leisurely walk along the Thames River.\",\n>                     \"duration\": \"2 hours\",\n>                     \"cost\": \"Free\"\n>                 }\n>             ]\n>         },\n>         {\n>             \"day\": 5,\n>             \"activities\": [\n>                 {\n>                     \"name\": \"V&A Museum\",\n>                     \"description\": \"Visit the world's largest museum of applied and decorative arts and design.\",\n>                     \"duration\": \"3 hours\",\n>                     \"cost\": \"Free\"\n>                 },\n>                 {\n>                     \"name\": \"Lunch at a Local Pub\",\n>                     \"description\": \"Try traditional British pub fare.\",\n>                     \"duration\": \"2 hours\",\n>                     \"cost\": \"£10-20\"\n>                 }\n>             ]\n>         },\n>         {\n>             \"day\": 6,\n>             \"activities\": [\n>                 {\n>                     \"name\": \"Kew Gardens\",\n>                     \"description\": \"Explore the beautiful botanical gardens.\",\n>                     \"duration\": \"4 hours\",\n>                     \"cost\": \"£17\"\n>                 },\n>                 {\n>                     \"name\": \"Dinner at a Local Restaurant\",\n>                     \"description\": \"Try a local restaurant in the area.\",\n>                     \"duration\": \"2 hours\",\n>                     \"cost\": \"£20-30\"\n>                 }\n>             ]\n>         },\n>         {\n>             \"day\": 7,\n>             \"activities\": [\n>                 {\n>                     \"name\": \"St. Paul's Cathedral\",\n>                     \"description\": \"Visit the iconic cathedral and its stunning architecture.\",\n>                     \"duration\": \"2 hours\",\n>                     \"cost\": \"£18\"\n>                 },\n>                 {\n>                     \"name\": \"Afternoon at Covent Garden\",\n>                     \"description\": \"Explore the shops, markets, and street performers.\",\n>                     \"duration\": \"3 hours\",\n>                     \"cost\": \"Free\"\n>                 }\n>             ]\n>         },\n>         {\n>             \"day\": 8,\n>             \"activities\": [\n>                 {\n>                     \"name\": \"Tate Modern\",\n>                     \"description\": \"Visit the modern art gallery housed in a former power station.\",\n>                     \"duration\": \"3 hours\",\n>                     \"cost\": \"Free\"\n>                 },\n>                 {\n>                     \"name\": \"Lunch at a Local Café\",\n>                     \"description\": \"Enjoy a meal at a nearby café.\",\n>                     \"duration\": \"2 hours\",\n>                     \"cost\": \"£10-20\"\n>                 }\n>             ]\n>         },\n>         {\n>             \"day\": 9,\n>             \"activities\": [\n>                 {\n>                     \"name\": \"Natural History Museum\",\n>                     \"description\": \"Explore the vast array of specimens and exhibits.\",\n>                     \"duration\": \"3 hours\",\n>                     \"cost\": \"Free\"\n>                 },\n>                 {\n>                     \"name\": \"Dinner at a Local Restaurant\",\n>                     \"description\": \"Try a new restaurant for dinner.\",\n>                     \"duration\": \"2 hours\",\n>                     \"cost\": \"£20-30\"\n>                 }\n>             ]\n>         },\n>         {\n>             \"day\": 10,\n>             \"activities\": [\n>                 {\n>                     \"name\": \"Free Day for Exploration\",\n>                     \"description\": \"Spend the day exploring places of personal interest or revisiting favorite spots.\",\n>                     \"duration\": \"All day\",\n>                     \"cost\": \"Varies\"\n>                 },\n>                 {\n>                     \"name\": \"Departure\",\n>                     \"description\": \"Check out of accommodation and depart from London.\",\n>                     \"duration\": \"2 hours\",\n>                     \"cost\": \"Free\"\n>                 }\n>             ]\n>         }\n>     ]\n> }\n> ```"
          },
          "metadata": {},
          "execution_count": 21
        }
      ]
    }
  ]
}