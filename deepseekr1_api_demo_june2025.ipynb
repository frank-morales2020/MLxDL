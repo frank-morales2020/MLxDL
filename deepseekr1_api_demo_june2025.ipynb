{
  "nbformat": 4,
  "nbformat_minor": 0,
  "metadata": {
    "colab": {
      "provenance": [],
      "authorship_tag": "ABX9TyPgHL94roZpLLqcJ32URNGk",
      "include_colab_link": true
    },
    "kernelspec": {
      "name": "python3",
      "display_name": "Python 3"
    },
    "language_info": {
      "name": "python"
    }
  },
  "cells": [
    {
      "cell_type": "markdown",
      "metadata": {
        "id": "view-in-github",
        "colab_type": "text"
      },
      "source": [
        "<a href=\"https://colab.research.google.com/github/frank-morales2020/MLxDL/blob/main/deepseekr1_api_demo_june2025.ipynb\" target=\"_parent\"><img src=\"https://colab.research.google.com/assets/colab-badge.svg\" alt=\"Open In Colab\"/></a>"
      ]
    },
    {
      "cell_type": "markdown",
      "source": [
        "https://platform.deepseek.com/usage"
      ],
      "metadata": {
        "id": "98Eun0SeAurK"
      }
    },
    {
      "cell_type": "code",
      "source": [
        "!pip3 install openai -q"
      ],
      "metadata": {
        "id": "frxYY0WF4h6G"
      },
      "execution_count": 2,
      "outputs": []
    },
    {
      "cell_type": "code",
      "source": [
        "from google.colab import userdata\n",
        "\n",
        "import os\n",
        "deepseek_api_key = userdata.get('DEEPSEEK_API_KEY')"
      ],
      "metadata": {
        "id": "0sGZzo7348P9"
      },
      "execution_count": 4,
      "outputs": []
    },
    {
      "cell_type": "markdown",
      "source": [
        "* The deepseek-chat model points to DeepSeek-V3-0324. You can invoke it by specifying model='deepseek-chat'.\n",
        "\n",
        "* The deepseek-reasoner model points to DeepSeek-R1-0528. You can invoke it by specifying model='deepseek-reasoner'\n",
        "\n",
        "https://huggingface.co/deepseek-ai/DeepSeek-R1-0528?utm_campaign=The%20Batch&utm_medium=email&_hsenc=p2ANqtz--M3NQ_S2i2a4-YigM_g7yAl65J52ZDkfTOAs4rKcQS5b4sBcaw8xHQxWdvtC9-m5_DNtdk92DS5nC5r5inVdTsTJvNZQ&_hsmi=364910056&utm_content=364905475&utm_source=hs_email"
      ],
      "metadata": {
        "id": "-4yplFU38glR"
      }
    },
    {
      "cell_type": "code",
      "execution_count": 7,
      "metadata": {
        "colab": {
          "base_uri": "https://localhost:8080/",
          "height": 0
        },
        "id": "KCkUrAJY399p",
        "outputId": "eb192924-bb59-454d-cce2-08b7fb1126eb"
      },
      "outputs": [
        {
          "output_type": "stream",
          "name": "stdout",
          "text": [
            "Hello! 😊 How can I help you today?\n"
          ]
        }
      ],
      "source": [
        "# Please install OpenAI SDK first: `pip3 install openai`\n",
        "\n",
        "from openai import OpenAI\n",
        "\n",
        "client = OpenAI(api_key=deepseek_api_key, base_url=\"https://api.deepseek.com\")\n",
        "\n",
        "response = client.chat.completions.create(\n",
        "    #model=\"deepseek-chat\",\n",
        "    model=\"deepseek-reasoner\",\n",
        "    messages=[\n",
        "        {\"role\": \"system\", \"content\": \"You are a helpful assistant\"},\n",
        "        {\"role\": \"user\", \"content\": \"Hello\"},\n",
        "    ],\n",
        "    stream=False\n",
        ")\n",
        "\n",
        "print(response.choices[0].message.content)"
      ]
    },
    {
      "cell_type": "code",
      "source": [
        "def deepseek_chat(prompt,model):\n",
        "  response = client.chat.completions.create(\n",
        "    #model=\"deepseek-chat\",\n",
        "    #model=\"deepseek-reasoner\",\n",
        "    model=model,\n",
        "    messages=[\n",
        "        {\"role\": \"system\", \"content\": \"You are a helpful assistant\"},\n",
        "        {\"role\": \"user\", \"content\": prompt},\n",
        "    ],\n",
        "    stream=False\n",
        "  )\n",
        "\n",
        "  print()\n",
        "  print(\"-\" * 80)\n",
        "  print('Model: %s'%model)\n",
        "  print(\"-\" * 80)\n",
        "  print('\\n')\n",
        "\n",
        "  print(\"-\" * 80)\n",
        "  print('Question: %s'%prompt)\n",
        "  print(\"-\" * 80)\n",
        "  print('\\n')\n",
        "\n",
        "  print('Answer: ')\n",
        "  print(response.choices[0].message.content)\n",
        "  #return message.content[0].text\n",
        "  return response.choices[0].message.content"
      ],
      "metadata": {
        "id": "dJ6igw2e9E9H"
      },
      "execution_count": 16,
      "outputs": []
    },
    {
      "cell_type": "code",
      "source": [
        "prompt = \"What is the capital of France?\"\n",
        "response = deepseek_chat(prompt,'deepseek-chat')\n",
        "print(response)"
      ],
      "metadata": {
        "colab": {
          "base_uri": "https://localhost:8080/",
          "height": 0
        },
        "id": "6ZAPaH8U9gLR",
        "outputId": "6afea6c4-c3c1-4558-8bde-c6898cf8461f"
      },
      "execution_count": 18,
      "outputs": [
        {
          "output_type": "stream",
          "name": "stdout",
          "text": [
            "\n",
            "--------------------------------------------------------------------------------\n",
            "Model: deepseek-chat\n",
            "--------------------------------------------------------------------------------\n",
            "\n",
            "\n",
            "--------------------------------------------------------------------------------\n",
            "Question: What is the capital of France?\n",
            "--------------------------------------------------------------------------------\n",
            "\n",
            "\n",
            "Answer: \n",
            "The capital of France is **Paris**. \n",
            "\n",
            "Paris is known for its iconic landmarks such as the Eiffel Tower, the Louvre Museum, and the Notre-Dame Cathedral. It is also a major global hub for art, fashion, gastronomy, and culture. \n",
            "\n",
            "Let me know if you'd like more details!\n",
            "The capital of France is **Paris**. \n",
            "\n",
            "Paris is known for its iconic landmarks such as the Eiffel Tower, the Louvre Museum, and the Notre-Dame Cathedral. It is also a major global hub for art, fashion, gastronomy, and culture. \n",
            "\n",
            "Let me know if you'd like more details!\n"
          ]
        }
      ]
    },
    {
      "cell_type": "code",
      "source": [
        "prompt= 'How do you plan out your trip? \\\n",
        "Bob is travelling to SAT from YVR \\\n",
        "1. He has a connection in DFW \\\n",
        "2. His connection is 6 hours long \\\n",
        "3. He has a budget of 100.00 including meals \\\n",
        "4. What can he do? Please suggest a time. \\\n",
        "5. Know- he is a hiker, museum, foodie, has a carry-on bag'\n",
        "\n",
        "response = deepseek_chat(prompt,\"deepseek-reasoner\")\n",
        "print(response)"
      ],
      "metadata": {
        "colab": {
          "base_uri": "https://localhost:8080/",
          "height": 0
        },
        "id": "zNZvsmz4-DIe",
        "outputId": "f74749cc-f99d-45bc-f0b8-ad5265d5c56a"
      },
      "execution_count": 19,
      "outputs": [
        {
          "output_type": "stream",
          "name": "stdout",
          "text": [
            "\n",
            "--------------------------------------------------------------------------------\n",
            "Model: deepseek-reasoner\n",
            "--------------------------------------------------------------------------------\n",
            "\n",
            "\n",
            "--------------------------------------------------------------------------------\n",
            "Question: How do you plan out your trip? Bob is travelling to SAT from YVR 1. He has a connection in DFW 2. His connection is 6 hours long 3. He has a budget of 100.00 including meals 4. What can he do? Please suggest a time. 5. Know- he is a hiker, museum, foodie, has a carry-on bag\n",
            "--------------------------------------------------------------------------------\n",
            "\n",
            "\n",
            "Answer: \n",
            "Based on Bob's interests (hiking, museums, food), budget ($100), and constraints (6-hour layover at DFW with carry-on only), here's a tailored plan:\n",
            "\n",
            "### **Recommended Itinerary:**\n",
            "**Total Time Needed:** 4–5 hours (allowing 1–1.5 hours for security re-entry)  \n",
            "**Budget Allocation:** $45–$65 (covers transit, activities, and a meal)  \n",
            "**Focus:** Quick outdoor walk, aviation museum, and local food—all within 15 minutes of DFW.\n",
            "\n",
            "---\n",
            "\n",
            "### **Step-by-Step Plan:**\n",
            "1. **Leave DFW via Rideshare/Taxi (15 mins, $15–20 round trip):**  \n",
            "   - Exit the secure area, call an Uber/Lyft/taxi to **Founders Plaza Observation Area** (free entry, open 7am–7pm).  \n",
            "   - *Why?* Scenic walking paths with aircraft views—satisfies Bob's hiking interest without true trails.  \n",
            "   - *Time:* 45–60 mins (walking, photos, plane spotting). Carry-on friendly.\n",
            "\n",
            "2. **Visit the C.R. Smith Museum (45–60 mins, $10 entry):**  \n",
            "   - *Why?* Aviation/history museum (American Airlines’ heritage) with interactive exhibits—perfect for a museum lover.  \n",
            "   - *Transit:* 5-min rideshare from Founders Plaza ($5–8 one-way). Open 9am–5pm (confirm hours online).  \n",
            "   - *Note:* Free admission if he shows a same-day boarding pass (verify policy; budget for worst case).\n",
            "\n",
            "3. **Lunch at Local BBQ Spot ($20–$30):**  \n",
            "   - Eat at **In-N-Out Burger** (iconic, budget-friendly) near the museum or **Hard Eight BBQ** (Texas-style, 10-min drive).  \n",
            "   - *Foodie pick:* Hard Eight for brisket/ribs (meal ~$15–25). Uber there and back to DFW ($10–15 total).\n",
            "\n",
            "4. **Return to DFW (allow 1.5 hours pre-flight):**  \n",
            "   - Re-enter security by **4:30 PM** (for a 6:00 PM flight). TSA PreCheck lines are faster if available.\n",
            "\n",
            "---\n",
            "\n",
            "### **Key Details:**\n",
            "- **Timeline Example (if flight arrives at 12:00 PM):**  \n",
            "  - 12:00–12:30 PM: Deplane, exit security.  \n",
            "  - 12:45 PM: Uber to Founders Plaza (arrive by 1:00 PM).  \n",
            "  - 1:00–1:45 PM: Walk/explore Founders Plaza.  \n",
            "  - 1:45 PM: Uber to C.R. Smith Museum (arrive by 2:00 PM).  \n",
            "  - 2:00–3:00 PM: Museum visit.  \n",
            "  - 3:00 PM: Uber to Hard Eight BBQ (lunch until 3:45 PM).  \n",
            "  - 4:00 PM: Return to DFW, clear security by 4:30 PM.  \n",
            "  - 5:00 PM: Arrive at gate for 6:00 PM flight.  \n",
            "\n",
            "- **Budget Breakdown:**  \n",
            "  - Transit: $25–35 (round-trip Ubers)  \n",
            "  - Museum: $0–10 (free with boarding pass or low-cost)  \n",
            "  - Meal: $20–25 (substantial BBQ meal + drink)  \n",
            "  - **Total:** $45–70 (well under $100).  \n",
            "\n",
            "---\n",
            "\n",
            "### **Why This Works:**\n",
            "- **Hiker:** Founders Plaza offers open-air walking with skyline/runway views.  \n",
            "- **Museum Buff:** C.R. Smith delivers history/tech exhibits.  \n",
            "- **Foodie:** Authentic Texas BBQ within budget.  \n",
            "- **Carry-On:** All locations accommodate bags.  \n",
            "- **Safety:** Short Ubers minimize traffic/security risks.  \n",
            "\n",
            "### **If Stuck Airside:**\n",
            "- **DFW Terminal D:** Walk art galleries (free), eat at **Cousin’s Bar-B-Q** ($15–20), and people-watch at Skylink viewpoints. Budget: $25. Less ideal but zero transit risk.  \n",
            "\n",
            "Bob gets culture, nature, and local flavor without stressing his budget or timeline! 🛫\n",
            "Based on Bob's interests (hiking, museums, food), budget ($100), and constraints (6-hour layover at DFW with carry-on only), here's a tailored plan:\n",
            "\n",
            "### **Recommended Itinerary:**\n",
            "**Total Time Needed:** 4–5 hours (allowing 1–1.5 hours for security re-entry)  \n",
            "**Budget Allocation:** $45–$65 (covers transit, activities, and a meal)  \n",
            "**Focus:** Quick outdoor walk, aviation museum, and local food—all within 15 minutes of DFW.\n",
            "\n",
            "---\n",
            "\n",
            "### **Step-by-Step Plan:**\n",
            "1. **Leave DFW via Rideshare/Taxi (15 mins, $15–20 round trip):**  \n",
            "   - Exit the secure area, call an Uber/Lyft/taxi to **Founders Plaza Observation Area** (free entry, open 7am–7pm).  \n",
            "   - *Why?* Scenic walking paths with aircraft views—satisfies Bob's hiking interest without true trails.  \n",
            "   - *Time:* 45–60 mins (walking, photos, plane spotting). Carry-on friendly.\n",
            "\n",
            "2. **Visit the C.R. Smith Museum (45–60 mins, $10 entry):**  \n",
            "   - *Why?* Aviation/history museum (American Airlines’ heritage) with interactive exhibits—perfect for a museum lover.  \n",
            "   - *Transit:* 5-min rideshare from Founders Plaza ($5–8 one-way). Open 9am–5pm (confirm hours online).  \n",
            "   - *Note:* Free admission if he shows a same-day boarding pass (verify policy; budget for worst case).\n",
            "\n",
            "3. **Lunch at Local BBQ Spot ($20–$30):**  \n",
            "   - Eat at **In-N-Out Burger** (iconic, budget-friendly) near the museum or **Hard Eight BBQ** (Texas-style, 10-min drive).  \n",
            "   - *Foodie pick:* Hard Eight for brisket/ribs (meal ~$15–25). Uber there and back to DFW ($10–15 total).\n",
            "\n",
            "4. **Return to DFW (allow 1.5 hours pre-flight):**  \n",
            "   - Re-enter security by **4:30 PM** (for a 6:00 PM flight). TSA PreCheck lines are faster if available.\n",
            "\n",
            "---\n",
            "\n",
            "### **Key Details:**\n",
            "- **Timeline Example (if flight arrives at 12:00 PM):**  \n",
            "  - 12:00–12:30 PM: Deplane, exit security.  \n",
            "  - 12:45 PM: Uber to Founders Plaza (arrive by 1:00 PM).  \n",
            "  - 1:00–1:45 PM: Walk/explore Founders Plaza.  \n",
            "  - 1:45 PM: Uber to C.R. Smith Museum (arrive by 2:00 PM).  \n",
            "  - 2:00–3:00 PM: Museum visit.  \n",
            "  - 3:00 PM: Uber to Hard Eight BBQ (lunch until 3:45 PM).  \n",
            "  - 4:00 PM: Return to DFW, clear security by 4:30 PM.  \n",
            "  - 5:00 PM: Arrive at gate for 6:00 PM flight.  \n",
            "\n",
            "- **Budget Breakdown:**  \n",
            "  - Transit: $25–35 (round-trip Ubers)  \n",
            "  - Museum: $0–10 (free with boarding pass or low-cost)  \n",
            "  - Meal: $20–25 (substantial BBQ meal + drink)  \n",
            "  - **Total:** $45–70 (well under $100).  \n",
            "\n",
            "---\n",
            "\n",
            "### **Why This Works:**\n",
            "- **Hiker:** Founders Plaza offers open-air walking with skyline/runway views.  \n",
            "- **Museum Buff:** C.R. Smith delivers history/tech exhibits.  \n",
            "- **Foodie:** Authentic Texas BBQ within budget.  \n",
            "- **Carry-On:** All locations accommodate bags.  \n",
            "- **Safety:** Short Ubers minimize traffic/security risks.  \n",
            "\n",
            "### **If Stuck Airside:**\n",
            "- **DFW Terminal D:** Walk art galleries (free), eat at **Cousin’s Bar-B-Q** ($15–20), and people-watch at Skylink viewpoints. Budget: $25. Less ideal but zero transit risk.  \n",
            "\n",
            "Bob gets culture, nature, and local flavor without stressing his budget or timeline! 🛫\n"
          ]
        }
      ]
    },
    {
      "cell_type": "markdown",
      "source": [
        "## TTP AGENT"
      ],
      "metadata": {
        "id": "WjfaZXgvDuRz"
      }
    },
    {
      "cell_type": "markdown",
      "source": [
        "Cell 1: Install Necessary Libraries"
      ],
      "metadata": {
        "id": "pjrxmo3sHqI_"
      }
    },
    {
      "cell_type": "code",
      "source": [
        "!pip install crewai -q\n",
        "!pip install 'crewai[tools]' -q\n",
        "!pip install openai -q"
      ],
      "metadata": {
        "id": "6k0-Hr5FDywh"
      },
      "execution_count": null,
      "outputs": []
    },
    {
      "cell_type": "markdown",
      "source": [
        "Cell 2: Set Up DeepSeek API Key"
      ],
      "metadata": {
        "id": "vkqBMuqIHswz"
      }
    },
    {
      "cell_type": "code",
      "source": [
        "from google.colab import userdata\n",
        "import os\n",
        "\n",
        "# Retrieve the DeepSeek API Key from Colab's userdata secrets\n",
        "deepseek_api_key = userdata.get('DEEPSEEK_API_KEY')\n",
        "\n",
        "if not deepseek_api_key:\n",
        "    raise ValueError(\"DEEPSEEK_API_KEY not found in Colab secrets. Please add it.\")\n",
        "\n",
        "DEEPSEEK_API_KEY = deepseek_api_key # Assign to the variable used in subsequent cells"
      ],
      "metadata": {
        "id": "ZBKWCPDED9d9"
      },
      "execution_count": 21,
      "outputs": []
    },
    {
      "cell_type": "markdown",
      "source": [
        "Cell 3: Define a Custom Tool for DeepSeek Interaction (using BaseTool)"
      ],
      "metadata": {
        "id": "Roe3mkFsHSJJ"
      }
    },
    {
      "cell_type": "code",
      "source": [
        "from crewai.tools import BaseTool\n",
        "from openai import OpenAI\n",
        "from pydantic import Field\n",
        "\n",
        "class DeepSeekChatTool(BaseTool):\n",
        "    name: str = \"DeepSeekChatTool\"\n",
        "    description: str = \"A powerful AI model for generating responses based on prompts.\"\n",
        "\n",
        "    client: OpenAI = Field(default=None, exclude=True)\n",
        "\n",
        "    # Add model_name as a field to be accessible in _run\n",
        "    model_name: str = Field(default='deepseek-reasoner')\n",
        "\n",
        "    def __init__(self, api_key: str, model_name: str = 'deepseek-reasoner', tool_name: str = \"DeepSeek Reasoner\", tool_description: str = \"A powerful AI model capable of complex reasoning and generating detailed plans, useful for creating travel itineraries and solving logistical problems.\", **data):\n",
        "        # Ensure tool_name and tool_description are passed to the superclass\n",
        "        super().__init__(name=tool_name, description=tool_description, **data)\n",
        "\n",
        "        # Initialize client and model_name\n",
        "        self.client = OpenAI(api_key=api_key, base_url=\"https://api.deepseek.com\")\n",
        "        self.model_name = model_name # Store model_name\n",
        "\n",
        "    def _run(self, prompt: str) -> str:\n",
        "        \"\"\"\n",
        "        Interacts with the DeepSeek model to get a response based on the prompt.\n",
        "        \"\"\"\n",
        "\n",
        "        #print(f\"Debug: Tool received prompt of type: {type(prompt)}\")\n",
        "        #print(f\"Debug: Tool received prompt value: {prompt}\")\n",
        "\n",
        "        if not isinstance(prompt, str):\n",
        "             # If the prompt is not a string, try to find the relevant text\n",
        "             # This is a heuristic and might need adjustment based on what's actually passed\n",
        "             if isinstance(prompt, dict) and 'description' in prompt:\n",
        "                 actual_prompt = prompt['description']\n",
        "                 #print(f\"Debug: Extracted prompt from dictionary: {actual_prompt}\")\n",
        "             else:\n",
        "                 #print(\"Debug: Could not extract string prompt from input.\")\n",
        "                 # Re-raise the error or handle it appropriately\n",
        "                 raise ValueError(f\"Expected prompt to be a string, but received {type(prompt)}\")\n",
        "        else:\n",
        "            actual_prompt = prompt\n",
        "\n",
        "\n",
        "        response = self.client.chat.completions.create(\n",
        "            model=self.model_name, # Use the stored model_name\n",
        "            messages=[\n",
        "                {\"role\": \"system\", \"content\": \"You are a helpful assistant.\"},\n",
        "                {\"role\": \"user\", \"content\": actual_prompt}, # Use the potentially extracted prompt\n",
        "            ],\n",
        "            stream=False\n",
        "        )\n",
        "        return response.choices[0].message.content\n",
        "\n",
        "# Instantiate the tool with model_name being explicitly passed\n",
        "deepseek_reasoner_tool = DeepSeekChatTool(\n",
        "    api_key=DEEPSEEK_API_KEY,\n",
        "    model_name='deepseek-reasoner',\n",
        "    tool_name=\"DeepSeek Reasoner\",\n",
        "    tool_description=\"A powerful AI model capable of complex reasoning and generating detailed plans, useful for creating travel itineraries and solving logistical problems.\"\n",
        ")\n",
        "\n",
        "deepseek_chat_tool = DeepSeekChatTool(\n",
        "    api_key=DEEPSEEK_API_KEY,\n",
        "    model_name='deepseek-chat',\n",
        "    tool_name=\"DeepSeek Chat\",\n",
        "    tool_description=\"A general-purpose AI model for conversational tasks and information retrieval.\"\n",
        ")"
      ],
      "metadata": {
        "id": "FflS3gGrESKf"
      },
      "execution_count": 40,
      "outputs": []
    },
    {
      "cell_type": "markdown",
      "source": [
        "Cell 4: Define Your Agents"
      ],
      "metadata": {
        "id": "TbJQH4kDH0bP"
      }
    },
    {
      "cell_type": "code",
      "source": [
        "from crewai import Agent\n",
        "\n",
        "# Agent 1: Itinerary Planner\n",
        "itinerary_planner = Agent(\n",
        "    role='Expert Travel Itinerary Creator',\n",
        "    goal='Create comprehensive and personalized tourism travel itineraries based on user interests, budget, and time constraints.',\n",
        "    backstory=\"You are a seasoned travel agent with a knack for crafting perfect trips. You use advanced AI to generate detailed plans.\",\n",
        "    tools=[deepseek_reasoner_tool], # This agent needs the reasoning capability\n",
        "    verbose=False\n",
        ")\n",
        "\n",
        "# Agent 2: Local Activities Recommender\n",
        "local_activities_recommender = Agent(\n",
        "    role='Local Expert and Activity Specialist',\n",
        "    goal='Suggest relevant local activities and attractions that align with traveler preferences and layover constraints.',\n",
        "    backstory=\"You know all the hidden gems and popular spots in any city. You ensure the traveler makes the most of their time.\",\n",
        "    tools=[deepseek_reasoner_tool], # Can also use the reasoner for more nuanced suggestions\n",
        "    verbose=False\n",
        ")\n",
        "\n",
        "# Agent 3: Budget and Logistics Manager\n",
        "budget_logistics_manager = Agent(\n",
        "    role='Financial and Logistical Advisor',\n",
        "    goal='Manage the travel budget and provide practical logistical advice for transportation and timing.',\n",
        "    backstory=\"You are meticulous with numbers and timings, ensuring the trip stays within budget and runs smoothly.\",\n",
        "    tools=[deepseek_reasoner_tool], # Reasoning is key for budget allocation and timing\n",
        "    verbose=False\n",
        ")"
      ],
      "metadata": {
        "id": "9t4SbkKTFxN-"
      },
      "execution_count": 44,
      "outputs": []
    },
    {
      "cell_type": "markdown",
      "source": [
        "Cell 5: Define Your Tasks"
      ],
      "metadata": {
        "id": "7ACjP8nvIAKN"
      }
    },
    {
      "cell_type": "code",
      "source": [
        "from crewai import Task\n",
        "\n",
        "# Task for the Itinerary Planner\n",
        "plan_itinerary_task = Task(\n",
        "    description=(\n",
        "        \"Generate a detailed tourism travel itinerary for a traveler with the following profile:\\n\"\n",
        "        \"- Departing from YVR, connecting in DFW for 6 hours, final destination SAT.\\n\"\n",
        "        \"- Budget: $100 including meals.\\n\"\n",
        "        \"- Interests: hiker, museum lover, foodie.\\n\"\n",
        "        \"- Has a carry-on bag only.\\n\"\n",
        "        \"The itinerary should include recommended activities, budget breakdown, and a clear timeline, \"\n",
        "        \"as demonstrated in the example plan from the DeepSeek API demo for Bob's trip. \"\n",
        "        \"Ensure the output format is markdown.\"\n",
        "    ),\n",
        "    agent=itinerary_planner,\n",
        "    output_file='dfw_layover_itinerary.md', # Save the output\n",
        "    expected_output=\"A markdown formatted, comprehensive tourism travel itinerary including timeline, budget, and activities for a DFW layover based on the provided user profile, similar to the example in the DeepSeek API demo.\"\n",
        ")"
      ],
      "metadata": {
        "id": "si2O1auzF6yB"
      },
      "execution_count": 45,
      "outputs": []
    },
    {
      "cell_type": "markdown",
      "source": [
        "Cell 6: Form the Crew and Run"
      ],
      "metadata": {
        "id": "IHMDCvzaIGp2"
      }
    },
    {
      "cell_type": "code",
      "source": [
        "from crewai import Crew, Process\n",
        "\n",
        "crew = Crew(\n",
        "    agents=[itinerary_planner, local_activities_recommender, budget_logistics_manager],\n",
        "    tasks=[plan_itinerary_task],\n",
        "    verbose=False, # Increased verbosity for detailed logs\n",
        "    process=Process.sequential # Agents execute tasks one after another\n",
        ")\n",
        "\n",
        "print(\"Starting the DFW Layover Tourism Planning Crew...\")\n",
        "result = crew.kickoff()\n",
        "print(\"\\n\\n########################\")\n",
        "print(\"## DFW Layover Itinerary ##\")\n",
        "print(\"########################\\n\")\n",
        "print(result)"
      ],
      "metadata": {
        "colab": {
          "base_uri": "https://localhost:8080/"
        },
        "id": "PwKkpAh2GALk",
        "outputId": "44c9a5f8-aedb-4d37-bb49-2084f766b4a3"
      },
      "execution_count": 46,
      "outputs": [
        {
          "output_type": "stream",
          "name": "stdout",
          "text": [
            "Starting the DFW Layover Tourism Planning Crew...\n",
            "\n",
            "\n",
            "########################\n",
            "## DFW Layover Itinerary ##\n",
            "########################\n",
            "\n",
            "### DFW Layover Itinerary: Vancouver (YVR) → Dallas (DFW) → San Antonio (SAT)  \n",
            "**Layover Duration:** 6 hours  \n",
            "**Interests:** Hiking, Museums, Food  \n",
            "**Budget:** $100 (meals + activities)  \n",
            "**Key Constraints:** Immigration clearance (YVR→DFW is international), security re-entry, and luggage recheck. *Leaving the airport is risky due to time limits; this itinerary focuses on secure, in-airport experiences.*  \n",
            "\n",
            "---\n",
            "\n",
            "### **Timeline & Activities**  \n",
            "*(Assuming arrival at DFW Terminal D at 10:00 AM; next flight at 4:00 PM)*  \n",
            "\n",
            "#### **10:00 AM – 11:30 AM: Arrival & Immigration**  \n",
            "- Deplane and clear U.S. immigration/customs (allow 60–90 mins).  \n",
            "- Recheck luggage for SAT flight.  \n",
            "- *Pro Tip:* Use Mobile Passport Control app to expedite queues.  \n",
            "\n",
            "#### **11:30 AM – 1:00 PM: Food & Exploration**  \n",
            "- **Lunch at Whitetail Bistro (Terminal D, Gate D40)**  \n",
            "  - Texan cuisine: Brisket tacos ($14) or quinoa bowl ($12).  \n",
            "  - Budget: $15 (meal + water).  \n",
            "- **Activity: DFW Art Tour**  \n",
            "  - Visit Terminal D’s rotating art exhibits (free). Highlights: Aviation history murals and sculpture installations.  \n",
            "\n",
            "#### **1:00 PM – 2:30 PM: \"Hiking\" & Relaxation**  \n",
            "- **Terminal Walking Trail**  \n",
            "  - Power-walk the 1.7-mile Skylink train loop (free; 20-min ride with stops at all 5 terminals). Views of runways and architecture.  \n",
            "- **Yoga/Relaxation**  \n",
            "  - Unwind at Terminal D’s yoga room (mats provided) or Founders’ Plaza viewing area (indoor; plane spotting).  \n",
            "\n",
            "#### **2:30 PM – 3:30 PM: Mini-Museum & Pre-Flight**  \n",
            "- **Aviation Discovery Center (Terminal D, near Gate D12)**  \n",
            "  - Interactive exhibits on flight tech and DFW history (free).  \n",
            "- **Grab a Snack**  \n",
            "  - Sweet treat: Bluebonnet Café (Terminal D) kolache pastry ($4).  \n",
            "- Head to SAT gate by 3:15 PM for boarding.  \n",
            "\n",
            "---\n",
            "\n",
            "### **Budget Breakdown**  \n",
            "| Item | Cost | Notes |  \n",
            "|------|------|-------|  \n",
            "| Lunch at Whitetail Bistro | $15 | Texan flavors, large portions |  \n",
            "| Snack at Bluebonnet Café | $4 | Local pastry |  \n",
            "| Water/Soda | $3 | Vending machines |  \n",
            "| **Total** | **$22** | *Well under $100!* |  \n",
            "\n",
            "*Unused funds can cover meals in SAT.*  \n",
            "\n",
            "---\n",
            "\n",
            "### **Key Tips**  \n",
            "1. **Time Safety:** Immigration can take 1–2+ hours; prioritize re-entering security by 2:30 PM.  \n",
            "2. **DFW Navigation:** Use the free Skylink train (2-min frequency) to zip between terminals.  \n",
            "3. **Alternatives if Delayed:**  \n",
            "   - Terminal E’s live music stage (post-security).  \n",
            "   - Quick museum: \"Walking Path\" aviation history displays (all terminals).  \n",
            "4. **Avoid Leaving Airport:** Nearby parks/museums (e.g., Grapevine Botanical Gardens) require 45+ mins travel each way — too tight for a 6-hour layover.  \n",
            "\n",
            "Enjoy your taste of Texas and safe travels to SAT! 🌵✈️\n"
          ]
        }
      ]
    }
  ]
}