{
  "nbformat": 4,
  "nbformat_minor": 0,
  "metadata": {
    "colab": {
      "provenance": [],
      "authorship_tag": "ABX9TyNY0tf2WPsd6Z+2sL/k/znx",
      "include_colab_link": true
    },
    "kernelspec": {
      "name": "python3",
      "display_name": "Python 3"
    },
    "language_info": {
      "name": "python"
    }
  },
  "cells": [
    {
      "cell_type": "markdown",
      "metadata": {
        "id": "view-in-github",
        "colab_type": "text"
      },
      "source": [
        "<a href=\"https://colab.research.google.com/github/frank-morales2020/MLxDL/blob/main/deepseekr1_api_demo_june2025.ipynb\" target=\"_parent\"><img src=\"https://colab.research.google.com/assets/colab-badge.svg\" alt=\"Open In Colab\"/></a>"
      ]
    },
    {
      "cell_type": "markdown",
      "source": [
        "https://platform.deepseek.com/usage"
      ],
      "metadata": {
        "id": "98Eun0SeAurK"
      }
    },
    {
      "cell_type": "code",
      "source": [
        "!pip3 install openai -q"
      ],
      "metadata": {
        "id": "frxYY0WF4h6G"
      },
      "execution_count": 2,
      "outputs": []
    },
    {
      "cell_type": "code",
      "source": [
        "from google.colab import userdata\n",
        "\n",
        "import os\n",
        "deepseek_api_key = userdata.get('DEEPSEEK_API_KEY')"
      ],
      "metadata": {
        "id": "0sGZzo7348P9"
      },
      "execution_count": 4,
      "outputs": []
    },
    {
      "cell_type": "markdown",
      "source": [
        "* The deepseek-chat model points to DeepSeek-V3-0324. You can invoke it by specifying model='deepseek-chat'.\n",
        "\n",
        "* The deepseek-reasoner model points to DeepSeek-R1-0528. You can invoke it by specifying model='deepseek-reasoner'\n",
        "\n",
        "https://huggingface.co/deepseek-ai/DeepSeek-R1-0528?utm_campaign=The%20Batch&utm_medium=email&_hsenc=p2ANqtz--M3NQ_S2i2a4-YigM_g7yAl65J52ZDkfTOAs4rKcQS5b4sBcaw8xHQxWdvtC9-m5_DNtdk92DS5nC5r5inVdTsTJvNZQ&_hsmi=364910056&utm_content=364905475&utm_source=hs_email"
      ],
      "metadata": {
        "id": "-4yplFU38glR"
      }
    },
    {
      "cell_type": "code",
      "execution_count": 7,
      "metadata": {
        "colab": {
          "base_uri": "https://localhost:8080/",
          "height": 0
        },
        "id": "KCkUrAJY399p",
        "outputId": "eb192924-bb59-454d-cce2-08b7fb1126eb"
      },
      "outputs": [
        {
          "output_type": "stream",
          "name": "stdout",
          "text": [
            "Hello! 😊 How can I help you today?\n"
          ]
        }
      ],
      "source": [
        "# Please install OpenAI SDK first: `pip3 install openai`\n",
        "\n",
        "from openai import OpenAI\n",
        "\n",
        "client = OpenAI(api_key=deepseek_api_key, base_url=\"https://api.deepseek.com\")\n",
        "\n",
        "response = client.chat.completions.create(\n",
        "    #model=\"deepseek-chat\",\n",
        "    model=\"deepseek-reasoner\",\n",
        "    messages=[\n",
        "        {\"role\": \"system\", \"content\": \"You are a helpful assistant\"},\n",
        "        {\"role\": \"user\", \"content\": \"Hello\"},\n",
        "    ],\n",
        "    stream=False\n",
        ")\n",
        "\n",
        "print(response.choices[0].message.content)"
      ]
    },
    {
      "cell_type": "code",
      "source": [
        "def deepseek_chat(prompt,model):\n",
        "  response = client.chat.completions.create(\n",
        "    #model=\"deepseek-chat\",\n",
        "    #model=\"deepseek-reasoner\",\n",
        "    model=model,\n",
        "    messages=[\n",
        "        {\"role\": \"system\", \"content\": \"You are a helpful assistant\"},\n",
        "        {\"role\": \"user\", \"content\": prompt},\n",
        "    ],\n",
        "    stream=False\n",
        "  )\n",
        "\n",
        "  print()\n",
        "  print(\"-\" * 80)\n",
        "  print('Model: %s'%model)\n",
        "  print(\"-\" * 80)\n",
        "  print('\\n')\n",
        "\n",
        "  print(\"-\" * 80)\n",
        "  print('Question: %s'%prompt)\n",
        "  print(\"-\" * 80)\n",
        "  print('\\n')\n",
        "\n",
        "  print('Answer: ')\n",
        "  print(response.choices[0].message.content)\n",
        "  #return message.content[0].text\n",
        "  return response.choices[0].message.content"
      ],
      "metadata": {
        "id": "dJ6igw2e9E9H"
      },
      "execution_count": 16,
      "outputs": []
    },
    {
      "cell_type": "code",
      "source": [
        "prompt = \"What is the capital of France?\"\n",
        "response = deepseek_chat(prompt,'deepseek-chat')\n",
        "print(response)"
      ],
      "metadata": {
        "colab": {
          "base_uri": "https://localhost:8080/",
          "height": 0
        },
        "id": "6ZAPaH8U9gLR",
        "outputId": "6afea6c4-c3c1-4558-8bde-c6898cf8461f"
      },
      "execution_count": 18,
      "outputs": [
        {
          "output_type": "stream",
          "name": "stdout",
          "text": [
            "\n",
            "--------------------------------------------------------------------------------\n",
            "Model: deepseek-chat\n",
            "--------------------------------------------------------------------------------\n",
            "\n",
            "\n",
            "--------------------------------------------------------------------------------\n",
            "Question: What is the capital of France?\n",
            "--------------------------------------------------------------------------------\n",
            "\n",
            "\n",
            "Answer: \n",
            "The capital of France is **Paris**. \n",
            "\n",
            "Paris is known for its iconic landmarks such as the Eiffel Tower, the Louvre Museum, and the Notre-Dame Cathedral. It is also a major global hub for art, fashion, gastronomy, and culture. \n",
            "\n",
            "Let me know if you'd like more details!\n",
            "The capital of France is **Paris**. \n",
            "\n",
            "Paris is known for its iconic landmarks such as the Eiffel Tower, the Louvre Museum, and the Notre-Dame Cathedral. It is also a major global hub for art, fashion, gastronomy, and culture. \n",
            "\n",
            "Let me know if you'd like more details!\n"
          ]
        }
      ]
    },
    {
      "cell_type": "code",
      "source": [
        "prompt= 'How do you plan out your trip? \\\n",
        "Bob is travelling to SAT from YVR \\\n",
        "1. He has a connection in DFW \\\n",
        "2. His connection is 6 hours long \\\n",
        "3. He has a budget of 100.00 including meals \\\n",
        "4. What can he do? Please suggest a time. \\\n",
        "5. Know- he is a hiker, museum, foodie, has a carry-on bag'\n",
        "\n",
        "response = deepseek_chat(prompt,\"deepseek-reasoner\")\n",
        "print(response)"
      ],
      "metadata": {
        "colab": {
          "base_uri": "https://localhost:8080/",
          "height": 0
        },
        "id": "zNZvsmz4-DIe",
        "outputId": "f74749cc-f99d-45bc-f0b8-ad5265d5c56a"
      },
      "execution_count": 19,
      "outputs": [
        {
          "output_type": "stream",
          "name": "stdout",
          "text": [
            "\n",
            "--------------------------------------------------------------------------------\n",
            "Model: deepseek-reasoner\n",
            "--------------------------------------------------------------------------------\n",
            "\n",
            "\n",
            "--------------------------------------------------------------------------------\n",
            "Question: How do you plan out your trip? Bob is travelling to SAT from YVR 1. He has a connection in DFW 2. His connection is 6 hours long 3. He has a budget of 100.00 including meals 4. What can he do? Please suggest a time. 5. Know- he is a hiker, museum, foodie, has a carry-on bag\n",
            "--------------------------------------------------------------------------------\n",
            "\n",
            "\n",
            "Answer: \n",
            "Based on Bob's interests (hiking, museums, food), budget ($100), and constraints (6-hour layover at DFW with carry-on only), here's a tailored plan:\n",
            "\n",
            "### **Recommended Itinerary:**\n",
            "**Total Time Needed:** 4–5 hours (allowing 1–1.5 hours for security re-entry)  \n",
            "**Budget Allocation:** $45–$65 (covers transit, activities, and a meal)  \n",
            "**Focus:** Quick outdoor walk, aviation museum, and local food—all within 15 minutes of DFW.\n",
            "\n",
            "---\n",
            "\n",
            "### **Step-by-Step Plan:**\n",
            "1. **Leave DFW via Rideshare/Taxi (15 mins, $15–20 round trip):**  \n",
            "   - Exit the secure area, call an Uber/Lyft/taxi to **Founders Plaza Observation Area** (free entry, open 7am–7pm).  \n",
            "   - *Why?* Scenic walking paths with aircraft views—satisfies Bob's hiking interest without true trails.  \n",
            "   - *Time:* 45–60 mins (walking, photos, plane spotting). Carry-on friendly.\n",
            "\n",
            "2. **Visit the C.R. Smith Museum (45–60 mins, $10 entry):**  \n",
            "   - *Why?* Aviation/history museum (American Airlines’ heritage) with interactive exhibits—perfect for a museum lover.  \n",
            "   - *Transit:* 5-min rideshare from Founders Plaza ($5–8 one-way). Open 9am–5pm (confirm hours online).  \n",
            "   - *Note:* Free admission if he shows a same-day boarding pass (verify policy; budget for worst case).\n",
            "\n",
            "3. **Lunch at Local BBQ Spot ($20–$30):**  \n",
            "   - Eat at **In-N-Out Burger** (iconic, budget-friendly) near the museum or **Hard Eight BBQ** (Texas-style, 10-min drive).  \n",
            "   - *Foodie pick:* Hard Eight for brisket/ribs (meal ~$15–25). Uber there and back to DFW ($10–15 total).\n",
            "\n",
            "4. **Return to DFW (allow 1.5 hours pre-flight):**  \n",
            "   - Re-enter security by **4:30 PM** (for a 6:00 PM flight). TSA PreCheck lines are faster if available.\n",
            "\n",
            "---\n",
            "\n",
            "### **Key Details:**\n",
            "- **Timeline Example (if flight arrives at 12:00 PM):**  \n",
            "  - 12:00–12:30 PM: Deplane, exit security.  \n",
            "  - 12:45 PM: Uber to Founders Plaza (arrive by 1:00 PM).  \n",
            "  - 1:00–1:45 PM: Walk/explore Founders Plaza.  \n",
            "  - 1:45 PM: Uber to C.R. Smith Museum (arrive by 2:00 PM).  \n",
            "  - 2:00–3:00 PM: Museum visit.  \n",
            "  - 3:00 PM: Uber to Hard Eight BBQ (lunch until 3:45 PM).  \n",
            "  - 4:00 PM: Return to DFW, clear security by 4:30 PM.  \n",
            "  - 5:00 PM: Arrive at gate for 6:00 PM flight.  \n",
            "\n",
            "- **Budget Breakdown:**  \n",
            "  - Transit: $25–35 (round-trip Ubers)  \n",
            "  - Museum: $0–10 (free with boarding pass or low-cost)  \n",
            "  - Meal: $20–25 (substantial BBQ meal + drink)  \n",
            "  - **Total:** $45–70 (well under $100).  \n",
            "\n",
            "---\n",
            "\n",
            "### **Why This Works:**\n",
            "- **Hiker:** Founders Plaza offers open-air walking with skyline/runway views.  \n",
            "- **Museum Buff:** C.R. Smith delivers history/tech exhibits.  \n",
            "- **Foodie:** Authentic Texas BBQ within budget.  \n",
            "- **Carry-On:** All locations accommodate bags.  \n",
            "- **Safety:** Short Ubers minimize traffic/security risks.  \n",
            "\n",
            "### **If Stuck Airside:**\n",
            "- **DFW Terminal D:** Walk art galleries (free), eat at **Cousin’s Bar-B-Q** ($15–20), and people-watch at Skylink viewpoints. Budget: $25. Less ideal but zero transit risk.  \n",
            "\n",
            "Bob gets culture, nature, and local flavor without stressing his budget or timeline! 🛫\n",
            "Based on Bob's interests (hiking, museums, food), budget ($100), and constraints (6-hour layover at DFW with carry-on only), here's a tailored plan:\n",
            "\n",
            "### **Recommended Itinerary:**\n",
            "**Total Time Needed:** 4–5 hours (allowing 1–1.5 hours for security re-entry)  \n",
            "**Budget Allocation:** $45–$65 (covers transit, activities, and a meal)  \n",
            "**Focus:** Quick outdoor walk, aviation museum, and local food—all within 15 minutes of DFW.\n",
            "\n",
            "---\n",
            "\n",
            "### **Step-by-Step Plan:**\n",
            "1. **Leave DFW via Rideshare/Taxi (15 mins, $15–20 round trip):**  \n",
            "   - Exit the secure area, call an Uber/Lyft/taxi to **Founders Plaza Observation Area** (free entry, open 7am–7pm).  \n",
            "   - *Why?* Scenic walking paths with aircraft views—satisfies Bob's hiking interest without true trails.  \n",
            "   - *Time:* 45–60 mins (walking, photos, plane spotting). Carry-on friendly.\n",
            "\n",
            "2. **Visit the C.R. Smith Museum (45–60 mins, $10 entry):**  \n",
            "   - *Why?* Aviation/history museum (American Airlines’ heritage) with interactive exhibits—perfect for a museum lover.  \n",
            "   - *Transit:* 5-min rideshare from Founders Plaza ($5–8 one-way). Open 9am–5pm (confirm hours online).  \n",
            "   - *Note:* Free admission if he shows a same-day boarding pass (verify policy; budget for worst case).\n",
            "\n",
            "3. **Lunch at Local BBQ Spot ($20–$30):**  \n",
            "   - Eat at **In-N-Out Burger** (iconic, budget-friendly) near the museum or **Hard Eight BBQ** (Texas-style, 10-min drive).  \n",
            "   - *Foodie pick:* Hard Eight for brisket/ribs (meal ~$15–25). Uber there and back to DFW ($10–15 total).\n",
            "\n",
            "4. **Return to DFW (allow 1.5 hours pre-flight):**  \n",
            "   - Re-enter security by **4:30 PM** (for a 6:00 PM flight). TSA PreCheck lines are faster if available.\n",
            "\n",
            "---\n",
            "\n",
            "### **Key Details:**\n",
            "- **Timeline Example (if flight arrives at 12:00 PM):**  \n",
            "  - 12:00–12:30 PM: Deplane, exit security.  \n",
            "  - 12:45 PM: Uber to Founders Plaza (arrive by 1:00 PM).  \n",
            "  - 1:00–1:45 PM: Walk/explore Founders Plaza.  \n",
            "  - 1:45 PM: Uber to C.R. Smith Museum (arrive by 2:00 PM).  \n",
            "  - 2:00–3:00 PM: Museum visit.  \n",
            "  - 3:00 PM: Uber to Hard Eight BBQ (lunch until 3:45 PM).  \n",
            "  - 4:00 PM: Return to DFW, clear security by 4:30 PM.  \n",
            "  - 5:00 PM: Arrive at gate for 6:00 PM flight.  \n",
            "\n",
            "- **Budget Breakdown:**  \n",
            "  - Transit: $25–35 (round-trip Ubers)  \n",
            "  - Museum: $0–10 (free with boarding pass or low-cost)  \n",
            "  - Meal: $20–25 (substantial BBQ meal + drink)  \n",
            "  - **Total:** $45–70 (well under $100).  \n",
            "\n",
            "---\n",
            "\n",
            "### **Why This Works:**\n",
            "- **Hiker:** Founders Plaza offers open-air walking with skyline/runway views.  \n",
            "- **Museum Buff:** C.R. Smith delivers history/tech exhibits.  \n",
            "- **Foodie:** Authentic Texas BBQ within budget.  \n",
            "- **Carry-On:** All locations accommodate bags.  \n",
            "- **Safety:** Short Ubers minimize traffic/security risks.  \n",
            "\n",
            "### **If Stuck Airside:**\n",
            "- **DFW Terminal D:** Walk art galleries (free), eat at **Cousin’s Bar-B-Q** ($15–20), and people-watch at Skylink viewpoints. Budget: $25. Less ideal but zero transit risk.  \n",
            "\n",
            "Bob gets culture, nature, and local flavor without stressing his budget or timeline! 🛫\n"
          ]
        }
      ]
    }
  ]
}