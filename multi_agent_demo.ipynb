{
  "nbformat": 4,
  "nbformat_minor": 0,
  "metadata": {
    "colab": {
      "provenance": [],
      "machine_shape": "hm",
      "gpuType": "L4",
      "authorship_tag": "ABX9TyNxApagPD88mYcZavfvnx8c",
      "include_colab_link": true
    },
    "kernelspec": {
      "name": "python3",
      "display_name": "Python 3"
    },
    "language_info": {
      "name": "python"
    },
    "accelerator": "GPU",
    "widgets": {
      "application/vnd.jupyter.widget-state+json": {
        "1399a3411cfd41d98e2f8a06758c8d87": {
          "model_module": "@jupyter-widgets/controls",
          "model_name": "HBoxModel",
          "model_module_version": "1.5.0",
          "state": {
            "_dom_classes": [],
            "_model_module": "@jupyter-widgets/controls",
            "_model_module_version": "1.5.0",
            "_model_name": "HBoxModel",
            "_view_count": null,
            "_view_module": "@jupyter-widgets/controls",
            "_view_module_version": "1.5.0",
            "_view_name": "HBoxView",
            "box_style": "",
            "children": [
              "IPY_MODEL_571605ca7d5741f78336ac119425bacc",
              "IPY_MODEL_71150a8e6d8b4310aee7b9b15e71dbcb",
              "IPY_MODEL_69fde2dbe1ee4987ae5f78d90a5097d6"
            ],
            "layout": "IPY_MODEL_86a31e7d0f9349bb826f91e5545c4c11"
          }
        },
        "571605ca7d5741f78336ac119425bacc": {
          "model_module": "@jupyter-widgets/controls",
          "model_name": "HTMLModel",
          "model_module_version": "1.5.0",
          "state": {
            "_dom_classes": [],
            "_model_module": "@jupyter-widgets/controls",
            "_model_module_version": "1.5.0",
            "_model_name": "HTMLModel",
            "_view_count": null,
            "_view_module": "@jupyter-widgets/controls",
            "_view_module_version": "1.5.0",
            "_view_name": "HTMLView",
            "description": "",
            "description_tooltip": null,
            "layout": "IPY_MODEL_7144be81c6384feb94e57af4da3a6a39",
            "placeholder": "​",
            "style": "IPY_MODEL_034f57e3ed4645b983713aeda6e8b212",
            "value": "Loading checkpoint shards: 100%"
          }
        },
        "71150a8e6d8b4310aee7b9b15e71dbcb": {
          "model_module": "@jupyter-widgets/controls",
          "model_name": "FloatProgressModel",
          "model_module_version": "1.5.0",
          "state": {
            "_dom_classes": [],
            "_model_module": "@jupyter-widgets/controls",
            "_model_module_version": "1.5.0",
            "_model_name": "FloatProgressModel",
            "_view_count": null,
            "_view_module": "@jupyter-widgets/controls",
            "_view_module_version": "1.5.0",
            "_view_name": "ProgressView",
            "bar_style": "success",
            "description": "",
            "description_tooltip": null,
            "layout": "IPY_MODEL_9128b78943ff404998a84b74e65df5b7",
            "max": 2,
            "min": 0,
            "orientation": "horizontal",
            "style": "IPY_MODEL_5b8bc22391934a0abe86dc7f10534066",
            "value": 2
          }
        },
        "69fde2dbe1ee4987ae5f78d90a5097d6": {
          "model_module": "@jupyter-widgets/controls",
          "model_name": "HTMLModel",
          "model_module_version": "1.5.0",
          "state": {
            "_dom_classes": [],
            "_model_module": "@jupyter-widgets/controls",
            "_model_module_version": "1.5.0",
            "_model_name": "HTMLModel",
            "_view_count": null,
            "_view_module": "@jupyter-widgets/controls",
            "_view_module_version": "1.5.0",
            "_view_name": "HTMLView",
            "description": "",
            "description_tooltip": null,
            "layout": "IPY_MODEL_3c307b19e1e84d0d89a37ce1c0f0e543",
            "placeholder": "​",
            "style": "IPY_MODEL_f87e46823f0046898da46947ca79b405",
            "value": " 2/2 [00:04&lt;00:00,  2.24s/it]"
          }
        },
        "86a31e7d0f9349bb826f91e5545c4c11": {
          "model_module": "@jupyter-widgets/base",
          "model_name": "LayoutModel",
          "model_module_version": "1.2.0",
          "state": {
            "_model_module": "@jupyter-widgets/base",
            "_model_module_version": "1.2.0",
            "_model_name": "LayoutModel",
            "_view_count": null,
            "_view_module": "@jupyter-widgets/base",
            "_view_module_version": "1.2.0",
            "_view_name": "LayoutView",
            "align_content": null,
            "align_items": null,
            "align_self": null,
            "border": null,
            "bottom": null,
            "display": null,
            "flex": null,
            "flex_flow": null,
            "grid_area": null,
            "grid_auto_columns": null,
            "grid_auto_flow": null,
            "grid_auto_rows": null,
            "grid_column": null,
            "grid_gap": null,
            "grid_row": null,
            "grid_template_areas": null,
            "grid_template_columns": null,
            "grid_template_rows": null,
            "height": null,
            "justify_content": null,
            "justify_items": null,
            "left": null,
            "margin": null,
            "max_height": null,
            "max_width": null,
            "min_height": null,
            "min_width": null,
            "object_fit": null,
            "object_position": null,
            "order": null,
            "overflow": null,
            "overflow_x": null,
            "overflow_y": null,
            "padding": null,
            "right": null,
            "top": null,
            "visibility": null,
            "width": null
          }
        },
        "7144be81c6384feb94e57af4da3a6a39": {
          "model_module": "@jupyter-widgets/base",
          "model_name": "LayoutModel",
          "model_module_version": "1.2.0",
          "state": {
            "_model_module": "@jupyter-widgets/base",
            "_model_module_version": "1.2.0",
            "_model_name": "LayoutModel",
            "_view_count": null,
            "_view_module": "@jupyter-widgets/base",
            "_view_module_version": "1.2.0",
            "_view_name": "LayoutView",
            "align_content": null,
            "align_items": null,
            "align_self": null,
            "border": null,
            "bottom": null,
            "display": null,
            "flex": null,
            "flex_flow": null,
            "grid_area": null,
            "grid_auto_columns": null,
            "grid_auto_flow": null,
            "grid_auto_rows": null,
            "grid_column": null,
            "grid_gap": null,
            "grid_row": null,
            "grid_template_areas": null,
            "grid_template_columns": null,
            "grid_template_rows": null,
            "height": null,
            "justify_content": null,
            "justify_items": null,
            "left": null,
            "margin": null,
            "max_height": null,
            "max_width": null,
            "min_height": null,
            "min_width": null,
            "object_fit": null,
            "object_position": null,
            "order": null,
            "overflow": null,
            "overflow_x": null,
            "overflow_y": null,
            "padding": null,
            "right": null,
            "top": null,
            "visibility": null,
            "width": null
          }
        },
        "034f57e3ed4645b983713aeda6e8b212": {
          "model_module": "@jupyter-widgets/controls",
          "model_name": "DescriptionStyleModel",
          "model_module_version": "1.5.0",
          "state": {
            "_model_module": "@jupyter-widgets/controls",
            "_model_module_version": "1.5.0",
            "_model_name": "DescriptionStyleModel",
            "_view_count": null,
            "_view_module": "@jupyter-widgets/base",
            "_view_module_version": "1.2.0",
            "_view_name": "StyleView",
            "description_width": ""
          }
        },
        "9128b78943ff404998a84b74e65df5b7": {
          "model_module": "@jupyter-widgets/base",
          "model_name": "LayoutModel",
          "model_module_version": "1.2.0",
          "state": {
            "_model_module": "@jupyter-widgets/base",
            "_model_module_version": "1.2.0",
            "_model_name": "LayoutModel",
            "_view_count": null,
            "_view_module": "@jupyter-widgets/base",
            "_view_module_version": "1.2.0",
            "_view_name": "LayoutView",
            "align_content": null,
            "align_items": null,
            "align_self": null,
            "border": null,
            "bottom": null,
            "display": null,
            "flex": null,
            "flex_flow": null,
            "grid_area": null,
            "grid_auto_columns": null,
            "grid_auto_flow": null,
            "grid_auto_rows": null,
            "grid_column": null,
            "grid_gap": null,
            "grid_row": null,
            "grid_template_areas": null,
            "grid_template_columns": null,
            "grid_template_rows": null,
            "height": null,
            "justify_content": null,
            "justify_items": null,
            "left": null,
            "margin": null,
            "max_height": null,
            "max_width": null,
            "min_height": null,
            "min_width": null,
            "object_fit": null,
            "object_position": null,
            "order": null,
            "overflow": null,
            "overflow_x": null,
            "overflow_y": null,
            "padding": null,
            "right": null,
            "top": null,
            "visibility": null,
            "width": null
          }
        },
        "5b8bc22391934a0abe86dc7f10534066": {
          "model_module": "@jupyter-widgets/controls",
          "model_name": "ProgressStyleModel",
          "model_module_version": "1.5.0",
          "state": {
            "_model_module": "@jupyter-widgets/controls",
            "_model_module_version": "1.5.0",
            "_model_name": "ProgressStyleModel",
            "_view_count": null,
            "_view_module": "@jupyter-widgets/base",
            "_view_module_version": "1.2.0",
            "_view_name": "StyleView",
            "bar_color": null,
            "description_width": ""
          }
        },
        "3c307b19e1e84d0d89a37ce1c0f0e543": {
          "model_module": "@jupyter-widgets/base",
          "model_name": "LayoutModel",
          "model_module_version": "1.2.0",
          "state": {
            "_model_module": "@jupyter-widgets/base",
            "_model_module_version": "1.2.0",
            "_model_name": "LayoutModel",
            "_view_count": null,
            "_view_module": "@jupyter-widgets/base",
            "_view_module_version": "1.2.0",
            "_view_name": "LayoutView",
            "align_content": null,
            "align_items": null,
            "align_self": null,
            "border": null,
            "bottom": null,
            "display": null,
            "flex": null,
            "flex_flow": null,
            "grid_area": null,
            "grid_auto_columns": null,
            "grid_auto_flow": null,
            "grid_auto_rows": null,
            "grid_column": null,
            "grid_gap": null,
            "grid_row": null,
            "grid_template_areas": null,
            "grid_template_columns": null,
            "grid_template_rows": null,
            "height": null,
            "justify_content": null,
            "justify_items": null,
            "left": null,
            "margin": null,
            "max_height": null,
            "max_width": null,
            "min_height": null,
            "min_width": null,
            "object_fit": null,
            "object_position": null,
            "order": null,
            "overflow": null,
            "overflow_x": null,
            "overflow_y": null,
            "padding": null,
            "right": null,
            "top": null,
            "visibility": null,
            "width": null
          }
        },
        "f87e46823f0046898da46947ca79b405": {
          "model_module": "@jupyter-widgets/controls",
          "model_name": "DescriptionStyleModel",
          "model_module_version": "1.5.0",
          "state": {
            "_model_module": "@jupyter-widgets/controls",
            "_model_module_version": "1.5.0",
            "_model_name": "DescriptionStyleModel",
            "_view_count": null,
            "_view_module": "@jupyter-widgets/base",
            "_view_module_version": "1.2.0",
            "_view_name": "StyleView",
            "description_width": ""
          }
        }
      }
    }
  },
  "cells": [
    {
      "cell_type": "markdown",
      "metadata": {
        "id": "view-in-github",
        "colab_type": "text"
      },
      "source": [
        "<a href=\"https://colab.research.google.com/github/frank-morales2020/MLxDL/blob/main/multi_agent_demo.ipynb\" target=\"_parent\"><img src=\"https://colab.research.google.com/assets/colab-badge.svg\" alt=\"Open In Colab\"/></a>"
      ]
    },
    {
      "cell_type": "code",
      "source": [
        "!pip install smolagents -q\n",
        "!pip install bitsandbytes -q"
      ],
      "metadata": {
        "id": "4gGozxVo1tIg"
      },
      "execution_count": null,
      "outputs": []
    },
    {
      "cell_type": "code",
      "source": [
        "!nvidia-smi"
      ],
      "metadata": {
        "colab": {
          "base_uri": "https://localhost:8080/"
        },
        "id": "IirF9bS37VXm",
        "outputId": "b1aacd4b-cb20-4104-b0a5-d7fab33cb0f7"
      },
      "execution_count": 7,
      "outputs": [
        {
          "output_type": "stream",
          "name": "stdout",
          "text": [
            "Mon Jan 13 18:29:30 2025       \n",
            "+---------------------------------------------------------------------------------------+\n",
            "| NVIDIA-SMI 535.104.05             Driver Version: 535.104.05   CUDA Version: 12.2     |\n",
            "|-----------------------------------------+----------------------+----------------------+\n",
            "| GPU  Name                 Persistence-M | Bus-Id        Disp.A | Volatile Uncorr. ECC |\n",
            "| Fan  Temp   Perf          Pwr:Usage/Cap |         Memory-Usage | GPU-Util  Compute M. |\n",
            "|                                         |                      |               MIG M. |\n",
            "|=========================================+======================+======================|\n",
            "|   0  NVIDIA L4                      Off | 00000000:00:03.0 Off |                    0 |\n",
            "| N/A   76C    P0              34W /  72W |   8183MiB / 23034MiB |      0%      Default |\n",
            "|                                         |                      |                  N/A |\n",
            "+-----------------------------------------+----------------------+----------------------+\n",
            "                                                                                         \n",
            "+---------------------------------------------------------------------------------------+\n",
            "| Processes:                                                                            |\n",
            "|  GPU   GI   CI        PID   Type   Process name                            GPU Memory |\n",
            "|        ID   ID                                                             Usage      |\n",
            "|=======================================================================================|\n",
            "+---------------------------------------------------------------------------------------+\n"
          ]
        }
      ]
    },
    {
      "source": [
        "import os\n",
        "os.environ[\"PYTORCH_CUDA_ALLOC_CONF\"] = \"expandable_segments:True\"\n",
        "\n",
        "import torch\n",
        "import re\n",
        "\n",
        "from transformers import AutoTokenizer, AutoModelForCausalLM, pipeline, BitsAndBytesConfig\n",
        "from smolagents import CodeAgent, DuckDuckGoSearchTool, Tool\n",
        "\n",
        "# 1. Load the Llama 2 7B chat model with 4-bit quantization\n",
        "model_id = \"meta-llama/Llama-2-7b-chat-hf\"\n",
        "tokenizer = AutoTokenizer.from_pretrained(model_id)\n",
        "\n",
        "bnb_config = BitsAndBytesConfig(\n",
        "    load_in_4bit=True,\n",
        "    bnb_4bit_quant_type=\"nf4\",\n",
        "    bnb_4bit_use_double_quant=True,\n",
        "    bnb_4bit_compute_dtype=torch.bfloat16\n",
        ")\n",
        "\n",
        "model = AutoModelForCausalLM.from_pretrained(model_id, device_map=\"auto\", quantization_config=bnb_config)\n",
        "generator = pipeline(\"text-generation\", model=model, tokenizer=tokenizer)\n",
        "\n",
        "# 2. Define a wrapper to make the Llama 2 model compatible with smol_agents\n",
        "class Llama2Wrapper:\n",
        "    def __init__(self, generator, tokenizer):\n",
        "        self.generator = generator\n",
        "        self.tokenizer = tokenizer\n",
        "\n",
        "    def __call__(self, text, stop_sequences=None, **kwargs):\n",
        "        # Handle different input types\n",
        "        if isinstance(text, str):\n",
        "            pass  # If it's a string, no need to convert\n",
        "        elif isinstance(text, (list, dict)):\n",
        "            # If it's a list or dictionary, join elements into a single string\n",
        "            text = ' '.join([str(item) for item in text])\n",
        "        else:\n",
        "            text = str(text)  # Convert other types to a string\n",
        "\n",
        "        inputs = self.tokenizer(text, return_tensors=\"pt\")\n",
        "        input_ids = inputs.input_ids.to(self.generator.model.device)\n",
        "\n",
        "        # Generate output without stopping criteria\n",
        "        sequences = self.generator.model.generate(\n",
        "            input_ids=input_ids,\n",
        "            max_length=512,  # Control overall length\n",
        "            **kwargs\n",
        "        )\n",
        "        output = self.tokenizer.decode(sequences[0], skip_special_tokens=True)\n",
        "\n",
        "        # Post-processing to mimic stopping criteria\n",
        "        if stop_sequences:\n",
        "            for stop_seq in stop_sequences:\n",
        "                if stop_seq in output:\n",
        "                    output = output[:output.index(stop_seq)]  # Truncate at stop sequence\n",
        "                    break\n",
        "\n",
        "        return {\"generated_text\": output}\n",
        "\n",
        "# 3. Create the wrapped Llama 2 model\n",
        "llm = Llama2Wrapper(generator, tokenizer)\n",
        "\n",
        "# The question\n",
        "question = \"How many seconds would it take for a leopard at full speed to run through Pont des Arts?\"\n",
        "\n",
        "# Map answer choices to actual answers\n",
        "answer_choices = {\n",
        "    \"A\": \"10 seconds\",\n",
        "    \"B\": \"20 seconds\",\n",
        "    \"C\": \"30 seconds\",\n",
        "    \"D\": \"40 seconds\",\n",
        "    \"E\": \"50 seconds\"\n",
        "}\n",
        "\n",
        "# Modify the prompt and post-process the response with stricter filtering\n",
        "prompt = f\"\"\"\n",
        "The user asked: {question}\n",
        "\n",
        "Even though it's unlikely a leopard would run across Pont des Arts, let's make a hypothetical estimate.\n",
        "Consider the following:\n",
        "* The average speed of a leopard is around 58 km/h (36 mph).\n",
        "* The length of Pont des Arts is approximately 155 meters (509 feet).\n",
        "* Convert the speed to meters per second: 58 km/h * (1000 m/km) * (1 h/3600 s) ≈ 16.1 m/s\n",
        "* Divide the length of the bridge by the speed of the leopard: 155 m / 16.1 m/s ≈ 9.6 s\n",
        "\n",
        "Based on these factors, estimate how many seconds it might take.\n",
        "Choose the closest option:\n",
        "A. 10 seconds\n",
        "B. 20 seconds\n",
        "C. 30 seconds\n",
        "D. 40 seconds\n",
        "E. 50 seconds\n",
        "\n",
        "The closest option is: **A. 10 seconds**\n",
        "\n",
        "Respond with only the letter corresponding to the closest option:\n",
        "\"\"\"  # Stronger constraint and response format\n",
        "\n",
        "final_answer = llm(prompt)  # Directly call the language model\n",
        "final_answer_text = final_answer['generated_text'] # Assign output to final_answer_text\n",
        "\n",
        "# Post-process the response using regular expressions\n",
        "final_answer_text = re.sub(r\"[^A-E]\", \"\", final_answer_text)  # Remove anything that's not A-E\n",
        "final_answer_text = final_answer_text[0]  # Extract only the first letter\n",
        "\n",
        "# Get the actual answer from the answer choices\n",
        "actual_answer = answer_choices.get(final_answer_text)\n",
        "\n",
        "# Print the question and the answer\n",
        "#print(f\"Question: {question}\")\n",
        "#print(f\"Answer: {actual_answer}\") # Print the actual answer instead of just the letter\n"
      ],
      "cell_type": "code",
      "metadata": {
        "colab": {
          "base_uri": "https://localhost:8080/",
          "height": 66,
          "referenced_widgets": [
            "1399a3411cfd41d98e2f8a06758c8d87",
            "571605ca7d5741f78336ac119425bacc",
            "71150a8e6d8b4310aee7b9b15e71dbcb",
            "69fde2dbe1ee4987ae5f78d90a5097d6",
            "86a31e7d0f9349bb826f91e5545c4c11",
            "7144be81c6384feb94e57af4da3a6a39",
            "034f57e3ed4645b983713aeda6e8b212",
            "9128b78943ff404998a84b74e65df5b7",
            "5b8bc22391934a0abe86dc7f10534066",
            "3c307b19e1e84d0d89a37ce1c0f0e543",
            "f87e46823f0046898da46947ca79b405"
          ]
        },
        "id": "n2ZMt-_fuyE-",
        "outputId": "11bd56a4-6565-4f82-fa1d-6cbe80bef830"
      },
      "execution_count": 5,
      "outputs": [
        {
          "output_type": "display_data",
          "data": {
            "text/plain": [
              "Loading checkpoint shards:   0%|          | 0/2 [00:00<?, ?it/s]"
            ],
            "application/vnd.jupyter.widget-view+json": {
              "version_major": 2,
              "version_minor": 0,
              "model_id": "1399a3411cfd41d98e2f8a06758c8d87"
            }
          },
          "metadata": {}
        },
        {
          "output_type": "stream",
          "name": "stderr",
          "text": [
            "Device set to use cuda:0\n"
          ]
        }
      ]
    },
    {
      "cell_type": "code",
      "source": [
        "# Print the question and the answer\n",
        "print(f\"Question: {question}\")\n",
        "print(f\"Answer: {actual_answer}\") # Print the actual answer instead of just the letter"
      ],
      "metadata": {
        "colab": {
          "base_uri": "https://localhost:8080/"
        },
        "id": "JYQl-sQJ4JMp",
        "outputId": "4ce8174f-e576-4391-9c8a-5b18c26bed5d"
      },
      "execution_count": 6,
      "outputs": [
        {
          "output_type": "stream",
          "name": "stdout",
          "text": [
            "Question: How many seconds would it take for a leopard at full speed to run through Pont des Arts?\n",
            "Answer: 10 seconds\n"
          ]
        }
      ]
    }
  ]
}