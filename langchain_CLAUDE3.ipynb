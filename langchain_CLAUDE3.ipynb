{
  "nbformat": 4,
  "nbformat_minor": 0,
  "metadata": {
    "colab": {
      "provenance": [],
      "authorship_tag": "ABX9TyPfKRj/mXzn8ZwI7upX7WJF",
      "include_colab_link": true
    },
    "kernelspec": {
      "name": "python3",
      "display_name": "Python 3"
    },
    "language_info": {
      "name": "python"
    }
  },
  "cells": [
    {
      "cell_type": "markdown",
      "metadata": {
        "id": "view-in-github",
        "colab_type": "text"
      },
      "source": [
        "<a href=\"https://colab.research.google.com/github/frank-morales2020/MLxDL/blob/main/langchain_CLAUDE3.ipynb\" target=\"_parent\"><img src=\"https://colab.research.google.com/assets/colab-badge.svg\" alt=\"Open In Colab\"/></a>"
      ]
    },
    {
      "cell_type": "markdown",
      "source": [
        "https://python.langchain.com/v0.1/docs/integrations/platforms/anthropic/\n",
        "\n",
        "https://medium.com/@jayb7/unleash-your-own-ai-assistant-a-beginners-guide-langchain-claude-ai-3e7674ba1880"
      ],
      "metadata": {
        "id": "kquk0Lvr-0HZ"
      }
    },
    {
      "cell_type": "code",
      "execution_count": null,
      "metadata": {
        "id": "F7t041um98Kl"
      },
      "outputs": [],
      "source": [
        "!pip install langchain-anthropic -q\n",
        "!pip install anthropic -q\n",
        "!pip install colab-env --quiet"
      ]
    },
    {
      "cell_type": "code",
      "source": [
        "import anthropic\n",
        "import os\n",
        "import colab_env\n",
        "import json"
      ],
      "metadata": {
        "id": "uQ3HSeHFCzph"
      },
      "execution_count": 28,
      "outputs": []
    },
    {
      "cell_type": "code",
      "source": [
        "anthropic_api_key = os.environ[\"CLAUDE3_API_KEY\"]"
      ],
      "metadata": {
        "id": "MT-ztT3tB5Vh"
      },
      "execution_count": 11,
      "outputs": []
    },
    {
      "cell_type": "code",
      "source": [
        "from langchain_anthropic import ChatAnthropic\n",
        "llm = ChatAnthropic(anthropic_api_key=anthropic_api_key,model='claude-3-opus-20240229')"
      ],
      "metadata": {
        "id": "FXbYlHzz-X1Z"
      },
      "execution_count": 35,
      "outputs": []
    },
    {
      "cell_type": "code",
      "source": [
        "from langchain_anthropic import AnthropicLLM\n",
        "llm = AnthropicLLM(anthropic_api_key=anthropic_api_key,model='claude-2.1')"
      ],
      "metadata": {
        "id": "MWI5k4MKByu8"
      },
      "execution_count": 46,
      "outputs": []
    },
    {
      "cell_type": "code",
      "source": [
        "prompt= 'How do you plan out your trip? \\\n",
        "Bob is travelling to SAT from YVR \\\n",
        "1. He has a connection in DFW \\\n",
        "2. His connection is 6 hours long \\\n",
        "3. He has a budget of 100.00 including meals \\\n",
        "4. What can he do? Please suggest a time. \\\n",
        "5. Know- he is a hiker, museum, foodie, has a carry-on bag'\n",
        "\n",
        "response=llm(prompt)"
      ],
      "metadata": {
        "id": "bCmcRCaCAAgv"
      },
      "execution_count": 26,
      "outputs": []
    },
    {
      "cell_type": "code",
      "source": [
        "print(response)"
      ],
      "metadata": {
        "colab": {
          "base_uri": "https://localhost:8080/"
        },
        "id": "BYe15lp0Ekqx",
        "outputId": "add292b2-c13b-4305-eb02-97b4457733b1"
      },
      "execution_count": 27,
      "outputs": [
        {
          "output_type": "stream",
          "name": "stdout",
          "text": [
            "\n",
            "1. Bob is travelling from Vancouver International Airport (YVR) to San Antonio Texas (SAT airport). \n",
            "\n",
            "2. He has a connecting flight through Dallas Fort Worth (DFW airport).\n",
            "\n",
            "3. His connection time in DFW is 6 hours.\n",
            "\n",
            "4. His budget for that time, including meals, is $100.00.  \n",
            "\n",
            "5. Bob is a hiker, likes museums and food, and has a carry-on bag.\n",
            "\n",
            "He has quite a long layover in DFW, so here are some suggestions:\n",
            "\n",
            "- He could take DART light rail from the airport towards downtown and visit the Dallas Museum of Art (free admission) (15 min ride). He could spend 2 hours here and have lunch in the museum ($15-20). \n",
            "\n",
            "- He could visit on of DFW's main attraction - Founders Plaza. It has trails for a quick hike (1 hour), see some art and architecture, grab a sandwich ($10).  Total time 2 hours.\n",
            "\n",
            "- If Bob wants to experience the food scene in Texas, he could leave the airport and take a Lyft to a BBQ place like Hard Eight. Have a platter for $20 and visit for an hour. \n",
            "\n",
            "- He should plan to head back to the airport 3 hours before his flight, so any activity should be timed accordingly. I'd suggest aiming to be back around 2 hours before departure to get through security.\n",
            "\n",
            "Let me know if you need any other suggestions for Bob!\n"
          ]
        }
      ]
    },
    {
      "cell_type": "code",
      "source": [],
      "metadata": {
        "id": "g5ayU2uCHGNs"
      },
      "execution_count": null,
      "outputs": []
    },
    {
      "cell_type": "markdown",
      "source": [
        "https://python.langchain.com/v0.1/docs/integrations/chat/anthropic/"
      ],
      "metadata": {
        "id": "8Hgy5ZA0HIsp"
      }
    },
    {
      "cell_type": "code",
      "source": [
        "chat = ChatAnthropic(temperature=0, api_key=anthropic_api_key, model_name=\"claude-3-opus-20240229\")"
      ],
      "metadata": {
        "id": "x2kq3jhvG1KX"
      },
      "execution_count": 49,
      "outputs": []
    },
    {
      "cell_type": "code",
      "source": [
        "response=chat.predict('capital city of canada')"
      ],
      "metadata": {
        "id": "WvRE2jFPHkPU"
      },
      "execution_count": 52,
      "outputs": []
    },
    {
      "cell_type": "code",
      "source": [
        "print(response)"
      ],
      "metadata": {
        "colab": {
          "base_uri": "https://localhost:8080/"
        },
        "id": "buTvRtW-H83j",
        "outputId": "978eeda1-c612-4d29-933d-20b70fce0c28"
      },
      "execution_count": 53,
      "outputs": [
        {
          "output_type": "stream",
          "name": "stdout",
          "text": [
            "The capital city of Canada is Ottawa, located in the province of Ontario. Ottawa is situated on the banks of the Ottawa River, which forms the border between Ontario and Quebec. Some key facts about Ottawa:\n",
            "\n",
            "1. Ottawa was chosen as the capital of the Province of Canada by Queen Victoria in 1857 and later became the national capital in 1867 when Canada gained independence.\n",
            "\n",
            "2. The city is home to Parliament Hill, which houses the Parliament of Canada, the Senate, and the House of Commons.\n",
            "\n",
            "3. Ottawa is known for its historic architecture, numerous museums, and cultural attractions, such as the National Gallery of Canada, the Canadian Museum of History, and the Rideau Canal, which is a UNESCO World Heritage Site.\n",
            "\n",
            "4. The city has a population of approximately 1 million people in its metropolitan area, making it the fourth-largest city in Canada.\n",
            "\n",
            "5. Ottawa is a bilingual city, with a significant proportion of its population speaking both English and French, Canada's two official languages.\n"
          ]
        }
      ]
    },
    {
      "cell_type": "code",
      "source": [
        "prompt= 'How do you plan out your trip? \\\n",
        "Bob is travelling to SAT from YVR \\\n",
        "1. He has a connection in DFW \\\n",
        "2. His connection is 6 hours long \\\n",
        "3. He has a budget of 100.00 including meals \\\n",
        "4. What can he do? Please suggest a time. \\\n",
        "5. Know- he is a hiker, museum, foodie, has a carry-on bag'\n",
        "\n",
        "response=chat.predict(prompt)"
      ],
      "metadata": {
        "id": "JnhARQn6II4e"
      },
      "execution_count": 54,
      "outputs": []
    },
    {
      "cell_type": "code",
      "source": [
        "print(response)"
      ],
      "metadata": {
        "colab": {
          "base_uri": "https://localhost:8080/"
        },
        "id": "IriL-Z30ITMe",
        "outputId": "b21132c2-6d85-4a13-d12b-2288a318cd52"
      },
      "execution_count": 55,
      "outputs": [
        {
          "output_type": "stream",
          "name": "stdout",
          "text": [
            "Here's a plan for Bob's trip from YVR (Vancouver International Airport) to SAT (San Antonio International Airport) with a 6-hour connection in DFW (Dallas/Fort Worth International Airport):\n",
            "\n",
            "1. Before the trip:\n",
            "   - Pack essentials in the carry-on bag, including a change of clothes, toiletries, and entertainment (book, tablet, etc.).\n",
            "   - Check the airline's baggage policy to ensure the carry-on meets size and weight requirements.\n",
            "\n",
            "2. Upon arrival at DFW:\n",
            "   - Deplane and check the departure gate and time for the connecting flight to SAT.\n",
            "   - Freshen up if needed and grab a quick snack or meal at the airport.\n",
            "\n",
            "3. During the 6-hour layover (assuming the layover is from 10 AM to 4 PM):\n",
            "   - 10:30 AM - 12:30 PM: Take the Skylink train to Terminal D and visit the DFW Airport Art Program, which features sculptures, paintings, and other artwork throughout the terminal.\n",
            "   - 12:30 PM - 1:30 PM: Have lunch at one of the restaurants in Terminal D, such as Stampede 66 Express by Stephan Pyles (budget around $20-25 for a meal).\n",
            "   - 1:30 PM - 2:30 PM: Take the Skylink train to Terminal C and explore the DFW LiveWell Walking Path, a marked walking trail that spans 7 terminals and provides a good opportunity to stretch your legs.\n",
            "   - 2:30 PM - 3:30 PM: Return to the departure terminal and find a comfortable spot to relax, read, or catch up on work using the airport's free Wi-Fi.\n",
            "\n",
            "4. Budget breakdown:\n",
            "   - Lunch: $20-25\n",
            "   - Snacks and drinks: $10-15\n",
            "   - Dinner (grab something to take on the flight): $15-20\n",
            "   - Total: $45-60 (leaving some extra for unexpected expenses)\n",
            "\n",
            "5. Before boarding the connecting flight:\n",
            "   - Grab dinner or a snack to take on the flight (budget around $15-20).\n",
            "   - Ensure you have all your belongings and head to the departure gate in time for boarding.\n",
            "\n",
            "This plan allows Bob to explore some of the airport's attractions, stretch his legs, and enjoy a meal while staying within his budget. Adjust the plan as needed based on actual arrival and departure times, as well as personal preferences.\n"
          ]
        }
      ]
    },
    {
      "cell_type": "code",
      "source": [
        "!pip install openai -q"
      ],
      "metadata": {
        "colab": {
          "base_uri": "https://localhost:8080/"
        },
        "id": "GebUEWzpLNbx",
        "outputId": "161d2ba4-fbdb-43d8-a25a-f766929b92d4"
      },
      "execution_count": 57,
      "outputs": [
        {
          "output_type": "stream",
          "name": "stdout",
          "text": [
            "\u001b[?25l     \u001b[90m━━━━━━━━━━━━━━━━━━━━━━━━━━━━━━━━━━━━━━━━\u001b[0m \u001b[32m0.0/320.7 kB\u001b[0m \u001b[31m?\u001b[0m eta \u001b[36m-:--:--\u001b[0m\r\u001b[2K     \u001b[91m━━━━━━━━━━━━━━━━━━━━━\u001b[0m\u001b[91m╸\u001b[0m\u001b[90m━━━━━━━━━━━━━━━━━━\u001b[0m \u001b[32m174.1/320.7 kB\u001b[0m \u001b[31m5.2 MB/s\u001b[0m eta \u001b[36m0:00:01\u001b[0m\r\u001b[2K     \u001b[90m━━━━━━━━━━━━━━━━━━━━━━━━━━━━━━━━━━━━━━━━\u001b[0m \u001b[32m320.7/320.7 kB\u001b[0m \u001b[31m5.3 MB/s\u001b[0m eta \u001b[36m0:00:00\u001b[0m\n",
            "\u001b[?25h"
          ]
        }
      ]
    },
    {
      "cell_type": "code",
      "source": [
        "import colab_env\n",
        "import openai\n",
        "import os\n",
        "openai.api_key = os.getenv(\"OPENAI_API_KEY\")\n",
        "%cd /content/\n",
        "!wget \"https://www.dropbox.com/s/f6bmb19xdg0xedm/paul_graham_essay.txt?dl=1\" -O pg_essay.txt\n",
        "#!wget 'https://raw.githubusercontent.com/run-llama/llama_index/main/docs/examples/data/paul_graham/paul_graham_essay.txt' -O 'data/paul_graham/paul_graham_essay.txt' -O pg_essay.txt"
      ],
      "metadata": {
        "id": "kt1WLOV0LDwj"
      },
      "execution_count": null,
      "outputs": []
    },
    {
      "cell_type": "code",
      "source": [
        "!pip install langchain -q\n",
        "!pip install langchain-core -q\n",
        "!pip install langchain-community -q\n",
        "!pip install langchain-anthropic -q"
      ],
      "metadata": {
        "id": "vN6ZnlHgLrL-"
      },
      "execution_count": null,
      "outputs": []
    },
    {
      "cell_type": "markdown",
      "source": [
        "Loading Data"
      ],
      "metadata": {
        "id": "mJoOlrGoL-5d"
      }
    },
    {
      "cell_type": "code",
      "source": [
        "from langchain_community.document_loaders import TextLoader\n",
        "\n",
        "loader = TextLoader('/content/pg_essay.txt')\n",
        "data = loader.load()"
      ],
      "metadata": {
        "id": "uzm-ubvRLhf6"
      },
      "execution_count": 60,
      "outputs": []
    },
    {
      "cell_type": "markdown",
      "source": [
        "Split Data"
      ],
      "metadata": {
        "id": "9jd0kjhKMGQR"
      }
    },
    {
      "cell_type": "code",
      "source": [
        "from langchain_text_splitters import CharacterTextSplitter\n",
        "\n",
        "splitter = CharacterTextSplitter(chunk_size=1000, chunk_overlap=0)\n",
        "documents = splitter.split_documents(data)"
      ],
      "metadata": {
        "colab": {
          "base_uri": "https://localhost:8080/"
        },
        "id": "FsAtwUpCMIqQ",
        "outputId": "472a11a6-111d-4697-d2bc-8254951226e3"
      },
      "execution_count": 61,
      "outputs": [
        {
          "output_type": "stream",
          "name": "stderr",
          "text": [
            "WARNING:langchain_text_splitters.base:Created a chunk of size 1004, which is longer than the specified 1000\n",
            "WARNING:langchain_text_splitters.base:Created a chunk of size 1203, which is longer than the specified 1000\n",
            "WARNING:langchain_text_splitters.base:Created a chunk of size 1025, which is longer than the specified 1000\n"
          ]
        }
      ]
    },
    {
      "cell_type": "markdown",
      "source": [
        "Embedding Data"
      ],
      "metadata": {
        "id": "534pgHakMYZf"
      }
    },
    {
      "cell_type": "code",
      "source": [
        "!pip install tiktoken -q"
      ],
      "metadata": {
        "id": "bIC0wqD5NFiB"
      },
      "execution_count": null,
      "outputs": []
    },
    {
      "cell_type": "code",
      "source": [
        "!pip install faiss-gpu -q\n",
        "!pip install faiss-cpu -q"
      ],
      "metadata": {
        "id": "8DTW7QP-NUSX"
      },
      "execution_count": null,
      "outputs": []
    },
    {
      "cell_type": "code",
      "source": [
        "#from langchain_community.embeddings import CohereEmbeddings\n",
        "from langchain.embeddings.openai import OpenAIEmbeddings\n",
        "from langchain_community.vectorstores import FAISS\n",
        "\n",
        "\n",
        "embeddings = OpenAIEmbeddings(model='text-embedding-3-large')\n",
        "vector = FAISS.from_documents(documents, embeddings)"
      ],
      "metadata": {
        "id": "ocpjzORYMZgi"
      },
      "execution_count": 78,
      "outputs": []
    },
    {
      "cell_type": "markdown",
      "source": [
        "Initialize LLM Model"
      ],
      "metadata": {
        "id": "2x55FvKqNta8"
      }
    },
    {
      "cell_type": "code",
      "source": [
        "from langchain_anthropic import ChatAnthropic\n",
        "llm = ChatAnthropic(anthropic_api_key=anthropic_api_key,model=\"claude-3-sonnet-20240229\", temperature=0.2, max_tokens=1024)"
      ],
      "metadata": {
        "id": "6jtQ96o-Nu2J"
      },
      "execution_count": 79,
      "outputs": []
    },
    {
      "cell_type": "markdown",
      "source": [
        "# create a chain to answer questions"
      ],
      "metadata": {
        "id": "6yKtsNfPQuuS"
      }
    },
    {
      "cell_type": "code",
      "source": [
        "from langchain.chains import LLMChain, SimpleSequentialChain, RetrievalQA, ConversationalRetrievalChain\n",
        "retriever = vector.as_retriever()\n",
        "# create a chain to answer questions\n",
        "qa = RetrievalQA.from_chain_type(llm=llm, chain_type=\"stuff\", retriever=retriever, return_source_documents=True)\n"
      ],
      "metadata": {
        "id": "qhVd1x7ePTFV"
      },
      "execution_count": 81,
      "outputs": []
    },
    {
      "cell_type": "code",
      "source": [
        "#prompt=\"How AWS has evolved?\"\n",
        "prompt=\"who is the president of Mexico\"\n",
        "result = qa({\"query\": prompt})"
      ],
      "metadata": {
        "id": "nx31K5-9tLhI"
      },
      "execution_count": 91,
      "outputs": []
    },
    {
      "cell_type": "code",
      "source": [
        "print()\n",
        "#print('chain to answer questions')\n",
        "print(\"-\" * 80)\n",
        "print()\n",
        "result = qa({\"query\": prompt})\n",
        "print(f'Query: {result[\"query\"]}\\n')\n",
        "print(f'Result: {result[\"result\"]}\\n')\n",
        "print(f'Context Documents: ')\n",
        "for srcdoc in result[\"source_documents\"]:\n",
        "      print(f'{srcdoc}\\n')\n",
        "print(\"-\" * 80)"
      ],
      "metadata": {
        "colab": {
          "base_uri": "https://localhost:8080/"
        },
        "id": "-kqoEjm9tQ4u",
        "outputId": "80a44899-9f72-4d79-e8d4-3fbe6e762401"
      },
      "execution_count": 92,
      "outputs": [
        {
          "output_type": "stream",
          "name": "stdout",
          "text": [
            "\n",
            "--------------------------------------------------------------------------------\n",
            "\n",
            "Query: who is the president of Mexico\n",
            "\n",
            "Result: I don't have enough contextual information to definitively state who the current president of Mexico is. The presidency of Mexico changes periodically through elections, so providing an outdated name could be misleading. My knowledge bases don't always contain the most up-to-date information about current political leaders and officeholders around the world.\n",
            "\n",
            "Context Documents: \n",
            "page_content=\"When we asked Sam if he wanted to be president of YC, initially he said no. He wanted to start a startup to make nuclear reactors. But I kept at it, and in October 2013 he finally agreed. We decided he'd take over starting with the winter 2014 batch. For the rest of 2013 I left running YC more and more to Sam, partly so he could learn the job, and partly because I was focused on my mother, whose cancer had returned.\\n\\nShe died on January 15, 2014. We knew this was coming, but it was still hard when it did.\\n\\nI kept working on YC till March, to help get that batch of startups through Demo Day, then I checked out pretty completely. (I still talk to alumni and to new startups working on things I'm interested in, but that only takes a few hours a week.)\" metadata={'source': '/content/pg_essay.txt'}\n",
            "\n",
            "page_content=\"In the summer of 2012 my mother had a stroke, and the cause turned out to be a blood clot caused by colon cancer. The stroke destroyed her balance, and she was put in a nursing home, but she really wanted to get out of it and back to her house, and my sister and I were determined to help her do it. I used to fly up to Oregon to visit her regularly, and I had a lot of time to think on those flights. On one of them I realized I was ready to hand YC over to someone else.\\n\\nI asked Jessica if she wanted to be president, but she didn't, so we decided we'd try to recruit Sam Altman. We talked to Robert and Trevor and we agreed to make it a complete changing of the guard. Up till that point YC had been controlled by the original LLC we four had started. But we wanted YC to last for a long time, and to do that it couldn't be controlled by the founders. So if Sam said yes, we'd let him reorganize YC. Robert and I would retire, and Jessica and Trevor would become ordinary partners.\" metadata={'source': '/content/pg_essay.txt'}\n",
            "\n",
            "page_content='One day in 2010, when he was visiting California for interviews, Robert Morris did something astonishing: he offered me unsolicited advice. I can only remember him doing that once before. One day at Viaweb, when I was bent over double from a kidney stone, he suggested that it would be a good idea for him to take me to the hospital. That was what it took for Rtm to offer unsolicited advice. So I remember his exact words very clearly. \"You know,\" he said, \"you should make sure Y Combinator isn\\'t the last cool thing you do.\"' metadata={'source': '/content/pg_essay.txt'}\n",
            "\n",
            "page_content=\"We invited about 20 of the 225 groups to interview in person, and from those we picked 8 to fund. They were an impressive group. That first batch included reddit, Justin Kan and Emmett Shear, who went on to found Twitch, Aaron Swartz, who had already helped write the RSS spec and would a few years later become a martyr for open access, and Sam Altman, who would later become the second president of YC. I don't think it was entirely luck that the first batch was so good. You had to be pretty bold to sign up for a weird thing like the Summer Founders Program instead of a summer job at a legit place like Microsoft or Goldman Sachs.\" metadata={'source': '/content/pg_essay.txt'}\n",
            "\n",
            "--------------------------------------------------------------------------------\n"
          ]
        }
      ]
    },
    {
      "cell_type": "code",
      "source": [
        "#prompt=\"How AWS has evolved?\"\n",
        "prompt=\"What did the author do growing up?\"\n",
        "result = qa({\"query\": prompt})"
      ],
      "metadata": {
        "id": "7WWT-RuGR0Z9"
      },
      "execution_count": 86,
      "outputs": []
    },
    {
      "cell_type": "code",
      "source": [
        "print()\n",
        "#print('chain to answer questions')\n",
        "print(\"-\" * 80)\n",
        "print()\n",
        "result = qa({\"query\": prompt})\n",
        "print(f'Query: {result[\"query\"]}\\n')\n",
        "print(f'Result: {result[\"result\"]}\\n')\n",
        "print(f'Context Documents: ')\n",
        "for srcdoc in result[\"source_documents\"]:\n",
        "      print(f'{srcdoc}\\n')\n",
        "print(\"-\" * 80)"
      ],
      "metadata": {
        "colab": {
          "base_uri": "https://localhost:8080/"
        },
        "id": "2oUV9a15QHHs",
        "outputId": "37fbc47b-c6be-45e5-deca-7da8dd4c266d"
      },
      "execution_count": 88,
      "outputs": [
        {
          "output_type": "stream",
          "name": "stdout",
          "text": [
            "\n",
            "--------------------------------------------------------------------------------\n",
            "\n",
            "Query: What did the author do growing up?\n",
            "\n",
            "Result: Based on the context provided, it seems the author worked on two main things growing up outside of school:\n",
            "\n",
            "1. Writing - Specifically, he wrote short stories, though he admits they were not very good and lacked plot, just focusing on characters with strong feelings.\n",
            "\n",
            "2. Programming - He mentions trying to write programs on an IBM 1401 computer that his school district had when he was around 13 or 14 years old in 9th grade. He and a friend were given permission to use this computer in the basement of their junior high school.\n",
            "\n",
            "The passage doesn't provide much more detail about his specific activities or accomplishments growing up beyond writing short stories and dabbling in programming on an old computer at school. But those seem to be the two main pursuits he focused on outside of regular schoolwork during his youth.\n",
            "\n",
            "Context Documents: \n",
            "page_content='What I Worked On\\n\\nFebruary 2021\\n\\nBefore college the two main things I worked on, outside of school, were writing and programming. I didn\\'t write essays. I wrote what beginning writers were supposed to write then, and probably still are: short stories. My stories were awful. They had hardly any plot, just characters with strong feelings, which I imagined made them deep.\\n\\nThe first programs I tried writing were on the IBM 1401 that our school district used for what was then called \"data processing.\" This was in 9th grade, so I was 13 or 14. The school district\\'s 1401 happened to be in the basement of our junior high school, and my friend Rich Draves and I got permission to use it. It was like a mini Bond villain\\'s lair down there, with all these alien-looking machines — CPU, disk drives, printer, card reader — sitting up on a raised floor under bright fluorescent lights.' metadata={'source': '/content/pg_essay.txt'}\n",
            "\n",
            "page_content=\"I had always liked looking at paintings. Could I make them? I had no idea. I'd never imagined it was even possible. I knew intellectually that people made art — that it didn't just appear spontaneously — but it was as if the people who made it were a different species. They either lived long ago or were mysterious geniuses doing strange things in profiles in Life magazine. The idea of actually being able to make art, to put that verb before that noun, seemed almost miraculous.\\n\\nThat fall I started taking art classes at Harvard. Grad students could take classes in any department, and my advisor, Tom Cheatham, was very easy going. If he even knew about the strange classes I was taking, he never said anything.\\n\\nSo now I was in a PhD program in computer science, yet planning to be an artist, yet also genuinely in love with Lisp hacking and working away at On Lisp. In other words, like many a grad student, I was working energetically on multiple projects that were not my thesis.\" metadata={'source': '/content/pg_essay.txt'}\n",
            "\n",
            "page_content='There were plenty of earnest students too: kids who \"could draw\" in high school, and now had come to what was supposed to be the best art school in the country, to learn to draw even better. They tended to be confused and demoralized by what they found at RISD, but they kept going, because painting was what they did. I was not one of the kids who could draw in high school, but at RISD I was definitely closer to their tribe than the tribe of signature style seekers.\\n\\nI learned a lot in the color class I took at RISD, but otherwise I was basically teaching myself to paint, and I could do that for free. So in 1993 I dropped out. I hung around Providence for a bit, and then my college friend Nancy Parmet did me a big favor. A rent-controlled apartment in a building her mother owned in New York was becoming vacant. Did I want it? It wasn\\'t much more than my current place, and New York was supposed to be where the artists were. So yes, I wanted it! [7]' metadata={'source': '/content/pg_essay.txt'}\n",
            "\n",
            "page_content='Working on Bel was hard but satisfying. I worked on it so intensively that at any given time I had a decent chunk of the code in my head and could write more there. I remember taking the boys to the coast on a sunny day in 2015 and figuring out how to deal with some problem involving continuations while I watched them play in the tide pools. It felt like I was doing life right. I remember that because I was slightly dismayed at how novel it felt. The good news is that I had more moments like this over the next few years.\\n\\nIn the summer of 2016 we moved to England. We wanted our kids to see what it was like living in another country, and since I was a British citizen by birth, that seemed the obvious choice. We only meant to stay for a year, but we liked it so much that we still live there. So most of Bel was written in England.' metadata={'source': '/content/pg_essay.txt'}\n",
            "\n",
            "--------------------------------------------------------------------------------\n"
          ]
        }
      ]
    }
  ]
}