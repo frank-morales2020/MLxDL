{
  "nbformat": 4,
  "nbformat_minor": 0,
  "metadata": {
    "colab": {
      "provenance": [],
      "machine_shape": "hm",
      "gpuType": "L4",
      "authorship_tag": "ABX9TyMD8E9WO4alzA3WiTZihXZg",
      "include_colab_link": true
    },
    "kernelspec": {
      "name": "python3",
      "display_name": "Python 3"
    },
    "language_info": {
      "name": "python"
    },
    "accelerator": "GPU",
    "widgets": {
      "application/vnd.jupyter.widget-state+json": {
        "2d3c7bb6297a44da941ce8e3977461f0": {
          "model_module": "@jupyter-widgets/controls",
          "model_name": "HBoxModel",
          "model_module_version": "1.5.0",
          "state": {
            "_dom_classes": [],
            "_model_module": "@jupyter-widgets/controls",
            "_model_module_version": "1.5.0",
            "_model_name": "HBoxModel",
            "_view_count": null,
            "_view_module": "@jupyter-widgets/controls",
            "_view_module_version": "1.5.0",
            "_view_name": "HBoxView",
            "box_style": "",
            "children": [
              "IPY_MODEL_4fbc2474a02b4705b160f8c3d2fd9f33",
              "IPY_MODEL_1bb6a5dec0a44b9b9dfcee5b9e51ec1e",
              "IPY_MODEL_616b727742a54517842d16da91328d93"
            ],
            "layout": "IPY_MODEL_797ede545887472ab5fe71b08b0ae567"
          }
        },
        "4fbc2474a02b4705b160f8c3d2fd9f33": {
          "model_module": "@jupyter-widgets/controls",
          "model_name": "HTMLModel",
          "model_module_version": "1.5.0",
          "state": {
            "_dom_classes": [],
            "_model_module": "@jupyter-widgets/controls",
            "_model_module_version": "1.5.0",
            "_model_name": "HTMLModel",
            "_view_count": null,
            "_view_module": "@jupyter-widgets/controls",
            "_view_module_version": "1.5.0",
            "_view_name": "HTMLView",
            "description": "",
            "description_tooltip": null,
            "layout": "IPY_MODEL_c3dbf280dfc945dab1437375d7198415",
            "placeholder": "​",
            "style": "IPY_MODEL_006711bf835f44f5aa292333aa2ad72e",
            "value": "Processed prompts: 100%"
          }
        },
        "1bb6a5dec0a44b9b9dfcee5b9e51ec1e": {
          "model_module": "@jupyter-widgets/controls",
          "model_name": "FloatProgressModel",
          "model_module_version": "1.5.0",
          "state": {
            "_dom_classes": [],
            "_model_module": "@jupyter-widgets/controls",
            "_model_module_version": "1.5.0",
            "_model_name": "FloatProgressModel",
            "_view_count": null,
            "_view_module": "@jupyter-widgets/controls",
            "_view_module_version": "1.5.0",
            "_view_name": "ProgressView",
            "bar_style": "success",
            "description": "",
            "description_tooltip": null,
            "layout": "IPY_MODEL_c43eaf00bb874897b60550369a2302bf",
            "max": 1,
            "min": 0,
            "orientation": "horizontal",
            "style": "IPY_MODEL_7679c5b20b3249d08ab001cc31c00d83",
            "value": 1
          }
        },
        "616b727742a54517842d16da91328d93": {
          "model_module": "@jupyter-widgets/controls",
          "model_name": "HTMLModel",
          "model_module_version": "1.5.0",
          "state": {
            "_dom_classes": [],
            "_model_module": "@jupyter-widgets/controls",
            "_model_module_version": "1.5.0",
            "_model_name": "HTMLModel",
            "_view_count": null,
            "_view_module": "@jupyter-widgets/controls",
            "_view_module_version": "1.5.0",
            "_view_name": "HTMLView",
            "description": "",
            "description_tooltip": null,
            "layout": "IPY_MODEL_75b5214f3c184f7bad12c736e4012201",
            "placeholder": "​",
            "style": "IPY_MODEL_f3a0299719c244309a133418c5ccd72e",
            "value": " 1/1 [00:56&lt;00:00, 56.12s/it, est. speed input: 1.16 toks/s, output: 17.14 toks/s]"
          }
        },
        "797ede545887472ab5fe71b08b0ae567": {
          "model_module": "@jupyter-widgets/base",
          "model_name": "LayoutModel",
          "model_module_version": "1.2.0",
          "state": {
            "_model_module": "@jupyter-widgets/base",
            "_model_module_version": "1.2.0",
            "_model_name": "LayoutModel",
            "_view_count": null,
            "_view_module": "@jupyter-widgets/base",
            "_view_module_version": "1.2.0",
            "_view_name": "LayoutView",
            "align_content": null,
            "align_items": null,
            "align_self": null,
            "border": null,
            "bottom": null,
            "display": "inline-flex",
            "flex": null,
            "flex_flow": "row wrap",
            "grid_area": null,
            "grid_auto_columns": null,
            "grid_auto_flow": null,
            "grid_auto_rows": null,
            "grid_column": null,
            "grid_gap": null,
            "grid_row": null,
            "grid_template_areas": null,
            "grid_template_columns": null,
            "grid_template_rows": null,
            "height": null,
            "justify_content": null,
            "justify_items": null,
            "left": null,
            "margin": null,
            "max_height": null,
            "max_width": null,
            "min_height": null,
            "min_width": null,
            "object_fit": null,
            "object_position": null,
            "order": null,
            "overflow": null,
            "overflow_x": null,
            "overflow_y": null,
            "padding": null,
            "right": null,
            "top": null,
            "visibility": null,
            "width": "100%"
          }
        },
        "c3dbf280dfc945dab1437375d7198415": {
          "model_module": "@jupyter-widgets/base",
          "model_name": "LayoutModel",
          "model_module_version": "1.2.0",
          "state": {
            "_model_module": "@jupyter-widgets/base",
            "_model_module_version": "1.2.0",
            "_model_name": "LayoutModel",
            "_view_count": null,
            "_view_module": "@jupyter-widgets/base",
            "_view_module_version": "1.2.0",
            "_view_name": "LayoutView",
            "align_content": null,
            "align_items": null,
            "align_self": null,
            "border": null,
            "bottom": null,
            "display": null,
            "flex": null,
            "flex_flow": null,
            "grid_area": null,
            "grid_auto_columns": null,
            "grid_auto_flow": null,
            "grid_auto_rows": null,
            "grid_column": null,
            "grid_gap": null,
            "grid_row": null,
            "grid_template_areas": null,
            "grid_template_columns": null,
            "grid_template_rows": null,
            "height": null,
            "justify_content": null,
            "justify_items": null,
            "left": null,
            "margin": null,
            "max_height": null,
            "max_width": null,
            "min_height": null,
            "min_width": null,
            "object_fit": null,
            "object_position": null,
            "order": null,
            "overflow": null,
            "overflow_x": null,
            "overflow_y": null,
            "padding": null,
            "right": null,
            "top": null,
            "visibility": null,
            "width": null
          }
        },
        "006711bf835f44f5aa292333aa2ad72e": {
          "model_module": "@jupyter-widgets/controls",
          "model_name": "DescriptionStyleModel",
          "model_module_version": "1.5.0",
          "state": {
            "_model_module": "@jupyter-widgets/controls",
            "_model_module_version": "1.5.0",
            "_model_name": "DescriptionStyleModel",
            "_view_count": null,
            "_view_module": "@jupyter-widgets/base",
            "_view_module_version": "1.2.0",
            "_view_name": "StyleView",
            "description_width": ""
          }
        },
        "c43eaf00bb874897b60550369a2302bf": {
          "model_module": "@jupyter-widgets/base",
          "model_name": "LayoutModel",
          "model_module_version": "1.2.0",
          "state": {
            "_model_module": "@jupyter-widgets/base",
            "_model_module_version": "1.2.0",
            "_model_name": "LayoutModel",
            "_view_count": null,
            "_view_module": "@jupyter-widgets/base",
            "_view_module_version": "1.2.0",
            "_view_name": "LayoutView",
            "align_content": null,
            "align_items": null,
            "align_self": null,
            "border": null,
            "bottom": null,
            "display": null,
            "flex": "2",
            "flex_flow": null,
            "grid_area": null,
            "grid_auto_columns": null,
            "grid_auto_flow": null,
            "grid_auto_rows": null,
            "grid_column": null,
            "grid_gap": null,
            "grid_row": null,
            "grid_template_areas": null,
            "grid_template_columns": null,
            "grid_template_rows": null,
            "height": null,
            "justify_content": null,
            "justify_items": null,
            "left": null,
            "margin": null,
            "max_height": null,
            "max_width": null,
            "min_height": null,
            "min_width": null,
            "object_fit": null,
            "object_position": null,
            "order": null,
            "overflow": null,
            "overflow_x": null,
            "overflow_y": null,
            "padding": null,
            "right": null,
            "top": null,
            "visibility": null,
            "width": null
          }
        },
        "7679c5b20b3249d08ab001cc31c00d83": {
          "model_module": "@jupyter-widgets/controls",
          "model_name": "ProgressStyleModel",
          "model_module_version": "1.5.0",
          "state": {
            "_model_module": "@jupyter-widgets/controls",
            "_model_module_version": "1.5.0",
            "_model_name": "ProgressStyleModel",
            "_view_count": null,
            "_view_module": "@jupyter-widgets/base",
            "_view_module_version": "1.2.0",
            "_view_name": "StyleView",
            "bar_color": null,
            "description_width": ""
          }
        },
        "75b5214f3c184f7bad12c736e4012201": {
          "model_module": "@jupyter-widgets/base",
          "model_name": "LayoutModel",
          "model_module_version": "1.2.0",
          "state": {
            "_model_module": "@jupyter-widgets/base",
            "_model_module_version": "1.2.0",
            "_model_name": "LayoutModel",
            "_view_count": null,
            "_view_module": "@jupyter-widgets/base",
            "_view_module_version": "1.2.0",
            "_view_name": "LayoutView",
            "align_content": null,
            "align_items": null,
            "align_self": null,
            "border": null,
            "bottom": null,
            "display": null,
            "flex": null,
            "flex_flow": null,
            "grid_area": null,
            "grid_auto_columns": null,
            "grid_auto_flow": null,
            "grid_auto_rows": null,
            "grid_column": null,
            "grid_gap": null,
            "grid_row": null,
            "grid_template_areas": null,
            "grid_template_columns": null,
            "grid_template_rows": null,
            "height": null,
            "justify_content": null,
            "justify_items": null,
            "left": null,
            "margin": null,
            "max_height": null,
            "max_width": null,
            "min_height": null,
            "min_width": null,
            "object_fit": null,
            "object_position": null,
            "order": null,
            "overflow": null,
            "overflow_x": null,
            "overflow_y": null,
            "padding": null,
            "right": null,
            "top": null,
            "visibility": null,
            "width": null
          }
        },
        "f3a0299719c244309a133418c5ccd72e": {
          "model_module": "@jupyter-widgets/controls",
          "model_name": "DescriptionStyleModel",
          "model_module_version": "1.5.0",
          "state": {
            "_model_module": "@jupyter-widgets/controls",
            "_model_module_version": "1.5.0",
            "_model_name": "DescriptionStyleModel",
            "_view_count": null,
            "_view_module": "@jupyter-widgets/base",
            "_view_module_version": "1.2.0",
            "_view_name": "StyleView",
            "description_width": ""
          }
        }
      }
    }
  },
  "cells": [
    {
      "cell_type": "markdown",
      "metadata": {
        "id": "view-in-github",
        "colab_type": "text"
      },
      "source": [
        "<a href=\"https://colab.research.google.com/github/frank-morales2020/MLxDL/blob/main/S1_DEMO.ipynb\" target=\"_parent\"><img src=\"https://colab.research.google.com/assets/colab-badge.svg\" alt=\"Open In Colab\"/></a>"
      ]
    },
    {
      "cell_type": "code",
      "source": [
        "!pip install vllm -q\n",
        "!pip install huggingface_hub -q\n",
        "!pip install colab_env -q\n",
        "\n",
        "!pip uninstall -y pyzmq -q\n",
        "!pip install --no-cache-dir pyzmq -q\n",
        "!pip install --upgrade vllm -q\n",
        "\n",
        "!pip install --upgrade torch torchvision torchaudio -q\n",
        "!pip install --upgrade transformers -q\n",
        "!pip install accelerate -q\n",
        "!pip install -U flash-attn --no-build-isolation --quiet"
      ],
      "metadata": {
        "id": "McxboevW1tvv"
      },
      "execution_count": null,
      "outputs": []
    },
    {
      "cell_type": "code",
      "source": [
        "import colab_env\n",
        "import os\n",
        "\n",
        "\n",
        "access_token_write = os.getenv(\"HUGGINGFACE_ACCESS_TOKEN_WRITE\")\n",
        "\n",
        "from huggingface_hub import login\n",
        "\n",
        "login(\n",
        "  token=access_token_write,\n",
        "  add_to_git_credential=True\n",
        ")"
      ],
      "metadata": {
        "id": "GDWa-7n94ufc"
      },
      "execution_count": null,
      "outputs": []
    },
    {
      "source": [
        "from vllm import LLM, SamplingParams\n",
        "import os\n",
        "\n",
        "# Pass the context to the LLM constructor\n",
        "llm = LLM(model=\"mistralai/Mistral-7B-Instruct-v0.2\", trust_remote_code=True, hf_token=access_token_write)"
      ],
      "cell_type": "code",
      "metadata": {
        "id": "h4yb3X545qHU"
      },
      "execution_count": null,
      "outputs": []
    },
    {
      "cell_type": "code",
      "source": [
        "prompts = [\n",
        "    \"The capital of France is\",\n",
        "    \"Explain the theory of relativity in simple terms.\"\n",
        "]\n",
        "sampling_params = SamplingParams(max_tokens=50)\n",
        "\n",
        "outputs = llm.generate(prompts, sampling_params)\n",
        "print('\\n')"
      ],
      "metadata": {
        "id": "v_l_1HoK760z"
      },
      "execution_count": null,
      "outputs": []
    },
    {
      "cell_type": "code",
      "source": [
        "print('\\n')\n",
        "for prompt, output in zip(prompts, outputs):\n",
        "    print(\"-\" * 20)\n",
        "    print(f\"Prompt: {prompt}\")\n",
        "    print(f\"Output: {output.outputs[0].text}\")\n",
        "    print(\"-\" * 20)\n",
        "    print('\\n')"
      ],
      "metadata": {
        "colab": {
          "base_uri": "https://localhost:8080/"
        },
        "id": "CPquCYLGeFFu",
        "outputId": "7a52f17c-335f-46f7-9a25-4241f0442251"
      },
      "execution_count": 5,
      "outputs": [
        {
          "output_type": "stream",
          "name": "stdout",
          "text": [
            "\n",
            "\n",
            "--------------------\n",
            "Prompt: The capital of France is\n",
            "Output:  an exceptional city: Paris, the city of art and knowledge. Around 13 million tourists visit this part of Europe every year. Undoubtedly, Paris is the most popular city in the world, and it is not surprising, because it has everything\n",
            "--------------------\n",
            "\n",
            "\n",
            "--------------------\n",
            "Prompt: Explain the theory of relativity in simple terms.\n",
            "Output: \n",
            "\n",
            "The theory of relativity, proposed by Albert Einstein in the early 1900s, is a scientific explanation of how the physical world works at large scales and high speeds. It consists of two parts: the special theory of rel\n",
            "--------------------\n",
            "\n",
            "\n"
          ]
        }
      ]
    },
    {
      "cell_type": "code",
      "execution_count": null,
      "metadata": {
        "id": "irKJSBRh1l8v"
      },
      "outputs": [],
      "source": [
        "import torch\n",
        "from vllm import LLM, SamplingParams\n",
        "from transformers import AutoTokenizer\n",
        "device= device = torch.device(\"cuda\" if torch.cuda.is_available() else \"cpu\")\n",
        "\n",
        "\n",
        "# Pass the context to the LLM constructor\n",
        "model = LLM(\n",
        "    \"simplescaling/s1.1-7B\",\n",
        "    tensor_parallel_size=1,\n",
        "    device=device,\n",
        ")\n",
        "\n",
        "tok = AutoTokenizer.from_pretrained(\"simplescaling/s1-32B\")\n",
        "stop_token_ids = tok(\"<|im_end|>\")[\"input_ids\"]\n",
        "\n",
        "sampling_params = SamplingParams(\n",
        "    max_tokens=32768,\n",
        "    min_tokens=0,\n",
        "    stop_token_ids=stop_token_ids,\n",
        ")"
      ]
    },
    {
      "cell_type": "code",
      "source": [
        "prompt = \"Count all occurrences of the letter 'r' in the word \\\"raspberry.\\\"\"\n",
        "prompt = \"<|im_start|>system\\nYou are Qwen, created by Alibaba Cloud. You are a helpful assistant. Your task is to accurately count the number of times a specific letter appears in a given word.\\n<|im_end|>\\n<|im_start|>user\\n\" + prompt + \"<|im_end|>\\n<|im_start|>assistant\\n\"\n",
        "\n",
        "o = model.generate(prompt, sampling_params=sampling_params)\n",
        "print(o[0].outputs[0].text)"
      ],
      "metadata": {
        "colab": {
          "base_uri": "https://localhost:8080/",
          "height": 1000,
          "referenced_widgets": [
            "2d3c7bb6297a44da941ce8e3977461f0",
            "4fbc2474a02b4705b160f8c3d2fd9f33",
            "1bb6a5dec0a44b9b9dfcee5b9e51ec1e",
            "616b727742a54517842d16da91328d93",
            "797ede545887472ab5fe71b08b0ae567",
            "c3dbf280dfc945dab1437375d7198415",
            "006711bf835f44f5aa292333aa2ad72e",
            "c43eaf00bb874897b60550369a2302bf",
            "7679c5b20b3249d08ab001cc31c00d83",
            "75b5214f3c184f7bad12c736e4012201",
            "f3a0299719c244309a133418c5ccd72e"
          ]
        },
        "id": "iQF_Sv7aCitb",
        "outputId": "2ac26cc6-6b94-4e72-c85b-881fe2472aa9"
      },
      "execution_count": 3,
      "outputs": [
        {
          "output_type": "display_data",
          "data": {
            "text/plain": [
              "Processed prompts:   0%|          | 0/1 [00:00<?, ?it/s, est. speed input: 0.00 toks/s, output: 0.00 toks/s]"
            ],
            "application/vnd.jupyter.widget-view+json": {
              "version_major": 2,
              "version_minor": 0,
              "model_id": "2d3c7bb6297a44da941ce8e3977461f0"
            }
          },
          "metadata": {}
        },
        {
          "output_type": "stream",
          "name": "stdout",
          "text": [
            "think\n",
            "Okay, so I need to count how many times the letter 'r' appears in the word \"raspberry.\" Let me try to think step by step. \n",
            "\n",
            "First, I should probably write down the word and then go letter by letter, checking for 'r's. Let me do that. The word is \"raspberry.\" Okay, let's break it down:\n",
            "\n",
            "r - a - s - p - b - e - r - r - y\n",
            "\n",
            "Wait, let me count the letters carefully. Starting from the beginning:\n",
            "\n",
            "1. r\n",
            "2. a\n",
            "3. s\n",
            "4. p\n",
            "5. b\n",
            "6. e\n",
            "7. r\n",
            "8. r\n",
            "9. y\n",
            "\n",
            "So, going through each letter one by one. The first letter is 'r', then 'a', 's', 'p', 'b', 'e', then 'r' again, followed by 'r' and 'y'. So, the positions of 'r' are at the first, seventh, and eighth letters. Let's confirm that. First 'r' is at position 1, second at position 7, third at position 8. Then after that, it's 'y' at position 9. So total 'r's: 3?\n",
            "\n",
            "But wait, sometimes I can be hasty. Let me double-check each letter again for 'r':\n",
            "\n",
            "1. r - yes\n",
            "2. a - no\n",
            "3. s - no\n",
            "4. p - no\n",
            "5. b - no\n",
            "6. e - no\n",
            "7. r - yes\n",
            "8. r - yes\n",
            "9. y - no\n",
            "\n",
            "Indeed, three 'r's. So the answer should be 3. Hmm, but maybe I need to make sure there's not a fourth 'r' somewhere? Let me read the word slowly: \"raspberry\" - nope. Starting again: \"r-a-s-p-b-e-r-r-y.\" Yep, two 'r's after the 'b' and one before the 'y'. So three total.\n",
            "\n",
            "Wait, but just to be absolutely certain, maybe I should think of another way. The word has 9 letters. Let me consider: the first letter is 'r', which is one. Then halfway through the word, we have another 'r' when? Let me note the positions:\n",
            "\n",
            "Breaking it into sections:\n",
            "\n",
            "Start: r (1)\n",
            "Then a (2), s (3), p (4), b (5)\n",
            "Then e (6)\n",
            "Then r (7)\n",
            "Then r (8)\n",
            "End: y (9)\n",
            "\n",
            "So between positions 1-5, there's 1 'r'. Then from 6-8, there's another two. So that's 3 in total. Yeah, that works.\n",
            "\n",
            "Another way: counting the number of times it appears in each position. But since it's a small word, maybe not necessary. Alternatively, if we look at the word \"raspberry\" and notice patterns.\n",
            "\n",
            "Raspberries start with an 'r', then some letters in the middle. Let me think of the structure: \"rasp\" is part of the word, which might not help. Maybe not.\n",
            "\n",
            "Alternatively, since there are two 'r's in the middle (after 'b') and one at the beginning. So that adds up to three.\n",
            "\n",
            "Alternatively, thinking of each letter:\n",
            "\n",
            "1: r\n",
            "2: a\n",
            "3: s\n",
            "4: p\n",
            "5: b\n",
            "6: e\n",
            "7: r\n",
            "8: r\n",
            "9: y\n",
            "\n",
            "Yes, three 'r's. So I'm confident now that the answer is 3.\n",
            "\n",
            "**Final Answer**\n",
            "The letter 'r' appears \\boxed{3} times in the word \"raspberry.\"\n",
            "answer\n",
            "Answer: To count the number of times the letter 'r' appears in the word \"raspberry,\" we can go through each letter step by step:\n",
            "\n",
            "1. The word \"raspberry\" has 9 letters.\n",
            "2. Breakdown of each letter:\n",
            "   - 1st letter: r\n",
            "   - 2nd letter: a\n",
            "   - 3rd letter: s\n",
            "   - 4th letter: p\n",
            "   - 5th letter: b\n",
            "   - 6th letter: e\n",
            "   - 7th letter: r\n",
            "   - 8th letter: r\n",
            "   - 9th letter: y\n",
            "\n",
            "3. Checking each position, we find 'r' in the 1st, 7th, and 8th positions.\n",
            "\n",
            "Thus, the letter 'r' appears \\boxed{3} times in the word \"raspberry.\"\n"
          ]
        }
      ]
    }
  ]
}