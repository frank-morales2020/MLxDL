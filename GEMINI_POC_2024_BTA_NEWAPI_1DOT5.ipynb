{
  "nbformat": 4,
  "nbformat_minor": 0,
  "metadata": {
    "colab": {
      "provenance": [],
      "machine_shape": "hm",
      "gpuType": "T4",
      "authorship_tag": "ABX9TyPs3p+fc1KE/enLvvb0n6UZ",
      "include_colab_link": true
    },
    "kernelspec": {
      "name": "python3",
      "display_name": "Python 3"
    },
    "language_info": {
      "name": "python"
    },
    "accelerator": "GPU"
  },
  "cells": [
    {
      "cell_type": "markdown",
      "metadata": {
        "id": "view-in-github",
        "colab_type": "text"
      },
      "source": [
        "<a href=\"https://colab.research.google.com/github/frank-morales2020/MLxDL/blob/main/GEMINI_POC_2024_BTA_NEWAPI_1DOT5.ipynb\" target=\"_parent\"><img src=\"https://colab.research.google.com/assets/colab-badge.svg\" alt=\"Open In Colab\"/></a>"
      ]
    },
    {
      "cell_type": "markdown",
      "source": [
        "https://ai.google.dev/gemini-api/docs/get-started/python\n",
        "\n",
        "https://github.com/neulab/gemini-benchmark?tab=readme-ov-file\n",
        "\n",
        "\n",
        "https://arxiv.org/pdf/2403.05530"
      ],
      "metadata": {
        "id": "ZpkH6Tyr6Fca"
      }
    },
    {
      "cell_type": "code",
      "source": [
        "!nvidia-smi"
      ],
      "metadata": {
        "colab": {
          "base_uri": "https://localhost:8080/"
        },
        "id": "YBO9Yr-VDSDL",
        "outputId": "638823df-e739-4c6e-dafb-4bef14dba3ee"
      },
      "execution_count": null,
      "outputs": [
        {
          "output_type": "stream",
          "name": "stdout",
          "text": [
            "Wed Nov 27 23:24:19 2024       \n",
            "+---------------------------------------------------------------------------------------+\n",
            "| NVIDIA-SMI 535.104.05             Driver Version: 535.104.05   CUDA Version: 12.2     |\n",
            "|-----------------------------------------+----------------------+----------------------+\n",
            "| GPU  Name                 Persistence-M | Bus-Id        Disp.A | Volatile Uncorr. ECC |\n",
            "| Fan  Temp   Perf          Pwr:Usage/Cap |         Memory-Usage | GPU-Util  Compute M. |\n",
            "|                                         |                      |               MIG M. |\n",
            "|=========================================+======================+======================|\n",
            "|   0  Tesla T4                       Off | 00000000:00:04.0 Off |                    0 |\n",
            "| N/A   50C    P8              10W /  70W |      0MiB / 15360MiB |      0%      Default |\n",
            "|                                         |                      |                  N/A |\n",
            "+-----------------------------------------+----------------------+----------------------+\n",
            "                                                                                         \n",
            "+---------------------------------------------------------------------------------------+\n",
            "| Processes:                                                                            |\n",
            "|  GPU   GI   CI        PID   Type   Process name                            GPU Memory |\n",
            "|        ID   ID                                                             Usage      |\n",
            "|=======================================================================================|\n",
            "|  No running processes found                                                           |\n",
            "+---------------------------------------------------------------------------------------+\n"
          ]
        }
      ]
    },
    {
      "cell_type": "code",
      "source": [
        "!pip install google-generativeai -q"
      ],
      "metadata": {
        "id": "18GXpuMi3Bfh"
      },
      "execution_count": null,
      "outputs": []
    },
    {
      "cell_type": "code",
      "source": [
        "# Used to securely store your API key\n",
        "from google.colab import userdata\n",
        "\n",
        "import pathlib\n",
        "import textwrap\n",
        "\n",
        "import google.generativeai as genai"
      ],
      "metadata": {
        "id": "n2wh14Ck4XX1"
      },
      "execution_count": null,
      "outputs": []
    },
    {
      "cell_type": "code",
      "source": [
        "GOOGLE_API_KEY=userdata.get('GEMINI')\n",
        "genai.configure(api_key=GOOGLE_API_KEY)"
      ],
      "metadata": {
        "id": "SG4V1mVs5K97"
      },
      "execution_count": null,
      "outputs": []
    },
    {
      "cell_type": "code",
      "source": [
        "import google.generativeai as genai\n",
        "\n",
        "for m in genai.list_models():\n",
        "    if \"generateContent\" in m.supported_generation_methods:\n",
        "        print(m.name)"
      ],
      "metadata": {
        "colab": {
          "base_uri": "https://localhost:8080/",
          "height": 481
        },
        "id": "YY-DNFpwBYxr",
        "outputId": "8154375c-7509-48a1-9286-346f1d880695"
      },
      "execution_count": null,
      "outputs": [
        {
          "output_type": "stream",
          "name": "stdout",
          "text": [
            "models/gemini-1.0-pro-latest\n",
            "models/gemini-1.0-pro\n",
            "models/gemini-pro\n",
            "models/gemini-1.0-pro-001\n",
            "models/gemini-1.0-pro-vision-latest\n",
            "models/gemini-pro-vision\n",
            "models/gemini-1.5-pro-latest\n",
            "models/gemini-1.5-pro-001\n",
            "models/gemini-1.5-pro-002\n",
            "models/gemini-1.5-pro\n",
            "models/gemini-1.5-pro-exp-0801\n",
            "models/gemini-1.5-pro-exp-0827\n",
            "models/gemini-1.5-flash-latest\n",
            "models/gemini-1.5-flash-001\n",
            "models/gemini-1.5-flash-001-tuning\n",
            "models/gemini-1.5-flash\n",
            "models/gemini-1.5-flash-exp-0827\n",
            "models/gemini-1.5-flash-002\n",
            "models/gemini-1.5-flash-8b\n",
            "models/gemini-1.5-flash-8b-001\n",
            "models/gemini-1.5-flash-8b-latest\n",
            "models/gemini-1.5-flash-8b-exp-0827\n",
            "models/gemini-1.5-flash-8b-exp-0924\n",
            "models/learnlm-1.5-pro-experimental\n",
            "models/gemini-exp-1114\n",
            "models/gemini-exp-1121\n"
          ]
        }
      ]
    },
    {
      "cell_type": "markdown",
      "source": [
        "BOB TRAVEL APP"
      ],
      "metadata": {
        "id": "qRt5ffS_ihmA"
      }
    },
    {
      "cell_type": "code",
      "source": [
        "model_name = 'gemini-1.5-pro'\n",
        "model = genai.GenerativeModel(model_name)"
      ],
      "metadata": {
        "id": "ihFR6I7Eh5jd"
      },
      "execution_count": null,
      "outputs": []
    },
    {
      "cell_type": "code",
      "source": [
        "query = 'How do you plan out your trip? \\\n",
        "Bob is travelling to SAT from YVR \\\n",
        "1. He has a connection in DFW \\\n",
        "2. His connection is 6 hours long \\\n",
        "3. He has a budget of 100.00 including meals \\\n",
        "4. What can he do? Please suggest a time. \\\n",
        "5. Know- he is a hiker, museum, foodie, has a carry-on bag'\n",
        "\n",
        "\n",
        "def BTA(query,model):\n",
        "    chat_response=model.generate_content(query)\n",
        "    print()\n",
        "\n",
        "    print()\n",
        "    print(\"-\" * 80)\n",
        "    print('Question: %s'%query)\n",
        "    print(\"-\" * 80)\n",
        "    print(\"No streaming\")\n",
        "    print()\n",
        "    print(\"-\" * 80)\n",
        "    print('Answer: ')\n",
        "    print(\"-\" * 80)\n",
        "    print()\n",
        "    print(chat_response.text)"
      ],
      "metadata": {
        "id": "kNXlvFmIxi22"
      },
      "execution_count": null,
      "outputs": []
    },
    {
      "cell_type": "code",
      "source": [
        "import timeit"
      ],
      "metadata": {
        "id": "MDgDo-IYyV-u"
      },
      "execution_count": null,
      "outputs": []
    },
    {
      "cell_type": "code",
      "source": [
        "# Wrap the function call in a lambda to make it callable\n",
        "t = timeit.timeit(lambda: BTA(query, model), number=1)  # Adjust 'number' as needed\n",
        "print()\n",
        "print(\"-\" * 80)\n",
        "print(f'Execution in seconds for {model_name}: ', t)\n",
        "print(\"-\" * 80)"
      ],
      "metadata": {
        "colab": {
          "base_uri": "https://localhost:8080/",
          "height": 1000
        },
        "id": "ys58xcayx4XZ",
        "outputId": "18314fac-7244-48a3-e307-196207042a8c"
      },
      "execution_count": null,
      "outputs": [
        {
          "output_type": "stream",
          "name": "stdout",
          "text": [
            "\n",
            "\n",
            "--------------------------------------------------------------------------------\n",
            "Question: How do you plan out your trip? Bob is travelling to SAT from YVR 1. He has a connection in DFW 2. His connection is 6 hours long 3. He has a budget of 100.00 including meals 4. What can he do? Please suggest a time. 5. Know- he is a hiker, museum, foodie, has a carry-on bag\n",
            "--------------------------------------------------------------------------------\n",
            "No streaming\n",
            "\n",
            "--------------------------------------------------------------------------------\n",
            "Answer: \n",
            "--------------------------------------------------------------------------------\n",
            "\n",
            "Bob's got a long layover in DFW, which gives him a chance to explore.  Here's a potential plan, incorporating his interests and budget:\n",
            "\n",
            "**Understanding the Constraints:**\n",
            "\n",
            "* **6-hour layover:**  Factor in time to deplane, re-board, and go through security again (around 2 hours total), leaving him with approximately 4 hours of free time.\n",
            "* **$100 Budget:** This needs to cover transportation to and from any off-airport activity, plus food.\n",
            "* **Carry-on Only:** This is great for mobility.\n",
            "\n",
            "**Possible Plan:**\n",
            "\n",
            "**Option 1: Embrace the Airport (Free)**\n",
            "\n",
            "* **Time:**  Any time during the layover.\n",
            "* **Activities:** DFW is a large airport with plenty to offer. He could explore the different terminals, enjoy the art installations, or find a quiet spot to relax and read. The airport also has free Wi-Fi, so he can catch up on emails or plan the next leg of his trip.  He could find a restaurant within his budget for a good meal.\n",
            "\n",
            "**Option 2: Quick Trip to the Founder's Plaza Observation Area (Budget-Friendly)**\n",
            "\n",
            "* **Time:** 2:00 PM - 6:00 PM (allowing 2 hours for airport procedures)\n",
            "* **Activities:** Take the free Skylink train to Terminal D and follow signs for the Founder's Plaza Observation Area. This gives him great views of the airport and planes taking off and landing.  It's a perfect spot for plane enthusiasts and photographers.  There are picnic tables if he wants to pack some snacks. He can grab a quick and inexpensive meal at the airport before heading out.\n",
            "\n",
            "**Option 3: Explore Grapevine's Historic Downtown (More Involved, Budget Dependent)**\n",
            "\n",
            "* **Time:** 1:00 PM - 5:00 PM (allowing 2 hours for airport procedures)\n",
            "* **Activities:**  Grapevine is a charming historic town a short distance from DFW.  He can take a taxi or rideshare (budget around $30-40 roundtrip).  He'll have about 2 hours to explore Main Street, browse the shops, and enjoy the quaint atmosphere. He could grab a quick bite at a local deli or cafe. Note: this option is tighter on time and budget.\n",
            "\n",
            "**Food Recommendations (Airport Focused):**\n",
            "\n",
            "* **Budget-Friendly:**  Look for grab-and-go options or food court stalls.  DFW has a variety of choices, from burgers and pizza to Tex-Mex.\n",
            "* **Foodie Experience (Mid-Range):** Explore some of the sit-down restaurants within the airport.  He might be able to find a good barbecue place or another restaurant offering local specialties.\n",
            "\n",
            "\n",
            "**Important Reminders:**\n",
            "\n",
            "* **Security:**  Allow ample time to go back through security before his connecting flight. Lines can be unpredictable.\n",
            "* **Terminal Transfers:**  DFW is large, so factor in time for inter-terminal travel. The Skylink train is efficient and free.\n",
            "* **Real-Time Updates:**  Use the DFW airport app or website for real-time information on flight status, gate changes, and amenities.\n",
            "\n",
            "**Which option is best?**\n",
            "\n",
            "Given his limited time and budget, exploring the airport (Option 1) or visiting the Founder's Plaza (Option 2) are the most practical choices. If he prioritizes getting a taste of the local area, he could consider Grapevine (Option 3), but needs to be very mindful of time and transportation costs.\n",
            "\n",
            "\n",
            "--------------------------------------------------------------------------------\n",
            "Execution in seconds for gemini-1.5-pro:  17.316034437\n",
            "--------------------------------------------------------------------------------\n"
          ]
        }
      ]
    },
    {
      "cell_type": "code",
      "source": [
        "model_name = 'gemini-1.5-flash'\n",
        "model = genai.GenerativeModel(model_name)"
      ],
      "metadata": {
        "id": "TGOG3stUv_Dp"
      },
      "execution_count": null,
      "outputs": []
    },
    {
      "cell_type": "code",
      "source": [
        "t = timeit.timeit(lambda: BTA(query, model), number=1)  # Adjust 'number' as needed\n",
        "print()\n",
        "print(\"-\" * 80)\n",
        "print(f'Execution in seconds for {model_name}: ', t)\n",
        "print(\"-\" * 80)"
      ],
      "metadata": {
        "colab": {
          "base_uri": "https://localhost:8080/",
          "height": 1000
        },
        "id": "7uAGIs2r2ny5",
        "outputId": "e2a161e9-471b-40be-b14a-3471bd6b6c4f"
      },
      "execution_count": null,
      "outputs": [
        {
          "output_type": "stream",
          "name": "stdout",
          "text": [
            "\n",
            "\n",
            "--------------------------------------------------------------------------------\n",
            "Question: How do you plan out your trip? Bob is travelling to SAT from YVR 1. He has a connection in DFW 2. His connection is 6 hours long 3. He has a budget of 100.00 including meals 4. What can he do? Please suggest a time. 5. Know- he is a hiker, museum, foodie, has a carry-on bag\n",
            "--------------------------------------------------------------------------------\n",
            "No streaming\n",
            "\n",
            "--------------------------------------------------------------------------------\n",
            "Answer: \n",
            "--------------------------------------------------------------------------------\n",
            "\n",
            "Let's plan Bob's trip from YVR to SAT with a 6-hour layover in DFW, keeping his budget and interests in mind.\n",
            "\n",
            "**1. Flight Booking:**\n",
            "\n",
            "* **Flights:** Bob needs to find flights from YVR to SAT with a layover in DFW, ensuring the layover is at least 6 hours long.  Websites like Google Flights, Skyscanner, Expedia, etc., allow him to filter by layover duration.  Prioritizing cheaper flights within his $100 budget (excluding meals) is crucial.  He might need to look for flights at off-peak times or be flexible with his travel dates to find the best deals.\n",
            "\n",
            "**2. Time of Travel:**\n",
            "\n",
            "* **Suggested Time:**  To maximize his 6-hour layover and potentially save money on flights, I'd suggest a mid-day or early afternoon flight from YVR to DFW. This allows him ample time for activities at the airport during his layover and avoids potential rush hour flight delays.\n",
            "\n",
            "**3. Activities during the 6-hour Layover in DFW:**\n",
            "\n",
            "With a $100 budget (including meals), Bob's options are somewhat limited in terms of leaving the airport.  DFW is a large airport, so transportation to and from could eat up much of his time and budget.  Let's focus on airport activities:\n",
            "\n",
            "* **Foodie:** DFW has a wide variety of restaurants at various price points.  Bob should carefully check menus online beforehand to stay within his budget. Aim for a meal costing around $20-$25 to leave room for other activities.\n",
            "\n",
            "* **Hiker:**  Unfortunately, there are no hiking trails within DFW airport.  The best he could do might be to find a quiet spot to stretch and relax before his next flight.\n",
            "\n",
            "* **Museum:** There isn't a museum within DFW airport.\n",
            "\n",
            "**Alternate Plan (if budget allows for a bit of flexibility):**\n",
            "\n",
            "If Bob could stretch his budget a bit (perhaps to $150), he might consider a very short excursion outside DFW. There is public transportation available, but researching travel times and costs is essential to ensure it fits within his timeframe.  This would be extremely tight and risky, however.\n",
            "\n",
            "**4.  Layover Breakdown (Staying within DFW):**\n",
            "\n",
            "* **Hour 1-2:**  Arrive at DFW, grab a bite to eat. Budget about $20-$25.\n",
            "* **Hour 2-4:** Relax, read a book, people-watch, or use the free Wi-Fi to check emails.\n",
            "* **Hour 4-5:**  Find another cafe for a snack or drink (budget $10-$15)\n",
            "* **Hour 5-6:**  Head towards his gate for his flight to SAT.\n",
            "\n",
            "**5.  Important Considerations:**\n",
            "\n",
            "* **Carry-on Only:**  Essential for minimizing hassle and ensuring a smooth and timely connection.\n",
            "* **TSA PreCheck/Clear:**  If Bob frequently flies, considering TSA PreCheck or Clear can significantly speed up security lines, providing more time for activities during the layover.\n",
            "* **Contingency:**  Unforeseen delays can happen. Bob needs to factor in some buffer time.  A longer layover is always preferable to a rushed one.\n",
            "* **Airport Map:** Familiarizing himself with the DFW airport map before his trip is crucial for efficient navigation.\n",
            "\n",
            "\n",
            "In summary, Bob's trip will be airport-centric given his budget and time constraints.  Focus on finding inexpensive flights and enjoying some simple meals and relaxation at DFW is the most realistic plan.\n",
            "\n",
            "\n",
            "--------------------------------------------------------------------------------\n",
            "Execution in seconds for gemini-1.5-flash:  7.034831002999994\n",
            "--------------------------------------------------------------------------------\n"
          ]
        }
      ]
    },
    {
      "cell_type": "code",
      "source": [
        "def execute_bta():\n",
        "    try:\n",
        "        BTA(query, model)\n",
        "    except Exception as e:\n",
        "        print(f\"An error occurred during BTA execution: {e}\")\n",
        "\n",
        "t = timeit.timeit(execute_bta, number=1) / 1  # Adjust 'number' as needed\n",
        "\n",
        "print()\n",
        "print(\"-\" * 80)\n",
        "print(f'Execution in seconds for {model_name}: ', t)\n",
        "print(\"-\" * 80)"
      ],
      "metadata": {
        "colab": {
          "base_uri": "https://localhost:8080/",
          "height": 1000
        },
        "id": "zDi27qp_1fQ9",
        "outputId": "433a4b0f-6696-4331-ee47-70b0ccf27eb2"
      },
      "execution_count": null,
      "outputs": [
        {
          "output_type": "stream",
          "name": "stdout",
          "text": [
            "\n",
            "\n",
            "--------------------------------------------------------------------------------\n",
            "Question: How do you plan out your trip? Bob is travelling to SAT from YVR 1. He has a connection in DFW 2. His connection is 6 hours long 3. He has a budget of 100.00 including meals 4. What can he do? Please suggest a time. 5. Know- he is a hiker, museum, foodie, has a carry-on bag\n",
            "--------------------------------------------------------------------------------\n",
            "No streaming\n",
            "\n",
            "--------------------------------------------------------------------------------\n",
            "Answer: \n",
            "--------------------------------------------------------------------------------\n",
            "\n",
            "Let's plan Bob's trip from YVR to SAT with a 6-hour layover in DFW, keeping his budget, interests, and luggage in mind.\n",
            "\n",
            "**1. Flight Booking & Timing:**\n",
            "\n",
            "* **Finding Flights:**  Use flight comparison websites like Google Flights, Skyscanner, Kayak, etc. to search for flights from YVR to SAT with a layover in DFW.  Filter by price and layover time (6 hours minimum). Aim for a total travel time that fits comfortably within a day's travel, avoiding excessively early or late flights.\n",
            "* **Ideal Time:**  To maximize his 6-hour layover, a flight arriving in DFW between 10 am and 2 pm would be ideal.  This allows ample time for activities before his onward flight to SAT. The later arrival would give more daylight hours for his chosen layover activity.\n",
            "* **Booking:** Once Bob finds a flight within his budget that suits his schedule, book it immediately to secure the price.\n",
            "\n",
            "**2. Layover Activities in DFW (6-hour window):**\n",
            "\n",
            "Given Bob's interests and budget, here are a few options for his 6-hour layover in DFW:\n",
            "\n",
            "* **Option 1 (Foodie Focus):**  DFW has many restaurants in its terminals.  He could spend some time exploring different dining options, trying local Texas cuisine within his $100 budget (allowing for flight costs). This could use up almost his entire layover time.\n",
            "\n",
            "* **Option 2 (Museum & Foodie):**  If DFW airport has any museum exhibits or art installations (check the airport website beforehand), he could visit one for an hour or two.  He could then balance the rest of his time with a less expensive meal.  This option requires checking if there are any suitable museums inside the airport.\n",
            "\n",
            "\n",
            "* **Option 3 (Relaxation):** DFW is a large airport, so he might simply prefer relaxing in a quiet gate area, reading a book, or using the free Wi-Fi. This is the most budget-friendly option and allows ample time for rest before his next flight.\n",
            "\n",
            "\n",
            "**3. Budget Allocation:**\n",
            "\n",
            "* **Flights:**  This will be the bulk of his $100 budget.  Flights with layovers can sometimes be cheaper.\n",
            "* **Food:**  Allocate $20-$30 for meals depending on chosen option.  Airport food is notoriously expensive, so he might want to bring some snacks from YVR to reduce this cost.\n",
            "* **Activities:**  Museum entry (if applicable) would add a small cost, but the airport itself offers free amenities.\n",
            "\n",
            "\n",
            "**4. Carry-on Considerations:**\n",
            "\n",
            "Since Bob is traveling with a carry-on only, this simplifies his travel and eliminates baggage fees.  He'll need to ensure his carry-on meets airline size restrictions.\n",
            "\n",
            "**5.  Detailed Plan Example (Option 2 - Museum & Food):**\n",
            "\n",
            "\n",
            "* **Flight 1:**  YVR to DFW (arrives at 12pm)\n",
            "* **Layover (12pm-6pm):**\n",
            "    * 12:30pm-1:30pm:  Grab lunch (pre-purchased food from YVR is the most budget-friendly if possible).\n",
            "    * 1:30pm-3:30pm: Explore any small airport museum or art installations if available. Otherwise, spend time people-watching or reading.\n",
            "    * 3:30pm-4:30pm: Relax and maybe grab a coffee or snack.\n",
            "    * 4:30pm-6:00pm: Head to the gate for his next flight.\n",
            "* **Flight 2:** DFW to SAT (departs 6pm)\n",
            "\n",
            "This is just a suggestion, and Bob can adjust it according to his preferences and the availability of activities at DFW Airport. He should always check the airport's website for the latest information on available services and amenities.\n",
            "\n",
            "\n",
            "--------------------------------------------------------------------------------\n",
            "Execution in seconds for gemini-1.5-flash:  7.033856762999989\n",
            "--------------------------------------------------------------------------------\n"
          ]
        }
      ]
    }
  ]
}