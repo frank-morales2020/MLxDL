{
  "nbformat": 4,
  "nbformat_minor": 0,
  "metadata": {
    "colab": {
      "provenance": [],
      "machine_shape": "hm",
      "gpuType": "T4",
      "authorship_tag": "ABX9TyPs3p+fc1KE/enLvvb0n6UZ",
      "include_colab_link": true
    },
    "kernelspec": {
      "name": "python3",
      "display_name": "Python 3"
    },
    "language_info": {
      "name": "python"
    },
    "accelerator": "GPU"
  },
  "cells": [
    {
      "cell_type": "markdown",
      "metadata": {
        "id": "view-in-github",
        "colab_type": "text"
      },
      "source": [
        "<a href=\"https://colab.research.google.com/github/frank-morales2020/MLxDL/blob/main/GEMINI_POC_2024_BTA_NEWAPI_1DOT5.ipynb\" target=\"_parent\"><img src=\"https://colab.research.google.com/assets/colab-badge.svg\" alt=\"Open In Colab\"/></a>"
      ]
    },
    {
      "cell_type": "markdown",
      "source": [
        "https://ai.google.dev/gemini-api/docs/get-started/python\n",
        "\n",
        "https://github.com/neulab/gemini-benchmark?tab=readme-ov-file\n",
        "\n",
        "\n",
        "https://arxiv.org/pdf/2403.05530"
      ],
      "metadata": {
        "id": "ZpkH6Tyr6Fca"
      }
    },
    {
      "cell_type": "code",
      "source": [
        "!nvidia-smi"
      ],
      "metadata": {
        "colab": {
          "base_uri": "https://localhost:8080/"
        },
        "id": "YBO9Yr-VDSDL",
        "outputId": "bc5f9123-481f-487a-f6cb-2bcd56288233"
      },
      "execution_count": 109,
      "outputs": [
        {
          "output_type": "stream",
          "name": "stdout",
          "text": [
            "Wed Aug 28 21:53:59 2024       \n",
            "+---------------------------------------------------------------------------------------+\n",
            "| NVIDIA-SMI 535.104.05             Driver Version: 535.104.05   CUDA Version: 12.2     |\n",
            "|-----------------------------------------+----------------------+----------------------+\n",
            "| GPU  Name                 Persistence-M | Bus-Id        Disp.A | Volatile Uncorr. ECC |\n",
            "| Fan  Temp   Perf          Pwr:Usage/Cap |         Memory-Usage | GPU-Util  Compute M. |\n",
            "|                                         |                      |               MIG M. |\n",
            "|=========================================+======================+======================|\n",
            "|   0  Tesla T4                       Off | 00000000:00:04.0 Off |                    0 |\n",
            "| N/A   40C    P8               9W /  70W |      0MiB / 15360MiB |      0%      Default |\n",
            "|                                         |                      |                  N/A |\n",
            "+-----------------------------------------+----------------------+----------------------+\n",
            "                                                                                         \n",
            "+---------------------------------------------------------------------------------------+\n",
            "| Processes:                                                                            |\n",
            "|  GPU   GI   CI        PID   Type   Process name                            GPU Memory |\n",
            "|        ID   ID                                                             Usage      |\n",
            "|=======================================================================================|\n",
            "|  No running processes found                                                           |\n",
            "+---------------------------------------------------------------------------------------+\n"
          ]
        }
      ]
    },
    {
      "cell_type": "code",
      "source": [
        "!pip install google-generativeai -q"
      ],
      "metadata": {
        "id": "18GXpuMi3Bfh"
      },
      "execution_count": 110,
      "outputs": []
    },
    {
      "cell_type": "code",
      "source": [
        "# Used to securely store your API key\n",
        "from google.colab import userdata\n",
        "\n",
        "import pathlib\n",
        "import textwrap\n",
        "\n",
        "import google.generativeai as genai"
      ],
      "metadata": {
        "id": "n2wh14Ck4XX1"
      },
      "execution_count": 111,
      "outputs": []
    },
    {
      "cell_type": "code",
      "source": [
        "GOOGLE_API_KEY=userdata.get('GEMINI')\n",
        "genai.configure(api_key=GOOGLE_API_KEY)"
      ],
      "metadata": {
        "id": "SG4V1mVs5K97"
      },
      "execution_count": 112,
      "outputs": []
    },
    {
      "cell_type": "code",
      "source": [
        "import google.generativeai as genai\n",
        "\n",
        "for m in genai.list_models():\n",
        "    if \"generateContent\" in m.supported_generation_methods:\n",
        "        print(m.name)"
      ],
      "metadata": {
        "colab": {
          "base_uri": "https://localhost:8080/",
          "height": 321
        },
        "id": "YY-DNFpwBYxr",
        "outputId": "6eee6028-521c-484f-e298-e1ed0af9c17f"
      },
      "execution_count": 113,
      "outputs": [
        {
          "output_type": "stream",
          "name": "stdout",
          "text": [
            "models/gemini-1.0-pro-latest\n",
            "models/gemini-1.0-pro\n",
            "models/gemini-pro\n",
            "models/gemini-1.0-pro-001\n",
            "models/gemini-1.0-pro-vision-latest\n",
            "models/gemini-pro-vision\n",
            "models/gemini-1.5-pro-latest\n",
            "models/gemini-1.5-pro-001\n",
            "models/gemini-1.5-pro\n",
            "models/gemini-1.5-pro-exp-0801\n",
            "models/gemini-1.5-pro-exp-0827\n",
            "models/gemini-1.5-flash-latest\n",
            "models/gemini-1.5-flash-001\n",
            "models/gemini-1.5-flash-001-tuning\n",
            "models/gemini-1.5-flash\n",
            "models/gemini-1.5-flash-exp-0827\n",
            "models/gemini-1.5-flash-8b-exp-0827\n"
          ]
        }
      ]
    },
    {
      "cell_type": "markdown",
      "source": [
        "BOB TRAVEL APP"
      ],
      "metadata": {
        "id": "qRt5ffS_ihmA"
      }
    },
    {
      "cell_type": "code",
      "source": [
        "model_name = 'gemini-1.5-pro'\n",
        "model = genai.GenerativeModel(model_name)"
      ],
      "metadata": {
        "id": "ihFR6I7Eh5jd"
      },
      "execution_count": 114,
      "outputs": []
    },
    {
      "cell_type": "code",
      "source": [
        "query = 'How do you plan out your trip? \\\n",
        "Bob is travelling to SAT from YVR \\\n",
        "1. He has a connection in DFW \\\n",
        "2. His connection is 6 hours long \\\n",
        "3. He has a budget of 100.00 including meals \\\n",
        "4. What can he do? Please suggest a time. \\\n",
        "5. Know- he is a hiker, museum, foodie, has a carry-on bag'\n",
        "\n",
        "\n",
        "def BTA(query,model):\n",
        "    chat_response=model.generate_content(query)\n",
        "    print()\n",
        "\n",
        "    print()\n",
        "    print(\"-\" * 80)\n",
        "    print('Question: %s'%query)\n",
        "    print(\"-\" * 80)\n",
        "    print(\"No streaming\")\n",
        "    print()\n",
        "    print(\"-\" * 80)\n",
        "    print('Answer: ')\n",
        "    print(\"-\" * 80)\n",
        "    print()\n",
        "    print(chat_response.text)"
      ],
      "metadata": {
        "id": "kNXlvFmIxi22"
      },
      "execution_count": 115,
      "outputs": []
    },
    {
      "cell_type": "code",
      "source": [
        "import timeit"
      ],
      "metadata": {
        "id": "MDgDo-IYyV-u"
      },
      "execution_count": 116,
      "outputs": []
    },
    {
      "cell_type": "code",
      "source": [
        "# Wrap the function call in a lambda to make it callable\n",
        "t = timeit.timeit(lambda: BTA(query, model), number=1)  # Adjust 'number' as needed\n",
        "print()\n",
        "print(\"-\" * 80)\n",
        "print(f'Execution in seconds for {model_name}: ', t)\n",
        "print(\"-\" * 80)"
      ],
      "metadata": {
        "colab": {
          "base_uri": "https://localhost:8080/",
          "height": 1000
        },
        "id": "ys58xcayx4XZ",
        "outputId": "c28c0d0e-0379-49b1-ab25-100737bf60a2"
      },
      "execution_count": 117,
      "outputs": [
        {
          "output_type": "stream",
          "name": "stdout",
          "text": [
            "\n",
            "\n",
            "--------------------------------------------------------------------------------\n",
            "Question: How do you plan out your trip? Bob is travelling to SAT from YVR 1. He has a connection in DFW 2. His connection is 6 hours long 3. He has a budget of 100.00 including meals 4. What can he do? Please suggest a time. 5. Know- he is a hiker, museum, foodie, has a carry-on bag\n",
            "--------------------------------------------------------------------------------\n",
            "No streaming\n",
            "\n",
            "--------------------------------------------------------------------------------\n",
            "Answer: \n",
            "--------------------------------------------------------------------------------\n",
            "\n",
            "Here's a possible plan for Bob's layover in DFW, keeping his interests and budget in mind:\n",
            "\n",
            "**Understanding the Constraints:**\n",
            "\n",
            "* **6-hour layover:** This is a decent amount of time to leave the airport, but factor in travel time to and from downtown Dallas (about 1 hour each way by train).\n",
            "* **$100 budget:** This needs to cover transportation, food, and any potential attractions. \n",
            "* **Carry-on only:**  This limits what he can bring back from his trip, but keeps things easy for moving around. \n",
            "\n",
            "**Suggested Itinerary:**\n",
            "\n",
            "**12:00 PM - 1:00 PM: Arrival & Airport Lunch**\n",
            "\n",
            "* Bob arrives at DFW from YVR and grabs a quick, budget-friendly lunch at the airport.  There are plenty of options, but he could aim for something local like a BBQ sandwich. \n",
            "\n",
            "**1:00 PM - 1:30 PM:  Travel to Dallas Arts District**\n",
            "\n",
            "* Take the DART Orange Line train from the airport directly to the Dallas Arts District (approx. 40 minutes, $2.50 each way).\n",
            "\n",
            "**1:30 PM - 4:30 PM: Explore the Dallas Arts District**\n",
            "\n",
            "* **Crow Collection of Asian Art (Free):** This museum offers a serene escape with stunning Asian art and artifacts. (1-2 hours)\n",
            "* **Klyde Warren Park (Free):** This unique park is built over a freeway and offers green space, food trucks, and often free events. Bob could enjoy a walk or relax with a view. (30 minutes - 1 hour)\n",
            "* **Food Truck Lunch/Snack:**  The Klyde Warren Park area usually has a variety of food trucks where Bob can sample local flavors within his budget. \n",
            "\n",
            "**4:30 PM - 5:00 PM: Return to DFW**\n",
            "\n",
            "* Take the DART Orange Line back to the airport.\n",
            "\n",
            "**5:00 PM - 6:00 PM: Airport Dinner & Relaxation**\n",
            "\n",
            "* Bob can grab dinner at the airport before his flight to SAT.\n",
            "\n",
            "**Estimated Costs:**\n",
            "\n",
            "* DART Train: $5\n",
            "* Airport Meals: $30 (allowing $15 per meal)\n",
            "* Food Truck: $15 \n",
            "* **Total: $50**\n",
            "\n",
            "**Why this works:**\n",
            "\n",
            "* **Budget-Friendly:** This plan focuses on free activities and affordable transportation, leaving room in the budget for meals.\n",
            "* **Interests:** It combines Bob's love for museums, food, and a bit of urban exploration.\n",
            "* **Manageable:** The timeline is realistic, accounting for travel time and allowing for some flexibility.\n",
            "\n",
            "**Additional Notes:**\n",
            "\n",
            "* **Check museum hours:**  Ensure the Crow Collection is open during the proposed time.\n",
            "* **Consider a CityPASS:** If Bob wanted to visit multiple museums, a Dallas CityPASS could offer savings. However, given the time constraints, one museum might be more relaxing. \n",
            "* **Alternative: Hiking at Cedar Ridge Preserve:** If Bob prefers hiking, Cedar Ridge Preserve is accessible by rideshare (about 30 minutes from the airport).  However, this would require more travel time and might be tight on the 6-hour layover.\n",
            "\n",
            "Remember, this is just a suggestion! Bob can customize it based on his preferences and energy levels. \n",
            "\n",
            "\n",
            "--------------------------------------------------------------------------------\n",
            "Execution in seconds for gemini-1.5-pro:  20.061154189999797\n",
            "--------------------------------------------------------------------------------\n"
          ]
        }
      ]
    },
    {
      "cell_type": "code",
      "source": [
        "model_name = 'gemini-1.5-flash'\n",
        "model = genai.GenerativeModel(model_name)"
      ],
      "metadata": {
        "id": "TGOG3stUv_Dp"
      },
      "execution_count": 118,
      "outputs": []
    },
    {
      "cell_type": "code",
      "source": [
        "t = timeit.timeit(lambda: BTA(query, model), number=1)  # Adjust 'number' as needed\n",
        "print()\n",
        "print(\"-\" * 80)\n",
        "print(f'Execution in seconds for {model_name}: ', t)\n",
        "print(\"-\" * 80)"
      ],
      "metadata": {
        "colab": {
          "base_uri": "https://localhost:8080/",
          "height": 1000
        },
        "id": "7uAGIs2r2ny5",
        "outputId": "08390558-f35a-4509-dfd0-cdbab6ff1f7e"
      },
      "execution_count": 119,
      "outputs": [
        {
          "output_type": "stream",
          "name": "stdout",
          "text": [
            "\n",
            "\n",
            "--------------------------------------------------------------------------------\n",
            "Question: How do you plan out your trip? Bob is travelling to SAT from YVR 1. He has a connection in DFW 2. His connection is 6 hours long 3. He has a budget of 100.00 including meals 4. What can he do? Please suggest a time. 5. Know- he is a hiker, museum, foodie, has a carry-on bag\n",
            "--------------------------------------------------------------------------------\n",
            "No streaming\n",
            "\n",
            "--------------------------------------------------------------------------------\n",
            "Answer: \n",
            "--------------------------------------------------------------------------------\n",
            "\n",
            "Here's a possible plan for Bob's layover in DFW, keeping his interests and budget in mind:\n",
            "\n",
            "**Timing:**\n",
            "\n",
            "* **Option 1:** Arrive DFW early afternoon (around 1 pm). This allows for a full afternoon to explore, maximizing daylight hours for activities.\n",
            "* **Option 2:** Arrive DFW late morning (around 10 am). This allows for a full day to explore, including lunch and dinner. \n",
            "\n",
            "**Activities:**\n",
            "\n",
            "* **Hiking:** DFW Airport is not known for hiking, but there are a few options nearby:\n",
            "    * **Trinity Trails:** A 15-minute drive from the airport, Trinity Trails offer scenic walking and biking paths along the Trinity River. You can find maps and trail information online. \n",
            "    * **Eagle Mountain Lake Park:** A 30-minute drive from the airport, this park offers hiking trails, picnic areas, and fishing. \n",
            "* **Museums:**\n",
            "    * **Perot Museum of Nature and Science:** This is a great option for those interested in science and technology.  It's about a 20-minute drive from the airport.\n",
            "    * **Dallas Arboretum and Botanical Garden:** Offers beautiful gardens, a sculpture collection, and various exhibits. This is about a 30-minute drive.\n",
            "* **Foodie:**\n",
            "    * **DFW Airport:**  DFW Airport has a variety of food options to choose from, including fast food, restaurants, and cafes.\n",
            "    * **Dallas:**  Depending on your time and budget, you can take a taxi or ride-sharing service into Dallas for a more diverse culinary experience.\n",
            "    * **Food Tours:** Look into food tour options that explore the diverse food scene of Dallas, offering multiple stops.\n",
            "\n",
            "**Budget Breakdown (Example):**\n",
            "\n",
            "* **Transportation:** \n",
            "    * Airport shuttle: $10-15 round trip\n",
            "    * Ride-sharing: $20-30 round trip to Dallas (depending on location)\n",
            "* **Food:**\n",
            "    * Airport meal: $15-20\n",
            "    * Dallas meal: $20-30 (depending on location)\n",
            "* **Museum/Activity:**\n",
            "    * Perot Museum: $25 (adult admission)\n",
            "    * Trinity Trails: Free\n",
            "\n",
            "**Sample Schedule (Option 1 - Afternoon Arrival):**\n",
            "\n",
            "* **1:00 PM:** Arrive at DFW. Grab a quick lunch at the airport (budget around $15).\n",
            "* **2:00 PM:** Take a taxi or ride-sharing service to Trinity Trails (budget around $20).\n",
            "* **2:30 PM - 4:30 PM:** Enjoy a hike along the Trinity Trails.\n",
            "* **4:30 PM:** Head back to the airport for a quick dinner at the airport (budget around $15).\n",
            "* **6:00 PM:** Relax in the airport lounge or explore the shops.\n",
            "* **9:00 PM:** Board your flight to SAT.\n",
            "\n",
            "**Important Considerations:**\n",
            "\n",
            "* **Time:**  Account for travel time to and from the airport and activities.\n",
            "* **Safety:** DFW Airport is a large and busy airport, so be aware of your surroundings and keep your belongings secure. \n",
            "* **Luggage:**  You have a carry-on bag, so you're good to go!\n",
            "* **Transportation:** Check the availability and pricing of taxis, ride-sharing services, or public transportation options.\n",
            "\n",
            "**Let me know if you'd like to refine the plan based on your preferences or budget!** \n",
            "\n",
            "\n",
            "--------------------------------------------------------------------------------\n",
            "Execution in seconds for gemini-1.5-flash:  5.589207910000368\n",
            "--------------------------------------------------------------------------------\n"
          ]
        }
      ]
    },
    {
      "cell_type": "code",
      "source": [
        "def execute_bta():\n",
        "    try:\n",
        "        BTA(query, model)\n",
        "    except Exception as e:\n",
        "        print(f\"An error occurred during BTA execution: {e}\")\n",
        "\n",
        "t = timeit.timeit(execute_bta, number=1) / 1  # Adjust 'number' as needed\n",
        "\n",
        "print()\n",
        "print(\"-\" * 80)\n",
        "print(f'Execution in seconds for {model_name}: ', t)\n",
        "print(\"-\" * 80)"
      ],
      "metadata": {
        "colab": {
          "base_uri": "https://localhost:8080/",
          "height": 1000
        },
        "id": "zDi27qp_1fQ9",
        "outputId": "af816dcf-b94c-469c-c863-1b6492a6ac95"
      },
      "execution_count": 120,
      "outputs": [
        {
          "output_type": "stream",
          "name": "stdout",
          "text": [
            "\n",
            "\n",
            "--------------------------------------------------------------------------------\n",
            "Question: How do you plan out your trip? Bob is travelling to SAT from YVR 1. He has a connection in DFW 2. His connection is 6 hours long 3. He has a budget of 100.00 including meals 4. What can he do? Please suggest a time. 5. Know- he is a hiker, museum, foodie, has a carry-on bag\n",
            "--------------------------------------------------------------------------------\n",
            "No streaming\n",
            "\n",
            "--------------------------------------------------------------------------------\n",
            "Answer: \n",
            "--------------------------------------------------------------------------------\n",
            "\n",
            "Here's a plan for Bob's layover in DFW, focusing on his interests and budget:\n",
            "\n",
            "**Time:**  Since Bob has 6 hours, a good option is to schedule his layover from **10:00 AM to 4:00 PM**. This allows for a full morning activity and a relaxed afternoon.\n",
            "\n",
            "**Activities:**\n",
            "\n",
            "**10:00 AM - 12:00 PM: Hike at the Trinity Trails:**\n",
            "\n",
            "* DFW has an extensive network of trails. The Trinity Trails are perfect for a quick hike and offer scenic views.  \n",
            "* Cost: Free\n",
            "* Note: Bob can grab a quick snack or energy bar from a nearby convenience store before the hike.\n",
            "\n",
            "**12:00 PM - 1:30 PM: Lunch & Museum Visit:**\n",
            "\n",
            "* **Lunch:** Head to the Fort Worth Botanic Garden (cost: $10 for admission, but free on Tuesdays).  They have a lovely cafe offering light meals and snacks.  \n",
            "* **Museum:** Spend an hour or two at the Kimbell Art Museum, known for its impressive collection (cost: Free!).\n",
            "\n",
            "**1:30 PM - 3:00 PM: Relax and Refuel:**\n",
            "\n",
            "* Grab coffee and a pastry at a cafe in the DFW Airport terminal.\n",
            "* Explore the airport's shops for souvenirs or small gifts.\n",
            "\n",
            "**3:00 PM - 4:00 PM:  Enjoy the Airport Amenities:**\n",
            "\n",
            "* Relax and recharge in the airport's lounge area.\n",
            "* If time allows, browse the airport's art displays or enjoy a book.\n",
            "\n",
            "**Total Budget:**\n",
            "\n",
            "* Hiking: Free\n",
            "* Lunch: $10\n",
            "* Museum: Free\n",
            "* Coffee/Snack: $10\n",
            "* **Total: $20**\n",
            "\n",
            "**Tips:**\n",
            "\n",
            "* **Pre-order food:** To save time, consider pre-ordering lunch or snacks online for pick-up at the airport.\n",
            "* **Download maps:**  Use a navigation app to ensure easy travel between the airport and the trailhead.\n",
            "* **Comfortable shoes:**  Essential for walking and hiking!\n",
            "\n",
            "**Enjoy the Layover:**\n",
            "\n",
            "Bob can enjoy a hike, a museum visit, and some relaxing time at the airport, all within his budget. He can experience DFW without needing to leave the airport, making for a fun and memorable layover. \n",
            "\n",
            "\n",
            "--------------------------------------------------------------------------------\n",
            "Execution in seconds for gemini-1.5-flash:  4.0232806139993045\n",
            "--------------------------------------------------------------------------------\n"
          ]
        }
      ]
    }
  ]
}