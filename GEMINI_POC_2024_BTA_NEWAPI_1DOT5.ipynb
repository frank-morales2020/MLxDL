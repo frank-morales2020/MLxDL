{
  "nbformat": 4,
  "nbformat_minor": 0,
  "metadata": {
    "colab": {
      "provenance": [],
      "machine_shape": "hm",
      "gpuType": "T4",
      "authorship_tag": "ABX9TyOXu4GjKmM2OyzuZuL3PeyZ",
      "include_colab_link": true
    },
    "kernelspec": {
      "name": "python3",
      "display_name": "Python 3"
    },
    "language_info": {
      "name": "python"
    },
    "accelerator": "GPU"
  },
  "cells": [
    {
      "cell_type": "markdown",
      "metadata": {
        "id": "view-in-github",
        "colab_type": "text"
      },
      "source": [
        "<a href=\"https://colab.research.google.com/github/frank-morales2020/MLxDL/blob/main/GEMINI_POC_2024_BTA_NEWAPI_1DOT5.ipynb\" target=\"_parent\"><img src=\"https://colab.research.google.com/assets/colab-badge.svg\" alt=\"Open In Colab\"/></a>"
      ]
    },
    {
      "cell_type": "markdown",
      "source": [
        "https://ai.google.dev/gemini-api/docs/get-started/python\n",
        "\n",
        "https://github.com/neulab/gemini-benchmark?tab=readme-ov-file\n",
        "\n",
        "\n",
        "https://arxiv.org/pdf/2403.05530"
      ],
      "metadata": {
        "id": "ZpkH6Tyr6Fca"
      }
    },
    {
      "cell_type": "code",
      "source": [
        "!nvidia-smi"
      ],
      "metadata": {
        "colab": {
          "base_uri": "https://localhost:8080/"
        },
        "id": "YBO9Yr-VDSDL",
        "outputId": "4f6272c0-88f6-49cc-fb01-084952ced607"
      },
      "execution_count": 1,
      "outputs": [
        {
          "output_type": "stream",
          "name": "stdout",
          "text": [
            "Wed Aug 28 20:46:19 2024       \n",
            "+---------------------------------------------------------------------------------------+\n",
            "| NVIDIA-SMI 535.104.05             Driver Version: 535.104.05   CUDA Version: 12.2     |\n",
            "|-----------------------------------------+----------------------+----------------------+\n",
            "| GPU  Name                 Persistence-M | Bus-Id        Disp.A | Volatile Uncorr. ECC |\n",
            "| Fan  Temp   Perf          Pwr:Usage/Cap |         Memory-Usage | GPU-Util  Compute M. |\n",
            "|                                         |                      |               MIG M. |\n",
            "|=========================================+======================+======================|\n",
            "|   0  Tesla T4                       Off | 00000000:00:04.0 Off |                    0 |\n",
            "| N/A   44C    P8               9W /  70W |      0MiB / 15360MiB |      0%      Default |\n",
            "|                                         |                      |                  N/A |\n",
            "+-----------------------------------------+----------------------+----------------------+\n",
            "                                                                                         \n",
            "+---------------------------------------------------------------------------------------+\n",
            "| Processes:                                                                            |\n",
            "|  GPU   GI   CI        PID   Type   Process name                            GPU Memory |\n",
            "|        ID   ID                                                             Usage      |\n",
            "|=======================================================================================|\n",
            "|  No running processes found                                                           |\n",
            "+---------------------------------------------------------------------------------------+\n"
          ]
        }
      ]
    },
    {
      "cell_type": "code",
      "source": [
        "!pip install google-generativeai -q"
      ],
      "metadata": {
        "id": "18GXpuMi3Bfh"
      },
      "execution_count": 2,
      "outputs": []
    },
    {
      "cell_type": "code",
      "source": [
        "# Used to securely store your API key\n",
        "from google.colab import userdata\n",
        "\n",
        "import pathlib\n",
        "import textwrap\n",
        "\n",
        "import google.generativeai as genai\n",
        "\n",
        "from IPython.display import display\n",
        "from IPython.display import Markdown"
      ],
      "metadata": {
        "id": "n2wh14Ck4XX1"
      },
      "execution_count": 3,
      "outputs": []
    },
    {
      "cell_type": "code",
      "source": [
        "from IPython.display import Markdown\n",
        "def to_markdown(text):\n",
        "  text = text.replace('•', '  *')\n",
        "  return Markdown(textwrap.indent(text, '> ', predicate=lambda _: True))"
      ],
      "metadata": {
        "id": "Itvp4FprTBKd"
      },
      "execution_count": 4,
      "outputs": []
    },
    {
      "cell_type": "code",
      "source": [
        "GOOGLE_API_KEY=userdata.get('GEMINI')\n",
        "genai.configure(api_key=GOOGLE_API_KEY)"
      ],
      "metadata": {
        "id": "SG4V1mVs5K97"
      },
      "execution_count": 5,
      "outputs": []
    },
    {
      "cell_type": "code",
      "source": [
        "import google.generativeai as genai\n",
        "\n",
        "for m in genai.list_models():\n",
        "    if \"generateContent\" in m.supported_generation_methods:\n",
        "        print(m.name)"
      ],
      "metadata": {
        "colab": {
          "base_uri": "https://localhost:8080/",
          "height": 321
        },
        "id": "YY-DNFpwBYxr",
        "outputId": "6f661d6e-4eed-403b-f5e4-a5180bb0a11e"
      },
      "execution_count": 6,
      "outputs": [
        {
          "output_type": "stream",
          "name": "stdout",
          "text": [
            "models/gemini-1.0-pro-latest\n",
            "models/gemini-1.0-pro\n",
            "models/gemini-pro\n",
            "models/gemini-1.0-pro-001\n",
            "models/gemini-1.0-pro-vision-latest\n",
            "models/gemini-pro-vision\n",
            "models/gemini-1.5-pro-latest\n",
            "models/gemini-1.5-pro-001\n",
            "models/gemini-1.5-pro\n",
            "models/gemini-1.5-pro-exp-0801\n",
            "models/gemini-1.5-pro-exp-0827\n",
            "models/gemini-1.5-flash-latest\n",
            "models/gemini-1.5-flash-001\n",
            "models/gemini-1.5-flash-001-tuning\n",
            "models/gemini-1.5-flash\n",
            "models/gemini-1.5-flash-exp-0827\n",
            "models/gemini-1.5-flash-8b-exp-0827\n"
          ]
        }
      ]
    },
    {
      "cell_type": "markdown",
      "source": [
        "BOB TRAVEL APP"
      ],
      "metadata": {
        "id": "qRt5ffS_ihmA"
      }
    },
    {
      "cell_type": "code",
      "source": [
        "model_name = 'gemini-1.5-pro'\n",
        "model = genai.GenerativeModel(model_name)"
      ],
      "metadata": {
        "id": "ihFR6I7Eh5jd"
      },
      "execution_count": 49,
      "outputs": []
    },
    {
      "cell_type": "code",
      "source": [
        "query = 'How do you plan out your trip? \\\n",
        "Bob is travelling to SAT from YVR \\\n",
        "1. He has a connection in DFW \\\n",
        "2. His connection is 6 hours long \\\n",
        "3. He has a budget of 100.00 including meals \\\n",
        "4. What can he do? Please suggest a time. \\\n",
        "5. Know- he is a hiker, museum, foodie, has a carry-on bag'\n",
        "\n",
        "def BTA(query,model):\n",
        "    chat_response=model.generate_content(query)\n",
        "    print()\n",
        "\n",
        "    print()\n",
        "    print(\"-\" * 80)\n",
        "    print('Question: %s'%query)\n",
        "    print(\"-\" * 80)\n",
        "    print(\"No streaming\")\n",
        "    print()\n",
        "    print('Answer: ')\n",
        "    print(chat_response.text)\n",
        ""
      ],
      "metadata": {
        "id": "kNXlvFmIxi22"
      },
      "execution_count": 38,
      "outputs": []
    },
    {
      "cell_type": "code",
      "source": [
        "import timeit"
      ],
      "metadata": {
        "id": "MDgDo-IYyV-u"
      },
      "execution_count": 39,
      "outputs": []
    },
    {
      "cell_type": "code",
      "source": [
        "# Wrap the function call in a lambda to make it callable\n",
        "t = timeit.timeit(lambda: BTA(query, model), number=1)  # Adjust 'number' as needed\n",
        "print()\n",
        "print(f'Execution in seconds for {model_name}: ', t)"
      ],
      "metadata": {
        "colab": {
          "base_uri": "https://localhost:8080/",
          "height": 984
        },
        "id": "ys58xcayx4XZ",
        "outputId": "918cdbf7-c913-4bee-c821-9974a67f2a90"
      },
      "execution_count": 50,
      "outputs": [
        {
          "output_type": "stream",
          "name": "stdout",
          "text": [
            "\n",
            "\n",
            "--------------------------------------------------------------------------------\n",
            "Question: How do you plan out your trip? Bob is travelling to SAT from YVR 1. He has a connection in DFW 2. His connection is 6 hours long 3. He has a budget of 100.00 including meals 4. What can he do? Please suggest a time. 5. Know- he is a hiker, museum, foodie, has a carry-on bag\n",
            "--------------------------------------------------------------------------------\n",
            "No streaming\n",
            "\n",
            "Answer: \n",
            "Here's a possible plan for Bob's 6-hour layover in DFW, keeping in mind his interests and budget:\n",
            "\n",
            "**Understanding the Constraints**\n",
            "\n",
            "* **6-Hour Layover:**  This is a decent amount of time to leave the airport, but factor in travel time to and from downtown Dallas (about 1 hour each way).\n",
            "* **$100 Budget:** This needs to cover transportation, food, and any potential attractions.\n",
            "* **Carry-on Only:**  This means Bob is mobile and doesn't have to worry about luggage storage.\n",
            "\n",
            "**The Plan**\n",
            "\n",
            "1. **Transportation (Budget: $30-40 round trip):**\n",
            "   * **DART Light Rail:** The cheapest option. The Orange Line runs directly from DFW Airport to downtown Dallas. A round trip should cost under $6. [https://www.dart.org/](https://www.dart.org/)\n",
            "\n",
            "2. **Downtown Dallas Exploration (3-4 hours):**\n",
            "\n",
            "   * **Lunch at the Dallas Farmers Market (Budget: $15-20):**  A great spot for a foodie like Bob, offering a variety of cuisines and local specialties.  \n",
            "   * **Free Activities:**\n",
            "      * **John F. Kennedy Memorial Plaza:** A short walk from the Farmers Market, this is a somber and historically significant site. \n",
            "      * **Pioneer Plaza:** A unique park featuring sculptures of cattle drives – a nod to Texas history. \n",
            "   * **Museum Option (Budget: $15-25):**\n",
            "      * **The Sixth Floor Museum at Dealey Plaza:**  If Bob's interested in history, this museum chronicling the assassination of JFK is very close by.\n",
            "\n",
            "3. **Return to DFW:** \n",
            "    * Allow plenty of time to get back through airport security.\n",
            "\n",
            "**Possible Time Breakdown:**\n",
            "\n",
            "* **11:00 AM - 12:00 PM:**  Arrive at DFW, clear customs (if applicable), and take the DART to downtown Dallas.\n",
            "* **12:00 PM - 1:30 PM:**  Explore the Dallas Farmers Market and enjoy lunch.\n",
            "* **1:30 PM - 2:30 PM:** Visit the John F. Kennedy Memorial Plaza and Pioneer Plaza.\n",
            "* **2:30 PM - 4:30 PM:** Visit The Sixth Floor Museum (optional).\n",
            "* **4:30 PM - 5:30 PM:** Take the DART back to DFW Airport.\n",
            "* **5:30 PM - 6:00 PM:**  Go through airport security and head to the gate.\n",
            "\n",
            "**Important Considerations:**\n",
            "\n",
            "* **Check DART Schedules:** Confirm the train times between DFW Airport and downtown Dallas to avoid unnecessary waiting.\n",
            "* **Museum Hours:** If Bob chooses the museum, double-check their opening hours and consider purchasing tickets in advance online.\n",
            "* **Food Options:** Dallas has plenty of affordable dining options beyond the Farmers Market. Explore online reviews to find something within Bob's budget.\n",
            "* **Security Lines:**  Always allow ample time to get through security, especially during peak travel periods.\n",
            "\n",
            "**This itinerary provides a good balance of exploring downtown Dallas, enjoying some local food, and potentially visiting a museum, all while staying within Bob's budget and time constraints.** \n",
            "\n",
            "\n",
            "Execution in seconds for gemini-1.5-pro:  23.515956412999913\n"
          ]
        }
      ]
    },
    {
      "cell_type": "code",
      "source": [
        "model_name = 'gemini-1.5-flash'\n",
        "model = genai.GenerativeModel(model_name)"
      ],
      "metadata": {
        "id": "TGOG3stUv_Dp"
      },
      "execution_count": 53,
      "outputs": []
    },
    {
      "cell_type": "code",
      "source": [
        "t = timeit.timeit(lambda: BTA(query, model), number=1)  # Adjust 'number' as needed\n",
        "print()\n",
        "print(f'Execution in seconds for {model_name}: ', t)"
      ],
      "metadata": {
        "colab": {
          "base_uri": "https://localhost:8080/",
          "height": 1000
        },
        "id": "7uAGIs2r2ny5",
        "outputId": "c1e2eedf-5d35-4889-e8ef-41093354dde3"
      },
      "execution_count": 54,
      "outputs": [
        {
          "output_type": "stream",
          "name": "stdout",
          "text": [
            "\n",
            "\n",
            "--------------------------------------------------------------------------------\n",
            "Question: How do you plan out your trip? Bob is travelling to SAT from YVR 1. He has a connection in DFW 2. His connection is 6 hours long 3. He has a budget of 100.00 including meals 4. What can he do? Please suggest a time. 5. Know- he is a hiker, museum, foodie, has a carry-on bag\n",
            "--------------------------------------------------------------------------------\n",
            "No streaming\n",
            "\n",
            "Answer: \n",
            "Okay, let's plan Bob's layover in Dallas! Here's a breakdown based on his interests and budget:\n",
            "\n",
            "**Understanding the Layover:**\n",
            "\n",
            "* **Location:**  Dallas/Fort Worth International Airport (DFW)\n",
            "* **Time:** 6 hours\n",
            "* **Budget:** $100 (including meals)\n",
            "* **Interests:** Hiking, museums, food, carry-on bag only\n",
            "\n",
            "**Possible Itinerary:**\n",
            "\n",
            "**Option 1:  Nature & Food (2-3 hours)**\n",
            "\n",
            "* **Morning:**\n",
            "    * **Transportation:** Take the DFW Airport Train (free) to the Trinity Railway Express (TRE) station.\n",
            "    * **Hiking:** Take the TRE to the Fort Worth Botanic Garden (about 30-40 minutes).  Enjoy a hike through the Japanese Garden or the Rose Garden.\n",
            "    * **Lunch:** Grab a casual meal at the Botanic Garden's cafe or find a local spot near the TRE station.\n",
            "* **Afternoon:**\n",
            "    * **Transportation:** Return to DFW via the TRE and Airport Train.\n",
            "* **Budget:**  TRE ticket ~$4, lunch ~$15\n",
            "\n",
            "**Option 2: Museum & Food (3-4 hours)**\n",
            "\n",
            "* **Morning:**\n",
            "    * **Transportation:** Take the DFW Airport Train to the DFW Airport Station.\n",
            "    * **Museum:** Visit the Perot Museum of Nature and Science (about 30 minutes by taxi). Spend time exploring the exhibits.\n",
            "    * **Lunch:** Enjoy a quick meal in the museum's cafe or grab something at a food court nearby.\n",
            "* **Afternoon:**\n",
            "    * **Transportation:** Take a taxi back to the airport.\n",
            "* **Budget:** Taxi ~$30, museum entrance ~$25, lunch ~$10\n",
            "\n",
            "**Option 3:  Foodie Adventure (3-4 hours)**\n",
            "\n",
            "* **Morning:**\n",
            "    * **Transportation:** Take the DFW Airport Train to the DFW Airport Station.\n",
            "    * **Food Tour:** Explore the vibrant food scene of downtown Dallas by joining a guided food tour (about 2 hours).  \n",
            "    * **Lunch:** Enjoy a meal during the food tour.\n",
            "* **Afternoon:**\n",
            "    * **Transportation:** Take a taxi back to the airport.\n",
            "* **Budget:**  Taxi ~$30, food tour ~$40 (check tour pricing)\n",
            "\n",
            "**Things to Remember:**\n",
            "\n",
            "* **Carry-on only:** This limits the amount of things you can bring (e.g., hiking boots). \n",
            "* **Transportation:** Factor in travel time to and from the airport.  \n",
            "* **Airport Train:**  The free DFW Airport Train connects terminals and the airport station. \n",
            "* **Budget:**  Be mindful of food and transportation costs.\n",
            "\n",
            "**Recommendation:** \n",
            "\n",
            "Considering Bob's interests and budget, the **Nature & Food (Option 1)** seems like a good choice.  It offers an enjoyable outdoor experience, a casual meal, and stays within his budget.\n",
            "\n",
            "**Pro-Tip:**\n",
            "\n",
            "* **Airport wifi:**  Use the airport's free wifi to research activities and check prices. \n",
            "* **DFW Airport App:** Download the DFW Airport app for information on transportation, maps, and more. \n",
            "* **Safety:**  Be aware of your surroundings, especially if traveling alone.\n",
            "\n",
            "**Have a great layover, Bob!** \n",
            "\n",
            "\n",
            "Execution in seconds for gemini-1.5-flash:  5.357967769999959\n"
          ]
        }
      ]
    },
    {
      "cell_type": "code",
      "source": [
        "def execute_bta():\n",
        "    try:\n",
        "        BTA(query, model)\n",
        "    except Exception as e:\n",
        "        print(f\"An error occurred during BTA execution: {e}\")\n",
        "\n",
        "t = timeit.timeit(execute_bta, number=1) / 1  # Adjust 'number' as needed\n",
        "\n",
        "print()\n",
        "print(f'Execution in seconds for {model_name}: ', t)"
      ],
      "metadata": {
        "colab": {
          "base_uri": "https://localhost:8080/",
          "height": 1000
        },
        "id": "zDi27qp_1fQ9",
        "outputId": "f72e2b37-41d9-43c6-9713-273cc6293d6a"
      },
      "execution_count": 55,
      "outputs": [
        {
          "output_type": "stream",
          "name": "stdout",
          "text": [
            "\n",
            "\n",
            "--------------------------------------------------------------------------------\n",
            "Question: How do you plan out your trip? Bob is travelling to SAT from YVR 1. He has a connection in DFW 2. His connection is 6 hours long 3. He has a budget of 100.00 including meals 4. What can he do? Please suggest a time. 5. Know- he is a hiker, museum, foodie, has a carry-on bag\n",
            "--------------------------------------------------------------------------------\n",
            "No streaming\n",
            "\n",
            "Answer: \n",
            "Here's a plan for Bob's trip, taking his interests and budget into account:\n",
            "\n",
            "**Understanding the Trip:**\n",
            "\n",
            "* **Origin:** YVR (Vancouver International Airport)\n",
            "* **Destination:** SAT (San Antonio International Airport)\n",
            "* **Connection:** DFW (Dallas/Fort Worth International Airport)\n",
            "* **Layover Time:** 6 hours\n",
            "* **Budget:** $100 (including meals)\n",
            "* **Interests:** Hiking, museums, food, carry-on bag only\n",
            "\n",
            "**Planning the Layover:**\n",
            "\n",
            "**Option 1:  Explore DFW Airport**\n",
            "\n",
            "* **Time:** 6 hours is plenty for this\n",
            "* **Activities:**\n",
            "    * **DFW Airport Art Program:** DFW boasts a fantastic art collection with sculptures and murals throughout the airport.  \n",
            "    * **Shopping:** There are plenty of shops for souvenirs, travel essentials, and more.\n",
            "    * **Food:** DFW has a great selection of restaurants, including local favorites.\n",
            "* **Budget:** You can easily stay within your budget with this option.  Look for deals on food and drinks, and consider bringing snacks from home.\n",
            "\n",
            "**Option 2:  Head to Downtown Dallas (If Possible)**\n",
            "\n",
            "* **Time:**  6 hours is tight, but doable if you can get a taxi or ride-sharing service.\n",
            "* **Activities:**\n",
            "    * **Dallas Arts District:**  Explore the vibrant art scene with world-class museums, galleries, and public art installations. \n",
            "    * **Perot Museum of Nature and Science:** Engaging exhibits for all ages.\n",
            "    * **Klyde Warren Park:** A unique green space built over a freeway, with food trucks, events, and activities.\n",
            "* **Budget:**  This option can be more expensive. Factor in transportation costs (around $30-40 for a taxi/ride-share each way) and consider the price of museum entry fees. \n",
            "    * **Tip:**  If you're on a tighter budget, check for free days or discounted admission at the museums. \n",
            "\n",
            "**Recommended Time:**\n",
            "\n",
            "* **Consider a late morning or early afternoon arrival at DFW.** This will give you enough time to explore the airport or make the trip to Dallas if you choose Option 2. \n",
            "\n",
            "**Important Considerations:**\n",
            "\n",
            "* **Transportation:**  If you're going to Dallas, be sure to factor in the time it takes to get to and from the airport.  Allow for potential traffic delays. \n",
            "* **Food:**  You can find plenty of affordable food options at DFW, but consider bringing snacks to avoid spending too much. \n",
            "* **Safety:**  DFW is a large airport. Be mindful of your belongings and surroundings.\n",
            "\n",
            "**Tips:**\n",
            "\n",
            "* **Plan your itinerary in advance:** This will help you stay on track and avoid rushing.\n",
            "* **Check airport websites for real-time information:** This will keep you updated on flight schedules, security lines, and more.\n",
            "* **Download apps for navigation and ride-sharing:** This will make it easier to get around.\n",
            "\n",
            "**Have a great trip, Bob!** \n",
            "\n",
            "\n",
            "Execution in seconds for gemini-1.5-flash:  4.598743966999791\n"
          ]
        }
      ]
    }
  ]
}