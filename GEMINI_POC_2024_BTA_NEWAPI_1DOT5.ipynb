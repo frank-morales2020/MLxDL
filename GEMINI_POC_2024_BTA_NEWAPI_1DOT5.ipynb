{
  "nbformat": 4,
  "nbformat_minor": 0,
  "metadata": {
    "colab": {
      "provenance": [],
      "machine_shape": "hm",
      "gpuType": "T4",
      "authorship_tag": "ABX9TyN0jrZL4/EKvd4eM1f295/9",
      "include_colab_link": true
    },
    "kernelspec": {
      "name": "python3",
      "display_name": "Python 3"
    },
    "language_info": {
      "name": "python"
    },
    "accelerator": "GPU"
  },
  "cells": [
    {
      "cell_type": "markdown",
      "metadata": {
        "id": "view-in-github",
        "colab_type": "text"
      },
      "source": [
        "<a href=\"https://colab.research.google.com/github/frank-morales2020/MLxDL/blob/main/GEMINI_POC_2024_BTA_NEWAPI_1DOT5.ipynb\" target=\"_parent\"><img src=\"https://colab.research.google.com/assets/colab-badge.svg\" alt=\"Open In Colab\"/></a>"
      ]
    },
    {
      "cell_type": "markdown",
      "source": [
        "https://ai.google.dev/gemini-api/docs/get-started/python\n",
        "\n",
        "https://github.com/neulab/gemini-benchmark?tab=readme-ov-file\n",
        "\n",
        "\n",
        "https://arxiv.org/pdf/2403.05530"
      ],
      "metadata": {
        "id": "ZpkH6Tyr6Fca"
      }
    },
    {
      "cell_type": "code",
      "source": [
        "!nvidia-smi"
      ],
      "metadata": {
        "colab": {
          "base_uri": "https://localhost:8080/"
        },
        "id": "YBO9Yr-VDSDL",
        "outputId": "4f6272c0-88f6-49cc-fb01-084952ced607"
      },
      "execution_count": 1,
      "outputs": [
        {
          "output_type": "stream",
          "name": "stdout",
          "text": [
            "Wed Aug 28 20:46:19 2024       \n",
            "+---------------------------------------------------------------------------------------+\n",
            "| NVIDIA-SMI 535.104.05             Driver Version: 535.104.05   CUDA Version: 12.2     |\n",
            "|-----------------------------------------+----------------------+----------------------+\n",
            "| GPU  Name                 Persistence-M | Bus-Id        Disp.A | Volatile Uncorr. ECC |\n",
            "| Fan  Temp   Perf          Pwr:Usage/Cap |         Memory-Usage | GPU-Util  Compute M. |\n",
            "|                                         |                      |               MIG M. |\n",
            "|=========================================+======================+======================|\n",
            "|   0  Tesla T4                       Off | 00000000:00:04.0 Off |                    0 |\n",
            "| N/A   44C    P8               9W /  70W |      0MiB / 15360MiB |      0%      Default |\n",
            "|                                         |                      |                  N/A |\n",
            "+-----------------------------------------+----------------------+----------------------+\n",
            "                                                                                         \n",
            "+---------------------------------------------------------------------------------------+\n",
            "| Processes:                                                                            |\n",
            "|  GPU   GI   CI        PID   Type   Process name                            GPU Memory |\n",
            "|        ID   ID                                                             Usage      |\n",
            "|=======================================================================================|\n",
            "|  No running processes found                                                           |\n",
            "+---------------------------------------------------------------------------------------+\n"
          ]
        }
      ]
    },
    {
      "cell_type": "code",
      "source": [
        "!pip install google-generativeai -q"
      ],
      "metadata": {
        "id": "18GXpuMi3Bfh"
      },
      "execution_count": 2,
      "outputs": []
    },
    {
      "cell_type": "code",
      "source": [
        "# Used to securely store your API key\n",
        "from google.colab import userdata\n",
        "\n",
        "import pathlib\n",
        "import textwrap\n",
        "\n",
        "import google.generativeai as genai\n",
        "\n",
        "from IPython.display import display\n",
        "from IPython.display import Markdown"
      ],
      "metadata": {
        "id": "n2wh14Ck4XX1"
      },
      "execution_count": 3,
      "outputs": []
    },
    {
      "cell_type": "code",
      "source": [
        "from IPython.display import Markdown\n",
        "def to_markdown(text):\n",
        "  text = text.replace('•', '  *')\n",
        "  return Markdown(textwrap.indent(text, '> ', predicate=lambda _: True))"
      ],
      "metadata": {
        "id": "Itvp4FprTBKd"
      },
      "execution_count": 4,
      "outputs": []
    },
    {
      "cell_type": "code",
      "source": [
        "GOOGLE_API_KEY=userdata.get('GEMINI')\n",
        "genai.configure(api_key=GOOGLE_API_KEY)"
      ],
      "metadata": {
        "id": "SG4V1mVs5K97"
      },
      "execution_count": 5,
      "outputs": []
    },
    {
      "cell_type": "code",
      "source": [
        "import google.generativeai as genai\n",
        "\n",
        "for m in genai.list_models():\n",
        "    if \"generateContent\" in m.supported_generation_methods:\n",
        "        print(m.name)"
      ],
      "metadata": {
        "colab": {
          "base_uri": "https://localhost:8080/",
          "height": 321
        },
        "id": "YY-DNFpwBYxr",
        "outputId": "6f661d6e-4eed-403b-f5e4-a5180bb0a11e"
      },
      "execution_count": 6,
      "outputs": [
        {
          "output_type": "stream",
          "name": "stdout",
          "text": [
            "models/gemini-1.0-pro-latest\n",
            "models/gemini-1.0-pro\n",
            "models/gemini-pro\n",
            "models/gemini-1.0-pro-001\n",
            "models/gemini-1.0-pro-vision-latest\n",
            "models/gemini-pro-vision\n",
            "models/gemini-1.5-pro-latest\n",
            "models/gemini-1.5-pro-001\n",
            "models/gemini-1.5-pro\n",
            "models/gemini-1.5-pro-exp-0801\n",
            "models/gemini-1.5-pro-exp-0827\n",
            "models/gemini-1.5-flash-latest\n",
            "models/gemini-1.5-flash-001\n",
            "models/gemini-1.5-flash-001-tuning\n",
            "models/gemini-1.5-flash\n",
            "models/gemini-1.5-flash-exp-0827\n",
            "models/gemini-1.5-flash-8b-exp-0827\n"
          ]
        }
      ]
    },
    {
      "cell_type": "markdown",
      "source": [
        "BOB TRAVEL APP"
      ],
      "metadata": {
        "id": "qRt5ffS_ihmA"
      }
    },
    {
      "cell_type": "code",
      "source": [
        "model = genai.GenerativeModel('gemini-1.5-pro')"
      ],
      "metadata": {
        "id": "ihFR6I7Eh5jd"
      },
      "execution_count": 47,
      "outputs": []
    },
    {
      "cell_type": "code",
      "source": [
        "query = 'How do you plan out your trip? \\\n",
        "Bob is travelling to SAT from YVR \\\n",
        "1. He has a connection in DFW \\\n",
        "2. His connection is 6 hours long \\\n",
        "3. He has a budget of 100.00 including meals \\\n",
        "4. What can he do? Please suggest a time. \\\n",
        "5. Know- he is a hiker, museum, foodie, has a carry-on bag'\n",
        "\n",
        "def BTA(query,model):\n",
        "    chat_response=model.generate_content(query)\n",
        "    print()\n",
        "\n",
        "    print()\n",
        "    print(\"-\" * 80)\n",
        "    print('Question: %s'%query)\n",
        "    print(\"-\" * 80)\n",
        "    print(\"No streaming\")\n",
        "    print()\n",
        "    print('Answer: ')\n",
        "    print(chat_response.text)\n",
        ""
      ],
      "metadata": {
        "id": "kNXlvFmIxi22"
      },
      "execution_count": 38,
      "outputs": []
    },
    {
      "cell_type": "code",
      "source": [
        "import timeit"
      ],
      "metadata": {
        "id": "MDgDo-IYyV-u"
      },
      "execution_count": 39,
      "outputs": []
    },
    {
      "cell_type": "code",
      "source": [
        "# Wrap the function call in a lambda to make it callable\n",
        "t = timeit.timeit(lambda: BTA(query, model), number=1)  # Adjust 'number' as needed\n",
        "print()\n",
        "print('Execution in seconds: ', t)"
      ],
      "metadata": {
        "colab": {
          "base_uri": "https://localhost:8080/",
          "height": 912
        },
        "id": "ys58xcayx4XZ",
        "outputId": "65323454-722d-4372-8315-9d9d3783358c"
      },
      "execution_count": 48,
      "outputs": [
        {
          "output_type": "stream",
          "name": "stdout",
          "text": [
            "\n",
            "\n",
            "--------------------------------------------------------------------------------\n",
            "Question: How do you plan out your trip? Bob is travelling to SAT from YVR 1. He has a connection in DFW 2. His connection is 6 hours long 3. He has a budget of 100.00 including meals 4. What can he do? Please suggest a time. 5. Know- he is a hiker, museum, foodie, has a carry-on bag\n",
            "--------------------------------------------------------------------------------\n",
            "No streaming\n",
            "\n",
            "Answer: \n",
            "Here's a possible plan for Bob's 6-hour layover in DFW, keeping his interests and budget in mind:\n",
            "\n",
            "**Assumptions:**\n",
            "\n",
            "* **$100 budget:**  This is a TIGHT budget for food, transportation, and activities at an airport. We'll prioritize free activities and affordable food options. \n",
            "* **Carry-on only:**  This limits what Bob can bring for entertainment, so we'll focus on activities available at the airport or easily accessible.\n",
            "\n",
            "**The Plan:**\n",
            "\n",
            "**1. Airport Exploration (1 hour):**\n",
            "\n",
            "* DFW Airport is huge!  Bob can enjoy a brisk walk exploring different terminals. Many airports have art installations and interesting architecture to discover.\n",
            "\n",
            "**2. Foodie Find (1 hour):**\n",
            "\n",
            "* **Option A (Budget-Friendly):** DFW has a decent selection of grab-and-go options.  Bob could find a tasty sandwich or salad for under $15.\n",
            "* **Option B (Splurge):** If Bob wants to use a chunk of his budget on a nice meal, he could find a sit-down restaurant.  He should check online menus beforehand to compare prices. \n",
            "\n",
            "**3. Free Entertainment (2 hours):**\n",
            "\n",
            "* **DFW Observation Deck:** The airport has an observation deck offering great views of the airfield. It's free and perfect for an aviation enthusiast.\n",
            "* **Airport Lounges (Consider a Day Pass):**  Some lounges offer day passes for around $50. This would give Bob a comfortable place to relax, access to Wi-Fi, snacks, and drinks. This could be a good option if he wants a quieter environment to unwind.\n",
            "\n",
            "**4. Outdoor Time/Light Hike (1 hour):**\n",
            "\n",
            "* **Founders' Plaza Observation Area:** While not exactly a hike, this outdoor space near the airport offers walking paths, picnic tables, and views of planes taking off and landing. Fresh air will feel good after a flight!\n",
            "\n",
            "**5. Relax and Recharge (1 hour):**\n",
            "\n",
            "* **Gate Relaxation:**  Find a gate with comfortable seating near his next flight. Bob can catch up on reading, listen to music, or plan the next leg of his trip.\n",
            "\n",
            "**Important Notes:**\n",
            "\n",
            "* **Time Buffer:** This plan assumes Bob's flight arrives and departs on time. He should build in buffer time in case of delays.\n",
            "* **Transportation:**  DFW has a free inter-terminal train, the Skylink.  He won't need to pay for transportation within the airport.\n",
            "* **Research:** Bob should check the DFW Airport website or app for the most up-to-date information on restaurant options, lounge locations, and any special events happening during his layover.\n",
            "\n",
            "**This plan emphasizes free and low-cost activities to help Bob stay within his budget while still enjoying his long layover.** \n",
            "\n",
            "\n",
            "Execution in seconds:  19.02562960599971\n"
          ]
        }
      ]
    },
    {
      "cell_type": "code",
      "source": [
        "model = genai.GenerativeModel('gemini-1.5-flash')"
      ],
      "metadata": {
        "id": "TGOG3stUv_Dp"
      },
      "execution_count": 41,
      "outputs": []
    },
    {
      "cell_type": "code",
      "source": [
        "t = timeit.timeit(lambda: BTA(query, model), number=1)  # Adjust 'number' as needed\n",
        "print()\n",
        "print('Execution in seconds: ', t)"
      ],
      "metadata": {
        "colab": {
          "base_uri": "https://localhost:8080/",
          "height": 823
        },
        "id": "7uAGIs2r2ny5",
        "outputId": "d599c2e4-53ff-48bc-946b-2ead64dfbbcd"
      },
      "execution_count": 45,
      "outputs": [
        {
          "output_type": "stream",
          "name": "stdout",
          "text": [
            "\n",
            "\n",
            "--------------------------------------------------------------------------------\n",
            "Question: How do you plan out your trip? Bob is travelling to SAT from YVR 1. He has a connection in DFW 2. His connection is 6 hours long 3. He has a budget of 100.00 including meals 4. What can he do? Please suggest a time. 5. Know- he is a hiker, museum, foodie, has a carry-on bag\n",
            "--------------------------------------------------------------------------------\n",
            "No streaming\n",
            "\n",
            "Answer: \n",
            "Here's a potential itinerary for Bob's layover in DFW, considering his interests and budget:\n",
            "\n",
            "**Timing:**  Since Bob has a 6-hour layover, the best time to arrive in DFW would be **around lunchtime**. This allows for a full afternoon of activities and some time to relax before his onward flight.\n",
            "\n",
            "**Activities:**\n",
            "\n",
            "* **Lunch:** DFW Airport offers a wide range of dining options, from casual eateries to more upscale restaurants. For a budget-friendly option, consider grabbing a sandwich or salad at one of the airport's food courts. \n",
            "* **Museum:**  DFW Airport has a free art exhibit called the \"DFW Art Collection.\" It features rotating exhibitions of contemporary and historical art, providing a nice break from the airport environment. This could be a good option for the first couple of hours.\n",
            "* **Hiking:**  While DFW Airport doesn't offer any hiking trails, Bob could take a taxi or ride-sharing service (budgeting the cost into his $100) to nearby **Trinity Trails**, a network of over 80 miles of paved trails perfect for a leisurely walk or a longer hike. This option might take a couple of hours.\n",
            "* **Foodie Exploration:** If Bob wants to explore local flavors, he could head to the **DFW Airport's Terminal D**, which has several restaurants offering Texan cuisine, including barbecue and Tex-Mex. \n",
            "* **Relaxation:**  If Bob just wants to relax, he could find a comfortable spot in the airport, catch up on reading, or enjoy a free Wi-Fi session.\n",
            "\n",
            "**Budgeting:**\n",
            "\n",
            "* **Lunch:** $10 - $15\n",
            "* **Transportation to Trinity Trails (if chosen):** $15 - $20 (round trip)\n",
            "* **Snacks and drinks:** $10 - $15\n",
            "\n",
            "**Important Considerations:**\n",
            "\n",
            "* **Security:** Allow ample time for airport security checks, especially on departure day.\n",
            "* **Connection Flight:** Double-check flight times and gate locations. \n",
            "* **Carry-On Bag:**  This will help Bob avoid baggage fees and keep his belongings close.\n",
            "\n",
            "**Example Itinerary:**\n",
            "\n",
            "* **1:00 PM:** Arrive at DFW Airport.\n",
            "* **1:30 PM:** Grab lunch at a food court.\n",
            "* **2:30 PM:** Visit the DFW Art Collection.\n",
            "* **3:30 PM:** Head to Trinity Trails (optional, taxi to/from the airport).\n",
            "* **5:30 PM:**  Return to the airport and relax.\n",
            "* **7:00 PM:**  Board the connecting flight to SAT. \n",
            "\n",
            "**This itinerary is flexible and can be adjusted based on Bob's preferences and available time. Remember to factor in airport security and travel time.**\n",
            "\n",
            "Execution in seconds:  4.443349706999925\n"
          ]
        }
      ]
    },
    {
      "cell_type": "code",
      "source": [
        "def execute_bta():\n",
        "    try:\n",
        "        BTA(query, model)\n",
        "    except Exception as e:\n",
        "        print(f\"An error occurred during BTA execution: {e}\")\n",
        "\n",
        "t = timeit.timeit(execute_bta, number=1) / 1  # Adjust 'number' as needed\n",
        "\n",
        "print()\n",
        "print('Execution in seconds: ', t)"
      ],
      "metadata": {
        "colab": {
          "base_uri": "https://localhost:8080/",
          "height": 876
        },
        "id": "zDi27qp_1fQ9",
        "outputId": "9a77a75c-3704-4f88-d5cd-1f3971704808"
      },
      "execution_count": 46,
      "outputs": [
        {
          "output_type": "stream",
          "name": "stdout",
          "text": [
            "\n",
            "\n",
            "--------------------------------------------------------------------------------\n",
            "Question: How do you plan out your trip? Bob is travelling to SAT from YVR 1. He has a connection in DFW 2. His connection is 6 hours long 3. He has a budget of 100.00 including meals 4. What can he do? Please suggest a time. 5. Know- he is a hiker, museum, foodie, has a carry-on bag\n",
            "--------------------------------------------------------------------------------\n",
            "No streaming\n",
            "\n",
            "Answer: \n",
            "Here's a plan for Bob's layover in Dallas, combining his interests and budget:\n",
            "\n",
            "**Time:**  Since Bob has a 6-hour layover, aim for a mid-afternoon arrival in DFW (around 1 pm). This allows for a full afternoon of exploring and a relaxing dinner before his evening flight.\n",
            "\n",
            "**Activities:**\n",
            "\n",
            "* **Fort Worth Botanic Garden (1.5-2 hours):** A beautiful escape with diverse gardens, including a Japanese Garden, Rose Garden, and Conservatory. This aligns with Bob's love for nature and offers a peaceful break. (~$15)\n",
            "* **Kimbell Art Museum (1.5-2 hours):** A world-renowned museum with a stunning collection of Impressionist, Renaissance, and other masterpieces. This caters to Bob's museum interest. (Free entry)\n",
            "* **Food & Drinks (2 hours):**\n",
            "    * **Lunch at Heim BBQ (30 mins):**  Try some delicious Texas barbecue, known for its brisket and burnt ends. (Budget: ~$20)\n",
            "    * **Coffee Break at Ascension Coffee (30 mins):**  Grab a specialty coffee and pastry to fuel your exploring. (~$10)\n",
            "    * **Dinner at a Tex-Mex restaurant (1 hour):** Sample authentic Mexican food, perhaps at a restaurant near DFW Airport. (Budget: ~$20)\n",
            "\n",
            "**Transportation:**\n",
            "\n",
            "* **DFW Airport Shuttle:**  DFW Airport has a convenient shuttle system that connects the terminals and the nearby DART (Dallas Area Rapid Transit) station.\n",
            "* **DART Train:** The DART train offers affordable and efficient transportation to several attractions, including the Fort Worth Botanic Garden and the Kimbell Art Museum. \n",
            "\n",
            "**Budget Breakdown:**\n",
            "\n",
            "* Entrance fees: ~$15 (Botanic Garden)\n",
            "* Food: ~$50 (Lunch, coffee, dinner)\n",
            "* Transportation: ~$10 (Shuttle/DART) \n",
            "* Total: ~$75\n",
            "\n",
            "**Key Points:**\n",
            "\n",
            "* **Carry-on only:**  This makes travel easier and allows for flexibility during the layover.\n",
            "* **Time management:**  With a 6-hour layover, Bob can explore two attractions and enjoy some food and drinks.\n",
            "* **Staying within budget:** This itinerary keeps Bob comfortably within his $100 budget. \n",
            "\n",
            "**Alternative:**\n",
            "\n",
            "If Bob prefers a more active approach, he could explore the Trinity Trails, a system of paved trails alongside the Trinity River. This is great for hiking, biking, or simply taking a scenic walk.\n",
            "\n",
            "**Enjoy your layover, Bob!** \n",
            "\n",
            "\n",
            "Execution in seconds:  4.320622953000111\n"
          ]
        }
      ]
    }
  ]
}