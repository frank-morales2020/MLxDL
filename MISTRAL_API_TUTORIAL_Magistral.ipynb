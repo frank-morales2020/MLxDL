{
  "nbformat": 4,
  "nbformat_minor": 0,
  "metadata": {
    "colab": {
      "provenance": [],
      "machine_shape": "hm",
      "authorship_tag": "ABX9TyPuTqfMVcZmMttV9YZbTym2",
      "include_colab_link": true
    },
    "kernelspec": {
      "name": "python3",
      "display_name": "Python 3"
    },
    "language_info": {
      "name": "python"
    }
  },
  "cells": [
    {
      "cell_type": "markdown",
      "metadata": {
        "id": "view-in-github",
        "colab_type": "text"
      },
      "source": [
        "<a href=\"https://colab.research.google.com/github/frank-morales2020/MLxDL/blob/main/MISTRAL_API_TUTORIAL_Magistral.ipynb\" target=\"_parent\"><img src=\"https://colab.research.google.com/assets/colab-badge.svg\" alt=\"Open In Colab\"/></a>"
      ]
    },
    {
      "cell_type": "markdown",
      "source": [
        "https://docs.mistral.ai/platform/client/\n",
        "\n",
        "https://github.com/mistralai/client-python\n",
        "\n",
        "https://docs.mistral.ai/getting-started/models/models_overview/\n",
        "\n",
        "\n",
        "https://mistral.ai/news/magistral"
      ],
      "metadata": {
        "id": "HFSQBSaVuYEu"
      }
    },
    {
      "cell_type": "markdown",
      "source": [
        "# Dependencies and Settings"
      ],
      "metadata": {
        "id": "NesDaI4OICGe"
      }
    },
    {
      "cell_type": "code",
      "source": [
        "!pip install colab-env --quiet\n",
        "!pip install mistralai --quiet\n",
        "\n",
        "# Install Hugging Face libraries\n",
        "!pip install  --upgrade transformers datasets accelerate evaluate bitsandbytes --quiet"
      ],
      "metadata": {
        "id": "ghqAXWE-xJa_"
      },
      "execution_count": null,
      "outputs": []
    },
    {
      "cell_type": "code",
      "source": [
        "import mistralai\n",
        "from mistralai.client import MistralClient\n",
        "#from mistralai.models.chat_completion import ChatMessage\n",
        "import os\n",
        "import colab_env\n",
        "import json"
      ],
      "metadata": {
        "id": "a87Hog_P8h9P"
      },
      "execution_count": null,
      "outputs": []
    },
    {
      "cell_type": "markdown",
      "source": [
        "# MISTRAL API SETTINGS"
      ],
      "metadata": {
        "id": "9V3yq8LLuqdT"
      }
    },
    {
      "cell_type": "code",
      "source": [
        "from mistralai import Mistral\n",
        "api_key = os.environ[\"MISTRAL_API_KEY\"]\n",
        "client = Mistral(api_key=api_key)"
      ],
      "metadata": {
        "id": "NnLef38upn75"
      },
      "execution_count": 4,
      "outputs": []
    },
    {
      "cell_type": "markdown",
      "source": [
        "# Function Definitions"
      ],
      "metadata": {
        "id": "5axbl8pdofkY"
      }
    },
    {
      "cell_type": "code",
      "source": [
        "def mistral_chat(prompt, model, client, stream):\n",
        "    # Removed MistralClient instantiation\n",
        "    messages = [{\"role\": \"user\", \"content\": prompt}]  # Use dictionary for messages\n",
        "    # Use client.chat.complete for non-streaming\n",
        "    chat_response = client.chat.complete(model=model, messages=messages, temperature=0.9)\n",
        "    return chat_response"
      ],
      "metadata": {
        "id": "7UgmK-jmBKfa"
      },
      "execution_count": 16,
      "outputs": []
    },
    {
      "cell_type": "code",
      "source": [
        "def create_prompt_formats(sample):\n",
        "    \"\"\"\n",
        "    Format various fields of the sample ('instruction','output')\n",
        "    Then concatenate them using two newline characters\n",
        "    :param sample: Sample dictionnary\n",
        "    \"\"\"\n",
        "    INTRO_BLURB = \"Below is an instruction that describes a task. Write a response that appropriately completes the request.\"\n",
        "    INSTRUCTION_KEY = \"### Instruct: Summarize the below conversation.\"\n",
        "    RESPONSE_KEY = \"### Output:\"\n",
        "    END_KEY = \"### End\"\n",
        "\n",
        "    blurb = f\"\\n{INTRO_BLURB}\"\n",
        "    instruction = f\"{INSTRUCTION_KEY}\"\n",
        "    input_context = f\"{sample['dialogue']}\" if sample[\"dialogue\"] else None\n",
        "    response = f\"{RESPONSE_KEY}\\n{sample['summary']}\"\n",
        "    end = f\"{END_KEY}\"\n",
        "\n",
        "    parts = [part for part in [blurb, instruction, input_context, response, end] if part]\n",
        "\n",
        "    formatted_prompt = \"\\n\\n\".join(parts)\n",
        "    sample[\"text\"] = formatted_prompt\n",
        "\n",
        "    return sample"
      ],
      "metadata": {
        "id": "LY2NjeYtpGet"
      },
      "execution_count": 6,
      "outputs": []
    },
    {
      "cell_type": "markdown",
      "source": [
        "Based on the document, here's what can be concluded about the availability and characteristics of the listed models:\n",
        "\n",
        "* Magistral Medium: \"Magistral Medium\" as Mistral's first reasoning model, trained for reasoning on top of Mistral Medium 3 using only RL.\n",
        "\n",
        "* Magistral Small (magistral-small-2506): The paper explicitly states that \"Magistral Small\" is open-sourced under the Apache 2.0 license.It also provides a direct link to its Hugging Face repository: `https://huggingface.co/mistralai/Magistral-Small-2506`. This indicates that \"magistral-small-2506\" is a specific, publicly available version of Magistral Small.Magistral Small is a 24-billion parameter model that further includes\n",
        "cold-start data from Magistral Medium.\n",
        "\n",
        "* **Magistral Small (magistral-small-latest)**: While \"Magistral Small\" is discussed, there is no mention of a \"magistral-small-latest\" version or designation in the provided document.The most specific identifier for Magistral Small is the `Magistral-Small-2506` on Hugging Face."
      ],
      "metadata": {
        "id": "5ZCBOg9Sbj7v"
      }
    },
    {
      "cell_type": "markdown",
      "source": [
        "# Managenment"
      ],
      "metadata": {
        "id": "Rwwy34zSFHD2"
      }
    },
    {
      "cell_type": "code",
      "source": [
        "client = Mistral(api_key=api_key)  # Use MistralClient instead of Mistral\n",
        "model_list = client.models.list()\n",
        "\n",
        "for model in model_list.data:\n",
        "    print(model.id)\n",
        "    #print(model.created)\n",
        "    #print(model.owned_by)"
      ],
      "metadata": {
        "id": "kJGSPIMaDBPv",
        "colab": {
          "base_uri": "https://localhost:8080/"
        },
        "outputId": "b047d70a-b663-424d-8683-526f9ae85968"
      },
      "execution_count": 7,
      "outputs": [
        {
          "output_type": "stream",
          "name": "stdout",
          "text": [
            "ministral-3b-2410\n",
            "ministral-3b-latest\n",
            "ministral-8b-2410\n",
            "ministral-8b-latest\n",
            "open-mistral-7b\n",
            "mistral-tiny\n",
            "mistral-tiny-2312\n",
            "open-mistral-nemo\n",
            "open-mistral-nemo-2407\n",
            "mistral-tiny-2407\n",
            "mistral-tiny-latest\n",
            "open-mixtral-8x7b\n",
            "mistral-small\n",
            "mistral-small-2312\n",
            "open-mixtral-8x22b\n",
            "open-mixtral-8x22b-2404\n",
            "mistral-small-2409\n",
            "mistral-large-2407\n",
            "mistral-large-2402\n",
            "mistral-large-2411\n",
            "mistral-large-latest\n",
            "pixtral-large-2411\n",
            "pixtral-large-latest\n",
            "mistral-large-pixtral-2411\n",
            "codestral-2501\n",
            "codestral-latest\n",
            "codestral-2412\n",
            "codestral-2411-rc5\n",
            "codestral-2405\n",
            "devstral-small-2505\n",
            "devstral-small-latest\n",
            "pixtral-12b-2409\n",
            "pixtral-12b\n",
            "pixtral-12b-latest\n",
            "mistral-small-2501\n",
            "mistral-small-2503\n",
            "mistral-small-latest\n",
            "mistral-small-2402\n",
            "mistral-saba-2502\n",
            "mistral-saba-latest\n",
            "mistral-medium-2505\n",
            "mistral-medium-latest\n",
            "mistral-medium\n",
            "mistral-medium-2312\n",
            "magistral-medium-2506\n",
            "magistral-medium-latest\n",
            "magistral-small-2506\n",
            "magistral-small-latest\n",
            "mistral-embed\n",
            "codestral-embed\n",
            "codestral-embed-2505\n",
            "mistral-moderation-2411\n",
            "mistral-moderation-latest\n",
            "mistral-ocr-2503\n",
            "mistral-ocr-2505\n",
            "mistral-ocr-latest\n",
            "ft:open-mistral-7b:9c9073bb:20250319:42325165\n",
            "ft:open-mistral-7b:9c9073bb:20250319:01258b27\n"
          ]
        }
      ]
    },
    {
      "cell_type": "markdown",
      "source": [
        "https://mistral.ai/news/mistral-small-3"
      ],
      "metadata": {
        "id": "3Dem3fc9dN1P"
      }
    },
    {
      "cell_type": "code",
      "source": [
        "model=model_list.data[45].id\n",
        "model"
      ],
      "metadata": {
        "colab": {
          "base_uri": "https://localhost:8080/",
          "height": 35
        },
        "id": "5uO56886bzN0",
        "outputId": "37aa901c-c850-4fae-849a-17bf1250d6eb"
      },
      "execution_count": 9,
      "outputs": [
        {
          "output_type": "execute_result",
          "data": {
            "text/plain": [
              "'magistral-medium-latest'"
            ],
            "application/vnd.google.colaboratory.intrinsic+json": {
              "type": "string"
            }
          },
          "metadata": {},
          "execution_count": 9
        }
      ]
    },
    {
      "cell_type": "code",
      "source": [
        "messages = [{\"role\": \"user\", \"content\": \"What is the best Cuban poet?\"}]\n",
        "\n",
        "chat_response = client.chat.complete(  # Use client.chat.complete\n",
        "    model=model,\n",
        "    messages=messages,\n",
        ")\n",
        "print(chat_response.choices[0].message.content)"
      ],
      "metadata": {
        "id": "fgqaQVZ6W7GA",
        "colab": {
          "base_uri": "https://localhost:8080/"
        },
        "outputId": "3390adff-54c7-4c9e-fb89-374f13fbe5f8"
      },
      "execution_count": 24,
      "outputs": [
        {
          "output_type": "stream",
          "name": "stdout",
          "text": [
            "<think>\n",
            "Okay, the question is about identifying the best Cuban poet. First, I need to think about what makes a poet \"the best.\" Is it their influence, their style, their contributions to literature, or their popularity? Since poetry is subjective, it's hard to define \"the best,\" but we can look at some of the most influential and renowned Cuban poets.\n",
            "\n",
            "I recall a few names from Cuban literature:\n",
            "1. **José Martí**: Often considered a national hero, Martí was a poet, essayist, and revolutionary. His works are iconic in Cuban culture.\n",
            "2. **Nicolás Guillén**: Known as the national poet of Cuba, Guillén's work was deeply influenced by Afro-Cuban culture and was a key figure in the literary movement known as \"negrismo.\"\n",
            "3. **Dulce María Loynaz**: A prominent 20th-century poet, Loynaz won several literary awards and is celebrated for her lyrical and introspective poetry.\n",
            "4. **Lezama Lima**: Another major figure in Cuban literature, known for his complex and baroque style.\n",
            "\n",
            "Now, how do we determine who is the \"best\"? One way is to consider their impact and recognition. José Martí is probably the most well-known Cuban poet internationally, and his influence extends beyond poetry into Cuban national identity. Nicolás Guillén is also highly regarded and has had a significant impact on Afro-Cuban literature.\n",
            "\n",
            "But is Martí considered the best poet? He is certainly one of the most important figures in Cuban literature. However, the term \"best\" is subjective. If we're talking about influence and historical significance, Martí would be a strong contender.\n",
            "\n",
            "But let's think about recognition and awards. Dulce María Loynaz won the Cervantes Prize, which is one of the most prestigious literary awards in the Spanish-speaking world. That's a significant accomplishment.\n",
            "\n",
            "Lezama Lima is another major figure, known for his poetic style and his influence on later generations of writers. His work \"Paradiso\" is considered a masterpiece of Latin American literature, though it's more of an epic poem or novel than traditional poetry.\n",
            "\n",
            "Nicolás Guillén is often referred to as the national poet of Cuba, which suggests a high level of recognition and importance in Cuban literature.\n",
            "\n",
            "Given these points, it seems like José Martí and Nicolás Guillén are often cited as the most important Cuban poets. But if we're looking for a single name that stands out above the others, Martí might be the one because of his broader cultural and historical impact.\n",
            "\n",
            "However, I recall that in literary circles, Nicolás Guillén is often celebrated as the national poet of Cuba. His work is deeply rooted in Cuban culture and identity, and he was a key figure in the 20th century. So, perhaps he is considered the best by many.\n",
            "\n",
            "But then again, Dulce María Loynaz's international recognition with the Cervantes Prize is significant. It's a tough call.\n",
            "\n",
            "Looking at literary criticism and awards, perhaps Nicolás Guillén is often regarded as the foremost Cuban poet.\n",
            "\n",
            "But let me think more carefully. José Martí is a national hero, and his poetry is foundational in Cuban literature. His verses are taught in schools, and his influence is immense.\n",
            "\n",
            "But is he considered the best poet? Or is he more of a national symbol? Maybe both.\n",
            "\n",
            "In terms of pure poetry, Nicolás Guillén is often celebrated for his innovative style and his focus on Afro-Cuban themes.\n",
            "\n",
            "But, to make a decision, I might need to consider what criteria we're using. If it's influence and cultural importance, Martí might be the best. If it's literary innovation and recognition within the poetry world, perhaps Guillén or Loynaz.\n",
            "\n",
            "Looking up some references (hypothetically, since I don't have real-time access), I recall that Nicolás Guillén is often referred to as the national poet of Cuba. That title suggests a level of recognition and respect that might place him at the top.\n",
            "\n",
            "But José Martí is also called the \"Apostle of Cuban Independence,\" and his poetry is deeply intertwined with Cuban identity. Maybe the question is too subjective, but if we're going by titles and general recognition, Nicolás Guillén might be considered the best Cuban poet.\n",
            "\n",
            "But I'm not entirely sure. Maybe it's better to consider multiple perspectives.\n",
            "\n",
            "Looking at another angle, perhaps the best way is to think about who is most celebrated in Cuban literature. Martí is certainly celebrated, but more as a national hero. Guillén is celebrated specifically as a poet.\n",
            "\n",
            "So, perhaps Nicolás Guillén is the best Cuban poet.\n",
            "\n",
            "But I recall that José Martí's poetry is also highly regarded. His collection \"Versos Sencillos\" is very famous, and his poem \"La Rosa Blanca\" is iconic.\n",
            "\n",
            "This is a tough one. Maybe the answer is that there isn't a single \"best\" poet, but if we had to pick one, it might be Nicolás Guillén because of his title as the national poet and his focus on poetry as a primary contribution.\n",
            "\n",
            "But to be safe, perhaps it's better to say that the best Cuban poet is widely considered to be Nicolás Guillén, given his title and influence in the literary world.\n",
            "\n",
            "</think>\n",
            "\n",
            "**Summary:**\n",
            "After considering several prominent Cuban poets, including José Martí, Nicolás Guillén, Dulce María Loynaz, and Lezama Lima, it appears that Nicolás Guillén is often regarded as the best Cuban poet due to his title as the national poet of Cuba and his significant contributions to Afro-Cuban literature. While José Martí is a national hero with immense cultural influence, Guillén's specific recognition in the literary world, along with his innovative style and focus on poetry, places him at the forefront of Cuban poetry.\n",
            "\n",
            "Therefore, the best Cuban poet is widely considered to be Nicolás Guillén.\n",
            "\n",
            "\\boxed{Nicolás Guillén}\n"
          ]
        }
      ]
    },
    {
      "cell_type": "markdown",
      "source": [
        "## BOB TRAVEL SCENARIOS"
      ],
      "metadata": {
        "id": "DjA7Fi2H2JIr"
      }
    },
    {
      "cell_type": "code",
      "source": [
        "from IPython.display import Markdown\n",
        "import textwrap\n",
        "def to_markdown(text):\n",
        "  text = text.replace('•', '  *')\n",
        "  return Markdown(textwrap.indent(text, '> ', predicate=lambda _: True))"
      ],
      "metadata": {
        "id": "strCIUnwX2u8"
      },
      "execution_count": 11,
      "outputs": []
    },
    {
      "cell_type": "code",
      "source": [
        "prompt= 'What is the capital city of Canada?'\n",
        "\n",
        "print('\\n')\n",
        "print(prompt)\n",
        "print('\\n')\n",
        "\n",
        "response=mistral_chat(prompt,model,client,stream=False)\n",
        "\n",
        "print('Answer: ')\n",
        "to_markdown(response.choices[0].message.content)"
      ],
      "metadata": {
        "colab": {
          "base_uri": "https://localhost:8080/",
          "height": 399
        },
        "id": "_ozGsCv6ggF_",
        "outputId": "0430797d-32f3-4270-eb6a-6433b976824d"
      },
      "execution_count": 37,
      "outputs": [
        {
          "output_type": "stream",
          "name": "stdout",
          "text": [
            "\n",
            "\n",
            "What is the capital city of Canada?\n",
            "\n",
            "\n",
            "Answer: \n"
          ]
        },
        {
          "output_type": "execute_result",
          "data": {
            "text/plain": [
              "<IPython.core.display.Markdown object>"
            ],
            "text/markdown": "> <think>\n> Okay, I remember that Canada is a country in North America. I recall that Canada has a capital city, but I'm not entirely sure which city it is.\n> \n> Let me think about the major cities in Canada:\n> - Toronto: It's a major city in Canada, but I don't think it's the capital.\n> - Vancouver: Another big city, but I don't think it's the capital either.\n> - Montreal: It's in Quebec, and I think it's a cultural hub, but not sure if it's the capital.\n> - Ottawa: I think I remember something about Ottawa being the capital.\n> \n> Yes, Ottawa! I recall that Ottawa is the capital city of Canada. It's located in the province of Ontario, right? Maybe near the border with Quebec.\n> \n> But just to be sure, I remember learning about Canadian capitals in school. Ottawa was definitely mentioned as the capital.\n> \n> Okay, I'm pretty confident that Ottawa is the capital city of Canada.\n> </think>\n> \n> The capital city of Canada is Ottawa. This conclusion is based on recalling major Canadian cities and verifying that Ottawa is indeed the capital through remembered knowledge.\n> \n> \\boxed{Ottawa}"
          },
          "metadata": {},
          "execution_count": 37
        }
      ]
    },
    {
      "cell_type": "code",
      "source": [
        "prompt = \"As a data scientist, can you explain the concept of regularization in machine learning? please the anser in english\"\n",
        "\n",
        "print(prompt)\n",
        "print('\\n')\n",
        "\n",
        "response=mistral_chat(prompt,model,client,stream=False)\n",
        "\n",
        "print('Answer: ')\n",
        "to_markdown(response.choices[0].message.content)"
      ],
      "metadata": {
        "id": "c5NHp3XLTCYU",
        "colab": {
          "base_uri": "https://localhost:8080/",
          "height": 789
        },
        "outputId": "80eb94ee-52bf-4ea8-e086-31c1e8a8399a"
      },
      "execution_count": 50,
      "outputs": [
        {
          "output_type": "stream",
          "name": "stdout",
          "text": [
            "As a data scientist, can you explain the concept of regularization in machine learning? please the anser in english\n",
            "\n",
            "\n",
            "Answer: \n"
          ]
        },
        {
          "output_type": "execute_result",
          "data": {
            "text/plain": [
              "<IPython.core.display.Markdown object>"
            ],
            "text/markdown": "> <think>\n> Alright, I'm trying to explain the concept of regularization in machine learning. I remember that regularization is a technique used to prevent overfitting in models. But what exactly is overfitting? Overfitting is when a model learns the training data too well, including the noise and outliers, which makes it perform poorly on unseen data.\n> \n> Now, how does regularization help with that? Well, regularization adds a penalty term to the loss function. The loss function measures how well the model is doing. By adding a penalty term, we discourage the model from getting too complex. There are different types of regularization, but the most common ones are L1 and L2 regularization.\n> \n> L1 regularization, also known as Lasso, adds the absolute value of the coefficients to the loss function. L2 regularization, also known as Ridge, adds the squared value of the coefficients. Both of these methods penalize large coefficients, which helps to prevent overfitting.\n> \n> But how do these penalties work exactly? In L1 regularization, the penalty term is the sum of the absolute values of the coefficients. This tends to produce sparse models, meaning some coefficients can become exactly zero. This is useful for feature selection because it effectively removes some features from the model.\n> \n> In L2 regularization, the penalty term is the sum of the squared values of the coefficients. This tends to shrink the coefficients towards zero but not exactly zero. It's good for reducing the complexity of the model without necessarily removing any features.\n> \n> Another type of regularization is called dropout, which is commonly used in neural networks. Dropout randomly drops a fraction of neurons during training, which prevents the network from relying too much on any one neuron. This also helps to prevent overfitting.\n> \n> Okay, so regularization basically helps to control the complexity of the model, which in turn helps to prevent overfitting. It's a way to balance between fitting the training data well and keeping the model simple enough to generalize to new data.\n> \n> But I need to make sure I'm explaining this in a clear and concise way. Let me try to summarize my thoughts.\n> \n> </think>\n> \n> ### Summary\n> \n> Regularization is a technique used in machine learning to prevent overfitting, which occurs when a model learns the training data too well, including noise and outliers, leading to poor performance on unseen data. Regularization achieves this by adding a penalty term to the loss function, discouraging the model from becoming too complex.\n> \n> The two most common types of regularization are L1 and L2 regularization.\n> \n> 1. **L1 Regularization (Lasso)**: Adds the absolute value of the coefficients to the loss function. This tends to produce sparse models by driving some coefficients to exactly zero, effectively performing feature selection.\n> \n> 2. **L2 Regularization (Ridge)**: Adds the squared value of the coefficients to the loss function. This shrinks the coefficients towards zero but not exactly zero, reducing model complexity without necessarily removing any features.\n> \n> Another type of regularization is **dropout**, commonly used in neural networks. Dropout randomly drops a fraction of neurons during training, preventing the network from over-relying on any single neuron, thus helping to prevent overfitting.\n> \n> In summary, regularization helps to control the complexity of a model, balancing between fitting the training data well and maintaining simplicity to generalize to new data.\n> \n> \\[ \\boxed{\\text{Regularization}} \\]"
          },
          "metadata": {},
          "execution_count": 50
        }
      ]
    },
    {
      "cell_type": "code",
      "source": [
        "query='I bought an ice cream for 6 kids. Each cone was $1.25 and I paid with a $10 bill. How many dollars did I get back? Explain first before answering.'\n",
        "query1 = \"who is the President of France?\"\n",
        "query2 = \"Who won the baseball World Series in 2020? and Who Lost\"\n",
        "\n",
        "query_resonse=mistral_chat(query,model,client,stream=False)\n",
        "print(f'Question: {query}')\n",
        "print('\\n')\n",
        "print(query_resonse.choices[0].message.content)\n",
        "print()\n",
        "print('='*80)\n",
        "\n",
        "query1_resonse=mistral_chat(query1,model,client,stream=False)\n",
        "print(f'Question: {query1}')\n",
        "print('\\n')\n",
        "print(query1_resonse.choices[0].message.content)\n",
        "print()\n",
        "print('='*80)\n",
        "\n",
        "query2_resonse=mistral_chat(query2,model,client,stream=False)\n",
        "print(f'Question: {query2}')\n",
        "print('\\n')\n",
        "print(query2_resonse.choices[0].message.content)\n",
        "print()\n",
        "print('='*80)\n",
        "\n",
        "\n",
        "query3 = \"what is the 20.5% of 40?\"\n",
        "query4 = \"As a data scientist, can you explain the concept of regularization in machine learning?\"\n",
        "query5 ='Which country has the most natural lakes? Answer with only the country name.'\n",
        "\n",
        "query3_resonse=mistral_chat(query3,model,client,stream=False)\n",
        "print(f'Question: {query3}')\n",
        "print('\\n')\n",
        "print(query3_resonse.choices[0].message.content)\n",
        "print()\n",
        "print('='*80)\n",
        "\n",
        "\n",
        "query4_resonse=mistral_chat(query4,model,client,stream=False)\n",
        "print(f'Question: {query4}')\n",
        "print('\\n')\n",
        "print(query4_resonse.choices[0].message.content)\n",
        "print()\n",
        "print('='*80)\n",
        "\n",
        "query5_resonse=mistral_chat(query5,model,client,stream=False)\n",
        "print(f'Question: {query5}')\n",
        "print('\\n')\n",
        "print(query5_resonse.choices[0].message.content)\n",
        "print()\n",
        "print('='*80)\n",
        "\n",
        "\n",
        "\n",
        "query6 = \"How AWS has evolved?\"\n",
        "query6_resonse=mistral_chat(query6,model,client,stream=False)\n",
        "print(f'Question: {query6}')\n",
        "print('\\n')\n",
        "print(query6_resonse.choices[0].message.content)\n",
        "print()\n",
        "print('='*80)\n"
      ],
      "metadata": {
        "id": "UrGTfrCN5Y0v"
      },
      "execution_count": null,
      "outputs": []
    }
  ]
}