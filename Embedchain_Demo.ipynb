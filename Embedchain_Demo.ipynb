{
  "nbformat": 4,
  "nbformat_minor": 0,
  "metadata": {
    "colab": {
      "provenance": [],
      "include_colab_link": true
    },
    "kernelspec": {
      "name": "python3",
      "display_name": "Python 3"
    },
    "language_info": {
      "name": "python"
    }
  },
  "cells": [
    {
      "cell_type": "markdown",
      "metadata": {
        "id": "view-in-github",
        "colab_type": "text"
      },
      "source": [
        "<a href=\"https://colab.research.google.com/github/frank-morales2020/MLxDL/blob/main/Embedchain_Demo.ipynb\" target=\"_parent\"><img src=\"https://colab.research.google.com/assets/colab-badge.svg\" alt=\"Open In Colab\"/></a>"
      ]
    },
    {
      "cell_type": "markdown",
      "source": [
        "#Embedchain\n",
        "\n",
        "Embedchain is an Open Source RAG Framework that makes it easy to create and deploy AI apps. At its core, Embedchain follows the design principle of being \"Conventional but Configurable\" to serve both software engineers and machine learning engineers.\n",
        "\n",
        "\n",
        "Here is a very simple demo about how it work!\n",
        "\n",
        "Check us out: https://github.com/embedchain/embedchain"
      ],
      "metadata": {
        "id": "2LRmcaaPUiSL"
      }
    },
    {
      "cell_type": "markdown",
      "source": [
        "First of all we install the dependencies:"
      ],
      "metadata": {
        "id": "Cj2UXTmhUkQt"
      }
    },
    {
      "cell_type": "code",
      "source": [
        "!pip install colab-env --upgrade\n",
        "!pip install openai\n",
        "\n",
        "import colab_env\n",
        "import os\n",
        "import openai\n",
        "\n",
        "# OpenAI API Key\n",
        "openai.api_key = os.getenv(\"OPENAI_API_KEY\")\n",
        "#api_key = \"YOUR_OPENAI_API_KEY\"\n",
        "api_key = os.getenv(\"OPENAI_API_KEY\")\n",
        "HUGGINGFACE_ACCESS_TOKEN = os.environ[\"HUGGINGFACE_ACCESS_TOKEN\"]\n"
      ],
      "metadata": {
        "id": "7FQ1pszKvwVl"
      },
      "execution_count": null,
      "outputs": []
    },
    {
      "cell_type": "code",
      "source": [
        "!pip install --upgrade embedchain"
      ],
      "metadata": {
        "id": "vrgoWyaLUldK"
      },
      "execution_count": null,
      "outputs": []
    },
    {
      "cell_type": "markdown",
      "source": [
        "Now we import the dependencies:"
      ],
      "metadata": {
        "id": "ZnJH6GOzUqd2"
      }
    },
    {
      "cell_type": "code",
      "source": [
        "from embedchain import App"
      ],
      "metadata": {
        "id": "nR66RE_qUngy"
      },
      "execution_count": 3,
      "outputs": []
    },
    {
      "cell_type": "markdown",
      "source": [
        "We instantiate the embechain bot. Remember to change the API key with you OpenAI api key."
      ],
      "metadata": {
        "id": "UesCuX4OVYQj"
      }
    },
    {
      "cell_type": "code",
      "source": [
        "# OpenAI API Key\n",
        "openai.api_key = os.getenv(\"OPENAI_API_KEY\")\n",
        "#api_key = \"YOUR_OPENAI_API_KEY\"\n",
        "api_key = os.getenv(\"OPENAI_API_KEY\")\n",
        "\n",
        "app = App()"
      ],
      "metadata": {
        "id": "PibHR1WYVU0b"
      },
      "execution_count": 4,
      "outputs": []
    },
    {
      "cell_type": "markdown",
      "source": [
        "Now, add different data sources using embedchain's `.add()` method:"
      ],
      "metadata": {
        "id": "p1tubXFPVcdk"
      }
    },
    {
      "cell_type": "code",
      "source": [
        "app.add(\"https://en.wikipedia.org/wiki/Elon_Musk\")\n",
        "app.add(\"https://www.forbes.com/profile/elon-musk\")\n"
      ],
      "metadata": {
        "colab": {
          "base_uri": "https://localhost:8080/",
          "height": 127
        },
        "id": "zIWEUy26VZtf",
        "outputId": "62a537b9-0b57-4d25-d0eb-cabb09ec7b73"
      },
      "execution_count": 5,
      "outputs": [
        {
          "output_type": "stream",
          "name": "stderr",
          "text": [
            "Inserting batches in chromadb: 100%|██████████| 1/1 [00:01<00:00,  1.94s/it]\n"
          ]
        },
        {
          "output_type": "stream",
          "name": "stdout",
          "text": [
            "Successfully saved https://en.wikipedia.org/wiki/Elon_Musk (DataType.WEB_PAGE). New chunks count: 99\n"
          ]
        },
        {
          "output_type": "stream",
          "name": "stderr",
          "text": [
            "Inserting batches in chromadb: 100%|██████████| 1/1 [00:00<00:00,  1.35it/s]"
          ]
        },
        {
          "output_type": "stream",
          "name": "stdout",
          "text": [
            "Successfully saved https://www.forbes.com/profile/elon-musk (DataType.WEB_PAGE). New chunks count: 4\n"
          ]
        },
        {
          "output_type": "stream",
          "name": "stderr",
          "text": [
            "\n"
          ]
        },
        {
          "output_type": "execute_result",
          "data": {
            "text/plain": [
              "'8cf46026cabf9b05394a2658bd1fe890'"
            ],
            "application/vnd.google.colaboratory.intrinsic+json": {
              "type": "string"
            }
          },
          "metadata": {},
          "execution_count": 5
        }
      ]
    },
    {
      "cell_type": "markdown",
      "source": [
        "Your bot is ready now. Ask your bot any questions using `.query()` method:"
      ],
      "metadata": {
        "id": "RnULYfjXVpe_"
      }
    },
    {
      "cell_type": "code",
      "source": [
        "#Added by Frank Morales January 24th, 2023\n",
        "\n",
        "#https://docs.embedchain.ai/components/data-sources/overview\n",
        "\n",
        "from embedchain import App\n",
        "app = App()\n",
        "app.add('https://arxiv.org/pdf/1706.03762.pdf', data_type='pdf_file')\n",
        "print()\n",
        "app.query(\"What is the paper 'attention is all you need' about?\", citations=False)\n"
      ],
      "metadata": {
        "colab": {
          "base_uri": "https://localhost:8080/",
          "height": 143
        },
        "id": "6W_dXIJpx2Kb",
        "outputId": "2f1af811-3c96-42bb-faa2-a3d04dd2ca77"
      },
      "execution_count": 6,
      "outputs": [
        {
          "output_type": "stream",
          "name": "stderr",
          "text": [
            "Inserting batches in chromadb: 100%|██████████| 1/1 [00:01<00:00,  1.41s/it]\n"
          ]
        },
        {
          "output_type": "stream",
          "name": "stdout",
          "text": [
            "Successfully saved https://arxiv.org/pdf/1706.03762.pdf (DataType.PDF_FILE). New chunks count: 47\n",
            "\n"
          ]
        },
        {
          "output_type": "execute_result",
          "data": {
            "text/plain": [
              "'The paper \"Attention Is All You Need\" proposes a new network architecture called the Transformer, which is based solely on attention mechanisms. It suggests that complex recurrent or convolutional neural networks can be replaced with a simpler architecture that achieves better performance by connecting the encoder and decoder through attention. The paper discusses how attention mechanisms can handle long-distance dependencies and improve sequence learning.'"
            ],
            "application/vnd.google.colaboratory.intrinsic+json": {
              "type": "string"
            }
          },
          "metadata": {},
          "execution_count": 6
        }
      ]
    },
    {
      "cell_type": "code",
      "source": [
        "print(app.query(\"How many companies does Elon Musk run? Name those\"))\n",
        "print()\n",
        "print(app.query(\"How many companies does Bill Gates run? Name those\"))"
      ],
      "metadata": {
        "colab": {
          "base_uri": "https://localhost:8080/"
        },
        "id": "vIaQdFpvVsWb",
        "outputId": "dd2bcf05-7dd4-4b12-e005-81326965d78c"
      },
      "execution_count": 7,
      "outputs": [
        {
          "output_type": "stream",
          "name": "stdout",
          "text": [
            "Elon Musk runs multiple companies. Some of the companies he is associated with include Tesla, SpaceX, Neuralink, and The Boring Company.\n",
            "\n",
            "I don't have enough information to answer the query.\n"
          ]
        }
      ]
    },
    {
      "cell_type": "code",
      "source": [
        "app.add(\"https://en.wikipedia.org/wiki/Bill_Gates\")\n",
        "print()\n",
        "print(app.query(\"How many companies does Bill Gates run? Name those\"))"
      ],
      "metadata": {
        "colab": {
          "base_uri": "https://localhost:8080/"
        },
        "id": "DNnuBnkS3ZA0",
        "outputId": "a88cbc47-525b-400c-bc2b-2812eb7d8f16"
      },
      "execution_count": 8,
      "outputs": [
        {
          "output_type": "stream",
          "name": "stderr",
          "text": [
            "Inserting batches in chromadb: 100%|██████████| 1/1 [00:01<00:00,  1.09s/it]\n"
          ]
        },
        {
          "output_type": "stream",
          "name": "stdout",
          "text": [
            "Successfully saved https://en.wikipedia.org/wiki/Bill_Gates (DataType.WEB_PAGE). New chunks count: 66\n",
            "\n",
            "Bill Gates currently runs several companies. Some of the companies he is involved with include:\n",
            "\n",
            "1. Microsoft: Although Gates stepped down as CEO in 2000, he remained involved with Microsoft as chairman of the board of directors and later as technology adviser.\n",
            "\n",
            "2. Cascade Investment LLC: This is a private investment and holding company founded and controlled by Gates. It is headquartered in Kirkland, Washington.\n",
            "\n",
            "3. bgC3 LLC: Gates founded this think-tank and research company.\n",
            "\n",
            "4. AutoNation: Gates has a 16% stake in AutoNation, an automotive retailer.\n",
            "\n",
            "5. Canadian National Railway (CN): Gates is the single largest shareholder of CN, a Canadian Class I freight railway.\n",
            "\n",
            "These are just a few examples of the companies that Bill Gates is involved with. It's important to note that he also has a multi-billion dollar investment portfolio with stakes in various companies across different sectors.\n"
          ]
        }
      ]
    },
    {
      "cell_type": "code",
      "source": [
        "!pip install sentence-transformers"
      ],
      "metadata": {
        "id": "wypu1jzA3V7Z"
      },
      "execution_count": null,
      "outputs": []
    },
    {
      "cell_type": "code",
      "source": [
        "#!/usr/bin/env python\n",
        "\n",
        "#Added by Frank Morales January 24th, 2023  using Mistral LLM and 1536 dim embeddings\n",
        "#model: 'sentence-transformers/all-mpnet-base-v2' 768\n",
        "#model: 'sangmini/msmarco-cotmae-MiniLM-L12_en-ko-ja' 1536\n",
        "import yaml\n",
        "\n",
        "# https://www.linkedin.com/pulse/science-control-how-temperature-topp-topk-shape-large-puente-viejo-u88yf\n",
        "# https://medium.com/@jansiml/is-there-an-optimal-temperature-and-top-p-for-code-generation-with-paid-llm-apis-46bfef0e7a36\n",
        "\n",
        "#{'llm': {'provider': 'huggingface', 'config': {'model': 'mistralai/Mistral-7B-v0.1', 'top_p': 0.95,\n",
        "#'temperature': 0.8}}, 'embedder': {'provider': 'huggingface', 'config': {'model': 'sangmini/msmarco-cotmae-MiniLM-L12_en-ko-ja'}}}\n",
        "\n",
        "with open(\"/content/gdrive/MyDrive/datasets/mistral.yaml\", \"r\") as stream:\n",
        "    try:\n",
        "        print(yaml.safe_load(stream))\n",
        "    except yaml.YAMLError as exc:\n",
        "        print(exc)"
      ],
      "metadata": {
        "colab": {
          "base_uri": "https://localhost:8080/"
        },
        "id": "3GVoi-QE45A0",
        "outputId": "11d53a91-997a-45fe-a0fd-85cba2beecdf"
      },
      "execution_count": 10,
      "outputs": [
        {
          "output_type": "stream",
          "name": "stdout",
          "text": [
            "{'llm': {'provider': 'huggingface', 'config': {'model': 'mistralai/Mistral-7B-v0.1', 'top_p': 0.9, 'temperature': 0.8}}, 'embedder': {'provider': 'huggingface', 'config': {'model': 'sangmini/msmarco-cotmae-MiniLM-L12_en-ko-ja'}}}\n"
          ]
        }
      ]
    },
    {
      "cell_type": "code",
      "source": [
        "#Added by Frank Morales January 24th, 2023  using Mistral LLM and 1536 dim embeddings\n",
        "import os\n",
        "\n",
        "import warnings\n",
        "warnings.filterwarnings('ignore')\n",
        "\n",
        "#!pip install colab-env --upgrade\n",
        "#import colab_env\n",
        "\n",
        "#HUGGINGFACE_ACCESS_TOKEN = os.environ[\"HUGGINGFACE_ACCESS_TOKEN\"]\n",
        "\n",
        "from embedchain import App\n",
        "app = App.from_config(\"/content/gdrive/MyDrive/datasets/mistral.yaml\")\n",
        "app.add(\"https://www.forbes.com/profile/elon-musk\")\n",
        "app.add(\"https://en.wikipedia.org/wiki/Elon_Musk\")\n",
        "\n",
        "print()\n",
        "query=\"What is the net worth of Elon Musk today?\"\n",
        "response = app.query(query)\n",
        "print('Query : %s'%query)\n",
        "print('Answer : %s'%response)"
      ],
      "metadata": {
        "colab": {
          "base_uri": "https://localhost:8080/"
        },
        "id": "a494G3Qa5tN2",
        "outputId": "209e759f-4fc1-42d3-abc6-43ff8a407270"
      },
      "execution_count": 12,
      "outputs": [
        {
          "output_type": "stream",
          "name": "stderr",
          "text": [
            "Inserting batches in chromadb: 100%|██████████| 1/1 [00:01<00:00,  1.24s/it]\n"
          ]
        },
        {
          "output_type": "stream",
          "name": "stdout",
          "text": [
            "Successfully saved https://www.forbes.com/profile/elon-musk (DataType.WEB_PAGE). New chunks count: 4\n"
          ]
        },
        {
          "output_type": "stream",
          "name": "stderr",
          "text": [
            "Inserting batches in chromadb: 100%|██████████| 1/1 [00:14<00:00, 14.44s/it]\n"
          ]
        },
        {
          "output_type": "stream",
          "name": "stdout",
          "text": [
            "Successfully saved https://en.wikipedia.org/wiki/Elon_Musk (DataType.WEB_PAGE). New chunks count: 99\n",
            "\n",
            "Query : What is the net worth of Elon Musk today?\n",
            "Answer : \n",
            "  Elon Musk is a billionaire businessman, engineer, and inventor. His net worth is currently estimated at $236 billion.\n"
          ]
        }
      ]
    }
  ]
}