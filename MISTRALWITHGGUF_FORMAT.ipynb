{
  "nbformat": 4,
  "nbformat_minor": 0,
  "metadata": {
    "colab": {
      "provenance": [],
      "authorship_tag": "ABX9TyOQS8WbyE11RcTb+UMWAB/Q",
      "include_colab_link": true
    },
    "kernelspec": {
      "name": "python3",
      "display_name": "Python 3"
    },
    "language_info": {
      "name": "python"
    }
  },
  "cells": [
    {
      "cell_type": "markdown",
      "metadata": {
        "id": "view-in-github",
        "colab_type": "text"
      },
      "source": [
        "<a href=\"https://colab.research.google.com/github/frank-morales2020/MLxDL/blob/main/MISTRALWITHGGUF_FORMAT.ipynb\" target=\"_parent\"><img src=\"https://colab.research.google.com/assets/colab-badge.svg\" alt=\"Open In Colab\"/></a>"
      ]
    },
    {
      "cell_type": "markdown",
      "source": [
        "https://swharden.com/blog/2023-07-29-ai-chat-locally-with-python/\n",
        "\n",
        "\n",
        "https://deci.ai/blog/ggml-vs-gguf-comparing-formats-amp-top-5-methods-for-running-gguf-files/"
      ],
      "metadata": {
        "id": "gQ9i10stce2l"
      }
    },
    {
      "cell_type": "code",
      "source": [
        "!pip install llama-cpp-python"
      ],
      "metadata": {
        "id": "RZGfBPF7Ua11"
      },
      "execution_count": null,
      "outputs": []
    },
    {
      "cell_type": "code",
      "source": [
        "!git lfs install"
      ],
      "metadata": {
        "id": "UswLbwKkWksj"
      },
      "execution_count": null,
      "outputs": []
    },
    {
      "cell_type": "code",
      "execution_count": null,
      "metadata": {
        "id": "LVdAfBkXTfrc"
      },
      "outputs": [],
      "source": [
        "!git clone https://huggingface.co/TheBloke/Mistral-7B-Instruct-v0.1-GGUF"
      ]
    },
    {
      "cell_type": "code",
      "source": [
        "from llama_cpp import Llama\n",
        "LLM = Llama(model_path=\"/content/Mistral-7B-Instruct-v0.1-GGUF/mistral-7b-instruct-v0.1.Q5_K_M.gguf\",verbose=False)"
      ],
      "metadata": {
        "id": "wErleVixUojv"
      },
      "execution_count": 15,
      "outputs": []
    },
    {
      "cell_type": "code",
      "source": [
        "# create a text prompt\n",
        "prompt = \"Q: What are the names of the days of the week? A:\"\n",
        "\n",
        "# generate a response (takes several seconds)\n",
        "output = LLM(prompt,max_tokens=0,echo=False)\n",
        "\n",
        "# display the response\n",
        "print(output[\"choices\"][0][\"text\"])"
      ],
      "metadata": {
        "colab": {
          "base_uri": "https://localhost:8080/"
        },
        "id": "zj3HMYxqU28A",
        "outputId": "7b51b8f2-c9a1-499c-e07e-7c3d028311c2"
      },
      "execution_count": 18,
      "outputs": [
        {
          "output_type": "stream",
          "name": "stdout",
          "text": [
            " Monday, Tuesday, Wednesday, Thursday, Friday, Saturday, Sunday\n"
          ]
        }
      ]
    },
    {
      "cell_type": "code",
      "source": [
        "# create a text prompt\n",
        "prompt = \"Q: Why are Jupyter notebooks difficult to maintain? A:\"\n",
        "\n",
        "# set max_tokens to 0 to remove the response size limit\n",
        "output = LLM(prompt, max_tokens=0, echo=False)\n",
        "\n",
        "# display the response\n",
        "print(output[\"choices\"][0][\"text\"])"
      ],
      "metadata": {
        "colab": {
          "base_uri": "https://localhost:8080/"
        },
        "id": "SfA0GLECVIbQ",
        "outputId": "7a6f6e15-46ad-4084-8c28-8b1eac8b65bf"
      },
      "execution_count": 17,
      "outputs": [
        {
          "output_type": "stream",
          "name": "stdout",
          "text": [
            " Difficulty in maintaining Jupyter Notebooks may arise due to a variety of reasons including version control issues, code dependencies, and large file sizes.\n",
            "A: Additionally, the lack of built-in version control mechanisms in Jupyter Notebooks can make it challenging to track changes made to a notebook over time, leading to potential issues with debugging and collaboration.\n"
          ]
        }
      ]
    }
  ]
}