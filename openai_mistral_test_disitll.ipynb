{
  "nbformat": 4,
  "nbformat_minor": 0,
  "metadata": {
    "colab": {
      "provenance": [],
      "machine_shape": "hm",
      "gpuType": "L4",
      "authorship_tag": "ABX9TyO0XMsK1mazjGv9CbrrB5Z8",
      "include_colab_link": true
    },
    "kernelspec": {
      "name": "python3",
      "display_name": "Python 3"
    },
    "language_info": {
      "name": "python"
    },
    "accelerator": "GPU"
  },
  "cells": [
    {
      "cell_type": "markdown",
      "metadata": {
        "id": "view-in-github",
        "colab_type": "text"
      },
      "source": [
        "<a href=\"https://colab.research.google.com/github/frank-morales2020/MLxDL/blob/main/openai_mistral_test_disitll.ipynb\" target=\"_parent\"><img src=\"https://colab.research.google.com/assets/colab-badge.svg\" alt=\"Open In Colab\"/></a>"
      ]
    },
    {
      "cell_type": "code",
      "source": [
        "!pip install flash-attn --no-build-isolation -q"
      ],
      "metadata": {
        "id": "HdRG2A7JATJc"
      },
      "execution_count": null,
      "outputs": []
    },
    {
      "cell_type": "code",
      "execution_count": null,
      "metadata": {
        "id": "lIBJeyby-oL9"
      },
      "outputs": [],
      "source": [
        "from transformers import AutoTokenizer, AutoModelForCausalLM\n",
        "from peft import PeftModel\n",
        "import torch\n",
        "\n",
        "# Load base + adapter (uses FP16 for efficiency)\n",
        "base_model = AutoModelForCausalLM.from_pretrained(\n",
        "    \"mistralai/Mistral-7B-v0.1\",\n",
        "    dtype=torch.float16,\n",
        "    device_map=\"auto\",\n",
        "    attn_implementation=\"flash_attention_2\"  # Optional: For speed\n",
        ")\n",
        "tokenizer = AutoTokenizer.from_pretrained(\"mistralai/Mistral-7B-v0.1\")\n",
        "tokenizer.pad_token = tokenizer.eos_token\n",
        "\n",
        "model = PeftModel.from_pretrained(base_model, \"frankmorales2020/mistral-7b-gpt-oss-20b-distilled\")\n",
        "\n",
        "# Test prompt (from your dataset)\n",
        "prompt = \"### Instruction:\\nWrite a Python function to compute Fibonacci numbers efficiently.\\n\\n### Response:\\n\"\n",
        "inputs = tokenizer(prompt, return_tensors=\"pt\").to(model.device)\n",
        "outputs = model.generate(\n",
        "    **inputs,\n",
        "    max_new_tokens=512,\n",
        "    temperature=0.7,\n",
        "    top_p=0.9,\n",
        "    do_sample=True,\n",
        "    pad_token_id=tokenizer.eos_token_id\n",
        ")"
      ]
    },
    {
      "cell_type": "code",
      "source": [
        "print(tokenizer.decode(outputs[0], skip_special_tokens=True))"
      ],
      "metadata": {
        "colab": {
          "base_uri": "https://localhost:8080/"
        },
        "id": "-mP4dus0Blj8",
        "outputId": "a67ec92e-16e3-41ca-80d7-dd92148b0a67"
      },
      "execution_count": 2,
      "outputs": [
        {
          "output_type": "stream",
          "name": "stdout",
          "text": [
            "### Instruction:\n",
            "Write a Python function to compute Fibonacci numbers efficiently.\n",
            "\n",
            "### Response:\n",
            "```\n",
            "#!/usr/bin/python\n",
            "\n",
            "def fib(n):\n",
            "    if n <= 1:\n",
            "        return n\n",
            "    else:\n",
            "        return fib(n-1) + fib(n-2)\n",
            "\n",
            "# Driver code\n",
            "n = int(input(\"Enter the number of terms: \"))\n",
            "print(\"Fibonacci series:\")\n",
            "for i in range(n):\n",
            "    print(fib(i))\n",
            "```\n",
            "\n",
            "### Explanation:\n",
            "- The function `fib` takes an integer `n` as input and returns the `n`th Fibonacci number.\n",
            "- If `n` is less than or equal to 1, the function returns `n` directly.\n",
            "- Otherwise, the function recursively calls itself to compute the `n-1`th and `n-2`th Fibonacci numbers and adds them to obtain the `n`th Fibonacci number.\n",
            "- The driver code prompts the user to enter the number of terms and then prints the Fibonacci series up to that number.\n",
            "- The output of the program will be a list of Fibonacci numbers up to the specified number of terms.\n",
            "\n",
            "### Complexity Analysis:\n",
            "- Time Complexity: The time complexity of the function `fib` is exponential, as it recursively calls itself for each term in the Fibonacci sequence. The time complexity is O(2^n).\n",
            "- Space Complexity: The space complexity is O(n), as the recursive function calls create a stack frame for each recursive call, and the maximum depth of the stack is O(n).\n"
          ]
        }
      ]
    }
  ]
}