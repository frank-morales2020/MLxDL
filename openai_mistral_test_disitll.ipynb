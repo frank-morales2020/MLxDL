{
  "nbformat": 4,
  "nbformat_minor": 0,
  "metadata": {
    "colab": {
      "provenance": [],
      "machine_shape": "hm",
      "gpuType": "L4",
      "authorship_tag": "ABX9TyPAX+TNANPuhsPlG2pSexPy",
      "include_colab_link": true
    },
    "kernelspec": {
      "name": "python3",
      "display_name": "Python 3"
    },
    "language_info": {
      "name": "python"
    },
    "accelerator": "GPU"
  },
  "cells": [
    {
      "cell_type": "markdown",
      "metadata": {
        "id": "view-in-github",
        "colab_type": "text"
      },
      "source": [
        "<a href=\"https://colab.research.google.com/github/frank-morales2020/MLxDL/blob/main/openai_mistral_test_disitll.ipynb\" target=\"_parent\"><img src=\"https://colab.research.google.com/assets/colab-badge.svg\" alt=\"Open In Colab\"/></a>"
      ]
    },
    {
      "cell_type": "code",
      "source": [
        "!pip install flash-attn --no-build-isolation -q"
      ],
      "metadata": {
        "id": "HdRG2A7JATJc"
      },
      "execution_count": null,
      "outputs": []
    },
    {
      "cell_type": "code",
      "execution_count": null,
      "metadata": {
        "id": "lIBJeyby-oL9"
      },
      "outputs": [],
      "source": [
        "from transformers import AutoTokenizer, AutoModelForCausalLM\n",
        "from peft import PeftModel\n",
        "import torch\n",
        "\n",
        "# Load base + adapter (uses FP16 for efficiency)\n",
        "base_model = AutoModelForCausalLM.from_pretrained(\n",
        "    \"mistralai/Mistral-7B-v0.1\",\n",
        "    dtype=torch.float16,\n",
        "    device_map=\"auto\",\n",
        "    attn_implementation=\"flash_attention_2\"  # Optional: For speed\n",
        ")\n",
        "tokenizer = AutoTokenizer.from_pretrained(\"mistralai/Mistral-7B-v0.1\")\n",
        "tokenizer.pad_token = tokenizer.eos_token\n",
        "\n",
        "model = PeftModel.from_pretrained(base_model, \"frankmorales2020/mistral-7b-gpt-oss-20b-distilled\")\n",
        "\n",
        "# Test prompt (from your dataset)\n",
        "prompt = \"### Instruction:\\nWrite a Python function to compute Fibonacci numbers. Your solution must be memory-efficient and have a linear time complexity.\"\n",
        "\n",
        "inputs = tokenizer(prompt, return_tensors=\"pt\").to(model.device)\n",
        "outputs = model.generate(\n",
        "    **inputs,\n",
        "    max_new_tokens=1024,\n",
        "    temperature=0.7,\n",
        "    top_p=0.9,\n",
        "    do_sample=True,\n",
        "    pad_token_id=tokenizer.eos_token_id\n",
        ")"
      ]
    },
    {
      "cell_type": "code",
      "source": [
        "print(tokenizer.decode(outputs[0], skip_special_tokens=True))"
      ],
      "metadata": {
        "colab": {
          "base_uri": "https://localhost:8080/"
        },
        "id": "-mP4dus0Blj8",
        "outputId": "57aec5b6-c1a7-4d8a-d079-8978cb4e509f"
      },
      "execution_count": null,
      "outputs": [
        {
          "output_type": "stream",
          "name": "stdout",
          "text": [
            "### Instruction:\n",
            "Write a Python function to compute Fibonacci numbers. Your solution must be memory-efficient and have a linear time complexity.\n",
            "\n",
            "### Input Format:\n",
            "The first line contains the total number of test cases. The next line contains an integer, N, denoting the nth Fibonacci number.\n",
            "\n",
            "### Output Format:\n",
            "Print the nth Fibonacci number.\n",
            "\n",
            "### Sample Input:\n",
            "1\n",
            "8\n",
            "\n",
            "### Sample Output:\n",
            "21\n",
            "\n",
            "### Explanation:\n",
            "Fibonacci series: 0, 1, 1, 2, 3, 5, 8, 13, 21, 34, ...\n",
            "\n",
            "### Solution:\n",
            "def fib(n):\n",
            "    if n == 0:\n",
            "        return 0\n",
            "    if n == 1:\n",
            "        return 1\n",
            "    a = 0\n",
            "    b = 1\n",
            "    for i in range(2, n + 1):\n",
            "        c = a + b\n",
            "        a = b\n",
            "        b = c\n",
            "    return b\n",
            "\n",
            "if __name__ == '__main__':\n",
            "    n = int(input())\n",
            "    print(fib(n))\n"
          ]
        }
      ]
    }
  ]
}