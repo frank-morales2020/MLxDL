{
  "cells": [
    {
      "cell_type": "markdown",
      "metadata": {
        "id": "view-in-github",
        "colab_type": "text"
      },
      "source": [
        "<a href=\"https://colab.research.google.com/github/frank-morales2020/MLxDL/blob/main/GPT4_Rag_Fusion_LlamaIndex_Pipeline_PostgreSQL_Embedding.ipynb\" target=\"_parent\"><img src=\"https://colab.research.google.com/assets/colab-badge.svg\" alt=\"Open In Colab\"/></a>"
      ]
    },
    {
      "cell_type": "markdown",
      "id": "41a58112-8a18-49ad-9c8c-2088778613d0",
      "metadata": {
        "id": "41a58112-8a18-49ad-9c8c-2088778613d0"
      },
      "source": [
        "# RAG Fusion Query Pipeline\n",
        "\n",
        "<a href=\"https://colab.research.google.com/github/run-llama/llama-hub/blob/main/llama_hub/llama_packs/query/rag_fusion_pipeline/rag_fusion_pipeline.ipynb\" target=\"_parent\"><img src=\"https://colab.research.google.com/assets/colab-badge.svg\" alt=\"Open In Colab\"/></a>\n",
        "\n",
        "This notebook shows how to implement RAG Fusion using the LlamaIndex Query Pipeline syntax."
      ]
    },
    {
      "cell_type": "markdown",
      "source": [
        "Required Dependencies"
      ],
      "metadata": {
        "id": "x9dG5VRhwpHm"
      },
      "id": "x9dG5VRhwpHm"
    },
    {
      "cell_type": "code",
      "source": [
        "#added by Frank Morales(FM) 22/02/2024\n",
        "%pip install openai  --root-user-action=ignore\n",
        "!pip install llama_index phoenix pyvis network\n",
        "!pip install llama_hub\n",
        "%pip install colab-env --upgrade --quiet --root-user-action=ignore\n",
        "!pip install accelerate\n",
        "#!pip install typing_extensions\n",
        "\n",
        "!pip install langchain --quiet\n",
        "!pip install accelerate --quiet\n",
        "!pip install transformers --quiet\n",
        "!pip install bitsandbytes --quiet"
      ],
      "metadata": {
        "id": "XN4HEh7jwixA"
      },
      "id": "XN4HEh7jwixA",
      "execution_count": null,
      "outputs": []
    },
    {
      "cell_type": "markdown",
      "id": "8c5bdbf5-d525-42e2-ab4a-19234c023491",
      "metadata": {
        "id": "8c5bdbf5-d525-42e2-ab4a-19234c023491"
      },
      "source": [
        "## Setup / Load Data\n",
        "\n",
        "We load in the pg_essay.txt data."
      ]
    },
    {
      "cell_type": "code",
      "execution_count": 2,
      "id": "20b91e78-d733-44dd-b9a2-7c6eab3aee3d",
      "metadata": {
        "id": "20b91e78-d733-44dd-b9a2-7c6eab3aee3d",
        "colab": {
          "base_uri": "https://localhost:8080/"
        },
        "outputId": "744584c2-e440-4e21-ca90-54871dbbe047"
      },
      "outputs": [
        {
          "output_type": "stream",
          "name": "stdout",
          "text": [
            "Mounted at /content/gdrive\n",
            "--2024-02-23 00:06:21--  https://raw.githubusercontent.com/run-llama/llama_index/main/docs/examples/data/paul_graham/paul_graham_essay.txt\n",
            "Resolving raw.githubusercontent.com (raw.githubusercontent.com)... 185.199.108.133, 185.199.109.133, 185.199.110.133, ...\n",
            "Connecting to raw.githubusercontent.com (raw.githubusercontent.com)|185.199.108.133|:443... connected.\n",
            "HTTP request sent, awaiting response... 200 OK\n",
            "Length: 75042 (73K) [text/plain]\n",
            "Saving to: ‘pg_essay.txt’\n",
            "\n",
            "pg_essay.txt        100%[===================>]  73.28K  --.-KB/s    in 0.01s   \n",
            "\n",
            "2024-02-23 00:06:21 (5.69 MB/s) - ‘pg_essay.txt’ saved [75042/75042]\n",
            "\n"
          ]
        }
      ],
      "source": [
        "import colab_env\n",
        "import openai\n",
        "import os\n",
        "openai.api_key = os.getenv(\"OPENAI_API_KEY\")\n",
        "\n",
        "!wget 'https://raw.githubusercontent.com/run-llama/llama_index/main/docs/examples/data/paul_graham/paul_graham_essay.txt' -O 'data/paul_graham/paul_graham_essay.txt' -O pg_essay.txt"
      ]
    },
    {
      "cell_type": "markdown",
      "source": [
        "POSTGRESQL"
      ],
      "metadata": {
        "id": "jvWymWCOIdbI"
      },
      "id": "jvWymWCOIdbI"
    },
    {
      "cell_type": "code",
      "source": [
        "#ADDED By FM 22/02/2024\n",
        "\n",
        "# install PSQL WITH DEV Libraries AND PGVECTOR\n",
        "!apt install postgresql postgresql-contrib &>log\n",
        "!service postgresql restart\n",
        "!sudo apt install postgresql-server-dev-all"
      ],
      "metadata": {
        "id": "8DA67X3Zw_OW"
      },
      "id": "8DA67X3Zw_OW",
      "execution_count": null,
      "outputs": []
    },
    {
      "cell_type": "code",
      "source": [
        "print()\n",
        "# PostGRES SQL Settings\n",
        "%cd /content/\n",
        "!sudo -u postgres psql -c \"ALTER USER postgres PASSWORD 'postgres'\"\n",
        "\n",
        "print('START: PG embedding COMPILATION')\n",
        "%cd /content/\n",
        "!git clone https://github.com/neondatabase/pg_embedding.git\n",
        "%cd /content/pg_embedding\n",
        "!make\n",
        "!make install # may need sudo\n",
        "print('END: PG embedding COMPILATION')\n",
        "print()\n",
        "\n",
        "#!sudo -u postgres psql -c \"DROP EXTENSION embedding\"\n",
        "!sudo -u postgres psql -c \"CREATE EXTENSION embedding\"\n",
        "!sudo -u postgres psql -c \"DROP TABLE documents\"\n",
        "!sudo -u postgres psql -c \"CREATE TABLE documents(id integer PRIMARY KEY, embedding real[])\""
      ],
      "metadata": {
        "id": "KLp1-7HZOkTW"
      },
      "id": "KLp1-7HZOkTW",
      "execution_count": null,
      "outputs": []
    },
    {
      "cell_type": "code",
      "source": [
        "#!pip install llama-index\n",
        "#!pip install llama-index\n",
        "import llama_index.core.readers as readers\n",
        "import os\n",
        "import openai\n",
        "\n",
        "import colab_env\n",
        "import os\n",
        "\n",
        "reader = readers.SimpleDirectoryReader(input_files=[\"/content/pg_essay.txt\"])\n",
        "docs = reader.load_data()\n",
        "\n",
        "openai.api_key = os.getenv(\"OPENAI_API_KEY\")"
      ],
      "metadata": {
        "id": "66tTN1avILV-"
      },
      "id": "66tTN1avILV-",
      "execution_count": 5,
      "outputs": []
    },
    {
      "cell_type": "code",
      "source": [
        "#ADDED By FM 22/02/2024\n",
        "\n",
        "from typing import List, Tuple\n",
        "from langchain.docstore.document import Document\n",
        "from langchain.document_loaders import TextLoader\n",
        "from langchain.embeddings.openai import OpenAIEmbeddings\n",
        "from langchain.text_splitter import CharacterTextSplitter\n",
        "from langchain.vectorstores import PGEmbedding\n",
        "\n",
        "loader = TextLoader(\"/content/pg_essay.txt\")\n",
        "documents = loader.load()\n",
        "text_splitter = CharacterTextSplitter(chunk_size=1000, chunk_overlap=0)\n",
        "### for the DB embedding\n",
        "docs0 = text_splitter.split_documents(documents)\n",
        "\n",
        "collection_name0 = \"pg_essay\"\n",
        "print(f'# of Document Pages {len(documents)}')\n",
        "print(f'# of Document Chunks: {len(docs0)}')"
      ],
      "metadata": {
        "id": "hyLRNSCwS91R",
        "colab": {
          "base_uri": "https://localhost:8080/"
        },
        "outputId": "90f246f9-0f04-4a35-9697-9245c884bac2"
      },
      "id": "hyLRNSCwS91R",
      "execution_count": 6,
      "outputs": [
        {
          "output_type": "stream",
          "name": "stderr",
          "text": [
            "WARNING:langchain.text_splitter:Created a chunk of size 1004, which is longer than the specified 1000\n",
            "WARNING:langchain.text_splitter:Created a chunk of size 1203, which is longer than the specified 1000\n",
            "WARNING:langchain.text_splitter:Created a chunk of size 1025, which is longer than the specified 1000\n"
          ]
        },
        {
          "output_type": "stream",
          "name": "stdout",
          "text": [
            "# of Document Pages 1\n",
            "# of Document Chunks: 100\n"
          ]
        }
      ]
    },
    {
      "cell_type": "markdown",
      "id": "a7c9299c-06d6-4710-afb0-3cc13761f358",
      "metadata": {
        "id": "a7c9299c-06d6-4710-afb0-3cc13761f358"
      },
      "source": [
        "## Setup Llama Pack\n",
        "\n",
        "Next we download the LlamaPack. All the code is in the downloaded directory - we encourage you to take a look to see the QueryPipeline syntax!"
      ]
    },
    {
      "cell_type": "code",
      "source": [
        "!git clone https://github.com/run-llama/llama_index.git"
      ],
      "metadata": {
        "id": "8vb2GlbIrp_s",
        "colab": {
          "base_uri": "https://localhost:8080/"
        },
        "outputId": "6e70843b-b7bc-4e3b-b822-a9f409ae479b"
      },
      "id": "8vb2GlbIrp_s",
      "execution_count": 7,
      "outputs": [
        {
          "output_type": "stream",
          "name": "stdout",
          "text": [
            "Cloning into 'llama_index'...\n",
            "remote: Enumerating objects: 66882, done.\u001b[K\n",
            "remote: Counting objects: 100% (7347/7347), done.\u001b[K\n",
            "remote: Compressing objects: 100% (1534/1534), done.\u001b[K\n",
            "remote: Total 66882 (delta 6408), reused 6033 (delta 5798), pack-reused 59535\u001b[K\n",
            "Receiving objects: 100% (66882/66882), 154.48 MiB | 34.37 MiB/s, done.\n",
            "Resolving deltas: 100% (46550/46550), done.\n",
            "Updating files: 100% (7995/7995), done.\n"
          ]
        }
      ]
    },
    {
      "cell_type": "code",
      "source": [
        "\n",
        "\n",
        "from llama_index.llms.openai.base import AsyncOpenAI, OpenAI, SyncOpenAI, Tokenizer\n",
        "\n",
        "llm=OpenAI(model=\"gpt-4\")\n"
      ],
      "metadata": {
        "id": "MMMglxm2rSuE"
      },
      "id": "MMMglxm2rSuE",
      "execution_count": 8,
      "outputs": []
    },
    {
      "cell_type": "markdown",
      "source": [
        "# RAG FUSION PIPELINE"
      ],
      "metadata": {
        "id": "vKK5SXmmMkRR"
      },
      "id": "vKK5SXmmMkRR"
    },
    {
      "cell_type": "code",
      "source": [
        "import llama_hub\n",
        "from llama_hub.llama_packs.query.rag_fusion_pipeline import rag_fusion_pipeline_pack\n",
        "RAGFusionPipelinePack=rag_fusion_pipeline_pack\n",
        "\n",
        "\n",
        "\n",
        "import llama_index.core.readers as readers\n",
        "reader = readers.SimpleDirectoryReader(input_files=[\"/content/pg_essay.txt\"])\n",
        "## for the RAG\n",
        "docs = reader.load_data()\n",
        "\n",
        "from llama_index.core.llama_pack import download_llama_pack\n",
        "\n",
        "# download and install dependencies\n",
        "RAGFusionPipelinePack = download_llama_pack(\n",
        "    \"RAGFusionPipelinePack\", \"./rag_fusion_pipeline_pack\"\n",
        ")\n",
        "\n",
        "\n",
        "#Please provide a valid OpenAI model name in: gpt-4, gpt-4-32k, gpt-4-1106-preview,\n",
        "#gpt-4-vision-preview, gpt-4-0613, gpt-4-32k-0613, gpt-4-0314, gpt-4-32k-0314,\n",
        "#gpt-3.5-turbo, gpt-3.5-turbo-16k, gpt-3.5-turbo-1106, gpt-3.5-turbo-0613,\n",
        "#gpt-3.5-turbo-16k-0613, gpt-3.5-turbo-0301, text-davinci-003, text-davinci-002,\n",
        "#gpt-3.5-turbo-instruct, text-ada-001, text-babbage-001, text-curie-001,\n",
        "#ada, babbage, curie, davinci, gpt-35-turbo-16k, gpt-35-turbo, gpt-35-turbo-1106,\n",
        "#gpt-35-turbo-0613, gpt-35-turbo-16k-0613\n",
        "\n",
        "#### OPENAI MODELS ########\n",
        "#pack = RAGFusionPipelinePack(docs, llm=OpenAI(model=\"gpt-3.5-turbo\")) ### ORIGINAL\n",
        "#pack = RAGFusionPipelinePack(docs, llm=OpenAI(model=\"gpt-4-1106-preview\"))\n",
        "#pack = RAGFusionPipelinePack(docs, llm=OpenAI(model=\"gpt-4-vision-preview\"))\n",
        "pack = RAGFusionPipelinePack(docs, llm=OpenAI(model=\"gpt-4\"))\n",
        "\n",
        "query0=\"What did the author do growing up?\"\n",
        "response0 = pack.run(query=query0)\n",
        "print(response0)"
      ],
      "metadata": {
        "colab": {
          "base_uri": "https://localhost:8080/"
        },
        "id": "fZcZGjJK3IOa",
        "outputId": "5cbda78a-a14c-4145-8c52-f1513bef6c90"
      },
      "id": "fZcZGjJK3IOa",
      "execution_count": 9,
      "outputs": [
        {
          "output_type": "stream",
          "name": "stdout",
          "text": [
            "The author, growing up, worked on writing short stories and programming. They started writing short stories as a beginning writer and also tried programming on an IBM 1401 using an early version of Fortran in 9th grade. Later on, they got a TRS-80 computer and began programming more extensively, writing simple games and even a word processor.\n"
          ]
        }
      ]
    },
    {
      "cell_type": "markdown",
      "source": [
        "# GPT-4 - MODEL"
      ],
      "metadata": {
        "id": "vB6EiQq-TKHt"
      },
      "id": "vB6EiQq-TKHt"
    },
    {
      "cell_type": "code",
      "source": [
        "def gpt_reponse(query):\n",
        "  response = client.chat.completions.create(\n",
        "    model=\"gpt-4\",\n",
        "    #model=\"gpt-3.5-turbo\"\n",
        "    #response_format={ \"type\": \"json_object\" },\n",
        "    messages=[\n",
        "      #{\"role\": \"system\", \"content\": \"You are a helpful assistant designed to output JSON.\"},\n",
        "      {\"role\": \"system\", \"content\": \"You are a helpful assistant designed to output text.\"},\n",
        "      {\"role\": \"user\", \"content\": query}\n",
        "    ]\n",
        "  )\n",
        "\n",
        "  return response"
      ],
      "metadata": {
        "id": "OGIj5Dnr-6iG"
      },
      "id": "OGIj5Dnr-6iG",
      "execution_count": 10,
      "outputs": []
    },
    {
      "cell_type": "code",
      "source": [
        "import warnings\n",
        "warnings.filterwarnings('ignore')\n",
        "\n",
        "import colab_env\n",
        "import openai\n",
        "import os\n",
        "openai.api_key = os.getenv(\"OPENAI_API_KEY\")\n",
        "\n",
        "\n",
        "from openai import OpenAI\n",
        "client = OpenAI()\n",
        "\n",
        "response=gpt_reponse(\"Who won the world series in 2020?\")\n",
        "print(response.choices[0].message.content)"
      ],
      "metadata": {
        "colab": {
          "base_uri": "https://localhost:8080/"
        },
        "id": "RjQlUGxI7f_3",
        "outputId": "a51e4fee-eee5-4acd-eca8-8593f105d7a4"
      },
      "id": "RjQlUGxI7f_3",
      "execution_count": 11,
      "outputs": [
        {
          "output_type": "stream",
          "name": "stdout",
          "text": [
            "The Los Angeles Dodgers won the World Series in 2020.\n"
          ]
        }
      ]
    },
    {
      "cell_type": "code",
      "source": [
        "response=gpt_reponse(\"what is the 30% of 650?\")\n",
        "print(response.choices[0].message.content)"
      ],
      "metadata": {
        "colab": {
          "base_uri": "https://localhost:8080/"
        },
        "id": "rJFb1bTiUK46",
        "outputId": "35aee396-cf4a-4208-9a2c-1f2f190e6258"
      },
      "id": "rJFb1bTiUK46",
      "execution_count": 20,
      "outputs": [
        {
          "output_type": "stream",
          "name": "stdout",
          "text": [
            "The 30% of 650 is 195.\n"
          ]
        }
      ]
    },
    {
      "cell_type": "code",
      "source": [
        "response=gpt_reponse(\"As a data scientist, can you explain the concept of regularization in machine learning?\")\n",
        "print(response.choices[0].message.content)"
      ],
      "metadata": {
        "colab": {
          "base_uri": "https://localhost:8080/"
        },
        "id": "GM6SB8frUyez",
        "outputId": "873d9871-bf79-4269-85c3-3174c59e0978"
      },
      "id": "GM6SB8frUyez",
      "execution_count": 21,
      "outputs": [
        {
          "output_type": "stream",
          "name": "stdout",
          "text": [
            "Regularization is a technique used in machine learning to prevent overfitting, which occurs when your model becomes too complex and performs very well on training data but poorly on unseen test data. In other words, the model learns the training data too well, including the noise and outliers, and fails to generalize from this data to unseen scenarios.\n",
            "\n",
            "Regularization solves the overfitting issue by adding a penalty term to the objective function (typically the loss/error function) in a machine learning algorithm. The regularization term encourages the weights (parameter values) of the model to be small and effectively reduces the model’s complexity. This balances the trade-off between bias (how well the model fits the data) and variance (how much the model changes for different datasets).\n",
            "\n",
            "There are two common types of regularization: L1 and L2 regularization. \n",
            "\n",
            "1. L1 regularization, also called Lasso Regression, adds a penalty equal to the absolute value of the magnitude of the coefficients. This can lead to some coefficients to become zero, effectively excluding the corresponding feature from the model.\n",
            "\n",
            "2. L2 regularization, also known as Ridge Regression, adds a penalty equal to the square of the magnitude of the coefficients. This tends to decrease the influence of less important features but does not reduce their coefficients to zero.\n",
            "\n",
            "Both methods decrease the magnitude of the coefficients but keep the features in the model. This leads to a simpler model (less complex and less likely to overfit) that still incorporates all available information. \n",
            "\n",
            "To conclude, regularization is a useful technique to prevent overfitting by adding a complexity term to the loss function to penalize large weights and simplify the model.\n"
          ]
        }
      ]
    },
    {
      "cell_type": "code",
      "source": [
        "response=gpt_reponse(\"I bought an ice cream for 6 kids. Each cone was $1.25 and I paid with a $10 bill. How many dollars did I get back? Explain first before answering.\")\n",
        "print(response.choices[0].message.content)"
      ],
      "metadata": {
        "colab": {
          "base_uri": "https://localhost:8080/"
        },
        "id": "-HBzKx3PU5qM",
        "outputId": "ae51be86-6083-491a-c7ab-caaddf2b4550"
      },
      "id": "-HBzKx3PU5qM",
      "execution_count": 22,
      "outputs": [
        {
          "output_type": "stream",
          "name": "stdout",
          "text": [
            "First, you need to calculate the total cost of the ice cream cones. Since each cone costs $1.25 and you bought 6, you multiply $1.25 by 6 which equals $7.50.\n",
            "\n",
            "Then, to determine how much money you got back, you subtract the total cost from the amount you paid with. In this case, you paid with a $10 bill.\n",
            "\n",
            "So, $10.00 - $7.50 = $2.50. \n",
            "\n",
            "So, you got back $2.50.\n"
          ]
        }
      ]
    },
    {
      "cell_type": "code",
      "source": [
        "response=gpt_reponse(\"Which country has the most natural lakes? Answer with only the country name.\")\n",
        "print(response.choices[0].message.content)"
      ],
      "metadata": {
        "colab": {
          "base_uri": "https://localhost:8080/"
        },
        "id": "k4WeLnTTVGag",
        "outputId": "88fe6682-b560-4563-ded6-730bb14bb055"
      },
      "id": "k4WeLnTTVGag",
      "execution_count": 23,
      "outputs": [
        {
          "output_type": "stream",
          "name": "stdout",
          "text": [
            "Canada\n"
          ]
        }
      ]
    },
    {
      "cell_type": "code",
      "source": [
        "response=gpt_reponse(\"Who won the world series in 2009 and who lost, explained?, who were the managers?\" )\n",
        "print(response.choices[0].message.content)"
      ],
      "metadata": {
        "colab": {
          "base_uri": "https://localhost:8080/"
        },
        "id": "Q4MFDx-xPTiT",
        "outputId": "58ea6953-fbd2-4053-8510-906014ac9572"
      },
      "id": "Q4MFDx-xPTiT",
      "execution_count": 19,
      "outputs": [
        {
          "output_type": "stream",
          "name": "stdout",
          "text": [
            "The World Series of 2009 was won by the New York Yankees, who defeated the Philadelphia Phillies. The Yankees took the championship with a 4-2 Series win. The 2009 win marked their 27th World Series championship, solidifying their already strong legacy within professional baseball.\n",
            "\n",
            "The manager of the New York Yankees during the 2009 World Series was Joe Girardi, who later led the Yankees to several more successful seasons. The Philadelphia Phillies were managed by Charlie Manuel, who was able to guide the Phillies to the World Series for a second consecutive year, having won in 2008. Despite losing in 2009, under Manuel's leadership, the Phillies remained one of the dominant teams in the National League.\n"
          ]
        }
      ]
    },
    {
      "cell_type": "code",
      "source": [
        "response=gpt_reponse(\"How AWS has evolved?\")\n",
        "print(response.choices[0].message.content)\n"
      ],
      "metadata": {
        "id": "J7hMlciRPj5y",
        "colab": {
          "base_uri": "https://localhost:8080/"
        },
        "outputId": "0ab1c1ec-d77f-40b7-9fed-437d716b3f42"
      },
      "id": "J7hMlciRPj5y",
      "execution_count": 13,
      "outputs": [
        {
          "output_type": "stream",
          "name": "stdout",
          "text": [
            "Amazon Web Services (AWS) has evolved considerably since its inception, becoming a prominent player in the field of cloud computing services. Here is a brief overview of its evolution:\n",
            "\n",
            "1. **2002**: Amazon Web Services was first launched as a free service that offered data on Amazon's popular products.\n",
            "\n",
            "2. **2006**: AWS officially launched its first cloud product, the Simple Storage Service (S3), setting the company on its path to cloud services. In the same year, AWS also launched Elastic Compute Cloud (EC2), which allows individuals and businesses to rent virtual computers to run their applications.\n",
            "\n",
            "3. **2007**: AWS started the AWS Partner Network, focusing on helping businesses move to the cloud.\n",
            "\n",
            "4. **2008**: AWS added Elastic Block Store (EBS), providing raw block-level storage, and introduced the first availability zone in Europe.\n",
            "\n",
            "5. **2009**: AWS expanded again, this time with the introduction of Amazon Relational Database Service (RDS). \n",
            "\n",
            "6. **2010**: AWS rolled out new services like Amazon Simple Notification Service (SNS) and Amazon CloudWatch for monitoring AWS resources.\n",
            "\n",
            "7. **2011**: AWS experienced its first major outage, which led to the company enhancing its infrastructure and redundancy measures. This year also sees the launch of AWS GovCloud for U.S governmental agencies.\n",
            "\n",
            "8. **2012**: AWS introduced Redshift, a data warehousing product. This year also marked their first-ever AWS re:Invent, annual user conference.\n",
            "\n",
            "9. **2013**: AWS launched several user-friendly tools, such as AWS CloudHSM and Amazon AppStream. \n",
            "\n",
            "10. **2014**: AWS Lambda a serverless compute service was launched.\n",
            "\n",
            "11. **2015**: AWS announced AWS Snowball, a physical storage device for large-scale data transfer. \n",
            "\n",
            "12. **2016 onwards**: AWS continued to grow, adding more services like AWS Shield for DDOS protection, AWS Macie for data privacy, and AWS Glue for ETL workloads.\n",
            "\n",
            "13. **Present Day**: Today, AWS offers over 200 fully featured services from data centers globally in areas such as computing power, storage options, networking, databases, analytics, application services, deployment, management, mobile, developer tools, and tools for the Internet of Things (IoT). It's continuously innovating and expanding its portfolio to meet new market demands.\n",
            "\n",
            "AWS has truly evolved from a selective service platform to a comprehensive suite that powers hundreds of thousands of businesses in 190 countries around the world.\n"
          ]
        }
      ]
    },
    {
      "cell_type": "markdown",
      "source": [
        "# EMBEDDING"
      ],
      "metadata": {
        "id": "Xgo5C7hzbWCY"
      },
      "id": "Xgo5C7hzbWCY"
    },
    {
      "cell_type": "code",
      "source": [
        "# 20x faster than pgvector: introducing pg_embedding extension for vector search in Postgres and LangChain\n",
        "# https://neon.tech/blog/pg-embedding-extension-for-vector-search\n",
        "\n",
        "#ADDED By FM 22/02/2024\n",
        "\n",
        "from langchain.embeddings.openai import OpenAIEmbeddings\n",
        "from langchain.text_splitter import CharacterTextSplitter\n",
        "from langchain.vectorstores import PGEmbedding\n",
        "\n",
        "# https://supabase.com/blog/fewer-dimensions-are-better-pgvector\n",
        "embeddings = OpenAIEmbeddings(model='text-embedding-ada-002')\n",
        "\n",
        "collection_name='Paul Graham Essay'\n",
        "connection_string = os.getenv(\"DATABASE_URL\")\n",
        "\n",
        "db = PGEmbedding.from_documents(\n",
        "    embedding=embeddings,\n",
        "    documents=docs0,\n",
        "    collection_name=collection_name,\n",
        "    connection_string=connection_string,\n",
        ")\n",
        "\n",
        "#db.create_hnsw_index(dims = 1536, m = 8, ef_construction = 16, ef_search = 16)"
      ],
      "metadata": {
        "id": "SHrXuMUXGAMW"
      },
      "id": "SHrXuMUXGAMW",
      "execution_count": 14,
      "outputs": []
    },
    {
      "cell_type": "code",
      "source": [
        "#ADDED By FM 22/02/2024\n",
        "query='What did the author do growing up?'\n",
        "docs_with_score: List[Tuple[Document, float]] = db.similarity_search_with_score(query)\n",
        "\n",
        "print()\n",
        "print(query)\n",
        "print()\n",
        "\n",
        "for doc, score in docs_with_score:\n",
        "    print(\"-\" * 80)\n",
        "    print(\"Score: \", score)\n",
        "    print(doc.page_content)\n",
        "    print(\"-\" * 80)"
      ],
      "metadata": {
        "colab": {
          "base_uri": "https://localhost:8080/"
        },
        "id": "A4RiRP1jOGVs",
        "outputId": "65e203bb-4d34-4d12-d002-ec609882e726"
      },
      "id": "A4RiRP1jOGVs",
      "execution_count": 15,
      "outputs": [
        {
          "output_type": "stream",
          "name": "stdout",
          "text": [
            "\n",
            "What did the author do growing up?\n",
            "\n",
            "--------------------------------------------------------------------------------\n",
            "Score:  0.5992267\n",
            "What I Worked On\n",
            "\n",
            "February 2021\n",
            "\n",
            "Before college the two main things I worked on, outside of school, were writing and programming. I didn't write essays. I wrote what beginning writers were supposed to write then, and probably still are: short stories. My stories were awful. They had hardly any plot, just characters with strong feelings, which I imagined made them deep.\n",
            "\n",
            "The first programs I tried writing were on the IBM 1401 that our school district used for what was then called \"data processing.\" This was in 9th grade, so I was 13 or 14. The school district's 1401 happened to be in the basement of our junior high school, and my friend Rich Draves and I got permission to use it. It was like a mini Bond villain's lair down there, with all these alien-looking machines — CPU, disk drives, printer, card reader — sitting up on a raised floor under bright fluorescent lights.\n",
            "--------------------------------------------------------------------------------\n",
            "--------------------------------------------------------------------------------\n",
            "Score:  0.6023548\n",
            "Working on Bel was hard but satisfying. I worked on it so intensively that at any given time I had a decent chunk of the code in my head and could write more there. I remember taking the boys to the coast on a sunny day in 2015 and figuring out how to deal with some problem involving continuations while I watched them play in the tide pools. It felt like I was doing life right. I remember that because I was slightly dismayed at how novel it felt. The good news is that I had more moments like this over the next few years.\n",
            "\n",
            "In the summer of 2016 we moved to England. We wanted our kids to see what it was like living in another country, and since I was a British citizen by birth, that seemed the obvious choice. We only meant to stay for a year, but we liked it so much that we still live there. So most of Bel was written in England.\n",
            "--------------------------------------------------------------------------------\n",
            "--------------------------------------------------------------------------------\n",
            "Score:  0.60477674\n",
            "Over the next several years I wrote lots of essays about all kinds of different topics. O'Reilly reprinted a collection of them as a book, called Hackers & Painters after one of the essays in it. I also worked on spam filters, and did some more painting. I used to have dinners for a group of friends every thursday night, which taught me how to cook for groups. And I bought another building in Cambridge, a former candy factory (and later, twas said, porn studio), to use as an office.\n",
            "\n",
            "One night in October 2003 there was a big party at my house. It was a clever idea of my friend Maria Daniels, who was one of the thursday diners. Three separate hosts would all invite their friends to one party. So for every guest, two thirds of the other guests would be people they didn't know but would probably like. One of the guests was someone I didn't know but would turn out to like a lot: a woman called Jessica Livingston. A couple days later I asked her out.\n",
            "--------------------------------------------------------------------------------\n",
            "--------------------------------------------------------------------------------\n",
            "Score:  0.6152447\n",
            "In the print era, the channel for publishing essays had been vanishingly small. Except for a few officially anointed thinkers who went to the right parties in New York, the only people allowed to publish essays were specialists writing about their specialties. There were so many essays that had never been written, because there had been no way to publish them. Now they could be, and I was going to write them. [12]\n",
            "\n",
            "I've worked on several different things, but to the extent there was a turning point where I figured out what to work on, it was when I started publishing essays online. From then on I knew that whatever else I did, I'd always write essays too.\n",
            "\n",
            "I knew that online essays would be a marginal medium at first. Socially they'd seem more like rants posted by nutjobs on their GeoCities sites than the genteel and beautifully typeset compositions published in The New Yorker. But by this point I knew enough to find that encouraging instead of discouraging.\n",
            "--------------------------------------------------------------------------------\n"
          ]
        }
      ]
    },
    {
      "cell_type": "markdown",
      "source": [
        "# Examples of Queries"
      ],
      "metadata": {
        "id": "ZOkptc-Yx8U0"
      },
      "id": "ZOkptc-Yx8U0"
    },
    {
      "cell_type": "code",
      "execution_count": 16,
      "id": "065ef0c4-0c9e-4611-8de4-98b2a7fe3094",
      "metadata": {
        "id": "065ef0c4-0c9e-4611-8de4-98b2a7fe3094",
        "outputId": "79439bc0-8630-45c7-e69b-090262ac9448",
        "colab": {
          "base_uri": "https://localhost:8080/"
        }
      },
      "outputs": [
        {
          "output_type": "stream",
          "name": "stdout",
          "text": [
            "\n",
            "What did the author do growing up?\n",
            "The author, growing up, worked on writing short stories and programming. They started writing short stories before college, focusing on characters with strong feelings rather than intricate plots. In terms of programming, they began by writing programs on an IBM 1401 using an early version of Fortran in 9th grade. Later on, they transitioned to working with microcomputers, particularly a TRS-80, where they wrote simple games, a rocket prediction program, and a word processor.\n",
            "\n",
            "\n",
            "Who is the President of the USA?\n",
            "I am unable to provide real-time information such as the current President of the USA.\n",
            "\n",
            "\n",
            "Who won the baseball World Series in 2020? and Who Lost\n",
            "I cannot provide the answer to who won the baseball World Series in 2020 or who lost based on the context information provided.\n",
            "\n",
            "\n",
            "Anything about LIPS\n",
            "LISP, which stands for \"LISt Processing,\" is a programming language known for its unique approach to computation. It was originally developed by John McCarthy in the late 1950s as a formal model of computation, aiming to be an alternative to the Turing machine. LISP's core concept involves defining a language by writing an interpreter in itself. Over time, LISP evolved into a full-fledged programming language, gaining power and elegance due to its origins as a model of computation. McCarthy's initial LISP interpreter was later expanded to include essential features that were not part of the original design. Despite its complex nature, LISP's ability to be defined and modified within itself has made it a fascinating subject for exploration and development.\n",
            "\n"
          ]
        }
      ],
      "source": [
        "#modify By FM 22/02/2024\n",
        "\n",
        "#response = pack.run(query=\"What did the author do growing up?\")\n",
        "query0=\"What did the author do growing up?\"\n",
        "query='I bought an ice cream for 6 kids. Each cone was $1.25 and I paid with a $10 bill. How many dollars did I get back? Explain first before answering.'\n",
        "query1 = \"Who is the President of the USA?\"\n",
        "query2 = \"Who won the baseball World Series in 2020? and Who Lost\"\n",
        "query3 = 'Anything about FORTRAN'\n",
        "query4 = 'Anything about LIPS'\n",
        "query5 = 'Anything about Python'\n",
        "\n",
        "response0 = pack.run(query=query0)\n",
        "response1 = pack.run(query=query1)\n",
        "response2 = pack.run(query=query2)\n",
        "response4 = pack.run(query=query4)\n",
        "\n",
        "print()\n",
        "print(query0)\n",
        "print(str(response0))\n",
        "print()\n",
        "\n",
        "print()\n",
        "print(query1)\n",
        "print(str(response1))\n",
        "print()\n",
        "\n",
        "print()\n",
        "print(query2)\n",
        "print(str(response2))\n",
        "print()\n",
        "\n",
        "print()\n",
        "print(query4)\n",
        "print(str(response4))\n",
        "print()"
      ]
    },
    {
      "cell_type": "code",
      "execution_count": 17,
      "id": "ea4ef382-fd11-4a82-8f5d-b2c53a21c665",
      "metadata": {
        "id": "ea4ef382-fd11-4a82-8f5d-b2c53a21c665"
      },
      "outputs": [],
      "source": [
        "#response.source_nodes"
      ]
    }
  ],
  "metadata": {
    "kernelspec": {
      "display_name": "llama_hub",
      "language": "python",
      "name": "llama_hub"
    },
    "language_info": {
      "codemirror_mode": {
        "name": "ipython",
        "version": 3
      },
      "file_extension": ".py",
      "mimetype": "text/x-python",
      "name": "python",
      "nbconvert_exporter": "python",
      "pygments_lexer": "ipython3",
      "version": "3.10.8"
    },
    "colab": {
      "provenance": [],
      "machine_shape": "hm",
      "gpuType": "T4",
      "collapsed_sections": [
        "vKK5SXmmMkRR"
      ],
      "toc_visible": true,
      "include_colab_link": true
    },
    "accelerator": "GPU"
  },
  "nbformat": 4,
  "nbformat_minor": 5
}