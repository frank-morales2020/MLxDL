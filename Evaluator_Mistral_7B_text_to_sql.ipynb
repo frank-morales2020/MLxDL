{
  "nbformat": 4,
  "nbformat_minor": 0,
  "metadata": {
    "colab": {
      "provenance": [],
      "machine_shape": "hm",
      "gpuType": "A100",
      "collapsed_sections": [
        "U9F0m1TlmGWH"
      ],
      "authorship_tag": "ABX9TyMIm0fkW1wqRq/q4UH2yvD8",
      "include_colab_link": true
    },
    "kernelspec": {
      "name": "python3",
      "display_name": "Python 3"
    },
    "language_info": {
      "name": "python"
    },
    "accelerator": "GPU"
  },
  "cells": [
    {
      "cell_type": "markdown",
      "metadata": {
        "id": "view-in-github",
        "colab_type": "text"
      },
      "source": [
        "<a href=\"https://colab.research.google.com/github/frank-morales2020/MLxDL/blob/main/Evaluator_Mistral_7B_text_to_sql.ipynb\" target=\"_parent\"><img src=\"https://colab.research.google.com/assets/colab-badge.svg\" alt=\"Open In Colab\"/></a>"
      ]
    },
    {
      "cell_type": "markdown",
      "source": [
        "https://medium.com/@frankmorales_91352/fine-tuning-the-llm-mistral-7b-instruct-v0-3-249c1814ceaf"
      ],
      "metadata": {
        "id": "a0h4qeKt2PsS"
      }
    },
    {
      "cell_type": "markdown",
      "source": [
        "# Dependencies"
      ],
      "metadata": {
        "id": "cCGJhXUKlZTp"
      }
    },
    {
      "cell_type": "code",
      "source": [
        "!nvidia-smi"
      ],
      "metadata": {
        "colab": {
          "base_uri": "https://localhost:8080/"
        },
        "id": "oJi-Qn1p-po2",
        "outputId": "77000b8d-aba9-4b11-d57e-b3266c33bb20"
      },
      "execution_count": null,
      "outputs": [
        {
          "output_type": "stream",
          "name": "stdout",
          "text": [
            "Wed Jun 26 13:55:54 2024       \n",
            "+---------------------------------------------------------------------------------------+\n",
            "| NVIDIA-SMI 535.104.05             Driver Version: 535.104.05   CUDA Version: 12.2     |\n",
            "|-----------------------------------------+----------------------+----------------------+\n",
            "| GPU  Name                 Persistence-M | Bus-Id        Disp.A | Volatile Uncorr. ECC |\n",
            "| Fan  Temp   Perf          Pwr:Usage/Cap |         Memory-Usage | GPU-Util  Compute M. |\n",
            "|                                         |                      |               MIG M. |\n",
            "|=========================================+======================+======================|\n",
            "|   0  NVIDIA A100-SXM4-40GB          Off | 00000000:00:04.0 Off |                    0 |\n",
            "| N/A   32C    P0              46W / 400W |      2MiB / 40960MiB |      0%      Default |\n",
            "|                                         |                      |             Disabled |\n",
            "+-----------------------------------------+----------------------+----------------------+\n",
            "                                                                                         \n",
            "+---------------------------------------------------------------------------------------+\n",
            "| Processes:                                                                            |\n",
            "|  GPU   GI   CI        PID   Type   Process name                            GPU Memory |\n",
            "|        ID   ID                                                             Usage      |\n",
            "|=======================================================================================|\n",
            "|  No running processes found                                                           |\n",
            "+---------------------------------------------------------------------------------------+\n"
          ]
        }
      ]
    },
    {
      "cell_type": "code",
      "execution_count": null,
      "metadata": {
        "id": "-FdHyfrhXutZ"
      },
      "outputs": [],
      "source": [
        "# Install Pytorch & other libraries\n",
        "!pip install torch tensorboard --quiet\n",
        "\n",
        "# Install Hugging Face libraries\n",
        "!pip install  --upgrade transformers datasets accelerate evaluate bitsandbytes --quiet\n",
        "\n",
        "#FlashAttention only supports Ampere GPUs or newer. #NEED A100 , L4  IN GOOGLE COLAB\n",
        "!pip install -U flash-attn --no-build-isolation --quiet\n",
        "\n",
        "!pip install colab-env --quiet\n",
        "\n",
        "!pip install mistral_inference -q\n",
        "\n",
        "!pip install peft -q"
      ]
    },
    {
      "cell_type": "markdown",
      "source": [
        "# Hugging Face Setup"
      ],
      "metadata": {
        "id": "bPcvPNghliYH"
      }
    },
    {
      "cell_type": "code",
      "source": [
        "import colab_env\n",
        "import os\n",
        "from huggingface_hub import login\n",
        "\n",
        "\n",
        "access_token_write = os.getenv(\"HUGGINGFACE_ACCESS_TOKEN_WRITE\")\n",
        "\n",
        "login(\n",
        "  token=access_token_write,\n",
        "  add_to_git_credential=True\n",
        ")\n",
        "\n",
        "\n",
        "#from huggingface_hub import notebook_login\n",
        "#notebook_login(write_permission=True)"
      ],
      "metadata": {
        "colab": {
          "base_uri": "https://localhost:8080/"
        },
        "id": "ivq2gu9-YD3I",
        "outputId": "b9930d80-7808-44f5-f8ab-27f913a74660"
      },
      "execution_count": null,
      "outputs": [
        {
          "output_type": "stream",
          "name": "stdout",
          "text": [
            "Drive already mounted at /content/gdrive; to attempt to forcibly remount, call drive.mount(\"/content/gdrive\", force_remount=True).\n",
            "Token is valid (permission: write).\n",
            "Your token has been saved in your configured git credential helpers (store).\n",
            "Your token has been saved to /root/.cache/huggingface/token\n",
            "Login successful\n"
          ]
        }
      ]
    },
    {
      "cell_type": "markdown",
      "source": [
        "# Load the Fine Tuned Model"
      ],
      "metadata": {
        "id": "7UPkiC-Yl38G"
      }
    },
    {
      "cell_type": "code",
      "source": [
        "import torch\n",
        "import os\n",
        "import sys\n",
        "import json\n",
        "import IPython\n",
        "from datetime import datetime\n",
        "from datasets import load_dataset\n",
        "from peft import LoraConfig, PeftModel, prepare_model_for_kbit_training, get_peft_model\n",
        "from transformers import (\n",
        "    AutoModelForCausalLM,\n",
        "    AutoTokenizer,\n",
        "    BitsAndBytesConfig,\n",
        "    AutoTokenizer,\n",
        "    TrainingArguments,\n",
        ")"
      ],
      "metadata": {
        "id": "vfO7FZ2GYn3C"
      },
      "execution_count": null,
      "outputs": []
    },
    {
      "cell_type": "code",
      "source": [
        "import torch\n",
        "from peft import AutoPeftModelForCausalLM\n",
        "from transformers import AutoTokenizer, pipeline\n",
        "\n",
        "peft_model_id = \"frankmorales2020/Mistral-7B-text-to-sql-flash-attention-2-dataeval\"\n",
        "\n",
        "# BitsAndBytesConfig int-4 config\n",
        "bnb_config = BitsAndBytesConfig(\n",
        "    load_in_4bit=True,\n",
        "    bnb_4bit_use_double_quant=True,\n",
        "    bnb_4bit_quant_type=\"nf4\",\n",
        "    bnb_4bit_compute_dtype=torch.bfloat16\n",
        ")\n",
        "\n",
        "# Load Model with PEFT adapter\n",
        "model = AutoPeftModelForCausalLM.from_pretrained(\n",
        "    peft_model_id,\n",
        "    device_map=\"auto\",\n",
        "    attn_implementation=\"flash_attention_2\",\n",
        "    torch_dtype=torch.bfloat16,\n",
        "    quantization_config=bnb_config\n",
        ")\n",
        "\n",
        "tokenizer = AutoTokenizer.from_pretrained(peft_model_id)\n",
        "\n",
        "# load into pipeline\n",
        "pipe = pipeline(\"text-generation\", model=model, tokenizer=tokenizer)"
      ],
      "metadata": {
        "id": "KuqnjucvY31a"
      },
      "execution_count": null,
      "outputs": []
    },
    {
      "cell_type": "markdown",
      "source": [
        "# Tensorboad Setup"
      ],
      "metadata": {
        "id": "U9F0m1TlmGWH"
      }
    },
    {
      "cell_type": "code",
      "source": [
        "import colab_env"
      ],
      "metadata": {
        "id": "vqjY6z8IZc6I"
      },
      "execution_count": null,
      "outputs": []
    },
    {
      "cell_type": "markdown",
      "source": [
        "/content/gdrive/MyDrive/model/POC-Mistral-7B-text-to-sql-flash-attention-2-dataeval/logs"
      ],
      "metadata": {
        "id": "EF79dpClhkdY"
      }
    },
    {
      "cell_type": "code",
      "source": [
        "%load_ext tensorboard\n",
        "\n",
        "##only in my personal dev-environment\n",
        "%tensorboard --logdir /content/gdrive/MyDrive/model/Mistral-7B-text-to-sql-flash-attention-2-dataeval/logs"
      ],
      "metadata": {
        "id": "S-sML0q_lJGu"
      },
      "execution_count": null,
      "outputs": []
    },
    {
      "cell_type": "markdown",
      "source": [
        "# Dataset Settings"
      ],
      "metadata": {
        "id": "s-obRbA0mSxQ"
      }
    },
    {
      "cell_type": "code",
      "source": [
        "from datasets import load_dataset\n",
        "\n",
        "# Convert dataset to OAI messages\n",
        "system_message = \"\"\"You are an text to SQL query translator. Users will ask you questions in English and you will generate a SQL query based on the provided SCHEMA.\n",
        "SCHEMA:\n",
        "{schema}\"\"\"\n",
        "\n",
        "def create_conversation(sample):\n",
        "  return {\n",
        "    \"messages\": [\n",
        "      {\"role\": \"system\", \"content\": system_message.format(schema=sample[\"context\"])},\n",
        "      {\"role\": \"user\", \"content\": sample[\"question\"]},\n",
        "      {\"role\": \"assistant\", \"content\": sample[\"answer\"]}\n",
        "    ]\n",
        "  }\n",
        "\n",
        "# Load dataset from the hub\n",
        "dataset = load_dataset(\"b-mc2/sql-create-context\", split=\"train\")\n",
        "dataset = dataset.shuffle().select(range(12500))\n",
        "\n",
        "# Convert dataset to OAI messages\n",
        "dataset = dataset.map(create_conversation, remove_columns=dataset.features,batched=False)\n",
        "\n",
        "# split dataset into 10,000 training samples and 2,500 test samples\n",
        "dataset = dataset.train_test_split(test_size=2500/12500)\n",
        "\n",
        "\n",
        "# save datasets to disk\n",
        "dataset[\"train\"].to_json(\"train_dataset.json\", orient=\"records\")\n",
        "dataset[\"test\"].to_json(\"test_dataset.json\", orient=\"records\")"
      ],
      "metadata": {
        "id": "mdb2mwS7c-ep"
      },
      "execution_count": null,
      "outputs": []
    },
    {
      "cell_type": "code",
      "source": [
        "# Load our test dataset\n",
        "eval_dataset = load_dataset(\"json\", data_files=\"/content/test_dataset.json\", split=\"train\")"
      ],
      "metadata": {
        "id": "UMVmaasrfvul"
      },
      "execution_count": null,
      "outputs": []
    },
    {
      "cell_type": "markdown",
      "source": [
        "# Model Evaluation - Inference"
      ],
      "metadata": {
        "id": "qR7q5ST5muU1"
      }
    },
    {
      "cell_type": "code",
      "source": [
        "from tqdm import tqdm\n",
        "from random import randint\n",
        "from datasets import load_dataset\n",
        "\n",
        "\n",
        "def evaluate(sample):\n",
        "    prompt = pipe.tokenizer.apply_chat_template(sample[\"messages\"][:2], tokenize=False, add_generation_prompt=True)\n",
        "    outputs = pipe(prompt, max_new_tokens=256, do_sample=True, temperature=0.7, top_k=50, top_p=0.95, eos_token_id=pipe.tokenizer.eos_token_id, pad_token_id=pipe.tokenizer.pad_token_id)\n",
        "    predicted_answer = outputs[0]['generated_text'][len(prompt):].strip()\n",
        "\n",
        "\n",
        "    original_answer = sample[\"messages\"][2][\"content\"]\n",
        "    if predicted_answer ==  original_answer:\n",
        "        print()\n",
        "        print()\n",
        "        print('SUCCESS!')\n",
        "        print()\n",
        "        print(f'Generated Answer: {predicted_answer}')\n",
        "        print(f'Original Answer: {original_answer}')\n",
        "        print()\n",
        "        return 1\n",
        "    else:\n",
        "        print()\n",
        "        print()\n",
        "        print('NO - SUCCESS!')\n",
        "        print()\n",
        "        print(f'Generated Answer: {predicted_answer}')\n",
        "        print(f' Original Answer: {original_answer}')\n",
        "        print()\n",
        "        return 0\n",
        "\n",
        "success_rate = []\n",
        "number_of_eval_samples = 10\n",
        "\n",
        "# iterate over eval dataset and predict\n",
        "for n in tqdm(range(number_of_eval_samples)):\n",
        "    s=eval_dataset[n]\n",
        "    success_rate.append(evaluate(s))\n",
        "\n",
        "# compute accuracy\n",
        "accuracy = sum(success_rate)/len(success_rate)"
      ],
      "metadata": {
        "colab": {
          "base_uri": "https://localhost:8080/"
        },
        "id": "g9Y0qGKoY-9p",
        "outputId": "18db2f27-5250-4753-c6fc-dfb4a625b626"
      },
      "execution_count": null,
      "outputs": [
        {
          "output_type": "stream",
          "name": "stderr",
          "text": [
            " 10%|█         | 1/10 [00:05<00:47,  5.30s/it]"
          ]
        },
        {
          "output_type": "stream",
          "name": "stdout",
          "text": [
            "\n",
            "\n",
            "SUCCESS!\n",
            "\n",
            "Generated Answer: SELECT laps FROM table_name_41 WHERE driver = \"jean-christophe boullion\"\n",
            "Original Answer: SELECT laps FROM table_name_41 WHERE driver = \"jean-christophe boullion\"\n",
            "\n"
          ]
        },
        {
          "output_type": "stream",
          "name": "stderr",
          "text": [
            "\r 20%|██        | 2/10 [00:09<00:37,  4.66s/it]"
          ]
        },
        {
          "output_type": "stream",
          "name": "stdout",
          "text": [
            "\n",
            "\n",
            "SUCCESS!\n",
            "\n",
            "Generated Answer: SELECT MIN(rank) FROM table_name_37 WHERE year > 2005 AND moving_from = \"nancy\"\n",
            "Original Answer: SELECT MIN(rank) FROM table_name_37 WHERE year > 2005 AND moving_from = \"nancy\"\n",
            "\n"
          ]
        },
        {
          "output_type": "stream",
          "name": "stderr",
          "text": [
            "\r 30%|███       | 3/10 [00:12<00:28,  4.06s/it]"
          ]
        },
        {
          "output_type": "stream",
          "name": "stdout",
          "text": [
            "\n",
            "\n",
            "SUCCESS!\n",
            "\n",
            "Generated Answer: SELECT 1 AS st_leg FROM table_name_6 WHERE team_1 = \"everton\"\n",
            "Original Answer: SELECT 1 AS st_leg FROM table_name_6 WHERE team_1 = \"everton\"\n",
            "\n"
          ]
        },
        {
          "output_type": "stream",
          "name": "stderr",
          "text": [
            "\r 40%|████      | 4/10 [00:15<00:21,  3.52s/it]"
          ]
        },
        {
          "output_type": "stream",
          "name": "stdout",
          "text": [
            "\n",
            "\n",
            "SUCCESS!\n",
            "\n",
            "Generated Answer: SELECT finish FROM table_name_18 WHERE player = \"jack nicklaus\"\n",
            "Original Answer: SELECT finish FROM table_name_18 WHERE player = \"jack nicklaus\"\n",
            "\n"
          ]
        },
        {
          "output_type": "stream",
          "name": "stderr",
          "text": [
            "\r 50%|█████     | 5/10 [00:18<00:16,  3.23s/it]"
          ]
        },
        {
          "output_type": "stream",
          "name": "stdout",
          "text": [
            "\n",
            "\n",
            "NO - SUCCESS!\n",
            "\n",
            "Generated Answer: SELECT period FROM table_name_67 WHERE year = \"1896\"\n",
            " Original Answer: SELECT period FROM table_name_67 WHERE year = 1896\n",
            "\n"
          ]
        },
        {
          "output_type": "stream",
          "name": "stderr",
          "text": [
            "\r 60%|██████    | 6/10 [00:21<00:12,  3.23s/it]"
          ]
        },
        {
          "output_type": "stream",
          "name": "stdout",
          "text": [
            "\n",
            "\n",
            "NO - SUCCESS!\n",
            "\n",
            "Generated Answer: SELECT MAX(round) FROM table_name_40 WHERE player = \"joe taylor\"\n",
            " Original Answer: SELECT SUM(round) FROM table_name_40 WHERE player = \"joe taylor\"\n",
            "\n"
          ]
        },
        {
          "output_type": "stream",
          "name": "stderr",
          "text": [
            "\r 70%|███████   | 7/10 [00:24<00:09,  3.28s/it]"
          ]
        },
        {
          "output_type": "stream",
          "name": "stdout",
          "text": [
            "\n",
            "\n",
            "SUCCESS!\n",
            "\n",
            "Generated Answer: SELECT COUNT(rank) FROM table_name_18 WHERE total < 5 AND bronze < 0\n",
            "Original Answer: SELECT COUNT(rank) FROM table_name_18 WHERE total < 5 AND bronze < 0\n",
            "\n"
          ]
        },
        {
          "output_type": "stream",
          "name": "stderr",
          "text": [
            "\r 80%|████████  | 8/10 [00:30<00:08,  4.14s/it]"
          ]
        },
        {
          "output_type": "stream",
          "name": "stdout",
          "text": [
            "\n",
            "\n",
            "SUCCESS!\n",
            "\n",
            "Generated Answer: SELECT AVG(position) FROM table_name_90 WHERE goals_against < 59 AND goals_for > 32 AND draws > 9 AND points > 35\n",
            "Original Answer: SELECT AVG(position) FROM table_name_90 WHERE goals_against < 59 AND goals_for > 32 AND draws > 9 AND points > 35\n",
            "\n"
          ]
        },
        {
          "output_type": "stream",
          "name": "stderr",
          "text": [
            "\r 90%|█████████ | 9/10 [00:34<00:03,  3.99s/it]"
          ]
        },
        {
          "output_type": "stream",
          "name": "stdout",
          "text": [
            "\n",
            "\n",
            "SUCCESS!\n",
            "\n",
            "Generated Answer: SELECT candidates FROM table_1342233_24 WHERE district = \"Mississippi 6\"\n",
            "Original Answer: SELECT candidates FROM table_1342233_24 WHERE district = \"Mississippi 6\"\n",
            "\n"
          ]
        },
        {
          "output_type": "stream",
          "name": "stderr",
          "text": [
            "100%|██████████| 10/10 [00:38<00:00,  3.86s/it]"
          ]
        },
        {
          "output_type": "stream",
          "name": "stdout",
          "text": [
            "\n",
            "\n",
            "SUCCESS!\n",
            "\n",
            "Generated Answer: SELECT season FROM table_25214321_1 WHERE third_place = \"Raquel Pacheco\"\n",
            "Original Answer: SELECT season FROM table_25214321_1 WHERE third_place = \"Raquel Pacheco\"\n",
            "\n"
          ]
        },
        {
          "output_type": "stream",
          "name": "stderr",
          "text": [
            "\n"
          ]
        }
      ]
    },
    {
      "cell_type": "code",
      "source": [
        "print()\n",
        "#print(f\"Accuracy: {accuracy*100:.2f}%\")\n",
        "print(f\"Accuracy (Eval dataset and predict) for a sample of {number_of_eval_samples}: {accuracy*100:.2f}%\")"
      ],
      "metadata": {
        "colab": {
          "base_uri": "https://localhost:8080/"
        },
        "id": "U6ArykBRZGLp",
        "outputId": "f8dd5881-a2da-4011-a26a-b772ccd1c036"
      },
      "execution_count": null,
      "outputs": [
        {
          "output_type": "stream",
          "name": "stdout",
          "text": [
            "\n",
            "Accuracy (Eval dataset and predict) for a sample of 10: 80.00%\n"
          ]
        }
      ]
    },
    {
      "cell_type": "markdown",
      "source": [
        "# Model Evaluation - Kernel"
      ],
      "metadata": {
        "id": "wEsmtqGJ1pxE"
      }
    },
    {
      "cell_type": "code",
      "source": [
        "# Count Hidden Layers and Neurons (Before Evaluation)\n",
        "if hasattr(model, 'base_model'):\n",
        "    llama_model = model.base_model\n",
        "else:\n",
        "    llama_model = model\n",
        "\n",
        "# Count hidden layers of type LlamaDecoderLayer\n",
        "num_hidden_layers = llama_model.config.num_hidden_layers\n",
        "#print(num_hidden_layers)\n",
        "\n",
        "# Estimate neurons (this is very simplified, as explained earlier)\n",
        "num_neurons = num_hidden_layers * llama_model.config.hidden_size\n",
        "\n",
        "print(f\"Number of hidden layers in the model: {num_hidden_layers}\")\n",
        "print(f\"Approximate number of neurons (simplified): {num_neurons}\")\n"
      ],
      "metadata": {
        "colab": {
          "base_uri": "https://localhost:8080/"
        },
        "id": "7kU-lpcA1i3j",
        "outputId": "a2bb9f2b-428c-45ea-976a-d93a88d3b064"
      },
      "execution_count": null,
      "outputs": [
        {
          "output_type": "stream",
          "name": "stdout",
          "text": [
            "Number of hidden layers in the model: 32\n",
            "Approximate number of neurons (simplified): 131072\n"
          ]
        }
      ]
    },
    {
      "cell_type": "code",
      "source": [
        "torch.cuda.empty_cache()"
      ],
      "metadata": {
        "id": "Xl-M2zL02pnh"
      },
      "execution_count": null,
      "outputs": []
    },
    {
      "cell_type": "code",
      "source": [
        "# Load our test dataset\n",
        "eval_dataset = load_dataset(\"json\", data_files=\"/content/test_dataset.json\", split=\"train\")\n",
        "reduced_size = 10\n",
        "eval_dataset = eval_dataset.shuffle(seed=42).select(range(reduced_size))"
      ],
      "metadata": {
        "id": "MdkVe49IBkni"
      },
      "execution_count": null,
      "outputs": []
    },
    {
      "cell_type": "code",
      "source": [
        "eval_dataset"
      ],
      "metadata": {
        "colab": {
          "base_uri": "https://localhost:8080/"
        },
        "id": "zrFcALOL3Y4y",
        "outputId": "f6c99e72-fd17-42ae-8bbd-3d482c004b07"
      },
      "execution_count": null,
      "outputs": [
        {
          "output_type": "execute_result",
          "data": {
            "text/plain": [
              "Dataset({\n",
              "    features: ['messages'],\n",
              "    num_rows: 10\n",
              "})"
            ]
          },
          "metadata": {},
          "execution_count": 15
        }
      ]
    },
    {
      "cell_type": "code",
      "source": [
        "eval_dataset[0][\"messages\"][0]['content']"
      ],
      "metadata": {
        "colab": {
          "base_uri": "https://localhost:8080/",
          "height": 53
        },
        "id": "2iyxLiME4r9s",
        "outputId": "5d969360-1d22-4f20-e17e-e75f1a7be591"
      },
      "execution_count": null,
      "outputs": [
        {
          "output_type": "execute_result",
          "data": {
            "text/plain": [
              "'You are an text to SQL query translator. Users will ask you questions in English and you will generate a SQL query based on the provided SCHEMA.\\nSCHEMA:\\nCREATE TABLE campuses (campus VARCHAR, county VARCHAR, YEAR VARCHAR)'"
            ],
            "application/vnd.google.colaboratory.intrinsic+json": {
              "type": "string"
            }
          },
          "metadata": {},
          "execution_count": 16
        }
      ]
    },
    {
      "cell_type": "code",
      "source": [
        "max_length = 10\n",
        "all_input_ids = []\n",
        "all_attention_masks = []\n",
        "\n",
        "for item in eval_dataset:\n",
        "    messages = item['messages']\n",
        "\n",
        "    # Concatenate the 'content' of all messages into a single string\n",
        "    text = \" \".join([msg['content'] for msg in messages])\n",
        "    #print()\n",
        "    #print(text)\n",
        "    #print()\n",
        "\n",
        "    tokenized = tokenizer(text, padding=\"max_length\", truncation=True, max_length=max_length, return_tensors=\"pt\")\n",
        "    all_input_ids.append(tokenized[\"input_ids\"][0])\n",
        "    all_attention_masks.append(tokenized[\"attention_mask\"][0])\n",
        "\n",
        "\n",
        "input_ids = torch.stack(all_input_ids)\n",
        "attention_masks = torch.stack(all_attention_masks)"
      ],
      "metadata": {
        "id": "84VruCFtLEXZ"
      },
      "execution_count": null,
      "outputs": []
    },
    {
      "cell_type": "code",
      "source": [
        "# Now you have input_ids, attention_masks, and labels as tensors with compatible shapes\n",
        "print(input_ids.shape)\n",
        "print(attention_masks.shape)"
      ],
      "metadata": {
        "colab": {
          "base_uri": "https://localhost:8080/"
        },
        "id": "-4eAUNAiLFrV",
        "outputId": "af89d641-aba1-4629-81d8-b7235bb1d558"
      },
      "execution_count": null,
      "outputs": [
        {
          "output_type": "stream",
          "name": "stdout",
          "text": [
            "torch.Size([10, 10])\n",
            "torch.Size([10, 10])\n"
          ]
        }
      ]
    },
    {
      "cell_type": "code",
      "source": [
        "torch.cuda.empty_cache()"
      ],
      "metadata": {
        "id": "wx1GS8ANZMLO"
      },
      "execution_count": null,
      "outputs": []
    },
    {
      "cell_type": "code",
      "source": [
        "del model\n",
        "del tokenizer\n",
        "torch.cuda.empty_cache()"
      ],
      "metadata": {
        "id": "meb7f_r6m0Bv"
      },
      "execution_count": null,
      "outputs": []
    },
    {
      "source": [
        "import torch\n",
        "from torch.utils.data import DataLoader, TensorDataset\n",
        "from datasets import load_dataset\n",
        "from peft import PeftModel\n",
        "import evaluate\n",
        "from tqdm import tqdm\n",
        "from transformers import AutoTokenizer, AutoModelForCausalLM\n",
        "\n",
        "# Constants\n",
        "BATCH_SIZE = 8\n",
        "MAX_LENGTH = 10\n",
        "peft_model_id = \"frankmorales2020/Mistral-7B-text-to-sql-flash-attention-2-dataeval\"\n",
        "data_files = \"/content/test_dataset.json\"\n",
        "reduced_size = 10\n",
        "\n",
        "# Load tokenizer (using tokenizer from the PEFT model)\n",
        "tokenizer = AutoTokenizer.from_pretrained(peft_model_id)\n",
        "\n",
        "# Load base model\n",
        "base_model = AutoModelForCausalLM.from_pretrained(\n",
        "    \"mistralai/Mistral-7B-v0.3\",\n",
        "    torch_dtype=torch.float16,\n",
        "    device_map='auto'\n",
        ")\n",
        "\n",
        "# Resize the token embeddings to match the PEFT vocabulary\n",
        "base_model.resize_token_embeddings(len(tokenizer))\n",
        "\n",
        "# Load PEFT model (using the base_model object)\n",
        "model = PeftModel.from_pretrained(base_model, peft_model_id)\n",
        "model.eval()\n",
        "\n",
        "# Ensure model is on the GPU\n",
        "device = torch.device(\"cuda\" if torch.cuda.is_available() else \"cpu\")\n",
        "model.to(device)\n",
        "\n",
        "# Load your test dataset\n",
        "eval_dataset = load_dataset(\"json\", data_files=data_files, split=\"train\")\n",
        "eval_dataset = eval_dataset.shuffle(seed=42).select(range(reduced_size))\n",
        "\n",
        "# Tokenization and Tensor Creation\n",
        "all_input_ids = []\n",
        "all_attention_masks = []\n",
        "for item in eval_dataset:\n",
        "    messages = item['messages']\n",
        "    # Concatenate the 'content' of all messages into a single string\n",
        "    text = \" \".join([msg['content'] for msg in messages])\n",
        "\n",
        "    tokenized = tokenizer(text, padding=\"max_length\", truncation=True, max_length=MAX_LENGTH, return_tensors=\"pt\")\n",
        "    all_input_ids.append(tokenized[\"input_ids\"][0])\n",
        "    all_attention_masks.append(tokenized[\"attention_mask\"][0])\n",
        "\n",
        "input_ids = torch.stack(all_input_ids)\n",
        "attention_masks = torch.stack(all_attention_masks)\n",
        "\n",
        "# Create TensorDataset from your tensors\n",
        "eval_dataset = TensorDataset(input_ids, attention_masks)\n",
        "\n",
        "# Create DataLoader\n",
        "eval_dataloader = DataLoader(eval_dataset, batch_size=BATCH_SIZE, shuffle=False)\n",
        "\n",
        "# Evaluation function (Manually calculating perplexity)\n",
        "def evaluate_model(model, eval_dataloader):\n",
        "    model.eval()\n",
        "    losses = []\n",
        "    for batch in tqdm(eval_dataloader, desc=\"Evaluating\"):\n",
        "        try:\n",
        "            # Convert batch to device (assuming it's a list/tuple of tensors)\n",
        "            batch = tuple(t.to(device) for t in batch)\n",
        "\n",
        "            with torch.no_grad():\n",
        "                outputs = model(input_ids=batch[0], attention_mask=batch[1], labels=batch[0])  # Adjust based on your batch structure\n",
        "            loss = outputs.loss\n",
        "            losses.append(loss.item())\n",
        "\n",
        "        except RuntimeError as e:\n",
        "            if \"out of memory\" in str(e):\n",
        "                print(\"WARNING: Ran out of memory. Consider reducing batch size or model complexity.\")\n",
        "                return None  # Exit early if out of memory\n",
        "            else:\n",
        "                raise e\n",
        "\n",
        "    try:\n",
        "        perplexity = torch.exp(torch.tensor(losses).mean())\n",
        "        return perplexity\n",
        "    except OverflowError:\n",
        "        print(\"WARNING: Overflow error while calculating perplexity. Loss values might be too large.\")\n",
        "        return None\n",
        "\n",
        "\n",
        "# Perform Evaluation\n",
        "results = evaluate_model(model, eval_dataloader)\n"
      ],
      "cell_type": "code",
      "metadata": {
        "id": "chWV971BnLqi"
      },
      "execution_count": null,
      "outputs": []
    },
    {
      "cell_type": "markdown",
      "source": [
        " The perplexity of 10.40 achieved on the dataset indicates that the fine-tuned Mistral-7B model has a reasonable understanding of natural language and SQL syntax. However, further evaluation using task-specific metrics is necessary to fully assess the model's effectiveness in real-world scenarios."
      ],
      "metadata": {
        "id": "-3M0INi4Cyer"
      }
    },
    {
      "cell_type": "code",
      "source": [
        "print(f\"Perplexity: {results:.2f}\")"
      ],
      "metadata": {
        "colab": {
          "base_uri": "https://localhost:8080/"
        },
        "id": "oWgLgFuX0AzV",
        "outputId": "c5698b66-efd6-42bb-a293-60e4f14abdc7"
      },
      "execution_count": null,
      "outputs": [
        {
          "output_type": "stream",
          "name": "stdout",
          "text": [
            "Perplexity: 10.40\n"
          ]
        }
      ]
    },
    {
      "cell_type": "markdown",
      "source": [],
      "metadata": {
        "id": "H3aWJaDECxTg"
      }
    },
    {
      "cell_type": "code",
      "source": [
        "import torch\n",
        "from torch.utils.data import DataLoader, TensorDataset\n",
        "from datasets import load_dataset\n",
        "from peft import PeftModel\n",
        "from tqdm import tqdm\n",
        "from transformers import AutoTokenizer, AutoModelForCausalLM\n",
        "import sqlite3\n",
        "\n",
        "# Constants\n",
        "BATCH_SIZE = 8\n",
        "MAX_LENGTH = 10\n",
        "peft_model_id = \"frankmorales2020/Mistral-7B-text-to-sql-flash-attention-2-dataeval\"\n",
        "data_files = \"/content/test_dataset.json\"\n",
        "reduced_size = 10\n",
        "\n",
        "# Load tokenizer and base model (Mistral-7B-v0.3)\n",
        "tokenizer = AutoTokenizer.from_pretrained(\"mistralai/Mistral-7B-v0.3\")\n",
        "model = AutoModelForCausalLM.from_pretrained(\"mistralai/Mistral-7B-v0.3\",\n",
        "                                            torch_dtype=torch.float16,\n",
        "                                            device_map='auto'\n",
        "                                            )\n",
        "\n",
        "# Load PEFT model directly (assuming it's a LoRA-based model)\n",
        "model = PeftModel.from_pretrained(model, peft_model_id)\n",
        "model.eval()\n",
        "\n",
        "# Ensure model is on the GPU\n",
        "device = torch.device(\"cuda\" if torch.cuda.is_available() else \"cpu\")\n",
        "model.to(device)\n",
        "\n",
        "# Load your test dataset\n",
        "eval_dataset = load_dataset(\"json\", data_files=data_files, split=\"train\")\n",
        "eval_dataset = eval_dataset.shuffle(seed=42).select(range(reduced_size))\n",
        "\n",
        "# Tokenization and Tensor Creation\n",
        "all_input_ids = []\n",
        "all_attention_masks = []\n",
        "for item in eval_dataset:\n",
        "    messages = item['messages']\n",
        "    # Concatenate the 'content' of all messages into a single string\n",
        "    text = \" \".join([msg['content'] for msg in messages])\n",
        "\n",
        "    tokenized = tokenizer(text, padding=\"max_length\", truncation=True, max_length=MAX_LENGTH, return_tensors=\"pt\")\n",
        "    all_input_ids.append(tokenized[\"input_ids\"][0])\n",
        "    all_attention_masks.append(tokenized[\"attention_mask\"][0])\n",
        "\n",
        "input_ids = torch.stack(all_input_ids)\n",
        "attention_masks = torch.stack(all_attention_masks)\n",
        "\n",
        "# Create TensorDataset from your tensors\n",
        "eval_dataset = TensorDataset(input_ids, attention_masks)\n",
        "\n",
        "# Create DataLoader\n",
        "eval_dataloader = DataLoader(eval_dataset, batch_size=BATCH_SIZE, shuffle=False)\n",
        "\n",
        "# Evaluation functions (Perplexity and Execution Accuracy)\n",
        "def evaluate_perplexity(model, eval_dataloader):\n",
        "    model.eval()\n",
        "    losses = []\n",
        "    for batch in tqdm(eval_dataloader, desc=\"Evaluating\"):\n",
        "        try:\n",
        "            # Convert batch to device (assuming it's a list/tuple of tensors)\n",
        "            batch = tuple(t.to(device) for t in batch)\n",
        "\n",
        "            with torch.no_grad():\n",
        "                outputs = model(input_ids=batch[0], attention_mask=batch[1], labels=batch[0])\n",
        "                loss = outputs.loss\n",
        "                losses.append(loss.item())\n",
        "\n",
        "        except RuntimeError as e:\n",
        "            if \"out of memory\" in str(e):\n",
        "                print(\"WARNING: Ran out of memory. Consider reducing batch size or model complexity.\")\n",
        "                return None  # Exit early if out of memory\n",
        "            else:\n",
        "                raise e\n",
        "\n",
        "    try:\n",
        "        perplexity = torch.exp(torch.tensor(losses).mean())\n",
        "        return perplexity\n",
        "    except OverflowError:\n",
        "        print(\"WARNING: Overflow error while calculating perplexity. Loss values might be too large.\")\n",
        "        return None\n",
        "\n",
        "\n",
        "# Function to execute SQL query and get results\n",
        "def execute_query(query, db_path):\n",
        "    try:\n",
        "        with sqlite3.connect(db_path) as conn:\n",
        "            cursor = conn.cursor()\n",
        "            cursor.execute(query)\n",
        "            results = cursor.fetchall()\n",
        "        return results\n",
        "    except Exception as e:\n",
        "        print(f\"Error executing query: {e}\")\n",
        "        return None\n",
        "\n",
        "# Function to evaluate accuracy\n",
        "def evaluate_accuracy(model, eval_dataset, db_path, tokenizer):\n",
        "    correct = 0\n",
        "    total = 0\n",
        "    for item in tqdm(eval_dataset, desc=\"Evaluating\"):\n",
        "        try:\n",
        "            # Extract text to feed into the model\n",
        "            text = \" \".join([msg['content'] for msg in item['messages']])\n",
        "            inputs = tokenizer(text, return_tensors=\"pt\").to(device)\n",
        "\n",
        "            # Generate SQL query\n",
        "            with torch.no_grad():\n",
        "                output = model.generate(**inputs, max_length=200, num_return_sequences=1)\n",
        "            generated_query = tokenizer.decode(output[0], skip_special_tokens=True)\n",
        "\n",
        "            # Execute the generated query and get results\n",
        "            generated_results = execute_query(generated_query, db_path)\n",
        "\n",
        "            # Get the reference query and its results (assuming it's in your dataset)\n",
        "            reference_query = item['messages'][-1]['content']  # Last message is the reference query\n",
        "            reference_results = execute_query(reference_query, db_path)\n",
        "\n",
        "            if generated_results == reference_results:\n",
        "                correct += 1\n",
        "        except Exception as e:\n",
        "            print(f\"Error evaluating example: {e}\")\n",
        "        total += 1\n",
        "\n",
        "    accuracy = (correct / total) * 100 if total > 0 else 0\n",
        "    return accuracy\n",
        "\n",
        "# Perform Evaluation\n",
        "perplexity = evaluate_perplexity(model, eval_dataloader)\n",
        "print(f\"Perplexity: {perplexity:.2f}\")\n",
        "\n",
        "# Add your database path here\n",
        "#db_path = \"your_database.db\"\n",
        "accuracy = evaluate_accuracy(model, eval_dataset, db_path, tokenizer)\n",
        "print(f\"Accuracy (Eval dataset and predict): {accuracy:.2f}%\")\n",
        "\n"
      ],
      "metadata": {
        "id": "UokxIVL63iBy"
      },
      "execution_count": null,
      "outputs": []
    }
  ]
}