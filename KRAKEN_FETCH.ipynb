{
  "nbformat": 4,
  "nbformat_minor": 0,
  "metadata": {
    "colab": {
      "provenance": [],
      "authorship_tag": "ABX9TyPM2m3CWoR8KswoV3Z7VbYQ",
      "include_colab_link": true
    },
    "kernelspec": {
      "name": "python3",
      "display_name": "Python 3"
    },
    "language_info": {
      "name": "python"
    }
  },
  "cells": [
    {
      "cell_type": "markdown",
      "metadata": {
        "id": "view-in-github",
        "colab_type": "text"
      },
      "source": [
        "<a href=\"https://colab.research.google.com/github/frank-morales2020/MLxDL/blob/main/KRAKEN_FETCH.ipynb\" target=\"_parent\"><img src=\"https://colab.research.google.com/assets/colab-badge.svg\" alt=\"Open In Colab\"/></a>"
      ]
    },
    {
      "cell_type": "code",
      "source": [
        "!pip install ccxt -q\n",
        "!pip install google-colab-secrets -q"
      ],
      "metadata": {
        "id": "l2AAn3UBzlr_"
      },
      "execution_count": null,
      "outputs": []
    },
    {
      "cell_type": "code",
      "source": [
        "from google.colab import drive\n",
        "drive.mount('/content/gdrive')"
      ],
      "metadata": {
        "colab": {
          "base_uri": "https://localhost:8080/"
        },
        "id": "Wk4ZW1RO0aK7",
        "outputId": "2a867d37-0377-4f8c-e7b2-cedcd853c209"
      },
      "execution_count": 5,
      "outputs": [
        {
          "output_type": "stream",
          "name": "stdout",
          "text": [
            "Mounted at /content/gdrive\n"
          ]
        }
      ]
    },
    {
      "cell_type": "code",
      "execution_count": 10,
      "metadata": {
        "colab": {
          "base_uri": "https://localhost:8080/"
        },
        "id": "5BImiCM8zdVY",
        "outputId": "dd577bd8-a115-4627-c8e7-9cb383569ad1"
      },
      "outputs": [
        {
          "output_type": "stream",
          "name": "stdout",
          "text": [
            "--- Starting Test Case for ETH/USD ---\n",
            "Fetching 720 candles for ETH/USD from 2025-08-18 14:15:58.902000...\n",
            "Successfully fetched 720 candles.\n",
            "Data for ETH/USD successfully stored in /content/gdrive/MyDrive/TradingBotLogs/ohlcv_data_ETH.db/ethusd_1h_data_recent using 'replace' mode.\n",
            "--- Test Case for ETH/USD Complete ---\n"
          ]
        }
      ],
      "source": [
        "import ccxt\n",
        "import pandas as pd\n",
        "import sqlite3\n",
        "from datetime import datetime, timedelta\n",
        "from google.colab import userdata\n",
        "import os\n",
        "\n",
        "def fetch_and_store_data(symbol, timeframe, db_path, table_name, mode='replace'):\n",
        "    \"\"\"\n",
        "    Fetches 30 days of historical OHLCV data from Kraken and stores it in an SQLite database.\n",
        "\n",
        "    Args:\n",
        "        symbol (str): The trading pair (e.g., 'ETH/USD').\n",
        "        timeframe (str): The interval of each candle (e.g., '1h').\n",
        "        db_path (str): The path to the SQLite database file.\n",
        "        table_name (str): The name of the table to store the data in.\n",
        "        mode (str): How to handle existing tables ('replace' or 'append').\n",
        "    \"\"\"\n",
        "    try:\n",
        "        # Securely retrieve API keys from Colab's Secrets\n",
        "        KRAKEN_API_KEY = userdata.get('KRAKEN')\n",
        "        KRAKEN_API_SECRET = userdata.get('KRAKEN_SECRET')\n",
        "\n",
        "        exchange_config = {\n",
        "            'apiKey': KRAKEN_API_KEY,\n",
        "            'secret': KRAKEN_API_SECRET,\n",
        "            'enableRateLimit': True,\n",
        "        }\n",
        "        exchange = ccxt.kraken(exchange_config)\n",
        "\n",
        "        # Calculate start time for a 30-day look-back\n",
        "        start_time = datetime.now() - timedelta(days=30)\n",
        "        since_timestamp = int(start_time.timestamp() * 1000)\n",
        "\n",
        "        # Determine limit for 30 days of hourly data\n",
        "        limit = 30 * 24\n",
        "\n",
        "        print(f\"Fetching {limit} candles for {symbol} from {datetime.fromtimestamp(since_timestamp / 1000)}...\")\n",
        "        ohlcv = exchange.fetch_ohlcv(symbol, timeframe=timeframe, since=since_timestamp, limit=limit)\n",
        "\n",
        "        if not ohlcv:\n",
        "            print(f\"Warning: No data fetched for {symbol}.\")\n",
        "            return\n",
        "\n",
        "        df = pd.DataFrame(ohlcv, columns=['timestamp', 'open', 'high', 'low', 'close', 'volume'])\n",
        "        df = df.dropna()\n",
        "        df['timestamp'] = pd.to_datetime(df['timestamp'], unit='ms').dt.tz_localize('UTC')\n",
        "        df.set_index('timestamp', inplace=True)\n",
        "\n",
        "        print(f\"Successfully fetched {len(df)} candles.\")\n",
        "\n",
        "    except Exception as e:\n",
        "        print(f\"Error fetching data for {symbol}: {e}\")\n",
        "        return\n",
        "\n",
        "    try:\n",
        "        # Use pandas to_sql to write the DataFrame to the database\n",
        "        conn = sqlite3.connect(db_path)\n",
        "        df.to_sql(table_name, conn, if_exists=mode, index=True)\n",
        "        conn.close()\n",
        "\n",
        "        print(f\"Data for {symbol} successfully stored in {db_path}/{table_name} using '{mode}' mode.\")\n",
        "\n",
        "    except Exception as e:\n",
        "        print(f\"Error storing data to database: {e}\")\n",
        "        return\n",
        "\n",
        "# Test Case\n",
        "db_file = '/content/gdrive/MyDrive/TradingBotLogs/ohlcv_data_ETH.db'\n",
        "table_name = 'ethusd_1h_data_recent'\n",
        "\n",
        "print(\"--- Starting Test Case for ETH/USD ---\")\n",
        "fetch_and_store_data(\n",
        "    symbol='ETH/USD',\n",
        "    timeframe='1h',\n",
        "    db_path=db_file,\n",
        "    table_name=table_name,\n",
        "    mode='replace'\n",
        ")\n",
        "print(\"--- Test Case for ETH/USD Complete ---\")"
      ]
    },
    {
      "cell_type": "code",
      "source": [
        "import pandas as pd\n",
        "import sqlite3\n",
        "import os\n",
        "\n",
        "def validate_database_data(db_path, table_name):\n",
        "    \"\"\"\n",
        "    Connects to the database and prints the first and last 5 rows of a table.\n",
        "    \"\"\"\n",
        "    try:\n",
        "        conn = sqlite3.connect(db_path)\n",
        "\n",
        "        # Get the first 5 rows (ordered by timestamp)\n",
        "        first_rows_query = f\"SELECT * FROM '{table_name}' ORDER BY timestamp ASC LIMIT 5\"\n",
        "        df_first = pd.read_sql_query(first_rows_query, conn)\n",
        "\n",
        "        # Get the last 5 rows (ordered by timestamp)\n",
        "        last_rows_query = f\"SELECT * FROM '{table_name}' ORDER BY timestamp DESC LIMIT 5\"\n",
        "        df_last = pd.read_sql_query(last_rows_query, conn)\n",
        "\n",
        "        conn.close()\n",
        "\n",
        "        print(f\"--- First 5 rows of '{table_name}' ---\")\n",
        "        print(df_first)\n",
        "        print(\"\\n\")\n",
        "        print(f\"--- Last 5 rows of '{table_name}' ---\")\n",
        "        print(df_last)\n",
        "\n",
        "    except Exception as e:\n",
        "        print(f\"Error validating data: {e}\")\n",
        "\n",
        "# Test Case\n",
        "db_file = '/content/gdrive/MyDrive/TradingBotLogs/ohlcv_data_ETH.db'\n",
        "table_name = 'ethusd_1h_data_recent'\n",
        "\n",
        "print(\"--- Starting Data Validation for ETH/USD ---\")\n",
        "validate_database_data(db_file, table_name)\n",
        "print(\"\\n--- Data Validation Complete ---\")"
      ],
      "metadata": {
        "colab": {
          "base_uri": "https://localhost:8080/"
        },
        "id": "zrUbO0bg1BRb",
        "outputId": "8534bc50-f943-4788-e0b0-92e9e2112e4c"
      },
      "execution_count": 8,
      "outputs": [
        {
          "output_type": "stream",
          "name": "stdout",
          "text": [
            "--- Starting Data Validation for ETH/USD ---\n",
            "--- First 5 rows of 'ethusd_1h_data_recent' ---\n",
            "                   timestamp     open     high      low    close       volume\n",
            "0  2025-08-18 14:00:00+00:00  4286.50  4335.19  4276.47  4334.00  1339.699320\n",
            "1  2025-08-18 15:00:00+00:00  4334.00  4346.55  4300.27  4345.28  1256.947394\n",
            "2  2025-08-18 16:00:00+00:00  4345.28  4361.01  4303.88  4324.36  2024.329272\n",
            "3  2025-08-18 17:00:00+00:00  4323.22  4381.00  4315.20  4346.55  2102.715708\n",
            "4  2025-08-18 18:00:00+00:00  4346.55  4374.00  4330.01  4369.07   871.008900\n",
            "\n",
            "\n",
            "--- Last 5 rows of 'ethusd_1h_data_recent' ---\n",
            "                   timestamp     open     high      low    close      volume\n",
            "0  2025-09-17 13:00:00+00:00  4504.51  4512.02  4504.50  4506.96   56.458357\n",
            "1  2025-09-17 12:00:00+00:00  4493.17  4512.11  4486.37  4504.51  318.562827\n",
            "2  2025-09-17 11:00:00+00:00  4485.00  4500.14  4483.17  4493.16  184.780229\n",
            "3  2025-09-17 10:00:00+00:00  4496.92  4501.67  4481.31  4485.00  275.863277\n",
            "4  2025-09-17 09:00:00+00:00  4512.54  4512.54  4496.90  4496.92  384.447012\n",
            "\n",
            "--- Data Validation Complete ---\n"
          ]
        }
      ]
    }
  ]
}