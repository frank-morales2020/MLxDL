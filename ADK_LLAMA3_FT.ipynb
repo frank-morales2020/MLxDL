{
  "cells": [
    {
      "cell_type": "markdown",
      "metadata": {
        "id": "view-in-github",
        "colab_type": "text"
      },
      "source": [
        "<a href=\"https://colab.research.google.com/github/frank-morales2020/MLxDL/blob/main/ADK_LLAMA3_FT.ipynb\" target=\"_parent\"><img src=\"https://colab.research.google.com/assets/colab-badge.svg\" alt=\"Open In Colab\"/></a>"
      ]
    },
    {
      "cell_type": "markdown",
      "metadata": {
        "id": "IjTwqcXmK_OR"
      },
      "source": [
        "## Test Model and run Inference"
      ]
    },
    {
      "cell_type": "code",
      "source": [
        "!pip install -q -U bitsandbytes\n",
        "!pip install -q -U git+https://github.com/huggingface/transformers.git\n",
        "!pip install -q -U git+https://github.com/huggingface/peft.git\n",
        "!pip install -q -U git+https://github.com/huggingface/accelerate.git\n",
        "!pip install -q datasets\n",
        "!pip install -q sentence_transformers\n",
        "!pip install -U flash-attn --no-build-isolation --quiet\n",
        "!pip install -q tqdm\n",
        "!pip install -q colab-env\n",
        "import colab_env"
      ],
      "metadata": {
        "id": "zchc4OQYg_Db"
      },
      "execution_count": null,
      "outputs": []
    },
    {
      "cell_type": "code",
      "execution_count": null,
      "metadata": {
        "id": "kW_hl8YPKxQ2"
      },
      "outputs": [],
      "source": [
        "import torch\n",
        "from peft import AutoPeftModelForCausalLM\n",
        "from transformers import AutoTokenizer, pipeline, BitsAndBytesConfig\n",
        "\n",
        "peft_model_id = \"/content/gdrive/MyDrive/model/07MAY2025-Meta-Llama-3-8B-MEDAL-flash-attention-2-cosine-evaldata-epochs1\"\n",
        "\n",
        "# BitsAndBytesConfig int-4 config\n",
        "bnb_config = BitsAndBytesConfig(\n",
        "    load_in_4bit=True, bnb_4bit_use_double_quant=True, bnb_4bit_quant_type=\"nf4\", bnb_4bit_compute_dtype=torch.bfloat16\n",
        ")\n",
        "\n",
        "# Load Model with PEFT adapter\n",
        "model = AutoPeftModelForCausalLM.from_pretrained(\n",
        "  peft_model_id,\n",
        "  device_map=\"auto\",\n",
        "  torch_dtype=torch.float16,\n",
        "  attn_implementation=\"flash_attention_2\",\n",
        "  quantization_config=bnb_config\n",
        ")\n",
        "\n",
        "tokenizer = AutoTokenizer.from_pretrained(peft_model_id)\n",
        "# load into pipeline\n",
        "pipe = pipeline(\"text-generation\", model=model, tokenizer=tokenizer)"
      ]
    },
    {
      "cell_type": "code",
      "execution_count": null,
      "metadata": {
        "id": "1uHtGXcrLKI_"
      },
      "outputs": [],
      "source": [
        "from datasets import load_dataset\n",
        "from random import randint\n",
        "\n",
        "\n",
        "# Load our test dataset\n",
        "eval_dataset = load_dataset(\"json\", data_files=\"/content/gdrive/MyDrive/datasets/McGill-NLP/test_dataset.json\", split=\"train\")\n",
        "nrec= randint(0, len(eval_dataset))\n",
        "nrec=6\n",
        "\n",
        "# Test on sample\n",
        "generation_pipeline = pipeline(\"text-generation\", model=model, tokenizer=tokenizer, device_map=\"auto\")  # Add device_map\n",
        "prompt =  eval_dataset[nrec]['text']\n",
        "\n",
        "\n",
        "outputs = generation_pipeline(prompt, max_new_tokens=128, do_sample=True, temperature=0.9,\n",
        "                                  top_k=30, top_p=0.1, eos_token_id=tokenizer.eos_token_id,\n",
        "                                  pad_token_id=tokenizer.eos_token_id)"
      ]
    },
    {
      "cell_type": "code",
      "execution_count": null,
      "metadata": {
        "id": "_GZg3t7d1z9s"
      },
      "outputs": [],
      "source": [
        "ganswer=outputs[0]['generated_text'][len(prompt)+9:].strip()\n",
        "ganswer"
      ]
    },
    {
      "cell_type": "code",
      "execution_count": 5,
      "metadata": {
        "colab": {
          "base_uri": "https://localhost:8080/"
        },
        "id": "4Q2zlGDkw1rE",
        "outputId": "60c86c24-a0e5-4dde-e071-ddde8081b55c"
      },
      "outputs": [
        {
          "output_type": "stream",
          "name": "stdout",
          "text": [
            "Query:\n",
            "while diminished ovarian reserve dor predicts decreased ovarian response to stimulation it does not necessarily foretell about the fecundity cycle according to bolognas criteria laid down by the european society of human reproduction and embryology old age abnormal ovarian reserve tests such as AFC afc and antimullerian hormone amh as well as prior suboptimal response to stimulation are the main AF representing dor unfavorable response to maximal stimulation on two previous occasions may also represent dor among the ovarian reserve tests amh and afc are the most predictive values for dor AF which may give rise to dor include environmental factors autoimmune or metabolic disorders infections genetic abnormalities and iatrogenic causes such as smoking chemotherapy radiation and gynecologic surgeries besides studies have proposed endometriosis as a key contributor to dor and hence emphasized on its proper management to prevent additional damages leading to compromised fertility in summary dor is found to be a clinical challenge in the practice of fertility care with controversial countermeasures to prevent or treat the condition nevertheless some promising measure such as oocyte embryo and tissue cryopreservation ovarian transplantation dietary supplementation and the transfer of mitochondria have offered hopes towards ameliorating the burden of dor this review attempts to discuss dor from different perspectives and summarize some existing hopes in clinical practice\n",
            "\n",
            "Original Answer:\n",
            "antral follicle count\n",
            "\n",
            "Generated Answer:\n",
            "antral follicle count\n",
            "\n",
            "Match\n"
          ]
        }
      ],
      "source": [
        "print(f\"Query:\\n{eval_dataset[nrec]['text']}\")\n",
        "print()\n",
        "oanswer=str(eval_dataset[nrec]['label'])\n",
        "oanswer=oanswer[2:len(oanswer)-2]\n",
        "print(f\"Original Answer:\\n{oanswer}\")\n",
        "print()\n",
        "ganswer=outputs[0]['generated_text'][len(prompt)+9:].strip()\n",
        "qc=str(ganswer).find('[INST]')\n",
        "ganswer=ganswer[0:qc-7]\n",
        "qc0=str(ganswer).find('[INST]')\n",
        "ganswer=str(ganswer)[0:qc0]\n",
        "qc=str(ganswer).find('[/INST]')\n",
        "if qc>0:\n",
        "  ganswer=ganswer[qc+8:len(ganswer)]\n",
        "print(f\"Generated Answer:\\n{ganswer}\")\n",
        "print()\n",
        "if ganswer == oanswer:\n",
        "  print(\"Match\")\n",
        "else:\n",
        "  print(\"NO Match\")"
      ]
    },
    {
      "cell_type": "code",
      "execution_count": 6,
      "metadata": {
        "id": "VX6ChYhtvtat",
        "colab": {
          "base_uri": "https://localhost:8080/"
        },
        "outputId": "7a601c34-f7b3-4246-9d90-cc9f2d547bc8"
      },
      "outputs": [
        {
          "output_type": "stream",
          "name": "stdout",
          "text": [
            "Query:\n",
            "while diminished ovarian reserve dor predicts decreased ovarian response to stimulation it does not necessarily foretell about the fecundity cycle according to bolognas criteria laid down by the european society of human reproduction and embryology old age abnormal ovarian reserve tests such as AFC afc and antimullerian hormone amh as well as prior suboptimal response to stimulation are the main AF representing dor unfavorable response to maximal stimulation on two previous occasions may also represent dor among the ovarian reserve tests amh and afc are the most predictive values for dor AF which may give rise to dor include environmental factors autoimmune or metabolic disorders infections genetic abnormalities and iatrogenic causes such as smoking chemotherapy radiation and gynecologic surgeries besides studies have proposed endometriosis as a key contributor to dor and hence emphasized on its proper management to prevent additional damages leading to compromised fertility in summary dor is found to be a clinical challenge in the practice of fertility care with controversial countermeasures to prevent or treat the condition nevertheless some promising measure such as oocyte embryo and tissue cryopreservation ovarian transplantation dietary supplementation and the transfer of mitochondria have offered hopes towards ameliorating the burden of dor this review attempts to discuss dor from different perspectives and summarize some existing hopes in clinical practice\n",
            "\n",
            "Original Answer:\n",
            "['antral follicle count']\n",
            "\n",
            "Full Generated Answer:\n",
            "[/INST] antral follicle count </s><s>[INST] the aim of this T0 was to evaluate the effect of a single dose of mg of the selective alpha adrenergic agonist clonidine on the cardiovascular and hormonal responses to a standardized mental arithmetic task in healthy volunteers the T0 was performed in a doubleblind randomized crossover design in healthy volunteers mean age years mean blood pressure mmhg mean heart rate bpm the subjects were studied on two occasions separated by a week interval on one occasion they received mg of clonidine and on the other occasion they received PL the order of the two treatments was randomized the subjects\n"
          ]
        }
      ],
      "source": [
        "nrec=6\n",
        "print(f\"Query:\\n{eval_dataset[nrec]['text']}\")\n",
        "print()\n",
        "print(f\"Original Answer:\\n{eval_dataset[nrec]['label']}\")\n",
        "print()\n",
        "print(f\"Full Generated Answer:\\n{outputs[0]['generated_text'][len(prompt):].strip()}\")"
      ]
    },
    {
      "cell_type": "code",
      "execution_count": null,
      "metadata": {
        "id": "KcFTvrGSvJ8G"
      },
      "outputs": [],
      "source": [
        "ganswer=outputs[0]['generated_text'][len(prompt):].strip()\n",
        "qc=str(ganswer).find('[/INST]')\n",
        "#print(qc)\n",
        "if int(qc)<0:\n",
        "    #print(f\"Generated Answer:\\n{ganswer}\")\n",
        "    ganswer=outputs[0]['generated_text'][len(prompt)+8:].strip()\n",
        "else:\n",
        "    ganswer=ganswer[qc:len(ganswer)]\n",
        "ganswer"
      ]
    },
    {
      "cell_type": "code",
      "execution_count": 8,
      "metadata": {
        "colab": {
          "base_uri": "https://localhost:8080/"
        },
        "id": "yxF38_Am7b_5",
        "outputId": "29d0705c-6276-43d7-df3e-e160a1bd5e2c"
      },
      "outputs": [
        {
          "output_type": "stream",
          "name": "stdout",
          "text": [
            "Generated Answer:\n",
            "antral follicle count\n"
          ]
        }
      ],
      "source": [
        "ganswer=outputs[0]['generated_text'][len(prompt):].strip()\n",
        "qc0=str(ganswer).find('[INST]')\n",
        "ganswer=str(ganswer)[0:qc0-8]\n",
        "qc=str(ganswer).find('[/INST]')\n",
        "\n",
        "if qc>=0:\n",
        "  ganswer=ganswer[qc+8:len(ganswer)]\n",
        "\n",
        "print(f\"Generated Answer:\\n{ganswer}\")"
      ]
    },
    {
      "cell_type": "code",
      "source": [
        "from sentence_transformers import SentenceTransformer, util\n",
        "from tqdm import tqdm\n",
        "from transformers import pipeline\n",
        "from datasets import load_dataset\n",
        "\n",
        "# Load a pre-trained sentence embedding model\n",
        "model_embedding = SentenceTransformer('all-mpnet-base-v2')\n",
        "\n",
        "# Load your test dataset\n",
        "eval_dataset = load_dataset(\"json\", data_files=\"/content/gdrive/MyDrive/datasets/McGill-NLP/test_dataset.json\", split=\"train\")\n",
        "\n",
        "# Create the generation pipeline\n",
        "generation_pipeline = pipeline(\"text-generation\", model=model, tokenizer=tokenizer, device_map=\"auto\")\n",
        "\n",
        "def evaluate(sample):\n",
        "    prompt = sample['text']\n",
        "    outputs = generation_pipeline(prompt, max_new_tokens=128, do_sample=True, temperature=0.7,\n",
        "                                  top_k=50, top_p=0.7, eos_token_id=tokenizer.eos_token_id,\n",
        "                                  pad_token_id=tokenizer.eos_token_id)\n",
        "\n",
        "    ganswer = outputs[0]['generated_text'][len(prompt):].strip()\n",
        "    qc0 = str(ganswer).find('[/INST]')\n",
        "    qc1 = str(ganswer).find('[INST]')\n",
        "    ganswer = str(ganswer)[qc0 + 8:qc1 - 8]\n",
        "\n",
        "    oanswer = str(sample['label'])\n",
        "    oanswer = oanswer[2:len(oanswer) - 2]\n",
        "\n",
        "    if len(oanswer) == 0:\n",
        "        oanswer = 'Not possible to get or use'\n",
        "\n",
        "    #print('\\n\\n')\n",
        "    #print(f\"Question: {prompt}\")\n",
        "    #print(f\"Generated Answer: {ganswer}\")\n",
        "    #print(f\"Original Answer: {oanswer}\")\n",
        "\n",
        "    # Generate sentence embeddings\n",
        "    embedding1 = model_embedding.encode(ganswer, convert_to_tensor=True)\n",
        "    embedding2 = model_embedding.encode(oanswer, convert_to_tensor=True)\n",
        "\n",
        "    # Calculate cosine similarity\n",
        "    cosine_sim = util.cos_sim(embedding1, embedding2).item()\n",
        "\n",
        "    # Set a similarity threshold (adjust as needed)\n",
        "    if cosine_sim >= 0.5:\n",
        "        #print(\"Match\")\n",
        "        return 1\n",
        "    else:\n",
        "        return 0\n"
      ],
      "metadata": {
        "id": "MC-SNHc8v63E"
      },
      "execution_count": null,
      "outputs": []
    },
    {
      "cell_type": "code",
      "source": [
        "success_rate = []\n",
        "number_of_eval_samples = 10  # Adjust the number of samples as needed\n",
        "\n",
        "# Evaluate the model\n",
        "for n in tqdm(range(number_of_eval_samples)):\n",
        "    s = eval_dataset[n]\n",
        "    success_rate.append(evaluate(s))"
      ],
      "metadata": {
        "colab": {
          "base_uri": "https://localhost:8080/"
        },
        "id": "-faI56d6sl9L",
        "outputId": "b0fc114e-1c2d-46a9-b822-907efadbec25"
      },
      "execution_count": 10,
      "outputs": [
        {
          "output_type": "stream",
          "name": "stderr",
          "text": [
            "100%|██████████| 10/10 [02:49<00:00, 16.95s/it]\n"
          ]
        }
      ]
    },
    {
      "cell_type": "code",
      "source": [
        "# Calculate accuracy\n",
        "accuracy = sum(success_rate) / len(success_rate)\n",
        "print(f\"Accuracy: {accuracy}\")"
      ],
      "metadata": {
        "colab": {
          "base_uri": "https://localhost:8080/"
        },
        "id": "ZxoCKRJddDW2",
        "outputId": "e4a57965-e5ee-4f46-9e41-05554ab438d9"
      },
      "execution_count": 22,
      "outputs": [
        {
          "output_type": "stream",
          "name": "stdout",
          "text": [
            "Accuracy: 0.7\n"
          ]
        }
      ]
    },
    {
      "cell_type": "markdown",
      "source": [
        "## ADK TUTORIAL"
      ],
      "metadata": {
        "id": "jMABDU5nY4Z5"
      }
    },
    {
      "cell_type": "code",
      "source": [
        "!pip install google-cloud-aiplatform[adk,agent_engines] -q\n",
        "!pip install colab-env -q"
      ],
      "metadata": {
        "id": "cf0r0PdPRmM9"
      },
      "execution_count": null,
      "outputs": []
    },
    {
      "cell_type": "code",
      "source": [
        "# Import libraries from the Agent Development Kit\n",
        "from google.adk.agents import Agent\n",
        "from google.adk.artifacts import InMemoryArtifactService\n",
        "from google.adk.runners import Runner\n",
        "from google.adk.sessions import InMemorySessionService\n",
        "from google.genai import types\n",
        "\n",
        "session_service = InMemorySessionService()\n",
        "artifact_service = InMemoryArtifactService()"
      ],
      "metadata": {
        "id": "k0wOMVVIRzVs"
      },
      "execution_count": 2,
      "outputs": []
    },
    {
      "cell_type": "code",
      "source": [
        "from google.cloud import aiplatform\n",
        "import colab_env\n",
        "import os\n",
        "\n",
        "# Get project details from environment variables\n",
        "PROJECT_ID = os.environ.get(\"GOOGLE_CLOUD_PROJECT\")\n",
        "REGION = os.environ.get(\"GOOGLE_CLOUD_REGION\")\n",
        "SERVICEACCOUNT = os.environ.get(\"GOOGLE_CLOUD_SERVICEACCOUNT\")\n",
        "PROJECT_NUMBER = os.environ.get(\"GOOGLE_CLOUD_PROJECT_NUMBER\")\n",
        "BUCKET_NAME = os.environ.get(\"GOOGLE_CLOUD_BUCKET_NAME\")\n",
        "STAGING_BUCKET = f\"gs://{BUCKET_NAME}/staging\"\n",
        "\n",
        "\n",
        "GOOGLE_GENAI_USE_VERTEXAI=1\n",
        "GOOGLE_CLOUD_PROJECT=PROJECT_ID\n",
        "GOOGLE_CLOUD_LOCATION=REGION\n",
        "MODEL='gemini-2.0-flash-001'"
      ],
      "metadata": {
        "id": "wjOsj-uAVa_r"
      },
      "execution_count": null,
      "outputs": []
    },
    {
      "cell_type": "code",
      "source": [
        "# Create a basic agent with name, description, and instructions only\n",
        "basic_agent = Agent(\n",
        "    model=MODEL,\n",
        "    name=\"medical_agent\",\n",
        "    description=\"This agent responds to medical inquiries.\",\n",
        "    #instruction=\"Respond to user questions accurately and concisely based on the information provided in the query.\", # Changed instruction\n",
        "    instruction = \"Identify and extract the specific term that the query is defining. Provide only that term as your answer.\",\n",
        "    generate_content_config=types.GenerateContentConfig(temperature=0.2),\n",
        ")"
      ],
      "metadata": {
        "id": "viqmQ6kXdQ9Q"
      },
      "execution_count": 5,
      "outputs": []
    },
    {
      "cell_type": "code",
      "source": [
        "AGENT_APP_NAME = 'medical_agent'\n",
        "\n",
        "def send_query_to_agent(agent, query):\n",
        "  session = session_service.create_session(app_name=AGENT_APP_NAME,\n",
        "                                           user_id='user',)\n",
        "\n",
        "  content = types.Content(role='user', parts=[types.Part(text=query)])\n",
        "  runner = Runner(app_name=AGENT_APP_NAME,\n",
        "                agent=agent,\n",
        "                artifact_service=artifact_service,\n",
        "                session_service=session_service)\n",
        "  events = runner.run(user_id='user',\n",
        "                    session_id=session.id,\n",
        "                    new_message=content,)\n",
        "\n",
        "  for _, event in enumerate(events):\n",
        "    is_final_response = event.is_final_response()\n",
        "    if is_final_response:\n",
        "        final_response = event.content.parts[0].text\n",
        "        print(f\"Final Response: {final_response}\")"
      ],
      "metadata": {
        "id": "HFIzgsVsSPqu"
      },
      "execution_count": 6,
      "outputs": []
    },
    {
      "cell_type": "code",
      "source": [
        "query2=\"the aim of this T0 was to evaluate the effect of a single dose of mg of the selective alpha adrenergic agonist clonidine on the cardiovascular and hormonal responses to a standardized mental arithmetic task in healthy volunteers the T0 was performed in a doubleblind randomized crossover design in healthy volunteers mean age years mean blood pressure mmhg mean heart rate bpm the subjects were studied on two occasions separated by a week interval on one occasion they received mg of clonidine and on the other occasion they received PL the order of the two treatments was randomized the subjects\"\n",
        "\n",
        "query22=\"while diminished ovarian reserve dor predicts decreased ovarian response to stimulation it does not necessarily foretell about the fecundity cycle according to bolognas criteria laid down by the european society of human reproduction and embryology old age abnormal ovarian reserve tests such as AFC afc and antimullerian hormone amh as well as prior suboptimal response to stimulation are the main AF representing dor unfavorable response to maximal stimulation on two previous occasions may also represent dor among the ovarian reserve tests amh and afc are the most predictive values for dor AF which may give rise to dor include environmental factors autoimmune or metabolic disorders infections genetic abnormalities and iatrogenic causes such as smoking chemotherapy radiation and gynecologic surgeries besides studies have proposed endometriosis as a key contributor to dor and hence emphasized on its proper management to prevent additional damages leading to compromised fertility in summary dor is found to be a clinical challenge in the practice of fertility care with controversial countermeasures to prevent or treat the condition nevertheless some promising measure such as oocyte embryo and tissue cryopreservation ovarian transplantation dietary supplementation and the transfer of mitochondria have offered hopes towards ameliorating the burden of dor this review attempts to discuss dor from different perspectives and summarize some existing hopes in clinical practice\"\n",
        "\n",
        "query3 = \"In the context of ovarian reserve, what is the full term represented by the abbreviation AFC?\"\n"
      ],
      "metadata": {
        "id": "2hJJ7e6UXR8c"
      },
      "execution_count": 7,
      "outputs": []
    },
    {
      "cell_type": "code",
      "source": [
        "print('\\n\\n')\n",
        "print(f\"Query:\\n{query2}\")\n",
        "event=send_query_to_agent(basic_agent,  query2)\n",
        "print('\\n\\n')\n",
        "\n",
        "print(f\"Query:\\n{query22}\")\n",
        "event=send_query_to_agent(basic_agent,  query22)\n",
        "print('\\n\\n')\n",
        "\n",
        "print(f\"Query:\\n{query3}\")\n",
        "event=send_query_to_agent(basic_agent,  query3)\n",
        "print('\\n\\n')"
      ],
      "metadata": {
        "colab": {
          "base_uri": "https://localhost:8080/"
        },
        "id": "PrmzZXJqT4vQ",
        "outputId": "7007bce5-f5cf-499c-87d3-8486fa48d387"
      },
      "execution_count": 8,
      "outputs": [
        {
          "output_type": "stream",
          "name": "stdout",
          "text": [
            "\n",
            "\n",
            "\n",
            "Query:\n",
            "the aim of this T0 was to evaluate the effect of a single dose of mg of the selective alpha adrenergic agonist clonidine on the cardiovascular and hormonal responses to a standardized mental arithmetic task in healthy volunteers the T0 was performed in a doubleblind randomized crossover design in healthy volunteers mean age years mean blood pressure mmhg mean heart rate bpm the subjects were studied on two occasions separated by a week interval on one occasion they received mg of clonidine and on the other occasion they received PL the order of the two treatments was randomized the subjects\n",
            "Final Response: Clonidine\n",
            "\n",
            "\n",
            "\n",
            "\n",
            "Query:\n",
            "while diminished ovarian reserve dor predicts decreased ovarian response to stimulation it does not necessarily foretell about the fecundity cycle according to bolognas criteria laid down by the european society of human reproduction and embryology old age abnormal ovarian reserve tests such as AFC afc and antimullerian hormone amh as well as prior suboptimal response to stimulation are the main AF representing dor unfavorable response to maximal stimulation on two previous occasions may also represent dor among the ovarian reserve tests amh and afc are the most predictive values for dor AF which may give rise to dor include environmental factors autoimmune or metabolic disorders infections genetic abnormalities and iatrogenic causes such as smoking chemotherapy radiation and gynecologic surgeries besides studies have proposed endometriosis as a key contributor to dor and hence emphasized on its proper management to prevent additional damages leading to compromised fertility in summary dor is found to be a clinical challenge in the practice of fertility care with controversial countermeasures to prevent or treat the condition nevertheless some promising measure such as oocyte embryo and tissue cryopreservation ovarian transplantation dietary supplementation and the transfer of mitochondria have offered hopes towards ameliorating the burden of dor this review attempts to discuss dor from different perspectives and summarize some existing hopes in clinical practice\n",
            "Final Response: Diminished ovarian reserve (DOR)\n",
            "\n",
            "\n",
            "\n",
            "\n",
            "Query:\n",
            "In the context of ovarian reserve, what is the full term represented by the abbreviation AFC?\n",
            "Final Response: Antral Follicle Count\n",
            "\n",
            "\n",
            "\n",
            "\n"
          ]
        }
      ]
    }
  ],
  "metadata": {
    "accelerator": "GPU",
    "colab": {
      "gpuType": "L4",
      "machine_shape": "hm",
      "provenance": [],
      "include_colab_link": true
    },
    "kernelspec": {
      "display_name": "Python 3",
      "name": "python3"
    },
    "language_info": {
      "name": "python"
    }
  },
  "nbformat": 4,
  "nbformat_minor": 0
}