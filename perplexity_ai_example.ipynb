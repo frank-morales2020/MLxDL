{
  "nbformat": 4,
  "nbformat_minor": 0,
  "metadata": {
    "colab": {
      "provenance": [],
      "machine_shape": "hm",
      "gpuType": "L4",
      "authorship_tag": "ABX9TyPJWOl3diIpenweC+HDp6SI",
      "include_colab_link": true
    },
    "kernelspec": {
      "name": "python3",
      "display_name": "Python 3"
    },
    "language_info": {
      "name": "python"
    },
    "accelerator": "GPU"
  },
  "cells": [
    {
      "cell_type": "markdown",
      "metadata": {
        "id": "view-in-github",
        "colab_type": "text"
      },
      "source": [
        "<a href=\"https://colab.research.google.com/github/frank-morales2020/MLxDL/blob/main/perplexity_ai_example.ipynb\" target=\"_parent\"><img src=\"https://colab.research.google.com/assets/colab-badge.svg\" alt=\"Open In Colab\"/></a>"
      ]
    },
    {
      "cell_type": "code",
      "source": [
        "!pip install evaluate -q"
      ],
      "metadata": {
        "id": "ASHqq4jap_Jg"
      },
      "execution_count": null,
      "outputs": []
    },
    {
      "cell_type": "code",
      "source": [
        "!nvidia-smi"
      ],
      "metadata": {
        "colab": {
          "base_uri": "https://localhost:8080/"
        },
        "id": "la3aRQwim0v4",
        "outputId": "f09a6182-d396-4540-d930-88a3281231ef"
      },
      "execution_count": 4,
      "outputs": [
        {
          "output_type": "stream",
          "name": "stdout",
          "text": [
            "Wed Oct 16 18:33:53 2024       \n",
            "+---------------------------------------------------------------------------------------+\n",
            "| NVIDIA-SMI 535.104.05             Driver Version: 535.104.05   CUDA Version: 12.2     |\n",
            "|-----------------------------------------+----------------------+----------------------+\n",
            "| GPU  Name                 Persistence-M | Bus-Id        Disp.A | Volatile Uncorr. ECC |\n",
            "| Fan  Temp   Perf          Pwr:Usage/Cap |         Memory-Usage | GPU-Util  Compute M. |\n",
            "|                                         |                      |               MIG M. |\n",
            "|=========================================+======================+======================|\n",
            "|   0  NVIDIA L4                      Off | 00000000:00:03.0 Off |                    0 |\n",
            "| N/A   69C    P0              31W /  72W |    797MiB / 23034MiB |      0%      Default |\n",
            "|                                         |                      |                  N/A |\n",
            "+-----------------------------------------+----------------------+----------------------+\n",
            "                                                                                         \n",
            "+---------------------------------------------------------------------------------------+\n",
            "| Processes:                                                                            |\n",
            "|  GPU   GI   CI        PID   Type   Process name                            GPU Memory |\n",
            "|        ID   ID                                                             Usage      |\n",
            "|=======================================================================================|\n",
            "+---------------------------------------------------------------------------------------+\n"
          ]
        }
      ]
    },
    {
      "cell_type": "code",
      "source": [
        "from transformers import AutoModelForCausalLM, AutoTokenizer\n",
        "import evaluate\n",
        "\n",
        "# Load pre-trained GPT-2 model and tokenizer\n",
        "model_id = 'gpt2'  # You can use other models like 'gpt2-medium', 'gpt2-large', etc.\n",
        "model = AutoModelForCausalLM.from_pretrained(model_id)\n",
        "tokenizer = AutoTokenizer.from_pretrained(model_id)\n"
      ],
      "metadata": {
        "id": "jhHYdrHahBzb"
      },
      "execution_count": null,
      "outputs": []
    },
    {
      "cell_type": "code",
      "source": [
        "# Load the perplexity metric from the Hugging Face Evaluate library\n",
        "perplexity = evaluate.load(\"perplexity\", module_type=\"metric\")\n",
        "\n",
        "\n",
        "# Example sentences to calculate perplexity\n",
        "sentences = [\n",
        "    \"The cat sat on the mat.\",\n",
        "    \"This sentence is grammatically correct but nonsensical.\",\n",
        "    \"Colorless green ideas sleep furiously.\"  # Famous Chomsky example\n",
        "]\n",
        "\n",
        "# Calculate perplexity for each sentence\n",
        "results = perplexity.compute(model_id=model_id,\n",
        "                            add_start_token=False,\n",
        "                            predictions=sentences)"
      ],
      "metadata": {
        "id": "OoiRIVDLnnWC"
      },
      "execution_count": null,
      "outputs": []
    },
    {
      "cell_type": "code",
      "source": [
        "# Print the results\n",
        "for i, sentence in enumerate(sentences):\n",
        "    print(f\"Sentence: {sentence}\")\n",
        "    print(f\"Perplexity: {results['perplexities'][i]:.2f}\\n\")\n",
        "\n",
        "# Print the average perplexity\n",
        "print(f\"Average Perplexity: {results['mean_perplexity']:.2f}\")"
      ],
      "metadata": {
        "colab": {
          "base_uri": "https://localhost:8080/"
        },
        "id": "UeXfIwBnhp_m",
        "outputId": "39c72fcc-d3f1-46ca-9712-f62f5dadd9ac"
      },
      "execution_count": 18,
      "outputs": [
        {
          "output_type": "stream",
          "name": "stdout",
          "text": [
            "Sentence: The cat sat on the mat.\n",
            "Perplexity: 90.24\n",
            "\n",
            "Sentence: This sentence is grammatically correct but nonsensical.\n",
            "Perplexity: 56.17\n",
            "\n",
            "Sentence: Colorless green ideas sleep furiously.\n",
            "Perplexity: 6413.37\n",
            "\n",
            "Average Perplexity: 2186.60\n"
          ]
        }
      ]
    }
  ]
}